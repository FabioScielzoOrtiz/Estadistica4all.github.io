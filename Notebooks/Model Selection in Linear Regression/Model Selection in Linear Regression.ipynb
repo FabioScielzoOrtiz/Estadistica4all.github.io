{
 "cells": [
  {
   "cell_type": "markdown",
   "metadata": {},
   "source": [
    "# Model Selection in Linear Regression"
   ]
  },
  {
   "cell_type": "markdown",
   "metadata": {},
   "source": [
    "## Index\n",
    "\n",
    "* [Data-set ](#1)\n",
    "\n",
    "  <br>\n",
    "  \n",
    "* [F-test: test to compare models](#2)\n",
    "* * [F-test in `Python`](#3)\n",
    "* * [F-test in `R`](#4)\n",
    "* * [ANOVA test as a F-test](#3)\n",
    "* * [Significance test as a F-test](#4)\n",
    "\n",
    "<br>\n",
    "\n",
    "* [Iterative Algorithms](#5) \n",
    "* * [Metrics]\n",
    "* * * [$\\widehat{R}^2] \n",
    "* * * [AIC]\n",
    "* * * [BIC]\n",
    "* * * [Cp]\n",
    "* * [Best Subset Selection](#6) \n",
    "* * [Forward](#7) \n",
    "* * [Backward](#8) \n",
    "\n",
    "  \n"
   ]
  },
  {
   "cell_type": "markdown",
   "metadata": {},
   "source": []
  },
  {
   "cell_type": "markdown",
   "metadata": {},
   "source": [
    "## Data-set <a class=\"anchor\" id=\"1\"></a>"
   ]
  },
  {
   "cell_type": "markdown",
   "metadata": {},
   "source": [
    "The description of the data-set that we are going to use could be found in the following article:\n",
    "\n",
    "https://fabioscielzoortiz.github.io/Estadistica4all.github.io/Articulos/Linear%20Regression%20in%20Python%20and%20R.html"
   ]
  },
  {
   "cell_type": "markdown",
   "metadata": {},
   "source": []
  },
  {
   "cell_type": "markdown",
   "metadata": {},
   "source": [
    "### Loading the data-set in `Python` <a class=\"anchor\" id=\"2\"></a>"
   ]
  },
  {
   "cell_type": "code",
   "execution_count": 48,
   "metadata": {},
   "outputs": [],
   "source": [
    "import pandas as pd\n",
    "import numpy as np"
   ]
  },
  {
   "cell_type": "code",
   "execution_count": 49,
   "metadata": {},
   "outputs": [],
   "source": [
    "data_Python = pd.read_csv('data_Python_copy.csv')"
   ]
  },
  {
   "cell_type": "markdown",
   "metadata": {},
   "source": []
  },
  {
   "cell_type": "markdown",
   "metadata": {},
   "source": [
    "Converting $quality$ variable to categorical:"
   ]
  },
  {
   "cell_type": "code",
   "execution_count": 50,
   "metadata": {},
   "outputs": [],
   "source": [
    "data_Python['quality'] = data_Python['quality'].astype('category')"
   ]
  },
  {
   "cell_type": "markdown",
   "metadata": {},
   "source": []
  },
  {
   "cell_type": "code",
   "execution_count": 51,
   "metadata": {},
   "outputs": [
    {
     "data": {
      "text/html": [
       "<div>\n",
       "<style scoped>\n",
       "    .dataframe tbody tr th:only-of-type {\n",
       "        vertical-align: middle;\n",
       "    }\n",
       "\n",
       "    .dataframe tbody tr th {\n",
       "        vertical-align: top;\n",
       "    }\n",
       "\n",
       "    .dataframe thead th {\n",
       "        text-align: right;\n",
       "    }\n",
       "</style>\n",
       "<table border=\"1\" class=\"dataframe\">\n",
       "  <thead>\n",
       "    <tr style=\"text-align: right;\">\n",
       "      <th></th>\n",
       "      <th>price</th>\n",
       "      <th>size_in_m_2</th>\n",
       "      <th>longitude</th>\n",
       "      <th>latitude</th>\n",
       "      <th>no_of_bedrooms</th>\n",
       "      <th>no_of_bathrooms</th>\n",
       "      <th>quality</th>\n",
       "    </tr>\n",
       "  </thead>\n",
       "  <tbody>\n",
       "    <tr>\n",
       "      <th>0</th>\n",
       "      <td>2700000</td>\n",
       "      <td>100.242337</td>\n",
       "      <td>55.138932</td>\n",
       "      <td>25.113208</td>\n",
       "      <td>1</td>\n",
       "      <td>2</td>\n",
       "      <td>1</td>\n",
       "    </tr>\n",
       "    <tr>\n",
       "      <th>1</th>\n",
       "      <td>2850000</td>\n",
       "      <td>146.972546</td>\n",
       "      <td>55.151201</td>\n",
       "      <td>25.106809</td>\n",
       "      <td>2</td>\n",
       "      <td>2</td>\n",
       "      <td>1</td>\n",
       "    </tr>\n",
       "    <tr>\n",
       "      <th>2</th>\n",
       "      <td>1150000</td>\n",
       "      <td>181.253753</td>\n",
       "      <td>55.137728</td>\n",
       "      <td>25.063302</td>\n",
       "      <td>3</td>\n",
       "      <td>5</td>\n",
       "      <td>1</td>\n",
       "    </tr>\n",
       "    <tr>\n",
       "      <th>3</th>\n",
       "      <td>2850000</td>\n",
       "      <td>187.664060</td>\n",
       "      <td>55.341761</td>\n",
       "      <td>25.227295</td>\n",
       "      <td>2</td>\n",
       "      <td>3</td>\n",
       "      <td>0</td>\n",
       "    </tr>\n",
       "    <tr>\n",
       "      <th>4</th>\n",
       "      <td>1729200</td>\n",
       "      <td>47.101821</td>\n",
       "      <td>55.139764</td>\n",
       "      <td>25.114275</td>\n",
       "      <td>0</td>\n",
       "      <td>1</td>\n",
       "      <td>1</td>\n",
       "    </tr>\n",
       "    <tr>\n",
       "      <th>5</th>\n",
       "      <td>3119900</td>\n",
       "      <td>94.296545</td>\n",
       "      <td>55.139764</td>\n",
       "      <td>25.114275</td>\n",
       "      <td>1</td>\n",
       "      <td>2</td>\n",
       "      <td>1</td>\n",
       "    </tr>\n",
       "    <tr>\n",
       "      <th>6</th>\n",
       "      <td>8503600</td>\n",
       "      <td>191.565986</td>\n",
       "      <td>55.139764</td>\n",
       "      <td>25.114275</td>\n",
       "      <td>2</td>\n",
       "      <td>3</td>\n",
       "      <td>2</td>\n",
       "    </tr>\n",
       "  </tbody>\n",
       "</table>\n",
       "</div>"
      ],
      "text/plain": [
       "     price  size_in_m_2  longitude   latitude  no_of_bedrooms  \\\n",
       "0  2700000   100.242337  55.138932  25.113208               1   \n",
       "1  2850000   146.972546  55.151201  25.106809               2   \n",
       "2  1150000   181.253753  55.137728  25.063302               3   \n",
       "3  2850000   187.664060  55.341761  25.227295               2   \n",
       "4  1729200    47.101821  55.139764  25.114275               0   \n",
       "5  3119900    94.296545  55.139764  25.114275               1   \n",
       "6  8503600   191.565986  55.139764  25.114275               2   \n",
       "\n",
       "   no_of_bathrooms quality  \n",
       "0                2       1  \n",
       "1                2       1  \n",
       "2                5       1  \n",
       "3                3       0  \n",
       "4                1       1  \n",
       "5                2       1  \n",
       "6                3       2  "
      ]
     },
     "execution_count": 51,
     "metadata": {},
     "output_type": "execute_result"
    }
   ],
   "source": [
    "data_Python.head(7)"
   ]
  },
  {
   "cell_type": "markdown",
   "metadata": {},
   "source": []
  },
  {
   "cell_type": "markdown",
   "metadata": {},
   "source": [
    "### Loading the data-set in `R` <a class=\"anchor\" id=\"2\"></a>"
   ]
  },
  {
   "cell_type": "code",
   "execution_count": 52,
   "metadata": {},
   "outputs": [
    {
     "name": "stdout",
     "output_type": "stream",
     "text": [
      "The rpy2.ipython extension is already loaded. To reload it, use:\n",
      "  %reload_ext rpy2.ipython\n"
     ]
    }
   ],
   "source": [
    "import rpy2\n",
    "\n",
    "%load_ext rpy2.ipython\n",
    "\n",
    "import rpy2.robjects as robjects"
   ]
  },
  {
   "cell_type": "code",
   "execution_count": 53,
   "metadata": {},
   "outputs": [
    {
     "name": "stdout",
     "output_type": "stream",
     "text": [
      "Rows: 1905 Columns: 7\n",
      "-- Column specification --------------------------------------------------------\n",
      "Delimiter: \",\"\n",
      "dbl (7): price, size_in_m_2, longitude, latitude, no_of_bedrooms, no_of_bath...\n",
      "\n",
      "i Use `spec()` to retrieve the full column specification for this data.\n",
      "i Specify the column types or set `show_col_types = FALSE` to quiet this message.\n"
     ]
    }
   ],
   "source": [
    "%%R \n",
    "\n",
    "library(tidyverse)\n",
    "\n",
    "data_R = read_csv('data_Python_copy.csv')"
   ]
  },
  {
   "cell_type": "markdown",
   "metadata": {},
   "source": []
  },
  {
   "cell_type": "markdown",
   "metadata": {},
   "source": [
    "Converting $quality$ variable to categorical:"
   ]
  },
  {
   "cell_type": "code",
   "execution_count": 54,
   "metadata": {},
   "outputs": [],
   "source": [
    "%%R\n",
    "data_R$quality <- as.factor(data_R$quality)"
   ]
  },
  {
   "cell_type": "markdown",
   "metadata": {},
   "source": []
  },
  {
   "cell_type": "code",
   "execution_count": 55,
   "metadata": {},
   "outputs": [
    {
     "name": "stdout",
     "output_type": "stream",
     "text": [
      "# A tibble: 7 x 7\n",
      "    price size_in_m_2 longitude latitude no_of_bedrooms no_of_bathrooms quality\n",
      "    <dbl>       <dbl>     <dbl>    <dbl>          <dbl>           <dbl> <fct>  \n",
      "1 2700000       100.       55.1     25.1              1               2 1      \n",
      "2 2850000       147.       55.2     25.1              2               2 1      \n",
      "3 1150000       181.       55.1     25.1              3               5 1      \n",
      "4 2850000       188.       55.3     25.2              2               3 0      \n",
      "5 1729200        47.1      55.1     25.1              0               1 1      \n",
      "6 3119900        94.3      55.1     25.1              1               2 1      \n",
      "7 8503600       192.       55.1     25.1              2               3 2      \n"
     ]
    }
   ],
   "source": [
    "%%R\n",
    "\n",
    "data_R[1:7, ]"
   ]
  },
  {
   "cell_type": "markdown",
   "metadata": {},
   "source": []
  },
  {
   "cell_type": "markdown",
   "metadata": {},
   "source": []
  },
  {
   "cell_type": "markdown",
   "metadata": {},
   "source": [
    "## F-test: test to compare models <a class=\"anchor\" id=\"2\"></a>\n"
   ]
  },
  {
   "cell_type": "markdown",
   "metadata": {},
   "source": [
    "The ANOVA and significance test are a particular case of a more general test that is useful to compere linear regression models, under the assumptions of the model.\n",
    "\n",
    "-   We have a linear regression model with $k$ coefficients (betas)\n",
    "    $\\hspace{0.1cm} \\Rightarrow \\hspace{0.1cm} \\Omega_k$\n",
    "\n",
    "     -  $\\Omega_k \\ : \\  \\ y_i = \\beta_0 + \\beta_1\\cdot x_{i1} +...+ \\beta_{k-1}\\cdot x_{i(k-1)} + \\varepsilon_i$ \n",
    "\n",
    "<br>\n",
    "\n",
    "-   We have another linear regression model with only\n",
    "    $q<k$ coefficientss of $\\Omega_p$ $\\hspace{0.1cm} \\Rightarrow \\hspace{0.1cm}  \\omega_q$\n",
    "\n",
    "     -  $\\omega_q \\ : \\  \\ y_i = \\beta_0 + \\beta_1\\cdot x_{i1} +...+ \\beta_{q-1}\\cdot x_{i(q-1)} + \\varepsilon_i \\hspace{0.2cm}$ , with $q < k$\n",
    "\n",
    "<br>\n",
    "\n",
    "-   $\\omega_q$ is a sub-model of $\\Omega_k$ , we can denote this as\n",
    "    $\\hspace{0.1cm} \\omega_q \\subset \\Omega_k$\n",
    "    \n"
   ]
  },
  {
   "cell_type": "markdown",
   "metadata": {},
   "source": []
  },
  {
   "cell_type": "markdown",
   "metadata": {},
   "source": [
    "\n",
    "\n",
    "The hypothesis test we want to carry out is the following:\n",
    "\n",
    "$$\n",
    "H_0: \\hspace{0.15cm} \\omega_q  \\\\\n",
    "H_1: \\hspace{0.15cm} \\Omega_p\n",
    "$$\n",
    "\n",
    "\n",
    "Where :\n",
    "\n",
    "- $\\omega_q \\subset \\Omega_p$\n",
    "\n",
    "- Reject $H_0$ means  $\\Omega_k$ is a \"better\" model than $\\omega_q$,\n",
    "\n",
    "- Not Reject $H_0$ means $\\Omega_k$ isn´t a \"better\" model than $\\omega_q$\n",
    "\n",
    "<br>\n"
   ]
  },
  {
   "cell_type": "markdown",
   "metadata": {},
   "source": [
    "\n",
    "Now we have to determinate a rule to reject $H_0$ in favor of $H_1$ or not\n",
    "\n",
    "A first approach is the following:\n",
    "\n",
    "Let :\n",
    "\n",
    "$$\n",
    "RSS_{\\Omega_k} =  \\sum_{i=1}^n ( \\hat{\\varepsilon}_{\\Omega_k \\hspace{0.05cm},\\hspace{0.05cm} i} )^2 =  \\sum_{i=1}^n \\left( y_i - \\hat{y}_{\\hspace{0.01cm} \\Omega_k \\hspace{0.05cm},\\hspace{0.02cm} i}\\right)^2   \n",
    "$$\n",
    "\n",
    "$$\n",
    "RSS_{\\omega_q} =  \\sum_{i=1}^n ( \\hat{\\varepsilon}_{\\omega_q \\hspace{0.05cm},\\hspace{0.05cm} i} )^2 =  \\sum_{i=1}^n \\left( y_i - \\hat{y}_{\\omega_q \\hspace{0.05cm},\\hspace{0.02cm} i}\\right)^2\n",
    "$$\n"
   ]
  },
  {
   "cell_type": "markdown",
   "metadata": {},
   "source": [
    "\n",
    "-   If $RSS_{\\omega_q} - RSS_{\\Omega_k}$ is **small**, then the\n",
    "    predictions of the smaller model are almost as good as the larger\n",
    "    model, so we would prefer the smaller model on the grounds of\n",
    "    simplicity.\n",
    "\n",
    "-   If $RSS_{\\omega_q} - RSS_{\\Omega_k}$ is **large**, then the\n",
    "    predictions of the smaller model are much worse than the larger\n",
    "    model, so we would prefer the larger model.\n",
    "\n"
   ]
  },
  {
   "cell_type": "markdown",
   "metadata": {},
   "source": [
    "\n",
    "That suggest that something like\n",
    "\n",
    "$$\n",
    "\\dfrac{RSS_{\\omega_q} - RSS_{\\Omega_k}}{RSS_{\\Omega_k}}\n",
    "$$\n",
    "\n",
    "would be a potentially good test statistic, where the denominator is used for scaling purposes.\n",
    "\n"
   ]
  },
  {
   "cell_type": "markdown",
   "metadata": {},
   "source": []
  },
  {
   "cell_type": "markdown",
   "metadata": {},
   "source": [
    "\n",
    "\n",
    "### Statistic Test\n",
    "\n",
    "Finally we can get to an statistic test based on the previous\n",
    "expression, called F-statistic:\n",
    "\n"
   ]
  },
  {
   "cell_type": "markdown",
   "metadata": {},
   "source": [
    "\n",
    "$$\n",
    "F=\\dfrac{(RSS_{\\omega_q} - RSS_{\\Omega_k})/(k-q)}{RSS_{\\Omega_k}/(n-k)} \\sim F_{\\hspace{0.05cm} k-q \\hspace{0.05cm},\\hspace{0.05cm} n-k}\n",
    "$$\n"
   ]
  },
  {
   "cell_type": "markdown",
   "metadata": {},
   "source": [
    "\n",
    "Where:\n",
    "\n",
    "$k$ is the number of coefficients (betas) of the model $\\Omega_k$\n",
    "\n",
    "$q$ is the number of coefficients (bets) of the model $\\omega_q$\n",
    "\n",
    "\n",
    "The beauty of this approach is you only need to know the general form.\n",
    "In any particular case, you just need to figure out which model\n",
    "represent the null and alternative hypothesis, fit them and compute the test statistic.\n",
    "\n",
    "\n"
   ]
  },
  {
   "cell_type": "markdown",
   "metadata": {},
   "source": []
  },
  {
   "cell_type": "markdown",
   "metadata": {},
   "source": [
    "### F-test in Python <a class=\"anchor\" id=\"3\"></a>"
   ]
  },
  {
   "cell_type": "markdown",
   "metadata": {},
   "source": []
  },
  {
   "cell_type": "code",
   "execution_count": 56,
   "metadata": {},
   "outputs": [],
   "source": [
    "import statsmodels.formula.api as smf\n",
    "\n",
    "from statsmodels.stats.anova import anova_lm\n",
    "\n",
    "from statsmodels.formula.api import ols"
   ]
  },
  {
   "cell_type": "code",
   "execution_count": 57,
   "metadata": {},
   "outputs": [],
   "source": [
    "M1_py = smf.ols(formula = 'price ~ size_in_m_2*quality  + no_of_bedrooms + no_of_bathrooms + latitude + longitude', \n",
    "                 data =data_Python).fit()\n",
    "\n",
    "M2_py = smf.ols(formula = 'price ~ size_in_m_2 + no_of_bedrooms + no_of_bathrooms + quality + latitude + longitude ', \n",
    "                 data =data_Python).fit()\n",
    "\n",
    "M3_py = smf.ols(formula = 'price ~ size_in_m_2 + no_of_bedrooms + no_of_bathrooms + latitude + longitude', \n",
    "                 data =data_Python).fit()\n",
    "\n",
    "M4_py = smf.ols(formula = 'price ~ size_in_m_2 + no_of_bedrooms + no_of_bathrooms', \n",
    "                 data =data_Python).fit()\n",
    "\n",
    "M5_py = smf.ols(formula = 'price ~ size_in_m_2', \n",
    "                 data =data_Python).fit()"
   ]
  },
  {
   "cell_type": "markdown",
   "metadata": {},
   "source": [
    "$M1$:$\\hspace{0.15cm}$ price ~ size_in_m_2*quality  + no_of_bedrooms + no_of_bathrooms + latitude + longitude\n",
    "\n",
    "$M2$:$\\hspace{0.15cm}$  price ~ size_in_m_2 + no_of_bedrooms + no_of_bathrooms + quality + latitude + longitude \n",
    "\n",
    "$M3$:$\\hspace{0.15cm}$  price ~ size_in_m_2 + no_of_bedrooms + no_of_bathrooms + latitude + longitude\n",
    "\n",
    "$M4$:$\\hspace{0.15cm}$  price ~ size_in_m_2 + no_of_bedrooms + no_of_bathrooms\n",
    "\n",
    "$M5$:$\\hspace{0.15cm}$  price ~ size_in_m_2\n"
   ]
  },
  {
   "cell_type": "markdown",
   "metadata": {},
   "source": [
    "\n",
    "Note that:\n",
    "\n",
    "$M5 \\subset M4 \\subset M3 \\subset M2 \\subset M1$"
   ]
  },
  {
   "cell_type": "markdown",
   "metadata": {},
   "source": []
  },
  {
   "cell_type": "markdown",
   "metadata": {},
   "source": [
    "> anova_lm(Model $H_0$ , Model $H_1$)\n",
    "\n",
    "Remember that: $\\hspace{0.15cm}$ Model $H_0$ $\\subset$ Model $H_1$"
   ]
  },
  {
   "cell_type": "code",
   "execution_count": 58,
   "metadata": {},
   "outputs": [
    {
     "data": {
      "text/html": [
       "<div>\n",
       "<style scoped>\n",
       "    .dataframe tbody tr th:only-of-type {\n",
       "        vertical-align: middle;\n",
       "    }\n",
       "\n",
       "    .dataframe tbody tr th {\n",
       "        vertical-align: top;\n",
       "    }\n",
       "\n",
       "    .dataframe thead th {\n",
       "        text-align: right;\n",
       "    }\n",
       "</style>\n",
       "<table border=\"1\" class=\"dataframe\">\n",
       "  <thead>\n",
       "    <tr style=\"text-align: right;\">\n",
       "      <th></th>\n",
       "      <th>df_resid</th>\n",
       "      <th>ssr</th>\n",
       "      <th>df_diff</th>\n",
       "      <th>ss_diff</th>\n",
       "      <th>F</th>\n",
       "      <th>Pr(&gt;F)</th>\n",
       "    </tr>\n",
       "  </thead>\n",
       "  <tbody>\n",
       "    <tr>\n",
       "      <th>0</th>\n",
       "      <td>1896.0</td>\n",
       "      <td>4.882082e+15</td>\n",
       "      <td>0.0</td>\n",
       "      <td>NaN</td>\n",
       "      <td>NaN</td>\n",
       "      <td>NaN</td>\n",
       "    </tr>\n",
       "    <tr>\n",
       "      <th>1</th>\n",
       "      <td>1893.0</td>\n",
       "      <td>4.694567e+15</td>\n",
       "      <td>3.0</td>\n",
       "      <td>1.875147e+14</td>\n",
       "      <td>25.203983</td>\n",
       "      <td>5.483226e-16</td>\n",
       "    </tr>\n",
       "  </tbody>\n",
       "</table>\n",
       "</div>"
      ],
      "text/plain": [
       "   df_resid           ssr  df_diff       ss_diff          F        Pr(>F)\n",
       "0    1896.0  4.882082e+15      0.0           NaN        NaN           NaN\n",
       "1    1893.0  4.694567e+15      3.0  1.875147e+14  25.203983  5.483226e-16"
      ]
     },
     "execution_count": 58,
     "metadata": {},
     "output_type": "execute_result"
    }
   ],
   "source": [
    "anova_lm(M2_py, M1_py)"
   ]
  },
  {
   "cell_type": "code",
   "execution_count": 59,
   "metadata": {},
   "outputs": [
    {
     "data": {
      "text/html": [
       "<div>\n",
       "<style scoped>\n",
       "    .dataframe tbody tr th:only-of-type {\n",
       "        vertical-align: middle;\n",
       "    }\n",
       "\n",
       "    .dataframe tbody tr th {\n",
       "        vertical-align: top;\n",
       "    }\n",
       "\n",
       "    .dataframe thead th {\n",
       "        text-align: right;\n",
       "    }\n",
       "</style>\n",
       "<table border=\"1\" class=\"dataframe\">\n",
       "  <thead>\n",
       "    <tr style=\"text-align: right;\">\n",
       "      <th></th>\n",
       "      <th>df_resid</th>\n",
       "      <th>ssr</th>\n",
       "      <th>df_diff</th>\n",
       "      <th>ss_diff</th>\n",
       "      <th>F</th>\n",
       "      <th>Pr(&gt;F)</th>\n",
       "    </tr>\n",
       "  </thead>\n",
       "  <tbody>\n",
       "    <tr>\n",
       "      <th>0</th>\n",
       "      <td>1899.0</td>\n",
       "      <td>4.898667e+15</td>\n",
       "      <td>0.0</td>\n",
       "      <td>NaN</td>\n",
       "      <td>NaN</td>\n",
       "      <td>NaN</td>\n",
       "    </tr>\n",
       "    <tr>\n",
       "      <th>1</th>\n",
       "      <td>1896.0</td>\n",
       "      <td>4.882082e+15</td>\n",
       "      <td>3.0</td>\n",
       "      <td>1.658498e+13</td>\n",
       "      <td>2.146975</td>\n",
       "      <td>0.092395</td>\n",
       "    </tr>\n",
       "  </tbody>\n",
       "</table>\n",
       "</div>"
      ],
      "text/plain": [
       "   df_resid           ssr  df_diff       ss_diff         F    Pr(>F)\n",
       "0    1899.0  4.898667e+15      0.0           NaN       NaN       NaN\n",
       "1    1896.0  4.882082e+15      3.0  1.658498e+13  2.146975  0.092395"
      ]
     },
     "execution_count": 59,
     "metadata": {},
     "output_type": "execute_result"
    }
   ],
   "source": [
    "anova_lm(M3_py, M2_py)"
   ]
  },
  {
   "cell_type": "code",
   "execution_count": 60,
   "metadata": {},
   "outputs": [
    {
     "data": {
      "text/html": [
       "<div>\n",
       "<style scoped>\n",
       "    .dataframe tbody tr th:only-of-type {\n",
       "        vertical-align: middle;\n",
       "    }\n",
       "\n",
       "    .dataframe tbody tr th {\n",
       "        vertical-align: top;\n",
       "    }\n",
       "\n",
       "    .dataframe thead th {\n",
       "        text-align: right;\n",
       "    }\n",
       "</style>\n",
       "<table border=\"1\" class=\"dataframe\">\n",
       "  <thead>\n",
       "    <tr style=\"text-align: right;\">\n",
       "      <th></th>\n",
       "      <th>df_resid</th>\n",
       "      <th>ssr</th>\n",
       "      <th>df_diff</th>\n",
       "      <th>ss_diff</th>\n",
       "      <th>F</th>\n",
       "      <th>Pr(&gt;F)</th>\n",
       "    </tr>\n",
       "  </thead>\n",
       "  <tbody>\n",
       "    <tr>\n",
       "      <th>0</th>\n",
       "      <td>1901.0</td>\n",
       "      <td>5.080302e+15</td>\n",
       "      <td>0.0</td>\n",
       "      <td>NaN</td>\n",
       "      <td>NaN</td>\n",
       "      <td>NaN</td>\n",
       "    </tr>\n",
       "    <tr>\n",
       "      <th>1</th>\n",
       "      <td>1899.0</td>\n",
       "      <td>4.898667e+15</td>\n",
       "      <td>2.0</td>\n",
       "      <td>1.816345e+14</td>\n",
       "      <td>35.205892</td>\n",
       "      <td>9.703235e-16</td>\n",
       "    </tr>\n",
       "  </tbody>\n",
       "</table>\n",
       "</div>"
      ],
      "text/plain": [
       "   df_resid           ssr  df_diff       ss_diff          F        Pr(>F)\n",
       "0    1901.0  5.080302e+15      0.0           NaN        NaN           NaN\n",
       "1    1899.0  4.898667e+15      2.0  1.816345e+14  35.205892  9.703235e-16"
      ]
     },
     "execution_count": 60,
     "metadata": {},
     "output_type": "execute_result"
    }
   ],
   "source": [
    "anova_lm(M4_py, M3_py)"
   ]
  },
  {
   "cell_type": "code",
   "execution_count": 61,
   "metadata": {},
   "outputs": [
    {
     "data": {
      "text/html": [
       "<div>\n",
       "<style scoped>\n",
       "    .dataframe tbody tr th:only-of-type {\n",
       "        vertical-align: middle;\n",
       "    }\n",
       "\n",
       "    .dataframe tbody tr th {\n",
       "        vertical-align: top;\n",
       "    }\n",
       "\n",
       "    .dataframe thead th {\n",
       "        text-align: right;\n",
       "    }\n",
       "</style>\n",
       "<table border=\"1\" class=\"dataframe\">\n",
       "  <thead>\n",
       "    <tr style=\"text-align: right;\">\n",
       "      <th></th>\n",
       "      <th>df_resid</th>\n",
       "      <th>ssr</th>\n",
       "      <th>df_diff</th>\n",
       "      <th>ss_diff</th>\n",
       "      <th>F</th>\n",
       "      <th>Pr(&gt;F)</th>\n",
       "    </tr>\n",
       "  </thead>\n",
       "  <tbody>\n",
       "    <tr>\n",
       "      <th>0</th>\n",
       "      <td>1903.0</td>\n",
       "      <td>5.593743e+15</td>\n",
       "      <td>0.0</td>\n",
       "      <td>NaN</td>\n",
       "      <td>NaN</td>\n",
       "      <td>NaN</td>\n",
       "    </tr>\n",
       "    <tr>\n",
       "      <th>1</th>\n",
       "      <td>1893.0</td>\n",
       "      <td>4.694567e+15</td>\n",
       "      <td>10.0</td>\n",
       "      <td>8.991756e+14</td>\n",
       "      <td>36.257642</td>\n",
       "      <td>2.127326e-65</td>\n",
       "    </tr>\n",
       "  </tbody>\n",
       "</table>\n",
       "</div>"
      ],
      "text/plain": [
       "   df_resid           ssr  df_diff       ss_diff          F        Pr(>F)\n",
       "0    1903.0  5.593743e+15      0.0           NaN        NaN           NaN\n",
       "1    1893.0  4.694567e+15     10.0  8.991756e+14  36.257642  2.127326e-65"
      ]
     },
     "execution_count": 61,
     "metadata": {},
     "output_type": "execute_result"
    }
   ],
   "source": [
    "anova_lm(M5_py, M1_py)"
   ]
  },
  {
   "cell_type": "markdown",
   "metadata": {},
   "source": []
  },
  {
   "cell_type": "markdown",
   "metadata": {},
   "source": [
    "### F-test in R <a class=\"anchor\" id=\"4\"></a>"
   ]
  },
  {
   "cell_type": "code",
   "execution_count": 62,
   "metadata": {},
   "outputs": [],
   "source": [
    "%%R\n",
    "\n",
    "M1_R <- lm( price ~ size_in_m_2*quality  + no_of_bedrooms + no_of_bathrooms + latitude + longitude , data = data_R)\n",
    "\n",
    "M2_R <- lm( price ~ size_in_m_2 + no_of_bedrooms + no_of_bathrooms + quality + latitude + longitude , data = data_R)\n",
    "\n",
    "M3_R <- lm( price ~ size_in_m_2 + no_of_bedrooms + no_of_bathrooms + latitude + longitude , data = data_R)\n",
    "\n",
    "M4_R <- lm( price ~ size_in_m_2 + no_of_bedrooms + no_of_bathrooms , data = data_R)\n",
    "\n",
    "M5_R <- lm( price ~ size_in_m_2 , data = data_R)"
   ]
  },
  {
   "cell_type": "markdown",
   "metadata": {},
   "source": []
  },
  {
   "cell_type": "code",
   "execution_count": 63,
   "metadata": {},
   "outputs": [
    {
     "name": "stdout",
     "output_type": "stream",
     "text": [
      "Analysis of Variance Table\n",
      "\n",
      "Model 1: price ~ size_in_m_2 + no_of_bedrooms + no_of_bathrooms + quality + \n",
      "    latitude + longitude\n",
      "Model 2: price ~ size_in_m_2 * quality + no_of_bedrooms + no_of_bathrooms + \n",
      "    latitude + longitude\n",
      "  Res.Df        RSS Df  Sum of Sq      F    Pr(>F)    \n",
      "1   1896 4.8821e+15                                   \n",
      "2   1893 4.6946e+15  3 1.8751e+14 25.204 5.483e-16 ***\n",
      "---\n",
      "Signif. codes:  0 '***' 0.001 '**' 0.01 '*' 0.05 '.' 0.1 ' ' 1\n"
     ]
    }
   ],
   "source": [
    "%%R\n",
    "\n",
    "anova(M2_R, M1_R)"
   ]
  },
  {
   "cell_type": "markdown",
   "metadata": {},
   "source": []
  },
  {
   "cell_type": "code",
   "execution_count": 64,
   "metadata": {},
   "outputs": [
    {
     "name": "stdout",
     "output_type": "stream",
     "text": [
      "Analysis of Variance Table\n",
      "\n",
      "Model 1: price ~ size_in_m_2 + no_of_bedrooms + no_of_bathrooms + latitude + \n",
      "    longitude\n",
      "Model 2: price ~ size_in_m_2 + no_of_bedrooms + no_of_bathrooms + quality + \n",
      "    latitude + longitude\n",
      "  Res.Df        RSS Df  Sum of Sq     F Pr(>F)  \n",
      "1   1899 4.8987e+15                             \n",
      "2   1896 4.8821e+15  3 1.6585e+13 2.147 0.0924 .\n",
      "---\n",
      "Signif. codes:  0 '***' 0.001 '**' 0.01 '*' 0.05 '.' 0.1 ' ' 1\n"
     ]
    }
   ],
   "source": [
    "%%R\n",
    "\n",
    "anova(M3_R, M2_R)"
   ]
  },
  {
   "cell_type": "markdown",
   "metadata": {},
   "source": []
  },
  {
   "cell_type": "code",
   "execution_count": 65,
   "metadata": {},
   "outputs": [
    {
     "name": "stdout",
     "output_type": "stream",
     "text": [
      "Analysis of Variance Table\n",
      "\n",
      "Model 1: price ~ size_in_m_2 + no_of_bedrooms + no_of_bathrooms\n",
      "Model 2: price ~ size_in_m_2 + no_of_bedrooms + no_of_bathrooms + latitude + \n",
      "    longitude\n",
      "  Res.Df        RSS Df  Sum of Sq      F    Pr(>F)    \n",
      "1   1901 5.0803e+15                                   \n",
      "2   1899 4.8987e+15  2 1.8163e+14 35.206 9.703e-16 ***\n",
      "---\n",
      "Signif. codes:  0 '***' 0.001 '**' 0.01 '*' 0.05 '.' 0.1 ' ' 1\n"
     ]
    }
   ],
   "source": [
    "%%R\n",
    "\n",
    "anova(M4_R, M3_R)"
   ]
  },
  {
   "cell_type": "markdown",
   "metadata": {},
   "source": []
  },
  {
   "cell_type": "code",
   "execution_count": 66,
   "metadata": {},
   "outputs": [
    {
     "name": "stdout",
     "output_type": "stream",
     "text": [
      "Analysis of Variance Table\n",
      "\n",
      "Model 1: price ~ size_in_m_2\n",
      "Model 2: price ~ size_in_m_2 * quality + no_of_bedrooms + no_of_bathrooms + \n",
      "    latitude + longitude\n",
      "  Res.Df        RSS Df  Sum of Sq      F    Pr(>F)    \n",
      "1   1903 5.5937e+15                                   \n",
      "2   1893 4.6946e+15 10 8.9918e+14 36.258 < 2.2e-16 ***\n",
      "---\n",
      "Signif. codes:  0 '***' 0.001 '**' 0.01 '*' 0.05 '.' 0.1 ' ' 1\n"
     ]
    }
   ],
   "source": [
    "%%R\n",
    "\n",
    "anova(M5_R, M1_R)"
   ]
  },
  {
   "cell_type": "markdown",
   "metadata": {},
   "source": []
  },
  {
   "cell_type": "markdown",
   "metadata": {},
   "source": []
  },
  {
   "cell_type": "markdown",
   "metadata": {},
   "source": [
    "### ANOVA test as a F-test <a class=\"anchor\" id=\"3\"></a>\n",
    "\n",
    "\n",
    "\n",
    "Remember that the hypothesis of the ANOVA test are these:\n",
    "\n",
    "\\begin{gather*}\n",
    "\\hspace{-0.7 cm} H_0: \\hspace{0.15cm} \\beta_1=...=\\beta_p=0 \\\\\n",
    "H_1: \\hspace{0.15cm} \\exists \\ j=1,...,p , \\hspace{0.2cm} \\beta_j \\neq 0\n",
    "\\end{gather*}\n",
    "\n",
    "\n",
    "Let us consider the following models:\n",
    "\n",
    "-   $\\Omega_k \\ : \\  \\ y_i = \\beta_0 + \\beta_1\\cdot x_{i1} +...+ \\beta_{p}\\cdot x_{ip} + \\varepsilon_i$\n",
    "\n",
    "-   $\\omega_q \\ : \\ \\ y_i = \\beta_0 + \\varepsilon_i \\hspace{0.15cm}$ (The\n",
    "    Null Model)\n"
   ]
  },
  {
   "cell_type": "markdown",
   "metadata": {},
   "source": [
    "\n",
    "Then, the ANOVA test is equivalent to the following:\n",
    "\n",
    "\\begin{gather*}\n",
    "H_0: \\hspace{0.15cm}  \\ \\hat{y}_i = \\beta_0 + \\beta_1\\cdot x_{i1} +...+ \\beta_{p}\\cdot x_{ip} + \\varepsilon_i  \\ \\hspace{0.2cm} ( \\Omega_p ) \\\\\n",
    "\\hspace{-3.7cm} H_1: \\hspace{0.15cm} \\hat{y}_i = \\beta_0 + \\varepsilon_i  \\ \\hspace{0.2cm} (  \\omega_q )\n",
    "\\end{gather*}\n",
    "\n",
    "\n",
    "Where:\n",
    "\n",
    "- $k=p+1$\n",
    "\n",
    "- $q=1$\n",
    "\n",
    "-   $RSS_{\\Omega_k} = \\sum_{i=1}^n ( y_i - \\hat{y}_{\\hspace{0.01cm} \\Omega_k \\hspace{0.05cm},\\hspace{0.02cm} i})^2 = \\sum_{i=1}^n \\left( y_i - ( \\hat{\\beta}_0 + \\hat{\\beta}_1\\cdot x_{i1} +...+ \\hat{\\beta}_{p}\\cdot x_{ip} ) \\right)^2$\n",
    "\n",
    "-   $RSS_{\\omega_q} = \\sum_{i=1}^n ( y_i - \\hat{y}_{\\hspace{0.01cm} \\omega_k \\hspace{0.05cm},\\hspace{0.02cm} i})^2 = \\sum_{i=1}^n ( y_i - \\hat{\\beta}_0 )^2$\n",
    "\n",
    "-   Note that in the null model $\\hspace{0.1cm} \\hat{\\beta}_0=\\overline{y} \\hspace{0.1cm}$, therefore we have $\\hspace{0.1cm} RSS_{\\omega_q}=\\sum_{i=1}^n ( y_i - \\overline{y} )^2= TSS_{\\omega_q}= TSS_{\\Omega_k}=TSS$\n",
    "\n"
   ]
  },
  {
   "cell_type": "markdown",
   "metadata": {},
   "source": [
    "\n",
    "\n",
    "Using these facts and the F-statistic we get the statistic test of the ANOVA test:\n",
    "\n",
    "<br>\n",
    "\n",
    "\\begin{gather*}\n",
    "F=\\dfrac{(RSS_{\\omega_q} - RSS_{\\Omega_k})/(k-q)}{RSS_{\\Omega_k}/(n-k)} = \\dfrac{(TSS-RSS)/(k-1)}{RSS/(n-k)} \\sim F_{k-1 \\hspace{0.03cm},\\hspace{0.03cm} n-k}\n",
    "\\end{gather*}\n",
    "\n"
   ]
  },
  {
   "cell_type": "markdown",
   "metadata": {},
   "source": [
    "\n",
    "\n",
    "Where:\n",
    "\n",
    "$TSS= RSS_{\\omega_q}$\n",
    "\n",
    "$RSS= RSS_{\\Omega_k}$\n",
    "\n",
    "\n"
   ]
  },
  {
   "cell_type": "markdown",
   "metadata": {},
   "source": []
  },
  {
   "cell_type": "markdown",
   "metadata": {},
   "source": [
    "#### Anova test as an F-test in Python\n"
   ]
  },
  {
   "cell_type": "markdown",
   "metadata": {},
   "source": []
  },
  {
   "cell_type": "code",
   "execution_count": 67,
   "metadata": {},
   "outputs": [],
   "source": [
    "full_model_py = smf.ols(formula = 'price ~ size_in_m_2 + no_of_bedrooms + no_of_bathrooms + quality + latitude + longitude', \n",
    "                        data =data_Python).fit()\n",
    "\n",
    "null_model_py = smf.ols(formula = 'price ~ 1', data =data_Python).fit()"
   ]
  },
  {
   "cell_type": "code",
   "execution_count": 68,
   "metadata": {},
   "outputs": [
    {
     "data": {
      "text/html": [
       "<div>\n",
       "<style scoped>\n",
       "    .dataframe tbody tr th:only-of-type {\n",
       "        vertical-align: middle;\n",
       "    }\n",
       "\n",
       "    .dataframe tbody tr th {\n",
       "        vertical-align: top;\n",
       "    }\n",
       "\n",
       "    .dataframe thead th {\n",
       "        text-align: right;\n",
       "    }\n",
       "</style>\n",
       "<table border=\"1\" class=\"dataframe\">\n",
       "  <thead>\n",
       "    <tr style=\"text-align: right;\">\n",
       "      <th></th>\n",
       "      <th>df_resid</th>\n",
       "      <th>ssr</th>\n",
       "      <th>df_diff</th>\n",
       "      <th>ss_diff</th>\n",
       "      <th>F</th>\n",
       "      <th>Pr(&gt;F)</th>\n",
       "    </tr>\n",
       "  </thead>\n",
       "  <tbody>\n",
       "    <tr>\n",
       "      <th>0</th>\n",
       "      <td>1904.0</td>\n",
       "      <td>1.615874e+16</td>\n",
       "      <td>0.0</td>\n",
       "      <td>NaN</td>\n",
       "      <td>NaN</td>\n",
       "      <td>NaN</td>\n",
       "    </tr>\n",
       "    <tr>\n",
       "      <th>1</th>\n",
       "      <td>1896.0</td>\n",
       "      <td>4.882082e+15</td>\n",
       "      <td>8.0</td>\n",
       "      <td>1.127666e+16</td>\n",
       "      <td>547.423881</td>\n",
       "      <td>0.0</td>\n",
       "    </tr>\n",
       "  </tbody>\n",
       "</table>\n",
       "</div>"
      ],
      "text/plain": [
       "   df_resid           ssr  df_diff       ss_diff           F  Pr(>F)\n",
       "0    1904.0  1.615874e+16      0.0           NaN         NaN     NaN\n",
       "1    1896.0  4.882082e+15      8.0  1.127666e+16  547.423881     0.0"
      ]
     },
     "execution_count": 68,
     "metadata": {},
     "output_type": "execute_result"
    }
   ],
   "source": [
    "anova_lm(null_model_py , full_model_py)"
   ]
  },
  {
   "cell_type": "markdown",
   "metadata": {},
   "source": []
  },
  {
   "cell_type": "markdown",
   "metadata": {},
   "source": [
    "#### Anova test as an F-test in R\n"
   ]
  },
  {
   "cell_type": "markdown",
   "metadata": {},
   "source": []
  },
  {
   "cell_type": "code",
   "execution_count": 69,
   "metadata": {},
   "outputs": [],
   "source": [
    "%%R\n",
    "\n",
    "full_model_R <- lm( price ~ size_in_m_2 + no_of_bedrooms + no_of_bathrooms + quality + latitude + longitude , data = data_R)\n",
    "null_model_R <- lm( price ~ 1 , data = data_R)"
   ]
  },
  {
   "cell_type": "code",
   "execution_count": 70,
   "metadata": {},
   "outputs": [
    {
     "name": "stdout",
     "output_type": "stream",
     "text": [
      "Analysis of Variance Table\n",
      "\n",
      "Model 1: price ~ 1\n",
      "Model 2: price ~ size_in_m_2 + no_of_bedrooms + no_of_bathrooms + quality + \n",
      "    latitude + longitude\n",
      "  Res.Df        RSS Df  Sum of Sq      F    Pr(>F)    \n",
      "1   1904 1.6159e+16                                   \n",
      "2   1896 4.8821e+15  8 1.1277e+16 547.42 < 2.2e-16 ***\n",
      "---\n",
      "Signif. codes:  0 '***' 0.001 '**' 0.01 '*' 0.05 '.' 0.1 ' ' 1\n"
     ]
    }
   ],
   "source": [
    "%%R\n",
    "\n",
    "anova(null_model_R, full_model_R)"
   ]
  },
  {
   "cell_type": "markdown",
   "metadata": {},
   "source": []
  },
  {
   "cell_type": "markdown",
   "metadata": {},
   "source": []
  },
  {
   "cell_type": "markdown",
   "metadata": {},
   "source": [
    "### Significance test as a F-test <a class=\"anchor\" id=\"4\"></a>\n"
   ]
  },
  {
   "cell_type": "markdown",
   "metadata": {},
   "source": [
    "\n",
    "\n",
    "\n",
    "\n",
    "Remember that the hypothesis of the significance test of $\\beta_j$ are these:\n",
    "\n",
    "\\begin{gather*}\n",
    "H_0: \\beta_j=0 \\\\\n",
    "H_1: \\beta_j \\neq 0\n",
    "\\end{gather*}\n",
    "\n",
    "Let us consider the following models:\n",
    "\n",
    "-   $\\omega_q  : \\  \\ y_i = \\beta_0 + \\beta_1\\cdot x_{i1} +..+\\beta_{j-1} \\cdot x_{i,j-1}+\\beta_{j+1} \\cdot x_{i,j+1}+..+ \\beta_{p}\\cdot x_{ip} + \\varepsilon_i$\n",
    "\n",
    "-   $\\Omega_k : \\ \\ y_i = \\beta_0 + \\beta_1\\cdot x_{i1} +..+\\beta_j \\cdot x_{ij}+..+ \\beta_{p}\\cdot x_{ip} + \\varepsilon_i$\n",
    "    \n"
   ]
  },
  {
   "cell_type": "markdown",
   "metadata": {},
   "source": [
    "\n",
    "\n",
    "Then, the significance test of $\\beta_j$ is equivalent to the following:\n",
    "\n",
    "\\begin{gather*}\n",
    "H_0: \\hspace{0.2cm} y_i = \\beta_0 + \\beta_1\\cdot x_{i1} +..+\\beta_{j-1} \\cdot x_{i,j-1}+\\beta_{j+1} \\cdot x_{i,j+1}+..+ \\beta_{p}\\cdot x_{ip} + \\varepsilon_i \\ \\hspace{0.2cm} (\\omega_q) \\\\\n",
    "\\hspace{-2.7cm} H_1: \\hspace{0.2cm}  y_i = \\beta_0 + \\beta_1\\cdot x_{i1} +...+\\beta_j \\cdot x_{ij}+...+ \\beta_{p}\\cdot x_{ip} + \\varepsilon_i  \\ \\hspace{0.2cm} ( \\Omega_k )\n",
    "\\end{gather*}\n",
    "\n"
   ]
  },
  {
   "cell_type": "markdown",
   "metadata": {},
   "source": [
    "\n",
    "Where:\n",
    "\n",
    "- $k=p+1$\n",
    "\n",
    "- $q=k-1=p$\n",
    "\n",
    "-   $RSS_{\\omega_q} = \\sum_{i=1}^n ( y_i - \\hat{y}_{\\hspace{0.01cm} \\omega_k \\hspace{0.02cm},\\hspace{0.02cm} i})^2 = \\sum_{i=1}^n \\left( y_i - ( \\hat{\\beta}_0 + \\hat{\\beta}_1\\cdot x_{i1}  +..+ \\hat{\\beta}_{j-1} \\cdot x_{i,j-1} +  \\hat{\\beta}_{j+1} \\cdot x_{i,j+1}+..+...+ \\hat{\\beta}_{p}\\cdot x_{ip} ) \\right)^2$\n",
    "\n",
    "-   $RSS_{\\Omega_k} = \\sum_{i=1}^n ( y_i - \\hat{y}_{\\hspace{0.01cm} \\Omega_k \\hspace{0.02cm},\\hspace{0.02cm} i})^2 = \\sum_{i=1}^n\\left( y_i -  ( \\hat{\\beta}_0 + \\hat{\\beta}_1\\cdot x_{i1}  +... +  \\hat{\\beta}_{j} \\cdot x_{i,j}+...+ \\hat{\\beta}_{p}\\cdot x_{ip} )  \\right)^2$\n",
    "\n"
   ]
  },
  {
   "cell_type": "markdown",
   "metadata": {},
   "source": [
    "\n",
    "\n",
    "So, the statistic test is obtained applying the F-statistic formula:\n",
    "\n",
    "\\begin{gather*}\n",
    "F=\\dfrac{(RSS_{\\omega_q} - RSS_{\\Omega_k})/(k-q)}{RSS_{\\Omega_k}/(n-k)} \\sim F_{k-q, n-k}\n",
    "\\end{gather*}\n",
    "\n",
    "\n",
    "\n",
    "The results of the test using the F-test is approximately equal to the result obtained with the other alternative (t-test)."
   ]
  },
  {
   "cell_type": "markdown",
   "metadata": {},
   "source": [
    "**Important**: $\\hspace{0.1cm}$ this is the way to test the significance of categorical variables (compare the model without the categorical variable vs the model with it), and also to test the significance of two or more variables at the same time."
   ]
  },
  {
   "cell_type": "markdown",
   "metadata": {},
   "source": []
  },
  {
   "cell_type": "markdown",
   "metadata": {},
   "source": [
    "#### Significance test as a F-test in Python"
   ]
  },
  {
   "cell_type": "markdown",
   "metadata": {},
   "source": [
    "$$\n",
    "H_0: \\beta_{quality} = 0 \\\\\n",
    "H_1: \\beta_{quality} \\neq 0\n",
    "$$"
   ]
  },
  {
   "cell_type": "code",
   "execution_count": 71,
   "metadata": {},
   "outputs": [],
   "source": [
    "Model_with_quality_py =  smf.ols(formula = 'price ~ size_in_m_2 + no_of_bedrooms + no_of_bathrooms + quality + latitude + longitude', data =data_Python).fit()\n",
    "Model_without_quality_py =  smf.ols(formula = 'price ~ size_in_m_2 + no_of_bedrooms + no_of_bathrooms + latitude + longitude', data =data_Python).fit()"
   ]
  },
  {
   "cell_type": "code",
   "execution_count": 72,
   "metadata": {},
   "outputs": [
    {
     "data": {
      "text/html": [
       "<div>\n",
       "<style scoped>\n",
       "    .dataframe tbody tr th:only-of-type {\n",
       "        vertical-align: middle;\n",
       "    }\n",
       "\n",
       "    .dataframe tbody tr th {\n",
       "        vertical-align: top;\n",
       "    }\n",
       "\n",
       "    .dataframe thead th {\n",
       "        text-align: right;\n",
       "    }\n",
       "</style>\n",
       "<table border=\"1\" class=\"dataframe\">\n",
       "  <thead>\n",
       "    <tr style=\"text-align: right;\">\n",
       "      <th></th>\n",
       "      <th>df_resid</th>\n",
       "      <th>ssr</th>\n",
       "      <th>df_diff</th>\n",
       "      <th>ss_diff</th>\n",
       "      <th>F</th>\n",
       "      <th>Pr(&gt;F)</th>\n",
       "    </tr>\n",
       "  </thead>\n",
       "  <tbody>\n",
       "    <tr>\n",
       "      <th>0</th>\n",
       "      <td>1899.0</td>\n",
       "      <td>4.898667e+15</td>\n",
       "      <td>0.0</td>\n",
       "      <td>NaN</td>\n",
       "      <td>NaN</td>\n",
       "      <td>NaN</td>\n",
       "    </tr>\n",
       "    <tr>\n",
       "      <th>1</th>\n",
       "      <td>1896.0</td>\n",
       "      <td>4.882082e+15</td>\n",
       "      <td>3.0</td>\n",
       "      <td>1.658498e+13</td>\n",
       "      <td>2.146975</td>\n",
       "      <td>0.092395</td>\n",
       "    </tr>\n",
       "  </tbody>\n",
       "</table>\n",
       "</div>"
      ],
      "text/plain": [
       "   df_resid           ssr  df_diff       ss_diff         F    Pr(>F)\n",
       "0    1899.0  4.898667e+15      0.0           NaN       NaN       NaN\n",
       "1    1896.0  4.882082e+15      3.0  1.658498e+13  2.146975  0.092395"
      ]
     },
     "execution_count": 72,
     "metadata": {},
     "output_type": "execute_result"
    }
   ],
   "source": [
    "anova_lm(Model_without_quality_py, Model_with_quality_py)"
   ]
  },
  {
   "cell_type": "markdown",
   "metadata": {},
   "source": []
  },
  {
   "cell_type": "markdown",
   "metadata": {},
   "source": [
    "$$\n",
    "\\hspace{-1.4cm} H_0: \\beta_{longitude}= \\beta_{latitude} = 0 \\\\\n",
    "H_1: \\hspace{0.3cm} \\beta_{longitude}\\neq 0 \\hspace{0.2cm} or \\hspace{0.2cm} \\beta_{longitude}\\neq 0\n",
    "$$"
   ]
  },
  {
   "cell_type": "code",
   "execution_count": 73,
   "metadata": {},
   "outputs": [],
   "source": [
    "M1_py = smf.ols(formula = 'price ~ size_in_m_2 + no_of_bedrooms + no_of_bathrooms + quality', data=data_Python).fit()\n",
    "M2_py = smf.ols(formula = 'price ~ size_in_m_2 + no_of_bedrooms + no_of_bathrooms + quality + latitude + longitude', data =data_Python).fit()"
   ]
  },
  {
   "cell_type": "code",
   "execution_count": 74,
   "metadata": {},
   "outputs": [
    {
     "data": {
      "text/html": [
       "<div>\n",
       "<style scoped>\n",
       "    .dataframe tbody tr th:only-of-type {\n",
       "        vertical-align: middle;\n",
       "    }\n",
       "\n",
       "    .dataframe tbody tr th {\n",
       "        vertical-align: top;\n",
       "    }\n",
       "\n",
       "    .dataframe thead th {\n",
       "        text-align: right;\n",
       "    }\n",
       "</style>\n",
       "<table border=\"1\" class=\"dataframe\">\n",
       "  <thead>\n",
       "    <tr style=\"text-align: right;\">\n",
       "      <th></th>\n",
       "      <th>df_resid</th>\n",
       "      <th>ssr</th>\n",
       "      <th>df_diff</th>\n",
       "      <th>ss_diff</th>\n",
       "      <th>F</th>\n",
       "      <th>Pr(&gt;F)</th>\n",
       "    </tr>\n",
       "  </thead>\n",
       "  <tbody>\n",
       "    <tr>\n",
       "      <th>0</th>\n",
       "      <td>1898.0</td>\n",
       "      <td>5.066797e+15</td>\n",
       "      <td>0.0</td>\n",
       "      <td>NaN</td>\n",
       "      <td>NaN</td>\n",
       "      <td>NaN</td>\n",
       "    </tr>\n",
       "    <tr>\n",
       "      <th>1</th>\n",
       "      <td>1896.0</td>\n",
       "      <td>4.882082e+15</td>\n",
       "      <td>2.0</td>\n",
       "      <td>1.847150e+14</td>\n",
       "      <td>35.867848</td>\n",
       "      <td>5.131535e-16</td>\n",
       "    </tr>\n",
       "  </tbody>\n",
       "</table>\n",
       "</div>"
      ],
      "text/plain": [
       "   df_resid           ssr  df_diff       ss_diff          F        Pr(>F)\n",
       "0    1898.0  5.066797e+15      0.0           NaN        NaN           NaN\n",
       "1    1896.0  4.882082e+15      2.0  1.847150e+14  35.867848  5.131535e-16"
      ]
     },
     "execution_count": 74,
     "metadata": {},
     "output_type": "execute_result"
    }
   ],
   "source": [
    "anova_lm(M1_py, M2_py)"
   ]
  },
  {
   "cell_type": "markdown",
   "metadata": {},
   "source": []
  },
  {
   "cell_type": "markdown",
   "metadata": {},
   "source": [
    "#### Significance test as a F-test in R"
   ]
  },
  {
   "cell_type": "markdown",
   "metadata": {},
   "source": [
    "$$\n",
    "H_0: \\beta_{quality} = 0 \\\\\n",
    "H_1: \\beta_{quality} \\neq 0\n",
    "$$"
   ]
  },
  {
   "cell_type": "code",
   "execution_count": 75,
   "metadata": {},
   "outputs": [],
   "source": [
    "%%R\n",
    "\n",
    "Model_with_quality_R <- lm(price ~ size_in_m_2 + no_of_bedrooms + no_of_bathrooms + quality + latitude + longitude , data = data_R)\n",
    "Model_without_quality_R <- lm(price ~ size_in_m_2 + no_of_bedrooms + no_of_bathrooms  + latitude + longitude , data = data_R)"
   ]
  },
  {
   "cell_type": "code",
   "execution_count": 76,
   "metadata": {},
   "outputs": [
    {
     "name": "stdout",
     "output_type": "stream",
     "text": [
      "Analysis of Variance Table\n",
      "\n",
      "Model 1: price ~ size_in_m_2 + no_of_bedrooms + no_of_bathrooms + latitude + \n",
      "    longitude\n",
      "Model 2: price ~ size_in_m_2 + no_of_bedrooms + no_of_bathrooms + quality + \n",
      "    latitude + longitude\n",
      "  Res.Df        RSS Df  Sum of Sq     F Pr(>F)  \n",
      "1   1899 4.8987e+15                             \n",
      "2   1896 4.8821e+15  3 1.6585e+13 2.147 0.0924 .\n",
      "---\n",
      "Signif. codes:  0 '***' 0.001 '**' 0.01 '*' 0.05 '.' 0.1 ' ' 1\n"
     ]
    }
   ],
   "source": [
    "%%R\n",
    "\n",
    "anova(Model_without_quality_R, Model_with_quality_R)"
   ]
  },
  {
   "cell_type": "markdown",
   "metadata": {},
   "source": []
  },
  {
   "cell_type": "markdown",
   "metadata": {},
   "source": [
    "$$\n",
    "\\hspace{-1.4cm} H_0: \\beta_{longitude}= \\beta_{latitude} = 0 \\\\\n",
    "H_1: \\hspace{0.3cm} \\beta_{longitude}\\neq 0 \\hspace{0.2cm} or \\hspace{0.2cm} \\beta_{longitude}\\neq 0\n",
    "$$"
   ]
  },
  {
   "cell_type": "code",
   "execution_count": 77,
   "metadata": {},
   "outputs": [],
   "source": [
    "%%R\n",
    "\n",
    "M1_R <- lm('price ~ size_in_m_2 + no_of_bedrooms + no_of_bathrooms + quality', data=data_R)\n",
    "M2_R <- lm('price ~ size_in_m_2 + no_of_bedrooms + no_of_bathrooms + quality + latitude + longitude', data =data_R)"
   ]
  },
  {
   "cell_type": "code",
   "execution_count": 78,
   "metadata": {},
   "outputs": [
    {
     "name": "stdout",
     "output_type": "stream",
     "text": [
      "Analysis of Variance Table\n",
      "\n",
      "Model 1: price ~ size_in_m_2 + no_of_bedrooms + no_of_bathrooms + quality\n",
      "Model 2: price ~ size_in_m_2 + no_of_bedrooms + no_of_bathrooms + quality + \n",
      "    latitude + longitude\n",
      "  Res.Df        RSS Df  Sum of Sq      F    Pr(>F)    \n",
      "1   1898 5.0668e+15                                   \n",
      "2   1896 4.8821e+15  2 1.8471e+14 35.868 5.132e-16 ***\n",
      "---\n",
      "Signif. codes:  0 '***' 0.001 '**' 0.01 '*' 0.05 '.' 0.1 ' ' 1\n"
     ]
    }
   ],
   "source": [
    "%%R\n",
    "\n",
    "anova(M1_R , M2_R)"
   ]
  },
  {
   "cell_type": "markdown",
   "metadata": {},
   "source": []
  },
  {
   "cell_type": "markdown",
   "metadata": {},
   "source": []
  },
  {
   "cell_type": "markdown",
   "metadata": {},
   "source": [
    "## Iterative Algorithms <a class=\"anchor\" id=\"5\"></a>"
   ]
  },
  {
   "cell_type": "markdown",
   "metadata": {},
   "source": [
    "Now we are going to see various algorithms aimed at choosing a linear regression model over many or all possible ones, under certain criteria based in some metric."
   ]
  },
  {
   "cell_type": "markdown",
   "metadata": {},
   "source": [
    "These metrics are one of the most important concepts in modern statistics and machine learning. \n",
    "\n",
    "Some of them are:\n",
    "\n",
    "- Cross validation test error\n",
    "- $\\widehat{R}^2$  \n",
    "- AIC\n",
    "- BIC\n",
    "- Cp\n"
   ]
  },
  {
   "cell_type": "markdown",
   "metadata": {},
   "source": [
    "\n",
    "A detailed review of cross-validation methods will be done in a future article on my blog. This criterion will not be used in our practical implementation of the following iterative algorithms, because in the selection of linear regression models the most common is to use AIC, BIC or $\\widehat{R}^2$, so if we will do a review of these last.\n",
    "\n",
    "But in model selection in general, cross-validation plays a very prominent role."
   ]
  },
  {
   "cell_type": "markdown",
   "metadata": {},
   "source": []
  },
  {
   "cell_type": "markdown",
   "metadata": {},
   "source": [
    "###  $\\widehat{R}^2$ "
   ]
  },
  {
   "cell_type": "markdown",
   "metadata": {},
   "source": [
    "This metric is explained with more details in the following article about linear regression :  \n",
    "\n",
    "https://fabioscielzoortiz.github.io/Estadistica4all.github.io/Articulos/Linear%20Regression%20in%20Python%20and%20R.html"
   ]
  },
  {
   "cell_type": "markdown",
   "metadata": {},
   "source": [
    "Here we will just show the formula that characterizes the adjusted $R^2$:"
   ]
  },
  {
   "cell_type": "markdown",
   "metadata": {},
   "source": [
    "Given a linear regression model $\\hspace{0.05cm} M \\hspace{0.05cm}$  with $\\hspace{0.05cm} p_M \\hspace{0.051cm}$ predictors and $n$ observations:\n",
    "\n",
    "\\begin{gather*}\n",
    "\\widehat{R}^2 = 1 - \\left( 1- R^2 \\right) \\cdot \\dfrac{n-1}{n-p_M}\n",
    "\\end{gather*}\n",
    "\n",
    "Where:\n",
    "\n",
    "\\begin{gather*}\n",
    "R^2 = \\dfrac{RegSS}{TSS}\n",
    "\\end{gather*}"
   ]
  },
  {
   "cell_type": "markdown",
   "metadata": {},
   "source": []
  },
  {
   "cell_type": "markdown",
   "metadata": {},
   "source": [
    "This metric is usually used as a criteria to select linear regression models."
   ]
  },
  {
   "cell_type": "markdown",
   "metadata": {},
   "source": [
    "**$\\widehat{R}^2$ criteria**: \n",
    "\n",
    "Given $h$ linear regression models $\\hspace{0.1cm}M_1 , M_2, \\dots, M_h$\n",
    "\n",
    "If $\\hspace{0.1cm}  \\widehat{R}^2 (M_j) > \\widehat{R}^2 (M_r) \\hspace{0.2cm} , \\forall r \\in \\lbrace 1,...,h\\rbrace - \\lbrace j \\rbrace \\hspace{0.2cm} \\Rightarrow \\hspace{0.2cm} $ $M_j$ is selected instead of $M_r$  $ \\hspace{0.1cm} , \\forall r \\in \\lbrace 1,...,h\\rbrace - \\lbrace j \\rbrace$\n",
    "\n",
    "That is, the model with the **highest** $\\widehat{R}^2$ is selected over the rest.\n"
   ]
  },
  {
   "cell_type": "markdown",
   "metadata": {},
   "source": []
  },
  {
   "cell_type": "markdown",
   "metadata": {},
   "source": [
    "### $AIC$"
   ]
  },
  {
   "cell_type": "markdown",
   "metadata": {},
   "source": [
    "Given a linear regression model $\\hspace{0.05cm} M \\hspace{0.05cm}$  with $\\hspace{0.05cm} p_M \\hspace{0.051cm}$ predictors and $n$ observations:\n",
    "\n",
    "$$ AIC(M) = -2 \\cdot ln\\left(\\widehat{L}(M)\\right) + 2 \\cdot  \\left(\\hspace{0.1cm} p(M) +1 \\hspace{0.1cm}\\right)  $$\n",
    "\n",
    "\n",
    "Where:\n",
    "\n",
    "$\\hat{L}(M)$ is the likelihood function of the model $M$ evaluated at the MLE (Maximum Likelihood Estimators)\n",
    "\n"
   ]
  },
  {
   "cell_type": "markdown",
   "metadata": {},
   "source": []
  },
  {
   "cell_type": "markdown",
   "metadata": {},
   "source": [
    "This metric is usually used as a criteria to select linear regression models.\n",
    "\n",
    "**$AIC$ criteria**:\n",
    "\n",
    "Given $h$ linear regression models $\\hspace{0.1cm}M_1 , M_2, \\dots, M_h$\n",
    "\n",
    "If $\\hspace{0.1cm}  AIC (M_j) < AIC(M_r) \\hspace{0.2cm} , \\forall r \\in \\lbrace 1,...,h\\rbrace - \\lbrace j \\rbrace \\hspace{0.2cm} \\Rightarrow \\hspace{0.2cm} $ $M_j$ is selected instead of $M_r$  $ \\hspace{0.1cm} , \\forall r \\in \\lbrace 1,...,h\\rbrace - \\lbrace j \\rbrace$\n",
    "\n",
    "That is, the model with the **less** $AIC$ is selected over the rest.\n"
   ]
  },
  {
   "cell_type": "markdown",
   "metadata": {},
   "source": []
  },
  {
   "cell_type": "markdown",
   "metadata": {},
   "source": [
    "#### $AIC$ in Python"
   ]
  },
  {
   "cell_type": "markdown",
   "metadata": {},
   "source": []
  },
  {
   "cell_type": "markdown",
   "metadata": {},
   "source": [
    "### $BIC$"
   ]
  },
  {
   "cell_type": "markdown",
   "metadata": {},
   "source": [
    "Given a linear regression model $\\hspace{0.05cm} M \\hspace{0.05cm}$  with $\\hspace{0.05cm} p_M \\hspace{0.051cm}$ predictors and $n$ observations:\n",
    "\n",
    "$$ BIC(M) = -2 \\cdot ln\\left(\\widehat{L}(M)\\right) + \\left(\\hspace{0.1cm} p_M +1 \\hspace{0.1cm}\\right) \\cdot ln(n) $$\n",
    "\n",
    "Where:\n",
    "\n",
    "$\\hat{L}(M)$ is the likelihood function of the model $M$ evaluated at the MLE (Maximum Likelihood Estimators)"
   ]
  },
  {
   "cell_type": "markdown",
   "metadata": {},
   "source": []
  },
  {
   "cell_type": "markdown",
   "metadata": {},
   "source": [
    "This metric is usually used as a criteria to select linear regression models.\n",
    "\n",
    "$BIC$ **criteria**:\n",
    "\n",
    "\n",
    "Given $h$ linear regression models $\\hspace{0.1cm}M_1 , M_2, \\dots, M_h$\n",
    "\n",
    "If $\\hspace{0.1cm}  BIC (M_j) < BIC(M_r) \\hspace{0.2cm} , \\forall r \\in \\lbrace 1,...,h\\rbrace - \\lbrace j \\rbrace \\hspace{0.2cm} \\Rightarrow \\hspace{0.2cm} $ $M_j$ is selected instead of $M_r$  $ \\hspace{0.1cm} , \\forall r \\in \\lbrace 1,...,h\\rbrace - \\lbrace j \\rbrace$\n",
    "\n",
    "That is, the model with the **less** $BIC$ is selected over the rest."
   ]
  },
  {
   "cell_type": "markdown",
   "metadata": {},
   "source": []
  },
  {
   "cell_type": "markdown",
   "metadata": {},
   "source": [
    "#### BIC in Python"
   ]
  },
  {
   "cell_type": "markdown",
   "metadata": {},
   "source": []
  },
  {
   "cell_type": "markdown",
   "metadata": {},
   "source": [
    "### Maximum Likelihood Estimation in the Linear Regression Model\n"
   ]
  },
  {
   "cell_type": "markdown",
   "metadata": {},
   "source": [
    "Given a linear regression model $\\hspace{0.1cm} M \\hspace{0.1cm}$  with $\\hspace{0.1cm} p_M \\hspace{0.1cm}$ predictors and $n$ observations:\n",
    "\n",
    "$$ y_i \\sim N(\\hspace{0.1cm} x_i^t  \\cdot \\beta \\hspace{0.1cm} , \\hspace{0.1cm} \\sigma^2 \\hspace{0.1cm} )$$\n",
    "\n",
    "$$ y_i \\sim f(y_i) = \\dfrac{1}{\\sqrt{2\\pi \\sigma^2}} \\cdot exp\\lbrace \\hspace{0.1cm} - \\dfrac{1}{2\\sigma^2} \\cdot (y_i - x^t_i\\cdot \\beta)^2 \\hspace{0.1cm} \\rbrace $$\n"
   ]
  },
  {
   "cell_type": "markdown",
   "metadata": {},
   "source": [
    "The likelihood function of the model $M$ is:\n",
    "\n",
    "$$ L(  M )=L(\\beta, \\sigma \\hspace{0.1cm}|\\hspace{0.1cm} x_i, y_i)= \\prod_{i=1}^{n} f(y_i) = (2\\pi \\sigma^2)^{-n/2} \\cdot exp\\lbrace \\hspace{0.1cm} - \\dfrac{1}{2\\sigma^2}\\cdot \\sum_{i=1}^{n} (y_i - x^t_i\\cdot \\beta)^2 \\hspace{0.1cm} \\rbrace$$\n",
    "\n",
    "Taking natural logarithm we have:\n",
    "\n",
    "$$ln\\left(\\hspace{0.1cm}L(M)\\hspace{0.1cm}\\right)=ln(\\hspace{0.1cm} L(\\beta, \\sigma \\hspace{0.1cm}|\\hspace{0.1cm} x_i, y_i)\\hspace{0.1cm}) = - \\dfrac{n}{2} \\left(ln(2\\pi) + ln(\\sigma^2) \\right) - \\dfrac{1}{2\\sigma^2} \\sum_{i=1}^{n} \\left( y_i - x^t_i\\cdot \\beta \\right) ^2   $$\n",
    "\n"
   ]
  },
  {
   "cell_type": "markdown",
   "metadata": {},
   "source": []
  },
  {
   "cell_type": "markdown",
   "metadata": {},
   "source": [
    "The maximum likelihood estimators  of the parameters $\\hspace{0.1cm} \\beta$ , $\\sigma \\hspace{0.1cm}$ of the linear regression model $M$ are calculated as the solution of the following optimization problem:\n",
    "\n",
    "$$\n",
    "\\underset{\\beta \\hspace{0.05cm},\\hspace{0.05cm} \\sigma}{Max} \\hspace{0.2cm} ln(\\hspace{0.1cm}L(M)\\hspace{0.1cm})\n",
    "$$\n"
   ]
  },
  {
   "cell_type": "markdown",
   "metadata": {},
   "source": [
    "\n",
    "\n",
    "Solutions:\n",
    "\n",
    "$$\n",
    "\\hat{\\beta}_{MLE}=(X^t \\cdot X)^{-1} \\cdot X^t \\cdot Y = \\hat{\\beta}_{OLS}\n",
    "$$\n",
    "$$\n",
    "\\hat{\\sigma}^2_{MLE} = \\dfrac{RSS(M)}{n}\n",
    "$$\n"
   ]
  },
  {
   "cell_type": "markdown",
   "metadata": {},
   "source": [
    "\n",
    "Note that:\n",
    "\n",
    "$$\n",
    "arg \\hspace{0.1cm} \\underset{\\beta \\hspace{0.05cm},\\hspace{0.05cm} \\sigma}{Max} \\hspace{0.2cm} L(M) \\hspace{0.1cm}=\\hspace{0.1cm} arg \\hspace{0.1cm} \\underset{\\beta \\hspace{0.05cm},\\hspace{0.05cm} \\sigma}{Max} \\hspace{0.2cm} ln(\\hspace{0.1cm}L(M)\\hspace{0.1cm}) \n",
    "$$\n",
    "\n"
   ]
  },
  {
   "cell_type": "markdown",
   "metadata": {},
   "source": [
    "So, the function $\\hspace{0.1cm} ln \\left( \\hspace{0.1cm}L(M)\\hspace{0.1cm} \\right) \\hspace{0.1cm}$ evaluated in $\\hspace{0.1cm} \\beta=\\hat{\\beta}_{MLE} \\hspace{0.1cm}, \\hspace{0.1cm}\\sigma^2 = \\hat{\\sigma}^2_{MLE} \\hspace{0.1cm}$ is :\n",
    "\n",
    "$$ ln \\left( \\hspace{0.1cm}\\widehat{L}(M)\\hspace{0.1cm} \\right) =  - \\dfrac{n}{2} \\left( ln(2\\pi) + ln\\left(\\dfrac{RSS(M)}{n}\\right) - ln(n) + 1 \\right) $$\n",
    "\n"
   ]
  },
  {
   "cell_type": "markdown",
   "metadata": {},
   "source": [
    "\n",
    "Then, in the linear regression model:\n",
    "\n",
    "$$ AIC(M) = n \\cdot \\left( \\hspace{0.1cm}  ln(2\\pi) + ln(RSS(M)) - ln(n) \\hspace{0.1cm} \\right) + n + 2\\cdot (\\hspace{0.1cm}p(M) + 1\\hspace{0.1cm}) $$\n",
    "\n",
    "$$ BIC(M) =  n \\cdot \\left(  \\hspace{0.1cm} ln(2\\pi) + ln(RSS(M)) - ln(n) \\hspace{0.1cm} \\right) + n + ln(n)\\cdot(\\hspace{0.1cm} p(M) + 1 - n\\hspace{0.1cm}) $$"
   ]
  },
  {
   "cell_type": "markdown",
   "metadata": {},
   "source": []
  },
  {
   "cell_type": "markdown",
   "metadata": {},
   "source": [
    "#### $AIC$ in Python"
   ]
  },
  {
   "cell_type": "markdown",
   "metadata": {},
   "source": []
  },
  {
   "cell_type": "markdown",
   "metadata": {},
   "source": [
    "### $C_p$"
   ]
  },
  {
   "cell_type": "markdown",
   "metadata": {},
   "source": [
    "Given a full linear regression model  with $\\hspace{0.1cm} p\\hspace{0.1cm}$ predictors $\\hspace{0.1cm} M_{Full}:\\hspace{0.1cm} y_i = \\beta_0 + \\sum_{j=1}^{p} \\beta_j \\cdot X_j$\n",
    "\n",
    "Given a linear regression model $\\hspace{0.1cm} M \\subseteq M_{Full}\\hspace{0.1cm}$  with $\\hspace{0.1cm} p(M) \\leq p\\hspace{0.1cm}$ predictors and $n$ observations:\n",
    "\n",
    "$$ C_p(M) = \\dfrac{RSS(M)}{\\hat{\\sigma}_{M_{Full}}^2} - n + 2\\cdot \\left(\\hspace{0.1cm} p(M)+1 \\hspace{0.1cm}\\right) $$\n",
    "\n",
    "Where:\n",
    "\n",
    "$ \\hat{\\sigma}_{M_{Full}}^2 =  \\dfrac{RSS(M_{Full})}{n-p-1} = \\dfrac{\\sum_{i=1}^{n} (y_i - \\hat{y}_{M_{Full}, i})^2}{n-p-1}  \\hspace{0.2cm} $ is the residual variance of the full model."
   ]
  },
  {
   "cell_type": "markdown",
   "metadata": {},
   "source": []
  },
  {
   "cell_type": "markdown",
   "metadata": {},
   "source": [
    "#### $C_p$ in Python <a class=\"anchor\" id=\"6\"></a>"
   ]
  },
  {
   "cell_type": "markdown",
   "metadata": {},
   "source": []
  },
  {
   "cell_type": "markdown",
   "metadata": {},
   "source": [
    "### Best Subset Selection <a class=\"anchor\" id=\"6\"></a>"
   ]
  },
  {
   "cell_type": "markdown",
   "metadata": {},
   "source": [
    "Best subset selection  consist in the following algorithm :\n",
    "\n",
    "We have $p$ predictors: $X_1,...,X_p$\n",
    "\n",
    "- We train the null linear model $(M_0)$ \n",
    "- We train all the possible linear models with  $1$ predictor, and we select one $(M_1)$ under some criteria, for example the one with **less** $train \\hspace{0.1cm} error$.\n",
    "\n",
    "- We train all the possible linear models with $2$ predictor, and we select one $(M_2)$ under the same criteria.\n",
    "  \n",
    "   $\\dots$ \n",
    "\n",
    "- We train all the possible linear models with $p-1$ predictor, and we select one $(M_{p-1})$ under the same criteria.\n",
    "\n",
    "- We train the full linear model $(M_p)$\n",
    "\n",
    "\n",
    "We select one of the models $(M_1, M_2,...,M_{p-1},M_p)$ under some criteria, for example the one with **less**  $AIC$, $BIC$ or $Cp$, or **greater**  $\\widehat{R}^2$ . \n",
    "\n",
    "\n"
   ]
  },
  {
   "cell_type": "markdown",
   "metadata": {},
   "source": []
  },
  {
   "cell_type": "markdown",
   "metadata": {},
   "source": [
    "Scheme of the algorithm:\n",
    "\n",
    "- $M_0$\n",
    "\n",
    "- $\\lbrace \\text{models with 1 predictor} \\rbrace \\underset{ \\text{train  error} }{\\Rightarrow}M_1$\n",
    "\n",
    "- $\\lbrace \\text{models with 2 predictor} \\rbrace \\underset{ \\text{train  error} }{\\Rightarrow}M_2$\n",
    "\n",
    "$\\hspace{0.8cm} \\dots$\n",
    "\n",
    "- $\\lbrace \\text{models with}$ $p-1$ $\\text{predictor} \\rbrace \\underset{ \\text{train  error} }{\\Rightarrow}M_{p-1}$\n",
    "\n",
    "- $M_p$\n",
    "\n"
   ]
  },
  {
   "cell_type": "markdown",
   "metadata": {},
   "source": [
    "- $\\lbrace M_0, M_1 , ..., M_p \\rbrace \\underset{ AIC, BIC, C_p, \\widehat{R}^2 }{\\Rightarrow} \\hspace{0.1cm} M^* $"
   ]
  },
  {
   "cell_type": "markdown",
   "metadata": {},
   "source": []
  },
  {
   "cell_type": "markdown",
   "metadata": {},
   "source": [
    "**Problems:**\n",
    "\n",
    "- Large computational requirements: compute $2^p$ models is required, which is impossible to more than $p=40$ predictors."
   ]
  },
  {
   "cell_type": "markdown",
   "metadata": {},
   "source": []
  },
  {
   "cell_type": "markdown",
   "metadata": {},
   "source": [
    "### Best Subset Selection in Python <a class=\"anchor\" id=\"6\"></a>"
   ]
  },
  {
   "cell_type": "markdown",
   "metadata": {},
   "source": []
  },
  {
   "cell_type": "markdown",
   "metadata": {},
   "source": []
  },
  {
   "cell_type": "markdown",
   "metadata": {},
   "source": [
    "### Forward Selection <a class=\"anchor\" id=\"6\"></a>"
   ]
  },
  {
   "cell_type": "markdown",
   "metadata": {},
   "source": [
    "Forward selection  consist in the following algorithm :\n",
    "\n",
    "We have $p$ predictors: $X_1,...,X_p$\n",
    "\n",
    "- We train the null linear model $(M_0)$ \n",
    "  \n",
    "- We train all the  linear models that are the result of add one predictor to the model $M_0$ , and we select one $(M_1)$ under some criteria, for example the one with **less** $train \\hspace{0.1cm} error$.\n",
    "\n",
    "\n",
    "- We train all the linear models that are the result of add one predictor to the model $M_0$ , and we select one $(M_2)$ under the same criteria.\n",
    "  \n",
    "   $\\dots$ \n",
    "\n",
    "- We train all the linear models that are the result of add one predictor to the model $M_{p-2}$ , and we select one $(M_{p-1})$ under the same criteria.\n",
    "\n",
    "- We train the full linear model $(M_p)$\n",
    "\n",
    "\n",
    "We select one of the models $(M_0, M_1,...,M_{p-1},M_p)$ under some criteria, for example the one with **less** $\\hspace{0.1cm}cross\\hspace{0.1cm} validation\\hspace{0.1cm} test\\hspace{0.1cm} error$, $AIC$, $BIC$ or $Cp$, or **greater**  $\\widehat{R}^2$ . \n"
   ]
  },
  {
   "cell_type": "markdown",
   "metadata": {},
   "source": []
  },
  {
   "cell_type": "markdown",
   "metadata": {},
   "source": [
    "Scheme of the algorithm:\n",
    "\n",
    "- $M_0$\n",
    "\n",
    "- $\\lbrace  M_0 \\hspace{0.1cm} \\text{+ 1 predictor} \\rbrace \\underset{ \\text{train  error} }{\\Rightarrow}M_1$\n",
    "\n",
    "- $\\lbrace  M_1 \\hspace{0.1cm} \\text{+ 1 predictor} \\rbrace \\underset{ \\text{train  error} }{\\Rightarrow}M_2$\n",
    "\n",
    "$\\hspace{0.8cm} \\dots$\n",
    "\n",
    "- $\\lbrace  M_{p-2} \\hspace{0.1cm} \\text{+ 1 predictor} \\rbrace \\underset{ \\text{train  error} }{\\Rightarrow}M_{p-1}$\n",
    "\n",
    "- $M_p$"
   ]
  },
  {
   "cell_type": "markdown",
   "metadata": {},
   "source": [
    "- $\\lbrace M_0, M_1 , ..., M_p \\rbrace \\underset{ AIC, BIC, C_p, \\widehat{R}^2 }{\\Rightarrow} \\hspace{0.1cm} M^* $"
   ]
  },
  {
   "cell_type": "markdown",
   "metadata": {},
   "source": []
  },
  {
   "cell_type": "markdown",
   "metadata": {},
   "source": [
    "Where:\n",
    "\n",
    "$\\lbrace  M_j \\hspace{0.1cm} \\text{+ 1 predictor} \\rbrace \\hspace{0.1cm} $ is the set of the linear regression models that are the result of adding one predictor to the model $M_j$"
   ]
  },
  {
   "cell_type": "markdown",
   "metadata": {},
   "source": []
  },
  {
   "cell_type": "markdown",
   "metadata": {},
   "source": [
    "#### Forward Selection in Python"
   ]
  },
  {
   "cell_type": "code",
   "execution_count": 79,
   "metadata": {},
   "outputs": [],
   "source": [
    "def __varcharProcessing__(X, varchar_process = \"dummy_dropfirst\"):\n",
    "    \n",
    "    dtypes = X.dtypes\n",
    "    if varchar_process == \"drop\":   \n",
    "        X = X.drop(columns = dtypes[dtypes == np.object].index.tolist())\n",
    "        print(\"Character Variables (Dropped):\", dtypes[dtypes == np.object].index.tolist())\n",
    "    elif varchar_process == \"dummy\":\n",
    "        X = pd.get_dummies(X,drop_first=False)\n",
    "        print(\"Character Variables (Dummies Generated):\", dtypes[dtypes == np.object].index.tolist())\n",
    "    elif varchar_process == \"dummy_dropfirst\":\n",
    "        X = pd.get_dummies(X,drop_first=True)\n",
    "        print(\"Character Variables (Dummies Generated, First Dummies Dropped):\", dtypes[dtypes == np.object].index.tolist())\n",
    "    else: \n",
    "        X = pd.get_dummies(X,drop_first=True)\n",
    "        print(\"Character Variables (Dummies Generated, First Dummies Dropped):\", dtypes[dtypes == np.object].index.tolist())\n",
    "    \n",
    "    X[\"intercept\"] = 1\n",
    "    cols = X.columns.tolist()\n",
    "    cols = cols[-1:] + cols[:-1]\n",
    "    X = X[cols]\n",
    "    \n",
    "    return X"
   ]
  },
  {
   "cell_type": "code",
   "execution_count": 80,
   "metadata": {},
   "outputs": [],
   "source": [
    "import statsmodels.formula.api as smf\n",
    "import statsmodels.api as sm"
   ]
  },
  {
   "cell_type": "code",
   "execution_count": 227,
   "metadata": {},
   "outputs": [],
   "source": [
    "def forward (X,y, varchar_process=\"dummy_dropfirst\"):\n",
    "\n",
    "        X = __varcharProcessing__(X , varchar_process = varchar_process)\n",
    "\n",
    "        cols = X.columns.tolist()\n",
    "\n",
    "        regressor = sm.OLS(y, X).fit()\n",
    "\n",
    "        selected_cols = [\"intercept\"]\n",
    "\n",
    "        other_cols = cols.copy()\n",
    "        other_cols.remove(\"intercept\")\n",
    "\n",
    "        model = sm.OLS(y, X[selected_cols]).fit() \n",
    "\n",
    "        Models = pd.DataFrame([[  selected_cols[0] , model.aic ]], columns = [\"model\",\"AIC\"])\n",
    "        \n",
    "  \n",
    "        ######################################################################################\n",
    "        for i in range(X.shape[1]-1):\n",
    "\n",
    "                train_errors = pd.DataFrame(columns = [\"Cols\", \"train_error_MSE\"])\n",
    "\n",
    "                for j in other_cols:\n",
    "\n",
    "                        model = sm.OLS(y, X[ selected_cols + [j] ] ).fit()\n",
    "\n",
    "                        train_error_MSE = ( (y - model.predict(X[ selected_cols + [j] ]))**2 ).mean()\n",
    "                        \n",
    "                        train_errors = pd.concat( [train_errors, pd.DataFrame([[ j , train_error_MSE ]], columns = [\"Cols\",\"train_error_MSE\"] ) ] )\n",
    "\n",
    "                train_errors = train_errors.sort_values(by=[\"train_error_MSE\"]).reset_index(drop=True)\n",
    "                \n",
    "                model = sm.OLS(y, X[ selected_cols + [train_errors[\"Cols\"][0]] ]).fit()  \n",
    "\n",
    "                Models = pd.concat([Models, pd.DataFrame([[ selected_cols[0:(i+2)] , model.aic ]], columns = [\"model\",\"AIC\"]) ])\n",
    "\n",
    "                \n",
    "                selected_cols.append( train_errors[\"Cols\"][0] )\n",
    "                other_cols.remove( train_errors[\"Cols\"][0] )\n",
    "\n",
    "                \n",
    "                \n",
    "\n",
    "        ######################################################################################       \n",
    "\n",
    "        Final_Model = sm.OLS(y, X[selected_cols]).fit()\n",
    "        \n",
    "        return Models , Final_Model, train_errors"
   ]
  },
  {
   "cell_type": "code",
   "execution_count": 213,
   "metadata": {},
   "outputs": [],
   "source": [
    "selected_cols = [\"intercept\"]\n"
   ]
  },
  {
   "cell_type": "code",
   "execution_count": 195,
   "metadata": {},
   "outputs": [
    {
     "data": {
      "text/html": [
       "<div>\n",
       "<style scoped>\n",
       "    .dataframe tbody tr th:only-of-type {\n",
       "        vertical-align: middle;\n",
       "    }\n",
       "\n",
       "    .dataframe tbody tr th {\n",
       "        vertical-align: top;\n",
       "    }\n",
       "\n",
       "    .dataframe thead th {\n",
       "        text-align: right;\n",
       "    }\n",
       "</style>\n",
       "<table border=\"1\" class=\"dataframe\">\n",
       "  <thead>\n",
       "    <tr style=\"text-align: right;\">\n",
       "      <th></th>\n",
       "      <th>model</th>\n",
       "      <th>AIC</th>\n",
       "    </tr>\n",
       "  </thead>\n",
       "  <tbody>\n",
       "    <tr>\n",
       "      <th>0</th>\n",
       "      <td>[intercept]</td>\n",
       "      <td>1</td>\n",
       "    </tr>\n",
       "  </tbody>\n",
       "</table>\n",
       "</div>"
      ],
      "text/plain": [
       "         model  AIC\n",
       "0  [intercept]    1"
      ]
     },
     "execution_count": 195,
     "metadata": {},
     "output_type": "execute_result"
    }
   ],
   "source": [
    " Models = pd.DataFrame([[ selected_cols , 1 ]], columns = [\"model\",\"AIC\"])\n",
    " Models"
   ]
  },
  {
   "cell_type": "code",
   "execution_count": 218,
   "metadata": {},
   "outputs": [],
   "source": [
    "selected_cols.append('hola')\n",
    "selected_cols.append('adios')"
   ]
  },
  {
   "cell_type": "code",
   "execution_count": 226,
   "metadata": {},
   "outputs": [
    {
     "data": {
      "text/plain": [
       "['intercept']"
      ]
     },
     "execution_count": 226,
     "metadata": {},
     "output_type": "execute_result"
    }
   ],
   "source": [
    "selected_cols[0:1]"
   ]
  },
  {
   "cell_type": "code",
   "execution_count": 198,
   "metadata": {},
   "outputs": [
    {
     "data": {
      "text/html": [
       "<div>\n",
       "<style scoped>\n",
       "    .dataframe tbody tr th:only-of-type {\n",
       "        vertical-align: middle;\n",
       "    }\n",
       "\n",
       "    .dataframe tbody tr th {\n",
       "        vertical-align: top;\n",
       "    }\n",
       "\n",
       "    .dataframe thead th {\n",
       "        text-align: right;\n",
       "    }\n",
       "</style>\n",
       "<table border=\"1\" class=\"dataframe\">\n",
       "  <thead>\n",
       "    <tr style=\"text-align: right;\">\n",
       "      <th></th>\n",
       "      <th>model</th>\n",
       "      <th>AIC</th>\n",
       "    </tr>\n",
       "  </thead>\n",
       "  <tbody>\n",
       "    <tr>\n",
       "      <th>0</th>\n",
       "      <td>[intercept, hola]</td>\n",
       "      <td>1</td>\n",
       "    </tr>\n",
       "    <tr>\n",
       "      <th>0</th>\n",
       "      <td>[intercept, hola]</td>\n",
       "      <td>2</td>\n",
       "    </tr>\n",
       "  </tbody>\n",
       "</table>\n",
       "</div>"
      ],
      "text/plain": [
       "               model  AIC\n",
       "0  [intercept, hola]    1\n",
       "0  [intercept, hola]    2"
      ]
     },
     "execution_count": 198,
     "metadata": {},
     "output_type": "execute_result"
    }
   ],
   "source": [
    "pd.concat([Models, pd.DataFrame([[ selected_cols , 2 ]], columns = [\"model\",\"AIC\"]) ])"
   ]
  },
  {
   "cell_type": "code",
   "execution_count": 88,
   "metadata": {},
   "outputs": [],
   "source": [
    "X = data_Python[['size_in_m_2', 'longitude', 'latitude', 'no_of_bedrooms', 'no_of_bathrooms', 'quality']]\n",
    "y = data_Python['price']\n"
   ]
  },
  {
   "cell_type": "code",
   "execution_count": 124,
   "metadata": {},
   "outputs": [],
   "source": [
    "import warnings\n",
    "warnings.filterwarnings('ignore')"
   ]
  },
  {
   "cell_type": "code",
   "execution_count": 223,
   "metadata": {},
   "outputs": [
    {
     "name": "stdout",
     "output_type": "stream",
     "text": [
      "Character Variables (Dummies Generated, First Dummies Dropped): []\n"
     ]
    }
   ],
   "source": [
    "A = forward(X,y)"
   ]
  },
  {
   "cell_type": "code",
   "execution_count": 224,
   "metadata": {},
   "outputs": [],
   "source": [
    "Models , Final_Model, train_errors = A"
   ]
  },
  {
   "cell_type": "code",
   "execution_count": 228,
   "metadata": {},
   "outputs": [
    {
     "data": {
      "text/html": [
       "<div>\n",
       "<style scoped>\n",
       "    .dataframe tbody tr th:only-of-type {\n",
       "        vertical-align: middle;\n",
       "    }\n",
       "\n",
       "    .dataframe tbody tr th {\n",
       "        vertical-align: top;\n",
       "    }\n",
       "\n",
       "    .dataframe thead th {\n",
       "        text-align: right;\n",
       "    }\n",
       "</style>\n",
       "<table border=\"1\" class=\"dataframe\">\n",
       "  <thead>\n",
       "    <tr style=\"text-align: right;\">\n",
       "      <th></th>\n",
       "      <th>model</th>\n",
       "      <th>AIC</th>\n",
       "    </tr>\n",
       "  </thead>\n",
       "  <tbody>\n",
       "    <tr>\n",
       "      <th>0</th>\n",
       "      <td>intercept</td>\n",
       "      <td>62118.101353</td>\n",
       "    </tr>\n",
       "    <tr>\n",
       "      <th>0</th>\n",
       "      <td>[intercept]</td>\n",
       "      <td>60099.253467</td>\n",
       "    </tr>\n",
       "    <tr>\n",
       "      <th>0</th>\n",
       "      <td>[intercept, size_in_m_2]</td>\n",
       "      <td>59917.927231</td>\n",
       "    </tr>\n",
       "    <tr>\n",
       "      <th>0</th>\n",
       "      <td>[intercept, size_in_m_2, no_of_bedrooms]</td>\n",
       "      <td>59856.412019</td>\n",
       "    </tr>\n",
       "    <tr>\n",
       "      <th>0</th>\n",
       "      <td>[intercept, size_in_m_2, no_of_bedrooms, latit...</td>\n",
       "      <td>59853.041370</td>\n",
       "    </tr>\n",
       "    <tr>\n",
       "      <th>0</th>\n",
       "      <td>[intercept, size_in_m_2, no_of_bedrooms, latit...</td>\n",
       "      <td>59852.348316</td>\n",
       "    </tr>\n",
       "    <tr>\n",
       "      <th>0</th>\n",
       "      <td>[intercept, size_in_m_2, no_of_bedrooms, latit...</td>\n",
       "      <td>59852.522224</td>\n",
       "    </tr>\n",
       "    <tr>\n",
       "      <th>0</th>\n",
       "      <td>[intercept, size_in_m_2, no_of_bedrooms, latit...</td>\n",
       "      <td>59852.729811</td>\n",
       "    </tr>\n",
       "    <tr>\n",
       "      <th>0</th>\n",
       "      <td>[intercept, size_in_m_2, no_of_bedrooms, latit...</td>\n",
       "      <td>59854.027050</td>\n",
       "    </tr>\n",
       "  </tbody>\n",
       "</table>\n",
       "</div>"
      ],
      "text/plain": [
       "                                               model           AIC\n",
       "0                                          intercept  62118.101353\n",
       "0                                        [intercept]  60099.253467\n",
       "0                           [intercept, size_in_m_2]  59917.927231\n",
       "0           [intercept, size_in_m_2, no_of_bedrooms]  59856.412019\n",
       "0  [intercept, size_in_m_2, no_of_bedrooms, latit...  59853.041370\n",
       "0  [intercept, size_in_m_2, no_of_bedrooms, latit...  59852.348316\n",
       "0  [intercept, size_in_m_2, no_of_bedrooms, latit...  59852.522224\n",
       "0  [intercept, size_in_m_2, no_of_bedrooms, latit...  59852.729811\n",
       "0  [intercept, size_in_m_2, no_of_bedrooms, latit...  59854.027050"
      ]
     },
     "execution_count": 228,
     "metadata": {},
     "output_type": "execute_result"
    }
   ],
   "source": [
    "pd.options.display.max_columns\n",
    "Models"
   ]
  },
  {
   "cell_type": "code",
   "execution_count": 208,
   "metadata": {},
   "outputs": [
    {
     "data": {
      "text/plain": [
       "'no_of_bathrooms'"
      ]
     },
     "execution_count": 208,
     "metadata": {},
     "output_type": "execute_result"
    }
   ],
   "source": [
    "train_errors['Cols'][0]"
   ]
  },
  {
   "cell_type": "code",
   "execution_count": 141,
   "metadata": {},
   "outputs": [
    {
     "data": {
      "text/plain": [
       "59854.027050178316"
      ]
     },
     "execution_count": 141,
     "metadata": {},
     "output_type": "execute_result"
    }
   ],
   "source": [
    "Final_Model.aic"
   ]
  },
  {
   "cell_type": "markdown",
   "metadata": {},
   "source": []
  },
  {
   "cell_type": "markdown",
   "metadata": {},
   "source": [
    "### Backward Selection <a class=\"anchor\" id=\"6\"></a>"
   ]
  },
  {
   "cell_type": "markdown",
   "metadata": {},
   "source": [
    "Backward selection consist in the following algorithm :\n",
    "\n",
    "We have $p$ predictors: $X_1,...,X_p$\n",
    "\n",
    "- We train the full linear model $(M_p)$ \n",
    "  \n",
    "- We train all the  linear models that are the result of removing one predictor to the model $M_p$ , and we select one $(M_{p-1})$ under some criteria, for example the one with **less** $train \\hspace{0.1cm} error$.\n",
    "\n",
    "\n",
    "- We train all the linear models that are the result of removing one predictor to the model $M_{p-1}$ , and we select one $(M_{p-2})$ under the same criteria.\n",
    "  \n",
    "   $\\dots$ \n",
    "\n",
    "- We train all the linear models that are the result of removing one predictor to the model $M_{2}$ , and we select one $(M_{1})$ under the same criteria.\n",
    "\n",
    "- We train the null linear model $(M_0)$\n",
    "\n",
    "\n",
    "We select one of the models $(M_0,M_1,...,M_{p-1},M_p)$ under some criteria, for example the one with **less** $\\hspace{0.1cm}cross\\hspace{0.1cm} validation\\hspace{0.1cm} test\\hspace{0.1cm} error$, $AIC$, $BIC$ or $Cp$, or **greater**  $\\widehat{R}^2$  \n"
   ]
  },
  {
   "cell_type": "markdown",
   "metadata": {},
   "source": []
  },
  {
   "cell_type": "markdown",
   "metadata": {},
   "source": [
    "Scheme of the algorithm:\n",
    "\n",
    "- $M_p$\n",
    "\n",
    "- $\\lbrace  M_p \\hspace{0.1cm} \\text{- 1 predictor} \\rbrace \\underset{ \\text{train  error} }{\\Rightarrow}M_{p-1}$\n",
    "\n",
    "- $\\lbrace  M_{p-1} \\hspace{0.1cm} \\text{- 1 predictor} \\rbrace \\underset{ \\text{train  error} }{\\Rightarrow}M_{p-2}$\n",
    "\n",
    "$\\hspace{0.8cm} \\dots$\n",
    "\n",
    "- $\\lbrace  M_{2} \\hspace{0.1cm} \\text{- 1 predictor} \\rbrace \\underset{ \\text{train  error} }{\\Rightarrow}M_{1}$\n",
    "\n",
    "- $M_0$"
   ]
  },
  {
   "cell_type": "markdown",
   "metadata": {},
   "source": [
    "- $\\lbrace M_0, M_1 , ..., M_p \\rbrace \\underset{ AIC, BIC, C_p, \\widehat{R}^2 }{\\Rightarrow} \\hspace{0.1cm} M^* $"
   ]
  },
  {
   "cell_type": "markdown",
   "metadata": {},
   "source": []
  },
  {
   "cell_type": "code",
   "execution_count": null,
   "metadata": {},
   "outputs": [
    {
     "name": "stdout",
     "output_type": "stream",
     "text": [
      "                            OLS Regression Results                            \n",
      "==============================================================================\n",
      "Dep. Variable:                  price   R-squared:                       0.698\n",
      "Model:                            OLS   Adj. R-squared:                  0.697\n",
      "Method:                 Least Squares   F-statistic:                     547.4\n",
      "Date:                Wed, 20 Jul 2022   Prob (F-statistic):               0.00\n",
      "Time:                        19:56:10   Log-Likelihood:                -29918.\n",
      "No. Observations:                1905   AIC:                         5.985e+04\n",
      "Df Residuals:                    1896   BIC:                         5.990e+04\n",
      "Df Model:                           8                                         \n",
      "Covariance Type:            nonrobust                                         \n",
      "===================================================================================\n",
      "                      coef    std err          t      P>|t|      [0.025      0.975]\n",
      "-----------------------------------------------------------------------------------\n",
      "Intercept       -6.207e+07   2.99e+07     -2.073      0.038   -1.21e+08   -3.34e+06\n",
      "quality[T.1]       1.4e+05   8.36e+04      1.675      0.094   -2.39e+04    3.04e+05\n",
      "quality[T.2]     3.406e+05   1.55e+05      2.196      0.028    3.63e+04    6.45e+05\n",
      "quality[T.3]     2.788e+05   1.98e+05      1.410      0.159   -1.09e+05    6.66e+05\n",
      "size_in_m_2      3.566e+04    723.831     49.271      0.000    3.42e+04    3.71e+04\n",
      "no_of_bedrooms  -8.367e+05   8.28e+04    -10.102      0.000   -9.99e+05   -6.74e+05\n",
      "no_of_bathrooms -5.712e+04   6.83e+04     -0.836      0.403   -1.91e+05    7.68e+04\n",
      "latitude         6.115e+06   7.81e+05      7.830      0.000    4.58e+06    7.65e+06\n",
      "longitude       -1.677e+06   6.91e+05     -2.428      0.015   -3.03e+06   -3.22e+05\n",
      "==============================================================================\n",
      "Omnibus:                      779.851   Durbin-Watson:                   1.716\n",
      "Prob(Omnibus):                  0.000   Jarque-Bera (JB):            25742.187\n",
      "Skew:                           1.273   Prob(JB):                         0.00\n",
      "Kurtosis:                      20.828   Cond. No.                     1.34e+05\n",
      "==============================================================================\n",
      "\n",
      "Notes:\n",
      "[1] Standard Errors assume that the covariance matrix of the errors is correctly specified.\n",
      "[2] The condition number is large, 1.34e+05. This might indicate that there are\n",
      "strong multicollinearity or other numerical problems.\n"
     ]
    }
   ],
   "source": [
    "model = smf.ols(formula = 'price ~ size_in_m_2 + no_of_bedrooms + no_of_bathrooms + quality + latitude + longitude', data =data_Python)\n",
    "\n",
    "model = model.fit()\n",
    " \n",
    "print(model.summary())"
   ]
  },
  {
   "cell_type": "code",
   "execution_count": null,
   "metadata": {},
   "outputs": [
    {
     "data": {
      "text/html": [
       "<div>\n",
       "<style scoped>\n",
       "    .dataframe tbody tr th:only-of-type {\n",
       "        vertical-align: middle;\n",
       "    }\n",
       "\n",
       "    .dataframe tbody tr th {\n",
       "        vertical-align: top;\n",
       "    }\n",
       "\n",
       "    .dataframe thead th {\n",
       "        text-align: right;\n",
       "    }\n",
       "</style>\n",
       "<table border=\"1\" class=\"dataframe\">\n",
       "  <thead>\n",
       "    <tr style=\"text-align: right;\">\n",
       "      <th></th>\n",
       "      <th>size_in_m_2</th>\n",
       "      <th>longitude</th>\n",
       "      <th>latitude</th>\n",
       "      <th>no_of_bedrooms</th>\n",
       "      <th>no_of_bathrooms</th>\n",
       "      <th>quality</th>\n",
       "    </tr>\n",
       "  </thead>\n",
       "  <tbody>\n",
       "    <tr>\n",
       "      <th>0</th>\n",
       "      <td>100.242337</td>\n",
       "      <td>55.138932</td>\n",
       "      <td>25.113208</td>\n",
       "      <td>1</td>\n",
       "      <td>2</td>\n",
       "      <td>1</td>\n",
       "    </tr>\n",
       "    <tr>\n",
       "      <th>1</th>\n",
       "      <td>146.972546</td>\n",
       "      <td>55.151201</td>\n",
       "      <td>25.106809</td>\n",
       "      <td>2</td>\n",
       "      <td>2</td>\n",
       "      <td>1</td>\n",
       "    </tr>\n",
       "    <tr>\n",
       "      <th>2</th>\n",
       "      <td>181.253753</td>\n",
       "      <td>55.137728</td>\n",
       "      <td>25.063302</td>\n",
       "      <td>3</td>\n",
       "      <td>5</td>\n",
       "      <td>1</td>\n",
       "    </tr>\n",
       "    <tr>\n",
       "      <th>3</th>\n",
       "      <td>187.664060</td>\n",
       "      <td>55.341761</td>\n",
       "      <td>25.227295</td>\n",
       "      <td>2</td>\n",
       "      <td>3</td>\n",
       "      <td>0</td>\n",
       "    </tr>\n",
       "    <tr>\n",
       "      <th>4</th>\n",
       "      <td>47.101821</td>\n",
       "      <td>55.139764</td>\n",
       "      <td>25.114275</td>\n",
       "      <td>0</td>\n",
       "      <td>1</td>\n",
       "      <td>1</td>\n",
       "    </tr>\n",
       "    <tr>\n",
       "      <th>...</th>\n",
       "      <td>...</td>\n",
       "      <td>...</td>\n",
       "      <td>...</td>\n",
       "      <td>...</td>\n",
       "      <td>...</td>\n",
       "      <td>...</td>\n",
       "    </tr>\n",
       "    <tr>\n",
       "      <th>1900</th>\n",
       "      <td>100.985561</td>\n",
       "      <td>55.310712</td>\n",
       "      <td>25.176892</td>\n",
       "      <td>2</td>\n",
       "      <td>2</td>\n",
       "      <td>3</td>\n",
       "    </tr>\n",
       "    <tr>\n",
       "      <th>1901</th>\n",
       "      <td>70.606280</td>\n",
       "      <td>55.276684</td>\n",
       "      <td>25.166145</td>\n",
       "      <td>1</td>\n",
       "      <td>2</td>\n",
       "      <td>1</td>\n",
       "    </tr>\n",
       "    <tr>\n",
       "      <th>1902</th>\n",
       "      <td>179.302790</td>\n",
       "      <td>55.345056</td>\n",
       "      <td>25.206500</td>\n",
       "      <td>3</td>\n",
       "      <td>5</td>\n",
       "      <td>1</td>\n",
       "    </tr>\n",
       "    <tr>\n",
       "      <th>1903</th>\n",
       "      <td>68.748220</td>\n",
       "      <td>55.229844</td>\n",
       "      <td>25.073858</td>\n",
       "      <td>1</td>\n",
       "      <td>2</td>\n",
       "      <td>1</td>\n",
       "    </tr>\n",
       "    <tr>\n",
       "      <th>1904</th>\n",
       "      <td>74.322400</td>\n",
       "      <td>55.154713</td>\n",
       "      <td>25.079130</td>\n",
       "      <td>1</td>\n",
       "      <td>2</td>\n",
       "      <td>2</td>\n",
       "    </tr>\n",
       "  </tbody>\n",
       "</table>\n",
       "<p>1905 rows × 6 columns</p>\n",
       "</div>"
      ],
      "text/plain": [
       "      size_in_m_2  longitude   latitude  no_of_bedrooms  no_of_bathrooms  \\\n",
       "0      100.242337  55.138932  25.113208               1                2   \n",
       "1      146.972546  55.151201  25.106809               2                2   \n",
       "2      181.253753  55.137728  25.063302               3                5   \n",
       "3      187.664060  55.341761  25.227295               2                3   \n",
       "4       47.101821  55.139764  25.114275               0                1   \n",
       "...           ...        ...        ...             ...              ...   \n",
       "1900   100.985561  55.310712  25.176892               2                2   \n",
       "1901    70.606280  55.276684  25.166145               1                2   \n",
       "1902   179.302790  55.345056  25.206500               3                5   \n",
       "1903    68.748220  55.229844  25.073858               1                2   \n",
       "1904    74.322400  55.154713  25.079130               1                2   \n",
       "\n",
       "     quality  \n",
       "0          1  \n",
       "1          1  \n",
       "2          1  \n",
       "3          0  \n",
       "4          1  \n",
       "...      ...  \n",
       "1900       3  \n",
       "1901       1  \n",
       "1902       1  \n",
       "1903       1  \n",
       "1904       2  \n",
       "\n",
       "[1905 rows x 6 columns]"
      ]
     },
     "execution_count": 6,
     "metadata": {},
     "output_type": "execute_result"
    }
   ],
   "source": [
    "X = data_Python[['size_in_m_2', 'longitude', 'latitude', 'no_of_bedrooms', 'no_of_bathrooms', 'quality']]\n",
    "X"
   ]
  },
  {
   "cell_type": "code",
   "execution_count": null,
   "metadata": {},
   "outputs": [
    {
     "data": {
      "text/plain": [
       "0       2700000\n",
       "1       2850000\n",
       "2       1150000\n",
       "3       2850000\n",
       "4       1729200\n",
       "         ...   \n",
       "1900    1500000\n",
       "1901    1230000\n",
       "1902    2900000\n",
       "1903     675000\n",
       "1904     760887\n",
       "Name: price, Length: 1905, dtype: int64"
      ]
     },
     "execution_count": 7,
     "metadata": {},
     "output_type": "execute_result"
    }
   ],
   "source": [
    "y = data_Python['price']\n",
    "y"
   ]
  },
  {
   "cell_type": "markdown",
   "metadata": {},
   "source": []
  },
  {
   "cell_type": "code",
   "execution_count": null,
   "metadata": {},
   "outputs": [],
   "source": [
    "import numpy as np"
   ]
  },
  {
   "cell_type": "code",
   "execution_count": null,
   "metadata": {},
   "outputs": [],
   "source": []
  },
  {
   "cell_type": "code",
   "execution_count": null,
   "metadata": {},
   "outputs": [
    {
     "name": "stdout",
     "output_type": "stream",
     "text": [
      "Character Variables (Dummies Generated, First Dummies Dropped): []\n"
     ]
    },
    {
     "name": "stderr",
     "output_type": "stream",
     "text": [
      "C:\\Users\\Usuario\\AppData\\Local\\Temp\\ipykernel_7284\\4217958511.py:12: DeprecationWarning: `np.object` is a deprecated alias for the builtin `object`. To silence this warning, use `object` by itself. Doing this will not modify any behavior and is safe. \n",
      "Deprecated in NumPy 1.20; for more details and guidance: https://numpy.org/devdocs/release/1.20.0-notes.html#deprecations\n",
      "  print(\"Character Variables (Dummies Generated, First Dummies Dropped):\", dtypes[dtypes == np.object].index.tolist())\n"
     ]
    },
    {
     "data": {
      "text/html": [
       "<div>\n",
       "<style scoped>\n",
       "    .dataframe tbody tr th:only-of-type {\n",
       "        vertical-align: middle;\n",
       "    }\n",
       "\n",
       "    .dataframe tbody tr th {\n",
       "        vertical-align: top;\n",
       "    }\n",
       "\n",
       "    .dataframe thead th {\n",
       "        text-align: right;\n",
       "    }\n",
       "</style>\n",
       "<table border=\"1\" class=\"dataframe\">\n",
       "  <thead>\n",
       "    <tr style=\"text-align: right;\">\n",
       "      <th></th>\n",
       "      <th>intercept</th>\n",
       "      <th>size_in_m_2</th>\n",
       "      <th>longitude</th>\n",
       "      <th>latitude</th>\n",
       "      <th>no_of_bedrooms</th>\n",
       "      <th>no_of_bathrooms</th>\n",
       "      <th>quality_1</th>\n",
       "      <th>quality_2</th>\n",
       "      <th>quality_3</th>\n",
       "    </tr>\n",
       "  </thead>\n",
       "  <tbody>\n",
       "    <tr>\n",
       "      <th>0</th>\n",
       "      <td>1</td>\n",
       "      <td>100.242337</td>\n",
       "      <td>55.138932</td>\n",
       "      <td>25.113208</td>\n",
       "      <td>1</td>\n",
       "      <td>2</td>\n",
       "      <td>1</td>\n",
       "      <td>0</td>\n",
       "      <td>0</td>\n",
       "    </tr>\n",
       "    <tr>\n",
       "      <th>1</th>\n",
       "      <td>1</td>\n",
       "      <td>146.972546</td>\n",
       "      <td>55.151201</td>\n",
       "      <td>25.106809</td>\n",
       "      <td>2</td>\n",
       "      <td>2</td>\n",
       "      <td>1</td>\n",
       "      <td>0</td>\n",
       "      <td>0</td>\n",
       "    </tr>\n",
       "    <tr>\n",
       "      <th>2</th>\n",
       "      <td>1</td>\n",
       "      <td>181.253753</td>\n",
       "      <td>55.137728</td>\n",
       "      <td>25.063302</td>\n",
       "      <td>3</td>\n",
       "      <td>5</td>\n",
       "      <td>1</td>\n",
       "      <td>0</td>\n",
       "      <td>0</td>\n",
       "    </tr>\n",
       "    <tr>\n",
       "      <th>3</th>\n",
       "      <td>1</td>\n",
       "      <td>187.664060</td>\n",
       "      <td>55.341761</td>\n",
       "      <td>25.227295</td>\n",
       "      <td>2</td>\n",
       "      <td>3</td>\n",
       "      <td>0</td>\n",
       "      <td>0</td>\n",
       "      <td>0</td>\n",
       "    </tr>\n",
       "    <tr>\n",
       "      <th>4</th>\n",
       "      <td>1</td>\n",
       "      <td>47.101821</td>\n",
       "      <td>55.139764</td>\n",
       "      <td>25.114275</td>\n",
       "      <td>0</td>\n",
       "      <td>1</td>\n",
       "      <td>1</td>\n",
       "      <td>0</td>\n",
       "      <td>0</td>\n",
       "    </tr>\n",
       "    <tr>\n",
       "      <th>...</th>\n",
       "      <td>...</td>\n",
       "      <td>...</td>\n",
       "      <td>...</td>\n",
       "      <td>...</td>\n",
       "      <td>...</td>\n",
       "      <td>...</td>\n",
       "      <td>...</td>\n",
       "      <td>...</td>\n",
       "      <td>...</td>\n",
       "    </tr>\n",
       "    <tr>\n",
       "      <th>1900</th>\n",
       "      <td>1</td>\n",
       "      <td>100.985561</td>\n",
       "      <td>55.310712</td>\n",
       "      <td>25.176892</td>\n",
       "      <td>2</td>\n",
       "      <td>2</td>\n",
       "      <td>0</td>\n",
       "      <td>0</td>\n",
       "      <td>1</td>\n",
       "    </tr>\n",
       "    <tr>\n",
       "      <th>1901</th>\n",
       "      <td>1</td>\n",
       "      <td>70.606280</td>\n",
       "      <td>55.276684</td>\n",
       "      <td>25.166145</td>\n",
       "      <td>1</td>\n",
       "      <td>2</td>\n",
       "      <td>1</td>\n",
       "      <td>0</td>\n",
       "      <td>0</td>\n",
       "    </tr>\n",
       "    <tr>\n",
       "      <th>1902</th>\n",
       "      <td>1</td>\n",
       "      <td>179.302790</td>\n",
       "      <td>55.345056</td>\n",
       "      <td>25.206500</td>\n",
       "      <td>3</td>\n",
       "      <td>5</td>\n",
       "      <td>1</td>\n",
       "      <td>0</td>\n",
       "      <td>0</td>\n",
       "    </tr>\n",
       "    <tr>\n",
       "      <th>1903</th>\n",
       "      <td>1</td>\n",
       "      <td>68.748220</td>\n",
       "      <td>55.229844</td>\n",
       "      <td>25.073858</td>\n",
       "      <td>1</td>\n",
       "      <td>2</td>\n",
       "      <td>1</td>\n",
       "      <td>0</td>\n",
       "      <td>0</td>\n",
       "    </tr>\n",
       "    <tr>\n",
       "      <th>1904</th>\n",
       "      <td>1</td>\n",
       "      <td>74.322400</td>\n",
       "      <td>55.154713</td>\n",
       "      <td>25.079130</td>\n",
       "      <td>1</td>\n",
       "      <td>2</td>\n",
       "      <td>0</td>\n",
       "      <td>1</td>\n",
       "      <td>0</td>\n",
       "    </tr>\n",
       "  </tbody>\n",
       "</table>\n",
       "<p>1905 rows × 9 columns</p>\n",
       "</div>"
      ],
      "text/plain": [
       "      intercept  size_in_m_2  longitude   latitude  no_of_bedrooms  \\\n",
       "0             1   100.242337  55.138932  25.113208               1   \n",
       "1             1   146.972546  55.151201  25.106809               2   \n",
       "2             1   181.253753  55.137728  25.063302               3   \n",
       "3             1   187.664060  55.341761  25.227295               2   \n",
       "4             1    47.101821  55.139764  25.114275               0   \n",
       "...         ...          ...        ...        ...             ...   \n",
       "1900          1   100.985561  55.310712  25.176892               2   \n",
       "1901          1    70.606280  55.276684  25.166145               1   \n",
       "1902          1   179.302790  55.345056  25.206500               3   \n",
       "1903          1    68.748220  55.229844  25.073858               1   \n",
       "1904          1    74.322400  55.154713  25.079130               1   \n",
       "\n",
       "      no_of_bathrooms  quality_1  quality_2  quality_3  \n",
       "0                   2          1          0          0  \n",
       "1                   2          1          0          0  \n",
       "2                   5          1          0          0  \n",
       "3                   3          0          0          0  \n",
       "4                   1          1          0          0  \n",
       "...               ...        ...        ...        ...  \n",
       "1900                2          0          0          1  \n",
       "1901                2          1          0          0  \n",
       "1902                5          1          0          0  \n",
       "1903                2          1          0          0  \n",
       "1904                2          0          1          0  \n",
       "\n",
       "[1905 rows x 9 columns]"
      ]
     },
     "execution_count": 134,
     "metadata": {},
     "output_type": "execute_result"
    }
   ],
   "source": [
    "__varcharProcessing__(X, varchar_process = \"dummy_dropfirst\")\n"
   ]
  },
  {
   "cell_type": "markdown",
   "metadata": {},
   "source": []
  },
  {
   "cell_type": "markdown",
   "metadata": {},
   "source": [
    "X = pd.get_dummies(X,drop_first=True)\n",
    "X"
   ]
  },
  {
   "cell_type": "markdown",
   "metadata": {},
   "source": [
    "X[\"intercept\"] = 1\n",
    "\n",
    "X"
   ]
  },
  {
   "cell_type": "markdown",
   "metadata": {},
   "source": [
    "    cols = X.columns.tolist()\n",
    "    \n",
    "    cols"
   ]
  },
  {
   "cell_type": "markdown",
   "metadata": {},
   "source": [
    "cols[-1:] "
   ]
  },
  {
   "cell_type": "markdown",
   "metadata": {},
   "source": [
    "cols[:-1]"
   ]
  },
  {
   "cell_type": "markdown",
   "metadata": {},
   "source": [
    "    cols = cols[-1:] + cols[:-1]\n",
    "\n",
    "    X = X[cols]\n",
    "    \n",
    "    X"
   ]
  },
  {
   "cell_type": "markdown",
   "metadata": {},
   "source": []
  },
  {
   "cell_type": "code",
   "execution_count": null,
   "metadata": {},
   "outputs": [
    {
     "name": "stdout",
     "output_type": "stream",
     "text": [
      "                            OLS Regression Results                            \n",
      "==============================================================================\n",
      "Dep. Variable:                  price   R-squared:                       0.698\n",
      "Model:                            OLS   Adj. R-squared:                  0.697\n",
      "Method:                 Least Squares   F-statistic:                     547.4\n",
      "Date:                Wed, 20 Jul 2022   Prob (F-statistic):               0.00\n",
      "Time:                        20:52:13   Log-Likelihood:                -29918.\n",
      "No. Observations:                1905   AIC:                         5.985e+04\n",
      "Df Residuals:                    1896   BIC:                         5.990e+04\n",
      "Df Model:                           8                                         \n",
      "Covariance Type:            nonrobust                                         \n",
      "===================================================================================\n",
      "                      coef    std err          t      P>|t|      [0.025      0.975]\n",
      "-----------------------------------------------------------------------------------\n",
      "intercept       -6.207e+07   2.99e+07     -2.073      0.038   -1.21e+08   -3.34e+06\n",
      "size_in_m_2      3.566e+04    723.831     49.271      0.000    3.42e+04    3.71e+04\n",
      "longitude       -1.677e+06   6.91e+05     -2.428      0.015   -3.03e+06   -3.22e+05\n",
      "latitude         6.115e+06   7.81e+05      7.830      0.000    4.58e+06    7.65e+06\n",
      "no_of_bedrooms  -8.367e+05   8.28e+04    -10.102      0.000   -9.99e+05   -6.74e+05\n",
      "no_of_bathrooms -5.712e+04   6.83e+04     -0.836      0.403   -1.91e+05    7.68e+04\n",
      "quality_1          1.4e+05   8.36e+04      1.675      0.094   -2.39e+04    3.04e+05\n",
      "quality_2        3.406e+05   1.55e+05      2.196      0.028    3.63e+04    6.45e+05\n",
      "quality_3        2.788e+05   1.98e+05      1.410      0.159   -1.09e+05    6.66e+05\n",
      "==============================================================================\n",
      "Omnibus:                      779.851   Durbin-Watson:                   1.716\n",
      "Prob(Omnibus):                  0.000   Jarque-Bera (JB):            25742.187\n",
      "Skew:                           1.273   Prob(JB):                         0.00\n",
      "Kurtosis:                      20.828   Cond. No.                     1.34e+05\n",
      "==============================================================================\n",
      "\n",
      "Notes:\n",
      "[1] Standard Errors assume that the covariance matrix of the errors is correctly specified.\n",
      "[2] The condition number is large, 1.34e+05. This might indicate that there are\n",
      "strong multicollinearity or other numerical problems.\n"
     ]
    }
   ],
   "source": [
    "model = sm.OLS(y, X).fit()\n",
    "print(model.summary())"
   ]
  },
  {
   "cell_type": "code",
   "execution_count": null,
   "metadata": {},
   "outputs": [
    {
     "data": {
      "text/plain": [
       "59854.027050178316"
      ]
     },
     "execution_count": 29,
     "metadata": {},
     "output_type": "execute_result"
    }
   ],
   "source": [
    "model.aic"
   ]
  },
  {
   "cell_type": "code",
   "execution_count": null,
   "metadata": {},
   "outputs": [
    {
     "data": {
      "text/plain": [
       "59903.99718576636"
      ]
     },
     "execution_count": 30,
     "metadata": {},
     "output_type": "execute_result"
    }
   ],
   "source": [
    "model.bic"
   ]
  },
  {
   "cell_type": "code",
   "execution_count": null,
   "metadata": {},
   "outputs": [
    {
     "data": {
      "text/plain": [
       "0.6965926130210287"
      ]
     },
     "execution_count": 31,
     "metadata": {},
     "output_type": "execute_result"
    }
   ],
   "source": [
    "model.rsquared_adj"
   ]
  },
  {
   "cell_type": "code",
   "execution_count": null,
   "metadata": {},
   "outputs": [],
   "source": [
    "def __forwardSelectionRaw__(X, y, model_type =\"linear\",elimination_criteria = \"aic\", sl=0.05):\n",
    "\n",
    "    iterations_log = \"\"\n",
    "    cols = X.columns.tolist()\n",
    "    \n",
    "    def regressor(y,X, model_type=model_type):\n",
    "        if model_type == \"linear\":\n",
    "            regressor = sm.OLS(y, X).fit()\n",
    "        elif model_type == \"logistic\":\n",
    "            regressor = sm.Logit(y, X).fit()\n",
    "        else:\n",
    "            print(\"\\nWrong Model Type : \"+ model_type +\"\\nLinear model type is seleted.\")\n",
    "            model_type = \"linear\"\n",
    "            regressor = sm.OLS(y, X).fit()\n",
    "        return regressor\n",
    "    \n",
    "    selected_cols = [\"intercept\"]\n",
    "    other_cols = cols.copy()\n",
    "    other_cols.remove(\"intercept\")\n",
    "    \n",
    "    model = regressor(y, X[selected_cols])\n",
    "    \n",
    "    if elimination_criteria == \"aic\":\n",
    "        criteria = model.aic\n",
    "    elif elimination_criteria == \"bic\":\n",
    "        criteria = model.bic\n",
    "    elif elimination_criteria == \"r2\" and model_type ==\"linear\":\n",
    "        criteria = model.rsquared\n",
    "    elif elimination_criteria == \"adjr2\" and model_type ==\"linear\":\n",
    "        criteria = model.rsquared_adj\n",
    "    \n",
    "    \n",
    "    for i in range(X.shape[1]):\n",
    "        pvals = pd.DataFrame(columns = [\"Cols\",\"Pval\"])\n",
    "        for j in other_cols:\n",
    "            model = regressor(y, X[selected_cols+[j]])\n",
    "            pvals = pvals.append(pd.DataFrame([[j, model.pvalues[j]]],columns = [\"Cols\",\"Pval\"]),ignore_index=True)\n",
    "        pvals = pvals.sort_values(by = [\"Pval\"]).reset_index(drop=True)\n",
    "        pvals = pvals[pvals.Pval<=sl]\n",
    "        if pvals.shape[0] > 0:\n",
    "            \n",
    "            model = regressor(y, X[selected_cols+[pvals[\"Cols\"][0]]])\n",
    "            iterations_log += str(\"\\nEntered : \"+pvals[\"Cols\"][0] + \"\\n\")    \n",
    "            iterations_log += \"\\n\\n\"+str(model.summary())+\"\\nAIC: \"+ str(model.aic) + \"\\nBIC: \"+ str(model.bic)+\"\\n\\n\"\n",
    "                    \n",
    "        \n",
    "            if  elimination_criteria == \"aic\":\n",
    "                new_criteria = model.aic\n",
    "                if new_criteria < criteria:\n",
    "                    print(\"Entered :\", pvals[\"Cols\"][0], \"\\tAIC :\", model.aic)\n",
    "                    selected_cols.append(pvals[\"Cols\"][0])\n",
    "                    other_cols.remove(pvals[\"Cols\"][0])\n",
    "                    criteria = new_criteria\n",
    "                else:\n",
    "                    print(\"break : Criteria\")\n",
    "                    break\n",
    "            elif  elimination_criteria == \"bic\":\n",
    "                new_criteria = model.bic\n",
    "                if new_criteria < criteria:\n",
    "                    print(\"Entered :\", pvals[\"Cols\"][0], \"\\tBIC :\", model.bic)\n",
    "                    selected_cols.append(pvals[\"Cols\"][0])\n",
    "                    other_cols.remove(pvals[\"Cols\"][0])\n",
    "                    criteria = new_criteria\n",
    "                else:\n",
    "                    print(\"break : Criteria\")\n",
    "                    break        \n",
    "            elif  elimination_criteria == \"r2\" and model_type ==\"linear\":\n",
    "                new_criteria = model.rsquared\n",
    "                if new_criteria > criteria:\n",
    "                    print(\"Entered :\", pvals[\"Cols\"][0], \"\\tR2 :\", model.rsquared)\n",
    "                    selected_cols.append(pvals[\"Cols\"][0])\n",
    "                    other_cols.remove(pvals[\"Cols\"][0])\n",
    "                    criteria = new_criteria\n",
    "                else:\n",
    "                    print(\"break : Criteria\")\n",
    "                    break           \n",
    "            elif  elimination_criteria == \"adjr2\" and model_type ==\"linear\":\n",
    "                new_criteria = model.rsquared_adj\n",
    "                if new_criteria > criteria:\n",
    "                    print(\"Entered :\", pvals[\"Cols\"][0], \"\\tAdjR2 :\", model.rsquared_adj)\n",
    "                    selected_cols.append(pvals[\"Cols\"][0])\n",
    "                    other_cols.remove(pvals[\"Cols\"][0])\n",
    "                    criteria = new_criteria\n",
    "                else:\n",
    "                    print(\"Break : Criteria\")\n",
    "                    break\n",
    "            else:\n",
    "                print(\"Entered :\", pvals[\"Cols\"][0])\n",
    "                selected_cols.append(pvals[\"Cols\"][0])\n",
    "                other_cols.remove(pvals[\"Cols\"][0])            \n",
    "                \n",
    "        else:\n",
    "            print(\"Break : Significance Level\")\n",
    "            break\n",
    "        \n",
    "    model = regressor(y, X[selected_cols])\n",
    "    if elimination_criteria == \"aic\":\n",
    "        criteria = model.aic\n",
    "    elif elimination_criteria == \"bic\":\n",
    "        criteria = model.bic\n",
    "    elif elimination_criteria == \"r2\" and model_type ==\"linear\":\n",
    "        criteria = model.rsquared\n",
    "    elif elimination_criteria == \"adjr2\" and model_type ==\"linear\":\n",
    "        criteria = model.rsquared_adj\n",
    "    \n",
    "    print(model.summary())\n",
    "    print(\"AIC: \"+str(model.aic))\n",
    "    print(\"BIC: \"+str(model.bic))\n",
    "    print(\"Final Variables:\", selected_cols)\n",
    "\n",
    "    return selected_cols, iterations_log"
   ]
  },
  {
   "cell_type": "markdown",
   "metadata": {},
   "source": []
  },
  {
   "cell_type": "markdown",
   "metadata": {},
   "source": [
    "### forward AIC"
   ]
  },
  {
   "cell_type": "code",
   "execution_count": null,
   "metadata": {},
   "outputs": [
    {
     "name": "stdout",
     "output_type": "stream",
     "text": [
      "Character Variables (Dummies Generated, First Dummies Dropped): []\n"
     ]
    },
    {
     "name": "stderr",
     "output_type": "stream",
     "text": [
      "C:\\Users\\Usuario\\AppData\\Local\\Temp\\ipykernel_8764\\4217958511.py:12: DeprecationWarning: `np.object` is a deprecated alias for the builtin `object`. To silence this warning, use `object` by itself. Doing this will not modify any behavior and is safe. \n",
      "Deprecated in NumPy 1.20; for more details and guidance: https://numpy.org/devdocs/release/1.20.0-notes.html#deprecations\n",
      "  print(\"Character Variables (Dummies Generated, First Dummies Dropped):\", dtypes[dtypes == np.object].index.tolist())\n"
     ]
    }
   ],
   "source": [
    "X = __varcharProcessing__(X , varchar_process = \"dummy_dropfirst\")"
   ]
  },
  {
   "cell_type": "code",
   "execution_count": null,
   "metadata": {},
   "outputs": [
    {
     "data": {
      "text/html": [
       "<div>\n",
       "<style scoped>\n",
       "    .dataframe tbody tr th:only-of-type {\n",
       "        vertical-align: middle;\n",
       "    }\n",
       "\n",
       "    .dataframe tbody tr th {\n",
       "        vertical-align: top;\n",
       "    }\n",
       "\n",
       "    .dataframe thead th {\n",
       "        text-align: right;\n",
       "    }\n",
       "</style>\n",
       "<table border=\"1\" class=\"dataframe\">\n",
       "  <thead>\n",
       "    <tr style=\"text-align: right;\">\n",
       "      <th></th>\n",
       "      <th>intercept</th>\n",
       "      <th>size_in_m_2</th>\n",
       "      <th>longitude</th>\n",
       "      <th>latitude</th>\n",
       "      <th>no_of_bedrooms</th>\n",
       "      <th>no_of_bathrooms</th>\n",
       "      <th>quality_1</th>\n",
       "      <th>quality_2</th>\n",
       "      <th>quality_3</th>\n",
       "    </tr>\n",
       "  </thead>\n",
       "  <tbody>\n",
       "    <tr>\n",
       "      <th>0</th>\n",
       "      <td>1</td>\n",
       "      <td>100.242337</td>\n",
       "      <td>55.138932</td>\n",
       "      <td>25.113208</td>\n",
       "      <td>1</td>\n",
       "      <td>2</td>\n",
       "      <td>1</td>\n",
       "      <td>0</td>\n",
       "      <td>0</td>\n",
       "    </tr>\n",
       "    <tr>\n",
       "      <th>1</th>\n",
       "      <td>1</td>\n",
       "      <td>146.972546</td>\n",
       "      <td>55.151201</td>\n",
       "      <td>25.106809</td>\n",
       "      <td>2</td>\n",
       "      <td>2</td>\n",
       "      <td>1</td>\n",
       "      <td>0</td>\n",
       "      <td>0</td>\n",
       "    </tr>\n",
       "    <tr>\n",
       "      <th>2</th>\n",
       "      <td>1</td>\n",
       "      <td>181.253753</td>\n",
       "      <td>55.137728</td>\n",
       "      <td>25.063302</td>\n",
       "      <td>3</td>\n",
       "      <td>5</td>\n",
       "      <td>1</td>\n",
       "      <td>0</td>\n",
       "      <td>0</td>\n",
       "    </tr>\n",
       "    <tr>\n",
       "      <th>3</th>\n",
       "      <td>1</td>\n",
       "      <td>187.664060</td>\n",
       "      <td>55.341761</td>\n",
       "      <td>25.227295</td>\n",
       "      <td>2</td>\n",
       "      <td>3</td>\n",
       "      <td>0</td>\n",
       "      <td>0</td>\n",
       "      <td>0</td>\n",
       "    </tr>\n",
       "    <tr>\n",
       "      <th>4</th>\n",
       "      <td>1</td>\n",
       "      <td>47.101821</td>\n",
       "      <td>55.139764</td>\n",
       "      <td>25.114275</td>\n",
       "      <td>0</td>\n",
       "      <td>1</td>\n",
       "      <td>1</td>\n",
       "      <td>0</td>\n",
       "      <td>0</td>\n",
       "    </tr>\n",
       "    <tr>\n",
       "      <th>...</th>\n",
       "      <td>...</td>\n",
       "      <td>...</td>\n",
       "      <td>...</td>\n",
       "      <td>...</td>\n",
       "      <td>...</td>\n",
       "      <td>...</td>\n",
       "      <td>...</td>\n",
       "      <td>...</td>\n",
       "      <td>...</td>\n",
       "    </tr>\n",
       "    <tr>\n",
       "      <th>1900</th>\n",
       "      <td>1</td>\n",
       "      <td>100.985561</td>\n",
       "      <td>55.310712</td>\n",
       "      <td>25.176892</td>\n",
       "      <td>2</td>\n",
       "      <td>2</td>\n",
       "      <td>0</td>\n",
       "      <td>0</td>\n",
       "      <td>1</td>\n",
       "    </tr>\n",
       "    <tr>\n",
       "      <th>1901</th>\n",
       "      <td>1</td>\n",
       "      <td>70.606280</td>\n",
       "      <td>55.276684</td>\n",
       "      <td>25.166145</td>\n",
       "      <td>1</td>\n",
       "      <td>2</td>\n",
       "      <td>1</td>\n",
       "      <td>0</td>\n",
       "      <td>0</td>\n",
       "    </tr>\n",
       "    <tr>\n",
       "      <th>1902</th>\n",
       "      <td>1</td>\n",
       "      <td>179.302790</td>\n",
       "      <td>55.345056</td>\n",
       "      <td>25.206500</td>\n",
       "      <td>3</td>\n",
       "      <td>5</td>\n",
       "      <td>1</td>\n",
       "      <td>0</td>\n",
       "      <td>0</td>\n",
       "    </tr>\n",
       "    <tr>\n",
       "      <th>1903</th>\n",
       "      <td>1</td>\n",
       "      <td>68.748220</td>\n",
       "      <td>55.229844</td>\n",
       "      <td>25.073858</td>\n",
       "      <td>1</td>\n",
       "      <td>2</td>\n",
       "      <td>1</td>\n",
       "      <td>0</td>\n",
       "      <td>0</td>\n",
       "    </tr>\n",
       "    <tr>\n",
       "      <th>1904</th>\n",
       "      <td>1</td>\n",
       "      <td>74.322400</td>\n",
       "      <td>55.154713</td>\n",
       "      <td>25.079130</td>\n",
       "      <td>1</td>\n",
       "      <td>2</td>\n",
       "      <td>0</td>\n",
       "      <td>1</td>\n",
       "      <td>0</td>\n",
       "    </tr>\n",
       "  </tbody>\n",
       "</table>\n",
       "<p>1905 rows × 9 columns</p>\n",
       "</div>"
      ],
      "text/plain": [
       "      intercept  size_in_m_2  longitude   latitude  no_of_bedrooms  \\\n",
       "0             1   100.242337  55.138932  25.113208               1   \n",
       "1             1   146.972546  55.151201  25.106809               2   \n",
       "2             1   181.253753  55.137728  25.063302               3   \n",
       "3             1   187.664060  55.341761  25.227295               2   \n",
       "4             1    47.101821  55.139764  25.114275               0   \n",
       "...         ...          ...        ...        ...             ...   \n",
       "1900          1   100.985561  55.310712  25.176892               2   \n",
       "1901          1    70.606280  55.276684  25.166145               1   \n",
       "1902          1   179.302790  55.345056  25.206500               3   \n",
       "1903          1    68.748220  55.229844  25.073858               1   \n",
       "1904          1    74.322400  55.154713  25.079130               1   \n",
       "\n",
       "      no_of_bathrooms  quality_1  quality_2  quality_3  \n",
       "0                   2          1          0          0  \n",
       "1                   2          1          0          0  \n",
       "2                   5          1          0          0  \n",
       "3                   3          0          0          0  \n",
       "4                   1          1          0          0  \n",
       "...               ...        ...        ...        ...  \n",
       "1900                2          0          0          1  \n",
       "1901                2          1          0          0  \n",
       "1902                5          1          0          0  \n",
       "1903                2          1          0          0  \n",
       "1904                2          0          1          0  \n",
       "\n",
       "[1905 rows x 9 columns]"
      ]
     },
     "execution_count": 13,
     "metadata": {},
     "output_type": "execute_result"
    }
   ],
   "source": [
    "X"
   ]
  },
  {
   "cell_type": "code",
   "execution_count": null,
   "metadata": {},
   "outputs": [
    {
     "data": {
      "text/plain": [
       "['intercept',\n",
       " 'size_in_m_2',\n",
       " 'longitude',\n",
       " 'latitude',\n",
       " 'no_of_bedrooms',\n",
       " 'no_of_bathrooms',\n",
       " 'quality_1',\n",
       " 'quality_2',\n",
       " 'quality_3']"
      ]
     },
     "execution_count": 16,
     "metadata": {},
     "output_type": "execute_result"
    }
   ],
   "source": [
    "cols = X.columns.tolist()\n",
    "cols"
   ]
  },
  {
   "cell_type": "code",
   "execution_count": null,
   "metadata": {},
   "outputs": [
    {
     "data": {
      "text/plain": [
       "['intercept']"
      ]
     },
     "execution_count": 23,
     "metadata": {},
     "output_type": "execute_result"
    }
   ],
   "source": [
    " selected_cols = [\"intercept\"]\n",
    " selected_cols"
   ]
  },
  {
   "cell_type": "code",
   "execution_count": null,
   "metadata": {},
   "outputs": [
    {
     "data": {
      "text/plain": [
       "['intercept',\n",
       " 'size_in_m_2',\n",
       " 'longitude',\n",
       " 'latitude',\n",
       " 'no_of_bedrooms',\n",
       " 'no_of_bathrooms',\n",
       " 'quality_1',\n",
       " 'quality_2',\n",
       " 'quality_3']"
      ]
     },
     "execution_count": 24,
     "metadata": {},
     "output_type": "execute_result"
    }
   ],
   "source": [
    "other_cols = cols.copy()\n",
    "other_cols"
   ]
  },
  {
   "cell_type": "code",
   "execution_count": null,
   "metadata": {},
   "outputs": [],
   "source": [
    "    other_cols.remove(\"intercept\")"
   ]
  },
  {
   "cell_type": "code",
   "execution_count": null,
   "metadata": {},
   "outputs": [
    {
     "data": {
      "text/plain": [
       "['size_in_m_2',\n",
       " 'longitude',\n",
       " 'latitude',\n",
       " 'no_of_bedrooms',\n",
       " 'no_of_bathrooms',\n",
       " 'quality_1',\n",
       " 'quality_2',\n",
       " 'quality_3']"
      ]
     },
     "execution_count": 21,
     "metadata": {},
     "output_type": "execute_result"
    }
   ],
   "source": [
    "    other_cols"
   ]
  },
  {
   "cell_type": "code",
   "execution_count": null,
   "metadata": {},
   "outputs": [
    {
     "data": {
      "text/html": [
       "<div>\n",
       "<style scoped>\n",
       "    .dataframe tbody tr th:only-of-type {\n",
       "        vertical-align: middle;\n",
       "    }\n",
       "\n",
       "    .dataframe tbody tr th {\n",
       "        vertical-align: top;\n",
       "    }\n",
       "\n",
       "    .dataframe thead th {\n",
       "        text-align: right;\n",
       "    }\n",
       "</style>\n",
       "<table border=\"1\" class=\"dataframe\">\n",
       "  <thead>\n",
       "    <tr style=\"text-align: right;\">\n",
       "      <th></th>\n",
       "      <th>intercept</th>\n",
       "    </tr>\n",
       "  </thead>\n",
       "  <tbody>\n",
       "    <tr>\n",
       "      <th>0</th>\n",
       "      <td>1</td>\n",
       "    </tr>\n",
       "    <tr>\n",
       "      <th>1</th>\n",
       "      <td>1</td>\n",
       "    </tr>\n",
       "    <tr>\n",
       "      <th>2</th>\n",
       "      <td>1</td>\n",
       "    </tr>\n",
       "    <tr>\n",
       "      <th>3</th>\n",
       "      <td>1</td>\n",
       "    </tr>\n",
       "    <tr>\n",
       "      <th>4</th>\n",
       "      <td>1</td>\n",
       "    </tr>\n",
       "    <tr>\n",
       "      <th>...</th>\n",
       "      <td>...</td>\n",
       "    </tr>\n",
       "    <tr>\n",
       "      <th>1900</th>\n",
       "      <td>1</td>\n",
       "    </tr>\n",
       "    <tr>\n",
       "      <th>1901</th>\n",
       "      <td>1</td>\n",
       "    </tr>\n",
       "    <tr>\n",
       "      <th>1902</th>\n",
       "      <td>1</td>\n",
       "    </tr>\n",
       "    <tr>\n",
       "      <th>1903</th>\n",
       "      <td>1</td>\n",
       "    </tr>\n",
       "    <tr>\n",
       "      <th>1904</th>\n",
       "      <td>1</td>\n",
       "    </tr>\n",
       "  </tbody>\n",
       "</table>\n",
       "<p>1905 rows × 1 columns</p>\n",
       "</div>"
      ],
      "text/plain": [
       "      intercept\n",
       "0             1\n",
       "1             1\n",
       "2             1\n",
       "3             1\n",
       "4             1\n",
       "...         ...\n",
       "1900          1\n",
       "1901          1\n",
       "1902          1\n",
       "1903          1\n",
       "1904          1\n",
       "\n",
       "[1905 rows x 1 columns]"
      ]
     },
     "execution_count": 22,
     "metadata": {},
     "output_type": "execute_result"
    }
   ],
   "source": [
    "X[selected_cols]"
   ]
  },
  {
   "cell_type": "code",
   "execution_count": null,
   "metadata": {},
   "outputs": [],
   "source": [
    "X\n",
    "\n",
    "model = sm.OLS(y, X).fit()\n"
   ]
  },
  {
   "cell_type": "code",
   "execution_count": null,
   "metadata": {},
   "outputs": [
    {
     "data": {
      "text/plain": [
       "0       2700000\n",
       "1       2850000\n",
       "2       1150000\n",
       "3       2850000\n",
       "4       1729200\n",
       "         ...   \n",
       "1900    1500000\n",
       "1901    1230000\n",
       "1902    2900000\n",
       "1903     675000\n",
       "1904     760887\n",
       "Name: price, Length: 1905, dtype: int64"
      ]
     },
     "execution_count": 67,
     "metadata": {},
     "output_type": "execute_result"
    }
   ],
   "source": [
    "y"
   ]
  },
  {
   "cell_type": "code",
   "execution_count": null,
   "metadata": {},
   "outputs": [
    {
     "data": {
      "text/plain": [
       "938065.2280944814"
      ]
     },
     "execution_count": 76,
     "metadata": {},
     "output_type": "execute_result"
    }
   ],
   "source": [
    "((y - model.predict(X)).abs()).mean()"
   ]
  },
  {
   "cell_type": "code",
   "execution_count": null,
   "metadata": {},
   "outputs": [],
   "source": [
    "def forward_AIC_pvalue (X,y, sl=0.05 , varchar_process=\"dummy_dropfirst\"):\n",
    "\n",
    "        X = __varcharProcessing__(X , varchar_process = varchar_process)\n",
    "\n",
    "        cols = X.columns.tolist()\n",
    "\n",
    "        regressor = sm.OLS(y, X).fit()\n",
    "\n",
    "        selected_cols = [\"intercept\"]\n",
    "\n",
    "        other_cols = cols.copy()\n",
    "        other_cols.remove(\"intercept\")\n",
    "\n",
    "        model = sm.OLS(y, X[selected_cols]).fit()\n",
    "\n",
    "        criteria = model.aic\n",
    "\n",
    "        ######################################################################################\n",
    "        for i in range(X.shape[1]):\n",
    "\n",
    "                pvals = pd.DataFrame(columns = [\"Cols\",\"Pval\"])\n",
    "\n",
    "                for j in other_cols:\n",
    "\n",
    "                        model = sm.OLS(y, X[ selected_cols + [j] ] ).fit()\n",
    "                        \n",
    "                        pvals = pvals.append(pd.DataFrame([[ j , model.pvalues[j] ]], columns = [\"Cols\",\"Pval\"]), ignore_index=True)\n",
    "\n",
    "                pvals = pvals.sort_values(by = [\"Pval\"]).reset_index(drop=True)\n",
    "                pvals = pvals[pvals.Pval<=sl]\n",
    "\n",
    "                if pvals.shape[0] > 0:\n",
    "\n",
    "                        model = sm.OLS(y, X[ selected_cols + [pvals[\"Cols\"][0]] ]).fit()\n",
    "\n",
    "                        new_criteria = model.aic\n",
    "\n",
    "                        if new_criteria < criteria :\n",
    "\n",
    "                                print(\"Entered :\", pvals[\"Cols\"][0], \"\\tAIC :\", model.aic)\n",
    "\n",
    "                                selected_cols.append(pvals[\"Cols\"][0])\n",
    "                                other_cols.remove(pvals[\"Cols\"][0])\n",
    "\n",
    "                                criteria = new_criteria\n",
    "\n",
    "                        else:\n",
    "                                print(\"break : Criteria\")\n",
    "                                break\n",
    "\n",
    "        \n",
    "                else:\n",
    "                        print(\"Break : Significance Level\")\n",
    "                        break\n",
    "        ######################################################################################       \n",
    "\n",
    "        model = sm.OLS(y, X[selected_cols]).fit()\n",
    "        \n",
    "        criteria = model.aic\n",
    "\n",
    "        print(model.summary())\n",
    "        \n",
    "        print(\"Final Variables:\", selected_cols)\n",
    "\n",
    "        return selected_cols"
   ]
  },
  {
   "cell_type": "code",
   "execution_count": null,
   "metadata": {},
   "outputs": [],
   "source": [
    "import warnings\n",
    "warnings.filterwarnings('ignore')"
   ]
  },
  {
   "cell_type": "code",
   "execution_count": null,
   "metadata": {},
   "outputs": [
    {
     "name": "stdout",
     "output_type": "stream",
     "text": [
      "Character Variables (Dummies Generated, First Dummies Dropped): []\n",
      "Entered : size_in_m_2 \tAIC : 60099.2534671769\n",
      "Entered : no_of_bedrooms \tAIC : 59917.92723088584\n",
      "Entered : latitude \tAIC : 59856.41201860482\n",
      "Entered : longitude \tAIC : 59853.0413699519\n",
      "Break : Significance Level\n",
      "                            OLS Regression Results                            \n",
      "==============================================================================\n",
      "Dep. Variable:                  price   R-squared:                       0.697\n",
      "Model:                            OLS   Adj. R-squared:                  0.696\n",
      "Method:                 Least Squares   F-statistic:                     1091.\n",
      "Date:                Wed, 20 Jul 2022   Prob (F-statistic):               0.00\n",
      "Time:                        23:17:40   Log-Likelihood:                -29922.\n",
      "No. Observations:                1905   AIC:                         5.985e+04\n",
      "Df Residuals:                    1900   BIC:                         5.988e+04\n",
      "Df Model:                           4                                         \n",
      "Covariance Type:            nonrobust                                         \n",
      "==================================================================================\n",
      "                     coef    std err          t      P>|t|      [0.025      0.975]\n",
      "----------------------------------------------------------------------------------\n",
      "intercept      -6.064e+07      3e+07     -2.025      0.043   -1.19e+08    -1.9e+06\n",
      "size_in_m_2     3.557e+04    709.538     50.132      0.000    3.42e+04     3.7e+04\n",
      "no_of_bedrooms -8.807e+05   6.14e+04    -14.350      0.000      -1e+06    -7.6e+05\n",
      "latitude        5.861e+06   7.58e+05      7.733      0.000    4.37e+06    7.35e+06\n",
      "longitude      -1.587e+06   6.85e+05     -2.316      0.021   -2.93e+06   -2.43e+05\n",
      "==============================================================================\n",
      "Omnibus:                      778.658   Durbin-Watson:                   1.719\n",
      "Prob(Omnibus):                  0.000   Jarque-Bera (JB):            25690.615\n",
      "Skew:                           1.270   Prob(JB):                         0.00\n",
      "Kurtosis:                      20.810   Cond. No.                     1.34e+05\n",
      "==============================================================================\n",
      "\n",
      "Notes:\n",
      "[1] Standard Errors assume that the covariance matrix of the errors is correctly specified.\n",
      "[2] The condition number is large, 1.34e+05. This might indicate that there are\n",
      "strong multicollinearity or other numerical problems.\n",
      "Final Variables: ['intercept', 'size_in_m_2', 'no_of_bedrooms', 'latitude', 'longitude']\n"
     ]
    },
    {
     "data": {
      "text/plain": [
       "['intercept', 'size_in_m_2', 'no_of_bedrooms', 'latitude', 'longitude']"
      ]
     },
     "execution_count": 84,
     "metadata": {},
     "output_type": "execute_result"
    }
   ],
   "source": [
    "forward_AIC_pvalue (X, y, sl=0.05 , varchar_process=\"dummy_dropfirst\") "
   ]
  },
  {
   "cell_type": "code",
   "execution_count": null,
   "metadata": {},
   "outputs": [],
   "source": [
    "pvals = pd.DataFrame(columns = [\"Cols\",\"Pval\"])"
   ]
  },
  {
   "cell_type": "code",
   "execution_count": null,
   "metadata": {},
   "outputs": [
    {
     "data": {
      "text/html": [
       "<div>\n",
       "<style scoped>\n",
       "    .dataframe tbody tr th:only-of-type {\n",
       "        vertical-align: middle;\n",
       "    }\n",
       "\n",
       "    .dataframe tbody tr th {\n",
       "        vertical-align: top;\n",
       "    }\n",
       "\n",
       "    .dataframe thead th {\n",
       "        text-align: right;\n",
       "    }\n",
       "</style>\n",
       "<table border=\"1\" class=\"dataframe\">\n",
       "  <thead>\n",
       "    <tr style=\"text-align: right;\">\n",
       "      <th></th>\n",
       "      <th>Cols</th>\n",
       "      <th>Pval</th>\n",
       "    </tr>\n",
       "  </thead>\n",
       "  <tbody>\n",
       "  </tbody>\n",
       "</table>\n",
       "</div>"
      ],
      "text/plain": [
       "Empty DataFrame\n",
       "Columns: [Cols, Pval]\n",
       "Index: []"
      ]
     },
     "execution_count": 33,
     "metadata": {},
     "output_type": "execute_result"
    }
   ],
   "source": [
    "pvals"
   ]
  },
  {
   "cell_type": "code",
   "execution_count": null,
   "metadata": {},
   "outputs": [
    {
     "name": "stdout",
     "output_type": "stream",
     "text": [
      "                            OLS Regression Results                            \n",
      "==============================================================================\n",
      "Dep. Variable:                  price   R-squared:                       0.654\n",
      "Model:                            OLS   Adj. R-squared:                  0.654\n",
      "Method:                 Least Squares   F-statistic:                     3594.\n",
      "Date:                Wed, 20 Jul 2022   Prob (F-statistic):               0.00\n",
      "Time:                        21:06:03   Log-Likelihood:                -30048.\n",
      "No. Observations:                1905   AIC:                         6.010e+04\n",
      "Df Residuals:                    1903   BIC:                         6.011e+04\n",
      "Df Model:                           1                                         \n",
      "Covariance Type:            nonrobust                                         \n",
      "===============================================================================\n",
      "                  coef    std err          t      P>|t|      [0.025      0.975]\n",
      "-------------------------------------------------------------------------------\n",
      "intercept   -1.658e+06   7.38e+04    -22.478      0.000    -1.8e+06   -1.51e+06\n",
      "size_in_m_2  2.844e+04    474.409     59.952      0.000    2.75e+04    2.94e+04\n",
      "==============================================================================\n",
      "Omnibus:                     1048.866   Durbin-Watson:                   1.704\n",
      "Prob(Omnibus):                  0.000   Jarque-Bera (JB):            29146.766\n",
      "Skew:                           2.041   Prob(JB):                         0.00\n",
      "Kurtosis:                      21.723   Cond. No.                         292.\n",
      "==============================================================================\n",
      "\n",
      "Notes:\n",
      "[1] Standard Errors assume that the covariance matrix of the errors is correctly specified.\n"
     ]
    }
   ],
   "source": [
    "print( sm.OLS(y, X[ selected_cols+['size_in_m_2']] ).fit().summary() )"
   ]
  },
  {
   "cell_type": "code",
   "execution_count": null,
   "metadata": {},
   "outputs": [
    {
     "name": "stderr",
     "output_type": "stream",
     "text": [
      "C:\\Users\\Usuario\\AppData\\Local\\Temp\\ipykernel_8764\\1740443742.py:1: FutureWarning: The frame.append method is deprecated and will be removed from pandas in a future version. Use pandas.concat instead.\n",
      "  pvals.append(pd.DataFrame([[ 'size_in_m_2' , model.pvalues['size_in_m_2'] ]], columns = [\"Cols\",\"Pval\"]), ignore_index=True)\n"
     ]
    },
    {
     "data": {
      "text/html": [
       "<div>\n",
       "<style scoped>\n",
       "    .dataframe tbody tr th:only-of-type {\n",
       "        vertical-align: middle;\n",
       "    }\n",
       "\n",
       "    .dataframe tbody tr th {\n",
       "        vertical-align: top;\n",
       "    }\n",
       "\n",
       "    .dataframe thead th {\n",
       "        text-align: right;\n",
       "    }\n",
       "</style>\n",
       "<table border=\"1\" class=\"dataframe\">\n",
       "  <thead>\n",
       "    <tr style=\"text-align: right;\">\n",
       "      <th></th>\n",
       "      <th>Cols</th>\n",
       "      <th>Pval</th>\n",
       "    </tr>\n",
       "  </thead>\n",
       "  <tbody>\n",
       "    <tr>\n",
       "      <th>0</th>\n",
       "      <td>size_in_m_2</td>\n",
       "      <td>0.0</td>\n",
       "    </tr>\n",
       "  </tbody>\n",
       "</table>\n",
       "</div>"
      ],
      "text/plain": [
       "          Cols  Pval\n",
       "0  size_in_m_2   0.0"
      ]
     },
     "execution_count": 37,
     "metadata": {},
     "output_type": "execute_result"
    }
   ],
   "source": [
    " pvals.append(pd.DataFrame([[ 'size_in_m_2' , model.pvalues['size_in_m_2'] ]], columns = [\"Cols\",\"Pval\"]), ignore_index=True)"
   ]
  },
  {
   "cell_type": "code",
   "execution_count": null,
   "metadata": {},
   "outputs": [
    {
     "name": "stderr",
     "output_type": "stream",
     "text": [
      "C:\\Users\\Usuario\\AppData\\Local\\Temp\\ipykernel_8764\\335108696.py:3: FutureWarning: The frame.append method is deprecated and will be removed from pandas in a future version. Use pandas.concat instead.\n",
      "  pvals = pvals.append(pd.DataFrame([[ j , model.pvalues[j] ]], columns = [\"Cols\",\"Pval\"]), ignore_index=True)\n",
      "C:\\Users\\Usuario\\AppData\\Local\\Temp\\ipykernel_8764\\335108696.py:3: FutureWarning: The frame.append method is deprecated and will be removed from pandas in a future version. Use pandas.concat instead.\n",
      "  pvals = pvals.append(pd.DataFrame([[ j , model.pvalues[j] ]], columns = [\"Cols\",\"Pval\"]), ignore_index=True)\n",
      "C:\\Users\\Usuario\\AppData\\Local\\Temp\\ipykernel_8764\\335108696.py:3: FutureWarning: The frame.append method is deprecated and will be removed from pandas in a future version. Use pandas.concat instead.\n",
      "  pvals = pvals.append(pd.DataFrame([[ j , model.pvalues[j] ]], columns = [\"Cols\",\"Pval\"]), ignore_index=True)\n",
      "C:\\Users\\Usuario\\AppData\\Local\\Temp\\ipykernel_8764\\335108696.py:3: FutureWarning: The frame.append method is deprecated and will be removed from pandas in a future version. Use pandas.concat instead.\n",
      "  pvals = pvals.append(pd.DataFrame([[ j , model.pvalues[j] ]], columns = [\"Cols\",\"Pval\"]), ignore_index=True)\n",
      "C:\\Users\\Usuario\\AppData\\Local\\Temp\\ipykernel_8764\\335108696.py:3: FutureWarning: The frame.append method is deprecated and will be removed from pandas in a future version. Use pandas.concat instead.\n",
      "  pvals = pvals.append(pd.DataFrame([[ j , model.pvalues[j] ]], columns = [\"Cols\",\"Pval\"]), ignore_index=True)\n",
      "C:\\Users\\Usuario\\AppData\\Local\\Temp\\ipykernel_8764\\335108696.py:3: FutureWarning: The frame.append method is deprecated and will be removed from pandas in a future version. Use pandas.concat instead.\n",
      "  pvals = pvals.append(pd.DataFrame([[ j , model.pvalues[j] ]], columns = [\"Cols\",\"Pval\"]), ignore_index=True)\n",
      "C:\\Users\\Usuario\\AppData\\Local\\Temp\\ipykernel_8764\\335108696.py:3: FutureWarning: The frame.append method is deprecated and will be removed from pandas in a future version. Use pandas.concat instead.\n",
      "  pvals = pvals.append(pd.DataFrame([[ j , model.pvalues[j] ]], columns = [\"Cols\",\"Pval\"]), ignore_index=True)\n",
      "C:\\Users\\Usuario\\AppData\\Local\\Temp\\ipykernel_8764\\335108696.py:3: FutureWarning: The frame.append method is deprecated and will be removed from pandas in a future version. Use pandas.concat instead.\n",
      "  pvals = pvals.append(pd.DataFrame([[ j , model.pvalues[j] ]], columns = [\"Cols\",\"Pval\"]), ignore_index=True)\n"
     ]
    }
   ],
   "source": [
    "for j in other_cols:\n",
    "        model = sm.OLS(y, X[ selected_cols + [j]] ).fit()\n",
    "        pvals = pvals.append(pd.DataFrame([[ j , model.pvalues[j] ]], columns = [\"Cols\",\"Pval\"]), ignore_index=True)"
   ]
  },
  {
   "cell_type": "code",
   "execution_count": null,
   "metadata": {},
   "outputs": [
    {
     "data": {
      "text/html": [
       "<div>\n",
       "<style scoped>\n",
       "    .dataframe tbody tr th:only-of-type {\n",
       "        vertical-align: middle;\n",
       "    }\n",
       "\n",
       "    .dataframe tbody tr th {\n",
       "        vertical-align: top;\n",
       "    }\n",
       "\n",
       "    .dataframe thead th {\n",
       "        text-align: right;\n",
       "    }\n",
       "</style>\n",
       "<table border=\"1\" class=\"dataframe\">\n",
       "  <thead>\n",
       "    <tr style=\"text-align: right;\">\n",
       "      <th></th>\n",
       "      <th>Cols</th>\n",
       "      <th>Pval</th>\n",
       "    </tr>\n",
       "  </thead>\n",
       "  <tbody>\n",
       "    <tr>\n",
       "      <th>0</th>\n",
       "      <td>size_in_m_2</td>\n",
       "      <td>0.000000e+00</td>\n",
       "    </tr>\n",
       "    <tr>\n",
       "      <th>1</th>\n",
       "      <td>longitude</td>\n",
       "      <td>5.018901e-01</td>\n",
       "    </tr>\n",
       "    <tr>\n",
       "      <th>2</th>\n",
       "      <td>latitude</td>\n",
       "      <td>7.668705e-20</td>\n",
       "    </tr>\n",
       "    <tr>\n",
       "      <th>3</th>\n",
       "      <td>no_of_bedrooms</td>\n",
       "      <td>4.867487e-129</td>\n",
       "    </tr>\n",
       "    <tr>\n",
       "      <th>4</th>\n",
       "      <td>no_of_bathrooms</td>\n",
       "      <td>2.688943e-122</td>\n",
       "    </tr>\n",
       "    <tr>\n",
       "      <th>5</th>\n",
       "      <td>quality_1</td>\n",
       "      <td>1.298061e-01</td>\n",
       "    </tr>\n",
       "    <tr>\n",
       "      <th>6</th>\n",
       "      <td>quality_2</td>\n",
       "      <td>1.291513e-02</td>\n",
       "    </tr>\n",
       "    <tr>\n",
       "      <th>7</th>\n",
       "      <td>quality_3</td>\n",
       "      <td>2.262572e-04</td>\n",
       "    </tr>\n",
       "  </tbody>\n",
       "</table>\n",
       "</div>"
      ],
      "text/plain": [
       "              Cols           Pval\n",
       "0      size_in_m_2   0.000000e+00\n",
       "1        longitude   5.018901e-01\n",
       "2         latitude   7.668705e-20\n",
       "3   no_of_bedrooms  4.867487e-129\n",
       "4  no_of_bathrooms  2.688943e-122\n",
       "5        quality_1   1.298061e-01\n",
       "6        quality_2   1.291513e-02\n",
       "7        quality_3   2.262572e-04"
      ]
     },
     "execution_count": 39,
     "metadata": {},
     "output_type": "execute_result"
    }
   ],
   "source": [
    "pvals"
   ]
  },
  {
   "cell_type": "code",
   "execution_count": null,
   "metadata": {},
   "outputs": [
    {
     "data": {
      "text/html": [
       "<div>\n",
       "<style scoped>\n",
       "    .dataframe tbody tr th:only-of-type {\n",
       "        vertical-align: middle;\n",
       "    }\n",
       "\n",
       "    .dataframe tbody tr th {\n",
       "        vertical-align: top;\n",
       "    }\n",
       "\n",
       "    .dataframe thead th {\n",
       "        text-align: right;\n",
       "    }\n",
       "</style>\n",
       "<table border=\"1\" class=\"dataframe\">\n",
       "  <thead>\n",
       "    <tr style=\"text-align: right;\">\n",
       "      <th></th>\n",
       "      <th>Cols</th>\n",
       "      <th>Pval</th>\n",
       "    </tr>\n",
       "  </thead>\n",
       "  <tbody>\n",
       "    <tr>\n",
       "      <th>0</th>\n",
       "      <td>size_in_m_2</td>\n",
       "      <td>0.000000e+00</td>\n",
       "    </tr>\n",
       "    <tr>\n",
       "      <th>1</th>\n",
       "      <td>no_of_bedrooms</td>\n",
       "      <td>4.867487e-129</td>\n",
       "    </tr>\n",
       "    <tr>\n",
       "      <th>2</th>\n",
       "      <td>no_of_bathrooms</td>\n",
       "      <td>2.688943e-122</td>\n",
       "    </tr>\n",
       "    <tr>\n",
       "      <th>3</th>\n",
       "      <td>latitude</td>\n",
       "      <td>7.668705e-20</td>\n",
       "    </tr>\n",
       "    <tr>\n",
       "      <th>4</th>\n",
       "      <td>quality_3</td>\n",
       "      <td>2.262572e-04</td>\n",
       "    </tr>\n",
       "    <tr>\n",
       "      <th>5</th>\n",
       "      <td>quality_2</td>\n",
       "      <td>1.291513e-02</td>\n",
       "    </tr>\n",
       "    <tr>\n",
       "      <th>6</th>\n",
       "      <td>quality_1</td>\n",
       "      <td>1.298061e-01</td>\n",
       "    </tr>\n",
       "    <tr>\n",
       "      <th>7</th>\n",
       "      <td>longitude</td>\n",
       "      <td>5.018901e-01</td>\n",
       "    </tr>\n",
       "  </tbody>\n",
       "</table>\n",
       "</div>"
      ],
      "text/plain": [
       "              Cols           Pval\n",
       "0      size_in_m_2   0.000000e+00\n",
       "1   no_of_bedrooms  4.867487e-129\n",
       "2  no_of_bathrooms  2.688943e-122\n",
       "3         latitude   7.668705e-20\n",
       "4        quality_3   2.262572e-04\n",
       "5        quality_2   1.291513e-02\n",
       "6        quality_1   1.298061e-01\n",
       "7        longitude   5.018901e-01"
      ]
     },
     "execution_count": 40,
     "metadata": {},
     "output_type": "execute_result"
    }
   ],
   "source": [
    "pvals = pvals.sort_values(by = [\"Pval\"]).reset_index(drop=True)\n",
    "pvals"
   ]
  },
  {
   "cell_type": "code",
   "execution_count": null,
   "metadata": {},
   "outputs": [
    {
     "data": {
      "text/html": [
       "<div>\n",
       "<style scoped>\n",
       "    .dataframe tbody tr th:only-of-type {\n",
       "        vertical-align: middle;\n",
       "    }\n",
       "\n",
       "    .dataframe tbody tr th {\n",
       "        vertical-align: top;\n",
       "    }\n",
       "\n",
       "    .dataframe thead th {\n",
       "        text-align: right;\n",
       "    }\n",
       "</style>\n",
       "<table border=\"1\" class=\"dataframe\">\n",
       "  <thead>\n",
       "    <tr style=\"text-align: right;\">\n",
       "      <th></th>\n",
       "      <th>Cols</th>\n",
       "      <th>Pval</th>\n",
       "    </tr>\n",
       "  </thead>\n",
       "  <tbody>\n",
       "    <tr>\n",
       "      <th>0</th>\n",
       "      <td>size_in_m_2</td>\n",
       "      <td>0.000000e+00</td>\n",
       "    </tr>\n",
       "    <tr>\n",
       "      <th>1</th>\n",
       "      <td>no_of_bedrooms</td>\n",
       "      <td>4.867487e-129</td>\n",
       "    </tr>\n",
       "    <tr>\n",
       "      <th>2</th>\n",
       "      <td>no_of_bathrooms</td>\n",
       "      <td>2.688943e-122</td>\n",
       "    </tr>\n",
       "    <tr>\n",
       "      <th>3</th>\n",
       "      <td>latitude</td>\n",
       "      <td>7.668705e-20</td>\n",
       "    </tr>\n",
       "    <tr>\n",
       "      <th>4</th>\n",
       "      <td>quality_3</td>\n",
       "      <td>2.262572e-04</td>\n",
       "    </tr>\n",
       "    <tr>\n",
       "      <th>5</th>\n",
       "      <td>quality_2</td>\n",
       "      <td>1.291513e-02</td>\n",
       "    </tr>\n",
       "  </tbody>\n",
       "</table>\n",
       "</div>"
      ],
      "text/plain": [
       "              Cols           Pval\n",
       "0      size_in_m_2   0.000000e+00\n",
       "1   no_of_bedrooms  4.867487e-129\n",
       "2  no_of_bathrooms  2.688943e-122\n",
       "3         latitude   7.668705e-20\n",
       "4        quality_3   2.262572e-04\n",
       "5        quality_2   1.291513e-02"
      ]
     },
     "execution_count": 41,
     "metadata": {},
     "output_type": "execute_result"
    }
   ],
   "source": [
    "pvals = pvals[pvals.Pval<=0.05]\n",
    "pvals"
   ]
  },
  {
   "cell_type": "code",
   "execution_count": null,
   "metadata": {},
   "outputs": [
    {
     "data": {
      "text/plain": [
       "6"
      ]
     },
     "execution_count": 42,
     "metadata": {},
     "output_type": "execute_result"
    }
   ],
   "source": [
    "pvals.shape[0]"
   ]
  },
  {
   "cell_type": "code",
   "execution_count": null,
   "metadata": {},
   "outputs": [
    {
     "data": {
      "text/plain": [
       "['size_in_m_2']"
      ]
     },
     "execution_count": 43,
     "metadata": {},
     "output_type": "execute_result"
    }
   ],
   "source": [
    "[pvals[\"Cols\"][0]]"
   ]
  },
  {
   "cell_type": "markdown",
   "metadata": {},
   "source": []
  },
  {
   "cell_type": "code",
   "execution_count": null,
   "metadata": {},
   "outputs": [],
   "source": [
    "def forward_AIC_train_error_MAD (X,y, varchar_process=\"dummy_dropfirst\"):\n",
    "\n",
    "        X = __varcharProcessing__(X , varchar_process = varchar_process)\n",
    "\n",
    "        cols = X.columns.tolist()\n",
    "\n",
    "        regressor = sm.OLS(y, X).fit()\n",
    "\n",
    "        selected_cols = [\"intercept\"]\n",
    "\n",
    "        other_cols = cols.copy()\n",
    "        other_cols.remove(\"intercept\")\n",
    "\n",
    "        model = sm.OLS(y, X[selected_cols]).fit()\n",
    "\n",
    "        criteria = model.aic\n",
    "\n",
    "        ######################################################################################\n",
    "        for i in range(X.shape[1]):\n",
    "\n",
    "                train_errors = pd.DataFrame(columns = [\"Cols\", \"train_error_MAD\"])\n",
    "\n",
    "                for j in other_cols:\n",
    "\n",
    "                        model = sm.OLS(y, X[ selected_cols + [j] ] ).fit()\n",
    "\n",
    "                        train_error_MAD = ((y - model.predict(X[ selected_cols + [j] ])).abs()).mean()\n",
    "                        \n",
    "                        train_errors = train_errors.append(pd.DataFrame([[ j , train_error_MAD ]], columns = [\"Cols\",\"train_error_MAD\"]), ignore_index=True)\n",
    "\n",
    "                train_errors = train_errors.sort_values(by = [\"train_error_MAD\"]).reset_index(drop=True)\n",
    "                \n",
    "                model = sm.OLS(y, X[ selected_cols + [train_errors[\"Cols\"][0]] ]).fit()\n",
    "\n",
    "                new_criteria = model.aic\n",
    "\n",
    "\n",
    "                if new_criteria < criteria :\n",
    "\n",
    "                                print(\"Entered :\", train_errors[\"Cols\"][0], \"\\tAIC :\", model.aic)\n",
    "\n",
    "                                selected_cols.append(train_errors[\"Cols\"][0])\n",
    "                                other_cols.remove(train_errors[\"Cols\"][0])\n",
    "\n",
    "                                criteria = new_criteria\n",
    "\n",
    "                else:\n",
    "                                print(\"break : Criteria\")\n",
    "                                break\n",
    "        ######################################################################################       \n",
    "\n",
    "        model = sm.OLS(y, X[selected_cols]).fit()\n",
    "        \n",
    "        criteria = model.aic\n",
    "\n",
    "        print(model.summary())\n",
    "        \n",
    "        print(\"Final Variables:\", selected_cols)\n",
    "\n",
    "        return selected_cols"
   ]
  },
  {
   "cell_type": "code",
   "execution_count": null,
   "metadata": {},
   "outputs": [
    {
     "name": "stdout",
     "output_type": "stream",
     "text": [
      "Character Variables (Dummies Generated, First Dummies Dropped): []\n",
      "Entered : size_in_m_2 \tAIC : 60099.2534671769\n",
      "Entered : no_of_bedrooms \tAIC : 59917.92723088584\n",
      "Entered : latitude \tAIC : 59856.41201860482\n",
      "Entered : longitude \tAIC : 59853.0413699519\n",
      "Entered : quality_2 \tAIC : 59852.348315523595\n",
      "break : Criteria\n",
      "                            OLS Regression Results                            \n",
      "==============================================================================\n",
      "Dep. Variable:                  price   R-squared:                       0.697\n",
      "Model:                            OLS   Adj. R-squared:                  0.696\n",
      "Method:                 Least Squares   F-statistic:                     874.4\n",
      "Date:                Wed, 20 Jul 2022   Prob (F-statistic):               0.00\n",
      "Time:                        23:22:18   Log-Likelihood:                -29920.\n",
      "No. Observations:                1905   AIC:                         5.985e+04\n",
      "Df Residuals:                    1899   BIC:                         5.989e+04\n",
      "Df Model:                           5                                         \n",
      "Covariance Type:            nonrobust                                         \n",
      "==================================================================================\n",
      "                     coef    std err          t      P>|t|      [0.025      0.975]\n",
      "----------------------------------------------------------------------------------\n",
      "intercept      -6.098e+07   2.99e+07     -2.037      0.042    -1.2e+08   -2.26e+06\n",
      "size_in_m_2     3.553e+04    709.611     50.072      0.000    3.41e+04    3.69e+04\n",
      "no_of_bedrooms -8.811e+05   6.13e+04    -14.362      0.000      -1e+06   -7.61e+05\n",
      "latitude        5.904e+06   7.58e+05      7.787      0.000    4.42e+06    7.39e+06\n",
      "longitude        -1.6e+06   6.85e+05     -2.336      0.020   -2.94e+06   -2.57e+05\n",
      "quality_2       2.362e+05   1.44e+05      1.639      0.101   -4.64e+04    5.19e+05\n",
      "==============================================================================\n",
      "Omnibus:                      777.615   Durbin-Watson:                   1.716\n",
      "Prob(Omnibus):                  0.000   Jarque-Bera (JB):            25332.769\n",
      "Skew:                           1.271   Prob(JB):                         0.00\n",
      "Kurtosis:                      20.683   Cond. No.                     1.34e+05\n",
      "==============================================================================\n",
      "\n",
      "Notes:\n",
      "[1] Standard Errors assume that the covariance matrix of the errors is correctly specified.\n",
      "[2] The condition number is large, 1.34e+05. This might indicate that there are\n",
      "strong multicollinearity or other numerical problems.\n",
      "Final Variables: ['intercept', 'size_in_m_2', 'no_of_bedrooms', 'latitude', 'longitude', 'quality_2']\n"
     ]
    },
    {
     "data": {
      "text/plain": [
       "['intercept',\n",
       " 'size_in_m_2',\n",
       " 'no_of_bedrooms',\n",
       " 'latitude',\n",
       " 'longitude',\n",
       " 'quality_2']"
      ]
     },
     "execution_count": 93,
     "metadata": {},
     "output_type": "execute_result"
    }
   ],
   "source": [
    "forward_AIC_train_error_MAD (X,y, varchar_process=\"dummy_dropfirst\")"
   ]
  },
  {
   "cell_type": "markdown",
   "metadata": {},
   "source": []
  },
  {
   "cell_type": "markdown",
   "metadata": {},
   "source": [
    "### Backward Selection <a class=\"anchor\" id=\"6\"></a>"
   ]
  },
  {
   "cell_type": "markdown",
   "metadata": {},
   "source": []
  },
  {
   "cell_type": "markdown",
   "metadata": {},
   "source": [
    "## Bibliography"
   ]
  },
  {
   "cell_type": "markdown",
   "metadata": {},
   "source": [
    "https://nathancarter.github.io/how2data/site/\n",
    "\n",
    "https://github.com/talhahascelik/python_stepwiseSelection/blob/master/stepwiseSelection.py\n",
    "\n",
    "http://www.science.smith.edu/~jcrouser/SDS293/labs/lab8-py.html\n",
    "\n",
    "https://statweb.stanford.edu/~jtaylo/courses/stats203/notes/selection.pdf\n",
    "\n",
    "Linear Models with R. Julian Faraway."
   ]
  }
 ],
 "metadata": {
  "kernelspec": {
   "display_name": "Python 3.9.12",
   "language": "python",
   "name": "python3"
  },
  "language_info": {
   "codemirror_mode": {
    "name": "ipython",
    "version": 3
   },
   "file_extension": ".py",
   "mimetype": "text/x-python",
   "name": "python",
   "nbconvert_exporter": "python",
   "pygments_lexer": "ipython3",
   "version": "3.9.12"
  },
  "orig_nbformat": 4,
  "vscode": {
   "interpreter": {
    "hash": "7631d2f67dc5c0d81c934cd816f64da3a3e19087cae08f194906cf70954a9de3"
   }
  }
 },
 "nbformat": 4,
 "nbformat_minor": 2
}
