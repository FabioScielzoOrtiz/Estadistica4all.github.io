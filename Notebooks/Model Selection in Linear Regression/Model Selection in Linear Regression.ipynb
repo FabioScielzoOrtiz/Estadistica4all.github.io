{
 "cells": [
  {
   "cell_type": "markdown",
   "metadata": {},
   "source": [
    "# Model Selection in Linear Regression with `Python` and `R`"
   ]
  },
  {
   "cell_type": "markdown",
   "metadata": {},
   "source": [
    "## Index\n",
    "\n",
    "* [Data-set ](#1)\n",
    "* * [Loading the data-set in `Python`](#2)\n",
    "* * [Loading the data-set in `R`](#3)\n",
    "\n",
    "  <br>\n",
    "  \n",
    "* [F-test: test to compare models](#4)\n",
    "* * [F-test in `Python`](#5)\n",
    "* * [F-test in `R`](#6)\n",
    "* * [ANOVA test as an F-test](#7)\n",
    "* * [Significance test as an F-test](#8)\n",
    "\n",
    "  <br>\n"
   ]
  },
  {
   "cell_type": "markdown",
   "metadata": {},
   "source": [
    "\n",
    "* [Iterative Algorithms](#9) \n",
    "  \n",
    "\n",
    "\n",
    "* * [Metrics](#10) \n",
    "* * * [$\\widehat{R}^2$](#11) \n",
    "* * * [$AIC$](#12) \n",
    "* * * [$BIC$](#13)\n",
    "* * * * [Maximum Likelihood Estimation in the Linear Regression Model](#14) \n",
    "* * * * * [$AIC$ and $BIC$ in the Linear Regression Model](#14.1) \n",
    "* * * * [$AIC$ in `Python`](#14) \n",
    "* * * * [$BIC$ in `Python`](#15)\n",
    "* * * * [$AIC$ in `R`](#16) \n",
    "* * * * [$BIC$ in `R`](#17)\n",
    "* * * [Mallows's $C_p$](#18) \n",
    "* * * * [$C_p$ in `Python`](#19)\n",
    "* * * * [$C_p$ in `R`](#19)\n",
    "\n"
   ]
  },
  {
   "cell_type": "markdown",
   "metadata": {},
   "source": [
    "\n",
    "* * [Best Subset Selection](#20) \n",
    "* * * [Best Subset Selection in `Python`](#21) \n",
    "* * * [Best Subset Selection in `R`](#22) \n",
    "  \n"
   ]
  },
  {
   "cell_type": "markdown",
   "metadata": {},
   "source": [
    "* * [Forward Selection](#23) \n",
    "* * * [Forward Selection in `Python`](#24)\n",
    "* * * [Forward Selection in `R`](#25)\n",
    "  \n"
   ]
  },
  {
   "cell_type": "markdown",
   "metadata": {},
   "source": [
    "* * [Backward Selection](#26) \n",
    "* * * [Backward Selection in `Python`](#27) \n",
    "* * * [Backward Selection in `R`](#28) \n",
    "\n",
    "\n",
    "  \n"
   ]
  },
  {
   "cell_type": "markdown",
   "metadata": {},
   "source": []
  },
  {
   "cell_type": "markdown",
   "metadata": {},
   "source": [
    "## Data-set <a class=\"anchor\" id=\"1\"></a>"
   ]
  },
  {
   "cell_type": "markdown",
   "metadata": {},
   "source": [
    "The description of the data-set that we are going to use could be found in the following article:\n",
    "\n",
    "https://fabioscielzoortiz.github.io/Estadistica4all.github.io/Articulos/Linear%20Regression%20in%20Python%20and%20R.html"
   ]
  },
  {
   "cell_type": "markdown",
   "metadata": {},
   "source": []
  },
  {
   "cell_type": "markdown",
   "metadata": {},
   "source": [
    "### Loading the data-set in `Python` <a class=\"anchor\" id=\"2\"></a>"
   ]
  },
  {
   "cell_type": "code",
   "execution_count": 230,
   "metadata": {},
   "outputs": [],
   "source": [
    "import pandas as pd\n",
    "import numpy as np\n",
    "\n",
    "import warnings\n",
    "warnings.filterwarnings('ignore')"
   ]
  },
  {
   "cell_type": "code",
   "execution_count": 231,
   "metadata": {},
   "outputs": [],
   "source": [
    "data_Python = pd.read_csv('data_Python_copy.csv')"
   ]
  },
  {
   "cell_type": "code",
   "execution_count": 232,
   "metadata": {},
   "outputs": [
    {
     "data": {
      "text/html": [
       "<div>\n",
       "<style scoped>\n",
       "    .dataframe tbody tr th:only-of-type {\n",
       "        vertical-align: middle;\n",
       "    }\n",
       "\n",
       "    .dataframe tbody tr th {\n",
       "        vertical-align: top;\n",
       "    }\n",
       "\n",
       "    .dataframe thead th {\n",
       "        text-align: right;\n",
       "    }\n",
       "</style>\n",
       "<table border=\"1\" class=\"dataframe\">\n",
       "  <thead>\n",
       "    <tr style=\"text-align: right;\">\n",
       "      <th></th>\n",
       "      <th>price</th>\n",
       "      <th>size_in_m_2</th>\n",
       "      <th>longitude</th>\n",
       "      <th>latitude</th>\n",
       "      <th>no_of_bedrooms</th>\n",
       "      <th>no_of_bathrooms</th>\n",
       "      <th>quality</th>\n",
       "    </tr>\n",
       "  </thead>\n",
       "  <tbody>\n",
       "    <tr>\n",
       "      <th>0</th>\n",
       "      <td>2700000</td>\n",
       "      <td>100.242337</td>\n",
       "      <td>55.138932</td>\n",
       "      <td>25.113208</td>\n",
       "      <td>1</td>\n",
       "      <td>2</td>\n",
       "      <td>1</td>\n",
       "    </tr>\n",
       "    <tr>\n",
       "      <th>1</th>\n",
       "      <td>2850000</td>\n",
       "      <td>146.972546</td>\n",
       "      <td>55.151201</td>\n",
       "      <td>25.106809</td>\n",
       "      <td>2</td>\n",
       "      <td>2</td>\n",
       "      <td>1</td>\n",
       "    </tr>\n",
       "    <tr>\n",
       "      <th>2</th>\n",
       "      <td>1150000</td>\n",
       "      <td>181.253753</td>\n",
       "      <td>55.137728</td>\n",
       "      <td>25.063302</td>\n",
       "      <td>3</td>\n",
       "      <td>5</td>\n",
       "      <td>1</td>\n",
       "    </tr>\n",
       "    <tr>\n",
       "      <th>3</th>\n",
       "      <td>2850000</td>\n",
       "      <td>187.664060</td>\n",
       "      <td>55.341761</td>\n",
       "      <td>25.227295</td>\n",
       "      <td>2</td>\n",
       "      <td>3</td>\n",
       "      <td>0</td>\n",
       "    </tr>\n",
       "    <tr>\n",
       "      <th>4</th>\n",
       "      <td>1729200</td>\n",
       "      <td>47.101821</td>\n",
       "      <td>55.139764</td>\n",
       "      <td>25.114275</td>\n",
       "      <td>0</td>\n",
       "      <td>1</td>\n",
       "      <td>1</td>\n",
       "    </tr>\n",
       "    <tr>\n",
       "      <th>...</th>\n",
       "      <td>...</td>\n",
       "      <td>...</td>\n",
       "      <td>...</td>\n",
       "      <td>...</td>\n",
       "      <td>...</td>\n",
       "      <td>...</td>\n",
       "      <td>...</td>\n",
       "    </tr>\n",
       "    <tr>\n",
       "      <th>1900</th>\n",
       "      <td>1500000</td>\n",
       "      <td>100.985561</td>\n",
       "      <td>55.310712</td>\n",
       "      <td>25.176892</td>\n",
       "      <td>2</td>\n",
       "      <td>2</td>\n",
       "      <td>3</td>\n",
       "    </tr>\n",
       "    <tr>\n",
       "      <th>1901</th>\n",
       "      <td>1230000</td>\n",
       "      <td>70.606280</td>\n",
       "      <td>55.276684</td>\n",
       "      <td>25.166145</td>\n",
       "      <td>1</td>\n",
       "      <td>2</td>\n",
       "      <td>1</td>\n",
       "    </tr>\n",
       "    <tr>\n",
       "      <th>1902</th>\n",
       "      <td>2900000</td>\n",
       "      <td>179.302790</td>\n",
       "      <td>55.345056</td>\n",
       "      <td>25.206500</td>\n",
       "      <td>3</td>\n",
       "      <td>5</td>\n",
       "      <td>1</td>\n",
       "    </tr>\n",
       "    <tr>\n",
       "      <th>1903</th>\n",
       "      <td>675000</td>\n",
       "      <td>68.748220</td>\n",
       "      <td>55.229844</td>\n",
       "      <td>25.073858</td>\n",
       "      <td>1</td>\n",
       "      <td>2</td>\n",
       "      <td>1</td>\n",
       "    </tr>\n",
       "    <tr>\n",
       "      <th>1904</th>\n",
       "      <td>760887</td>\n",
       "      <td>74.322400</td>\n",
       "      <td>55.154713</td>\n",
       "      <td>25.079130</td>\n",
       "      <td>1</td>\n",
       "      <td>2</td>\n",
       "      <td>2</td>\n",
       "    </tr>\n",
       "  </tbody>\n",
       "</table>\n",
       "<p>1905 rows × 7 columns</p>\n",
       "</div>"
      ],
      "text/plain": [
       "        price  size_in_m_2  longitude   latitude  no_of_bedrooms  \\\n",
       "0     2700000   100.242337  55.138932  25.113208               1   \n",
       "1     2850000   146.972546  55.151201  25.106809               2   \n",
       "2     1150000   181.253753  55.137728  25.063302               3   \n",
       "3     2850000   187.664060  55.341761  25.227295               2   \n",
       "4     1729200    47.101821  55.139764  25.114275               0   \n",
       "...       ...          ...        ...        ...             ...   \n",
       "1900  1500000   100.985561  55.310712  25.176892               2   \n",
       "1901  1230000    70.606280  55.276684  25.166145               1   \n",
       "1902  2900000   179.302790  55.345056  25.206500               3   \n",
       "1903   675000    68.748220  55.229844  25.073858               1   \n",
       "1904   760887    74.322400  55.154713  25.079130               1   \n",
       "\n",
       "      no_of_bathrooms  quality  \n",
       "0                   2        1  \n",
       "1                   2        1  \n",
       "2                   5        1  \n",
       "3                   3        0  \n",
       "4                   1        1  \n",
       "...               ...      ...  \n",
       "1900                2        3  \n",
       "1901                2        1  \n",
       "1902                5        1  \n",
       "1903                2        1  \n",
       "1904                2        2  \n",
       "\n",
       "[1905 rows x 7 columns]"
      ]
     },
     "execution_count": 232,
     "metadata": {},
     "output_type": "execute_result"
    }
   ],
   "source": [
    "data_Python"
   ]
  },
  {
   "cell_type": "code",
   "execution_count": 233,
   "metadata": {},
   "outputs": [
    {
     "data": {
      "text/plain": [
       "price                int64\n",
       "size_in_m_2        float64\n",
       "longitude          float64\n",
       "latitude           float64\n",
       "no_of_bedrooms       int64\n",
       "no_of_bathrooms      int64\n",
       "quality              int64\n",
       "dtype: object"
      ]
     },
     "execution_count": 233,
     "metadata": {},
     "output_type": "execute_result"
    }
   ],
   "source": [
    "data_Python.dtypes"
   ]
  },
  {
   "cell_type": "markdown",
   "metadata": {},
   "source": []
  },
  {
   "cell_type": "markdown",
   "metadata": {},
   "source": [
    "Converting $quality$ variable to categorical:"
   ]
  },
  {
   "cell_type": "code",
   "execution_count": 234,
   "metadata": {},
   "outputs": [],
   "source": [
    "data_Python['quality'] = data_Python['quality'].astype('category')"
   ]
  },
  {
   "cell_type": "markdown",
   "metadata": {},
   "source": []
  },
  {
   "cell_type": "markdown",
   "metadata": {},
   "source": []
  },
  {
   "cell_type": "markdown",
   "metadata": {},
   "source": [
    "### Loading the data-set in `R` <a class=\"anchor\" id=\"3\"></a>"
   ]
  },
  {
   "cell_type": "code",
   "execution_count": 235,
   "metadata": {},
   "outputs": [
    {
     "name": "stdout",
     "output_type": "stream",
     "text": [
      "The rpy2.ipython extension is already loaded. To reload it, use:\n",
      "  %reload_ext rpy2.ipython\n"
     ]
    }
   ],
   "source": [
    "import rpy2\n",
    "\n",
    "%load_ext rpy2.ipython\n",
    "\n",
    "import rpy2.robjects as robjects"
   ]
  },
  {
   "cell_type": "code",
   "execution_count": 236,
   "metadata": {},
   "outputs": [
    {
     "name": "stdout",
     "output_type": "stream",
     "text": [
      "Rows: 1905 Columns: 7\n",
      "-- Column specification --------------------------------------------------------\n",
      "Delimiter: \",\"\n",
      "dbl (7): price, size_in_m_2, longitude, latitude, no_of_bedrooms, no_of_bath...\n",
      "\n",
      "i Use `spec()` to retrieve the full column specification for this data.\n",
      "i Specify the column types or set `show_col_types = FALSE` to quiet this message.\n"
     ]
    }
   ],
   "source": [
    "%%R \n",
    "\n",
    "library(tidyverse)\n",
    "\n",
    "data_R = read_csv('data_Python_copy.csv')"
   ]
  },
  {
   "cell_type": "markdown",
   "metadata": {},
   "source": []
  },
  {
   "cell_type": "markdown",
   "metadata": {},
   "source": [
    "Converting $quality$ variable to categorical:"
   ]
  },
  {
   "cell_type": "code",
   "execution_count": 237,
   "metadata": {},
   "outputs": [],
   "source": [
    "%%R\n",
    "data_R$quality <- as.factor(data_R$quality)"
   ]
  },
  {
   "cell_type": "markdown",
   "metadata": {},
   "source": []
  },
  {
   "cell_type": "code",
   "execution_count": 238,
   "metadata": {},
   "outputs": [
    {
     "name": "stdout",
     "output_type": "stream",
     "text": [
      "# A tibble: 7 x 7\n",
      "    price size_in_m_2 longitude latitude no_of_bedrooms no_of_bathrooms quality\n",
      "    <dbl>       <dbl>     <dbl>    <dbl>          <dbl>           <dbl> <fct>  \n",
      "1 2700000       100.       55.1     25.1              1               2 1      \n",
      "2 2850000       147.       55.2     25.1              2               2 1      \n",
      "3 1150000       181.       55.1     25.1              3               5 1      \n",
      "4 2850000       188.       55.3     25.2              2               3 0      \n",
      "5 1729200        47.1      55.1     25.1              0               1 1      \n",
      "6 3119900        94.3      55.1     25.1              1               2 1      \n",
      "7 8503600       192.       55.1     25.1              2               3 2      \n"
     ]
    }
   ],
   "source": [
    "%%R\n",
    "\n",
    "data_R[1:7, ]"
   ]
  },
  {
   "cell_type": "markdown",
   "metadata": {},
   "source": []
  },
  {
   "cell_type": "markdown",
   "metadata": {},
   "source": []
  },
  {
   "cell_type": "markdown",
   "metadata": {},
   "source": [
    "## F-test: test to compare models <a class=\"anchor\" id=\"4\"></a>\n"
   ]
  },
  {
   "cell_type": "markdown",
   "metadata": {},
   "source": [
    "The ANOVA and significance test are a particular case of a more general test that is useful to compere linear regression models, but always under the assumptions of the model.\n"
   ]
  },
  {
   "cell_type": "markdown",
   "metadata": {},
   "source": [
    "\n",
    "-   We have a linear regression model with $\\hspace{0.1cm} k \\hspace{0.1cm} $ coefficients (betas)\n",
    "    $\\hspace{0.1cm} \\Rightarrow \\hspace{0.1cm} \\Omega_k$\n",
    "\n",
    "     -  $\\Omega_k \\ : \\  \\ y_i = \\beta_0 + \\beta_1\\cdot x_{i1} +...+ \\beta_{k-1}\\cdot x_{i(k-1)} + \\varepsilon_i$ \n",
    "\n"
   ]
  },
  {
   "cell_type": "markdown",
   "metadata": {},
   "source": [
    "\n",
    "-   We have another linear regression model with only\n",
    "    $\\hspace{0.1cm} q<k \\hspace{0.1cm} $ coefficients (betas) of $\\Omega_p$ $\\hspace{0.1cm} \\Rightarrow \\hspace{0.1cm}  \\omega_q$\n",
    "\n",
    "     -  $\\omega_q \\ : \\  \\ y_i = \\beta_0 + \\beta_1\\cdot x_{i1} +...+ \\beta_{q-1}\\cdot x_{i(q-1)} + \\varepsilon_i \\hspace{0.2cm}$ , with $q < k$\n",
    "\n"
   ]
  },
  {
   "cell_type": "markdown",
   "metadata": {},
   "source": [
    "\n",
    "\n",
    "-   $\\omega_q$ is a sub-model of $\\Omega_k$ , we can denote this as\n",
    "    $\\hspace{0.1cm} \\omega_q \\subset \\Omega_k$\n",
    "    \n"
   ]
  },
  {
   "cell_type": "markdown",
   "metadata": {},
   "source": []
  },
  {
   "cell_type": "markdown",
   "metadata": {},
   "source": [
    "\n",
    "\n",
    "The hypothesis test we want to carry out is the following:\n",
    "\n",
    "$$\n",
    "H_0: \\hspace{0.15cm} \\omega_q  \\\\\n",
    "\n",
    "H_1: \\hspace{0.15cm} \\Omega_k\n",
    "$$\n",
    "\n",
    "\n",
    "Where :\n",
    "\n",
    "- $\\omega_q \\subset \\Omega_p$\n",
    "\n",
    "- Reject $H_0$ means  $\\Omega_k$ is a \"better\" model than $\\omega_q$\n",
    "\n",
    "- Not Reject $H_0$ means $\\Omega_k$ isn´t a \"better\" model than $\\omega_q$\n",
    "\n",
    "<br>\n"
   ]
  },
  {
   "cell_type": "markdown",
   "metadata": {},
   "source": [
    "\n",
    "Now we have to determinate a rule to reject $H_0$ in favor of $H_1$ or not\n",
    "\n",
    "A first approach is the following:\n",
    "\n",
    "Let :\n",
    "\n",
    "$$\n",
    "RSS_{\\Omega_k} =  \\sum_{i=1}^n ( \\hat{\\varepsilon}_{\\Omega_k \\hspace{0.05cm},\\hspace{0.05cm} i} )^2 =  \\sum_{i=1}^n \\left( y_i - \\hat{y}_{\\hspace{0.01cm} \\Omega_k \\hspace{0.05cm},\\hspace{0.02cm} i}\\right)^2   \n",
    "$$\n",
    "\n",
    "$$\n",
    "RSS_{\\omega_q} =  \\sum_{i=1}^n ( \\hat{\\varepsilon}_{\\omega_q \\hspace{0.05cm},\\hspace{0.05cm} i} )^2 =  \\sum_{i=1}^n \\left( y_i - \\hat{y}_{\\omega_q \\hspace{0.05cm},\\hspace{0.02cm} i}\\right)^2\n",
    "$$\n"
   ]
  },
  {
   "cell_type": "markdown",
   "metadata": {},
   "source": [
    "\n",
    "-   If $\\hspace{0.1cm} RSS_{\\omega_q} - RSS_{\\Omega_k} \\hspace{0.1cm}$ is **small**, then the\n",
    "    predictions of the **smaller model** $(\\omega_q)$ are almost as good as the **larger\n",
    "    model** $(\\Omega_k)$, so we would prefer the smaller model on the grounds of\n",
    "    simplicity.\n",
    "\n",
    "-   If $\\hspace{0.1cm} RSS_{\\omega_q} - RSS_{\\Omega_k} \\hspace{0.1cm}$ is **large**, then the\n",
    "    predictions of the **smaller model** $(\\omega_q)$  are much worse than the **larger\n",
    "    model** $(\\Omega_k)$, so we would prefer the larger model.\n",
    "\n"
   ]
  },
  {
   "cell_type": "markdown",
   "metadata": {},
   "source": [
    "\n",
    "That suggest that something like\n",
    "\n",
    "$$\n",
    "\\dfrac{RSS_{\\omega_q} - RSS_{\\Omega_k}}{RSS_{\\Omega_k}}\n",
    "$$\n",
    "\n",
    "would be a potentially good test statistic, where the denominator is used for scaling purposes.\n",
    "\n"
   ]
  },
  {
   "cell_type": "markdown",
   "metadata": {},
   "source": []
  },
  {
   "cell_type": "markdown",
   "metadata": {},
   "source": [
    "\n",
    "\n",
    "### Statistic Test\n",
    "\n",
    "Finally we can get to an statistic test based on the previous\n",
    "expression, called **F-statistic**:\n",
    "\n"
   ]
  },
  {
   "cell_type": "markdown",
   "metadata": {},
   "source": [
    "\n",
    "$$\n",
    "F=\\dfrac{(RSS_{\\omega_q} - RSS_{\\Omega_k})/(k-q)}{RSS_{\\Omega_k}/(n-k)} \\sim F_{\\hspace{0.05cm} k-q \\hspace{0.05cm},\\hspace{0.05cm} n-k}\n",
    "$$\n"
   ]
  },
  {
   "cell_type": "markdown",
   "metadata": {},
   "source": []
  },
  {
   "cell_type": "markdown",
   "metadata": {},
   "source": [
    "If $\\hspace{0.1cm} df_{\\Omega_k} = n-k \\hspace{0.1cm}$ and $\\hspace{0.1cm} df_{\\omega_q} = n-q \\hspace{0.1cm}$ , then :\n"
   ]
  },
  {
   "cell_type": "markdown",
   "metadata": {},
   "source": [
    "\n",
    "$$\n",
    "F=\\dfrac{(RSS_{\\omega_q} - RSS_{\\Omega_k})/(df_{\\omega_q} - df_{\\Omega_k})}{RSS_{\\Omega_k}/df_{\\Omega_k}} \\sim F_{\\hspace{0.05cm} (df_{\\omega_q} - df_{\\Omega_k}) \\hspace{0.05cm},\\hspace{0.05cm} df_{\\Omega_k}}\n",
    "$$"
   ]
  },
  {
   "cell_type": "markdown",
   "metadata": {},
   "source": [
    "\n",
    "Where:\n",
    "\n",
    "$k$ is the number of coefficients (betas) of the model $\\Omega_k$\n",
    "\n",
    "$q$ is the number of coefficients (betas) of the model $\\omega_q$\n",
    "\n",
    "\n",
    "The beauty of this approach is you only need to know the general form.\n",
    "In any particular case, you just need to figure out which model\n",
    "represent the null and alternative hypothesis, fit them and compute the test statistic.\n",
    "\n",
    "\n"
   ]
  },
  {
   "cell_type": "markdown",
   "metadata": {},
   "source": []
  },
  {
   "cell_type": "markdown",
   "metadata": {},
   "source": [
    "### F-test in `Python` <a class=\"anchor\" id=\"5\"></a>"
   ]
  },
  {
   "cell_type": "markdown",
   "metadata": {},
   "source": []
  },
  {
   "cell_type": "code",
   "execution_count": 239,
   "metadata": {},
   "outputs": [],
   "source": [
    "import statsmodels.formula.api as smf\n",
    "\n",
    "from statsmodels.stats.anova import anova_lm\n",
    "\n",
    "from statsmodels.formula.api import ols"
   ]
  },
  {
   "cell_type": "code",
   "execution_count": 240,
   "metadata": {},
   "outputs": [],
   "source": [
    "M1_py = smf.ols(formula = 'price ~ size_in_m_2*quality  + no_of_bedrooms + no_of_bathrooms + latitude + longitude', \n",
    "                 data =data_Python).fit()\n",
    "\n",
    "M2_py = smf.ols(formula = 'price ~ size_in_m_2 + no_of_bedrooms + no_of_bathrooms + quality + latitude + longitude ', \n",
    "                 data =data_Python).fit()\n",
    "\n",
    "M3_py = smf.ols(formula = 'price ~ size_in_m_2 + no_of_bedrooms + no_of_bathrooms + latitude + longitude', \n",
    "                 data =data_Python).fit()\n",
    "\n",
    "M4_py = smf.ols(formula = 'price ~ size_in_m_2 + no_of_bedrooms + no_of_bathrooms', \n",
    "                 data =data_Python).fit()\n",
    "\n",
    "M5_py = smf.ols(formula = 'price ~ size_in_m_2', \n",
    "                 data =data_Python).fit()"
   ]
  },
  {
   "cell_type": "markdown",
   "metadata": {},
   "source": [
    "$M1$:$\\hspace{0.15cm}$ price ~ size_in_m_2*quality  + no_of_bedrooms + no_of_bathrooms + latitude + longitude\n",
    "\n",
    "$M2$:$\\hspace{0.15cm}$  price ~ size_in_m_2 + no_of_bedrooms + no_of_bathrooms + quality + latitude + longitude \n",
    "\n",
    "$M3$:$\\hspace{0.15cm}$  price ~ size_in_m_2 + no_of_bedrooms + no_of_bathrooms + latitude + longitude\n",
    "\n",
    "$M4$:$\\hspace{0.15cm}$  price ~ size_in_m_2 + no_of_bedrooms + no_of_bathrooms\n",
    "\n",
    "$M5$:$\\hspace{0.15cm}$  price ~ size_in_m_2\n"
   ]
  },
  {
   "cell_type": "markdown",
   "metadata": {},
   "source": [
    "\n",
    "Note that:\n",
    "\n",
    "$$\n",
    "M5 \\subset M4 \\subset M3 \\subset M2 \\subset M1\n",
    "$$\n"
   ]
  },
  {
   "cell_type": "markdown",
   "metadata": {},
   "source": []
  },
  {
   "cell_type": "markdown",
   "metadata": {},
   "source": [
    "We are going to use the function `anova_lm` to carry out the F-test in `Python`"
   ]
  },
  {
   "cell_type": "markdown",
   "metadata": {},
   "source": [
    "The usage of anova_lm is pretty simple:"
   ]
  },
  {
   "cell_type": "markdown",
   "metadata": {},
   "source": [
    "> anova_lm(Model $H_0$ , Model $H_1$)\n",
    ">\n",
    "> $\\hspace{0.25cm}$ Where : $\\hspace{0.15cm}$ Model $H_0$ $\\subset$ Model $H_1$\n"
   ]
  },
  {
   "cell_type": "markdown",
   "metadata": {},
   "source": [
    "\n",
    "Remember that the hypothesis test that we want to do is: \n",
    "\n",
    "$$\n",
    "H_0: \\hspace{0.15cm} \\omega_q \\hspace{0.1cm} (Model \\hspace{0.1cm} H_0) \\\\ \n",
    "H_1: \\hspace{0.15cm} \\Omega_k \\hspace{0.1cm} (Model \\hspace{0.1cm} H_1)\n",
    "$$\n"
   ]
  },
  {
   "cell_type": "markdown",
   "metadata": {},
   "source": []
  },
  {
   "cell_type": "markdown",
   "metadata": {},
   "source": [
    "For example, to carry out the hypothesis test\n",
    "\n",
    "$$\n",
    "H_0: \\hspace{0.15cm} M2\\_py  \\hspace{0.15cm} (\\omega_q)  \\\\ \n",
    "H_1: \\hspace{0.15cm} M1\\_py  \\hspace{0.15cm} (\\Omega_q)\n",
    "$$\n",
    "\n",
    "where M2\\_py is the **smallest** model and M1\\_py the **largest**, we use the following code:"
   ]
  },
  {
   "cell_type": "code",
   "execution_count": 241,
   "metadata": {},
   "outputs": [
    {
     "data": {
      "text/html": [
       "<div>\n",
       "<style scoped>\n",
       "    .dataframe tbody tr th:only-of-type {\n",
       "        vertical-align: middle;\n",
       "    }\n",
       "\n",
       "    .dataframe tbody tr th {\n",
       "        vertical-align: top;\n",
       "    }\n",
       "\n",
       "    .dataframe thead th {\n",
       "        text-align: right;\n",
       "    }\n",
       "</style>\n",
       "<table border=\"1\" class=\"dataframe\">\n",
       "  <thead>\n",
       "    <tr style=\"text-align: right;\">\n",
       "      <th></th>\n",
       "      <th>df_resid</th>\n",
       "      <th>ssr</th>\n",
       "      <th>df_diff</th>\n",
       "      <th>ss_diff</th>\n",
       "      <th>F</th>\n",
       "      <th>Pr(&gt;F)</th>\n",
       "    </tr>\n",
       "  </thead>\n",
       "  <tbody>\n",
       "    <tr>\n",
       "      <th>0</th>\n",
       "      <td>1896.0</td>\n",
       "      <td>4.882082e+15</td>\n",
       "      <td>0.0</td>\n",
       "      <td>NaN</td>\n",
       "      <td>NaN</td>\n",
       "      <td>NaN</td>\n",
       "    </tr>\n",
       "    <tr>\n",
       "      <th>1</th>\n",
       "      <td>1893.0</td>\n",
       "      <td>4.694567e+15</td>\n",
       "      <td>3.0</td>\n",
       "      <td>1.875147e+14</td>\n",
       "      <td>25.203983</td>\n",
       "      <td>5.483226e-16</td>\n",
       "    </tr>\n",
       "  </tbody>\n",
       "</table>\n",
       "</div>"
      ],
      "text/plain": [
       "   df_resid           ssr  df_diff       ss_diff          F        Pr(>F)\n",
       "0    1896.0  4.882082e+15      0.0           NaN        NaN           NaN\n",
       "1    1893.0  4.694567e+15      3.0  1.875147e+14  25.203983  5.483226e-16"
      ]
     },
     "execution_count": 241,
     "metadata": {},
     "output_type": "execute_result"
    }
   ],
   "source": [
    "anova_lm(M2_py, M1_py)"
   ]
  },
  {
   "cell_type": "markdown",
   "metadata": {},
   "source": []
  },
  {
   "cell_type": "markdown",
   "metadata": {},
   "source": [
    "For example, this output gives to us the following information:\n",
    "\n",
    "\n",
    "$$\n",
    "F=\\dfrac{(RSS_{M2\\_{py}} - RSS_{M1\\_py})/(df_{\\omega_q} - df_{\\Omega_k})}{RSS_{M1\\_{py}}/ df_{\\Omega_k}} = 25.203983\n",
    "$$ \n",
    "\n",
    "And the p-value of the test is:\n",
    "\n",
    "$$\n",
    "P(F_{\\hspace{0.05cm} (df_{\\omega_q} - df_{\\Omega_k}) \\hspace{0.05cm},\\hspace{0.05cm} df_{\\Omega_k}} > 25.203983) = 5.483226e-16\n",
    "$$"
   ]
  },
  {
   "cell_type": "markdown",
   "metadata": {},
   "source": [
    "So, the conclusion for any $\\hspace{0.1cm} \\alpha > 5.483226e-16 \\hspace{0.1cm}$ is **reject** $\\hspace{0.1cm} H_0: M2\\_py\\hspace{0.1cm}$ in favor of $\\hspace{0.1cm}H_1: M1\\_py\\hspace{0.1cm}$, so we can accept that $\\hspace{0.1cm} M1\\_py \\hspace{0.1cm}$ is a **better** model than $\\hspace{0.1cm} M2\\_py \\hspace{0.1cm}$"
   ]
  },
  {
   "cell_type": "markdown",
   "metadata": {},
   "source": []
  },
  {
   "cell_type": "markdown",
   "metadata": {},
   "source": [
    "Let's to check that ;\n",
    "\n",
    "First of all, note that the number of betas of model M1_py is $k=12$ (because $quality$ has four categories and there are an interaction between $quality$ and $size\\_in\\_m\\_2$ , and for M2_py is $q=9$\n",
    "\n",
    "This can be easily seen in the following outputs given by `print(M1_py.summary())` and `print(M2_py.summary())`\n"
   ]
  },
  {
   "cell_type": "markdown",
   "metadata": {},
   "source": [
    "\n",
    "In the other hand: \n",
    "\n",
    "$df_{M1\\_py} = n - k = 1905 - 12 = 1893 =$ `anova_lm(M2_py, M1_py).df_resid[1]`\n",
    "\n",
    "$df_{M2\\_py} = n - q = 1905 - 9 = 1896 =$ `anova_lm(M2_py, M1_py).df_resid[0]`\n",
    "\n",
    "$RSS_{M1\\_py} =$ `anova_lm(M2_py, M1_py).ssr[1]` $= 4.694567e+15$\t \n",
    "\n",
    "$RSS_{M2\\_py} =$ `anova_lm(M2_py, M1_py).ssr[0]` $= 4.882082e+15$\t\n",
    "\n"
   ]
  },
  {
   "cell_type": "markdown",
   "metadata": {},
   "source": []
  },
  {
   "cell_type": "markdown",
   "metadata": {},
   "source": [
    "The following step is to compute the F-statistic  using the above information :"
   ]
  },
  {
   "cell_type": "code",
   "execution_count": 242,
   "metadata": {},
   "outputs": [],
   "source": [
    "numerator = ( anova_lm(M2_py, M1_py).ssr[0] - anova_lm(M2_py, M1_py).ssr[1] ) / ( anova_lm(M2_py, M1_py).df_resid[0] - anova_lm(M2_py, M1_py).df_resid[1] )\n",
    "\n",
    "denominator = anova_lm(M2_py, M1_py).ssr[1] / anova_lm(M2_py, M1_py).df_resid[1]\n",
    "\n",
    "F = numerator / denominator"
   ]
  },
  {
   "cell_type": "code",
   "execution_count": 243,
   "metadata": {},
   "outputs": [
    {
     "data": {
      "text/plain": [
       "25.203983015834208"
      ]
     },
     "execution_count": 243,
     "metadata": {},
     "output_type": "execute_result"
    }
   ],
   "source": [
    "F"
   ]
  },
  {
   "cell_type": "code",
   "execution_count": 244,
   "metadata": {},
   "outputs": [],
   "source": [
    "import scipy"
   ]
  },
  {
   "cell_type": "code",
   "execution_count": 245,
   "metadata": {},
   "outputs": [],
   "source": [
    "from scipy.stats import f, norm"
   ]
  },
  {
   "cell_type": "code",
   "execution_count": 246,
   "metadata": {},
   "outputs": [],
   "source": [
    "pvalor = 1 - scipy.stats.f.cdf(F, anova_lm(M2_py, M1_py).df_resid[0] - anova_lm(M2_py, M1_py).df_resid[1] , anova_lm(M2_py, M1_py).df_resid[1]  )"
   ]
  },
  {
   "cell_type": "code",
   "execution_count": 247,
   "metadata": {},
   "outputs": [
    {
     "data": {
      "text/plain": [
       "5.551115123125783e-16"
      ]
     },
     "execution_count": 247,
     "metadata": {},
     "output_type": "execute_result"
    }
   ],
   "source": [
    "pvalor"
   ]
  },
  {
   "cell_type": "markdown",
   "metadata": {},
   "source": []
  },
  {
   "cell_type": "markdown",
   "metadata": {},
   "source": [
    "If you have any doubt about k=12 and q=9 look the following outputs:"
   ]
  },
  {
   "cell_type": "code",
   "execution_count": 248,
   "metadata": {},
   "outputs": [
    {
     "name": "stdout",
     "output_type": "stream",
     "text": [
      "                            OLS Regression Results                            \n",
      "==============================================================================\n",
      "Dep. Variable:                  price   R-squared:                       0.709\n",
      "Model:                            OLS   Adj. R-squared:                  0.708\n",
      "Method:                 Least Squares   F-statistic:                     420.2\n",
      "Date:               ma., 06 sep. 2022   Prob (F-statistic):               0.00\n",
      "Time:                        11:34:41   Log-Likelihood:                -29881.\n",
      "No. Observations:                1905   AIC:                         5.979e+04\n",
      "Df Residuals:                    1893   BIC:                         5.985e+04\n",
      "Df Model:                          11                                         \n",
      "Covariance Type:            nonrobust                                         \n",
      "============================================================================================\n",
      "                               coef    std err          t      P>|t|      [0.025      0.975]\n",
      "--------------------------------------------------------------------------------------------\n",
      "Intercept                -5.446e+07   2.94e+07     -1.852      0.064   -1.12e+08    3.21e+06\n",
      "quality[T.1]             -2.353e+05   1.66e+05     -1.418      0.156   -5.61e+05    9.02e+04\n",
      "quality[T.2]             -1.373e+06   2.64e+05     -5.211      0.000   -1.89e+06   -8.56e+05\n",
      "quality[T.3]              1.318e+06   5.24e+05      2.518      0.012    2.91e+05    2.34e+06\n",
      "size_in_m_2               3.163e+04   1150.872     27.479      0.000    2.94e+04    3.39e+04\n",
      "size_in_m_2:quality[T.1]  2908.2719   1105.752      2.630      0.009     739.652    5076.892\n",
      "size_in_m_2:quality[T.2]  1.208e+04   1534.808      7.868      0.000    9065.709    1.51e+04\n",
      "size_in_m_2:quality[T.3] -1.145e+04   4817.305     -2.377      0.018   -2.09e+04   -2004.309\n",
      "no_of_bedrooms           -7.859e+05   8.16e+04     -9.636      0.000   -9.46e+05   -6.26e+05\n",
      "no_of_bathrooms          -4.202e+04   6.71e+04     -0.626      0.531   -1.74e+05    8.96e+04\n",
      "latitude                  6.219e+06   7.67e+05      8.105      0.000    4.71e+06    7.72e+06\n",
      "longitude                -1.855e+06   6.79e+05     -2.734      0.006   -3.19e+06   -5.24e+05\n",
      "==============================================================================\n",
      "Omnibus:                      880.561   Durbin-Watson:                   1.694\n",
      "Prob(Omnibus):                  0.000   Jarque-Bera (JB):            31738.629\n",
      "Skew:                           1.504   Prob(JB):                         0.00\n",
      "Kurtosis:                      22.769   Cond. No.                     1.59e+05\n",
      "==============================================================================\n",
      "\n",
      "Notes:\n",
      "[1] Standard Errors assume that the covariance matrix of the errors is correctly specified.\n",
      "[2] The condition number is large, 1.59e+05. This might indicate that there are\n",
      "strong multicollinearity or other numerical problems.\n"
     ]
    }
   ],
   "source": [
    "print(M1_py.summary())"
   ]
  },
  {
   "cell_type": "markdown",
   "metadata": {},
   "source": [
    "This output doesn´t show longitude variable, because the output exceeds the size limit. So if you count all the parameters (betas) the result will be  k=12"
   ]
  },
  {
   "cell_type": "markdown",
   "metadata": {},
   "source": []
  },
  {
   "cell_type": "code",
   "execution_count": 249,
   "metadata": {},
   "outputs": [
    {
     "name": "stdout",
     "output_type": "stream",
     "text": [
      "                            OLS Regression Results                            \n",
      "==============================================================================\n",
      "Dep. Variable:                  price   R-squared:                       0.698\n",
      "Model:                            OLS   Adj. R-squared:                  0.697\n",
      "Method:                 Least Squares   F-statistic:                     547.4\n",
      "Date:               ma., 06 sep. 2022   Prob (F-statistic):               0.00\n",
      "Time:                        11:34:43   Log-Likelihood:                -29918.\n",
      "No. Observations:                1905   AIC:                         5.985e+04\n",
      "Df Residuals:                    1896   BIC:                         5.990e+04\n",
      "Df Model:                           8                                         \n",
      "Covariance Type:            nonrobust                                         \n",
      "===================================================================================\n",
      "                      coef    std err          t      P>|t|      [0.025      0.975]\n",
      "-----------------------------------------------------------------------------------\n",
      "Intercept       -6.207e+07   2.99e+07     -2.073      0.038   -1.21e+08   -3.34e+06\n",
      "quality[T.1]       1.4e+05   8.36e+04      1.675      0.094   -2.39e+04    3.04e+05\n",
      "quality[T.2]     3.406e+05   1.55e+05      2.196      0.028    3.63e+04    6.45e+05\n",
      "quality[T.3]     2.788e+05   1.98e+05      1.410      0.159   -1.09e+05    6.66e+05\n",
      "size_in_m_2      3.566e+04    723.831     49.271      0.000    3.42e+04    3.71e+04\n",
      "no_of_bedrooms  -8.367e+05   8.28e+04    -10.102      0.000   -9.99e+05   -6.74e+05\n",
      "no_of_bathrooms -5.712e+04   6.83e+04     -0.836      0.403   -1.91e+05    7.68e+04\n",
      "latitude         6.115e+06   7.81e+05      7.830      0.000    4.58e+06    7.65e+06\n",
      "longitude       -1.677e+06   6.91e+05     -2.428      0.015   -3.03e+06   -3.22e+05\n",
      "==============================================================================\n",
      "Omnibus:                      779.851   Durbin-Watson:                   1.716\n",
      "Prob(Omnibus):                  0.000   Jarque-Bera (JB):            25742.187\n",
      "Skew:                           1.273   Prob(JB):                         0.00\n",
      "Kurtosis:                      20.828   Cond. No.                     1.34e+05\n",
      "==============================================================================\n",
      "\n",
      "Notes:\n",
      "[1] Standard Errors assume that the covariance matrix of the errors is correctly specified.\n",
      "[2] The condition number is large, 1.34e+05. This might indicate that there are\n",
      "strong multicollinearity or other numerical problems.\n"
     ]
    }
   ],
   "source": [
    "print(M2_py.summary())"
   ]
  },
  {
   "cell_type": "markdown",
   "metadata": {},
   "source": [
    "This output contain all the parameters of the model inside, if you count you will have q=9"
   ]
  },
  {
   "cell_type": "markdown",
   "metadata": {},
   "source": []
  },
  {
   "cell_type": "markdown",
   "metadata": {},
   "source": []
  },
  {
   "cell_type": "code",
   "execution_count": 250,
   "metadata": {},
   "outputs": [
    {
     "data": {
      "text/html": [
       "<div>\n",
       "<style scoped>\n",
       "    .dataframe tbody tr th:only-of-type {\n",
       "        vertical-align: middle;\n",
       "    }\n",
       "\n",
       "    .dataframe tbody tr th {\n",
       "        vertical-align: top;\n",
       "    }\n",
       "\n",
       "    .dataframe thead th {\n",
       "        text-align: right;\n",
       "    }\n",
       "</style>\n",
       "<table border=\"1\" class=\"dataframe\">\n",
       "  <thead>\n",
       "    <tr style=\"text-align: right;\">\n",
       "      <th></th>\n",
       "      <th>df_resid</th>\n",
       "      <th>ssr</th>\n",
       "      <th>df_diff</th>\n",
       "      <th>ss_diff</th>\n",
       "      <th>F</th>\n",
       "      <th>Pr(&gt;F)</th>\n",
       "    </tr>\n",
       "  </thead>\n",
       "  <tbody>\n",
       "    <tr>\n",
       "      <th>0</th>\n",
       "      <td>1899.0</td>\n",
       "      <td>4.898667e+15</td>\n",
       "      <td>0.0</td>\n",
       "      <td>NaN</td>\n",
       "      <td>NaN</td>\n",
       "      <td>NaN</td>\n",
       "    </tr>\n",
       "    <tr>\n",
       "      <th>1</th>\n",
       "      <td>1896.0</td>\n",
       "      <td>4.882082e+15</td>\n",
       "      <td>3.0</td>\n",
       "      <td>1.658498e+13</td>\n",
       "      <td>2.146975</td>\n",
       "      <td>0.092395</td>\n",
       "    </tr>\n",
       "  </tbody>\n",
       "</table>\n",
       "</div>"
      ],
      "text/plain": [
       "   df_resid           ssr  df_diff       ss_diff         F    Pr(>F)\n",
       "0    1899.0  4.898667e+15      0.0           NaN       NaN       NaN\n",
       "1    1896.0  4.882082e+15      3.0  1.658498e+13  2.146975  0.092395"
      ]
     },
     "execution_count": 250,
     "metadata": {},
     "output_type": "execute_result"
    }
   ],
   "source": [
    "anova_lm(M3_py, M2_py)"
   ]
  },
  {
   "cell_type": "markdown",
   "metadata": {},
   "source": [
    "This output gives to us the following information:\n",
    "\n",
    "\n",
    "$$\n",
    "F=\\dfrac{(RSS_{M2\\_{py}} - RSS_{M1\\_py})/(df_{\\omega_q} - df_{\\Omega_k})}{RSS_{M1\\_{py}}/ df_{\\Omega_k}} = 2.146975\n",
    "$$ \n",
    "\n",
    "And the p-value of the test is:\n",
    "\n",
    "$$\n",
    "P(F_{\\hspace{0.05cm} (df_{\\omega_q} - df_{\\Omega_k}) \\hspace{0.05cm},\\hspace{0.05cm} df_{\\Omega_k}} > 25.203983) = 0.092395\n",
    "$$"
   ]
  },
  {
   "cell_type": "markdown",
   "metadata": {},
   "source": [
    "So, the conclusion for the habitual $\\hspace{0.1cm}\\alpha = 0.01 \\hspace{0.1cm}or\\hspace{0.1cm} 0.05\\hspace{0.1cm} $\n",
    " , is **not reject** $\\hspace{0.1cm} H_0: M3\\_py\\hspace{0.1cm}$ in favor of $\\hspace{0.1cm}H_1: M2\\_py\\hspace{0.1cm}$, so we can accept that $\\hspace{0.1cm} M3\\_py \\hspace{0.1cm}$ is a **better** model than $\\hspace{0.1cm} M2\\_py \\hspace{0.1cm}$"
   ]
  },
  {
   "cell_type": "markdown",
   "metadata": {},
   "source": []
  },
  {
   "cell_type": "markdown",
   "metadata": {},
   "source": []
  },
  {
   "cell_type": "code",
   "execution_count": 251,
   "metadata": {},
   "outputs": [
    {
     "data": {
      "text/html": [
       "<div>\n",
       "<style scoped>\n",
       "    .dataframe tbody tr th:only-of-type {\n",
       "        vertical-align: middle;\n",
       "    }\n",
       "\n",
       "    .dataframe tbody tr th {\n",
       "        vertical-align: top;\n",
       "    }\n",
       "\n",
       "    .dataframe thead th {\n",
       "        text-align: right;\n",
       "    }\n",
       "</style>\n",
       "<table border=\"1\" class=\"dataframe\">\n",
       "  <thead>\n",
       "    <tr style=\"text-align: right;\">\n",
       "      <th></th>\n",
       "      <th>df_resid</th>\n",
       "      <th>ssr</th>\n",
       "      <th>df_diff</th>\n",
       "      <th>ss_diff</th>\n",
       "      <th>F</th>\n",
       "      <th>Pr(&gt;F)</th>\n",
       "    </tr>\n",
       "  </thead>\n",
       "  <tbody>\n",
       "    <tr>\n",
       "      <th>0</th>\n",
       "      <td>1901.0</td>\n",
       "      <td>5.080302e+15</td>\n",
       "      <td>0.0</td>\n",
       "      <td>NaN</td>\n",
       "      <td>NaN</td>\n",
       "      <td>NaN</td>\n",
       "    </tr>\n",
       "    <tr>\n",
       "      <th>1</th>\n",
       "      <td>1899.0</td>\n",
       "      <td>4.898667e+15</td>\n",
       "      <td>2.0</td>\n",
       "      <td>1.816345e+14</td>\n",
       "      <td>35.205892</td>\n",
       "      <td>9.703235e-16</td>\n",
       "    </tr>\n",
       "  </tbody>\n",
       "</table>\n",
       "</div>"
      ],
      "text/plain": [
       "   df_resid           ssr  df_diff       ss_diff          F        Pr(>F)\n",
       "0    1901.0  5.080302e+15      0.0           NaN        NaN           NaN\n",
       "1    1899.0  4.898667e+15      2.0  1.816345e+14  35.205892  9.703235e-16"
      ]
     },
     "execution_count": 251,
     "metadata": {},
     "output_type": "execute_result"
    }
   ],
   "source": [
    "anova_lm(M4_py, M3_py)"
   ]
  },
  {
   "cell_type": "markdown",
   "metadata": {},
   "source": [
    "This output gives to us the following information:\n",
    "\n",
    "\n",
    "$$\n",
    "F=\\dfrac{(RSS_{M2\\_{py}} - RSS_{M1\\_py})/(df_{\\omega_q} - df_{\\Omega_k})}{RSS_{M1\\_{py}}/ df_{\\Omega_k}} = 35.205892\n",
    "$$ \n",
    "\n",
    "And the p-value of the test is:\n",
    "\n",
    "$$\n",
    "P(F_{\\hspace{0.05cm} (df_{\\omega_q} - df_{\\Omega_k}) \\hspace{0.05cm},\\hspace{0.05cm} df_{\\Omega_k}} > 25.203983) = 9.703235e-16\n",
    "\n",
    "$$"
   ]
  },
  {
   "cell_type": "markdown",
   "metadata": {},
   "source": [
    "So, the conclusion for any $\\hspace{0.1cm} \\alpha > 9.703235e-16 \\hspace{0.1cm}$ is **reject** $\\hspace{0.1cm} H_0: M4\\_py\\hspace{0.1cm}$ in favor of $\\hspace{0.1cm}H_1: M3\\_py\\hspace{0.1cm}$, so we can accept that $\\hspace{0.1cm} M3\\_py \\hspace{0.1cm}$ is a **better** model than $\\hspace{0.1cm} M4\\_py \\hspace{0.1cm}$"
   ]
  },
  {
   "cell_type": "markdown",
   "metadata": {},
   "source": []
  },
  {
   "cell_type": "markdown",
   "metadata": {},
   "source": []
  },
  {
   "cell_type": "code",
   "execution_count": 252,
   "metadata": {},
   "outputs": [
    {
     "data": {
      "text/html": [
       "<div>\n",
       "<style scoped>\n",
       "    .dataframe tbody tr th:only-of-type {\n",
       "        vertical-align: middle;\n",
       "    }\n",
       "\n",
       "    .dataframe tbody tr th {\n",
       "        vertical-align: top;\n",
       "    }\n",
       "\n",
       "    .dataframe thead th {\n",
       "        text-align: right;\n",
       "    }\n",
       "</style>\n",
       "<table border=\"1\" class=\"dataframe\">\n",
       "  <thead>\n",
       "    <tr style=\"text-align: right;\">\n",
       "      <th></th>\n",
       "      <th>df_resid</th>\n",
       "      <th>ssr</th>\n",
       "      <th>df_diff</th>\n",
       "      <th>ss_diff</th>\n",
       "      <th>F</th>\n",
       "      <th>Pr(&gt;F)</th>\n",
       "    </tr>\n",
       "  </thead>\n",
       "  <tbody>\n",
       "    <tr>\n",
       "      <th>0</th>\n",
       "      <td>1903.0</td>\n",
       "      <td>5.593743e+15</td>\n",
       "      <td>0.0</td>\n",
       "      <td>NaN</td>\n",
       "      <td>NaN</td>\n",
       "      <td>NaN</td>\n",
       "    </tr>\n",
       "    <tr>\n",
       "      <th>1</th>\n",
       "      <td>1893.0</td>\n",
       "      <td>4.694567e+15</td>\n",
       "      <td>10.0</td>\n",
       "      <td>8.991756e+14</td>\n",
       "      <td>36.257642</td>\n",
       "      <td>2.127326e-65</td>\n",
       "    </tr>\n",
       "  </tbody>\n",
       "</table>\n",
       "</div>"
      ],
      "text/plain": [
       "   df_resid           ssr  df_diff       ss_diff          F        Pr(>F)\n",
       "0    1903.0  5.593743e+15      0.0           NaN        NaN           NaN\n",
       "1    1893.0  4.694567e+15     10.0  8.991756e+14  36.257642  2.127326e-65"
      ]
     },
     "execution_count": 252,
     "metadata": {},
     "output_type": "execute_result"
    }
   ],
   "source": [
    "anova_lm(M5_py, M1_py)"
   ]
  },
  {
   "cell_type": "markdown",
   "metadata": {},
   "source": [
    "This output gives to us the following information:\n",
    "\n",
    "\n",
    "$$\n",
    "F=\\dfrac{(RSS_{M2\\_{py}} - RSS_{M1\\_py})/(df_{\\omega_q} - df_{\\Omega_k})}{RSS_{M1\\_{py}}/ df_{\\Omega_k}} = 36.257642\n",
    "$$ \n",
    "\n",
    "And the p-value of the test is:\n",
    "\n",
    "$$\n",
    "P(F_{\\hspace{0.05cm} (df_{\\omega_q} - df_{\\Omega_k}) \\hspace{0.05cm},\\hspace{0.05cm} df_{\\Omega_k}} > 25.203983) = 2.127326e-65\n",
    "$$"
   ]
  },
  {
   "cell_type": "markdown",
   "metadata": {},
   "source": [
    "So, the conclusion for any $\\hspace{0.1cm} \\alpha > 2.127326e-65 \\hspace{0.1cm}$ is **reject** $\\hspace{0.1cm} H_0: M5\\_py\\hspace{0.1cm}$ in favor of $\\hspace{0.1cm}H_1: M1\\_py\\hspace{0.1cm}$, so we can accept that $\\hspace{0.1cm} M1\\_py \\hspace{0.1cm}$ is a **better** model than $\\hspace{0.1cm} M5\\_py \\hspace{0.1cm}$"
   ]
  },
  {
   "cell_type": "markdown",
   "metadata": {},
   "source": []
  },
  {
   "cell_type": "markdown",
   "metadata": {},
   "source": []
  },
  {
   "cell_type": "markdown",
   "metadata": {},
   "source": [
    "### F-test in `R` <a class=\"anchor\" id=\"6\"></a>"
   ]
  },
  {
   "cell_type": "code",
   "execution_count": 253,
   "metadata": {},
   "outputs": [],
   "source": [
    "%%R\n",
    "\n",
    "M1_R <- lm( price ~ size_in_m_2*quality  + no_of_bedrooms + no_of_bathrooms + latitude + longitude , data = data_R)\n",
    "\n",
    "M2_R <- lm( price ~ size_in_m_2 + no_of_bedrooms + no_of_bathrooms + quality + latitude + longitude , data = data_R)\n",
    "\n",
    "M3_R <- lm( price ~ size_in_m_2 + no_of_bedrooms + no_of_bathrooms + latitude + longitude , data = data_R)\n",
    "\n",
    "M4_R <- lm( price ~ size_in_m_2 + no_of_bedrooms + no_of_bathrooms , data = data_R)\n",
    "\n",
    "M5_R <- lm( price ~ size_in_m_2 , data = data_R)"
   ]
  },
  {
   "cell_type": "markdown",
   "metadata": {},
   "source": []
  },
  {
   "cell_type": "code",
   "execution_count": 254,
   "metadata": {},
   "outputs": [
    {
     "name": "stdout",
     "output_type": "stream",
     "text": [
      "Analysis of Variance Table\n",
      "\n",
      "Model 1: price ~ size_in_m_2 + no_of_bedrooms + no_of_bathrooms + quality + \n",
      "    latitude + longitude\n",
      "Model 2: price ~ size_in_m_2 * quality + no_of_bedrooms + no_of_bathrooms + \n",
      "    latitude + longitude\n",
      "  Res.Df        RSS Df  Sum of Sq      F    Pr(>F)    \n",
      "1   1896 4.8821e+15                                   \n",
      "2   1893 4.6946e+15  3 1.8751e+14 25.204 5.483e-16 ***\n",
      "---\n",
      "Signif. codes:  0 '***' 0.001 '**' 0.01 '*' 0.05 '.' 0.1 ' ' 1\n"
     ]
    }
   ],
   "source": [
    "%%R\n",
    "\n",
    "anova(M2_R, M1_R)"
   ]
  },
  {
   "cell_type": "markdown",
   "metadata": {},
   "source": []
  },
  {
   "cell_type": "code",
   "execution_count": 255,
   "metadata": {},
   "outputs": [
    {
     "name": "stdout",
     "output_type": "stream",
     "text": [
      "Analysis of Variance Table\n",
      "\n",
      "Model 1: price ~ size_in_m_2 + no_of_bedrooms + no_of_bathrooms + latitude + \n",
      "    longitude\n",
      "Model 2: price ~ size_in_m_2 + no_of_bedrooms + no_of_bathrooms + quality + \n",
      "    latitude + longitude\n",
      "  Res.Df        RSS Df  Sum of Sq     F Pr(>F)  \n",
      "1   1899 4.8987e+15                             \n",
      "2   1896 4.8821e+15  3 1.6585e+13 2.147 0.0924 .\n",
      "---\n",
      "Signif. codes:  0 '***' 0.001 '**' 0.01 '*' 0.05 '.' 0.1 ' ' 1\n"
     ]
    }
   ],
   "source": [
    "%%R\n",
    "\n",
    "anova(M3_R, M2_R)"
   ]
  },
  {
   "cell_type": "markdown",
   "metadata": {},
   "source": []
  },
  {
   "cell_type": "code",
   "execution_count": 256,
   "metadata": {},
   "outputs": [
    {
     "name": "stdout",
     "output_type": "stream",
     "text": [
      "Analysis of Variance Table\n",
      "\n",
      "Model 1: price ~ size_in_m_2 + no_of_bedrooms + no_of_bathrooms\n",
      "Model 2: price ~ size_in_m_2 + no_of_bedrooms + no_of_bathrooms + latitude + \n",
      "    longitude\n",
      "  Res.Df        RSS Df  Sum of Sq      F    Pr(>F)    \n",
      "1   1901 5.0803e+15                                   \n",
      "2   1899 4.8987e+15  2 1.8163e+14 35.206 9.703e-16 ***\n",
      "---\n",
      "Signif. codes:  0 '***' 0.001 '**' 0.01 '*' 0.05 '.' 0.1 ' ' 1\n"
     ]
    }
   ],
   "source": [
    "%%R\n",
    "\n",
    "anova(M4_R, M3_R)"
   ]
  },
  {
   "cell_type": "markdown",
   "metadata": {},
   "source": []
  },
  {
   "cell_type": "code",
   "execution_count": 257,
   "metadata": {},
   "outputs": [
    {
     "name": "stdout",
     "output_type": "stream",
     "text": [
      "Analysis of Variance Table\n",
      "\n",
      "Model 1: price ~ size_in_m_2\n",
      "Model 2: price ~ size_in_m_2 * quality + no_of_bedrooms + no_of_bathrooms + \n",
      "    latitude + longitude\n",
      "  Res.Df        RSS Df  Sum of Sq      F    Pr(>F)    \n",
      "1   1903 5.5937e+15                                   \n",
      "2   1893 4.6946e+15 10 8.9918e+14 36.258 < 2.2e-16 ***\n",
      "---\n",
      "Signif. codes:  0 '***' 0.001 '**' 0.01 '*' 0.05 '.' 0.1 ' ' 1\n"
     ]
    }
   ],
   "source": [
    "%%R\n",
    "\n",
    "anova(M5_R, M1_R)"
   ]
  },
  {
   "cell_type": "markdown",
   "metadata": {},
   "source": []
  },
  {
   "cell_type": "markdown",
   "metadata": {},
   "source": []
  },
  {
   "cell_type": "markdown",
   "metadata": {},
   "source": [
    "### ANOVA test as a F-test <a class=\"anchor\" id=\"7\"></a>\n",
    "\n"
   ]
  },
  {
   "cell_type": "markdown",
   "metadata": {},
   "source": [
    "\n",
    "\n",
    "Remember that the hypothesis of the ANOVA test are these:\n",
    "\n",
    "\\begin{gather*}\n",
    "\\hspace{-0.7 cm} H_0: \\hspace{0.15cm} \\beta_1=...=\\beta_p=0 \\\\\n",
    "H_1: \\hspace{0.15cm} \\exists \\ j=1,...,p , \\hspace{0.2cm} \\beta_j \\neq 0\n",
    "\\end{gather*}\n",
    "\n"
   ]
  },
  {
   "cell_type": "markdown",
   "metadata": {},
   "source": [
    "\n",
    "Let us consider the following models:\n",
    "\n",
    "  \n",
    "-    $\\Omega_k \\ : \\  \\ y_i = \\beta_0 + \\beta_1\\cdot x_{i1} +...+ \\beta_{k-1}\\cdot x_{i(k-1)} + \\varepsilon_i$\n",
    "\n",
    "-   $\\omega_{q} \\ : \\ \\ y_i = \\beta_0 + \\varepsilon_i \\hspace{0.15cm}$ $(\\hspace{0.05cm}\n",
    "    Null \\hspace{0.1cm} Model \\hspace{0.05cm})$\n"
   ]
  },
  {
   "cell_type": "markdown",
   "metadata": {},
   "source": [
    "\n",
    "Then, the ANOVA test is equivalent to the following:\n",
    "\n",
    "\\begin{gather*}\n",
    "H_0: \\hspace{0.15cm}  \\ \\hat{y}_i = \\beta_0 + \\beta_1\\cdot x_{i1} +...+ \\beta_{p}\\cdot x_{ip} + \\varepsilon_i  \\ \\hspace{0.2cm} ( \\Omega_k ) \\\\\n",
    "\\hspace{-3.7cm} H_1: \\hspace{0.15cm} \\hat{y}_i = \\beta_0 + \\varepsilon_i  \\ \\hspace{0.2cm} ( \\omega_{q} )\n",
    "\\end{gather*}\n",
    "\n"
   ]
  },
  {
   "cell_type": "markdown",
   "metadata": {},
   "source": [
    "\n",
    "Where:\n",
    "\n",
    "- $k=p+1$\n",
    "\n",
    "- $q=1$\n",
    "\n",
    "-   $RSS_{\\Omega_{k=p+1}} = \\sum_{i=1}^n ( y_i - \\widehat{y}_{\\hspace{0.01cm} \\Omega_{k=p+1} \\hspace{0.02cm},\\hspace{0.02cm} i})^2 = \\sum_{i=1}^n \\left( y_i - ( \\hat{\\beta}_0 + \\hat{\\beta}_1\\cdot x_{i1} +...+ \\hat{\\beta}_{p}\\cdot x_{ip} ) \\right)^2$\n",
    "\n",
    "-   $RSS_{\\omega_{q=1}} = \\sum_{i=1}^n ( y_i - \\widehat{y}_{\\hspace{0.01cm} \\omega_{q=1} \\hspace{0.02cm},\\hspace{0.02cm} i})^2 = \\sum_{i=1}^n ( y_i - \\hat{\\beta}_0 )^2$\n",
    "\n",
    "-   Note that in the null model $\\hspace{0.1cm} \\hat{\\beta}_0=\\overline{y} \\hspace{0.1cm}$, therefore we have $\\hspace{0.1cm} RSS_{\\omega_{q=1}}=\\sum_{i=1}^n ( y_i - \\overline{y} )^2= TSS_{\\omega_{q=1}}= TSS_{\\Omega_{k=p+1}}=TSS$\n",
    "\n"
   ]
  },
  {
   "cell_type": "markdown",
   "metadata": {},
   "source": []
  },
  {
   "cell_type": "markdown",
   "metadata": {},
   "source": [
    "More details about the ANOVA  terms (RSS, TSS, RegSS)  can be seen in the following article https://fabioscielzoortiz.github.io/Estadistica4all.github.io/Articulos/Linear%20Regression%20in%20Python%20and%20R.html"
   ]
  },
  {
   "cell_type": "markdown",
   "metadata": {},
   "source": []
  },
  {
   "cell_type": "markdown",
   "metadata": {},
   "source": [
    "\n",
    "\n",
    "Using the above facts and the F-statistic we get the statistic test of the ANOVA test:\n",
    "\n",
    "<br>\n",
    "\n",
    "\\begin{gather*}\n",
    "F=\\dfrac{(RSS_{\\omega_{q=1}} - RSS_{\\Omega_{k=p+1}})/(k-q)}{RSS_{\\Omega_{k=p+1}}/(n-k)} = \\dfrac{(TSS-RSS)/(p+1-1)}{RSS/(n-(p+1))} = \\dfrac{(TSS-RSS)/p}{RSS/(n-p-1))} \\sim F_{p+1-1 \\hspace{0.03cm},\\hspace{0.03cm} n-(p+1)} = F_{p \\hspace{0.03cm},\\hspace{0.03cm} n-p-1}\n",
    "\\end{gather*}\n",
    "\n"
   ]
  },
  {
   "cell_type": "markdown",
   "metadata": {},
   "source": [
    "\n",
    "\n",
    "Where:\n",
    "\n",
    "$TSS= RSS_{\\omega_q}$\n",
    "\n",
    "$RSS= RSS_{\\Omega_k}$\n",
    "\n",
    "\n"
   ]
  },
  {
   "cell_type": "markdown",
   "metadata": {},
   "source": [
    "And this is the test statistic of the ANOVA test, you can check that in the ANOVA test part of this article https://fabioscielzoortiz.github.io/Estadistica4all.github.io/Articulos/Linear%20Regression%20in%20Python%20and%20R.html"
   ]
  },
  {
   "cell_type": "markdown",
   "metadata": {},
   "source": []
  },
  {
   "cell_type": "markdown",
   "metadata": {},
   "source": [
    "#### Anova test as an F-test in `Python`\n"
   ]
  },
  {
   "cell_type": "code",
   "execution_count": 258,
   "metadata": {},
   "outputs": [],
   "source": [
    "full_model_py = smf.ols(formula = 'price ~ size_in_m_2 + no_of_bedrooms + no_of_bathrooms + quality + latitude + longitude', \n",
    "                        data =data_Python).fit()\n",
    "\n",
    "null_model_py = smf.ols(formula = 'price ~ 1', data =data_Python).fit()"
   ]
  },
  {
   "cell_type": "code",
   "execution_count": 259,
   "metadata": {},
   "outputs": [
    {
     "data": {
      "text/html": [
       "<div>\n",
       "<style scoped>\n",
       "    .dataframe tbody tr th:only-of-type {\n",
       "        vertical-align: middle;\n",
       "    }\n",
       "\n",
       "    .dataframe tbody tr th {\n",
       "        vertical-align: top;\n",
       "    }\n",
       "\n",
       "    .dataframe thead th {\n",
       "        text-align: right;\n",
       "    }\n",
       "</style>\n",
       "<table border=\"1\" class=\"dataframe\">\n",
       "  <thead>\n",
       "    <tr style=\"text-align: right;\">\n",
       "      <th></th>\n",
       "      <th>df_resid</th>\n",
       "      <th>ssr</th>\n",
       "      <th>df_diff</th>\n",
       "      <th>ss_diff</th>\n",
       "      <th>F</th>\n",
       "      <th>Pr(&gt;F)</th>\n",
       "    </tr>\n",
       "  </thead>\n",
       "  <tbody>\n",
       "    <tr>\n",
       "      <th>0</th>\n",
       "      <td>1904.0</td>\n",
       "      <td>1.615874e+16</td>\n",
       "      <td>0.0</td>\n",
       "      <td>NaN</td>\n",
       "      <td>NaN</td>\n",
       "      <td>NaN</td>\n",
       "    </tr>\n",
       "    <tr>\n",
       "      <th>1</th>\n",
       "      <td>1896.0</td>\n",
       "      <td>4.882082e+15</td>\n",
       "      <td>8.0</td>\n",
       "      <td>1.127666e+16</td>\n",
       "      <td>547.423881</td>\n",
       "      <td>0.0</td>\n",
       "    </tr>\n",
       "  </tbody>\n",
       "</table>\n",
       "</div>"
      ],
      "text/plain": [
       "   df_resid           ssr  df_diff       ss_diff           F  Pr(>F)\n",
       "0    1904.0  1.615874e+16      0.0           NaN         NaN     NaN\n",
       "1    1896.0  4.882082e+15      8.0  1.127666e+16  547.423881     0.0"
      ]
     },
     "execution_count": 259,
     "metadata": {},
     "output_type": "execute_result"
    }
   ],
   "source": [
    "anova_lm(null_model_py , full_model_py)"
   ]
  },
  {
   "cell_type": "markdown",
   "metadata": {},
   "source": []
  },
  {
   "cell_type": "markdown",
   "metadata": {},
   "source": [
    "#### Anova test as an F-test in `R`\n"
   ]
  },
  {
   "cell_type": "code",
   "execution_count": 260,
   "metadata": {},
   "outputs": [],
   "source": [
    "%%R\n",
    "\n",
    "full_model_R <- lm( price ~ size_in_m_2 + no_of_bedrooms + no_of_bathrooms + quality + latitude + longitude , data = data_R)\n",
    "null_model_R <- lm( price ~ 1 , data = data_R)"
   ]
  },
  {
   "cell_type": "code",
   "execution_count": 261,
   "metadata": {},
   "outputs": [
    {
     "name": "stdout",
     "output_type": "stream",
     "text": [
      "Analysis of Variance Table\n",
      "\n",
      "Model 1: price ~ 1\n",
      "Model 2: price ~ size_in_m_2 + no_of_bedrooms + no_of_bathrooms + quality + \n",
      "    latitude + longitude\n",
      "  Res.Df        RSS Df  Sum of Sq      F    Pr(>F)    \n",
      "1   1904 1.6159e+16                                   \n",
      "2   1896 4.8821e+15  8 1.1277e+16 547.42 < 2.2e-16 ***\n",
      "---\n",
      "Signif. codes:  0 '***' 0.001 '**' 0.01 '*' 0.05 '.' 0.1 ' ' 1\n"
     ]
    }
   ],
   "source": [
    "%%R\n",
    "\n",
    "anova(null_model_R, full_model_R)"
   ]
  },
  {
   "cell_type": "markdown",
   "metadata": {},
   "source": []
  },
  {
   "cell_type": "markdown",
   "metadata": {},
   "source": []
  },
  {
   "cell_type": "markdown",
   "metadata": {},
   "source": [
    "### Significance test as an F-test <a class=\"anchor\" id=\"8\"></a>\n"
   ]
  },
  {
   "cell_type": "markdown",
   "metadata": {},
   "source": [
    "\n",
    "\n",
    "\n",
    "\n",
    "Remember that the hypothesis of the significance test of $\\beta_j$ are these:\n",
    "\n",
    "\\begin{gather*}\n",
    "H_0: \\beta_j=0 \\\\\n",
    "H_1: \\beta_j \\neq 0\n",
    "\\end{gather*}\n",
    "\n",
    "Let us consider the following models:\n",
    "\n",
    "-   $\\omega_q  : \\  \\ y_i = \\beta_0 + \\beta_1\\cdot x_{i1} +..+\\beta_{j-1} \\cdot x_{i,j-1}+\\beta_{j+1} \\cdot x_{i,j+1}+..+ \\beta_{p}\\cdot x_{ip} + \\varepsilon_i$\n",
    "\n",
    "-   $\\Omega_k : \\ \\ y_i = \\beta_0 + \\beta_1\\cdot x_{i1} +..+\\beta_j \\cdot x_{ij}+..+ \\beta_{p}\\cdot x_{ip} + \\varepsilon_i$\n",
    "    \n"
   ]
  },
  {
   "cell_type": "markdown",
   "metadata": {},
   "source": [
    "\n",
    "\n",
    "Then, the significance test of $\\beta_j$ is equivalent to the following:\n",
    "\n",
    "\\begin{gather*}\n",
    "H_0: \\hspace{0.2cm} y_i = \\beta_0 + \\beta_1\\cdot x_{i1} +..+\\beta_{j-1} \\cdot x_{i,j-1}+\\beta_{j+1} \\cdot x_{i,j+1}+..+ \\beta_{p}\\cdot x_{ip} + \\varepsilon_i \\ \\hspace{0.2cm} (\\omega_q) \\\\\n",
    "\\hspace{-2.7cm} H_1: \\hspace{0.2cm}  y_i = \\beta_0 + \\beta_1\\cdot x_{i1} +...+\\beta_j \\cdot x_{ij}+...+ \\beta_{p}\\cdot x_{ip} + \\varepsilon_i  \\ \\hspace{0.2cm} ( \\Omega_k )\n",
    "\\end{gather*}\n",
    "\n"
   ]
  },
  {
   "cell_type": "markdown",
   "metadata": {},
   "source": [
    "\n",
    "Where:\n",
    "\n",
    "- $k=p+1$\n",
    "\n",
    "- $q=k-1=p$\n",
    "\n",
    "\n",
    "\n",
    "-   $RSS_{\\Omega_{k=p+1}} = \\sum_{i=1}^n ( y_i - \\hat{y}_{\\hspace{0.01cm} \\Omega_k \\hspace{0.02cm},\\hspace{0.02cm} i})^2 = \\sum_{i=1}^n\\left( y_i -  ( \\hat{\\beta}_0 + \\hat{\\beta}_1\\cdot x_{i1}  +... +  \\hat{\\beta}_{j} \\cdot x_{i,j}+...+ \\hat{\\beta}_{p}\\cdot x_{ip} )  \\right)^2$\n",
    "\n",
    "-   $RSS_{\\omega_{q=p}} = \\sum_{i=1}^n ( y_i - \\hat{y}_{\\hspace{0.01cm} \\omega_k \\hspace{0.02cm},\\hspace{0.02cm} i})^2 = \\sum_{i=1}^n \\left( y_i - ( \\hat{\\beta}_0 + \\hat{\\beta}_1\\cdot x_{i1}  +..+ \\hat{\\beta}_{j-1} \\cdot x_{i,j-1} +  \\hat{\\beta}_{j+1} \\cdot x_{i,j+1}+..+ \\hat{\\beta}_{p}\\cdot x_{ip} ) \\right)^2$\n"
   ]
  },
  {
   "cell_type": "markdown",
   "metadata": {},
   "source": []
  },
  {
   "cell_type": "markdown",
   "metadata": {},
   "source": [
    "\n",
    "\n",
    "So, the statistic test is obtained applying the F-statistic formula:\n",
    "\n",
    "\\begin{gather*}\n",
    "F=\\dfrac{(RSS_{\\omega_q} - RSS_{\\Omega_k})/(k-q)}{RSS_{\\Omega_k}/(n-k)} =\\dfrac{(RSS_{\\omega_{k-1}} - RSS_{\\Omega_k})/(k-(k-1))}{RSS_{\\Omega_k}/(n-k)} = \\dfrac{(RSS_{\\omega_{k-1}} - RSS_{\\Omega_k})/1)}{RSS_{\\Omega_k}/(n-p-1)}  \\sim F_{k-q, n-k} = F_{1, n-p-1}\n",
    "\\end{gather*}\n",
    "\n",
    "\n",
    "\n",
    "The results of the test using the F-test is approximately equal to the result obtained with the other alternative (t-test)."
   ]
  },
  {
   "cell_type": "markdown",
   "metadata": {},
   "source": []
  },
  {
   "cell_type": "markdown",
   "metadata": {},
   "source": [
    "**Important**: $\\hspace{0.1cm}$ this is the way to test the significance of categorical variables (compare the model without the categorical variable vs the model with it), and also to test the significance of two or more variables at the same time."
   ]
  },
  {
   "cell_type": "markdown",
   "metadata": {},
   "source": []
  },
  {
   "cell_type": "markdown",
   "metadata": {},
   "source": [
    "#### Significance test as an F-test in `Python`"
   ]
  },
  {
   "cell_type": "markdown",
   "metadata": {},
   "source": [
    "$$\n",
    "H_0: \\beta_{quality} = 0 \\\\\n",
    "H_1: \\beta_{quality} \\neq 0\n",
    "$$"
   ]
  },
  {
   "cell_type": "code",
   "execution_count": 262,
   "metadata": {},
   "outputs": [],
   "source": [
    "Model_with_quality_py =  smf.ols(formula = 'price ~ size_in_m_2 + no_of_bedrooms + no_of_bathrooms + quality + latitude + longitude', data =data_Python).fit()\n",
    "Model_without_quality_py =  smf.ols(formula = 'price ~ size_in_m_2 + no_of_bedrooms + no_of_bathrooms + latitude + longitude', data =data_Python).fit()"
   ]
  },
  {
   "cell_type": "code",
   "execution_count": 263,
   "metadata": {},
   "outputs": [
    {
     "data": {
      "text/html": [
       "<div>\n",
       "<style scoped>\n",
       "    .dataframe tbody tr th:only-of-type {\n",
       "        vertical-align: middle;\n",
       "    }\n",
       "\n",
       "    .dataframe tbody tr th {\n",
       "        vertical-align: top;\n",
       "    }\n",
       "\n",
       "    .dataframe thead th {\n",
       "        text-align: right;\n",
       "    }\n",
       "</style>\n",
       "<table border=\"1\" class=\"dataframe\">\n",
       "  <thead>\n",
       "    <tr style=\"text-align: right;\">\n",
       "      <th></th>\n",
       "      <th>df_resid</th>\n",
       "      <th>ssr</th>\n",
       "      <th>df_diff</th>\n",
       "      <th>ss_diff</th>\n",
       "      <th>F</th>\n",
       "      <th>Pr(&gt;F)</th>\n",
       "    </tr>\n",
       "  </thead>\n",
       "  <tbody>\n",
       "    <tr>\n",
       "      <th>0</th>\n",
       "      <td>1899.0</td>\n",
       "      <td>4.898667e+15</td>\n",
       "      <td>0.0</td>\n",
       "      <td>NaN</td>\n",
       "      <td>NaN</td>\n",
       "      <td>NaN</td>\n",
       "    </tr>\n",
       "    <tr>\n",
       "      <th>1</th>\n",
       "      <td>1896.0</td>\n",
       "      <td>4.882082e+15</td>\n",
       "      <td>3.0</td>\n",
       "      <td>1.658498e+13</td>\n",
       "      <td>2.146975</td>\n",
       "      <td>0.092395</td>\n",
       "    </tr>\n",
       "  </tbody>\n",
       "</table>\n",
       "</div>"
      ],
      "text/plain": [
       "   df_resid           ssr  df_diff       ss_diff         F    Pr(>F)\n",
       "0    1899.0  4.898667e+15      0.0           NaN       NaN       NaN\n",
       "1    1896.0  4.882082e+15      3.0  1.658498e+13  2.146975  0.092395"
      ]
     },
     "execution_count": 263,
     "metadata": {},
     "output_type": "execute_result"
    }
   ],
   "source": [
    "anova_lm(Model_without_quality_py, Model_with_quality_py)"
   ]
  },
  {
   "cell_type": "markdown",
   "metadata": {},
   "source": []
  },
  {
   "cell_type": "markdown",
   "metadata": {},
   "source": [
    "$pvalor = 0.092395 \\hspace{0.15cm}  \\Rightarrow \\hspace{0.15cm}$  if $\\hspace{0.1cm} \\alpha = 0.01 \\hspace{0.15cm} or\\hspace{0.15cm}  0.05 \\hspace{0.15cm}$ we reject $\\hspace{0.15cm} H_0: \\beta_{quality} = 0 \\hspace{0.15cm}$  , so we can accept $\\hspace{0.15cm} H_1: \\beta_{quality} \\neq 0 \\hspace{0.15cm}$ , so $quality$ is significant."
   ]
  },
  {
   "cell_type": "markdown",
   "metadata": {},
   "source": []
  },
  {
   "cell_type": "markdown",
   "metadata": {},
   "source": []
  },
  {
   "cell_type": "markdown",
   "metadata": {},
   "source": [
    "$$\n",
    "\\hspace{-1.4cm} H_0: \\beta_{longitude}= \\beta_{latitude} = 0 \\\\\n",
    "H_1: \\hspace{0.3cm} \\beta_{longitude}\\neq 0 \\hspace{0.2cm} or \\hspace{0.2cm} \\beta_{latitude}\\neq 0\n",
    "$$"
   ]
  },
  {
   "cell_type": "code",
   "execution_count": 264,
   "metadata": {},
   "outputs": [],
   "source": [
    "M1_py = smf.ols(formula = 'price ~ size_in_m_2 + no_of_bedrooms + no_of_bathrooms + quality', data=data_Python).fit()\n",
    "M2_py = smf.ols(formula = 'price ~ size_in_m_2 + no_of_bedrooms + no_of_bathrooms + quality + latitude + longitude', data =data_Python).fit()"
   ]
  },
  {
   "cell_type": "code",
   "execution_count": 265,
   "metadata": {},
   "outputs": [
    {
     "data": {
      "text/html": [
       "<div>\n",
       "<style scoped>\n",
       "    .dataframe tbody tr th:only-of-type {\n",
       "        vertical-align: middle;\n",
       "    }\n",
       "\n",
       "    .dataframe tbody tr th {\n",
       "        vertical-align: top;\n",
       "    }\n",
       "\n",
       "    .dataframe thead th {\n",
       "        text-align: right;\n",
       "    }\n",
       "</style>\n",
       "<table border=\"1\" class=\"dataframe\">\n",
       "  <thead>\n",
       "    <tr style=\"text-align: right;\">\n",
       "      <th></th>\n",
       "      <th>df_resid</th>\n",
       "      <th>ssr</th>\n",
       "      <th>df_diff</th>\n",
       "      <th>ss_diff</th>\n",
       "      <th>F</th>\n",
       "      <th>Pr(&gt;F)</th>\n",
       "    </tr>\n",
       "  </thead>\n",
       "  <tbody>\n",
       "    <tr>\n",
       "      <th>0</th>\n",
       "      <td>1898.0</td>\n",
       "      <td>5.066797e+15</td>\n",
       "      <td>0.0</td>\n",
       "      <td>NaN</td>\n",
       "      <td>NaN</td>\n",
       "      <td>NaN</td>\n",
       "    </tr>\n",
       "    <tr>\n",
       "      <th>1</th>\n",
       "      <td>1896.0</td>\n",
       "      <td>4.882082e+15</td>\n",
       "      <td>2.0</td>\n",
       "      <td>1.847150e+14</td>\n",
       "      <td>35.867848</td>\n",
       "      <td>5.131535e-16</td>\n",
       "    </tr>\n",
       "  </tbody>\n",
       "</table>\n",
       "</div>"
      ],
      "text/plain": [
       "   df_resid           ssr  df_diff       ss_diff          F        Pr(>F)\n",
       "0    1898.0  5.066797e+15      0.0           NaN        NaN           NaN\n",
       "1    1896.0  4.882082e+15      2.0  1.847150e+14  35.867848  5.131535e-16"
      ]
     },
     "execution_count": 265,
     "metadata": {},
     "output_type": "execute_result"
    }
   ],
   "source": [
    "anova_lm(M1_py, M2_py)"
   ]
  },
  {
   "cell_type": "markdown",
   "metadata": {},
   "source": [
    "$pvalor = 5.131535e-16 \\hspace{0.15cm}  \\Rightarrow \\hspace{0.15cm}$   $\\hspace{0.1cm} \\forall \\alpha  \\hspace{0.15cm} $ we reject $\\hspace{0.15cm} H_0: \\beta_{longitude}= \\beta_{latitude} = 0 \\hspace{0.15cm}$  , so we can accept $\\hspace{0.15cm} H_1: \\beta_{longitude}\\neq 0 \\hspace{0.2cm} or \\hspace{0.2cm} \\beta_{latitude}\\neq 0 \\hspace{0.15cm}$ , so $\\hspace{0.1cm} longitude \\hspace{0.1cm}$ or $\\hspace{0.1cm} latitude \\hspace{0.1cm}$ is significant."
   ]
  },
  {
   "cell_type": "markdown",
   "metadata": {},
   "source": []
  },
  {
   "cell_type": "markdown",
   "metadata": {},
   "source": []
  },
  {
   "cell_type": "markdown",
   "metadata": {},
   "source": [
    "#### Significance test as an F-test in `R`"
   ]
  },
  {
   "cell_type": "markdown",
   "metadata": {},
   "source": [
    "$$\n",
    "H_0: \\beta_{quality} = 0 \\\\\n",
    "H_1: \\beta_{quality} \\neq 0\n",
    "$$"
   ]
  },
  {
   "cell_type": "code",
   "execution_count": 266,
   "metadata": {},
   "outputs": [],
   "source": [
    "%%R\n",
    "\n",
    "Model_with_quality_R <- lm(price ~ size_in_m_2 + no_of_bedrooms + no_of_bathrooms + quality + latitude + longitude , data = data_R)\n",
    "Model_without_quality_R <- lm(price ~ size_in_m_2 + no_of_bedrooms + no_of_bathrooms  + latitude + longitude , data = data_R)"
   ]
  },
  {
   "cell_type": "code",
   "execution_count": 267,
   "metadata": {},
   "outputs": [
    {
     "name": "stdout",
     "output_type": "stream",
     "text": [
      "Analysis of Variance Table\n",
      "\n",
      "Model 1: price ~ size_in_m_2 + no_of_bedrooms + no_of_bathrooms + latitude + \n",
      "    longitude\n",
      "Model 2: price ~ size_in_m_2 + no_of_bedrooms + no_of_bathrooms + quality + \n",
      "    latitude + longitude\n",
      "  Res.Df        RSS Df  Sum of Sq     F Pr(>F)  \n",
      "1   1899 4.8987e+15                             \n",
      "2   1896 4.8821e+15  3 1.6585e+13 2.147 0.0924 .\n",
      "---\n",
      "Signif. codes:  0 '***' 0.001 '**' 0.01 '*' 0.05 '.' 0.1 ' ' 1\n"
     ]
    }
   ],
   "source": [
    "%%R\n",
    "\n",
    "anova(Model_without_quality_R, Model_with_quality_R)"
   ]
  },
  {
   "cell_type": "markdown",
   "metadata": {},
   "source": []
  },
  {
   "cell_type": "markdown",
   "metadata": {},
   "source": []
  },
  {
   "cell_type": "markdown",
   "metadata": {},
   "source": [
    "$$\n",
    "\\hspace{-1.4cm} H_0: \\beta_{longitude}= \\beta_{latitude} = 0 \\\\\n",
    "H_1: \\hspace{0.3cm} \\beta_{longitude}\\neq 0 \\hspace{0.2cm} or \\hspace{0.2cm} \\beta_{longitude}\\neq 0\n",
    "$$"
   ]
  },
  {
   "cell_type": "code",
   "execution_count": 268,
   "metadata": {},
   "outputs": [],
   "source": [
    "%%R\n",
    "\n",
    "M1_R <- lm('price ~ size_in_m_2 + no_of_bedrooms + no_of_bathrooms + quality', data=data_R)\n",
    "M2_R <- lm('price ~ size_in_m_2 + no_of_bedrooms + no_of_bathrooms + quality + latitude + longitude', data =data_R)"
   ]
  },
  {
   "cell_type": "code",
   "execution_count": 269,
   "metadata": {},
   "outputs": [
    {
     "name": "stdout",
     "output_type": "stream",
     "text": [
      "Analysis of Variance Table\n",
      "\n",
      "Model 1: price ~ size_in_m_2 + no_of_bedrooms + no_of_bathrooms + quality\n",
      "Model 2: price ~ size_in_m_2 + no_of_bedrooms + no_of_bathrooms + quality + \n",
      "    latitude + longitude\n",
      "  Res.Df        RSS Df  Sum of Sq      F    Pr(>F)    \n",
      "1   1898 5.0668e+15                                   \n",
      "2   1896 4.8821e+15  2 1.8471e+14 35.868 5.132e-16 ***\n",
      "---\n",
      "Signif. codes:  0 '***' 0.001 '**' 0.01 '*' 0.05 '.' 0.1 ' ' 1\n"
     ]
    }
   ],
   "source": [
    "%%R\n",
    "\n",
    "anova(M1_R , M2_R)"
   ]
  },
  {
   "cell_type": "markdown",
   "metadata": {},
   "source": []
  },
  {
   "cell_type": "markdown",
   "metadata": {},
   "source": []
  },
  {
   "cell_type": "markdown",
   "metadata": {},
   "source": [
    "## Iterative Algorithms <a class=\"anchor\" id=\"9\"></a>"
   ]
  },
  {
   "cell_type": "markdown",
   "metadata": {},
   "source": [
    "Now we are going to see several algorithms aimed at choosing a linear regression model over many or all possible ones, under certain criteria based in some metrics."
   ]
  },
  {
   "cell_type": "markdown",
   "metadata": {},
   "source": []
  },
  {
   "cell_type": "markdown",
   "metadata": {},
   "source": [
    "### Metrics <a class=\"anchor\" id=\"10\"></a>"
   ]
  },
  {
   "cell_type": "markdown",
   "metadata": {},
   "source": [
    "These metrics are one of the most important concepts in modern statistics and machine learning. \n",
    "\n",
    "Some of them are:\n",
    "\n",
    "- Test error by Cross validation \n",
    "- $\\widehat{R}^2$  \n",
    "- AIC\n",
    "- BIC\n",
    "- Cp\n"
   ]
  },
  {
   "cell_type": "markdown",
   "metadata": {},
   "source": [
    "\n",
    "A detailed review of cross-validation methods will be done in a future article on my blog. The test error by cross validation will not be used as a criteria in our practical implementation of the following iterative algorithms, because in the iterative selection of linear regression models the most common criteria is to use AIC, BIC or $\\widehat{R}^2$, so we will do a review of these last.\n",
    "\n",
    "But in model selection in general, cross-validation plays a very prominent role."
   ]
  },
  {
   "cell_type": "markdown",
   "metadata": {},
   "source": []
  },
  {
   "cell_type": "markdown",
   "metadata": {},
   "source": [
    "####  $\\widehat{R}^2$  <a class=\"anchor\" id=\"11\"></a>"
   ]
  },
  {
   "cell_type": "markdown",
   "metadata": {},
   "source": [
    "This metric is explained with more details in the following article about linear regression :  \n",
    "\n",
    "https://fabioscielzoortiz.github.io/Estadistica4all.github.io/Articulos/Linear%20Regression%20in%20Python%20and%20R.html"
   ]
  },
  {
   "cell_type": "markdown",
   "metadata": {},
   "source": [
    "Here we will just show the formula that characterizes the adjusted $R^2$:"
   ]
  },
  {
   "cell_type": "markdown",
   "metadata": {},
   "source": [
    "Given a linear regression model $\\hspace{0.05cm} M \\hspace{0.05cm}$  with $\\hspace{0.05cm} p_M \\hspace{0.051cm}$ predictors (independent variables) and $n$ observations:\n",
    "\n",
    "\\begin{gather*}\n",
    "\\widehat{R}^2 = 1 - \\left( 1- R^2 \\right) \\cdot \\dfrac{n-1}{n-p_M}\n",
    "\\end{gather*}\n",
    "\n",
    "Where:\n",
    "\n",
    "\\begin{gather*}\n",
    "R^2 = \\dfrac{RegSS}{TSS}\n",
    "\\end{gather*}"
   ]
  },
  {
   "cell_type": "markdown",
   "metadata": {},
   "source": []
  },
  {
   "cell_type": "markdown",
   "metadata": {},
   "source": [
    "This metric is usually used as a criteria to select linear regression models."
   ]
  },
  {
   "cell_type": "markdown",
   "metadata": {},
   "source": [
    "##### **$\\widehat{R}^2$ criteria**: \n",
    "\n",
    "Given $h$ linear regression models $\\hspace{0.1cm}M_1 , M_2, \\dots, M_h$\n",
    "\n",
    "If $\\hspace{0.1cm}  \\widehat{R}^2 (M_j) > \\widehat{R}^2 (M_r) \\hspace{0.2cm} , \\forall r \\in \\lbrace 1,...,h\\rbrace - \\lbrace j \\rbrace \\hspace{0.2cm} \\Rightarrow \\hspace{0.2cm} $ $M_j$ is selected instead of $M_r$  $ \\hspace{0.1cm} , \\forall r \\in \\lbrace 1,...,h\\rbrace - \\lbrace j \\rbrace$\n"
   ]
  },
  {
   "cell_type": "markdown",
   "metadata": {},
   "source": [
    "\n",
    "That is, the model with the **highest** $\\hspace{0.1cm} \\widehat{R}^2 \\hspace{0.1cm}$ is selected over the rest.\n"
   ]
  },
  {
   "cell_type": "markdown",
   "metadata": {},
   "source": []
  },
  {
   "cell_type": "markdown",
   "metadata": {},
   "source": [
    "##### $\\widehat{R}^2$ in `Python`"
   ]
  },
  {
   "cell_type": "code",
   "execution_count": 270,
   "metadata": {},
   "outputs": [],
   "source": [
    "X = data_Python[['size_in_m_2', 'longitude', 'latitude', 'no_of_bedrooms', 'no_of_bathrooms', 'quality']]\n",
    "y = data_Python['price']"
   ]
  },
  {
   "cell_type": "code",
   "execution_count": 271,
   "metadata": {},
   "outputs": [],
   "source": [
    "model = smf.ols(formula = 'price ~ size_in_m_2 + no_of_bedrooms + no_of_bathrooms + quality', data=data_Python).fit()"
   ]
  },
  {
   "cell_type": "code",
   "execution_count": 272,
   "metadata": {},
   "outputs": [
    {
     "data": {
      "text/plain": [
       "0.6854449178693436"
      ]
     },
     "execution_count": 272,
     "metadata": {},
     "output_type": "execute_result"
    }
   ],
   "source": [
    "model.rsquared_adj"
   ]
  },
  {
   "cell_type": "markdown",
   "metadata": {},
   "source": []
  },
  {
   "cell_type": "markdown",
   "metadata": {},
   "source": [
    "##### $\\widehat{R}^2$ in `R`"
   ]
  },
  {
   "cell_type": "code",
   "execution_count": 273,
   "metadata": {},
   "outputs": [],
   "source": [
    "%%R\n",
    "\n",
    "model <- lm( price ~ size_in_m_2 + no_of_bedrooms + no_of_bathrooms + quality , data = data_R)"
   ]
  },
  {
   "cell_type": "code",
   "execution_count": 274,
   "metadata": {},
   "outputs": [
    {
     "name": "stdout",
     "output_type": "stream",
     "text": [
      "[1] 0.6854449\n"
     ]
    }
   ],
   "source": [
    "%%R \n",
    "\n",
    "summary(model)$adj.r.squared"
   ]
  },
  {
   "cell_type": "markdown",
   "metadata": {},
   "source": []
  },
  {
   "cell_type": "markdown",
   "metadata": {},
   "source": []
  },
  {
   "cell_type": "markdown",
   "metadata": {},
   "source": [
    "#### $AIC$ <a class=\"anchor\" id=\"12\"></a>"
   ]
  },
  {
   "cell_type": "markdown",
   "metadata": {},
   "source": [
    "Given a linear regression model $\\hspace{0.05cm} M \\hspace{0.05cm}$  with $\\hspace{0.05cm} p_M \\hspace{0.051cm}$ predictors and $n$ observations:\n",
    "\n",
    "$$ AIC(M) = -2 \\cdot ln\\left(\\widehat{L}(M)\\right) + 2 \\cdot  \\left(\\hspace{0.1cm} p_M +1 \\hspace{0.1cm}\\right)  $$\n"
   ]
  },
  {
   "cell_type": "markdown",
   "metadata": {},
   "source": [
    "\n",
    "\n",
    "Where:\n",
    "\n",
    "$\\widehat{L}(M)$ is the value of the likelihood function of the model $M$ evaluated at the MLE (Maximum Likelihood Estimators)\n",
    "\n"
   ]
  },
  {
   "cell_type": "markdown",
   "metadata": {},
   "source": []
  },
  {
   "cell_type": "markdown",
   "metadata": {},
   "source": [
    "This metric is usually used as a criteria to select linear regression models.\n"
   ]
  },
  {
   "cell_type": "markdown",
   "metadata": {},
   "source": [
    "\n",
    "##### **$AIC$ criteria**:\n",
    "\n",
    "Given $h$ linear regression models $\\hspace{0.1cm}M_1 , M_2, \\dots, M_h$\n",
    "\n",
    "If $\\hspace{0.1cm}  AIC (M_j) < AIC(M_r) \\hspace{0.2cm} , \\forall r \\in \\lbrace 1,...,h\\rbrace - \\lbrace j \\rbrace \\hspace{0.2cm} \\Rightarrow \\hspace{0.2cm} $ $M_j$ is selected instead of $M_r$  $ \\hspace{0.1cm} , \\forall r \\in \\lbrace 1,...,h\\rbrace - \\lbrace j \\rbrace$\n"
   ]
  },
  {
   "cell_type": "markdown",
   "metadata": {},
   "source": [
    "\n",
    "That is, the model with the **less** $AIC$ is selected over the rest.\n"
   ]
  },
  {
   "cell_type": "markdown",
   "metadata": {},
   "source": []
  },
  {
   "cell_type": "markdown",
   "metadata": {},
   "source": []
  },
  {
   "cell_type": "markdown",
   "metadata": {},
   "source": [
    "#### $BIC$  <a class=\"anchor\" id=\"13\"></a>"
   ]
  },
  {
   "cell_type": "markdown",
   "metadata": {},
   "source": [
    "Given a linear regression model $\\hspace{0.05cm} M \\hspace{0.05cm}$  with $\\hspace{0.05cm} p_M \\hspace{0.051cm}$ predictors and $n$ observations:\n",
    "\n",
    "$$ BIC(M) = -2 \\cdot ln\\left(\\widehat{L}(M)\\right) + ln(n) \\cdot  \\left(\\hspace{0.1cm} p_M +1 \\hspace{0.1cm}\\right)  $$\n"
   ]
  },
  {
   "cell_type": "markdown",
   "metadata": {},
   "source": [
    "\n",
    "Where:\n",
    "\n",
    "$\\widehat{L}(M)$ is the value of the likelihood function of the model $M$ evaluated at the MLE (Maximum Likelihood Estimators)"
   ]
  },
  {
   "cell_type": "markdown",
   "metadata": {},
   "source": []
  },
  {
   "cell_type": "markdown",
   "metadata": {},
   "source": [
    "This metric is usually used as a criteria to select linear regression models.\n"
   ]
  },
  {
   "cell_type": "markdown",
   "metadata": {},
   "source": [
    "\n",
    "$BIC$ **criteria**:\n",
    "\n",
    "\n",
    "Given $h$ linear regression models $\\hspace{0.1cm}M_1 , M_2, \\dots, M_h$\n",
    "\n",
    "If $\\hspace{0.1cm}  BIC (M_j) < BIC(M_r) \\hspace{0.2cm} , \\forall r \\in \\lbrace 1,...,h\\rbrace - \\lbrace j \\rbrace \\hspace{0.2cm} \\Rightarrow \\hspace{0.2cm} $ $M_j$ is selected instead of $M_r$  $ \\hspace{0.1cm} , \\forall r \\in \\lbrace 1,...,h\\rbrace - \\lbrace j \\rbrace$\n",
    "\n",
    "That is, the model with the **less** $BIC$ is selected over the rest."
   ]
  },
  {
   "cell_type": "markdown",
   "metadata": {},
   "source": []
  },
  {
   "cell_type": "markdown",
   "metadata": {},
   "source": []
  },
  {
   "cell_type": "markdown",
   "metadata": {},
   "source": [
    "### Maximum Likelihood Estimation in the Linear Regression Model <a class=\"anchor\" id=\"14\"></a>\n"
   ]
  },
  {
   "cell_type": "markdown",
   "metadata": {},
   "source": [
    "Given a linear regression model $\\hspace{0.1cm} M \\hspace{0.1cm}$  with $\\hspace{0.1cm} p_M \\hspace{0.1cm}$ predictors and $n$ observations:\n",
    "\n",
    "$$ y_i \\sim N(\\hspace{0.1cm} x_i^t  \\cdot \\beta \\hspace{0.1cm} , \\hspace{0.1cm} \\sigma^2 \\hspace{0.1cm} )$$\n",
    "\n",
    "$$ y_i \\sim f(y_i) = \\dfrac{1}{\\sqrt{2\\pi \\sigma^2}} \\cdot exp\\lbrace \\hspace{0.1cm} - \\dfrac{1}{2\\sigma^2} \\cdot (y_i - x^t_i\\cdot \\beta)^2 \\hspace{0.1cm} \\rbrace $$\n"
   ]
  },
  {
   "cell_type": "markdown",
   "metadata": {},
   "source": [
    "The likelihood function of the model $M$ is:\n",
    "\n",
    "$$ L(  M )=L(\\beta, \\sigma \\hspace{0.1cm}|\\hspace{0.1cm} x_i, y_i)= \\prod_{i=1}^{n} f(y_i) = (2\\pi \\sigma^2)^{-n/2} \\cdot exp\\lbrace \\hspace{0.1cm} - \\dfrac{1}{2\\sigma^2}\\cdot \\sum_{i=1}^{n} (y_i - x^t_i\\cdot \\beta)^2 \\hspace{0.1cm} \\rbrace$$\n",
    "\n",
    "Taking natural logarithm we have:\n",
    "\n",
    "$$ln\\left(\\hspace{0.1cm}L(M)\\hspace{0.1cm}\\right)=ln(\\hspace{0.1cm} L(\\beta, \\sigma \\hspace{0.1cm}|\\hspace{0.1cm} x_i, y_i)\\hspace{0.1cm}) = - \\dfrac{n}{2} \\left(ln(2\\pi) + ln(\\sigma^2) \\right) - \\dfrac{1}{2\\sigma^2} \\sum_{i=1}^{n} \\left( y_i - x^t_i\\cdot \\beta \\right) ^2   $$\n",
    "\n"
   ]
  },
  {
   "cell_type": "markdown",
   "metadata": {},
   "source": []
  },
  {
   "cell_type": "markdown",
   "metadata": {},
   "source": [
    "The maximum likelihood estimators  of the parameters $\\hspace{0.1cm} \\beta$ , $\\sigma \\hspace{0.1cm}$ of the linear regression model $M$ are calculated as the solution of the following optimization problem:\n",
    "\n",
    "$$\n",
    "\\underset{\\beta \\hspace{0.05cm},\\hspace{0.05cm} \\sigma}{Max} \\hspace{0.2cm} ln(\\hspace{0.1cm}L(M)\\hspace{0.1cm})\n",
    "$$\n"
   ]
  },
  {
   "cell_type": "markdown",
   "metadata": {},
   "source": [
    "\n",
    "\n",
    "Solutions:\n",
    "\n",
    "$$\n",
    "\\hat{\\beta}_{MLE}=(X^t \\cdot X)^{-1} \\cdot X^t \\cdot Y = \\hat{\\beta}_{OLS}\n",
    "$$\n",
    "$$\n",
    "\\hat{\\sigma}^2_{MLE} = \\dfrac{RSS(M)}{n}\n",
    "$$\n",
    "\n"
   ]
  },
  {
   "cell_type": "markdown",
   "metadata": {},
   "source": [
    "\n",
    "Note that:\n",
    "\n",
    "$$\n",
    "arg \\hspace{0.1cm} \\underset{\\beta \\hspace{0.05cm},\\hspace{0.05cm} \\sigma}{Max} \\hspace{0.2cm} L(M) \\hspace{0.1cm}=\\hspace{0.1cm} arg \\hspace{0.1cm} \\underset{\\beta \\hspace{0.05cm},\\hspace{0.05cm} \\sigma}{Max} \\hspace{0.2cm} ln(\\hspace{0.1cm}L(M)\\hspace{0.1cm}) \n",
    "$$\n",
    "\n"
   ]
  },
  {
   "cell_type": "markdown",
   "metadata": {},
   "source": [
    "So, the function $\\hspace{0.1cm} ln \\left( \\hspace{0.1cm}L(M)\\hspace{0.1cm} \\right) \\hspace{0.1cm}$ evaluated in $\\hspace{0.1cm} \\beta=\\hat{\\beta}_{MLE} \\hspace{0.1cm}, \\hspace{0.1cm}\\sigma^2 = \\hat{\\sigma}^2_{MLE} \\hspace{0.1cm}$ is :\n"
   ]
  },
  {
   "cell_type": "markdown",
   "metadata": {},
   "source": [
    "\n",
    "$$ ln \\left( \\hspace{0.1cm}\\widehat{L}(M)\\hspace{0.1cm} \\right) =  - \\dfrac{n}{2} \\left( ln(2\\pi) + ln\\left(\\dfrac{RSS(M)}{n}\\right) - ln(n) + 1 \\right) $$\n",
    "\n"
   ]
  },
  {
   "cell_type": "markdown",
   "metadata": {},
   "source": []
  },
  {
   "cell_type": "markdown",
   "metadata": {},
   "source": [
    " #### $AIC$ and $BIC$ in the Linear Regression Model <a class=\"anchor\" id=\"14.1\"></a> "
   ]
  },
  {
   "cell_type": "markdown",
   "metadata": {},
   "source": [
    "\n",
    "Then, in the linear regression model:\n"
   ]
  },
  {
   "cell_type": "markdown",
   "metadata": {},
   "source": [
    "\n",
    "$$ AIC(M) = n \\cdot \\left( \\hspace{0.1cm}  ln(2\\pi) + ln(RSS(M)) - ln(n) \\hspace{0.1cm} \\right) + n + 2\\cdot (\\hspace{0.1cm}p_M + 1\\hspace{0.1cm}) $$\n",
    "\n",
    "$$ BIC(M) =  n \\cdot \\left(  \\hspace{0.1cm} ln(2\\pi) + ln(RSS(M)) - ln(n) \\hspace{0.1cm} \\right) + n + ln(n)\\cdot(\\hspace{0.1cm} p_M + 1\\hspace{0.1cm}) $$\n"
   ]
  },
  {
   "cell_type": "markdown",
   "metadata": {},
   "source": [
    "\n",
    "Where:\n",
    "\n",
    "$$\n",
    "RSS(M) =  \\sum_{i=1}^n \\hat{\\varepsilon}_i^2 =  \\sum_{i=1}^n ( y_i - \\hat{y}_i)^2\n",
    "$$"
   ]
  },
  {
   "cell_type": "markdown",
   "metadata": {},
   "source": []
  },
  {
   "cell_type": "markdown",
   "metadata": {},
   "source": []
  },
  {
   "cell_type": "markdown",
   "metadata": {},
   "source": [
    "#### $AIC$ in `Python` <a class=\"anchor\" id=\"14\"></a>"
   ]
  },
  {
   "cell_type": "markdown",
   "metadata": {},
   "source": [
    "Using `smf.ols` :"
   ]
  },
  {
   "cell_type": "code",
   "execution_count": 275,
   "metadata": {},
   "outputs": [],
   "source": [
    "model = smf.ols(formula = 'price ~ size_in_m_2 + no_of_bedrooms + no_of_bathrooms+ longitude + latitude + quality', data=data_Python).fit()"
   ]
  },
  {
   "cell_type": "code",
   "execution_count": 276,
   "metadata": {},
   "outputs": [
    {
     "data": {
      "text/plain": [
       "59854.027050178316"
      ]
     },
     "execution_count": 276,
     "metadata": {},
     "output_type": "execute_result"
    }
   ],
   "source": [
    "model.aic"
   ]
  },
  {
   "cell_type": "markdown",
   "metadata": {},
   "source": []
  },
  {
   "cell_type": "markdown",
   "metadata": {},
   "source": [
    "Using the $AIC$ formula: "
   ]
  },
  {
   "cell_type": "code",
   "execution_count": 277,
   "metadata": {},
   "outputs": [],
   "source": [
    "def AIC_lm(data, model):\n",
    "\n",
    "    import math\n",
    "\n",
    "    n = data.shape[0]\n",
    "\n",
    "    p = model.df_model\n",
    "\n",
    "    pi = math.pi\n",
    "\n",
    "    RSS = anova_lm(model).sum_sq.Residual\n",
    "\n",
    "    # Other way to compute RSS:\n",
    "    \n",
    "    # y = data['response_variable']\n",
    "    # RSS = ( ( y - model.predict(X) )**2 ).sum()\n",
    "\n",
    "    AIC = n*(math.log(2*pi) + math.log(RSS) -  math.log(n)) + n + 2*(p+1)\n",
    "\n",
    "    return AIC"
   ]
  },
  {
   "cell_type": "markdown",
   "metadata": {},
   "source": []
  },
  {
   "cell_type": "code",
   "execution_count": 278,
   "metadata": {},
   "outputs": [],
   "source": [
    "model = smf.ols(formula = 'price ~ size_in_m_2 + no_of_bedrooms + no_of_bathrooms+ longitude + latitude + quality', data=data_Python).fit()"
   ]
  },
  {
   "cell_type": "code",
   "execution_count": 279,
   "metadata": {},
   "outputs": [
    {
     "data": {
      "text/plain": [
       "59854.02705017832"
      ]
     },
     "execution_count": 279,
     "metadata": {},
     "output_type": "execute_result"
    }
   ],
   "source": [
    "AIC_lm(data_Python, model)"
   ]
  },
  {
   "cell_type": "markdown",
   "metadata": {},
   "source": []
  },
  {
   "cell_type": "markdown",
   "metadata": {},
   "source": [
    "Note:\n",
    "\n",
    "`math.log(x , base)` , by default $\\hspace{0.1cm} base=e$\n",
    "\n",
    "$ln(x) =$ `math.log(x)` $=$ `math.log(x , math.e)`   "
   ]
  },
  {
   "cell_type": "markdown",
   "metadata": {},
   "source": []
  },
  {
   "cell_type": "markdown",
   "metadata": {},
   "source": [
    "#### $AIC$ in `R` <a class=\"anchor\" id=\"14\"></a>"
   ]
  },
  {
   "cell_type": "markdown",
   "metadata": {},
   "source": []
  },
  {
   "cell_type": "code",
   "execution_count": 280,
   "metadata": {},
   "outputs": [],
   "source": [
    "%%R\n",
    "\n",
    "model <- lm( price ~ size_in_m_2 + no_of_bedrooms + no_of_bathrooms + quality , data = data_R)"
   ]
  },
  {
   "cell_type": "code",
   "execution_count": 281,
   "metadata": {},
   "outputs": [
    {
     "name": "stdout",
     "output_type": "stream",
     "text": [
      "[1] 59922.77\n"
     ]
    }
   ],
   "source": [
    "%%R\n",
    "\n",
    "AIC(model)"
   ]
  },
  {
   "cell_type": "markdown",
   "metadata": {},
   "source": []
  },
  {
   "cell_type": "markdown",
   "metadata": {},
   "source": []
  },
  {
   "cell_type": "markdown",
   "metadata": {},
   "source": [
    "##### $BIC$ in `Python` <a class=\"anchor\" id=\"15\"></a>"
   ]
  },
  {
   "cell_type": "markdown",
   "metadata": {},
   "source": [
    "Using `smf.ols` :"
   ]
  },
  {
   "cell_type": "code",
   "execution_count": 282,
   "metadata": {},
   "outputs": [],
   "source": [
    "model = smf.ols(formula = 'price ~ size_in_m_2 + no_of_bedrooms + no_of_bathrooms + quality', data=data_Python).fit()"
   ]
  },
  {
   "cell_type": "code",
   "execution_count": 283,
   "metadata": {},
   "outputs": [
    {
     "data": {
      "text/plain": [
       "59959.63885835402"
      ]
     },
     "execution_count": 283,
     "metadata": {},
     "output_type": "execute_result"
    }
   ],
   "source": [
    "model.bic"
   ]
  },
  {
   "cell_type": "markdown",
   "metadata": {},
   "source": []
  },
  {
   "cell_type": "markdown",
   "metadata": {},
   "source": [
    "Using the $BIC$ formula: "
   ]
  },
  {
   "cell_type": "code",
   "execution_count": 284,
   "metadata": {},
   "outputs": [],
   "source": [
    "def BIC_lm(data, model):\n",
    "\n",
    "    import math\n",
    "\n",
    "    n = data.shape[0]\n",
    "\n",
    "    p = model.df_model\n",
    "\n",
    "    pi = math.pi\n",
    "\n",
    "    RSS = anova_lm(model).sum_sq.Residual\n",
    "\n",
    "    # Other way to compute RSS:\n",
    "    \n",
    "    # y = data['response_variable']\n",
    "    # RSS = ( ( y - model.predict(X) )**2 ).sum()\n",
    "\n",
    "    BIC = n*(math.log(2*pi) + math.log(RSS) -  math.log(n)) + n + math.log(n)*(p+1)\n",
    "\n",
    "    return BIC"
   ]
  },
  {
   "cell_type": "markdown",
   "metadata": {},
   "source": []
  },
  {
   "cell_type": "code",
   "execution_count": 285,
   "metadata": {},
   "outputs": [],
   "source": [
    "model = smf.ols(formula = 'price ~ size_in_m_2 + no_of_bedrooms + no_of_bathrooms + quality', data=data_Python).fit()"
   ]
  },
  {
   "cell_type": "code",
   "execution_count": 286,
   "metadata": {},
   "outputs": [
    {
     "data": {
      "text/plain": [
       "59959.638858354025"
      ]
     },
     "execution_count": 286,
     "metadata": {},
     "output_type": "execute_result"
    }
   ],
   "source": [
    "BIC_lm(data_Python, model)"
   ]
  },
  {
   "cell_type": "markdown",
   "metadata": {},
   "source": []
  },
  {
   "cell_type": "markdown",
   "metadata": {},
   "source": [
    "##### $BIC$ in `R` <a class=\"anchor\" id=\"15\"></a>"
   ]
  },
  {
   "cell_type": "code",
   "execution_count": 287,
   "metadata": {},
   "outputs": [],
   "source": [
    "%%R\n",
    "\n",
    "model <- lm( price ~ size_in_m_2 + no_of_bedrooms + no_of_bathrooms + quality , data = data_R)"
   ]
  },
  {
   "cell_type": "code",
   "execution_count": 288,
   "metadata": {},
   "outputs": [
    {
     "name": "stdout",
     "output_type": "stream",
     "text": [
      "[1] 59967.19\n"
     ]
    }
   ],
   "source": [
    "%%R\n",
    "\n",
    "BIC(model)"
   ]
  },
  {
   "cell_type": "markdown",
   "metadata": {},
   "source": []
  },
  {
   "cell_type": "markdown",
   "metadata": {},
   "source": []
  },
  {
   "cell_type": "markdown",
   "metadata": {},
   "source": [
    "#### $C_p$ <a class=\"anchor\" id=\"18\"></a>"
   ]
  },
  {
   "cell_type": "markdown",
   "metadata": {},
   "source": [
    "Given a full linear regression model  with $\\hspace{0.1cm} p\\hspace{0.1cm}$ predictors $\\hspace{0.1cm} M_{Full}:\\hspace{0.1cm} y_i = \\beta_0 + \\sum_{j=1}^{p} \\hspace{0.02cm} \\beta_j \\cdot x_{ij}$\n",
    "\n",
    "Given a linear regression model $\\hspace{0.1cm} M \\subseteq M_{Full}\\hspace{0.1cm}$  with $\\hspace{0.1cm} p_M \\leq p\\hspace{0.1cm}$ predictors and $n$ observations:\n"
   ]
  },
  {
   "cell_type": "markdown",
   "metadata": {},
   "source": [
    "\n",
    "$$ C_p(M) = \\dfrac{RSS(M)}{\\hat{\\sigma}_{M_{Full}}^2} - n + 2\\cdot \\left(\\hspace{0.1cm} p_M +1 \\hspace{0.1cm}\\right) $$\n"
   ]
  },
  {
   "cell_type": "markdown",
   "metadata": {},
   "source": [
    "\n",
    "Where:\n",
    "\n",
    "$ \\hat{\\sigma}_{M_{Full}}^2 =  \\dfrac{RSS(M_{Full})}{n-p-1}  \\hspace{0.2cm} $ is the residual variance of the full model.\n",
    "\n",
    "$\n",
    "RSS(M_{Full}) =    \\sum_{i=1}^{n} (y_i - \\widehat{y}_{M_{Full}\\hspace{0.02cm},\\hspace{0.02cm} i})^2\n",
    "$"
   ]
  },
  {
   "cell_type": "markdown",
   "metadata": {},
   "source": []
  },
  {
   "cell_type": "markdown",
   "metadata": {},
   "source": [
    "#### $C_p$ in `Python` <a class=\"anchor\" id=\"14\"></a>"
   ]
  },
  {
   "cell_type": "code",
   "execution_count": 289,
   "metadata": {},
   "outputs": [],
   "source": [
    "def Cp_lm(data, full_model, model):\n",
    "\n",
    "    # full_model and model have to be a  smf.ols, because `anova_lm` doesn´t work with sm.OLS\n",
    "\n",
    "    n = data.shape[0]\n",
    "\n",
    "    p_full_model =  full_model.df_model\n",
    "\n",
    "    p_model =  model.df_model\n",
    "\n",
    "    RSS_full_model = anova_lm(full_model).sum_sq.Residual\n",
    "\n",
    "    RSS_model = anova_lm(model).sum_sq.Residual\n",
    "\n",
    "    residual_variance_full_model = RSS_full_model/(n-p_full_model-1)\n",
    "\n",
    "    # Other way to compute RSS:\n",
    "    \n",
    "    # y = data['response_variable']\n",
    "    # RSS = ( ( y - model.predict(X) )**2 ).sum()\n",
    "\n",
    "    Cp = RSS_model/residual_variance_full_model - n + 2*(p_model + 1)\n",
    "\n",
    "    return Cp"
   ]
  },
  {
   "cell_type": "markdown",
   "metadata": {},
   "source": []
  },
  {
   "cell_type": "code",
   "execution_count": 290,
   "metadata": {},
   "outputs": [],
   "source": [
    "full_model = smf.ols(formula = 'price ~ size_in_m_2 + no_of_bedrooms + no_of_bathrooms + quality + latitude + longitude', data =data_Python).fit()\n",
    "\n",
    "model = smf.ols(formula = 'price ~ size_in_m_2 + no_of_bedrooms + no_of_bathrooms', data =data_Python).fit()"
   ]
  },
  {
   "cell_type": "code",
   "execution_count": 291,
   "metadata": {},
   "outputs": [
    {
     "data": {
      "text/plain": [
       "75.98029458609994"
      ]
     },
     "execution_count": 291,
     "metadata": {},
     "output_type": "execute_result"
    }
   ],
   "source": [
    "Cp_lm(data_Python, full_model, model)"
   ]
  },
  {
   "cell_type": "markdown",
   "metadata": {},
   "source": []
  },
  {
   "cell_type": "markdown",
   "metadata": {},
   "source": [
    "#### $C_p$ in `R` <a class=\"anchor\" id=\"14\"></a>"
   ]
  },
  {
   "cell_type": "code",
   "execution_count": 292,
   "metadata": {},
   "outputs": [
    {
     "name": "stdout",
     "output_type": "stream",
     "text": [
      "NULL\n"
     ]
    }
   ],
   "source": [
    "%%R\n",
    "\n",
    "# install.packages(\"olsrr\")"
   ]
  },
  {
   "cell_type": "code",
   "execution_count": 293,
   "metadata": {},
   "outputs": [],
   "source": [
    "%%R\n",
    "\n",
    "full_model <- lm( price ~ size_in_m_2 + no_of_bedrooms + no_of_bathrooms + quality + latitude + longitude  , data = data_R)\n",
    "\n",
    "model <- lm( price ~ size_in_m_2 + no_of_bedrooms + no_of_bathrooms  , data = data_R)"
   ]
  },
  {
   "cell_type": "code",
   "execution_count": 294,
   "metadata": {},
   "outputs": [
    {
     "name": "stdout",
     "output_type": "stream",
     "text": [
      "[1] 75.98029\n"
     ]
    }
   ],
   "source": [
    "%%R\n",
    "\n",
    "library(olsrr)\n",
    "\n",
    "ols_mallows_cp(model, full_model)"
   ]
  },
  {
   "cell_type": "markdown",
   "metadata": {},
   "source": []
  },
  {
   "cell_type": "markdown",
   "metadata": {},
   "source": []
  },
  {
   "cell_type": "markdown",
   "metadata": {},
   "source": [
    "### Best Subset Selection <a class=\"anchor\" id=\"20\"></a>"
   ]
  },
  {
   "cell_type": "markdown",
   "metadata": {},
   "source": [
    "Best subset selection  consist in the following algorithm :\n",
    "\n",
    "We have $p$ predictors: $\\hspace{0.1cm} X_1,...,X_p$\n",
    "\n",
    "- We train the null linear model  \n",
    "   \n",
    "- We train all the possible linear models with  $1$ predictor \n",
    "\n",
    "- We train all the possible linear models with $2$ predictors\n",
    "  \n",
    "   $\\dots$ \n",
    "\n",
    "- We train all the possible linear models with $\\hspace{0.05cm}p-1\\hspace{0.05cm}$ predictors\n",
    "\n",
    "- We train the full linear model \n",
    "\n",
    "\n",
    "We select one of those models under some criteria, for example the one with **less**  $Train\\_error$ , $AIC$, $BIC$ or $Cp$, or **greater**  $\\widehat{R}^2$. That model will be consider \"the best model\".\n",
    "\n",
    "\n"
   ]
  },
  {
   "cell_type": "markdown",
   "metadata": {},
   "source": []
  },
  {
   "cell_type": "markdown",
   "metadata": {},
   "source": [
    "Scheme of the algorithm:\n",
    "\n",
    "- Train $\\hspace{0.08cm}M_0 = \\lbrace \\text{null model} \\rbrace$\n",
    "\n",
    "- Train $\\hspace{0.08cm}M_1=\\lbrace \\text{models with 1 predictor} \\rbrace  $\n",
    "\n",
    "- Train $\\hspace{0.08cm}M_2=\\lbrace \\text{models with 2 predictors} \\rbrace  $\n",
    "\n",
    "$\\hspace{0.8cm} \\dots$\n",
    "\n",
    "- Train $\\hspace{0.08cm}M_{p-1}=\\lbrace \\text{models with p-1 predictors} \\rbrace  $\n",
    "\n",
    "- Train $\\hspace{0.08cm}M_{p}=\\lbrace \\text{full model} \\rbrace  $\n",
    "\n"
   ]
  },
  {
   "cell_type": "markdown",
   "metadata": {},
   "source": [
    "- $\\lbrace M_0, M_1 , ..., M_p \\rbrace \\underset{ Train\\_error, AIC, BIC, C_p, \\widehat{R}^2 }{\\Rightarrow} \\hspace{0.1cm} M\\hspace{0.05cm}^* \\hspace{0.1cm}(Best \\hspace{0.1cm} Model) $"
   ]
  },
  {
   "cell_type": "markdown",
   "metadata": {},
   "source": []
  },
  {
   "cell_type": "markdown",
   "metadata": {},
   "source": [
    "**Problems:**\n",
    "\n",
    "- **Large computational requirements:** compute $2^p$ models is required, which is impossible with more than $\\hspace{0.05cm} p=40 \\hspace{0.05cm}$ predictors, because $\\hspace{0.05cm} 2^{40}=1099511627776$.\n",
    "  \n",
    "  The growth of the computational requirements is exponential, for example, with $\\hspace{0.05cm} p=10$ predictors we need to calculate $\\hspace{0.05cm} 2^{10}=1024 \\hspace{0.05cm}$ models, but with $\\hspace{0.05cm} p=15\\hspace{0.05cm} $ the models to be calculated are too many, $\\hspace{0.05cm} 2^{15}=32768$"
   ]
  },
  {
   "cell_type": "markdown",
   "metadata": {},
   "source": []
  },
  {
   "cell_type": "markdown",
   "metadata": {},
   "source": []
  },
  {
   "cell_type": "markdown",
   "metadata": {},
   "source": [
    "### Best Subset Selection in `Python` <a class=\"anchor\" id=\"21\"></a>"
   ]
  },
  {
   "cell_type": "markdown",
   "metadata": {},
   "source": [
    "We are going to define a function to process categorical variables:"
   ]
  },
  {
   "cell_type": "code",
   "execution_count": 295,
   "metadata": {},
   "outputs": [],
   "source": [
    "def varcharProcessing(X, varchar_process = \"dummy_dropfirst\"):\n",
    "    \n",
    "    dtypes = X.dtypes\n",
    "\n",
    "    if varchar_process == \"drop\":   \n",
    "        X = X.drop(columns = dtypes[dtypes == np.object].index.tolist())\n",
    "\n",
    "    elif varchar_process == \"dummy\":\n",
    "        X = pd.get_dummies(X,drop_first=False)\n",
    "\n",
    "    elif varchar_process == \"dummy_dropfirst\":\n",
    "        X = pd.get_dummies(X,drop_first=True)\n",
    "\n",
    "    else: \n",
    "        X = pd.get_dummies(X,drop_first=True)\n",
    "    \n",
    "    X[\"intercept\"] = 1\n",
    "    cols = X.columns.tolist()\n",
    "    cols = cols[-1:] + cols[:-1]\n",
    "    X = X[cols]\n",
    "    \n",
    "    return X"
   ]
  },
  {
   "cell_type": "markdown",
   "metadata": {},
   "source": []
  },
  {
   "cell_type": "markdown",
   "metadata": {},
   "source": [
    "Let's see how the function `varcharProcessing` works:"
   ]
  },
  {
   "cell_type": "code",
   "execution_count": 296,
   "metadata": {},
   "outputs": [],
   "source": [
    "X = data_Python[['size_in_m_2', 'longitude', 'latitude', 'no_of_bedrooms', 'no_of_bathrooms', 'quality']]\n",
    "y = data_Python['price']"
   ]
  },
  {
   "cell_type": "code",
   "execution_count": 297,
   "metadata": {},
   "outputs": [
    {
     "data": {
      "text/html": [
       "<div>\n",
       "<style scoped>\n",
       "    .dataframe tbody tr th:only-of-type {\n",
       "        vertical-align: middle;\n",
       "    }\n",
       "\n",
       "    .dataframe tbody tr th {\n",
       "        vertical-align: top;\n",
       "    }\n",
       "\n",
       "    .dataframe thead th {\n",
       "        text-align: right;\n",
       "    }\n",
       "</style>\n",
       "<table border=\"1\" class=\"dataframe\">\n",
       "  <thead>\n",
       "    <tr style=\"text-align: right;\">\n",
       "      <th></th>\n",
       "      <th>size_in_m_2</th>\n",
       "      <th>longitude</th>\n",
       "      <th>latitude</th>\n",
       "      <th>no_of_bedrooms</th>\n",
       "      <th>no_of_bathrooms</th>\n",
       "      <th>quality</th>\n",
       "    </tr>\n",
       "  </thead>\n",
       "  <tbody>\n",
       "    <tr>\n",
       "      <th>0</th>\n",
       "      <td>100.242337</td>\n",
       "      <td>55.138932</td>\n",
       "      <td>25.113208</td>\n",
       "      <td>1</td>\n",
       "      <td>2</td>\n",
       "      <td>1</td>\n",
       "    </tr>\n",
       "    <tr>\n",
       "      <th>1</th>\n",
       "      <td>146.972546</td>\n",
       "      <td>55.151201</td>\n",
       "      <td>25.106809</td>\n",
       "      <td>2</td>\n",
       "      <td>2</td>\n",
       "      <td>1</td>\n",
       "    </tr>\n",
       "    <tr>\n",
       "      <th>2</th>\n",
       "      <td>181.253753</td>\n",
       "      <td>55.137728</td>\n",
       "      <td>25.063302</td>\n",
       "      <td>3</td>\n",
       "      <td>5</td>\n",
       "      <td>1</td>\n",
       "    </tr>\n",
       "    <tr>\n",
       "      <th>3</th>\n",
       "      <td>187.664060</td>\n",
       "      <td>55.341761</td>\n",
       "      <td>25.227295</td>\n",
       "      <td>2</td>\n",
       "      <td>3</td>\n",
       "      <td>0</td>\n",
       "    </tr>\n",
       "    <tr>\n",
       "      <th>4</th>\n",
       "      <td>47.101821</td>\n",
       "      <td>55.139764</td>\n",
       "      <td>25.114275</td>\n",
       "      <td>0</td>\n",
       "      <td>1</td>\n",
       "      <td>1</td>\n",
       "    </tr>\n",
       "    <tr>\n",
       "      <th>...</th>\n",
       "      <td>...</td>\n",
       "      <td>...</td>\n",
       "      <td>...</td>\n",
       "      <td>...</td>\n",
       "      <td>...</td>\n",
       "      <td>...</td>\n",
       "    </tr>\n",
       "    <tr>\n",
       "      <th>1900</th>\n",
       "      <td>100.985561</td>\n",
       "      <td>55.310712</td>\n",
       "      <td>25.176892</td>\n",
       "      <td>2</td>\n",
       "      <td>2</td>\n",
       "      <td>3</td>\n",
       "    </tr>\n",
       "    <tr>\n",
       "      <th>1901</th>\n",
       "      <td>70.606280</td>\n",
       "      <td>55.276684</td>\n",
       "      <td>25.166145</td>\n",
       "      <td>1</td>\n",
       "      <td>2</td>\n",
       "      <td>1</td>\n",
       "    </tr>\n",
       "    <tr>\n",
       "      <th>1902</th>\n",
       "      <td>179.302790</td>\n",
       "      <td>55.345056</td>\n",
       "      <td>25.206500</td>\n",
       "      <td>3</td>\n",
       "      <td>5</td>\n",
       "      <td>1</td>\n",
       "    </tr>\n",
       "    <tr>\n",
       "      <th>1903</th>\n",
       "      <td>68.748220</td>\n",
       "      <td>55.229844</td>\n",
       "      <td>25.073858</td>\n",
       "      <td>1</td>\n",
       "      <td>2</td>\n",
       "      <td>1</td>\n",
       "    </tr>\n",
       "    <tr>\n",
       "      <th>1904</th>\n",
       "      <td>74.322400</td>\n",
       "      <td>55.154713</td>\n",
       "      <td>25.079130</td>\n",
       "      <td>1</td>\n",
       "      <td>2</td>\n",
       "      <td>2</td>\n",
       "    </tr>\n",
       "  </tbody>\n",
       "</table>\n",
       "<p>1905 rows × 6 columns</p>\n",
       "</div>"
      ],
      "text/plain": [
       "      size_in_m_2  longitude   latitude  no_of_bedrooms  no_of_bathrooms  \\\n",
       "0      100.242337  55.138932  25.113208               1                2   \n",
       "1      146.972546  55.151201  25.106809               2                2   \n",
       "2      181.253753  55.137728  25.063302               3                5   \n",
       "3      187.664060  55.341761  25.227295               2                3   \n",
       "4       47.101821  55.139764  25.114275               0                1   \n",
       "...           ...        ...        ...             ...              ...   \n",
       "1900   100.985561  55.310712  25.176892               2                2   \n",
       "1901    70.606280  55.276684  25.166145               1                2   \n",
       "1902   179.302790  55.345056  25.206500               3                5   \n",
       "1903    68.748220  55.229844  25.073858               1                2   \n",
       "1904    74.322400  55.154713  25.079130               1                2   \n",
       "\n",
       "     quality  \n",
       "0          1  \n",
       "1          1  \n",
       "2          1  \n",
       "3          0  \n",
       "4          1  \n",
       "...      ...  \n",
       "1900       3  \n",
       "1901       1  \n",
       "1902       1  \n",
       "1903       1  \n",
       "1904       2  \n",
       "\n",
       "[1905 rows x 6 columns]"
      ]
     },
     "execution_count": 297,
     "metadata": {},
     "output_type": "execute_result"
    }
   ],
   "source": [
    "X"
   ]
  },
  {
   "cell_type": "markdown",
   "metadata": {},
   "source": [
    "The function `varcharProcessing` has two inputs, first a data-set, and second three options (**drop**, **dummy**, **dummy_dropfirst**).\n"
   ]
  },
  {
   "cell_type": "markdown",
   "metadata": {},
   "source": [
    "\n",
    "- If the second input is **drop**, the function drops all the variables object type.\n"
   ]
  },
  {
   "cell_type": "markdown",
   "metadata": {},
   "source": [
    "\n",
    "- If the second input is **dummy**, the function drops the original categorical variables, and generate the dummy variables associated to their categories \n",
    "\n",
    "For example: $quality$ would be dropped, and because of $quality$ has 4 categories (0,1,2,3) the dummies variables $quality\\_0$ , $quality\\_1$, $quality\\_2$, $quality\\_3$ would be added to the date-set.\n"
   ]
  },
  {
   "cell_type": "markdown",
   "metadata": {},
   "source": [
    "\n",
    "- If the second input is **dummy_dropfirst**, \n",
    "the function drops the original categorical variable, and generate the dummy variables associated to their categories , but dropping the dummy associated with the first category.\n",
    "\n",
    "For example: $quality$ would be dropped, and because of $quality$ has 4 categories (0,1,2,3) and  first dummy must be dropped,  the dummies variables $quality\\_1$, $quality\\_2$, $quality\\_3$ would be added to the date-set."
   ]
  },
  {
   "cell_type": "markdown",
   "metadata": {},
   "source": [
    "- In all the cases the function add the intercept column to the data-set"
   ]
  },
  {
   "cell_type": "markdown",
   "metadata": {},
   "source": []
  },
  {
   "cell_type": "markdown",
   "metadata": {},
   "source": [
    "#### Note:"
   ]
  },
  {
   "cell_type": "markdown",
   "metadata": {},
   "source": [
    "#### Dummy variables associated to a categorical variable:"
   ]
  },
  {
   "cell_type": "markdown",
   "metadata": {},
   "source": [
    "$D(X_j , i)$ is the dummy variable associated to the category $i$ of the categorical variable $X_j$ $\\Leftrightarrow$\n",
    "\n",
    "$$\n",
    "\\Leftrightarrow D(X_j , i) = \\left\\lbrace\\begin{array}{l} 1 \\hspace{0.3cm},\\text{ if $\\hspace{0.1cm} X_j = i$ } \\\\ 0 \\hspace{0.3cm},\\text{   if $\\hspace{0.1cm} X_j \\neq i$  }  \\end{array}\\right.\n",
    "$$"
   ]
  },
  {
   "cell_type": "markdown",
   "metadata": {},
   "source": []
  },
  {
   "cell_type": "markdown",
   "metadata": {},
   "source": [
    "Let´s see the above :"
   ]
  },
  {
   "cell_type": "code",
   "execution_count": 298,
   "metadata": {},
   "outputs": [
    {
     "data": {
      "text/html": [
       "<div>\n",
       "<style scoped>\n",
       "    .dataframe tbody tr th:only-of-type {\n",
       "        vertical-align: middle;\n",
       "    }\n",
       "\n",
       "    .dataframe tbody tr th {\n",
       "        vertical-align: top;\n",
       "    }\n",
       "\n",
       "    .dataframe thead th {\n",
       "        text-align: right;\n",
       "    }\n",
       "</style>\n",
       "<table border=\"1\" class=\"dataframe\">\n",
       "  <thead>\n",
       "    <tr style=\"text-align: right;\">\n",
       "      <th></th>\n",
       "      <th>intercept</th>\n",
       "      <th>size_in_m_2</th>\n",
       "      <th>longitude</th>\n",
       "      <th>latitude</th>\n",
       "      <th>no_of_bedrooms</th>\n",
       "      <th>no_of_bathrooms</th>\n",
       "      <th>quality_1</th>\n",
       "      <th>quality_2</th>\n",
       "      <th>quality_3</th>\n",
       "    </tr>\n",
       "  </thead>\n",
       "  <tbody>\n",
       "    <tr>\n",
       "      <th>0</th>\n",
       "      <td>1</td>\n",
       "      <td>100.242337</td>\n",
       "      <td>55.138932</td>\n",
       "      <td>25.113208</td>\n",
       "      <td>1</td>\n",
       "      <td>2</td>\n",
       "      <td>1</td>\n",
       "      <td>0</td>\n",
       "      <td>0</td>\n",
       "    </tr>\n",
       "    <tr>\n",
       "      <th>1</th>\n",
       "      <td>1</td>\n",
       "      <td>146.972546</td>\n",
       "      <td>55.151201</td>\n",
       "      <td>25.106809</td>\n",
       "      <td>2</td>\n",
       "      <td>2</td>\n",
       "      <td>1</td>\n",
       "      <td>0</td>\n",
       "      <td>0</td>\n",
       "    </tr>\n",
       "    <tr>\n",
       "      <th>2</th>\n",
       "      <td>1</td>\n",
       "      <td>181.253753</td>\n",
       "      <td>55.137728</td>\n",
       "      <td>25.063302</td>\n",
       "      <td>3</td>\n",
       "      <td>5</td>\n",
       "      <td>1</td>\n",
       "      <td>0</td>\n",
       "      <td>0</td>\n",
       "    </tr>\n",
       "    <tr>\n",
       "      <th>3</th>\n",
       "      <td>1</td>\n",
       "      <td>187.664060</td>\n",
       "      <td>55.341761</td>\n",
       "      <td>25.227295</td>\n",
       "      <td>2</td>\n",
       "      <td>3</td>\n",
       "      <td>0</td>\n",
       "      <td>0</td>\n",
       "      <td>0</td>\n",
       "    </tr>\n",
       "    <tr>\n",
       "      <th>4</th>\n",
       "      <td>1</td>\n",
       "      <td>47.101821</td>\n",
       "      <td>55.139764</td>\n",
       "      <td>25.114275</td>\n",
       "      <td>0</td>\n",
       "      <td>1</td>\n",
       "      <td>1</td>\n",
       "      <td>0</td>\n",
       "      <td>0</td>\n",
       "    </tr>\n",
       "    <tr>\n",
       "      <th>...</th>\n",
       "      <td>...</td>\n",
       "      <td>...</td>\n",
       "      <td>...</td>\n",
       "      <td>...</td>\n",
       "      <td>...</td>\n",
       "      <td>...</td>\n",
       "      <td>...</td>\n",
       "      <td>...</td>\n",
       "      <td>...</td>\n",
       "    </tr>\n",
       "    <tr>\n",
       "      <th>1900</th>\n",
       "      <td>1</td>\n",
       "      <td>100.985561</td>\n",
       "      <td>55.310712</td>\n",
       "      <td>25.176892</td>\n",
       "      <td>2</td>\n",
       "      <td>2</td>\n",
       "      <td>0</td>\n",
       "      <td>0</td>\n",
       "      <td>1</td>\n",
       "    </tr>\n",
       "    <tr>\n",
       "      <th>1901</th>\n",
       "      <td>1</td>\n",
       "      <td>70.606280</td>\n",
       "      <td>55.276684</td>\n",
       "      <td>25.166145</td>\n",
       "      <td>1</td>\n",
       "      <td>2</td>\n",
       "      <td>1</td>\n",
       "      <td>0</td>\n",
       "      <td>0</td>\n",
       "    </tr>\n",
       "    <tr>\n",
       "      <th>1902</th>\n",
       "      <td>1</td>\n",
       "      <td>179.302790</td>\n",
       "      <td>55.345056</td>\n",
       "      <td>25.206500</td>\n",
       "      <td>3</td>\n",
       "      <td>5</td>\n",
       "      <td>1</td>\n",
       "      <td>0</td>\n",
       "      <td>0</td>\n",
       "    </tr>\n",
       "    <tr>\n",
       "      <th>1903</th>\n",
       "      <td>1</td>\n",
       "      <td>68.748220</td>\n",
       "      <td>55.229844</td>\n",
       "      <td>25.073858</td>\n",
       "      <td>1</td>\n",
       "      <td>2</td>\n",
       "      <td>1</td>\n",
       "      <td>0</td>\n",
       "      <td>0</td>\n",
       "    </tr>\n",
       "    <tr>\n",
       "      <th>1904</th>\n",
       "      <td>1</td>\n",
       "      <td>74.322400</td>\n",
       "      <td>55.154713</td>\n",
       "      <td>25.079130</td>\n",
       "      <td>1</td>\n",
       "      <td>2</td>\n",
       "      <td>0</td>\n",
       "      <td>1</td>\n",
       "      <td>0</td>\n",
       "    </tr>\n",
       "  </tbody>\n",
       "</table>\n",
       "<p>1905 rows × 9 columns</p>\n",
       "</div>"
      ],
      "text/plain": [
       "      intercept  size_in_m_2  longitude   latitude  no_of_bedrooms  \\\n",
       "0             1   100.242337  55.138932  25.113208               1   \n",
       "1             1   146.972546  55.151201  25.106809               2   \n",
       "2             1   181.253753  55.137728  25.063302               3   \n",
       "3             1   187.664060  55.341761  25.227295               2   \n",
       "4             1    47.101821  55.139764  25.114275               0   \n",
       "...         ...          ...        ...        ...             ...   \n",
       "1900          1   100.985561  55.310712  25.176892               2   \n",
       "1901          1    70.606280  55.276684  25.166145               1   \n",
       "1902          1   179.302790  55.345056  25.206500               3   \n",
       "1903          1    68.748220  55.229844  25.073858               1   \n",
       "1904          1    74.322400  55.154713  25.079130               1   \n",
       "\n",
       "      no_of_bathrooms  quality_1  quality_2  quality_3  \n",
       "0                   2          1          0          0  \n",
       "1                   2          1          0          0  \n",
       "2                   5          1          0          0  \n",
       "3                   3          0          0          0  \n",
       "4                   1          1          0          0  \n",
       "...               ...        ...        ...        ...  \n",
       "1900                2          0          0          1  \n",
       "1901                2          1          0          0  \n",
       "1902                5          1          0          0  \n",
       "1903                2          1          0          0  \n",
       "1904                2          0          1          0  \n",
       "\n",
       "[1905 rows x 9 columns]"
      ]
     },
     "execution_count": 298,
     "metadata": {},
     "output_type": "execute_result"
    }
   ],
   "source": [
    "varcharProcessing(X, varchar_process = \"dummy_dropfirst\")"
   ]
  },
  {
   "cell_type": "markdown",
   "metadata": {},
   "source": []
  },
  {
   "cell_type": "code",
   "execution_count": 299,
   "metadata": {},
   "outputs": [
    {
     "data": {
      "text/html": [
       "<div>\n",
       "<style scoped>\n",
       "    .dataframe tbody tr th:only-of-type {\n",
       "        vertical-align: middle;\n",
       "    }\n",
       "\n",
       "    .dataframe tbody tr th {\n",
       "        vertical-align: top;\n",
       "    }\n",
       "\n",
       "    .dataframe thead th {\n",
       "        text-align: right;\n",
       "    }\n",
       "</style>\n",
       "<table border=\"1\" class=\"dataframe\">\n",
       "  <thead>\n",
       "    <tr style=\"text-align: right;\">\n",
       "      <th></th>\n",
       "      <th>intercept</th>\n",
       "      <th>size_in_m_2</th>\n",
       "      <th>longitude</th>\n",
       "      <th>latitude</th>\n",
       "      <th>no_of_bedrooms</th>\n",
       "      <th>no_of_bathrooms</th>\n",
       "      <th>quality_0</th>\n",
       "      <th>quality_1</th>\n",
       "      <th>quality_2</th>\n",
       "      <th>quality_3</th>\n",
       "    </tr>\n",
       "  </thead>\n",
       "  <tbody>\n",
       "    <tr>\n",
       "      <th>0</th>\n",
       "      <td>1</td>\n",
       "      <td>100.242337</td>\n",
       "      <td>55.138932</td>\n",
       "      <td>25.113208</td>\n",
       "      <td>1</td>\n",
       "      <td>2</td>\n",
       "      <td>0</td>\n",
       "      <td>1</td>\n",
       "      <td>0</td>\n",
       "      <td>0</td>\n",
       "    </tr>\n",
       "    <tr>\n",
       "      <th>1</th>\n",
       "      <td>1</td>\n",
       "      <td>146.972546</td>\n",
       "      <td>55.151201</td>\n",
       "      <td>25.106809</td>\n",
       "      <td>2</td>\n",
       "      <td>2</td>\n",
       "      <td>0</td>\n",
       "      <td>1</td>\n",
       "      <td>0</td>\n",
       "      <td>0</td>\n",
       "    </tr>\n",
       "    <tr>\n",
       "      <th>2</th>\n",
       "      <td>1</td>\n",
       "      <td>181.253753</td>\n",
       "      <td>55.137728</td>\n",
       "      <td>25.063302</td>\n",
       "      <td>3</td>\n",
       "      <td>5</td>\n",
       "      <td>0</td>\n",
       "      <td>1</td>\n",
       "      <td>0</td>\n",
       "      <td>0</td>\n",
       "    </tr>\n",
       "    <tr>\n",
       "      <th>3</th>\n",
       "      <td>1</td>\n",
       "      <td>187.664060</td>\n",
       "      <td>55.341761</td>\n",
       "      <td>25.227295</td>\n",
       "      <td>2</td>\n",
       "      <td>3</td>\n",
       "      <td>1</td>\n",
       "      <td>0</td>\n",
       "      <td>0</td>\n",
       "      <td>0</td>\n",
       "    </tr>\n",
       "    <tr>\n",
       "      <th>4</th>\n",
       "      <td>1</td>\n",
       "      <td>47.101821</td>\n",
       "      <td>55.139764</td>\n",
       "      <td>25.114275</td>\n",
       "      <td>0</td>\n",
       "      <td>1</td>\n",
       "      <td>0</td>\n",
       "      <td>1</td>\n",
       "      <td>0</td>\n",
       "      <td>0</td>\n",
       "    </tr>\n",
       "    <tr>\n",
       "      <th>...</th>\n",
       "      <td>...</td>\n",
       "      <td>...</td>\n",
       "      <td>...</td>\n",
       "      <td>...</td>\n",
       "      <td>...</td>\n",
       "      <td>...</td>\n",
       "      <td>...</td>\n",
       "      <td>...</td>\n",
       "      <td>...</td>\n",
       "      <td>...</td>\n",
       "    </tr>\n",
       "    <tr>\n",
       "      <th>1900</th>\n",
       "      <td>1</td>\n",
       "      <td>100.985561</td>\n",
       "      <td>55.310712</td>\n",
       "      <td>25.176892</td>\n",
       "      <td>2</td>\n",
       "      <td>2</td>\n",
       "      <td>0</td>\n",
       "      <td>0</td>\n",
       "      <td>0</td>\n",
       "      <td>1</td>\n",
       "    </tr>\n",
       "    <tr>\n",
       "      <th>1901</th>\n",
       "      <td>1</td>\n",
       "      <td>70.606280</td>\n",
       "      <td>55.276684</td>\n",
       "      <td>25.166145</td>\n",
       "      <td>1</td>\n",
       "      <td>2</td>\n",
       "      <td>0</td>\n",
       "      <td>1</td>\n",
       "      <td>0</td>\n",
       "      <td>0</td>\n",
       "    </tr>\n",
       "    <tr>\n",
       "      <th>1902</th>\n",
       "      <td>1</td>\n",
       "      <td>179.302790</td>\n",
       "      <td>55.345056</td>\n",
       "      <td>25.206500</td>\n",
       "      <td>3</td>\n",
       "      <td>5</td>\n",
       "      <td>0</td>\n",
       "      <td>1</td>\n",
       "      <td>0</td>\n",
       "      <td>0</td>\n",
       "    </tr>\n",
       "    <tr>\n",
       "      <th>1903</th>\n",
       "      <td>1</td>\n",
       "      <td>68.748220</td>\n",
       "      <td>55.229844</td>\n",
       "      <td>25.073858</td>\n",
       "      <td>1</td>\n",
       "      <td>2</td>\n",
       "      <td>0</td>\n",
       "      <td>1</td>\n",
       "      <td>0</td>\n",
       "      <td>0</td>\n",
       "    </tr>\n",
       "    <tr>\n",
       "      <th>1904</th>\n",
       "      <td>1</td>\n",
       "      <td>74.322400</td>\n",
       "      <td>55.154713</td>\n",
       "      <td>25.079130</td>\n",
       "      <td>1</td>\n",
       "      <td>2</td>\n",
       "      <td>0</td>\n",
       "      <td>0</td>\n",
       "      <td>1</td>\n",
       "      <td>0</td>\n",
       "    </tr>\n",
       "  </tbody>\n",
       "</table>\n",
       "<p>1905 rows × 10 columns</p>\n",
       "</div>"
      ],
      "text/plain": [
       "      intercept  size_in_m_2  longitude   latitude  no_of_bedrooms  \\\n",
       "0             1   100.242337  55.138932  25.113208               1   \n",
       "1             1   146.972546  55.151201  25.106809               2   \n",
       "2             1   181.253753  55.137728  25.063302               3   \n",
       "3             1   187.664060  55.341761  25.227295               2   \n",
       "4             1    47.101821  55.139764  25.114275               0   \n",
       "...         ...          ...        ...        ...             ...   \n",
       "1900          1   100.985561  55.310712  25.176892               2   \n",
       "1901          1    70.606280  55.276684  25.166145               1   \n",
       "1902          1   179.302790  55.345056  25.206500               3   \n",
       "1903          1    68.748220  55.229844  25.073858               1   \n",
       "1904          1    74.322400  55.154713  25.079130               1   \n",
       "\n",
       "      no_of_bathrooms  quality_0  quality_1  quality_2  quality_3  \n",
       "0                   2          0          1          0          0  \n",
       "1                   2          0          1          0          0  \n",
       "2                   5          0          1          0          0  \n",
       "3                   3          1          0          0          0  \n",
       "4                   1          0          1          0          0  \n",
       "...               ...        ...        ...        ...        ...  \n",
       "1900                2          0          0          0          1  \n",
       "1901                2          0          1          0          0  \n",
       "1902                5          0          1          0          0  \n",
       "1903                2          0          1          0          0  \n",
       "1904                2          0          0          1          0  \n",
       "\n",
       "[1905 rows x 10 columns]"
      ]
     },
     "execution_count": 299,
     "metadata": {},
     "output_type": "execute_result"
    }
   ],
   "source": [
    "varcharProcessing(X, varchar_process = \"dummy\")"
   ]
  },
  {
   "cell_type": "markdown",
   "metadata": {},
   "source": []
  },
  {
   "cell_type": "code",
   "execution_count": 300,
   "metadata": {},
   "outputs": [
    {
     "data": {
      "text/html": [
       "<div>\n",
       "<style scoped>\n",
       "    .dataframe tbody tr th:only-of-type {\n",
       "        vertical-align: middle;\n",
       "    }\n",
       "\n",
       "    .dataframe tbody tr th {\n",
       "        vertical-align: top;\n",
       "    }\n",
       "\n",
       "    .dataframe thead th {\n",
       "        text-align: right;\n",
       "    }\n",
       "</style>\n",
       "<table border=\"1\" class=\"dataframe\">\n",
       "  <thead>\n",
       "    <tr style=\"text-align: right;\">\n",
       "      <th></th>\n",
       "      <th>intercept</th>\n",
       "      <th>size_in_m_2</th>\n",
       "      <th>longitude</th>\n",
       "      <th>latitude</th>\n",
       "      <th>no_of_bedrooms</th>\n",
       "      <th>no_of_bathrooms</th>\n",
       "      <th>quality</th>\n",
       "    </tr>\n",
       "  </thead>\n",
       "  <tbody>\n",
       "    <tr>\n",
       "      <th>0</th>\n",
       "      <td>1</td>\n",
       "      <td>100.242337</td>\n",
       "      <td>55.138932</td>\n",
       "      <td>25.113208</td>\n",
       "      <td>1</td>\n",
       "      <td>2</td>\n",
       "      <td>1</td>\n",
       "    </tr>\n",
       "    <tr>\n",
       "      <th>1</th>\n",
       "      <td>1</td>\n",
       "      <td>146.972546</td>\n",
       "      <td>55.151201</td>\n",
       "      <td>25.106809</td>\n",
       "      <td>2</td>\n",
       "      <td>2</td>\n",
       "      <td>1</td>\n",
       "    </tr>\n",
       "    <tr>\n",
       "      <th>2</th>\n",
       "      <td>1</td>\n",
       "      <td>181.253753</td>\n",
       "      <td>55.137728</td>\n",
       "      <td>25.063302</td>\n",
       "      <td>3</td>\n",
       "      <td>5</td>\n",
       "      <td>1</td>\n",
       "    </tr>\n",
       "    <tr>\n",
       "      <th>3</th>\n",
       "      <td>1</td>\n",
       "      <td>187.664060</td>\n",
       "      <td>55.341761</td>\n",
       "      <td>25.227295</td>\n",
       "      <td>2</td>\n",
       "      <td>3</td>\n",
       "      <td>0</td>\n",
       "    </tr>\n",
       "    <tr>\n",
       "      <th>4</th>\n",
       "      <td>1</td>\n",
       "      <td>47.101821</td>\n",
       "      <td>55.139764</td>\n",
       "      <td>25.114275</td>\n",
       "      <td>0</td>\n",
       "      <td>1</td>\n",
       "      <td>1</td>\n",
       "    </tr>\n",
       "    <tr>\n",
       "      <th>...</th>\n",
       "      <td>...</td>\n",
       "      <td>...</td>\n",
       "      <td>...</td>\n",
       "      <td>...</td>\n",
       "      <td>...</td>\n",
       "      <td>...</td>\n",
       "      <td>...</td>\n",
       "    </tr>\n",
       "    <tr>\n",
       "      <th>1900</th>\n",
       "      <td>1</td>\n",
       "      <td>100.985561</td>\n",
       "      <td>55.310712</td>\n",
       "      <td>25.176892</td>\n",
       "      <td>2</td>\n",
       "      <td>2</td>\n",
       "      <td>3</td>\n",
       "    </tr>\n",
       "    <tr>\n",
       "      <th>1901</th>\n",
       "      <td>1</td>\n",
       "      <td>70.606280</td>\n",
       "      <td>55.276684</td>\n",
       "      <td>25.166145</td>\n",
       "      <td>1</td>\n",
       "      <td>2</td>\n",
       "      <td>1</td>\n",
       "    </tr>\n",
       "    <tr>\n",
       "      <th>1902</th>\n",
       "      <td>1</td>\n",
       "      <td>179.302790</td>\n",
       "      <td>55.345056</td>\n",
       "      <td>25.206500</td>\n",
       "      <td>3</td>\n",
       "      <td>5</td>\n",
       "      <td>1</td>\n",
       "    </tr>\n",
       "    <tr>\n",
       "      <th>1903</th>\n",
       "      <td>1</td>\n",
       "      <td>68.748220</td>\n",
       "      <td>55.229844</td>\n",
       "      <td>25.073858</td>\n",
       "      <td>1</td>\n",
       "      <td>2</td>\n",
       "      <td>1</td>\n",
       "    </tr>\n",
       "    <tr>\n",
       "      <th>1904</th>\n",
       "      <td>1</td>\n",
       "      <td>74.322400</td>\n",
       "      <td>55.154713</td>\n",
       "      <td>25.079130</td>\n",
       "      <td>1</td>\n",
       "      <td>2</td>\n",
       "      <td>2</td>\n",
       "    </tr>\n",
       "  </tbody>\n",
       "</table>\n",
       "<p>1905 rows × 7 columns</p>\n",
       "</div>"
      ],
      "text/plain": [
       "      intercept  size_in_m_2  longitude   latitude  no_of_bedrooms  \\\n",
       "0             1   100.242337  55.138932  25.113208               1   \n",
       "1             1   146.972546  55.151201  25.106809               2   \n",
       "2             1   181.253753  55.137728  25.063302               3   \n",
       "3             1   187.664060  55.341761  25.227295               2   \n",
       "4             1    47.101821  55.139764  25.114275               0   \n",
       "...         ...          ...        ...        ...             ...   \n",
       "1900          1   100.985561  55.310712  25.176892               2   \n",
       "1901          1    70.606280  55.276684  25.166145               1   \n",
       "1902          1   179.302790  55.345056  25.206500               3   \n",
       "1903          1    68.748220  55.229844  25.073858               1   \n",
       "1904          1    74.322400  55.154713  25.079130               1   \n",
       "\n",
       "      no_of_bathrooms quality  \n",
       "0                   2       1  \n",
       "1                   2       1  \n",
       "2                   5       1  \n",
       "3                   3       0  \n",
       "4                   1       1  \n",
       "...               ...     ...  \n",
       "1900                2       3  \n",
       "1901                2       1  \n",
       "1902                5       1  \n",
       "1903                2       1  \n",
       "1904                2       2  \n",
       "\n",
       "[1905 rows x 7 columns]"
      ]
     },
     "execution_count": 300,
     "metadata": {},
     "output_type": "execute_result"
    }
   ],
   "source": [
    "varcharProcessing(X, varchar_process = \"drop\")"
   ]
  },
  {
   "cell_type": "markdown",
   "metadata": {},
   "source": [
    "In last one, if quality would be object type, it would be drop. But in this case it has category type, so it hasn't been dropped."
   ]
  },
  {
   "cell_type": "code",
   "execution_count": 301,
   "metadata": {},
   "outputs": [
    {
     "data": {
      "text/plain": [
       "size_in_m_2         float64\n",
       "longitude           float64\n",
       "latitude            float64\n",
       "no_of_bedrooms        int64\n",
       "no_of_bathrooms       int64\n",
       "quality            category\n",
       "dtype: object"
      ]
     },
     "execution_count": 301,
     "metadata": {},
     "output_type": "execute_result"
    }
   ],
   "source": [
    "X.dtypes\n"
   ]
  },
  {
   "cell_type": "markdown",
   "metadata": {},
   "source": []
  },
  {
   "cell_type": "markdown",
   "metadata": {},
   "source": [
    "What happened if we have a categorical variable with a not standard range ?"
   ]
  },
  {
   "cell_type": "markdown",
   "metadata": {},
   "source": [
    "No problem, `varcharProcessing` keeps working well, following the same philosophy.\n",
    "\n",
    "Let's see that:"
   ]
  },
  {
   "cell_type": "code",
   "execution_count": 302,
   "metadata": {},
   "outputs": [],
   "source": [
    "X['quality'] = X['quality'].astype(float) \n",
    "\n",
    "X['quality'] = X['quality'] + 2\n",
    "\n",
    "X['quality'] = X['quality'].astype('category') "
   ]
  },
  {
   "cell_type": "code",
   "execution_count": 303,
   "metadata": {},
   "outputs": [
    {
     "data": {
      "text/html": [
       "<div>\n",
       "<style scoped>\n",
       "    .dataframe tbody tr th:only-of-type {\n",
       "        vertical-align: middle;\n",
       "    }\n",
       "\n",
       "    .dataframe tbody tr th {\n",
       "        vertical-align: top;\n",
       "    }\n",
       "\n",
       "    .dataframe thead th {\n",
       "        text-align: right;\n",
       "    }\n",
       "</style>\n",
       "<table border=\"1\" class=\"dataframe\">\n",
       "  <thead>\n",
       "    <tr style=\"text-align: right;\">\n",
       "      <th></th>\n",
       "      <th>intercept</th>\n",
       "      <th>size_in_m_2</th>\n",
       "      <th>longitude</th>\n",
       "      <th>latitude</th>\n",
       "      <th>no_of_bedrooms</th>\n",
       "      <th>no_of_bathrooms</th>\n",
       "      <th>quality_2.0</th>\n",
       "      <th>quality_3.0</th>\n",
       "      <th>quality_4.0</th>\n",
       "      <th>quality_5.0</th>\n",
       "    </tr>\n",
       "  </thead>\n",
       "  <tbody>\n",
       "    <tr>\n",
       "      <th>0</th>\n",
       "      <td>1</td>\n",
       "      <td>100.242337</td>\n",
       "      <td>55.138932</td>\n",
       "      <td>25.113208</td>\n",
       "      <td>1</td>\n",
       "      <td>2</td>\n",
       "      <td>0</td>\n",
       "      <td>1</td>\n",
       "      <td>0</td>\n",
       "      <td>0</td>\n",
       "    </tr>\n",
       "    <tr>\n",
       "      <th>1</th>\n",
       "      <td>1</td>\n",
       "      <td>146.972546</td>\n",
       "      <td>55.151201</td>\n",
       "      <td>25.106809</td>\n",
       "      <td>2</td>\n",
       "      <td>2</td>\n",
       "      <td>0</td>\n",
       "      <td>1</td>\n",
       "      <td>0</td>\n",
       "      <td>0</td>\n",
       "    </tr>\n",
       "    <tr>\n",
       "      <th>2</th>\n",
       "      <td>1</td>\n",
       "      <td>181.253753</td>\n",
       "      <td>55.137728</td>\n",
       "      <td>25.063302</td>\n",
       "      <td>3</td>\n",
       "      <td>5</td>\n",
       "      <td>0</td>\n",
       "      <td>1</td>\n",
       "      <td>0</td>\n",
       "      <td>0</td>\n",
       "    </tr>\n",
       "    <tr>\n",
       "      <th>3</th>\n",
       "      <td>1</td>\n",
       "      <td>187.664060</td>\n",
       "      <td>55.341761</td>\n",
       "      <td>25.227295</td>\n",
       "      <td>2</td>\n",
       "      <td>3</td>\n",
       "      <td>1</td>\n",
       "      <td>0</td>\n",
       "      <td>0</td>\n",
       "      <td>0</td>\n",
       "    </tr>\n",
       "    <tr>\n",
       "      <th>4</th>\n",
       "      <td>1</td>\n",
       "      <td>47.101821</td>\n",
       "      <td>55.139764</td>\n",
       "      <td>25.114275</td>\n",
       "      <td>0</td>\n",
       "      <td>1</td>\n",
       "      <td>0</td>\n",
       "      <td>1</td>\n",
       "      <td>0</td>\n",
       "      <td>0</td>\n",
       "    </tr>\n",
       "    <tr>\n",
       "      <th>...</th>\n",
       "      <td>...</td>\n",
       "      <td>...</td>\n",
       "      <td>...</td>\n",
       "      <td>...</td>\n",
       "      <td>...</td>\n",
       "      <td>...</td>\n",
       "      <td>...</td>\n",
       "      <td>...</td>\n",
       "      <td>...</td>\n",
       "      <td>...</td>\n",
       "    </tr>\n",
       "    <tr>\n",
       "      <th>1900</th>\n",
       "      <td>1</td>\n",
       "      <td>100.985561</td>\n",
       "      <td>55.310712</td>\n",
       "      <td>25.176892</td>\n",
       "      <td>2</td>\n",
       "      <td>2</td>\n",
       "      <td>0</td>\n",
       "      <td>0</td>\n",
       "      <td>0</td>\n",
       "      <td>1</td>\n",
       "    </tr>\n",
       "    <tr>\n",
       "      <th>1901</th>\n",
       "      <td>1</td>\n",
       "      <td>70.606280</td>\n",
       "      <td>55.276684</td>\n",
       "      <td>25.166145</td>\n",
       "      <td>1</td>\n",
       "      <td>2</td>\n",
       "      <td>0</td>\n",
       "      <td>1</td>\n",
       "      <td>0</td>\n",
       "      <td>0</td>\n",
       "    </tr>\n",
       "    <tr>\n",
       "      <th>1902</th>\n",
       "      <td>1</td>\n",
       "      <td>179.302790</td>\n",
       "      <td>55.345056</td>\n",
       "      <td>25.206500</td>\n",
       "      <td>3</td>\n",
       "      <td>5</td>\n",
       "      <td>0</td>\n",
       "      <td>1</td>\n",
       "      <td>0</td>\n",
       "      <td>0</td>\n",
       "    </tr>\n",
       "    <tr>\n",
       "      <th>1903</th>\n",
       "      <td>1</td>\n",
       "      <td>68.748220</td>\n",
       "      <td>55.229844</td>\n",
       "      <td>25.073858</td>\n",
       "      <td>1</td>\n",
       "      <td>2</td>\n",
       "      <td>0</td>\n",
       "      <td>1</td>\n",
       "      <td>0</td>\n",
       "      <td>0</td>\n",
       "    </tr>\n",
       "    <tr>\n",
       "      <th>1904</th>\n",
       "      <td>1</td>\n",
       "      <td>74.322400</td>\n",
       "      <td>55.154713</td>\n",
       "      <td>25.079130</td>\n",
       "      <td>1</td>\n",
       "      <td>2</td>\n",
       "      <td>0</td>\n",
       "      <td>0</td>\n",
       "      <td>1</td>\n",
       "      <td>0</td>\n",
       "    </tr>\n",
       "  </tbody>\n",
       "</table>\n",
       "<p>1905 rows × 10 columns</p>\n",
       "</div>"
      ],
      "text/plain": [
       "      intercept  size_in_m_2  longitude   latitude  no_of_bedrooms  \\\n",
       "0             1   100.242337  55.138932  25.113208               1   \n",
       "1             1   146.972546  55.151201  25.106809               2   \n",
       "2             1   181.253753  55.137728  25.063302               3   \n",
       "3             1   187.664060  55.341761  25.227295               2   \n",
       "4             1    47.101821  55.139764  25.114275               0   \n",
       "...         ...          ...        ...        ...             ...   \n",
       "1900          1   100.985561  55.310712  25.176892               2   \n",
       "1901          1    70.606280  55.276684  25.166145               1   \n",
       "1902          1   179.302790  55.345056  25.206500               3   \n",
       "1903          1    68.748220  55.229844  25.073858               1   \n",
       "1904          1    74.322400  55.154713  25.079130               1   \n",
       "\n",
       "      no_of_bathrooms  quality_2.0  quality_3.0  quality_4.0  quality_5.0  \n",
       "0                   2            0            1            0            0  \n",
       "1                   2            0            1            0            0  \n",
       "2                   5            0            1            0            0  \n",
       "3                   3            1            0            0            0  \n",
       "4                   1            0            1            0            0  \n",
       "...               ...          ...          ...          ...          ...  \n",
       "1900                2            0            0            0            1  \n",
       "1901                2            0            1            0            0  \n",
       "1902                5            0            1            0            0  \n",
       "1903                2            0            1            0            0  \n",
       "1904                2            0            0            1            0  \n",
       "\n",
       "[1905 rows x 10 columns]"
      ]
     },
     "execution_count": 303,
     "metadata": {},
     "output_type": "execute_result"
    }
   ],
   "source": [
    "varcharProcessing(X , varchar_process = \"dummy\")"
   ]
  },
  {
   "cell_type": "markdown",
   "metadata": {},
   "source": []
  },
  {
   "cell_type": "markdown",
   "metadata": {},
   "source": [
    "Now we can undo the previous changes:"
   ]
  },
  {
   "cell_type": "code",
   "execution_count": 304,
   "metadata": {},
   "outputs": [],
   "source": [
    "X['quality'] = X['quality'].astype(float) \n",
    "\n",
    "X['quality'] = X['quality'] - 2\n",
    "\n",
    "X['quality'] = X['quality'].astype('category') "
   ]
  },
  {
   "cell_type": "markdown",
   "metadata": {},
   "source": []
  },
  {
   "cell_type": "markdown",
   "metadata": {},
   "source": []
  },
  {
   "cell_type": "markdown",
   "metadata": {},
   "source": [
    "In the following algorithms we are going to use `statsmodels.api` instead of `statsmodels.formula.api` to implement the linear regression. So we have to take into account some particularities of  `statsmodels.api`"
   ]
  },
  {
   "cell_type": "markdown",
   "metadata": {},
   "source": [
    "One of the most important differences is that `statsmodels.api` doesn´t fit the intercept, while `statsmodels.formula.api` does.\n",
    "\n",
    "Another important difference is that `statsmodels.api` doesn't deal well with categorical predictors, while `statsmodels.formula.api` does."
   ]
  },
  {
   "cell_type": "code",
   "execution_count": 305,
   "metadata": {},
   "outputs": [],
   "source": [
    "import statsmodels.api as sm"
   ]
  },
  {
   "cell_type": "markdown",
   "metadata": {},
   "source": [
    "For example, the following model doesn't fit the intercept neither deal well the categorical predictor $quality$"
   ]
  },
  {
   "cell_type": "code",
   "execution_count": 306,
   "metadata": {},
   "outputs": [],
   "source": [
    "X = data_Python[['size_in_m_2', 'longitude', 'latitude', 'no_of_bedrooms', 'no_of_bathrooms', 'quality']]\n",
    "y = data_Python['price']"
   ]
  },
  {
   "cell_type": "code",
   "execution_count": 307,
   "metadata": {},
   "outputs": [
    {
     "name": "stdout",
     "output_type": "stream",
     "text": [
      "                                 OLS Regression Results                                \n",
      "=======================================================================================\n",
      "Dep. Variable:                  price   R-squared (uncentered):                   0.800\n",
      "Model:                            OLS   Adj. R-squared (uncentered):              0.799\n",
      "Method:                 Least Squares   F-statistic:                              1264.\n",
      "Date:               ma., 06 sep. 2022   Prob (F-statistic):                        0.00\n",
      "Time:                        11:35:12   Log-Likelihood:                         -29920.\n",
      "No. Observations:                1905   AIC:                                  5.985e+04\n",
      "Df Residuals:                    1899   BIC:                                  5.989e+04\n",
      "Df Model:                           6                                                  \n",
      "Covariance Type:            nonrobust                                                  \n",
      "===================================================================================\n",
      "                      coef    std err          t      P>|t|      [0.025      0.975]\n",
      "-----------------------------------------------------------------------------------\n",
      "size_in_m_2       3.56e+04    720.490     49.411      0.000    3.42e+04     3.7e+04\n",
      "longitude       -2.947e+06   3.46e+05     -8.508      0.000   -3.63e+06   -2.27e+06\n",
      "latitude         6.436e+06   7.62e+05      8.448      0.000    4.94e+06    7.93e+06\n",
      "no_of_bedrooms  -8.376e+05   8.28e+04    -10.114      0.000      -1e+06   -6.75e+05\n",
      "no_of_bathrooms -5.698e+04   6.81e+04     -0.837      0.403   -1.91e+05    7.66e+04\n",
      "quality          1.252e+05   5.25e+04      2.385      0.017    2.23e+04    2.28e+05\n",
      "==============================================================================\n",
      "Omnibus:                      781.264   Durbin-Watson:                   1.718\n",
      "Prob(Omnibus):                  0.000   Jarque-Bera (JB):            25505.131\n",
      "Skew:                           1.280   Prob(JB):                         0.00\n",
      "Kurtosis:                      20.742   Cond. No.                     3.73e+03\n",
      "==============================================================================\n",
      "\n",
      "Notes:\n",
      "[1] R² is computed without centering (uncentered) since the model does not contain a constant.\n",
      "[2] Standard Errors assume that the covariance matrix of the errors is correctly specified.\n",
      "[3] The condition number is large, 3.73e+03. This might indicate that there are\n",
      "strong multicollinearity or other numerical problems.\n"
     ]
    }
   ],
   "source": [
    "model = sm.OLS( y , X ).fit()\n",
    "\n",
    "print(model.summary())"
   ]
  },
  {
   "cell_type": "markdown",
   "metadata": {},
   "source": []
  },
  {
   "cell_type": "markdown",
   "metadata": {},
   "source": [
    "To fit the intercept and properly treat  categorical predictors with `statsmodels.api` we need to add the intercept and the dummy (binary) variables associated with the categorical predictors to $X$ as new predictors, and this can be done using `varcharProcessing `\n"
   ]
  },
  {
   "cell_type": "markdown",
   "metadata": {},
   "source": [
    "You can get more information about how categorical predictors must be deal in linear regression models in the following article: \n",
    "\n",
    "https://fabioscielzoortiz.github.io/Estadistica4all.github.io/Articulos/Linear%20Regression%20in%20Python%20and%20R.html\n"
   ]
  },
  {
   "cell_type": "markdown",
   "metadata": {},
   "source": []
  },
  {
   "cell_type": "code",
   "execution_count": 308,
   "metadata": {},
   "outputs": [],
   "source": [
    "X_new = varcharProcessing(X, varchar_process = \"dummy_dropfirst\")"
   ]
  },
  {
   "cell_type": "code",
   "execution_count": 309,
   "metadata": {},
   "outputs": [
    {
     "data": {
      "text/html": [
       "<div>\n",
       "<style scoped>\n",
       "    .dataframe tbody tr th:only-of-type {\n",
       "        vertical-align: middle;\n",
       "    }\n",
       "\n",
       "    .dataframe tbody tr th {\n",
       "        vertical-align: top;\n",
       "    }\n",
       "\n",
       "    .dataframe thead th {\n",
       "        text-align: right;\n",
       "    }\n",
       "</style>\n",
       "<table border=\"1\" class=\"dataframe\">\n",
       "  <thead>\n",
       "    <tr style=\"text-align: right;\">\n",
       "      <th></th>\n",
       "      <th>intercept</th>\n",
       "      <th>size_in_m_2</th>\n",
       "      <th>longitude</th>\n",
       "      <th>latitude</th>\n",
       "      <th>no_of_bedrooms</th>\n",
       "      <th>no_of_bathrooms</th>\n",
       "      <th>quality_1</th>\n",
       "      <th>quality_2</th>\n",
       "      <th>quality_3</th>\n",
       "    </tr>\n",
       "  </thead>\n",
       "  <tbody>\n",
       "    <tr>\n",
       "      <th>0</th>\n",
       "      <td>1</td>\n",
       "      <td>100.242337</td>\n",
       "      <td>55.138932</td>\n",
       "      <td>25.113208</td>\n",
       "      <td>1</td>\n",
       "      <td>2</td>\n",
       "      <td>1</td>\n",
       "      <td>0</td>\n",
       "      <td>0</td>\n",
       "    </tr>\n",
       "    <tr>\n",
       "      <th>1</th>\n",
       "      <td>1</td>\n",
       "      <td>146.972546</td>\n",
       "      <td>55.151201</td>\n",
       "      <td>25.106809</td>\n",
       "      <td>2</td>\n",
       "      <td>2</td>\n",
       "      <td>1</td>\n",
       "      <td>0</td>\n",
       "      <td>0</td>\n",
       "    </tr>\n",
       "    <tr>\n",
       "      <th>2</th>\n",
       "      <td>1</td>\n",
       "      <td>181.253753</td>\n",
       "      <td>55.137728</td>\n",
       "      <td>25.063302</td>\n",
       "      <td>3</td>\n",
       "      <td>5</td>\n",
       "      <td>1</td>\n",
       "      <td>0</td>\n",
       "      <td>0</td>\n",
       "    </tr>\n",
       "    <tr>\n",
       "      <th>3</th>\n",
       "      <td>1</td>\n",
       "      <td>187.664060</td>\n",
       "      <td>55.341761</td>\n",
       "      <td>25.227295</td>\n",
       "      <td>2</td>\n",
       "      <td>3</td>\n",
       "      <td>0</td>\n",
       "      <td>0</td>\n",
       "      <td>0</td>\n",
       "    </tr>\n",
       "    <tr>\n",
       "      <th>4</th>\n",
       "      <td>1</td>\n",
       "      <td>47.101821</td>\n",
       "      <td>55.139764</td>\n",
       "      <td>25.114275</td>\n",
       "      <td>0</td>\n",
       "      <td>1</td>\n",
       "      <td>1</td>\n",
       "      <td>0</td>\n",
       "      <td>0</td>\n",
       "    </tr>\n",
       "    <tr>\n",
       "      <th>...</th>\n",
       "      <td>...</td>\n",
       "      <td>...</td>\n",
       "      <td>...</td>\n",
       "      <td>...</td>\n",
       "      <td>...</td>\n",
       "      <td>...</td>\n",
       "      <td>...</td>\n",
       "      <td>...</td>\n",
       "      <td>...</td>\n",
       "    </tr>\n",
       "    <tr>\n",
       "      <th>1900</th>\n",
       "      <td>1</td>\n",
       "      <td>100.985561</td>\n",
       "      <td>55.310712</td>\n",
       "      <td>25.176892</td>\n",
       "      <td>2</td>\n",
       "      <td>2</td>\n",
       "      <td>0</td>\n",
       "      <td>0</td>\n",
       "      <td>1</td>\n",
       "    </tr>\n",
       "    <tr>\n",
       "      <th>1901</th>\n",
       "      <td>1</td>\n",
       "      <td>70.606280</td>\n",
       "      <td>55.276684</td>\n",
       "      <td>25.166145</td>\n",
       "      <td>1</td>\n",
       "      <td>2</td>\n",
       "      <td>1</td>\n",
       "      <td>0</td>\n",
       "      <td>0</td>\n",
       "    </tr>\n",
       "    <tr>\n",
       "      <th>1902</th>\n",
       "      <td>1</td>\n",
       "      <td>179.302790</td>\n",
       "      <td>55.345056</td>\n",
       "      <td>25.206500</td>\n",
       "      <td>3</td>\n",
       "      <td>5</td>\n",
       "      <td>1</td>\n",
       "      <td>0</td>\n",
       "      <td>0</td>\n",
       "    </tr>\n",
       "    <tr>\n",
       "      <th>1903</th>\n",
       "      <td>1</td>\n",
       "      <td>68.748220</td>\n",
       "      <td>55.229844</td>\n",
       "      <td>25.073858</td>\n",
       "      <td>1</td>\n",
       "      <td>2</td>\n",
       "      <td>1</td>\n",
       "      <td>0</td>\n",
       "      <td>0</td>\n",
       "    </tr>\n",
       "    <tr>\n",
       "      <th>1904</th>\n",
       "      <td>1</td>\n",
       "      <td>74.322400</td>\n",
       "      <td>55.154713</td>\n",
       "      <td>25.079130</td>\n",
       "      <td>1</td>\n",
       "      <td>2</td>\n",
       "      <td>0</td>\n",
       "      <td>1</td>\n",
       "      <td>0</td>\n",
       "    </tr>\n",
       "  </tbody>\n",
       "</table>\n",
       "<p>1905 rows × 9 columns</p>\n",
       "</div>"
      ],
      "text/plain": [
       "      intercept  size_in_m_2  longitude   latitude  no_of_bedrooms  \\\n",
       "0             1   100.242337  55.138932  25.113208               1   \n",
       "1             1   146.972546  55.151201  25.106809               2   \n",
       "2             1   181.253753  55.137728  25.063302               3   \n",
       "3             1   187.664060  55.341761  25.227295               2   \n",
       "4             1    47.101821  55.139764  25.114275               0   \n",
       "...         ...          ...        ...        ...             ...   \n",
       "1900          1   100.985561  55.310712  25.176892               2   \n",
       "1901          1    70.606280  55.276684  25.166145               1   \n",
       "1902          1   179.302790  55.345056  25.206500               3   \n",
       "1903          1    68.748220  55.229844  25.073858               1   \n",
       "1904          1    74.322400  55.154713  25.079130               1   \n",
       "\n",
       "      no_of_bathrooms  quality_1  quality_2  quality_3  \n",
       "0                   2          1          0          0  \n",
       "1                   2          1          0          0  \n",
       "2                   5          1          0          0  \n",
       "3                   3          0          0          0  \n",
       "4                   1          1          0          0  \n",
       "...               ...        ...        ...        ...  \n",
       "1900                2          0          0          1  \n",
       "1901                2          1          0          0  \n",
       "1902                5          1          0          0  \n",
       "1903                2          1          0          0  \n",
       "1904                2          0          1          0  \n",
       "\n",
       "[1905 rows x 9 columns]"
      ]
     },
     "execution_count": 309,
     "metadata": {},
     "output_type": "execute_result"
    }
   ],
   "source": [
    "X_new"
   ]
  },
  {
   "cell_type": "markdown",
   "metadata": {},
   "source": []
  },
  {
   "cell_type": "code",
   "execution_count": 310,
   "metadata": {},
   "outputs": [
    {
     "name": "stdout",
     "output_type": "stream",
     "text": [
      "                            OLS Regression Results                            \n",
      "==============================================================================\n",
      "Dep. Variable:                  price   R-squared:                       0.698\n",
      "Model:                            OLS   Adj. R-squared:                  0.697\n",
      "Method:                 Least Squares   F-statistic:                     547.4\n",
      "Date:               ma., 06 sep. 2022   Prob (F-statistic):               0.00\n",
      "Time:                        11:35:13   Log-Likelihood:                -29918.\n",
      "No. Observations:                1905   AIC:                         5.985e+04\n",
      "Df Residuals:                    1896   BIC:                         5.990e+04\n",
      "Df Model:                           8                                         \n",
      "Covariance Type:            nonrobust                                         \n",
      "===================================================================================\n",
      "                      coef    std err          t      P>|t|      [0.025      0.975]\n",
      "-----------------------------------------------------------------------------------\n",
      "intercept       -6.207e+07   2.99e+07     -2.073      0.038   -1.21e+08   -3.34e+06\n",
      "size_in_m_2      3.566e+04    723.831     49.271      0.000    3.42e+04    3.71e+04\n",
      "longitude       -1.677e+06   6.91e+05     -2.428      0.015   -3.03e+06   -3.22e+05\n",
      "latitude         6.115e+06   7.81e+05      7.830      0.000    4.58e+06    7.65e+06\n",
      "no_of_bedrooms  -8.367e+05   8.28e+04    -10.102      0.000   -9.99e+05   -6.74e+05\n",
      "no_of_bathrooms -5.712e+04   6.83e+04     -0.836      0.403   -1.91e+05    7.68e+04\n",
      "quality_1          1.4e+05   8.36e+04      1.675      0.094   -2.39e+04    3.04e+05\n",
      "quality_2        3.406e+05   1.55e+05      2.196      0.028    3.63e+04    6.45e+05\n",
      "quality_3        2.788e+05   1.98e+05      1.410      0.159   -1.09e+05    6.66e+05\n",
      "==============================================================================\n",
      "Omnibus:                      779.851   Durbin-Watson:                   1.716\n",
      "Prob(Omnibus):                  0.000   Jarque-Bera (JB):            25742.187\n",
      "Skew:                           1.273   Prob(JB):                         0.00\n",
      "Kurtosis:                      20.828   Cond. No.                     1.34e+05\n",
      "==============================================================================\n",
      "\n",
      "Notes:\n",
      "[1] Standard Errors assume that the covariance matrix of the errors is correctly specified.\n",
      "[2] The condition number is large, 1.34e+05. This might indicate that there are\n",
      "strong multicollinearity or other numerical problems.\n"
     ]
    }
   ],
   "source": [
    "model = sm.OLS(y , X_new ).fit()\n",
    "\n",
    "print(model.summary())"
   ]
  },
  {
   "cell_type": "markdown",
   "metadata": {},
   "source": []
  },
  {
   "cell_type": "markdown",
   "metadata": {},
   "source": [
    "To build the best subset selection algorithm, we have to explore all possible combinations of predictors, for $1,2,3,...,p \\hspace{0.1cm}$ predictors .\n",
    "\n",
    "This task is very complex, but luckily in Python we have the `itertools` package which has iteration tools to help us."
   ]
  },
  {
   "cell_type": "code",
   "execution_count": 311,
   "metadata": {},
   "outputs": [],
   "source": [
    "# pip install tqdm"
   ]
  },
  {
   "cell_type": "code",
   "execution_count": 312,
   "metadata": {},
   "outputs": [],
   "source": [
    "import itertools\n",
    "\n",
    "from tqdm import tnrange"
   ]
  },
  {
   "cell_type": "markdown",
   "metadata": {},
   "source": [
    "Let's see how `itertools.combinations` works:"
   ]
  },
  {
   "cell_type": "code",
   "execution_count": 313,
   "metadata": {},
   "outputs": [],
   "source": [
    "# pip install ipywidgets"
   ]
  },
  {
   "cell_type": "code",
   "execution_count": 314,
   "metadata": {},
   "outputs": [
    {
     "data": {
      "application/vnd.jupyter.widget-view+json": {
       "model_id": "e331db036e1c487e8f8d7cfcdeb25884",
       "version_major": 2,
       "version_minor": 0
      },
      "text/plain": [
       "Loop...:   0%|          | 0/6 [00:00<?, ?it/s]"
      ]
     },
     "metadata": {},
     "output_type": "display_data"
    },
    {
     "name": "stdout",
     "output_type": "stream",
     "text": [
      "('size_in_m_2',)\n",
      "('longitude',)\n",
      "('latitude',)\n",
      "('no_of_bedrooms',)\n",
      "('no_of_bathrooms',)\n",
      "('quality',)\n",
      "('size_in_m_2', 'longitude')\n",
      "('size_in_m_2', 'latitude')\n",
      "('size_in_m_2', 'no_of_bedrooms')\n",
      "('size_in_m_2', 'no_of_bathrooms')\n",
      "('size_in_m_2', 'quality')\n",
      "('longitude', 'latitude')\n",
      "('longitude', 'no_of_bedrooms')\n",
      "('longitude', 'no_of_bathrooms')\n",
      "('longitude', 'quality')\n",
      "('latitude', 'no_of_bedrooms')\n",
      "('latitude', 'no_of_bathrooms')\n",
      "('latitude', 'quality')\n",
      "('no_of_bedrooms', 'no_of_bathrooms')\n",
      "('no_of_bedrooms', 'quality')\n",
      "('no_of_bathrooms', 'quality')\n",
      "('size_in_m_2', 'longitude', 'latitude')\n",
      "('size_in_m_2', 'longitude', 'no_of_bedrooms')\n",
      "('size_in_m_2', 'longitude', 'no_of_bathrooms')\n",
      "('size_in_m_2', 'longitude', 'quality')\n",
      "('size_in_m_2', 'latitude', 'no_of_bedrooms')\n",
      "('size_in_m_2', 'latitude', 'no_of_bathrooms')\n",
      "('size_in_m_2', 'latitude', 'quality')\n",
      "('size_in_m_2', 'no_of_bedrooms', 'no_of_bathrooms')\n",
      "('size_in_m_2', 'no_of_bedrooms', 'quality')\n",
      "('size_in_m_2', 'no_of_bathrooms', 'quality')\n",
      "('longitude', 'latitude', 'no_of_bedrooms')\n",
      "('longitude', 'latitude', 'no_of_bathrooms')\n",
      "('longitude', 'latitude', 'quality')\n",
      "('longitude', 'no_of_bedrooms', 'no_of_bathrooms')\n",
      "('longitude', 'no_of_bedrooms', 'quality')\n",
      "('longitude', 'no_of_bathrooms', 'quality')\n",
      "('latitude', 'no_of_bedrooms', 'no_of_bathrooms')\n",
      "('latitude', 'no_of_bedrooms', 'quality')\n",
      "('latitude', 'no_of_bathrooms', 'quality')\n",
      "('no_of_bedrooms', 'no_of_bathrooms', 'quality')\n",
      "('size_in_m_2', 'longitude', 'latitude', 'no_of_bedrooms')\n",
      "('size_in_m_2', 'longitude', 'latitude', 'no_of_bathrooms')\n",
      "('size_in_m_2', 'longitude', 'latitude', 'quality')\n",
      "('size_in_m_2', 'longitude', 'no_of_bedrooms', 'no_of_bathrooms')\n",
      "('size_in_m_2', 'longitude', 'no_of_bedrooms', 'quality')\n",
      "('size_in_m_2', 'longitude', 'no_of_bathrooms', 'quality')\n",
      "('size_in_m_2', 'latitude', 'no_of_bedrooms', 'no_of_bathrooms')\n",
      "('size_in_m_2', 'latitude', 'no_of_bedrooms', 'quality')\n",
      "('size_in_m_2', 'latitude', 'no_of_bathrooms', 'quality')\n",
      "('size_in_m_2', 'no_of_bedrooms', 'no_of_bathrooms', 'quality')\n",
      "('longitude', 'latitude', 'no_of_bedrooms', 'no_of_bathrooms')\n",
      "('longitude', 'latitude', 'no_of_bedrooms', 'quality')\n",
      "('longitude', 'latitude', 'no_of_bathrooms', 'quality')\n",
      "('longitude', 'no_of_bedrooms', 'no_of_bathrooms', 'quality')\n",
      "('latitude', 'no_of_bedrooms', 'no_of_bathrooms', 'quality')\n",
      "('size_in_m_2', 'longitude', 'latitude', 'no_of_bedrooms', 'no_of_bathrooms')\n",
      "('size_in_m_2', 'longitude', 'latitude', 'no_of_bedrooms', 'quality')\n",
      "('size_in_m_2', 'longitude', 'latitude', 'no_of_bathrooms', 'quality')\n",
      "('size_in_m_2', 'longitude', 'no_of_bedrooms', 'no_of_bathrooms', 'quality')\n",
      "('size_in_m_2', 'latitude', 'no_of_bedrooms', 'no_of_bathrooms', 'quality')\n",
      "('longitude', 'latitude', 'no_of_bedrooms', 'no_of_bathrooms', 'quality')\n",
      "('size_in_m_2', 'longitude', 'latitude', 'no_of_bedrooms', 'no_of_bathrooms', 'quality')\n"
     ]
    }
   ],
   "source": [
    "for k in tnrange( 1, len(X.columns) + 1, desc = 'Loop...'):\n",
    "\n",
    "    for combo in itertools.combinations(X.columns , k): \n",
    "\n",
    "        print(combo)\n",
    "\n",
    "# itertools.combinations(X.columns , k) generate all the possible combinations with k columns of X (predictors)"
   ]
  },
  {
   "cell_type": "markdown",
   "metadata": {},
   "source": []
  },
  {
   "cell_type": "markdown",
   "metadata": {},
   "source": [
    "`itertools.combinations(X.columns , k)` generate all the possible combinations with $k$ columns of $X$ (`X.columns`), and $k$ goes from $1$ to the number of columns of $X$"
   ]
  },
  {
   "cell_type": "markdown",
   "metadata": {},
   "source": []
  },
  {
   "cell_type": "markdown",
   "metadata": {},
   "source": [
    "We are going to develop the Best Subset Selection algorithm in `Python` :"
   ]
  },
  {
   "cell_type": "code",
   "execution_count": 318,
   "metadata": {},
   "outputs": [],
   "source": [
    "def BestSubset (X , y,  varchar_process=\"dummy_dropfirst\", criteria=\"AIC\"):\n",
    "\n",
    "    X =  varcharProcessing(X, varchar_process = varchar_process)\n",
    " \n",
    "\n",
    "    AIC, BIC , ADJ_R2 , TRAIN_ERROR_MSE = [],[],[],[]\n",
    "    \n",
    "    predictor_list = []\n",
    "    num_predictor = []\n",
    "\n",
    "    cols = X.columns[1:len(X.columns)] # We are not selecting the intercept\n",
    "\n",
    "\n",
    "######################################################################################################################################################\n",
    "\n",
    "   # Null Model:\n",
    "\n",
    "    model = sm.OLS(y, X[ ['intercept'] ] ).fit()\n",
    "\n",
    "    TRAIN_ERROR_MSE.append( ( (y - model.predict( X['intercept'] ))**2 ).mean()  )\n",
    "    AIC.append(model.aic)\n",
    "    BIC.append(model.bic)\n",
    "    ADJ_R2.append(model.rsquared_adj)\n",
    "\n",
    "    predictor_list.append(['intercept'] )\n",
    "    num_predictor.append(len(['intercept'] )) \n",
    "\n",
    "######################################################################################################################################################\n",
    "\n",
    "  # All possible models:\n",
    "\n",
    "    #Looping over  1 to p predictors in X\n",
    "    for k in tnrange(1, len(cols) + 1, desc = 'Loop...'):\n",
    "\n",
    "        #Looping over all possible combinations: from p choose k\n",
    "        for combo in itertools.combinations(cols , k):\n",
    "\n",
    "            model = sm.OLS(y, X[ ['intercept'] + list(combo) ] ).fit()\n",
    "\n",
    "            TRAIN_ERROR_MSE.append( ( (y - model.predict(X[  ['intercept'] + list(combo) ]))**2 ).mean()  )\n",
    "            AIC.append(model.aic)\n",
    "            BIC.append(model.bic)\n",
    "            ADJ_R2.append(model.rsquared_adj)\n",
    "\n",
    "            predictor_list.append(['intercept'] + list(combo))\n",
    "            num_predictor.append(len(['intercept'] + list(combo)))   \n",
    "\n",
    "######################################################################################################################################################\n",
    "\n",
    "  #Store in DataFrame:\n",
    "\n",
    "    Models = pd.DataFrame({\"num_predictors\": num_predictor, \"model\":predictor_list, \"train_errors_MSE\":TRAIN_ERROR_MSE, \"AIC\": AIC, \"BIC\":BIC,  \"ADJ_R2\":ADJ_R2})\n",
    "\n",
    "    if (criteria == \"AIC\"):\n",
    "\n",
    "        Models = Models.sort_values(by=[\"AIC\"]).reset_index(drop=False)\n",
    "\n",
    "        Final_Model = sm.OLS(y, X[ Models[\"model\"][0] ]).fit() \n",
    "        \n",
    "    elif (criteria == \"BIC\"):\n",
    "\n",
    "        Models = Models.sort_values(by=[\"BIC\"]).reset_index(drop=False)\n",
    "\n",
    "        Final_Model = sm.OLS(y, X[ Models[\"model\"][0] ]).fit() \n",
    "\n",
    "    elif (criteria == \"ADJ_R2\"):\n",
    "\n",
    "        Models = Models.sort_values(by=[\"ADJ_R2\"], ascending=False).reset_index(drop=False)\n",
    "                  \n",
    "        Final_Model = sm.OLS(y, X[ Models[\"model\"][0] ]).fit() \n",
    "\n",
    "    elif (criteria == \"TRAIN_ERROR_MSE\"):\n",
    "\n",
    "        Models = Models.sort_values(by=[\"TRAIN_ERROR_MSE\"]).reset_index(drop=False)\n",
    "                  \n",
    "        Final_Model = sm.OLS(y, X[ Models[\"model\"][0] ]).fit()\n",
    "    \n",
    "    elif ( criteria == \"none\"):\n",
    "\n",
    "        Final_Model = \"not compute, use some criteria (AIC, BIC, Adj.R2 or train_error_MSE)\"\n",
    "    \n",
    "\n",
    "    return Models , Final_Model"
   ]
  },
  {
   "cell_type": "markdown",
   "metadata": {},
   "source": []
  },
  {
   "cell_type": "markdown",
   "metadata": {},
   "source": [
    "Let's check how the function `BestSubset` works :"
   ]
  },
  {
   "cell_type": "code",
   "execution_count": 319,
   "metadata": {},
   "outputs": [
    {
     "data": {
      "application/vnd.jupyter.widget-view+json": {
       "model_id": "e28b536f4b0d4ff19dff7fe527652713",
       "version_major": 2,
       "version_minor": 0
      },
      "text/plain": [
       "Loop...:   0%|          | 0/8 [00:00<?, ?it/s]"
      ]
     },
     "metadata": {},
     "output_type": "display_data"
    }
   ],
   "source": [
    "Models , Final_Model = BestSubset (X , y, varchar_process=\"dummy_dropfirst\", criteria=\"AIC\")"
   ]
  },
  {
   "cell_type": "code",
   "execution_count": 320,
   "metadata": {},
   "outputs": [
    {
     "data": {
      "text/html": [
       "<div>\n",
       "<style scoped>\n",
       "    .dataframe tbody tr th:only-of-type {\n",
       "        vertical-align: middle;\n",
       "    }\n",
       "\n",
       "    .dataframe tbody tr th {\n",
       "        vertical-align: top;\n",
       "    }\n",
       "\n",
       "    .dataframe thead th {\n",
       "        text-align: right;\n",
       "    }\n",
       "</style>\n",
       "<table border=\"1\" class=\"dataframe\">\n",
       "  <thead>\n",
       "    <tr style=\"text-align: right;\">\n",
       "      <th></th>\n",
       "      <th>index</th>\n",
       "      <th>num_predictors</th>\n",
       "      <th>model</th>\n",
       "      <th>train_errors_MSE</th>\n",
       "      <th>AIC</th>\n",
       "      <th>BIC</th>\n",
       "      <th>ADJ_R2</th>\n",
       "    </tr>\n",
       "  </thead>\n",
       "  <tbody>\n",
       "    <tr>\n",
       "      <th>0</th>\n",
       "      <td>165</td>\n",
       "      <td>6</td>\n",
       "      <td>[intercept, size_in_m_2, longitude, latitude, ...</td>\n",
       "      <td>2.568593e+12</td>\n",
       "      <td>59852.348316</td>\n",
       "      <td>59885.661739</td>\n",
       "      <td>6.963840e-01</td>\n",
       "    </tr>\n",
       "    <tr>\n",
       "      <th>1</th>\n",
       "      <td>222</td>\n",
       "      <td>7</td>\n",
       "      <td>[intercept, size_in_m_2, longitude, latitude, ...</td>\n",
       "      <td>2.566132e+12</td>\n",
       "      <td>59852.522224</td>\n",
       "      <td>59891.387885</td>\n",
       "      <td>6.965151e-01</td>\n",
       "    </tr>\n",
       "    <tr>\n",
       "      <th>2</th>\n",
       "      <td>250</td>\n",
       "      <td>8</td>\n",
       "      <td>[intercept, size_in_m_2, longitude, latitude, ...</td>\n",
       "      <td>2.563718e+12</td>\n",
       "      <td>59852.729811</td>\n",
       "      <td>59897.147709</td>\n",
       "      <td>6.966407e-01</td>\n",
       "    </tr>\n",
       "    <tr>\n",
       "      <th>3</th>\n",
       "      <td>93</td>\n",
       "      <td>5</td>\n",
       "      <td>[intercept, size_in_m_2, longitude, latitude, ...</td>\n",
       "      <td>2.572226e+12</td>\n",
       "      <td>59853.041370</td>\n",
       "      <td>59880.802556</td>\n",
       "      <td>6.961145e-01</td>\n",
       "    </tr>\n",
       "    <tr>\n",
       "      <th>4</th>\n",
       "      <td>224</td>\n",
       "      <td>7</td>\n",
       "      <td>[intercept, size_in_m_2, longitude, latitude, ...</td>\n",
       "      <td>2.567521e+12</td>\n",
       "      <td>59853.553086</td>\n",
       "      <td>59892.418747</td>\n",
       "      <td>6.963508e-01</td>\n",
       "    </tr>\n",
       "    <tr>\n",
       "      <th>...</th>\n",
       "      <td>...</td>\n",
       "      <td>...</td>\n",
       "      <td>...</td>\n",
       "      <td>...</td>\n",
       "      <td>...</td>\n",
       "      <td>...</td>\n",
       "      <td>...</td>\n",
       "    </tr>\n",
       "    <tr>\n",
       "      <th>251</th>\n",
       "      <td>20</td>\n",
       "      <td>3</td>\n",
       "      <td>[intercept, longitude, quality_2]</td>\n",
       "      <td>8.452975e+12</td>\n",
       "      <td>62115.508593</td>\n",
       "      <td>62132.165305</td>\n",
       "      <td>2.406893e-03</td>\n",
       "    </tr>\n",
       "    <tr>\n",
       "      <th>252</th>\n",
       "      <td>6</td>\n",
       "      <td>2</td>\n",
       "      <td>[intercept, quality_1]</td>\n",
       "      <td>8.472054e+12</td>\n",
       "      <td>62117.803515</td>\n",
       "      <td>62128.907990</td>\n",
       "      <td>6.806342e-04</td>\n",
       "    </tr>\n",
       "    <tr>\n",
       "      <th>253</th>\n",
       "      <td>0</td>\n",
       "      <td>1</td>\n",
       "      <td>[intercept]</td>\n",
       "      <td>8.482279e+12</td>\n",
       "      <td>62118.101353</td>\n",
       "      <td>62123.653590</td>\n",
       "      <td>-2.220446e-16</td>\n",
       "    </tr>\n",
       "    <tr>\n",
       "      <th>254</th>\n",
       "      <td>19</td>\n",
       "      <td>3</td>\n",
       "      <td>[intercept, longitude, quality_1]</td>\n",
       "      <td>8.470115e+12</td>\n",
       "      <td>62119.367625</td>\n",
       "      <td>62136.024336</td>\n",
       "      <td>3.839818e-04</td>\n",
       "    </tr>\n",
       "    <tr>\n",
       "      <th>255</th>\n",
       "      <td>2</td>\n",
       "      <td>2</td>\n",
       "      <td>[intercept, longitude]</td>\n",
       "      <td>8.480269e+12</td>\n",
       "      <td>62119.649822</td>\n",
       "      <td>62130.754297</td>\n",
       "      <td>-2.883659e-04</td>\n",
       "    </tr>\n",
       "  </tbody>\n",
       "</table>\n",
       "<p>256 rows × 7 columns</p>\n",
       "</div>"
      ],
      "text/plain": [
       "     index  num_predictors                                              model  \\\n",
       "0      165               6  [intercept, size_in_m_2, longitude, latitude, ...   \n",
       "1      222               7  [intercept, size_in_m_2, longitude, latitude, ...   \n",
       "2      250               8  [intercept, size_in_m_2, longitude, latitude, ...   \n",
       "3       93               5  [intercept, size_in_m_2, longitude, latitude, ...   \n",
       "4      224               7  [intercept, size_in_m_2, longitude, latitude, ...   \n",
       "..     ...             ...                                                ...   \n",
       "251     20               3                  [intercept, longitude, quality_2]   \n",
       "252      6               2                             [intercept, quality_1]   \n",
       "253      0               1                                        [intercept]   \n",
       "254     19               3                  [intercept, longitude, quality_1]   \n",
       "255      2               2                             [intercept, longitude]   \n",
       "\n",
       "     train_errors_MSE           AIC           BIC        ADJ_R2  \n",
       "0        2.568593e+12  59852.348316  59885.661739  6.963840e-01  \n",
       "1        2.566132e+12  59852.522224  59891.387885  6.965151e-01  \n",
       "2        2.563718e+12  59852.729811  59897.147709  6.966407e-01  \n",
       "3        2.572226e+12  59853.041370  59880.802556  6.961145e-01  \n",
       "4        2.567521e+12  59853.553086  59892.418747  6.963508e-01  \n",
       "..                ...           ...           ...           ...  \n",
       "251      8.452975e+12  62115.508593  62132.165305  2.406893e-03  \n",
       "252      8.472054e+12  62117.803515  62128.907990  6.806342e-04  \n",
       "253      8.482279e+12  62118.101353  62123.653590 -2.220446e-16  \n",
       "254      8.470115e+12  62119.367625  62136.024336  3.839818e-04  \n",
       "255      8.480269e+12  62119.649822  62130.754297 -2.883659e-04  \n",
       "\n",
       "[256 rows x 7 columns]"
      ]
     },
     "execution_count": 320,
     "metadata": {},
     "output_type": "execute_result"
    }
   ],
   "source": [
    "Models"
   ]
  },
  {
   "cell_type": "code",
   "execution_count": 321,
   "metadata": {},
   "outputs": [
    {
     "data": {
      "text/html": [
       "<table border=\"1\" class=\"dataframe table table-striped\">\n",
       "  <thead>\n",
       "    <tr style=\"text-align: right;\">\n",
       "      <th></th>\n",
       "      <th>index</th>\n",
       "      <th>num_predictors</th>\n",
       "      <th>model</th>\n",
       "      <th>train_errors_MSE</th>\n",
       "      <th>AIC</th>\n",
       "      <th>BIC</th>\n",
       "      <th>ADJ_R2</th>\n",
       "    </tr>\n",
       "  </thead>\n",
       "  <tbody>\n",
       "    <tr>\n",
       "      <th>0</th>\n",
       "      <td>165</td>\n",
       "      <td>6</td>\n",
       "      <td>[intercept, size_in_m_2, longitude, latitude, no_of_bedrooms, quality_2]</td>\n",
       "      <td>2.568593e+12</td>\n",
       "      <td>59852.348316</td>\n",
       "      <td>59885.661739</td>\n",
       "      <td>0.696384</td>\n",
       "    </tr>\n",
       "    <tr>\n",
       "      <th>1</th>\n",
       "      <td>222</td>\n",
       "      <td>7</td>\n",
       "      <td>[intercept, size_in_m_2, longitude, latitude, no_of_bedrooms, quality_1, quality_2]</td>\n",
       "      <td>2.566132e+12</td>\n",
       "      <td>59852.522224</td>\n",
       "      <td>59891.387885</td>\n",
       "      <td>0.696515</td>\n",
       "    </tr>\n",
       "    <tr>\n",
       "      <th>2</th>\n",
       "      <td>250</td>\n",
       "      <td>8</td>\n",
       "      <td>[intercept, size_in_m_2, longitude, latitude, no_of_bedrooms, quality_1, quality_2, quality_3]</td>\n",
       "      <td>2.563718e+12</td>\n",
       "      <td>59852.729811</td>\n",
       "      <td>59897.147709</td>\n",
       "      <td>0.696641</td>\n",
       "    </tr>\n",
       "    <tr>\n",
       "      <th>3</th>\n",
       "      <td>93</td>\n",
       "      <td>5</td>\n",
       "      <td>[intercept, size_in_m_2, longitude, latitude, no_of_bedrooms]</td>\n",
       "      <td>2.572226e+12</td>\n",
       "      <td>59853.041370</td>\n",
       "      <td>59880.802556</td>\n",
       "      <td>0.696114</td>\n",
       "    </tr>\n",
       "    <tr>\n",
       "      <th>4</th>\n",
       "      <td>224</td>\n",
       "      <td>7</td>\n",
       "      <td>[intercept, size_in_m_2, longitude, latitude, no_of_bedrooms, quality_2, quality_3]</td>\n",
       "      <td>2.567521e+12</td>\n",
       "      <td>59853.553086</td>\n",
       "      <td>59892.418747</td>\n",
       "      <td>0.696351</td>\n",
       "    </tr>\n",
       "    <tr>\n",
       "      <th>5</th>\n",
       "      <td>220</td>\n",
       "      <td>7</td>\n",
       "      <td>[intercept, size_in_m_2, longitude, latitude, no_of_bedrooms, no_of_bathrooms, quality_2]</td>\n",
       "      <td>2.567841e+12</td>\n",
       "      <td>59853.790633</td>\n",
       "      <td>59892.656294</td>\n",
       "      <td>0.696313</td>\n",
       "    </tr>\n",
       "    <tr>\n",
       "      <th>6</th>\n",
       "      <td>247</td>\n",
       "      <td>8</td>\n",
       "      <td>[intercept, size_in_m_2, longitude, latitude, no_of_bedrooms, no_of_bathrooms, quality_1, quality_2]</td>\n",
       "      <td>2.565462e+12</td>\n",
       "      <td>59854.024862</td>\n",
       "      <td>59898.442760</td>\n",
       "      <td>0.696434</td>\n",
       "    </tr>\n",
       "  </tbody>\n",
       "</table>"
      ],
      "text/plain": [
       "<IPython.core.display.HTML object>"
      ]
     },
     "execution_count": 321,
     "metadata": {},
     "output_type": "execute_result"
    }
   ],
   "source": [
    "from IPython.display import HTML \n",
    "\n",
    "HTML(Models[0:7].to_html(classes='table table-striped'))"
   ]
  },
  {
   "cell_type": "markdown",
   "metadata": {},
   "source": []
  },
  {
   "cell_type": "markdown",
   "metadata": {},
   "source": [
    "So, the linear regression model selected with ***best subset*** algorithm and the $AIC$ criteria is saved in  `Final_Model`, and it is:\n",
    "\n",
    "$price = intercept + size\\_in\\_m\\_2 + longitude + latitude + no\\_of\\_bedrooms + quality\\_2$"
   ]
  },
  {
   "cell_type": "code",
   "execution_count": 322,
   "metadata": {},
   "outputs": [
    {
     "name": "stdout",
     "output_type": "stream",
     "text": [
      "                            OLS Regression Results                            \n",
      "==============================================================================\n",
      "Dep. Variable:                  price   R-squared:                       0.697\n",
      "Model:                            OLS   Adj. R-squared:                  0.696\n",
      "Method:                 Least Squares   F-statistic:                     874.4\n",
      "Date:               ma., 06 sep. 2022   Prob (F-statistic):               0.00\n",
      "Time:                        11:35:25   Log-Likelihood:                -29920.\n",
      "No. Observations:                1905   AIC:                         5.985e+04\n",
      "Df Residuals:                    1899   BIC:                         5.989e+04\n",
      "Df Model:                           5                                         \n",
      "Covariance Type:            nonrobust                                         \n",
      "==================================================================================\n",
      "                     coef    std err          t      P>|t|      [0.025      0.975]\n",
      "----------------------------------------------------------------------------------\n",
      "intercept      -6.098e+07   2.99e+07     -2.037      0.042    -1.2e+08   -2.26e+06\n",
      "size_in_m_2     3.553e+04    709.611     50.072      0.000    3.41e+04    3.69e+04\n",
      "longitude        -1.6e+06   6.85e+05     -2.336      0.020   -2.94e+06   -2.57e+05\n",
      "latitude        5.904e+06   7.58e+05      7.787      0.000    4.42e+06    7.39e+06\n",
      "no_of_bedrooms -8.811e+05   6.13e+04    -14.362      0.000      -1e+06   -7.61e+05\n",
      "quality_2       2.362e+05   1.44e+05      1.639      0.101   -4.64e+04    5.19e+05\n",
      "==============================================================================\n",
      "Omnibus:                      777.615   Durbin-Watson:                   1.716\n",
      "Prob(Omnibus):                  0.000   Jarque-Bera (JB):            25332.769\n",
      "Skew:                           1.271   Prob(JB):                         0.00\n",
      "Kurtosis:                      20.683   Cond. No.                     1.34e+05\n",
      "==============================================================================\n",
      "\n",
      "Notes:\n",
      "[1] Standard Errors assume that the covariance matrix of the errors is correctly specified.\n",
      "[2] The condition number is large, 1.34e+05. This might indicate that there are\n",
      "strong multicollinearity or other numerical problems.\n"
     ]
    }
   ],
   "source": [
    "print(Final_Model.summary())"
   ]
  },
  {
   "cell_type": "markdown",
   "metadata": {},
   "source": []
  },
  {
   "cell_type": "markdown",
   "metadata": {},
   "source": [
    "Let us now try another criteria, for example $\\widehat{R}^2$"
   ]
  },
  {
   "cell_type": "code",
   "execution_count": 323,
   "metadata": {},
   "outputs": [
    {
     "data": {
      "application/vnd.jupyter.widget-view+json": {
       "model_id": "e0cca27648794b59be053b78df0b6bb2",
       "version_major": 2,
       "version_minor": 0
      },
      "text/plain": [
       "Loop...:   0%|          | 0/8 [00:00<?, ?it/s]"
      ]
     },
     "metadata": {},
     "output_type": "display_data"
    }
   ],
   "source": [
    "Models , Final_Model = BestSubset (X , y, varchar_process=\"dummy_dropfirst\", criteria=\"ADJ_R2\")"
   ]
  },
  {
   "cell_type": "code",
   "execution_count": 324,
   "metadata": {},
   "outputs": [
    {
     "data": {
      "text/html": [
       "<div>\n",
       "<style scoped>\n",
       "    .dataframe tbody tr th:only-of-type {\n",
       "        vertical-align: middle;\n",
       "    }\n",
       "\n",
       "    .dataframe tbody tr th {\n",
       "        vertical-align: top;\n",
       "    }\n",
       "\n",
       "    .dataframe thead th {\n",
       "        text-align: right;\n",
       "    }\n",
       "</style>\n",
       "<table border=\"1\" class=\"dataframe\">\n",
       "  <thead>\n",
       "    <tr style=\"text-align: right;\">\n",
       "      <th></th>\n",
       "      <th>index</th>\n",
       "      <th>num_predictors</th>\n",
       "      <th>model</th>\n",
       "      <th>train_errors_MSE</th>\n",
       "      <th>AIC</th>\n",
       "      <th>BIC</th>\n",
       "      <th>ADJ_R2</th>\n",
       "    </tr>\n",
       "  </thead>\n",
       "  <tbody>\n",
       "    <tr>\n",
       "      <th>0</th>\n",
       "      <td>250</td>\n",
       "      <td>8</td>\n",
       "      <td>[intercept, size_in_m_2, longitude, latitude, ...</td>\n",
       "      <td>2.563718e+12</td>\n",
       "      <td>59852.729811</td>\n",
       "      <td>59897.147709</td>\n",
       "      <td>6.966407e-01</td>\n",
       "    </tr>\n",
       "    <tr>\n",
       "      <th>1</th>\n",
       "      <td>255</td>\n",
       "      <td>9</td>\n",
       "      <td>[intercept, size_in_m_2, longitude, latitude, ...</td>\n",
       "      <td>2.562773e+12</td>\n",
       "      <td>59854.027050</td>\n",
       "      <td>59903.997186</td>\n",
       "      <td>6.965926e-01</td>\n",
       "    </tr>\n",
       "    <tr>\n",
       "      <th>2</th>\n",
       "      <td>222</td>\n",
       "      <td>7</td>\n",
       "      <td>[intercept, size_in_m_2, longitude, latitude, ...</td>\n",
       "      <td>2.566132e+12</td>\n",
       "      <td>59852.522224</td>\n",
       "      <td>59891.387885</td>\n",
       "      <td>6.965151e-01</td>\n",
       "    </tr>\n",
       "    <tr>\n",
       "      <th>3</th>\n",
       "      <td>247</td>\n",
       "      <td>8</td>\n",
       "      <td>[intercept, size_in_m_2, longitude, latitude, ...</td>\n",
       "      <td>2.565462e+12</td>\n",
       "      <td>59854.024862</td>\n",
       "      <td>59898.442760</td>\n",
       "      <td>6.964344e-01</td>\n",
       "    </tr>\n",
       "    <tr>\n",
       "      <th>4</th>\n",
       "      <td>165</td>\n",
       "      <td>6</td>\n",
       "      <td>[intercept, size_in_m_2, longitude, latitude, ...</td>\n",
       "      <td>2.568593e+12</td>\n",
       "      <td>59852.348316</td>\n",
       "      <td>59885.661739</td>\n",
       "      <td>6.963840e-01</td>\n",
       "    </tr>\n",
       "    <tr>\n",
       "      <th>...</th>\n",
       "      <td>...</td>\n",
       "      <td>...</td>\n",
       "      <td>...</td>\n",
       "      <td>...</td>\n",
       "      <td>...</td>\n",
       "      <td>...</td>\n",
       "      <td>...</td>\n",
       "    </tr>\n",
       "    <tr>\n",
       "      <th>251</th>\n",
       "      <td>20</td>\n",
       "      <td>3</td>\n",
       "      <td>[intercept, longitude, quality_2]</td>\n",
       "      <td>8.452975e+12</td>\n",
       "      <td>62115.508593</td>\n",
       "      <td>62132.165305</td>\n",
       "      <td>2.406893e-03</td>\n",
       "    </tr>\n",
       "    <tr>\n",
       "      <th>252</th>\n",
       "      <td>6</td>\n",
       "      <td>2</td>\n",
       "      <td>[intercept, quality_1]</td>\n",
       "      <td>8.472054e+12</td>\n",
       "      <td>62117.803515</td>\n",
       "      <td>62128.907990</td>\n",
       "      <td>6.806342e-04</td>\n",
       "    </tr>\n",
       "    <tr>\n",
       "      <th>253</th>\n",
       "      <td>19</td>\n",
       "      <td>3</td>\n",
       "      <td>[intercept, longitude, quality_1]</td>\n",
       "      <td>8.470115e+12</td>\n",
       "      <td>62119.367625</td>\n",
       "      <td>62136.024336</td>\n",
       "      <td>3.839818e-04</td>\n",
       "    </tr>\n",
       "    <tr>\n",
       "      <th>254</th>\n",
       "      <td>0</td>\n",
       "      <td>1</td>\n",
       "      <td>[intercept]</td>\n",
       "      <td>8.482279e+12</td>\n",
       "      <td>62118.101353</td>\n",
       "      <td>62123.653590</td>\n",
       "      <td>-2.220446e-16</td>\n",
       "    </tr>\n",
       "    <tr>\n",
       "      <th>255</th>\n",
       "      <td>2</td>\n",
       "      <td>2</td>\n",
       "      <td>[intercept, longitude]</td>\n",
       "      <td>8.480269e+12</td>\n",
       "      <td>62119.649822</td>\n",
       "      <td>62130.754297</td>\n",
       "      <td>-2.883659e-04</td>\n",
       "    </tr>\n",
       "  </tbody>\n",
       "</table>\n",
       "<p>256 rows × 7 columns</p>\n",
       "</div>"
      ],
      "text/plain": [
       "     index  num_predictors                                              model  \\\n",
       "0      250               8  [intercept, size_in_m_2, longitude, latitude, ...   \n",
       "1      255               9  [intercept, size_in_m_2, longitude, latitude, ...   \n",
       "2      222               7  [intercept, size_in_m_2, longitude, latitude, ...   \n",
       "3      247               8  [intercept, size_in_m_2, longitude, latitude, ...   \n",
       "4      165               6  [intercept, size_in_m_2, longitude, latitude, ...   \n",
       "..     ...             ...                                                ...   \n",
       "251     20               3                  [intercept, longitude, quality_2]   \n",
       "252      6               2                             [intercept, quality_1]   \n",
       "253     19               3                  [intercept, longitude, quality_1]   \n",
       "254      0               1                                        [intercept]   \n",
       "255      2               2                             [intercept, longitude]   \n",
       "\n",
       "     train_errors_MSE           AIC           BIC        ADJ_R2  \n",
       "0        2.563718e+12  59852.729811  59897.147709  6.966407e-01  \n",
       "1        2.562773e+12  59854.027050  59903.997186  6.965926e-01  \n",
       "2        2.566132e+12  59852.522224  59891.387885  6.965151e-01  \n",
       "3        2.565462e+12  59854.024862  59898.442760  6.964344e-01  \n",
       "4        2.568593e+12  59852.348316  59885.661739  6.963840e-01  \n",
       "..                ...           ...           ...           ...  \n",
       "251      8.452975e+12  62115.508593  62132.165305  2.406893e-03  \n",
       "252      8.472054e+12  62117.803515  62128.907990  6.806342e-04  \n",
       "253      8.470115e+12  62119.367625  62136.024336  3.839818e-04  \n",
       "254      8.482279e+12  62118.101353  62123.653590 -2.220446e-16  \n",
       "255      8.480269e+12  62119.649822  62130.754297 -2.883659e-04  \n",
       "\n",
       "[256 rows x 7 columns]"
      ]
     },
     "execution_count": 324,
     "metadata": {},
     "output_type": "execute_result"
    }
   ],
   "source": [
    "Models"
   ]
  },
  {
   "cell_type": "markdown",
   "metadata": {},
   "source": []
  },
  {
   "cell_type": "markdown",
   "metadata": {},
   "source": []
  },
  {
   "cell_type": "markdown",
   "metadata": {},
   "source": [
    "### Best Subset Selection in `R` <a class=\"anchor\" id=\"22\"></a>"
   ]
  },
  {
   "cell_type": "code",
   "execution_count": null,
   "metadata": {},
   "outputs": [],
   "source": [
    "%%R\n",
    "\n",
    "# install.packages(\"olsrr\")"
   ]
  },
  {
   "cell_type": "code",
   "execution_count": 344,
   "metadata": {},
   "outputs": [
    {
     "name": "stdout",
     "output_type": "stream",
     "text": [
      "                              Best Subsets Regression                               \n",
      "------------------------------------------------------------------------------------\n",
      "Model Index    Predictors\n",
      "------------------------------------------------------------------------------------\n",
      "     1         size_in_m_2                                                           \n",
      "     2         size_in_m_2 no_of_bedrooms                                            \n",
      "     3         size_in_m_2 latitude no_of_bedrooms                                   \n",
      "     4         size_in_m_2 latitude no_of_bedrooms quality                           \n",
      "     5         size_in_m_2 longitude latitude no_of_bedrooms quality                 \n",
      "     6         size_in_m_2 longitude latitude no_of_bedrooms no_of_bathrooms quality \n",
      "------------------------------------------------------------------------------------\n",
      "\n",
      "                                                                 Subsets Regression Summary                                                                 \n",
      "------------------------------------------------------------------------------------------------------------------------------------------------------------\n",
      "                       Adj.        Pred                                                                                                                      \n",
      "Model    R-Square    R-Square    R-Square      C(p)         AIC           SBIC          SBC            MSEP            FPE               HSP           APC  \n",
      "------------------------------------------------------------------------------------------------------------------------------------------------------------\n",
      "  1        0.6538      0.6536      0.6477    271.3798    60101.2535    54694.5750    60117.9102    5.599622e+15     2.94252e+12    1545443750.0473    0.3469 \n",
      "  2        0.6856      0.6853      0.6786     74.0667    59919.9272    54513.5621    59942.1362    5.088539e+15    2.675355e+12    1405127949.6494    0.3154 \n",
      "  3        0.6959      0.6954      0.6885     11.3666    59858.4120    54452.2421    59886.1732    4.924268e+15    2.590344e+12    1360482104.0087    0.3054 \n",
      "  4        0.6968      0.6959      0.6886      7.5502    59858.5970    54448.4541    59903.0149    4.911844e+15    2.587885e+12    1359194773.7428    0.3048 \n",
      "  5        0.6978      0.6966      0.6892      3.6996    59854.7298    54444.6265    59904.6999     4.89932e+15    2.582639e+12    1356443622.2660    0.3042 \n",
      "  6        0.6979      0.6966      0.6889      5.0000    59856.0271    54445.9376    59911.5494    4.900094e+15      2.5844e+12    1357373638.2137    0.3044 \n",
      "------------------------------------------------------------------------------------------------------------------------------------------------------------\n",
      "AIC: Akaike Information Criteria \n",
      " SBIC: Sawa's Bayesian Information Criteria \n",
      " SBC: Schwarz Bayesian Criteria \n",
      " MSEP: Estimated error of prediction, assuming multivariate normality \n",
      " FPE: Final Prediction Error \n",
      " HSP: Hocking's Sp \n",
      " APC: Amemiya Prediction Criteria \n",
      "\n"
     ]
    }
   ],
   "source": [
    "%%R\n",
    "\n",
    "model <- lm(price  ~ size_in_m_2  + longitude  + latitude + no_of_bedrooms  + no_of_bathrooms + quality , data = data_R)\n",
    "\n",
    "ols_step_best_subset(model)"
   ]
  },
  {
   "cell_type": "markdown",
   "metadata": {},
   "source": []
  },
  {
   "cell_type": "markdown",
   "metadata": {},
   "source": []
  },
  {
   "cell_type": "markdown",
   "metadata": {},
   "source": [
    "### Forward Selection <a class=\"anchor\" id=\"23\"></a>"
   ]
  },
  {
   "cell_type": "markdown",
   "metadata": {},
   "source": [
    "Forward selection  consist in the following algorithm :\n",
    "\n",
    "We have $p$ predictors: $X_1,...,X_p$ and a response variable $Y$\n",
    "\n",
    "- We train the null linear model $(M_0)$ \n",
    "  \n",
    "- We train all the  linear models that are the result of *add one predictor* to the model $M_0$ , and we select one $(M_1)$ under some criteria, for example the one with **less** $train \\hspace{0.1cm} error$.\n",
    "\n",
    "\n",
    "- We train all the linear models that are the result of *add one predictor* to the model $M_1$ , and we select one $(M_2)$ under the same criteria.\n",
    "  \n",
    "   $\\dots$ \n",
    "\n",
    "- We train all the linear models that are the result of *add one predictor* to the model $M_{p-2}$ , and we select one $(M_{p-1})$ under the same criteria.\n",
    "\n",
    "- We train the full linear model $(M_p)$\n",
    "\n",
    "\n",
    "We select one of the models $\\hspace{0.1cm} \\lbrace M_0, M_1,...,M_{p-1},M_p \\rbrace \\hspace{0.1cm}$ under some criteria, for example the one with **less** $\\hspace{0.1cm} train\\hspace{0.1cm} error$, $AIC$, $BIC$ or $Cp \\hspace{0.1cm}$, or **greater**  $\\hspace{0.1cm} \\widehat{R}^2$ \n"
   ]
  },
  {
   "cell_type": "markdown",
   "metadata": {},
   "source": []
  },
  {
   "cell_type": "markdown",
   "metadata": {},
   "source": [
    "Scheme of the algorithm:\n",
    "\n",
    "- $M_0$\n",
    "\n",
    "- $\\lbrace  M_0 \\hspace{0.1cm} \\text{+ 1 predictor} \\rbrace \\underset{ \\text{train  error} }{\\Rightarrow}M_1$\n",
    "\n",
    "- $\\lbrace  M_1 \\hspace{0.1cm} \\text{+ 1 predictor} \\rbrace \\underset{ \\text{train  error} }{\\Rightarrow}M_2$\n",
    "\n",
    "$\\hspace{0.8cm} \\dots$\n",
    "\n",
    "- $\\lbrace  M_{p-2} \\hspace{0.1cm} \\text{+ 1 predictor} \\rbrace \\underset{ \\text{train  error} }{\\Rightarrow}M_{p-1}$\n",
    "\n",
    "- $M_p$"
   ]
  },
  {
   "cell_type": "markdown",
   "metadata": {},
   "source": [
    "- $\\lbrace M_0, M_1 , ..., M_{p-1}, M_p \\rbrace \\underset{ \\text{train  error}, AIC, BIC, C_p, \\widehat{R}^2 }{\\Rightarrow} \\hspace{0.1cm} M\\hspace{0.05cm}^* \\hspace{0.1cm} (Best \\hspace{0.1cm} Model) $"
   ]
  },
  {
   "cell_type": "markdown",
   "metadata": {},
   "source": [
    "Where:\n",
    "\n",
    "$\\lbrace  M_j \\hspace{0.1cm} \\text{+ 1 predictor} \\rbrace \\hspace{0.1cm} $ is the set of the linear regression models that are the result of adding one predictor to the model $M_j$"
   ]
  },
  {
   "cell_type": "markdown",
   "metadata": {},
   "source": []
  },
  {
   "cell_type": "markdown",
   "metadata": {},
   "source": [
    "### Forward Selection in `Python` <a class=\"anchor\" id=\"24\"></a>"
   ]
  },
  {
   "cell_type": "markdown",
   "metadata": {},
   "source": [
    "We are going to develop the Forward algorithm in `Python` :"
   ]
  },
  {
   "cell_type": "code",
   "execution_count": 325,
   "metadata": {},
   "outputs": [],
   "source": [
    "def forward ( X, y, varchar_process=\"dummy_dropfirst\", criteria=\"AIC\" ):\n",
    "\n",
    "        X = varcharProcessing(X , varchar_process = varchar_process)\n",
    "\n",
    "        cols = X.columns.tolist()\n",
    "\n",
    "        regressor = sm.OLS(y, X).fit()\n",
    "\n",
    "        selected_cols = [\"intercept\"]\n",
    "\n",
    "        other_cols = cols.copy()\n",
    "        other_cols.remove(\"intercept\")\n",
    "\n",
    "        \n",
    "        model = sm.OLS(y, X[selected_cols]).fit() \n",
    "\n",
    "        train_errors_MSE = [ ( (y - model.predict(X[ selected_cols ]))**2 ).mean()  ]\n",
    "\n",
    "        Models = pd.DataFrame([[ selected_cols[0], round(train_errors_MSE[0]) , model.aic, model.bic, round(model.rsquared_adj, 4) ]], columns = [\"model\",\"train_error_MSE\",\"AIC\",\"BIC\",\"Adj.R2\"])\n",
    "        \n",
    "  \n",
    "############################################################################################################################################################################ \n",
    "     \n",
    "        for i in range(X.shape[1] - 1):\n",
    "\n",
    "                train_errors = pd.DataFrame(columns = [\"Cols\", \"train_error_MSE\"])\n",
    "\n",
    "                for j in other_cols:\n",
    "\n",
    "                        model = sm.OLS(y, X[ selected_cols + [j] ] ).fit()\n",
    "\n",
    "                        train_error_MSE = ( (y - model.predict(X[ selected_cols + [j] ]))**2 ).mean()\n",
    "                                              \n",
    "                        train_errors = pd.concat( [train_errors, pd.DataFrame([[ j , train_error_MSE ]], columns = [\"Cols\",\"train_error_MSE\"] ) ] )\n",
    "\n",
    "                train_errors = train_errors.sort_values(by=[\"train_error_MSE\"]).reset_index(drop=True)\n",
    "                \n",
    "                model = sm.OLS(y, X[ selected_cols + [train_errors[\"Cols\"][0]] ]).fit()  \n",
    "\n",
    "                train_error_MSE = ( (y - model.predict(X[ selected_cols + [train_errors[\"Cols\"][0]] ]))**2 ).mean()\n",
    "\n",
    "                train_errors_MSE.append( train_error_MSE )\n",
    "                              \n",
    "                selected_cols.append( train_errors[\"Cols\"][0] )\n",
    "                other_cols.remove( train_errors[\"Cols\"][0] )\n",
    "\n",
    "                Models = pd.concat([Models, pd.DataFrame([[ selected_cols[0:(i+2)] , round(train_errors_MSE[i+1]), model.aic, model.bic, round(model.rsquared_adj,5) ]], columns = [\"model\", \"train_error_MSE\", \"AIC\",\"BIC\", \"Adj.R2\"]) ])        \n",
    "                \n",
    "\n",
    " ############################################################################################################################################################################\n",
    "              \n",
    "        Models.index = range(0, len(Models))\n",
    "\n",
    "        if (criteria == \"AIC\"):\n",
    "\n",
    "                Models = Models.sort_values(by=[\"AIC\"]).reset_index(drop=False)\n",
    "\n",
    "                Final_Model = sm.OLS(y, X[ Models[\"model\"][0] ]).fit() \n",
    "        \n",
    "        elif (criteria == \"BIC\"):\n",
    "\n",
    "                Models = Models.sort_values(by=[\"BIC\"]).reset_index(drop=False)\n",
    "\n",
    "                Final_Model = sm.OLS(y, X[ Models[\"model\"][0] ]).fit() \n",
    "\n",
    "        elif (criteria == \"Cp\"):\n",
    "\n",
    "                 Models = Models.sort_values(by=[\"Cp\"]).reset_index(drop=False)\n",
    "\n",
    "                 Final_Model = sm.OLS(y, X[ Models[\"model\"][0] ]).fit() \n",
    "\n",
    "        elif (criteria == \"Adj.R2\"):\n",
    "\n",
    "                  Models = Models.sort_values(by=[\"Adj.R2\"], ascending=False).reset_index(drop=False)\n",
    "                  \n",
    "                  Final_Model = sm.OLS(y, X[ Models[\"model\"][0] ]).fit() \n",
    "\n",
    "        elif (criteria == \"train_error_MSE\"):\n",
    "\n",
    "                  Models = Models.sort_values(by=[\"train_error_MSE\"]).reset_index(drop=False)\n",
    "                  \n",
    "                  Final_Model = sm.OLS(y, X[ Models[\"model\"][0] ]).fit() \n",
    "        \n",
    "        elif ( criteria == \"none\"):\n",
    "\n",
    "                  Final_Model = \"not compute, use some criteria (AIC, BIC, Adj.R2 or train_error_MSE)\"\n",
    "\n",
    "\n",
    "               \n",
    "        return Models , Final_Model"
   ]
  },
  {
   "cell_type": "markdown",
   "metadata": {},
   "source": []
  },
  {
   "cell_type": "code",
   "execution_count": 326,
   "metadata": {},
   "outputs": [],
   "source": [
    "Models , Final_Model = forward(X, y, criteria=\"AIC\")"
   ]
  },
  {
   "cell_type": "code",
   "execution_count": 327,
   "metadata": {},
   "outputs": [
    {
     "data": {
      "text/html": [
       "<div>\n",
       "<style scoped>\n",
       "    .dataframe tbody tr th:only-of-type {\n",
       "        vertical-align: middle;\n",
       "    }\n",
       "\n",
       "    .dataframe tbody tr th {\n",
       "        vertical-align: top;\n",
       "    }\n",
       "\n",
       "    .dataframe thead th {\n",
       "        text-align: right;\n",
       "    }\n",
       "</style>\n",
       "<table border=\"1\" class=\"dataframe\">\n",
       "  <thead>\n",
       "    <tr style=\"text-align: right;\">\n",
       "      <th></th>\n",
       "      <th>index</th>\n",
       "      <th>model</th>\n",
       "      <th>train_error_MSE</th>\n",
       "      <th>AIC</th>\n",
       "      <th>BIC</th>\n",
       "      <th>Adj.R2</th>\n",
       "    </tr>\n",
       "  </thead>\n",
       "  <tbody>\n",
       "    <tr>\n",
       "      <th>0</th>\n",
       "      <td>5</td>\n",
       "      <td>[intercept, size_in_m_2, no_of_bedrooms, latit...</td>\n",
       "      <td>2568592674038</td>\n",
       "      <td>59852.348316</td>\n",
       "      <td>59885.661739</td>\n",
       "      <td>0.69638</td>\n",
       "    </tr>\n",
       "    <tr>\n",
       "      <th>1</th>\n",
       "      <td>6</td>\n",
       "      <td>[intercept, size_in_m_2, no_of_bedrooms, latit...</td>\n",
       "      <td>2566131657360</td>\n",
       "      <td>59852.522224</td>\n",
       "      <td>59891.387885</td>\n",
       "      <td>0.69652</td>\n",
       "    </tr>\n",
       "    <tr>\n",
       "      <th>2</th>\n",
       "      <td>7</td>\n",
       "      <td>[intercept, size_in_m_2, no_of_bedrooms, latit...</td>\n",
       "      <td>2563718320541</td>\n",
       "      <td>59852.729811</td>\n",
       "      <td>59897.147709</td>\n",
       "      <td>0.69664</td>\n",
       "    </tr>\n",
       "    <tr>\n",
       "      <th>3</th>\n",
       "      <td>4</td>\n",
       "      <td>[intercept, size_in_m_2, no_of_bedrooms, latit...</td>\n",
       "      <td>2572226401931</td>\n",
       "      <td>59853.041370</td>\n",
       "      <td>59880.802556</td>\n",
       "      <td>0.69611</td>\n",
       "    </tr>\n",
       "    <tr>\n",
       "      <th>4</th>\n",
       "      <td>8</td>\n",
       "      <td>[intercept, size_in_m_2, no_of_bedrooms, latit...</td>\n",
       "      <td>2562772731258</td>\n",
       "      <td>59854.027050</td>\n",
       "      <td>59903.997186</td>\n",
       "      <td>0.69659</td>\n",
       "    </tr>\n",
       "    <tr>\n",
       "      <th>5</th>\n",
       "      <td>3</td>\n",
       "      <td>[intercept, size_in_m_2, no_of_bedrooms, latit...</td>\n",
       "      <td>2579488352477</td>\n",
       "      <td>59856.412019</td>\n",
       "      <td>59878.620968</td>\n",
       "      <td>0.69542</td>\n",
       "    </tr>\n",
       "    <tr>\n",
       "      <th>6</th>\n",
       "      <td>2</td>\n",
       "      <td>[intercept, size_in_m_2, no_of_bedrooms]</td>\n",
       "      <td>2666941699634</td>\n",
       "      <td>59917.927231</td>\n",
       "      <td>59934.583943</td>\n",
       "      <td>0.68526</td>\n",
       "    </tr>\n",
       "    <tr>\n",
       "      <th>7</th>\n",
       "      <td>1</td>\n",
       "      <td>[intercept, size_in_m_2]</td>\n",
       "      <td>2936347992629</td>\n",
       "      <td>60099.253467</td>\n",
       "      <td>60110.357942</td>\n",
       "      <td>0.65364</td>\n",
       "    </tr>\n",
       "    <tr>\n",
       "      <th>8</th>\n",
       "      <td>0</td>\n",
       "      <td>intercept</td>\n",
       "      <td>8482279037222</td>\n",
       "      <td>62118.101353</td>\n",
       "      <td>62123.653590</td>\n",
       "      <td>-0.00000</td>\n",
       "    </tr>\n",
       "  </tbody>\n",
       "</table>\n",
       "</div>"
      ],
      "text/plain": [
       "   index                                              model  train_error_MSE  \\\n",
       "0      5  [intercept, size_in_m_2, no_of_bedrooms, latit...    2568592674038   \n",
       "1      6  [intercept, size_in_m_2, no_of_bedrooms, latit...    2566131657360   \n",
       "2      7  [intercept, size_in_m_2, no_of_bedrooms, latit...    2563718320541   \n",
       "3      4  [intercept, size_in_m_2, no_of_bedrooms, latit...    2572226401931   \n",
       "4      8  [intercept, size_in_m_2, no_of_bedrooms, latit...    2562772731258   \n",
       "5      3  [intercept, size_in_m_2, no_of_bedrooms, latit...    2579488352477   \n",
       "6      2           [intercept, size_in_m_2, no_of_bedrooms]    2666941699634   \n",
       "7      1                           [intercept, size_in_m_2]    2936347992629   \n",
       "8      0                                          intercept    8482279037222   \n",
       "\n",
       "            AIC           BIC   Adj.R2  \n",
       "0  59852.348316  59885.661739  0.69638  \n",
       "1  59852.522224  59891.387885  0.69652  \n",
       "2  59852.729811  59897.147709  0.69664  \n",
       "3  59853.041370  59880.802556  0.69611  \n",
       "4  59854.027050  59903.997186  0.69659  \n",
       "5  59856.412019  59878.620968  0.69542  \n",
       "6  59917.927231  59934.583943  0.68526  \n",
       "7  60099.253467  60110.357942  0.65364  \n",
       "8  62118.101353  62123.653590 -0.00000  "
      ]
     },
     "execution_count": 327,
     "metadata": {},
     "output_type": "execute_result"
    }
   ],
   "source": [
    "Models"
   ]
  },
  {
   "cell_type": "code",
   "execution_count": 328,
   "metadata": {},
   "outputs": [
    {
     "data": {
      "text/html": [
       "<table border=\"1\" class=\"dataframe table table-striped\">\n",
       "  <thead>\n",
       "    <tr style=\"text-align: right;\">\n",
       "      <th></th>\n",
       "      <th>index</th>\n",
       "      <th>model</th>\n",
       "      <th>train_error_MSE</th>\n",
       "      <th>AIC</th>\n",
       "      <th>BIC</th>\n",
       "      <th>Adj.R2</th>\n",
       "    </tr>\n",
       "  </thead>\n",
       "  <tbody>\n",
       "    <tr>\n",
       "      <th>0</th>\n",
       "      <td>5</td>\n",
       "      <td>[intercept, size_in_m_2, no_of_bedrooms, latitude, longitude, quality_2]</td>\n",
       "      <td>2568592674038</td>\n",
       "      <td>59852.348316</td>\n",
       "      <td>59885.661739</td>\n",
       "      <td>0.69638</td>\n",
       "    </tr>\n",
       "    <tr>\n",
       "      <th>1</th>\n",
       "      <td>6</td>\n",
       "      <td>[intercept, size_in_m_2, no_of_bedrooms, latitude, longitude, quality_2, quality_1]</td>\n",
       "      <td>2566131657360</td>\n",
       "      <td>59852.522224</td>\n",
       "      <td>59891.387885</td>\n",
       "      <td>0.69652</td>\n",
       "    </tr>\n",
       "    <tr>\n",
       "      <th>2</th>\n",
       "      <td>7</td>\n",
       "      <td>[intercept, size_in_m_2, no_of_bedrooms, latitude, longitude, quality_2, quality_1, quality_3]</td>\n",
       "      <td>2563718320541</td>\n",
       "      <td>59852.729811</td>\n",
       "      <td>59897.147709</td>\n",
       "      <td>0.69664</td>\n",
       "    </tr>\n",
       "    <tr>\n",
       "      <th>3</th>\n",
       "      <td>4</td>\n",
       "      <td>[intercept, size_in_m_2, no_of_bedrooms, latitude, longitude]</td>\n",
       "      <td>2572226401931</td>\n",
       "      <td>59853.041370</td>\n",
       "      <td>59880.802556</td>\n",
       "      <td>0.69611</td>\n",
       "    </tr>\n",
       "    <tr>\n",
       "      <th>4</th>\n",
       "      <td>8</td>\n",
       "      <td>[intercept, size_in_m_2, no_of_bedrooms, latitude, longitude, quality_2, quality_1, quality_3, no_of_bathrooms]</td>\n",
       "      <td>2562772731258</td>\n",
       "      <td>59854.027050</td>\n",
       "      <td>59903.997186</td>\n",
       "      <td>0.69659</td>\n",
       "    </tr>\n",
       "    <tr>\n",
       "      <th>5</th>\n",
       "      <td>3</td>\n",
       "      <td>[intercept, size_in_m_2, no_of_bedrooms, latitude]</td>\n",
       "      <td>2579488352477</td>\n",
       "      <td>59856.412019</td>\n",
       "      <td>59878.620968</td>\n",
       "      <td>0.69542</td>\n",
       "    </tr>\n",
       "    <tr>\n",
       "      <th>6</th>\n",
       "      <td>2</td>\n",
       "      <td>[intercept, size_in_m_2, no_of_bedrooms]</td>\n",
       "      <td>2666941699634</td>\n",
       "      <td>59917.927231</td>\n",
       "      <td>59934.583943</td>\n",
       "      <td>0.68526</td>\n",
       "    </tr>\n",
       "    <tr>\n",
       "      <th>7</th>\n",
       "      <td>1</td>\n",
       "      <td>[intercept, size_in_m_2]</td>\n",
       "      <td>2936347992629</td>\n",
       "      <td>60099.253467</td>\n",
       "      <td>60110.357942</td>\n",
       "      <td>0.65364</td>\n",
       "    </tr>\n",
       "    <tr>\n",
       "      <th>8</th>\n",
       "      <td>0</td>\n",
       "      <td>intercept</td>\n",
       "      <td>8482279037222</td>\n",
       "      <td>62118.101353</td>\n",
       "      <td>62123.653590</td>\n",
       "      <td>-0.00000</td>\n",
       "    </tr>\n",
       "  </tbody>\n",
       "</table>"
      ],
      "text/plain": [
       "<IPython.core.display.HTML object>"
      ]
     },
     "execution_count": 328,
     "metadata": {},
     "output_type": "execute_result"
    }
   ],
   "source": [
    "from IPython.display import HTML \n",
    "\n",
    "HTML(Models.to_html(classes='table table-striped'))"
   ]
  },
  {
   "cell_type": "markdown",
   "metadata": {},
   "source": []
  },
  {
   "cell_type": "markdown",
   "metadata": {},
   "source": [
    "So, the linear regression model selected with ***forward*** algorithm and the $AIC$ criteria is saved in  `Final_Model`, and it is the same model that is selected with ***best subset*** algorithm  :\n",
    "\n",
    "$$ price = intercept + size\\_in\\_m\\_2 + longitude + latitude + no\\_of\\_bedrooms + quality\\_2 $$"
   ]
  },
  {
   "cell_type": "markdown",
   "metadata": {},
   "source": []
  },
  {
   "cell_type": "markdown",
   "metadata": {},
   "source": []
  },
  {
   "cell_type": "markdown",
   "metadata": {},
   "source": [
    "### Forward Selection in `R` <a class=\"anchor\" id=\"25\"></a>"
   ]
  },
  {
   "cell_type": "markdown",
   "metadata": {},
   "source": [
    "We are going to use the `step` function, with which we can do a forward selection based on $AIC$ criteria in `R`"
   ]
  },
  {
   "cell_type": "code",
   "execution_count": 343,
   "metadata": {},
   "outputs": [
    {
     "name": "stdout",
     "output_type": "stream",
     "text": [
      "Start:  AIC=54447.87\n",
      "price ~ size_in_m_2 + longitude + latitude + no_of_bedrooms + \n",
      "    no_of_bathrooms + quality\n",
      "\n",
      "\n",
      "Call:\n",
      "lm(formula = price ~ size_in_m_2 + longitude + latitude + no_of_bedrooms + \n",
      "    no_of_bathrooms + quality, data = data_R)\n",
      "\n",
      "Residuals:\n",
      "      Min        1Q    Median        3Q       Max \n",
      "-13398393   -562302     68143    562733  15384235 \n",
      "\n",
      "Coefficients:\n",
      "                  Estimate Std. Error t value Pr(>|t|)    \n",
      "(Intercept)     -6.207e+07  2.995e+07  -2.073   0.0383 *  \n",
      "size_in_m_2      3.566e+04  7.238e+02  49.271  < 2e-16 ***\n",
      "longitude       -1.677e+06  6.908e+05  -2.428   0.0153 *  \n",
      "latitude         6.115e+06  7.809e+05   7.830 8.03e-15 ***\n",
      "no_of_bedrooms  -8.367e+05  8.282e+04 -10.102  < 2e-16 ***\n",
      "no_of_bathrooms -5.712e+04  6.829e+04  -0.836   0.4030    \n",
      "quality1         1.400e+05  8.358e+04   1.675   0.0940 .  \n",
      "quality2         3.406e+05  1.551e+05   2.196   0.0282 *  \n",
      "quality3         2.788e+05  1.976e+05   1.410   0.1586    \n",
      "---\n",
      "Signif. codes:  0 '***' 0.001 '**' 0.01 '*' 0.05 '.' 0.1 ' ' 1\n",
      "\n",
      "Residual standard error: 1605000 on 1896 degrees of freedom\n",
      "Multiple R-squared:  0.6979,\tAdjusted R-squared:  0.6966 \n",
      "F-statistic: 547.4 on 8 and 1896 DF,  p-value: < 2.2e-16\n",
      "\n"
     ]
    }
   ],
   "source": [
    "%%R\n",
    "\n",
    "model <- step( object = lm(price  ~ size_in_m_2  + longitude  + latitude + no_of_bedrooms  + no_of_bathrooms + quality , data = data_R), direction = \"forward\")\n",
    "\n",
    "summary(model)"
   ]
  },
  {
   "cell_type": "markdown",
   "metadata": {},
   "source": []
  },
  {
   "cell_type": "markdown",
   "metadata": {},
   "source": [
    " \n",
    "We get different results in R and Python, this could be because the `step` function is using another version of the direct selection algorithm, or something similar. Also, our Python algorithms allow to consider models like price ~ size_in_m_2 + quality_2, while in R this is not possible, in R you have to include all the dummies associated to a categorical variable, so in that case, in R, just you could set price ~ size_in_m_2 + quality ( = price ~ size_in_m_2 + quality_1 + quality_2 + quality_3 in Python)\n",
    "\n",
    "In this article I have focused mainly on Python, so I recommend use Python algorithms , since they have been developed from zero, taking all the care, and all the procedures have been exposed here, so that everyone can check it out.\n"
   ]
  },
  {
   "cell_type": "markdown",
   "metadata": {},
   "source": []
  },
  {
   "cell_type": "markdown",
   "metadata": {},
   "source": [
    "Using  `olsrr` package :\n"
   ]
  },
  {
   "cell_type": "code",
   "execution_count": 345,
   "metadata": {},
   "outputs": [
    {
     "name": "stdout",
     "output_type": "stream",
     "text": [
      "Start:  AIC=54447.87\n",
      "price ~ size_in_m_2 + longitude + latitude + no_of_bedrooms + \n",
      "    no_of_bathrooms + quality\n",
      "\n",
      "\n",
      "                                   Selection Summary                                     \n",
      "----------------------------------------------------------------------------------------\n",
      "        Variable                        Adj.                                                \n",
      "Step       Entered        R-Square    R-Square      C(p)         AIC            RMSE        \n",
      "----------------------------------------------------------------------------------------\n",
      "   1    size_in_m_2         0.6538      0.6536    271.3798    60101.2535    1714477.7667    \n",
      "   2    no_of_bedrooms      0.6856      0.6853     74.0667    59919.9272    1634364.7794    \n",
      "   3    latitude            0.6959      0.6954     11.3666    59858.4120    1607767.3954    \n",
      "   4    longitude           0.6968      0.6961      7.9940    59855.0414    1605925.0975    \n",
      "   5    quality             0.6978      0.6966      3.6996    59854.7298    1604534.1988    \n",
      "----------------------------------------------------------------------------------------\n"
     ]
    }
   ],
   "source": [
    "%%R \n",
    "\n",
    "model <- step( object = lm(price  ~ size_in_m_2  + longitude  + latitude + no_of_bedrooms  + no_of_bathrooms + quality , data = data_R), direction = \"forward\")\n",
    "\n",
    "ols_step_forward_p(model)"
   ]
  },
  {
   "cell_type": "markdown",
   "metadata": {},
   "source": []
  },
  {
   "cell_type": "markdown",
   "metadata": {},
   "source": []
  },
  {
   "cell_type": "markdown",
   "metadata": {},
   "source": [
    "### Backward Selection <a class=\"anchor\" id=\"26\"></a>"
   ]
  },
  {
   "cell_type": "markdown",
   "metadata": {},
   "source": [
    "Backward selection consist in the following algorithm :\n",
    "\n",
    "We have $p$ predictors: $X_1,...,X_p$\n",
    "\n",
    "- We train the full linear regression model $(M_p)$ \n",
    "  \n",
    "- We train all the  linear models that are the result of removing one predictor to the model $M_p$ , and we select one $(M_{p-1})$ under some criteria, for example the one with **less** $train \\hspace{0.1cm} error$.\n",
    "\n",
    "\n",
    "- We train all the linear models that are the result of removing one predictor to the model $M_{p-1}$ , and we select one $(M_{p-2})$ under the same criteria.\n",
    "  \n",
    "   $\\dots$ \n",
    "\n",
    "- We train all the linear models that are the result of removing one predictor to the model $M_{2}$ , and we select one $(M_{1})$ under the same criteria.\n",
    "\n",
    "- We train the null linear model $(M_0)$\n",
    "\n",
    "\n",
    "We select one of the models $\\hspace{0.1cm}\\lbrace M_0,M_1,...,M_{p-1},M_p \\rbrace\\hspace{0.1cm} $ under some criteria, for example the one with **less** $ \\hspace{0.1cm} train\\hspace{0.1cm} error$, $AIC$, $BIC$ or $Cp \\hspace{0.1cm}$, or **greater**  $\\hspace{0.1cm} \\widehat{R}^2$  \n"
   ]
  },
  {
   "cell_type": "markdown",
   "metadata": {},
   "source": []
  },
  {
   "cell_type": "markdown",
   "metadata": {},
   "source": [
    "Scheme of the algorithm:\n",
    "\n",
    "- $M_p$\n",
    "\n",
    "- $\\lbrace  M_p \\hspace{0.1cm} - \\text{1 predictor} \\rbrace \\underset{ \\text{train  error} }{\\Rightarrow}M_{p-1}$\n",
    "\n",
    "- $\\lbrace  M_{p-1} \\hspace{0.1cm} - \\text{1 predictor} \\rbrace \\underset{ \\text{train  error} }{\\Rightarrow}M_{p-2}$\n",
    "\n",
    "$\\hspace{0.8cm} \\dots$\n",
    "\n",
    "- $\\lbrace  M_{2} \\hspace{0.1cm} - \\text{1 predictor} \\rbrace \\underset{ \\text{train  error} }{\\Rightarrow}M_{1}$\n",
    "\n",
    "- $M_0$"
   ]
  },
  {
   "cell_type": "markdown",
   "metadata": {},
   "source": [
    "- $\\lbrace M_0, M_1 , ..., M_p \\rbrace \\underset{\\text{train error}, AIC, BIC, C_p, \\widehat{R}^2 }{\\Rightarrow} \\hspace{0.1cm} M\\hspace{0.05cm}^* \\hspace{0.1cm} (Best \\hspace{0.1cm} Model) $"
   ]
  },
  {
   "cell_type": "markdown",
   "metadata": {},
   "source": []
  },
  {
   "cell_type": "markdown",
   "metadata": {},
   "source": [
    "### Backward Selection in `Python` <a class=\"anchor\" id=\"27\"></a>"
   ]
  },
  {
   "cell_type": "markdown",
   "metadata": {},
   "source": [
    "We are going to develop the Backward algorithm in `Python` :"
   ]
  },
  {
   "cell_type": "code",
   "execution_count": 330,
   "metadata": {},
   "outputs": [],
   "source": [
    "from multiprocessing.resource_sharer import stop\n",
    "\n",
    "\n",
    "def backward ( X,y, varchar_process=\"dummy_dropfirst\", criteria=\"AIC\"):\n",
    "\n",
    "        X = varcharProcessing(X , varchar_process = varchar_process)\n",
    "\n",
    "        cols = X.columns.tolist()\n",
    "\n",
    "        regressor = sm.OLS(y, X).fit()\n",
    "\n",
    "        selected_cols = cols.copy()\n",
    "\n",
    "        other_cols = cols.copy()\n",
    "        other_cols.remove(\"intercept\")\n",
    "\n",
    "        predictor_out = [ ]\n",
    "\n",
    "        predictor_out_reversed = []\n",
    "\n",
    "        \n",
    "        model = sm.OLS(y, X[selected_cols]).fit() \n",
    "\n",
    "        train_errors_MSE = [ ( (y - model.predict(X[ selected_cols ]))**2 ).mean()  ]\n",
    "\n",
    "        Models = pd.DataFrame([[ round(train_errors_MSE[0]) , model.aic, model.bic, round(model.rsquared_adj, 4) ]], columns = [\"train_error_MSE\",\"AIC\",\"BIC\", \"Adj.R2\"])\n",
    "        \n",
    "  \n",
    " ######################################################################################  \n",
    "       \n",
    "        for i in range(X.shape[1]-1):\n",
    "\n",
    "                train_errors = pd.DataFrame(columns = [\"Cols\", \"train_error_MSE\"])\n",
    "\n",
    "                for j in other_cols:\n",
    "\n",
    "                        selected_cols.remove(j)\n",
    "\n",
    "                        model = sm.OLS(y, X[ selected_cols ] ).fit()\n",
    "\n",
    "                        train_error_MSE = ( (y - model.predict(X[ selected_cols ]))**2 ).mean()\n",
    "                                             \n",
    "                        train_errors = pd.concat( [train_errors, pd.DataFrame([[ j , train_error_MSE ]], columns = [\"Cols\", \"train_error_MSE\"] ) ] )\n",
    "\n",
    "                        selected_cols.append(j)\n",
    "\n",
    "                train_errors = train_errors.sort_values(by=[\"train_error_MSE\"]).reset_index(drop=True)\n",
    "                \n",
    "                selected_cols.remove(train_errors[\"Cols\"][0])\n",
    "\n",
    "                predictor_out.append(train_errors[\"Cols\"][0])\n",
    "\n",
    "                model = sm.OLS(y, X[ selected_cols ]).fit()  \n",
    "\n",
    "                train_error_MSE = ( (y - model.predict(X[ selected_cols ]))**2 ).mean()\n",
    "\n",
    "                train_errors_MSE.append( train_error_MSE )\n",
    "                              \n",
    "                other_cols.remove( train_errors[\"Cols\"][0] )\n",
    "\n",
    "\n",
    "                Models = pd.concat([Models, pd.DataFrame([[ round(train_errors_MSE[i+1]), model.aic, model.bic, round(model.rsquared_adj,5) ]], columns = [\"train_error_MSE\", \"AIC\",\"BIC\", \"Adj.R2\"]) ])        \n",
    "\n",
    "##################################################################################################\n",
    "\n",
    "        Models.index = range(0,X.shape[1])\n",
    "\n",
    "\n",
    "        idx = len(predictor_out + ['intercept']) - 1\n",
    "        newList = []\n",
    "        \n",
    "        while (idx >= 0):\n",
    "                predictor_out_reversed.append((predictor_out + ['intercept'])[idx])\n",
    "                idx = idx - 1\n",
    "\n",
    "\n",
    "        a = pd.Series([])\n",
    "        \n",
    "        for i in range(X.shape[1]):\n",
    "\n",
    "                a[i] =  predictor_out_reversed[0:(len(cols)-i)] \n",
    "\n",
    "\n",
    "        Models = pd.concat([pd.DataFrame({'model': a}) , Models],  axis=1)\n",
    "\n",
    "################################################################################################\n",
    "\n",
    "\n",
    "        if (criteria == \"AIC\"):\n",
    "\n",
    "                Models = Models.sort_values(by=[\"AIC\"]).reset_index(drop=False)\n",
    "\n",
    "                Final_Model = sm.OLS(y, X[ Models[\"model\"][0] ]).fit() \n",
    "        \n",
    "        elif (criteria == \"BIC\"):\n",
    "\n",
    "                Models = Models.sort_values(by=[\"BIC\"]).reset_index(drop=False)\n",
    "\n",
    "                Final_Model = sm.OLS(y, X[ Models[\"model\"][0] ]).fit() \n",
    "\n",
    "        elif (criteria == \"Adj.R2\"):\n",
    "\n",
    "                  Models = Models.sort_values(by=[\"Adj.R2\"], ascending=False).reset_index(drop=False)\n",
    "                  \n",
    "                  Final_Model = sm.OLS(y, X[ Models[\"model\"][0] ]).fit() \n",
    "\n",
    "        elif (criteria == \"train_error_MSE\"):\n",
    "\n",
    "                  Models = Models.sort_values(by=[\"train_error_MSE\"]).reset_index(drop=False)\n",
    "                  \n",
    "                  Final_Model = sm.OLS(y, X[ Models[\"model\"][0] ]).fit() \n",
    "        \n",
    "        elif ( criteria == \"none\"):\n",
    "\n",
    "                Final_Model = \"not compute, use some criteria (AIC, BIC, Adj.R2 or train_error_MSE)\"\n",
    "\n",
    "\n",
    "        return Models , Final_Model"
   ]
  },
  {
   "cell_type": "markdown",
   "metadata": {},
   "source": []
  },
  {
   "cell_type": "code",
   "execution_count": 331,
   "metadata": {},
   "outputs": [],
   "source": [
    "Models , Final_Model = backward ( X , y, varchar_process=\"dummy_dropfirst\", criteria=\"AIC\")"
   ]
  },
  {
   "cell_type": "code",
   "execution_count": 332,
   "metadata": {},
   "outputs": [
    {
     "data": {
      "text/html": [
       "<div>\n",
       "<style scoped>\n",
       "    .dataframe tbody tr th:only-of-type {\n",
       "        vertical-align: middle;\n",
       "    }\n",
       "\n",
       "    .dataframe tbody tr th {\n",
       "        vertical-align: top;\n",
       "    }\n",
       "\n",
       "    .dataframe thead th {\n",
       "        text-align: right;\n",
       "    }\n",
       "</style>\n",
       "<table border=\"1\" class=\"dataframe\">\n",
       "  <thead>\n",
       "    <tr style=\"text-align: right;\">\n",
       "      <th></th>\n",
       "      <th>index</th>\n",
       "      <th>model</th>\n",
       "      <th>train_error_MSE</th>\n",
       "      <th>AIC</th>\n",
       "      <th>BIC</th>\n",
       "      <th>Adj.R2</th>\n",
       "    </tr>\n",
       "  </thead>\n",
       "  <tbody>\n",
       "    <tr>\n",
       "      <th>0</th>\n",
       "      <td>3</td>\n",
       "      <td>[intercept, size_in_m_2, no_of_bedrooms, latit...</td>\n",
       "      <td>2568592674038</td>\n",
       "      <td>59852.348316</td>\n",
       "      <td>59885.661739</td>\n",
       "      <td>0.69638</td>\n",
       "    </tr>\n",
       "    <tr>\n",
       "      <th>1</th>\n",
       "      <td>2</td>\n",
       "      <td>[intercept, size_in_m_2, no_of_bedrooms, latit...</td>\n",
       "      <td>2566131657360</td>\n",
       "      <td>59852.522224</td>\n",
       "      <td>59891.387885</td>\n",
       "      <td>0.69652</td>\n",
       "    </tr>\n",
       "    <tr>\n",
       "      <th>2</th>\n",
       "      <td>1</td>\n",
       "      <td>[intercept, size_in_m_2, no_of_bedrooms, latit...</td>\n",
       "      <td>2563718320541</td>\n",
       "      <td>59852.729811</td>\n",
       "      <td>59897.147709</td>\n",
       "      <td>0.69664</td>\n",
       "    </tr>\n",
       "    <tr>\n",
       "      <th>3</th>\n",
       "      <td>4</td>\n",
       "      <td>[intercept, size_in_m_2, no_of_bedrooms, latit...</td>\n",
       "      <td>2572226401931</td>\n",
       "      <td>59853.041370</td>\n",
       "      <td>59880.802556</td>\n",
       "      <td>0.69611</td>\n",
       "    </tr>\n",
       "    <tr>\n",
       "      <th>4</th>\n",
       "      <td>0</td>\n",
       "      <td>[intercept, size_in_m_2, no_of_bedrooms, latit...</td>\n",
       "      <td>2562772731258</td>\n",
       "      <td>59854.027050</td>\n",
       "      <td>59903.997186</td>\n",
       "      <td>0.69660</td>\n",
       "    </tr>\n",
       "    <tr>\n",
       "      <th>5</th>\n",
       "      <td>5</td>\n",
       "      <td>[intercept, size_in_m_2, no_of_bedrooms, latit...</td>\n",
       "      <td>2579488352477</td>\n",
       "      <td>59856.412019</td>\n",
       "      <td>59878.620968</td>\n",
       "      <td>0.69542</td>\n",
       "    </tr>\n",
       "    <tr>\n",
       "      <th>6</th>\n",
       "      <td>6</td>\n",
       "      <td>[intercept, size_in_m_2, no_of_bedrooms]</td>\n",
       "      <td>2666941699634</td>\n",
       "      <td>59917.927231</td>\n",
       "      <td>59934.583943</td>\n",
       "      <td>0.68526</td>\n",
       "    </tr>\n",
       "    <tr>\n",
       "      <th>7</th>\n",
       "      <td>7</td>\n",
       "      <td>[intercept, size_in_m_2]</td>\n",
       "      <td>2936347992629</td>\n",
       "      <td>60099.253467</td>\n",
       "      <td>60110.357942</td>\n",
       "      <td>0.65364</td>\n",
       "    </tr>\n",
       "    <tr>\n",
       "      <th>8</th>\n",
       "      <td>8</td>\n",
       "      <td>[intercept]</td>\n",
       "      <td>8482279037222</td>\n",
       "      <td>62118.101353</td>\n",
       "      <td>62123.653590</td>\n",
       "      <td>-0.00000</td>\n",
       "    </tr>\n",
       "  </tbody>\n",
       "</table>\n",
       "</div>"
      ],
      "text/plain": [
       "   index                                              model  train_error_MSE  \\\n",
       "0      3  [intercept, size_in_m_2, no_of_bedrooms, latit...    2568592674038   \n",
       "1      2  [intercept, size_in_m_2, no_of_bedrooms, latit...    2566131657360   \n",
       "2      1  [intercept, size_in_m_2, no_of_bedrooms, latit...    2563718320541   \n",
       "3      4  [intercept, size_in_m_2, no_of_bedrooms, latit...    2572226401931   \n",
       "4      0  [intercept, size_in_m_2, no_of_bedrooms, latit...    2562772731258   \n",
       "5      5  [intercept, size_in_m_2, no_of_bedrooms, latit...    2579488352477   \n",
       "6      6           [intercept, size_in_m_2, no_of_bedrooms]    2666941699634   \n",
       "7      7                           [intercept, size_in_m_2]    2936347992629   \n",
       "8      8                                        [intercept]    8482279037222   \n",
       "\n",
       "            AIC           BIC   Adj.R2  \n",
       "0  59852.348316  59885.661739  0.69638  \n",
       "1  59852.522224  59891.387885  0.69652  \n",
       "2  59852.729811  59897.147709  0.69664  \n",
       "3  59853.041370  59880.802556  0.69611  \n",
       "4  59854.027050  59903.997186  0.69660  \n",
       "5  59856.412019  59878.620968  0.69542  \n",
       "6  59917.927231  59934.583943  0.68526  \n",
       "7  60099.253467  60110.357942  0.65364  \n",
       "8  62118.101353  62123.653590 -0.00000  "
      ]
     },
     "execution_count": 332,
     "metadata": {},
     "output_type": "execute_result"
    }
   ],
   "source": [
    "Models"
   ]
  },
  {
   "cell_type": "code",
   "execution_count": 333,
   "metadata": {},
   "outputs": [
    {
     "data": {
      "text/html": [
       "<table border=\"1\" class=\"dataframe table table-striped\">\n",
       "  <thead>\n",
       "    <tr style=\"text-align: right;\">\n",
       "      <th></th>\n",
       "      <th>index</th>\n",
       "      <th>model</th>\n",
       "      <th>train_error_MSE</th>\n",
       "      <th>AIC</th>\n",
       "      <th>BIC</th>\n",
       "      <th>Adj.R2</th>\n",
       "    </tr>\n",
       "  </thead>\n",
       "  <tbody>\n",
       "    <tr>\n",
       "      <th>0</th>\n",
       "      <td>3</td>\n",
       "      <td>[intercept, size_in_m_2, no_of_bedrooms, latitude, longitude, quality_2]</td>\n",
       "      <td>2568592674038</td>\n",
       "      <td>59852.348316</td>\n",
       "      <td>59885.661739</td>\n",
       "      <td>0.69638</td>\n",
       "    </tr>\n",
       "    <tr>\n",
       "      <th>1</th>\n",
       "      <td>2</td>\n",
       "      <td>[intercept, size_in_m_2, no_of_bedrooms, latitude, longitude, quality_2, quality_1]</td>\n",
       "      <td>2566131657360</td>\n",
       "      <td>59852.522224</td>\n",
       "      <td>59891.387885</td>\n",
       "      <td>0.69652</td>\n",
       "    </tr>\n",
       "    <tr>\n",
       "      <th>2</th>\n",
       "      <td>1</td>\n",
       "      <td>[intercept, size_in_m_2, no_of_bedrooms, latitude, longitude, quality_2, quality_1, quality_3]</td>\n",
       "      <td>2563718320541</td>\n",
       "      <td>59852.729811</td>\n",
       "      <td>59897.147709</td>\n",
       "      <td>0.69664</td>\n",
       "    </tr>\n",
       "    <tr>\n",
       "      <th>3</th>\n",
       "      <td>4</td>\n",
       "      <td>[intercept, size_in_m_2, no_of_bedrooms, latitude, longitude]</td>\n",
       "      <td>2572226401931</td>\n",
       "      <td>59853.041370</td>\n",
       "      <td>59880.802556</td>\n",
       "      <td>0.69611</td>\n",
       "    </tr>\n",
       "    <tr>\n",
       "      <th>4</th>\n",
       "      <td>0</td>\n",
       "      <td>[intercept, size_in_m_2, no_of_bedrooms, latitude, longitude, quality_2, quality_1, quality_3, no_of_bathrooms]</td>\n",
       "      <td>2562772731258</td>\n",
       "      <td>59854.027050</td>\n",
       "      <td>59903.997186</td>\n",
       "      <td>0.69660</td>\n",
       "    </tr>\n",
       "    <tr>\n",
       "      <th>5</th>\n",
       "      <td>5</td>\n",
       "      <td>[intercept, size_in_m_2, no_of_bedrooms, latitude]</td>\n",
       "      <td>2579488352477</td>\n",
       "      <td>59856.412019</td>\n",
       "      <td>59878.620968</td>\n",
       "      <td>0.69542</td>\n",
       "    </tr>\n",
       "    <tr>\n",
       "      <th>6</th>\n",
       "      <td>6</td>\n",
       "      <td>[intercept, size_in_m_2, no_of_bedrooms]</td>\n",
       "      <td>2666941699634</td>\n",
       "      <td>59917.927231</td>\n",
       "      <td>59934.583943</td>\n",
       "      <td>0.68526</td>\n",
       "    </tr>\n",
       "    <tr>\n",
       "      <th>7</th>\n",
       "      <td>7</td>\n",
       "      <td>[intercept, size_in_m_2]</td>\n",
       "      <td>2936347992629</td>\n",
       "      <td>60099.253467</td>\n",
       "      <td>60110.357942</td>\n",
       "      <td>0.65364</td>\n",
       "    </tr>\n",
       "    <tr>\n",
       "      <th>8</th>\n",
       "      <td>8</td>\n",
       "      <td>[intercept]</td>\n",
       "      <td>8482279037222</td>\n",
       "      <td>62118.101353</td>\n",
       "      <td>62123.653590</td>\n",
       "      <td>-0.00000</td>\n",
       "    </tr>\n",
       "  </tbody>\n",
       "</table>"
      ],
      "text/plain": [
       "<IPython.core.display.HTML object>"
      ]
     },
     "execution_count": 333,
     "metadata": {},
     "output_type": "execute_result"
    }
   ],
   "source": [
    "from IPython.display import HTML \n",
    "\n",
    "HTML(Models.to_html(classes='table table-striped'))"
   ]
  },
  {
   "cell_type": "markdown",
   "metadata": {},
   "source": []
  },
  {
   "cell_type": "markdown",
   "metadata": {},
   "source": [
    "So, the linear regression model selected with ***backward*** algorithm and the $AIC$ criteria is saved in  `Final_Model`, and it is the same model that is selected with ***best subset*** and ***forward*** algorithms  :\n",
    "\n",
    "$$ price = intercept + size\\_in\\_m\\_2 + longitude + latitude + no\\_of\\_bedrooms + quality\\_2 $$"
   ]
  },
  {
   "cell_type": "markdown",
   "metadata": {},
   "source": []
  },
  {
   "cell_type": "markdown",
   "metadata": {},
   "source": []
  },
  {
   "cell_type": "code",
   "execution_count": 335,
   "metadata": {},
   "outputs": [],
   "source": [
    "Models , Final_Model = backward ( X , y, varchar_process=\"dummy_dropfirst\", criteria=\"none\")"
   ]
  },
  {
   "cell_type": "code",
   "execution_count": 336,
   "metadata": {},
   "outputs": [
    {
     "data": {
      "text/html": [
       "<table border=\"1\" class=\"dataframe table table-striped\">\n",
       "  <thead>\n",
       "    <tr style=\"text-align: right;\">\n",
       "      <th></th>\n",
       "      <th>model</th>\n",
       "      <th>train_error_MSE</th>\n",
       "      <th>AIC</th>\n",
       "      <th>BIC</th>\n",
       "      <th>Adj.R2</th>\n",
       "    </tr>\n",
       "  </thead>\n",
       "  <tbody>\n",
       "    <tr>\n",
       "      <th>0</th>\n",
       "      <td>[intercept, size_in_m_2, no_of_bedrooms, latitude, longitude, quality_2, quality_1, quality_3, no_of_bathrooms]</td>\n",
       "      <td>2562772731258</td>\n",
       "      <td>59854.027050</td>\n",
       "      <td>59903.997186</td>\n",
       "      <td>0.69660</td>\n",
       "    </tr>\n",
       "    <tr>\n",
       "      <th>1</th>\n",
       "      <td>[intercept, size_in_m_2, no_of_bedrooms, latitude, longitude, quality_2, quality_1, quality_3]</td>\n",
       "      <td>2563718320541</td>\n",
       "      <td>59852.729811</td>\n",
       "      <td>59897.147709</td>\n",
       "      <td>0.69664</td>\n",
       "    </tr>\n",
       "    <tr>\n",
       "      <th>2</th>\n",
       "      <td>[intercept, size_in_m_2, no_of_bedrooms, latitude, longitude, quality_2, quality_1]</td>\n",
       "      <td>2566131657360</td>\n",
       "      <td>59852.522224</td>\n",
       "      <td>59891.387885</td>\n",
       "      <td>0.69652</td>\n",
       "    </tr>\n",
       "    <tr>\n",
       "      <th>3</th>\n",
       "      <td>[intercept, size_in_m_2, no_of_bedrooms, latitude, longitude, quality_2]</td>\n",
       "      <td>2568592674038</td>\n",
       "      <td>59852.348316</td>\n",
       "      <td>59885.661739</td>\n",
       "      <td>0.69638</td>\n",
       "    </tr>\n",
       "    <tr>\n",
       "      <th>4</th>\n",
       "      <td>[intercept, size_in_m_2, no_of_bedrooms, latitude, longitude]</td>\n",
       "      <td>2572226401931</td>\n",
       "      <td>59853.041370</td>\n",
       "      <td>59880.802556</td>\n",
       "      <td>0.69611</td>\n",
       "    </tr>\n",
       "    <tr>\n",
       "      <th>5</th>\n",
       "      <td>[intercept, size_in_m_2, no_of_bedrooms, latitude]</td>\n",
       "      <td>2579488352477</td>\n",
       "      <td>59856.412019</td>\n",
       "      <td>59878.620968</td>\n",
       "      <td>0.69542</td>\n",
       "    </tr>\n",
       "    <tr>\n",
       "      <th>6</th>\n",
       "      <td>[intercept, size_in_m_2, no_of_bedrooms]</td>\n",
       "      <td>2666941699634</td>\n",
       "      <td>59917.927231</td>\n",
       "      <td>59934.583943</td>\n",
       "      <td>0.68526</td>\n",
       "    </tr>\n",
       "    <tr>\n",
       "      <th>7</th>\n",
       "      <td>[intercept, size_in_m_2]</td>\n",
       "      <td>2936347992629</td>\n",
       "      <td>60099.253467</td>\n",
       "      <td>60110.357942</td>\n",
       "      <td>0.65364</td>\n",
       "    </tr>\n",
       "    <tr>\n",
       "      <th>8</th>\n",
       "      <td>[intercept]</td>\n",
       "      <td>8482279037222</td>\n",
       "      <td>62118.101353</td>\n",
       "      <td>62123.653590</td>\n",
       "      <td>-0.00000</td>\n",
       "    </tr>\n",
       "  </tbody>\n",
       "</table>"
      ],
      "text/plain": [
       "<IPython.core.display.HTML object>"
      ]
     },
     "execution_count": 336,
     "metadata": {},
     "output_type": "execute_result"
    }
   ],
   "source": [
    "HTML(Models.to_html(classes='table table-striped'))"
   ]
  },
  {
   "cell_type": "code",
   "execution_count": 337,
   "metadata": {},
   "outputs": [
    {
     "data": {
      "text/plain": [
       "'not compute, use some criteria (AIC, BIC, Adj.R2 or train_error_MSE)'"
      ]
     },
     "execution_count": 337,
     "metadata": {},
     "output_type": "execute_result"
    }
   ],
   "source": [
    "Final_Model"
   ]
  },
  {
   "cell_type": "markdown",
   "metadata": {},
   "source": []
  },
  {
   "cell_type": "markdown",
   "metadata": {},
   "source": []
  },
  {
   "cell_type": "markdown",
   "metadata": {},
   "source": [
    "### Backward Selection in `R` <a class=\"anchor\" id=\"28\"></a>"
   ]
  },
  {
   "cell_type": "markdown",
   "metadata": {},
   "source": [
    "We are going to use the `step` function, with which we can do a backward selection based on $AIC$ criteria in `R`"
   ]
  },
  {
   "cell_type": "code",
   "execution_count": 341,
   "metadata": {},
   "outputs": [
    {
     "name": "stdout",
     "output_type": "stream",
     "text": [
      "Start:  AIC=54447.87\n",
      "price ~ size_in_m_2 + longitude + latitude + no_of_bedrooms + \n",
      "    no_of_bathrooms + quality\n",
      "\n",
      "                  Df  Sum of Sq        RSS   AIC\n",
      "- no_of_bathrooms  1 1.8013e+12 4.8839e+15 54447\n",
      "<none>                          4.8821e+15 54448\n",
      "- quality          3 1.6585e+13 4.8987e+15 54448\n",
      "- longitude        1 1.5178e+13 4.8973e+15 54452\n",
      "- latitude         1 1.5788e+14 5.0400e+15 54507\n",
      "- no_of_bedrooms   1 2.6279e+14 5.1449e+15 54546\n",
      "- size_in_m_2      1 6.2511e+15 1.1133e+16 56016\n",
      "\n",
      "Step:  AIC=54446.57\n",
      "price ~ size_in_m_2 + longitude + latitude + no_of_bedrooms + \n",
      "    quality\n",
      "\n",
      "                 Df  Sum of Sq        RSS   AIC\n",
      "<none>                         4.8839e+15 54447\n",
      "- quality         3 1.6208e+13 4.9001e+15 54447\n",
      "- longitude       1 1.5065e+13 4.8989e+15 54450\n",
      "- latitude        1 1.5635e+14 5.0402e+15 54505\n",
      "- no_of_bedrooms  1 5.3313e+14 5.4170e+15 54642\n",
      "- size_in_m_2     1 6.4504e+15 1.1334e+16 56048\n",
      "\n",
      "Call:\n",
      "lm(formula = price ~ size_in_m_2 + longitude + latitude + no_of_bedrooms + \n",
      "    quality, data = data_R)\n",
      "\n",
      "Residuals:\n",
      "      Min        1Q    Median        3Q       Max \n",
      "-13418383   -574312     64228    566609  15408236 \n",
      "\n",
      "Coefficients:\n",
      "                 Estimate Std. Error t value Pr(>|t|)    \n",
      "(Intercept)    -6.140e+07  2.993e+07  -2.051   0.0404 *  \n",
      "size_in_m_2     3.555e+04  7.102e+02  50.055  < 2e-16 ***\n",
      "longitude      -1.671e+06  6.907e+05  -2.419   0.0157 *  \n",
      "latitude        6.072e+06  7.792e+05   7.793 1.07e-14 ***\n",
      "no_of_bedrooms -8.832e+05  6.137e+04 -14.390  < 2e-16 ***\n",
      "quality1        1.402e+05  8.357e+04   1.677   0.0936 .  \n",
      "quality2        3.398e+05  1.551e+05   2.190   0.0286 *  \n",
      "quality3        2.629e+05  1.967e+05   1.336   0.1816    \n",
      "---\n",
      "Signif. codes:  0 '***' 0.001 '**' 0.01 '*' 0.05 '.' 0.1 ' ' 1\n",
      "\n",
      "Residual standard error: 1605000 on 1897 degrees of freedom\n",
      "Multiple R-squared:  0.6978,\tAdjusted R-squared:  0.6966 \n",
      "F-statistic: 625.6 on 7 and 1897 DF,  p-value: < 2.2e-16\n",
      "\n"
     ]
    }
   ],
   "source": [
    "%%R\n",
    "\n",
    "Modelo_Backward <- step( object = lm(price  ~ size_in_m_2  + longitude  + latitude + no_of_bedrooms  + no_of_bathrooms + quality , data = data_R), direction = \"backward\")\n",
    "\n",
    "summary(Modelo_Backward)"
   ]
  },
  {
   "cell_type": "markdown",
   "metadata": {},
   "source": []
  },
  {
   "cell_type": "markdown",
   "metadata": {},
   "source": [
    "Using  `olsrr` package :\n"
   ]
  },
  {
   "cell_type": "code",
   "execution_count": 346,
   "metadata": {},
   "outputs": [
    {
     "name": "stdout",
     "output_type": "stream",
     "text": [
      "Start:  AIC=54447.87\n",
      "price ~ size_in_m_2 + longitude + latitude + no_of_bedrooms + \n",
      "    no_of_bathrooms + quality\n",
      "\n",
      "\n",
      "\n",
      "                                  Elimination Summary                                   \n",
      "---------------------------------------------------------------------------------------\n",
      "        Variable                         Adj.                                              \n",
      "Step        Removed        R-Square    R-Square     C(p)        AIC            RMSE        \n",
      "---------------------------------------------------------------------------------------\n",
      "   1    no_of_bathrooms      0.6978      0.6966    3.6996    59854.7298    1604534.1988    \n",
      "---------------------------------------------------------------------------------------\n"
     ]
    }
   ],
   "source": [
    "%%R \n",
    "\n",
    "model <- step( object = lm(price  ~ size_in_m_2  + longitude  + latitude + no_of_bedrooms  + no_of_bathrooms + quality , data = data_R), direction = \"forward\")\n",
    "\n",
    "ols_step_backward_p(model)"
   ]
  },
  {
   "cell_type": "markdown",
   "metadata": {},
   "source": []
  },
  {
   "cell_type": "markdown",
   "metadata": {},
   "source": []
  },
  {
   "cell_type": "markdown",
   "metadata": {},
   "source": [
    "## Bibliography"
   ]
  },
  {
   "cell_type": "markdown",
   "metadata": {},
   "source": [
    "https://nathancarter.github.io/how2data/site/\n",
    "\n",
    "https://github.com/talhahascelik/python_stepwiseSelection/blob/master/stepwiseSelection.py\n",
    "\n",
    "http://www.science.smith.edu/~jcrouser/SDS293/labs/lab8-py.html\n",
    "\n",
    "https://statweb.stanford.edu/~jtaylo/courses/stats203/notes/selection.pdf\n",
    "\n",
    "https://xavierbourretsicotte.github.io/subset_selection.html#Comparing-models:-AIC,-BIC,-Mallows'CP\n",
    "\n",
    "Linear Models with R. Julian Faraway.\n",
    "\n",
    "Notes from professor Sandra Benitez Peña from UC3M"
   ]
  }
 ],
 "metadata": {
  "kernelspec": {
   "display_name": "Python 3.10.0 64-bit",
   "language": "python",
   "name": "python3"
  },
  "language_info": {
   "codemirror_mode": {
    "name": "ipython",
    "version": 3
   },
   "file_extension": ".py",
   "mimetype": "text/x-python",
   "name": "python",
   "nbconvert_exporter": "python",
   "pygments_lexer": "ipython3",
   "version": "3.10.0"
  },
  "orig_nbformat": 4,
  "vscode": {
   "interpreter": {
    "hash": "c63d8c7d738c2960218a10995aedf0a7f67a49a231e71037adf0440953cdb45b"
   }
  }
 },
 "nbformat": 4,
 "nbformat_minor": 2
}
