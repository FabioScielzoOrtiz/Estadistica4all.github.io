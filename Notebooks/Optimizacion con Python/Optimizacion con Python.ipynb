{
 "cells": [
  {
   "cell_type": "markdown",
   "metadata": {},
   "source": [
    "# Optimización Lineal"
   ]
  },
  {
   "cell_type": "markdown",
   "metadata": {},
   "source": [
    "Un problema de optimizacion lineal en *formato estandar* tiene los siguientes elementos:\n",
    "\n",
    "\n",
    "\n",
    "- Un vector de $h$ variables de decisión:\n",
    "   $$x=(x_1,...,x_h)^t$$\n",
    "\n",
    "- Un vector de $h$ coeficientes de las variables de decision:\n",
    "\n",
    "$$c=(c_1,...,c_h)^t$$\n",
    "\n",
    "- Una funcion objetivo lineal:\n",
    "\n",
    "$$f(x)= c^t \\cdot x = c_1\\cdot x_1 + ... + c_h \\cdot x_h$$\n",
    "\n",
    "- Un sistema de $i$ restricciones de igualdad:\n",
    "\n",
    " $$A_{eq} \\cdot x = b_{eq}$$\n",
    "\n",
    " Donde:\n",
    "\n",
    " $A_{eq}$ es una matriz de coeficientes de tamaño $i$ x $h$\n",
    "\n",
    " $b_{eq}$ es un vector de coeficientes de tamaño $i$ \n",
    "\n",
    "\n",
    " - Un distema de $d$ restricciones de desigualdad\n",
    "\n",
    "$$A_{ineq} \\cdot x \\leq b_{ineq}$$\n",
    "\n",
    "Donde:\n",
    "\n",
    "$A_{ineq}$ es una matriz de coeficientes de tamaño $d$ x $h$\n",
    "\n",
    "$b_{ineq}$ es un vector de coeficientes de tamaño $d$\n",
    "\n",
    "\n",
    "- Un vector de $h$ limites inferiores $l=(l_1,...,l_h)^t$ y otro de $h$ limites superiores $u=(u_1,...,u_h)^t$ para las variables de decision $x=(x_1,...,x_h)^t$"
   ]
  },
  {
   "cell_type": "markdown",
   "metadata": {},
   "source": []
  },
  {
   "cell_type": "markdown",
   "metadata": {},
   "source": [
    "Un problema de optimizacion lineal en **formato estandar** (versión de `scipy`) tiene la siguiente forma simbolica:\n",
    "\n",
    "$$\n",
    "\\underset{x}{Min} \\hspace{0.2cm}\\lbrace\\hspace{0.2cm}  f(x)=c^t \\cdot x  \\hspace{0.2cm}\\rbrace\n",
    "$$\n",
    "$$\n",
    "\\hspace{-0.5cm} \\text{sujeto a:} \\\\[0.2cm]\n",
    "$$\n",
    "\n",
    "\\begin{align*}\n",
    " &\\hspace{1cm} A_{eq}\\cdot x =b_{eq} \\\\[0.1cm]\n",
    "&\\hspace{1cm} A_{ineq} \\cdot x = b_{ineq} \\\\[0.1cm]\n",
    "&\\hspace{1cm} l \\leq x \\leq u\n",
    "\\end{align*}\n"
   ]
  },
  {
   "cell_type": "markdown",
   "metadata": {},
   "source": [
    "Observacion:\n",
    "\n",
    "Este formato estandar es el empleado por la libreria de `Python` que usaremos para resolver estos problemas, denominada `scipy`. Pero e¡no es el formato estandar clásico, aquel en el que se bása el famoso método simplex."
   ]
  },
  {
   "cell_type": "markdown",
   "metadata": {},
   "source": [
    "Ejemplo:\n",
    "\n",
    "$$\n",
    "\\underset{x}{Min} \\hspace{0.2cm}\\lbrace\\hspace{0.2cm}  f(x)= x_1 + 2 x_2 - 5 x_3  \\hspace{0.2cm}\\rbrace\n",
    "$$\n",
    "$$\n",
    "\\hspace{-3cm} \\text{sujeto a:} \\\\[0.2cm]\n",
    "$$\n",
    "\n",
    "\\begin{align*}\n",
    " &\\hspace{1cm} 2x_1 + 6x_2 + x_3 = 0 \\\\[0.1cm]\n",
    "  &\\hspace{1cm} 3x_1 - 2x_3 = -2 \\\\[0.2cm]\n",
    "\n",
    "&\\hspace{1cm}x_1 + 2x_2 + 3x_3 \\leq 8 \\\\[0.1cm]\n",
    "&\\hspace{1cm}5x_2 -7x_3 \\leq 10 \\\\[0.1cm]\n",
    "&\\hspace{1cm}9x_1 + 10x_2 - 3x_3 \\leq -1 \\\\[0.2cm]\n",
    "&\\hspace{1cm} 0 \\leq x_1 \\\\[0.1cm]\n",
    "&\\hspace{1cm} 2 \\leq x_2 \\leq 4 \\\\[0.1cm]\n",
    "&\\hspace{1cm} 7 \\leq x_3 \n",
    "\\end{align*}"
   ]
  },
  {
   "cell_type": "markdown",
   "metadata": {},
   "source": [
    "Por tanto, los elementos de este problema de OL son:\n",
    "\n",
    "$x=(x_1,x_2,x_3)^t$\n",
    "\n",
    "$c=(1,2,-5)^t$\n",
    "\n",
    "$A_{eq} = \\begin{pmatrix}\n",
    "    2 & 6 & 1 \\\\\n",
    "    3 & 0 & -2 \n",
    "    \\end{pmatrix}$\n",
    "\n",
    "$b_{eq}=(0 , -2)^t$\n",
    "\n",
    "$A_{ineq} = \\begin{pmatrix}\n",
    "    1 & 2 & 3 \\\\\n",
    "    0 & 5 & -7 \\\\\n",
    "    9 & 10 & -3  \n",
    "    \\end{pmatrix}$\n",
    "\n",
    "$b_{ineq}=(8 , 10, -1)^t$\n"
   ]
  },
  {
   "cell_type": "markdown",
   "metadata": {},
   "source": []
  },
  {
   "cell_type": "markdown",
   "metadata": {},
   "source": [
    "Conversión de un problema de optimizacion lineal al formato estandar"
   ]
  },
  {
   "cell_type": "markdown",
   "metadata": {},
   "source": [
    "Dado un problema de OL que no esta en formato estandar, como por ejemplo:\n",
    "\n",
    "$$\n",
    "\\underset{x}{Max} \\hspace{0.2cm}\\lbrace\\hspace{0.2cm}  f(x)= 29x_1 + 45 x_2  \\hspace{0.2cm}\\rbrace\n",
    "$$\n",
    "$$\n",
    "\\hspace{-3cm} \\text{sujeto a:} \\\\[0.2cm]\n",
    "$$\n",
    "\n",
    "\\begin{align*}\n",
    " &\\hspace{1cm} 2x_1 + 8x_2 + x_3 = 60 \\\\[0.1cm]\n",
    "  &\\hspace{1cm} 4x_1 + 4x_2 + x_4 = 60 \\\\[0.2cm]\n",
    "\n",
    "&\\hspace{1cm}x_1 - x_2 - 3x_3 \\leq 5 \\\\[0.1cm]\n",
    "&\\hspace{1cm}2x_1 -3x_2 -7x_3 + 3x_4 \\geq 10 \\\\[0.1cm]\n",
    "&\\hspace{1cm} 0 \\leq x_1 \\leq 5  \\\\[0.1cm]\n",
    "&\\hspace{1cm} x_2 \\leq 0.5  \\\\[0.1cm]\n",
    "&\\hspace{1cm} -3\\leq x_3  \\\\[0.1cm]\n",
    "&\\hspace{1cm} 0 \\leq x_4\n",
    "\\end{align*}"
   ]
  },
  {
   "cell_type": "markdown",
   "metadata": {},
   "source": [
    "Lo podemos convertir al formato estandar a traves de las siguientes operaciones:"
   ]
  }
 ],
 "metadata": {
  "kernelspec": {
   "display_name": "Python 3.10.0 64-bit",
   "language": "python",
   "name": "python3"
  },
  "language_info": {
   "name": "python",
   "version": "3.10.0"
  },
  "orig_nbformat": 4,
  "vscode": {
   "interpreter": {
    "hash": "c63d8c7d738c2960218a10995aedf0a7f67a49a231e71037adf0440953cdb45b"
   }
  }
 },
 "nbformat": 4,
 "nbformat_minor": 2
}
