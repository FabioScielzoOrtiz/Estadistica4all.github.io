{
 "cells": [
  {
   "cell_type": "markdown",
   "metadata": {},
   "source": [
    "# Optimización Lineal"
   ]
  },
  {
   "cell_type": "markdown",
   "metadata": {},
   "source": [
    "Un problema de optimizacion lineal en *formato estandar* tiene los siguientes elementos:\n",
    "\n",
    "- Un vector de $h$ variables de decisión:\n",
    "   $$x=(x_1,...,x_h)^t$$\n",
    "\n",
    "- Un vector de $h$ coeficientes de las variables de decision:\n",
    "\n",
    "$$c=(c_1,...,c_h)^t$$\n",
    "\n",
    "- Un sistema de $i$ restricciones de igualdad:\n",
    "\n",
    " $$A_{eq} \\cdot x = b_{eq}$$\n",
    "\n",
    " Donde:\n",
    "\n",
    " $A_{eq}$ es una matriz de coeficientes de tamaño $i$ x $h$\n",
    "\n",
    " $b_{eq}$ es un vector de coeficientes de tamaño $i$ \n",
    "\n",
    "\n",
    " - Un distema de $d$ restricciones de desigualdad\n",
    "\n",
    "$$A_{ineq} \\cdot x \\leq b_{ineq}$$\n",
    "\n",
    "Donde:\n",
    "\n",
    "$A_{ineq}$ es una matriz de coeficientes de tamaño $d$ x $h$\n",
    "\n",
    "$b_{ineq}$ es un vector de coeficientes de tamaño $d$\n",
    "\n",
    "\n",
    "- Un vector de $h$ limites inferiores $l=(l_1,...,l_h)^t$ y otro de $h$ limites superiores $u=(u_1,...,u_h)^t$ para las variables de decision $x=(x_1,...,x_h)^t$"
   ]
  },
  {
   "cell_type": "markdown",
   "metadata": {},
   "source": []
  },
  {
   "cell_type": "markdown",
   "metadata": {},
   "source": [
    "Un problema de optimizacion lineal en **formato estandar** tiene la siguiente forma simbolica:\n",
    "\n",
    "$$\n",
    "\\underset{x}{Min} \\hspace{0.2cm}\\lbrace\\hspace{0.2cm}  c^t \\cdot x  \\hspace{0.2cm}\\rbrace\n",
    "$$\n",
    "$$\n",
    "\\hspace{-0.5cm} \\text{sujeto a:} \\\\[0.2cm]\n",
    "$$\n",
    "\n",
    "\\begin{align*}\n",
    " &\\hspace{1cm} A_{eq}\\cdot x =b_{eq} \\\\[0.1cm]\n",
    "&\\hspace{1cm} A_{ineq} \\cdot x = b_{ineq} \\\\[0.1cm]\n",
    "&\\hspace{1cm} l \\leq x \\leq u\n",
    "\\end{align*}\n"
   ]
  },
  {
   "cell_type": "markdown",
   "metadata": {},
   "source": []
  }
 ],
 "metadata": {
  "language_info": {
   "name": "python"
  },
  "orig_nbformat": 4
 },
 "nbformat": 4,
 "nbformat_minor": 2
}
