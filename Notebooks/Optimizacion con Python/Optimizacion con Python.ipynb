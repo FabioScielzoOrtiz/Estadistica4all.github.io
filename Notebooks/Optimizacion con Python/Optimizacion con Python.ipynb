{
 "cells": [
  {
   "cell_type": "markdown",
   "metadata": {},
   "source": [
    "Conceptos preliminares:\n",
    "\n",
    "Optimos locales\n",
    "\n",
    "Optimos Globales\n",
    "\n",
    "Funcion objetivo \n",
    "\n",
    "Restricciones\n",
    "\n",
    "Problema general\n",
    "\n",
    "Conjunto factible"
   ]
  },
  {
   "cell_type": "markdown",
   "metadata": {},
   "source": [
    "# Optimización Lineal"
   ]
  },
  {
   "cell_type": "markdown",
   "metadata": {},
   "source": [
    "Un problema de optimizacion lineal en *formato estandar* tiene los siguientes elementos:\n",
    "\n",
    "\n",
    "\n",
    "- Un vector de $h$ variables de decisión:\n",
    "   $$x=(x_1,...,x_h)^t$$\n",
    "\n",
    "- Un vector de $h$ coeficientes de las variables de decision:\n",
    "\n",
    "$$c=(c_1,...,c_h)^t$$\n",
    "\n",
    "- Una funcion objetivo lineal:\n",
    "\n",
    "$$f(x)= c^t \\cdot x = c_1\\cdot x_1 + ... + c_h \\cdot x_h$$\n",
    "\n",
    "- Un sistema de $i$ restricciones de igualdad:\n",
    "\n",
    " $$A_{eq} \\cdot x = b_{eq}$$\n",
    "\n",
    " Donde:\n",
    "\n",
    " $A_{eq}$ es una matriz de coeficientes de tamaño $i$ x $h$\n",
    "\n",
    " $b_{eq}$ es un vector de coeficientes de tamaño $i$ \n",
    "\n",
    "\n",
    " - Un distema de $d$ restricciones de desigualdad\n",
    "\n",
    "$$A_{ineq} \\cdot x \\leq b_{ineq}$$\n",
    "\n",
    "Donde:\n",
    "\n",
    "$A_{ineq}$ es una matriz de coeficientes de tamaño $d$ x $h$\n",
    "\n",
    "$b_{ineq}$ es un vector de coeficientes de tamaño $d$\n",
    "\n",
    "\n",
    "- Un vector de $h$ limites inferiores $l=(l_1,...,l_h)^t$ y otro de $h$ limites superiores $u=(u_1,...,u_h)^t$ para las variables de decision $x=(x_1,...,x_h)^t$"
   ]
  },
  {
   "cell_type": "markdown",
   "metadata": {},
   "source": []
  },
  {
   "cell_type": "markdown",
   "metadata": {},
   "source": [
    "Un problema de optimizacion lineal en **formato estandar** (versión de `scipy`) tiene la siguiente forma simbolica:\n",
    "\n",
    "$$\n",
    "\\underset{x}{Min} \\hspace{0.2cm}\\lbrace\\hspace{0.2cm}  f(x)=c^t \\cdot x  \\hspace{0.2cm}\\rbrace\n",
    "$$\n",
    "$$\n",
    "\\hspace{-0.5cm} \\text{sujeto a:} \\\\[0.2cm]\n",
    "$$\n",
    "\n",
    "\\begin{align*}\n",
    " &\\hspace{1cm} A_{eq}\\cdot x =b_{eq} \\\\[0.1cm]\n",
    "&\\hspace{1cm} A_{ineq} \\cdot x = b_{ineq} \\\\[0.1cm]\n",
    "&\\hspace{1cm} l \\leq x \\leq u\n",
    "\\end{align*}\n"
   ]
  },
  {
   "cell_type": "markdown",
   "metadata": {},
   "source": [
    "Observacion:\n",
    "\n",
    "Este formato estandar es el empleado por la libreria de `Python` que usaremos para resolver estos problemas, denominada `scipy`. Pero e¡no es el formato estandar clásico, aquel en el que se bása el famoso método simplex."
   ]
  },
  {
   "cell_type": "markdown",
   "metadata": {},
   "source": [
    "Ejemplo:\n",
    "\n",
    "$$\n",
    "\\underset{x}{Min} \\hspace{0.2cm}\\lbrace\\hspace{0.2cm}  f(x)= x_1 + 2 x_2 - 5 x_3  \\hspace{0.2cm}\\rbrace\n",
    "$$\n",
    "$$\n",
    "\\hspace{-3cm} \\text{sujeto a:} \\\\[0.2cm]\n",
    "$$\n",
    "\n",
    "\\begin{align*}\n",
    " &\\hspace{1cm} 2x_1 + 6x_2 + x_3 = 0 \\\\[0.1cm]\n",
    "  &\\hspace{1cm} 3x_1 - 2x_3 = -2 \\\\[0.2cm]\n",
    "\n",
    "&\\hspace{1cm}x_1 + 2x_2 + 3x_3 \\leq 8 \\\\[0.1cm]\n",
    "&\\hspace{1cm}5x_2 -7x_3 \\leq 10 \\\\[0.1cm]\n",
    "&\\hspace{1cm}9x_1 + 10x_2 - 3x_3 \\leq -1 \\\\[0.2cm]\n",
    "&\\hspace{1cm} 0 \\leq x_1 \\\\[0.1cm]\n",
    "&\\hspace{1cm} 2 \\leq x_2 \\leq 4 \\\\[0.1cm]\n",
    "&\\hspace{1cm} 7 \\leq x_3 \n",
    "\\end{align*}"
   ]
  },
  {
   "cell_type": "markdown",
   "metadata": {},
   "source": [
    "Por tanto, los elementos de este problema de OL son:\n",
    "\n",
    "$x=(x_1,x_2,x_3)^t$\n",
    "\n",
    "$c=(1,2,-5)^t$\n",
    "\n",
    "$A_{eq} = \\begin{pmatrix}\n",
    "    2 & 6 & 1 \\\\\n",
    "    3 & 0 & -2 \n",
    "    \\end{pmatrix}$\n",
    "\n",
    "$b_{eq}=(0 , -2)^t$\n",
    "\n",
    "$A_{ineq} = \\begin{pmatrix}\n",
    "    1 & 2 & 3 \\\\\n",
    "    0 & 5 & -7 \\\\\n",
    "    9 & 10 & -3  \n",
    "    \\end{pmatrix}$\n",
    "\n",
    "$b_{ineq}=(8 , 10, -1)^t$\n"
   ]
  },
  {
   "cell_type": "markdown",
   "metadata": {},
   "source": []
  },
  {
   "cell_type": "markdown",
   "metadata": {},
   "source": [
    "Conversión de un problema de optimizacion lineal al formato estandar"
   ]
  },
  {
   "cell_type": "markdown",
   "metadata": {},
   "source": [
    "Dado un problema de OL que no esta en formato estandar, como por ejemplo:\n",
    "\n",
    "$$\n",
    "\\underset{x}{Max} \\hspace{0.2cm}\\lbrace\\hspace{0.2cm}  f(x)= 29x_1 + 45 x_2  \\hspace{0.2cm}\\rbrace\n",
    "$$\n",
    "$$\n",
    "\\hspace{-3cm} \\text{sujeto a:} \\\\[0.2cm]\n",
    "$$\n",
    "\n",
    "\\begin{align*}\n",
    " &\\hspace{1cm} 2x_1 + 8x_2 + x_3 = 60 \\\\[0.1cm]\n",
    "  &\\hspace{1cm} 4x_1 + 4x_2 + x_4 = 60 \\\\[0.2cm]\n",
    "\n",
    "&\\hspace{1cm}x_1 - x_2 - 3x_3 \\leq 5 \\\\[0.1cm]\n",
    "&\\hspace{1cm}2x_1 -3x_2 -7x_3 + 3x_4 \\geq 10 \\\\[0.2cm]\n",
    "\n",
    "&\\hspace{1cm} 0 \\leq x_1   \\\\[0.1cm]\n",
    "&\\hspace{1cm} 0 \\leq x_2 \\leq 6  \\\\[0.1cm]\n",
    "&\\hspace{1cm} x_3 \\leq 0.5 \\\\[0.1cm]\n",
    "&\\hspace{1cm} -3 \\leq x_4\n",
    "\\end{align*}"
   ]
  },
  {
   "cell_type": "markdown",
   "metadata": {},
   "source": [
    "Lo podemos convertir al formato estandar a traves de las siguientes operaciones:"
   ]
  },
  {
   "cell_type": "markdown",
   "metadata": {},
   "source": [
    "- Pasar el problema de maximizar a minimizar:\n",
    "\n",
    "$$\n",
    "\\underset{x}{Max} \\hspace{0.2cm}\\lbrace\\hspace{0.2cm}  f(x)= 29x_1 + 45 x_2  \\hspace{0.2cm}\\rbrace = \\underset{x}{Min} \\hspace{0.2cm}\\lbrace\\hspace{0.2cm} - f(x)= -29x_1 - 45 x_2  \\hspace{0.2cm}\\rbrace\n",
    "$$\n",
    "\n",
    "- Añadir las variables faltantes a la función  objetivo:\n",
    "\n",
    "\n",
    "$$\\underset{x}{Min} \\hspace{0.2cm}\\lbrace\\hspace{0.2cm} - f(x)= -29x_1 - 45 x_2 + 0\\cdot x_3 + 0\\cdot x_4  \\hspace{0.2cm}\\rbrace$$\n",
    "\n",
    "- Convertir las restricciones de $\\geq$ en $\\leq$\n",
    "\n",
    "$$2x_1 -3x_2 -7x_3 + 3x_4 \\geq 10 \\hspace{0.2cm} \\Leftrightarrow\\hspace{0.2cm} -2x_1 +3x_2 +7x_3 - 3x_4 \\leq -10$$\n",
    "\n",
    "- Obtenemos los elementos del problema estandar:\n",
    "\n",
    "$$x=(x_1,x_2,x_3,x_4)^t$$\n",
    "\n",
    "$$c=(-29,-45,0,0)^t$$\n",
    "\n",
    "$$A_{eq}= \\begin{pmatrix}\n",
    "    2 & 8 & 1 & 0\\\\\n",
    "    4 & 4 & 0 & 1 \n",
    "    \\end{pmatrix}$$\n",
    "\n",
    "$$b_{eq}=\\begin{pmatrix}\n",
    "    60 \\\\\n",
    "    60 \n",
    "    \\end{pmatrix}$$\n",
    "\n",
    "$$A_{ineq} = \\begin{pmatrix}\n",
    "    1 & -1 & -3 & 0\\\\\n",
    "    -2 & 3 & 7 & -3 \n",
    "    \\end{pmatrix}$$\n",
    "\n",
    "$$b_{ineq} = \\begin{pmatrix}\n",
    "    5 \\\\\n",
    "    -10 \n",
    "    \\end{pmatrix}$$"
   ]
  },
  {
   "cell_type": "markdown",
   "metadata": {},
   "source": []
  },
  {
   "cell_type": "markdown",
   "metadata": {},
   "source": [
    "Por tanto, el problema expresado en formato estandar es:\n",
    "\n",
    "$$\n",
    "\\underset{x}{Min} \\hspace{0.2cm}\\lbrace\\hspace{0.2cm}  -f(x)= -29x_1  -45 x_2 + 0 x_3 + 0 x_4  \\hspace{0.2cm}\\rbrace\n",
    "$$\n",
    "$$\n",
    "\\hspace{-3cm} \\text{sujeto a:} \\\\[0.2cm]\n",
    "$$\n",
    "\n",
    "\\begin{align*}\n",
    " &\\hspace{1cm} 2x_1 + 8x_2 + x_3 = 60 \\\\[0.1cm]\n",
    "  &\\hspace{1cm} 4x_1 + 4x_2 + x_4 = 60 \\\\[0.2cm]\n",
    "\n",
    "&\\hspace{1cm}x_1 - x_2 - 3x_3 \\leq 5 \\\\[0.1cm]\n",
    "&\\hspace{1cm}-2x_1 +3x_2 +7x_3 - 3x_4 \\leq -10 \\\\[0.2cm]\n",
    "\n",
    "&\\hspace{1cm} 0 \\leq x_1   \\\\[0.1cm]\n",
    "&\\hspace{1cm} 0 \\leq x_2 \\leq 6  \\\\[0.1cm]\n",
    "&\\hspace{1cm} x_3 \\leq 0.5 \\\\[0.1cm]\n",
    "&\\hspace{1cm} -3 \\leq x_4\n",
    "\\end{align*}"
   ]
  },
  {
   "cell_type": "code",
   "execution_count": 2,
   "metadata": {},
   "outputs": [],
   "source": [
    "import numpy as np\n",
    "from scipy.optimize import linprog"
   ]
  },
  {
   "cell_type": "code",
   "execution_count": 9,
   "metadata": {},
   "outputs": [
    {
     "name": "stdout",
     "output_type": "stream",
     "text": [
      "           con: array([0., 0.])\n",
      " crossover_nit: 0\n",
      "         eqlin:  marginals: array([-2.88717949, -5.41538462])\n",
      "  residual: array([0., 0.])\n",
      "           fun: -505.974358974359\n",
      "       ineqlin:  marginals: array([-5.17435897, -1.80512821])\n",
      "  residual: array([0., 0.])\n",
      "         lower:  marginals: array([0., 0., 0., 0.])\n",
      "  residual: array([9.41025641, 5.17948718,        inf, 4.64102564])\n",
      "       message: 'Optimization terminated successfully. (HiGHS Status 7: Optimal)'\n",
      "           nit: 3\n",
      "         slack: array([0., 0.])\n",
      "        status: 0\n",
      "       success: True\n",
      "         upper:  marginals: array([0., 0., 0., 0.])\n",
      "  residual: array([       inf, 0.82051282, 0.75641026,        inf])\n",
      "             x: array([ 9.41025641,  5.17948718, -0.25641026,  1.64102564])\n"
     ]
    }
   ],
   "source": [
    "c = np.array([-29.0, -45.0, 0.0, 0.0])\n",
    "\n",
    "A_ineq = np.array([[1.0, -1.0, -3.0, 0.0],\n",
    "                [-2.0, 3.0, 7.0, -3.0]])\n",
    "\n",
    "b_ineq = np.array([5.0, -10.0])\n",
    "\n",
    "A_eq = np.array([[2.0, 8.0, 1.0, 0.0],\n",
    "                [4.0, 4.0, 0.0, 1.0]])\n",
    "\n",
    "b_eq = np.array([60.0, 60.0])\n",
    "\n",
    "x1_bounds = (0, None)\n",
    "x2_bounds = (0, 6)\n",
    "x3_bounds = (-np.inf, 0.5)  # +/- np.inf can be used instead of None\n",
    "x4_bounds = (-3.0, None)\n",
    "\n",
    "bounds = [x1_bounds, x2_bounds, x3_bounds, x4_bounds]\n",
    "result = linprog(c, A_ub=A_ineq, b_ub=b_ineq, A_eq=A_eq, b_eq=b_eq, bounds=bounds)\n",
    "\n",
    "print(result)"
   ]
  },
  {
   "cell_type": "markdown",
   "metadata": {},
   "source": []
  },
  {
   "cell_type": "markdown",
   "metadata": {},
   "source": [
    "x: array([ 9.41025641,  5.17948718, -0.25641026,  1.64102564]) is the values of the decision variables that minimizes the objective function while satisfying the constraints."
   ]
  },
  {
   "cell_type": "markdown",
   "metadata": {},
   "source": [
    " fun: -505.974358974359 is the optimal value of the objective function c @ x"
   ]
  },
  {
   "cell_type": "code",
   "execution_count": 13,
   "metadata": {},
   "outputs": [
    {
     "data": {
      "text/plain": [
       "-505.974358974359"
      ]
     },
     "execution_count": 13,
     "metadata": {},
     "output_type": "execute_result"
    }
   ],
   "source": [
    "c @ result.x "
   ]
  },
  {
   "cell_type": "markdown",
   "metadata": {},
   "source": [
    "Si el problema no tiene solución esto nos saldrá como resultado. Por ejemplo, si al problema anterior cambiamos la restriccion $ 0 \\leq x_2 \\leq 6$ por  $0 \\leq x_2 \\leq 5$ , el problema no tiene solución:"
   ]
  },
  {
   "cell_type": "code",
   "execution_count": 14,
   "metadata": {},
   "outputs": [
    {
     "name": "stdout",
     "output_type": "stream",
     "text": [
      "           con: None\n",
      " crossover_nit: 0\n",
      "         eqlin:  marginals: None\n",
      "  residual: None\n",
      "           fun: None\n",
      "       ineqlin:  marginals: None\n",
      "  residual: None\n",
      "         lower:  marginals: None\n",
      "  residual: None\n",
      "       message: \"The problem is infeasible. (HiGHS Status 8: model_status is Infeasible; primal_status is b'At lower/fixed bound')\"\n",
      "           nit: 3\n",
      "         slack: None\n",
      "        status: 2\n",
      "       success: False\n",
      "         upper:  marginals: None\n",
      "  residual: None\n",
      "             x: None\n"
     ]
    }
   ],
   "source": [
    "c = np.array([-29.0, -45.0, 0.0, 0.0])\n",
    "\n",
    "A_ineq = np.array([[1.0, -1.0, -3.0, 0.0],\n",
    "                [-2.0, 3.0, 7.0, -3.0]])\n",
    "\n",
    "b_ineq = np.array([5.0, -10.0])\n",
    "\n",
    "A_eq = np.array([[2.0, 8.0, 1.0, 0.0],\n",
    "                [4.0, 4.0, 0.0, 1.0]])\n",
    "\n",
    "b_eq = np.array([60.0, 60.0])\n",
    "\n",
    "x1_bounds = (0, None)\n",
    "x2_bounds = (0, 5)\n",
    "x3_bounds = (-np.inf, 0.5)  # +/- np.inf can be used instead of None\n",
    "x4_bounds = (-3.0, None)\n",
    "\n",
    "bounds = [x1_bounds, x2_bounds, x3_bounds, x4_bounds]\n",
    "result = linprog(c, A_ub=A_ineq, b_ub=b_ineq, A_eq=A_eq, b_eq=b_eq, bounds=bounds)\n",
    "\n",
    "print(result)"
   ]
  },
  {
   "cell_type": "markdown",
   "metadata": {},
   "source": []
  },
  {
   "cell_type": "markdown",
   "metadata": {},
   "source": []
  }
 ],
 "metadata": {
  "kernelspec": {
   "display_name": "Python 3.10.0 64-bit",
   "language": "python",
   "name": "python3"
  },
  "language_info": {
   "codemirror_mode": {
    "name": "ipython",
    "version": 3
   },
   "file_extension": ".py",
   "mimetype": "text/x-python",
   "name": "python",
   "nbconvert_exporter": "python",
   "pygments_lexer": "ipython3",
   "version": "3.10.0"
  },
  "orig_nbformat": 4,
  "vscode": {
   "interpreter": {
    "hash": "c63d8c7d738c2960218a10995aedf0a7f67a49a231e71037adf0440953cdb45b"
   }
  }
 },
 "nbformat": 4,
 "nbformat_minor": 2
}
