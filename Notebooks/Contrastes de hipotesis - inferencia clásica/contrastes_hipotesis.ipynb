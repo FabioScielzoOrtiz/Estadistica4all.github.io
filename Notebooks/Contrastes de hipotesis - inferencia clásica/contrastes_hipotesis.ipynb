{
 "cells": [
  {
   "cell_type": "code",
   "execution_count": 2,
   "metadata": {},
   "outputs": [],
   "source": [
    "import numpy as np\n",
    "import pandas as pd\n",
    "import scipy"
   ]
  },
  {
   "cell_type": "code",
   "execution_count": 3,
   "metadata": {},
   "outputs": [],
   "source": [
    "Data = pd.read_csv('House_Price_Regression.csv')"
   ]
  },
  {
   "cell_type": "markdown",
   "metadata": {},
   "source": []
  },
  {
   "cell_type": "code",
   "execution_count": 4,
   "metadata": {},
   "outputs": [],
   "source": [
    "def t_test_mean(Variable, mean_0, H1_type, alpha):\n",
    "\n",
    "    n = len(Variable)\n",
    "\n",
    "    statistic = (Variable.mean() - mean_0 )/np.sqrt(np.std(Variable)**2 / n)\n",
    "\n",
    "    #############################################################\n",
    "\n",
    "    if H1_type == 'greater':  \n",
    "        \n",
    "        pvalue = 1 - scipy.stats.t.cdf( statistic , df=n-1)\n",
    "\n",
    "        if pvalue <= alpha : \n",
    "            \n",
    "            result = 'Reject H0: mean = mean_0  in favor of  H1: mean > mean_0  -->  Accept H1: mean > mean_0'\n",
    "\n",
    "        else : \n",
    "            \n",
    "            result = 'Not Reject H0: mean = mean_0  in favor of  H1: mean > mean_0  -->  Not Accept H1: mean > mean_0'\n",
    "\n",
    "\n",
    "    if H1_type == 'less':\n",
    "        \n",
    "        pvalue = scipy.stats.t.cdf( statistic , df=n-1)\n",
    "\n",
    "        if pvalue <= alpha : \n",
    "            \n",
    "            result = 'Reject H0: mean = mean_0  in favor of  H1: mean < mean_0  -->  Accept H1: mean < mean_0'\n",
    "\n",
    "        else : \n",
    "            \n",
    "            result = 'Not Reject H0: mean = mean_0  in favor of  H1: mean < mean_0  -->  Not Accept H1: mean < mean_0'\n",
    "\n",
    "\n",
    "    if H1_type == 'two.sided':\n",
    "        \n",
    "        pvalue = 2*( 1 - scipy.stats.t.cdf( abs(statistic) , df=n-1) )\n",
    "\n",
    "        if pvalue <= alpha : \n",
    "            \n",
    "            result = 'Reject H0: mean = mean_0  in favor of  H1: mean =/= mean_0  -->  Accept H1: mean =/= mean_0'\n",
    "\n",
    "        else : \n",
    "            \n",
    "            result = 'Not Reject H0: mean = mean_0  in favor of  H1: mean =/= mean_0  -->  Not Accept H1: mean =/= mean_0'\n",
    "\n",
    "    #############################################################\n",
    "\n",
    "    return pvalue , result"
   ]
  },
  {
   "cell_type": "code",
   "execution_count": 5,
   "metadata": {},
   "outputs": [
    {
     "ename": "NameError",
     "evalue": "name 'Price' is not defined",
     "output_type": "error",
     "traceback": [
      "\u001b[1;31m---------------------------------------------------------------------------\u001b[0m",
      "\u001b[1;31mNameError\u001b[0m                                 Traceback (most recent call last)",
      "\u001b[1;32mc:\\Users\\Usuario\\Documents\\fabio\\Fabio\\Estadistica4all.github.io\\Notebooks\\Contrastes de hipotesis - inferencia clásica\\contrastes_hipotesis.ipynb Cell 5\u001b[0m in \u001b[0;36m<cell line: 1>\u001b[1;34m()\u001b[0m\n\u001b[1;32m----> <a href='vscode-notebook-cell:/c%3A/Users/Usuario/Documents/fabio/Fabio/Estadistica4all.github.io/Notebooks/Contrastes%20de%20hipotesis%20-%20inferencia%20cl%C3%A1sica/contrastes_hipotesis.ipynb#W4sZmlsZQ%3D%3D?line=0'>1</a>\u001b[0m pvalue , resultado \u001b[39m=\u001b[39m t_test_mean(Variable\u001b[39m=\u001b[39mPrice, mean_0\u001b[39m=\u001b[39m\u001b[39m1000000\u001b[39m, H1_type\u001b[39m=\u001b[39m\u001b[39m'\u001b[39m\u001b[39mgreater\u001b[39m\u001b[39m'\u001b[39m , alpha\u001b[39m=\u001b[39m\u001b[39m0.05\u001b[39m)\n",
      "\u001b[1;31mNameError\u001b[0m: name 'Price' is not defined"
     ]
    }
   ],
   "source": [
    "pvalue , resultado = t_test_mean(Variable=Price, mean_0=1000000, H1_type='greater' , alpha=0.05)"
   ]
  },
  {
   "cell_type": "code",
   "execution_count": null,
   "metadata": {},
   "outputs": [
    {
     "data": {
      "text/plain": [
       "0.0"
      ]
     },
     "execution_count": 43,
     "metadata": {},
     "output_type": "execute_result"
    }
   ],
   "source": [
    "pvalue"
   ]
  },
  {
   "cell_type": "code",
   "execution_count": null,
   "metadata": {},
   "outputs": [
    {
     "data": {
      "text/plain": [
       "'Reject H0: mean = mean_0  in favor of  H1: mean > mean_0  -->  Accept H1: mean > mean_0'"
      ]
     },
     "execution_count": 44,
     "metadata": {},
     "output_type": "execute_result"
    }
   ],
   "source": [
    "resultado"
   ]
  },
  {
   "cell_type": "code",
   "execution_count": null,
   "metadata": {},
   "outputs": [],
   "source": [
    "pvalue , resultado = t_test_mean(Variable=Price, mean_0=1000000, H1_type='less' , alpha=0.05)"
   ]
  },
  {
   "cell_type": "code",
   "execution_count": null,
   "metadata": {},
   "outputs": [
    {
     "data": {
      "text/plain": [
       "1.0"
      ]
     },
     "execution_count": 46,
     "metadata": {},
     "output_type": "execute_result"
    }
   ],
   "source": [
    "pvalue"
   ]
  },
  {
   "cell_type": "code",
   "execution_count": null,
   "metadata": {},
   "outputs": [
    {
     "data": {
      "text/plain": [
       "'Not Reject H0: mean = mean_0  in favor of  H1: mean < mean_0  -->  Not Accept H1: mean < mean_0'"
      ]
     },
     "execution_count": 47,
     "metadata": {},
     "output_type": "execute_result"
    }
   ],
   "source": [
    "resultado"
   ]
  },
  {
   "cell_type": "code",
   "execution_count": null,
   "metadata": {},
   "outputs": [],
   "source": [
    "pvalue , resultado = t_test_mean(Variable=Price, mean_0=1000000, H1_type='two.sided' , alpha=0.05)"
   ]
  },
  {
   "cell_type": "code",
   "execution_count": null,
   "metadata": {},
   "outputs": [
    {
     "data": {
      "text/plain": [
       "0.0"
      ]
     },
     "execution_count": 49,
     "metadata": {},
     "output_type": "execute_result"
    }
   ],
   "source": [
    "pvalue"
   ]
  },
  {
   "cell_type": "code",
   "execution_count": null,
   "metadata": {},
   "outputs": [
    {
     "data": {
      "text/plain": [
       "'Reject H0: mean = mean_0  in favor of  H1: mean =/= mean_0  -->  Accept H1: mean =/= mean_0'"
      ]
     },
     "execution_count": 50,
     "metadata": {},
     "output_type": "execute_result"
    }
   ],
   "source": [
    "resultado"
   ]
  },
  {
   "cell_type": "markdown",
   "metadata": {},
   "source": []
  },
  {
   "cell_type": "markdown",
   "metadata": {},
   "source": []
  },
  {
   "cell_type": "code",
   "execution_count": null,
   "metadata": {},
   "outputs": [],
   "source": [
    "def z_test_mean(Variable, mean_0, H1_type, alpha):\n",
    "\n",
    "    n = len(Variable)\n",
    "\n",
    "    statistic = (Variable.mean() - mean_0 )/np.sqrt(np.std(Variable)**2 / n)\n",
    "\n",
    "    #############################################################\n",
    "\n",
    "    if H1_type == 'greater':  \n",
    "        \n",
    "        pvalue = 1 - scipy.stats.norm.cdf(statistic, loc=0, scale=1)\n",
    "\n",
    "        if pvalue <= alpha : \n",
    "            \n",
    "            result = 'Reject H0: mean = mean_0  in favor of  H1: mean > mean_0  -->  Accept H1: mean > mean_0'\n",
    "\n",
    "        else : \n",
    "            \n",
    "            result = 'Not Reject H0: mean = mean_0  in favor of  H1: mean > mean_0  -->  Not Accept H1: mean > mean_0'\n",
    "\n",
    "\n",
    "    if H1_type == 'less':\n",
    "        \n",
    "        pvalue = scipy.stats.norm.cdf(statistic, loc=0, scale=1)\n",
    "\n",
    "        if pvalue <= alpha : \n",
    "            \n",
    "            result = 'Reject H0: mean = mean_0  in favor of  H1: mean < mean_0  -->  Accept H1: mean < mean_0'\n",
    "\n",
    "        else : \n",
    "            \n",
    "            result = 'Not Reject H0: mean = mean_0  in favor of  H1: mean < mean_0  -->  Not Accept H1: mean < mean_0'\n",
    "\n",
    "\n",
    "    if H1_type == 'two.sided':\n",
    "        \n",
    "        pvalue = 2*( 1 - scipy.stats.norm.cdf(abs(statistic), loc=0, scale=1) )\n",
    "\n",
    "        if pvalue <= alpha : \n",
    "            \n",
    "            result = 'Reject H0: mean = mean_0  in favor of  H1: mean =/= mean_0  -->  Accept H1: mean =/= mean_0'\n",
    "\n",
    "        else : \n",
    "            \n",
    "            result = 'Not Reject H0: mean = mean_0  in favor of  H1: mean =/= mean_0  -->  Not Accept H1: mean =/= mean_0'\n",
    "\n",
    "    #############################################################\n",
    "\n",
    "    return pvalue , result"
   ]
  },
  {
   "cell_type": "code",
   "execution_count": null,
   "metadata": {},
   "outputs": [],
   "source": [
    "pvalue , resultado = z_test_mean(Variable=Price, mean_0=1000000, H1_type='greater', alpha=0.05)"
   ]
  },
  {
   "cell_type": "code",
   "execution_count": null,
   "metadata": {},
   "outputs": [
    {
     "data": {
      "text/plain": [
       "0.0"
      ]
     },
     "execution_count": 56,
     "metadata": {},
     "output_type": "execute_result"
    }
   ],
   "source": [
    "pvalue"
   ]
  },
  {
   "cell_type": "code",
   "execution_count": null,
   "metadata": {},
   "outputs": [
    {
     "data": {
      "text/plain": [
       "'Reject H0: mean = mean_0  in favor of  H1: mean > mean_0  -->  Accept H1: mean > mean_0'"
      ]
     },
     "execution_count": 57,
     "metadata": {},
     "output_type": "execute_result"
    }
   ],
   "source": [
    "resultado"
   ]
  },
  {
   "cell_type": "code",
   "execution_count": null,
   "metadata": {},
   "outputs": [],
   "source": [
    "pvalue , resultado = z_test_mean(Variable=Price, mean_0=1000000, H1_type='less', alpha=0.05)"
   ]
  },
  {
   "cell_type": "code",
   "execution_count": null,
   "metadata": {},
   "outputs": [
    {
     "data": {
      "text/plain": [
       "1.0"
      ]
     },
     "execution_count": 59,
     "metadata": {},
     "output_type": "execute_result"
    }
   ],
   "source": [
    "pvalue"
   ]
  },
  {
   "cell_type": "code",
   "execution_count": null,
   "metadata": {},
   "outputs": [
    {
     "data": {
      "text/plain": [
       "'Not Reject H0: mean = mean_0  in favor of  H1: mean < mean_0  -->  Not Accept H1: mean < mean_0'"
      ]
     },
     "execution_count": 60,
     "metadata": {},
     "output_type": "execute_result"
    }
   ],
   "source": [
    "resultado"
   ]
  },
  {
   "cell_type": "code",
   "execution_count": null,
   "metadata": {},
   "outputs": [],
   "source": [
    "pvalue , resultado = z_test_mean(Variable=Price, mean_0=1000000, H1_type='two.sided', alpha=0.05)"
   ]
  },
  {
   "cell_type": "code",
   "execution_count": null,
   "metadata": {},
   "outputs": [
    {
     "data": {
      "text/plain": [
       "0.0"
      ]
     },
     "execution_count": 62,
     "metadata": {},
     "output_type": "execute_result"
    }
   ],
   "source": [
    "pvalue"
   ]
  },
  {
   "cell_type": "code",
   "execution_count": null,
   "metadata": {},
   "outputs": [
    {
     "data": {
      "text/plain": [
       "'Reject H0: mean = mean_0  in favor of  H1: mean =/= mean_0  -->  Accept H1: mean =/= mean_0'"
      ]
     },
     "execution_count": 63,
     "metadata": {},
     "output_type": "execute_result"
    }
   ],
   "source": [
    "resultado"
   ]
  },
  {
   "cell_type": "markdown",
   "metadata": {},
   "source": []
  },
  {
   "cell_type": "markdown",
   "metadata": {},
   "source": []
  },
  {
   "cell_type": "code",
   "execution_count": null,
   "metadata": {},
   "outputs": [],
   "source": [
    "def chi_test_variance(Variable, variance_0, H1_type, alpha):\n",
    "\n",
    "    n = len(Variable)\n",
    "\n",
    "    statistic = (n-1)*Variable.std()/np.sqrt(variance_0)\n",
    "\n",
    "    #############################################################\n",
    "\n",
    "    if H1_type == 'greater':  \n",
    "        \n",
    "        pvalue = 1 - scipy.stats.chi2.cdf(statistic, df=n-1)\n",
    "\n",
    "        if pvalue <= alpha : \n",
    "            \n",
    "            result = 'Reject H0: mean = mean_0  in favor of  H1: mean > mean_0  -->  Accept H1: mean > mean_0'\n",
    "\n",
    "        else : \n",
    "            \n",
    "            result = 'Not Reject H0: mean = mean_0  in favor of  H1: mean > mean_0  -->  Not Accept H1: mean > mean_0'\n",
    "\n",
    "\n",
    "    if H1_type == 'less':\n",
    "        \n",
    "        pvalue = scipy.stats.chi2.cdf(statistic, df=n-1)\n",
    "\n",
    "        if pvalue <= alpha : \n",
    "            \n",
    "            result = 'Reject H0: mean = mean_0  in favor of  H1: mean < mean_0  -->  Accept H1: mean < mean_0'\n",
    "\n",
    "        else : \n",
    "            \n",
    "            result = 'Not Reject H0: mean = mean_0  in favor of  H1: mean < mean_0  -->  Not Accept H1: mean < mean_0'\n",
    "\n",
    "\n",
    "    if H1_type == 'two.sided':\n",
    "        \n",
    "        pvalue = ( 1 - scipy.stats.chi2.cdf(abs(statistic), df=n-1) ) + scipy.stats.chi2.cdf( -abs(statistic) , df=n-1 )\n",
    "\n",
    "        if pvalue <= alpha : \n",
    "            \n",
    "            result = 'Reject H0: mean = mean_0  in favor of  H1: mean =/= mean_0  -->  Accept H1: mean =/= mean_0'\n",
    "\n",
    "        else : \n",
    "            \n",
    "            result = 'Not Reject H0: mean = mean_0  in favor of  H1: mean =/= mean_0  -->  Not Accept H1: mean =/= mean_0'\n",
    "\n",
    "    #############################################################\n",
    "\n",
    "    return pvalue , result"
   ]
  },
  {
   "cell_type": "code",
   "execution_count": null,
   "metadata": {},
   "outputs": [],
   "source": [
    "np.std(Price)**2"
   ]
  },
  {
   "cell_type": "code",
   "execution_count": null,
   "metadata": {},
   "outputs": [],
   "source": [
    "chi_test_variance(Variable=Price, variance_0=, H1_type, alpha)"
   ]
  },
  {
   "cell_type": "markdown",
   "metadata": {},
   "source": []
  },
  {
   "cell_type": "code",
   "execution_count": null,
   "metadata": {},
   "outputs": [],
   "source": [
    "def t_test_mean_diff(Variable1, Variable2, H1_type, alpha):\n",
    "\n",
    "    n1 = len(Variable1)\n",
    "    n2 = len(Variable2)\n",
    "\n",
    "    statistic = (Variable1.mean() - Variable2.mean())/np.sqrt(np.var(Variable1)/n1 + np.var(Variable2)/n2)\n",
    "\n",
    "    v = (np.var(Variable1)/n1 + np.var(Variable2)/n2)**2 / ( (np.var(Variable1)/n1)**2/(n1-1) + (np.var(Variable1)/n2)**2/(n2-1) )\n",
    "   \n",
    "    #############################################################\n",
    "\n",
    "    if H1_type == 'greater':  \n",
    "        \n",
    "        pvalue = 1 - scipy.stats.t.cdf(statistic, df=v)\n",
    "\n",
    "        if pvalue <= alpha : \n",
    "            \n",
    "            result = 'Reject H0: mean_1 = mean_2  in favor of  H1: mean_1 > mean_2  -->  Accept H1: mean_1 > mean_2'\n",
    "\n",
    "        else : \n",
    "            \n",
    "            result = 'Not Reject H0: mean_1 = mean_2  in favor of  H1: mean_1 > mean_2  -->  Not Accept H1: mean_1 > mean_2'\n",
    "\n",
    "\n",
    "    if H1_type == 'less':\n",
    "        \n",
    "        pvalue = scipy.stats.t.cdf(statistic, df=v)\n",
    "\n",
    "        if pvalue <= alpha : \n",
    "            \n",
    "            result = 'Reject H0: mean_1 = mean_2  in favor of  H1: mean_1 < mean_2  -->  Accept H1: mean_1 < mean_2'\n",
    "\n",
    "        else : \n",
    "            \n",
    "            result = 'Not Reject H0: mean_1 = mean_2  in favor of  H1: mean_1 < mean_2  -->  Not Accept H1: mean_1 < mean_2'\n",
    "\n",
    "\n",
    "    if H1_type == 'two.sided':\n",
    "        \n",
    "        pvalue = 2*( 1 - scipy.stats.t.cdf(abs(statistic), df=v) )\n",
    "\n",
    "        if pvalue <= alpha : \n",
    "            \n",
    "            result = 'Reject H0: mean_1 = mean_2  in favor of  H1: mean_1 =/= mean_2  -->  Accept H1: mean_1 =/= mean_2'\n",
    "\n",
    "        else : \n",
    "            \n",
    "            result = 'Not Reject H0: mean_1 = mean_2  in favor of  H1: mean_1 =/= mean_2  -->  Not Accept H1: mean_1 =/= mean_2'\n",
    "\n",
    "    #############################################################\n",
    "\n",
    "    return pvalue , result"
   ]
  },
  {
   "cell_type": "code",
   "execution_count": null,
   "metadata": {},
   "outputs": [],
   "source": [
    "t_test_mean_diff(Variable1, Variable2, H1_type, alpha)"
   ]
  }
 ],
 "metadata": {
  "kernelspec": {
   "display_name": "Python 3",
   "language": "python",
   "name": "python3"
  },
  "language_info": {
   "codemirror_mode": {
    "name": "ipython",
    "version": 3
   },
   "file_extension": ".py",
   "mimetype": "text/x-python",
   "name": "python",
   "nbconvert_exporter": "python",
   "pygments_lexer": "ipython3",
   "version": "3.10.0"
  },
  "orig_nbformat": 4,
  "vscode": {
   "interpreter": {
    "hash": "c63d8c7d738c2960218a10995aedf0a7f67a49a231e71037adf0440953cdb45b"
   }
  }
 },
 "nbformat": 4,
 "nbformat_minor": 2
}
