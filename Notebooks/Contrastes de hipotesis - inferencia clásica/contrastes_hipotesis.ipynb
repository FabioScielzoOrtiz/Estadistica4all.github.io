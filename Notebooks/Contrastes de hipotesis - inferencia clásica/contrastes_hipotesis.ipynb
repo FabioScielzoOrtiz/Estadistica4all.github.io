{
 "cells": [
  {
   "cell_type": "code",
   "execution_count": 8,
   "metadata": {},
   "outputs": [],
   "source": [
    "import numpy as np\n",
    "import pandas as pd\n",
    "import scipy"
   ]
  },
  {
   "cell_type": "code",
   "execution_count": 2,
   "metadata": {},
   "outputs": [],
   "source": [
    "Data = pd.read_csv('House_Price_Regression.csv')"
   ]
  },
  {
   "cell_type": "markdown",
   "metadata": {},
   "source": []
  },
  {
   "cell_type": "code",
   "execution_count": 41,
   "metadata": {},
   "outputs": [],
   "source": [
    "def t_test_mean(Variable, mean_0, H1_type, alpha):\n",
    "\n",
    "    n = len(Variable)\n",
    "\n",
    "    statistic = (Variable.mean() - mean_0 )/np.sqrt(np.std(Variable)**2 / n)\n",
    "\n",
    "    #############################################################\n",
    "\n",
    "    if H1_type == 'greater':  \n",
    "        \n",
    "        pvalue = 1 - scipy.stats.t.cdf( statistic , df=n-1)\n",
    "\n",
    "        if pvalue < alpha : \n",
    "            \n",
    "            result = 'Reject H0: mean = mean_0  in favor of  H1: mean > mean_0  -->  Accept H1: mean > mean_0'\n",
    "\n",
    "        else : \n",
    "            \n",
    "            result = 'Not Reject H0: mean = mean_0  in favor of  H1: mean > mean_0  -->  Not Accept H1: mean > mean_0'\n",
    "\n",
    "\n",
    "    if H1_type == 'less':\n",
    "        \n",
    "        pvalue = scipy.stats.t.cdf( statistic , df=n-1)\n",
    "\n",
    "        if pvalue < alpha : \n",
    "            \n",
    "            result = 'Reject H0: mean = mean_0  in favor of  H1: mean < mean_0  -->  Accept H1: mean < mean_0'\n",
    "\n",
    "        else : \n",
    "            \n",
    "            result = 'Not Reject H0: mean = mean_0  in favor of  H1: mean < mean_0  -->  Not Accept H1: mean < mean_0'\n",
    "\n",
    "\n",
    "    if H1_type == 'two.sided':\n",
    "        \n",
    "        pvalue = 2*( 1 - scipy.stats.t.cdf( abs(statistic) , df=n-1) )\n",
    "\n",
    "        if pvalue < alpha : \n",
    "            \n",
    "            result = 'Reject H0: mean = mean_0  in favor of  H1: mean =/= mean_0  -->  Accept H1: mean =/= mean_0'\n",
    "\n",
    "        else : \n",
    "            \n",
    "            result = 'Not Reject H0: mean = mean_0  in favor of  H1: mean =/= mean_0  -->  Not Accept H1: mean =/= mean_0'\n",
    "\n",
    "    #############################################################\n",
    "\n",
    "    return pvalue , result"
   ]
  },
  {
   "cell_type": "code",
   "execution_count": 42,
   "metadata": {},
   "outputs": [],
   "source": [
    "pvalue , resultado = t_test_mean(Variable=Price, mean_0=1000000, H1_type='greater' , alpha=0.05)"
   ]
  },
  {
   "cell_type": "code",
   "execution_count": 43,
   "metadata": {},
   "outputs": [
    {
     "data": {
      "text/plain": [
       "0.0"
      ]
     },
     "execution_count": 43,
     "metadata": {},
     "output_type": "execute_result"
    }
   ],
   "source": [
    "pvalue"
   ]
  },
  {
   "cell_type": "code",
   "execution_count": 44,
   "metadata": {},
   "outputs": [
    {
     "data": {
      "text/plain": [
       "'Reject H0: mean = mean_0  in favor of  H1: mean > mean_0  -->  Accept H1: mean > mean_0'"
      ]
     },
     "execution_count": 44,
     "metadata": {},
     "output_type": "execute_result"
    }
   ],
   "source": [
    "resultado"
   ]
  },
  {
   "cell_type": "code",
   "execution_count": 45,
   "metadata": {},
   "outputs": [],
   "source": [
    "pvalue , resultado = t_test_mean(Variable=Price, mean_0=1000000, H1_type='less' , alpha=0.05)"
   ]
  },
  {
   "cell_type": "code",
   "execution_count": 46,
   "metadata": {},
   "outputs": [
    {
     "data": {
      "text/plain": [
       "1.0"
      ]
     },
     "execution_count": 46,
     "metadata": {},
     "output_type": "execute_result"
    }
   ],
   "source": [
    "pvalue"
   ]
  },
  {
   "cell_type": "code",
   "execution_count": 47,
   "metadata": {},
   "outputs": [
    {
     "data": {
      "text/plain": [
       "'Not Reject H0: mean = mean_0  in favor of  H1: mean < mean_0  -->  Not Accept H1: mean < mean_0'"
      ]
     },
     "execution_count": 47,
     "metadata": {},
     "output_type": "execute_result"
    }
   ],
   "source": [
    "resultado"
   ]
  },
  {
   "cell_type": "code",
   "execution_count": 48,
   "metadata": {},
   "outputs": [],
   "source": [
    "pvalue , resultado = t_test_mean(Variable=Price, mean_0=1000000, H1_type='two.sided' , alpha=0.05)"
   ]
  },
  {
   "cell_type": "code",
   "execution_count": 49,
   "metadata": {},
   "outputs": [
    {
     "data": {
      "text/plain": [
       "0.0"
      ]
     },
     "execution_count": 49,
     "metadata": {},
     "output_type": "execute_result"
    }
   ],
   "source": [
    "pvalue"
   ]
  },
  {
   "cell_type": "code",
   "execution_count": 50,
   "metadata": {},
   "outputs": [
    {
     "data": {
      "text/plain": [
       "'Reject H0: mean = mean_0  in favor of  H1: mean =/= mean_0  -->  Accept H1: mean =/= mean_0'"
      ]
     },
     "execution_count": 50,
     "metadata": {},
     "output_type": "execute_result"
    }
   ],
   "source": [
    "resultado"
   ]
  },
  {
   "cell_type": "markdown",
   "metadata": {},
   "source": []
  },
  {
   "cell_type": "markdown",
   "metadata": {},
   "source": []
  },
  {
   "cell_type": "code",
   "execution_count": 54,
   "metadata": {},
   "outputs": [],
   "source": [
    "def z_test_mean(Variable, mean_0, H1_type, alpha):\n",
    "\n",
    "    n = len(Variable)\n",
    "\n",
    "    statistic = (Variable.mean() - mean_0 )/np.sqrt(np.std(Variable)**2 / n)\n",
    "\n",
    "    #############################################################\n",
    "\n",
    "    if H1_type == 'greater':  \n",
    "        \n",
    "        pvalue = 1 - scipy.stats.norm.cdf(statistic, loc=0, scale=1)\n",
    "\n",
    "        if pvalue < alpha : \n",
    "            \n",
    "            result = 'Reject H0: mean = mean_0  in favor of  H1: mean > mean_0  -->  Accept H1: mean > mean_0'\n",
    "\n",
    "        else : \n",
    "            \n",
    "            result = 'Not Reject H0: mean = mean_0  in favor of  H1: mean > mean_0  -->  Not Accept H1: mean > mean_0'\n",
    "\n",
    "\n",
    "    if H1_type == 'less':\n",
    "        \n",
    "        pvalue = scipy.stats.norm.cdf(statistic, loc=0, scale=1)\n",
    "\n",
    "        if pvalue < alpha : \n",
    "            \n",
    "            result = 'Reject H0: mean = mean_0  in favor of  H1: mean < mean_0  -->  Accept H1: mean < mean_0'\n",
    "\n",
    "        else : \n",
    "            \n",
    "            result = 'Not Reject H0: mean = mean_0  in favor of  H1: mean < mean_0  -->  Not Accept H1: mean < mean_0'\n",
    "\n",
    "\n",
    "    if H1_type == 'two.sided':\n",
    "        \n",
    "        pvalue = 2*( 1 - scipy.stats.norm.cdf(abs(statistic), loc=0, scale=1) )\n",
    "\n",
    "        if pvalue < alpha : \n",
    "            \n",
    "            result = 'Reject H0: mean = mean_0  in favor of  H1: mean =/= mean_0  -->  Accept H1: mean =/= mean_0'\n",
    "\n",
    "        else : \n",
    "            \n",
    "            result = 'Not Reject H0: mean = mean_0  in favor of  H1: mean =/= mean_0  -->  Not Accept H1: mean =/= mean_0'\n",
    "\n",
    "    #############################################################\n",
    "\n",
    "    return pvalue , result"
   ]
  },
  {
   "cell_type": "code",
   "execution_count": 55,
   "metadata": {},
   "outputs": [],
   "source": [
    "pvalue , resultado = z_test_mean(Variable=Price, mean_0=1000000, H1_type='greater', alpha=0.05)"
   ]
  },
  {
   "cell_type": "code",
   "execution_count": 56,
   "metadata": {},
   "outputs": [
    {
     "data": {
      "text/plain": [
       "0.0"
      ]
     },
     "execution_count": 56,
     "metadata": {},
     "output_type": "execute_result"
    }
   ],
   "source": [
    "pvalue"
   ]
  },
  {
   "cell_type": "code",
   "execution_count": 57,
   "metadata": {},
   "outputs": [
    {
     "data": {
      "text/plain": [
       "'Reject H0: mean = mean_0  in favor of  H1: mean > mean_0  -->  Accept H1: mean > mean_0'"
      ]
     },
     "execution_count": 57,
     "metadata": {},
     "output_type": "execute_result"
    }
   ],
   "source": [
    "resultado"
   ]
  },
  {
   "cell_type": "code",
   "execution_count": 58,
   "metadata": {},
   "outputs": [],
   "source": [
    "pvalue , resultado = z_test_mean(Variable=Price, mean_0=1000000, H1_type='less', alpha=0.05)"
   ]
  },
  {
   "cell_type": "code",
   "execution_count": 59,
   "metadata": {},
   "outputs": [
    {
     "data": {
      "text/plain": [
       "1.0"
      ]
     },
     "execution_count": 59,
     "metadata": {},
     "output_type": "execute_result"
    }
   ],
   "source": [
    "pvalue"
   ]
  },
  {
   "cell_type": "code",
   "execution_count": 60,
   "metadata": {},
   "outputs": [
    {
     "data": {
      "text/plain": [
       "'Not Reject H0: mean = mean_0  in favor of  H1: mean < mean_0  -->  Not Accept H1: mean < mean_0'"
      ]
     },
     "execution_count": 60,
     "metadata": {},
     "output_type": "execute_result"
    }
   ],
   "source": [
    "resultado"
   ]
  },
  {
   "cell_type": "code",
   "execution_count": 61,
   "metadata": {},
   "outputs": [],
   "source": [
    "pvalue , resultado = z_test_mean(Variable=Price, mean_0=1000000, H1_type='two.sided', alpha=0.05)"
   ]
  },
  {
   "cell_type": "code",
   "execution_count": 62,
   "metadata": {},
   "outputs": [
    {
     "data": {
      "text/plain": [
       "0.0"
      ]
     },
     "execution_count": 62,
     "metadata": {},
     "output_type": "execute_result"
    }
   ],
   "source": [
    "pvalue"
   ]
  },
  {
   "cell_type": "code",
   "execution_count": 63,
   "metadata": {},
   "outputs": [
    {
     "data": {
      "text/plain": [
       "'Reject H0: mean = mean_0  in favor of  H1: mean =/= mean_0  -->  Accept H1: mean =/= mean_0'"
      ]
     },
     "execution_count": 63,
     "metadata": {},
     "output_type": "execute_result"
    }
   ],
   "source": [
    "resultado"
   ]
  },
  {
   "cell_type": "markdown",
   "metadata": {},
   "source": []
  },
  {
   "cell_type": "markdown",
   "metadata": {},
   "source": []
  }
 ],
 "metadata": {
  "kernelspec": {
   "display_name": "Python 3",
   "language": "python",
   "name": "python3"
  },
  "language_info": {
   "codemirror_mode": {
    "name": "ipython",
    "version": 3
   },
   "file_extension": ".py",
   "mimetype": "text/x-python",
   "name": "python",
   "nbconvert_exporter": "python",
   "pygments_lexer": "ipython3",
   "version": "3.10.0"
  },
  "orig_nbformat": 4,
  "vscode": {
   "interpreter": {
    "hash": "c63d8c7d738c2960218a10995aedf0a7f67a49a231e71037adf0440953cdb45b"
   }
  }
 },
 "nbformat": 4,
 "nbformat_minor": 2
}
