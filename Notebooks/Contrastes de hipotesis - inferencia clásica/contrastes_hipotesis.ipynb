{
 "cells": [
  {
   "cell_type": "code",
   "execution_count": 1,
   "metadata": {},
   "outputs": [],
   "source": [
    "import numpy as np\n",
    "import pandas as pd\n",
    "import scipy"
   ]
  },
  {
   "cell_type": "code",
   "execution_count": 2,
   "metadata": {},
   "outputs": [],
   "source": [
    "Data = pd.read_csv('House_Price_Regression.csv')"
   ]
  },
  {
   "cell_type": "code",
   "execution_count": 5,
   "metadata": {},
   "outputs": [],
   "source": [
    "Price = Data.price"
   ]
  },
  {
   "cell_type": "markdown",
   "metadata": {},
   "source": []
  },
  {
   "cell_type": "code",
   "execution_count": 6,
   "metadata": {},
   "outputs": [],
   "source": [
    "def t_test_mean(Variable, mean_0, H1_type, alpha):\n",
    "\n",
    "    n = len(Variable)\n",
    "\n",
    "    statistic = (Variable.mean() - mean_0 )/np.sqrt(np.std(Variable)**2 / n)\n",
    "\n",
    "    #############################################################\n",
    "\n",
    "    if H1_type == 'greater':  \n",
    "        \n",
    "        pvalue = 1 - scipy.stats.t.cdf( statistic , df=n-1)\n",
    "\n",
    "        if pvalue <= alpha : \n",
    "            \n",
    "            result = 'Reject H0: mean = mean_0  in favor of  H1: mean > mean_0  -->  Accept H1: mean > mean_0'\n",
    "\n",
    "        else : \n",
    "            \n",
    "            result = 'Not Reject H0: mean = mean_0  in favor of  H1: mean > mean_0  -->  Not Accept H1: mean > mean_0'\n",
    "\n",
    "\n",
    "    if H1_type == 'less':\n",
    "        \n",
    "        pvalue = scipy.stats.t.cdf( statistic , df=n-1)\n",
    "\n",
    "        if pvalue <= alpha : \n",
    "            \n",
    "            result = 'Reject H0: mean = mean_0  in favor of  H1: mean < mean_0  -->  Accept H1: mean < mean_0'\n",
    "\n",
    "        else : \n",
    "            \n",
    "            result = 'Not Reject H0: mean = mean_0  in favor of  H1: mean < mean_0  -->  Not Accept H1: mean < mean_0'\n",
    "\n",
    "\n",
    "    if H1_type == 'two.sided':\n",
    "        \n",
    "        pvalue = 2*( 1 - scipy.stats.t.cdf( abs(statistic) , df=n-1) )\n",
    "\n",
    "        if pvalue <= alpha : \n",
    "            \n",
    "            result = 'Reject H0: mean = mean_0  in favor of  H1: mean =/= mean_0  -->  Accept H1: mean =/= mean_0'\n",
    "\n",
    "        else : \n",
    "            \n",
    "            result = 'Not Reject H0: mean = mean_0  in favor of  H1: mean =/= mean_0  -->  Not Accept H1: mean =/= mean_0'\n",
    "\n",
    "    #############################################################\n",
    "\n",
    "    return pvalue , result"
   ]
  },
  {
   "cell_type": "code",
   "execution_count": 7,
   "metadata": {},
   "outputs": [],
   "source": [
    "pvalue , resultado = t_test_mean(Variable=Price, mean_0=1000000, H1_type='greater' , alpha=0.05)"
   ]
  },
  {
   "cell_type": "code",
   "execution_count": 8,
   "metadata": {},
   "outputs": [
    {
     "data": {
      "text/plain": [
       "0.0"
      ]
     },
     "execution_count": 8,
     "metadata": {},
     "output_type": "execute_result"
    }
   ],
   "source": [
    "pvalue"
   ]
  },
  {
   "cell_type": "code",
   "execution_count": 9,
   "metadata": {},
   "outputs": [
    {
     "data": {
      "text/plain": [
       "'Reject H0: mean = mean_0  in favor of  H1: mean > mean_0  -->  Accept H1: mean > mean_0'"
      ]
     },
     "execution_count": 9,
     "metadata": {},
     "output_type": "execute_result"
    }
   ],
   "source": [
    "resultado"
   ]
  },
  {
   "cell_type": "code",
   "execution_count": 10,
   "metadata": {},
   "outputs": [],
   "source": [
    "pvalue , resultado = t_test_mean(Variable=Price, mean_0=1000000, H1_type='less' , alpha=0.05)"
   ]
  },
  {
   "cell_type": "code",
   "execution_count": 11,
   "metadata": {},
   "outputs": [
    {
     "data": {
      "text/plain": [
       "1.0"
      ]
     },
     "execution_count": 11,
     "metadata": {},
     "output_type": "execute_result"
    }
   ],
   "source": [
    "pvalue"
   ]
  },
  {
   "cell_type": "code",
   "execution_count": 12,
   "metadata": {},
   "outputs": [
    {
     "data": {
      "text/plain": [
       "'Not Reject H0: mean = mean_0  in favor of  H1: mean < mean_0  -->  Not Accept H1: mean < mean_0'"
      ]
     },
     "execution_count": 12,
     "metadata": {},
     "output_type": "execute_result"
    }
   ],
   "source": [
    "resultado"
   ]
  },
  {
   "cell_type": "code",
   "execution_count": 13,
   "metadata": {},
   "outputs": [],
   "source": [
    "pvalue , resultado = t_test_mean(Variable=Price, mean_0=1000000, H1_type='two.sided' , alpha=0.05)"
   ]
  },
  {
   "cell_type": "code",
   "execution_count": 14,
   "metadata": {},
   "outputs": [
    {
     "data": {
      "text/plain": [
       "0.0"
      ]
     },
     "execution_count": 14,
     "metadata": {},
     "output_type": "execute_result"
    }
   ],
   "source": [
    "pvalue"
   ]
  },
  {
   "cell_type": "code",
   "execution_count": 15,
   "metadata": {},
   "outputs": [
    {
     "data": {
      "text/plain": [
       "'Reject H0: mean = mean_0  in favor of  H1: mean =/= mean_0  -->  Accept H1: mean =/= mean_0'"
      ]
     },
     "execution_count": 15,
     "metadata": {},
     "output_type": "execute_result"
    }
   ],
   "source": [
    "resultado"
   ]
  },
  {
   "cell_type": "markdown",
   "metadata": {},
   "source": []
  },
  {
   "cell_type": "markdown",
   "metadata": {},
   "source": []
  },
  {
   "cell_type": "code",
   "execution_count": 16,
   "metadata": {},
   "outputs": [],
   "source": [
    "def z_test_mean(Variable, mean_0, H1_type, alpha):\n",
    "\n",
    "    n = len(Variable)\n",
    "\n",
    "    statistic = (Variable.mean() - mean_0 )/np.sqrt(np.std(Variable)**2 / n)\n",
    "\n",
    "    #############################################################\n",
    "\n",
    "    if H1_type == 'greater':  \n",
    "        \n",
    "        pvalue = 1 - scipy.stats.norm.cdf(statistic, loc=0, scale=1)\n",
    "\n",
    "        if pvalue <= alpha : \n",
    "            \n",
    "            result = 'Reject H0: mean = mean_0  in favor of  H1: mean > mean_0  -->  Accept H1: mean > mean_0'\n",
    "\n",
    "        else : \n",
    "            \n",
    "            result = 'Not Reject H0: mean = mean_0  in favor of  H1: mean > mean_0  -->  Not Accept H1: mean > mean_0'\n",
    "\n",
    "\n",
    "    if H1_type == 'less':\n",
    "        \n",
    "        pvalue = scipy.stats.norm.cdf(statistic, loc=0, scale=1)\n",
    "\n",
    "        if pvalue <= alpha : \n",
    "            \n",
    "            result = 'Reject H0: mean = mean_0  in favor of  H1: mean < mean_0  -->  Accept H1: mean < mean_0'\n",
    "\n",
    "        else : \n",
    "            \n",
    "            result = 'Not Reject H0: mean = mean_0  in favor of  H1: mean < mean_0  -->  Not Accept H1: mean < mean_0'\n",
    "\n",
    "\n",
    "    if H1_type == 'two.sided':\n",
    "        \n",
    "        pvalue = 2*( 1 - scipy.stats.norm.cdf(abs(statistic), loc=0, scale=1) )\n",
    "\n",
    "        if pvalue <= alpha : \n",
    "            \n",
    "            result = 'Reject H0: mean = mean_0  in favor of  H1: mean =/= mean_0  -->  Accept H1: mean =/= mean_0'\n",
    "\n",
    "        else : \n",
    "            \n",
    "            result = 'Not Reject H0: mean = mean_0  in favor of  H1: mean =/= mean_0  -->  Not Accept H1: mean =/= mean_0'\n",
    "\n",
    "    #############################################################\n",
    "\n",
    "    return pvalue , result"
   ]
  },
  {
   "cell_type": "code",
   "execution_count": 17,
   "metadata": {},
   "outputs": [],
   "source": [
    "pvalue , resultado = z_test_mean(Variable=Price, mean_0=1000000, H1_type='greater', alpha=0.05)"
   ]
  },
  {
   "cell_type": "code",
   "execution_count": 18,
   "metadata": {},
   "outputs": [
    {
     "data": {
      "text/plain": [
       "0.0"
      ]
     },
     "execution_count": 18,
     "metadata": {},
     "output_type": "execute_result"
    }
   ],
   "source": [
    "pvalue"
   ]
  },
  {
   "cell_type": "code",
   "execution_count": 19,
   "metadata": {},
   "outputs": [
    {
     "data": {
      "text/plain": [
       "'Reject H0: mean = mean_0  in favor of  H1: mean > mean_0  -->  Accept H1: mean > mean_0'"
      ]
     },
     "execution_count": 19,
     "metadata": {},
     "output_type": "execute_result"
    }
   ],
   "source": [
    "resultado"
   ]
  },
  {
   "cell_type": "code",
   "execution_count": 20,
   "metadata": {},
   "outputs": [],
   "source": [
    "pvalue , resultado = z_test_mean(Variable=Price, mean_0=1000000, H1_type='less', alpha=0.05)"
   ]
  },
  {
   "cell_type": "code",
   "execution_count": 21,
   "metadata": {},
   "outputs": [
    {
     "data": {
      "text/plain": [
       "1.0"
      ]
     },
     "execution_count": 21,
     "metadata": {},
     "output_type": "execute_result"
    }
   ],
   "source": [
    "pvalue"
   ]
  },
  {
   "cell_type": "code",
   "execution_count": 22,
   "metadata": {},
   "outputs": [
    {
     "data": {
      "text/plain": [
       "'Not Reject H0: mean = mean_0  in favor of  H1: mean < mean_0  -->  Not Accept H1: mean < mean_0'"
      ]
     },
     "execution_count": 22,
     "metadata": {},
     "output_type": "execute_result"
    }
   ],
   "source": [
    "resultado"
   ]
  },
  {
   "cell_type": "code",
   "execution_count": 23,
   "metadata": {},
   "outputs": [],
   "source": [
    "pvalue , resultado = z_test_mean(Variable=Price, mean_0=1000000, H1_type='two.sided', alpha=0.05)"
   ]
  },
  {
   "cell_type": "code",
   "execution_count": 24,
   "metadata": {},
   "outputs": [
    {
     "data": {
      "text/plain": [
       "0.0"
      ]
     },
     "execution_count": 24,
     "metadata": {},
     "output_type": "execute_result"
    }
   ],
   "source": [
    "pvalue"
   ]
  },
  {
   "cell_type": "code",
   "execution_count": 25,
   "metadata": {},
   "outputs": [
    {
     "data": {
      "text/plain": [
       "'Reject H0: mean = mean_0  in favor of  H1: mean =/= mean_0  -->  Accept H1: mean =/= mean_0'"
      ]
     },
     "execution_count": 25,
     "metadata": {},
     "output_type": "execute_result"
    }
   ],
   "source": [
    "resultado"
   ]
  },
  {
   "cell_type": "markdown",
   "metadata": {},
   "source": []
  },
  {
   "cell_type": "markdown",
   "metadata": {},
   "source": []
  },
  {
   "cell_type": "code",
   "execution_count": 42,
   "metadata": {},
   "outputs": [],
   "source": [
    "def chi_test_variance(Variable, variance_0, H1_type, alpha):\n",
    "\n",
    "    n = len(Variable)\n",
    "\n",
    "    statistic = (n-1)*Variable.std()/np.sqrt(variance_0)\n",
    "\n",
    "    #############################################################\n",
    "\n",
    "    if H1_type == 'greater':  \n",
    "        \n",
    "        pvalue = 1 - scipy.stats.chi2.cdf(statistic, df=n-1)\n",
    "\n",
    "        if pvalue <= alpha : \n",
    "            \n",
    "            result = 'Reject H0: variance = variance_0  in favor of  H1: variance > variance_0  -->  Accept H1: variance > variance_0'\n",
    "\n",
    "        else : \n",
    "            \n",
    "            result = 'Not Reject H0: variance = variance_0  in favor of  H1: variance > variance_0  -->  Not Accept H1: variance > variance_0'\n",
    "\n",
    "\n",
    "    if H1_type == 'less':\n",
    "        \n",
    "        pvalue = scipy.stats.chi2.cdf(statistic, df=n-1)\n",
    "\n",
    "        if pvalue <= alpha : \n",
    "            \n",
    "            result = 'Reject H0: variance = variance_0  in favor of  H1: variance < variance_0  -->  Accept H1: variance < variance_0'\n",
    "\n",
    "        else : \n",
    "            \n",
    "            result = 'Not Reject H0: variance = variance_0  in favor of  H1: variance < variance_0  -->  Not Accept H1: mean < variance_0'\n",
    "\n",
    "\n",
    "    if H1_type == 'two.sided':\n",
    "        \n",
    "        pvalue = ( 1 - scipy.stats.chi2.cdf(abs(statistic), df=n-1) ) + scipy.stats.chi2.cdf( -abs(statistic) , df=n-1 )\n",
    "\n",
    "        if pvalue <= alpha : \n",
    "            \n",
    "            result = 'Reject H0: variance = variance_0  in favor of  H1: variance =/= variance_0  -->  Accept H1: variance =/= variance_0'\n",
    "\n",
    "        else : \n",
    "            \n",
    "            result = 'Not Reject H0: variance = variance_0  in favor of  H1: variance =/= variance_0  -->  Not Accept H1: variance =/= mean_0'\n",
    "\n",
    "    #############################################################\n",
    "\n",
    "    return pvalue , result"
   ]
  },
  {
   "cell_type": "code",
   "execution_count": 27,
   "metadata": {},
   "outputs": [
    {
     "data": {
      "text/plain": [
       "8482279037221.851"
      ]
     },
     "execution_count": 27,
     "metadata": {},
     "output_type": "execute_result"
    }
   ],
   "source": [
    "np.std(Price)**2"
   ]
  },
  {
   "cell_type": "code",
   "execution_count": 34,
   "metadata": {},
   "outputs": [],
   "source": [
    "pvalue , result = chi_test_variance(Variable=Price, variance_0=50000000, H1_type='greater', alpha=0.05)"
   ]
  },
  {
   "cell_type": "code",
   "execution_count": 35,
   "metadata": {},
   "outputs": [
    {
     "data": {
      "text/plain": [
       "0.0"
      ]
     },
     "execution_count": 35,
     "metadata": {},
     "output_type": "execute_result"
    }
   ],
   "source": [
    "pvalue "
   ]
  },
  {
   "cell_type": "code",
   "execution_count": 36,
   "metadata": {},
   "outputs": [
    {
     "data": {
      "text/plain": [
       "'Reject H0: mean = mean_0  in favor of  H1: mean > mean_0  -->  Accept H1: mean > mean_0'"
      ]
     },
     "execution_count": 36,
     "metadata": {},
     "output_type": "execute_result"
    }
   ],
   "source": [
    "result"
   ]
  },
  {
   "cell_type": "code",
   "execution_count": 37,
   "metadata": {},
   "outputs": [],
   "source": [
    "pvalue , result = chi_test_variance(Variable=Price, variance_0=50000000, H1_type='less', alpha=0.05)"
   ]
  },
  {
   "cell_type": "code",
   "execution_count": 38,
   "metadata": {},
   "outputs": [
    {
     "data": {
      "text/plain": [
       "1.0"
      ]
     },
     "execution_count": 38,
     "metadata": {},
     "output_type": "execute_result"
    }
   ],
   "source": [
    "pvalue"
   ]
  },
  {
   "cell_type": "code",
   "execution_count": 39,
   "metadata": {},
   "outputs": [
    {
     "data": {
      "text/plain": [
       "'Not Reject H0: mean = mean_0  in favor of  H1: mean < mean_0  -->  Not Accept H1: mean < mean_0'"
      ]
     },
     "execution_count": 39,
     "metadata": {},
     "output_type": "execute_result"
    }
   ],
   "source": [
    "result"
   ]
  },
  {
   "cell_type": "code",
   "execution_count": null,
   "metadata": {},
   "outputs": [],
   "source": [
    "pvalue , result = chi_test_variance(Variable=Price, variance_0=50000000, H1_type='two.sided', alpha=0.05)"
   ]
  },
  {
   "cell_type": "code",
   "execution_count": 40,
   "metadata": {},
   "outputs": [
    {
     "data": {
      "text/plain": [
       "1.0"
      ]
     },
     "execution_count": 40,
     "metadata": {},
     "output_type": "execute_result"
    }
   ],
   "source": [
    "pvalue"
   ]
  },
  {
   "cell_type": "code",
   "execution_count": 41,
   "metadata": {},
   "outputs": [
    {
     "data": {
      "text/plain": [
       "'Not Reject H0: mean = mean_0  in favor of  H1: mean < mean_0  -->  Not Accept H1: mean < mean_0'"
      ]
     },
     "execution_count": 41,
     "metadata": {},
     "output_type": "execute_result"
    }
   ],
   "source": [
    "result"
   ]
  },
  {
   "cell_type": "markdown",
   "metadata": {},
   "source": []
  },
  {
   "cell_type": "code",
   "execution_count": 43,
   "metadata": {},
   "outputs": [],
   "source": [
    "def t_test_two_mean(Variable1, Variable2, H1_type, alpha):\n",
    "\n",
    "    n1 = len(Variable1)\n",
    "    n2 = len(Variable2)\n",
    "\n",
    "    statistic = (Variable1.mean() - Variable2.mean())/np.sqrt(np.var(Variable1)/n1 + np.var(Variable2)/n2)\n",
    "\n",
    "    v = (np.var(Variable1)/n1 + np.var(Variable2)/n2)**2 / ( (np.var(Variable1)/n1)**2/(n1-1) + (np.var(Variable1)/n2)**2/(n2-1) )\n",
    "   \n",
    "    #############################################################\n",
    "\n",
    "    if H1_type == 'greater':  \n",
    "        \n",
    "        pvalue = 1 - scipy.stats.t.cdf(statistic, df=v)\n",
    "\n",
    "        if pvalue <= alpha : \n",
    "            \n",
    "            result = 'Reject H0: mean_1 = mean_2  in favor of  H1: mean_1 > mean_2  -->  Accept H1: mean_1 > mean_2'\n",
    "\n",
    "        else : \n",
    "            \n",
    "            result = 'Not Reject H0: mean_1 = mean_2  in favor of  H1: mean_1 > mean_2  -->  Not Accept H1: mean_1 > mean_2'\n",
    "\n",
    "\n",
    "    if H1_type == 'less':\n",
    "        \n",
    "        pvalue = scipy.stats.t.cdf(statistic, df=v)\n",
    "\n",
    "        if pvalue <= alpha : \n",
    "            \n",
    "            result = 'Reject H0: mean_1 = mean_2  in favor of  H1: mean_1 < mean_2  -->  Accept H1: mean_1 < mean_2'\n",
    "\n",
    "        else : \n",
    "            \n",
    "            result = 'Not Reject H0: mean_1 = mean_2  in favor of  H1: mean_1 < mean_2  -->  Not Accept H1: mean_1 < mean_2'\n",
    "\n",
    "\n",
    "    if H1_type == 'two.sided':\n",
    "        \n",
    "        pvalue = 2*( 1 - scipy.stats.t.cdf(abs(statistic), df=v) )\n",
    "\n",
    "        if pvalue <= alpha : \n",
    "            \n",
    "            result = 'Reject H0: mean_1 = mean_2  in favor of  H1: mean_1 =/= mean_2  -->  Accept H1: mean_1 =/= mean_2'\n",
    "\n",
    "        else : \n",
    "            \n",
    "            result = 'Not Reject H0: mean_1 = mean_2  in favor of  H1: mean_1 =/= mean_2  -->  Not Accept H1: mean_1 =/= mean_2'\n",
    "\n",
    "    #############################################################\n",
    "\n",
    "    return pvalue , result"
   ]
  },
  {
   "cell_type": "code",
   "execution_count": 68,
   "metadata": {},
   "outputs": [],
   "source": [
    "Price_quality_low = Data.loc[ Data.quality_recode==1  ,  'price']\n",
    "\n",
    "Price_quality_high = Data.loc[ Data.quality_recode==0  ,  'price']"
   ]
  },
  {
   "cell_type": "code",
   "execution_count": 69,
   "metadata": {},
   "outputs": [
    {
     "data": {
      "text/plain": [
       "1937609.5349264706"
      ]
     },
     "execution_count": 69,
     "metadata": {},
     "output_type": "execute_result"
    }
   ],
   "source": [
    "Price_quality_low.mean()"
   ]
  },
  {
   "cell_type": "code",
   "execution_count": 71,
   "metadata": {},
   "outputs": [
    {
     "data": {
      "text/plain": [
       "2688829.3358208956"
      ]
     },
     "execution_count": 71,
     "metadata": {},
     "output_type": "execute_result"
    }
   ],
   "source": [
    "Price_quality_high.mean()"
   ]
  },
  {
   "cell_type": "code",
   "execution_count": 72,
   "metadata": {},
   "outputs": [],
   "source": [
    "pvalue , result = t_test_mean_diff(Variable1=Price_quality_low, Variable2=Price_quality_high, H1_type='greater', alpha=0.05)"
   ]
  },
  {
   "cell_type": "code",
   "execution_count": 73,
   "metadata": {},
   "outputs": [
    {
     "data": {
      "text/plain": [
       "0.9599378793787171"
      ]
     },
     "execution_count": 73,
     "metadata": {},
     "output_type": "execute_result"
    }
   ],
   "source": [
    "pvalue"
   ]
  },
  {
   "cell_type": "code",
   "execution_count": 74,
   "metadata": {},
   "outputs": [
    {
     "data": {
      "text/plain": [
       "'Not Reject H0: mean_1 = mean_2  in favor of  H1: mean_1 > mean_2  -->  Not Accept H1: mean_1 > mean_2'"
      ]
     },
     "execution_count": 74,
     "metadata": {},
     "output_type": "execute_result"
    }
   ],
   "source": [
    "result"
   ]
  },
  {
   "cell_type": "code",
   "execution_count": 75,
   "metadata": {},
   "outputs": [],
   "source": [
    "pvalue , result = t_test_mean_diff(Variable1=Price_quality_low , Variable2=Price_quality_high, H1_type='less', alpha=0.05)"
   ]
  },
  {
   "cell_type": "code",
   "execution_count": 76,
   "metadata": {},
   "outputs": [
    {
     "data": {
      "text/plain": [
       "0.04006212062128288"
      ]
     },
     "execution_count": 76,
     "metadata": {},
     "output_type": "execute_result"
    }
   ],
   "source": [
    "pvalue"
   ]
  },
  {
   "cell_type": "code",
   "execution_count": 77,
   "metadata": {},
   "outputs": [
    {
     "data": {
      "text/plain": [
       "'Reject H0: mean_1 = mean_2  in favor of  H1: mean_1 < mean_2  -->  Accept H1: mean_1 < mean_2'"
      ]
     },
     "execution_count": 77,
     "metadata": {},
     "output_type": "execute_result"
    }
   ],
   "source": [
    "result"
   ]
  },
  {
   "cell_type": "code",
   "execution_count": 78,
   "metadata": {},
   "outputs": [],
   "source": [
    "pvalue , result = t_test_mean_diff(Variable1=Price_quality_low , Variable2=Price_quality_high, H1_type='two.sided', alpha=0.05)"
   ]
  },
  {
   "cell_type": "code",
   "execution_count": 79,
   "metadata": {},
   "outputs": [
    {
     "data": {
      "text/plain": [
       "0.08012424124256579"
      ]
     },
     "execution_count": 79,
     "metadata": {},
     "output_type": "execute_result"
    }
   ],
   "source": [
    "pvalue"
   ]
  },
  {
   "cell_type": "code",
   "execution_count": 80,
   "metadata": {},
   "outputs": [
    {
     "data": {
      "text/plain": [
       "'Not Reject H0: mean_1 = mean_2  in favor of  H1: mean_1 =/= mean_2  -->  Not Accept H1: mean_1 =/= mean_2'"
      ]
     },
     "execution_count": 80,
     "metadata": {},
     "output_type": "execute_result"
    }
   ],
   "source": [
    "result"
   ]
  },
  {
   "cell_type": "markdown",
   "metadata": {},
   "source": []
  },
  {
   "cell_type": "markdown",
   "metadata": {},
   "source": []
  },
  {
   "cell_type": "code",
   "execution_count": 2,
   "metadata": {},
   "outputs": [
    {
     "ename": "SyntaxError",
     "evalue": "'break' outside loop (1341788881.py, line 11)",
     "output_type": "error",
     "traceback": [
      "\u001b[1;36m  Input \u001b[1;32mIn [2]\u001b[1;36m\u001b[0m\n\u001b[1;33m    break\u001b[0m\n\u001b[1;37m    ^\u001b[0m\n\u001b[1;31mSyntaxError\u001b[0m\u001b[1;31m:\u001b[0m 'break' outside loop\n"
     ]
    }
   ],
   "source": [
    "def t_test_two_mean_paired(Variable1, Variable2, H1_type, alpha):\n",
    "\n",
    "\n",
    "    n1 = len(Variable1)\n",
    "    n2 = len(Variable2)\n",
    "\n",
    "    n=n1\n",
    "\n",
    "    if n1 != n2 : print(\"Los tamaños muestrales deben de ser iguales; n1=n2=n\")\n",
    "\n",
    "    D = Variable1 - Variable2\n",
    "\n",
    "\n",
    "    statistic = D.mean()/np.sqrt(np.var(Variable1, ddof=1)/n)\n",
    "   \n",
    "    #############################################################\n",
    "\n",
    "    if H1_type == 'greater':  \n",
    "        \n",
    "        pvalue = 1 - scipy.stats.t.cdf(statistic, df=n-1)\n",
    "\n",
    "        if pvalue <= alpha : \n",
    "            \n",
    "            result = 'Reject H0: mean_1 = mean_2  in favor of  H1: mean_1 > mean_2  -->  Accept H1: mean_1 > mean_2'\n",
    "\n",
    "        else : \n",
    "            \n",
    "            result = 'Not Reject H0: mean_1 = mean_2  in favor of  H1: mean_1 > mean_2  -->  Not Accept H1: mean_1 > mean_2'\n",
    "\n",
    "\n",
    "    if H1_type == 'less':\n",
    "        \n",
    "        pvalue = scipy.stats.t.cdf(statistic, df=n-1)\n",
    "\n",
    "        if pvalue <= alpha : \n",
    "            \n",
    "            result = 'Reject H0: mean_1 = mean_2  in favor of  H1: mean_1 < mean_2  -->  Accept H1: mean_1 < mean_2'\n",
    "\n",
    "        else : \n",
    "            \n",
    "            result = 'Not Reject H0: mean_1 = mean_2  in favor of  H1: mean_1 < mean_2  -->  Not Accept H1: mean_1 < mean_2'\n",
    "\n",
    "\n",
    "    if H1_type == 'two.sided':\n",
    "        \n",
    "        pvalue = 2*( 1 - scipy.stats.t.cdf(abs(statistic), df=n-1) )\n",
    "\n",
    "        if pvalue <= alpha : \n",
    "            \n",
    "            result = 'Reject H0: mean_1 = mean_2  in favor of  H1: mean_1 =/= mean_2  -->  Accept H1: mean_1 =/= mean_2'\n",
    "\n",
    "        else : \n",
    "            \n",
    "            result = 'Not Reject H0: mean_1 = mean_2  in favor of  H1: mean_1 =/= mean_2  -->  Not Accept H1: mean_1 =/= mean_2'\n",
    "\n",
    "    #############################################################\n",
    "\n",
    "    return pvalue , result"
   ]
  },
  {
   "cell_type": "code",
   "execution_count": null,
   "metadata": {},
   "outputs": [],
   "source": [
    "def t_test_two_var(Variable1, Variable2, H1_type, alpha):\n",
    "\n",
    "\n",
    "    n1 = len(Variable1)\n",
    "    n2 = len(Variable2)\n",
    "\n",
    "    statistic = np.var(Variable1)/np.var(Variable2)\n",
    "   \n",
    "    #############################################################\n",
    "\n",
    "    if H1_type == 'greater':  \n",
    "        \n",
    "        pvalue = 1 - scipy.stats.F.cdf(statistic, df1=n1-1, df2=n2-1)\n",
    "\n",
    "        if pvalue <= alpha : \n",
    "            \n",
    "            result = 'Reject H0: var_1 = var_2  in favor of  H1: var_1 > var_2  -->  Accept H1: var_1 > var_2'\n",
    "\n",
    "        else : \n",
    "            \n",
    "            result = 'Not Reject H0: var_1 = var_2  in favor of  H1: var_1 > var_2  -->  Not Accept H1: var_1 > var_2'\n",
    "\n",
    "\n",
    "    if H1_type == 'less':\n",
    "        \n",
    "        pvalue = scipy.stats.F.cdf(statistic, df1=n1-1, df2=n2-1)\n",
    "\n",
    "        if pvalue <= alpha : \n",
    "            \n",
    "            result = 'Reject H0: var_1 = var_2  in favor of  H1: var_1 < var_2  -->  Accept H1: var_1 < var_2'\n",
    "\n",
    "        else : \n",
    "            \n",
    "            result = 'Not Reject H0: var_1 = var_2  in favor of  H1: var_1 < var_2  -->  Not Accept H1: var_1 < var_2'\n",
    "\n",
    "\n",
    "    if H1_type == 'two.sided':\n",
    "\n",
    "        if statistic >= 1 :  pvalue = 1 - scipy.stats.F.cdf(statistic, df1=n1-1, df2=n2-1) \n",
    "\n",
    "        else :  pvalue = scipy.stats.F.cdf(statistic, df1=n1-1, df2=n2-1) \n",
    "\n",
    "\n",
    "        if pvalue <= alpha : \n",
    "            \n",
    "            result = 'Reject H0: var_1 = var_2  in favor of  H1: var_1 =/= var_2  -->  Accept H1: var_1 =/= var_2'\n",
    "\n",
    "        else : \n",
    "            \n",
    "            result = 'Not Reject H0: var_1 = var_2  in favor of  H1: var_1 =/= var_2  -->  Not Accept H1: var_1 =/= var_2'\n",
    "\n",
    "    #############################################################\n",
    "\n",
    "    return pvalue , result"
   ]
  },
  {
   "cell_type": "code",
   "execution_count": null,
   "metadata": {},
   "outputs": [],
   "source": [
    "def z_test_prop(Variable, p_0, H1_type, alpha):\n",
    "\n",
    "\n",
    "    n = len(Variable)\n",
    "\n",
    "    statistic = (np.mean(Variable) - p_0)/(np.sqrt(np.mean(Variable)*(1-np.mean(Variable))/n))\n",
    "   \n",
    "    #############################################################\n",
    "\n",
    "    if H1_type == 'greater':  \n",
    "        \n",
    "        pvalue = 1 - scipy.stats.norm.cdf(statistic, loc=0, scale=1)\n",
    "\n",
    "        if pvalue <= alpha : \n",
    "            \n",
    "            result = 'Reject H0: var_1 = var_2  in favor of  H1: var_1 > var_2  -->  Accept H1: var_1 > var_2'\n",
    "\n",
    "        else : \n",
    "            \n",
    "            result = 'Not Reject H0: var_1 = var_2  in favor of  H1: var_1 > var_2  -->  Not Accept H1: var_1 > var_2'\n",
    "\n",
    "\n",
    "    if H1_type == 'less':\n",
    "        \n",
    "        pvalue = scipy.stats.norm.cdf(statistic, loc=0, scale=1)\n",
    "\n",
    "        if pvalue <= alpha : \n",
    "            \n",
    "            result = 'Reject H0: var_1 = var_2  in favor of  H1: var_1 < var_2  -->  Accept H1: var_1 < var_2'\n",
    "\n",
    "        else : \n",
    "            \n",
    "            result = 'Not Reject H0: var_1 = var_2  in favor of  H1: var_1 < var_2  -->  Not Accept H1: var_1 < var_2'\n",
    "\n",
    "\n",
    "    if H1_type == 'two.sided':\n",
    "        \n",
    "        pvalue = 2*( 1 - scipy.stats.norm.cdf(abs(statistic), loc=0, scale=1) )\n",
    "\n",
    "        if pvalue <= alpha : \n",
    "            \n",
    "            result = 'Reject H0: var_1 = var_2  in favor of  H1: var_1 =/= var_2  -->  Accept H1: var_1 =/= var_2'\n",
    "\n",
    "        else : \n",
    "            \n",
    "            result = 'Not Reject H0: var_1 = var_2  in favor of  H1: var_1 =/= var_2  -->  Not Accept H1: var_1 =/= var_2'\n",
    "\n",
    "    #############################################################\n",
    "\n",
    "    return pvalue , result"
   ]
  },
  {
   "cell_type": "code",
   "execution_count": 1,
   "metadata": {},
   "outputs": [
    {
     "ename": "SyntaxError",
     "evalue": "'(' was never closed (51625677.py, line 7)",
     "output_type": "error",
     "traceback": [
      "\u001b[1;36m  Input \u001b[1;32mIn [1]\u001b[1;36m\u001b[0m\n\u001b[1;33m    statistic = (np.mean(Variable1) - np.mean(Variable2))/(np.sqrt(np.mean(Variable1)*(1-np.mean(Variable1))/n1 + np.sqrt(np.mean(Variable2)*(1-np.mean(Variable2))/n2))\u001b[0m\n\u001b[1;37m                                                          ^\u001b[0m\n\u001b[1;31mSyntaxError\u001b[0m\u001b[1;31m:\u001b[0m '(' was never closed\n"
     ]
    }
   ],
   "source": [
    "def z_test_two_prop(Variable1, Variable2, H1_type, alpha):\n",
    "\n",
    "\n",
    "    n1 = len(Variable1)\n",
    "    n2 = len(Variable2)\n",
    "\n",
    "    statistic = (np.mean(Variable1) - np.mean(Variable2))/(np.sqrt(np.mean(Variable1)*(1-np.mean(Variable1))/n1 + np.sqrt(np.mean(Variable2)*(1-np.mean(Variable2))/n2)))\n",
    "   \n",
    "    #############################################################\n",
    "\n",
    "    if H1_type == 'greater':  \n",
    "        \n",
    "        pvalue = 1 - scipy.stats.norm.cdf(statistic, loc=0, scale=1)\n",
    "\n",
    "        if pvalue <= alpha : \n",
    "            \n",
    "            result = 'Reject H0: var_1 = var_2  in favor of  H1: var_1 > var_2  -->  Accept H1: var_1 > var_2'\n",
    "\n",
    "        else : \n",
    "            \n",
    "            result = 'Not Reject H0: var_1 = var_2  in favor of  H1: var_1 > var_2  -->  Not Accept H1: var_1 > var_2'\n",
    "\n",
    "\n",
    "    if H1_type == 'less':\n",
    "        \n",
    "        pvalue = scipy.stats.norm.cdf(statistic, loc=0, scale=1)\n",
    "\n",
    "        if pvalue <= alpha : \n",
    "            \n",
    "            result = 'Reject H0: var_1 = var_2  in favor of  H1: var_1 < var_2  -->  Accept H1: var_1 < var_2'\n",
    "\n",
    "        else : \n",
    "            \n",
    "            result = 'Not Reject H0: var_1 = var_2  in favor of  H1: var_1 < var_2  -->  Not Accept H1: var_1 < var_2'\n",
    "\n",
    "\n",
    "    if H1_type == 'two.sided':\n",
    "        \n",
    "        pvalue = 2*( 1 - scipy.stats.norm.cdf(abs(statistic), loc=0, scale=1) )\n",
    "\n",
    "        if pvalue <= alpha : \n",
    "            \n",
    "            result = 'Reject H0: var_1 = var_2  in favor of  H1: var_1 =/= var_2  -->  Accept H1: var_1 =/= var_2'\n",
    "\n",
    "        else : \n",
    "            \n",
    "            result = 'Not Reject H0: var_1 = var_2  in favor of  H1: var_1 =/= var_2  -->  Not Accept H1: var_1 =/= var_2'\n",
    "\n",
    "    #############################################################\n",
    "\n",
    "    return pvalue , result"
   ]
  }
 ],
 "metadata": {
  "kernelspec": {
   "display_name": "Python 3",
   "language": "python",
   "name": "python3"
  },
  "language_info": {
   "codemirror_mode": {
    "name": "ipython",
    "version": 3
   },
   "file_extension": ".py",
   "mimetype": "text/x-python",
   "name": "python",
   "nbconvert_exporter": "python",
   "pygments_lexer": "ipython3",
   "version": "3.10.0 (tags/v3.10.0:b494f59, Oct  4 2021, 19:00:18) [MSC v.1929 64 bit (AMD64)]"
  },
  "orig_nbformat": 4,
  "vscode": {
   "interpreter": {
    "hash": "c63d8c7d738c2960218a10995aedf0a7f67a49a231e71037adf0440953cdb45b"
   }
  }
 },
 "nbformat": 4,
 "nbformat_minor": 2
}
