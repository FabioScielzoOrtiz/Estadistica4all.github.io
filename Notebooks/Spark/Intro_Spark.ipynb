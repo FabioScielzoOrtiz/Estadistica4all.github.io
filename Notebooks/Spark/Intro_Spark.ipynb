{
 "cells": [
  {
   "cell_type": "code",
   "execution_count": 1,
   "metadata": {},
   "outputs": [],
   "source": [
    "# pip install pyspark"
   ]
  },
  {
   "cell_type": "code",
   "execution_count": 2,
   "metadata": {},
   "outputs": [],
   "source": [
    "import findspark\n",
    "findspark.init()"
   ]
  },
  {
   "cell_type": "code",
   "execution_count": 3,
   "metadata": {},
   "outputs": [],
   "source": [
    "from pyspark.sql import SparkSession"
   ]
  },
  {
   "cell_type": "code",
   "execution_count": 4,
   "metadata": {},
   "outputs": [],
   "source": [
    "\n",
    "spark = SparkSession.builder.master(\"local[*]\").getOrCreate()"
   ]
  },
  {
   "cell_type": "code",
   "execution_count": 5,
   "metadata": {},
   "outputs": [],
   "source": [
    "sc = spark.sparkContext\n"
   ]
  },
  {
   "cell_type": "markdown",
   "metadata": {},
   "source": []
  },
  {
   "attachments": {},
   "cell_type": "markdown",
   "metadata": {},
   "source": [
    "**¿Qué es un RDD?**\n",
    "\n",
    "Resilient Distributed Dataset (RDD)\n",
    "\n",
    "Se puede ver como una lista o un vector de objetos. Es el elemento básico de Spark.\n"
   ]
  },
  {
   "cell_type": "code",
   "execution_count": 6,
   "metadata": {},
   "outputs": [],
   "source": [
    "# crear rdd vacio\n",
    "\n",
    "rdd_vacio = sc.emptyRDD"
   ]
  },
  {
   "cell_type": "code",
   "execution_count": 7,
   "metadata": {},
   "outputs": [],
   "source": [
    "# crear rdd vacio con 3 particiones\n",
    "\n",
    "rdd_vacio_3 = sc.parallelize([], 3)"
   ]
  },
  {
   "cell_type": "code",
   "execution_count": 8,
   "metadata": {},
   "outputs": [
    {
     "data": {
      "text/plain": [
       "3"
      ]
     },
     "execution_count": 8,
     "metadata": {},
     "output_type": "execute_result"
    }
   ],
   "source": [
    "rdd_vacio_3.getNumPartitions()"
   ]
  },
  {
   "cell_type": "code",
   "execution_count": 9,
   "metadata": {},
   "outputs": [],
   "source": [
    "# crear rdd no vacio con 3 particiones\n",
    "rdd_no_vacio_3 = sc.parallelize([1,2,3,4,5], 3)"
   ]
  },
  {
   "cell_type": "code",
   "execution_count": 10,
   "metadata": {},
   "outputs": [
    {
     "data": {
      "text/plain": [
       "[1, 2, 3, 4, 5]"
      ]
     },
     "execution_count": 10,
     "metadata": {},
     "output_type": "execute_result"
    }
   ],
   "source": [
    "# ver los datos almacenados en el rdd\n",
    "rdd_no_vacio_3.collect()"
   ]
  },
  {
   "cell_type": "code",
   "execution_count": 11,
   "metadata": {},
   "outputs": [],
   "source": [
    "# Crear un RDD desde un archivo de texto\n",
    "rdd_texto = sc.textFile('./ejemplo_texto.txt')"
   ]
  },
  {
   "cell_type": "code",
   "execution_count": 12,
   "metadata": {},
   "outputs": [
    {
     "data": {
      "text/plain": [
       "['Este es un ejemplo de archivo de texto :)',\n",
       " 'Esto es una frase de prueba 1.',\n",
       " 'Esto es una frase de prueba 2.',\n",
       " 'Esto es una frase de prueba 3.',\n",
       " 'Esto es una frase de prueba 4.',\n",
       " 'Esto es una frase de prueba 5.']"
      ]
     },
     "execution_count": 12,
     "metadata": {},
     "output_type": "execute_result"
    }
   ],
   "source": [
    "rdd_texto.collect()"
   ]
  },
  {
   "cell_type": "code",
   "execution_count": 13,
   "metadata": {},
   "outputs": [],
   "source": [
    "rdd_texto_completo = sc.wholeTextFiles('./ejemplo_texto.txt')"
   ]
  },
  {
   "cell_type": "code",
   "execution_count": 14,
   "metadata": {},
   "outputs": [
    {
     "data": {
      "text/plain": [
       "[('file:/c:/Users/Usuario/Documents/fabio/Fabio/Estadistica4all.github.io-1/Notebooks/Spark/ejemplo_texto.txt',\n",
       "  'Este es un ejemplo de archivo de texto :)\\r\\nEsto es una frase de prueba 1.\\r\\nEsto es una frase de prueba 2.\\r\\nEsto es una frase de prueba 3.\\r\\nEsto es una frase de prueba 4.\\r\\nEsto es una frase de prueba 5.')]"
      ]
     },
     "execution_count": 14,
     "metadata": {},
     "output_type": "execute_result"
    }
   ],
   "source": [
    "rdd_texto_completo.collect()"
   ]
  },
  {
   "attachments": {},
   "cell_type": "markdown",
   "metadata": {},
   "source": [
    "Crear rdd a partir de un data frame:"
   ]
  },
  {
   "cell_type": "code",
   "execution_count": null,
   "metadata": {},
   "outputs": [],
   "source": [
    "import pandas as pd\n",
    "\n",
    "data_pandas = pd.read_csv('House_Price_Regression.csv')"
   ]
  },
  {
   "cell_type": "code",
   "execution_count": null,
   "metadata": {},
   "outputs": [],
   "source": [
    "data_pandas.head()"
   ]
  },
  {
   "cell_type": "code",
   "execution_count": 15,
   "metadata": {},
   "outputs": [],
   "source": [
    "# Crear un RDD a partir de un data-frame:\n",
    "\n",
    "data_spark = spark.read.format(\"csv\").option(\"header\", \"true\").load(\"House_Price_Regression.csv\")\n",
    "\n",
    "rdd = sc.parallelize([], 3)\n",
    "\n",
    "rdd_data_spark = data_spark.rdd"
   ]
  },
  {
   "cell_type": "code",
   "execution_count": 16,
   "metadata": {},
   "outputs": [
    {
     "data": {
      "text/plain": [
       "[Row(neighborhood_recode='46.0', latitude='25.113208', longitude='55.138932', price='2700000', no_of_bedrooms='1', no_of_bathrooms='2', quality_recode='2.0', maid_room_recode='0.0', unfurnished_recode='0.0', balcony_recode='1.0', barbecue_area_recode='1.0', central_ac_recode='1.0', childrens_play_area_recode='1.0', childrens_pool_recode='0.0', concierge_recode='1.0', covered_parking_recode='0.0', kitchen_appliances_recode='1.0', maid_service_recode='0.0', pets_allowed_recode='1.0', private_garden_recode='0.0', private_gym_recode='0.0', private_jacuzzi_recode='0.0', private_pool_recode='0.0', security_recode='0.0', shared_gym_recode='1.0', shared_pool_recode='0.0', shared_spa_recode='0.0', view_of_water_recode='1.0', size_in_m_2='100.242337'),\n",
       " Row(neighborhood_recode='46.0', latitude='25.106809', longitude='55.151201', price='2850000', no_of_bedrooms='2', no_of_bathrooms='2', quality_recode='2.0', maid_room_recode='0.0', unfurnished_recode='0.0', balcony_recode='1.0', barbecue_area_recode='0.0', central_ac_recode='1.0', childrens_play_area_recode='1.0', childrens_pool_recode='0.0', concierge_recode='0.0', covered_parking_recode='0.0', kitchen_appliances_recode='0.0', maid_service_recode='0.0', pets_allowed_recode='0.0', private_garden_recode='0.0', private_gym_recode='0.0', private_jacuzzi_recode='0.0', private_pool_recode='0.0', security_recode='0.0', shared_gym_recode='1.0', shared_pool_recode='1.0', shared_spa_recode='0.0', view_of_water_recode='1.0', size_in_m_2='146.972546'),\n",
       " Row(neighborhood_recode='36.0', latitude='25.063302', longitude='55.137728', price='1150000', no_of_bedrooms='3', no_of_bathrooms='5', quality_recode='2.0', maid_room_recode='1.0', unfurnished_recode='1.0', balcony_recode='1.0', barbecue_area_recode='0.0', central_ac_recode='0.0', childrens_play_area_recode='0.0', childrens_pool_recode='0.0', concierge_recode='0.0', covered_parking_recode='1.0', kitchen_appliances_recode='0.0', maid_service_recode='0.0', pets_allowed_recode='0.0', private_garden_recode='0.0', private_gym_recode='0.0', private_jacuzzi_recode='1.0', private_pool_recode='0.0', security_recode='1.0', shared_gym_recode='1.0', shared_pool_recode='1.0', shared_spa_recode='0.0', view_of_water_recode='1.0', size_in_m_2='181.253753'),\n",
       " Row(neighborhood_recode='11.0', latitude='25.227295', longitude='55.341761', price='2850000', no_of_bedrooms='2', no_of_bathrooms='3', quality_recode='1.0', maid_room_recode='0.0', unfurnished_recode='1.0', balcony_recode='1.0', barbecue_area_recode='0.0', central_ac_recode='0.0', childrens_play_area_recode='0.0', childrens_pool_recode='0.0', concierge_recode='1.0', covered_parking_recode='1.0', kitchen_appliances_recode='0.0', maid_service_recode='0.0', pets_allowed_recode='1.0', private_garden_recode='0.0', private_gym_recode='0.0', private_jacuzzi_recode='0.0', private_pool_recode='0.0', security_recode='0.0', shared_gym_recode='0.0', shared_pool_recode='0.0', shared_spa_recode='0.0', view_of_water_recode='0.0', size_in_m_2='187.66406'),\n",
       " Row(neighborhood_recode='46.0', latitude='25.114275', longitude='55.139764', price='1729200', no_of_bedrooms='0', no_of_bathrooms='1', quality_recode='2.0', maid_room_recode='0.0', unfurnished_recode='0.0', balcony_recode='0.0', barbecue_area_recode='0.0', central_ac_recode='1.0', childrens_play_area_recode='0.0', childrens_pool_recode='0.0', concierge_recode='0.0', covered_parking_recode='1.0', kitchen_appliances_recode='1.0', maid_service_recode='0.0', pets_allowed_recode='0.0', private_garden_recode='0.0', private_gym_recode='0.0', private_jacuzzi_recode='0.0', private_pool_recode='0.0', security_recode='1.0', shared_gym_recode='1.0', shared_pool_recode='1.0', shared_spa_recode='1.0', view_of_water_recode='1.0', size_in_m_2='47.101821')]"
      ]
     },
     "execution_count": 16,
     "metadata": {},
     "output_type": "execute_result"
    }
   ],
   "source": [
    "rdd_data_spark.collect()[0:5]"
   ]
  },
  {
   "cell_type": "markdown",
   "metadata": {},
   "source": []
  },
  {
   "attachments": {},
   "cell_type": "markdown",
   "metadata": {},
   "source": [
    "## **Transformaciones sobre RDD**"
   ]
  },
  {
   "attachments": {},
   "cell_type": "markdown",
   "metadata": {},
   "source": [
    "Creamos rdd a partir de la columna `price` de `data_pandas`"
   ]
  },
  {
   "cell_type": "code",
   "execution_count": 20,
   "metadata": {},
   "outputs": [
    {
     "data": {
      "text/plain": [
       "[2700000, 2850000, 1150000, 2850000, 1729200, 3119900, 8503600]"
      ]
     },
     "execution_count": 20,
     "metadata": {},
     "output_type": "execute_result"
    }
   ],
   "source": [
    "rdd_price = sc.parallelize(data_pandas['price'])\n",
    "rdd_price.collect()[0:7]"
   ]
  },
  {
   "cell_type": "markdown",
   "metadata": {},
   "source": []
  },
  {
   "attachments": {},
   "cell_type": "markdown",
   "metadata": {},
   "source": [
    "### **Map**"
   ]
  },
  {
   "cell_type": "code",
   "execution_count": 21,
   "metadata": {},
   "outputs": [
    {
     "data": {
      "text/plain": [
       "[2699998, 2849998, 1149998, 2849998, 1729198, 3119898, 8503598]"
      ]
     },
     "execution_count": 21,
     "metadata": {},
     "output_type": "execute_result"
    }
   ],
   "source": [
    "rdd_price_trans_1 = rdd_price.map(lambda x : x-2)\n",
    "rdd_price_trans_1.collect()[0:7]"
   ]
  },
  {
   "cell_type": "code",
   "execution_count": 23,
   "metadata": {},
   "outputs": [
    {
     "data": {
      "text/plain": [
       "[True, True, False, True, False, True, True]"
      ]
     },
     "execution_count": 23,
     "metadata": {},
     "output_type": "execute_result"
    }
   ],
   "source": [
    "rdd_price_trans_2 = rdd_price.map(lambda x : x > data_pandas['price'].mean())\n",
    "rdd_price_trans_2.collect()[0:7]"
   ]
  },
  {
   "cell_type": "code",
   "execution_count": 26,
   "metadata": {},
   "outputs": [
    {
     "data": {
      "text/plain": [
       "['ESTE ES UN EJEMPLO DE ARCHIVO DE TEXTO :)',\n",
       " 'ESTO ES UNA FRASE DE PRUEBA 1.',\n",
       " 'ESTO ES UNA FRASE DE PRUEBA 2.',\n",
       " 'ESTO ES UNA FRASE DE PRUEBA 3.',\n",
       " 'ESTO ES UNA FRASE DE PRUEBA 4.',\n",
       " 'ESTO ES UNA FRASE DE PRUEBA 5.']"
      ]
     },
     "execution_count": 26,
     "metadata": {},
     "output_type": "execute_result"
    }
   ],
   "source": [
    "rdd_texto_trans_3 = rdd_texto.map(lambda x : x.upper())\n",
    "rdd_texto_trans_3.collect()"
   ]
  },
  {
   "cell_type": "code",
   "execution_count": 28,
   "metadata": {},
   "outputs": [
    {
     "data": {
      "text/plain": [
       "['Hola. Este es un ejemplo de archivo de texto :)',\n",
       " 'Hola. Esto es una frase de prueba 1.',\n",
       " 'Hola. Esto es una frase de prueba 2.',\n",
       " 'Hola. Esto es una frase de prueba 3.',\n",
       " 'Hola. Esto es una frase de prueba 4.',\n",
       " 'Hola. Esto es una frase de prueba 5.']"
      ]
     },
     "execution_count": 28,
     "metadata": {},
     "output_type": "execute_result"
    }
   ],
   "source": [
    "rdd_texto_trans_4 = rdd_texto.map(lambda x : 'Hola. ' + x)\n",
    "rdd_texto_trans_4.collect()"
   ]
  },
  {
   "cell_type": "markdown",
   "metadata": {},
   "source": []
  },
  {
   "attachments": {},
   "cell_type": "markdown",
   "metadata": {},
   "source": [
    "### **FlatMap**"
   ]
  },
  {
   "cell_type": "code",
   "execution_count": 29,
   "metadata": {},
   "outputs": [
    {
     "data": {
      "text/plain": [
       "[(2700000, 7290000000000),\n",
       " (2850000, 8122500000000),\n",
       " (1150000, 1322500000000),\n",
       " (2850000, 8122500000000),\n",
       " (1729200, 2990132640000),\n",
       " (3119900, 9733776010000),\n",
       " (8503600, 72311212960000)]"
      ]
     },
     "execution_count": 29,
     "metadata": {},
     "output_type": "execute_result"
    }
   ],
   "source": [
    "rdd_price_trans_5 = rdd_price.map(lambda x: (x, x ** 2))\n",
    "rdd_price_trans_5.collect()[0:7]"
   ]
  },
  {
   "cell_type": "code",
   "execution_count": 31,
   "metadata": {},
   "outputs": [
    {
     "data": {
      "text/plain": [
       "[2700000,\n",
       " 7290000000000,\n",
       " 2850000,\n",
       " 8122500000000,\n",
       " 1150000,\n",
       " 1322500000000,\n",
       " 2850000]"
      ]
     },
     "execution_count": 31,
     "metadata": {},
     "output_type": "execute_result"
    }
   ],
   "source": [
    "rdd_price_trans_5_flat = rdd_price.flatMap(lambda x: (x, x ** 2))\n",
    "rdd_price_trans_5_flat.collect()[0:7]"
   ]
  },
  {
   "cell_type": "code",
   "execution_count": 34,
   "metadata": {},
   "outputs": [
    {
     "data": {
      "text/plain": [
       "[('Este es un ejemplo de archivo de texto :)',\n",
       "  'ESTE ES UN EJEMPLO DE ARCHIVO DE TEXTO :)'),\n",
       " ('Esto es una frase de prueba 1.', 'ESTO ES UNA FRASE DE PRUEBA 1.'),\n",
       " ('Esto es una frase de prueba 2.', 'ESTO ES UNA FRASE DE PRUEBA 2.'),\n",
       " ('Esto es una frase de prueba 3.', 'ESTO ES UNA FRASE DE PRUEBA 3.'),\n",
       " ('Esto es una frase de prueba 4.', 'ESTO ES UNA FRASE DE PRUEBA 4.'),\n",
       " ('Esto es una frase de prueba 5.', 'ESTO ES UNA FRASE DE PRUEBA 5.')]"
      ]
     },
     "execution_count": 34,
     "metadata": {},
     "output_type": "execute_result"
    }
   ],
   "source": [
    "rdd_texto_trans_6 = rdd_texto.map(lambda x: (x, x.upper()))\n",
    "rdd_texto_trans_6.collect()"
   ]
  },
  {
   "cell_type": "code",
   "execution_count": 35,
   "metadata": {},
   "outputs": [
    {
     "data": {
      "text/plain": [
       "['Este es un ejemplo de archivo de texto :)',\n",
       " 'ESTE ES UN EJEMPLO DE ARCHIVO DE TEXTO :)',\n",
       " 'Esto es una frase de prueba 1.',\n",
       " 'ESTO ES UNA FRASE DE PRUEBA 1.',\n",
       " 'Esto es una frase de prueba 2.',\n",
       " 'ESTO ES UNA FRASE DE PRUEBA 2.',\n",
       " 'Esto es una frase de prueba 3.',\n",
       " 'ESTO ES UNA FRASE DE PRUEBA 3.',\n",
       " 'Esto es una frase de prueba 4.',\n",
       " 'ESTO ES UNA FRASE DE PRUEBA 4.',\n",
       " 'Esto es una frase de prueba 5.',\n",
       " 'ESTO ES UNA FRASE DE PRUEBA 5.']"
      ]
     },
     "execution_count": 35,
     "metadata": {},
     "output_type": "execute_result"
    }
   ],
   "source": [
    "rdd_texto_trans_6_flat = rdd_texto.flatMap(lambda x: (x, x.upper()))\n",
    "rdd_texto_trans_6_flat.collect()"
   ]
  },
  {
   "cell_type": "markdown",
   "metadata": {},
   "source": []
  },
  {
   "attachments": {},
   "cell_type": "markdown",
   "metadata": {},
   "source": [
    "## **Filter**"
   ]
  },
  {
   "cell_type": "code",
   "execution_count": null,
   "metadata": {},
   "outputs": [],
   "source": []
  },
  {
   "cell_type": "markdown",
   "metadata": {},
   "source": []
  },
  {
   "cell_type": "markdown",
   "metadata": {},
   "source": []
  },
  {
   "cell_type": "markdown",
   "metadata": {},
   "source": []
  },
  {
   "attachments": {},
   "cell_type": "markdown",
   "metadata": {},
   "source": [
    "## Cerrar sesion y asi liberar memoria:"
   ]
  },
  {
   "cell_type": "code",
   "execution_count": 22,
   "metadata": {},
   "outputs": [],
   "source": [
    "# spark.stop()"
   ]
  }
 ],
 "metadata": {
  "kernelspec": {
   "display_name": "Python 3",
   "language": "python",
   "name": "python3"
  },
  "language_info": {
   "codemirror_mode": {
    "name": "ipython",
    "version": 3
   },
   "file_extension": ".py",
   "mimetype": "text/x-python",
   "name": "python",
   "nbconvert_exporter": "python",
   "pygments_lexer": "ipython3",
   "version": "3.10.0"
  },
  "orig_nbformat": 4
 },
 "nbformat": 4,
 "nbformat_minor": 2
}
