{
 "cells": [
  {
   "cell_type": "code",
   "execution_count": 1,
   "metadata": {},
   "outputs": [
    {
     "name": "stdout",
     "output_type": "stream",
     "text": [
      "Collecting pyspark\n",
      "  Downloading pyspark-3.3.2.tar.gz (281.4 MB)\n",
      "     -------------------------------------- 281.4/281.4 MB 3.1 MB/s eta 0:00:00\n",
      "  Preparing metadata (setup.py): started\n",
      "  Preparing metadata (setup.py): finished with status 'done'\n",
      "Collecting py4j==0.10.9.5\n",
      "  Downloading py4j-0.10.9.5-py2.py3-none-any.whl (199 kB)\n",
      "     ---------------------------------------- 199.7/199.7 kB ? eta 0:00:00\n",
      "Building wheels for collected packages: pyspark\n",
      "  Building wheel for pyspark (setup.py): started\n",
      "  Building wheel for pyspark (setup.py): finished with status 'done'\n",
      "  Created wheel for pyspark: filename=pyspark-3.3.2-py2.py3-none-any.whl size=281824024 sha256=c6a6efe5e7bcea8ef4d9c2256fda8bf7f52688a7d96651fbc3c984d7d905ab1b\n",
      "  Stored in directory: c:\\users\\usuario\\appdata\\local\\pip\\cache\\wheels\\ad\\fa\\e3\\0ed85d0d18ebd9e1344ffd6c1d1d0031af21eee1988ba36050\n",
      "Successfully built pyspark\n",
      "Installing collected packages: py4j, pyspark\n",
      "Successfully installed py4j-0.10.9.5 pyspark-3.3.2\n",
      "Note: you may need to restart the kernel to use updated packages.\n"
     ]
    },
    {
     "name": "stderr",
     "output_type": "stream",
     "text": [
      "\n",
      "[notice] A new release of pip available: 22.3.1 -> 23.0.1\n",
      "[notice] To update, run: python.exe -m pip install --upgrade pip\n"
     ]
    }
   ],
   "source": [
    "# pip install pyspark"
   ]
  },
  {
   "cell_type": "code",
   "execution_count": 1,
   "metadata": {},
   "outputs": [],
   "source": [
    "from pyspark.sql import SparkSession"
   ]
  },
  {
   "cell_type": "code",
   "execution_count": 8,
   "metadata": {},
   "outputs": [],
   "source": [
    "# Crea SparkSession\n",
    "spark = SparkSession.builder.master(\"local[*]\").appName(\"MiApp\").getOrCreate()\n",
    "\n",
    "# .master(\"local[*]\") --> para que se usen todos los nucleos (cores) de tu PC"
   ]
  },
  {
   "cell_type": "code",
   "execution_count": 9,
   "metadata": {},
   "outputs": [
    {
     "data": {
      "text/html": [
       "\n",
       "            <div>\n",
       "                <p><b>SparkSession - in-memory</b></p>\n",
       "                \n",
       "        <div>\n",
       "            <p><b>SparkContext</b></p>\n",
       "\n",
       "            <p><a href=\"http://DESKTOP-QR2V49E:4040\">Spark UI</a></p>\n",
       "\n",
       "            <dl>\n",
       "              <dt>Version</dt>\n",
       "                <dd><code>v3.3.2</code></dd>\n",
       "              <dt>Master</dt>\n",
       "                <dd><code>local[*]</code></dd>\n",
       "              <dt>AppName</dt>\n",
       "                <dd><code>MiApp</code></dd>\n",
       "            </dl>\n",
       "        </div>\n",
       "        \n",
       "            </div>\n",
       "        "
      ],
      "text/plain": [
       "<pyspark.sql.session.SparkSession at 0x2143b34e320>"
      ]
     },
     "execution_count": 9,
     "metadata": {},
     "output_type": "execute_result"
    }
   ],
   "source": [
    "spark"
   ]
  },
  {
   "cell_type": "code",
   "execution_count": 12,
   "metadata": {},
   "outputs": [],
   "source": [
    "sc = spark.sparkContext"
   ]
  },
  {
   "attachments": {},
   "cell_type": "markdown",
   "metadata": {},
   "source": [
    "**¿Qué es un RDD?**\n",
    "\n",
    "Resilient Distributed Dataset (RDD)\n"
   ]
  },
  {
   "cell_type": "code",
   "execution_count": 13,
   "metadata": {},
   "outputs": [],
   "source": [
    "# crear rdd vacio\n",
    "\n",
    "rdd_vacio = sc.emptyRDD"
   ]
  },
  {
   "cell_type": "code",
   "execution_count": 14,
   "metadata": {},
   "outputs": [],
   "source": [
    "# crear rdd vacio con 3 particiones\n",
    "\n",
    "rdd_vacio_3 = sc.parallelize([], 3)"
   ]
  },
  {
   "cell_type": "code",
   "execution_count": 16,
   "metadata": {},
   "outputs": [
    {
     "data": {
      "text/plain": [
       "3"
      ]
     },
     "execution_count": 16,
     "metadata": {},
     "output_type": "execute_result"
    }
   ],
   "source": [
    "rdd_vacio3.getNumPartitions()"
   ]
  },
  {
   "cell_type": "code",
   "execution_count": 17,
   "metadata": {},
   "outputs": [],
   "source": [
    "# crear rdd no vacio con 3 particiones\n",
    "rdd_no_vacio_3 = sc.parallelize([1,2,3,4,5], 3)"
   ]
  },
  {
   "cell_type": "code",
   "execution_count": 18,
   "metadata": {},
   "outputs": [
    {
     "data": {
      "text/plain": [
       "[1, 2, 3, 4, 5]"
      ]
     },
     "execution_count": 18,
     "metadata": {},
     "output_type": "execute_result"
    }
   ],
   "source": [
    "# ver los datos almacenados en el rdd\n",
    "rdd_no_vacio_3.collect()"
   ]
  },
  {
   "cell_type": "code",
   "execution_count": 23,
   "metadata": {},
   "outputs": [],
   "source": [
    "# Crear un RDD desde un archivo de texto\n",
    "rdd_texto = sc.textFile('./ejemplo_texto.txt')"
   ]
  },
  {
   "cell_type": "code",
   "execution_count": 24,
   "metadata": {},
   "outputs": [
    {
     "data": {
      "text/plain": [
       "['Este es un ejemplo de archivo de texto :)',\n",
       " 'Esto es una frase de prueba 1.',\n",
       " 'Esto es una frase de prueba 2.',\n",
       " 'Esto es una frase de prueba 3.',\n",
       " 'Esto es una frase de prueba 4.',\n",
       " 'Esto es una frase de prueba 5.']"
      ]
     },
     "execution_count": 24,
     "metadata": {},
     "output_type": "execute_result"
    }
   ],
   "source": [
    "rdd_texto.collect()"
   ]
  },
  {
   "cell_type": "code",
   "execution_count": 25,
   "metadata": {},
   "outputs": [],
   "source": [
    "rdd_texto_completo = sc.wholeTextFiles('./ejemplo_texto.txt')"
   ]
  },
  {
   "cell_type": "code",
   "execution_count": 26,
   "metadata": {},
   "outputs": [
    {
     "data": {
      "text/plain": [
       "[('file:/c:/Users/Usuario/Documents/fabio/Fabio/Estadistica4all.github.io-1/Notebooks/Spark/ejemplo_texto.txt',\n",
       "  'Este es un ejemplo de archivo de texto :)\\r\\nEsto es una frase de prueba 1.\\r\\nEsto es una frase de prueba 2.\\r\\nEsto es una frase de prueba 3.\\r\\nEsto es una frase de prueba 4.\\r\\nEsto es una frase de prueba 5.')]"
      ]
     },
     "execution_count": 26,
     "metadata": {},
     "output_type": "execute_result"
    }
   ],
   "source": [
    "rdd_texto_completo.collect()"
   ]
  },
  {
   "cell_type": "code",
   "execution_count": 27,
   "metadata": {},
   "outputs": [],
   "source": [
    "# Crear un RDD a partir de un data-frame:\n",
    "\n",
    "data = spark.read.format(\"csv\").option(\"header\", \"true\").load(\"House_Price_Regression.csv\")\n",
    "\n",
    "rdd = sc.parallelize([], 3)\n",
    "\n",
    "rdd_data = data.rdd"
   ]
  },
  {
   "cell_type": "code",
   "execution_count": 29,
   "metadata": {},
   "outputs": [
    {
     "data": {
      "text/plain": [
       "[Row(neighborhood_recode='46.0', latitude='25.113208', longitude='55.138932', price='2700000', no_of_bedrooms='1', no_of_bathrooms='2', quality_recode='2.0', maid_room_recode='0.0', unfurnished_recode='0.0', balcony_recode='1.0', barbecue_area_recode='1.0', central_ac_recode='1.0', childrens_play_area_recode='1.0', childrens_pool_recode='0.0', concierge_recode='1.0', covered_parking_recode='0.0', kitchen_appliances_recode='1.0', maid_service_recode='0.0', pets_allowed_recode='1.0', private_garden_recode='0.0', private_gym_recode='0.0', private_jacuzzi_recode='0.0', private_pool_recode='0.0', security_recode='0.0', shared_gym_recode='1.0', shared_pool_recode='0.0', shared_spa_recode='0.0', view_of_water_recode='1.0', size_in_m_2='100.242337'),\n",
       " Row(neighborhood_recode='46.0', latitude='25.106809', longitude='55.151201', price='2850000', no_of_bedrooms='2', no_of_bathrooms='2', quality_recode='2.0', maid_room_recode='0.0', unfurnished_recode='0.0', balcony_recode='1.0', barbecue_area_recode='0.0', central_ac_recode='1.0', childrens_play_area_recode='1.0', childrens_pool_recode='0.0', concierge_recode='0.0', covered_parking_recode='0.0', kitchen_appliances_recode='0.0', maid_service_recode='0.0', pets_allowed_recode='0.0', private_garden_recode='0.0', private_gym_recode='0.0', private_jacuzzi_recode='0.0', private_pool_recode='0.0', security_recode='0.0', shared_gym_recode='1.0', shared_pool_recode='1.0', shared_spa_recode='0.0', view_of_water_recode='1.0', size_in_m_2='146.972546'),\n",
       " Row(neighborhood_recode='36.0', latitude='25.063302', longitude='55.137728', price='1150000', no_of_bedrooms='3', no_of_bathrooms='5', quality_recode='2.0', maid_room_recode='1.0', unfurnished_recode='1.0', balcony_recode='1.0', barbecue_area_recode='0.0', central_ac_recode='0.0', childrens_play_area_recode='0.0', childrens_pool_recode='0.0', concierge_recode='0.0', covered_parking_recode='1.0', kitchen_appliances_recode='0.0', maid_service_recode='0.0', pets_allowed_recode='0.0', private_garden_recode='0.0', private_gym_recode='0.0', private_jacuzzi_recode='1.0', private_pool_recode='0.0', security_recode='1.0', shared_gym_recode='1.0', shared_pool_recode='1.0', shared_spa_recode='0.0', view_of_water_recode='1.0', size_in_m_2='181.253753'),\n",
       " Row(neighborhood_recode='11.0', latitude='25.227295', longitude='55.341761', price='2850000', no_of_bedrooms='2', no_of_bathrooms='3', quality_recode='1.0', maid_room_recode='0.0', unfurnished_recode='1.0', balcony_recode='1.0', barbecue_area_recode='0.0', central_ac_recode='0.0', childrens_play_area_recode='0.0', childrens_pool_recode='0.0', concierge_recode='1.0', covered_parking_recode='1.0', kitchen_appliances_recode='0.0', maid_service_recode='0.0', pets_allowed_recode='1.0', private_garden_recode='0.0', private_gym_recode='0.0', private_jacuzzi_recode='0.0', private_pool_recode='0.0', security_recode='0.0', shared_gym_recode='0.0', shared_pool_recode='0.0', shared_spa_recode='0.0', view_of_water_recode='0.0', size_in_m_2='187.66406'),\n",
       " Row(neighborhood_recode='46.0', latitude='25.114275', longitude='55.139764', price='1729200', no_of_bedrooms='0', no_of_bathrooms='1', quality_recode='2.0', maid_room_recode='0.0', unfurnished_recode='0.0', balcony_recode='0.0', barbecue_area_recode='0.0', central_ac_recode='1.0', childrens_play_area_recode='0.0', childrens_pool_recode='0.0', concierge_recode='0.0', covered_parking_recode='1.0', kitchen_appliances_recode='1.0', maid_service_recode='0.0', pets_allowed_recode='0.0', private_garden_recode='0.0', private_gym_recode='0.0', private_jacuzzi_recode='0.0', private_pool_recode='0.0', security_recode='1.0', shared_gym_recode='1.0', shared_pool_recode='1.0', shared_spa_recode='1.0', view_of_water_recode='1.0', size_in_m_2='47.101821')]"
      ]
     },
     "execution_count": 29,
     "metadata": {},
     "output_type": "execute_result"
    }
   ],
   "source": [
    "rdd_data.collect()[0:5]"
   ]
  },
  {
   "cell_type": "code",
   "execution_count": 30,
   "metadata": {},
   "outputs": [
    {
     "name": "stdout",
     "output_type": "stream",
     "text": [
      "+-------------------+---------+---------+-------+--------------+---------------+--------------+----------------+------------------+--------------+--------------------+-----------------+--------------------------+---------------------+----------------+----------------------+-------------------------+-------------------+-------------------+---------------------+------------------+----------------------+-------------------+---------------+-----------------+------------------+-----------------+--------------------+-----------+\n",
      "|neighborhood_recode| latitude|longitude|  price|no_of_bedrooms|no_of_bathrooms|quality_recode|maid_room_recode|unfurnished_recode|balcony_recode|barbecue_area_recode|central_ac_recode|childrens_play_area_recode|childrens_pool_recode|concierge_recode|covered_parking_recode|kitchen_appliances_recode|maid_service_recode|pets_allowed_recode|private_garden_recode|private_gym_recode|private_jacuzzi_recode|private_pool_recode|security_recode|shared_gym_recode|shared_pool_recode|shared_spa_recode|view_of_water_recode|size_in_m_2|\n",
      "+-------------------+---------+---------+-------+--------------+---------------+--------------+----------------+------------------+--------------+--------------------+-----------------+--------------------------+---------------------+----------------+----------------------+-------------------------+-------------------+-------------------+---------------------+------------------+----------------------+-------------------+---------------+-----------------+------------------+-----------------+--------------------+-----------+\n",
      "|               46.0|25.113208|55.138932|2700000|             1|              2|           2.0|             0.0|               0.0|           1.0|                 1.0|              1.0|                       1.0|                  0.0|             1.0|                   0.0|                      1.0|                0.0|                1.0|                  0.0|               0.0|                   0.0|                0.0|            0.0|              1.0|               0.0|              0.0|                 1.0| 100.242337|\n",
      "|               46.0|25.106809|55.151201|2850000|             2|              2|           2.0|             0.0|               0.0|           1.0|                 0.0|              1.0|                       1.0|                  0.0|             0.0|                   0.0|                      0.0|                0.0|                0.0|                  0.0|               0.0|                   0.0|                0.0|            0.0|              1.0|               1.0|              0.0|                 1.0| 146.972546|\n",
      "|               36.0|25.063302|55.137728|1150000|             3|              5|           2.0|             1.0|               1.0|           1.0|                 0.0|              0.0|                       0.0|                  0.0|             0.0|                   1.0|                      0.0|                0.0|                0.0|                  0.0|               0.0|                   1.0|                0.0|            1.0|              1.0|               1.0|              0.0|                 1.0| 181.253753|\n",
      "|               11.0|25.227295|55.341761|2850000|             2|              3|           1.0|             0.0|               1.0|           1.0|                 0.0|              0.0|                       0.0|                  0.0|             1.0|                   1.0|                      0.0|                0.0|                1.0|                  0.0|               0.0|                   0.0|                0.0|            0.0|              0.0|               0.0|              0.0|                 0.0|  187.66406|\n",
      "|               46.0|25.114275|55.139764|1729200|             0|              1|           2.0|             0.0|               0.0|           0.0|                 0.0|              1.0|                       0.0|                  0.0|             0.0|                   1.0|                      1.0|                0.0|                0.0|                  0.0|               0.0|                   0.0|                0.0|            1.0|              1.0|               1.0|              1.0|                 1.0|  47.101821|\n",
      "+-------------------+---------+---------+-------+--------------+---------------+--------------+----------------+------------------+--------------+--------------------+-----------------+--------------------------+---------------------+----------------+----------------------+-------------------------+-------------------+-------------------+---------------------+------------------+----------------------+-------------------+---------------+-----------------+------------------+-----------------+--------------------+-----------+\n",
      "only showing top 5 rows\n",
      "\n"
     ]
    }
   ],
   "source": [
    "data.show(5)"
   ]
  },
  {
   "cell_type": "markdown",
   "metadata": {},
   "source": []
  },
  {
   "cell_type": "code",
   "execution_count": null,
   "metadata": {},
   "outputs": [],
   "source": []
  },
  {
   "cell_type": "code",
   "execution_count": null,
   "metadata": {},
   "outputs": [],
   "source": []
  }
 ],
 "metadata": {
  "kernelspec": {
   "display_name": "Python 3",
   "language": "python",
   "name": "python3"
  },
  "language_info": {
   "codemirror_mode": {
    "name": "ipython",
    "version": 3
   },
   "file_extension": ".py",
   "mimetype": "text/x-python",
   "name": "python",
   "nbconvert_exporter": "python",
   "pygments_lexer": "ipython3",
   "version": "3.10.0"
  },
  "orig_nbformat": 4
 },
 "nbformat": 4,
 "nbformat_minor": 2
}
