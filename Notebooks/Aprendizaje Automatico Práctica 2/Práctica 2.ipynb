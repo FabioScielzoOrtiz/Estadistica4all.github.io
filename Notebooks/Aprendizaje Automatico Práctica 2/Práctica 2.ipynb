{
 "cells": [
  {
   "cell_type": "markdown",
   "metadata": {},
   "source": [
    "# Descripción conceptual de las variables del data-set"
   ]
  },
  {
   "cell_type": "markdown",
   "metadata": {},
   "source": [
    "El data set con el que vamos a trabajar consta de 4380 observaciones (filas) , cada una representa un dia. Estan los dias de 12 años.\n",
    "\n",
    "Hay 15 predictores que estan medidos en 5 momentos del dia distintos, **usando distintas unidades de medidas** en algunas de esas mediciones, y estas variables se miden en cada uno de los 4380 dias. Por tanto realmente hay 15 predictores básicos que dan lugar a 5*15 = 75 predictores.\n",
    "\n",
    "El data set se puede ver como la concatenacion (por columnas) de 6 data sets, 5 de ellos con los 15 predictores ,y  en cada uno de esos 5 data sets se miden los predictores en un momento del dia diferente (un momento asociado a cada uno de los 5 data set) , y por ultimo un data set solo con la respuesta."
   ]
  },
  {
   "cell_type": "markdown",
   "metadata": {},
   "source": [
    "El data-set con el que vamos a trabajar puede representarse matricialmente como sigue:\n",
    "\n",
    "$$\\text{Data-set}=(X_{1,1}, X_{1,2},...X_{1,5}, X_{2,1},...,X_{2,5},...,X_{15,1},...,X_{15,5}, Y)$$"
   ]
  },
  {
   "cell_type": "markdown",
   "metadata": {},
   "source": [
    "Tiene la particularidad de que para algunos predictores $j$ y algunos momentos del dia $t1 \\neq t2$ se puede cumplir que $X_{j,t1}$ se mida en unidades distintas que $X_{j,t2}$ , pese a que han sido generados por el mismo predictor básico $X_j$. Esto conduce a que pueda ser que la variable $X_{j,t1}$ sea de un tipo distinto que $X_{j,t2}$"
   ]
  },
  {
   "cell_type": "markdown",
   "metadata": {},
   "source": []
  },
  {
   "cell_type": "markdown",
   "metadata": {},
   "source": [
    "**Descripción conceptual de los predictores básicos:**\n",
    "\n"
   ]
  },
  {
   "cell_type": "markdown",
   "metadata": {},
   "source": [
    "\n",
    "|      Variable           |          Descripción   |   Unidades de medida (originales)  |\n",
    "|:------------------------:|:---------------------:|:---------------------:|\n",
    "| apcp_sfc   | 3-Hour accumulated precipitation at the surface | kg / m-2 |\n",
    "| dlwrf_sfc | Downward long-wave radiative flux average at the surface | W m-2 |\n",
    "| dswrf_sfc    |Downward short-wave radiative flux average at the surface  | W m-2 |\n",
    "|  pres_msl |Air pressure at mean sea level | Pa |\n",
    "|  pwat_eatm   | Precipitable Water over the entire depth of the atmosphere | kg / m-2 |\n",
    "| spfh_2m  |  Specific Humidity at 2 m above ground    | kg kg-1 |\n",
    "|  tcdc_eatm   |   Total cloud cover over the entire depth of the atmosphere    | % |\n",
    "|  tcolc_eatm |  Total column-integrated condensate over the entire atmos        |kg m-2 |\n",
    "| tmax_2m    |   Maximum Temperature over the past 3 hours at 2 m above the ground     | K |\n",
    "|  tmin_2m |    Mininmum Temperature over the past 3 hours at 2 m above the ground     |K |\n",
    "| tmp_2m    |    Current temperature at 2 m above the ground        | K |\n",
    "|  tmp_sfc |   Temperature of the surface    | K |\n",
    "|  ulwrf_sfc   |     Upward long-wave radiation at the surface     | W m-2 |\n",
    "| ulwrf_tatm  |   Upward long-wave radiation at the top of the atmosphere    | W m-2 |\n",
    "| uswrf_sfc  |   Upward short-wave radiation at the surface    | W m-2 |"
   ]
  },
  {
   "cell_type": "markdown",
   "metadata": {},
   "source": []
  },
  {
   "cell_type": "markdown",
   "metadata": {},
   "source": [
    "# EDA en `Python`"
   ]
  },
  {
   "cell_type": "code",
   "execution_count": null,
   "metadata": {},
   "outputs": [],
   "source": [
    "import warnings\n",
    "warnings.filterwarnings(\"ignore\")\n",
    "\n",
    "import pandas as pd\n",
    "\n",
    "pd.set_option('display.max_columns', 75)\n"
   ]
  },
  {
   "cell_type": "code",
   "execution_count": null,
   "metadata": {},
   "outputs": [],
   "source": [
    "\n",
    "Data_Py = pd.read_csv('disp_2.csv')\n",
    "\n",
    "Data_Py.head()"
   ]
  },
  {
   "cell_type": "markdown",
   "metadata": {},
   "source": [
    "Vamos a comprobar con `Python` cuantas observaciones y variables hay en el data-set:"
   ]
  },
  {
   "cell_type": "code",
   "execution_count": 6,
   "metadata": {},
   "outputs": [
    {
     "data": {
      "text/plain": [
       "(4380, 76)"
      ]
     },
     "execution_count": 6,
     "metadata": {},
     "output_type": "execute_result"
    }
   ],
   "source": [
    "Data_Py.shape"
   ]
  },
  {
   "cell_type": "markdown",
   "metadata": {},
   "source": [
    "Como ya se ha comentado antes, tenemos un data-set con 76 variables y 4380 observaciones. \n",
    "\n",
    "75 de las 76 variables serán considerados predictores. Y la variable restante, la respuesta."
   ]
  },
  {
   "cell_type": "markdown",
   "metadata": {},
   "source": []
  },
  {
   "cell_type": "markdown",
   "metadata": {},
   "source": [
    "Ahora vamos a comprobar de qué tipo son los atributos segun `Python`"
   ]
  },
  {
   "cell_type": "code",
   "execution_count": 14,
   "metadata": {},
   "outputs": [
    {
     "data": {
      "text/plain": [
       "apcp_sf1_1     object\n",
       "apcp_sf2_1     object\n",
       "apcp_sf3_1     object\n",
       "apcp_sf4_1    float64\n",
       "apcp_sf5_1    float64\n",
       "dlwrf_s1_1     object\n",
       "dlwrf_s2_1    float64\n",
       "dlwrf_s3_1     object\n",
       "dlwrf_s4_1     object\n",
       "dlwrf_s5_1    float64\n",
       "dswrf_s1_1    float64\n",
       "dswrf_s2_1    float64\n",
       "dswrf_s3_1    float64\n",
       "dswrf_s4_1    float64\n",
       "dswrf_s5_1     object\n",
       "pres_ms1_1     object\n",
       "pres_ms2_1     object\n",
       "pres_ms3_1     object\n",
       "pres_ms4_1     object\n",
       "pres_ms5_1    float64\n",
       "pwat_ea1_1    float64\n",
       "pwat_ea2_1    float64\n",
       "pwat_ea3_1     object\n",
       "pwat_ea4_1    float64\n",
       "pwat_ea5_1    float64\n",
       "spfh_2m1_1    float64\n",
       "spfh_2m2_1    float64\n",
       "spfh_2m3_1    float64\n",
       "spfh_2m4_1    float64\n",
       "spfh_2m5_1     object\n",
       "tcdc_ea1_1    float64\n",
       "tcdc_ea2_1     object\n",
       "tcdc_ea3_1     object\n",
       "tcdc_ea4_1    float64\n",
       "tcdc_ea5_1    float64\n",
       "tcolc_e1_1     object\n",
       "tcolc_e2_1    float64\n",
       "tcolc_e3_1     object\n",
       "tcolc_e4_1     object\n",
       "tcolc_e5_1     object\n",
       "tmax_2m1_1     object\n",
       "tmax_2m2_1    float64\n",
       "tmax_2m3_1     object\n",
       "tmax_2m4_1    float64\n",
       "tmax_2m5_1     object\n",
       "tmin_2m1_1     object\n",
       "tmin_2m2_1     object\n",
       "tmin_2m3_1     object\n",
       "tmin_2m4_1    float64\n",
       "tmin_2m5_1     object\n",
       "tmp_2m_1_1     object\n",
       "tmp_2m_2_1    float64\n",
       "tmp_2m_3_1     object\n",
       "tmp_2m_4_1     object\n",
       "tmp_2m_5_1     object\n",
       "tmp_sfc1_1    float64\n",
       "tmp_sfc2_1    float64\n",
       "tmp_sfc3_1    float64\n",
       "tmp_sfc4_1     object\n",
       "tmp_sfc5_1    float64\n",
       "ulwrf_s1_1    float64\n",
       "ulwrf_s2_1     object\n",
       "ulwrf_s3_1     object\n",
       "ulwrf_s4_1     object\n",
       "ulwrf_s5_1     object\n",
       "ulwrf_t1_1    float64\n",
       "ulwrf_t2_1     object\n",
       "ulwrf_t3_1    float64\n",
       "ulwrf_t4_1     object\n",
       "ulwrf_t5_1     object\n",
       "uswrf_s1_1    float64\n",
       "uswrf_s2_1     object\n",
       "uswrf_s3_1    float64\n",
       "uswrf_s4_1     object\n",
       "uswrf_s5_1     object\n",
       "salida          int64\n",
       "dtype: object"
      ]
     },
     "execution_count": 14,
     "metadata": {},
     "output_type": "execute_result"
    }
   ],
   "source": [
    "Data_Py.dtypes"
   ]
  },
  {
   "cell_type": "markdown",
   "metadata": {},
   "source": []
  },
  {
   "cell_type": "markdown",
   "metadata": {},
   "source": [
    "La respuesta es una variable cuantitativa entera (`int`).\n",
    "\n",
    "Los predictores son o bien de tipo cuantitativo continuo (`float`) o bien de tipo categorico (`object`)."
   ]
  },
  {
   "cell_type": "markdown",
   "metadata": {},
   "source": []
  },
  {
   "cell_type": "markdown",
   "metadata": {},
   "source": [
    "Valores faltantes ?"
   ]
  },
  {
   "cell_type": "markdown",
   "metadata": {},
   "source": [
    "Variables constantes ?"
   ]
  },
  {
   "cell_type": "markdown",
   "metadata": {},
   "source": [
    "Plot de la respuesta vs tiempo (días)"
   ]
  },
  {
   "cell_type": "markdown",
   "metadata": {},
   "source": []
  },
  {
   "cell_type": "markdown",
   "metadata": {},
   "source": [
    "Métricas para evaluar modelos (explicar las mas usaadas tanto en problemas de clasificacion (TAC, TEC etc) como en regresion (ECM, RECM, EAR etc))"
   ]
  }
 ],
 "metadata": {
  "kernelspec": {
   "display_name": "Python 3.10.0 64-bit",
   "language": "python",
   "name": "python3"
  },
  "language_info": {
   "codemirror_mode": {
    "name": "ipython",
    "version": 3
   },
   "file_extension": ".py",
   "mimetype": "text/x-python",
   "name": "python",
   "nbconvert_exporter": "python",
   "pygments_lexer": "ipython3",
   "version": "3.10.0"
  },
  "orig_nbformat": 4,
  "vscode": {
   "interpreter": {
    "hash": "c63d8c7d738c2960218a10995aedf0a7f67a49a231e71037adf0440953cdb45b"
   }
  }
 },
 "nbformat": 4,
 "nbformat_minor": 2
}
