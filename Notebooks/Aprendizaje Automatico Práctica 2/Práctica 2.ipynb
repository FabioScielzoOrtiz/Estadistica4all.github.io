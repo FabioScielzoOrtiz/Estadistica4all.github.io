{
 "cells": [
  {
   "cell_type": "markdown",
   "metadata": {},
   "source": [
    "# Descripción conceptual de las variables del data-set"
   ]
  },
  {
   "cell_type": "markdown",
   "metadata": {},
   "source": [
    "El data set con el que vamos a trabajar consta de 4380 observaciones (filas) , cada una representa un dia. Estan los dias de 12 años.\n",
    "\n",
    "Hay 15 predictores que estan medidos en 5 momentos del dia distintos, **usando distintas unidades de medidas** en algunas de esas mediciones, y estas variables se miden en cada uno de los 4380 dias. Por tanto realmente hay 15 predictores básicos que dan lugar a 5*15 = 75 predictores.\n",
    "\n",
    "El data set se puede ver como la concatenacion (por columnas) de 6 data sets, 5 de ellos con los 15 predictores ,y  en cada uno de esos 5 data sets se miden los predictores en un momento del dia diferente (un momento asociado a cada uno de los 5 data set) , y por ultimo un data set solo con la respuesta."
   ]
  },
  {
   "cell_type": "markdown",
   "metadata": {},
   "source": [
    "El data-set con el que vamos a trabajar puede representarse matricialmente como sigue:\n",
    "\n",
    "$$\\text{D}=(X_{1,1}, X_{1,2},...X_{1,5}, X_{2,1},...,X_{2,5},...,X_{15,1},...,X_{15,5}, Y)$$"
   ]
  },
  {
   "cell_type": "markdown",
   "metadata": {},
   "source": [
    "Tiene la particularidad de que para algunos predictores $j$ y algunos momentos del dia $t1 \\neq t2$ se puede cumplir que $X_{j,t1}$ se mida en unidades distintas que $X_{j,t2}$ , pese a que han sido generados por el mismo predictor básico $X_j$. Esto conduce a que pueda ser que la variable $X_{j,t1}$ sea de un tipo distinto que $X_{j,t2}$"
   ]
  },
  {
   "cell_type": "markdown",
   "metadata": {},
   "source": []
  },
  {
   "cell_type": "markdown",
   "metadata": {},
   "source": [
    "**Descripción conceptual de los predictores básicos:**\n",
    "\n"
   ]
  },
  {
   "cell_type": "markdown",
   "metadata": {},
   "source": [
    "\n",
    "|      Variable           |          Descripción   |   Unidades de medida (originales)  |\n",
    "|:------------------------:|:---------------------:|:---------------------:|\n",
    "| apcp_sfc   | 3-Hour accumulated precipitation at the surface | kg / m-2 |\n",
    "| dlwrf_sfc | Downward long-wave radiative flux average at the surface | W m-2 |\n",
    "| dswrf_sfc    |Downward short-wave radiative flux average at the surface  | W m-2 |\n",
    "|  pres_msl |Air pressure at mean sea level | Pa |\n",
    "|  pwat_eatm   | Precipitable Water over the entire depth of the atmosphere | kg / m-2 |\n",
    "| spfh_2m  |  Specific Humidity at 2 m above ground    | kg kg-1 |\n",
    "|  tcdc_eatm   |   Total cloud cover over the entire depth of the atmosphere    | % |\n",
    "|  tcolc_eatm |  Total column-integrated condensate over the entire atmos        |kg m-2 |\n",
    "| tmax_2m    |   Maximum Temperature over the past 3 hours at 2 m above the ground     | K |\n",
    "|  tmin_2m |    Mininmum Temperature over the past 3 hours at 2 m above the ground     |K |\n",
    "| tmp_2m    |    Current temperature at 2 m above the ground        | K |\n",
    "|  tmp_sfc |   Temperature of the surface    | K |\n",
    "|  ulwrf_sfc   |     Upward long-wave radiation at the surface     | W m-2 |\n",
    "| ulwrf_tatm  |   Upward long-wave radiation at the top of the atmosphere    | W m-2 |\n",
    "| uswrf_sfc  |   Upward short-wave radiation at the surface    | W m-2 |"
   ]
  },
  {
   "cell_type": "markdown",
   "metadata": {},
   "source": []
  },
  {
   "cell_type": "markdown",
   "metadata": {},
   "source": [
    "# EDA en `Python`"
   ]
  },
  {
   "cell_type": "code",
   "execution_count": 6,
   "metadata": {},
   "outputs": [],
   "source": [
    "import warnings\n",
    "warnings.filterwarnings(\"ignore\")\n",
    "\n",
    "import pandas as pd\n",
    "\n",
    "pd.set_option('display.max_columns', 100)\n",
    "pd.set_option('display.max_rows', 100)"
   ]
  },
  {
   "cell_type": "code",
   "execution_count": 2,
   "metadata": {},
   "outputs": [
    {
     "data": {
      "text/html": [
       "<div>\n",
       "<style scoped>\n",
       "    .dataframe tbody tr th:only-of-type {\n",
       "        vertical-align: middle;\n",
       "    }\n",
       "\n",
       "    .dataframe tbody tr th {\n",
       "        vertical-align: top;\n",
       "    }\n",
       "\n",
       "    .dataframe thead th {\n",
       "        text-align: right;\n",
       "    }\n",
       "</style>\n",
       "<table border=\"1\" class=\"dataframe\">\n",
       "  <thead>\n",
       "    <tr style=\"text-align: right;\">\n",
       "      <th></th>\n",
       "      <th>apcp_sf1_1</th>\n",
       "      <th>apcp_sf2_1</th>\n",
       "      <th>apcp_sf3_1</th>\n",
       "      <th>apcp_sf4_1</th>\n",
       "      <th>apcp_sf5_1</th>\n",
       "      <th>dlwrf_s1_1</th>\n",
       "      <th>dlwrf_s2_1</th>\n",
       "      <th>dlwrf_s3_1</th>\n",
       "      <th>dlwrf_s4_1</th>\n",
       "      <th>dlwrf_s5_1</th>\n",
       "      <th>dswrf_s1_1</th>\n",
       "      <th>dswrf_s2_1</th>\n",
       "      <th>dswrf_s3_1</th>\n",
       "      <th>dswrf_s4_1</th>\n",
       "      <th>dswrf_s5_1</th>\n",
       "      <th>pres_ms1_1</th>\n",
       "      <th>pres_ms2_1</th>\n",
       "      <th>pres_ms3_1</th>\n",
       "      <th>pres_ms4_1</th>\n",
       "      <th>pres_ms5_1</th>\n",
       "      <th>pwat_ea1_1</th>\n",
       "      <th>pwat_ea2_1</th>\n",
       "      <th>pwat_ea3_1</th>\n",
       "      <th>pwat_ea4_1</th>\n",
       "      <th>pwat_ea5_1</th>\n",
       "      <th>spfh_2m1_1</th>\n",
       "      <th>spfh_2m2_1</th>\n",
       "      <th>spfh_2m3_1</th>\n",
       "      <th>spfh_2m4_1</th>\n",
       "      <th>spfh_2m5_1</th>\n",
       "      <th>tcdc_ea1_1</th>\n",
       "      <th>tcdc_ea2_1</th>\n",
       "      <th>tcdc_ea3_1</th>\n",
       "      <th>tcdc_ea4_1</th>\n",
       "      <th>tcdc_ea5_1</th>\n",
       "      <th>tcolc_e1_1</th>\n",
       "      <th>tcolc_e2_1</th>\n",
       "      <th>...</th>\n",
       "      <th>tcolc_e5_1</th>\n",
       "      <th>tmax_2m1_1</th>\n",
       "      <th>tmax_2m2_1</th>\n",
       "      <th>tmax_2m3_1</th>\n",
       "      <th>tmax_2m4_1</th>\n",
       "      <th>tmax_2m5_1</th>\n",
       "      <th>tmin_2m1_1</th>\n",
       "      <th>tmin_2m2_1</th>\n",
       "      <th>tmin_2m3_1</th>\n",
       "      <th>tmin_2m4_1</th>\n",
       "      <th>tmin_2m5_1</th>\n",
       "      <th>tmp_2m_1_1</th>\n",
       "      <th>tmp_2m_2_1</th>\n",
       "      <th>tmp_2m_3_1</th>\n",
       "      <th>tmp_2m_4_1</th>\n",
       "      <th>tmp_2m_5_1</th>\n",
       "      <th>tmp_sfc1_1</th>\n",
       "      <th>tmp_sfc2_1</th>\n",
       "      <th>tmp_sfc3_1</th>\n",
       "      <th>tmp_sfc4_1</th>\n",
       "      <th>tmp_sfc5_1</th>\n",
       "      <th>ulwrf_s1_1</th>\n",
       "      <th>ulwrf_s2_1</th>\n",
       "      <th>ulwrf_s3_1</th>\n",
       "      <th>ulwrf_s4_1</th>\n",
       "      <th>ulwrf_s5_1</th>\n",
       "      <th>ulwrf_t1_1</th>\n",
       "      <th>ulwrf_t2_1</th>\n",
       "      <th>ulwrf_t3_1</th>\n",
       "      <th>ulwrf_t4_1</th>\n",
       "      <th>ulwrf_t5_1</th>\n",
       "      <th>uswrf_s1_1</th>\n",
       "      <th>uswrf_s2_1</th>\n",
       "      <th>uswrf_s3_1</th>\n",
       "      <th>uswrf_s4_1</th>\n",
       "      <th>uswrf_s5_1</th>\n",
       "      <th>salida</th>\n",
       "    </tr>\n",
       "  </thead>\n",
       "  <tbody>\n",
       "    <tr>\n",
       "      <th>0</th>\n",
       "      <td>red</td>\n",
       "      <td>low</td>\n",
       "      <td>low</td>\n",
       "      <td>0.000000</td>\n",
       "      <td>NaN</td>\n",
       "      <td>medium</td>\n",
       "      <td>244.241641</td>\n",
       "      <td>low</td>\n",
       "      <td>low</td>\n",
       "      <td>268.377441</td>\n",
       "      <td>0.0</td>\n",
       "      <td>30.0</td>\n",
       "      <td>NaN</td>\n",
       "      <td>510.000000</td>\n",
       "      <td>blue</td>\n",
       "      <td>medium</td>\n",
       "      <td>medium</td>\n",
       "      <td>medium</td>\n",
       "      <td>medium</td>\n",
       "      <td>101988.003551</td>\n",
       "      <td>5.879193</td>\n",
       "      <td>7.018182</td>\n",
       "      <td>red</td>\n",
       "      <td>9.418182</td>\n",
       "      <td>9.727869</td>\n",
       "      <td>0.003229</td>\n",
       "      <td>0.002993</td>\n",
       "      <td>NaN</td>\n",
       "      <td>0.003870</td>\n",
       "      <td>low</td>\n",
       "      <td>0.000000</td>\n",
       "      <td>low</td>\n",
       "      <td>low</td>\n",
       "      <td>0.000000</td>\n",
       "      <td>0.000909</td>\n",
       "      <td>low</td>\n",
       "      <td>0.000264</td>\n",
       "      <td>...</td>\n",
       "      <td>low</td>\n",
       "      <td>medium</td>\n",
       "      <td>279.627444</td>\n",
       "      <td>medium</td>\n",
       "      <td>286.881681</td>\n",
       "      <td>medium</td>\n",
       "      <td>medium</td>\n",
       "      <td>medium</td>\n",
       "      <td>medium</td>\n",
       "      <td>285.799685</td>\n",
       "      <td>medium</td>\n",
       "      <td>medium</td>\n",
       "      <td>0.0</td>\n",
       "      <td>medium</td>\n",
       "      <td>medium</td>\n",
       "      <td>medium</td>\n",
       "      <td>277.278370</td>\n",
       "      <td>NaN</td>\n",
       "      <td>NaN</td>\n",
       "      <td>medium</td>\n",
       "      <td>278.500078</td>\n",
       "      <td>0.0</td>\n",
       "      <td>blue</td>\n",
       "      <td>medium</td>\n",
       "      <td>medium</td>\n",
       "      <td>medium</td>\n",
       "      <td>222.153166</td>\n",
       "      <td>high</td>\n",
       "      <td>254.760271</td>\n",
       "      <td>high</td>\n",
       "      <td>high</td>\n",
       "      <td>NaN</td>\n",
       "      <td>low</td>\n",
       "      <td>50.000000</td>\n",
       "      <td>low</td>\n",
       "      <td>low</td>\n",
       "      <td>11930700</td>\n",
       "    </tr>\n",
       "    <tr>\n",
       "      <th>1</th>\n",
       "      <td>red</td>\n",
       "      <td>low</td>\n",
       "      <td>low</td>\n",
       "      <td>0.008182</td>\n",
       "      <td>0.2</td>\n",
       "      <td>medium</td>\n",
       "      <td>255.824126</td>\n",
       "      <td>medium</td>\n",
       "      <td>medium</td>\n",
       "      <td>307.929083</td>\n",
       "      <td>0.0</td>\n",
       "      <td>30.0</td>\n",
       "      <td>NaN</td>\n",
       "      <td>333.636364</td>\n",
       "      <td>red</td>\n",
       "      <td>medium</td>\n",
       "      <td>medium</td>\n",
       "      <td>medium</td>\n",
       "      <td>medium</td>\n",
       "      <td>101424.626420</td>\n",
       "      <td>12.534339</td>\n",
       "      <td>11.987316</td>\n",
       "      <td>NaN</td>\n",
       "      <td>NaN</td>\n",
       "      <td>13.469729</td>\n",
       "      <td>0.003737</td>\n",
       "      <td>0.003931</td>\n",
       "      <td>NaN</td>\n",
       "      <td>NaN</td>\n",
       "      <td>low</td>\n",
       "      <td>0.037273</td>\n",
       "      <td>low</td>\n",
       "      <td>low</td>\n",
       "      <td>0.084545</td>\n",
       "      <td>0.109091</td>\n",
       "      <td>low</td>\n",
       "      <td>0.021309</td>\n",
       "      <td>...</td>\n",
       "      <td>low</td>\n",
       "      <td>medium</td>\n",
       "      <td>278.063379</td>\n",
       "      <td>medium</td>\n",
       "      <td>286.606684</td>\n",
       "      <td>medium</td>\n",
       "      <td>medium</td>\n",
       "      <td>medium</td>\n",
       "      <td>medium</td>\n",
       "      <td>283.687009</td>\n",
       "      <td>medium</td>\n",
       "      <td>medium</td>\n",
       "      <td>0.0</td>\n",
       "      <td>medium</td>\n",
       "      <td>medium</td>\n",
       "      <td>medium</td>\n",
       "      <td>275.830009</td>\n",
       "      <td>278.269459</td>\n",
       "      <td>287.048970</td>\n",
       "      <td>medium</td>\n",
       "      <td>281.005252</td>\n",
       "      <td>0.0</td>\n",
       "      <td>blue</td>\n",
       "      <td>medium</td>\n",
       "      <td>medium</td>\n",
       "      <td>medium</td>\n",
       "      <td>236.836691</td>\n",
       "      <td>medium</td>\n",
       "      <td>233.027276</td>\n",
       "      <td>medium</td>\n",
       "      <td>medium</td>\n",
       "      <td>0.0</td>\n",
       "      <td>low</td>\n",
       "      <td>35.909091</td>\n",
       "      <td>low</td>\n",
       "      <td>low</td>\n",
       "      <td>9778500</td>\n",
       "    </tr>\n",
       "    <tr>\n",
       "      <th>2</th>\n",
       "      <td>red</td>\n",
       "      <td>low</td>\n",
       "      <td>low</td>\n",
       "      <td>0.000000</td>\n",
       "      <td>NaN</td>\n",
       "      <td>low</td>\n",
       "      <td>211.996022</td>\n",
       "      <td>low</td>\n",
       "      <td>low</td>\n",
       "      <td>239.840132</td>\n",
       "      <td>0.0</td>\n",
       "      <td>30.0</td>\n",
       "      <td>NaN</td>\n",
       "      <td>523.636364</td>\n",
       "      <td>blue</td>\n",
       "      <td>medium</td>\n",
       "      <td>medium</td>\n",
       "      <td>medium</td>\n",
       "      <td>medium</td>\n",
       "      <td>101543.146307</td>\n",
       "      <td>5.726770</td>\n",
       "      <td>5.458528</td>\n",
       "      <td>red</td>\n",
       "      <td>7.163636</td>\n",
       "      <td>NaN</td>\n",
       "      <td>0.002003</td>\n",
       "      <td>0.001919</td>\n",
       "      <td>NaN</td>\n",
       "      <td>0.002431</td>\n",
       "      <td>low</td>\n",
       "      <td>0.000000</td>\n",
       "      <td>low</td>\n",
       "      <td>low</td>\n",
       "      <td>0.007273</td>\n",
       "      <td>0.042727</td>\n",
       "      <td>low</td>\n",
       "      <td>0.001582</td>\n",
       "      <td>...</td>\n",
       "      <td>low</td>\n",
       "      <td>medium</td>\n",
       "      <td>270.222512</td>\n",
       "      <td>low</td>\n",
       "      <td>279.049513</td>\n",
       "      <td>medium</td>\n",
       "      <td>medium</td>\n",
       "      <td>medium</td>\n",
       "      <td>medium</td>\n",
       "      <td>276.041792</td>\n",
       "      <td>medium</td>\n",
       "      <td>medium</td>\n",
       "      <td>0.0</td>\n",
       "      <td>low</td>\n",
       "      <td>medium</td>\n",
       "      <td>medium</td>\n",
       "      <td>269.533059</td>\n",
       "      <td>271.690993</td>\n",
       "      <td>281.759993</td>\n",
       "      <td>medium</td>\n",
       "      <td>273.615503</td>\n",
       "      <td>0.0</td>\n",
       "      <td>NaN</td>\n",
       "      <td>low</td>\n",
       "      <td>low</td>\n",
       "      <td>low</td>\n",
       "      <td>238.655654</td>\n",
       "      <td>medium</td>\n",
       "      <td>235.480750</td>\n",
       "      <td>medium</td>\n",
       "      <td>medium</td>\n",
       "      <td>0.0</td>\n",
       "      <td>low</td>\n",
       "      <td>NaN</td>\n",
       "      <td>low</td>\n",
       "      <td>low</td>\n",
       "      <td>9771900</td>\n",
       "    </tr>\n",
       "    <tr>\n",
       "      <th>3</th>\n",
       "      <td>red</td>\n",
       "      <td>low</td>\n",
       "      <td>low</td>\n",
       "      <td>0.000000</td>\n",
       "      <td>NaN</td>\n",
       "      <td>medium</td>\n",
       "      <td>230.896544</td>\n",
       "      <td>low</td>\n",
       "      <td>low</td>\n",
       "      <td>237.804048</td>\n",
       "      <td>0.0</td>\n",
       "      <td>30.0</td>\n",
       "      <td>NaN</td>\n",
       "      <td>512.727273</td>\n",
       "      <td>blue</td>\n",
       "      <td>medium</td>\n",
       "      <td>medium</td>\n",
       "      <td>medium</td>\n",
       "      <td>high</td>\n",
       "      <td>102598.252841</td>\n",
       "      <td>7.889904</td>\n",
       "      <td>6.768959</td>\n",
       "      <td>red</td>\n",
       "      <td>5.977267</td>\n",
       "      <td>6.411838</td>\n",
       "      <td>0.002918</td>\n",
       "      <td>0.002735</td>\n",
       "      <td>0.002771</td>\n",
       "      <td>0.002821</td>\n",
       "      <td>low</td>\n",
       "      <td>0.000000</td>\n",
       "      <td>low</td>\n",
       "      <td>low</td>\n",
       "      <td>0.000909</td>\n",
       "      <td>0.012727</td>\n",
       "      <td>low</td>\n",
       "      <td>0.004018</td>\n",
       "      <td>...</td>\n",
       "      <td>low</td>\n",
       "      <td>medium</td>\n",
       "      <td>276.176919</td>\n",
       "      <td>medium</td>\n",
       "      <td>278.550368</td>\n",
       "      <td>medium</td>\n",
       "      <td>medium</td>\n",
       "      <td>medium</td>\n",
       "      <td>medium</td>\n",
       "      <td>276.942990</td>\n",
       "      <td>low</td>\n",
       "      <td>medium</td>\n",
       "      <td>0.0</td>\n",
       "      <td>medium</td>\n",
       "      <td>medium</td>\n",
       "      <td>low</td>\n",
       "      <td>274.824765</td>\n",
       "      <td>NaN</td>\n",
       "      <td>281.291418</td>\n",
       "      <td>medium</td>\n",
       "      <td>272.191753</td>\n",
       "      <td>0.0</td>\n",
       "      <td>blue</td>\n",
       "      <td>low</td>\n",
       "      <td>low</td>\n",
       "      <td>low</td>\n",
       "      <td>236.784869</td>\n",
       "      <td>medium</td>\n",
       "      <td>243.398572</td>\n",
       "      <td>medium</td>\n",
       "      <td>medium</td>\n",
       "      <td>0.0</td>\n",
       "      <td>low</td>\n",
       "      <td>46.000000</td>\n",
       "      <td>low</td>\n",
       "      <td>low</td>\n",
       "      <td>6466800</td>\n",
       "    </tr>\n",
       "    <tr>\n",
       "      <th>4</th>\n",
       "      <td>red</td>\n",
       "      <td>low</td>\n",
       "      <td>low</td>\n",
       "      <td>0.000000</td>\n",
       "      <td>NaN</td>\n",
       "      <td>low</td>\n",
       "      <td>238.927051</td>\n",
       "      <td>low</td>\n",
       "      <td>low</td>\n",
       "      <td>275.572826</td>\n",
       "      <td>NaN</td>\n",
       "      <td>30.0</td>\n",
       "      <td>220.0</td>\n",
       "      <td>517.272727</td>\n",
       "      <td>NaN</td>\n",
       "      <td>medium</td>\n",
       "      <td>medium</td>\n",
       "      <td>medium</td>\n",
       "      <td>low</td>\n",
       "      <td>100309.059659</td>\n",
       "      <td>10.783448</td>\n",
       "      <td>10.425542</td>\n",
       "      <td>red</td>\n",
       "      <td>8.829511</td>\n",
       "      <td>9.647615</td>\n",
       "      <td>0.003274</td>\n",
       "      <td>0.003269</td>\n",
       "      <td>NaN</td>\n",
       "      <td>0.003483</td>\n",
       "      <td>low</td>\n",
       "      <td>0.000909</td>\n",
       "      <td>low</td>\n",
       "      <td>low</td>\n",
       "      <td>0.014545</td>\n",
       "      <td>0.050909</td>\n",
       "      <td>low</td>\n",
       "      <td>0.001836</td>\n",
       "      <td>...</td>\n",
       "      <td>low</td>\n",
       "      <td>medium</td>\n",
       "      <td>275.018022</td>\n",
       "      <td>medium</td>\n",
       "      <td>288.171156</td>\n",
       "      <td>medium</td>\n",
       "      <td>medium</td>\n",
       "      <td>medium</td>\n",
       "      <td>medium</td>\n",
       "      <td>283.734819</td>\n",
       "      <td>medium</td>\n",
       "      <td>medium</td>\n",
       "      <td>0.0</td>\n",
       "      <td>medium</td>\n",
       "      <td>medium</td>\n",
       "      <td>medium</td>\n",
       "      <td>272.260426</td>\n",
       "      <td>275.132668</td>\n",
       "      <td>285.698725</td>\n",
       "      <td>medium</td>\n",
       "      <td>283.121391</td>\n",
       "      <td>0.0</td>\n",
       "      <td>blue</td>\n",
       "      <td>medium</td>\n",
       "      <td>medium</td>\n",
       "      <td>medium</td>\n",
       "      <td>233.641681</td>\n",
       "      <td>medium</td>\n",
       "      <td>239.952805</td>\n",
       "      <td>medium</td>\n",
       "      <td>medium</td>\n",
       "      <td>NaN</td>\n",
       "      <td>low</td>\n",
       "      <td>48.909091</td>\n",
       "      <td>low</td>\n",
       "      <td>low</td>\n",
       "      <td>11545200</td>\n",
       "    </tr>\n",
       "  </tbody>\n",
       "</table>\n",
       "<p>5 rows × 76 columns</p>\n",
       "</div>"
      ],
      "text/plain": [
       "  apcp_sf1_1 apcp_sf2_1 apcp_sf3_1  apcp_sf4_1  apcp_sf5_1 dlwrf_s1_1  \\\n",
       "0        red        low        low    0.000000         NaN     medium   \n",
       "1        red        low        low    0.008182         0.2     medium   \n",
       "2        red        low        low    0.000000         NaN        low   \n",
       "3        red        low        low    0.000000         NaN     medium   \n",
       "4        red        low        low    0.000000         NaN        low   \n",
       "\n",
       "   dlwrf_s2_1 dlwrf_s3_1 dlwrf_s4_1  dlwrf_s5_1  dswrf_s1_1  dswrf_s2_1  \\\n",
       "0  244.241641        low        low  268.377441         0.0        30.0   \n",
       "1  255.824126     medium     medium  307.929083         0.0        30.0   \n",
       "2  211.996022        low        low  239.840132         0.0        30.0   \n",
       "3  230.896544        low        low  237.804048         0.0        30.0   \n",
       "4  238.927051        low        low  275.572826         NaN        30.0   \n",
       "\n",
       "   dswrf_s3_1  dswrf_s4_1 dswrf_s5_1 pres_ms1_1 pres_ms2_1 pres_ms3_1  \\\n",
       "0         NaN  510.000000       blue     medium     medium     medium   \n",
       "1         NaN  333.636364        red     medium     medium     medium   \n",
       "2         NaN  523.636364       blue     medium     medium     medium   \n",
       "3         NaN  512.727273       blue     medium     medium     medium   \n",
       "4       220.0  517.272727        NaN     medium     medium     medium   \n",
       "\n",
       "  pres_ms4_1     pres_ms5_1  pwat_ea1_1  pwat_ea2_1 pwat_ea3_1  pwat_ea4_1  \\\n",
       "0     medium  101988.003551    5.879193    7.018182        red    9.418182   \n",
       "1     medium  101424.626420   12.534339   11.987316        NaN         NaN   \n",
       "2     medium  101543.146307    5.726770    5.458528        red    7.163636   \n",
       "3       high  102598.252841    7.889904    6.768959        red    5.977267   \n",
       "4        low  100309.059659   10.783448   10.425542        red    8.829511   \n",
       "\n",
       "   pwat_ea5_1  spfh_2m1_1  spfh_2m2_1  spfh_2m3_1  spfh_2m4_1 spfh_2m5_1  \\\n",
       "0    9.727869    0.003229    0.002993         NaN    0.003870        low   \n",
       "1   13.469729    0.003737    0.003931         NaN         NaN        low   \n",
       "2         NaN    0.002003    0.001919         NaN    0.002431        low   \n",
       "3    6.411838    0.002918    0.002735    0.002771    0.002821        low   \n",
       "4    9.647615    0.003274    0.003269         NaN    0.003483        low   \n",
       "\n",
       "   tcdc_ea1_1 tcdc_ea2_1 tcdc_ea3_1  tcdc_ea4_1  tcdc_ea5_1 tcolc_e1_1  \\\n",
       "0    0.000000        low        low    0.000000    0.000909        low   \n",
       "1    0.037273        low        low    0.084545    0.109091        low   \n",
       "2    0.000000        low        low    0.007273    0.042727        low   \n",
       "3    0.000000        low        low    0.000909    0.012727        low   \n",
       "4    0.000909        low        low    0.014545    0.050909        low   \n",
       "\n",
       "   tcolc_e2_1  ... tcolc_e5_1 tmax_2m1_1  tmax_2m2_1 tmax_2m3_1  tmax_2m4_1  \\\n",
       "0    0.000264  ...        low     medium  279.627444     medium  286.881681   \n",
       "1    0.021309  ...        low     medium  278.063379     medium  286.606684   \n",
       "2    0.001582  ...        low     medium  270.222512        low  279.049513   \n",
       "3    0.004018  ...        low     medium  276.176919     medium  278.550368   \n",
       "4    0.001836  ...        low     medium  275.018022     medium  288.171156   \n",
       "\n",
       "  tmax_2m5_1  tmin_2m1_1 tmin_2m2_1 tmin_2m3_1  tmin_2m4_1 tmin_2m5_1  \\\n",
       "0     medium      medium     medium     medium  285.799685     medium   \n",
       "1     medium      medium     medium     medium  283.687009     medium   \n",
       "2     medium      medium     medium     medium  276.041792     medium   \n",
       "3     medium      medium     medium     medium  276.942990        low   \n",
       "4     medium      medium     medium     medium  283.734819     medium   \n",
       "\n",
       "   tmp_2m_1_1 tmp_2m_2_1 tmp_2m_3_1  tmp_2m_4_1 tmp_2m_5_1  tmp_sfc1_1  \\\n",
       "0      medium        0.0     medium      medium     medium  277.278370   \n",
       "1      medium        0.0     medium      medium     medium  275.830009   \n",
       "2      medium        0.0        low      medium     medium  269.533059   \n",
       "3      medium        0.0     medium      medium        low  274.824765   \n",
       "4      medium        0.0     medium      medium     medium  272.260426   \n",
       "\n",
       "   tmp_sfc2_1  tmp_sfc3_1  tmp_sfc4_1  tmp_sfc5_1 ulwrf_s1_1  ulwrf_s2_1  \\\n",
       "0         NaN         NaN      medium  278.500078        0.0        blue   \n",
       "1  278.269459  287.048970      medium  281.005252        0.0        blue   \n",
       "2  271.690993  281.759993      medium  273.615503        0.0         NaN   \n",
       "3         NaN  281.291418      medium  272.191753        0.0        blue   \n",
       "4  275.132668  285.698725      medium  283.121391        0.0        blue   \n",
       "\n",
       "   ulwrf_s3_1 ulwrf_s4_1 ulwrf_s5_1  ulwrf_t1_1 ulwrf_t2_1  ulwrf_t3_1  \\\n",
       "0      medium     medium     medium  222.153166       high  254.760271   \n",
       "1      medium     medium     medium  236.836691     medium  233.027276   \n",
       "2         low        low        low  238.655654     medium  235.480750   \n",
       "3         low        low        low  236.784869     medium  243.398572   \n",
       "4      medium     medium     medium  233.641681     medium  239.952805   \n",
       "\n",
       "  ulwrf_t4_1  ulwrf_t5_1 uswrf_s1_1 uswrf_s2_1  uswrf_s3_1 uswrf_s4_1  \\\n",
       "0       high        high        NaN        low   50.000000        low   \n",
       "1     medium      medium        0.0        low   35.909091        low   \n",
       "2     medium      medium        0.0        low         NaN        low   \n",
       "3     medium      medium        0.0        low   46.000000        low   \n",
       "4     medium      medium        NaN        low   48.909091        low   \n",
       "\n",
       "   uswrf_s5_1    salida  \n",
       "0         low  11930700  \n",
       "1         low   9778500  \n",
       "2         low   9771900  \n",
       "3         low   6466800  \n",
       "4         low  11545200  \n",
       "\n",
       "[5 rows x 76 columns]"
      ]
     },
     "execution_count": 2,
     "metadata": {},
     "output_type": "execute_result"
    }
   ],
   "source": [
    "\n",
    "Data_Py = pd.read_csv('disp_2.csv')\n",
    "\n",
    "Data_Py.head()"
   ]
  },
  {
   "cell_type": "markdown",
   "metadata": {},
   "source": [
    "Vamos a comprobar con `Python` cuantas observaciones y variables hay en el data-set:"
   ]
  },
  {
   "cell_type": "code",
   "execution_count": 3,
   "metadata": {},
   "outputs": [
    {
     "data": {
      "text/plain": [
       "(4380, 76)"
      ]
     },
     "execution_count": 3,
     "metadata": {},
     "output_type": "execute_result"
    }
   ],
   "source": [
    "Data_Py.shape"
   ]
  },
  {
   "cell_type": "markdown",
   "metadata": {},
   "source": [
    "Como ya se ha comentado antes, tenemos un data-set con 76 variables y 4380 observaciones. \n",
    "\n",
    "75 de las 76 variables serán considerados predictores. Y la variable restante, la respuesta."
   ]
  },
  {
   "cell_type": "markdown",
   "metadata": {},
   "source": []
  },
  {
   "cell_type": "markdown",
   "metadata": {},
   "source": [
    "Ahora vamos a comprobar de qué tipo son los atributos segun `Python`"
   ]
  },
  {
   "cell_type": "code",
   "execution_count": 17,
   "metadata": {},
   "outputs": [
    {
     "data": {
      "text/plain": [
       "apcp_sf1_1     object\n",
       "apcp_sf2_1     object\n",
       "apcp_sf3_1     object\n",
       "apcp_sf4_1    float64\n",
       "apcp_sf5_1    float64\n",
       "dlwrf_s1_1     object\n",
       "dlwrf_s2_1    float64\n",
       "dlwrf_s3_1     object\n",
       "dlwrf_s4_1     object\n",
       "dlwrf_s5_1    float64\n",
       "dswrf_s1_1    float64\n",
       "dswrf_s2_1    float64\n",
       "dswrf_s3_1    float64\n",
       "dswrf_s4_1    float64\n",
       "dswrf_s5_1     object\n",
       "pres_ms1_1     object\n",
       "pres_ms2_1     object\n",
       "pres_ms3_1     object\n",
       "pres_ms4_1     object\n",
       "pres_ms5_1    float64\n",
       "pwat_ea1_1    float64\n",
       "pwat_ea2_1    float64\n",
       "pwat_ea3_1     object\n",
       "pwat_ea4_1    float64\n",
       "pwat_ea5_1    float64\n",
       "spfh_2m1_1    float64\n",
       "spfh_2m2_1    float64\n",
       "spfh_2m3_1    float64\n",
       "spfh_2m4_1    float64\n",
       "spfh_2m5_1     object\n",
       "tcdc_ea1_1    float64\n",
       "tcdc_ea2_1     object\n",
       "tcdc_ea3_1     object\n",
       "tcdc_ea4_1    float64\n",
       "tcdc_ea5_1    float64\n",
       "tcolc_e1_1     object\n",
       "tcolc_e2_1    float64\n",
       "tcolc_e3_1     object\n",
       "tcolc_e4_1     object\n",
       "tcolc_e5_1     object\n",
       "tmax_2m1_1     object\n",
       "tmax_2m2_1    float64\n",
       "tmax_2m3_1     object\n",
       "tmax_2m4_1    float64\n",
       "tmax_2m5_1     object\n",
       "tmin_2m1_1     object\n",
       "tmin_2m2_1     object\n",
       "tmin_2m3_1     object\n",
       "tmin_2m4_1    float64\n",
       "tmin_2m5_1     object\n",
       "tmp_2m_1_1     object\n",
       "tmp_2m_2_1    float64\n",
       "tmp_2m_3_1     object\n",
       "tmp_2m_4_1     object\n",
       "tmp_2m_5_1     object\n",
       "tmp_sfc1_1    float64\n",
       "tmp_sfc2_1    float64\n",
       "tmp_sfc3_1    float64\n",
       "tmp_sfc4_1     object\n",
       "tmp_sfc5_1    float64\n",
       "ulwrf_s1_1    float64\n",
       "ulwrf_s2_1     object\n",
       "ulwrf_s3_1     object\n",
       "ulwrf_s4_1     object\n",
       "ulwrf_s5_1     object\n",
       "ulwrf_t1_1    float64\n",
       "ulwrf_t2_1     object\n",
       "ulwrf_t3_1    float64\n",
       "ulwrf_t4_1     object\n",
       "ulwrf_t5_1     object\n",
       "uswrf_s1_1    float64\n",
       "uswrf_s2_1     object\n",
       "uswrf_s3_1    float64\n",
       "uswrf_s4_1     object\n",
       "uswrf_s5_1     object\n",
       "salida          int64\n",
       "dtype: object"
      ]
     },
     "execution_count": 17,
     "metadata": {},
     "output_type": "execute_result"
    }
   ],
   "source": [
    "Data_Py.dtypes"
   ]
  },
  {
   "cell_type": "markdown",
   "metadata": {},
   "source": []
  },
  {
   "cell_type": "markdown",
   "metadata": {},
   "source": [
    "La respuesta es una variable cuantitativa entera (`int`).\n",
    "\n",
    "Los predictores son o bien de tipo cuantitativo continuo (`float`) o bien de tipo categorico (`object`)."
   ]
  },
  {
   "cell_type": "markdown",
   "metadata": {},
   "source": []
  },
  {
   "cell_type": "markdown",
   "metadata": {},
   "source": [
    "Valores faltantes ?"
   ]
  },
  {
   "cell_type": "code",
   "execution_count": 18,
   "metadata": {},
   "outputs": [
    {
     "data": {
      "text/plain": [
       "apcp_sf1_1    0.000000\n",
       "apcp_sf2_1    0.000000\n",
       "apcp_sf3_1    0.000000\n",
       "apcp_sf4_1    0.000000\n",
       "apcp_sf5_1    0.910046\n",
       "dlwrf_s1_1    0.000000\n",
       "dlwrf_s2_1    0.000000\n",
       "dlwrf_s3_1    0.000000\n",
       "dlwrf_s4_1    0.000000\n",
       "dlwrf_s5_1    0.000000\n",
       "dswrf_s1_1    0.189954\n",
       "dswrf_s2_1    0.000000\n",
       "dswrf_s3_1    0.939954\n",
       "dswrf_s4_1    0.000000\n",
       "dswrf_s5_1    0.110046\n",
       "pres_ms1_1    0.000000\n",
       "pres_ms2_1    0.000000\n",
       "pres_ms3_1    0.000000\n",
       "pres_ms4_1    0.000000\n",
       "pres_ms5_1    0.000000\n",
       "pwat_ea1_1    0.000000\n",
       "pwat_ea2_1    0.000000\n",
       "pwat_ea3_1    0.150000\n",
       "pwat_ea4_1    0.170091\n",
       "pwat_ea5_1    0.170091\n",
       "spfh_2m1_1    0.000000\n",
       "spfh_2m2_1    0.000000\n",
       "spfh_2m3_1    0.879909\n",
       "spfh_2m4_1    0.170091\n",
       "spfh_2m5_1    0.000000\n",
       "tcdc_ea1_1    0.000000\n",
       "tcdc_ea2_1    0.000000\n",
       "tcdc_ea3_1    0.000000\n",
       "tcdc_ea4_1    0.000000\n",
       "tcdc_ea5_1    0.000000\n",
       "tcolc_e1_1    0.000000\n",
       "tcolc_e2_1    0.200000\n",
       "tcolc_e3_1    0.000000\n",
       "tcolc_e4_1    0.000000\n",
       "tcolc_e5_1    0.000000\n",
       "tmax_2m1_1    0.000000\n",
       "tmax_2m2_1    0.000000\n",
       "tmax_2m3_1    0.000000\n",
       "tmax_2m4_1    0.000000\n",
       "tmax_2m5_1    0.000000\n",
       "tmin_2m1_1    0.000000\n",
       "tmin_2m2_1    0.000000\n",
       "tmin_2m3_1    0.000000\n",
       "tmin_2m4_1    0.110046\n",
       "tmin_2m5_1    0.000000\n",
       "tmp_2m_1_1    0.000000\n",
       "tmp_2m_2_1    0.120091\n",
       "tmp_2m_3_1    0.000000\n",
       "tmp_2m_4_1    0.000000\n",
       "tmp_2m_5_1    0.000000\n",
       "tmp_sfc1_1    0.000000\n",
       "tmp_sfc2_1    0.170091\n",
       "tmp_sfc3_1    0.200000\n",
       "tmp_sfc4_1    0.000000\n",
       "tmp_sfc5_1    0.000000\n",
       "ulwrf_s1_1    0.129909\n",
       "ulwrf_s2_1    0.110046\n",
       "ulwrf_s3_1    0.000000\n",
       "ulwrf_s4_1    0.000000\n",
       "ulwrf_s5_1    0.000000\n",
       "ulwrf_t1_1    0.000000\n",
       "ulwrf_t2_1    0.000000\n",
       "ulwrf_t3_1    0.000000\n",
       "ulwrf_t4_1    0.000000\n",
       "ulwrf_t5_1    0.000000\n",
       "uswrf_s1_1    0.120091\n",
       "uswrf_s2_1    0.000000\n",
       "uswrf_s3_1    0.150000\n",
       "uswrf_s4_1    0.000000\n",
       "uswrf_s5_1    0.000000\n",
       "salida        0.000000\n",
       "dtype: float64"
      ]
     },
     "execution_count": 18,
     "metadata": {},
     "output_type": "execute_result"
    }
   ],
   "source": [
    "Prop_NA = Data_Py.isnull().sum() / len(Data_Py)\n",
    "\n",
    "Prop_NA"
   ]
  },
  {
   "cell_type": "markdown",
   "metadata": {},
   "source": []
  },
  {
   "cell_type": "markdown",
   "metadata": {},
   "source": [
    "Variables constantes ?"
   ]
  },
  {
   "cell_type": "markdown",
   "metadata": {},
   "source": []
  },
  {
   "cell_type": "markdown",
   "metadata": {},
   "source": [
    "Plot de la respuesta vs tiempo (días)"
   ]
  },
  {
   "cell_type": "code",
   "execution_count": 26,
   "metadata": {},
   "outputs": [],
   "source": [
    "import seaborn as sns\n",
    "\n",
    "import matplotlib as mpl\n",
    "import matplotlib.pyplot as plt"
   ]
  },
  {
   "cell_type": "code",
   "execution_count": 30,
   "metadata": {},
   "outputs": [
    {
     "data": {
      "text/plain": [
       "<AxesSubplot:ylabel='salida'>"
      ]
     },
     "execution_count": 30,
     "metadata": {},
     "output_type": "execute_result"
    },
    {
     "data": {
      "image/png": "[encoded data removed]",
      "text/plain": [
       "<Figure size 1080x576 with 1 Axes>"
      ]
     },
     "metadata": {
      "needs_background": "light"
     },
     "output_type": "display_data"
    }
   ],
   "source": [
    "fig, ax = plt.subplots(figsize=(15, 8))\n",
    "\n",
    "sns.scatterplot(data=Data_Py, x=range(0, len(Data_Py)), y=\"salida\")"
   ]
  },
  {
   "cell_type": "markdown",
   "metadata": {},
   "source": []
  },
  {
   "cell_type": "markdown",
   "metadata": {},
   "source": [
    "## **Métodos de validación de modelos predictivos**\n",
    "\n",
    "Nos interesa tener un método a traves del cual pueda evaluarse la bondad predictiva del modelo $M$.\n",
    "\n",
    "Una aproximación naive es evaluar el poder predictivo del modelo a traves de las predicciones que el modelo hace de la respuesta usando las propias observaciones con las que l modelo ha sido entrenado (construido). Pero esta apriximacion tienen a infra-estimar el error de prediccion real del modelo. Es por ello que el modelo se evalua en la práctica usando predicciones que el modelo hace para  observaciones con las que el modelo no ha sido entrenado.\n",
    "\n",
    "\n",
    "\n",
    "Los metodos de evaluacion de modelos predictivos tiene tres elementos:\n",
    "\n",
    "1) Una muestra de train y otra de test\n",
    "2) Una métrica de evaluacion\n",
    "3) Un método para evaluar el modelo usando los elementos 1) y 2)\n",
    "\n"
   ]
  },
  {
   "cell_type": "markdown",
   "metadata": {},
   "source": []
  },
  {
   "cell_type": "markdown",
   "metadata": {},
   "source": [
    "**Muestra de train y test**"
   ]
  },
  {
   "cell_type": "markdown",
   "metadata": {},
   "source": [
    "Tenemos una muestra  de $N$ observaciones de $p$ predictores $(\\mathcal{X}_1,...,\\mathcal{X}_p)$ y otra de la respuesta $\\mathcal{Y}$ \n",
    "\n",
    "$$D=[X_1,...,X_p,Y]=\\begin{pmatrix}\n",
    "    x_{11}&x_{12}&...&x_{1p}& y_1\\\\\n",
    "    x_{21}&x_{22}&...&x_{2p} & y_2\\\\\n",
    "    &...&\\\\\n",
    "    x_{N1}&x_{N2}&...&x_{Np}& y_N\n",
    "    \\end{pmatrix}$$\n"
   ]
  },
  {
   "cell_type": "markdown",
   "metadata": {},
   "source": [
    "\n",
    "Sin entrar aqui en particularidades, para evaluar un modelo predictivo este tiene que ser entrenado con un subconjunto de $n$ filass de $D$ , llamado muestra de entrenamiento $D_{train}$, y testeado/evaluado con el subconjunto de las $h$ filas restantes de $D$ llamado  muestra de test $D_{test}$ , de modo tal que $n+h=N$ \n",
    "\n",
    "Los métodos de validacion típicos usan de algún modo $D_{train}$ y  $D_{test}$ , junto con una métrica de validacion, es por ello  que vamos a definir estos elementos con mas precisión a continuación:\n"
   ]
  },
  {
   "cell_type": "markdown",
   "metadata": {},
   "source": [
    "**Train-set**\n",
    "\n",
    "Estas muestras serán empleadas para *entrenar* el modelo estadistico considerado, por ello al conjunto de estas muestras se le denomina **train-set**\n",
    "\n",
    "\n",
    "\n",
    "Los elementos antes mencionados se definen formalmente como sigue:\n",
    "\n",
    "- Muestra de $n$ observaciones de *train* del predictor $\\mathcal{X}_j$\n",
    "\n",
    "$$X_j^{train} = (x_{1j}^{train},...,x_{nj}^{train} )^t \\hspace{0.45cm} \\forall j=1,...,p$$\n",
    "\n",
    "- Muestra de $n$ observaciones de *train* de la respuesta $\\mathcal{Y}$\n",
    "\n",
    "$$Y^{train}= (y_{1}^{train},...,y_n^{train})^t$$\n",
    "\n",
    "- Train-set:\n",
    "\n",
    "$$\\text{Train-set}(\\mathcal{X}_1,...,\\mathcal{X}_p, \\mathcal{Y}) = D_{train}=[X_1^{train},...,X_p^{train}, Y^{train}] =  \\begin{pmatrix}\n",
    "    x_{11}^{train} &x_{12}^{train}&...&x_{1p}^{train}& y_1^{train}\\\\\n",
    "    x_{21}^{train}&x_{22}^{train}&...&x_{2p}^{train} & y_2^{train}\\\\\n",
    "    &...&\\\\\n",
    "    x_{n1}^{train}&x_{n2}^{train}&...&x_{np}^{train}& y_n^{train}\n",
    "    \\end{pmatrix}$$\n"
   ]
  },
  {
   "cell_type": "markdown",
   "metadata": {},
   "source": [
    "\n",
    "La fila $i$ de $\\text{Train-set}(\\mathcal{X}_1,...,\\mathcal{X}_p)$ , es decir, $(x_i^{train},y_i^{train}) = (x_{i1}^{train}, x_{i2}^{train},...,x_{ip}^{train}, y_i^{train})$, es la $i$-esima observación de *train* de los predictores y la respuesta $(\\mathcal{X}_1,...,\\mathcal{X}_p, \\mathcal{Y})$"
   ]
  },
  {
   "cell_type": "markdown",
   "metadata": {},
   "source": [
    "$\\text{Train-set}(\\mathcal{X}_1,...,\\mathcal{X}_p, \\mathcal{Y})$ tambien es llamado simplemente **observaciones de train** de $(\\mathcal{X}_1,...,\\mathcal{X}_p, \\mathcal{Y})$"
   ]
  },
  {
   "cell_type": "markdown",
   "metadata": {},
   "source": []
  },
  {
   "cell_type": "markdown",
   "metadata": {},
   "source": [
    "\n",
    "Dado un modelo estadistico predictivo $M$  tal que una vez entrenado con las observaciones de   $\\text{Train-set}(\\mathcal{X}_1,...,\\mathcal{X}_p, \\mathcal{Y})=[X_1^{train},...,X_p^{train}, Y^{train}]$   es capaz de generar predicciones de la respuesta $\\mathcal{Y}$  usando tanto las propias **observaciones de train** como   **nuevas observaciones** de los predictores $(\\mathcal{X}_1,...,\\mathcal{X}_p)$  \n"
   ]
  },
  {
   "cell_type": "markdown",
   "metadata": {},
   "source": [
    "\n",
    "Las **predicciones de train** de la respuesta $\\mathcal{Y}$ , simbolicamente $\\widehat{Y}^{train}$, son obtenidas aplicando el modelo predictivo *entrenado* a las observaciones de train de los predictores:\n",
    "\n"
   ]
  },
  {
   "cell_type": "markdown",
   "metadata": {},
   "source": [
    "\n",
    "\n",
    "$$\\widehat{Y}^{train} = M(\\text{Train-set}(\\mathcal{X}_1,...,\\mathcal{X}_p) \\hspace{0.1cm}|\\hspace{0.1cm} \\text{Train-set}(\\mathcal{X}_1,...,\\mathcal{X}_p, \\mathcal{Y})) = M(X_1^{train},...,X_p^{train} \\hspace{0.1cm}|\\hspace{0.1cm} X_1^{train},...,X_p^{train}, Y^{train})$$\n",
    "\n",
    "Donde:\n",
    "\n",
    "$\\widehat{Y}^{train}=(\\hat{y}_1^{train},..., \\hat{y}_n^{train})^t$ es un vector con las predicciones de la respuesta hechas por el modelo entrenado $M$  usando la muestra train de observaciones de los predictores $(X_1^{train},...,X_p^{train})$\n",
    "\n",
    "$\\hat{y}_i = M(x_i \\hspace{0.1cm}|\\hspace{0.1cm} \\text{Train-set}(\\mathcal{X}_1,...,\\mathcal{X}_p, \\mathcal{Y}) ) = M(x_{i1}^{train},...,x_{ip}^{train} \\hspace{0.1cm}|\\hspace{0.1cm} X_1^{train},...,X_p^{train}, Y^{train})$ es la prediccion de la variable respuesta generada por el modelo entrenado $M$ usando la observacion de train de los predictores $x_i^{train}=(x_{i1}^{train},...,x_{ip}^{train})$\n"
   ]
  },
  {
   "cell_type": "markdown",
   "metadata": {},
   "source": []
  },
  {
   "cell_type": "markdown",
   "metadata": {},
   "source": [
    "**Test-set**\n",
    "\n",
    "Tenemos también otra una muestra de $h$ **observaciones** de los $p$ predictores $(\\mathcal{X}_1,...,\\mathcal{X}_p)$ y de la respuesta $\\mathcal{Y}$ con las que el modelo $M$ **no** ha sido entrenado.\n",
    "\n",
    "\n",
    "Estas muestras serán empleadas para *testear* el modelo estadistico considerado, por ello al conjunto de estas muestras se le denomina **test-set**\n",
    "\n",
    "\n",
    "\n",
    "Los elementos antes mencionados se definen formalmente como sigue:\n",
    "\n",
    "- Muestra de $h$ observaciones de *test* del predictor $\\mathcal{X}_j$\n",
    "\n",
    "$$X_j^{test}=(x^{test}_{1j},...,x^{test}_{hj} )^t  \\hspace{0.45cm} \\forall j=1,...,p$$\n",
    "\n",
    "- Muestra de $h$ observaciones de *test* de la respuesta $\\mathcal{Y}$\n",
    "\n",
    "$$Y^{test}=(y^{test}_{1},...,y^{test}_{h} )^t  \\hspace{0.45cm} \\forall j=1,...,p$$\n",
    "\n",
    "\n",
    "- Test-set:\n",
    "\n",
    "$$\\text{Test-set}(\\mathcal{X}_1,...,\\mathcal{X}_p, \\mathcal{Y}) =D_{test}= [X_1^{test},...,X_p^{test}, Y^{test}]= \\begin{pmatrix}\n",
    "    x^{test}_{11}&x^{test}_{12}&...&x^{test}_{1p} & y^{test}_1\\\\\n",
    "    x^{test}_{21}&x^{test}_{22}&...&x^{test}_{2p} & y^{test}_2\\\\\n",
    "    &...&\\\\\n",
    "    x^{test}_{h1}&x^{test}_{h2}&...&x^{test}_{hp} & y^{test}_h\n",
    "    \\end{pmatrix}$$\n",
    "\n"
   ]
  },
  {
   "cell_type": "markdown",
   "metadata": {},
   "source": [
    "\n",
    "La fila $i$ de $\\text{Test-set}(\\mathcal{X}_1,...,\\mathcal{X}_p, \\mathcal{Y})$ , es decir, $(x_i^{test},y_i^{test})= (x^{test}_{i1}, x^{test}_{i2},...,x^{test}_{ip}, y_i^{test})$, es la $i$-esima observación de *test* de los predictores y la respuesta $(\\mathcal{X}_1,...,\\mathcal{X}_p, \\mathcal{Y})$"
   ]
  },
  {
   "cell_type": "markdown",
   "metadata": {},
   "source": []
  },
  {
   "cell_type": "markdown",
   "metadata": {},
   "source": [
    "Las **predicciones de test** de la respuesta $\\mathcal{Y}$ , simbolicamente $\\widehat{Y}^{test}$, son obtenidas aplicando el modelo predictivo entrenado a las observaciones de test:"
   ]
  },
  {
   "cell_type": "markdown",
   "metadata": {},
   "source": [
    "\n",
    " $$\\widehat{Y}^{test} = M(\\text{Test-set}(\\mathcal{X}_1,...,\\mathcal{X}_p) \\hspace{0.1cm}|\\hspace{0.1cm} \\text{Train-set}(\\mathcal{X}_1,...,\\mathcal{X}_p, \\mathcal{Y})) = M(X_1^{test},...,X_p^{test} \\hspace{0.1cm}|\\hspace{0.1cm} X_1,...,X_p, Y)$$"
   ]
  },
  {
   "cell_type": "markdown",
   "metadata": {},
   "source": [
    "Donde:\n",
    "\n",
    "$\\widehat{Y}^{test}=(\\hat{y}_1^{test},..., \\hat{y}_h^{test})^t$ es un vector con las predicciones de la respuesta hechas por el modelo entrenado $M$  usando la muestra test de observaciones de los predictores $(X_1^{test},...,X_p^{test})$\n",
    "\n",
    "$\\hat{y}_i^{test} = M(x_i^{test} \\hspace{0.1cm}|\\hspace{0.1cm} \\text{Train-set}(\\mathcal{X}_1,...,\\mathcal{X}_p, \\mathcal{Y}) ) = M(x^{test}_{i1},...,x^{test}_{ip} \\hspace{0.1cm}|\\hspace{0.1cm} X_1,...,X_p, Y)$ es la prediccion de la respuesta que el modelo entrenado $M$ genera usando la observacion de test $x_i^{test}=(x^{test}_{i1},...,x^{test}_{ip})$"
   ]
  },
  {
   "cell_type": "markdown",
   "metadata": {},
   "source": []
  },
  {
   "cell_type": "markdown",
   "metadata": {},
   "source": [
    "Teniendo todo lo anterior en cuenta, la evaluación de los modelos predictivos se realiza, sin entrar en particularidades, comparando las predicciones de test de la respuesta que hace el modelo $\\widehat{Y}^{test}$ frente a la muestra de observaciones test de la respuesta $Y^{test}$"
   ]
  },
  {
   "cell_type": "markdown",
   "metadata": {},
   "source": []
  },
  {
   "cell_type": "markdown",
   "metadata": {},
   "source": [
    "**Métricas para evaluar modelos estadisticos predictivos:**"
   ]
  },
  {
   "cell_type": "markdown",
   "metadata": {},
   "source": [
    "Dado el modelo predictivo  $M$ , existen varias metricas para evaluar la bondad predictiva del modelo. Y cada una de estas métricas tienen una version de train (son calculadas usando las predicciones de train) y otra de test (son calculadas usando las predicciones de test)."
   ]
  },
  {
   "cell_type": "markdown",
   "metadata": {},
   "source": [
    "Modelos predictivos con variable respuesta cuantitativa: **Modelos de Regresión**\n"
   ]
  },
  {
   "cell_type": "markdown",
   "metadata": {},
   "source": [
    "A continuacion vamos a exponer las métricas de evaluacion mas habituales para modelos de regresion:"
   ]
  },
  {
   "cell_type": "markdown",
   "metadata": {},
   "source": [
    "**Error cuadratico medio (ECM)**"
   ]
  },
  {
   "cell_type": "markdown",
   "metadata": {},
   "source": [
    "ECM de train:\n",
    "\n",
    "$$ECM_{train}(M) = \\dfrac{1}{n} \\cdot \\sum_{i=1}^n \\hspace{0.1cm} (y_i^{train} - \\hat{y}_i^{train})^2$$\n",
    "\n",
    "\n"
   ]
  },
  {
   "cell_type": "markdown",
   "metadata": {},
   "source": [
    "\n",
    "\n",
    "ECM de test:"
   ]
  },
  {
   "cell_type": "markdown",
   "metadata": {},
   "source": [
    "$$ECM_{test}(M) = \\dfrac{1}{h} \\cdot \\sum_{i=1}^h \\hspace{0.1cm} (\\hspace{0.1cm} y_i^{\\hspace{0.1cm}test} - \\hat{y}_i^{\\hspace{0.1cm}test} \\hspace{0.1cm})^2$$\n",
    "\n",
    "Donde: $h=\\# Y^{test}$"
   ]
  },
  {
   "cell_type": "markdown",
   "metadata": {},
   "source": [
    "¿Por que el ECM es tan usado en la practica?\n",
    "\n",
    "Teoricamente puede demostraste que en un modelo de regresion que el error cuadratico medio de la prediccion puede descomponerse como sigue:\n",
    "\n",
    "$$ECM(\\widehat{Y}) = E[(Y - \\widehat{Y})^2] = Var(\\widehat{Y}) + Sesgo(\\widehat{Y})^2 + \\sigma_{\\varepsilon}^2$$\n",
    "\n",
    "Donde:\n",
    "\n",
    "\n",
    "$Var(\\widehat{Y})= E[(\\widehat{Y} - E[\\widehat{Y}])^2]$\n",
    "\n",
    "$Sesgo(\\widehat{Y})=E[\\widehat{Y}] - Y$\n",
    "\n",
    "\n",
    "Por tanto, en un modelo de regresion,  el ECM del estimador de la respuesta puede descomponerse como la suma de la varianza y sesgo al cuadrado de dicho estimador de la respuesta, y tambien de la varianza del ruido aleatorio del modelo.\n",
    "\n",
    "Los dos primeros terminos (varianza y sesgo del estimador de la respuesta) pueden se reducidos, en función del modelo utilizado. En cambio el tercer componente (la varianza del ruido) es irreducible, no depende del modelo.\n",
    "\n",
    "\n",
    "Esta propiedad del ECM es una de las razones por las que es tan usado, ya que nos da informacion sobre el ratio varianza-sego de las predicciones de un modelo.\n",
    "\n",
    "Un modelo con baja varianza y sesgo en sus predicciones tendra bajo ECM.\n",
    "\n",
    "Un modelo con alta varianza o alto sesgo en sus predicciones tendra alto ECM.\n",
    "\n",
    "Los modelos con menor ECM de entre una coleccion de modelos serán aquellos con un mayor equilibrio en el ratio varianza-sesgo en sus predicciones.\n"
   ]
  },
  {
   "cell_type": "markdown",
   "metadata": {},
   "source": [
    "\n",
    "Un modelo con mucha varianza en sus predicciones es un modelo cuyas predicciones sobre la respuesta varian mucho de una muestra de train a otra. Es decir, al ser entrenado con multiples muestras, las predicciones que el modelo hace de la respuesta usando una determinada muestra fija de test varian mucho de un modelo entrenado a otro. En un modelo con poca varianza en sus predicciones ocurre al reves, la precision de sus predicciones es alta en el sentido de que varian poco en funcion de la muestra de train empleada. Otra cuestion es si estas predicciones son mas o menos acertadas (esto tiene que ver mas con el sesgo).\n",
    "\n",
    "Un modelo con mucho sesgo en sus predicciones es un modelo cuyas predicciones sobre la respuesta están en media muy lejos de los verdaderos valores de la respuesta. Es decir, si el modelo es entrenado con multiples muestras de train y se predice la respuesta para una muestra fija de test, la media de las predicciones de la respuesta obtenidas con cada uno de los modelos entrenados aleja bastante de la verdadera respuesta.\n",
    "En cambio un modelo con bajo sesgo generá predicciones que en media son bastante acertadas. Es decir, si se entrena el modelo con multiples muestras de train y se predice la respuesta usando una muestra fija de test, la media de esas predicciones obtenidas con cada uno de los modelos entrenados es bastante cercana a la respuesta real.\n"
   ]
  },
  {
   "cell_type": "markdown",
   "metadata": {},
   "source": []
  },
  {
   "cell_type": "markdown",
   "metadata": {},
   "source": [
    "**Propuesta basada en remuestreo para estimar la varianza de las predicciones de un modelo:**\n",
    "\n",
    "Consideraremos que una estimacion de la varianza de las predicciones de un modelo de regresion (variable respuesta cuantitativa) $M$ es:\n",
    "\n",
    "$$\\dfrac{1}{h} \\sum_{i=1}^{h} \\widehat{Var}(\\hat{y}_i)$$ \n",
    "\n",
    "Cálculo de $\\widehat{Var}(\\hat{y}_i)$ por remuestreo (en algunos modelos no habra expresiones cerradas para este estimacion, por eso veo interesante un procedimiento general que no dependa del modelo usado):\n",
    "\n",
    "Tenemos una muestra inicial de predictores y de la respuesta $(X,Y)=(X_1,...,X_p, Y)$ con $n$ filas (observaciones)\n",
    "\n",
    "Tomamos $B$ muestras bootstrap (muestras aleatorias con reemplazamiento) de $(X,Y)$:\n",
    "\n",
    "$$(X,Y)_1 ,...,(X,Y)_B$$\n",
    "\n",
    "\n",
    "Entrenamos el modelo $M$ con cada una de las $B$ muestras bootstrap , asi obtenemos $B$ modelos entrenados diferentes $M_1,..,.M_B$\n",
    "\n",
    "Notese que el modelo $M_r$ ha sido entrenado con la muestra train de observaciones $(X,Y)_r$\n",
    "\n",
    "Con cada uno de los $B$ modelos entrenados  $M_1,..,.M_B$ obtener la prediccion de test de la respuesta, es decir $\\widehat{Y}^{test}$ , usando una misma muestra fija de test de los predictores $(X_1^{test},...,X_p^{test})$, asi se obtienen $B$ vectores de predcciones de la respuesta $(\\widehat{Y}^{test}_1 ,...,\\widehat{Y}^{test}_B)$  y con ellos se obtienen $B$ predicciones de la respuesta para la $i$-esima observacion de test de los predictores $x_i^{test} = (x_{i1}^{test} ,..., x_{ip}^{test})^t$  , esto es, se obtiene $\\hat{y}_{i}^{boot}=( \\hat{y}_{i1}^{test} , ...,\\hat{y}_{iB}^{test})$ ,  para $i=1,...,h$\n",
    "\n",
    "Notese que:\n",
    "\n",
    "$\\widehat{Y}^{test}_r$ es el vector con las predicciones de la respuesta que el modelo entrenado $M_r$ genera usando la muestra test de observaciones de los predictores $(X_1^{test},...,X_p^{test})$ , , para $r=1,...,B$\n",
    "\n",
    "$\\hat{y}_{ir}^{test}$ es la prediccion  de la variable respuesta que el modelo entrenado $M_r$ genera usando la observacion  test de los predictores $x_i^{test}=(x_{i1}^{test} ,..., x_{ip}^{test})^t$ , para $r=1,...,B$\n",
    "\n",
    "$\\hat{y}_{i}^{boot}=( \\hat{y}_{i1}^{test} , ...,\\hat{y}_{iB}^{test})$ es la prediccion de la respuesta para la observacion de test $x_i^{test}$ hecha por los distintos modelos $M_1,...,M_B$ entrenados. "
   ]
  },
  {
   "cell_type": "markdown",
   "metadata": {},
   "source": [
    "\n",
    "Estimamos ${Var}(\\hat{y}_i)$ como la varianza de  $\\hat{y}_{i}^{boot}=( \\hat{y}_{i1}^{test} , ...,\\hat{y}_{iB}^{test})$\n",
    "\n",
    "$$ \\widehat{Var}(\\hat{y}_i) = \\dfrac{1}{B} \\sum_{r=1}^{B} \\left( {y}_{ir}^{test} - \\overline{\\hat{y}_{i}^{boot}} \\right)^2   $$\n",
    "\n",
    "Repetimos el proceso con cada $i=1,...,h$, donde $h$ es el tamaño de la muestra de test.\n",
    "\n",
    "Asi obtenderemos: $\\hspace{0.2cm} \\widehat{Var}(\\hat{y}_1),\\widehat{Var}(\\hat{y}_2),..., \\widehat{Var}(\\hat{y}_h)$\n",
    "\n",
    "Promediamos y obtenimos asi una estimacion de la varianza de las predcciones del modelo:\n",
    "\n",
    "$$ \\dfrac{1}{h} \\sum_{i=1}^{h} \\widehat{Var}(\\hat{y}_i) $$  \n"
   ]
  },
  {
   "cell_type": "markdown",
   "metadata": {},
   "source": []
  },
  {
   "cell_type": "markdown",
   "metadata": {},
   "source": [
    "**Propuesta basada en remuestreo para estimar el sesgo de las predicciones de un modelo:**\n",
    "\n",
    "Consideraremos que una estimacion del sesgo de las predicciones de un modelo de regresion (variable respuesta cuantitativa) $M$ es:\n",
    "\n",
    "$$\\dfrac{1}{h} \\sum_{i=1}^{h} \\widehat{Sesgo}(\\hat{y}_i)$$ \n",
    "\n"
   ]
  },
  {
   "cell_type": "markdown",
   "metadata": {},
   "source": [
    "\n",
    "Cálculo de $\\widehat{Sesgo}(\\hat{y}_i)$ por remuestreo (en algunos modelos no habra expresiones cerradas para este estimacion, por eso veo interesante un procedimiento general que no dependa del modelo usado):\n",
    "\n",
    "Tenemos una muestra inicial de predictores y de la respuesta $(X,Y)=(X_1,...,X_p, Y)$ con $n$ filas (observaciones)\n",
    "\n",
    "Tomamos $B$ muestras bootstrap (muestras aleatorias con reemplazamiento) de $(X,Y)$:\n",
    "\n",
    "$$(X,Y)_1 ,...,(X,Y)_B$$\n",
    "\n",
    "\n",
    "Entrenamos el modelo $M$ con cada una de las $B$ muestras bootstrap , asi obtenemos $B$ modelos entrenados diferentes $M_1,..,.M_B$\n",
    "\n",
    "Notese que el modelo $M_r$ ha sido entrenado con la muestra train de observaciones $(X,Y)_r$\n",
    "\n",
    "Con cada uno de los $B$ modelos entrenados  $M_1,..,.M_B$ obtener la prediccion de test de la respuesta, es decir $\\widehat{Y}^{test}$ , usando una misma muestra fija de test de los predictores $(X_1^{test},...,X_p^{test})$, asi se obtienen $B$ vectores de predcciones de la respuesta $(\\widehat{Y}^{test}_1 ,...,\\widehat{Y}^{test}_B)$  y con ellos se obtienen $B$ predicciones de la respuesta para la $i$-esima observacion de test de los predictores $x_i^{test} = (x_{i1}^{test} ,..., x_{ip}^{test})^t$  , esto es, se obtiene $\\hat{y}_{i}^{boot}=( \\hat{y}_{i1}^{test} , ...,\\hat{y}_{iB}^{test})$ ,  para $i=1,...,h$\n",
    "\n",
    "Notese que:\n",
    "\n",
    "$\\widehat{Y}^{test}_r$ es el vector con las predicciones de la respuesta que el modelo entrenado $M_r$ genera usando la muestra test de observaciones de los predictores $(X_1^{test},...,X_p^{test})$ , , para $r=1,...,B$\n",
    "\n",
    "$\\hat{y}_{ir}^{test}$ es la prediccion  de la variable respuesta que el modelo entrenado $M_r$ genera usando la observacion  test de los predictores $x_i^{test}=(x_{i1}^{test} ,..., x_{ip}^{test})^t$ , para $r=1,...,B$\n",
    "\n",
    "$\\hat{y}_{i}^{boot}=( \\hat{y}_{i1}^{test} , ...,\\hat{y}_{iB}^{test})$ es la prediccion de la respuesta para la observacion de test $x_i^{test}$ hecha por los distintos modelos $M_1,...,M_B$ entrenados. \n",
    "\n",
    "Notese que sabemos que $y_i^{test}$ es el verdadero valor de la respuesta en la muestra de test para la observacion $x_i^{test}$ \n"
   ]
  },
  {
   "cell_type": "markdown",
   "metadata": {},
   "source": [
    "\n",
    "Estimamos ${Sesgo}(\\hat{y}_i)$ como la diferencia entre la media de  $\\hat{y}_{i}^{boot}=( \\hat{y}_{i1}^{test} , ...,\\hat{y}_{iB}^{test})$ y el verdadero valor $y_i^{test}$ de la respuesta en la muestra de test para  la observacion de test $x_i^{test}$\n",
    "\n",
    "$$\\widehat{Sesgo}(\\hat{y}_i) = \\left( \\dfrac{1}{h} \\sum_{r=1}^{B}  \\hat{y}_{ir}^{test}    \\right)- y_i^{test}$$\n",
    "\n",
    "Repetimos el proceso con cada $i=1,...,h$, donde $h$ es el tamaño de la muestra de test.\n",
    "\n",
    "Asi obtenderemos: $\\hspace{0.2cm} \\widehat{Sesgo}(\\hat{y}_1),\\widehat{Sesgo}(\\hat{y}_2),..., \\widehat{Sesgo}(\\hat{y}_h)$\n",
    "\n",
    "Promediamos y obtenimos asi una estimacion de la varianza de las predcciones del modelo:\n",
    "\n",
    "$$ \\dfrac{1}{h} \\sum_{i=1}^{h} \\widehat{Sesgo}(\\hat{y}_i) $$  \n"
   ]
  },
  {
   "cell_type": "markdown",
   "metadata": {},
   "source": []
  },
  {
   "cell_type": "markdown",
   "metadata": {},
   "source": []
  },
  {
   "cell_type": "markdown",
   "metadata": {},
   "source": [
    "Raiz del error cuadratico medio (RECM)"
   ]
  },
  {
   "cell_type": "markdown",
   "metadata": {},
   "source": [
    "RECM de train:"
   ]
  },
  {
   "cell_type": "markdown",
   "metadata": {},
   "source": [
    "$$RECM_{train}(M) = \\sqrt{\\dfrac{1}{n} \\sum_{i=1}^n \\hspace{0.1cm} (y_i^{train} - \\hat{y}_i^{train})^2 \\hspace{0.2cm}}$$\n"
   ]
  },
  {
   "cell_type": "markdown",
   "metadata": {},
   "source": [
    "RECM de test:"
   ]
  },
  {
   "cell_type": "markdown",
   "metadata": {},
   "source": [
    "$$RECM_{test}(M) = \\sqrt{ \\dfrac{1}{h} \\cdot \\sum_{i=1}^h \\hspace{0.1cm} (\\hspace{0.1cm} y_i^{\\hspace{0.1cm} test} - \\hat{y}_{i} ^{\\hspace{0.1cm} test} \\hspace{0.1cm})^2 \\hspace{0.2cm}}$$\n"
   ]
  },
  {
   "cell_type": "markdown",
   "metadata": {},
   "source": [
    "\n",
    "Donde: $h=\\# Y^{test}$"
   ]
  },
  {
   "cell_type": "markdown",
   "metadata": {},
   "source": []
  },
  {
   "cell_type": "markdown",
   "metadata": {},
   "source": [
    "Error cuadratico relativo (ECR)"
   ]
  },
  {
   "cell_type": "markdown",
   "metadata": {},
   "source": [
    "ECR de train"
   ]
  },
  {
   "cell_type": "markdown",
   "metadata": {},
   "source": [
    "$$ECR_{train}(M) = \\dfrac{1}{\\sum_{i=1}^n (y_i - \\overline{y})^2 } \\cdot \\sum_{i=1}^n \\hspace{0.1cm} (y_i^{train}- \\hat{y}_i^{train})^2 \\hspace{0.2cm}$$"
   ]
  },
  {
   "cell_type": "markdown",
   "metadata": {},
   "source": [
    "ECR de test"
   ]
  },
  {
   "cell_type": "markdown",
   "metadata": {},
   "source": [
    "$$ECR_{test}(M) = \\dfrac{1}{\\sum_{i=1}^h (\\hspace{0.1cm} y_i^{\\hspace{0.1cm} test} - \\overline{y}^{\\hspace{0.1cm} test} \\hspace{0.1cm})^2 } \\cdot \\sum_{i=1}^h \\hspace{0.1cm} (\\hspace{0.1cm} y_i^{\\hspace{0.1cm} test} - \\hat{y}_i^{\\hspace{0.1cm} test} \\hspace{0.1cm})^2 \\hspace{0.2cm}$$"
   ]
  },
  {
   "cell_type": "markdown",
   "metadata": {},
   "source": [
    "Error absoluto medio (EAM)"
   ]
  },
  {
   "cell_type": "markdown",
   "metadata": {},
   "source": [
    "EAM de train:"
   ]
  },
  {
   "cell_type": "markdown",
   "metadata": {},
   "source": [
    "$$EAM_{train}(M) = \\dfrac{1}{n} \\cdot \\sum_{i=1}^n | y_i^{train} - \\hat{y}_i^{train} |$$\n"
   ]
  },
  {
   "cell_type": "markdown",
   "metadata": {},
   "source": [
    "EAM de test:"
   ]
  },
  {
   "cell_type": "markdown",
   "metadata": {},
   "source": [
    "\n",
    "$$EAM_{test}(M) = \\dfrac{1}{h} \\cdot \\sum_{i=1}^h \\hspace{0.1cm} | \\hspace{0.1cm} y_i^{\\hspace{0.1cm}test} - \\hat{y}_i^{\\hspace{0.1cm}test} \\hspace{0.1cm} |$$\n",
    "\n"
   ]
  },
  {
   "cell_type": "markdown",
   "metadata": {},
   "source": []
  },
  {
   "cell_type": "markdown",
   "metadata": {},
   "source": [
    "Error absoluto relativo (EAR)"
   ]
  },
  {
   "cell_type": "markdown",
   "metadata": {},
   "source": [
    "EAR de train:\n",
    "\n"
   ]
  },
  {
   "cell_type": "markdown",
   "metadata": {},
   "source": [
    "$$EAM_{train}(M) = \\dfrac{1}{\\sum_{i=1}^n | y_i - \\overline{y} |} \\cdot \\sum_{i=1}^n | y_i^{train} - \\hat{y}_i^{train} |$$"
   ]
  },
  {
   "cell_type": "markdown",
   "metadata": {},
   "source": [
    "EAR de test:"
   ]
  },
  {
   "cell_type": "markdown",
   "metadata": {},
   "source": [
    "$$EAM_{train}(M) = \\dfrac{1}{\\sum_{i=1}^n | y_i^{\\hspace{0.1cm} test} - \\overline{y}^{\\hspace{0.1cm} test} |} \\cdot \\sum_{i=1}^n \\hspace{0.1cm} | \\hspace{0.1cm} y_i^{\\hspace{0.1cm} test} - \\hat{y}_i^{\\hspace{0.1cm} test} \\hspace{0.1cm} |$$"
   ]
  },
  {
   "cell_type": "markdown",
   "metadata": {},
   "source": [
    "Observación: \n",
    "\n",
    "El coeficiente de determinación se puede expresar como funcion del $ECR$ como $R^2 = 1 - ECR$"
   ]
  },
  {
   "cell_type": "markdown",
   "metadata": {},
   "source": [
    "\n",
    "\n"
   ]
  },
  {
   "cell_type": "markdown",
   "metadata": {},
   "source": [
    "\n",
    "Modelos predictivos con variable respuesta categorica (modelos de clasificacion supervisada)"
   ]
  },
  {
   "cell_type": "markdown",
   "metadata": {},
   "source": [
    "A continuacion vamos a exponer las métricas de evaluacion mas habituales para modelos de clasificacion supervisada:"
   ]
  },
  {
   "cell_type": "markdown",
   "metadata": {},
   "source": [
    "Tasa de acierto en la clasificación (TAC)"
   ]
  },
  {
   "cell_type": "markdown",
   "metadata": {},
   "source": [
    "TAC de train "
   ]
  },
  {
   "cell_type": "markdown",
   "metadata": {},
   "source": [
    "$TAC_{train}(M) = \\dfrac{1}{n} \\cdot \\sum_{i=1}^{n} \\hspace{0.05cm} \\mathbf {1} ( \\hspace{0.05cm} \\hat{y}_i^{train} = y_i^{train} \\hspace{0.05cm})$"
   ]
  },
  {
   "cell_type": "markdown",
   "metadata": {},
   "source": [
    "TAC de test"
   ]
  },
  {
   "cell_type": "markdown",
   "metadata": {},
   "source": [
    "$TAC_{test}(M) = \\dfrac{1}{h} \\cdot \\sum_{i=1}^{h} \\hspace{0.05cm} \\mathbf{1} \\left( \\hspace{0.05cm} \\hat{y}_i^{\\hspace{0.05cm} test} = y_i^{\\hspace{0.05cm} test} \\hspace{0.05cm} \\right)$"
   ]
  },
  {
   "cell_type": "markdown",
   "metadata": {},
   "source": []
  },
  {
   "cell_type": "markdown",
   "metadata": {},
   "source": [
    "Tasa de error en la clasificación (TEC)"
   ]
  },
  {
   "cell_type": "markdown",
   "metadata": {},
   "source": [
    "TEC de train"
   ]
  },
  {
   "cell_type": "markdown",
   "metadata": {},
   "source": [
    "$TEC_{train}(M) = \\dfrac{1}{n} \\cdot \\sum_{i=1}^{n} \\hspace{0.05cm} \\mathbf {1} ( \\hspace{0.05cm} \\hat{y}_i^{train} \\neq y_i^{train} \\hspace{0.05cm})$"
   ]
  },
  {
   "cell_type": "markdown",
   "metadata": {},
   "source": [
    "TEC de test"
   ]
  },
  {
   "cell_type": "markdown",
   "metadata": {},
   "source": [
    "$TEC_{test}(M) = \\dfrac{1}{h} \\cdot \\sum_{i=1}^{h} \\hspace{0.05cm} \\mathbf {1} ( \\hspace{0.05cm} \\hat{y}_i^{\\hspace{0.05cm} test} \\neq y_i^{\\hspace{0.05cm} test} \\hspace{0.05cm})$"
   ]
  },
  {
   "cell_type": "markdown",
   "metadata": {},
   "source": []
  },
  {
   "cell_type": "markdown",
   "metadata": {},
   "source": [
    "Kappa"
   ]
  },
  {
   "cell_type": "markdown",
   "metadata": {},
   "source": [
    "Suponemos que la variable respuesta del modelo $M$ tiene $k$ categorias\n",
    "\n",
    "Si usamos un método de clasificacion basado en la distribución de probabilidad uniforme, este predice cada categoria de la respuesta con igual probabilidad $1/k$"
   ]
  },
  {
   "cell_type": "markdown",
   "metadata": {},
   "source": [
    "Kappa de train"
   ]
  },
  {
   "cell_type": "markdown",
   "metadata": {},
   "source": [
    "$Kappa_{\\hspace{0.05cm} train}(M) = \\dfrac{TAC_{\\hspace{0.05cm} train} - 1/k}{1 - 1/k}$"
   ]
  },
  {
   "cell_type": "markdown",
   "metadata": {},
   "source": [
    "Kappa de test:"
   ]
  },
  {
   "cell_type": "markdown",
   "metadata": {},
   "source": [
    "$Kappa_{\\hspace{0.05cm} test}(M) = \\dfrac{TAC_{\\hspace{0.05cm} test} - 1/k}{1 - 1/k}$"
   ]
  },
  {
   "cell_type": "markdown",
   "metadata": {},
   "source": []
  },
  {
   "cell_type": "markdown",
   "metadata": {},
   "source": [
    "**Metodos de validación cruzada:**"
   ]
  },
  {
   "cell_type": "markdown",
   "metadata": {},
   "source": [
    "Los métodos de validacion cruzada son métodos para validar un modelo predictivo $M$ que se basan en la division del data-set en parte de train y parte de test, en el entrenamiento del modelo considerado con la parte de train y en el cálculo de una métrica de evaluacion considerada con la parte de test.\n",
    "\n"
   ]
  },
  {
   "cell_type": "markdown",
   "metadata": {},
   "source": [
    "Considerese un modelo $M$ y un data-set disponible inicialmente (antes de la division de train y test) :\n",
    "\n",
    " $$D=[X_1,...,X_p,Y]=\\begin{pmatrix}\n",
    "    x_{11}&x_{12}&...&x_{1p}& y_1\\\\\n",
    "    x_{21}&x_{22}&...&x_{2p} & y_2\\\\\n",
    "    &...&\\\\\n",
    "    x_{N1}&x_{N2}&...&x_{Np}& y_N\n",
    "    \\end{pmatrix}$$ "
   ]
  },
  {
   "cell_type": "markdown",
   "metadata": {},
   "source": [
    "**Validacion simple no aleatoria** (en este caso es la que hay que usar al estar presente la variable tiempo (el orden de la sobservaciones importa, no debe romperse, por ello no debe hacerse una particion aleatoria))"
   ]
  },
  {
   "cell_type": "markdown",
   "metadata": {},
   "source": [
    "El método de validacion simple no aleatoria consiste en el siguiente algorimto:\n",
    "\n",
    "1) Se divide $D$ en parte de train y parte de test del siguiente modo:\n",
    "\n",
    "Las primeras $\\lfloor k  \\cdot N \\rfloor$ observaciones (filas) definen el conjunto de train $\\Rightarrow$ $D_{train}= \\begin{pmatrix}\n",
    "    x_{11}&x_{12}&...&x_{1p}& y_1\\\\\n",
    "    x_{21}&x_{22}&...&x_{2p} & y_2\\\\\n",
    "    &...&\\\\\n",
    "    x_{\\lfloor k  \\cdot N \\rfloor1}&x_{\\lfloor k  \\cdot N \\rfloor2}&...&x_{\\lfloor k  \\cdot N \\rfloor p}& y_{\\lfloor k  \\cdot N \\rfloor}\n",
    "    \\end{pmatrix}$\n",
    "\n",
    "<br>\n",
    "\n",
    "Las siguientes $N - \\lfloor k  \\cdot N \\rfloor$ observaciones definen (filas) el conjunto de test  $\\Rightarrow$ $D_{test}= \\begin{pmatrix}\n",
    "    x_{(\\lfloor k  \\cdot N \\rfloor + 1) \\hspace{0.05cm} 1 } & x_{(\\lfloor k  \\cdot N \\rfloor + 1) \\hspace{0.05cm} 2}&...&x_{(\\lfloor k  \\cdot N \\rfloor + 1) \\hspace{0.05cm} p}& y_{\\lfloor k  \\cdot N \\rfloor + 1} \\\\\n",
    "    x_{(\\lfloor k  \\cdot N \\rfloor + 2) \\hspace{0.05cm} 1 } & x_{(\\lfloor k  \\cdot N \\rfloor + 2) \\hspace{0.05cm} 2}&...&x_{(\\lfloor k  \\cdot N \\rfloor + 2) \\hspace{0.05cm} p}& y_{\\lfloor k  \\cdot N \\rfloor + 2}\\\\\n",
    "    &...&\\\\\n",
    "    x_{N \\hspace{0.05cm} 1 } & x_{N 2}&...&x_{N p}& y_{N}\n",
    "    \\end{pmatrix}$\n",
    "\n",
    "Donde: \n",
    "\n",
    "$k\\in (0,1)$ \n",
    "\n",
    "$\\lfloor \\cdot \\rfloor$ es la funcion suelo, que dado un nº como argumento te  devuelve el mayor entero menor que dicho nº\n",
    "\n",
    "\n",
    "2) Se entrena el modelo $M$ con $D_{train}$\n",
    "\n",
    "3) Se calcula una metrica de evaluacion con $D_{test}$ $\\Rightarrow$ Si por ejemplo se calcula el $ECM$ , se obtendria el $ECM_{test}$\n",
    "\n"
   ]
  },
  {
   "cell_type": "markdown",
   "metadata": {},
   "source": []
  },
  {
   "cell_type": "markdown",
   "metadata": {},
   "source": [
    "Validación simple aleatoria"
   ]
  },
  {
   "cell_type": "markdown",
   "metadata": {},
   "source": [
    "El método de validacion simple aleatoria consiste en el siguiente algorimto:\n",
    "\n",
    "1) Se divide $D$ en parte de train y parte de test del siguiente modo:\n",
    "\n",
    "\n",
    "Se genera una muestra aleatoria sin reemplazamiento de tamaño $\\lfloor k  \\cdot N \\rfloor$  del vector $(1,2,...,N)$ $\\Rightarrow$ $m=(m_1 ,m_2,...,m_{\\lfloor k  \\cdot N \\rfloor})$\n",
    "\n",
    "Las observaciones (filas) $m_1,m_2 ,...,m_{\\lfloor k  \\cdot N \\rfloor}$ de $D$  definen la muestra de train $\\Rightarrow$ $D_{train}= D[m , :] = \\begin{pmatrix}\n",
    "    x_{m_11}&x_{m_12}&...&x_{m_1p}& y_{m_1}\\\\\n",
    "    x_{m_21}&x_{m_22}&...&x_{m_2p} & y_{m_2}\\\\\n",
    "    &...&\\\\\n",
    "    x_{m_{\\lfloor k  \\cdot N \\rfloor} 1}&x_{m_{\\lfloor k  \\cdot N \\rfloor}  2}&...&x_{m_{\\lfloor k  \\cdot N \\rfloor} p}& y_{m_{\\lfloor k  \\cdot N \\rfloor}}\n",
    "    \\end{pmatrix}$\n",
    "\n",
    "<br>\n",
    "\n",
    "\n",
    "Las observaciones (filas) de $D$ complementarias a  $m$ , es decir, las filas de $D$ que no estan en $D_{train}$, es decir, las filas de $m^c$,\n",
    " definen la muestra de train $\\Rightarrow$ $D_{train} = D[m^c , :]$\n",
    "\n",
    "\n",
    "\n",
    "Donde: \n",
    "\n",
    "$k\\in (0,1)$ \n",
    "\n",
    "$\\lfloor \\cdot \\rfloor$ es la funcion suelo, que dado un nº como argumento te  devuelve el mayor entero menor que dicho nº\n",
    "\n",
    "Las filas de $D$ complentarias a   $m=(m_1 ,m_2,...,m_{\\lfloor k  \\cdot N \\rfloor})$ se definen como $m^c=( i =1,...,N / i\\neq m_j , \\forall j=1,...,\\lfloor k  \\cdot N \\rfloor )$\n",
    "\n",
    "\n",
    "2) Se entrena el modelo $M$ con $D_{train}$ $\\Rightarrow$  $\\widehat{M}$\n",
    "\n",
    "3) Se calcula una metrica de evaluacion sobre el modelo entrenado $\\widehat{M}$ usando $D_{test}$ \n",
    "\n",
    "   Si por ejemplo se calcula el $ECM$ , se obtendria el $ECM_{test}(\\widehat{M})$\n",
    "\n",
    "4) La métrica de evaluacion final del modelo es la obtenida en el paso 3) \n",
    "\n",
    "Si la métrica empleada en 3) fue el $ECM$ , entonces:\n",
    "\n",
    "$$ECM_{test}^*(M) = ECM_{test}(\\widehat{M})$$\n",
    "\n"
   ]
  },
  {
   "cell_type": "markdown",
   "metadata": {},
   "source": []
  },
  {
   "cell_type": "markdown",
   "metadata": {},
   "source": [
    "Validacion simple aleatoria repetida"
   ]
  },
  {
   "cell_type": "markdown",
   "metadata": {},
   "source": [
    "El método de validacion simple aleatoria consiste en el siguiente algorimto:\n",
    "\n",
    "1) Se obtienen $B$ particiones de $D$ en parte de train y parte de test del siguiente modo:\n",
    "   \n",
    "\n",
    "1.1) Se generan $B$ una muestras aleatoria sin reemplazamiento de tamaño $\\lfloor k  \\cdot N \\rfloor$  del vector $(1,2,...,N)$ :\n",
    "\n",
    "$$m_1 , m_2 , ..., m_B$$\n",
    "\n",
    "Donde: \n",
    "\n",
    "$m_r=(m_{r1} ,...,m_{r\\lfloor k  \\cdot N \\rfloor})$ , para $r=1,...,B$\n",
    "\n",
    "$k\\in (0,1)$ \n",
    "\n",
    "$\\lfloor \\cdot \\rfloor$ es la funcion suelo, que dado un nº como argumento te  devuelve el mayor entero menor que dicho nº\n",
    "\n",
    "\n",
    "\n",
    "1.2) Se obtienen $B$ muestras de train del data-set original $D$:\n",
    "\n",
    "$$D_{train, 1}= D[m_1 , :] , D_{train, 2}= D[m_2 , :] , ... , D_{train, B}= D[m_B , :]$$\n",
    "\n",
    "Donde: \n",
    "\n",
    "$D[m_r , :]$ es la submatriz que resulta de quedarse solo con las filas de $D$ definidas por el vector numerico $m_r$\n",
    "\n",
    "\n",
    "\n",
    "\n",
    "1.3) Se obtienen $B$ muestras de test del data-set original $D$:\n",
    "\n",
    "\n",
    "$$D_{test, 1}= D[m_1^c , :] , D_{test, 2}= D[m_2^c , :] , ... , D_{test, B}= D[m_B^c , :]$$\n",
    "\n",
    "\n",
    "Donde: \n",
    "\n",
    "$m_r^c=( i =1,...,N : i\\neq m_{rj} , \\forall j=1,...,\\lfloor k  \\cdot N \\rfloor )$ es el complementario de $m_r$\n",
    "\n",
    " \n",
    "\n",
    "\n",
    "Por tanto se obtienen $r$ particiones de train y test de $D$:\n",
    "\n",
    "\n",
    "\n",
    "2) Se entrena el modelo $M$ con $D_{train,1} , D_{train,2} , ..., D_{train,B}$  $\\Rightarrow$ $\\widehat{M}_1 ,..., \\widehat{M}_B$\n",
    "\n",
    "3) Se calcula una misma metrica de evaluacion sobre el modelo entrenado $M_r$ usando $D_{test,r}$ , para $r=1,...,B$ \n",
    "\n",
    "Supongamos que la metrica de evaluacion usada es el ECM , entonces se obtienen $B$ valores de esta métrica :\n",
    "\n",
    "$$ECM_{test }(\\widehat{M}_1) ,  ECM_{test }(\\widehat{M}_2) , ... , ECM_{test}(\\widehat{M}_B)$$\n",
    "\n",
    "Donde: \n",
    "\n",
    "$ECM_{test , r}$ es el ECM calculado sobre $M_r$ usando $D_{test,r}$ $\\Rightarrow$ $ECM_{test }(\\widehat{M}_r) = \\dfrac{1}{h} \\cdot \\sum_{i=1}^h \\hspace{0.1cm} (\\hspace{0.1cm} y_i^{\\hspace{0.1cm}test,r} - \\hat{y}_i^{\\hspace{0.1cm}test,r} \\hspace{0.1cm})^2$ \n",
    "\n",
    "4) Se calcula la métrica final de evaluacion del modelo como el promedio de las $B$ metricas calculadas en 3). Si la metrica usada en 3) es el ECM, entonces:\n",
    "\n",
    "$$ECM_{test}^{\\hspace{0.08cm}*}( {M}) = \\dfrac{1}{B} \\cdot \\sum_{r=1}^B ECM_{test}(\\widehat{M}_r)$$"
   ]
  },
  {
   "cell_type": "markdown",
   "metadata": {},
   "source": []
  },
  {
   "cell_type": "markdown",
   "metadata": {},
   "source": [
    "Leave-one-out"
   ]
  },
  {
   "cell_type": "markdown",
   "metadata": {},
   "source": [
    "K-folds"
   ]
  },
  {
   "cell_type": "markdown",
   "metadata": {},
   "source": [
    "Repeted K-folds"
   ]
  },
  {
   "cell_type": "markdown",
   "metadata": {},
   "source": []
  },
  {
   "cell_type": "markdown",
   "metadata": {},
   "source": [
    "**Metodos de preprocesado:**"
   ]
  },
  {
   "cell_type": "markdown",
   "metadata": {},
   "source": [
    "Escalado de variable"
   ]
  },
  {
   "cell_type": "markdown",
   "metadata": {},
   "source": [
    "El escalado de variables es una operaccion necesaria para la implementacion de algunos algoritmos de machine learning. Vamos a ver algunos tipos de escalado.\n"
   ]
  },
  {
   "cell_type": "markdown",
   "metadata": {},
   "source": [
    "**Escalado estandar**\n",
    "\n",
    "Dada la variable estadistica $X_j=(x_{1j},...,x_{nj})^t$\n",
    "\n",
    "La version escalada estandar de $X_j$ es la siguiente variable:\n",
    "\n",
    "$$X_j^{std} = \\dfrac{X_j - \\mu(X_j)}{\\sigma(X_j)}$$\n",
    "\n",
    "Donde:\n",
    "\n",
    "$\\mu(X_j) = \\dfrac{1}{n} \\cdot \\sum_{i=1}^n x_{ij}$\n",
    "\n",
    "$\\sigma(X_j) = \\dfrac{1}{n} \\cdot \\sum_{i=1}^n (x_{ij} - \\overline{x}_j )^2$\n"
   ]
  },
  {
   "cell_type": "markdown",
   "metadata": {},
   "source": [
    "Propiedades:\n",
    "\n",
    "$\\mu( X_j^{\\hspace{0.07cm}std} ) = 0$\n",
    "\n",
    "\n",
    "$\\sigma( X_j^{\\hspace{0.07cm}std} ) = 1$\n"
   ]
  },
  {
   "cell_type": "markdown",
   "metadata": {},
   "source": [
    "Demostraciones: \n",
    "\n",
    "$\\mu(X_j ^{\\hspace{0.07cm}std} )  = \\mu \\left( \\dfrac{X_j - \\mu(X_j)}{\\sigma(X_j)} \\right) = \\dfrac{1}{\\sigma(X_j)} \\cdot \\mu( \\hspace{0.08cm} X_j - \\mu(X_j) \\hspace{0.08cm} ) = \\dfrac{1}{\\sigma(X_j)} \\cdot [ \\hspace{0.08cm}  \\mu(X_j) - \\mu \\left( \\hspace{0.08cm} \\mu(X_j) \\hspace{0.08cm} \\right) \\hspace{0.08cm} ] = \\dfrac{1}{\\sigma(X_j)} \\cdot [ \\hspace{0.08cm}  \\mu(X_j) -  \\mu(X_j)  \\hspace{0.08cm} ] = \\dfrac{1}{\\sigma(X_j)} \\cdot  0 = 0$\n",
    "\n",
    "$\\sigma( X_j^{\\hspace{0.07cm}std} ) =  \\sigma( X_j^{\\hspace{0.07cm}std} )$\n"
   ]
  },
  {
   "cell_type": "markdown",
   "metadata": {},
   "source": [
    "En sklearn https://scikit-learn.org/stable/modules/generated/sklearn.preprocessing.StandardScaler.html#sklearn.preprocessing.StandardScaler"
   ]
  },
  {
   "cell_type": "markdown",
   "metadata": {},
   "source": []
  },
  {
   "cell_type": "markdown",
   "metadata": {},
   "source": [
    "**Normalizacion (0,1)**"
   ]
  },
  {
   "cell_type": "markdown",
   "metadata": {},
   "source": [
    "Dada la variable estadistica $X_j=(x_{1j},...,x_{nj})^t$\n",
    "\n",
    "La version normalizada $(0,1)$ de $X_j$ es la siguiente variable:\n",
    "\n",
    "$$X_j^{norm(0,1)} = \\dfrac{X_j - Min(X_j)}{Max(X_j) - Min(X_j)}$$\n"
   ]
  },
  {
   "cell_type": "markdown",
   "metadata": {},
   "source": [
    "Propiedades:\n",
    "\n",
    "$Max \\left(X_j^{norm(a,b)} \\right) = 1$\n",
    "\n",
    "$Min \\left( X_j^{norm(a,b)} \\right) = 0$"
   ]
  },
  {
   "cell_type": "markdown",
   "metadata": {},
   "source": [
    "Demostración:\n",
    "\n",
    "$Max \\left( X_j^{norm(0,1)} \\right) = \\dfrac{ Max(X_j) - Min(X_j)}{Max(X_j) - Min(X_j)} = 1$\n",
    "\n",
    "$Min \\left( X_j^{norm(0,1)} \\right) = \\dfrac{ Min(X_j) - Min(X_j)}{Max(X_j) - Min(X_j)} = 0$\n"
   ]
  },
  {
   "cell_type": "markdown",
   "metadata": {},
   "source": [
    "Por defecto sklearn hace esta https://scikit-learn.org/stable/modules/generated/sklearn.preprocessing.MinMaxScaler.html#sklearn.preprocessing.MinMaxScaler"
   ]
  },
  {
   "cell_type": "markdown",
   "metadata": {},
   "source": [
    "**Normalizacion (a,b)**"
   ]
  },
  {
   "cell_type": "markdown",
   "metadata": {},
   "source": [
    "Dada la variable estadistica $X_j=(x_{1j},...,x_{nj})^t$\n",
    "\n",
    "La version normalizada $(a,b)$ de $X_j$ es la siguiente variable:\n",
    "\n",
    "$$X_j^{norm(a,b)} = X_j^{norm(0,1)} \\cdot (b - a) + a$$\n"
   ]
  },
  {
   "cell_type": "markdown",
   "metadata": {},
   "source": [
    "Propiedades:\n",
    "\n",
    "$Max \\left(X_j^{norm(a,b)} \\right) = b$\n",
    "\n",
    "$Min \\left( X_j^{norm(a,b)} \\right) = a$\n"
   ]
  },
  {
   "cell_type": "markdown",
   "metadata": {},
   "source": [
    "Demostración:\n",
    "\n",
    "$Max \\left(X_j^{norm(a,b)} \\right) = Max \\left(X_j^{norm(0,1)} \\right)\\cdot (a-b)+b= 1\\cdot (b-a)+a = b$\n",
    "\n",
    "$Min \\left(X_j^{norm(a,b)} \\right) = Min \\left(X_j^{norm(0,1)} \\right)\\cdot (a-b)+b= 0\\cdot (b-a)+a = a$"
   ]
  },
  {
   "cell_type": "markdown",
   "metadata": {},
   "source": [
    "Puede hacerse esta cambiando el parametro feature_range aqui https://scikit-learn.org/stable/modules/generated/sklearn.preprocessing.MinMaxScaler.html#sklearn.preprocessing.MinMaxScaler"
   ]
  },
  {
   "cell_type": "markdown",
   "metadata": {},
   "source": [
    "Imputacion de valores faltantes en variables"
   ]
  },
  {
   "cell_type": "markdown",
   "metadata": {},
   "source": [
    "Recodificación estandar de variables categoricas"
   ]
  },
  {
   "cell_type": "markdown",
   "metadata": {},
   "source": [
    "Categorizacion de variables cuantitativas\n"
   ]
  },
  {
   "cell_type": "markdown",
   "metadata": {},
   "source": [
    "Dummificacion de variables categoricas"
   ]
  },
  {
   "cell_type": "markdown",
   "metadata": {},
   "source": []
  },
  {
   "cell_type": "markdown",
   "metadata": {},
   "source": [
    "**Ajuste de hiper-parametros**"
   ]
  },
  {
   "cell_type": "markdown",
   "metadata": {},
   "source": []
  },
  {
   "cell_type": "markdown",
   "metadata": {},
   "source": []
  },
  {
   "cell_type": "markdown",
   "metadata": {},
   "source": []
  }
 ],
 "metadata": {
  "kernelspec": {
   "display_name": "Python 3.10.0 64-bit",
   "language": "python",
   "name": "python3"
  },
  "language_info": {
   "codemirror_mode": {
    "name": "ipython",
    "version": 3
   },
   "file_extension": ".py",
   "mimetype": "text/x-python",
   "name": "python",
   "nbconvert_exporter": "python",
   "pygments_lexer": "ipython3",
   "version": "3.10.0"
  },
  "orig_nbformat": 4,
  "vscode": {
   "interpreter": {
    "hash": "c63d8c7d738c2960218a10995aedf0a7f67a49a231e71037adf0440953cdb45b"
   }
  }
 },
 "nbformat": 4,
 "nbformat_minor": 2
}
