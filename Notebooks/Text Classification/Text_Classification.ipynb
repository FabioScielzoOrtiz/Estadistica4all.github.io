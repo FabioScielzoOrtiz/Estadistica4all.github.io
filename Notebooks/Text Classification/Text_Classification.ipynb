{
 "cells": [
  {
   "cell_type": "code",
   "execution_count": 369,
   "metadata": {},
   "outputs": [],
   "source": [
    "import pandas as pd"
   ]
  },
  {
   "cell_type": "code",
   "execution_count": 370,
   "metadata": {},
   "outputs": [],
   "source": [
    "df_Fake = pd.read_csv('Fake.csv')\n",
    "df_True = pd.read_csv('True.csv')"
   ]
  },
  {
   "cell_type": "code",
   "execution_count": 371,
   "metadata": {},
   "outputs": [],
   "source": [
    "df_Fake['Fake'] = 1\n",
    "df_True['Fake'] = 0"
   ]
  },
  {
   "cell_type": "code",
   "execution_count": 372,
   "metadata": {},
   "outputs": [],
   "source": [
    "Fake_News_Data = pd.concat([df_Fake, df_True])"
   ]
  },
  {
   "cell_type": "code",
   "execution_count": 373,
   "metadata": {},
   "outputs": [],
   "source": [
    "Fake_News_Data = Fake_News_Data.loc[: , ['Fake', 'title', 'text', 'date'] ]"
   ]
  },
  {
   "cell_type": "code",
   "execution_count": 374,
   "metadata": {},
   "outputs": [],
   "source": [
    "Fake_News_Data.index = range(0 , len(Fake_News_Data))"
   ]
  },
  {
   "cell_type": "markdown",
   "metadata": {},
   "source": [
    "Fake = 1 --> yes \n",
    "\n",
    "Fake = 0 --> no"
   ]
  },
  {
   "cell_type": "code",
   "execution_count": 375,
   "metadata": {},
   "outputs": [
    {
     "data": {
      "text/plain": [
       "Fake      int64\n",
       "title    object\n",
       "text     object\n",
       "date     object\n",
       "dtype: object"
      ]
     },
     "execution_count": 375,
     "metadata": {},
     "output_type": "execute_result"
    }
   ],
   "source": [
    "Fake_News_Data.dtypes"
   ]
  },
  {
   "cell_type": "code",
   "execution_count": 376,
   "metadata": {},
   "outputs": [],
   "source": [
    "Fake_News_Data['Fake'] = Fake_News_Data['Fake'].astype('object')"
   ]
  },
  {
   "cell_type": "markdown",
   "metadata": {},
   "source": []
  },
  {
   "cell_type": "code",
   "execution_count": 377,
   "metadata": {},
   "outputs": [
    {
     "data": {
      "text/html": [
       "<div>\n",
       "<style scoped>\n",
       "    .dataframe tbody tr th:only-of-type {\n",
       "        vertical-align: middle;\n",
       "    }\n",
       "\n",
       "    .dataframe tbody tr th {\n",
       "        vertical-align: top;\n",
       "    }\n",
       "\n",
       "    .dataframe thead th {\n",
       "        text-align: right;\n",
       "    }\n",
       "</style>\n",
       "<table border=\"1\" class=\"dataframe\">\n",
       "  <thead>\n",
       "    <tr style=\"text-align: right;\">\n",
       "      <th></th>\n",
       "      <th>Fake</th>\n",
       "      <th>title</th>\n",
       "      <th>text</th>\n",
       "      <th>date</th>\n",
       "    </tr>\n",
       "  </thead>\n",
       "  <tbody>\n",
       "    <tr>\n",
       "      <th>count</th>\n",
       "      <td>44898</td>\n",
       "      <td>44898</td>\n",
       "      <td>44898</td>\n",
       "      <td>44898</td>\n",
       "    </tr>\n",
       "    <tr>\n",
       "      <th>unique</th>\n",
       "      <td>2</td>\n",
       "      <td>38729</td>\n",
       "      <td>38646</td>\n",
       "      <td>2397</td>\n",
       "    </tr>\n",
       "    <tr>\n",
       "      <th>top</th>\n",
       "      <td>1</td>\n",
       "      <td>Factbox: Trump fills top jobs for his administ...</td>\n",
       "      <td></td>\n",
       "      <td>December 20, 2017</td>\n",
       "    </tr>\n",
       "    <tr>\n",
       "      <th>freq</th>\n",
       "      <td>23481</td>\n",
       "      <td>14</td>\n",
       "      <td>627</td>\n",
       "      <td>182</td>\n",
       "    </tr>\n",
       "  </tbody>\n",
       "</table>\n",
       "</div>"
      ],
      "text/plain": [
       "         Fake                                              title   text  \\\n",
       "count   44898                                              44898  44898   \n",
       "unique      2                                              38729  38646   \n",
       "top         1  Factbox: Trump fills top jobs for his administ...          \n",
       "freq    23481                                                 14    627   \n",
       "\n",
       "                      date  \n",
       "count                44898  \n",
       "unique                2397  \n",
       "top     December 20, 2017   \n",
       "freq                   182  "
      ]
     },
     "execution_count": 377,
     "metadata": {},
     "output_type": "execute_result"
    }
   ],
   "source": [
    "Fake_News_Data.describe(include='all')"
   ]
  },
  {
   "cell_type": "code",
   "execution_count": 378,
   "metadata": {},
   "outputs": [
    {
     "data": {
      "text/plain": [
       "Fake     0\n",
       "title    0\n",
       "text     0\n",
       "date     0\n",
       "dtype: int64"
      ]
     },
     "execution_count": 378,
     "metadata": {},
     "output_type": "execute_result"
    }
   ],
   "source": [
    "Fake_News_Data.isnull().sum()"
   ]
  },
  {
   "cell_type": "code",
   "execution_count": 379,
   "metadata": {},
   "outputs": [],
   "source": [
    "import numpy as np\n",
    "\n",
    "import seaborn as sns\n",
    "import matplotlib as mpl\n",
    "import matplotlib.pyplot as plt\n",
    "\n",
    "sns.set(rc={'figure.figsize':(8,8)})"
   ]
  },
  {
   "cell_type": "code",
   "execution_count": 380,
   "metadata": {},
   "outputs": [],
   "source": [
    "prop_Fake_yes = len( Fake_News_Data.loc[ Fake_News_Data['Fake']== 1 , :] ) / len(Fake_News_Data)\n",
    "\n",
    "prop_Fake_no = len( Fake_News_Data.loc[ Fake_News_Data['Fake']== 0 , :] ) / len(Fake_News_Data)"
   ]
  },
  {
   "cell_type": "code",
   "execution_count": 381,
   "metadata": {},
   "outputs": [
    {
     "name": "stderr",
     "output_type": "stream",
     "text": [
      "C:\\Users\\Usuario\\AppData\\Local\\Temp\\ipykernel_16112\\2699169446.py:8: SettingWithCopyWarning: \n",
      "A value is trying to be set on a copy of a slice from a DataFrame\n",
      "\n",
      "See the caveats in the documentation: https://pandas.pydata.org/pandas-docs/stable/user_guide/indexing.html#returning-a-view-versus-a-copy\n",
      "  Fake_News_Data['proportion_Fakes'][i] = prop_Fake_yes\n"
     ]
    }
   ],
   "source": [
    "Fake_News_Data['proportion_Fakes'] = 0\n",
    "\n",
    "\n",
    "for i in range(0, len(Fake_News_Data)):\n",
    "\n",
    "    if Fake_News_Data['Fake'][i] == 1 :\n",
    "\n",
    "        Fake_News_Data['proportion_Fakes'][i] = prop_Fake_yes\n",
    "\n",
    "    else :\n",
    "\n",
    "        Fake_News_Data['proportion_Fakes'][i] = prop_Fake_no"
   ]
  },
  {
   "cell_type": "code",
   "execution_count": 382,
   "metadata": {},
   "outputs": [
    {
     "data": {
      "text/plain": [
       "[Text(0.5, 0, 'Fakes'), Text(0, 0.5, 'proportion')]"
      ]
     },
     "execution_count": 382,
     "metadata": {},
     "output_type": "execute_result"
    },
    {
     "data": {
      "image/png": "[encoded data removed]",
      "text/plain": [
       "<Figure size 576x576 with 1 Axes>"
      ]
     },
     "metadata": {},
     "output_type": "display_data"
    }
   ],
   "source": [
    "p1 = sns.barplot(x='Fake', y='proportion_Fakes', data=Fake_News_Data, palette=\"Spectral\") \n",
    "p1.set_yticks( np.arange(0, 0.85, 0.1)  )\n",
    "p1.set_xticklabels(['No', 'Yes'])\n",
    "p1.axes.set(xlabel='Fakes', ylabel='proportion')"
   ]
  },
  {
   "cell_type": "code",
   "execution_count": 383,
   "metadata": {},
   "outputs": [
    {
     "data": {
      "text/plain": [
       "[0.47701456635039424, 0.5229854336496058]"
      ]
     },
     "execution_count": 383,
     "metadata": {},
     "output_type": "execute_result"
    }
   ],
   "source": [
    "[prop_Fake_no , prop_Fake_yes]"
   ]
  },
  {
   "cell_type": "code",
   "execution_count": 384,
   "metadata": {},
   "outputs": [
    {
     "data": {
      "text/plain": [
       "[21417.0, 23481.0]"
      ]
     },
     "execution_count": 384,
     "metadata": {},
     "output_type": "execute_result"
    }
   ],
   "source": [
    "[prop_Fake_no*len(Fake_News_Data) , prop_Fake_yes*len(Fake_News_Data)]"
   ]
  },
  {
   "cell_type": "code",
   "execution_count": 385,
   "metadata": {},
   "outputs": [],
   "source": [
    "Fake_News_Data = Fake_News_Data.loc[ : , Fake_News_Data.columns != 'proportion_Fakes']"
   ]
  },
  {
   "cell_type": "code",
   "execution_count": 386,
   "metadata": {},
   "outputs": [],
   "source": [
    "Fake_News_Data['word_count'] = Fake_News_Data['text'].str.split().str.len()"
   ]
  },
  {
   "cell_type": "code",
   "execution_count": 387,
   "metadata": {},
   "outputs": [
    {
     "data": {
      "text/html": [
       "<div>\n",
       "<style scoped>\n",
       "    .dataframe tbody tr th:only-of-type {\n",
       "        vertical-align: middle;\n",
       "    }\n",
       "\n",
       "    .dataframe tbody tr th {\n",
       "        vertical-align: top;\n",
       "    }\n",
       "\n",
       "    .dataframe thead th {\n",
       "        text-align: right;\n",
       "    }\n",
       "</style>\n",
       "<table border=\"1\" class=\"dataframe\">\n",
       "  <thead>\n",
       "    <tr style=\"text-align: right;\">\n",
       "      <th></th>\n",
       "      <th>Fake</th>\n",
       "      <th>title</th>\n",
       "      <th>text</th>\n",
       "      <th>date</th>\n",
       "      <th>word_count</th>\n",
       "    </tr>\n",
       "  </thead>\n",
       "  <tbody>\n",
       "    <tr>\n",
       "      <th>0</th>\n",
       "      <td>1</td>\n",
       "      <td>Donald Trump Sends Out Embarrassing New Year’...</td>\n",
       "      <td>Donald Trump just couldn t wish all Americans ...</td>\n",
       "      <td>December 31, 2017</td>\n",
       "      <td>495</td>\n",
       "    </tr>\n",
       "    <tr>\n",
       "      <th>1</th>\n",
       "      <td>1</td>\n",
       "      <td>Drunk Bragging Trump Staffer Started Russian ...</td>\n",
       "      <td>House Intelligence Committee Chairman Devin Nu...</td>\n",
       "      <td>December 31, 2017</td>\n",
       "      <td>305</td>\n",
       "    </tr>\n",
       "    <tr>\n",
       "      <th>2</th>\n",
       "      <td>1</td>\n",
       "      <td>Sheriff David Clarke Becomes An Internet Joke...</td>\n",
       "      <td>On Friday, it was revealed that former Milwauk...</td>\n",
       "      <td>December 30, 2017</td>\n",
       "      <td>580</td>\n",
       "    </tr>\n",
       "    <tr>\n",
       "      <th>3</th>\n",
       "      <td>1</td>\n",
       "      <td>Trump Is So Obsessed He Even Has Obama’s Name...</td>\n",
       "      <td>On Christmas day, Donald Trump announced that ...</td>\n",
       "      <td>December 29, 2017</td>\n",
       "      <td>444</td>\n",
       "    </tr>\n",
       "    <tr>\n",
       "      <th>4</th>\n",
       "      <td>1</td>\n",
       "      <td>Pope Francis Just Called Out Donald Trump Dur...</td>\n",
       "      <td>Pope Francis used his annual Christmas Day mes...</td>\n",
       "      <td>December 25, 2017</td>\n",
       "      <td>420</td>\n",
       "    </tr>\n",
       "    <tr>\n",
       "      <th>...</th>\n",
       "      <td>...</td>\n",
       "      <td>...</td>\n",
       "      <td>...</td>\n",
       "      <td>...</td>\n",
       "      <td>...</td>\n",
       "    </tr>\n",
       "    <tr>\n",
       "      <th>44893</th>\n",
       "      <td>0</td>\n",
       "      <td>'Fully committed' NATO backs new U.S. approach...</td>\n",
       "      <td>BRUSSELS (Reuters) - NATO allies on Tuesday we...</td>\n",
       "      <td>August 22, 2017</td>\n",
       "      <td>466</td>\n",
       "    </tr>\n",
       "    <tr>\n",
       "      <th>44894</th>\n",
       "      <td>0</td>\n",
       "      <td>LexisNexis withdrew two products from Chinese ...</td>\n",
       "      <td>LONDON (Reuters) - LexisNexis, a provider of l...</td>\n",
       "      <td>August 22, 2017</td>\n",
       "      <td>125</td>\n",
       "    </tr>\n",
       "    <tr>\n",
       "      <th>44895</th>\n",
       "      <td>0</td>\n",
       "      <td>Minsk cultural hub becomes haven from authorities</td>\n",
       "      <td>MINSK (Reuters) - In the shadow of disused Sov...</td>\n",
       "      <td>August 22, 2017</td>\n",
       "      <td>320</td>\n",
       "    </tr>\n",
       "    <tr>\n",
       "      <th>44896</th>\n",
       "      <td>0</td>\n",
       "      <td>Vatican upbeat on possibility of Pope Francis ...</td>\n",
       "      <td>MOSCOW (Reuters) - Vatican Secretary of State ...</td>\n",
       "      <td>August 22, 2017</td>\n",
       "      <td>205</td>\n",
       "    </tr>\n",
       "    <tr>\n",
       "      <th>44897</th>\n",
       "      <td>0</td>\n",
       "      <td>Indonesia to buy $1.14 billion worth of Russia...</td>\n",
       "      <td>JAKARTA (Reuters) - Indonesia will buy 11 Sukh...</td>\n",
       "      <td>August 22, 2017</td>\n",
       "      <td>210</td>\n",
       "    </tr>\n",
       "  </tbody>\n",
       "</table>\n",
       "<p>44898 rows × 5 columns</p>\n",
       "</div>"
      ],
      "text/plain": [
       "      Fake                                              title  \\\n",
       "0        1   Donald Trump Sends Out Embarrassing New Year’...   \n",
       "1        1   Drunk Bragging Trump Staffer Started Russian ...   \n",
       "2        1   Sheriff David Clarke Becomes An Internet Joke...   \n",
       "3        1   Trump Is So Obsessed He Even Has Obama’s Name...   \n",
       "4        1   Pope Francis Just Called Out Donald Trump Dur...   \n",
       "...    ...                                                ...   \n",
       "44893    0  'Fully committed' NATO backs new U.S. approach...   \n",
       "44894    0  LexisNexis withdrew two products from Chinese ...   \n",
       "44895    0  Minsk cultural hub becomes haven from authorities   \n",
       "44896    0  Vatican upbeat on possibility of Pope Francis ...   \n",
       "44897    0  Indonesia to buy $1.14 billion worth of Russia...   \n",
       "\n",
       "                                                    text               date  \\\n",
       "0      Donald Trump just couldn t wish all Americans ...  December 31, 2017   \n",
       "1      House Intelligence Committee Chairman Devin Nu...  December 31, 2017   \n",
       "2      On Friday, it was revealed that former Milwauk...  December 30, 2017   \n",
       "3      On Christmas day, Donald Trump announced that ...  December 29, 2017   \n",
       "4      Pope Francis used his annual Christmas Day mes...  December 25, 2017   \n",
       "...                                                  ...                ...   \n",
       "44893  BRUSSELS (Reuters) - NATO allies on Tuesday we...   August 22, 2017    \n",
       "44894  LONDON (Reuters) - LexisNexis, a provider of l...   August 22, 2017    \n",
       "44895  MINSK (Reuters) - In the shadow of disused Sov...   August 22, 2017    \n",
       "44896  MOSCOW (Reuters) - Vatican Secretary of State ...   August 22, 2017    \n",
       "44897  JAKARTA (Reuters) - Indonesia will buy 11 Sukh...   August 22, 2017    \n",
       "\n",
       "       word_count  \n",
       "0             495  \n",
       "1             305  \n",
       "2             580  \n",
       "3             444  \n",
       "4             420  \n",
       "...           ...  \n",
       "44893         466  \n",
       "44894         125  \n",
       "44895         320  \n",
       "44896         205  \n",
       "44897         210  \n",
       "\n",
       "[44898 rows x 5 columns]"
      ]
     },
     "execution_count": 387,
     "metadata": {},
     "output_type": "execute_result"
    }
   ],
   "source": [
    "Fake_News_Data"
   ]
  },
  {
   "cell_type": "code",
   "execution_count": 388,
   "metadata": {},
   "outputs": [
    {
     "data": {
      "text/plain": [
       "Fake\n",
       "0    385.640099\n",
       "1    423.197905\n",
       "Name: word_count, dtype: float64"
      ]
     },
     "execution_count": 388,
     "metadata": {},
     "output_type": "execute_result"
    }
   ],
   "source": [
    "Fake_News_Data.groupby('Fake')['word_count'].mean()"
   ]
  },
  {
   "cell_type": "markdown",
   "metadata": {},
   "source": []
  },
  {
   "cell_type": "code",
   "execution_count": 389,
   "metadata": {},
   "outputs": [],
   "source": [
    "def limpiar_tokenizar(texto):\n",
    "\n",
    "    import re\n",
    "    \n",
    "    '''\n",
    "    Esta función limpia y tokeniza el texto en palabras individuales.\n",
    "    El orden en el que se va limpiando el texto no es arbitrario.\n",
    "    El listado de signos de puntuación se ha obtenido de: print(string.punctuation)\n",
    "    y re.escape(string.punctuation)\n",
    "    '''\n",
    "    \n",
    "    # Se convierte todo el texto a minúsculas\n",
    "\n",
    "    nuevo_texto = texto.lower()\n",
    "    \n",
    "    # Eliminación de páginas web (palabras que empiezan por \"http\")\n",
    "    \n",
    "    nuevo_texto = re.sub('http\\S+', ' ', nuevo_texto)\n",
    "    \n",
    "    # Eliminación de signos de puntuación\n",
    "    \n",
    "    regex = '[\\\\!\\\\\"\\\\#\\\\$\\\\%\\\\&\\\\\\'\\\\(\\\\)\\\\*\\\\+\\\\,\\\\-\\\\.\\\\/\\\\:\\\\;\\\\<\\\\=\\\\>\\\\?\\\\@\\\\[\\\\\\\\\\\\]\\\\^_\\\\`\\\\{\\\\|\\\\}\\\\~]'\n",
    "    \n",
    "    nuevo_texto = re.sub(regex , ' ', nuevo_texto)\n",
    "    \n",
    "    # Eliminación de números\n",
    "    \n",
    "    nuevo_texto = re.sub(\"\\d+\", ' ', nuevo_texto)\n",
    "    \n",
    "    # Eliminación de espacios en blanco múltiples\n",
    "    \n",
    "    nuevo_texto = re.sub(\"\\\\s+\", ' ', nuevo_texto)\n",
    "    \n",
    "    # Tokenización por palabras individuales\n",
    "    \n",
    "    nuevo_texto = nuevo_texto.split(sep = ' ')\n",
    "    \n",
    "    # Eliminación de tokens con una longitud <= 1\n",
    "    \n",
    "    nuevo_texto = [token for token in nuevo_texto if len(token) >=  2]\n",
    "    \n",
    "    return(nuevo_texto)"
   ]
  },
  {
   "cell_type": "code",
   "execution_count": 390,
   "metadata": {},
   "outputs": [
    {
     "name": "stdout",
     "output_type": "stream",
     "text": [
      "['esto', 'es', 'ejemplo', 'de', 'limpieza', 'de', 'texto', 'cienciadedatos', 'textmining']\n"
     ]
    }
   ],
   "source": [
    "\n",
    "test = \"Esto es 1 ejemplo de l'limpieza de6 TEXTO  https://t.co/rnHPgyhx4Z @cienciadedatos #textmining\"\n",
    "\n",
    "print(limpiar_tokenizar(texto=test))"
   ]
  },
  {
   "cell_type": "code",
   "execution_count": 391,
   "metadata": {},
   "outputs": [
    {
     "data": {
      "text/plain": [
       "'Donald Trump just couldn t wish all Americans a Happy New Year and leave it at that. Instead, he had to give a shout out to his enemies, haters and  the very dishonest fake news media.  The former reality show star had just one job to do and he couldn t do it. As our Country rapidly grows stronger and smarter, I want to wish all of my friends, supporters, enemies, haters, and even the very dishonest Fake News Media, a Happy and Healthy New Year,  President Angry Pants tweeted.  2018 will be a great year for America! As our Country rapidly grows stronger and smarter, I want to wish all of my friends, supporters, enemies, haters, and even the very dishonest Fake News Media, a Happy and Healthy New Year. 2018 will be a great year for America!  Donald J. Trump (@realDonaldTrump) December 31, 2017Trump s tweet went down about as welll as you d expect.What kind of president sends a New Year s greeting like this despicable, petty, infantile gibberish? Only Trump! His lack of decency won t even allow him to rise above the gutter long enough to wish the American citizens a happy new year!  Bishop Talbert Swan (@TalbertSwan) December 31, 2017no one likes you  Calvin (@calvinstowell) December 31, 2017Your impeachment would make 2018 a great year for America, but I ll also accept regaining control of Congress.  Miranda Yaver (@mirandayaver) December 31, 2017Do you hear yourself talk? When you have to include that many people that hate you you have to wonder? Why do the they all hate me?  Alan Sandoval (@AlanSandoval13) December 31, 2017Who uses the word Haters in a New Years wish??  Marlene (@marlene399) December 31, 2017You can t just say happy new year?  Koren pollitt (@Korencarpenter) December 31, 2017Here s Trump s New Year s Eve tweet from 2016.Happy New Year to all, including to my many enemies and those who have fought me and lost so badly they just don t know what to do. Love!  Donald J. Trump (@realDonaldTrump) December 31, 2016This is nothing new for Trump. He s been doing this for years.Trump has directed messages to his  enemies  and  haters  for New Year s, Easter, Thanksgiving, and the anniversary of 9/11. pic.twitter.com/4FPAe2KypA  Daniel Dale (@ddale8) December 31, 2017Trump s holiday tweets are clearly not presidential.How long did he work at Hallmark before becoming President?  Steven Goodine (@SGoodine) December 31, 2017He s always been like this . . . the only difference is that in the last few years, his filter has been breaking down.  Roy Schulze (@thbthttt) December 31, 2017Who, apart from a teenager uses the term haters?  Wendy (@WendyWhistles) December 31, 2017he s a fucking 5 year old  Who Knows (@rainyday80) December 31, 2017So, to all the people who voted for this a hole thinking he would change once he got into power, you were wrong! 70-year-old men don t change and now he s a year older.Photo by Andrew Burton/Getty Images.'"
      ]
     },
     "execution_count": 391,
     "metadata": {},
     "output_type": "execute_result"
    }
   ],
   "source": [
    "Fake_News_Data['text'][0]"
   ]
  },
  {
   "cell_type": "code",
   "execution_count": 392,
   "metadata": {},
   "outputs": [
    {
     "name": "stdout",
     "output_type": "stream",
     "text": [
      "['donald', 'trump', 'just', 'couldn', 'wish', 'all', 'americans', 'happy', 'new', 'year', 'and', 'leave', 'it', 'at', 'that', 'instead', 'he', 'had', 'to', 'give', 'shout', 'out', 'to', 'his', 'enemies', 'haters', 'and', 'the', 'very', 'dishonest', 'fake', 'news', 'media', 'the', 'former', 'reality', 'show', 'star', 'had', 'just', 'one', 'job', 'to', 'do', 'and', 'he', 'couldn', 'do', 'it', 'as', 'our', 'country', 'rapidly', 'grows', 'stronger', 'and', 'smarter', 'want', 'to', 'wish', 'all', 'of', 'my', 'friends', 'supporters', 'enemies', 'haters', 'and', 'even', 'the', 'very', 'dishonest', 'fake', 'news', 'media', 'happy', 'and', 'healthy', 'new', 'year', 'president', 'angry', 'pants', 'tweeted', 'will', 'be', 'great', 'year', 'for', 'america', 'as', 'our', 'country', 'rapidly', 'grows', 'stronger', 'and', 'smarter', 'want', 'to', 'wish', 'all', 'of', 'my', 'friends', 'supporters', 'enemies', 'haters', 'and', 'even', 'the', 'very', 'dishonest', 'fake', 'news', 'media', 'happy', 'and', 'healthy', 'new', 'year', 'will', 'be', 'great', 'year', 'for', 'america', 'donald', 'trump', 'realdonaldtrump', 'december', 'trump', 'tweet', 'went', 'down', 'about', 'as', 'welll', 'as', 'you', 'expect', 'what', 'kind', 'of', 'president', 'sends', 'new', 'year', 'greeting', 'like', 'this', 'despicable', 'petty', 'infantile', 'gibberish', 'only', 'trump', 'his', 'lack', 'of', 'decency', 'won', 'even', 'allow', 'him', 'to', 'rise', 'above', 'the', 'gutter', 'long', 'enough', 'to', 'wish', 'the', 'american', 'citizens', 'happy', 'new', 'year', 'bishop', 'talbert', 'swan', 'talbertswan', 'december', 'no', 'one', 'likes', 'you', 'calvin', 'calvinstowell', 'december', 'your', 'impeachment', 'would', 'make', 'great', 'year', 'for', 'america', 'but', 'll', 'also', 'accept', 'regaining', 'control', 'of', 'congress', 'miranda', 'yaver', 'mirandayaver', 'december', 'do', 'you', 'hear', 'yourself', 'talk', 'when', 'you', 'have', 'to', 'include', 'that', 'many', 'people', 'that', 'hate', 'you', 'you', 'have', 'to', 'wonder', 'why', 'do', 'the', 'they', 'all', 'hate', 'me', 'alan', 'sandoval', 'alansandoval', 'december', 'who', 'uses', 'the', 'word', 'haters', 'in', 'new', 'years', 'wish', 'marlene', 'marlene', 'december', 'you', 'can', 'just', 'say', 'happy', 'new', 'year', 'koren', 'pollitt', 'korencarpenter', 'december', 'here', 'trump', 'new', 'year', 'eve', 'tweet', 'from', 'happy', 'new', 'year', 'to', 'all', 'including', 'to', 'my', 'many', 'enemies', 'and', 'those', 'who', 'have', 'fought', 'me', 'and', 'lost', 'so', 'badly', 'they', 'just', 'don', 'know', 'what', 'to', 'do', 'love', 'donald', 'trump', 'realdonaldtrump', 'december', 'this', 'is', 'nothing', 'new', 'for', 'trump', 'he', 'been', 'doing', 'this', 'for', 'years', 'trump', 'has', 'directed', 'messages', 'to', 'his', 'enemies', 'and', 'haters', 'for', 'new', 'year', 'easter', 'thanksgiving', 'and', 'the', 'anniversary', 'of', 'pic', 'twitter', 'com', 'fpae', 'kypa', 'daniel', 'dale', 'ddale', 'december', 'trump', 'holiday', 'tweets', 'are', 'clearly', 'not', 'presidential', 'how', 'long', 'did', 'he', 'work', 'at', 'hallmark', 'before', 'becoming', 'president', 'steven', 'goodine', 'sgoodine', 'december', 'he', 'always', 'been', 'like', 'this', 'the', 'only', 'difference', 'is', 'that', 'in', 'the', 'last', 'few', 'years', 'his', 'filter', 'has', 'been', 'breaking', 'down', 'roy', 'schulze', 'thbthttt', 'december', 'who', 'apart', 'from', 'teenager', 'uses', 'the', 'term', 'haters', 'wendy', 'wendywhistles', 'december', 'he', 'fucking', 'year', 'old', 'who', 'knows', 'rainyday', 'december', 'so', 'to', 'all', 'the', 'people', 'who', 'voted', 'for', 'this', 'hole', 'thinking', 'he', 'would', 'change', 'once', 'he', 'got', 'into', 'power', 'you', 'were', 'wrong', 'year', 'old', 'men', 'don', 'change', 'and', 'now', 'he', 'year', 'older', 'photo', 'by', 'andrew', 'burton', 'getty', 'images']\n"
     ]
    }
   ],
   "source": [
    "print(limpiar_tokenizar(texto=Fake_News_Data['text'][0]))"
   ]
  },
  {
   "cell_type": "code",
   "execution_count": 393,
   "metadata": {},
   "outputs": [],
   "source": [
    "Fake_News_Data['text_tokenizado'] = Fake_News_Data['text'].apply( limpiar_tokenizar )"
   ]
  },
  {
   "cell_type": "code",
   "execution_count": 394,
   "metadata": {},
   "outputs": [],
   "source": [
    "Fake_News_Data['id_text'] = range(0, len(Fake_News_Data))"
   ]
  },
  {
   "cell_type": "code",
   "execution_count": 395,
   "metadata": {},
   "outputs": [
    {
     "data": {
      "text/html": [
       "<div>\n",
       "<style scoped>\n",
       "    .dataframe tbody tr th:only-of-type {\n",
       "        vertical-align: middle;\n",
       "    }\n",
       "\n",
       "    .dataframe tbody tr th {\n",
       "        vertical-align: top;\n",
       "    }\n",
       "\n",
       "    .dataframe thead th {\n",
       "        text-align: right;\n",
       "    }\n",
       "</style>\n",
       "<table border=\"1\" class=\"dataframe\">\n",
       "  <thead>\n",
       "    <tr style=\"text-align: right;\">\n",
       "      <th></th>\n",
       "      <th>Fake</th>\n",
       "      <th>title</th>\n",
       "      <th>text</th>\n",
       "      <th>date</th>\n",
       "      <th>word_count</th>\n",
       "      <th>text_tokenizado</th>\n",
       "      <th>id_text</th>\n",
       "    </tr>\n",
       "  </thead>\n",
       "  <tbody>\n",
       "    <tr>\n",
       "      <th>0</th>\n",
       "      <td>1</td>\n",
       "      <td>Donald Trump Sends Out Embarrassing New Year’...</td>\n",
       "      <td>Donald Trump just couldn t wish all Americans ...</td>\n",
       "      <td>December 31, 2017</td>\n",
       "      <td>495</td>\n",
       "      <td>[donald, trump, just, couldn, wish, all, ameri...</td>\n",
       "      <td>0</td>\n",
       "    </tr>\n",
       "    <tr>\n",
       "      <th>1</th>\n",
       "      <td>1</td>\n",
       "      <td>Drunk Bragging Trump Staffer Started Russian ...</td>\n",
       "      <td>House Intelligence Committee Chairman Devin Nu...</td>\n",
       "      <td>December 31, 2017</td>\n",
       "      <td>305</td>\n",
       "      <td>[house, intelligence, committee, chairman, dev...</td>\n",
       "      <td>1</td>\n",
       "    </tr>\n",
       "    <tr>\n",
       "      <th>2</th>\n",
       "      <td>1</td>\n",
       "      <td>Sheriff David Clarke Becomes An Internet Joke...</td>\n",
       "      <td>On Friday, it was revealed that former Milwauk...</td>\n",
       "      <td>December 30, 2017</td>\n",
       "      <td>580</td>\n",
       "      <td>[on, friday, it, was, revealed, that, former, ...</td>\n",
       "      <td>2</td>\n",
       "    </tr>\n",
       "    <tr>\n",
       "      <th>3</th>\n",
       "      <td>1</td>\n",
       "      <td>Trump Is So Obsessed He Even Has Obama’s Name...</td>\n",
       "      <td>On Christmas day, Donald Trump announced that ...</td>\n",
       "      <td>December 29, 2017</td>\n",
       "      <td>444</td>\n",
       "      <td>[on, christmas, day, donald, trump, announced,...</td>\n",
       "      <td>3</td>\n",
       "    </tr>\n",
       "    <tr>\n",
       "      <th>4</th>\n",
       "      <td>1</td>\n",
       "      <td>Pope Francis Just Called Out Donald Trump Dur...</td>\n",
       "      <td>Pope Francis used his annual Christmas Day mes...</td>\n",
       "      <td>December 25, 2017</td>\n",
       "      <td>420</td>\n",
       "      <td>[pope, francis, used, his, annual, christmas, ...</td>\n",
       "      <td>4</td>\n",
       "    </tr>\n",
       "    <tr>\n",
       "      <th>...</th>\n",
       "      <td>...</td>\n",
       "      <td>...</td>\n",
       "      <td>...</td>\n",
       "      <td>...</td>\n",
       "      <td>...</td>\n",
       "      <td>...</td>\n",
       "      <td>...</td>\n",
       "    </tr>\n",
       "    <tr>\n",
       "      <th>44893</th>\n",
       "      <td>0</td>\n",
       "      <td>'Fully committed' NATO backs new U.S. approach...</td>\n",
       "      <td>BRUSSELS (Reuters) - NATO allies on Tuesday we...</td>\n",
       "      <td>August 22, 2017</td>\n",
       "      <td>466</td>\n",
       "      <td>[brussels, reuters, nato, allies, on, tuesday,...</td>\n",
       "      <td>44893</td>\n",
       "    </tr>\n",
       "    <tr>\n",
       "      <th>44894</th>\n",
       "      <td>0</td>\n",
       "      <td>LexisNexis withdrew two products from Chinese ...</td>\n",
       "      <td>LONDON (Reuters) - LexisNexis, a provider of l...</td>\n",
       "      <td>August 22, 2017</td>\n",
       "      <td>125</td>\n",
       "      <td>[london, reuters, lexisnexis, provider, of, le...</td>\n",
       "      <td>44894</td>\n",
       "    </tr>\n",
       "    <tr>\n",
       "      <th>44895</th>\n",
       "      <td>0</td>\n",
       "      <td>Minsk cultural hub becomes haven from authorities</td>\n",
       "      <td>MINSK (Reuters) - In the shadow of disused Sov...</td>\n",
       "      <td>August 22, 2017</td>\n",
       "      <td>320</td>\n",
       "      <td>[minsk, reuters, in, the, shadow, of, disused,...</td>\n",
       "      <td>44895</td>\n",
       "    </tr>\n",
       "    <tr>\n",
       "      <th>44896</th>\n",
       "      <td>0</td>\n",
       "      <td>Vatican upbeat on possibility of Pope Francis ...</td>\n",
       "      <td>MOSCOW (Reuters) - Vatican Secretary of State ...</td>\n",
       "      <td>August 22, 2017</td>\n",
       "      <td>205</td>\n",
       "      <td>[moscow, reuters, vatican, secretary, of, stat...</td>\n",
       "      <td>44896</td>\n",
       "    </tr>\n",
       "    <tr>\n",
       "      <th>44897</th>\n",
       "      <td>0</td>\n",
       "      <td>Indonesia to buy $1.14 billion worth of Russia...</td>\n",
       "      <td>JAKARTA (Reuters) - Indonesia will buy 11 Sukh...</td>\n",
       "      <td>August 22, 2017</td>\n",
       "      <td>210</td>\n",
       "      <td>[jakarta, reuters, indonesia, will, buy, sukho...</td>\n",
       "      <td>44897</td>\n",
       "    </tr>\n",
       "  </tbody>\n",
       "</table>\n",
       "<p>44898 rows × 7 columns</p>\n",
       "</div>"
      ],
      "text/plain": [
       "      Fake                                              title  \\\n",
       "0        1   Donald Trump Sends Out Embarrassing New Year’...   \n",
       "1        1   Drunk Bragging Trump Staffer Started Russian ...   \n",
       "2        1   Sheriff David Clarke Becomes An Internet Joke...   \n",
       "3        1   Trump Is So Obsessed He Even Has Obama’s Name...   \n",
       "4        1   Pope Francis Just Called Out Donald Trump Dur...   \n",
       "...    ...                                                ...   \n",
       "44893    0  'Fully committed' NATO backs new U.S. approach...   \n",
       "44894    0  LexisNexis withdrew two products from Chinese ...   \n",
       "44895    0  Minsk cultural hub becomes haven from authorities   \n",
       "44896    0  Vatican upbeat on possibility of Pope Francis ...   \n",
       "44897    0  Indonesia to buy $1.14 billion worth of Russia...   \n",
       "\n",
       "                                                    text               date  \\\n",
       "0      Donald Trump just couldn t wish all Americans ...  December 31, 2017   \n",
       "1      House Intelligence Committee Chairman Devin Nu...  December 31, 2017   \n",
       "2      On Friday, it was revealed that former Milwauk...  December 30, 2017   \n",
       "3      On Christmas day, Donald Trump announced that ...  December 29, 2017   \n",
       "4      Pope Francis used his annual Christmas Day mes...  December 25, 2017   \n",
       "...                                                  ...                ...   \n",
       "44893  BRUSSELS (Reuters) - NATO allies on Tuesday we...   August 22, 2017    \n",
       "44894  LONDON (Reuters) - LexisNexis, a provider of l...   August 22, 2017    \n",
       "44895  MINSK (Reuters) - In the shadow of disused Sov...   August 22, 2017    \n",
       "44896  MOSCOW (Reuters) - Vatican Secretary of State ...   August 22, 2017    \n",
       "44897  JAKARTA (Reuters) - Indonesia will buy 11 Sukh...   August 22, 2017    \n",
       "\n",
       "       word_count                                    text_tokenizado  id_text  \n",
       "0             495  [donald, trump, just, couldn, wish, all, ameri...        0  \n",
       "1             305  [house, intelligence, committee, chairman, dev...        1  \n",
       "2             580  [on, friday, it, was, revealed, that, former, ...        2  \n",
       "3             444  [on, christmas, day, donald, trump, announced,...        3  \n",
       "4             420  [pope, francis, used, his, annual, christmas, ...        4  \n",
       "...           ...                                                ...      ...  \n",
       "44893         466  [brussels, reuters, nato, allies, on, tuesday,...    44893  \n",
       "44894         125  [london, reuters, lexisnexis, provider, of, le...    44894  \n",
       "44895         320  [minsk, reuters, in, the, shadow, of, disused,...    44895  \n",
       "44896         205  [moscow, reuters, vatican, secretary, of, stat...    44896  \n",
       "44897         210  [jakarta, reuters, indonesia, will, buy, sukho...    44897  \n",
       "\n",
       "[44898 rows x 7 columns]"
      ]
     },
     "execution_count": 395,
     "metadata": {},
     "output_type": "execute_result"
    }
   ],
   "source": [
    "Fake_News_Data"
   ]
  },
  {
   "cell_type": "code",
   "execution_count": 396,
   "metadata": {},
   "outputs": [],
   "source": [
    "Fake_News_Tokens = Fake_News_Data.loc[:, ['id_text', 'text_tokenizado', 'Fake'] ].explode(column='text_tokenizado')\n",
    "\n",
    "Fake_News_Tokens = Fake_News_Tokens.rename(columns={'text_tokenizado':'token'})"
   ]
  },
  {
   "cell_type": "code",
   "execution_count": 397,
   "metadata": {},
   "outputs": [
    {
     "data": {
      "text/html": [
       "<div>\n",
       "<style scoped>\n",
       "    .dataframe tbody tr th:only-of-type {\n",
       "        vertical-align: middle;\n",
       "    }\n",
       "\n",
       "    .dataframe tbody tr th {\n",
       "        vertical-align: top;\n",
       "    }\n",
       "\n",
       "    .dataframe thead th {\n",
       "        text-align: right;\n",
       "    }\n",
       "</style>\n",
       "<table border=\"1\" class=\"dataframe\">\n",
       "  <thead>\n",
       "    <tr style=\"text-align: right;\">\n",
       "      <th></th>\n",
       "      <th>id_text</th>\n",
       "      <th>token</th>\n",
       "      <th>Fake</th>\n",
       "    </tr>\n",
       "  </thead>\n",
       "  <tbody>\n",
       "    <tr>\n",
       "      <th>0</th>\n",
       "      <td>0</td>\n",
       "      <td>donald</td>\n",
       "      <td>1</td>\n",
       "    </tr>\n",
       "    <tr>\n",
       "      <th>0</th>\n",
       "      <td>0</td>\n",
       "      <td>trump</td>\n",
       "      <td>1</td>\n",
       "    </tr>\n",
       "    <tr>\n",
       "      <th>0</th>\n",
       "      <td>0</td>\n",
       "      <td>just</td>\n",
       "      <td>1</td>\n",
       "    </tr>\n",
       "    <tr>\n",
       "      <th>0</th>\n",
       "      <td>0</td>\n",
       "      <td>couldn</td>\n",
       "      <td>1</td>\n",
       "    </tr>\n",
       "    <tr>\n",
       "      <th>0</th>\n",
       "      <td>0</td>\n",
       "      <td>wish</td>\n",
       "      <td>1</td>\n",
       "    </tr>\n",
       "    <tr>\n",
       "      <th>...</th>\n",
       "      <td>...</td>\n",
       "      <td>...</td>\n",
       "      <td>...</td>\n",
       "    </tr>\n",
       "    <tr>\n",
       "      <th>44897</th>\n",
       "      <td>44897</td>\n",
       "      <td>technology</td>\n",
       "      <td>0</td>\n",
       "    </tr>\n",
       "    <tr>\n",
       "      <th>44897</th>\n",
       "      <td>44897</td>\n",
       "      <td>and</td>\n",
       "      <td>0</td>\n",
       "    </tr>\n",
       "    <tr>\n",
       "      <th>44897</th>\n",
       "      <td>44897</td>\n",
       "      <td>aviation</td>\n",
       "      <td>0</td>\n",
       "    </tr>\n",
       "    <tr>\n",
       "      <th>44897</th>\n",
       "      <td>44897</td>\n",
       "      <td>among</td>\n",
       "      <td>0</td>\n",
       "    </tr>\n",
       "    <tr>\n",
       "      <th>44897</th>\n",
       "      <td>44897</td>\n",
       "      <td>others</td>\n",
       "      <td>0</td>\n",
       "    </tr>\n",
       "  </tbody>\n",
       "</table>\n",
       "<p>17503760 rows × 3 columns</p>\n",
       "</div>"
      ],
      "text/plain": [
       "       id_text       token Fake\n",
       "0            0      donald    1\n",
       "0            0       trump    1\n",
       "0            0        just    1\n",
       "0            0      couldn    1\n",
       "0            0        wish    1\n",
       "...        ...         ...  ...\n",
       "44897    44897  technology    0\n",
       "44897    44897         and    0\n",
       "44897    44897    aviation    0\n",
       "44897    44897       among    0\n",
       "44897    44897      others    0\n",
       "\n",
       "[17503760 rows x 3 columns]"
      ]
     },
     "execution_count": 397,
     "metadata": {},
     "output_type": "execute_result"
    }
   ],
   "source": [
    "Fake_News_Tokens"
   ]
  },
  {
   "cell_type": "code",
   "execution_count": 398,
   "metadata": {},
   "outputs": [
    {
     "data": {
      "text/plain": [
       "Fake\n",
       "0    7891501\n",
       "1    9611544\n",
       "Name: token, dtype: int64"
      ]
     },
     "execution_count": 398,
     "metadata": {},
     "output_type": "execute_result"
    }
   ],
   "source": [
    "# nº de palabras (tokens) en el conjunto de textos clasificados como fake y en los no fake\n",
    "\n",
    "Fake_News_Tokens.groupby(by='Fake')['token'].count()"
   ]
  },
  {
   "cell_type": "code",
   "execution_count": 399,
   "metadata": {},
   "outputs": [
    {
     "data": {
      "text/plain": [
       "Fake\n",
       "0    78020\n",
       "1    85642\n",
       "Name: token, dtype: int64"
      ]
     },
     "execution_count": 399,
     "metadata": {},
     "output_type": "execute_result"
    }
   ],
   "source": [
    "# nº de palabras (tokens) unicas en el conjunto de textos clasificados como fake y en los no fake\n",
    "\n",
    "Fake_News_Tokens.groupby(by='Fake')['token'].nunique()"
   ]
  },
  {
   "cell_type": "code",
   "execution_count": 400,
   "metadata": {},
   "outputs": [],
   "source": [
    "# nº de palabras (tokens) en cada texto individual clasificados como fake y en los no fake\n",
    "\n",
    "df1 = pd.DataFrame( Fake_News_Tokens.groupby(by = [\"id_text\" , \"Fake\"] )[\"token\"].count().rename('nº_tokens') )"
   ]
  },
  {
   "cell_type": "code",
   "execution_count": 401,
   "metadata": {},
   "outputs": [
    {
     "data": {
      "text/html": [
       "<div>\n",
       "<style scoped>\n",
       "    .dataframe tbody tr th:only-of-type {\n",
       "        vertical-align: middle;\n",
       "    }\n",
       "\n",
       "    .dataframe tbody tr th {\n",
       "        vertical-align: top;\n",
       "    }\n",
       "\n",
       "    .dataframe thead th {\n",
       "        text-align: right;\n",
       "    }\n",
       "</style>\n",
       "<table border=\"1\" class=\"dataframe\">\n",
       "  <thead>\n",
       "    <tr style=\"text-align: right;\">\n",
       "      <th></th>\n",
       "      <th></th>\n",
       "      <th>nº_tokens</th>\n",
       "    </tr>\n",
       "    <tr>\n",
       "      <th>id_text</th>\n",
       "      <th>Fake</th>\n",
       "      <th></th>\n",
       "    </tr>\n",
       "  </thead>\n",
       "  <tbody>\n",
       "    <tr>\n",
       "      <th>0</th>\n",
       "      <th>1</th>\n",
       "      <td>447</td>\n",
       "    </tr>\n",
       "    <tr>\n",
       "      <th>1</th>\n",
       "      <th>1</th>\n",
       "      <td>294</td>\n",
       "    </tr>\n",
       "    <tr>\n",
       "      <th>2</th>\n",
       "      <th>1</th>\n",
       "      <td>563</td>\n",
       "    </tr>\n",
       "    <tr>\n",
       "      <th>3</th>\n",
       "      <th>1</th>\n",
       "      <td>426</td>\n",
       "    </tr>\n",
       "    <tr>\n",
       "      <th>4</th>\n",
       "      <th>1</th>\n",
       "      <td>415</td>\n",
       "    </tr>\n",
       "    <tr>\n",
       "      <th>...</th>\n",
       "      <th>...</th>\n",
       "      <td>...</td>\n",
       "    </tr>\n",
       "    <tr>\n",
       "      <th>44893</th>\n",
       "      <th>0</th>\n",
       "      <td>433</td>\n",
       "    </tr>\n",
       "    <tr>\n",
       "      <th>44894</th>\n",
       "      <th>0</th>\n",
       "      <td>120</td>\n",
       "    </tr>\n",
       "    <tr>\n",
       "      <th>44895</th>\n",
       "      <th>0</th>\n",
       "      <td>307</td>\n",
       "    </tr>\n",
       "    <tr>\n",
       "      <th>44896</th>\n",
       "      <th>0</th>\n",
       "      <td>196</td>\n",
       "    </tr>\n",
       "    <tr>\n",
       "      <th>44897</th>\n",
       "      <th>0</th>\n",
       "      <td>197</td>\n",
       "    </tr>\n",
       "  </tbody>\n",
       "</table>\n",
       "<p>44898 rows × 1 columns</p>\n",
       "</div>"
      ],
      "text/plain": [
       "              nº_tokens\n",
       "id_text Fake           \n",
       "0       1           447\n",
       "1       1           294\n",
       "2       1           563\n",
       "3       1           426\n",
       "4       1           415\n",
       "...                 ...\n",
       "44893   0           433\n",
       "44894   0           120\n",
       "44895   0           307\n",
       "44896   0           196\n",
       "44897   0           197\n",
       "\n",
       "[44898 rows x 1 columns]"
      ]
     },
     "execution_count": 401,
     "metadata": {},
     "output_type": "execute_result"
    }
   ],
   "source": [
    "df1"
   ]
  },
  {
   "cell_type": "code",
   "execution_count": 402,
   "metadata": {},
   "outputs": [],
   "source": [
    "df2 = df1.loc[df1['nº_tokens'] != 0, :]"
   ]
  },
  {
   "cell_type": "code",
   "execution_count": 403,
   "metadata": {},
   "outputs": [
    {
     "data": {
      "text/html": [
       "<div>\n",
       "<style scoped>\n",
       "    .dataframe tbody tr th:only-of-type {\n",
       "        vertical-align: middle;\n",
       "    }\n",
       "\n",
       "    .dataframe tbody tr th {\n",
       "        vertical-align: top;\n",
       "    }\n",
       "\n",
       "    .dataframe thead th {\n",
       "        text-align: right;\n",
       "    }\n",
       "</style>\n",
       "<table border=\"1\" class=\"dataframe\">\n",
       "  <thead>\n",
       "    <tr style=\"text-align: right;\">\n",
       "      <th></th>\n",
       "      <th></th>\n",
       "      <th>nº_tokens</th>\n",
       "    </tr>\n",
       "    <tr>\n",
       "      <th>id_text</th>\n",
       "      <th>Fake</th>\n",
       "      <th></th>\n",
       "    </tr>\n",
       "  </thead>\n",
       "  <tbody>\n",
       "    <tr>\n",
       "      <th>0</th>\n",
       "      <th>1</th>\n",
       "      <td>447</td>\n",
       "    </tr>\n",
       "    <tr>\n",
       "      <th>1</th>\n",
       "      <th>1</th>\n",
       "      <td>294</td>\n",
       "    </tr>\n",
       "    <tr>\n",
       "      <th>2</th>\n",
       "      <th>1</th>\n",
       "      <td>563</td>\n",
       "    </tr>\n",
       "    <tr>\n",
       "      <th>3</th>\n",
       "      <th>1</th>\n",
       "      <td>426</td>\n",
       "    </tr>\n",
       "    <tr>\n",
       "      <th>4</th>\n",
       "      <th>1</th>\n",
       "      <td>415</td>\n",
       "    </tr>\n",
       "    <tr>\n",
       "      <th>...</th>\n",
       "      <th>...</th>\n",
       "      <td>...</td>\n",
       "    </tr>\n",
       "    <tr>\n",
       "      <th>44893</th>\n",
       "      <th>0</th>\n",
       "      <td>433</td>\n",
       "    </tr>\n",
       "    <tr>\n",
       "      <th>44894</th>\n",
       "      <th>0</th>\n",
       "      <td>120</td>\n",
       "    </tr>\n",
       "    <tr>\n",
       "      <th>44895</th>\n",
       "      <th>0</th>\n",
       "      <td>307</td>\n",
       "    </tr>\n",
       "    <tr>\n",
       "      <th>44896</th>\n",
       "      <th>0</th>\n",
       "      <td>196</td>\n",
       "    </tr>\n",
       "    <tr>\n",
       "      <th>44897</th>\n",
       "      <th>0</th>\n",
       "      <td>197</td>\n",
       "    </tr>\n",
       "  </tbody>\n",
       "</table>\n",
       "<p>44183 rows × 1 columns</p>\n",
       "</div>"
      ],
      "text/plain": [
       "              nº_tokens\n",
       "id_text Fake           \n",
       "0       1           447\n",
       "1       1           294\n",
       "2       1           563\n",
       "3       1           426\n",
       "4       1           415\n",
       "...                 ...\n",
       "44893   0           433\n",
       "44894   0           120\n",
       "44895   0           307\n",
       "44896   0           196\n",
       "44897   0           197\n",
       "\n",
       "[44183 rows x 1 columns]"
      ]
     },
     "execution_count": 403,
     "metadata": {},
     "output_type": "execute_result"
    }
   ],
   "source": [
    "df2"
   ]
  },
  {
   "cell_type": "code",
   "execution_count": 404,
   "metadata": {},
   "outputs": [
    {
     "data": {
      "text/html": [
       "<div>\n",
       "<style scoped>\n",
       "    .dataframe tbody tr th:only-of-type {\n",
       "        vertical-align: middle;\n",
       "    }\n",
       "\n",
       "    .dataframe tbody tr th {\n",
       "        vertical-align: top;\n",
       "    }\n",
       "\n",
       "    .dataframe thead th {\n",
       "        text-align: right;\n",
       "    }\n",
       "</style>\n",
       "<table border=\"1\" class=\"dataframe\">\n",
       "  <thead>\n",
       "    <tr style=\"text-align: right;\">\n",
       "      <th></th>\n",
       "      <th>mean</th>\n",
       "    </tr>\n",
       "    <tr>\n",
       "      <th>Fake</th>\n",
       "      <th></th>\n",
       "    </tr>\n",
       "  </thead>\n",
       "  <tbody>\n",
       "    <tr>\n",
       "      <th>0</th>\n",
       "      <td>368.486225</td>\n",
       "    </tr>\n",
       "    <tr>\n",
       "      <th>1</th>\n",
       "      <td>422.169983</td>\n",
       "    </tr>\n",
       "  </tbody>\n",
       "</table>\n",
       "</div>"
      ],
      "text/plain": [
       "            mean\n",
       "Fake            \n",
       "0     368.486225\n",
       "1     422.169983"
      ]
     },
     "execution_count": 404,
     "metadata": {},
     "output_type": "execute_result"
    }
   ],
   "source": [
    "df2.groupby(\"Fake\")[\"nº_tokens\"].agg(['mean'])"
   ]
  },
  {
   "cell_type": "markdown",
   "metadata": {},
   "source": [
    "Otra forma de hacer lo anterior (longitud media de las noticias fake y no fake)"
   ]
  },
  {
   "cell_type": "code",
   "execution_count": 405,
   "metadata": {},
   "outputs": [],
   "source": [
    "m0 = ( Fake_News_Tokens.loc[Fake_News_Tokens['Fake']==0].groupby('id_text')['token'].count() ).mean()"
   ]
  },
  {
   "cell_type": "code",
   "execution_count": 406,
   "metadata": {},
   "outputs": [],
   "source": [
    "m1 = ( Fake_News_Tokens.loc[Fake_News_Tokens['Fake']==1].groupby('id_text')['token'].count() ).mean()"
   ]
  },
  {
   "cell_type": "code",
   "execution_count": 407,
   "metadata": {},
   "outputs": [
    {
     "data": {
      "text/html": [
       "<div>\n",
       "<style scoped>\n",
       "    .dataframe tbody tr th:only-of-type {\n",
       "        vertical-align: middle;\n",
       "    }\n",
       "\n",
       "    .dataframe tbody tr th {\n",
       "        vertical-align: top;\n",
       "    }\n",
       "\n",
       "    .dataframe thead th {\n",
       "        text-align: right;\n",
       "    }\n",
       "</style>\n",
       "<table border=\"1\" class=\"dataframe\">\n",
       "  <thead>\n",
       "    <tr style=\"text-align: right;\">\n",
       "      <th></th>\n",
       "      <th>fake_new</th>\n",
       "      <th>tokens_mean</th>\n",
       "    </tr>\n",
       "  </thead>\n",
       "  <tbody>\n",
       "    <tr>\n",
       "      <th>0</th>\n",
       "      <td>0</td>\n",
       "      <td>368.469020</td>\n",
       "    </tr>\n",
       "    <tr>\n",
       "      <th>1</th>\n",
       "      <td>1</td>\n",
       "      <td>409.332822</td>\n",
       "    </tr>\n",
       "  </tbody>\n",
       "</table>\n",
       "</div>"
      ],
      "text/plain": [
       "   fake_new  tokens_mean\n",
       "0         0   368.469020\n",
       "1         1   409.332822"
      ]
     },
     "execution_count": 407,
     "metadata": {},
     "output_type": "execute_result"
    }
   ],
   "source": [
    "pd.DataFrame({'fake_new': [0,1] , 'tokens_mean':[m0 , m1]})"
   ]
  },
  {
   "cell_type": "markdown",
   "metadata": {},
   "source": []
  },
  {
   "cell_type": "code",
   "execution_count": 408,
   "metadata": {},
   "outputs": [],
   "source": [
    "df = pd.DataFrame(  (Fake_News_Tokens.groupby(by = [\"Fake\", \"token\"] )[\"token\"].count().unstack(fill_value=0).stack().reset_index(name='frecuencia_token')))\n",
    "\n",
    "# .unstack(fill_value=0).stack() para que tambien aparezcan los tokens con count = 0 , si no solo aprecerian los que tienen count > 0."
   ]
  },
  {
   "cell_type": "code",
   "execution_count": 409,
   "metadata": {},
   "outputs": [
    {
     "data": {
      "text/html": [
       "<div>\n",
       "<style scoped>\n",
       "    .dataframe tbody tr th:only-of-type {\n",
       "        vertical-align: middle;\n",
       "    }\n",
       "\n",
       "    .dataframe tbody tr th {\n",
       "        vertical-align: top;\n",
       "    }\n",
       "\n",
       "    .dataframe thead th {\n",
       "        text-align: right;\n",
       "    }\n",
       "</style>\n",
       "<table border=\"1\" class=\"dataframe\">\n",
       "  <thead>\n",
       "    <tr style=\"text-align: right;\">\n",
       "      <th></th>\n",
       "      <th>Fake</th>\n",
       "      <th>token</th>\n",
       "      <th>frecuencia_token</th>\n",
       "    </tr>\n",
       "  </thead>\n",
       "  <tbody>\n",
       "    <tr>\n",
       "      <th>0</th>\n",
       "      <td>0</td>\n",
       "      <td>aa</td>\n",
       "      <td>22</td>\n",
       "    </tr>\n",
       "    <tr>\n",
       "      <th>1</th>\n",
       "      <td>0</td>\n",
       "      <td>aaa</td>\n",
       "      <td>7</td>\n",
       "    </tr>\n",
       "    <tr>\n",
       "      <th>2</th>\n",
       "      <td>0</td>\n",
       "      <td>aaaaaaaand</td>\n",
       "      <td>0</td>\n",
       "    </tr>\n",
       "    <tr>\n",
       "      <th>3</th>\n",
       "      <td>0</td>\n",
       "      <td>aaaaackkk</td>\n",
       "      <td>0</td>\n",
       "    </tr>\n",
       "    <tr>\n",
       "      <th>4</th>\n",
       "      <td>0</td>\n",
       "      <td>aaaaapkfhk</td>\n",
       "      <td>0</td>\n",
       "    </tr>\n",
       "    <tr>\n",
       "      <th>...</th>\n",
       "      <td>...</td>\n",
       "      <td>...</td>\n",
       "      <td>...</td>\n",
       "    </tr>\n",
       "    <tr>\n",
       "      <th>251605</th>\n",
       "      <td>1</td>\n",
       "      <td>””it</td>\n",
       "      <td>0</td>\n",
       "    </tr>\n",
       "    <tr>\n",
       "      <th>251606</th>\n",
       "      <td>1</td>\n",
       "      <td>””when</td>\n",
       "      <td>0</td>\n",
       "    </tr>\n",
       "    <tr>\n",
       "      <th>251607</th>\n",
       "      <td>1</td>\n",
       "      <td>•if</td>\n",
       "      <td>0</td>\n",
       "    </tr>\n",
       "    <tr>\n",
       "      <th>251608</th>\n",
       "      <td>1</td>\n",
       "      <td>☑️</td>\n",
       "      <td>0</td>\n",
       "    </tr>\n",
       "    <tr>\n",
       "      <th>251609</th>\n",
       "      <td>1</td>\n",
       "      <td>➡️</td>\n",
       "      <td>0</td>\n",
       "    </tr>\n",
       "  </tbody>\n",
       "</table>\n",
       "<p>251610 rows × 3 columns</p>\n",
       "</div>"
      ],
      "text/plain": [
       "        Fake       token  frecuencia_token\n",
       "0          0          aa                22\n",
       "1          0         aaa                 7\n",
       "2          0  aaaaaaaand                 0\n",
       "3          0   aaaaackkk                 0\n",
       "4          0  aaaaapkfhk                 0\n",
       "...      ...         ...               ...\n",
       "251605     1        ””it                 0\n",
       "251606     1      ””when                 0\n",
       "251607     1         •if                 0\n",
       "251608     1          ☑️                 0\n",
       "251609     1          ➡️                 0\n",
       "\n",
       "[251610 rows x 3 columns]"
      ]
     },
     "execution_count": 409,
     "metadata": {},
     "output_type": "execute_result"
    }
   ],
   "source": [
    "df # Nos da el nº de veces que sale cada token en el conjunto de las noticas fake y por otro lado en el de las no fake (solo salen tokens con count > 0 )"
   ]
  },
  {
   "cell_type": "code",
   "execution_count": 410,
   "metadata": {},
   "outputs": [
    {
     "data": {
      "text/html": [
       "<div>\n",
       "<style scoped>\n",
       "    .dataframe tbody tr th:only-of-type {\n",
       "        vertical-align: middle;\n",
       "    }\n",
       "\n",
       "    .dataframe tbody tr th {\n",
       "        vertical-align: top;\n",
       "    }\n",
       "\n",
       "    .dataframe thead th {\n",
       "        text-align: right;\n",
       "    }\n",
       "</style>\n",
       "<table border=\"1\" class=\"dataframe\">\n",
       "  <thead>\n",
       "    <tr style=\"text-align: right;\">\n",
       "      <th></th>\n",
       "      <th>Fake</th>\n",
       "      <th>token</th>\n",
       "      <th>frecuencia_token</th>\n",
       "    </tr>\n",
       "  </thead>\n",
       "  <tbody>\n",
       "    <tr>\n",
       "      <th>116577</th>\n",
       "      <td>0</td>\n",
       "      <td>yes</td>\n",
       "      <td>336</td>\n",
       "    </tr>\n",
       "    <tr>\n",
       "      <th>242382</th>\n",
       "      <td>1</td>\n",
       "      <td>yes</td>\n",
       "      <td>1775</td>\n",
       "    </tr>\n",
       "  </tbody>\n",
       "</table>\n",
       "</div>"
      ],
      "text/plain": [
       "        Fake token  frecuencia_token\n",
       "116577     0   yes               336\n",
       "242382     1   yes              1775"
      ]
     },
     "execution_count": 410,
     "metadata": {},
     "output_type": "execute_result"
    }
   ],
   "source": [
    "df.loc[df['token']=='yes' , ] # El token 'yes' aprece 1775 veces en el conjunto de las fake news y 336 en el de las no fake news"
   ]
  },
  {
   "cell_type": "code",
   "execution_count": 411,
   "metadata": {},
   "outputs": [
    {
     "data": {
      "text/html": [
       "<div>\n",
       "<style scoped>\n",
       "    .dataframe tbody tr th:only-of-type {\n",
       "        vertical-align: middle;\n",
       "    }\n",
       "\n",
       "    .dataframe tbody tr th {\n",
       "        vertical-align: top;\n",
       "    }\n",
       "\n",
       "    .dataframe thead th {\n",
       "        text-align: right;\n",
       "    }\n",
       "</style>\n",
       "<table border=\"1\" class=\"dataframe\">\n",
       "  <thead>\n",
       "    <tr style=\"text-align: right;\">\n",
       "      <th></th>\n",
       "      <th>Fake</th>\n",
       "      <th>token</th>\n",
       "      <th>frecuencia_token</th>\n",
       "    </tr>\n",
       "  </thead>\n",
       "  <tbody>\n",
       "    <tr>\n",
       "      <th>106608</th>\n",
       "      <td>0</td>\n",
       "      <td>true</td>\n",
       "      <td>412</td>\n",
       "    </tr>\n",
       "    <tr>\n",
       "      <th>232413</th>\n",
       "      <td>1</td>\n",
       "      <td>true</td>\n",
       "      <td>2595</td>\n",
       "    </tr>\n",
       "  </tbody>\n",
       "</table>\n",
       "</div>"
      ],
      "text/plain": [
       "        Fake token  frecuencia_token\n",
       "106608     0  true               412\n",
       "232413     1  true              2595"
      ]
     },
     "execution_count": 411,
     "metadata": {},
     "output_type": "execute_result"
    }
   ],
   "source": [
    "df.loc[df['token']=='true' , ] # El token 'true' aparece 2595 veces en el conjunto de las fake news y 412 en el de las no fake news"
   ]
  },
  {
   "cell_type": "code",
   "execution_count": 412,
   "metadata": {},
   "outputs": [
    {
     "data": {
      "text/html": [
       "<div>\n",
       "<style scoped>\n",
       "    .dataframe tbody tr th:only-of-type {\n",
       "        vertical-align: middle;\n",
       "    }\n",
       "\n",
       "    .dataframe tbody tr th {\n",
       "        vertical-align: top;\n",
       "    }\n",
       "\n",
       "    .dataframe thead th {\n",
       "        text-align: right;\n",
       "    }\n",
       "</style>\n",
       "<table border=\"1\" class=\"dataframe\">\n",
       "  <thead>\n",
       "    <tr style=\"text-align: right;\">\n",
       "      <th></th>\n",
       "      <th>Fake</th>\n",
       "      <th>token</th>\n",
       "      <th>frecuencia_token</th>\n",
       "    </tr>\n",
       "  </thead>\n",
       "  <tbody>\n",
       "    <tr>\n",
       "      <th>0</th>\n",
       "      <td>0</td>\n",
       "      <td>aa</td>\n",
       "      <td>22</td>\n",
       "    </tr>\n",
       "    <tr>\n",
       "      <th>1</th>\n",
       "      <td>0</td>\n",
       "      <td>aaa</td>\n",
       "      <td>7</td>\n",
       "    </tr>\n",
       "    <tr>\n",
       "      <th>2</th>\n",
       "      <td>0</td>\n",
       "      <td>aaaaaaaand</td>\n",
       "      <td>0</td>\n",
       "    </tr>\n",
       "    <tr>\n",
       "      <th>3</th>\n",
       "      <td>0</td>\n",
       "      <td>aaaaackkk</td>\n",
       "      <td>0</td>\n",
       "    </tr>\n",
       "    <tr>\n",
       "      <th>4</th>\n",
       "      <td>0</td>\n",
       "      <td>aaaaapkfhk</td>\n",
       "      <td>0</td>\n",
       "    </tr>\n",
       "    <tr>\n",
       "      <th>...</th>\n",
       "      <td>...</td>\n",
       "      <td>...</td>\n",
       "      <td>...</td>\n",
       "    </tr>\n",
       "    <tr>\n",
       "      <th>125800</th>\n",
       "      <td>0</td>\n",
       "      <td>””it</td>\n",
       "      <td>1</td>\n",
       "    </tr>\n",
       "    <tr>\n",
       "      <th>125801</th>\n",
       "      <td>0</td>\n",
       "      <td>””when</td>\n",
       "      <td>1</td>\n",
       "    </tr>\n",
       "    <tr>\n",
       "      <th>125802</th>\n",
       "      <td>0</td>\n",
       "      <td>•if</td>\n",
       "      <td>3</td>\n",
       "    </tr>\n",
       "    <tr>\n",
       "      <th>125803</th>\n",
       "      <td>0</td>\n",
       "      <td>☑️</td>\n",
       "      <td>3</td>\n",
       "    </tr>\n",
       "    <tr>\n",
       "      <th>125804</th>\n",
       "      <td>0</td>\n",
       "      <td>➡️</td>\n",
       "      <td>1</td>\n",
       "    </tr>\n",
       "  </tbody>\n",
       "</table>\n",
       "<p>125805 rows × 3 columns</p>\n",
       "</div>"
      ],
      "text/plain": [
       "        Fake       token  frecuencia_token\n",
       "0          0          aa                22\n",
       "1          0         aaa                 7\n",
       "2          0  aaaaaaaand                 0\n",
       "3          0   aaaaackkk                 0\n",
       "4          0  aaaaapkfhk                 0\n",
       "...      ...         ...               ...\n",
       "125800     0        ””it                 1\n",
       "125801     0      ””when                 1\n",
       "125802     0         •if                 3\n",
       "125803     0          ☑️                 3\n",
       "125804     0          ➡️                 1\n",
       "\n",
       "[125805 rows x 3 columns]"
      ]
     },
     "execution_count": 412,
     "metadata": {},
     "output_type": "execute_result"
    }
   ],
   "source": [
    "df.loc[df['Fake']==0 , ] # frecuencia de tokens en el conjunto de las no fake news"
   ]
  },
  {
   "cell_type": "code",
   "execution_count": 413,
   "metadata": {},
   "outputs": [
    {
     "data": {
      "text/html": [
       "<div>\n",
       "<style scoped>\n",
       "    .dataframe tbody tr th:only-of-type {\n",
       "        vertical-align: middle;\n",
       "    }\n",
       "\n",
       "    .dataframe tbody tr th {\n",
       "        vertical-align: top;\n",
       "    }\n",
       "\n",
       "    .dataframe thead th {\n",
       "        text-align: right;\n",
       "    }\n",
       "</style>\n",
       "<table border=\"1\" class=\"dataframe\">\n",
       "  <thead>\n",
       "    <tr style=\"text-align: right;\">\n",
       "      <th></th>\n",
       "      <th>Fake</th>\n",
       "      <th>token</th>\n",
       "      <th>frecuencia_token</th>\n",
       "    </tr>\n",
       "  </thead>\n",
       "  <tbody>\n",
       "    <tr>\n",
       "      <th>125805</th>\n",
       "      <td>1</td>\n",
       "      <td>aa</td>\n",
       "      <td>24</td>\n",
       "    </tr>\n",
       "    <tr>\n",
       "      <th>125806</th>\n",
       "      <td>1</td>\n",
       "      <td>aaa</td>\n",
       "      <td>9</td>\n",
       "    </tr>\n",
       "    <tr>\n",
       "      <th>125807</th>\n",
       "      <td>1</td>\n",
       "      <td>aaaaaaaand</td>\n",
       "      <td>1</td>\n",
       "    </tr>\n",
       "    <tr>\n",
       "      <th>125808</th>\n",
       "      <td>1</td>\n",
       "      <td>aaaaackkk</td>\n",
       "      <td>1</td>\n",
       "    </tr>\n",
       "    <tr>\n",
       "      <th>125809</th>\n",
       "      <td>1</td>\n",
       "      <td>aaaaapkfhk</td>\n",
       "      <td>1</td>\n",
       "    </tr>\n",
       "    <tr>\n",
       "      <th>...</th>\n",
       "      <td>...</td>\n",
       "      <td>...</td>\n",
       "      <td>...</td>\n",
       "    </tr>\n",
       "    <tr>\n",
       "      <th>251605</th>\n",
       "      <td>1</td>\n",
       "      <td>””it</td>\n",
       "      <td>0</td>\n",
       "    </tr>\n",
       "    <tr>\n",
       "      <th>251606</th>\n",
       "      <td>1</td>\n",
       "      <td>””when</td>\n",
       "      <td>0</td>\n",
       "    </tr>\n",
       "    <tr>\n",
       "      <th>251607</th>\n",
       "      <td>1</td>\n",
       "      <td>•if</td>\n",
       "      <td>0</td>\n",
       "    </tr>\n",
       "    <tr>\n",
       "      <th>251608</th>\n",
       "      <td>1</td>\n",
       "      <td>☑️</td>\n",
       "      <td>0</td>\n",
       "    </tr>\n",
       "    <tr>\n",
       "      <th>251609</th>\n",
       "      <td>1</td>\n",
       "      <td>➡️</td>\n",
       "      <td>0</td>\n",
       "    </tr>\n",
       "  </tbody>\n",
       "</table>\n",
       "<p>125805 rows × 3 columns</p>\n",
       "</div>"
      ],
      "text/plain": [
       "        Fake       token  frecuencia_token\n",
       "125805     1          aa                24\n",
       "125806     1         aaa                 9\n",
       "125807     1  aaaaaaaand                 1\n",
       "125808     1   aaaaackkk                 1\n",
       "125809     1  aaaaapkfhk                 1\n",
       "...      ...         ...               ...\n",
       "251605     1        ””it                 0\n",
       "251606     1      ””when                 0\n",
       "251607     1         •if                 0\n",
       "251608     1          ☑️                 0\n",
       "251609     1          ➡️                 0\n",
       "\n",
       "[125805 rows x 3 columns]"
      ]
     },
     "execution_count": 413,
     "metadata": {},
     "output_type": "execute_result"
    }
   ],
   "source": [
    "df.loc[df['Fake']==1 , ] # nº de tokens en el conjunto de las fake news"
   ]
  },
  {
   "cell_type": "code",
   "execution_count": 414,
   "metadata": {},
   "outputs": [],
   "source": [
    "df_fake_sort = df.loc[df['Fake']==1 , ].sort_values(by=[\"frecuencia_token\"], ascending=False).reset_index(drop=False)"
   ]
  },
  {
   "cell_type": "code",
   "execution_count": 415,
   "metadata": {},
   "outputs": [],
   "source": [
    "df_no_fake_sort = df.loc[df['Fake']==0 , ].sort_values(by=[\"frecuencia_token\"], ascending=False).reset_index(drop=False)"
   ]
  },
  {
   "cell_type": "code",
   "execution_count": 416,
   "metadata": {},
   "outputs": [
    {
     "data": {
      "text/html": [
       "<div>\n",
       "<style scoped>\n",
       "    .dataframe tbody tr th:only-of-type {\n",
       "        vertical-align: middle;\n",
       "    }\n",
       "\n",
       "    .dataframe tbody tr th {\n",
       "        vertical-align: top;\n",
       "    }\n",
       "\n",
       "    .dataframe thead th {\n",
       "        text-align: right;\n",
       "    }\n",
       "</style>\n",
       "<table border=\"1\" class=\"dataframe\">\n",
       "  <thead>\n",
       "    <tr style=\"text-align: right;\">\n",
       "      <th></th>\n",
       "      <th>index</th>\n",
       "      <th>Fake</th>\n",
       "      <th>token</th>\n",
       "      <th>frecuencia_token</th>\n",
       "    </tr>\n",
       "  </thead>\n",
       "  <tbody>\n",
       "    <tr>\n",
       "      <th>0</th>\n",
       "      <td>229301</td>\n",
       "      <td>1</td>\n",
       "      <td>the</td>\n",
       "      <td>544521</td>\n",
       "    </tr>\n",
       "    <tr>\n",
       "      <th>1</th>\n",
       "      <td>230713</td>\n",
       "      <td>1</td>\n",
       "      <td>to</td>\n",
       "      <td>290882</td>\n",
       "    </tr>\n",
       "    <tr>\n",
       "      <th>2</th>\n",
       "      <td>199217</td>\n",
       "      <td>1</td>\n",
       "      <td>of</td>\n",
       "      <td>236735</td>\n",
       "    </tr>\n",
       "    <tr>\n",
       "      <th>3</th>\n",
       "      <td>129697</td>\n",
       "      <td>1</td>\n",
       "      <td>and</td>\n",
       "      <td>227349</td>\n",
       "    </tr>\n",
       "    <tr>\n",
       "      <th>4</th>\n",
       "      <td>174372</td>\n",
       "      <td>1</td>\n",
       "      <td>in</td>\n",
       "      <td>171433</td>\n",
       "    </tr>\n",
       "    <tr>\n",
       "      <th>5</th>\n",
       "      <td>229261</td>\n",
       "      <td>1</td>\n",
       "      <td>that</td>\n",
       "      <td>151789</td>\n",
       "    </tr>\n",
       "    <tr>\n",
       "      <th>6</th>\n",
       "      <td>176603</td>\n",
       "      <td>1</td>\n",
       "      <td>is</td>\n",
       "      <td>111278</td>\n",
       "    </tr>\n",
       "    <tr>\n",
       "      <th>7</th>\n",
       "      <td>162672</td>\n",
       "      <td>1</td>\n",
       "      <td>for</td>\n",
       "      <td>93538</td>\n",
       "    </tr>\n",
       "    <tr>\n",
       "      <th>8</th>\n",
       "      <td>176868</td>\n",
       "      <td>1</td>\n",
       "      <td>it</td>\n",
       "      <td>83693</td>\n",
       "    </tr>\n",
       "    <tr>\n",
       "      <th>9</th>\n",
       "      <td>199777</td>\n",
       "      <td>1</td>\n",
       "      <td>on</td>\n",
       "      <td>83661</td>\n",
       "    </tr>\n",
       "    <tr>\n",
       "      <th>10</th>\n",
       "      <td>232444</td>\n",
       "      <td>1</td>\n",
       "      <td>trump</td>\n",
       "      <td>79922</td>\n",
       "    </tr>\n",
       "    <tr>\n",
       "      <th>11</th>\n",
       "      <td>169936</td>\n",
       "      <td>1</td>\n",
       "      <td>he</td>\n",
       "      <td>79124</td>\n",
       "    </tr>\n",
       "    <tr>\n",
       "      <th>12</th>\n",
       "      <td>238650</td>\n",
       "      <td>1</td>\n",
       "      <td>was</td>\n",
       "      <td>67865</td>\n",
       "    </tr>\n",
       "    <tr>\n",
       "      <th>13</th>\n",
       "      <td>240547</td>\n",
       "      <td>1</td>\n",
       "      <td>with</td>\n",
       "      <td>63441</td>\n",
       "    </tr>\n",
       "    <tr>\n",
       "      <th>14</th>\n",
       "      <td>229776</td>\n",
       "      <td>1</td>\n",
       "      <td>this</td>\n",
       "      <td>58581</td>\n",
       "    </tr>\n",
       "  </tbody>\n",
       "</table>\n",
       "</div>"
      ],
      "text/plain": [
       "     index  Fake  token  frecuencia_token\n",
       "0   229301     1    the            544521\n",
       "1   230713     1     to            290882\n",
       "2   199217     1     of            236735\n",
       "3   129697     1    and            227349\n",
       "4   174372     1     in            171433\n",
       "5   229261     1   that            151789\n",
       "6   176603     1     is            111278\n",
       "7   162672     1    for             93538\n",
       "8   176868     1     it             83693\n",
       "9   199777     1     on             83661\n",
       "10  232444     1  trump             79922\n",
       "11  169936     1     he             79124\n",
       "12  238650     1    was             67865\n",
       "13  240547     1   with             63441\n",
       "14  229776     1   this             58581"
      ]
     },
     "execution_count": 416,
     "metadata": {},
     "output_type": "execute_result"
    }
   ],
   "source": [
    "df_fake_sort.head(15)"
   ]
  },
  {
   "cell_type": "code",
   "execution_count": 417,
   "metadata": {},
   "outputs": [
    {
     "data": {
      "text/html": [
       "<div>\n",
       "<style scoped>\n",
       "    .dataframe tbody tr th:only-of-type {\n",
       "        vertical-align: middle;\n",
       "    }\n",
       "\n",
       "    .dataframe tbody tr th {\n",
       "        vertical-align: top;\n",
       "    }\n",
       "\n",
       "    .dataframe thead th {\n",
       "        text-align: right;\n",
       "    }\n",
       "</style>\n",
       "<table border=\"1\" class=\"dataframe\">\n",
       "  <thead>\n",
       "    <tr style=\"text-align: right;\">\n",
       "      <th></th>\n",
       "      <th>index</th>\n",
       "      <th>Fake</th>\n",
       "      <th>token</th>\n",
       "      <th>frecuencia_token</th>\n",
       "    </tr>\n",
       "  </thead>\n",
       "  <tbody>\n",
       "    <tr>\n",
       "      <th>0</th>\n",
       "      <td>103496</td>\n",
       "      <td>0</td>\n",
       "      <td>the</td>\n",
       "      <td>478548</td>\n",
       "    </tr>\n",
       "    <tr>\n",
       "      <th>1</th>\n",
       "      <td>104908</td>\n",
       "      <td>0</td>\n",
       "      <td>to</td>\n",
       "      <td>245378</td>\n",
       "    </tr>\n",
       "    <tr>\n",
       "      <th>2</th>\n",
       "      <td>73412</td>\n",
       "      <td>0</td>\n",
       "      <td>of</td>\n",
       "      <td>205193</td>\n",
       "    </tr>\n",
       "    <tr>\n",
       "      <th>3</th>\n",
       "      <td>3892</td>\n",
       "      <td>0</td>\n",
       "      <td>and</td>\n",
       "      <td>181715</td>\n",
       "    </tr>\n",
       "    <tr>\n",
       "      <th>4</th>\n",
       "      <td>48567</td>\n",
       "      <td>0</td>\n",
       "      <td>in</td>\n",
       "      <td>181082</td>\n",
       "    </tr>\n",
       "    <tr>\n",
       "      <th>5</th>\n",
       "      <td>73972</td>\n",
       "      <td>0</td>\n",
       "      <td>on</td>\n",
       "      <td>108459</td>\n",
       "    </tr>\n",
       "    <tr>\n",
       "      <th>6</th>\n",
       "      <td>90350</td>\n",
       "      <td>0</td>\n",
       "      <td>said</td>\n",
       "      <td>99054</td>\n",
       "    </tr>\n",
       "    <tr>\n",
       "      <th>7</th>\n",
       "      <td>103456</td>\n",
       "      <td>0</td>\n",
       "      <td>that</td>\n",
       "      <td>86723</td>\n",
       "    </tr>\n",
       "    <tr>\n",
       "      <th>8</th>\n",
       "      <td>36867</td>\n",
       "      <td>0</td>\n",
       "      <td>for</td>\n",
       "      <td>79705</td>\n",
       "    </tr>\n",
       "    <tr>\n",
       "      <th>9</th>\n",
       "      <td>50798</td>\n",
       "      <td>0</td>\n",
       "      <td>is</td>\n",
       "      <td>55298</td>\n",
       "    </tr>\n",
       "    <tr>\n",
       "      <th>10</th>\n",
       "      <td>114742</td>\n",
       "      <td>0</td>\n",
       "      <td>with</td>\n",
       "      <td>54327</td>\n",
       "    </tr>\n",
       "    <tr>\n",
       "      <th>11</th>\n",
       "      <td>44131</td>\n",
       "      <td>0</td>\n",
       "      <td>he</td>\n",
       "      <td>52605</td>\n",
       "    </tr>\n",
       "    <tr>\n",
       "      <th>12</th>\n",
       "      <td>112845</td>\n",
       "      <td>0</td>\n",
       "      <td>was</td>\n",
       "      <td>47892</td>\n",
       "    </tr>\n",
       "    <tr>\n",
       "      <th>13</th>\n",
       "      <td>14219</td>\n",
       "      <td>0</td>\n",
       "      <td>by</td>\n",
       "      <td>47871</td>\n",
       "    </tr>\n",
       "    <tr>\n",
       "      <th>14</th>\n",
       "      <td>5659</td>\n",
       "      <td>0</td>\n",
       "      <td>as</td>\n",
       "      <td>46935</td>\n",
       "    </tr>\n",
       "  </tbody>\n",
       "</table>\n",
       "</div>"
      ],
      "text/plain": [
       "     index  Fake token  frecuencia_token\n",
       "0   103496     0   the            478548\n",
       "1   104908     0    to            245378\n",
       "2    73412     0    of            205193\n",
       "3     3892     0   and            181715\n",
       "4    48567     0    in            181082\n",
       "5    73972     0    on            108459\n",
       "6    90350     0  said             99054\n",
       "7   103456     0  that             86723\n",
       "8    36867     0   for             79705\n",
       "9    50798     0    is             55298\n",
       "10  114742     0  with             54327\n",
       "11   44131     0    he             52605\n",
       "12  112845     0   was             47892\n",
       "13   14219     0    by             47871\n",
       "14    5659     0    as             46935"
      ]
     },
     "execution_count": 417,
     "metadata": {},
     "output_type": "execute_result"
    }
   ],
   "source": [
    "df_no_fake_sort.head(15)"
   ]
  },
  {
   "cell_type": "markdown",
   "metadata": {},
   "source": [
    "En la tabla anterior puede observarse que los términos más frecuentes en todos los usuarios se corresponden con artículos, preposiciones, pronombres…, en general, palabras que no aportan información relevante sobre el texto. Ha estas palabras se les conoce como stopwords. Para cada idioma existen distintos listados de stopwords, además, dependiendo del contexto, puede ser necesario adaptar el listado. Por ejemplo, en la tabla anterior aparece el término amp que procede de la etiqueta html &amp. Con frecuencia, a medida que se realiza un análisis se encuentran palabras que deben incluirse en el listado de stopwords."
   ]
  },
  {
   "cell_type": "code",
   "execution_count": 418,
   "metadata": {},
   "outputs": [],
   "source": [
    "# pip install nltk"
   ]
  },
  {
   "cell_type": "code",
   "execution_count": 419,
   "metadata": {},
   "outputs": [
    {
     "name": "stderr",
     "output_type": "stream",
     "text": [
      "[nltk_data] Downloading package stopwords to\n",
      "[nltk_data]     C:\\Users\\Usuario\\AppData\\Roaming\\nltk_data...\n",
      "[nltk_data]   Package stopwords is already up-to-date!\n"
     ]
    }
   ],
   "source": [
    "import nltk\n",
    "nltk.download('stopwords')\n",
    "from nltk.corpus import stopwords"
   ]
  },
  {
   "cell_type": "code",
   "execution_count": 420,
   "metadata": {},
   "outputs": [],
   "source": [
    "# Obtención de listado de stopwords del inglés\n",
    "# ==============================================================================\n",
    "stop_words = list(stopwords.words('english'))"
   ]
  },
  {
   "cell_type": "code",
   "execution_count": 421,
   "metadata": {},
   "outputs": [
    {
     "name": "stdout",
     "output_type": "stream",
     "text": [
      "['i', 'me', 'my', 'myself', 'we', 'our', 'ours', 'ourselves', 'you', \"you're\", \"you've\", \"you'll\", \"you'd\", 'your', 'yours', 'yourself', 'yourselves', 'he', 'him', 'his', 'himself', 'she', \"she's\", 'her', 'hers', 'herself', 'it', \"it's\", 'its', 'itself', 'they', 'them', 'their', 'theirs', 'themselves', 'what', 'which', 'who', 'whom', 'this', 'that', \"that'll\", 'these', 'those', 'am', 'is', 'are', 'was', 'were', 'be', 'been', 'being', 'have', 'has', 'had', 'having', 'do', 'does', 'did', 'doing', 'a', 'an', 'the', 'and', 'but', 'if', 'or', 'because', 'as', 'until', 'while', 'of', 'at', 'by', 'for', 'with', 'about', 'against', 'between', 'into', 'through', 'during', 'before', 'after', 'above', 'below', 'to', 'from', 'up', 'down', 'in', 'out', 'on', 'off', 'over', 'under', 'again', 'further', 'then', 'once', 'here', 'there', 'when', 'where', 'why', 'how', 'all', 'any', 'both', 'each', 'few', 'more', 'most', 'other', 'some', 'such', 'no', 'nor', 'not', 'only', 'own', 'same', 'so', 'than', 'too', 'very', 's', 't', 'can', 'will', 'just', 'don', \"don't\", 'should', \"should've\", 'now', 'd', 'll', 'm', 'o', 're', 've', 'y', 'ain', 'aren', \"aren't\", 'couldn', \"couldn't\", 'didn', \"didn't\", 'doesn', \"doesn't\", 'hadn', \"hadn't\", 'hasn', \"hasn't\", 'haven', \"haven't\", 'isn', \"isn't\", 'ma', 'mightn', \"mightn't\", 'mustn', \"mustn't\", 'needn', \"needn't\", 'shan', \"shan't\", 'shouldn', \"shouldn't\", 'wasn', \"wasn't\", 'weren', \"weren't\", 'won', \"won't\", 'wouldn', \"wouldn't\"]\n"
     ]
    }
   ],
   "source": [
    "print(stop_words)"
   ]
  },
  {
   "cell_type": "code",
   "execution_count": 422,
   "metadata": {},
   "outputs": [],
   "source": [
    "df_fake_sort_not_StopWords = df_fake_sort[ ~ df_fake_sort['token'].isin(stop_words) ] # ranking de tokens para las fake news sin stop words"
   ]
  },
  {
   "cell_type": "code",
   "execution_count": 423,
   "metadata": {},
   "outputs": [],
   "source": [
    "df_no_fake_sort_not_StopWords = df_no_fake_sort[ ~ df_no_fake_sort['token'].isin(stop_words) ] # ranking de tokens para las no fake news sin stop words"
   ]
  },
  {
   "cell_type": "code",
   "execution_count": 424,
   "metadata": {},
   "outputs": [
    {
     "data": {
      "text/html": [
       "<div>\n",
       "<style scoped>\n",
       "    .dataframe tbody tr th:only-of-type {\n",
       "        vertical-align: middle;\n",
       "    }\n",
       "\n",
       "    .dataframe tbody tr th {\n",
       "        vertical-align: top;\n",
       "    }\n",
       "\n",
       "    .dataframe thead th {\n",
       "        text-align: right;\n",
       "    }\n",
       "</style>\n",
       "<table border=\"1\" class=\"dataframe\">\n",
       "  <thead>\n",
       "    <tr style=\"text-align: right;\">\n",
       "      <th></th>\n",
       "      <th>index</th>\n",
       "      <th>Fake</th>\n",
       "      <th>token</th>\n",
       "      <th>frecuencia_token</th>\n",
       "    </tr>\n",
       "  </thead>\n",
       "  <tbody>\n",
       "    <tr>\n",
       "      <th>10</th>\n",
       "      <td>232444</td>\n",
       "      <td>1</td>\n",
       "      <td>trump</td>\n",
       "      <td>79922</td>\n",
       "    </tr>\n",
       "    <tr>\n",
       "      <th>31</th>\n",
       "      <td>216155</td>\n",
       "      <td>1</td>\n",
       "      <td>said</td>\n",
       "      <td>33763</td>\n",
       "    </tr>\n",
       "    <tr>\n",
       "      <th>34</th>\n",
       "      <td>206880</td>\n",
       "      <td>1</td>\n",
       "      <td>president</td>\n",
       "      <td>27801</td>\n",
       "    </tr>\n",
       "    <tr>\n",
       "      <th>35</th>\n",
       "      <td>203392</td>\n",
       "      <td>1</td>\n",
       "      <td>people</td>\n",
       "      <td>26591</td>\n",
       "    </tr>\n",
       "    <tr>\n",
       "      <th>41</th>\n",
       "      <td>199801</td>\n",
       "      <td>1</td>\n",
       "      <td>one</td>\n",
       "      <td>24588</td>\n",
       "    </tr>\n",
       "    <tr>\n",
       "      <th>44</th>\n",
       "      <td>241112</td>\n",
       "      <td>1</td>\n",
       "      <td>would</td>\n",
       "      <td>23566</td>\n",
       "    </tr>\n",
       "    <tr>\n",
       "      <th>56</th>\n",
       "      <td>144568</td>\n",
       "      <td>1</td>\n",
       "      <td>clinton</td>\n",
       "      <td>19209</td>\n",
       "    </tr>\n",
       "    <tr>\n",
       "      <th>59</th>\n",
       "      <td>198761</td>\n",
       "      <td>1</td>\n",
       "      <td>obama</td>\n",
       "      <td>18833</td>\n",
       "    </tr>\n",
       "    <tr>\n",
       "      <th>60</th>\n",
       "      <td>185313</td>\n",
       "      <td>1</td>\n",
       "      <td>like</td>\n",
       "      <td>18117</td>\n",
       "    </tr>\n",
       "    <tr>\n",
       "      <th>62</th>\n",
       "      <td>154174</td>\n",
       "      <td>1</td>\n",
       "      <td>donald</td>\n",
       "      <td>17789</td>\n",
       "    </tr>\n",
       "    <tr>\n",
       "      <th>67</th>\n",
       "      <td>128977</td>\n",
       "      <td>1</td>\n",
       "      <td>also</td>\n",
       "      <td>15420</td>\n",
       "    </tr>\n",
       "    <tr>\n",
       "      <th>68</th>\n",
       "      <td>235764</td>\n",
       "      <td>1</td>\n",
       "      <td>us</td>\n",
       "      <td>14825</td>\n",
       "    </tr>\n",
       "    <tr>\n",
       "      <th>69</th>\n",
       "      <td>196554</td>\n",
       "      <td>1</td>\n",
       "      <td>news</td>\n",
       "      <td>14688</td>\n",
       "    </tr>\n",
       "    <tr>\n",
       "      <th>73</th>\n",
       "      <td>196507</td>\n",
       "      <td>1</td>\n",
       "      <td>new</td>\n",
       "      <td>14414</td>\n",
       "    </tr>\n",
       "    <tr>\n",
       "      <th>75</th>\n",
       "      <td>171064</td>\n",
       "      <td>1</td>\n",
       "      <td>hillary</td>\n",
       "      <td>14184</td>\n",
       "    </tr>\n",
       "  </tbody>\n",
       "</table>\n",
       "</div>"
      ],
      "text/plain": [
       "     index  Fake      token  frecuencia_token\n",
       "10  232444     1      trump             79922\n",
       "31  216155     1       said             33763\n",
       "34  206880     1  president             27801\n",
       "35  203392     1     people             26591\n",
       "41  199801     1        one             24588\n",
       "44  241112     1      would             23566\n",
       "56  144568     1    clinton             19209\n",
       "59  198761     1      obama             18833\n",
       "60  185313     1       like             18117\n",
       "62  154174     1     donald             17789\n",
       "67  128977     1       also             15420\n",
       "68  235764     1         us             14825\n",
       "69  196554     1       news             14688\n",
       "73  196507     1        new             14414\n",
       "75  171064     1    hillary             14184"
      ]
     },
     "execution_count": 424,
     "metadata": {},
     "output_type": "execute_result"
    }
   ],
   "source": [
    "df_fake_sort_not_StopWords.head(15)"
   ]
  },
  {
   "cell_type": "code",
   "execution_count": 425,
   "metadata": {},
   "outputs": [
    {
     "data": {
      "text/html": [
       "<div>\n",
       "<style scoped>\n",
       "    .dataframe tbody tr th:only-of-type {\n",
       "        vertical-align: middle;\n",
       "    }\n",
       "\n",
       "    .dataframe tbody tr th {\n",
       "        vertical-align: top;\n",
       "    }\n",
       "\n",
       "    .dataframe thead th {\n",
       "        text-align: right;\n",
       "    }\n",
       "</style>\n",
       "<table border=\"1\" class=\"dataframe\">\n",
       "  <thead>\n",
       "    <tr style=\"text-align: right;\">\n",
       "      <th></th>\n",
       "      <th>index</th>\n",
       "      <th>Fake</th>\n",
       "      <th>token</th>\n",
       "      <th>frecuencia_token</th>\n",
       "    </tr>\n",
       "  </thead>\n",
       "  <tbody>\n",
       "    <tr>\n",
       "      <th>6</th>\n",
       "      <td>90350</td>\n",
       "      <td>0</td>\n",
       "      <td>said</td>\n",
       "      <td>99054</td>\n",
       "    </tr>\n",
       "    <tr>\n",
       "      <th>17</th>\n",
       "      <td>106639</td>\n",
       "      <td>0</td>\n",
       "      <td>trump</td>\n",
       "      <td>42755</td>\n",
       "    </tr>\n",
       "    <tr>\n",
       "      <th>25</th>\n",
       "      <td>115307</td>\n",
       "      <td>0</td>\n",
       "      <td>would</td>\n",
       "      <td>31510</td>\n",
       "    </tr>\n",
       "    <tr>\n",
       "      <th>26</th>\n",
       "      <td>87534</td>\n",
       "      <td>0</td>\n",
       "      <td>reuters</td>\n",
       "      <td>28880</td>\n",
       "    </tr>\n",
       "    <tr>\n",
       "      <th>28</th>\n",
       "      <td>81075</td>\n",
       "      <td>0</td>\n",
       "      <td>president</td>\n",
       "      <td>27128</td>\n",
       "    </tr>\n",
       "    <tr>\n",
       "      <th>36</th>\n",
       "      <td>98622</td>\n",
       "      <td>0</td>\n",
       "      <td>state</td>\n",
       "      <td>19912</td>\n",
       "    </tr>\n",
       "    <tr>\n",
       "      <th>41</th>\n",
       "      <td>41076</td>\n",
       "      <td>0</td>\n",
       "      <td>government</td>\n",
       "      <td>18484</td>\n",
       "    </tr>\n",
       "    <tr>\n",
       "      <th>44</th>\n",
       "      <td>70702</td>\n",
       "      <td>0</td>\n",
       "      <td>new</td>\n",
       "      <td>16849</td>\n",
       "    </tr>\n",
       "    <tr>\n",
       "      <th>47</th>\n",
       "      <td>46493</td>\n",
       "      <td>0</td>\n",
       "      <td>house</td>\n",
       "      <td>16480</td>\n",
       "    </tr>\n",
       "    <tr>\n",
       "      <th>48</th>\n",
       "      <td>98655</td>\n",
       "      <td>0</td>\n",
       "      <td>states</td>\n",
       "      <td>16380</td>\n",
       "    </tr>\n",
       "    <tr>\n",
       "      <th>49</th>\n",
       "      <td>86922</td>\n",
       "      <td>0</td>\n",
       "      <td>republican</td>\n",
       "      <td>16175</td>\n",
       "    </tr>\n",
       "    <tr>\n",
       "      <th>50</th>\n",
       "      <td>3172</td>\n",
       "      <td>0</td>\n",
       "      <td>also</td>\n",
       "      <td>15948</td>\n",
       "    </tr>\n",
       "    <tr>\n",
       "      <th>51</th>\n",
       "      <td>109089</td>\n",
       "      <td>0</td>\n",
       "      <td>united</td>\n",
       "      <td>15584</td>\n",
       "    </tr>\n",
       "    <tr>\n",
       "      <th>53</th>\n",
       "      <td>77587</td>\n",
       "      <td>0</td>\n",
       "      <td>people</td>\n",
       "      <td>14945</td>\n",
       "    </tr>\n",
       "    <tr>\n",
       "      <th>54</th>\n",
       "      <td>116463</td>\n",
       "      <td>0</td>\n",
       "      <td>year</td>\n",
       "      <td>14276</td>\n",
       "    </tr>\n",
       "  </tbody>\n",
       "</table>\n",
       "</div>"
      ],
      "text/plain": [
       "     index  Fake       token  frecuencia_token\n",
       "6    90350     0        said             99054\n",
       "17  106639     0       trump             42755\n",
       "25  115307     0       would             31510\n",
       "26   87534     0     reuters             28880\n",
       "28   81075     0   president             27128\n",
       "36   98622     0       state             19912\n",
       "41   41076     0  government             18484\n",
       "44   70702     0         new             16849\n",
       "47   46493     0       house             16480\n",
       "48   98655     0      states             16380\n",
       "49   86922     0  republican             16175\n",
       "50    3172     0        also             15948\n",
       "51  109089     0      united             15584\n",
       "53   77587     0      people             14945\n",
       "54  116463     0        year             14276"
      ]
     },
     "execution_count": 425,
     "metadata": {},
     "output_type": "execute_result"
    }
   ],
   "source": [
    "df_no_fake_sort_not_StopWords.head(15)"
   ]
  },
  {
   "cell_type": "code",
   "execution_count": 426,
   "metadata": {},
   "outputs": [
    {
     "data": {
      "image/png": "[encoded data removed]",
      "text/plain": [
       "<Figure size 576x576 with 1 Axes>"
      ]
     },
     "metadata": {},
     "output_type": "display_data"
    }
   ],
   "source": [
    "p1 = sns.barplot(data=df_fake_sort_not_StopWords.head(15), x='frecuencia_token', y='token', color='tomato').set(title='Ranking 15 Tokens in Fake News') "
   ]
  },
  {
   "cell_type": "code",
   "execution_count": 427,
   "metadata": {},
   "outputs": [
    {
     "data": {
      "image/png": "[encoded data removed]",
      "text/plain": [
       "<Figure size 576x576 with 1 Axes>"
      ]
     },
     "metadata": {},
     "output_type": "display_data"
    }
   ],
   "source": [
    "p2 = sns.barplot(data=df_no_fake_sort_not_StopWords.head(15), x='frecuencia_token', y='token', color='cyan').set(title='Ranking 15 Tokens in Not Fake News') "
   ]
  },
  {
   "cell_type": "markdown",
   "metadata": {},
   "source": [
    "A continuación, se estudia qué palabras se utilizan de forma más diferenciada en cada tipo de noticia (fake / no fake), es decir, palabras que utiliza mucho en fake newa y que no se utilizan en las no fakes, y viceversa. \n",
    "\n",
    "Una forma de hacer este análisis es mediante el odds ratio de las frecuencias.\n",
    "\n",
    "$$\\dfrac{ \\frac{n_{k0} + 1}{N_0 + 1} }{  \\frac{n_{k1} + 1}{N_1 +1}  }$$\n",
    " \n",
    "Donde:\n",
    "\n",
    "$n_{k0}$  el número de veces que aparece el término (token) k en las fake news  \n",
    "\n",
    "$n_{k1}$ el numero de veces  que aparece el termino (token) k en las no fake news.\n",
    "\n",
    "$N_0$ es el número de terminos (tokens, contando repeticiones) que aparecen en las fake news \n",
    "\n",
    "$N_1$ es el número de terminos (tokens, contando repeticiones) que aparecen en las no fake news "
   ]
  },
  {
   "cell_type": "code",
   "execution_count": 428,
   "metadata": {},
   "outputs": [],
   "source": [
    "def n_k1(token) : \n",
    "\n",
    "    n_k1 = df_fake_sort_not_StopWords.loc[ df_fake_sort_not_StopWords['token']==token , 'frecuencia_token']\n",
    "\n",
    "    return(n_k1)"
   ]
  },
  {
   "cell_type": "code",
   "execution_count": 429,
   "metadata": {},
   "outputs": [],
   "source": [
    "def n_k0(token) : \n",
    "\n",
    "    n_k0 = df_no_fake_sort_not_StopWords.loc[ df_no_fake_sort_not_StopWords['token']==token , 'frecuencia_token']\n",
    "\n",
    "    return(n_k0)"
   ]
  },
  {
   "cell_type": "code",
   "execution_count": 430,
   "metadata": {},
   "outputs": [
    {
     "data": {
      "text/plain": [
       "17    42755\n",
       "Name: frecuencia_token, dtype: int64"
      ]
     },
     "execution_count": 430,
     "metadata": {},
     "output_type": "execute_result"
    }
   ],
   "source": [
    "n_k0('trump') "
   ]
  },
  {
   "cell_type": "code",
   "execution_count": 431,
   "metadata": {},
   "outputs": [
    {
     "data": {
      "text/plain": [
       "10    79922\n",
       "Name: frecuencia_token, dtype: int64"
      ]
     },
     "execution_count": 431,
     "metadata": {},
     "output_type": "execute_result"
    }
   ],
   "source": [
    "n_k1('trump') "
   ]
  },
  {
   "cell_type": "markdown",
   "metadata": {},
   "source": [
    "N_0 y N_1 coinciden con el nº de tokens (contando repeticiones , y sin stops words) que aparecen el las no fake  y  fake news, respectivamente:"
   ]
  },
  {
   "cell_type": "code",
   "execution_count": 432,
   "metadata": {},
   "outputs": [],
   "source": [
    "Fake_News_Tokens_not_StopWords = Fake_News_Tokens[ ~ Fake_News_Tokens['token'].isin(stop_words) ]"
   ]
  },
  {
   "cell_type": "code",
   "execution_count": 433,
   "metadata": {},
   "outputs": [],
   "source": [
    "N0 = Fake_News_Tokens_not_StopWords.groupby(by='Fake')['token'].count()[0]\n",
    "\n",
    "N1 = Fake_News_Tokens_not_StopWords.groupby(by='Fake')['token'].count()[1]"
   ]
  },
  {
   "cell_type": "code",
   "execution_count": 434,
   "metadata": {},
   "outputs": [
    {
     "data": {
      "text/plain": [
       "4907617"
      ]
     },
     "execution_count": 434,
     "metadata": {},
     "output_type": "execute_result"
    }
   ],
   "source": [
    "N0"
   ]
  },
  {
   "cell_type": "code",
   "execution_count": 435,
   "metadata": {},
   "outputs": [
    {
     "data": {
      "text/plain": [
       "5544840"
      ]
     },
     "execution_count": 435,
     "metadata": {},
     "output_type": "execute_result"
    }
   ],
   "source": [
    "N1"
   ]
  },
  {
   "cell_type": "code",
   "execution_count": 436,
   "metadata": {},
   "outputs": [
    {
     "data": {
      "text/plain": [
       "Fake\n",
       "0    4907617\n",
       "1    5544840\n",
       "Name: token, dtype: int64"
      ]
     },
     "execution_count": 436,
     "metadata": {},
     "output_type": "execute_result"
    }
   ],
   "source": [
    "Fake_News_Tokens_not_StopWords.groupby(by='Fake')['token'].count()"
   ]
  },
  {
   "cell_type": "markdown",
   "metadata": {},
   "source": []
  },
  {
   "cell_type": "code",
   "execution_count": 437,
   "metadata": {},
   "outputs": [
    {
     "data": {
      "text/plain": [
       "17    0.008712\n",
       "Name: frecuencia_token, dtype: float64"
      ]
     },
     "execution_count": 437,
     "metadata": {},
     "output_type": "execute_result"
    }
   ],
   "source": [
    "n_k0('trump') / N0 "
   ]
  },
  {
   "cell_type": "code",
   "execution_count": 438,
   "metadata": {},
   "outputs": [
    {
     "data": {
      "text/plain": [
       "10    0.014414\n",
       "Name: frecuencia_token, dtype: float64"
      ]
     },
     "execution_count": 438,
     "metadata": {},
     "output_type": "execute_result"
    }
   ],
   "source": [
    "n_k1('trump') / N1"
   ]
  },
  {
   "cell_type": "code",
   "execution_count": 439,
   "metadata": {},
   "outputs": [
    {
     "data": {
      "text/plain": [
       "0.6044201357746811"
      ]
     },
     "execution_count": 439,
     "metadata": {},
     "output_type": "execute_result"
    }
   ],
   "source": [
    "float( n_k0('trump') / N0 ) / float( n_k1('trump') / N1 )"
   ]
  },
  {
   "cell_type": "code",
   "execution_count": 440,
   "metadata": {},
   "outputs": [
    {
     "data": {
      "text/html": [
       "<div>\n",
       "<style scoped>\n",
       "    .dataframe tbody tr th:only-of-type {\n",
       "        vertical-align: middle;\n",
       "    }\n",
       "\n",
       "    .dataframe tbody tr th {\n",
       "        vertical-align: top;\n",
       "    }\n",
       "\n",
       "    .dataframe thead th {\n",
       "        text-align: right;\n",
       "    }\n",
       "</style>\n",
       "<table border=\"1\" class=\"dataframe\">\n",
       "  <thead>\n",
       "    <tr style=\"text-align: right;\">\n",
       "      <th></th>\n",
       "      <th>index</th>\n",
       "      <th>Fake</th>\n",
       "      <th>token</th>\n",
       "      <th>frecuencia_token</th>\n",
       "    </tr>\n",
       "  </thead>\n",
       "  <tbody>\n",
       "    <tr>\n",
       "      <th>0</th>\n",
       "      <td>125805</td>\n",
       "      <td>1</td>\n",
       "      <td>aa</td>\n",
       "      <td>24</td>\n",
       "    </tr>\n",
       "    <tr>\n",
       "      <th>1</th>\n",
       "      <td>125806</td>\n",
       "      <td>1</td>\n",
       "      <td>aaa</td>\n",
       "      <td>9</td>\n",
       "    </tr>\n",
       "    <tr>\n",
       "      <th>2</th>\n",
       "      <td>125807</td>\n",
       "      <td>1</td>\n",
       "      <td>aaaaaaaand</td>\n",
       "      <td>1</td>\n",
       "    </tr>\n",
       "    <tr>\n",
       "      <th>3</th>\n",
       "      <td>125808</td>\n",
       "      <td>1</td>\n",
       "      <td>aaaaackkk</td>\n",
       "      <td>1</td>\n",
       "    </tr>\n",
       "    <tr>\n",
       "      <th>4</th>\n",
       "      <td>125809</td>\n",
       "      <td>1</td>\n",
       "      <td>aaaaapkfhk</td>\n",
       "      <td>1</td>\n",
       "    </tr>\n",
       "    <tr>\n",
       "      <th>...</th>\n",
       "      <td>...</td>\n",
       "      <td>...</td>\n",
       "      <td>...</td>\n",
       "      <td>...</td>\n",
       "    </tr>\n",
       "    <tr>\n",
       "      <th>125656</th>\n",
       "      <td>251605</td>\n",
       "      <td>1</td>\n",
       "      <td>””it</td>\n",
       "      <td>0</td>\n",
       "    </tr>\n",
       "    <tr>\n",
       "      <th>125657</th>\n",
       "      <td>251606</td>\n",
       "      <td>1</td>\n",
       "      <td>””when</td>\n",
       "      <td>0</td>\n",
       "    </tr>\n",
       "    <tr>\n",
       "      <th>125658</th>\n",
       "      <td>251607</td>\n",
       "      <td>1</td>\n",
       "      <td>•if</td>\n",
       "      <td>0</td>\n",
       "    </tr>\n",
       "    <tr>\n",
       "      <th>125659</th>\n",
       "      <td>251608</td>\n",
       "      <td>1</td>\n",
       "      <td>☑️</td>\n",
       "      <td>0</td>\n",
       "    </tr>\n",
       "    <tr>\n",
       "      <th>125660</th>\n",
       "      <td>251609</td>\n",
       "      <td>1</td>\n",
       "      <td>➡️</td>\n",
       "      <td>0</td>\n",
       "    </tr>\n",
       "  </tbody>\n",
       "</table>\n",
       "<p>125661 rows × 4 columns</p>\n",
       "</div>"
      ],
      "text/plain": [
       "         index  Fake       token  frecuencia_token\n",
       "0       125805     1          aa                24\n",
       "1       125806     1         aaa                 9\n",
       "2       125807     1  aaaaaaaand                 1\n",
       "3       125808     1   aaaaackkk                 1\n",
       "4       125809     1  aaaaapkfhk                 1\n",
       "...        ...   ...         ...               ...\n",
       "125656  251605     1        ””it                 0\n",
       "125657  251606     1      ””when                 0\n",
       "125658  251607     1         •if                 0\n",
       "125659  251608     1          ☑️                 0\n",
       "125660  251609     1          ➡️                 0\n",
       "\n",
       "[125661 rows x 4 columns]"
      ]
     },
     "execution_count": 440,
     "metadata": {},
     "output_type": "execute_result"
    }
   ],
   "source": [
    "df0 = df_fake_sort_not_StopWords.sort_values(by=[\"token\"]).reset_index(drop=True)\n",
    "df0"
   ]
  },
  {
   "cell_type": "code",
   "execution_count": 441,
   "metadata": {},
   "outputs": [
    {
     "data": {
      "text/html": [
       "<div>\n",
       "<style scoped>\n",
       "    .dataframe tbody tr th:only-of-type {\n",
       "        vertical-align: middle;\n",
       "    }\n",
       "\n",
       "    .dataframe tbody tr th {\n",
       "        vertical-align: top;\n",
       "    }\n",
       "\n",
       "    .dataframe thead th {\n",
       "        text-align: right;\n",
       "    }\n",
       "</style>\n",
       "<table border=\"1\" class=\"dataframe\">\n",
       "  <thead>\n",
       "    <tr style=\"text-align: right;\">\n",
       "      <th></th>\n",
       "      <th>index</th>\n",
       "      <th>Fake</th>\n",
       "      <th>token</th>\n",
       "      <th>frecuencia_token</th>\n",
       "    </tr>\n",
       "  </thead>\n",
       "  <tbody>\n",
       "    <tr>\n",
       "      <th>0</th>\n",
       "      <td>0</td>\n",
       "      <td>0</td>\n",
       "      <td>aa</td>\n",
       "      <td>22</td>\n",
       "    </tr>\n",
       "    <tr>\n",
       "      <th>1</th>\n",
       "      <td>1</td>\n",
       "      <td>0</td>\n",
       "      <td>aaa</td>\n",
       "      <td>7</td>\n",
       "    </tr>\n",
       "    <tr>\n",
       "      <th>2</th>\n",
       "      <td>2</td>\n",
       "      <td>0</td>\n",
       "      <td>aaaaaaaand</td>\n",
       "      <td>0</td>\n",
       "    </tr>\n",
       "    <tr>\n",
       "      <th>3</th>\n",
       "      <td>3</td>\n",
       "      <td>0</td>\n",
       "      <td>aaaaackkk</td>\n",
       "      <td>0</td>\n",
       "    </tr>\n",
       "    <tr>\n",
       "      <th>4</th>\n",
       "      <td>4</td>\n",
       "      <td>0</td>\n",
       "      <td>aaaaapkfhk</td>\n",
       "      <td>0</td>\n",
       "    </tr>\n",
       "    <tr>\n",
       "      <th>...</th>\n",
       "      <td>...</td>\n",
       "      <td>...</td>\n",
       "      <td>...</td>\n",
       "      <td>...</td>\n",
       "    </tr>\n",
       "    <tr>\n",
       "      <th>125656</th>\n",
       "      <td>125800</td>\n",
       "      <td>0</td>\n",
       "      <td>””it</td>\n",
       "      <td>1</td>\n",
       "    </tr>\n",
       "    <tr>\n",
       "      <th>125657</th>\n",
       "      <td>125801</td>\n",
       "      <td>0</td>\n",
       "      <td>””when</td>\n",
       "      <td>1</td>\n",
       "    </tr>\n",
       "    <tr>\n",
       "      <th>125658</th>\n",
       "      <td>125802</td>\n",
       "      <td>0</td>\n",
       "      <td>•if</td>\n",
       "      <td>3</td>\n",
       "    </tr>\n",
       "    <tr>\n",
       "      <th>125659</th>\n",
       "      <td>125803</td>\n",
       "      <td>0</td>\n",
       "      <td>☑️</td>\n",
       "      <td>3</td>\n",
       "    </tr>\n",
       "    <tr>\n",
       "      <th>125660</th>\n",
       "      <td>125804</td>\n",
       "      <td>0</td>\n",
       "      <td>➡️</td>\n",
       "      <td>1</td>\n",
       "    </tr>\n",
       "  </tbody>\n",
       "</table>\n",
       "<p>125661 rows × 4 columns</p>\n",
       "</div>"
      ],
      "text/plain": [
       "         index  Fake       token  frecuencia_token\n",
       "0            0     0          aa                22\n",
       "1            1     0         aaa                 7\n",
       "2            2     0  aaaaaaaand                 0\n",
       "3            3     0   aaaaackkk                 0\n",
       "4            4     0  aaaaapkfhk                 0\n",
       "...        ...   ...         ...               ...\n",
       "125656  125800     0        ””it                 1\n",
       "125657  125801     0      ””when                 1\n",
       "125658  125802     0         •if                 3\n",
       "125659  125803     0          ☑️                 3\n",
       "125660  125804     0          ➡️                 1\n",
       "\n",
       "[125661 rows x 4 columns]"
      ]
     },
     "execution_count": 441,
     "metadata": {},
     "output_type": "execute_result"
    }
   ],
   "source": [
    "df1 = df_no_fake_sort_not_StopWords.sort_values(by=[\"token\"]).reset_index(drop=True)\n",
    "df1"
   ]
  },
  {
   "cell_type": "code",
   "execution_count": 442,
   "metadata": {},
   "outputs": [],
   "source": [
    "n_k0_vector = df0['frecuencia_token']"
   ]
  },
  {
   "cell_type": "code",
   "execution_count": 443,
   "metadata": {},
   "outputs": [
    {
     "data": {
      "text/plain": [
       "0         5.094121e-06\n",
       "1         2.037648e-06\n",
       "2         4.075297e-07\n",
       "3         4.075297e-07\n",
       "4         4.075297e-07\n",
       "              ...     \n",
       "125656    2.037648e-07\n",
       "125657    2.037648e-07\n",
       "125658    2.037648e-07\n",
       "125659    2.037648e-07\n",
       "125660    2.037648e-07\n",
       "Name: frecuencia_token, Length: 125661, dtype: float64"
      ]
     },
     "execution_count": 443,
     "metadata": {},
     "output_type": "execute_result"
    }
   ],
   "source": [
    "( n_k0_vector + 1 ) / ( N0 + 1)"
   ]
  },
  {
   "cell_type": "code",
   "execution_count": 444,
   "metadata": {},
   "outputs": [],
   "source": [
    "n_k1_vector = df1['frecuencia_token']"
   ]
  },
  {
   "cell_type": "code",
   "execution_count": 445,
   "metadata": {},
   "outputs": [
    {
     "data": {
      "text/plain": [
       "0         4.148000e-06\n",
       "1         1.442783e-06\n",
       "2         1.803478e-07\n",
       "3         1.803478e-07\n",
       "4         1.803478e-07\n",
       "              ...     \n",
       "125656    3.606956e-07\n",
       "125657    3.606956e-07\n",
       "125658    7.213913e-07\n",
       "125659    7.213913e-07\n",
       "125660    3.606956e-07\n",
       "Name: frecuencia_token, Length: 125661, dtype: float64"
      ]
     },
     "execution_count": 445,
     "metadata": {},
     "output_type": "execute_result"
    }
   ],
   "source": [
    "( n_k1_vector + 1 ) / ( N1 + 1)"
   ]
  },
  {
   "cell_type": "code",
   "execution_count": 446,
   "metadata": {},
   "outputs": [],
   "source": [
    "Odds_ratio = ( ( n_k0_vector + 1 ) / ( N0 + 1) ) / ( ( n_k1_vector + 1 ) / ( N1 + 1) )"
   ]
  },
  {
   "cell_type": "code",
   "execution_count": 447,
   "metadata": {},
   "outputs": [
    {
     "data": {
      "text/plain": [
       "0         1.228091\n",
       "1         1.412305\n",
       "2         2.259687\n",
       "3         2.259687\n",
       "4         2.259687\n",
       "            ...   \n",
       "125656    0.564922\n",
       "125657    0.564922\n",
       "125658    0.282461\n",
       "125659    0.282461\n",
       "125660    0.564922\n",
       "Name: frecuencia_token, Length: 125661, dtype: float64"
      ]
     },
     "execution_count": 447,
     "metadata": {},
     "output_type": "execute_result"
    }
   ],
   "source": [
    "Odds_ratio"
   ]
  },
  {
   "cell_type": "code",
   "execution_count": 448,
   "metadata": {},
   "outputs": [],
   "source": [
    "df0['Odds_ratio_notFake_Fake'] = Odds_ratio  \n",
    "df1['Odds_ratio_notFake_Fake'] = Odds_ratio  "
   ]
  },
  {
   "cell_type": "code",
   "execution_count": 449,
   "metadata": {},
   "outputs": [
    {
     "data": {
      "text/html": [
       "<div>\n",
       "<style scoped>\n",
       "    .dataframe tbody tr th:only-of-type {\n",
       "        vertical-align: middle;\n",
       "    }\n",
       "\n",
       "    .dataframe tbody tr th {\n",
       "        vertical-align: top;\n",
       "    }\n",
       "\n",
       "    .dataframe thead th {\n",
       "        text-align: right;\n",
       "    }\n",
       "</style>\n",
       "<table border=\"1\" class=\"dataframe\">\n",
       "  <thead>\n",
       "    <tr style=\"text-align: right;\">\n",
       "      <th></th>\n",
       "      <th>index</th>\n",
       "      <th>Fake</th>\n",
       "      <th>token</th>\n",
       "      <th>frecuencia_token</th>\n",
       "      <th>Odds_ratio_notFake_Fake</th>\n",
       "    </tr>\n",
       "  </thead>\n",
       "  <tbody>\n",
       "    <tr>\n",
       "      <th>0</th>\n",
       "      <td>125805</td>\n",
       "      <td>1</td>\n",
       "      <td>aa</td>\n",
       "      <td>24</td>\n",
       "      <td>1.228091</td>\n",
       "    </tr>\n",
       "    <tr>\n",
       "      <th>1</th>\n",
       "      <td>125806</td>\n",
       "      <td>1</td>\n",
       "      <td>aaa</td>\n",
       "      <td>9</td>\n",
       "      <td>1.412305</td>\n",
       "    </tr>\n",
       "    <tr>\n",
       "      <th>2</th>\n",
       "      <td>125807</td>\n",
       "      <td>1</td>\n",
       "      <td>aaaaaaaand</td>\n",
       "      <td>1</td>\n",
       "      <td>2.259687</td>\n",
       "    </tr>\n",
       "    <tr>\n",
       "      <th>3</th>\n",
       "      <td>125808</td>\n",
       "      <td>1</td>\n",
       "      <td>aaaaackkk</td>\n",
       "      <td>1</td>\n",
       "      <td>2.259687</td>\n",
       "    </tr>\n",
       "    <tr>\n",
       "      <th>4</th>\n",
       "      <td>125809</td>\n",
       "      <td>1</td>\n",
       "      <td>aaaaapkfhk</td>\n",
       "      <td>1</td>\n",
       "      <td>2.259687</td>\n",
       "    </tr>\n",
       "    <tr>\n",
       "      <th>...</th>\n",
       "      <td>...</td>\n",
       "      <td>...</td>\n",
       "      <td>...</td>\n",
       "      <td>...</td>\n",
       "      <td>...</td>\n",
       "    </tr>\n",
       "    <tr>\n",
       "      <th>125656</th>\n",
       "      <td>251605</td>\n",
       "      <td>1</td>\n",
       "      <td>””it</td>\n",
       "      <td>0</td>\n",
       "      <td>0.564922</td>\n",
       "    </tr>\n",
       "    <tr>\n",
       "      <th>125657</th>\n",
       "      <td>251606</td>\n",
       "      <td>1</td>\n",
       "      <td>””when</td>\n",
       "      <td>0</td>\n",
       "      <td>0.564922</td>\n",
       "    </tr>\n",
       "    <tr>\n",
       "      <th>125658</th>\n",
       "      <td>251607</td>\n",
       "      <td>1</td>\n",
       "      <td>•if</td>\n",
       "      <td>0</td>\n",
       "      <td>0.282461</td>\n",
       "    </tr>\n",
       "    <tr>\n",
       "      <th>125659</th>\n",
       "      <td>251608</td>\n",
       "      <td>1</td>\n",
       "      <td>☑️</td>\n",
       "      <td>0</td>\n",
       "      <td>0.282461</td>\n",
       "    </tr>\n",
       "    <tr>\n",
       "      <th>125660</th>\n",
       "      <td>251609</td>\n",
       "      <td>1</td>\n",
       "      <td>➡️</td>\n",
       "      <td>0</td>\n",
       "      <td>0.564922</td>\n",
       "    </tr>\n",
       "  </tbody>\n",
       "</table>\n",
       "<p>125661 rows × 5 columns</p>\n",
       "</div>"
      ],
      "text/plain": [
       "         index  Fake       token  frecuencia_token  Odds_ratio_notFake_Fake\n",
       "0       125805     1          aa                24                 1.228091\n",
       "1       125806     1         aaa                 9                 1.412305\n",
       "2       125807     1  aaaaaaaand                 1                 2.259687\n",
       "3       125808     1   aaaaackkk                 1                 2.259687\n",
       "4       125809     1  aaaaapkfhk                 1                 2.259687\n",
       "...        ...   ...         ...               ...                      ...\n",
       "125656  251605     1        ””it                 0                 0.564922\n",
       "125657  251606     1      ””when                 0                 0.564922\n",
       "125658  251607     1         •if                 0                 0.282461\n",
       "125659  251608     1          ☑️                 0                 0.282461\n",
       "125660  251609     1          ➡️                 0                 0.564922\n",
       "\n",
       "[125661 rows x 5 columns]"
      ]
     },
     "execution_count": 449,
     "metadata": {},
     "output_type": "execute_result"
    }
   ],
   "source": [
    "df0"
   ]
  },
  {
   "cell_type": "code",
   "execution_count": 450,
   "metadata": {},
   "outputs": [
    {
     "data": {
      "text/html": [
       "<div>\n",
       "<style scoped>\n",
       "    .dataframe tbody tr th:only-of-type {\n",
       "        vertical-align: middle;\n",
       "    }\n",
       "\n",
       "    .dataframe tbody tr th {\n",
       "        vertical-align: top;\n",
       "    }\n",
       "\n",
       "    .dataframe thead th {\n",
       "        text-align: right;\n",
       "    }\n",
       "</style>\n",
       "<table border=\"1\" class=\"dataframe\">\n",
       "  <thead>\n",
       "    <tr style=\"text-align: right;\">\n",
       "      <th></th>\n",
       "      <th>index</th>\n",
       "      <th>Fake</th>\n",
       "      <th>token</th>\n",
       "      <th>frecuencia_token</th>\n",
       "      <th>Odds_ratio_notFake_Fake</th>\n",
       "    </tr>\n",
       "  </thead>\n",
       "  <tbody>\n",
       "    <tr>\n",
       "      <th>0</th>\n",
       "      <td>0</td>\n",
       "      <td>0</td>\n",
       "      <td>aa</td>\n",
       "      <td>22</td>\n",
       "      <td>1.228091</td>\n",
       "    </tr>\n",
       "    <tr>\n",
       "      <th>1</th>\n",
       "      <td>1</td>\n",
       "      <td>0</td>\n",
       "      <td>aaa</td>\n",
       "      <td>7</td>\n",
       "      <td>1.412305</td>\n",
       "    </tr>\n",
       "    <tr>\n",
       "      <th>2</th>\n",
       "      <td>2</td>\n",
       "      <td>0</td>\n",
       "      <td>aaaaaaaand</td>\n",
       "      <td>0</td>\n",
       "      <td>2.259687</td>\n",
       "    </tr>\n",
       "    <tr>\n",
       "      <th>3</th>\n",
       "      <td>3</td>\n",
       "      <td>0</td>\n",
       "      <td>aaaaackkk</td>\n",
       "      <td>0</td>\n",
       "      <td>2.259687</td>\n",
       "    </tr>\n",
       "    <tr>\n",
       "      <th>4</th>\n",
       "      <td>4</td>\n",
       "      <td>0</td>\n",
       "      <td>aaaaapkfhk</td>\n",
       "      <td>0</td>\n",
       "      <td>2.259687</td>\n",
       "    </tr>\n",
       "    <tr>\n",
       "      <th>...</th>\n",
       "      <td>...</td>\n",
       "      <td>...</td>\n",
       "      <td>...</td>\n",
       "      <td>...</td>\n",
       "      <td>...</td>\n",
       "    </tr>\n",
       "    <tr>\n",
       "      <th>125656</th>\n",
       "      <td>125800</td>\n",
       "      <td>0</td>\n",
       "      <td>””it</td>\n",
       "      <td>1</td>\n",
       "      <td>0.564922</td>\n",
       "    </tr>\n",
       "    <tr>\n",
       "      <th>125657</th>\n",
       "      <td>125801</td>\n",
       "      <td>0</td>\n",
       "      <td>””when</td>\n",
       "      <td>1</td>\n",
       "      <td>0.564922</td>\n",
       "    </tr>\n",
       "    <tr>\n",
       "      <th>125658</th>\n",
       "      <td>125802</td>\n",
       "      <td>0</td>\n",
       "      <td>•if</td>\n",
       "      <td>3</td>\n",
       "      <td>0.282461</td>\n",
       "    </tr>\n",
       "    <tr>\n",
       "      <th>125659</th>\n",
       "      <td>125803</td>\n",
       "      <td>0</td>\n",
       "      <td>☑️</td>\n",
       "      <td>3</td>\n",
       "      <td>0.282461</td>\n",
       "    </tr>\n",
       "    <tr>\n",
       "      <th>125660</th>\n",
       "      <td>125804</td>\n",
       "      <td>0</td>\n",
       "      <td>➡️</td>\n",
       "      <td>1</td>\n",
       "      <td>0.564922</td>\n",
       "    </tr>\n",
       "  </tbody>\n",
       "</table>\n",
       "<p>125661 rows × 5 columns</p>\n",
       "</div>"
      ],
      "text/plain": [
       "         index  Fake       token  frecuencia_token  Odds_ratio_notFake_Fake\n",
       "0            0     0          aa                22                 1.228091\n",
       "1            1     0         aaa                 7                 1.412305\n",
       "2            2     0  aaaaaaaand                 0                 2.259687\n",
       "3            3     0   aaaaackkk                 0                 2.259687\n",
       "4            4     0  aaaaapkfhk                 0                 2.259687\n",
       "...        ...   ...         ...               ...                      ...\n",
       "125656  125800     0        ””it                 1                 0.564922\n",
       "125657  125801     0      ””when                 1                 0.564922\n",
       "125658  125802     0         •if                 3                 0.282461\n",
       "125659  125803     0          ☑️                 3                 0.282461\n",
       "125660  125804     0          ➡️                 1                 0.564922\n",
       "\n",
       "[125661 rows x 5 columns]"
      ]
     },
     "execution_count": 450,
     "metadata": {},
     "output_type": "execute_result"
    }
   ],
   "source": [
    "df1"
   ]
  },
  {
   "cell_type": "code",
   "execution_count": 460,
   "metadata": {},
   "outputs": [],
   "source": [
    "pd.set_option('display.max_rows', None)"
   ]
  },
  {
   "cell_type": "code",
   "execution_count": 463,
   "metadata": {},
   "outputs": [
    {
     "data": {
      "text/html": [
       "<div>\n",
       "<style scoped>\n",
       "    .dataframe tbody tr th:only-of-type {\n",
       "        vertical-align: middle;\n",
       "    }\n",
       "\n",
       "    .dataframe tbody tr th {\n",
       "        vertical-align: top;\n",
       "    }\n",
       "\n",
       "    .dataframe thead th {\n",
       "        text-align: right;\n",
       "    }\n",
       "</style>\n",
       "<table border=\"1\" class=\"dataframe\">\n",
       "  <thead>\n",
       "    <tr style=\"text-align: right;\">\n",
       "      <th></th>\n",
       "      <th>index</th>\n",
       "      <th>Fake</th>\n",
       "      <th>token</th>\n",
       "      <th>frecuencia_token</th>\n",
       "      <th>Odds_ratio_notFake_Fake</th>\n",
       "    </tr>\n",
       "  </thead>\n",
       "  <tbody>\n",
       "    <tr>\n",
       "      <th>0</th>\n",
       "      <td>204328</td>\n",
       "      <td>1</td>\n",
       "      <td>pic</td>\n",
       "      <td>6331</td>\n",
       "      <td>2384.723316</td>\n",
       "    </tr>\n",
       "    <tr>\n",
       "      <th>1</th>\n",
       "      <td>165458</td>\n",
       "      <td>1</td>\n",
       "      <td>getty</td>\n",
       "      <td>4141</td>\n",
       "      <td>2339.906185</td>\n",
       "    </tr>\n",
       "    <tr>\n",
       "      <th>2</th>\n",
       "      <td>209403</td>\n",
       "      <td>1</td>\n",
       "      <td>quot</td>\n",
       "      <td>987</td>\n",
       "      <td>1116.285519</td>\n",
       "    </tr>\n",
       "    <tr>\n",
       "      <th>3</th>\n",
       "      <td>126699</td>\n",
       "      <td>1</td>\n",
       "      <td>acr</td>\n",
       "      <td>724</td>\n",
       "      <td>819.136641</td>\n",
       "    </tr>\n",
       "    <tr>\n",
       "      <th>4</th>\n",
       "      <td>161473</td>\n",
       "      <td>1</td>\n",
       "      <td>filessupport</td>\n",
       "      <td>594</td>\n",
       "      <td>672.256968</td>\n",
       "    </tr>\n",
       "    <tr>\n",
       "      <th>5</th>\n",
       "      <td>162169</td>\n",
       "      <td>1</td>\n",
       "      <td>flickr</td>\n",
       "      <td>588</td>\n",
       "      <td>665.477906</td>\n",
       "    </tr>\n",
       "    <tr>\n",
       "      <th>6</th>\n",
       "      <td>161913</td>\n",
       "      <td>1</td>\n",
       "      <td>fjs</td>\n",
       "      <td>522</td>\n",
       "      <td>590.908225</td>\n",
       "    </tr>\n",
       "    <tr>\n",
       "      <th>7</th>\n",
       "      <td>179089</td>\n",
       "      <td>1</td>\n",
       "      <td>js</td>\n",
       "      <td>1036</td>\n",
       "      <td>585.823929</td>\n",
       "    </tr>\n",
       "    <tr>\n",
       "      <th>8</th>\n",
       "      <td>222827</td>\n",
       "      <td>1</td>\n",
       "      <td>somodevilla</td>\n",
       "      <td>466</td>\n",
       "      <td>527.636981</td>\n",
       "    </tr>\n",
       "    <tr>\n",
       "      <th>9</th>\n",
       "      <td>236435</td>\n",
       "      <td>1</td>\n",
       "      <td>var</td>\n",
       "      <td>395</td>\n",
       "      <td>447.418083</td>\n",
       "    </tr>\n",
       "  </tbody>\n",
       "</table>\n",
       "</div>"
      ],
      "text/plain": [
       "    index  Fake         token  frecuencia_token  Odds_ratio_notFake_Fake\n",
       "0  204328     1           pic              6331              2384.723316\n",
       "1  165458     1         getty              4141              2339.906185\n",
       "2  209403     1          quot               987              1116.285519\n",
       "3  126699     1           acr               724               819.136641\n",
       "4  161473     1  filessupport               594               672.256968\n",
       "5  162169     1        flickr               588               665.477906\n",
       "6  161913     1           fjs               522               590.908225\n",
       "7  179089     1            js              1036               585.823929\n",
       "8  222827     1   somodevilla               466               527.636981\n",
       "9  236435     1           var               395               447.418083"
      ]
     },
     "execution_count": 463,
     "metadata": {},
     "output_type": "execute_result"
    }
   ],
   "source": [
    "df0.sort_values(by=[\"Odds_ratio_notFake_Fake\"], ascending=False).reset_index(drop=True).head(10)"
   ]
  },
  {
   "cell_type": "code",
   "execution_count": 464,
   "metadata": {},
   "outputs": [
    {
     "data": {
      "text/html": [
       "<div>\n",
       "<style scoped>\n",
       "    .dataframe tbody tr th:only-of-type {\n",
       "        vertical-align: middle;\n",
       "    }\n",
       "\n",
       "    .dataframe tbody tr th {\n",
       "        vertical-align: top;\n",
       "    }\n",
       "\n",
       "    .dataframe thead th {\n",
       "        text-align: right;\n",
       "    }\n",
       "</style>\n",
       "<table border=\"1\" class=\"dataframe\">\n",
       "  <thead>\n",
       "    <tr style=\"text-align: right;\">\n",
       "      <th></th>\n",
       "      <th>index</th>\n",
       "      <th>Fake</th>\n",
       "      <th>token</th>\n",
       "      <th>frecuencia_token</th>\n",
       "      <th>Odds_ratio_notFake_Fake</th>\n",
       "    </tr>\n",
       "  </thead>\n",
       "  <tbody>\n",
       "    <tr>\n",
       "      <th>0</th>\n",
       "      <td>106864</td>\n",
       "      <td>0</td>\n",
       "      <td>trump’s</td>\n",
       "      <td>11629</td>\n",
       "      <td>0.000097</td>\n",
       "    </tr>\n",
       "    <tr>\n",
       "      <th>1</th>\n",
       "      <td>121757</td>\n",
       "      <td>0</td>\n",
       "      <td>“i</td>\n",
       "      <td>3987</td>\n",
       "      <td>0.000283</td>\n",
       "    </tr>\n",
       "    <tr>\n",
       "      <th>2</th>\n",
       "      <td>124914</td>\n",
       "      <td>0</td>\n",
       "      <td>“the</td>\n",
       "      <td>3881</td>\n",
       "      <td>0.000291</td>\n",
       "    </tr>\n",
       "    <tr>\n",
       "      <th>3</th>\n",
       "      <td>125532</td>\n",
       "      <td>0</td>\n",
       "      <td>“we</td>\n",
       "      <td>2962</td>\n",
       "      <td>0.000381</td>\n",
       "    </tr>\n",
       "    <tr>\n",
       "      <th>4</th>\n",
       "      <td>72989</td>\n",
       "      <td>0</td>\n",
       "      <td>obama’s</td>\n",
       "      <td>2132</td>\n",
       "      <td>0.000530</td>\n",
       "    </tr>\n",
       "    <tr>\n",
       "      <th>5</th>\n",
       "      <td>28490</td>\n",
       "      <td>0</td>\n",
       "      <td>don’t</td>\n",
       "      <td>1949</td>\n",
       "      <td>0.000579</td>\n",
       "    </tr>\n",
       "    <tr>\n",
       "      <th>6</th>\n",
       "      <td>51184</td>\n",
       "      <td>0</td>\n",
       "      <td>it’s</td>\n",
       "      <td>1778</td>\n",
       "      <td>0.000635</td>\n",
       "    </tr>\n",
       "    <tr>\n",
       "      <th>7</th>\n",
       "      <td>18791</td>\n",
       "      <td>0</td>\n",
       "      <td>clinton’s</td>\n",
       "      <td>1604</td>\n",
       "      <td>0.000704</td>\n",
       "    </tr>\n",
       "    <tr>\n",
       "      <th>8</th>\n",
       "      <td>124942</td>\n",
       "      <td>0</td>\n",
       "      <td>“this</td>\n",
       "      <td>1340</td>\n",
       "      <td>0.000843</td>\n",
       "    </tr>\n",
       "    <tr>\n",
       "      <th>9</th>\n",
       "      <td>122120</td>\n",
       "      <td>0</td>\n",
       "      <td>“it</td>\n",
       "      <td>1255</td>\n",
       "      <td>0.000900</td>\n",
       "    </tr>\n",
       "  </tbody>\n",
       "</table>\n",
       "</div>"
      ],
      "text/plain": [
       "    index  Fake      token  frecuencia_token  Odds_ratio_notFake_Fake\n",
       "0  106864     0    trump’s             11629                 0.000097\n",
       "1  121757     0         “i              3987                 0.000283\n",
       "2  124914     0       “the              3881                 0.000291\n",
       "3  125532     0        “we              2962                 0.000381\n",
       "4   72989     0    obama’s              2132                 0.000530\n",
       "5   28490     0      don’t              1949                 0.000579\n",
       "6   51184     0       it’s              1778                 0.000635\n",
       "7   18791     0  clinton’s              1604                 0.000704\n",
       "8  124942     0      “this              1340                 0.000843\n",
       "9  122120     0        “it              1255                 0.000900"
      ]
     },
     "execution_count": 464,
     "metadata": {},
     "output_type": "execute_result"
    }
   ],
   "source": [
    "df1.sort_values(by=[\"Odds_ratio_notFake_Fake\"], ascending=True).reset_index(drop=True).head(10)"
   ]
  },
  {
   "cell_type": "markdown",
   "metadata": {},
   "source": []
  },
  {
   "cell_type": "code",
   "execution_count": 453,
   "metadata": {},
   "outputs": [],
   "source": [
    "### Alternativa computacionalmente mas costosa:\n",
    "\n",
    "# for token , i in zip( df_fake_sort_sin_StopWords['token'] , range(0, len(df_fake_sort_sin_StopWords)) ):\n",
    "\n",
    "   # df_fake_sort_sin_StopWords['Odds_ratio_notFake_Fake'][i] = float( (n_k0(token) + 1) / (N0 + 1) ) / float( (n_k1(token) + 1) / (N1 + 1) )\n",
    "\n",
    "# for token , i in zip( df_no_fake_sort_sin_StopWords['token'] , range(0, len(df_no_fake_sort_sin_StopWords)) ):\n",
    "\n",
    "   # df_no_fake_sort_sin_StopWords['Odds_ratio_notFake_Fake'][i] = float( (n_k0(token) + 1) / (N0 + 1) ) / float( (n_k1(token) + 1) / (N1 + 1) )"
   ]
  }
 ],
 "metadata": {
  "kernelspec": {
   "display_name": "Python 3.10.0 64-bit",
   "language": "python",
   "name": "python3"
  },
  "language_info": {
   "codemirror_mode": {
    "name": "ipython",
    "version": 3
   },
   "file_extension": ".py",
   "mimetype": "text/x-python",
   "name": "python",
   "nbconvert_exporter": "python",
   "pygments_lexer": "ipython3",
   "version": "3.10.0"
  },
  "orig_nbformat": 4,
  "vscode": {
   "interpreter": {
    "hash": "c63d8c7d738c2960218a10995aedf0a7f67a49a231e71037adf0440953cdb45b"
   }
  }
 },
 "nbformat": 4,
 "nbformat_minor": 2
}
