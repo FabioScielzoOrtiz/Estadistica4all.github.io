{
 "cells": [
  {
   "cell_type": "code",
   "execution_count": 1,
   "metadata": {},
   "outputs": [],
   "source": [
    "import pandas as pd"
   ]
  },
  {
   "cell_type": "code",
   "execution_count": 2,
   "metadata": {},
   "outputs": [],
   "source": [
    "Fake_News_Data_1 = pd.read_csv('Fake_News_Data_1.csv')\n",
    "Fake_News_Data_2 = pd.read_csv('Fake_News_Data_2.csv')\n",
    "Fake_News_Data_3 = pd.read_csv('Fake_News_Data_3.csv')\n",
    "Fake_News_Data_4 = pd.read_csv('Fake_News_Data_4.csv')\n",
    "Fake_News_Data_5 = pd.read_csv('Fake_News_Data_5.csv')\n",
    "Fake_News_Data_6 = pd.read_csv('Fake_News_Data_6.csv')\n",
    "Fake_News_Data_7 = pd.read_csv('Fake_News_Data_7.csv')\n",
    "Fake_News_Data_8 = pd.read_csv('Fake_News_Data_8.csv')\n",
    "Fake_News_Data_9 = pd.read_csv('Fake_News_Data_9.csv')\n",
    "Fake_News_Data_10 = pd.read_csv('Fake_News_Data_10.csv')\n",
    "Fake_News_Data_11 = pd.read_csv('Fake_News_Data_11.csv')\n",
    "Fake_News_Data_12 = pd.read_csv('Fake_News_Data_12.csv')\n",
    "Fake_News_Data_13 = pd.read_csv('Fake_News_Data_13.csv')\n",
    "Fake_News_Data_14 = pd.read_csv('Fake_News_Data_14.csv')"
   ]
  },
  {
   "cell_type": "code",
   "execution_count": 3,
   "metadata": {},
   "outputs": [],
   "source": [
    "Fake_News_Data = pd.concat([Fake_News_Data_1, Fake_News_Data_2, Fake_News_Data_3, Fake_News_Data_4, Fake_News_Data_5, Fake_News_Data_6, Fake_News_Data_7, Fake_News_Data_8, Fake_News_Data_9, Fake_News_Data_10, Fake_News_Data_11, Fake_News_Data_12, Fake_News_Data_13, Fake_News_Data_14])"
   ]
  },
  {
   "cell_type": "code",
   "execution_count": 4,
   "metadata": {},
   "outputs": [],
   "source": [
    "Fake_News_Data = Fake_News_Data.iloc[ : , 1: ]"
   ]
  },
  {
   "cell_type": "code",
   "execution_count": 5,
   "metadata": {},
   "outputs": [],
   "source": [
    "Fake_News_Data.index = range(0, len(Fake_News_Data))"
   ]
  },
  {
   "cell_type": "code",
   "execution_count": 6,
   "metadata": {},
   "outputs": [],
   "source": [
    "Fake_News_Data = Fake_News_Data.rename(columns={'label': 'fake'})"
   ]
  },
  {
   "cell_type": "code",
   "execution_count": 7,
   "metadata": {},
   "outputs": [],
   "source": [
    "Fake_News_Data['fake'] = Fake_News_Data['fake'].astype('category')"
   ]
  },
  {
   "cell_type": "markdown",
   "metadata": {},
   "source": []
  },
  {
   "cell_type": "markdown",
   "metadata": {},
   "source": [
    "Dataset contains three columns: Title (about the text news heading); Text (about the news content); and fake (0 = yes and 1 = no)"
   ]
  },
  {
   "cell_type": "code",
   "execution_count": 8,
   "metadata": {},
   "outputs": [
    {
     "data": {
      "text/html": [
       "<div>\n",
       "<style scoped>\n",
       "    .dataframe tbody tr th:only-of-type {\n",
       "        vertical-align: middle;\n",
       "    }\n",
       "\n",
       "    .dataframe tbody tr th {\n",
       "        vertical-align: top;\n",
       "    }\n",
       "\n",
       "    .dataframe thead th {\n",
       "        text-align: right;\n",
       "    }\n",
       "</style>\n",
       "<table border=\"1\" class=\"dataframe\">\n",
       "  <thead>\n",
       "    <tr style=\"text-align: right;\">\n",
       "      <th></th>\n",
       "      <th>title</th>\n",
       "      <th>text</th>\n",
       "      <th>fake</th>\n",
       "    </tr>\n",
       "  </thead>\n",
       "  <tbody>\n",
       "    <tr>\n",
       "      <th>0</th>\n",
       "      <td>LAW ENFORCEMENT ON HIGH ALERT Following Threat...</td>\n",
       "      <td>No comment is expected from Barack Obama Membe...</td>\n",
       "      <td>1</td>\n",
       "    </tr>\n",
       "    <tr>\n",
       "      <th>1</th>\n",
       "      <td>NaN</td>\n",
       "      <td>Did they post their votes for Hillary already?</td>\n",
       "      <td>1</td>\n",
       "    </tr>\n",
       "    <tr>\n",
       "      <th>2</th>\n",
       "      <td>UNBELIEVABLE! OBAMA’S ATTORNEY GENERAL SAYS MO...</td>\n",
       "      <td>Now, most of the demonstrators gathered last ...</td>\n",
       "      <td>1</td>\n",
       "    </tr>\n",
       "    <tr>\n",
       "      <th>3</th>\n",
       "      <td>Bobby Jindal, raised Hindu, uses story of Chri...</td>\n",
       "      <td>A dozen politically active pastors came here f...</td>\n",
       "      <td>0</td>\n",
       "    </tr>\n",
       "    <tr>\n",
       "      <th>4</th>\n",
       "      <td>SATAN 2: Russia unvelis an image of its terrif...</td>\n",
       "      <td>The RS-28 Sarmat missile, dubbed Satan 2, will...</td>\n",
       "      <td>1</td>\n",
       "    </tr>\n",
       "  </tbody>\n",
       "</table>\n",
       "</div>"
      ],
      "text/plain": [
       "                                               title  \\\n",
       "0  LAW ENFORCEMENT ON HIGH ALERT Following Threat...   \n",
       "1                                                NaN   \n",
       "2  UNBELIEVABLE! OBAMA’S ATTORNEY GENERAL SAYS MO...   \n",
       "3  Bobby Jindal, raised Hindu, uses story of Chri...   \n",
       "4  SATAN 2: Russia unvelis an image of its terrif...   \n",
       "\n",
       "                                                text fake  \n",
       "0  No comment is expected from Barack Obama Membe...    1  \n",
       "1     Did they post their votes for Hillary already?    1  \n",
       "2   Now, most of the demonstrators gathered last ...    1  \n",
       "3  A dozen politically active pastors came here f...    0  \n",
       "4  The RS-28 Sarmat missile, dubbed Satan 2, will...    1  "
      ]
     },
     "execution_count": 8,
     "metadata": {},
     "output_type": "execute_result"
    }
   ],
   "source": [
    "Fake_News_Data.head()"
   ]
  },
  {
   "cell_type": "code",
   "execution_count": 9,
   "metadata": {},
   "outputs": [
    {
     "data": {
      "text/html": [
       "<div>\n",
       "<style scoped>\n",
       "    .dataframe tbody tr th:only-of-type {\n",
       "        vertical-align: middle;\n",
       "    }\n",
       "\n",
       "    .dataframe tbody tr th {\n",
       "        vertical-align: top;\n",
       "    }\n",
       "\n",
       "    .dataframe thead th {\n",
       "        text-align: right;\n",
       "    }\n",
       "</style>\n",
       "<table border=\"1\" class=\"dataframe\">\n",
       "  <thead>\n",
       "    <tr style=\"text-align: right;\">\n",
       "      <th></th>\n",
       "      <th>title</th>\n",
       "      <th>text</th>\n",
       "      <th>fake</th>\n",
       "    </tr>\n",
       "  </thead>\n",
       "  <tbody>\n",
       "    <tr>\n",
       "      <th>count</th>\n",
       "      <td>66622</td>\n",
       "      <td>67098</td>\n",
       "      <td>67133</td>\n",
       "    </tr>\n",
       "    <tr>\n",
       "      <th>unique</th>\n",
       "      <td>58583</td>\n",
       "      <td>58875</td>\n",
       "      <td>2</td>\n",
       "    </tr>\n",
       "    <tr>\n",
       "      <th>top</th>\n",
       "      <td>Factbox: Trump fills top jobs for his administ...</td>\n",
       "      <td></td>\n",
       "      <td>1</td>\n",
       "    </tr>\n",
       "    <tr>\n",
       "      <th>freq</th>\n",
       "      <td>13</td>\n",
       "      <td>683</td>\n",
       "      <td>34568</td>\n",
       "    </tr>\n",
       "  </tbody>\n",
       "</table>\n",
       "</div>"
      ],
      "text/plain": [
       "                                                    title   text   fake\n",
       "count                                               66622  67098  67133\n",
       "unique                                              58583  58875      2\n",
       "top     Factbox: Trump fills top jobs for his administ...             1\n",
       "freq                                                   13    683  34568"
      ]
     },
     "execution_count": 9,
     "metadata": {},
     "output_type": "execute_result"
    }
   ],
   "source": [
    "Fake_News_Data.describe(include='all')"
   ]
  },
  {
   "cell_type": "code",
   "execution_count": 10,
   "metadata": {},
   "outputs": [
    {
     "data": {
      "text/plain": [
       "title    511\n",
       "text      35\n",
       "fake       0\n",
       "dtype: int64"
      ]
     },
     "execution_count": 10,
     "metadata": {},
     "output_type": "execute_result"
    }
   ],
   "source": [
    "Fake_News_Data.isnull().sum()"
   ]
  },
  {
   "cell_type": "code",
   "execution_count": 11,
   "metadata": {},
   "outputs": [],
   "source": [
    "Fake_News_Data = Fake_News_Data.dropna(subset=['text'])"
   ]
  },
  {
   "cell_type": "code",
   "execution_count": 12,
   "metadata": {},
   "outputs": [
    {
     "data": {
      "text/plain": [
       "title    511\n",
       "text       0\n",
       "fake       0\n",
       "dtype: int64"
      ]
     },
     "execution_count": 12,
     "metadata": {},
     "output_type": "execute_result"
    }
   ],
   "source": [
    "Fake_News_Data.isnull().sum()"
   ]
  },
  {
   "cell_type": "code",
   "execution_count": 13,
   "metadata": {},
   "outputs": [],
   "source": [
    "## Alternativa mucho mas costosa computacionalmente\n",
    "\n",
    "# for i in range(0, len(Fake_News_Data)):\n",
    "\n",
    "   #  if Fake_News_Data['text'].isnull()[i] == True :\n",
    "\n",
    "   #     Fake_News_Data.drop([i], axis=0)"
   ]
  },
  {
   "cell_type": "code",
   "execution_count": 14,
   "metadata": {},
   "outputs": [],
   "source": [
    "Fake_News_Data.index = range(0, len(Fake_News_Data))"
   ]
  },
  {
   "cell_type": "code",
   "execution_count": 15,
   "metadata": {},
   "outputs": [],
   "source": [
    "import numpy as np\n",
    "\n",
    "import seaborn as sns\n",
    "import matplotlib as mpl\n",
    "import matplotlib.pyplot as plt\n",
    "\n",
    "sns.set(rc={'figure.figsize':(8,8)})"
   ]
  },
  {
   "cell_type": "code",
   "execution_count": 16,
   "metadata": {},
   "outputs": [],
   "source": [
    "prop_Fake_yes = len( Fake_News_Data.loc[ Fake_News_Data['fake']== 0 , :] ) / len(Fake_News_Data)\n",
    "\n",
    "prop_Fake_no = len( Fake_News_Data.loc[ Fake_News_Data['fake']== 1 , :] ) / len(Fake_News_Data)"
   ]
  },
  {
   "cell_type": "code",
   "execution_count": 17,
   "metadata": {},
   "outputs": [
    {
     "name": "stderr",
     "output_type": "stream",
     "text": [
      "C:\\Users\\Usuario\\AppData\\Local\\Temp\\ipykernel_19576\\1704241185.py:12: SettingWithCopyWarning: \n",
      "A value is trying to be set on a copy of a slice from a DataFrame\n",
      "\n",
      "See the caveats in the documentation: https://pandas.pydata.org/pandas-docs/stable/user_guide/indexing.html#returning-a-view-versus-a-copy\n",
      "  Fake_News_Data['proportion_Fakes'][i] = prop_Fake_no\n"
     ]
    }
   ],
   "source": [
    "Fake_News_Data['proportion_Fakes'] = 0\n",
    "\n",
    "\n",
    "for i in range(0, len(Fake_News_Data)):\n",
    "\n",
    "    if ( Fake_News_Data['fake'] == 0 )[i] :\n",
    "\n",
    "        Fake_News_Data['proportion_Fakes'][i] = prop_Fake_yes\n",
    "\n",
    "    else :\n",
    "\n",
    "        Fake_News_Data['proportion_Fakes'][i] = prop_Fake_no"
   ]
  },
  {
   "cell_type": "code",
   "execution_count": 18,
   "metadata": {},
   "outputs": [
    {
     "data": {
      "text/plain": [
       "[Text(0.5, 0, 'Fakes'), Text(0, 0.5, 'proportion')]"
      ]
     },
     "execution_count": 18,
     "metadata": {},
     "output_type": "execute_result"
    },
    {
     "data": {
      "image/png": "[encoded data removed]",
      "text/plain": [
       "<Figure size 432x288 with 1 Axes>"
      ]
     },
     "metadata": {
      "needs_background": "light"
     },
     "output_type": "display_data"
    }
   ],
   "source": [
    "p1 = sns.barplot(x='fake', y='proportion_Fakes', data=Fake_News_Data, palette=\"Spectral\") \n",
    "p1.set_yticks( np.arange(0, 0.85, 0.1)  )\n",
    "p1.set_xticklabels(['Yes', 'No'])\n",
    "p1.axes.set(xlabel='Fakes', ylabel='proportion')"
   ]
  },
  {
   "cell_type": "code",
   "execution_count": 19,
   "metadata": {},
   "outputs": [
    {
     "data": {
      "text/plain": [
       "[0.48533488330501656, 0.5146651166949835]"
      ]
     },
     "execution_count": 19,
     "metadata": {},
     "output_type": "execute_result"
    }
   ],
   "source": [
    "[prop_Fake_yes , prop_Fake_no]"
   ]
  },
  {
   "cell_type": "code",
   "execution_count": 20,
   "metadata": {},
   "outputs": [],
   "source": [
    "Fake_News_Data['word_count'] = Fake_News_Data['text'].str.split().str.len()"
   ]
  },
  {
   "cell_type": "code",
   "execution_count": 21,
   "metadata": {},
   "outputs": [
    {
     "data": {
      "text/plain": [
       "fake\n",
       "0    577.107969\n",
       "1    506.322040\n",
       "Name: word_count, dtype: float64"
      ]
     },
     "execution_count": 21,
     "metadata": {},
     "output_type": "execute_result"
    }
   ],
   "source": [
    "Fake_News_Data.groupby('fake')['word_count'].mean()"
   ]
  },
  {
   "cell_type": "code",
   "execution_count": 22,
   "metadata": {},
   "outputs": [
    {
     "data": {
      "image/png": "[encoded data removed]",
      "text/plain": [
       "<Figure size 864x504 with 2 Axes>"
      ]
     },
     "metadata": {
      "needs_background": "light"
     },
     "output_type": "display_data"
    }
   ],
   "source": [
    "fig, axs = plt.subplots(1, 2, figsize=(12, 7))\n",
    "\n",
    "p1 = sns.histplot(x=Fake_News_Data[Fake_News_Data['fake']==0]['word_count'], stat=\"proportion\", bins=20, color=\"blue\", ax=axs[0] )\n",
    "p1.set_xticks( range(int(Fake_News_Data['word_count'].min()) , int(Fake_News_Data['word_count'].max() ) , 8000) )\n",
    "p1.set_yticks( np.arange(0, 1, 0.1)  )\n",
    "\n",
    "p2 = sns.histplot(x=Fake_News_Data[Fake_News_Data['fake']==1]['word_count'], stat=\"proportion\", bins=20, color=\"red\" , ax=axs[1])\n",
    "p2.set_xticks( range(int(Fake_News_Data['word_count'].min()) , int(Fake_News_Data['word_count'].max() ) , 8000) )\n",
    "p2.set_yticks( np.arange(0, 1, 0.1)  )\n",
    "\n",
    "plt.show()"
   ]
  },
  {
   "cell_type": "code",
   "execution_count": 23,
   "metadata": {},
   "outputs": [],
   "source": [
    "from sklearn.feature_extraction.text import CountVectorizer"
   ]
  },
  {
   "cell_type": "code",
   "execution_count": 24,
   "metadata": {},
   "outputs": [],
   "source": [
    "CountVect = CountVectorizer(stop_words='english')\n",
    "X_train_counts = CountVect.fit_transform(Fake_News_Data['text'])"
   ]
  },
  {
   "cell_type": "code",
   "execution_count": 25,
   "metadata": {},
   "outputs": [
    {
     "data": {
      "text/plain": [
       "(67098, 234143)"
      ]
     },
     "execution_count": 25,
     "metadata": {},
     "output_type": "execute_result"
    }
   ],
   "source": [
    "X_train_counts.shape"
   ]
  },
  {
   "cell_type": "code",
   "execution_count": 26,
   "metadata": {},
   "outputs": [
    {
     "data": {
      "text/plain": [
       "44043"
      ]
     },
     "execution_count": 26,
     "metadata": {},
     "output_type": "execute_result"
    }
   ],
   "source": [
    "CountVect.vocabulary_.get('comment')"
   ]
  },
  {
   "cell_type": "code",
   "execution_count": 27,
   "metadata": {},
   "outputs": [
    {
     "data": {
      "text/plain": [
       "set()"
      ]
     },
     "execution_count": 27,
     "metadata": {},
     "output_type": "execute_result"
    }
   ],
   "source": [
    "CountVect.stop_words_"
   ]
  },
  {
   "cell_type": "markdown",
   "metadata": {},
   "source": []
  },
  {
   "cell_type": "code",
   "execution_count": 28,
   "metadata": {},
   "outputs": [],
   "source": [
    "def limpiar_tokenizar(texto):\n",
    "\n",
    "    import re\n",
    "    \n",
    "    '''\n",
    "    Esta función limpia y tokeniza el texto en palabras individuales.\n",
    "    El orden en el que se va limpiando el texto no es arbitrario.\n",
    "    El listado de signos de puntuación se ha obtenido de: print(string.punctuation)\n",
    "    y re.escape(string.punctuation)\n",
    "    '''\n",
    "    \n",
    "    # Se convierte todo el texto a minúsculas\n",
    "\n",
    "    nuevo_texto = texto.lower()\n",
    "    \n",
    "    # Eliminación de páginas web (palabras que empiezan por \"http\")\n",
    "    \n",
    "    nuevo_texto = re.sub('http\\S+', ' ', nuevo_texto)\n",
    "    \n",
    "    # Eliminación de signos de puntuación\n",
    "    \n",
    "    regex = '[\\\\!\\\\\"\\\\#\\\\$\\\\%\\\\&\\\\\\'\\\\(\\\\)\\\\*\\\\+\\\\,\\\\-\\\\.\\\\/\\\\:\\\\;\\\\<\\\\=\\\\>\\\\?\\\\@\\\\[\\\\\\\\\\\\]\\\\^_\\\\`\\\\{\\\\|\\\\}\\\\~]'\n",
    "    \n",
    "    nuevo_texto = re.sub(regex , ' ', nuevo_texto)\n",
    "    \n",
    "    # Eliminación de números\n",
    "    \n",
    "    nuevo_texto = re.sub(\"\\d+\", ' ', nuevo_texto)\n",
    "    \n",
    "    # Eliminación de espacios en blanco múltiples\n",
    "    \n",
    "    nuevo_texto = re.sub(\"\\\\s+\", ' ', nuevo_texto)\n",
    "    \n",
    "    # Tokenización por palabras individuales\n",
    "    \n",
    "    nuevo_texto = nuevo_texto.split(sep = ' ')\n",
    "    \n",
    "    # Eliminación de tokens con una longitud <= 1\n",
    "    \n",
    "    nuevo_texto = [token for token in nuevo_texto if len(token) >=  2]\n",
    "    \n",
    "    return(nuevo_texto)"
   ]
  },
  {
   "cell_type": "code",
   "execution_count": 29,
   "metadata": {},
   "outputs": [
    {
     "name": "stdout",
     "output_type": "stream",
     "text": [
      "['esto', 'es', 'ejemplo', 'de', 'limpieza', 'de', 'texto', 'cienciadedatos', 'textmining']\n"
     ]
    }
   ],
   "source": [
    "\n",
    "test = \"Esto es 1 ejemplo de l'limpieza de6 TEXTO  https://t.co/rnHPgyhx4Z @cienciadedatos #textmining\"\n",
    "\n",
    "print(limpiar_tokenizar(texto=test))"
   ]
  },
  {
   "cell_type": "code",
   "execution_count": 30,
   "metadata": {},
   "outputs": [
    {
     "data": {
      "text/plain": [
       "'No comment is expected from Barack Obama Members of the #FYF911 or #FukYoFlag and #BlackLivesMatter movements called for the lynching and hanging of white people and cops. They encouraged others on a radio show Tuesday night to  turn the tide  and kill white people and cops to send a message about the killing of black people in America.One of the F***YoFlag organizers is called  Sunshine.  She has a radio blog show hosted from Texas called,  Sunshine s F***ing Opinion Radio Show. A snapshot of her #FYF911 @LOLatWhiteFear Twitter page at 9:53 p.m. shows that she was urging supporters to  Call now!! #fyf911 tonight we continue to dismantle the illusion of white Below is a SNAPSHOT Twitter Radio Call Invite   #FYF911The radio show aired at 10:00 p.m. eastern standard time.During the show, callers clearly call for  lynching  and  killing  of white people.A 2:39 minute clip from the radio show can be heard here. It was provided to Breitbart Texas by someone who would like to be referred to as  Hannibal.  He has already received death threats as a result of interrupting #FYF911 conference calls.An unidentified black man said  when those mother f**kers are by themselves, that s when when we should start f***ing them up. Like they do us, when a bunch of them ni**ers takin  one of us out, that s how we should roll up.  He said,  Cause we already roll up in gangs anyway. There should be six or seven black mother f**ckers, see that white person, and then lynch their ass. Let s turn the tables. They conspired that if  cops started losing people,  then  there will be a state of emergency. He speculated that one of two things would happen,  a big-ass [R s?????] war,  or  ni**ers, they are going to start backin  up. We are already getting killed out here so what the f**k we got to lose? Sunshine could be heard saying,  Yep, that s true. That s so f**king true. He said,  We need to turn the tables on them. Our kids are getting shot out here. Somebody needs to become a sacrifice on their side.He said,  Everybody ain t down for that s**t, or whatever, but like I say, everybody has a different position of war.  He continued,  Because they don t give a f**k anyway.  He said again,  We might as well utilized them for that s**t and turn the tables on these n**ers. He said, that way  we can start lookin  like we ain t havin  that many casualties, and there can be more causalities on their side instead of ours. They are out their killing black people, black lives don t matter, that s what those mother f**kers   so we got to make it matter to them. Find a mother f**ker that is alone. Snap his ass, and then f***in hang him from a damn tree. Take a picture of it and then send it to the mother f**kers. We  just need one example,  and  then people will start watchin .  This will turn the tables on s**t, he said. He said this will start  a trickle-down effect.  He said that when one white person is hung and then they are just  flat-hanging,  that will start the  trickle-down effect.  He continued,  Black people are good at starting trends. He said that was how  to get the upper-hand. Another black man spoke up saying they needed to kill  cops that are killing us. The first black male said,  That will be the best method right there. Breitbart Texas previously reported how Sunshine was upset when  racist white people  infiltrated and disrupted one of her conference calls. She subsequently released the phone number of one of the infiltrators. The veteran immediately started receiving threatening calls.One of the #F***YoFlag movement supporters allegedly told a veteran who infiltrated their publicly posted conference call,  We are going to rape and gut your pregnant wife, and your f***ing piece of sh*t unborn creature will be hung from a tree. Breitbart Texas previously encountered Sunshine at a Sandra Bland protest at the Waller County Jail in Texas, where she said all white people should be killed. She told journalists and photographers,  You see this nappy-ass hair on my head?   That means I am one of those more militant Negroes.  She said she was at the protest because  these redneck mother-f**kers murdered Sandra Bland because she had nappy hair like me. #FYF911 black radicals say they will be holding the  imperial powers  that are actually responsible for the terrorist attacks on September 11th accountable on that day, as reported by Breitbart Texas. There are several websites and Twitter handles for the movement. Palmetto Star  describes himself as one of the head organizers. He said in a YouTube video that supporters will be burning their symbols of  the illusion of their superiority,  their  false white supremacy,  like the American flag, the British flag, police uniforms, and Ku Klux Klan hoods.Sierra McGrone or  Nocturnus Libertus  posted,  you too can help a young Afrikan clean their a** with the rag of oppression.  She posted two photos, one that appears to be herself, and a photo of a black man, wiping their naked butts with the American flag.For entire story: Breitbart News'"
      ]
     },
     "execution_count": 30,
     "metadata": {},
     "output_type": "execute_result"
    }
   ],
   "source": [
    "Fake_News_Data['text'][0]"
   ]
  },
  {
   "cell_type": "code",
   "execution_count": 31,
   "metadata": {},
   "outputs": [
    {
     "name": "stdout",
     "output_type": "stream",
     "text": [
      "['no', 'comment', 'is', 'expected', 'from', 'barack', 'obama', 'members', 'of', 'the', 'fyf', 'or', 'fukyoflag', 'and', 'blacklivesmatter', 'movements', 'called', 'for', 'the', 'lynching', 'and', 'hanging', 'of', 'white', 'people', 'and', 'cops', 'they', 'encouraged', 'others', 'on', 'radio', 'show', 'tuesday', 'night', 'to', 'turn', 'the', 'tide', 'and', 'kill', 'white', 'people', 'and', 'cops', 'to', 'send', 'message', 'about', 'the', 'killing', 'of', 'black', 'people', 'in', 'america', 'one', 'of', 'the', 'yoflag', 'organizers', 'is', 'called', 'sunshine', 'she', 'has', 'radio', 'blog', 'show', 'hosted', 'from', 'texas', 'called', 'sunshine', 'ing', 'opinion', 'radio', 'show', 'snapshot', 'of', 'her', 'fyf', 'lolatwhitefear', 'twitter', 'page', 'at', 'shows', 'that', 'she', 'was', 'urging', 'supporters', 'to', 'call', 'now', 'fyf', 'tonight', 'we', 'continue', 'to', 'dismantle', 'the', 'illusion', 'of', 'white', 'below', 'is', 'snapshot', 'twitter', 'radio', 'call', 'invite', 'fyf', 'the', 'radio', 'show', 'aired', 'at', 'eastern', 'standard', 'time', 'during', 'the', 'show', 'callers', 'clearly', 'call', 'for', 'lynching', 'and', 'killing', 'of', 'white', 'people', 'minute', 'clip', 'from', 'the', 'radio', 'show', 'can', 'be', 'heard', 'here', 'it', 'was', 'provided', 'to', 'breitbart', 'texas', 'by', 'someone', 'who', 'would', 'like', 'to', 'be', 'referred', 'to', 'as', 'hannibal', 'he', 'has', 'already', 'received', 'death', 'threats', 'as', 'result', 'of', 'interrupting', 'fyf', 'conference', 'calls', 'an', 'unidentified', 'black', 'man', 'said', 'when', 'those', 'mother', 'kers', 'are', 'by', 'themselves', 'that', 'when', 'when', 'we', 'should', 'start', 'ing', 'them', 'up', 'like', 'they', 'do', 'us', 'when', 'bunch', 'of', 'them', 'ni', 'ers', 'takin', 'one', 'of', 'us', 'out', 'that', 'how', 'we', 'should', 'roll', 'up', 'he', 'said', 'cause', 'we', 'already', 'roll', 'up', 'in', 'gangs', 'anyway', 'there', 'should', 'be', 'six', 'or', 'seven', 'black', 'mother', 'ckers', 'see', 'that', 'white', 'person', 'and', 'then', 'lynch', 'their', 'ass', 'let', 'turn', 'the', 'tables', 'they', 'conspired', 'that', 'if', 'cops', 'started', 'losing', 'people', 'then', 'there', 'will', 'be', 'state', 'of', 'emergency', 'he', 'speculated', 'that', 'one', 'of', 'two', 'things', 'would', 'happen', 'big', 'ass', 'war', 'or', 'ni', 'ers', 'they', 'are', 'going', 'to', 'start', 'backin', 'up', 'we', 'are', 'already', 'getting', 'killed', 'out', 'here', 'so', 'what', 'the', 'we', 'got', 'to', 'lose', 'sunshine', 'could', 'be', 'heard', 'saying', 'yep', 'that', 'true', 'that', 'so', 'king', 'true', 'he', 'said', 'we', 'need', 'to', 'turn', 'the', 'tables', 'on', 'them', 'our', 'kids', 'are', 'getting', 'shot', 'out', 'here', 'somebody', 'needs', 'to', 'become', 'sacrifice', 'on', 'their', 'side', 'he', 'said', 'everybody', 'ain', 'down', 'for', 'that', 'or', 'whatever', 'but', 'like', 'say', 'everybody', 'has', 'different', 'position', 'of', 'war', 'he', 'continued', 'because', 'they', 'don', 'give', 'anyway', 'he', 'said', 'again', 'we', 'might', 'as', 'well', 'utilized', 'them', 'for', 'that', 'and', 'turn', 'the', 'tables', 'on', 'these', 'ers', 'he', 'said', 'that', 'way', 'we', 'can', 'start', 'lookin', 'like', 'we', 'ain', 'havin', 'that', 'many', 'casualties', 'and', 'there', 'can', 'be', 'more', 'causalities', 'on', 'their', 'side', 'instead', 'of', 'ours', 'they', 'are', 'out', 'their', 'killing', 'black', 'people', 'black', 'lives', 'don', 'matter', 'that', 'what', 'those', 'mother', 'kers', 'so', 'we', 'got', 'to', 'make', 'it', 'matter', 'to', 'them', 'find', 'mother', 'ker', 'that', 'is', 'alone', 'snap', 'his', 'ass', 'and', 'then', 'in', 'hang', 'him', 'from', 'damn', 'tree', 'take', 'picture', 'of', 'it', 'and', 'then', 'send', 'it', 'to', 'the', 'mother', 'kers', 'we', 'just', 'need', 'one', 'example', 'and', 'then', 'people', 'will', 'start', 'watchin', 'this', 'will', 'turn', 'the', 'tables', 'on', 'he', 'said', 'he', 'said', 'this', 'will', 'start', 'trickle', 'down', 'effect', 'he', 'said', 'that', 'when', 'one', 'white', 'person', 'is', 'hung', 'and', 'then', 'they', 'are', 'just', 'flat', 'hanging', 'that', 'will', 'start', 'the', 'trickle', 'down', 'effect', 'he', 'continued', 'black', 'people', 'are', 'good', 'at', 'starting', 'trends', 'he', 'said', 'that', 'was', 'how', 'to', 'get', 'the', 'upper', 'hand', 'another', 'black', 'man', 'spoke', 'up', 'saying', 'they', 'needed', 'to', 'kill', 'cops', 'that', 'are', 'killing', 'us', 'the', 'first', 'black', 'male', 'said', 'that', 'will', 'be', 'the', 'best', 'method', 'right', 'there', 'breitbart', 'texas', 'previously', 'reported', 'how', 'sunshine', 'was', 'upset', 'when', 'racist', 'white', 'people', 'infiltrated', 'and', 'disrupted', 'one', 'of', 'her', 'conference', 'calls', 'she', 'subsequently', 'released', 'the', 'phone', 'number', 'of', 'one', 'of', 'the', 'infiltrators', 'the', 'veteran', 'immediately', 'started', 'receiving', 'threatening', 'calls', 'one', 'of', 'the', 'yoflag', 'movement', 'supporters', 'allegedly', 'told', 'veteran', 'who', 'infiltrated', 'their', 'publicly', 'posted', 'conference', 'call', 'we', 'are', 'going', 'to', 'rape', 'and', 'gut', 'your', 'pregnant', 'wife', 'and', 'your', 'ing', 'piece', 'of', 'sh', 'unborn', 'creature', 'will', 'be', 'hung', 'from', 'tree', 'breitbart', 'texas', 'previously', 'encountered', 'sunshine', 'at', 'sandra', 'bland', 'protest', 'at', 'the', 'waller', 'county', 'jail', 'in', 'texas', 'where', 'she', 'said', 'all', 'white', 'people', 'should', 'be', 'killed', 'she', 'told', 'journalists', 'and', 'photographers', 'you', 'see', 'this', 'nappy', 'ass', 'hair', 'on', 'my', 'head', 'that', 'means', 'am', 'one', 'of', 'those', 'more', 'militant', 'negroes', 'she', 'said', 'she', 'was', 'at', 'the', 'protest', 'because', 'these', 'redneck', 'mother', 'kers', 'murdered', 'sandra', 'bland', 'because', 'she', 'had', 'nappy', 'hair', 'like', 'me', 'fyf', 'black', 'radicals', 'say', 'they', 'will', 'be', 'holding', 'the', 'imperial', 'powers', 'that', 'are', 'actually', 'responsible', 'for', 'the', 'terrorist', 'attacks', 'on', 'september', 'th', 'accountable', 'on', 'that', 'day', 'as', 'reported', 'by', 'breitbart', 'texas', 'there', 'are', 'several', 'websites', 'and', 'twitter', 'handles', 'for', 'the', 'movement', 'palmetto', 'star', 'describes', 'himself', 'as', 'one', 'of', 'the', 'head', 'organizers', 'he', 'said', 'in', 'youtube', 'video', 'that', 'supporters', 'will', 'be', 'burning', 'their', 'symbols', 'of', 'the', 'illusion', 'of', 'their', 'superiority', 'their', 'false', 'white', 'supremacy', 'like', 'the', 'american', 'flag', 'the', 'british', 'flag', 'police', 'uniforms', 'and', 'ku', 'klux', 'klan', 'hoods', 'sierra', 'mcgrone', 'or', 'nocturnus', 'libertus', 'posted', 'you', 'too', 'can', 'help', 'young', 'afrikan', 'clean', 'their', 'with', 'the', 'rag', 'of', 'oppression', 'she', 'posted', 'two', 'photos', 'one', 'that', 'appears', 'to', 'be', 'herself', 'and', 'photo', 'of', 'black', 'man', 'wiping', 'their', 'naked', 'butts', 'with', 'the', 'american', 'flag', 'for', 'entire', 'story', 'breitbart', 'news']\n"
     ]
    }
   ],
   "source": [
    "print(limpiar_tokenizar(texto=Fake_News_Data['text'][0]))"
   ]
  },
  {
   "cell_type": "code",
   "execution_count": 32,
   "metadata": {},
   "outputs": [],
   "source": [
    "Fake_News_Data['text_tokenizado'] = Fake_News_Data['text'].apply(lambda x: limpiar_tokenizar(x))"
   ]
  },
  {
   "cell_type": "code",
   "execution_count": 33,
   "metadata": {},
   "outputs": [
    {
     "data": {
      "text/html": [
       "<div>\n",
       "<style scoped>\n",
       "    .dataframe tbody tr th:only-of-type {\n",
       "        vertical-align: middle;\n",
       "    }\n",
       "\n",
       "    .dataframe tbody tr th {\n",
       "        vertical-align: top;\n",
       "    }\n",
       "\n",
       "    .dataframe thead th {\n",
       "        text-align: right;\n",
       "    }\n",
       "</style>\n",
       "<table border=\"1\" class=\"dataframe\">\n",
       "  <thead>\n",
       "    <tr style=\"text-align: right;\">\n",
       "      <th></th>\n",
       "      <th>title</th>\n",
       "      <th>text</th>\n",
       "      <th>fake</th>\n",
       "      <th>word_count</th>\n",
       "      <th>text_tokenizado</th>\n",
       "      <th>id_text</th>\n",
       "    </tr>\n",
       "  </thead>\n",
       "  <tbody>\n",
       "    <tr>\n",
       "      <th>0</th>\n",
       "      <td>LAW ENFORCEMENT ON HIGH ALERT Following Threat...</td>\n",
       "      <td>No comment is expected from Barack Obama Membe...</td>\n",
       "      <td>1</td>\n",
       "      <td>871</td>\n",
       "      <td>[no, comment, is, expected, from, barack, obam...</td>\n",
       "      <td>0</td>\n",
       "    </tr>\n",
       "    <tr>\n",
       "      <th>1</th>\n",
       "      <td>NaN</td>\n",
       "      <td>Did they post their votes for Hillary already?</td>\n",
       "      <td>1</td>\n",
       "      <td>8</td>\n",
       "      <td>[did, they, post, their, votes, for, hillary, ...</td>\n",
       "      <td>1</td>\n",
       "    </tr>\n",
       "    <tr>\n",
       "      <th>2</th>\n",
       "      <td>UNBELIEVABLE! OBAMA’S ATTORNEY GENERAL SAYS MO...</td>\n",
       "      <td>Now, most of the demonstrators gathered last ...</td>\n",
       "      <td>1</td>\n",
       "      <td>34</td>\n",
       "      <td>[now, most, of, the, demonstrators, gathered, ...</td>\n",
       "      <td>2</td>\n",
       "    </tr>\n",
       "    <tr>\n",
       "      <th>3</th>\n",
       "      <td>Bobby Jindal, raised Hindu, uses story of Chri...</td>\n",
       "      <td>A dozen politically active pastors came here f...</td>\n",
       "      <td>0</td>\n",
       "      <td>1321</td>\n",
       "      <td>[dozen, politically, active, pastors, came, he...</td>\n",
       "      <td>3</td>\n",
       "    </tr>\n",
       "    <tr>\n",
       "      <th>4</th>\n",
       "      <td>SATAN 2: Russia unvelis an image of its terrif...</td>\n",
       "      <td>The RS-28 Sarmat missile, dubbed Satan 2, will...</td>\n",
       "      <td>1</td>\n",
       "      <td>329</td>\n",
       "      <td>[the, rs, sarmat, missile, dubbed, satan, will...</td>\n",
       "      <td>4</td>\n",
       "    </tr>\n",
       "    <tr>\n",
       "      <th>...</th>\n",
       "      <td>...</td>\n",
       "      <td>...</td>\n",
       "      <td>...</td>\n",
       "      <td>...</td>\n",
       "      <td>...</td>\n",
       "      <td>...</td>\n",
       "    </tr>\n",
       "    <tr>\n",
       "      <th>67093</th>\n",
       "      <td>JUDGE JEANINE SOUNDS FREE SPEECH ALARM: “They ...</td>\n",
       "      <td>Judge Jeanine lets it rip! She s concerned wit...</td>\n",
       "      <td>1</td>\n",
       "      <td>796</td>\n",
       "      <td>[judge, jeanine, lets, it, rip, she, concerned...</td>\n",
       "      <td>67093</td>\n",
       "    </tr>\n",
       "    <tr>\n",
       "      <th>67094</th>\n",
       "      <td>Russians steal research on Trump in hack of U....</td>\n",
       "      <td>WASHINGTON (Reuters) - Hackers believed to be ...</td>\n",
       "      <td>0</td>\n",
       "      <td>735</td>\n",
       "      <td>[washington, reuters, hackers, believed, to, b...</td>\n",
       "      <td>67094</td>\n",
       "    </tr>\n",
       "    <tr>\n",
       "      <th>67095</th>\n",
       "      <td>WATCH: Giuliani Demands That Democrats Apolog...</td>\n",
       "      <td>You know, because in fantasyland Republicans n...</td>\n",
       "      <td>1</td>\n",
       "      <td>604</td>\n",
       "      <td>[you, know, because, in, fantasyland, republic...</td>\n",
       "      <td>67095</td>\n",
       "    </tr>\n",
       "    <tr>\n",
       "      <th>67096</th>\n",
       "      <td>Migrants Refuse To Leave Train At Refugee Camp...</td>\n",
       "      <td>Migrants Refuse To Leave Train At Refugee Camp...</td>\n",
       "      <td>0</td>\n",
       "      <td>477</td>\n",
       "      <td>[migrants, refuse, to, leave, train, at, refug...</td>\n",
       "      <td>67096</td>\n",
       "    </tr>\n",
       "    <tr>\n",
       "      <th>67097</th>\n",
       "      <td>Trump tussle gives unpopular Mexican leader mu...</td>\n",
       "      <td>MEXICO CITY (Reuters) - Donald Trump’s combati...</td>\n",
       "      <td>0</td>\n",
       "      <td>559</td>\n",
       "      <td>[mexico, city, reuters, donald, trump’s, comba...</td>\n",
       "      <td>67097</td>\n",
       "    </tr>\n",
       "  </tbody>\n",
       "</table>\n",
       "<p>67098 rows × 6 columns</p>\n",
       "</div>"
      ],
      "text/plain": [
       "                                                   title  \\\n",
       "0      LAW ENFORCEMENT ON HIGH ALERT Following Threat...   \n",
       "1                                                    NaN   \n",
       "2      UNBELIEVABLE! OBAMA’S ATTORNEY GENERAL SAYS MO...   \n",
       "3      Bobby Jindal, raised Hindu, uses story of Chri...   \n",
       "4      SATAN 2: Russia unvelis an image of its terrif...   \n",
       "...                                                  ...   \n",
       "67093  JUDGE JEANINE SOUNDS FREE SPEECH ALARM: “They ...   \n",
       "67094  Russians steal research on Trump in hack of U....   \n",
       "67095   WATCH: Giuliani Demands That Democrats Apolog...   \n",
       "67096  Migrants Refuse To Leave Train At Refugee Camp...   \n",
       "67097  Trump tussle gives unpopular Mexican leader mu...   \n",
       "\n",
       "                                                    text fake  word_count  \\\n",
       "0      No comment is expected from Barack Obama Membe...    1         871   \n",
       "1         Did they post their votes for Hillary already?    1           8   \n",
       "2       Now, most of the demonstrators gathered last ...    1          34   \n",
       "3      A dozen politically active pastors came here f...    0        1321   \n",
       "4      The RS-28 Sarmat missile, dubbed Satan 2, will...    1         329   \n",
       "...                                                  ...  ...         ...   \n",
       "67093  Judge Jeanine lets it rip! She s concerned wit...    1         796   \n",
       "67094  WASHINGTON (Reuters) - Hackers believed to be ...    0         735   \n",
       "67095  You know, because in fantasyland Republicans n...    1         604   \n",
       "67096  Migrants Refuse To Leave Train At Refugee Camp...    0         477   \n",
       "67097  MEXICO CITY (Reuters) - Donald Trump’s combati...    0         559   \n",
       "\n",
       "                                         text_tokenizado  id_text  \n",
       "0      [no, comment, is, expected, from, barack, obam...        0  \n",
       "1      [did, they, post, their, votes, for, hillary, ...        1  \n",
       "2      [now, most, of, the, demonstrators, gathered, ...        2  \n",
       "3      [dozen, politically, active, pastors, came, he...        3  \n",
       "4      [the, rs, sarmat, missile, dubbed, satan, will...        4  \n",
       "...                                                  ...      ...  \n",
       "67093  [judge, jeanine, lets, it, rip, she, concerned...    67093  \n",
       "67094  [washington, reuters, hackers, believed, to, b...    67094  \n",
       "67095  [you, know, because, in, fantasyland, republic...    67095  \n",
       "67096  [migrants, refuse, to, leave, train, at, refug...    67096  \n",
       "67097  [mexico, city, reuters, donald, trump’s, comba...    67097  \n",
       "\n",
       "[67098 rows x 6 columns]"
      ]
     },
     "execution_count": 33,
     "metadata": {},
     "output_type": "execute_result"
    }
   ],
   "source": [
    "Fake_News_Data = Fake_News_Data.drop('proportion_Fakes', axis=1)\n",
    "\n",
    "Fake_News_Data['id_text'] = range(0, len(Fake_News_Data))\n",
    "\n",
    "Fake_News_Data"
   ]
  },
  {
   "cell_type": "code",
   "execution_count": 34,
   "metadata": {},
   "outputs": [],
   "source": [
    "Fake_News_Tokens = Fake_News_Data.loc[:, ['id_text', 'text_tokenizado', 'fake'] ].explode(column='text_tokenizado')\n",
    "\n",
    "Fake_News_Tokens = Fake_News_Tokens.rename(columns={'text_tokenizado':'token'})"
   ]
  },
  {
   "cell_type": "code",
   "execution_count": 35,
   "metadata": {},
   "outputs": [
    {
     "data": {
      "text/html": [
       "<div>\n",
       "<style scoped>\n",
       "    .dataframe tbody tr th:only-of-type {\n",
       "        vertical-align: middle;\n",
       "    }\n",
       "\n",
       "    .dataframe tbody tr th {\n",
       "        vertical-align: top;\n",
       "    }\n",
       "\n",
       "    .dataframe thead th {\n",
       "        text-align: right;\n",
       "    }\n",
       "</style>\n",
       "<table border=\"1\" class=\"dataframe\">\n",
       "  <thead>\n",
       "    <tr style=\"text-align: right;\">\n",
       "      <th></th>\n",
       "      <th>id_text</th>\n",
       "      <th>token</th>\n",
       "      <th>fake</th>\n",
       "    </tr>\n",
       "  </thead>\n",
       "  <tbody>\n",
       "    <tr>\n",
       "      <th>0</th>\n",
       "      <td>0</td>\n",
       "      <td>no</td>\n",
       "      <td>1</td>\n",
       "    </tr>\n",
       "    <tr>\n",
       "      <th>0</th>\n",
       "      <td>0</td>\n",
       "      <td>comment</td>\n",
       "      <td>1</td>\n",
       "    </tr>\n",
       "    <tr>\n",
       "      <th>0</th>\n",
       "      <td>0</td>\n",
       "      <td>is</td>\n",
       "      <td>1</td>\n",
       "    </tr>\n",
       "    <tr>\n",
       "      <th>0</th>\n",
       "      <td>0</td>\n",
       "      <td>expected</td>\n",
       "      <td>1</td>\n",
       "    </tr>\n",
       "    <tr>\n",
       "      <th>0</th>\n",
       "      <td>0</td>\n",
       "      <td>from</td>\n",
       "      <td>1</td>\n",
       "    </tr>\n",
       "    <tr>\n",
       "      <th>...</th>\n",
       "      <td>...</td>\n",
       "      <td>...</td>\n",
       "      <td>...</td>\n",
       "    </tr>\n",
       "    <tr>\n",
       "      <th>67097</th>\n",
       "      <td>67097</td>\n",
       "      <td>hamburg</td>\n",
       "      <td>0</td>\n",
       "    </tr>\n",
       "    <tr>\n",
       "      <th>67097</th>\n",
       "      <td>67097</td>\n",
       "      <td>“we’re</td>\n",
       "      <td>0</td>\n",
       "    </tr>\n",
       "    <tr>\n",
       "      <th>67097</th>\n",
       "      <td>67097</td>\n",
       "      <td>right</td>\n",
       "      <td>0</td>\n",
       "    </tr>\n",
       "    <tr>\n",
       "      <th>67097</th>\n",
       "      <td>67097</td>\n",
       "      <td>behind</td>\n",
       "      <td>0</td>\n",
       "    </tr>\n",
       "    <tr>\n",
       "      <th>67097</th>\n",
       "      <td>67097</td>\n",
       "      <td>mexico</td>\n",
       "      <td>0</td>\n",
       "    </tr>\n",
       "  </tbody>\n",
       "</table>\n",
       "<p>34741823 rows × 3 columns</p>\n",
       "</div>"
      ],
      "text/plain": [
       "       id_text     token fake\n",
       "0            0        no    1\n",
       "0            0   comment    1\n",
       "0            0        is    1\n",
       "0            0  expected    1\n",
       "0            0      from    1\n",
       "...        ...       ...  ...\n",
       "67097    67097   hamburg    0\n",
       "67097    67097    “we’re    0\n",
       "67097    67097     right    0\n",
       "67097    67097    behind    0\n",
       "67097    67097    mexico    0\n",
       "\n",
       "[34741823 rows x 3 columns]"
      ]
     },
     "execution_count": 35,
     "metadata": {},
     "output_type": "execute_result"
    }
   ],
   "source": [
    "Fake_News_Tokens"
   ]
  },
  {
   "cell_type": "code",
   "execution_count": 36,
   "metadata": {},
   "outputs": [
    {
     "data": {
      "text/plain": [
       "fake\n",
       "0    17874714\n",
       "1    16866338\n",
       "Name: token, dtype: int64"
      ]
     },
     "execution_count": 36,
     "metadata": {},
     "output_type": "execute_result"
    }
   ],
   "source": [
    "# nº de palabras (tokens) en el conjunto de textos clasificados como fake y en los no fake\n",
    "\n",
    "Fake_News_Tokens.groupby(by='fake')['token'].count()"
   ]
  },
  {
   "cell_type": "code",
   "execution_count": 37,
   "metadata": {},
   "outputs": [
    {
     "data": {
      "text/plain": [
       "fake\n",
       "0    157664\n",
       "1    199554\n",
       "Name: token, dtype: int64"
      ]
     },
     "execution_count": 37,
     "metadata": {},
     "output_type": "execute_result"
    }
   ],
   "source": [
    "# nº de palabras (tokens) unicas en el conjunto de textos clasificados como fake y en los no fake\n",
    "\n",
    "Fake_News_Tokens.groupby(by='fake')['token'].nunique()"
   ]
  },
  {
   "cell_type": "code",
   "execution_count": 81,
   "metadata": {},
   "outputs": [],
   "source": [
    "# nº medio de palabras (tokens) de los textos clasificados como fake y en los no fake\n",
    "\n",
    "df1 = pd.DataFrame( Fake_News_Tokens.groupby(by = [\"fake\", \"id_text\"] )[\"token\"].count() )"
   ]
  },
  {
   "cell_type": "code",
   "execution_count": 73,
   "metadata": {},
   "outputs": [
    {
     "data": {
      "text/html": [
       "<div>\n",
       "<style scoped>\n",
       "    .dataframe tbody tr th:only-of-type {\n",
       "        vertical-align: middle;\n",
       "    }\n",
       "\n",
       "    .dataframe tbody tr th {\n",
       "        vertical-align: top;\n",
       "    }\n",
       "\n",
       "    .dataframe thead th {\n",
       "        text-align: right;\n",
       "    }\n",
       "</style>\n",
       "<table border=\"1\" class=\"dataframe\">\n",
       "  <thead>\n",
       "    <tr style=\"text-align: right;\">\n",
       "      <th></th>\n",
       "      <th></th>\n",
       "      <th>token</th>\n",
       "    </tr>\n",
       "    <tr>\n",
       "      <th>fake</th>\n",
       "      <th>id_text</th>\n",
       "      <th></th>\n",
       "    </tr>\n",
       "  </thead>\n",
       "  <tbody>\n",
       "    <tr>\n",
       "      <th rowspan=\"5\" valign=\"top\">0</th>\n",
       "      <th>0</th>\n",
       "      <td>0</td>\n",
       "    </tr>\n",
       "    <tr>\n",
       "      <th>1</th>\n",
       "      <td>0</td>\n",
       "    </tr>\n",
       "    <tr>\n",
       "      <th>2</th>\n",
       "      <td>0</td>\n",
       "    </tr>\n",
       "    <tr>\n",
       "      <th>3</th>\n",
       "      <td>1273</td>\n",
       "    </tr>\n",
       "    <tr>\n",
       "      <th>4</th>\n",
       "      <td>0</td>\n",
       "    </tr>\n",
       "    <tr>\n",
       "      <th>...</th>\n",
       "      <th>...</th>\n",
       "      <td>...</td>\n",
       "    </tr>\n",
       "    <tr>\n",
       "      <th rowspan=\"5\" valign=\"top\">1</th>\n",
       "      <th>67093</th>\n",
       "      <td>795</td>\n",
       "    </tr>\n",
       "    <tr>\n",
       "      <th>67094</th>\n",
       "      <td>0</td>\n",
       "    </tr>\n",
       "    <tr>\n",
       "      <th>67095</th>\n",
       "      <td>595</td>\n",
       "    </tr>\n",
       "    <tr>\n",
       "      <th>67096</th>\n",
       "      <td>0</td>\n",
       "    </tr>\n",
       "    <tr>\n",
       "      <th>67097</th>\n",
       "      <td>0</td>\n",
       "    </tr>\n",
       "  </tbody>\n",
       "</table>\n",
       "<p>134196 rows × 1 columns</p>\n",
       "</div>"
      ],
      "text/plain": [
       "              token\n",
       "fake id_text       \n",
       "0    0            0\n",
       "     1            0\n",
       "     2            0\n",
       "     3         1273\n",
       "     4            0\n",
       "...             ...\n",
       "1    67093      795\n",
       "     67094        0\n",
       "     67095      595\n",
       "     67096        0\n",
       "     67097        0\n",
       "\n",
       "[134196 rows x 1 columns]"
      ]
     },
     "execution_count": 73,
     "metadata": {},
     "output_type": "execute_result"
    }
   ],
   "source": [
    "df1"
   ]
  },
  {
   "cell_type": "code",
   "execution_count": 77,
   "metadata": {},
   "outputs": [],
   "source": [
    "df2 = df1.loc[a['token'] != 0, :]"
   ]
  },
  {
   "cell_type": "code",
   "execution_count": 79,
   "metadata": {},
   "outputs": [
    {
     "data": {
      "text/html": [
       "<div>\n",
       "<style scoped>\n",
       "    .dataframe tbody tr th:only-of-type {\n",
       "        vertical-align: middle;\n",
       "    }\n",
       "\n",
       "    .dataframe tbody tr th {\n",
       "        vertical-align: top;\n",
       "    }\n",
       "\n",
       "    .dataframe thead th {\n",
       "        text-align: right;\n",
       "    }\n",
       "</style>\n",
       "<table border=\"1\" class=\"dataframe\">\n",
       "  <thead>\n",
       "    <tr style=\"text-align: right;\">\n",
       "      <th></th>\n",
       "      <th></th>\n",
       "      <th>token</th>\n",
       "    </tr>\n",
       "    <tr>\n",
       "      <th>fake</th>\n",
       "      <th>id_text</th>\n",
       "      <th></th>\n",
       "    </tr>\n",
       "  </thead>\n",
       "  <tbody>\n",
       "    <tr>\n",
       "      <th rowspan=\"5\" valign=\"top\">0</th>\n",
       "      <th>3</th>\n",
       "      <td>1273</td>\n",
       "    </tr>\n",
       "    <tr>\n",
       "      <th>11</th>\n",
       "      <td>364</td>\n",
       "    </tr>\n",
       "    <tr>\n",
       "      <th>12</th>\n",
       "      <td>413</td>\n",
       "    </tr>\n",
       "    <tr>\n",
       "      <th>14</th>\n",
       "      <td>465</td>\n",
       "    </tr>\n",
       "    <tr>\n",
       "      <th>15</th>\n",
       "      <td>252</td>\n",
       "    </tr>\n",
       "    <tr>\n",
       "      <th>...</th>\n",
       "      <th>...</th>\n",
       "      <td>...</td>\n",
       "    </tr>\n",
       "    <tr>\n",
       "      <th rowspan=\"5\" valign=\"top\">1</th>\n",
       "      <th>67083</th>\n",
       "      <td>156</td>\n",
       "    </tr>\n",
       "    <tr>\n",
       "      <th>67086</th>\n",
       "      <td>405</td>\n",
       "    </tr>\n",
       "    <tr>\n",
       "      <th>67092</th>\n",
       "      <td>202</td>\n",
       "    </tr>\n",
       "    <tr>\n",
       "      <th>67093</th>\n",
       "      <td>795</td>\n",
       "    </tr>\n",
       "    <tr>\n",
       "      <th>67095</th>\n",
       "      <td>595</td>\n",
       "    </tr>\n",
       "  </tbody>\n",
       "</table>\n",
       "<p>66327 rows × 1 columns</p>\n",
       "</div>"
      ],
      "text/plain": [
       "              token\n",
       "fake id_text       \n",
       "0    3         1273\n",
       "     11         364\n",
       "     12         413\n",
       "     14         465\n",
       "     15         252\n",
       "...             ...\n",
       "1    67083      156\n",
       "     67086      405\n",
       "     67092      202\n",
       "     67093      795\n",
       "     67095      595\n",
       "\n",
       "[66327 rows x 1 columns]"
      ]
     },
     "execution_count": 79,
     "metadata": {},
     "output_type": "execute_result"
    }
   ],
   "source": [
    "df2"
   ]
  },
  {
   "cell_type": "code",
   "execution_count": 78,
   "metadata": {},
   "outputs": [
    {
     "data": {
      "text/html": [
       "<div>\n",
       "<style scoped>\n",
       "    .dataframe tbody tr th:only-of-type {\n",
       "        vertical-align: middle;\n",
       "    }\n",
       "\n",
       "    .dataframe tbody tr th {\n",
       "        vertical-align: top;\n",
       "    }\n",
       "\n",
       "    .dataframe thead th {\n",
       "        text-align: right;\n",
       "    }\n",
       "</style>\n",
       "<table border=\"1\" class=\"dataframe\">\n",
       "  <thead>\n",
       "    <tr style=\"text-align: right;\">\n",
       "      <th></th>\n",
       "      <th>mean</th>\n",
       "    </tr>\n",
       "    <tr>\n",
       "      <th>fake</th>\n",
       "      <th></th>\n",
       "    </tr>\n",
       "  </thead>\n",
       "  <tbody>\n",
       "    <tr>\n",
       "      <th>0</th>\n",
       "      <td>548.910269</td>\n",
       "    </tr>\n",
       "    <tr>\n",
       "      <th>1</th>\n",
       "      <td>499.550929</td>\n",
       "    </tr>\n",
       "  </tbody>\n",
       "</table>\n",
       "</div>"
      ],
      "text/plain": [
       "            mean\n",
       "fake            \n",
       "0     548.910269\n",
       "1     499.550929"
      ]
     },
     "execution_count": 78,
     "metadata": {},
     "output_type": "execute_result"
    }
   ],
   "source": [
    "df2.groupby(\"fake\")[\"token\"].agg(['mean'])"
   ]
  },
  {
   "cell_type": "markdown",
   "metadata": {},
   "source": [
    "Otra forma de hacer lo anterior (longitud media de las noticias fake y no fake)"
   ]
  },
  {
   "cell_type": "code",
   "execution_count": 92,
   "metadata": {},
   "outputs": [],
   "source": [
    "m0 = ( Fake_News_Tokens.loc[Fake_News_Tokens['fake']==0].groupby('id_text')['token'].count() ).mean()"
   ]
  },
  {
   "cell_type": "code",
   "execution_count": 96,
   "metadata": {},
   "outputs": [],
   "source": [
    "m1 = ( Fake_News_Tokens.loc[Fake_News_Tokens['fake']==1].groupby('id_text')['token'].count() ).mean()"
   ]
  },
  {
   "cell_type": "code",
   "execution_count": 97,
   "metadata": {},
   "outputs": [
    {
     "data": {
      "text/html": [
       "<div>\n",
       "<style scoped>\n",
       "    .dataframe tbody tr th:only-of-type {\n",
       "        vertical-align: middle;\n",
       "    }\n",
       "\n",
       "    .dataframe tbody tr th {\n",
       "        vertical-align: top;\n",
       "    }\n",
       "\n",
       "    .dataframe thead th {\n",
       "        text-align: right;\n",
       "    }\n",
       "</style>\n",
       "<table border=\"1\" class=\"dataframe\">\n",
       "  <thead>\n",
       "    <tr style=\"text-align: right;\">\n",
       "      <th></th>\n",
       "      <th>fake_new</th>\n",
       "      <th>tokens_mean</th>\n",
       "    </tr>\n",
       "  </thead>\n",
       "  <tbody>\n",
       "    <tr>\n",
       "      <th>0</th>\n",
       "      <td>0</td>\n",
       "      <td>548.893413</td>\n",
       "    </tr>\n",
       "    <tr>\n",
       "      <th>1</th>\n",
       "      <td>1</td>\n",
       "      <td>488.412185</td>\n",
       "    </tr>\n",
       "  </tbody>\n",
       "</table>\n",
       "</div>"
      ],
      "text/plain": [
       "   fake_new  tokens_mean\n",
       "0         0   548.893413\n",
       "1         1   488.412185"
      ]
     },
     "execution_count": 97,
     "metadata": {},
     "output_type": "execute_result"
    }
   ],
   "source": [
    "pd.DataFrame({'fake_new': [0,1] , 'tokens_mean':[m0 , m1]})"
   ]
  },
  {
   "cell_type": "markdown",
   "metadata": {},
   "source": []
  },
  {
   "cell_type": "code",
   "execution_count": 99,
   "metadata": {},
   "outputs": [],
   "source": [
    "pd.DataFrame( Fake_News_Tokens.groupby(by = [\"fake\", \"token\"] )[\"token\"].count() )"
   ]
  }
 ],
 "metadata": {
  "kernelspec": {
   "display_name": "Python 3.10.0 64-bit",
   "language": "python",
   "name": "python3"
  },
  "language_info": {
   "codemirror_mode": {
    "name": "ipython",
    "version": 3
   },
   "file_extension": ".py",
   "mimetype": "text/x-python",
   "name": "python",
   "nbconvert_exporter": "python",
   "pygments_lexer": "ipython3",
   "version": "3.10.0"
  },
  "orig_nbformat": 4,
  "vscode": {
   "interpreter": {
    "hash": "c63d8c7d738c2960218a10995aedf0a7f67a49a231e71037adf0440953cdb45b"
   }
  }
 },
 "nbformat": 4,
 "nbformat_minor": 2
}
