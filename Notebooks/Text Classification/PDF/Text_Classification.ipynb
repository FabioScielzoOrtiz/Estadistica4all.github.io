{
 "cells": [
  {
   "cell_type": "code",
   "execution_count": 1,
   "metadata": {},
   "outputs": [],
   "source": [
    "import pandas as pd"
   ]
  },
  {
   "cell_type": "code",
   "execution_count": 2,
   "metadata": {},
   "outputs": [],
   "source": [
    "df_Fake = pd.read_csv('Fake.csv')\n",
    "df_True = pd.read_csv('True.csv')"
   ]
  },
  {
   "cell_type": "code",
   "execution_count": 3,
   "metadata": {},
   "outputs": [],
   "source": [
    "df_Fake['Fake'] = 1\n",
    "df_True['Fake'] = 0"
   ]
  },
  {
   "cell_type": "code",
   "execution_count": 4,
   "metadata": {},
   "outputs": [],
   "source": [
    "Fake_News_Data = pd.concat([df_Fake, df_True])"
   ]
  },
  {
   "cell_type": "code",
   "execution_count": 5,
   "metadata": {},
   "outputs": [],
   "source": [
    "Fake_News_Data = Fake_News_Data.loc[: , ['Fake', 'title', 'text', 'date'] ]"
   ]
  },
  {
   "cell_type": "code",
   "execution_count": 6,
   "metadata": {},
   "outputs": [],
   "source": [
    "Fake_News_Data.index = range(0 , len(Fake_News_Data))"
   ]
  },
  {
   "cell_type": "markdown",
   "metadata": {},
   "source": [
    "Fake = 1 --> yes .\n",
    "\n",
    "Fake = 0 --> no"
   ]
  },
  {
   "cell_type": "code",
   "execution_count": 7,
   "metadata": {},
   "outputs": [
    {
     "data": {
      "text/plain": [
       "Fake      int64\n",
       "title    object\n",
       "text     object\n",
       "date     object\n",
       "dtype: object"
      ]
     },
     "execution_count": 7,
     "metadata": {},
     "output_type": "execute_result"
    }
   ],
   "source": [
    "Fake_News_Data.dtypes"
   ]
  },
  {
   "cell_type": "code",
   "execution_count": 8,
   "metadata": {},
   "outputs": [],
   "source": [
    "Fake_News_Data['Fake'] = Fake_News_Data['Fake'].astype('object')"
   ]
  },
  {
   "cell_type": "markdown",
   "metadata": {},
   "source": []
  },
  {
   "cell_type": "code",
   "execution_count": 9,
   "metadata": {},
   "outputs": [
    {
     "data": {
      "text/html": [
       "<div>\n",
       "<style scoped>\n",
       "    .dataframe tbody tr th:only-of-type {\n",
       "        vertical-align: middle;\n",
       "    }\n",
       "\n",
       "    .dataframe tbody tr th {\n",
       "        vertical-align: top;\n",
       "    }\n",
       "\n",
       "    .dataframe thead th {\n",
       "        text-align: right;\n",
       "    }\n",
       "</style>\n",
       "<table border=\"1\" class=\"dataframe\">\n",
       "  <thead>\n",
       "    <tr style=\"text-align: right;\">\n",
       "      <th></th>\n",
       "      <th>Fake</th>\n",
       "      <th>title</th>\n",
       "      <th>text</th>\n",
       "      <th>date</th>\n",
       "    </tr>\n",
       "  </thead>\n",
       "  <tbody>\n",
       "    <tr>\n",
       "      <th>0</th>\n",
       "      <td>1</td>\n",
       "      <td>Donald Trump Sends Out Embarrassing New Year’...</td>\n",
       "      <td>Donald Trump just couldn t wish all Americans ...</td>\n",
       "      <td>December 31, 2017</td>\n",
       "    </tr>\n",
       "    <tr>\n",
       "      <th>1</th>\n",
       "      <td>1</td>\n",
       "      <td>Drunk Bragging Trump Staffer Started Russian ...</td>\n",
       "      <td>House Intelligence Committee Chairman Devin Nu...</td>\n",
       "      <td>December 31, 2017</td>\n",
       "    </tr>\n",
       "    <tr>\n",
       "      <th>2</th>\n",
       "      <td>1</td>\n",
       "      <td>Sheriff David Clarke Becomes An Internet Joke...</td>\n",
       "      <td>On Friday, it was revealed that former Milwauk...</td>\n",
       "      <td>December 30, 2017</td>\n",
       "    </tr>\n",
       "    <tr>\n",
       "      <th>3</th>\n",
       "      <td>1</td>\n",
       "      <td>Trump Is So Obsessed He Even Has Obama’s Name...</td>\n",
       "      <td>On Christmas day, Donald Trump announced that ...</td>\n",
       "      <td>December 29, 2017</td>\n",
       "    </tr>\n",
       "    <tr>\n",
       "      <th>4</th>\n",
       "      <td>1</td>\n",
       "      <td>Pope Francis Just Called Out Donald Trump Dur...</td>\n",
       "      <td>Pope Francis used his annual Christmas Day mes...</td>\n",
       "      <td>December 25, 2017</td>\n",
       "    </tr>\n",
       "    <tr>\n",
       "      <th>...</th>\n",
       "      <td>...</td>\n",
       "      <td>...</td>\n",
       "      <td>...</td>\n",
       "      <td>...</td>\n",
       "    </tr>\n",
       "    <tr>\n",
       "      <th>44893</th>\n",
       "      <td>0</td>\n",
       "      <td>'Fully committed' NATO backs new U.S. approach...</td>\n",
       "      <td>BRUSSELS (Reuters) - NATO allies on Tuesday we...</td>\n",
       "      <td>August 22, 2017</td>\n",
       "    </tr>\n",
       "    <tr>\n",
       "      <th>44894</th>\n",
       "      <td>0</td>\n",
       "      <td>LexisNexis withdrew two products from Chinese ...</td>\n",
       "      <td>LONDON (Reuters) - LexisNexis, a provider of l...</td>\n",
       "      <td>August 22, 2017</td>\n",
       "    </tr>\n",
       "    <tr>\n",
       "      <th>44895</th>\n",
       "      <td>0</td>\n",
       "      <td>Minsk cultural hub becomes haven from authorities</td>\n",
       "      <td>MINSK (Reuters) - In the shadow of disused Sov...</td>\n",
       "      <td>August 22, 2017</td>\n",
       "    </tr>\n",
       "    <tr>\n",
       "      <th>44896</th>\n",
       "      <td>0</td>\n",
       "      <td>Vatican upbeat on possibility of Pope Francis ...</td>\n",
       "      <td>MOSCOW (Reuters) - Vatican Secretary of State ...</td>\n",
       "      <td>August 22, 2017</td>\n",
       "    </tr>\n",
       "    <tr>\n",
       "      <th>44897</th>\n",
       "      <td>0</td>\n",
       "      <td>Indonesia to buy $1.14 billion worth of Russia...</td>\n",
       "      <td>JAKARTA (Reuters) - Indonesia will buy 11 Sukh...</td>\n",
       "      <td>August 22, 2017</td>\n",
       "    </tr>\n",
       "  </tbody>\n",
       "</table>\n",
       "<p>44898 rows × 4 columns</p>\n",
       "</div>"
      ],
      "text/plain": [
       "      Fake                                              title  \\\n",
       "0        1   Donald Trump Sends Out Embarrassing New Year’...   \n",
       "1        1   Drunk Bragging Trump Staffer Started Russian ...   \n",
       "2        1   Sheriff David Clarke Becomes An Internet Joke...   \n",
       "3        1   Trump Is So Obsessed He Even Has Obama’s Name...   \n",
       "4        1   Pope Francis Just Called Out Donald Trump Dur...   \n",
       "...    ...                                                ...   \n",
       "44893    0  'Fully committed' NATO backs new U.S. approach...   \n",
       "44894    0  LexisNexis withdrew two products from Chinese ...   \n",
       "44895    0  Minsk cultural hub becomes haven from authorities   \n",
       "44896    0  Vatican upbeat on possibility of Pope Francis ...   \n",
       "44897    0  Indonesia to buy $1.14 billion worth of Russia...   \n",
       "\n",
       "                                                    text               date  \n",
       "0      Donald Trump just couldn t wish all Americans ...  December 31, 2017  \n",
       "1      House Intelligence Committee Chairman Devin Nu...  December 31, 2017  \n",
       "2      On Friday, it was revealed that former Milwauk...  December 30, 2017  \n",
       "3      On Christmas day, Donald Trump announced that ...  December 29, 2017  \n",
       "4      Pope Francis used his annual Christmas Day mes...  December 25, 2017  \n",
       "...                                                  ...                ...  \n",
       "44893  BRUSSELS (Reuters) - NATO allies on Tuesday we...   August 22, 2017   \n",
       "44894  LONDON (Reuters) - LexisNexis, a provider of l...   August 22, 2017   \n",
       "44895  MINSK (Reuters) - In the shadow of disused Sov...   August 22, 2017   \n",
       "44896  MOSCOW (Reuters) - Vatican Secretary of State ...   August 22, 2017   \n",
       "44897  JAKARTA (Reuters) - Indonesia will buy 11 Sukh...   August 22, 2017   \n",
       "\n",
       "[44898 rows x 4 columns]"
      ]
     },
     "execution_count": 9,
     "metadata": {},
     "output_type": "execute_result"
    }
   ],
   "source": [
    "Fake_News_Data"
   ]
  },
  {
   "cell_type": "code",
   "execution_count": 10,
   "metadata": {},
   "outputs": [],
   "source": [
    "Fake_News_Data.to_csv('Fake_News_Data.csv' , index=False)"
   ]
  },
  {
   "cell_type": "code",
   "execution_count": 11,
   "metadata": {},
   "outputs": [
    {
     "data": {
      "text/html": [
       "<div>\n",
       "<style scoped>\n",
       "    .dataframe tbody tr th:only-of-type {\n",
       "        vertical-align: middle;\n",
       "    }\n",
       "\n",
       "    .dataframe tbody tr th {\n",
       "        vertical-align: top;\n",
       "    }\n",
       "\n",
       "    .dataframe thead th {\n",
       "        text-align: right;\n",
       "    }\n",
       "</style>\n",
       "<table border=\"1\" class=\"dataframe\">\n",
       "  <thead>\n",
       "    <tr style=\"text-align: right;\">\n",
       "      <th></th>\n",
       "      <th>Fake</th>\n",
       "      <th>title</th>\n",
       "      <th>text</th>\n",
       "      <th>date</th>\n",
       "    </tr>\n",
       "  </thead>\n",
       "  <tbody>\n",
       "    <tr>\n",
       "      <th>count</th>\n",
       "      <td>44898</td>\n",
       "      <td>44898</td>\n",
       "      <td>44898</td>\n",
       "      <td>44898</td>\n",
       "    </tr>\n",
       "    <tr>\n",
       "      <th>unique</th>\n",
       "      <td>2</td>\n",
       "      <td>38729</td>\n",
       "      <td>38646</td>\n",
       "      <td>2397</td>\n",
       "    </tr>\n",
       "    <tr>\n",
       "      <th>top</th>\n",
       "      <td>1</td>\n",
       "      <td>Factbox: Trump fills top jobs for his administ...</td>\n",
       "      <td></td>\n",
       "      <td>December 20, 2017</td>\n",
       "    </tr>\n",
       "    <tr>\n",
       "      <th>freq</th>\n",
       "      <td>23481</td>\n",
       "      <td>14</td>\n",
       "      <td>627</td>\n",
       "      <td>182</td>\n",
       "    </tr>\n",
       "  </tbody>\n",
       "</table>\n",
       "</div>"
      ],
      "text/plain": [
       "         Fake                                              title   text  \\\n",
       "count   44898                                              44898  44898   \n",
       "unique      2                                              38729  38646   \n",
       "top         1  Factbox: Trump fills top jobs for his administ...          \n",
       "freq    23481                                                 14    627   \n",
       "\n",
       "                      date  \n",
       "count                44898  \n",
       "unique                2397  \n",
       "top     December 20, 2017   \n",
       "freq                   182  "
      ]
     },
     "execution_count": 11,
     "metadata": {},
     "output_type": "execute_result"
    }
   ],
   "source": [
    "Fake_News_Data.describe(include='all')"
   ]
  },
  {
   "cell_type": "code",
   "execution_count": 12,
   "metadata": {},
   "outputs": [
    {
     "data": {
      "text/plain": [
       "Fake     0\n",
       "title    0\n",
       "text     0\n",
       "date     0\n",
       "dtype: int64"
      ]
     },
     "execution_count": 12,
     "metadata": {},
     "output_type": "execute_result"
    }
   ],
   "source": [
    "Fake_News_Data.isnull().sum()"
   ]
  },
  {
   "cell_type": "code",
   "execution_count": 13,
   "metadata": {},
   "outputs": [],
   "source": [
    "import numpy as np\n",
    "\n",
    "import seaborn as sns\n",
    "import matplotlib as mpl\n",
    "import matplotlib.pyplot as plt\n",
    "\n",
    "sns.set(rc={'figure.figsize':(8,8)})"
   ]
  },
  {
   "cell_type": "code",
   "execution_count": 14,
   "metadata": {},
   "outputs": [],
   "source": [
    "prop_Fake_yes = len( Fake_News_Data.loc[ Fake_News_Data['Fake']== 1 , :] ) / len(Fake_News_Data)\n",
    "\n",
    "prop_Fake_no = len( Fake_News_Data.loc[ Fake_News_Data['Fake']== 0 , :] ) / len(Fake_News_Data)"
   ]
  },
  {
   "cell_type": "code",
   "execution_count": 15,
   "metadata": {},
   "outputs": [
    {
     "name": "stderr",
     "output_type": "stream",
     "text": [
      "C:\\Users\\Usuario\\AppData\\Local\\Temp\\ipykernel_19936\\2699169446.py:8: SettingWithCopyWarning: \n",
      "A value is trying to be set on a copy of a slice from a DataFrame\n",
      "\n",
      "See the caveats in the documentation: https://pandas.pydata.org/pandas-docs/stable/user_guide/indexing.html#returning-a-view-versus-a-copy\n",
      "  Fake_News_Data['proportion_Fakes'][i] = prop_Fake_yes\n"
     ]
    }
   ],
   "source": [
    "Fake_News_Data['proportion_Fakes'] = 0\n",
    "\n",
    "\n",
    "for i in range(0, len(Fake_News_Data)):\n",
    "\n",
    "    if Fake_News_Data['Fake'][i] == 1 :\n",
    "\n",
    "        Fake_News_Data['proportion_Fakes'][i] = prop_Fake_yes\n",
    "\n",
    "    else :\n",
    "\n",
    "        Fake_News_Data['proportion_Fakes'][i] = prop_Fake_no"
   ]
  },
  {
   "cell_type": "code",
   "execution_count": 16,
   "metadata": {},
   "outputs": [
    {
     "data": {
      "image/png": "[encoded data removed]",
      "text/plain": [
       "<Figure size 432x288 with 1 Axes>"
      ]
     },
     "metadata": {
      "needs_background": "light"
     },
     "output_type": "display_data"
    }
   ],
   "source": [
    "import matplotlib.pyplot as plt\n",
    "\n",
    "fig, ax = plt.subplots()\n",
    "\n",
    "p1 = sns.barplot(x='Fake', y='proportion_Fakes', data=Fake_News_Data, palette=\"Spectral\") \n",
    "p1.set_yticks( np.arange(0, 0.85, 0.1)  )\n",
    "p1.set_xticklabels(['No', 'Yes'])\n",
    "p1.axes.set(xlabel='Fakes', ylabel='proportion')\n",
    "\n",
    "fig.savefig('p.png', format='png', dpi=1200)"
   ]
  },
  {
   "cell_type": "code",
   "execution_count": 17,
   "metadata": {},
   "outputs": [
    {
     "data": {
      "text/plain": [
       "[0.47701456635039424, 0.5229854336496058]"
      ]
     },
     "execution_count": 17,
     "metadata": {},
     "output_type": "execute_result"
    }
   ],
   "source": [
    "[prop_Fake_no , prop_Fake_yes]"
   ]
  },
  {
   "cell_type": "code",
   "execution_count": 18,
   "metadata": {},
   "outputs": [
    {
     "data": {
      "text/plain": [
       "[21417.0, 23481.0]"
      ]
     },
     "execution_count": 18,
     "metadata": {},
     "output_type": "execute_result"
    }
   ],
   "source": [
    "[prop_Fake_no*len(Fake_News_Data) , prop_Fake_yes*len(Fake_News_Data)]"
   ]
  },
  {
   "cell_type": "code",
   "execution_count": 19,
   "metadata": {},
   "outputs": [],
   "source": [
    "Fake_News_Data = Fake_News_Data.loc[ : , Fake_News_Data.columns != 'proportion_Fakes']"
   ]
  },
  {
   "cell_type": "code",
   "execution_count": 20,
   "metadata": {},
   "outputs": [],
   "source": [
    "Fake_News_Data['word_count'] = Fake_News_Data['text'].str.split().str.len()"
   ]
  },
  {
   "cell_type": "code",
   "execution_count": 21,
   "metadata": {},
   "outputs": [
    {
     "data": {
      "text/plain": [
       "0        [Donald, Trump, just, couldn, t, wish, all, Am...\n",
       "1        [House, Intelligence, Committee, Chairman, Dev...\n",
       "2        [On, Friday,, it, was, revealed, that, former,...\n",
       "3        [On, Christmas, day,, Donald, Trump, announced...\n",
       "4        [Pope, Francis, used, his, annual, Christmas, ...\n",
       "                               ...                        \n",
       "44893    [BRUSSELS, (Reuters), -, NATO, allies, on, Tue...\n",
       "44894    [LONDON, (Reuters), -, LexisNexis,, a, provide...\n",
       "44895    [MINSK, (Reuters), -, In, the, shadow, of, dis...\n",
       "44896    [MOSCOW, (Reuters), -, Vatican, Secretary, of,...\n",
       "44897    [JAKARTA, (Reuters), -, Indonesia, will, buy, ...\n",
       "Name: text, Length: 44898, dtype: object"
      ]
     },
     "execution_count": 21,
     "metadata": {},
     "output_type": "execute_result"
    }
   ],
   "source": [
    "Fake_News_Data['text'].str.split()"
   ]
  },
  {
   "cell_type": "code",
   "execution_count": 22,
   "metadata": {},
   "outputs": [
    {
     "data": {
      "text/html": [
       "<div>\n",
       "<style scoped>\n",
       "    .dataframe tbody tr th:only-of-type {\n",
       "        vertical-align: middle;\n",
       "    }\n",
       "\n",
       "    .dataframe tbody tr th {\n",
       "        vertical-align: top;\n",
       "    }\n",
       "\n",
       "    .dataframe thead th {\n",
       "        text-align: right;\n",
       "    }\n",
       "</style>\n",
       "<table border=\"1\" class=\"dataframe\">\n",
       "  <thead>\n",
       "    <tr style=\"text-align: right;\">\n",
       "      <th></th>\n",
       "      <th>Fake</th>\n",
       "      <th>title</th>\n",
       "      <th>text</th>\n",
       "      <th>date</th>\n",
       "      <th>word_count</th>\n",
       "    </tr>\n",
       "  </thead>\n",
       "  <tbody>\n",
       "    <tr>\n",
       "      <th>0</th>\n",
       "      <td>1</td>\n",
       "      <td>Donald Trump Sends Out Embarrassing New Year’...</td>\n",
       "      <td>Donald Trump just couldn t wish all Americans ...</td>\n",
       "      <td>December 31, 2017</td>\n",
       "      <td>495</td>\n",
       "    </tr>\n",
       "    <tr>\n",
       "      <th>1</th>\n",
       "      <td>1</td>\n",
       "      <td>Drunk Bragging Trump Staffer Started Russian ...</td>\n",
       "      <td>House Intelligence Committee Chairman Devin Nu...</td>\n",
       "      <td>December 31, 2017</td>\n",
       "      <td>305</td>\n",
       "    </tr>\n",
       "    <tr>\n",
       "      <th>2</th>\n",
       "      <td>1</td>\n",
       "      <td>Sheriff David Clarke Becomes An Internet Joke...</td>\n",
       "      <td>On Friday, it was revealed that former Milwauk...</td>\n",
       "      <td>December 30, 2017</td>\n",
       "      <td>580</td>\n",
       "    </tr>\n",
       "    <tr>\n",
       "      <th>3</th>\n",
       "      <td>1</td>\n",
       "      <td>Trump Is So Obsessed He Even Has Obama’s Name...</td>\n",
       "      <td>On Christmas day, Donald Trump announced that ...</td>\n",
       "      <td>December 29, 2017</td>\n",
       "      <td>444</td>\n",
       "    </tr>\n",
       "    <tr>\n",
       "      <th>4</th>\n",
       "      <td>1</td>\n",
       "      <td>Pope Francis Just Called Out Donald Trump Dur...</td>\n",
       "      <td>Pope Francis used his annual Christmas Day mes...</td>\n",
       "      <td>December 25, 2017</td>\n",
       "      <td>420</td>\n",
       "    </tr>\n",
       "    <tr>\n",
       "      <th>...</th>\n",
       "      <td>...</td>\n",
       "      <td>...</td>\n",
       "      <td>...</td>\n",
       "      <td>...</td>\n",
       "      <td>...</td>\n",
       "    </tr>\n",
       "    <tr>\n",
       "      <th>44893</th>\n",
       "      <td>0</td>\n",
       "      <td>'Fully committed' NATO backs new U.S. approach...</td>\n",
       "      <td>BRUSSELS (Reuters) - NATO allies on Tuesday we...</td>\n",
       "      <td>August 22, 2017</td>\n",
       "      <td>466</td>\n",
       "    </tr>\n",
       "    <tr>\n",
       "      <th>44894</th>\n",
       "      <td>0</td>\n",
       "      <td>LexisNexis withdrew two products from Chinese ...</td>\n",
       "      <td>LONDON (Reuters) - LexisNexis, a provider of l...</td>\n",
       "      <td>August 22, 2017</td>\n",
       "      <td>125</td>\n",
       "    </tr>\n",
       "    <tr>\n",
       "      <th>44895</th>\n",
       "      <td>0</td>\n",
       "      <td>Minsk cultural hub becomes haven from authorities</td>\n",
       "      <td>MINSK (Reuters) - In the shadow of disused Sov...</td>\n",
       "      <td>August 22, 2017</td>\n",
       "      <td>320</td>\n",
       "    </tr>\n",
       "    <tr>\n",
       "      <th>44896</th>\n",
       "      <td>0</td>\n",
       "      <td>Vatican upbeat on possibility of Pope Francis ...</td>\n",
       "      <td>MOSCOW (Reuters) - Vatican Secretary of State ...</td>\n",
       "      <td>August 22, 2017</td>\n",
       "      <td>205</td>\n",
       "    </tr>\n",
       "    <tr>\n",
       "      <th>44897</th>\n",
       "      <td>0</td>\n",
       "      <td>Indonesia to buy $1.14 billion worth of Russia...</td>\n",
       "      <td>JAKARTA (Reuters) - Indonesia will buy 11 Sukh...</td>\n",
       "      <td>August 22, 2017</td>\n",
       "      <td>210</td>\n",
       "    </tr>\n",
       "  </tbody>\n",
       "</table>\n",
       "<p>44898 rows × 5 columns</p>\n",
       "</div>"
      ],
      "text/plain": [
       "      Fake                                              title  \\\n",
       "0        1   Donald Trump Sends Out Embarrassing New Year’...   \n",
       "1        1   Drunk Bragging Trump Staffer Started Russian ...   \n",
       "2        1   Sheriff David Clarke Becomes An Internet Joke...   \n",
       "3        1   Trump Is So Obsessed He Even Has Obama’s Name...   \n",
       "4        1   Pope Francis Just Called Out Donald Trump Dur...   \n",
       "...    ...                                                ...   \n",
       "44893    0  'Fully committed' NATO backs new U.S. approach...   \n",
       "44894    0  LexisNexis withdrew two products from Chinese ...   \n",
       "44895    0  Minsk cultural hub becomes haven from authorities   \n",
       "44896    0  Vatican upbeat on possibility of Pope Francis ...   \n",
       "44897    0  Indonesia to buy $1.14 billion worth of Russia...   \n",
       "\n",
       "                                                    text               date  \\\n",
       "0      Donald Trump just couldn t wish all Americans ...  December 31, 2017   \n",
       "1      House Intelligence Committee Chairman Devin Nu...  December 31, 2017   \n",
       "2      On Friday, it was revealed that former Milwauk...  December 30, 2017   \n",
       "3      On Christmas day, Donald Trump announced that ...  December 29, 2017   \n",
       "4      Pope Francis used his annual Christmas Day mes...  December 25, 2017   \n",
       "...                                                  ...                ...   \n",
       "44893  BRUSSELS (Reuters) - NATO allies on Tuesday we...   August 22, 2017    \n",
       "44894  LONDON (Reuters) - LexisNexis, a provider of l...   August 22, 2017    \n",
       "44895  MINSK (Reuters) - In the shadow of disused Sov...   August 22, 2017    \n",
       "44896  MOSCOW (Reuters) - Vatican Secretary of State ...   August 22, 2017    \n",
       "44897  JAKARTA (Reuters) - Indonesia will buy 11 Sukh...   August 22, 2017    \n",
       "\n",
       "       word_count  \n",
       "0             495  \n",
       "1             305  \n",
       "2             580  \n",
       "3             444  \n",
       "4             420  \n",
       "...           ...  \n",
       "44893         466  \n",
       "44894         125  \n",
       "44895         320  \n",
       "44896         205  \n",
       "44897         210  \n",
       "\n",
       "[44898 rows x 5 columns]"
      ]
     },
     "execution_count": 22,
     "metadata": {},
     "output_type": "execute_result"
    }
   ],
   "source": [
    "Fake_News_Data"
   ]
  },
  {
   "cell_type": "code",
   "execution_count": 23,
   "metadata": {},
   "outputs": [
    {
     "data": {
      "text/plain": [
       "Fake\n",
       "0    385.640099\n",
       "1    423.197905\n",
       "Name: word_count, dtype: float64"
      ]
     },
     "execution_count": 23,
     "metadata": {},
     "output_type": "execute_result"
    }
   ],
   "source": [
    "Fake_News_Data.groupby('Fake')['word_count'].mean()"
   ]
  },
  {
   "cell_type": "markdown",
   "metadata": {},
   "source": []
  },
  {
   "cell_type": "code",
   "execution_count": 24,
   "metadata": {},
   "outputs": [],
   "source": [
    "def limpiar_tokenizar(texto):\n",
    "\n",
    "    import re\n",
    "    \n",
    "    '''\n",
    "    Esta función limpia y tokeniza el texto en palabras individuales.\n",
    "    El orden en el que se va limpiando el texto no es arbitrario.\n",
    "    El listado de signos de puntuación se ha obtenido de: print(string.punctuation)\n",
    "    y re.escape(string.punctuation)\n",
    "    '''\n",
    "    \n",
    "    # Se convierte todo el texto a minúsculas\n",
    "\n",
    "    nuevo_texto = texto.lower()\n",
    "    \n",
    "    # Eliminación de páginas web (palabras que empiezan por \"http\")\n",
    "    \n",
    "    nuevo_texto = re.sub('http\\S+', ' ', nuevo_texto)\n",
    "    \n",
    "    # Eliminación de signos de puntuación\n",
    "    \n",
    "    regex = '[\\\\!\\\\\"\\\\#\\\\$\\\\%\\\\&\\\\\\'\\\\(\\\\)\\\\*\\\\+\\\\,\\\\-\\\\.\\\\/\\\\:\\\\;\\\\<\\\\=\\\\>\\\\?\\\\@\\\\[\\\\\\\\\\\\]\\\\^_\\\\`\\\\{\\\\|\\\\}\\\\~]'\n",
    "    \n",
    "    nuevo_texto = re.sub(regex , ' ', nuevo_texto)\n",
    "    \n",
    "    # Eliminación de números\n",
    "    \n",
    "    nuevo_texto = re.sub(\"\\d+\", ' ', nuevo_texto)\n",
    "    \n",
    "    # Eliminación de espacios en blanco múltiples\n",
    "    \n",
    "    nuevo_texto = re.sub(\"\\\\s+\", ' ', nuevo_texto)\n",
    "    \n",
    "    # Tokenización por palabras individuales\n",
    "    \n",
    "    nuevo_texto = nuevo_texto.split(sep = ' ')\n",
    "    \n",
    "    # Eliminación de tokens con una longitud <= 1\n",
    "    \n",
    "    nuevo_texto = [token for token in nuevo_texto if len(token) >=  2]\n",
    "    \n",
    "    return(nuevo_texto)"
   ]
  },
  {
   "cell_type": "code",
   "execution_count": 25,
   "metadata": {},
   "outputs": [
    {
     "name": "stdout",
     "output_type": "stream",
     "text": [
      "['esto', 'es', 'ejemplo', 'de', 'limpieza', 'de', 'texto', 'cienciadedatos', 'textmining']\n"
     ]
    }
   ],
   "source": [
    "\n",
    "test = \"Esto es 1 ejemplo de l'limpieza de6 TEXTO  https://t.co/rnHPgyhx4Z @cienciadedatos #textmining\"\n",
    "\n",
    "print(limpiar_tokenizar(texto=test))"
   ]
  },
  {
   "cell_type": "code",
   "execution_count": 26,
   "metadata": {},
   "outputs": [
    {
     "data": {
      "text/plain": [
       "'Donald Trump just couldn t wish all Americans a Happy New Year and leave it at that. Instead, he had to give a shout out to his enemies, haters and  the very dishonest fake news media.  The former reality show star had just one job to do and he couldn t do it. As our Country rapidly grows stronger and smarter, I want to wish all of my friends, supporters, enemies, haters, and even the very dishonest Fake News Media, a Happy and Healthy New Year,  President Angry Pants tweeted.  2018 will be a great year for America! As our Country rapidly grows stronger and smarter, I want to wish all of my friends, supporters, enemies, haters, and even the very dishonest Fake News Media, a Happy and Healthy New Year. 2018 will be a great year for America!  Donald J. Trump (@realDonaldTrump) December 31, 2017Trump s tweet went down about as welll as you d expect.What kind of president sends a New Year s greeting like this despicable, petty, infantile gibberish? Only Trump! His lack of decency won t even allow him to rise above the gutter long enough to wish the American citizens a happy new year!  Bishop Talbert Swan (@TalbertSwan) December 31, 2017no one likes you  Calvin (@calvinstowell) December 31, 2017Your impeachment would make 2018 a great year for America, but I ll also accept regaining control of Congress.  Miranda Yaver (@mirandayaver) December 31, 2017Do you hear yourself talk? When you have to include that many people that hate you you have to wonder? Why do the they all hate me?  Alan Sandoval (@AlanSandoval13) December 31, 2017Who uses the word Haters in a New Years wish??  Marlene (@marlene399) December 31, 2017You can t just say happy new year?  Koren pollitt (@Korencarpenter) December 31, 2017Here s Trump s New Year s Eve tweet from 2016.Happy New Year to all, including to my many enemies and those who have fought me and lost so badly they just don t know what to do. Love!  Donald J. Trump (@realDonaldTrump) December 31, 2016This is nothing new for Trump. He s been doing this for years.Trump has directed messages to his  enemies  and  haters  for New Year s, Easter, Thanksgiving, and the anniversary of 9/11. pic.twitter.com/4FPAe2KypA  Daniel Dale (@ddale8) December 31, 2017Trump s holiday tweets are clearly not presidential.How long did he work at Hallmark before becoming President?  Steven Goodine (@SGoodine) December 31, 2017He s always been like this . . . the only difference is that in the last few years, his filter has been breaking down.  Roy Schulze (@thbthttt) December 31, 2017Who, apart from a teenager uses the term haters?  Wendy (@WendyWhistles) December 31, 2017he s a fucking 5 year old  Who Knows (@rainyday80) December 31, 2017So, to all the people who voted for this a hole thinking he would change once he got into power, you were wrong! 70-year-old men don t change and now he s a year older.Photo by Andrew Burton/Getty Images.'"
      ]
     },
     "execution_count": 26,
     "metadata": {},
     "output_type": "execute_result"
    }
   ],
   "source": [
    "Fake_News_Data['text'][0]"
   ]
  },
  {
   "cell_type": "code",
   "execution_count": 27,
   "metadata": {},
   "outputs": [
    {
     "name": "stdout",
     "output_type": "stream",
     "text": [
      "['donald', 'trump', 'just', 'couldn', 'wish', 'all', 'americans', 'happy', 'new', 'year', 'and', 'leave', 'it', 'at', 'that', 'instead', 'he', 'had', 'to', 'give', 'shout', 'out', 'to', 'his', 'enemies', 'haters', 'and', 'the', 'very', 'dishonest', 'fake', 'news', 'media', 'the', 'former', 'reality', 'show', 'star', 'had', 'just', 'one', 'job', 'to', 'do', 'and', 'he', 'couldn', 'do', 'it', 'as', 'our', 'country', 'rapidly', 'grows', 'stronger', 'and', 'smarter', 'want', 'to', 'wish', 'all', 'of', 'my', 'friends', 'supporters', 'enemies', 'haters', 'and', 'even', 'the', 'very', 'dishonest', 'fake', 'news', 'media', 'happy', 'and', 'healthy', 'new', 'year', 'president', 'angry', 'pants', 'tweeted', 'will', 'be', 'great', 'year', 'for', 'america', 'as', 'our', 'country', 'rapidly', 'grows', 'stronger', 'and', 'smarter', 'want', 'to', 'wish', 'all', 'of', 'my', 'friends', 'supporters', 'enemies', 'haters', 'and', 'even', 'the', 'very', 'dishonest', 'fake', 'news', 'media', 'happy', 'and', 'healthy', 'new', 'year', 'will', 'be', 'great', 'year', 'for', 'america', 'donald', 'trump', 'realdonaldtrump', 'december', 'trump', 'tweet', 'went', 'down', 'about', 'as', 'welll', 'as', 'you', 'expect', 'what', 'kind', 'of', 'president', 'sends', 'new', 'year', 'greeting', 'like', 'this', 'despicable', 'petty', 'infantile', 'gibberish', 'only', 'trump', 'his', 'lack', 'of', 'decency', 'won', 'even', 'allow', 'him', 'to', 'rise', 'above', 'the', 'gutter', 'long', 'enough', 'to', 'wish', 'the', 'american', 'citizens', 'happy', 'new', 'year', 'bishop', 'talbert', 'swan', 'talbertswan', 'december', 'no', 'one', 'likes', 'you', 'calvin', 'calvinstowell', 'december', 'your', 'impeachment', 'would', 'make', 'great', 'year', 'for', 'america', 'but', 'll', 'also', 'accept', 'regaining', 'control', 'of', 'congress', 'miranda', 'yaver', 'mirandayaver', 'december', 'do', 'you', 'hear', 'yourself', 'talk', 'when', 'you', 'have', 'to', 'include', 'that', 'many', 'people', 'that', 'hate', 'you', 'you', 'have', 'to', 'wonder', 'why', 'do', 'the', 'they', 'all', 'hate', 'me', 'alan', 'sandoval', 'alansandoval', 'december', 'who', 'uses', 'the', 'word', 'haters', 'in', 'new', 'years', 'wish', 'marlene', 'marlene', 'december', 'you', 'can', 'just', 'say', 'happy', 'new', 'year', 'koren', 'pollitt', 'korencarpenter', 'december', 'here', 'trump', 'new', 'year', 'eve', 'tweet', 'from', 'happy', 'new', 'year', 'to', 'all', 'including', 'to', 'my', 'many', 'enemies', 'and', 'those', 'who', 'have', 'fought', 'me', 'and', 'lost', 'so', 'badly', 'they', 'just', 'don', 'know', 'what', 'to', 'do', 'love', 'donald', 'trump', 'realdonaldtrump', 'december', 'this', 'is', 'nothing', 'new', 'for', 'trump', 'he', 'been', 'doing', 'this', 'for', 'years', 'trump', 'has', 'directed', 'messages', 'to', 'his', 'enemies', 'and', 'haters', 'for', 'new', 'year', 'easter', 'thanksgiving', 'and', 'the', 'anniversary', 'of', 'pic', 'twitter', 'com', 'fpae', 'kypa', 'daniel', 'dale', 'ddale', 'december', 'trump', 'holiday', 'tweets', 'are', 'clearly', 'not', 'presidential', 'how', 'long', 'did', 'he', 'work', 'at', 'hallmark', 'before', 'becoming', 'president', 'steven', 'goodine', 'sgoodine', 'december', 'he', 'always', 'been', 'like', 'this', 'the', 'only', 'difference', 'is', 'that', 'in', 'the', 'last', 'few', 'years', 'his', 'filter', 'has', 'been', 'breaking', 'down', 'roy', 'schulze', 'thbthttt', 'december', 'who', 'apart', 'from', 'teenager', 'uses', 'the', 'term', 'haters', 'wendy', 'wendywhistles', 'december', 'he', 'fucking', 'year', 'old', 'who', 'knows', 'rainyday', 'december', 'so', 'to', 'all', 'the', 'people', 'who', 'voted', 'for', 'this', 'hole', 'thinking', 'he', 'would', 'change', 'once', 'he', 'got', 'into', 'power', 'you', 'were', 'wrong', 'year', 'old', 'men', 'don', 'change', 'and', 'now', 'he', 'year', 'older', 'photo', 'by', 'andrew', 'burton', 'getty', 'images']\n"
     ]
    }
   ],
   "source": [
    "print(limpiar_tokenizar(texto=Fake_News_Data['text'][0]))"
   ]
  },
  {
   "cell_type": "code",
   "execution_count": 28,
   "metadata": {},
   "outputs": [],
   "source": [
    "Fake_News_Data['text_tokenizado'] = Fake_News_Data['text'].apply( limpiar_tokenizar )"
   ]
  },
  {
   "cell_type": "code",
   "execution_count": 29,
   "metadata": {},
   "outputs": [],
   "source": [
    "Fake_News_Data['id_text'] = range(0, len(Fake_News_Data))"
   ]
  },
  {
   "cell_type": "code",
   "execution_count": 30,
   "metadata": {},
   "outputs": [
    {
     "data": {
      "text/html": [
       "<div>\n",
       "<style scoped>\n",
       "    .dataframe tbody tr th:only-of-type {\n",
       "        vertical-align: middle;\n",
       "    }\n",
       "\n",
       "    .dataframe tbody tr th {\n",
       "        vertical-align: top;\n",
       "    }\n",
       "\n",
       "    .dataframe thead th {\n",
       "        text-align: right;\n",
       "    }\n",
       "</style>\n",
       "<table border=\"1\" class=\"dataframe\">\n",
       "  <thead>\n",
       "    <tr style=\"text-align: right;\">\n",
       "      <th></th>\n",
       "      <th>Fake</th>\n",
       "      <th>title</th>\n",
       "      <th>text</th>\n",
       "      <th>date</th>\n",
       "      <th>word_count</th>\n",
       "      <th>text_tokenizado</th>\n",
       "      <th>id_text</th>\n",
       "    </tr>\n",
       "  </thead>\n",
       "  <tbody>\n",
       "    <tr>\n",
       "      <th>0</th>\n",
       "      <td>1</td>\n",
       "      <td>Donald Trump Sends Out Embarrassing New Year’...</td>\n",
       "      <td>Donald Trump just couldn t wish all Americans ...</td>\n",
       "      <td>December 31, 2017</td>\n",
       "      <td>495</td>\n",
       "      <td>[donald, trump, just, couldn, wish, all, ameri...</td>\n",
       "      <td>0</td>\n",
       "    </tr>\n",
       "    <tr>\n",
       "      <th>1</th>\n",
       "      <td>1</td>\n",
       "      <td>Drunk Bragging Trump Staffer Started Russian ...</td>\n",
       "      <td>House Intelligence Committee Chairman Devin Nu...</td>\n",
       "      <td>December 31, 2017</td>\n",
       "      <td>305</td>\n",
       "      <td>[house, intelligence, committee, chairman, dev...</td>\n",
       "      <td>1</td>\n",
       "    </tr>\n",
       "    <tr>\n",
       "      <th>2</th>\n",
       "      <td>1</td>\n",
       "      <td>Sheriff David Clarke Becomes An Internet Joke...</td>\n",
       "      <td>On Friday, it was revealed that former Milwauk...</td>\n",
       "      <td>December 30, 2017</td>\n",
       "      <td>580</td>\n",
       "      <td>[on, friday, it, was, revealed, that, former, ...</td>\n",
       "      <td>2</td>\n",
       "    </tr>\n",
       "    <tr>\n",
       "      <th>3</th>\n",
       "      <td>1</td>\n",
       "      <td>Trump Is So Obsessed He Even Has Obama’s Name...</td>\n",
       "      <td>On Christmas day, Donald Trump announced that ...</td>\n",
       "      <td>December 29, 2017</td>\n",
       "      <td>444</td>\n",
       "      <td>[on, christmas, day, donald, trump, announced,...</td>\n",
       "      <td>3</td>\n",
       "    </tr>\n",
       "    <tr>\n",
       "      <th>4</th>\n",
       "      <td>1</td>\n",
       "      <td>Pope Francis Just Called Out Donald Trump Dur...</td>\n",
       "      <td>Pope Francis used his annual Christmas Day mes...</td>\n",
       "      <td>December 25, 2017</td>\n",
       "      <td>420</td>\n",
       "      <td>[pope, francis, used, his, annual, christmas, ...</td>\n",
       "      <td>4</td>\n",
       "    </tr>\n",
       "    <tr>\n",
       "      <th>...</th>\n",
       "      <td>...</td>\n",
       "      <td>...</td>\n",
       "      <td>...</td>\n",
       "      <td>...</td>\n",
       "      <td>...</td>\n",
       "      <td>...</td>\n",
       "      <td>...</td>\n",
       "    </tr>\n",
       "    <tr>\n",
       "      <th>44893</th>\n",
       "      <td>0</td>\n",
       "      <td>'Fully committed' NATO backs new U.S. approach...</td>\n",
       "      <td>BRUSSELS (Reuters) - NATO allies on Tuesday we...</td>\n",
       "      <td>August 22, 2017</td>\n",
       "      <td>466</td>\n",
       "      <td>[brussels, reuters, nato, allies, on, tuesday,...</td>\n",
       "      <td>44893</td>\n",
       "    </tr>\n",
       "    <tr>\n",
       "      <th>44894</th>\n",
       "      <td>0</td>\n",
       "      <td>LexisNexis withdrew two products from Chinese ...</td>\n",
       "      <td>LONDON (Reuters) - LexisNexis, a provider of l...</td>\n",
       "      <td>August 22, 2017</td>\n",
       "      <td>125</td>\n",
       "      <td>[london, reuters, lexisnexis, provider, of, le...</td>\n",
       "      <td>44894</td>\n",
       "    </tr>\n",
       "    <tr>\n",
       "      <th>44895</th>\n",
       "      <td>0</td>\n",
       "      <td>Minsk cultural hub becomes haven from authorities</td>\n",
       "      <td>MINSK (Reuters) - In the shadow of disused Sov...</td>\n",
       "      <td>August 22, 2017</td>\n",
       "      <td>320</td>\n",
       "      <td>[minsk, reuters, in, the, shadow, of, disused,...</td>\n",
       "      <td>44895</td>\n",
       "    </tr>\n",
       "    <tr>\n",
       "      <th>44896</th>\n",
       "      <td>0</td>\n",
       "      <td>Vatican upbeat on possibility of Pope Francis ...</td>\n",
       "      <td>MOSCOW (Reuters) - Vatican Secretary of State ...</td>\n",
       "      <td>August 22, 2017</td>\n",
       "      <td>205</td>\n",
       "      <td>[moscow, reuters, vatican, secretary, of, stat...</td>\n",
       "      <td>44896</td>\n",
       "    </tr>\n",
       "    <tr>\n",
       "      <th>44897</th>\n",
       "      <td>0</td>\n",
       "      <td>Indonesia to buy $1.14 billion worth of Russia...</td>\n",
       "      <td>JAKARTA (Reuters) - Indonesia will buy 11 Sukh...</td>\n",
       "      <td>August 22, 2017</td>\n",
       "      <td>210</td>\n",
       "      <td>[jakarta, reuters, indonesia, will, buy, sukho...</td>\n",
       "      <td>44897</td>\n",
       "    </tr>\n",
       "  </tbody>\n",
       "</table>\n",
       "<p>44898 rows × 7 columns</p>\n",
       "</div>"
      ],
      "text/plain": [
       "      Fake                                              title  \\\n",
       "0        1   Donald Trump Sends Out Embarrassing New Year’...   \n",
       "1        1   Drunk Bragging Trump Staffer Started Russian ...   \n",
       "2        1   Sheriff David Clarke Becomes An Internet Joke...   \n",
       "3        1   Trump Is So Obsessed He Even Has Obama’s Name...   \n",
       "4        1   Pope Francis Just Called Out Donald Trump Dur...   \n",
       "...    ...                                                ...   \n",
       "44893    0  'Fully committed' NATO backs new U.S. approach...   \n",
       "44894    0  LexisNexis withdrew two products from Chinese ...   \n",
       "44895    0  Minsk cultural hub becomes haven from authorities   \n",
       "44896    0  Vatican upbeat on possibility of Pope Francis ...   \n",
       "44897    0  Indonesia to buy $1.14 billion worth of Russia...   \n",
       "\n",
       "                                                    text               date  \\\n",
       "0      Donald Trump just couldn t wish all Americans ...  December 31, 2017   \n",
       "1      House Intelligence Committee Chairman Devin Nu...  December 31, 2017   \n",
       "2      On Friday, it was revealed that former Milwauk...  December 30, 2017   \n",
       "3      On Christmas day, Donald Trump announced that ...  December 29, 2017   \n",
       "4      Pope Francis used his annual Christmas Day mes...  December 25, 2017   \n",
       "...                                                  ...                ...   \n",
       "44893  BRUSSELS (Reuters) - NATO allies on Tuesday we...   August 22, 2017    \n",
       "44894  LONDON (Reuters) - LexisNexis, a provider of l...   August 22, 2017    \n",
       "44895  MINSK (Reuters) - In the shadow of disused Sov...   August 22, 2017    \n",
       "44896  MOSCOW (Reuters) - Vatican Secretary of State ...   August 22, 2017    \n",
       "44897  JAKARTA (Reuters) - Indonesia will buy 11 Sukh...   August 22, 2017    \n",
       "\n",
       "       word_count                                    text_tokenizado  id_text  \n",
       "0             495  [donald, trump, just, couldn, wish, all, ameri...        0  \n",
       "1             305  [house, intelligence, committee, chairman, dev...        1  \n",
       "2             580  [on, friday, it, was, revealed, that, former, ...        2  \n",
       "3             444  [on, christmas, day, donald, trump, announced,...        3  \n",
       "4             420  [pope, francis, used, his, annual, christmas, ...        4  \n",
       "...           ...                                                ...      ...  \n",
       "44893         466  [brussels, reuters, nato, allies, on, tuesday,...    44893  \n",
       "44894         125  [london, reuters, lexisnexis, provider, of, le...    44894  \n",
       "44895         320  [minsk, reuters, in, the, shadow, of, disused,...    44895  \n",
       "44896         205  [moscow, reuters, vatican, secretary, of, stat...    44896  \n",
       "44897         210  [jakarta, reuters, indonesia, will, buy, sukho...    44897  \n",
       "\n",
       "[44898 rows x 7 columns]"
      ]
     },
     "execution_count": 30,
     "metadata": {},
     "output_type": "execute_result"
    }
   ],
   "source": [
    "Fake_News_Data"
   ]
  },
  {
   "cell_type": "code",
   "execution_count": 31,
   "metadata": {},
   "outputs": [],
   "source": [
    "Fake_News_Tokens = Fake_News_Data.loc[:, ['id_text', 'text_tokenizado', 'Fake'] ].explode(column='text_tokenizado')\n",
    "\n",
    "Fake_News_Tokens = Fake_News_Tokens.rename(columns={'text_tokenizado':'token'})"
   ]
  },
  {
   "cell_type": "code",
   "execution_count": 32,
   "metadata": {},
   "outputs": [
    {
     "data": {
      "text/html": [
       "<div>\n",
       "<style scoped>\n",
       "    .dataframe tbody tr th:only-of-type {\n",
       "        vertical-align: middle;\n",
       "    }\n",
       "\n",
       "    .dataframe tbody tr th {\n",
       "        vertical-align: top;\n",
       "    }\n",
       "\n",
       "    .dataframe thead th {\n",
       "        text-align: right;\n",
       "    }\n",
       "</style>\n",
       "<table border=\"1\" class=\"dataframe\">\n",
       "  <thead>\n",
       "    <tr style=\"text-align: right;\">\n",
       "      <th></th>\n",
       "      <th>id_text</th>\n",
       "      <th>token</th>\n",
       "      <th>Fake</th>\n",
       "    </tr>\n",
       "  </thead>\n",
       "  <tbody>\n",
       "    <tr>\n",
       "      <th>0</th>\n",
       "      <td>0</td>\n",
       "      <td>donald</td>\n",
       "      <td>1</td>\n",
       "    </tr>\n",
       "    <tr>\n",
       "      <th>0</th>\n",
       "      <td>0</td>\n",
       "      <td>trump</td>\n",
       "      <td>1</td>\n",
       "    </tr>\n",
       "    <tr>\n",
       "      <th>0</th>\n",
       "      <td>0</td>\n",
       "      <td>just</td>\n",
       "      <td>1</td>\n",
       "    </tr>\n",
       "    <tr>\n",
       "      <th>0</th>\n",
       "      <td>0</td>\n",
       "      <td>couldn</td>\n",
       "      <td>1</td>\n",
       "    </tr>\n",
       "    <tr>\n",
       "      <th>0</th>\n",
       "      <td>0</td>\n",
       "      <td>wish</td>\n",
       "      <td>1</td>\n",
       "    </tr>\n",
       "    <tr>\n",
       "      <th>...</th>\n",
       "      <td>...</td>\n",
       "      <td>...</td>\n",
       "      <td>...</td>\n",
       "    </tr>\n",
       "    <tr>\n",
       "      <th>44897</th>\n",
       "      <td>44897</td>\n",
       "      <td>technology</td>\n",
       "      <td>0</td>\n",
       "    </tr>\n",
       "    <tr>\n",
       "      <th>44897</th>\n",
       "      <td>44897</td>\n",
       "      <td>and</td>\n",
       "      <td>0</td>\n",
       "    </tr>\n",
       "    <tr>\n",
       "      <th>44897</th>\n",
       "      <td>44897</td>\n",
       "      <td>aviation</td>\n",
       "      <td>0</td>\n",
       "    </tr>\n",
       "    <tr>\n",
       "      <th>44897</th>\n",
       "      <td>44897</td>\n",
       "      <td>among</td>\n",
       "      <td>0</td>\n",
       "    </tr>\n",
       "    <tr>\n",
       "      <th>44897</th>\n",
       "      <td>44897</td>\n",
       "      <td>others</td>\n",
       "      <td>0</td>\n",
       "    </tr>\n",
       "  </tbody>\n",
       "</table>\n",
       "<p>17503760 rows × 3 columns</p>\n",
       "</div>"
      ],
      "text/plain": [
       "       id_text       token Fake\n",
       "0            0      donald    1\n",
       "0            0       trump    1\n",
       "0            0        just    1\n",
       "0            0      couldn    1\n",
       "0            0        wish    1\n",
       "...        ...         ...  ...\n",
       "44897    44897  technology    0\n",
       "44897    44897         and    0\n",
       "44897    44897    aviation    0\n",
       "44897    44897       among    0\n",
       "44897    44897      others    0\n",
       "\n",
       "[17503760 rows x 3 columns]"
      ]
     },
     "execution_count": 32,
     "metadata": {},
     "output_type": "execute_result"
    }
   ],
   "source": [
    "Fake_News_Tokens"
   ]
  },
  {
   "cell_type": "code",
   "execution_count": 33,
   "metadata": {},
   "outputs": [
    {
     "data": {
      "text/plain": [
       "Fake\n",
       "0    7891501\n",
       "1    9611544\n",
       "Name: token, dtype: int64"
      ]
     },
     "execution_count": 33,
     "metadata": {},
     "output_type": "execute_result"
    }
   ],
   "source": [
    "# nº de palabras (tokens) en el conjunto de textos clasificados como fake y en los no fake\n",
    "\n",
    "Fake_News_Tokens.groupby(by='Fake')['token'].count()"
   ]
  },
  {
   "cell_type": "code",
   "execution_count": 34,
   "metadata": {},
   "outputs": [
    {
     "data": {
      "text/plain": [
       "Fake\n",
       "0    78020\n",
       "1    85642\n",
       "Name: token, dtype: int64"
      ]
     },
     "execution_count": 34,
     "metadata": {},
     "output_type": "execute_result"
    }
   ],
   "source": [
    "# nº de palabras (tokens) *unicas* en el conjunto de textos clasificados como fake y en los no fake\n",
    "\n",
    "Fake_News_Tokens.groupby(by='Fake')['token'].nunique()"
   ]
  },
  {
   "cell_type": "code",
   "execution_count": 35,
   "metadata": {},
   "outputs": [],
   "source": [
    "# nº de palabras (tokens) en cada texto individual clasificados como fake y en los no fake\n",
    "\n",
    "df1 = pd.DataFrame( Fake_News_Tokens.groupby(by = [\"id_text\" , \"Fake\"] )[\"token\"].count().rename('nº_tokens') )"
   ]
  },
  {
   "cell_type": "code",
   "execution_count": 36,
   "metadata": {},
   "outputs": [
    {
     "data": {
      "text/html": [
       "<div>\n",
       "<style scoped>\n",
       "    .dataframe tbody tr th:only-of-type {\n",
       "        vertical-align: middle;\n",
       "    }\n",
       "\n",
       "    .dataframe tbody tr th {\n",
       "        vertical-align: top;\n",
       "    }\n",
       "\n",
       "    .dataframe thead th {\n",
       "        text-align: right;\n",
       "    }\n",
       "</style>\n",
       "<table border=\"1\" class=\"dataframe\">\n",
       "  <thead>\n",
       "    <tr style=\"text-align: right;\">\n",
       "      <th></th>\n",
       "      <th></th>\n",
       "      <th>nº_tokens</th>\n",
       "    </tr>\n",
       "    <tr>\n",
       "      <th>id_text</th>\n",
       "      <th>Fake</th>\n",
       "      <th></th>\n",
       "    </tr>\n",
       "  </thead>\n",
       "  <tbody>\n",
       "    <tr>\n",
       "      <th>0</th>\n",
       "      <th>1</th>\n",
       "      <td>447</td>\n",
       "    </tr>\n",
       "    <tr>\n",
       "      <th>1</th>\n",
       "      <th>1</th>\n",
       "      <td>294</td>\n",
       "    </tr>\n",
       "    <tr>\n",
       "      <th>2</th>\n",
       "      <th>1</th>\n",
       "      <td>563</td>\n",
       "    </tr>\n",
       "    <tr>\n",
       "      <th>3</th>\n",
       "      <th>1</th>\n",
       "      <td>426</td>\n",
       "    </tr>\n",
       "    <tr>\n",
       "      <th>4</th>\n",
       "      <th>1</th>\n",
       "      <td>415</td>\n",
       "    </tr>\n",
       "    <tr>\n",
       "      <th>...</th>\n",
       "      <th>...</th>\n",
       "      <td>...</td>\n",
       "    </tr>\n",
       "    <tr>\n",
       "      <th>44893</th>\n",
       "      <th>0</th>\n",
       "      <td>433</td>\n",
       "    </tr>\n",
       "    <tr>\n",
       "      <th>44894</th>\n",
       "      <th>0</th>\n",
       "      <td>120</td>\n",
       "    </tr>\n",
       "    <tr>\n",
       "      <th>44895</th>\n",
       "      <th>0</th>\n",
       "      <td>307</td>\n",
       "    </tr>\n",
       "    <tr>\n",
       "      <th>44896</th>\n",
       "      <th>0</th>\n",
       "      <td>196</td>\n",
       "    </tr>\n",
       "    <tr>\n",
       "      <th>44897</th>\n",
       "      <th>0</th>\n",
       "      <td>197</td>\n",
       "    </tr>\n",
       "  </tbody>\n",
       "</table>\n",
       "<p>44898 rows × 1 columns</p>\n",
       "</div>"
      ],
      "text/plain": [
       "              nº_tokens\n",
       "id_text Fake           \n",
       "0       1           447\n",
       "1       1           294\n",
       "2       1           563\n",
       "3       1           426\n",
       "4       1           415\n",
       "...                 ...\n",
       "44893   0           433\n",
       "44894   0           120\n",
       "44895   0           307\n",
       "44896   0           196\n",
       "44897   0           197\n",
       "\n",
       "[44898 rows x 1 columns]"
      ]
     },
     "execution_count": 36,
     "metadata": {},
     "output_type": "execute_result"
    }
   ],
   "source": [
    "df1"
   ]
  },
  {
   "cell_type": "code",
   "execution_count": 37,
   "metadata": {},
   "outputs": [
    {
     "data": {
      "text/html": [
       "<div>\n",
       "<style scoped>\n",
       "    .dataframe tbody tr th:only-of-type {\n",
       "        vertical-align: middle;\n",
       "    }\n",
       "\n",
       "    .dataframe tbody tr th {\n",
       "        vertical-align: top;\n",
       "    }\n",
       "\n",
       "    .dataframe thead th {\n",
       "        text-align: right;\n",
       "    }\n",
       "</style>\n",
       "<table border=\"1\" class=\"dataframe\">\n",
       "  <thead>\n",
       "    <tr style=\"text-align: right;\">\n",
       "      <th></th>\n",
       "      <th></th>\n",
       "      <th>nº_tokens</th>\n",
       "    </tr>\n",
       "    <tr>\n",
       "      <th>id_text</th>\n",
       "      <th>Fake</th>\n",
       "      <th></th>\n",
       "    </tr>\n",
       "  </thead>\n",
       "  <tbody>\n",
       "    <tr>\n",
       "      <th>9358</th>\n",
       "      <th>1</th>\n",
       "      <td>0</td>\n",
       "    </tr>\n",
       "    <tr>\n",
       "      <th>10923</th>\n",
       "      <th>1</th>\n",
       "      <td>0</td>\n",
       "    </tr>\n",
       "    <tr>\n",
       "      <th>11041</th>\n",
       "      <th>1</th>\n",
       "      <td>0</td>\n",
       "    </tr>\n",
       "    <tr>\n",
       "      <th>11190</th>\n",
       "      <th>1</th>\n",
       "      <td>0</td>\n",
       "    </tr>\n",
       "    <tr>\n",
       "      <th>11225</th>\n",
       "      <th>1</th>\n",
       "      <td>0</td>\n",
       "    </tr>\n",
       "    <tr>\n",
       "      <th>...</th>\n",
       "      <th>...</th>\n",
       "      <td>...</td>\n",
       "    </tr>\n",
       "    <tr>\n",
       "      <th>21857</th>\n",
       "      <th>1</th>\n",
       "      <td>0</td>\n",
       "    </tr>\n",
       "    <tr>\n",
       "      <th>21869</th>\n",
       "      <th>1</th>\n",
       "      <td>0</td>\n",
       "    </tr>\n",
       "    <tr>\n",
       "      <th>21870</th>\n",
       "      <th>1</th>\n",
       "      <td>0</td>\n",
       "    </tr>\n",
       "    <tr>\n",
       "      <th>21873</th>\n",
       "      <th>1</th>\n",
       "      <td>0</td>\n",
       "    </tr>\n",
       "    <tr>\n",
       "      <th>32451</th>\n",
       "      <th>0</th>\n",
       "      <td>0</td>\n",
       "    </tr>\n",
       "  </tbody>\n",
       "</table>\n",
       "<p>715 rows × 1 columns</p>\n",
       "</div>"
      ],
      "text/plain": [
       "              nº_tokens\n",
       "id_text Fake           \n",
       "9358    1             0\n",
       "10923   1             0\n",
       "11041   1             0\n",
       "11190   1             0\n",
       "11225   1             0\n",
       "...                 ...\n",
       "21857   1             0\n",
       "21869   1             0\n",
       "21870   1             0\n",
       "21873   1             0\n",
       "32451   0             0\n",
       "\n",
       "[715 rows x 1 columns]"
      ]
     },
     "execution_count": 37,
     "metadata": {},
     "output_type": "execute_result"
    }
   ],
   "source": [
    "df1.loc[df1['nº_tokens'] == 0, :]"
   ]
  },
  {
   "cell_type": "code",
   "execution_count": 38,
   "metadata": {},
   "outputs": [
    {
     "data": {
      "text/html": [
       "<div>\n",
       "<style scoped>\n",
       "    .dataframe tbody tr th:only-of-type {\n",
       "        vertical-align: middle;\n",
       "    }\n",
       "\n",
       "    .dataframe tbody tr th {\n",
       "        vertical-align: top;\n",
       "    }\n",
       "\n",
       "    .dataframe thead th {\n",
       "        text-align: right;\n",
       "    }\n",
       "</style>\n",
       "<table border=\"1\" class=\"dataframe\">\n",
       "  <thead>\n",
       "    <tr style=\"text-align: right;\">\n",
       "      <th></th>\n",
       "      <th>Fake</th>\n",
       "      <th>title</th>\n",
       "      <th>text</th>\n",
       "      <th>date</th>\n",
       "      <th>word_count</th>\n",
       "      <th>text_tokenizado</th>\n",
       "      <th>id_text</th>\n",
       "    </tr>\n",
       "  </thead>\n",
       "  <tbody>\n",
       "    <tr>\n",
       "      <th>9358</th>\n",
       "      <td>1</td>\n",
       "      <td>https://100percentfedup.com/served-roy-moore-v...</td>\n",
       "      <td>https://100percentfedup.com/served-roy-moore-v...</td>\n",
       "      <td>https://100percentfedup.com/served-roy-moore-v...</td>\n",
       "      <td>1</td>\n",
       "      <td>[]</td>\n",
       "      <td>9358</td>\n",
       "    </tr>\n",
       "  </tbody>\n",
       "</table>\n",
       "</div>"
      ],
      "text/plain": [
       "     Fake                                              title  \\\n",
       "9358    1  https://100percentfedup.com/served-roy-moore-v...   \n",
       "\n",
       "                                                   text  \\\n",
       "9358  https://100percentfedup.com/served-roy-moore-v...   \n",
       "\n",
       "                                                   date  word_count  \\\n",
       "9358  https://100percentfedup.com/served-roy-moore-v...           1   \n",
       "\n",
       "     text_tokenizado  id_text  \n",
       "9358              []     9358  "
      ]
     },
     "execution_count": 38,
     "metadata": {},
     "output_type": "execute_result"
    }
   ],
   "source": [
    "Fake_News_Data.loc[Fake_News_Data.id_text == 9358]"
   ]
  },
  {
   "cell_type": "code",
   "execution_count": 39,
   "metadata": {},
   "outputs": [
    {
     "data": {
      "text/html": [
       "<div>\n",
       "<style scoped>\n",
       "    .dataframe tbody tr th:only-of-type {\n",
       "        vertical-align: middle;\n",
       "    }\n",
       "\n",
       "    .dataframe tbody tr th {\n",
       "        vertical-align: top;\n",
       "    }\n",
       "\n",
       "    .dataframe thead th {\n",
       "        text-align: right;\n",
       "    }\n",
       "</style>\n",
       "<table border=\"1\" class=\"dataframe\">\n",
       "  <thead>\n",
       "    <tr style=\"text-align: right;\">\n",
       "      <th></th>\n",
       "      <th>Fake</th>\n",
       "      <th>title</th>\n",
       "      <th>text</th>\n",
       "      <th>date</th>\n",
       "      <th>word_count</th>\n",
       "      <th>text_tokenizado</th>\n",
       "      <th>id_text</th>\n",
       "    </tr>\n",
       "  </thead>\n",
       "  <tbody>\n",
       "    <tr>\n",
       "      <th>10923</th>\n",
       "      <td>1</td>\n",
       "      <td>TAKE OUR POLL: Who Do You Think President Trum...</td>\n",
       "      <td></td>\n",
       "      <td>May 10, 2017</td>\n",
       "      <td>0</td>\n",
       "      <td>[]</td>\n",
       "      <td>10923</td>\n",
       "    </tr>\n",
       "  </tbody>\n",
       "</table>\n",
       "</div>"
      ],
      "text/plain": [
       "      Fake                                              title text  \\\n",
       "10923    1  TAKE OUR POLL: Who Do You Think President Trum...        \n",
       "\n",
       "               date  word_count text_tokenizado  id_text  \n",
       "10923  May 10, 2017           0              []    10923  "
      ]
     },
     "execution_count": 39,
     "metadata": {},
     "output_type": "execute_result"
    }
   ],
   "source": [
    "Fake_News_Data.loc[Fake_News_Data.id_text == 10923]"
   ]
  },
  {
   "cell_type": "code",
   "execution_count": 40,
   "metadata": {},
   "outputs": [
    {
     "data": {
      "text/html": [
       "<div>\n",
       "<style scoped>\n",
       "    .dataframe tbody tr th:only-of-type {\n",
       "        vertical-align: middle;\n",
       "    }\n",
       "\n",
       "    .dataframe tbody tr th {\n",
       "        vertical-align: top;\n",
       "    }\n",
       "\n",
       "    .dataframe thead th {\n",
       "        text-align: right;\n",
       "    }\n",
       "</style>\n",
       "<table border=\"1\" class=\"dataframe\">\n",
       "  <thead>\n",
       "    <tr style=\"text-align: right;\">\n",
       "      <th></th>\n",
       "      <th>Fake</th>\n",
       "      <th>title</th>\n",
       "      <th>text</th>\n",
       "      <th>date</th>\n",
       "      <th>word_count</th>\n",
       "      <th>text_tokenizado</th>\n",
       "      <th>id_text</th>\n",
       "    </tr>\n",
       "  </thead>\n",
       "  <tbody>\n",
       "    <tr>\n",
       "      <th>11041</th>\n",
       "      <td>1</td>\n",
       "      <td>Joe Scarborough BERATES Mika Brzezinski Over “...</td>\n",
       "      <td></td>\n",
       "      <td>Apr 26, 2017</td>\n",
       "      <td>0</td>\n",
       "      <td>[]</td>\n",
       "      <td>11041</td>\n",
       "    </tr>\n",
       "  </tbody>\n",
       "</table>\n",
       "</div>"
      ],
      "text/plain": [
       "      Fake                                              title text  \\\n",
       "11041    1  Joe Scarborough BERATES Mika Brzezinski Over “...        \n",
       "\n",
       "               date  word_count text_tokenizado  id_text  \n",
       "11041  Apr 26, 2017           0              []    11041  "
      ]
     },
     "execution_count": 40,
     "metadata": {},
     "output_type": "execute_result"
    }
   ],
   "source": [
    "Fake_News_Data.loc[Fake_News_Data.id_text == 11041]"
   ]
  },
  {
   "cell_type": "code",
   "execution_count": 41,
   "metadata": {},
   "outputs": [
    {
     "data": {
      "text/html": [
       "<div>\n",
       "<style scoped>\n",
       "    .dataframe tbody tr th:only-of-type {\n",
       "        vertical-align: middle;\n",
       "    }\n",
       "\n",
       "    .dataframe tbody tr th {\n",
       "        vertical-align: top;\n",
       "    }\n",
       "\n",
       "    .dataframe thead th {\n",
       "        text-align: right;\n",
       "    }\n",
       "</style>\n",
       "<table border=\"1\" class=\"dataframe\">\n",
       "  <thead>\n",
       "    <tr style=\"text-align: right;\">\n",
       "      <th></th>\n",
       "      <th>Fake</th>\n",
       "      <th>title</th>\n",
       "      <th>text</th>\n",
       "      <th>date</th>\n",
       "      <th>word_count</th>\n",
       "      <th>text_tokenizado</th>\n",
       "      <th>id_text</th>\n",
       "    </tr>\n",
       "  </thead>\n",
       "  <tbody>\n",
       "    <tr>\n",
       "      <th>32451</th>\n",
       "      <td>0</td>\n",
       "      <td>Graphic: Supreme Court roundup</td>\n",
       "      <td></td>\n",
       "      <td>June 16, 2016</td>\n",
       "      <td>0</td>\n",
       "      <td>[]</td>\n",
       "      <td>32451</td>\n",
       "    </tr>\n",
       "  </tbody>\n",
       "</table>\n",
       "</div>"
      ],
      "text/plain": [
       "      Fake                           title text            date  word_count  \\\n",
       "32451    0  Graphic: Supreme Court roundup       June 16, 2016            0   \n",
       "\n",
       "      text_tokenizado  id_text  \n",
       "32451              []    32451  "
      ]
     },
     "execution_count": 41,
     "metadata": {},
     "output_type": "execute_result"
    }
   ],
   "source": [
    "Fake_News_Data.loc[Fake_News_Data.id_text == 32451 ]"
   ]
  },
  {
   "cell_type": "code",
   "execution_count": 42,
   "metadata": {},
   "outputs": [],
   "source": [
    "df2 = df1.loc[df1['nº_tokens'] != 0, :]"
   ]
  },
  {
   "cell_type": "code",
   "execution_count": 43,
   "metadata": {},
   "outputs": [
    {
     "data": {
      "text/html": [
       "<div>\n",
       "<style scoped>\n",
       "    .dataframe tbody tr th:only-of-type {\n",
       "        vertical-align: middle;\n",
       "    }\n",
       "\n",
       "    .dataframe tbody tr th {\n",
       "        vertical-align: top;\n",
       "    }\n",
       "\n",
       "    .dataframe thead th {\n",
       "        text-align: right;\n",
       "    }\n",
       "</style>\n",
       "<table border=\"1\" class=\"dataframe\">\n",
       "  <thead>\n",
       "    <tr style=\"text-align: right;\">\n",
       "      <th></th>\n",
       "      <th></th>\n",
       "      <th>nº_tokens</th>\n",
       "    </tr>\n",
       "    <tr>\n",
       "      <th>id_text</th>\n",
       "      <th>Fake</th>\n",
       "      <th></th>\n",
       "    </tr>\n",
       "  </thead>\n",
       "  <tbody>\n",
       "    <tr>\n",
       "      <th>0</th>\n",
       "      <th>1</th>\n",
       "      <td>447</td>\n",
       "    </tr>\n",
       "    <tr>\n",
       "      <th>1</th>\n",
       "      <th>1</th>\n",
       "      <td>294</td>\n",
       "    </tr>\n",
       "    <tr>\n",
       "      <th>2</th>\n",
       "      <th>1</th>\n",
       "      <td>563</td>\n",
       "    </tr>\n",
       "    <tr>\n",
       "      <th>3</th>\n",
       "      <th>1</th>\n",
       "      <td>426</td>\n",
       "    </tr>\n",
       "    <tr>\n",
       "      <th>4</th>\n",
       "      <th>1</th>\n",
       "      <td>415</td>\n",
       "    </tr>\n",
       "    <tr>\n",
       "      <th>...</th>\n",
       "      <th>...</th>\n",
       "      <td>...</td>\n",
       "    </tr>\n",
       "    <tr>\n",
       "      <th>44893</th>\n",
       "      <th>0</th>\n",
       "      <td>433</td>\n",
       "    </tr>\n",
       "    <tr>\n",
       "      <th>44894</th>\n",
       "      <th>0</th>\n",
       "      <td>120</td>\n",
       "    </tr>\n",
       "    <tr>\n",
       "      <th>44895</th>\n",
       "      <th>0</th>\n",
       "      <td>307</td>\n",
       "    </tr>\n",
       "    <tr>\n",
       "      <th>44896</th>\n",
       "      <th>0</th>\n",
       "      <td>196</td>\n",
       "    </tr>\n",
       "    <tr>\n",
       "      <th>44897</th>\n",
       "      <th>0</th>\n",
       "      <td>197</td>\n",
       "    </tr>\n",
       "  </tbody>\n",
       "</table>\n",
       "<p>44183 rows × 1 columns</p>\n",
       "</div>"
      ],
      "text/plain": [
       "              nº_tokens\n",
       "id_text Fake           \n",
       "0       1           447\n",
       "1       1           294\n",
       "2       1           563\n",
       "3       1           426\n",
       "4       1           415\n",
       "...                 ...\n",
       "44893   0           433\n",
       "44894   0           120\n",
       "44895   0           307\n",
       "44896   0           196\n",
       "44897   0           197\n",
       "\n",
       "[44183 rows x 1 columns]"
      ]
     },
     "execution_count": 43,
     "metadata": {},
     "output_type": "execute_result"
    }
   ],
   "source": [
    "df2"
   ]
  },
  {
   "cell_type": "code",
   "execution_count": 44,
   "metadata": {},
   "outputs": [
    {
     "data": {
      "text/html": [
       "<div>\n",
       "<style scoped>\n",
       "    .dataframe tbody tr th:only-of-type {\n",
       "        vertical-align: middle;\n",
       "    }\n",
       "\n",
       "    .dataframe tbody tr th {\n",
       "        vertical-align: top;\n",
       "    }\n",
       "\n",
       "    .dataframe thead th {\n",
       "        text-align: right;\n",
       "    }\n",
       "</style>\n",
       "<table border=\"1\" class=\"dataframe\">\n",
       "  <thead>\n",
       "    <tr style=\"text-align: right;\">\n",
       "      <th></th>\n",
       "      <th>mean</th>\n",
       "    </tr>\n",
       "    <tr>\n",
       "      <th>Fake</th>\n",
       "      <th></th>\n",
       "    </tr>\n",
       "  </thead>\n",
       "  <tbody>\n",
       "    <tr>\n",
       "      <th>0</th>\n",
       "      <td>368.486225</td>\n",
       "    </tr>\n",
       "    <tr>\n",
       "      <th>1</th>\n",
       "      <td>422.169983</td>\n",
       "    </tr>\n",
       "  </tbody>\n",
       "</table>\n",
       "</div>"
      ],
      "text/plain": [
       "            mean\n",
       "Fake            \n",
       "0     368.486225\n",
       "1     422.169983"
      ]
     },
     "execution_count": 44,
     "metadata": {},
     "output_type": "execute_result"
    }
   ],
   "source": [
    "df2.groupby(\"Fake\")[\"nº_tokens\"].agg(['mean'])"
   ]
  },
  {
   "cell_type": "markdown",
   "metadata": {},
   "source": [
    "Otra forma de hacer lo anterior (longitud media de las noticias fake y no fake)"
   ]
  },
  {
   "cell_type": "code",
   "execution_count": 45,
   "metadata": {},
   "outputs": [],
   "source": [
    "m0 = ( Fake_News_Tokens.loc[Fake_News_Tokens['Fake']==0].groupby('id_text')['token'].count() ).mean()"
   ]
  },
  {
   "cell_type": "code",
   "execution_count": 46,
   "metadata": {},
   "outputs": [],
   "source": [
    "m1 = ( Fake_News_Tokens.loc[Fake_News_Tokens['Fake']==1].groupby('id_text')['token'].count() ).mean()"
   ]
  },
  {
   "cell_type": "code",
   "execution_count": 47,
   "metadata": {},
   "outputs": [
    {
     "data": {
      "text/html": [
       "<div>\n",
       "<style scoped>\n",
       "    .dataframe tbody tr th:only-of-type {\n",
       "        vertical-align: middle;\n",
       "    }\n",
       "\n",
       "    .dataframe tbody tr th {\n",
       "        vertical-align: top;\n",
       "    }\n",
       "\n",
       "    .dataframe thead th {\n",
       "        text-align: right;\n",
       "    }\n",
       "</style>\n",
       "<table border=\"1\" class=\"dataframe\">\n",
       "  <thead>\n",
       "    <tr style=\"text-align: right;\">\n",
       "      <th></th>\n",
       "      <th>fake_new</th>\n",
       "      <th>tokens_mean</th>\n",
       "    </tr>\n",
       "  </thead>\n",
       "  <tbody>\n",
       "    <tr>\n",
       "      <th>0</th>\n",
       "      <td>0</td>\n",
       "      <td>368.469020</td>\n",
       "    </tr>\n",
       "    <tr>\n",
       "      <th>1</th>\n",
       "      <td>1</td>\n",
       "      <td>409.332822</td>\n",
       "    </tr>\n",
       "  </tbody>\n",
       "</table>\n",
       "</div>"
      ],
      "text/plain": [
       "   fake_new  tokens_mean\n",
       "0         0   368.469020\n",
       "1         1   409.332822"
      ]
     },
     "execution_count": 47,
     "metadata": {},
     "output_type": "execute_result"
    }
   ],
   "source": [
    "pd.DataFrame({'fake_new': [0,1] , 'tokens_mean':[m0 , m1]})"
   ]
  },
  {
   "cell_type": "markdown",
   "metadata": {},
   "source": []
  },
  {
   "cell_type": "code",
   "execution_count": 48,
   "metadata": {},
   "outputs": [],
   "source": [
    "df = pd.DataFrame(  (Fake_News_Tokens.groupby(by = [\"Fake\", \"token\"] )[\"token\"].count().unstack(fill_value=0).stack().reset_index(name='frecuencia_token')))\n",
    "\n",
    "# .unstack(fill_value=0).stack() para que tambien aparezcan los tokens con count = 0 , si no solo aprecerian los que tienen count > 0."
   ]
  },
  {
   "cell_type": "code",
   "execution_count": 49,
   "metadata": {},
   "outputs": [
    {
     "data": {
      "text/html": [
       "<div>\n",
       "<style scoped>\n",
       "    .dataframe tbody tr th:only-of-type {\n",
       "        vertical-align: middle;\n",
       "    }\n",
       "\n",
       "    .dataframe tbody tr th {\n",
       "        vertical-align: top;\n",
       "    }\n",
       "\n",
       "    .dataframe thead th {\n",
       "        text-align: right;\n",
       "    }\n",
       "</style>\n",
       "<table border=\"1\" class=\"dataframe\">\n",
       "  <thead>\n",
       "    <tr style=\"text-align: right;\">\n",
       "      <th></th>\n",
       "      <th>Fake</th>\n",
       "      <th>token</th>\n",
       "      <th>frecuencia_token</th>\n",
       "    </tr>\n",
       "  </thead>\n",
       "  <tbody>\n",
       "    <tr>\n",
       "      <th>0</th>\n",
       "      <td>0</td>\n",
       "      <td>aa</td>\n",
       "      <td>22</td>\n",
       "    </tr>\n",
       "    <tr>\n",
       "      <th>1</th>\n",
       "      <td>0</td>\n",
       "      <td>aaa</td>\n",
       "      <td>7</td>\n",
       "    </tr>\n",
       "    <tr>\n",
       "      <th>2</th>\n",
       "      <td>0</td>\n",
       "      <td>aaaaaaaand</td>\n",
       "      <td>0</td>\n",
       "    </tr>\n",
       "    <tr>\n",
       "      <th>3</th>\n",
       "      <td>0</td>\n",
       "      <td>aaaaackkk</td>\n",
       "      <td>0</td>\n",
       "    </tr>\n",
       "    <tr>\n",
       "      <th>4</th>\n",
       "      <td>0</td>\n",
       "      <td>aaaaapkfhk</td>\n",
       "      <td>0</td>\n",
       "    </tr>\n",
       "    <tr>\n",
       "      <th>...</th>\n",
       "      <td>...</td>\n",
       "      <td>...</td>\n",
       "      <td>...</td>\n",
       "    </tr>\n",
       "    <tr>\n",
       "      <th>251605</th>\n",
       "      <td>1</td>\n",
       "      <td>””it</td>\n",
       "      <td>0</td>\n",
       "    </tr>\n",
       "    <tr>\n",
       "      <th>251606</th>\n",
       "      <td>1</td>\n",
       "      <td>””when</td>\n",
       "      <td>0</td>\n",
       "    </tr>\n",
       "    <tr>\n",
       "      <th>251607</th>\n",
       "      <td>1</td>\n",
       "      <td>•if</td>\n",
       "      <td>0</td>\n",
       "    </tr>\n",
       "    <tr>\n",
       "      <th>251608</th>\n",
       "      <td>1</td>\n",
       "      <td>☑️</td>\n",
       "      <td>0</td>\n",
       "    </tr>\n",
       "    <tr>\n",
       "      <th>251609</th>\n",
       "      <td>1</td>\n",
       "      <td>➡️</td>\n",
       "      <td>0</td>\n",
       "    </tr>\n",
       "  </tbody>\n",
       "</table>\n",
       "<p>251610 rows × 3 columns</p>\n",
       "</div>"
      ],
      "text/plain": [
       "        Fake       token  frecuencia_token\n",
       "0          0          aa                22\n",
       "1          0         aaa                 7\n",
       "2          0  aaaaaaaand                 0\n",
       "3          0   aaaaackkk                 0\n",
       "4          0  aaaaapkfhk                 0\n",
       "...      ...         ...               ...\n",
       "251605     1        ””it                 0\n",
       "251606     1      ””when                 0\n",
       "251607     1         •if                 0\n",
       "251608     1          ☑️                 0\n",
       "251609     1          ➡️                 0\n",
       "\n",
       "[251610 rows x 3 columns]"
      ]
     },
     "execution_count": 49,
     "metadata": {},
     "output_type": "execute_result"
    }
   ],
   "source": [
    "df # Nos da el nº de veces que sale cada token en el en cada una de las noticas fake y por otro lado en el de las no fake "
   ]
  },
  {
   "cell_type": "code",
   "execution_count": 50,
   "metadata": {},
   "outputs": [
    {
     "data": {
      "text/html": [
       "<div>\n",
       "<style scoped>\n",
       "    .dataframe tbody tr th:only-of-type {\n",
       "        vertical-align: middle;\n",
       "    }\n",
       "\n",
       "    .dataframe tbody tr th {\n",
       "        vertical-align: top;\n",
       "    }\n",
       "\n",
       "    .dataframe thead th {\n",
       "        text-align: right;\n",
       "    }\n",
       "</style>\n",
       "<table border=\"1\" class=\"dataframe\">\n",
       "  <thead>\n",
       "    <tr style=\"text-align: right;\">\n",
       "      <th></th>\n",
       "      <th>Fake</th>\n",
       "      <th>token</th>\n",
       "      <th>frecuencia_token</th>\n",
       "    </tr>\n",
       "  </thead>\n",
       "  <tbody>\n",
       "    <tr>\n",
       "      <th>116577</th>\n",
       "      <td>0</td>\n",
       "      <td>yes</td>\n",
       "      <td>336</td>\n",
       "    </tr>\n",
       "    <tr>\n",
       "      <th>242382</th>\n",
       "      <td>1</td>\n",
       "      <td>yes</td>\n",
       "      <td>1775</td>\n",
       "    </tr>\n",
       "  </tbody>\n",
       "</table>\n",
       "</div>"
      ],
      "text/plain": [
       "        Fake token  frecuencia_token\n",
       "116577     0   yes               336\n",
       "242382     1   yes              1775"
      ]
     },
     "execution_count": 50,
     "metadata": {},
     "output_type": "execute_result"
    }
   ],
   "source": [
    "df.loc[df['token']=='yes' , ] # El token 'yes' aprece 1775 veces en el conjunto de las fake news y 336 en el de las no fake news"
   ]
  },
  {
   "cell_type": "code",
   "execution_count": 51,
   "metadata": {},
   "outputs": [
    {
     "data": {
      "text/html": [
       "<div>\n",
       "<style scoped>\n",
       "    .dataframe tbody tr th:only-of-type {\n",
       "        vertical-align: middle;\n",
       "    }\n",
       "\n",
       "    .dataframe tbody tr th {\n",
       "        vertical-align: top;\n",
       "    }\n",
       "\n",
       "    .dataframe thead th {\n",
       "        text-align: right;\n",
       "    }\n",
       "</style>\n",
       "<table border=\"1\" class=\"dataframe\">\n",
       "  <thead>\n",
       "    <tr style=\"text-align: right;\">\n",
       "      <th></th>\n",
       "      <th>Fake</th>\n",
       "      <th>token</th>\n",
       "      <th>frecuencia_token</th>\n",
       "    </tr>\n",
       "  </thead>\n",
       "  <tbody>\n",
       "    <tr>\n",
       "      <th>106608</th>\n",
       "      <td>0</td>\n",
       "      <td>true</td>\n",
       "      <td>412</td>\n",
       "    </tr>\n",
       "    <tr>\n",
       "      <th>232413</th>\n",
       "      <td>1</td>\n",
       "      <td>true</td>\n",
       "      <td>2595</td>\n",
       "    </tr>\n",
       "  </tbody>\n",
       "</table>\n",
       "</div>"
      ],
      "text/plain": [
       "        Fake token  frecuencia_token\n",
       "106608     0  true               412\n",
       "232413     1  true              2595"
      ]
     },
     "execution_count": 51,
     "metadata": {},
     "output_type": "execute_result"
    }
   ],
   "source": [
    "df.loc[df['token']=='true' , ] # El token 'true' aparece 2595 veces en el conjunto de las fake news y 412 en el de las no fake news"
   ]
  },
  {
   "cell_type": "code",
   "execution_count": 52,
   "metadata": {},
   "outputs": [
    {
     "data": {
      "text/html": [
       "<div>\n",
       "<style scoped>\n",
       "    .dataframe tbody tr th:only-of-type {\n",
       "        vertical-align: middle;\n",
       "    }\n",
       "\n",
       "    .dataframe tbody tr th {\n",
       "        vertical-align: top;\n",
       "    }\n",
       "\n",
       "    .dataframe thead th {\n",
       "        text-align: right;\n",
       "    }\n",
       "</style>\n",
       "<table border=\"1\" class=\"dataframe\">\n",
       "  <thead>\n",
       "    <tr style=\"text-align: right;\">\n",
       "      <th></th>\n",
       "      <th>Fake</th>\n",
       "      <th>token</th>\n",
       "      <th>frecuencia_token</th>\n",
       "    </tr>\n",
       "  </thead>\n",
       "  <tbody>\n",
       "    <tr>\n",
       "      <th>0</th>\n",
       "      <td>0</td>\n",
       "      <td>aa</td>\n",
       "      <td>22</td>\n",
       "    </tr>\n",
       "    <tr>\n",
       "      <th>1</th>\n",
       "      <td>0</td>\n",
       "      <td>aaa</td>\n",
       "      <td>7</td>\n",
       "    </tr>\n",
       "    <tr>\n",
       "      <th>2</th>\n",
       "      <td>0</td>\n",
       "      <td>aaaaaaaand</td>\n",
       "      <td>0</td>\n",
       "    </tr>\n",
       "    <tr>\n",
       "      <th>3</th>\n",
       "      <td>0</td>\n",
       "      <td>aaaaackkk</td>\n",
       "      <td>0</td>\n",
       "    </tr>\n",
       "    <tr>\n",
       "      <th>4</th>\n",
       "      <td>0</td>\n",
       "      <td>aaaaapkfhk</td>\n",
       "      <td>0</td>\n",
       "    </tr>\n",
       "    <tr>\n",
       "      <th>...</th>\n",
       "      <td>...</td>\n",
       "      <td>...</td>\n",
       "      <td>...</td>\n",
       "    </tr>\n",
       "    <tr>\n",
       "      <th>125800</th>\n",
       "      <td>0</td>\n",
       "      <td>””it</td>\n",
       "      <td>1</td>\n",
       "    </tr>\n",
       "    <tr>\n",
       "      <th>125801</th>\n",
       "      <td>0</td>\n",
       "      <td>””when</td>\n",
       "      <td>1</td>\n",
       "    </tr>\n",
       "    <tr>\n",
       "      <th>125802</th>\n",
       "      <td>0</td>\n",
       "      <td>•if</td>\n",
       "      <td>3</td>\n",
       "    </tr>\n",
       "    <tr>\n",
       "      <th>125803</th>\n",
       "      <td>0</td>\n",
       "      <td>☑️</td>\n",
       "      <td>3</td>\n",
       "    </tr>\n",
       "    <tr>\n",
       "      <th>125804</th>\n",
       "      <td>0</td>\n",
       "      <td>➡️</td>\n",
       "      <td>1</td>\n",
       "    </tr>\n",
       "  </tbody>\n",
       "</table>\n",
       "<p>125805 rows × 3 columns</p>\n",
       "</div>"
      ],
      "text/plain": [
       "        Fake       token  frecuencia_token\n",
       "0          0          aa                22\n",
       "1          0         aaa                 7\n",
       "2          0  aaaaaaaand                 0\n",
       "3          0   aaaaackkk                 0\n",
       "4          0  aaaaapkfhk                 0\n",
       "...      ...         ...               ...\n",
       "125800     0        ””it                 1\n",
       "125801     0      ””when                 1\n",
       "125802     0         •if                 3\n",
       "125803     0          ☑️                 3\n",
       "125804     0          ➡️                 1\n",
       "\n",
       "[125805 rows x 3 columns]"
      ]
     },
     "execution_count": 52,
     "metadata": {},
     "output_type": "execute_result"
    }
   ],
   "source": [
    "df.loc[df['Fake']==0 , ] # frecuencia de tokens en el conjunto de las no fake news"
   ]
  },
  {
   "cell_type": "code",
   "execution_count": 53,
   "metadata": {},
   "outputs": [
    {
     "data": {
      "text/html": [
       "<div>\n",
       "<style scoped>\n",
       "    .dataframe tbody tr th:only-of-type {\n",
       "        vertical-align: middle;\n",
       "    }\n",
       "\n",
       "    .dataframe tbody tr th {\n",
       "        vertical-align: top;\n",
       "    }\n",
       "\n",
       "    .dataframe thead th {\n",
       "        text-align: right;\n",
       "    }\n",
       "</style>\n",
       "<table border=\"1\" class=\"dataframe\">\n",
       "  <thead>\n",
       "    <tr style=\"text-align: right;\">\n",
       "      <th></th>\n",
       "      <th>Fake</th>\n",
       "      <th>token</th>\n",
       "      <th>frecuencia_token</th>\n",
       "    </tr>\n",
       "  </thead>\n",
       "  <tbody>\n",
       "    <tr>\n",
       "      <th>125805</th>\n",
       "      <td>1</td>\n",
       "      <td>aa</td>\n",
       "      <td>24</td>\n",
       "    </tr>\n",
       "    <tr>\n",
       "      <th>125806</th>\n",
       "      <td>1</td>\n",
       "      <td>aaa</td>\n",
       "      <td>9</td>\n",
       "    </tr>\n",
       "    <tr>\n",
       "      <th>125807</th>\n",
       "      <td>1</td>\n",
       "      <td>aaaaaaaand</td>\n",
       "      <td>1</td>\n",
       "    </tr>\n",
       "    <tr>\n",
       "      <th>125808</th>\n",
       "      <td>1</td>\n",
       "      <td>aaaaackkk</td>\n",
       "      <td>1</td>\n",
       "    </tr>\n",
       "    <tr>\n",
       "      <th>125809</th>\n",
       "      <td>1</td>\n",
       "      <td>aaaaapkfhk</td>\n",
       "      <td>1</td>\n",
       "    </tr>\n",
       "    <tr>\n",
       "      <th>...</th>\n",
       "      <td>...</td>\n",
       "      <td>...</td>\n",
       "      <td>...</td>\n",
       "    </tr>\n",
       "    <tr>\n",
       "      <th>251605</th>\n",
       "      <td>1</td>\n",
       "      <td>””it</td>\n",
       "      <td>0</td>\n",
       "    </tr>\n",
       "    <tr>\n",
       "      <th>251606</th>\n",
       "      <td>1</td>\n",
       "      <td>””when</td>\n",
       "      <td>0</td>\n",
       "    </tr>\n",
       "    <tr>\n",
       "      <th>251607</th>\n",
       "      <td>1</td>\n",
       "      <td>•if</td>\n",
       "      <td>0</td>\n",
       "    </tr>\n",
       "    <tr>\n",
       "      <th>251608</th>\n",
       "      <td>1</td>\n",
       "      <td>☑️</td>\n",
       "      <td>0</td>\n",
       "    </tr>\n",
       "    <tr>\n",
       "      <th>251609</th>\n",
       "      <td>1</td>\n",
       "      <td>➡️</td>\n",
       "      <td>0</td>\n",
       "    </tr>\n",
       "  </tbody>\n",
       "</table>\n",
       "<p>125805 rows × 3 columns</p>\n",
       "</div>"
      ],
      "text/plain": [
       "        Fake       token  frecuencia_token\n",
       "125805     1          aa                24\n",
       "125806     1         aaa                 9\n",
       "125807     1  aaaaaaaand                 1\n",
       "125808     1   aaaaackkk                 1\n",
       "125809     1  aaaaapkfhk                 1\n",
       "...      ...         ...               ...\n",
       "251605     1        ””it                 0\n",
       "251606     1      ””when                 0\n",
       "251607     1         •if                 0\n",
       "251608     1          ☑️                 0\n",
       "251609     1          ➡️                 0\n",
       "\n",
       "[125805 rows x 3 columns]"
      ]
     },
     "execution_count": 53,
     "metadata": {},
     "output_type": "execute_result"
    }
   ],
   "source": [
    "df.loc[df['Fake']==1 , ] # nº de tokens en el conjunto de las fake news"
   ]
  },
  {
   "cell_type": "code",
   "execution_count": 54,
   "metadata": {},
   "outputs": [],
   "source": [
    "df_fake_sort = df.loc[df['Fake']==1 , ].sort_values(by=[\"frecuencia_token\"], ascending=False).reset_index(drop=False)"
   ]
  },
  {
   "cell_type": "code",
   "execution_count": 55,
   "metadata": {},
   "outputs": [],
   "source": [
    "df_no_fake_sort = df.loc[df['Fake']==0 , ].sort_values(by=[\"frecuencia_token\"], ascending=False).reset_index(drop=False)"
   ]
  },
  {
   "cell_type": "code",
   "execution_count": 56,
   "metadata": {},
   "outputs": [
    {
     "data": {
      "text/html": [
       "<div>\n",
       "<style scoped>\n",
       "    .dataframe tbody tr th:only-of-type {\n",
       "        vertical-align: middle;\n",
       "    }\n",
       "\n",
       "    .dataframe tbody tr th {\n",
       "        vertical-align: top;\n",
       "    }\n",
       "\n",
       "    .dataframe thead th {\n",
       "        text-align: right;\n",
       "    }\n",
       "</style>\n",
       "<table border=\"1\" class=\"dataframe\">\n",
       "  <thead>\n",
       "    <tr style=\"text-align: right;\">\n",
       "      <th></th>\n",
       "      <th>index</th>\n",
       "      <th>Fake</th>\n",
       "      <th>token</th>\n",
       "      <th>frecuencia_token</th>\n",
       "    </tr>\n",
       "  </thead>\n",
       "  <tbody>\n",
       "    <tr>\n",
       "      <th>0</th>\n",
       "      <td>229301</td>\n",
       "      <td>1</td>\n",
       "      <td>the</td>\n",
       "      <td>544521</td>\n",
       "    </tr>\n",
       "    <tr>\n",
       "      <th>1</th>\n",
       "      <td>230713</td>\n",
       "      <td>1</td>\n",
       "      <td>to</td>\n",
       "      <td>290882</td>\n",
       "    </tr>\n",
       "    <tr>\n",
       "      <th>2</th>\n",
       "      <td>199217</td>\n",
       "      <td>1</td>\n",
       "      <td>of</td>\n",
       "      <td>236735</td>\n",
       "    </tr>\n",
       "    <tr>\n",
       "      <th>3</th>\n",
       "      <td>129697</td>\n",
       "      <td>1</td>\n",
       "      <td>and</td>\n",
       "      <td>227349</td>\n",
       "    </tr>\n",
       "    <tr>\n",
       "      <th>4</th>\n",
       "      <td>174372</td>\n",
       "      <td>1</td>\n",
       "      <td>in</td>\n",
       "      <td>171433</td>\n",
       "    </tr>\n",
       "    <tr>\n",
       "      <th>5</th>\n",
       "      <td>229261</td>\n",
       "      <td>1</td>\n",
       "      <td>that</td>\n",
       "      <td>151789</td>\n",
       "    </tr>\n",
       "    <tr>\n",
       "      <th>6</th>\n",
       "      <td>176603</td>\n",
       "      <td>1</td>\n",
       "      <td>is</td>\n",
       "      <td>111278</td>\n",
       "    </tr>\n",
       "    <tr>\n",
       "      <th>7</th>\n",
       "      <td>162672</td>\n",
       "      <td>1</td>\n",
       "      <td>for</td>\n",
       "      <td>93538</td>\n",
       "    </tr>\n",
       "    <tr>\n",
       "      <th>8</th>\n",
       "      <td>176868</td>\n",
       "      <td>1</td>\n",
       "      <td>it</td>\n",
       "      <td>83693</td>\n",
       "    </tr>\n",
       "    <tr>\n",
       "      <th>9</th>\n",
       "      <td>199777</td>\n",
       "      <td>1</td>\n",
       "      <td>on</td>\n",
       "      <td>83661</td>\n",
       "    </tr>\n",
       "    <tr>\n",
       "      <th>10</th>\n",
       "      <td>232444</td>\n",
       "      <td>1</td>\n",
       "      <td>trump</td>\n",
       "      <td>79922</td>\n",
       "    </tr>\n",
       "    <tr>\n",
       "      <th>11</th>\n",
       "      <td>169936</td>\n",
       "      <td>1</td>\n",
       "      <td>he</td>\n",
       "      <td>79124</td>\n",
       "    </tr>\n",
       "    <tr>\n",
       "      <th>12</th>\n",
       "      <td>238650</td>\n",
       "      <td>1</td>\n",
       "      <td>was</td>\n",
       "      <td>67865</td>\n",
       "    </tr>\n",
       "    <tr>\n",
       "      <th>13</th>\n",
       "      <td>240547</td>\n",
       "      <td>1</td>\n",
       "      <td>with</td>\n",
       "      <td>63441</td>\n",
       "    </tr>\n",
       "    <tr>\n",
       "      <th>14</th>\n",
       "      <td>229776</td>\n",
       "      <td>1</td>\n",
       "      <td>this</td>\n",
       "      <td>58581</td>\n",
       "    </tr>\n",
       "  </tbody>\n",
       "</table>\n",
       "</div>"
      ],
      "text/plain": [
       "     index  Fake  token  frecuencia_token\n",
       "0   229301     1    the            544521\n",
       "1   230713     1     to            290882\n",
       "2   199217     1     of            236735\n",
       "3   129697     1    and            227349\n",
       "4   174372     1     in            171433\n",
       "5   229261     1   that            151789\n",
       "6   176603     1     is            111278\n",
       "7   162672     1    for             93538\n",
       "8   176868     1     it             83693\n",
       "9   199777     1     on             83661\n",
       "10  232444     1  trump             79922\n",
       "11  169936     1     he             79124\n",
       "12  238650     1    was             67865\n",
       "13  240547     1   with             63441\n",
       "14  229776     1   this             58581"
      ]
     },
     "execution_count": 56,
     "metadata": {},
     "output_type": "execute_result"
    }
   ],
   "source": [
    "df_fake_sort.head(15)"
   ]
  },
  {
   "cell_type": "code",
   "execution_count": 57,
   "metadata": {},
   "outputs": [
    {
     "data": {
      "text/html": [
       "<div>\n",
       "<style scoped>\n",
       "    .dataframe tbody tr th:only-of-type {\n",
       "        vertical-align: middle;\n",
       "    }\n",
       "\n",
       "    .dataframe tbody tr th {\n",
       "        vertical-align: top;\n",
       "    }\n",
       "\n",
       "    .dataframe thead th {\n",
       "        text-align: right;\n",
       "    }\n",
       "</style>\n",
       "<table border=\"1\" class=\"dataframe\">\n",
       "  <thead>\n",
       "    <tr style=\"text-align: right;\">\n",
       "      <th></th>\n",
       "      <th>index</th>\n",
       "      <th>Fake</th>\n",
       "      <th>token</th>\n",
       "      <th>frecuencia_token</th>\n",
       "    </tr>\n",
       "  </thead>\n",
       "  <tbody>\n",
       "    <tr>\n",
       "      <th>0</th>\n",
       "      <td>103496</td>\n",
       "      <td>0</td>\n",
       "      <td>the</td>\n",
       "      <td>478548</td>\n",
       "    </tr>\n",
       "    <tr>\n",
       "      <th>1</th>\n",
       "      <td>104908</td>\n",
       "      <td>0</td>\n",
       "      <td>to</td>\n",
       "      <td>245378</td>\n",
       "    </tr>\n",
       "    <tr>\n",
       "      <th>2</th>\n",
       "      <td>73412</td>\n",
       "      <td>0</td>\n",
       "      <td>of</td>\n",
       "      <td>205193</td>\n",
       "    </tr>\n",
       "    <tr>\n",
       "      <th>3</th>\n",
       "      <td>3892</td>\n",
       "      <td>0</td>\n",
       "      <td>and</td>\n",
       "      <td>181715</td>\n",
       "    </tr>\n",
       "    <tr>\n",
       "      <th>4</th>\n",
       "      <td>48567</td>\n",
       "      <td>0</td>\n",
       "      <td>in</td>\n",
       "      <td>181082</td>\n",
       "    </tr>\n",
       "    <tr>\n",
       "      <th>5</th>\n",
       "      <td>73972</td>\n",
       "      <td>0</td>\n",
       "      <td>on</td>\n",
       "      <td>108459</td>\n",
       "    </tr>\n",
       "    <tr>\n",
       "      <th>6</th>\n",
       "      <td>90350</td>\n",
       "      <td>0</td>\n",
       "      <td>said</td>\n",
       "      <td>99054</td>\n",
       "    </tr>\n",
       "    <tr>\n",
       "      <th>7</th>\n",
       "      <td>103456</td>\n",
       "      <td>0</td>\n",
       "      <td>that</td>\n",
       "      <td>86723</td>\n",
       "    </tr>\n",
       "    <tr>\n",
       "      <th>8</th>\n",
       "      <td>36867</td>\n",
       "      <td>0</td>\n",
       "      <td>for</td>\n",
       "      <td>79705</td>\n",
       "    </tr>\n",
       "    <tr>\n",
       "      <th>9</th>\n",
       "      <td>50798</td>\n",
       "      <td>0</td>\n",
       "      <td>is</td>\n",
       "      <td>55298</td>\n",
       "    </tr>\n",
       "    <tr>\n",
       "      <th>10</th>\n",
       "      <td>114742</td>\n",
       "      <td>0</td>\n",
       "      <td>with</td>\n",
       "      <td>54327</td>\n",
       "    </tr>\n",
       "    <tr>\n",
       "      <th>11</th>\n",
       "      <td>44131</td>\n",
       "      <td>0</td>\n",
       "      <td>he</td>\n",
       "      <td>52605</td>\n",
       "    </tr>\n",
       "    <tr>\n",
       "      <th>12</th>\n",
       "      <td>112845</td>\n",
       "      <td>0</td>\n",
       "      <td>was</td>\n",
       "      <td>47892</td>\n",
       "    </tr>\n",
       "    <tr>\n",
       "      <th>13</th>\n",
       "      <td>14219</td>\n",
       "      <td>0</td>\n",
       "      <td>by</td>\n",
       "      <td>47871</td>\n",
       "    </tr>\n",
       "    <tr>\n",
       "      <th>14</th>\n",
       "      <td>5659</td>\n",
       "      <td>0</td>\n",
       "      <td>as</td>\n",
       "      <td>46935</td>\n",
       "    </tr>\n",
       "  </tbody>\n",
       "</table>\n",
       "</div>"
      ],
      "text/plain": [
       "     index  Fake token  frecuencia_token\n",
       "0   103496     0   the            478548\n",
       "1   104908     0    to            245378\n",
       "2    73412     0    of            205193\n",
       "3     3892     0   and            181715\n",
       "4    48567     0    in            181082\n",
       "5    73972     0    on            108459\n",
       "6    90350     0  said             99054\n",
       "7   103456     0  that             86723\n",
       "8    36867     0   for             79705\n",
       "9    50798     0    is             55298\n",
       "10  114742     0  with             54327\n",
       "11   44131     0    he             52605\n",
       "12  112845     0   was             47892\n",
       "13   14219     0    by             47871\n",
       "14    5659     0    as             46935"
      ]
     },
     "execution_count": 57,
     "metadata": {},
     "output_type": "execute_result"
    }
   ],
   "source": [
    "df_no_fake_sort.head(15)"
   ]
  },
  {
   "cell_type": "markdown",
   "metadata": {},
   "source": [
    "En la tabla anterior puede observarse que los términos más frecuentes en todos los usuarios se corresponden con artículos, preposiciones, pronombres…, en general, palabras que no aportan información relevante sobre el texto. Ha estas palabras se les conoce como stopwords. Para cada idioma existen distintos listados de stopwords, además, dependiendo del contexto, puede ser necesario adaptar el listado. Por ejemplo, en la tabla anterior aparece el término amp que procede de la etiqueta html &amp. Con frecuencia, a medida que se realiza un análisis se encuentran palabras que deben incluirse en el listado de stopwords."
   ]
  },
  {
   "cell_type": "code",
   "execution_count": 58,
   "metadata": {},
   "outputs": [],
   "source": [
    "# pip install nltk"
   ]
  },
  {
   "cell_type": "code",
   "execution_count": 59,
   "metadata": {},
   "outputs": [
    {
     "name": "stderr",
     "output_type": "stream",
     "text": [
      "[nltk_data] Downloading package stopwords to\n",
      "[nltk_data]     C:\\Users\\Usuario\\AppData\\Roaming\\nltk_data...\n",
      "[nltk_data]   Package stopwords is already up-to-date!\n"
     ]
    }
   ],
   "source": [
    "import nltk\n",
    "nltk.download('stopwords')\n",
    "from nltk.corpus import stopwords"
   ]
  },
  {
   "cell_type": "code",
   "execution_count": 60,
   "metadata": {},
   "outputs": [],
   "source": [
    "# Obtención de listado de stopwords del inglés\n",
    "# ==============================================================================\n",
    "\n",
    "stop_words = stopwords.words('english') + [\"pic\" , \"getty\", \"quot\", \"acr\", \"filessupport\", \"flickr\", \"fjs\", \"js\", \"somodevilla\", \"var\", \"henningsen\",\n",
    "\"ck\", \"cdata\", \"subscribing\", \"mcnamee\", \"amp\", \"wfb\", \"screenshot\", \"hesher\",\"nyp\", \"cking\", \"helton\", \"raedle\", \"donnell\",\n",
    "\"getelementbyid\", \"src\", \"behar\", \"createelement\", \"getelementsbytagname\", \"parentnode\", \"wnd\",\"insertbefore\",\n",
    "\"jssdk\", \"nowicki\", \"xfbml\", \"camerota\", \"sdk\",  \"“i\" , \"“the\", \"“we\", \"it’s\", \"don’t\", \"“this\", \"“it\", \"“a\",\n",
    "\"“if\",  \"“it’s\", \"we’re\", \"that’s\",  \"“he\", \"“there\", \"i’m\",  \"he’s\",  \"“we’re\", \"doesn’t\", \"can’t\", \"“i’m\", \"“in\",\n",
    "\"suu\", \"“they\", \"you’re\", \"“but\", \"didn’t\", \"“you\", \"they’re\", \"“no\", \"“as\", \"“very\" , \"there’s\", \"“what\",  \"“and\", \"won’t\",\n",
    "  \"“to\", \"“that\", \"“one\", \"we’ve\", \"“when\" , \"“our\", \"“not\", \"’”\" ,\"“that’s\", \"“these\", \"“there’s\", \"“he’s\", \"we’ll\", 'one',\n",
    "   'would', 'like', 'us', 'even', 'could', 'two', 'many', 'angerer', 'reilly']"
   ]
  },
  {
   "cell_type": "markdown",
   "metadata": {},
   "source": [
    "xz"
   ]
  },
  {
   "cell_type": "code",
   "execution_count": 61,
   "metadata": {},
   "outputs": [
    {
     "name": "stdout",
     "output_type": "stream",
     "text": [
      "['i', 'me', 'my', 'myself', 'we', 'our', 'ours', 'ourselves', 'you', \"you're\", \"you've\", \"you'll\", \"you'd\", 'your', 'yours', 'yourself', 'yourselves', 'he', 'him', 'his', 'himself', 'she', \"she's\", 'her', 'hers', 'herself', 'it', \"it's\", 'its', 'itself', 'they', 'them', 'their', 'theirs', 'themselves', 'what', 'which', 'who', 'whom', 'this', 'that', \"that'll\", 'these', 'those', 'am', 'is', 'are', 'was', 'were', 'be', 'been', 'being', 'have', 'has', 'had', 'having', 'do', 'does', 'did', 'doing', 'a', 'an', 'the', 'and', 'but', 'if', 'or', 'because', 'as', 'until', 'while', 'of', 'at', 'by', 'for', 'with', 'about', 'against', 'between', 'into', 'through', 'during', 'before', 'after', 'above', 'below', 'to', 'from', 'up', 'down', 'in', 'out', 'on', 'off', 'over', 'under', 'again', 'further', 'then', 'once', 'here', 'there', 'when', 'where', 'why', 'how', 'all', 'any', 'both', 'each', 'few', 'more', 'most', 'other', 'some', 'such', 'no', 'nor', 'not', 'only', 'own', 'same', 'so', 'than', 'too', 'very', 's', 't', 'can', 'will', 'just', 'don', \"don't\", 'should', \"should've\", 'now', 'd', 'll', 'm', 'o', 're', 've', 'y', 'ain', 'aren', \"aren't\", 'couldn', \"couldn't\", 'didn', \"didn't\", 'doesn', \"doesn't\", 'hadn', \"hadn't\", 'hasn', \"hasn't\", 'haven', \"haven't\", 'isn', \"isn't\", 'ma', 'mightn', \"mightn't\", 'mustn', \"mustn't\", 'needn', \"needn't\", 'shan', \"shan't\", 'shouldn', \"shouldn't\", 'wasn', \"wasn't\", 'weren', \"weren't\", 'won', \"won't\", 'wouldn', \"wouldn't\", 'pic', 'getty', 'quot', 'acr', 'filessupport', 'flickr', 'fjs', 'js', 'somodevilla', 'var', 'henningsen', 'ck', 'cdata', 'subscribing', 'mcnamee', 'amp', 'wfb', 'screenshot', 'hesher', 'nyp', 'cking', 'helton', 'raedle', 'donnell', 'getelementbyid', 'src', 'behar', 'createelement', 'getelementsbytagname', 'parentnode', 'wnd', 'insertbefore', 'jssdk', 'nowicki', 'xfbml', 'camerota', 'sdk', '“i', '“the', '“we', 'it’s', 'don’t', '“this', '“it', '“a', '“if', '“it’s', 'we’re', 'that’s', '“he', '“there', 'i’m', 'he’s', '“we’re', 'doesn’t', 'can’t', '“i’m', '“in', 'suu', '“they', 'you’re', '“but', 'didn’t', '“you', 'they’re', '“no', '“as', '“very', 'there’s', '“what', '“and', 'won’t', '“to', '“that', '“one', 'we’ve', '“when', '“our', '“not', '’”', '“that’s', '“these', '“there’s', '“he’s', 'we’ll', 'one', 'would', 'like', 'us', 'even', 'could', 'two', 'many', 'angerer', 'reilly']\n"
     ]
    }
   ],
   "source": [
    "print(stop_words)"
   ]
  },
  {
   "cell_type": "code",
   "execution_count": 62,
   "metadata": {},
   "outputs": [],
   "source": [
    "df_fake_sort_not_StopWords = df_fake_sort[ ~ df_fake_sort['token'].isin(stop_words) ] # ranking de tokens para las fake news sin stop words"
   ]
  },
  {
   "cell_type": "code",
   "execution_count": 63,
   "metadata": {},
   "outputs": [],
   "source": [
    "df_no_fake_sort_not_StopWords = df_no_fake_sort[ ~ df_no_fake_sort['token'].isin(stop_words) ] # ranking de tokens para las no fake news sin stop words"
   ]
  },
  {
   "cell_type": "code",
   "execution_count": 64,
   "metadata": {},
   "outputs": [
    {
     "data": {
      "text/html": [
       "<div>\n",
       "<style scoped>\n",
       "    .dataframe tbody tr th:only-of-type {\n",
       "        vertical-align: middle;\n",
       "    }\n",
       "\n",
       "    .dataframe tbody tr th {\n",
       "        vertical-align: top;\n",
       "    }\n",
       "\n",
       "    .dataframe thead th {\n",
       "        text-align: right;\n",
       "    }\n",
       "</style>\n",
       "<table border=\"1\" class=\"dataframe\">\n",
       "  <thead>\n",
       "    <tr style=\"text-align: right;\">\n",
       "      <th></th>\n",
       "      <th>index</th>\n",
       "      <th>Fake</th>\n",
       "      <th>token</th>\n",
       "      <th>frecuencia_token</th>\n",
       "    </tr>\n",
       "  </thead>\n",
       "  <tbody>\n",
       "    <tr>\n",
       "      <th>10</th>\n",
       "      <td>232444</td>\n",
       "      <td>1</td>\n",
       "      <td>trump</td>\n",
       "      <td>79922</td>\n",
       "    </tr>\n",
       "    <tr>\n",
       "      <th>31</th>\n",
       "      <td>216155</td>\n",
       "      <td>1</td>\n",
       "      <td>said</td>\n",
       "      <td>33763</td>\n",
       "    </tr>\n",
       "    <tr>\n",
       "      <th>34</th>\n",
       "      <td>206880</td>\n",
       "      <td>1</td>\n",
       "      <td>president</td>\n",
       "      <td>27801</td>\n",
       "    </tr>\n",
       "    <tr>\n",
       "      <th>35</th>\n",
       "      <td>203392</td>\n",
       "      <td>1</td>\n",
       "      <td>people</td>\n",
       "      <td>26591</td>\n",
       "    </tr>\n",
       "    <tr>\n",
       "      <th>56</th>\n",
       "      <td>144568</td>\n",
       "      <td>1</td>\n",
       "      <td>clinton</td>\n",
       "      <td>19209</td>\n",
       "    </tr>\n",
       "    <tr>\n",
       "      <th>59</th>\n",
       "      <td>198761</td>\n",
       "      <td>1</td>\n",
       "      <td>obama</td>\n",
       "      <td>18833</td>\n",
       "    </tr>\n",
       "    <tr>\n",
       "      <th>62</th>\n",
       "      <td>154174</td>\n",
       "      <td>1</td>\n",
       "      <td>donald</td>\n",
       "      <td>17789</td>\n",
       "    </tr>\n",
       "    <tr>\n",
       "      <th>67</th>\n",
       "      <td>128977</td>\n",
       "      <td>1</td>\n",
       "      <td>also</td>\n",
       "      <td>15420</td>\n",
       "    </tr>\n",
       "    <tr>\n",
       "      <th>69</th>\n",
       "      <td>196554</td>\n",
       "      <td>1</td>\n",
       "      <td>news</td>\n",
       "      <td>14688</td>\n",
       "    </tr>\n",
       "    <tr>\n",
       "      <th>73</th>\n",
       "      <td>196507</td>\n",
       "      <td>1</td>\n",
       "      <td>new</td>\n",
       "      <td>14414</td>\n",
       "    </tr>\n",
       "    <tr>\n",
       "      <th>75</th>\n",
       "      <td>171064</td>\n",
       "      <td>1</td>\n",
       "      <td>hillary</td>\n",
       "      <td>14184</td>\n",
       "    </tr>\n",
       "    <tr>\n",
       "      <th>77</th>\n",
       "      <td>230293</td>\n",
       "      <td>1</td>\n",
       "      <td>time</td>\n",
       "      <td>13854</td>\n",
       "    </tr>\n",
       "    <tr>\n",
       "      <th>79</th>\n",
       "      <td>224427</td>\n",
       "      <td>1</td>\n",
       "      <td>state</td>\n",
       "      <td>13471</td>\n",
       "    </tr>\n",
       "    <tr>\n",
       "      <th>82</th>\n",
       "      <td>239806</td>\n",
       "      <td>1</td>\n",
       "      <td>white</td>\n",
       "      <td>13194</td>\n",
       "    </tr>\n",
       "    <tr>\n",
       "      <th>84</th>\n",
       "      <td>237031</td>\n",
       "      <td>1</td>\n",
       "      <td>via</td>\n",
       "      <td>12830</td>\n",
       "    </tr>\n",
       "  </tbody>\n",
       "</table>\n",
       "</div>"
      ],
      "text/plain": [
       "     index  Fake      token  frecuencia_token\n",
       "10  232444     1      trump             79922\n",
       "31  216155     1       said             33763\n",
       "34  206880     1  president             27801\n",
       "35  203392     1     people             26591\n",
       "56  144568     1    clinton             19209\n",
       "59  198761     1      obama             18833\n",
       "62  154174     1     donald             17789\n",
       "67  128977     1       also             15420\n",
       "69  196554     1       news             14688\n",
       "73  196507     1        new             14414\n",
       "75  171064     1    hillary             14184\n",
       "77  230293     1       time             13854\n",
       "79  224427     1      state             13471\n",
       "82  239806     1      white             13194\n",
       "84  237031     1        via             12830"
      ]
     },
     "execution_count": 64,
     "metadata": {},
     "output_type": "execute_result"
    }
   ],
   "source": [
    "df_fake_sort_not_StopWords.head(15)"
   ]
  },
  {
   "cell_type": "code",
   "execution_count": 65,
   "metadata": {},
   "outputs": [
    {
     "data": {
      "text/html": [
       "<div>\n",
       "<style scoped>\n",
       "    .dataframe tbody tr th:only-of-type {\n",
       "        vertical-align: middle;\n",
       "    }\n",
       "\n",
       "    .dataframe tbody tr th {\n",
       "        vertical-align: top;\n",
       "    }\n",
       "\n",
       "    .dataframe thead th {\n",
       "        text-align: right;\n",
       "    }\n",
       "</style>\n",
       "<table border=\"1\" class=\"dataframe\">\n",
       "  <thead>\n",
       "    <tr style=\"text-align: right;\">\n",
       "      <th></th>\n",
       "      <th>index</th>\n",
       "      <th>Fake</th>\n",
       "      <th>token</th>\n",
       "      <th>frecuencia_token</th>\n",
       "    </tr>\n",
       "  </thead>\n",
       "  <tbody>\n",
       "    <tr>\n",
       "      <th>6</th>\n",
       "      <td>90350</td>\n",
       "      <td>0</td>\n",
       "      <td>said</td>\n",
       "      <td>99054</td>\n",
       "    </tr>\n",
       "    <tr>\n",
       "      <th>17</th>\n",
       "      <td>106639</td>\n",
       "      <td>0</td>\n",
       "      <td>trump</td>\n",
       "      <td>42755</td>\n",
       "    </tr>\n",
       "    <tr>\n",
       "      <th>26</th>\n",
       "      <td>87534</td>\n",
       "      <td>0</td>\n",
       "      <td>reuters</td>\n",
       "      <td>28880</td>\n",
       "    </tr>\n",
       "    <tr>\n",
       "      <th>28</th>\n",
       "      <td>81075</td>\n",
       "      <td>0</td>\n",
       "      <td>president</td>\n",
       "      <td>27128</td>\n",
       "    </tr>\n",
       "    <tr>\n",
       "      <th>36</th>\n",
       "      <td>98622</td>\n",
       "      <td>0</td>\n",
       "      <td>state</td>\n",
       "      <td>19912</td>\n",
       "    </tr>\n",
       "    <tr>\n",
       "      <th>41</th>\n",
       "      <td>41076</td>\n",
       "      <td>0</td>\n",
       "      <td>government</td>\n",
       "      <td>18484</td>\n",
       "    </tr>\n",
       "    <tr>\n",
       "      <th>44</th>\n",
       "      <td>70702</td>\n",
       "      <td>0</td>\n",
       "      <td>new</td>\n",
       "      <td>16849</td>\n",
       "    </tr>\n",
       "    <tr>\n",
       "      <th>47</th>\n",
       "      <td>46493</td>\n",
       "      <td>0</td>\n",
       "      <td>house</td>\n",
       "      <td>16480</td>\n",
       "    </tr>\n",
       "    <tr>\n",
       "      <th>48</th>\n",
       "      <td>98655</td>\n",
       "      <td>0</td>\n",
       "      <td>states</td>\n",
       "      <td>16380</td>\n",
       "    </tr>\n",
       "    <tr>\n",
       "      <th>49</th>\n",
       "      <td>86922</td>\n",
       "      <td>0</td>\n",
       "      <td>republican</td>\n",
       "      <td>16175</td>\n",
       "    </tr>\n",
       "    <tr>\n",
       "      <th>50</th>\n",
       "      <td>3172</td>\n",
       "      <td>0</td>\n",
       "      <td>also</td>\n",
       "      <td>15948</td>\n",
       "    </tr>\n",
       "    <tr>\n",
       "      <th>51</th>\n",
       "      <td>109089</td>\n",
       "      <td>0</td>\n",
       "      <td>united</td>\n",
       "      <td>15584</td>\n",
       "    </tr>\n",
       "    <tr>\n",
       "      <th>53</th>\n",
       "      <td>77587</td>\n",
       "      <td>0</td>\n",
       "      <td>people</td>\n",
       "      <td>14945</td>\n",
       "    </tr>\n",
       "    <tr>\n",
       "      <th>54</th>\n",
       "      <td>116463</td>\n",
       "      <td>0</td>\n",
       "      <td>year</td>\n",
       "      <td>14276</td>\n",
       "    </tr>\n",
       "    <tr>\n",
       "      <th>55</th>\n",
       "      <td>105051</td>\n",
       "      <td>0</td>\n",
       "      <td>told</td>\n",
       "      <td>14245</td>\n",
       "    </tr>\n",
       "  </tbody>\n",
       "</table>\n",
       "</div>"
      ],
      "text/plain": [
       "     index  Fake       token  frecuencia_token\n",
       "6    90350     0        said             99054\n",
       "17  106639     0       trump             42755\n",
       "26   87534     0     reuters             28880\n",
       "28   81075     0   president             27128\n",
       "36   98622     0       state             19912\n",
       "41   41076     0  government             18484\n",
       "44   70702     0         new             16849\n",
       "47   46493     0       house             16480\n",
       "48   98655     0      states             16380\n",
       "49   86922     0  republican             16175\n",
       "50    3172     0        also             15948\n",
       "51  109089     0      united             15584\n",
       "53   77587     0      people             14945\n",
       "54  116463     0        year             14276\n",
       "55  105051     0        told             14245"
      ]
     },
     "execution_count": 65,
     "metadata": {},
     "output_type": "execute_result"
    }
   ],
   "source": [
    "df_no_fake_sort_not_StopWords.head(15)"
   ]
  },
  {
   "cell_type": "code",
   "execution_count": 66,
   "metadata": {},
   "outputs": [
    {
     "data": {
      "image/png": "[encoded data removed]",
      "text/plain": [
       "<Figure size 432x288 with 1 Axes>"
      ]
     },
     "metadata": {
      "needs_background": "light"
     },
     "output_type": "display_data"
    }
   ],
   "source": [
    "import matplotlib.pyplot as plt\n",
    "\n",
    "fig, ax = plt.subplots()\n",
    "\n",
    "sns.barplot(data=df_fake_sort_not_StopWords.head(15), x='frecuencia_token', y='token', color='tomato').set(title='Ranking 15 Tokens in Fake News') \n",
    "\n",
    "fig.savefig('p1.png', format='png', dpi=1200)"
   ]
  },
  {
   "cell_type": "code",
   "execution_count": 67,
   "metadata": {},
   "outputs": [
    {
     "data": {
      "image/png": "[encoded data removed]",
      "text/plain": [
       "<Figure size 432x288 with 1 Axes>"
      ]
     },
     "metadata": {
      "needs_background": "light"
     },
     "output_type": "display_data"
    }
   ],
   "source": [
    "fig, ax = plt.subplots()\n",
    "\n",
    "sns.barplot(data=df_no_fake_sort_not_StopWords.head(15), x='frecuencia_token', y='token', color='cyan').set(title='Ranking 15 Tokens in Not Fake News') \n",
    "\n",
    "fig.savefig('p2.png', format='png', dpi=1200)"
   ]
  },
  {
   "cell_type": "markdown",
   "metadata": {},
   "source": [
    "A continuación, se estudia qué palabras se utilizan de forma más diferenciada en cada tipo de noticia (fake / no fake), es decir, palabras que utiliza mucho en fake newa y que no se utilizan en las no fakes, y viceversa. \n",
    "\n",
    "Una forma de hacer este análisis es mediante el odds ratio de las frecuencias.\n",
    "\n",
    "$$\\dfrac{ \\frac{n_{k0} + 1}{N_0 + 1} }{  \\frac{n_{k1} + 1}{N_1 +1}  }$$\n",
    " \n",
    "Donde:\n",
    "\n",
    "$n_{k0}$  el número de veces que aparece el término (token) k en las fake news  \n",
    "\n",
    "$n_{k1}$ el numero de veces  que aparece el termino (token) k en las no fake news.\n",
    "\n",
    "$N_0$ es el número de terminos (tokens, contando repeticiones) que aparecen en las fake news \n",
    "\n",
    "$N_1$ es el número de terminos (tokens, contando repeticiones) que aparecen en las no fake news "
   ]
  },
  {
   "cell_type": "code",
   "execution_count": 68,
   "metadata": {},
   "outputs": [],
   "source": [
    "def n_k1(token) : \n",
    "\n",
    "    n_k1 = df_fake_sort_not_StopWords.loc[ df_fake_sort_not_StopWords['token']==token , 'frecuencia_token']\n",
    "\n",
    "    return(n_k1)"
   ]
  },
  {
   "cell_type": "code",
   "execution_count": 69,
   "metadata": {},
   "outputs": [],
   "source": [
    "def n_k0(token) : \n",
    "\n",
    "    n_k0 = df_no_fake_sort_not_StopWords.loc[ df_no_fake_sort_not_StopWords['token']==token , 'frecuencia_token']\n",
    "\n",
    "    return(n_k0)"
   ]
  },
  {
   "cell_type": "code",
   "execution_count": 70,
   "metadata": {},
   "outputs": [
    {
     "data": {
      "text/plain": [
       "17    42755\n",
       "Name: frecuencia_token, dtype: int64"
      ]
     },
     "execution_count": 70,
     "metadata": {},
     "output_type": "execute_result"
    }
   ],
   "source": [
    "n_k0('trump') "
   ]
  },
  {
   "cell_type": "code",
   "execution_count": 71,
   "metadata": {},
   "outputs": [
    {
     "data": {
      "text/plain": [
       "10    79922\n",
       "Name: frecuencia_token, dtype: int64"
      ]
     },
     "execution_count": 71,
     "metadata": {},
     "output_type": "execute_result"
    }
   ],
   "source": [
    "n_k1('trump') "
   ]
  },
  {
   "cell_type": "markdown",
   "metadata": {},
   "source": [
    "N_0 y N_1 coinciden con el nº de tokens (contando repeticiones , y sin stops words) que aparecen el las no fake  y  fake news, respectivamente:"
   ]
  },
  {
   "cell_type": "code",
   "execution_count": 72,
   "metadata": {},
   "outputs": [],
   "source": [
    "Fake_News_Tokens_not_StopWords = Fake_News_Tokens[ ~ Fake_News_Tokens['token'].isin(stop_words) ]"
   ]
  },
  {
   "cell_type": "code",
   "execution_count": 73,
   "metadata": {},
   "outputs": [
    {
     "data": {
      "text/html": [
       "<div>\n",
       "<style scoped>\n",
       "    .dataframe tbody tr th:only-of-type {\n",
       "        vertical-align: middle;\n",
       "    }\n",
       "\n",
       "    .dataframe tbody tr th {\n",
       "        vertical-align: top;\n",
       "    }\n",
       "\n",
       "    .dataframe thead th {\n",
       "        text-align: right;\n",
       "    }\n",
       "</style>\n",
       "<table border=\"1\" class=\"dataframe\">\n",
       "  <thead>\n",
       "    <tr style=\"text-align: right;\">\n",
       "      <th></th>\n",
       "      <th>id_text</th>\n",
       "      <th>token</th>\n",
       "      <th>Fake</th>\n",
       "    </tr>\n",
       "  </thead>\n",
       "  <tbody>\n",
       "    <tr>\n",
       "      <th>0</th>\n",
       "      <td>0</td>\n",
       "      <td>donald</td>\n",
       "      <td>1</td>\n",
       "    </tr>\n",
       "    <tr>\n",
       "      <th>0</th>\n",
       "      <td>0</td>\n",
       "      <td>trump</td>\n",
       "      <td>1</td>\n",
       "    </tr>\n",
       "    <tr>\n",
       "      <th>0</th>\n",
       "      <td>0</td>\n",
       "      <td>wish</td>\n",
       "      <td>1</td>\n",
       "    </tr>\n",
       "    <tr>\n",
       "      <th>0</th>\n",
       "      <td>0</td>\n",
       "      <td>americans</td>\n",
       "      <td>1</td>\n",
       "    </tr>\n",
       "    <tr>\n",
       "      <th>0</th>\n",
       "      <td>0</td>\n",
       "      <td>happy</td>\n",
       "      <td>1</td>\n",
       "    </tr>\n",
       "    <tr>\n",
       "      <th>...</th>\n",
       "      <td>...</td>\n",
       "      <td>...</td>\n",
       "      <td>...</td>\n",
       "    </tr>\n",
       "    <tr>\n",
       "      <th>44897</th>\n",
       "      <td>44897</td>\n",
       "      <td>energy</td>\n",
       "      <td>0</td>\n",
       "    </tr>\n",
       "    <tr>\n",
       "      <th>44897</th>\n",
       "      <td>44897</td>\n",
       "      <td>technology</td>\n",
       "      <td>0</td>\n",
       "    </tr>\n",
       "    <tr>\n",
       "      <th>44897</th>\n",
       "      <td>44897</td>\n",
       "      <td>aviation</td>\n",
       "      <td>0</td>\n",
       "    </tr>\n",
       "    <tr>\n",
       "      <th>44897</th>\n",
       "      <td>44897</td>\n",
       "      <td>among</td>\n",
       "      <td>0</td>\n",
       "    </tr>\n",
       "    <tr>\n",
       "      <th>44897</th>\n",
       "      <td>44897</td>\n",
       "      <td>others</td>\n",
       "      <td>0</td>\n",
       "    </tr>\n",
       "  </tbody>\n",
       "</table>\n",
       "<p>10179252 rows × 3 columns</p>\n",
       "</div>"
      ],
      "text/plain": [
       "       id_text       token Fake\n",
       "0            0      donald    1\n",
       "0            0       trump    1\n",
       "0            0        wish    1\n",
       "0            0   americans    1\n",
       "0            0       happy    1\n",
       "...        ...         ...  ...\n",
       "44897    44897      energy    0\n",
       "44897    44897  technology    0\n",
       "44897    44897    aviation    0\n",
       "44897    44897       among    0\n",
       "44897    44897      others    0\n",
       "\n",
       "[10179252 rows x 3 columns]"
      ]
     },
     "execution_count": 73,
     "metadata": {},
     "output_type": "execute_result"
    }
   ],
   "source": [
    "Fake_News_Tokens_not_StopWords"
   ]
  },
  {
   "cell_type": "code",
   "execution_count": 74,
   "metadata": {},
   "outputs": [
    {
     "data": {
      "text/plain": [
       "Fake\n",
       "0    4782198\n",
       "1    5396339\n",
       "Name: token, dtype: int64"
      ]
     },
     "execution_count": 74,
     "metadata": {},
     "output_type": "execute_result"
    }
   ],
   "source": [
    "Fake_News_Tokens_not_StopWords.groupby(by='Fake')['token'].count()"
   ]
  },
  {
   "cell_type": "code",
   "execution_count": 75,
   "metadata": {},
   "outputs": [],
   "source": [
    "N0 = Fake_News_Tokens_not_StopWords.groupby(by='Fake')['token'].count()[0]\n",
    "\n",
    "N1 = Fake_News_Tokens_not_StopWords.groupby(by='Fake')['token'].count()[1]"
   ]
  },
  {
   "cell_type": "code",
   "execution_count": 76,
   "metadata": {},
   "outputs": [
    {
     "data": {
      "text/plain": [
       "4782198"
      ]
     },
     "execution_count": 76,
     "metadata": {},
     "output_type": "execute_result"
    }
   ],
   "source": [
    "N0"
   ]
  },
  {
   "cell_type": "code",
   "execution_count": 77,
   "metadata": {},
   "outputs": [
    {
     "data": {
      "text/plain": [
       "5396339"
      ]
     },
     "execution_count": 77,
     "metadata": {},
     "output_type": "execute_result"
    }
   ],
   "source": [
    "N1"
   ]
  },
  {
   "cell_type": "code",
   "execution_count": 78,
   "metadata": {},
   "outputs": [
    {
     "data": {
      "text/plain": [
       "Fake\n",
       "0    4782198\n",
       "1    5396339\n",
       "Name: token, dtype: int64"
      ]
     },
     "execution_count": 78,
     "metadata": {},
     "output_type": "execute_result"
    }
   ],
   "source": [
    "Fake_News_Tokens_not_StopWords.groupby(by='Fake')['token'].count()"
   ]
  },
  {
   "cell_type": "markdown",
   "metadata": {},
   "source": []
  },
  {
   "cell_type": "code",
   "execution_count": 79,
   "metadata": {},
   "outputs": [
    {
     "data": {
      "text/plain": [
       "17    0.00894\n",
       "Name: frecuencia_token, dtype: float64"
      ]
     },
     "execution_count": 79,
     "metadata": {},
     "output_type": "execute_result"
    }
   ],
   "source": [
    "n_k0('trump') / N0 "
   ]
  },
  {
   "cell_type": "code",
   "execution_count": 80,
   "metadata": {},
   "outputs": [
    {
     "data": {
      "text/plain": [
       "10    0.01481\n",
       "Name: frecuencia_token, dtype: float64"
      ]
     },
     "execution_count": 80,
     "metadata": {},
     "output_type": "execute_result"
    }
   ],
   "source": [
    "n_k1('trump') / N1"
   ]
  },
  {
   "cell_type": "code",
   "execution_count": 81,
   "metadata": {},
   "outputs": [
    {
     "data": {
      "text/plain": [
       "1.6565622548396417"
      ]
     },
     "execution_count": 81,
     "metadata": {},
     "output_type": "execute_result"
    }
   ],
   "source": [
    "float( n_k1('trump') / N1 ) / float( n_k0('trump') / N0 )"
   ]
  },
  {
   "cell_type": "code",
   "execution_count": 82,
   "metadata": {},
   "outputs": [
    {
     "data": {
      "text/html": [
       "<div>\n",
       "<style scoped>\n",
       "    .dataframe tbody tr th:only-of-type {\n",
       "        vertical-align: middle;\n",
       "    }\n",
       "\n",
       "    .dataframe tbody tr th {\n",
       "        vertical-align: top;\n",
       "    }\n",
       "\n",
       "    .dataframe thead th {\n",
       "        text-align: right;\n",
       "    }\n",
       "</style>\n",
       "<table border=\"1\" class=\"dataframe\">\n",
       "  <thead>\n",
       "    <tr style=\"text-align: right;\">\n",
       "      <th></th>\n",
       "      <th>index</th>\n",
       "      <th>Fake</th>\n",
       "      <th>token</th>\n",
       "      <th>frecuencia_token</th>\n",
       "    </tr>\n",
       "  </thead>\n",
       "  <tbody>\n",
       "    <tr>\n",
       "      <th>0</th>\n",
       "      <td>125805</td>\n",
       "      <td>1</td>\n",
       "      <td>aa</td>\n",
       "      <td>24</td>\n",
       "    </tr>\n",
       "    <tr>\n",
       "      <th>1</th>\n",
       "      <td>125806</td>\n",
       "      <td>1</td>\n",
       "      <td>aaa</td>\n",
       "      <td>9</td>\n",
       "    </tr>\n",
       "    <tr>\n",
       "      <th>2</th>\n",
       "      <td>125807</td>\n",
       "      <td>1</td>\n",
       "      <td>aaaaaaaand</td>\n",
       "      <td>1</td>\n",
       "    </tr>\n",
       "    <tr>\n",
       "      <th>3</th>\n",
       "      <td>125808</td>\n",
       "      <td>1</td>\n",
       "      <td>aaaaackkk</td>\n",
       "      <td>1</td>\n",
       "    </tr>\n",
       "    <tr>\n",
       "      <th>4</th>\n",
       "      <td>125809</td>\n",
       "      <td>1</td>\n",
       "      <td>aaaaapkfhk</td>\n",
       "      <td>1</td>\n",
       "    </tr>\n",
       "    <tr>\n",
       "      <th>...</th>\n",
       "      <td>...</td>\n",
       "      <td>...</td>\n",
       "      <td>...</td>\n",
       "      <td>...</td>\n",
       "    </tr>\n",
       "    <tr>\n",
       "      <th>125561</th>\n",
       "      <td>251605</td>\n",
       "      <td>1</td>\n",
       "      <td>””it</td>\n",
       "      <td>0</td>\n",
       "    </tr>\n",
       "    <tr>\n",
       "      <th>125562</th>\n",
       "      <td>251606</td>\n",
       "      <td>1</td>\n",
       "      <td>””when</td>\n",
       "      <td>0</td>\n",
       "    </tr>\n",
       "    <tr>\n",
       "      <th>125563</th>\n",
       "      <td>251607</td>\n",
       "      <td>1</td>\n",
       "      <td>•if</td>\n",
       "      <td>0</td>\n",
       "    </tr>\n",
       "    <tr>\n",
       "      <th>125564</th>\n",
       "      <td>251608</td>\n",
       "      <td>1</td>\n",
       "      <td>☑️</td>\n",
       "      <td>0</td>\n",
       "    </tr>\n",
       "    <tr>\n",
       "      <th>125565</th>\n",
       "      <td>251609</td>\n",
       "      <td>1</td>\n",
       "      <td>➡️</td>\n",
       "      <td>0</td>\n",
       "    </tr>\n",
       "  </tbody>\n",
       "</table>\n",
       "<p>125566 rows × 4 columns</p>\n",
       "</div>"
      ],
      "text/plain": [
       "         index  Fake       token  frecuencia_token\n",
       "0       125805     1          aa                24\n",
       "1       125806     1         aaa                 9\n",
       "2       125807     1  aaaaaaaand                 1\n",
       "3       125808     1   aaaaackkk                 1\n",
       "4       125809     1  aaaaapkfhk                 1\n",
       "...        ...   ...         ...               ...\n",
       "125561  251605     1        ””it                 0\n",
       "125562  251606     1      ””when                 0\n",
       "125563  251607     1         •if                 0\n",
       "125564  251608     1          ☑️                 0\n",
       "125565  251609     1          ➡️                 0\n",
       "\n",
       "[125566 rows x 4 columns]"
      ]
     },
     "execution_count": 82,
     "metadata": {},
     "output_type": "execute_result"
    }
   ],
   "source": [
    "df1 = df_fake_sort_not_StopWords.sort_values(by=[\"token\"]).reset_index(drop=True)\n",
    "df1"
   ]
  },
  {
   "cell_type": "code",
   "execution_count": 83,
   "metadata": {},
   "outputs": [
    {
     "data": {
      "text/html": [
       "<div>\n",
       "<style scoped>\n",
       "    .dataframe tbody tr th:only-of-type {\n",
       "        vertical-align: middle;\n",
       "    }\n",
       "\n",
       "    .dataframe tbody tr th {\n",
       "        vertical-align: top;\n",
       "    }\n",
       "\n",
       "    .dataframe thead th {\n",
       "        text-align: right;\n",
       "    }\n",
       "</style>\n",
       "<table border=\"1\" class=\"dataframe\">\n",
       "  <thead>\n",
       "    <tr style=\"text-align: right;\">\n",
       "      <th></th>\n",
       "      <th>index</th>\n",
       "      <th>Fake</th>\n",
       "      <th>token</th>\n",
       "      <th>frecuencia_token</th>\n",
       "    </tr>\n",
       "  </thead>\n",
       "  <tbody>\n",
       "    <tr>\n",
       "      <th>0</th>\n",
       "      <td>0</td>\n",
       "      <td>0</td>\n",
       "      <td>aa</td>\n",
       "      <td>22</td>\n",
       "    </tr>\n",
       "    <tr>\n",
       "      <th>1</th>\n",
       "      <td>1</td>\n",
       "      <td>0</td>\n",
       "      <td>aaa</td>\n",
       "      <td>7</td>\n",
       "    </tr>\n",
       "    <tr>\n",
       "      <th>2</th>\n",
       "      <td>2</td>\n",
       "      <td>0</td>\n",
       "      <td>aaaaaaaand</td>\n",
       "      <td>0</td>\n",
       "    </tr>\n",
       "    <tr>\n",
       "      <th>3</th>\n",
       "      <td>3</td>\n",
       "      <td>0</td>\n",
       "      <td>aaaaackkk</td>\n",
       "      <td>0</td>\n",
       "    </tr>\n",
       "    <tr>\n",
       "      <th>4</th>\n",
       "      <td>4</td>\n",
       "      <td>0</td>\n",
       "      <td>aaaaapkfhk</td>\n",
       "      <td>0</td>\n",
       "    </tr>\n",
       "    <tr>\n",
       "      <th>...</th>\n",
       "      <td>...</td>\n",
       "      <td>...</td>\n",
       "      <td>...</td>\n",
       "      <td>...</td>\n",
       "    </tr>\n",
       "    <tr>\n",
       "      <th>125561</th>\n",
       "      <td>125800</td>\n",
       "      <td>0</td>\n",
       "      <td>””it</td>\n",
       "      <td>1</td>\n",
       "    </tr>\n",
       "    <tr>\n",
       "      <th>125562</th>\n",
       "      <td>125801</td>\n",
       "      <td>0</td>\n",
       "      <td>””when</td>\n",
       "      <td>1</td>\n",
       "    </tr>\n",
       "    <tr>\n",
       "      <th>125563</th>\n",
       "      <td>125802</td>\n",
       "      <td>0</td>\n",
       "      <td>•if</td>\n",
       "      <td>3</td>\n",
       "    </tr>\n",
       "    <tr>\n",
       "      <th>125564</th>\n",
       "      <td>125803</td>\n",
       "      <td>0</td>\n",
       "      <td>☑️</td>\n",
       "      <td>3</td>\n",
       "    </tr>\n",
       "    <tr>\n",
       "      <th>125565</th>\n",
       "      <td>125804</td>\n",
       "      <td>0</td>\n",
       "      <td>➡️</td>\n",
       "      <td>1</td>\n",
       "    </tr>\n",
       "  </tbody>\n",
       "</table>\n",
       "<p>125566 rows × 4 columns</p>\n",
       "</div>"
      ],
      "text/plain": [
       "         index  Fake       token  frecuencia_token\n",
       "0            0     0          aa                22\n",
       "1            1     0         aaa                 7\n",
       "2            2     0  aaaaaaaand                 0\n",
       "3            3     0   aaaaackkk                 0\n",
       "4            4     0  aaaaapkfhk                 0\n",
       "...        ...   ...         ...               ...\n",
       "125561  125800     0        ””it                 1\n",
       "125562  125801     0      ””when                 1\n",
       "125563  125802     0         •if                 3\n",
       "125564  125803     0          ☑️                 3\n",
       "125565  125804     0          ➡️                 1\n",
       "\n",
       "[125566 rows x 4 columns]"
      ]
     },
     "execution_count": 83,
     "metadata": {},
     "output_type": "execute_result"
    }
   ],
   "source": [
    "df0 = df_no_fake_sort_not_StopWords.sort_values(by=[\"token\"]).reset_index(drop=True)\n",
    "df0"
   ]
  },
  {
   "cell_type": "code",
   "execution_count": 84,
   "metadata": {},
   "outputs": [],
   "source": [
    "n_k0_vector = df0['frecuencia_token']"
   ]
  },
  {
   "cell_type": "code",
   "execution_count": 85,
   "metadata": {},
   "outputs": [
    {
     "data": {
      "text/plain": [
       "0         4.809503e-06\n",
       "1         1.672871e-06\n",
       "2         2.091088e-07\n",
       "3         2.091088e-07\n",
       "4         2.091088e-07\n",
       "              ...     \n",
       "125561    4.182176e-07\n",
       "125562    4.182176e-07\n",
       "125563    8.364353e-07\n",
       "125564    8.364353e-07\n",
       "125565    4.182176e-07\n",
       "Name: frecuencia_token, Length: 125566, dtype: float64"
      ]
     },
     "execution_count": 85,
     "metadata": {},
     "output_type": "execute_result"
    }
   ],
   "source": [
    "( n_k0_vector + 1 ) / ( N0 + 1)"
   ]
  },
  {
   "cell_type": "code",
   "execution_count": 86,
   "metadata": {},
   "outputs": [],
   "source": [
    "n_k1_vector = df1['frecuencia_token']"
   ]
  },
  {
   "cell_type": "code",
   "execution_count": 87,
   "metadata": {},
   "outputs": [
    {
     "data": {
      "text/plain": [
       "0         4.632770e-06\n",
       "1         1.853108e-06\n",
       "2         3.706216e-07\n",
       "3         3.706216e-07\n",
       "4         3.706216e-07\n",
       "              ...     \n",
       "125561    1.853108e-07\n",
       "125562    1.853108e-07\n",
       "125563    1.853108e-07\n",
       "125564    1.853108e-07\n",
       "125565    1.853108e-07\n",
       "Name: frecuencia_token, Length: 125566, dtype: float64"
      ]
     },
     "execution_count": 87,
     "metadata": {},
     "output_type": "execute_result"
    }
   ],
   "source": [
    "( n_k1_vector + 1 ) / ( N1 + 1)"
   ]
  },
  {
   "cell_type": "code",
   "execution_count": 88,
   "metadata": {},
   "outputs": [],
   "source": [
    "Odds_ratio = ( ( n_k1_vector + 1 ) / ( N1 + 1) ) / ( ( n_k0_vector + 1 ) / ( N0 + 1) )"
   ]
  },
  {
   "cell_type": "code",
   "execution_count": 89,
   "metadata": {},
   "outputs": [
    {
     "data": {
      "text/plain": [
       "0         0.963253\n",
       "1         1.107741\n",
       "2         1.772386\n",
       "3         1.772386\n",
       "4         1.772386\n",
       "            ...   \n",
       "125561    0.443097\n",
       "125562    0.443097\n",
       "125563    0.221548\n",
       "125564    0.221548\n",
       "125565    0.443097\n",
       "Name: frecuencia_token, Length: 125566, dtype: float64"
      ]
     },
     "execution_count": 89,
     "metadata": {},
     "output_type": "execute_result"
    }
   ],
   "source": [
    "Odds_ratio"
   ]
  },
  {
   "cell_type": "code",
   "execution_count": 90,
   "metadata": {},
   "outputs": [],
   "source": [
    "df0['Odds_ratio_Fake_NotFake'] = Odds_ratio  \n",
    "df1['Odds_ratio_Fake_NotFake'] = Odds_ratio  \n",
    "\n",
    "df0['Odds_ratio_NotFake_Fake'] = 1 / df0[\"Odds_ratio_Fake_NotFake\"] \n",
    "df1['Odds_ratio_NotFake_Fake'] = 1 / df1[\"Odds_ratio_Fake_NotFake\"] "
   ]
  },
  {
   "cell_type": "code",
   "execution_count": 91,
   "metadata": {},
   "outputs": [
    {
     "data": {
      "text/html": [
       "<div>\n",
       "<style scoped>\n",
       "    .dataframe tbody tr th:only-of-type {\n",
       "        vertical-align: middle;\n",
       "    }\n",
       "\n",
       "    .dataframe tbody tr th {\n",
       "        vertical-align: top;\n",
       "    }\n",
       "\n",
       "    .dataframe thead th {\n",
       "        text-align: right;\n",
       "    }\n",
       "</style>\n",
       "<table border=\"1\" class=\"dataframe\">\n",
       "  <thead>\n",
       "    <tr style=\"text-align: right;\">\n",
       "      <th></th>\n",
       "      <th>index</th>\n",
       "      <th>Fake</th>\n",
       "      <th>token</th>\n",
       "      <th>frecuencia_token</th>\n",
       "      <th>Odds_ratio_Fake_NotFake</th>\n",
       "      <th>Odds_ratio_NotFake_Fake</th>\n",
       "    </tr>\n",
       "  </thead>\n",
       "  <tbody>\n",
       "    <tr>\n",
       "      <th>0</th>\n",
       "      <td>0</td>\n",
       "      <td>0</td>\n",
       "      <td>aa</td>\n",
       "      <td>22</td>\n",
       "      <td>0.963253</td>\n",
       "      <td>1.038149</td>\n",
       "    </tr>\n",
       "    <tr>\n",
       "      <th>1</th>\n",
       "      <td>1</td>\n",
       "      <td>0</td>\n",
       "      <td>aaa</td>\n",
       "      <td>7</td>\n",
       "      <td>1.107741</td>\n",
       "      <td>0.902738</td>\n",
       "    </tr>\n",
       "    <tr>\n",
       "      <th>2</th>\n",
       "      <td>2</td>\n",
       "      <td>0</td>\n",
       "      <td>aaaaaaaand</td>\n",
       "      <td>0</td>\n",
       "      <td>1.772386</td>\n",
       "      <td>0.564211</td>\n",
       "    </tr>\n",
       "    <tr>\n",
       "      <th>3</th>\n",
       "      <td>3</td>\n",
       "      <td>0</td>\n",
       "      <td>aaaaackkk</td>\n",
       "      <td>0</td>\n",
       "      <td>1.772386</td>\n",
       "      <td>0.564211</td>\n",
       "    </tr>\n",
       "    <tr>\n",
       "      <th>4</th>\n",
       "      <td>4</td>\n",
       "      <td>0</td>\n",
       "      <td>aaaaapkfhk</td>\n",
       "      <td>0</td>\n",
       "      <td>1.772386</td>\n",
       "      <td>0.564211</td>\n",
       "    </tr>\n",
       "    <tr>\n",
       "      <th>...</th>\n",
       "      <td>...</td>\n",
       "      <td>...</td>\n",
       "      <td>...</td>\n",
       "      <td>...</td>\n",
       "      <td>...</td>\n",
       "      <td>...</td>\n",
       "    </tr>\n",
       "    <tr>\n",
       "      <th>125561</th>\n",
       "      <td>125800</td>\n",
       "      <td>0</td>\n",
       "      <td>””it</td>\n",
       "      <td>1</td>\n",
       "      <td>0.443097</td>\n",
       "      <td>2.256845</td>\n",
       "    </tr>\n",
       "    <tr>\n",
       "      <th>125562</th>\n",
       "      <td>125801</td>\n",
       "      <td>0</td>\n",
       "      <td>””when</td>\n",
       "      <td>1</td>\n",
       "      <td>0.443097</td>\n",
       "      <td>2.256845</td>\n",
       "    </tr>\n",
       "    <tr>\n",
       "      <th>125563</th>\n",
       "      <td>125802</td>\n",
       "      <td>0</td>\n",
       "      <td>•if</td>\n",
       "      <td>3</td>\n",
       "      <td>0.221548</td>\n",
       "      <td>4.513689</td>\n",
       "    </tr>\n",
       "    <tr>\n",
       "      <th>125564</th>\n",
       "      <td>125803</td>\n",
       "      <td>0</td>\n",
       "      <td>☑️</td>\n",
       "      <td>3</td>\n",
       "      <td>0.221548</td>\n",
       "      <td>4.513689</td>\n",
       "    </tr>\n",
       "    <tr>\n",
       "      <th>125565</th>\n",
       "      <td>125804</td>\n",
       "      <td>0</td>\n",
       "      <td>➡️</td>\n",
       "      <td>1</td>\n",
       "      <td>0.443097</td>\n",
       "      <td>2.256845</td>\n",
       "    </tr>\n",
       "  </tbody>\n",
       "</table>\n",
       "<p>125566 rows × 6 columns</p>\n",
       "</div>"
      ],
      "text/plain": [
       "         index  Fake       token  frecuencia_token  Odds_ratio_Fake_NotFake  \\\n",
       "0            0     0          aa                22                 0.963253   \n",
       "1            1     0         aaa                 7                 1.107741   \n",
       "2            2     0  aaaaaaaand                 0                 1.772386   \n",
       "3            3     0   aaaaackkk                 0                 1.772386   \n",
       "4            4     0  aaaaapkfhk                 0                 1.772386   \n",
       "...        ...   ...         ...               ...                      ...   \n",
       "125561  125800     0        ””it                 1                 0.443097   \n",
       "125562  125801     0      ””when                 1                 0.443097   \n",
       "125563  125802     0         •if                 3                 0.221548   \n",
       "125564  125803     0          ☑️                 3                 0.221548   \n",
       "125565  125804     0          ➡️                 1                 0.443097   \n",
       "\n",
       "        Odds_ratio_NotFake_Fake  \n",
       "0                      1.038149  \n",
       "1                      0.902738  \n",
       "2                      0.564211  \n",
       "3                      0.564211  \n",
       "4                      0.564211  \n",
       "...                         ...  \n",
       "125561                 2.256845  \n",
       "125562                 2.256845  \n",
       "125563                 4.513689  \n",
       "125564                 4.513689  \n",
       "125565                 2.256845  \n",
       "\n",
       "[125566 rows x 6 columns]"
      ]
     },
     "execution_count": 91,
     "metadata": {},
     "output_type": "execute_result"
    }
   ],
   "source": [
    "df0"
   ]
  },
  {
   "cell_type": "code",
   "execution_count": 92,
   "metadata": {},
   "outputs": [
    {
     "data": {
      "text/html": [
       "<div>\n",
       "<style scoped>\n",
       "    .dataframe tbody tr th:only-of-type {\n",
       "        vertical-align: middle;\n",
       "    }\n",
       "\n",
       "    .dataframe tbody tr th {\n",
       "        vertical-align: top;\n",
       "    }\n",
       "\n",
       "    .dataframe thead th {\n",
       "        text-align: right;\n",
       "    }\n",
       "</style>\n",
       "<table border=\"1\" class=\"dataframe\">\n",
       "  <thead>\n",
       "    <tr style=\"text-align: right;\">\n",
       "      <th></th>\n",
       "      <th>index</th>\n",
       "      <th>Fake</th>\n",
       "      <th>token</th>\n",
       "      <th>frecuencia_token</th>\n",
       "      <th>Odds_ratio_Fake_NotFake</th>\n",
       "      <th>Odds_ratio_NotFake_Fake</th>\n",
       "    </tr>\n",
       "  </thead>\n",
       "  <tbody>\n",
       "    <tr>\n",
       "      <th>0</th>\n",
       "      <td>125805</td>\n",
       "      <td>1</td>\n",
       "      <td>aa</td>\n",
       "      <td>24</td>\n",
       "      <td>0.963253</td>\n",
       "      <td>1.038149</td>\n",
       "    </tr>\n",
       "    <tr>\n",
       "      <th>1</th>\n",
       "      <td>125806</td>\n",
       "      <td>1</td>\n",
       "      <td>aaa</td>\n",
       "      <td>9</td>\n",
       "      <td>1.107741</td>\n",
       "      <td>0.902738</td>\n",
       "    </tr>\n",
       "    <tr>\n",
       "      <th>2</th>\n",
       "      <td>125807</td>\n",
       "      <td>1</td>\n",
       "      <td>aaaaaaaand</td>\n",
       "      <td>1</td>\n",
       "      <td>1.772386</td>\n",
       "      <td>0.564211</td>\n",
       "    </tr>\n",
       "    <tr>\n",
       "      <th>3</th>\n",
       "      <td>125808</td>\n",
       "      <td>1</td>\n",
       "      <td>aaaaackkk</td>\n",
       "      <td>1</td>\n",
       "      <td>1.772386</td>\n",
       "      <td>0.564211</td>\n",
       "    </tr>\n",
       "    <tr>\n",
       "      <th>4</th>\n",
       "      <td>125809</td>\n",
       "      <td>1</td>\n",
       "      <td>aaaaapkfhk</td>\n",
       "      <td>1</td>\n",
       "      <td>1.772386</td>\n",
       "      <td>0.564211</td>\n",
       "    </tr>\n",
       "    <tr>\n",
       "      <th>...</th>\n",
       "      <td>...</td>\n",
       "      <td>...</td>\n",
       "      <td>...</td>\n",
       "      <td>...</td>\n",
       "      <td>...</td>\n",
       "      <td>...</td>\n",
       "    </tr>\n",
       "    <tr>\n",
       "      <th>125561</th>\n",
       "      <td>251605</td>\n",
       "      <td>1</td>\n",
       "      <td>””it</td>\n",
       "      <td>0</td>\n",
       "      <td>0.443097</td>\n",
       "      <td>2.256845</td>\n",
       "    </tr>\n",
       "    <tr>\n",
       "      <th>125562</th>\n",
       "      <td>251606</td>\n",
       "      <td>1</td>\n",
       "      <td>””when</td>\n",
       "      <td>0</td>\n",
       "      <td>0.443097</td>\n",
       "      <td>2.256845</td>\n",
       "    </tr>\n",
       "    <tr>\n",
       "      <th>125563</th>\n",
       "      <td>251607</td>\n",
       "      <td>1</td>\n",
       "      <td>•if</td>\n",
       "      <td>0</td>\n",
       "      <td>0.221548</td>\n",
       "      <td>4.513689</td>\n",
       "    </tr>\n",
       "    <tr>\n",
       "      <th>125564</th>\n",
       "      <td>251608</td>\n",
       "      <td>1</td>\n",
       "      <td>☑️</td>\n",
       "      <td>0</td>\n",
       "      <td>0.221548</td>\n",
       "      <td>4.513689</td>\n",
       "    </tr>\n",
       "    <tr>\n",
       "      <th>125565</th>\n",
       "      <td>251609</td>\n",
       "      <td>1</td>\n",
       "      <td>➡️</td>\n",
       "      <td>0</td>\n",
       "      <td>0.443097</td>\n",
       "      <td>2.256845</td>\n",
       "    </tr>\n",
       "  </tbody>\n",
       "</table>\n",
       "<p>125566 rows × 6 columns</p>\n",
       "</div>"
      ],
      "text/plain": [
       "         index  Fake       token  frecuencia_token  Odds_ratio_Fake_NotFake  \\\n",
       "0       125805     1          aa                24                 0.963253   \n",
       "1       125806     1         aaa                 9                 1.107741   \n",
       "2       125807     1  aaaaaaaand                 1                 1.772386   \n",
       "3       125808     1   aaaaackkk                 1                 1.772386   \n",
       "4       125809     1  aaaaapkfhk                 1                 1.772386   \n",
       "...        ...   ...         ...               ...                      ...   \n",
       "125561  251605     1        ””it                 0                 0.443097   \n",
       "125562  251606     1      ””when                 0                 0.443097   \n",
       "125563  251607     1         •if                 0                 0.221548   \n",
       "125564  251608     1          ☑️                 0                 0.221548   \n",
       "125565  251609     1          ➡️                 0                 0.443097   \n",
       "\n",
       "        Odds_ratio_NotFake_Fake  \n",
       "0                      1.038149  \n",
       "1                      0.902738  \n",
       "2                      0.564211  \n",
       "3                      0.564211  \n",
       "4                      0.564211  \n",
       "...                         ...  \n",
       "125561                 2.256845  \n",
       "125562                 2.256845  \n",
       "125563                 4.513689  \n",
       "125564                 4.513689  \n",
       "125565                 2.256845  \n",
       "\n",
       "[125566 rows x 6 columns]"
      ]
     },
     "execution_count": 92,
     "metadata": {},
     "output_type": "execute_result"
    }
   ],
   "source": [
    "df1"
   ]
  },
  {
   "cell_type": "code",
   "execution_count": 93,
   "metadata": {},
   "outputs": [
    {
     "data": {
      "text/html": [
       "<div>\n",
       "<style scoped>\n",
       "    .dataframe tbody tr th:only-of-type {\n",
       "        vertical-align: middle;\n",
       "    }\n",
       "\n",
       "    .dataframe tbody tr th {\n",
       "        vertical-align: top;\n",
       "    }\n",
       "\n",
       "    .dataframe thead th {\n",
       "        text-align: right;\n",
       "    }\n",
       "</style>\n",
       "<table border=\"1\" class=\"dataframe\">\n",
       "  <thead>\n",
       "    <tr style=\"text-align: right;\">\n",
       "      <th></th>\n",
       "      <th>index</th>\n",
       "      <th>Fake</th>\n",
       "      <th>token</th>\n",
       "      <th>frecuencia_token</th>\n",
       "      <th>Odds_ratio_Fake_NotFake</th>\n",
       "      <th>Odds_ratio_NotFake_Fake</th>\n",
       "    </tr>\n",
       "  </thead>\n",
       "  <tbody>\n",
       "    <tr>\n",
       "      <th>0</th>\n",
       "      <td>35830</td>\n",
       "      <td>0</td>\n",
       "      <td>finicum</td>\n",
       "      <td>0</td>\n",
       "      <td>320.801884</td>\n",
       "      <td>0.003117</td>\n",
       "    </tr>\n",
       "    <tr>\n",
       "      <th>1</th>\n",
       "      <td>114264</td>\n",
       "      <td>0</td>\n",
       "      <td>wikimedia</td>\n",
       "      <td>0</td>\n",
       "      <td>200.279629</td>\n",
       "      <td>0.004993</td>\n",
       "    </tr>\n",
       "    <tr>\n",
       "      <th>2</th>\n",
       "      <td>109040</td>\n",
       "      <td>0</td>\n",
       "      <td>uninterruptible</td>\n",
       "      <td>0</td>\n",
       "      <td>189.645313</td>\n",
       "      <td>0.005273</td>\n",
       "    </tr>\n",
       "    <tr>\n",
       "      <th>3</th>\n",
       "      <td>78372</td>\n",
       "      <td>0</td>\n",
       "      <td>philosophers</td>\n",
       "      <td>0</td>\n",
       "      <td>186.100540</td>\n",
       "      <td>0.005373</td>\n",
       "    </tr>\n",
       "    <tr>\n",
       "      <th>4</th>\n",
       "      <td>60711</td>\n",
       "      <td>0</td>\n",
       "      <td>lovable</td>\n",
       "      <td>0</td>\n",
       "      <td>183.441961</td>\n",
       "      <td>0.005451</td>\n",
       "    </tr>\n",
       "  </tbody>\n",
       "</table>\n",
       "</div>"
      ],
      "text/plain": [
       "    index  Fake            token  frecuencia_token  Odds_ratio_Fake_NotFake  \\\n",
       "0   35830     0          finicum                 0               320.801884   \n",
       "1  114264     0        wikimedia                 0               200.279629   \n",
       "2  109040     0  uninterruptible                 0               189.645313   \n",
       "3   78372     0     philosophers                 0               186.100540   \n",
       "4   60711     0          lovable                 0               183.441961   \n",
       "\n",
       "   Odds_ratio_NotFake_Fake  \n",
       "0                 0.003117  \n",
       "1                 0.004993  \n",
       "2                 0.005273  \n",
       "3                 0.005373  \n",
       "4                 0.005451  "
      ]
     },
     "execution_count": 93,
     "metadata": {},
     "output_type": "execute_result"
    }
   ],
   "source": [
    "df0.sort_values(by=[\"Odds_ratio_Fake_NotFake\"], ascending=False).reset_index(drop=True).head(5)"
   ]
  },
  {
   "cell_type": "code",
   "execution_count": 94,
   "metadata": {},
   "outputs": [
    {
     "data": {
      "text/html": [
       "<div>\n",
       "<style scoped>\n",
       "    .dataframe tbody tr th:only-of-type {\n",
       "        vertical-align: middle;\n",
       "    }\n",
       "\n",
       "    .dataframe tbody tr th {\n",
       "        vertical-align: top;\n",
       "    }\n",
       "\n",
       "    .dataframe thead th {\n",
       "        text-align: right;\n",
       "    }\n",
       "</style>\n",
       "<table border=\"1\" class=\"dataframe\">\n",
       "  <thead>\n",
       "    <tr style=\"text-align: right;\">\n",
       "      <th></th>\n",
       "      <th>index</th>\n",
       "      <th>Fake</th>\n",
       "      <th>token</th>\n",
       "      <th>frecuencia_token</th>\n",
       "      <th>Odds_ratio_Fake_NotFake</th>\n",
       "      <th>Odds_ratio_NotFake_Fake</th>\n",
       "    </tr>\n",
       "  </thead>\n",
       "  <tbody>\n",
       "    <tr>\n",
       "      <th>0</th>\n",
       "      <td>106864</td>\n",
       "      <td>0</td>\n",
       "      <td>trump’s</td>\n",
       "      <td>11629</td>\n",
       "      <td>0.000076</td>\n",
       "      <td>13123.551362</td>\n",
       "    </tr>\n",
       "    <tr>\n",
       "      <th>1</th>\n",
       "      <td>72989</td>\n",
       "      <td>0</td>\n",
       "      <td>obama’s</td>\n",
       "      <td>2132</td>\n",
       "      <td>0.000415</td>\n",
       "      <td>2406.924768</td>\n",
       "    </tr>\n",
       "    <tr>\n",
       "      <th>2</th>\n",
       "      <td>18791</td>\n",
       "      <td>0</td>\n",
       "      <td>clinton’s</td>\n",
       "      <td>1604</td>\n",
       "      <td>0.000552</td>\n",
       "      <td>1811.117793</td>\n",
       "    </tr>\n",
       "    <tr>\n",
       "      <th>3</th>\n",
       "      <td>76630</td>\n",
       "      <td>0</td>\n",
       "      <td>party’s</td>\n",
       "      <td>1101</td>\n",
       "      <td>0.000804</td>\n",
       "      <td>1243.521376</td>\n",
       "    </tr>\n",
       "    <tr>\n",
       "      <th>4</th>\n",
       "      <td>98675</td>\n",
       "      <td>0</td>\n",
       "      <td>state’s</td>\n",
       "      <td>1010</td>\n",
       "      <td>0.000877</td>\n",
       "      <td>1140.834946</td>\n",
       "    </tr>\n",
       "  </tbody>\n",
       "</table>\n",
       "</div>"
      ],
      "text/plain": [
       "    index  Fake      token  frecuencia_token  Odds_ratio_Fake_NotFake  \\\n",
       "0  106864     0    trump’s             11629                 0.000076   \n",
       "1   72989     0    obama’s              2132                 0.000415   \n",
       "2   18791     0  clinton’s              1604                 0.000552   \n",
       "3   76630     0    party’s              1101                 0.000804   \n",
       "4   98675     0    state’s              1010                 0.000877   \n",
       "\n",
       "   Odds_ratio_NotFake_Fake  \n",
       "0             13123.551362  \n",
       "1              2406.924768  \n",
       "2              1811.117793  \n",
       "3              1243.521376  \n",
       "4              1140.834946  "
      ]
     },
     "execution_count": 94,
     "metadata": {},
     "output_type": "execute_result"
    }
   ],
   "source": [
    "df0.sort_values(by=[\"Odds_ratio_NotFake_Fake\"], ascending=False).reset_index(drop=True).head(5)\n"
   ]
  },
  {
   "cell_type": "markdown",
   "metadata": {},
   "source": []
  },
  {
   "cell_type": "code",
   "execution_count": 95,
   "metadata": {},
   "outputs": [
    {
     "data": {
      "text/html": [
       "<div>\n",
       "<style scoped>\n",
       "    .dataframe tbody tr th:only-of-type {\n",
       "        vertical-align: middle;\n",
       "    }\n",
       "\n",
       "    .dataframe tbody tr th {\n",
       "        vertical-align: top;\n",
       "    }\n",
       "\n",
       "    .dataframe thead th {\n",
       "        text-align: right;\n",
       "    }\n",
       "</style>\n",
       "<table border=\"1\" class=\"dataframe\">\n",
       "  <thead>\n",
       "    <tr style=\"text-align: right;\">\n",
       "      <th></th>\n",
       "      <th>index</th>\n",
       "      <th>Fake</th>\n",
       "      <th>token</th>\n",
       "      <th>frecuencia_token</th>\n",
       "      <th>Odds_ratio_Fake_NotFake</th>\n",
       "      <th>Odds_ratio_NotFake_Fake</th>\n",
       "    </tr>\n",
       "  </thead>\n",
       "  <tbody>\n",
       "    <tr>\n",
       "      <th>0</th>\n",
       "      <td>161635</td>\n",
       "      <td>1</td>\n",
       "      <td>finicum</td>\n",
       "      <td>361</td>\n",
       "      <td>320.801884</td>\n",
       "      <td>0.003117</td>\n",
       "    </tr>\n",
       "    <tr>\n",
       "      <th>1</th>\n",
       "      <td>240069</td>\n",
       "      <td>1</td>\n",
       "      <td>wikimedia</td>\n",
       "      <td>225</td>\n",
       "      <td>200.279629</td>\n",
       "      <td>0.004993</td>\n",
       "    </tr>\n",
       "    <tr>\n",
       "      <th>2</th>\n",
       "      <td>234845</td>\n",
       "      <td>1</td>\n",
       "      <td>uninterruptible</td>\n",
       "      <td>213</td>\n",
       "      <td>189.645313</td>\n",
       "      <td>0.005273</td>\n",
       "    </tr>\n",
       "    <tr>\n",
       "      <th>3</th>\n",
       "      <td>204177</td>\n",
       "      <td>1</td>\n",
       "      <td>philosophers</td>\n",
       "      <td>209</td>\n",
       "      <td>186.100540</td>\n",
       "      <td>0.005373</td>\n",
       "    </tr>\n",
       "    <tr>\n",
       "      <th>4</th>\n",
       "      <td>186516</td>\n",
       "      <td>1</td>\n",
       "      <td>lovable</td>\n",
       "      <td>206</td>\n",
       "      <td>183.441961</td>\n",
       "      <td>0.005451</td>\n",
       "    </tr>\n",
       "  </tbody>\n",
       "</table>\n",
       "</div>"
      ],
      "text/plain": [
       "    index  Fake            token  frecuencia_token  Odds_ratio_Fake_NotFake  \\\n",
       "0  161635     1          finicum               361               320.801884   \n",
       "1  240069     1        wikimedia               225               200.279629   \n",
       "2  234845     1  uninterruptible               213               189.645313   \n",
       "3  204177     1     philosophers               209               186.100540   \n",
       "4  186516     1          lovable               206               183.441961   \n",
       "\n",
       "   Odds_ratio_NotFake_Fake  \n",
       "0                 0.003117  \n",
       "1                 0.004993  \n",
       "2                 0.005273  \n",
       "3                 0.005373  \n",
       "4                 0.005451  "
      ]
     },
     "execution_count": 95,
     "metadata": {},
     "output_type": "execute_result"
    }
   ],
   "source": [
    "df1.sort_values(by=[\"Odds_ratio_Fake_NotFake\"], ascending=False).reset_index(drop=True).head(5)"
   ]
  },
  {
   "cell_type": "code",
   "execution_count": 96,
   "metadata": {},
   "outputs": [
    {
     "data": {
      "text/html": [
       "<div>\n",
       "<style scoped>\n",
       "    .dataframe tbody tr th:only-of-type {\n",
       "        vertical-align: middle;\n",
       "    }\n",
       "\n",
       "    .dataframe tbody tr th {\n",
       "        vertical-align: top;\n",
       "    }\n",
       "\n",
       "    .dataframe thead th {\n",
       "        text-align: right;\n",
       "    }\n",
       "</style>\n",
       "<table border=\"1\" class=\"dataframe\">\n",
       "  <thead>\n",
       "    <tr style=\"text-align: right;\">\n",
       "      <th></th>\n",
       "      <th>index</th>\n",
       "      <th>Fake</th>\n",
       "      <th>token</th>\n",
       "      <th>frecuencia_token</th>\n",
       "      <th>Odds_ratio_Fake_NotFake</th>\n",
       "      <th>Odds_ratio_NotFake_Fake</th>\n",
       "    </tr>\n",
       "  </thead>\n",
       "  <tbody>\n",
       "    <tr>\n",
       "      <th>0</th>\n",
       "      <td>232669</td>\n",
       "      <td>1</td>\n",
       "      <td>trump’s</td>\n",
       "      <td>0</td>\n",
       "      <td>0.000076</td>\n",
       "      <td>13123.551362</td>\n",
       "    </tr>\n",
       "    <tr>\n",
       "      <th>1</th>\n",
       "      <td>198794</td>\n",
       "      <td>1</td>\n",
       "      <td>obama’s</td>\n",
       "      <td>0</td>\n",
       "      <td>0.000415</td>\n",
       "      <td>2406.924768</td>\n",
       "    </tr>\n",
       "    <tr>\n",
       "      <th>2</th>\n",
       "      <td>144596</td>\n",
       "      <td>1</td>\n",
       "      <td>clinton’s</td>\n",
       "      <td>0</td>\n",
       "      <td>0.000552</td>\n",
       "      <td>1811.117793</td>\n",
       "    </tr>\n",
       "    <tr>\n",
       "      <th>3</th>\n",
       "      <td>202435</td>\n",
       "      <td>1</td>\n",
       "      <td>party’s</td>\n",
       "      <td>0</td>\n",
       "      <td>0.000804</td>\n",
       "      <td>1243.521376</td>\n",
       "    </tr>\n",
       "    <tr>\n",
       "      <th>4</th>\n",
       "      <td>224480</td>\n",
       "      <td>1</td>\n",
       "      <td>state’s</td>\n",
       "      <td>0</td>\n",
       "      <td>0.000877</td>\n",
       "      <td>1140.834946</td>\n",
       "    </tr>\n",
       "  </tbody>\n",
       "</table>\n",
       "</div>"
      ],
      "text/plain": [
       "    index  Fake      token  frecuencia_token  Odds_ratio_Fake_NotFake  \\\n",
       "0  232669     1    trump’s                 0                 0.000076   \n",
       "1  198794     1    obama’s                 0                 0.000415   \n",
       "2  144596     1  clinton’s                 0                 0.000552   \n",
       "3  202435     1    party’s                 0                 0.000804   \n",
       "4  224480     1    state’s                 0                 0.000877   \n",
       "\n",
       "   Odds_ratio_NotFake_Fake  \n",
       "0             13123.551362  \n",
       "1              2406.924768  \n",
       "2              1811.117793  \n",
       "3              1243.521376  \n",
       "4              1140.834946  "
      ]
     },
     "execution_count": 96,
     "metadata": {},
     "output_type": "execute_result"
    }
   ],
   "source": [
    "df1.sort_values(by=[\"Odds_ratio_NotFake_Fake\"], ascending=False).reset_index(drop=True).head(5)"
   ]
  },
  {
   "cell_type": "markdown",
   "metadata": {},
   "source": []
  },
  {
   "cell_type": "markdown",
   "metadata": {},
   "source": [
    "Notese que en ambos data sets las columnas Odds_ratio_Fake_NotFake  y Odds_ratio_NotFake_Fake son las mismas, por tanto podemos construir un nuevo data set solo con esas columnas y otra para los tokens, a partir de cualquiera de esos dos data-sets."
   ]
  },
  {
   "cell_type": "code",
   "execution_count": 97,
   "metadata": {},
   "outputs": [
    {
     "data": {
      "text/html": [
       "<div>\n",
       "<style scoped>\n",
       "    .dataframe tbody tr th:only-of-type {\n",
       "        vertical-align: middle;\n",
       "    }\n",
       "\n",
       "    .dataframe tbody tr th {\n",
       "        vertical-align: top;\n",
       "    }\n",
       "\n",
       "    .dataframe thead th {\n",
       "        text-align: right;\n",
       "    }\n",
       "</style>\n",
       "<table border=\"1\" class=\"dataframe\">\n",
       "  <thead>\n",
       "    <tr style=\"text-align: right;\">\n",
       "      <th></th>\n",
       "      <th>token</th>\n",
       "      <th>Odds_ratio_Fake_NotFake</th>\n",
       "      <th>Odds_ratio_NotFake_Fake</th>\n",
       "    </tr>\n",
       "  </thead>\n",
       "  <tbody>\n",
       "    <tr>\n",
       "      <th>0</th>\n",
       "      <td>aa</td>\n",
       "      <td>0.963253</td>\n",
       "      <td>1.038149</td>\n",
       "    </tr>\n",
       "    <tr>\n",
       "      <th>1</th>\n",
       "      <td>aaa</td>\n",
       "      <td>1.107741</td>\n",
       "      <td>0.902738</td>\n",
       "    </tr>\n",
       "    <tr>\n",
       "      <th>2</th>\n",
       "      <td>aaaaaaaand</td>\n",
       "      <td>1.772386</td>\n",
       "      <td>0.564211</td>\n",
       "    </tr>\n",
       "    <tr>\n",
       "      <th>3</th>\n",
       "      <td>aaaaackkk</td>\n",
       "      <td>1.772386</td>\n",
       "      <td>0.564211</td>\n",
       "    </tr>\n",
       "    <tr>\n",
       "      <th>4</th>\n",
       "      <td>aaaaapkfhk</td>\n",
       "      <td>1.772386</td>\n",
       "      <td>0.564211</td>\n",
       "    </tr>\n",
       "    <tr>\n",
       "      <th>...</th>\n",
       "      <td>...</td>\n",
       "      <td>...</td>\n",
       "      <td>...</td>\n",
       "    </tr>\n",
       "    <tr>\n",
       "      <th>125561</th>\n",
       "      <td>””it</td>\n",
       "      <td>0.443097</td>\n",
       "      <td>2.256845</td>\n",
       "    </tr>\n",
       "    <tr>\n",
       "      <th>125562</th>\n",
       "      <td>””when</td>\n",
       "      <td>0.443097</td>\n",
       "      <td>2.256845</td>\n",
       "    </tr>\n",
       "    <tr>\n",
       "      <th>125563</th>\n",
       "      <td>•if</td>\n",
       "      <td>0.221548</td>\n",
       "      <td>4.513689</td>\n",
       "    </tr>\n",
       "    <tr>\n",
       "      <th>125564</th>\n",
       "      <td>☑️</td>\n",
       "      <td>0.221548</td>\n",
       "      <td>4.513689</td>\n",
       "    </tr>\n",
       "    <tr>\n",
       "      <th>125565</th>\n",
       "      <td>➡️</td>\n",
       "      <td>0.443097</td>\n",
       "      <td>2.256845</td>\n",
       "    </tr>\n",
       "  </tbody>\n",
       "</table>\n",
       "<p>125566 rows × 3 columns</p>\n",
       "</div>"
      ],
      "text/plain": [
       "             token  Odds_ratio_Fake_NotFake  Odds_ratio_NotFake_Fake\n",
       "0               aa                 0.963253                 1.038149\n",
       "1              aaa                 1.107741                 0.902738\n",
       "2       aaaaaaaand                 1.772386                 0.564211\n",
       "3        aaaaackkk                 1.772386                 0.564211\n",
       "4       aaaaapkfhk                 1.772386                 0.564211\n",
       "...            ...                      ...                      ...\n",
       "125561        ””it                 0.443097                 2.256845\n",
       "125562      ””when                 0.443097                 2.256845\n",
       "125563         •if                 0.221548                 4.513689\n",
       "125564          ☑️                 0.221548                 4.513689\n",
       "125565          ➡️                 0.443097                 2.256845\n",
       "\n",
       "[125566 rows x 3 columns]"
      ]
     },
     "execution_count": 97,
     "metadata": {},
     "output_type": "execute_result"
    }
   ],
   "source": [
    "Odds_ratio_df = df1.loc[: , ['token', 'Odds_ratio_Fake_NotFake' , 'Odds_ratio_NotFake_Fake']] \n",
    "Odds_ratio_df "
   ]
  },
  {
   "cell_type": "code",
   "execution_count": 98,
   "metadata": {},
   "outputs": [
    {
     "data": {
      "text/html": [
       "<div>\n",
       "<style scoped>\n",
       "    .dataframe tbody tr th:only-of-type {\n",
       "        vertical-align: middle;\n",
       "    }\n",
       "\n",
       "    .dataframe tbody tr th {\n",
       "        vertical-align: top;\n",
       "    }\n",
       "\n",
       "    .dataframe thead th {\n",
       "        text-align: right;\n",
       "    }\n",
       "</style>\n",
       "<table border=\"1\" class=\"dataframe\">\n",
       "  <thead>\n",
       "    <tr style=\"text-align: right;\">\n",
       "      <th></th>\n",
       "      <th>token</th>\n",
       "      <th>Odds_ratio_Fake_NotFake</th>\n",
       "      <th>Odds_ratio_NotFake_Fake</th>\n",
       "    </tr>\n",
       "  </thead>\n",
       "  <tbody>\n",
       "    <tr>\n",
       "      <th>35775</th>\n",
       "      <td>finicum</td>\n",
       "      <td>320.801884</td>\n",
       "      <td>0.003117</td>\n",
       "    </tr>\n",
       "    <tr>\n",
       "      <th>114071</th>\n",
       "      <td>wikimedia</td>\n",
       "      <td>200.279629</td>\n",
       "      <td>0.004993</td>\n",
       "    </tr>\n",
       "    <tr>\n",
       "      <th>108870</th>\n",
       "      <td>uninterruptible</td>\n",
       "      <td>189.645313</td>\n",
       "      <td>0.005273</td>\n",
       "    </tr>\n",
       "    <tr>\n",
       "      <th>78242</th>\n",
       "      <td>philosophers</td>\n",
       "      <td>186.100540</td>\n",
       "      <td>0.005373</td>\n",
       "    </tr>\n",
       "    <tr>\n",
       "      <th>60612</th>\n",
       "      <td>lovable</td>\n",
       "      <td>183.441961</td>\n",
       "      <td>0.005451</td>\n",
       "    </tr>\n",
       "    <tr>\n",
       "      <th>91113</th>\n",
       "      <td>savants</td>\n",
       "      <td>182.555768</td>\n",
       "      <td>0.005478</td>\n",
       "    </tr>\n",
       "    <tr>\n",
       "      <th>67583</th>\n",
       "      <td>moralists</td>\n",
       "      <td>182.555768</td>\n",
       "      <td>0.005478</td>\n",
       "    </tr>\n",
       "    <tr>\n",
       "      <th>97785</th>\n",
       "      <td>spore</td>\n",
       "      <td>182.555768</td>\n",
       "      <td>0.005478</td>\n",
       "    </tr>\n",
       "    <tr>\n",
       "      <th>84324</th>\n",
       "      <td>rascals</td>\n",
       "      <td>181.669575</td>\n",
       "      <td>0.005504</td>\n",
       "    </tr>\n",
       "    <tr>\n",
       "      <th>32976</th>\n",
       "      <td>evangelists</td>\n",
       "      <td>181.669575</td>\n",
       "      <td>0.005504</td>\n",
       "    </tr>\n",
       "    <tr>\n",
       "      <th>63302</th>\n",
       "      <td>masochists</td>\n",
       "      <td>181.669575</td>\n",
       "      <td>0.005504</td>\n",
       "    </tr>\n",
       "    <tr>\n",
       "      <th>11482</th>\n",
       "      <td>boiler</td>\n",
       "      <td>172.586096</td>\n",
       "      <td>0.005794</td>\n",
       "    </tr>\n",
       "    <tr>\n",
       "      <th>13727</th>\n",
       "      <td>bundy</td>\n",
       "      <td>170.813710</td>\n",
       "      <td>0.005854</td>\n",
       "    </tr>\n",
       "    <tr>\n",
       "      <th>92025</th>\n",
       "      <td>screengrab</td>\n",
       "      <td>167.490486</td>\n",
       "      <td>0.005970</td>\n",
       "    </tr>\n",
       "    <tr>\n",
       "      <th>113747</th>\n",
       "      <td>whined</td>\n",
       "      <td>166.604293</td>\n",
       "      <td>0.006002</td>\n",
       "    </tr>\n",
       "  </tbody>\n",
       "</table>\n",
       "</div>"
      ],
      "text/plain": [
       "                  token  Odds_ratio_Fake_NotFake  Odds_ratio_NotFake_Fake\n",
       "35775           finicum               320.801884                 0.003117\n",
       "114071        wikimedia               200.279629                 0.004993\n",
       "108870  uninterruptible               189.645313                 0.005273\n",
       "78242      philosophers               186.100540                 0.005373\n",
       "60612           lovable               183.441961                 0.005451\n",
       "91113           savants               182.555768                 0.005478\n",
       "67583         moralists               182.555768                 0.005478\n",
       "97785             spore               182.555768                 0.005478\n",
       "84324           rascals               181.669575                 0.005504\n",
       "32976       evangelists               181.669575                 0.005504\n",
       "63302        masochists               181.669575                 0.005504\n",
       "11482            boiler               172.586096                 0.005794\n",
       "13727             bundy               170.813710                 0.005854\n",
       "92025        screengrab               167.490486                 0.005970\n",
       "113747           whined               166.604293                 0.006002"
      ]
     },
     "execution_count": 98,
     "metadata": {},
     "output_type": "execute_result"
    }
   ],
   "source": [
    "Odds_ratio_df.sort_values(by=[\"Odds_ratio_Fake_NotFake\"], ascending=False).head(15)"
   ]
  },
  {
   "cell_type": "code",
   "execution_count": 99,
   "metadata": {},
   "outputs": [
    {
     "data": {
      "text/html": [
       "<div>\n",
       "<style scoped>\n",
       "    .dataframe tbody tr th:only-of-type {\n",
       "        vertical-align: middle;\n",
       "    }\n",
       "\n",
       "    .dataframe tbody tr th {\n",
       "        vertical-align: top;\n",
       "    }\n",
       "\n",
       "    .dataframe thead th {\n",
       "        text-align: right;\n",
       "    }\n",
       "</style>\n",
       "<table border=\"1\" class=\"dataframe\">\n",
       "  <thead>\n",
       "    <tr style=\"text-align: right;\">\n",
       "      <th></th>\n",
       "      <th>token</th>\n",
       "      <th>Odds_ratio_Fake_NotFake</th>\n",
       "      <th>Odds_ratio_NotFake_Fake</th>\n",
       "    </tr>\n",
       "  </thead>\n",
       "  <tbody>\n",
       "    <tr>\n",
       "      <th>106696</th>\n",
       "      <td>trump’s</td>\n",
       "      <td>0.000076</td>\n",
       "      <td>13123.551362</td>\n",
       "    </tr>\n",
       "    <tr>\n",
       "      <th>72874</th>\n",
       "      <td>obama’s</td>\n",
       "      <td>0.000415</td>\n",
       "      <td>2406.924768</td>\n",
       "    </tr>\n",
       "    <tr>\n",
       "      <th>18756</th>\n",
       "      <td>clinton’s</td>\n",
       "      <td>0.000552</td>\n",
       "      <td>1811.117793</td>\n",
       "    </tr>\n",
       "    <tr>\n",
       "      <th>76500</th>\n",
       "      <td>party’s</td>\n",
       "      <td>0.000804</td>\n",
       "      <td>1243.521376</td>\n",
       "    </tr>\n",
       "    <tr>\n",
       "      <th>98529</th>\n",
       "      <td>state’s</td>\n",
       "      <td>0.000877</td>\n",
       "      <td>1140.834946</td>\n",
       "    </tr>\n",
       "    <tr>\n",
       "      <th>80975</th>\n",
       "      <td>president’s</td>\n",
       "      <td>0.000979</td>\n",
       "      <td>1021.222183</td>\n",
       "    </tr>\n",
       "    <tr>\n",
       "      <th>83999</th>\n",
       "      <td>rakhine</td>\n",
       "      <td>0.000987</td>\n",
       "      <td>1013.323226</td>\n",
       "    </tr>\n",
       "    <tr>\n",
       "      <th>1242</th>\n",
       "      <td>administration’s</td>\n",
       "      <td>0.001157</td>\n",
       "      <td>864.371483</td>\n",
       "    </tr>\n",
       "    <tr>\n",
       "      <th>88673</th>\n",
       "      <td>rohingya</td>\n",
       "      <td>0.001294</td>\n",
       "      <td>772.969276</td>\n",
       "    </tr>\n",
       "    <tr>\n",
       "      <th>117944</th>\n",
       "      <td>zuma</td>\n",
       "      <td>0.001298</td>\n",
       "      <td>770.712432</td>\n",
       "    </tr>\n",
       "    <tr>\n",
       "      <th>82344</th>\n",
       "      <td>puigdemont</td>\n",
       "      <td>0.001372</td>\n",
       "      <td>728.960807</td>\n",
       "    </tr>\n",
       "    <tr>\n",
       "      <th>17524</th>\n",
       "      <td>china’s</td>\n",
       "      <td>0.001400</td>\n",
       "      <td>714.291317</td>\n",
       "    </tr>\n",
       "    <tr>\n",
       "      <th>89715</th>\n",
       "      <td>russia’s</td>\n",
       "      <td>0.001439</td>\n",
       "      <td>695.108137</td>\n",
       "    </tr>\n",
       "    <tr>\n",
       "      <th>21888</th>\n",
       "      <td>country’s</td>\n",
       "      <td>0.001541</td>\n",
       "      <td>648.842823</td>\n",
       "    </tr>\n",
       "    <tr>\n",
       "      <th>69047</th>\n",
       "      <td>myanmar</td>\n",
       "      <td>0.001579</td>\n",
       "      <td>633.496280</td>\n",
       "    </tr>\n",
       "  </tbody>\n",
       "</table>\n",
       "</div>"
      ],
      "text/plain": [
       "                   token  Odds_ratio_Fake_NotFake  Odds_ratio_NotFake_Fake\n",
       "106696           trump’s                 0.000076             13123.551362\n",
       "72874            obama’s                 0.000415              2406.924768\n",
       "18756          clinton’s                 0.000552              1811.117793\n",
       "76500            party’s                 0.000804              1243.521376\n",
       "98529            state’s                 0.000877              1140.834946\n",
       "80975        president’s                 0.000979              1021.222183\n",
       "83999            rakhine                 0.000987              1013.323226\n",
       "1242    administration’s                 0.001157               864.371483\n",
       "88673           rohingya                 0.001294               772.969276\n",
       "117944              zuma                 0.001298               770.712432\n",
       "82344         puigdemont                 0.001372               728.960807\n",
       "17524            china’s                 0.001400               714.291317\n",
       "89715           russia’s                 0.001439               695.108137\n",
       "21888          country’s                 0.001541               648.842823\n",
       "69047            myanmar                 0.001579               633.496280"
      ]
     },
     "execution_count": 99,
     "metadata": {},
     "output_type": "execute_result"
    }
   ],
   "source": [
    "Odds_ratio_df.sort_values(by=[\"Odds_ratio_NotFake_Fake\"], ascending=False).head(15)"
   ]
  },
  {
   "cell_type": "code",
   "execution_count": 100,
   "metadata": {},
   "outputs": [],
   "source": [
    "### Alternativa computacionalmente mas costosa:\n",
    "\n",
    "# for token , i in zip( df_fake_sort_sin_StopWords['token'] , range(0, len(df_fake_sort_sin_StopWords)) ):\n",
    "\n",
    "   # df_fake_sort_sin_StopWords['Odds_ratio_notFake_Fake'][i] = float( (n_k0(token) + 1) / (N0 + 1) ) / float( (n_k1(token) + 1) / (N1 + 1) )\n",
    "\n",
    "# for token , i in zip( df_no_fake_sort_sin_StopWords['token'] , range(0, len(df_no_fake_sort_sin_StopWords)) ):\n",
    "\n",
    "   # df_no_fake_sort_sin_StopWords['Odds_ratio_notFake_Fake'][i] = float( (n_k0(token) + 1) / (N0 + 1) ) / float( (n_k1(token) + 1) / (N1 + 1) )"
   ]
  },
  {
   "cell_type": "code",
   "execution_count": 101,
   "metadata": {},
   "outputs": [
    {
     "data": {
      "image/png": "[encoded data removed]",
      "text/plain": [
       "<Figure size 432x288 with 1 Axes>"
      ]
     },
     "metadata": {
      "needs_background": "light"
     },
     "output_type": "display_data"
    }
   ],
   "source": [
    "fig, ax = plt.subplots()\n",
    "\n",
    "sns.barplot(data=Odds_ratio_df.sort_values(by=[\"Odds_ratio_Fake_NotFake\"], ascending=False).head(15) ,\n",
    "                 x='Odds_ratio_Fake_NotFake', y='token', color='tomato').set(title='Ranking 15 most representative tokens in Fake News') \n",
    "\n",
    "fig.savefig('p3.png', format='png', dpi=1200)"
   ]
  },
  {
   "cell_type": "code",
   "execution_count": 102,
   "metadata": {},
   "outputs": [
    {
     "data": {
      "image/png": "[encoded data removed]",
      "text/plain": [
       "<Figure size 432x288 with 1 Axes>"
      ]
     },
     "metadata": {
      "needs_background": "light"
     },
     "output_type": "display_data"
    }
   ],
   "source": [
    "fig, ax = plt.subplots()\n",
    "\n",
    "sns.barplot(data=Odds_ratio_df.sort_values(by=[\"Odds_ratio_NotFake_Fake\"], ascending=False).head(15) ,\n",
    "                 x='Odds_ratio_NotFake_Fake', y='token', color='cyan').set(title='Ranking 15 most representative tokens in Not Fake News') \n",
    "\n",
    "fig.savefig('p4.png', format='png', dpi=1200)"
   ]
  },
  {
   "cell_type": "markdown",
   "metadata": {},
   "source": []
  },
  {
   "cell_type": "markdown",
   "metadata": {},
   "source": [
    "Uno de los principales intereses en text mining, natural language processing e information retrieval es cuantificar la temática de un texto, así como la importancia de cada término que lo forma. Una manera sencilla de medir la importancia de un término dentro de un documento es utilizando la frecuencia con la que aparece (tf, term-frequency). Esta aproximación, aunque simple, tiene la limitación de atribuir mucha importancia a aquellas palabras que aparecen muchas veces aunque no aporten información selectiva. Por ejemplo, si la palabra matemáticas aparece 5 veces en un documento y la palabra página aparece 50, la segunda tendrá 10 veces más peso a pesar de que no aporte tanta información sobre la temática del documento. Para solucionar este problema se pueden ponderar los valores tf multiplicándolos por la inversa de la frecuencia con la que el término en cuestión aparece en el resto de documentos(idf). De esta forma, se consigue reducir el valor de aquellos términos que aparecen en muchos documentos y que, por lo tanto, no aportan información selectiva.\n"
   ]
  },
  {
   "cell_type": "markdown",
   "metadata": {},
   "source": [
    "\n",
    "El estadístico tf-idf mide cómo de informativo es un término en un documento teniendo en cuenta la frecuencia con la que ese término aparece en otros documentos.\n",
    "\n",
    "\n"
   ]
  },
  {
   "cell_type": "markdown",
   "metadata": {},
   "source": [
    "\n",
    "Term Frequency (tf)\n",
    "\n",
    "$$tf (k, d)= \\dfrac{n_k}{longitud( d)}$$\n",
    " \n",
    "donde  $n_k$  es el número de veces que aparece el término  $k$  en el documento  $d$ , y longitudd(d) es el nº de terminos del documento d\n"
   ]
  },
  {
   "cell_type": "markdown",
   "metadata": {},
   "source": [
    "\n",
    "Inverse Document Frequency\n",
    "\n",
    "$$idf (k)=log(\\dfrac{n(d)}{n(d,k)})$$\n",
    " \n",
    "donde  $n(d)$  es el número total de documentos y $n(d,k)$  el número de documentos que contienen el término  $k$ .\n",
    "\n"
   ]
  },
  {
   "cell_type": "markdown",
   "metadata": {},
   "source": [
    "\n",
    "Estadístico tf-idf\n",
    "\n",
    "$$tf\\_idf(k, d)=tf (k, d)∗idf (k)$$\n",
    " \n"
   ]
  },
  {
   "cell_type": "markdown",
   "metadata": {},
   "source": [
    "\n",
    "\n",
    "\n",
    "En la práctica, para evitar problemas con el logaritmo cuando aparecen valores de 0, se emplea una versión corregida del  idf (t) . Esta es la versión implementada en Scikit Learn.\n",
    "\n",
    "$$idf (k)=log(\\dfrac{1+n(d)}{1+n(d,k)})+1$$\n",
    " \n"
   ]
  },
  {
   "cell_type": "markdown",
   "metadata": {},
   "source": [
    "Tf means term-frequency while tf-idf means term-frequency times inverse\n",
    "    document-frequency. This is a common term weighting scheme in information\n",
    "    retrieval, that has also found good use in document classification.\n",
    "    The goal of using tf-idf instead of the raw frequencies of occurrence of a\n",
    "    token in a given document is to scale down the impact of tokens that occur\n",
    "    very frequently in a given corpus and that are hence empirically less\n",
    "    informative than features that occur in a small fraction of the training\n",
    "    corpus.\n",
    "    The formula that is used to compute the tf-idf for a term t of a document d\n",
    "    in a document set is tf-idf(t, d) = tf(t, d) * idf(t), and the idf is\n",
    "    computed as idf(t) = log [ n / df(t) ] + 1 (if ``smooth_idf=False``), where\n",
    "    n is the total number of documents in the document set and df(t) is the\n",
    "    document frequency of t; the document frequency is the number of documents\n",
    "    in the document set that contain the term t. The effect of adding \"1\" to\n",
    "    the idf in the equation above is that terms with zero idf, i.e., terms\n",
    "    that occur in all documents in a training set, will not be entirely\n",
    "    ignored.\n",
    "    (Note that the idf formula above differs from the standard textbook\n",
    "    notation that defines the idf as\n",
    "    idf(t) = log [ n / (df(t) + 1) ]).\n",
    "    If ``smooth_idf=True`` (the default), the constant \"1\" is added to the\n",
    "    numerator and denominator of the idf as if an extra document was seen\n",
    "    containing every term in the collection exactly once, which prevents\n",
    "    zero divisions: idf(t) = log [ (1 + n) / (1 + df(t)) ] + 1."
   ]
  },
  {
   "cell_type": "markdown",
   "metadata": {},
   "source": []
  },
  {
   "cell_type": "markdown",
   "metadata": {},
   "source": [
    "Calculo de tf"
   ]
  },
  {
   "cell_type": "code",
   "execution_count": 103,
   "metadata": {},
   "outputs": [],
   "source": [
    "# nº de veces que aparece cada termino (token) en cada noticia (n_k)\n",
    "\n",
    "df_tf = pd.DataFrame( Fake_News_Tokens_not_StopWords.groupby(['id_text','token'])['token'].count().reset_index(name='n_k') )\n",
    "\n",
    "# nº de terminos (tokens) en cada noticia (longitud(d))\n",
    "\n",
    "df_tf['longitud(d)'] = df_tf.groupby('id_text')['n_k'].transform(sum)\n",
    "\n",
    "# Calculo de term-frequency (tf)\n",
    "\n",
    "df_tf['tf'] = df_tf['n_k'] / df_tf['longitud(d)']\n"
   ]
  },
  {
   "cell_type": "code",
   "execution_count": 104,
   "metadata": {},
   "outputs": [
    {
     "data": {
      "text/plain": [
       "id_text\n",
       "0        0.059761\n",
       "1        0.034286\n",
       "2        0.042553\n",
       "3        0.044177\n",
       "4        0.024631\n",
       "           ...   \n",
       "44893    0.036145\n",
       "44894    0.068493\n",
       "44895    0.029070\n",
       "44896    0.034483\n",
       "44897    0.030303\n",
       "Name: tf, Length: 44182, dtype: float64"
      ]
     },
     "execution_count": 104,
     "metadata": {},
     "output_type": "execute_result"
    }
   ],
   "source": [
    "df_tf.groupby('id_text')['tf'].max()"
   ]
  },
  {
   "cell_type": "code",
   "execution_count": 105,
   "metadata": {},
   "outputs": [],
   "source": [
    "df_tf['max_tf'] = df_tf.groupby('id_text')['tf'].transform(max)"
   ]
  },
  {
   "cell_type": "code",
   "execution_count": 106,
   "metadata": {},
   "outputs": [],
   "source": [
    "df_tf['tf_norm'] = df_tf['tf'] / df_tf['max_tf']"
   ]
  },
  {
   "cell_type": "code",
   "execution_count": 107,
   "metadata": {},
   "outputs": [
    {
     "data": {
      "text/html": [
       "<div>\n",
       "<style scoped>\n",
       "    .dataframe tbody tr th:only-of-type {\n",
       "        vertical-align: middle;\n",
       "    }\n",
       "\n",
       "    .dataframe tbody tr th {\n",
       "        vertical-align: top;\n",
       "    }\n",
       "\n",
       "    .dataframe thead th {\n",
       "        text-align: right;\n",
       "    }\n",
       "</style>\n",
       "<table border=\"1\" class=\"dataframe\">\n",
       "  <thead>\n",
       "    <tr style=\"text-align: right;\">\n",
       "      <th></th>\n",
       "      <th>id_text</th>\n",
       "      <th>token</th>\n",
       "      <th>n_k</th>\n",
       "      <th>longitud(d)</th>\n",
       "      <th>tf</th>\n",
       "      <th>max_tf</th>\n",
       "      <th>tf_norm</th>\n",
       "    </tr>\n",
       "  </thead>\n",
       "  <tbody>\n",
       "    <tr>\n",
       "      <th>0</th>\n",
       "      <td>0</td>\n",
       "      <td>accept</td>\n",
       "      <td>1</td>\n",
       "      <td>251</td>\n",
       "      <td>0.003984</td>\n",
       "      <td>0.059761</td>\n",
       "      <td>0.066667</td>\n",
       "    </tr>\n",
       "    <tr>\n",
       "      <th>1</th>\n",
       "      <td>0</td>\n",
       "      <td>alan</td>\n",
       "      <td>1</td>\n",
       "      <td>251</td>\n",
       "      <td>0.003984</td>\n",
       "      <td>0.059761</td>\n",
       "      <td>0.066667</td>\n",
       "    </tr>\n",
       "    <tr>\n",
       "      <th>2</th>\n",
       "      <td>0</td>\n",
       "      <td>alansandoval</td>\n",
       "      <td>1</td>\n",
       "      <td>251</td>\n",
       "      <td>0.003984</td>\n",
       "      <td>0.059761</td>\n",
       "      <td>0.066667</td>\n",
       "    </tr>\n",
       "    <tr>\n",
       "      <th>3</th>\n",
       "      <td>0</td>\n",
       "      <td>allow</td>\n",
       "      <td>1</td>\n",
       "      <td>251</td>\n",
       "      <td>0.003984</td>\n",
       "      <td>0.059761</td>\n",
       "      <td>0.066667</td>\n",
       "    </tr>\n",
       "    <tr>\n",
       "      <th>4</th>\n",
       "      <td>0</td>\n",
       "      <td>also</td>\n",
       "      <td>1</td>\n",
       "      <td>251</td>\n",
       "      <td>0.003984</td>\n",
       "      <td>0.059761</td>\n",
       "      <td>0.066667</td>\n",
       "    </tr>\n",
       "    <tr>\n",
       "      <th>...</th>\n",
       "      <td>...</td>\n",
       "      <td>...</td>\n",
       "      <td>...</td>\n",
       "      <td>...</td>\n",
       "      <td>...</td>\n",
       "      <td>...</td>\n",
       "      <td>...</td>\n",
       "    </tr>\n",
       "    <tr>\n",
       "      <th>7155407</th>\n",
       "      <td>44897</td>\n",
       "      <td>union</td>\n",
       "      <td>1</td>\n",
       "      <td>132</td>\n",
       "      <td>0.007576</td>\n",
       "      <td>0.030303</td>\n",
       "      <td>0.250000</td>\n",
       "    </tr>\n",
       "    <tr>\n",
       "      <th>7155408</th>\n",
       "      <td>44897</td>\n",
       "      <td>volume</td>\n",
       "      <td>1</td>\n",
       "      <td>132</td>\n",
       "      <td>0.007576</td>\n",
       "      <td>0.030303</td>\n",
       "      <td>0.250000</td>\n",
       "    </tr>\n",
       "    <tr>\n",
       "      <th>7155409</th>\n",
       "      <td>44897</td>\n",
       "      <td>wants</td>\n",
       "      <td>1</td>\n",
       "      <td>132</td>\n",
       "      <td>0.007576</td>\n",
       "      <td>0.030303</td>\n",
       "      <td>0.250000</td>\n",
       "    </tr>\n",
       "    <tr>\n",
       "      <th>7155410</th>\n",
       "      <td>44897</td>\n",
       "      <td>worth</td>\n",
       "      <td>2</td>\n",
       "      <td>132</td>\n",
       "      <td>0.015152</td>\n",
       "      <td>0.030303</td>\n",
       "      <td>0.500000</td>\n",
       "    </tr>\n",
       "    <tr>\n",
       "      <th>7155411</th>\n",
       "      <td>44897</td>\n",
       "      <td>years</td>\n",
       "      <td>1</td>\n",
       "      <td>132</td>\n",
       "      <td>0.007576</td>\n",
       "      <td>0.030303</td>\n",
       "      <td>0.250000</td>\n",
       "    </tr>\n",
       "  </tbody>\n",
       "</table>\n",
       "<p>7155412 rows × 7 columns</p>\n",
       "</div>"
      ],
      "text/plain": [
       "         id_text         token  n_k  longitud(d)        tf    max_tf   tf_norm\n",
       "0              0        accept    1          251  0.003984  0.059761  0.066667\n",
       "1              0          alan    1          251  0.003984  0.059761  0.066667\n",
       "2              0  alansandoval    1          251  0.003984  0.059761  0.066667\n",
       "3              0         allow    1          251  0.003984  0.059761  0.066667\n",
       "4              0          also    1          251  0.003984  0.059761  0.066667\n",
       "...          ...           ...  ...          ...       ...       ...       ...\n",
       "7155407    44897         union    1          132  0.007576  0.030303  0.250000\n",
       "7155408    44897        volume    1          132  0.007576  0.030303  0.250000\n",
       "7155409    44897         wants    1          132  0.007576  0.030303  0.250000\n",
       "7155410    44897         worth    2          132  0.015152  0.030303  0.500000\n",
       "7155411    44897         years    1          132  0.007576  0.030303  0.250000\n",
       "\n",
       "[7155412 rows x 7 columns]"
      ]
     },
     "execution_count": 107,
     "metadata": {},
     "output_type": "execute_result"
    }
   ],
   "source": [
    "df_tf"
   ]
  },
  {
   "cell_type": "markdown",
   "metadata": {},
   "source": [
    "Calculo de Idf"
   ]
  },
  {
   "cell_type": "code",
   "execution_count": 108,
   "metadata": {},
   "outputs": [],
   "source": [
    "# Calculo del nº de documentos en los que aparece cada termino (token) (n(d,k))\n",
    "\n",
    "df_Idf = pd.DataFrame( Fake_News_Tokens_not_StopWords.groupby(['token'])['id_text'].nunique().reset_index(name='n_d_k') )\n",
    "\n",
    "# Ojo, si se usa count en lugar de nunique no se estaria contando el nº de documentos\n",
    "# en los que aparece cada termino, si no el nº de veces en total (contando repeticiones) que\n",
    "# aparece un termino en el conjunto de documentos. Por ejemplo, dado un termino k que aparece\n",
    "# 10 veces en el documento d1 y 3 veces en el d4 , usando count() la cuenta sale 13 , que es el \n",
    "# nº de veces que aparece k en el conjunto de los documentos, en cambio usando nunique()\n",
    "#  la cuenta sale 2 que es el nº de documentos en los que aparece el termino k, que es lo que buscamos\n",
    "\n",
    "# Calculo del nº total de documentos (n_d)\n",
    "\n",
    "df_Idf['n_d'] = len(Fake_News_Data)\n",
    "\n",
    "# Calculo de Idf\n",
    "\n",
    "df_Idf['Idf'] = np.log( (df_Idf['n_d'] ) / (df_Idf['n_d_k']) ) + 1 "
   ]
  },
  {
   "cell_type": "code",
   "execution_count": 109,
   "metadata": {},
   "outputs": [
    {
     "data": {
      "text/html": [
       "<div>\n",
       "<style scoped>\n",
       "    .dataframe tbody tr th:only-of-type {\n",
       "        vertical-align: middle;\n",
       "    }\n",
       "\n",
       "    .dataframe tbody tr th {\n",
       "        vertical-align: top;\n",
       "    }\n",
       "\n",
       "    .dataframe thead th {\n",
       "        text-align: right;\n",
       "    }\n",
       "</style>\n",
       "<table border=\"1\" class=\"dataframe\">\n",
       "  <thead>\n",
       "    <tr style=\"text-align: right;\">\n",
       "      <th></th>\n",
       "      <th>token</th>\n",
       "      <th>n_d_k</th>\n",
       "      <th>n_d</th>\n",
       "      <th>Idf</th>\n",
       "    </tr>\n",
       "  </thead>\n",
       "  <tbody>\n",
       "    <tr>\n",
       "      <th>0</th>\n",
       "      <td>aa</td>\n",
       "      <td>28</td>\n",
       "      <td>44898</td>\n",
       "      <td>8.379944</td>\n",
       "    </tr>\n",
       "    <tr>\n",
       "      <th>1</th>\n",
       "      <td>aaa</td>\n",
       "      <td>11</td>\n",
       "      <td>44898</td>\n",
       "      <td>9.314253</td>\n",
       "    </tr>\n",
       "    <tr>\n",
       "      <th>2</th>\n",
       "      <td>aaaaaaaand</td>\n",
       "      <td>1</td>\n",
       "      <td>44898</td>\n",
       "      <td>11.712149</td>\n",
       "    </tr>\n",
       "    <tr>\n",
       "      <th>3</th>\n",
       "      <td>aaaaackkk</td>\n",
       "      <td>1</td>\n",
       "      <td>44898</td>\n",
       "      <td>11.712149</td>\n",
       "    </tr>\n",
       "    <tr>\n",
       "      <th>4</th>\n",
       "      <td>aaaaapkfhk</td>\n",
       "      <td>1</td>\n",
       "      <td>44898</td>\n",
       "      <td>11.712149</td>\n",
       "    </tr>\n",
       "    <tr>\n",
       "      <th>...</th>\n",
       "      <td>...</td>\n",
       "      <td>...</td>\n",
       "      <td>...</td>\n",
       "      <td>...</td>\n",
       "    </tr>\n",
       "    <tr>\n",
       "      <th>125561</th>\n",
       "      <td>””it</td>\n",
       "      <td>1</td>\n",
       "      <td>44898</td>\n",
       "      <td>11.712149</td>\n",
       "    </tr>\n",
       "    <tr>\n",
       "      <th>125562</th>\n",
       "      <td>””when</td>\n",
       "      <td>1</td>\n",
       "      <td>44898</td>\n",
       "      <td>11.712149</td>\n",
       "    </tr>\n",
       "    <tr>\n",
       "      <th>125563</th>\n",
       "      <td>•if</td>\n",
       "      <td>1</td>\n",
       "      <td>44898</td>\n",
       "      <td>11.712149</td>\n",
       "    </tr>\n",
       "    <tr>\n",
       "      <th>125564</th>\n",
       "      <td>☑️</td>\n",
       "      <td>1</td>\n",
       "      <td>44898</td>\n",
       "      <td>11.712149</td>\n",
       "    </tr>\n",
       "    <tr>\n",
       "      <th>125565</th>\n",
       "      <td>➡️</td>\n",
       "      <td>1</td>\n",
       "      <td>44898</td>\n",
       "      <td>11.712149</td>\n",
       "    </tr>\n",
       "  </tbody>\n",
       "</table>\n",
       "<p>125566 rows × 4 columns</p>\n",
       "</div>"
      ],
      "text/plain": [
       "             token  n_d_k    n_d        Idf\n",
       "0               aa     28  44898   8.379944\n",
       "1              aaa     11  44898   9.314253\n",
       "2       aaaaaaaand      1  44898  11.712149\n",
       "3        aaaaackkk      1  44898  11.712149\n",
       "4       aaaaapkfhk      1  44898  11.712149\n",
       "...            ...    ...    ...        ...\n",
       "125561        ””it      1  44898  11.712149\n",
       "125562      ””when      1  44898  11.712149\n",
       "125563         •if      1  44898  11.712149\n",
       "125564          ☑️      1  44898  11.712149\n",
       "125565          ➡️      1  44898  11.712149\n",
       "\n",
       "[125566 rows x 4 columns]"
      ]
     },
     "execution_count": 109,
     "metadata": {},
     "output_type": "execute_result"
    }
   ],
   "source": [
    "df_Idf "
   ]
  },
  {
   "cell_type": "markdown",
   "metadata": {},
   "source": [
    "Calculo de tf-Idf"
   ]
  },
  {
   "cell_type": "code",
   "execution_count": 110,
   "metadata": {},
   "outputs": [],
   "source": [
    "df_tf_Idf = pd.merge(df_tf, df_Idf, on='token')\n",
    "\n",
    "df_tf_Idf['tf_Idf'] = df_tf_Idf['tf'] * df_tf_Idf['Idf'] \n",
    "\n",
    "df_tf_Idf['tf_Idf_norm'] = df_tf_Idf['tf_norm'] * df_tf_Idf['Idf']\n",
    "\n",
    "df_tf_Idf = df_tf_Idf.sort_values(by=\"id_text\")"
   ]
  },
  {
   "cell_type": "code",
   "execution_count": 111,
   "metadata": {},
   "outputs": [
    {
     "data": {
      "text/html": [
       "<div>\n",
       "<style scoped>\n",
       "    .dataframe tbody tr th:only-of-type {\n",
       "        vertical-align: middle;\n",
       "    }\n",
       "\n",
       "    .dataframe tbody tr th {\n",
       "        vertical-align: top;\n",
       "    }\n",
       "\n",
       "    .dataframe thead th {\n",
       "        text-align: right;\n",
       "    }\n",
       "</style>\n",
       "<table border=\"1\" class=\"dataframe\">\n",
       "  <thead>\n",
       "    <tr style=\"text-align: right;\">\n",
       "      <th></th>\n",
       "      <th>id_text</th>\n",
       "      <th>token</th>\n",
       "      <th>n_k</th>\n",
       "      <th>longitud(d)</th>\n",
       "      <th>tf</th>\n",
       "      <th>max_tf</th>\n",
       "      <th>tf_norm</th>\n",
       "      <th>n_d_k</th>\n",
       "      <th>n_d</th>\n",
       "      <th>Idf</th>\n",
       "      <th>tf_Idf</th>\n",
       "      <th>tf_Idf_norm</th>\n",
       "    </tr>\n",
       "  </thead>\n",
       "  <tbody>\n",
       "    <tr>\n",
       "      <th>0</th>\n",
       "      <td>0</td>\n",
       "      <td>accept</td>\n",
       "      <td>1</td>\n",
       "      <td>251</td>\n",
       "      <td>0.003984</td>\n",
       "      <td>0.059761</td>\n",
       "      <td>0.066667</td>\n",
       "      <td>1395</td>\n",
       "      <td>44898</td>\n",
       "      <td>4.471499</td>\n",
       "      <td>0.017815</td>\n",
       "      <td>0.298100</td>\n",
       "    </tr>\n",
       "    <tr>\n",
       "      <th>304262</th>\n",
       "      <td>0</td>\n",
       "      <td>pollitt</td>\n",
       "      <td>1</td>\n",
       "      <td>251</td>\n",
       "      <td>0.003984</td>\n",
       "      <td>0.059761</td>\n",
       "      <td>0.066667</td>\n",
       "      <td>1</td>\n",
       "      <td>44898</td>\n",
       "      <td>11.712149</td>\n",
       "      <td>0.046662</td>\n",
       "      <td>0.780810</td>\n",
       "    </tr>\n",
       "    <tr>\n",
       "      <th>304263</th>\n",
       "      <td>0</td>\n",
       "      <td>power</td>\n",
       "      <td>1</td>\n",
       "      <td>251</td>\n",
       "      <td>0.003984</td>\n",
       "      <td>0.059761</td>\n",
       "      <td>0.066667</td>\n",
       "      <td>5057</td>\n",
       "      <td>44898</td>\n",
       "      <td>3.183620</td>\n",
       "      <td>0.012684</td>\n",
       "      <td>0.212241</td>\n",
       "    </tr>\n",
       "    <tr>\n",
       "      <th>309320</th>\n",
       "      <td>0</td>\n",
       "      <td>president</td>\n",
       "      <td>3</td>\n",
       "      <td>251</td>\n",
       "      <td>0.011952</td>\n",
       "      <td>0.059761</td>\n",
       "      <td>0.200000</td>\n",
       "      <td>23571</td>\n",
       "      <td>44898</td>\n",
       "      <td>1.644376</td>\n",
       "      <td>0.019654</td>\n",
       "      <td>0.328875</td>\n",
       "    </tr>\n",
       "    <tr>\n",
       "      <th>332891</th>\n",
       "      <td>0</td>\n",
       "      <td>presidential</td>\n",
       "      <td>1</td>\n",
       "      <td>251</td>\n",
       "      <td>0.003984</td>\n",
       "      <td>0.059761</td>\n",
       "      <td>0.066667</td>\n",
       "      <td>8823</td>\n",
       "      <td>44898</td>\n",
       "      <td>2.627031</td>\n",
       "      <td>0.010466</td>\n",
       "      <td>0.175135</td>\n",
       "    </tr>\n",
       "    <tr>\n",
       "      <th>...</th>\n",
       "      <td>...</td>\n",
       "      <td>...</td>\n",
       "      <td>...</td>\n",
       "      <td>...</td>\n",
       "      <td>...</td>\n",
       "      <td>...</td>\n",
       "      <td>...</td>\n",
       "      <td>...</td>\n",
       "      <td>...</td>\n",
       "      <td>...</td>\n",
       "      <td>...</td>\n",
       "      <td>...</td>\n",
       "    </tr>\n",
       "    <tr>\n",
       "      <th>5516302</th>\n",
       "      <td>44897</td>\n",
       "      <td>amid</td>\n",
       "      <td>1</td>\n",
       "      <td>132</td>\n",
       "      <td>0.007576</td>\n",
       "      <td>0.030303</td>\n",
       "      <td>0.250000</td>\n",
       "      <td>1316</td>\n",
       "      <td>44898</td>\n",
       "      <td>4.529796</td>\n",
       "      <td>0.034317</td>\n",
       "      <td>1.132449</td>\n",
       "    </tr>\n",
       "    <tr>\n",
       "      <th>5350014</th>\n",
       "      <td>44897</td>\n",
       "      <td>string</td>\n",
       "      <td>1</td>\n",
       "      <td>132</td>\n",
       "      <td>0.007576</td>\n",
       "      <td>0.030303</td>\n",
       "      <td>0.250000</td>\n",
       "      <td>404</td>\n",
       "      <td>44898</td>\n",
       "      <td>5.710734</td>\n",
       "      <td>0.043263</td>\n",
       "      <td>1.427683</td>\n",
       "    </tr>\n",
       "    <tr>\n",
       "      <th>2043348</th>\n",
       "      <td>44897</td>\n",
       "      <td>state</td>\n",
       "      <td>2</td>\n",
       "      <td>132</td>\n",
       "      <td>0.015152</td>\n",
       "      <td>0.030303</td>\n",
       "      <td>0.500000</td>\n",
       "      <td>14226</td>\n",
       "      <td>44898</td>\n",
       "      <td>2.149322</td>\n",
       "      <td>0.032565</td>\n",
       "      <td>1.074661</td>\n",
       "    </tr>\n",
       "    <tr>\n",
       "      <th>1423490</th>\n",
       "      <td>44897</td>\n",
       "      <td>delivered</td>\n",
       "      <td>1</td>\n",
       "      <td>132</td>\n",
       "      <td>0.007576</td>\n",
       "      <td>0.030303</td>\n",
       "      <td>0.250000</td>\n",
       "      <td>882</td>\n",
       "      <td>44898</td>\n",
       "      <td>4.929956</td>\n",
       "      <td>0.037348</td>\n",
       "      <td>1.232489</td>\n",
       "    </tr>\n",
       "    <tr>\n",
       "      <th>7155411</th>\n",
       "      <td>44897</td>\n",
       "      <td>suhkoi</td>\n",
       "      <td>1</td>\n",
       "      <td>132</td>\n",
       "      <td>0.007576</td>\n",
       "      <td>0.030303</td>\n",
       "      <td>0.250000</td>\n",
       "      <td>1</td>\n",
       "      <td>44898</td>\n",
       "      <td>11.712149</td>\n",
       "      <td>0.088728</td>\n",
       "      <td>2.928037</td>\n",
       "    </tr>\n",
       "  </tbody>\n",
       "</table>\n",
       "<p>7155412 rows × 12 columns</p>\n",
       "</div>"
      ],
      "text/plain": [
       "         id_text         token  n_k  longitud(d)        tf    max_tf  \\\n",
       "0              0        accept    1          251  0.003984  0.059761   \n",
       "304262         0       pollitt    1          251  0.003984  0.059761   \n",
       "304263         0         power    1          251  0.003984  0.059761   \n",
       "309320         0     president    3          251  0.011952  0.059761   \n",
       "332891         0  presidential    1          251  0.003984  0.059761   \n",
       "...          ...           ...  ...          ...       ...       ...   \n",
       "5516302    44897          amid    1          132  0.007576  0.030303   \n",
       "5350014    44897        string    1          132  0.007576  0.030303   \n",
       "2043348    44897         state    2          132  0.015152  0.030303   \n",
       "1423490    44897     delivered    1          132  0.007576  0.030303   \n",
       "7155411    44897        suhkoi    1          132  0.007576  0.030303   \n",
       "\n",
       "          tf_norm  n_d_k    n_d        Idf    tf_Idf  tf_Idf_norm  \n",
       "0        0.066667   1395  44898   4.471499  0.017815     0.298100  \n",
       "304262   0.066667      1  44898  11.712149  0.046662     0.780810  \n",
       "304263   0.066667   5057  44898   3.183620  0.012684     0.212241  \n",
       "309320   0.200000  23571  44898   1.644376  0.019654     0.328875  \n",
       "332891   0.066667   8823  44898   2.627031  0.010466     0.175135  \n",
       "...           ...    ...    ...        ...       ...          ...  \n",
       "5516302  0.250000   1316  44898   4.529796  0.034317     1.132449  \n",
       "5350014  0.250000    404  44898   5.710734  0.043263     1.427683  \n",
       "2043348  0.500000  14226  44898   2.149322  0.032565     1.074661  \n",
       "1423490  0.250000    882  44898   4.929956  0.037348     1.232489  \n",
       "7155411  0.250000      1  44898  11.712149  0.088728     2.928037  \n",
       "\n",
       "[7155412 rows x 12 columns]"
      ]
     },
     "execution_count": 111,
     "metadata": {},
     "output_type": "execute_result"
    }
   ],
   "source": [
    "df_tf_Idf"
   ]
  },
  {
   "cell_type": "code",
   "execution_count": 112,
   "metadata": {},
   "outputs": [],
   "source": [
    "def euclidean_norm( v ):\n",
    "\n",
    "  return np.sqrt( (v**2).sum() )"
   ]
  },
  {
   "cell_type": "code",
   "execution_count": 113,
   "metadata": {},
   "outputs": [
    {
     "data": {
      "text/plain": [
       "3.605551275463989"
      ]
     },
     "execution_count": 113,
     "metadata": {},
     "output_type": "execute_result"
    }
   ],
   "source": [
    "euclidean_norm( np.array([3, 2]))"
   ]
  },
  {
   "cell_type": "code",
   "execution_count": 114,
   "metadata": {},
   "outputs": [
    {
     "data": {
      "text/plain": [
       "3.605551275463989"
      ]
     },
     "execution_count": 114,
     "metadata": {},
     "output_type": "execute_result"
    }
   ],
   "source": [
    "np.sqrt(3**2 + 2**2)"
   ]
  },
  {
   "cell_type": "code",
   "execution_count": 115,
   "metadata": {},
   "outputs": [],
   "source": [
    "df_tf_Idf['euclidean_norm'] = df_tf_Idf.groupby('id_text')['tf_Idf'].transform( euclidean_norm)"
   ]
  },
  {
   "cell_type": "code",
   "execution_count": 116,
   "metadata": {},
   "outputs": [],
   "source": [
    "df_tf_Idf['tf_Idf_sklearn'] = df_tf_Idf['tf_Idf'] / df_tf_Idf['euclidean_norm']"
   ]
  },
  {
   "cell_type": "code",
   "execution_count": 117,
   "metadata": {},
   "outputs": [
    {
     "data": {
      "text/html": [
       "<div>\n",
       "<style scoped>\n",
       "    .dataframe tbody tr th:only-of-type {\n",
       "        vertical-align: middle;\n",
       "    }\n",
       "\n",
       "    .dataframe tbody tr th {\n",
       "        vertical-align: top;\n",
       "    }\n",
       "\n",
       "    .dataframe thead th {\n",
       "        text-align: right;\n",
       "    }\n",
       "</style>\n",
       "<table border=\"1\" class=\"dataframe\">\n",
       "  <thead>\n",
       "    <tr style=\"text-align: right;\">\n",
       "      <th></th>\n",
       "      <th>id_text</th>\n",
       "      <th>token</th>\n",
       "      <th>n_k</th>\n",
       "      <th>longitud(d)</th>\n",
       "      <th>tf</th>\n",
       "      <th>max_tf</th>\n",
       "      <th>tf_norm</th>\n",
       "      <th>n_d_k</th>\n",
       "      <th>n_d</th>\n",
       "      <th>Idf</th>\n",
       "      <th>tf_Idf</th>\n",
       "      <th>tf_Idf_norm</th>\n",
       "      <th>euclidean_norm</th>\n",
       "      <th>tf_Idf_sklearn</th>\n",
       "    </tr>\n",
       "  </thead>\n",
       "  <tbody>\n",
       "    <tr>\n",
       "      <th>0</th>\n",
       "      <td>0</td>\n",
       "      <td>accept</td>\n",
       "      <td>1</td>\n",
       "      <td>251</td>\n",
       "      <td>0.003984</td>\n",
       "      <td>0.059761</td>\n",
       "      <td>0.066667</td>\n",
       "      <td>1395</td>\n",
       "      <td>44898</td>\n",
       "      <td>4.471499</td>\n",
       "      <td>0.017815</td>\n",
       "      <td>0.298100</td>\n",
       "      <td>0.510600</td>\n",
       "      <td>0.034890</td>\n",
       "    </tr>\n",
       "    <tr>\n",
       "      <th>304262</th>\n",
       "      <td>0</td>\n",
       "      <td>pollitt</td>\n",
       "      <td>1</td>\n",
       "      <td>251</td>\n",
       "      <td>0.003984</td>\n",
       "      <td>0.059761</td>\n",
       "      <td>0.066667</td>\n",
       "      <td>1</td>\n",
       "      <td>44898</td>\n",
       "      <td>11.712149</td>\n",
       "      <td>0.046662</td>\n",
       "      <td>0.780810</td>\n",
       "      <td>0.510600</td>\n",
       "      <td>0.091386</td>\n",
       "    </tr>\n",
       "    <tr>\n",
       "      <th>304263</th>\n",
       "      <td>0</td>\n",
       "      <td>power</td>\n",
       "      <td>1</td>\n",
       "      <td>251</td>\n",
       "      <td>0.003984</td>\n",
       "      <td>0.059761</td>\n",
       "      <td>0.066667</td>\n",
       "      <td>5057</td>\n",
       "      <td>44898</td>\n",
       "      <td>3.183620</td>\n",
       "      <td>0.012684</td>\n",
       "      <td>0.212241</td>\n",
       "      <td>0.510600</td>\n",
       "      <td>0.024841</td>\n",
       "    </tr>\n",
       "    <tr>\n",
       "      <th>309320</th>\n",
       "      <td>0</td>\n",
       "      <td>president</td>\n",
       "      <td>3</td>\n",
       "      <td>251</td>\n",
       "      <td>0.011952</td>\n",
       "      <td>0.059761</td>\n",
       "      <td>0.200000</td>\n",
       "      <td>23571</td>\n",
       "      <td>44898</td>\n",
       "      <td>1.644376</td>\n",
       "      <td>0.019654</td>\n",
       "      <td>0.328875</td>\n",
       "      <td>0.510600</td>\n",
       "      <td>0.038492</td>\n",
       "    </tr>\n",
       "    <tr>\n",
       "      <th>332891</th>\n",
       "      <td>0</td>\n",
       "      <td>presidential</td>\n",
       "      <td>1</td>\n",
       "      <td>251</td>\n",
       "      <td>0.003984</td>\n",
       "      <td>0.059761</td>\n",
       "      <td>0.066667</td>\n",
       "      <td>8823</td>\n",
       "      <td>44898</td>\n",
       "      <td>2.627031</td>\n",
       "      <td>0.010466</td>\n",
       "      <td>0.175135</td>\n",
       "      <td>0.510600</td>\n",
       "      <td>0.020498</td>\n",
       "    </tr>\n",
       "    <tr>\n",
       "      <th>...</th>\n",
       "      <td>...</td>\n",
       "      <td>...</td>\n",
       "      <td>...</td>\n",
       "      <td>...</td>\n",
       "      <td>...</td>\n",
       "      <td>...</td>\n",
       "      <td>...</td>\n",
       "      <td>...</td>\n",
       "      <td>...</td>\n",
       "      <td>...</td>\n",
       "      <td>...</td>\n",
       "      <td>...</td>\n",
       "      <td>...</td>\n",
       "      <td>...</td>\n",
       "    </tr>\n",
       "    <tr>\n",
       "      <th>5516302</th>\n",
       "      <td>44897</td>\n",
       "      <td>amid</td>\n",
       "      <td>1</td>\n",
       "      <td>132</td>\n",
       "      <td>0.007576</td>\n",
       "      <td>0.030303</td>\n",
       "      <td>0.250000</td>\n",
       "      <td>1316</td>\n",
       "      <td>44898</td>\n",
       "      <td>4.529796</td>\n",
       "      <td>0.034317</td>\n",
       "      <td>1.132449</td>\n",
       "      <td>0.585168</td>\n",
       "      <td>0.058644</td>\n",
       "    </tr>\n",
       "    <tr>\n",
       "      <th>5350014</th>\n",
       "      <td>44897</td>\n",
       "      <td>string</td>\n",
       "      <td>1</td>\n",
       "      <td>132</td>\n",
       "      <td>0.007576</td>\n",
       "      <td>0.030303</td>\n",
       "      <td>0.250000</td>\n",
       "      <td>404</td>\n",
       "      <td>44898</td>\n",
       "      <td>5.710734</td>\n",
       "      <td>0.043263</td>\n",
       "      <td>1.427683</td>\n",
       "      <td>0.585168</td>\n",
       "      <td>0.073933</td>\n",
       "    </tr>\n",
       "    <tr>\n",
       "      <th>2043348</th>\n",
       "      <td>44897</td>\n",
       "      <td>state</td>\n",
       "      <td>2</td>\n",
       "      <td>132</td>\n",
       "      <td>0.015152</td>\n",
       "      <td>0.030303</td>\n",
       "      <td>0.500000</td>\n",
       "      <td>14226</td>\n",
       "      <td>44898</td>\n",
       "      <td>2.149322</td>\n",
       "      <td>0.032565</td>\n",
       "      <td>1.074661</td>\n",
       "      <td>0.585168</td>\n",
       "      <td>0.055651</td>\n",
       "    </tr>\n",
       "    <tr>\n",
       "      <th>1423490</th>\n",
       "      <td>44897</td>\n",
       "      <td>delivered</td>\n",
       "      <td>1</td>\n",
       "      <td>132</td>\n",
       "      <td>0.007576</td>\n",
       "      <td>0.030303</td>\n",
       "      <td>0.250000</td>\n",
       "      <td>882</td>\n",
       "      <td>44898</td>\n",
       "      <td>4.929956</td>\n",
       "      <td>0.037348</td>\n",
       "      <td>1.232489</td>\n",
       "      <td>0.585168</td>\n",
       "      <td>0.063825</td>\n",
       "    </tr>\n",
       "    <tr>\n",
       "      <th>7155411</th>\n",
       "      <td>44897</td>\n",
       "      <td>suhkoi</td>\n",
       "      <td>1</td>\n",
       "      <td>132</td>\n",
       "      <td>0.007576</td>\n",
       "      <td>0.030303</td>\n",
       "      <td>0.250000</td>\n",
       "      <td>1</td>\n",
       "      <td>44898</td>\n",
       "      <td>11.712149</td>\n",
       "      <td>0.088728</td>\n",
       "      <td>2.928037</td>\n",
       "      <td>0.585168</td>\n",
       "      <td>0.151629</td>\n",
       "    </tr>\n",
       "  </tbody>\n",
       "</table>\n",
       "<p>7155412 rows × 14 columns</p>\n",
       "</div>"
      ],
      "text/plain": [
       "         id_text         token  n_k  longitud(d)        tf    max_tf  \\\n",
       "0              0        accept    1          251  0.003984  0.059761   \n",
       "304262         0       pollitt    1          251  0.003984  0.059761   \n",
       "304263         0         power    1          251  0.003984  0.059761   \n",
       "309320         0     president    3          251  0.011952  0.059761   \n",
       "332891         0  presidential    1          251  0.003984  0.059761   \n",
       "...          ...           ...  ...          ...       ...       ...   \n",
       "5516302    44897          amid    1          132  0.007576  0.030303   \n",
       "5350014    44897        string    1          132  0.007576  0.030303   \n",
       "2043348    44897         state    2          132  0.015152  0.030303   \n",
       "1423490    44897     delivered    1          132  0.007576  0.030303   \n",
       "7155411    44897        suhkoi    1          132  0.007576  0.030303   \n",
       "\n",
       "          tf_norm  n_d_k    n_d        Idf    tf_Idf  tf_Idf_norm  \\\n",
       "0        0.066667   1395  44898   4.471499  0.017815     0.298100   \n",
       "304262   0.066667      1  44898  11.712149  0.046662     0.780810   \n",
       "304263   0.066667   5057  44898   3.183620  0.012684     0.212241   \n",
       "309320   0.200000  23571  44898   1.644376  0.019654     0.328875   \n",
       "332891   0.066667   8823  44898   2.627031  0.010466     0.175135   \n",
       "...           ...    ...    ...        ...       ...          ...   \n",
       "5516302  0.250000   1316  44898   4.529796  0.034317     1.132449   \n",
       "5350014  0.250000    404  44898   5.710734  0.043263     1.427683   \n",
       "2043348  0.500000  14226  44898   2.149322  0.032565     1.074661   \n",
       "1423490  0.250000    882  44898   4.929956  0.037348     1.232489   \n",
       "7155411  0.250000      1  44898  11.712149  0.088728     2.928037   \n",
       "\n",
       "         euclidean_norm  tf_Idf_sklearn  \n",
       "0              0.510600        0.034890  \n",
       "304262         0.510600        0.091386  \n",
       "304263         0.510600        0.024841  \n",
       "309320         0.510600        0.038492  \n",
       "332891         0.510600        0.020498  \n",
       "...                 ...             ...  \n",
       "5516302        0.585168        0.058644  \n",
       "5350014        0.585168        0.073933  \n",
       "2043348        0.585168        0.055651  \n",
       "1423490        0.585168        0.063825  \n",
       "7155411        0.585168        0.151629  \n",
       "\n",
       "[7155412 rows x 14 columns]"
      ]
     },
     "execution_count": 117,
     "metadata": {},
     "output_type": "execute_result"
    }
   ],
   "source": [
    "df_tf_Idf"
   ]
  },
  {
   "cell_type": "markdown",
   "metadata": {},
   "source": [
    "Puede observarse que para la primera noticia (id_text = 0), todos los términos que aparecen una vez, tienen el mismo valor de tf, sin embargo, dado que no todos los términos aparecen con la misma frecuencia en el conjunto de todas las noticias, la corrección de idf es distinta para cada uno."
   ]
  },
  {
   "cell_type": "markdown",
   "metadata": {},
   "source": []
  },
  {
   "cell_type": "markdown",
   "metadata": {},
   "source": []
  },
  {
   "cell_type": "markdown",
   "metadata": {},
   "source": [
    "Clasificacion de texto:"
   ]
  },
  {
   "cell_type": "markdown",
   "metadata": {},
   "source": [
    "Para poder aplicar algoritmos de clasificación a un texto, es necesario crear una representación numérica del mismo. Una de las formas más utilizadas se conoce como Bag of Words. Este método consiste en identificar el set formado por todas las palabras (tokens) que aparecen en el corpus, en este caso el conjunto de todos los tweets recuperados. Con este set se crea un espacio n-dimensional en el que cada dimensión (columna) es una palabra. Por último, se proyecta cada texto en ese espacio, asignando un valor para cada dimensión. En la mayoría de casos, el valor utilizado es el tf-idf."
   ]
  },
  {
   "cell_type": "markdown",
   "metadata": {},
   "source": [
    "Para facilitar la obtención de la matriz TF-IDF se recurre a la clase TfidVectorized también de Scikit-Learn pero, en lugar de utilizar el tokenizador por defecto, se emplea el mismo definido en los apartados anteriores. Se podria construir  la matriz TF-IDF sin apoyarnos en librerias de Python, a traves de bucles, por ejemplo, pero dado las dimensiones que estamos manejando, es computacionalmente imposible a traves de esa via, por ello hay que apoyarse en vias mas eficientes como las implementadas en sklearn."
   ]
  },
  {
   "cell_type": "markdown",
   "metadata": {},
   "source": []
  },
  {
   "cell_type": "markdown",
   "metadata": {},
   "source": [
    "TF_IDF Matrix con sklearn"
   ]
  },
  {
   "cell_type": "code",
   "execution_count": 118,
   "metadata": {},
   "outputs": [
    {
     "data": {
      "text/plain": [
       "0        Donald Trump just couldn t wish all Americans ...\n",
       "1        House Intelligence Committee Chairman Devin Nu...\n",
       "2        On Friday, it was revealed that former Milwauk...\n",
       "3        On Christmas day, Donald Trump announced that ...\n",
       "4        Pope Francis used his annual Christmas Day mes...\n",
       "                               ...                        \n",
       "44893    BRUSSELS (Reuters) - NATO allies on Tuesday we...\n",
       "44894    LONDON (Reuters) - LexisNexis, a provider of l...\n",
       "44895    MINSK (Reuters) - In the shadow of disused Sov...\n",
       "44896    MOSCOW (Reuters) - Vatican Secretary of State ...\n",
       "44897    JAKARTA (Reuters) - Indonesia will buy 11 Sukh...\n",
       "Name: text, Length: 44898, dtype: object"
      ]
     },
     "execution_count": 118,
     "metadata": {},
     "output_type": "execute_result"
    }
   ],
   "source": [
    "X_data = Fake_News_Data.loc[ : , 'text']\n",
    "X_data"
   ]
  },
  {
   "cell_type": "code",
   "execution_count": 119,
   "metadata": {},
   "outputs": [
    {
     "data": {
      "text/plain": [
       "0        1\n",
       "1        1\n",
       "2        1\n",
       "3        1\n",
       "4        1\n",
       "        ..\n",
       "44893    0\n",
       "44894    0\n",
       "44895    0\n",
       "44896    0\n",
       "44897    0\n",
       "Name: Fake, Length: 44898, dtype: object"
      ]
     },
     "execution_count": 119,
     "metadata": {},
     "output_type": "execute_result"
    }
   ],
   "source": [
    "Y_data = Fake_News_Data.loc[ : , 'Fake']\n",
    "Y_data"
   ]
  },
  {
   "cell_type": "code",
   "execution_count": 120,
   "metadata": {},
   "outputs": [],
   "source": [
    "from sklearn.feature_extraction.text import TfidfVectorizer"
   ]
  },
  {
   "cell_type": "code",
   "execution_count": 121,
   "metadata": {},
   "outputs": [],
   "source": [
    "tfidf_vectorizador = TfidfVectorizer(tokenizer  = limpiar_tokenizar, min_df = 0, stop_words = stop_words, smooth_idf=False)"
   ]
  },
  {
   "cell_type": "code",
   "execution_count": 122,
   "metadata": {},
   "outputs": [
    {
     "name": "stderr",
     "output_type": "stream",
     "text": [
      "c:\\Users\\Usuario\\AppData\\Local\\Programs\\Python\\Python310\\lib\\site-packages\\sklearn\\feature_extraction\\text.py:516: UserWarning: The parameter 'token_pattern' will not be used since 'tokenizer' is not None'\n",
      "  warnings.warn(\n"
     ]
    },
    {
     "data": {
      "text/plain": [
       "TfidfVectorizer(min_df=0, smooth_idf=False,\n",
       "                stop_words=['i', 'me', 'my', 'myself', 'we', 'our', 'ours',\n",
       "                            'ourselves', 'you', \"you're\", \"you've\", \"you'll\",\n",
       "                            \"you'd\", 'your', 'yours', 'yourself', 'yourselves',\n",
       "                            'he', 'him', 'his', 'himself', 'she', \"she's\",\n",
       "                            'her', 'hers', 'herself', 'it', \"it's\", 'its',\n",
       "                            'itself', ...],\n",
       "                tokenizer=<function limpiar_tokenizar at 0x00000259B54FB9A0>)"
      ]
     },
     "execution_count": 122,
     "metadata": {},
     "output_type": "execute_result"
    }
   ],
   "source": [
    "tfidf_vectorizador.fit(X_data)"
   ]
  },
  {
   "cell_type": "code",
   "execution_count": 123,
   "metadata": {},
   "outputs": [],
   "source": [
    "tfidf_matrix = tfidf_vectorizador.transform(X_data)"
   ]
  },
  {
   "cell_type": "code",
   "execution_count": 124,
   "metadata": {},
   "outputs": [
    {
     "data": {
      "text/plain": [
       "(44898, 125566)"
      ]
     },
     "execution_count": 124,
     "metadata": {},
     "output_type": "execute_result"
    }
   ],
   "source": [
    "tfidf_matrix.shape"
   ]
  },
  {
   "cell_type": "code",
   "execution_count": 125,
   "metadata": {},
   "outputs": [
    {
     "name": "stdout",
     "output_type": "stream",
     "text": [
      "['aa' 'aaa' 'aaaaaaaand' 'aaaaackkk' 'aaaaapkfhk' 'aaaahhhh' 'aaaand'\n",
      " 'aaaarrgh' 'aaab' 'aaarf' 'aab' 'aaba' 'aabfsv' 'aabge' 'aabo'\n",
      " 'aaccording' 'aachen' 'aacnr' 'aadhaar' 'aadhar' 'aadl' 'aaf' 'aafn'\n",
      " 'aag' 'aahd' 'aahwuhvvnh' 'aai' 'aaj' 'aaja' 'aal' 'aalberg' 'aalberts'\n",
      " 'aaldef' 'aaliyah' 'aamer' 'aamin' 'aammir' 'aamom' 'aamrrd' 'aan'\n",
      " 'aaofj' 'aapa' 'aapi' 'aapl' 'aapxim' 'aar' 'aardal' 'aardvark'\n",
      " 'aardvarks' 'aargh']\n"
     ]
    }
   ],
   "source": [
    "print(tfidf_vectorizador.get_feature_names_out()[0:50])"
   ]
  },
  {
   "cell_type": "code",
   "execution_count": 126,
   "metadata": {},
   "outputs": [
    {
     "data": {
      "text/plain": [
       "'aab'"
      ]
     },
     "execution_count": 126,
     "metadata": {},
     "output_type": "execute_result"
    }
   ],
   "source": [
    "tfidf_vectorizador.get_feature_names_out()[10]"
   ]
  },
  {
   "cell_type": "code",
   "execution_count": 127,
   "metadata": {},
   "outputs": [],
   "source": [
    "df_index_token = pd.DataFrame( {'index' : range(0, len(tfidf_vectorizador.get_feature_names_out())) , 'token' : tfidf_vectorizador.get_feature_names_out() })"
   ]
  },
  {
   "cell_type": "code",
   "execution_count": 128,
   "metadata": {},
   "outputs": [
    {
     "data": {
      "text/html": [
       "<div>\n",
       "<style scoped>\n",
       "    .dataframe tbody tr th:only-of-type {\n",
       "        vertical-align: middle;\n",
       "    }\n",
       "\n",
       "    .dataframe tbody tr th {\n",
       "        vertical-align: top;\n",
       "    }\n",
       "\n",
       "    .dataframe thead th {\n",
       "        text-align: right;\n",
       "    }\n",
       "</style>\n",
       "<table border=\"1\" class=\"dataframe\">\n",
       "  <thead>\n",
       "    <tr style=\"text-align: right;\">\n",
       "      <th></th>\n",
       "      <th>index</th>\n",
       "      <th>token</th>\n",
       "    </tr>\n",
       "  </thead>\n",
       "  <tbody>\n",
       "    <tr>\n",
       "      <th>0</th>\n",
       "      <td>0</td>\n",
       "      <td>aa</td>\n",
       "    </tr>\n",
       "    <tr>\n",
       "      <th>1</th>\n",
       "      <td>1</td>\n",
       "      <td>aaa</td>\n",
       "    </tr>\n",
       "    <tr>\n",
       "      <th>2</th>\n",
       "      <td>2</td>\n",
       "      <td>aaaaaaaand</td>\n",
       "    </tr>\n",
       "    <tr>\n",
       "      <th>3</th>\n",
       "      <td>3</td>\n",
       "      <td>aaaaackkk</td>\n",
       "    </tr>\n",
       "    <tr>\n",
       "      <th>4</th>\n",
       "      <td>4</td>\n",
       "      <td>aaaaapkfhk</td>\n",
       "    </tr>\n",
       "    <tr>\n",
       "      <th>...</th>\n",
       "      <td>...</td>\n",
       "      <td>...</td>\n",
       "    </tr>\n",
       "    <tr>\n",
       "      <th>125561</th>\n",
       "      <td>125561</td>\n",
       "      <td>””it</td>\n",
       "    </tr>\n",
       "    <tr>\n",
       "      <th>125562</th>\n",
       "      <td>125562</td>\n",
       "      <td>””when</td>\n",
       "    </tr>\n",
       "    <tr>\n",
       "      <th>125563</th>\n",
       "      <td>125563</td>\n",
       "      <td>•if</td>\n",
       "    </tr>\n",
       "    <tr>\n",
       "      <th>125564</th>\n",
       "      <td>125564</td>\n",
       "      <td>☑️</td>\n",
       "    </tr>\n",
       "    <tr>\n",
       "      <th>125565</th>\n",
       "      <td>125565</td>\n",
       "      <td>➡️</td>\n",
       "    </tr>\n",
       "  </tbody>\n",
       "</table>\n",
       "<p>125566 rows × 2 columns</p>\n",
       "</div>"
      ],
      "text/plain": [
       "         index       token\n",
       "0            0          aa\n",
       "1            1         aaa\n",
       "2            2  aaaaaaaand\n",
       "3            3   aaaaackkk\n",
       "4            4  aaaaapkfhk\n",
       "...        ...         ...\n",
       "125561  125561        ””it\n",
       "125562  125562      ””when\n",
       "125563  125563         •if\n",
       "125564  125564          ☑️\n",
       "125565  125565          ➡️\n",
       "\n",
       "[125566 rows x 2 columns]"
      ]
     },
     "execution_count": 128,
     "metadata": {},
     "output_type": "execute_result"
    }
   ],
   "source": [
    "df_index_token"
   ]
  },
  {
   "cell_type": "code",
   "execution_count": 129,
   "metadata": {},
   "outputs": [
    {
     "data": {
      "text/html": [
       "<div>\n",
       "<style scoped>\n",
       "    .dataframe tbody tr th:only-of-type {\n",
       "        vertical-align: middle;\n",
       "    }\n",
       "\n",
       "    .dataframe tbody tr th {\n",
       "        vertical-align: top;\n",
       "    }\n",
       "\n",
       "    .dataframe thead th {\n",
       "        text-align: right;\n",
       "    }\n",
       "</style>\n",
       "<table border=\"1\" class=\"dataframe\">\n",
       "  <thead>\n",
       "    <tr style=\"text-align: right;\">\n",
       "      <th></th>\n",
       "      <th>index</th>\n",
       "      <th>token</th>\n",
       "    </tr>\n",
       "  </thead>\n",
       "  <tbody>\n",
       "    <tr>\n",
       "      <th>645</th>\n",
       "      <td>645</td>\n",
       "      <td>accept</td>\n",
       "    </tr>\n",
       "  </tbody>\n",
       "</table>\n",
       "</div>"
      ],
      "text/plain": [
       "     index   token\n",
       "645    645  accept"
      ]
     },
     "execution_count": 129,
     "metadata": {},
     "output_type": "execute_result"
    }
   ],
   "source": [
    "df_index_token.loc[df_index_token.token == 'accept', ]"
   ]
  },
  {
   "cell_type": "code",
   "execution_count": 130,
   "metadata": {},
   "outputs": [
    {
     "data": {
      "text/plain": [
       "0.034889784479772486"
      ]
     },
     "execution_count": 130,
     "metadata": {},
     "output_type": "execute_result"
    }
   ],
   "source": [
    "tfidf_matrix[0, 645]"
   ]
  },
  {
   "cell_type": "code",
   "execution_count": 131,
   "metadata": {},
   "outputs": [
    {
     "data": {
      "text/html": [
       "<div>\n",
       "<style scoped>\n",
       "    .dataframe tbody tr th:only-of-type {\n",
       "        vertical-align: middle;\n",
       "    }\n",
       "\n",
       "    .dataframe tbody tr th {\n",
       "        vertical-align: top;\n",
       "    }\n",
       "\n",
       "    .dataframe thead th {\n",
       "        text-align: right;\n",
       "    }\n",
       "</style>\n",
       "<table border=\"1\" class=\"dataframe\">\n",
       "  <thead>\n",
       "    <tr style=\"text-align: right;\">\n",
       "      <th></th>\n",
       "      <th>id_text</th>\n",
       "      <th>token</th>\n",
       "      <th>n_k</th>\n",
       "      <th>longitud(d)</th>\n",
       "      <th>tf</th>\n",
       "      <th>max_tf</th>\n",
       "      <th>tf_norm</th>\n",
       "      <th>n_d_k</th>\n",
       "      <th>n_d</th>\n",
       "      <th>Idf</th>\n",
       "      <th>tf_Idf</th>\n",
       "      <th>tf_Idf_norm</th>\n",
       "      <th>euclidean_norm</th>\n",
       "      <th>tf_Idf_sklearn</th>\n",
       "    </tr>\n",
       "  </thead>\n",
       "  <tbody>\n",
       "    <tr>\n",
       "      <th>0</th>\n",
       "      <td>0</td>\n",
       "      <td>accept</td>\n",
       "      <td>1</td>\n",
       "      <td>251</td>\n",
       "      <td>0.003984</td>\n",
       "      <td>0.059761</td>\n",
       "      <td>0.066667</td>\n",
       "      <td>1395</td>\n",
       "      <td>44898</td>\n",
       "      <td>4.471499</td>\n",
       "      <td>0.017815</td>\n",
       "      <td>0.2981</td>\n",
       "      <td>0.5106</td>\n",
       "      <td>0.03489</td>\n",
       "    </tr>\n",
       "  </tbody>\n",
       "</table>\n",
       "</div>"
      ],
      "text/plain": [
       "   id_text   token  n_k  longitud(d)        tf    max_tf   tf_norm  n_d_k  \\\n",
       "0        0  accept    1          251  0.003984  0.059761  0.066667   1395   \n",
       "\n",
       "     n_d       Idf    tf_Idf  tf_Idf_norm  euclidean_norm  tf_Idf_sklearn  \n",
       "0  44898  4.471499  0.017815       0.2981          0.5106         0.03489  "
      ]
     },
     "execution_count": 131,
     "metadata": {},
     "output_type": "execute_result"
    }
   ],
   "source": [
    "df_tf_Idf.loc[ ( df_tf_Idf.id_text == 0 ) &  ( df_tf_Idf.token == 'accept' ) , ]"
   ]
  },
  {
   "cell_type": "code",
   "execution_count": 132,
   "metadata": {},
   "outputs": [
    {
     "data": {
      "text/html": [
       "<div>\n",
       "<style scoped>\n",
       "    .dataframe tbody tr th:only-of-type {\n",
       "        vertical-align: middle;\n",
       "    }\n",
       "\n",
       "    .dataframe tbody tr th {\n",
       "        vertical-align: top;\n",
       "    }\n",
       "\n",
       "    .dataframe thead th {\n",
       "        text-align: right;\n",
       "    }\n",
       "</style>\n",
       "<table border=\"1\" class=\"dataframe\">\n",
       "  <thead>\n",
       "    <tr style=\"text-align: right;\">\n",
       "      <th></th>\n",
       "      <th>index</th>\n",
       "      <th>token</th>\n",
       "    </tr>\n",
       "  </thead>\n",
       "  <tbody>\n",
       "    <tr>\n",
       "      <th>79741</th>\n",
       "      <td>79741</td>\n",
       "      <td>pollitt</td>\n",
       "    </tr>\n",
       "  </tbody>\n",
       "</table>\n",
       "</div>"
      ],
      "text/plain": [
       "       index    token\n",
       "79741  79741  pollitt"
      ]
     },
     "execution_count": 132,
     "metadata": {},
     "output_type": "execute_result"
    }
   ],
   "source": [
    "df_index_token.loc[df_index_token.token == 'pollitt', ]"
   ]
  },
  {
   "cell_type": "code",
   "execution_count": 133,
   "metadata": {},
   "outputs": [
    {
     "data": {
      "text/plain": [
       "0.09138643507615184"
      ]
     },
     "execution_count": 133,
     "metadata": {},
     "output_type": "execute_result"
    }
   ],
   "source": [
    "tfidf_matrix[0, 79741]"
   ]
  },
  {
   "cell_type": "code",
   "execution_count": 134,
   "metadata": {},
   "outputs": [
    {
     "data": {
      "text/html": [
       "<div>\n",
       "<style scoped>\n",
       "    .dataframe tbody tr th:only-of-type {\n",
       "        vertical-align: middle;\n",
       "    }\n",
       "\n",
       "    .dataframe tbody tr th {\n",
       "        vertical-align: top;\n",
       "    }\n",
       "\n",
       "    .dataframe thead th {\n",
       "        text-align: right;\n",
       "    }\n",
       "</style>\n",
       "<table border=\"1\" class=\"dataframe\">\n",
       "  <thead>\n",
       "    <tr style=\"text-align: right;\">\n",
       "      <th></th>\n",
       "      <th>id_text</th>\n",
       "      <th>token</th>\n",
       "      <th>n_k</th>\n",
       "      <th>longitud(d)</th>\n",
       "      <th>tf</th>\n",
       "      <th>max_tf</th>\n",
       "      <th>tf_norm</th>\n",
       "      <th>n_d_k</th>\n",
       "      <th>n_d</th>\n",
       "      <th>Idf</th>\n",
       "      <th>tf_Idf</th>\n",
       "      <th>tf_Idf_norm</th>\n",
       "      <th>euclidean_norm</th>\n",
       "      <th>tf_Idf_sklearn</th>\n",
       "    </tr>\n",
       "  </thead>\n",
       "  <tbody>\n",
       "    <tr>\n",
       "      <th>304262</th>\n",
       "      <td>0</td>\n",
       "      <td>pollitt</td>\n",
       "      <td>1</td>\n",
       "      <td>251</td>\n",
       "      <td>0.003984</td>\n",
       "      <td>0.059761</td>\n",
       "      <td>0.066667</td>\n",
       "      <td>1</td>\n",
       "      <td>44898</td>\n",
       "      <td>11.712149</td>\n",
       "      <td>0.046662</td>\n",
       "      <td>0.78081</td>\n",
       "      <td>0.5106</td>\n",
       "      <td>0.091386</td>\n",
       "    </tr>\n",
       "  </tbody>\n",
       "</table>\n",
       "</div>"
      ],
      "text/plain": [
       "        id_text    token  n_k  longitud(d)        tf    max_tf   tf_norm  \\\n",
       "304262        0  pollitt    1          251  0.003984  0.059761  0.066667   \n",
       "\n",
       "        n_d_k    n_d        Idf    tf_Idf  tf_Idf_norm  euclidean_norm  \\\n",
       "304262      1  44898  11.712149  0.046662      0.78081          0.5106   \n",
       "\n",
       "        tf_Idf_sklearn  \n",
       "304262        0.091386  "
      ]
     },
     "execution_count": 134,
     "metadata": {},
     "output_type": "execute_result"
    }
   ],
   "source": [
    "df_tf_Idf.loc[ ( df_tf_Idf.id_text == 0 ) &  ( df_tf_Idf.token == 'pollitt' ) , ]"
   ]
  },
  {
   "cell_type": "markdown",
   "metadata": {},
   "source": []
  },
  {
   "cell_type": "code",
   "execution_count": 135,
   "metadata": {},
   "outputs": [
    {
     "data": {
      "text/html": [
       "<div>\n",
       "<style scoped>\n",
       "    .dataframe tbody tr th:only-of-type {\n",
       "        vertical-align: middle;\n",
       "    }\n",
       "\n",
       "    .dataframe tbody tr th {\n",
       "        vertical-align: top;\n",
       "    }\n",
       "\n",
       "    .dataframe thead th {\n",
       "        text-align: right;\n",
       "    }\n",
       "</style>\n",
       "<table border=\"1\" class=\"dataframe\">\n",
       "  <thead>\n",
       "    <tr style=\"text-align: right;\">\n",
       "      <th></th>\n",
       "      <th>index</th>\n",
       "      <th>token</th>\n",
       "    </tr>\n",
       "  </thead>\n",
       "  <tbody>\n",
       "    <tr>\n",
       "      <th>99546</th>\n",
       "      <td>99546</td>\n",
       "      <td>string</td>\n",
       "    </tr>\n",
       "  </tbody>\n",
       "</table>\n",
       "</div>"
      ],
      "text/plain": [
       "       index   token\n",
       "99546  99546  string"
      ]
     },
     "execution_count": 135,
     "metadata": {},
     "output_type": "execute_result"
    }
   ],
   "source": [
    "df_index_token.loc[df_index_token.token == 'string', ]"
   ]
  },
  {
   "cell_type": "code",
   "execution_count": 136,
   "metadata": {},
   "outputs": [
    {
     "data": {
      "text/plain": [
       "0.07393279140214064"
      ]
     },
     "execution_count": 136,
     "metadata": {},
     "output_type": "execute_result"
    }
   ],
   "source": [
    "tfidf_matrix[44897, 99546]"
   ]
  },
  {
   "cell_type": "code",
   "execution_count": 137,
   "metadata": {},
   "outputs": [
    {
     "data": {
      "text/html": [
       "<div>\n",
       "<style scoped>\n",
       "    .dataframe tbody tr th:only-of-type {\n",
       "        vertical-align: middle;\n",
       "    }\n",
       "\n",
       "    .dataframe tbody tr th {\n",
       "        vertical-align: top;\n",
       "    }\n",
       "\n",
       "    .dataframe thead th {\n",
       "        text-align: right;\n",
       "    }\n",
       "</style>\n",
       "<table border=\"1\" class=\"dataframe\">\n",
       "  <thead>\n",
       "    <tr style=\"text-align: right;\">\n",
       "      <th></th>\n",
       "      <th>id_text</th>\n",
       "      <th>token</th>\n",
       "      <th>n_k</th>\n",
       "      <th>longitud(d)</th>\n",
       "      <th>tf</th>\n",
       "      <th>max_tf</th>\n",
       "      <th>tf_norm</th>\n",
       "      <th>n_d_k</th>\n",
       "      <th>n_d</th>\n",
       "      <th>Idf</th>\n",
       "      <th>tf_Idf</th>\n",
       "      <th>tf_Idf_norm</th>\n",
       "      <th>euclidean_norm</th>\n",
       "      <th>tf_Idf_sklearn</th>\n",
       "    </tr>\n",
       "  </thead>\n",
       "  <tbody>\n",
       "    <tr>\n",
       "      <th>5350014</th>\n",
       "      <td>44897</td>\n",
       "      <td>string</td>\n",
       "      <td>1</td>\n",
       "      <td>132</td>\n",
       "      <td>0.007576</td>\n",
       "      <td>0.030303</td>\n",
       "      <td>0.25</td>\n",
       "      <td>404</td>\n",
       "      <td>44898</td>\n",
       "      <td>5.710734</td>\n",
       "      <td>0.043263</td>\n",
       "      <td>1.427683</td>\n",
       "      <td>0.585168</td>\n",
       "      <td>0.073933</td>\n",
       "    </tr>\n",
       "  </tbody>\n",
       "</table>\n",
       "</div>"
      ],
      "text/plain": [
       "         id_text   token  n_k  longitud(d)        tf    max_tf  tf_norm  \\\n",
       "5350014    44897  string    1          132  0.007576  0.030303     0.25   \n",
       "\n",
       "         n_d_k    n_d       Idf    tf_Idf  tf_Idf_norm  euclidean_norm  \\\n",
       "5350014    404  44898  5.710734  0.043263     1.427683        0.585168   \n",
       "\n",
       "         tf_Idf_sklearn  \n",
       "5350014        0.073933  "
      ]
     },
     "execution_count": 137,
     "metadata": {},
     "output_type": "execute_result"
    }
   ],
   "source": [
    "df_tf_Idf.loc[ ( df_tf_Idf.id_text == 44897 ) &  ( df_tf_Idf.token == 'string' ) , ]"
   ]
  },
  {
   "cell_type": "markdown",
   "metadata": {},
   "source": []
  },
  {
   "cell_type": "code",
   "execution_count": 138,
   "metadata": {},
   "outputs": [
    {
     "data": {
      "text/html": [
       "<div>\n",
       "<style scoped>\n",
       "    .dataframe tbody tr th:only-of-type {\n",
       "        vertical-align: middle;\n",
       "    }\n",
       "\n",
       "    .dataframe tbody tr th {\n",
       "        vertical-align: top;\n",
       "    }\n",
       "\n",
       "    .dataframe thead th {\n",
       "        text-align: right;\n",
       "    }\n",
       "</style>\n",
       "<table border=\"1\" class=\"dataframe\">\n",
       "  <thead>\n",
       "    <tr style=\"text-align: right;\">\n",
       "      <th></th>\n",
       "      <th>index</th>\n",
       "      <th>token</th>\n",
       "    </tr>\n",
       "  </thead>\n",
       "  <tbody>\n",
       "    <tr>\n",
       "      <th>70560</th>\n",
       "      <td>70560</td>\n",
       "      <td>never</td>\n",
       "    </tr>\n",
       "  </tbody>\n",
       "</table>\n",
       "</div>"
      ],
      "text/plain": [
       "       index  token\n",
       "70560  70560  never"
      ]
     },
     "execution_count": 138,
     "metadata": {},
     "output_type": "execute_result"
    }
   ],
   "source": [
    "df_index_token.loc[df_index_token.token == 'never', ]"
   ]
  },
  {
   "cell_type": "code",
   "execution_count": 139,
   "metadata": {},
   "outputs": [
    {
     "data": {
      "text/plain": [
       "0.022176846230040667"
      ]
     },
     "execution_count": 139,
     "metadata": {},
     "output_type": "execute_result"
    }
   ],
   "source": [
    "tfidf_matrix[3, 70560]"
   ]
  },
  {
   "cell_type": "code",
   "execution_count": 140,
   "metadata": {},
   "outputs": [
    {
     "data": {
      "text/html": [
       "<div>\n",
       "<style scoped>\n",
       "    .dataframe tbody tr th:only-of-type {\n",
       "        vertical-align: middle;\n",
       "    }\n",
       "\n",
       "    .dataframe tbody tr th {\n",
       "        vertical-align: top;\n",
       "    }\n",
       "\n",
       "    .dataframe thead th {\n",
       "        text-align: right;\n",
       "    }\n",
       "</style>\n",
       "<table border=\"1\" class=\"dataframe\">\n",
       "  <thead>\n",
       "    <tr style=\"text-align: right;\">\n",
       "      <th></th>\n",
       "      <th>id_text</th>\n",
       "      <th>token</th>\n",
       "      <th>n_k</th>\n",
       "      <th>longitud(d)</th>\n",
       "      <th>tf</th>\n",
       "      <th>max_tf</th>\n",
       "      <th>tf_norm</th>\n",
       "      <th>n_d_k</th>\n",
       "      <th>n_d</th>\n",
       "      <th>Idf</th>\n",
       "      <th>tf_Idf</th>\n",
       "      <th>tf_Idf_norm</th>\n",
       "      <th>euclidean_norm</th>\n",
       "      <th>tf_Idf_sklearn</th>\n",
       "    </tr>\n",
       "  </thead>\n",
       "  <tbody>\n",
       "    <tr>\n",
       "      <th>990208</th>\n",
       "      <td>3</td>\n",
       "      <td>never</td>\n",
       "      <td>1</td>\n",
       "      <td>249</td>\n",
       "      <td>0.004016</td>\n",
       "      <td>0.044177</td>\n",
       "      <td>0.090909</td>\n",
       "      <td>6077</td>\n",
       "      <td>44898</td>\n",
       "      <td>2.999882</td>\n",
       "      <td>0.012048</td>\n",
       "      <td>0.272717</td>\n",
       "      <td>0.543257</td>\n",
       "      <td>0.022177</td>\n",
       "    </tr>\n",
       "  </tbody>\n",
       "</table>\n",
       "</div>"
      ],
      "text/plain": [
       "        id_text  token  n_k  longitud(d)        tf    max_tf   tf_norm  n_d_k  \\\n",
       "990208        3  never    1          249  0.004016  0.044177  0.090909   6077   \n",
       "\n",
       "          n_d       Idf    tf_Idf  tf_Idf_norm  euclidean_norm  tf_Idf_sklearn  \n",
       "990208  44898  2.999882  0.012048     0.272717        0.543257        0.022177  "
      ]
     },
     "execution_count": 140,
     "metadata": {},
     "output_type": "execute_result"
    }
   ],
   "source": [
    "df_tf_Idf.loc[ ( df_tf_Idf.id_text == 3 ) &  ( df_tf_Idf.token == 'never' ) , ]"
   ]
  },
  {
   "cell_type": "markdown",
   "metadata": {},
   "source": []
  },
  {
   "cell_type": "code",
   "execution_count": 141,
   "metadata": {},
   "outputs": [
    {
     "data": {
      "text/html": [
       "<div>\n",
       "<style scoped>\n",
       "    .dataframe tbody tr th:only-of-type {\n",
       "        vertical-align: middle;\n",
       "    }\n",
       "\n",
       "    .dataframe tbody tr th {\n",
       "        vertical-align: top;\n",
       "    }\n",
       "\n",
       "    .dataframe thead th {\n",
       "        text-align: right;\n",
       "    }\n",
       "</style>\n",
       "<table border=\"1\" class=\"dataframe\">\n",
       "  <thead>\n",
       "    <tr style=\"text-align: right;\">\n",
       "      <th></th>\n",
       "      <th>index</th>\n",
       "      <th>token</th>\n",
       "    </tr>\n",
       "  </thead>\n",
       "  <tbody>\n",
       "    <tr>\n",
       "      <th>50314</th>\n",
       "      <td>50314</td>\n",
       "      <td>investigation</td>\n",
       "    </tr>\n",
       "  </tbody>\n",
       "</table>\n",
       "</div>"
      ],
      "text/plain": [
       "       index          token\n",
       "50314  50314  investigation"
      ]
     },
     "execution_count": 141,
     "metadata": {},
     "output_type": "execute_result"
    }
   ],
   "source": [
    "df_index_token.loc[df_index_token.token == 'investigation', ]"
   ]
  },
  {
   "cell_type": "code",
   "execution_count": 142,
   "metadata": {},
   "outputs": [
    {
     "data": {
      "text/plain": [
       "0.2598673157066844"
      ]
     },
     "execution_count": 142,
     "metadata": {},
     "output_type": "execute_result"
    }
   ],
   "source": [
    "tfidf_matrix[1522, 50314]"
   ]
  },
  {
   "cell_type": "code",
   "execution_count": 143,
   "metadata": {},
   "outputs": [
    {
     "data": {
      "text/html": [
       "<div>\n",
       "<style scoped>\n",
       "    .dataframe tbody tr th:only-of-type {\n",
       "        vertical-align: middle;\n",
       "    }\n",
       "\n",
       "    .dataframe tbody tr th {\n",
       "        vertical-align: top;\n",
       "    }\n",
       "\n",
       "    .dataframe thead th {\n",
       "        text-align: right;\n",
       "    }\n",
       "</style>\n",
       "<table border=\"1\" class=\"dataframe\">\n",
       "  <thead>\n",
       "    <tr style=\"text-align: right;\">\n",
       "      <th></th>\n",
       "      <th>id_text</th>\n",
       "      <th>token</th>\n",
       "      <th>n_k</th>\n",
       "      <th>longitud(d)</th>\n",
       "      <th>tf</th>\n",
       "      <th>max_tf</th>\n",
       "      <th>tf_norm</th>\n",
       "      <th>n_d_k</th>\n",
       "      <th>n_d</th>\n",
       "      <th>Idf</th>\n",
       "      <th>tf_Idf</th>\n",
       "      <th>tf_Idf_norm</th>\n",
       "      <th>euclidean_norm</th>\n",
       "      <th>tf_Idf_sklearn</th>\n",
       "    </tr>\n",
       "  </thead>\n",
       "  <tbody>\n",
       "    <tr>\n",
       "      <th>635701</th>\n",
       "      <td>1522</td>\n",
       "      <td>investigation</td>\n",
       "      <td>7</td>\n",
       "      <td>210</td>\n",
       "      <td>0.033333</td>\n",
       "      <td>0.052381</td>\n",
       "      <td>0.636364</td>\n",
       "      <td>3753</td>\n",
       "      <td>44898</td>\n",
       "      <td>3.481838</td>\n",
       "      <td>0.116061</td>\n",
       "      <td>2.215715</td>\n",
       "      <td>0.446617</td>\n",
       "      <td>0.259867</td>\n",
       "    </tr>\n",
       "  </tbody>\n",
       "</table>\n",
       "</div>"
      ],
      "text/plain": [
       "        id_text          token  n_k  longitud(d)        tf    max_tf  \\\n",
       "635701     1522  investigation    7          210  0.033333  0.052381   \n",
       "\n",
       "         tf_norm  n_d_k    n_d       Idf    tf_Idf  tf_Idf_norm  \\\n",
       "635701  0.636364   3753  44898  3.481838  0.116061     2.215715   \n",
       "\n",
       "        euclidean_norm  tf_Idf_sklearn  \n",
       "635701        0.446617        0.259867  "
      ]
     },
     "execution_count": 143,
     "metadata": {},
     "output_type": "execute_result"
    }
   ],
   "source": [
    "df_tf_Idf.loc[ ( df_tf_Idf.id_text == 1522 ) &  ( df_tf_Idf.token == 'investigation' ) , ]"
   ]
  },
  {
   "cell_type": "markdown",
   "metadata": {},
   "source": []
  },
  {
   "cell_type": "markdown",
   "metadata": {},
   "source": []
  },
  {
   "cell_type": "code",
   "execution_count": 144,
   "metadata": {},
   "outputs": [],
   "source": [
    "tfidf_matrix = tfidf_vectorizador.fit_transform(X_data.iloc[0:2000,])"
   ]
  },
  {
   "cell_type": "code",
   "execution_count": 145,
   "metadata": {},
   "outputs": [
    {
     "name": "stderr",
     "output_type": "stream",
     "text": [
      "c:\\Users\\Usuario\\AppData\\Local\\Programs\\Python\\Python310\\lib\\site-packages\\sklearn\\utils\\deprecation.py:87: FutureWarning: Function get_feature_names is deprecated; get_feature_names is deprecated in 1.0 and will be removed in 1.2. Please use get_feature_names_out instead.\n",
      "  warnings.warn(msg, category=FutureWarning)\n"
     ]
    }
   ],
   "source": [
    "tfidf_df= pd.DataFrame(tfidf_matrix.todense())  \n",
    "tfidf_df.columns = tfidf_vectorizador.get_feature_names()"
   ]
  },
  {
   "cell_type": "code",
   "execution_count": 146,
   "metadata": {},
   "outputs": [
    {
     "data": {
      "text/html": [
       "<div>\n",
       "<style scoped>\n",
       "    .dataframe tbody tr th:only-of-type {\n",
       "        vertical-align: middle;\n",
       "    }\n",
       "\n",
       "    .dataframe tbody tr th {\n",
       "        vertical-align: top;\n",
       "    }\n",
       "\n",
       "    .dataframe thead th {\n",
       "        text-align: right;\n",
       "    }\n",
       "</style>\n",
       "<table border=\"1\" class=\"dataframe\">\n",
       "  <thead>\n",
       "    <tr style=\"text-align: right;\">\n",
       "      <th></th>\n",
       "      <th>aa</th>\n",
       "      <th>aaaand</th>\n",
       "      <th>aacnr</th>\n",
       "      <th>aaj</th>\n",
       "      <th>aaliyah</th>\n",
       "      <th>aaofj</th>\n",
       "      <th>aargh</th>\n",
       "      <th>aaron</th>\n",
       "      <th>aaroncovfefe</th>\n",
       "      <th>aaronshhh</th>\n",
       "      <th>...</th>\n",
       "      <th>zxf</th>\n",
       "      <th>zy</th>\n",
       "      <th>zyf</th>\n",
       "      <th>zyklon</th>\n",
       "      <th>zz</th>\n",
       "      <th>zzlo</th>\n",
       "      <th>zzomtmd</th>\n",
       "      <th>zztaine</th>\n",
       "      <th>zzzzaaaacccchhh</th>\n",
       "      <th>zzzzzzzzzzzzz</th>\n",
       "    </tr>\n",
       "  </thead>\n",
       "  <tbody>\n",
       "    <tr>\n",
       "      <th>0</th>\n",
       "      <td>0.0</td>\n",
       "      <td>0.0</td>\n",
       "      <td>0.0</td>\n",
       "      <td>0.0</td>\n",
       "      <td>0.0</td>\n",
       "      <td>0.0</td>\n",
       "      <td>0.0</td>\n",
       "      <td>0.000000</td>\n",
       "      <td>0.0</td>\n",
       "      <td>0.0</td>\n",
       "      <td>...</td>\n",
       "      <td>0.0</td>\n",
       "      <td>0.0</td>\n",
       "      <td>0.0</td>\n",
       "      <td>0.0</td>\n",
       "      <td>0.0</td>\n",
       "      <td>0.0</td>\n",
       "      <td>0.0</td>\n",
       "      <td>0.0</td>\n",
       "      <td>0.0</td>\n",
       "      <td>0.0</td>\n",
       "    </tr>\n",
       "    <tr>\n",
       "      <th>1</th>\n",
       "      <td>0.0</td>\n",
       "      <td>0.0</td>\n",
       "      <td>0.0</td>\n",
       "      <td>0.0</td>\n",
       "      <td>0.0</td>\n",
       "      <td>0.0</td>\n",
       "      <td>0.0</td>\n",
       "      <td>0.000000</td>\n",
       "      <td>0.0</td>\n",
       "      <td>0.0</td>\n",
       "      <td>...</td>\n",
       "      <td>0.0</td>\n",
       "      <td>0.0</td>\n",
       "      <td>0.0</td>\n",
       "      <td>0.0</td>\n",
       "      <td>0.0</td>\n",
       "      <td>0.0</td>\n",
       "      <td>0.0</td>\n",
       "      <td>0.0</td>\n",
       "      <td>0.0</td>\n",
       "      <td>0.0</td>\n",
       "    </tr>\n",
       "    <tr>\n",
       "      <th>2</th>\n",
       "      <td>0.0</td>\n",
       "      <td>0.0</td>\n",
       "      <td>0.0</td>\n",
       "      <td>0.0</td>\n",
       "      <td>0.0</td>\n",
       "      <td>0.0</td>\n",
       "      <td>0.0</td>\n",
       "      <td>0.039414</td>\n",
       "      <td>0.0</td>\n",
       "      <td>0.0</td>\n",
       "      <td>...</td>\n",
       "      <td>0.0</td>\n",
       "      <td>0.0</td>\n",
       "      <td>0.0</td>\n",
       "      <td>0.0</td>\n",
       "      <td>0.0</td>\n",
       "      <td>0.0</td>\n",
       "      <td>0.0</td>\n",
       "      <td>0.0</td>\n",
       "      <td>0.0</td>\n",
       "      <td>0.0</td>\n",
       "    </tr>\n",
       "    <tr>\n",
       "      <th>3</th>\n",
       "      <td>0.0</td>\n",
       "      <td>0.0</td>\n",
       "      <td>0.0</td>\n",
       "      <td>0.0</td>\n",
       "      <td>0.0</td>\n",
       "      <td>0.0</td>\n",
       "      <td>0.0</td>\n",
       "      <td>0.000000</td>\n",
       "      <td>0.0</td>\n",
       "      <td>0.0</td>\n",
       "      <td>...</td>\n",
       "      <td>0.0</td>\n",
       "      <td>0.0</td>\n",
       "      <td>0.0</td>\n",
       "      <td>0.0</td>\n",
       "      <td>0.0</td>\n",
       "      <td>0.0</td>\n",
       "      <td>0.0</td>\n",
       "      <td>0.0</td>\n",
       "      <td>0.0</td>\n",
       "      <td>0.0</td>\n",
       "    </tr>\n",
       "    <tr>\n",
       "      <th>4</th>\n",
       "      <td>0.0</td>\n",
       "      <td>0.0</td>\n",
       "      <td>0.0</td>\n",
       "      <td>0.0</td>\n",
       "      <td>0.0</td>\n",
       "      <td>0.0</td>\n",
       "      <td>0.0</td>\n",
       "      <td>0.000000</td>\n",
       "      <td>0.0</td>\n",
       "      <td>0.0</td>\n",
       "      <td>...</td>\n",
       "      <td>0.0</td>\n",
       "      <td>0.0</td>\n",
       "      <td>0.0</td>\n",
       "      <td>0.0</td>\n",
       "      <td>0.0</td>\n",
       "      <td>0.0</td>\n",
       "      <td>0.0</td>\n",
       "      <td>0.0</td>\n",
       "      <td>0.0</td>\n",
       "      <td>0.0</td>\n",
       "    </tr>\n",
       "    <tr>\n",
       "      <th>...</th>\n",
       "      <td>...</td>\n",
       "      <td>...</td>\n",
       "      <td>...</td>\n",
       "      <td>...</td>\n",
       "      <td>...</td>\n",
       "      <td>...</td>\n",
       "      <td>...</td>\n",
       "      <td>...</td>\n",
       "      <td>...</td>\n",
       "      <td>...</td>\n",
       "      <td>...</td>\n",
       "      <td>...</td>\n",
       "      <td>...</td>\n",
       "      <td>...</td>\n",
       "      <td>...</td>\n",
       "      <td>...</td>\n",
       "      <td>...</td>\n",
       "      <td>...</td>\n",
       "      <td>...</td>\n",
       "      <td>...</td>\n",
       "      <td>...</td>\n",
       "    </tr>\n",
       "    <tr>\n",
       "      <th>1995</th>\n",
       "      <td>0.0</td>\n",
       "      <td>0.0</td>\n",
       "      <td>0.0</td>\n",
       "      <td>0.0</td>\n",
       "      <td>0.0</td>\n",
       "      <td>0.0</td>\n",
       "      <td>0.0</td>\n",
       "      <td>0.000000</td>\n",
       "      <td>0.0</td>\n",
       "      <td>0.0</td>\n",
       "      <td>...</td>\n",
       "      <td>0.0</td>\n",
       "      <td>0.0</td>\n",
       "      <td>0.0</td>\n",
       "      <td>0.0</td>\n",
       "      <td>0.0</td>\n",
       "      <td>0.0</td>\n",
       "      <td>0.0</td>\n",
       "      <td>0.0</td>\n",
       "      <td>0.0</td>\n",
       "      <td>0.0</td>\n",
       "    </tr>\n",
       "    <tr>\n",
       "      <th>1996</th>\n",
       "      <td>0.0</td>\n",
       "      <td>0.0</td>\n",
       "      <td>0.0</td>\n",
       "      <td>0.0</td>\n",
       "      <td>0.0</td>\n",
       "      <td>0.0</td>\n",
       "      <td>0.0</td>\n",
       "      <td>0.000000</td>\n",
       "      <td>0.0</td>\n",
       "      <td>0.0</td>\n",
       "      <td>...</td>\n",
       "      <td>0.0</td>\n",
       "      <td>0.0</td>\n",
       "      <td>0.0</td>\n",
       "      <td>0.0</td>\n",
       "      <td>0.0</td>\n",
       "      <td>0.0</td>\n",
       "      <td>0.0</td>\n",
       "      <td>0.0</td>\n",
       "      <td>0.0</td>\n",
       "      <td>0.0</td>\n",
       "    </tr>\n",
       "    <tr>\n",
       "      <th>1997</th>\n",
       "      <td>0.0</td>\n",
       "      <td>0.0</td>\n",
       "      <td>0.0</td>\n",
       "      <td>0.0</td>\n",
       "      <td>0.0</td>\n",
       "      <td>0.0</td>\n",
       "      <td>0.0</td>\n",
       "      <td>0.000000</td>\n",
       "      <td>0.0</td>\n",
       "      <td>0.0</td>\n",
       "      <td>...</td>\n",
       "      <td>0.0</td>\n",
       "      <td>0.0</td>\n",
       "      <td>0.0</td>\n",
       "      <td>0.0</td>\n",
       "      <td>0.0</td>\n",
       "      <td>0.0</td>\n",
       "      <td>0.0</td>\n",
       "      <td>0.0</td>\n",
       "      <td>0.0</td>\n",
       "      <td>0.0</td>\n",
       "    </tr>\n",
       "    <tr>\n",
       "      <th>1998</th>\n",
       "      <td>0.0</td>\n",
       "      <td>0.0</td>\n",
       "      <td>0.0</td>\n",
       "      <td>0.0</td>\n",
       "      <td>0.0</td>\n",
       "      <td>0.0</td>\n",
       "      <td>0.0</td>\n",
       "      <td>0.000000</td>\n",
       "      <td>0.0</td>\n",
       "      <td>0.0</td>\n",
       "      <td>...</td>\n",
       "      <td>0.0</td>\n",
       "      <td>0.0</td>\n",
       "      <td>0.0</td>\n",
       "      <td>0.0</td>\n",
       "      <td>0.0</td>\n",
       "      <td>0.0</td>\n",
       "      <td>0.0</td>\n",
       "      <td>0.0</td>\n",
       "      <td>0.0</td>\n",
       "      <td>0.0</td>\n",
       "    </tr>\n",
       "    <tr>\n",
       "      <th>1999</th>\n",
       "      <td>0.0</td>\n",
       "      <td>0.0</td>\n",
       "      <td>0.0</td>\n",
       "      <td>0.0</td>\n",
       "      <td>0.0</td>\n",
       "      <td>0.0</td>\n",
       "      <td>0.0</td>\n",
       "      <td>0.000000</td>\n",
       "      <td>0.0</td>\n",
       "      <td>0.0</td>\n",
       "      <td>...</td>\n",
       "      <td>0.0</td>\n",
       "      <td>0.0</td>\n",
       "      <td>0.0</td>\n",
       "      <td>0.0</td>\n",
       "      <td>0.0</td>\n",
       "      <td>0.0</td>\n",
       "      <td>0.0</td>\n",
       "      <td>0.0</td>\n",
       "      <td>0.0</td>\n",
       "      <td>0.0</td>\n",
       "    </tr>\n",
       "  </tbody>\n",
       "</table>\n",
       "<p>2000 rows × 28685 columns</p>\n",
       "</div>"
      ],
      "text/plain": [
       "       aa  aaaand  aacnr  aaj  aaliyah  aaofj  aargh     aaron  aaroncovfefe  \\\n",
       "0     0.0     0.0    0.0  0.0      0.0    0.0    0.0  0.000000           0.0   \n",
       "1     0.0     0.0    0.0  0.0      0.0    0.0    0.0  0.000000           0.0   \n",
       "2     0.0     0.0    0.0  0.0      0.0    0.0    0.0  0.039414           0.0   \n",
       "3     0.0     0.0    0.0  0.0      0.0    0.0    0.0  0.000000           0.0   \n",
       "4     0.0     0.0    0.0  0.0      0.0    0.0    0.0  0.000000           0.0   \n",
       "...   ...     ...    ...  ...      ...    ...    ...       ...           ...   \n",
       "1995  0.0     0.0    0.0  0.0      0.0    0.0    0.0  0.000000           0.0   \n",
       "1996  0.0     0.0    0.0  0.0      0.0    0.0    0.0  0.000000           0.0   \n",
       "1997  0.0     0.0    0.0  0.0      0.0    0.0    0.0  0.000000           0.0   \n",
       "1998  0.0     0.0    0.0  0.0      0.0    0.0    0.0  0.000000           0.0   \n",
       "1999  0.0     0.0    0.0  0.0      0.0    0.0    0.0  0.000000           0.0   \n",
       "\n",
       "      aaronshhh  ...  zxf   zy  zyf  zyklon   zz  zzlo  zzomtmd  zztaine  \\\n",
       "0           0.0  ...  0.0  0.0  0.0     0.0  0.0   0.0      0.0      0.0   \n",
       "1           0.0  ...  0.0  0.0  0.0     0.0  0.0   0.0      0.0      0.0   \n",
       "2           0.0  ...  0.0  0.0  0.0     0.0  0.0   0.0      0.0      0.0   \n",
       "3           0.0  ...  0.0  0.0  0.0     0.0  0.0   0.0      0.0      0.0   \n",
       "4           0.0  ...  0.0  0.0  0.0     0.0  0.0   0.0      0.0      0.0   \n",
       "...         ...  ...  ...  ...  ...     ...  ...   ...      ...      ...   \n",
       "1995        0.0  ...  0.0  0.0  0.0     0.0  0.0   0.0      0.0      0.0   \n",
       "1996        0.0  ...  0.0  0.0  0.0     0.0  0.0   0.0      0.0      0.0   \n",
       "1997        0.0  ...  0.0  0.0  0.0     0.0  0.0   0.0      0.0      0.0   \n",
       "1998        0.0  ...  0.0  0.0  0.0     0.0  0.0   0.0      0.0      0.0   \n",
       "1999        0.0  ...  0.0  0.0  0.0     0.0  0.0   0.0      0.0      0.0   \n",
       "\n",
       "      zzzzaaaacccchhh  zzzzzzzzzzzzz  \n",
       "0                 0.0            0.0  \n",
       "1                 0.0            0.0  \n",
       "2                 0.0            0.0  \n",
       "3                 0.0            0.0  \n",
       "4                 0.0            0.0  \n",
       "...               ...            ...  \n",
       "1995              0.0            0.0  \n",
       "1996              0.0            0.0  \n",
       "1997              0.0            0.0  \n",
       "1998              0.0            0.0  \n",
       "1999              0.0            0.0  \n",
       "\n",
       "[2000 rows x 28685 columns]"
      ]
     },
     "execution_count": 146,
     "metadata": {},
     "output_type": "execute_result"
    }
   ],
   "source": [
    "tfidf_df"
   ]
  },
  {
   "cell_type": "markdown",
   "metadata": {},
   "source": []
  },
  {
   "cell_type": "code",
   "execution_count": 147,
   "metadata": {},
   "outputs": [],
   "source": [
    "from sklearn.naive_bayes import GaussianNB"
   ]
  },
  {
   "cell_type": "code",
   "execution_count": 148,
   "metadata": {},
   "outputs": [],
   "source": [
    "from sklearn.model_selection import train_test_split"
   ]
  },
  {
   "cell_type": "code",
   "execution_count": 149,
   "metadata": {},
   "outputs": [],
   "source": [
    "X_train, X_test, Y_train, Y_test = train_test_split(\n",
    "    X_data,\n",
    "    Y_data,\n",
    "    test_size = 0.3,\n",
    "    random_state = 123    \n",
    ")"
   ]
  },
  {
   "cell_type": "code",
   "execution_count": 150,
   "metadata": {},
   "outputs": [],
   "source": [
    "tfidf_vectorizador = TfidfVectorizer(tokenizer  = limpiar_tokenizar, min_df = 5, stop_words = stop_words, smooth_idf=False)"
   ]
  },
  {
   "cell_type": "code",
   "execution_count": 151,
   "metadata": {},
   "outputs": [
    {
     "name": "stderr",
     "output_type": "stream",
     "text": [
      "c:\\Users\\Usuario\\AppData\\Local\\Programs\\Python\\Python310\\lib\\site-packages\\sklearn\\feature_extraction\\text.py:516: UserWarning: The parameter 'token_pattern' will not be used since 'tokenizer' is not None'\n",
      "  warnings.warn(\n"
     ]
    },
    {
     "data": {
      "text/plain": [
       "TfidfVectorizer(min_df=5, smooth_idf=False,\n",
       "                stop_words=['i', 'me', 'my', 'myself', 'we', 'our', 'ours',\n",
       "                            'ourselves', 'you', \"you're\", \"you've\", \"you'll\",\n",
       "                            \"you'd\", 'your', 'yours', 'yourself', 'yourselves',\n",
       "                            'he', 'him', 'his', 'himself', 'she', \"she's\",\n",
       "                            'her', 'hers', 'herself', 'it', \"it's\", 'its',\n",
       "                            'itself', ...],\n",
       "                tokenizer=<function limpiar_tokenizar at 0x00000259B54FB9A0>)"
      ]
     },
     "execution_count": 151,
     "metadata": {},
     "output_type": "execute_result"
    }
   ],
   "source": [
    "tfidf_vectorizador.fit(X_train)"
   ]
  },
  {
   "cell_type": "code",
   "execution_count": 152,
   "metadata": {},
   "outputs": [],
   "source": [
    "tfidf_matrix_train = tfidf_vectorizador.transform(X_train)"
   ]
  },
  {
   "cell_type": "code",
   "execution_count": 153,
   "metadata": {},
   "outputs": [
    {
     "data": {
      "text/plain": [
       "(31428, 34571)"
      ]
     },
     "execution_count": 153,
     "metadata": {},
     "output_type": "execute_result"
    }
   ],
   "source": [
    "tfidf_matrix_train.shape"
   ]
  },
  {
   "cell_type": "code",
   "execution_count": 154,
   "metadata": {},
   "outputs": [],
   "source": [
    "gnb = GaussianNB()"
   ]
  },
  {
   "cell_type": "code",
   "execution_count": 155,
   "metadata": {},
   "outputs": [],
   "source": [
    "Y_train = Y_train.astype('int')"
   ]
  },
  {
   "cell_type": "code",
   "execution_count": 156,
   "metadata": {},
   "outputs": [],
   "source": [
    "gnb_fit = gnb.fit(tfidf_matrix_train.toarray(), Y_train)"
   ]
  },
  {
   "cell_type": "code",
   "execution_count": 157,
   "metadata": {},
   "outputs": [],
   "source": [
    "tfidf_matrix_test = tfidf_vectorizador.transform(X_test)"
   ]
  },
  {
   "cell_type": "code",
   "execution_count": 158,
   "metadata": {},
   "outputs": [
    {
     "data": {
      "text/plain": [
       "(13470, 34571)"
      ]
     },
     "execution_count": 158,
     "metadata": {},
     "output_type": "execute_result"
    }
   ],
   "source": [
    "tfidf_matrix_test.shape"
   ]
  },
  {
   "cell_type": "code",
   "execution_count": 159,
   "metadata": {},
   "outputs": [],
   "source": [
    "Y_pred = gnb_fit.predict(tfidf_matrix_test.toarray())"
   ]
  },
  {
   "cell_type": "code",
   "execution_count": 160,
   "metadata": {},
   "outputs": [],
   "source": [
    "Y_test = Y_test.astype('int')"
   ]
  },
  {
   "cell_type": "code",
   "execution_count": 161,
   "metadata": {},
   "outputs": [],
   "source": [
    "TEC_test = (Y_test != Y_pred).sum()/len(Y_test)"
   ]
  },
  {
   "cell_type": "code",
   "execution_count": 162,
   "metadata": {},
   "outputs": [
    {
     "data": {
      "text/plain": [
       "0.0593170007423905"
      ]
     },
     "execution_count": 162,
     "metadata": {},
     "output_type": "execute_result"
    }
   ],
   "source": [
    "TEC_test"
   ]
  },
  {
   "cell_type": "code",
   "execution_count": 164,
   "metadata": {},
   "outputs": [
    {
     "data": {
      "text/plain": [
       "array([0, 1, 0, ..., 1, 0, 0])"
      ]
     },
     "execution_count": 164,
     "metadata": {},
     "output_type": "execute_result"
    }
   ],
   "source": [
    "Y_pred"
   ]
  },
  {
   "cell_type": "markdown",
   "metadata": {},
   "source": []
  },
  {
   "cell_type": "markdown",
   "metadata": {},
   "source": []
  },
  {
   "cell_type": "markdown",
   "metadata": {},
   "source": [
    "https://www.cienciadedatos.net/documentos/py25-text-mining-python.html"
   ]
  },
  {
   "cell_type": "markdown",
   "metadata": {},
   "source": [
    "https://www.analyticsvidhya.com/blog/2021/11/how-sklearns-tfidfvectorizer-calculates-tf-idf-values/"
   ]
  },
  {
   "cell_type": "markdown",
   "metadata": {},
   "source": [
    "web sklearn, numpy , pandas , wikipedia"
   ]
  },
  {
   "cell_type": "markdown",
   "metadata": {},
   "source": []
  },
  {
   "cell_type": "code",
   "execution_count": 5,
   "metadata": {},
   "outputs": [
    {
     "ename": "RParsingError",
     "evalue": "Parsing status not OK - PARSING_STATUS.PARSE_ERROR",
     "output_type": "error",
     "traceback": [
      "\u001b[1;31m---------------------------------------------------------------------------\u001b[0m",
      "\u001b[1;31mRParsingError\u001b[0m                             Traceback (most recent call last)",
      "\u001b[1;32mc:\\Users\\Usuario\\Documents\\fabio\\Fabio\\Estadistica4all.github.io\\Notebooks\\Text Classification\\PDF\\Text_Classification.ipynb Celda 214\u001b[0m in \u001b[0;36m<cell line: 1>\u001b[1;34m()\u001b[0m\n\u001b[1;32m----> <a href='vscode-notebook-cell:/c%3A/Users/Usuario/Documents/fabio/Fabio/Estadistica4all.github.io/Notebooks/Text%20Classification/PDF/Text_Classification.ipynb#Y423sZmlsZQ%3D%3D?line=0'>1</a>\u001b[0m get_ipython()\u001b[39m.\u001b[39;49mrun_cell_magic(\u001b[39m'\u001b[39;49m\u001b[39mR\u001b[39;49m\u001b[39m'\u001b[39;49m, \u001b[39m'\u001b[39;49m\u001b[39m'\u001b[39;49m, \u001b[39m'\u001b[39;49m\u001b[39mcorpus <- Corpus(VectorSource(Fake_News_Data_R$text)\u001b[39;49m\u001b[39m\\n\u001b[39;49;00m\u001b[39m'\u001b[39;49m)\n",
      "File \u001b[1;32mc:\\Users\\Usuario\\AppData\\Local\\Programs\\Python\\Python310\\lib\\site-packages\\IPython\\core\\interactiveshell.py:2358\u001b[0m, in \u001b[0;36mInteractiveShell.run_cell_magic\u001b[1;34m(self, magic_name, line, cell)\u001b[0m\n\u001b[0;32m   2356\u001b[0m \u001b[39mwith\u001b[39;00m \u001b[39mself\u001b[39m\u001b[39m.\u001b[39mbuiltin_trap:\n\u001b[0;32m   2357\u001b[0m     args \u001b[39m=\u001b[39m (magic_arg_s, cell)\n\u001b[1;32m-> 2358\u001b[0m     result \u001b[39m=\u001b[39m fn(\u001b[39m*\u001b[39margs, \u001b[39m*\u001b[39m\u001b[39m*\u001b[39mkwargs)\n\u001b[0;32m   2359\u001b[0m \u001b[39mreturn\u001b[39;00m result\n",
      "File \u001b[1;32mc:\\Users\\Usuario\\AppData\\Local\\Programs\\Python\\Python310\\lib\\site-packages\\rpy2\\ipython\\rmagic.py:763\u001b[0m, in \u001b[0;36mRMagics.R\u001b[1;34m(self, line, cell, local_ns)\u001b[0m\n\u001b[0;32m    761\u001b[0m         return_output \u001b[39m=\u001b[39m \u001b[39mFalse\u001b[39;00m\n\u001b[0;32m    762\u001b[0m \u001b[39melse\u001b[39;00m:\n\u001b[1;32m--> 763\u001b[0m     text_result, result, visible \u001b[39m=\u001b[39m \u001b[39mself\u001b[39;49m\u001b[39m.\u001b[39;49meval(code)\n\u001b[0;32m    764\u001b[0m     text_output \u001b[39m+\u001b[39m\u001b[39m=\u001b[39m text_result\n\u001b[0;32m    765\u001b[0m     \u001b[39mif\u001b[39;00m visible:\n",
      "File \u001b[1;32mc:\\Users\\Usuario\\AppData\\Local\\Programs\\Python\\Python310\\lib\\site-packages\\rpy2\\ipython\\rmagic.py:268\u001b[0m, in \u001b[0;36mRMagics.eval\u001b[1;34m(self, code)\u001b[0m\n\u001b[0;32m    260\u001b[0m     stack\u001b[39m.\u001b[39menter(\n\u001b[0;32m    261\u001b[0m         rpy2\u001b[39m.\u001b[39mrinterface_lib\n\u001b[0;32m    262\u001b[0m         \u001b[39m.\u001b[39mcallbacks\u001b[39m.\u001b[39mobj_in_module(rpy2\u001b[39m.\u001b[39mrinterface_lib\u001b[39m.\u001b[39mcallbacks,\n\u001b[0;32m    263\u001b[0m                                  \u001b[39m'\u001b[39m\u001b[39mconsolewrite_print\u001b[39m\u001b[39m'\u001b[39m,\n\u001b[0;32m    264\u001b[0m                                  \u001b[39mself\u001b[39m\u001b[39m.\u001b[39mwrite_console_regular)\n\u001b[0;32m    265\u001b[0m     )\n\u001b[0;32m    266\u001b[0m \u001b[39mtry\u001b[39;00m:\n\u001b[0;32m    267\u001b[0m     \u001b[39m# Need the newline in case the last line in code is a comment.\u001b[39;00m\n\u001b[1;32m--> 268\u001b[0m     value, visible \u001b[39m=\u001b[39m ro\u001b[39m.\u001b[39;49mr(\u001b[39m\"\u001b[39;49m\u001b[39mwithVisible(\u001b[39;49m\u001b[39m{\u001b[39;49m\u001b[39m%s\u001b[39;49;00m\u001b[39m\\n\u001b[39;49;00m\u001b[39m})\u001b[39;49m\u001b[39m\"\u001b[39;49m \u001b[39m%\u001b[39;49m code)\n\u001b[0;32m    269\u001b[0m \u001b[39mexcept\u001b[39;00m (ri\u001b[39m.\u001b[39membedded\u001b[39m.\u001b[39mRRuntimeError, \u001b[39mValueError\u001b[39;00m) \u001b[39mas\u001b[39;00m exception:\n\u001b[0;32m    270\u001b[0m     \u001b[39m# Otherwise next return seems to have copy of error.\u001b[39;00m\n\u001b[0;32m    271\u001b[0m     warning_or_other_msg \u001b[39m=\u001b[39m \u001b[39mself\u001b[39m\u001b[39m.\u001b[39mflush()\n",
      "File \u001b[1;32mc:\\Users\\Usuario\\AppData\\Local\\Programs\\Python\\Python310\\lib\\site-packages\\rpy2\\robjects\\__init__.py:437\u001b[0m, in \u001b[0;36mR.__call__\u001b[1;34m(self, string)\u001b[0m\n\u001b[0;32m    436\u001b[0m \u001b[39mdef\u001b[39;00m \u001b[39m__call__\u001b[39m(\u001b[39mself\u001b[39m, string):\n\u001b[1;32m--> 437\u001b[0m     p \u001b[39m=\u001b[39m rinterface\u001b[39m.\u001b[39;49mparse(string)\n\u001b[0;32m    438\u001b[0m     res \u001b[39m=\u001b[39m \u001b[39mself\u001b[39m\u001b[39m.\u001b[39meval(p)\n\u001b[0;32m    439\u001b[0m     \u001b[39mreturn\u001b[39;00m conversion\u001b[39m.\u001b[39mrpy2py(res)\n",
      "File \u001b[1;32mc:\\Users\\Usuario\\AppData\\Local\\Programs\\Python\\Python310\\lib\\site-packages\\rpy2\\rinterface_lib\\conversion.py:45\u001b[0m, in \u001b[0;36m_cdata_res_to_rinterface.<locals>._\u001b[1;34m(*args, **kwargs)\u001b[0m\n\u001b[0;32m     44\u001b[0m \u001b[39mdef\u001b[39;00m \u001b[39m_\u001b[39m(\u001b[39m*\u001b[39margs, \u001b[39m*\u001b[39m\u001b[39m*\u001b[39mkwargs):\n\u001b[1;32m---> 45\u001b[0m     cdata \u001b[39m=\u001b[39m function(\u001b[39m*\u001b[39margs, \u001b[39m*\u001b[39m\u001b[39m*\u001b[39mkwargs)\n\u001b[0;32m     46\u001b[0m     \u001b[39m# TODO: test cdata is of the expected CType\u001b[39;00m\n\u001b[0;32m     47\u001b[0m     \u001b[39mreturn\u001b[39;00m _cdata_to_rinterface(cdata)\n",
      "File \u001b[1;32mc:\\Users\\Usuario\\AppData\\Local\\Programs\\Python\\Python310\\lib\\site-packages\\rpy2\\rinterface.py:103\u001b[0m, in \u001b[0;36mparse\u001b[1;34m(text, num)\u001b[0m\n\u001b[0;32m    101\u001b[0m robj \u001b[39m=\u001b[39m StrSexpVector([text])\n\u001b[0;32m    102\u001b[0m \u001b[39mwith\u001b[39;00m memorymanagement\u001b[39m.\u001b[39mrmemory() \u001b[39mas\u001b[39;00m rmemory:\n\u001b[1;32m--> 103\u001b[0m     res \u001b[39m=\u001b[39m _rinterface\u001b[39m.\u001b[39;49m_parse(robj\u001b[39m.\u001b[39;49m__sexp__\u001b[39m.\u001b[39;49m_cdata, num, rmemory)\n\u001b[0;32m    104\u001b[0m \u001b[39mreturn\u001b[39;00m res\n",
      "File \u001b[1;32mc:\\Users\\Usuario\\AppData\\Local\\Programs\\Python\\Python310\\lib\\site-packages\\rpy2\\rinterface_lib\\_rinterface_capi.py:652\u001b[0m, in \u001b[0;36m_parse\u001b[1;34m(cdata, num, rmemory)\u001b[0m\n\u001b[0;32m    645\u001b[0m \u001b[39m# TODO: design better handling of possible status:\u001b[39;00m\n\u001b[0;32m    646\u001b[0m \u001b[39m# PARSE_NULL,\u001b[39;00m\n\u001b[0;32m    647\u001b[0m \u001b[39m# PARSE_OK,\u001b[39;00m\n\u001b[0;32m    648\u001b[0m \u001b[39m# PARSE_INCOMPLETE,\u001b[39;00m\n\u001b[0;32m    649\u001b[0m \u001b[39m# PARSE_ERROR,\u001b[39;00m\n\u001b[0;32m    650\u001b[0m \u001b[39m# PARSE_EOF\u001b[39;00m\n\u001b[0;32m    651\u001b[0m \u001b[39mif\u001b[39;00m status[\u001b[39m0\u001b[39m] \u001b[39m!=\u001b[39m openrlib\u001b[39m.\u001b[39mrlib\u001b[39m.\u001b[39mPARSE_OK:\n\u001b[1;32m--> 652\u001b[0m     \u001b[39mraise\u001b[39;00m RParsingError(\u001b[39m'\u001b[39m\u001b[39mParsing status not OK\u001b[39m\u001b[39m'\u001b[39m,\n\u001b[0;32m    653\u001b[0m                         status\u001b[39m=\u001b[39mPARSING_STATUS(status[\u001b[39m0\u001b[39m]))\n\u001b[0;32m    654\u001b[0m \u001b[39mreturn\u001b[39;00m res\n",
      "\u001b[1;31mRParsingError\u001b[0m: Parsing status not OK - PARSING_STATUS.PARSE_ERROR"
     ]
    }
   ],
   "source": [
    "%%R\n",
    "corpus <- Corpus(VectorSource(Fake_News_Data_R$text)"
   ]
  }
 ],
 "metadata": {
  "kernelspec": {
   "display_name": "Python 3",
   "language": "python",
   "name": "python3"
  },
  "language_info": {
   "codemirror_mode": {
    "name": "ipython",
    "version": 3
   },
   "file_extension": ".py",
   "mimetype": "text/x-python",
   "name": "python",
   "nbconvert_exporter": "python",
   "pygments_lexer": "ipython3",
   "version": "3.10.0"
  },
  "vscode": {
   "interpreter": {
    "hash": "c63d8c7d738c2960218a10995aedf0a7f67a49a231e71037adf0440953cdb45b"
   }
  }
 },
 "nbformat": 4,
 "nbformat_minor": 2
}
