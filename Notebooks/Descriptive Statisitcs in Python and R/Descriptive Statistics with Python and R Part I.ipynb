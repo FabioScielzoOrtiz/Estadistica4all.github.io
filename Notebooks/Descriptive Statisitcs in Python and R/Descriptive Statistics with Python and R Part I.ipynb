{
 "cells": [
  {
   "cell_type": "markdown",
   "metadata": {},
   "source": [
    "# Descriptive Statistics with Python and R\n",
    "\n",
    "\n",
    "## Index:\n",
    "* [Data-set](#1)\n",
    "* * [Working with `Python`](#2)\n",
    "* * [Working with `R`](#3)\n",
    "* [Data-set Description ](#4)\n",
    "* [ Statistical Variable](#5)\n",
    "* [ Data Martrix ](#6)\n",
    "* * [Data Martrix Representation by Rows](#7)\n",
    "* * [ Data Martrix Representation by Columns ](#8)\n",
    "* [Range of a Statistical Variable](#9)\n",
    "* [Types of Statistical Variable ](#10)\n",
    "* * [Types of Quantitative Variables](#11)\n",
    "* * * [Discrete and Continuous Variables](#12)\n",
    "* * [Types of Categorical Variables](#13)\n",
    "* * * [Nominal and Ordinal Variables](#14)\n",
    "* [Descriptive Statistic](#15)\n",
    "* * [Mean](#16)\n",
    "* * * [Mean Vector](#17)\n",
    "* * *  [Matrix Expression of the Mean Vector](#18)\n",
    "* * [Ponderate Mean](#19)\n",
    "* * [Geometric Mean](#20)\n",
    "* * [Median](#21)\n",
    "* * [Quantiles](#22)\n",
    "* * [Variance and Standard Deviation](#23)\n",
    "* [Basic descriptive summary in `Python`](#24)\n",
    "* [Basic descriptive summary in `R`](#25)\n",
    "* [Centered Data Matrix](#26)\n",
    "* [Scaled Variables](#27)\n",
    "* [Scaled Data Matrix](#28)\n",
    "* [Covariance](#29)\n",
    "* * [Properties of covariance](#30)\n",
    "* [Covariance Matrix](#31)\n",
    "* [Pearson Linear Correlation](#32)\n",
    "* * [Properties of Pearson linear correlation](#33)\n",
    "* [ Pearson Correlation Matrix](#34)\n",
    "* [Frequency Distribution](#35)\n",
    "* * [Absolute frequency of an element](#36)\n",
    "* * [Absolute frequency of a set](#37)\n",
    "* * [Relative frequency of an element](#38)\n",
    "* * [Relative frequency of a set](#39)\n",
    "* * [Cumulative Frequencies](#40)\n",
    "* [Frequency Table](#41)\n",
    "* * [Frequency Table in `Python`](#42)\n",
    "* * [Frequency Table in `R`](#43)\n",
    "* * [Categorization of Quantitative Variables](#44)\n",
    "* * * [Median Rule](#45)\n",
    "* * * [Mean Rule](#46)\n",
    "* * * [Quartile Rule](#47)\n",
    "* * * [Scott's Rule](#48)\n",
    "* * * [Modified Scott's Rule](#49)\n",
    "* [Histogram](#50)\n",
    "* [Bar Plot](#51)\n",
    "* [Box-plot](#52)\n",
    "* [Skewness and Kurtosis](#53)\n",
    "*  * [Skewness Coefficient](#54)\n",
    "*  * * [Skewness coefficient properties](#55)\n",
    "*  * [Kurtosis Coefficient](#56)\n",
    "*  * * [Kurtosis Coefficient properties](#57)"
   ]
  },
  {
   "cell_type": "markdown",
   "metadata": {},
   "source": []
  },
  {
   "cell_type": "markdown",
   "metadata": {},
   "source": [
    "## Data-Set <a class=\"anchor\" id=\"1\"></a>"
   ]
  },
  {
   "cell_type": "markdown",
   "metadata": {},
   "source": [
    "We load the data-set with which we are going to work mainly:"
   ]
  },
  {
   "cell_type": "markdown",
   "metadata": {},
   "source": [
    "### Working with `Python` <a class=\"anchor\" id=\"2\"></a>"
   ]
  },
  {
   "cell_type": "code",
   "execution_count": 2,
   "metadata": {},
   "outputs": [],
   "source": [
    "import pandas as pd\n",
    "import numpy as np\n",
    "\n",
    "from IPython.display import display\n",
    "pd.options.display.max_columns = None\n",
    "\n",
    "import warnings\n",
    "warnings.filterwarnings('ignore')"
   ]
  },
  {
   "cell_type": "markdown",
   "metadata": {},
   "source": [
    "We load the data-set that we will use in this article using the following link:\n",
    "\n",
    "https://raw.githubusercontent.com/FabioScielzoOrtiz/Estadistica4all-blog/main/Descriptive%20Statisitcs%20in%20Python%20and%20R/datosAragon.csv"
   ]
  },
  {
   "cell_type": "code",
   "execution_count": 3,
   "metadata": {},
   "outputs": [
    {
     "data": {
      "text/html": [
       "<div>\n",
       "<style scoped>\n",
       "    .dataframe tbody tr th:only-of-type {\n",
       "        vertical-align: middle;\n",
       "    }\n",
       "\n",
       "    .dataframe tbody tr th {\n",
       "        vertical-align: top;\n",
       "    }\n",
       "\n",
       "    .dataframe thead th {\n",
       "        text-align: right;\n",
       "    }\n",
       "</style>\n",
       "<table border=\"1\" class=\"dataframe\">\n",
       "  <thead>\n",
       "    <tr style=\"text-align: right;\">\n",
       "      <th></th>\n",
       "      <th>ca</th>\n",
       "      <th>datosECVmas16.prov</th>\n",
       "      <th>nomprov</th>\n",
       "      <th>gen</th>\n",
       "      <th>edad</th>\n",
       "      <th>nac</th>\n",
       "      <th>neduc</th>\n",
       "      <th>sitlab</th>\n",
       "      <th>ingnorm</th>\n",
       "      <th>horas</th>\n",
       "      <th>factorel</th>\n",
       "    </tr>\n",
       "  </thead>\n",
       "  <tbody>\n",
       "    <tr>\n",
       "      <th>0</th>\n",
       "      <td>2</td>\n",
       "      <td>22</td>\n",
       "      <td>Huesca</td>\n",
       "      <td>1</td>\n",
       "      <td>3</td>\n",
       "      <td>1</td>\n",
       "      <td>3</td>\n",
       "      <td>1</td>\n",
       "      <td>21237.1</td>\n",
       "      <td>36.42</td>\n",
       "      <td>393.7</td>\n",
       "    </tr>\n",
       "    <tr>\n",
       "      <th>1</th>\n",
       "      <td>2</td>\n",
       "      <td>22</td>\n",
       "      <td>Huesca</td>\n",
       "      <td>2</td>\n",
       "      <td>2</td>\n",
       "      <td>1</td>\n",
       "      <td>2</td>\n",
       "      <td>1</td>\n",
       "      <td>17810.8</td>\n",
       "      <td>31.72</td>\n",
       "      <td>393.7</td>\n",
       "    </tr>\n",
       "    <tr>\n",
       "      <th>2</th>\n",
       "      <td>2</td>\n",
       "      <td>22</td>\n",
       "      <td>Huesca</td>\n",
       "      <td>1</td>\n",
       "      <td>1</td>\n",
       "      <td>1</td>\n",
       "      <td>2</td>\n",
       "      <td>1</td>\n",
       "      <td>11889.1</td>\n",
       "      <td>31.88</td>\n",
       "      <td>393.7</td>\n",
       "    </tr>\n",
       "    <tr>\n",
       "      <th>3</th>\n",
       "      <td>2</td>\n",
       "      <td>22</td>\n",
       "      <td>Huesca</td>\n",
       "      <td>1</td>\n",
       "      <td>1</td>\n",
       "      <td>1</td>\n",
       "      <td>2</td>\n",
       "      <td>1</td>\n",
       "      <td>16000.5</td>\n",
       "      <td>38.18</td>\n",
       "      <td>393.7</td>\n",
       "    </tr>\n",
       "    <tr>\n",
       "      <th>4</th>\n",
       "      <td>2</td>\n",
       "      <td>22</td>\n",
       "      <td>Huesca</td>\n",
       "      <td>1</td>\n",
       "      <td>1</td>\n",
       "      <td>1</td>\n",
       "      <td>2</td>\n",
       "      <td>3</td>\n",
       "      <td>21169.6</td>\n",
       "      <td>0.00</td>\n",
       "      <td>393.7</td>\n",
       "    </tr>\n",
       "    <tr>\n",
       "      <th>...</th>\n",
       "      <td>...</td>\n",
       "      <td>...</td>\n",
       "      <td>...</td>\n",
       "      <td>...</td>\n",
       "      <td>...</td>\n",
       "      <td>...</td>\n",
       "      <td>...</td>\n",
       "      <td>...</td>\n",
       "      <td>...</td>\n",
       "      <td>...</td>\n",
       "      <td>...</td>\n",
       "    </tr>\n",
       "    <tr>\n",
       "      <th>1231</th>\n",
       "      <td>2</td>\n",
       "      <td>50</td>\n",
       "      <td>Zaragoza</td>\n",
       "      <td>1</td>\n",
       "      <td>2</td>\n",
       "      <td>1</td>\n",
       "      <td>2</td>\n",
       "      <td>1</td>\n",
       "      <td>11760.6</td>\n",
       "      <td>28.79</td>\n",
       "      <td>2206.1</td>\n",
       "    </tr>\n",
       "    <tr>\n",
       "      <th>1232</th>\n",
       "      <td>2</td>\n",
       "      <td>50</td>\n",
       "      <td>Zaragoza</td>\n",
       "      <td>1</td>\n",
       "      <td>2</td>\n",
       "      <td>1</td>\n",
       "      <td>2</td>\n",
       "      <td>2</td>\n",
       "      <td>19321.6</td>\n",
       "      <td>0.00</td>\n",
       "      <td>124.4</td>\n",
       "    </tr>\n",
       "    <tr>\n",
       "      <th>1233</th>\n",
       "      <td>2</td>\n",
       "      <td>50</td>\n",
       "      <td>Zaragoza</td>\n",
       "      <td>2</td>\n",
       "      <td>2</td>\n",
       "      <td>1</td>\n",
       "      <td>2</td>\n",
       "      <td>1</td>\n",
       "      <td>19924.8</td>\n",
       "      <td>37.21</td>\n",
       "      <td>124.4</td>\n",
       "    </tr>\n",
       "    <tr>\n",
       "      <th>1234</th>\n",
       "      <td>2</td>\n",
       "      <td>50</td>\n",
       "      <td>Zaragoza</td>\n",
       "      <td>2</td>\n",
       "      <td>3</td>\n",
       "      <td>1</td>\n",
       "      <td>1</td>\n",
       "      <td>3</td>\n",
       "      <td>13042.5</td>\n",
       "      <td>0.00</td>\n",
       "      <td>246.5</td>\n",
       "    </tr>\n",
       "    <tr>\n",
       "      <th>1235</th>\n",
       "      <td>2</td>\n",
       "      <td>50</td>\n",
       "      <td>Zaragoza</td>\n",
       "      <td>1</td>\n",
       "      <td>3</td>\n",
       "      <td>1</td>\n",
       "      <td>1</td>\n",
       "      <td>1</td>\n",
       "      <td>19618.2</td>\n",
       "      <td>42.01</td>\n",
       "      <td>246.5</td>\n",
       "    </tr>\n",
       "  </tbody>\n",
       "</table>\n",
       "<p>1236 rows × 11 columns</p>\n",
       "</div>"
      ],
      "text/plain": [
       "      ca  datosECVmas16.prov   nomprov  gen  edad  nac  neduc  sitlab  \\\n",
       "0      2                  22    Huesca    1     3    1      3       1   \n",
       "1      2                  22    Huesca    2     2    1      2       1   \n",
       "2      2                  22    Huesca    1     1    1      2       1   \n",
       "3      2                  22    Huesca    1     1    1      2       1   \n",
       "4      2                  22    Huesca    1     1    1      2       3   \n",
       "...   ..                 ...       ...  ...   ...  ...    ...     ...   \n",
       "1231   2                  50  Zaragoza    1     2    1      2       1   \n",
       "1232   2                  50  Zaragoza    1     2    1      2       2   \n",
       "1233   2                  50  Zaragoza    2     2    1      2       1   \n",
       "1234   2                  50  Zaragoza    2     3    1      1       3   \n",
       "1235   2                  50  Zaragoza    1     3    1      1       1   \n",
       "\n",
       "      ingnorm  horas  factorel  \n",
       "0     21237.1  36.42     393.7  \n",
       "1     17810.8  31.72     393.7  \n",
       "2     11889.1  31.88     393.7  \n",
       "3     16000.5  38.18     393.7  \n",
       "4     21169.6   0.00     393.7  \n",
       "...       ...    ...       ...  \n",
       "1231  11760.6  28.79    2206.1  \n",
       "1232  19321.6   0.00     124.4  \n",
       "1233  19924.8  37.21     124.4  \n",
       "1234  13042.5   0.00     246.5  \n",
       "1235  19618.2  42.01     246.5  \n",
       "\n",
       "[1236 rows x 11 columns]"
      ]
     },
     "execution_count": 3,
     "metadata": {},
     "output_type": "execute_result"
    }
   ],
   "source": [
    "url = 'https://raw.githubusercontent.com/FabioScielzoOrtiz/Estadistica4all-blog/main/Descriptive%20Statisitcs%20in%20Python%20and%20R/datosAragon.csv'\n",
    "\n",
    "data_Python = pd.read_csv(url)\n",
    "\n",
    "data_Python"
   ]
  },
  {
   "cell_type": "markdown",
   "metadata": {},
   "source": [
    "Throughout this article we will use the Python package `dfply`"
   ]
  },
  {
   "cell_type": "code",
   "execution_count": 4,
   "metadata": {},
   "outputs": [],
   "source": [
    "# pip install dfply \n",
    "\n",
    "from dfply import *"
   ]
  },
  {
   "cell_type": "markdown",
   "metadata": {},
   "source": [
    "We prepare the data-set:"
   ]
  },
  {
   "cell_type": "markdown",
   "metadata": {},
   "source": [
    "We select the columns that we will use:"
   ]
  },
  {
   "cell_type": "code",
   "execution_count": 5,
   "metadata": {},
   "outputs": [
    {
     "data": {
      "text/html": [
       "<div>\n",
       "<style scoped>\n",
       "    .dataframe tbody tr th:only-of-type {\n",
       "        vertical-align: middle;\n",
       "    }\n",
       "\n",
       "    .dataframe tbody tr th {\n",
       "        vertical-align: top;\n",
       "    }\n",
       "\n",
       "    .dataframe thead th {\n",
       "        text-align: right;\n",
       "    }\n",
       "</style>\n",
       "<table border=\"1\" class=\"dataframe\">\n",
       "  <thead>\n",
       "    <tr style=\"text-align: right;\">\n",
       "      <th></th>\n",
       "      <th>nomprov</th>\n",
       "      <th>gen</th>\n",
       "      <th>edad</th>\n",
       "      <th>nac</th>\n",
       "      <th>neduc</th>\n",
       "      <th>sitlab</th>\n",
       "      <th>ingnorm</th>\n",
       "      <th>horas</th>\n",
       "    </tr>\n",
       "  </thead>\n",
       "  <tbody>\n",
       "    <tr>\n",
       "      <th>0</th>\n",
       "      <td>Huesca</td>\n",
       "      <td>1</td>\n",
       "      <td>3</td>\n",
       "      <td>1</td>\n",
       "      <td>3</td>\n",
       "      <td>1</td>\n",
       "      <td>21237.1</td>\n",
       "      <td>36.42</td>\n",
       "    </tr>\n",
       "    <tr>\n",
       "      <th>1</th>\n",
       "      <td>Huesca</td>\n",
       "      <td>2</td>\n",
       "      <td>2</td>\n",
       "      <td>1</td>\n",
       "      <td>2</td>\n",
       "      <td>1</td>\n",
       "      <td>17810.8</td>\n",
       "      <td>31.72</td>\n",
       "    </tr>\n",
       "    <tr>\n",
       "      <th>2</th>\n",
       "      <td>Huesca</td>\n",
       "      <td>1</td>\n",
       "      <td>1</td>\n",
       "      <td>1</td>\n",
       "      <td>2</td>\n",
       "      <td>1</td>\n",
       "      <td>11889.1</td>\n",
       "      <td>31.88</td>\n",
       "    </tr>\n",
       "    <tr>\n",
       "      <th>3</th>\n",
       "      <td>Huesca</td>\n",
       "      <td>1</td>\n",
       "      <td>1</td>\n",
       "      <td>1</td>\n",
       "      <td>2</td>\n",
       "      <td>1</td>\n",
       "      <td>16000.5</td>\n",
       "      <td>38.18</td>\n",
       "    </tr>\n",
       "    <tr>\n",
       "      <th>4</th>\n",
       "      <td>Huesca</td>\n",
       "      <td>1</td>\n",
       "      <td>1</td>\n",
       "      <td>1</td>\n",
       "      <td>2</td>\n",
       "      <td>3</td>\n",
       "      <td>21169.6</td>\n",
       "      <td>0.0</td>\n",
       "    </tr>\n",
       "    <tr>\n",
       "      <th>...</th>\n",
       "      <td>...</td>\n",
       "      <td>...</td>\n",
       "      <td>...</td>\n",
       "      <td>...</td>\n",
       "      <td>...</td>\n",
       "      <td>...</td>\n",
       "      <td>...</td>\n",
       "      <td>...</td>\n",
       "    </tr>\n",
       "    <tr>\n",
       "      <th>1231</th>\n",
       "      <td>Zaragoza</td>\n",
       "      <td>1</td>\n",
       "      <td>2</td>\n",
       "      <td>1</td>\n",
       "      <td>2</td>\n",
       "      <td>1</td>\n",
       "      <td>11760.6</td>\n",
       "      <td>28.79</td>\n",
       "    </tr>\n",
       "    <tr>\n",
       "      <th>1232</th>\n",
       "      <td>Zaragoza</td>\n",
       "      <td>1</td>\n",
       "      <td>2</td>\n",
       "      <td>1</td>\n",
       "      <td>2</td>\n",
       "      <td>2</td>\n",
       "      <td>19321.6</td>\n",
       "      <td>0.0</td>\n",
       "    </tr>\n",
       "    <tr>\n",
       "      <th>1233</th>\n",
       "      <td>Zaragoza</td>\n",
       "      <td>2</td>\n",
       "      <td>2</td>\n",
       "      <td>1</td>\n",
       "      <td>2</td>\n",
       "      <td>1</td>\n",
       "      <td>19924.8</td>\n",
       "      <td>37.21</td>\n",
       "    </tr>\n",
       "    <tr>\n",
       "      <th>1234</th>\n",
       "      <td>Zaragoza</td>\n",
       "      <td>2</td>\n",
       "      <td>3</td>\n",
       "      <td>1</td>\n",
       "      <td>1</td>\n",
       "      <td>3</td>\n",
       "      <td>13042.5</td>\n",
       "      <td>0.0</td>\n",
       "    </tr>\n",
       "    <tr>\n",
       "      <th>1235</th>\n",
       "      <td>Zaragoza</td>\n",
       "      <td>1</td>\n",
       "      <td>3</td>\n",
       "      <td>1</td>\n",
       "      <td>1</td>\n",
       "      <td>1</td>\n",
       "      <td>19618.2</td>\n",
       "      <td>42.01</td>\n",
       "    </tr>\n",
       "  </tbody>\n",
       "</table>\n",
       "<p>1236 rows × 8 columns</p>\n",
       "</div>"
      ],
      "text/plain": [
       "       nomprov gen edad nac neduc sitlab  ingnorm  horas\n",
       "0       Huesca   1    3   1     3      1  21237.1  36.42\n",
       "1       Huesca   2    2   1     2      1  17810.8  31.72\n",
       "2       Huesca   1    1   1     2      1  11889.1  31.88\n",
       "3       Huesca   1    1   1     2      1  16000.5  38.18\n",
       "4       Huesca   1    1   1     2      3  21169.6    0.0\n",
       "...        ...  ..  ...  ..   ...    ...      ...    ...\n",
       "1231  Zaragoza   1    2   1     2      1  11760.6  28.79\n",
       "1232  Zaragoza   1    2   1     2      2  19321.6    0.0\n",
       "1233  Zaragoza   2    2   1     2      1  19924.8  37.21\n",
       "1234  Zaragoza   2    3   1     1      3  13042.5    0.0\n",
       "1235  Zaragoza   1    3   1     1      1  19618.2  42.01\n",
       "\n",
       "[1236 rows x 8 columns]"
      ]
     },
     "execution_count": 5,
     "metadata": {},
     "output_type": "execute_result"
    }
   ],
   "source": [
    "data_Python = (data_Python.T >> row_slice( list(range(2,10)) ) ).T\n",
    "\n",
    "data_Python"
   ]
  },
  {
   "cell_type": "markdown",
   "metadata": {},
   "source": [
    "We rename some of these columns:"
   ]
  },
  {
   "cell_type": "code",
   "execution_count": 6,
   "metadata": {},
   "outputs": [
    {
     "data": {
      "text/html": [
       "<div>\n",
       "<style scoped>\n",
       "    .dataframe tbody tr th:only-of-type {\n",
       "        vertical-align: middle;\n",
       "    }\n",
       "\n",
       "    .dataframe tbody tr th {\n",
       "        vertical-align: top;\n",
       "    }\n",
       "\n",
       "    .dataframe thead th {\n",
       "        text-align: right;\n",
       "    }\n",
       "</style>\n",
       "<table border=\"1\" class=\"dataframe\">\n",
       "  <thead>\n",
       "    <tr style=\"text-align: right;\">\n",
       "      <th></th>\n",
       "      <th>provincia</th>\n",
       "      <th>genero</th>\n",
       "      <th>edad</th>\n",
       "      <th>nac</th>\n",
       "      <th>neduc</th>\n",
       "      <th>sitlab</th>\n",
       "      <th>ingresos</th>\n",
       "      <th>horas</th>\n",
       "    </tr>\n",
       "  </thead>\n",
       "  <tbody>\n",
       "    <tr>\n",
       "      <th>0</th>\n",
       "      <td>Huesca</td>\n",
       "      <td>1</td>\n",
       "      <td>3</td>\n",
       "      <td>1</td>\n",
       "      <td>3</td>\n",
       "      <td>1</td>\n",
       "      <td>21237.1</td>\n",
       "      <td>36.42</td>\n",
       "    </tr>\n",
       "    <tr>\n",
       "      <th>1</th>\n",
       "      <td>Huesca</td>\n",
       "      <td>2</td>\n",
       "      <td>2</td>\n",
       "      <td>1</td>\n",
       "      <td>2</td>\n",
       "      <td>1</td>\n",
       "      <td>17810.8</td>\n",
       "      <td>31.72</td>\n",
       "    </tr>\n",
       "    <tr>\n",
       "      <th>2</th>\n",
       "      <td>Huesca</td>\n",
       "      <td>1</td>\n",
       "      <td>1</td>\n",
       "      <td>1</td>\n",
       "      <td>2</td>\n",
       "      <td>1</td>\n",
       "      <td>11889.1</td>\n",
       "      <td>31.88</td>\n",
       "    </tr>\n",
       "    <tr>\n",
       "      <th>3</th>\n",
       "      <td>Huesca</td>\n",
       "      <td>1</td>\n",
       "      <td>1</td>\n",
       "      <td>1</td>\n",
       "      <td>2</td>\n",
       "      <td>1</td>\n",
       "      <td>16000.5</td>\n",
       "      <td>38.18</td>\n",
       "    </tr>\n",
       "    <tr>\n",
       "      <th>4</th>\n",
       "      <td>Huesca</td>\n",
       "      <td>1</td>\n",
       "      <td>1</td>\n",
       "      <td>1</td>\n",
       "      <td>2</td>\n",
       "      <td>3</td>\n",
       "      <td>21169.6</td>\n",
       "      <td>0.0</td>\n",
       "    </tr>\n",
       "    <tr>\n",
       "      <th>...</th>\n",
       "      <td>...</td>\n",
       "      <td>...</td>\n",
       "      <td>...</td>\n",
       "      <td>...</td>\n",
       "      <td>...</td>\n",
       "      <td>...</td>\n",
       "      <td>...</td>\n",
       "      <td>...</td>\n",
       "    </tr>\n",
       "    <tr>\n",
       "      <th>1231</th>\n",
       "      <td>Zaragoza</td>\n",
       "      <td>1</td>\n",
       "      <td>2</td>\n",
       "      <td>1</td>\n",
       "      <td>2</td>\n",
       "      <td>1</td>\n",
       "      <td>11760.6</td>\n",
       "      <td>28.79</td>\n",
       "    </tr>\n",
       "    <tr>\n",
       "      <th>1232</th>\n",
       "      <td>Zaragoza</td>\n",
       "      <td>1</td>\n",
       "      <td>2</td>\n",
       "      <td>1</td>\n",
       "      <td>2</td>\n",
       "      <td>2</td>\n",
       "      <td>19321.6</td>\n",
       "      <td>0.0</td>\n",
       "    </tr>\n",
       "    <tr>\n",
       "      <th>1233</th>\n",
       "      <td>Zaragoza</td>\n",
       "      <td>2</td>\n",
       "      <td>2</td>\n",
       "      <td>1</td>\n",
       "      <td>2</td>\n",
       "      <td>1</td>\n",
       "      <td>19924.8</td>\n",
       "      <td>37.21</td>\n",
       "    </tr>\n",
       "    <tr>\n",
       "      <th>1234</th>\n",
       "      <td>Zaragoza</td>\n",
       "      <td>2</td>\n",
       "      <td>3</td>\n",
       "      <td>1</td>\n",
       "      <td>1</td>\n",
       "      <td>3</td>\n",
       "      <td>13042.5</td>\n",
       "      <td>0.0</td>\n",
       "    </tr>\n",
       "    <tr>\n",
       "      <th>1235</th>\n",
       "      <td>Zaragoza</td>\n",
       "      <td>1</td>\n",
       "      <td>3</td>\n",
       "      <td>1</td>\n",
       "      <td>1</td>\n",
       "      <td>1</td>\n",
       "      <td>19618.2</td>\n",
       "      <td>42.01</td>\n",
       "    </tr>\n",
       "  </tbody>\n",
       "</table>\n",
       "<p>1236 rows × 8 columns</p>\n",
       "</div>"
      ],
      "text/plain": [
       "     provincia genero edad nac neduc sitlab ingresos  horas\n",
       "0       Huesca      1    3   1     3      1  21237.1  36.42\n",
       "1       Huesca      2    2   1     2      1  17810.8  31.72\n",
       "2       Huesca      1    1   1     2      1  11889.1  31.88\n",
       "3       Huesca      1    1   1     2      1  16000.5  38.18\n",
       "4       Huesca      1    1   1     2      3  21169.6    0.0\n",
       "...        ...    ...  ...  ..   ...    ...      ...    ...\n",
       "1231  Zaragoza      1    2   1     2      1  11760.6  28.79\n",
       "1232  Zaragoza      1    2   1     2      2  19321.6    0.0\n",
       "1233  Zaragoza      2    2   1     2      1  19924.8  37.21\n",
       "1234  Zaragoza      2    3   1     1      3  13042.5    0.0\n",
       "1235  Zaragoza      1    3   1     1      1  19618.2  42.01\n",
       "\n",
       "[1236 rows x 8 columns]"
      ]
     },
     "execution_count": 6,
     "metadata": {},
     "output_type": "execute_result"
    }
   ],
   "source": [
    "data_Python = data_Python >> rename( genero=X.gen , \n",
    "                              provincia=X.nomprov , \n",
    "                              ingresos=X.ingnorm ) \n",
    "    \n",
    "data_Python"
   ]
  },
  {
   "cell_type": "markdown",
   "metadata": {},
   "source": [
    "We can see the structure of the variables of our data-set:"
   ]
  },
  {
   "cell_type": "code",
   "execution_count": 7,
   "metadata": {},
   "outputs": [
    {
     "data": {
      "text/plain": [
       "provincia    object\n",
       "genero       object\n",
       "edad         object\n",
       "nac          object\n",
       "neduc        object\n",
       "sitlab       object\n",
       "ingresos     object\n",
       "horas        object\n",
       "dtype: object"
      ]
     },
     "execution_count": 7,
     "metadata": {},
     "output_type": "execute_result"
    }
   ],
   "source": [
    "data_Python.dtypes"
   ]
  },
  {
   "cell_type": "markdown",
   "metadata": {},
   "source": [
    "We will convert the structure of them in the following way:\n",
    "\n",
    "- ingresos and horas to 'int' (numeric)\n",
    "\n",
    "- The rest to 'category' (categorical)"
   ]
  },
  {
   "cell_type": "code",
   "execution_count": 8,
   "metadata": {},
   "outputs": [],
   "source": [
    "data_Python['ingresos'] = data_Python['ingresos'].astype(float) \n",
    "data_Python['horas'] = data_Python['horas'].astype(float) \n",
    "\n",
    "data_Python['genero'] = data_Python['genero'].astype('category')\n",
    "data_Python['edad'] = data_Python['edad'].astype('category')\n",
    "data_Python['nac'] = data_Python['nac'].astype('category')\n",
    "data_Python['neduc'] = data_Python['neduc'].astype('category')\n",
    "data_Python['sitlab'] = data_Python['sitlab'].astype('category')\n",
    "data_Python['provincia'] = data_Python['provincia'].astype('category')"
   ]
  },
  {
   "cell_type": "markdown",
   "metadata": {},
   "source": [
    "Now we check if changes have been done correctly:"
   ]
  },
  {
   "cell_type": "code",
   "execution_count": 9,
   "metadata": {},
   "outputs": [
    {
     "data": {
      "text/plain": [
       "provincia    category\n",
       "genero       category\n",
       "edad         category\n",
       "nac          category\n",
       "neduc        category\n",
       "sitlab       category\n",
       "ingresos      float64\n",
       "horas         float64\n",
       "dtype: object"
      ]
     },
     "execution_count": 9,
     "metadata": {},
     "output_type": "execute_result"
    }
   ],
   "source": [
    "data_Python.dtypes "
   ]
  },
  {
   "cell_type": "code",
   "execution_count": 10,
   "metadata": {},
   "outputs": [
    {
     "data": {
      "text/html": [
       "<div>\n",
       "<style scoped>\n",
       "    .dataframe tbody tr th:only-of-type {\n",
       "        vertical-align: middle;\n",
       "    }\n",
       "\n",
       "    .dataframe tbody tr th {\n",
       "        vertical-align: top;\n",
       "    }\n",
       "\n",
       "    .dataframe thead th {\n",
       "        text-align: right;\n",
       "    }\n",
       "</style>\n",
       "<table border=\"1\" class=\"dataframe\">\n",
       "  <thead>\n",
       "    <tr style=\"text-align: right;\">\n",
       "      <th></th>\n",
       "      <th>provincia</th>\n",
       "      <th>genero</th>\n",
       "      <th>edad</th>\n",
       "      <th>nac</th>\n",
       "      <th>neduc</th>\n",
       "      <th>sitlab</th>\n",
       "      <th>ingresos</th>\n",
       "      <th>horas</th>\n",
       "    </tr>\n",
       "  </thead>\n",
       "  <tbody>\n",
       "    <tr>\n",
       "      <th>0</th>\n",
       "      <td>Huesca</td>\n",
       "      <td>1</td>\n",
       "      <td>3</td>\n",
       "      <td>1</td>\n",
       "      <td>3</td>\n",
       "      <td>1</td>\n",
       "      <td>21237.1</td>\n",
       "      <td>36.42</td>\n",
       "    </tr>\n",
       "    <tr>\n",
       "      <th>1</th>\n",
       "      <td>Huesca</td>\n",
       "      <td>2</td>\n",
       "      <td>2</td>\n",
       "      <td>1</td>\n",
       "      <td>2</td>\n",
       "      <td>1</td>\n",
       "      <td>17810.8</td>\n",
       "      <td>31.72</td>\n",
       "    </tr>\n",
       "    <tr>\n",
       "      <th>2</th>\n",
       "      <td>Huesca</td>\n",
       "      <td>1</td>\n",
       "      <td>1</td>\n",
       "      <td>1</td>\n",
       "      <td>2</td>\n",
       "      <td>1</td>\n",
       "      <td>11889.1</td>\n",
       "      <td>31.88</td>\n",
       "    </tr>\n",
       "    <tr>\n",
       "      <th>3</th>\n",
       "      <td>Huesca</td>\n",
       "      <td>1</td>\n",
       "      <td>1</td>\n",
       "      <td>1</td>\n",
       "      <td>2</td>\n",
       "      <td>1</td>\n",
       "      <td>16000.5</td>\n",
       "      <td>38.18</td>\n",
       "    </tr>\n",
       "    <tr>\n",
       "      <th>4</th>\n",
       "      <td>Huesca</td>\n",
       "      <td>1</td>\n",
       "      <td>1</td>\n",
       "      <td>1</td>\n",
       "      <td>2</td>\n",
       "      <td>3</td>\n",
       "      <td>21169.6</td>\n",
       "      <td>0.00</td>\n",
       "    </tr>\n",
       "    <tr>\n",
       "      <th>...</th>\n",
       "      <td>...</td>\n",
       "      <td>...</td>\n",
       "      <td>...</td>\n",
       "      <td>...</td>\n",
       "      <td>...</td>\n",
       "      <td>...</td>\n",
       "      <td>...</td>\n",
       "      <td>...</td>\n",
       "    </tr>\n",
       "    <tr>\n",
       "      <th>1231</th>\n",
       "      <td>Zaragoza</td>\n",
       "      <td>1</td>\n",
       "      <td>2</td>\n",
       "      <td>1</td>\n",
       "      <td>2</td>\n",
       "      <td>1</td>\n",
       "      <td>11760.6</td>\n",
       "      <td>28.79</td>\n",
       "    </tr>\n",
       "    <tr>\n",
       "      <th>1232</th>\n",
       "      <td>Zaragoza</td>\n",
       "      <td>1</td>\n",
       "      <td>2</td>\n",
       "      <td>1</td>\n",
       "      <td>2</td>\n",
       "      <td>2</td>\n",
       "      <td>19321.6</td>\n",
       "      <td>0.00</td>\n",
       "    </tr>\n",
       "    <tr>\n",
       "      <th>1233</th>\n",
       "      <td>Zaragoza</td>\n",
       "      <td>2</td>\n",
       "      <td>2</td>\n",
       "      <td>1</td>\n",
       "      <td>2</td>\n",
       "      <td>1</td>\n",
       "      <td>19924.8</td>\n",
       "      <td>37.21</td>\n",
       "    </tr>\n",
       "    <tr>\n",
       "      <th>1234</th>\n",
       "      <td>Zaragoza</td>\n",
       "      <td>2</td>\n",
       "      <td>3</td>\n",
       "      <td>1</td>\n",
       "      <td>1</td>\n",
       "      <td>3</td>\n",
       "      <td>13042.5</td>\n",
       "      <td>0.00</td>\n",
       "    </tr>\n",
       "    <tr>\n",
       "      <th>1235</th>\n",
       "      <td>Zaragoza</td>\n",
       "      <td>1</td>\n",
       "      <td>3</td>\n",
       "      <td>1</td>\n",
       "      <td>1</td>\n",
       "      <td>1</td>\n",
       "      <td>19618.2</td>\n",
       "      <td>42.01</td>\n",
       "    </tr>\n",
       "  </tbody>\n",
       "</table>\n",
       "<p>1236 rows × 8 columns</p>\n",
       "</div>"
      ],
      "text/plain": [
       "     provincia genero edad nac neduc sitlab  ingresos  horas\n",
       "0       Huesca      1    3   1     3      1   21237.1  36.42\n",
       "1       Huesca      2    2   1     2      1   17810.8  31.72\n",
       "2       Huesca      1    1   1     2      1   11889.1  31.88\n",
       "3       Huesca      1    1   1     2      1   16000.5  38.18\n",
       "4       Huesca      1    1   1     2      3   21169.6   0.00\n",
       "...        ...    ...  ...  ..   ...    ...       ...    ...\n",
       "1231  Zaragoza      1    2   1     2      1   11760.6  28.79\n",
       "1232  Zaragoza      1    2   1     2      2   19321.6   0.00\n",
       "1233  Zaragoza      2    2   1     2      1   19924.8  37.21\n",
       "1234  Zaragoza      2    3   1     1      3   13042.5   0.00\n",
       "1235  Zaragoza      1    3   1     1      1   19618.2  42.01\n",
       "\n",
       "[1236 rows x 8 columns]"
      ]
     },
     "execution_count": 10,
     "metadata": {},
     "output_type": "execute_result"
    }
   ],
   "source": [
    "data_Python"
   ]
  },
  {
   "cell_type": "markdown",
   "metadata": {},
   "source": []
  },
  {
   "cell_type": "markdown",
   "metadata": {},
   "source": [
    "### Working with `R` <a class=\"anchor\" id=\"3\"></a>"
   ]
  },
  {
   "cell_type": "markdown",
   "metadata": {},
   "source": [
    "To work with R inside Python we will use the Python package `rpy2`"
   ]
  },
  {
   "cell_type": "code",
   "execution_count": 11,
   "metadata": {},
   "outputs": [
    {
     "name": "stderr",
     "output_type": "stream",
     "text": [
      "Unable to determine R home: [WinError 2] El sistema no puede encontrar el archivo especificado\n"
     ]
    }
   ],
   "source": [
    "# pip install rpy2\n",
    "\n",
    "import rpy2\n",
    "\n",
    "%load_ext rpy2.ipython\n",
    "\n",
    "import rpy2.robjects as robjects"
   ]
  },
  {
   "cell_type": "markdown",
   "metadata": {},
   "source": [
    "We prepare the data-set:"
   ]
  },
  {
   "cell_type": "code",
   "execution_count": 12,
   "metadata": {},
   "outputs": [
    {
     "name": "stderr",
     "output_type": "stream",
     "text": [
      "R[write to console]: -- Attaching packages --------------------------------------- tidyverse 1.3.1 --\n",
      "\n",
      "R[write to console]: v ggplot2 3.3.6     v purrr   0.3.4\n",
      "v tibble  3.1.7     v dplyr   1.0.9\n",
      "v tidyr   1.2.0     v stringr 1.4.0\n",
      "v readr   2.1.2     v forcats 0.5.1\n",
      "\n",
      "R[write to console]: -- Conflicts ------------------------------------------ tidyverse_conflicts() --\n",
      "x dplyr::filter() masks stats::filter()\n",
      "x dplyr::lag()    masks stats::lag()\n",
      "\n"
     ]
    },
    {
     "name": "stdout",
     "output_type": "stream",
     "text": [
      "Rows: 1236 Columns: 11\n",
      "-- Column specification --------------------------------------------------------\n",
      "Delimiter: \",\"\n",
      "chr  (1): nomprov\n",
      "dbl (10): ca, datosECVmas16.prov, gen, edad, nac, neduc, sitlab, ingnorm, ho...\n",
      "\n",
      "i Use `spec()` to retrieve the full column specification for this data.\n",
      "i Specify the column types or set `show_col_types = FALSE` to quiet this message.\n"
     ]
    }
   ],
   "source": [
    "%%R\n",
    "\n",
    "library(tidyverse)\n",
    "\n",
    "url = 'https://raw.githubusercontent.com/FabioScielzoOrtiz/Estadistica4all-blog/main/Descriptive%20Statisitcs%20in%20Python%20and%20R/datosAragon.csv'\n",
    "\n",
    "data_R <- read_csv(url)\n",
    "\n",
    "data_R <- data_R %>% select(3:10)\n",
    "\n",
    "data_R <- data_R %>% rename(\"genero\"=\"gen\",\n",
    "         \"provincia\"=\"nomprov\", \"ingresos\"=\"ingnorm\")\n",
    "\n",
    "data_R <- as.data.frame(data_R)"
   ]
  },
  {
   "cell_type": "code",
   "execution_count": 13,
   "metadata": {},
   "outputs": [
    {
     "name": "stdout",
     "output_type": "stream",
     "text": [
      "  provincia genero edad nac neduc sitlab ingresos horas\n",
      "1    Huesca      1    3   1     3      1  21237.1 36.42\n",
      "2    Huesca      2    2   1     2      1  17810.8 31.72\n",
      "3    Huesca      1    1   1     2      1  11889.1 31.88\n",
      "4    Huesca      1    1   1     2      1  16000.5 38.18\n",
      "5    Huesca      1    1   1     2      3  21169.6  0.00\n",
      "6    Huesca      1    2   1     2      1  16001.3 34.52\n"
     ]
    }
   ],
   "source": [
    "%%R\n",
    "\n",
    "head(data_R)"
   ]
  },
  {
   "cell_type": "markdown",
   "metadata": {},
   "source": []
  },
  {
   "cell_type": "markdown",
   "metadata": {},
   "source": [
    "## Data-set Description  <a class=\"anchor\" id=\"4\"></a>"
   ]
  },
  {
   "cell_type": "markdown",
   "metadata": {},
   "source": [
    "The definition of the variables are the following:\n",
    "\n",
    "-   **provincia**: indicates the province of the Aragon community which belong the sample individuals.\n",
    "\n",
    "-   **genero**: indicates the sex of the sample individuals. Take 1 if it's male and 2 if it's female.\n",
    "\n",
    "-   **edad**: indicates the age range of the sample individuals.\n",
    "    Take 1 if age is between 16 and 24 ages,  2 if age is between 25 and 49 ages, and 3 if age is between 50 and 64 ages, and 4 if age is greater or equal than 65 ages.\n",
    "\n",
    "-   **nacionalidad** (**nac**): indicates the nacionality of the sample individuals. If they are from Spain, it takes 1, and if they are from other country, it takes 2.\n",
    "\n",
    "-   **situacion laboral** (**sitlab**): indicates the labor situation of the sample individuals. It takes 1 if they are working, 2 if they are unemployed, and 3 if they are inactive.\n",
    "\n",
    "-   **ingresos** : indicates the incomes of the individuals in the sample.\n",
    "\n",
    "-   **horas** : indicates the number of working hours of the individuals in the sample.\n",
    "-   **neduc** : indicates the education level  of the individuals in the sample. It takes 1 if they have low education level, 2 if they have intermediate education level, and 3 if they have high education level. \n",
    "  "
   ]
  },
  {
   "cell_type": "markdown",
   "metadata": {},
   "source": []
  },
  {
   "cell_type": "markdown",
   "metadata": {},
   "source": [
    "## Statistical Variable <a class=\"anchor\" id=\"5\"></a>"
   ]
  },
  {
   "cell_type": "markdown",
   "metadata": {},
   "source": [
    "$$\n",
    "X_k= \\begin{pmatrix}\n",
    "x_{1k} \\\\\n",
    "x_{2k}\\\\\n",
    "... \\\\\n",
    "x_{nk} \n",
    "\\end{pmatrix} \n",
    "$$\n",
    "\n",
    "is a **statistical variable** because is a vector with the values or observations of  variable $X_k$ for $n$ elements or individuals of a sample.  \n",
    "\n",
    "Where:  $x_{ik}$  is the value or observation of  $X_k$ variable for the $i$ element of the sample."
   ]
  },
  {
   "cell_type": "markdown",
   "metadata": {},
   "source": []
  },
  {
   "cell_type": "markdown",
   "metadata": {},
   "source": [
    "## Data Martrix   <a class=\"anchor\" id=\"6\"></a>"
   ]
  },
  {
   "cell_type": "markdown",
   "metadata": {},
   "source": [
    "In general, if we have observed $p$ variables on a sample $\\varepsilon$ with $n$ elements/individuals ,\n",
    "\n",
    "The data matrix $X$  of the variables $X_1,...,X_p$ measurements on the sample is:\n",
    "\n",
    "$$\n",
    "X= \\begin{pmatrix}\n",
    "x_{11} & x_{12}&...&x_{1p}\\\\\n",
    "x_{21} & x_{22}&...&x_{2p}\\\\\n",
    "...&...&...&...\\\\\n",
    "x_{n1}& x_{n2}&...&x_{np}\n",
    "\\end{pmatrix}\n",
    "$$\n",
    "\n",
    "Note:  &nbsp;   $X$ is a matrix $nxp$"
   ]
  },
  {
   "cell_type": "markdown",
   "metadata": {},
   "source": []
  },
  {
   "cell_type": "markdown",
   "metadata": {},
   "source": [
    "### Data Martrix Representation by Rows   <a class=\"anchor\" id=\"7\"></a>"
   ]
  },
  {
   "cell_type": "markdown",
   "metadata": {},
   "source": [
    "$$\n",
    "X= \\begin{pmatrix}\n",
    "x_{1}^{t} \\\\\n",
    "x_{2} ^t \\\\\n",
    "... \\\\\n",
    "x_{n} ^t \n",
    "\\end{pmatrix}\n",
    "$$\n",
    "\n",
    "Where:\n",
    "\n",
    "$x_i ^t = (x_{i1}, x_{i2}, ..., x_{ip} )$ is the vector with the values of the $p$ variables $X_1,...,X_p$ for the $i$ element/individual  of the sample, for $i=1,...,n$"
   ]
  },
  {
   "cell_type": "markdown",
   "metadata": {},
   "source": []
  },
  {
   "cell_type": "markdown",
   "metadata": {},
   "source": [
    "### Data Martrix Representation by Columns   <a class=\"anchor\" id=\"8\"></a>\n"
   ]
  },
  {
   "cell_type": "markdown",
   "metadata": {},
   "source": [
    "We can express:\n",
    "\n",
    "$$\n",
    "X= (X_1 , X_2 ,..., X_p )\n",
    "$$\n",
    "\n",
    "Where: \n",
    "$$\n",
    "X_k= \\begin{pmatrix}\n",
    "x_{1k} \\\\\n",
    "x_{2k}\\\\\n",
    "... \\\\\n",
    "x_{nk} \n",
    "\\end{pmatrix} \n",
    "$$\n",
    "\n",
    "for $k=1,2,...,p$\n"
   ]
  },
  {
   "cell_type": "markdown",
   "metadata": {},
   "source": []
  },
  {
   "cell_type": "markdown",
   "metadata": {},
   "source": [
    "## Range of a Statistical Variable   <a class=\"anchor\" id=\"9\"></a>"
   ]
  },
  {
   "cell_type": "markdown",
   "metadata": {},
   "source": [
    "\n",
    "\n",
    "The **range** of a statistical variable  $X_k$ is the set of values that can be taken by the variable. \n",
    "\n",
    "\n",
    "Depending on the variable range we can define if the variable is **quantitative** or **categorical** . Clasification that has a particular relevance in statistics.\n",
    "\n",
    "<br /> \n",
    "\n",
    "Examples:\n",
    "\n",
    " \n",
    "$X_k =$ Incomes of 1000 employees of Amazon  &nbsp; $\\Rightarrow$  &nbsp;\n",
    "$Range(X_k) =[0, \\infty )$\n",
    "\n",
    " \n",
    "$X_k =$ brand of the car of 50 footballers &nbsp; $\\Rightarrow$  &nbsp;\n",
    "$Range(X_k) = \\lbrace Mercedes, Audi, ... \\rbrace$\n",
    "\n",
    " \n",
    "$X_k =$ Number of houses of 10 urbanizations  &nbsp; $\\Rightarrow$  &nbsp;\n",
    "$Range(X_k) = \\lbrace 0, 1, 2,... \\rbrace$"
   ]
  },
  {
   "cell_type": "markdown",
   "metadata": {},
   "source": []
  },
  {
   "cell_type": "markdown",
   "metadata": {},
   "source": [
    "## Types of Statistical Variable   <a class=\"anchor\" id=\"10\"></a>\n",
    "\n",
    "\n",
    "\n",
    "The variable $X_k$ is **quantitative** if the elements of it´s range are\n",
    "conceptually numbers.\n",
    "\n",
    "The variable $X_k$ is **categorical** if the elements of it´s range aree labels or categories (they can be numbers at a symbolic level but not at a conceptual level)\n"
   ]
  },
  {
   "cell_type": "markdown",
   "metadata": {},
   "source": []
  },
  {
   "cell_type": "markdown",
   "metadata": {},
   "source": [
    "### Types of Quantitative Variables <a class=\"anchor\" id=\"11\"></a>\n",
    "\n",
    "\n",
    " \n",
    "\n",
    "#### Discrete and Continuous Variables <a class=\"anchor\" id=\"12\"></a>\n",
    " \n",
    "\n",
    "Let $X_k$ a **quantitative** variable ,\n",
    "\n",
    " \n",
    "\n",
    "The variable $X_k$ is **discrete** if it´s range is a numerable set .\n",
    "\n",
    "The variable $X_k$ is **continuous** if it´s range isn´t a numerable set. \n",
    "\n",
    "<br /> \n",
    "\n",
    "**Note:**\n",
    "\n",
    "In particular, variables whose  **range** is a **finite** set\n",
    "will be **discrete**.\n",
    "\n",
    "variables whose  **range** isn´t a **finite** set\n",
    "will be **continuous**.\n",
    "\n",
    " <br /> \n"
   ]
  },
  {
   "cell_type": "markdown",
   "metadata": {},
   "source": [
    "\n",
    "### Types of Categorical Variables   <a class=\"anchor\" id=\"13\"></a>\n",
    "\n",
    "Let $X_k$ a **categorical** variable ,\n",
    "\n",
    "$X_k$ is **r-aria** if it´s range has **r** elements that are categories or labels.\n",
    "\n",
    "In Statistics **binary** (2-aria) categorical variables are particularly important.\n",
    " \n",
    "\n",
    " \n",
    "\n",
    "#### Nominal and Ordinal Variables <a class=\"anchor\" id=\"14\"></a>\n",
    "\n",
    "\n",
    "Let $X_k$ a  $r$-aria **categorical** variable ,\n",
    "\n",
    "The variable $X_k$ is **nominal** if **there is no ordering** between the $r$ categories of it´s range.\n",
    "\n",
    "The variable $X_k$ is **ordinal** if **there is ordering** between the $r$ categories of it´s range.\n",
    "\n",
    " <br /> \n",
    "\n",
    "**Examples:**  \n",
    "\n",
    "$Range(X_k)= \\lbrace Apple , Samsung, Oppo \\rbrace \\Rightarrow X_k$\n",
    "is nominal \n",
    "\n",
    "$Range(X_k)= \\lbrace mal , regular, bien \\rbrace \\Rightarrow X_k$ is\n",
    "  ordinal\n"
   ]
  },
  {
   "cell_type": "markdown",
   "metadata": {},
   "source": []
  },
  {
   "cell_type": "markdown",
   "metadata": {},
   "source": [
    "\n",
    "## Descriptive Statistic   <a class=\"anchor\" id=\"15\"></a>\n",
    "\n",
    "A descriptive statistic is a function of a sample elements.\n",
    "\n",
    "In general, all function applied on a statistical variable is a statistic.\n",
    "\n",
    " \n",
    "We will see some of  most important statistics.\n",
    " \n"
   ]
  },
  {
   "cell_type": "markdown",
   "metadata": {},
   "source": [
    "### Mean   <a class=\"anchor\" id=\"16\"></a>\n",
    " \n",
    "\n",
    "The arithmetic mean (or simply mean) of a variable $X_k$ is defined as: \n",
    "\n",
    "$$\n",
    "\\overline{X_k}=  \\frac{1}{n} \\cdot \\sum_{i=1}^{n} x_{ik} \n",
    "$$\n",
    "\n",
    " \n",
    "**Some Properties:**\n",
    "\n",
    "$$\n",
    "\\sum_{i=1}^{n} \\left( x_{ik} - \\overline{X_k} \\right) = 0\n",
    "$$\n",
    "  "
   ]
  },
  {
   "cell_type": "markdown",
   "metadata": {},
   "source": [
    "\n",
    "#### Mean in R  \n"
   ]
  },
  {
   "cell_type": "code",
   "execution_count": 14,
   "metadata": {},
   "outputs": [
    {
     "name": "stdout",
     "output_type": "stream",
     "text": [
      "  provincia genero edad nac neduc sitlab ingresos horas\n",
      "1    Huesca      1    3   1     3      1  21237.1 36.42\n",
      "2    Huesca      2    2   1     2      1  17810.8 31.72\n",
      "3    Huesca      1    1   1     2      1  11889.1 31.88\n",
      "4    Huesca      1    1   1     2      1  16000.5 38.18\n",
      "5    Huesca      1    1   1     2      3  21169.6  0.00\n",
      "6    Huesca      1    2   1     2      1  16001.3 34.52\n"
     ]
    }
   ],
   "source": [
    "%%R\n",
    "head(data_R)"
   ]
  },
  {
   "cell_type": "markdown",
   "metadata": {},
   "source": [
    "One way to compute the mean of a variable in R:"
   ]
  },
  {
   "cell_type": "code",
   "execution_count": 15,
   "metadata": {},
   "outputs": [
    {
     "name": "stdout",
     "output_type": "stream",
     "text": [
      "[1] 14078.77\n"
     ]
    }
   ],
   "source": [
    "%%R\n",
    "mean(data_R$ingresos)"
   ]
  },
  {
   "cell_type": "markdown",
   "metadata": {},
   "source": [
    "\n",
    "#### Mean in Python   "
   ]
  },
  {
   "cell_type": "code",
   "execution_count": 16,
   "metadata": {},
   "outputs": [
    {
     "data": {
      "text/html": [
       "<div>\n",
       "<style scoped>\n",
       "    .dataframe tbody tr th:only-of-type {\n",
       "        vertical-align: middle;\n",
       "    }\n",
       "\n",
       "    .dataframe tbody tr th {\n",
       "        vertical-align: top;\n",
       "    }\n",
       "\n",
       "    .dataframe thead th {\n",
       "        text-align: right;\n",
       "    }\n",
       "</style>\n",
       "<table border=\"1\" class=\"dataframe\">\n",
       "  <thead>\n",
       "    <tr style=\"text-align: right;\">\n",
       "      <th></th>\n",
       "      <th>provincia</th>\n",
       "      <th>genero</th>\n",
       "      <th>edad</th>\n",
       "      <th>nac</th>\n",
       "      <th>neduc</th>\n",
       "      <th>sitlab</th>\n",
       "      <th>ingresos</th>\n",
       "      <th>horas</th>\n",
       "    </tr>\n",
       "  </thead>\n",
       "  <tbody>\n",
       "    <tr>\n",
       "      <th>0</th>\n",
       "      <td>Huesca</td>\n",
       "      <td>1</td>\n",
       "      <td>3</td>\n",
       "      <td>1</td>\n",
       "      <td>3</td>\n",
       "      <td>1</td>\n",
       "      <td>21237.1</td>\n",
       "      <td>36.42</td>\n",
       "    </tr>\n",
       "    <tr>\n",
       "      <th>1</th>\n",
       "      <td>Huesca</td>\n",
       "      <td>2</td>\n",
       "      <td>2</td>\n",
       "      <td>1</td>\n",
       "      <td>2</td>\n",
       "      <td>1</td>\n",
       "      <td>17810.8</td>\n",
       "      <td>31.72</td>\n",
       "    </tr>\n",
       "    <tr>\n",
       "      <th>2</th>\n",
       "      <td>Huesca</td>\n",
       "      <td>1</td>\n",
       "      <td>1</td>\n",
       "      <td>1</td>\n",
       "      <td>2</td>\n",
       "      <td>1</td>\n",
       "      <td>11889.1</td>\n",
       "      <td>31.88</td>\n",
       "    </tr>\n",
       "    <tr>\n",
       "      <th>3</th>\n",
       "      <td>Huesca</td>\n",
       "      <td>1</td>\n",
       "      <td>1</td>\n",
       "      <td>1</td>\n",
       "      <td>2</td>\n",
       "      <td>1</td>\n",
       "      <td>16000.5</td>\n",
       "      <td>38.18</td>\n",
       "    </tr>\n",
       "    <tr>\n",
       "      <th>4</th>\n",
       "      <td>Huesca</td>\n",
       "      <td>1</td>\n",
       "      <td>1</td>\n",
       "      <td>1</td>\n",
       "      <td>2</td>\n",
       "      <td>3</td>\n",
       "      <td>21169.6</td>\n",
       "      <td>0.00</td>\n",
       "    </tr>\n",
       "  </tbody>\n",
       "</table>\n",
       "</div>"
      ],
      "text/plain": [
       "  provincia genero edad nac neduc sitlab  ingresos  horas\n",
       "0    Huesca      1    3   1     3      1   21237.1  36.42\n",
       "1    Huesca      2    2   1     2      1   17810.8  31.72\n",
       "2    Huesca      1    1   1     2      1   11889.1  31.88\n",
       "3    Huesca      1    1   1     2      1   16000.5  38.18\n",
       "4    Huesca      1    1   1     2      3   21169.6   0.00"
      ]
     },
     "execution_count": 16,
     "metadata": {},
     "output_type": "execute_result"
    }
   ],
   "source": [
    "data_Python >> head()"
   ]
  },
  {
   "cell_type": "markdown",
   "metadata": {},
   "source": [
    "One way to compute the mean of a variable in Python:"
   ]
  },
  {
   "cell_type": "code",
   "execution_count": 17,
   "metadata": {},
   "outputs": [
    {
     "data": {
      "text/plain": [
       "ingresos    14078.766909\n",
       "dtype: float64"
      ]
     },
     "execution_count": 17,
     "metadata": {},
     "output_type": "execute_result"
    }
   ],
   "source": [
    "data_Python[['ingresos']].mean() "
   ]
  },
  {
   "cell_type": "markdown",
   "metadata": {},
   "source": [
    "Another way:"
   ]
  },
  {
   "cell_type": "code",
   "execution_count": 18,
   "metadata": {},
   "outputs": [
    {
     "data": {
      "text/plain": [
       "ingresos    14078.766909\n",
       "dtype: float64"
      ]
     },
     "execution_count": 18,
     "metadata": {},
     "output_type": "execute_result"
    }
   ],
   "source": [
    "( data_Python >> select(X.ingresos) ).mean() "
   ]
  },
  {
   "cell_type": "markdown",
   "metadata": {},
   "source": []
  },
  {
   "cell_type": "markdown",
   "metadata": {},
   "source": [
    "### Mean Vector   <a class=\"anchor\" id=\"17\"></a>\n",
    "\n",
    "Given a data matrix $X$ of size $nxp$,\n",
    "\n",
    "The means vector of $X$ is: \n",
    "\n",
    "$$\n",
    "\\overline{X}=( \\overline{X_1} , \\overline{X_2} , ... , \\overline{X_p} ) ^t\n",
    "$$"
   ]
  },
  {
   "cell_type": "markdown",
   "metadata": {},
   "source": [
    "#### Mean Vector in Python  <a class=\"anchor\" id=\"12\"></a>\n"
   ]
  },
  {
   "cell_type": "markdown",
   "metadata": {},
   "source": [
    "We can also compute the mean of each variable of a data-set in a easy way:"
   ]
  },
  {
   "cell_type": "code",
   "execution_count": 19,
   "metadata": {},
   "outputs": [
    {
     "data": {
      "text/plain": [
       "ingresos    14078.766909\n",
       "horas          16.922532\n",
       "dtype: float64"
      ]
     },
     "execution_count": 19,
     "metadata": {},
     "output_type": "execute_result"
    }
   ],
   "source": [
    "data_Python.mean()"
   ]
  },
  {
   "cell_type": "markdown",
   "metadata": {},
   "source": [
    "#### Mean Vector in R  <a class=\"anchor\" id=\"12\"></a>"
   ]
  },
  {
   "cell_type": "code",
   "execution_count": 20,
   "metadata": {},
   "outputs": [
    {
     "name": "stdout",
     "output_type": "stream",
     "text": [
      "      genero         edad          nac        neduc       sitlab     ingresos \n",
      "    1.502427     2.555016     1.046117     1.805016     1.978155 14078.766909 \n",
      "       horas \n",
      "   16.922532 \n"
     ]
    }
   ],
   "source": [
    "%%R\n",
    "\n",
    "colMeans(data_R[ , 2:length(data_R)])"
   ]
  },
  {
   "cell_type": "markdown",
   "metadata": {},
   "source": [
    "### Matrix Expression of the Mean Vector   <a class=\"anchor\" id=\"18\"></a>\n",
    "\n",
    "The matrix expression of means vector of $X$ is:\n",
    " \n",
    "$$\n",
    "\\overline{X}= \\dfrac{1}{n} \\cdot X\\hspace{0.05cm}^t \\cdot \\overrightarrow{1}_{nx1}\n",
    "$$"
   ]
  },
  {
   "cell_type": "markdown",
   "metadata": {},
   "source": []
  },
  {
   "cell_type": "markdown",
   "metadata": {},
   "source": [
    "### Ponderate Mean   <a class=\"anchor\" id=\"19\"></a>\n",
    "\n",
    "\n",
    "\n",
    "Given the variable $X_k=(x_{1k}, x_{2k},...,x_{nk})^t$\n",
    "\n",
    "Given a weights for each observation of the variable\n",
    "$X_k$ : $w=(w_1,w_2,...,w_n)^t$\n",
    "\n",
    " \n",
    "The **weighted mean** de la variable $X_k$ con el vector de pesos $w$\n",
    "es: \n",
    "$$\n",
    "\\overline{X_k} (w) =   \\dfrac{\\sum_{i=1}^{n}  x_{ik}\\cdot w_i  }{ \\sum_{i=1}^{n}  w_{i} }  \n",
    "$$\n",
    "\n"
   ]
  },
  {
   "cell_type": "markdown",
   "metadata": {},
   "source": []
  },
  {
   "cell_type": "markdown",
   "metadata": {},
   "source": [
    "\n",
    "\n",
    "### Geometric Mean   <a class=\"anchor\" id=\"20\"></a>\n",
    "\n",
    "\n",
    "Given the variable $X_k=(x_{1k}, x_{2k},...,x_{nk})^t$\n",
    "\n",
    "\n",
    "The **geometric mean** of the variable $X_k$ is:\n",
    "\n",
    "$$\n",
    "\\overline{X_k}_{geom} =   \\sqrt{\\Pi_{i=1}^{n}  x_{ik}} = \\sqrt{x_{1k}\\cdot x_{2k}\\cdot...\\cdot x_{nk}} \n",
    "$$\n"
   ]
  },
  {
   "cell_type": "markdown",
   "metadata": {},
   "source": []
  },
  {
   "cell_type": "markdown",
   "metadata": {},
   "source": [
    "### Median  <a class=\"anchor\" id=\"21\"></a>\n",
    "\n",
    "The **median** of a variable $X_k$ is a values such that half of the observations of  $X_k$ are **less** than that value.\n",
    "\n",
    " \n",
    "\n",
    "Given the variable $X_k=(x_{1k}, x_{2k},...,x_{nk})^t$\n",
    "\n",
    "\n",
    "We order their values ​​from smallest to largest:\n",
    "\n",
    "$x_{(1)k} < x_{(2)k} < ...< x_{(n)k}$\n",
    "\n",
    " <br /> \n",
    "\n",
    "The median of the variable $X_k$ is:\n",
    "\n",
    "$$\n",
    "Median(X_k)=  \\left\\lbrace\\begin{array}{l} \\dfrac{ x_{(n/2)k} + x_{(n/2 + 1)k} }{2} \\hspace{0.3cm},\\text{ if $n$ is  {pair}} \\\\ x_{(\\lceil n/2 \\rceil)k} \\hspace{0.3cm},\\text{   if $n$ is  {odd}  }  \\end{array}\\right.\n",
    "$$\n",
    "\n"
   ]
  },
  {
   "cell_type": "markdown",
   "metadata": {},
   "source": []
  },
  {
   "cell_type": "markdown",
   "metadata": {},
   "source": [
    "\n",
    "#### Median in R  \n"
   ]
  },
  {
   "cell_type": "code",
   "execution_count": 21,
   "metadata": {},
   "outputs": [
    {
     "name": "stdout",
     "output_type": "stream",
     "text": [
      "[1] 12331\n"
     ]
    }
   ],
   "source": [
    "%%R\n",
    "\n",
    "median(data_R$ingresos) "
   ]
  },
  {
   "cell_type": "markdown",
   "metadata": {},
   "source": [
    "It can be verified that it is fulfilled the median definition:"
   ]
  },
  {
   "cell_type": "code",
   "execution_count": 22,
   "metadata": {},
   "outputs": [
    {
     "name": "stdout",
     "output_type": "stream",
     "text": [
      "[1] 0.5\n"
     ]
    }
   ],
   "source": [
    "%%R\n",
    "\n",
    "sum(data_R$ingresos < median(data_R$ingresos))/length(data_R$ingresos)"
   ]
  },
  {
   "cell_type": "markdown",
   "metadata": {},
   "source": []
  },
  {
   "cell_type": "markdown",
   "metadata": {},
   "source": [
    "\n",
    "#### Median in Python   \n"
   ]
  },
  {
   "cell_type": "code",
   "execution_count": 23,
   "metadata": {},
   "outputs": [
    {
     "data": {
      "text/plain": [
       "ingresos    12331.0\n",
       "dtype: float64"
      ]
     },
     "execution_count": 23,
     "metadata": {},
     "output_type": "execute_result"
    }
   ],
   "source": [
    "( data_Python >> select(X.ingresos) ).median() "
   ]
  },
  {
   "cell_type": "code",
   "execution_count": 24,
   "metadata": {},
   "outputs": [
    {
     "data": {
      "text/plain": [
       "ingresos    12331.0\n",
       "dtype: float64"
      ]
     },
     "execution_count": 24,
     "metadata": {},
     "output_type": "execute_result"
    }
   ],
   "source": [
    "data_Python[['ingresos']].median() "
   ]
  },
  {
   "cell_type": "code",
   "execution_count": 25,
   "metadata": {},
   "outputs": [
    {
     "data": {
      "text/html": [
       "<div>\n",
       "<style scoped>\n",
       "    .dataframe tbody tr th:only-of-type {\n",
       "        vertical-align: middle;\n",
       "    }\n",
       "\n",
       "    .dataframe tbody tr th {\n",
       "        vertical-align: top;\n",
       "    }\n",
       "\n",
       "    .dataframe thead th {\n",
       "        text-align: right;\n",
       "    }\n",
       "</style>\n",
       "<table border=\"1\" class=\"dataframe\">\n",
       "  <thead>\n",
       "    <tr style=\"text-align: right;\">\n",
       "      <th></th>\n",
       "      <th>ingresos</th>\n",
       "    </tr>\n",
       "  </thead>\n",
       "  <tbody>\n",
       "    <tr>\n",
       "      <th>0</th>\n",
       "      <td>False</td>\n",
       "    </tr>\n",
       "    <tr>\n",
       "      <th>1</th>\n",
       "      <td>False</td>\n",
       "    </tr>\n",
       "    <tr>\n",
       "      <th>2</th>\n",
       "      <td>True</td>\n",
       "    </tr>\n",
       "    <tr>\n",
       "      <th>3</th>\n",
       "      <td>False</td>\n",
       "    </tr>\n",
       "    <tr>\n",
       "      <th>4</th>\n",
       "      <td>False</td>\n",
       "    </tr>\n",
       "    <tr>\n",
       "      <th>...</th>\n",
       "      <td>...</td>\n",
       "    </tr>\n",
       "    <tr>\n",
       "      <th>1231</th>\n",
       "      <td>True</td>\n",
       "    </tr>\n",
       "    <tr>\n",
       "      <th>1232</th>\n",
       "      <td>False</td>\n",
       "    </tr>\n",
       "    <tr>\n",
       "      <th>1233</th>\n",
       "      <td>False</td>\n",
       "    </tr>\n",
       "    <tr>\n",
       "      <th>1234</th>\n",
       "      <td>False</td>\n",
       "    </tr>\n",
       "    <tr>\n",
       "      <th>1235</th>\n",
       "      <td>False</td>\n",
       "    </tr>\n",
       "  </tbody>\n",
       "</table>\n",
       "<p>1236 rows × 1 columns</p>\n",
       "</div>"
      ],
      "text/plain": [
       "      ingresos\n",
       "0        False\n",
       "1        False\n",
       "2         True\n",
       "3        False\n",
       "4        False\n",
       "...        ...\n",
       "1231      True\n",
       "1232     False\n",
       "1233     False\n",
       "1234     False\n",
       "1235     False\n",
       "\n",
       "[1236 rows x 1 columns]"
      ]
     },
     "execution_count": 25,
     "metadata": {},
     "output_type": "execute_result"
    }
   ],
   "source": [
    "data_Python[['ingresos']] < data_Python[['ingresos']].median()"
   ]
  },
  {
   "cell_type": "markdown",
   "metadata": {},
   "source": [
    "As in R, we can verify that it is fulfilled the median definition:"
   ]
  },
  {
   "cell_type": "code",
   "execution_count": 26,
   "metadata": {},
   "outputs": [
    {
     "data": {
      "text/plain": [
       "ingresos    0.5\n",
       "dtype: float64"
      ]
     },
     "execution_count": 26,
     "metadata": {},
     "output_type": "execute_result"
    }
   ],
   "source": [
    "( data_Python[['ingresos']] < data_Python[['ingresos']].median() ).sum() / len(data_Python)"
   ]
  },
  {
   "cell_type": "markdown",
   "metadata": {},
   "source": []
  },
  {
   "cell_type": "markdown",
   "metadata": {},
   "source": [
    "### Quantiles <a class=\"anchor\" id=\"22\"></a>\n",
    "\n",
    "The quantile of order $p$ of the variable $X_k$ is the value $Q(p, X_k)$ such that the proportion of observations of $X_k$ that are less than $Q(p, X_k)$ is $p$\n",
    "\n",
    "\n",
    "More formally:\n",
    "<br>\n",
    "\n",
    "\n",
    "\n",
    "$Q(p, X_k)$   &nbsp; is the quantile of order $p$ of $X_k$\n",
    "&nbsp; $\\Leftrightarrow$ \n",
    "\n",
    "<br>\n",
    "\n",
    "$$\n",
    "\\Leftrightarrow \\hspace{0.3cm} \\dfrac{\\# \\lbrace \\hspace{0.05cm} i=1,..,n  \\hspace{0.15cm} / \\hspace{0.15cm}  x_{ik} < Q(p, X_k) \\hspace{0.05cm}   \\rbrace}{n} = p\n",
    "$$\n",
    "\n",
    "<br>\n",
    "\n",
    "Note:  the median is the quantile of order $p=0.5$\n",
    "\n"
   ]
  },
  {
   "cell_type": "markdown",
   "metadata": {},
   "source": []
  },
  {
   "cell_type": "markdown",
   "metadata": {},
   "source": [
    "#### Quantiles in R"
   ]
  },
  {
   "cell_type": "code",
   "execution_count": 27,
   "metadata": {},
   "outputs": [
    {
     "name": "stdout",
     "output_type": "stream",
     "text": [
      "      0%      25%      50%      75%     100% \n",
      " -999.50  8310.60 12331.00 18269.38 58470.40 \n"
     ]
    }
   ],
   "source": [
    "%%R\n",
    "\n",
    "quantile(data_R$ingresos)"
   ]
  },
  {
   "cell_type": "code",
   "execution_count": 28,
   "metadata": {},
   "outputs": [
    {
     "name": "stdout",
     "output_type": "stream",
     "text": [
      "    85% \n",
      "21840.8 \n"
     ]
    }
   ],
   "source": [
    "%%R\n",
    "\n",
    "quantile(data_R$ingresos, 0.85)"
   ]
  },
  {
   "cell_type": "code",
   "execution_count": 29,
   "metadata": {},
   "outputs": [
    {
     "name": "stdout",
     "output_type": "stream",
     "text": [
      "     37% \n",
      "10329.74 \n"
     ]
    }
   ],
   "source": [
    "%%R\n",
    "\n",
    "quantile(data_R$ingresos, 0.37)"
   ]
  },
  {
   "cell_type": "markdown",
   "metadata": {},
   "source": []
  },
  {
   "cell_type": "markdown",
   "metadata": {},
   "source": [
    "#### Quantiles in Python"
   ]
  },
  {
   "cell_type": "code",
   "execution_count": 30,
   "metadata": {},
   "outputs": [
    {
     "data": {
      "text/html": [
       "<div>\n",
       "<style scoped>\n",
       "    .dataframe tbody tr th:only-of-type {\n",
       "        vertical-align: middle;\n",
       "    }\n",
       "\n",
       "    .dataframe tbody tr th {\n",
       "        vertical-align: top;\n",
       "    }\n",
       "\n",
       "    .dataframe thead th {\n",
       "        text-align: right;\n",
       "    }\n",
       "</style>\n",
       "<table border=\"1\" class=\"dataframe\">\n",
       "  <thead>\n",
       "    <tr style=\"text-align: right;\">\n",
       "      <th></th>\n",
       "      <th>provincia</th>\n",
       "      <th>genero</th>\n",
       "      <th>edad</th>\n",
       "      <th>nac</th>\n",
       "      <th>neduc</th>\n",
       "      <th>sitlab</th>\n",
       "      <th>ingresos</th>\n",
       "      <th>horas</th>\n",
       "    </tr>\n",
       "  </thead>\n",
       "  <tbody>\n",
       "    <tr>\n",
       "      <th>0</th>\n",
       "      <td>Huesca</td>\n",
       "      <td>1</td>\n",
       "      <td>3</td>\n",
       "      <td>1</td>\n",
       "      <td>3</td>\n",
       "      <td>1</td>\n",
       "      <td>21237.1</td>\n",
       "      <td>36.42</td>\n",
       "    </tr>\n",
       "    <tr>\n",
       "      <th>1</th>\n",
       "      <td>Huesca</td>\n",
       "      <td>2</td>\n",
       "      <td>2</td>\n",
       "      <td>1</td>\n",
       "      <td>2</td>\n",
       "      <td>1</td>\n",
       "      <td>17810.8</td>\n",
       "      <td>31.72</td>\n",
       "    </tr>\n",
       "    <tr>\n",
       "      <th>2</th>\n",
       "      <td>Huesca</td>\n",
       "      <td>1</td>\n",
       "      <td>1</td>\n",
       "      <td>1</td>\n",
       "      <td>2</td>\n",
       "      <td>1</td>\n",
       "      <td>11889.1</td>\n",
       "      <td>31.88</td>\n",
       "    </tr>\n",
       "    <tr>\n",
       "      <th>3</th>\n",
       "      <td>Huesca</td>\n",
       "      <td>1</td>\n",
       "      <td>1</td>\n",
       "      <td>1</td>\n",
       "      <td>2</td>\n",
       "      <td>1</td>\n",
       "      <td>16000.5</td>\n",
       "      <td>38.18</td>\n",
       "    </tr>\n",
       "    <tr>\n",
       "      <th>4</th>\n",
       "      <td>Huesca</td>\n",
       "      <td>1</td>\n",
       "      <td>1</td>\n",
       "      <td>1</td>\n",
       "      <td>2</td>\n",
       "      <td>3</td>\n",
       "      <td>21169.6</td>\n",
       "      <td>0.00</td>\n",
       "    </tr>\n",
       "    <tr>\n",
       "      <th>...</th>\n",
       "      <td>...</td>\n",
       "      <td>...</td>\n",
       "      <td>...</td>\n",
       "      <td>...</td>\n",
       "      <td>...</td>\n",
       "      <td>...</td>\n",
       "      <td>...</td>\n",
       "      <td>...</td>\n",
       "    </tr>\n",
       "    <tr>\n",
       "      <th>1231</th>\n",
       "      <td>Zaragoza</td>\n",
       "      <td>1</td>\n",
       "      <td>2</td>\n",
       "      <td>1</td>\n",
       "      <td>2</td>\n",
       "      <td>1</td>\n",
       "      <td>11760.6</td>\n",
       "      <td>28.79</td>\n",
       "    </tr>\n",
       "    <tr>\n",
       "      <th>1232</th>\n",
       "      <td>Zaragoza</td>\n",
       "      <td>1</td>\n",
       "      <td>2</td>\n",
       "      <td>1</td>\n",
       "      <td>2</td>\n",
       "      <td>2</td>\n",
       "      <td>19321.6</td>\n",
       "      <td>0.00</td>\n",
       "    </tr>\n",
       "    <tr>\n",
       "      <th>1233</th>\n",
       "      <td>Zaragoza</td>\n",
       "      <td>2</td>\n",
       "      <td>2</td>\n",
       "      <td>1</td>\n",
       "      <td>2</td>\n",
       "      <td>1</td>\n",
       "      <td>19924.8</td>\n",
       "      <td>37.21</td>\n",
       "    </tr>\n",
       "    <tr>\n",
       "      <th>1234</th>\n",
       "      <td>Zaragoza</td>\n",
       "      <td>2</td>\n",
       "      <td>3</td>\n",
       "      <td>1</td>\n",
       "      <td>1</td>\n",
       "      <td>3</td>\n",
       "      <td>13042.5</td>\n",
       "      <td>0.00</td>\n",
       "    </tr>\n",
       "    <tr>\n",
       "      <th>1235</th>\n",
       "      <td>Zaragoza</td>\n",
       "      <td>1</td>\n",
       "      <td>3</td>\n",
       "      <td>1</td>\n",
       "      <td>1</td>\n",
       "      <td>1</td>\n",
       "      <td>19618.2</td>\n",
       "      <td>42.01</td>\n",
       "    </tr>\n",
       "  </tbody>\n",
       "</table>\n",
       "<p>1236 rows × 8 columns</p>\n",
       "</div>"
      ],
      "text/plain": [
       "     provincia genero edad nac neduc sitlab  ingresos  horas\n",
       "0       Huesca      1    3   1     3      1   21237.1  36.42\n",
       "1       Huesca      2    2   1     2      1   17810.8  31.72\n",
       "2       Huesca      1    1   1     2      1   11889.1  31.88\n",
       "3       Huesca      1    1   1     2      1   16000.5  38.18\n",
       "4       Huesca      1    1   1     2      3   21169.6   0.00\n",
       "...        ...    ...  ...  ..   ...    ...       ...    ...\n",
       "1231  Zaragoza      1    2   1     2      1   11760.6  28.79\n",
       "1232  Zaragoza      1    2   1     2      2   19321.6   0.00\n",
       "1233  Zaragoza      2    2   1     2      1   19924.8  37.21\n",
       "1234  Zaragoza      2    3   1     1      3   13042.5   0.00\n",
       "1235  Zaragoza      1    3   1     1      1   19618.2  42.01\n",
       "\n",
       "[1236 rows x 8 columns]"
      ]
     },
     "execution_count": 30,
     "metadata": {},
     "output_type": "execute_result"
    }
   ],
   "source": [
    "data_Python"
   ]
  },
  {
   "cell_type": "code",
   "execution_count": 31,
   "metadata": {},
   "outputs": [
    {
     "data": {
      "text/plain": [
       "array([ -999.5  ,  8310.6  , 12331.   , 18269.375, 58470.4  ])"
      ]
     },
     "execution_count": 31,
     "metadata": {},
     "output_type": "execute_result"
    }
   ],
   "source": [
    "np.quantile( data_Python[['ingresos']] , [0, 0.25, 0.5, 0.75 , 1])"
   ]
  },
  {
   "cell_type": "code",
   "execution_count": 32,
   "metadata": {},
   "outputs": [
    {
     "data": {
      "text/plain": [
       "10329.735"
      ]
     },
     "execution_count": 32,
     "metadata": {},
     "output_type": "execute_result"
    }
   ],
   "source": [
    "np.quantile( data_Python[['ingresos']] , 0.37)"
   ]
  },
  {
   "cell_type": "code",
   "execution_count": 33,
   "metadata": {},
   "outputs": [
    {
     "data": {
      "text/plain": [
       "21840.800000000003"
      ]
     },
     "execution_count": 33,
     "metadata": {},
     "output_type": "execute_result"
    }
   ],
   "source": [
    "np.quantile( data_Python[['ingresos']] , 0.85)"
   ]
  },
  {
   "cell_type": "markdown",
   "metadata": {},
   "source": [
    "We can create a data-frame with the main quantiles of the cuantitative variables ingresos and horas:"
   ]
  },
  {
   "cell_type": "code",
   "execution_count": 34,
   "metadata": {},
   "outputs": [],
   "source": [
    "a = np.quantile( data_Python[['ingresos']] , [0, 0.25, 0.5, 0.75 , 1])\n",
    "b = np.quantile( data_Python[['horas']] , [0, 0.25, 0.5, 0.75 , 1])\n",
    "\n",
    "a = pd.DataFrame( { 'ingresos' : a } )\n",
    "b = pd.DataFrame( { 'horas' : b } )\n",
    "\n",
    "c = a >> bind_cols(b , join='inner')\n",
    "\n",
    "c['index']=['Q(0)','Q(0.25)', 'Q(0.5)', 'Q(0.75)', 'Q(1)'] \n",
    "\n",
    "c = c.set_index('index')"
   ]
  },
  {
   "cell_type": "code",
   "execution_count": 35,
   "metadata": {},
   "outputs": [
    {
     "data": {
      "text/html": [
       "<div>\n",
       "<style scoped>\n",
       "    .dataframe tbody tr th:only-of-type {\n",
       "        vertical-align: middle;\n",
       "    }\n",
       "\n",
       "    .dataframe tbody tr th {\n",
       "        vertical-align: top;\n",
       "    }\n",
       "\n",
       "    .dataframe thead th {\n",
       "        text-align: right;\n",
       "    }\n",
       "</style>\n",
       "<table border=\"1\" class=\"dataframe\">\n",
       "  <thead>\n",
       "    <tr style=\"text-align: right;\">\n",
       "      <th></th>\n",
       "      <th>ingresos</th>\n",
       "      <th>horas</th>\n",
       "    </tr>\n",
       "    <tr>\n",
       "      <th>index</th>\n",
       "      <th></th>\n",
       "      <th></th>\n",
       "    </tr>\n",
       "  </thead>\n",
       "  <tbody>\n",
       "    <tr>\n",
       "      <th>Q(0)</th>\n",
       "      <td>-999.500</td>\n",
       "      <td>0.0000</td>\n",
       "    </tr>\n",
       "    <tr>\n",
       "      <th>Q(0.25)</th>\n",
       "      <td>8310.600</td>\n",
       "      <td>0.0000</td>\n",
       "    </tr>\n",
       "    <tr>\n",
       "      <th>Q(0.5)</th>\n",
       "      <td>12331.000</td>\n",
       "      <td>12.3850</td>\n",
       "    </tr>\n",
       "    <tr>\n",
       "      <th>Q(0.75)</th>\n",
       "      <td>18269.375</td>\n",
       "      <td>33.8625</td>\n",
       "    </tr>\n",
       "    <tr>\n",
       "      <th>Q(1)</th>\n",
       "      <td>58470.400</td>\n",
       "      <td>42.7800</td>\n",
       "    </tr>\n",
       "  </tbody>\n",
       "</table>\n",
       "</div>"
      ],
      "text/plain": [
       "          ingresos    horas\n",
       "index                      \n",
       "Q(0)      -999.500   0.0000\n",
       "Q(0.25)   8310.600   0.0000\n",
       "Q(0.5)   12331.000  12.3850\n",
       "Q(0.75)  18269.375  33.8625\n",
       "Q(1)     58470.400  42.7800"
      ]
     },
     "execution_count": 35,
     "metadata": {},
     "output_type": "execute_result"
    }
   ],
   "source": [
    "c"
   ]
  },
  {
   "cell_type": "markdown",
   "metadata": {},
   "source": []
  },
  {
   "cell_type": "markdown",
   "metadata": {},
   "source": [
    "### Variance and Standard Deviation <a class=\"anchor\" id=\"23\"></a>\n",
    "\n",
    "\n",
    "La varianza de la variable $X_k$ es: \n",
    "$$\n",
    "\\sigma^2(X_k)=  \\dfrac{1}{n} \\sum_{i=1}^{n} (x_{ik} - \\overline{x_k})^2 \n",
    "$$\n",
    "\n",
    "\n",
    "La desviación típica de la variable $X_k$ es: \n",
    "$$\n",
    "\\sigma(X_k)= \\sqrt{\\dfrac{1}{n} \\sum_{i=1}^{n} (x_{ik} - \\overline{x_k})^2}\n",
    "$$\n",
    "\n"
   ]
  },
  {
   "cell_type": "markdown",
   "metadata": {},
   "source": []
  },
  {
   "cell_type": "markdown",
   "metadata": {},
   "source": [
    "\n",
    "#### Variance and Standard Deviation in R\n"
   ]
  },
  {
   "cell_type": "code",
   "execution_count": 36,
   "metadata": {},
   "outputs": [
    {
     "name": "stdout",
     "output_type": "stream",
     "text": [
      "[1] 67924827\n"
     ]
    }
   ],
   "source": [
    "%%R\n",
    "\n",
    "var(data_R$ingresos)"
   ]
  },
  {
   "cell_type": "code",
   "execution_count": 37,
   "metadata": {},
   "outputs": [
    {
     "name": "stdout",
     "output_type": "stream",
     "text": [
      "[1] 8241.652\n"
     ]
    }
   ],
   "source": [
    "%%R\n",
    "\n",
    "sd(data_R$ingresos)"
   ]
  },
  {
   "cell_type": "markdown",
   "metadata": {},
   "source": []
  },
  {
   "cell_type": "markdown",
   "metadata": {},
   "source": [
    "#### Variance and Standard Deviation in Python\n"
   ]
  },
  {
   "cell_type": "code",
   "execution_count": 38,
   "metadata": {},
   "outputs": [
    {
     "data": {
      "text/plain": [
       "ingresos    67924827.0\n",
       "dtype: float64"
      ]
     },
     "execution_count": 38,
     "metadata": {},
     "output_type": "execute_result"
    }
   ],
   "source": [
    "round( data_Python[['ingresos']].var() )"
   ]
  },
  {
   "cell_type": "code",
   "execution_count": 39,
   "metadata": {},
   "outputs": [
    {
     "data": {
      "text/plain": [
       "ingresos    8241.651951\n",
       "dtype: float64"
      ]
     },
     "execution_count": 39,
     "metadata": {},
     "output_type": "execute_result"
    }
   ],
   "source": [
    "data_Python[['ingresos']].std()"
   ]
  },
  {
   "cell_type": "markdown",
   "metadata": {},
   "source": []
  },
  {
   "cell_type": "markdown",
   "metadata": {},
   "source": [
    "## Basic descriptive summary in Python <a class=\"anchor\" id=\"24\"></a>"
   ]
  },
  {
   "cell_type": "code",
   "execution_count": 40,
   "metadata": {},
   "outputs": [
    {
     "data": {
      "text/html": [
       "<div>\n",
       "<style scoped>\n",
       "    .dataframe tbody tr th:only-of-type {\n",
       "        vertical-align: middle;\n",
       "    }\n",
       "\n",
       "    .dataframe tbody tr th {\n",
       "        vertical-align: top;\n",
       "    }\n",
       "\n",
       "    .dataframe thead th {\n",
       "        text-align: right;\n",
       "    }\n",
       "</style>\n",
       "<table border=\"1\" class=\"dataframe\">\n",
       "  <thead>\n",
       "    <tr style=\"text-align: right;\">\n",
       "      <th></th>\n",
       "      <th>provincia</th>\n",
       "      <th>genero</th>\n",
       "      <th>edad</th>\n",
       "      <th>nac</th>\n",
       "      <th>neduc</th>\n",
       "      <th>sitlab</th>\n",
       "      <th>ingresos</th>\n",
       "      <th>horas</th>\n",
       "    </tr>\n",
       "  </thead>\n",
       "  <tbody>\n",
       "    <tr>\n",
       "      <th>0</th>\n",
       "      <td>Huesca</td>\n",
       "      <td>1</td>\n",
       "      <td>3</td>\n",
       "      <td>1</td>\n",
       "      <td>3</td>\n",
       "      <td>1</td>\n",
       "      <td>21237.1</td>\n",
       "      <td>36.42</td>\n",
       "    </tr>\n",
       "    <tr>\n",
       "      <th>1</th>\n",
       "      <td>Huesca</td>\n",
       "      <td>2</td>\n",
       "      <td>2</td>\n",
       "      <td>1</td>\n",
       "      <td>2</td>\n",
       "      <td>1</td>\n",
       "      <td>17810.8</td>\n",
       "      <td>31.72</td>\n",
       "    </tr>\n",
       "    <tr>\n",
       "      <th>2</th>\n",
       "      <td>Huesca</td>\n",
       "      <td>1</td>\n",
       "      <td>1</td>\n",
       "      <td>1</td>\n",
       "      <td>2</td>\n",
       "      <td>1</td>\n",
       "      <td>11889.1</td>\n",
       "      <td>31.88</td>\n",
       "    </tr>\n",
       "    <tr>\n",
       "      <th>3</th>\n",
       "      <td>Huesca</td>\n",
       "      <td>1</td>\n",
       "      <td>1</td>\n",
       "      <td>1</td>\n",
       "      <td>2</td>\n",
       "      <td>1</td>\n",
       "      <td>16000.5</td>\n",
       "      <td>38.18</td>\n",
       "    </tr>\n",
       "    <tr>\n",
       "      <th>4</th>\n",
       "      <td>Huesca</td>\n",
       "      <td>1</td>\n",
       "      <td>1</td>\n",
       "      <td>1</td>\n",
       "      <td>2</td>\n",
       "      <td>3</td>\n",
       "      <td>21169.6</td>\n",
       "      <td>0.00</td>\n",
       "    </tr>\n",
       "    <tr>\n",
       "      <th>...</th>\n",
       "      <td>...</td>\n",
       "      <td>...</td>\n",
       "      <td>...</td>\n",
       "      <td>...</td>\n",
       "      <td>...</td>\n",
       "      <td>...</td>\n",
       "      <td>...</td>\n",
       "      <td>...</td>\n",
       "    </tr>\n",
       "    <tr>\n",
       "      <th>1231</th>\n",
       "      <td>Zaragoza</td>\n",
       "      <td>1</td>\n",
       "      <td>2</td>\n",
       "      <td>1</td>\n",
       "      <td>2</td>\n",
       "      <td>1</td>\n",
       "      <td>11760.6</td>\n",
       "      <td>28.79</td>\n",
       "    </tr>\n",
       "    <tr>\n",
       "      <th>1232</th>\n",
       "      <td>Zaragoza</td>\n",
       "      <td>1</td>\n",
       "      <td>2</td>\n",
       "      <td>1</td>\n",
       "      <td>2</td>\n",
       "      <td>2</td>\n",
       "      <td>19321.6</td>\n",
       "      <td>0.00</td>\n",
       "    </tr>\n",
       "    <tr>\n",
       "      <th>1233</th>\n",
       "      <td>Zaragoza</td>\n",
       "      <td>2</td>\n",
       "      <td>2</td>\n",
       "      <td>1</td>\n",
       "      <td>2</td>\n",
       "      <td>1</td>\n",
       "      <td>19924.8</td>\n",
       "      <td>37.21</td>\n",
       "    </tr>\n",
       "    <tr>\n",
       "      <th>1234</th>\n",
       "      <td>Zaragoza</td>\n",
       "      <td>2</td>\n",
       "      <td>3</td>\n",
       "      <td>1</td>\n",
       "      <td>1</td>\n",
       "      <td>3</td>\n",
       "      <td>13042.5</td>\n",
       "      <td>0.00</td>\n",
       "    </tr>\n",
       "    <tr>\n",
       "      <th>1235</th>\n",
       "      <td>Zaragoza</td>\n",
       "      <td>1</td>\n",
       "      <td>3</td>\n",
       "      <td>1</td>\n",
       "      <td>1</td>\n",
       "      <td>1</td>\n",
       "      <td>19618.2</td>\n",
       "      <td>42.01</td>\n",
       "    </tr>\n",
       "  </tbody>\n",
       "</table>\n",
       "<p>1236 rows × 8 columns</p>\n",
       "</div>"
      ],
      "text/plain": [
       "     provincia genero edad nac neduc sitlab  ingresos  horas\n",
       "0       Huesca      1    3   1     3      1   21237.1  36.42\n",
       "1       Huesca      2    2   1     2      1   17810.8  31.72\n",
       "2       Huesca      1    1   1     2      1   11889.1  31.88\n",
       "3       Huesca      1    1   1     2      1   16000.5  38.18\n",
       "4       Huesca      1    1   1     2      3   21169.6   0.00\n",
       "...        ...    ...  ...  ..   ...    ...       ...    ...\n",
       "1231  Zaragoza      1    2   1     2      1   11760.6  28.79\n",
       "1232  Zaragoza      1    2   1     2      2   19321.6   0.00\n",
       "1233  Zaragoza      2    2   1     2      1   19924.8  37.21\n",
       "1234  Zaragoza      2    3   1     1      3   13042.5   0.00\n",
       "1235  Zaragoza      1    3   1     1      1   19618.2  42.01\n",
       "\n",
       "[1236 rows x 8 columns]"
      ]
     },
     "execution_count": 40,
     "metadata": {},
     "output_type": "execute_result"
    }
   ],
   "source": [
    "data_Python"
   ]
  },
  {
   "cell_type": "markdown",
   "metadata": {},
   "source": [
    "Numeric description of the quantitatives variables of the data-set:"
   ]
  },
  {
   "cell_type": "code",
   "execution_count": 41,
   "metadata": {},
   "outputs": [
    {
     "data": {
      "text/html": [
       "<div>\n",
       "<style scoped>\n",
       "    .dataframe tbody tr th:only-of-type {\n",
       "        vertical-align: middle;\n",
       "    }\n",
       "\n",
       "    .dataframe tbody tr th {\n",
       "        vertical-align: top;\n",
       "    }\n",
       "\n",
       "    .dataframe thead th {\n",
       "        text-align: right;\n",
       "    }\n",
       "</style>\n",
       "<table border=\"1\" class=\"dataframe\">\n",
       "  <thead>\n",
       "    <tr style=\"text-align: right;\">\n",
       "      <th></th>\n",
       "      <th>ingresos</th>\n",
       "      <th>horas</th>\n",
       "    </tr>\n",
       "  </thead>\n",
       "  <tbody>\n",
       "    <tr>\n",
       "      <th>count</th>\n",
       "      <td>1236.000000</td>\n",
       "      <td>1236.000000</td>\n",
       "    </tr>\n",
       "    <tr>\n",
       "      <th>mean</th>\n",
       "      <td>14078.766909</td>\n",
       "      <td>16.922532</td>\n",
       "    </tr>\n",
       "    <tr>\n",
       "      <th>std</th>\n",
       "      <td>8241.651951</td>\n",
       "      <td>17.054312</td>\n",
       "    </tr>\n",
       "    <tr>\n",
       "      <th>min</th>\n",
       "      <td>-999.500000</td>\n",
       "      <td>0.000000</td>\n",
       "    </tr>\n",
       "    <tr>\n",
       "      <th>25%</th>\n",
       "      <td>8310.600000</td>\n",
       "      <td>0.000000</td>\n",
       "    </tr>\n",
       "    <tr>\n",
       "      <th>50%</th>\n",
       "      <td>12331.000000</td>\n",
       "      <td>12.385000</td>\n",
       "    </tr>\n",
       "    <tr>\n",
       "      <th>75%</th>\n",
       "      <td>18269.375000</td>\n",
       "      <td>33.862500</td>\n",
       "    </tr>\n",
       "    <tr>\n",
       "      <th>max</th>\n",
       "      <td>58470.400000</td>\n",
       "      <td>42.780000</td>\n",
       "    </tr>\n",
       "  </tbody>\n",
       "</table>\n",
       "</div>"
      ],
      "text/plain": [
       "           ingresos        horas\n",
       "count   1236.000000  1236.000000\n",
       "mean   14078.766909    16.922532\n",
       "std     8241.651951    17.054312\n",
       "min     -999.500000     0.000000\n",
       "25%     8310.600000     0.000000\n",
       "50%    12331.000000    12.385000\n",
       "75%    18269.375000    33.862500\n",
       "max    58470.400000    42.780000"
      ]
     },
     "execution_count": 41,
     "metadata": {},
     "output_type": "execute_result"
    }
   ],
   "source": [
    "data_Python.describe()"
   ]
  },
  {
   "cell_type": "markdown",
   "metadata": {},
   "source": [
    "Numeric description of the categorical variables of the data-set:"
   ]
  },
  {
   "cell_type": "code",
   "execution_count": 42,
   "metadata": {},
   "outputs": [
    {
     "data": {
      "text/html": [
       "<div>\n",
       "<style scoped>\n",
       "    .dataframe tbody tr th:only-of-type {\n",
       "        vertical-align: middle;\n",
       "    }\n",
       "\n",
       "    .dataframe tbody tr th {\n",
       "        vertical-align: top;\n",
       "    }\n",
       "\n",
       "    .dataframe thead th {\n",
       "        text-align: right;\n",
       "    }\n",
       "</style>\n",
       "<table border=\"1\" class=\"dataframe\">\n",
       "  <thead>\n",
       "    <tr style=\"text-align: right;\">\n",
       "      <th></th>\n",
       "      <th>provincia</th>\n",
       "      <th>genero</th>\n",
       "      <th>edad</th>\n",
       "      <th>nac</th>\n",
       "      <th>neduc</th>\n",
       "      <th>sitlab</th>\n",
       "    </tr>\n",
       "  </thead>\n",
       "  <tbody>\n",
       "    <tr>\n",
       "      <th>count</th>\n",
       "      <td>1236</td>\n",
       "      <td>1236</td>\n",
       "      <td>1236</td>\n",
       "      <td>1236</td>\n",
       "      <td>1236</td>\n",
       "      <td>1236</td>\n",
       "    </tr>\n",
       "    <tr>\n",
       "      <th>unique</th>\n",
       "      <td>3</td>\n",
       "      <td>2</td>\n",
       "      <td>4</td>\n",
       "      <td>2</td>\n",
       "      <td>3</td>\n",
       "      <td>3</td>\n",
       "    </tr>\n",
       "    <tr>\n",
       "      <th>top</th>\n",
       "      <td>Zaragoza</td>\n",
       "      <td>2</td>\n",
       "      <td>2</td>\n",
       "      <td>1</td>\n",
       "      <td>2</td>\n",
       "      <td>1</td>\n",
       "    </tr>\n",
       "    <tr>\n",
       "      <th>freq</th>\n",
       "      <td>932</td>\n",
       "      <td>621</td>\n",
       "      <td>529</td>\n",
       "      <td>1179</td>\n",
       "      <td>591</td>\n",
       "      <td>618</td>\n",
       "    </tr>\n",
       "  </tbody>\n",
       "</table>\n",
       "</div>"
      ],
      "text/plain": [
       "       provincia  genero  edad   nac  neduc  sitlab\n",
       "count       1236    1236  1236  1236   1236    1236\n",
       "unique         3       2     4     2      3       3\n",
       "top     Zaragoza       2     2     1      2       1\n",
       "freq         932     621   529  1179    591     618"
      ]
     },
     "execution_count": 42,
     "metadata": {},
     "output_type": "execute_result"
    }
   ],
   "source": [
    "( data_Python >> select( ~X.ingresos , ~X.horas ) ).describe()"
   ]
  },
  {
   "cell_type": "markdown",
   "metadata": {},
   "source": []
  },
  {
   "cell_type": "markdown",
   "metadata": {},
   "source": [
    "## Basic descriptive summary in R <a class=\"anchor\" id=\"25\"></a>"
   ]
  },
  {
   "cell_type": "code",
   "execution_count": 43,
   "metadata": {},
   "outputs": [
    {
     "name": "stdout",
     "output_type": "stream",
     "text": [
      "  provincia             genero           edad            nac       \n",
      " Length:1236        Min.   :1.000   Min.   :1.000   Min.   :1.000  \n",
      " Class :character   1st Qu.:1.000   1st Qu.:2.000   1st Qu.:1.000  \n",
      " Mode  :character   Median :2.000   Median :2.000   Median :1.000  \n",
      "                    Mean   :1.502   Mean   :2.555   Mean   :1.046  \n",
      "                    3rd Qu.:2.000   3rd Qu.:3.000   3rd Qu.:1.000  \n",
      "                    Max.   :2.000   Max.   :4.000   Max.   :2.000  \n",
      "     neduc           sitlab         ingresos           horas      \n",
      " Min.   :1.000   Min.   :1.000   Min.   : -999.5   Min.   : 0.00  \n",
      " 1st Qu.:1.000   1st Qu.:1.000   1st Qu.: 8310.6   1st Qu.: 0.00  \n",
      " Median :2.000   Median :1.500   Median :12331.0   Median :12.38  \n",
      " Mean   :1.805   Mean   :1.978   Mean   :14078.8   Mean   :16.92  \n",
      " 3rd Qu.:2.000   3rd Qu.:3.000   3rd Qu.:18269.4   3rd Qu.:33.86  \n",
      " Max.   :3.000   Max.   :3.000   Max.   :58470.4   Max.   :42.78  \n"
     ]
    }
   ],
   "source": [
    "%%R\n",
    "\n",
    "summary(data_R)"
   ]
  },
  {
   "cell_type": "markdown",
   "metadata": {},
   "source": []
  },
  {
   "cell_type": "markdown",
   "metadata": {},
   "source": [
    "## Centered Data Matrix <a class=\"anchor\" id=\"26\"></a>\n",
    "\n",
    "\n",
    "Given a data matrix $X$ with size $nxp$\n",
    "\n",
    "\n",
    "$X$ is **centered** &nbsp; $\\Leftrightarrow$  &nbsp; data matrix variables **mean** is **zero**\n",
    "\n"
   ]
  },
  {
   "cell_type": "markdown",
   "metadata": {},
   "source": [
    "\n",
    "\n",
    "**Centering Operation**\n",
    "\n",
    "The operation to center $X$ is the following:\n",
    "\n",
    "$$\n",
    "X  -  \\overrightarrow{1}_{nx1}  \\cdot \\overline{x}\\hspace{0.05cm}^t =H_{n}\\cdot X_{nxp}\n",
    "$$\n",
    "\n",
    "is a centered matrix una **matriz centrada** (the mean of it´s columns is zero).\n",
    "\n",
    "Where:\n",
    "\n",
    "$$\n",
    "H_{n}=I_n - \\dfrac{1}{n} \\cdot  \\overrightarrow{1}_{nx1} \\cdot \\overrightarrow{1^t}\n",
    "$$\n",
    "\n",
    "is the **centered matrix**.\n",
    "\n"
   ]
  },
  {
   "cell_type": "markdown",
   "metadata": {},
   "source": []
  },
  {
   "cell_type": "markdown",
   "metadata": {},
   "source": [
    "## Scaled Variables <a class=\"anchor\" id=\"27\"></a>\n",
    "\n",
    "Given the quantitative variable $X_k$\n",
    "\n",
    "\n",
    "$X_k^{scale}$ is the variable $X_k$ **scaled**, if it´s defined as:\n",
    "\n",
    "$$\n",
    "x_{ik}^{scale}= \\dfrac{ x_{ik} - \\overline{X_k} }{ \\sigma(X_k)}   \n",
    "$$\n",
    "\n",
    "for $i=1,...,n$\n",
    "\n"
   ]
  },
  {
   "cell_type": "markdown",
   "metadata": {},
   "source": [
    "## Scaled Data Matrix <a class=\"anchor\" id=\"28\"></a>\n",
    "\n",
    "Let &nbsp; $X=(X_1,...,X_p)$ &nbsp; be a data matrix with $p$ variables,\n",
    "\n",
    "\n",
    "$X^{scale}=(X_1^{scale},...,X_p^{scale})$ &nbsp; is &nbsp; $X$ &nbsp; but **scaled**.  \n",
    "\n"
   ]
  },
  {
   "cell_type": "markdown",
   "metadata": {},
   "source": []
  },
  {
   "cell_type": "markdown",
   "metadata": {},
   "source": [
    "## Covariance <a class=\"anchor\" id=\"29\"></a>\n",
    "\n",
    "\n",
    "Given the varu¡iables $X_k=(x_{1k}, x_{2k},...,x_{nk})^t$ and\n",
    "$X_r=(x_{1r}, x_{2r},...,x_{nr})^t$\n",
    "\n",
    "\n",
    "The covariance between the variables $X_j$ and $X_r$ is defined as:\n",
    "\n",
    "$$\n",
    "S(X_k, X_r) = \\frac{1}{n} \\cdot \\sum_{i=1}^{n} \\left(x_{ik} - \\overline{X_k}\\right)\\cdot \\left( x_{ir} - \\overline{X_r} \\right)\n",
    "$$"
   ]
  },
  {
   "cell_type": "markdown",
   "metadata": {},
   "source": [
    "\n",
    "### Properties of covariance <a class=\"anchor\" id=\"30\"></a>\n",
    "\n",
    "\n",
    "-   $S(X_k,X_r) \\in (-\\infty, \\infty)$\n",
    "\n",
    "-   $S(X_k,X_r) \\hspace{0.1cm} = \\hspace{0.1cm} \\dfrac{1}{n} \\sum_{i=1}^{n} (x_{ik} \\cdot x_{ir}) - \\overline{x_k} \\cdot \\overline{x_r} \\hspace{0.2cm} = \\hspace{0.2cm} \\overline{x_k\\cdot x_r} - \\overline{x_k} \\cdot \\overline{x_r}$\n",
    "\n",
    "-   $S(X_k, a + b\\cdot X_r) = b\\cdot S(X_k,X_r)$\n",
    "\n",
    "-   $S(X_k,X_r) = S(X_r,X_k)$\n",
    "\n",
    "-   $S(X_k,X_r) > 0 \\hspace{0.1cm} \\Rightarrow \\hspace{0.1cm} $ **Positive Relationship** between  $X_k$ and $X_r$\n",
    "\n",
    "-   $S(X_k,X_r) < 0 \\hspace{0.1cm} \\Rightarrow \\hspace{0.1cm}$ **Negative Relationship** between  $X_k$ and $X_r$ \n",
    "\n",
    "-   $S(X_k,X_r) = 0 \\hspace{0.1cm} \\Rightarrow \\hspace{0.1cm}$ **There is not relationship** between $X_k$ and $X_r$\n",
    "\n"
   ]
  },
  {
   "cell_type": "markdown",
   "metadata": {},
   "source": [
    "### Covariance in R"
   ]
  },
  {
   "cell_type": "code",
   "execution_count": 44,
   "metadata": {},
   "outputs": [
    {
     "name": "stdout",
     "output_type": "stream",
     "text": [
      "[1] 32453.53\n"
     ]
    }
   ],
   "source": [
    "%%R\n",
    "\n",
    "cov(data_R$ingresos , data_R$horas)"
   ]
  },
  {
   "cell_type": "markdown",
   "metadata": {},
   "source": [
    "### Covariance in Python"
   ]
  },
  {
   "cell_type": "code",
   "execution_count": 45,
   "metadata": {},
   "outputs": [
    {
     "data": {
      "text/html": [
       "<div>\n",
       "<style scoped>\n",
       "    .dataframe tbody tr th:only-of-type {\n",
       "        vertical-align: middle;\n",
       "    }\n",
       "\n",
       "    .dataframe tbody tr th {\n",
       "        vertical-align: top;\n",
       "    }\n",
       "\n",
       "    .dataframe thead th {\n",
       "        text-align: right;\n",
       "    }\n",
       "</style>\n",
       "<table border=\"1\" class=\"dataframe\">\n",
       "  <thead>\n",
       "    <tr style=\"text-align: right;\">\n",
       "      <th></th>\n",
       "      <th>ingresos</th>\n",
       "      <th>horas</th>\n",
       "    </tr>\n",
       "  </thead>\n",
       "  <tbody>\n",
       "    <tr>\n",
       "      <th>ingresos</th>\n",
       "      <td>6.792483e+07</td>\n",
       "      <td>32453.532338</td>\n",
       "    </tr>\n",
       "    <tr>\n",
       "      <th>horas</th>\n",
       "      <td>3.245353e+04</td>\n",
       "      <td>290.849550</td>\n",
       "    </tr>\n",
       "  </tbody>\n",
       "</table>\n",
       "</div>"
      ],
      "text/plain": [
       "              ingresos         horas\n",
       "ingresos  6.792483e+07  32453.532338\n",
       "horas     3.245353e+04    290.849550"
      ]
     },
     "execution_count": 45,
     "metadata": {},
     "output_type": "execute_result"
    }
   ],
   "source": [
    "data_Python[['ingresos' , 'horas']].cov() "
   ]
  },
  {
   "cell_type": "code",
   "execution_count": 46,
   "metadata": {},
   "outputs": [
    {
     "data": {
      "text/html": [
       "<div>\n",
       "<style scoped>\n",
       "    .dataframe tbody tr th:only-of-type {\n",
       "        vertical-align: middle;\n",
       "    }\n",
       "\n",
       "    .dataframe tbody tr th {\n",
       "        vertical-align: top;\n",
       "    }\n",
       "\n",
       "    .dataframe thead th {\n",
       "        text-align: right;\n",
       "    }\n",
       "</style>\n",
       "<table border=\"1\" class=\"dataframe\">\n",
       "  <thead>\n",
       "    <tr style=\"text-align: right;\">\n",
       "      <th></th>\n",
       "      <th>horas</th>\n",
       "    </tr>\n",
       "  </thead>\n",
       "  <tbody>\n",
       "    <tr>\n",
       "      <th>ingresos</th>\n",
       "      <td>32453.532338</td>\n",
       "    </tr>\n",
       "  </tbody>\n",
       "</table>\n",
       "</div>"
      ],
      "text/plain": [
       "                 horas\n",
       "ingresos  32453.532338"
      ]
     },
     "execution_count": 46,
     "metadata": {},
     "output_type": "execute_result"
    }
   ],
   "source": [
    "(data_Python[['ingresos' , 'horas']].cov()).iloc[ [0] , [1] ]"
   ]
  },
  {
   "cell_type": "code",
   "execution_count": 47,
   "metadata": {},
   "outputs": [
    {
     "data": {
      "text/plain": [
       "array([[6.79248269e+07, 3.24535323e+04],\n",
       "       [3.24535323e+04, 2.90849550e+02]])"
      ]
     },
     "execution_count": 47,
     "metadata": {},
     "output_type": "execute_result"
    }
   ],
   "source": [
    "np.cov(data_Python['ingresos'], data_Python['horas'])"
   ]
  },
  {
   "cell_type": "markdown",
   "metadata": {},
   "source": []
  },
  {
   "cell_type": "markdown",
   "metadata": {},
   "source": [
    "## Covariance Matrix <a class=\"anchor\" id=\"31\"></a>\n",
    "\n",
    "The **covariance matrix** of a given data matrix $X$ is:\n",
    "\n",
    "$$\n",
    "S_X = \\left( \\hspace{0.2cm} S(X_k , X_r) \\hspace{0.2cm} \\right)_{k,r=1,...,p}\n",
    "$$\n",
    "\n"
   ]
  },
  {
   "cell_type": "markdown",
   "metadata": {},
   "source": [
    "\n",
    "**Matrix expression of the covariance matrix :**\n",
    "\n",
    "$$\n",
    "S_X=\\dfrac{1}{n} \\cdot  X\\hspace{0.1cm}^t \\cdot H \\cdot X\n",
    "$$\n",
    "\n",
    "Where:   $H$ is the centered matrix\n",
    "\n"
   ]
  },
  {
   "cell_type": "markdown",
   "metadata": {},
   "source": []
  },
  {
   "cell_type": "markdown",
   "metadata": {},
   "source": [
    "### Covariance Matrix in R"
   ]
  },
  {
   "cell_type": "code",
   "execution_count": 48,
   "metadata": {},
   "outputs": [
    {
     "name": "stdout",
     "output_type": "stream",
     "text": [
      "             X1         X2         X3           X4\n",
      "X1  0.693185867 -0.1500433 -0.0061802 -0.008206727\n",
      "X2 -0.150043327  1.3382117  0.1282564 -0.549172526\n",
      "X3 -0.006180200  0.1282564  0.7467668  0.165081941\n",
      "X4 -0.008206727 -0.5491725  0.1650819  1.193261181\n"
     ]
    }
   ],
   "source": [
    "%%R\n",
    "\n",
    "X1<-rnorm(30)\n",
    "X2<-rnorm(30)\n",
    "X3<-rnorm(30)\n",
    "X4<-rnorm(30)\n",
    "\n",
    "cov(cbind(X1,X2,X3,X4))"
   ]
  },
  {
   "cell_type": "markdown",
   "metadata": {},
   "source": []
  },
  {
   "cell_type": "markdown",
   "metadata": {},
   "source": [
    "### Covariance Matrix in Python"
   ]
  },
  {
   "cell_type": "code",
   "execution_count": 49,
   "metadata": {},
   "outputs": [],
   "source": [
    "X1 = np.random.randn(30)\n",
    "X2 = np.random.randn(30)\n",
    "X3 = np.random.randn(30)\n",
    "X4 = np.random.randn(30)"
   ]
  },
  {
   "cell_type": "code",
   "execution_count": 50,
   "metadata": {},
   "outputs": [
    {
     "data": {
      "text/html": [
       "<div>\n",
       "<style scoped>\n",
       "    .dataframe tbody tr th:only-of-type {\n",
       "        vertical-align: middle;\n",
       "    }\n",
       "\n",
       "    .dataframe tbody tr th {\n",
       "        vertical-align: top;\n",
       "    }\n",
       "\n",
       "    .dataframe thead th {\n",
       "        text-align: right;\n",
       "    }\n",
       "</style>\n",
       "<table border=\"1\" class=\"dataframe\">\n",
       "  <thead>\n",
       "    <tr style=\"text-align: right;\">\n",
       "      <th></th>\n",
       "      <th>0</th>\n",
       "      <th>1</th>\n",
       "      <th>2</th>\n",
       "      <th>3</th>\n",
       "    </tr>\n",
       "  </thead>\n",
       "  <tbody>\n",
       "    <tr>\n",
       "      <th>0</th>\n",
       "      <td>0.960182</td>\n",
       "      <td>0.427113</td>\n",
       "      <td>0.637695</td>\n",
       "      <td>-0.271237</td>\n",
       "    </tr>\n",
       "    <tr>\n",
       "      <th>1</th>\n",
       "      <td>1.836123</td>\n",
       "      <td>-0.607836</td>\n",
       "      <td>-1.716903</td>\n",
       "      <td>0.995672</td>\n",
       "    </tr>\n",
       "    <tr>\n",
       "      <th>2</th>\n",
       "      <td>-1.111526</td>\n",
       "      <td>1.055322</td>\n",
       "      <td>-0.096780</td>\n",
       "      <td>0.315922</td>\n",
       "    </tr>\n",
       "    <tr>\n",
       "      <th>3</th>\n",
       "      <td>0.265465</td>\n",
       "      <td>-0.600062</td>\n",
       "      <td>1.154381</td>\n",
       "      <td>0.452347</td>\n",
       "    </tr>\n",
       "    <tr>\n",
       "      <th>4</th>\n",
       "      <td>-0.233371</td>\n",
       "      <td>-1.519035</td>\n",
       "      <td>-0.589099</td>\n",
       "      <td>0.912323</td>\n",
       "    </tr>\n",
       "    <tr>\n",
       "      <th>5</th>\n",
       "      <td>0.926980</td>\n",
       "      <td>-0.594630</td>\n",
       "      <td>-2.159382</td>\n",
       "      <td>-1.132467</td>\n",
       "    </tr>\n",
       "    <tr>\n",
       "      <th>6</th>\n",
       "      <td>-0.453825</td>\n",
       "      <td>-1.036847</td>\n",
       "      <td>1.348096</td>\n",
       "      <td>-0.663920</td>\n",
       "    </tr>\n",
       "  </tbody>\n",
       "</table>\n",
       "</div>"
      ],
      "text/plain": [
       "          0         1         2         3\n",
       "0  0.960182  0.427113  0.637695 -0.271237\n",
       "1  1.836123 -0.607836 -1.716903  0.995672\n",
       "2 -1.111526  1.055322 -0.096780  0.315922\n",
       "3  0.265465 -0.600062  1.154381  0.452347\n",
       "4 -0.233371 -1.519035 -0.589099  0.912323\n",
       "5  0.926980 -0.594630 -2.159382 -1.132467\n",
       "6 -0.453825 -1.036847  1.348096 -0.663920"
      ]
     },
     "execution_count": 50,
     "metadata": {},
     "output_type": "execute_result"
    }
   ],
   "source": [
    "df_example = pd.DataFrame([X1 , X2 , X3, X4]).T\n",
    "df_example.head(7)"
   ]
  },
  {
   "cell_type": "code",
   "execution_count": 51,
   "metadata": {},
   "outputs": [
    {
     "data": {
      "text/html": [
       "<div>\n",
       "<style scoped>\n",
       "    .dataframe tbody tr th:only-of-type {\n",
       "        vertical-align: middle;\n",
       "    }\n",
       "\n",
       "    .dataframe tbody tr th {\n",
       "        vertical-align: top;\n",
       "    }\n",
       "\n",
       "    .dataframe thead th {\n",
       "        text-align: right;\n",
       "    }\n",
       "</style>\n",
       "<table border=\"1\" class=\"dataframe\">\n",
       "  <thead>\n",
       "    <tr style=\"text-align: right;\">\n",
       "      <th></th>\n",
       "      <th>0</th>\n",
       "      <th>1</th>\n",
       "      <th>2</th>\n",
       "      <th>3</th>\n",
       "    </tr>\n",
       "  </thead>\n",
       "  <tbody>\n",
       "    <tr>\n",
       "      <th>0</th>\n",
       "      <td>1.254128</td>\n",
       "      <td>0.105401</td>\n",
       "      <td>0.247948</td>\n",
       "      <td>0.325380</td>\n",
       "    </tr>\n",
       "    <tr>\n",
       "      <th>1</th>\n",
       "      <td>0.105401</td>\n",
       "      <td>0.863247</td>\n",
       "      <td>0.013940</td>\n",
       "      <td>-0.052195</td>\n",
       "    </tr>\n",
       "    <tr>\n",
       "      <th>2</th>\n",
       "      <td>0.247948</td>\n",
       "      <td>0.013940</td>\n",
       "      <td>1.002002</td>\n",
       "      <td>-0.184078</td>\n",
       "    </tr>\n",
       "    <tr>\n",
       "      <th>3</th>\n",
       "      <td>0.325380</td>\n",
       "      <td>-0.052195</td>\n",
       "      <td>-0.184078</td>\n",
       "      <td>1.259657</td>\n",
       "    </tr>\n",
       "  </tbody>\n",
       "</table>\n",
       "</div>"
      ],
      "text/plain": [
       "          0         1         2         3\n",
       "0  1.254128  0.105401  0.247948  0.325380\n",
       "1  0.105401  0.863247  0.013940 -0.052195\n",
       "2  0.247948  0.013940  1.002002 -0.184078\n",
       "3  0.325380 -0.052195 -0.184078  1.259657"
      ]
     },
     "execution_count": 51,
     "metadata": {},
     "output_type": "execute_result"
    }
   ],
   "source": [
    "df_example.cov()"
   ]
  },
  {
   "cell_type": "markdown",
   "metadata": {},
   "source": []
  },
  {
   "cell_type": "markdown",
   "metadata": {},
   "source": [
    "## Pearson Linear Correlation <a class=\"anchor\" id=\"32\"></a>\n",
    "\n",
    "\n",
    "Given the variables $X_k=(x_{1k}, x_{2k},...,x_{nk})^t$ $\\hspace{0.05cm}$ and $\\hspace{0.05cm}$\n",
    "$X_r=(x_{12r}, x_{2r},...,x_{nr})^t$\n",
    "\n",
    "<br>\n",
    "\n",
    "The **Pearson linear correlation** between the variables $X_k$ and $X_r$ is defined as:\n",
    "\n",
    "$$\n",
    "r(X_k,X_r) = \\frac{S(X_k,X_r)}{S(X_k) \\cdot S(X_r)} \n",
    "$$\n",
    "\n"
   ]
  },
  {
   "cell_type": "markdown",
   "metadata": {},
   "source": []
  },
  {
   "cell_type": "markdown",
   "metadata": {},
   "source": [
    "### Properties of Pearson linear correlation <a class=\"anchor\" id=\"33\"></a>\n",
    "\n",
    "\n",
    "-   $r(X_k,X_r) \\in [-1,1]$\n",
    "\n",
    " \n",
    "\n",
    "-   $r_{X_k,a + b\\cdot X_r} = r(X_k,X_r)$\n",
    "\n",
    " \n",
    "\n",
    "-  The sign of $r(X,X)$ is equal to the sign of $S(X_k,Xr)$\n",
    "\n",
    "-   $r(X_k,X_r) = \\pm 1 \\hspace{0.1cm} \\Rightarrow \\hspace{0.1cm} $ perfecto linear relationship between\n",
    "    $X_k$ and $X_r$\n",
    "\n",
    "-   $r(X_k,X_r) = 0 \\hspace{0.1cm} \\Rightarrow \\hspace{0.1cm}$ There is not linear relationship between  $X_k$ and  $X_r$\n",
    "\n",
    " \n",
    "\n",
    "-   $r(X_k,X_r) \\rightarrow \\pm 1 \\hspace{0.1cm} \\Rightarrow \\hspace{0.1cm}$ hard linear relationship between $X_k$ and $X_r$\n",
    "\n",
    " \n",
    "\n",
    "-   $r(X_k,X_r) \\rightarrow 0 \\hspace{0.1cm} \\Rightarrow \\hspace{0.1cm}$ weak linear relationship between\n",
    "    $X_k$ and $X_r$\n",
    "\n",
    " \n",
    "\n",
    "-   $r(X_k,X_r) >0 \\hspace{0.1cm} \\Rightarrow \\hspace{0.1cm}$ positive relationship between $X_k$ and $X_r$\n",
    "\n",
    "\n",
    "\n",
    "-   $r(X_k,X_r) <0 \\hspace{0.1cm} \\Rightarrow \\hspace{0.1cm}$ negative relationship between  $X_k$ and $X_r$\n",
    "\n"
   ]
  },
  {
   "cell_type": "markdown",
   "metadata": {},
   "source": []
  },
  {
   "cell_type": "markdown",
   "metadata": {},
   "source": [
    "### Pearson Correlation in R\n"
   ]
  },
  {
   "cell_type": "code",
   "execution_count": 52,
   "metadata": {},
   "outputs": [
    {
     "name": "stdout",
     "output_type": "stream",
     "text": [
      "[1] 0.2308945\n"
     ]
    }
   ],
   "source": [
    "%%R\n",
    "\n",
    "cor(data_R$ingresos, data_R$horas  , method = \"pearson\")"
   ]
  },
  {
   "cell_type": "markdown",
   "metadata": {},
   "source": []
  },
  {
   "cell_type": "markdown",
   "metadata": {},
   "source": [
    "### Pearson Correlation in Python\n"
   ]
  },
  {
   "cell_type": "code",
   "execution_count": 53,
   "metadata": {},
   "outputs": [
    {
     "data": {
      "text/html": [
       "<div>\n",
       "<style scoped>\n",
       "    .dataframe tbody tr th:only-of-type {\n",
       "        vertical-align: middle;\n",
       "    }\n",
       "\n",
       "    .dataframe tbody tr th {\n",
       "        vertical-align: top;\n",
       "    }\n",
       "\n",
       "    .dataframe thead th {\n",
       "        text-align: right;\n",
       "    }\n",
       "</style>\n",
       "<table border=\"1\" class=\"dataframe\">\n",
       "  <thead>\n",
       "    <tr style=\"text-align: right;\">\n",
       "      <th></th>\n",
       "      <th>ingresos</th>\n",
       "      <th>horas</th>\n",
       "    </tr>\n",
       "  </thead>\n",
       "  <tbody>\n",
       "    <tr>\n",
       "      <th>ingresos</th>\n",
       "      <td>1.000000</td>\n",
       "      <td>0.230894</td>\n",
       "    </tr>\n",
       "    <tr>\n",
       "      <th>horas</th>\n",
       "      <td>0.230894</td>\n",
       "      <td>1.000000</td>\n",
       "    </tr>\n",
       "  </tbody>\n",
       "</table>\n",
       "</div>"
      ],
      "text/plain": [
       "          ingresos     horas\n",
       "ingresos  1.000000  0.230894\n",
       "horas     0.230894  1.000000"
      ]
     },
     "execution_count": 53,
     "metadata": {},
     "output_type": "execute_result"
    }
   ],
   "source": [
    "data_Python[['ingresos' , 'horas']].corr(method='pearson')"
   ]
  },
  {
   "cell_type": "code",
   "execution_count": 54,
   "metadata": {},
   "outputs": [
    {
     "data": {
      "text/html": [
       "<div>\n",
       "<style scoped>\n",
       "    .dataframe tbody tr th:only-of-type {\n",
       "        vertical-align: middle;\n",
       "    }\n",
       "\n",
       "    .dataframe tbody tr th {\n",
       "        vertical-align: top;\n",
       "    }\n",
       "\n",
       "    .dataframe thead th {\n",
       "        text-align: right;\n",
       "    }\n",
       "</style>\n",
       "<table border=\"1\" class=\"dataframe\">\n",
       "  <thead>\n",
       "    <tr style=\"text-align: right;\">\n",
       "      <th></th>\n",
       "      <th>horas</th>\n",
       "    </tr>\n",
       "  </thead>\n",
       "  <tbody>\n",
       "    <tr>\n",
       "      <th>ingresos</th>\n",
       "      <td>0.230894</td>\n",
       "    </tr>\n",
       "  </tbody>\n",
       "</table>\n",
       "</div>"
      ],
      "text/plain": [
       "             horas\n",
       "ingresos  0.230894"
      ]
     },
     "execution_count": 54,
     "metadata": {},
     "output_type": "execute_result"
    }
   ],
   "source": [
    "(data_Python[['ingresos' , 'horas']].corr(method='pearson')).iloc[ [0] , [1] ]"
   ]
  },
  {
   "cell_type": "markdown",
   "metadata": {},
   "source": []
  },
  {
   "cell_type": "markdown",
   "metadata": {},
   "source": [
    "\n",
    "## Pearson Correlation Matrix <a class=\"anchor\" id=\"34\"></a>"
   ]
  },
  {
   "cell_type": "markdown",
   "metadata": {},
   "source": [
    "The Pearson correlation matrix of the data matrix $X=[X_1 ,..., X_p]$ is :\n",
    "\n",
    "<br>\n",
    "\n",
    "$$\n",
    "R_X = \\begin{pmatrix}\n",
    "    r_{11} & r_{12}&...&r_{1p}\\\\\n",
    "    r_{21} & r_{22}&...&r_{2p}\\\\\n",
    "    &...&\\\\\n",
    "    r_{p1}& r_{p2}&...&r_{pp}\n",
    "\\end{pmatrix}\n",
    " =\\left[ \\hspace{0.2cm} r(X_i , X_j) \\hspace{0.2cm} \\right]_{\\hspace{0.1cm} i \\hspace{0.02cm},\\hspace{0.02cm} j=1,...,p}\n",
    "$$\n",
    "\n",
    "<br>\n",
    "\n",
    "Where: $\\hspace{0.2cm} r_{i j} = r(X_i , X_j) \\hspace{0.1cm}$ , for $\\hspace{0.12cm} i,j=1,...,p$\n"
   ]
  },
  {
   "cell_type": "markdown",
   "metadata": {},
   "source": [
    "\n",
    "**Matrix expression of the correlation matrix**\n",
    "\n",
    "$$\n",
    "R_X= D_s^{-1} \\cdot S_X \\cdot D_s^{-1}\n",
    "$$\n",
    "\n",
    "Where:\n",
    "$$\n",
    "D_s = diag \\left( \\sigma(X_1) ,  \\sigma(X_2) ,..., \\sigma(X_p) \\right)  \n",
    "$$\n",
    "\n",
    " \n"
   ]
  },
  {
   "cell_type": "markdown",
   "metadata": {},
   "source": []
  },
  {
   "cell_type": "markdown",
   "metadata": {},
   "source": [
    "### Correlation Matrix in R\n"
   ]
  },
  {
   "cell_type": "code",
   "execution_count": 55,
   "metadata": {},
   "outputs": [
    {
     "name": "stdout",
     "output_type": "stream",
     "text": [
      "             X1         X2           X3           X4\n",
      "X1  1.000000000 -0.1557864 -0.008589842 -0.009023549\n",
      "X2 -0.155786356  1.0000000  0.128299238 -0.434588900\n",
      "X3 -0.008589842  0.1282992  1.000000000  0.174879667\n",
      "X4 -0.009023549 -0.4345889  0.174879667  1.000000000\n"
     ]
    }
   ],
   "source": [
    "%%R\n",
    "\n",
    "cor(cbind(X1,X2,X3,X4))"
   ]
  },
  {
   "cell_type": "markdown",
   "metadata": {},
   "source": []
  },
  {
   "cell_type": "markdown",
   "metadata": {},
   "source": [
    "### Correlation Matrix in Python"
   ]
  },
  {
   "cell_type": "code",
   "execution_count": 56,
   "metadata": {},
   "outputs": [
    {
     "data": {
      "text/html": [
       "<div>\n",
       "<style scoped>\n",
       "    .dataframe tbody tr th:only-of-type {\n",
       "        vertical-align: middle;\n",
       "    }\n",
       "\n",
       "    .dataframe tbody tr th {\n",
       "        vertical-align: top;\n",
       "    }\n",
       "\n",
       "    .dataframe thead th {\n",
       "        text-align: right;\n",
       "    }\n",
       "</style>\n",
       "<table border=\"1\" class=\"dataframe\">\n",
       "  <thead>\n",
       "    <tr style=\"text-align: right;\">\n",
       "      <th></th>\n",
       "      <th>X1</th>\n",
       "      <th>X2</th>\n",
       "      <th>X3</th>\n",
       "      <th>X4</th>\n",
       "    </tr>\n",
       "    <tr>\n",
       "      <th></th>\n",
       "      <th></th>\n",
       "      <th></th>\n",
       "      <th></th>\n",
       "      <th></th>\n",
       "    </tr>\n",
       "  </thead>\n",
       "  <tbody>\n",
       "    <tr>\n",
       "      <th>X1</th>\n",
       "      <td>1.000000</td>\n",
       "      <td>0.101299</td>\n",
       "      <td>0.221185</td>\n",
       "      <td>0.258877</td>\n",
       "    </tr>\n",
       "    <tr>\n",
       "      <th>X2</th>\n",
       "      <td>0.101299</td>\n",
       "      <td>1.000000</td>\n",
       "      <td>0.014989</td>\n",
       "      <td>-0.050053</td>\n",
       "    </tr>\n",
       "    <tr>\n",
       "      <th>X3</th>\n",
       "      <td>0.221185</td>\n",
       "      <td>0.014989</td>\n",
       "      <td>1.000000</td>\n",
       "      <td>-0.163848</td>\n",
       "    </tr>\n",
       "    <tr>\n",
       "      <th>X4</th>\n",
       "      <td>0.258877</td>\n",
       "      <td>-0.050053</td>\n",
       "      <td>-0.163848</td>\n",
       "      <td>1.000000</td>\n",
       "    </tr>\n",
       "  </tbody>\n",
       "</table>\n",
       "</div>"
      ],
      "text/plain": [
       "          X1        X2        X3        X4\n",
       "                                          \n",
       "X1  1.000000  0.101299  0.221185  0.258877\n",
       "X2  0.101299  1.000000  0.014989 -0.050053\n",
       "X3  0.221185  0.014989  1.000000 -0.163848\n",
       "X4  0.258877 -0.050053 -0.163848  1.000000"
      ]
     },
     "execution_count": 56,
     "metadata": {},
     "output_type": "execute_result"
    }
   ],
   "source": [
    "corr_matrix = ( df_example.corr(method='pearson') >> rename(X1=0 , X2=1 , X3=2 , X4=3 ) )\n",
    "\n",
    "corr_matrix['']=['X1','X2', 'X3', 'X4'] \n",
    "\n",
    "corr_matrix = corr_matrix.set_index('')\n",
    "\n",
    "corr_matrix"
   ]
  },
  {
   "cell_type": "markdown",
   "metadata": {},
   "source": []
  },
  {
   "cell_type": "markdown",
   "metadata": {},
   "source": [
    "## Frequency distribution <a class=\"anchor\" id=\"35\"></a>\n"
   ]
  },
  {
   "cell_type": "markdown",
   "metadata": {},
   "source": [
    "### Absolute frequency of an element  <a class=\"anchor\" id=\"36\"></a>\n",
    "\n",
    "Given a variable $X_k=(x_{1k}, x_{2k},...,x_{nk})^t$ $\\hspace{0.03cm}$ and\n",
    "$\\hspace{0.03cm}$ $a \\in Range(X_k)$\n",
    "\n",
    "<br>\n",
    "\n",
    "The **frequency absolute** of the **element** $a$ in $X_k$ is defined as :\n",
    "\n",
    "$$\n",
    "Fabs(a ,X_k) \\hspace{0.1cm}=\\hspace{0.1cm} \\# \\lbrace i \\hspace{0.05cm} / \\hspace{0.05cm} x_{ik}=a \\rbrace \n",
    "$$\n",
    "\n",
    "$$\n",
    "= \\text{nº de observaciones de la variable} \\hspace{0.12cm} X_k \\hspace{0.12cm} \\text{que coinciden con el valor} \\hspace{0.12cm} a  \n",
    "$$\n",
    " \n",
    "<br>\n",
    "\n",
    "For example:  $F(a=1000, X_k)$ it could be the number of employees of a certain company with a salary of $a=1000$ euros.\n",
    "\n",
    "<br>\n",
    "\n",
    "**Note:**\n",
    "\n",
    "If $\\hspace{0.05cm}$ $X_k$ $\\hspace{0.05cm}$ is continuous, usually $\\hspace{0.05cm}$ $Fabs(a , X_k) = 0$ $\\hspace{0.05cm}$ for many values $\\hspace{0.05cm}$ $a$"
   ]
  },
  {
   "cell_type": "markdown",
   "metadata": {},
   "source": []
  },
  {
   "cell_type": "markdown",
   "metadata": {},
   "source": [
    "\n",
    "### Absolute frequency of an element in R\n",
    "\n",
    "It is mainly useful for categorical variables"
   ]
  },
  {
   "cell_type": "code",
   "execution_count": 57,
   "metadata": {},
   "outputs": [],
   "source": [
    "%%R\n",
    "\n",
    "frecuencia_absoluta_elemento <- \n",
    "function( variable, elemento){\n",
    "  \n",
    "frecuencia_absoluta_elemento <-  \n",
    "sum(variable == elemento)\n",
    "  \n",
    "return(frecuencia_absoluta_elemento)  \n",
    "} "
   ]
  },
  {
   "cell_type": "markdown",
   "metadata": {},
   "source": [
    "\n",
    "Let's see how the function works :"
   ]
  },
  {
   "cell_type": "code",
   "execution_count": 58,
   "metadata": {},
   "outputs": [
    {
     "name": "stdout",
     "output_type": "stream",
     "text": [
      "[1] 1\n"
     ]
    }
   ],
   "source": [
    "%%R \n",
    "\n",
    "frecuencia_absoluta_elemento( round(data_R$ingresos, 3), 8736.2)  "
   ]
  },
  {
   "cell_type": "code",
   "execution_count": 59,
   "metadata": {},
   "outputs": [
    {
     "name": "stdout",
     "output_type": "stream",
     "text": [
      "[1] 0\n"
     ]
    }
   ],
   "source": [
    "%%R \n",
    "\n",
    "frecuencia_absoluta_elemento( round(data_R$ingresos, 3), 8736)  "
   ]
  },
  {
   "cell_type": "code",
   "execution_count": 60,
   "metadata": {},
   "outputs": [
    {
     "name": "stdout",
     "output_type": "stream",
     "text": [
      "[1] 615\n"
     ]
    }
   ],
   "source": [
    "%%R \n",
    "\n",
    "frecuencia_absoluta_elemento(data_R$genero , 1)"
   ]
  },
  {
   "cell_type": "code",
   "execution_count": 61,
   "metadata": {},
   "outputs": [
    {
     "name": "stdout",
     "output_type": "stream",
     "text": [
      "[1] 202\n"
     ]
    }
   ],
   "source": [
    "%%R \n",
    "\n",
    "frecuencia_absoluta_elemento(data_R$neduc , 3)  "
   ]
  },
  {
   "cell_type": "markdown",
   "metadata": {},
   "source": []
  },
  {
   "cell_type": "markdown",
   "metadata": {},
   "source": [
    "### Absolute frequency  of an element in Python\n"
   ]
  },
  {
   "cell_type": "code",
   "execution_count": 62,
   "metadata": {},
   "outputs": [],
   "source": [
    "def freq_abs_element_py( variable , element ) :\n",
    "\n",
    "# variable must be a python vector (like df['X2'])\n",
    "# element must be a constant (like a number or string)\n",
    "\n",
    "    freq_abs_element = ( variable == element ).sum() \n",
    "    \n",
    "    return freq_abs_element "
   ]
  },
  {
   "cell_type": "markdown",
   "metadata": {},
   "source": [
    "Let's see how the function works :"
   ]
  },
  {
   "cell_type": "code",
   "execution_count": 63,
   "metadata": {},
   "outputs": [
    {
     "data": {
      "text/plain": [
       "615"
      ]
     },
     "execution_count": 63,
     "metadata": {},
     "output_type": "execute_result"
    }
   ],
   "source": [
    "freq_abs_element_py( data_Python['genero'] , 1)"
   ]
  },
  {
   "cell_type": "markdown",
   "metadata": {},
   "source": [
    "We can check it:"
   ]
  },
  {
   "cell_type": "code",
   "execution_count": 64,
   "metadata": {},
   "outputs": [
    {
     "data": {
      "text/plain": [
       "615"
      ]
     },
     "execution_count": 64,
     "metadata": {},
     "output_type": "execute_result"
    }
   ],
   "source": [
    "(data_Python['genero'] == 1).sum()"
   ]
  },
  {
   "cell_type": "code",
   "execution_count": 65,
   "metadata": {},
   "outputs": [
    {
     "data": {
      "text/plain": [
       "1"
      ]
     },
     "execution_count": 65,
     "metadata": {},
     "output_type": "execute_result"
    }
   ],
   "source": [
    "freq_abs_element_py( data_Python['ingresos'] , 8736.2)"
   ]
  },
  {
   "cell_type": "code",
   "execution_count": 66,
   "metadata": {},
   "outputs": [
    {
     "data": {
      "text/plain": [
       "0"
      ]
     },
     "execution_count": 66,
     "metadata": {},
     "output_type": "execute_result"
    }
   ],
   "source": [
    "freq_abs_element_py( data_Python['ingresos'] , 8736)"
   ]
  },
  {
   "cell_type": "code",
   "execution_count": 67,
   "metadata": {},
   "outputs": [
    {
     "data": {
      "text/plain": [
       "202"
      ]
     },
     "execution_count": 67,
     "metadata": {},
     "output_type": "execute_result"
    }
   ],
   "source": [
    "freq_abs_element_py( data_Python['neduc'] , 3)"
   ]
  },
  {
   "cell_type": "markdown",
   "metadata": {},
   "source": []
  },
  {
   "cell_type": "markdown",
   "metadata": {},
   "source": [
    "### Absolute frequency of a set <a class=\"anchor\" id=\"37\"></a>\n",
    "\n",
    " Given a variable  $X_k=(x_{1k}, x_{2k},...,x_{nk})^t$ $\\hspace{0.05cm}$ and $\\hspace{0.05cm}$ $A \\subset Recorrido(X_k)$\n",
    "\n",
    " <br>\n",
    "\n",
    "The absolute frequency of the set $A$ in $X_k$ is defined as:\n",
    "\n",
    "$$\n",
    "Fabs(A, X_k) = \\sum_{a \\in A} Fabs(a , X_k ) = \n",
    "$$\n",
    "\n",
    "$$\n",
    "= \\text{ nº of observations of} \\hspace{0.1cm} X_k \\hspace{0.1cm} \\text{that belongs to} \\hspace{0.1cm} A\n",
    "$$\n",
    " \n",
    "<br>\n",
    "\n",
    "For example:  $Fabs(A=[500,1500] , X_k)$  could be the number of employees with a salary between 500 and 1500 euros.\n",
    "\n",
    "<br>\n",
    "\n",
    "**Note :**\n",
    "\n",
    "$Fabs([b_1,b_2], X_k)$ $\\hspace{0.1cm}$ is a particular case of $\\hspace{0.1cm}$ $Fabs(A, X_k)$ $\\hspace{0.1cm}$ with $\\hspace{0.1cm}$ $A=[b_1,b_2]$\n",
    "\n",
    " \n"
   ]
  },
  {
   "cell_type": "markdown",
   "metadata": {},
   "source": []
  },
  {
   "cell_type": "markdown",
   "metadata": {},
   "source": [
    "\n",
    "### Absolute Frequency of an interval in R\n",
    "\n",
    " Useful to quantitatives variables (specially continuous)\n"
   ]
  },
  {
   "cell_type": "code",
   "execution_count": 68,
   "metadata": {},
   "outputs": [],
   "source": [
    "%%R\n",
    "\n",
    "frecuencia_absoluta_intervalo <- \n",
    "  \n",
    "function( variable, cota_inferior, cota_superior ){\n",
    "  \n",
    "frecuencia_absoluta_intervalo <-  \n",
    "\n",
    "sum(variable >= cota_inferior & \n",
    "variable <= cota_superior)\n",
    "  \n",
    "return(frecuencia_absoluta_intervalo)  \n",
    "}"
   ]
  },
  {
   "cell_type": "code",
   "execution_count": 69,
   "metadata": {},
   "outputs": [
    {
     "name": "stdout",
     "output_type": "stream",
     "text": [
      "[1] 305\n"
     ]
    }
   ],
   "source": [
    "%%R\n",
    "\n",
    "frecuencia_absoluta_intervalo(data_R$ingresos , 8000, 12000)"
   ]
  },
  {
   "cell_type": "code",
   "execution_count": 70,
   "metadata": {},
   "outputs": [
    {
     "name": "stdout",
     "output_type": "stream",
     "text": [
      "[1] 202\n"
     ]
    }
   ],
   "source": [
    "%%R\n",
    "\n",
    "frecuencia_absoluta_intervalo(data_R$neduc , 3, 4)"
   ]
  },
  {
   "cell_type": "markdown",
   "metadata": {},
   "source": []
  },
  {
   "cell_type": "markdown",
   "metadata": {},
   "source": [
    "### Absolute Frequency of an interval in Python"
   ]
  },
  {
   "cell_type": "code",
   "execution_count": 71,
   "metadata": {},
   "outputs": [],
   "source": [
    "def freq_abs_interval_py( df, variable , lower_bound , upper_bound) :\n",
    "\n",
    "\n",
    "# To use this function you have to had intalled the dfply package\n",
    "# df is a data-frame\n",
    "# variable is a column of the data frame df\n",
    "# lower_bound and upper_bound are numbers such that lower_bound <= upper_bound\n",
    "   \n",
    "    freq_abs_interval = len( df >> filter_by( (X[variable] >= lower_bound) & (X[variable] <= upper_bound)) ) \n",
    "    return freq_abs_interval"
   ]
  },
  {
   "cell_type": "code",
   "execution_count": 72,
   "metadata": {},
   "outputs": [
    {
     "data": {
      "text/plain": [
       "305"
      ]
     },
     "execution_count": 72,
     "metadata": {},
     "output_type": "execute_result"
    }
   ],
   "source": [
    "freq_abs_interval_py(data_Python , 'ingresos' , 8000 , 12000)"
   ]
  },
  {
   "cell_type": "code",
   "execution_count": 73,
   "metadata": {},
   "outputs": [
    {
     "data": {
      "text/plain": [
       "305"
      ]
     },
     "execution_count": 73,
     "metadata": {},
     "output_type": "execute_result"
    }
   ],
   "source": [
    "len(data_Python >> filter_by( (X.ingresos >= 8000) & (X.ingresos <= 12000 ))) "
   ]
  },
  {
   "cell_type": "code",
   "execution_count": 74,
   "metadata": {},
   "outputs": [
    {
     "data": {
      "text/plain": [
       "305"
      ]
     },
     "execution_count": 74,
     "metadata": {},
     "output_type": "execute_result"
    }
   ],
   "source": [
    "len(data_Python >> filter_by( (X['ingresos'] >= 8000) & (X['ingresos'] <= 12000 ))) "
   ]
  },
  {
   "cell_type": "markdown",
   "metadata": {},
   "source": [
    "To use `freq_abs_interval_py` with categorical variables that are encode with numbers, we have to convert them to integer or float:"
   ]
  },
  {
   "cell_type": "code",
   "execution_count": 75,
   "metadata": {},
   "outputs": [],
   "source": [
    "## The following code gives an error:\n",
    "\n",
    "# freq_abs_interval_py(data_Python , 'neduc' , 3 , 4)"
   ]
  },
  {
   "cell_type": "code",
   "execution_count": 76,
   "metadata": {},
   "outputs": [],
   "source": [
    "data_Python['neduc'] = data_Python['neduc'].astype('int')"
   ]
  },
  {
   "cell_type": "code",
   "execution_count": 77,
   "metadata": {},
   "outputs": [
    {
     "data": {
      "text/plain": [
       "202"
      ]
     },
     "execution_count": 77,
     "metadata": {},
     "output_type": "execute_result"
    }
   ],
   "source": [
    "freq_abs_interval_py(data_Python , 'neduc' , 3 , 4)"
   ]
  },
  {
   "cell_type": "markdown",
   "metadata": {},
   "source": []
  },
  {
   "cell_type": "markdown",
   "metadata": {},
   "source": [
    "\n",
    "### Absolute Frequence in a discrete set in R\n",
    "\n",
    "Useful to categorical and discrete quantitatives variables "
   ]
  },
  {
   "cell_type": "code",
   "execution_count": 78,
   "metadata": {},
   "outputs": [],
   "source": [
    "%%R\n",
    "\n",
    "frecuencia_absoluta_conjunto_discreto <- \n",
    "\n",
    "function(variable, conjunto){\n",
    "cont=0\n",
    "for( i in conjunto){\n",
    "  \n",
    "  if( any(variable == i) ) {\n",
    "   \n",
    "  cont = cont + sum(variable==i)\n",
    "  }\n",
    "}\n",
    "return(cont)  \n",
    "}"
   ]
  },
  {
   "cell_type": "code",
   "execution_count": 79,
   "metadata": {},
   "outputs": [
    {
     "name": "stdout",
     "output_type": "stream",
     "text": [
      "[1] 202\n"
     ]
    }
   ],
   "source": [
    "%%R\n",
    "\n",
    "A=c(3, 4)\n",
    "\n",
    "frecuencia_absoluta_conjunto_discreto(data_R$neduc , A)"
   ]
  },
  {
   "cell_type": "code",
   "execution_count": 80,
   "metadata": {},
   "outputs": [
    {
     "name": "stdout",
     "output_type": "stream",
     "text": [
      "[1] 645\n"
     ]
    }
   ],
   "source": [
    "%%R\n",
    "\n",
    "A=c(1,3,4)\n",
    "\n",
    "frecuencia_absoluta_conjunto_discreto(data_R$neduc , A)"
   ]
  },
  {
   "cell_type": "markdown",
   "metadata": {},
   "source": []
  },
  {
   "cell_type": "markdown",
   "metadata": {},
   "source": [
    "### Absolute frequence in a discrete set in Python\n"
   ]
  },
  {
   "cell_type": "code",
   "execution_count": 81,
   "metadata": {},
   "outputs": [],
   "source": [
    "def freq_abs_set_py(variable , A) :\n",
    "\n",
    "    cont=0\n",
    "\n",
    "    for i in A : \n",
    "\n",
    "        if any(variable == i) :\n",
    "\n",
    "            cont = cont + (variable == i).sum()\n",
    "\n",
    "    return cont"
   ]
  },
  {
   "cell_type": "code",
   "execution_count": 82,
   "metadata": {},
   "outputs": [
    {
     "data": {
      "text/plain": [
       "202"
      ]
     },
     "execution_count": 82,
     "metadata": {},
     "output_type": "execute_result"
    }
   ],
   "source": [
    "A = pd.Series([ 3 , 4])\n",
    "\n",
    "freq_abs_set_py(data_Python['neduc'] , A)"
   ]
  },
  {
   "cell_type": "code",
   "execution_count": 83,
   "metadata": {},
   "outputs": [
    {
     "data": {
      "text/plain": [
       "645"
      ]
     },
     "execution_count": 83,
     "metadata": {},
     "output_type": "execute_result"
    }
   ],
   "source": [
    "A = pd.Series([1 , 3 , 4])\n",
    "\n",
    "freq_abs_set_py(data_Python['neduc'] , A)"
   ]
  },
  {
   "cell_type": "markdown",
   "metadata": {},
   "source": []
  },
  {
   "cell_type": "markdown",
   "metadata": {},
   "source": [
    "## Relative frequency of an element <a class=\"anchor\" id=\"38\"></a>\n",
    "\n",
    "Given a variable $X_k=(x_{1k}, x_{2k},...,x_{nk})^t$  and \n",
    " $a \\in Range(X_k)$\n",
    "\n",
    "<br>\n",
    "\n",
    "The **relative frequency** of the **element**  $a$ in $X_k$ is defined as :\n",
    "\n",
    "\n",
    "$$\n",
    "Fre(a,X_k) =  \\dfrac{Fabs(a,X_k) }{n} =\n",
    "$$\n",
    "$$\n",
    "= \\text{ proportion of observations of $X_k$ that are equal to $a$}\n",
    "$$\n",
    " \n",
    " <br>\n",
    "\n",
    "For example:  $Fre(a=1000,X_k)$ could be the proportion of employees of a company that earn 1000 euros.\n",
    "\n",
    " \n"
   ]
  },
  {
   "cell_type": "markdown",
   "metadata": {},
   "source": []
  },
  {
   "cell_type": "markdown",
   "metadata": {},
   "source": [
    "\n",
    "### Relative frequency of a set <a class=\"anchor\" id=\"39\"></a>\n",
    "\n",
    "Given a variable $X_k=(x_{1k}, x_{2k},...,x_{nk})^t$  and\n",
    " $A \\subset Range(X_k)$\n",
    "\n",
    "<br>\n",
    "\n",
    "The **relative frequency** of the **set** $A$ in $X_k$ is defined as:\n",
    "\n",
    "$$\n",
    "Fre(A,X_k) =  \\dfrac{Fabs(A ,X_k) }{n} = \\\\ = \\text{ proporción de observaciones de $X_k$ que pertenecen a $A$}\n",
    "$$\n",
    "\n",
    " <br>\n",
    "\n",
    "For example:  $Fre(A=[500 , 1500] , X_k)$ could be the proportion of employees of a company that earn between 500 and 1500 euros.\n",
    " \n"
   ]
  },
  {
   "cell_type": "markdown",
   "metadata": {},
   "source": []
  },
  {
   "cell_type": "markdown",
   "metadata": {},
   "source": [
    "### Relative Frequency of an element in R"
   ]
  },
  {
   "cell_type": "code",
   "execution_count": 84,
   "metadata": {},
   "outputs": [],
   "source": [
    "%%R\n",
    "\n",
    "frecuencia_relativa_elemento <- \n",
    "\n",
    "function( variable , elemento ){\n",
    "  \n",
    "frecuencia_relativa_elemento <-\n",
    "\n",
    "frecuencia_absoluta_elemento(variable , elemento)/\n",
    "  length(variable)\n",
    "  \n",
    "  return(frecuencia_relativa_elemento)\n",
    "\n",
    "}"
   ]
  },
  {
   "cell_type": "code",
   "execution_count": 85,
   "metadata": {},
   "outputs": [
    {
     "name": "stdout",
     "output_type": "stream",
     "text": [
      "[1] 0.4975728\n"
     ]
    }
   ],
   "source": [
    "%%R\n",
    "\n",
    "frecuencia_relativa_elemento(data_R$genero, 1)"
   ]
  },
  {
   "cell_type": "markdown",
   "metadata": {},
   "source": []
  },
  {
   "cell_type": "markdown",
   "metadata": {},
   "source": [
    "### Relative Frequency of an element in Python"
   ]
  },
  {
   "cell_type": "code",
   "execution_count": 86,
   "metadata": {},
   "outputs": [],
   "source": [
    "def freq_rel_element_py( variable , element) :\n",
    "\n",
    "   freq_rel_element = freq_abs_element_py(variable , element) / len(variable)\n",
    "\n",
    "   return freq_rel_element"
   ]
  },
  {
   "cell_type": "code",
   "execution_count": 87,
   "metadata": {},
   "outputs": [
    {
     "data": {
      "text/plain": [
       "0.4975728155339806"
      ]
     },
     "execution_count": 87,
     "metadata": {},
     "output_type": "execute_result"
    }
   ],
   "source": [
    "freq_rel_element_py( data_Python['genero'] , 1)"
   ]
  },
  {
   "cell_type": "markdown",
   "metadata": {},
   "source": []
  },
  {
   "cell_type": "markdown",
   "metadata": {},
   "source": [
    "\n",
    "### Relative Frequency of an interval in R\n"
   ]
  },
  {
   "cell_type": "code",
   "execution_count": 88,
   "metadata": {},
   "outputs": [],
   "source": [
    "%%R\n",
    "\n",
    "frecuencia_relativa_intervalo <- \n",
    "  \n",
    "  function( variable, cota_inferior, cota_superior ){\n",
    "  \n",
    "  frecuencia_relativa_intervalo <- \n",
    "  frecuencia_absoluta_intervalo(variable , \n",
    "    cota_inferior, cota_superior)/\n",
    "    length(variable)\n",
    "  \n",
    "  return(frecuencia_relativa_intervalo)\n",
    "  \n",
    "}"
   ]
  },
  {
   "cell_type": "code",
   "execution_count": 89,
   "metadata": {},
   "outputs": [
    {
     "name": "stdout",
     "output_type": "stream",
     "text": [
      "[1] 0.2467638\n"
     ]
    }
   ],
   "source": [
    "%%R\n",
    "\n",
    "frecuencia_relativa_intervalo(data_R$ingresos, 8000, 12000)"
   ]
  },
  {
   "cell_type": "markdown",
   "metadata": {},
   "source": []
  },
  {
   "cell_type": "markdown",
   "metadata": {},
   "source": [
    "### Relative Frequency of an interval in Python"
   ]
  },
  {
   "cell_type": "code",
   "execution_count": 90,
   "metadata": {},
   "outputs": [],
   "source": [
    "def freq_rel_interval_py( df , variable, lower_bound, upper_bound) :\n",
    "\n",
    "   freq_rel_interval = freq_abs_interval_py( df , variable, lower_bound, upper_bound) / len(df)\n",
    "\n",
    "   return freq_rel_interval"
   ]
  },
  {
   "cell_type": "code",
   "execution_count": 91,
   "metadata": {},
   "outputs": [
    {
     "data": {
      "text/plain": [
       "0.24676375404530745"
      ]
     },
     "execution_count": 91,
     "metadata": {},
     "output_type": "execute_result"
    }
   ],
   "source": [
    "freq_rel_interval_py( data_Python , 'ingresos', 8000, 12000)"
   ]
  },
  {
   "cell_type": "markdown",
   "metadata": {},
   "source": []
  },
  {
   "cell_type": "markdown",
   "metadata": {},
   "source": [
    "### Relative Frequency of a discrete set in R"
   ]
  },
  {
   "cell_type": "code",
   "execution_count": 92,
   "metadata": {},
   "outputs": [],
   "source": [
    "%%R\n",
    "\n",
    "frecuencia_relativa_conjunto_discreto <- \n",
    "function( variable, conjunto ){\n",
    "  \n",
    "frecuencia_relativa_conjunto_discreto <-\n",
    "frecuencia_absoluta_conjunto_discreto(variable,conjunto)/\n",
    "  length(variable)\n",
    "  \n",
    "  return(frecuencia_relativa_conjunto_discreto)\n",
    "  \n",
    "}"
   ]
  },
  {
   "cell_type": "code",
   "execution_count": 93,
   "metadata": {},
   "outputs": [
    {
     "name": "stdout",
     "output_type": "stream",
     "text": [
      "[1] 0.5218447\n"
     ]
    }
   ],
   "source": [
    "%%R\n",
    "\n",
    "A=c(1, 3)\n",
    "\n",
    "frecuencia_relativa_conjunto_discreto(data_R$neduc, A)\n"
   ]
  },
  {
   "cell_type": "markdown",
   "metadata": {},
   "source": []
  },
  {
   "cell_type": "markdown",
   "metadata": {},
   "source": [
    "### Relative Frequency of a discrete set in Python"
   ]
  },
  {
   "cell_type": "code",
   "execution_count": 94,
   "metadata": {},
   "outputs": [],
   "source": [
    "def freq_rel_set_py(variable , A) :\n",
    "\n",
    "    freq_abs_set = freq_abs_set_py(variable , A) / len(variable)    \n",
    "\n",
    "    return freq_abs_set"
   ]
  },
  {
   "cell_type": "code",
   "execution_count": 95,
   "metadata": {},
   "outputs": [
    {
     "data": {
      "text/plain": [
       "0.5218446601941747"
      ]
     },
     "execution_count": 95,
     "metadata": {},
     "output_type": "execute_result"
    }
   ],
   "source": [
    "A=pd.Series([ 1 , 3 ])\n",
    "\n",
    "freq_rel_set_py(data_Python['neduc'] , A)"
   ]
  },
  {
   "cell_type": "markdown",
   "metadata": {},
   "source": []
  },
  {
   "cell_type": "markdown",
   "metadata": {},
   "source": [
    "\n",
    "### Cumulative Frequencies <a class=\"anchor\" id=\"40\"></a>\n",
    "\n",
    " \n",
    "The **cumulative absolute frequency** of the element $a$ in $X_k$ is defined as:\n",
    "\n",
    "$$\n",
    "Fabscum(a ,X_k)=Fabs \\left( \\lbrace   i=1,...,n  / x_{ik} \\leq a  \\rbrace , X_k \\right) = \n",
    "$$\n",
    "$$\n",
    "= \\text{nº of observations of $X_k$ that are lower or equal to $a$}\n",
    "$$\n",
    " \n",
    " <br>\n",
    "\n",
    "The **cumulative relative frequency** of the element $a$ in $X_k$ is defined as:\n",
    "\n",
    "$$\n",
    "Frecum(a,X_k)= \\dfrac{Fabscum(a,X_k)}{n} = \n",
    "$$\n",
    "$$\n",
    "= \\text{proportion of observations of $X_k$ that are lower or equal to $a$}\n",
    "$$\n",
    "\n",
    " \n"
   ]
  },
  {
   "cell_type": "markdown",
   "metadata": {},
   "source": []
  },
  {
   "cell_type": "markdown",
   "metadata": {},
   "source": [
    "\n",
    "### Cumulative absolute frequency in R\n"
   ]
  },
  {
   "cell_type": "code",
   "execution_count": 96,
   "metadata": {},
   "outputs": [],
   "source": [
    "%%R\n",
    "\n",
    "frecuencia_absoluta_acumulada <- \n",
    "\n",
    "function(variable, elemento){\n",
    "  \n",
    "frecuencia_absoluta_acumulada <- \n",
    "frecuencia_absoluta_intervalo(variable,-Inf,elemento)\n",
    "    \n",
    " return(frecuencia_absoluta_acumulada)\n",
    "}"
   ]
  },
  {
   "cell_type": "code",
   "execution_count": 97,
   "metadata": {},
   "outputs": [
    {
     "name": "stdout",
     "output_type": "stream",
     "text": [
      "[1] 289\n"
     ]
    }
   ],
   "source": [
    "%%R\n",
    "\n",
    "frecuencia_absoluta_acumulada(data_R$ingresos, 8000)"
   ]
  },
  {
   "cell_type": "markdown",
   "metadata": {},
   "source": []
  },
  {
   "cell_type": "markdown",
   "metadata": {},
   "source": [
    "### Cumulative absolute frequency in Python\n"
   ]
  },
  {
   "cell_type": "code",
   "execution_count": 98,
   "metadata": {},
   "outputs": [],
   "source": [
    "import math"
   ]
  },
  {
   "cell_type": "code",
   "execution_count": 99,
   "metadata": {},
   "outputs": [],
   "source": [
    "def freq_abs_cum_py(df , variable , element) :\n",
    "  \n",
    "  # We need import 'math' package\n",
    "\n",
    "    freq_abs_cum = freq_abs_interval_py(df , variable, -math.inf , element)\n",
    "\n",
    "    return freq_abs_cum"
   ]
  },
  {
   "cell_type": "code",
   "execution_count": 100,
   "metadata": {},
   "outputs": [
    {
     "data": {
      "text/plain": [
       "289"
      ]
     },
     "execution_count": 100,
     "metadata": {},
     "output_type": "execute_result"
    }
   ],
   "source": [
    "freq_abs_cum_py( data_Python , 'ingresos' , 8000 )"
   ]
  },
  {
   "cell_type": "code",
   "execution_count": 101,
   "metadata": {},
   "outputs": [
    {
     "data": {
      "text/plain": [
       "289"
      ]
     },
     "execution_count": 101,
     "metadata": {},
     "output_type": "execute_result"
    }
   ],
   "source": [
    "freq_abs_interval_py(data_Python , 'ingresos', -10**99 , 8000)"
   ]
  },
  {
   "cell_type": "markdown",
   "metadata": {},
   "source": []
  },
  {
   "cell_type": "markdown",
   "metadata": {},
   "source": [
    "\n",
    "### Cumulative relative frequency in R\n"
   ]
  },
  {
   "cell_type": "code",
   "execution_count": 102,
   "metadata": {},
   "outputs": [],
   "source": [
    "%%R\n",
    "\n",
    "frecuencia_relativa_acumulada <- \n",
    "\n",
    "function(variable, elemento){\n",
    "  \n",
    "frecuencia_relativa_acumulada <-\n",
    "\n",
    "frecuencia_absoluta_acumulada(variable,elemento)/\n",
    "  length(variable)\n",
    "    \n",
    "  return(frecuencia_relativa_acumulada)\n",
    "}"
   ]
  },
  {
   "cell_type": "code",
   "execution_count": 103,
   "metadata": {},
   "outputs": [
    {
     "name": "stdout",
     "output_type": "stream",
     "text": [
      "[1] 0.2338188\n"
     ]
    }
   ],
   "source": [
    "%%R\n",
    "\n",
    "frecuencia_relativa_acumulada(data_R$ingresos, 8000)"
   ]
  },
  {
   "cell_type": "markdown",
   "metadata": {},
   "source": [
    "### Cumulative relative frequency in Python\n"
   ]
  },
  {
   "cell_type": "code",
   "execution_count": 104,
   "metadata": {},
   "outputs": [],
   "source": [
    "def freq_rel_cum_py(df , variable , element) :\n",
    "  \n",
    "  # We need import 'math' package\n",
    "\n",
    "    freq_rel_cum = freq_rel_interval_py(df , variable, -math.inf , element)\n",
    "\n",
    "    return freq_rel_cum"
   ]
  },
  {
   "cell_type": "code",
   "execution_count": 105,
   "metadata": {},
   "outputs": [
    {
     "data": {
      "text/plain": [
       "0.23381877022653721"
      ]
     },
     "execution_count": 105,
     "metadata": {},
     "output_type": "execute_result"
    }
   ],
   "source": [
    "freq_rel_cum_py( data_Python , 'ingresos' , 8000 )"
   ]
  },
  {
   "cell_type": "markdown",
   "metadata": {},
   "source": []
  },
  {
   "cell_type": "markdown",
   "metadata": {},
   "source": [
    "## Frequency Table <a class=\"anchor\" id=\"41\"></a>\n"
   ]
  },
  {
   "cell_type": "markdown",
   "metadata": {},
   "source": [
    "A frequency table is a table that contains the absolut, relative and also cumulative frequencies of a statistical variable."
   ]
  },
  {
   "cell_type": "markdown",
   "metadata": {},
   "source": [
    "### Frequency Table in Python <a class=\"anchor\" id=\"42\"></a>\n"
   ]
  },
  {
   "cell_type": "markdown",
   "metadata": {},
   "source": [
    "\n",
    "We are going to create a function in Python which has as input essentially a variable, and it gives us a frequency table for that variable. \n",
    "\n",
    "The features of the function will be the following:\n",
    "\n",
    "-   **Input :** `df` is a pandas data frame\n",
    "\n",
    "-   **Input :** `var1` is a column of the data frame df\n",
    "\n",
    "-   `var1` can be a categorical variable or a categorized quantitative variable.\n",
    "\n",
    "-   The range of `var1` must be $\\hspace{0.1cm}$ $0:p1$ $\\hspace{0.1cm}$ , with $\\hspace{0.1cm}$ $p1=1,2,3,...$\n",
    "\n",
    "-   **Input :** `p1`\n"
   ]
  },
  {
   "cell_type": "code",
   "execution_count": 106,
   "metadata": {},
   "outputs": [],
   "source": [
    "def Frequency_table_py( df , var1 , p1 , var1_name) :\n",
    "\n",
    "    table = np.zeros(( p1+1 , 4))\n",
    "    table[:] = np.nan\n",
    "\n",
    "##########################################################\n",
    "\n",
    "    for i in range(0, p1+1) :\n",
    "\n",
    "        table[i , 0] = freq_abs_element_py(var1 , i)\n",
    "\n",
    "    for i in range(0, p1+1) :\n",
    "\n",
    "        table[i , 1] = freq_rel_element_py(var1 , i)\n",
    "\n",
    "    for i in range(0, p1+1) :\n",
    "\n",
    "        table[i , 2] = freq_abs_cum_py(df, var1_name , i)\n",
    "\n",
    "    for i in range(0, p1+1) :\n",
    "\n",
    "        table[i , 3] = freq_rel_cum_py(df, var1_name , i)\n",
    "\n",
    "##########################################################\n",
    "\n",
    "    table = pd.DataFrame(table)\n",
    "\n",
    "    table.columns = [ 'F.abs' , 'F.rel' , 'F.abs.cum', 'F.rel.cum']\n",
    "\n",
    "    table[var1_name] = range(0, p1+1)\n",
    "\n",
    "    table = table.set_index(var1_name)\n",
    "\n",
    "    return table "
   ]
  },
  {
   "cell_type": "markdown",
   "metadata": {},
   "source": [
    " **Warning :** `range(0,p1)` is equivalente to `0:(p1-1)` in R , and we want `0:p1`, so we must use `range(0,p1+1)`"
   ]
  },
  {
   "cell_type": "code",
   "execution_count": 107,
   "metadata": {},
   "outputs": [
    {
     "name": "stdout",
     "output_type": "stream",
     "text": [
      "0 1 "
     ]
    }
   ],
   "source": [
    "for i in range(0,2):\n",
    "    print(i , end = ' ')"
   ]
  },
  {
   "cell_type": "markdown",
   "metadata": {},
   "source": []
  },
  {
   "cell_type": "markdown",
   "metadata": {},
   "source": [
    "### Frequency Table in R <a class=\"anchor\" id=\"43\"></a>"
   ]
  },
  {
   "cell_type": "markdown",
   "metadata": {},
   "source": [
    "We are going to create a function in R which has as input essentially a variable, and it gives us a frequency table for that variable. \n",
    "\n",
    "The features of the function will be the following:\n",
    "\n",
    "-   **Input :** `df` is a R data frame\n",
    "\n",
    "-   **Input:** `var1` is a column of the data frame `df`\n",
    "\n",
    "-   `var1` must be load in R as a vector\n",
    "\n",
    "-   `var1` can be a categorical variable or a categorized quantitative variable.\n",
    "\n",
    "-   The range of `var1` must be $\\hspace{0.1cm}$ $0:p1$ $\\hspace{0.1cm}$ , with $\\hspace{0.1cm}$ $p1=1,2,3,...$\n",
    "\n",
    "-   **Input :** `p1`\n"
   ]
  },
  {
   "cell_type": "code",
   "execution_count": 108,
   "metadata": {},
   "outputs": [],
   "source": [
    "%%R\n",
    "\n",
    "Tabla_Frecuencias  <- function(df, var1 , p1 ){\n",
    "\n",
    "tabla<- matrix(NA, nrow=p1+1, ncol= 4 )\n",
    "df<- cbind(df, var1)\n",
    "\n",
    "for(i in 0:p1){\n",
    "\n",
    "  tabla[i+1, 1 ] <-  dim( ( df  %>% filter(var1==i ) ) )[1]  \n",
    "}\n",
    "\n",
    "for(i in 0:p1){\n",
    "   \n",
    "  tabla[i+1, 2 ] <- ( dim( ( df  %>% filter(var1==i ) ) )[1] / dim(df)[1] )\n",
    "}\n",
    "\n",
    "for(i in 0:p1){\n",
    "\n",
    "  tabla[i+1, 3] <- cumsum(tabla[1:(i+1) ,1])[i+1]\n",
    "}\n",
    "\n",
    "for(i in 0:p1){\n",
    "   \n",
    "  tabla[i+1, 4] <- cumsum(tabla[1:(i+1) ,2])[i+1]\n",
    "}\n",
    "\n",
    " rownames(tabla)<-0:p1\n",
    " colnames(tabla)<-c(\"F.Abs\",\"F.Rel\", \"F.Abs.Cum\",\"F.Rel.Cum\")\n",
    " \n",
    " tabla <- as.data.frame(tabla)\n",
    " \n",
    " return(tabla) \n",
    "}"
   ]
  },
  {
   "cell_type": "markdown",
   "metadata": {},
   "source": []
  },
  {
   "cell_type": "markdown",
   "metadata": {},
   "source": [
    "### Frequency Table for categorical variables in Python"
   ]
  },
  {
   "cell_type": "markdown",
   "metadata": {},
   "source": [
    "In order to be able to use our function, we must redefine the categorical variable that we are going to use. Remember it´s range must be $\\hspace{0.1cm}$ $0,1,...,p1$\n",
    "\n",
    "We have to recode our categorical variable as a standard categorical variable, i.e. set it´s range as $0,1,2,3...$"
   ]
  },
  {
   "cell_type": "markdown",
   "metadata": {},
   "source": [
    "We are going to compute the frequency table of 'genero' variable. It has $Range(genero)=\\lbrace 1, 2 \\rbrace$ , so we hace to convert it to $Range(genero)=\\lbrace 0, 1 \\rbrace$"
   ]
  },
  {
   "cell_type": "markdown",
   "metadata": {},
   "source": [
    "Let´s do it in Python:"
   ]
  },
  {
   "cell_type": "code",
   "execution_count": 110,
   "metadata": {},
   "outputs": [],
   "source": [
    "(data_Python['genero_recode']) = 0\n",
    "\n",
    "for i in range(0 , len(data_Python)) :\n",
    "\n",
    "    if (data_Python['genero'])[i] == 1 :\n",
    "\n",
    "        (data_Python['genero_recode'])[i] = 0\n",
    "\n",
    "    if (data_Python['genero'])[i] == 2 :\n",
    "\n",
    "        (data_Python['genero_recode'])[i] = 1"
   ]
  },
  {
   "cell_type": "code",
   "execution_count": 111,
   "metadata": {},
   "outputs": [
    {
     "data": {
      "text/html": [
       "<div>\n",
       "<style scoped>\n",
       "    .dataframe tbody tr th:only-of-type {\n",
       "        vertical-align: middle;\n",
       "    }\n",
       "\n",
       "    .dataframe tbody tr th {\n",
       "        vertical-align: top;\n",
       "    }\n",
       "\n",
       "    .dataframe thead th {\n",
       "        text-align: right;\n",
       "    }\n",
       "</style>\n",
       "<table border=\"1\" class=\"dataframe\">\n",
       "  <thead>\n",
       "    <tr style=\"text-align: right;\">\n",
       "      <th></th>\n",
       "      <th>provincia</th>\n",
       "      <th>genero</th>\n",
       "      <th>edad</th>\n",
       "      <th>nac</th>\n",
       "      <th>neduc</th>\n",
       "      <th>sitlab</th>\n",
       "      <th>ingresos</th>\n",
       "      <th>horas</th>\n",
       "      <th>genero_recode</th>\n",
       "    </tr>\n",
       "  </thead>\n",
       "  <tbody>\n",
       "    <tr>\n",
       "      <th>0</th>\n",
       "      <td>Huesca</td>\n",
       "      <td>1</td>\n",
       "      <td>3</td>\n",
       "      <td>1</td>\n",
       "      <td>3</td>\n",
       "      <td>1</td>\n",
       "      <td>21237.1</td>\n",
       "      <td>36.42</td>\n",
       "      <td>0</td>\n",
       "    </tr>\n",
       "    <tr>\n",
       "      <th>1</th>\n",
       "      <td>Huesca</td>\n",
       "      <td>2</td>\n",
       "      <td>2</td>\n",
       "      <td>1</td>\n",
       "      <td>2</td>\n",
       "      <td>1</td>\n",
       "      <td>17810.8</td>\n",
       "      <td>31.72</td>\n",
       "      <td>1</td>\n",
       "    </tr>\n",
       "    <tr>\n",
       "      <th>2</th>\n",
       "      <td>Huesca</td>\n",
       "      <td>1</td>\n",
       "      <td>1</td>\n",
       "      <td>1</td>\n",
       "      <td>2</td>\n",
       "      <td>1</td>\n",
       "      <td>11889.1</td>\n",
       "      <td>31.88</td>\n",
       "      <td>0</td>\n",
       "    </tr>\n",
       "    <tr>\n",
       "      <th>3</th>\n",
       "      <td>Huesca</td>\n",
       "      <td>1</td>\n",
       "      <td>1</td>\n",
       "      <td>1</td>\n",
       "      <td>2</td>\n",
       "      <td>1</td>\n",
       "      <td>16000.5</td>\n",
       "      <td>38.18</td>\n",
       "      <td>0</td>\n",
       "    </tr>\n",
       "    <tr>\n",
       "      <th>4</th>\n",
       "      <td>Huesca</td>\n",
       "      <td>1</td>\n",
       "      <td>1</td>\n",
       "      <td>1</td>\n",
       "      <td>2</td>\n",
       "      <td>3</td>\n",
       "      <td>21169.6</td>\n",
       "      <td>0.00</td>\n",
       "      <td>0</td>\n",
       "    </tr>\n",
       "  </tbody>\n",
       "</table>\n",
       "</div>"
      ],
      "text/plain": [
       "  provincia genero edad nac  neduc sitlab  ingresos  horas  genero_recode\n",
       "0    Huesca      1    3   1      3      1   21237.1  36.42              0\n",
       "1    Huesca      2    2   1      2      1   17810.8  31.72              1\n",
       "2    Huesca      1    1   1      2      1   11889.1  31.88              0\n",
       "3    Huesca      1    1   1      2      1   16000.5  38.18              0\n",
       "4    Huesca      1    1   1      2      3   21169.6   0.00              0"
      ]
     },
     "execution_count": 111,
     "metadata": {},
     "output_type": "execute_result"
    }
   ],
   "source": [
    "data_Python.head()"
   ]
  },
  {
   "cell_type": "code",
   "execution_count": 112,
   "metadata": {},
   "outputs": [
    {
     "data": {
      "text/html": [
       "<div>\n",
       "<style scoped>\n",
       "    .dataframe tbody tr th:only-of-type {\n",
       "        vertical-align: middle;\n",
       "    }\n",
       "\n",
       "    .dataframe tbody tr th {\n",
       "        vertical-align: top;\n",
       "    }\n",
       "\n",
       "    .dataframe thead th {\n",
       "        text-align: right;\n",
       "    }\n",
       "</style>\n",
       "<table border=\"1\" class=\"dataframe\">\n",
       "  <thead>\n",
       "    <tr style=\"text-align: right;\">\n",
       "      <th></th>\n",
       "      <th>F.abs</th>\n",
       "      <th>F.rel</th>\n",
       "      <th>F.abs.cum</th>\n",
       "      <th>F.rel.cum</th>\n",
       "    </tr>\n",
       "    <tr>\n",
       "      <th>genero_recode</th>\n",
       "      <th></th>\n",
       "      <th></th>\n",
       "      <th></th>\n",
       "      <th></th>\n",
       "    </tr>\n",
       "  </thead>\n",
       "  <tbody>\n",
       "    <tr>\n",
       "      <th>0</th>\n",
       "      <td>615.0</td>\n",
       "      <td>0.497573</td>\n",
       "      <td>615.0</td>\n",
       "      <td>0.497573</td>\n",
       "    </tr>\n",
       "    <tr>\n",
       "      <th>1</th>\n",
       "      <td>621.0</td>\n",
       "      <td>0.502427</td>\n",
       "      <td>1236.0</td>\n",
       "      <td>1.000000</td>\n",
       "    </tr>\n",
       "  </tbody>\n",
       "</table>\n",
       "</div>"
      ],
      "text/plain": [
       "               F.abs     F.rel  F.abs.cum  F.rel.cum\n",
       "genero_recode                                       \n",
       "0              615.0  0.497573      615.0   0.497573\n",
       "1              621.0  0.502427     1236.0   1.000000"
      ]
     },
     "execution_count": 112,
     "metadata": {},
     "output_type": "execute_result"
    }
   ],
   "source": [
    "Frequency_table_py( data_Python, var1=data_Python['genero_recode'] , p1=1 , var1_name='genero_recode')"
   ]
  },
  {
   "cell_type": "markdown",
   "metadata": {},
   "source": []
  },
  {
   "cell_type": "markdown",
   "metadata": {},
   "source": [
    "Let´s check the result that we have got:"
   ]
  },
  {
   "cell_type": "code",
   "execution_count": 113,
   "metadata": {},
   "outputs": [
    {
     "data": {
      "text/plain": [
       "615"
      ]
     },
     "execution_count": 113,
     "metadata": {},
     "output_type": "execute_result"
    }
   ],
   "source": [
    "freq_abs_element_py(data_Python['genero'] , 1) "
   ]
  },
  {
   "cell_type": "code",
   "execution_count": 114,
   "metadata": {},
   "outputs": [
    {
     "data": {
      "text/plain": [
       "621"
      ]
     },
     "execution_count": 114,
     "metadata": {},
     "output_type": "execute_result"
    }
   ],
   "source": [
    "freq_abs_element_py(data_Python['genero'] , 2)"
   ]
  },
  {
   "cell_type": "code",
   "execution_count": 115,
   "metadata": {},
   "outputs": [
    {
     "data": {
      "text/plain": [
       "0.4975728155339806"
      ]
     },
     "execution_count": 115,
     "metadata": {},
     "output_type": "execute_result"
    }
   ],
   "source": [
    "freq_rel_element_py(data_Python['genero'] , 1)"
   ]
  },
  {
   "cell_type": "code",
   "execution_count": 116,
   "metadata": {},
   "outputs": [
    {
     "data": {
      "text/plain": [
       "0.5024271844660194"
      ]
     },
     "execution_count": 116,
     "metadata": {},
     "output_type": "execute_result"
    }
   ],
   "source": [
    "freq_rel_element_py(data_Python['genero'] , 2)"
   ]
  },
  {
   "cell_type": "markdown",
   "metadata": {},
   "source": []
  },
  {
   "cell_type": "markdown",
   "metadata": {},
   "source": [
    "### Frequency Table for categorical variables in R"
   ]
  },
  {
   "cell_type": "markdown",
   "metadata": {},
   "source": [
    "In order to be able to use our function, we must redefine the categorical variable that we are going to use and it must be load in Ras a vecto too. Remember it´s range must be $\\hspace{0.1cm}$ $0,1,...,p1$\n",
    "\n",
    "We have to recode our categorical variable as a standard categorical variable, i.e. set it´s range as $0,1,2,3...$"
   ]
  },
  {
   "cell_type": "markdown",
   "metadata": {},
   "source": [
    "We are going to compute the frequency table of 'neduc' variable. It has $Range(genero)=\\lbrace 1, 2, 3 \\rbrace$ , so we hace to convert it to $Range(genero)=\\lbrace 0, 1, 2 \\rbrace$"
   ]
  },
  {
   "cell_type": "markdown",
   "metadata": {},
   "source": [
    "Let´s do it in R:"
   ]
  },
  {
   "cell_type": "code",
   "execution_count": 117,
   "metadata": {},
   "outputs": [
    {
     "name": "stdout",
     "output_type": "stream",
     "text": [
      "  F.Abs     F.Rel F.Abs.Cum F.Rel.Cum\n",
      "0   443 0.3584142       443 0.3584142\n",
      "1   591 0.4781553      1034 0.8365696\n",
      "2   202 0.1634304      1236 1.0000000\n"
     ]
    }
   ],
   "source": [
    "%%R\n",
    "\n",
    "data_R$neduc<-recode(data_R$neduc, \"1\"=\"0\", \"2\"=\"1\", \"3\"=\"2\")\n",
    "\n",
    "neduc<- data_R$neduc\n",
    "\n",
    "Tabla_Frecuencias(df=data_R, var1=neduc, p1=2)"
   ]
  },
  {
   "cell_type": "markdown",
   "metadata": {},
   "source": []
  },
  {
   "cell_type": "markdown",
   "metadata": {},
   "source": [
    "### Frequency Table for quantitative variables"
   ]
  },
  {
   "cell_type": "markdown",
   "metadata": {},
   "source": [
    "To use this function we must first correctly redefine the\n",
    "variable used:\n",
    "\n",
    "- Using a **quantitative variable** , it has to be categorized using some categorization rule, such as the rule of mean, median, quartiles, Scott... In such a way that its categories are of the form $0,1,.. .,p1$"
   ]
  },
  {
   "cell_type": "markdown",
   "metadata": {},
   "source": [
    "#### Categorization of Quantitative Variables <a class=\"anchor\" id=\"44\"></a>\n"
   ]
  },
  {
   "cell_type": "markdown",
   "metadata": {},
   "source": [
    "Given a quantitative variable $X_k=(x_{1k},...,x_{nk})^t$ , we try to obtain its categorized version $X_k^{cat}=(x_{1k}^{cat}, . . .,x_{nk}^{cat})^t$\n",
    "\n",
    "The categorized version of a quantitative variable $X_k$ is another\n",
    "variable $X_k^{cat}$ that is categorical, and that takes values ​​depending on\n",
    "the observations of $X_k$.\n",
    "\n",
    "\n",
    "The idea is the following:\n",
    "\n",
    "Given a quantitative variable $X_k$ ,\n",
    "\n",
    "You have to define the **categorization intervals** of $X_k$, which are a series of intervals\n",
    "$[L_{1},L_{2}), [L_{2}, L_{3}),..., [L_{\\lambda},L_{\\lambda+1})$ , such that:\n",
    "\n",
    "- They are disjoint two by two (they don't share elements).\n",
    "\n",
    "- Each observation/value of $X_k$ belongs to some interval.\n",
    "\n",
    "- They have the same amplitude (same size).\n",
    "\n",
    "\n",
    "Once the categorization intervals of $X_k$ have been defined, the following rule is applied to define $X_k^{cat}$\n",
    "\n",
    "$$\n",
    "x^{cat}_{ik} = \\left\\lbrace\\begin{array}{l} 0, \\text{ if $x_{ik} \\in [L_{1},L_{2})$} \\\\ 1, \\text{ if $x_{ik} \\in [L_{2},L_{3}) $}\n",
    "\\\\ ...\n",
    "\\\\ \\lambda, \\text{ if $x_{ik} \\in [L_{\\lambda},L_{\\lambda+1}) $} \\end{array}\\right.\n",
    "$$\n",
    "\n",
    "\n",
    "Definitely:\n",
    "\n",
    "$$\n",
    "x_{ik} \\in [L_{r}, L_{r+1}] \\ \\Leftrightarrow \\ x_{ik}^{cat} = r-1\n",
    "$$\n",
    "\n",
    "for  $\\hspace{0.1cm} r=1,...,\\lambda > 0$\n",
    "\n",
    "\n",
    "\n",
    "Where:\n",
    "\n",
    "$[L_{r}, L_{r+1}]$ is the $r$-th interval of the categorization intervals of $X_k$\n",
    "\n",
    "\n",
    "There are different rules to define the categorization intervals\n",
    "of a quantitative variable. In this paper we will see the rules of the\n",
    "median, mean, quartiles and Scott."
   ]
  },
  {
   "cell_type": "markdown",
   "metadata": {},
   "source": []
  },
  {
   "cell_type": "markdown",
   "metadata": {},
   "source": [
    "### Median Rule <a class=\"anchor\" id=\"45\"></a>\n",
    "\n",
    "According to the median rule, the categorization intervals of $X_k$\n",
    "are:\n",
    "\n",
    "$$\n",
    "[\\hspace{0.1cm} Min(X_k), Median(X_k)\\hspace{0.1cm} ] \\hspace{0.2cm},\\hspace{0.2cm} (\\hspace{0.1cm} Median(X_k), Max(X_k) \\hspace{0.1cm} ]\n",
    "$$\n",
    "\n",
    "<br>\n",
    "\n",
    "Therefore, from $X_k$ we obtain the variable $X_k^{cat}$ defined\n",
    "What:\n",
    "\n",
    "$$\n",
    "x^{cat}_{ik} = \\left\\lbrace\\begin{array}{l} 0, \\text{ if $x_{ik} \\in [Min(X_k), Median(X_k)]$} \\\\ 1, \\text{ if $x_{ik} \\in (Median(X_k), Max(X_k)]$} \\end{array}\\right.\n",
    "$$\n"
   ]
  },
  {
   "cell_type": "markdown",
   "metadata": {},
   "source": []
  },
  {
   "cell_type": "markdown",
   "metadata": {},
   "source": [
    "### Mean Rule <a class=\"anchor\" id=\"46\"></a>\n",
    "\n",
    "According to the mean rule, the categorization intervals of $X_k$\n",
    "are:\n",
    "\n",
    "$$\n",
    "\\left[\\hspace{0.1cm} Min(X_k) \\hspace{0.02cm} ,\\hspace{0.02cm} \\overline{x_k} \\hspace{0.1cm}\\right] \\hspace{0.2cm},\\hspace{0.2cm} \\left(\\hspace{0.1cm} \\overline{x_k} \\hspace{0.02cm},\\hspace{0.02cm} Max(X_k) \\hspace{0.1cm}\\right]\n",
    "$$\n",
    "\n",
    "<br>\n",
    "\n",
    "Therefore, from $X_k$ we obtain the variable $X_k^{cat}$ defined\n",
    "What:\n",
    "\n",
    "$$\n",
    "x^{cat}_{ik} = \\left\\lbrace\\begin{array}{l} 0, \\text{ if $x_{ik} \\in [Min(X_k)\\hspace{0.02cm},\\hspace{ 0.02cm} \\overline{x_k} ]$} \\\\ 1, \\text{ if $x_{ik} \\in (\\overline{x_k} \\hspace{0.02cm},\\hspace{0.02cm} Max(X_k)] $} \\end{array}\\right.\n",
    "$$\n"
   ]
  },
  {
   "cell_type": "markdown",
   "metadata": {},
   "source": []
  },
  {
   "cell_type": "markdown",
   "metadata": {},
   "source": [
    "### Quartile Rule  <a class=\"anchor\" id=\"47\"></a>\n",
    "\n",
    "According to the quartile rule, the categorization intervals of $X_k$\n",
    "are:\n",
    "\n",
    "$$\n",
    "\\left[\\hspace{0.1cm} Min(X_k) \\hspace{0.03cm} ,\\hspace{0.03cm} Q(0.25,X_k) \\hspace{0.1cm}\\right] \\hspace{0.1cm},\\hspace {0.1cm} \\left(\\hspace{0.1cm}Q(0.25,X_k) \\hspace{0.02cm},\\hspace{0.02cm} Q(0.50,X_k) \\hspace{0.1cm}\\right] \\hspace{ 0.1cm}, \\hspace{0.1cm}\\\\ \\left(\\hspace{0.1cm} Q(0.50,X_k) \\hspace{0.02cm},\\hspace{0.02cm} Q(0.75,X_k) \\hspace{0.1 cm}\\right] \\hspace{0.1cm},\\hspace{0.1cm} \\left(\\hspace{0.1cm} Q(0.75,X_k) \\hspace{0.02cm},\\hspace{0.02cm} Max(X_k) \\hspace{0.1cm}\\right]\n",
    "$$\n",
    "\n",
    "<br>\n",
    "\n",
    "Therefore, from $X_k$ we obtain the variable $X_k^{cat}$ defined\n",
    "as:\n",
    "\n",
    "$$\n",
    "x^{cat}_{ik} = \\left\\lbrace\\begin{array}{l} 0, \\text{ if $x_{ik} \\in \\left[ Min(X_k) \\hspace{0.03cm} ,\\hspace{0.03cm} Q(0.25,X_k) \\right] $} \\\\ 1, \\text{ if $x_{ik} \\in \\left[ Q(0.25 , X_k) , Q(0.50 , X_k)\\right] $}   \n",
    "\\\\ 2, \\text{ if $x_{ik} \\in (Q(0.50 , X_k) , Q(0.75 , X_k)] $}    \\\\ 3, \\text{ if $x_{ik} \\in \\left(Q(0.75,X_k) \\hspace{0.02cm},\\hspace{0.02cm} Max(X_k)\\right] $} \\end{array}\\right.\n",
    "$$"
   ]
  },
  {
   "cell_type": "markdown",
   "metadata": {},
   "source": []
  },
  {
   "cell_type": "markdown",
   "metadata": {},
   "source": [
    "### Scott's Rule <a class=\"anchor\" id=\"48\"></a>\n",
    "\n",
    "According to Scott's rule, the categorization intervals of $X_k$\n",
    "are: $[L_{1},L_{2}), [L_{2}, L_{3}),...,[L_{ \\lambda},L_{ \\lambda+1})$\n",
    "\n",
    "Therefore, from $X_k$ we obtain the variable $X_k^{cat}$ defined\n",
    "What:\n",
    "\n",
    "$$\n",
    " x^{cat}_{ik} = \\left\\lbrace\\begin{array}{l} 0, \\text{ if $x_{ik} \\in [L_{1},L_{2})$} \\\\ 1, \\text{ if $x_{ik} \\in [L_{2},L_{3}) $}\n",
    " ... \\lambda, \\text{ if $x_{ik} \\in [L_{\\lambda},L_{\\lambda+1}) $} \\end{array}\\right.\n",
    "$$\n",
    "\n",
    "<br>\n",
    "\n",
    "The procedure for calculating Scott intervals is as follows:\n",
    "\n",
    "\n",
    "\n",
    "1. Determine the number of class intervals:\n",
    "\n",
    "\n",
    "First you have to determine the **theoretical amplitude** $A_t$ of the\n",
    "classes, which is calculated as:\n",
    "\n",
    "$$\n",
    "A_{t} = 3.5 \\cdot S (X_k) \\cdot n^{-1/3}\n",
    "$$\n",
    "\n",
    "The **number of intervals** will be:\n",
    "\n",
    "$$\n",
    "\\lambda=\\left\\lceil \\frac{Max(X_k)-Min(X_k)}{A_{t}} \\right\\rceil\n",
    "$$\n",
    "\n",
    "<br>\n",
    "\n",
    "2. Determine the width of the intervals:\n",
    "\n",
    "The **width** of the intervals $A$ will be the same for all\n",
    "them and is defined by:\n",
    "\n",
    "$$\n",
    "A=\\left\\lceil \\frac{Max(X_k)-Min(X_k)}{\\lambda} \\right\\rceil\n",
    "$$\n",
    "\n",
    "<br>\n",
    "\n",
    "3. Determine the ends of the intervals:\n",
    "\n",
    "\n",
    "The intervals will be:\n",
    "$[L_{1},L_{2}), [L_{2}, L_{3}),...,[L_{ \\lambda},L_{ \\lambda+1})$\n",
    "\n",
    " \n",
    "\n",
    "Where $L_{i}, L_{i+1}$ are the lower and upper intervals,\n",
    "respectively, of the interval $i$-th.\n",
    "\n",
    "<br>\n",
    "\n",
    "Scott's rule for determining the **extrems of the intervals** is the next:\n",
    "\n",
    "$$\n",
    "   L_{1}= Min(X_k) - c \\\\\n",
    "  L_{2}=L_{1} + A \\\\\n",
    "  L_{3}=L_{2} + A\\\\\n",
    "   ... \\\\\n",
    "   L_{\\lambda+1}=L_{\\lambda} + A\n",
    "$$\n",
    "\n",
    "Where: $c \\geq 0$ must be chosen at the convenience of the analyst.\n",
    "\n",
    "<br>\n",
    "\n",
    "In general:\n",
    "\n",
    "$$\n",
    "   L_{i}=L_{1} + (i-1)\\cdot A \\hspace{0.5cm} i=1,...,\\lambda+1\n",
    "$$\n",
    "\n"
   ]
  },
  {
   "cell_type": "markdown",
   "metadata": {},
   "source": []
  },
  {
   "cell_type": "markdown",
   "metadata": {},
   "source": [
    "### Modified Scott's Rule <a class=\"anchor\" id=\"49\"></a>\n",
    "\n",
    "Modified Scott's rule is a variation of Scott's rule that allows you to choose the number of categorization intervals.\n",
    "\n",
    "<br>\n",
    "\n",
    "According to the Modified Scott's rule, the categorization intervals of $X_k$\n",
    "child: $[L_{1},L_{2}), [L_{2}, L_{3}),...,[L_{ \\lambda},L_{ \\lambda+1})$\n",
    "\n",
    "Therefore, from $X_k$ we obtain the variable $X_k^{cat}$ defined\n",
    "What:\n",
    "\n",
    "$$\n",
    "x^{cat}_{ik} = \\left\\lbrace\\begin{array}{l} 0, \\text{ if $x_{ik} \\in [L_{1},L_{2})$} \\\\ 1, \\text{ if $x_{ik} \\in [L_{2},L_{3}) $}\n",
    "\\\\ ...\n",
    "\\\\ \\lambda, \\text{ if $x_{ik} \\in [L_{\\lambda},L_{\\lambda+1}) $} \\end{array}\\right.\n",
    "$$\n",
    "\n",
    "<br>\n",
    "\n",
    "The procedure for calculating Modified Scott intervals is as follows:\n",
    "\n",
    "\n",
    "1. Determine the number of class intervals:\n",
    "\n",
    "This is the big difference between the simple and the modified Scott's rule.\n",
    "\n",
    "The number of intervals $\\lambda$ is chosen at the discretion of the analyst.\n",
    "\n",
    "<br>\n",
    "\n",
    "2. Determine the width of the intervals:\n",
    "\n",
    "The \\textbf{width} of the intervals $A$ will be the same for all\n",
    "them and is defined by:\n",
    "\n",
    "$$\n",
    "A=\\left\\lceil \\frac{Max(X_k)-Min(X_k)}{\\lambda} \\right\\rceil\n",
    "$$\n",
    "\n",
    "<br>\n",
    "\n",
    "3. Determine the ends of the intervals:\n",
    "\n",
    " \n",
    "The intervals will be:\n",
    "$[L_{1},L_{2}), [L_{2}, L_{3}),...,[L_{ \\lambda},L_{ \\lambda+1})$\n",
    "\n",
    " \n",
    "Where $L_{i}, L_{i+1}$ are the lower and upper intervals,\n",
    "respectively, of the interval $i$-th.\n",
    "\n",
    " \n",
    "<br>\n",
    "\n",
    "Scott's rule for determining the **extrems of the intervals** is\n",
    "The next:\n",
    "\n",
    "$$\n",
    "  L_{1}= Min(X_k) - c \\\\\n",
    "  L_{2}=L_{1} + A \\\\\n",
    "  L_{3}=L_{2} + A\\\\\n",
    "   ... \\\\\n",
    "   L_{\\lambda+1}=L_{\\lambda} + A\n",
    "$$\n",
    "\n",
    "Where: $c \\geq 0$ must be chosen at the convenience of the analyst.\n",
    "\n",
    "<br>\n",
    "\n",
    "In general:\n",
    "\n",
    "$$\n",
    "   L_{i}=L_{1} + (i-1)\\cdot A \\hspace{0.5cm} i=1,...,\\lambda\n",
    "$$"
   ]
  },
  {
   "cell_type": "markdown",
   "metadata": {},
   "source": []
  },
  {
   "cell_type": "markdown",
   "metadata": {},
   "source": [
    "### Frequency Table for quantitative variables in Python"
   ]
  },
  {
   "cell_type": "markdown",
   "metadata": {},
   "source": [
    "We are going to compute a frequency table for 'ingresos' variable.\n",
    "\n",
    "To be able to use our function we have to categorize 'ingresos' because is a quantitative variable. For that propose we will use several rules as examples."
   ]
  },
  {
   "cell_type": "markdown",
   "metadata": {},
   "source": [
    "The key Python function in this section is the pandas function `cut`. This functions allows us to categorize quantitative variable in a ridiculous easy way."
   ]
  },
  {
   "cell_type": "markdown",
   "metadata": {},
   "source": [
    "You can get more information abutl `cut`in the official `pandas` web page:\n",
    "\n",
    "https://pandas.pydata.org/docs/reference/api/pandas.cut.html\n",
    "\n",
    "As a brief introducction to `cut`, here are all it´s available arguments:\n",
    "\n",
    "pandas.cut(x, bins, right=True, labels=None, retbins=False, precision=3, include_lowest=False, duplicates='raise', ordered=True)"
   ]
  },
  {
   "cell_type": "markdown",
   "metadata": {},
   "source": []
  },
  {
   "cell_type": "markdown",
   "metadata": {},
   "source": [
    "#### Example 1 in python"
   ]
  },
  {
   "cell_type": "code",
   "execution_count": 118,
   "metadata": {},
   "outputs": [
    {
     "data": {
      "text/plain": [
       "0       (13867.975, 28735.45]\n",
       "1       (13867.975, 28735.45]\n",
       "2       (-1058.97, 13867.975]\n",
       "3       (13867.975, 28735.45]\n",
       "4       (13867.975, 28735.45]\n",
       "                ...          \n",
       "1231    (-1058.97, 13867.975]\n",
       "1232    (13867.975, 28735.45]\n",
       "1233    (13867.975, 28735.45]\n",
       "1234    (-1058.97, 13867.975]\n",
       "1235    (13867.975, 28735.45]\n",
       "Name: ingresos, Length: 1236, dtype: category\n",
       "Categories (4, interval[float64, right]): [(-1058.97, 13867.975] < (13867.975, 28735.45] < (28735.45, 43602.925] < (43602.925, 58470.4]]"
      ]
     },
     "execution_count": 118,
     "metadata": {},
     "output_type": "execute_result"
    }
   ],
   "source": [
    "pd.cut(x=data_Python['ingresos'] , bins=4 )"
   ]
  },
  {
   "cell_type": "code",
   "execution_count": 119,
   "metadata": {},
   "outputs": [
    {
     "data": {
      "text/plain": [
       "0       1\n",
       "1       1\n",
       "2       0\n",
       "3       1\n",
       "4       1\n",
       "       ..\n",
       "1231    0\n",
       "1232    1\n",
       "1233    1\n",
       "1234    0\n",
       "1235    1\n",
       "Name: ingresos, Length: 1236, dtype: int64"
      ]
     },
     "execution_count": 119,
     "metadata": {},
     "output_type": "execute_result"
    }
   ],
   "source": [
    "pd.cut(x=data_Python['ingresos'] , bins=4, labels=False ) "
   ]
  },
  {
   "cell_type": "code",
   "execution_count": 120,
   "metadata": {},
   "outputs": [
    {
     "data": {
      "text/html": [
       "<div>\n",
       "<style scoped>\n",
       "    .dataframe tbody tr th:only-of-type {\n",
       "        vertical-align: middle;\n",
       "    }\n",
       "\n",
       "    .dataframe tbody tr th {\n",
       "        vertical-align: top;\n",
       "    }\n",
       "\n",
       "    .dataframe thead th {\n",
       "        text-align: right;\n",
       "    }\n",
       "</style>\n",
       "<table border=\"1\" class=\"dataframe\">\n",
       "  <thead>\n",
       "    <tr style=\"text-align: right;\">\n",
       "      <th></th>\n",
       "      <th>provincia</th>\n",
       "      <th>genero</th>\n",
       "      <th>edad</th>\n",
       "      <th>nac</th>\n",
       "      <th>neduc</th>\n",
       "      <th>sitlab</th>\n",
       "      <th>ingresos</th>\n",
       "      <th>horas</th>\n",
       "      <th>genero_recode</th>\n",
       "      <th>ingresos_recode</th>\n",
       "    </tr>\n",
       "  </thead>\n",
       "  <tbody>\n",
       "    <tr>\n",
       "      <th>0</th>\n",
       "      <td>Huesca</td>\n",
       "      <td>1</td>\n",
       "      <td>3</td>\n",
       "      <td>1</td>\n",
       "      <td>3</td>\n",
       "      <td>1</td>\n",
       "      <td>21237.1</td>\n",
       "      <td>36.42</td>\n",
       "      <td>0</td>\n",
       "      <td>1</td>\n",
       "    </tr>\n",
       "    <tr>\n",
       "      <th>1</th>\n",
       "      <td>Huesca</td>\n",
       "      <td>2</td>\n",
       "      <td>2</td>\n",
       "      <td>1</td>\n",
       "      <td>2</td>\n",
       "      <td>1</td>\n",
       "      <td>17810.8</td>\n",
       "      <td>31.72</td>\n",
       "      <td>1</td>\n",
       "      <td>1</td>\n",
       "    </tr>\n",
       "    <tr>\n",
       "      <th>2</th>\n",
       "      <td>Huesca</td>\n",
       "      <td>1</td>\n",
       "      <td>1</td>\n",
       "      <td>1</td>\n",
       "      <td>2</td>\n",
       "      <td>1</td>\n",
       "      <td>11889.1</td>\n",
       "      <td>31.88</td>\n",
       "      <td>0</td>\n",
       "      <td>0</td>\n",
       "    </tr>\n",
       "    <tr>\n",
       "      <th>3</th>\n",
       "      <td>Huesca</td>\n",
       "      <td>1</td>\n",
       "      <td>1</td>\n",
       "      <td>1</td>\n",
       "      <td>2</td>\n",
       "      <td>1</td>\n",
       "      <td>16000.5</td>\n",
       "      <td>38.18</td>\n",
       "      <td>0</td>\n",
       "      <td>1</td>\n",
       "    </tr>\n",
       "    <tr>\n",
       "      <th>4</th>\n",
       "      <td>Huesca</td>\n",
       "      <td>1</td>\n",
       "      <td>1</td>\n",
       "      <td>1</td>\n",
       "      <td>2</td>\n",
       "      <td>3</td>\n",
       "      <td>21169.6</td>\n",
       "      <td>0.00</td>\n",
       "      <td>0</td>\n",
       "      <td>1</td>\n",
       "    </tr>\n",
       "    <tr>\n",
       "      <th>...</th>\n",
       "      <td>...</td>\n",
       "      <td>...</td>\n",
       "      <td>...</td>\n",
       "      <td>...</td>\n",
       "      <td>...</td>\n",
       "      <td>...</td>\n",
       "      <td>...</td>\n",
       "      <td>...</td>\n",
       "      <td>...</td>\n",
       "      <td>...</td>\n",
       "    </tr>\n",
       "    <tr>\n",
       "      <th>1231</th>\n",
       "      <td>Zaragoza</td>\n",
       "      <td>1</td>\n",
       "      <td>2</td>\n",
       "      <td>1</td>\n",
       "      <td>2</td>\n",
       "      <td>1</td>\n",
       "      <td>11760.6</td>\n",
       "      <td>28.79</td>\n",
       "      <td>0</td>\n",
       "      <td>0</td>\n",
       "    </tr>\n",
       "    <tr>\n",
       "      <th>1232</th>\n",
       "      <td>Zaragoza</td>\n",
       "      <td>1</td>\n",
       "      <td>2</td>\n",
       "      <td>1</td>\n",
       "      <td>2</td>\n",
       "      <td>2</td>\n",
       "      <td>19321.6</td>\n",
       "      <td>0.00</td>\n",
       "      <td>0</td>\n",
       "      <td>1</td>\n",
       "    </tr>\n",
       "    <tr>\n",
       "      <th>1233</th>\n",
       "      <td>Zaragoza</td>\n",
       "      <td>2</td>\n",
       "      <td>2</td>\n",
       "      <td>1</td>\n",
       "      <td>2</td>\n",
       "      <td>1</td>\n",
       "      <td>19924.8</td>\n",
       "      <td>37.21</td>\n",
       "      <td>1</td>\n",
       "      <td>1</td>\n",
       "    </tr>\n",
       "    <tr>\n",
       "      <th>1234</th>\n",
       "      <td>Zaragoza</td>\n",
       "      <td>2</td>\n",
       "      <td>3</td>\n",
       "      <td>1</td>\n",
       "      <td>1</td>\n",
       "      <td>3</td>\n",
       "      <td>13042.5</td>\n",
       "      <td>0.00</td>\n",
       "      <td>1</td>\n",
       "      <td>0</td>\n",
       "    </tr>\n",
       "    <tr>\n",
       "      <th>1235</th>\n",
       "      <td>Zaragoza</td>\n",
       "      <td>1</td>\n",
       "      <td>3</td>\n",
       "      <td>1</td>\n",
       "      <td>1</td>\n",
       "      <td>1</td>\n",
       "      <td>19618.2</td>\n",
       "      <td>42.01</td>\n",
       "      <td>0</td>\n",
       "      <td>1</td>\n",
       "    </tr>\n",
       "  </tbody>\n",
       "</table>\n",
       "<p>1236 rows × 10 columns</p>\n",
       "</div>"
      ],
      "text/plain": [
       "     provincia genero edad nac  neduc sitlab  ingresos  horas  genero_recode  \\\n",
       "0       Huesca      1    3   1      3      1   21237.1  36.42              0   \n",
       "1       Huesca      2    2   1      2      1   17810.8  31.72              1   \n",
       "2       Huesca      1    1   1      2      1   11889.1  31.88              0   \n",
       "3       Huesca      1    1   1      2      1   16000.5  38.18              0   \n",
       "4       Huesca      1    1   1      2      3   21169.6   0.00              0   \n",
       "...        ...    ...  ...  ..    ...    ...       ...    ...            ...   \n",
       "1231  Zaragoza      1    2   1      2      1   11760.6  28.79              0   \n",
       "1232  Zaragoza      1    2   1      2      2   19321.6   0.00              0   \n",
       "1233  Zaragoza      2    2   1      2      1   19924.8  37.21              1   \n",
       "1234  Zaragoza      2    3   1      1      3   13042.5   0.00              1   \n",
       "1235  Zaragoza      1    3   1      1      1   19618.2  42.01              0   \n",
       "\n",
       "      ingresos_recode  \n",
       "0                   1  \n",
       "1                   1  \n",
       "2                   0  \n",
       "3                   1  \n",
       "4                   1  \n",
       "...               ...  \n",
       "1231                0  \n",
       "1232                1  \n",
       "1233                1  \n",
       "1234                0  \n",
       "1235                1  \n",
       "\n",
       "[1236 rows x 10 columns]"
      ]
     },
     "execution_count": 120,
     "metadata": {},
     "output_type": "execute_result"
    }
   ],
   "source": [
    "data_Python['ingresos_recode'] = pd.cut(x=data_Python['ingresos'] , bins=4, labels=False ) \n",
    "data_Python"
   ]
  },
  {
   "cell_type": "code",
   "execution_count": 121,
   "metadata": {},
   "outputs": [
    {
     "data": {
      "text/html": [
       "<div>\n",
       "<style scoped>\n",
       "    .dataframe tbody tr th:only-of-type {\n",
       "        vertical-align: middle;\n",
       "    }\n",
       "\n",
       "    .dataframe tbody tr th {\n",
       "        vertical-align: top;\n",
       "    }\n",
       "\n",
       "    .dataframe thead th {\n",
       "        text-align: right;\n",
       "    }\n",
       "</style>\n",
       "<table border=\"1\" class=\"dataframe\">\n",
       "  <thead>\n",
       "    <tr style=\"text-align: right;\">\n",
       "      <th></th>\n",
       "      <th>F.abs</th>\n",
       "      <th>F.rel</th>\n",
       "      <th>F.abs.cum</th>\n",
       "      <th>F.rel.cum</th>\n",
       "    </tr>\n",
       "    <tr>\n",
       "      <th>ingresos_recode</th>\n",
       "      <th></th>\n",
       "      <th></th>\n",
       "      <th></th>\n",
       "      <th></th>\n",
       "    </tr>\n",
       "  </thead>\n",
       "  <tbody>\n",
       "    <tr>\n",
       "      <th>0</th>\n",
       "      <td>709.0</td>\n",
       "      <td>0.573625</td>\n",
       "      <td>709.0</td>\n",
       "      <td>0.573625</td>\n",
       "    </tr>\n",
       "    <tr>\n",
       "      <th>1</th>\n",
       "      <td>461.0</td>\n",
       "      <td>0.372977</td>\n",
       "      <td>1170.0</td>\n",
       "      <td>0.946602</td>\n",
       "    </tr>\n",
       "    <tr>\n",
       "      <th>2</th>\n",
       "      <td>56.0</td>\n",
       "      <td>0.045307</td>\n",
       "      <td>1226.0</td>\n",
       "      <td>0.991909</td>\n",
       "    </tr>\n",
       "    <tr>\n",
       "      <th>3</th>\n",
       "      <td>10.0</td>\n",
       "      <td>0.008091</td>\n",
       "      <td>1236.0</td>\n",
       "      <td>1.000000</td>\n",
       "    </tr>\n",
       "  </tbody>\n",
       "</table>\n",
       "</div>"
      ],
      "text/plain": [
       "                 F.abs     F.rel  F.abs.cum  F.rel.cum\n",
       "ingresos_recode                                       \n",
       "0                709.0  0.573625      709.0   0.573625\n",
       "1                461.0  0.372977     1170.0   0.946602\n",
       "2                 56.0  0.045307     1226.0   0.991909\n",
       "3                 10.0  0.008091     1236.0   1.000000"
      ]
     },
     "execution_count": 121,
     "metadata": {},
     "output_type": "execute_result"
    }
   ],
   "source": [
    "table_ingresos = Frequency_table_py(data_Python , data_Python['ingresos_recode'], 3, 'ingresos_recode')\n",
    "table_ingresos"
   ]
  },
  {
   "cell_type": "code",
   "execution_count": 122,
   "metadata": {},
   "outputs": [
    {
     "data": {
      "text/html": [
       "<div>\n",
       "<style scoped>\n",
       "    .dataframe tbody tr th:only-of-type {\n",
       "        vertical-align: middle;\n",
       "    }\n",
       "\n",
       "    .dataframe tbody tr th {\n",
       "        vertical-align: top;\n",
       "    }\n",
       "\n",
       "    .dataframe thead th {\n",
       "        text-align: right;\n",
       "    }\n",
       "</style>\n",
       "<table border=\"1\" class=\"dataframe\">\n",
       "  <thead>\n",
       "    <tr style=\"text-align: right;\">\n",
       "      <th></th>\n",
       "      <th>F.abs</th>\n",
       "      <th>F.rel</th>\n",
       "      <th>F.abs.cum</th>\n",
       "      <th>F.rel.cum</th>\n",
       "    </tr>\n",
       "    <tr>\n",
       "      <th>intervals</th>\n",
       "      <th></th>\n",
       "      <th></th>\n",
       "      <th></th>\n",
       "      <th></th>\n",
       "    </tr>\n",
       "  </thead>\n",
       "  <tbody>\n",
       "    <tr>\n",
       "      <th>(-1058.97, 13867.975]</th>\n",
       "      <td>709.0</td>\n",
       "      <td>0.573625</td>\n",
       "      <td>709.0</td>\n",
       "      <td>0.573625</td>\n",
       "    </tr>\n",
       "    <tr>\n",
       "      <th>(13867.975, 28735.45]</th>\n",
       "      <td>461.0</td>\n",
       "      <td>0.372977</td>\n",
       "      <td>1170.0</td>\n",
       "      <td>0.946602</td>\n",
       "    </tr>\n",
       "    <tr>\n",
       "      <th>(28735.45, 43602.925]</th>\n",
       "      <td>56.0</td>\n",
       "      <td>0.045307</td>\n",
       "      <td>1226.0</td>\n",
       "      <td>0.991909</td>\n",
       "    </tr>\n",
       "    <tr>\n",
       "      <th>(43602.925, 58470.4]</th>\n",
       "      <td>10.0</td>\n",
       "      <td>0.008091</td>\n",
       "      <td>1236.0</td>\n",
       "      <td>1.000000</td>\n",
       "    </tr>\n",
       "  </tbody>\n",
       "</table>\n",
       "</div>"
      ],
      "text/plain": [
       "                       F.abs     F.rel  F.abs.cum  F.rel.cum\n",
       "intervals                                                   \n",
       "(-1058.97, 13867.975]  709.0  0.573625      709.0   0.573625\n",
       "(13867.975, 28735.45]  461.0  0.372977     1170.0   0.946602\n",
       "(28735.45, 43602.925]   56.0  0.045307     1226.0   0.991909\n",
       "(43602.925, 58470.4]    10.0  0.008091     1236.0   1.000000"
      ]
     },
     "execution_count": 122,
     "metadata": {},
     "output_type": "execute_result"
    }
   ],
   "source": [
    "intervals = ['(-1058.97, 13867.975]' , '(13867.975, 28735.45]',  '(28735.45, 43602.925]', '(43602.925, 58470.4]']\n",
    "\n",
    "table_ingresos['intervals'] = intervals\n",
    "\n",
    "table_ingresos = table_ingresos.set_index('intervals')\n",
    "\n",
    "table_ingresos"
   ]
  },
  {
   "cell_type": "markdown",
   "metadata": {},
   "source": []
  },
  {
   "cell_type": "markdown",
   "metadata": {},
   "source": [
    "####  Example 2 : using the median rule in python"
   ]
  },
  {
   "cell_type": "code",
   "execution_count": 123,
   "metadata": {},
   "outputs": [
    {
     "data": {
      "text/plain": [
       "[-1000.0, 12331.0, 58470.9]"
      ]
     },
     "execution_count": 123,
     "metadata": {},
     "output_type": "execute_result"
    }
   ],
   "source": [
    "intervals = [data_Python['ingresos'].min() - 0.5 , data_Python['ingresos'].median(), data_Python['ingresos'].max() + 0.5]\n",
    "intervals"
   ]
  },
  {
   "cell_type": "code",
   "execution_count": 124,
   "metadata": {},
   "outputs": [
    {
     "data": {
      "text/plain": [
       "0       (12331.0, 58470.9]\n",
       "1       (12331.0, 58470.9]\n",
       "2       (-1000.0, 12331.0]\n",
       "3       (12331.0, 58470.9]\n",
       "4       (12331.0, 58470.9]\n",
       "               ...        \n",
       "1231    (-1000.0, 12331.0]\n",
       "1232    (12331.0, 58470.9]\n",
       "1233    (12331.0, 58470.9]\n",
       "1234    (12331.0, 58470.9]\n",
       "1235    (12331.0, 58470.9]\n",
       "Name: ingresos, Length: 1236, dtype: category\n",
       "Categories (2, interval[float64, right]): [(-1000.0, 12331.0] < (12331.0, 58470.9]]"
      ]
     },
     "execution_count": 124,
     "metadata": {},
     "output_type": "execute_result"
    }
   ],
   "source": [
    "pd.cut(x=data_Python['ingresos'] , bins=intervals )"
   ]
  },
  {
   "cell_type": "code",
   "execution_count": 125,
   "metadata": {},
   "outputs": [
    {
     "data": {
      "text/plain": [
       "0       1\n",
       "1       1\n",
       "2       0\n",
       "3       1\n",
       "4       1\n",
       "       ..\n",
       "1231    0\n",
       "1232    1\n",
       "1233    1\n",
       "1234    1\n",
       "1235    1\n",
       "Name: ingresos, Length: 1236, dtype: int64"
      ]
     },
     "execution_count": 125,
     "metadata": {},
     "output_type": "execute_result"
    }
   ],
   "source": [
    "pd.cut(x=data_Python['ingresos'] , bins=intervals , labels=False)"
   ]
  },
  {
   "cell_type": "code",
   "execution_count": 126,
   "metadata": {},
   "outputs": [],
   "source": [
    "data_Python['ingresos_recode']  = pd.cut(x=data_Python['ingresos'] , bins=intervals , labels=False)"
   ]
  },
  {
   "cell_type": "code",
   "execution_count": 127,
   "metadata": {},
   "outputs": [
    {
     "data": {
      "text/html": [
       "<div>\n",
       "<style scoped>\n",
       "    .dataframe tbody tr th:only-of-type {\n",
       "        vertical-align: middle;\n",
       "    }\n",
       "\n",
       "    .dataframe tbody tr th {\n",
       "        vertical-align: top;\n",
       "    }\n",
       "\n",
       "    .dataframe thead th {\n",
       "        text-align: right;\n",
       "    }\n",
       "</style>\n",
       "<table border=\"1\" class=\"dataframe\">\n",
       "  <thead>\n",
       "    <tr style=\"text-align: right;\">\n",
       "      <th></th>\n",
       "      <th>F.abs</th>\n",
       "      <th>F.rel</th>\n",
       "      <th>F.abs.cum</th>\n",
       "      <th>F.rel.cum</th>\n",
       "    </tr>\n",
       "    <tr>\n",
       "      <th>intervals</th>\n",
       "      <th></th>\n",
       "      <th></th>\n",
       "      <th></th>\n",
       "      <th></th>\n",
       "    </tr>\n",
       "  </thead>\n",
       "  <tbody>\n",
       "    <tr>\n",
       "      <th>(-1000, 12331.0]</th>\n",
       "      <td>618.0</td>\n",
       "      <td>0.5</td>\n",
       "      <td>618.0</td>\n",
       "      <td>0.5</td>\n",
       "    </tr>\n",
       "    <tr>\n",
       "      <th>(12331.0, 58470.9]</th>\n",
       "      <td>618.0</td>\n",
       "      <td>0.5</td>\n",
       "      <td>1236.0</td>\n",
       "      <td>1.0</td>\n",
       "    </tr>\n",
       "  </tbody>\n",
       "</table>\n",
       "</div>"
      ],
      "text/plain": [
       "                    F.abs  F.rel  F.abs.cum  F.rel.cum\n",
       "intervals                                             \n",
       "(-1000, 12331.0]    618.0    0.5      618.0        0.5\n",
       "(12331.0, 58470.9]  618.0    0.5     1236.0        1.0"
      ]
     },
     "execution_count": 127,
     "metadata": {},
     "output_type": "execute_result"
    }
   ],
   "source": [
    "table_ingresos_median_rule = Frequency_table_py(data_Python , data_Python['ingresos_recode'], 1, 'ingresos_recode')\n",
    "\n",
    "intervals = ['(-1000, 12331.0]' , '(12331.0, 58470.9]']\n",
    "\n",
    "table_ingresos_median_rule['intervals'] = intervals\n",
    "\n",
    "table_ingresos_median_rule = table_ingresos_median_rule.set_index('intervals')\n",
    "\n",
    "table_ingresos_median_rule"
   ]
  },
  {
   "cell_type": "markdown",
   "metadata": {},
   "source": []
  },
  {
   "cell_type": "markdown",
   "metadata": {},
   "source": [
    "#### Example 3: using the Scott rule in python"
   ]
  },
  {
   "cell_type": "markdown",
   "metadata": {},
   "source": [
    "We compute the Scott intervals for 'ingresos' quantitative variable:\n"
   ]
  },
  {
   "cell_type": "code",
   "execution_count": 128,
   "metadata": {},
   "outputs": [],
   "source": [
    "s = data_Python['ingresos'].std()\n",
    "\n",
    "n = len(data_Python)\n",
    "\n",
    "max = data_Python['ingresos'].max() + 0.5\n",
    "\n",
    "min = data_Python['ingresos'].min() - 0.5\n",
    "\n",
    "#Amplitud teorica\n",
    "At = 3.5*s*n**-(1/3) \n",
    "\n",
    "#Numero de intervalos\n",
    "lam = math.ceil( (max-min)/At ) \n",
    "\n",
    "#Amplitud de los intervalos\n",
    "A = math.ceil( (max-min)/lam ) \n",
    "\n",
    "#Primer extremo\n",
    "L1 = min\n",
    "\n",
    "#Vector con los extremos de los intervalos\n",
    "L = L1 + np.array(range(0,lam + 1))  * A"
   ]
  },
  {
   "cell_type": "code",
   "execution_count": 129,
   "metadata": {},
   "outputs": [
    {
     "data": {
      "text/plain": [
       "array([ 0,  4,  8, 12])"
      ]
     },
     "execution_count": 129,
     "metadata": {},
     "output_type": "execute_result"
    }
   ],
   "source": [
    "np.array(range(0,4)) * 4"
   ]
  },
  {
   "cell_type": "markdown",
   "metadata": {},
   "source": [
    "The number of intervals that  have been obtained is :"
   ]
  },
  {
   "cell_type": "code",
   "execution_count": 130,
   "metadata": {},
   "outputs": [
    {
     "data": {
      "text/plain": [
       "23"
      ]
     },
     "execution_count": 130,
     "metadata": {},
     "output_type": "execute_result"
    }
   ],
   "source": [
    "lam"
   ]
  },
  {
   "cell_type": "markdown",
   "metadata": {},
   "source": [
    "The vector with the intervals bounds is:"
   ]
  },
  {
   "cell_type": "code",
   "execution_count": 131,
   "metadata": {},
   "outputs": [
    {
     "data": {
      "text/plain": [
       "array([-1000.,  1586.,  4172.,  6758.,  9344., 11930., 14516., 17102.,\n",
       "       19688., 22274., 24860., 27446., 30032., 32618., 35204., 37790.,\n",
       "       40376., 42962., 45548., 48134., 50720., 53306., 55892., 58478.])"
      ]
     },
     "execution_count": 131,
     "metadata": {},
     "output_type": "execute_result"
    }
   ],
   "source": [
    "L"
   ]
  },
  {
   "cell_type": "code",
   "execution_count": 132,
   "metadata": {},
   "outputs": [
    {
     "data": {
      "text/plain": [
       "0       (19688.0, 22274.0]\n",
       "1       (17102.0, 19688.0]\n",
       "2        (9344.0, 11930.0]\n",
       "3       (14516.0, 17102.0]\n",
       "4       (19688.0, 22274.0]\n",
       "               ...        \n",
       "1231     (9344.0, 11930.0]\n",
       "1232    (17102.0, 19688.0]\n",
       "1233    (19688.0, 22274.0]\n",
       "1234    (11930.0, 14516.0]\n",
       "1235    (17102.0, 19688.0]\n",
       "Name: ingresos, Length: 1236, dtype: category\n",
       "Categories (23, interval[float64, right]): [(-1000.0, 1586.0] < (1586.0, 4172.0] < (4172.0, 6758.0] < (6758.0, 9344.0] ... (48134.0, 50720.0] < (50720.0, 53306.0] < (53306.0, 55892.0] < (55892.0, 58478.0]]"
      ]
     },
     "execution_count": 132,
     "metadata": {},
     "output_type": "execute_result"
    }
   ],
   "source": [
    "pd.cut(x=data_Python['ingresos'] , bins=L)"
   ]
  },
  {
   "cell_type": "code",
   "execution_count": 133,
   "metadata": {},
   "outputs": [
    {
     "data": {
      "text/plain": [
       "0       8\n",
       "1       7\n",
       "2       4\n",
       "3       6\n",
       "4       8\n",
       "       ..\n",
       "1231    4\n",
       "1232    7\n",
       "1233    8\n",
       "1234    5\n",
       "1235    7\n",
       "Name: ingresos, Length: 1236, dtype: int64"
      ]
     },
     "execution_count": 133,
     "metadata": {},
     "output_type": "execute_result"
    }
   ],
   "source": [
    "pd.cut(x=data_Python['ingresos'] , bins=L , labels=False)"
   ]
  },
  {
   "cell_type": "code",
   "execution_count": 134,
   "metadata": {},
   "outputs": [],
   "source": [
    "data_Python['ingresos_recode'] = pd.cut(x=data_Python['ingresos'] , bins=L , labels=False)"
   ]
  },
  {
   "cell_type": "code",
   "execution_count": 135,
   "metadata": {},
   "outputs": [],
   "source": [
    "df = data_Python >> select(X.ingresos)"
   ]
  },
  {
   "cell_type": "code",
   "execution_count": 136,
   "metadata": {},
   "outputs": [],
   "source": [
    "df['interval_ingresos'] = pd.cut(x=data_Python['ingresos'] , bins=L )"
   ]
  },
  {
   "cell_type": "code",
   "execution_count": 137,
   "metadata": {},
   "outputs": [
    {
     "data": {
      "text/html": [
       "<div>\n",
       "<style scoped>\n",
       "    .dataframe tbody tr th:only-of-type {\n",
       "        vertical-align: middle;\n",
       "    }\n",
       "\n",
       "    .dataframe tbody tr th {\n",
       "        vertical-align: top;\n",
       "    }\n",
       "\n",
       "    .dataframe thead th {\n",
       "        text-align: right;\n",
       "    }\n",
       "</style>\n",
       "<table border=\"1\" class=\"dataframe\">\n",
       "  <thead>\n",
       "    <tr style=\"text-align: right;\">\n",
       "      <th></th>\n",
       "      <th>ingresos</th>\n",
       "      <th>interval_ingresos</th>\n",
       "    </tr>\n",
       "  </thead>\n",
       "  <tbody>\n",
       "    <tr>\n",
       "      <th>0</th>\n",
       "      <td>21237.1</td>\n",
       "      <td>(19688.0, 22274.0]</td>\n",
       "    </tr>\n",
       "    <tr>\n",
       "      <th>1</th>\n",
       "      <td>17810.8</td>\n",
       "      <td>(17102.0, 19688.0]</td>\n",
       "    </tr>\n",
       "    <tr>\n",
       "      <th>2</th>\n",
       "      <td>11889.1</td>\n",
       "      <td>(9344.0, 11930.0]</td>\n",
       "    </tr>\n",
       "    <tr>\n",
       "      <th>3</th>\n",
       "      <td>16000.5</td>\n",
       "      <td>(14516.0, 17102.0]</td>\n",
       "    </tr>\n",
       "    <tr>\n",
       "      <th>4</th>\n",
       "      <td>21169.6</td>\n",
       "      <td>(19688.0, 22274.0]</td>\n",
       "    </tr>\n",
       "    <tr>\n",
       "      <th>...</th>\n",
       "      <td>...</td>\n",
       "      <td>...</td>\n",
       "    </tr>\n",
       "    <tr>\n",
       "      <th>1231</th>\n",
       "      <td>11760.6</td>\n",
       "      <td>(9344.0, 11930.0]</td>\n",
       "    </tr>\n",
       "    <tr>\n",
       "      <th>1232</th>\n",
       "      <td>19321.6</td>\n",
       "      <td>(17102.0, 19688.0]</td>\n",
       "    </tr>\n",
       "    <tr>\n",
       "      <th>1233</th>\n",
       "      <td>19924.8</td>\n",
       "      <td>(19688.0, 22274.0]</td>\n",
       "    </tr>\n",
       "    <tr>\n",
       "      <th>1234</th>\n",
       "      <td>13042.5</td>\n",
       "      <td>(11930.0, 14516.0]</td>\n",
       "    </tr>\n",
       "    <tr>\n",
       "      <th>1235</th>\n",
       "      <td>19618.2</td>\n",
       "      <td>(17102.0, 19688.0]</td>\n",
       "    </tr>\n",
       "  </tbody>\n",
       "</table>\n",
       "<p>1236 rows × 2 columns</p>\n",
       "</div>"
      ],
      "text/plain": [
       "      ingresos   interval_ingresos\n",
       "0      21237.1  (19688.0, 22274.0]\n",
       "1      17810.8  (17102.0, 19688.0]\n",
       "2      11889.1   (9344.0, 11930.0]\n",
       "3      16000.5  (14516.0, 17102.0]\n",
       "4      21169.6  (19688.0, 22274.0]\n",
       "...        ...                 ...\n",
       "1231   11760.6   (9344.0, 11930.0]\n",
       "1232   19321.6  (17102.0, 19688.0]\n",
       "1233   19924.8  (19688.0, 22274.0]\n",
       "1234   13042.5  (11930.0, 14516.0]\n",
       "1235   19618.2  (17102.0, 19688.0]\n",
       "\n",
       "[1236 rows x 2 columns]"
      ]
     },
     "execution_count": 137,
     "metadata": {},
     "output_type": "execute_result"
    }
   ],
   "source": [
    "df"
   ]
  },
  {
   "cell_type": "code",
   "execution_count": 138,
   "metadata": {},
   "outputs": [
    {
     "data": {
      "text/html": [
       "<div>\n",
       "<style scoped>\n",
       "    .dataframe tbody tr th:only-of-type {\n",
       "        vertical-align: middle;\n",
       "    }\n",
       "\n",
       "    .dataframe tbody tr th {\n",
       "        vertical-align: top;\n",
       "    }\n",
       "\n",
       "    .dataframe thead th {\n",
       "        text-align: right;\n",
       "    }\n",
       "</style>\n",
       "<table border=\"1\" class=\"dataframe\">\n",
       "  <thead>\n",
       "    <tr style=\"text-align: right;\">\n",
       "      <th></th>\n",
       "      <th>interval_ingresos</th>\n",
       "    </tr>\n",
       "  </thead>\n",
       "  <tbody>\n",
       "    <tr>\n",
       "      <th>73</th>\n",
       "      <td>(-1000.0, 1586.0]</td>\n",
       "    </tr>\n",
       "    <tr>\n",
       "      <th>240</th>\n",
       "      <td>(1586.0, 4172.0]</td>\n",
       "    </tr>\n",
       "    <tr>\n",
       "      <th>15</th>\n",
       "      <td>(4172.0, 6758.0]</td>\n",
       "    </tr>\n",
       "    <tr>\n",
       "      <th>374</th>\n",
       "      <td>(6758.0, 9344.0]</td>\n",
       "    </tr>\n",
       "    <tr>\n",
       "      <th>713</th>\n",
       "      <td>(9344.0, 11930.0]</td>\n",
       "    </tr>\n",
       "    <tr>\n",
       "      <th>882</th>\n",
       "      <td>(11930.0, 14516.0]</td>\n",
       "    </tr>\n",
       "    <tr>\n",
       "      <th>899</th>\n",
       "      <td>(14516.0, 17102.0]</td>\n",
       "    </tr>\n",
       "    <tr>\n",
       "      <th>1017</th>\n",
       "      <td>(17102.0, 19688.0]</td>\n",
       "    </tr>\n",
       "    <tr>\n",
       "      <th>523</th>\n",
       "      <td>(19688.0, 22274.0]</td>\n",
       "    </tr>\n",
       "    <tr>\n",
       "      <th>357</th>\n",
       "      <td>(22274.0, 24860.0]</td>\n",
       "    </tr>\n",
       "    <tr>\n",
       "      <th>365</th>\n",
       "      <td>(24860.0, 27446.0]</td>\n",
       "    </tr>\n",
       "    <tr>\n",
       "      <th>1180</th>\n",
       "      <td>(27446.0, 30032.0]</td>\n",
       "    </tr>\n",
       "    <tr>\n",
       "      <th>803</th>\n",
       "      <td>(30032.0, 32618.0]</td>\n",
       "    </tr>\n",
       "    <tr>\n",
       "      <th>977</th>\n",
       "      <td>(32618.0, 35204.0]</td>\n",
       "    </tr>\n",
       "    <tr>\n",
       "      <th>716</th>\n",
       "      <td>(35204.0, 37790.0]</td>\n",
       "    </tr>\n",
       "    <tr>\n",
       "      <th>323</th>\n",
       "      <td>(37790.0, 40376.0]</td>\n",
       "    </tr>\n",
       "    <tr>\n",
       "      <th>534</th>\n",
       "      <td>(40376.0, 42962.0]</td>\n",
       "    </tr>\n",
       "    <tr>\n",
       "      <th>706</th>\n",
       "      <td>(42962.0, 45548.0]</td>\n",
       "    </tr>\n",
       "    <tr>\n",
       "      <th>432</th>\n",
       "      <td>(45548.0, 48134.0]</td>\n",
       "    </tr>\n",
       "    <tr>\n",
       "      <th>829</th>\n",
       "      <td>(48134.0, 50720.0]</td>\n",
       "    </tr>\n",
       "    <tr>\n",
       "      <th>1153</th>\n",
       "      <td>(53306.0, 55892.0]</td>\n",
       "    </tr>\n",
       "    <tr>\n",
       "      <th>1085</th>\n",
       "      <td>(55892.0, 58478.0]</td>\n",
       "    </tr>\n",
       "  </tbody>\n",
       "</table>\n",
       "</div>"
      ],
      "text/plain": [
       "       interval_ingresos\n",
       "73     (-1000.0, 1586.0]\n",
       "240     (1586.0, 4172.0]\n",
       "15      (4172.0, 6758.0]\n",
       "374     (6758.0, 9344.0]\n",
       "713    (9344.0, 11930.0]\n",
       "882   (11930.0, 14516.0]\n",
       "899   (14516.0, 17102.0]\n",
       "1017  (17102.0, 19688.0]\n",
       "523   (19688.0, 22274.0]\n",
       "357   (22274.0, 24860.0]\n",
       "365   (24860.0, 27446.0]\n",
       "1180  (27446.0, 30032.0]\n",
       "803   (30032.0, 32618.0]\n",
       "977   (32618.0, 35204.0]\n",
       "716   (35204.0, 37790.0]\n",
       "323   (37790.0, 40376.0]\n",
       "534   (40376.0, 42962.0]\n",
       "706   (42962.0, 45548.0]\n",
       "432   (45548.0, 48134.0]\n",
       "829   (48134.0, 50720.0]\n",
       "1153  (53306.0, 55892.0]\n",
       "1085  (55892.0, 58478.0]"
      ]
     },
     "execution_count": 138,
     "metadata": {},
     "output_type": "execute_result"
    }
   ],
   "source": [
    "intervals = ( df.sort_values('interval_ingresos') >> select(X.interval_ingresos)  >> distinct(X.interval_ingresos))\n",
    "\n",
    "intervals"
   ]
  },
  {
   "cell_type": "code",
   "execution_count": 139,
   "metadata": {},
   "outputs": [
    {
     "data": {
      "text/html": [
       "<div>\n",
       "<style scoped>\n",
       "    .dataframe tbody tr th:only-of-type {\n",
       "        vertical-align: middle;\n",
       "    }\n",
       "\n",
       "    .dataframe tbody tr th {\n",
       "        vertical-align: top;\n",
       "    }\n",
       "\n",
       "    .dataframe thead th {\n",
       "        text-align: right;\n",
       "    }\n",
       "</style>\n",
       "<table border=\"1\" class=\"dataframe\">\n",
       "  <thead>\n",
       "    <tr style=\"text-align: right;\">\n",
       "      <th></th>\n",
       "      <th>F.abs</th>\n",
       "      <th>F.rel</th>\n",
       "      <th>F.abs.cum</th>\n",
       "      <th>F.rel.cum</th>\n",
       "    </tr>\n",
       "    <tr>\n",
       "      <th>ingresos_recode</th>\n",
       "      <th></th>\n",
       "      <th></th>\n",
       "      <th></th>\n",
       "      <th></th>\n",
       "    </tr>\n",
       "  </thead>\n",
       "  <tbody>\n",
       "    <tr>\n",
       "      <th>0</th>\n",
       "      <td>14.0</td>\n",
       "      <td>0.011327</td>\n",
       "      <td>14.0</td>\n",
       "      <td>0.011327</td>\n",
       "    </tr>\n",
       "    <tr>\n",
       "      <th>1</th>\n",
       "      <td>57.0</td>\n",
       "      <td>0.046117</td>\n",
       "      <td>71.0</td>\n",
       "      <td>0.057443</td>\n",
       "    </tr>\n",
       "    <tr>\n",
       "      <th>2</th>\n",
       "      <td>141.0</td>\n",
       "      <td>0.114078</td>\n",
       "      <td>212.0</td>\n",
       "      <td>0.171521</td>\n",
       "    </tr>\n",
       "    <tr>\n",
       "      <th>3</th>\n",
       "      <td>177.0</td>\n",
       "      <td>0.143204</td>\n",
       "      <td>389.0</td>\n",
       "      <td>0.314725</td>\n",
       "    </tr>\n",
       "    <tr>\n",
       "      <th>4</th>\n",
       "      <td>199.0</td>\n",
       "      <td>0.161003</td>\n",
       "      <td>588.0</td>\n",
       "      <td>0.475728</td>\n",
       "    </tr>\n",
       "    <tr>\n",
       "      <th>5</th>\n",
       "      <td>157.0</td>\n",
       "      <td>0.127023</td>\n",
       "      <td>745.0</td>\n",
       "      <td>0.602751</td>\n",
       "    </tr>\n",
       "    <tr>\n",
       "      <th>6</th>\n",
       "      <td>128.0</td>\n",
       "      <td>0.103560</td>\n",
       "      <td>873.0</td>\n",
       "      <td>0.706311</td>\n",
       "    </tr>\n",
       "    <tr>\n",
       "      <th>7</th>\n",
       "      <td>117.0</td>\n",
       "      <td>0.094660</td>\n",
       "      <td>990.0</td>\n",
       "      <td>0.800971</td>\n",
       "    </tr>\n",
       "    <tr>\n",
       "      <th>8</th>\n",
       "      <td>71.0</td>\n",
       "      <td>0.057443</td>\n",
       "      <td>1061.0</td>\n",
       "      <td>0.858414</td>\n",
       "    </tr>\n",
       "    <tr>\n",
       "      <th>9</th>\n",
       "      <td>61.0</td>\n",
       "      <td>0.049353</td>\n",
       "      <td>1122.0</td>\n",
       "      <td>0.907767</td>\n",
       "    </tr>\n",
       "    <tr>\n",
       "      <th>10</th>\n",
       "      <td>32.0</td>\n",
       "      <td>0.025890</td>\n",
       "      <td>1154.0</td>\n",
       "      <td>0.933657</td>\n",
       "    </tr>\n",
       "    <tr>\n",
       "      <th>11</th>\n",
       "      <td>20.0</td>\n",
       "      <td>0.016181</td>\n",
       "      <td>1174.0</td>\n",
       "      <td>0.949838</td>\n",
       "    </tr>\n",
       "    <tr>\n",
       "      <th>12</th>\n",
       "      <td>15.0</td>\n",
       "      <td>0.012136</td>\n",
       "      <td>1189.0</td>\n",
       "      <td>0.961974</td>\n",
       "    </tr>\n",
       "    <tr>\n",
       "      <th>13</th>\n",
       "      <td>17.0</td>\n",
       "      <td>0.013754</td>\n",
       "      <td>1206.0</td>\n",
       "      <td>0.975728</td>\n",
       "    </tr>\n",
       "    <tr>\n",
       "      <th>14</th>\n",
       "      <td>9.0</td>\n",
       "      <td>0.007282</td>\n",
       "      <td>1215.0</td>\n",
       "      <td>0.983010</td>\n",
       "    </tr>\n",
       "    <tr>\n",
       "      <th>15</th>\n",
       "      <td>5.0</td>\n",
       "      <td>0.004045</td>\n",
       "      <td>1220.0</td>\n",
       "      <td>0.987055</td>\n",
       "    </tr>\n",
       "    <tr>\n",
       "      <th>16</th>\n",
       "      <td>5.0</td>\n",
       "      <td>0.004045</td>\n",
       "      <td>1225.0</td>\n",
       "      <td>0.991100</td>\n",
       "    </tr>\n",
       "    <tr>\n",
       "      <th>17</th>\n",
       "      <td>3.0</td>\n",
       "      <td>0.002427</td>\n",
       "      <td>1228.0</td>\n",
       "      <td>0.993528</td>\n",
       "    </tr>\n",
       "    <tr>\n",
       "      <th>18</th>\n",
       "      <td>4.0</td>\n",
       "      <td>0.003236</td>\n",
       "      <td>1232.0</td>\n",
       "      <td>0.996764</td>\n",
       "    </tr>\n",
       "    <tr>\n",
       "      <th>19</th>\n",
       "      <td>2.0</td>\n",
       "      <td>0.001618</td>\n",
       "      <td>1234.0</td>\n",
       "      <td>0.998382</td>\n",
       "    </tr>\n",
       "    <tr>\n",
       "      <th>20</th>\n",
       "      <td>0.0</td>\n",
       "      <td>0.000000</td>\n",
       "      <td>1234.0</td>\n",
       "      <td>0.998382</td>\n",
       "    </tr>\n",
       "    <tr>\n",
       "      <th>21</th>\n",
       "      <td>1.0</td>\n",
       "      <td>0.000809</td>\n",
       "      <td>1235.0</td>\n",
       "      <td>0.999191</td>\n",
       "    </tr>\n",
       "    <tr>\n",
       "      <th>22</th>\n",
       "      <td>1.0</td>\n",
       "      <td>0.000809</td>\n",
       "      <td>1236.0</td>\n",
       "      <td>1.000000</td>\n",
       "    </tr>\n",
       "  </tbody>\n",
       "</table>\n",
       "</div>"
      ],
      "text/plain": [
       "                 F.abs     F.rel  F.abs.cum  F.rel.cum\n",
       "ingresos_recode                                       \n",
       "0                 14.0  0.011327       14.0   0.011327\n",
       "1                 57.0  0.046117       71.0   0.057443\n",
       "2                141.0  0.114078      212.0   0.171521\n",
       "3                177.0  0.143204      389.0   0.314725\n",
       "4                199.0  0.161003      588.0   0.475728\n",
       "5                157.0  0.127023      745.0   0.602751\n",
       "6                128.0  0.103560      873.0   0.706311\n",
       "7                117.0  0.094660      990.0   0.800971\n",
       "8                 71.0  0.057443     1061.0   0.858414\n",
       "9                 61.0  0.049353     1122.0   0.907767\n",
       "10                32.0  0.025890     1154.0   0.933657\n",
       "11                20.0  0.016181     1174.0   0.949838\n",
       "12                15.0  0.012136     1189.0   0.961974\n",
       "13                17.0  0.013754     1206.0   0.975728\n",
       "14                 9.0  0.007282     1215.0   0.983010\n",
       "15                 5.0  0.004045     1220.0   0.987055\n",
       "16                 5.0  0.004045     1225.0   0.991100\n",
       "17                 3.0  0.002427     1228.0   0.993528\n",
       "18                 4.0  0.003236     1232.0   0.996764\n",
       "19                 2.0  0.001618     1234.0   0.998382\n",
       "20                 0.0  0.000000     1234.0   0.998382\n",
       "21                 1.0  0.000809     1235.0   0.999191\n",
       "22                 1.0  0.000809     1236.0   1.000000"
      ]
     },
     "execution_count": 139,
     "metadata": {},
     "output_type": "execute_result"
    }
   ],
   "source": [
    "table_ingresos_median_rule = Frequency_table_py(data_Python , data_Python['ingresos_recode'], 22, 'ingresos_recode')\n",
    "table_ingresos_median_rule"
   ]
  },
  {
   "cell_type": "markdown",
   "metadata": {},
   "source": [
    "We eliminate the rows with frequency $0$ so that it doesn't give us problems when adding the intervals as index:"
   ]
  },
  {
   "cell_type": "code",
   "execution_count": 140,
   "metadata": {},
   "outputs": [
    {
     "data": {
      "text/html": [
       "<div>\n",
       "<style scoped>\n",
       "    .dataframe tbody tr th:only-of-type {\n",
       "        vertical-align: middle;\n",
       "    }\n",
       "\n",
       "    .dataframe tbody tr th {\n",
       "        vertical-align: top;\n",
       "    }\n",
       "\n",
       "    .dataframe thead th {\n",
       "        text-align: right;\n",
       "    }\n",
       "</style>\n",
       "<table border=\"1\" class=\"dataframe\">\n",
       "  <thead>\n",
       "    <tr style=\"text-align: right;\">\n",
       "      <th></th>\n",
       "      <th>F.abs</th>\n",
       "      <th>F.rel</th>\n",
       "      <th>F.abs.cum</th>\n",
       "      <th>F.rel.cum</th>\n",
       "    </tr>\n",
       "    <tr>\n",
       "      <th>ingresos_recode</th>\n",
       "      <th></th>\n",
       "      <th></th>\n",
       "      <th></th>\n",
       "      <th></th>\n",
       "    </tr>\n",
       "  </thead>\n",
       "  <tbody>\n",
       "    <tr>\n",
       "      <th>0</th>\n",
       "      <td>14.0</td>\n",
       "      <td>0.011327</td>\n",
       "      <td>14.0</td>\n",
       "      <td>0.011327</td>\n",
       "    </tr>\n",
       "    <tr>\n",
       "      <th>1</th>\n",
       "      <td>57.0</td>\n",
       "      <td>0.046117</td>\n",
       "      <td>71.0</td>\n",
       "      <td>0.057443</td>\n",
       "    </tr>\n",
       "    <tr>\n",
       "      <th>2</th>\n",
       "      <td>141.0</td>\n",
       "      <td>0.114078</td>\n",
       "      <td>212.0</td>\n",
       "      <td>0.171521</td>\n",
       "    </tr>\n",
       "    <tr>\n",
       "      <th>3</th>\n",
       "      <td>177.0</td>\n",
       "      <td>0.143204</td>\n",
       "      <td>389.0</td>\n",
       "      <td>0.314725</td>\n",
       "    </tr>\n",
       "    <tr>\n",
       "      <th>4</th>\n",
       "      <td>199.0</td>\n",
       "      <td>0.161003</td>\n",
       "      <td>588.0</td>\n",
       "      <td>0.475728</td>\n",
       "    </tr>\n",
       "    <tr>\n",
       "      <th>5</th>\n",
       "      <td>157.0</td>\n",
       "      <td>0.127023</td>\n",
       "      <td>745.0</td>\n",
       "      <td>0.602751</td>\n",
       "    </tr>\n",
       "    <tr>\n",
       "      <th>6</th>\n",
       "      <td>128.0</td>\n",
       "      <td>0.103560</td>\n",
       "      <td>873.0</td>\n",
       "      <td>0.706311</td>\n",
       "    </tr>\n",
       "    <tr>\n",
       "      <th>7</th>\n",
       "      <td>117.0</td>\n",
       "      <td>0.094660</td>\n",
       "      <td>990.0</td>\n",
       "      <td>0.800971</td>\n",
       "    </tr>\n",
       "    <tr>\n",
       "      <th>8</th>\n",
       "      <td>71.0</td>\n",
       "      <td>0.057443</td>\n",
       "      <td>1061.0</td>\n",
       "      <td>0.858414</td>\n",
       "    </tr>\n",
       "    <tr>\n",
       "      <th>9</th>\n",
       "      <td>61.0</td>\n",
       "      <td>0.049353</td>\n",
       "      <td>1122.0</td>\n",
       "      <td>0.907767</td>\n",
       "    </tr>\n",
       "    <tr>\n",
       "      <th>10</th>\n",
       "      <td>32.0</td>\n",
       "      <td>0.025890</td>\n",
       "      <td>1154.0</td>\n",
       "      <td>0.933657</td>\n",
       "    </tr>\n",
       "    <tr>\n",
       "      <th>11</th>\n",
       "      <td>20.0</td>\n",
       "      <td>0.016181</td>\n",
       "      <td>1174.0</td>\n",
       "      <td>0.949838</td>\n",
       "    </tr>\n",
       "    <tr>\n",
       "      <th>12</th>\n",
       "      <td>15.0</td>\n",
       "      <td>0.012136</td>\n",
       "      <td>1189.0</td>\n",
       "      <td>0.961974</td>\n",
       "    </tr>\n",
       "    <tr>\n",
       "      <th>13</th>\n",
       "      <td>17.0</td>\n",
       "      <td>0.013754</td>\n",
       "      <td>1206.0</td>\n",
       "      <td>0.975728</td>\n",
       "    </tr>\n",
       "    <tr>\n",
       "      <th>14</th>\n",
       "      <td>9.0</td>\n",
       "      <td>0.007282</td>\n",
       "      <td>1215.0</td>\n",
       "      <td>0.983010</td>\n",
       "    </tr>\n",
       "    <tr>\n",
       "      <th>15</th>\n",
       "      <td>5.0</td>\n",
       "      <td>0.004045</td>\n",
       "      <td>1220.0</td>\n",
       "      <td>0.987055</td>\n",
       "    </tr>\n",
       "    <tr>\n",
       "      <th>16</th>\n",
       "      <td>5.0</td>\n",
       "      <td>0.004045</td>\n",
       "      <td>1225.0</td>\n",
       "      <td>0.991100</td>\n",
       "    </tr>\n",
       "    <tr>\n",
       "      <th>17</th>\n",
       "      <td>3.0</td>\n",
       "      <td>0.002427</td>\n",
       "      <td>1228.0</td>\n",
       "      <td>0.993528</td>\n",
       "    </tr>\n",
       "    <tr>\n",
       "      <th>18</th>\n",
       "      <td>4.0</td>\n",
       "      <td>0.003236</td>\n",
       "      <td>1232.0</td>\n",
       "      <td>0.996764</td>\n",
       "    </tr>\n",
       "    <tr>\n",
       "      <th>19</th>\n",
       "      <td>2.0</td>\n",
       "      <td>0.001618</td>\n",
       "      <td>1234.0</td>\n",
       "      <td>0.998382</td>\n",
       "    </tr>\n",
       "    <tr>\n",
       "      <th>21</th>\n",
       "      <td>1.0</td>\n",
       "      <td>0.000809</td>\n",
       "      <td>1235.0</td>\n",
       "      <td>0.999191</td>\n",
       "    </tr>\n",
       "    <tr>\n",
       "      <th>22</th>\n",
       "      <td>1.0</td>\n",
       "      <td>0.000809</td>\n",
       "      <td>1236.0</td>\n",
       "      <td>1.000000</td>\n",
       "    </tr>\n",
       "  </tbody>\n",
       "</table>\n",
       "</div>"
      ],
      "text/plain": [
       "                 F.abs     F.rel  F.abs.cum  F.rel.cum\n",
       "ingresos_recode                                       \n",
       "0                 14.0  0.011327       14.0   0.011327\n",
       "1                 57.0  0.046117       71.0   0.057443\n",
       "2                141.0  0.114078      212.0   0.171521\n",
       "3                177.0  0.143204      389.0   0.314725\n",
       "4                199.0  0.161003      588.0   0.475728\n",
       "5                157.0  0.127023      745.0   0.602751\n",
       "6                128.0  0.103560      873.0   0.706311\n",
       "7                117.0  0.094660      990.0   0.800971\n",
       "8                 71.0  0.057443     1061.0   0.858414\n",
       "9                 61.0  0.049353     1122.0   0.907767\n",
       "10                32.0  0.025890     1154.0   0.933657\n",
       "11                20.0  0.016181     1174.0   0.949838\n",
       "12                15.0  0.012136     1189.0   0.961974\n",
       "13                17.0  0.013754     1206.0   0.975728\n",
       "14                 9.0  0.007282     1215.0   0.983010\n",
       "15                 5.0  0.004045     1220.0   0.987055\n",
       "16                 5.0  0.004045     1225.0   0.991100\n",
       "17                 3.0  0.002427     1228.0   0.993528\n",
       "18                 4.0  0.003236     1232.0   0.996764\n",
       "19                 2.0  0.001618     1234.0   0.998382\n",
       "21                 1.0  0.000809     1235.0   0.999191\n",
       "22                 1.0  0.000809     1236.0   1.000000"
      ]
     },
     "execution_count": 140,
     "metadata": {},
     "output_type": "execute_result"
    }
   ],
   "source": [
    "table_ingresos_median_rule = table_ingresos_median_rule >> filter_by(X['F.abs'] != 0)\n",
    "\n",
    "table_ingresos_median_rule"
   ]
  },
  {
   "cell_type": "code",
   "execution_count": 141,
   "metadata": {},
   "outputs": [
    {
     "data": {
      "text/html": [
       "<div>\n",
       "<style scoped>\n",
       "    .dataframe tbody tr th:only-of-type {\n",
       "        vertical-align: middle;\n",
       "    }\n",
       "\n",
       "    .dataframe tbody tr th {\n",
       "        vertical-align: top;\n",
       "    }\n",
       "\n",
       "    .dataframe thead th {\n",
       "        text-align: right;\n",
       "    }\n",
       "</style>\n",
       "<table border=\"1\" class=\"dataframe\">\n",
       "  <thead>\n",
       "    <tr style=\"text-align: right;\">\n",
       "      <th></th>\n",
       "      <th>interval_ingresos</th>\n",
       "    </tr>\n",
       "    <tr>\n",
       "      <th>new_index</th>\n",
       "      <th></th>\n",
       "    </tr>\n",
       "  </thead>\n",
       "  <tbody>\n",
       "    <tr>\n",
       "      <th>0</th>\n",
       "      <td>(-1000.0, 1586.0]</td>\n",
       "    </tr>\n",
       "    <tr>\n",
       "      <th>1</th>\n",
       "      <td>(1586.0, 4172.0]</td>\n",
       "    </tr>\n",
       "    <tr>\n",
       "      <th>2</th>\n",
       "      <td>(4172.0, 6758.0]</td>\n",
       "    </tr>\n",
       "    <tr>\n",
       "      <th>3</th>\n",
       "      <td>(6758.0, 9344.0]</td>\n",
       "    </tr>\n",
       "    <tr>\n",
       "      <th>4</th>\n",
       "      <td>(9344.0, 11930.0]</td>\n",
       "    </tr>\n",
       "    <tr>\n",
       "      <th>5</th>\n",
       "      <td>(11930.0, 14516.0]</td>\n",
       "    </tr>\n",
       "    <tr>\n",
       "      <th>6</th>\n",
       "      <td>(14516.0, 17102.0]</td>\n",
       "    </tr>\n",
       "    <tr>\n",
       "      <th>7</th>\n",
       "      <td>(17102.0, 19688.0]</td>\n",
       "    </tr>\n",
       "    <tr>\n",
       "      <th>8</th>\n",
       "      <td>(19688.0, 22274.0]</td>\n",
       "    </tr>\n",
       "    <tr>\n",
       "      <th>9</th>\n",
       "      <td>(22274.0, 24860.0]</td>\n",
       "    </tr>\n",
       "    <tr>\n",
       "      <th>10</th>\n",
       "      <td>(24860.0, 27446.0]</td>\n",
       "    </tr>\n",
       "    <tr>\n",
       "      <th>11</th>\n",
       "      <td>(27446.0, 30032.0]</td>\n",
       "    </tr>\n",
       "    <tr>\n",
       "      <th>12</th>\n",
       "      <td>(30032.0, 32618.0]</td>\n",
       "    </tr>\n",
       "    <tr>\n",
       "      <th>13</th>\n",
       "      <td>(32618.0, 35204.0]</td>\n",
       "    </tr>\n",
       "    <tr>\n",
       "      <th>14</th>\n",
       "      <td>(35204.0, 37790.0]</td>\n",
       "    </tr>\n",
       "    <tr>\n",
       "      <th>15</th>\n",
       "      <td>(37790.0, 40376.0]</td>\n",
       "    </tr>\n",
       "    <tr>\n",
       "      <th>16</th>\n",
       "      <td>(40376.0, 42962.0]</td>\n",
       "    </tr>\n",
       "    <tr>\n",
       "      <th>17</th>\n",
       "      <td>(42962.0, 45548.0]</td>\n",
       "    </tr>\n",
       "    <tr>\n",
       "      <th>18</th>\n",
       "      <td>(45548.0, 48134.0]</td>\n",
       "    </tr>\n",
       "    <tr>\n",
       "      <th>19</th>\n",
       "      <td>(48134.0, 50720.0]</td>\n",
       "    </tr>\n",
       "    <tr>\n",
       "      <th>21</th>\n",
       "      <td>(53306.0, 55892.0]</td>\n",
       "    </tr>\n",
       "    <tr>\n",
       "      <th>22</th>\n",
       "      <td>(55892.0, 58478.0]</td>\n",
       "    </tr>\n",
       "  </tbody>\n",
       "</table>\n",
       "</div>"
      ],
      "text/plain": [
       "            interval_ingresos\n",
       "new_index                    \n",
       "0           (-1000.0, 1586.0]\n",
       "1            (1586.0, 4172.0]\n",
       "2            (4172.0, 6758.0]\n",
       "3            (6758.0, 9344.0]\n",
       "4           (9344.0, 11930.0]\n",
       "5          (11930.0, 14516.0]\n",
       "6          (14516.0, 17102.0]\n",
       "7          (17102.0, 19688.0]\n",
       "8          (19688.0, 22274.0]\n",
       "9          (22274.0, 24860.0]\n",
       "10         (24860.0, 27446.0]\n",
       "11         (27446.0, 30032.0]\n",
       "12         (30032.0, 32618.0]\n",
       "13         (32618.0, 35204.0]\n",
       "14         (35204.0, 37790.0]\n",
       "15         (37790.0, 40376.0]\n",
       "16         (40376.0, 42962.0]\n",
       "17         (42962.0, 45548.0]\n",
       "18         (45548.0, 48134.0]\n",
       "19         (48134.0, 50720.0]\n",
       "21         (53306.0, 55892.0]\n",
       "22         (55892.0, 58478.0]"
      ]
     },
     "execution_count": 141,
     "metadata": {},
     "output_type": "execute_result"
    }
   ],
   "source": [
    "intervals['new_index']=table_ingresos_median_rule.index\n",
    "intervals=intervals.set_index('new_index')\n",
    "intervals"
   ]
  },
  {
   "cell_type": "code",
   "execution_count": 142,
   "metadata": {},
   "outputs": [
    {
     "data": {
      "text/html": [
       "<div>\n",
       "<style scoped>\n",
       "    .dataframe tbody tr th:only-of-type {\n",
       "        vertical-align: middle;\n",
       "    }\n",
       "\n",
       "    .dataframe tbody tr th {\n",
       "        vertical-align: top;\n",
       "    }\n",
       "\n",
       "    .dataframe thead th {\n",
       "        text-align: right;\n",
       "    }\n",
       "</style>\n",
       "<table border=\"1\" class=\"dataframe\">\n",
       "  <thead>\n",
       "    <tr style=\"text-align: right;\">\n",
       "      <th></th>\n",
       "      <th>F.abs</th>\n",
       "      <th>F.rel</th>\n",
       "      <th>F.abs.cum</th>\n",
       "      <th>F.rel.cum</th>\n",
       "      <th>interval_ingresos</th>\n",
       "    </tr>\n",
       "  </thead>\n",
       "  <tbody>\n",
       "    <tr>\n",
       "      <th>0</th>\n",
       "      <td>14.0</td>\n",
       "      <td>0.011327</td>\n",
       "      <td>14.0</td>\n",
       "      <td>0.011327</td>\n",
       "      <td>(-1000.0, 1586.0]</td>\n",
       "    </tr>\n",
       "    <tr>\n",
       "      <th>1</th>\n",
       "      <td>57.0</td>\n",
       "      <td>0.046117</td>\n",
       "      <td>71.0</td>\n",
       "      <td>0.057443</td>\n",
       "      <td>(1586.0, 4172.0]</td>\n",
       "    </tr>\n",
       "    <tr>\n",
       "      <th>2</th>\n",
       "      <td>141.0</td>\n",
       "      <td>0.114078</td>\n",
       "      <td>212.0</td>\n",
       "      <td>0.171521</td>\n",
       "      <td>(4172.0, 6758.0]</td>\n",
       "    </tr>\n",
       "    <tr>\n",
       "      <th>3</th>\n",
       "      <td>177.0</td>\n",
       "      <td>0.143204</td>\n",
       "      <td>389.0</td>\n",
       "      <td>0.314725</td>\n",
       "      <td>(6758.0, 9344.0]</td>\n",
       "    </tr>\n",
       "    <tr>\n",
       "      <th>4</th>\n",
       "      <td>199.0</td>\n",
       "      <td>0.161003</td>\n",
       "      <td>588.0</td>\n",
       "      <td>0.475728</td>\n",
       "      <td>(9344.0, 11930.0]</td>\n",
       "    </tr>\n",
       "    <tr>\n",
       "      <th>5</th>\n",
       "      <td>157.0</td>\n",
       "      <td>0.127023</td>\n",
       "      <td>745.0</td>\n",
       "      <td>0.602751</td>\n",
       "      <td>(11930.0, 14516.0]</td>\n",
       "    </tr>\n",
       "    <tr>\n",
       "      <th>6</th>\n",
       "      <td>128.0</td>\n",
       "      <td>0.103560</td>\n",
       "      <td>873.0</td>\n",
       "      <td>0.706311</td>\n",
       "      <td>(14516.0, 17102.0]</td>\n",
       "    </tr>\n",
       "    <tr>\n",
       "      <th>7</th>\n",
       "      <td>117.0</td>\n",
       "      <td>0.094660</td>\n",
       "      <td>990.0</td>\n",
       "      <td>0.800971</td>\n",
       "      <td>(17102.0, 19688.0]</td>\n",
       "    </tr>\n",
       "    <tr>\n",
       "      <th>8</th>\n",
       "      <td>71.0</td>\n",
       "      <td>0.057443</td>\n",
       "      <td>1061.0</td>\n",
       "      <td>0.858414</td>\n",
       "      <td>(19688.0, 22274.0]</td>\n",
       "    </tr>\n",
       "    <tr>\n",
       "      <th>9</th>\n",
       "      <td>61.0</td>\n",
       "      <td>0.049353</td>\n",
       "      <td>1122.0</td>\n",
       "      <td>0.907767</td>\n",
       "      <td>(22274.0, 24860.0]</td>\n",
       "    </tr>\n",
       "    <tr>\n",
       "      <th>10</th>\n",
       "      <td>32.0</td>\n",
       "      <td>0.025890</td>\n",
       "      <td>1154.0</td>\n",
       "      <td>0.933657</td>\n",
       "      <td>(24860.0, 27446.0]</td>\n",
       "    </tr>\n",
       "    <tr>\n",
       "      <th>11</th>\n",
       "      <td>20.0</td>\n",
       "      <td>0.016181</td>\n",
       "      <td>1174.0</td>\n",
       "      <td>0.949838</td>\n",
       "      <td>(27446.0, 30032.0]</td>\n",
       "    </tr>\n",
       "    <tr>\n",
       "      <th>12</th>\n",
       "      <td>15.0</td>\n",
       "      <td>0.012136</td>\n",
       "      <td>1189.0</td>\n",
       "      <td>0.961974</td>\n",
       "      <td>(30032.0, 32618.0]</td>\n",
       "    </tr>\n",
       "    <tr>\n",
       "      <th>13</th>\n",
       "      <td>17.0</td>\n",
       "      <td>0.013754</td>\n",
       "      <td>1206.0</td>\n",
       "      <td>0.975728</td>\n",
       "      <td>(32618.0, 35204.0]</td>\n",
       "    </tr>\n",
       "    <tr>\n",
       "      <th>14</th>\n",
       "      <td>9.0</td>\n",
       "      <td>0.007282</td>\n",
       "      <td>1215.0</td>\n",
       "      <td>0.983010</td>\n",
       "      <td>(35204.0, 37790.0]</td>\n",
       "    </tr>\n",
       "    <tr>\n",
       "      <th>15</th>\n",
       "      <td>5.0</td>\n",
       "      <td>0.004045</td>\n",
       "      <td>1220.0</td>\n",
       "      <td>0.987055</td>\n",
       "      <td>(37790.0, 40376.0]</td>\n",
       "    </tr>\n",
       "    <tr>\n",
       "      <th>16</th>\n",
       "      <td>5.0</td>\n",
       "      <td>0.004045</td>\n",
       "      <td>1225.0</td>\n",
       "      <td>0.991100</td>\n",
       "      <td>(40376.0, 42962.0]</td>\n",
       "    </tr>\n",
       "    <tr>\n",
       "      <th>17</th>\n",
       "      <td>3.0</td>\n",
       "      <td>0.002427</td>\n",
       "      <td>1228.0</td>\n",
       "      <td>0.993528</td>\n",
       "      <td>(42962.0, 45548.0]</td>\n",
       "    </tr>\n",
       "    <tr>\n",
       "      <th>18</th>\n",
       "      <td>4.0</td>\n",
       "      <td>0.003236</td>\n",
       "      <td>1232.0</td>\n",
       "      <td>0.996764</td>\n",
       "      <td>(45548.0, 48134.0]</td>\n",
       "    </tr>\n",
       "    <tr>\n",
       "      <th>19</th>\n",
       "      <td>2.0</td>\n",
       "      <td>0.001618</td>\n",
       "      <td>1234.0</td>\n",
       "      <td>0.998382</td>\n",
       "      <td>(48134.0, 50720.0]</td>\n",
       "    </tr>\n",
       "    <tr>\n",
       "      <th>21</th>\n",
       "      <td>1.0</td>\n",
       "      <td>0.000809</td>\n",
       "      <td>1235.0</td>\n",
       "      <td>0.999191</td>\n",
       "      <td>(53306.0, 55892.0]</td>\n",
       "    </tr>\n",
       "    <tr>\n",
       "      <th>22</th>\n",
       "      <td>1.0</td>\n",
       "      <td>0.000809</td>\n",
       "      <td>1236.0</td>\n",
       "      <td>1.000000</td>\n",
       "      <td>(55892.0, 58478.0]</td>\n",
       "    </tr>\n",
       "  </tbody>\n",
       "</table>\n",
       "</div>"
      ],
      "text/plain": [
       "    F.abs     F.rel  F.abs.cum  F.rel.cum   interval_ingresos\n",
       "0    14.0  0.011327       14.0   0.011327   (-1000.0, 1586.0]\n",
       "1    57.0  0.046117       71.0   0.057443    (1586.0, 4172.0]\n",
       "2   141.0  0.114078      212.0   0.171521    (4172.0, 6758.0]\n",
       "3   177.0  0.143204      389.0   0.314725    (6758.0, 9344.0]\n",
       "4   199.0  0.161003      588.0   0.475728   (9344.0, 11930.0]\n",
       "5   157.0  0.127023      745.0   0.602751  (11930.0, 14516.0]\n",
       "6   128.0  0.103560      873.0   0.706311  (14516.0, 17102.0]\n",
       "7   117.0  0.094660      990.0   0.800971  (17102.0, 19688.0]\n",
       "8    71.0  0.057443     1061.0   0.858414  (19688.0, 22274.0]\n",
       "9    61.0  0.049353     1122.0   0.907767  (22274.0, 24860.0]\n",
       "10   32.0  0.025890     1154.0   0.933657  (24860.0, 27446.0]\n",
       "11   20.0  0.016181     1174.0   0.949838  (27446.0, 30032.0]\n",
       "12   15.0  0.012136     1189.0   0.961974  (30032.0, 32618.0]\n",
       "13   17.0  0.013754     1206.0   0.975728  (32618.0, 35204.0]\n",
       "14    9.0  0.007282     1215.0   0.983010  (35204.0, 37790.0]\n",
       "15    5.0  0.004045     1220.0   0.987055  (37790.0, 40376.0]\n",
       "16    5.0  0.004045     1225.0   0.991100  (40376.0, 42962.0]\n",
       "17    3.0  0.002427     1228.0   0.993528  (42962.0, 45548.0]\n",
       "18    4.0  0.003236     1232.0   0.996764  (45548.0, 48134.0]\n",
       "19    2.0  0.001618     1234.0   0.998382  (48134.0, 50720.0]\n",
       "21    1.0  0.000809     1235.0   0.999191  (53306.0, 55892.0]\n",
       "22    1.0  0.000809     1236.0   1.000000  (55892.0, 58478.0]"
      ]
     },
     "execution_count": 142,
     "metadata": {},
     "output_type": "execute_result"
    }
   ],
   "source": [
    "from pandas import concat\n",
    "\n",
    "table_ingresos_median_rule = concat([table_ingresos_median_rule, intervals] , axis=1 )\n",
    "\n",
    "table_ingresos_median_rule"
   ]
  },
  {
   "cell_type": "code",
   "execution_count": 143,
   "metadata": {},
   "outputs": [
    {
     "data": {
      "text/html": [
       "<div>\n",
       "<style scoped>\n",
       "    .dataframe tbody tr th:only-of-type {\n",
       "        vertical-align: middle;\n",
       "    }\n",
       "\n",
       "    .dataframe tbody tr th {\n",
       "        vertical-align: top;\n",
       "    }\n",
       "\n",
       "    .dataframe thead th {\n",
       "        text-align: right;\n",
       "    }\n",
       "</style>\n",
       "<table border=\"1\" class=\"dataframe\">\n",
       "  <thead>\n",
       "    <tr style=\"text-align: right;\">\n",
       "      <th></th>\n",
       "      <th>F.abs</th>\n",
       "      <th>F.rel</th>\n",
       "      <th>F.abs.cum</th>\n",
       "      <th>F.rel.cum</th>\n",
       "    </tr>\n",
       "    <tr>\n",
       "      <th>interval_ingresos</th>\n",
       "      <th></th>\n",
       "      <th></th>\n",
       "      <th></th>\n",
       "      <th></th>\n",
       "    </tr>\n",
       "  </thead>\n",
       "  <tbody>\n",
       "    <tr>\n",
       "      <th>(-1000.0, 1586.0]</th>\n",
       "      <td>14.0</td>\n",
       "      <td>0.011327</td>\n",
       "      <td>14.0</td>\n",
       "      <td>0.011327</td>\n",
       "    </tr>\n",
       "    <tr>\n",
       "      <th>(1586.0, 4172.0]</th>\n",
       "      <td>57.0</td>\n",
       "      <td>0.046117</td>\n",
       "      <td>71.0</td>\n",
       "      <td>0.057443</td>\n",
       "    </tr>\n",
       "    <tr>\n",
       "      <th>(4172.0, 6758.0]</th>\n",
       "      <td>141.0</td>\n",
       "      <td>0.114078</td>\n",
       "      <td>212.0</td>\n",
       "      <td>0.171521</td>\n",
       "    </tr>\n",
       "    <tr>\n",
       "      <th>(6758.0, 9344.0]</th>\n",
       "      <td>177.0</td>\n",
       "      <td>0.143204</td>\n",
       "      <td>389.0</td>\n",
       "      <td>0.314725</td>\n",
       "    </tr>\n",
       "    <tr>\n",
       "      <th>(9344.0, 11930.0]</th>\n",
       "      <td>199.0</td>\n",
       "      <td>0.161003</td>\n",
       "      <td>588.0</td>\n",
       "      <td>0.475728</td>\n",
       "    </tr>\n",
       "    <tr>\n",
       "      <th>(11930.0, 14516.0]</th>\n",
       "      <td>157.0</td>\n",
       "      <td>0.127023</td>\n",
       "      <td>745.0</td>\n",
       "      <td>0.602751</td>\n",
       "    </tr>\n",
       "    <tr>\n",
       "      <th>(14516.0, 17102.0]</th>\n",
       "      <td>128.0</td>\n",
       "      <td>0.103560</td>\n",
       "      <td>873.0</td>\n",
       "      <td>0.706311</td>\n",
       "    </tr>\n",
       "    <tr>\n",
       "      <th>(17102.0, 19688.0]</th>\n",
       "      <td>117.0</td>\n",
       "      <td>0.094660</td>\n",
       "      <td>990.0</td>\n",
       "      <td>0.800971</td>\n",
       "    </tr>\n",
       "    <tr>\n",
       "      <th>(19688.0, 22274.0]</th>\n",
       "      <td>71.0</td>\n",
       "      <td>0.057443</td>\n",
       "      <td>1061.0</td>\n",
       "      <td>0.858414</td>\n",
       "    </tr>\n",
       "    <tr>\n",
       "      <th>(22274.0, 24860.0]</th>\n",
       "      <td>61.0</td>\n",
       "      <td>0.049353</td>\n",
       "      <td>1122.0</td>\n",
       "      <td>0.907767</td>\n",
       "    </tr>\n",
       "    <tr>\n",
       "      <th>(24860.0, 27446.0]</th>\n",
       "      <td>32.0</td>\n",
       "      <td>0.025890</td>\n",
       "      <td>1154.0</td>\n",
       "      <td>0.933657</td>\n",
       "    </tr>\n",
       "    <tr>\n",
       "      <th>(27446.0, 30032.0]</th>\n",
       "      <td>20.0</td>\n",
       "      <td>0.016181</td>\n",
       "      <td>1174.0</td>\n",
       "      <td>0.949838</td>\n",
       "    </tr>\n",
       "    <tr>\n",
       "      <th>(30032.0, 32618.0]</th>\n",
       "      <td>15.0</td>\n",
       "      <td>0.012136</td>\n",
       "      <td>1189.0</td>\n",
       "      <td>0.961974</td>\n",
       "    </tr>\n",
       "    <tr>\n",
       "      <th>(32618.0, 35204.0]</th>\n",
       "      <td>17.0</td>\n",
       "      <td>0.013754</td>\n",
       "      <td>1206.0</td>\n",
       "      <td>0.975728</td>\n",
       "    </tr>\n",
       "    <tr>\n",
       "      <th>(35204.0, 37790.0]</th>\n",
       "      <td>9.0</td>\n",
       "      <td>0.007282</td>\n",
       "      <td>1215.0</td>\n",
       "      <td>0.983010</td>\n",
       "    </tr>\n",
       "    <tr>\n",
       "      <th>(37790.0, 40376.0]</th>\n",
       "      <td>5.0</td>\n",
       "      <td>0.004045</td>\n",
       "      <td>1220.0</td>\n",
       "      <td>0.987055</td>\n",
       "    </tr>\n",
       "    <tr>\n",
       "      <th>(40376.0, 42962.0]</th>\n",
       "      <td>5.0</td>\n",
       "      <td>0.004045</td>\n",
       "      <td>1225.0</td>\n",
       "      <td>0.991100</td>\n",
       "    </tr>\n",
       "    <tr>\n",
       "      <th>(42962.0, 45548.0]</th>\n",
       "      <td>3.0</td>\n",
       "      <td>0.002427</td>\n",
       "      <td>1228.0</td>\n",
       "      <td>0.993528</td>\n",
       "    </tr>\n",
       "    <tr>\n",
       "      <th>(45548.0, 48134.0]</th>\n",
       "      <td>4.0</td>\n",
       "      <td>0.003236</td>\n",
       "      <td>1232.0</td>\n",
       "      <td>0.996764</td>\n",
       "    </tr>\n",
       "    <tr>\n",
       "      <th>(48134.0, 50720.0]</th>\n",
       "      <td>2.0</td>\n",
       "      <td>0.001618</td>\n",
       "      <td>1234.0</td>\n",
       "      <td>0.998382</td>\n",
       "    </tr>\n",
       "    <tr>\n",
       "      <th>(53306.0, 55892.0]</th>\n",
       "      <td>1.0</td>\n",
       "      <td>0.000809</td>\n",
       "      <td>1235.0</td>\n",
       "      <td>0.999191</td>\n",
       "    </tr>\n",
       "    <tr>\n",
       "      <th>(55892.0, 58478.0]</th>\n",
       "      <td>1.0</td>\n",
       "      <td>0.000809</td>\n",
       "      <td>1236.0</td>\n",
       "      <td>1.000000</td>\n",
       "    </tr>\n",
       "  </tbody>\n",
       "</table>\n",
       "</div>"
      ],
      "text/plain": [
       "                    F.abs     F.rel  F.abs.cum  F.rel.cum\n",
       "interval_ingresos                                        \n",
       "(-1000.0, 1586.0]    14.0  0.011327       14.0   0.011327\n",
       "(1586.0, 4172.0]     57.0  0.046117       71.0   0.057443\n",
       "(4172.0, 6758.0]    141.0  0.114078      212.0   0.171521\n",
       "(6758.0, 9344.0]    177.0  0.143204      389.0   0.314725\n",
       "(9344.0, 11930.0]   199.0  0.161003      588.0   0.475728\n",
       "(11930.0, 14516.0]  157.0  0.127023      745.0   0.602751\n",
       "(14516.0, 17102.0]  128.0  0.103560      873.0   0.706311\n",
       "(17102.0, 19688.0]  117.0  0.094660      990.0   0.800971\n",
       "(19688.0, 22274.0]   71.0  0.057443     1061.0   0.858414\n",
       "(22274.0, 24860.0]   61.0  0.049353     1122.0   0.907767\n",
       "(24860.0, 27446.0]   32.0  0.025890     1154.0   0.933657\n",
       "(27446.0, 30032.0]   20.0  0.016181     1174.0   0.949838\n",
       "(30032.0, 32618.0]   15.0  0.012136     1189.0   0.961974\n",
       "(32618.0, 35204.0]   17.0  0.013754     1206.0   0.975728\n",
       "(35204.0, 37790.0]    9.0  0.007282     1215.0   0.983010\n",
       "(37790.0, 40376.0]    5.0  0.004045     1220.0   0.987055\n",
       "(40376.0, 42962.0]    5.0  0.004045     1225.0   0.991100\n",
       "(42962.0, 45548.0]    3.0  0.002427     1228.0   0.993528\n",
       "(45548.0, 48134.0]    4.0  0.003236     1232.0   0.996764\n",
       "(48134.0, 50720.0]    2.0  0.001618     1234.0   0.998382\n",
       "(53306.0, 55892.0]    1.0  0.000809     1235.0   0.999191\n",
       "(55892.0, 58478.0]    1.0  0.000809     1236.0   1.000000"
      ]
     },
     "execution_count": 143,
     "metadata": {},
     "output_type": "execute_result"
    }
   ],
   "source": [
    "table_ingresos_median_rule = table_ingresos_median_rule.set_index('interval_ingresos')\n",
    "table_ingresos_median_rule"
   ]
  },
  {
   "cell_type": "markdown",
   "metadata": {},
   "source": []
  },
  {
   "cell_type": "markdown",
   "metadata": {},
   "source": [
    "### Frequency Table for quantitative variables in R"
   ]
  },
  {
   "cell_type": "markdown",
   "metadata": {},
   "source": [
    "#### Example 1: using the median rule"
   ]
  },
  {
   "cell_type": "markdown",
   "metadata": {},
   "source": [
    "We are going to compute a frequency table for 'ingresos' variable.\n",
    "\n",
    "To be able to use our function we have to categorize 'ingresos' because is a quantitative variable. For that propose we will use several rules as examples.\n",
    "\n",
    "The key R function in this section is the `cut`. This functions allows us to categorize quantitative variable in a ridiculous easy way.\n",
    "\n",
    "You wil get more information about the R `cut`function in the following page:\n",
    "\n",
    "https://www.rdocumentation.org/packages/base/versions/3.6.2/topics/cut"
   ]
  },
  {
   "cell_type": "code",
   "execution_count": 144,
   "metadata": {},
   "outputs": [
    {
     "name": "stdout",
     "output_type": "stream",
     "text": [
      "                F.Abs F.Rel F.Abs.Cum F.Rel.Cum\n",
      "[-999.5,12331]    618   0.5       618       0.5\n",
      "(12331,58470.4]   618   0.5      1236       1.0\n"
     ]
    }
   ],
   "source": [
    "%%R\n",
    "\n",
    "L <- c(min(data_R$ingresos), median(data_R$ingresos), max(data_R$ingresos)) \n",
    "\n",
    "levels( cut(data_R$ingresos, breaks = L , include.lowest = T) )\n",
    "\n",
    "a<-cut(data_R$ingresos, breaks = L , include.lowest = T)\n",
    "  \n",
    "ingresos_categorizados_regla_mediana <- ifelse( a == \"[-1e+03,1.23e+04]\"  , 0 , 1 )\n",
    "\n",
    "ingresos_categorizados_regla_mediana[1:20]\n",
    "\n",
    "Tabla_Frecuecias_Ingresos_Regla_Mediana <- Tabla_Frecuencias(data_R,ingresos_categorizados_regla_mediana, p1=1)\n",
    "\n",
    "rownames(Tabla_Frecuecias_Ingresos_Regla_Mediana) <- levels(cut(data_R$ingresos, breaks = L, include.lowest = T, dig.lab=10))\n",
    "\n",
    "Tabla_Frecuecias_Ingresos_Regla_Mediana"
   ]
  },
  {
   "cell_type": "markdown",
   "metadata": {},
   "source": [
    "#### Example 2: using the Scott rule\n",
    "\n",
    "We compute the Scott intervals for 'ingresos' quantitative variable:\n"
   ]
  },
  {
   "cell_type": "code",
   "execution_count": 145,
   "metadata": {},
   "outputs": [],
   "source": [
    "%%R\n",
    "\n",
    "s=sd(data_R$ingresos)\n",
    "n=length(data_R$ingresos)\n",
    "max=max(data_R$ingresos) \n",
    "min=min(data_R$ingresos)\n",
    "\n",
    "#Amplitud teorica\n",
    "At = 3.5*s*n^-(1/3) \n",
    "\n",
    "#Numero de intervalos\n",
    "lambda = ceiling((max-min)/At) \n",
    "\n",
    "#Amplitud de los intervalos\n",
    "A = ceiling((max-min)/lambda) \n",
    "\n",
    "#Primer extremo\n",
    "L1 = min\n",
    "\n",
    "#Vector con los extremos de los intervalos\n",
    "L = L1 + 0:lambda * A  "
   ]
  },
  {
   "cell_type": "markdown",
   "metadata": {},
   "source": [
    "The number of intervals that  have been obtained is :"
   ]
  },
  {
   "cell_type": "code",
   "execution_count": 146,
   "metadata": {},
   "outputs": [
    {
     "name": "stdout",
     "output_type": "stream",
     "text": [
      "[1] 23\n"
     ]
    }
   ],
   "source": [
    "%%R\n",
    "\n",
    "lambda"
   ]
  },
  {
   "cell_type": "markdown",
   "metadata": {},
   "source": [
    "The vector with the intervals bounds is:"
   ]
  },
  {
   "cell_type": "code",
   "execution_count": 147,
   "metadata": {},
   "outputs": [
    {
     "name": "stdout",
     "output_type": "stream",
     "text": [
      " [1]  -999.5  1586.5  4172.5  6758.5  9344.5 11930.5 14516.5 17102.5 19688.5\n",
      "[10] 22274.5 24860.5 27446.5 30032.5 32618.5 35204.5 37790.5 40376.5 42962.5\n",
      "[19] 45548.5 48134.5 50720.5 53306.5 55892.5 58478.5\n"
     ]
    }
   ],
   "source": [
    "%%R\n",
    "\n",
    "L"
   ]
  },
  {
   "cell_type": "code",
   "execution_count": 148,
   "metadata": {},
   "outputs": [
    {
     "name": "stdout",
     "output_type": "stream",
     "text": [
      " [1] 9 8 5 7 9 7 2 6 7 3 2 2 3 6 7 3 3 3 4 5 5 8 8 3 2 6 4 5 3 2\n"
     ]
    }
   ],
   "source": [
    "%%R\n",
    "\n",
    "cut(data_R$ingresos, breaks = L, include.lowest = T, labels=F)[1:30]"
   ]
  },
  {
   "cell_type": "code",
   "execution_count": 149,
   "metadata": {},
   "outputs": [
    {
     "name": "stdout",
     "output_type": "stream",
     "text": [
      " [1] 8 7 4 6 8 6 1 5 6 2 1 1 2 5 6 2 2 2 3 4 4 7 7 2 1 5 3 4 2 1\n"
     ]
    }
   ],
   "source": [
    "%%R\n",
    "\n",
    "a<-(cut(data_R$ingresos, breaks = L, include.lowest = T,  labels=F))\n",
    "\n",
    "ingresos_categorizados_regla_Scott <- a-1\n",
    "\n",
    "ingresos_categorizados_regla_Scott[1:30]"
   ]
  },
  {
   "cell_type": "code",
   "execution_count": 150,
   "metadata": {},
   "outputs": [
    {
     "name": "stdout",
     "output_type": "stream",
     "text": [
      "                       F.Abs F.Rel F.Abs.Cum F.Rel.Cum\n",
      "[-999.5,1586.5] - 0       14 0.011        14     0.011\n",
      "(1586.5,4172.5] - 1       57 0.046        71     0.057\n",
      "(4172.5,6758.5] - 2      141 0.114       212     0.172\n",
      "(6758.5,9344.5] - 3      177 0.143       389     0.315\n",
      "(9344.5,11930.5] - 4     199 0.161       588     0.476\n",
      "(11930.5,14516.5] - 5    157 0.127       745     0.603\n",
      "(14516.5,17102.5] - 6    128 0.104       873     0.706\n",
      "(17102.5,19688.5] - 7    117 0.095       990     0.801\n",
      "(19688.5,22274.5] - 8     71 0.057      1061     0.858\n",
      "(22274.5,24860.5] - 9     61 0.049      1122     0.908\n",
      "(24860.5,27446.5] - 10    32 0.026      1154     0.934\n",
      "(27446.5,30032.5] - 11    20 0.016      1174     0.950\n",
      "(30032.5,32618.5] - 12    15 0.012      1189     0.962\n",
      "(32618.5,35204.5] - 13    17 0.014      1206     0.976\n",
      "(35204.5,37790.5] - 14     9 0.007      1215     0.983\n",
      "(37790.5,40376.5] - 15     5 0.004      1220     0.987\n",
      "(40376.5,42962.5] - 16     5 0.004      1225     0.991\n",
      "(42962.5,45548.5] - 17     3 0.002      1228     0.994\n",
      "(45548.5,48134.5] - 18     4 0.003      1232     0.997\n",
      "(48134.5,50720.5] - 19     2 0.002      1234     0.998\n",
      "(50720.5,53306.5] - 20     0 0.000      1234     0.998\n",
      "(53306.5,55892.5] - 21     1 0.001      1235     0.999\n",
      "(55892.5,58478.5] - 22     1 0.001      1236     1.000\n"
     ]
    }
   ],
   "source": [
    "%%R\n",
    "\n",
    "Tabla_Frecuencias_Ingresos_Regla_Scott <- Tabla_Frecuencias(data_R, ingresos_categorizados_regla_Scott, p1=22)\n",
    "\n",
    "rownames(Tabla_Frecuencias_Ingresos_Regla_Scott) <- paste(levels(cut(data_R$ingresos, breaks = L,\n",
    "include.lowest = T,  dig.lab=10 )) , 0:22 , sep = \" - \") \n",
    "\n",
    "Tabla_Frecuencias_Ingresos_Regla_Scott <- round(Tabla_Frecuencias_Ingresos_Regla_Scott , 3)\n",
    "\n",
    "Tabla_Frecuencias_Ingresos_Regla_Scott"
   ]
  },
  {
   "cell_type": "markdown",
   "metadata": {},
   "source": []
  },
  {
   "cell_type": "markdown",
   "metadata": {},
   "source": [
    "## Histogram <a class=\"anchor\" id=\"50\"></a>"
   ]
  },
  {
   "cell_type": "markdown",
   "metadata": {},
   "source": [
    "A *histogram* is a stacked bar chart used to\n",
    "represent the absolute or relative frequencies of a quantitative variable.\n",
    "\n",
    "To represent the histogram of a quantitative variable,\n",
    "need the absolute or relative frequencies of that variable, for\n",
    "what is needed the categorization intervals of the\n",
    "quantitative variable. To do this, you can follow the rules of categorization seen above.\n",
    "\n",
    "Once we have the categorization intervals of the quantitative variable\n",
    ", the histogram is constructed as follows:\n",
    "\n",
    "The *x-axis* contains the path of the quantitative variable. In the\n",
    "*y-axis* the absolute or relative frequencies of the intervals of\n",
    "categorization in the quantitative variable.\n",
    "\n",
    "On the *inside* of the chart are stacked bars, as many as\n",
    "intervals, and the $i$-th bar is assigned to the $i$-th interval,\n",
    "with a height equal to the absolute or relative frequency of the interval\n",
    "i-th in the quantitative variable."
   ]
  },
  {
   "cell_type": "markdown",
   "metadata": {},
   "source": []
  },
  {
   "cell_type": "markdown",
   "metadata": {},
   "source": [
    "### Histogram in R "
   ]
  },
  {
   "cell_type": "markdown",
   "metadata": {},
   "source": [
    "We generate a histogram of the quantitative variable *income* using\n",
    "the categorization intervals obtained with Scott's rule :"
   ]
  },
  {
   "cell_type": "code",
   "execution_count": 151,
   "metadata": {},
   "outputs": [
    {
     "data": {
      "image/png": "[encoded data removed]"
     },
     "metadata": {},
     "output_type": "display_data"
    }
   ],
   "source": [
    "%%R\n",
    "\n",
    "ggplot(data = data_R, aes(x=ingresos ))+\n",
    "geom_histogram(aes(y = after_stat(count / sum(count))) , breaks=L , fill=\"orange\", color=\"black\")+\n",
    " scale_y_continuous( n.breaks = 15 )+\n",
    "  scale_x_continuous(n.breaks = 12)+\n",
    "  labs(x = \"Ingresos\",y = \"Frecuencia Relativa\")"
   ]
  },
  {
   "cell_type": "markdown",
   "metadata": {},
   "source": [
    "We add to the previous histogram associated vertical dashed lines\n",
    "to the values ​​of some descriptive statistics :\n"
   ]
  },
  {
   "cell_type": "code",
   "execution_count": 152,
   "metadata": {},
   "outputs": [
    {
     "data": {
      "image/png": "[encoded data removed]"
     },
     "metadata": {},
     "output_type": "display_data"
    }
   ],
   "source": [
    "%%R\n",
    "\n",
    "ggplot(data = data_R, aes(x=ingresos ))+\n",
    "geom_histogram(aes(y = after_stat(count / sum(count))) , breaks=L , fill=\"orange\", color=\"black\")+\n",
    " scale_y_continuous( n.breaks = 10 )+\n",
    "  scale_x_continuous(n.breaks = 10)+\n",
    "  labs(x = \"Ingresos\", y = \"Frecuencia Relativa\")+\n",
    "  \n",
    "  geom_vline(aes(xintercept = median(ingresos),\n",
    "                  color = \"mediana\"),\n",
    "              linetype = \"dashed\",\n",
    "              size = 1) +\n",
    "   geom_vline(aes(xintercept = mean(ingresos),\n",
    "                  color = \"media\"),\n",
    "              linetype = \"dashed\",\n",
    "              size = 1) +\n",
    "   geom_vline(\n",
    "     aes(xintercept = quantile(ingresos, 0.25),\n",
    "         color = \"cuantil_25\"),\n",
    "     linetype = \"dashed\",\n",
    "     size = 1\n",
    "   ) +\n",
    "   geom_vline(\n",
    "     aes(xintercept = quantile(ingresos, 0.75),\n",
    "         color = \"cuantil_75\"),\n",
    "     linetype = \"dashed\",\n",
    "     size = 1\n",
    "   ) + \n",
    "    scale_color_manual(\n",
    "     name = \"Statistics\",\n",
    "     values = c(\n",
    "       mediana = \"blue\",\n",
    "       media = \"cyan\",\n",
    "       cuantil_25 = \"red\",\n",
    "       cuantil_75 = \"green\"\n",
    "       \n",
    "     )\n",
    "   ) "
   ]
  },
  {
   "cell_type": "markdown",
   "metadata": {},
   "source": []
  },
  {
   "cell_type": "markdown",
   "metadata": {},
   "source": [
    "### Histogram in Python:"
   ]
  },
  {
   "cell_type": "code",
   "execution_count": 153,
   "metadata": {},
   "outputs": [],
   "source": [
    " # pip install plotnine"
   ]
  },
  {
   "cell_type": "code",
   "execution_count": 310,
   "metadata": {},
   "outputs": [],
   "source": [
    "from plotnine import ggplot, aes, geom_line, geom_point, geom_histogram, geom_bar, geom_boxplot, scale_y_continuous, scale_x_continuous, labs, after_stat,  geom_vline, scale_color_manual, theme_gray, theme_xkcd, scale_color_identity, geom_hline, facet_wrap, scale_fill_discrete, scale_fill_manual,  scale_fill_hue, guides, guide_legend\n",
    "from mizani.formatters import percent_format "
   ]
  },
  {
   "cell_type": "markdown",
   "metadata": {},
   "source": [
    "We generate a histogram of the quantitative variable *income* using\n",
    "the categorization intervals obtained with Scott's rule :"
   ]
  },
  {
   "cell_type": "code",
   "execution_count": 155,
   "metadata": {},
   "outputs": [
    {
     "data": {
      "image/png": "[encoded data removed]",
      "text/plain": [
       "<Figure size 432x288 with 1 Axes>"
      ]
     },
     "metadata": {},
     "output_type": "display_data"
    },
    {
     "data": {
      "text/plain": [
       "<ggplot: (79761907767)>"
      ]
     },
     "execution_count": 155,
     "metadata": {},
     "output_type": "execute_result"
    }
   ],
   "source": [
    "(\n",
    "ggplot( data_Python )\n",
    "+  aes(x='ingresos' , y =  after_stat('width*density'))\n",
    "+ geom_histogram(breaks=L , fill=\"orange\", color=\"black\")\n",
    "+  labs(x = \"Ingresos\", y = \"Frecuencia Relativa\")\n",
    "+ scale_x_continuous( breaks = range(int(data_Python['ingresos'].min()) , int(data_Python['ingresos'].max()) , 8000) ) \n",
    "+ scale_y_continuous( breaks = np.arange(0, 0.17, 0.02) )\n",
    ")"
   ]
  },
  {
   "cell_type": "markdown",
   "metadata": {},
   "source": [
    "We add to the previous histogram associated vertical dashed lines\n",
    "to the values ​​of some descriptive statistics :"
   ]
  },
  {
   "cell_type": "code",
   "execution_count": 156,
   "metadata": {},
   "outputs": [
    {
     "data": {
      "image/png": "[encoded data removed]",
      "text/plain": [
       "<Figure size 640x480 with 1 Axes>"
      ]
     },
     "metadata": {},
     "output_type": "display_data"
    },
    {
     "data": {
      "text/plain": [
       "<ggplot: (79726631985)>"
      ]
     },
     "execution_count": 156,
     "metadata": {},
     "output_type": "execute_result"
    }
   ],
   "source": [
    "(\n",
    "ggplot( data_Python )\n",
    "+  aes(x='ingresos' , y =  after_stat('width*density'))\n",
    "+ geom_histogram(breaks=L , fill=\"orange\", color=\"black\")\n",
    "+  labs(x = \"Ingresos\", y = \"Frecuencia Relativa\")\n",
    "+ scale_x_continuous( breaks = range(int(data_Python['ingresos'].min()) , int(data_Python['ingresos'].max()) , 8000) ) \n",
    "+ scale_y_continuous( breaks = np.arange(0, 0.17, 0.02) )\n",
    "\n",
    "+  geom_vline( xintercept=[data_Python['ingresos'].mean(), data_Python['ingresos'].median() , np.quantile( data_Python[['ingresos']] , 0.25), np.quantile( data_Python[['ingresos']] , 0.75)],\n",
    "                 color=['red','blue','green', 'gray'],     # add colour\n",
    "                 size=[1,1,1,1],                          # set line thickness\n",
    "                 linetype='dotted',\n",
    "                 show_legend = True    # set line type\n",
    "                               \n",
    "                )\n",
    "\n",
    ") "
   ]
  },
  {
   "cell_type": "markdown",
   "metadata": {},
   "source": [
    "We can add a legend as follows :"
   ]
  },
  {
   "cell_type": "code",
   "execution_count": 157,
   "metadata": {},
   "outputs": [
    {
     "data": {
      "text/html": [
       "<div>\n",
       "<style scoped>\n",
       "    .dataframe tbody tr th:only-of-type {\n",
       "        vertical-align: middle;\n",
       "    }\n",
       "\n",
       "    .dataframe tbody tr th {\n",
       "        vertical-align: top;\n",
       "    }\n",
       "\n",
       "    .dataframe thead th {\n",
       "        text-align: right;\n",
       "    }\n",
       "</style>\n",
       "<table border=\"1\" class=\"dataframe\">\n",
       "  <thead>\n",
       "    <tr style=\"text-align: right;\">\n",
       "      <th></th>\n",
       "      <th>statistics</th>\n",
       "      <th>value</th>\n",
       "    </tr>\n",
       "  </thead>\n",
       "  <tbody>\n",
       "    <tr>\n",
       "      <th>0</th>\n",
       "      <td>mean</td>\n",
       "      <td>14078.766909</td>\n",
       "    </tr>\n",
       "    <tr>\n",
       "      <th>1</th>\n",
       "      <td>median</td>\n",
       "      <td>12331.000000</td>\n",
       "    </tr>\n",
       "    <tr>\n",
       "      <th>2</th>\n",
       "      <td>Q25</td>\n",
       "      <td>8310.600000</td>\n",
       "    </tr>\n",
       "    <tr>\n",
       "      <th>3</th>\n",
       "      <td>Q75</td>\n",
       "      <td>18269.375000</td>\n",
       "    </tr>\n",
       "  </tbody>\n",
       "</table>\n",
       "</div>"
      ],
      "text/plain": [
       "  statistics         value\n",
       "0       mean  14078.766909\n",
       "1     median  12331.000000\n",
       "2        Q25   8310.600000\n",
       "3        Q75  18269.375000"
      ]
     },
     "execution_count": 157,
     "metadata": {},
     "output_type": "execute_result"
    }
   ],
   "source": [
    "df = pd.DataFrame({'statistics': ['mean', 'median','Q25', 'Q75' ] ,\n",
    "                   'value' : [ data_Python['ingresos'].mean(), data_Python['ingresos'].median() , np.quantile( data_Python[['ingresos']] , 0.25), np.quantile( data_Python[['ingresos']] , 0.75) ] \n",
    "                   })\n",
    "\n",
    "df"
   ]
  },
  {
   "cell_type": "code",
   "execution_count": 158,
   "metadata": {},
   "outputs": [
    {
     "data": {
      "image/png": "[encoded data removed]",
      "text/plain": [
       "<Figure size 640x480 with 1 Axes>"
      ]
     },
     "metadata": {},
     "output_type": "display_data"
    },
    {
     "data": {
      "text/plain": [
       "<ggplot: (79763213809)>"
      ]
     },
     "execution_count": 158,
     "metadata": {},
     "output_type": "execute_result"
    }
   ],
   "source": [
    "p = (\n",
    "ggplot( data_Python )\n",
    "+  aes(x='ingresos' , y =  after_stat('width*density'))\n",
    "+ geom_histogram(breaks=L , fill=\"orange\", color=\"black\")\n",
    "+  labs(x = \"Ingresos\", y = \"Frecuencia Relativa\")\n",
    "+ scale_x_continuous( breaks = range(int(data_Python['ingresos'].min()) , int(data_Python['ingresos'].max()) , 8000) ) \n",
    "+ scale_y_continuous( breaks = np.arange(0, 0.17, 0.02) )\n",
    "\n",
    "+  geom_vline( df, aes(xintercept='value', color='statistics'), show_legend=True , linetype='dotted',size=[1,1,1,1])\n",
    "+  scale_color_manual(\n",
    "     name = \"Statistics\",\n",
    "     values = [  \"red\",  \"green\", \"cyan\", \"blue\" ]\n",
    "     )\n",
    ") \n",
    "\n",
    "p"
   ]
  },
  {
   "cell_type": "markdown",
   "metadata": {},
   "source": [
    "We can save the image above in high quality as follows :"
   ]
  },
  {
   "cell_type": "code",
   "execution_count": 159,
   "metadata": {},
   "outputs": [],
   "source": [
    "p.save(\"myplot2.png\", dpi=600, path=\"C:/Users/Usuario/Pictures\")"
   ]
  },
  {
   "cell_type": "markdown",
   "metadata": {},
   "source": []
  },
  {
   "cell_type": "markdown",
   "metadata": {},
   "source": [
    "## Bar Plot <a class=\"anchor\" id=\"51\"></a>"
   ]
  },
  {
   "cell_type": "markdown",
   "metadata": {},
   "source": [
    "A *bar plot* is an unstacked bar chart used\n",
    "to represent the absolute or relative frequencies of a variable\n",
    "categorical.\n",
    "\n",
    "The bar chart is constructed as follows:\n",
    "\n",
    "On the *x-axis* it contains the path of the categorical variable. In the\n",
    "*y-axis* the absolute or relative frequencies of the intervals of\n",
    "categorization in the quantitative variable.\n",
    "\n",
    "Inside the chart there are unstacked bars, as many as\n",
    "categories has the variable categorica, each bar is assigned to a\n",
    "category of the variable, and has a height equal to the frequency\n",
    "absolute or relative of the category in the categorical variable."
   ]
  },
  {
   "cell_type": "markdown",
   "metadata": {},
   "source": []
  },
  {
   "cell_type": "markdown",
   "metadata": {},
   "source": [
    "### Bar-plot in R"
   ]
  },
  {
   "cell_type": "markdown",
   "metadata": {},
   "source": [
    "We generate a bar plot of the categorical variable *mineduc* (level\n",
    "of education):"
   ]
  },
  {
   "cell_type": "code",
   "execution_count": 160,
   "metadata": {},
   "outputs": [
    {
     "data": {
      "image/png": "[encoded data removed]"
     },
     "metadata": {},
     "output_type": "display_data"
    }
   ],
   "source": [
    "%%R\n",
    "\n",
    "ggplot(data = data_R, aes(x=neduc ))+\n",
    "geom_bar(aes(y = after_stat(count / sum(count))) ,\n",
    " fill=\"orange\", color=\"black\")+\n",
    " scale_y_continuous( n.breaks = 15 )+\n",
    "  labs(x = \"Nivel de Educacion\",\n",
    "  y = \"Frecuencia Relativa\")"
   ]
  },
  {
   "cell_type": "markdown",
   "metadata": {},
   "source": []
  },
  {
   "cell_type": "markdown",
   "metadata": {},
   "source": [
    "### Bar-plot in Python"
   ]
  },
  {
   "cell_type": "markdown",
   "metadata": {},
   "source": [
    "We generate a bar plot of the categorical variable *mineduc* (level\n",
    "of education):"
   ]
  },
  {
   "cell_type": "code",
   "execution_count": 161,
   "metadata": {},
   "outputs": [
    {
     "data": {
      "image/png": "[encoded data removed]",
      "text/plain": [
       "<Figure size 640x480 with 1 Axes>"
      ]
     },
     "metadata": {},
     "output_type": "display_data"
    },
    {
     "data": {
      "text/plain": [
       "<ggplot: (79763234723)>"
      ]
     },
     "execution_count": 161,
     "metadata": {},
     "output_type": "execute_result"
    }
   ],
   "source": [
    "(\n",
    "ggplot( data_Python )\n",
    "+  aes(x='neduc' , y =  after_stat('prop'))\n",
    "+ geom_bar( fill=\"orange\", color=\"black\")\n",
    "+  labs(x = \"neduc\", y = \"Frecuencia Relativa\")\n",
    "+ scale_y_continuous( breaks = np.arange(0, 0.6, 0.08) )\n",
    ") "
   ]
  },
  {
   "cell_type": "markdown",
   "metadata": {},
   "source": []
  },
  {
   "cell_type": "markdown",
   "metadata": {},
   "source": [
    "\n",
    "## Box-Plot <a class=\"anchor\" id=\"52\"></a>\n"
   ]
  },
  {
   "cell_type": "markdown",
   "metadata": {},
   "source": [
    "The **box-plot**  is a plot for quantitative variables\n",
    " that contains the following elements:\n",
    "\n",
    "- The **left end of the box** (box) represents the value\n",
    "    $Q(0.25, X_k)$\n",
    "\n",
    "- The **right end of the box** represents the value\n",
    "    $Q(0.75, X_k)$\n",
    "\n",
    "- The **line inside the box** represents the value\n",
    "    $Median(X_k)$\n",
    "\n",
    "- The **left end of the horizontal line** is:\n",
    "$$\n",
    "Max \\left( Min(X_k) \\hspace{0.1cm},\\hspace{0.1cm} Q(0.25,X_k) - 1.5\\cdot RIC \\right)\n",
    "$$\n",
    "\n",
    "- The **right end of the horizontal line** is:\n",
    "\n",
    "$$\n",
    "Min \\left( Max(X_k) \\hspace{0.1cm},\\hspace{0.1cm} Q(0.75,X_k) + 1.5\\cdot RIC \\right)\n",
    "$$\n",
    "\n",
    "- The points that are beyond the extreme left or right of the\n",
    "    horizontal line are considered **outlier observations**.\n",
    "\n",
    "\n",
    "Where: $\\hspace{0.15cm} IQR= Q(0.75,X_k) - Q(0.25,X_k)$ is the **interquartile range**\n",
    "of $X_k$.\n",
    "\n"
   ]
  },
  {
   "cell_type": "markdown",
   "metadata": {},
   "source": [
    "### Box-plot in R"
   ]
  },
  {
   "cell_type": "markdown",
   "metadata": {},
   "source": [
    "\n",
    "We generate a box-plot of the quantitative variable *income*\n"
   ]
  },
  {
   "cell_type": "code",
   "execution_count": 162,
   "metadata": {},
   "outputs": [
    {
     "data": {
      "image/png": "[encoded data removed]"
     },
     "metadata": {},
     "output_type": "display_data"
    }
   ],
   "source": [
    "%%R\n",
    "\n",
    "ggplot(data_R) + \n",
    "  geom_boxplot( aes(x = ingresos), fill=\"orange\", \n",
    "  color = 'black') + \n",
    "  xlab(\"Ingresos\") + \n",
    "  ggtitle(\"Box-plot de la variable Ingresos \")+\n",
    "  scale_x_continuous(n.breaks = 12)"
   ]
  },
  {
   "cell_type": "markdown",
   "metadata": {},
   "source": [
    "We add dashed vertical lines with relevant values ​​on the\n",
    "previous chart :"
   ]
  },
  {
   "cell_type": "code",
   "execution_count": 163,
   "metadata": {},
   "outputs": [],
   "source": [
    "%%R\n",
    "\n",
    " rango_intercuartilico_ingresos<-quantile(data_R$ingresos, 0.75) - quantile(data_R$ingresos, 0.25)\n",
    "\n",
    "extremo_izquierdo<- max( min(data_R$ingresos) ,  quantile(data_R$ingresos, 0.25) - 1.5*rango_intercuartilico_ingresos)  \n",
    "extremo_derecho<- min( max(data_R$ingresos) ,  quantile(data_R$ingresos, 0.75) + 1.5*rango_intercuartilico_ingresos)  \n"
   ]
  },
  {
   "cell_type": "code",
   "execution_count": 164,
   "metadata": {},
   "outputs": [
    {
     "data": {
      "image/png": "[encoded data removed]"
     },
     "metadata": {},
     "output_type": "display_data"
    }
   ],
   "source": [
    "%%R\n",
    "\n",
    "ggplot(data_R) + \n",
    "  geom_boxplot( aes(x = ingresos), fill=\"bisque3\", color = 'black') + \n",
    "  xlab(\"Ingresos\") + \n",
    "  ggtitle(\"Box-plot de la variable Ingresos \")+\n",
    "  scale_x_continuous(n.breaks = 8)+\n",
    "  \n",
    " geom_vline(aes(xintercept = median(ingresos),\n",
    "                  color = \"mediana\"),\n",
    "              linetype = \"dashed\",\n",
    "              size = 1) +\n",
    "   geom_vline(aes(xintercept = mean(ingresos),\n",
    "                  color = \"media\"),\n",
    "              linetype = \"dashed\",\n",
    "              size = 1) +\n",
    "   geom_vline(\n",
    "     aes(xintercept = quantile(ingresos, 0.25),\n",
    "         color = \"cuantil_25\"),\n",
    "     linetype = \"dashed\",\n",
    "     size = 1\n",
    "   ) +\n",
    "   geom_vline(\n",
    "     aes(xintercept = quantile(ingresos, 0.75),\n",
    "         color = \"cuantil_75\"),\n",
    "     linetype = \"dashed\",\n",
    "     size = 1\n",
    "   )   + \n",
    "   geom_vline(\n",
    "     aes(xintercept = extremo_izquierdo,\n",
    "         color = \"extremo_izquierdo\"),\n",
    "     linetype = \"dashed\",\n",
    "     size = 1\n",
    "   )   +\n",
    "  geom_vline(\n",
    "     aes(xintercept = extremo_derecho,\n",
    "         color = \"extremo_derecho\"),\n",
    "     linetype = \"dashed\",\n",
    "     size = 1\n",
    "   )  +\n",
    "   scale_color_manual(\n",
    "     name = \"statistics\",\n",
    "     values = c(\n",
    "       mediana = \"red\",\n",
    "       media = \"green\",\n",
    "       cuantil_25 = \"purple\",\n",
    "       cuantil_75 = \"blue\",\n",
    "       extremo_derecho=\"orange\",\n",
    "       extremo_izquierdo=\"cyan4\"\n",
    "     )\n",
    "   )"
   ]
  },
  {
   "cell_type": "markdown",
   "metadata": {},
   "source": []
  },
  {
   "cell_type": "markdown",
   "metadata": {},
   "source": [
    "### Box-plot in Python"
   ]
  },
  {
   "cell_type": "code",
   "execution_count": 166,
   "metadata": {},
   "outputs": [
    {
     "data": {
      "image/png": "[encoded data removed]",
      "text/plain": [
       "<Figure size 640x480 with 1 Axes>"
      ]
     },
     "metadata": {},
     "output_type": "display_data"
    },
    {
     "data": {
      "text/plain": [
       "<ggplot: (79763274731)>"
      ]
     },
     "execution_count": 166,
     "metadata": {},
     "output_type": "execute_result"
    }
   ],
   "source": [
    "(\n",
    "ggplot( data_Python )\n",
    "+  aes( x=list(range(0, 1 , len(data_Python))) , y = 'ingresos' )\n",
    "+ geom_boxplot(fill=\"orange\", color=\"black\" )\n",
    "+  labs(y = \"Ingresos\" )\n",
    "+ scale_y_continuous( breaks = range(int(data_Python['ingresos'].min()) , int(data_Python['ingresos'].max()) , 7000) ) \n",
    "+  geom_hline( df, aes(yintercept='value', color='statistics'), show_legend=True , linetype='dotted',size=[1,1,1,1])\n",
    "+  scale_color_manual(\n",
    "     name = \"Statistics\",\n",
    "     values = [  \"red\",  \"green\", \"cyan\", \"blue\" ]\n",
    "     )\n",
    ") "
   ]
  },
  {
   "cell_type": "markdown",
   "metadata": {},
   "source": []
  },
  {
   "cell_type": "markdown",
   "metadata": {},
   "source": [
    "## Skewness and Kurtosis <a class=\"anchor\" id=\"53\"></a>\n",
    "\n",
    "### Skewness Coefficient <a class=\"anchor\" id=\"54\"></a>\n",
    "\n",
    "The Fisher's Skewness coefficient of the quantitative variable $X_k$ is:\n",
    "\n",
    "$$\n",
    "Skewness(X_k) = \\dfrac{\\overline{x_{k}}_{3}}{S(X_k)^{3}}\n",
    "$$\n",
    "\n",
    "Where:\n",
    "$$\n",
    "\\overline{x_{k}}_{3}=\\dfrac{1}{n}\\sum_{i=1}^{n} (x_{ik})^{3}\n",
    "$$"
   ]
  },
  {
   "cell_type": "markdown",
   "metadata": {},
   "source": [
    "#### Skewness coefficient properties <a class=\"anchor\" id=\"55\"></a>\n",
    "\n",
    "The **Fisher's skewness coefficient** measures the **degree of symmetry**\n",
    "of the distribution of the observations of a variable with respect to its\n",
    "arithmetic means.\n",
    "\n",
    "- If $Skewness(X_k) > 0$ $\\Rightarrow$ the distribution of $X_k$ is\n",
    "    **asymmetric to the right**.\n",
    "\n",
    "- If $Skewness(X_k) <0$ $\\Rightarrow$ the distribution of $X_k$ is\n",
    "    **asymmetric to the left**.\n",
    "\n",
    "- If the distribution is **symmetric** about the means\n",
    "    $\\Rightarrow$ $Skewness(X_k)=0$ . But the converse is not true."
   ]
  },
  {
   "cell_type": "markdown",
   "metadata": {},
   "source": []
  },
  {
   "cell_type": "markdown",
   "metadata": {},
   "source": [
    "\n",
    "#### Skewness in R\n"
   ]
  },
  {
   "cell_type": "code",
   "execution_count": 167,
   "metadata": {},
   "outputs": [],
   "source": [
    "%%R\n",
    "\n",
    "library(moments)"
   ]
  },
  {
   "cell_type": "code",
   "execution_count": 168,
   "metadata": {},
   "outputs": [
    {
     "name": "stdout",
     "output_type": "stream",
     "text": [
      "[1] 1.304721\n"
     ]
    }
   ],
   "source": [
    "%%R \n",
    "\n",
    "skewness(data_R$ingresos)"
   ]
  },
  {
   "cell_type": "markdown",
   "metadata": {},
   "source": []
  },
  {
   "cell_type": "markdown",
   "metadata": {},
   "source": [
    "#### Skewness in Python"
   ]
  },
  {
   "cell_type": "code",
   "execution_count": 169,
   "metadata": {},
   "outputs": [],
   "source": [
    "import scipy"
   ]
  },
  {
   "cell_type": "code",
   "execution_count": 170,
   "metadata": {},
   "outputs": [
    {
     "data": {
      "text/plain": [
       "1.304721100228902"
      ]
     },
     "execution_count": 170,
     "metadata": {},
     "output_type": "execute_result"
    }
   ],
   "source": [
    "scipy.stats.skew(data_Python['ingresos'])"
   ]
  },
  {
   "cell_type": "markdown",
   "metadata": {},
   "source": []
  },
  {
   "cell_type": "markdown",
   "metadata": {},
   "source": [
    "#### Skewness Comparison in R"
   ]
  },
  {
   "cell_type": "code",
   "execution_count": 171,
   "metadata": {},
   "outputs": [
    {
     "name": "stdout",
     "output_type": "stream",
     "text": [
      "[1] 2.184111\n"
     ]
    }
   ],
   "source": [
    "%%R\n",
    "\n",
    "set.seed(123)\n",
    "\n",
    "X1 <- rchisq(5000, 2)\n",
    "\n",
    "skewness(X1)"
   ]
  },
  {
   "cell_type": "code",
   "execution_count": 172,
   "metadata": {},
   "outputs": [
    {
     "name": "stderr",
     "output_type": "stream",
     "text": [
      "R[write to console]: `stat_bin()` using `bins = 30`. Pick better value with `binwidth`.\n",
      "\n"
     ]
    },
    {
     "data": {
      "image/png": "[encoded data removed]"
     },
     "metadata": {},
     "output_type": "display_data"
    }
   ],
   "source": [
    "%%R\n",
    "\n",
    "p1<- ggplot(data = as.data.frame(X1), aes(x=X1 ))+\n",
    "geom_histogram(aes(y = after_stat(count / sum(count)))   , fill=\"bisque3\", color=\"black\")+\n",
    " scale_y_continuous( n.breaks = 15 )+\n",
    "  scale_x_continuous(n.breaks = 12)+\n",
    "  xlab(\"X1\") +\n",
    "  ylab(\"Frecuencias Relativas\") +\n",
    "  ggtitle(\"Districución Asimétrica a la derecha : Asimetria = 2.18\")+\n",
    "  \n",
    " geom_vline(aes(xintercept = median(X1),\n",
    "                  color = \"mediana\"),\n",
    "              linetype = \"dashed\",\n",
    "              size = 1) +\n",
    "   geom_vline(aes(xintercept = mean(X1),\n",
    "                  color = \"media\"),\n",
    "              linetype = \"dashed\",\n",
    "              size = 1)+\n",
    "  \n",
    "   scale_color_manual(\n",
    "     name = \"statistics\",\n",
    "     values = c(\n",
    "       mediana = \"red\",\n",
    "       media = \"green\"\n",
    "     )\n",
    "   )\n",
    "\n",
    "p1"
   ]
  },
  {
   "cell_type": "markdown",
   "metadata": {},
   "source": []
  },
  {
   "cell_type": "code",
   "execution_count": 173,
   "metadata": {},
   "outputs": [
    {
     "name": "stdout",
     "output_type": "stream",
     "text": [
      "[1] 0.01169851\n"
     ]
    }
   ],
   "source": [
    "%%R\n",
    "\n",
    "set.seed(123)\n",
    "\n",
    "X2 <- rnorm(5000, 2)\n",
    "\n",
    "skewness(X2)"
   ]
  },
  {
   "cell_type": "code",
   "execution_count": 174,
   "metadata": {},
   "outputs": [
    {
     "name": "stderr",
     "output_type": "stream",
     "text": [
      "R[write to console]: `stat_bin()` using `bins = 30`. Pick better value with `binwidth`.\n",
      "\n"
     ]
    },
    {
     "data": {
      "image/png": "[encoded data removed]"
     },
     "metadata": {},
     "output_type": "display_data"
    }
   ],
   "source": [
    "%%R\n",
    "\n",
    "p2<- ggplot(data = as.data.frame(X2), aes(x=X2))+\n",
    "geom_histogram(aes(y = after_stat(count / sum(count)))   , fill=\"bisque3\", color=\"black\")+\n",
    " scale_y_continuous( n.breaks = 15 )+\n",
    "  scale_x_continuous(n.breaks = 12)+\n",
    "  xlab(\"X2\") +\n",
    "  ylab(\"Frecuencias Relativas\") +\n",
    "  ggtitle(\"Distribución Simétrica : Asimetria = 0.011\")+\n",
    "  \n",
    "  geom_vline(aes(xintercept = median(X2),\n",
    "                  color = \"mediana\"),\n",
    "              linetype = \"dashed\",\n",
    "              size = 1) +\n",
    "   geom_vline(aes(xintercept = mean(X2),\n",
    "                  color = \"media\"),\n",
    "              linetype = \"dashed\",\n",
    "              size = 1)+\n",
    "  \n",
    "   scale_color_manual(\n",
    "     name = \"statistics\",\n",
    "     values = c(\n",
    "       mediana = \"red\",\n",
    "       media = \"green\"\n",
    "     )\n",
    "   )\n",
    "\n",
    "p2"
   ]
  },
  {
   "cell_type": "code",
   "execution_count": 175,
   "metadata": {},
   "outputs": [
    {
     "name": "stdout",
     "output_type": "stream",
     "text": [
      "[1] -0.8586165\n"
     ]
    }
   ],
   "source": [
    "%%R\n",
    "\n",
    "set.seed(123)\n",
    "\n",
    "X3 <- rbeta(5000, 9, 2)\n",
    "\n",
    "skewness(X3)"
   ]
  },
  {
   "cell_type": "code",
   "execution_count": 176,
   "metadata": {},
   "outputs": [
    {
     "name": "stderr",
     "output_type": "stream",
     "text": [
      "R[write to console]: `stat_bin()` using `bins = 30`. Pick better value with `binwidth`.\n",
      "\n"
     ]
    },
    {
     "data": {
      "image/png": "[encoded data removed]"
     },
     "metadata": {},
     "output_type": "display_data"
    }
   ],
   "source": [
    "%%R\n",
    "\n",
    "p3<- ggplot(data = as.data.frame(X3), aes(x=X3))+\n",
    "geom_histogram(aes(y = after_stat(count / sum(count)))   , fill=\"bisque3\", color=\"black\")+\n",
    " scale_y_continuous( n.breaks = 15 )+\n",
    "  scale_x_continuous(n.breaks = 12)+\n",
    "  xlab(\"X3\") +\n",
    "  ylab(\"Frecuencias Relativas\") +\n",
    "  ggtitle(\"Distribución Asimétrica a la izquierda : Asimetria = -0.85\")+\n",
    "  \n",
    "  geom_vline(aes(xintercept = median(X3),\n",
    "                  color = \"mediana\"),\n",
    "              linetype = \"dashed\",\n",
    "              size = 1) +\n",
    "   geom_vline(aes(xintercept = mean(X3),\n",
    "                  color = \"media\"),\n",
    "              linetype = \"dashed\",\n",
    "              size = 1)+\n",
    "  \n",
    "   scale_color_manual(\n",
    "     name = \"statistics\",\n",
    "     values = c(\n",
    "       mediana = \"red\",\n",
    "       media = \"green\"\n",
    "     )\n",
    "   )\n",
    "\n",
    "p3"
   ]
  },
  {
   "cell_type": "code",
   "execution_count": 177,
   "metadata": {},
   "outputs": [
    {
     "name": "stderr",
     "output_type": "stream",
     "text": [
      "R[write to console]: `stat_bin()` using `bins = 30`. Pick better value with `binwidth`.\n",
      "\n"
     ]
    },
    {
     "data": {
      "image/png": "[encoded data removed]"
     },
     "metadata": {},
     "output_type": "display_data"
    }
   ],
   "source": [
    "%%R\n",
    "\n",
    "df<-as.data.frame(cbind(c(X1,X2,X3), grupo=c(rep(1,5000), rep(2,5000),rep(3,5000))))\n",
    "\n",
    "ggplot(data = df , aes(x=V1, fill=factor(grupo)))+\n",
    "geom_histogram(aes(y = after_stat(count/sum(count))) , color=\"black\")+\n",
    "  facet_wrap(grupo~., scales=\"free\", ncol = 3)+\n",
    " scale_y_continuous( n.breaks = 10 )+\n",
    "  scale_x_continuous(n.breaks = 5)+\n",
    "  ggtitle(\"Comparación asimetria de distribuciones\")+\n",
    "  ylab(\"Frecuencias Relativas\")+ xlab(\"\")+\n",
    "  scale_fill_discrete(labels = c(\"A.Der\", \"Sim\", \"A.Izq\"))+\n",
    "  guides(fill = guide_legend(title = \" \"),\n",
    "         colour = guide_legend(title = \" \"))"
   ]
  },
  {
   "cell_type": "markdown",
   "metadata": {},
   "source": []
  },
  {
   "cell_type": "markdown",
   "metadata": {},
   "source": [
    "#### Skewness Comparsion in Python"
   ]
  },
  {
   "cell_type": "code",
   "execution_count": 178,
   "metadata": {},
   "outputs": [
    {
     "data": {
      "text/plain": [
       "1.946984446321499"
      ]
     },
     "execution_count": 178,
     "metadata": {},
     "output_type": "execute_result"
    }
   ],
   "source": [
    "np.random.seed(123)\n",
    "\n",
    "X1 = np.random.chisquare(df=2, size=5000)\n",
    "\n",
    "scipy.stats.skew(X1)"
   ]
  },
  {
   "cell_type": "code",
   "execution_count": 231,
   "metadata": {},
   "outputs": [
    {
     "data": {
      "text/html": [
       "<div>\n",
       "<style scoped>\n",
       "    .dataframe tbody tr th:only-of-type {\n",
       "        vertical-align: middle;\n",
       "    }\n",
       "\n",
       "    .dataframe tbody tr th {\n",
       "        vertical-align: top;\n",
       "    }\n",
       "\n",
       "    .dataframe thead th {\n",
       "        text-align: right;\n",
       "    }\n",
       "</style>\n",
       "<table border=\"1\" class=\"dataframe\">\n",
       "  <thead>\n",
       "    <tr style=\"text-align: right;\">\n",
       "      <th></th>\n",
       "      <th>X1</th>\n",
       "    </tr>\n",
       "  </thead>\n",
       "  <tbody>\n",
       "    <tr>\n",
       "      <th>0</th>\n",
       "      <td>2.384544</td>\n",
       "    </tr>\n",
       "    <tr>\n",
       "      <th>1</th>\n",
       "      <td>0.674135</td>\n",
       "    </tr>\n",
       "    <tr>\n",
       "      <th>2</th>\n",
       "      <td>0.514568</td>\n",
       "    </tr>\n",
       "    <tr>\n",
       "      <th>3</th>\n",
       "      <td>1.602867</td>\n",
       "    </tr>\n",
       "    <tr>\n",
       "      <th>4</th>\n",
       "      <td>2.542142</td>\n",
       "    </tr>\n",
       "  </tbody>\n",
       "</table>\n",
       "</div>"
      ],
      "text/plain": [
       "         X1\n",
       "0  2.384544\n",
       "1  0.674135\n",
       "2  0.514568\n",
       "3  1.602867\n",
       "4  2.542142"
      ]
     },
     "execution_count": 231,
     "metadata": {},
     "output_type": "execute_result"
    }
   ],
   "source": [
    "X1_df = pd.DataFrame({'X1': X1})\n",
    "X1_df.head()"
   ]
  },
  {
   "cell_type": "code",
   "execution_count": 180,
   "metadata": {},
   "outputs": [
    {
     "data": {
      "text/html": [
       "<div>\n",
       "<style scoped>\n",
       "    .dataframe tbody tr th:only-of-type {\n",
       "        vertical-align: middle;\n",
       "    }\n",
       "\n",
       "    .dataframe tbody tr th {\n",
       "        vertical-align: top;\n",
       "    }\n",
       "\n",
       "    .dataframe thead th {\n",
       "        text-align: right;\n",
       "    }\n",
       "</style>\n",
       "<table border=\"1\" class=\"dataframe\">\n",
       "  <thead>\n",
       "    <tr style=\"text-align: right;\">\n",
       "      <th></th>\n",
       "      <th>statistics</th>\n",
       "      <th>value</th>\n",
       "    </tr>\n",
       "  </thead>\n",
       "  <tbody>\n",
       "    <tr>\n",
       "      <th>0</th>\n",
       "      <td>mean</td>\n",
       "      <td>1.982775</td>\n",
       "    </tr>\n",
       "    <tr>\n",
       "      <th>1</th>\n",
       "      <td>median</td>\n",
       "      <td>1.393094</td>\n",
       "    </tr>\n",
       "  </tbody>\n",
       "</table>\n",
       "</div>"
      ],
      "text/plain": [
       "  statistics     value\n",
       "0       mean  1.982775\n",
       "1     median  1.393094"
      ]
     },
     "execution_count": 180,
     "metadata": {},
     "output_type": "execute_result"
    }
   ],
   "source": [
    "df = pd.DataFrame({'statistics': ['mean', 'median' ] ,\n",
    "                   'value' : [ X1_df['X1'].mean(), X1_df['X1'].median()] \n",
    "                   })\n",
    "\n",
    "df"
   ]
  },
  {
   "cell_type": "code",
   "execution_count": 186,
   "metadata": {},
   "outputs": [
    {
     "data": {
      "image/png": "[encoded data removed]",
      "text/plain": [
       "<Figure size 640x480 with 1 Axes>"
      ]
     },
     "metadata": {},
     "output_type": "display_data"
    },
    {
     "data": {
      "text/plain": [
       "<ggplot: (79743165251)>"
      ]
     },
     "execution_count": 186,
     "metadata": {},
     "output_type": "execute_result"
    }
   ],
   "source": [
    "(\n",
    "ggplot( data=X1_df )\n",
    "+ aes(x='X1' , y =  after_stat('width*density'))\n",
    "+ geom_histogram( fill=\"orange\", color=\"black\")\n",
    "+  labs(x = \"X1\", y = \"Frecuencia Relativa\")\n",
    "+ scale_x_continuous( breaks = np.arange(0, 15, 2) ) \n",
    "+ scale_y_continuous( breaks = np.arange(0, 0.13, 0.02) )\n",
    "\n",
    "+  geom_vline( df, aes(xintercept='value', color='statistics'), show_legend=True , linetype='dotted',size=[2,2])\n",
    "+  scale_color_manual(\n",
    "     name = \"Statistics\",\n",
    "     values = [  \"red\",  \"green\"]\n",
    "     )\n",
    ")"
   ]
  },
  {
   "cell_type": "markdown",
   "metadata": {},
   "source": []
  },
  {
   "cell_type": "code",
   "execution_count": 187,
   "metadata": {},
   "outputs": [
    {
     "data": {
      "text/plain": [
       "-0.03708351858937471"
      ]
     },
     "execution_count": 187,
     "metadata": {},
     "output_type": "execute_result"
    }
   ],
   "source": [
    "np.random.seed(123)\n",
    "\n",
    "X2 = np.random.normal(0, 1, 5000)\n",
    "\n",
    "scipy.stats.skew(X2)"
   ]
  },
  {
   "cell_type": "code",
   "execution_count": 230,
   "metadata": {},
   "outputs": [
    {
     "data": {
      "text/html": [
       "<div>\n",
       "<style scoped>\n",
       "    .dataframe tbody tr th:only-of-type {\n",
       "        vertical-align: middle;\n",
       "    }\n",
       "\n",
       "    .dataframe tbody tr th {\n",
       "        vertical-align: top;\n",
       "    }\n",
       "\n",
       "    .dataframe thead th {\n",
       "        text-align: right;\n",
       "    }\n",
       "</style>\n",
       "<table border=\"1\" class=\"dataframe\">\n",
       "  <thead>\n",
       "    <tr style=\"text-align: right;\">\n",
       "      <th></th>\n",
       "      <th>X2</th>\n",
       "    </tr>\n",
       "  </thead>\n",
       "  <tbody>\n",
       "    <tr>\n",
       "      <th>0</th>\n",
       "      <td>-1.085631</td>\n",
       "    </tr>\n",
       "    <tr>\n",
       "      <th>1</th>\n",
       "      <td>0.997345</td>\n",
       "    </tr>\n",
       "    <tr>\n",
       "      <th>2</th>\n",
       "      <td>0.282978</td>\n",
       "    </tr>\n",
       "    <tr>\n",
       "      <th>3</th>\n",
       "      <td>-1.506295</td>\n",
       "    </tr>\n",
       "    <tr>\n",
       "      <th>4</th>\n",
       "      <td>-0.578600</td>\n",
       "    </tr>\n",
       "  </tbody>\n",
       "</table>\n",
       "</div>"
      ],
      "text/plain": [
       "         X2\n",
       "0 -1.085631\n",
       "1  0.997345\n",
       "2  0.282978\n",
       "3 -1.506295\n",
       "4 -0.578600"
      ]
     },
     "execution_count": 230,
     "metadata": {},
     "output_type": "execute_result"
    }
   ],
   "source": [
    "X2_df = pd.DataFrame({'X2': X2})\n",
    "X2_df.head()"
   ]
  },
  {
   "cell_type": "code",
   "execution_count": 189,
   "metadata": {},
   "outputs": [
    {
     "data": {
      "text/html": [
       "<div>\n",
       "<style scoped>\n",
       "    .dataframe tbody tr th:only-of-type {\n",
       "        vertical-align: middle;\n",
       "    }\n",
       "\n",
       "    .dataframe tbody tr th {\n",
       "        vertical-align: top;\n",
       "    }\n",
       "\n",
       "    .dataframe thead th {\n",
       "        text-align: right;\n",
       "    }\n",
       "</style>\n",
       "<table border=\"1\" class=\"dataframe\">\n",
       "  <thead>\n",
       "    <tr style=\"text-align: right;\">\n",
       "      <th></th>\n",
       "      <th>statistics</th>\n",
       "      <th>value</th>\n",
       "    </tr>\n",
       "  </thead>\n",
       "  <tbody>\n",
       "    <tr>\n",
       "      <th>0</th>\n",
       "      <td>mean</td>\n",
       "      <td>0.021083</td>\n",
       "    </tr>\n",
       "    <tr>\n",
       "      <th>1</th>\n",
       "      <td>median</td>\n",
       "      <td>0.029560</td>\n",
       "    </tr>\n",
       "  </tbody>\n",
       "</table>\n",
       "</div>"
      ],
      "text/plain": [
       "  statistics     value\n",
       "0       mean  0.021083\n",
       "1     median  0.029560"
      ]
     },
     "execution_count": 189,
     "metadata": {},
     "output_type": "execute_result"
    }
   ],
   "source": [
    "df = pd.DataFrame({'statistics': ['mean', 'median' ] ,\n",
    "                   'value' : [ X2_df['X2'].mean(), X2_df['X2'].median()] \n",
    "                   })\n",
    "\n",
    "df"
   ]
  },
  {
   "cell_type": "code",
   "execution_count": 190,
   "metadata": {},
   "outputs": [
    {
     "data": {
      "image/png": "[encoded data removed]",
      "text/plain": [
       "<Figure size 640x480 with 1 Axes>"
      ]
     },
     "metadata": {},
     "output_type": "display_data"
    },
    {
     "data": {
      "text/plain": [
       "<ggplot: (79743217327)>"
      ]
     },
     "execution_count": 190,
     "metadata": {},
     "output_type": "execute_result"
    }
   ],
   "source": [
    "(\n",
    "ggplot( data=X2_df )\n",
    "+ aes(x='X2' , y =  after_stat('width*density'))\n",
    "+ geom_histogram( fill=\"orange\", color=\"black\")\n",
    "+  labs(x = \"X2\", y = \"Frecuencia Relativa\")\n",
    "+ scale_x_continuous( breaks = np.arange(0, 15, 2) ) \n",
    "+ scale_y_continuous( breaks = np.arange(0, 0.13, 0.02) )\n",
    "\n",
    "+  geom_vline( df, aes(xintercept='value', color='statistics'), show_legend=True , linetype='dotted',size=[2,2])\n",
    "+  scale_color_manual(\n",
    "     name = \"Statistics\",\n",
    "     values = [  \"red\",  \"green\"]\n",
    "     )\n",
    ")"
   ]
  },
  {
   "cell_type": "markdown",
   "metadata": {},
   "source": []
  },
  {
   "cell_type": "code",
   "execution_count": 191,
   "metadata": {},
   "outputs": [
    {
     "data": {
      "text/plain": [
       "-0.8596198677550896"
      ]
     },
     "execution_count": 191,
     "metadata": {},
     "output_type": "execute_result"
    }
   ],
   "source": [
    "np.random.seed(123)\n",
    "\n",
    "X3 = np.random.beta(9, 2, size=5000)\n",
    "\n",
    "scipy.stats.skew(X3)"
   ]
  },
  {
   "cell_type": "code",
   "execution_count": 229,
   "metadata": {},
   "outputs": [
    {
     "data": {
      "text/html": [
       "<div>\n",
       "<style scoped>\n",
       "    .dataframe tbody tr th:only-of-type {\n",
       "        vertical-align: middle;\n",
       "    }\n",
       "\n",
       "    .dataframe tbody tr th {\n",
       "        vertical-align: top;\n",
       "    }\n",
       "\n",
       "    .dataframe thead th {\n",
       "        text-align: right;\n",
       "    }\n",
       "</style>\n",
       "<table border=\"1\" class=\"dataframe\">\n",
       "  <thead>\n",
       "    <tr style=\"text-align: right;\">\n",
       "      <th></th>\n",
       "      <th>X3</th>\n",
       "    </tr>\n",
       "  </thead>\n",
       "  <tbody>\n",
       "    <tr>\n",
       "      <th>0</th>\n",
       "      <td>0.638248</td>\n",
       "    </tr>\n",
       "    <tr>\n",
       "      <th>1</th>\n",
       "      <td>0.593855</td>\n",
       "    </tr>\n",
       "    <tr>\n",
       "      <th>2</th>\n",
       "      <td>0.738268</td>\n",
       "    </tr>\n",
       "    <tr>\n",
       "      <th>3</th>\n",
       "      <td>0.815022</td>\n",
       "    </tr>\n",
       "    <tr>\n",
       "      <th>4</th>\n",
       "      <td>0.864218</td>\n",
       "    </tr>\n",
       "  </tbody>\n",
       "</table>\n",
       "</div>"
      ],
      "text/plain": [
       "         X3\n",
       "0  0.638248\n",
       "1  0.593855\n",
       "2  0.738268\n",
       "3  0.815022\n",
       "4  0.864218"
      ]
     },
     "execution_count": 229,
     "metadata": {},
     "output_type": "execute_result"
    }
   ],
   "source": [
    "X3_df = pd.DataFrame({'X3': X3})\n",
    "X3_df.head()"
   ]
  },
  {
   "cell_type": "code",
   "execution_count": 193,
   "metadata": {},
   "outputs": [
    {
     "data": {
      "text/html": [
       "<div>\n",
       "<style scoped>\n",
       "    .dataframe tbody tr th:only-of-type {\n",
       "        vertical-align: middle;\n",
       "    }\n",
       "\n",
       "    .dataframe tbody tr th {\n",
       "        vertical-align: top;\n",
       "    }\n",
       "\n",
       "    .dataframe thead th {\n",
       "        text-align: right;\n",
       "    }\n",
       "</style>\n",
       "<table border=\"1\" class=\"dataframe\">\n",
       "  <thead>\n",
       "    <tr style=\"text-align: right;\">\n",
       "      <th></th>\n",
       "      <th>statistics</th>\n",
       "      <th>value</th>\n",
       "    </tr>\n",
       "  </thead>\n",
       "  <tbody>\n",
       "    <tr>\n",
       "      <th>0</th>\n",
       "      <td>mean</td>\n",
       "      <td>0.818823</td>\n",
       "    </tr>\n",
       "    <tr>\n",
       "      <th>1</th>\n",
       "      <td>median</td>\n",
       "      <td>0.836811</td>\n",
       "    </tr>\n",
       "  </tbody>\n",
       "</table>\n",
       "</div>"
      ],
      "text/plain": [
       "  statistics     value\n",
       "0       mean  0.818823\n",
       "1     median  0.836811"
      ]
     },
     "execution_count": 193,
     "metadata": {},
     "output_type": "execute_result"
    }
   ],
   "source": [
    "df = pd.DataFrame({'statistics': ['mean', 'median' ] ,\n",
    "                   'value' : [ X3_df['X3'].mean(), X3_df['X3'].median()] \n",
    "                   })\n",
    "\n",
    "df"
   ]
  },
  {
   "cell_type": "code",
   "execution_count": 195,
   "metadata": {},
   "outputs": [
    {
     "data": {
      "image/png": "[encoded data removed]",
      "text/plain": [
       "<Figure size 640x480 with 1 Axes>"
      ]
     },
     "metadata": {},
     "output_type": "display_data"
    },
    {
     "data": {
      "text/plain": [
       "<ggplot: (79743386862)>"
      ]
     },
     "execution_count": 195,
     "metadata": {},
     "output_type": "execute_result"
    }
   ],
   "source": [
    "(\n",
    "ggplot( data=X3_df )\n",
    "+ aes(x='X3' , y =  after_stat('width*density'))\n",
    "+ geom_histogram( fill=\"orange\", color=\"black\")\n",
    "+  labs(x = \"X3\", y = \"Frecuencia Relativa\")\n",
    "+ scale_x_continuous( breaks = np.arange(0, 15, 2) ) \n",
    "+ scale_y_continuous( breaks = np.arange(0, 0.13, 0.02) )\n",
    "\n",
    "+  geom_vline( df, aes(xintercept='value', color='statistics'), show_legend=True , linetype='dotted',size=[2,2])\n",
    "+  scale_color_manual(\n",
    "     name = \"Statistics\",\n",
    "     values = [  \"red\",  \"green\"]\n",
    "     )\n",
    ")"
   ]
  },
  {
   "cell_type": "markdown",
   "metadata": {},
   "source": []
  },
  {
   "cell_type": "code",
   "execution_count": 232,
   "metadata": {},
   "outputs": [],
   "source": [
    "X1_df = X1_df >> rename(X=X.X1)\n",
    "X2_df = X2_df >> rename(X=X.X2)\n",
    "X3_df = X3_df >> rename(X=X.X3)"
   ]
  },
  {
   "cell_type": "code",
   "execution_count": 233,
   "metadata": {},
   "outputs": [
    {
     "data": {
      "text/html": [
       "<div>\n",
       "<style scoped>\n",
       "    .dataframe tbody tr th:only-of-type {\n",
       "        vertical-align: middle;\n",
       "    }\n",
       "\n",
       "    .dataframe tbody tr th {\n",
       "        vertical-align: top;\n",
       "    }\n",
       "\n",
       "    .dataframe thead th {\n",
       "        text-align: right;\n",
       "    }\n",
       "</style>\n",
       "<table border=\"1\" class=\"dataframe\">\n",
       "  <thead>\n",
       "    <tr style=\"text-align: right;\">\n",
       "      <th></th>\n",
       "      <th>X</th>\n",
       "    </tr>\n",
       "  </thead>\n",
       "  <tbody>\n",
       "    <tr>\n",
       "      <th>0</th>\n",
       "      <td>2.384544</td>\n",
       "    </tr>\n",
       "    <tr>\n",
       "      <th>1</th>\n",
       "      <td>0.674135</td>\n",
       "    </tr>\n",
       "    <tr>\n",
       "      <th>2</th>\n",
       "      <td>0.514568</td>\n",
       "    </tr>\n",
       "    <tr>\n",
       "      <th>3</th>\n",
       "      <td>1.602867</td>\n",
       "    </tr>\n",
       "    <tr>\n",
       "      <th>4</th>\n",
       "      <td>2.542142</td>\n",
       "    </tr>\n",
       "    <tr>\n",
       "      <th>...</th>\n",
       "      <td>...</td>\n",
       "    </tr>\n",
       "    <tr>\n",
       "      <th>4995</th>\n",
       "      <td>0.938913</td>\n",
       "    </tr>\n",
       "    <tr>\n",
       "      <th>4996</th>\n",
       "      <td>0.750584</td>\n",
       "    </tr>\n",
       "    <tr>\n",
       "      <th>4997</th>\n",
       "      <td>0.946754</td>\n",
       "    </tr>\n",
       "    <tr>\n",
       "      <th>4998</th>\n",
       "      <td>0.899207</td>\n",
       "    </tr>\n",
       "    <tr>\n",
       "      <th>4999</th>\n",
       "      <td>0.928303</td>\n",
       "    </tr>\n",
       "  </tbody>\n",
       "</table>\n",
       "<p>15000 rows × 1 columns</p>\n",
       "</div>"
      ],
      "text/plain": [
       "             X\n",
       "0     2.384544\n",
       "1     0.674135\n",
       "2     0.514568\n",
       "3     1.602867\n",
       "4     2.542142\n",
       "...        ...\n",
       "4995  0.938913\n",
       "4996  0.750584\n",
       "4997  0.946754\n",
       "4998  0.899207\n",
       "4999  0.928303\n",
       "\n",
       "[15000 rows x 1 columns]"
      ]
     },
     "execution_count": 233,
     "metadata": {},
     "output_type": "execute_result"
    }
   ],
   "source": [
    "df_X1_X2_X3 = concat([X1_df, X2_df, X3_df])\n",
    "df_X1_X2_X3"
   ]
  },
  {
   "cell_type": "code",
   "execution_count": 199,
   "metadata": {},
   "outputs": [],
   "source": [
    "import array as arr"
   ]
  },
  {
   "cell_type": "code",
   "execution_count": 235,
   "metadata": {},
   "outputs": [],
   "source": [
    "repeat_one = pd.DataFrame( arr.array('i',(1 for i in range(0,len(X1_df)))) )"
   ]
  },
  {
   "cell_type": "code",
   "execution_count": 236,
   "metadata": {},
   "outputs": [],
   "source": [
    "repeat_two = pd.DataFrame( arr.array('i',(2 for i in range(0,len(X2_df)))) )"
   ]
  },
  {
   "cell_type": "code",
   "execution_count": 237,
   "metadata": {},
   "outputs": [],
   "source": [
    "repeat_three = pd.DataFrame( arr.array('i',(3 for i in range(0,len(X3_df)))) )"
   ]
  },
  {
   "cell_type": "code",
   "execution_count": 238,
   "metadata": {},
   "outputs": [],
   "source": [
    "repeat_df = concat([repeat_one, repeat_two, repeat_three])"
   ]
  },
  {
   "cell_type": "code",
   "execution_count": 244,
   "metadata": {},
   "outputs": [
    {
     "ename": "KeyError",
     "evalue": "0",
     "output_type": "error",
     "traceback": [
      "\u001b[1;31m---------------------------------------------------------------------------\u001b[0m",
      "\u001b[1;31mKeyError\u001b[0m                                  Traceback (most recent call last)",
      "File \u001b[1;32mc:\\Users\\Usuario\\AppData\\Local\\R-MINI~1\\lib\\site-packages\\pandas\\core\\indexes\\base.py:3621\u001b[0m, in \u001b[0;36mIndex.get_loc\u001b[1;34m(self, key, method, tolerance)\u001b[0m\n\u001b[0;32m   3620\u001b[0m \u001b[39mtry\u001b[39;00m:\n\u001b[1;32m-> 3621\u001b[0m     \u001b[39mreturn\u001b[39;00m \u001b[39mself\u001b[39;49m\u001b[39m.\u001b[39;49m_engine\u001b[39m.\u001b[39;49mget_loc(casted_key)\n\u001b[0;32m   3622\u001b[0m \u001b[39mexcept\u001b[39;00m \u001b[39mKeyError\u001b[39;00m \u001b[39mas\u001b[39;00m err:\n",
      "File \u001b[1;32mc:\\Users\\Usuario\\AppData\\Local\\R-MINI~1\\lib\\site-packages\\pandas\\_libs\\index.pyx:136\u001b[0m, in \u001b[0;36mpandas._libs.index.IndexEngine.get_loc\u001b[1;34m()\u001b[0m\n",
      "File \u001b[1;32mc:\\Users\\Usuario\\AppData\\Local\\R-MINI~1\\lib\\site-packages\\pandas\\_libs\\index.pyx:163\u001b[0m, in \u001b[0;36mpandas._libs.index.IndexEngine.get_loc\u001b[1;34m()\u001b[0m\n",
      "File \u001b[1;32mpandas\\_libs\\hashtable_class_helper.pxi:5198\u001b[0m, in \u001b[0;36mpandas._libs.hashtable.PyObjectHashTable.get_item\u001b[1;34m()\u001b[0m\n",
      "File \u001b[1;32mpandas\\_libs\\hashtable_class_helper.pxi:5206\u001b[0m, in \u001b[0;36mpandas._libs.hashtable.PyObjectHashTable.get_item\u001b[1;34m()\u001b[0m\n",
      "\u001b[1;31mKeyError\u001b[0m: 0",
      "\nThe above exception was the direct cause of the following exception:\n",
      "\u001b[1;31mKeyError\u001b[0m                                  Traceback (most recent call last)",
      "\u001b[1;32mFabioScielzoOrtiz\\Estadistica4all-blog\\Descriptive Statisitcs in Python and R\\Descriptive Statistics with Python and R.ipynb Celda 436\u001b[0m in \u001b[0;36m<cell line: 1>\u001b[1;34m()\u001b[0m\n\u001b[1;32m----> <a href='vscode-notebook-cell://github/FabioScielzoOrtiz/Estadistica4all-blog/Descriptive%20Statisitcs%20in%20Python%20and%20R/Descriptive%20Statistics%20with%20Python%20and%20R.ipynb#ch0000449vscode-vfs?line=0'>1</a>\u001b[0m repeat_df \u001b[39m=\u001b[39m repeat_df \u001b[39m>>\u001b[39;49m rename(group \u001b[39m=\u001b[39;49m X[\u001b[39m0\u001b[39;49m])\n\u001b[0;32m      <a href='vscode-notebook-cell://github/FabioScielzoOrtiz/Estadistica4all-blog/Descriptive%20Statisitcs%20in%20Python%20and%20R/Descriptive%20Statistics%20with%20Python%20and%20R.ipynb#ch0000449vscode-vfs?line=1'>2</a>\u001b[0m repeat_df\n",
      "File \u001b[1;32mc:\\Users\\Usuario\\AppData\\Local\\R-MINI~1\\lib\\site-packages\\dfply\\base.py:142\u001b[0m, in \u001b[0;36mpipe.__rrshift__\u001b[1;34m(self, other)\u001b[0m\n\u001b[0;32m    139\u001b[0m     warnings\u001b[39m.\u001b[39msimplefilter(\u001b[39m\"\u001b[39m\u001b[39mignore\u001b[39m\u001b[39m\"\u001b[39m)\n\u001b[0;32m    140\u001b[0m     other_copy\u001b[39m.\u001b[39m_grouped_by \u001b[39m=\u001b[39m \u001b[39mgetattr\u001b[39m(other, \u001b[39m'\u001b[39m\u001b[39m_grouped_by\u001b[39m\u001b[39m'\u001b[39m, \u001b[39mNone\u001b[39;00m)\n\u001b[1;32m--> 142\u001b[0m result \u001b[39m=\u001b[39m \u001b[39mself\u001b[39;49m\u001b[39m.\u001b[39;49mfunction(other_copy)\n\u001b[0;32m    144\u001b[0m \u001b[39mfor\u001b[39;00m p \u001b[39min\u001b[39;00m \u001b[39mself\u001b[39m\u001b[39m.\u001b[39mchained_pipes:\n\u001b[0;32m    145\u001b[0m     result \u001b[39m=\u001b[39m p\u001b[39m.\u001b[39m\u001b[39m__rrshift__\u001b[39m(result)\n",
      "File \u001b[1;32mc:\\Users\\Usuario\\AppData\\Local\\R-MINI~1\\lib\\site-packages\\dfply\\base.py:149\u001b[0m, in \u001b[0;36mpipe.__call__.<locals>.<lambda>\u001b[1;34m(x)\u001b[0m\n\u001b[0;32m    148\u001b[0m \u001b[39mdef\u001b[39;00m \u001b[39m__call__\u001b[39m(\u001b[39mself\u001b[39m, \u001b[39m*\u001b[39margs, \u001b[39m*\u001b[39m\u001b[39m*\u001b[39mkwargs):\n\u001b[1;32m--> 149\u001b[0m     \u001b[39mreturn\u001b[39;00m pipe(\u001b[39mlambda\u001b[39;00m x: \u001b[39mself\u001b[39m\u001b[39m.\u001b[39mfunction(x, \u001b[39m*\u001b[39margs, \u001b[39m*\u001b[39m\u001b[39m*\u001b[39mkwargs))\n",
      "File \u001b[1;32mc:\\Users\\Usuario\\AppData\\Local\\R-MINI~1\\lib\\site-packages\\dfply\\base.py:280\u001b[0m, in \u001b[0;36mIntentionEvaluator.__call__\u001b[1;34m(self, *args, **kwargs)\u001b[0m\n\u001b[0;32m    277\u001b[0m df \u001b[39m=\u001b[39m args[\u001b[39m0\u001b[39m]\n\u001b[0;32m    279\u001b[0m args \u001b[39m=\u001b[39m \u001b[39mself\u001b[39m\u001b[39m.\u001b[39m_recursive_arg_eval(df, args[\u001b[39m1\u001b[39m:])\n\u001b[1;32m--> 280\u001b[0m kwargs \u001b[39m=\u001b[39m \u001b[39mself\u001b[39;49m\u001b[39m.\u001b[39;49m_recursive_kwarg_eval(df, kwargs)\n\u001b[0;32m    282\u001b[0m \u001b[39mreturn\u001b[39;00m \u001b[39mself\u001b[39m\u001b[39m.\u001b[39mfunction(df, \u001b[39m*\u001b[39margs, \u001b[39m*\u001b[39m\u001b[39m*\u001b[39mkwargs)\n",
      "File \u001b[1;32mc:\\Users\\Usuario\\AppData\\Local\\R-MINI~1\\lib\\site-packages\\dfply\\base.py:254\u001b[0m, in \u001b[0;36mIntentionEvaluator._recursive_kwarg_eval\u001b[1;34m(self, df, kwargs)\u001b[0m\n\u001b[0;32m    251\u001b[0m eval_as_label \u001b[39m=\u001b[39m \u001b[39mself\u001b[39m\u001b[39m.\u001b[39m_find_eval_kwargs(\u001b[39mself\u001b[39m\u001b[39m.\u001b[39meval_as_label, kwargs)\n\u001b[0;32m    252\u001b[0m eval_as_selector \u001b[39m=\u001b[39m \u001b[39mself\u001b[39m\u001b[39m.\u001b[39m_find_eval_kwargs(\u001b[39mself\u001b[39m\u001b[39m.\u001b[39meval_as_selector, kwargs)\n\u001b[1;32m--> 254\u001b[0m \u001b[39mreturn\u001b[39;00m {\n\u001b[0;32m    255\u001b[0m     k: (\u001b[39mself\u001b[39m\u001b[39m.\u001b[39m_symbolic_to_label(df, v) \u001b[39mif\u001b[39;00m k \u001b[39min\u001b[39;00m eval_as_label\n\u001b[0;32m    256\u001b[0m         \u001b[39melse\u001b[39;00m \u001b[39mself\u001b[39m\u001b[39m.\u001b[39m_symbolic_to_selector(df, v) \u001b[39mif\u001b[39;00m k \u001b[39min\u001b[39;00m eval_as_selector\n\u001b[0;32m    257\u001b[0m     \u001b[39melse\u001b[39;00m \u001b[39mself\u001b[39m\u001b[39m.\u001b[39m_symbolic_eval(df, v) \u001b[39mif\u001b[39;00m k \u001b[39min\u001b[39;00m eval_symbols\n\u001b[0;32m    258\u001b[0m     \u001b[39melse\u001b[39;00m v)\n\u001b[0;32m    259\u001b[0m     \u001b[39mfor\u001b[39;00m k, v \u001b[39min\u001b[39;00m kwargs\u001b[39m.\u001b[39mitems()\n\u001b[0;32m    260\u001b[0m }\n",
      "File \u001b[1;32mc:\\Users\\Usuario\\AppData\\Local\\R-MINI~1\\lib\\site-packages\\dfply\\base.py:255\u001b[0m, in \u001b[0;36m<dictcomp>\u001b[1;34m(.0)\u001b[0m\n\u001b[0;32m    251\u001b[0m eval_as_label \u001b[39m=\u001b[39m \u001b[39mself\u001b[39m\u001b[39m.\u001b[39m_find_eval_kwargs(\u001b[39mself\u001b[39m\u001b[39m.\u001b[39meval_as_label, kwargs)\n\u001b[0;32m    252\u001b[0m eval_as_selector \u001b[39m=\u001b[39m \u001b[39mself\u001b[39m\u001b[39m.\u001b[39m_find_eval_kwargs(\u001b[39mself\u001b[39m\u001b[39m.\u001b[39meval_as_selector, kwargs)\n\u001b[0;32m    254\u001b[0m \u001b[39mreturn\u001b[39;00m {\n\u001b[1;32m--> 255\u001b[0m     k: (\u001b[39mself\u001b[39;49m\u001b[39m.\u001b[39;49m_symbolic_to_label(df, v) \u001b[39mif\u001b[39;00m k \u001b[39min\u001b[39;00m eval_as_label\n\u001b[0;32m    256\u001b[0m         \u001b[39melse\u001b[39;00m \u001b[39mself\u001b[39m\u001b[39m.\u001b[39m_symbolic_to_selector(df, v) \u001b[39mif\u001b[39;00m k \u001b[39min\u001b[39;00m eval_as_selector\n\u001b[0;32m    257\u001b[0m     \u001b[39melse\u001b[39;00m \u001b[39mself\u001b[39m\u001b[39m.\u001b[39m_symbolic_eval(df, v) \u001b[39mif\u001b[39;00m k \u001b[39min\u001b[39;00m eval_symbols\n\u001b[0;32m    258\u001b[0m     \u001b[39melse\u001b[39;00m v)\n\u001b[0;32m    259\u001b[0m     \u001b[39mfor\u001b[39;00m k, v \u001b[39min\u001b[39;00m kwargs\u001b[39m.\u001b[39mitems()\n\u001b[0;32m    260\u001b[0m }\n",
      "File \u001b[1;32mc:\\Users\\Usuario\\AppData\\Local\\R-MINI~1\\lib\\site-packages\\dfply\\base.py:231\u001b[0m, in \u001b[0;36mIntentionEvaluator._symbolic_to_label\u001b[1;34m(self, df, arg)\u001b[0m\n\u001b[0;32m    230\u001b[0m \u001b[39mdef\u001b[39;00m \u001b[39m_symbolic_to_label\u001b[39m(\u001b[39mself\u001b[39m, df, arg):\n\u001b[1;32m--> 231\u001b[0m     \u001b[39mreturn\u001b[39;00m \u001b[39mself\u001b[39;49m\u001b[39m.\u001b[39;49m_evaluator_loop(df, arg, \u001b[39mself\u001b[39;49m\u001b[39m.\u001b[39;49m_evaluate_label)\n",
      "File \u001b[1;32mc:\\Users\\Usuario\\AppData\\Local\\R-MINI~1\\lib\\site-packages\\dfply\\base.py:225\u001b[0m, in \u001b[0;36mIntentionEvaluator._evaluator_loop\u001b[1;34m(self, df, arg, eval_func)\u001b[0m\n\u001b[0;32m    223\u001b[0m     \u001b[39mreturn\u001b[39;00m [\u001b[39mself\u001b[39m\u001b[39m.\u001b[39m_evaluator_loop(df, a_, eval_func) \u001b[39mfor\u001b[39;00m a_ \u001b[39min\u001b[39;00m arg]\n\u001b[0;32m    224\u001b[0m \u001b[39melse\u001b[39;00m:\n\u001b[1;32m--> 225\u001b[0m     \u001b[39mreturn\u001b[39;00m eval_func(df, arg)\n",
      "File \u001b[1;32mc:\\Users\\Usuario\\AppData\\Local\\R-MINI~1\\lib\\site-packages\\dfply\\base.py:181\u001b[0m, in \u001b[0;36mIntentionEvaluator._evaluate_label\u001b[1;34m(self, df, arg)\u001b[0m\n\u001b[0;32m    180\u001b[0m \u001b[39mdef\u001b[39;00m \u001b[39m_evaluate_label\u001b[39m(\u001b[39mself\u001b[39m, df, arg):\n\u001b[1;32m--> 181\u001b[0m     arg \u001b[39m=\u001b[39m \u001b[39mself\u001b[39;49m\u001b[39m.\u001b[39;49m_evaluate(df, arg)\n\u001b[0;32m    183\u001b[0m     cols \u001b[39m=\u001b[39m \u001b[39mlist\u001b[39m(df\u001b[39m.\u001b[39mcolumns)\n\u001b[0;32m    184\u001b[0m     \u001b[39mif\u001b[39;00m \u001b[39misinstance\u001b[39m(arg, pd\u001b[39m.\u001b[39mSeries):\n",
      "File \u001b[1;32mc:\\Users\\Usuario\\AppData\\Local\\R-MINI~1\\lib\\site-packages\\dfply\\base.py:175\u001b[0m, in \u001b[0;36mIntentionEvaluator._evaluate\u001b[1;34m(self, df, arg)\u001b[0m\n\u001b[0;32m    173\u001b[0m \u001b[39mif\u001b[39;00m \u001b[39misinstance\u001b[39m(arg, Intention):\n\u001b[0;32m    174\u001b[0m     negate \u001b[39m=\u001b[39m arg\u001b[39m.\u001b[39minverted\n\u001b[1;32m--> 175\u001b[0m     arg \u001b[39m=\u001b[39m arg\u001b[39m.\u001b[39;49mevaluate(df)\n\u001b[0;32m    176\u001b[0m     \u001b[39mif\u001b[39;00m negate:\n\u001b[0;32m    177\u001b[0m         arg \u001b[39m=\u001b[39m \u001b[39m~\u001b[39marg\n",
      "File \u001b[1;32mc:\\Users\\Usuario\\AppData\\Local\\R-MINI~1\\lib\\site-packages\\dfply\\base.py:71\u001b[0m, in \u001b[0;36mIntention.evaluate\u001b[1;34m(self, context)\u001b[0m\n\u001b[0;32m     70\u001b[0m \u001b[39mdef\u001b[39;00m \u001b[39mevaluate\u001b[39m(\u001b[39mself\u001b[39m, context):\n\u001b[1;32m---> 71\u001b[0m     \u001b[39mreturn\u001b[39;00m \u001b[39mself\u001b[39;49m\u001b[39m.\u001b[39;49mfunction(context)\n",
      "File \u001b[1;32mc:\\Users\\Usuario\\AppData\\Local\\R-MINI~1\\lib\\site-packages\\dfply\\base.py:107\u001b[0m, in \u001b[0;36m_set_magic_method.<locals>.magic_method.<locals>.<lambda>\u001b[1;34m(x)\u001b[0m\n\u001b[0;32m    106\u001b[0m \u001b[39mdef\u001b[39;00m \u001b[39mmagic_method\u001b[39m(\u001b[39mself\u001b[39m, \u001b[39m*\u001b[39margs, \u001b[39m*\u001b[39m\u001b[39m*\u001b[39mkwargs):\n\u001b[1;32m--> 107\u001b[0m     \u001b[39mreturn\u001b[39;00m Intention(\u001b[39mlambda\u001b[39;00m x: \u001b[39mgetattr\u001b[39m(\u001b[39mself\u001b[39m\u001b[39m.\u001b[39mfunction(x), name)(\u001b[39m*\u001b[39m_context_args(args)(x),\n\u001b[0;32m    108\u001b[0m                                                                \u001b[39m*\u001b[39m\u001b[39m*\u001b[39m_context_kwargs(kwargs)(x)),\n\u001b[0;32m    109\u001b[0m                      invert\u001b[39m=\u001b[39m\u001b[39mself\u001b[39m\u001b[39m.\u001b[39minverted)\n",
      "File \u001b[1;32mc:\\Users\\Usuario\\AppData\\Local\\R-MINI~1\\lib\\site-packages\\pandas\\core\\frame.py:3505\u001b[0m, in \u001b[0;36mDataFrame.__getitem__\u001b[1;34m(self, key)\u001b[0m\n\u001b[0;32m   3503\u001b[0m \u001b[39mif\u001b[39;00m \u001b[39mself\u001b[39m\u001b[39m.\u001b[39mcolumns\u001b[39m.\u001b[39mnlevels \u001b[39m>\u001b[39m \u001b[39m1\u001b[39m:\n\u001b[0;32m   3504\u001b[0m     \u001b[39mreturn\u001b[39;00m \u001b[39mself\u001b[39m\u001b[39m.\u001b[39m_getitem_multilevel(key)\n\u001b[1;32m-> 3505\u001b[0m indexer \u001b[39m=\u001b[39m \u001b[39mself\u001b[39;49m\u001b[39m.\u001b[39;49mcolumns\u001b[39m.\u001b[39;49mget_loc(key)\n\u001b[0;32m   3506\u001b[0m \u001b[39mif\u001b[39;00m is_integer(indexer):\n\u001b[0;32m   3507\u001b[0m     indexer \u001b[39m=\u001b[39m [indexer]\n",
      "File \u001b[1;32mc:\\Users\\Usuario\\AppData\\Local\\R-MINI~1\\lib\\site-packages\\pandas\\core\\indexes\\base.py:3623\u001b[0m, in \u001b[0;36mIndex.get_loc\u001b[1;34m(self, key, method, tolerance)\u001b[0m\n\u001b[0;32m   3621\u001b[0m     \u001b[39mreturn\u001b[39;00m \u001b[39mself\u001b[39m\u001b[39m.\u001b[39m_engine\u001b[39m.\u001b[39mget_loc(casted_key)\n\u001b[0;32m   3622\u001b[0m \u001b[39mexcept\u001b[39;00m \u001b[39mKeyError\u001b[39;00m \u001b[39mas\u001b[39;00m err:\n\u001b[1;32m-> 3623\u001b[0m     \u001b[39mraise\u001b[39;00m \u001b[39mKeyError\u001b[39;00m(key) \u001b[39mfrom\u001b[39;00m \u001b[39merr\u001b[39;00m\n\u001b[0;32m   3624\u001b[0m \u001b[39mexcept\u001b[39;00m \u001b[39mTypeError\u001b[39;00m:\n\u001b[0;32m   3625\u001b[0m     \u001b[39m# If we have a listlike key, _check_indexing_error will raise\u001b[39;00m\n\u001b[0;32m   3626\u001b[0m     \u001b[39m#  InvalidIndexError. Otherwise we fall through and re-raise\u001b[39;00m\n\u001b[0;32m   3627\u001b[0m     \u001b[39m#  the TypeError.\u001b[39;00m\n\u001b[0;32m   3628\u001b[0m     \u001b[39mself\u001b[39m\u001b[39m.\u001b[39m_check_indexing_error(key)\n",
      "\u001b[1;31mKeyError\u001b[0m: 0"
     ]
    }
   ],
   "source": [
    "repeat_df = repeat_df >> rename(group = X[0])"
   ]
  },
  {
   "cell_type": "code",
   "execution_count": 245,
   "metadata": {},
   "outputs": [
    {
     "data": {
      "text/html": [
       "<div>\n",
       "<style scoped>\n",
       "    .dataframe tbody tr th:only-of-type {\n",
       "        vertical-align: middle;\n",
       "    }\n",
       "\n",
       "    .dataframe tbody tr th {\n",
       "        vertical-align: top;\n",
       "    }\n",
       "\n",
       "    .dataframe thead th {\n",
       "        text-align: right;\n",
       "    }\n",
       "</style>\n",
       "<table border=\"1\" class=\"dataframe\">\n",
       "  <thead>\n",
       "    <tr style=\"text-align: right;\">\n",
       "      <th></th>\n",
       "      <th>group</th>\n",
       "    </tr>\n",
       "  </thead>\n",
       "  <tbody>\n",
       "    <tr>\n",
       "      <th>0</th>\n",
       "      <td>1</td>\n",
       "    </tr>\n",
       "    <tr>\n",
       "      <th>1</th>\n",
       "      <td>1</td>\n",
       "    </tr>\n",
       "    <tr>\n",
       "      <th>2</th>\n",
       "      <td>1</td>\n",
       "    </tr>\n",
       "    <tr>\n",
       "      <th>3</th>\n",
       "      <td>1</td>\n",
       "    </tr>\n",
       "    <tr>\n",
       "      <th>4</th>\n",
       "      <td>1</td>\n",
       "    </tr>\n",
       "    <tr>\n",
       "      <th>...</th>\n",
       "      <td>...</td>\n",
       "    </tr>\n",
       "    <tr>\n",
       "      <th>4995</th>\n",
       "      <td>3</td>\n",
       "    </tr>\n",
       "    <tr>\n",
       "      <th>4996</th>\n",
       "      <td>3</td>\n",
       "    </tr>\n",
       "    <tr>\n",
       "      <th>4997</th>\n",
       "      <td>3</td>\n",
       "    </tr>\n",
       "    <tr>\n",
       "      <th>4998</th>\n",
       "      <td>3</td>\n",
       "    </tr>\n",
       "    <tr>\n",
       "      <th>4999</th>\n",
       "      <td>3</td>\n",
       "    </tr>\n",
       "  </tbody>\n",
       "</table>\n",
       "<p>15000 rows × 1 columns</p>\n",
       "</div>"
      ],
      "text/plain": [
       "      group\n",
       "0         1\n",
       "1         1\n",
       "2         1\n",
       "3         1\n",
       "4         1\n",
       "...     ...\n",
       "4995      3\n",
       "4996      3\n",
       "4997      3\n",
       "4998      3\n",
       "4999      3\n",
       "\n",
       "[15000 rows x 1 columns]"
      ]
     },
     "execution_count": 245,
     "metadata": {},
     "output_type": "execute_result"
    }
   ],
   "source": [
    "repeat_df"
   ]
  },
  {
   "cell_type": "code",
   "execution_count": 270,
   "metadata": {},
   "outputs": [
    {
     "ename": "TypeError",
     "evalue": "int() argument must be a string, a bytes-like object or a number, not 'DataFrame'",
     "output_type": "error",
     "traceback": [
      "\u001b[1;31m---------------------------------------------------------------------------\u001b[0m",
      "\u001b[1;31mTypeError\u001b[0m                                 Traceback (most recent call last)",
      "\u001b[1;32mFabioScielzoOrtiz\\Estadistica4all-blog\\Descriptive Statisitcs in Python and R\\Descriptive Statistics with Python and R.ipynb Celda 438\u001b[0m in \u001b[0;36m<cell line: 1>\u001b[1;34m()\u001b[0m\n\u001b[1;32m----> <a href='vscode-notebook-cell://github/FabioScielzoOrtiz/Estadistica4all-blog/Descriptive%20Statisitcs%20in%20Python%20and%20R/Descriptive%20Statistics%20with%20Python%20and%20R.ipynb#ch0000448vscode-vfs?line=0'>1</a>\u001b[0m df_final \u001b[39m=\u001b[39m concat([df_X1_X2_X3 , \u001b[39mint\u001b[39;49m(repeat_df)], axis\u001b[39m=\u001b[39m\u001b[39m1\u001b[39m)\n",
      "\u001b[1;31mTypeError\u001b[0m: int() argument must be a string, a bytes-like object or a number, not 'DataFrame'"
     ]
    }
   ],
   "source": [
    "df_final = concat([df_X1_X2_X3 , repeat_df], axis=1)"
   ]
  },
  {
   "cell_type": "code",
   "execution_count": 271,
   "metadata": {},
   "outputs": [
    {
     "data": {
      "text/html": [
       "<div>\n",
       "<style scoped>\n",
       "    .dataframe tbody tr th:only-of-type {\n",
       "        vertical-align: middle;\n",
       "    }\n",
       "\n",
       "    .dataframe tbody tr th {\n",
       "        vertical-align: top;\n",
       "    }\n",
       "\n",
       "    .dataframe thead th {\n",
       "        text-align: right;\n",
       "    }\n",
       "</style>\n",
       "<table border=\"1\" class=\"dataframe\">\n",
       "  <thead>\n",
       "    <tr style=\"text-align: right;\">\n",
       "      <th></th>\n",
       "      <th>X</th>\n",
       "      <th>group</th>\n",
       "    </tr>\n",
       "  </thead>\n",
       "  <tbody>\n",
       "    <tr>\n",
       "      <th>0</th>\n",
       "      <td>2.384544</td>\n",
       "      <td>1</td>\n",
       "    </tr>\n",
       "    <tr>\n",
       "      <th>1</th>\n",
       "      <td>0.674135</td>\n",
       "      <td>1</td>\n",
       "    </tr>\n",
       "    <tr>\n",
       "      <th>2</th>\n",
       "      <td>0.514568</td>\n",
       "      <td>1</td>\n",
       "    </tr>\n",
       "    <tr>\n",
       "      <th>3</th>\n",
       "      <td>1.602867</td>\n",
       "      <td>1</td>\n",
       "    </tr>\n",
       "    <tr>\n",
       "      <th>4</th>\n",
       "      <td>2.542142</td>\n",
       "      <td>1</td>\n",
       "    </tr>\n",
       "    <tr>\n",
       "      <th>...</th>\n",
       "      <td>...</td>\n",
       "      <td>...</td>\n",
       "    </tr>\n",
       "    <tr>\n",
       "      <th>4995</th>\n",
       "      <td>0.938913</td>\n",
       "      <td>3</td>\n",
       "    </tr>\n",
       "    <tr>\n",
       "      <th>4996</th>\n",
       "      <td>0.750584</td>\n",
       "      <td>3</td>\n",
       "    </tr>\n",
       "    <tr>\n",
       "      <th>4997</th>\n",
       "      <td>0.946754</td>\n",
       "      <td>3</td>\n",
       "    </tr>\n",
       "    <tr>\n",
       "      <th>4998</th>\n",
       "      <td>0.899207</td>\n",
       "      <td>3</td>\n",
       "    </tr>\n",
       "    <tr>\n",
       "      <th>4999</th>\n",
       "      <td>0.928303</td>\n",
       "      <td>3</td>\n",
       "    </tr>\n",
       "  </tbody>\n",
       "</table>\n",
       "<p>15000 rows × 2 columns</p>\n",
       "</div>"
      ],
      "text/plain": [
       "             X  group\n",
       "0     2.384544      1\n",
       "1     0.674135      1\n",
       "2     0.514568      1\n",
       "3     1.602867      1\n",
       "4     2.542142      1\n",
       "...        ...    ...\n",
       "4995  0.938913      3\n",
       "4996  0.750584      3\n",
       "4997  0.946754      3\n",
       "4998  0.899207      3\n",
       "4999  0.928303      3\n",
       "\n",
       "[15000 rows x 2 columns]"
      ]
     },
     "execution_count": 271,
     "metadata": {},
     "output_type": "execute_result"
    }
   ],
   "source": [
    "df_final"
   ]
  },
  {
   "cell_type": "code",
   "execution_count": 275,
   "metadata": {},
   "outputs": [],
   "source": [
    "df_final['group'] = df_final['group'].astype('category')"
   ]
  },
  {
   "cell_type": "code",
   "execution_count": 296,
   "metadata": {},
   "outputs": [
    {
     "data": {
      "image/png": "[encoded data removed]",
      "text/plain": [
       "<Figure size 640x480 with 3 Axes>"
      ]
     },
     "metadata": {},
     "output_type": "display_data"
    },
    {
     "data": {
      "text/plain": [
       "<ggplot: (79774261089)>"
      ]
     },
     "execution_count": 296,
     "metadata": {},
     "output_type": "execute_result"
    }
   ],
   "source": [
    "(\n",
    "ggplot( data=df_final )\n",
    "+ aes(x='X' , y =  after_stat('width*density'), fill='group' )\n",
    "+ geom_histogram(  )\n",
    "+ labs(x = \" \", y = \"Frecuencia Relativa\")\n",
    "+ facet_wrap('group', scales=\"free\", ncol = 3 )\n",
    "+ scale_fill_manual(values=[\"dodgerblue\",\"green\",\"orange\"] , labels=[\"A.Der\", \"Sim\", \"A.Izq\"]  ) \n",
    "+ + guides(fill = guide_legend(title = \" \"),\n",
    "         colour = guide_legend(title = \" \"))\n",
    ")"
   ]
  },
  {
   "cell_type": "markdown",
   "metadata": {},
   "source": []
  },
  {
   "cell_type": "markdown",
   "metadata": {},
   "source": [
    "\n",
    "## Kurtosis Coefficient <a class=\"anchor\" id=\"56\"></a>\n"
   ]
  },
  {
   "cell_type": "markdown",
   "metadata": {},
   "source": [
    "The **kurtosis coefficient** of the quantitative variable $X_k$ is:\n",
    "\n",
    "$$\n",
    "Kurtosis(X_k) = \\dfrac{\\overline{x_k}_{4}}{S(X_k)^{4}}\n",
    "$$\n",
    "\n",
    "Where:\n",
    "\n",
    "\\begin{gather*}\n",
    "\\overline{x_k}_{4}=\\dfrac{1}{n}\\sum_{i=1}^{n} (X_i)^{4} \n",
    "\\end{gather*}\n",
    "\n"
   ]
  },
  {
   "cell_type": "markdown",
   "metadata": {},
   "source": [
    "\n",
    "### Kurtosis coefficient properties <a class=\"anchor\" id=\"57\"></a>\n",
    "\n",
    "The **coefficient of kurtosis** primarily measures the **degree of\n",
    "pointing** of the distribution of the observations of a variable.\n",
    "\n",
    "- If $Kurtosis(X_k) > 3$ $\\Rightarrow$ the distribution of $X_k$ is\n",
    "    **more pointed** and with thicker tails **than the distribution\n",
    "    normal**.\n",
    "\n",
    "- If $Kurtosis(X_k) < 3$ $\\Rightarrow$ the distribution of $X_k$ is\n",
    "    **less pointed** and with thinner tails **than the distribution\n",
    "    normal**.\n",
    "\n"
   ]
  },
  {
   "cell_type": "markdown",
   "metadata": {},
   "source": []
  },
  {
   "cell_type": "markdown",
   "metadata": {},
   "source": [
    "\n",
    "### Kurtosis in R\n"
   ]
  },
  {
   "cell_type": "code",
   "execution_count": 182,
   "metadata": {},
   "outputs": [
    {
     "name": "stdout",
     "output_type": "stream",
     "text": [
      "[1] 5.630726\n"
     ]
    }
   ],
   "source": [
    "%%R \n",
    "\n",
    "kurtosis(data_R$ingresos)"
   ]
  },
  {
   "cell_type": "markdown",
   "metadata": {},
   "source": []
  },
  {
   "cell_type": "markdown",
   "metadata": {},
   "source": [
    "### Kurtosis in Python"
   ]
  },
  {
   "cell_type": "code",
   "execution_count": 298,
   "metadata": {},
   "outputs": [
    {
     "data": {
      "text/plain": [
       "5.630725909373049"
      ]
     },
     "execution_count": 298,
     "metadata": {},
     "output_type": "execute_result"
    }
   ],
   "source": [
    "scipy.stats.kurtosis(data_Python['ingresos'], fisher=False)"
   ]
  },
  {
   "cell_type": "markdown",
   "metadata": {},
   "source": []
  },
  {
   "cell_type": "markdown",
   "metadata": {},
   "source": [
    "\n",
    "#### Pointing Comparison in R"
   ]
  },
  {
   "cell_type": "code",
   "execution_count": 183,
   "metadata": {},
   "outputs": [],
   "source": [
    "%%R\n",
    "\n",
    "set.seed(123)\n",
    "\n",
    "X4<- rnorm(5000, 0, 2)\n",
    "\n",
    "X5<-rnorm(5000, 0 , 1)"
   ]
  },
  {
   "cell_type": "code",
   "execution_count": 184,
   "metadata": {},
   "outputs": [
    {
     "name": "stderr",
     "output_type": "stream",
     "text": [
      "R[write to console]: `stat_bin()` using `bins = 30`. Pick better value with `binwidth`.\n",
      "\n"
     ]
    },
    {
     "data": {
      "image/png": "[encoded data removed]"
     },
     "metadata": {},
     "output_type": "display_data"
    }
   ],
   "source": [
    "%%R\n",
    "\n",
    " df<-as.data.frame(cbind(c(X4,X5), grupo=c(rep(1,5000), rep(2,5000))))\n",
    " \n",
    "\n",
    "ggplot(data = df , aes(x=V1, fill=factor(grupo)))+\n",
    "geom_histogram(aes(y = after_stat(count / sum(count))) , color=\"black\")+\n",
    "  facet_wrap(grupo~.)+\n",
    " scale_y_continuous( n.breaks = 15 )+\n",
    "  scale_x_continuous(n.breaks = 12)+\n",
    "  ggtitle(\"Comparación apuntamiento de distribuciones\")+\n",
    "   scale_fill_discrete(labels = c(\"Menos \\napuntada\\n\", \"\\nMas \\napuntada\"))+\n",
    "  guides(fill = guide_legend(title = \" \"),\n",
    "         colour = guide_legend(title = \" \"))+\n",
    "  xlab(\"\")+\n",
    "  ylab(\"Frecuencias Relativas\")\n"
   ]
  },
  {
   "cell_type": "markdown",
   "metadata": {},
   "source": []
  },
  {
   "cell_type": "markdown",
   "metadata": {},
   "source": [
    "#### Pointing Comparison in Python"
   ]
  },
  {
   "cell_type": "code",
   "execution_count": 306,
   "metadata": {},
   "outputs": [],
   "source": [
    "np.random.seed(123)\n",
    "\n",
    "X1 = np.random.normal(0, 2, 5000)\n",
    "X2 = np.random.normal(0, 1, 5000)\n",
    "\n",
    "X1_df = pd.DataFrame({'X': X1})\n",
    "X2_df = pd.DataFrame({'X': X2})\n",
    "\n",
    "df_X1_X2 = concat([X1_df, X2_df])\n",
    "\n",
    "repeat_one = pd.DataFrame( arr.array('i',(1 for i in range(0,len(X1_df)))) )\n",
    "repeat_two = pd.DataFrame( arr.array('i',(2 for i in range(0,len(X2_df)))) )\n",
    "repeat_df = concat([repeat_one, repeat_two])\n",
    "repeat_df = repeat_df >> rename(group = X[0])\n",
    "\n",
    "df_final = concat([df_X1_X2 , repeat_df], axis=1)\n",
    "df_final['group'] = df_final['group'].astype('category')"
   ]
  },
  {
   "cell_type": "code",
   "execution_count": 311,
   "metadata": {},
   "outputs": [
    {
     "data": {
      "image/png": "[encoded data removed]",
      "text/plain": [
       "<Figure size 640x480 with 2 Axes>"
      ]
     },
     "metadata": {},
     "output_type": "display_data"
    },
    {
     "data": {
      "text/plain": [
       "<ggplot: (79775032396)>"
      ]
     },
     "execution_count": 311,
     "metadata": {},
     "output_type": "execute_result"
    }
   ],
   "source": [
    "(\n",
    "ggplot( data=df_final )\n",
    "+ aes(x='X' , y =  after_stat('width*density'), fill='group')\n",
    "+ geom_histogram(  )\n",
    "+ labs(x = \" \", y = \"Frecuencia Relativa\")\n",
    "+ facet_wrap('group',  ncol = 2 )\n",
    "+ scale_fill_manual(values=[\"dodgerblue\",\"green\"] , labels=[\"Menos apuntada\", \"Mas apuntada\"]  ) \n",
    "+ guides(fill = guide_legend(title = \" \"),\n",
    "         colour = guide_legend(title = \" \"))\n",
    ")"
   ]
  },
  {
   "cell_type": "markdown",
   "metadata": {},
   "source": []
  }
 ],
 "metadata": {
  "kernelspec": {
   "display_name": "Python 3.9.12",
   "language": "python",
   "name": "python3"
  },
  "language_info": {
   "codemirror_mode": {
    "name": "ipython",
    "version": 3
   },
   "file_extension": ".py",
   "mimetype": "text/x-python",
   "name": "python",
   "nbconvert_exporter": "python",
   "pygments_lexer": "ipython3",
   "version": "3.9.12"
  },
  "orig_nbformat": 4,
  "vscode": {
   "interpreter": {
    "hash": "7631d2f67dc5c0d81c934cd816f64da3a3e19087cae08f194906cf70954a9de3"
   }
  }
 },
 "nbformat": 4,
 "nbformat_minor": 2
}
