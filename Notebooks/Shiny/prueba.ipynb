{
 "cells": [
  {
   "cell_type": "markdown",
   "metadata": {},
   "source": [
    "Hola"
   ]
  },
  {
   "cell_type": "code",
   "execution_count": null,
   "metadata": {},
   "outputs": [],
   "source": [
    "from shiny import App, render, ui\n",
    "\n",
    "# Import modules for plot rendering\n",
    "import numpy as np\n",
    "import matplotlib.pyplot as plt\n",
    "\n",
    "app_ui = ui.page_fluid(\n",
    "    ui.layout_sidebar(\n",
    "        ui.panel_sidebar(\n",
    "            ui.input_slider(\"n\", \"N\", 0, 100, 20),\n",
    "        ),\n",
    "        ui.panel_main(\n",
    "            ui.output_plot(\"plot\"),\n",
    "        ),\n",
    "    ),\n",
    ")\n",
    "\n",
    "\n",
    "def server(input, output, session):\n",
    "    @output\n",
    "    @render.plot(alt=\"A histogram\")\n",
    "    def plot():\n",
    "        np.random.seed(19680801)\n",
    "        x = 100 + 15 * np.random.randn(437)\n",
    "        plt.hist(x, input.n(), density=True)\n",
    "\n",
    "\n",
    "app = App(app_ui, server, debug=True)"
   ]
  }
 ],
 "metadata": {
  "kernelspec": {
   "display_name": "Python 3.10.0 64-bit",
   "language": "python",
   "name": "python3"
  },
  "language_info": {
   "codemirror_mode": {
    "name": "ipython",
    "version": 3
   },
   "file_extension": ".py",
   "mimetype": "text/x-python",
   "name": "python",
   "nbconvert_exporter": "python",
   "pygments_lexer": "ipython3",
   "version": "3.10.0"
  },
  "orig_nbformat": 4,
  "vscode": {
   "interpreter": {
    "hash": "c63d8c7d738c2960218a10995aedf0a7f67a49a231e71037adf0440953cdb45b"
   }
  }
 },
 "nbformat": 4,
 "nbformat_minor": 2
}
