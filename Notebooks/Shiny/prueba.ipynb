{
 "cells": [
  {
   "cell_type": "code",
   "execution_count": 1,
   "metadata": {},
   "outputs": [
    {
     "name": "stdout",
     "output_type": "stream",
     "text": [
      "Collecting https://github.com/rstudio/py-shiny/tarball/main\n",
      "  Downloading https://github.com/rstudio/py-shiny/tarball/main\n",
      "     / 2.0 MB 3.3 MB/s 0:00:00\n",
      "  Preparing metadata (setup.py): started\n",
      "  Preparing metadata (setup.py): finished with status 'done'\n",
      "Requirement already satisfied: typing-extensions>=4.0.1 in c:\\users\\usuario\\appdata\\local\\programs\\python\\python310\\lib\\site-packages (from shiny==0.2.6) (4.3.0)\n",
      "Requirement already satisfied: uvicorn>=0.16.0 in c:\\users\\usuario\\appdata\\local\\programs\\python\\python310\\lib\\site-packages (from shiny==0.2.6) (0.18.3)\n",
      "Requirement already satisfied: starlette>=0.17.1 in c:\\users\\usuario\\appdata\\local\\programs\\python\\python310\\lib\\site-packages (from shiny==0.2.6) (0.20.4)\n",
      "Requirement already satisfied: contextvars>=2.4 in c:\\users\\usuario\\appdata\\local\\programs\\python\\python310\\lib\\site-packages (from shiny==0.2.6) (2.4)\n",
      "Requirement already satisfied: websockets>=10.0 in c:\\users\\usuario\\appdata\\local\\programs\\python\\python310\\lib\\site-packages (from shiny==0.2.6) (10.3)\n",
      "Requirement already satisfied: python-multipart in c:\\users\\usuario\\appdata\\local\\programs\\python\\python310\\lib\\site-packages (from shiny==0.2.6) (0.0.5)\n",
      "Requirement already satisfied: htmltools>=0.1.0.9001 in c:\\users\\usuario\\appdata\\local\\programs\\python\\python310\\lib\\site-packages (from shiny==0.2.6) (0.1.2)\n",
      "Requirement already satisfied: click>=8.0.3 in c:\\users\\usuario\\appdata\\local\\programs\\python\\python310\\lib\\site-packages (from shiny==0.2.6) (8.1.3)\n",
      "Requirement already satisfied: markdown-it-py>=1.1.0 in c:\\users\\usuario\\appdata\\local\\programs\\python\\python310\\lib\\site-packages (from shiny==0.2.6) (2.1.0)\n",
      "Requirement already satisfied: mdit-py-plugins>=0.3.0 in c:\\users\\usuario\\appdata\\local\\programs\\python\\python310\\lib\\site-packages (from shiny==0.2.6) (0.3.0)\n",
      "Requirement already satisfied: linkify-it-py>=1.0 in c:\\users\\usuario\\appdata\\local\\programs\\python\\python310\\lib\\site-packages (from shiny==0.2.6) (2.0.0)\n",
      "Requirement already satisfied: appdirs>=1.4.4 in c:\\users\\usuario\\appdata\\local\\programs\\python\\python310\\lib\\site-packages (from shiny==0.2.6) (1.4.4)\n",
      "Requirement already satisfied: asgiref>=3.5.2 in c:\\users\\usuario\\appdata\\local\\programs\\python\\python310\\lib\\site-packages (from shiny==0.2.6) (3.5.2)\n",
      "Requirement already satisfied: colorama in c:\\users\\usuario\\appdata\\local\\programs\\python\\python310\\lib\\site-packages (from click>=8.0.3->shiny==0.2.6) (0.4.5)\n",
      "Requirement already satisfied: immutables>=0.9 in c:\\users\\usuario\\appdata\\local\\programs\\python\\python310\\lib\\site-packages (from contextvars>=2.4->shiny==0.2.6) (0.18)\n",
      "Requirement already satisfied: packaging>=20.9 in c:\\users\\usuario\\appdata\\local\\programs\\python\\python310\\lib\\site-packages (from htmltools>=0.1.0.9001->shiny==0.2.6) (21.3)\n",
      "Requirement already satisfied: uc-micro-py in c:\\users\\usuario\\appdata\\local\\programs\\python\\python310\\lib\\site-packages (from linkify-it-py>=1.0->shiny==0.2.6) (1.0.1)\n",
      "Requirement already satisfied: mdurl~=0.1 in c:\\users\\usuario\\appdata\\local\\programs\\python\\python310\\lib\\site-packages (from markdown-it-py>=1.1.0->shiny==0.2.6) (0.1.2)\n",
      "Requirement already satisfied: anyio<5,>=3.4.0 in c:\\users\\usuario\\appdata\\local\\programs\\python\\python310\\lib\\site-packages (from starlette>=0.17.1->shiny==0.2.6) (3.6.1)\n",
      "Requirement already satisfied: h11>=0.8 in c:\\users\\usuario\\appdata\\local\\programs\\python\\python310\\lib\\site-packages (from uvicorn>=0.16.0->shiny==0.2.6) (0.13.0)\n",
      "Requirement already satisfied: six>=1.4.0 in c:\\users\\usuario\\appdata\\local\\programs\\python\\python310\\lib\\site-packages (from python-multipart->shiny==0.2.6) (1.16.0)\n",
      "Requirement already satisfied: idna>=2.8 in c:\\users\\usuario\\appdata\\local\\programs\\python\\python310\\lib\\site-packages (from anyio<5,>=3.4.0->starlette>=0.17.1->shiny==0.2.6) (3.3)\n",
      "Requirement already satisfied: sniffio>=1.1 in c:\\users\\usuario\\appdata\\local\\programs\\python\\python310\\lib\\site-packages (from anyio<5,>=3.4.0->starlette>=0.17.1->shiny==0.2.6) (1.3.0)\n",
      "Requirement already satisfied: pyparsing!=3.0.5,>=2.0.2 in c:\\users\\usuario\\appdata\\local\\programs\\python\\python310\\lib\\site-packages (from packaging>=20.9->htmltools>=0.1.0.9001->shiny==0.2.6) (3.0.9)\n",
      "Note: you may need to restart the kernel to use updated packages.\n"
     ]
    }
   ],
   "source": [
    "pip install https://github.com/rstudio/py-shiny/tarball/main\n"
   ]
  },
  {
   "cell_type": "code",
   "execution_count": 3,
   "metadata": {},
   "outputs": [
    {
     "name": "stdout",
     "output_type": "stream",
     "text": [
      "Note: you may need to restart the kernel to use updated packages.\n"
     ]
    },
    {
     "name": "stderr",
     "output_type": "stream",
     "text": [
      "ERROR: Could not open requirements file: [Errno 2] No such file or directory: 'requirements-dev.txt'\n"
     ]
    }
   ],
   "source": [
    "pip install -r requirements-dev.txt\n"
   ]
  },
  {
   "cell_type": "code",
   "execution_count": null,
   "metadata": {},
   "outputs": [],
   "source": []
  }
 ],
 "metadata": {
  "kernelspec": {
   "display_name": "Python 3.10.0 64-bit",
   "language": "python",
   "name": "python3"
  },
  "language_info": {
   "codemirror_mode": {
    "name": "ipython",
    "version": 3
   },
   "file_extension": ".py",
   "mimetype": "text/x-python",
   "name": "python",
   "nbconvert_exporter": "python",
   "pygments_lexer": "ipython3",
   "version": "3.10.0"
  },
  "orig_nbformat": 4,
  "vscode": {
   "interpreter": {
    "hash": "c63d8c7d738c2960218a10995aedf0a7f67a49a231e71037adf0440953cdb45b"
   }
  }
 },
 "nbformat": 4,
 "nbformat_minor": 2
}
