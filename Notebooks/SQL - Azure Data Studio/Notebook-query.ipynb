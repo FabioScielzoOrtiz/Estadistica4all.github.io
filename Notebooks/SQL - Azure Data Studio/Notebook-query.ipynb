{
    "metadata": {
        "kernelspec": {
            "name": "SQL",
            "display_name": "SQL",
            "language": "sql"
        },
        "language_info": {
            "name": "sql",
            "version": ""
        }
    },
    "nbformat_minor": 2,
    "nbformat": 4,
    "cells": [
        {
            "cell_type": "markdown",
            "source": [
                "**Crear una nueva base de datos:**"
            ],
            "metadata": {
                "language": "sql",
                "azdata_cell_guid": "69524592-ec3f-408c-b3dc-597917823540"
            },
            "attachments": {}
        },
        {
            "cell_type": "code",
            "source": [
                "USE master\r\n",
                "GO\r\n",
                "IF NOT EXISTS (\r\n",
                " SELECT name\r\n",
                " FROM sys.databases\r\n",
                " WHERE name = N'Base_Datos_Fabio'\r\n",
                ")\r\n",
                " CREATE DATABASE [Base_Datos_Fabio];\r\n",
                "GO\r\n",
                "IF SERVERPROPERTY('ProductVersion') > '12'\r\n",
                " ALTER DATABASE [Base_Datos_Fabio] SET QUERY_STORE=ON;\r\n",
                "GO\r\n",
                ""
            ],
            "metadata": {
                "language": "sql",
                "azdata_cell_guid": "15e3ceb4-998a-48bc-9768-e0b3183e2e8f"
            },
            "outputs": [
                {
                    "output_type": "display_data",
                    "data": {
                        "text/html": "Commands completed successfully."
                    },
                    "metadata": {}
                },
                {
                    "output_type": "display_data",
                    "data": {
                        "text/html": "Commands completed successfully."
                    },
                    "metadata": {}
                },
                {
                    "output_type": "display_data",
                    "data": {
                        "text/html": "Commands completed successfully."
                    },
                    "metadata": {}
                },
                {
                    "output_type": "display_data",
                    "data": {
                        "text/html": "Total execution time: 00:00:00.236"
                    },
                    "metadata": {}
                }
            ],
            "execution_count": 3
        },
        {
            "cell_type": "markdown",
            "source": [
                "**Eliminar una base de datos:**"
            ],
            "metadata": {
                "language": "sql",
                "azdata_cell_guid": "1c95fb76-ad11-444f-b5e9-5a70ffd99c12"
            },
            "attachments": {}
        },
        {
            "cell_type": "code",
            "source": [
                "-- Eliminar una base de datos:\r\n",
                "\r\n",
                "-- Drop the database 'Base_Datos_Fabio'\r\n",
                "-- Connect to the 'master' database to run this snippet\r\n",
                "USE master\r\n",
                "GO\r\n",
                "-- Uncomment the ALTER DATABASE statement below to set the database to SINGLE_USER mode if the drop database command fails because the database is in use.\r\n",
                "ALTER DATABASE Base_Datos_Fabio SET SINGLE_USER WITH ROLLBACK IMMEDIATE;\r\n",
                "-- Drop the database if it exists\r\n",
                "IF EXISTS (\r\n",
                "  SELECT [name]\r\n",
                "   FROM sys.databases\r\n",
                "   WHERE [name] = N'Base_Datos_Fabio'\r\n",
                ")\r\n",
                "DROP DATABASE Base_Datos_Fabio\r\n",
                "GO\r\n",
                "\r\n",
                ""
            ],
            "metadata": {
                "azdata_cell_guid": "1b473ccf-4abc-4339-9d09-f5ce9abe1909",
                "language": "sql"
            },
            "outputs": [
                {
                    "output_type": "display_data",
                    "data": {
                        "text/html": "Commands completed successfully."
                    },
                    "metadata": {}
                },
                {
                    "output_type": "display_data",
                    "data": {
                        "text/html": "Se están revirtiendo las transacciones no calificadas. Estimación de porcentaje de reversión: 0%."
                    },
                    "metadata": {}
                },
                {
                    "output_type": "display_data",
                    "data": {
                        "text/html": "Se están revirtiendo las transacciones no calificadas. Estimación de porcentaje de reversión: 100%."
                    },
                    "metadata": {}
                },
                {
                    "output_type": "display_data",
                    "data": {
                        "text/html": "Total execution time: 00:00:03.081"
                    },
                    "metadata": {}
                }
            ],
            "execution_count": 2
        },
        {
            "cell_type": "markdown",
            "source": [
                "**Crear una tabla:**"
            ],
            "metadata": {
                "language": "sql",
                "azdata_cell_guid": "9e974a9c-ee45-4dd1-8a3c-329e48d55601"
            },
            "attachments": {}
        },
        {
            "cell_type": "code",
            "source": [
                "-- Create a new table called 'Clientes' in schema 'dbo'\r\n",
                "-- Drop the table if it already exists\r\n",
                "IF OBJECT_ID('dbo.Clientes', 'U') IS NOT NULL\r\n",
                " DROP TABLE dbo.Clientes;\r\n",
                "GO\r\n",
                "-- Create the table in the specified schema\r\n",
                "CREATE TABLE dbo.Clientes\r\n",
                "(\r\n",
                " ClienteId nvarchar(50) NOT NULL PRIMARY KEY, -- primary key column --> impide repeticiones de valores en esta columna\r\n",
                " Nombre char (50) NOT NULL,\r\n",
                " Pais nvarchar(50) NOT NULL,\r\n",
                " Ciudad nvarchar(50) NOT NULL,\r\n",
                " Email nvarchar (50) NOT NULL,\r\n",
                " Telefono  nvarchar (50) NOT NULL\r\n",
                ");\r\n",
                "GO"
            ],
            "metadata": {
                "language": "sql",
                "azdata_cell_guid": "53fbd085-ac08-4b87-aa07-4bc6c6876bdd"
            },
            "outputs": [
                {
                    "output_type": "display_data",
                    "data": {
                        "text/html": "Commands completed successfully."
                    },
                    "metadata": {}
                },
                {
                    "output_type": "display_data",
                    "data": {
                        "text/html": "Commands completed successfully."
                    },
                    "metadata": {}
                },
                {
                    "output_type": "display_data",
                    "data": {
                        "text/html": "Total execution time: 00:00:00.005"
                    },
                    "metadata": {}
                }
            ],
            "execution_count": 11
        },
        {
            "cell_type": "code",
            "source": [
                "IF OBJECT_ID('dbo.Proveedores', 'U') IS NOT NULL\r\n",
                " DROP TABLE dbo.Proveedores;\r\n",
                "GO\r\n",
                "-- Create the table in the specified schema\r\n",
                "CREATE TABLE dbo.Proveedores\r\n",
                "(\r\n",
                " ProveedorId nvarchar (50) NOT NULL PRIMARY KEY, -- primary key column\r\n",
                " Nombre nvarchar (50) NOT NULL,\r\n",
                " Email nvarchar(50) NOT NULL,\r\n",
                " Telefono nvarchar (50) NOT NULL\r\n",
                ");\r\n",
                "GO"
            ],
            "metadata": {
                "language": "sql",
                "azdata_cell_guid": "36d34c34-a3b9-4d0c-bc3d-7dd4007fe5ad"
            },
            "outputs": [
                {
                    "output_type": "display_data",
                    "data": {
                        "text/html": "Commands completed successfully."
                    },
                    "metadata": {}
                },
                {
                    "output_type": "display_data",
                    "data": {
                        "text/html": "Commands completed successfully."
                    },
                    "metadata": {}
                },
                {
                    "output_type": "display_data",
                    "data": {
                        "text/html": "Total execution time: 00:00:00.005"
                    },
                    "metadata": {}
                }
            ],
            "execution_count": 12
        },
        {
            "cell_type": "code",
            "source": [
                "IF OBJECT_ID('dbo.Ventas', 'U') IS NOT NULL\r\n",
                " DROP TABLE dbo.Ventas;\r\n",
                "GO\r\n",
                "-- Create the table in the specified schema\r\n",
                "CREATE TABLE dbo.Ventas\r\n",
                "(\r\n",
                " VentasId nvarchar (50) NOT NULL PRIMARY KEY, -- primary key column\r\n",
                " Producto char (50) NOT NULL,\r\n",
                " Precio float (50) NOT NULL,\r\n",
                " Cliente nvarchar (50) NOT NULL,\r\n",
                " Proveedor  nvarchar (50) NOT NULL\r\n",
                ");\r\n",
                "GO\r\n",
                ""
            ],
            "metadata": {
                "language": "sql",
                "azdata_cell_guid": "207f2cf2-6661-4db2-941e-8111dbea3157"
            },
            "outputs": [
                {
                    "output_type": "display_data",
                    "data": {
                        "text/html": "Commands completed successfully."
                    },
                    "metadata": {}
                },
                {
                    "output_type": "display_data",
                    "data": {
                        "text/html": "Commands completed successfully."
                    },
                    "metadata": {}
                },
                {
                    "output_type": "display_data",
                    "data": {
                        "text/html": "Total execution time: 00:00:00.005"
                    },
                    "metadata": {}
                }
            ],
            "execution_count": 13
        },
        {
            "cell_type": "markdown",
            "source": [
                "**Insertar filas en una tbla**"
            ],
            "metadata": {
                "language": "sql",
                "azdata_cell_guid": "d1b98936-d548-4cca-b23b-42bbc18a238c"
            },
            "attachments": {}
        },
        {
            "cell_type": "code",
            "source": [
                "-- Insert rows into table 'Clientes'\r\n",
                "INSERT INTO dbo.Clientes\r\n",
                " ([ClienteId], [Nombre], [Pais], [Ciudad], [Email], [Telefono])\r\n",
                "VALUES\r\n",
                " ( 'C1', N'Orlando', N'Australia', N'', N'' , N'917755028'),\r\n",
                " ( 'C2', N'Keith', N'India', N'', N'keith0@adventure-works.com', N''),\r\n",
                " ( 'C3', N'Donna', N'Germany', N'Berlin', N'donna0@adventure-works.com', N'915547890'),\r\n",
                " ( 'C4', N'Janet', N'United States', N'California',  N'janet1@adventure-works.com', N''),\r\n",
                " ( 'C5', N'Fabio', N'España', N'Madrid', N'fabio10@gmail.com', N''),\r\n",
                " ( 'C6', N'Juan', N'España', N'Sevilla', N'' , N'915869028'),\r\n",
                " ( 'C7', N'Lucia', N'España', N'', N'LuciaPerez@hotmail.com', N''),\r\n",
                " ( 'C8', N'Pedro', N'Italia', N'Roma', N'Pedro99@gmail.com', N'910007890'),\r\n",
                " ( 'C9', N'Sergio', N'United States', N'New York',  N'sergio_as@gmail.com', N''),\r\n",
                " ( 'C10', N'Grecia', N'Peru', N'Lima', N'Grecia89@gmail.com', N'')\r\n",
                "GO\r\n",
                "\r\n",
                "-------------------------------------------------------------------------\r\n",
                "\r\n",
                "-- Insert rows into table 'Ventas'\r\n",
                "INSERT INTO dbo.Ventas\r\n",
                " ([VentasId], [Producto], [Precio], [Cliente], [Proveedor])\r\n",
                "VALUES\r\n",
                " ( 'V1', N'Alfombra', N'1500', N'C1' , N'P1'),\r\n",
                " ( 'V2', N'Killim', N'699.50', N'C3', N'P1'),\r\n",
                " ( 'V3', N'Killim', N'475', N'C9', N'P3'),\r\n",
                "  ( 'V4', N'Alfombra', N'5000', N'C4' , N'P1'),\r\n",
                " ( 'V5', N'Killim', N'499.50', N'C8', N'P1'),\r\n",
                " ( 'V6', N'Killim', N'555', N'C5', N'P3'),\r\n",
                " ( 'V7', N'Alfombra', N'2500', N'C2' , N'P1'),\r\n",
                " ( 'V8', N'Killim', N'299.50', N'C10', N'P1'),\r\n",
                " ( 'V9', N'Killim', N'600', N'C2', N'P3'),\r\n",
                " ( 'V10', N'Alfombra', N'1200', N'C7' , N'P1'),\r\n",
                " ( 'V11', N'Killim', N'500', N'C8', N'P1'),\r\n",
                " ( 'V12', N'Killim', N'650', N'C9', N'P3'),\r\n",
                " ( 'V13', N'Alfombra', N'3500', N'C7' , N'P1'),\r\n",
                " ( 'V14', N'Killim', N'1000', N'C6', N'P1'),\r\n",
                " ( 'V15', N'Killim', N'350', N'C10', N'P3')\r\n",
                "GO\r\n",
                "\r\n",
                "-------------------------------------------------------------------------\r\n",
                "\r\n",
                "-- Insert rows into table 'Proveedores'\r\n",
                "INSERT INTO dbo.Proveedores\r\n",
                " ([ProveedorId], [Nombre], [Email], [Telefono])\r\n",
                "VALUES\r\n",
                " ( 'P1', N'Intertrade', N'Intertrade@gmail.com', N'912223344'),\r\n",
                " ( 'P2', N'SaidKarpet', N'SaidKarpet@gmail.com', N'912783794'),\r\n",
                " ( 'P3', N'OrientKillim', N'OrientKillim@gmail.com', N'9100155475')\r\n",
                "GO\r\n",
                "\r\n",
                ""
            ],
            "metadata": {
                "language": "sql",
                "azdata_cell_guid": "6770d1f1-50cc-4d02-b424-b927e4be1313"
            },
            "outputs": [
                {
                    "output_type": "display_data",
                    "data": {
                        "text/html": "(10 rows affected)"
                    },
                    "metadata": {}
                },
                {
                    "output_type": "display_data",
                    "data": {
                        "text/html": "(15 rows affected)"
                    },
                    "metadata": {}
                },
                {
                    "output_type": "display_data",
                    "data": {
                        "text/html": "(3 rows affected)"
                    },
                    "metadata": {}
                },
                {
                    "output_type": "display_data",
                    "data": {
                        "text/html": "Total execution time: 00:00:00.012"
                    },
                    "metadata": {}
                }
            ],
            "execution_count": 14
        },
        {
            "cell_type": "markdown",
            "source": [
                "**Comprobacion de la restricción Not Null**"
            ],
            "metadata": {
                "language": "sql",
                "azdata_cell_guid": "84655a50-de57-4957-b3d7-e77692e6b497"
            },
            "attachments": {}
        },
        {
            "cell_type": "code",
            "source": [
                "-- El siguiente codigo sale error porque la columna Nombre ha sido definida como Not Null , por tanto\r\n",
                "-- no admite valores NULL , para que los admitiesa deberia haberse definido como Null.\r\n",
                "INSERT INTO dbo.Proveedores\r\n",
                " ([ProveedorId], [Nombre], [Email], [Telefono])\r\n",
                "VALUES\r\n",
                " ( 'P4' , NULL, N'AlfombrasSA@gmail.com', N'91235344')\r\n",
                "GO"
            ],
            "metadata": {
                "language": "sql",
                "azdata_cell_guid": "9cbfa7c2-3f80-427e-95af-93cb02177c5e"
            },
            "outputs": [
                {
                    "output_type": "error",
                    "evalue": "Msg 515, Level 16, State 2, Line 3\r\nNo se puede insertar el valor NULL en la columna 'Nombre', tabla 'master.dbo.Proveedores'. La columna no admite valores NULL. Error de INSERT.",
                    "ename": "",
                    "traceback": []
                },
                {
                    "output_type": "display_data",
                    "data": {
                        "text/html": "Se terminó la instrucción."
                    },
                    "metadata": {}
                },
                {
                    "output_type": "display_data",
                    "data": {
                        "text/html": "Total execution time: 00:00:00.008"
                    },
                    "metadata": {}
                }
            ],
            "execution_count": 8
        },
        {
            "cell_type": "markdown",
            "source": [
                "**Comprobación de la resstricción Primary Key**"
            ],
            "metadata": {
                "language": "sql",
                "azdata_cell_guid": "2bf6eda4-6d74-4278-b24f-4985fe255b94"
            },
            "attachments": {}
        },
        {
            "cell_type": "code",
            "source": [
                "-- Comprobación restriccion Primary Key\r\n",
                "INSERT INTO dbo.Proveedores\r\n",
                " ([ProveedorId], [Nombre], [Email], [Telefono])\r\n",
                "VALUES\r\n",
                " ( 'P3' , 'AlfombrasSA', N'AlfombrasSA@gmail.com', N'91235344')\r\n",
                "GO"
            ],
            "metadata": {
                "language": "sql",
                "azdata_cell_guid": "94a9d49e-c01f-4761-a558-25773c9a410a"
            },
            "outputs": [
                {
                    "output_type": "error",
                    "evalue": "Msg 2627, Level 14, State 1, Line 2\r\nInfracción de la restricción PRIMARY KEY 'PK__Proveedo__61266A59AD387084'. No se puede insertar una clave duplicada en el objeto 'dbo.Proveedores'. El valor de la clave duplicada es (P3).",
                    "ename": "",
                    "traceback": []
                },
                {
                    "output_type": "display_data",
                    "data": {
                        "text/html": "Se terminó la instrucción."
                    },
                    "metadata": {}
                },
                {
                    "output_type": "display_data",
                    "data": {
                        "text/html": "Total execution time: 00:00:00.007"
                    },
                    "metadata": {}
                }
            ],
            "execution_count": 9
        }
    ]
}