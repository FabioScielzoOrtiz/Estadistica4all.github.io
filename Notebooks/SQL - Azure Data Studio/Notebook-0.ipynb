{
    "metadata": {
        "kernelspec": {
            "name": "SQL",
            "display_name": "SQL",
            "language": "sql"
        },
        "language_info": {
            "name": "sql",
            "version": ""
        }
    },
    "nbformat_minor": 2,
    "nbformat": 4,
    "cells": [
        {
            "cell_type": "code",
            "source": [
                "-- Drop the database 'DatabaseName'\r\n",
                "-- Connect to the 'master' database to run this snippet\r\n",
                "USE master\r\n",
                "GO\r\n",
                "-- Uncomment the ALTER DATABASE statement below to set the database to SINGLE_USER mode if the drop database command fails because the database is in use.\r\n",
                "ALTER DATABASE NuevaTabla SET SINGLE_USER WITH ROLLBACK IMMEDIATE;\r\n",
                "-- Drop the database if it exists\r\n",
                "IF EXISTS (\r\n",
                "  SELECT [name]\r\n",
                "   FROM sys.databases\r\n",
                "   WHERE [name] = N'NuevaTabla'\r\n",
                ")\r\n",
                "DROP DATABASE NuevaTabla\r\n",
                "GO"
            ],
            "metadata": {
                "azdata_cell_guid": "9955392f-0a15-4a48-a876-3f24cd8ac216",
                "language": "sql"
            },
            "outputs": [
                {
                    "output_type": "display_data",
                    "data": {
                        "text/html": "Commands completed successfully."
                    },
                    "metadata": {}
                },
                {
                    "output_type": "display_data",
                    "data": {
                        "text/html": "Se están revirtiendo las transacciones no calificadas. Estimación de porcentaje de reversión: 0%."
                    },
                    "metadata": {}
                },
                {
                    "output_type": "display_data",
                    "data": {
                        "text/html": "Se están revirtiendo las transacciones no calificadas. Estimación de porcentaje de reversión: 100%."
                    },
                    "metadata": {}
                },
                {
                    "output_type": "display_data",
                    "data": {
                        "text/html": "Total execution time: 00:00:03.065"
                    },
                    "metadata": {}
                }
            ],
            "execution_count": 15
        },
        {
            "cell_type": "code",
            "source": [
                "USE master\r\n",
                "GO\r\n",
                "IF NOT EXISTS (\r\n",
                " SELECT name\r\n",
                " FROM sys.databases\r\n",
                " WHERE name = N'NuevaTabla'\r\n",
                ")\r\n",
                " CREATE DATABASE [NuevaTabla];\r\n",
                "GO\r\n",
                "IF SERVERPROPERTY('ProductVersion') > '12'\r\n",
                " ALTER DATABASE [NuevaTabla] SET QUERY_STORE=ON;\r\n",
                "GO"
            ],
            "metadata": {
                "azdata_cell_guid": "5b011185-e5cf-4a6a-a818-cb3816ec367c",
                "language": "sql",
                "tags": []
            },
            "outputs": [
                {
                    "output_type": "display_data",
                    "data": {
                        "text/html": "Commands completed successfully."
                    },
                    "metadata": {}
                },
                {
                    "output_type": "display_data",
                    "data": {
                        "text/html": "Commands completed successfully."
                    },
                    "metadata": {}
                },
                {
                    "output_type": "display_data",
                    "data": {
                        "text/html": "Commands completed successfully."
                    },
                    "metadata": {}
                },
                {
                    "output_type": "display_data",
                    "data": {
                        "text/html": "Total execution time: 00:00:00.220"
                    },
                    "metadata": {}
                }
            ],
            "execution_count": 17
        },
        {
            "cell_type": "code",
            "source": [
                "-- Create a new table called 'Customers' in schema 'dbo'\r\n",
                "-- Drop the table if it already exists\r\n",
                "IF OBJECT_ID('dbo.Customers', 'U') IS NOT NULL\r\n",
                " DROP TABLE dbo.Customers;\r\n",
                "GO\r\n",
                "-- Create the table in the specified schema\r\n",
                "CREATE TABLE dbo.Customers\r\n",
                "(\r\n",
                " CustomerId int NOT NULL PRIMARY KEY, -- primary key column\r\n",
                " Name nvarchar(50) NOT NULL,\r\n",
                " Location nvarchar(50) NOT NULL,\r\n",
                " Email nvarchar(50) NOT NULL\r\n",
                ");\r\n",
                "GO\r\n",
                ""
            ],
            "metadata": {
                "language": "sql",
                "azdata_cell_guid": "82c8787f-a4c3-4925-8878-352426c66931"
            },
            "outputs": [
                {
                    "output_type": "display_data",
                    "data": {
                        "text/html": "Commands completed successfully."
                    },
                    "metadata": {}
                },
                {
                    "output_type": "display_data",
                    "data": {
                        "text/html": "Commands completed successfully."
                    },
                    "metadata": {}
                },
                {
                    "output_type": "display_data",
                    "data": {
                        "text/html": "Total execution time: 00:00:00.006"
                    },
                    "metadata": {}
                }
            ],
            "execution_count": 20
        },
        {
            "cell_type": "code",
            "source": [
                "-- Insert rows into table 'Customers'\r\n",
                "INSERT INTO dbo.Customers\r\n",
                " ([CustomerId], [Name], [Location], [Email])\r\n",
                "VALUES\r\n",
                " ( 1, N'Orlando', N'Australia', N''),\r\n",
                " ( 2, N'Keith', N'India', N'keith0@adventure-works.com'),\r\n",
                " ( 3, N'Donna', N'Germany', N'donna0@adventure-works.com'),\r\n",
                " ( 4, N'Janet', N'United States', N'janet1@adventure-works.com')\r\n",
                "GO"
            ],
            "metadata": {
                "language": "sql",
                "azdata_cell_guid": "e1c79bc9-32f2-408b-a837-f6370edce431"
            },
            "outputs": [
                {
                    "output_type": "display_data",
                    "data": {
                        "text/html": "(4 rows affected)"
                    },
                    "metadata": {}
                },
                {
                    "output_type": "display_data",
                    "data": {
                        "text/html": "Total execution time: 00:00:00.005"
                    },
                    "metadata": {}
                }
            ],
            "execution_count": 21
        }
    ]
}