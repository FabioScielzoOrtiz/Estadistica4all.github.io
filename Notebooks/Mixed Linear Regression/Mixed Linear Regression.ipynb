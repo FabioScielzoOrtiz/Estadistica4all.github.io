{
 "cells": [
  {
   "cell_type": "markdown",
   "metadata": {},
   "source": []
  },
  {
   "cell_type": "markdown",
   "metadata": {},
   "source": [
    "**Multinivel Models**\n",
    "\n",
    "Level 2: Hospitals $(i)$  grupos\n",
    "\n",
    "Level 1: Patients $(j)$  individuos"
   ]
  },
  {
   "cell_type": "markdown",
   "metadata": {},
   "source": []
  },
  {
   "cell_type": "markdown",
   "metadata": {},
   "source": [
    "**Longitudinal Models**\n",
    "\n",
    "Level 2: Estudiantes $(i)$  individuos\n",
    "\n",
    "Level 1: Medidas Repetidas $(j)$  medidas repetidas"
   ]
  },
  {
   "cell_type": "markdown",
   "metadata": {},
   "source": []
  },
  {
   "cell_type": "markdown",
   "metadata": {},
   "source": [
    "### Mixed Simple Linear Regression"
   ]
  },
  {
   "cell_type": "markdown",
   "metadata": {},
   "source": [
    "There are four cases:"
   ]
  },
  {
   "cell_type": "markdown",
   "metadata": {},
   "source": [
    "<img src=\"mix.jpg\" class=\"center\" width=\"300\" height=\"300\">"
   ]
  },
  {
   "cell_type": "markdown",
   "metadata": {},
   "source": [
    "x_{ij} = valor de X para el individuo j del grupo i o para la medida repetida j del individuo i"
   ]
  },
  {
   "cell_type": "markdown",
   "metadata": {},
   "source": [
    "**Model 1:** $\\hspace{0.1cm}$  Simple Linear Regression with **igual** *ordenada en el origen* $\\beta_{0i}$ y *pendiente* $\\beta_{1i}$ para cada   $i$ \n",
    "\n",
    "*Level 1 :* $\\hspace{0.2cm} y_{ij} = \\beta_{0i} + \\beta_{1i} \\cdot x_{ij} + \\varepsilon_{ij}$  $\\hspace{0.25cm}(j)$\n",
    "\n",
    "*Level 2:* $\\hspace{0.2cm} \\beta_{0i} = \\beta_0 \\hspace{0.2cm}, \\hspace{0.2cm}$  $\\beta_{1i} = \\beta_1$ $\\hspace{0.25cm}(i)$\n",
    "\n",
    "*Final Model:* $\\hspace{0.2cm} y_{ij} = \\beta_{0} + \\beta_{1} \\cdot x_{ij} + \\varepsilon_{ij}$  $\\hspace{0.1cm}, \\hspace{0.2cm} \\varepsilon_{ij} \\sim N(0, \\sigma^2)$"
   ]
  },
  {
   "cell_type": "markdown",
   "metadata": {},
   "source": []
  },
  {
   "cell_type": "markdown",
   "metadata": {},
   "source": [
    "**Model 2:** $\\hspace{0.1cm}$  Simple Linear Regression with **distinta** *ordenada en el origen* $\\beta_{0i}$ , **igual** *pendiente* $\\beta_{1i}$ para cada   $i$ \n",
    "\n",
    "*Level 1:* $\\hspace{0.2cm} y_{ij} = \\beta_{0i} + \\beta_{1i} \\cdot x_{ij} + \\varepsilon_{ij}$  $\\hspace{0.25cm}(j)$\n",
    "\n",
    "*Level 2:* $\\hspace{0.2cm} \\beta_{0i} = \\beta_0 + u_i$  $\\hspace{0.25cm}(i)$\n",
    "\n",
    "  $\\hspace{1.25cm} \\beta_{1i} = \\beta_1$\n",
    "\n",
    "*Final Model:* $\\hspace{0.2cm} y_{ij} = \\beta_{0} + \\beta_{1} \\cdot x_{ij} + \\varepsilon_{ij} + u_i$  $\\hspace{0.1cm}, \\hspace{0.2cm} \\varepsilon_{ij} \\sim N(0, \\sigma^2)$ $\\hspace{0.1cm}, \\hspace{0.2cm} u_{i} \\sim N(0, \\sigma_u^2)$"
   ]
  },
  {
   "cell_type": "markdown",
   "metadata": {},
   "source": []
  },
  {
   "cell_type": "markdown",
   "metadata": {},
   "source": [
    "**Model 3:** $\\hspace{0.1cm}$  Simple Linear Regression with **igual** *ordenada en el origen* $\\beta_{0i}$ , **distinta** *pendiente* $\\beta_{1i}$ para cada   $i$ \n",
    "\n",
    "*Level 1:* $\\hspace{0.2cm} y_{ij} = \\beta_{0i} + \\beta_{1i} \\cdot x_{ij} + \\varepsilon_{ij}$  $\\hspace{0.25cm}(j)$\n",
    "\n",
    "*Level 2:* $\\hspace{0.3cm} \\beta_{0i} = \\beta_0 $  $\\hspace{1cm}(i)$\n",
    "\n",
    "  $\\hspace{1.25cm} \\beta_{1i} = \\beta_1 + v_i$\n",
    "\n",
    "*Final Model:* $\\hspace{0.2cm} y_{ij} = \\beta_{0} + (\\beta_1 + v_i) \\cdot x_{ij} + \\varepsilon_{ij} = \\beta_{0} + \\beta_1\\cdot x_{ij} + v_i \\cdot x_{ij} + \\varepsilon_{ij}   $  $\\hspace{0.1cm}, \\hspace{0.2cm} \\varepsilon_{ij} \\sim N(0, \\sigma^2)$  $\\hspace{0.1cm}, \\hspace{0.2cm} v_{i} \\sim N(0, \\sigma_v^2)$"
   ]
  },
  {
   "cell_type": "markdown",
   "metadata": {},
   "source": []
  },
  {
   "cell_type": "markdown",
   "metadata": {},
   "source": [
    "**Model 4:** $\\hspace{0.1cm}$  Simple Linear Regression with **distinta** *ordenada en el origen* $\\beta_{0i}$ , **distinta** *pendiente* $\\beta_{1i}$ para cada   $i$ \n",
    "\n",
    "*Level 1:* $\\hspace{0.2cm} y_{ij} = \\beta_{0i} + \\beta_{1i} \\cdot x_{ij} + \\varepsilon_{ij}$  $\\hspace{0.25cm}(j)$\n",
    "\n",
    "*Level 2:* $\\hspace{0.3cm} \\beta_{0i} = \\beta_0 + u_i $  $\\hspace{1cm}(i)$\n",
    "\n",
    "  $\\hspace{1.25cm} \\beta_{1i} = \\beta_1 + v_i$\n",
    "\n",
    "*Final Model:* $\\hspace{0.2cm} y_{ij} = \\beta_{0} + (\\beta_1 + v_i) \\cdot x_{ij} + \\varepsilon_{ij} + u_i = \\beta_{0} + \\beta_1\\cdot x_{ij} + v_i \\cdot x_{ij} + \\varepsilon_{ij} + u_i  $  $\\hspace{0.1cm}, \\hspace{0.2cm} \\varepsilon_{ij} \\sim N(0, \\sigma^2)$ $\\hspace{0.1cm}, \\hspace{0.2cm} u_{i} \\sim N(0, \\sigma_u^2)$ $\\hspace{0.1cm}, \\hspace{0.2cm} v_{i} \\sim N(0, \\sigma_v^2)$"
   ]
  },
  {
   "cell_type": "markdown",
   "metadata": {},
   "source": []
  },
  {
   "cell_type": "markdown",
   "metadata": {},
   "source": [
    "### Mixed Multiple Linear Regression"
   ]
  },
  {
   "cell_type": "markdown",
   "metadata": {},
   "source": [
    "In this case, there are too much cases, some of them are:"
   ]
  },
  {
   "cell_type": "markdown",
   "metadata": {},
   "source": [
    "Now we need three index:\n",
    "\n",
    "Level 2: i\n",
    "\n",
    "Level 1: j\n",
    "\n",
    "Predictor: r=1,...,p\n",
    "\n",
    "x_{ij, r} = valor de X_r para el individuo j del grupo i o valor de X_r en la medida repetida j del individuo i"
   ]
  },
  {
   "cell_type": "markdown",
   "metadata": {},
   "source": [
    "**Model 1:** $\\hspace{0.1cm}$  Multiple Linear Regression with **igual** *ordenada en el origen* $\\beta_{0i}$ y *pendientes* $\\beta_{1i}, \\beta_{2i},...,\\beta_{pi} $ para cada $i$ \n",
    "\n",
    "*Level 1 :* $\\hspace{0.2cm} y_{ij} = \\beta_{0i} + \\beta_{1i} \\cdot x_{ij, 1} + \\beta_{2i} \\cdot x_{ij, 2} +...+ \\beta_{pi} \\cdot x_{ij, p} + \\varepsilon_{ij}$  $\\hspace{0.25cm}(j)$\n",
    "\n",
    "*Level 2:* $\\hspace{0.2cm} \\beta_{0i} = \\beta_0 \\hspace{0.2cm}, \\hspace{0.2cm}$  $ \\beta_{2i} = \\beta_2 \\hspace{0.2cm}$  $, \\hspace{0.1cm} \\beta_{3i} = \\beta_3 \\hspace{0.2cm}, $ $\\dots$ $ ,\\hspace{0.2cm} \\beta_{pi} = \\beta_p$ $\\hspace{0.25cm}(i)$\n",
    "\n",
    "*Final Model:* $\\hspace{0.2cm} y_{ij} = \\beta_{0} + \\beta_{1} \\cdot x_{ij,1} + \\beta_{2} \\cdot x_{ij,2} + \\dots + \\beta_{p} \\cdot x_{ij,p} + \\varepsilon_{ij}$  $\\hspace{0.1cm}, \\hspace{0.2cm} \\varepsilon_{ij} \\sim N(0, \\sigma^2)$"
   ]
  },
  {
   "cell_type": "markdown",
   "metadata": {},
   "source": []
  },
  {
   "cell_type": "markdown",
   "metadata": {},
   "source": [
    "**Model 2:** $\\hspace{0.1cm}$  Multiple Linear Regression with **distinta** *ordenada en el origen* $\\beta_{0i}$ pero **iguales** *pendientes* $\\beta_{1i}, \\beta_{2i},...,\\beta_{pi} $ para cada $i$ \n",
    "\n",
    "*Level 1 :* $\\hspace{0.2cm} y_{ij} = \\beta_{0i} + \\beta_{1i} \\cdot x_{ij, 1} + \\beta_{2i} \\cdot x_{ij, 2} +...+ \\beta_{pi} \\cdot x_{ij, p} + \\varepsilon_{ij}$  $\\hspace{0.25cm}(j)$\n",
    "\n",
    "*Level 2:* $\\hspace{0.2cm} \\beta_{0i} = \\beta_0 + u_i \\hspace{0.2cm}, \\hspace{0.2cm}$  $ \\beta_{2i} = \\beta_2 \\hspace{0.2cm}$  $, \\hspace{0.1cm} \\beta_{3i} = \\beta_3 \\hspace{0.2cm}, $ $\\dots$ $ ,\\hspace{0.2cm} \\beta_{pi} = \\beta_p$ $\\hspace{0.25cm}(i)$\n",
    "\n",
    "*Final Model:* $\\hspace{0.2cm} y_{ij} = \\beta_{0} + \\beta_{1} \\cdot x_{ij,1} + \\beta_{2} \\cdot x_{ij,2} + \\dots + \\beta_{p} \\cdot x_{ij,p} + \\varepsilon_{ij} + u_i$  $\\hspace{0.1cm}, \\hspace{0.2cm} \\varepsilon_{ij} \\sim N(0, \\sigma^2)$ $\\hspace{0.1cm} , \\hspace{0.1cm}  u_i \\sim N(0, \\sigma_u^2)$"
   ]
  },
  {
   "cell_type": "markdown",
   "metadata": {},
   "source": []
  },
  {
   "cell_type": "markdown",
   "metadata": {},
   "source": [
    "**Model 3:** $\\hspace{0.1cm}$  Multiple Linear Regression with **igual** *ordenada en el origen* $\\beta_{0i}$ y **distinta** *pendiente* asociada al predictor $X_r$  pero **iguales** pendientes asociadas  al resto de predictores,  para cada $i$ \n",
    "\n",
    "*Level 1 :* $\\hspace{0.2cm} y_{ij} = \\beta_{0i} + \\beta_{1i} \\cdot x_{ij, 1} + \\beta_{2i} \\cdot x_{ij, 2} +...+ \\beta_{pi} \\cdot x_{ij, p} + \\varepsilon_{ij}$  $\\hspace{0.25cm}(j)$\n",
    "\n",
    "*Level 2:* $\\hspace{0.2cm} \\beta_{0i} = \\beta_0  \\hspace{0.2cm}, \\hspace{0.2cm}$  $ \\beta_{2i} = \\beta_2 \\hspace{0.2cm}$  $, \\dots ,\\hspace{0.1cm} \\beta_{ri} = \\beta_r  + u_i \\hspace{0.2cm}, $ $\\dots$ $ ,\\hspace{0.2cm} \\beta_{pi} = \\beta_p$ $\\hspace{0.25cm}(i)$\n",
    "\n",
    "*Final Model:* $\\hspace{0.2cm} y_{ij} = \\beta_{0} + \\beta_{1} \\cdot x_{ij,1} + \\dots + \\beta_{r} \\cdot x_{ij,r} + u_i \\cdot  x_{ij,r}  + \\dots + \\beta_{p} \\cdot x_{ij,p} + \\varepsilon_{ij} $  $\\hspace{0.1cm}, \\hspace{0.2cm} \\varepsilon_{ij} \\sim N(0, \\sigma^2)$ $\\hspace{0.1cm} , \\hspace{0.1cm}  u_i \\sim N(0, \\sigma_u^2)$"
   ]
  },
  {
   "cell_type": "markdown",
   "metadata": {},
   "source": []
  },
  {
   "cell_type": "markdown",
   "metadata": {},
   "source": [
    "**Model 4:** $\\hspace{0.1cm}$  Multiple Linear Regression with **igual** *ordenada en el origen* $\\beta_{0i}$ y **distintas** *pendientes* asociadas a los predictores $X_r$ y $X_h$  pero **iguales** pendientes asociadas  al resto de predictores,  para cada $i$ \n",
    "\n",
    "*Level 1 :* $\\hspace{0.2cm} y_{ij} = \\beta_{0i} + \\beta_{1i} \\cdot x_{ij, 1} + \\beta_{2i} \\cdot x_{ij, 2} +...+ \\beta_{pi} \\cdot x_{ij, p} + \\varepsilon_{ij}$  $\\hspace{0.25cm}(j)$\n",
    "\n",
    "*Level 2:* $\\hspace{0.2cm} \\beta_{0i} = \\beta_0  \\hspace{0.2cm}, \\hspace{0.2cm}$  $ \\beta_{2i} = \\beta_2 \\hspace{0.2cm}$  $, \\dots ,\\hspace{0.1cm} \\beta_{ri} = \\beta_r  + u_i \\hspace{0.2cm}, $ $\\hspace{0.1cm} \\beta_{hi} = \\beta_h  + v_i \\hspace{0.2cm}, $ $\\dots$ $ ,\\hspace{0.2cm} \\beta_{pi} = \\beta_p$ $\\hspace{0.25cm}(i)$\n",
    "\n",
    "*Final Model:* $\\hspace{0.2cm} y_{ij} = \\beta_{0} + \\beta_{1} \\cdot x_{ij,1} + \\dots + \\beta_{r} \\cdot x_{ij,r} + u_i \\cdot x_{ij,r} + \\beta_{h} \\cdot x_{ij,h} + v_i \\cdot x_{ij,h} + \\dots + \\beta_{p} \\cdot x_{ij,p} + \\varepsilon_{ij}$ $\\hspace{0.1cm}, \\hspace{0.2cm} \\varepsilon_{ij} \\sim N(0, \\sigma^2)$ $\\hspace{0.1cm} , \\hspace{0.1cm}  u_i \\sim N(0, \\sigma_u^2)$ $\\hspace{0.1cm} , \\hspace{0.1cm}  v_i \\sim N(0, \\sigma_v^2)$"
   ]
  },
  {
   "cell_type": "markdown",
   "metadata": {},
   "source": []
  },
  {
   "cell_type": "markdown",
   "metadata": {},
   "source": [
    "**Model 5:** $\\hspace{0.1cm}$  Multiple Linear Regression with **distinta** *ordenada en el origen* $\\beta_{0i}$ y **distintas** *pendientes* asociadas a los predictores $X_r$ y $X_h$  pero **iguales** pendientes asociadas  al resto de predictores,  para cada $i$ \n",
    "\n",
    "*Level 1 :* $\\hspace{0.2cm} y_{ij} = \\beta_{0i} + \\beta_{1i} \\cdot x_{ij, 1} + \\beta_{2i} \\cdot x_{ij, 2} +...+ \\beta_{pi} \\cdot x_{ij, p} + \\varepsilon_{ij}$  $\\hspace{0.25cm}(j)$\n",
    "\n",
    "*Level 2:* $\\hspace{0.2cm} \\beta_{0i} = \\beta_0 + u_i  \\hspace{0.2cm}, \\hspace{0.2cm}$  $ \\beta_{2i} = \\beta_2 \\hspace{0.2cm}$  $, \\dots ,\\hspace{0.1cm} \\beta_{ri} = \\beta_r  + v_i \\hspace{0.2cm}, $ $\\hspace{0.1cm} \\beta_{hi} = \\beta_h  + \\gamma_i \\hspace{0.2cm}, $ $\\dots$ $ ,\\hspace{0.2cm} \\beta_{pi} = \\beta_p$ $\\hspace{0.25cm}(i)$\n",
    "\n",
    "*Final Model:* $\\hspace{0.2cm} y_{ij} = \\beta_{0} + \\beta_{1} \\cdot x_{ij,1} + \\dots + \\beta_{r} \\cdot x_{ij,r} + v_i \\cdot x_{ij,r} + \\beta_{h} \\cdot x_{ij,h} + \\gamma_i \\cdot x_{ij,h} + \\dots  + \\beta_{p} \\cdot x_{ij,p} + \\varepsilon_{ij} + u_i$  $\\hspace{0.1cm}, \\hspace{0.2cm} \\varepsilon_{ij} \\sim N(0, \\sigma^2)$ $\\hspace{0.1cm} , \\hspace{0.1cm}  u_i \\sim N(0, \\sigma_u^2)$ $\\hspace{0.1cm} , \\hspace{0.1cm}  v_i \\sim N(0, \\sigma_v^2)$ $\\hspace{0.1cm} , \\hspace{0.1cm}  \\gamma_i \\sim N(0, \\sigma_\\gamma^2)$"
   ]
  },
  {
   "cell_type": "markdown",
   "metadata": {},
   "source": []
  },
  {
   "cell_type": "markdown",
   "metadata": {},
   "source": [
    "etc"
   ]
  },
  {
   "cell_type": "markdown",
   "metadata": {},
   "source": [
    "### Example Multinivel Mixed  Linear Regression Models in R and Python"
   ]
  },
  {
   "cell_type": "code",
   "execution_count": 1,
   "metadata": {},
   "outputs": [],
   "source": [
    "import numpy as np\n",
    "import pandas as pd\n",
    "import statsmodels.api as sm\n",
    "import statsmodels.formula.api as smf\n",
    "from statsmodels.tools.sm_exceptions import ConvergenceWarning"
   ]
  },
  {
   "cell_type": "markdown",
   "metadata": {},
   "source": [
    "math: nota de matematicas de los estudiantes\n",
    "schoolID: identificador de la escuela\n",
    "eco: nivel socioeconomico del estudiante\n",
    "read: nivel de lectura del estudiante\n",
    "school_eco: nivel socioeconomico de la escuela"
   ]
  },
  {
   "cell_type": "code",
   "execution_count": 2,
   "metadata": {},
   "outputs": [],
   "source": [
    "math = pd.Series([5, 4, 6.5, 8 , 9 ,3 , 6, 7.5, 6 , 8, 9, 10, 4.2, 2, 6, 7, 8, 4,9.2,9,7,8,5.75,4,2.6,3,7.5,8,8.25,6])\n",
    "schoolID = pd.Series([1 , 1, 2, 1, 3, 4, 1, 2, 3, 3, 4, 2, 1, 2, 2, 3,4,4,3,2,4,3,2,1,3,2,4,4,3,3])\n",
    "eco = pd.Series([1,0,0,1,1,2,0,0,2,2,0,1,0,2,0,2,1,1,2,0,1,0,0,2,2,1,1,0,2,0])\n",
    "read = pd.Series([1,0,2,2,1,1,0,1,2,1,1,2,0,0,1,2,1,0,2,0,2,0,1,2,2,1,2,1,2,0])\n",
    "school_eco = pd.Series([1,0,2,1,2,2,1,1,0,1,0,1,2,2,1,1,0,1,1,2,2,0,2,1,2,1,0,1,0,0])"
   ]
  },
  {
   "cell_type": "code",
   "execution_count": 3,
   "metadata": {},
   "outputs": [],
   "source": [
    "PISA_Data_py = pd.DataFrame({'math':math , 'eco':eco , 'read': read , 'school_eco':school_eco, 'schoolID':schoolID})"
   ]
  },
  {
   "cell_type": "code",
   "execution_count": 4,
   "metadata": {},
   "outputs": [
    {
     "data": {
      "text/html": [
       "<div>\n",
       "<style scoped>\n",
       "    .dataframe tbody tr th:only-of-type {\n",
       "        vertical-align: middle;\n",
       "    }\n",
       "\n",
       "    .dataframe tbody tr th {\n",
       "        vertical-align: top;\n",
       "    }\n",
       "\n",
       "    .dataframe thead th {\n",
       "        text-align: right;\n",
       "    }\n",
       "</style>\n",
       "<table border=\"1\" class=\"dataframe\">\n",
       "  <thead>\n",
       "    <tr style=\"text-align: right;\">\n",
       "      <th></th>\n",
       "      <th>math</th>\n",
       "      <th>eco</th>\n",
       "      <th>read</th>\n",
       "      <th>school_eco</th>\n",
       "      <th>schoolID</th>\n",
       "    </tr>\n",
       "  </thead>\n",
       "  <tbody>\n",
       "    <tr>\n",
       "      <th>0</th>\n",
       "      <td>5.0</td>\n",
       "      <td>1</td>\n",
       "      <td>1</td>\n",
       "      <td>1</td>\n",
       "      <td>1</td>\n",
       "    </tr>\n",
       "    <tr>\n",
       "      <th>1</th>\n",
       "      <td>4.0</td>\n",
       "      <td>0</td>\n",
       "      <td>0</td>\n",
       "      <td>0</td>\n",
       "      <td>1</td>\n",
       "    </tr>\n",
       "    <tr>\n",
       "      <th>2</th>\n",
       "      <td>6.5</td>\n",
       "      <td>0</td>\n",
       "      <td>2</td>\n",
       "      <td>2</td>\n",
       "      <td>2</td>\n",
       "    </tr>\n",
       "    <tr>\n",
       "      <th>3</th>\n",
       "      <td>8.0</td>\n",
       "      <td>1</td>\n",
       "      <td>2</td>\n",
       "      <td>1</td>\n",
       "      <td>1</td>\n",
       "    </tr>\n",
       "    <tr>\n",
       "      <th>4</th>\n",
       "      <td>9.0</td>\n",
       "      <td>1</td>\n",
       "      <td>1</td>\n",
       "      <td>2</td>\n",
       "      <td>3</td>\n",
       "    </tr>\n",
       "    <tr>\n",
       "      <th>5</th>\n",
       "      <td>3.0</td>\n",
       "      <td>2</td>\n",
       "      <td>1</td>\n",
       "      <td>2</td>\n",
       "      <td>4</td>\n",
       "    </tr>\n",
       "    <tr>\n",
       "      <th>6</th>\n",
       "      <td>6.0</td>\n",
       "      <td>0</td>\n",
       "      <td>0</td>\n",
       "      <td>1</td>\n",
       "      <td>1</td>\n",
       "    </tr>\n",
       "    <tr>\n",
       "      <th>7</th>\n",
       "      <td>7.5</td>\n",
       "      <td>0</td>\n",
       "      <td>1</td>\n",
       "      <td>1</td>\n",
       "      <td>2</td>\n",
       "    </tr>\n",
       "    <tr>\n",
       "      <th>8</th>\n",
       "      <td>6.0</td>\n",
       "      <td>2</td>\n",
       "      <td>2</td>\n",
       "      <td>0</td>\n",
       "      <td>3</td>\n",
       "    </tr>\n",
       "    <tr>\n",
       "      <th>9</th>\n",
       "      <td>8.0</td>\n",
       "      <td>2</td>\n",
       "      <td>1</td>\n",
       "      <td>1</td>\n",
       "      <td>3</td>\n",
       "    </tr>\n",
       "  </tbody>\n",
       "</table>\n",
       "</div>"
      ],
      "text/plain": [
       "   math  eco  read  school_eco  schoolID\n",
       "0   5.0    1     1           1         1\n",
       "1   4.0    0     0           0         1\n",
       "2   6.5    0     2           2         2\n",
       "3   8.0    1     2           1         1\n",
       "4   9.0    1     1           2         3\n",
       "5   3.0    2     1           2         4\n",
       "6   6.0    0     0           1         1\n",
       "7   7.5    0     1           1         2\n",
       "8   6.0    2     2           0         3\n",
       "9   8.0    2     1           1         3"
      ]
     },
     "execution_count": 4,
     "metadata": {},
     "output_type": "execute_result"
    }
   ],
   "source": [
    "PISA_Data_py.head(10)"
   ]
  },
  {
   "cell_type": "markdown",
   "metadata": {},
   "source": []
  },
  {
   "cell_type": "code",
   "execution_count": 5,
   "metadata": {},
   "outputs": [
    {
     "name": "stderr",
     "output_type": "stream",
     "text": [
      "Unable to determine R home: [WinError 2] El sistema no puede encontrar el archivo especificado\n",
      "c:\\Users\\Usuario\\AppData\\Local\\R-MINI~1\\lib\\site-packages\\rpy2\\robjects\\packages.py:367: UserWarning: The symbol 'quartz' is not in this R namespace/package.\n",
      "  warnings.warn(\n"
     ]
    }
   ],
   "source": [
    "import rpy2\n",
    "\n",
    "%load_ext rpy2.ipython\n",
    "\n",
    "import rpy2.robjects as robjects"
   ]
  },
  {
   "cell_type": "code",
   "execution_count": 6,
   "metadata": {},
   "outputs": [],
   "source": [
    "%%R\n",
    "\n",
    "math <- c(5, 4, 6.5, 8 , 9 ,3 , 6, 7.5, 6 , 8, 9, 10, 4.2, 2, 6, 7, 8, 4,9.2,9,7,8,5.75,4,2.6,3,7.5,8,8.25,6)\n",
    "schoolID <- c(1 , 1, 2, 1, 3, 4, 1, 2, 3, 3, 4, 2, 1, 2, 2, 3,4,4,3,2,4,3,2,1,3,2,4,4,3,3)\n",
    "eco <- c(1,0,0,1,1,2,0,0,2,2,0,1,0,2,0,2,1,1,2,0,1,0,0,2,2,1,1,0,2,0)\n",
    "read <- c(1,0,2,2,1,1,0,1,2,1,1,2,0,0,1,2,1,0,2,0,2,0,1,2,2,1,2,1,2,0)\n",
    "school_eco <- c(1,0,2,1,2,2,1,1,0,1,0,1,2,2,1,1,0,1,1,2,2,0,2,1,2,1,0,1,0,0)"
   ]
  },
  {
   "cell_type": "code",
   "execution_count": 7,
   "metadata": {},
   "outputs": [],
   "source": [
    "%%R\n",
    "\n",
    "PISA_Data_R = cbind(math, eco, read, school_eco, schoolID)\n",
    "\n",
    "PISA_Data_R = as.data.frame(PISA_Data_R)"
   ]
  },
  {
   "cell_type": "code",
   "execution_count": 40,
   "metadata": {},
   "outputs": [
    {
     "name": "stdout",
     "output_type": "stream",
     "text": [
      "   math eco read school_eco schoolID\n",
      "1   5.0   1    1          1        1\n",
      "2   4.0   0    0          0        1\n",
      "3   6.5   0    2          2        2\n",
      "4   8.0   1    2          1        1\n",
      "5   9.0   1    1          2        3\n",
      "6   3.0   2    1          2        4\n",
      "7   6.0   0    0          1        1\n",
      "8   7.5   0    1          1        2\n",
      "9   6.0   2    2          0        3\n",
      "10  8.0   2    1          1        3\n"
     ]
    }
   ],
   "source": [
    "%%R\n",
    "\n",
    "head(PISA_Data_R, 10)"
   ]
  },
  {
   "cell_type": "markdown",
   "metadata": {},
   "source": []
  },
  {
   "cell_type": "code",
   "execution_count": 38,
   "metadata": {},
   "outputs": [],
   "source": [
    "%%R\n",
    "library(lme4)"
   ]
  },
  {
   "cell_type": "code",
   "execution_count": 58,
   "metadata": {},
   "outputs": [
    {
     "name": "stderr",
     "output_type": "stream",
     "text": [
      "R[write to console]: boundary (singular) fit: see help('isSingular')\n",
      "\n"
     ]
    },
    {
     "name": "stdout",
     "output_type": "stream",
     "text": [
      "Linear mixed model fit by REML ['lmerMod']\n",
      "Formula: math ~ 1 + (1 | schoolID)\n",
      "   Data: PISA_Data_R\n",
      "\n",
      "REML criterion at convergence: 131.9\n",
      "\n",
      "Scaled residuals: \n",
      "    Min      1Q  Median      3Q     Max \n",
      "-1.9774 -0.8947  0.1654  0.7293  1.6315 \n",
      "\n",
      "Random effects:\n",
      " Groups   Name        Variance Std.Dev.\n",
      " schoolID (Intercept) 0.000    0.000   \n",
      " Residual             4.914    2.217   \n",
      "Number of obs: 30, groups:  schoolID, 4\n",
      "\n",
      "Fixed effects:\n",
      "            Estimate Std. Error t value\n",
      "(Intercept)   6.3833     0.4047   15.77\n",
      "optimizer (nloptwrap) convergence code: 0 (OK)\n",
      "boundary (singular) fit: see help('isSingular')\n",
      "\n"
     ]
    }
   ],
   "source": [
    "%%R \n",
    "\n",
    "print(summary(lmer (math ~ 1 + (1|schoolID)  , PISA_Data_R)))"
   ]
  },
  {
   "cell_type": "code",
   "execution_count": 53,
   "metadata": {},
   "outputs": [],
   "source": [
    "data = sm.datasets.get_rdataset(\"dietox\", \"geepack\").data"
   ]
  },
  {
   "cell_type": "code",
   "execution_count": 63,
   "metadata": {},
   "outputs": [
    {
     "name": "stdout",
     "output_type": "stream",
     "text": [
      "        Mixed Linear Model Regression Results\n",
      "======================================================\n",
      "Model:            MixedLM Dependent Variable: math    \n",
      "No. Observations: 30      Method:             REML    \n",
      "No. Groups:       4       Scale:              4.7855  \n",
      "Min. group size:  6       Log-Likelihood:     -66.0385\n",
      "Max. group size:  9       Converged:          No      \n",
      "Mean group size:  7.5                                 \n",
      "------------------------------------------------------\n",
      "             Coef. Std.Err.   z    P>|z| [0.025 0.975]\n",
      "------------------------------------------------------\n",
      "Intercept    6.360    0.482 13.204 0.000  5.416  7.303\n",
      "Group Var    0.247    0.638                           \n",
      "======================================================\n",
      "\n"
     ]
    },
    {
     "name": "stderr",
     "output_type": "stream",
     "text": [
      "c:\\Users\\Usuario\\AppData\\Local\\R-MINI~1\\lib\\site-packages\\statsmodels\\base\\model.py:604: ConvergenceWarning: Maximum Likelihood optimization failed to converge. Check mle_retvals\n",
      "  warnings.warn(\"Maximum Likelihood optimization failed to \"\n",
      "c:\\Users\\Usuario\\AppData\\Local\\R-MINI~1\\lib\\site-packages\\statsmodels\\regression\\mixed_linear_model.py:2200: ConvergenceWarning: Retrying MixedLM optimization with lbfgs\n",
      "  warnings.warn(\n",
      "c:\\Users\\Usuario\\AppData\\Local\\R-MINI~1\\lib\\site-packages\\statsmodels\\base\\model.py:604: ConvergenceWarning: Maximum Likelihood optimization failed to converge. Check mle_retvals\n",
      "  warnings.warn(\"Maximum Likelihood optimization failed to \"\n",
      "c:\\Users\\Usuario\\AppData\\Local\\R-MINI~1\\lib\\site-packages\\statsmodels\\regression\\mixed_linear_model.py:2200: ConvergenceWarning: Retrying MixedLM optimization with cg\n",
      "  warnings.warn(\n",
      "c:\\Users\\Usuario\\AppData\\Local\\R-MINI~1\\lib\\site-packages\\statsmodels\\base\\model.py:604: ConvergenceWarning: Maximum Likelihood optimization failed to converge. Check mle_retvals\n",
      "  warnings.warn(\"Maximum Likelihood optimization failed to \"\n",
      "c:\\Users\\Usuario\\AppData\\Local\\R-MINI~1\\lib\\site-packages\\statsmodels\\regression\\mixed_linear_model.py:2206: ConvergenceWarning: MixedLM optimization failed, trying a different optimizer may help.\n",
      "  warnings.warn(msg, ConvergenceWarning)\n",
      "c:\\Users\\Usuario\\AppData\\Local\\R-MINI~1\\lib\\site-packages\\statsmodels\\regression\\mixed_linear_model.py:2218: ConvergenceWarning: Gradient optimization failed, |grad| = 1.157629\n",
      "  warnings.warn(msg, ConvergenceWarning)\n"
     ]
    }
   ],
   "source": [
    "model = smf.mixedlm(\"math ~ 1\", PISA_Data_py, groups=PISA_Data_py[\"schoolID\"])\n",
    "model = model.fit()\n",
    "print(model.summary())"
   ]
  },
  {
   "cell_type": "markdown",
   "metadata": {},
   "source": []
  },
  {
   "cell_type": "code",
   "execution_count": 59,
   "metadata": {},
   "outputs": [
    {
     "name": "stdout",
     "output_type": "stream",
     "text": [
      "Linear mixed model fit by REML ['lmerMod']\n",
      "Formula: math ~ 1 + eco + (1 | schoolID)\n",
      "   Data: PISA_Data_R\n",
      "\n",
      "REML criterion at convergence: 129.9\n",
      "\n",
      "Scaled residuals: \n",
      "     Min       1Q   Median       3Q      Max \n",
      "-1.66727 -0.68751  0.06107  0.84667  1.85492 \n",
      "\n",
      "Random effects:\n",
      " Groups   Name        Variance Std.Dev.\n",
      " schoolID (Intercept) 0.5377   0.7333  \n",
      " Residual             4.5099   2.1237  \n",
      "Number of obs: 30, groups:  schoolID, 4\n",
      "\n",
      "Fixed effects:\n",
      "            Estimate Std. Error t value\n",
      "(Intercept)   6.9876     0.6902   10.12\n",
      "eco          -0.7296     0.4931   -1.48\n",
      "\n",
      "Correlation of Fixed Effects:\n",
      "    (Intr)\n",
      "eco -0.632\n"
     ]
    }
   ],
   "source": [
    "%%R \n",
    "\n",
    "print(summary(lmer (math ~ 1 + eco + (1|schoolID)  , PISA_Data_R)))"
   ]
  },
  {
   "cell_type": "code",
   "execution_count": 62,
   "metadata": {},
   "outputs": [
    {
     "name": "stdout",
     "output_type": "stream",
     "text": [
      "        Mixed Linear Model Regression Results\n",
      "======================================================\n",
      "Model:            MixedLM Dependent Variable: math    \n",
      "No. Observations: 30      Method:             REML    \n",
      "No. Groups:       4       Scale:              4.5099  \n",
      "Min. group size:  6       Log-Likelihood:     -64.9294\n",
      "Max. group size:  9       Converged:          Yes     \n",
      "Mean group size:  7.5                                 \n",
      "------------------------------------------------------\n",
      "            Coef.  Std.Err.   z    P>|z| [0.025 0.975]\n",
      "------------------------------------------------------\n",
      "Intercept    6.988    0.708  9.875 0.000  5.601  8.375\n",
      "eco         -0.730    0.549 -1.329 0.184 -1.805  0.346\n",
      "Group Var    0.538    0.514                           \n",
      "======================================================\n",
      "\n"
     ]
    }
   ],
   "source": [
    "model = smf.mixedlm(\"math ~ 1 + eco\", PISA_Data_py, groups=PISA_Data_py[\"schoolID\"] )\n",
    "model = model.fit()\n",
    "print(model.summary())"
   ]
  },
  {
   "cell_type": "code",
   "execution_count": 60,
   "metadata": {},
   "outputs": [
    {
     "ename": "PatsyError",
     "evalue": "Error evaluating factor: NameError: name 'Time' is not defined\n    ~Time\n     ^^^^",
     "output_type": "error",
     "traceback": [
      "\u001b[1;31m---------------------------------------------------------------------------\u001b[0m",
      "\u001b[1;31mNameError\u001b[0m                                 Traceback (most recent call last)",
      "File \u001b[1;32mc:\\Users\\Usuario\\AppData\\Local\\R-MINI~1\\lib\\site-packages\\patsy\\compat.py:36\u001b[0m, in \u001b[0;36mcall_and_wrap_exc\u001b[1;34m(msg, origin, f, *args, **kwargs)\u001b[0m\n\u001b[0;32m     35\u001b[0m \u001b[39mtry\u001b[39;00m:\n\u001b[1;32m---> 36\u001b[0m     \u001b[39mreturn\u001b[39;00m f(\u001b[39m*\u001b[39margs, \u001b[39m*\u001b[39m\u001b[39m*\u001b[39mkwargs)\n\u001b[0;32m     37\u001b[0m \u001b[39mexcept\u001b[39;00m \u001b[39mException\u001b[39;00m \u001b[39mas\u001b[39;00m e:\n",
      "File \u001b[1;32mc:\\Users\\Usuario\\AppData\\Local\\R-MINI~1\\lib\\site-packages\\patsy\\eval.py:165\u001b[0m, in \u001b[0;36mEvalEnvironment.eval\u001b[1;34m(self, expr, source_name, inner_namespace)\u001b[0m\n\u001b[0;32m    164\u001b[0m code \u001b[39m=\u001b[39m \u001b[39mcompile\u001b[39m(expr, source_name, \u001b[39m\"\u001b[39m\u001b[39meval\u001b[39m\u001b[39m\"\u001b[39m, \u001b[39mself\u001b[39m\u001b[39m.\u001b[39mflags, \u001b[39mFalse\u001b[39;00m)\n\u001b[1;32m--> 165\u001b[0m \u001b[39mreturn\u001b[39;00m \u001b[39meval\u001b[39;49m(code, {}, VarLookupDict([inner_namespace]\n\u001b[0;32m    166\u001b[0m                                     \u001b[39m+\u001b[39;49m \u001b[39mself\u001b[39;49m\u001b[39m.\u001b[39;49m_namespaces))\n",
      "File \u001b[1;32m<string>:1\u001b[0m, in \u001b[0;36m<module>\u001b[1;34m\u001b[0m\n",
      "\u001b[1;31mNameError\u001b[0m: name 'Time' is not defined",
      "\nThe above exception was the direct cause of the following exception:\n",
      "\u001b[1;31mPatsyError\u001b[0m                                Traceback (most recent call last)",
      "\u001b[1;32mc:\\Users\\Usuario\\Documents\\fabio\\Fabio\\BLOG\\Estadistica4all - WEB\\Notebooks\\Mixed Linear Regression\\Mixed Linear Regression.ipynb Celda 50\u001b[0m in \u001b[0;36m<cell line: 1>\u001b[1;34m()\u001b[0m\n\u001b[1;32m----> <a href='vscode-notebook-cell:/c%3A/Users/Usuario/Documents/fabio/Fabio/BLOG/Estadistica4all%20-%20WEB/Notebooks/Mixed%20Linear%20Regression/Mixed%20Linear%20Regression.ipynb#ch0000065?line=0'>1</a>\u001b[0m model \u001b[39m=\u001b[39m smf\u001b[39m.\u001b[39;49mmixedlm(\u001b[39m\"\u001b[39;49m\u001b[39mmath ~ 1\u001b[39;49m\u001b[39m\"\u001b[39;49m, PISA_Data_py, groups\u001b[39m=\u001b[39;49mPISA_Data_py[\u001b[39m\"\u001b[39;49m\u001b[39mschoolID\u001b[39;49m\u001b[39m\"\u001b[39;49m] , re_formula\u001b[39m=\u001b[39;49m\u001b[39m\"\u001b[39;49m\u001b[39m~Time\u001b[39;49m\u001b[39m\"\u001b[39;49m)\n\u001b[0;32m      <a href='vscode-notebook-cell:/c%3A/Users/Usuario/Documents/fabio/Fabio/BLOG/Estadistica4all%20-%20WEB/Notebooks/Mixed%20Linear%20Regression/Mixed%20Linear%20Regression.ipynb#ch0000065?line=1'>2</a>\u001b[0m model \u001b[39m=\u001b[39m model\u001b[39m.\u001b[39mfit(method\u001b[39m=\u001b[39m[\u001b[39m\"\u001b[39m\u001b[39mlbfgs\u001b[39m\u001b[39m\"\u001b[39m])\n\u001b[0;32m      <a href='vscode-notebook-cell:/c%3A/Users/Usuario/Documents/fabio/Fabio/BLOG/Estadistica4all%20-%20WEB/Notebooks/Mixed%20Linear%20Regression/Mixed%20Linear%20Regression.ipynb#ch0000065?line=2'>3</a>\u001b[0m \u001b[39mprint\u001b[39m(model\u001b[39m.\u001b[39msummary())\n",
      "File \u001b[1;32mc:\\Users\\Usuario\\AppData\\Local\\R-MINI~1\\lib\\site-packages\\statsmodels\\regression\\mixed_linear_model.py:992\u001b[0m, in \u001b[0;36mMixedLM.from_formula\u001b[1;34m(cls, formula, data, re_formula, vc_formula, subset, use_sparse, missing, *args, **kwargs)\u001b[0m\n\u001b[0;32m    990\u001b[0m     \u001b[39mfrom\u001b[39;00m \u001b[39mpatsy\u001b[39;00m \u001b[39mimport\u001b[39;00m EvalEnvironment\n\u001b[0;32m    991\u001b[0m     eval_env \u001b[39m=\u001b[39m EvalEnvironment({})\n\u001b[1;32m--> 992\u001b[0m exog_re \u001b[39m=\u001b[39m patsy\u001b[39m.\u001b[39;49mdmatrix(re_formula, data, eval_env\u001b[39m=\u001b[39;49meval_env)\n\u001b[0;32m    993\u001b[0m exog_re_names \u001b[39m=\u001b[39m exog_re\u001b[39m.\u001b[39mdesign_info\u001b[39m.\u001b[39mcolumn_names\n\u001b[0;32m    994\u001b[0m exog_re_names \u001b[39m=\u001b[39m [x\u001b[39m.\u001b[39mreplace(\u001b[39m\"\u001b[39m\u001b[39mIntercept\u001b[39m\u001b[39m\"\u001b[39m, group_name)\n\u001b[0;32m    995\u001b[0m                  \u001b[39mfor\u001b[39;00m x \u001b[39min\u001b[39;00m exog_re_names]\n",
      "File \u001b[1;32mc:\\Users\\Usuario\\AppData\\Local\\R-MINI~1\\lib\\site-packages\\patsy\\highlevel.py:290\u001b[0m, in \u001b[0;36mdmatrix\u001b[1;34m(formula_like, data, eval_env, NA_action, return_type)\u001b[0m\n\u001b[0;32m    227\u001b[0m \u001b[39m\"\"\"Construct a single design matrix given a formula_like and data.\u001b[39;00m\n\u001b[0;32m    228\u001b[0m \n\u001b[0;32m    229\u001b[0m \u001b[39m:arg formula_like: An object that can be used to construct a design\u001b[39;00m\n\u001b[1;32m   (...)\u001b[0m\n\u001b[0;32m    287\u001b[0m \u001b[39m   The ``NA_action`` argument.\u001b[39;00m\n\u001b[0;32m    288\u001b[0m \u001b[39m\"\"\"\u001b[39;00m\n\u001b[0;32m    289\u001b[0m eval_env \u001b[39m=\u001b[39m EvalEnvironment\u001b[39m.\u001b[39mcapture(eval_env, reference\u001b[39m=\u001b[39m\u001b[39m1\u001b[39m)\n\u001b[1;32m--> 290\u001b[0m (lhs, rhs) \u001b[39m=\u001b[39m _do_highlevel_design(formula_like, data, eval_env,\n\u001b[0;32m    291\u001b[0m                                   NA_action, return_type)\n\u001b[0;32m    292\u001b[0m \u001b[39mif\u001b[39;00m lhs\u001b[39m.\u001b[39mshape[\u001b[39m1\u001b[39m] \u001b[39m!=\u001b[39m \u001b[39m0\u001b[39m:\n\u001b[0;32m    293\u001b[0m     \u001b[39mraise\u001b[39;00m PatsyError(\u001b[39m\"\u001b[39m\u001b[39mencountered outcome variables for a model \u001b[39m\u001b[39m\"\u001b[39m\n\u001b[0;32m    294\u001b[0m                         \u001b[39m\"\u001b[39m\u001b[39mthat does not expect them\u001b[39m\u001b[39m\"\u001b[39m)\n",
      "File \u001b[1;32mc:\\Users\\Usuario\\AppData\\Local\\R-MINI~1\\lib\\site-packages\\patsy\\highlevel.py:164\u001b[0m, in \u001b[0;36m_do_highlevel_design\u001b[1;34m(formula_like, data, eval_env, NA_action, return_type)\u001b[0m\n\u001b[0;32m    162\u001b[0m \u001b[39mdef\u001b[39;00m \u001b[39mdata_iter_maker\u001b[39m():\n\u001b[0;32m    163\u001b[0m     \u001b[39mreturn\u001b[39;00m \u001b[39miter\u001b[39m([data])\n\u001b[1;32m--> 164\u001b[0m design_infos \u001b[39m=\u001b[39m _try_incr_builders(formula_like, data_iter_maker, eval_env,\n\u001b[0;32m    165\u001b[0m                                   NA_action)\n\u001b[0;32m    166\u001b[0m \u001b[39mif\u001b[39;00m design_infos \u001b[39mis\u001b[39;00m \u001b[39mnot\u001b[39;00m \u001b[39mNone\u001b[39;00m:\n\u001b[0;32m    167\u001b[0m     \u001b[39mreturn\u001b[39;00m build_design_matrices(design_infos, data,\n\u001b[0;32m    168\u001b[0m                                  NA_action\u001b[39m=\u001b[39mNA_action,\n\u001b[0;32m    169\u001b[0m                                  return_type\u001b[39m=\u001b[39mreturn_type)\n",
      "File \u001b[1;32mc:\\Users\\Usuario\\AppData\\Local\\R-MINI~1\\lib\\site-packages\\patsy\\highlevel.py:66\u001b[0m, in \u001b[0;36m_try_incr_builders\u001b[1;34m(formula_like, data_iter_maker, eval_env, NA_action)\u001b[0m\n\u001b[0;32m     64\u001b[0m \u001b[39mif\u001b[39;00m \u001b[39misinstance\u001b[39m(formula_like, ModelDesc):\n\u001b[0;32m     65\u001b[0m     \u001b[39massert\u001b[39;00m \u001b[39misinstance\u001b[39m(eval_env, EvalEnvironment)\n\u001b[1;32m---> 66\u001b[0m     \u001b[39mreturn\u001b[39;00m design_matrix_builders([formula_like\u001b[39m.\u001b[39;49mlhs_termlist,\n\u001b[0;32m     67\u001b[0m                                    formula_like\u001b[39m.\u001b[39;49mrhs_termlist],\n\u001b[0;32m     68\u001b[0m                                   data_iter_maker,\n\u001b[0;32m     69\u001b[0m                                   eval_env,\n\u001b[0;32m     70\u001b[0m                                   NA_action)\n\u001b[0;32m     71\u001b[0m \u001b[39melse\u001b[39;00m:\n\u001b[0;32m     72\u001b[0m     \u001b[39mreturn\u001b[39;00m \u001b[39mNone\u001b[39;00m\n",
      "File \u001b[1;32mc:\\Users\\Usuario\\AppData\\Local\\R-MINI~1\\lib\\site-packages\\patsy\\build.py:693\u001b[0m, in \u001b[0;36mdesign_matrix_builders\u001b[1;34m(termlists, data_iter_maker, eval_env, NA_action)\u001b[0m\n\u001b[0;32m    689\u001b[0m factor_states \u001b[39m=\u001b[39m _factors_memorize(all_factors, data_iter_maker, eval_env)\n\u001b[0;32m    690\u001b[0m \u001b[39m# Now all the factors have working eval methods, so we can evaluate them\u001b[39;00m\n\u001b[0;32m    691\u001b[0m \u001b[39m# on some data to find out what type of data they return.\u001b[39;00m\n\u001b[0;32m    692\u001b[0m (num_column_counts,\n\u001b[1;32m--> 693\u001b[0m  cat_levels_contrasts) \u001b[39m=\u001b[39m _examine_factor_types(all_factors,\n\u001b[0;32m    694\u001b[0m                                                factor_states,\n\u001b[0;32m    695\u001b[0m                                                data_iter_maker,\n\u001b[0;32m    696\u001b[0m                                                NA_action)\n\u001b[0;32m    697\u001b[0m \u001b[39m# Now we need the factor infos, which encapsulate the knowledge of\u001b[39;00m\n\u001b[0;32m    698\u001b[0m \u001b[39m# how to turn any given factor into a chunk of data:\u001b[39;00m\n\u001b[0;32m    699\u001b[0m factor_infos \u001b[39m=\u001b[39m {}\n",
      "File \u001b[1;32mc:\\Users\\Usuario\\AppData\\Local\\R-MINI~1\\lib\\site-packages\\patsy\\build.py:443\u001b[0m, in \u001b[0;36m_examine_factor_types\u001b[1;34m(factors, factor_states, data_iter_maker, NA_action)\u001b[0m\n\u001b[0;32m    441\u001b[0m \u001b[39mfor\u001b[39;00m data \u001b[39min\u001b[39;00m data_iter_maker():\n\u001b[0;32m    442\u001b[0m     \u001b[39mfor\u001b[39;00m factor \u001b[39min\u001b[39;00m \u001b[39mlist\u001b[39m(examine_needed):\n\u001b[1;32m--> 443\u001b[0m         value \u001b[39m=\u001b[39m factor\u001b[39m.\u001b[39;49meval(factor_states[factor], data)\n\u001b[0;32m    444\u001b[0m         \u001b[39mif\u001b[39;00m factor \u001b[39min\u001b[39;00m cat_sniffers \u001b[39mor\u001b[39;00m guess_categorical(value):\n\u001b[0;32m    445\u001b[0m             \u001b[39mif\u001b[39;00m factor \u001b[39mnot\u001b[39;00m \u001b[39min\u001b[39;00m cat_sniffers:\n",
      "File \u001b[1;32mc:\\Users\\Usuario\\AppData\\Local\\R-MINI~1\\lib\\site-packages\\patsy\\eval.py:564\u001b[0m, in \u001b[0;36mEvalFactor.eval\u001b[1;34m(self, memorize_state, data)\u001b[0m\n\u001b[0;32m    563\u001b[0m \u001b[39mdef\u001b[39;00m \u001b[39meval\u001b[39m(\u001b[39mself\u001b[39m, memorize_state, data):\n\u001b[1;32m--> 564\u001b[0m     \u001b[39mreturn\u001b[39;00m \u001b[39mself\u001b[39;49m\u001b[39m.\u001b[39;49m_eval(memorize_state[\u001b[39m\"\u001b[39;49m\u001b[39meval_code\u001b[39;49m\u001b[39m\"\u001b[39;49m],\n\u001b[0;32m    565\u001b[0m                       memorize_state,\n\u001b[0;32m    566\u001b[0m                       data)\n",
      "File \u001b[1;32mc:\\Users\\Usuario\\AppData\\Local\\R-MINI~1\\lib\\site-packages\\patsy\\eval.py:547\u001b[0m, in \u001b[0;36mEvalFactor._eval\u001b[1;34m(self, code, memorize_state, data)\u001b[0m\n\u001b[0;32m    545\u001b[0m \u001b[39mdef\u001b[39;00m \u001b[39m_eval\u001b[39m(\u001b[39mself\u001b[39m, code, memorize_state, data):\n\u001b[0;32m    546\u001b[0m     inner_namespace \u001b[39m=\u001b[39m VarLookupDict([data, memorize_state[\u001b[39m\"\u001b[39m\u001b[39mtransforms\u001b[39m\u001b[39m\"\u001b[39m]])\n\u001b[1;32m--> 547\u001b[0m     \u001b[39mreturn\u001b[39;00m call_and_wrap_exc(\u001b[39m\"\u001b[39;49m\u001b[39mError evaluating factor\u001b[39;49m\u001b[39m\"\u001b[39;49m,\n\u001b[0;32m    548\u001b[0m                              \u001b[39mself\u001b[39;49m,\n\u001b[0;32m    549\u001b[0m                              memorize_state[\u001b[39m\"\u001b[39;49m\u001b[39meval_env\u001b[39;49m\u001b[39m\"\u001b[39;49m]\u001b[39m.\u001b[39;49meval,\n\u001b[0;32m    550\u001b[0m                              code,\n\u001b[0;32m    551\u001b[0m                              inner_namespace\u001b[39m=\u001b[39;49minner_namespace)\n",
      "File \u001b[1;32mc:\\Users\\Usuario\\AppData\\Local\\R-MINI~1\\lib\\site-packages\\patsy\\compat.py:43\u001b[0m, in \u001b[0;36mcall_and_wrap_exc\u001b[1;34m(msg, origin, f, *args, **kwargs)\u001b[0m\n\u001b[0;32m     39\u001b[0m     new_exc \u001b[39m=\u001b[39m PatsyError(\u001b[39m\"\u001b[39m\u001b[39m%s\u001b[39;00m\u001b[39m: \u001b[39m\u001b[39m%s\u001b[39;00m\u001b[39m: \u001b[39m\u001b[39m%s\u001b[39;00m\u001b[39m\"\u001b[39m\n\u001b[0;32m     40\u001b[0m                          \u001b[39m%\u001b[39m (msg, e\u001b[39m.\u001b[39m\u001b[39m__class__\u001b[39m\u001b[39m.\u001b[39m\u001b[39m__name__\u001b[39m, e),\n\u001b[0;32m     41\u001b[0m                          origin)\n\u001b[0;32m     42\u001b[0m     \u001b[39m# Use 'exec' to hide this syntax from the Python 2 parser:\u001b[39;00m\n\u001b[1;32m---> 43\u001b[0m     exec(\u001b[39m\"\u001b[39;49m\u001b[39mraise new_exc from e\u001b[39;49m\u001b[39m\"\u001b[39;49m)\n\u001b[0;32m     44\u001b[0m \u001b[39melse\u001b[39;00m:\n\u001b[0;32m     45\u001b[0m     \u001b[39m# In python 2, we just let the original exception escape -- better\u001b[39;00m\n\u001b[0;32m     46\u001b[0m     \u001b[39m# than destroying the traceback. But if it's a PatsyError, we can\u001b[39;00m\n\u001b[0;32m     47\u001b[0m     \u001b[39m# at least set the origin properly.\u001b[39;00m\n\u001b[0;32m     48\u001b[0m     \u001b[39mif\u001b[39;00m \u001b[39misinstance\u001b[39m(e, PatsyError):\n",
      "File \u001b[1;32m<string>:1\u001b[0m, in \u001b[0;36m<module>\u001b[1;34m\u001b[0m\n",
      "\u001b[1;31mPatsyError\u001b[0m: Error evaluating factor: NameError: name 'Time' is not defined\n    ~Time\n     ^^^^"
     ]
    }
   ],
   "source": [
    "model = smf.mixedlm(\"math ~ 1\", PISA_Data_py, groups=PISA_Data_py[\"schoolID\"] , re_formula=\"~ eco\")\n",
    "model = model.fit(method=[\"lbfgs\"])\n",
    "print(model.summary())"
   ]
  },
  {
   "cell_type": "code",
   "execution_count": 44,
   "metadata": {},
   "outputs": [
    {
     "name": "stdout",
     "output_type": "stream",
     "text": [
      "Linear mixed model fit by REML ['lmerMod']\n",
      "Formula: math ~ 1 + eco + (1 + eco | schoolID)\n",
      "   Data: PISA_Data_R\n",
      "REML criterion at convergence: 129.2323\n",
      "Random effects:\n",
      " Groups   Name        Std.Dev. Corr \n",
      " schoolID (Intercept) 0.8219        \n",
      "          eco         0.8802   -0.71\n",
      " Residual             2.0535        \n",
      "Number of obs: 30, groups:  schoolID, 4\n",
      "Fixed Effects:\n",
      "(Intercept)          eco  \n",
      "     6.9707      -0.8488  \n"
     ]
    }
   ],
   "source": [
    "%%R \n",
    "\n",
    "lmer (math ~ 1 + eco +  (1  + eco  |schoolID)  , PISA_Data_R)"
   ]
  },
  {
   "cell_type": "code",
   "execution_count": 45,
   "metadata": {},
   "outputs": [
    {
     "name": "stdout",
     "output_type": "stream",
     "text": [
      "Linear mixed model fit by REML ['lmerMod']\n",
      "Formula: math ~ 1 + eco + (eco | schoolID)\n",
      "   Data: PISA_Data_R\n",
      "REML criterion at convergence: 129.2323\n",
      "Random effects:\n",
      " Groups   Name        Std.Dev. Corr \n",
      " schoolID (Intercept) 0.8219        \n",
      "          eco         0.8802   -0.71\n",
      " Residual             2.0535        \n",
      "Number of obs: 30, groups:  schoolID, 4\n",
      "Fixed Effects:\n",
      "(Intercept)          eco  \n",
      "     6.9707      -0.8488  \n"
     ]
    }
   ],
   "source": [
    "%%R \n",
    "\n",
    "lmer (math ~ 1 + eco +  ( eco  |schoolID)  , PISA_Data_R)"
   ]
  },
  {
   "cell_type": "code",
   "execution_count": 46,
   "metadata": {},
   "outputs": [
    {
     "name": "stderr",
     "output_type": "stream",
     "text": [
      "R[write to console]: boundary (singular) fit: see help('isSingular')\n",
      "\n"
     ]
    },
    {
     "name": "stdout",
     "output_type": "stream",
     "text": [
      "Linear mixed model fit by REML ['lmerMod']\n",
      "Formula: math ~ 1 + eco + read + (1 + read | schoolID)\n",
      "   Data: PISA_Data_R\n",
      "REML criterion at convergence: 122.6266\n",
      "Random effects:\n",
      " Groups   Name        Std.Dev. Corr \n",
      " schoolID (Intercept) 0.9604        \n",
      "          read        0.1401   -1.00\n",
      " Residual             1.8936        \n",
      "Number of obs: 30, groups:  schoolID, 4\n",
      "Fixed Effects:\n",
      "(Intercept)          eco         read  \n",
      "      6.121       -1.461        1.392  \n",
      "optimizer (nloptwrap) convergence code: 0 (OK) ; 0 optimizer warnings; 1 lme4 warnings \n"
     ]
    }
   ],
   "source": [
    "%%R \n",
    "\n",
    "lmer (math ~ 1 + eco + read + (1  + read  |schoolID)  , PISA_Data_R)"
   ]
  },
  {
   "cell_type": "code",
   "execution_count": 49,
   "metadata": {},
   "outputs": [
    {
     "name": "stdout",
     "output_type": "stream",
     "text": [
      "Linear mixed model fit by REML ['lmerMod']\n",
      "Formula: math ~ 1 + eco + school_eco + (1 + eco | schoolID)\n",
      "   Data: PISA_Data_R\n",
      "REML criterion at convergence: 126.6414\n",
      "Random effects:\n",
      " Groups   Name        Std.Dev. Corr \n",
      " schoolID (Intercept) 0.7946        \n",
      "          eco         0.9465   -0.97\n",
      " Residual             2.0465        \n",
      "Number of obs: 30, groups:  schoolID, 4\n",
      "Fixed Effects:\n",
      "(Intercept)          eco   school_eco  \n",
      "     7.6208      -0.6610      -0.7821  \n"
     ]
    }
   ],
   "source": [
    "%%R \n",
    "\n",
    "lmer (math ~ 1 + eco + school_eco + (1  + eco  |schoolID)  , PISA_Data_R)"
   ]
  },
  {
   "cell_type": "code",
   "execution_count": 51,
   "metadata": {},
   "outputs": [
    {
     "name": "stderr",
     "output_type": "stream",
     "text": [
      "R[write to console]: boundary (singular) fit: see help('isSingular')\n",
      "\n"
     ]
    },
    {
     "name": "stdout",
     "output_type": "stream",
     "text": [
      "Linear mixed model fit by REML ['lmerMod']\n",
      "Formula: math ~ 1 + eco + read + eco:read + school_eco + (1 + eco | schoolID)\n",
      "   Data: PISA_Data_R\n",
      "REML criterion at convergence: 119.3706\n",
      "Random effects:\n",
      " Groups   Name        Std.Dev. Corr\n",
      " schoolID (Intercept) 0.4556       \n",
      "          eco         0.2176   1.00\n",
      " Residual             1.9296       \n",
      "Number of obs: 30, groups:  schoolID, 4\n",
      "Fixed Effects:\n",
      "(Intercept)          eco         read   school_eco     eco:read  \n",
      "    6.70112     -1.31125      1.39496     -0.66273     -0.05561  \n",
      "optimizer (nloptwrap) convergence code: 0 (OK) ; 0 optimizer warnings; 1 lme4 warnings \n"
     ]
    }
   ],
   "source": [
    "%%R \n",
    "\n",
    "lmer (math ~ 1 + eco + read + eco:read + school_eco + (1  + eco  |schoolID)  , PISA_Data_R)"
   ]
  }
 ],
 "metadata": {
  "kernelspec": {
   "display_name": "Python 3.9.12",
   "language": "python",
   "name": "python3"
  },
  "language_info": {
   "codemirror_mode": {
    "name": "ipython",
    "version": 3
   },
   "file_extension": ".py",
   "mimetype": "text/x-python",
   "name": "python",
   "nbconvert_exporter": "python",
   "pygments_lexer": "ipython3",
   "version": "3.9.12"
  },
  "orig_nbformat": 4,
  "vscode": {
   "interpreter": {
    "hash": "7631d2f67dc5c0d81c934cd816f64da3a3e19087cae08f194906cf70954a9de3"
   }
  }
 },
 "nbformat": 4,
 "nbformat_minor": 2
}
