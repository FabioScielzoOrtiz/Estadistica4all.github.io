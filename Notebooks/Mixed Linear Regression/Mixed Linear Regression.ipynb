{
 "cells": [
  {
   "cell_type": "markdown",
   "metadata": {},
   "source": []
  },
  {
   "cell_type": "markdown",
   "metadata": {},
   "source": [
    "**Multinivel Models**\n",
    "\n",
    "Level 2: Hospitals $(i)$  grupos\n",
    "\n",
    "Level 1: Patients $(j)$  individuos"
   ]
  },
  {
   "cell_type": "markdown",
   "metadata": {},
   "source": []
  },
  {
   "cell_type": "markdown",
   "metadata": {},
   "source": [
    "**Longitudinal Models**\n",
    "\n",
    "Level 2: Estudiantes $(i)$  individuos\n",
    "\n",
    "Level 1: Medidas Repetidas $(j)$  medidas repetidas"
   ]
  },
  {
   "cell_type": "markdown",
   "metadata": {},
   "source": []
  },
  {
   "cell_type": "markdown",
   "metadata": {},
   "source": [
    "### Mixed Simple Linear Regression"
   ]
  },
  {
   "cell_type": "markdown",
   "metadata": {},
   "source": [
    "There are four cases:"
   ]
  },
  {
   "cell_type": "markdown",
   "metadata": {},
   "source": [
    "<img src=\"mix.jpg\" class=\"center\" width=\"300\" height=\"300\">"
   ]
  },
  {
   "cell_type": "markdown",
   "metadata": {},
   "source": [
    "x_{ij} = valor de X para el individuo j del grupo i o para la medida repetida j del individuo i"
   ]
  },
  {
   "cell_type": "markdown",
   "metadata": {},
   "source": [
    "**Model 1:** $\\hspace{0.1cm}$  Simple Linear Regression with **igual** *ordenada en el origen* $\\beta_{0i}$ y *pendiente* $\\beta_{1i}$ para cada   $i$ \n",
    "\n",
    "*Level 1 :* $\\hspace{0.2cm} y_{ij} = \\beta_{0i} + \\beta_{1i} \\cdot x_{ij} + \\varepsilon_{ij}$  $\\hspace{0.25cm}(j)$\n",
    "\n",
    "*Level 2:* $\\hspace{0.2cm} \\beta_{0i} = \\beta_0 \\hspace{0.2cm}, \\hspace{0.2cm}$  $\\beta_{1i} = \\beta_1$ $\\hspace{0.25cm}(i)$\n",
    "\n",
    "*Final Model:* $\\hspace{0.2cm} y_{ij} = \\beta_{0} + \\beta_{1} \\cdot x_{ij} + \\varepsilon_{ij}$  $\\hspace{0.1cm}, \\hspace{0.2cm} \\varepsilon_{ij} \\sim N(0, \\sigma^2)$"
   ]
  },
  {
   "cell_type": "markdown",
   "metadata": {},
   "source": []
  },
  {
   "cell_type": "markdown",
   "metadata": {},
   "source": [
    "**Model 2:** $\\hspace{0.1cm}$  Simple Linear Regression with **distinta** *ordenada en el origen* $\\beta_{0i}$ , **igual** *pendiente* $\\beta_{1i}$ para cada   $i$ \n",
    "\n",
    "*Level 1:* $\\hspace{0.2cm} y_{ij} = \\beta_{0i} + \\beta_{1i} \\cdot x_{ij} + \\varepsilon_{ij}$  $\\hspace{0.25cm}(j)$\n",
    "\n",
    "*Level 2:* $\\hspace{0.2cm} \\beta_{0i} = \\beta_0 + u_i$  $\\hspace{0.25cm}(i)$\n",
    "\n",
    "  $\\hspace{1.25cm} \\beta_{1i} = \\beta_1$\n",
    "\n",
    "*Final Model:* $\\hspace{0.2cm} y_{ij} = \\beta_{0} + \\beta_{1} \\cdot x_{ij} + \\varepsilon_{ij} + u_i$  $\\hspace{0.1cm}, \\hspace{0.2cm} \\varepsilon_{ij} \\sim N(0, \\sigma^2)$ $\\hspace{0.1cm}, \\hspace{0.2cm} u_{i} \\sim N(0, \\sigma_u^2)$"
   ]
  },
  {
   "cell_type": "markdown",
   "metadata": {},
   "source": []
  },
  {
   "cell_type": "markdown",
   "metadata": {},
   "source": [
    "**Model 3:** $\\hspace{0.1cm}$  Simple Linear Regression with **igual** *ordenada en el origen* $\\beta_{0i}$ , **distinta** *pendiente* $\\beta_{1i}$ para cada   $i$ \n",
    "\n",
    "*Level 1:* $\\hspace{0.2cm} y_{ij} = \\beta_{0i} + \\beta_{1i} \\cdot x_{ij} + \\varepsilon_{ij}$  $\\hspace{0.25cm}(j)$\n",
    "\n",
    "*Level 2:* $\\hspace{0.3cm} \\beta_{0i} = \\beta_0 $  $\\hspace{1cm}(i)$\n",
    "\n",
    "  $\\hspace{1.25cm} \\beta_{1i} = \\beta_1 + v_i$\n",
    "\n",
    "*Final Model:* $\\hspace{0.2cm} y_{ij} = \\beta_{0} + (\\beta_1 + v_i) \\cdot x_{ij} + \\varepsilon_{ij} = \\beta_{0} + \\beta_1\\cdot x_{ij} + v_i \\cdot x_{ij} + \\varepsilon_{ij}   $  $\\hspace{0.1cm}, \\hspace{0.2cm} \\varepsilon_{ij} \\sim N(0, \\sigma^2)$  $\\hspace{0.1cm}, \\hspace{0.2cm} v_{i} \\sim N(0, \\sigma_v^2)$"
   ]
  },
  {
   "cell_type": "markdown",
   "metadata": {},
   "source": []
  },
  {
   "cell_type": "markdown",
   "metadata": {},
   "source": [
    "**Model 4:** $\\hspace{0.1cm}$  Simple Linear Regression with **distinta** *ordenada en el origen* $\\beta_{0i}$ , **distinta** *pendiente* $\\beta_{1i}$ para cada   $i$ \n",
    "\n",
    "*Level 1:* $\\hspace{0.2cm} y_{ij} = \\beta_{0i} + \\beta_{1i} \\cdot x_{ij} + \\varepsilon_{ij}$  $\\hspace{0.25cm}(j)$\n",
    "\n",
    "*Level 2:* $\\hspace{0.3cm} \\beta_{0i} = \\beta_0 + u_i $  $\\hspace{1cm}(i)$\n",
    "\n",
    "  $\\hspace{1.25cm} \\beta_{1i} = \\beta_1 + v_i$\n",
    "\n",
    "*Final Model:* $\\hspace{0.2cm} y_{ij} = \\beta_{0} + (\\beta_1 + v_i) \\cdot x_{ij} + \\varepsilon_{ij} + u_i = \\beta_{0} + \\beta_1\\cdot x_{ij} + v_i \\cdot x_{ij} + \\varepsilon_{ij} + u_i  $  $\\hspace{0.1cm}, \\hspace{0.2cm} \\varepsilon_{ij} \\sim N(0, \\sigma^2)$ $\\hspace{0.1cm}, \\hspace{0.2cm} u_{i} \\sim N(0, \\sigma_u^2)$ $\\hspace{0.1cm}, \\hspace{0.2cm} v_{i} \\sim N(0, \\sigma_v^2)$"
   ]
  },
  {
   "cell_type": "markdown",
   "metadata": {},
   "source": []
  },
  {
   "cell_type": "markdown",
   "metadata": {},
   "source": [
    "### Mixed Multiple Linear Regression"
   ]
  },
  {
   "cell_type": "markdown",
   "metadata": {},
   "source": [
    "In this case, there are too much cases, some of them are:"
   ]
  },
  {
   "cell_type": "markdown",
   "metadata": {},
   "source": [
    "Now we need three index:\n",
    "\n",
    "Level 2: i\n",
    "\n",
    "Level 1: j\n",
    "\n",
    "Predictor: r=1,...,p\n",
    "\n",
    "x_{ij, r} = valor de X_r para el individuo j del grupo i o valor de X_r en la medida repetida j del individuo i"
   ]
  },
  {
   "cell_type": "markdown",
   "metadata": {},
   "source": [
    "**Model 1:** $\\hspace{0.1cm}$  Multiple Linear Regression with **igual** *ordenada en el origen* $\\beta_{0i}$ y *pendientes* $\\beta_{1i}, \\beta_{2i},...,\\beta_{pi} $ para cada $i$ \n",
    "\n",
    "*Level 1 :* $\\hspace{0.2cm} y_{ij} = \\beta_{0i} + \\beta_{1i} \\cdot x_{ij, 1} + \\beta_{2i} \\cdot x_{ij, 2} +...+ \\beta_{pi} \\cdot x_{ij, p} + \\varepsilon_{ij}$  $\\hspace{0.25cm}(j)$\n",
    "\n",
    "*Level 2:* $\\hspace{0.2cm} \\beta_{0i} = \\beta_0 \\hspace{0.2cm}, \\hspace{0.2cm}$  $ \\beta_{2i} = \\beta_2 \\hspace{0.2cm}$  $, \\hspace{0.1cm} \\beta_{3i} = \\beta_3 \\hspace{0.2cm}, $ $\\dots$ $ ,\\hspace{0.2cm} \\beta_{pi} = \\beta_p$ $\\hspace{0.25cm}(i)$\n",
    "\n",
    "*Final Model:* $\\hspace{0.2cm} y_{ij} = \\beta_{0} + \\beta_{1} \\cdot x_{ij,1} + \\beta_{2} \\cdot x_{ij,2} + \\dots + \\beta_{p} \\cdot x_{ij,p} + \\varepsilon_{ij}$  $\\hspace{0.1cm}, \\hspace{0.2cm} \\varepsilon_{ij} \\sim N(0, \\sigma^2)$"
   ]
  },
  {
   "cell_type": "markdown",
   "metadata": {},
   "source": []
  },
  {
   "cell_type": "markdown",
   "metadata": {},
   "source": [
    "**Model 2:** $\\hspace{0.1cm}$  Multiple Linear Regression with **distinta** *ordenada en el origen* $\\beta_{0i}$ pero **iguales** *pendientes* $\\beta_{1i}, \\beta_{2i},...,\\beta_{pi} $ para cada $i$ \n",
    "\n",
    "*Level 1 :* $\\hspace{0.2cm} y_{ij} = \\beta_{0i} + \\beta_{1i} \\cdot x_{ij, 1} + \\beta_{2i} \\cdot x_{ij, 2} +...+ \\beta_{pi} \\cdot x_{ij, p} + \\varepsilon_{ij}$  $\\hspace{0.25cm}(j)$\n",
    "\n",
    "*Level 2:* $\\hspace{0.2cm} \\beta_{0i} = \\beta_0 + u_i \\hspace{0.2cm}, \\hspace{0.2cm}$  $ \\beta_{2i} = \\beta_2 \\hspace{0.2cm}$  $, \\hspace{0.1cm} \\beta_{3i} = \\beta_3 \\hspace{0.2cm}, $ $\\dots$ $ ,\\hspace{0.2cm} \\beta_{pi} = \\beta_p$ $\\hspace{0.25cm}(i)$\n",
    "\n",
    "*Final Model:* $\\hspace{0.2cm} y_{ij} = \\beta_{0} + \\beta_{1} \\cdot x_{ij,1} + \\beta_{2} \\cdot x_{ij,2} + \\dots + \\beta_{p} \\cdot x_{ij,p} + \\varepsilon_{ij} + u_i$  $\\hspace{0.1cm}, \\hspace{0.2cm} \\varepsilon_{ij} \\sim N(0, \\sigma^2)$ $\\hspace{0.1cm} , \\hspace{0.1cm}  u_i \\sim N(0, \\sigma_u^2)$"
   ]
  },
  {
   "cell_type": "markdown",
   "metadata": {},
   "source": []
  },
  {
   "cell_type": "markdown",
   "metadata": {},
   "source": [
    "**Model 3:** $\\hspace{0.1cm}$  Multiple Linear Regression with **igual** *ordenada en el origen* $\\beta_{0i}$ y **distinta** *pendiente* asociada al predictor $X_r$  pero **iguales** pendientes asociadas  al resto de predictores,  para cada $i$ \n",
    "\n",
    "*Level 1 :* $\\hspace{0.2cm} y_{ij} = \\beta_{0i} + \\beta_{1i} \\cdot x_{ij, 1} + \\beta_{2i} \\cdot x_{ij, 2} +...+ \\beta_{pi} \\cdot x_{ij, p} + \\varepsilon_{ij}$  $\\hspace{0.25cm}(j)$\n",
    "\n",
    "*Level 2:* $\\hspace{0.2cm} \\beta_{0i} = \\beta_0  \\hspace{0.2cm}, \\hspace{0.2cm}$  $ \\beta_{2i} = \\beta_2 \\hspace{0.2cm}$  $, \\dots ,\\hspace{0.1cm} \\beta_{ri} = \\beta_r  + u_i \\hspace{0.2cm}, $ $\\dots$ $ ,\\hspace{0.2cm} \\beta_{pi} = \\beta_p$ $\\hspace{0.25cm}(i)$\n",
    "\n",
    "*Final Model:* $\\hspace{0.2cm} y_{ij} = \\beta_{0} + \\beta_{1} \\cdot x_{ij,1} + \\dots + \\beta_{r} \\cdot x_{ij,r} + u_i \\cdot  x_{ij,r}  + \\dots + \\beta_{p} \\cdot x_{ij,p} + \\varepsilon_{ij} $  $\\hspace{0.1cm}, \\hspace{0.2cm} \\varepsilon_{ij} \\sim N(0, \\sigma^2)$ $\\hspace{0.1cm} , \\hspace{0.1cm}  u_i \\sim N(0, \\sigma_u^2)$"
   ]
  },
  {
   "cell_type": "markdown",
   "metadata": {},
   "source": []
  },
  {
   "cell_type": "markdown",
   "metadata": {},
   "source": [
    "**Model 4:** $\\hspace{0.1cm}$  Multiple Linear Regression with **igual** *ordenada en el origen* $\\beta_{0i}$ y **distintas** *pendientes* asociadas a los predictores $X_r$ y $X_h$  pero **iguales** pendientes asociadas  al resto de predictores,  para cada $i$ \n",
    "\n",
    "*Level 1 :* $\\hspace{0.2cm} y_{ij} = \\beta_{0i} + \\beta_{1i} \\cdot x_{ij, 1} + \\beta_{2i} \\cdot x_{ij, 2} +...+ \\beta_{pi} \\cdot x_{ij, p} + \\varepsilon_{ij}$  $\\hspace{0.25cm}(j)$\n",
    "\n",
    "*Level 2:* $\\hspace{0.2cm} \\beta_{0i} = \\beta_0  \\hspace{0.2cm}, \\hspace{0.2cm}$  $ \\beta_{2i} = \\beta_2 \\hspace{0.2cm}$  $, \\dots ,\\hspace{0.1cm} \\beta_{ri} = \\beta_r  + u_i \\hspace{0.2cm}, $ $\\hspace{0.1cm} \\beta_{hi} = \\beta_h  + v_i \\hspace{0.2cm}, $ $\\dots$ $ ,\\hspace{0.2cm} \\beta_{pi} = \\beta_p$ $\\hspace{0.25cm}(i)$\n",
    "\n",
    "*Final Model:* $\\hspace{0.2cm} y_{ij} = \\beta_{0} + \\beta_{1} \\cdot x_{ij,1} + \\dots + \\beta_{r} \\cdot x_{ij,r} + u_i \\cdot x_{ij,r} + \\beta_{h} \\cdot x_{ij,h} + v_i \\cdot x_{ij,h} + \\dots + \\beta_{p} \\cdot x_{ij,p} + \\varepsilon_{ij}$ $\\hspace{0.1cm}, \\hspace{0.2cm} \\varepsilon_{ij} \\sim N(0, \\sigma^2)$ $\\hspace{0.1cm} , \\hspace{0.1cm}  u_i \\sim N(0, \\sigma_u^2)$ $\\hspace{0.1cm} , \\hspace{0.1cm}  v_i \\sim N(0, \\sigma_v^2)$"
   ]
  },
  {
   "cell_type": "markdown",
   "metadata": {},
   "source": []
  },
  {
   "cell_type": "markdown",
   "metadata": {},
   "source": [
    "**Model 5:** $\\hspace{0.1cm}$  Multiple Linear Regression with **distinta** *ordenada en el origen* $\\beta_{0i}$ y **distintas** *pendientes* asociadas a los predictores $X_r$ y $X_h$  pero **iguales** pendientes asociadas  al resto de predictores,  para cada $i$ \n",
    "\n",
    "*Level 1 :* $\\hspace{0.2cm} y_{ij} = \\beta_{0i} + \\beta_{1i} \\cdot x_{ij, 1} + \\beta_{2i} \\cdot x_{ij, 2} +...+ \\beta_{pi} \\cdot x_{ij, p} + \\varepsilon_{ij}$  $\\hspace{0.25cm}(j)$\n",
    "\n",
    "*Level 2:* $\\hspace{0.2cm} \\beta_{0i} = \\beta_0 + u_i  \\hspace{0.2cm}, \\hspace{0.2cm}$  $ \\beta_{2i} = \\beta_2 \\hspace{0.2cm}$  $, \\dots ,\\hspace{0.1cm} \\beta_{ri} = \\beta_r  + v_i \\hspace{0.2cm}, $ $\\hspace{0.1cm} \\beta_{hi} = \\beta_h  + \\gamma_i \\hspace{0.2cm}, $ $\\dots$ $ ,\\hspace{0.2cm} \\beta_{pi} = \\beta_p$ $\\hspace{0.25cm}(i)$\n",
    "\n",
    "*Final Model:* $\\hspace{0.2cm} y_{ij} = \\beta_{0} + \\beta_{1} \\cdot x_{ij,1} + \\dots + \\beta_{r} \\cdot x_{ij,r} + v_i \\cdot x_{ij,r} + \\beta_{h} \\cdot x_{ij,h} + \\gamma_i \\cdot x_{ij,h} + \\dots  + \\beta_{p} \\cdot x_{ij,p} + \\varepsilon_{ij} + u_i$  $\\hspace{0.1cm}, \\hspace{0.2cm} \\varepsilon_{ij} \\sim N(0, \\sigma^2)$ $\\hspace{0.1cm} , \\hspace{0.1cm}  u_i \\sim N(0, \\sigma_u^2)$ $\\hspace{0.1cm} , \\hspace{0.1cm}  v_i \\sim N(0, \\sigma_v^2)$ $\\hspace{0.1cm} , \\hspace{0.1cm}  \\gamma_i \\sim N(0, \\sigma_\\gamma^2)$"
   ]
  },
  {
   "cell_type": "markdown",
   "metadata": {},
   "source": []
  },
  {
   "cell_type": "markdown",
   "metadata": {},
   "source": [
    "etc"
   ]
  },
  {
   "cell_type": "markdown",
   "metadata": {},
   "source": [
    "### Example Multinivel Mixed  Linear Regression Models in R and Python"
   ]
  },
  {
   "cell_type": "code",
   "execution_count": 1,
   "metadata": {},
   "outputs": [],
   "source": [
    "import numpy as np\n",
    "import pandas as pd\n",
    "import statsmodels.api as sm\n",
    "import statsmodels.formula.api as smf\n",
    "from statsmodels.tools.sm_exceptions import ConvergenceWarning"
   ]
  },
  {
   "cell_type": "markdown",
   "metadata": {},
   "source": [
    "math: nota de matematicas de los estudiantes\n",
    "schoolID: identificador de la escuela\n",
    "eco: nivel socioeconomico del estudiante\n",
    "read: nivel de lectura del estudiante\n",
    "school_eco: nivel socioeconomico de la escuela"
   ]
  },
  {
   "cell_type": "code",
   "execution_count": 2,
   "metadata": {},
   "outputs": [],
   "source": [
    "math = pd.Series([5, 4, 6.5, 8 , 9 ,3 , 6, 7.5, 6 , 8, 9, 10, 4.2, 2, 6, 7, 8, 4,9.2,9,7,8,5.75,4,2.6,3,7.5,8,8.25,6])\n",
    "schoolID = pd.Series([1 , 1, 2, 1, 3, 4, 1, 2, 3, 3, 4, 2, 1, 2, 2, 3,4,4,3,2,4,3,2,1,3,2,4,4,3,3])\n",
    "eco = pd.Series([1,0,0,1,1,2,0,0,2,2,0,1,0,2,0,2,1,1,2,0,1,0,0,2,2,1,1,0,2,0])\n",
    "read = pd.Series([1,0,2,2,1,1,0,1,2,1,1,2,0,0,1,2,1,0,2,0,2,0,1,2,2,1,2,1,2,0])\n",
    "school_eco = pd.Series([1,0,2,1,2,2,1,1,0,1,0,1,2,2,1,1,0,1,1,2,2,0,2,1,2,1,0,1,0,0])\n",
    "hours = pd.Series([3,2,1,4,3.5,2,1.5,2.5,3,5,5,4,3,3,2.5,3,4,6,4,6,5,7,2,4,3,3.5,3,4.5,6,2.7])"
   ]
  },
  {
   "cell_type": "code",
   "execution_count": 3,
   "metadata": {},
   "outputs": [],
   "source": [
    "PISA_Data_py = pd.DataFrame({'math':math , 'eco':eco , 'read': read , 'hours':hours, 'school_eco':school_eco, 'schoolID':schoolID})"
   ]
  },
  {
   "cell_type": "code",
   "execution_count": 4,
   "metadata": {},
   "outputs": [
    {
     "data": {
      "text/html": [
       "<div>\n",
       "<style scoped>\n",
       "    .dataframe tbody tr th:only-of-type {\n",
       "        vertical-align: middle;\n",
       "    }\n",
       "\n",
       "    .dataframe tbody tr th {\n",
       "        vertical-align: top;\n",
       "    }\n",
       "\n",
       "    .dataframe thead th {\n",
       "        text-align: right;\n",
       "    }\n",
       "</style>\n",
       "<table border=\"1\" class=\"dataframe\">\n",
       "  <thead>\n",
       "    <tr style=\"text-align: right;\">\n",
       "      <th></th>\n",
       "      <th>math</th>\n",
       "      <th>eco</th>\n",
       "      <th>read</th>\n",
       "      <th>hours</th>\n",
       "      <th>school_eco</th>\n",
       "      <th>schoolID</th>\n",
       "    </tr>\n",
       "  </thead>\n",
       "  <tbody>\n",
       "    <tr>\n",
       "      <th>0</th>\n",
       "      <td>5.0</td>\n",
       "      <td>1</td>\n",
       "      <td>1</td>\n",
       "      <td>3.0</td>\n",
       "      <td>1</td>\n",
       "      <td>1</td>\n",
       "    </tr>\n",
       "    <tr>\n",
       "      <th>1</th>\n",
       "      <td>4.0</td>\n",
       "      <td>0</td>\n",
       "      <td>0</td>\n",
       "      <td>2.0</td>\n",
       "      <td>0</td>\n",
       "      <td>1</td>\n",
       "    </tr>\n",
       "    <tr>\n",
       "      <th>2</th>\n",
       "      <td>6.5</td>\n",
       "      <td>0</td>\n",
       "      <td>2</td>\n",
       "      <td>1.0</td>\n",
       "      <td>2</td>\n",
       "      <td>2</td>\n",
       "    </tr>\n",
       "    <tr>\n",
       "      <th>3</th>\n",
       "      <td>8.0</td>\n",
       "      <td>1</td>\n",
       "      <td>2</td>\n",
       "      <td>4.0</td>\n",
       "      <td>1</td>\n",
       "      <td>1</td>\n",
       "    </tr>\n",
       "    <tr>\n",
       "      <th>4</th>\n",
       "      <td>9.0</td>\n",
       "      <td>1</td>\n",
       "      <td>1</td>\n",
       "      <td>3.5</td>\n",
       "      <td>2</td>\n",
       "      <td>3</td>\n",
       "    </tr>\n",
       "    <tr>\n",
       "      <th>5</th>\n",
       "      <td>3.0</td>\n",
       "      <td>2</td>\n",
       "      <td>1</td>\n",
       "      <td>2.0</td>\n",
       "      <td>2</td>\n",
       "      <td>4</td>\n",
       "    </tr>\n",
       "    <tr>\n",
       "      <th>6</th>\n",
       "      <td>6.0</td>\n",
       "      <td>0</td>\n",
       "      <td>0</td>\n",
       "      <td>1.5</td>\n",
       "      <td>1</td>\n",
       "      <td>1</td>\n",
       "    </tr>\n",
       "    <tr>\n",
       "      <th>7</th>\n",
       "      <td>7.5</td>\n",
       "      <td>0</td>\n",
       "      <td>1</td>\n",
       "      <td>2.5</td>\n",
       "      <td>1</td>\n",
       "      <td>2</td>\n",
       "    </tr>\n",
       "    <tr>\n",
       "      <th>8</th>\n",
       "      <td>6.0</td>\n",
       "      <td>2</td>\n",
       "      <td>2</td>\n",
       "      <td>3.0</td>\n",
       "      <td>0</td>\n",
       "      <td>3</td>\n",
       "    </tr>\n",
       "    <tr>\n",
       "      <th>9</th>\n",
       "      <td>8.0</td>\n",
       "      <td>2</td>\n",
       "      <td>1</td>\n",
       "      <td>5.0</td>\n",
       "      <td>1</td>\n",
       "      <td>3</td>\n",
       "    </tr>\n",
       "  </tbody>\n",
       "</table>\n",
       "</div>"
      ],
      "text/plain": [
       "   math  eco  read  hours  school_eco  schoolID\n",
       "0   5.0    1     1    3.0           1         1\n",
       "1   4.0    0     0    2.0           0         1\n",
       "2   6.5    0     2    1.0           2         2\n",
       "3   8.0    1     2    4.0           1         1\n",
       "4   9.0    1     1    3.5           2         3\n",
       "5   3.0    2     1    2.0           2         4\n",
       "6   6.0    0     0    1.5           1         1\n",
       "7   7.5    0     1    2.5           1         2\n",
       "8   6.0    2     2    3.0           0         3\n",
       "9   8.0    2     1    5.0           1         3"
      ]
     },
     "execution_count": 4,
     "metadata": {},
     "output_type": "execute_result"
    }
   ],
   "source": [
    "PISA_Data_py.head(10)"
   ]
  },
  {
   "cell_type": "code",
   "execution_count": 5,
   "metadata": {},
   "outputs": [
    {
     "data": {
      "text/plain": [
       "math          float64\n",
       "eco             int64\n",
       "read            int64\n",
       "hours         float64\n",
       "school_eco      int64\n",
       "schoolID        int64\n",
       "dtype: object"
      ]
     },
     "execution_count": 5,
     "metadata": {},
     "output_type": "execute_result"
    }
   ],
   "source": [
    "PISA_Data_py.dtypes"
   ]
  },
  {
   "cell_type": "code",
   "execution_count": 39,
   "metadata": {},
   "outputs": [],
   "source": [
    "PISA_Data_py['eco'] = PISA_Data_py['eco'].astype('category')\n",
    "PISA_Data_py['read'] = PISA_Data_py['read'].astype('category')\n",
    "PISA_Data_py['school_eco'] = PISA_Data_py['school_eco'].astype('category')\n",
    "PISA_Data_py['schoolID'] = PISA_Data_py['schoolID'].astype('category')"
   ]
  },
  {
   "cell_type": "code",
   "execution_count": 37,
   "metadata": {},
   "outputs": [
    {
     "data": {
      "text/plain": [
       "math          float64\n",
       "eco            string\n",
       "read           string\n",
       "hours         float64\n",
       "school_eco     string\n",
       "schoolID       string\n",
       "dtype: object"
      ]
     },
     "execution_count": 37,
     "metadata": {},
     "output_type": "execute_result"
    }
   ],
   "source": [
    "PISA_Data_py.dtypes"
   ]
  },
  {
   "cell_type": "markdown",
   "metadata": {},
   "source": []
  },
  {
   "cell_type": "code",
   "execution_count": 8,
   "metadata": {},
   "outputs": [
    {
     "name": "stderr",
     "output_type": "stream",
     "text": [
      "c:\\Users\\Usuario\\AppData\\Local\\R-MINI~1\\lib\\site-packages\\rpy2\\robjects\\packages.py:366: UserWarning: The symbol 'quartz' is not in this R namespace/package.\n",
      "  warnings.warn(\n"
     ]
    }
   ],
   "source": [
    "import rpy2\n",
    "\n",
    "%load_ext rpy2.ipython\n",
    "\n",
    "import rpy2.robjects as robjects"
   ]
  },
  {
   "cell_type": "code",
   "execution_count": 9,
   "metadata": {},
   "outputs": [],
   "source": [
    "%%R\n",
    "\n",
    "math <- c(5, 4, 6.5, 8 , 9 ,3 , 6, 7.5, 6 , 8, 9, 10, 4.2, 2, 6, 7, 8, 4,9.2,9,7,8,5.75,4,2.6,3,7.5,8,8.25,6)\n",
    "schoolID <- c(1 , 1, 2, 1, 3, 4, 1, 2, 3, 3, 4, 2, 1, 2, 2, 3,4,4,3,2,4,3,2,1,3,2,4,4,3,3)\n",
    "eco <- c(1,0,0,1,1,2,0,0,2,2,0,1,0,2,0,2,1,1,2,0,1,0,0,2,2,1,1,0,2,0)\n",
    "read <- c(1,0,2,2,1,1,0,1,2,1,1,2,0,0,1,2,1,0,2,0,2,0,1,2,2,1,2,1,2,0)\n",
    "school_eco <- c(1,0,2,1,2,2,1,1,0,1,0,1,2,2,1,1,0,1,1,2,2,0,2,1,2,1,0,1,0,0)\n",
    "hours <- c(3,2,1,4,3.5,2,1.5,2.5,3,5,5,4,3,3,2.5,3,4,6,4,6,5,7,2,4,3,3.5,3,4.5,6,2.7)"
   ]
  },
  {
   "cell_type": "code",
   "execution_count": 10,
   "metadata": {},
   "outputs": [],
   "source": [
    "%%R\n",
    "\n",
    "PISA_Data_R = cbind(math, eco, read, hours, school_eco, schoolID)\n",
    "\n",
    "PISA_Data_R = as.data.frame(PISA_Data_R)"
   ]
  },
  {
   "cell_type": "code",
   "execution_count": 11,
   "metadata": {},
   "outputs": [
    {
     "name": "stdout",
     "output_type": "stream",
     "text": [
      "   math eco read hours school_eco schoolID\n",
      "1   5.0   1    1   3.0          1        1\n",
      "2   4.0   0    0   2.0          0        1\n",
      "3   6.5   0    2   1.0          2        2\n",
      "4   8.0   1    2   4.0          1        1\n",
      "5   9.0   1    1   3.5          2        3\n",
      "6   3.0   2    1   2.0          2        4\n",
      "7   6.0   0    0   1.5          1        1\n",
      "8   7.5   0    1   2.5          1        2\n",
      "9   6.0   2    2   3.0          0        3\n",
      "10  8.0   2    1   5.0          1        3\n"
     ]
    }
   ],
   "source": [
    "%%R\n",
    "\n",
    "head(PISA_Data_R, 10)"
   ]
  },
  {
   "cell_type": "code",
   "execution_count": 12,
   "metadata": {},
   "outputs": [],
   "source": [
    "%%R\n",
    "\n",
    "PISA_Data_R$eco = factor(PISA_Data_R$eco)\n",
    "PISA_Data_R$read = factor(PISA_Data_R$read)\n",
    "PISA_Data_R$school_eco = factor(PISA_Data_R$school_eco)\n",
    "PISA_Data_R$schoolID = factor(PISA_Data_R$schoolID)"
   ]
  },
  {
   "cell_type": "markdown",
   "metadata": {},
   "source": []
  },
  {
   "cell_type": "code",
   "execution_count": 13,
   "metadata": {},
   "outputs": [
    {
     "name": "stderr",
     "output_type": "stream",
     "text": [
      "R[write to console]: Loading required package: Matrix\n",
      "\n"
     ]
    }
   ],
   "source": [
    "%%R\n",
    "library(lme4)"
   ]
  },
  {
   "cell_type": "code",
   "execution_count": 14,
   "metadata": {},
   "outputs": [
    {
     "name": "stderr",
     "output_type": "stream",
     "text": [
      "R[write to console]: boundary (singular) fit: see help('isSingular')\n",
      "\n"
     ]
    },
    {
     "name": "stdout",
     "output_type": "stream",
     "text": [
      "Linear mixed model fit by REML ['lmerMod']\n",
      "Formula: math ~ 1 + eco + hours + school_eco + (1 + hours | schoolID)\n",
      "   Data: PISA_Data_R\n",
      "\n",
      "REML criterion at convergence: 117.4\n",
      "\n",
      "Scaled residuals: \n",
      "    Min      1Q  Median      3Q     Max \n",
      "-2.0271 -0.6515  0.1846  0.5801  1.4770 \n",
      "\n",
      "Random effects:\n",
      " Groups   Name        Variance  Std.Dev. Corr \n",
      " schoolID (Intercept) 2.655e-01 0.515315      \n",
      "          hours       1.442e-05 0.003797 -1.00\n",
      " Residual             4.147e+00 2.036522      \n",
      "Number of obs: 30, groups:  schoolID, 4\n",
      "\n",
      "Fixed effects:\n",
      "            Estimate Std. Error t value\n",
      "(Intercept)  5.18245    1.35815   3.816\n",
      "eco1        -0.28078    0.94722  -0.296\n",
      "eco2        -1.48964    0.95219  -1.564\n",
      "hours        0.55180    0.27964   1.973\n",
      "school_eco1 -0.02453    0.96807  -0.025\n",
      "school_eco2 -0.95973    1.05020  -0.914\n",
      "\n",
      "Correlation of Fixed Effects:\n",
      "            (Intr) eco1   eco2   hours  schl_1\n",
      "eco1        -0.079                            \n",
      "eco2        -0.147  0.431                     \n",
      "hours       -0.775 -0.189 -0.082              \n",
      "school_eco1 -0.457 -0.204 -0.179  0.118       \n",
      "school_eco2 -0.536 -0.076 -0.140  0.221  0.597\n",
      "optimizer (nloptwrap) convergence code: 0 (OK)\n",
      "boundary (singular) fit: see help('isSingular')\n",
      "\n"
     ]
    }
   ],
   "source": [
    "%%R \n",
    "model1 = lmer (math ~ 1 + eco + hours + school_eco + (1  + hours  |schoolID)  , PISA_Data_R)\n",
    "summary(model1)"
   ]
  },
  {
   "cell_type": "code",
   "execution_count": 15,
   "metadata": {},
   "outputs": [
    {
     "name": "stdout",
     "output_type": "stream",
     "text": [
      "$schoolID\n",
      "  (Intercept)         hours\n",
      "1 -0.29533571  0.0021763225\n",
      "2  0.03150915 -0.0002321903\n",
      "3  0.32626472 -0.0024042377\n",
      "4 -0.06243816  0.0004601055\n",
      "\n",
      "with conditional variances for \"schoolID\" \n"
     ]
    }
   ],
   "source": [
    "%%R\n",
    "\n",
    "ranef(model1)"
   ]
  },
  {
   "cell_type": "code",
   "execution_count": 16,
   "metadata": {},
   "outputs": [
    {
     "name": "stdout",
     "output_type": "stream",
     "text": [
      "       1        2        3        4        5        6        7        8 \n",
      "6.243740 5.995069 4.805792 6.797718 6.191091 3.775163 5.693551 6.568353 \n",
      "       9       10       11       12       13       14       15       16 \n",
      "5.667269 6.741536 7.881320 7.114929 5.589313 4.419295 6.568353 5.642741 \n",
      "      17       18       19       20       21       22       23       24 \n",
      "7.048279 8.128275 6.192139 7.563642 6.640807 9.354497 5.357362 5.588860 \n",
      "      25       26       27       28       29       30 \n",
      "4.707535 6.839144 6.496017 7.580661 7.315462 6.992087 \n"
     ]
    }
   ],
   "source": [
    "%%R\n",
    "\n",
    "predict(model1)"
   ]
  },
  {
   "cell_type": "code",
   "execution_count": null,
   "metadata": {},
   "outputs": [
    {
     "name": "stdout",
     "output_type": "stream",
     "text": [
      "        Mixed Linear Model Regression Results\n",
      "======================================================\n",
      "Model:            MixedLM Dependent Variable: math    \n",
      "No. Observations: 30      Method:             REML    \n",
      "No. Groups:       4       Scale:              4.5099  \n",
      "Min. group size:  6       Log-Likelihood:     -64.9294\n",
      "Max. group size:  9       Converged:          Yes     \n",
      "Mean group size:  7.5                                 \n",
      "------------------------------------------------------\n",
      "            Coef.  Std.Err.   z    P>|z| [0.025 0.975]\n",
      "------------------------------------------------------\n",
      "Intercept    6.988    0.708  9.875 0.000  5.601  8.375\n",
      "eco         -0.730    0.549 -1.329 0.184 -1.805  0.346\n",
      "Group Var    0.538    0.514                           \n",
      "======================================================\n",
      "\n"
     ]
    }
   ],
   "source": [
    "model = smf.mixedlm(\"math ~ 1 + eco\", PISA_Data_py, groups=PISA_Data_py[\"schoolID\"], re_formula=\"~Time\" )\n",
    "model = model.fit()\n",
    "print(model.summary())"
   ]
  },
  {
   "cell_type": "markdown",
   "metadata": {},
   "source": []
  },
  {
   "cell_type": "code",
   "execution_count": null,
   "metadata": {},
   "outputs": [],
   "source": [
    "%%R\n",
    "new_math <- c(5,6,4,7,2.3,4.5,5.7,8,8,7.5,9,10)\n",
    "new_schoolID <- c(2,1,1,2,1,3,4,4,3,2,2,3)\n",
    "new_eco <- c(1,0,0,1,1,2,0,0,2,2,0,1,0,2,0)\n",
    "new_read <- c(1,0,2,2,1,1,0,1,2,1,1,2,0,0,1,2,1,0,2,0,2,0,1,2,2,1,2,1,2,0)\n",
    "new_school_eco <- c(1,0,2,1,2,2,1,1,0,1,0,1,2,2,1,1,0,1,1,2,2,0,2,1,2,1,0,1,0,0)\n",
    "new_hours <- c(3,2,1,4,3.5,2,1.5,2.5,3,5,5,4,3,3,2.5,3,4,6,4,6,5,7,2,4,3,3.5,3,4.5,6,2.7)"
   ]
  },
  {
   "cell_type": "code",
   "execution_count": null,
   "metadata": {},
   "outputs": [],
   "source": [
    "%%R\n",
    "\n",
    "new_data = cbind(new_math, new_eco, new_read, new_hours, new_school_eco, new_schoolID)\n",
    "\n",
    "new_data = as.data.frame(new_data)"
   ]
  },
  {
   "cell_type": "code",
   "execution_count": null,
   "metadata": {},
   "outputs": [],
   "source": [
    "%%R\n",
    "\n",
    "new_data$eco = factor(new_data$eco)\n",
    "new_data$read = factor(new_data$read)\n",
    "new_data$school_eco = factor(new_data$school_eco)\n",
    "new_data$schoolID = factor(new_data$schoolID)"
   ]
  },
  {
   "cell_type": "code",
   "execution_count": null,
   "metadata": {},
   "outputs": [],
   "source": [
    "new_data = \n",
    "\n"
   ]
  },
  {
   "cell_type": "markdown",
   "metadata": {},
   "source": [
    "newdata debe ser un data frame con la misma estructura/caracteristicas que el data set con el que se entreno el modelo , pero con diferentes valores (para que tenga sentido)"
   ]
  },
  {
   "cell_type": "code",
   "execution_count": 72,
   "metadata": {},
   "outputs": [
    {
     "name": "stdout",
     "output_type": "stream",
     "text": [
      "[1] 5.05941\n"
     ]
    }
   ],
   "source": [
    "%%R\n",
    "\n",
    "predict(model1, newdata=PISA_Data_R[31 , ] )"
   ]
  },
  {
   "cell_type": "markdown",
   "metadata": {},
   "source": [
    "prediction for the first observation taking into account random effects:"
   ]
  },
  {
   "cell_type": "code",
   "execution_count": 17,
   "metadata": {},
   "outputs": [
    {
     "data": {
      "text/plain": [
       "6.2437332575"
      ]
     },
     "execution_count": 17,
     "metadata": {},
     "output_type": "execute_result"
    }
   ],
   "source": [
    "5.18245 - 0.28078 + 0.55180*3 -0.02453 +0.0021763225*3 -0.29533571"
   ]
  },
  {
   "cell_type": "markdown",
   "metadata": {},
   "source": []
  },
  {
   "cell_type": "markdown",
   "metadata": {},
   "source": [
    "Mixed Linear Models in Python with Statmodels"
   ]
  },
  {
   "cell_type": "code",
   "execution_count": 40,
   "metadata": {},
   "outputs": [
    {
     "name": "stderr",
     "output_type": "stream",
     "text": [
      "c:\\Users\\Usuario\\AppData\\Local\\R-MINI~1\\lib\\site-packages\\statsmodels\\base\\model.py:604: ConvergenceWarning: Maximum Likelihood optimization failed to converge. Check mle_retvals\n",
      "  warnings.warn(\"Maximum Likelihood optimization failed to \"\n",
      "c:\\Users\\Usuario\\AppData\\Local\\R-MINI~1\\lib\\site-packages\\statsmodels\\regression\\mixed_linear_model.py:2200: ConvergenceWarning: Retrying MixedLM optimization with lbfgs\n",
      "  warnings.warn(\n",
      "c:\\Users\\Usuario\\AppData\\Local\\R-MINI~1\\lib\\site-packages\\statsmodels\\base\\model.py:604: ConvergenceWarning: Maximum Likelihood optimization failed to converge. Check mle_retvals\n",
      "  warnings.warn(\"Maximum Likelihood optimization failed to \"\n",
      "c:\\Users\\Usuario\\AppData\\Local\\R-MINI~1\\lib\\site-packages\\statsmodels\\regression\\mixed_linear_model.py:2200: ConvergenceWarning: Retrying MixedLM optimization with cg\n",
      "  warnings.warn(\n"
     ]
    },
    {
     "name": "stdout",
     "output_type": "stream",
     "text": [
      "           Mixed Linear Model Regression Results\n",
      "============================================================\n",
      "Model:              MixedLM   Dependent Variable:   math    \n",
      "No. Observations:   30        Method:               REML    \n",
      "No. Groups:         4         Scale:                4.0236  \n",
      "Min. group size:    6         Log-Likelihood:       -58.7617\n",
      "Max. group size:    9         Converged:            No      \n",
      "Mean group size:    7.5                                     \n",
      "------------------------------------------------------------\n",
      "                  Coef.  Std.Err.   z    P>|z| [0.025 0.975]\n",
      "------------------------------------------------------------\n",
      "Intercept          5.250    1.393  3.769 0.000  2.520  7.981\n",
      "eco[T.1]          -0.266    1.046 -0.255 0.799 -2.316  1.784\n",
      "eco[T.2]          -1.644    1.036 -1.587 0.113 -3.674  0.387\n",
      "school_eco[T.1]    0.066    1.032  0.064 0.949 -1.957  2.088\n",
      "school_eco[T.2]   -0.917    1.098 -0.834 0.404 -3.069  1.236\n",
      "hours              0.526    0.323  1.628 0.104 -0.107  1.158\n",
      "Group Var          0.707                                    \n",
      "Group x hours Cov -0.046                                    \n",
      "hours Var          0.012                                    \n",
      "============================================================\n",
      "\n"
     ]
    },
    {
     "name": "stderr",
     "output_type": "stream",
     "text": [
      "c:\\Users\\Usuario\\AppData\\Local\\R-MINI~1\\lib\\site-packages\\statsmodels\\base\\model.py:604: ConvergenceWarning: Maximum Likelihood optimization failed to converge. Check mle_retvals\n",
      "  warnings.warn(\"Maximum Likelihood optimization failed to \"\n",
      "c:\\Users\\Usuario\\AppData\\Local\\R-MINI~1\\lib\\site-packages\\statsmodels\\regression\\mixed_linear_model.py:2206: ConvergenceWarning: MixedLM optimization failed, trying a different optimizer may help.\n",
      "  warnings.warn(msg, ConvergenceWarning)\n",
      "c:\\Users\\Usuario\\AppData\\Local\\R-MINI~1\\lib\\site-packages\\statsmodels\\regression\\mixed_linear_model.py:2218: ConvergenceWarning: Gradient optimization failed, |grad| = 2.531302\n",
      "  warnings.warn(msg, ConvergenceWarning)\n"
     ]
    }
   ],
   "source": [
    "model = smf.mixedlm(\"math ~ 1 + eco + hours + school_eco \", PISA_Data_py, groups=PISA_Data_py[\"schoolID\"], re_formula=\"~ hours\" )\n",
    "model = model.fit()\n",
    "print(model.summary())"
   ]
  },
  {
   "cell_type": "markdown",
   "metadata": {},
   "source": []
  },
  {
   "cell_type": "markdown",
   "metadata": {},
   "source": [
    "Mixed Linear Models in Python with Pymer"
   ]
  },
  {
   "cell_type": "code",
   "execution_count": 23,
   "metadata": {},
   "outputs": [
    {
     "name": "stderr",
     "output_type": "stream",
     "text": [
      "R[write to console]: Warning:\n",
      "R[write to console]:  package 'lme4' is in use and will not be installed\n",
      "\n",
      "R[write to console]: Installing packages into 'C:/Users/Usuario/AppData/Local/R/win-library/4.2'\n",
      "(as 'lib' is unspecified)\n",
      "\n"
     ]
    },
    {
     "name": "stdout",
     "output_type": "stream",
     "text": [
      "--- Please select a CRAN mirror for use in this session ---\n"
     ]
    },
    {
     "name": "stderr",
     "output_type": "stream",
     "text": [
      "R[write to console]: also installing the dependencies 'estimability', 'mvtnorm'\n",
      "\n",
      "\n",
      "R[write to console]: trying URL 'https://cran.rediris.es/bin/windows/contrib/4.2/estimability_1.4.zip'\n",
      "\n",
      "R[write to console]: Content type 'application/zip'\n",
      "R[write to console]:  length 42773 bytes (41 KB)\n",
      "\n",
      "R[write to console]: downloaded 41 KB\n",
      "\n",
      "\n",
      "R[write to console]: trying URL 'https://cran.rediris.es/bin/windows/contrib/4.2/mvtnorm_1.1-3.zip'\n",
      "\n",
      "R[write to console]: Content type 'application/zip'\n",
      "R[write to console]:  length 233544 bytes (228 KB)\n",
      "\n",
      "R[write to console]: downloaded 228 KB\n",
      "\n",
      "\n",
      "R[write to console]: trying URL 'https://cran.rediris.es/bin/windows/contrib/4.2/lmerTest_3.1-3.zip'\n",
      "\n",
      "R[write to console]: Content type 'application/zip'\n",
      "R[write to console]:  length 531478 bytes (519 KB)\n",
      "\n",
      "R[write to console]: downloaded 519 KB\n",
      "\n",
      "\n",
      "R[write to console]: trying URL 'https://cran.rediris.es/bin/windows/contrib/4.2/emmeans_1.7.5.zip'\n",
      "\n",
      "R[write to console]: Content type 'application/zip'\n",
      "R[write to console]:  length 2049525 bytes (2.0 MB)\n",
      "\n",
      "R[write to console]: downloaded 2.0 MB\n",
      "\n",
      "\n"
     ]
    },
    {
     "name": "stdout",
     "output_type": "stream",
     "text": [
      "package 'estimability' successfully unpacked and MD5 sums checked\n",
      "package 'mvtnorm' successfully unpacked and MD5 sums checked\n",
      "package 'lmerTest' successfully unpacked and MD5 sums checked\n",
      "package 'emmeans' successfully unpacked and MD5 sums checked\n",
      "\n",
      "The downloaded binary packages are in\n",
      "\tC:\\Users\\Usuario\\AppData\\Local\\Temp\\Rtmpk3U2VJ\\downloaded_packages\n"
     ]
    }
   ],
   "source": [
    "%%R\n",
    "# install.packages(c('lme4','lmerTest','emmeans'))\n"
   ]
  },
  {
   "cell_type": "code",
   "execution_count": 24,
   "metadata": {},
   "outputs": [
    {
     "name": "stdout",
     "output_type": "stream",
     "text": [
      "Requirement already satisfied: pymer4 in c:\\users\\usuario\\appdata\\local\\r-miniconda\\lib\\site-packages (0.7.8)\n",
      "Requirement already satisfied: scipy>=1.4.0 in c:\\users\\usuario\\appdata\\local\\r-miniconda\\lib\\site-packages (from pymer4) (1.8.1)\n",
      "Requirement already satisfied: deepdish>=0.3.6 in c:\\users\\usuario\\appdata\\local\\r-miniconda\\lib\\site-packages (from pymer4) (0.3.7)\n",
      "Requirement already satisfied: pandas>=1.1.0 in c:\\users\\usuario\\appdata\\local\\r-miniconda\\lib\\site-packages (from pymer4) (1.4.3)\n",
      "Requirement already satisfied: patsy>=0.5.1 in c:\\users\\usuario\\appdata\\local\\r-miniconda\\lib\\site-packages (from pymer4) (0.5.2)\n",
      "Requirement already satisfied: rpy2<3.5.0,>=3.4.5 in c:\\users\\usuario\\appdata\\local\\r-miniconda\\lib\\site-packages (from pymer4) (3.4.5)\n",
      "Requirement already satisfied: numpy>=1.16.0 in c:\\users\\usuario\\appdata\\local\\r-miniconda\\lib\\site-packages (from pymer4) (1.23.0)\n",
      "Requirement already satisfied: joblib>=0.14 in c:\\users\\usuario\\appdata\\local\\r-miniconda\\lib\\site-packages (from pymer4) (1.1.0)\n",
      "Requirement already satisfied: matplotlib>=3.0 in c:\\users\\usuario\\appdata\\local\\r-miniconda\\lib\\site-packages (from pymer4) (3.5.2)\n",
      "Requirement already satisfied: seaborn>=0.10.0 in c:\\users\\usuario\\appdata\\local\\r-miniconda\\lib\\site-packages (from pymer4) (0.11.2)\n",
      "Requirement already satisfied: tables in c:\\users\\usuario\\appdata\\local\\r-miniconda\\lib\\site-packages (from deepdish>=0.3.6->pymer4) (3.7.0)\n",
      "Requirement already satisfied: cycler>=0.10 in c:\\users\\usuario\\appdata\\local\\r-miniconda\\lib\\site-packages (from matplotlib>=3.0->pymer4) (0.11.0)\n",
      "Requirement already satisfied: pyparsing>=2.2.1 in c:\\users\\usuario\\appdata\\local\\r-miniconda\\lib\\site-packages (from matplotlib>=3.0->pymer4) (3.0.9)\n",
      "Requirement already satisfied: fonttools>=4.22.0 in c:\\users\\usuario\\appdata\\local\\r-miniconda\\lib\\site-packages (from matplotlib>=3.0->pymer4) (4.34.4)\n",
      "Requirement already satisfied: python-dateutil>=2.7 in c:\\users\\usuario\\appdata\\local\\r-miniconda\\lib\\site-packages (from matplotlib>=3.0->pymer4) (2.8.2)\n",
      "Requirement already satisfied: packaging>=20.0 in c:\\users\\usuario\\appdata\\local\\r-miniconda\\lib\\site-packages (from matplotlib>=3.0->pymer4) (21.3)\n",
      "Requirement already satisfied: pillow>=6.2.0 in c:\\users\\usuario\\appdata\\local\\r-miniconda\\lib\\site-packages (from matplotlib>=3.0->pymer4) (9.2.0)\n",
      "Requirement already satisfied: kiwisolver>=1.0.1 in c:\\users\\usuario\\appdata\\local\\r-miniconda\\lib\\site-packages (from matplotlib>=3.0->pymer4) (1.4.3)\n",
      "Requirement already satisfied: pytz>=2020.1 in c:\\users\\usuario\\appdata\\local\\r-miniconda\\lib\\site-packages (from pandas>=1.1.0->pymer4) (2022.1)\n",
      "Requirement already satisfied: six in c:\\users\\usuario\\appdata\\local\\r-miniconda\\lib\\site-packages (from patsy>=0.5.1->pymer4) (1.16.0)\n",
      "Requirement already satisfied: tzlocal in c:\\users\\usuario\\appdata\\local\\r-miniconda\\lib\\site-packages (from rpy2<3.5.0,>=3.4.5->pymer4) (4.2)\n",
      "Requirement already satisfied: jinja2 in c:\\users\\usuario\\appdata\\local\\r-miniconda\\lib\\site-packages (from rpy2<3.5.0,>=3.4.5->pymer4) (3.1.2)\n",
      "Requirement already satisfied: cffi>=1.10.0 in c:\\users\\usuario\\appdata\\local\\r-miniconda\\lib\\site-packages (from rpy2<3.5.0,>=3.4.5->pymer4) (1.15.0)\n",
      "Requirement already satisfied: pycparser in c:\\users\\usuario\\appdata\\local\\r-miniconda\\lib\\site-packages (from cffi>=1.10.0->rpy2<3.5.0,>=3.4.5->pymer4) (2.21)\n",
      "Requirement already satisfied: MarkupSafe>=2.0 in c:\\users\\usuario\\appdata\\local\\r-miniconda\\lib\\site-packages (from jinja2->rpy2<3.5.0,>=3.4.5->pymer4) (2.1.1)\n",
      "Requirement already satisfied: numexpr>=2.6.2 in c:\\users\\usuario\\appdata\\local\\r-miniconda\\lib\\site-packages (from tables->deepdish>=0.3.6->pymer4) (2.8.3)\n",
      "Requirement already satisfied: pytz-deprecation-shim in c:\\users\\usuario\\appdata\\local\\r-miniconda\\lib\\site-packages (from tzlocal->rpy2<3.5.0,>=3.4.5->pymer4) (0.1.0.post0)\n",
      "Requirement already satisfied: tzdata in c:\\users\\usuario\\appdata\\local\\r-miniconda\\lib\\site-packages (from tzlocal->rpy2<3.5.0,>=3.4.5->pymer4) (2022.1)\n",
      "Note: you may need to restart the kernel to use updated packages.\n"
     ]
    }
   ],
   "source": [
    " # pip install pymer4"
   ]
  },
  {
   "cell_type": "code",
   "execution_count": 26,
   "metadata": {},
   "outputs": [],
   "source": [
    "# Import the lmm model class\n",
    "from pymer4.models import Lmer\n"
   ]
  },
  {
   "cell_type": "code",
   "execution_count": 41,
   "metadata": {},
   "outputs": [],
   "source": [
    "PISA_Data_py['eco'] = PISA_Data_py['eco'].astype('string')\n",
    "PISA_Data_py['read'] = PISA_Data_py['read'].astype('string')\n",
    "PISA_Data_py['school_eco'] = PISA_Data_py['school_eco'].astype('string')\n",
    "PISA_Data_py['schoolID'] = PISA_Data_py['schoolID'].astype('string')"
   ]
  },
  {
   "cell_type": "code",
   "execution_count": 42,
   "metadata": {},
   "outputs": [],
   "source": [
    "\n",
    "# Initialize model instance using 1 predictor with random intercepts and slopes\n",
    "model1 = Lmer(\"math ~ 1 + eco + hours + school_eco + (1  + hours  |schoolID)\", data=PISA_Data_py)\n"
   ]
  },
  {
   "cell_type": "code",
   "execution_count": 56,
   "metadata": {},
   "outputs": [
    {
     "name": "stdout",
     "output_type": "stream",
     "text": [
      "boundary (singular) fit: see help('isSingular') \n",
      "\n",
      "boundary (singular) fit: see help('isSingular') \n",
      "\n",
      "Formula: math~1+eco+hours+school_eco+(1+hours|schoolID)\n",
      "\n",
      "Family: gaussian\t Inference: parametric\n",
      "\n",
      "Number of observations: 30\t Groups: {'schoolID': 4.0}\n",
      "\n",
      "Log-likelihood: -58.697 \t AIC: 117.394\n",
      "\n",
      "Random effects:\n",
      "\n",
      "                 Name    Var    Std\n",
      "schoolID  (Intercept)  0.266  0.515\n",
      "schoolID        hours  0.000  0.004\n",
      "Residual               4.147  2.037\n",
      "\n",
      "                  IV1    IV2  Corr\n",
      "schoolID  (Intercept)  hours  -1.0\n",
      "\n",
      "Fixed effects:\n",
      "\n"
     ]
    },
    {
     "data": {
      "text/html": [
       "<div>\n",
       "<style scoped>\n",
       "    .dataframe tbody tr th:only-of-type {\n",
       "        vertical-align: middle;\n",
       "    }\n",
       "\n",
       "    .dataframe tbody tr th {\n",
       "        vertical-align: top;\n",
       "    }\n",
       "\n",
       "    .dataframe thead th {\n",
       "        text-align: right;\n",
       "    }\n",
       "</style>\n",
       "<table border=\"1\" class=\"dataframe\">\n",
       "  <thead>\n",
       "    <tr style=\"text-align: right;\">\n",
       "      <th></th>\n",
       "      <th>Estimate</th>\n",
       "      <th>2.5_ci</th>\n",
       "      <th>97.5_ci</th>\n",
       "      <th>SE</th>\n",
       "      <th>DF</th>\n",
       "      <th>T-stat</th>\n",
       "      <th>P-val</th>\n",
       "      <th>Sig</th>\n",
       "    </tr>\n",
       "  </thead>\n",
       "  <tbody>\n",
       "    <tr>\n",
       "      <th>(Intercept)</th>\n",
       "      <td>5.182</td>\n",
       "      <td>2.521</td>\n",
       "      <td>7.844</td>\n",
       "      <td>1.358</td>\n",
       "      <td>15.923</td>\n",
       "      <td>3.816</td>\n",
       "      <td>0.002</td>\n",
       "      <td>**</td>\n",
       "    </tr>\n",
       "    <tr>\n",
       "      <th>eco1</th>\n",
       "      <td>-0.281</td>\n",
       "      <td>-2.137</td>\n",
       "      <td>1.576</td>\n",
       "      <td>0.947</td>\n",
       "      <td>23.465</td>\n",
       "      <td>-0.296</td>\n",
       "      <td>0.770</td>\n",
       "      <td></td>\n",
       "    </tr>\n",
       "    <tr>\n",
       "      <th>eco2</th>\n",
       "      <td>-1.490</td>\n",
       "      <td>-3.356</td>\n",
       "      <td>0.377</td>\n",
       "      <td>0.952</td>\n",
       "      <td>19.843</td>\n",
       "      <td>-1.564</td>\n",
       "      <td>0.134</td>\n",
       "      <td></td>\n",
       "    </tr>\n",
       "    <tr>\n",
       "      <th>hours</th>\n",
       "      <td>0.552</td>\n",
       "      <td>0.004</td>\n",
       "      <td>1.100</td>\n",
       "      <td>0.280</td>\n",
       "      <td>23.282</td>\n",
       "      <td>1.973</td>\n",
       "      <td>0.060</td>\n",
       "      <td>.</td>\n",
       "    </tr>\n",
       "    <tr>\n",
       "      <th>school_eco1</th>\n",
       "      <td>-0.025</td>\n",
       "      <td>-1.922</td>\n",
       "      <td>1.873</td>\n",
       "      <td>0.968</td>\n",
       "      <td>23.275</td>\n",
       "      <td>-0.025</td>\n",
       "      <td>0.980</td>\n",
       "      <td></td>\n",
       "    </tr>\n",
       "    <tr>\n",
       "      <th>school_eco2</th>\n",
       "      <td>-0.960</td>\n",
       "      <td>-3.018</td>\n",
       "      <td>1.099</td>\n",
       "      <td>1.050</td>\n",
       "      <td>23.715</td>\n",
       "      <td>-0.914</td>\n",
       "      <td>0.370</td>\n",
       "      <td></td>\n",
       "    </tr>\n",
       "  </tbody>\n",
       "</table>\n",
       "</div>"
      ],
      "text/plain": [
       "             Estimate  2.5_ci  97.5_ci     SE      DF  T-stat  P-val Sig\n",
       "(Intercept)     5.182   2.521    7.844  1.358  15.923   3.816  0.002  **\n",
       "eco1           -0.281  -2.137    1.576  0.947  23.465  -0.296  0.770    \n",
       "eco2           -1.490  -3.356    0.377  0.952  19.843  -1.564  0.134    \n",
       "hours           0.552   0.004    1.100  0.280  23.282   1.973  0.060   .\n",
       "school_eco1    -0.025  -1.922    1.873  0.968  23.275  -0.025  0.980    \n",
       "school_eco2    -0.960  -3.018    1.099  1.050  23.715  -0.914  0.370    "
      ]
     },
     "execution_count": 56,
     "metadata": {},
     "output_type": "execute_result"
    }
   ],
   "source": [
    " model1.fit() "
   ]
  },
  {
   "cell_type": "code",
   "execution_count": 55,
   "metadata": {},
   "outputs": [
    {
     "data": {
      "text/html": [
       "<div>\n",
       "<style scoped>\n",
       "    .dataframe tbody tr th:only-of-type {\n",
       "        vertical-align: middle;\n",
       "    }\n",
       "\n",
       "    .dataframe tbody tr th {\n",
       "        vertical-align: top;\n",
       "    }\n",
       "\n",
       "    .dataframe thead th {\n",
       "        text-align: right;\n",
       "    }\n",
       "</style>\n",
       "<table border=\"1\" class=\"dataframe\">\n",
       "  <thead>\n",
       "    <tr style=\"text-align: right;\">\n",
       "      <th></th>\n",
       "      <th>Estimate</th>\n",
       "      <th>2.5_ci</th>\n",
       "      <th>97.5_ci</th>\n",
       "      <th>SE</th>\n",
       "      <th>DF</th>\n",
       "      <th>T-stat</th>\n",
       "      <th>P-val</th>\n",
       "      <th>Sig</th>\n",
       "    </tr>\n",
       "  </thead>\n",
       "  <tbody>\n",
       "    <tr>\n",
       "      <th>(Intercept)</th>\n",
       "      <td>5.182448</td>\n",
       "      <td>2.520514</td>\n",
       "      <td>7.844381</td>\n",
       "      <td>1.358154</td>\n",
       "      <td>15.923358</td>\n",
       "      <td>3.815802</td>\n",
       "      <td>0.001533</td>\n",
       "      <td>**</td>\n",
       "    </tr>\n",
       "    <tr>\n",
       "      <th>eco1</th>\n",
       "      <td>-0.280779</td>\n",
       "      <td>-2.137294</td>\n",
       "      <td>1.575736</td>\n",
       "      <td>0.947219</td>\n",
       "      <td>23.464912</td>\n",
       "      <td>-0.296425</td>\n",
       "      <td>0.769514</td>\n",
       "      <td></td>\n",
       "    </tr>\n",
       "    <tr>\n",
       "      <th>eco2</th>\n",
       "      <td>-1.489637</td>\n",
       "      <td>-3.355904</td>\n",
       "      <td>0.376631</td>\n",
       "      <td>0.952195</td>\n",
       "      <td>19.842665</td>\n",
       "      <td>-1.564425</td>\n",
       "      <td>0.133527</td>\n",
       "      <td></td>\n",
       "    </tr>\n",
       "    <tr>\n",
       "      <th>hours</th>\n",
       "      <td>0.551802</td>\n",
       "      <td>0.003722</td>\n",
       "      <td>1.099882</td>\n",
       "      <td>0.279638</td>\n",
       "      <td>23.282174</td>\n",
       "      <td>1.973276</td>\n",
       "      <td>0.060449</td>\n",
       "      <td>.</td>\n",
       "    </tr>\n",
       "    <tr>\n",
       "      <th>school_eco1</th>\n",
       "      <td>-0.024528</td>\n",
       "      <td>-1.921920</td>\n",
       "      <td>1.872863</td>\n",
       "      <td>0.968075</td>\n",
       "      <td>23.275112</td>\n",
       "      <td>-0.025337</td>\n",
       "      <td>0.980002</td>\n",
       "      <td></td>\n",
       "    </tr>\n",
       "    <tr>\n",
       "      <th>school_eco2</th>\n",
       "      <td>-0.959734</td>\n",
       "      <td>-3.018088</td>\n",
       "      <td>1.098619</td>\n",
       "      <td>1.050200</td>\n",
       "      <td>23.714598</td>\n",
       "      <td>-0.913859</td>\n",
       "      <td>0.369989</td>\n",
       "      <td></td>\n",
       "    </tr>\n",
       "  </tbody>\n",
       "</table>\n",
       "</div>"
      ],
      "text/plain": [
       "             Estimate    2.5_ci   97.5_ci        SE         DF    T-stat  \\\n",
       "(Intercept)  5.182448  2.520514  7.844381  1.358154  15.923358  3.815802   \n",
       "eco1        -0.280779 -2.137294  1.575736  0.947219  23.464912 -0.296425   \n",
       "eco2        -1.489637 -3.355904  0.376631  0.952195  19.842665 -1.564425   \n",
       "hours        0.551802  0.003722  1.099882  0.279638  23.282174  1.973276   \n",
       "school_eco1 -0.024528 -1.921920  1.872863  0.968075  23.275112 -0.025337   \n",
       "school_eco2 -0.959734 -3.018088  1.098619  1.050200  23.714598 -0.913859   \n",
       "\n",
       "                P-val Sig  \n",
       "(Intercept)  0.001533  **  \n",
       "eco1         0.769514      \n",
       "eco2         0.133527      \n",
       "hours        0.060449   .  \n",
       "school_eco1  0.980002      \n",
       "school_eco2  0.369989      "
      ]
     },
     "execution_count": 55,
     "metadata": {},
     "output_type": "execute_result"
    }
   ],
   "source": [
    "model1.coefs\n"
   ]
  },
  {
   "cell_type": "code",
   "execution_count": 54,
   "metadata": {},
   "outputs": [
    {
     "data": {
      "text/html": [
       "<div>\n",
       "<style scoped>\n",
       "    .dataframe tbody tr th:only-of-type {\n",
       "        vertical-align: middle;\n",
       "    }\n",
       "\n",
       "    .dataframe tbody tr th {\n",
       "        vertical-align: top;\n",
       "    }\n",
       "\n",
       "    .dataframe thead th {\n",
       "        text-align: right;\n",
       "    }\n",
       "</style>\n",
       "<table border=\"1\" class=\"dataframe\">\n",
       "  <thead>\n",
       "    <tr style=\"text-align: right;\">\n",
       "      <th></th>\n",
       "      <th>X.Intercept.</th>\n",
       "      <th>hours</th>\n",
       "    </tr>\n",
       "  </thead>\n",
       "  <tbody>\n",
       "    <tr>\n",
       "      <th>1</th>\n",
       "      <td>-0.295336</td>\n",
       "      <td>0.002176</td>\n",
       "    </tr>\n",
       "    <tr>\n",
       "      <th>2</th>\n",
       "      <td>0.031509</td>\n",
       "      <td>-0.000232</td>\n",
       "    </tr>\n",
       "    <tr>\n",
       "      <th>3</th>\n",
       "      <td>0.326265</td>\n",
       "      <td>-0.002404</td>\n",
       "    </tr>\n",
       "    <tr>\n",
       "      <th>4</th>\n",
       "      <td>-0.062438</td>\n",
       "      <td>0.000460</td>\n",
       "    </tr>\n",
       "  </tbody>\n",
       "</table>\n",
       "</div>"
      ],
      "text/plain": [
       "   X.Intercept.     hours\n",
       "1     -0.295336  0.002176\n",
       "2      0.031509 -0.000232\n",
       "3      0.326265 -0.002404\n",
       "4     -0.062438  0.000460"
      ]
     },
     "execution_count": 54,
     "metadata": {},
     "output_type": "execute_result"
    }
   ],
   "source": [
    " model1.ranef"
   ]
  },
  {
   "cell_type": "code",
   "execution_count": 57,
   "metadata": {},
   "outputs": [
    {
     "data": {
      "text/plain": [
       "array([6.24373975, 5.99506878, 4.80579246, 6.79771808, 6.19109137,\n",
       "       3.77516275, 5.69355128, 6.5683532 , 5.66726907, 6.74153627,\n",
       "       7.88132023, 7.11492889, 5.58931276, 4.41929529, 6.5683532 ,\n",
       "       5.64274073, 7.0482791 , 8.12827498, 6.1921385 , 7.56364152,\n",
       "       6.64080685, 9.35449693, 5.35736227, 5.5888603 , 4.70753472,\n",
       "       6.83914399, 6.49601699, 7.58066084, 7.31546237, 6.99208654])"
      ]
     },
     "execution_count": 57,
     "metadata": {},
     "output_type": "execute_result"
    }
   ],
   "source": [
    "model1.fits"
   ]
  }
 ],
 "metadata": {
  "kernelspec": {
   "display_name": "Python 3.9.12",
   "language": "python",
   "name": "python3"
  },
  "language_info": {
   "codemirror_mode": {
    "name": "ipython",
    "version": 3
   },
   "file_extension": ".py",
   "mimetype": "text/x-python",
   "name": "python",
   "nbconvert_exporter": "python",
   "pygments_lexer": "ipython3",
   "version": "3.9.12"
  },
  "orig_nbformat": 4,
  "vscode": {
   "interpreter": {
    "hash": "7631d2f67dc5c0d81c934cd816f64da3a3e19087cae08f194906cf70954a9de3"
   }
  }
 },
 "nbformat": 4,
 "nbformat_minor": 2
}
