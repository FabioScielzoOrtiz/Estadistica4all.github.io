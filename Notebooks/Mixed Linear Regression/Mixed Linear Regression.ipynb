{
 "cells": [
  {
   "cell_type": "markdown",
   "metadata": {},
   "source": []
  },
  {
   "cell_type": "markdown",
   "metadata": {},
   "source": [
    "**Multinivel Models**\n",
    "\n",
    "Level 2: Hospitals $(i)$  grupos\n",
    "\n",
    "Level 1: Patients $(j)$  individuos"
   ]
  },
  {
   "cell_type": "markdown",
   "metadata": {},
   "source": []
  },
  {
   "cell_type": "markdown",
   "metadata": {},
   "source": [
    "**Longitudinal Models**\n",
    "\n",
    "Level 2: Estudiantes $(i)$  individuos\n",
    "\n",
    "Level 1: Medidas Repetidas $(j)$  medidas repetidas"
   ]
  },
  {
   "cell_type": "markdown",
   "metadata": {},
   "source": []
  },
  {
   "cell_type": "markdown",
   "metadata": {},
   "source": [
    "### Mixed Simple Linear Regression"
   ]
  },
  {
   "cell_type": "markdown",
   "metadata": {},
   "source": [
    "There are four cases:"
   ]
  },
  {
   "cell_type": "markdown",
   "metadata": {},
   "source": [
    "<img src=\"mix.jpg\" class=\"center\" width=\"300\" height=\"300\">"
   ]
  },
  {
   "cell_type": "markdown",
   "metadata": {},
   "source": [
    "x_{ij} = valor de X para el individuo j del grupo i o para la medida repetida j del individuo i"
   ]
  },
  {
   "cell_type": "markdown",
   "metadata": {},
   "source": [
    "**Model 1:** $\\hspace{0.1cm}$  Simple Linear Regression with **igual** *ordenada en el origen* $\\beta_{0i}$ y *pendiente* $\\beta_{1i}$ para cada   $i$ \n",
    "\n",
    "*Level 1 :* $\\hspace{0.2cm} y_{ij} = \\beta_{0i} + \\beta_{1i} \\cdot x_{ij} + \\varepsilon_{ij}$  $\\hspace{0.25cm}(j)$\n",
    "\n",
    "*Level 2:* $\\hspace{0.2cm} \\beta_{0i} = \\beta_0 \\hspace{0.2cm}, \\hspace{0.2cm}$  $\\beta_{1i} = \\beta_1$ $\\hspace{0.25cm}(i)$\n",
    "\n",
    "*Final Model:* $\\hspace{0.2cm} y_{ij} = \\beta_{0} + \\beta_{1} \\cdot x_{ij} + \\varepsilon_{ij}$  $\\hspace{0.1cm}, \\hspace{0.2cm} \\varepsilon_{ij} \\sim N(0, \\sigma^2)$"
   ]
  },
  {
   "cell_type": "markdown",
   "metadata": {},
   "source": []
  },
  {
   "cell_type": "markdown",
   "metadata": {},
   "source": [
    "**Model 2:** $\\hspace{0.1cm}$  Simple Linear Regression with **distinta** *ordenada en el origen* $\\beta_{0i}$ , **igual** *pendiente* $\\beta_{1i}$ para cada   $i$ \n",
    "\n",
    "*Level 1:* $\\hspace{0.2cm} y_{ij} = \\beta_{0i} + \\beta_{1i} \\cdot x_{ij} + \\varepsilon_{ij}$  $\\hspace{0.25cm}(j)$\n",
    "\n",
    "*Level 2:* $\\hspace{0.2cm} \\beta_{0i} = \\beta_0 + u_i$  $\\hspace{0.25cm}(i)$\n",
    "\n",
    "  $\\hspace{1.25cm} \\beta_{1i} = \\beta_1$\n",
    "\n",
    "*Final Model:* $\\hspace{0.2cm} y_{ij} = \\beta_{0} + \\beta_{1} \\cdot x_{ij} + \\varepsilon_{ij} + u_i$  $\\hspace{0.1cm}, \\hspace{0.2cm} \\varepsilon_{ij} \\sim N(0, \\sigma^2)$ $\\hspace{0.1cm}, \\hspace{0.2cm} u_{i} \\sim N(0, \\sigma_u^2)$"
   ]
  },
  {
   "cell_type": "markdown",
   "metadata": {},
   "source": []
  },
  {
   "cell_type": "markdown",
   "metadata": {},
   "source": [
    "**Model 3:** $\\hspace{0.1cm}$  Simple Linear Regression with **igual** *ordenada en el origen* $\\beta_{0i}$ , **distinta** *pendiente* $\\beta_{1i}$ para cada   $i$ \n",
    "\n",
    "*Level 1:* $\\hspace{0.2cm} y_{ij} = \\beta_{0i} + \\beta_{1i} \\cdot x_{ij} + \\varepsilon_{ij}$  $\\hspace{0.25cm}(j)$\n",
    "\n",
    "*Level 2:* $\\hspace{0.3cm} \\beta_{0i} = \\beta_0 $  $\\hspace{1cm}(i)$\n",
    "\n",
    "  $\\hspace{1.25cm} \\beta_{1i} = \\beta_1 + v_i$\n",
    "\n",
    "*Final Model:* $\\hspace{0.2cm} y_{ij} = \\beta_{0} + (\\beta_1 + v_i) \\cdot x_{ij} + \\varepsilon_{ij} = \\beta_{0} + \\beta_1\\cdot x_{ij} + v_i \\cdot x_{ij} + \\varepsilon_{ij}   $  $\\hspace{0.1cm}, \\hspace{0.2cm} \\varepsilon_{ij} \\sim N(0, \\sigma^2)$  $\\hspace{0.1cm}, \\hspace{0.2cm} v_{i} \\sim N(0, \\sigma_v^2)$"
   ]
  },
  {
   "cell_type": "markdown",
   "metadata": {},
   "source": []
  },
  {
   "cell_type": "markdown",
   "metadata": {},
   "source": [
    "**Model 4:** $\\hspace{0.1cm}$  Simple Linear Regression with **distinta** *ordenada en el origen* $\\beta_{0i}$ , **distinta** *pendiente* $\\beta_{1i}$ para cada   $i$ \n",
    "\n",
    "*Level 1:* $\\hspace{0.2cm} y_{ij} = \\beta_{0i} + \\beta_{1i} \\cdot x_{ij} + \\varepsilon_{ij}$  $\\hspace{0.25cm}(j)$\n",
    "\n",
    "*Level 2:* $\\hspace{0.3cm} \\beta_{0i} = \\beta_0 + u_i $  $\\hspace{1cm}(i)$\n",
    "\n",
    "  $\\hspace{1.25cm} \\beta_{1i} = \\beta_1 + v_i$\n",
    "\n",
    "*Final Model:* $\\hspace{0.2cm} y_{ij} = \\beta_{0} + (\\beta_1 + v_i) \\cdot x_{ij} + \\varepsilon_{ij} + u_i = \\beta_{0} + \\beta_1\\cdot x_{ij} + v_i \\cdot x_{ij} + \\varepsilon_{ij} + u_i  $  $\\hspace{0.1cm}, \\hspace{0.2cm} \\varepsilon_{ij} \\sim N(0, \\sigma^2)$ $\\hspace{0.1cm}, \\hspace{0.2cm} u_{i} \\sim N(0, \\sigma_u^2)$ $\\hspace{0.1cm}, \\hspace{0.2cm} v_{i} \\sim N(0, \\sigma_v^2)$"
   ]
  },
  {
   "cell_type": "markdown",
   "metadata": {},
   "source": []
  },
  {
   "cell_type": "markdown",
   "metadata": {},
   "source": [
    "### Mixed Multiple Linear Regression"
   ]
  },
  {
   "cell_type": "markdown",
   "metadata": {},
   "source": [
    "In this case, there are too much cases, some of them are:"
   ]
  },
  {
   "cell_type": "markdown",
   "metadata": {},
   "source": [
    "Now we need three index:\n",
    "\n",
    "Level 2: i\n",
    "\n",
    "Level 1: j\n",
    "\n",
    "Predictor: r=1,...,p\n",
    "\n",
    "x_{ij, r} = valor de X_r para el individuo j del grupo i o valor de X_r en la medida repetida j del individuo i"
   ]
  },
  {
   "cell_type": "markdown",
   "metadata": {},
   "source": [
    "**Model 1:** $\\hspace{0.1cm}$  Multiple Linear Regression with **igual** *ordenada en el origen* $\\beta_{0i}$ y *pendientes* $\\beta_{1i}, \\beta_{2i},...,\\beta_{pi} $ para cada $i$ \n",
    "\n",
    "*Level 1 :* $\\hspace{0.2cm} y_{ij} = \\beta_{0i} + \\beta_{1i} \\cdot x_{ij, 1} + \\beta_{2i} \\cdot x_{ij, 2} +...+ \\beta_{pi} \\cdot x_{ij, p} + \\varepsilon_{ij}$  $\\hspace{0.25cm}(j)$\n",
    "\n",
    "*Level 2:* $\\hspace{0.2cm} \\beta_{0i} = \\beta_0 \\hspace{0.2cm}, \\hspace{0.2cm}$  $ \\beta_{2i} = \\beta_2 \\hspace{0.2cm}$  $, \\hspace{0.1cm} \\beta_{3i} = \\beta_3 \\hspace{0.2cm}, $ $\\dots$ $ ,\\hspace{0.2cm} \\beta_{pi} = \\beta_p$ $\\hspace{0.25cm}(i)$\n",
    "\n",
    "*Final Model:* $\\hspace{0.2cm} y_{ij} = \\beta_{0} + \\beta_{1} \\cdot x_{ij,1} + \\beta_{2} \\cdot x_{ij,2} + \\dots + \\beta_{p} \\cdot x_{ij,p} + \\varepsilon_{ij}$  $\\hspace{0.1cm}, \\hspace{0.2cm} \\varepsilon_{ij} \\sim N(0, \\sigma^2)$"
   ]
  },
  {
   "cell_type": "markdown",
   "metadata": {},
   "source": []
  },
  {
   "cell_type": "markdown",
   "metadata": {},
   "source": [
    "**Model 2:** $\\hspace{0.1cm}$  Multiple Linear Regression with **distinta** *ordenada en el origen* $\\beta_{0i}$ pero **iguales** *pendientes* $\\beta_{1i}, \\beta_{2i},...,\\beta_{pi} $ para cada $i$ \n",
    "\n",
    "*Level 1 :* $\\hspace{0.2cm} y_{ij} = \\beta_{0i} + \\beta_{1i} \\cdot x_{ij, 1} + \\beta_{2i} \\cdot x_{ij, 2} +...+ \\beta_{pi} \\cdot x_{ij, p} + \\varepsilon_{ij}$  $\\hspace{0.25cm}(j)$\n",
    "\n",
    "*Level 2:* $\\hspace{0.2cm} \\beta_{0i} = \\beta_0 + u_i \\hspace{0.2cm}, \\hspace{0.2cm}$  $ \\beta_{2i} = \\beta_2 \\hspace{0.2cm}$  $, \\hspace{0.1cm} \\beta_{3i} = \\beta_3 \\hspace{0.2cm}, $ $\\dots$ $ ,\\hspace{0.2cm} \\beta_{pi} = \\beta_p$ $\\hspace{0.25cm}(i)$\n",
    "\n",
    "*Final Model:* $\\hspace{0.2cm} y_{ij} = \\beta_{0} + \\beta_{1} \\cdot x_{ij,1} + \\beta_{2} \\cdot x_{ij,2} + \\dots + \\beta_{p} \\cdot x_{ij,p} + \\varepsilon_{ij} + u_i$  $\\hspace{0.1cm}, \\hspace{0.2cm} \\varepsilon_{ij} \\sim N(0, \\sigma^2)$ $\\hspace{0.1cm} , \\hspace{0.1cm}  u_i \\sim N(0, \\sigma_u^2)$"
   ]
  },
  {
   "cell_type": "markdown",
   "metadata": {},
   "source": []
  },
  {
   "cell_type": "markdown",
   "metadata": {},
   "source": [
    "**Model 3:** $\\hspace{0.1cm}$  Multiple Linear Regression with **igual** *ordenada en el origen* $\\beta_{0i}$ y **distinta** *pendiente* asociada al predictor $X_r$  pero **iguales** pendientes asociadas  al resto de predictores,  para cada $i$ \n",
    "\n",
    "*Level 1 :* $\\hspace{0.2cm} y_{ij} = \\beta_{0i} + \\beta_{1i} \\cdot x_{ij, 1} + \\beta_{2i} \\cdot x_{ij, 2} +...+ \\beta_{pi} \\cdot x_{ij, p} + \\varepsilon_{ij}$  $\\hspace{0.25cm}(j)$\n",
    "\n",
    "*Level 2:* $\\hspace{0.2cm} \\beta_{0i} = \\beta_0  \\hspace{0.2cm}, \\hspace{0.2cm}$  $ \\beta_{2i} = \\beta_2 \\hspace{0.2cm}$  $, \\dots ,\\hspace{0.1cm} \\beta_{ri} = \\beta_r  + u_i \\hspace{0.2cm}, $ $\\dots$ $ ,\\hspace{0.2cm} \\beta_{pi} = \\beta_p$ $\\hspace{0.25cm}(i)$\n",
    "\n",
    "*Final Model:* $\\hspace{0.2cm} y_{ij} = \\beta_{0} + \\beta_{1} \\cdot x_{ij,1} + \\dots + \\beta_{r} \\cdot x_{ij,r} + u_i \\cdot  x_{ij,r}  + \\dots + \\beta_{p} \\cdot x_{ij,p} + \\varepsilon_{ij} $  $\\hspace{0.1cm}, \\hspace{0.2cm} \\varepsilon_{ij} \\sim N(0, \\sigma^2)$ $\\hspace{0.1cm} , \\hspace{0.1cm}  u_i \\sim N(0, \\sigma_u^2)$"
   ]
  },
  {
   "cell_type": "markdown",
   "metadata": {},
   "source": []
  },
  {
   "cell_type": "markdown",
   "metadata": {},
   "source": [
    "**Model 4:** $\\hspace{0.1cm}$  Multiple Linear Regression with **igual** *ordenada en el origen* $\\beta_{0i}$ y **distintas** *pendientes* asociadas a los predictores $X_r$ y $X_h$  pero **iguales** pendientes asociadas  al resto de predictores,  para cada $i$ \n",
    "\n",
    "*Level 1 :* $\\hspace{0.2cm} y_{ij} = \\beta_{0i} + \\beta_{1i} \\cdot x_{ij, 1} + \\beta_{2i} \\cdot x_{ij, 2} +...+ \\beta_{pi} \\cdot x_{ij, p} + \\varepsilon_{ij}$  $\\hspace{0.25cm}(j)$\n",
    "\n",
    "*Level 2:* $\\hspace{0.2cm} \\beta_{0i} = \\beta_0  \\hspace{0.2cm}, \\hspace{0.2cm}$  $ \\beta_{2i} = \\beta_2 \\hspace{0.2cm}$  $, \\dots ,\\hspace{0.1cm} \\beta_{ri} = \\beta_r  + u_i \\hspace{0.2cm}, $ $\\hspace{0.1cm} \\beta_{hi} = \\beta_h  + v_i \\hspace{0.2cm}, $ $\\dots$ $ ,\\hspace{0.2cm} \\beta_{pi} = \\beta_p$ $\\hspace{0.25cm}(i)$\n",
    "\n",
    "*Final Model:* $\\hspace{0.2cm} y_{ij} = \\beta_{0} + \\beta_{1} \\cdot x_{ij,1} + \\dots + \\beta_{r} \\cdot x_{ij,r} + u_i \\cdot x_{ij,r} + \\beta_{h} \\cdot x_{ij,h} + v_i \\cdot x_{ij,h} + \\dots + \\beta_{p} \\cdot x_{ij,p} + \\varepsilon_{ij}$ $\\hspace{0.1cm}, \\hspace{0.2cm} \\varepsilon_{ij} \\sim N(0, \\sigma^2)$ $\\hspace{0.1cm} , \\hspace{0.1cm}  u_i \\sim N(0, \\sigma_u^2)$ $\\hspace{0.1cm} , \\hspace{0.1cm}  v_i \\sim N(0, \\sigma_v^2)$"
   ]
  },
  {
   "cell_type": "markdown",
   "metadata": {},
   "source": []
  },
  {
   "cell_type": "markdown",
   "metadata": {},
   "source": [
    "**Model 5:** $\\hspace{0.1cm}$  Multiple Linear Regression with **distinta** *ordenada en el origen* $\\beta_{0i}$ y **distintas** *pendientes* asociadas a los predictores $X_r$ y $X_h$  pero **iguales** pendientes asociadas  al resto de predictores,  para cada $i$ \n",
    "\n",
    "*Level 1 :* $\\hspace{0.2cm} y_{ij} = \\beta_{0i} + \\beta_{1i} \\cdot x_{ij, 1} + \\beta_{2i} \\cdot x_{ij, 2} +...+ \\beta_{pi} \\cdot x_{ij, p} + \\varepsilon_{ij}$  $\\hspace{0.25cm}(j)$\n",
    "\n",
    "*Level 2:* $\\hspace{0.2cm} \\beta_{0i} = \\beta_0 + u_i  \\hspace{0.2cm}, \\hspace{0.2cm}$  $ \\beta_{2i} = \\beta_2 \\hspace{0.2cm}$  $, \\dots ,\\hspace{0.1cm} \\beta_{ri} = \\beta_r  + v_i \\hspace{0.2cm}, $ $\\hspace{0.1cm} \\beta_{hi} = \\beta_h  + \\gamma_i \\hspace{0.2cm}, $ $\\dots$ $ ,\\hspace{0.2cm} \\beta_{pi} = \\beta_p$ $\\hspace{0.25cm}(i)$\n",
    "\n",
    "*Final Model:* $\\hspace{0.2cm} y_{ij} = \\beta_{0} + \\beta_{1} \\cdot x_{ij,1} + \\dots + \\beta_{r} \\cdot x_{ij,r} + v_i \\cdot x_{ij,r} + \\beta_{h} \\cdot x_{ij,h} + \\gamma_i \\cdot x_{ij,h} + \\dots  + \\beta_{p} \\cdot x_{ij,p} + \\varepsilon_{ij} + u_i$  $\\hspace{0.1cm}, \\hspace{0.2cm} \\varepsilon_{ij} \\sim N(0, \\sigma^2)$ $\\hspace{0.1cm} , \\hspace{0.1cm}  u_i \\sim N(0, \\sigma_u^2)$ $\\hspace{0.1cm} , \\hspace{0.1cm}  v_i \\sim N(0, \\sigma_v^2)$ $\\hspace{0.1cm} , \\hspace{0.1cm}  \\gamma_i \\sim N(0, \\sigma_\\gamma^2)$"
   ]
  },
  {
   "cell_type": "markdown",
   "metadata": {},
   "source": []
  },
  {
   "cell_type": "markdown",
   "metadata": {},
   "source": [
    "etc"
   ]
  },
  {
   "cell_type": "markdown",
   "metadata": {},
   "source": [
    "### Example  Linear Regression Models in R and Python"
   ]
  },
  {
   "cell_type": "code",
   "execution_count": 1,
   "metadata": {},
   "outputs": [
    {
     "ename": "ModuleNotFoundError",
     "evalue": "No module named 'numpy'",
     "output_type": "error",
     "traceback": [
      "\u001b[1;31m---------------------------------------------------------------------------\u001b[0m",
      "\u001b[1;31mModuleNotFoundError\u001b[0m                       Traceback (most recent call last)",
      "\u001b[1;32mc:\\Users\\Usuario\\Documents\\fabio\\Fabio\\BLOG\\Estadistica4all - WEB\\Notebooks\\Mixed Linear Regression\\Mixed Linear Regression.ipynb Celda 33\u001b[0m in \u001b[0;36m<cell line: 1>\u001b[1;34m()\u001b[0m\n\u001b[1;32m----> <a href='vscode-notebook-cell:/c%3A/Users/Usuario/Documents/fabio/Fabio/BLOG/Estadistica4all%20-%20WEB/Notebooks/Mixed%20Linear%20Regression/Mixed%20Linear%20Regression.ipynb#ch0000038?line=0'>1</a>\u001b[0m \u001b[39mimport\u001b[39;00m \u001b[39mnumpy\u001b[39;00m \u001b[39mas\u001b[39;00m \u001b[39mnp\u001b[39;00m\n\u001b[0;32m      <a href='vscode-notebook-cell:/c%3A/Users/Usuario/Documents/fabio/Fabio/BLOG/Estadistica4all%20-%20WEB/Notebooks/Mixed%20Linear%20Regression/Mixed%20Linear%20Regression.ipynb#ch0000038?line=1'>2</a>\u001b[0m \u001b[39mimport\u001b[39;00m \u001b[39mpandas\u001b[39;00m \u001b[39mas\u001b[39;00m \u001b[39mpd\u001b[39;00m\n\u001b[0;32m      <a href='vscode-notebook-cell:/c%3A/Users/Usuario/Documents/fabio/Fabio/BLOG/Estadistica4all%20-%20WEB/Notebooks/Mixed%20Linear%20Regression/Mixed%20Linear%20Regression.ipynb#ch0000038?line=2'>3</a>\u001b[0m \u001b[39mimport\u001b[39;00m \u001b[39mstatsmodels\u001b[39;00m\u001b[39m.\u001b[39;00m\u001b[39mapi\u001b[39;00m \u001b[39mas\u001b[39;00m \u001b[39msm\u001b[39;00m\n",
      "\u001b[1;31mModuleNotFoundError\u001b[0m: No module named 'numpy'"
     ]
    }
   ],
   "source": [
    "import numpy as np\n",
    "import pandas as pd\n",
    "import statsmodels.api as sm\n",
    "import statsmodels.formula.api as smf\n",
    "from statsmodels.tools.sm_exceptions import ConvergenceWarning"
   ]
  }
 ],
 "metadata": {
  "kernelspec": {
   "display_name": "Python 3.9.12",
   "language": "python",
   "name": "python3"
  },
  "language_info": {
   "codemirror_mode": {
    "name": "ipython",
    "version": 3
   },
   "file_extension": ".py",
   "mimetype": "text/x-python",
   "name": "python",
   "nbconvert_exporter": "python",
   "pygments_lexer": "ipython3",
   "version": "3.9.12"
  },
  "orig_nbformat": 4,
  "vscode": {
   "interpreter": {
    "hash": "7631d2f67dc5c0d81c934cd816f64da3a3e19087cae08f194906cf70954a9de3"
   }
  }
 },
 "nbformat": 4,
 "nbformat_minor": 2
}
