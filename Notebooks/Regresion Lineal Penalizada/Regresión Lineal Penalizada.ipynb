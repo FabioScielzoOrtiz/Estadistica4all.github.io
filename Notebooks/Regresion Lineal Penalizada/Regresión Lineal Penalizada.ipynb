{
 "cells": [
  {
   "cell_type": "markdown",
   "metadata": {},
   "source": [
    "# Introducción"
   ]
  },
  {
   "cell_type": "markdown",
   "metadata": {},
   "source": [
    "Para usar los métodos de regresion lineal penalizada, la respuesta y los predictores deben estandarizarse para que tengan media 0 y varianza 1."
   ]
  },
  {
   "cell_type": "markdown",
   "metadata": {},
   "source": [
    "Consideremos el típico modelo de regresión lineal: \n",
    "\n",
    "$$y_i = \\beta_0 + \\beta_1 \\cdot x_{i1} + \\beta_2 \\cdot x_{i2} + ... +  \\beta_p \\cdot x_{ip} + \\epsilon$$"
   ]
  },
  {
   "cell_type": "markdown",
   "metadata": {},
   "source": [
    "Estandarizamos los predictores $X_1,...,X_p$ y la respuesta $Y$:\n",
    "\n",
    "$$\\widetilde{Y} = \\dfrac{Y - \\overline{y}}{\\sigma_Y} \\\\[0.5cm]$$\n",
    "\n",
    "$$\\widetilde{X_j} = \\dfrac{X_j - \\overline{x_j}}{\\sigma_{X_j}}$$ \n",
    "\n",
    "para $j=1,..,p$"
   ]
  },
  {
   "cell_type": "markdown",
   "metadata": {},
   "source": [
    "El modelo estandarizado es:\n",
    "\n",
    "$$\\widetilde{y}_i = \\beta_0 + \\widetilde{\\beta}_1 \\cdot \\widetilde{x}_{i1} + \\widetilde{\\beta}_2 \\cdot \\widetilde{x}_{i2} + ... +  \\widetilde{\\beta}_p \\cdot \\widetilde{x}_{ip} + \\widetilde{\\epsilon}$$"
   ]
  },
  {
   "cell_type": "markdown",
   "metadata": {},
   "source": [
    "Donde:\n"
   ]
  },
  {
   "cell_type": "markdown",
   "metadata": {},
   "source": [
    "\n",
    "$\\widetilde{\\beta_j} = \\dfrac{\\sigma_{X_j}}{\\sigma_{Y}}\\cdot \\beta_j \\hspace{0.5cm}$  , para $j=1,...,p$\n",
    "\n",
    "$\\beta_0 = \\overline{y} - \\sum_{j=1}^{p} \\overline{x}_j \\cdot \\beta_j$\n",
    "\n",
    "$\\widetilde{\\epsilon} = \\dfrac{\\epsilon}{\\sigma_{Y}}$"
   ]
  },
  {
   "cell_type": "markdown",
   "metadata": {},
   "source": []
  },
  {
   "cell_type": "markdown",
   "metadata": {},
   "source": [
    "El modelo estandarizado estimado es:\n",
    "\n",
    "$$\\widehat{\\widetilde{y}}_i = \\widehat{\\beta}_0 + \\widehat{\\widetilde{\\beta}}_1 \\cdot  \\widetilde{x}_{i1} + \\widehat{\\widetilde{\\beta}}_2 \\cdot \\widetilde{x}_{i2} + ... +  \\widehat{\\widetilde{\\beta}}_p \\cdot \\widetilde{x}_{ip}$$"
   ]
  },
  {
   "cell_type": "markdown",
   "metadata": {},
   "source": [
    "Ahora los coeficientes betas estimados $\\widehat{\\widetilde{\\beta}}_1, \\widehat{\\widetilde{\\beta}}_2 , ..., \\widehat{\\widetilde{\\beta}}_p$ son directamente comparables ya que no dependen de las unidades de medida de los predictores, puesto que al haber estandarizado estos las unidades de medida se eliminan.\n",
    "\n",
    "Ahora si que se cumple que dados dos betas estimados si  $\\widehat{\\widetilde{\\beta}}_r > \\widehat{\\widetilde{\\beta}}_h$ , entonces $X_r$ es mas relevante como predictor de $Y$ (tiene más peso) que $X_h$\n",
    "\n",
    "Esto no se cumplia en la regresion lineal ordinaria puesto que las estimaciones de los betas no eran directamente comparables al depender de las unidades de medida. Por ello betas estimados cercanos a cero no implicaban necesariamente que el predictor asociado fuese no significativo, ya que si ese predictor se media, por ejemplo, en millones de euros, un beta estimado de 0.001 serian 1000 euros (0.001 millones de euros), si se cambia la unidad de medida de dicho predictor de millones de euros a simplmenente euros entonces dicho beta estimado cambiaria de 0.001 a 1000 lo cual ya no es cercano a cero."
   ]
  },
  {
   "cell_type": "markdown",
   "metadata": {},
   "source": []
  },
  {
   "cell_type": "markdown",
   "metadata": {},
   "source": [
    "# Regresión Ridge"
   ]
  },
  {
   "cell_type": "markdown",
   "metadata": {},
   "source": [
    "El modelo de regresión Ridge es básicamente un modelo de regresión lineal en el que la respuesta y los predictores están estandarizados y la estimacion de los coeficientes betas se hace resolviendo el siguiente problema de optimización :"
   ]
  },
  {
   "cell_type": "markdown",
   "metadata": {},
   "source": [
    "Sea $\\hspace{0.1cm}\\widetilde{\\beta}= (\\widetilde{\\beta}_1,\\widetilde{\\beta}_2,...,\\widetilde{\\beta}_p)$ , $\\hspace{0.15cm} \\widetilde{x}_i = (\\widetilde{x}_{i1},...,\\widetilde{x}_{ip})$"
   ]
  },
  {
   "cell_type": "markdown",
   "metadata": {},
   "source": [
    "\n",
    "\\begin{gather*}\n",
    "  \\underset{\\widetilde{\\beta}}{Min} \\hspace{0.2cm}  \\biggl\\{ \\hspace{0.1cm} RSS(\\widetilde{\\beta}) \\hspace{0.1cm} +\\hspace{0.1cm}  \\lambda \\cdot | | \\hspace{0.06cm}\\widetilde{\\beta} \\hspace{0.06cm}||^2_2 \\hspace{0.1cm} \\biggl\\} \\hspace{0.2cm} = \\hspace{0.2cm}  \\underset{\\widetilde{\\beta}}{Min} \\hspace{0.2cm} \\biggl\\{ \\hspace{0.1cm} \\sum_{i=1}^{n} \\hspace{0.1cm}(y_i - \\beta_0 - \\widetilde{x}_i\\hspace{0.05cm}^t \\cdot \\beta)\\hspace{0.02cm}^2 \\hspace{0.1cm} + \\hspace{0.1cm}  \\lambda \\cdot | | \\hspace{0.06cm}\\widetilde{\\beta} \\hspace{0.06cm}||^2_2  \\hspace{0.1cm} \\biggl\\} \\hspace{0.2cm} =  \\\\[0.8cm]\n",
    "  = \\hspace{0.2cm} \\underset{\\widetilde{\\beta}_1,...,\\widetilde{\\beta}_p}{Min} \\hspace{0.2cm} \\biggl\\{ \\hspace{0.1cm} \\sum_{i=1}^{n} \\hspace{0.1cm}(y_i - \\beta_0 - \\widetilde{\\beta}_1 \\cdot x_{i1} - \\dots - \\widetilde{\\beta}_p \\cdot x_{ip})\\hspace{0.02cm}^2  \\hspace{0.1cm} + \\hspace{0.1cm}  \\lambda \\cdot | | \\hspace{0.06cm}\\widetilde{\\beta} \\hspace{0.06cm}||^2_2 \\hspace{0.1cm} \\biggl\\}\n",
    "\\end{gather*}\n"
   ]
  },
  {
   "cell_type": "markdown",
   "metadata": {},
   "source": [
    "Donde: \n",
    "\n",
    "$\\lambda \\geq 0$ es un parámetro de penalización\n",
    "\n",
    "$| | \\hspace{0.06cm}\\widetilde{\\beta} \\hspace{0.06cm}||^2_2 \\hspace{0.1cm} = \\hspace{0.1cm} \\sum_{j=1}^p \\hspace{0.1cm} \\widetilde{\\beta}_j\\hspace{0.01cm}^2\\hspace{0.15cm}$ es la norma Euclidea del vector $\\hspace{0.15cm}\\widetilde{\\beta}\\hspace{0.15cm}$, la cual es una medida del tamaño del vector.\n",
    "\n"
   ]
  },
  {
   "cell_type": "markdown",
   "metadata": {},
   "source": []
  },
  {
   "cell_type": "markdown",
   "metadata": {},
   "source": [
    "**Observaciones :**"
   ]
  },
  {
   "cell_type": "markdown",
   "metadata": {},
   "source": [
    "La expresión $\\hspace{0.15cm}\\lambda \\cdot | | \\hspace{0.06cm}\\widetilde{\\beta} \\hspace{0.06cm}||^2_2\\hspace{0.15cm}$ penaliza el tamaño del vector $\\hspace{0.15cm}\\widetilde{\\beta}$ \n",
    "\n",
    "Cuanto mayor sea $\\hspace{0.15cm}\\lambda\\hspace{0.15cm}$ mayor es la penalización impuesta al tamaño del vector $\\hspace{0.15cm}\\widetilde{\\beta} \\hspace{0.15cm}$  en el problema de optimización.\n",
    "\n",
    "Si $\\hspace{0.15cm}\\lambda = 0\\hspace{0.15cm}$ el problema de optimizacion es el de minimos cuadrados ordinarios, propio del modelo de regresion lineal ordinario.\n",
    "\n",
    "Si $\\hspace{0.15cm}\\lambda\\hspace{0.15cm}$ es grande  la solucion del problema $\\hspace{0.15cm}\\widehat{\\widetilde{\\beta}}\\hspace{0.05cm}^{Ridge} \\hspace{0.15cm}$  tendra un tamaño (norma Euclidea) pequeño, es decir, los  $\\hspace{0.15cm}\\widehat{\\widetilde{\\beta}}_1, \\widehat{\\widetilde{\\beta}}_2,..., \\widehat{\\widetilde{\\beta}}_p\\hspace{0.15cm}$ estarán cerca de $0$"
   ]
  },
  {
   "cell_type": "markdown",
   "metadata": {},
   "source": [
    "$\\lambda$ debe ser seleccionado a priori de la resolucion del problema de optimización."
   ]
  },
  {
   "cell_type": "markdown",
   "metadata": {},
   "source": [
    "Ventajas de la regresion Ridge sobre la regresion de minimos cuadrados ordinarios:"
   ]
  },
  {
   "cell_type": "markdown",
   "metadata": {},
   "source": [
    "- Las predicciones de la regresion por minimos cuadrados ordinarios son insesgadas pero tiene alta varianza, especialmente si $p \\approx n$. Además si $p>n$ no se puede estimar la regresion por minimos cuadrados ordinarios.\n",
    "\n",
    "-  La regresión Ridge se basa en el equilibrio entre sesgo y varianza. Disminuye sustancialmente la varianza de las predicciones a costa de aumentar un poco su sesgo. Además, incluso si $\\hspace{0.1cm}p \\approx n \\hspace{0.1cm}$ o $\\hspace{0.1cm} p>n\\hspace{0.1cm}$ , la regresion Ridge puede funcionar bien.\n",
    "\n",
    "- Esto lleva a que si $\\lambda$ es seleccionado correctamente, el error cuadratico medio de prediccion $(ECMP)$es menor en la regresion Ridge que en la de minimos cuadrados ordinarios, lo que conduce a mayor capacidad predictiva de Ridge sobre minimos cuadrados ordinarios."
   ]
  },
  {
   "cell_type": "markdown",
   "metadata": {},
   "source": []
  },
  {
   "cell_type": "markdown",
   "metadata": {},
   "source": []
  },
  {
   "cell_type": "markdown",
   "metadata": {},
   "source": [
    "# Ejercicio 1\n",
    "\n",
    "Indicar cuál de los siguientes puntos es correcto, justificando tu respuesta. Regresión ridge y regresión lasso, relativa a mínimos cuadrados, son:\n",
    "\n",
    "- Más flexibles y, por lo tanto, brindarán una mejora en la precisión de las predicciones cuando su aumento en sesgo sea menor que su disminución en varianza\n",
    "\n",
    "- Más flexibles y, por lo tanto, brindarán una mejora en la precisión de las predicciones cuando su aumento en varianza sea menor que su disminución en sesgo.\n",
    "\n",
    "- Menos flexibles y, por lo tanto, brindarán una mejora en la precisión de las predicciones cuando su aumento en sesgo sea menor que su disminución en varianza. **CORRECTO**\n",
    "\n",
    "- Menos flexibles y, por lo tanto, brindarán una mejora en la precisión de las predicciones cuando su aumento en varianza sea menor que su disminución en sesgo."
   ]
  },
  {
   "cell_type": "markdown",
   "metadata": {},
   "source": [
    "Razonamiento:\n",
    "\n",
    "- Las predicciones de la regresion por minimos cuadrados ordinarios son insesgadas pero tiene alta varianza, especialmente si $p \\approx n$. Además si $p>n$ no se puede estimar la regresion por minimos cuadrados ordinarios.\n",
    "\n",
    "-  La regresión Ridge se basa en el equilibrio entre sesgo y varianza. Disminuye sustancialmente la varianza de las predicciones a costa de aumentar un poco su sesgo (es por ello un método menos flexible, que genera menos sobre-ajuste). Además, incluso si $\\hspace{0.1cm}p \\approx n \\hspace{0.1cm}$ o $\\hspace{0.1cm} p>n\\hspace{0.1cm}$ , la regresion Ridge puede funcionar bien.\n",
    "\n",
    "- Esto lleva a que si $\\lambda$ es seleccionado correctamente, el error cuadratico medio de prediccion $(ECMP)$es menor en la regresion Ridge que en la de minimos cuadrados ordinarios, lo que conduce a mayor capacidad predictiva de Ridge sobre minimos cuadrados ordinarios."
   ]
  },
  {
   "cell_type": "markdown",
   "metadata": {},
   "source": []
  },
  {
   "cell_type": "markdown",
   "metadata": {},
   "source": [
    "# Ejercicio 6\n"
   ]
  },
  {
   "cell_type": "markdown",
   "metadata": {},
   "source": [
    "\n",
    "En este ejercicio, se pide obtener predicciones del logaritmo de la variable crim del conjunto de datos Boston de la librería ISLR2 utilizando el resto de variables como predictores, mediante los siguientes métodos:\n",
    "\n",
    "Regresión ridge.\n",
    "\n",
    "Regresión lasso.\n",
    "\n",
    "Para ello, por sencillez utilizar una muestra de entrenamiento y de test y obtener los correspondientes valores del error cuadrático medio test. Comparar los resultados y explicar las conclusiones más relevantes. Para crear la muestra de entrenamiento, con 355 observaciones seleccionadas al azar, y la muestra test, con las 151 observaciones restantes, fijar la semilla mediante la orden set.seed(1). Esto es importante para poder comparar los resultados con otros procedimientos que veremos en la hoja de la semana que viene."
   ]
  },
  {
   "cell_type": "markdown",
   "metadata": {},
   "source": [
    "El mejor modelo de regresion de minimos cuadrados ordinarios por validación simple usando algoritmos de selección de predictores (practica anterior) es:\n",
    "\n",
    "crim ~ zn + indus + nox + age + ptratio + lstat + medv"
   ]
  },
  {
   "cell_type": "code",
   "execution_count": 335,
   "metadata": {},
   "outputs": [],
   "source": [
    "import pandas as pd\n",
    "import numpy as np\n",
    "\n",
    "url = 'https://raw.githubusercontent.com/JWarmenhoven/ISLR-python/master/Notebooks/Data/Boston.csv'\n",
    "\n",
    "Boston = pd.read_csv(url)"
   ]
  },
  {
   "cell_type": "code",
   "execution_count": 336,
   "metadata": {},
   "outputs": [],
   "source": [
    "Boston['crim'] = np.log(Boston['crim'])"
   ]
  },
  {
   "cell_type": "code",
   "execution_count": 337,
   "metadata": {},
   "outputs": [],
   "source": [
    "Boston_Train = Boston.sample(frac=0.70, replace=False, weights=None, random_state=2, axis=None, ignore_index=False)\n",
    "\n",
    "Boston_Test = Boston.drop( Boston_Train.index , )"
   ]
  },
  {
   "cell_type": "code",
   "execution_count": 338,
   "metadata": {},
   "outputs": [],
   "source": [
    "## TEST\n",
    "\n",
    "X_test = Boston_Test.loc[: , Boston_Test.columns != 'crim']\n",
    "Y_test = Boston_Test.loc[: , 'crim']\n",
    "\n",
    "##############################################################\n",
    "\n",
    "## TRAIN\n",
    "\n",
    "X_train = Boston_Train.loc[: , Boston_Train.columns != 'crim']\n",
    "Y_train = Boston_Train.loc[: , 'crim']\n"
   ]
  },
  {
   "cell_type": "code",
   "execution_count": 339,
   "metadata": {},
   "outputs": [],
   "source": [
    "import statsmodels.formula.api as smf"
   ]
  },
  {
   "cell_type": "code",
   "execution_count": 340,
   "metadata": {},
   "outputs": [
    {
     "name": "stdout",
     "output_type": "stream",
     "text": [
      "                            OLS Regression Results                            \n",
      "==============================================================================\n",
      "Dep. Variable:                   crim   R-squared:                       0.892\n",
      "Model:                            OLS   Adj. R-squared:                  0.888\n",
      "Method:                 Least Squares   F-statistic:                     217.1\n",
      "Date:                Mon, 17 Oct 2022   Prob (F-statistic):          8.89e-156\n",
      "Time:                        14:17:29   Log-Likelihood:                -388.13\n",
      "No. Observations:                 354   AIC:                             804.3\n",
      "Df Residuals:                     340   BIC:                             858.4\n",
      "Df Model:                          13                                         \n",
      "Covariance Type:            nonrobust                                         \n",
      "================================================================================\n",
      "                   coef    std err          t      P>|t|      [0.025      0.975]\n",
      "--------------------------------------------------------------------------------\n",
      "Intercept       -3.3099      0.979     -3.382      0.001      -5.235      -1.385\n",
      "C(chas)[T.1]    -0.0359      0.157     -0.229      0.819      -0.344       0.272\n",
      "zn              -0.0094      0.002     -3.782      0.000      -0.014      -0.005\n",
      "indus            0.0352      0.012      2.877      0.004       0.011       0.059\n",
      "nox              3.4092      0.717      4.758      0.000       2.000       4.819\n",
      "rm              -0.0485      0.078     -0.621      0.535      -0.202       0.105\n",
      "age              0.0072      0.002      2.871      0.004       0.002       0.012\n",
      "dis             -0.0243      0.039     -0.627      0.531      -0.100       0.052\n",
      "rad              0.1478      0.012     12.117      0.000       0.124       0.172\n",
      "tax             -0.0004      0.001     -0.479      0.632      -0.002       0.001\n",
      "ptratio         -0.0521      0.025     -2.074      0.039      -0.101      -0.003\n",
      "black           -0.0018      0.001     -3.470      0.001      -0.003      -0.001\n",
      "lstat            0.0280      0.010      2.835      0.005       0.009       0.047\n",
      "medv             0.0104      0.008      1.335      0.183      -0.005       0.026\n",
      "==============================================================================\n",
      "Omnibus:                        8.121   Durbin-Watson:                   1.943\n",
      "Prob(Omnibus):                  0.017   Jarque-Bera (JB):                8.200\n",
      "Skew:                           0.372   Prob(JB):                       0.0166\n",
      "Kurtosis:                       3.038   Cond. No.                     1.58e+04\n",
      "==============================================================================\n",
      "\n",
      "Notes:\n",
      "[1] Standard Errors assume that the covariance matrix of the errors is correctly specified.\n",
      "[2] The condition number is large, 1.58e+04. This might indicate that there are\n",
      "strong multicollinearity or other numerical problems.\n"
     ]
    }
   ],
   "source": [
    "modelo_MCO_completo =  smf.ols(formula = 'crim ~ zn + indus + C(chas) + nox + rm +  age + dis + rad + tax + ptratio + black + lstat + medv', data =Boston_Train)\n",
    "\n",
    "modelo_MCO_completo = modelo_MCO_completo.fit()\n",
    " \n",
    "print(modelo_MCO_completo.summary())"
   ]
  },
  {
   "cell_type": "code",
   "execution_count": 341,
   "metadata": {},
   "outputs": [],
   "source": [
    "ECM_test_MCO_completo = ( ( modelo_MCO_completo.predict(X_test) - Y_test )**2 ).sum() / len(Y_test)"
   ]
  },
  {
   "cell_type": "code",
   "execution_count": 342,
   "metadata": {},
   "outputs": [
    {
     "data": {
      "text/plain": [
       "0.7449096252772515"
      ]
     },
     "execution_count": 342,
     "metadata": {},
     "output_type": "execute_result"
    }
   ],
   "source": [
    "ECM_test_MCO_completo"
   ]
  },
  {
   "cell_type": "markdown",
   "metadata": {},
   "source": []
  },
  {
   "cell_type": "markdown",
   "metadata": {},
   "source": []
  },
  {
   "cell_type": "code",
   "execution_count": 343,
   "metadata": {},
   "outputs": [],
   "source": [
    "import sklearn"
   ]
  },
  {
   "cell_type": "markdown",
   "metadata": {},
   "source": []
  },
  {
   "cell_type": "code",
   "execution_count": 344,
   "metadata": {},
   "outputs": [],
   "source": [
    "Ridge_sklearn = sklearn.linear_model.Ridge( alpha=1.0 , fit_intercept=True)\n",
    "\n",
    "Ridge_sklearn.fit(X_train, Y_train)  # No es necesario escalar los datos.\n",
    "\n",
    "ECM_test_Ridge = sum( ( Ridge_sklearn.predict(X_test) - Y_test)**2 ) / len(Y_test)"
   ]
  },
  {
   "cell_type": "code",
   "execution_count": 345,
   "metadata": {},
   "outputs": [
    {
     "data": {
      "text/plain": [
       "0.7680525692089318"
      ]
     },
     "execution_count": 345,
     "metadata": {},
     "output_type": "execute_result"
    }
   ],
   "source": [
    "ECM_test_Ridge"
   ]
  },
  {
   "cell_type": "markdown",
   "metadata": {},
   "source": []
  },
  {
   "cell_type": "code",
   "execution_count": 346,
   "metadata": {},
   "outputs": [
    {
     "data": {
      "text/plain": [
       "array([-9.44340395e-03,  4.37816452e-02, -6.22730616e-03,  1.75839888e+00,\n",
       "       -5.08162815e-02,  8.66619860e-03, -5.04403735e-02,  1.51542175e-01,\n",
       "       -3.26341829e-04, -7.46668943e-02, -1.91316490e-03,  2.68590566e-02,\n",
       "        6.57068830e-03])"
      ]
     },
     "execution_count": 346,
     "metadata": {},
     "output_type": "execute_result"
    }
   ],
   "source": [
    "Ridge_sklearn.coef_"
   ]
  },
  {
   "cell_type": "code",
   "execution_count": 347,
   "metadata": {},
   "outputs": [
    {
     "data": {
      "text/plain": [
       "array(['zn', 'indus', 'chas', 'nox', 'rm', 'age', 'dis', 'rad', 'tax',\n",
       "       'ptratio', 'black', 'lstat', 'medv'], dtype=object)"
      ]
     },
     "execution_count": 347,
     "metadata": {},
     "output_type": "execute_result"
    }
   ],
   "source": [
    "Ridge_sklearn.feature_names_in_"
   ]
  },
  {
   "cell_type": "code",
   "execution_count": 348,
   "metadata": {},
   "outputs": [
    {
     "data": {
      "text/plain": [
       "-1.972671374222098"
      ]
     },
     "execution_count": 348,
     "metadata": {},
     "output_type": "execute_result"
    }
   ],
   "source": [
    "Ridge_sklearn.intercept_"
   ]
  },
  {
   "cell_type": "markdown",
   "metadata": {},
   "source": []
  },
  {
   "cell_type": "code",
   "execution_count": 349,
   "metadata": {},
   "outputs": [],
   "source": [
    "ECM_test_Ridge_vector = []\n",
    "\n",
    "for alpha in range(1, 10000):\n",
    "\n",
    "    Ridge_sklearn = sklearn.linear_model.Ridge( alpha=alpha )\n",
    "\n",
    "    Ridge_sklearn.fit(X_train, Y_train)\n",
    "\n",
    "    ECM_test_Ridge_vector.append( sum( ( Ridge_sklearn.predict(X_test) - Y_test)**2 )  / len(Y_test) )"
   ]
  },
  {
   "cell_type": "code",
   "execution_count": 350,
   "metadata": {},
   "outputs": [],
   "source": [
    "lambda_optimo_Ridge_df = pd.DataFrame({ 'ECM test':ECM_test_Ridge_vector , 'lambda': range(1, 10000) }).sort_values(by=[\"ECM test\"]).reset_index(drop=False)"
   ]
  },
  {
   "cell_type": "code",
   "execution_count": 351,
   "metadata": {},
   "outputs": [
    {
     "data": {
      "text/html": [
       "<div>\n",
       "<style scoped>\n",
       "    .dataframe tbody tr th:only-of-type {\n",
       "        vertical-align: middle;\n",
       "    }\n",
       "\n",
       "    .dataframe tbody tr th {\n",
       "        vertical-align: top;\n",
       "    }\n",
       "\n",
       "    .dataframe thead th {\n",
       "        text-align: right;\n",
       "    }\n",
       "</style>\n",
       "<table border=\"1\" class=\"dataframe\">\n",
       "  <thead>\n",
       "    <tr style=\"text-align: right;\">\n",
       "      <th></th>\n",
       "      <th>index</th>\n",
       "      <th>ECM test</th>\n",
       "      <th>lambda</th>\n",
       "    </tr>\n",
       "  </thead>\n",
       "  <tbody>\n",
       "    <tr>\n",
       "      <th>0</th>\n",
       "      <td>0</td>\n",
       "      <td>0.768053</td>\n",
       "      <td>1</td>\n",
       "    </tr>\n",
       "    <tr>\n",
       "      <th>1</th>\n",
       "      <td>1</td>\n",
       "      <td>0.779833</td>\n",
       "      <td>2</td>\n",
       "    </tr>\n",
       "    <tr>\n",
       "      <th>2</th>\n",
       "      <td>2</td>\n",
       "      <td>0.786537</td>\n",
       "      <td>3</td>\n",
       "    </tr>\n",
       "    <tr>\n",
       "      <th>3</th>\n",
       "      <td>3</td>\n",
       "      <td>0.790820</td>\n",
       "      <td>4</td>\n",
       "    </tr>\n",
       "    <tr>\n",
       "      <th>4</th>\n",
       "      <td>4</td>\n",
       "      <td>0.793779</td>\n",
       "      <td>5</td>\n",
       "    </tr>\n",
       "    <tr>\n",
       "      <th>...</th>\n",
       "      <td>...</td>\n",
       "      <td>...</td>\n",
       "      <td>...</td>\n",
       "    </tr>\n",
       "    <tr>\n",
       "      <th>9994</th>\n",
       "      <td>9994</td>\n",
       "      <td>0.937812</td>\n",
       "      <td>9995</td>\n",
       "    </tr>\n",
       "    <tr>\n",
       "      <th>9995</th>\n",
       "      <td>9995</td>\n",
       "      <td>0.937821</td>\n",
       "      <td>9996</td>\n",
       "    </tr>\n",
       "    <tr>\n",
       "      <th>9996</th>\n",
       "      <td>9996</td>\n",
       "      <td>0.937829</td>\n",
       "      <td>9997</td>\n",
       "    </tr>\n",
       "    <tr>\n",
       "      <th>9997</th>\n",
       "      <td>9997</td>\n",
       "      <td>0.937838</td>\n",
       "      <td>9998</td>\n",
       "    </tr>\n",
       "    <tr>\n",
       "      <th>9998</th>\n",
       "      <td>9998</td>\n",
       "      <td>0.937846</td>\n",
       "      <td>9999</td>\n",
       "    </tr>\n",
       "  </tbody>\n",
       "</table>\n",
       "<p>9999 rows × 3 columns</p>\n",
       "</div>"
      ],
      "text/plain": [
       "      index  ECM test  lambda\n",
       "0         0  0.768053       1\n",
       "1         1  0.779833       2\n",
       "2         2  0.786537       3\n",
       "3         3  0.790820       4\n",
       "4         4  0.793779       5\n",
       "...     ...       ...     ...\n",
       "9994   9994  0.937812    9995\n",
       "9995   9995  0.937821    9996\n",
       "9996   9996  0.937829    9997\n",
       "9997   9997  0.937838    9998\n",
       "9998   9998  0.937846    9999\n",
       "\n",
       "[9999 rows x 3 columns]"
      ]
     },
     "execution_count": 351,
     "metadata": {},
     "output_type": "execute_result"
    }
   ],
   "source": [
    "lambda_optimo_Ridge_df"
   ]
  },
  {
   "cell_type": "markdown",
   "metadata": {},
   "source": []
  },
  {
   "cell_type": "code",
   "execution_count": 352,
   "metadata": {},
   "outputs": [],
   "source": [
    "Ridge_sklearn = sklearn.linear_model.Ridge( alpha=lambda_optimo_Ridge_df['lambda'][0] )\n",
    "\n",
    "Ridge_sklearn.fit(X_train, Y_train)\n",
    "\n",
    "ECM_test_Ridge_lambda_optimo = sum( ( Ridge_sklearn.predict(X_test) - Y_test)**2 ) / len(Y_test)"
   ]
  },
  {
   "cell_type": "code",
   "execution_count": 353,
   "metadata": {},
   "outputs": [
    {
     "data": {
      "text/plain": [
       "0.7680525692089318"
      ]
     },
     "execution_count": 353,
     "metadata": {},
     "output_type": "execute_result"
    }
   ],
   "source": [
    "ECM_test_Ridge_lambda_optimo"
   ]
  },
  {
   "cell_type": "markdown",
   "metadata": {},
   "source": []
  },
  {
   "cell_type": "markdown",
   "metadata": {},
   "source": []
  },
  {
   "cell_type": "code",
   "execution_count": 354,
   "metadata": {},
   "outputs": [],
   "source": [
    "Lasso_sklearn = sklearn.linear_model.Lasso( alpha=1.0 )\n",
    "\n",
    "Lasso_sklearn.fit(X_train, Y_train)\n",
    "\n",
    "ECM_test_Lasso = sum( ( Lasso_sklearn.predict(X_test) - Y_test)**2 ) / len(Y_test)"
   ]
  },
  {
   "cell_type": "code",
   "execution_count": 355,
   "metadata": {},
   "outputs": [
    {
     "data": {
      "text/plain": [
       "0.9239655512371749"
      ]
     },
     "execution_count": 355,
     "metadata": {},
     "output_type": "execute_result"
    }
   ],
   "source": [
    "ECM_test_Lasso"
   ]
  },
  {
   "cell_type": "markdown",
   "metadata": {},
   "source": []
  },
  {
   "cell_type": "code",
   "execution_count": 356,
   "metadata": {},
   "outputs": [
    {
     "data": {
      "text/plain": [
       "array([-0.01257261,  0.        ,  0.        ,  0.        , -0.        ,\n",
       "        0.01800729, -0.        ,  0.05689479,  0.00542213, -0.        ,\n",
       "       -0.00307617,  0.        ,  0.        ])"
      ]
     },
     "execution_count": 356,
     "metadata": {},
     "output_type": "execute_result"
    }
   ],
   "source": [
    "Lasso_sklearn.coef_"
   ]
  },
  {
   "cell_type": "code",
   "execution_count": 357,
   "metadata": {},
   "outputs": [
    {
     "data": {
      "text/plain": [
       "array(['zn', 'indus', 'chas', 'nox', 'rm', 'age', 'dis', 'rad', 'tax',\n",
       "       'ptratio', 'black', 'lstat', 'medv'], dtype=object)"
      ]
     },
     "execution_count": 357,
     "metadata": {},
     "output_type": "execute_result"
    }
   ],
   "source": [
    "Lasso_sklearn.feature_names_in_"
   ]
  },
  {
   "cell_type": "code",
   "execution_count": 358,
   "metadata": {},
   "outputs": [
    {
     "data": {
      "text/plain": [
       "-3.5355154954122314"
      ]
     },
     "execution_count": 358,
     "metadata": {},
     "output_type": "execute_result"
    }
   ],
   "source": [
    "Lasso_sklearn.intercept_"
   ]
  },
  {
   "cell_type": "markdown",
   "metadata": {},
   "source": []
  },
  {
   "cell_type": "code",
   "execution_count": 360,
   "metadata": {},
   "outputs": [],
   "source": [
    "ECM_test_Lasso_vector = []\n",
    "\n",
    "for alpha in range(1, 10000):\n",
    "\n",
    "    Lasso_sklearn = sklearn.linear_model.Lasso( alpha=alpha )\n",
    "\n",
    "    Lasso_sklearn.fit(X_train, Y_train)\n",
    "\n",
    "    ECM_test_Lasso_vector.append( sum( ( Lasso_sklearn.predict(X_test) - Y_test)**2 ) / len(Y_test) )"
   ]
  },
  {
   "cell_type": "code",
   "execution_count": 361,
   "metadata": {},
   "outputs": [],
   "source": [
    "lambda_optimo_Lasso_df = pd.DataFrame({ 'ECM test':ECM_test_Lasso_vector , 'lambda': range(1, 10000) }).sort_values(by=[\"ECM test\"]).reset_index(drop=False)"
   ]
  },
  {
   "cell_type": "code",
   "execution_count": 362,
   "metadata": {},
   "outputs": [
    {
     "data": {
      "text/html": [
       "<div>\n",
       "<style scoped>\n",
       "    .dataframe tbody tr th:only-of-type {\n",
       "        vertical-align: middle;\n",
       "    }\n",
       "\n",
       "    .dataframe tbody tr th {\n",
       "        vertical-align: top;\n",
       "    }\n",
       "\n",
       "    .dataframe thead th {\n",
       "        text-align: right;\n",
       "    }\n",
       "</style>\n",
       "<table border=\"1\" class=\"dataframe\">\n",
       "  <thead>\n",
       "    <tr style=\"text-align: right;\">\n",
       "      <th></th>\n",
       "      <th>index</th>\n",
       "      <th>ECM test</th>\n",
       "      <th>lambda</th>\n",
       "    </tr>\n",
       "  </thead>\n",
       "  <tbody>\n",
       "    <tr>\n",
       "      <th>0</th>\n",
       "      <td>0</td>\n",
       "      <td>0.923966</td>\n",
       "      <td>1</td>\n",
       "    </tr>\n",
       "    <tr>\n",
       "      <th>1</th>\n",
       "      <td>1</td>\n",
       "      <td>1.089830</td>\n",
       "      <td>2</td>\n",
       "    </tr>\n",
       "    <tr>\n",
       "      <th>2</th>\n",
       "      <td>2</td>\n",
       "      <td>1.095775</td>\n",
       "      <td>3</td>\n",
       "    </tr>\n",
       "    <tr>\n",
       "      <th>3</th>\n",
       "      <td>3</td>\n",
       "      <td>1.105646</td>\n",
       "      <td>4</td>\n",
       "    </tr>\n",
       "    <tr>\n",
       "      <th>4</th>\n",
       "      <td>4</td>\n",
       "      <td>1.119415</td>\n",
       "      <td>5</td>\n",
       "    </tr>\n",
       "    <tr>\n",
       "      <th>...</th>\n",
       "      <td>...</td>\n",
       "      <td>...</td>\n",
       "      <td>...</td>\n",
       "    </tr>\n",
       "    <tr>\n",
       "      <th>9994</th>\n",
       "      <td>3542</td>\n",
       "      <td>4.170590</td>\n",
       "      <td>3543</td>\n",
       "    </tr>\n",
       "    <tr>\n",
       "      <th>9995</th>\n",
       "      <td>3543</td>\n",
       "      <td>4.170590</td>\n",
       "      <td>3544</td>\n",
       "    </tr>\n",
       "    <tr>\n",
       "      <th>9996</th>\n",
       "      <td>3544</td>\n",
       "      <td>4.170590</td>\n",
       "      <td>3545</td>\n",
       "    </tr>\n",
       "    <tr>\n",
       "      <th>9997</th>\n",
       "      <td>3546</td>\n",
       "      <td>4.170590</td>\n",
       "      <td>3547</td>\n",
       "    </tr>\n",
       "    <tr>\n",
       "      <th>9998</th>\n",
       "      <td>9998</td>\n",
       "      <td>4.170590</td>\n",
       "      <td>9999</td>\n",
       "    </tr>\n",
       "  </tbody>\n",
       "</table>\n",
       "<p>9999 rows × 3 columns</p>\n",
       "</div>"
      ],
      "text/plain": [
       "      index  ECM test  lambda\n",
       "0         0  0.923966       1\n",
       "1         1  1.089830       2\n",
       "2         2  1.095775       3\n",
       "3         3  1.105646       4\n",
       "4         4  1.119415       5\n",
       "...     ...       ...     ...\n",
       "9994   3542  4.170590    3543\n",
       "9995   3543  4.170590    3544\n",
       "9996   3544  4.170590    3545\n",
       "9997   3546  4.170590    3547\n",
       "9998   9998  4.170590    9999\n",
       "\n",
       "[9999 rows x 3 columns]"
      ]
     },
     "execution_count": 362,
     "metadata": {},
     "output_type": "execute_result"
    }
   ],
   "source": [
    "lambda_optimo_Lasso_df"
   ]
  },
  {
   "cell_type": "code",
   "execution_count": 365,
   "metadata": {},
   "outputs": [],
   "source": [
    "Lasso_sklearn = sklearn.linear_model.Lasso( alpha=lambda_optimo_Lasso_df['lambda'][0] )\n",
    "\n",
    "Lasso_sklearn.fit(X_train, Y_train)\n",
    "\n",
    "ECM_test_Lasso_lambda_optimo = sum( ( Lasso_sklearn.predict(X_test) - Y_test)**2 ) / len(Y_test)"
   ]
  },
  {
   "cell_type": "code",
   "execution_count": 366,
   "metadata": {},
   "outputs": [
    {
     "data": {
      "text/plain": [
       "0.9239655512371749"
      ]
     },
     "execution_count": 366,
     "metadata": {},
     "output_type": "execute_result"
    }
   ],
   "source": [
    "ECM_test_Lasso_lambda_optimo"
   ]
  },
  {
   "cell_type": "markdown",
   "metadata": {},
   "source": []
  },
  {
   "cell_type": "markdown",
   "metadata": {},
   "source": []
  },
  {
   "cell_type": "code",
   "execution_count": 367,
   "metadata": {},
   "outputs": [],
   "source": [
    "Elastic_Net_sklearn = sklearn.linear_model.ElasticNet( alpha=1.0 ,  l1_ratio=0.5,  fit_intercept=True)\n",
    "\n",
    "Elastic_Net_sklearn.fit(X_train, Y_train)  # No es necesario escalar los datos.\n",
    "\n",
    "ECM_test_ElasticNet = sum( ( Elastic_Net_sklearn.predict(X_test) - Y_test)**2 ) / len(Y_test)"
   ]
  },
  {
   "cell_type": "code",
   "execution_count": 368,
   "metadata": {},
   "outputs": [
    {
     "data": {
      "text/plain": [
       "0.8429411850993588"
      ]
     },
     "execution_count": 368,
     "metadata": {},
     "output_type": "execute_result"
    }
   ],
   "source": [
    "ECM_test_ElasticNet"
   ]
  },
  {
   "cell_type": "markdown",
   "metadata": {},
   "source": []
  },
  {
   "cell_type": "code",
   "execution_count": 369,
   "metadata": {},
   "outputs": [
    {
     "data": {
      "text/plain": [
       "array([-0.01139776,  0.02067242,  0.        ,  0.        , -0.        ,\n",
       "        0.0170638 , -0.        ,  0.09748832,  0.00294639, -0.        ,\n",
       "       -0.00279793,  0.00592615,  0.        ])"
      ]
     },
     "execution_count": 369,
     "metadata": {},
     "output_type": "execute_result"
    }
   ],
   "source": [
    "Elastic_Net_sklearn.coef_"
   ]
  },
  {
   "cell_type": "code",
   "execution_count": 370,
   "metadata": {},
   "outputs": [
    {
     "data": {
      "text/plain": [
       "array(['zn', 'indus', 'chas', 'nox', 'rm', 'age', 'dis', 'rad', 'tax',\n",
       "       'ptratio', 'black', 'lstat', 'medv'], dtype=object)"
      ]
     },
     "execution_count": 370,
     "metadata": {},
     "output_type": "execute_result"
    }
   ],
   "source": [
    "Elastic_Net_sklearn.feature_names_in_"
   ]
  },
  {
   "cell_type": "code",
   "execution_count": 371,
   "metadata": {},
   "outputs": [
    {
     "data": {
      "text/plain": [
       "-3.262898917337564"
      ]
     },
     "execution_count": 371,
     "metadata": {},
     "output_type": "execute_result"
    }
   ],
   "source": [
    "Elastic_Net_sklearn.intercept_"
   ]
  },
  {
   "cell_type": "markdown",
   "metadata": {},
   "source": []
  },
  {
   "cell_type": "code",
   "execution_count": 376,
   "metadata": {},
   "outputs": [],
   "source": [
    "ECM_test_ElasticNet_vector = []\n",
    "\n",
    "lambda_l1_ratio = []\n",
    "\n",
    "for alpha in range(1, 100):\n",
    "\n",
    "    for l1_ratio in np.arange(0.01, 1.0, 0.01).round(2) :\n",
    "\n",
    "        lambda_l1_ratio.append( [alpha, l1_ratio])\n",
    "\n",
    "        ElasticNet_sklearn = sklearn.linear_model.ElasticNet( alpha=alpha ,  l1_ratio=l1_ratio ,  fit_intercept=True)\n",
    "\n",
    "        ElasticNet_sklearn.fit(X_train, Y_train)\n",
    "\n",
    "        ECM_test_ElasticNet_vector.append( sum( ( ElasticNet_sklearn.predict(X_test) - Y_test)**2 ) / len(Y_test) )"
   ]
  },
  {
   "cell_type": "code",
   "execution_count": 377,
   "metadata": {},
   "outputs": [],
   "source": [
    "lambda_l1ratio_optimo_ElasticNet_df = pd.DataFrame({ 'ECM test':ECM_test_ElasticNet_vector , 'lambda_l1ratio':lambda_l1_ratio }).sort_values(by=[\"ECM test\"]).reset_index(drop=False)"
   ]
  },
  {
   "cell_type": "code",
   "execution_count": 378,
   "metadata": {},
   "outputs": [
    {
     "data": {
      "text/html": [
       "<div>\n",
       "<style scoped>\n",
       "    .dataframe tbody tr th:only-of-type {\n",
       "        vertical-align: middle;\n",
       "    }\n",
       "\n",
       "    .dataframe tbody tr th {\n",
       "        vertical-align: top;\n",
       "    }\n",
       "\n",
       "    .dataframe thead th {\n",
       "        text-align: right;\n",
       "    }\n",
       "</style>\n",
       "<table border=\"1\" class=\"dataframe\">\n",
       "  <thead>\n",
       "    <tr style=\"text-align: right;\">\n",
       "      <th></th>\n",
       "      <th>index</th>\n",
       "      <th>ECM test</th>\n",
       "      <th>lambda_l1ratio</th>\n",
       "    </tr>\n",
       "  </thead>\n",
       "  <tbody>\n",
       "    <tr>\n",
       "      <th>0</th>\n",
       "      <td>6</td>\n",
       "      <td>0.801430</td>\n",
       "      <td>[1, 0.07]</td>\n",
       "    </tr>\n",
       "    <tr>\n",
       "      <th>1</th>\n",
       "      <td>5</td>\n",
       "      <td>0.801461</td>\n",
       "      <td>[1, 0.06]</td>\n",
       "    </tr>\n",
       "    <tr>\n",
       "      <th>2</th>\n",
       "      <td>7</td>\n",
       "      <td>0.801500</td>\n",
       "      <td>[1, 0.08]</td>\n",
       "    </tr>\n",
       "    <tr>\n",
       "      <th>3</th>\n",
       "      <td>4</td>\n",
       "      <td>0.801594</td>\n",
       "      <td>[1, 0.05]</td>\n",
       "    </tr>\n",
       "    <tr>\n",
       "      <th>4</th>\n",
       "      <td>8</td>\n",
       "      <td>0.801675</td>\n",
       "      <td>[1, 0.09]</td>\n",
       "    </tr>\n",
       "    <tr>\n",
       "      <th>...</th>\n",
       "      <td>...</td>\n",
       "      <td>...</td>\n",
       "      <td>...</td>\n",
       "    </tr>\n",
       "    <tr>\n",
       "      <th>9796</th>\n",
       "      <td>9798</td>\n",
       "      <td>1.624977</td>\n",
       "      <td>[99, 0.97]</td>\n",
       "    </tr>\n",
       "    <tr>\n",
       "      <th>9797</th>\n",
       "      <td>9700</td>\n",
       "      <td>1.624987</td>\n",
       "      <td>[98, 0.98]</td>\n",
       "    </tr>\n",
       "    <tr>\n",
       "      <th>9798</th>\n",
       "      <td>9701</td>\n",
       "      <td>1.629398</td>\n",
       "      <td>[98, 0.99]</td>\n",
       "    </tr>\n",
       "    <tr>\n",
       "      <th>9799</th>\n",
       "      <td>9799</td>\n",
       "      <td>1.629432</td>\n",
       "      <td>[99, 0.98]</td>\n",
       "    </tr>\n",
       "    <tr>\n",
       "      <th>9800</th>\n",
       "      <td>9800</td>\n",
       "      <td>1.633952</td>\n",
       "      <td>[99, 0.99]</td>\n",
       "    </tr>\n",
       "  </tbody>\n",
       "</table>\n",
       "<p>9801 rows × 3 columns</p>\n",
       "</div>"
      ],
      "text/plain": [
       "      index  ECM test lambda_l1ratio\n",
       "0         6  0.801430      [1, 0.07]\n",
       "1         5  0.801461      [1, 0.06]\n",
       "2         7  0.801500      [1, 0.08]\n",
       "3         4  0.801594      [1, 0.05]\n",
       "4         8  0.801675      [1, 0.09]\n",
       "...     ...       ...            ...\n",
       "9796   9798  1.624977     [99, 0.97]\n",
       "9797   9700  1.624987     [98, 0.98]\n",
       "9798   9701  1.629398     [98, 0.99]\n",
       "9799   9799  1.629432     [99, 0.98]\n",
       "9800   9800  1.633952     [99, 0.99]\n",
       "\n",
       "[9801 rows x 3 columns]"
      ]
     },
     "execution_count": 378,
     "metadata": {},
     "output_type": "execute_result"
    }
   ],
   "source": [
    "lambda_l1ratio_optimo_ElasticNet_df"
   ]
  },
  {
   "cell_type": "markdown",
   "metadata": {},
   "source": []
  },
  {
   "cell_type": "code",
   "execution_count": 379,
   "metadata": {},
   "outputs": [],
   "source": [
    "ElasticNet_sklearn = sklearn.linear_model.ElasticNet( alpha=lambda_l1ratio_optimo_ElasticNet_df['lambda_l1ratio'][0][0] , l1_ratio=lambda_l1ratio_optimo_ElasticNet_df['lambda_l1ratio'][0][1] )\n",
    "\n",
    "ElasticNet_sklearn.fit(X_train, Y_train)\n",
    "\n",
    "ECM_ElasticNet_test_lambda_l1ratio_optimo = sum( ( ElasticNet_sklearn.predict(X_test) - Y_test)**2 ) / len(Y_test)"
   ]
  },
  {
   "cell_type": "code",
   "execution_count": 380,
   "metadata": {},
   "outputs": [
    {
     "data": {
      "text/plain": [
       "0.8014296217225606"
      ]
     },
     "execution_count": 380,
     "metadata": {},
     "output_type": "execute_result"
    }
   ],
   "source": [
    "ECM_ElasticNet_test_lambda_l1ratio_optimo"
   ]
  },
  {
   "cell_type": "markdown",
   "metadata": {},
   "source": []
  },
  {
   "cell_type": "markdown",
   "metadata": {},
   "source": []
  },
  {
   "cell_type": "markdown",
   "metadata": {},
   "source": [
    "Ahora usando `statmodels` "
   ]
  },
  {
   "cell_type": "code",
   "execution_count": 381,
   "metadata": {},
   "outputs": [],
   "source": [
    "import statsmodels.api as sm"
   ]
  },
  {
   "cell_type": "code",
   "execution_count": 382,
   "metadata": {},
   "outputs": [],
   "source": [
    "Ridge_sm = sm.OLS(Y_train , X_train)\n",
    "\n",
    "Ridge_sm = Ridge_sm.fit_regularized(method='elastic_net', alpha=1 , L1_wt=0)"
   ]
  },
  {
   "cell_type": "code",
   "execution_count": 383,
   "metadata": {},
   "outputs": [
    {
     "data": {
      "text/plain": [
       "array([-1.09029887e-02,  4.88130524e-02,  2.69752076e-03,  7.63808627e-03,\n",
       "       -4.55000011e-02,  1.00405991e-02, -7.19120446e-02,  1.48896993e-01,\n",
       "       -3.45458830e-05, -1.07202238e-01, -2.58241879e-03,  1.86924049e-02,\n",
       "       -3.53140949e-03])"
      ]
     },
     "execution_count": 383,
     "metadata": {},
     "output_type": "execute_result"
    }
   ],
   "source": [
    "Ridge_sm.params"
   ]
  },
  {
   "cell_type": "code",
   "execution_count": 384,
   "metadata": {},
   "outputs": [
    {
     "data": {
      "text/plain": [
       "Index(['zn', 'indus', 'chas', 'nox', 'rm', 'age', 'dis', 'rad', 'tax',\n",
       "       'ptratio', 'black', 'lstat', 'medv'],\n",
       "      dtype='object')"
      ]
     },
     "execution_count": 384,
     "metadata": {},
     "output_type": "execute_result"
    }
   ],
   "source": [
    "X_train.columns"
   ]
  },
  {
   "cell_type": "code",
   "execution_count": 385,
   "metadata": {},
   "outputs": [],
   "source": [
    "ECM_test_Ridge_sm = (( Ridge_sm.predict(X_test) - Y_test)**2 ).sum() / len(Y_test)"
   ]
  },
  {
   "cell_type": "code",
   "execution_count": 386,
   "metadata": {},
   "outputs": [
    {
     "data": {
      "text/plain": [
       "0.8083118546310482"
      ]
     },
     "execution_count": 386,
     "metadata": {},
     "output_type": "execute_result"
    }
   ],
   "source": [
    "ECM_test_Ridge_sm"
   ]
  },
  {
   "cell_type": "markdown",
   "metadata": {},
   "source": []
  },
  {
   "cell_type": "markdown",
   "metadata": {},
   "source": []
  },
  {
   "cell_type": "code",
   "execution_count": 387,
   "metadata": {},
   "outputs": [],
   "source": [
    "Lasso_sm = sm.OLS(Y_train , X_train)\n",
    "\n",
    "Lasso_sm = Lasso_sm.fit_regularized(method='elastic_net', alpha=1 , L1_wt=1)"
   ]
  },
  {
   "cell_type": "code",
   "execution_count": 388,
   "metadata": {},
   "outputs": [
    {
     "data": {
      "text/plain": [
       "zn        -0.022419\n",
       "indus      0.025712\n",
       "chas       0.000000\n",
       "nox        0.000000\n",
       "rm         0.000000\n",
       "age        0.000000\n",
       "dis        0.000000\n",
       "rad        0.110673\n",
       "tax        0.002301\n",
       "ptratio   -0.044502\n",
       "black     -0.005494\n",
       "lstat      0.001771\n",
       "medv       0.000000\n",
       "dtype: float64"
      ]
     },
     "execution_count": 388,
     "metadata": {},
     "output_type": "execute_result"
    }
   ],
   "source": [
    "Lasso_sm.params"
   ]
  },
  {
   "cell_type": "markdown",
   "metadata": {},
   "source": []
  },
  {
   "cell_type": "code",
   "execution_count": 389,
   "metadata": {},
   "outputs": [],
   "source": [
    "ECM_test_Lasso_sm = (( Lasso_sm.predict(X_test) - Y_test)**2 ).sum() / len(Y_test)"
   ]
  },
  {
   "cell_type": "code",
   "execution_count": 390,
   "metadata": {},
   "outputs": [
    {
     "data": {
      "text/plain": [
       "0.9904925667617257"
      ]
     },
     "execution_count": 390,
     "metadata": {},
     "output_type": "execute_result"
    }
   ],
   "source": [
    "ECM_test_Lasso_sm"
   ]
  },
  {
   "cell_type": "markdown",
   "metadata": {},
   "source": []
  },
  {
   "cell_type": "code",
   "execution_count": 391,
   "metadata": {},
   "outputs": [],
   "source": [
    "ElasticNet_sm = sm.OLS(Y_train , X_train)\n",
    "\n",
    "ElasticNet_sm = ElasticNet_sm.fit_regularized(method='elastic_net', alpha=1 , L1_wt=0.5)"
   ]
  },
  {
   "cell_type": "code",
   "execution_count": 392,
   "metadata": {},
   "outputs": [],
   "source": [
    "ECM_test_ElasticNet_sm = (( ElasticNet_sm.predict(X_test) - Y_test)**2 ).sum() / len(Y_test)"
   ]
  },
  {
   "cell_type": "code",
   "execution_count": 393,
   "metadata": {},
   "outputs": [
    {
     "data": {
      "text/plain": [
       "0.8667151625577075"
      ]
     },
     "execution_count": 393,
     "metadata": {},
     "output_type": "execute_result"
    }
   ],
   "source": [
    "ECM_test_ElasticNet_sm"
   ]
  },
  {
   "cell_type": "markdown",
   "metadata": {},
   "source": []
  },
  {
   "cell_type": "code",
   "execution_count": null,
   "metadata": {},
   "outputs": [],
   "source": []
  },
  {
   "cell_type": "markdown",
   "metadata": {},
   "source": []
  },
  {
   "cell_type": "markdown",
   "metadata": {},
   "source": [
    "# Comparación Final"
   ]
  }
 ],
 "metadata": {
  "kernelspec": {
   "display_name": "Python 3.10.0 64-bit",
   "language": "python",
   "name": "python3"
  },
  "language_info": {
   "codemirror_mode": {
    "name": "ipython",
    "version": 3
   },
   "file_extension": ".py",
   "mimetype": "text/x-python",
   "name": "python",
   "nbconvert_exporter": "python",
   "pygments_lexer": "ipython3",
   "version": "3.10.0"
  },
  "orig_nbformat": 4,
  "vscode": {
   "interpreter": {
    "hash": "c63d8c7d738c2960218a10995aedf0a7f67a49a231e71037adf0440953cdb45b"
   }
  }
 },
 "nbformat": 4,
 "nbformat_minor": 2
}
