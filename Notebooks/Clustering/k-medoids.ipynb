{
 "cells": [
  {
   "cell_type": "code",
   "execution_count": 102,
   "metadata": {},
   "outputs": [],
   "source": [
    "import seaborn as sns\n",
    "import pandas as pd\n",
    "import numpy as np\n",
    "from sklearn.utils import resample\n",
    "import math as math"
   ]
  },
  {
   "cell_type": "code",
   "execution_count": 103,
   "metadata": {},
   "outputs": [
    {
     "data": {
      "text/html": [
       "<div>\n",
       "<style scoped>\n",
       "    .dataframe tbody tr th:only-of-type {\n",
       "        vertical-align: middle;\n",
       "    }\n",
       "\n",
       "    .dataframe tbody tr th {\n",
       "        vertical-align: top;\n",
       "    }\n",
       "\n",
       "    .dataframe thead th {\n",
       "        text-align: right;\n",
       "    }\n",
       "</style>\n",
       "<table border=\"1\" class=\"dataframe\">\n",
       "  <thead>\n",
       "    <tr style=\"text-align: right;\">\n",
       "      <th></th>\n",
       "      <th>latitude</th>\n",
       "      <th>longitude</th>\n",
       "      <th>price</th>\n",
       "      <th>size_in_m_2</th>\n",
       "    </tr>\n",
       "  </thead>\n",
       "  <tbody>\n",
       "    <tr>\n",
       "      <th>0</th>\n",
       "      <td>25.113208</td>\n",
       "      <td>55.138932</td>\n",
       "      <td>2700000</td>\n",
       "      <td>100.242337</td>\n",
       "    </tr>\n",
       "    <tr>\n",
       "      <th>1</th>\n",
       "      <td>25.106809</td>\n",
       "      <td>55.151201</td>\n",
       "      <td>2850000</td>\n",
       "      <td>146.972546</td>\n",
       "    </tr>\n",
       "    <tr>\n",
       "      <th>2</th>\n",
       "      <td>25.063302</td>\n",
       "      <td>55.137728</td>\n",
       "      <td>1150000</td>\n",
       "      <td>181.253753</td>\n",
       "    </tr>\n",
       "    <tr>\n",
       "      <th>3</th>\n",
       "      <td>25.227295</td>\n",
       "      <td>55.341761</td>\n",
       "      <td>2850000</td>\n",
       "      <td>187.664060</td>\n",
       "    </tr>\n",
       "    <tr>\n",
       "      <th>4</th>\n",
       "      <td>25.114275</td>\n",
       "      <td>55.139764</td>\n",
       "      <td>1729200</td>\n",
       "      <td>47.101821</td>\n",
       "    </tr>\n",
       "  </tbody>\n",
       "</table>\n",
       "</div>"
      ],
      "text/plain": [
       "    latitude  longitude    price  size_in_m_2\n",
       "0  25.113208  55.138932  2700000   100.242337\n",
       "1  25.106809  55.151201  2850000   146.972546\n",
       "2  25.063302  55.137728  1150000   181.253753\n",
       "3  25.227295  55.341761  2850000   187.664060\n",
       "4  25.114275  55.139764  1729200    47.101821"
      ]
     },
     "execution_count": 103,
     "metadata": {},
     "output_type": "execute_result"
    }
   ],
   "source": [
    "Data = pd.read_csv('House_Price_Regression.csv')\n",
    "\n",
    "Data = Data.loc[:, ['latitude', 'longitude', 'price', 'size_in_m_2']]\n",
    "\n",
    "Data.head()"
   ]
  },
  {
   "cell_type": "code",
   "execution_count": 104,
   "metadata": {},
   "outputs": [],
   "source": [
    "Data_numpy = Data.to_numpy()"
   ]
  },
  {
   "cell_type": "markdown",
   "metadata": {},
   "source": []
  },
  {
   "attachments": {},
   "cell_type": "markdown",
   "metadata": {},
   "source": [
    "## Distancias"
   ]
  },
  {
   "cell_type": "code",
   "execution_count": 105,
   "metadata": {},
   "outputs": [],
   "source": [
    "def Dist_Euclidea(x_i, x_r):\n",
    "\n",
    "        Dist_Euclidea = ( ( x_i - x_r )**2 ).sum()\n",
    "\n",
    "        Dist_Euclidea = np.sqrt(Dist_Euclidea)\n",
    "\n",
    "        return Dist_Euclidea"
   ]
  },
  {
   "cell_type": "code",
   "execution_count": 106,
   "metadata": {},
   "outputs": [],
   "source": [
    "def Matrix_Dist_Euclidea(Data):\n",
    "\n",
    "    # Paso previo necesario si Data es pd.DataFrame  -->  Data = Data.to_numpy()\n",
    "\n",
    "    n = len(Data)\n",
    "\n",
    "    M =  np.empty((n , n))\n",
    "\n",
    "    \n",
    "    for i in range(0, n):\n",
    "\n",
    "         for r in range(0, n):\n",
    "\n",
    "             if i >= r :\n",
    "               \n",
    "                 M[i,r] = 0\n",
    "\n",
    "             else :\n",
    "\n",
    "                 M[i,r] = Dist_Euclidea(Data[i,:] , Data[r,:])   \n",
    "\n",
    "                      \n",
    "    return M "
   ]
  },
  {
   "cell_type": "code",
   "execution_count": 107,
   "metadata": {},
   "outputs": [],
   "source": [
    "def Dist_Minkowski(x_i, x_r, q):\n",
    "\n",
    "    Dist_Minkowski = ( ( ( abs( x_i - x_r) )**q ).sum() )**(1/q)\n",
    "\n",
    "    return Dist_Minkowski"
   ]
  },
  {
   "cell_type": "code",
   "execution_count": 108,
   "metadata": {},
   "outputs": [],
   "source": [
    "def Matrix_Dist_Minkowski(Data, q):\n",
    "\n",
    "    # Paso previo necesario si Data es pd.DataFrame  -->  Data = Data.to_numpy()\n",
    "\n",
    "    n = len(Data)\n",
    "\n",
    "    M =  np.empty((n , n))\n",
    "\n",
    "    \n",
    "    for i in range(0, n):\n",
    "\n",
    "         for r in range(0, n):\n",
    "\n",
    "             if i >= r :\n",
    "               \n",
    "                 M[i,r] = 0\n",
    "\n",
    "             else :\n",
    "\n",
    "                 M[i,r] = Dist_Minkowski(Data[i,:] , Data[r,:], q)   \n",
    "\n",
    "                      \n",
    "    return M "
   ]
  },
  {
   "cell_type": "code",
   "execution_count": 109,
   "metadata": {},
   "outputs": [],
   "source": [
    "def Dist_Canberra(x_i, x_r):\n",
    "\n",
    "    numerator =  abs( x_i - x_r )\n",
    "\n",
    "    denominator =  ( abs(x_i) + abs(x_r) )\n",
    "       \n",
    "    numerator=np.array([numerator], dtype=float)\n",
    "\n",
    "    denominator=np.array([denominator], dtype=float)\n",
    "\n",
    "    # The following code is to eliminate zero division problems\n",
    "\n",
    "    Dist_Canberra = ( np.divide( numerator , denominator , out=np.zeros_like(numerator), where=denominator!=0) ).sum() \n",
    "\n",
    "    return Dist_Canberra"
   ]
  },
  {
   "cell_type": "code",
   "execution_count": 110,
   "metadata": {},
   "outputs": [],
   "source": [
    "def Matrix_Dist_Canberra(Data):\n",
    "\n",
    "    # Paso previo necesario si Data es pd.DataFrame  -->  Data = Data.to_numpy()\n",
    "\n",
    "    n = len(Data)\n",
    "\n",
    "    M =  np.empty((n , n))\n",
    "\n",
    "    \n",
    "    for i in range(0, n):\n",
    "\n",
    "         for r in range(0, n):\n",
    "\n",
    "             if i >= r :\n",
    "               \n",
    "                 M[i,r] = 0\n",
    "\n",
    "             else :\n",
    "\n",
    "                 M[i,r] = Dist_Canberra(Data[i,:] , Data[r,:])   \n",
    "\n",
    "                      \n",
    "    return M "
   ]
  },
  {
   "cell_type": "code",
   "execution_count": 111,
   "metadata": {},
   "outputs": [],
   "source": [
    "def Dist_Mahalanobis_2(x_i, x_r, S_inv):  # Más eficiente que la anterior\n",
    "\n",
    "    # All the columns of Data must be type = 'float' or 'int' (specially not 'object'), in other case we will find \n",
    "    # dimensional problems when Python compute   x @ S_inv @ x.T\n",
    "\n",
    "    x = (x_i - x_r)\n",
    "    \n",
    "    # x = np.array([x]) \n",
    "    \n",
    "    # En este caso este paso no será necesario por el tipo de estructura Python (una lista) que va a ser un medoid en el\n",
    "    # algoritmo que a continuación definiremos. De hecho si este paso no se suprimer salta un error al usar la distancia\n",
    "    # de Mahalanobis, puesto que la operacion x @ S_inv @ x.T no está bien definida.\n",
    "\n",
    "    Dist_Maha = np.sqrt( x @ S_inv @ x.T )  # x @ S_inv @ x.T = np.matmul( np.matmul(x , S_inv) , x.T )\n",
    "\n",
    "    Dist_Maha = float(Dist_Maha)\n",
    "\n",
    "    return Dist_Maha"
   ]
  },
  {
   "cell_type": "code",
   "execution_count": 112,
   "metadata": {},
   "outputs": [],
   "source": [
    "def Dist_Mahalanobis_3(x, S_inv):  # Más eficiente que la anterior\n",
    "\n",
    "    # All the columns of Data must be type = 'float' or 'int' (specially not 'object'), in other case we will find \n",
    "    # dimensional problems when Python compute   x @ S_inv @ x.T\n",
    "\n",
    "    # x = (x_i - x_r)\n",
    "\n",
    "    # x = np.array([x]) # necessary step to transpose a 1D array\n",
    "\n",
    "    Dist_Maha = np.sqrt( x @ S_inv @ x.T )  # x @ S_inv @ x.T = np.matmul( np.matmul(x , S_inv) , x.T )\n",
    "\n",
    "    Dist_Maha = float(Dist_Maha)\n",
    "\n",
    "    return Dist_Maha"
   ]
  },
  {
   "cell_type": "code",
   "execution_count": 113,
   "metadata": {},
   "outputs": [],
   "source": [
    "def Matrix_Dist_Mahalanobis_3(Data):\n",
    "\n",
    "    # Paso previo necesario si Data es pd.DataFrame  -->  Data = Data.to_numpy()\n",
    "\n",
    "    n = len(Data)\n",
    "\n",
    "    M =  np.empty((n , n))\n",
    "\n",
    "    S_inv=np.linalg.inv( np.cov(Data , rowvar=False) )\n",
    "\n",
    "   \n",
    "    for i in range(0, n):\n",
    "\n",
    "         for r in range(0, n):\n",
    "\n",
    "             if i >= r :\n",
    "               \n",
    "                 M[i,r] = 0\n",
    "\n",
    "             else :\n",
    "\n",
    "                 M[i,r] = Dist_Mahalanobis_3(x = np.array([Data[i,:] - Data[r,:]]) , S_inv=S_inv ) \n",
    "\n",
    "                      \n",
    "    return M "
   ]
  },
  {
   "cell_type": "markdown",
   "metadata": {},
   "source": []
  },
  {
   "attachments": {},
   "cell_type": "markdown",
   "metadata": {},
   "source": [
    "## K-medoids de Park y Jun modificando la definicion de los clusters iniciales"
   ]
  },
  {
   "cell_type": "code",
   "execution_count": 114,
   "metadata": {},
   "outputs": [],
   "source": [
    "def k_medoids(Data, Distance_function, q, S_inv, Distance_Matrix, random_seed, k, max_n_iter):\n",
    "\n",
    "    # Data --> a numpy array\n",
    "    # Distance_function --> a distance function betwwen arrays\n",
    "    # q --> parametro necesario si se usa la distancia Minkowski\n",
    "    # S_inv --> parametro necesario si se usa la distancia Mahalanobis\n",
    "    # Distance_Matriz --> a distance matrix (en forma completa)\n",
    "    # random_seed --> semilla aleatoria\n",
    "    # k --> nº clusters\n",
    "    # max_n_iter --> nº maximo de iteraciones del algoritmo\n",
    "\n",
    "###########################################################################################\n",
    "\n",
    "    lista_df_clusters_finales_iter = []\n",
    "\n",
    "###########################################################################################\n",
    "\n",
    "# Se generan los clusters iniciales aleatoreamente\n",
    "\n",
    "    sample = resample(range(0, len(Data)), n_samples=len(Data), replace=False, random_state=random_seed)\n",
    "\n",
    "    df_sample = pd.DataFrame({'index': range(0,len(Data)) , 'sample':sample})\n",
    "\n",
    "    Q = []\n",
    "\n",
    "    for q in np.arange(0 , 1 + 1/k , 1/k):\n",
    "\n",
    "        Q.append( np.quantile( range(0, len(Data)) , q ).round(0) )\n",
    "\n",
    "\n",
    "\n",
    "    labels_clusters = np.array([0])\n",
    "\n",
    "    for j in range(0,k):\n",
    "   \n",
    "        labels_clusters = np.concatenate([labels_clusters, np.repeat( j, len( df_sample.loc[Q[j]:(math.floor(Q[j+1])-1), 'sample'] ) ) ] ) \n",
    " \n",
    "\n",
    "    df_cluster = pd.DataFrame({'observacion': df_sample['sample'] , 'cluster': labels_clusters})\n",
    "\n",
    "    lista_df_clusters_finales_iter.append(df_cluster)\n",
    "\n",
    "###########################################################################################\n",
    "\n",
    "\n",
    "# calculamos los medoids de los clusters iniciales\n",
    "\n",
    "    M = Distance_Matrix\n",
    "\n",
    "   ######################\n",
    "\n",
    "    medoids = []\n",
    "\n",
    "    for j in range(0, k):\n",
    "\n",
    "      observations_cluster_j = df_cluster.loc[df_cluster.cluster == j ,].observacion\n",
    "\n",
    "      M_j = M[observations_cluster_j, :][: ,observations_cluster_j] # matriz distancias para el cluster j\n",
    "\n",
    "      suma_distancias = M_j.sum(axis=1) # suma de la matriz por filas\n",
    "\n",
    "      h = np.where( suma_distancias == min( suma_distancias ) ) # indice en la matriz de la observacion que minimiza la suma de distancias en el cluster j --> medoid del cluster j\n",
    "\n",
    "      d = df_cluster.loc[df_cluster.cluster == j , ]    \n",
    "\n",
    "      # d.iloc[h[0],:].observacion es el indice en el data set original de la observacion medoid del cluster j \n",
    "\n",
    "\n",
    "      if len(h[0]) == 1 : \n",
    "        \n",
    "        medoids.append( Data[ d.iloc[h[0],:].observacion , : ]  ) # su componente j es el medoid del cluster j\n",
    "\n",
    "      if len(h[0]) > 1 : \n",
    "        \n",
    "        medoids.append( Data[ int(d.iloc[h[0][0],:].observacion)  , : ]  ) # su componente j es el medoid del cluster j\n",
    "\n",
    "      # Los condicionales son para evitar problemas en el caso de que en un cluster haya mas de un medoid.\n",
    "      # Puede haber dos o mas observaciones que cumplan con la definicion de medoid, para alguno de los clusters.\n",
    "      # Si un cluster tiene varios medoids, nos quedamos solo con uno.\n",
    "\n",
    "###########################################################################################\n",
    "\n",
    "\n",
    "   # Calculamos la suma de varianzas intra cluster para los clusters iniciales\n",
    "\n",
    "    lista_suma_varianzas_intra_cluster = []\n",
    "\n",
    "    distancias, varianzas_intra_cluster , suma_varianzas_intra_cluster = [], [], []\n",
    "\n",
    "    for j in range(0,k):\n",
    "\n",
    "        for i in df_cluster.loc[df_cluster.cluster == j, 'observacion']:\n",
    "\n",
    "            if Distance_function == Dist_Euclidea: distancias.append( Distance_function( Data[i,:] , medoids[j] ) )\n",
    "\n",
    "            if Distance_function == Dist_Minkowski: distancias.append( Distance_function( Data[i,:] , medoids[j] , q ) )\n",
    "\n",
    "            if Distance_function == Dist_Canberra: distancias.append( Distance_function( Data[i,:] , medoids[j] ) )\n",
    "\n",
    "            if Distance_function == Dist_Mahalanobis_2: distancias.append( Distance_function( Data[i,:] , medoids[j] , S_inv) )\n",
    "            \n",
    "\n",
    "        varianzas_intra_cluster.append( sum(distancias) )\n",
    "\n",
    "\n",
    "    suma_varianzas_intra_cluster.append( sum(varianzas_intra_cluster) )\n",
    "\n",
    "    lista_suma_varianzas_intra_cluster.append( suma_varianzas_intra_cluster )\n",
    "\n",
    "\n",
    "###########################################################################################\n",
    "\n",
    "\n",
    "# Asignar cada observacion a su cluster más cercano \n",
    "\n",
    "\n",
    "    for r in range(0 , max_n_iter):\n",
    "\n",
    "\n",
    "       # Calculamos los nuevos clusters \n",
    "\n",
    "        labels_clusters = []\n",
    "\n",
    "        for i in df_sample['sample']:\n",
    "\n",
    "            distancias = []\n",
    "    \n",
    "            for j in range(0,k):\n",
    "\n",
    "                if Distance_function == Dist_Euclidea: distancias.append( Distance_function( Data[i,:] , medoids[j] ) )\n",
    "\n",
    "                if Distance_function == Dist_Minkowski: distancias.append( Distance_function( Data[i,:] , medoids[j] , q ) )\n",
    "\n",
    "                if Distance_function == Dist_Canberra: distancias.append( Distance_function( Data[i,:] , medoids[j] ) )\n",
    "\n",
    "                if Distance_function == Dist_Mahalanobis_2: distancias.append( Distance_function( Data[i,:] , medoids[j] , S_inv) )\n",
    "            \n",
    "\n",
    "                \n",
    "\n",
    "            df_distancias = pd.DataFrame({'Distancias' : distancias , 'Cluster': range(0,k)})\n",
    "\n",
    "            df_distancias_sort = df_distancias.sort_values(by='Distancias', ascending=True)\n",
    "\n",
    "            labels_clusters.append( df_distancias_sort.iloc[0]['Cluster'] )\n",
    "\n",
    "        \n",
    "        \n",
    "        df_cluster = pd.DataFrame({'observacion' : df_sample['sample'] , 'cluster': labels_clusters})\n",
    "\n",
    "\n",
    "###########################################################################################\n",
    "\n",
    "\n",
    "       # Calculamos los medoids de los nuevos clusters\n",
    "\n",
    "        medoids = []\n",
    "        label_medoids =[]\n",
    "\n",
    "\n",
    "        for j in range(0, k):                    \n",
    "                \n",
    "                observations_cluster_j = df_cluster.loc[df_cluster.cluster == j ,].observacion\n",
    "\n",
    "                M_j = M[observations_cluster_j, :][: ,observations_cluster_j] # matriz distancias para el cluster j\n",
    "\n",
    "                suma_distancias = M_j.sum(axis=1) # suma de la matriz por filas\n",
    "\n",
    "                h = np.where( suma_distancias == min( suma_distancias) ) # indice en la matriz de la observacion que minimiza la suma de distancias en el cluster j --> medoid del cluster j\n",
    "\n",
    "                d = df_cluster.loc[df_cluster.cluster == j , ]    \n",
    "\n",
    "                # d.iloc[h[0],:].observacion  es el indice en el data set original de la observacion medoid del cluster j \n",
    "                \n",
    "                if len(h[0]) == 1 : \n",
    "                    \n",
    "                    medoids.append( Data[ d.iloc[h[0],:].observacion , : ]  )   # su componente j es el medoid del cluster j\n",
    "\n",
    "                    label_medoids.append(d.iloc[h[0],:].observacion)\n",
    "\n",
    "\n",
    "                elif len(h[0]) > 1 : \n",
    "                  \n",
    "                    medoids.append( Data[ int(d.iloc[h[0][0],:].observacion)  , : ]  ) # su componente j es el medoid del cluster j\n",
    "                \n",
    "                    label_medoids.append( int(d.iloc[h[0][0],:].observacion) )\n",
    "                \n",
    "                # Los condicionales son para evitar problemas en el caso de que en un cluster haya mas de un medoid.\n",
    "                # Puede haber dos o mas observaciones que cumplan con la definicion de medoid, para alguno de los clusters.\n",
    "                # Si un cluster tiene varios medoids, nos quedamos solo con uno.\n",
    "\n",
    "###########################################################################################\n",
    "\n",
    "        # Calculamos la suma de varianzas intra cluster para los nuevos clusters\n",
    "\n",
    "        distancias, varianzas_intra_cluster , suma_varianzas_intra_cluster = [], [], []\n",
    "\n",
    "        for j in range(0,k):\n",
    "\n",
    "            for i in df_cluster.loc[df_cluster.cluster == j, 'observacion']:\n",
    "\n",
    "                if Distance_function == Dist_Euclidea: distancias.append( Distance_function( Data[i,:] , medoids[j] ) )\n",
    "\n",
    "                if Distance_function == Dist_Minkowski: distancias.append( Distance_function( Data[i,:] , medoids[j] , q ) )\n",
    "\n",
    "                if Distance_function == Dist_Canberra: distancias.append( Distance_function( Data[i,:] , medoids[j] ) )\n",
    "\n",
    "                if Distance_function == Dist_Mahalanobis_2: distancias.append( Distance_function( Data[i,:] , medoids[j] , S_inv) )\n",
    "\n",
    "\n",
    "            varianzas_intra_cluster.append( sum(distancias) )\n",
    "\n",
    "\n",
    "        suma_varianzas_intra_cluster.append( sum(varianzas_intra_cluster) )\n",
    "\n",
    "        lista_suma_varianzas_intra_cluster.append( suma_varianzas_intra_cluster )\n",
    "\n",
    "    ###########################################\n",
    "\n",
    "        df_clusters_finales_iter = pd.DataFrame({'observaciones': df_sample['sample']  , 'cluster': labels_clusters })\n",
    "\n",
    "        lista_df_clusters_finales_iter.append(df_clusters_finales_iter)\n",
    "\n",
    "######################################################################################\n",
    "######################################################################################\n",
    "\n",
    "    from itertools import chain\n",
    "\n",
    "    # unlist a list:\n",
    "\n",
    "    lista_suma_varianzas_intra_cluster = list(chain.from_iterable(lista_suma_varianzas_intra_cluster))\n",
    "\n",
    "    df_suma_varianzas_intra_cluster = pd.DataFrame({'sum_var_intra_cluster':lista_suma_varianzas_intra_cluster  , 'iter': range(0, max_n_iter+1)})\n",
    "    \n",
    "    sort_df_suma_varianzas_intra_cluster = df_suma_varianzas_intra_cluster.sort_values(by='sum_var_intra_cluster', ascending=True)\n",
    "    \n",
    "\n",
    "######################################################################################\n",
    "\n",
    "    return lista_df_clusters_finales_iter , sort_df_suma_varianzas_intra_cluster,  df_suma_varianzas_intra_cluster\n"
   ]
  },
  {
   "cell_type": "markdown",
   "metadata": {},
   "source": []
  },
  {
   "attachments": {},
   "cell_type": "markdown",
   "metadata": {},
   "source": [
    "### Prueba con la distancia Euclidea"
   ]
  },
  {
   "cell_type": "code",
   "execution_count": 115,
   "metadata": {},
   "outputs": [],
   "source": [
    "Distance_Matrix = Matrix_Dist_Euclidea(Data_numpy)"
   ]
  },
  {
   "cell_type": "code",
   "execution_count": 116,
   "metadata": {},
   "outputs": [],
   "source": [
    "Distance_Matrix = Distance_Matrix + Distance_Matrix.T"
   ]
  },
  {
   "cell_type": "code",
   "execution_count": 117,
   "metadata": {},
   "outputs": [],
   "source": [
    "lista_df_clusters_finales_iter,  sort_df_suma_varianzas_intra_cluster, df_suma_varianzas_intra_cluster = k_medoids(Data=Data_numpy , Distance_function=Dist_Euclidea, q=1, S_inv='none', Distance_Matrix=Distance_Matrix, random_seed=123, k=4, max_n_iter=50)\n"
   ]
  },
  {
   "cell_type": "code",
   "execution_count": null,
   "metadata": {},
   "outputs": [
    {
     "data": {
      "image/png": "[encoded data removed]",
      "text/plain": [
       "<Figure size 432x288 with 1 Axes>"
      ]
     },
     "metadata": {
      "needs_background": "light"
     },
     "output_type": "display_data"
    }
   ],
   "source": [
    "plot = sns.lineplot(data=df_suma_varianzas_intra_cluster, y='sum_var_intra_cluster', x='iter')"
   ]
  },
  {
   "cell_type": "code",
   "execution_count": null,
   "metadata": {},
   "outputs": [
    {
     "data": {
      "text/html": [
       "<div>\n",
       "<style scoped>\n",
       "    .dataframe tbody tr th:only-of-type {\n",
       "        vertical-align: middle;\n",
       "    }\n",
       "\n",
       "    .dataframe tbody tr th {\n",
       "        vertical-align: top;\n",
       "    }\n",
       "\n",
       "    .dataframe thead th {\n",
       "        text-align: right;\n",
       "    }\n",
       "</style>\n",
       "<table border=\"1\" class=\"dataframe\">\n",
       "  <thead>\n",
       "    <tr style=\"text-align: right;\">\n",
       "      <th></th>\n",
       "      <th>sum_var_intra_cluster</th>\n",
       "      <th>iter</th>\n",
       "    </tr>\n",
       "  </thead>\n",
       "  <tbody>\n",
       "    <tr>\n",
       "      <th>4</th>\n",
       "      <td>1.683331e+09</td>\n",
       "      <td>4</td>\n",
       "    </tr>\n",
       "    <tr>\n",
       "      <th>3</th>\n",
       "      <td>1.693215e+09</td>\n",
       "      <td>3</td>\n",
       "    </tr>\n",
       "    <tr>\n",
       "      <th>5</th>\n",
       "      <td>1.701915e+09</td>\n",
       "      <td>5</td>\n",
       "    </tr>\n",
       "    <tr>\n",
       "      <th>6</th>\n",
       "      <td>1.723348e+09</td>\n",
       "      <td>6</td>\n",
       "    </tr>\n",
       "    <tr>\n",
       "      <th>7</th>\n",
       "      <td>1.738627e+09</td>\n",
       "      <td>7</td>\n",
       "    </tr>\n",
       "    <tr>\n",
       "      <th>8</th>\n",
       "      <td>1.766953e+09</td>\n",
       "      <td>8</td>\n",
       "    </tr>\n",
       "    <tr>\n",
       "      <th>9</th>\n",
       "      <td>1.791426e+09</td>\n",
       "      <td>9</td>\n",
       "    </tr>\n",
       "  </tbody>\n",
       "</table>\n",
       "</div>"
      ],
      "text/plain": [
       "   sum_var_intra_cluster  iter\n",
       "4           1.683331e+09     4\n",
       "3           1.693215e+09     3\n",
       "5           1.701915e+09     5\n",
       "6           1.723348e+09     6\n",
       "7           1.738627e+09     7\n",
       "8           1.766953e+09     8\n",
       "9           1.791426e+09     9"
      ]
     },
     "execution_count": 100,
     "metadata": {},
     "output_type": "execute_result"
    }
   ],
   "source": [
    "sort_df_suma_varianzas_intra_cluster.head(7)"
   ]
  },
  {
   "cell_type": "code",
   "execution_count": null,
   "metadata": {},
   "outputs": [
    {
     "data": {
      "text/html": [
       "<div>\n",
       "<style scoped>\n",
       "    .dataframe tbody tr th:only-of-type {\n",
       "        vertical-align: middle;\n",
       "    }\n",
       "\n",
       "    .dataframe tbody tr th {\n",
       "        vertical-align: top;\n",
       "    }\n",
       "\n",
       "    .dataframe thead th {\n",
       "        text-align: right;\n",
       "    }\n",
       "</style>\n",
       "<table border=\"1\" class=\"dataframe\">\n",
       "  <thead>\n",
       "    <tr style=\"text-align: right;\">\n",
       "      <th></th>\n",
       "      <th>observaciones</th>\n",
       "      <th>cluster</th>\n",
       "    </tr>\n",
       "  </thead>\n",
       "  <tbody>\n",
       "    <tr>\n",
       "      <th>0</th>\n",
       "      <td>382</td>\n",
       "      <td>3.0</td>\n",
       "    </tr>\n",
       "    <tr>\n",
       "      <th>1</th>\n",
       "      <td>732</td>\n",
       "      <td>2.0</td>\n",
       "    </tr>\n",
       "    <tr>\n",
       "      <th>2</th>\n",
       "      <td>1888</td>\n",
       "      <td>1.0</td>\n",
       "    </tr>\n",
       "    <tr>\n",
       "      <th>3</th>\n",
       "      <td>679</td>\n",
       "      <td>1.0</td>\n",
       "    </tr>\n",
       "    <tr>\n",
       "      <th>4</th>\n",
       "      <td>1004</td>\n",
       "      <td>3.0</td>\n",
       "    </tr>\n",
       "    <tr>\n",
       "      <th>...</th>\n",
       "      <td>...</td>\n",
       "      <td>...</td>\n",
       "    </tr>\n",
       "    <tr>\n",
       "      <th>1900</th>\n",
       "      <td>1122</td>\n",
       "      <td>0.0</td>\n",
       "    </tr>\n",
       "    <tr>\n",
       "      <th>1901</th>\n",
       "      <td>1346</td>\n",
       "      <td>1.0</td>\n",
       "    </tr>\n",
       "    <tr>\n",
       "      <th>1902</th>\n",
       "      <td>1406</td>\n",
       "      <td>0.0</td>\n",
       "    </tr>\n",
       "    <tr>\n",
       "      <th>1903</th>\n",
       "      <td>1389</td>\n",
       "      <td>2.0</td>\n",
       "    </tr>\n",
       "    <tr>\n",
       "      <th>1904</th>\n",
       "      <td>1534</td>\n",
       "      <td>3.0</td>\n",
       "    </tr>\n",
       "  </tbody>\n",
       "</table>\n",
       "<p>1905 rows × 2 columns</p>\n",
       "</div>"
      ],
      "text/plain": [
       "      observaciones  cluster\n",
       "0               382      3.0\n",
       "1               732      2.0\n",
       "2              1888      1.0\n",
       "3               679      1.0\n",
       "4              1004      3.0\n",
       "...             ...      ...\n",
       "1900           1122      0.0\n",
       "1901           1346      1.0\n",
       "1902           1406      0.0\n",
       "1903           1389      2.0\n",
       "1904           1534      3.0\n",
       "\n",
       "[1905 rows x 2 columns]"
      ]
     },
     "execution_count": 101,
     "metadata": {},
     "output_type": "execute_result"
    }
   ],
   "source": [
    "lista_df_clusters_finales_iter[4]"
   ]
  },
  {
   "cell_type": "markdown",
   "metadata": {},
   "source": []
  },
  {
   "attachments": {},
   "cell_type": "markdown",
   "metadata": {},
   "source": [
    "### Prueba distancia Minkowski"
   ]
  },
  {
   "cell_type": "code",
   "execution_count": null,
   "metadata": {},
   "outputs": [],
   "source": [
    "Distance_Matrix = Matrix_Dist_Minkowski(Data_numpy , q=1)"
   ]
  },
  {
   "cell_type": "code",
   "execution_count": null,
   "metadata": {},
   "outputs": [],
   "source": [
    "Distance_Matrix = Distance_Matrix + Distance_Matrix.T"
   ]
  },
  {
   "cell_type": "code",
   "execution_count": null,
   "metadata": {},
   "outputs": [],
   "source": [
    "lista_df_clusters_finales_iter,  sort_df_suma_varianzas_intra_cluster, df_suma_varianzas_intra_cluster = k_medoids(Data=Data_numpy , Distance_function=Dist_Minkowski, q=1, S_inv='none', Distance_Matrix=Distance_Matrix, random_seed=123, k=4, max_n_iter=50)\n"
   ]
  },
  {
   "cell_type": "code",
   "execution_count": null,
   "metadata": {},
   "outputs": [
    {
     "data": {
      "image/png": "[encoded data removed]",
      "text/plain": [
       "<Figure size 432x288 with 1 Axes>"
      ]
     },
     "metadata": {
      "needs_background": "light"
     },
     "output_type": "display_data"
    }
   ],
   "source": [
    "plot = sns.lineplot(data=df_suma_varianzas_intra_cluster, y='sum_var_intra_cluster', x='iter')"
   ]
  },
  {
   "cell_type": "code",
   "execution_count": null,
   "metadata": {},
   "outputs": [
    {
     "data": {
      "text/html": [
       "<div>\n",
       "<style scoped>\n",
       "    .dataframe tbody tr th:only-of-type {\n",
       "        vertical-align: middle;\n",
       "    }\n",
       "\n",
       "    .dataframe tbody tr th {\n",
       "        vertical-align: top;\n",
       "    }\n",
       "\n",
       "    .dataframe thead th {\n",
       "        text-align: right;\n",
       "    }\n",
       "</style>\n",
       "<table border=\"1\" class=\"dataframe\">\n",
       "  <thead>\n",
       "    <tr style=\"text-align: right;\">\n",
       "      <th></th>\n",
       "      <th>sum_var_intra_cluster</th>\n",
       "      <th>iter</th>\n",
       "    </tr>\n",
       "  </thead>\n",
       "  <tbody>\n",
       "    <tr>\n",
       "      <th>4</th>\n",
       "      <td>1.725662e+09</td>\n",
       "      <td>4</td>\n",
       "    </tr>\n",
       "    <tr>\n",
       "      <th>3</th>\n",
       "      <td>1.727426e+09</td>\n",
       "      <td>3</td>\n",
       "    </tr>\n",
       "    <tr>\n",
       "      <th>6</th>\n",
       "      <td>1.744155e+09</td>\n",
       "      <td>6</td>\n",
       "    </tr>\n",
       "    <tr>\n",
       "      <th>7</th>\n",
       "      <td>1.790306e+09</td>\n",
       "      <td>7</td>\n",
       "    </tr>\n",
       "    <tr>\n",
       "      <th>9</th>\n",
       "      <td>1.827519e+09</td>\n",
       "      <td>9</td>\n",
       "    </tr>\n",
       "    <tr>\n",
       "      <th>2</th>\n",
       "      <td>1.827944e+09</td>\n",
       "      <td>2</td>\n",
       "    </tr>\n",
       "    <tr>\n",
       "      <th>11</th>\n",
       "      <td>1.833913e+09</td>\n",
       "      <td>11</td>\n",
       "    </tr>\n",
       "  </tbody>\n",
       "</table>\n",
       "</div>"
      ],
      "text/plain": [
       "    sum_var_intra_cluster  iter\n",
       "4            1.725662e+09     4\n",
       "3            1.727426e+09     3\n",
       "6            1.744155e+09     6\n",
       "7            1.790306e+09     7\n",
       "9            1.827519e+09     9\n",
       "2            1.827944e+09     2\n",
       "11           1.833913e+09    11"
      ]
     },
     "execution_count": 30,
     "metadata": {},
     "output_type": "execute_result"
    }
   ],
   "source": [
    "sort_df_suma_varianzas_intra_cluster.head(7)"
   ]
  },
  {
   "cell_type": "code",
   "execution_count": null,
   "metadata": {},
   "outputs": [
    {
     "data": {
      "text/html": [
       "<div>\n",
       "<style scoped>\n",
       "    .dataframe tbody tr th:only-of-type {\n",
       "        vertical-align: middle;\n",
       "    }\n",
       "\n",
       "    .dataframe tbody tr th {\n",
       "        vertical-align: top;\n",
       "    }\n",
       "\n",
       "    .dataframe thead th {\n",
       "        text-align: right;\n",
       "    }\n",
       "</style>\n",
       "<table border=\"1\" class=\"dataframe\">\n",
       "  <thead>\n",
       "    <tr style=\"text-align: right;\">\n",
       "      <th></th>\n",
       "      <th>observaciones</th>\n",
       "      <th>cluster</th>\n",
       "    </tr>\n",
       "  </thead>\n",
       "  <tbody>\n",
       "    <tr>\n",
       "      <th>0</th>\n",
       "      <td>382</td>\n",
       "      <td>3.0</td>\n",
       "    </tr>\n",
       "    <tr>\n",
       "      <th>1</th>\n",
       "      <td>732</td>\n",
       "      <td>1.0</td>\n",
       "    </tr>\n",
       "    <tr>\n",
       "      <th>2</th>\n",
       "      <td>1888</td>\n",
       "      <td>2.0</td>\n",
       "    </tr>\n",
       "    <tr>\n",
       "      <th>3</th>\n",
       "      <td>679</td>\n",
       "      <td>2.0</td>\n",
       "    </tr>\n",
       "    <tr>\n",
       "      <th>4</th>\n",
       "      <td>1004</td>\n",
       "      <td>3.0</td>\n",
       "    </tr>\n",
       "    <tr>\n",
       "      <th>...</th>\n",
       "      <td>...</td>\n",
       "      <td>...</td>\n",
       "    </tr>\n",
       "    <tr>\n",
       "      <th>1900</th>\n",
       "      <td>1122</td>\n",
       "      <td>0.0</td>\n",
       "    </tr>\n",
       "    <tr>\n",
       "      <th>1901</th>\n",
       "      <td>1346</td>\n",
       "      <td>2.0</td>\n",
       "    </tr>\n",
       "    <tr>\n",
       "      <th>1902</th>\n",
       "      <td>1406</td>\n",
       "      <td>0.0</td>\n",
       "    </tr>\n",
       "    <tr>\n",
       "      <th>1903</th>\n",
       "      <td>1389</td>\n",
       "      <td>1.0</td>\n",
       "    </tr>\n",
       "    <tr>\n",
       "      <th>1904</th>\n",
       "      <td>1534</td>\n",
       "      <td>3.0</td>\n",
       "    </tr>\n",
       "  </tbody>\n",
       "</table>\n",
       "<p>1905 rows × 2 columns</p>\n",
       "</div>"
      ],
      "text/plain": [
       "      observaciones  cluster\n",
       "0               382      3.0\n",
       "1               732      1.0\n",
       "2              1888      2.0\n",
       "3               679      2.0\n",
       "4              1004      3.0\n",
       "...             ...      ...\n",
       "1900           1122      0.0\n",
       "1901           1346      2.0\n",
       "1902           1406      0.0\n",
       "1903           1389      1.0\n",
       "1904           1534      3.0\n",
       "\n",
       "[1905 rows x 2 columns]"
      ]
     },
     "execution_count": 29,
     "metadata": {},
     "output_type": "execute_result"
    }
   ],
   "source": [
    "lista_df_clusters_finales_iter[5]"
   ]
  },
  {
   "cell_type": "markdown",
   "metadata": {},
   "source": []
  },
  {
   "cell_type": "markdown",
   "metadata": {},
   "source": [
    "### Prueba con Distancia Canberra"
   ]
  },
  {
   "cell_type": "code",
   "execution_count": null,
   "metadata": {},
   "outputs": [],
   "source": [
    "Distance_Matrix = Matrix_Dist_Canberra(Data_numpy)\n",
    "\n",
    "Distance_Matrix = Distance_Matrix + Distance_Matrix.T"
   ]
  },
  {
   "cell_type": "code",
   "execution_count": null,
   "metadata": {},
   "outputs": [],
   "source": [
    "lista_df_clusters_finales_iter,  sort_df_suma_varianzas_intra_cluster, df_suma_varianzas_intra_cluster = k_medoids(Data=Data_numpy , Distance_function=Dist_Canberra, q=1, S_inv='none', Distance_Matrix=Distance_Matrix, random_seed=123, k=4, max_n_iter=50)\n"
   ]
  },
  {
   "cell_type": "code",
   "execution_count": null,
   "metadata": {},
   "outputs": [
    {
     "data": {
      "image/png": "[encoded data removed]",
      "text/plain": [
       "<Figure size 432x288 with 1 Axes>"
      ]
     },
     "metadata": {
      "needs_background": "light"
     },
     "output_type": "display_data"
    }
   ],
   "source": [
    "plot = sns.lineplot(data=df_suma_varianzas_intra_cluster, y='sum_var_intra_cluster', x='iter')"
   ]
  },
  {
   "cell_type": "code",
   "execution_count": null,
   "metadata": {},
   "outputs": [
    {
     "data": {
      "text/html": [
       "<div>\n",
       "<style scoped>\n",
       "    .dataframe tbody tr th:only-of-type {\n",
       "        vertical-align: middle;\n",
       "    }\n",
       "\n",
       "    .dataframe tbody tr th {\n",
       "        vertical-align: top;\n",
       "    }\n",
       "\n",
       "    .dataframe thead th {\n",
       "        text-align: right;\n",
       "    }\n",
       "</style>\n",
       "<table border=\"1\" class=\"dataframe\">\n",
       "  <thead>\n",
       "    <tr style=\"text-align: right;\">\n",
       "      <th></th>\n",
       "      <th>sum_var_intra_cluster</th>\n",
       "      <th>iter</th>\n",
       "    </tr>\n",
       "  </thead>\n",
       "  <tbody>\n",
       "    <tr>\n",
       "      <th>2</th>\n",
       "      <td>978.890348</td>\n",
       "      <td>2</td>\n",
       "    </tr>\n",
       "    <tr>\n",
       "      <th>5</th>\n",
       "      <td>1011.428104</td>\n",
       "      <td>5</td>\n",
       "    </tr>\n",
       "    <tr>\n",
       "      <th>6</th>\n",
       "      <td>1019.078727</td>\n",
       "      <td>6</td>\n",
       "    </tr>\n",
       "    <tr>\n",
       "      <th>7</th>\n",
       "      <td>1022.470984</td>\n",
       "      <td>7</td>\n",
       "    </tr>\n",
       "    <tr>\n",
       "      <th>8</th>\n",
       "      <td>1030.463863</td>\n",
       "      <td>8</td>\n",
       "    </tr>\n",
       "    <tr>\n",
       "      <th>9</th>\n",
       "      <td>1035.761422</td>\n",
       "      <td>9</td>\n",
       "    </tr>\n",
       "    <tr>\n",
       "      <th>10</th>\n",
       "      <td>1040.810428</td>\n",
       "      <td>10</td>\n",
       "    </tr>\n",
       "  </tbody>\n",
       "</table>\n",
       "</div>"
      ],
      "text/plain": [
       "    sum_var_intra_cluster  iter\n",
       "2              978.890348     2\n",
       "5             1011.428104     5\n",
       "6             1019.078727     6\n",
       "7             1022.470984     7\n",
       "8             1030.463863     8\n",
       "9             1035.761422     9\n",
       "10            1040.810428    10"
      ]
     },
     "execution_count": 36,
     "metadata": {},
     "output_type": "execute_result"
    }
   ],
   "source": [
    "sort_df_suma_varianzas_intra_cluster.head(7)"
   ]
  },
  {
   "cell_type": "code",
   "execution_count": null,
   "metadata": {},
   "outputs": [
    {
     "data": {
      "text/html": [
       "<div>\n",
       "<style scoped>\n",
       "    .dataframe tbody tr th:only-of-type {\n",
       "        vertical-align: middle;\n",
       "    }\n",
       "\n",
       "    .dataframe tbody tr th {\n",
       "        vertical-align: top;\n",
       "    }\n",
       "\n",
       "    .dataframe thead th {\n",
       "        text-align: right;\n",
       "    }\n",
       "</style>\n",
       "<table border=\"1\" class=\"dataframe\">\n",
       "  <thead>\n",
       "    <tr style=\"text-align: right;\">\n",
       "      <th></th>\n",
       "      <th>observaciones</th>\n",
       "      <th>cluster</th>\n",
       "    </tr>\n",
       "  </thead>\n",
       "  <tbody>\n",
       "    <tr>\n",
       "      <th>0</th>\n",
       "      <td>382</td>\n",
       "      <td>3.0</td>\n",
       "    </tr>\n",
       "    <tr>\n",
       "      <th>1</th>\n",
       "      <td>732</td>\n",
       "      <td>2.0</td>\n",
       "    </tr>\n",
       "    <tr>\n",
       "      <th>2</th>\n",
       "      <td>1888</td>\n",
       "      <td>0.0</td>\n",
       "    </tr>\n",
       "    <tr>\n",
       "      <th>3</th>\n",
       "      <td>679</td>\n",
       "      <td>0.0</td>\n",
       "    </tr>\n",
       "    <tr>\n",
       "      <th>4</th>\n",
       "      <td>1004</td>\n",
       "      <td>3.0</td>\n",
       "    </tr>\n",
       "    <tr>\n",
       "      <th>...</th>\n",
       "      <td>...</td>\n",
       "      <td>...</td>\n",
       "    </tr>\n",
       "    <tr>\n",
       "      <th>1900</th>\n",
       "      <td>1122</td>\n",
       "      <td>0.0</td>\n",
       "    </tr>\n",
       "    <tr>\n",
       "      <th>1901</th>\n",
       "      <td>1346</td>\n",
       "      <td>0.0</td>\n",
       "    </tr>\n",
       "    <tr>\n",
       "      <th>1902</th>\n",
       "      <td>1406</td>\n",
       "      <td>1.0</td>\n",
       "    </tr>\n",
       "    <tr>\n",
       "      <th>1903</th>\n",
       "      <td>1389</td>\n",
       "      <td>2.0</td>\n",
       "    </tr>\n",
       "    <tr>\n",
       "      <th>1904</th>\n",
       "      <td>1534</td>\n",
       "      <td>3.0</td>\n",
       "    </tr>\n",
       "  </tbody>\n",
       "</table>\n",
       "<p>1905 rows × 2 columns</p>\n",
       "</div>"
      ],
      "text/plain": [
       "      observaciones  cluster\n",
       "0               382      3.0\n",
       "1               732      2.0\n",
       "2              1888      0.0\n",
       "3               679      0.0\n",
       "4              1004      3.0\n",
       "...             ...      ...\n",
       "1900           1122      0.0\n",
       "1901           1346      0.0\n",
       "1902           1406      1.0\n",
       "1903           1389      2.0\n",
       "1904           1534      3.0\n",
       "\n",
       "[1905 rows x 2 columns]"
      ]
     },
     "execution_count": 37,
     "metadata": {},
     "output_type": "execute_result"
    }
   ],
   "source": [
    "lista_df_clusters_finales_iter[2]"
   ]
  },
  {
   "cell_type": "markdown",
   "metadata": {},
   "source": []
  },
  {
   "attachments": {},
   "cell_type": "markdown",
   "metadata": {},
   "source": [
    "### Prueba Distancia Mahalanobis"
   ]
  },
  {
   "cell_type": "code",
   "execution_count": null,
   "metadata": {},
   "outputs": [],
   "source": [
    "S_inv = np.linalg.inv( np.cov(Data_numpy , rowvar=False) )"
   ]
  },
  {
   "cell_type": "code",
   "execution_count": null,
   "metadata": {},
   "outputs": [],
   "source": [
    "Distance_Matrix = Matrix_Dist_Mahalanobis_3(Data_numpy)\n",
    "\n",
    "Distance_Matrix = Distance_Matrix + Distance_Matrix.T"
   ]
  },
  {
   "cell_type": "code",
   "execution_count": null,
   "metadata": {},
   "outputs": [],
   "source": [
    "lista_df_clusters_finales_iter,  sort_df_suma_varianzas_intra_cluster, df_suma_varianzas_intra_cluster doids = k_medoids(Data=Data_numpy , Distance_function=Dist_Mahalanobis_2, q=1, S_inv=S_inv, Distance_Matrix=Distance_Matrix, random_seed=123, k=4, max_n_iter=50)\n"
   ]
  },
  {
   "cell_type": "code",
   "execution_count": null,
   "metadata": {},
   "outputs": [
    {
     "data": {
      "image/png": "[encoded data removed]",
      "text/plain": [
       "<Figure size 432x288 with 1 Axes>"
      ]
     },
     "metadata": {
      "needs_background": "light"
     },
     "output_type": "display_data"
    }
   ],
   "source": [
    "plot = sns.lineplot(data=df_suma_varianzas_intra_cluster, y='sum_var_intra_cluster', x='iter')"
   ]
  },
  {
   "cell_type": "code",
   "execution_count": null,
   "metadata": {},
   "outputs": [],
   "source": [
    "sort_df_suma_varianzas_intra_cluster.head(7)"
   ]
  },
  {
   "cell_type": "code",
   "execution_count": null,
   "metadata": {},
   "outputs": [],
   "source": [
    "lista_df_clusters_finales_iter[2]"
   ]
  },
  {
   "cell_type": "markdown",
   "metadata": {},
   "source": []
  },
  {
   "attachments": {},
   "cell_type": "markdown",
   "metadata": {},
   "source": [
    "## k-medoids original de Park y Jun "
   ]
  },
  {
   "cell_type": "markdown",
   "metadata": {},
   "source": []
  },
  {
   "cell_type": "code",
   "execution_count": null,
   "metadata": {},
   "outputs": [],
   "source": []
  },
  {
   "cell_type": "code",
   "execution_count": 78,
   "metadata": {},
   "outputs": [],
   "source": [
    "\n",
    "    lista_df_clusters_finales_iter = []\n",
    "\n",
    "    ###########################################################################################\n",
    "\n",
    "    # Se generan los clusters iniciales aleatoreamente\n",
    "\n",
    "    sample = resample(range(0, len(Data)), n_samples=len(Data), replace=False, random_state=random_seed)\n",
    "\n",
    "    df_sample = pd.DataFrame({'index': range(0,len(Data)) , 'sample':sample})\n",
    "\n",
    "    Q = []\n",
    "\n",
    "    for q in np.arange(0 , 1 + 1/k , 1/k):\n",
    "\n",
    "        Q.append( np.quantile( range(0, len(Data)) , q ).round(0) )\n",
    "\n",
    "\n",
    "\n",
    "    labels_clusters = np.array([0])\n",
    "\n",
    "    for j in range(0,k):\n",
    "   \n",
    "        labels_clusters = np.concatenate([labels_clusters, np.repeat( j, len( df_sample.loc[Q[j]:(math.floor(Q[j+1])-1), 'sample'] ) ) ] ) \n",
    " \n",
    "\n",
    "    df_cluster = pd.DataFrame({'observacion': df_sample['sample'] , 'cluster': labels_clusters})\n",
    "\n",
    "    lista_df_clusters_finales_iter.append(df_cluster)\n",
    "\n",
    "    ###########################################################################################\n",
    "\n"
   ]
  },
  {
   "cell_type": "code",
   "execution_count": 80,
   "metadata": {},
   "outputs": [],
   "source": [
    "Data = Data_numpy"
   ]
  },
  {
   "cell_type": "code",
   "execution_count": 81,
   "metadata": {},
   "outputs": [],
   "source": [
    "\n",
    "    # calculamos los medoids de los clusters iniciales\n",
    "\n",
    "    M = Distance_Matrix\n",
    "\n",
    "   ######################\n",
    "\n",
    "    medoids = []\n",
    "\n",
    "    for j in range(0, k):\n",
    "\n",
    "      observations_cluster_j = df_cluster.loc[df_cluster.cluster == j ,].observacion\n",
    "\n",
    "      M_j = M[observations_cluster_j, :][: ,observations_cluster_j] # matriz distancias para el cluster j\n",
    "\n",
    "      suma_distancias = M_j.sum(axis=1) # suma de la matriz por filas\n",
    "\n",
    "      h = np.where( suma_distancias == min( suma_distancias ) ) # indice en la matriz de la observacion que minimiza la suma de distancias en el cluster j --> medoid del cluster j\n",
    "\n",
    "      d = df_cluster.loc[df_cluster.cluster == j , ]    \n",
    "\n",
    "      # d.iloc[h[0],:].observacion es el indice en el data set original de la observacion medoid del cluster j \n",
    "\n",
    "\n",
    "      if len(h[0]) == 1 : \n",
    "        \n",
    "        medoids.append( Data[ d.iloc[h[0],:].observacion , : ]  ) # su componente j es el medoid del cluster j\n",
    "\n",
    "      if len(h[0]) > 1 : \n",
    "        \n",
    "        medoids.append( Data[ d.iloc[h[0][0],:].observacion , : ]  ) # su componente j es el medoid del cluster j\n",
    "\n",
    "      # Los condicionales son para evitar problemas en el caso de que en un cluster haya mas de un medoid.\n",
    "      # Puede haber dos o mas observaciones que cumplan con la definicion de medoid, para alguno de los clusters.\n",
    "      # Si un cluster tiene varios medoids, nos quedamos solo con uno.\n",
    "\n",
    "###########################################################################################\n",
    "\n"
   ]
  },
  {
   "cell_type": "code",
   "execution_count": 82,
   "metadata": {},
   "outputs": [
    {
     "data": {
      "text/plain": [
       "(array([68], dtype=int64),)"
      ]
     },
     "execution_count": 82,
     "metadata": {},
     "output_type": "execute_result"
    }
   ],
   "source": [
    "h"
   ]
  },
  {
   "cell_type": "code",
   "execution_count": 85,
   "metadata": {},
   "outputs": [],
   "source": [
    "Distance_function = Dist_Euclidea"
   ]
  },
  {
   "cell_type": "code",
   "execution_count": 86,
   "metadata": {},
   "outputs": [],
   "source": [
    "\n",
    "    # Calculamos la suma de varianzas intra cluster para los clusters iniciales\n",
    "\n",
    "    lista_suma_varianzas_intra_cluster = []\n",
    "\n",
    "    distancias, varianzas_intra_cluster , suma_varianzas_intra_cluster = [], [], []\n",
    "\n",
    "    for j in range(0,k):\n",
    "\n",
    "        for i in df_cluster.loc[df_cluster.cluster == j, 'observacion']:\n",
    "\n",
    "            if Distance_function == Dist_Euclidea: distancias.append( Distance_function( Data[i,:] , medoids[j] ) )\n",
    "\n",
    "            if Distance_function == Dist_Minkowski: distancias.append( Distance_function( Data[i,:] , medoids[j] , q ) )\n",
    "\n",
    "            if Distance_function == Dist_Canberra: distancias.append( Distance_function( Data[i,:] , medoids[j] ) )\n",
    "\n",
    "            if Distance_function == Dist_Mahalanobis_2: distancias.append( Distance_function( Data[i,:] , medoids[j] , S_inv) )\n",
    "            \n",
    "\n",
    "        varianzas_intra_cluster.append( sum(distancias) )\n",
    "\n",
    "\n",
    "    suma_varianzas_intra_cluster.append( sum(varianzas_intra_cluster) )\n",
    "\n",
    "    lista_suma_varianzas_intra_cluster.append( suma_varianzas_intra_cluster )\n",
    "\n",
    "\n",
    "###########################################################################################\n",
    "\n"
   ]
  },
  {
   "cell_type": "code",
   "execution_count": 87,
   "metadata": {},
   "outputs": [],
   "source": [
    "max_n_iter = 10"
   ]
  },
  {
   "cell_type": "code",
   "execution_count": 88,
   "metadata": {},
   "outputs": [
    {
     "ename": "IndexError",
     "evalue": "only integers, slices (`:`), ellipsis (`...`), numpy.newaxis (`None`) and integer or boolean arrays are valid indices",
     "output_type": "error",
     "traceback": [
      "\u001b[1;31m---------------------------------------------------------------------------\u001b[0m",
      "\u001b[1;31mIndexError\u001b[0m                                Traceback (most recent call last)",
      "\u001b[1;32mc:\\Users\\Usuario\\Documents\\fabio\\Fabio\\Estadistica4all.github.io\\Notebooks\\Clustering\\k-medoids.ipynb Celda 58\u001b[0m in \u001b[0;36m<cell line: 4>\u001b[1;34m()\u001b[0m\n\u001b[0;32m     <a href='vscode-notebook-cell:/c%3A/Users/Usuario/Documents/fabio/Fabio/Estadistica4all.github.io/Notebooks/Clustering/k-medoids.ipynb#Y204sZmlsZQ%3D%3D?line=65'>66</a>\u001b[0m     label_medoids\u001b[39m.\u001b[39mappend(d\u001b[39m.\u001b[39miloc[h[\u001b[39m0\u001b[39m],:]\u001b[39m.\u001b[39mobservacion)\n\u001b[0;32m     <a href='vscode-notebook-cell:/c%3A/Users/Usuario/Documents/fabio/Fabio/Estadistica4all.github.io/Notebooks/Clustering/k-medoids.ipynb#Y204sZmlsZQ%3D%3D?line=68'>69</a>\u001b[0m \u001b[39melif\u001b[39;00m \u001b[39mlen\u001b[39m(h[\u001b[39m0\u001b[39m]) \u001b[39m>\u001b[39m \u001b[39m1\u001b[39m : \n\u001b[1;32m---> <a href='vscode-notebook-cell:/c%3A/Users/Usuario/Documents/fabio/Fabio/Estadistica4all.github.io/Notebooks/Clustering/k-medoids.ipynb#Y204sZmlsZQ%3D%3D?line=70'>71</a>\u001b[0m     medoids\u001b[39m.\u001b[39mappend( Data[ d\u001b[39m.\u001b[39;49miloc[h[\u001b[39m0\u001b[39;49m][\u001b[39m0\u001b[39;49m],:]\u001b[39m.\u001b[39;49mobservacion , : ]  ) \u001b[39m# su componente j es el medoid del cluster j\u001b[39;00m\n\u001b[0;32m     <a href='vscode-notebook-cell:/c%3A/Users/Usuario/Documents/fabio/Fabio/Estadistica4all.github.io/Notebooks/Clustering/k-medoids.ipynb#Y204sZmlsZQ%3D%3D?line=72'>73</a>\u001b[0m     label_medoids\u001b[39m.\u001b[39mappend(d\u001b[39m.\u001b[39miloc[h[\u001b[39m0\u001b[39m][\u001b[39m0\u001b[39m],:]\u001b[39m.\u001b[39mobservacion)\n",
      "\u001b[1;31mIndexError\u001b[0m: only integers, slices (`:`), ellipsis (`...`), numpy.newaxis (`None`) and integer or boolean arrays are valid indices"
     ]
    }
   ],
   "source": [
    "\n",
    "    # Asignar cada observacion a su cluster más cercano \n",
    "\n",
    "\n",
    "    for r in range(0 , max_n_iter):\n",
    "\n",
    "\n",
    "       # Calculamos los nuevos clusters \n",
    "\n",
    "        labels_clusters = []\n",
    "\n",
    "        for i in df_sample['sample']:\n",
    "\n",
    "            distancias = []\n",
    "    \n",
    "            for j in range(0,k):\n",
    "\n",
    "                if Distance_function == Dist_Euclidea: distancias.append( Distance_function( Data[i,:] , medoids[j] ) )\n",
    "\n",
    "                if Distance_function == Dist_Minkowski: distancias.append( Distance_function( Data[i,:] , medoids[j] , q ) )\n",
    "\n",
    "                if Distance_function == Dist_Canberra: distancias.append( Distance_function( Data[i,:] , medoids[j] ) )\n",
    "\n",
    "                if Distance_function == Dist_Mahalanobis_2: distancias.append( Distance_function( Data[i,:] , medoids[j] , S_inv) )\n",
    "            \n",
    "\n",
    "                \n",
    "\n",
    "            df_distancias = pd.DataFrame({'Distancias' : distancias , 'Cluster': range(0,k)})\n",
    "\n",
    "            df_distancias_sort = df_distancias.sort_values(by='Distancias', ascending=True)\n",
    "\n",
    "            labels_clusters.append( df_distancias_sort.iloc[0]['Cluster'] )\n",
    "\n",
    "        \n",
    "        \n",
    "        df_cluster = pd.DataFrame({'observacion' : df_sample['sample'] , 'cluster': labels_clusters})\n",
    "\n",
    "\n",
    "###########################################################################################\n",
    "\n",
    "\n",
    "       # Calculamos los medoids de los nuevos clusters\n",
    "\n",
    "        medoids = []\n",
    "        label_medoids =[]\n",
    "\n",
    "\n",
    "        for j in range(0, k):                    \n",
    "                \n",
    "                observations_cluster_j = df_cluster.loc[df_cluster.cluster == j ,].observacion\n",
    "\n",
    "                M_j = M[observations_cluster_j, :][: ,observations_cluster_j] # matriz distancias para el cluster j\n",
    "\n",
    "                suma_distancias = M_j.sum(axis=1) # suma de la matriz por filas\n",
    "\n",
    "                h = np.where( suma_distancias == min( suma_distancias) ) # indice en la matriz de la observacion que minimiza la suma de distancias en el cluster j --> medoid del cluster j\n",
    "\n",
    "                d = df_cluster.loc[df_cluster.cluster == j , ]    \n",
    "\n",
    "                # d.iloc[h[0],:].observacion  es el indice en el data set original de la observacion medoid del cluster j \n",
    "                \n",
    "                if len(h[0]) == 1 : \n",
    "                    \n",
    "                    medoids.append( Data[ int(d.iloc[h[0],:].observacion) , : ]  )   # su componente j es el medoid del cluster j\n",
    "\n",
    "                    label_medoids.append(d.iloc[h[0],:].observacion)\n",
    "\n",
    "\n",
    "                elif len(h[0]) > 1 : \n",
    "                  \n",
    "                    medoids.append( Data[ int(d.iloc[h[0][0],:].observacion) , : ]  ) # su componente j es el medoid del cluster j\n",
    "                \n",
    "                    label_medoids.append(d.iloc[h[0][0],:].observacion)"
   ]
  },
  {
   "cell_type": "code",
   "execution_count": 89,
   "metadata": {},
   "outputs": [
    {
     "data": {
      "text/plain": [
       "(array([ 83, 354], dtype=int64),)"
      ]
     },
     "execution_count": 89,
     "metadata": {},
     "output_type": "execute_result"
    }
   ],
   "source": [
    "h"
   ]
  },
  {
   "cell_type": "code",
   "execution_count": 96,
   "metadata": {},
   "outputs": [
    {
     "data": {
      "text/plain": [
       "array([2.5060439e+01, 5.5202273e+01, 6.7072800e+05, 6.7633384e+01])"
      ]
     },
     "execution_count": 96,
     "metadata": {},
     "output_type": "execute_result"
    }
   ],
   "source": [
    "Data[ int(d.iloc[h[0][0],:].observacion) , : ]"
   ]
  },
  {
   "cell_type": "code",
   "execution_count": 95,
   "metadata": {},
   "outputs": [
    {
     "data": {
      "text/plain": [
       "1114"
      ]
     },
     "execution_count": 95,
     "metadata": {},
     "output_type": "execute_result"
    }
   ],
   "source": [
    "int(d.iloc[h[0][0],:].observacion)"
   ]
  },
  {
   "cell_type": "code",
   "execution_count": 90,
   "metadata": {},
   "outputs": [
    {
     "data": {
      "text/html": [
       "<div>\n",
       "<style scoped>\n",
       "    .dataframe tbody tr th:only-of-type {\n",
       "        vertical-align: middle;\n",
       "    }\n",
       "\n",
       "    .dataframe tbody tr th {\n",
       "        vertical-align: top;\n",
       "    }\n",
       "\n",
       "    .dataframe thead th {\n",
       "        text-align: right;\n",
       "    }\n",
       "</style>\n",
       "<table border=\"1\" class=\"dataframe\">\n",
       "  <thead>\n",
       "    <tr style=\"text-align: right;\">\n",
       "      <th></th>\n",
       "      <th>observacion</th>\n",
       "      <th>cluster</th>\n",
       "    </tr>\n",
       "  </thead>\n",
       "  <tbody>\n",
       "    <tr>\n",
       "      <th>6</th>\n",
       "      <td>1362</td>\n",
       "      <td>0.0</td>\n",
       "    </tr>\n",
       "    <tr>\n",
       "      <th>8</th>\n",
       "      <td>1266</td>\n",
       "      <td>0.0</td>\n",
       "    </tr>\n",
       "    <tr>\n",
       "      <th>12</th>\n",
       "      <td>499</td>\n",
       "      <td>0.0</td>\n",
       "    </tr>\n",
       "    <tr>\n",
       "      <th>15</th>\n",
       "      <td>565</td>\n",
       "      <td>0.0</td>\n",
       "    </tr>\n",
       "    <tr>\n",
       "      <th>17</th>\n",
       "      <td>1809</td>\n",
       "      <td>0.0</td>\n",
       "    </tr>\n",
       "    <tr>\n",
       "      <th>...</th>\n",
       "      <td>...</td>\n",
       "      <td>...</td>\n",
       "    </tr>\n",
       "    <tr>\n",
       "      <th>1885</th>\n",
       "      <td>942</td>\n",
       "      <td>0.0</td>\n",
       "    </tr>\n",
       "    <tr>\n",
       "      <th>1897</th>\n",
       "      <td>1619</td>\n",
       "      <td>0.0</td>\n",
       "    </tr>\n",
       "    <tr>\n",
       "      <th>1898</th>\n",
       "      <td>1041</td>\n",
       "      <td>0.0</td>\n",
       "    </tr>\n",
       "    <tr>\n",
       "      <th>1900</th>\n",
       "      <td>1122</td>\n",
       "      <td>0.0</td>\n",
       "    </tr>\n",
       "    <tr>\n",
       "      <th>1902</th>\n",
       "      <td>1406</td>\n",
       "      <td>0.0</td>\n",
       "    </tr>\n",
       "  </tbody>\n",
       "</table>\n",
       "<p>545 rows × 2 columns</p>\n",
       "</div>"
      ],
      "text/plain": [
       "      observacion  cluster\n",
       "6            1362      0.0\n",
       "8            1266      0.0\n",
       "12            499      0.0\n",
       "15            565      0.0\n",
       "17           1809      0.0\n",
       "...           ...      ...\n",
       "1885          942      0.0\n",
       "1897         1619      0.0\n",
       "1898         1041      0.0\n",
       "1900         1122      0.0\n",
       "1902         1406      0.0\n",
       "\n",
       "[545 rows x 2 columns]"
      ]
     },
     "execution_count": 90,
     "metadata": {},
     "output_type": "execute_result"
    }
   ],
   "source": [
    "d"
   ]
  }
 ],
 "metadata": {
  "kernelspec": {
   "display_name": "Python 3",
   "language": "python",
   "name": "python3"
  },
  "language_info": {
   "codemirror_mode": {
    "name": "ipython",
    "version": 3
   },
   "file_extension": ".py",
   "mimetype": "text/x-python",
   "name": "python",
   "nbconvert_exporter": "python",
   "pygments_lexer": "ipython3",
   "version": "3.10.0"
  },
  "orig_nbformat": 4,
  "vscode": {
   "interpreter": {
    "hash": "c63d8c7d738c2960218a10995aedf0a7f67a49a231e71037adf0440953cdb45b"
   }
  }
 },
 "nbformat": 4,
 "nbformat_minor": 2
}
