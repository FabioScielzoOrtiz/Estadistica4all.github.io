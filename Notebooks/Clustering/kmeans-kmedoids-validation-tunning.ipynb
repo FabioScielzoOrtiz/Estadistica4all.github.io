{
 "cells": [
  {
   "cell_type": "code",
   "execution_count": 4,
   "metadata": {},
   "outputs": [],
   "source": [
    "import seaborn as sns\n",
    "import pandas as pd\n",
    "import numpy as np\n",
    "from sklearn.utils import resample\n",
    "import math as math\n",
    "from itertools import chain"
   ]
  },
  {
   "cell_type": "code",
   "execution_count": 5,
   "metadata": {},
   "outputs": [],
   "source": [
    "Data = pd.read_csv('House_Price_Regression.csv')"
   ]
  },
  {
   "cell_type": "code",
   "execution_count": 6,
   "metadata": {},
   "outputs": [
    {
     "data": {
      "text/html": [
       "<div>\n",
       "<style scoped>\n",
       "    .dataframe tbody tr th:only-of-type {\n",
       "        vertical-align: middle;\n",
       "    }\n",
       "\n",
       "    .dataframe tbody tr th {\n",
       "        vertical-align: top;\n",
       "    }\n",
       "\n",
       "    .dataframe thead th {\n",
       "        text-align: right;\n",
       "    }\n",
       "</style>\n",
       "<table border=\"1\" class=\"dataframe\">\n",
       "  <thead>\n",
       "    <tr style=\"text-align: right;\">\n",
       "      <th></th>\n",
       "      <th>latitude</th>\n",
       "      <th>longitude</th>\n",
       "      <th>price</th>\n",
       "      <th>size_in_m_2</th>\n",
       "      <th>no_of_bedrooms</th>\n",
       "      <th>no_of_bathrooms</th>\n",
       "    </tr>\n",
       "  </thead>\n",
       "  <tbody>\n",
       "    <tr>\n",
       "      <th>0</th>\n",
       "      <td>25.113208</td>\n",
       "      <td>55.138932</td>\n",
       "      <td>2700000</td>\n",
       "      <td>100.242337</td>\n",
       "      <td>1</td>\n",
       "      <td>2</td>\n",
       "    </tr>\n",
       "    <tr>\n",
       "      <th>1</th>\n",
       "      <td>25.106809</td>\n",
       "      <td>55.151201</td>\n",
       "      <td>2850000</td>\n",
       "      <td>146.972546</td>\n",
       "      <td>2</td>\n",
       "      <td>2</td>\n",
       "    </tr>\n",
       "    <tr>\n",
       "      <th>2</th>\n",
       "      <td>25.063302</td>\n",
       "      <td>55.137728</td>\n",
       "      <td>1150000</td>\n",
       "      <td>181.253753</td>\n",
       "      <td>3</td>\n",
       "      <td>5</td>\n",
       "    </tr>\n",
       "    <tr>\n",
       "      <th>3</th>\n",
       "      <td>25.227295</td>\n",
       "      <td>55.341761</td>\n",
       "      <td>2850000</td>\n",
       "      <td>187.664060</td>\n",
       "      <td>2</td>\n",
       "      <td>3</td>\n",
       "    </tr>\n",
       "    <tr>\n",
       "      <th>4</th>\n",
       "      <td>25.114275</td>\n",
       "      <td>55.139764</td>\n",
       "      <td>1729200</td>\n",
       "      <td>47.101821</td>\n",
       "      <td>0</td>\n",
       "      <td>1</td>\n",
       "    </tr>\n",
       "  </tbody>\n",
       "</table>\n",
       "</div>"
      ],
      "text/plain": [
       "    latitude  longitude    price  size_in_m_2  no_of_bedrooms  no_of_bathrooms\n",
       "0  25.113208  55.138932  2700000   100.242337               1                2\n",
       "1  25.106809  55.151201  2850000   146.972546               2                2\n",
       "2  25.063302  55.137728  1150000   181.253753               3                5\n",
       "3  25.227295  55.341761  2850000   187.664060               2                3\n",
       "4  25.114275  55.139764  1729200    47.101821               0                1"
      ]
     },
     "execution_count": 6,
     "metadata": {},
     "output_type": "execute_result"
    }
   ],
   "source": [
    "Data_quant = Data.loc[:, ['latitude', 'longitude', 'price', 'size_in_m_2', 'no_of_bedrooms', 'no_of_bathrooms']]\n",
    "\n",
    "Data_quant.head()"
   ]
  },
  {
   "cell_type": "markdown",
   "metadata": {},
   "source": []
  },
  {
   "attachments": {},
   "cell_type": "markdown",
   "metadata": {},
   "source": [
    "## Distancias (funciones)"
   ]
  },
  {
   "cell_type": "code",
   "execution_count": 231,
   "metadata": {},
   "outputs": [],
   "source": [
    "def Dist_Euclidea(x_i, x_r):\n",
    "\n",
    "        Dist_Euclidea = ( ( x_i - x_r )**2 ).sum()\n",
    "\n",
    "        Dist_Euclidea = np.sqrt(Dist_Euclidea)\n",
    "\n",
    "        return Dist_Euclidea"
   ]
  },
  {
   "cell_type": "code",
   "execution_count": 232,
   "metadata": {},
   "outputs": [],
   "source": [
    "def Matrix_Dist_Euclidea(Data):\n",
    "\n",
    "    if isinstance(Data, pd.DataFrame):\n",
    "        Data = Data.to_numpy()\n",
    "    elif isinstance(Data, np.ndarray):\n",
    "        pass\n",
    "\n",
    "    n = len(Data)\n",
    "\n",
    "    M =  np.empty((n , n))\n",
    "\n",
    "    \n",
    "    for i in range(0, n):\n",
    "\n",
    "         for r in range(0, n):\n",
    "\n",
    "             if i >= r :\n",
    "               \n",
    "                 M[i,r] = 0\n",
    "\n",
    "             else :\n",
    "\n",
    "                 M[i,r] = Dist_Euclidea(Data[i,:] , Data[r,:])   \n",
    "\n",
    "                      \n",
    "    return M "
   ]
  },
  {
   "cell_type": "markdown",
   "metadata": {},
   "source": []
  },
  {
   "cell_type": "code",
   "execution_count": 9,
   "metadata": {},
   "outputs": [],
   "source": [
    "def Dist_Minkowski(x_i, x_r, q):\n",
    "\n",
    "    Dist_Minkowski = ( ( ( abs( x_i - x_r) )**q ).sum() )**(1/q)\n",
    "\n",
    "    return Dist_Minkowski"
   ]
  },
  {
   "cell_type": "code",
   "execution_count": 10,
   "metadata": {},
   "outputs": [],
   "source": [
    "def Matrix_Dist_Minkowski(Data, q):\n",
    "\n",
    "    if isinstance(Data, pd.DataFrame):\n",
    "        Data = Data.to_numpy()\n",
    "    elif isinstance(Data, np.ndarray):\n",
    "        pass\n",
    "\n",
    "    n = len(Data)\n",
    "\n",
    "    M =  np.empty((n , n))\n",
    "\n",
    "    \n",
    "    for i in range(0, n):\n",
    "\n",
    "         for r in range(0, n):\n",
    "\n",
    "             if i >= r :\n",
    "               \n",
    "                 M[i,r] = 0\n",
    "\n",
    "             else :\n",
    "\n",
    "                 M[i,r] = Dist_Minkowski(Data[i,:] , Data[r,:], q)   \n",
    "                      \n",
    "    return M "
   ]
  },
  {
   "cell_type": "markdown",
   "metadata": {},
   "source": []
  },
  {
   "cell_type": "code",
   "execution_count": 11,
   "metadata": {},
   "outputs": [],
   "source": [
    "def Dist_Canberra(x_i, x_r):\n",
    "\n",
    "    numerator =  abs( x_i - x_r )\n",
    "\n",
    "    denominator =  ( abs(x_i) + abs(x_r) )\n",
    "       \n",
    "    numerator=np.array([numerator], dtype=float)\n",
    "\n",
    "    denominator=np.array([denominator], dtype=float)\n",
    "\n",
    "    # The following code is to eliminate zero division problems\n",
    "\n",
    "    Dist_Canberra = ( np.divide( numerator , denominator , out=np.zeros_like(numerator), where=denominator!=0) ).sum() \n",
    "\n",
    "    return Dist_Canberra"
   ]
  },
  {
   "cell_type": "code",
   "execution_count": 12,
   "metadata": {},
   "outputs": [],
   "source": [
    "def Matrix_Dist_Canberra(Data):\n",
    "\n",
    "    if isinstance(Data, pd.DataFrame):\n",
    "        Data = Data.to_numpy()\n",
    "    elif isinstance(Data, np.ndarray):\n",
    "        pass\n",
    "\n",
    "    n = len(Data)\n",
    "\n",
    "    M =  np.empty((n , n))\n",
    "\n",
    "    \n",
    "    for i in range(0, n):\n",
    "\n",
    "         for r in range(0, n):\n",
    "\n",
    "             if i >= r :\n",
    "               \n",
    "                 M[i,r] = 0\n",
    "\n",
    "             else :\n",
    "\n",
    "                 M[i,r] = Dist_Canberra(Data[i,:] , Data[r,:])   \n",
    "                     \n",
    "    return M "
   ]
  },
  {
   "cell_type": "markdown",
   "metadata": {},
   "source": []
  },
  {
   "cell_type": "code",
   "execution_count": 13,
   "metadata": {},
   "outputs": [],
   "source": [
    "def Dist_Pearson(x_i, x_r, variance) :\n",
    "\n",
    "    Dist_Pearson = ( ( x_i - x_r )**2 / variance ).sum()\n",
    "\n",
    "    Dist_Pearson = np.sqrt(Dist_Pearson)\n",
    "\n",
    "    return Dist_Pearson"
   ]
  },
  {
   "cell_type": "code",
   "execution_count": 14,
   "metadata": {},
   "outputs": [],
   "source": [
    "def Matrix_Dist_Pearson(Data):\n",
    "\n",
    "    if isinstance(Data, pd.DataFrame):\n",
    "        Data = Data.to_numpy()\n",
    "    elif isinstance(Data, np.ndarray):\n",
    "        pass\n",
    "\n",
    "    n = len(Data)\n",
    "\n",
    "    M =  np.empty((n , n))\n",
    "\n",
    "    \n",
    "    for i in range(0, n):\n",
    "\n",
    "         for r in range(0, n):\n",
    "\n",
    "             if i >= r :\n",
    "               \n",
    "                 M[i,r] = 0\n",
    "\n",
    "             else :\n",
    "\n",
    "                 M[i,r] = Dist_Pearson(Data[i,:] , Data[r,:], variance=np.var(Data, axis=0, ddof=1))   \n",
    "                     \n",
    "    return M "
   ]
  },
  {
   "cell_type": "markdown",
   "metadata": {},
   "source": []
  },
  {
   "cell_type": "code",
   "execution_count": 15,
   "metadata": {},
   "outputs": [],
   "source": [
    "def Dist_Mahalanobis(x, S_inv):  # Más eficiente que la anterior\n",
    "\n",
    "    # All the columns of Data must be type = 'float' or 'int' (specially not 'object'), in other case we will find \n",
    "    # dimensional problems when Python compute   x @ S_inv @ x.T\n",
    "\n",
    "    # x = (x_i - x_r)\n",
    "\n",
    "    # x = np.array([x]) # necessary step to transpose a 1D array\n",
    "\n",
    "    Dist_Maha = np.sqrt( x @ S_inv @ x.T )  # x @ S_inv @ x.T = np.matmul( np.matmul(x , S_inv) , x.T )\n",
    "\n",
    "    Dist_Maha = float(Dist_Maha)\n",
    "\n",
    "    return Dist_Maha"
   ]
  },
  {
   "cell_type": "code",
   "execution_count": 16,
   "metadata": {},
   "outputs": [],
   "source": [
    "def Matrix_Dist_Mahalanobis(Data):\n",
    "\n",
    "    if isinstance(Data, pd.DataFrame):\n",
    "        Data = Data.to_numpy()\n",
    "    elif isinstance(Data, np.ndarray):\n",
    "        pass\n",
    "\n",
    "    n = len(Data)\n",
    "\n",
    "    M =  np.empty((n , n))\n",
    "\n",
    "    S_inv=np.linalg.inv( np.cov(Data , rowvar=False) )\n",
    "\n",
    "   \n",
    "    for i in range(0, n):\n",
    "\n",
    "         for r in range(0, n):\n",
    "\n",
    "             if i >= r :\n",
    "               \n",
    "                 M[i,r] = 0\n",
    "\n",
    "             else :\n",
    "\n",
    "                 M[i,r] = Dist_Mahalanobis(x = np.array([Data[i,:] - Data[r,:]]) , S_inv=S_inv ) \n",
    "\n",
    "                      \n",
    "    return M "
   ]
  },
  {
   "cell_type": "markdown",
   "metadata": {},
   "source": []
  },
  {
   "cell_type": "markdown",
   "metadata": {},
   "source": []
  },
  {
   "attachments": {},
   "cell_type": "markdown",
   "metadata": {},
   "source": [
    "## Algoritmo k-medias"
   ]
  },
  {
   "cell_type": "code",
   "execution_count": 20,
   "metadata": {},
   "outputs": [],
   "source": [
    "def k_means(k, Data, d, random_seed=123, n_iter=50, q=1, var=None, S_inv=None):\n",
    "\n",
    "    # Data --> a numpy array\n",
    "    # d --> name of distance (Euclidea, Minkowski, Canberra, Pearson or Mahalanobis)\n",
    "    # q --> parametro necesario si se usa la distancia Minkowski\n",
    "    # S_inv --> parametro necesario si se usa la distancia Mahalanobis\n",
    "    # random_seed --> semilla aleatoria\n",
    "    # k --> nº clusters\n",
    "    # n_iter --> nº maximo de iteraciones del algoritmo\n",
    "\n",
    "###########################################################################################\n",
    "\n",
    "    df_clusters_iter_list = []\n",
    "\n",
    "    if isinstance(Data, pd.DataFrame):\n",
    "        Data = Data.to_numpy()\n",
    "    elif isinstance(Data, np.ndarray):\n",
    "        pass\n",
    "\n",
    "###########################################################################################\n",
    "\n",
    "    # Distance definition:\n",
    "\n",
    "    Dist_d = globals()[\"Dist_\" + d]\n",
    "\n",
    "\n",
    "    def Distance(x_i, x_r, d, q, var, S_inv):\n",
    "        \n",
    "        if d == \"Euclidea\":\n",
    "    \n",
    "            distance = Dist_d(x_i , x_r)\n",
    "\n",
    "        elif d == \"Canberra\":\n",
    "            \n",
    "            distance = Dist_d(x_i , x_r)\n",
    "\n",
    "        elif d == \"Minkowski\":\n",
    "             \n",
    "            distance = Dist_d(x_i , x_r, q)\n",
    "\n",
    "        elif d == \"Pearson\":\n",
    "    \n",
    "            distance = Dist_d(x_i , x_r, variance=var)\n",
    "\n",
    "        elif d == \"Mahalanobis\":\n",
    "         \n",
    "            distance = Dist_d(x_i-x_r, S_inv)\n",
    "\n",
    "        return distance\n",
    "\n",
    "###########################################################################################\n",
    "\n",
    "    # Random generation of the initial clusters:\n",
    "\n",
    "    sample = resample(range(0, len(Data)), n_samples=len(Data), replace=False, random_state=random_seed)\n",
    "\n",
    "    df_sample = pd.DataFrame({'index': range(0,len(Data)) , 'sample':sample})\n",
    "\n",
    "    Q = []\n",
    "\n",
    "    for q in np.arange(0 , 1 + 1/k , 1/k):\n",
    "\n",
    "        Q.append( np.quantile( range(0, len(Data)) , q ).round(0) )\n",
    "\n",
    "    labels_clusters = np.array([0])\n",
    "\n",
    "    for j in range(0,k):\n",
    "   \n",
    "        labels_clusters = np.concatenate([labels_clusters, np.repeat( j, len( df_sample.loc[Q[j]:(math.floor(Q[j+1])-1), 'sample'] ) ) ] ) \n",
    "\n",
    "    df_cluster = pd.DataFrame({'observation': df_sample['sample'] , 'cluster': labels_clusters})\n",
    "\n",
    "    df_clusters_iter_list.append(df_cluster)\n",
    "\n",
    "###########################################################################################\n",
    "\n",
    "    # Computing the centroids of the initial clusters:\n",
    "\n",
    "    Centroids = [ ]\n",
    "\n",
    "    for j in range(0, k):\n",
    "\n",
    "      observations_index_cluster_j = df_cluster.loc[df_cluster.cluster == j, :].observation\n",
    "\n",
    "      Data_cluster_j = Data[observations_index_cluster_j , :]\n",
    "\n",
    "      Centroid_cluster_j =  Data_cluster_j.mean(axis=0)\n",
    "\n",
    "      Centroids.append( Centroid_cluster_j  ) \n",
    "\n",
    "###########################################################################################\n",
    "\n",
    "   # Computing the sum of intra-clusters variances for the initial cluster:\n",
    "\n",
    "    distances = [ ]\n",
    "\n",
    "    intra_cluster_variance_list , sum_intra_clusters_variances, sum_intra_clusters_variances_list = [ ], [ ], [ ]\n",
    "\n",
    "    for j in range(0,k):\n",
    "\n",
    "        observations_index_cluster_j = df_cluster.loc[df_cluster.cluster == j, :].observation \n",
    "\n",
    "        for i in observations_index_cluster_j :\n",
    "\n",
    "            distances.append(Distance(x_i=Data[i,:], x_r=Centroids[j], d=d, q=q, var=var, S_inv=S_inv))\n",
    "\n",
    "        # distances = Parallel(n_jobs=-1)(delayed(Distance)(x_i=Data[i,:], x_r=Centroids[j], d=d, q=q, var=var, S_inv=S_inv) for i in observations_index_cluster_j)          \n",
    "\n",
    "        square_distances = [x**2 for x in distances]\n",
    "        intra_cluster_variance = sum(square_distances)\n",
    "        intra_cluster_variance_list.append( intra_cluster_variance )\n",
    "\n",
    "    sum_intra_clusters_variances.append( sum(intra_cluster_variance_list) )\n",
    "    sum_intra_clusters_variances_list.append( sum_intra_clusters_variances )\n",
    "\n",
    "\n",
    "###########################################################################################\n",
    "\n",
    "    # Computing the new clusters configuration for each iteration:\n",
    "\n",
    "    for b in range(0 , n_iter):\n",
    "       \n",
    "       # Assign each observation to their nearest cluster: \n",
    "\n",
    "        labels_clusters = []\n",
    "\n",
    "        for i in df_sample['sample']:\n",
    "\n",
    "            distances = []\n",
    "    \n",
    "            for j in range(0,k):\n",
    "\n",
    "                distances.append( Distance(x_i=Data[i,:], x_r=Centroids[j], d=d, q=q, var=var, S_inv=S_inv) )  \n",
    "\n",
    "            df_distances_x_i_clusters = pd.DataFrame({'Distances' : distances , 'Cluster': range(0,k)})\n",
    "\n",
    "            df_distances_x_i_clusters_sort = df_distances_x_i_clusters.sort_values(by='Distances', ascending=True)\n",
    "\n",
    "            labels_clusters.append( df_distances_x_i_clusters_sort.iloc[0]['Cluster'] )\n",
    "        \n",
    "        df_cluster = pd.DataFrame({'observation' : df_sample['sample'] , 'cluster': labels_clusters})\n",
    "\n",
    "###########################################################################################\n",
    "\n",
    "       # Computing the centroids of the new clusters:\n",
    "\n",
    "        Centroids = []\n",
    "\n",
    "        for j in range(0, k):                    \n",
    "                \n",
    "            observations_index_cluster_j = df_cluster.loc[df_cluster.cluster == j, :].observation\n",
    "\n",
    "            Data_cluster_j = Data[observations_index_cluster_j , :]\n",
    "\n",
    "            Centroid_cluster_j =  Data_cluster_j.mean(axis=0)\n",
    "\n",
    "            Centroids.append( Centroid_cluster_j ) \n",
    "      \n",
    "###########################################################################################\n",
    "\n",
    "        # Computing the sum of intra-clusters variances for the new clusters:\n",
    "        \n",
    "        distances = []\n",
    "        intra_cluster_variance_list , sum_intra_clusters_variances = [ ], [ ]\n",
    "\n",
    "        for j in range(0,k):\n",
    "\n",
    "            observations_index_cluster_j = df_cluster.loc[df_cluster.cluster == j, :].observation \n",
    "\n",
    "            for i in observations_index_cluster_j :\n",
    "\n",
    "                distances.append( Distance(x_i=Data[i,:], x_r=Centroids[j], d=d, q=q, var=var, S_inv=S_inv) )\n",
    "\n",
    "            # distances = Parallel(n_jobs=-1)(delayed(Distance)(x_i=Data[i,:], x_r=Centroids[j], d=d, q=q, var=var, S_inv=S_inv) for i in observations_index_cluster_j)          \n",
    "\n",
    "            square_distances = [x**2 for x in distances]\n",
    "            intra_cluster_variance = sum(square_distances)\n",
    "            intra_cluster_variance_list.append( intra_cluster_variance )\n",
    "\n",
    "        sum_intra_clusters_variances.append( sum(intra_cluster_variance_list) )\n",
    "        sum_intra_clusters_variances_list.append( sum_intra_clusters_variances )\n",
    "\n",
    "######################################################################################\n",
    "\n",
    "        df_clusters_iter = pd.DataFrame({'observations': df_sample['sample']  , 'cluster': labels_clusters })\n",
    "\n",
    "        df_clusters_iter_list.append(df_clusters_iter)\n",
    "\n",
    "######################################################################################\n",
    "######################################################################################\n",
    "    \n",
    "    # unlist a list:\n",
    "\n",
    "    sum_intra_clusters_variances_list = list(chain.from_iterable(sum_intra_clusters_variances_list))\n",
    "\n",
    "######################################################################################\n",
    "    df_sum_intra_clusters_variances = pd.DataFrame({'sum_intra_cluster_var':sum_intra_clusters_variances_list  , 'iter': range(0, n_iter+1)})\n",
    "    \n",
    "    sort_df_sum_intra_clusters_variances = df_sum_intra_clusters_variances.sort_values(by='sum_intra_cluster_var', ascending=True)\n",
    "\n",
    "    optimal_iter = sort_df_sum_intra_clusters_variances.iloc[0,1]\n",
    "\n",
    "    df_optimal_clusters = df_clusters_iter_list[optimal_iter]\n",
    "######################################################################################\n",
    "\n",
    "    return df_optimal_clusters, df_clusters_iter_list, sort_df_sum_intra_clusters_variances,  df_sum_intra_clusters_variances\n"
   ]
  },
  {
   "cell_type": "markdown",
   "metadata": {},
   "source": []
  },
  {
   "attachments": {},
   "cell_type": "markdown",
   "metadata": {},
   "source": [
    "### Prueba con la distancia Euclidea"
   ]
  },
  {
   "cell_type": "code",
   "execution_count": 23,
   "metadata": {},
   "outputs": [],
   "source": [
    "df_optimal_clusters, df_clusters_iter_list, sort_df_sum_intra_clusters_variances, df_sum_intra_clusters_variances = k_means(k=4, Data=Data_quant, d='Euclidea', random_seed=123, n_iter=15)"
   ]
  },
  {
   "cell_type": "code",
   "execution_count": null,
   "metadata": {},
   "outputs": [],
   "source": [
    "# 1.18 mins (sin parallel Joblib, k=4, n_iter=50, dist euclidea)\n",
    "# 2.8 min (con parallel joblib k=4, n_iter=50, dist euclidea)"
   ]
  },
  {
   "cell_type": "code",
   "execution_count": 132,
   "metadata": {},
   "outputs": [
    {
     "data": {
      "text/html": [
       "<div>\n",
       "<style scoped>\n",
       "    .dataframe tbody tr th:only-of-type {\n",
       "        vertical-align: middle;\n",
       "    }\n",
       "\n",
       "    .dataframe tbody tr th {\n",
       "        vertical-align: top;\n",
       "    }\n",
       "\n",
       "    .dataframe thead th {\n",
       "        text-align: right;\n",
       "    }\n",
       "</style>\n",
       "<table border=\"1\" class=\"dataframe\">\n",
       "  <thead>\n",
       "    <tr style=\"text-align: right;\">\n",
       "      <th></th>\n",
       "      <th>observations</th>\n",
       "      <th>cluster</th>\n",
       "    </tr>\n",
       "  </thead>\n",
       "  <tbody>\n",
       "    <tr>\n",
       "      <th>0</th>\n",
       "      <td>382</td>\n",
       "      <td>0.0</td>\n",
       "    </tr>\n",
       "    <tr>\n",
       "      <th>1</th>\n",
       "      <td>732</td>\n",
       "      <td>2.0</td>\n",
       "    </tr>\n",
       "    <tr>\n",
       "      <th>2</th>\n",
       "      <td>1888</td>\n",
       "      <td>1.0</td>\n",
       "    </tr>\n",
       "    <tr>\n",
       "      <th>3</th>\n",
       "      <td>679</td>\n",
       "      <td>1.0</td>\n",
       "    </tr>\n",
       "    <tr>\n",
       "      <th>4</th>\n",
       "      <td>1004</td>\n",
       "      <td>2.0</td>\n",
       "    </tr>\n",
       "    <tr>\n",
       "      <th>...</th>\n",
       "      <td>...</td>\n",
       "      <td>...</td>\n",
       "    </tr>\n",
       "    <tr>\n",
       "      <th>1900</th>\n",
       "      <td>1122</td>\n",
       "      <td>1.0</td>\n",
       "    </tr>\n",
       "    <tr>\n",
       "      <th>1901</th>\n",
       "      <td>1346</td>\n",
       "      <td>1.0</td>\n",
       "    </tr>\n",
       "    <tr>\n",
       "      <th>1902</th>\n",
       "      <td>1406</td>\n",
       "      <td>1.0</td>\n",
       "    </tr>\n",
       "    <tr>\n",
       "      <th>1903</th>\n",
       "      <td>1389</td>\n",
       "      <td>2.0</td>\n",
       "    </tr>\n",
       "    <tr>\n",
       "      <th>1904</th>\n",
       "      <td>1534</td>\n",
       "      <td>3.0</td>\n",
       "    </tr>\n",
       "  </tbody>\n",
       "</table>\n",
       "<p>1905 rows × 2 columns</p>\n",
       "</div>"
      ],
      "text/plain": [
       "      observations  cluster\n",
       "0              382      0.0\n",
       "1              732      2.0\n",
       "2             1888      1.0\n",
       "3              679      1.0\n",
       "4             1004      2.0\n",
       "...            ...      ...\n",
       "1900          1122      1.0\n",
       "1901          1346      1.0\n",
       "1902          1406      1.0\n",
       "1903          1389      2.0\n",
       "1904          1534      3.0\n",
       "\n",
       "[1905 rows x 2 columns]"
      ]
     },
     "execution_count": 132,
     "metadata": {},
     "output_type": "execute_result"
    }
   ],
   "source": [
    "df_optimal_clusters"
   ]
  },
  {
   "cell_type": "code",
   "execution_count": 133,
   "metadata": {},
   "outputs": [
    {
     "data": {
      "text/plain": [
       "[      observations  cluster\n",
       " 0              382      0.0\n",
       " 1              732      1.0\n",
       " 2             1888      1.0\n",
       " 3              679      1.0\n",
       " 4             1004      0.0\n",
       " ...            ...      ...\n",
       " 1900          1122      1.0\n",
       " 1901          1346      1.0\n",
       " 1902          1406      1.0\n",
       " 1903          1389      1.0\n",
       " 1904          1534      0.0\n",
       " \n",
       " [1905 rows x 2 columns],\n",
       "       observations  cluster\n",
       " 0              382      0.0\n",
       " 1              732      2.0\n",
       " 2             1888      1.0\n",
       " 3              679      1.0\n",
       " 4             1004      3.0\n",
       " ...            ...      ...\n",
       " 1900          1122      1.0\n",
       " 1901          1346      1.0\n",
       " 1902          1406      1.0\n",
       " 1903          1389      2.0\n",
       " 1904          1534      0.0\n",
       " \n",
       " [1905 rows x 2 columns],\n",
       "       observations  cluster\n",
       " 0              382      0.0\n",
       " 1              732      2.0\n",
       " 2             1888      1.0\n",
       " 3              679      1.0\n",
       " 4             1004      3.0\n",
       " ...            ...      ...\n",
       " 1900          1122      1.0\n",
       " 1901          1346      1.0\n",
       " 1902          1406      1.0\n",
       " 1903          1389      2.0\n",
       " 1904          1534      0.0\n",
       " \n",
       " [1905 rows x 2 columns],\n",
       "       observations  cluster\n",
       " 0              382      0.0\n",
       " 1              732      2.0\n",
       " 2             1888      1.0\n",
       " 3              679      1.0\n",
       " 4             1004      3.0\n",
       " ...            ...      ...\n",
       " 1900          1122      1.0\n",
       " 1901          1346      1.0\n",
       " 1902          1406      1.0\n",
       " 1903          1389      2.0\n",
       " 1904          1534      0.0\n",
       " \n",
       " [1905 rows x 2 columns]]"
      ]
     },
     "execution_count": 133,
     "metadata": {},
     "output_type": "execute_result"
    }
   ],
   "source": [
    "df_clusters_iter_list[0:4]"
   ]
  },
  {
   "cell_type": "code",
   "execution_count": 134,
   "metadata": {},
   "outputs": [
    {
     "data": {
      "text/html": [
       "<div>\n",
       "<style scoped>\n",
       "    .dataframe tbody tr th:only-of-type {\n",
       "        vertical-align: middle;\n",
       "    }\n",
       "\n",
       "    .dataframe tbody tr th {\n",
       "        vertical-align: top;\n",
       "    }\n",
       "\n",
       "    .dataframe thead th {\n",
       "        text-align: right;\n",
       "    }\n",
       "</style>\n",
       "<table border=\"1\" class=\"dataframe\">\n",
       "  <thead>\n",
       "    <tr style=\"text-align: right;\">\n",
       "      <th></th>\n",
       "      <th>sum_intra_cluster_var</th>\n",
       "      <th>iter</th>\n",
       "    </tr>\n",
       "  </thead>\n",
       "  <tbody>\n",
       "    <tr>\n",
       "      <th>0</th>\n",
       "      <td>4.069688e+16</td>\n",
       "      <td>0</td>\n",
       "    </tr>\n",
       "    <tr>\n",
       "      <th>1</th>\n",
       "      <td>4.570241e+16</td>\n",
       "      <td>1</td>\n",
       "    </tr>\n",
       "    <tr>\n",
       "      <th>2</th>\n",
       "      <td>3.344560e+16</td>\n",
       "      <td>2</td>\n",
       "    </tr>\n",
       "    <tr>\n",
       "      <th>3</th>\n",
       "      <td>1.963613e+16</td>\n",
       "      <td>3</td>\n",
       "    </tr>\n",
       "    <tr>\n",
       "      <th>4</th>\n",
       "      <td>1.131529e+16</td>\n",
       "      <td>4</td>\n",
       "    </tr>\n",
       "  </tbody>\n",
       "</table>\n",
       "</div>"
      ],
      "text/plain": [
       "   sum_intra_cluster_var  iter\n",
       "0           4.069688e+16     0\n",
       "1           4.570241e+16     1\n",
       "2           3.344560e+16     2\n",
       "3           1.963613e+16     3\n",
       "4           1.131529e+16     4"
      ]
     },
     "execution_count": 134,
     "metadata": {},
     "output_type": "execute_result"
    }
   ],
   "source": [
    "df_sum_intra_clusters_variances.head(5)"
   ]
  },
  {
   "cell_type": "code",
   "execution_count": 135,
   "metadata": {},
   "outputs": [
    {
     "data": {
      "text/html": [
       "<div>\n",
       "<style scoped>\n",
       "    .dataframe tbody tr th:only-of-type {\n",
       "        vertical-align: middle;\n",
       "    }\n",
       "\n",
       "    .dataframe tbody tr th {\n",
       "        vertical-align: top;\n",
       "    }\n",
       "\n",
       "    .dataframe thead th {\n",
       "        text-align: right;\n",
       "    }\n",
       "</style>\n",
       "<table border=\"1\" class=\"dataframe\">\n",
       "  <thead>\n",
       "    <tr style=\"text-align: right;\">\n",
       "      <th></th>\n",
       "      <th>sum_intra_cluster_var</th>\n",
       "      <th>iter</th>\n",
       "    </tr>\n",
       "  </thead>\n",
       "  <tbody>\n",
       "    <tr>\n",
       "      <th>9</th>\n",
       "      <td>6.807861e+15</td>\n",
       "      <td>9</td>\n",
       "    </tr>\n",
       "    <tr>\n",
       "      <th>10</th>\n",
       "      <td>6.829961e+15</td>\n",
       "      <td>10</td>\n",
       "    </tr>\n",
       "    <tr>\n",
       "      <th>11</th>\n",
       "      <td>6.849922e+15</td>\n",
       "      <td>11</td>\n",
       "    </tr>\n",
       "    <tr>\n",
       "      <th>12</th>\n",
       "      <td>6.866743e+15</td>\n",
       "      <td>12</td>\n",
       "    </tr>\n",
       "    <tr>\n",
       "      <th>13</th>\n",
       "      <td>6.892440e+15</td>\n",
       "      <td>13</td>\n",
       "    </tr>\n",
       "  </tbody>\n",
       "</table>\n",
       "</div>"
      ],
      "text/plain": [
       "    sum_intra_cluster_var  iter\n",
       "9            6.807861e+15     9\n",
       "10           6.829961e+15    10\n",
       "11           6.849922e+15    11\n",
       "12           6.866743e+15    12\n",
       "13           6.892440e+15    13"
      ]
     },
     "execution_count": 135,
     "metadata": {},
     "output_type": "execute_result"
    }
   ],
   "source": [
    "sort_df_sum_intra_clusters_variances.head(5)"
   ]
  },
  {
   "cell_type": "code",
   "execution_count": 136,
   "metadata": {},
   "outputs": [
    {
     "data": {
      "image/png": "[encoded data removed]",
      "text/plain": [
       "<Figure size 432x288 with 1 Axes>"
      ]
     },
     "metadata": {
      "needs_background": "light"
     },
     "output_type": "display_data"
    }
   ],
   "source": [
    "plot = sns.lineplot(data=df_sum_intra_clusters_variances, y='sum_intra_cluster_var', x='iter')"
   ]
  },
  {
   "cell_type": "code",
   "execution_count": 220,
   "metadata": {},
   "outputs": [
    {
     "data": {
      "text/plain": [
       "0.5548752565475771"
      ]
     },
     "execution_count": 220,
     "metadata": {},
     "output_type": "execute_result"
    }
   ],
   "source": [
    "from sklearn.metrics import silhouette_score\n",
    "\n",
    "silhouette_score(Data_quant, df_optimal_clusters.sort_values(by='observations').cluster, metric='euclidean')"
   ]
  },
  {
   "cell_type": "code",
   "execution_count": 221,
   "metadata": {},
   "outputs": [
    {
     "data": {
      "text/plain": [
       "0.5555770916912831"
      ]
     },
     "execution_count": 221,
     "metadata": {},
     "output_type": "execute_result"
    }
   ],
   "source": [
    "D_euclidean = Matrix_Dist_Euclidea(Data=Data_quant)\n",
    "\n",
    "D_euclidean = D_euclidean + D_euclidean.T\n",
    "\n",
    "df_silhouette , mean_silhouette = silhouette(Distance_Matrix=D_euclidean, k=4, df_clusters=df_optimal_clusters)\n",
    "\n",
    "mean_silhouette"
   ]
  },
  {
   "cell_type": "markdown",
   "metadata": {},
   "source": []
  },
  {
   "attachments": {},
   "cell_type": "markdown",
   "metadata": {},
   "source": [
    "### Prueba distancia Minkowski"
   ]
  },
  {
   "cell_type": "code",
   "execution_count": 215,
   "metadata": {},
   "outputs": [],
   "source": [
    "df_optimal_clusters, df_clusters_iter_list, sort_df_sum_intra_clusters_variances, df_sum_intra_clusters_variances = k_means(k=4, Data=Data_quant, d='Minkowski', q=1, random_seed=123, n_iter=15)"
   ]
  },
  {
   "cell_type": "code",
   "execution_count": 138,
   "metadata": {},
   "outputs": [
    {
     "data": {
      "text/html": [
       "<div>\n",
       "<style scoped>\n",
       "    .dataframe tbody tr th:only-of-type {\n",
       "        vertical-align: middle;\n",
       "    }\n",
       "\n",
       "    .dataframe tbody tr th {\n",
       "        vertical-align: top;\n",
       "    }\n",
       "\n",
       "    .dataframe thead th {\n",
       "        text-align: right;\n",
       "    }\n",
       "</style>\n",
       "<table border=\"1\" class=\"dataframe\">\n",
       "  <thead>\n",
       "    <tr style=\"text-align: right;\">\n",
       "      <th></th>\n",
       "      <th>observations</th>\n",
       "      <th>cluster</th>\n",
       "    </tr>\n",
       "  </thead>\n",
       "  <tbody>\n",
       "    <tr>\n",
       "      <th>0</th>\n",
       "      <td>382</td>\n",
       "      <td>0.0</td>\n",
       "    </tr>\n",
       "    <tr>\n",
       "      <th>1</th>\n",
       "      <td>732</td>\n",
       "      <td>2.0</td>\n",
       "    </tr>\n",
       "    <tr>\n",
       "      <th>2</th>\n",
       "      <td>1888</td>\n",
       "      <td>1.0</td>\n",
       "    </tr>\n",
       "    <tr>\n",
       "      <th>3</th>\n",
       "      <td>679</td>\n",
       "      <td>1.0</td>\n",
       "    </tr>\n",
       "    <tr>\n",
       "      <th>4</th>\n",
       "      <td>1004</td>\n",
       "      <td>2.0</td>\n",
       "    </tr>\n",
       "    <tr>\n",
       "      <th>...</th>\n",
       "      <td>...</td>\n",
       "      <td>...</td>\n",
       "    </tr>\n",
       "    <tr>\n",
       "      <th>1900</th>\n",
       "      <td>1122</td>\n",
       "      <td>1.0</td>\n",
       "    </tr>\n",
       "    <tr>\n",
       "      <th>1901</th>\n",
       "      <td>1346</td>\n",
       "      <td>1.0</td>\n",
       "    </tr>\n",
       "    <tr>\n",
       "      <th>1902</th>\n",
       "      <td>1406</td>\n",
       "      <td>1.0</td>\n",
       "    </tr>\n",
       "    <tr>\n",
       "      <th>1903</th>\n",
       "      <td>1389</td>\n",
       "      <td>2.0</td>\n",
       "    </tr>\n",
       "    <tr>\n",
       "      <th>1904</th>\n",
       "      <td>1534</td>\n",
       "      <td>3.0</td>\n",
       "    </tr>\n",
       "  </tbody>\n",
       "</table>\n",
       "<p>1905 rows × 2 columns</p>\n",
       "</div>"
      ],
      "text/plain": [
       "      observations  cluster\n",
       "0              382      0.0\n",
       "1              732      2.0\n",
       "2             1888      1.0\n",
       "3              679      1.0\n",
       "4             1004      2.0\n",
       "...            ...      ...\n",
       "1900          1122      1.0\n",
       "1901          1346      1.0\n",
       "1902          1406      1.0\n",
       "1903          1389      2.0\n",
       "1904          1534      3.0\n",
       "\n",
       "[1905 rows x 2 columns]"
      ]
     },
     "execution_count": 138,
     "metadata": {},
     "output_type": "execute_result"
    }
   ],
   "source": [
    "df_optimal_clusters"
   ]
  },
  {
   "cell_type": "code",
   "execution_count": 139,
   "metadata": {},
   "outputs": [
    {
     "data": {
      "text/plain": [
       "[      observations  cluster\n",
       " 0              382      0.0\n",
       " 1              732      1.0\n",
       " 2             1888      1.0\n",
       " 3              679      1.0\n",
       " 4             1004      0.0\n",
       " ...            ...      ...\n",
       " 1900          1122      1.0\n",
       " 1901          1346      1.0\n",
       " 1902          1406      1.0\n",
       " 1903          1389      1.0\n",
       " 1904          1534      0.0\n",
       " \n",
       " [1905 rows x 2 columns],\n",
       "       observations  cluster\n",
       " 0              382      0.0\n",
       " 1              732      2.0\n",
       " 2             1888      1.0\n",
       " 3              679      1.0\n",
       " 4             1004      3.0\n",
       " ...            ...      ...\n",
       " 1900          1122      1.0\n",
       " 1901          1346      1.0\n",
       " 1902          1406      1.0\n",
       " 1903          1389      2.0\n",
       " 1904          1534      0.0\n",
       " \n",
       " [1905 rows x 2 columns],\n",
       "       observations  cluster\n",
       " 0              382      0.0\n",
       " 1              732      2.0\n",
       " 2             1888      1.0\n",
       " 3              679      1.0\n",
       " 4             1004      3.0\n",
       " ...            ...      ...\n",
       " 1900          1122      1.0\n",
       " 1901          1346      1.0\n",
       " 1902          1406      1.0\n",
       " 1903          1389      2.0\n",
       " 1904          1534      0.0\n",
       " \n",
       " [1905 rows x 2 columns],\n",
       "       observations  cluster\n",
       " 0              382      0.0\n",
       " 1              732      2.0\n",
       " 2             1888      1.0\n",
       " 3              679      1.0\n",
       " 4             1004      3.0\n",
       " ...            ...      ...\n",
       " 1900          1122      1.0\n",
       " 1901          1346      1.0\n",
       " 1902          1406      1.0\n",
       " 1903          1389      2.0\n",
       " 1904          1534      0.0\n",
       " \n",
       " [1905 rows x 2 columns]]"
      ]
     },
     "execution_count": 139,
     "metadata": {},
     "output_type": "execute_result"
    }
   ],
   "source": [
    "df_clusters_iter_list[0:4]"
   ]
  },
  {
   "cell_type": "code",
   "execution_count": 140,
   "metadata": {},
   "outputs": [
    {
     "data": {
      "text/html": [
       "<div>\n",
       "<style scoped>\n",
       "    .dataframe tbody tr th:only-of-type {\n",
       "        vertical-align: middle;\n",
       "    }\n",
       "\n",
       "    .dataframe tbody tr th {\n",
       "        vertical-align: top;\n",
       "    }\n",
       "\n",
       "    .dataframe thead th {\n",
       "        text-align: right;\n",
       "    }\n",
       "</style>\n",
       "<table border=\"1\" class=\"dataframe\">\n",
       "  <thead>\n",
       "    <tr style=\"text-align: right;\">\n",
       "      <th></th>\n",
       "      <th>sum_intra_cluster_var</th>\n",
       "      <th>iter</th>\n",
       "    </tr>\n",
       "  </thead>\n",
       "  <tbody>\n",
       "    <tr>\n",
       "      <th>0</th>\n",
       "      <td>4.069883e+16</td>\n",
       "      <td>0</td>\n",
       "    </tr>\n",
       "    <tr>\n",
       "      <th>1</th>\n",
       "      <td>4.570436e+16</td>\n",
       "      <td>1</td>\n",
       "    </tr>\n",
       "    <tr>\n",
       "      <th>2</th>\n",
       "      <td>3.344699e+16</td>\n",
       "      <td>2</td>\n",
       "    </tr>\n",
       "    <tr>\n",
       "      <th>3</th>\n",
       "      <td>1.963695e+16</td>\n",
       "      <td>3</td>\n",
       "    </tr>\n",
       "    <tr>\n",
       "      <th>4</th>\n",
       "      <td>1.131581e+16</td>\n",
       "      <td>4</td>\n",
       "    </tr>\n",
       "  </tbody>\n",
       "</table>\n",
       "</div>"
      ],
      "text/plain": [
       "   sum_intra_cluster_var  iter\n",
       "0           4.069883e+16     0\n",
       "1           4.570436e+16     1\n",
       "2           3.344699e+16     2\n",
       "3           1.963695e+16     3\n",
       "4           1.131581e+16     4"
      ]
     },
     "execution_count": 140,
     "metadata": {},
     "output_type": "execute_result"
    }
   ],
   "source": [
    "df_sum_intra_clusters_variances.head(5)"
   ]
  },
  {
   "cell_type": "code",
   "execution_count": 141,
   "metadata": {},
   "outputs": [
    {
     "data": {
      "text/html": [
       "<div>\n",
       "<style scoped>\n",
       "    .dataframe tbody tr th:only-of-type {\n",
       "        vertical-align: middle;\n",
       "    }\n",
       "\n",
       "    .dataframe tbody tr th {\n",
       "        vertical-align: top;\n",
       "    }\n",
       "\n",
       "    .dataframe thead th {\n",
       "        text-align: right;\n",
       "    }\n",
       "</style>\n",
       "<table border=\"1\" class=\"dataframe\">\n",
       "  <thead>\n",
       "    <tr style=\"text-align: right;\">\n",
       "      <th></th>\n",
       "      <th>sum_intra_cluster_var</th>\n",
       "      <th>iter</th>\n",
       "    </tr>\n",
       "  </thead>\n",
       "  <tbody>\n",
       "    <tr>\n",
       "      <th>9</th>\n",
       "      <td>6.808237e+15</td>\n",
       "      <td>9</td>\n",
       "    </tr>\n",
       "    <tr>\n",
       "      <th>10</th>\n",
       "      <td>6.830343e+15</td>\n",
       "      <td>10</td>\n",
       "    </tr>\n",
       "    <tr>\n",
       "      <th>11</th>\n",
       "      <td>6.850305e+15</td>\n",
       "      <td>11</td>\n",
       "    </tr>\n",
       "    <tr>\n",
       "      <th>12</th>\n",
       "      <td>6.867131e+15</td>\n",
       "      <td>12</td>\n",
       "    </tr>\n",
       "    <tr>\n",
       "      <th>13</th>\n",
       "      <td>6.892832e+15</td>\n",
       "      <td>13</td>\n",
       "    </tr>\n",
       "  </tbody>\n",
       "</table>\n",
       "</div>"
      ],
      "text/plain": [
       "    sum_intra_cluster_var  iter\n",
       "9            6.808237e+15     9\n",
       "10           6.830343e+15    10\n",
       "11           6.850305e+15    11\n",
       "12           6.867131e+15    12\n",
       "13           6.892832e+15    13"
      ]
     },
     "execution_count": 141,
     "metadata": {},
     "output_type": "execute_result"
    }
   ],
   "source": [
    "sort_df_sum_intra_clusters_variances.head(5)"
   ]
  },
  {
   "cell_type": "code",
   "execution_count": 142,
   "metadata": {},
   "outputs": [
    {
     "data": {
      "image/png": "[encoded data removed]",
      "text/plain": [
       "<Figure size 432x288 with 1 Axes>"
      ]
     },
     "metadata": {
      "needs_background": "light"
     },
     "output_type": "display_data"
    }
   ],
   "source": [
    "plot = sns.lineplot(data=df_sum_intra_clusters_variances, y='sum_intra_cluster_var', x='iter')"
   ]
  },
  {
   "cell_type": "code",
   "execution_count": 218,
   "metadata": {},
   "outputs": [
    {
     "data": {
      "text/plain": [
       "0.5555613831477572"
      ]
     },
     "execution_count": 218,
     "metadata": {},
     "output_type": "execute_result"
    }
   ],
   "source": [
    "D_Minkowski = Matrix_Dist_Minkowski(Data=Data_quant, q=1)\n",
    "\n",
    "D_Minkowski = D_Minkowski + D_Minkowski.T\n",
    "\n",
    "df_silhouette , mean_silhouette = silhouette(Distance_Matrix=D_Minkowski, k=4, df_clusters=df_optimal_clusters)\n",
    "\n",
    "mean_silhouette"
   ]
  },
  {
   "cell_type": "code",
   "execution_count": 219,
   "metadata": {},
   "outputs": [
    {
     "data": {
      "text/plain": [
       "0.5548595278661961"
      ]
     },
     "execution_count": 219,
     "metadata": {},
     "output_type": "execute_result"
    }
   ],
   "source": [
    "silhouette_score(Data_quant, df_optimal_clusters.sort_values(by='observations').cluster, metric='minkowski', p=1)"
   ]
  },
  {
   "cell_type": "markdown",
   "metadata": {},
   "source": []
  },
  {
   "attachments": {},
   "cell_type": "markdown",
   "metadata": {},
   "source": [
    "### Prueba con Distancia Canberra"
   ]
  },
  {
   "cell_type": "code",
   "execution_count": 210,
   "metadata": {},
   "outputs": [],
   "source": [
    "df_optimal_clusters, df_clusters_iter_list, sort_df_sum_intra_clusters_variances, df_sum_intra_clusters_variances = k_means(k=4, Data=Data_quant, d='Canberra', random_seed=123, n_iter=15)"
   ]
  },
  {
   "cell_type": "code",
   "execution_count": 144,
   "metadata": {},
   "outputs": [
    {
     "data": {
      "text/html": [
       "<div>\n",
       "<style scoped>\n",
       "    .dataframe tbody tr th:only-of-type {\n",
       "        vertical-align: middle;\n",
       "    }\n",
       "\n",
       "    .dataframe tbody tr th {\n",
       "        vertical-align: top;\n",
       "    }\n",
       "\n",
       "    .dataframe thead th {\n",
       "        text-align: right;\n",
       "    }\n",
       "</style>\n",
       "<table border=\"1\" class=\"dataframe\">\n",
       "  <thead>\n",
       "    <tr style=\"text-align: right;\">\n",
       "      <th></th>\n",
       "      <th>observations</th>\n",
       "      <th>cluster</th>\n",
       "    </tr>\n",
       "  </thead>\n",
       "  <tbody>\n",
       "    <tr>\n",
       "      <th>0</th>\n",
       "      <td>382</td>\n",
       "      <td>3.0</td>\n",
       "    </tr>\n",
       "    <tr>\n",
       "      <th>1</th>\n",
       "      <td>732</td>\n",
       "      <td>0.0</td>\n",
       "    </tr>\n",
       "    <tr>\n",
       "      <th>2</th>\n",
       "      <td>1888</td>\n",
       "      <td>0.0</td>\n",
       "    </tr>\n",
       "    <tr>\n",
       "      <th>3</th>\n",
       "      <td>679</td>\n",
       "      <td>0.0</td>\n",
       "    </tr>\n",
       "    <tr>\n",
       "      <th>4</th>\n",
       "      <td>1004</td>\n",
       "      <td>0.0</td>\n",
       "    </tr>\n",
       "    <tr>\n",
       "      <th>...</th>\n",
       "      <td>...</td>\n",
       "      <td>...</td>\n",
       "    </tr>\n",
       "    <tr>\n",
       "      <th>1900</th>\n",
       "      <td>1122</td>\n",
       "      <td>0.0</td>\n",
       "    </tr>\n",
       "    <tr>\n",
       "      <th>1901</th>\n",
       "      <td>1346</td>\n",
       "      <td>0.0</td>\n",
       "    </tr>\n",
       "    <tr>\n",
       "      <th>1902</th>\n",
       "      <td>1406</td>\n",
       "      <td>1.0</td>\n",
       "    </tr>\n",
       "    <tr>\n",
       "      <th>1903</th>\n",
       "      <td>1389</td>\n",
       "      <td>2.0</td>\n",
       "    </tr>\n",
       "    <tr>\n",
       "      <th>1904</th>\n",
       "      <td>1534</td>\n",
       "      <td>3.0</td>\n",
       "    </tr>\n",
       "  </tbody>\n",
       "</table>\n",
       "<p>1905 rows × 2 columns</p>\n",
       "</div>"
      ],
      "text/plain": [
       "      observations  cluster\n",
       "0              382      3.0\n",
       "1              732      0.0\n",
       "2             1888      0.0\n",
       "3              679      0.0\n",
       "4             1004      0.0\n",
       "...            ...      ...\n",
       "1900          1122      0.0\n",
       "1901          1346      0.0\n",
       "1902          1406      1.0\n",
       "1903          1389      2.0\n",
       "1904          1534      3.0\n",
       "\n",
       "[1905 rows x 2 columns]"
      ]
     },
     "execution_count": 144,
     "metadata": {},
     "output_type": "execute_result"
    }
   ],
   "source": [
    "df_optimal_clusters"
   ]
  },
  {
   "cell_type": "code",
   "execution_count": 145,
   "metadata": {},
   "outputs": [
    {
     "data": {
      "text/plain": [
       "[      observations  cluster\n",
       " 0              382      3.0\n",
       " 1              732      3.0\n",
       " 2             1888      3.0\n",
       " 3              679      1.0\n",
       " 4             1004      3.0\n",
       " ...            ...      ...\n",
       " 1900          1122      1.0\n",
       " 1901          1346      3.0\n",
       " 1902          1406      1.0\n",
       " 1903          1389      1.0\n",
       " 1904          1534      3.0\n",
       " \n",
       " [1905 rows x 2 columns],\n",
       "       observations  cluster\n",
       " 0              382      3.0\n",
       " 1              732      0.0\n",
       " 2             1888      0.0\n",
       " 3              679      0.0\n",
       " 4             1004      3.0\n",
       " ...            ...      ...\n",
       " 1900          1122      0.0\n",
       " 1901          1346      0.0\n",
       " 1902          1406      1.0\n",
       " 1903          1389      2.0\n",
       " 1904          1534      3.0\n",
       " \n",
       " [1905 rows x 2 columns],\n",
       "       observations  cluster\n",
       " 0              382      3.0\n",
       " 1              732      0.0\n",
       " 2             1888      0.0\n",
       " 3              679      0.0\n",
       " 4             1004      3.0\n",
       " ...            ...      ...\n",
       " 1900          1122      0.0\n",
       " 1901          1346      0.0\n",
       " 1902          1406      1.0\n",
       " 1903          1389      2.0\n",
       " 1904          1534      3.0\n",
       " \n",
       " [1905 rows x 2 columns]]"
      ]
     },
     "execution_count": 145,
     "metadata": {},
     "output_type": "execute_result"
    }
   ],
   "source": [
    "df_clusters_iter_list[0:3]"
   ]
  },
  {
   "cell_type": "code",
   "execution_count": 146,
   "metadata": {},
   "outputs": [
    {
     "data": {
      "text/html": [
       "<div>\n",
       "<style scoped>\n",
       "    .dataframe tbody tr th:only-of-type {\n",
       "        vertical-align: middle;\n",
       "    }\n",
       "\n",
       "    .dataframe tbody tr th {\n",
       "        vertical-align: top;\n",
       "    }\n",
       "\n",
       "    .dataframe thead th {\n",
       "        text-align: right;\n",
       "    }\n",
       "</style>\n",
       "<table border=\"1\" class=\"dataframe\">\n",
       "  <thead>\n",
       "    <tr style=\"text-align: right;\">\n",
       "      <th></th>\n",
       "      <th>sum_intra_cluster_var</th>\n",
       "      <th>iter</th>\n",
       "    </tr>\n",
       "  </thead>\n",
       "  <tbody>\n",
       "    <tr>\n",
       "      <th>14</th>\n",
       "      <td>1881.406882</td>\n",
       "      <td>14</td>\n",
       "    </tr>\n",
       "    <tr>\n",
       "      <th>13</th>\n",
       "      <td>1881.819675</td>\n",
       "      <td>13</td>\n",
       "    </tr>\n",
       "    <tr>\n",
       "      <th>15</th>\n",
       "      <td>1883.173772</td>\n",
       "      <td>15</td>\n",
       "    </tr>\n",
       "    <tr>\n",
       "      <th>12</th>\n",
       "      <td>1889.332327</td>\n",
       "      <td>12</td>\n",
       "    </tr>\n",
       "  </tbody>\n",
       "</table>\n",
       "</div>"
      ],
      "text/plain": [
       "    sum_intra_cluster_var  iter\n",
       "14            1881.406882    14\n",
       "13            1881.819675    13\n",
       "15            1883.173772    15\n",
       "12            1889.332327    12"
      ]
     },
     "execution_count": 146,
     "metadata": {},
     "output_type": "execute_result"
    }
   ],
   "source": [
    "sort_df_sum_intra_clusters_variances.head(4)"
   ]
  },
  {
   "cell_type": "code",
   "execution_count": 147,
   "metadata": {},
   "outputs": [
    {
     "data": {
      "text/html": [
       "<div>\n",
       "<style scoped>\n",
       "    .dataframe tbody tr th:only-of-type {\n",
       "        vertical-align: middle;\n",
       "    }\n",
       "\n",
       "    .dataframe tbody tr th {\n",
       "        vertical-align: top;\n",
       "    }\n",
       "\n",
       "    .dataframe thead th {\n",
       "        text-align: right;\n",
       "    }\n",
       "</style>\n",
       "<table border=\"1\" class=\"dataframe\">\n",
       "  <thead>\n",
       "    <tr style=\"text-align: right;\">\n",
       "      <th></th>\n",
       "      <th>sum_intra_cluster_var</th>\n",
       "      <th>iter</th>\n",
       "    </tr>\n",
       "  </thead>\n",
       "  <tbody>\n",
       "    <tr>\n",
       "      <th>0</th>\n",
       "      <td>5728.240992</td>\n",
       "      <td>0</td>\n",
       "    </tr>\n",
       "    <tr>\n",
       "      <th>1</th>\n",
       "      <td>2856.550858</td>\n",
       "      <td>1</td>\n",
       "    </tr>\n",
       "    <tr>\n",
       "      <th>2</th>\n",
       "      <td>2170.371629</td>\n",
       "      <td>2</td>\n",
       "    </tr>\n",
       "    <tr>\n",
       "      <th>3</th>\n",
       "      <td>2188.944452</td>\n",
       "      <td>3</td>\n",
       "    </tr>\n",
       "  </tbody>\n",
       "</table>\n",
       "</div>"
      ],
      "text/plain": [
       "   sum_intra_cluster_var  iter\n",
       "0            5728.240992     0\n",
       "1            2856.550858     1\n",
       "2            2170.371629     2\n",
       "3            2188.944452     3"
      ]
     },
     "execution_count": 147,
     "metadata": {},
     "output_type": "execute_result"
    }
   ],
   "source": [
    "df_sum_intra_clusters_variances.head(4)"
   ]
  },
  {
   "cell_type": "code",
   "execution_count": 148,
   "metadata": {},
   "outputs": [
    {
     "data": {
      "image/png": "[encoded data removed]",
      "text/plain": [
       "<Figure size 432x288 with 1 Axes>"
      ]
     },
     "metadata": {
      "needs_background": "light"
     },
     "output_type": "display_data"
    }
   ],
   "source": [
    "plot = sns.lineplot(data=df_sum_intra_clusters_variances, y='sum_intra_cluster_var', x='iter')"
   ]
  },
  {
   "cell_type": "code",
   "execution_count": 211,
   "metadata": {},
   "outputs": [
    {
     "data": {
      "text/plain": [
       "0.3958985634914261"
      ]
     },
     "execution_count": 211,
     "metadata": {},
     "output_type": "execute_result"
    }
   ],
   "source": [
    "silhouette_score(Data_quant, df_optimal_clusters.sort_values(by='observations').cluster, metric='canberra')"
   ]
  },
  {
   "cell_type": "code",
   "execution_count": 212,
   "metadata": {},
   "outputs": [
    {
     "data": {
      "text/plain": [
       "0.39752207743697565"
      ]
     },
     "execution_count": 212,
     "metadata": {},
     "output_type": "execute_result"
    }
   ],
   "source": [
    "D_canberra = Matrix_Dist_Canberra(Data=Data_quant)\n",
    "\n",
    "D_canberra = D_canberra + D_canberra.T\n",
    "\n",
    "df_silhouette , mean_silhouette = silhouette(Distance_Matrix=D_canberra, k=4, df_clusters=df_optimal_clusters)\n",
    "\n",
    "mean_silhouette"
   ]
  },
  {
   "cell_type": "markdown",
   "metadata": {},
   "source": []
  },
  {
   "attachments": {},
   "cell_type": "markdown",
   "metadata": {},
   "source": [
    "### Prueba con Distancia Pearson"
   ]
  },
  {
   "cell_type": "code",
   "execution_count": 34,
   "metadata": {},
   "outputs": [],
   "source": [
    "df_optimal_clusters, df_clusters_iter_list, sort_df_sum_intra_clusters_variances, df_sum_intra_clusters_variances = k_means(k=4, Data=Data_quant, d='Pearson', var=np.var(Data_quant), random_seed=123, n_iter=15)"
   ]
  },
  {
   "cell_type": "code",
   "execution_count": 151,
   "metadata": {},
   "outputs": [
    {
     "data": {
      "text/html": [
       "<div>\n",
       "<style scoped>\n",
       "    .dataframe tbody tr th:only-of-type {\n",
       "        vertical-align: middle;\n",
       "    }\n",
       "\n",
       "    .dataframe tbody tr th {\n",
       "        vertical-align: top;\n",
       "    }\n",
       "\n",
       "    .dataframe thead th {\n",
       "        text-align: right;\n",
       "    }\n",
       "</style>\n",
       "<table border=\"1\" class=\"dataframe\">\n",
       "  <thead>\n",
       "    <tr style=\"text-align: right;\">\n",
       "      <th></th>\n",
       "      <th>observations</th>\n",
       "      <th>cluster</th>\n",
       "    </tr>\n",
       "  </thead>\n",
       "  <tbody>\n",
       "    <tr>\n",
       "      <th>0</th>\n",
       "      <td>382</td>\n",
       "      <td>3.0</td>\n",
       "    </tr>\n",
       "    <tr>\n",
       "      <th>1</th>\n",
       "      <td>732</td>\n",
       "      <td>2.0</td>\n",
       "    </tr>\n",
       "    <tr>\n",
       "      <th>2</th>\n",
       "      <td>1888</td>\n",
       "      <td>2.0</td>\n",
       "    </tr>\n",
       "    <tr>\n",
       "      <th>3</th>\n",
       "      <td>679</td>\n",
       "      <td>2.0</td>\n",
       "    </tr>\n",
       "    <tr>\n",
       "      <th>4</th>\n",
       "      <td>1004</td>\n",
       "      <td>2.0</td>\n",
       "    </tr>\n",
       "    <tr>\n",
       "      <th>...</th>\n",
       "      <td>...</td>\n",
       "      <td>...</td>\n",
       "    </tr>\n",
       "    <tr>\n",
       "      <th>1900</th>\n",
       "      <td>1122</td>\n",
       "      <td>2.0</td>\n",
       "    </tr>\n",
       "    <tr>\n",
       "      <th>1901</th>\n",
       "      <td>1346</td>\n",
       "      <td>2.0</td>\n",
       "    </tr>\n",
       "    <tr>\n",
       "      <th>1902</th>\n",
       "      <td>1406</td>\n",
       "      <td>1.0</td>\n",
       "    </tr>\n",
       "    <tr>\n",
       "      <th>1903</th>\n",
       "      <td>1389</td>\n",
       "      <td>0.0</td>\n",
       "    </tr>\n",
       "    <tr>\n",
       "      <th>1904</th>\n",
       "      <td>1534</td>\n",
       "      <td>3.0</td>\n",
       "    </tr>\n",
       "  </tbody>\n",
       "</table>\n",
       "<p>1905 rows × 2 columns</p>\n",
       "</div>"
      ],
      "text/plain": [
       "      observations  cluster\n",
       "0              382      3.0\n",
       "1              732      2.0\n",
       "2             1888      2.0\n",
       "3              679      2.0\n",
       "4             1004      2.0\n",
       "...            ...      ...\n",
       "1900          1122      2.0\n",
       "1901          1346      2.0\n",
       "1902          1406      1.0\n",
       "1903          1389      0.0\n",
       "1904          1534      3.0\n",
       "\n",
       "[1905 rows x 2 columns]"
      ]
     },
     "execution_count": 151,
     "metadata": {},
     "output_type": "execute_result"
    }
   ],
   "source": [
    "df_optimal_clusters"
   ]
  },
  {
   "cell_type": "code",
   "execution_count": 153,
   "metadata": {},
   "outputs": [
    {
     "data": {
      "text/plain": [
       "[      observations  cluster\n",
       " 0              382      3.0\n",
       " 1              732      2.0\n",
       " 2             1888      3.0\n",
       " 3              679      2.0\n",
       " 4             1004      3.0\n",
       " ...            ...      ...\n",
       " 1900          1122      2.0\n",
       " 1901          1346      3.0\n",
       " 1902          1406      1.0\n",
       " 1903          1389      0.0\n",
       " 1904          1534      0.0\n",
       " \n",
       " [1905 rows x 2 columns],\n",
       "       observations  cluster\n",
       " 0              382      3.0\n",
       " 1              732      2.0\n",
       " 2             1888      3.0\n",
       " 3              679      2.0\n",
       " 4             1004      3.0\n",
       " ...            ...      ...\n",
       " 1900          1122      2.0\n",
       " 1901          1346      3.0\n",
       " 1902          1406      1.0\n",
       " 1903          1389      0.0\n",
       " 1904          1534      3.0\n",
       " \n",
       " [1905 rows x 2 columns],\n",
       "       observations  cluster\n",
       " 0              382      3.0\n",
       " 1              732      2.0\n",
       " 2             1888      2.0\n",
       " 3              679      2.0\n",
       " 4             1004      3.0\n",
       " ...            ...      ...\n",
       " 1900          1122      2.0\n",
       " 1901          1346      2.0\n",
       " 1902          1406      1.0\n",
       " 1903          1389      0.0\n",
       " 1904          1534      3.0\n",
       " \n",
       " [1905 rows x 2 columns]]"
      ]
     },
     "execution_count": 153,
     "metadata": {},
     "output_type": "execute_result"
    }
   ],
   "source": [
    "df_clusters_iter_list[0:3]"
   ]
  },
  {
   "cell_type": "code",
   "execution_count": 155,
   "metadata": {},
   "outputs": [
    {
     "data": {
      "text/html": [
       "<div>\n",
       "<style scoped>\n",
       "    .dataframe tbody tr th:only-of-type {\n",
       "        vertical-align: middle;\n",
       "    }\n",
       "\n",
       "    .dataframe tbody tr th {\n",
       "        vertical-align: top;\n",
       "    }\n",
       "\n",
       "    .dataframe thead th {\n",
       "        text-align: right;\n",
       "    }\n",
       "</style>\n",
       "<table border=\"1\" class=\"dataframe\">\n",
       "  <thead>\n",
       "    <tr style=\"text-align: right;\">\n",
       "      <th></th>\n",
       "      <th>sum_intra_cluster_var</th>\n",
       "      <th>iter</th>\n",
       "    </tr>\n",
       "  </thead>\n",
       "  <tbody>\n",
       "    <tr>\n",
       "      <th>4</th>\n",
       "      <td>10957.072584</td>\n",
       "      <td>4</td>\n",
       "    </tr>\n",
       "    <tr>\n",
       "      <th>5</th>\n",
       "      <td>10994.965556</td>\n",
       "      <td>5</td>\n",
       "    </tr>\n",
       "    <tr>\n",
       "      <th>3</th>\n",
       "      <td>11132.851402</td>\n",
       "      <td>3</td>\n",
       "    </tr>\n",
       "    <tr>\n",
       "      <th>6</th>\n",
       "      <td>11225.767564</td>\n",
       "      <td>6</td>\n",
       "    </tr>\n",
       "  </tbody>\n",
       "</table>\n",
       "</div>"
      ],
      "text/plain": [
       "   sum_intra_cluster_var  iter\n",
       "4           10957.072584     4\n",
       "5           10994.965556     5\n",
       "3           11132.851402     3\n",
       "6           11225.767564     6"
      ]
     },
     "execution_count": 155,
     "metadata": {},
     "output_type": "execute_result"
    }
   ],
   "source": [
    "sort_df_sum_intra_clusters_variances.head(4)"
   ]
  },
  {
   "cell_type": "code",
   "execution_count": 156,
   "metadata": {},
   "outputs": [
    {
     "data": {
      "text/html": [
       "<div>\n",
       "<style scoped>\n",
       "    .dataframe tbody tr th:only-of-type {\n",
       "        vertical-align: middle;\n",
       "    }\n",
       "\n",
       "    .dataframe tbody tr th {\n",
       "        vertical-align: top;\n",
       "    }\n",
       "\n",
       "    .dataframe thead th {\n",
       "        text-align: right;\n",
       "    }\n",
       "</style>\n",
       "<table border=\"1\" class=\"dataframe\">\n",
       "  <thead>\n",
       "    <tr style=\"text-align: right;\">\n",
       "      <th></th>\n",
       "      <th>sum_intra_cluster_var</th>\n",
       "      <th>iter</th>\n",
       "    </tr>\n",
       "  </thead>\n",
       "  <tbody>\n",
       "    <tr>\n",
       "      <th>0</th>\n",
       "      <td>28596.572339</td>\n",
       "      <td>0</td>\n",
       "    </tr>\n",
       "    <tr>\n",
       "      <th>1</th>\n",
       "      <td>14726.663383</td>\n",
       "      <td>1</td>\n",
       "    </tr>\n",
       "    <tr>\n",
       "      <th>2</th>\n",
       "      <td>11718.809584</td>\n",
       "      <td>2</td>\n",
       "    </tr>\n",
       "    <tr>\n",
       "      <th>3</th>\n",
       "      <td>11132.851402</td>\n",
       "      <td>3</td>\n",
       "    </tr>\n",
       "  </tbody>\n",
       "</table>\n",
       "</div>"
      ],
      "text/plain": [
       "   sum_intra_cluster_var  iter\n",
       "0           28596.572339     0\n",
       "1           14726.663383     1\n",
       "2           11718.809584     2\n",
       "3           11132.851402     3"
      ]
     },
     "execution_count": 156,
     "metadata": {},
     "output_type": "execute_result"
    }
   ],
   "source": [
    "df_sum_intra_clusters_variances.head(4)"
   ]
  },
  {
   "cell_type": "code",
   "execution_count": 157,
   "metadata": {},
   "outputs": [
    {
     "data": {
      "image/png": "[encoded data removed]",
      "text/plain": [
       "<Figure size 432x288 with 1 Axes>"
      ]
     },
     "metadata": {
      "needs_background": "light"
     },
     "output_type": "display_data"
    }
   ],
   "source": [
    "plot = sns.lineplot(data=df_sum_intra_clusters_variances, y='sum_intra_cluster_var', x='iter')"
   ]
  },
  {
   "cell_type": "code",
   "execution_count": 207,
   "metadata": {},
   "outputs": [],
   "source": [
    "# silhouette_score(Data_quant, df_optimal_clusters.sort_values(by='observations').cluster, metric='pearson') # No esta definida Pearson"
   ]
  },
  {
   "cell_type": "code",
   "execution_count": 208,
   "metadata": {},
   "outputs": [
    {
     "data": {
      "text/plain": [
       "0.24009689010286675"
      ]
     },
     "execution_count": 208,
     "metadata": {},
     "output_type": "execute_result"
    }
   ],
   "source": [
    "D_pearson = Matrix_Dist_Mahalanobis(Data=Data_quant)\n",
    "\n",
    "D_pearson = D_pearson + D_pearson.T\n",
    "\n",
    "df_silhouette , mean_silhouette = silhouette(Distance_Matrix=D_pearson, k=4, df_clusters=df_optimal_clusters)\n",
    "\n",
    "mean_silhouette"
   ]
  },
  {
   "cell_type": "markdown",
   "metadata": {},
   "source": []
  },
  {
   "attachments": {},
   "cell_type": "markdown",
   "metadata": {},
   "source": [
    "### Prueba Distancia Mahalanobis"
   ]
  },
  {
   "cell_type": "code",
   "execution_count": 198,
   "metadata": {},
   "outputs": [],
   "source": [
    "S_inv = np.linalg.inv( np.cov(Data_quant , rowvar=False) )"
   ]
  },
  {
   "cell_type": "code",
   "execution_count": 199,
   "metadata": {},
   "outputs": [],
   "source": [
    "df_optimal_clusters, df_clusters_iter_list, sort_df_sum_intra_clusters_variances, df_sum_intra_clusters_variances = k_means(k=4, Data=Data_quant, d='Mahalanobis', S_inv=S_inv, random_seed=123, n_iter=25)"
   ]
  },
  {
   "cell_type": "code",
   "execution_count": 200,
   "metadata": {},
   "outputs": [
    {
     "data": {
      "text/html": [
       "<div>\n",
       "<style scoped>\n",
       "    .dataframe tbody tr th:only-of-type {\n",
       "        vertical-align: middle;\n",
       "    }\n",
       "\n",
       "    .dataframe tbody tr th {\n",
       "        vertical-align: top;\n",
       "    }\n",
       "\n",
       "    .dataframe thead th {\n",
       "        text-align: right;\n",
       "    }\n",
       "</style>\n",
       "<table border=\"1\" class=\"dataframe\">\n",
       "  <thead>\n",
       "    <tr style=\"text-align: right;\">\n",
       "      <th></th>\n",
       "      <th>observations</th>\n",
       "      <th>cluster</th>\n",
       "    </tr>\n",
       "  </thead>\n",
       "  <tbody>\n",
       "    <tr>\n",
       "      <th>0</th>\n",
       "      <td>382</td>\n",
       "      <td>3.0</td>\n",
       "    </tr>\n",
       "    <tr>\n",
       "      <th>1</th>\n",
       "      <td>732</td>\n",
       "      <td>2.0</td>\n",
       "    </tr>\n",
       "    <tr>\n",
       "      <th>2</th>\n",
       "      <td>1888</td>\n",
       "      <td>1.0</td>\n",
       "    </tr>\n",
       "    <tr>\n",
       "      <th>3</th>\n",
       "      <td>679</td>\n",
       "      <td>2.0</td>\n",
       "    </tr>\n",
       "    <tr>\n",
       "      <th>4</th>\n",
       "      <td>1004</td>\n",
       "      <td>1.0</td>\n",
       "    </tr>\n",
       "    <tr>\n",
       "      <th>...</th>\n",
       "      <td>...</td>\n",
       "      <td>...</td>\n",
       "    </tr>\n",
       "    <tr>\n",
       "      <th>1900</th>\n",
       "      <td>1122</td>\n",
       "      <td>2.0</td>\n",
       "    </tr>\n",
       "    <tr>\n",
       "      <th>1901</th>\n",
       "      <td>1346</td>\n",
       "      <td>1.0</td>\n",
       "    </tr>\n",
       "    <tr>\n",
       "      <th>1902</th>\n",
       "      <td>1406</td>\n",
       "      <td>2.0</td>\n",
       "    </tr>\n",
       "    <tr>\n",
       "      <th>1903</th>\n",
       "      <td>1389</td>\n",
       "      <td>0.0</td>\n",
       "    </tr>\n",
       "    <tr>\n",
       "      <th>1904</th>\n",
       "      <td>1534</td>\n",
       "      <td>0.0</td>\n",
       "    </tr>\n",
       "  </tbody>\n",
       "</table>\n",
       "<p>1905 rows × 2 columns</p>\n",
       "</div>"
      ],
      "text/plain": [
       "      observations  cluster\n",
       "0              382      3.0\n",
       "1              732      2.0\n",
       "2             1888      1.0\n",
       "3              679      2.0\n",
       "4             1004      1.0\n",
       "...            ...      ...\n",
       "1900          1122      2.0\n",
       "1901          1346      1.0\n",
       "1902          1406      2.0\n",
       "1903          1389      0.0\n",
       "1904          1534      0.0\n",
       "\n",
       "[1905 rows x 2 columns]"
      ]
     },
     "execution_count": 200,
     "metadata": {},
     "output_type": "execute_result"
    }
   ],
   "source": [
    "df_optimal_clusters"
   ]
  },
  {
   "cell_type": "code",
   "execution_count": 184,
   "metadata": {},
   "outputs": [
    {
     "data": {
      "text/plain": [
       "[      observation  cluster\n",
       " 0             382        0\n",
       " 1             732        0\n",
       " 2            1888        0\n",
       " 3             679        0\n",
       " 4            1004        0\n",
       " ...           ...      ...\n",
       " 1900         1122        3\n",
       " 1901         1346        3\n",
       " 1902         1406        3\n",
       " 1903         1389        3\n",
       " 1904         1534        3\n",
       " \n",
       " [1905 rows x 2 columns],\n",
       "       observations  cluster\n",
       " 0              382      3.0\n",
       " 1              732      2.0\n",
       " 2             1888      3.0\n",
       " 3              679      0.0\n",
       " 4             1004      0.0\n",
       " ...            ...      ...\n",
       " 1900          1122      0.0\n",
       " 1901          1346      3.0\n",
       " 1902          1406      2.0\n",
       " 1903          1389      1.0\n",
       " 1904          1534      0.0\n",
       " \n",
       " [1905 rows x 2 columns],\n",
       "       observations  cluster\n",
       " 0              382      3.0\n",
       " 1              732      2.0\n",
       " 2             1888      3.0\n",
       " 3              679      0.0\n",
       " 4             1004      0.0\n",
       " ...            ...      ...\n",
       " 1900          1122      0.0\n",
       " 1901          1346      1.0\n",
       " 1902          1406      2.0\n",
       " 1903          1389      1.0\n",
       " 1904          1534      0.0\n",
       " \n",
       " [1905 rows x 2 columns]]"
      ]
     },
     "execution_count": 184,
     "metadata": {},
     "output_type": "execute_result"
    }
   ],
   "source": [
    "df_clusters_iter_list[0:3]"
   ]
  },
  {
   "cell_type": "code",
   "execution_count": 185,
   "metadata": {},
   "outputs": [
    {
     "data": {
      "text/html": [
       "<div>\n",
       "<style scoped>\n",
       "    .dataframe tbody tr th:only-of-type {\n",
       "        vertical-align: middle;\n",
       "    }\n",
       "\n",
       "    .dataframe tbody tr th {\n",
       "        vertical-align: top;\n",
       "    }\n",
       "\n",
       "    .dataframe thead th {\n",
       "        text-align: right;\n",
       "    }\n",
       "</style>\n",
       "<table border=\"1\" class=\"dataframe\">\n",
       "  <thead>\n",
       "    <tr style=\"text-align: right;\">\n",
       "      <th></th>\n",
       "      <th>sum_intra_cluster_var</th>\n",
       "      <th>iter</th>\n",
       "    </tr>\n",
       "  </thead>\n",
       "  <tbody>\n",
       "    <tr>\n",
       "      <th>15</th>\n",
       "      <td>18118.627584</td>\n",
       "      <td>15</td>\n",
       "    </tr>\n",
       "    <tr>\n",
       "      <th>14</th>\n",
       "      <td>18299.629315</td>\n",
       "      <td>14</td>\n",
       "    </tr>\n",
       "    <tr>\n",
       "      <th>16</th>\n",
       "      <td>18350.722615</td>\n",
       "      <td>16</td>\n",
       "    </tr>\n",
       "    <tr>\n",
       "      <th>17</th>\n",
       "      <td>18660.002058</td>\n",
       "      <td>17</td>\n",
       "    </tr>\n",
       "  </tbody>\n",
       "</table>\n",
       "</div>"
      ],
      "text/plain": [
       "    sum_intra_cluster_var  iter\n",
       "15           18118.627584    15\n",
       "14           18299.629315    14\n",
       "16           18350.722615    16\n",
       "17           18660.002058    17"
      ]
     },
     "execution_count": 185,
     "metadata": {},
     "output_type": "execute_result"
    }
   ],
   "source": [
    "sort_df_sum_intra_clusters_variances.head(4)"
   ]
  },
  {
   "cell_type": "code",
   "execution_count": 186,
   "metadata": {},
   "outputs": [
    {
     "data": {
      "text/html": [
       "<div>\n",
       "<style scoped>\n",
       "    .dataframe tbody tr th:only-of-type {\n",
       "        vertical-align: middle;\n",
       "    }\n",
       "\n",
       "    .dataframe tbody tr th {\n",
       "        vertical-align: top;\n",
       "    }\n",
       "\n",
       "    .dataframe thead th {\n",
       "        text-align: right;\n",
       "    }\n",
       "</style>\n",
       "<table border=\"1\" class=\"dataframe\">\n",
       "  <thead>\n",
       "    <tr style=\"text-align: right;\">\n",
       "      <th></th>\n",
       "      <th>sum_intra_cluster_var</th>\n",
       "      <th>iter</th>\n",
       "    </tr>\n",
       "  </thead>\n",
       "  <tbody>\n",
       "    <tr>\n",
       "      <th>0</th>\n",
       "      <td>28206.445903</td>\n",
       "      <td>0</td>\n",
       "    </tr>\n",
       "    <tr>\n",
       "      <th>1</th>\n",
       "      <td>22921.160154</td>\n",
       "      <td>1</td>\n",
       "    </tr>\n",
       "    <tr>\n",
       "      <th>2</th>\n",
       "      <td>22356.872434</td>\n",
       "      <td>2</td>\n",
       "    </tr>\n",
       "    <tr>\n",
       "      <th>3</th>\n",
       "      <td>21975.798271</td>\n",
       "      <td>3</td>\n",
       "    </tr>\n",
       "  </tbody>\n",
       "</table>\n",
       "</div>"
      ],
      "text/plain": [
       "   sum_intra_cluster_var  iter\n",
       "0           28206.445903     0\n",
       "1           22921.160154     1\n",
       "2           22356.872434     2\n",
       "3           21975.798271     3"
      ]
     },
     "execution_count": 186,
     "metadata": {},
     "output_type": "execute_result"
    }
   ],
   "source": [
    "df_sum_intra_clusters_variances.head(4)"
   ]
  },
  {
   "cell_type": "code",
   "execution_count": 187,
   "metadata": {},
   "outputs": [
    {
     "data": {
      "image/png": "[encoded data removed]",
      "text/plain": [
       "<Figure size 432x288 with 1 Axes>"
      ]
     },
     "metadata": {
      "needs_background": "light"
     },
     "output_type": "display_data"
    }
   ],
   "source": [
    "plot = sns.lineplot(data=df_sum_intra_clusters_variances, y='sum_intra_cluster_var', x='iter')"
   ]
  },
  {
   "cell_type": "markdown",
   "metadata": {},
   "source": []
  },
  {
   "cell_type": "code",
   "execution_count": 201,
   "metadata": {},
   "outputs": [
    {
     "data": {
      "text/plain": [
       "0.23882324114312004"
      ]
     },
     "execution_count": 201,
     "metadata": {},
     "output_type": "execute_result"
    }
   ],
   "source": [
    "silhouette_score(Data_quant, df_optimal_clusters.sort_values(by='observations').cluster, metric='mahalanobis')"
   ]
  },
  {
   "cell_type": "code",
   "execution_count": 202,
   "metadata": {},
   "outputs": [],
   "source": [
    "D_maha = Matrix_Dist_Mahalanobis(Data=Data_quant)\n",
    "\n",
    "D_maha = D_maha + D_maha.T\n",
    "\n",
    "df_silhouette , mean_silhouette = silhouette(Distance_Matrix=D_maha, k=4, df_clusters=df_optimal_clusters)\n",
    "\n",
    "mean_silhouette"
   ]
  },
  {
   "cell_type": "markdown",
   "metadata": {},
   "source": []
  },
  {
   "cell_type": "markdown",
   "metadata": {},
   "source": []
  },
  {
   "attachments": {},
   "cell_type": "markdown",
   "metadata": {},
   "source": [
    "## K-means with `sklearn` "
   ]
  },
  {
   "attachments": {},
   "cell_type": "markdown",
   "metadata": {},
   "source": [
    "### by defect it uses Euclidean distance, and there aren't another options"
   ]
  },
  {
   "cell_type": "code",
   "execution_count": 188,
   "metadata": {},
   "outputs": [],
   "source": [
    "from sklearn.cluster import KMeans"
   ]
  },
  {
   "cell_type": "code",
   "execution_count": 206,
   "metadata": {},
   "outputs": [],
   "source": [
    "kmeans_init = KMeans(n_clusters=4, init='random', n_init=15, max_iter=200, random_state=123)"
   ]
  },
  {
   "cell_type": "code",
   "execution_count": 207,
   "metadata": {},
   "outputs": [
    {
     "data": {
      "text/plain": [
       "KMeans(init='random', max_iter=200, n_clusters=4, n_init=15, random_state=123)"
      ]
     },
     "execution_count": 207,
     "metadata": {},
     "output_type": "execute_result"
    }
   ],
   "source": [
    "kmeans_init.fit(Data_quant)"
   ]
  },
  {
   "cell_type": "code",
   "execution_count": 208,
   "metadata": {},
   "outputs": [
    {
     "data": {
      "text/plain": [
       "array([[2.51423060e+01, 5.52044213e+01, 2.00370258e+07, 4.97230518e+02,\n",
       "        3.64705882e+00, 4.61764706e+00],\n",
       "       [2.51663735e+01, 5.52243697e+01, 7.51525617e+06, 2.80158637e+02,\n",
       "        3.43396226e+00, 4.26415094e+00],\n",
       "       [2.51428118e+01, 5.52113290e+01, 2.94216875e+06, 1.75164955e+02,\n",
       "        2.45196507e+00, 3.22052402e+00],\n",
       "       [2.51051038e+01, 5.52124073e+01, 1.13707733e+06, 1.02066241e+02,\n",
       "        1.46102941e+00, 2.15367647e+00]])"
      ]
     },
     "execution_count": 208,
     "metadata": {},
     "output_type": "execute_result"
    }
   ],
   "source": [
    "kmeans_init.cluster_centers_ # centroids"
   ]
  },
  {
   "cell_type": "code",
   "execution_count": 209,
   "metadata": {},
   "outputs": [
    {
     "data": {
      "text/plain": [
       "array([2, 2, 3, ..., 2, 3, 3])"
      ]
     },
     "execution_count": 209,
     "metadata": {},
     "output_type": "execute_result"
    }
   ],
   "source": [
    "kmeans_init.labels_"
   ]
  },
  {
   "cell_type": "code",
   "execution_count": 210,
   "metadata": {},
   "outputs": [],
   "source": [
    "df_optimal_clusters = pd.DataFrame({'observations': range(0,len(Data_quant)), 'cluster': kmeans_init.labels_})"
   ]
  },
  {
   "cell_type": "code",
   "execution_count": 211,
   "metadata": {},
   "outputs": [
    {
     "data": {
      "text/html": [
       "<div>\n",
       "<style scoped>\n",
       "    .dataframe tbody tr th:only-of-type {\n",
       "        vertical-align: middle;\n",
       "    }\n",
       "\n",
       "    .dataframe tbody tr th {\n",
       "        vertical-align: top;\n",
       "    }\n",
       "\n",
       "    .dataframe thead th {\n",
       "        text-align: right;\n",
       "    }\n",
       "</style>\n",
       "<table border=\"1\" class=\"dataframe\">\n",
       "  <thead>\n",
       "    <tr style=\"text-align: right;\">\n",
       "      <th></th>\n",
       "      <th>observations</th>\n",
       "      <th>cluster</th>\n",
       "    </tr>\n",
       "  </thead>\n",
       "  <tbody>\n",
       "    <tr>\n",
       "      <th>0</th>\n",
       "      <td>0</td>\n",
       "      <td>2</td>\n",
       "    </tr>\n",
       "    <tr>\n",
       "      <th>1</th>\n",
       "      <td>1</td>\n",
       "      <td>2</td>\n",
       "    </tr>\n",
       "    <tr>\n",
       "      <th>2</th>\n",
       "      <td>2</td>\n",
       "      <td>3</td>\n",
       "    </tr>\n",
       "    <tr>\n",
       "      <th>3</th>\n",
       "      <td>3</td>\n",
       "      <td>2</td>\n",
       "    </tr>\n",
       "    <tr>\n",
       "      <th>4</th>\n",
       "      <td>4</td>\n",
       "      <td>3</td>\n",
       "    </tr>\n",
       "    <tr>\n",
       "      <th>...</th>\n",
       "      <td>...</td>\n",
       "      <td>...</td>\n",
       "    </tr>\n",
       "    <tr>\n",
       "      <th>1900</th>\n",
       "      <td>1900</td>\n",
       "      <td>3</td>\n",
       "    </tr>\n",
       "    <tr>\n",
       "      <th>1901</th>\n",
       "      <td>1901</td>\n",
       "      <td>3</td>\n",
       "    </tr>\n",
       "    <tr>\n",
       "      <th>1902</th>\n",
       "      <td>1902</td>\n",
       "      <td>2</td>\n",
       "    </tr>\n",
       "    <tr>\n",
       "      <th>1903</th>\n",
       "      <td>1903</td>\n",
       "      <td>3</td>\n",
       "    </tr>\n",
       "    <tr>\n",
       "      <th>1904</th>\n",
       "      <td>1904</td>\n",
       "      <td>3</td>\n",
       "    </tr>\n",
       "  </tbody>\n",
       "</table>\n",
       "<p>1905 rows × 2 columns</p>\n",
       "</div>"
      ],
      "text/plain": [
       "      observations  cluster\n",
       "0                0        2\n",
       "1                1        2\n",
       "2                2        3\n",
       "3                3        2\n",
       "4                4        3\n",
       "...            ...      ...\n",
       "1900          1900        3\n",
       "1901          1901        3\n",
       "1902          1902        2\n",
       "1903          1903        3\n",
       "1904          1904        3\n",
       "\n",
       "[1905 rows x 2 columns]"
      ]
     },
     "execution_count": 211,
     "metadata": {},
     "output_type": "execute_result"
    }
   ],
   "source": [
    "df_optimal_clusters"
   ]
  },
  {
   "cell_type": "markdown",
   "metadata": {},
   "source": []
  },
  {
   "cell_type": "code",
   "execution_count": 212,
   "metadata": {},
   "outputs": [
    {
     "data": {
      "text/plain": [
       "0.6196456411116558"
      ]
     },
     "execution_count": 212,
     "metadata": {},
     "output_type": "execute_result"
    }
   ],
   "source": [
    "silhouette_score(Data_quant, kmeans_init.labels_, metric='euclidean')"
   ]
  },
  {
   "cell_type": "markdown",
   "metadata": {},
   "source": []
  },
  {
   "attachments": {},
   "cell_type": "markdown",
   "metadata": {},
   "source": [
    "### K-means++  "
   ]
  },
  {
   "cell_type": "code",
   "execution_count": 230,
   "metadata": {},
   "outputs": [],
   "source": [
    "kmeans_init = KMeans(n_clusters=4, init='k-means++', n_init=15, max_iter=200, random_state=123)"
   ]
  },
  {
   "cell_type": "code",
   "execution_count": 226,
   "metadata": {},
   "outputs": [
    {
     "data": {
      "text/plain": [
       "KMeans(max_iter=200, n_clusters=4, n_init=15, random_state=123)"
      ]
     },
     "execution_count": 226,
     "metadata": {},
     "output_type": "execute_result"
    }
   ],
   "source": [
    "kmeans_init.fit(Data_quant)"
   ]
  },
  {
   "cell_type": "code",
   "execution_count": 227,
   "metadata": {},
   "outputs": [
    {
     "data": {
      "text/plain": [
       "0.6724058746599259"
      ]
     },
     "execution_count": 227,
     "metadata": {},
     "output_type": "execute_result"
    }
   ],
   "source": [
    "silhouette_score(Data_quant, kmeans_init.labels_, metric='euclidean')"
   ]
  },
  {
   "cell_type": "markdown",
   "metadata": {},
   "source": []
  },
  {
   "attachments": {},
   "cell_type": "markdown",
   "metadata": {},
   "source": [
    "## K-Hyperparameter-tunnig for K-means `sklearn`"
   ]
  },
  {
   "attachments": {},
   "cell_type": "markdown",
   "metadata": {},
   "source": [
    "### Usando Silhouette"
   ]
  },
  {
   "cell_type": "code",
   "execution_count": 233,
   "metadata": {},
   "outputs": [],
   "source": [
    "silhouette_avg = []\n",
    "search_space = range(2,30)\n",
    "\n",
    "for k in search_space :\n",
    "\n",
    "    kmeans_init = KMeans(n_clusters=k, init='k-means++', n_init=15, max_iter=200, random_state=123)\n",
    "    \n",
    "    kmeans_init.fit(Data_quant)\n",
    "\n",
    "    silhouette_avg.append( silhouette_score(Data_quant, kmeans_init.labels_) )\n",
    "\n",
    "df_k_silhouette = pd.DataFrame({'k': search_space, 'silhouette_avg': silhouette_avg})"
   ]
  },
  {
   "cell_type": "code",
   "execution_count": 235,
   "metadata": {},
   "outputs": [
    {
     "data": {
      "text/html": [
       "<div>\n",
       "<style scoped>\n",
       "    .dataframe tbody tr th:only-of-type {\n",
       "        vertical-align: middle;\n",
       "    }\n",
       "\n",
       "    .dataframe tbody tr th {\n",
       "        vertical-align: top;\n",
       "    }\n",
       "\n",
       "    .dataframe thead th {\n",
       "        text-align: right;\n",
       "    }\n",
       "</style>\n",
       "<table border=\"1\" class=\"dataframe\">\n",
       "  <thead>\n",
       "    <tr style=\"text-align: right;\">\n",
       "      <th></th>\n",
       "      <th>k</th>\n",
       "      <th>silhouette_avg</th>\n",
       "    </tr>\n",
       "  </thead>\n",
       "  <tbody>\n",
       "    <tr>\n",
       "      <th>0</th>\n",
       "      <td>2</td>\n",
       "      <td>0.914858</td>\n",
       "    </tr>\n",
       "    <tr>\n",
       "      <th>1</th>\n",
       "      <td>3</td>\n",
       "      <td>0.683691</td>\n",
       "    </tr>\n",
       "    <tr>\n",
       "      <th>2</th>\n",
       "      <td>4</td>\n",
       "      <td>0.672406</td>\n",
       "    </tr>\n",
       "    <tr>\n",
       "      <th>3</th>\n",
       "      <td>5</td>\n",
       "      <td>0.614485</td>\n",
       "    </tr>\n",
       "  </tbody>\n",
       "</table>\n",
       "</div>"
      ],
      "text/plain": [
       "   k  silhouette_avg\n",
       "0  2        0.914858\n",
       "1  3        0.683691\n",
       "2  4        0.672406\n",
       "3  5        0.614485"
      ]
     },
     "execution_count": 235,
     "metadata": {},
     "output_type": "execute_result"
    }
   ],
   "source": [
    "df_k_silhouette.head(4)"
   ]
  },
  {
   "cell_type": "code",
   "execution_count": 238,
   "metadata": {},
   "outputs": [
    {
     "data": {
      "text/html": [
       "<div>\n",
       "<style scoped>\n",
       "    .dataframe tbody tr th:only-of-type {\n",
       "        vertical-align: middle;\n",
       "    }\n",
       "\n",
       "    .dataframe tbody tr th {\n",
       "        vertical-align: top;\n",
       "    }\n",
       "\n",
       "    .dataframe thead th {\n",
       "        text-align: right;\n",
       "    }\n",
       "</style>\n",
       "<table border=\"1\" class=\"dataframe\">\n",
       "  <thead>\n",
       "    <tr style=\"text-align: right;\">\n",
       "      <th></th>\n",
       "      <th>k</th>\n",
       "      <th>silhouette_avg</th>\n",
       "    </tr>\n",
       "  </thead>\n",
       "  <tbody>\n",
       "    <tr>\n",
       "      <th>0</th>\n",
       "      <td>2</td>\n",
       "      <td>0.914858</td>\n",
       "    </tr>\n",
       "    <tr>\n",
       "      <th>1</th>\n",
       "      <td>3</td>\n",
       "      <td>0.683691</td>\n",
       "    </tr>\n",
       "    <tr>\n",
       "      <th>2</th>\n",
       "      <td>4</td>\n",
       "      <td>0.672406</td>\n",
       "    </tr>\n",
       "    <tr>\n",
       "      <th>3</th>\n",
       "      <td>5</td>\n",
       "      <td>0.614485</td>\n",
       "    </tr>\n",
       "  </tbody>\n",
       "</table>\n",
       "</div>"
      ],
      "text/plain": [
       "   k  silhouette_avg\n",
       "0  2        0.914858\n",
       "1  3        0.683691\n",
       "2  4        0.672406\n",
       "3  5        0.614485"
      ]
     },
     "execution_count": 238,
     "metadata": {},
     "output_type": "execute_result"
    }
   ],
   "source": [
    "df_k_silhouette_sort = df_k_silhouette.sort_values(by='silhouette_avg', ascending=False)\n",
    "\n",
    "df_k_silhouette_sort.head(4)"
   ]
  },
  {
   "cell_type": "markdown",
   "metadata": {},
   "source": []
  },
  {
   "cell_type": "code",
   "execution_count": 240,
   "metadata": {},
   "outputs": [],
   "source": [
    "import seaborn as sns\n",
    "import matplotlib.pyplot as plt\n",
    "\n",
    "sns.set_theme()"
   ]
  },
  {
   "cell_type": "code",
   "execution_count": 248,
   "metadata": {},
   "outputs": [
    {
     "data": {
      "image/png": "[encoded data removed]",
      "text/plain": [
       "<Figure size 792x504 with 1 Axes>"
      ]
     },
     "metadata": {},
     "output_type": "display_data"
    }
   ],
   "source": [
    "fig = plt.figure(figsize=(11,7))\n",
    "\n",
    "p=sns.lineplot(x=search_space, y=silhouette_avg , color='red')\n",
    "\n",
    "plt.ylabel(\"mean silhouette\")\n",
    "plt.xlabel(\"k\")\n",
    "\n",
    "p.set_xticks( search_space )\n",
    "\n",
    "# fig.savefig('p2.png', format='png', dpi=1200)\n",
    "\n",
    "plt.show()"
   ]
  },
  {
   "cell_type": "markdown",
   "metadata": {},
   "source": []
  },
  {
   "attachments": {},
   "cell_type": "markdown",
   "metadata": {},
   "source": [
    "### Usando la suma de varianzas intra-clusters"
   ]
  },
  {
   "attachments": {},
   "cell_type": "markdown",
   "metadata": {},
   "source": [
    "`inertia_` es la suma de las varianzas intra-cluster de todos los clusters."
   ]
  },
  {
   "cell_type": "code",
   "execution_count": 250,
   "metadata": {},
   "outputs": [],
   "source": [
    "sum_variance_intra_clusters = []\n",
    "\n",
    "for k in search_space:\n",
    "\n",
    "    kmeans_init = KMeans(n_clusters=k, init='k-means++', n_init=15, max_iter=200, random_state=123)\n",
    "    \n",
    "    kmeans_init.fit(Data_quant)\n",
    "\n",
    "    sum_variance_intra_clusters.append( kmeans_init.inertia_) \n",
    "\n",
    "df_k_sum_variance_intra_clusters = pd.DataFrame({'k': search_space, 'sum_variance_intra_clusters': sum_variance_intra_clusters})"
   ]
  },
  {
   "cell_type": "code",
   "execution_count": null,
   "metadata": {},
   "outputs": [],
   "source": [
    "df_k_sum_variance_intra_clusters_sort = df_k_sum_variance_intra_clusters.sort_values(by='sum_variance_intra_clusters', ascending=True)\n",
    "\n",
    "df_k_sum_variance_intra_clusters_sort.head(4)"
   ]
  },
  {
   "cell_type": "code",
   "execution_count": 251,
   "metadata": {},
   "outputs": [
    {
     "data": {
      "image/png": "[encoded data removed]",
      "text/plain": [
       "<Figure size 792x504 with 1 Axes>"
      ]
     },
     "metadata": {},
     "output_type": "display_data"
    }
   ],
   "source": [
    "fig = plt.figure(figsize=(11,7))\n",
    "\n",
    "p=sns.lineplot(x=search_space, y=sum_variance_intra_clusters , color='red')\n",
    "\n",
    "plt.ylabel(\"sum intra-cluster variances\")\n",
    "plt.xlabel(\"k\")\n",
    "\n",
    "p.set_xticks( search_space )\n",
    "\n",
    "# fig.savefig('p2.png', format='png', dpi=1200)\n",
    "\n",
    "plt.show()"
   ]
  },
  {
   "cell_type": "markdown",
   "metadata": {},
   "source": []
  },
  {
   "cell_type": "markdown",
   "metadata": {},
   "source": []
  },
  {
   "attachments": {},
   "cell_type": "markdown",
   "metadata": {},
   "source": [
    "## Shiloutte programado en `Python`"
   ]
  },
  {
   "cell_type": "code",
   "execution_count": 203,
   "metadata": {},
   "outputs": [],
   "source": [
    "def silhouette(Distance_Matrix , k, df_clusters):\n",
    "\n",
    "    # Distance_Matrix tiene que ser una matriz de distancias calculada sobre un Data-set.\n",
    "    # Se tiene que haber aplicado un algoirtmo de clustering como k-medias o k-medoids sobre un Data-set --> k , df_clusters\n",
    "    # df_clusters debe ser un pd.DataFrame obtenido tras aplicar un algoritmo de clustering como k-medoisds sobre el Data-set.\n",
    "    # Deberá tener al menos dos columnas: \n",
    "    # 'observaciones' (indices de las observaciones de Data) y 'cluster' (indice del cluster al que pertenece cada observacion).\n",
    "\n",
    "    def f(i,h):\n",
    "\n",
    "        f_i_h_list = []\n",
    "        C_h = df_clusters.loc[df_clusters.cluster == h , :]\n",
    "\n",
    "        for r in np.array(C_h.observations) :\n",
    "\n",
    "            f_i_h_list.append( Distance_Matrix[i , r] )\n",
    "\n",
    "        f_i_h = sum(f_i_h_list) / (len(C_h)-1)  # distancia media entre x_i y el cluster C_h\n",
    "\n",
    "        return f_i_h\n",
    "    \n",
    "    def b(i):\n",
    "\n",
    "        for h in range(0,k):\n",
    "\n",
    "            C_h = df_clusters.loc[df_clusters.cluster == h , :]\n",
    "\n",
    "            if i in np.array(C_h.observations) :\n",
    "\n",
    "                b_i = f(i,h)\n",
    "    \n",
    "        return b_i\n",
    "   \n",
    "    def a(i):\n",
    "\n",
    "        a_i_list = []\n",
    "\n",
    "        for h in range(0,k):\n",
    "\n",
    "            C_h = df_clusters.loc[df_clusters.cluster == h , :]\n",
    "\n",
    "            if i in np.array(C_h.observations) :\n",
    "\n",
    "                for j in range(0,k):\n",
    "\n",
    "                    if j != h :\n",
    "\n",
    "                        a_i_list.append( f(i,j) )\n",
    "\n",
    "                a_i = min(a_i_list)\n",
    "    \n",
    "        return a_i\n",
    "\n",
    "    def silhouette_compute(i) :\n",
    "\n",
    "        s_i = (a(i) - b(i)) / max( [a(i) , b(i)] )\n",
    "\n",
    "        return s_i\n",
    "  \n",
    "    s_i_list = []\n",
    "\n",
    "    for i in np.array(df_clusters.observations) :\n",
    "\n",
    "        s_i_list.append(silhouette_compute(i))\n",
    "   \n",
    "    mean_silhouette =  sum(s_i_list) / len(s_i_list)  \n",
    "\n",
    "    df_silhouette = pd.DataFrame({'silhouette':s_i_list , 'observations':df_clusters.observations , 'cluster':df_clusters.cluster})\n",
    "\n",
    "    return df_silhouette , mean_silhouette\n"
   ]
  },
  {
   "cell_type": "code",
   "execution_count": 119,
   "metadata": {},
   "outputs": [],
   "source": []
  },
  {
   "cell_type": "code",
   "execution_count": 120,
   "metadata": {},
   "outputs": [],
   "source": [
    "df_optimal_clusters, df_clusters_iter_list, sort_df_sum_intra_clusters_variances, df_sum_intra_clusters_variances = k_means(k=4, Data=Data_quant, d='Euclidea', random_seed=123, n_iter=15)"
   ]
  },
  {
   "cell_type": "code",
   "execution_count": 192,
   "metadata": {},
   "outputs": [],
   "source": [
    "D_euclidean = Matrix_Dist_Euclidea(Data=Data_quant)\n",
    "\n",
    "D_euclidean = D_euclidean + D_euclidean.T\n",
    "\n",
    "df_silhouette , mean_silhouette = silhouette(Distance_Matrix=D_euclidean, k=4, df_clusters=df_optimal_clusters)"
   ]
  },
  {
   "cell_type": "code",
   "execution_count": 193,
   "metadata": {},
   "outputs": [
    {
     "data": {
      "text/plain": [
       "0.5555770916912831"
      ]
     },
     "execution_count": 193,
     "metadata": {},
     "output_type": "execute_result"
    }
   ],
   "source": [
    "mean_silhouette"
   ]
  },
  {
   "cell_type": "code",
   "execution_count": null,
   "metadata": {},
   "outputs": [],
   "source": [
    "df_silhouette"
   ]
  },
  {
   "cell_type": "code",
   "execution_count": 194,
   "metadata": {},
   "outputs": [
    {
     "data": {
      "text/plain": [
       "0.5548752565475771"
      ]
     },
     "execution_count": 194,
     "metadata": {},
     "output_type": "execute_result"
    }
   ],
   "source": [
    "silhouette_score(X=Data_quant, metric='euclidean', labels=df_optimal_clusters.sort_values(by='observations').cluster)"
   ]
  },
  {
   "cell_type": "markdown",
   "metadata": {},
   "source": []
  },
  {
   "cell_type": "markdown",
   "metadata": {},
   "source": []
  },
  {
   "attachments": {},
   "cell_type": "markdown",
   "metadata": {},
   "source": [
    "## K-Medoids programmed in `Python`"
   ]
  },
  {
   "cell_type": "code",
   "execution_count": 235,
   "metadata": {},
   "outputs": [],
   "source": [
    "def k_medoids(k, Data, d, random_seed=123, n_iter=50, q=None, var=None, S_inv=None):\n",
    "\n",
    "    # Data --> a numpy array\n",
    "    # d --> name of distance (Euclidea, Minkowski, Canberra, Pearson or Mahalanobis)\n",
    "    # q --> parametro necesario si se usa la distancia Minkowski\n",
    "    # S_inv --> parametro necesario si se usa la distancia Mahalanobis\n",
    "    # random_seed --> semilla aleatoria\n",
    "    # k --> nº clusters\n",
    "    # n_iter --> nº maximo de iteraciones del algoritmo\n",
    "\n",
    "###########################################################################################\n",
    "\n",
    "    df_clusters_iter_list = []\n",
    "\n",
    "    if isinstance(Data, pd.DataFrame):\n",
    "        Data = Data.to_numpy()\n",
    "    elif isinstance(Data, np.ndarray):\n",
    "        pass\n",
    "\n",
    "###########################################################################################\n",
    "\n",
    "###########################################################################################\n",
    "\n",
    "    # Distance definition:\n",
    "\n",
    "    Dist_d = globals()[\"Dist_\" + d]\n",
    "\n",
    "    Matrix_Dist_d = globals()[\"Matrix_Dist_\" + d]\n",
    "\n",
    "\n",
    "    def Distance(x_i, x_r, d, q, var, S_inv):\n",
    "        \n",
    "        if d == \"Euclidea\":\n",
    "    \n",
    "            distance = Dist_d(x_i , x_r)\n",
    "\n",
    "        elif d == \"Canberra\":\n",
    "            \n",
    "            distance = Dist_d(x_i , x_r)\n",
    "\n",
    "        elif d == \"Minkowski\":\n",
    "             \n",
    "            distance = Dist_d(x_i , x_r, q)\n",
    "\n",
    "        elif d == \"Pearson\":\n",
    "    \n",
    "            distance = Dist_d(x_i , x_r, variance=var)\n",
    "\n",
    "        elif d == \"Mahalanobis\":\n",
    "         \n",
    "            distance = Dist_d(x_i-x_r, S_inv)\n",
    "\n",
    "        return distance\n",
    "\n",
    "    #####################################################\n",
    "\n",
    "    def Distance_Matrix(Data, d, q=None):\n",
    "        \n",
    "        if d == \"Euclidea\":\n",
    "    \n",
    "            M = Matrix_Dist_Euclidea(Data)\n",
    "\n",
    "        elif d == \"Canberra\":\n",
    "            \n",
    "            M = Matrix_Dist_Canberra(Data)\n",
    "\n",
    "        elif d == \"Minkowski\":\n",
    "             \n",
    "            M = Matrix_Dist_Minkowski(Data, q)\n",
    "\n",
    "        elif d == \"Pearson\":\n",
    "    \n",
    "            M = Matrix_Dist_Pearson(Data)\n",
    "\n",
    "        elif d == \"Mahalanobis\":\n",
    "         \n",
    "            M = Matrix_Dist_Mahalanobis(Data)\n",
    "\n",
    "        return M\n",
    "\n",
    "###########################################################################################\n",
    "\n",
    "# Se generan los clusters iniciales aleatoreamente\n",
    "\n",
    "    # Random generation of the initial clusters:\n",
    "\n",
    "    sample = resample(range(0, len(Data)), n_samples=len(Data), replace=False, random_state=random_seed)\n",
    "\n",
    "    df_sample = pd.DataFrame({'index': range(0,len(Data)) , 'sample':sample})\n",
    "\n",
    "    Q = []\n",
    "\n",
    "    for q in np.arange(0 , 1 + 1/k , 1/k):\n",
    "\n",
    "        Q.append( np.quantile( range(0, len(Data)) , q ).round(0) )\n",
    "\n",
    "    labels_clusters = np.array([0])\n",
    "\n",
    "    for j in range(0,k):\n",
    "   \n",
    "        labels_clusters = np.concatenate([labels_clusters, np.repeat( j, len( df_sample.loc[Q[j]:(math.floor(Q[j+1])-1), 'sample'] ) ) ] ) \n",
    "\n",
    "    df_cluster = pd.DataFrame({'observation': df_sample['sample'] , 'cluster': labels_clusters})\n",
    "\n",
    "    df_clusters_iter_list.append(df_cluster)\n",
    "\n",
    "###########################################################################################\n",
    "\n",
    "\n",
    "# calculamos los medoids de los clusters iniciales\n",
    "\n",
    "    D = Distance_Matrix(Data, d, q)\n",
    "\n",
    "   ######################\n",
    "\n",
    "    medoids = []\n",
    "    label_medoids =[]\n",
    "\n",
    "    for j in range(0, k):\n",
    "\n",
    "      observations_index_cluster_j = df_cluster.loc[df_cluster.cluster == j, :].observation\n",
    "\n",
    "      D_j = D[observations_index_cluster_j, :][: ,observations_index_cluster_j] # matriz distancias para el cluster j\n",
    "\n",
    "      sum_distances = D_j.sum(axis=1) # suma de la matriz por filas\n",
    "\n",
    "      # indice en la matriz de la observacion que minimiza la suma de distancias en el cluster j --> medoid del cluster j\n",
    "      h = np.where( sum_distances == min( sum_distances ) ) \n",
    "\n",
    "      df_cluster_j = df_cluster.loc[df_cluster.cluster == j , ]    \n",
    "\n",
    "      # df_cluster_j.iloc[h[0],:].observacion es el indice en el data set original de la observacion medoid del cluster j \n",
    "\n",
    "\n",
    "      if len(h[0]) == 1 :  # hay un solo medoid en el cluster j \n",
    "        \n",
    "        medoids.append( Data[ df_cluster_j.iloc[h[0],:].observation , : ]  ) # su componente j es el medoid del cluster j\n",
    "\n",
    "        label_medoids.append(df_cluster_j.iloc[h[0],:].observation)\n",
    "\n",
    "      if len(h[0]) > 1 : # hay varios medoids en el cluster j \n",
    "        \n",
    "        medoids.append( Data[ int(df_cluster_j.iloc[h[0][0],:].observation)  , : ]  ) # su componente j es el medoid del cluster j\n",
    "\n",
    "        label_medoids.append( int(df_cluster_j.iloc[h[0][0],:].observation) )\n",
    "\n",
    "      # Los condicionales son para evitar problemas en el caso de que en un cluster haya mas de un medoid.\n",
    "      # Puede haber dos o mas observaciones que cumplan con la definicion de medoid, para alguno de los clusters.\n",
    "      # Si un cluster tiene varios medoids, nos quedamos solo con uno.\n",
    "\n",
    "###########################################################################################\n",
    "\n",
    "\n",
    "   # Calculamos la suma de varianzas intra cluster para los clusters iniciales\n",
    "\n",
    "   # Computing the sum of intra-clusters variances for the initial cluster:\n",
    "\n",
    "    distances = [ ]\n",
    "\n",
    "    intra_cluster_variance_list , sum_intra_clusters_variances, sum_intra_clusters_variances_list = [ ], [ ], [ ]\n",
    "\n",
    "    for j in range(0,k):\n",
    "\n",
    "        observations_index_cluster_j = df_cluster.loc[df_cluster.cluster == j, :].observation \n",
    "\n",
    "        for i in observations_index_cluster_j :\n",
    "\n",
    "            distances.append(Distance(x_i=Data[i,:], x_r=medoids[j], d=d, q=q, var=var, S_inv=S_inv))\n",
    "\n",
    "        # distances = Parallel(n_jobs=-1)(delayed(Distance)(x_i=Data[i,:], x_r=Centroids[j], d=d, q=q, var=var, S_inv=S_inv) for i in observations_index_cluster_j)          \n",
    "\n",
    "        square_distances = [x**2 for x in distances]\n",
    "        intra_cluster_variance = sum(square_distances)\n",
    "        intra_cluster_variance_list.append( intra_cluster_variance )\n",
    "\n",
    "    sum_intra_clusters_variances.append( sum(intra_cluster_variance_list) )\n",
    "    sum_intra_clusters_variances_list.append( sum_intra_clusters_variances )\n",
    "\n",
    "###########################################################################################\n",
    "\n",
    "# Asignar cada observacion a su cluster más cercano \n",
    "\n",
    "    for b in range(0 , n_iter):\n",
    "       \n",
    "       # Assign each observation to their nearest cluster: \n",
    "\n",
    "        labels_clusters = []\n",
    "\n",
    "        for i in df_sample['sample']:\n",
    "\n",
    "            distances = []\n",
    "    \n",
    "            for j in range(0,k):\n",
    "\n",
    "                distances.append( Distance(x_i=Data[i,:], x_r=medoids[j], d=d, q=q, var=var, S_inv=S_inv) )  \n",
    "\n",
    "            df_distances_x_i_clusters = pd.DataFrame({'Distances' : distances , 'Cluster': range(0,k)})\n",
    "\n",
    "            df_distances_x_i_clusters_sort = df_distances_x_i_clusters.sort_values(by='Distances', ascending=True)\n",
    "\n",
    "            labels_clusters.append( df_distances_x_i_clusters_sort.iloc[0]['Cluster'] )\n",
    "        \n",
    "        df_cluster = pd.DataFrame({'observation' : df_sample['sample'] , 'cluster': labels_clusters})\n",
    "\n",
    "###########################################################################################\n",
    "\n",
    "       # Calculamos los medoids de los nuevos clusters\n",
    "\n",
    "        medoids = []\n",
    "        label_medoids =[]\n",
    "\n",
    "\n",
    "        for j in range(0, k):                    \n",
    "                \n",
    "                observations_index_cluster_j = df_cluster.loc[df_cluster.cluster == j, :].observation\n",
    "\n",
    "                D_j = D[observations_index_cluster_j, :][: ,observations_index_cluster_j] # matriz distancias para el cluster j\n",
    "\n",
    "                sum_distances = D_j.sum(axis=1) # suma de la matriz por filas\n",
    "\n",
    "                h = np.where( sum_distances == min( sum_distances) ) # indice en la matriz de la observacion que minimiza la suma de distancias en el cluster j --> medoid del cluster j\n",
    "\n",
    "                df_cluster_j = df_cluster.loc[df_cluster.cluster == j , ]    \n",
    "\n",
    "                # df_cluster_j.iloc[h[0],:].observacion  es el indice en el data set original de la observacion medoid del cluster j \n",
    "                \n",
    "                if len(h[0]) == 1 : \n",
    "                    \n",
    "                    medoids.append( Data[ df_cluster_j.iloc[h[0],:].observation , : ]  )   # su componente j es el medoid del cluster j\n",
    "\n",
    "                    label_medoids.append(df_cluster_j.iloc[h[0],:].observation)\n",
    "\n",
    "\n",
    "                elif len(h[0]) > 1 : \n",
    "                  \n",
    "                    medoids.append( Data[ int(df_cluster_j.iloc[h[0][0], :].observation)  , : ]  ) # su componente j es el medoid del cluster j\n",
    "                \n",
    "                    label_medoids.append( int(df_cluster_j.iloc[h[0][0], :].observation) )\n",
    "                \n",
    "                # Los condicionales son para evitar problemas en el caso de que en un cluster haya mas de un medoid.\n",
    "                # Puede haber dos o mas observaciones que cumplan con la definicion de medoid, para alguno de los clusters.\n",
    "                # Si un cluster tiene varios medoids, nos quedamos solo con uno.\n",
    "\n",
    "###########################################################################################\n",
    "\n",
    "        # Calculamos la suma de varianzas intra cluster para los nuevos clusters\n",
    "\n",
    "        distances = []\n",
    "        intra_cluster_variance_list , sum_intra_clusters_variances = [ ], [ ]\n",
    "\n",
    "        for j in range(0,k):\n",
    "\n",
    "            observations_index_cluster_j = df_cluster.loc[df_cluster.cluster == j, :].observation \n",
    "\n",
    "            for i in observations_index_cluster_j :\n",
    "\n",
    "                distances.append( Distance(x_i=Data[i,:], x_r=medoids[j], d=d, q=q, var=var, S_inv=S_inv) )\n",
    "\n",
    "            # distances = Parallel(n_jobs=-1)(delayed(Distance)(x_i=Data[i,:], x_r=Centroids[j], d=d, q=q, var=var, S_inv=S_inv) for i in observations_index_cluster_j)          \n",
    "\n",
    "            square_distances = [x**2 for x in distances]\n",
    "            intra_cluster_variance = sum(square_distances)\n",
    "            intra_cluster_variance_list.append( intra_cluster_variance )\n",
    "\n",
    "        sum_intra_clusters_variances.append( sum(intra_cluster_variance_list) )\n",
    "        sum_intra_clusters_variances_list.append( sum_intra_clusters_variances )\n",
    "\n",
    "\n",
    "######################################################################################\n",
    "\n",
    "        df_clusters_iter = pd.DataFrame({'observations': df_sample['sample']  , 'cluster': labels_clusters })\n",
    "\n",
    "        df_clusters_iter_list.append(df_clusters_iter)\n",
    "\n",
    "######################################################################################\n",
    "######################################################################################\n",
    "    \n",
    "    # unlist a list:\n",
    "\n",
    "    sum_intra_clusters_variances_list = list(chain.from_iterable(sum_intra_clusters_variances_list))\n",
    "\n",
    "######################################################################################\n",
    "    df_sum_intra_clusters_variances = pd.DataFrame({'sum_intra_cluster_var':sum_intra_clusters_variances_list  , 'iter': range(0, n_iter+1)})\n",
    "    \n",
    "    sort_df_sum_intra_clusters_variances = df_sum_intra_clusters_variances.sort_values(by='sum_intra_cluster_var', ascending=True)\n",
    "\n",
    "    optimal_iter = sort_df_sum_intra_clusters_variances.iloc[0,1]\n",
    "\n",
    "    df_optimal_clusters = df_clusters_iter_list[optimal_iter]\n",
    "######################################################################################\n",
    "\n",
    "    return df_optimal_clusters, df_clusters_iter_list, sort_df_sum_intra_clusters_variances,  df_sum_intra_clusters_variances"
   ]
  },
  {
   "attachments": {},
   "cell_type": "markdown",
   "metadata": {},
   "source": [
    "### Trying with Euclidean distance"
   ]
  },
  {
   "cell_type": "code",
   "execution_count": 236,
   "metadata": {},
   "outputs": [],
   "source": [
    "df_optimal_clusters, df_clusters_iter_list, sort_df_sum_intra_clusters_variances,  df_sum_intra_clusters_variances = k_medoids(k=4, Data=Data_quant, d='Euclidea', random_seed=123, n_iter=15, q=None, var=None, S_inv=None)\n"
   ]
  },
  {
   "cell_type": "code",
   "execution_count": 237,
   "metadata": {},
   "outputs": [
    {
     "data": {
      "text/html": [
       "<div>\n",
       "<style scoped>\n",
       "    .dataframe tbody tr th:only-of-type {\n",
       "        vertical-align: middle;\n",
       "    }\n",
       "\n",
       "    .dataframe tbody tr th {\n",
       "        vertical-align: top;\n",
       "    }\n",
       "\n",
       "    .dataframe thead th {\n",
       "        text-align: right;\n",
       "    }\n",
       "</style>\n",
       "<table border=\"1\" class=\"dataframe\">\n",
       "  <thead>\n",
       "    <tr style=\"text-align: right;\">\n",
       "      <th></th>\n",
       "      <th>observations</th>\n",
       "      <th>cluster</th>\n",
       "    </tr>\n",
       "  </thead>\n",
       "  <tbody>\n",
       "    <tr>\n",
       "      <th>0</th>\n",
       "      <td>382</td>\n",
       "      <td>1.0</td>\n",
       "    </tr>\n",
       "    <tr>\n",
       "      <th>1</th>\n",
       "      <td>732</td>\n",
       "      <td>2.0</td>\n",
       "    </tr>\n",
       "    <tr>\n",
       "      <th>2</th>\n",
       "      <td>1888</td>\n",
       "      <td>2.0</td>\n",
       "    </tr>\n",
       "    <tr>\n",
       "      <th>3</th>\n",
       "      <td>679</td>\n",
       "      <td>3.0</td>\n",
       "    </tr>\n",
       "    <tr>\n",
       "      <th>4</th>\n",
       "      <td>1004</td>\n",
       "      <td>1.0</td>\n",
       "    </tr>\n",
       "    <tr>\n",
       "      <th>...</th>\n",
       "      <td>...</td>\n",
       "      <td>...</td>\n",
       "    </tr>\n",
       "    <tr>\n",
       "      <th>1900</th>\n",
       "      <td>1122</td>\n",
       "      <td>3.0</td>\n",
       "    </tr>\n",
       "    <tr>\n",
       "      <th>1901</th>\n",
       "      <td>1346</td>\n",
       "      <td>2.0</td>\n",
       "    </tr>\n",
       "    <tr>\n",
       "      <th>1902</th>\n",
       "      <td>1406</td>\n",
       "      <td>0.0</td>\n",
       "    </tr>\n",
       "    <tr>\n",
       "      <th>1903</th>\n",
       "      <td>1389</td>\n",
       "      <td>2.0</td>\n",
       "    </tr>\n",
       "    <tr>\n",
       "      <th>1904</th>\n",
       "      <td>1534</td>\n",
       "      <td>1.0</td>\n",
       "    </tr>\n",
       "  </tbody>\n",
       "</table>\n",
       "<p>1905 rows × 2 columns</p>\n",
       "</div>"
      ],
      "text/plain": [
       "      observations  cluster\n",
       "0              382      1.0\n",
       "1              732      2.0\n",
       "2             1888      2.0\n",
       "3              679      3.0\n",
       "4             1004      1.0\n",
       "...            ...      ...\n",
       "1900          1122      3.0\n",
       "1901          1346      2.0\n",
       "1902          1406      0.0\n",
       "1903          1389      2.0\n",
       "1904          1534      1.0\n",
       "\n",
       "[1905 rows x 2 columns]"
      ]
     },
     "execution_count": 237,
     "metadata": {},
     "output_type": "execute_result"
    }
   ],
   "source": [
    "df_optimal_clusters"
   ]
  },
  {
   "cell_type": "code",
   "execution_count": 239,
   "metadata": {},
   "outputs": [
    {
     "data": {
      "text/plain": [
       "[      observation  cluster\n",
       " 0             382        0\n",
       " 1             732        0\n",
       " 2            1888        0\n",
       " 3             679        0\n",
       " 4            1004        0\n",
       " ...           ...      ...\n",
       " 1900         1122        3\n",
       " 1901         1346        3\n",
       " 1902         1406        3\n",
       " 1903         1389        3\n",
       " 1904         1534        3\n",
       " \n",
       " [1905 rows x 2 columns],\n",
       "       observations  cluster\n",
       " 0              382      1.0\n",
       " 1              732      2.0\n",
       " 2             1888      2.0\n",
       " 3              679      3.0\n",
       " 4             1004      1.0\n",
       " ...            ...      ...\n",
       " 1900          1122      3.0\n",
       " 1901          1346      2.0\n",
       " 1902          1406      0.0\n",
       " 1903          1389      2.0\n",
       " 1904          1534      1.0\n",
       " \n",
       " [1905 rows x 2 columns]]"
      ]
     },
     "execution_count": 239,
     "metadata": {},
     "output_type": "execute_result"
    }
   ],
   "source": [
    "df_clusters_iter_list[0:2]"
   ]
  },
  {
   "cell_type": "code",
   "execution_count": 241,
   "metadata": {},
   "outputs": [
    {
     "data": {
      "text/html": [
       "<div>\n",
       "<style scoped>\n",
       "    .dataframe tbody tr th:only-of-type {\n",
       "        vertical-align: middle;\n",
       "    }\n",
       "\n",
       "    .dataframe tbody tr th {\n",
       "        vertical-align: top;\n",
       "    }\n",
       "\n",
       "    .dataframe thead th {\n",
       "        text-align: right;\n",
       "    }\n",
       "</style>\n",
       "<table border=\"1\" class=\"dataframe\">\n",
       "  <thead>\n",
       "    <tr style=\"text-align: right;\">\n",
       "      <th></th>\n",
       "      <th>sum_intra_cluster_var</th>\n",
       "      <th>iter</th>\n",
       "    </tr>\n",
       "  </thead>\n",
       "  <tbody>\n",
       "    <tr>\n",
       "      <th>1</th>\n",
       "      <td>3.892252e+16</td>\n",
       "      <td>1</td>\n",
       "    </tr>\n",
       "    <tr>\n",
       "      <th>2</th>\n",
       "      <td>3.894018e+16</td>\n",
       "      <td>2</td>\n",
       "    </tr>\n",
       "    <tr>\n",
       "      <th>3</th>\n",
       "      <td>3.894018e+16</td>\n",
       "      <td>3</td>\n",
       "    </tr>\n",
       "    <tr>\n",
       "      <th>4</th>\n",
       "      <td>3.894018e+16</td>\n",
       "      <td>4</td>\n",
       "    </tr>\n",
       "  </tbody>\n",
       "</table>\n",
       "</div>"
      ],
      "text/plain": [
       "   sum_intra_cluster_var  iter\n",
       "1           3.892252e+16     1\n",
       "2           3.894018e+16     2\n",
       "3           3.894018e+16     3\n",
       "4           3.894018e+16     4"
      ]
     },
     "execution_count": 241,
     "metadata": {},
     "output_type": "execute_result"
    }
   ],
   "source": [
    "sort_df_sum_intra_clusters_variances.head(4)"
   ]
  },
  {
   "cell_type": "code",
   "execution_count": 242,
   "metadata": {},
   "outputs": [
    {
     "data": {
      "text/html": [
       "<div>\n",
       "<style scoped>\n",
       "    .dataframe tbody tr th:only-of-type {\n",
       "        vertical-align: middle;\n",
       "    }\n",
       "\n",
       "    .dataframe tbody tr th {\n",
       "        vertical-align: top;\n",
       "    }\n",
       "\n",
       "    .dataframe thead th {\n",
       "        text-align: right;\n",
       "    }\n",
       "</style>\n",
       "<table border=\"1\" class=\"dataframe\">\n",
       "  <thead>\n",
       "    <tr style=\"text-align: right;\">\n",
       "      <th></th>\n",
       "      <th>sum_intra_cluster_var</th>\n",
       "      <th>iter</th>\n",
       "    </tr>\n",
       "  </thead>\n",
       "  <tbody>\n",
       "    <tr>\n",
       "      <th>0</th>\n",
       "      <td>4.985438e+16</td>\n",
       "      <td>0</td>\n",
       "    </tr>\n",
       "    <tr>\n",
       "      <th>1</th>\n",
       "      <td>3.892252e+16</td>\n",
       "      <td>1</td>\n",
       "    </tr>\n",
       "    <tr>\n",
       "      <th>2</th>\n",
       "      <td>3.894018e+16</td>\n",
       "      <td>2</td>\n",
       "    </tr>\n",
       "    <tr>\n",
       "      <th>3</th>\n",
       "      <td>3.894018e+16</td>\n",
       "      <td>3</td>\n",
       "    </tr>\n",
       "  </tbody>\n",
       "</table>\n",
       "</div>"
      ],
      "text/plain": [
       "   sum_intra_cluster_var  iter\n",
       "0           4.985438e+16     0\n",
       "1           3.892252e+16     1\n",
       "2           3.894018e+16     2\n",
       "3           3.894018e+16     3"
      ]
     },
     "execution_count": 242,
     "metadata": {},
     "output_type": "execute_result"
    }
   ],
   "source": [
    "df_sum_intra_clusters_variances.head(4)"
   ]
  },
  {
   "cell_type": "code",
   "execution_count": 243,
   "metadata": {},
   "outputs": [
    {
     "data": {
      "image/png": "[encoded data removed]",
      "text/plain": [
       "<Figure size 432x288 with 1 Axes>"
      ]
     },
     "metadata": {
      "needs_background": "light"
     },
     "output_type": "display_data"
    }
   ],
   "source": [
    "plot = sns.lineplot(data=df_sum_intra_clusters_variances, y='sum_intra_cluster_var', x='iter')"
   ]
  },
  {
   "cell_type": "code",
   "execution_count": 244,
   "metadata": {},
   "outputs": [
    {
     "data": {
      "text/plain": [
       "0.30222108351014065"
      ]
     },
     "execution_count": 244,
     "metadata": {},
     "output_type": "execute_result"
    }
   ],
   "source": [
    "silhouette_score(Data_quant, df_optimal_clusters.sort_values(by='observations').cluster, metric='euclidean')"
   ]
  },
  {
   "cell_type": "code",
   "execution_count": 245,
   "metadata": {},
   "outputs": [
    {
     "data": {
      "text/plain": [
       "0.30363671865033204"
      ]
     },
     "execution_count": 245,
     "metadata": {},
     "output_type": "execute_result"
    }
   ],
   "source": [
    "D_euclidean = Matrix_Dist_Euclidea(Data=Data_quant)\n",
    "\n",
    "D_euclidean = D_euclidean + D_euclidean.T\n",
    "\n",
    "df_silhouette , mean_silhouette = silhouette(Distance_Matrix=D_euclidean, k=4, df_clusters=df_optimal_clusters)\n",
    "\n",
    "mean_silhouette"
   ]
  },
  {
   "attachments": {},
   "cell_type": "markdown",
   "metadata": {},
   "source": [
    "**PROBAR CON MAS DISTANCIAS. RECORDAR QUE AHORA SE PUEDEN UAR DATOS DE TIPO MIXTO (y con ello distancias tipo mixto)**"
   ]
  },
  {
   "cell_type": "markdown",
   "metadata": {},
   "source": []
  },
  {
   "attachments": {},
   "cell_type": "markdown",
   "metadata": {},
   "source": [
    "### K-Medoids con libreria `Kmedoids`"
   ]
  },
  {
   "cell_type": "code",
   "execution_count": 246,
   "metadata": {},
   "outputs": [],
   "source": [
    "import kmedoids"
   ]
  },
  {
   "cell_type": "code",
   "execution_count": null,
   "metadata": {},
   "outputs": [],
   "source": [
    "D_euclidean = Matrix_Dist_Euclidea(Data=Data_quant)\n",
    "\n",
    "D_euclidean = D_euclidean + D_euclidean.T"
   ]
  },
  {
   "cell_type": "code",
   "execution_count": 264,
   "metadata": {},
   "outputs": [],
   "source": [
    "k_medoids_init = kmedoids.fastermsc(diss=D_euclidean , medoids=4 , max_iter=100, init='random', random_state=123)"
   ]
  },
  {
   "cell_type": "code",
   "execution_count": 265,
   "metadata": {},
   "outputs": [
    {
     "data": {
      "text/plain": [
       "array([2, 2, 3, ..., 2, 3, 3], dtype=uint64)"
      ]
     },
     "execution_count": 265,
     "metadata": {},
     "output_type": "execute_result"
    }
   ],
   "source": [
    "k_medoids_init.labels"
   ]
  },
  {
   "cell_type": "code",
   "execution_count": 266,
   "metadata": {},
   "outputs": [
    {
     "data": {
      "text/plain": [
       "array([382,   6,   5,   2], dtype=uint64)"
      ]
     },
     "execution_count": 266,
     "metadata": {},
     "output_type": "execute_result"
    }
   ],
   "source": [
    "k_medoids_init.medoids"
   ]
  },
  {
   "cell_type": "code",
   "execution_count": 267,
   "metadata": {},
   "outputs": [
    {
     "data": {
      "text/html": [
       "<div>\n",
       "<style scoped>\n",
       "    .dataframe tbody tr th:only-of-type {\n",
       "        vertical-align: middle;\n",
       "    }\n",
       "\n",
       "    .dataframe tbody tr th {\n",
       "        vertical-align: top;\n",
       "    }\n",
       "\n",
       "    .dataframe thead th {\n",
       "        text-align: right;\n",
       "    }\n",
       "</style>\n",
       "<table border=\"1\" class=\"dataframe\">\n",
       "  <thead>\n",
       "    <tr style=\"text-align: right;\">\n",
       "      <th></th>\n",
       "      <th>observations</th>\n",
       "      <th>cluster</th>\n",
       "    </tr>\n",
       "  </thead>\n",
       "  <tbody>\n",
       "    <tr>\n",
       "      <th>0</th>\n",
       "      <td>0</td>\n",
       "      <td>2</td>\n",
       "    </tr>\n",
       "    <tr>\n",
       "      <th>1</th>\n",
       "      <td>1</td>\n",
       "      <td>2</td>\n",
       "    </tr>\n",
       "    <tr>\n",
       "      <th>2</th>\n",
       "      <td>2</td>\n",
       "      <td>3</td>\n",
       "    </tr>\n",
       "    <tr>\n",
       "      <th>3</th>\n",
       "      <td>3</td>\n",
       "      <td>2</td>\n",
       "    </tr>\n",
       "    <tr>\n",
       "      <th>4</th>\n",
       "      <td>4</td>\n",
       "      <td>3</td>\n",
       "    </tr>\n",
       "    <tr>\n",
       "      <th>...</th>\n",
       "      <td>...</td>\n",
       "      <td>...</td>\n",
       "    </tr>\n",
       "    <tr>\n",
       "      <th>1900</th>\n",
       "      <td>1900</td>\n",
       "      <td>3</td>\n",
       "    </tr>\n",
       "    <tr>\n",
       "      <th>1901</th>\n",
       "      <td>1901</td>\n",
       "      <td>3</td>\n",
       "    </tr>\n",
       "    <tr>\n",
       "      <th>1902</th>\n",
       "      <td>1902</td>\n",
       "      <td>2</td>\n",
       "    </tr>\n",
       "    <tr>\n",
       "      <th>1903</th>\n",
       "      <td>1903</td>\n",
       "      <td>3</td>\n",
       "    </tr>\n",
       "    <tr>\n",
       "      <th>1904</th>\n",
       "      <td>1904</td>\n",
       "      <td>3</td>\n",
       "    </tr>\n",
       "  </tbody>\n",
       "</table>\n",
       "<p>1905 rows × 2 columns</p>\n",
       "</div>"
      ],
      "text/plain": [
       "      observations  cluster\n",
       "0                0        2\n",
       "1                1        2\n",
       "2                2        3\n",
       "3                3        2\n",
       "4                4        3\n",
       "...            ...      ...\n",
       "1900          1900        3\n",
       "1901          1901        3\n",
       "1902          1902        2\n",
       "1903          1903        3\n",
       "1904          1904        3\n",
       "\n",
       "[1905 rows x 2 columns]"
      ]
     },
     "execution_count": 267,
     "metadata": {},
     "output_type": "execute_result"
    }
   ],
   "source": [
    "df_clusters =  pd.DataFrame( {'observations': range(0,len(Data)) ,  'cluster': k_medoids_init.labels} )\n",
    "df_clusters"
   ]
  },
  {
   "cell_type": "code",
   "execution_count": 268,
   "metadata": {},
   "outputs": [],
   "source": [
    "df_silhouette , mean_silhouette = silhouette(Distance_Matrix=D_euclidean, k=4, df_clusters=df_clusters)"
   ]
  },
  {
   "cell_type": "code",
   "execution_count": 269,
   "metadata": {},
   "outputs": [
    {
     "data": {
      "text/plain": [
       "0.6338676522914983"
      ]
     },
     "execution_count": 269,
     "metadata": {},
     "output_type": "execute_result"
    }
   ],
   "source": [
    "mean_silhouette"
   ]
  }
 ],
 "metadata": {
  "kernelspec": {
   "display_name": "Python 3",
   "language": "python",
   "name": "python3"
  },
  "language_info": {
   "codemirror_mode": {
    "name": "ipython",
    "version": 3
   },
   "file_extension": ".py",
   "mimetype": "text/x-python",
   "name": "python",
   "nbconvert_exporter": "python",
   "pygments_lexer": "ipython3",
   "version": "3.10.0"
  },
  "orig_nbformat": 4,
  "vscode": {
   "interpreter": {
    "hash": "c63d8c7d738c2960218a10995aedf0a7f67a49a231e71037adf0440953cdb45b"
   }
  }
 },
 "nbformat": 4,
 "nbformat_minor": 2
}
