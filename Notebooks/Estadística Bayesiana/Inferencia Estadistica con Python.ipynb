{
 "cells": [
  {
   "cell_type": "code",
   "execution_count": 1,
   "metadata": {},
   "outputs": [],
   "source": [
    "import numpy as np"
   ]
  },
  {
   "cell_type": "code",
   "execution_count": 61,
   "metadata": {},
   "outputs": [],
   "source": [
    "import scipy\n",
    "\n",
    "from scipy.stats import bernoulli"
   ]
  },
  {
   "cell_type": "code",
   "execution_count": 8,
   "metadata": {},
   "outputs": [
    {
     "data": {
      "text/plain": [
       "0.8"
      ]
     },
     "execution_count": 8,
     "metadata": {},
     "output_type": "execute_result"
    }
   ],
   "source": [
    "bernoulli.pmf(k=1, p=0.8, loc=0)"
   ]
  },
  {
   "cell_type": "code",
   "execution_count": 9,
   "metadata": {},
   "outputs": [
    {
     "data": {
      "text/plain": [
       "0.19999999999999996"
      ]
     },
     "execution_count": 9,
     "metadata": {},
     "output_type": "execute_result"
    }
   ],
   "source": [
    "bernoulli.pmf(k=0, p=0.8, loc=0)"
   ]
  },
  {
   "cell_type": "code",
   "execution_count": 10,
   "metadata": {},
   "outputs": [
    {
     "data": {
      "text/plain": [
       "0.0"
      ]
     },
     "execution_count": 10,
     "metadata": {},
     "output_type": "execute_result"
    }
   ],
   "source": [
    "bernoulli.pmf(k=2, p=0.8, loc=0)"
   ]
  },
  {
   "cell_type": "code",
   "execution_count": 13,
   "metadata": {},
   "outputs": [
    {
     "data": {
      "text/plain": [
       "1.0"
      ]
     },
     "execution_count": 13,
     "metadata": {},
     "output_type": "execute_result"
    }
   ],
   "source": [
    "bernoulli.cdf(k=1, p=0.8, loc=0)"
   ]
  },
  {
   "cell_type": "code",
   "execution_count": 14,
   "metadata": {},
   "outputs": [
    {
     "data": {
      "text/plain": [
       "1.0"
      ]
     },
     "execution_count": 14,
     "metadata": {},
     "output_type": "execute_result"
    }
   ],
   "source": [
    "bernoulli.cdf(k=2, p=0.8, loc=0)"
   ]
  },
  {
   "cell_type": "code",
   "execution_count": 15,
   "metadata": {},
   "outputs": [
    {
     "data": {
      "text/plain": [
       "0.19999999999999996"
      ]
     },
     "execution_count": 15,
     "metadata": {},
     "output_type": "execute_result"
    }
   ],
   "source": [
    "bernoulli.cdf(k=0.6, p=0.8, loc=0)"
   ]
  },
  {
   "cell_type": "code",
   "execution_count": 16,
   "metadata": {},
   "outputs": [
    {
     "data": {
      "text/plain": [
       "0.0"
      ]
     },
     "execution_count": 16,
     "metadata": {},
     "output_type": "execute_result"
    }
   ],
   "source": [
    "bernoulli.cdf(k=-2, p=0.8, loc=0)"
   ]
  },
  {
   "cell_type": "code",
   "execution_count": 21,
   "metadata": {},
   "outputs": [],
   "source": [
    "mean , var , skew , kurtosis = bernoulli.stats(p=0.8, loc=0, moments='mvsk')"
   ]
  },
  {
   "cell_type": "code",
   "execution_count": 22,
   "metadata": {},
   "outputs": [
    {
     "data": {
      "text/plain": [
       "array(0.8)"
      ]
     },
     "execution_count": 22,
     "metadata": {},
     "output_type": "execute_result"
    }
   ],
   "source": [
    "mean"
   ]
  },
  {
   "cell_type": "code",
   "execution_count": 23,
   "metadata": {},
   "outputs": [
    {
     "data": {
      "text/plain": [
       "array(0.16)"
      ]
     },
     "execution_count": 23,
     "metadata": {},
     "output_type": "execute_result"
    }
   ],
   "source": [
    "var"
   ]
  },
  {
   "cell_type": "code",
   "execution_count": 24,
   "metadata": {},
   "outputs": [
    {
     "data": {
      "text/plain": [
       "array(-1.5)"
      ]
     },
     "execution_count": 24,
     "metadata": {},
     "output_type": "execute_result"
    }
   ],
   "source": [
    "skew"
   ]
  },
  {
   "cell_type": "code",
   "execution_count": 25,
   "metadata": {},
   "outputs": [
    {
     "data": {
      "text/plain": [
       "array(0.25)"
      ]
     },
     "execution_count": 25,
     "metadata": {},
     "output_type": "execute_result"
    }
   ],
   "source": [
    "kurtosis"
   ]
  },
  {
   "cell_type": "code",
   "execution_count": 46,
   "metadata": {},
   "outputs": [
    {
     "data": {
      "text/plain": [
       "1.0"
      ]
     },
     "execution_count": 46,
     "metadata": {},
     "output_type": "execute_result"
    }
   ],
   "source": [
    "bernoulli.median(p=0.8, loc=0)"
   ]
  },
  {
   "cell_type": "code",
   "execution_count": 73,
   "metadata": {},
   "outputs": [
    {
     "data": {
      "text/plain": [
       "array([1, 1, 1, 1, 1, 1, 0, 1, 1, 1, 1, 1, 1, 1, 1, 1, 1, 1, 1, 1, 1, 0,\n",
       "       1, 1, 1, 1, 1, 1, 1, 1, 1, 1, 1, 1, 1, 1, 1, 0, 0, 1, 1, 1, 1, 1,\n",
       "       0, 1, 1, 0, 1, 1, 1, 0, 1, 1, 1, 1, 1, 1, 0, 1, 1, 1, 1, 1, 0, 1,\n",
       "       1, 1, 1, 1, 1, 0, 1, 1, 1, 1, 1, 1, 1, 1, 1, 1, 1, 1, 0, 0, 1, 1,\n",
       "       1, 1, 1, 0, 1, 1, 1, 1, 1, 1, 1, 1, 1, 1, 1, 1, 1, 1, 0, 1, 0, 1,\n",
       "       1, 1, 1, 0, 1, 1, 1, 1, 1, 0, 0, 1, 1, 1, 0, 0, 1, 1, 0, 1, 1, 1,\n",
       "       1, 0, 0, 1, 1, 1, 1, 1, 1, 1, 0, 1, 1, 1, 1, 1, 1, 0, 1, 1, 1, 1,\n",
       "       1, 1, 1, 0, 1, 1, 1, 1, 1, 1, 1, 0, 1, 0, 1, 1, 1, 1, 0, 0, 0, 1,\n",
       "       1, 1, 1, 1, 1, 1, 1, 0, 1, 0, 1, 1, 0, 1, 1, 1, 1, 1, 1, 1, 1, 1,\n",
       "       1, 1, 1, 1, 1, 0, 1, 1, 1, 1, 1, 1, 1, 1, 1, 1, 1, 1, 1, 1, 0, 1,\n",
       "       1, 0, 1, 0, 0, 1, 1, 1, 1, 1, 1, 1, 1, 0, 0, 1, 1, 0, 1, 1, 1, 1,\n",
       "       0, 1, 1, 1, 0, 1, 1, 1, 1, 1, 1, 1, 1, 0, 1, 0, 1, 1, 1, 1, 0, 1,\n",
       "       1, 1, 1, 1, 1, 1, 1, 1, 1, 1, 1, 1, 1, 1, 1, 1, 0, 1, 1, 1, 1, 1,\n",
       "       0, 0, 1, 0, 1, 0, 1, 0, 1, 0, 0, 0, 1, 1, 1, 1, 1, 1, 1, 0, 1, 1,\n",
       "       1, 1, 1, 1, 1, 1, 1, 0, 1, 0, 1, 1, 1, 1, 0, 1, 1, 1, 1, 0, 1, 0,\n",
       "       1, 0, 1, 0, 1, 1, 1, 1, 1, 1, 0, 0, 1, 1, 1, 1, 1, 1, 0, 0, 1, 0,\n",
       "       1, 1, 1, 1, 1, 1, 1, 1, 1, 1, 1, 1, 1, 1, 1, 1, 1, 1, 0, 1, 1, 1,\n",
       "       1, 1, 0, 1, 1, 1, 1, 0, 1, 1, 1, 1, 1, 0, 1, 1, 1, 1, 0, 1, 1, 1,\n",
       "       1, 1, 1, 0, 1, 1, 0, 1, 0, 1, 1, 1, 1, 1, 1, 1, 0, 1, 1, 1, 1, 1,\n",
       "       1, 0, 1, 1, 0, 0, 1, 0, 0, 1, 1, 1, 1, 1, 1, 1, 1, 1, 0, 1, 1, 1,\n",
       "       1, 1, 0, 1, 1, 0, 0, 1, 1, 1, 1, 0, 1, 1, 0, 1, 1, 1, 1, 0, 1, 1,\n",
       "       1, 0, 1, 1, 1, 1, 1, 1, 1, 1, 1, 1, 0, 1, 1, 1, 1, 1, 1, 1, 1, 1,\n",
       "       1, 1, 1, 1, 0, 1, 1, 0, 0, 1, 1, 0, 0, 0, 1, 1, 1, 1, 0, 1, 0, 1,\n",
       "       1, 1, 0, 1, 0, 0, 0, 1, 1, 1, 1, 0, 1, 1, 1, 1, 0, 1, 1, 1, 1, 1,\n",
       "       1, 1, 1, 0, 1, 1, 1, 1, 1, 1, 1, 1, 1, 1, 1, 1, 1, 1, 1, 1, 1, 0,\n",
       "       1, 1, 1, 1, 1, 0, 1, 1, 1, 1, 1, 1, 1, 1, 0, 1, 1, 1, 1, 1, 1, 1,\n",
       "       1, 0, 1, 0, 1, 0, 0, 0, 1, 0, 1, 1, 1, 1, 1, 1, 1, 1, 1, 1, 1, 1,\n",
       "       1, 1, 1, 1, 1, 1, 1, 1, 0, 0, 1, 1, 1, 1, 1, 1, 1, 1, 1, 0, 1, 1,\n",
       "       1, 0, 0, 1, 0, 1, 1, 0, 0, 1, 1, 1, 1, 1, 1, 1, 1, 0, 1, 1, 1, 0,\n",
       "       1, 1, 1, 0, 0, 1, 1, 1, 0, 0, 1, 1, 1, 1, 1, 0, 0, 1, 1, 1, 1, 0,\n",
       "       1, 0, 1, 1, 1, 0, 1, 1, 1, 1, 1, 1, 0, 1, 1, 1, 0, 1, 1, 1, 0, 1,\n",
       "       1, 1, 1, 0, 0, 1, 1, 1, 1, 1, 1, 1, 1, 0, 0, 1, 1, 0, 0, 1, 1, 1,\n",
       "       0, 1, 1, 0, 1, 1, 1, 1, 1, 1, 0, 1, 1, 1, 1, 1, 1, 0, 0, 1, 1, 1,\n",
       "       1, 0, 1, 1, 1, 1, 1, 1, 1, 0, 1, 1, 1, 1, 1, 1, 1, 1, 1, 1, 0, 0,\n",
       "       0, 1, 1, 1, 1, 1, 1, 1, 1, 1, 1, 0, 1, 1, 1, 0, 1, 1, 1, 0, 1, 1,\n",
       "       0, 1, 1, 0, 0, 1, 1, 1, 0, 0, 0, 1, 1, 1, 1, 0, 0, 0, 1, 1, 1, 1,\n",
       "       1, 1, 1, 1, 1, 1, 1, 1, 1, 1, 1, 0, 0, 1, 1, 0, 1, 1, 1, 1, 1, 0,\n",
       "       1, 1, 1, 1, 0, 1, 1, 1, 0, 0, 1, 1, 1, 1, 1, 0, 1, 0, 1, 1, 1, 1,\n",
       "       1, 1, 0, 1, 1, 1, 1, 1, 0, 1, 1, 1, 1, 1, 1, 0, 1, 1, 0, 1, 1, 1,\n",
       "       1, 0, 1, 0, 1, 0, 1, 1, 1, 1, 0, 1, 1, 1, 1, 1, 1, 1, 1, 1, 1, 1,\n",
       "       1, 1, 1, 1, 1, 1, 0, 1, 1, 1, 1, 1, 1, 1, 1, 1, 1, 0, 1, 1, 0, 1,\n",
       "       1, 1, 0, 1, 1, 0, 1, 0, 1, 1, 1, 1, 0, 1, 0, 1, 1, 1, 1, 1, 1, 1,\n",
       "       1, 1, 1, 1, 0, 1, 1, 1, 1, 1, 1, 1, 0, 1, 1, 1, 1, 1, 1, 1, 1, 0,\n",
       "       1, 1, 1, 1, 1, 1, 0, 1, 0, 1, 1, 1, 1, 1, 1, 1, 1, 1, 1, 1, 1, 1,\n",
       "       1, 1, 1, 1, 1, 1, 1, 1, 1, 1, 1, 0, 1, 1, 1, 1, 1, 1, 1, 1, 0, 1,\n",
       "       1, 1, 1, 1, 1, 1, 1, 1, 1, 1], dtype=int64)"
      ]
     },
     "execution_count": 73,
     "metadata": {},
     "output_type": "execute_result"
    }
   ],
   "source": [
    "sample_ber = bernoulli.rvs(p=0.8, loc=0, size=1000, random_state=123)\n",
    "\n",
    "sample_ber"
   ]
  },
  {
   "cell_type": "code",
   "execution_count": 74,
   "metadata": {},
   "outputs": [
    {
     "data": {
      "text/plain": [
       "0.802"
      ]
     },
     "execution_count": 74,
     "metadata": {},
     "output_type": "execute_result"
    }
   ],
   "source": [
    "sample_ber.mean()"
   ]
  },
  {
   "cell_type": "code",
   "execution_count": 75,
   "metadata": {},
   "outputs": [
    {
     "data": {
      "text/plain": [
       "0.158796"
      ]
     },
     "execution_count": 75,
     "metadata": {},
     "output_type": "execute_result"
    }
   ],
   "source": [
    "sample_ber.var()"
   ]
  },
  {
   "cell_type": "code",
   "execution_count": 76,
   "metadata": {},
   "outputs": [
    {
     "data": {
      "text/plain": [
       "1.0"
      ]
     },
     "execution_count": 76,
     "metadata": {},
     "output_type": "execute_result"
    }
   ],
   "source": [
    "np.median(sample_ber)"
   ]
  },
  {
   "cell_type": "code",
   "execution_count": 70,
   "metadata": {},
   "outputs": [
    {
     "data": {
      "text/plain": [
       "1.0"
      ]
     },
     "execution_count": 70,
     "metadata": {},
     "output_type": "execute_result"
    }
   ],
   "source": [
    "np.quantile(sample_ber , 0.9)"
   ]
  },
  {
   "cell_type": "code",
   "execution_count": 77,
   "metadata": {},
   "outputs": [
    {
     "data": {
      "text/plain": [
       "-1.5157136416627344"
      ]
     },
     "execution_count": 77,
     "metadata": {},
     "output_type": "execute_result"
    }
   ],
   "source": [
    "scipy.stats.skew(sample_ber)"
   ]
  },
  {
   "cell_type": "code",
   "execution_count": 78,
   "metadata": {},
   "outputs": [
    {
     "data": {
      "text/plain": [
       "0.29738784352250835"
      ]
     },
     "execution_count": 78,
     "metadata": {},
     "output_type": "execute_result"
    }
   ],
   "source": [
    "scipy.stats.kurtosis(sample_ber, fisher=True)"
   ]
  },
  {
   "cell_type": "code",
   "execution_count": 17,
   "metadata": {},
   "outputs": [],
   "source": [
    "import seaborn as sns"
   ]
  },
  {
   "cell_type": "code",
   "execution_count": 81,
   "metadata": {},
   "outputs": [
    {
     "data": {
      "text/plain": [
       "<AxesSubplot:ylabel='Proportion'>"
      ]
     },
     "execution_count": 81,
     "metadata": {},
     "output_type": "execute_result"
    },
    {
     "data": {
      "image/png": "[encoded data removed]",
      "text/plain": [
       "<Figure size 432x288 with 1 Axes>"
      ]
     },
     "metadata": {
      "needs_background": "light"
     },
     "output_type": "display_data"
    }
   ],
   "source": [
    "sns.histplot(sample_ber, stat=\"proportion\")"
   ]
  },
  {
   "cell_type": "markdown",
   "metadata": {},
   "source": []
  },
  {
   "cell_type": "code",
   "execution_count": 2,
   "metadata": {},
   "outputs": [],
   "source": [
    "from scipy.stats import binom"
   ]
  },
  {
   "cell_type": "code",
   "execution_count": 8,
   "metadata": {},
   "outputs": [
    {
     "data": {
      "text/plain": [
       "0.09930021480882471"
      ]
     },
     "execution_count": 8,
     "metadata": {},
     "output_type": "execute_result"
    }
   ],
   "source": [
    "binom.pmf(k=80, n=100, p=0.8, loc=0)"
   ]
  },
  {
   "cell_type": "code",
   "execution_count": 11,
   "metadata": {},
   "outputs": [
    {
     "data": {
      "text/plain": [
       "0.5398386299354266"
      ]
     },
     "execution_count": 11,
     "metadata": {},
     "output_type": "execute_result"
    }
   ],
   "source": [
    "binom.cdf(k=80, n=100, p=0.8, loc=0)"
   ]
  },
  {
   "cell_type": "code",
   "execution_count": 12,
   "metadata": {},
   "outputs": [],
   "source": [
    "mean , var , skew , kurtosis = binom.stats(n=100, p=0.8, loc=0, moments='mvsk')"
   ]
  },
  {
   "cell_type": "code",
   "execution_count": 13,
   "metadata": {},
   "outputs": [
    {
     "data": {
      "text/plain": [
       "array(80.)"
      ]
     },
     "execution_count": 13,
     "metadata": {},
     "output_type": "execute_result"
    }
   ],
   "source": [
    "mean"
   ]
  },
  {
   "cell_type": "code",
   "execution_count": 14,
   "metadata": {},
   "outputs": [
    {
     "data": {
      "text/plain": [
       "array(16.)"
      ]
     },
     "execution_count": 14,
     "metadata": {},
     "output_type": "execute_result"
    }
   ],
   "source": [
    "var"
   ]
  },
  {
   "cell_type": "code",
   "execution_count": 15,
   "metadata": {},
   "outputs": [
    {
     "data": {
      "text/plain": [
       "array([78, 82, 83, 80, 78, 81, 71, 78, 80, 81, 82, 78, 81, 86, 81, 78, 84,\n",
       "       84, 80, 80, 79, 76, 78, 79, 78, 82, 82, 83, 82, 79, 85, 81, 81, 80,\n",
       "       81, 82, 81, 75, 74, 80, 79, 85, 82, 81, 76, 83, 80, 71, 80, 79, 85,\n",
       "       76, 79, 80, 82, 82, 81, 78, 75, 80, 78, 79, 79, 78, 76, 85, 77, 83,\n",
       "       83, 79, 85, 75, 79, 78, 88, 79, 80, 84, 84, 78, 82, 78, 80, 81, 74,\n",
       "       76, 82, 87, 82, 81, 78, 69, 82, 77, 79, 78, 84, 81, 83, 82, 80, 78,\n",
       "       85, 84, 82, 78, 76, 80, 76, 81, 82, 82, 84, 76, 82, 80, 79, 80, 90,\n",
       "       71, 75, 83, 82, 80, 75, 71, 83, 79, 77, 81, 78, 84, 79, 76, 71, 86,\n",
       "       81, 83, 81, 80, 85, 82, 74, 79, 81, 77, 77, 86, 78, 76, 84, 77, 82,\n",
       "       82, 78, 85, 78, 75, 78, 81, 81, 77, 79, 85, 79, 76, 82, 74, 77, 79,\n",
       "       77, 86, 76, 76, 75, 84, 85, 84, 81, 81, 79, 85, 83, 76, 80, 77, 89,\n",
       "       80, 74, 79, 83, 78, 81, 78, 87, 79, 87, 77, 80, 85, 80, 86, 79, 69,\n",
       "       77, 79, 85, 78, 78, 86, 77, 80, 81, 77, 81, 80, 84, 82, 76, 84, 81,\n",
       "       70, 83, 74, 74, 85, 80, 80, 82, 86, 83, 85, 83, 77, 75, 87, 82, 71,\n",
       "       80, 79, 90, 80, 71, 81, 85, 80, 73, 82, 77, 77, 83, 81, 78, 81, 84,\n",
       "       72, 79, 76, 88, 83, 80, 86, 70, 83, 81, 83, 85, 83, 82, 79, 82, 81,\n",
       "       89, 81, 80, 84, 79, 82, 79, 87, 75, 88, 85, 77, 87, 78, 72, 75, 78,\n",
       "       73, 81, 75, 82, 74, 84, 74, 76, 76, 85, 79, 88, 78, 89, 85, 83, 75,\n",
       "       81, 80, 79, 83, 79, 78, 82, 81, 81, 74, 79, 73, 80, 80, 90, 80, 74,\n",
       "       83, 86, 81, 81, 76, 87, 74, 78, 75, 79, 76, 82, 82, 81, 77, 81, 83,\n",
       "       74, 75, 82, 79, 82, 83, 82, 82, 75, 76, 78, 73, 81, 83, 85, 82, 84,\n",
       "       85, 79, 81, 79, 84, 78, 83, 82, 77, 79, 82, 80, 78, 75, 79, 83, 77,\n",
       "       77, 83, 76, 80, 77, 83, 82, 73, 78, 77, 78, 83, 80, 77, 78, 89, 85,\n",
       "       82, 73, 80, 83, 82, 83, 81, 83, 76, 81, 82, 74, 82, 75, 87, 78, 80,\n",
       "       81, 87, 87, 82, 73, 79, 81, 79, 83, 84, 82, 76, 80, 82, 73, 76, 82,\n",
       "       72, 71, 81, 78, 81, 83, 85, 83, 82, 81, 84, 73, 85, 79, 81, 81, 81,\n",
       "       76, 82, 88, 74, 76, 82, 80, 85, 85, 76, 81, 78, 74, 83, 88, 88, 78,\n",
       "       74, 80, 81, 80, 76, 79, 83, 77, 84, 84, 79, 83, 78, 82, 82, 67, 87,\n",
       "       79, 87, 77, 83, 85, 79, 78, 78, 86, 82, 81, 82, 77, 84, 79, 71, 75,\n",
       "       83, 93, 71, 75, 74, 81, 77, 83, 81, 76, 85, 75, 80, 81, 82, 74, 80,\n",
       "       77, 76, 74, 82, 82, 79, 81, 74, 81, 80, 79, 81, 70, 85, 83, 82, 84,\n",
       "       82, 77, 80, 87, 71, 79, 86, 78, 81, 84, 79, 78, 78, 83, 80, 80, 78,\n",
       "       82, 77, 79, 87, 80, 76, 79, 84, 80, 77, 85, 76, 84, 80, 81, 83, 79,\n",
       "       87, 77, 80, 75, 80, 87, 84, 77, 80, 81, 82, 82, 72, 81, 75, 79, 76,\n",
       "       76, 73, 78, 77, 78, 79, 78, 78, 87, 80, 77, 83, 80, 81, 81, 85, 80,\n",
       "       81, 78, 80, 87, 87, 78, 78, 73, 75, 80, 79, 81, 83, 81, 85, 78, 84,\n",
       "       80, 72, 87, 84, 82, 74, 75, 84, 71, 77, 80, 74, 75, 81, 78, 79, 82,\n",
       "       84, 80, 83, 82, 73, 80, 78, 82, 69, 78, 83, 85, 74, 73, 79, 88, 83,\n",
       "       77, 75, 81, 81, 82, 85, 85, 73, 77, 84, 83, 78, 77, 77, 84, 71, 83,\n",
       "       79, 79, 72, 78, 79, 80, 77, 85, 91, 73, 80, 82, 81, 77, 81, 77, 81,\n",
       "       76, 86, 80, 80, 83, 74, 75, 81, 85, 83, 82, 80, 82, 77, 80, 75, 69,\n",
       "       83, 79, 76, 73, 82, 78, 88, 75, 86, 78, 69, 80, 83, 79, 79, 78, 84,\n",
       "       75, 79, 87, 78, 83, 87, 80, 76, 76, 85, 78, 78, 82, 72, 82, 86, 80,\n",
       "       78, 83, 82, 79, 75, 77, 83, 83, 80, 77, 79, 80, 79, 77, 80, 75, 73,\n",
       "       74, 77, 83, 81, 82, 78, 82, 77, 85, 77, 79, 76, 81, 79, 80, 72, 77,\n",
       "       80, 84, 75, 83, 79, 74, 83, 83, 76, 76, 82, 83, 85, 71, 76, 75, 80,\n",
       "       85, 86, 82, 74, 73, 76, 84, 81, 83, 83, 78, 80, 82, 85, 80, 82, 81,\n",
       "       82, 81, 80, 88, 76, 74, 80, 83, 70, 81, 78, 78, 81, 83, 72, 86, 80,\n",
       "       83, 82, 76, 81, 85, 83, 76, 72, 83, 78, 85, 78, 81, 74, 82, 74, 80,\n",
       "       82, 79, 83, 83, 83, 73, 80, 77, 80, 79, 79, 72, 78, 83, 88, 83, 81,\n",
       "       81, 76, 77, 85, 73, 80, 79, 81, 79, 75, 78, 72, 78, 76, 87, 78, 78,\n",
       "       85, 76, 79, 85, 79, 80, 83, 88, 81, 79, 82, 82, 77, 77, 78, 85, 80,\n",
       "       80, 77, 75, 81, 81, 78, 78, 80, 82, 83, 84, 85, 85, 76, 81, 86, 75,\n",
       "       83, 83, 83, 72, 85, 78, 74, 78, 76, 83, 78, 78, 81, 75, 78, 75, 77,\n",
       "       80, 80, 81, 88, 80, 81, 84, 85, 81, 87, 71, 81, 81, 86, 81, 88, 87,\n",
       "       82, 76, 81, 88, 84, 77, 78, 77, 82, 82, 77, 81, 78, 79, 81, 86, 85,\n",
       "       75, 81, 69, 81, 83, 82, 82, 79, 88, 77, 81, 81, 80, 81, 80, 82, 81,\n",
       "       81, 80, 79, 83, 80, 79, 88, 80, 83, 81, 76, 82, 80, 88, 82, 79, 82,\n",
       "       83, 82, 73, 85, 80, 86, 80, 84, 79, 83, 78, 82, 90, 82],\n",
       "      dtype=int64)"
      ]
     },
     "execution_count": 15,
     "metadata": {},
     "output_type": "execute_result"
    }
   ],
   "source": [
    "sample_binom = binom.rvs(n=100, p=0.8, loc=0, size=1000, random_state=123)\n",
    "sample_binom"
   ]
  },
  {
   "cell_type": "code",
   "execution_count": 18,
   "metadata": {},
   "outputs": [
    {
     "data": {
      "text/plain": [
       "<AxesSubplot:ylabel='Proportion'>"
      ]
     },
     "execution_count": 18,
     "metadata": {},
     "output_type": "execute_result"
    },
    {
     "data": {
      "image/png": "[encoded data removed]",
      "text/plain": [
       "<Figure size 432x288 with 1 Axes>"
      ]
     },
     "metadata": {
      "needs_background": "light"
     },
     "output_type": "display_data"
    }
   ],
   "source": [
    "sns.histplot(sample_binom, stat=\"proportion\")"
   ]
  },
  {
   "cell_type": "markdown",
   "metadata": {},
   "source": []
  },
  {
   "cell_type": "code",
   "execution_count": 4,
   "metadata": {},
   "outputs": [],
   "source": [
    "from scipy.stats import uniform"
   ]
  },
  {
   "cell_type": "code",
   "execution_count": 5,
   "metadata": {},
   "outputs": [
    {
     "data": {
      "text/plain": [
       "array([0.001, 0.5  , 0.999])"
      ]
     },
     "execution_count": 5,
     "metadata": {},
     "output_type": "execute_result"
    }
   ],
   "source": [
    "uniform.ppf([0.001, 0.5, 0.999])"
   ]
  },
  {
   "cell_type": "code",
   "execution_count": 3,
   "metadata": {},
   "outputs": [
    {
     "data": {
      "text/plain": [
       "array([0.2016696 , 0.70866049, 0.74827912, 0.51997799, 0.31073059,\n",
       "       0.51252331, 0.72323022, 0.04915694, 0.39855698, 0.26544115,\n",
       "       0.24420624, 0.6635842 , 0.72312708, 0.26802115, 0.30777491,\n",
       "       0.21836025, 0.33857755, 0.29982507, 0.90142975, 0.8663254 ,\n",
       "       0.85067988, 0.92135971, 0.85671308, 0.93008745, 0.70152772,\n",
       "       0.88999402, 0.08956721, 0.58997436, 0.12095579, 0.81709647,\n",
       "       0.7066553 , 0.84888037, 0.31408969, 0.34026528, 0.98980383,\n",
       "       0.94185474, 0.25040105, 0.77107913, 0.61412945, 0.53289449,\n",
       "       0.11553978, 0.45970504, 0.0214858 , 0.40066703, 0.53253258,\n",
       "       0.42909038, 0.02711225, 0.67662838, 0.71849125, 0.45672417,\n",
       "       0.85929677, 0.43636854, 0.65147412, 0.94919428, 0.59786926,\n",
       "       0.97832365, 0.33598555, 0.85007104, 0.97438975, 0.44963365,\n",
       "       0.18623005, 0.21295541, 0.53907717, 0.49424231, 0.58078126,\n",
       "       0.03066392, 0.41976899, 0.80917482, 0.21555126, 0.8978678 ,\n",
       "       0.46023643, 0.50287096, 0.92967911, 0.56816226, 0.36239989,\n",
       "       0.16588486, 0.24732721, 0.51540517, 0.69465355, 0.4790553 ,\n",
       "       0.46331326, 0.3413869 , 0.45231744, 0.79533472, 0.33114012,\n",
       "       0.20601328, 0.73060086, 0.96659838, 0.47132267, 0.78600454,\n",
       "       0.18891973, 0.24884692, 0.10686604, 0.31807087, 0.66970789,\n",
       "       0.05675592, 0.44307691, 0.38903328, 0.15759001, 0.91858271])"
      ]
     },
     "execution_count": 3,
     "metadata": {},
     "output_type": "execute_result"
    }
   ],
   "source": [
    "np.random.uniform(low=0.0, high=1.0, size=100)"
   ]
  }
 ],
 "metadata": {
  "kernelspec": {
   "display_name": "Python 3.10.0 64-bit",
   "language": "python",
   "name": "python3"
  },
  "language_info": {
   "codemirror_mode": {
    "name": "ipython",
    "version": 3
   },
   "file_extension": ".py",
   "mimetype": "text/x-python",
   "name": "python",
   "nbconvert_exporter": "python",
   "pygments_lexer": "ipython3",
   "version": "3.10.0"
  },
  "orig_nbformat": 4,
  "vscode": {
   "interpreter": {
    "hash": "c63d8c7d738c2960218a10995aedf0a7f67a49a231e71037adf0440953cdb45b"
   }
  }
 },
 "nbformat": 4,
 "nbformat_minor": 2
}
