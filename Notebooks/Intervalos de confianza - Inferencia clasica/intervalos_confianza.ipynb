{
 "cells": [
  {
   "cell_type": "code",
   "execution_count": 1,
   "metadata": {},
   "outputs": [],
   "source": [
    "import numpy as np\n",
    "import pandas as pd"
   ]
  },
  {
   "cell_type": "code",
   "execution_count": 2,
   "metadata": {},
   "outputs": [],
   "source": [
    "Data = pd.read_csv('House_Price_Regression.csv')"
   ]
  },
  {
   "cell_type": "code",
   "execution_count": 3,
   "metadata": {
    "slideshow": {
     "slide_type": "slide"
    }
   },
   "outputs": [
    {
     "data": {
      "text/html": [
       "<div>\n",
       "<style scoped>\n",
       "    .dataframe tbody tr th:only-of-type {\n",
       "        vertical-align: middle;\n",
       "    }\n",
       "\n",
       "    .dataframe tbody tr th {\n",
       "        vertical-align: top;\n",
       "    }\n",
       "\n",
       "    .dataframe thead th {\n",
       "        text-align: right;\n",
       "    }\n",
       "</style>\n",
       "<table border=\"1\" class=\"dataframe\">\n",
       "  <thead>\n",
       "    <tr style=\"text-align: right;\">\n",
       "      <th></th>\n",
       "      <th>neighborhood_recode</th>\n",
       "      <th>latitude</th>\n",
       "      <th>longitude</th>\n",
       "      <th>price</th>\n",
       "      <th>no_of_bedrooms</th>\n",
       "      <th>no_of_bathrooms</th>\n",
       "      <th>quality_recode</th>\n",
       "      <th>maid_room_recode</th>\n",
       "      <th>unfurnished_recode</th>\n",
       "      <th>balcony_recode</th>\n",
       "      <th>...</th>\n",
       "      <th>private_garden_recode</th>\n",
       "      <th>private_gym_recode</th>\n",
       "      <th>private_jacuzzi_recode</th>\n",
       "      <th>private_pool_recode</th>\n",
       "      <th>security_recode</th>\n",
       "      <th>shared_gym_recode</th>\n",
       "      <th>shared_pool_recode</th>\n",
       "      <th>shared_spa_recode</th>\n",
       "      <th>view_of_water_recode</th>\n",
       "      <th>size_in_m_2</th>\n",
       "    </tr>\n",
       "  </thead>\n",
       "  <tbody>\n",
       "    <tr>\n",
       "      <th>0</th>\n",
       "      <td>46.0</td>\n",
       "      <td>25.113208</td>\n",
       "      <td>55.138932</td>\n",
       "      <td>2700000</td>\n",
       "      <td>1</td>\n",
       "      <td>2</td>\n",
       "      <td>2.0</td>\n",
       "      <td>0.0</td>\n",
       "      <td>0.0</td>\n",
       "      <td>1.0</td>\n",
       "      <td>...</td>\n",
       "      <td>0.0</td>\n",
       "      <td>0.0</td>\n",
       "      <td>0.0</td>\n",
       "      <td>0.0</td>\n",
       "      <td>0.0</td>\n",
       "      <td>1.0</td>\n",
       "      <td>0.0</td>\n",
       "      <td>0.0</td>\n",
       "      <td>1.0</td>\n",
       "      <td>100.242337</td>\n",
       "    </tr>\n",
       "    <tr>\n",
       "      <th>1</th>\n",
       "      <td>46.0</td>\n",
       "      <td>25.106809</td>\n",
       "      <td>55.151201</td>\n",
       "      <td>2850000</td>\n",
       "      <td>2</td>\n",
       "      <td>2</td>\n",
       "      <td>2.0</td>\n",
       "      <td>0.0</td>\n",
       "      <td>0.0</td>\n",
       "      <td>1.0</td>\n",
       "      <td>...</td>\n",
       "      <td>0.0</td>\n",
       "      <td>0.0</td>\n",
       "      <td>0.0</td>\n",
       "      <td>0.0</td>\n",
       "      <td>0.0</td>\n",
       "      <td>1.0</td>\n",
       "      <td>1.0</td>\n",
       "      <td>0.0</td>\n",
       "      <td>1.0</td>\n",
       "      <td>146.972546</td>\n",
       "    </tr>\n",
       "    <tr>\n",
       "      <th>2</th>\n",
       "      <td>36.0</td>\n",
       "      <td>25.063302</td>\n",
       "      <td>55.137728</td>\n",
       "      <td>1150000</td>\n",
       "      <td>3</td>\n",
       "      <td>5</td>\n",
       "      <td>2.0</td>\n",
       "      <td>1.0</td>\n",
       "      <td>1.0</td>\n",
       "      <td>1.0</td>\n",
       "      <td>...</td>\n",
       "      <td>0.0</td>\n",
       "      <td>0.0</td>\n",
       "      <td>1.0</td>\n",
       "      <td>0.0</td>\n",
       "      <td>1.0</td>\n",
       "      <td>1.0</td>\n",
       "      <td>1.0</td>\n",
       "      <td>0.0</td>\n",
       "      <td>1.0</td>\n",
       "      <td>181.253753</td>\n",
       "    </tr>\n",
       "    <tr>\n",
       "      <th>3</th>\n",
       "      <td>11.0</td>\n",
       "      <td>25.227295</td>\n",
       "      <td>55.341761</td>\n",
       "      <td>2850000</td>\n",
       "      <td>2</td>\n",
       "      <td>3</td>\n",
       "      <td>1.0</td>\n",
       "      <td>0.0</td>\n",
       "      <td>1.0</td>\n",
       "      <td>1.0</td>\n",
       "      <td>...</td>\n",
       "      <td>0.0</td>\n",
       "      <td>0.0</td>\n",
       "      <td>0.0</td>\n",
       "      <td>0.0</td>\n",
       "      <td>0.0</td>\n",
       "      <td>0.0</td>\n",
       "      <td>0.0</td>\n",
       "      <td>0.0</td>\n",
       "      <td>0.0</td>\n",
       "      <td>187.664060</td>\n",
       "    </tr>\n",
       "    <tr>\n",
       "      <th>4</th>\n",
       "      <td>46.0</td>\n",
       "      <td>25.114275</td>\n",
       "      <td>55.139764</td>\n",
       "      <td>1729200</td>\n",
       "      <td>0</td>\n",
       "      <td>1</td>\n",
       "      <td>2.0</td>\n",
       "      <td>0.0</td>\n",
       "      <td>0.0</td>\n",
       "      <td>0.0</td>\n",
       "      <td>...</td>\n",
       "      <td>0.0</td>\n",
       "      <td>0.0</td>\n",
       "      <td>0.0</td>\n",
       "      <td>0.0</td>\n",
       "      <td>1.0</td>\n",
       "      <td>1.0</td>\n",
       "      <td>1.0</td>\n",
       "      <td>1.0</td>\n",
       "      <td>1.0</td>\n",
       "      <td>47.101821</td>\n",
       "    </tr>\n",
       "  </tbody>\n",
       "</table>\n",
       "<p>5 rows × 29 columns</p>\n",
       "</div>"
      ],
      "text/plain": [
       "   neighborhood_recode   latitude  longitude    price  no_of_bedrooms  \\\n",
       "0                 46.0  25.113208  55.138932  2700000               1   \n",
       "1                 46.0  25.106809  55.151201  2850000               2   \n",
       "2                 36.0  25.063302  55.137728  1150000               3   \n",
       "3                 11.0  25.227295  55.341761  2850000               2   \n",
       "4                 46.0  25.114275  55.139764  1729200               0   \n",
       "\n",
       "   no_of_bathrooms  quality_recode  maid_room_recode  unfurnished_recode  \\\n",
       "0                2             2.0               0.0                 0.0   \n",
       "1                2             2.0               0.0                 0.0   \n",
       "2                5             2.0               1.0                 1.0   \n",
       "3                3             1.0               0.0                 1.0   \n",
       "4                1             2.0               0.0                 0.0   \n",
       "\n",
       "   balcony_recode  ...  private_garden_recode  private_gym_recode  \\\n",
       "0             1.0  ...                    0.0                 0.0   \n",
       "1             1.0  ...                    0.0                 0.0   \n",
       "2             1.0  ...                    0.0                 0.0   \n",
       "3             1.0  ...                    0.0                 0.0   \n",
       "4             0.0  ...                    0.0                 0.0   \n",
       "\n",
       "   private_jacuzzi_recode  private_pool_recode  security_recode  \\\n",
       "0                     0.0                  0.0              0.0   \n",
       "1                     0.0                  0.0              0.0   \n",
       "2                     1.0                  0.0              1.0   \n",
       "3                     0.0                  0.0              0.0   \n",
       "4                     0.0                  0.0              1.0   \n",
       "\n",
       "   shared_gym_recode  shared_pool_recode  shared_spa_recode  \\\n",
       "0                1.0                 0.0                0.0   \n",
       "1                1.0                 1.0                0.0   \n",
       "2                1.0                 1.0                0.0   \n",
       "3                0.0                 0.0                0.0   \n",
       "4                1.0                 1.0                1.0   \n",
       "\n",
       "   view_of_water_recode  size_in_m_2  \n",
       "0                   1.0   100.242337  \n",
       "1                   1.0   146.972546  \n",
       "2                   1.0   181.253753  \n",
       "3                   0.0   187.664060  \n",
       "4                   1.0    47.101821  \n",
       "\n",
       "[5 rows x 29 columns]"
      ]
     },
     "execution_count": 3,
     "metadata": {},
     "output_type": "execute_result"
    }
   ],
   "source": [
    "Data.head()"
   ]
  },
  {
   "cell_type": "markdown",
   "metadata": {},
   "source": []
  },
  {
   "cell_type": "markdown",
   "metadata": {},
   "source": [
    "## Intervalo de confianza para la proporción"
   ]
  },
  {
   "cell_type": "markdown",
   "metadata": {},
   "source": [
    "### Intervalo para la variable Balcony y para Quality"
   ]
  },
  {
   "cell_type": "code",
   "execution_count": 4,
   "metadata": {},
   "outputs": [],
   "source": [
    "import scipy"
   ]
  },
  {
   "cell_type": "code",
   "execution_count": 5,
   "metadata": {},
   "outputs": [],
   "source": [
    "def CI_Proportion(Variable , alpha=0.05):\n",
    "\n",
    "    z_alpha_medios = scipy.stats.norm.ppf( 1 - alpha/2 , loc=0, scale=1)\n",
    "\n",
    "    X_mean = Variable.mean()\n",
    "\n",
    "    n = len(Variable)\n",
    "\n",
    "    L1 = X_mean - z_alpha_medios * np.sqrt(X_mean*(1-X_mean)/n)\n",
    "\n",
    "    L2 = X_mean + z_alpha_medios * np.sqrt(X_mean*(1-X_mean)/n)\n",
    "\n",
    "    interval = [L1 , L2]\n",
    "\n",
    "    return interval , X_mean"
   ]
  },
  {
   "cell_type": "code",
   "execution_count": 6,
   "metadata": {},
   "outputs": [],
   "source": [
    "Balcony = Data.balcony_recode # 1 = true , 0 = false"
   ]
  },
  {
   "cell_type": "code",
   "execution_count": 7,
   "metadata": {},
   "outputs": [],
   "source": [
    "intervalo , proporcion = CI_Proportion(Variable=Balcony , alpha=0.05)"
   ]
  },
  {
   "cell_type": "code",
   "execution_count": 8,
   "metadata": {},
   "outputs": [
    {
     "data": {
      "text/plain": [
       "[0.6995155465832295, 0.7398545321569281]"
      ]
     },
     "execution_count": 8,
     "metadata": {},
     "output_type": "execute_result"
    }
   ],
   "source": [
    "intervalo"
   ]
  },
  {
   "cell_type": "code",
   "execution_count": 9,
   "metadata": {},
   "outputs": [
    {
     "data": {
      "text/plain": [
       "0.7196850393700788"
      ]
     },
     "execution_count": 9,
     "metadata": {},
     "output_type": "execute_result"
    }
   ],
   "source": [
    "proporcion"
   ]
  },
  {
   "cell_type": "markdown",
   "metadata": {},
   "source": []
  },
  {
   "cell_type": "code",
   "execution_count": 10,
   "metadata": {},
   "outputs": [],
   "source": [
    "Quality_0 = pd.get_dummies(Data.quality_recode , drop_first=False).iloc[:,0] # 1 = quality low , 0 = not low\n",
    "Quality_1 = pd.get_dummies(Data.quality_recode , drop_first=False).iloc[:,1] # 1 = quality medium , 0 = not medium\n",
    "Quality_2 = pd.get_dummies(Data.quality_recode , drop_first=False).iloc[:,2] # 1 = quality high , 0 = not high\n",
    "Quality_3 = pd.get_dummies(Data.quality_recode , drop_first=False).iloc[:,3] # 1 = quality ultra , 0 = not ultra"
   ]
  },
  {
   "cell_type": "code",
   "execution_count": 11,
   "metadata": {},
   "outputs": [],
   "source": [
    "intervalo , proporcion = CI_Proportion(Variable=Quality_0 , alpha=0.05)"
   ]
  },
  {
   "cell_type": "code",
   "execution_count": 12,
   "metadata": {},
   "outputs": [
    {
     "data": {
      "text/plain": [
       "[0.05885789175110899, 0.08182452294705374]"
      ]
     },
     "execution_count": 12,
     "metadata": {},
     "output_type": "execute_result"
    }
   ],
   "source": [
    "intervalo"
   ]
  },
  {
   "cell_type": "code",
   "execution_count": 13,
   "metadata": {},
   "outputs": [
    {
     "data": {
      "text/plain": [
       "0.07034120734908136"
      ]
     },
     "execution_count": 13,
     "metadata": {},
     "output_type": "execute_result"
    }
   ],
   "source": [
    "proporcion"
   ]
  },
  {
   "cell_type": "code",
   "execution_count": 14,
   "metadata": {},
   "outputs": [],
   "source": [
    "intervalo , proporcion = CI_Proportion(Variable=Quality_1 , alpha=0.05)"
   ]
  },
  {
   "cell_type": "code",
   "execution_count": 15,
   "metadata": {},
   "outputs": [
    {
     "data": {
      "text/plain": [
       "[0.26528121372661256, 0.30584739519727194]"
      ]
     },
     "execution_count": 15,
     "metadata": {},
     "output_type": "execute_result"
    }
   ],
   "source": [
    "intervalo"
   ]
  },
  {
   "cell_type": "code",
   "execution_count": 16,
   "metadata": {},
   "outputs": [
    {
     "data": {
      "text/plain": [
       "0.28556430446194225"
      ]
     },
     "execution_count": 16,
     "metadata": {},
     "output_type": "execute_result"
    }
   ],
   "source": [
    "proporcion"
   ]
  },
  {
   "cell_type": "markdown",
   "metadata": {},
   "source": []
  },
  {
   "cell_type": "code",
   "execution_count": 17,
   "metadata": {},
   "outputs": [],
   "source": [
    "intervalo , proporcion = CI_Proportion(Variable=Quality_2 , alpha=0.05)"
   ]
  },
  {
   "cell_type": "code",
   "execution_count": 18,
   "metadata": {},
   "outputs": [
    {
     "data": {
      "text/plain": [
       "[0.5795901905178868, 0.6235594157813258]"
      ]
     },
     "execution_count": 18,
     "metadata": {},
     "output_type": "execute_result"
    }
   ],
   "source": [
    "intervalo"
   ]
  },
  {
   "cell_type": "code",
   "execution_count": 19,
   "metadata": {},
   "outputs": [
    {
     "data": {
      "text/plain": [
       "0.6015748031496063"
      ]
     },
     "execution_count": 19,
     "metadata": {},
     "output_type": "execute_result"
    }
   ],
   "source": [
    "proporcion"
   ]
  },
  {
   "cell_type": "markdown",
   "metadata": {},
   "source": []
  },
  {
   "cell_type": "code",
   "execution_count": 20,
   "metadata": {},
   "outputs": [],
   "source": [
    "intervalo , proporcion = CI_Proportion(Variable=Quality_3 , alpha=0.05)"
   ]
  },
  {
   "cell_type": "code",
   "execution_count": 21,
   "metadata": {},
   "outputs": [
    {
     "data": {
      "text/plain": [
       "[0.03345901015224513, 0.051580359926495026]"
      ]
     },
     "execution_count": 21,
     "metadata": {},
     "output_type": "execute_result"
    }
   ],
   "source": [
    "intervalo"
   ]
  },
  {
   "cell_type": "code",
   "execution_count": 22,
   "metadata": {},
   "outputs": [
    {
     "data": {
      "text/plain": [
       "0.04251968503937008"
      ]
     },
     "execution_count": 22,
     "metadata": {},
     "output_type": "execute_result"
    }
   ],
   "source": [
    "proporcion"
   ]
  },
  {
   "cell_type": "markdown",
   "metadata": {},
   "source": []
  },
  {
   "cell_type": "markdown",
   "metadata": {},
   "source": [
    "### Intervalo de confianza para la media con varianza desconocida"
   ]
  },
  {
   "cell_type": "code",
   "execution_count": 23,
   "metadata": {},
   "outputs": [],
   "source": [
    "def CI_Mean(Variable , alpha=0.05):\n",
    "\n",
    "    n = len(Variable)\n",
    "\n",
    "    t_alpha_medios = scipy.stats.t.ppf( 1 - alpha/2 , df=n-1)\n",
    "\n",
    "    X_mean = Variable.mean()\n",
    "\n",
    "    X_cuasi_var = Variable.std()**2 \n",
    "    \n",
    "    # std() esta definida por defecto como la cuasi-desviacion-tipica\n",
    "\n",
    "    L1 = X_mean - t_alpha_medios * np.sqrt(X_cuasi_var/n)\n",
    "\n",
    "    L2 = X_mean + t_alpha_medios * np.sqrt(X_cuasi_var/n)\n",
    "\n",
    "    interval = [L1 , L2]\n",
    "\n",
    "    return interval , X_mean"
   ]
  },
  {
   "cell_type": "code",
   "execution_count": 24,
   "metadata": {},
   "outputs": [],
   "source": [
    "Price = Data.price"
   ]
  },
  {
   "cell_type": "code",
   "execution_count": 25,
   "metadata": {},
   "outputs": [],
   "source": [
    "intervalo , media = CI_Mean(Variable=Price , alpha=0.05)"
   ]
  },
  {
   "cell_type": "code",
   "execution_count": 26,
   "metadata": {},
   "outputs": [
    {
     "data": {
      "text/plain": [
       "[1954927.6388481215, 2216732.108133506]"
      ]
     },
     "execution_count": 26,
     "metadata": {},
     "output_type": "execute_result"
    }
   ],
   "source": [
    "intervalo"
   ]
  },
  {
   "cell_type": "code",
   "execution_count": 27,
   "metadata": {},
   "outputs": [
    {
     "data": {
      "text/plain": [
       "2085829.8734908137"
      ]
     },
     "execution_count": 27,
     "metadata": {},
     "output_type": "execute_result"
    }
   ],
   "source": [
    "media"
   ]
  },
  {
   "cell_type": "markdown",
   "metadata": {},
   "source": []
  },
  {
   "cell_type": "markdown",
   "metadata": {},
   "source": [
    "### Intervalo de confianza para la varianza"
   ]
  },
  {
   "cell_type": "code",
   "execution_count": 28,
   "metadata": {},
   "outputs": [],
   "source": [
    "def CI_Variance(Variable , alpha=0.05):\n",
    "\n",
    "    n = len(Variable)\n",
    "\n",
    "    chi_alpha_medios = scipy.stats.chi.ppf( 1 - alpha/2 , df=n-1)\n",
    "\n",
    "    chi_1_alpha_medios = scipy.stats.chi.ppf(alpha/2 , df=n-1)\n",
    "\n",
    "    X_cuasi_var = Variable.std()**2 \n",
    "\n",
    "    X_var = ( (n-1)/n )*X_cuasi_var\n",
    "    \n",
    "    # std() esta definida por defecto como la cuasi-desviacion-tipica\n",
    "\n",
    "    L1 =  (n*X_var) / chi_alpha_medios\n",
    "\n",
    "    L2 = (n*X_var) / chi_1_alpha_medios\n",
    "\n",
    "    interval = [L1 , L2]\n",
    "\n",
    "    return interval , X_var "
   ]
  },
  {
   "cell_type": "code",
   "execution_count": 29,
   "metadata": {},
   "outputs": [
    {
     "data": {
      "text/plain": [
       "8486734015707.785"
      ]
     },
     "execution_count": 29,
     "metadata": {},
     "output_type": "execute_result"
    }
   ],
   "source": [
    "Price.std()**2"
   ]
  },
  {
   "cell_type": "code",
   "execution_count": 30,
   "metadata": {},
   "outputs": [],
   "source": [
    "intervalo , varianza = CI_Variance(Variable=Price , alpha=0.05)"
   ]
  },
  {
   "cell_type": "code",
   "execution_count": 31,
   "metadata": {},
   "outputs": [
    {
     "data": {
      "text/plain": [
       "[358920965766270.5, 382466627578853.0]"
      ]
     },
     "execution_count": 31,
     "metadata": {},
     "output_type": "execute_result"
    }
   ],
   "source": [
    "intervalo"
   ]
  },
  {
   "cell_type": "code",
   "execution_count": 32,
   "metadata": {},
   "outputs": [
    {
     "data": {
      "text/plain": [
       "8482279037221.85"
      ]
     },
     "execution_count": 32,
     "metadata": {},
     "output_type": "execute_result"
    }
   ],
   "source": [
    "varianza"
   ]
  },
  {
   "cell_type": "markdown",
   "metadata": {},
   "source": [
    "El intervalo no contiene a la varianza. Esto se debe a que n es demasiado grande. \n",
    "Este resultado intervalo es util para n no muy grande."
   ]
  },
  {
   "cell_type": "markdown",
   "metadata": {},
   "source": []
  },
  {
   "attachments": {},
   "cell_type": "markdown",
   "metadata": {},
   "source": [
    "### Intervalo de confianza para la diferencia de medias "
   ]
  },
  {
   "cell_type": "code",
   "execution_count": 39,
   "metadata": {},
   "outputs": [],
   "source": [
    "def CI_Mean_Diference(Variable1 , Variable2 , alpha=0.05):\n",
    "\n",
    "    X1 = Variable1\n",
    "    X2 = Variable2\n",
    "\n",
    "    n1 = len(X1) \n",
    "    n2 = len(X2)   \n",
    "\n",
    "    X1_mean = X1.mean()\n",
    "    X2_mean = X2.mean()\n",
    "\n",
    "    X1_cuasi_var = X1.std()**2 \n",
    "    X2_cuasi_var = X2.std()**2 \n",
    "\n",
    "    X1_var = ( (n1-1)/n1 )*X1_cuasi_var\n",
    "    X2_var = ( (n2-1)/n2 )*X2_cuasi_var\n",
    "\n",
    "    X_var_p = ((n1-1)*X1_var + (n2-1)*X2_var )/(n1+n2-2)\n",
    "\n",
    "    v = ( X1_var/n1 + X2_var/n2 )**2 / ( (X1_var/n1)**2 / (n1-1)  + (X2_var/n2)**2 / (n2-1)  )\n",
    "\n",
    "    t_alpha_medios = scipy.stats.chi.ppf( 1 - alpha/2 , df=v)\n",
    "  \n",
    "\n",
    "    L1 =  (X1_mean - X2_mean) - t_alpha_medios * np.sqrt(X_var_p * (1/n1 + 1/n2))\n",
    "\n",
    "    L2 =  (X1_mean - X2_mean) + t_alpha_medios * np.sqrt(X_var_p * (1/n1 + 1/n2))\n",
    "\n",
    "    interval = [L1 , L2]\n",
    "\n",
    "    return interval , (X1_mean - X2_mean) "
   ]
  },
  {
   "cell_type": "code",
   "execution_count": 37,
   "metadata": {},
   "outputs": [],
   "source": [
    "Price_Qualiti_0 = Data.loc[ Data.quality_recode == 0 , 'price']\n",
    "\n",
    "Price_Qualiti_3 = Data.loc[ Data.quality_recode == 3 , 'price']"
   ]
  },
  {
   "cell_type": "code",
   "execution_count": 41,
   "metadata": {},
   "outputs": [],
   "source": [
    "intervalo , diferencia_medias = CI_Mean_Diference(Price_Qualiti_0 , Price_Qualiti_3 , alpha=0.05)"
   ]
  },
  {
   "cell_type": "code",
   "execution_count": 42,
   "metadata": {},
   "outputs": [
    {
     "data": {
      "text/plain": [
       "[-5255025.492552606, 8793827.719749954]"
      ]
     },
     "execution_count": 42,
     "metadata": {},
     "output_type": "execute_result"
    }
   ],
   "source": [
    "intervalo"
   ]
  },
  {
   "cell_type": "code",
   "execution_count": 43,
   "metadata": {},
   "outputs": [
    {
     "data": {
      "text/plain": [
       "1769401.1135986734"
      ]
     },
     "execution_count": 43,
     "metadata": {},
     "output_type": "execute_result"
    }
   ],
   "source": [
    "diferencia_medias"
   ]
  },
  {
   "cell_type": "markdown",
   "metadata": {},
   "source": []
  },
  {
   "attachments": {},
   "cell_type": "markdown",
   "metadata": {},
   "source": [
    "### Intervalo confianza para la diferencia de medias con muestras pareadas"
   ]
  },
  {
   "cell_type": "code",
   "execution_count": 49,
   "metadata": {},
   "outputs": [],
   "source": [
    "def CI_Mean_Diference_Paired(Variable1 , Variable2 , alpha=0.05):\n",
    "\n",
    "    X1 = Variable1\n",
    "    X2 = Variable2\n",
    "\n",
    "    D = X1-X2\n",
    "\n",
    "    n = len(D) \n",
    "\n",
    "    D_mean = D.mean()\n",
    " \n",
    "    D_cuasi_var = D.std()**2 \n",
    " \n",
    "    D_var = ( (n-1)/n )*D_cuasi_var\n",
    " \n",
    "    t_alpha_medios = scipy.stats.chi.ppf( 1 - alpha/2 , df=n-1)\n",
    "\n",
    "    L1 = D_mean - t_alpha_medios * np.sqrt((n/(n-1))*D_var/n)\n",
    "\n",
    "    L2 = D_mean + t_alpha_medios * np.sqrt((n/(n-1))*D_var/n)\n",
    "\n",
    "    interval = [L1 , L2]\n",
    "\n",
    "    return interval , D_mean"
   ]
  },
  {
   "cell_type": "code",
   "execution_count": 51,
   "metadata": {},
   "outputs": [],
   "source": [
    "Nota_Examen_1 = np.array([4,6,6,7.5,6,3,5,6,8,5])\n",
    "\n",
    "Nota_Examen_2 = np.array([5,7,6,7,8,4,5,6,7,9])"
   ]
  },
  {
   "cell_type": "code",
   "execution_count": 52,
   "metadata": {},
   "outputs": [
    {
     "data": {
      "text/plain": [
       "([-2.632283321526545, 1.1322833215265453], -0.75)"
      ]
     },
     "execution_count": 52,
     "metadata": {},
     "output_type": "execute_result"
    }
   ],
   "source": [
    "CI_Mean_Diference_Paired(Nota_Examen_1 , Nota_Examen_2 , alpha=0.05)"
   ]
  },
  {
   "cell_type": "markdown",
   "metadata": {},
   "source": []
  },
  {
   "attachments": {},
   "cell_type": "markdown",
   "metadata": {},
   "source": [
    "### Intervalo de confianza para el cociente de varianzas"
   ]
  },
  {
   "cell_type": "code",
   "execution_count": 55,
   "metadata": {},
   "outputs": [],
   "source": [
    "def CI_Variance_Quotient(Variable1, Variable2, alpha=0.05):\n",
    "\n",
    "    X1 = Variable1\n",
    "    X2 = Variable2\n",
    "\n",
    "    n1 = len(X1)\n",
    "    n2 = len(X2)\n",
    "\n",
    "    X1_cuasi_var = X1.std()**2 \n",
    "    X2_cuasi_var = X2.std()**2 \n",
    "\n",
    "    X1_var = ( (n1-1)/n1 )*X1_cuasi_var\n",
    "    X2_var = ( (n2-1)/n2 )*X2_cuasi_var\n",
    "\n",
    "    F_alpha_medios = scipy.stats.f.ppf( 1 - alpha/2 , dfn=n1, dfd=n2 )\n",
    "\n",
    "    F_1_alpha_medios = scipy.stats.f.ppf( alpha/2 ,  dfn=n1, dfd=n2 )\n",
    "\n",
    "    L1 =  (X1_var/X2_var)*F_1_alpha_medios\n",
    "\n",
    "    L2 = (X1_var/X2_var)*F_alpha_medios\n",
    "\n",
    "    interval = [L1 , L2]\n",
    "\n",
    "    return interval , (X1_var/X2_var) "
   ]
  },
  {
   "cell_type": "code",
   "execution_count": 57,
   "metadata": {},
   "outputs": [],
   "source": [
    "intervalo , cociente_varianzas = CI_Variance_Quotient(Price_Qualiti_0 , Price_Qualiti_3, alpha=0.05)"
   ]
  },
  {
   "cell_type": "code",
   "execution_count": 58,
   "metadata": {},
   "outputs": [
    {
     "data": {
      "text/plain": [
       "[103.38012135091866, 226.6148066572665]"
      ]
     },
     "execution_count": 58,
     "metadata": {},
     "output_type": "execute_result"
    }
   ],
   "source": [
    "intervalo"
   ]
  },
  {
   "cell_type": "code",
   "execution_count": 59,
   "metadata": {},
   "outputs": [
    {
     "data": {
      "text/plain": [
       "151.59794710463066"
      ]
     },
     "execution_count": 59,
     "metadata": {},
     "output_type": "execute_result"
    }
   ],
   "source": [
    "cociente_varianzas"
   ]
  },
  {
   "cell_type": "markdown",
   "metadata": {},
   "source": []
  },
  {
   "attachments": {},
   "cell_type": "markdown",
   "metadata": {},
   "source": [
    "### Intervalo de confianza para la diferencia de proporciones"
   ]
  },
  {
   "cell_type": "code",
   "execution_count": 60,
   "metadata": {},
   "outputs": [],
   "source": [
    "def CI_Proportion_Diference(Variable1, Variable2, alpha=0.05):\n",
    "\n",
    "    X1 = Variable1\n",
    "    X2 = Variable2\n",
    "\n",
    "    X1_mean = X1.mean()\n",
    "    X2_mean = X2.mean()\n",
    "\n",
    "    n1 = len(X1)\n",
    "    n2 = len(X2)\n",
    "\n",
    "    z_alpha_medios = scipy.stats.norm.ppf( 1 - alpha/2, loc=0, scale=1)\n",
    "\n",
    "\n",
    "    L1 =  (X1_mean-X2_mean) - z_alpha_medios*np.sqrt(X1_mean*(1-X1_mean)/n1 + X2_mean*(1-X2_mean)/n2)\n",
    "\n",
    "    L2 =  (X1_mean-X2_mean) + z_alpha_medios*np.sqrt(X1_mean*(1-X1_mean)/n1 + X2_mean*(1-X2_mean)/n2)\n",
    "\n",
    "    interval = [L1 , L2]\n",
    "\n",
    "    return interval , (X1_mean-X2_mean)"
   ]
  },
  {
   "cell_type": "code",
   "execution_count": 70,
   "metadata": {},
   "outputs": [],
   "source": [
    "intervalo , diferencia_proporciones = CI_Proportion_Diference(Quality_0, Quality_2, alpha=0.05)"
   ]
  },
  {
   "cell_type": "code",
   "execution_count": 71,
   "metadata": {},
   "outputs": [
    {
     "data": {
      "text/plain": [
       "[-0.5560366143605591, -0.5064305772404909]"
      ]
     },
     "execution_count": 71,
     "metadata": {},
     "output_type": "execute_result"
    }
   ],
   "source": [
    "intervalo"
   ]
  },
  {
   "cell_type": "code",
   "execution_count": 72,
   "metadata": {},
   "outputs": [
    {
     "data": {
      "text/plain": [
       "-0.531233595800525"
      ]
     },
     "execution_count": 72,
     "metadata": {},
     "output_type": "execute_result"
    }
   ],
   "source": [
    "diferencia_proporciones"
   ]
  }
 ],
 "metadata": {
  "kernelspec": {
   "display_name": "Python 3",
   "language": "python",
   "name": "python3"
  },
  "language_info": {
   "codemirror_mode": {
    "name": "ipython",
    "version": 3
   },
   "file_extension": ".py",
   "mimetype": "text/x-python",
   "name": "python",
   "nbconvert_exporter": "python",
   "pygments_lexer": "ipython3",
   "version": "3.10.0"
  },
  "vscode": {
   "interpreter": {
    "hash": "c63d8c7d738c2960218a10995aedf0a7f67a49a231e71037adf0440953cdb45b"
   }
  }
 },
 "nbformat": 4,
 "nbformat_minor": 2
}
