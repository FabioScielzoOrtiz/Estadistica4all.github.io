{
 "cells": [
  {
   "cell_type": "code",
   "execution_count": 15,
   "metadata": {},
   "outputs": [],
   "source": [
    "def a(Binary_Data) :\n",
    "\n",
    "            X = Binary_Data\n",
    "\n",
    "            a = X @ X.T\n",
    "\n",
    "            return(a)\n",
    "\n",
    "##########################################################################################\n",
    "\n",
    "def d(Binary_Data):\n",
    "\n",
    "            X = Binary_Data\n",
    "\n",
    "            ones_matrix = np.ones(( X.shape[0] , X.shape[1])) \n",
    "\n",
    "            d = (ones_matrix - X) @ (ones_matrix - X).T\n",
    "\n",
    "            return(d)\n",
    "\n",
    "##########################################################################################\n",
    "\n",
    "def alpha_py(i,j, Multiple_Categorical_Data):\n",
    "\n",
    "                X = Multiple_Categorical_Data\n",
    "\n",
    "                alpha = np.repeat(0, X.shape[1])\n",
    "\n",
    "                for k in range(0, X.shape[1]) :\n",
    "\n",
    "                    if X.iloc[i-1, k] == X.iloc[j-1, k] :\n",
    "\n",
    "                        alpha[k] = 1\n",
    "\n",
    "                    else :\n",
    "\n",
    "                        alpha[k] = 0\n",
    "\n",
    "\n",
    "                alpha = alpha.sum()\n",
    "\n",
    "                return(alpha)\n",
    "\n",
    "   ##########################################################################################\n",
    "\n",
    "def alpha_py_Numpy(i,j, Multiple_Categorical_Data):\n",
    "\n",
    "                X = Multiple_Categorical_Data\n",
    "\n",
    "                alpha = np.repeat(0, X.shape[1])\n",
    "\n",
    "                for k in range(0, X.shape[1]) :\n",
    "\n",
    "                    if X[i-1, k] == X[j-1, k] :\n",
    "\n",
    "                        alpha[k] = 1\n",
    "\n",
    "                    else :\n",
    "\n",
    "                        alpha[k] = 0\n",
    "\n",
    "\n",
    "                alpha = alpha.sum()\n",
    "\n",
    "                return(alpha)\n",
    "\n"
   ]
  },
  {
   "cell_type": "code",
   "execution_count": 90,
   "metadata": {},
   "outputs": [
    {
     "data": {
      "text/plain": [
       "2"
      ]
     },
     "execution_count": 90,
     "metadata": {},
     "output_type": "execute_result"
    }
   ],
   "source": [
    "alpha_py(22,10, X_prueba_pandas)"
   ]
  },
  {
   "cell_type": "code",
   "execution_count": 91,
   "metadata": {},
   "outputs": [
    {
     "data": {
      "text/plain": [
       "2"
      ]
     },
     "execution_count": 91,
     "metadata": {},
     "output_type": "execute_result"
    }
   ],
   "source": [
    "alpha_py_Numpy(22,10, X_prueba_numpy)"
   ]
  },
  {
   "cell_type": "code",
   "execution_count": 16,
   "metadata": {},
   "outputs": [],
   "source": [
    "\n",
    "def Gower_Similarity_PANDAS(i,j, Mixed_Data_Set, p1, p2, p3):\n",
    "\n",
    "            X = Mixed_Data_Set\n",
    "\n",
    "   # The data matrix X have to be order in the following way:\n",
    "   # The p1 first are quantitative, the following p2 are binary categorical, and the following p3 are multiple categorical.\n",
    "\n",
    "   #####################################################################################\n",
    "        \n",
    "            def G(k, X):\n",
    "\n",
    "                range = X.iloc[:,k].max() - X.iloc[:,k].min() \n",
    "\n",
    "                return(range)\n",
    "\n",
    "            G_vector = np.repeat(0.5, p1)\n",
    "\n",
    "            for r in range(0, p1):\n",
    "\n",
    "                G_vector[r] = G(r, X)\n",
    "                \n",
    "      \n",
    "    ##########################################################################################\n",
    "    \n",
    "            ones = np.repeat(1, p1)\n",
    "\n",
    "            Quantitative_Data = X.iloc[: , 0:p1]\n",
    "\n",
    "            Binary_Data = X.iloc[: , (p1):(p1+p2)]\n",
    "            \n",
    "            Multiple_Categorical_Data = X.iloc[: , (p1+p2):(p1+p2+p3) ]\n",
    "\n",
    "    ##########################################################################################\n",
    "\n",
    "            numerator_part_1 = ( ones - ( (Quantitative_Data.iloc[i-1,:] - Quantitative_Data.iloc[j-1,:]).abs() / G_vector ) ).sum() \n",
    "\n",
    "            numerator_part_2 = a(Binary_Data).iloc[i-1,j-1] + alpha_py(i,j, Multiple_Categorical_Data)\n",
    "\n",
    "            numerator = numerator_part_1 + numerator_part_2\n",
    " \n",
    "            denominator = p1 + (p2 - d(Binary_Data).iloc[i-1,j-1]) + p3\n",
    "\n",
    "            Similarity_Gower = numerator / denominator  \n",
    "\n",
    "            return(Similarity_Gower)"
   ]
  },
  {
   "cell_type": "code",
   "execution_count": 19,
   "metadata": {},
   "outputs": [],
   "source": [
    "\n",
    "def Gower_Similarity_Numpy(i,j, Mixed_Data_Set, p1, p2, p3):\n",
    "\n",
    "            X = Mixed_Data_Set\n",
    "\n",
    "   # The data matrix X have to be order in the following way:\n",
    "   # The p1 first are quantitative, the following p2 are binary categorical, and the following p3 are multiple categorical.\n",
    "\n",
    "   #####################################################################################\n",
    "        \n",
    "            def G(k, X):\n",
    "\n",
    "                range = X[:,k].max() - X[:,k].min() \n",
    "\n",
    "                return(range)\n",
    "\n",
    "            G_vector = np.repeat(0.5, p1)\n",
    "\n",
    "            for r in range(0, p1):\n",
    "\n",
    "                G_vector[r] = G(r, X)\n",
    "                \n",
    "      \n",
    "    ##########################################################################################\n",
    "    \n",
    "            ones = np.repeat(1, p1)\n",
    "\n",
    "            Quantitative_Data = X[: , 0:p1]\n",
    "\n",
    "            Binary_Data = X[: , (p1):(p1+p2)]\n",
    "            \n",
    "            Multiple_Categorical_Data = X[: , (p1+p2):(p1+p2+p3) ]\n",
    "\n",
    "    ##########################################################################################\n",
    "\n",
    "            numerator_part_1 = ( ones - ( abs(Quantitative_Data[i-1,:] - Quantitative_Data[j-1,:]) / G_vector ) ).sum() \n",
    "\n",
    "            numerator_part_2 = a(Binary_Data)[i-1,j-1] + alpha_py_Numpy(i,j, Multiple_Categorical_Data)\n",
    "\n",
    "            numerator = numerator_part_1 + numerator_part_2\n",
    " \n",
    "            denominator = p1 + (p2 - d(Binary_Data)[i-1,j-1]) + p3\n",
    "\n",
    "            Similarity_Gower = numerator / denominator  \n",
    "\n",
    "            return(Similarity_Gower)\n",
    "  \n",
    "##########################################################################################\n"
   ]
  },
  {
   "cell_type": "code",
   "execution_count": 92,
   "metadata": {},
   "outputs": [],
   "source": [
    "def G_numpy(k, X):\n",
    "\n",
    "    range = X[:,k].max() - X[:,k].min() \n",
    "\n",
    "    return(range)\n"
   ]
  },
  {
   "cell_type": "code",
   "execution_count": 93,
   "metadata": {},
   "outputs": [],
   "source": [
    "def G_pandas(k, X):\n",
    "\n",
    "    range = X.iloc[:,k].max() - X.iloc[:,k].min() \n",
    "\n",
    "    return(range)"
   ]
  },
  {
   "cell_type": "code",
   "execution_count": 97,
   "metadata": {},
   "outputs": [
    {
     "data": {
      "text/plain": [
       "25.240419"
      ]
     },
     "execution_count": 97,
     "metadata": {},
     "output_type": "execute_result"
    }
   ],
   "source": [
    "G_numpy(3, X_prueba_numpy)"
   ]
  },
  {
   "cell_type": "code",
   "execution_count": 102,
   "metadata": {},
   "outputs": [
    {
     "data": {
      "text/plain": [
       "25.240419"
      ]
     },
     "execution_count": 102,
     "metadata": {},
     "output_type": "execute_result"
    }
   ],
   "source": [
    "X_prueba_numpy[:,3].max()"
   ]
  },
  {
   "cell_type": "code",
   "execution_count": 103,
   "metadata": {},
   "outputs": [
    {
     "data": {
      "text/plain": [
       "0.0"
      ]
     },
     "execution_count": 103,
     "metadata": {},
     "output_type": "execute_result"
    }
   ],
   "source": [
    "X_prueba_numpy[:,3].min()"
   ]
  },
  {
   "cell_type": "code",
   "execution_count": 104,
   "metadata": {},
   "outputs": [
    {
     "data": {
      "text/plain": [
       "array([[337.981114, 4, 3, 25.07359, 55.126352, 0.0, 0.0, 2.0],\n",
       "       [214.977542, 2, 2, 25.073778, 55.132888, 0.0, 0.0, 2.0],\n",
       "       [167.875721, 3, 3, 25.072954, 55.128089, 0.0, 0.0, 2.0],\n",
       "       [66.425645, 1, 1, 25.111535, 55.365680000000005, 0.0, 0.0, 2.0],\n",
       "       [47.937948, 0, 1, 24.946417, 55.211718000000005, 0.0, 0.0, 2.0],\n",
       "       [72.650146, 1, 2, 25.195483, 55.271797, 0.0, 0.0, 2.0],\n",
       "       [111.4836, 2, 2, 25.240419, 55.25277, 0.0, 0.0, 0.0],\n",
       "       [154.683495, 3, 2, 25.093596, 55.166634, 1.0, 0.0, 2.0],\n",
       "       [71.999825, 1, 2, 25.086376, 55.14736, 0.0, 0.0, 2.0],\n",
       "       [86.864305, 1, 1, 25.132519, 55.151574, 0.0, 0.0, 2.0],\n",
       "       [94.296545, 1, 2, 25.114275, 55.139764, 0.0, 0.0, 2.0],\n",
       "       [80.361095, 1, 1, 25.191107, 55.26991, 0.0, 0.0, 1.0],\n",
       "       [107.953286, 2, 3, 25.209767000000003, 55.345908, 0.0, 0.0, 0.0],\n",
       "       [106.095226, 1, 1, 25.107005, 55.152689, 0.0, 0.0, 1.0],\n",
       "       [41.899253, 0, 1, 25.016736, 55.25101, 0.0, 0.0, 2.0],\n",
       "       [86.306887, 1, 2, 25.189282, 55.28915799999999, 0.0, 0.0, 2.0],\n",
       "       [158.213809, 3, 4, 25.201842000000003, 55.280473, 0.0, 0.0, 2.0],\n",
       "       [92.717194, 2, 3, 25.194031, 55.269318000000005, 0.0, 0.0, 1.0],\n",
       "       [91.881067, 1, 2, 25.109367, 55.247980000000005, 0.0, 0.0, 2.0],\n",
       "       [85.00624499999999, 1, 1, 25.186836, 55.276951, 0.0, 0.0, 2.0],\n",
       "       [79.89658, 1, 2, 25.039066, 55.220697, 0.0, 0.0, 2.0],\n",
       "       [177.351827, 3, 3, 25.07696, 55.146775, 0.0, 0.0, 0.0],\n",
       "       [164.159601, 3, 2, 25.094635, 55.171817, 0.0, 0.0, 1.0],\n",
       "       [208.845944, 3, 2, 25.111229, 55.136449, 0.0, 0.0, 1.0],\n",
       "       [41.80635, 0, 1, 25.065736, 55.137452, 0.0, 1.0, 0.0],\n",
       "       [70.884989, 1, 2, 25.07359, 55.126352, 0.0, 0.0, 2.0],\n",
       "       [77.852714, 1, 2, 25.086376, 55.14736, 0.0, 0.0, 2.0],\n",
       "       [209.96078, 3, 3, 25.116492, 55.141387, 0.0, 0.0, 1.0],\n",
       "       [98.012665, 2, 3, 25.186038, 55.29175, 0.0, 0.0, 0.0],\n",
       "       [68.655317, 1, 1, 25.194186, 55.269439, 0.0, 0.0, 2.0],\n",
       "       [142.606105, 2, 3, 25.145181, 55.288017, 0.0, 0.0, 1.0],\n",
       "       [377.929404, 4, 6, 25.226946, 55.343628, 0.0, 0.0, 1.0],\n",
       "       [77.574005, 1, 2, 25.04866, 55.20955, 0.0, 0.0, 3.0],\n",
       "       [134.430641, 2, 2, 25.194935, 55.282665, 0.0, 0.0, 1.0],\n",
       "       [124.118408, 2, 2, 25.090953, 55.16954200000001, 0.0, 0.0, 1.0],\n",
       "       [210.88981, 3, 4, 25.20179, 55.261734, 0.0, 0.0, 1.0],\n",
       "       [99.684919, 2, 2, 25.078148, 55.148277, 0.0, 0.0, 2.0],\n",
       "       [110.926182, 2, 3, 25.051528, 55.212972, 0.0, 0.0, 2.0],\n",
       "       [112.41263, 2, 3, 25.079966, 55.139082, 0.0, 0.0, 2.0],\n",
       "       [120.402288, 2, 2, 25.109367, 55.247980000000005, 0.0, 0.0, 1.0],\n",
       "       [170.569908, 2, 2, 25.207533, 55.277978, 0.0, 0.0, 2.0],\n",
       "       [111.4836, 2, 2, 25.109367, 55.247980000000005, 0.0, 0.0, 2.0],\n",
       "       [69.491444, 1, 2, 25.088728, 55.17331, 0.0, 0.0, 2.0],\n",
       "       [84.170118, 1, 2, 25.108627, 55.178031, 0.0, 0.0, 1.0],\n",
       "       [113.434563, 2, 3, 25.190275, 55.278378, 0.0, 0.0, 1.0],\n",
       "       [76.923684, 1, 2, 25.078353, 55.158801, 0.0, 0.0, 1.0],\n",
       "       [187.942769, 3, 3, 25.201718, 55.270983, 0.0, 0.0, 2.0],\n",
       "       [54.998576, 1, 1, 25.06873, 55.128758, 0.0, 0.0, 2.0],\n",
       "       [152.918338, 2, 3, 25.106809, 55.151201, 0.0, 0.0, 1.0],\n",
       "       [161.093802, 2, 4, 25.205218, 55.262688, 0.0, 0.0, 2.0],\n",
       "       [126.440983, 2, 3, 25.049772, 55.204243000000005, 0.0, 0.0, 2.0],\n",
       "       [189.057605, 3, 4, 25.078492, 55.15864200000001, 0.0, 0.0, 2.0],\n",
       "       [141.677075, 2, 2, 25.013504, 55.254337, 0.0, 0.0, 1.0],\n",
       "       [106.188129, 2, 3, 25.203844, 55.34419499999999, 0.0, 0.0, 2.0],\n",
       "       [43.478604, 0, 1, 25.065872, 55.232983, 0.0, 0.0, 2.0],\n",
       "       [94.017836, 2, 3, 25.038808, 55.20499, 0.0, 0.0, 2.0],\n",
       "       [59.45792, 1, 2, 25.072569, 55.126527, 0.0, 0.0, 2.0],\n",
       "       [73.950788, 1, 2, 25.194282, 55.27886899999999, 0.0, 0.0, 2.0],\n",
       "       [263.84452, 4, 5, 25.200879, 55.276331000000006, 0.0, 0.0, 2.0],\n",
       "       [83.148185, 2, 3, 25.04866, 55.20955, 0.0, 0.0, 2.0],\n",
       "       [68.934026, 1, 2, 25.171461, 55.2758, 0.0, 0.0, 2.0],\n",
       "       [119.473258, 2, 2, 25.090455, 55.174096, 0.0, 0.0, 1.0],\n",
       "       [110.740376, 2, 2, 25.090136, 55.150381, 0.0, 0.0, 2.0],\n",
       "       [70.048862, 1, 1, 25.088533, 55.171838, 0.0, 0.0, 1.0],\n",
       "       [376.535859, 3, 3, 25.113366, 55.13609, 0.0, 0.0, 1.0],\n",
       "       [142.977717, 2, 2, 25.191719, 55.270677, 0.0, 0.0, 2.0],\n",
       "       [126.812595, 2, 2, 25.191527, 55.274545, 0.0, 0.0, 2.0],\n",
       "       [29.171542, 0, 1, 25.112193, 55.138635, 0.0, 0.0, 2.0],\n",
       "       [82.033349, 2, 2, 25.01551, 55.283111, 0.0, 0.0, 2.0],\n",
       "       [49.424396, 0, 1, 25.080143, 55.152381000000005, 0.0, 0.0, 1.0],\n",
       "       [201.785316, 3, 3, 25.090009, 55.146294, 0.0, 0.0, 2.0],\n",
       "       [90.580425, 1, 2, 25.087147, 55.14668100000001, 0.0, 0.0, 2.0],\n",
       "       [35.767655, 0, 1, 25.066791, 55.203684, 0.0, 0.0, 2.0],\n",
       "       [81.75464, 1, 1, 25.191107, 55.26991, 0.0, 0.0, 1.0],\n",
       "       [82.962379, 1, 1, 25.211032, 55.28205, 0.0, 0.0, 2.0],\n",
       "       [73.950788, 1, 1, 25.06031, 55.241403000000005, 0.0, 0.0, 0.0],\n",
       "       [72.092728, 1, 2, 25.029767, 55.206417, 0.0, 0.0, 2.0],\n",
       "       [137.031925, 2, 3, 25.125472, 55.153066, 0.0, 0.0, 2.0],\n",
       "       [107.024256, 2, 2, 25.069288, 55.139396, 0.0, 0.0, 1.0],\n",
       "       [94.76106, 1, 1, 25.199782, 55.277662, 0.0, 0.0, 2.0],\n",
       "       [92.903, 1, 2, 25.046409, 55.246264, 0.0, 0.0, 1.0],\n",
       "       [218.507856, 2, 2, 25.071448, 55.131088, 0.0, 0.0, 1.0],\n",
       "       [73.672079, 2, 2, 25.177819, 55.308533, 0.0, 0.0, 2.0],\n",
       "       [129.599685, 1, 2, 25.189282, 55.28915799999999, 0.0, 0.0, 2.0],\n",
       "       [70.420474, 1, 2, 25.158305, 55.296535, 0.0, 0.0, 2.0],\n",
       "       [135.359671, 2, 3, 25.178369, 55.312595, 0.0, 0.0, 2.0],\n",
       "       [66.239839, 0, 1, 25.180869, 55.271015000000006, 0.0, 0.0, 2.0],\n",
       "       [182.740201, 3, 3, 25.185823000000003, 55.291922, 0.0, 0.0, 1.0],\n",
       "       [202.900152, 3, 5, 25.200879, 55.276331000000006, 0.0, 1.0, 0.0],\n",
       "       [130.250006, 2, 3, 25.080327, 55.13821899999999, 0.0, 0.0, 2.0],\n",
       "       [119.008743, 2, 3, 25.072375, 55.136286, 0.0, 0.0, 2.0],\n",
       "       [211.725937, 3, 3, 25.110525, 55.135714, 0.0, 0.0, 2.0],\n",
       "       [54.998576, 1, 1, 25.068586, 55.12905799999999, 0.0, 0.0, 2.0],\n",
       "       [80.268192, 1, 2, 25.183133, 55.25658000000001, 0.0, 0.0, 2.0],\n",
       "       [52.118583, 0, 1, 25.226946, 55.343628, 0.0, 0.0, 1.0],\n",
       "       [126.905498, 2, 3, 25.073778, 55.132888, 0.0, 0.0, 2.0],\n",
       "       [103.772651, 1, 2, 25.079247, 55.119736, 0.0, 0.0, 2.0],\n",
       "       [239.968449, 3, 4, 25.195236, 55.268641, 0.0, 0.0, 2.0],\n",
       "       [186.456321, 3, 4, 25.240419, 55.25277, 0.0, 0.0, 1.0],\n",
       "       [97.455247, 2, 3, 25.196592000000003, 55.284124, 0.0, 0.0, 1.0],\n",
       "       [128.020334, 2, 3, 0.0, 25.078148, 0.0, 0.0, 55.148277]],\n",
       "      dtype=object)"
      ]
     },
     "execution_count": 104,
     "metadata": {},
     "output_type": "execute_result"
    }
   ],
   "source": [
    "X_prueba_numpy"
   ]
  },
  {
   "cell_type": "code",
   "execution_count": 106,
   "metadata": {},
   "outputs": [
    {
     "data": {
      "text/plain": [
       "size_in_m_2              128.020334\n",
       "no_of_bedrooms                    2\n",
       "no_of_bathrooms                   3\n",
       "quality_recode                  0.0\n",
       "latitude                  25.078148\n",
       "private_garden_recode           0.0\n",
       "private_pool_recode             0.0\n",
       "longitude                 55.148277\n",
       "Name: 1525, dtype: object"
      ]
     },
     "execution_count": 106,
     "metadata": {},
     "output_type": "execute_result"
    }
   ],
   "source": [
    "x_new"
   ]
  },
  {
   "cell_type": "code",
   "execution_count": 100,
   "metadata": {},
   "outputs": [
    {
     "data": {
      "text/plain": [
       "25.240419"
      ]
     },
     "execution_count": 100,
     "metadata": {},
     "output_type": "execute_result"
    }
   ],
   "source": [
    "X_prueba_pandas.iloc[:,3].max()"
   ]
  },
  {
   "cell_type": "code",
   "execution_count": 101,
   "metadata": {},
   "outputs": [
    {
     "data": {
      "text/plain": [
       "24.946417"
      ]
     },
     "execution_count": 101,
     "metadata": {},
     "output_type": "execute_result"
    }
   ],
   "source": [
    "X_prueba_pandas.iloc[:,3].min()"
   ]
  },
  {
   "cell_type": "code",
   "execution_count": 105,
   "metadata": {},
   "outputs": [
    {
     "data": {
      "text/html": [
       "<div>\n",
       "<style scoped>\n",
       "    .dataframe tbody tr th:only-of-type {\n",
       "        vertical-align: middle;\n",
       "    }\n",
       "\n",
       "    .dataframe tbody tr th {\n",
       "        vertical-align: top;\n",
       "    }\n",
       "\n",
       "    .dataframe thead th {\n",
       "        text-align: right;\n",
       "    }\n",
       "</style>\n",
       "<table border=\"1\" class=\"dataframe\">\n",
       "  <thead>\n",
       "    <tr style=\"text-align: right;\">\n",
       "      <th></th>\n",
       "      <th>size_in_m_2</th>\n",
       "      <th>no_of_bedrooms</th>\n",
       "      <th>no_of_bathrooms</th>\n",
       "      <th>latitude</th>\n",
       "      <th>longitude</th>\n",
       "      <th>private_garden_recode</th>\n",
       "      <th>private_pool_recode</th>\n",
       "      <th>quality_recode</th>\n",
       "    </tr>\n",
       "  </thead>\n",
       "  <tbody>\n",
       "    <tr>\n",
       "      <th>0</th>\n",
       "      <td>337.981114</td>\n",
       "      <td>4</td>\n",
       "      <td>3</td>\n",
       "      <td>25.07359</td>\n",
       "      <td>55.126352</td>\n",
       "      <td>0.0</td>\n",
       "      <td>0.0</td>\n",
       "      <td>2.0</td>\n",
       "    </tr>\n",
       "    <tr>\n",
       "      <th>1</th>\n",
       "      <td>214.977542</td>\n",
       "      <td>2</td>\n",
       "      <td>2</td>\n",
       "      <td>25.073778</td>\n",
       "      <td>55.132888</td>\n",
       "      <td>0.0</td>\n",
       "      <td>0.0</td>\n",
       "      <td>2.0</td>\n",
       "    </tr>\n",
       "    <tr>\n",
       "      <th>2</th>\n",
       "      <td>167.875721</td>\n",
       "      <td>3</td>\n",
       "      <td>3</td>\n",
       "      <td>25.072954</td>\n",
       "      <td>55.128089</td>\n",
       "      <td>0.0</td>\n",
       "      <td>0.0</td>\n",
       "      <td>2.0</td>\n",
       "    </tr>\n",
       "    <tr>\n",
       "      <th>3</th>\n",
       "      <td>66.425645</td>\n",
       "      <td>1</td>\n",
       "      <td>1</td>\n",
       "      <td>25.111535</td>\n",
       "      <td>55.36568</td>\n",
       "      <td>0.0</td>\n",
       "      <td>0.0</td>\n",
       "      <td>2.0</td>\n",
       "    </tr>\n",
       "    <tr>\n",
       "      <th>4</th>\n",
       "      <td>47.937948</td>\n",
       "      <td>0</td>\n",
       "      <td>1</td>\n",
       "      <td>24.946417</td>\n",
       "      <td>55.211718</td>\n",
       "      <td>0.0</td>\n",
       "      <td>0.0</td>\n",
       "      <td>2.0</td>\n",
       "    </tr>\n",
       "    <tr>\n",
       "      <th>...</th>\n",
       "      <td>...</td>\n",
       "      <td>...</td>\n",
       "      <td>...</td>\n",
       "      <td>...</td>\n",
       "      <td>...</td>\n",
       "      <td>...</td>\n",
       "      <td>...</td>\n",
       "      <td>...</td>\n",
       "    </tr>\n",
       "    <tr>\n",
       "      <th>96</th>\n",
       "      <td>103.772651</td>\n",
       "      <td>1</td>\n",
       "      <td>2</td>\n",
       "      <td>25.079247</td>\n",
       "      <td>55.119736</td>\n",
       "      <td>0.0</td>\n",
       "      <td>0.0</td>\n",
       "      <td>2.0</td>\n",
       "    </tr>\n",
       "    <tr>\n",
       "      <th>97</th>\n",
       "      <td>239.968449</td>\n",
       "      <td>3</td>\n",
       "      <td>4</td>\n",
       "      <td>25.195236</td>\n",
       "      <td>55.268641</td>\n",
       "      <td>0.0</td>\n",
       "      <td>0.0</td>\n",
       "      <td>2.0</td>\n",
       "    </tr>\n",
       "    <tr>\n",
       "      <th>98</th>\n",
       "      <td>186.456321</td>\n",
       "      <td>3</td>\n",
       "      <td>4</td>\n",
       "      <td>25.240419</td>\n",
       "      <td>55.25277</td>\n",
       "      <td>0.0</td>\n",
       "      <td>0.0</td>\n",
       "      <td>1.0</td>\n",
       "    </tr>\n",
       "    <tr>\n",
       "      <th>99</th>\n",
       "      <td>97.455247</td>\n",
       "      <td>2</td>\n",
       "      <td>3</td>\n",
       "      <td>25.196592</td>\n",
       "      <td>55.284124</td>\n",
       "      <td>0.0</td>\n",
       "      <td>0.0</td>\n",
       "      <td>1.0</td>\n",
       "    </tr>\n",
       "    <tr>\n",
       "      <th>100</th>\n",
       "      <td>128.020334</td>\n",
       "      <td>2</td>\n",
       "      <td>3</td>\n",
       "      <td>25.078148</td>\n",
       "      <td>55.148277</td>\n",
       "      <td>0.0</td>\n",
       "      <td>0.0</td>\n",
       "      <td>0.0</td>\n",
       "    </tr>\n",
       "  </tbody>\n",
       "</table>\n",
       "<p>101 rows × 8 columns</p>\n",
       "</div>"
      ],
      "text/plain": [
       "    size_in_m_2 no_of_bedrooms no_of_bathrooms   latitude  longitude  \\\n",
       "0    337.981114              4               3   25.07359  55.126352   \n",
       "1    214.977542              2               2  25.073778  55.132888   \n",
       "2    167.875721              3               3  25.072954  55.128089   \n",
       "3     66.425645              1               1  25.111535   55.36568   \n",
       "4     47.937948              0               1  24.946417  55.211718   \n",
       "..          ...            ...             ...        ...        ...   \n",
       "96   103.772651              1               2  25.079247  55.119736   \n",
       "97   239.968449              3               4  25.195236  55.268641   \n",
       "98   186.456321              3               4  25.240419   55.25277   \n",
       "99    97.455247              2               3  25.196592  55.284124   \n",
       "100  128.020334              2               3  25.078148  55.148277   \n",
       "\n",
       "    private_garden_recode private_pool_recode quality_recode  \n",
       "0                     0.0                 0.0            2.0  \n",
       "1                     0.0                 0.0            2.0  \n",
       "2                     0.0                 0.0            2.0  \n",
       "3                     0.0                 0.0            2.0  \n",
       "4                     0.0                 0.0            2.0  \n",
       "..                    ...                 ...            ...  \n",
       "96                    0.0                 0.0            2.0  \n",
       "97                    0.0                 0.0            2.0  \n",
       "98                    0.0                 0.0            1.0  \n",
       "99                    0.0                 0.0            1.0  \n",
       "100                   0.0                 0.0            0.0  \n",
       "\n",
       "[101 rows x 8 columns]"
      ]
     },
     "execution_count": 105,
     "metadata": {},
     "output_type": "execute_result"
    }
   ],
   "source": [
    "X_prueba_pandas"
   ]
  },
  {
   "cell_type": "code",
   "execution_count": 98,
   "metadata": {},
   "outputs": [
    {
     "data": {
      "text/plain": [
       "0.294001999999999"
      ]
     },
     "execution_count": 98,
     "metadata": {},
     "output_type": "execute_result"
    }
   ],
   "source": [
    "G_pandas(3, X_prueba_pandas)"
   ]
  },
  {
   "cell_type": "markdown",
   "metadata": {},
   "source": []
  },
  {
   "cell_type": "code",
   "execution_count": null,
   "metadata": {},
   "outputs": [],
   "source": [
    "\n",
    "G_vector = np.repeat(0.5, p1)\n",
    "\n",
    "for r in range(0, p1):\n",
    "\n",
    "        G_vector[r] = G(r, X)"
   ]
  },
  {
   "cell_type": "code",
   "execution_count": null,
   "metadata": {},
   "outputs": [],
   "source": []
  },
  {
   "cell_type": "markdown",
   "metadata": {},
   "source": []
  },
  {
   "cell_type": "code",
   "execution_count": 24,
   "metadata": {},
   "outputs": [],
   "source": [
    "def Dist_Gower_Py_Pandas(i, j, Mixed_Data , p1, p2, p3):\n",
    "\n",
    "            Dist_Gower = np.sqrt( 1 - Gower_Similarity_PANDAS(i, j, Mixed_Data , p1, p2, p3) )\n",
    "\n",
    "            return(Dist_Gower) "
   ]
  },
  {
   "cell_type": "code",
   "execution_count": 25,
   "metadata": {},
   "outputs": [],
   "source": [
    "def Dist_Gower_Py_Numpy(i, j, Mixed_Data , p1, p2, p3):\n",
    "\n",
    "            Dist_Gower = np.sqrt( 1 - Gower_Similarity_Numpy(i, j, Mixed_Data , p1, p2, p3) )\n",
    "\n",
    "            return(Dist_Gower) "
   ]
  },
  {
   "cell_type": "code",
   "execution_count": 6,
   "metadata": {},
   "outputs": [],
   "source": [
    "import pandas as pd\n",
    "import numpy as np\n"
   ]
  },
  {
   "cell_type": "code",
   "execution_count": 124,
   "metadata": {},
   "outputs": [],
   "source": [
    "House_Prices_Data = pd.read_csv('House_Price_Regression.csv')\n",
    "\n",
    "House_Prices_Data = House_Prices_Data.loc[:, ['price', 'size_in_m_2', 'no_of_bedrooms', 'no_of_bathrooms', 'quality_recode', 'latitude', 'private_garden_recode', 'private_pool_recode', 'longitude']]\n",
    "\n",
    "House_Prices_Data['quality_recode'] = House_Prices_Data['quality_recode'].astype('object')\n",
    "House_Prices_Data['private_garden_recode'] = House_Prices_Data['private_garden_recode'].astype('object')\n",
    "House_Prices_Data['private_pool_recode'] = House_Prices_Data['private_pool_recode'].astype('object')\n",
    "\n",
    "House_Prices_Data = House_Prices_Data.rename({'price': 'Y'}, axis=1)\n",
    "\n",
    "Data_Houses_Prices_Train = House_Prices_Data.sample(frac=0.8, replace=False, weights=None, random_state=555, axis=None, ignore_index=True)\n",
    "\n",
    "Data_Houses_Prices_Test = House_Prices_Data.drop( Data_Houses_Prices_Train.index , )\n",
    "\n",
    "X_test = Data_Houses_Prices_Test.loc[: , ['size_in_m_2', 'no_of_bedrooms', 'no_of_bathrooms','latitude', 'longitude', 'private_garden_recode', 'private_pool_recode',  'quality_recode']]\n",
    "\n",
    "Y_test = Data_Houses_Prices_Test.loc[: , 'Y']\n",
    "\n",
    "X_train = Data_Houses_Prices_Train.loc[: , ['size_in_m_2', 'no_of_bedrooms', 'no_of_bathrooms','latitude', 'longitude', 'private_garden_recode', 'private_pool_recode',  'quality_recode']]\n",
    "\n",
    "Y_train = Data_Houses_Prices_Train.loc[: , 'Y']"
   ]
  },
  {
   "cell_type": "code",
   "execution_count": 126,
   "metadata": {},
   "outputs": [],
   "source": [
    "x_new = X_test.iloc[1 , range(0, X_test.shape[1])]"
   ]
  },
  {
   "cell_type": "code",
   "execution_count": 127,
   "metadata": {},
   "outputs": [
    {
     "data": {
      "text/plain": [
       "size_in_m_2              128.020334\n",
       "no_of_bedrooms                    2\n",
       "no_of_bathrooms                   3\n",
       "latitude                  25.078148\n",
       "longitude                 55.148277\n",
       "private_garden_recode           0.0\n",
       "private_pool_recode             0.0\n",
       "quality_recode                  0.0\n",
       "Name: 1525, dtype: object"
      ]
     },
     "execution_count": 127,
     "metadata": {},
     "output_type": "execute_result"
    }
   ],
   "source": [
    "x_new"
   ]
  },
  {
   "cell_type": "code",
   "execution_count": 113,
   "metadata": {},
   "outputs": [],
   "source": [
    "X_train_small = X_train.iloc[0:100]\n",
    "Y_train_small = Y_train.iloc[0:100]"
   ]
  },
  {
   "cell_type": "code",
   "execution_count": 114,
   "metadata": {},
   "outputs": [],
   "source": [
    "X_train_small_Numpy = X_train_small.to_numpy()\n"
   ]
  },
  {
   "cell_type": "code",
   "execution_count": 115,
   "metadata": {},
   "outputs": [],
   "source": [
    "\n",
    "Y_train_small_Numpy = Y_train_small.to_numpy()"
   ]
  },
  {
   "cell_type": "markdown",
   "metadata": {},
   "source": []
  },
  {
   "cell_type": "code",
   "execution_count": 132,
   "metadata": {},
   "outputs": [
    {
     "data": {
      "text/plain": [
       "0.8987714642799416"
      ]
     },
     "execution_count": 132,
     "metadata": {},
     "output_type": "execute_result"
    }
   ],
   "source": [
    "Gower_Similarity_Numpy(2,3, X_train_small_Numpy, 5, 2, 1)"
   ]
  },
  {
   "cell_type": "code",
   "execution_count": 133,
   "metadata": {},
   "outputs": [
    {
     "data": {
      "text/plain": [
       "0.8987714642799416"
      ]
     },
     "execution_count": 133,
     "metadata": {},
     "output_type": "execute_result"
    }
   ],
   "source": [
    "Gower_Similarity_PANDAS(2,3, X_train_small, 5, 2, 1)"
   ]
  },
  {
   "cell_type": "code",
   "execution_count": 134,
   "metadata": {},
   "outputs": [],
   "source": [
    "X_prueba_pandas =  pd.concat([X_train_small , x_new.to_frame().T], ignore_index=True)"
   ]
  },
  {
   "cell_type": "code",
   "execution_count": 135,
   "metadata": {},
   "outputs": [
    {
     "data": {
      "text/html": [
       "<div>\n",
       "<style scoped>\n",
       "    .dataframe tbody tr th:only-of-type {\n",
       "        vertical-align: middle;\n",
       "    }\n",
       "\n",
       "    .dataframe tbody tr th {\n",
       "        vertical-align: top;\n",
       "    }\n",
       "\n",
       "    .dataframe thead th {\n",
       "        text-align: right;\n",
       "    }\n",
       "</style>\n",
       "<table border=\"1\" class=\"dataframe\">\n",
       "  <thead>\n",
       "    <tr style=\"text-align: right;\">\n",
       "      <th></th>\n",
       "      <th>size_in_m_2</th>\n",
       "      <th>no_of_bedrooms</th>\n",
       "      <th>no_of_bathrooms</th>\n",
       "      <th>latitude</th>\n",
       "      <th>longitude</th>\n",
       "      <th>private_garden_recode</th>\n",
       "      <th>private_pool_recode</th>\n",
       "      <th>quality_recode</th>\n",
       "    </tr>\n",
       "  </thead>\n",
       "  <tbody>\n",
       "    <tr>\n",
       "      <th>0</th>\n",
       "      <td>337.981114</td>\n",
       "      <td>4</td>\n",
       "      <td>3</td>\n",
       "      <td>25.07359</td>\n",
       "      <td>55.126352</td>\n",
       "      <td>0.0</td>\n",
       "      <td>0.0</td>\n",
       "      <td>2.0</td>\n",
       "    </tr>\n",
       "    <tr>\n",
       "      <th>1</th>\n",
       "      <td>214.977542</td>\n",
       "      <td>2</td>\n",
       "      <td>2</td>\n",
       "      <td>25.073778</td>\n",
       "      <td>55.132888</td>\n",
       "      <td>0.0</td>\n",
       "      <td>0.0</td>\n",
       "      <td>2.0</td>\n",
       "    </tr>\n",
       "    <tr>\n",
       "      <th>2</th>\n",
       "      <td>167.875721</td>\n",
       "      <td>3</td>\n",
       "      <td>3</td>\n",
       "      <td>25.072954</td>\n",
       "      <td>55.128089</td>\n",
       "      <td>0.0</td>\n",
       "      <td>0.0</td>\n",
       "      <td>2.0</td>\n",
       "    </tr>\n",
       "    <tr>\n",
       "      <th>3</th>\n",
       "      <td>66.425645</td>\n",
       "      <td>1</td>\n",
       "      <td>1</td>\n",
       "      <td>25.111535</td>\n",
       "      <td>55.36568</td>\n",
       "      <td>0.0</td>\n",
       "      <td>0.0</td>\n",
       "      <td>2.0</td>\n",
       "    </tr>\n",
       "    <tr>\n",
       "      <th>4</th>\n",
       "      <td>47.937948</td>\n",
       "      <td>0</td>\n",
       "      <td>1</td>\n",
       "      <td>24.946417</td>\n",
       "      <td>55.211718</td>\n",
       "      <td>0.0</td>\n",
       "      <td>0.0</td>\n",
       "      <td>2.0</td>\n",
       "    </tr>\n",
       "    <tr>\n",
       "      <th>...</th>\n",
       "      <td>...</td>\n",
       "      <td>...</td>\n",
       "      <td>...</td>\n",
       "      <td>...</td>\n",
       "      <td>...</td>\n",
       "      <td>...</td>\n",
       "      <td>...</td>\n",
       "      <td>...</td>\n",
       "    </tr>\n",
       "    <tr>\n",
       "      <th>96</th>\n",
       "      <td>103.772651</td>\n",
       "      <td>1</td>\n",
       "      <td>2</td>\n",
       "      <td>25.079247</td>\n",
       "      <td>55.119736</td>\n",
       "      <td>0.0</td>\n",
       "      <td>0.0</td>\n",
       "      <td>2.0</td>\n",
       "    </tr>\n",
       "    <tr>\n",
       "      <th>97</th>\n",
       "      <td>239.968449</td>\n",
       "      <td>3</td>\n",
       "      <td>4</td>\n",
       "      <td>25.195236</td>\n",
       "      <td>55.268641</td>\n",
       "      <td>0.0</td>\n",
       "      <td>0.0</td>\n",
       "      <td>2.0</td>\n",
       "    </tr>\n",
       "    <tr>\n",
       "      <th>98</th>\n",
       "      <td>186.456321</td>\n",
       "      <td>3</td>\n",
       "      <td>4</td>\n",
       "      <td>25.240419</td>\n",
       "      <td>55.25277</td>\n",
       "      <td>0.0</td>\n",
       "      <td>0.0</td>\n",
       "      <td>1.0</td>\n",
       "    </tr>\n",
       "    <tr>\n",
       "      <th>99</th>\n",
       "      <td>97.455247</td>\n",
       "      <td>2</td>\n",
       "      <td>3</td>\n",
       "      <td>25.196592</td>\n",
       "      <td>55.284124</td>\n",
       "      <td>0.0</td>\n",
       "      <td>0.0</td>\n",
       "      <td>1.0</td>\n",
       "    </tr>\n",
       "    <tr>\n",
       "      <th>100</th>\n",
       "      <td>128.020334</td>\n",
       "      <td>2</td>\n",
       "      <td>3</td>\n",
       "      <td>25.078148</td>\n",
       "      <td>55.148277</td>\n",
       "      <td>0.0</td>\n",
       "      <td>0.0</td>\n",
       "      <td>0.0</td>\n",
       "    </tr>\n",
       "  </tbody>\n",
       "</table>\n",
       "<p>101 rows × 8 columns</p>\n",
       "</div>"
      ],
      "text/plain": [
       "    size_in_m_2 no_of_bedrooms no_of_bathrooms   latitude  longitude  \\\n",
       "0    337.981114              4               3   25.07359  55.126352   \n",
       "1    214.977542              2               2  25.073778  55.132888   \n",
       "2    167.875721              3               3  25.072954  55.128089   \n",
       "3     66.425645              1               1  25.111535   55.36568   \n",
       "4     47.937948              0               1  24.946417  55.211718   \n",
       "..          ...            ...             ...        ...        ...   \n",
       "96   103.772651              1               2  25.079247  55.119736   \n",
       "97   239.968449              3               4  25.195236  55.268641   \n",
       "98   186.456321              3               4  25.240419   55.25277   \n",
       "99    97.455247              2               3  25.196592  55.284124   \n",
       "100  128.020334              2               3  25.078148  55.148277   \n",
       "\n",
       "    private_garden_recode private_pool_recode quality_recode  \n",
       "0                     0.0                 0.0            2.0  \n",
       "1                     0.0                 0.0            2.0  \n",
       "2                     0.0                 0.0            2.0  \n",
       "3                     0.0                 0.0            2.0  \n",
       "4                     0.0                 0.0            2.0  \n",
       "..                    ...                 ...            ...  \n",
       "96                    0.0                 0.0            2.0  \n",
       "97                    0.0                 0.0            2.0  \n",
       "98                    0.0                 0.0            1.0  \n",
       "99                    0.0                 0.0            1.0  \n",
       "100                   0.0                 0.0            0.0  \n",
       "\n",
       "[101 rows x 8 columns]"
      ]
     },
     "execution_count": 135,
     "metadata": {},
     "output_type": "execute_result"
    }
   ],
   "source": [
    "X_prueba_pandas"
   ]
  },
  {
   "cell_type": "code",
   "execution_count": 148,
   "metadata": {},
   "outputs": [
    {
     "data": {
      "text/plain": [
       "0.8198947351372596"
      ]
     },
     "execution_count": 148,
     "metadata": {},
     "output_type": "execute_result"
    }
   ],
   "source": [
    "Gower_Similarity_PANDAS(len(X_prueba_pandas), 96 , X_prueba_pandas, 5, 2, 1)"
   ]
  },
  {
   "cell_type": "code",
   "execution_count": 149,
   "metadata": {},
   "outputs": [
    {
     "data": {
      "text/plain": [
       "0.4243881064105595"
      ]
     },
     "execution_count": 149,
     "metadata": {},
     "output_type": "execute_result"
    }
   ],
   "source": [
    "Dist_Gower_Py_Pandas(len(X_prueba_pandas), 96, X_prueba_pandas , 5, 2, 1)"
   ]
  },
  {
   "cell_type": "markdown",
   "metadata": {},
   "source": []
  },
  {
   "cell_type": "code",
   "execution_count": 128,
   "metadata": {},
   "outputs": [],
   "source": [
    "X_prueba_numpy = np.concatenate((X_train_small_Numpy, [x_new ]), axis=0)"
   ]
  },
  {
   "cell_type": "code",
   "execution_count": 147,
   "metadata": {},
   "outputs": [
    {
     "data": {
      "text/plain": [
       "0.8198947351372596"
      ]
     },
     "execution_count": 147,
     "metadata": {},
     "output_type": "execute_result"
    }
   ],
   "source": [
    "Gower_Similarity_Numpy(len(X_prueba_numpy), 96 , X_prueba_numpy, 5, 2, 1)"
   ]
  },
  {
   "cell_type": "code",
   "execution_count": 150,
   "metadata": {},
   "outputs": [
    {
     "data": {
      "text/plain": [
       "0.4243881064105595"
      ]
     },
     "execution_count": 150,
     "metadata": {},
     "output_type": "execute_result"
    }
   ],
   "source": [
    "Dist_Gower_Py_Numpy(len(X_prueba_numpy), 96, X_prueba_numpy , 5, 2, 1)"
   ]
  },
  {
   "cell_type": "markdown",
   "metadata": {},
   "source": []
  },
  {
   "cell_type": "code",
   "execution_count": 81,
   "metadata": {},
   "outputs": [
    {
     "data": {
      "text/plain": [
       "0.749720953674506"
      ]
     },
     "execution_count": 81,
     "metadata": {},
     "output_type": "execute_result"
    }
   ],
   "source": [
    "Gower_Similarity_Numpy(5, 3 , X_prueba_numpy, 5, 2, 1)"
   ]
  },
  {
   "cell_type": "code",
   "execution_count": 82,
   "metadata": {},
   "outputs": [
    {
     "data": {
      "text/plain": [
       "0.6226120730224424"
      ]
     },
     "execution_count": 82,
     "metadata": {},
     "output_type": "execute_result"
    }
   ],
   "source": [
    "Gower_Similarity_PANDAS(5, 3 , X_prueba_pandas, 5, 2, 1)"
   ]
  },
  {
   "cell_type": "markdown",
   "metadata": {},
   "source": []
  },
  {
   "cell_type": "markdown",
   "metadata": {},
   "source": []
  },
  {
   "cell_type": "code",
   "execution_count": 151,
   "metadata": {},
   "outputs": [],
   "source": [
    "def KNN_regression_Parallel_Numpy( X , Y , x_new, k, distance, p1=0, p2=0, p3=0 ):\n",
    "\n",
    "##########################################################################################################\n",
    "\n",
    "## Para paralelizar el algoritmo \n",
    "\n",
    "    from joblib import Parallel, delayed\n",
    "    import multiprocessing\n",
    "\n",
    "    n_jobs  = multiprocessing.cpu_count()\n",
    "\n",
    "####################################################################################################################################################################################################################################################\n",
    "\n",
    "    # Y, X y x_new deben ser objetos Pandas ya que luego seran convertidos a objetos Numpy automaticamente por el algoritmo\n",
    "    \n",
    "    # Y tiene que ser un Pandas data frame con la variable respuesta \n",
    "\n",
    "    # X tiene que ser un Pandas data frame con los predictotres (X1,...,Xp). \n",
    "\n",
    "    # x_new tiene que ser un vector con una nueva observacion de los predictores. \n",
    "\n",
    "####################################################################################################################################################################################################################################################\n",
    "\n",
    "    Y = Y.to_numpy()\n",
    "\n",
    "    X = X.to_numpy() \n",
    "\n",
    "    x_new = x_new.to_numpy()\n",
    "\n",
    "    X = np.concatenate((X, [x_new]), axis=0)\n",
    "\n",
    "\n",
    "    distances = []\n",
    "\n",
    "    Y_values_knn = []\n",
    "\n",
    "\n",
    "####################################################################################################################################################################################################################################################\n",
    "    \n",
    "    \n",
    "    \n",
    "    if distance == \"Gower\":\n",
    "\n",
    "        # The data matrix X have to be order in the following way:\n",
    "        # The p1 first are quantitative, the following p2 are binary categorical, and the following p3 are multiple categorical.\n",
    "\n",
    "\n",
    "        def a(Binary_Data) :\n",
    "\n",
    "            X = Binary_Data\n",
    "\n",
    "            a = X @ X.T\n",
    "\n",
    "            return(a)\n",
    "\n",
    "##########################################################################################\n",
    "\n",
    "        def d(Binary_Data):\n",
    "\n",
    "            X = Binary_Data\n",
    "\n",
    "            ones_matrix = np.ones(( X.shape[0] , X.shape[1])) \n",
    "\n",
    "            d = (ones_matrix - X) @ (ones_matrix - X).T\n",
    "\n",
    "            return(d)\n",
    "\n",
    "##########################################################################################\n",
    "\n",
    "        def alpha_py(i,j, Multiple_Categorical_Data):\n",
    "\n",
    "            X = Multiple_Categorical_Data\n",
    "\n",
    "            alpha = np.repeat(0, X.shape[1])\n",
    "\n",
    "            def argumento_bucle_for(k):\n",
    "\n",
    "                if X[i-1, k] == X[j-1, k] :\n",
    "\n",
    "                    alpha[k] = 1\n",
    "\n",
    "                else :\n",
    "\n",
    "                    alpha[k] = 0\n",
    "\n",
    "                return(alpha) \n",
    "    \n",
    "            alpha=Parallel(n_jobs=n_jobs)( delayed(argumento_bucle_for)( k ) for k in range(0, X.shape[1]) )\n",
    "    \n",
    "            alpha = sum(alpha)\n",
    "\n",
    "            return(alpha)\n",
    "\n",
    "##########################################################################################\n",
    "\n",
    "        def Gower_Similarity_Python(i,j, Mixed_Data_Set, p1, p2, p3):\n",
    "\n",
    "            X = Mixed_Data_Set\n",
    "\n",
    "   # The data matrix X have to be order in the following way:\n",
    "   # The p1 first are quantitative, the following p2 are binary categorical, and the following p3 are multiple categorical.\n",
    "\n",
    "   #####################################################################################\n",
    "        \n",
    "            def G(k, X):\n",
    "\n",
    "                range = X[:,k].max() - X[:,k].min() \n",
    "\n",
    "                return(range)\n",
    "\n",
    "            G_vector = np.repeat(0.5, p1)\n",
    "\n",
    "            for r in range(0, p1):\n",
    "\n",
    "                G_vector[r] = G(r, X)\n",
    "                \n",
    "      \n",
    "    ##########################################################################################\n",
    "    \n",
    "            ones = np.repeat(1, p1)\n",
    "\n",
    "            Quantitative_Data = X[: , 0:p1]\n",
    "\n",
    "            Binary_Data = X[: , (p1):(p1+p2)]\n",
    "            \n",
    "            Multiple_Categorical_Data = X[: , (p1+p2):(p1+p2+p3) ]\n",
    "\n",
    "    ##########################################################################################\n",
    "\n",
    "            numerator_part_1 = ( ones - ( abs(Quantitative_Data[i-1,:] - Quantitative_Data[j-1,:]) / G_vector ) ).sum() \n",
    "\n",
    "            numerator_part_2 = a(Binary_Data)[i-1,j-1] + alpha_py(i,j, Multiple_Categorical_Data)\n",
    "\n",
    "            numerator = numerator_part_1 + numerator_part_2\n",
    " \n",
    "            denominator = p1 + (p2 - d(Binary_Data)[i-1,j-1]) + p3\n",
    "\n",
    "            Similarity_Gower = numerator / denominator  \n",
    "\n",
    "            return(Similarity_Gower)\n",
    "  \n",
    "##########################################################################################\n",
    "\n",
    "        def Dist_Gower_Py(i, j, Mixed_Data , p1, p2, p3):\n",
    "\n",
    "            Dist_Gower = np.sqrt( 1 - Gower_Similarity_Python(i, j, Mixed_Data , p1, p2, p3) )\n",
    "\n",
    "            return(Dist_Gower)    \n",
    "\n",
    "    ###################################################################\n",
    "\n",
    "    ## PARTE DEL CODIGO A PARALELIZAR\n",
    "\n",
    "        #for j in range(1, len(X)):\n",
    "\n",
    "          #distances.append( Dist_Gower_Py( len(X), j , X, p1, p2, p3) )\n",
    "\n",
    "        n_jobs  = multiprocessing.cpu_count()\n",
    "\n",
    "        distances = Parallel(n_jobs=n_jobs)( delayed(Dist_Gower_Py)( len(X), s , X, p1, p2, p3) for s in range(1, len(X)) )\n",
    "\n",
    "######################################################################################################################################\n",
    "    \n",
    "    distances = pd.DataFrame({'distances': distances})\n",
    "\n",
    "    distances = distances.sort_values(by=[\"distances\"]).reset_index(drop=False)\n",
    "        \n",
    "    knn = distances.iloc[0:k , :]\n",
    "\n",
    "    for i in knn.iloc[:,0]:\n",
    "\n",
    "        Y_values_knn.append(Y[i, ])\n",
    "\n",
    "\n",
    "    y_predict = sum(Y_values_knn)/k\n",
    "\n",
    "                                     \n",
    "    return y_predict  , distances "
   ]
  },
  {
   "cell_type": "code",
   "execution_count": 152,
   "metadata": {},
   "outputs": [],
   "source": [
    "y_predict  , distances = KNN_regression_Parallel_Numpy( X=X_train_small , Y=Y_train_small , x_new=x_new, k=10, distance=\"Gower\", p1=5, p2=2, p3=1 )"
   ]
  },
  {
   "cell_type": "code",
   "execution_count": 153,
   "metadata": {},
   "outputs": [
    {
     "data": {
      "text/plain": [
       "1526288.8"
      ]
     },
     "execution_count": 153,
     "metadata": {},
     "output_type": "execute_result"
    }
   ],
   "source": [
    "y_predict"
   ]
  },
  {
   "cell_type": "code",
   "execution_count": 154,
   "metadata": {},
   "outputs": [
    {
     "data": {
      "text/html": [
       "<div>\n",
       "<style scoped>\n",
       "    .dataframe tbody tr th:only-of-type {\n",
       "        vertical-align: middle;\n",
       "    }\n",
       "\n",
       "    .dataframe tbody tr th {\n",
       "        vertical-align: top;\n",
       "    }\n",
       "\n",
       "    .dataframe thead th {\n",
       "        text-align: right;\n",
       "    }\n",
       "</style>\n",
       "<table border=\"1\" class=\"dataframe\">\n",
       "  <thead>\n",
       "    <tr style=\"text-align: right;\">\n",
       "      <th></th>\n",
       "      <th>index</th>\n",
       "      <th>distances</th>\n",
       "    </tr>\n",
       "  </thead>\n",
       "  <tbody>\n",
       "    <tr>\n",
       "      <th>0</th>\n",
       "      <td>21</td>\n",
       "      <td>[0.2587138029633777]</td>\n",
       "    </tr>\n",
       "    <tr>\n",
       "      <th>1</th>\n",
       "      <td>28</td>\n",
       "      <td>[0.41560562680697666]</td>\n",
       "    </tr>\n",
       "    <tr>\n",
       "      <th>2</th>\n",
       "      <td>89</td>\n",
       "      <td>[0.4192652667104365]</td>\n",
       "    </tr>\n",
       "    <tr>\n",
       "      <th>3</th>\n",
       "      <td>95</td>\n",
       "      <td>[0.4243881064105595]</td>\n",
       "    </tr>\n",
       "    <tr>\n",
       "      <th>4</th>\n",
       "      <td>38</td>\n",
       "      <td>[0.42589561616225]</td>\n",
       "    </tr>\n",
       "    <tr>\n",
       "      <th>...</th>\n",
       "      <td>...</td>\n",
       "      <td>...</td>\n",
       "    </tr>\n",
       "    <tr>\n",
       "      <th>95</th>\n",
       "      <td>4</td>\n",
       "      <td>[0.6874630024733788]</td>\n",
       "    </tr>\n",
       "    <tr>\n",
       "      <th>96</th>\n",
       "      <td>86</td>\n",
       "      <td>[0.6982814288066614]</td>\n",
       "    </tr>\n",
       "    <tr>\n",
       "      <th>97</th>\n",
       "      <td>58</td>\n",
       "      <td>[0.7334352997561012]</td>\n",
       "    </tr>\n",
       "    <tr>\n",
       "      <th>98</th>\n",
       "      <td>94</td>\n",
       "      <td>[0.7547667737679794]</td>\n",
       "    </tr>\n",
       "    <tr>\n",
       "      <th>99</th>\n",
       "      <td>31</td>\n",
       "      <td>[0.8283489368017483]</td>\n",
       "    </tr>\n",
       "  </tbody>\n",
       "</table>\n",
       "<p>100 rows × 2 columns</p>\n",
       "</div>"
      ],
      "text/plain": [
       "    index              distances\n",
       "0      21   [0.2587138029633777]\n",
       "1      28  [0.41560562680697666]\n",
       "2      89   [0.4192652667104365]\n",
       "3      95   [0.4243881064105595]\n",
       "4      38     [0.42589561616225]\n",
       "..    ...                    ...\n",
       "95      4   [0.6874630024733788]\n",
       "96     86   [0.6982814288066614]\n",
       "97     58   [0.7334352997561012]\n",
       "98     94   [0.7547667737679794]\n",
       "99     31   [0.8283489368017483]\n",
       "\n",
       "[100 rows x 2 columns]"
      ]
     },
     "execution_count": 154,
     "metadata": {},
     "output_type": "execute_result"
    }
   ],
   "source": [
    "distances"
   ]
  },
  {
   "cell_type": "markdown",
   "metadata": {},
   "source": []
  },
  {
   "cell_type": "code",
   "execution_count": 59,
   "metadata": {},
   "outputs": [],
   "source": [
    "def KNN_regression_Parallel_Pandas( X , Y , x_new, k, distance  , p1=0, p2=0, p3=0 ):\n",
    "\n",
    "##########################################################################################################\n",
    "\n",
    "## Para paralelizar el algoritmo \n",
    "\n",
    "    from joblib import Parallel, delayed\n",
    "    import multiprocessing\n",
    "\n",
    "####################################################################################################################################################################################################################################################\n",
    "\n",
    "    # Y tiene que ser una variable respuesta cuantitativa\n",
    "\n",
    "    # X tiene que ser un panda data frame con los predictotres (X1,...,Xp). \n",
    "\n",
    "    # x_new tiene que ser un vector. \n",
    "\n",
    "####################################################################################################################################################################################################################################################\n",
    "\n",
    "    X  = pd.concat([X , x_new.to_frame().T], ignore_index=True)\n",
    " \n",
    "    distances = []\n",
    "    Y_values_knn = []\n",
    "\n",
    "####################################################################################################################################################################################################################################################\n",
    "    \n",
    "    \n",
    "    \n",
    "    if distance == \"Gower\":\n",
    "\n",
    "        # The data matrix X have to be order in the following way:\n",
    "        # The p1 first are quantitative, the following p2 are binary categorical, and the following p3 are multiple categorical.\n",
    "\n",
    "\n",
    "        def a(Binary_Data) :\n",
    "\n",
    "            X = Binary_Data\n",
    "\n",
    "            a = X @ X.T\n",
    "\n",
    "            return(a)\n",
    "\n",
    "##########################################################################################\n",
    "\n",
    "        def d(Binary_Data):\n",
    "\n",
    "            X = Binary_Data\n",
    "\n",
    "            ones_matrix = np.ones(( X.shape[0] , X.shape[1])) \n",
    "\n",
    "            d = (ones_matrix - X) @ (ones_matrix - X).T\n",
    "\n",
    "            return(d)\n",
    "\n",
    "##########################################################################################\n",
    "\n",
    "        def alpha_py(i,j, Multiple_Categorical_Data):\n",
    "\n",
    "                X = Multiple_Categorical_Data\n",
    "\n",
    "                alpha = np.repeat(0, X.shape[1])\n",
    "\n",
    "                for k in range(0, X.shape[1]) :\n",
    "\n",
    "                    if X.iloc[i-1, k] == X.iloc[j-1, k] :\n",
    "\n",
    "                        alpha[k] = 1\n",
    "\n",
    "                    else :\n",
    "\n",
    "                        alpha[k] = 0\n",
    "\n",
    "\n",
    "                alpha = alpha.sum()\n",
    "\n",
    "                return(alpha)\n",
    "\n",
    "   ##########################################################################################\n",
    "\n",
    "\n",
    "        def Gower_Similarity_Python(i,j, Mixed_Data_Set, p1, p2, p3):\n",
    "\n",
    "            X = Mixed_Data_Set\n",
    "\n",
    "   # The data matrix X have to be order in the following way:\n",
    "   # The p1 first are quantitative, the following p2 are binary categorical, and the following p3 are multiple categorical.\n",
    "\n",
    "   #####################################################################################\n",
    "        \n",
    "            def G(k, X):\n",
    "\n",
    "                range = X.iloc[:,k].max() - X.iloc[:,k].min() \n",
    "\n",
    "                return(range)\n",
    "\n",
    "            G_vector = np.repeat(0.5, p1)\n",
    "\n",
    "            for r in range(0, p1):\n",
    "\n",
    "                G_vector[r] = G(r, X)\n",
    "                \n",
    "      \n",
    "    ##########################################################################################\n",
    "    \n",
    "            ones = np.repeat(1, p1)\n",
    "\n",
    "            Quantitative_Data = X.iloc[: , 0:p1]\n",
    "\n",
    "            Binary_Data = X.iloc[: , (p1):(p1+p2)]\n",
    "            \n",
    "            Multiple_Categorical_Data = X.iloc[: , (p1+p2):(p1+p2+p3) ]\n",
    "\n",
    "    ##########################################################################################\n",
    "\n",
    "            numerator_part_1 = ( ones - ( (Quantitative_Data.iloc[i-1,:] - Quantitative_Data.iloc[j-1,:]).abs() / G_vector ) ).sum() \n",
    "\n",
    "            numerator_part_2 = a(Binary_Data).iloc[i-1,j-1] + alpha_py(i,j, Multiple_Categorical_Data)\n",
    "\n",
    "            numerator = numerator_part_1 + numerator_part_2\n",
    " \n",
    "            denominator = p1 + (p2 - d(Binary_Data).iloc[i-1,j-1]) + p3\n",
    "\n",
    "            Similarity_Gower = numerator / denominator  \n",
    "\n",
    "            return(Similarity_Gower)\n",
    "\n",
    "##########################################################################################\n",
    "\n",
    "        def Dist_Gower_Py(i, j, Mixed_Data , p1, p2, p3):\n",
    "\n",
    "            Dist_Gower = np.sqrt( 1 - Gower_Similarity_Python(i, j, Mixed_Data , p1, p2, p3) )\n",
    "\n",
    "            return(Dist_Gower)    \n",
    "\n",
    "    ###################################################################\n",
    "\n",
    "    ## PARTE DEL CODIGO A PARALELIZAR\n",
    "\n",
    "        # for i in range(1, len(X)):\n",
    "\n",
    "            # distances.append( Dist_Gower_Py( len(X), i , X, p1, p2, p3) )\n",
    "\n",
    "\n",
    "        n_jobs  = multiprocessing.cpu_count()\n",
    "\n",
    "        distances = Parallel(n_jobs=n_jobs)( delayed(Dist_Gower_Py)( len(X), s , X, p1, p2, p3) for s in range(1, len(X)) )\n",
    "\n",
    "######################################################################################################################################\n",
    "    \n",
    "\n",
    "    distances = pd.DataFrame({'distances': distances})\n",
    "\n",
    "    distances = distances.sort_values(by=[\"distances\"]).reset_index(drop=False)\n",
    "        \n",
    "    knn = distances.iloc[0:k , :]\n",
    "\n",
    "    for i in knn.iloc[:,0]:\n",
    "\n",
    "        Y_values_knn.append(Y.iloc[i , ])\n",
    "\n",
    "\n",
    "    y_predict = sum(Y_values_knn)/k\n",
    "\n",
    "\n",
    "                                     \n",
    "    return y_predict  , distances "
   ]
  },
  {
   "cell_type": "code",
   "execution_count": 155,
   "metadata": {},
   "outputs": [],
   "source": [
    "y_predict  , distances = KNN_regression_Parallel_Pandas( X=X_train_small , Y=Y_train_small , x_new=x_new, k=10, distance=\"Gower\", p1=5, p2=2, p3=1 )"
   ]
  },
  {
   "cell_type": "code",
   "execution_count": 156,
   "metadata": {},
   "outputs": [
    {
     "data": {
      "text/plain": [
       "1526288.8"
      ]
     },
     "execution_count": 156,
     "metadata": {},
     "output_type": "execute_result"
    }
   ],
   "source": [
    "y_predict"
   ]
  },
  {
   "cell_type": "code",
   "execution_count": 157,
   "metadata": {},
   "outputs": [
    {
     "data": {
      "text/html": [
       "<div>\n",
       "<style scoped>\n",
       "    .dataframe tbody tr th:only-of-type {\n",
       "        vertical-align: middle;\n",
       "    }\n",
       "\n",
       "    .dataframe tbody tr th {\n",
       "        vertical-align: top;\n",
       "    }\n",
       "\n",
       "    .dataframe thead th {\n",
       "        text-align: right;\n",
       "    }\n",
       "</style>\n",
       "<table border=\"1\" class=\"dataframe\">\n",
       "  <thead>\n",
       "    <tr style=\"text-align: right;\">\n",
       "      <th></th>\n",
       "      <th>index</th>\n",
       "      <th>distances</th>\n",
       "    </tr>\n",
       "  </thead>\n",
       "  <tbody>\n",
       "    <tr>\n",
       "      <th>0</th>\n",
       "      <td>21</td>\n",
       "      <td>0.258714</td>\n",
       "    </tr>\n",
       "    <tr>\n",
       "      <th>1</th>\n",
       "      <td>28</td>\n",
       "      <td>0.415606</td>\n",
       "    </tr>\n",
       "    <tr>\n",
       "      <th>2</th>\n",
       "      <td>89</td>\n",
       "      <td>0.419265</td>\n",
       "    </tr>\n",
       "    <tr>\n",
       "      <th>3</th>\n",
       "      <td>95</td>\n",
       "      <td>0.424388</td>\n",
       "    </tr>\n",
       "    <tr>\n",
       "      <th>4</th>\n",
       "      <td>38</td>\n",
       "      <td>0.425896</td>\n",
       "    </tr>\n",
       "    <tr>\n",
       "      <th>...</th>\n",
       "      <td>...</td>\n",
       "      <td>...</td>\n",
       "    </tr>\n",
       "    <tr>\n",
       "      <th>95</th>\n",
       "      <td>4</td>\n",
       "      <td>0.687463</td>\n",
       "    </tr>\n",
       "    <tr>\n",
       "      <th>96</th>\n",
       "      <td>86</td>\n",
       "      <td>0.698281</td>\n",
       "    </tr>\n",
       "    <tr>\n",
       "      <th>97</th>\n",
       "      <td>58</td>\n",
       "      <td>0.733435</td>\n",
       "    </tr>\n",
       "    <tr>\n",
       "      <th>98</th>\n",
       "      <td>94</td>\n",
       "      <td>0.754767</td>\n",
       "    </tr>\n",
       "    <tr>\n",
       "      <th>99</th>\n",
       "      <td>31</td>\n",
       "      <td>0.828349</td>\n",
       "    </tr>\n",
       "  </tbody>\n",
       "</table>\n",
       "<p>100 rows × 2 columns</p>\n",
       "</div>"
      ],
      "text/plain": [
       "    index  distances\n",
       "0      21   0.258714\n",
       "1      28   0.415606\n",
       "2      89   0.419265\n",
       "3      95   0.424388\n",
       "4      38   0.425896\n",
       "..    ...        ...\n",
       "95      4   0.687463\n",
       "96     86   0.698281\n",
       "97     58   0.733435\n",
       "98     94   0.754767\n",
       "99     31   0.828349\n",
       "\n",
       "[100 rows x 2 columns]"
      ]
     },
     "execution_count": 157,
     "metadata": {},
     "output_type": "execute_result"
    }
   ],
   "source": [
    "distances"
   ]
  }
 ],
 "metadata": {
  "kernelspec": {
   "display_name": "Python 3.10.0 64-bit",
   "language": "python",
   "name": "python3"
  },
  "language_info": {
   "codemirror_mode": {
    "name": "ipython",
    "version": 3
   },
   "file_extension": ".py",
   "mimetype": "text/x-python",
   "name": "python",
   "nbconvert_exporter": "python",
   "pygments_lexer": "ipython3",
   "version": "3.10.0"
  },
  "orig_nbformat": 4,
  "vscode": {
   "interpreter": {
    "hash": "c63d8c7d738c2960218a10995aedf0a7f67a49a231e71037adf0440953cdb45b"
   }
  }
 },
 "nbformat": 4,
 "nbformat_minor": 2
}
