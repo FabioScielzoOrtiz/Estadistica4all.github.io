{
 "cells": [
  {
   "cell_type": "markdown",
   "metadata": {},
   "source": [
    "# Optimizando código en `Python`"
   ]
  },
  {
   "cell_type": "markdown",
   "metadata": {},
   "source": []
  },
  {
   "cell_type": "markdown",
   "metadata": {},
   "source": [
    "More articles in my blog:   $\\hspace{0.1cm}$   [Estadistica4all](https://fabioscielzoortiz.github.io/Estadistica4all.github.io/)\n",
    "\n",
    "&nbsp;\n",
    "\n",
    "How to reference this article ? \n",
    "\n",
    "Scielzo Ortiz, F. (2022). Optimizando código en Python. *Estadistica4all*.  [Optimizando código en Python](https://fabioscielzoortiz.github.io/Estadistica4all.github.io/Articulos/Optimizando%20codigo%20en%20Python.html )"
   ]
  },
  {
   "cell_type": "markdown",
   "metadata": {},
   "source": []
  },
  {
   "cell_type": "markdown",
   "metadata": {},
   "source": [
    "## Index\n",
    "\n",
    "* [Codigo sin optimizar ](#1)\n",
    "* [Paralelización de bucles for](#2)\n",
    "* [Usar `Numpy` en vez de `Pandas`](#3)\n",
    "* [Alternativas a los bucles for](#4)\n"
   ]
  },
  {
   "cell_type": "markdown",
   "metadata": {},
   "source": []
  },
  {
   "cell_type": "markdown",
   "metadata": {},
   "source": [
    "---"
   ]
  },
  {
   "cell_type": "markdown",
   "metadata": {},
   "source": []
  },
  {
   "cell_type": "markdown",
   "metadata": {},
   "source": [
    "## Codigo sin optimizar <a class=\"anchor\" id=\"1\"></a>"
   ]
  },
  {
   "cell_type": "markdown",
   "metadata": {},
   "source": [
    "La justificacion principal de optimizar nuestros codigos en ciencia de datos, poder implementar procedimientos en caso reales que exigen un alto rendimiento computacional.\n",
    "\n",
    "Si para ejecutar un procedimiento en un caso real el ordenador tarda horas, dias o es incluso intratable computacionalemente, directamente no podremos aplicar dicho procedimiento (por bueno que sea) en casos reales, y tendremos que limitarnos a usar procedimientos quiza peores desde un punto de vista estadistico, pero mejores a nivel de coste computacional.\n",
    "\n",
    "La idea de optimizar codigo es no tener que desechar buenos procedimientos a nivel estadistico porque sean malos a nivel computacional (sean ineficientes computacionalmente), la idea es hacerlos mas eficientes, para reducir sus costes de computacion."
   ]
  },
  {
   "cell_type": "markdown",
   "metadata": {},
   "source": [
    "El siguiente codigo es el que usaremos como ejemplo a lo largo de este articulo, la idea es medir su rendimiento original y posteriormente aplicarle diferentes tecnicas para optimizarlo y ver como cambia su rendimiento."
   ]
  },
  {
   "cell_type": "code",
   "execution_count": 62,
   "metadata": {},
   "outputs": [],
   "source": [
    "import pandas as pd\n",
    "import numpy as np"
   ]
  },
  {
   "cell_type": "code",
   "execution_count": 63,
   "metadata": {},
   "outputs": [],
   "source": [
    "House_Prices_Data = pd.read_csv('House_Price_Regression.csv')\n",
    "\n",
    "House_Prices_Data = House_Prices_Data.loc[:, ['price', 'size_in_m_2', 'no_of_bedrooms', 'no_of_bathrooms', 'quality_recode', 'latitude', 'private_garden_recode', 'private_pool_recode', 'longitude']]\n",
    "\n",
    "House_Prices_Data['quality_recode'] = House_Prices_Data['quality_recode'].astype('object')\n",
    "House_Prices_Data['private_garden_recode'] = House_Prices_Data['private_garden_recode'].astype('object')\n",
    "House_Prices_Data['private_pool_recode'] = House_Prices_Data['private_pool_recode'].astype('object')\n",
    "\n",
    "House_Prices_Data = House_Prices_Data.rename({'price': 'Y'}, axis=1)\n",
    "\n",
    "Data_Houses_Prices_Train = House_Prices_Data.sample(frac=0.8, replace=False, weights=None, random_state=555, axis=None, ignore_index=True)\n",
    "\n",
    "Data_Houses_Prices_Test = House_Prices_Data.drop( Data_Houses_Prices_Train.index , )\n",
    "\n",
    "###########################################################################\n",
    "\n",
    "# Ahora vamos a sacar por un lado los X (predictores) de test y train , y por otro Y (respuesta) de test y train\n",
    "\n",
    "# Ademas vamos a generar un nuevo Data_Test=[Y_test, X_tes]  y Data_Train=[Y_train, X_train]\n",
    "\n",
    "# Con estos data frames son con los que nos vamos a manejar\n",
    "\n",
    "X_test = Data_Houses_Prices_Test.loc[: , ['size_in_m_2', 'no_of_bedrooms', 'no_of_bathrooms','latitude', 'longitude', 'private_garden_recode', 'private_pool_recode',  'quality_recode']]\n",
    "\n",
    "Y_test = Data_Houses_Prices_Test.loc[: , 'Y']\n",
    "\n",
    "Data_Test = pd.concat([Y_test , X_test], axis=1)\n",
    "\n",
    "#########################\n",
    "\n",
    "X_train = Data_Houses_Prices_Train.loc[: , ['size_in_m_2', 'no_of_bedrooms', 'no_of_bathrooms','latitude', 'longitude', 'private_garden_recode', 'private_pool_recode',  'quality_recode']]\n",
    "\n",
    "Y_train = Data_Houses_Prices_Train.loc[: , 'Y']\n",
    "\n",
    "Data_Train = pd.concat([Y_train , X_train], axis=1)"
   ]
  },
  {
   "cell_type": "code",
   "execution_count": 64,
   "metadata": {},
   "outputs": [],
   "source": [
    "# Como ejemplo de x_new (nueva observacion de los predictores) cogemos la sexta (5 en python) observacion de X_test\n",
    "\n",
    "x_new = X_test.iloc[ 5 , range(0, X_test.shape[1])]"
   ]
  },
  {
   "cell_type": "code",
   "execution_count": 65,
   "metadata": {},
   "outputs": [],
   "source": [
    "X_train_small = X_train.iloc[0:100]\n",
    "Y_train_small = Y_train.iloc[0:100]"
   ]
  },
  {
   "cell_type": "code",
   "execution_count": 66,
   "metadata": {},
   "outputs": [],
   "source": [
    "X_train_medium = X_train.iloc[0:500]\n",
    "Y_train_medium = Y_train.iloc[0:500]"
   ]
  },
  {
   "cell_type": "markdown",
   "metadata": {},
   "source": []
  },
  {
   "cell_type": "markdown",
   "metadata": {},
   "source": [
    "La siguiente funcion es una implementacion de KNN para regresion usando la distancia de Gower, que es una metrica computacionalmente muy costosa.\n",
    "\n",
    "La idea es usar la funcion KNN_regresion dentro de una rutina de validacion cruzada, como ejemplo de procedimiento que supone un alto coste computacional."
   ]
  },
  {
   "cell_type": "code",
   "execution_count": 67,
   "metadata": {},
   "outputs": [],
   "source": [
    "def KNN_regression( X , Y , x_new, k, distance, p1, p2, p3 ):\n",
    "\n",
    "   \n",
    "####################################################################################################################################################################################################################################################\n",
    "\n",
    "    # Y tiene que ser una variable respuesta cuantitativa\n",
    "\n",
    "    # X tiene que ser un panda data frame con los predictotres (X1,...,Xp). \n",
    "\n",
    "    # x_new tiene que ser un vector. \n",
    "\n",
    "####################################################################################################################################################################################################################################################\n",
    "\n",
    "    X  = pd.concat([X , x_new.to_frame().T], ignore_index=True)\n",
    "\n",
    "    distances = []\n",
    "\n",
    "    Y_values_knn = []\n",
    "\n",
    "\n",
    "####################################################################################################################################################################################################################################################\n",
    "    \n",
    "    \n",
    "    \n",
    "    if distance == \"Gower\":\n",
    "\n",
    "        # The data matrix X have to be order in the following way:\n",
    "        # The p1 first are quantitative, the following p2 are binary categorical, and the following p3 are multiple categorical.\n",
    "\n",
    "\n",
    "        def a(Binary_Data) :\n",
    "\n",
    "            X = Binary_Data\n",
    "\n",
    "            a = X @ X.T\n",
    "\n",
    "            return(a)\n",
    "\n",
    "##########################################################################################\n",
    "\n",
    "        def d(Binary_Data):\n",
    "\n",
    "            X = Binary_Data\n",
    "\n",
    "            ones_matrix = np.ones(( X.shape[0] , X.shape[1])) \n",
    "\n",
    "            d = (ones_matrix - X) @ (ones_matrix - X).T\n",
    "\n",
    "            return(d)\n",
    "\n",
    "##########################################################################################\n",
    "\n",
    "        def alpha_py(i,j, Multiple_Categorical_Data):\n",
    "\n",
    "                X = Multiple_Categorical_Data\n",
    "\n",
    "                alpha = np.repeat(0, X.shape[1])\n",
    "\n",
    "                for k in range(0, X.shape[1]) :\n",
    "\n",
    "                    if X.iloc[i-1, k] == X.iloc[j-1, k] :\n",
    "\n",
    "                        alpha[k] = 1\n",
    "\n",
    "                    else :\n",
    "\n",
    "                        alpha[k] = 0\n",
    "\n",
    "\n",
    "                alpha = alpha.sum()\n",
    "\n",
    "                return(alpha)\n",
    "\n",
    "   ##########################################################################################\n",
    "\n",
    "\n",
    "        def Gower_Similarity_Python(i,j, Mixed_Data_Set, p1, p2, p3):\n",
    "\n",
    "            X = Mixed_Data_Set\n",
    "\n",
    "       # The data matrix X have to be order in the following way:\n",
    "       # The p1 first are quantitative, the following p2 are binary categorical, and the following p3 are multiple categorical.\n",
    "\n",
    "   #####################################################################################\n",
    "        \n",
    "            def G(k, X):\n",
    "\n",
    "                range = X.iloc[:,k].max() - X.iloc[:,k].min() \n",
    "\n",
    "                return(range)\n",
    "\n",
    "            G_vector = np.repeat(0.5, p1)\n",
    "\n",
    "            for r in range(0, p1):\n",
    "\n",
    "                G_vector[r] = G(r, X)\n",
    "                \n",
    "      \n",
    "    ##########################################################################################\n",
    "    \n",
    "            ones = np.repeat(1, p1)\n",
    "\n",
    "            Quantitative_Data = X.iloc[: , 0:p1]\n",
    "\n",
    "            Binary_Data = X.iloc[: , (p1):(p1+p2)]\n",
    "            \n",
    "            Multiple_Categorical_Data = X.iloc[: , (p1+p2):(p1+p2+p3) ]\n",
    "\n",
    "    ##########################################################################################\n",
    "\n",
    "            numerator_part_1 = ( ones - ( (Quantitative_Data.iloc[i-1,:] - Quantitative_Data.iloc[j-1,:]).abs() / G_vector ) ).sum() \n",
    "\n",
    "            numerator_part_2 = a(Binary_Data).iloc[i-1,j-1] + alpha_py(i,j, Multiple_Categorical_Data)\n",
    "\n",
    "            numerator = numerator_part_1 + numerator_part_2\n",
    " \n",
    "            denominator = p1 + (p2 - d(Binary_Data).iloc[i-1,j-1]) + p3\n",
    "\n",
    "            Similarity_Gower = numerator / denominator  \n",
    "\n",
    "            return(Similarity_Gower)\n",
    "\n",
    "##########################################################################################\n",
    "\n",
    "        def Dist_Gower_Py(i, j, Mixed_Data , p1, p2, p3):\n",
    "\n",
    "            Dist_Gower = np.sqrt( 1 - Gower_Similarity_Python(i, j, Mixed_Data , p1, p2, p3) )\n",
    "\n",
    "            return(Dist_Gower)    \n",
    "\n",
    "    ###################################################################\n",
    "\n",
    "        for j in range(1, len(X)):\n",
    "\n",
    "            distances.append( Dist_Gower_Py( len(X), j , X, p1, p2, p3) )\n",
    "\n",
    "        \n",
    "######################################################################################################################################\n",
    "    \n",
    "    distances = pd.DataFrame({'distances': distances})\n",
    "\n",
    "    distances = distances.sort_values(by=[\"distances\"]).reset_index(drop=False)\n",
    "        \n",
    "    knn = distances.iloc[0:k , :]\n",
    "\n",
    "    for i in knn.iloc[:,0]:\n",
    "\n",
    "        Y_values_knn.append(Y.iloc[i , ])\n",
    "\n",
    "\n",
    "    y_predict = sum(Y_values_knn)/k\n",
    "\n",
    "\n",
    "                                     \n",
    "    return y_predict   , distances"
   ]
  },
  {
   "cell_type": "markdown",
   "metadata": {},
   "source": []
  },
  {
   "cell_type": "markdown",
   "metadata": {},
   "source": []
  },
  {
   "cell_type": "code",
   "execution_count": 68,
   "metadata": {},
   "outputs": [],
   "source": [
    "y_predict  , distances = KNN_regression( X= X_train_small , Y= Y_train_small , x_new=x_new, k=10,  distance=\"Gower\" , p1=5, p2=2, p3=1 )"
   ]
  },
  {
   "cell_type": "code",
   "execution_count": 69,
   "metadata": {},
   "outputs": [
    {
     "data": {
      "text/plain": [
       "3762000.0"
      ]
     },
     "execution_count": 69,
     "metadata": {},
     "output_type": "execute_result"
    }
   ],
   "source": [
    "y_predict"
   ]
  },
  {
   "cell_type": "code",
   "execution_count": 70,
   "metadata": {},
   "outputs": [
    {
     "data": {
      "text/html": [
       "<div>\n",
       "<style scoped>\n",
       "    .dataframe tbody tr th:only-of-type {\n",
       "        vertical-align: middle;\n",
       "    }\n",
       "\n",
       "    .dataframe tbody tr th {\n",
       "        vertical-align: top;\n",
       "    }\n",
       "\n",
       "    .dataframe thead th {\n",
       "        text-align: right;\n",
       "    }\n",
       "</style>\n",
       "<table border=\"1\" class=\"dataframe\">\n",
       "  <thead>\n",
       "    <tr style=\"text-align: right;\">\n",
       "      <th></th>\n",
       "      <th>index</th>\n",
       "      <th>distances</th>\n",
       "    </tr>\n",
       "  </thead>\n",
       "  <tbody>\n",
       "    <tr>\n",
       "      <th>0</th>\n",
       "      <td>97</td>\n",
       "      <td>0.138970</td>\n",
       "    </tr>\n",
       "    <tr>\n",
       "      <th>1</th>\n",
       "      <td>16</td>\n",
       "      <td>0.185224</td>\n",
       "    </tr>\n",
       "    <tr>\n",
       "      <th>2</th>\n",
       "      <td>46</td>\n",
       "      <td>0.244530</td>\n",
       "    </tr>\n",
       "    <tr>\n",
       "      <th>3</th>\n",
       "      <td>49</td>\n",
       "      <td>0.297597</td>\n",
       "    </tr>\n",
       "    <tr>\n",
       "      <th>4</th>\n",
       "      <td>58</td>\n",
       "      <td>0.322041</td>\n",
       "    </tr>\n",
       "    <tr>\n",
       "      <th>...</th>\n",
       "      <td>...</td>\n",
       "      <td>...</td>\n",
       "    </tr>\n",
       "    <tr>\n",
       "      <th>95</th>\n",
       "      <td>94</td>\n",
       "      <td>0.730137</td>\n",
       "    </tr>\n",
       "    <tr>\n",
       "      <th>96</th>\n",
       "      <td>13</td>\n",
       "      <td>0.734777</td>\n",
       "    </tr>\n",
       "    <tr>\n",
       "      <th>97</th>\n",
       "      <td>63</td>\n",
       "      <td>0.744727</td>\n",
       "    </tr>\n",
       "    <tr>\n",
       "      <th>98</th>\n",
       "      <td>69</td>\n",
       "      <td>0.789989</td>\n",
       "    </tr>\n",
       "    <tr>\n",
       "      <th>99</th>\n",
       "      <td>24</td>\n",
       "      <td>0.834612</td>\n",
       "    </tr>\n",
       "  </tbody>\n",
       "</table>\n",
       "<p>100 rows × 2 columns</p>\n",
       "</div>"
      ],
      "text/plain": [
       "    index  distances\n",
       "0      97   0.138970\n",
       "1      16   0.185224\n",
       "2      46   0.244530\n",
       "3      49   0.297597\n",
       "4      58   0.322041\n",
       "..    ...        ...\n",
       "95     94   0.730137\n",
       "96     13   0.734777\n",
       "97     63   0.744727\n",
       "98     69   0.789989\n",
       "99     24   0.834612\n",
       "\n",
       "[100 rows x 2 columns]"
      ]
     },
     "execution_count": 70,
     "metadata": {},
     "output_type": "execute_result"
    }
   ],
   "source": [
    "distances"
   ]
  },
  {
   "cell_type": "markdown",
   "metadata": {},
   "source": []
  },
  {
   "cell_type": "markdown",
   "metadata": {},
   "source": [
    "La siguiente rutina de validacion simple usando la funcion KNN_regression es la que usaremos como ejemplo a lo largo de este artuiculo, ahora podremos ver cuanto tarda en ejecutarse con el algoritmo original sin haber sido optimizado de ningun modo, despues repetiremos el proceso habiendo optimizado el algoritmo con diferentes procedimientos:"
   ]
  },
  {
   "cell_type": "code",
   "execution_count": 71,
   "metadata": {},
   "outputs": [],
   "source": [
    "def validacion_simple(Data_Test, X_train, Y_train):\n",
    "\n",
    "    ##########################\n",
    "\n",
    "    def prediction(i, Data_Test, X_train, Y_train ):\n",
    "\n",
    "     x_new = Data_Test.iloc[ i , range(1, Data_Test.shape[1])]\n",
    " \n",
    "     y_new_predict , distances = KNN_regression( X_train  , Y_train , x_new, k=10, distance = \"Gower\" , p1=5, p2=2, p3=1  )\n",
    "\n",
    "     return(y_new_predict)\n",
    "\n",
    "    ##########################\n",
    "\n",
    "    y_predictions_vector = []\n",
    "\n",
    "    for i in  range(0, len(Data_Test)):\n",
    "\n",
    "        y_new_predict = prediction(i, Data_Test, X_train, Y_train )\n",
    "\n",
    "        y_predictions_vector.append( y_new_predict )\n",
    "\n",
    "    ##########################\n",
    "\n",
    "    ECM = ( (y_predictions_vector - Data_Test.loc[: , 'Y'])**2 ).sum() \n",
    "\n",
    " \n",
    "    return(y_predictions_vector , ECM)"
   ]
  },
  {
   "cell_type": "code",
   "execution_count": 72,
   "metadata": {},
   "outputs": [],
   "source": [
    "y_predictions_vector, ECM = validacion_simple(Data_Test=Data_Test, X_train=X_train_small , Y_train=Y_train_small)"
   ]
  },
  {
   "cell_type": "code",
   "execution_count": 73,
   "metadata": {},
   "outputs": [
    {
     "data": {
      "text/plain": [
       "3054953133867935.5"
      ]
     },
     "execution_count": 73,
     "metadata": {},
     "output_type": "execute_result"
    }
   ],
   "source": [
    "ECM"
   ]
  },
  {
   "cell_type": "markdown",
   "metadata": {},
   "source": [
    "El tiempo de computacion usando solo las 100 primeras filas de X_train e Y_train es de  **5.30 minutos** en media (se ha corrido 4 veces)."
   ]
  },
  {
   "cell_type": "markdown",
   "metadata": {},
   "source": []
  },
  {
   "cell_type": "markdown",
   "metadata": {},
   "source": []
  },
  {
   "cell_type": "code",
   "execution_count": 74,
   "metadata": {},
   "outputs": [],
   "source": [
    "# y_predictions_vector, ECM = validacion_simple(Data_Test=Data_Test, X_train=X_train_medium , Y_train=Y_train_medium)"
   ]
  },
  {
   "cell_type": "markdown",
   "metadata": {},
   "source": [
    "El tiempo de computacion usando las 500 primeras filas de X_train e Y_train **mas de 70 mins** (se paró la ejecucion antes de completarla)"
   ]
  },
  {
   "cell_type": "markdown",
   "metadata": {},
   "source": [
    "Como se ve, usando 500 filas de X_train e Y_train ya es practicamente imposible aplicar nuestros procedimientos.\n",
    "\n",
    "Si usasemos X_train e Y_train enteras (que tienen  1524 filas) directamente no seria posinle aplicar el algoritmo. "
   ]
  },
  {
   "cell_type": "markdown",
   "metadata": {},
   "source": []
  },
  {
   "cell_type": "markdown",
   "metadata": {},
   "source": [
    "---"
   ]
  },
  {
   "cell_type": "markdown",
   "metadata": {},
   "source": []
  },
  {
   "cell_type": "markdown",
   "metadata": {},
   "source": [
    "## Paralelización de bucles for <a class=\"anchor\" id=\"2\"></a>"
   ]
  },
  {
   "cell_type": "markdown",
   "metadata": {},
   "source": [
    "Usaremos la libreria `joblib` para paralelizar los bucles for del algoritmo KNN_regression, tambien haremos lo mismo con el bloque de codigo con el que hacemos la validacion simple"
   ]
  },
  {
   "cell_type": "code",
   "execution_count": 75,
   "metadata": {},
   "outputs": [],
   "source": [
    "def KNN_regression_Parallel_Pandas( X , Y , x_new, k, distance  , p1=0, p2=0, p3=0 ):\n",
    "\n",
    "##########################################################################################################\n",
    "\n",
    "## Para paralelizar el algoritmo \n",
    "\n",
    "    from joblib import Parallel, delayed\n",
    "    import multiprocessing\n",
    "\n",
    "####################################################################################################################################################################################################################################################\n",
    "\n",
    "    # Y tiene que ser una variable respuesta cuantitativa\n",
    "\n",
    "    # X tiene que ser un panda data frame con los predictotres (X1,...,Xp). \n",
    "\n",
    "    # x_new tiene que ser un vector. \n",
    "\n",
    "####################################################################################################################################################################################################################################################\n",
    "\n",
    "    X  = pd.concat([X , x_new.to_frame().T], ignore_index=True)\n",
    " \n",
    "    distances = []\n",
    "    Y_values_knn = []\n",
    "\n",
    "####################################################################################################################################################################################################################################################\n",
    "    \n",
    "    \n",
    "    \n",
    "    if distance == \"Gower\":\n",
    "\n",
    "        # The data matrix X have to be order in the following way:\n",
    "        # The p1 first are quantitative, the following p2 are binary categorical, and the following p3 are multiple categorical.\n",
    "\n",
    "\n",
    "        def a(Binary_Data) :\n",
    "\n",
    "            X = Binary_Data\n",
    "\n",
    "            a = X @ X.T\n",
    "\n",
    "            return(a)\n",
    "\n",
    "##########################################################################################\n",
    "\n",
    "        def d(Binary_Data):\n",
    "\n",
    "            X = Binary_Data\n",
    "\n",
    "            ones_matrix = np.ones(( X.shape[0] , X.shape[1])) \n",
    "\n",
    "            d = (ones_matrix - X) @ (ones_matrix - X).T\n",
    "\n",
    "            return(d)\n",
    "\n",
    "##########################################################################################\n",
    "\n",
    "        def alpha_py(i,j, Multiple_Categorical_Data):\n",
    "\n",
    "                X = Multiple_Categorical_Data\n",
    "\n",
    "                alpha = np.repeat(0, X.shape[1])\n",
    "\n",
    "                for k in range(0, X.shape[1]) :\n",
    "\n",
    "                    if X.iloc[i-1, k] == X.iloc[j-1, k] :\n",
    "\n",
    "                        alpha[k] = 1\n",
    "\n",
    "                    else :\n",
    "\n",
    "                        alpha[k] = 0\n",
    "\n",
    "\n",
    "                alpha = alpha.sum()\n",
    "\n",
    "                return(alpha)\n",
    "\n",
    "   ##########################################################################################\n",
    "\n",
    "\n",
    "        def Gower_Similarity_Python(i,j, Mixed_Data_Set, p1, p2, p3):\n",
    "\n",
    "            X = Mixed_Data_Set\n",
    "\n",
    "   # The data matrix X have to be order in the following way:\n",
    "   # The p1 first are quantitative, the following p2 are binary categorical, and the following p3 are multiple categorical.\n",
    "\n",
    "   #####################################################################################\n",
    "        \n",
    "            def G(k, X):\n",
    "\n",
    "                range = X.iloc[:,k].max() - X.iloc[:,k].min() \n",
    "\n",
    "                return(range)\n",
    "\n",
    "            G_vector = np.repeat(0.5, p1)\n",
    "\n",
    "            for r in range(0, p1):\n",
    "\n",
    "                G_vector[r] = G(r, X)\n",
    "                \n",
    "      \n",
    "    ##########################################################################################\n",
    "    \n",
    "            ones = np.repeat(1, p1)\n",
    "\n",
    "            Quantitative_Data = X.iloc[: , 0:p1]\n",
    "\n",
    "            Binary_Data = X.iloc[: , (p1):(p1+p2)]\n",
    "            \n",
    "            Multiple_Categorical_Data = X.iloc[: , (p1+p2):(p1+p2+p3) ]\n",
    "\n",
    "    ##########################################################################################\n",
    "\n",
    "            numerator_part_1 = ( ones - ( (Quantitative_Data.iloc[i-1,:] - Quantitative_Data.iloc[j-1,:]).abs() / G_vector ) ).sum() \n",
    "\n",
    "            numerator_part_2 = a(Binary_Data).iloc[i-1,j-1] + alpha_py(i,j, Multiple_Categorical_Data)\n",
    "\n",
    "            numerator = numerator_part_1 + numerator_part_2\n",
    " \n",
    "            denominator = p1 + (p2 - d(Binary_Data).iloc[i-1,j-1]) + p3\n",
    "\n",
    "            Similarity_Gower = numerator / denominator  \n",
    "\n",
    "            return(Similarity_Gower)\n",
    "\n",
    "##########################################################################################\n",
    "\n",
    "        def Dist_Gower_Py(i, j, Mixed_Data , p1, p2, p3):\n",
    "\n",
    "            Dist_Gower = np.sqrt( 1 - Gower_Similarity_Python(i, j, Mixed_Data , p1, p2, p3) )\n",
    "\n",
    "            return(Dist_Gower)    \n",
    "\n",
    "    ###################################################################\n",
    "\n",
    "    ### PARTE DEL CODIGO A PARALELIZAR\n",
    "\n",
    "        # for i in range(1, len(X)):\n",
    "\n",
    "            # distances.append( Dist_Gower_Py( len(X), i , X, p1, p2, p3) )\n",
    "\n",
    "\n",
    "        n_jobs  = multiprocessing.cpu_count()\n",
    "\n",
    "        distances = Parallel(n_jobs=n_jobs)( delayed(Dist_Gower_Py)( len(X), s , X, p1, p2, p3) for s in range(1, len(X)) )\n",
    "\n",
    "######################################################################################################################################\n",
    "    \n",
    "\n",
    "    distances = pd.DataFrame({'distances': distances})\n",
    "\n",
    "    distances = distances.sort_values(by=[\"distances\"]).reset_index(drop=False)\n",
    "        \n",
    "    knn = distances.iloc[0:k , :]\n",
    "\n",
    "    for i in knn.iloc[:,0]:\n",
    "\n",
    "        Y_values_knn.append(Y.iloc[i , ])\n",
    "\n",
    "\n",
    "    y_predict = sum(Y_values_knn)/k\n",
    "\n",
    "\n",
    "                                     \n",
    "    return y_predict  , distances "
   ]
  },
  {
   "cell_type": "markdown",
   "metadata": {},
   "source": []
  },
  {
   "cell_type": "code",
   "execution_count": 76,
   "metadata": {},
   "outputs": [],
   "source": [
    "y_predict  , distances = KNN_regression_Parallel_Pandas( X=X_train_small , Y=Y_train_small , x_new=x_new, k=10,  distance=\"Gower\" , p1=5, p2=2, p3=1 )"
   ]
  },
  {
   "cell_type": "code",
   "execution_count": 77,
   "metadata": {},
   "outputs": [
    {
     "data": {
      "text/plain": [
       "3762000.0"
      ]
     },
     "execution_count": 77,
     "metadata": {},
     "output_type": "execute_result"
    }
   ],
   "source": [
    "y_predict"
   ]
  },
  {
   "cell_type": "code",
   "execution_count": 78,
   "metadata": {},
   "outputs": [
    {
     "data": {
      "text/html": [
       "<div>\n",
       "<style scoped>\n",
       "    .dataframe tbody tr th:only-of-type {\n",
       "        vertical-align: middle;\n",
       "    }\n",
       "\n",
       "    .dataframe tbody tr th {\n",
       "        vertical-align: top;\n",
       "    }\n",
       "\n",
       "    .dataframe thead th {\n",
       "        text-align: right;\n",
       "    }\n",
       "</style>\n",
       "<table border=\"1\" class=\"dataframe\">\n",
       "  <thead>\n",
       "    <tr style=\"text-align: right;\">\n",
       "      <th></th>\n",
       "      <th>index</th>\n",
       "      <th>distances</th>\n",
       "    </tr>\n",
       "  </thead>\n",
       "  <tbody>\n",
       "    <tr>\n",
       "      <th>0</th>\n",
       "      <td>97</td>\n",
       "      <td>0.138970</td>\n",
       "    </tr>\n",
       "    <tr>\n",
       "      <th>1</th>\n",
       "      <td>16</td>\n",
       "      <td>0.185224</td>\n",
       "    </tr>\n",
       "    <tr>\n",
       "      <th>2</th>\n",
       "      <td>46</td>\n",
       "      <td>0.244530</td>\n",
       "    </tr>\n",
       "    <tr>\n",
       "      <th>3</th>\n",
       "      <td>49</td>\n",
       "      <td>0.297597</td>\n",
       "    </tr>\n",
       "    <tr>\n",
       "      <th>4</th>\n",
       "      <td>58</td>\n",
       "      <td>0.322041</td>\n",
       "    </tr>\n",
       "    <tr>\n",
       "      <th>...</th>\n",
       "      <td>...</td>\n",
       "      <td>...</td>\n",
       "    </tr>\n",
       "    <tr>\n",
       "      <th>95</th>\n",
       "      <td>94</td>\n",
       "      <td>0.730137</td>\n",
       "    </tr>\n",
       "    <tr>\n",
       "      <th>96</th>\n",
       "      <td>13</td>\n",
       "      <td>0.734777</td>\n",
       "    </tr>\n",
       "    <tr>\n",
       "      <th>97</th>\n",
       "      <td>63</td>\n",
       "      <td>0.744727</td>\n",
       "    </tr>\n",
       "    <tr>\n",
       "      <th>98</th>\n",
       "      <td>69</td>\n",
       "      <td>0.789989</td>\n",
       "    </tr>\n",
       "    <tr>\n",
       "      <th>99</th>\n",
       "      <td>24</td>\n",
       "      <td>0.834612</td>\n",
       "    </tr>\n",
       "  </tbody>\n",
       "</table>\n",
       "<p>100 rows × 2 columns</p>\n",
       "</div>"
      ],
      "text/plain": [
       "    index  distances\n",
       "0      97   0.138970\n",
       "1      16   0.185224\n",
       "2      46   0.244530\n",
       "3      49   0.297597\n",
       "4      58   0.322041\n",
       "..    ...        ...\n",
       "95     94   0.730137\n",
       "96     13   0.734777\n",
       "97     63   0.744727\n",
       "98     69   0.789989\n",
       "99     24   0.834612\n",
       "\n",
       "[100 rows x 2 columns]"
      ]
     },
     "execution_count": 78,
     "metadata": {},
     "output_type": "execute_result"
    }
   ],
   "source": [
    "distances"
   ]
  },
  {
   "cell_type": "markdown",
   "metadata": {},
   "source": []
  },
  {
   "cell_type": "code",
   "execution_count": 79,
   "metadata": {},
   "outputs": [],
   "source": [
    "def validacion_simple_Parallel_Pandas(Data_Test, X_train, Y_train):\n",
    "\n",
    "    ##########################\n",
    "\n",
    "    from joblib import Parallel, delayed\n",
    "    import multiprocessing\n",
    "\n",
    "    n_jobs  = multiprocessing.cpu_count()\n",
    "\n",
    "    ##########################\n",
    "\n",
    "    def prediction(i, Data_Test, X_train, Y_train ):\n",
    "\n",
    "     x_new = Data_Test.iloc[ i , range(1,Data_Test.shape[1])]\n",
    "\n",
    "     # Usamos KNN_regression_Parallel en vez de KNN_regression\n",
    " \n",
    "     y_new_predict , distances = KNN_regression_Parallel_Pandas( X=X_train  , Y=Y_train , x_new=x_new, k=10, distance = \"Gower\" , p1=5, p2=2, p3=1  )\n",
    "     \n",
    "\n",
    "     return(y_new_predict)\n",
    "\n",
    "    ##########################\n",
    "\n",
    "    \n",
    "\n",
    "    # Paralelizamos el siguiente bucle for :\n",
    "\n",
    "    # for i in  range(0, len(Data_Test)):\n",
    "\n",
    "        # y_new_predict = prediction(i, Data_Test, X_train, Y_train )\n",
    "\n",
    "        # y_predictions_vector.append( y_new_predict )\n",
    "\n",
    "    y_predictions_vector = []\n",
    "\n",
    "    y_predictions_vector = Parallel(n_jobs=n_jobs)( delayed(prediction)( i, Data_Test, X_train, Y_train) for i in range(0, len(Data_Test)) )\n",
    "\n",
    "    #########################\n",
    "\n",
    "    ECM = ( (y_predictions_vector - Data_Test.loc[: , 'Y'])**2 ).sum() \n",
    "\n",
    "\n",
    "    return(y_predictions_vector, ECM)"
   ]
  },
  {
   "cell_type": "code",
   "execution_count": 80,
   "metadata": {},
   "outputs": [],
   "source": [
    "y_predictions_vector , ECM = validacion_simple_Parallel_Pandas(Data_Test=Data_Test, X_train=X_train_small, Y_train=Y_train_small)"
   ]
  },
  {
   "cell_type": "code",
   "execution_count": 81,
   "metadata": {},
   "outputs": [
    {
     "data": {
      "text/plain": [
       "3054953133867935.5"
      ]
     },
     "execution_count": 81,
     "metadata": {},
     "output_type": "execute_result"
    }
   ],
   "source": [
    "ECM"
   ]
  },
  {
   "cell_type": "markdown",
   "metadata": {},
   "source": [
    "En este caso, tras paralelizar los algoritmos el tiempo de computacion se reduce de **5.30 mins** a **1.35 mins** (en media, se ha corrido 3 veces) , lo cual es bastante."
   ]
  },
  {
   "cell_type": "markdown",
   "metadata": {},
   "source": []
  },
  {
   "cell_type": "markdown",
   "metadata": {},
   "source": [
    "---"
   ]
  },
  {
   "cell_type": "markdown",
   "metadata": {},
   "source": []
  },
  {
   "cell_type": "markdown",
   "metadata": {},
   "source": [
    "## Usar `Numpy` en vez de `Pandas`  <a class=\"anchor\" id=\"3\"></a>"
   ]
  },
  {
   "cell_type": "markdown",
   "metadata": {},
   "source": []
  },
  {
   "cell_type": "code",
   "execution_count": 100,
   "metadata": {},
   "outputs": [],
   "source": [
    "def KNN_regression_Parallel_Numpy( X , Y , x_new, k, distance, p1=0, p2=0, p3=0 ):\n",
    "\n",
    "##########################################################################################################\n",
    "\n",
    "## Para paralelizar el algoritmo \n",
    "\n",
    "    from joblib import Parallel, delayed\n",
    "    import multiprocessing\n",
    "\n",
    "    n_jobs  = multiprocessing.cpu_count()\n",
    "\n",
    "####################################################################################################################################################################################################################################################\n",
    "\n",
    "    # Y, X y x_new deben ser objetos Pandas ya que luego seran convertidos a objetos Numpy automaticamente por el algoritmo\n",
    "    \n",
    "    # Y tiene que ser un Pandas data frame con la variable respuesta \n",
    "\n",
    "    # X tiene que ser un Pandas data frame con los predictotres (X1,...,Xp). \n",
    "\n",
    "    # x_new tiene que ser un vector con una nueva observacion de los predictores. \n",
    "\n",
    "####################################################################################################################################################################################################################################################\n",
    "\n",
    "    Y = Y.to_numpy()\n",
    "\n",
    "    X = X.to_numpy() \n",
    "\n",
    "    x_new = x_new.to_numpy()\n",
    "\n",
    "    X = np.concatenate((X, [x_new]), axis=0)\n",
    "\n",
    "\n",
    "    distances = []\n",
    "\n",
    "    Y_values_knn = []\n",
    "\n",
    "\n",
    "####################################################################################################################################################################################################################################################\n",
    "    \n",
    "    \n",
    "    \n",
    "    if distance == \"Gower\":\n",
    "\n",
    "        # The data matrix X have to be order in the following way:\n",
    "        # The p1 first are quantitative, the following p2 are binary categorical, and the following p3 are multiple categorical.\n",
    "\n",
    "\n",
    "        def a(Binary_Data) :\n",
    "\n",
    "            X = Binary_Data\n",
    "\n",
    "            a = X @ X.T\n",
    "\n",
    "            return(a)\n",
    "\n",
    "##########################################################################################\n",
    "\n",
    "        def d(Binary_Data):\n",
    "\n",
    "            X = Binary_Data\n",
    "\n",
    "            ones_matrix = np.ones(( X.shape[0] , X.shape[1])) \n",
    "\n",
    "            d = (ones_matrix - X) @ (ones_matrix - X).T\n",
    "\n",
    "            return(d)\n",
    "\n",
    "##########################################################################################\n",
    "\n",
    "        def alpha_py(i,j, Multiple_Categorical_Data):\n",
    "\n",
    "            X = Multiple_Categorical_Data\n",
    "\n",
    "            alpha = np.repeat(0, X.shape[1])\n",
    "\n",
    "            def argumento_bucle_for(k):\n",
    "\n",
    "                if X[i-1, k] == X[j-1, k] :\n",
    "\n",
    "                    alpha[k] = 1\n",
    "\n",
    "                else :\n",
    "\n",
    "                    alpha[k] = 0\n",
    "\n",
    "                return(alpha) \n",
    "    \n",
    "            alpha=Parallel(n_jobs=n_jobs)( delayed(argumento_bucle_for)( k ) for k in range(0, X.shape[1]) )\n",
    "    \n",
    "            alpha = sum(alpha)\n",
    "\n",
    "            return(alpha)\n",
    "\n",
    "##########################################################################################\n",
    "\n",
    "        def Gower_Similarity_Python(i,j, Mixed_Data_Set, p1, p2, p3):\n",
    "\n",
    "            X = Mixed_Data_Set\n",
    "\n",
    "   # The data matrix X have to be order in the following way:\n",
    "   # The p1 first are quantitative, the following p2 are binary categorical, and the following p3 are multiple categorical.\n",
    "\n",
    "   #####################################################################################\n",
    "        \n",
    "            def G(k, X):\n",
    "\n",
    "                range = X[:,k].max() - X[:,k].min() \n",
    "\n",
    "                return(range)\n",
    "\n",
    "            G_vector = np.repeat(0.5, p1)\n",
    "\n",
    "            for r in range(0, p1):\n",
    "\n",
    "                G_vector[r] = G(r, X)\n",
    "                \n",
    "      \n",
    "    ##########################################################################################\n",
    "    \n",
    "            ones = np.repeat(1, p1)\n",
    "\n",
    "            Quantitative_Data = X[: , 0:p1]\n",
    "\n",
    "            Binary_Data = X[: , (p1):(p1+p2)]\n",
    "            \n",
    "            Multiple_Categorical_Data = X[: , (p1+p2):(p1+p2+p3) ]\n",
    "\n",
    "    ##########################################################################################\n",
    "\n",
    "            numerator_part_1 = ( ones - ( abs(Quantitative_Data[i-1,:] - Quantitative_Data[j-1,:]) / G_vector ) ).sum() \n",
    "\n",
    "            numerator_part_2 = a(Binary_Data)[i-1,j-1] + alpha_py(i,j, Multiple_Categorical_Data)\n",
    "\n",
    "            numerator = numerator_part_1 + numerator_part_2\n",
    " \n",
    "            denominator = p1 + (p2 - d(Binary_Data)[i-1,j-1]) + p3\n",
    "\n",
    "            Similarity_Gower = numerator / denominator  \n",
    "\n",
    "            return(Similarity_Gower)\n",
    "  \n",
    "##########################################################################################\n",
    "\n",
    "        def Dist_Gower_Py(i, j, Mixed_Data , p1, p2, p3):\n",
    "\n",
    "            Dist_Gower = np.sqrt( 1 - Gower_Similarity_Python(i, j, Mixed_Data , p1, p2, p3) )\n",
    "\n",
    "            return(Dist_Gower)    \n",
    "\n",
    "    ###################################################################\n",
    "\n",
    "    ## PARTE DEL CODIGO A PARALELIZAR\n",
    "\n",
    "        #for j in range(1, len(X)):\n",
    "\n",
    "          #distances.append( Dist_Gower_Py( len(X), j , X, p1, p2, p3) )\n",
    "\n",
    "        n_jobs  = multiprocessing.cpu_count()\n",
    "\n",
    "        distances = Parallel(n_jobs=n_jobs)( delayed(Dist_Gower_Py)( len(X), s , X, p1, p2, p3) for s in range(1, len(X)) )\n",
    "\n",
    "######################################################################################################################################\n",
    "    \n",
    "    distances = pd.DataFrame({'distances': distances})\n",
    "\n",
    "    distances = distances.sort_values(by=[\"distances\"]).reset_index(drop=False)\n",
    "        \n",
    "    knn = distances.iloc[0:k , :]\n",
    "\n",
    "    for i in knn.iloc[:,0] :\n",
    "\n",
    "        Y_values_knn.append(Y[i, ])\n",
    "\n",
    "\n",
    "    y_predict = sum(Y_values_knn)/k\n",
    "\n",
    "                                     \n",
    "    return y_predict  , distances "
   ]
  },
  {
   "cell_type": "markdown",
   "metadata": {},
   "source": []
  },
  {
   "cell_type": "code",
   "execution_count": 101,
   "metadata": {},
   "outputs": [],
   "source": [
    "y_predict  , distances = KNN_regression_Parallel_Numpy( X=X_train_small , Y=Y_train_small , x_new=x_new, k=10, distance=\"Gower\", p1=5, p2=2, p3=1)"
   ]
  },
  {
   "cell_type": "code",
   "execution_count": 102,
   "metadata": {},
   "outputs": [
    {
     "data": {
      "text/plain": [
       "3762000.0"
      ]
     },
     "execution_count": 102,
     "metadata": {},
     "output_type": "execute_result"
    }
   ],
   "source": [
    "y_predict"
   ]
  },
  {
   "cell_type": "code",
   "execution_count": 85,
   "metadata": {},
   "outputs": [
    {
     "data": {
      "text/html": [
       "<div>\n",
       "<style scoped>\n",
       "    .dataframe tbody tr th:only-of-type {\n",
       "        vertical-align: middle;\n",
       "    }\n",
       "\n",
       "    .dataframe tbody tr th {\n",
       "        vertical-align: top;\n",
       "    }\n",
       "\n",
       "    .dataframe thead th {\n",
       "        text-align: right;\n",
       "    }\n",
       "</style>\n",
       "<table border=\"1\" class=\"dataframe\">\n",
       "  <thead>\n",
       "    <tr style=\"text-align: right;\">\n",
       "      <th></th>\n",
       "      <th>index</th>\n",
       "      <th>distances</th>\n",
       "    </tr>\n",
       "  </thead>\n",
       "  <tbody>\n",
       "    <tr>\n",
       "      <th>0</th>\n",
       "      <td>97</td>\n",
       "      <td>[0.13897014813456796]</td>\n",
       "    </tr>\n",
       "    <tr>\n",
       "      <th>1</th>\n",
       "      <td>16</td>\n",
       "      <td>[0.1852237164505301]</td>\n",
       "    </tr>\n",
       "    <tr>\n",
       "      <th>2</th>\n",
       "      <td>46</td>\n",
       "      <td>[0.24452975158447923]</td>\n",
       "    </tr>\n",
       "    <tr>\n",
       "      <th>3</th>\n",
       "      <td>49</td>\n",
       "      <td>[0.29759738381558937]</td>\n",
       "    </tr>\n",
       "    <tr>\n",
       "      <th>4</th>\n",
       "      <td>58</td>\n",
       "      <td>[0.32204114335070677]</td>\n",
       "    </tr>\n",
       "    <tr>\n",
       "      <th>...</th>\n",
       "      <td>...</td>\n",
       "      <td>...</td>\n",
       "    </tr>\n",
       "    <tr>\n",
       "      <th>95</th>\n",
       "      <td>94</td>\n",
       "      <td>[0.7301372273662897]</td>\n",
       "    </tr>\n",
       "    <tr>\n",
       "      <th>96</th>\n",
       "      <td>13</td>\n",
       "      <td>[0.7347771987827965]</td>\n",
       "    </tr>\n",
       "    <tr>\n",
       "      <th>97</th>\n",
       "      <td>63</td>\n",
       "      <td>[0.7447272350811077]</td>\n",
       "    </tr>\n",
       "    <tr>\n",
       "      <th>98</th>\n",
       "      <td>69</td>\n",
       "      <td>[0.7899891955527619]</td>\n",
       "    </tr>\n",
       "    <tr>\n",
       "      <th>99</th>\n",
       "      <td>24</td>\n",
       "      <td>[0.8346123839040952]</td>\n",
       "    </tr>\n",
       "  </tbody>\n",
       "</table>\n",
       "<p>100 rows × 2 columns</p>\n",
       "</div>"
      ],
      "text/plain": [
       "    index              distances\n",
       "0      97  [0.13897014813456796]\n",
       "1      16   [0.1852237164505301]\n",
       "2      46  [0.24452975158447923]\n",
       "3      49  [0.29759738381558937]\n",
       "4      58  [0.32204114335070677]\n",
       "..    ...                    ...\n",
       "95     94   [0.7301372273662897]\n",
       "96     13   [0.7347771987827965]\n",
       "97     63   [0.7447272350811077]\n",
       "98     69   [0.7899891955527619]\n",
       "99     24   [0.8346123839040952]\n",
       "\n",
       "[100 rows x 2 columns]"
      ]
     },
     "execution_count": 85,
     "metadata": {},
     "output_type": "execute_result"
    }
   ],
   "source": [
    "distances"
   ]
  },
  {
   "cell_type": "markdown",
   "metadata": {},
   "source": []
  },
  {
   "cell_type": "code",
   "execution_count": 103,
   "metadata": {},
   "outputs": [],
   "source": [
    "def validacion_simple_Parallel_Numpy(Data_Test, X_train, Y_train):\n",
    "\n",
    "    ##########################\n",
    "\n",
    "    from joblib import Parallel, delayed\n",
    "    import multiprocessing\n",
    "\n",
    "    n_jobs  = multiprocessing.cpu_count()\n",
    "\n",
    "    ##########################\n",
    "\n",
    "    def prediction(i, Data_Test, X_train, Y_train ):\n",
    "\n",
    "     x_new = Data_Test.iloc[ i , range(1 , Data_Test.shape[1])]\n",
    "\n",
    "     # Usamos KNN_regression_Parallel en vez de KNN_regression\n",
    " \n",
    "     y_new_predict , distances = KNN_regression_Parallel_Numpy( X_train  , Y_train , x_new, k=10, distance = \"Gower\" , p1=5, p2=2, p3=1  )\n",
    "\n",
    "     return(y_new_predict)\n",
    "\n",
    "    ##########################\n",
    "\n",
    "    y_predictions_vector = []\n",
    "\n",
    "    # Paralelizamos el siguiente bucle for :\n",
    "\n",
    "    # for i in  range(0, len(Data_Test)):\n",
    "\n",
    "        # y_new_predict = prediction(i, Data_Test, X_train, Y_train )\n",
    "\n",
    "        # y_predictions_vector.append( y_new_predict )\n",
    "\n",
    "    \n",
    "    y_predictions_vector = Parallel(n_jobs=n_jobs)( delayed(prediction)( i, Data_Test, X_train, Y_train) for i in range(0, len(Data_Test)) )\n",
    "\n",
    "    #########################\n",
    "\n",
    "    ECM = ( (y_predictions_vector - Data_Test.loc[: , 'Y'])**2 ).sum() \n",
    "\n",
    "\n",
    "    return(y_predictions_vector, ECM)"
   ]
  },
  {
   "cell_type": "code",
   "execution_count": 104,
   "metadata": {},
   "outputs": [],
   "source": [
    "y_predictions_vector, ECM = validacion_simple_Parallel_Numpy(Data_Test=Data_Test, X_train=X_train_small , Y_train=Y_train_small)"
   ]
  },
  {
   "cell_type": "code",
   "execution_count": 88,
   "metadata": {},
   "outputs": [
    {
     "data": {
      "text/plain": [
       "3054953133867935.5"
      ]
     },
     "execution_count": 88,
     "metadata": {},
     "output_type": "execute_result"
    }
   ],
   "source": [
    "ECM"
   ]
  },
  {
   "cell_type": "markdown",
   "metadata": {},
   "source": [
    "La opcion paralelizada y con Numpy solo **26 segundos** , mientras que la parelizada pero con Pandas **1.35 min**, y la no paralelizada y con pandas **5.30 min**"
   ]
  },
  {
   "cell_type": "markdown",
   "metadata": {},
   "source": []
  },
  {
   "cell_type": "code",
   "execution_count": 105,
   "metadata": {},
   "outputs": [],
   "source": [
    "y_predictions_vector, ECM = validacion_simple_Parallel_Numpy(Data_Test=Data_Test, X_train=X_train_medium , Y_train=Y_train_medium)"
   ]
  },
  {
   "cell_type": "code",
   "execution_count": 106,
   "metadata": {},
   "outputs": [
    {
     "data": {
      "text/plain": [
       "1312629089068167.2"
      ]
     },
     "execution_count": 106,
     "metadata": {},
     "output_type": "execute_result"
    }
   ],
   "source": [
    "ECM"
   ]
  },
  {
   "cell_type": "markdown",
   "metadata": {},
   "source": [
    "En este caso, usando la opcion paralelizada y con Numpy, con las primeras 500 filas de X_train e Y_train , el proceso tarda en ejecutarse **40 minutos**. Recordemos que cuando se hizo lo mismo usando el codigo sin optimizar el proceso fue interrumpido cuando llevaba **mas de 70 minutos** corriendose."
   ]
  },
  {
   "cell_type": "markdown",
   "metadata": {},
   "source": []
  },
  {
   "cell_type": "markdown",
   "metadata": {},
   "source": [
    "---"
   ]
  },
  {
   "cell_type": "markdown",
   "metadata": {},
   "source": []
  },
  {
   "cell_type": "markdown",
   "metadata": {},
   "source": [
    "## Alternativas a los bucles for <a class=\"anchor\" id=\"4\"></a>"
   ]
  },
  {
   "cell_type": "markdown",
   "metadata": {},
   "source": []
  },
  {
   "cell_type": "markdown",
   "metadata": {},
   "source": [
    "### Método `lambda`"
   ]
  },
  {
   "cell_type": "code",
   "execution_count": 89,
   "metadata": {},
   "outputs": [],
   "source": [
    "funcion = lambda x, y: x*y"
   ]
  },
  {
   "cell_type": "code",
   "execution_count": 90,
   "metadata": {},
   "outputs": [
    {
     "data": {
      "text/plain": [
       "6"
      ]
     },
     "execution_count": 90,
     "metadata": {},
     "output_type": "execute_result"
    }
   ],
   "source": [
    "funcion(3, 2)"
   ]
  },
  {
   "cell_type": "code",
   "execution_count": 91,
   "metadata": {},
   "outputs": [],
   "source": [
    "ifelse = lambda x: True  if x >= 10   else False"
   ]
  },
  {
   "cell_type": "code",
   "execution_count": 92,
   "metadata": {},
   "outputs": [
    {
     "data": {
      "text/plain": [
       "False"
      ]
     },
     "execution_count": 92,
     "metadata": {},
     "output_type": "execute_result"
    }
   ],
   "source": [
    "ifelse(5)"
   ]
  },
  {
   "cell_type": "code",
   "execution_count": 93,
   "metadata": {},
   "outputs": [
    {
     "data": {
      "text/plain": [
       "True"
      ]
     },
     "execution_count": 93,
     "metadata": {},
     "output_type": "execute_result"
    }
   ],
   "source": [
    "ifelse(40)"
   ]
  },
  {
   "cell_type": "markdown",
   "metadata": {},
   "source": []
  },
  {
   "cell_type": "markdown",
   "metadata": {},
   "source": [
    "### Función `Map`"
   ]
  },
  {
   "cell_type": "markdown",
   "metadata": {},
   "source": [
    "Con un argumento:"
   ]
  },
  {
   "cell_type": "code",
   "execution_count": 94,
   "metadata": {},
   "outputs": [],
   "source": [
    "list_values = [2,4,8,20]\n",
    "\n",
    "result = map(lambda x: x**2 , list_values)"
   ]
  },
  {
   "cell_type": "code",
   "execution_count": 95,
   "metadata": {},
   "outputs": [
    {
     "data": {
      "text/plain": [
       "[4, 16, 64, 400]"
      ]
     },
     "execution_count": 95,
     "metadata": {},
     "output_type": "execute_result"
    }
   ],
   "source": [
    "list(result)"
   ]
  },
  {
   "cell_type": "markdown",
   "metadata": {},
   "source": []
  },
  {
   "cell_type": "markdown",
   "metadata": {},
   "source": [
    "Con mas de un argumento:"
   ]
  },
  {
   "cell_type": "code",
   "execution_count": 96,
   "metadata": {},
   "outputs": [],
   "source": [
    "list_values_1 = [2,4,8,20]\n",
    "list_values_2 = [0,10,2,1]\n",
    "\n",
    "result = map(lambda x,y: x*y , list_values_1, list_values_2)"
   ]
  },
  {
   "cell_type": "code",
   "execution_count": 97,
   "metadata": {},
   "outputs": [
    {
     "data": {
      "text/plain": [
       "[0, 40, 16, 20]"
      ]
     },
     "execution_count": 97,
     "metadata": {},
     "output_type": "execute_result"
    }
   ],
   "source": [
    "list(result)"
   ]
  },
  {
   "cell_type": "markdown",
   "metadata": {},
   "source": []
  },
  {
   "cell_type": "markdown",
   "metadata": {},
   "source": [
    "### Función `Apply`"
   ]
  },
  {
   "cell_type": "code",
   "execution_count": 98,
   "metadata": {},
   "outputs": [
    {
     "data": {
      "text/plain": [
       "size_in_m_2              133.079524\n",
       "no_of_bedrooms             1.805118\n",
       "no_of_bathrooms            2.523622\n",
       "latitude                  25.116866\n",
       "longitude                 55.210818\n",
       "private_garden_recode      0.017717\n",
       "private_pool_recode        0.042651\n",
       "quality_recode             1.608268\n",
       "dtype: float64"
      ]
     },
     "execution_count": 98,
     "metadata": {},
     "output_type": "execute_result"
    }
   ],
   "source": [
    "X_train.apply(np.mean, axis=0)"
   ]
  },
  {
   "cell_type": "code",
   "execution_count": 99,
   "metadata": {},
   "outputs": [
    {
     "data": {
      "text/plain": [
       "size_in_m_2              84.602381\n",
       "no_of_bedrooms            0.947825\n",
       "no_of_bathrooms           1.059314\n",
       "latitude                  0.062086\n",
       "longitude                 0.068892\n",
       "private_garden_recode     0.131919\n",
       "private_pool_recode       0.202069\n",
       "quality_recode            0.679246\n",
       "dtype: float64"
      ]
     },
     "execution_count": 99,
     "metadata": {},
     "output_type": "execute_result"
    }
   ],
   "source": [
    "X_train.apply(np.std, axis=0)"
   ]
  },
  {
   "cell_type": "markdown",
   "metadata": {},
   "source": []
  },
  {
   "cell_type": "markdown",
   "metadata": {},
   "source": [
    "---"
   ]
  },
  {
   "cell_type": "markdown",
   "metadata": {},
   "source": []
  },
  {
   "cell_type": "markdown",
   "metadata": {},
   "source": [
    "## Bibliografia"
   ]
  },
  {
   "cell_type": "markdown",
   "metadata": {},
   "source": [
    "Tomar, A. (29 June 2022). Don’t Run Loops in Python, Instead, Use These!. *medium*.  https://medium.com/codex/3-most-effective-yet-underutilized-functions-in-python-d865ffaca0bb"
   ]
  },
  {
   "cell_type": "markdown",
   "metadata": {},
   "source": [
    "Amat Rodrigo, J. (November 2020). Paralelizar bucle for con Python. *Cienciadedatos*.  https://www.cienciadedatos.net/documentos/py12-paralelizar-con-python.html"
   ]
  }
 ],
 "metadata": {
  "kernelspec": {
   "display_name": "Python 3.10.0 64-bit",
   "language": "python",
   "name": "python3"
  },
  "language_info": {
   "codemirror_mode": {
    "name": "ipython",
    "version": 3
   },
   "file_extension": ".py",
   "mimetype": "text/x-python",
   "name": "python",
   "nbconvert_exporter": "python",
   "pygments_lexer": "ipython3",
   "version": "3.10.0"
  },
  "orig_nbformat": 4,
  "vscode": {
   "interpreter": {
    "hash": "c63d8c7d738c2960218a10995aedf0a7f67a49a231e71037adf0440953cdb45b"
   }
  }
 },
 "nbformat": 4,
 "nbformat_minor": 2
}
