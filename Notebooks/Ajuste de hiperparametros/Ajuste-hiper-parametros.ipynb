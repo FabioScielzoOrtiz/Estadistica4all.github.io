{
 "cells": [
  {
   "cell_type": "code",
   "execution_count": 79,
   "metadata": {},
   "outputs": [],
   "source": [
    "import warnings\n",
    "warnings.filterwarnings(\"ignore\")"
   ]
  },
  {
   "cell_type": "code",
   "execution_count": 80,
   "metadata": {},
   "outputs": [],
   "source": [
    "import pandas as pd\n",
    "import numpy as np\n",
    "import math\n",
    "import sklearn\n",
    "import itertools\n",
    "\n",
    "from sklearn.utils import resample\n",
    "from sklearn.neighbors import NearestNeighbors"
   ]
  },
  {
   "cell_type": "code",
   "execution_count": 81,
   "metadata": {},
   "outputs": [
    {
     "data": {
      "text/html": [
       "<div>\n",
       "<style scoped>\n",
       "    .dataframe tbody tr th:only-of-type {\n",
       "        vertical-align: middle;\n",
       "    }\n",
       "\n",
       "    .dataframe tbody tr th {\n",
       "        vertical-align: top;\n",
       "    }\n",
       "\n",
       "    .dataframe thead th {\n",
       "        text-align: right;\n",
       "    }\n",
       "</style>\n",
       "<table border=\"1\" class=\"dataframe\">\n",
       "  <thead>\n",
       "    <tr style=\"text-align: right;\">\n",
       "      <th></th>\n",
       "      <th>latitude</th>\n",
       "      <th>longitude</th>\n",
       "      <th>no_of_bathrooms</th>\n",
       "      <th>no_of_bedrooms</th>\n",
       "      <th>price</th>\n",
       "      <th>size_in_m_2</th>\n",
       "      <th>balcony_recode</th>\n",
       "      <th>private_garden_recode</th>\n",
       "      <th>quality_recode</th>\n",
       "    </tr>\n",
       "  </thead>\n",
       "  <tbody>\n",
       "    <tr>\n",
       "      <th>0</th>\n",
       "      <td>25.113208</td>\n",
       "      <td>55.138932</td>\n",
       "      <td>2</td>\n",
       "      <td>1</td>\n",
       "      <td>2700000</td>\n",
       "      <td>100.242337</td>\n",
       "      <td>1.0</td>\n",
       "      <td>0.0</td>\n",
       "      <td>2.0</td>\n",
       "    </tr>\n",
       "    <tr>\n",
       "      <th>1</th>\n",
       "      <td>25.106809</td>\n",
       "      <td>55.151201</td>\n",
       "      <td>2</td>\n",
       "      <td>2</td>\n",
       "      <td>2850000</td>\n",
       "      <td>146.972546</td>\n",
       "      <td>1.0</td>\n",
       "      <td>0.0</td>\n",
       "      <td>2.0</td>\n",
       "    </tr>\n",
       "    <tr>\n",
       "      <th>2</th>\n",
       "      <td>25.063302</td>\n",
       "      <td>55.137728</td>\n",
       "      <td>5</td>\n",
       "      <td>3</td>\n",
       "      <td>1150000</td>\n",
       "      <td>181.253753</td>\n",
       "      <td>1.0</td>\n",
       "      <td>0.0</td>\n",
       "      <td>2.0</td>\n",
       "    </tr>\n",
       "    <tr>\n",
       "      <th>3</th>\n",
       "      <td>25.227295</td>\n",
       "      <td>55.341761</td>\n",
       "      <td>3</td>\n",
       "      <td>2</td>\n",
       "      <td>2850000</td>\n",
       "      <td>187.664060</td>\n",
       "      <td>1.0</td>\n",
       "      <td>0.0</td>\n",
       "      <td>1.0</td>\n",
       "    </tr>\n",
       "    <tr>\n",
       "      <th>4</th>\n",
       "      <td>25.114275</td>\n",
       "      <td>55.139764</td>\n",
       "      <td>1</td>\n",
       "      <td>0</td>\n",
       "      <td>1729200</td>\n",
       "      <td>47.101821</td>\n",
       "      <td>0.0</td>\n",
       "      <td>0.0</td>\n",
       "      <td>2.0</td>\n",
       "    </tr>\n",
       "  </tbody>\n",
       "</table>\n",
       "</div>"
      ],
      "text/plain": [
       "    latitude  longitude  no_of_bathrooms  no_of_bedrooms    price  \\\n",
       "0  25.113208  55.138932                2               1  2700000   \n",
       "1  25.106809  55.151201                2               2  2850000   \n",
       "2  25.063302  55.137728                5               3  1150000   \n",
       "3  25.227295  55.341761                3               2  2850000   \n",
       "4  25.114275  55.139764                1               0  1729200   \n",
       "\n",
       "   size_in_m_2  balcony_recode  private_garden_recode  quality_recode  \n",
       "0   100.242337             1.0                    0.0             2.0  \n",
       "1   146.972546             1.0                    0.0             2.0  \n",
       "2   181.253753             1.0                    0.0             2.0  \n",
       "3   187.664060             1.0                    0.0             1.0  \n",
       "4    47.101821             0.0                    0.0             2.0  "
      ]
     },
     "execution_count": 81,
     "metadata": {},
     "output_type": "execute_result"
    }
   ],
   "source": [
    "Data = pd.read_csv('House_Price_Regression.csv')\n",
    "\n",
    "Data = Data.loc[:, ['latitude', 'longitude', 'no_of_bathrooms', 'no_of_bedrooms', 'price', 'size_in_m_2', 'balcony_recode', 'private_garden_recode', 'quality_recode']]\n",
    "\n",
    "Data.head()"
   ]
  },
  {
   "cell_type": "markdown",
   "metadata": {},
   "source": []
  },
  {
   "cell_type": "markdown",
   "metadata": {},
   "source": [
    "## Algoritmos de validación"
   ]
  },
  {
   "cell_type": "code",
   "execution_count": 170,
   "metadata": {},
   "outputs": [],
   "source": [
    "def simple_validation_random(D, k, response, random_seed, metric, model):\n",
    "\n",
    "    # D --> have to be a pandas data frame.\n",
    "\n",
    "    # k --> is the proportion of observation of D that define D_train.\n",
    "\n",
    "    # response --> have to be a string with the name of the response variable.\n",
    "\n",
    "    # random_seed --> seed to replicate the random process\n",
    "\n",
    "    N = len(D)\n",
    "\n",
    "    D_train = D.sample(frac=k, replace=False, random_state=random_seed)\n",
    "\n",
    "    D_test = D.drop( D_train.index , )\n",
    "\n",
    "    X_train = D_train.loc[: , D_train.columns != response]\n",
    "    Y_train = D_train.loc[: , response]\n",
    "\n",
    "    X_test = D_test.loc[: , D_test.columns != response]\n",
    "    Y_test = D_test.loc[: , response]\n",
    "\n",
    "############################################################################\n",
    "\n",
    "    # Training the model wit train sample\n",
    "\n",
    "    model.fit(X_train, Y_train)\n",
    "\n",
    "    # Making predictions with test sample\n",
    "\n",
    "    Y_predict_test = model.predict( X_test ) \n",
    "\n",
    "####################################################################\n",
    "\n",
    " # Computing the test metric\n",
    "\n",
    "    if metric == 'ECM' :  \n",
    "        \n",
    "        ECM_test = np.mean( (Y_predict_test - Y_test)**2 )\n",
    "\n",
    "        return ECM_test\n",
    "\n",
    "    elif metric == 'TAC' :  \n",
    "        \n",
    "        TA_test = np.mean( (Y_predict_test == Y_test) )\n",
    "\n",
    "        return TA_test"
   ]
  },
  {
   "cell_type": "code",
   "execution_count": 169,
   "metadata": {},
   "outputs": [],
   "source": [
    "def repeated_random_simple_validation(D, k, B, response, random_seed, metric, model):\n",
    "\n",
    "    # D --> have to be a pandas data frame.\n",
    "\n",
    "    # k --> is the proportion of observation of D that define D_train.\n",
    "\n",
    "    # B --> number of replications of the random simple validation algorithm\n",
    "\n",
    "    # response --> have to be a string with the name of the response variable.\n",
    "\n",
    "    # random_seed --> seed to replicate the random process\n",
    "\n",
    "\n",
    "    np.random.seed(random_seed)\n",
    "\n",
    "    ECM_test_list , TA_test_list = [ ] , [ ]\n",
    "\n",
    "    seed_array = np.random.randint(9999999, size=(B))\n",
    "\n",
    "\n",
    "    if metric == 'ECM':\n",
    "\n",
    "        for b in range(0,B) :\n",
    "\n",
    "            ECM_test_list.append( simple_validation_random(D, k, response, random_seed=seed_array[b], metric=metric, model=model) )\n",
    "\n",
    "\n",
    "        ECM_test = np.mean(ECM_test_list)    \n",
    "\n",
    "        return ECM_test \n",
    "\n",
    "\n",
    "    elif metric == 'TAC':\n",
    "\n",
    "        for b in range(0,B) :\n",
    "\n",
    "            TA_test_list.append( simple_validation_random(D, k, response, random_seed=seed_array[b], metric=metric, model=model) )\n",
    "\n",
    "\n",
    "        TA_test = np.mean(TA_test_list)    \n",
    "\n",
    "        return TA_test "
   ]
  },
  {
   "cell_type": "markdown",
   "metadata": {},
   "source": []
  },
  {
   "cell_type": "code",
   "execution_count": 84,
   "metadata": {},
   "outputs": [],
   "source": [
    "def repeated_K_Fold_CV(D, B, K, response, random_seed, metric, model):\n",
    "\n",
    "\n",
    "    ECM_Repeated_K_Folds_vector , TA_Repeated_K_Folds_vector = [] , []\n",
    "\n",
    "    np.random.seed(random_seed)\n",
    "\n",
    "\n",
    "    for b in range(0, B):\n",
    "\n",
    "        sample = resample(range(0, len(D)), n_samples=len(D), replace=False)\n",
    "\n",
    "        df_sample = pd.DataFrame({'index': range(0,len(D)) , 'sample':sample})\n",
    "\n",
    "        \n",
    "        Q = []\n",
    "\n",
    "        \n",
    "        for q in np.arange(0 , 1 + 1/K , 1/K):\n",
    "\n",
    "            Q.append( np.quantile( range(0, len(D)) , q ).round(0) )\n",
    "\n",
    "\n",
    "\n",
    "        ECM_K_FOLDS_vector , TA_K_FOLDS_vector = [] , []\n",
    "\n",
    "        for j in range(0, len(Q)-1):\n",
    "\n",
    "            X_test = D.loc[df_sample.loc[Q[j]:(math.floor(Q[j+1])-1), 'sample'] , D.columns != response ] \n",
    "            Y_test = D.loc[df_sample.loc[Q[j]:(math.floor(Q[j+1])-1), 'sample'] , D.columns == response ]\n",
    "\n",
    "            X_train = D.loc[ : , D.columns != response ].drop(df_sample.loc[Q[j]:(math.floor(Q[j+1])-1), 'sample'] )\n",
    "            Y_train = D.loc[ : ,  D.columns == response ].drop(df_sample.loc[Q[j]:(math.floor(Q[j+1])-1), 'sample'])      \n",
    "\n",
    "            Y_test = Y_test.to_numpy()\n",
    "\n",
    "        #######################################################################\n",
    "            \n",
    "            # Training the model wit train sample\n",
    "\n",
    "            model.fit(X_train, Y_train)\n",
    "\n",
    "            # Making predictions with test sample\n",
    "\n",
    "            Y_predict_test = model.predict( X_test )   \n",
    "\n",
    "        #######################################################################\n",
    "\n",
    "            if metric == 'ECM' :  ECM_K_FOLDS_vector.append( np.mean( ( Y_predict_test - Y_test )**2 ) )\n",
    "\n",
    "            elif metric == 'TAC' :  TA_K_FOLDS_vector.append( np.mean( ( Y_predict_test == Y_test ) ) )\n",
    "\n",
    "    \n",
    "    #######################################################################\n",
    "    \n",
    "        if metric == 'ECM' : ECM_Repeated_K_Folds_vector.append( np.mean(ECM_K_FOLDS_vector) )\n",
    "\n",
    "        elif metric == 'TAC' : TA_Repeated_K_Folds_vector.append( np.mean(TA_K_FOLDS_vector) )\n",
    "\n",
    "##########################################################################################################################\n",
    "\n",
    "    if metric == 'ECM' :\n",
    "        \n",
    "        ECM_Repeated_K_Folds = np.mean(ECM_Repeated_K_Folds_vector)\n",
    "\n",
    "        return  ECM_Repeated_K_Folds\n",
    "        \n",
    "\n",
    "    elif metric == 'TAC' :\n",
    "        \n",
    "        TA_Repeated_K_Folds = np.mean(TA_Repeated_K_Folds_vector)\n",
    "\n",
    "        return  TA_Repeated_K_Folds\n",
    "    \n",
    "    "
   ]
  },
  {
   "cell_type": "markdown",
   "metadata": {},
   "source": []
  },
  {
   "cell_type": "markdown",
   "metadata": {},
   "source": []
  },
  {
   "cell_type": "markdown",
   "metadata": {},
   "source": [
    "## Grid search "
   ]
  },
  {
   "cell_type": "code",
   "execution_count": 85,
   "metadata": {},
   "outputs": [],
   "source": [
    "def Grid_search(Data, Search_Space, response, model, validation, metric, B, k, K, random_seed_2, random_search, random_seed_1, random_samples):\n",
    "\n",
    "   Grid_Search_Metric_list = []\n",
    "\n",
    "   hyperparameter_combinations = list( itertools.product(Search_Space[0], Search_Space[1]) )\n",
    "\n",
    "   if random_search == True : \n",
    "      \n",
    "      hyperparameter_combinations = resample(hyperparameter_combinations, n_samples=random_samples, replace=False, random_state=random_seed_1)\n",
    "   \n",
    "   else : \n",
    "      \n",
    "      pass\n",
    "\n",
    "\n",
    "   if model == 'knn_regression' :\n",
    "\n",
    "      if validation == 'repeated_random_simple_validation' :\n",
    "\n",
    "         for h in hyperparameter_combinations :\n",
    "            \n",
    "            # Setting the hyperparameters of the model\n",
    "\n",
    "            knn_regression = sklearn.neighbors.KNeighborsRegressor(n_neighbors=h[0] ,  metric=h[1]) \n",
    "\n",
    "            # Applying a validation algorithm on the model  \n",
    "\n",
    "            Grid_Search_Metric_list.append( repeated_random_simple_validation(Data, k, B, response, random_seed_2, metric, model=knn_regression) )\n",
    "\n",
    "      #######################################################################   \n",
    "          \n",
    "      if validation == 'repeated_K_Fold_CV' :\n",
    "            \n",
    "         for h in hyperparameter_combinations :\n",
    "            \n",
    "            # Setting the hyperparameters of the model\n",
    "\n",
    "            knn_regression = sklearn.neighbors.KNeighborsRegressor(n_neighbors=h[0], metric=h[1]) \n",
    "\n",
    "            # Applying a validation algorithm on the model  \n",
    "\n",
    "            Grid_Search_Metric_list.append( repeated_K_Fold_CV(Data, B, K, response, random_seed_2, metric, model=knn_regression) )\n",
    "\n",
    "\n",
    "####################################################################################\n",
    "\n",
    "   if model == 'knn_classification' :\n",
    "\n",
    "      if validation == 'repeated_random_simple_validation' :\n",
    "\n",
    "         for h in hyperparameter_combinations :\n",
    "            \n",
    "            # Setting the hyperparameters of the model\n",
    "\n",
    "            knn_classification = sklearn.neighbors.KNeighborsClassifier(n_neighbors=h[0],  metric=h[1]) \n",
    "\n",
    "            # Applying a validation algorithm on the model  \n",
    "\n",
    "            Grid_Search_Metric_list.append( repeated_random_simple_validation(Data, k, B, response, random_seed_2, metric, model=knn_classification) )\n",
    "\n",
    "            #######################################################################   \n",
    "          \n",
    "      if validation == 'repeated_K_Fold_CV' :\n",
    "            \n",
    "         for h in hyperparameter_combinations :\n",
    "            \n",
    "            # Setting the hyperparameters of the model\n",
    "\n",
    "            knn_classification = sklearn.neighbors.KNeighborsClassifier(n_neighbors=h[0] ,  metric=h[1]) \n",
    "\n",
    "            # Applying a validation algorithm on the model  \n",
    "\n",
    "            Grid_Search_Metric_list.append( repeated_K_Fold_CV(Data, B, K, response, random_seed_2, metric, model=knn_classification) )\n",
    "\n",
    "\n",
    "####################################################################################\n",
    "\n",
    "   df = pd.DataFrame({'(k , distance)': hyperparameter_combinations, metric: Grid_Search_Metric_list})\n",
    "\n",
    "   if metric == 'ECM' :\n",
    "\n",
    "      df = df.sort_values(by=metric, ascending=True)\n",
    "\n",
    "   elif metric == 'TAC' :\n",
    "\n",
    "      df = df.sort_values(by=metric, ascending=False)\n",
    "\n",
    "\n",
    "   return df"
   ]
  },
  {
   "cell_type": "code",
   "execution_count": 88,
   "metadata": {},
   "outputs": [],
   "source": [
    "Grid_search_1 = Grid_search(Data=Data, Search_Space=[range(1,100) , ['euclidean','cosine','cityblock','manhattan']], response='price', model='knn_regression', validation='repeated_random_simple_validation', metric='ECM', B=10, k=0.75, K='no', random_search=False, random_samples=150, random_seed_1=123, random_seed_2=123)"
   ]
  },
  {
   "attachments": {},
   "cell_type": "markdown",
   "metadata": {},
   "source": [
    "Time: 56.8seg"
   ]
  },
  {
   "cell_type": "code",
   "execution_count": 89,
   "metadata": {},
   "outputs": [
    {
     "data": {
      "text/html": [
       "<div>\n",
       "<style scoped>\n",
       "    .dataframe tbody tr th:only-of-type {\n",
       "        vertical-align: middle;\n",
       "    }\n",
       "\n",
       "    .dataframe tbody tr th {\n",
       "        vertical-align: top;\n",
       "    }\n",
       "\n",
       "    .dataframe thead th {\n",
       "        text-align: right;\n",
       "    }\n",
       "</style>\n",
       "<table border=\"1\" class=\"dataframe\">\n",
       "  <thead>\n",
       "    <tr style=\"text-align: right;\">\n",
       "      <th></th>\n",
       "      <th>(k , distance)</th>\n",
       "      <th>ECM</th>\n",
       "    </tr>\n",
       "  </thead>\n",
       "  <tbody>\n",
       "    <tr>\n",
       "      <th>57</th>\n",
       "      <td>(15, cosine)</td>\n",
       "      <td>2.064764e+12</td>\n",
       "    </tr>\n",
       "    <tr>\n",
       "      <th>61</th>\n",
       "      <td>(16, cosine)</td>\n",
       "      <td>2.067621e+12</td>\n",
       "    </tr>\n",
       "    <tr>\n",
       "      <th>65</th>\n",
       "      <td>(17, cosine)</td>\n",
       "      <td>2.079897e+12</td>\n",
       "    </tr>\n",
       "    <tr>\n",
       "      <th>53</th>\n",
       "      <td>(14, cosine)</td>\n",
       "      <td>2.086479e+12</td>\n",
       "    </tr>\n",
       "    <tr>\n",
       "      <th>58</th>\n",
       "      <td>(15, cityblock)</td>\n",
       "      <td>2.088501e+12</td>\n",
       "    </tr>\n",
       "    <tr>\n",
       "      <th>...</th>\n",
       "      <td>...</td>\n",
       "      <td>...</td>\n",
       "    </tr>\n",
       "    <tr>\n",
       "      <th>395</th>\n",
       "      <td>(99, manhattan)</td>\n",
       "      <td>3.470547e+12</td>\n",
       "    </tr>\n",
       "    <tr>\n",
       "      <th>392</th>\n",
       "      <td>(99, euclidean)</td>\n",
       "      <td>3.471920e+12</td>\n",
       "    </tr>\n",
       "    <tr>\n",
       "      <th>1</th>\n",
       "      <td>(1, cosine)</td>\n",
       "      <td>3.646170e+12</td>\n",
       "    </tr>\n",
       "    <tr>\n",
       "      <th>2</th>\n",
       "      <td>(1, cityblock)</td>\n",
       "      <td>3.677001e+12</td>\n",
       "    </tr>\n",
       "    <tr>\n",
       "      <th>3</th>\n",
       "      <td>(1, manhattan)</td>\n",
       "      <td>3.677001e+12</td>\n",
       "    </tr>\n",
       "  </tbody>\n",
       "</table>\n",
       "<p>396 rows × 2 columns</p>\n",
       "</div>"
      ],
      "text/plain": [
       "      (k , distance)           ECM\n",
       "57      (15, cosine)  2.064764e+12\n",
       "61      (16, cosine)  2.067621e+12\n",
       "65      (17, cosine)  2.079897e+12\n",
       "53      (14, cosine)  2.086479e+12\n",
       "58   (15, cityblock)  2.088501e+12\n",
       "..               ...           ...\n",
       "395  (99, manhattan)  3.470547e+12\n",
       "392  (99, euclidean)  3.471920e+12\n",
       "1        (1, cosine)  3.646170e+12\n",
       "2     (1, cityblock)  3.677001e+12\n",
       "3     (1, manhattan)  3.677001e+12\n",
       "\n",
       "[396 rows x 2 columns]"
      ]
     },
     "execution_count": 89,
     "metadata": {},
     "output_type": "execute_result"
    }
   ],
   "source": [
    "Grid_search_1"
   ]
  },
  {
   "cell_type": "code",
   "execution_count": 176,
   "metadata": {},
   "outputs": [],
   "source": [
    "import seaborn as sns\n",
    "import matplotlib.pyplot as plt"
   ]
  },
  {
   "cell_type": "code",
   "execution_count": 200,
   "metadata": {},
   "outputs": [],
   "source": [
    "sns.set(rc={'figure.figsize':(9 , 6)})"
   ]
  },
  {
   "cell_type": "code",
   "execution_count": 207,
   "metadata": {},
   "outputs": [
    {
     "data": {
      "image/png": "[encoded data removed]",
      "text/plain": [
       "<Figure size 648x432 with 1 Axes>"
      ]
     },
     "metadata": {},
     "output_type": "display_data"
    }
   ],
   "source": [
    "fig, ax = plt.subplots()\n",
    "\n",
    "p1 = sns.barplot(x=\"ECM\", y ='(k , distance)' , data=Grid_search_1.iloc[0:15 , :], palette='mako')\n",
    "\n",
    "plt.title(\"KNN regression - Grid search - Repeated random simple validation (k=0.75 , B=10)\", fontsize=13)\n",
    "\n",
    "plt.tight_layout()\n",
    "\n",
    "fig.savefig('p1.jpg', format='jpg', dpi=1200)"
   ]
  },
  {
   "cell_type": "code",
   "execution_count": 173,
   "metadata": {},
   "outputs": [],
   "source": [
    "Grid_search_1_2 = Grid_search(Data=Data, Search_Space=[range(1,100) , ['euclidean','cosine','cityblock','manhattan']], response='quality_recode', model='knn_classification', validation='repeated_random_simple_validation', metric='TAC', B=10, k=0.75, K='no', random_search=False, random_samples=150, random_seed_1=123, random_seed_2=123)"
   ]
  },
  {
   "cell_type": "code",
   "execution_count": 174,
   "metadata": {},
   "outputs": [
    {
     "data": {
      "text/html": [
       "<div>\n",
       "<style scoped>\n",
       "    .dataframe tbody tr th:only-of-type {\n",
       "        vertical-align: middle;\n",
       "    }\n",
       "\n",
       "    .dataframe tbody tr th {\n",
       "        vertical-align: top;\n",
       "    }\n",
       "\n",
       "    .dataframe thead th {\n",
       "        text-align: right;\n",
       "    }\n",
       "</style>\n",
       "<table border=\"1\" class=\"dataframe\">\n",
       "  <thead>\n",
       "    <tr style=\"text-align: right;\">\n",
       "      <th></th>\n",
       "      <th>(k , distance)</th>\n",
       "      <th>TAC</th>\n",
       "    </tr>\n",
       "  </thead>\n",
       "  <tbody>\n",
       "    <tr>\n",
       "      <th>210</th>\n",
       "      <td>(53, cityblock)</td>\n",
       "      <td>0.595168</td>\n",
       "    </tr>\n",
       "    <tr>\n",
       "      <th>211</th>\n",
       "      <td>(53, manhattan)</td>\n",
       "      <td>0.595168</td>\n",
       "    </tr>\n",
       "    <tr>\n",
       "      <th>301</th>\n",
       "      <td>(76, cosine)</td>\n",
       "      <td>0.594958</td>\n",
       "    </tr>\n",
       "    <tr>\n",
       "      <th>293</th>\n",
       "      <td>(74, cosine)</td>\n",
       "      <td>0.594958</td>\n",
       "    </tr>\n",
       "    <tr>\n",
       "      <th>297</th>\n",
       "      <td>(75, cosine)</td>\n",
       "      <td>0.594748</td>\n",
       "    </tr>\n",
       "    <tr>\n",
       "      <th>...</th>\n",
       "      <td>...</td>\n",
       "      <td>...</td>\n",
       "    </tr>\n",
       "    <tr>\n",
       "      <th>12</th>\n",
       "      <td>(4, euclidean)</td>\n",
       "      <td>0.483403</td>\n",
       "    </tr>\n",
       "    <tr>\n",
       "      <th>5</th>\n",
       "      <td>(2, cosine)</td>\n",
       "      <td>0.429622</td>\n",
       "    </tr>\n",
       "    <tr>\n",
       "      <th>7</th>\n",
       "      <td>(2, manhattan)</td>\n",
       "      <td>0.411555</td>\n",
       "    </tr>\n",
       "    <tr>\n",
       "      <th>6</th>\n",
       "      <td>(2, cityblock)</td>\n",
       "      <td>0.411555</td>\n",
       "    </tr>\n",
       "    <tr>\n",
       "      <th>4</th>\n",
       "      <td>(2, euclidean)</td>\n",
       "      <td>0.401050</td>\n",
       "    </tr>\n",
       "  </tbody>\n",
       "</table>\n",
       "<p>396 rows × 2 columns</p>\n",
       "</div>"
      ],
      "text/plain": [
       "      (k , distance)       TAC\n",
       "210  (53, cityblock)  0.595168\n",
       "211  (53, manhattan)  0.595168\n",
       "301     (76, cosine)  0.594958\n",
       "293     (74, cosine)  0.594958\n",
       "297     (75, cosine)  0.594748\n",
       "..               ...       ...\n",
       "12    (4, euclidean)  0.483403\n",
       "5        (2, cosine)  0.429622\n",
       "7     (2, manhattan)  0.411555\n",
       "6     (2, cityblock)  0.411555\n",
       "4     (2, euclidean)  0.401050\n",
       "\n",
       "[396 rows x 2 columns]"
      ]
     },
     "execution_count": 174,
     "metadata": {},
     "output_type": "execute_result"
    }
   ],
   "source": [
    "Grid_search_1_2"
   ]
  },
  {
   "cell_type": "code",
   "execution_count": 205,
   "metadata": {},
   "outputs": [
    {
     "data": {
      "image/png": "[encoded data removed]",
      "text/plain": [
       "<Figure size 648x432 with 1 Axes>"
      ]
     },
     "metadata": {},
     "output_type": "display_data"
    }
   ],
   "source": [
    "fig, ax = plt.subplots()\n",
    "\n",
    "p2 = sns.barplot(x=\"TAC\", y ='(k , distance)' , data=Grid_search_1_2.iloc[0:15 , :], palette='mako')\n",
    "\n",
    "plt.title(\"KNN classification - Grid search - Repeated random simple validation (k=0.75 , B=10)\", fontsize=13)\n",
    "\n",
    "plt.tight_layout()\n",
    "\n",
    "fig.savefig('p2.jpg', format='jpg', dpi=1200)"
   ]
  },
  {
   "cell_type": "markdown",
   "metadata": {},
   "source": []
  },
  {
   "cell_type": "code",
   "execution_count": 90,
   "metadata": {},
   "outputs": [],
   "source": [
    "Grid_search_2 = Grid_search(Data=Data, Search_Space=[range(1,100) , ['euclidean','cosine','cityblock','manhattan']], response='price', model='knn_regression', validation='repeated_random_simple_validation', metric='ECM', B=20, k=0.75, K='no', random_search=False, random_samples=150, random_seed_1=123, random_seed_2=123)"
   ]
  },
  {
   "attachments": {},
   "cell_type": "markdown",
   "metadata": {},
   "source": [
    "Time: 1.57seg"
   ]
  },
  {
   "cell_type": "code",
   "execution_count": 190,
   "metadata": {},
   "outputs": [
    {
     "data": {
      "text/html": [
       "<div>\n",
       "<style scoped>\n",
       "    .dataframe tbody tr th:only-of-type {\n",
       "        vertical-align: middle;\n",
       "    }\n",
       "\n",
       "    .dataframe tbody tr th {\n",
       "        vertical-align: top;\n",
       "    }\n",
       "\n",
       "    .dataframe thead th {\n",
       "        text-align: right;\n",
       "    }\n",
       "</style>\n",
       "<table border=\"1\" class=\"dataframe\">\n",
       "  <thead>\n",
       "    <tr style=\"text-align: right;\">\n",
       "      <th></th>\n",
       "      <th>(k , distance)</th>\n",
       "      <th>ECM</th>\n",
       "    </tr>\n",
       "  </thead>\n",
       "  <tbody>\n",
       "    <tr>\n",
       "      <th>61</th>\n",
       "      <td>(16, cosine)</td>\n",
       "      <td>2.079239e+12</td>\n",
       "    </tr>\n",
       "    <tr>\n",
       "      <th>57</th>\n",
       "      <td>(15, cosine)</td>\n",
       "      <td>2.084669e+12</td>\n",
       "    </tr>\n",
       "    <tr>\n",
       "      <th>65</th>\n",
       "      <td>(17, cosine)</td>\n",
       "      <td>2.090697e+12</td>\n",
       "    </tr>\n",
       "    <tr>\n",
       "      <th>53</th>\n",
       "      <td>(14, cosine)</td>\n",
       "      <td>2.108925e+12</td>\n",
       "    </tr>\n",
       "    <tr>\n",
       "      <th>73</th>\n",
       "      <td>(19, cosine)</td>\n",
       "      <td>2.109291e+12</td>\n",
       "    </tr>\n",
       "    <tr>\n",
       "      <th>...</th>\n",
       "      <td>...</td>\n",
       "      <td>...</td>\n",
       "    </tr>\n",
       "    <tr>\n",
       "      <th>391</th>\n",
       "      <td>(98, manhattan)</td>\n",
       "      <td>3.700114e+12</td>\n",
       "    </tr>\n",
       "    <tr>\n",
       "      <th>388</th>\n",
       "      <td>(98, euclidean)</td>\n",
       "      <td>3.703232e+12</td>\n",
       "    </tr>\n",
       "    <tr>\n",
       "      <th>394</th>\n",
       "      <td>(99, cityblock)</td>\n",
       "      <td>3.710922e+12</td>\n",
       "    </tr>\n",
       "    <tr>\n",
       "      <th>395</th>\n",
       "      <td>(99, manhattan)</td>\n",
       "      <td>3.710922e+12</td>\n",
       "    </tr>\n",
       "    <tr>\n",
       "      <th>392</th>\n",
       "      <td>(99, euclidean)</td>\n",
       "      <td>3.714191e+12</td>\n",
       "    </tr>\n",
       "  </tbody>\n",
       "</table>\n",
       "<p>396 rows × 2 columns</p>\n",
       "</div>"
      ],
      "text/plain": [
       "      (k , distance)           ECM\n",
       "61      (16, cosine)  2.079239e+12\n",
       "57      (15, cosine)  2.084669e+12\n",
       "65      (17, cosine)  2.090697e+12\n",
       "53      (14, cosine)  2.108925e+12\n",
       "73      (19, cosine)  2.109291e+12\n",
       "..               ...           ...\n",
       "391  (98, manhattan)  3.700114e+12\n",
       "388  (98, euclidean)  3.703232e+12\n",
       "394  (99, cityblock)  3.710922e+12\n",
       "395  (99, manhattan)  3.710922e+12\n",
       "392  (99, euclidean)  3.714191e+12\n",
       "\n",
       "[396 rows x 2 columns]"
      ]
     },
     "execution_count": 190,
     "metadata": {},
     "output_type": "execute_result"
    }
   ],
   "source": [
    "Grid_search_2"
   ]
  },
  {
   "cell_type": "code",
   "execution_count": 208,
   "metadata": {},
   "outputs": [
    {
     "data": {
      "image/png": "[encoded data removed]",
      "text/plain": [
       "<Figure size 648x432 with 1 Axes>"
      ]
     },
     "metadata": {},
     "output_type": "display_data"
    }
   ],
   "source": [
    "fig, ax = plt.subplots()\n",
    "\n",
    "p3 = sns.barplot(x=\"ECM\", y ='(k , distance)' , data=Grid_search_2.iloc[0:15 , :], palette='mako')\n",
    "\n",
    "plt.title(\"KNN regression - Grid search - Repeated random simple validation (k=0.75 , B=20)\", fontsize=13)\n",
    "\n",
    "plt.tight_layout()\n",
    "\n",
    "fig.savefig('p3.jpg', format='jpg', dpi=1200)"
   ]
  },
  {
   "cell_type": "code",
   "execution_count": 193,
   "metadata": {},
   "outputs": [],
   "source": [
    "Grid_search_2_2 = Grid_search(Data=Data, Search_Space=[range(1,100) , ['euclidean','cosine','cityblock','manhattan']], response='quality_recode', model='knn_classification', validation='repeated_random_simple_validation', metric='TAC', B=20, k=0.75, K='no', random_search=False, random_samples=150, random_seed_1=123, random_seed_2=123)"
   ]
  },
  {
   "cell_type": "code",
   "execution_count": 194,
   "metadata": {},
   "outputs": [
    {
     "data": {
      "text/html": [
       "<div>\n",
       "<style scoped>\n",
       "    .dataframe tbody tr th:only-of-type {\n",
       "        vertical-align: middle;\n",
       "    }\n",
       "\n",
       "    .dataframe tbody tr th {\n",
       "        vertical-align: top;\n",
       "    }\n",
       "\n",
       "    .dataframe thead th {\n",
       "        text-align: right;\n",
       "    }\n",
       "</style>\n",
       "<table border=\"1\" class=\"dataframe\">\n",
       "  <thead>\n",
       "    <tr style=\"text-align: right;\">\n",
       "      <th></th>\n",
       "      <th>(k , distance)</th>\n",
       "      <th>TAC</th>\n",
       "    </tr>\n",
       "  </thead>\n",
       "  <tbody>\n",
       "    <tr>\n",
       "      <th>369</th>\n",
       "      <td>(93, cosine)</td>\n",
       "      <td>0.597689</td>\n",
       "    </tr>\n",
       "    <tr>\n",
       "      <th>349</th>\n",
       "      <td>(88, cosine)</td>\n",
       "      <td>0.597689</td>\n",
       "    </tr>\n",
       "    <tr>\n",
       "      <th>321</th>\n",
       "      <td>(81, cosine)</td>\n",
       "      <td>0.597689</td>\n",
       "    </tr>\n",
       "    <tr>\n",
       "      <th>345</th>\n",
       "      <td>(87, cosine)</td>\n",
       "      <td>0.597689</td>\n",
       "    </tr>\n",
       "    <tr>\n",
       "      <th>325</th>\n",
       "      <td>(82, cosine)</td>\n",
       "      <td>0.597584</td>\n",
       "    </tr>\n",
       "    <tr>\n",
       "      <th>...</th>\n",
       "      <td>...</td>\n",
       "      <td>...</td>\n",
       "    </tr>\n",
       "    <tr>\n",
       "      <th>12</th>\n",
       "      <td>(4, euclidean)</td>\n",
       "      <td>0.478782</td>\n",
       "    </tr>\n",
       "    <tr>\n",
       "      <th>5</th>\n",
       "      <td>(2, cosine)</td>\n",
       "      <td>0.431092</td>\n",
       "    </tr>\n",
       "    <tr>\n",
       "      <th>7</th>\n",
       "      <td>(2, manhattan)</td>\n",
       "      <td>0.416071</td>\n",
       "    </tr>\n",
       "    <tr>\n",
       "      <th>6</th>\n",
       "      <td>(2, cityblock)</td>\n",
       "      <td>0.416071</td>\n",
       "    </tr>\n",
       "    <tr>\n",
       "      <th>4</th>\n",
       "      <td>(2, euclidean)</td>\n",
       "      <td>0.406092</td>\n",
       "    </tr>\n",
       "  </tbody>\n",
       "</table>\n",
       "<p>396 rows × 2 columns</p>\n",
       "</div>"
      ],
      "text/plain": [
       "     (k , distance)       TAC\n",
       "369    (93, cosine)  0.597689\n",
       "349    (88, cosine)  0.597689\n",
       "321    (81, cosine)  0.597689\n",
       "345    (87, cosine)  0.597689\n",
       "325    (82, cosine)  0.597584\n",
       "..              ...       ...\n",
       "12   (4, euclidean)  0.478782\n",
       "5       (2, cosine)  0.431092\n",
       "7    (2, manhattan)  0.416071\n",
       "6    (2, cityblock)  0.416071\n",
       "4    (2, euclidean)  0.406092\n",
       "\n",
       "[396 rows x 2 columns]"
      ]
     },
     "execution_count": 194,
     "metadata": {},
     "output_type": "execute_result"
    }
   ],
   "source": [
    "Grid_search_2_2"
   ]
  },
  {
   "cell_type": "code",
   "execution_count": 210,
   "metadata": {},
   "outputs": [
    {
     "data": {
      "image/png": "[encoded data removed]",
      "text/plain": [
       "<Figure size 648x432 with 1 Axes>"
      ]
     },
     "metadata": {},
     "output_type": "display_data"
    }
   ],
   "source": [
    "fig, ax = plt.subplots()\n",
    "\n",
    "p4 = sns.barplot(x=\"TAC\", y ='(k , distance)' , data=Grid_search_2_2.iloc[0:15 , :], palette='mako')\n",
    "\n",
    "plt.title(\"KNN classification - Grid search - Repeated random simple validation (k=0.75 , B=20)\", fontsize=13)\n",
    "\n",
    "plt.tight_layout()\n",
    "\n",
    "fig.savefig('p4.jpg', format='jpg', dpi=1200)"
   ]
  },
  {
   "cell_type": "markdown",
   "metadata": {},
   "source": []
  },
  {
   "cell_type": "code",
   "execution_count": 92,
   "metadata": {},
   "outputs": [],
   "source": [
    "Grid_search_3 = Grid_search(Data=Data, Search_Space=[range(1,200) , ['euclidean','cosine','cityblock','manhattan']], response='price', model='knn_regression', validation='repeated_random_simple_validation', metric='ECM', B=20, k=0.75, K='no', random_search=False, random_samples=150, random_seed_1=123, random_seed_2=123)"
   ]
  },
  {
   "attachments": {},
   "cell_type": "markdown",
   "metadata": {},
   "source": [
    "Time: 5.3min"
   ]
  },
  {
   "cell_type": "code",
   "execution_count": 93,
   "metadata": {},
   "outputs": [
    {
     "data": {
      "text/html": [
       "<div>\n",
       "<style scoped>\n",
       "    .dataframe tbody tr th:only-of-type {\n",
       "        vertical-align: middle;\n",
       "    }\n",
       "\n",
       "    .dataframe tbody tr th {\n",
       "        vertical-align: top;\n",
       "    }\n",
       "\n",
       "    .dataframe thead th {\n",
       "        text-align: right;\n",
       "    }\n",
       "</style>\n",
       "<table border=\"1\" class=\"dataframe\">\n",
       "  <thead>\n",
       "    <tr style=\"text-align: right;\">\n",
       "      <th></th>\n",
       "      <th>(k , distance)</th>\n",
       "      <th>ECM</th>\n",
       "    </tr>\n",
       "  </thead>\n",
       "  <tbody>\n",
       "    <tr>\n",
       "      <th>61</th>\n",
       "      <td>(16, cosine)</td>\n",
       "      <td>2.079239e+12</td>\n",
       "    </tr>\n",
       "    <tr>\n",
       "      <th>57</th>\n",
       "      <td>(15, cosine)</td>\n",
       "      <td>2.084669e+12</td>\n",
       "    </tr>\n",
       "    <tr>\n",
       "      <th>65</th>\n",
       "      <td>(17, cosine)</td>\n",
       "      <td>2.090697e+12</td>\n",
       "    </tr>\n",
       "    <tr>\n",
       "      <th>53</th>\n",
       "      <td>(14, cosine)</td>\n",
       "      <td>2.108925e+12</td>\n",
       "    </tr>\n",
       "    <tr>\n",
       "      <th>73</th>\n",
       "      <td>(19, cosine)</td>\n",
       "      <td>2.109291e+12</td>\n",
       "    </tr>\n",
       "    <tr>\n",
       "      <th>...</th>\n",
       "      <td>...</td>\n",
       "      <td>...</td>\n",
       "    </tr>\n",
       "    <tr>\n",
       "      <th>791</th>\n",
       "      <td>(198, manhattan)</td>\n",
       "      <td>4.670408e+12</td>\n",
       "    </tr>\n",
       "    <tr>\n",
       "      <th>788</th>\n",
       "      <td>(198, euclidean)</td>\n",
       "      <td>4.672717e+12</td>\n",
       "    </tr>\n",
       "    <tr>\n",
       "      <th>794</th>\n",
       "      <td>(199, cityblock)</td>\n",
       "      <td>4.676174e+12</td>\n",
       "    </tr>\n",
       "    <tr>\n",
       "      <th>795</th>\n",
       "      <td>(199, manhattan)</td>\n",
       "      <td>4.676174e+12</td>\n",
       "    </tr>\n",
       "    <tr>\n",
       "      <th>792</th>\n",
       "      <td>(199, euclidean)</td>\n",
       "      <td>4.678516e+12</td>\n",
       "    </tr>\n",
       "  </tbody>\n",
       "</table>\n",
       "<p>796 rows × 2 columns</p>\n",
       "</div>"
      ],
      "text/plain": [
       "       (k , distance)           ECM\n",
       "61       (16, cosine)  2.079239e+12\n",
       "57       (15, cosine)  2.084669e+12\n",
       "65       (17, cosine)  2.090697e+12\n",
       "53       (14, cosine)  2.108925e+12\n",
       "73       (19, cosine)  2.109291e+12\n",
       "..                ...           ...\n",
       "791  (198, manhattan)  4.670408e+12\n",
       "788  (198, euclidean)  4.672717e+12\n",
       "794  (199, cityblock)  4.676174e+12\n",
       "795  (199, manhattan)  4.676174e+12\n",
       "792  (199, euclidean)  4.678516e+12\n",
       "\n",
       "[796 rows x 2 columns]"
      ]
     },
     "execution_count": 93,
     "metadata": {},
     "output_type": "execute_result"
    }
   ],
   "source": [
    "Grid_search_3"
   ]
  },
  {
   "cell_type": "code",
   "execution_count": 211,
   "metadata": {},
   "outputs": [
    {
     "data": {
      "image/png": "[encoded data removed]",
      "text/plain": [
       "<Figure size 648x432 with 1 Axes>"
      ]
     },
     "metadata": {},
     "output_type": "display_data"
    }
   ],
   "source": [
    "fig, ax = plt.subplots()\n",
    "\n",
    "p5 = sns.barplot(x=\"ECM\", y ='(k , distance)' , data=Grid_search_3.iloc[0:15 , :], palette='mako')\n",
    "\n",
    "plt.title(\"KNN regression - Grid search - Repeated random simple validation (k=0.75 , B=20)\", fontsize=13)\n",
    "\n",
    "plt.tight_layout()\n",
    "\n",
    "fig.savefig('p5.jpg', format='jpg', dpi=1200)"
   ]
  },
  {
   "cell_type": "code",
   "execution_count": 215,
   "metadata": {},
   "outputs": [],
   "source": [
    "Grid_search_3_2 = Grid_search(Data=Data, Search_Space=[range(1,200) , ['euclidean','cosine','cityblock','manhattan']], response='quality_recode', model='knn_classification', validation='repeated_random_simple_validation', metric='TAC', B=20, k=0.75, K='no', random_search=False, random_samples=150, random_seed_1=123, random_seed_2=123)"
   ]
  },
  {
   "cell_type": "code",
   "execution_count": null,
   "metadata": {},
   "outputs": [],
   "source": [
    "Grid_search_3_2"
   ]
  },
  {
   "cell_type": "code",
   "execution_count": null,
   "metadata": {},
   "outputs": [],
   "source": [
    "fig, ax = plt.subplots()\n",
    "\n",
    "p5_2 = sns.barplot(x=\"TAC\", y ='(k , distance)' , data=Grid_search_3_2.iloc[0:15 , :], palette='mako')\n",
    "\n",
    "plt.title(\"KNN classification - Grid search - Repeated random simple validation (k=0.75 , B=20)\", fontsize=13)\n",
    "\n",
    "plt.tight_layout()\n",
    "\n",
    "fig.savefig('p5_2.jpg', format='jpg', dpi=1200)"
   ]
  },
  {
   "cell_type": "markdown",
   "metadata": {},
   "source": []
  },
  {
   "cell_type": "code",
   "execution_count": 94,
   "metadata": {},
   "outputs": [],
   "source": [
    "Grid_search_4 = Grid_search(Data=Data, Search_Space=[range(1,200) , ['euclidean','cosine','cityblock','manhattan']], response='price', model='knn_regression', validation='repeated_random_simple_validation', metric='ECM', B=20, k=0.75, K='no', random_search=True, random_samples=200, random_seed_1=123, random_seed_2=123)"
   ]
  },
  {
   "attachments": {},
   "cell_type": "markdown",
   "metadata": {},
   "source": [
    "Time: 1.2min"
   ]
  },
  {
   "cell_type": "code",
   "execution_count": 95,
   "metadata": {},
   "outputs": [
    {
     "data": {
      "text/html": [
       "<div>\n",
       "<style scoped>\n",
       "    .dataframe tbody tr th:only-of-type {\n",
       "        vertical-align: middle;\n",
       "    }\n",
       "\n",
       "    .dataframe tbody tr th {\n",
       "        vertical-align: top;\n",
       "    }\n",
       "\n",
       "    .dataframe thead th {\n",
       "        text-align: right;\n",
       "    }\n",
       "</style>\n",
       "<table border=\"1\" class=\"dataframe\">\n",
       "  <thead>\n",
       "    <tr style=\"text-align: right;\">\n",
       "      <th></th>\n",
       "      <th>(k , distance)</th>\n",
       "      <th>ECM</th>\n",
       "    </tr>\n",
       "  </thead>\n",
       "  <tbody>\n",
       "    <tr>\n",
       "      <th>23</th>\n",
       "      <td>(15, cosine)</td>\n",
       "      <td>2.084669e+12</td>\n",
       "    </tr>\n",
       "    <tr>\n",
       "      <th>190</th>\n",
       "      <td>(15, manhattan)</td>\n",
       "      <td>2.124952e+12</td>\n",
       "    </tr>\n",
       "    <tr>\n",
       "      <th>165</th>\n",
       "      <td>(17, euclidean)</td>\n",
       "      <td>2.126173e+12</td>\n",
       "    </tr>\n",
       "    <tr>\n",
       "      <th>47</th>\n",
       "      <td>(19, cityblock)</td>\n",
       "      <td>2.128057e+12</td>\n",
       "    </tr>\n",
       "    <tr>\n",
       "      <th>68</th>\n",
       "      <td>(19, manhattan)</td>\n",
       "      <td>2.128057e+12</td>\n",
       "    </tr>\n",
       "    <tr>\n",
       "      <th>...</th>\n",
       "      <td>...</td>\n",
       "      <td>...</td>\n",
       "    </tr>\n",
       "    <tr>\n",
       "      <th>128</th>\n",
       "      <td>(196, cityblock)</td>\n",
       "      <td>4.657349e+12</td>\n",
       "    </tr>\n",
       "    <tr>\n",
       "      <th>199</th>\n",
       "      <td>(196, euclidean)</td>\n",
       "      <td>4.659289e+12</td>\n",
       "    </tr>\n",
       "    <tr>\n",
       "      <th>17</th>\n",
       "      <td>(198, cityblock)</td>\n",
       "      <td>4.670408e+12</td>\n",
       "    </tr>\n",
       "    <tr>\n",
       "      <th>142</th>\n",
       "      <td>(198, manhattan)</td>\n",
       "      <td>4.670408e+12</td>\n",
       "    </tr>\n",
       "    <tr>\n",
       "      <th>154</th>\n",
       "      <td>(198, euclidean)</td>\n",
       "      <td>4.672717e+12</td>\n",
       "    </tr>\n",
       "  </tbody>\n",
       "</table>\n",
       "<p>200 rows × 2 columns</p>\n",
       "</div>"
      ],
      "text/plain": [
       "       (k , distance)           ECM\n",
       "23       (15, cosine)  2.084669e+12\n",
       "190   (15, manhattan)  2.124952e+12\n",
       "165   (17, euclidean)  2.126173e+12\n",
       "47    (19, cityblock)  2.128057e+12\n",
       "68    (19, manhattan)  2.128057e+12\n",
       "..                ...           ...\n",
       "128  (196, cityblock)  4.657349e+12\n",
       "199  (196, euclidean)  4.659289e+12\n",
       "17   (198, cityblock)  4.670408e+12\n",
       "142  (198, manhattan)  4.670408e+12\n",
       "154  (198, euclidean)  4.672717e+12\n",
       "\n",
       "[200 rows x 2 columns]"
      ]
     },
     "execution_count": 95,
     "metadata": {},
     "output_type": "execute_result"
    }
   ],
   "source": [
    "Grid_search_4"
   ]
  },
  {
   "cell_type": "code",
   "execution_count": 212,
   "metadata": {},
   "outputs": [
    {
     "data": {
      "image/png": "[encoded data removed]",
      "text/plain": [
       "<Figure size 648x432 with 1 Axes>"
      ]
     },
     "metadata": {},
     "output_type": "display_data"
    }
   ],
   "source": [
    "fig, ax = plt.subplots()\n",
    "\n",
    "p6 = sns.barplot(x=\"ECM\", y ='(k , distance)' , data=Grid_search_4.iloc[0:15 , :], palette='mako')\n",
    "\n",
    "plt.title(\"KNN regression - Random search - Repeated random simple validation (k=0.75 , B=20)\", fontsize=13)\n",
    "\n",
    "plt.tight_layout()\n",
    "\n",
    "fig.savefig('p6.jpg', format='jpg', dpi=1200)"
   ]
  },
  {
   "cell_type": "code",
   "execution_count": null,
   "metadata": {},
   "outputs": [],
   "source": [
    "Grid_search_4_2 = Grid_search(Data=Data, Search_Space=[range(1,200) , ['euclidean','cosine','cityblock','manhattan']], response='quality_recode', model='knn_classification', validation='repeated_random_simple_validation', metric='TAC', B=20, k=0.75, K='no', random_search=True, random_samples=200, random_seed_1=123, random_seed_2=123)"
   ]
  },
  {
   "cell_type": "code",
   "execution_count": null,
   "metadata": {},
   "outputs": [],
   "source": [
    "Grid_search_4_2"
   ]
  },
  {
   "cell_type": "code",
   "execution_count": null,
   "metadata": {},
   "outputs": [],
   "source": [
    "fig, ax = plt.subplots()\n",
    "\n",
    "p6 = sns.barplot(x=\"TAC\", y ='(k , distance)' , data=Grid_search_4_2.iloc[0:15 , :], palette='mako')\n",
    "\n",
    "plt.title(\"KNN classification - Random search - Repeated random simple validation (k=0.75 , B=20)\", fontsize=13)\n",
    "\n",
    "plt.tight_layout()\n",
    "\n",
    "fig.savefig('p6.jpg', format='jpg', dpi=1200)"
   ]
  },
  {
   "cell_type": "markdown",
   "metadata": {},
   "source": []
  },
  {
   "cell_type": "code",
   "execution_count": 96,
   "metadata": {},
   "outputs": [],
   "source": [
    "Grid_search_5 = Grid_search(Data=Data, Search_Space=[range(1,100) , ['euclidean','cosine','cityblock','manhattan']], response='price', model='knn_regression', validation='repeated_K_Fold_CV', metric='ECM', B=5, k='no', K=10, random_search=False, random_samples=150, random_seed_1=123, random_seed_2=123)"
   ]
  },
  {
   "attachments": {},
   "cell_type": "markdown",
   "metadata": {},
   "source": [
    "Time: 4.37 min"
   ]
  },
  {
   "cell_type": "code",
   "execution_count": 97,
   "metadata": {},
   "outputs": [
    {
     "data": {
      "text/html": [
       "<div>\n",
       "<style scoped>\n",
       "    .dataframe tbody tr th:only-of-type {\n",
       "        vertical-align: middle;\n",
       "    }\n",
       "\n",
       "    .dataframe tbody tr th {\n",
       "        vertical-align: top;\n",
       "    }\n",
       "\n",
       "    .dataframe thead th {\n",
       "        text-align: right;\n",
       "    }\n",
       "</style>\n",
       "<table border=\"1\" class=\"dataframe\">\n",
       "  <thead>\n",
       "    <tr style=\"text-align: right;\">\n",
       "      <th></th>\n",
       "      <th>(k , distance)</th>\n",
       "      <th>ECM</th>\n",
       "    </tr>\n",
       "  </thead>\n",
       "  <tbody>\n",
       "    <tr>\n",
       "      <th>69</th>\n",
       "      <td>(18, cosine)</td>\n",
       "      <td>2.213103e+12</td>\n",
       "    </tr>\n",
       "    <tr>\n",
       "      <th>73</th>\n",
       "      <td>(19, cosine)</td>\n",
       "      <td>2.213636e+12</td>\n",
       "    </tr>\n",
       "    <tr>\n",
       "      <th>57</th>\n",
       "      <td>(15, cosine)</td>\n",
       "      <td>2.215151e+12</td>\n",
       "    </tr>\n",
       "    <tr>\n",
       "      <th>61</th>\n",
       "      <td>(16, cosine)</td>\n",
       "      <td>2.221992e+12</td>\n",
       "    </tr>\n",
       "    <tr>\n",
       "      <th>65</th>\n",
       "      <td>(17, cosine)</td>\n",
       "      <td>2.222929e+12</td>\n",
       "    </tr>\n",
       "    <tr>\n",
       "      <th>...</th>\n",
       "      <td>...</td>\n",
       "      <td>...</td>\n",
       "    </tr>\n",
       "    <tr>\n",
       "      <th>391</th>\n",
       "      <td>(98, manhattan)</td>\n",
       "      <td>4.068432e+12</td>\n",
       "    </tr>\n",
       "    <tr>\n",
       "      <th>388</th>\n",
       "      <td>(98, euclidean)</td>\n",
       "      <td>4.072752e+12</td>\n",
       "    </tr>\n",
       "    <tr>\n",
       "      <th>394</th>\n",
       "      <td>(99, cityblock)</td>\n",
       "      <td>4.087051e+12</td>\n",
       "    </tr>\n",
       "    <tr>\n",
       "      <th>395</th>\n",
       "      <td>(99, manhattan)</td>\n",
       "      <td>4.087051e+12</td>\n",
       "    </tr>\n",
       "    <tr>\n",
       "      <th>392</th>\n",
       "      <td>(99, euclidean)</td>\n",
       "      <td>4.093847e+12</td>\n",
       "    </tr>\n",
       "  </tbody>\n",
       "</table>\n",
       "<p>396 rows × 2 columns</p>\n",
       "</div>"
      ],
      "text/plain": [
       "      (k , distance)           ECM\n",
       "69      (18, cosine)  2.213103e+12\n",
       "73      (19, cosine)  2.213636e+12\n",
       "57      (15, cosine)  2.215151e+12\n",
       "61      (16, cosine)  2.221992e+12\n",
       "65      (17, cosine)  2.222929e+12\n",
       "..               ...           ...\n",
       "391  (98, manhattan)  4.068432e+12\n",
       "388  (98, euclidean)  4.072752e+12\n",
       "394  (99, cityblock)  4.087051e+12\n",
       "395  (99, manhattan)  4.087051e+12\n",
       "392  (99, euclidean)  4.093847e+12\n",
       "\n",
       "[396 rows x 2 columns]"
      ]
     },
     "execution_count": 97,
     "metadata": {},
     "output_type": "execute_result"
    }
   ],
   "source": [
    "Grid_search_5"
   ]
  },
  {
   "cell_type": "code",
   "execution_count": 213,
   "metadata": {},
   "outputs": [
    {
     "data": {
      "image/png": "[encoded data removed]",
      "text/plain": [
       "<Figure size 648x432 with 1 Axes>"
      ]
     },
     "metadata": {},
     "output_type": "display_data"
    }
   ],
   "source": [
    "fig, ax = plt.subplots()\n",
    "\n",
    "p7 = sns.barplot(x=\"ECM\", y ='(k , distance)' , data=Grid_search_5.iloc[0:15 , :], palette='mako')\n",
    "\n",
    "plt.title(\"KNN regression - Random search - Repeated K Fold (K=10 , B=5)\", fontsize=13)\n",
    "\n",
    "plt.tight_layout()\n",
    "\n",
    "fig.savefig('p7.jpg', format='jpg', dpi=1200)"
   ]
  },
  {
   "cell_type": "code",
   "execution_count": 98,
   "metadata": {},
   "outputs": [],
   "source": [
    "Grid_search_6 = Grid_search(Data=Data, Search_Space=[range(1,100) , ['euclidean','cosine','cityblock','manhattan']], response='price', model='knn_regression', validation='repeated_K_Fold_CV', metric='ECM', B=15, k='no', K=10, random_search=False, random_samples=150, random_seed_1=123, random_seed_2=123)"
   ]
  },
  {
   "attachments": {},
   "cell_type": "markdown",
   "metadata": {},
   "source": [
    "Time: 14.35min"
   ]
  },
  {
   "cell_type": "code",
   "execution_count": 100,
   "metadata": {},
   "outputs": [
    {
     "data": {
      "text/html": [
       "<div>\n",
       "<style scoped>\n",
       "    .dataframe tbody tr th:only-of-type {\n",
       "        vertical-align: middle;\n",
       "    }\n",
       "\n",
       "    .dataframe tbody tr th {\n",
       "        vertical-align: top;\n",
       "    }\n",
       "\n",
       "    .dataframe thead th {\n",
       "        text-align: right;\n",
       "    }\n",
       "</style>\n",
       "<table border=\"1\" class=\"dataframe\">\n",
       "  <thead>\n",
       "    <tr style=\"text-align: right;\">\n",
       "      <th></th>\n",
       "      <th>(k , distance)</th>\n",
       "      <th>ECM</th>\n",
       "    </tr>\n",
       "  </thead>\n",
       "  <tbody>\n",
       "    <tr>\n",
       "      <th>65</th>\n",
       "      <td>(17, cosine)</td>\n",
       "      <td>2.212144e+12</td>\n",
       "    </tr>\n",
       "    <tr>\n",
       "      <th>69</th>\n",
       "      <td>(18, cosine)</td>\n",
       "      <td>2.214874e+12</td>\n",
       "    </tr>\n",
       "    <tr>\n",
       "      <th>61</th>\n",
       "      <td>(16, cosine)</td>\n",
       "      <td>2.215972e+12</td>\n",
       "    </tr>\n",
       "    <tr>\n",
       "      <th>73</th>\n",
       "      <td>(19, cosine)</td>\n",
       "      <td>2.220315e+12</td>\n",
       "    </tr>\n",
       "    <tr>\n",
       "      <th>57</th>\n",
       "      <td>(15, cosine)</td>\n",
       "      <td>2.226790e+12</td>\n",
       "    </tr>\n",
       "    <tr>\n",
       "      <th>...</th>\n",
       "      <td>...</td>\n",
       "      <td>...</td>\n",
       "    </tr>\n",
       "    <tr>\n",
       "      <th>390</th>\n",
       "      <td>(98, cityblock)</td>\n",
       "      <td>4.082009e+12</td>\n",
       "    </tr>\n",
       "    <tr>\n",
       "      <th>388</th>\n",
       "      <td>(98, euclidean)</td>\n",
       "      <td>4.086456e+12</td>\n",
       "    </tr>\n",
       "    <tr>\n",
       "      <th>394</th>\n",
       "      <td>(99, cityblock)</td>\n",
       "      <td>4.101063e+12</td>\n",
       "    </tr>\n",
       "    <tr>\n",
       "      <th>395</th>\n",
       "      <td>(99, manhattan)</td>\n",
       "      <td>4.101063e+12</td>\n",
       "    </tr>\n",
       "    <tr>\n",
       "      <th>392</th>\n",
       "      <td>(99, euclidean)</td>\n",
       "      <td>4.105382e+12</td>\n",
       "    </tr>\n",
       "  </tbody>\n",
       "</table>\n",
       "<p>396 rows × 2 columns</p>\n",
       "</div>"
      ],
      "text/plain": [
       "      (k , distance)           ECM\n",
       "65      (17, cosine)  2.212144e+12\n",
       "69      (18, cosine)  2.214874e+12\n",
       "61      (16, cosine)  2.215972e+12\n",
       "73      (19, cosine)  2.220315e+12\n",
       "57      (15, cosine)  2.226790e+12\n",
       "..               ...           ...\n",
       "390  (98, cityblock)  4.082009e+12\n",
       "388  (98, euclidean)  4.086456e+12\n",
       "394  (99, cityblock)  4.101063e+12\n",
       "395  (99, manhattan)  4.101063e+12\n",
       "392  (99, euclidean)  4.105382e+12\n",
       "\n",
       "[396 rows x 2 columns]"
      ]
     },
     "execution_count": 100,
     "metadata": {},
     "output_type": "execute_result"
    }
   ],
   "source": [
    "Grid_search_6"
   ]
  },
  {
   "cell_type": "code",
   "execution_count": 214,
   "metadata": {},
   "outputs": [
    {
     "data": {
      "image/png": "[encoded data removed]",
      "text/plain": [
       "<Figure size 648x432 with 1 Axes>"
      ]
     },
     "metadata": {},
     "output_type": "display_data"
    }
   ],
   "source": [
    "fig, ax = plt.subplots()\n",
    "\n",
    "p8 = sns.barplot(x=\"ECM\", y ='(k , distance)' , data=Grid_search_6.iloc[0:15 , :], palette='mako')\n",
    "\n",
    "plt.title(\"KNN regression - Grid search - Repeated K Fold (K=10 , B=15)\", fontsize=13)\n",
    "\n",
    "plt.tight_layout()\n",
    "\n",
    "fig.savefig('p8.jpg', format='jpg', dpi=1200)"
   ]
  },
  {
   "cell_type": "code",
   "execution_count": 101,
   "metadata": {},
   "outputs": [],
   "source": [
    "Grid_search_7 = Grid_search(Data=Data, Search_Space=[range(1,100) , ['euclidean','cosine','cityblock','manhattan']], response='price', model='knn_regression', validation='repeated_K_Fold_CV', metric='ECM', B=15, k='no', K=10, random_search=True, random_samples=200, random_seed_1=123, random_seed_2=123)"
   ]
  },
  {
   "attachments": {},
   "cell_type": "markdown",
   "metadata": {},
   "source": [
    "Time: 7.29 mins"
   ]
  },
  {
   "cell_type": "code",
   "execution_count": 102,
   "metadata": {},
   "outputs": [
    {
     "data": {
      "text/html": [
       "<div>\n",
       "<style scoped>\n",
       "    .dataframe tbody tr th:only-of-type {\n",
       "        vertical-align: middle;\n",
       "    }\n",
       "\n",
       "    .dataframe tbody tr th {\n",
       "        vertical-align: top;\n",
       "    }\n",
       "\n",
       "    .dataframe thead th {\n",
       "        text-align: right;\n",
       "    }\n",
       "</style>\n",
       "<table border=\"1\" class=\"dataframe\">\n",
       "  <thead>\n",
       "    <tr style=\"text-align: right;\">\n",
       "      <th></th>\n",
       "      <th>(k , distance)</th>\n",
       "      <th>ECM</th>\n",
       "    </tr>\n",
       "  </thead>\n",
       "  <tbody>\n",
       "    <tr>\n",
       "      <th>164</th>\n",
       "      <td>(16, cosine)</td>\n",
       "      <td>2.215972e+12</td>\n",
       "    </tr>\n",
       "    <tr>\n",
       "      <th>138</th>\n",
       "      <td>(14, cosine)</td>\n",
       "      <td>2.241301e+12</td>\n",
       "    </tr>\n",
       "    <tr>\n",
       "      <th>196</th>\n",
       "      <td>(13, cosine)</td>\n",
       "      <td>2.245269e+12</td>\n",
       "    </tr>\n",
       "    <tr>\n",
       "      <th>125</th>\n",
       "      <td>(8, cosine)</td>\n",
       "      <td>2.246148e+12</td>\n",
       "    </tr>\n",
       "    <tr>\n",
       "      <th>50</th>\n",
       "      <td>(7, cityblock)</td>\n",
       "      <td>2.249594e+12</td>\n",
       "    </tr>\n",
       "    <tr>\n",
       "      <th>...</th>\n",
       "      <td>...</td>\n",
       "      <td>...</td>\n",
       "    </tr>\n",
       "    <tr>\n",
       "      <th>36</th>\n",
       "      <td>(97, euclidean)</td>\n",
       "      <td>4.069186e+12</td>\n",
       "    </tr>\n",
       "    <tr>\n",
       "      <th>53</th>\n",
       "      <td>(98, manhattan)</td>\n",
       "      <td>4.082009e+12</td>\n",
       "    </tr>\n",
       "    <tr>\n",
       "      <th>134</th>\n",
       "      <td>(99, cityblock)</td>\n",
       "      <td>4.101063e+12</td>\n",
       "    </tr>\n",
       "    <tr>\n",
       "      <th>130</th>\n",
       "      <td>(99, manhattan)</td>\n",
       "      <td>4.101063e+12</td>\n",
       "    </tr>\n",
       "    <tr>\n",
       "      <th>146</th>\n",
       "      <td>(99, euclidean)</td>\n",
       "      <td>4.105382e+12</td>\n",
       "    </tr>\n",
       "  </tbody>\n",
       "</table>\n",
       "<p>200 rows × 2 columns</p>\n",
       "</div>"
      ],
      "text/plain": [
       "      (k , distance)           ECM\n",
       "164     (16, cosine)  2.215972e+12\n",
       "138     (14, cosine)  2.241301e+12\n",
       "196     (13, cosine)  2.245269e+12\n",
       "125      (8, cosine)  2.246148e+12\n",
       "50    (7, cityblock)  2.249594e+12\n",
       "..               ...           ...\n",
       "36   (97, euclidean)  4.069186e+12\n",
       "53   (98, manhattan)  4.082009e+12\n",
       "134  (99, cityblock)  4.101063e+12\n",
       "130  (99, manhattan)  4.101063e+12\n",
       "146  (99, euclidean)  4.105382e+12\n",
       "\n",
       "[200 rows x 2 columns]"
      ]
     },
     "execution_count": 102,
     "metadata": {},
     "output_type": "execute_result"
    }
   ],
   "source": [
    "Grid_search_7"
   ]
  },
  {
   "cell_type": "code",
   "execution_count": null,
   "metadata": {},
   "outputs": [],
   "source": [
    "fig, ax = plt.subplots()\n",
    "\n",
    "p9 = sns.barplot(x=\"ECM\", y ='(k , distance)' , data=Grid_search_7.iloc[0:15 , :], palette='mako')\n",
    "\n",
    "plt.title(\"KNN regression - Random search - Repeated K Fold (K=10 , B=15)\", fontsize=13)\n",
    "\n",
    "plt.tight_layout()\n",
    "\n",
    "fig.savefig('p9.jpg', format='jpg', dpi=1200)"
   ]
  },
  {
   "cell_type": "code",
   "execution_count": 103,
   "metadata": {},
   "outputs": [],
   "source": [
    "Grid_search_8 = Grid_search(Data=Data, Search_Space=[range(1,100) , ['euclidean','cosine','cityblock','manhattan']], response='price', model='knn_regression', validation='repeated_K_Fold_CV', metric='ECM', B=5, k='no', K=10, random_search=True, random_samples=200, random_seed_1=123, random_seed_2=123)"
   ]
  },
  {
   "attachments": {},
   "cell_type": "markdown",
   "metadata": {},
   "source": [
    "Time: 2.16min"
   ]
  },
  {
   "cell_type": "code",
   "execution_count": 104,
   "metadata": {},
   "outputs": [
    {
     "data": {
      "text/html": [
       "<div>\n",
       "<style scoped>\n",
       "    .dataframe tbody tr th:only-of-type {\n",
       "        vertical-align: middle;\n",
       "    }\n",
       "\n",
       "    .dataframe tbody tr th {\n",
       "        vertical-align: top;\n",
       "    }\n",
       "\n",
       "    .dataframe thead th {\n",
       "        text-align: right;\n",
       "    }\n",
       "</style>\n",
       "<table border=\"1\" class=\"dataframe\">\n",
       "  <thead>\n",
       "    <tr style=\"text-align: right;\">\n",
       "      <th></th>\n",
       "      <th>(k , distance)</th>\n",
       "      <th>ECM</th>\n",
       "    </tr>\n",
       "  </thead>\n",
       "  <tbody>\n",
       "    <tr>\n",
       "      <th>164</th>\n",
       "      <td>(16, cosine)</td>\n",
       "      <td>2.221992e+12</td>\n",
       "    </tr>\n",
       "    <tr>\n",
       "      <th>138</th>\n",
       "      <td>(14, cosine)</td>\n",
       "      <td>2.233684e+12</td>\n",
       "    </tr>\n",
       "    <tr>\n",
       "      <th>196</th>\n",
       "      <td>(13, cosine)</td>\n",
       "      <td>2.242026e+12</td>\n",
       "    </tr>\n",
       "    <tr>\n",
       "      <th>106</th>\n",
       "      <td>(14, manhattan)</td>\n",
       "      <td>2.251908e+12</td>\n",
       "    </tr>\n",
       "    <tr>\n",
       "      <th>6</th>\n",
       "      <td>(14, cityblock)</td>\n",
       "      <td>2.251908e+12</td>\n",
       "    </tr>\n",
       "    <tr>\n",
       "      <th>...</th>\n",
       "      <td>...</td>\n",
       "      <td>...</td>\n",
       "    </tr>\n",
       "    <tr>\n",
       "      <th>36</th>\n",
       "      <td>(97, euclidean)</td>\n",
       "      <td>4.056875e+12</td>\n",
       "    </tr>\n",
       "    <tr>\n",
       "      <th>53</th>\n",
       "      <td>(98, manhattan)</td>\n",
       "      <td>4.068432e+12</td>\n",
       "    </tr>\n",
       "    <tr>\n",
       "      <th>134</th>\n",
       "      <td>(99, cityblock)</td>\n",
       "      <td>4.087051e+12</td>\n",
       "    </tr>\n",
       "    <tr>\n",
       "      <th>130</th>\n",
       "      <td>(99, manhattan)</td>\n",
       "      <td>4.087051e+12</td>\n",
       "    </tr>\n",
       "    <tr>\n",
       "      <th>146</th>\n",
       "      <td>(99, euclidean)</td>\n",
       "      <td>4.093847e+12</td>\n",
       "    </tr>\n",
       "  </tbody>\n",
       "</table>\n",
       "<p>200 rows × 2 columns</p>\n",
       "</div>"
      ],
      "text/plain": [
       "      (k , distance)           ECM\n",
       "164     (16, cosine)  2.221992e+12\n",
       "138     (14, cosine)  2.233684e+12\n",
       "196     (13, cosine)  2.242026e+12\n",
       "106  (14, manhattan)  2.251908e+12\n",
       "6    (14, cityblock)  2.251908e+12\n",
       "..               ...           ...\n",
       "36   (97, euclidean)  4.056875e+12\n",
       "53   (98, manhattan)  4.068432e+12\n",
       "134  (99, cityblock)  4.087051e+12\n",
       "130  (99, manhattan)  4.087051e+12\n",
       "146  (99, euclidean)  4.093847e+12\n",
       "\n",
       "[200 rows x 2 columns]"
      ]
     },
     "execution_count": 104,
     "metadata": {},
     "output_type": "execute_result"
    }
   ],
   "source": [
    "Grid_search_8"
   ]
  },
  {
   "cell_type": "code",
   "execution_count": null,
   "metadata": {},
   "outputs": [],
   "source": [
    "fig, ax = plt.subplots()\n",
    "\n",
    "p10 = sns.barplot(x=\"ECM\", y ='(k , distance)' , data=Grid_search_8.iloc[0:15 , :], palette='mako')\n",
    "\n",
    "plt.title(\"KNN regression - Random search - Repeated K Fold (K=10 , B=5)\", fontsize=13)\n",
    "\n",
    "plt.tight_layout()\n",
    "\n",
    "fig.savefig('p10.jpg', format='jpg', dpi=1200)"
   ]
  },
  {
   "cell_type": "code",
   "execution_count": 121,
   "metadata": {},
   "outputs": [],
   "source": [
    "Grid_search_9 = Grid_search(Data=Data, Search_Space=[range(1,100) , ['euclidean','cosine','cityblock','manhattan']], response='price', model='knn_regression', validation='repeated_K_Fold_CV', metric='ECM', B=1, k='no', K=10, random_search=False, random_samples=200, random_seed_1=123, random_seed_2=123)"
   ]
  },
  {
   "cell_type": "code",
   "execution_count": 122,
   "metadata": {},
   "outputs": [
    {
     "data": {
      "text/html": [
       "<div>\n",
       "<style scoped>\n",
       "    .dataframe tbody tr th:only-of-type {\n",
       "        vertical-align: middle;\n",
       "    }\n",
       "\n",
       "    .dataframe tbody tr th {\n",
       "        vertical-align: top;\n",
       "    }\n",
       "\n",
       "    .dataframe thead th {\n",
       "        text-align: right;\n",
       "    }\n",
       "</style>\n",
       "<table border=\"1\" class=\"dataframe\">\n",
       "  <thead>\n",
       "    <tr style=\"text-align: right;\">\n",
       "      <th></th>\n",
       "      <th>(k , distance)</th>\n",
       "      <th>ECM</th>\n",
       "    </tr>\n",
       "  </thead>\n",
       "  <tbody>\n",
       "    <tr>\n",
       "      <th>30</th>\n",
       "      <td>(8, cityblock)</td>\n",
       "      <td>2.149765e+12</td>\n",
       "    </tr>\n",
       "    <tr>\n",
       "      <th>31</th>\n",
       "      <td>(8, manhattan)</td>\n",
       "      <td>2.149765e+12</td>\n",
       "    </tr>\n",
       "    <tr>\n",
       "      <th>28</th>\n",
       "      <td>(8, euclidean)</td>\n",
       "      <td>2.167357e+12</td>\n",
       "    </tr>\n",
       "    <tr>\n",
       "      <th>69</th>\n",
       "      <td>(18, cosine)</td>\n",
       "      <td>2.172008e+12</td>\n",
       "    </tr>\n",
       "    <tr>\n",
       "      <th>33</th>\n",
       "      <td>(9, cosine)</td>\n",
       "      <td>2.179763e+12</td>\n",
       "    </tr>\n",
       "    <tr>\n",
       "      <th>...</th>\n",
       "      <td>...</td>\n",
       "      <td>...</td>\n",
       "    </tr>\n",
       "    <tr>\n",
       "      <th>391</th>\n",
       "      <td>(98, manhattan)</td>\n",
       "      <td>4.028750e+12</td>\n",
       "    </tr>\n",
       "    <tr>\n",
       "      <th>388</th>\n",
       "      <td>(98, euclidean)</td>\n",
       "      <td>4.032013e+12</td>\n",
       "    </tr>\n",
       "    <tr>\n",
       "      <th>394</th>\n",
       "      <td>(99, cityblock)</td>\n",
       "      <td>4.048032e+12</td>\n",
       "    </tr>\n",
       "    <tr>\n",
       "      <th>395</th>\n",
       "      <td>(99, manhattan)</td>\n",
       "      <td>4.048032e+12</td>\n",
       "    </tr>\n",
       "    <tr>\n",
       "      <th>392</th>\n",
       "      <td>(99, euclidean)</td>\n",
       "      <td>4.049301e+12</td>\n",
       "    </tr>\n",
       "  </tbody>\n",
       "</table>\n",
       "<p>396 rows × 2 columns</p>\n",
       "</div>"
      ],
      "text/plain": [
       "      (k , distance)           ECM\n",
       "30    (8, cityblock)  2.149765e+12\n",
       "31    (8, manhattan)  2.149765e+12\n",
       "28    (8, euclidean)  2.167357e+12\n",
       "69      (18, cosine)  2.172008e+12\n",
       "33       (9, cosine)  2.179763e+12\n",
       "..               ...           ...\n",
       "391  (98, manhattan)  4.028750e+12\n",
       "388  (98, euclidean)  4.032013e+12\n",
       "394  (99, cityblock)  4.048032e+12\n",
       "395  (99, manhattan)  4.048032e+12\n",
       "392  (99, euclidean)  4.049301e+12\n",
       "\n",
       "[396 rows x 2 columns]"
      ]
     },
     "execution_count": 122,
     "metadata": {},
     "output_type": "execute_result"
    }
   ],
   "source": [
    "Grid_search_9"
   ]
  },
  {
   "cell_type": "code",
   "execution_count": null,
   "metadata": {},
   "outputs": [],
   "source": [
    "fig, ax = plt.subplots()\n",
    "\n",
    "p11 = sns.barplot(x=\"ECM\", y ='(k , distance)' , data=Grid_search_9.iloc[0:15 , :], palette='mako')\n",
    "\n",
    "plt.title(\"KNN regression - Random search - Repeated K Fold (K=10 , B=1)\", fontsize=13)\n",
    "\n",
    "plt.tight_layout()\n",
    "\n",
    "fig.savefig('p11.jpg', format='jpg', dpi=1200)"
   ]
  },
  {
   "cell_type": "markdown",
   "metadata": {},
   "source": []
  },
  {
   "cell_type": "markdown",
   "metadata": {},
   "source": []
  },
  {
   "attachments": {},
   "cell_type": "markdown",
   "metadata": {},
   "source": [
    "# Ajuste de hiperparametros con `Sklearn`"
   ]
  },
  {
   "cell_type": "code",
   "execution_count": 105,
   "metadata": {},
   "outputs": [],
   "source": [
    "import numpy as np"
   ]
  },
  {
   "cell_type": "code",
   "execution_count": 106,
   "metadata": {},
   "outputs": [],
   "source": [
    "from sklearn.model_selection import GridSearchCV"
   ]
  },
  {
   "cell_type": "code",
   "execution_count": 107,
   "metadata": {},
   "outputs": [],
   "source": [
    "knn_regression = sklearn.neighbors.KNeighborsRegressor( )"
   ]
  },
  {
   "cell_type": "code",
   "execution_count": 144,
   "metadata": {},
   "outputs": [],
   "source": [
    "grid_search = GridSearchCV(estimator = knn_regression, param_grid = {'n_neighbors': range(1,200), 'metric': ['euclidean','cosine','cityblock','manhattan']}, cv = 10, scoring='neg_mean_squared_error')"
   ]
  },
  {
   "cell_type": "code",
   "execution_count": 145,
   "metadata": {},
   "outputs": [],
   "source": [
    "Y = Data.loc[:,'price']\n",
    "\n",
    "X = Data.loc[:, Data.columns != 'price']"
   ]
  },
  {
   "cell_type": "code",
   "execution_count": 146,
   "metadata": {},
   "outputs": [
    {
     "data": {
      "text/plain": [
       "GridSearchCV(cv=10, estimator=KNeighborsRegressor(),\n",
       "             param_grid={'metric': ['euclidean', 'cosine', 'cityblock',\n",
       "                                    'manhattan'],\n",
       "                         'n_neighbors': range(1, 200)},\n",
       "             scoring='neg_mean_squared_error')"
      ]
     },
     "execution_count": 146,
     "metadata": {},
     "output_type": "execute_result"
    }
   ],
   "source": [
    "grid_search.fit(X,Y)"
   ]
  },
  {
   "cell_type": "code",
   "execution_count": 147,
   "metadata": {},
   "outputs": [
    {
     "data": {
      "text/plain": [
       "KNeighborsRegressor(metric='cosine', n_neighbors=17)"
      ]
     },
     "execution_count": 147,
     "metadata": {},
     "output_type": "execute_result"
    }
   ],
   "source": [
    "grid_search.best_estimator_"
   ]
  },
  {
   "cell_type": "code",
   "execution_count": 148,
   "metadata": {},
   "outputs": [
    {
     "data": {
      "text/plain": [
       "{'metric': 'cosine', 'n_neighbors': 17}"
      ]
     },
     "execution_count": 148,
     "metadata": {},
     "output_type": "execute_result"
    }
   ],
   "source": [
    "grid_search.best_params_"
   ]
  },
  {
   "cell_type": "code",
   "execution_count": 149,
   "metadata": {},
   "outputs": [
    {
     "data": {
      "text/plain": [
       "-2278523570223.8994"
      ]
     },
     "execution_count": 149,
     "metadata": {},
     "output_type": "execute_result"
    }
   ],
   "source": [
    "grid_search.best_score_"
   ]
  },
  {
   "cell_type": "code",
   "execution_count": 155,
   "metadata": {},
   "outputs": [],
   "source": [
    "df_grid_search_sklearn = pd.DataFrame({'k': grid_search.cv_results_['param_n_neighbors'], 'distance': grid_search.cv_results_['param_metric'] , 'ECM': - grid_search.cv_results_['mean_test_score']})\n"
   ]
  },
  {
   "cell_type": "code",
   "execution_count": 158,
   "metadata": {},
   "outputs": [
    {
     "data": {
      "text/html": [
       "<div>\n",
       "<style scoped>\n",
       "    .dataframe tbody tr th:only-of-type {\n",
       "        vertical-align: middle;\n",
       "    }\n",
       "\n",
       "    .dataframe tbody tr th {\n",
       "        vertical-align: top;\n",
       "    }\n",
       "\n",
       "    .dataframe thead th {\n",
       "        text-align: right;\n",
       "    }\n",
       "</style>\n",
       "<table border=\"1\" class=\"dataframe\">\n",
       "  <thead>\n",
       "    <tr style=\"text-align: right;\">\n",
       "      <th></th>\n",
       "      <th>k</th>\n",
       "      <th>distance</th>\n",
       "      <th>ECM</th>\n",
       "    </tr>\n",
       "  </thead>\n",
       "  <tbody>\n",
       "    <tr>\n",
       "      <th>215</th>\n",
       "      <td>17</td>\n",
       "      <td>cosine</td>\n",
       "      <td>2.278524e+12</td>\n",
       "    </tr>\n",
       "    <tr>\n",
       "      <th>209</th>\n",
       "      <td>11</td>\n",
       "      <td>cosine</td>\n",
       "      <td>2.287579e+12</td>\n",
       "    </tr>\n",
       "    <tr>\n",
       "      <th>214</th>\n",
       "      <td>16</td>\n",
       "      <td>cosine</td>\n",
       "      <td>2.300468e+12</td>\n",
       "    </tr>\n",
       "    <tr>\n",
       "      <th>216</th>\n",
       "      <td>18</td>\n",
       "      <td>cosine</td>\n",
       "      <td>2.305225e+12</td>\n",
       "    </tr>\n",
       "    <tr>\n",
       "      <th>210</th>\n",
       "      <td>12</td>\n",
       "      <td>cosine</td>\n",
       "      <td>2.308334e+12</td>\n",
       "    </tr>\n",
       "    <tr>\n",
       "      <th>...</th>\n",
       "      <td>...</td>\n",
       "      <td>...</td>\n",
       "      <td>...</td>\n",
       "    </tr>\n",
       "    <tr>\n",
       "      <th>794</th>\n",
       "      <td>198</td>\n",
       "      <td>manhattan</td>\n",
       "      <td>5.264590e+12</td>\n",
       "    </tr>\n",
       "    <tr>\n",
       "      <th>197</th>\n",
       "      <td>198</td>\n",
       "      <td>euclidean</td>\n",
       "      <td>5.266036e+12</td>\n",
       "    </tr>\n",
       "    <tr>\n",
       "      <th>198</th>\n",
       "      <td>199</td>\n",
       "      <td>euclidean</td>\n",
       "      <td>5.272047e+12</td>\n",
       "    </tr>\n",
       "    <tr>\n",
       "      <th>596</th>\n",
       "      <td>199</td>\n",
       "      <td>cityblock</td>\n",
       "      <td>5.273960e+12</td>\n",
       "    </tr>\n",
       "    <tr>\n",
       "      <th>795</th>\n",
       "      <td>199</td>\n",
       "      <td>manhattan</td>\n",
       "      <td>5.273960e+12</td>\n",
       "    </tr>\n",
       "  </tbody>\n",
       "</table>\n",
       "<p>796 rows × 3 columns</p>\n",
       "</div>"
      ],
      "text/plain": [
       "       k   distance           ECM\n",
       "215   17     cosine  2.278524e+12\n",
       "209   11     cosine  2.287579e+12\n",
       "214   16     cosine  2.300468e+12\n",
       "216   18     cosine  2.305225e+12\n",
       "210   12     cosine  2.308334e+12\n",
       "..   ...        ...           ...\n",
       "794  198  manhattan  5.264590e+12\n",
       "197  198  euclidean  5.266036e+12\n",
       "198  199  euclidean  5.272047e+12\n",
       "596  199  cityblock  5.273960e+12\n",
       "795  199  manhattan  5.273960e+12\n",
       "\n",
       "[796 rows x 3 columns]"
      ]
     },
     "execution_count": 158,
     "metadata": {},
     "output_type": "execute_result"
    }
   ],
   "source": [
    "df_grid_search_sklearn.sort_values(by='ECM', ascending=True)"
   ]
  },
  {
   "cell_type": "markdown",
   "metadata": {},
   "source": []
  },
  {
   "cell_type": "code",
   "execution_count": 127,
   "metadata": {},
   "outputs": [],
   "source": [
    "from sklearn.model_selection import RandomizedSearchCV"
   ]
  },
  {
   "cell_type": "code",
   "execution_count": 126,
   "metadata": {},
   "outputs": [],
   "source": [
    "from scipy.stats import uniform"
   ]
  },
  {
   "cell_type": "code",
   "execution_count": 135,
   "metadata": {},
   "outputs": [
    {
     "data": {
      "text/plain": [
       "<scipy.stats._distn_infrastructure.rv_continuous_frozen at 0x1b556a67a60>"
      ]
     },
     "execution_count": 135,
     "metadata": {},
     "output_type": "execute_result"
    }
   ],
   "source": [
    "uniform(loc=2, )"
   ]
  },
  {
   "cell_type": "code",
   "execution_count": 163,
   "metadata": {},
   "outputs": [],
   "source": [
    "random_search = RandomizedSearchCV(estimator = knn_regression, param_distributions = {'n_neighbors': range(1,200), 'metric': ['euclidean','cosine','cityblock','manhattan']}, cv = 10, n_iter=100, random_state=123, scoring='neg_mean_squared_error')"
   ]
  },
  {
   "cell_type": "code",
   "execution_count": 164,
   "metadata": {},
   "outputs": [
    {
     "data": {
      "text/plain": [
       "RandomizedSearchCV(cv=10, estimator=KNeighborsRegressor(), n_iter=100,\n",
       "                   param_distributions={'metric': ['euclidean', 'cosine',\n",
       "                                                   'cityblock', 'manhattan'],\n",
       "                                        'n_neighbors': range(1, 200)},\n",
       "                   random_state=123, scoring='neg_mean_squared_error')"
      ]
     },
     "execution_count": 164,
     "metadata": {},
     "output_type": "execute_result"
    }
   ],
   "source": [
    "random_search.fit(X,Y)"
   ]
  },
  {
   "cell_type": "code",
   "execution_count": 165,
   "metadata": {},
   "outputs": [],
   "source": [
    "df_random_search_sklearn = pd.DataFrame({'k': random_search.cv_results_['param_n_neighbors'], 'distance': random_search.cv_results_['param_metric'] , 'ECM': - random_search.cv_results_['mean_test_score']})"
   ]
  },
  {
   "cell_type": "code",
   "execution_count": 166,
   "metadata": {},
   "outputs": [
    {
     "data": {
      "text/html": [
       "<div>\n",
       "<style scoped>\n",
       "    .dataframe tbody tr th:only-of-type {\n",
       "        vertical-align: middle;\n",
       "    }\n",
       "\n",
       "    .dataframe tbody tr th {\n",
       "        vertical-align: top;\n",
       "    }\n",
       "\n",
       "    .dataframe thead th {\n",
       "        text-align: right;\n",
       "    }\n",
       "</style>\n",
       "<table border=\"1\" class=\"dataframe\">\n",
       "  <thead>\n",
       "    <tr style=\"text-align: right;\">\n",
       "      <th></th>\n",
       "      <th>k</th>\n",
       "      <th>distance</th>\n",
       "      <th>ECM</th>\n",
       "    </tr>\n",
       "  </thead>\n",
       "  <tbody>\n",
       "    <tr>\n",
       "      <th>18</th>\n",
       "      <td>11</td>\n",
       "      <td>cosine</td>\n",
       "      <td>2.287579e+12</td>\n",
       "    </tr>\n",
       "    <tr>\n",
       "      <th>38</th>\n",
       "      <td>11</td>\n",
       "      <td>manhattan</td>\n",
       "      <td>2.321534e+12</td>\n",
       "    </tr>\n",
       "    <tr>\n",
       "      <th>91</th>\n",
       "      <td>14</td>\n",
       "      <td>euclidean</td>\n",
       "      <td>2.334281e+12</td>\n",
       "    </tr>\n",
       "    <tr>\n",
       "      <th>84</th>\n",
       "      <td>19</td>\n",
       "      <td>cosine</td>\n",
       "      <td>2.337300e+12</td>\n",
       "    </tr>\n",
       "    <tr>\n",
       "      <th>78</th>\n",
       "      <td>12</td>\n",
       "      <td>euclidean</td>\n",
       "      <td>2.339571e+12</td>\n",
       "    </tr>\n",
       "    <tr>\n",
       "      <th>...</th>\n",
       "      <td>...</td>\n",
       "      <td>...</td>\n",
       "      <td>...</td>\n",
       "    </tr>\n",
       "    <tr>\n",
       "      <th>60</th>\n",
       "      <td>189</td>\n",
       "      <td>cityblock</td>\n",
       "      <td>5.180324e+12</td>\n",
       "    </tr>\n",
       "    <tr>\n",
       "      <th>43</th>\n",
       "      <td>189</td>\n",
       "      <td>euclidean</td>\n",
       "      <td>5.182189e+12</td>\n",
       "    </tr>\n",
       "    <tr>\n",
       "      <th>46</th>\n",
       "      <td>190</td>\n",
       "      <td>cityblock</td>\n",
       "      <td>5.187852e+12</td>\n",
       "    </tr>\n",
       "    <tr>\n",
       "      <th>17</th>\n",
       "      <td>194</td>\n",
       "      <td>manhattan</td>\n",
       "      <td>5.227831e+12</td>\n",
       "    </tr>\n",
       "    <tr>\n",
       "      <th>27</th>\n",
       "      <td>196</td>\n",
       "      <td>euclidean</td>\n",
       "      <td>5.247368e+12</td>\n",
       "    </tr>\n",
       "  </tbody>\n",
       "</table>\n",
       "<p>100 rows × 3 columns</p>\n",
       "</div>"
      ],
      "text/plain": [
       "      k   distance           ECM\n",
       "18   11     cosine  2.287579e+12\n",
       "38   11  manhattan  2.321534e+12\n",
       "91   14  euclidean  2.334281e+12\n",
       "84   19     cosine  2.337300e+12\n",
       "78   12  euclidean  2.339571e+12\n",
       "..  ...        ...           ...\n",
       "60  189  cityblock  5.180324e+12\n",
       "43  189  euclidean  5.182189e+12\n",
       "46  190  cityblock  5.187852e+12\n",
       "17  194  manhattan  5.227831e+12\n",
       "27  196  euclidean  5.247368e+12\n",
       "\n",
       "[100 rows x 3 columns]"
      ]
     },
     "execution_count": 166,
     "metadata": {},
     "output_type": "execute_result"
    }
   ],
   "source": [
    "df_random_search_sklearn.sort_values(by='ECM', ascending=True)"
   ]
  },
  {
   "cell_type": "markdown",
   "metadata": {},
   "source": []
  },
  {
   "cell_type": "markdown",
   "metadata": {},
   "source": []
  },
  {
   "cell_type": "markdown",
   "metadata": {},
   "source": []
  },
  {
   "cell_type": "markdown",
   "metadata": {},
   "source": []
  },
  {
   "cell_type": "markdown",
   "metadata": {},
   "source": [
    "## Grid search como metodo de optimizacion de funciones matematicas"
   ]
  },
  {
   "cell_type": "code",
   "execution_count": 11,
   "metadata": {},
   "outputs": [],
   "source": [
    "values = []\n",
    "\n",
    "for x in range(-99999 , 99999) :\n",
    "\n",
    "    values.append( x**2 )\n"
   ]
  },
  {
   "cell_type": "code",
   "execution_count": 12,
   "metadata": {},
   "outputs": [],
   "source": [
    "df = pd.DataFrame({'x':range(-99999 , 99999)  , 'f(x)':values})"
   ]
  },
  {
   "cell_type": "code",
   "execution_count": 13,
   "metadata": {},
   "outputs": [
    {
     "data": {
      "text/html": [
       "<div>\n",
       "<style scoped>\n",
       "    .dataframe tbody tr th:only-of-type {\n",
       "        vertical-align: middle;\n",
       "    }\n",
       "\n",
       "    .dataframe tbody tr th {\n",
       "        vertical-align: top;\n",
       "    }\n",
       "\n",
       "    .dataframe thead th {\n",
       "        text-align: right;\n",
       "    }\n",
       "</style>\n",
       "<table border=\"1\" class=\"dataframe\">\n",
       "  <thead>\n",
       "    <tr style=\"text-align: right;\">\n",
       "      <th></th>\n",
       "      <th>x</th>\n",
       "      <th>f(x)</th>\n",
       "    </tr>\n",
       "  </thead>\n",
       "  <tbody>\n",
       "    <tr>\n",
       "      <th>99999</th>\n",
       "      <td>0</td>\n",
       "      <td>0</td>\n",
       "    </tr>\n",
       "    <tr>\n",
       "      <th>99998</th>\n",
       "      <td>-1</td>\n",
       "      <td>1</td>\n",
       "    </tr>\n",
       "    <tr>\n",
       "      <th>100000</th>\n",
       "      <td>1</td>\n",
       "      <td>1</td>\n",
       "    </tr>\n",
       "    <tr>\n",
       "      <th>100001</th>\n",
       "      <td>2</td>\n",
       "      <td>4</td>\n",
       "    </tr>\n",
       "    <tr>\n",
       "      <th>99997</th>\n",
       "      <td>-2</td>\n",
       "      <td>4</td>\n",
       "    </tr>\n",
       "    <tr>\n",
       "      <th>...</th>\n",
       "      <td>...</td>\n",
       "      <td>...</td>\n",
       "    </tr>\n",
       "    <tr>\n",
       "      <th>2</th>\n",
       "      <td>-99997</td>\n",
       "      <td>9999400009</td>\n",
       "    </tr>\n",
       "    <tr>\n",
       "      <th>199996</th>\n",
       "      <td>99997</td>\n",
       "      <td>9999400009</td>\n",
       "    </tr>\n",
       "    <tr>\n",
       "      <th>199997</th>\n",
       "      <td>99998</td>\n",
       "      <td>9999600004</td>\n",
       "    </tr>\n",
       "    <tr>\n",
       "      <th>1</th>\n",
       "      <td>-99998</td>\n",
       "      <td>9999600004</td>\n",
       "    </tr>\n",
       "    <tr>\n",
       "      <th>0</th>\n",
       "      <td>-99999</td>\n",
       "      <td>9999800001</td>\n",
       "    </tr>\n",
       "  </tbody>\n",
       "</table>\n",
       "<p>199998 rows × 2 columns</p>\n",
       "</div>"
      ],
      "text/plain": [
       "            x        f(x)\n",
       "99999       0           0\n",
       "99998      -1           1\n",
       "100000      1           1\n",
       "100001      2           4\n",
       "99997      -2           4\n",
       "...       ...         ...\n",
       "2      -99997  9999400009\n",
       "199996  99997  9999400009\n",
       "199997  99998  9999600004\n",
       "1      -99998  9999600004\n",
       "0      -99999  9999800001\n",
       "\n",
       "[199998 rows x 2 columns]"
      ]
     },
     "execution_count": 13,
     "metadata": {},
     "output_type": "execute_result"
    }
   ],
   "source": [
    "df.sort_values(by='f(x)')"
   ]
  },
  {
   "cell_type": "markdown",
   "metadata": {},
   "source": []
  },
  {
   "cell_type": "code",
   "execution_count": 14,
   "metadata": {},
   "outputs": [],
   "source": [
    "values , Search_Space_list = [] , []\n",
    "\n",
    "Search_Space_1 = range(-100 , 100)\n",
    "\n",
    "Search_Space_2 = range(-100 , 100)\n",
    "\n",
    "hyperparameter_combinations = list( itertools.product(Search_Space_1, Search_Space_2) )\n",
    "\n",
    "for x in hyperparameter_combinations :\n",
    "\n",
    "    Search_Space_list.append(x)\n",
    "\n",
    "    values.append( x[0]**2 + x[1]**2)\n"
   ]
  },
  {
   "cell_type": "code",
   "execution_count": 15,
   "metadata": {},
   "outputs": [],
   "source": [
    "df = pd.DataFrame({'(x_1,x_2)':Search_Space_list , 'f(x_1,x_2)':values})"
   ]
  },
  {
   "cell_type": "code",
   "execution_count": 16,
   "metadata": {},
   "outputs": [
    {
     "data": {
      "text/html": [
       "<div>\n",
       "<style scoped>\n",
       "    .dataframe tbody tr th:only-of-type {\n",
       "        vertical-align: middle;\n",
       "    }\n",
       "\n",
       "    .dataframe tbody tr th {\n",
       "        vertical-align: top;\n",
       "    }\n",
       "\n",
       "    .dataframe thead th {\n",
       "        text-align: right;\n",
       "    }\n",
       "</style>\n",
       "<table border=\"1\" class=\"dataframe\">\n",
       "  <thead>\n",
       "    <tr style=\"text-align: right;\">\n",
       "      <th></th>\n",
       "      <th>(x_1,x_2)</th>\n",
       "      <th>f(x_1,x_2)</th>\n",
       "    </tr>\n",
       "  </thead>\n",
       "  <tbody>\n",
       "    <tr>\n",
       "      <th>20100</th>\n",
       "      <td>(0, 0)</td>\n",
       "      <td>0</td>\n",
       "    </tr>\n",
       "    <tr>\n",
       "      <th>20101</th>\n",
       "      <td>(0, 1)</td>\n",
       "      <td>1</td>\n",
       "    </tr>\n",
       "    <tr>\n",
       "      <th>20300</th>\n",
       "      <td>(1, 0)</td>\n",
       "      <td>1</td>\n",
       "    </tr>\n",
       "    <tr>\n",
       "      <th>20099</th>\n",
       "      <td>(0, -1)</td>\n",
       "      <td>1</td>\n",
       "    </tr>\n",
       "    <tr>\n",
       "      <th>19900</th>\n",
       "      <td>(-1, 0)</td>\n",
       "      <td>1</td>\n",
       "    </tr>\n",
       "    <tr>\n",
       "      <th>...</th>\n",
       "      <td>...</td>\n",
       "      <td>...</td>\n",
       "    </tr>\n",
       "    <tr>\n",
       "      <th>39800</th>\n",
       "      <td>(99, -100)</td>\n",
       "      <td>19801</td>\n",
       "    </tr>\n",
       "    <tr>\n",
       "      <th>200</th>\n",
       "      <td>(-99, -100)</td>\n",
       "      <td>19801</td>\n",
       "    </tr>\n",
       "    <tr>\n",
       "      <th>199</th>\n",
       "      <td>(-100, 99)</td>\n",
       "      <td>19801</td>\n",
       "    </tr>\n",
       "    <tr>\n",
       "      <th>1</th>\n",
       "      <td>(-100, -99)</td>\n",
       "      <td>19801</td>\n",
       "    </tr>\n",
       "    <tr>\n",
       "      <th>0</th>\n",
       "      <td>(-100, -100)</td>\n",
       "      <td>20000</td>\n",
       "    </tr>\n",
       "  </tbody>\n",
       "</table>\n",
       "<p>40000 rows × 2 columns</p>\n",
       "</div>"
      ],
      "text/plain": [
       "          (x_1,x_2)  f(x_1,x_2)\n",
       "20100        (0, 0)           0\n",
       "20101        (0, 1)           1\n",
       "20300        (1, 0)           1\n",
       "20099       (0, -1)           1\n",
       "19900       (-1, 0)           1\n",
       "...             ...         ...\n",
       "39800    (99, -100)       19801\n",
       "200     (-99, -100)       19801\n",
       "199      (-100, 99)       19801\n",
       "1       (-100, -99)       19801\n",
       "0      (-100, -100)       20000\n",
       "\n",
       "[40000 rows x 2 columns]"
      ]
     },
     "execution_count": 16,
     "metadata": {},
     "output_type": "execute_result"
    }
   ],
   "source": [
    "df.sort_values(by='f(x_1,x_2)', ascending=True )"
   ]
  }
 ],
 "metadata": {
  "kernelspec": {
   "display_name": "Python 3",
   "language": "python",
   "name": "python3"
  },
  "language_info": {
   "codemirror_mode": {
    "name": "ipython",
    "version": 3
   },
   "file_extension": ".py",
   "mimetype": "text/x-python",
   "name": "python",
   "nbconvert_exporter": "python",
   "pygments_lexer": "ipython3",
   "version": "3.10.0"
  },
  "vscode": {
   "interpreter": {
    "hash": "c63d8c7d738c2960218a10995aedf0a7f67a49a231e71037adf0440953cdb45b"
   }
  }
 },
 "nbformat": 4,
 "nbformat_minor": 2
}
