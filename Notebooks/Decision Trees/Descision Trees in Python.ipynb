{
 "cells": [
  {
   "cell_type": "markdown",
   "metadata": {},
   "source": [
    "Toy example: "
   ]
  },
  {
   "cell_type": "code",
   "execution_count": 1,
   "metadata": {},
   "outputs": [],
   "source": [
    "import pandas as pd\n",
    "import numpy as np"
   ]
  },
  {
   "cell_type": "code",
   "execution_count": 2,
   "metadata": {},
   "outputs": [],
   "source": [
    "np.random.seed(123)\n",
    "\n",
    "\n",
    "Y =  np.random.normal(loc=0, scale=15, size=50)\n",
    "X1 = np.random.normal(loc=10, scale=55, size=50)\n",
    "X2 = np.random.normal(loc=40, scale=5, size=50)\n",
    "X3 = np.random.normal(loc=-10, scale=15, size=50)\n",
    "X4 = np.random.normal(loc=5, scale=25, size=50)"
   ]
  },
  {
   "cell_type": "code",
   "execution_count": 3,
   "metadata": {},
   "outputs": [],
   "source": [
    "Data = pd.DataFrame({'Y':Y , 'X1':X1, 'X2':X2, 'X3':X3, 'X4':X4})"
   ]
  },
  {
   "cell_type": "code",
   "execution_count": 4,
   "metadata": {},
   "outputs": [
    {
     "data": {
      "text/html": [
       "<div>\n",
       "<style scoped>\n",
       "    .dataframe tbody tr th:only-of-type {\n",
       "        vertical-align: middle;\n",
       "    }\n",
       "\n",
       "    .dataframe tbody tr th {\n",
       "        vertical-align: top;\n",
       "    }\n",
       "\n",
       "    .dataframe thead th {\n",
       "        text-align: right;\n",
       "    }\n",
       "</style>\n",
       "<table border=\"1\" class=\"dataframe\">\n",
       "  <thead>\n",
       "    <tr style=\"text-align: right;\">\n",
       "      <th></th>\n",
       "      <th>Y</th>\n",
       "      <th>X1</th>\n",
       "      <th>X2</th>\n",
       "      <th>X3</th>\n",
       "      <th>X4</th>\n",
       "    </tr>\n",
       "  </thead>\n",
       "  <tbody>\n",
       "    <tr>\n",
       "      <th>0</th>\n",
       "      <td>-16.284459</td>\n",
       "      <td>-61.174693</td>\n",
       "      <td>43.210273</td>\n",
       "      <td>-6.192753</td>\n",
       "      <td>22.582753</td>\n",
       "    </tr>\n",
       "    <tr>\n",
       "      <th>1</th>\n",
       "      <td>14.960182</td>\n",
       "      <td>-47.133352</td>\n",
       "      <td>30.110560</td>\n",
       "      <td>-5.744120</td>\n",
       "      <td>-9.952633</td>\n",
       "    </tr>\n",
       "    <tr>\n",
       "      <th>2</th>\n",
       "      <td>4.244677</td>\n",
       "      <td>105.904172</td>\n",
       "      <td>43.561323</td>\n",
       "      <td>-31.178333</td>\n",
       "      <td>60.017552</td>\n",
       "    </tr>\n",
       "    <tr>\n",
       "      <th>3</th>\n",
       "      <td>-22.594421</td>\n",
       "      <td>-33.893450</td>\n",
       "      <td>52.991520</td>\n",
       "      <td>-38.153030</td>\n",
       "      <td>22.207423</td>\n",
       "    </tr>\n",
       "    <tr>\n",
       "      <th>4</th>\n",
       "      <td>-8.679004</td>\n",
       "      <td>11.632578</td>\n",
       "      <td>39.876870</td>\n",
       "      <td>-25.294826</td>\n",
       "      <td>4.842319</td>\n",
       "    </tr>\n",
       "  </tbody>\n",
       "</table>\n",
       "</div>"
      ],
      "text/plain": [
       "           Y          X1         X2         X3         X4\n",
       "0 -16.284459  -61.174693  43.210273  -6.192753  22.582753\n",
       "1  14.960182  -47.133352  30.110560  -5.744120  -9.952633\n",
       "2   4.244677  105.904172  43.561323 -31.178333  60.017552\n",
       "3 -22.594421  -33.893450  52.991520 -38.153030  22.207423\n",
       "4  -8.679004   11.632578  39.876870 -25.294826   4.842319"
      ]
     },
     "execution_count": 4,
     "metadata": {},
     "output_type": "execute_result"
    }
   ],
   "source": [
    "Data.head()"
   ]
  },
  {
   "cell_type": "markdown",
   "metadata": {},
   "source": []
  },
  {
   "cell_type": "markdown",
   "metadata": {},
   "source": []
  },
  {
   "cell_type": "code",
   "execution_count": 5,
   "metadata": {},
   "outputs": [],
   "source": [
    "def regression_tree(Data_set, iterations_vector, x_new):\n",
    "\n",
    "# POR AHORA SOLO GENERA 3 ITERACIONES EN EL ARBOL --> iterations_vector = range(1,4) como mucho (=[1,2,3])\n",
    "\n",
    "########################################################################\n",
    "    \n",
    "# Data_set tiene que ser tal que, su columna 0 sea Y, y la j-esima sea la variable Xj , para j=1,...,p\n",
    "\n",
    "\n",
    "    def s_values(j, Data_set):\n",
    "\n",
    "        s_values = []\n",
    "\n",
    "        if  (Data.dtypes[j] != 'float') & (Data.dtypes[j] != 'int') :\n",
    "\n",
    "            s_values = Data_set.iloc[: , j]\n",
    "\n",
    "\n",
    "        elif (Data.dtypes[j] == 'float') | (Data.dtypes[j] == 'int') :\n",
    "\n",
    "            Xj_sorted = Data_set.sort_values(by=[Data_set.columns[j]], axis=0, ascending=True, ignore_index=True).iloc[:, j]\n",
    "\n",
    "        \n",
    "            for i in range(0, len(Xj_sorted)-1):\n",
    "\n",
    "                s_values.append( (Xj_sorted[i] + Xj_sorted[i+1] ) / 2  )\n",
    "\n",
    "    \n",
    "        return s_values\n",
    "\n",
    "\n",
    "########################################################################  \n",
    "\n",
    "   ## ITERACION 1\n",
    "\n",
    "    if iterations_vector[0] == 1 : # nacimiento del arbol\n",
    "\n",
    "        def RSS_1(j,s, Data_set):\n",
    "\n",
    "         # Data_set tiene que ser tal que, su columna 0 sea Y, y la j-esima sea la variable Xj , para j=1,...,p\n",
    "\n",
    "    ######################################\n",
    "\n",
    "            y_i_R1 = Data_set.loc[ Data_set.iloc[:, j] < s , 'Y' ] # y_i tal que x_ij < s\n",
    "\n",
    "            if len( Data_set.loc[ Data_set.iloc[:, j] < s , 'Y' ] ) == 0 :\n",
    "\n",
    "                y_R1 = 0\n",
    "\n",
    "            elif len( Data_set.loc[ Data_set.iloc[:, j] < s , 'Y' ] ) != 0 : \n",
    "\n",
    "                y_R1 = ( Data_set.loc[ Data_set.iloc[:, j] < s , 'Y' ]  ).sum() / len( Data_set.loc[ Data_set.iloc[:, j] < s , 'Y' ]  )  \n",
    "   \n",
    "\n",
    "            ###############\n",
    "\n",
    "            y_i_R2 = Data_set.loc[ Data_set.iloc[:, j] >= s , 'Y' ] # y_i tal que x_i1 >= 2\n",
    "\n",
    "\n",
    "            if len( Data_set.loc[ Data_set.iloc[:, j] >= s , 'Y' ] ) == 0 :\n",
    "\n",
    "                  y_R2 = 0\n",
    "\n",
    "            elif len( Data_set.loc[ Data_set.iloc[:, j] >= s , 'Y' ] ) != 0 : \n",
    "\n",
    "                  y_R2 = ( Data_set.loc[ Data_set.iloc[:, j] >= s , 'Y' ]  ).sum() / len( Data_set.loc[ Data_set.iloc[:, j] >= s , 'Y' ]  )  \n",
    "\n",
    "             ##############\n",
    "\n",
    "            RSS_11 = ( (y_i_R1 - y_R1 )**2 ).sum()\n",
    "\n",
    "            RSS_12 = ( (y_i_R2 - y_R2 )**2 ).sum()\n",
    "\n",
    "            RSS_1 = RSS_11 + RSS_12\n",
    "\n",
    "            ############\n",
    "\n",
    "            return(RSS_1)\n",
    "\n",
    "      ################################################\n",
    "\n",
    "        ## Busqueda de j_star y s_star de la iteracion 1\n",
    "\n",
    "        RSS_vector = []\n",
    "        j_vector = []\n",
    "        s_vector = []\n",
    "\n",
    "        s_star_vector = []\n",
    "        j_star_vector = []\n",
    "\n",
    "        for j in range(1, Data_set.shape[1]) :\n",
    "\n",
    "            for s in s_values(j, Data_set) :\n",
    "\n",
    "                RSS_vector.append( RSS_1(j, s, Data_set) )\n",
    "\n",
    "                j_vector.append( j )\n",
    "\n",
    "                s_vector.append( s )\n",
    "\n",
    "        RSS_df = pd.DataFrame({'RSS':RSS_vector, 'j':j_vector, 's':s_vector})\n",
    "\n",
    "        RSS_df_sorted = RSS_df.sort_values(by=['RSS'], axis=0, ascending=True, ignore_index=True)\n",
    "\n",
    "        s_star_vector.append( RSS_df_sorted.loc[0, 's'] )\n",
    "        j_star_vector.append( RSS_df_sorted.loc[0, 'j'] )\n",
    "\n",
    "        # OJO: s_star_vector[i] sera el s_star de la iteracion i+1 , para i=0,1,...\n",
    "        # OJO: j_star_vector[i] sera el j_star de la iteracion i+1 , para i=0,1,...    \n",
    "    \n",
    "    ######################################################################################\n",
    "\n",
    "    ## ITERACION 2\n",
    "\n",
    "    if iterations_vector[1] == 2 :  # Desarrollar nodo R1 de la 1ª iteracion\n",
    "\n",
    "        ################################################################\n",
    "\n",
    "        def RSS_2(j,s, Data_set):    # Desarrollar nodo R1 de la 1ª iteracion\n",
    "\n",
    "         # Data_set tiene que ser tal que, su columna 0 sea Y, y la j-esima sea la variable Xj , para j=1,...,p\n",
    "\n",
    "           ################\n",
    "\n",
    "            y_i_R1 = Data_set.loc[ (Data_set.iloc[:, j] < s) & (Data_set.iloc[:, j_star_vector[0]] < s_star_vector[0]) , 'Y' ]  \n",
    "\n",
    "            if len( Data_set.loc[ (Data_set.iloc[:, j] < s) & (Data_set.iloc[:, j_star_vector[0]] < s_star_vector[0]) , 'Y' ] ) == 0 :\n",
    "\n",
    "                y_R1 = 0\n",
    "\n",
    "            elif len( Data_set.loc[ (Data_set.iloc[:, j] < s) & (Data_set.iloc[:, j_star_vector[0]] < s_star_vector[0]) , 'Y' ] ) != 0 : \n",
    "\n",
    "                y_R1 = ( Data_set.loc[ (Data_set.iloc[:, j] < s) & (Data_set.iloc[:, j_star_vector[0]] < s_star_vector[0]) , 'Y' ]  ).sum() / len( Data_set.loc[ (Data_set.iloc[:, j] < s) & (Data_set.iloc[:, j_star_vector[0]] < s_star_vector[0]) , 'Y' ]  )  \n",
    "   \n",
    "\n",
    "            ###############\n",
    "\n",
    "            y_i_R2 = Data_set.loc[ (Data_set.iloc[:, j] >= s) & (Data_set.iloc[:, j_star_vector[0]] < s_star_vector[0]) , 'Y' ]  \n",
    "\n",
    "\n",
    "            if len( Data_set.loc[ (Data_set.iloc[:, j] >= s) & (Data_set.iloc[:, j_star_vector[0]] < s_star_vector[0]) , 'Y' ] ) == 0 :\n",
    "\n",
    "                  y_R2 = 0\n",
    "\n",
    "            elif len( Data_set.loc[ (Data_set.iloc[:, j] >= s) & (Data_set.iloc[:, j_star_vector[0]] < s_star_vector[0]) , 'Y' ] ) != 0 : \n",
    "\n",
    "                  y_R2 = ( Data_set.loc[ (Data_set.iloc[:, j] >= s) & (Data_set.iloc[:, j_star_vector[0]] < s_star_vector[0]) , 'Y' ]  )  \n",
    "\n",
    "             ##############\n",
    "\n",
    "            RSS_21 = ( (y_i_R1 - y_R1 )**2 ).sum()\n",
    "\n",
    "            RSS_22 = ( (y_i_R2 - y_R2 )**2 ).sum()\n",
    "\n",
    "            RSS_2 = RSS_21 + RSS_22\n",
    "\n",
    "            ############\n",
    "\n",
    "            return(RSS_2)\n",
    "\n",
    "\n",
    "      ###########################################\n",
    "\n",
    "      # Busqueda de j_star y s_star de la iteracion 2:\n",
    "\n",
    "        RSS_vector = []\n",
    "        j_vector = []\n",
    "        s_vector = []\n",
    "\n",
    "\n",
    "        for j in range(1, Data_set.shape[1]) :\n",
    "\n",
    "            for s in s_values(j, Data_set) :\n",
    "\n",
    "                RSS_vector.append( RSS_2(j, s, Data_set) )\n",
    "\n",
    "                j_vector.append( j )\n",
    "\n",
    "                s_vector.append( s )\n",
    "\n",
    "        RSS_df = pd.DataFrame({'RSS':RSS_vector, 'j':j_vector, 's':s_vector})\n",
    "\n",
    "        RSS_df_sorted = RSS_df.sort_values(by=['RSS'], axis=0, ascending=True, ignore_index=True)\n",
    "\n",
    "        s_star_vector.append( RSS_df_sorted.loc[0, 's'] )\n",
    "        j_star_vector.append( RSS_df_sorted.loc[0, 'j'] )\n",
    "\n",
    "        # OJO: s_star_vector[i] sera el s_star de la iteracion i+1 , para i=0,1,...\n",
    "        # OJO: j_star_vector[i] sera el j_star de la iteracion i+1 , para i=0,1,...\n",
    "\n",
    "\n",
    "####################################################################################\n",
    "\n",
    "  ## ITERACION 3\n",
    "\n",
    "    if iterations_vector[2] == 3 :  # Desarrollar nodo R2 de la 1ª iteracion\n",
    "\n",
    "       #########################################\n",
    "\n",
    "        def RSS_3(j,s, Data_set):    # Desarrollar nodo R2 de la 1ª iteracion\n",
    "\n",
    "         # Data_set tiene que ser tal que, su columna 0 sea Y, y la j-esima sea la variable Xj , para j=1,...,p\n",
    "\n",
    "           ################\n",
    "\n",
    "            y_i_R1 = Data_set.loc[ (Data_set.iloc[:, j] < s) & (Data_set.iloc[:, j_star_vector[0]] >= s_star_vector[0]) , 'Y' ]  \n",
    "\n",
    "            if len( Data_set.loc[ (Data_set.iloc[:, j] < s) & (Data_set.iloc[:, j_star_vector[0]] >= s_star_vector[0]) , 'Y' ] ) == 0 :\n",
    "\n",
    "                y_R1 = 0\n",
    "\n",
    "            elif len( Data_set.loc[ (Data_set.iloc[:, j] < s) & (Data_set.iloc[:, j_star_vector[1]] >= s_star_vector[1]) , 'Y' ] ) != 0 : \n",
    "\n",
    "                y_R1 = ( Data_set.loc[ (Data_set.iloc[:, j] < s) & (Data_set.iloc[:, j_star_vector[1]] >= s_star_vector[1]) , 'Y' ]  ).sum() / len( Data_set.loc[ (Data_set.iloc[:, j] < s) & (Data_set.iloc[:, j_star_vector[0]] >= s_star_vector[0]) , 'Y' ]  )  \n",
    "   \n",
    "\n",
    "            ###############\n",
    "\n",
    "            y_i_R2 = Data_set.loc[ (Data_set.iloc[:, j] >= s) & (Data_set.iloc[:, j_star_vector[1]] >= s_star_vector[1]) , 'Y' ]  \n",
    "\n",
    "\n",
    "            if len( Data_set.loc[ (Data_set.iloc[:, j] >= s) & (Data_set.iloc[:, j_star_vector[1]] >= s_star_vector[1]) , 'Y' ] ) == 0 :\n",
    "\n",
    "                  y_R2 = 0\n",
    "\n",
    "            elif len( Data_set.loc[ (Data_set.iloc[:, j] >= s) & (Data_set.iloc[:, j_star_vector[1]] >= s_star_vector[1]) , 'Y' ] ) != 0 : \n",
    "\n",
    "                  y_R2 = ( Data_set.loc[ (Data_set.iloc[:, j] >= s) & (Data_set.iloc[:, j_star_vector[1]] >= s_star_vector[1]) , 'Y' ]  )  \n",
    "\n",
    "             ##############\n",
    "\n",
    "            RSS_31 = ( (y_i_R1 - y_R1 )**2 ).sum()\n",
    "\n",
    "            RSS_32 = ( (y_i_R2 - y_R2 )**2 ).sum()\n",
    "\n",
    "            RSS_3 = RSS_31 + RSS_32\n",
    "\n",
    "            ############\n",
    "\n",
    "            return(RSS_3)\n",
    "\n",
    "       ###########################################\n",
    "\n",
    "      # Busqueda de j_star y s_star de la iteracion 3:\n",
    "\n",
    "        RSS_vector = []\n",
    "        j_vector = []\n",
    "        s_vector = []\n",
    "\n",
    " \n",
    "\n",
    "        for j in range(1, Data_set.shape[1]) :\n",
    "\n",
    "            for s in s_values(j, Data_set) :\n",
    "\n",
    "                RSS_vector.append( RSS_3(j, s, Data_set) )\n",
    "\n",
    "                j_vector.append( j )\n",
    "\n",
    "                s_vector.append( s )\n",
    "\n",
    "        RSS_df = pd.DataFrame({'RSS':RSS_vector, 'j':j_vector, 's':s_vector})\n",
    "\n",
    "        RSS_df_sorted = RSS_df.sort_values(by=['RSS'], axis=0, ascending=True, ignore_index=True)\n",
    "\n",
    "        s_star_vector.append( RSS_df_sorted.loc[0, 's'] )\n",
    "        j_star_vector.append( RSS_df_sorted.loc[0, 'j'] )\n",
    "\n",
    "        # OJO: s_star_vector[i] sera el s_star de la iteracion i+1 , para i=0,1,...\n",
    "        # OJO: j_star_vector[i] sera el j_star de la iteracion i+1 , para i=0,1,...\n",
    "\n",
    "    ###############################################\n",
    "\n",
    "    ## Nº de observaciones en cada rama del arbol generado\n",
    "\n",
    "    obs_rama_1 = len( Data_set.loc[ (Data_set.iloc[:, j_star_vector[0] ] < s_star_vector[0])  &  (Data_set.iloc[:, j_star_vector[1] ] < s_star_vector[1]) , : ] )\n",
    "    obs_rama_2 = len( Data_set.loc[ (Data_set.iloc[:, j_star_vector[0] ] < s_star_vector[0])  &  (Data_set.iloc[:, j_star_vector[1] ] >= s_star_vector[1]) , :])\n",
    "    obs_rama_3 = len( Data_set.loc[ (Data_set.iloc[:, j_star_vector[0] ] >= s_star_vector[0]) &  (Data_set.iloc[:, j_star_vector[2] ] < s_star_vector[2]) , :])\n",
    "    obs_rama_4 = len( Data_set.loc[ (Data_set.iloc[:, j_star_vector[0] ] >= s_star_vector[0])  & (Data_set.iloc[:, j_star_vector[2] ] >= s_star_vector[2]) , :] )\n",
    "\n",
    "    obs_ramas = [obs_rama_1, obs_rama_2, obs_rama_3, obs_rama_4]\n",
    "\n",
    "\n",
    "    ## PREDICCIONES\n",
    "\n",
    "    if x_new[j_star_vector[0] - 1] < s_star_vector[0] :\n",
    "\n",
    "        if  x_new[j_star_vector[1] - 1] < s_star_vector[1] :\n",
    "\n",
    "            y_new_predict = Data_set.loc[ (Data_set.iloc[:, j_star_vector[0]] < s_star_vector[0]) & (Data_set.iloc[:, j_star_vector[1]] < s_star_vector[1]) , 'Y' ]\n",
    "\n",
    "            y_new_predict = y_new_predict.sum() / len(y_new_predict)\n",
    "\n",
    "    \n",
    "    return(j_star_vector, s_star_vector, obs_ramas , y_new_predict) \n"
   ]
  },
  {
   "cell_type": "markdown",
   "metadata": {},
   "source": [
    "Arbol con 3 iteraciones, tiene 4 ramas:  (con k iter tiene k+1 ramas)"
   ]
  },
  {
   "cell_type": "markdown",
   "metadata": {},
   "source": [
    "rama 1: Data.iloc[:, j_star_vector[0] ] < s_star_vector[0]  & Data.iloc[:, j_star_vector[1] ] < s_star_vector[1]   \n",
    "\n",
    "rama 2: Data.iloc[:, j_star_vector[0] ] < s_star_vector[0]  & Data.iloc[:, j_star_vector[1] ] >= s_star_vector[1]   \n",
    "\n",
    "rama 3: Data.iloc[:, j_star_vector[0] ] >= s_star_vector[0]  & Data.iloc[:, j_star_vector[2] ] < s_star_vector[2]   \n",
    "\n",
    "rama 4: Data.iloc[:, j_star_vector[0] ] >= s_star_vector[0]  & Data.iloc[:, j_star_vector[2] ] >= s_star_vector[2]   "
   ]
  },
  {
   "cell_type": "code",
   "execution_count": 6,
   "metadata": {},
   "outputs": [],
   "source": [
    "x1 = np.random.normal(loc=10, scale=55, size=1)\n",
    "x2 = np.random.normal(loc=40, scale=5, size=1)\n",
    "x3 = np.random.normal(loc=-10, scale=15, size=1)\n",
    "x4 = np.random.normal(loc=5, scale=25, size=1)"
   ]
  },
  {
   "cell_type": "code",
   "execution_count": 7,
   "metadata": {},
   "outputs": [],
   "source": [
    "x_new = pd.Series({'X1': x1 , 'X2':x2, 'X3': x3, 'X4': x4})"
   ]
  },
  {
   "cell_type": "code",
   "execution_count": null,
   "metadata": {},
   "outputs": [],
   "source": []
  },
  {
   "cell_type": "code",
   "execution_count": 8,
   "metadata": {},
   "outputs": [
    {
     "data": {
      "text/plain": [
       "X1     [112.46101718078758]\n",
       "X2      [44.17529373405618]\n",
       "X3    [-20.236764012999707]\n",
       "X4      [-37.3013103844489]\n",
       "dtype: object"
      ]
     },
     "execution_count": 8,
     "metadata": {},
     "output_type": "execute_result"
    }
   ],
   "source": [
    "x_new"
   ]
  },
  {
   "cell_type": "code",
   "execution_count": 9,
   "metadata": {},
   "outputs": [
    {
     "ename": "UnboundLocalError",
     "evalue": "local variable 'y_R1' referenced before assignment",
     "output_type": "error",
     "traceback": [
      "\u001b[1;31m---------------------------------------------------------------------------\u001b[0m",
      "\u001b[1;31mUnboundLocalError\u001b[0m                         Traceback (most recent call last)",
      "\u001b[1;32mc:\\Users\\Usuario\\Documents\\fabio\\Fabio\\Estadistica4all.github.io\\Notebooks\\Decision Trees\\Descision Trees in Python.ipynb Celda 15\u001b[0m in \u001b[0;36m<cell line: 1>\u001b[1;34m()\u001b[0m\n\u001b[1;32m----> <a href='vscode-notebook-cell:/c%3A/Users/Usuario/Documents/fabio/Fabio/Estadistica4all.github.io/Notebooks/Decision%20Trees/Descision%20Trees%20in%20Python.ipynb#Y112sZmlsZQ%3D%3D?line=0'>1</a>\u001b[0m j_star_vector, s_star_vector, obs_ramas, y_new_predict \u001b[39m=\u001b[39m regression_tree(Data, \u001b[39mrange\u001b[39;49m(\u001b[39m1\u001b[39;49m,\u001b[39m4\u001b[39;49m), x_new)\n",
      "\u001b[1;32mc:\\Users\\Usuario\\Documents\\fabio\\Fabio\\Estadistica4all.github.io\\Notebooks\\Decision Trees\\Descision Trees in Python.ipynb Celda 15\u001b[0m in \u001b[0;36mregression_tree\u001b[1;34m(Data_set, iterations_vector, x_new)\u001b[0m\n\u001b[0;32m    <a href='vscode-notebook-cell:/c%3A/Users/Usuario/Documents/fabio/Fabio/Estadistica4all.github.io/Notebooks/Decision%20Trees/Descision%20Trees%20in%20Python.ipynb#Y112sZmlsZQ%3D%3D?line=241'>242</a>\u001b[0m \u001b[39mfor\u001b[39;00m j \u001b[39min\u001b[39;00m \u001b[39mrange\u001b[39m(\u001b[39m1\u001b[39m, Data_set\u001b[39m.\u001b[39mshape[\u001b[39m1\u001b[39m]) :\n\u001b[0;32m    <a href='vscode-notebook-cell:/c%3A/Users/Usuario/Documents/fabio/Fabio/Estadistica4all.github.io/Notebooks/Decision%20Trees/Descision%20Trees%20in%20Python.ipynb#Y112sZmlsZQ%3D%3D?line=243'>244</a>\u001b[0m     \u001b[39mfor\u001b[39;00m s \u001b[39min\u001b[39;00m s_values(j, Data_set) :\n\u001b[1;32m--> <a href='vscode-notebook-cell:/c%3A/Users/Usuario/Documents/fabio/Fabio/Estadistica4all.github.io/Notebooks/Decision%20Trees/Descision%20Trees%20in%20Python.ipynb#Y112sZmlsZQ%3D%3D?line=245'>246</a>\u001b[0m         RSS_vector\u001b[39m.\u001b[39mappend( RSS_3(j, s, Data_set) )\n\u001b[0;32m    <a href='vscode-notebook-cell:/c%3A/Users/Usuario/Documents/fabio/Fabio/Estadistica4all.github.io/Notebooks/Decision%20Trees/Descision%20Trees%20in%20Python.ipynb#Y112sZmlsZQ%3D%3D?line=247'>248</a>\u001b[0m         j_vector\u001b[39m.\u001b[39mappend( j )\n\u001b[0;32m    <a href='vscode-notebook-cell:/c%3A/Users/Usuario/Documents/fabio/Fabio/Estadistica4all.github.io/Notebooks/Decision%20Trees/Descision%20Trees%20in%20Python.ipynb#Y112sZmlsZQ%3D%3D?line=249'>250</a>\u001b[0m         s_vector\u001b[39m.\u001b[39mappend( s )\n",
      "\u001b[1;32mc:\\Users\\Usuario\\Documents\\fabio\\Fabio\\Estadistica4all.github.io\\Notebooks\\Decision Trees\\Descision Trees in Python.ipynb Celda 15\u001b[0m in \u001b[0;36mregression_tree.<locals>.RSS_3\u001b[1;34m(j, s, Data_set)\u001b[0m\n\u001b[0;32m    <a href='vscode-notebook-cell:/c%3A/Users/Usuario/Documents/fabio/Fabio/Estadistica4all.github.io/Notebooks/Decision%20Trees/Descision%20Trees%20in%20Python.ipynb#Y112sZmlsZQ%3D%3D?line=217'>218</a>\u001b[0m       y_R2 \u001b[39m=\u001b[39m ( Data_set\u001b[39m.\u001b[39mloc[ (Data_set\u001b[39m.\u001b[39miloc[:, j] \u001b[39m>\u001b[39m\u001b[39m=\u001b[39m s) \u001b[39m&\u001b[39m (Data_set\u001b[39m.\u001b[39miloc[:, j_star_vector[\u001b[39m1\u001b[39m]] \u001b[39m>\u001b[39m\u001b[39m=\u001b[39m s_star_vector[\u001b[39m1\u001b[39m]) , \u001b[39m'\u001b[39m\u001b[39mY\u001b[39m\u001b[39m'\u001b[39m ]  )  \n\u001b[0;32m    <a href='vscode-notebook-cell:/c%3A/Users/Usuario/Documents/fabio/Fabio/Estadistica4all.github.io/Notebooks/Decision%20Trees/Descision%20Trees%20in%20Python.ipynb#Y112sZmlsZQ%3D%3D?line=219'>220</a>\u001b[0m  \u001b[39m##############\u001b[39;00m\n\u001b[1;32m--> <a href='vscode-notebook-cell:/c%3A/Users/Usuario/Documents/fabio/Fabio/Estadistica4all.github.io/Notebooks/Decision%20Trees/Descision%20Trees%20in%20Python.ipynb#Y112sZmlsZQ%3D%3D?line=221'>222</a>\u001b[0m RSS_31 \u001b[39m=\u001b[39m ( (y_i_R1 \u001b[39m-\u001b[39m y_R1 )\u001b[39m*\u001b[39m\u001b[39m*\u001b[39m\u001b[39m2\u001b[39m )\u001b[39m.\u001b[39msum()\n\u001b[0;32m    <a href='vscode-notebook-cell:/c%3A/Users/Usuario/Documents/fabio/Fabio/Estadistica4all.github.io/Notebooks/Decision%20Trees/Descision%20Trees%20in%20Python.ipynb#Y112sZmlsZQ%3D%3D?line=223'>224</a>\u001b[0m RSS_32 \u001b[39m=\u001b[39m ( (y_i_R2 \u001b[39m-\u001b[39m y_R2 )\u001b[39m*\u001b[39m\u001b[39m*\u001b[39m\u001b[39m2\u001b[39m )\u001b[39m.\u001b[39msum()\n\u001b[0;32m    <a href='vscode-notebook-cell:/c%3A/Users/Usuario/Documents/fabio/Fabio/Estadistica4all.github.io/Notebooks/Decision%20Trees/Descision%20Trees%20in%20Python.ipynb#Y112sZmlsZQ%3D%3D?line=225'>226</a>\u001b[0m RSS_3 \u001b[39m=\u001b[39m RSS_31 \u001b[39m+\u001b[39m RSS_32\n",
      "\u001b[1;31mUnboundLocalError\u001b[0m: local variable 'y_R1' referenced before assignment"
     ]
    }
   ],
   "source": [
    "j_star_vector, s_star_vector, obs_ramas, y_new_predict = regression_tree(Data, range(1,4), x_new)"
   ]
  },
  {
   "cell_type": "code",
   "execution_count": null,
   "metadata": {},
   "outputs": [
    {
     "data": {
      "text/plain": [
       "[1, 1, 1]"
      ]
     },
     "execution_count": 137,
     "metadata": {},
     "output_type": "execute_result"
    }
   ],
   "source": [
    "j_star_vector"
   ]
  },
  {
   "cell_type": "code",
   "execution_count": null,
   "metadata": {},
   "outputs": [
    {
     "data": {
      "text/plain": [
       "[6.0, -4.0, -4.0]"
      ]
     },
     "execution_count": 138,
     "metadata": {},
     "output_type": "execute_result"
    }
   ],
   "source": [
    "s_star_vector"
   ]
  },
  {
   "cell_type": "code",
   "execution_count": null,
   "metadata": {},
   "outputs": [
    {
     "data": {
      "text/plain": [
       "[1, 10, 0, 1]"
      ]
     },
     "execution_count": 154,
     "metadata": {},
     "output_type": "execute_result"
    }
   ],
   "source": [
    "obs_ramas"
   ]
  },
  {
   "cell_type": "code",
   "execution_count": null,
   "metadata": {},
   "outputs": [
    {
     "data": {
      "text/plain": [
       "2.5"
      ]
     },
     "execution_count": 139,
     "metadata": {},
     "output_type": "execute_result"
    }
   ],
   "source": [
    "y_new_predict"
   ]
  },
  {
   "cell_type": "markdown",
   "metadata": {},
   "source": []
  },
  {
   "cell_type": "markdown",
   "metadata": {},
   "source": []
  },
  {
   "cell_type": "code",
   "execution_count": 24,
   "metadata": {},
   "outputs": [],
   "source": [
    "def s_values(j, Data_set):\n",
    "\n",
    "    s_values = []\n",
    "\n",
    "    if  (Data.dtypes[j] != 'float') & (Data.dtypes[j] != 'int') :\n",
    "\n",
    "        s_values = Data_set.iloc[: , j]\n",
    "\n",
    "\n",
    "    elif (Data.dtypes[j] == 'float') | (Data.dtypes[j] == 'int') :\n",
    "\n",
    "        Xj_sorted = Data_set.sort_values(by=[Data_set.columns[j]], axis=0, ascending=True, ignore_index=True).iloc[:, j]\n",
    "\n",
    "        for i in range(0, len(Xj_sorted)-1):\n",
    "\n",
    "            s_values.append( (Xj_sorted[i] + Xj_sorted[i+1] ) / 2  )\n",
    "\n",
    "    \n",
    "    return s_values"
   ]
  },
  {
   "cell_type": "code",
   "execution_count": 26,
   "metadata": {},
   "outputs": [
    {
     "data": {
      "text/plain": [
       "49"
      ]
     },
     "execution_count": 26,
     "metadata": {},
     "output_type": "execute_result"
    }
   ],
   "source": [
    "len(s_values(1, Data))"
   ]
  }
 ],
 "metadata": {
  "kernelspec": {
   "display_name": "Python 3.10.0 64-bit",
   "language": "python",
   "name": "python3"
  },
  "language_info": {
   "codemirror_mode": {
    "name": "ipython",
    "version": 3
   },
   "file_extension": ".py",
   "mimetype": "text/x-python",
   "name": "python",
   "nbconvert_exporter": "python",
   "pygments_lexer": "ipython3",
   "version": "3.10.0"
  },
  "orig_nbformat": 4,
  "vscode": {
   "interpreter": {
    "hash": "c63d8c7d738c2960218a10995aedf0a7f67a49a231e71037adf0440953cdb45b"
   }
  }
 },
 "nbformat": 4,
 "nbformat_minor": 2
}
