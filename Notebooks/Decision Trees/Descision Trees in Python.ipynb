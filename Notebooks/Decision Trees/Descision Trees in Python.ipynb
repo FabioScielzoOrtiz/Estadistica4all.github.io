{
 "cells": [
  {
   "cell_type": "markdown",
   "metadata": {},
   "source": [
    "Toy example: "
   ]
  },
  {
   "cell_type": "code",
   "execution_count": 1,
   "metadata": {},
   "outputs": [],
   "source": [
    "import pandas as pd\n",
    "import numpy as np"
   ]
  },
  {
   "cell_type": "code",
   "execution_count": 66,
   "metadata": {},
   "outputs": [],
   "source": [
    "X5 = np.random.uniform(0,1,size=50).round()"
   ]
  },
  {
   "cell_type": "code",
   "execution_count": 2,
   "metadata": {},
   "outputs": [],
   "source": [
    "np.random.seed(123)\n",
    "\n",
    "\n",
    "Y =  np.random.normal(loc=0, scale=15, size=50)\n",
    "X1 = np.random.normal(loc=10, scale=55, size=50)\n",
    "X2 = np.random.normal(loc=40, scale=5, size=50)\n",
    "X3 = np.random.normal(loc=-10, scale=15, size=50)\n",
    "X4 = np.random.normal(loc=5, scale=25, size=50)"
   ]
  },
  {
   "cell_type": "code",
   "execution_count": 67,
   "metadata": {},
   "outputs": [],
   "source": [
    "Data = pd.DataFrame({'Y':Y , 'X1':X1, 'X2':X2, 'X3':X3, 'X4':X4, 'X5':X5})"
   ]
  },
  {
   "cell_type": "code",
   "execution_count": 81,
   "metadata": {},
   "outputs": [],
   "source": [
    "Data['X5'] = Data['X5'].astype('category')"
   ]
  },
  {
   "cell_type": "code",
   "execution_count": 82,
   "metadata": {},
   "outputs": [
    {
     "data": {
      "text/plain": [
       "Y      float64\n",
       "X1     float64\n",
       "X2     float64\n",
       "X3     float64\n",
       "X4     float64\n",
       "X5    category\n",
       "dtype: object"
      ]
     },
     "execution_count": 82,
     "metadata": {},
     "output_type": "execute_result"
    }
   ],
   "source": [
    "Data.dtypes"
   ]
  },
  {
   "cell_type": "code",
   "execution_count": 4,
   "metadata": {},
   "outputs": [
    {
     "data": {
      "text/html": [
       "<div>\n",
       "<style scoped>\n",
       "    .dataframe tbody tr th:only-of-type {\n",
       "        vertical-align: middle;\n",
       "    }\n",
       "\n",
       "    .dataframe tbody tr th {\n",
       "        vertical-align: top;\n",
       "    }\n",
       "\n",
       "    .dataframe thead th {\n",
       "        text-align: right;\n",
       "    }\n",
       "</style>\n",
       "<table border=\"1\" class=\"dataframe\">\n",
       "  <thead>\n",
       "    <tr style=\"text-align: right;\">\n",
       "      <th></th>\n",
       "      <th>Y</th>\n",
       "      <th>X1</th>\n",
       "      <th>X2</th>\n",
       "      <th>X3</th>\n",
       "      <th>X4</th>\n",
       "    </tr>\n",
       "  </thead>\n",
       "  <tbody>\n",
       "    <tr>\n",
       "      <th>0</th>\n",
       "      <td>-16.284459</td>\n",
       "      <td>-61.174693</td>\n",
       "      <td>43.210273</td>\n",
       "      <td>-6.192753</td>\n",
       "      <td>22.582753</td>\n",
       "    </tr>\n",
       "    <tr>\n",
       "      <th>1</th>\n",
       "      <td>14.960182</td>\n",
       "      <td>-47.133352</td>\n",
       "      <td>30.110560</td>\n",
       "      <td>-5.744120</td>\n",
       "      <td>-9.952633</td>\n",
       "    </tr>\n",
       "    <tr>\n",
       "      <th>2</th>\n",
       "      <td>4.244677</td>\n",
       "      <td>105.904172</td>\n",
       "      <td>43.561323</td>\n",
       "      <td>-31.178333</td>\n",
       "      <td>60.017552</td>\n",
       "    </tr>\n",
       "    <tr>\n",
       "      <th>3</th>\n",
       "      <td>-22.594421</td>\n",
       "      <td>-33.893450</td>\n",
       "      <td>52.991520</td>\n",
       "      <td>-38.153030</td>\n",
       "      <td>22.207423</td>\n",
       "    </tr>\n",
       "    <tr>\n",
       "      <th>4</th>\n",
       "      <td>-8.679004</td>\n",
       "      <td>11.632578</td>\n",
       "      <td>39.876870</td>\n",
       "      <td>-25.294826</td>\n",
       "      <td>4.842319</td>\n",
       "    </tr>\n",
       "  </tbody>\n",
       "</table>\n",
       "</div>"
      ],
      "text/plain": [
       "           Y          X1         X2         X3         X4\n",
       "0 -16.284459  -61.174693  43.210273  -6.192753  22.582753\n",
       "1  14.960182  -47.133352  30.110560  -5.744120  -9.952633\n",
       "2   4.244677  105.904172  43.561323 -31.178333  60.017552\n",
       "3 -22.594421  -33.893450  52.991520 -38.153030  22.207423\n",
       "4  -8.679004   11.632578  39.876870 -25.294826   4.842319"
      ]
     },
     "execution_count": 4,
     "metadata": {},
     "output_type": "execute_result"
    }
   ],
   "source": [
    "Data.head()"
   ]
  },
  {
   "cell_type": "markdown",
   "metadata": {},
   "source": []
  },
  {
   "cell_type": "code",
   "execution_count": 75,
   "metadata": {},
   "outputs": [],
   "source": [
    "def s_values(j, Data_set):\n",
    "\n",
    "        s_values = []\n",
    "\n",
    "        if  (Data.dtypes[j] != 'float') & (Data.dtypes[j] != 'int') : # Para las variables categoricas s_value sera simplemente su rango.\n",
    "\n",
    "            s_values = Data_set.sort_values(by=[Data_set.columns[j]], axis=0, ascending=True, ignore_index=True).iloc[:, j].unique()\n",
    "\n",
    "\n",
    "        elif (Data.dtypes[j] == 'float') | (Data.dtypes[j] == 'int') :\n",
    "\n",
    "            Xj_sorted = Data_set.sort_values(by=[Data_set.columns[j]], axis=0, ascending=True, ignore_index=True).iloc[:, j].unique()\n",
    "\n",
    "        \n",
    "            for i in range(0, len(Xj_sorted)-1):\n",
    "\n",
    "                s_values.append( (Xj_sorted[i] + Xj_sorted[i+1] ) / 2  )\n",
    "\n",
    "    \n",
    "        return s_values"
   ]
  },
  {
   "cell_type": "code",
   "execution_count": 74,
   "metadata": {},
   "outputs": [
    {
     "data": {
      "text/plain": [
       "-106.7705192523343"
      ]
     },
     "execution_count": 74,
     "metadata": {},
     "output_type": "execute_result"
    }
   ],
   "source": [
    "Data.sort_values(by=[Data.columns[1]], axis=0, ascending=True, ignore_index=True).iloc[:, 1].unique()[0]"
   ]
  },
  {
   "cell_type": "code",
   "execution_count": 71,
   "metadata": {},
   "outputs": [
    {
     "data": {
      "text/plain": [
       "array([0., 1.])"
      ]
     },
     "execution_count": 71,
     "metadata": {},
     "output_type": "execute_result"
    }
   ],
   "source": [
    "Data.sort_values(by=[Data.columns[5]], axis=0, ascending=True, ignore_index=True).iloc[:, 5].unique()"
   ]
  },
  {
   "cell_type": "code",
   "execution_count": 84,
   "metadata": {},
   "outputs": [
    {
     "data": {
      "text/plain": [
       "0.0"
      ]
     },
     "execution_count": 84,
     "metadata": {},
     "output_type": "execute_result"
    }
   ],
   "source": [
    "s_values(5, Data)"
   ]
  },
  {
   "cell_type": "markdown",
   "metadata": {},
   "source": []
  },
  {
   "cell_type": "code",
   "execution_count": 87,
   "metadata": {},
   "outputs": [],
   "source": [
    "from cmath import inf\n",
    "\n",
    "\n",
    "def regression_tree(Data_set, iterations_vector, x_new):\n",
    "\n",
    "# POR AHORA SOLO GENERA 3 ITERACIONES EN EL ARBOL --> iterations_vector = range(1,4) como mucho (=[1,2,3])\n",
    "\n",
    "########################################################################\n",
    "    \n",
    "# Data_set tiene que ser tal que, su columna 0 sea Y, y la j-esima sea la variable Xj , para j=1,...,p\n",
    "\n",
    "\n",
    "    def s_values(j, Data_set):\n",
    "\n",
    "        s_values = []\n",
    "\n",
    "        if  (Data.dtypes[j] != 'float') & (Data.dtypes[j] != 'int') : # Para las variables categoricas s_value sera simplemente su rango.\n",
    "\n",
    "            s_values = Data_set.sort_values(by=[Data_set.columns[j]], axis=0, ascending=True, ignore_index=True).iloc[:, j].unique()\n",
    "\n",
    "\n",
    "        elif (Data.dtypes[j] == 'float') | (Data.dtypes[j] == 'int') :\n",
    "\n",
    "            Xj_sorted = Data_set.sort_values(by=[Data_set.columns[j]], axis=0, ascending=True, ignore_index=True).iloc[:, j].unique()\n",
    "\n",
    "        \n",
    "            for i in range(0, len(Xj_sorted)-1):\n",
    "\n",
    "                s_values.append( (Xj_sorted[i] + Xj_sorted[i+1] ) / 2  )\n",
    "\n",
    "    \n",
    "        return s_values\n",
    "\n",
    "\n",
    "########################################################################  \n",
    "\n",
    "   ## ITERACION 1\n",
    "\n",
    "    if iterations_vector[0] == 1 : # nacimiento del arbol\n",
    "\n",
    "        def RSS_1(j,s, Data_set):\n",
    "\n",
    "         # Data_set tiene que ser tal que, su columna 0 sea Y, y la j-esima sea la variable Xj , para j=1,...,p\n",
    "\n",
    "    ######################################\n",
    "\n",
    "            y_i_R1 = Data_set.loc[ Data_set.iloc[:, j] < s , 'Y' ] # y_i tal que x_ij < s\n",
    "\n",
    "            if len( Data_set.loc[ Data_set.iloc[:, j] < s , 'Y' ] ) == 0 :\n",
    "\n",
    "                y_R1 = 0\n",
    "\n",
    "            elif len( Data_set.loc[ Data_set.iloc[:, j] < s , 'Y' ] ) != 0 : \n",
    "\n",
    "                y_R1 = ( Data_set.loc[ Data_set.iloc[:, j] < s , 'Y' ]  ).sum() / len( Data_set.loc[ Data_set.iloc[:, j] < s , 'Y' ]  )  \n",
    "   \n",
    "\n",
    "            ###############\n",
    "\n",
    "            y_i_R2 = Data_set.loc[ Data_set.iloc[:, j] >= s , 'Y' ] # y_i tal que x_i1 >= 2\n",
    "\n",
    "\n",
    "            if len( Data_set.loc[ Data_set.iloc[:, j] >= s , 'Y' ] ) == 0 :\n",
    "\n",
    "                y_R2 = 0\n",
    "\n",
    "            elif len( Data_set.loc[ Data_set.iloc[:, j] >= s , 'Y' ] ) != 0 : \n",
    "\n",
    "                y_R2 = ( Data_set.loc[ Data_set.iloc[:, j] >= s , 'Y' ]  ).sum() / len( Data_set.loc[ Data_set.iloc[:, j] >= s , 'Y' ]  )  \n",
    "\n",
    "             ##############\n",
    "\n",
    "            RSS_11 = ( (y_i_R1 - y_R1 )**2 ).sum()\n",
    "\n",
    "            RSS_12 = ( (y_i_R2 - y_R2 )**2 ).sum()\n",
    "\n",
    "            RSS_1 = RSS_11 + RSS_12\n",
    "\n",
    "            ############\n",
    "\n",
    "            return(RSS_1)\n",
    "\n",
    "      ################################################\n",
    "\n",
    "        ## Busqueda de j_star y s_star de la iteracion 1\n",
    "\n",
    "        RSS_vector = []\n",
    "        j_vector = []\n",
    "        s_vector = []\n",
    "\n",
    "        s_star_vector = []\n",
    "        j_star_vector = []\n",
    "\n",
    "        for j in range(1, Data_set.shape[1]) :\n",
    "\n",
    "            for s in s_values(j, Data_set) :\n",
    "\n",
    "                RSS_vector.append( RSS_1(j, s, Data_set) )\n",
    "\n",
    "                j_vector.append( j )\n",
    "\n",
    "                s_vector.append( s )\n",
    "\n",
    "        RSS_df = pd.DataFrame({'RSS':RSS_vector, 'j':j_vector, 's':s_vector})\n",
    "\n",
    "        RSS_df_sorted = RSS_df.sort_values(by=['RSS'], axis=0, ascending=True, ignore_index=True)\n",
    "\n",
    "        s_star_vector.append( RSS_df_sorted.loc[0, 's'] )\n",
    "        j_star_vector.append( RSS_df_sorted.loc[0, 'j'] )\n",
    "\n",
    "        # OJO: s_star_vector[i] sera el s_star de la iteracion i+1 , para i=0,1,...\n",
    "        # OJO: j_star_vector[i] sera el j_star de la iteracion i+1 , para i=0,1,...    \n",
    "    \n",
    "    ######################################################################################\n",
    "\n",
    "    ## ITERACION 2\n",
    "\n",
    "    if iterations_vector[1] == 2 :  # Desarrollar nodo R1 de la 1ª iteracion\n",
    "\n",
    "        ################################################################\n",
    "\n",
    "        def RSS_2(j,s, Data_set):    # Desarrollar nodo R1 de la 1ª iteracion\n",
    "\n",
    "         # Data_set tiene que ser tal que, su columna 0 sea Y, y la j-esima sea la variable Xj , para j=1,...,p\n",
    "\n",
    "           ################\n",
    "\n",
    "           # Verificando si se cumplen las siguientes dos condiciones conjuntamente nos garantizamos que todas las ramas tienes observaciones de train. \n",
    "           # Es decir, no habra ninguna rama sin observaciones de train que caigan en ella.\n",
    "\n",
    "            cond1 = ( len( Data_set.loc[ (Data_set.iloc[:, j] < s) & (Data_set.iloc[:, j_star_vector[0]] >= s_star_vector[0]) , 'Y' ] ) != 0 )\n",
    "            cond2 = ( len( Data_set.loc[ (Data_set.iloc[:, j] >= s) & (Data_set.iloc[:, j_star_vector[0]] >= s_star_vector[0]) , 'Y' ] ) != 0 )\n",
    "              \n",
    "\n",
    "            if (cond1 == False) | (cond2 == False) :\n",
    "\n",
    "                RSS_2 = math.inf\n",
    "\n",
    "            elif  (cond1 == True) & (cond2 == True) : \n",
    "\n",
    "                y_i_R1 = Data_set.loc[ (Data_set.iloc[:, j] < s) & (Data_set.iloc[:, j_star_vector[0]] >= s_star_vector[0]) , 'Y' ]\n",
    "\n",
    "                y_R1 = ( Data_set.loc[ (Data_set.iloc[:, j] < s) & (Data_set.iloc[:, j_star_vector[0]] >= s_star_vector[0]) , 'Y' ]  ).sum() / len( Data_set.loc[ (Data_set.iloc[:, j] < s) & (Data_set.iloc[:, j_star_vector[0]] >= s_star_vector[0]) , 'Y' ]  )  \n",
    "   \n",
    "                y_i_R2 = Data_set.loc[ (Data_set.iloc[:, j] >= s) & (Data_set.iloc[:, j_star_vector[0]] >= s_star_vector[0]) , 'Y' ]  \n",
    "\n",
    "                y_R2 = ( Data_set.loc[ (Data_set.iloc[:, j] >= s) & (Data_set.iloc[:, j_star_vector[0]] >= s_star_vector[0]) , 'Y' ]  ).sum() / len( Data_set.loc[ (Data_set.iloc[:, j] >= s) & (Data_set.iloc[:, j_star_vector[0]] >= s_star_vector[0]) , 'Y' ]  )\n",
    "           \n",
    "                RSS_21 = ( (y_i_R1 - y_R1 )**2 ).sum()\n",
    "\n",
    "                RSS_22 = ( (y_i_R2 - y_R2 )**2 ).sum()\n",
    "\n",
    "                RSS_2 = RSS_31 + RSS_32\n",
    "\n",
    "            ############\n",
    "\n",
    "            return(RSS_2)\n",
    "\n",
    "\n",
    "      ###########################################\n",
    "\n",
    "      # Busqueda de j_star y s_star de la iteracion 2:\n",
    "\n",
    "        RSS_vector = []\n",
    "        j_vector = []\n",
    "        s_vector = []\n",
    "\n",
    "\n",
    "        for j in range(1, Data_set.shape[1]) :\n",
    "\n",
    "            for s in s_values(j, Data_set) :\n",
    "\n",
    "                RSS_vector.append( RSS_2(j, s, Data_set) )\n",
    "\n",
    "                j_vector.append( j )\n",
    "\n",
    "                s_vector.append( s )\n",
    "\n",
    "        RSS_df = pd.DataFrame({'RSS':RSS_vector, 'j':j_vector, 's':s_vector})\n",
    "\n",
    "        RSS_df_sorted = RSS_df.sort_values(by=['RSS'], axis=0, ascending=True, ignore_index=True)\n",
    "\n",
    "        s_star_vector.append( RSS_df_sorted.loc[0, 's'] )\n",
    "        j_star_vector.append( RSS_df_sorted.loc[0, 'j'] )\n",
    "\n",
    "        # OJO: s_star_vector[i] sera el s_star de la iteracion i+1 , para i=0,1,...\n",
    "        # OJO: j_star_vector[i] sera el j_star de la iteracion i+1 , para i=0,1,...\n",
    "\n",
    "\n",
    "####################################################################################\n",
    "\n",
    "## ITERACION 3\n",
    "\n",
    "    if iterations_vector[2] == 3 :  # Desarrollar nodo R2 de la 1ª iteracion\n",
    "\n",
    "       #########################################\n",
    "\n",
    "        def RSS_3(j,s, Data_set):    # Desarrollar nodo R2 de la 1ª iteracion\n",
    "\n",
    "         # Data_set tiene que ser tal que, su columna 0 sea Y, y la j-esima sea la variable Xj , para j=1,...,p\n",
    "\n",
    "           ################\n",
    "\n",
    "           # Verificando si se cumplen las siguientes dos condiciones conjuntamente nos garantizamos que todas las ramas tienes observaciones de train. \n",
    "           # Es decir, no habra ninguna rama sin observaciones de train que caigan en ella.\n",
    "\n",
    "            cond1 = ( len( Data_set.loc[ (Data_set.iloc[:, j] < s) & (Data_set.iloc[:, j_star_vector[1]] >= s_star_vector[1]) , 'Y' ] ) != 0 )\n",
    "            cond2 = ( len( Data_set.loc[ (Data_set.iloc[:, j] >= s) & (Data_set.iloc[:, j_star_vector[1]] >= s_star_vector[1]) , 'Y' ] ) != 0 )\n",
    "              \n",
    "\n",
    "            if (cond1 == False) | (cond2 == False) :\n",
    "\n",
    "                RSS_3 = math.inf\n",
    "\n",
    "            elif  (cond1 == True) & (cond2 == True) : \n",
    "\n",
    "                y_i_R1 = Data_set.loc[ (Data_set.iloc[:, j] < s) & (Data_set.iloc[:, j_star_vector[1]] >= s_star_vector[1]) , 'Y' ]\n",
    "\n",
    "                y_R1 = ( Data_set.loc[ (Data_set.iloc[:, j] < s) & (Data_set.iloc[:, j_star_vector[1]] >= s_star_vector[1]) , 'Y' ]  ).sum() / len( Data_set.loc[ (Data_set.iloc[:, j] < s) & (Data_set.iloc[:, j_star_vector[0]] >= s_star_vector[0]) , 'Y' ]  )  \n",
    "   \n",
    "                y_i_R2 = Data_set.loc[ (Data_set.iloc[:, j] >= s) & (Data_set.iloc[:, j_star_vector[1]] >= s_star_vector[1]) , 'Y' ]  \n",
    "\n",
    "                y_R2 = ( Data_set.loc[ (Data_set.iloc[:, j] >= s) & (Data_set.iloc[:, j_star_vector[1]] >= s_star_vector[1]) , 'Y' ]  ).sum() / len( Data_set.loc[ (Data_set.iloc[:, j] >= s) & (Data_set.iloc[:, j_star_vector[0]] >= s_star_vector[0]) , 'Y' ]  )\n",
    "           \n",
    "                RSS_31 = ( (y_i_R1 - y_R1 )**2 ).sum()\n",
    "\n",
    "                RSS_32 = ( (y_i_R2 - y_R2 )**2 ).sum()\n",
    "\n",
    "                RSS_3 = RSS_31 + RSS_32\n",
    "            ###############\n",
    "\n",
    "            ############\n",
    "\n",
    "            return(RSS_3)\n",
    "\n",
    "\n",
    "       ###########################################\n",
    "\n",
    "      # Busqueda de j_star y s_star de la iteracion 3:\n",
    "\n",
    "        RSS_vector = []\n",
    "        j_vector = []\n",
    "        s_vector = []\n",
    "\n",
    " \n",
    "\n",
    "        for j in range(1, Data_set.shape[1]) :\n",
    "\n",
    "            for s in s_values(j, Data_set) :\n",
    "\n",
    "                RSS_vector.append( RSS_3(j, s, Data_set) )\n",
    "\n",
    "                j_vector.append( j )\n",
    "\n",
    "                s_vector.append( s )\n",
    "\n",
    "        RSS_df = pd.DataFrame({'RSS':RSS_vector, 'j':j_vector, 's':s_vector})\n",
    "\n",
    "        RSS_df_sorted = RSS_df.sort_values(by=['RSS'], axis=0, ascending=True, ignore_index=True)\n",
    "\n",
    "        s_star_vector.append( RSS_df_sorted.loc[0, 's'] )\n",
    "        j_star_vector.append( RSS_df_sorted.loc[0, 'j'] )\n",
    "\n",
    "        # OJO: s_star_vector[i] sera el s_star de la iteracion i+1 , para i=0,1,...\n",
    "        # OJO: j_star_vector[i] sera el j_star de la iteracion i+1 , para i=0,1,...\n",
    "\n",
    "    ###############################################\n",
    "\n",
    "    ## Nº de observaciones en cada rama del arbol generado\n",
    "\n",
    "    obs_rama_1 = len( Data_set.loc[ (Data_set.iloc[:, j_star_vector[0] ] < s_star_vector[0])  &  (Data_set.iloc[:, j_star_vector[1] ] < s_star_vector[1]) , : ] )\n",
    "    obs_rama_2 = len( Data_set.loc[ (Data_set.iloc[:, j_star_vector[0] ] < s_star_vector[0])  &  (Data_set.iloc[:, j_star_vector[1] ] >= s_star_vector[1]) , :])\n",
    "    obs_rama_3 = len( Data_set.loc[ (Data_set.iloc[:, j_star_vector[0] ] >= s_star_vector[0]) &  (Data_set.iloc[:, j_star_vector[2] ] < s_star_vector[2]) , :])\n",
    "    obs_rama_4 = len( Data_set.loc[ (Data_set.iloc[:, j_star_vector[0] ] >= s_star_vector[0])  & (Data_set.iloc[:, j_star_vector[2] ] >= s_star_vector[2]) , :] )\n",
    "\n",
    "    obs_ramas = [obs_rama_1, obs_rama_2, obs_rama_3, obs_rama_4]\n",
    "\n",
    "\n",
    "    ## PREDICCIONES\n",
    "\n",
    "    if x_new[j_star_vector[0] - 1] < s_star_vector[0] :\n",
    "\n",
    "        if  x_new[j_star_vector[1] - 1] < s_star_vector[1] :\n",
    "\n",
    "            y_new_predict = Data_set.loc[ (Data_set.iloc[:, j_star_vector[0]] < s_star_vector[0]) & (Data_set.iloc[:, j_star_vector[1]] < s_star_vector[1]) , 'Y' ]\n",
    "\n",
    "            y_new_predict = y_new_predict.sum() / len(y_new_predict)\n",
    "\n",
    "    \n",
    "    return(j_star_vector, s_star_vector, obs_ramas , y_new_predict) \n"
   ]
  },
  {
   "cell_type": "markdown",
   "metadata": {},
   "source": [
    "Arbol con 3 iteraciones, tiene 4 ramas:  (con k iter tiene k+1 ramas)"
   ]
  },
  {
   "cell_type": "markdown",
   "metadata": {},
   "source": [
    "rama 1: Data.iloc[:, j_star_vector[0] ] < s_star_vector[0]  & Data.iloc[:, j_star_vector[1] ] < s_star_vector[1]   \n",
    "\n",
    "rama 2: Data.iloc[:, j_star_vector[0] ] < s_star_vector[0]  & Data.iloc[:, j_star_vector[1] ] >= s_star_vector[1]   \n",
    "\n",
    "rama 3: Data.iloc[:, j_star_vector[0] ] >= s_star_vector[0]  & Data.iloc[:, j_star_vector[2] ] < s_star_vector[2]   \n",
    "\n",
    "rama 4: Data.iloc[:, j_star_vector[0] ] >= s_star_vector[0]  & Data.iloc[:, j_star_vector[2] ] >= s_star_vector[2]   "
   ]
  },
  {
   "cell_type": "code",
   "execution_count": 6,
   "metadata": {},
   "outputs": [],
   "source": [
    "x1 = np.random.normal(loc=10, scale=55, size=1)\n",
    "x2 = np.random.normal(loc=40, scale=5, size=1)\n",
    "x3 = np.random.normal(loc=-10, scale=15, size=1)\n",
    "x4 = np.random.normal(loc=5, scale=25, size=1)\n",
    "x5 = r"
   ]
  },
  {
   "cell_type": "code",
   "execution_count": 7,
   "metadata": {},
   "outputs": [],
   "source": [
    "x_new = pd.Series({'X1': x1 , 'X2':x2, 'X3': x3, 'X4': x4})"
   ]
  },
  {
   "cell_type": "code",
   "execution_count": null,
   "metadata": {},
   "outputs": [],
   "source": []
  },
  {
   "cell_type": "code",
   "execution_count": 8,
   "metadata": {},
   "outputs": [
    {
     "data": {
      "text/plain": [
       "X1     [112.46101718078758]\n",
       "X2      [44.17529373405618]\n",
       "X3    [-20.236764012999707]\n",
       "X4      [-37.3013103844489]\n",
       "dtype: object"
      ]
     },
     "execution_count": 8,
     "metadata": {},
     "output_type": "execute_result"
    }
   ],
   "source": [
    "x_new"
   ]
  },
  {
   "cell_type": "code",
   "execution_count": 29,
   "metadata": {},
   "outputs": [
    {
     "ename": "UnboundLocalError",
     "evalue": "local variable 'y_R1' referenced before assignment",
     "output_type": "error",
     "traceback": [
      "\u001b[1;31m---------------------------------------------------------------------------\u001b[0m",
      "\u001b[1;31mUnboundLocalError\u001b[0m                         Traceback (most recent call last)",
      "\u001b[1;32mc:\\Users\\Usuario\\Documents\\fabio\\Fabio\\Estadistica4all.github.io\\Notebooks\\Decision Trees\\Descision Trees in Python.ipynb Celda 15\u001b[0m in \u001b[0;36m<cell line: 1>\u001b[1;34m()\u001b[0m\n\u001b[1;32m----> <a href='vscode-notebook-cell:/c%3A/Users/Usuario/Documents/fabio/Fabio/Estadistica4all.github.io/Notebooks/Decision%20Trees/Descision%20Trees%20in%20Python.ipynb#Y112sZmlsZQ%3D%3D?line=0'>1</a>\u001b[0m j_star_vector, s_star_vector, obs_ramas, y_new_predict \u001b[39m=\u001b[39m regression_tree(Data, \u001b[39mrange\u001b[39;49m(\u001b[39m1\u001b[39;49m,\u001b[39m4\u001b[39;49m), x_new)\n",
      "\u001b[1;32mc:\\Users\\Usuario\\Documents\\fabio\\Fabio\\Estadistica4all.github.io\\Notebooks\\Decision Trees\\Descision Trees in Python.ipynb Celda 15\u001b[0m in \u001b[0;36mregression_tree\u001b[1;34m(Data_set, iterations_vector, x_new)\u001b[0m\n\u001b[0;32m    <a href='vscode-notebook-cell:/c%3A/Users/Usuario/Documents/fabio/Fabio/Estadistica4all.github.io/Notebooks/Decision%20Trees/Descision%20Trees%20in%20Python.ipynb#Y112sZmlsZQ%3D%3D?line=257'>258</a>\u001b[0m \u001b[39mfor\u001b[39;00m j \u001b[39min\u001b[39;00m \u001b[39mrange\u001b[39m(\u001b[39m1\u001b[39m, Data_set\u001b[39m.\u001b[39mshape[\u001b[39m1\u001b[39m]) :\n\u001b[0;32m    <a href='vscode-notebook-cell:/c%3A/Users/Usuario/Documents/fabio/Fabio/Estadistica4all.github.io/Notebooks/Decision%20Trees/Descision%20Trees%20in%20Python.ipynb#Y112sZmlsZQ%3D%3D?line=259'>260</a>\u001b[0m     \u001b[39mfor\u001b[39;00m s \u001b[39min\u001b[39;00m s_values(j, Data_set) :\n\u001b[1;32m--> <a href='vscode-notebook-cell:/c%3A/Users/Usuario/Documents/fabio/Fabio/Estadistica4all.github.io/Notebooks/Decision%20Trees/Descision%20Trees%20in%20Python.ipynb#Y112sZmlsZQ%3D%3D?line=261'>262</a>\u001b[0m         RSS_vector\u001b[39m.\u001b[39mappend( RSS_3(j, s, Data_set) )\n\u001b[0;32m    <a href='vscode-notebook-cell:/c%3A/Users/Usuario/Documents/fabio/Fabio/Estadistica4all.github.io/Notebooks/Decision%20Trees/Descision%20Trees%20in%20Python.ipynb#Y112sZmlsZQ%3D%3D?line=263'>264</a>\u001b[0m         j_vector\u001b[39m.\u001b[39mappend( j )\n\u001b[0;32m    <a href='vscode-notebook-cell:/c%3A/Users/Usuario/Documents/fabio/Fabio/Estadistica4all.github.io/Notebooks/Decision%20Trees/Descision%20Trees%20in%20Python.ipynb#Y112sZmlsZQ%3D%3D?line=265'>266</a>\u001b[0m         s_vector\u001b[39m.\u001b[39mappend( s )\n",
      "\u001b[1;32mc:\\Users\\Usuario\\Documents\\fabio\\Fabio\\Estadistica4all.github.io\\Notebooks\\Decision Trees\\Descision Trees in Python.ipynb Celda 15\u001b[0m in \u001b[0;36mregression_tree.<locals>.RSS_3\u001b[1;34m(j, s, Data_set)\u001b[0m\n\u001b[0;32m    <a href='vscode-notebook-cell:/c%3A/Users/Usuario/Documents/fabio/Fabio/Estadistica4all.github.io/Notebooks/Decision%20Trees/Descision%20Trees%20in%20Python.ipynb#Y112sZmlsZQ%3D%3D?line=233'>234</a>\u001b[0m     y_R2 \u001b[39m=\u001b[39m ( Data_set\u001b[39m.\u001b[39mloc[ (Data_set\u001b[39m.\u001b[39miloc[:, j] \u001b[39m>\u001b[39m\u001b[39m=\u001b[39m s) \u001b[39m&\u001b[39m (Data_set\u001b[39m.\u001b[39miloc[:, j_star_vector[\u001b[39m1\u001b[39m]] \u001b[39m>\u001b[39m\u001b[39m=\u001b[39m s_star_vector[\u001b[39m1\u001b[39m]) , \u001b[39m'\u001b[39m\u001b[39mY\u001b[39m\u001b[39m'\u001b[39m ]  )\u001b[39m.\u001b[39msum() \u001b[39m/\u001b[39m \u001b[39mlen\u001b[39m( Data_set\u001b[39m.\u001b[39mloc[ (Data_set\u001b[39m.\u001b[39miloc[:, j] \u001b[39m>\u001b[39m\u001b[39m=\u001b[39m s) \u001b[39m&\u001b[39m (Data_set\u001b[39m.\u001b[39miloc[:, j_star_vector[\u001b[39m0\u001b[39m]] \u001b[39m>\u001b[39m\u001b[39m=\u001b[39m s_star_vector[\u001b[39m0\u001b[39m]) , \u001b[39m'\u001b[39m\u001b[39mY\u001b[39m\u001b[39m'\u001b[39m ]  )\n\u001b[0;32m    <a href='vscode-notebook-cell:/c%3A/Users/Usuario/Documents/fabio/Fabio/Estadistica4all.github.io/Notebooks/Decision%20Trees/Descision%20Trees%20in%20Python.ipynb#Y112sZmlsZQ%3D%3D?line=235'>236</a>\u001b[0m  \u001b[39m##############\u001b[39;00m\n\u001b[1;32m--> <a href='vscode-notebook-cell:/c%3A/Users/Usuario/Documents/fabio/Fabio/Estadistica4all.github.io/Notebooks/Decision%20Trees/Descision%20Trees%20in%20Python.ipynb#Y112sZmlsZQ%3D%3D?line=237'>238</a>\u001b[0m RSS_31 \u001b[39m=\u001b[39m ( (y_i_R1 \u001b[39m-\u001b[39m y_R1 )\u001b[39m*\u001b[39m\u001b[39m*\u001b[39m\u001b[39m2\u001b[39m )\u001b[39m.\u001b[39msum()\n\u001b[0;32m    <a href='vscode-notebook-cell:/c%3A/Users/Usuario/Documents/fabio/Fabio/Estadistica4all.github.io/Notebooks/Decision%20Trees/Descision%20Trees%20in%20Python.ipynb#Y112sZmlsZQ%3D%3D?line=239'>240</a>\u001b[0m RSS_32 \u001b[39m=\u001b[39m ( (y_i_R2 \u001b[39m-\u001b[39m y_R2 )\u001b[39m*\u001b[39m\u001b[39m*\u001b[39m\u001b[39m2\u001b[39m )\u001b[39m.\u001b[39msum()\n\u001b[0;32m    <a href='vscode-notebook-cell:/c%3A/Users/Usuario/Documents/fabio/Fabio/Estadistica4all.github.io/Notebooks/Decision%20Trees/Descision%20Trees%20in%20Python.ipynb#Y112sZmlsZQ%3D%3D?line=241'>242</a>\u001b[0m RSS_3 \u001b[39m=\u001b[39m RSS_31 \u001b[39m+\u001b[39m RSS_32\n",
      "\u001b[1;31mUnboundLocalError\u001b[0m: local variable 'y_R1' referenced before assignment"
     ]
    }
   ],
   "source": [
    "j_star_vector, s_star_vector, obs_ramas, y_new_predict = regression_tree(Data, range(1,4), x_new)"
   ]
  },
  {
   "cell_type": "code",
   "execution_count": null,
   "metadata": {},
   "outputs": [
    {
     "data": {
      "text/plain": [
       "[1, 1, 1]"
      ]
     },
     "execution_count": 137,
     "metadata": {},
     "output_type": "execute_result"
    }
   ],
   "source": [
    "j_star_vector"
   ]
  },
  {
   "cell_type": "code",
   "execution_count": null,
   "metadata": {},
   "outputs": [
    {
     "data": {
      "text/plain": [
       "[6.0, -4.0, -4.0]"
      ]
     },
     "execution_count": 138,
     "metadata": {},
     "output_type": "execute_result"
    }
   ],
   "source": [
    "s_star_vector"
   ]
  },
  {
   "cell_type": "code",
   "execution_count": null,
   "metadata": {},
   "outputs": [
    {
     "data": {
      "text/plain": [
       "[1, 10, 0, 1]"
      ]
     },
     "execution_count": 154,
     "metadata": {},
     "output_type": "execute_result"
    }
   ],
   "source": [
    "obs_ramas"
   ]
  },
  {
   "cell_type": "code",
   "execution_count": null,
   "metadata": {},
   "outputs": [
    {
     "data": {
      "text/plain": [
       "2.5"
      ]
     },
     "execution_count": 139,
     "metadata": {},
     "output_type": "execute_result"
    }
   ],
   "source": [
    "y_new_predict"
   ]
  },
  {
   "cell_type": "markdown",
   "metadata": {},
   "source": []
  },
  {
   "cell_type": "markdown",
   "metadata": {},
   "source": []
  },
  {
   "cell_type": "code",
   "execution_count": 10,
   "metadata": {},
   "outputs": [],
   "source": [
    "def s_values(j, Data_set):\n",
    "\n",
    "    s_values = []\n",
    "\n",
    "    if  (Data.dtypes[j] != 'float') & (Data.dtypes[j] != 'int') :\n",
    "\n",
    "        s_values = Data_set.iloc[: , j]\n",
    "\n",
    "\n",
    "    elif (Data.dtypes[j] == 'float') | (Data.dtypes[j] == 'int') :\n",
    "\n",
    "        Xj_sorted = Data_set.sort_values(by=[Data_set.columns[j]], axis=0, ascending=True, ignore_index=True).iloc[:, j]\n",
    "\n",
    "        for i in range(0, len(Xj_sorted)-1):\n",
    "\n",
    "            s_values.append( (Xj_sorted[i] + Xj_sorted[i+1] ) / 2  )\n",
    "\n",
    "    \n",
    "    return s_values"
   ]
  },
  {
   "cell_type": "code",
   "execution_count": 11,
   "metadata": {},
   "outputs": [],
   "source": [
    "iterations_vector = range(1,4)"
   ]
  },
  {
   "cell_type": "code",
   "execution_count": 30,
   "metadata": {},
   "outputs": [],
   "source": [
    " ## ITERACION 1\n",
    "\n",
    "if iterations_vector[0] == 1 : # nacimiento del arbol\n",
    "\n",
    "        def RSS_1(j,s, Data_set):\n",
    "\n",
    "         # Data_set tiene que ser tal que, su columna 0 sea Y, y la j-esima sea la variable Xj , para j=1,...,p\n",
    "\n",
    "    ######################################\n",
    "\n",
    "            y_i_R1 = Data_set.loc[ Data_set.iloc[:, j] < s , 'Y' ] # y_i tal que x_ij < s\n",
    "\n",
    "            if len( Data_set.loc[ Data_set.iloc[:, j] < s , 'Y' ] ) == 0 :\n",
    "\n",
    "                y_R1 = 0\n",
    "\n",
    "            elif len( Data_set.loc[ Data_set.iloc[:, j] < s , 'Y' ] ) != 0 : \n",
    "\n",
    "                y_R1 = ( Data_set.loc[ Data_set.iloc[:, j] < s , 'Y' ]  ).sum() / len( Data_set.loc[ Data_set.iloc[:, j] < s , 'Y' ]  )  \n",
    "   \n",
    "\n",
    "            ###############\n",
    "\n",
    "            y_i_R2 = Data_set.loc[ Data_set.iloc[:, j] >= s , 'Y' ] # y_i tal que x_i1 >= 2\n",
    "\n",
    "\n",
    "            if len( Data_set.loc[ Data_set.iloc[:, j] >= s , 'Y' ] ) == 0 :\n",
    "\n",
    "                  y_R2 = 0\n",
    "\n",
    "            elif len( Data_set.loc[ Data_set.iloc[:, j] >= s , 'Y' ] ) != 0 : \n",
    "\n",
    "                  y_R2 = ( Data_set.loc[ Data_set.iloc[:, j] >= s , 'Y' ]  ).sum() / len( Data_set.loc[ Data_set.iloc[:, j] >= s , 'Y' ]  )  \n",
    "\n",
    "             ##############\n",
    "\n",
    "            RSS_11 = ( (y_i_R1 - y_R1 )**2 ).sum()\n",
    "\n",
    "            RSS_12 = ( (y_i_R2 - y_R2 )**2 ).sum()\n",
    "\n",
    "            RSS_1 = RSS_11 + RSS_12\n",
    "\n",
    "            ############\n",
    "\n",
    "            return(RSS_1)"
   ]
  },
  {
   "cell_type": "code",
   "execution_count": 31,
   "metadata": {},
   "outputs": [],
   "source": [
    "Data_set = Data"
   ]
  },
  {
   "cell_type": "code",
   "execution_count": 32,
   "metadata": {},
   "outputs": [],
   "source": [
    "## Busqueda de j_star y s_star de la iteracion 1\n",
    "\n",
    "RSS_vector = []\n",
    "j_vector = []\n",
    "s_vector = []\n",
    "\n",
    "s_star_vector = []\n",
    "j_star_vector = []\n",
    "\n",
    "for j in range(1, Data_set.shape[1]) :\n",
    "    for s in s_values(j, Data_set) :\n",
    "\n",
    "                RSS_vector.append( RSS_1(j, s, Data_set) )\n",
    "\n",
    "                j_vector.append( j )\n",
    "\n",
    "                s_vector.append( s )\n",
    "\n",
    "RSS_df = pd.DataFrame({'RSS':RSS_vector, 'j':j_vector, 's':s_vector})\n",
    "RSS_df_sorted = RSS_df.sort_values(by=['RSS'], axis=0, ascending=True, ignore_index=True)\n",
    "\n",
    "s_star_vector.append( RSS_df_sorted.loc[0, 's'] )\n",
    "j_star_vector.append( RSS_df_sorted.loc[0, 'j'] )"
   ]
  },
  {
   "cell_type": "code",
   "execution_count": 33,
   "metadata": {},
   "outputs": [
    {
     "data": {
      "text/html": [
       "<div>\n",
       "<style scoped>\n",
       "    .dataframe tbody tr th:only-of-type {\n",
       "        vertical-align: middle;\n",
       "    }\n",
       "\n",
       "    .dataframe tbody tr th {\n",
       "        vertical-align: top;\n",
       "    }\n",
       "\n",
       "    .dataframe thead th {\n",
       "        text-align: right;\n",
       "    }\n",
       "</style>\n",
       "<table border=\"1\" class=\"dataframe\">\n",
       "  <thead>\n",
       "    <tr style=\"text-align: right;\">\n",
       "      <th></th>\n",
       "      <th>RSS</th>\n",
       "      <th>j</th>\n",
       "      <th>s</th>\n",
       "    </tr>\n",
       "  </thead>\n",
       "  <tbody>\n",
       "    <tr>\n",
       "      <th>0</th>\n",
       "      <td>14585.364015</td>\n",
       "      <td>3</td>\n",
       "      <td>-4.039973</td>\n",
       "    </tr>\n",
       "    <tr>\n",
       "      <th>1</th>\n",
       "      <td>14753.390070</td>\n",
       "      <td>1</td>\n",
       "      <td>-58.196567</td>\n",
       "    </tr>\n",
       "    <tr>\n",
       "      <th>2</th>\n",
       "      <td>14787.479165</td>\n",
       "      <td>3</td>\n",
       "      <td>-4.757737</td>\n",
       "    </tr>\n",
       "    <tr>\n",
       "      <th>3</th>\n",
       "      <td>14817.206853</td>\n",
       "      <td>3</td>\n",
       "      <td>12.466949</td>\n",
       "    </tr>\n",
       "    <tr>\n",
       "      <th>4</th>\n",
       "      <td>14920.458798</td>\n",
       "      <td>1</td>\n",
       "      <td>44.740799</td>\n",
       "    </tr>\n",
       "    <tr>\n",
       "      <th>...</th>\n",
       "      <td>...</td>\n",
       "      <td>...</td>\n",
       "      <td>...</td>\n",
       "    </tr>\n",
       "    <tr>\n",
       "      <th>191</th>\n",
       "      <td>15920.741418</td>\n",
       "      <td>1</td>\n",
       "      <td>-31.392194</td>\n",
       "    </tr>\n",
       "    <tr>\n",
       "      <th>192</th>\n",
       "      <td>15920.882779</td>\n",
       "      <td>3</td>\n",
       "      <td>-53.410822</td>\n",
       "    </tr>\n",
       "    <tr>\n",
       "      <th>193</th>\n",
       "      <td>15920.913240</td>\n",
       "      <td>4</td>\n",
       "      <td>-15.334081</td>\n",
       "    </tr>\n",
       "    <tr>\n",
       "      <th>194</th>\n",
       "      <td>15920.953431</td>\n",
       "      <td>2</td>\n",
       "      <td>32.559104</td>\n",
       "    </tr>\n",
       "    <tr>\n",
       "      <th>195</th>\n",
       "      <td>15921.023276</td>\n",
       "      <td>2</td>\n",
       "      <td>42.206044</td>\n",
       "    </tr>\n",
       "  </tbody>\n",
       "</table>\n",
       "<p>196 rows × 3 columns</p>\n",
       "</div>"
      ],
      "text/plain": [
       "              RSS  j          s\n",
       "0    14585.364015  3  -4.039973\n",
       "1    14753.390070  1 -58.196567\n",
       "2    14787.479165  3  -4.757737\n",
       "3    14817.206853  3  12.466949\n",
       "4    14920.458798  1  44.740799\n",
       "..            ... ..        ...\n",
       "191  15920.741418  1 -31.392194\n",
       "192  15920.882779  3 -53.410822\n",
       "193  15920.913240  4 -15.334081\n",
       "194  15920.953431  2  32.559104\n",
       "195  15921.023276  2  42.206044\n",
       "\n",
       "[196 rows x 3 columns]"
      ]
     },
     "execution_count": 33,
     "metadata": {},
     "output_type": "execute_result"
    }
   ],
   "source": [
    "RSS_df_sorted"
   ]
  },
  {
   "cell_type": "code",
   "execution_count": 34,
   "metadata": {},
   "outputs": [
    {
     "data": {
      "text/plain": [
       "[3]"
      ]
     },
     "execution_count": 34,
     "metadata": {},
     "output_type": "execute_result"
    }
   ],
   "source": [
    "j_star_vector"
   ]
  },
  {
   "cell_type": "code",
   "execution_count": 35,
   "metadata": {},
   "outputs": [
    {
     "data": {
      "text/plain": [
       "[-4.0399734732289145]"
      ]
     },
     "execution_count": 35,
     "metadata": {},
     "output_type": "execute_result"
    }
   ],
   "source": [
    "s_star_vector"
   ]
  },
  {
   "cell_type": "code",
   "execution_count": 36,
   "metadata": {},
   "outputs": [],
   "source": [
    " ## ITERACION 2\n",
    "\n",
    "if iterations_vector[1] == 2 :  # Desarrollar nodo R1 de la 1ª iteracion\n",
    "\n",
    "        ################################################################\n",
    "\n",
    "        def RSS_2(j,s, Data_set):    # Desarrollar nodo R1 de la 1ª iteracion\n",
    "\n",
    "         # Data_set tiene que ser tal que, su columna 0 sea Y, y la j-esima sea la variable Xj , para j=1,...,p\n",
    "\n",
    "           ################\n",
    "\n",
    "            y_i_R1 = Data_set.loc[ (Data_set.iloc[:, j] < s) & (Data_set.iloc[:, j_star_vector[0]] < s_star_vector[0]) , 'Y' ]  \n",
    "\n",
    "            \n",
    "            if len( Data_set.loc[ (Data_set.iloc[:, j] < s) & (Data_set.iloc[:, j_star_vector[0]] < s_star_vector[0]) , 'Y' ] ) == 0 :\n",
    "\n",
    "                y_R1 = 0\n",
    "\n",
    "\n",
    "            elif len( Data_set.loc[ (Data_set.iloc[:, j] < s) & (Data_set.iloc[:, j_star_vector[0]] < s_star_vector[0]) , 'Y' ] ) != 0 : \n",
    "\n",
    "                y_R1 = ( Data_set.loc[ (Data_set.iloc[:, j] < s) & (Data_set.iloc[:, j_star_vector[0]] < s_star_vector[0]) , 'Y' ]  ).sum() / len( Data_set.loc[ (Data_set.iloc[:, j] < s) & (Data_set.iloc[:, j_star_vector[0]] < s_star_vector[0]) , 'Y' ]  )  \n",
    "   \n",
    "\n",
    "            ###############\n",
    "\n",
    "            y_i_R2 = Data_set.loc[ (Data_set.iloc[:, j] >= s) & (Data_set.iloc[:, j_star_vector[0]] < s_star_vector[0]) , 'Y' ]  \n",
    "\n",
    "\n",
    "            if len( Data_set.loc[ (Data_set.iloc[:, j] >= s) & (Data_set.iloc[:, j_star_vector[0]] < s_star_vector[0]) , 'Y' ] ) == 0 :\n",
    "\n",
    "                  y_R2 = 0\n",
    "\n",
    "                  \n",
    "\n",
    "            elif len( Data_set.loc[ (Data_set.iloc[:, j] >= s) & (Data_set.iloc[:, j_star_vector[0]] < s_star_vector[0]) , 'Y' ] ) != 0 : \n",
    "\n",
    "                  y_R2 = ( Data_set.loc[ (Data_set.iloc[:, j] >= s) & (Data_set.iloc[:, j_star_vector[0]] < s_star_vector[0]) , 'Y' ]  ).sum() / len( Data_set.loc[ (Data_set.iloc[:, j] >= s) & (Data_set.iloc[:, j_star_vector[0]] < s_star_vector[0]) , 'Y' ]  )  \n",
    "\n",
    "             ##############\n",
    "\n",
    "            RSS_21 = ( (y_i_R1 - y_R1 )**2 ).sum()\n",
    "\n",
    "            RSS_22 = ( (y_i_R2 - y_R2 )**2 ).sum()\n",
    "\n",
    "            RSS_2 = RSS_21 + RSS_22\n",
    "\n",
    "            ############\n",
    "\n",
    "            return(RSS_2)\n"
   ]
  },
  {
   "cell_type": "code",
   "execution_count": 37,
   "metadata": {},
   "outputs": [],
   "source": [
    "# Busqueda de j_star y s_star de la iteracion 2:\n",
    "\n",
    "RSS_vector = []\n",
    "j_vector = []\n",
    "s_vector = []\n",
    "\n",
    "\n",
    "for j in range(1, Data_set.shape[1]) :\n",
    "\n",
    "    for s in s_values(j, Data_set) :\n",
    "\n",
    "                RSS_vector.append( RSS_2(j, s, Data_set) )\n",
    "\n",
    "                j_vector.append( j )\n",
    "\n",
    "                s_vector.append( s )\n",
    "\n",
    "RSS_df = pd.DataFrame({'RSS':RSS_vector, 'j':j_vector, 's':s_vector})\n",
    "\n",
    "RSS_df_sorted = RSS_df.sort_values(by=['RSS'], axis=0, ascending=True, ignore_index=True)\n",
    "\n",
    "s_star_vector.append( RSS_df_sorted.loc[0, 's'] )\n",
    "j_star_vector.append( RSS_df_sorted.loc[0, 'j'] )"
   ]
  },
  {
   "cell_type": "code",
   "execution_count": 38,
   "metadata": {},
   "outputs": [
    {
     "data": {
      "text/html": [
       "<div>\n",
       "<style scoped>\n",
       "    .dataframe tbody tr th:only-of-type {\n",
       "        vertical-align: middle;\n",
       "    }\n",
       "\n",
       "    .dataframe tbody tr th {\n",
       "        vertical-align: top;\n",
       "    }\n",
       "\n",
       "    .dataframe thead th {\n",
       "        text-align: right;\n",
       "    }\n",
       "</style>\n",
       "<table border=\"1\" class=\"dataframe\">\n",
       "  <thead>\n",
       "    <tr style=\"text-align: right;\">\n",
       "      <th></th>\n",
       "      <th>RSS</th>\n",
       "      <th>j</th>\n",
       "      <th>s</th>\n",
       "    </tr>\n",
       "  </thead>\n",
       "  <tbody>\n",
       "    <tr>\n",
       "      <th>0</th>\n",
       "      <td>8833.262064</td>\n",
       "      <td>1</td>\n",
       "      <td>-58.196567</td>\n",
       "    </tr>\n",
       "    <tr>\n",
       "      <th>1</th>\n",
       "      <td>9035.060306</td>\n",
       "      <td>1</td>\n",
       "      <td>68.814488</td>\n",
       "    </tr>\n",
       "    <tr>\n",
       "      <th>2</th>\n",
       "      <td>9132.282919</td>\n",
       "      <td>1</td>\n",
       "      <td>44.740799</td>\n",
       "    </tr>\n",
       "    <tr>\n",
       "      <th>3</th>\n",
       "      <td>9141.005756</td>\n",
       "      <td>4</td>\n",
       "      <td>1.380684</td>\n",
       "    </tr>\n",
       "    <tr>\n",
       "      <th>4</th>\n",
       "      <td>9141.005756</td>\n",
       "      <td>4</td>\n",
       "      <td>2.728440</td>\n",
       "    </tr>\n",
       "    <tr>\n",
       "      <th>...</th>\n",
       "      <td>...</td>\n",
       "      <td>...</td>\n",
       "      <td>...</td>\n",
       "    </tr>\n",
       "    <tr>\n",
       "      <th>191</th>\n",
       "      <td>9811.194216</td>\n",
       "      <td>3</td>\n",
       "      <td>10.794578</td>\n",
       "    </tr>\n",
       "    <tr>\n",
       "      <th>192</th>\n",
       "      <td>9811.194216</td>\n",
       "      <td>3</td>\n",
       "      <td>11.412066</td>\n",
       "    </tr>\n",
       "    <tr>\n",
       "      <th>193</th>\n",
       "      <td>9811.194216</td>\n",
       "      <td>3</td>\n",
       "      <td>11.986390</td>\n",
       "    </tr>\n",
       "    <tr>\n",
       "      <th>194</th>\n",
       "      <td>9811.194216</td>\n",
       "      <td>3</td>\n",
       "      <td>-4.039973</td>\n",
       "    </tr>\n",
       "    <tr>\n",
       "      <th>195</th>\n",
       "      <td>9811.194216</td>\n",
       "      <td>1</td>\n",
       "      <td>-92.549236</td>\n",
       "    </tr>\n",
       "  </tbody>\n",
       "</table>\n",
       "<p>196 rows × 3 columns</p>\n",
       "</div>"
      ],
      "text/plain": [
       "             RSS  j          s\n",
       "0    8833.262064  1 -58.196567\n",
       "1    9035.060306  1  68.814488\n",
       "2    9132.282919  1  44.740799\n",
       "3    9141.005756  4   1.380684\n",
       "4    9141.005756  4   2.728440\n",
       "..           ... ..        ...\n",
       "191  9811.194216  3  10.794578\n",
       "192  9811.194216  3  11.412066\n",
       "193  9811.194216  3  11.986390\n",
       "194  9811.194216  3  -4.039973\n",
       "195  9811.194216  1 -92.549236\n",
       "\n",
       "[196 rows x 3 columns]"
      ]
     },
     "execution_count": 38,
     "metadata": {},
     "output_type": "execute_result"
    }
   ],
   "source": [
    "RSS_df_sorted"
   ]
  },
  {
   "cell_type": "markdown",
   "metadata": {},
   "source": []
  },
  {
   "cell_type": "code",
   "execution_count": 49,
   "metadata": {},
   "outputs": [],
   "source": [
    "import math"
   ]
  },
  {
   "cell_type": "code",
   "execution_count": 50,
   "metadata": {},
   "outputs": [],
   "source": [
    "## ITERACION 3\n",
    "\n",
    "if iterations_vector[2] == 3 :  # Desarrollar nodo R2 de la 1ª iteracion\n",
    "\n",
    "       #########################################\n",
    "\n",
    "        def RSS_3(j,s, Data_set):    # Desarrollar nodo R2 de la 1ª iteracion\n",
    "\n",
    "         # Data_set tiene que ser tal que, su columna 0 sea Y, y la j-esima sea la variable Xj , para j=1,...,p\n",
    "\n",
    "           ################\n",
    "\n",
    "           # Verificando si se cumplen las siguientes dos condiciones conjuntamente nos garantizamos que todas las ramas tienes observaciones de train. \n",
    "           # Es decir, no habra ninguna rama sin observaciones de train que caigan en ella.\n",
    "\n",
    "            cond1 = ( len( Data_set.loc[ (Data_set.iloc[:, j] < s) & (Data_set.iloc[:, j_star_vector[1]] >= s_star_vector[1]) , 'Y' ] ) != 0 )\n",
    "            cond2 = ( len( Data_set.loc[ (Data_set.iloc[:, j] >= s) & (Data_set.iloc[:, j_star_vector[1]] >= s_star_vector[1]) , 'Y' ] ) != 0 )\n",
    "              \n",
    "\n",
    "            if (cond1 == False) | (cond2 == False) :\n",
    "\n",
    "                RSS_3 = math.inf\n",
    "\n",
    "            elif  (cond1 == True) & (cond2 == True) : \n",
    "\n",
    "                y_i_R1 = Data_set.loc[ (Data_set.iloc[:, j] < s) & (Data_set.iloc[:, j_star_vector[1]] >= s_star_vector[1]) , 'Y' ]\n",
    "\n",
    "                y_R1 = ( Data_set.loc[ (Data_set.iloc[:, j] < s) & (Data_set.iloc[:, j_star_vector[1]] >= s_star_vector[1]) , 'Y' ]  ).sum() / len( Data_set.loc[ (Data_set.iloc[:, j] < s) & (Data_set.iloc[:, j_star_vector[0]] >= s_star_vector[0]) , 'Y' ]  )  \n",
    "   \n",
    "                y_i_R2 = Data_set.loc[ (Data_set.iloc[:, j] >= s) & (Data_set.iloc[:, j_star_vector[1]] >= s_star_vector[1]) , 'Y' ]  \n",
    "\n",
    "                y_R2 = ( Data_set.loc[ (Data_set.iloc[:, j] >= s) & (Data_set.iloc[:, j_star_vector[1]] >= s_star_vector[1]) , 'Y' ]  ).sum() / len( Data_set.loc[ (Data_set.iloc[:, j] >= s) & (Data_set.iloc[:, j_star_vector[0]] >= s_star_vector[0]) , 'Y' ]  )\n",
    "           \n",
    "                RSS_31 = ( (y_i_R1 - y_R1 )**2 ).sum()\n",
    "\n",
    "                RSS_32 = ( (y_i_R2 - y_R2 )**2 ).sum()\n",
    "\n",
    "                RSS_3 = RSS_31 + RSS_32\n",
    "            ###############\n",
    "\n",
    "            ############\n",
    "\n",
    "            return(RSS_3)\n"
   ]
  },
  {
   "cell_type": "code",
   "execution_count": 51,
   "metadata": {},
   "outputs": [
    {
     "name": "stderr",
     "output_type": "stream",
     "text": [
      "C:\\Users\\Usuario\\AppData\\Local\\Temp\\ipykernel_16460\\1569959207.py:29: RuntimeWarning: divide by zero encountered in double_scalars\n",
      "  y_R2 = ( Data_set.loc[ (Data_set.iloc[:, j] >= s) & (Data_set.iloc[:, j_star_vector[1]] >= s_star_vector[1]) , 'Y' ]  ).sum() / len( Data_set.loc[ (Data_set.iloc[:, j] >= s) & (Data_set.iloc[:, j_star_vector[0]] >= s_star_vector[0]) , 'Y' ]  )\n",
      "C:\\Users\\Usuario\\AppData\\Local\\Temp\\ipykernel_16460\\1569959207.py:25: RuntimeWarning: divide by zero encountered in double_scalars\n",
      "  y_R1 = ( Data_set.loc[ (Data_set.iloc[:, j] < s) & (Data_set.iloc[:, j_star_vector[1]] >= s_star_vector[1]) , 'Y' ]  ).sum() / len( Data_set.loc[ (Data_set.iloc[:, j] < s) & (Data_set.iloc[:, j_star_vector[0]] >= s_star_vector[0]) , 'Y' ]  )\n"
     ]
    }
   ],
   "source": [
    "\n",
    "       ###########################################\n",
    "\n",
    "      # Busqueda de j_star y s_star de la iteracion 3:\n",
    "\n",
    "RSS_vector = []\n",
    "j_vector = []\n",
    "s_vector = []\n",
    "\n",
    " \n",
    "\n",
    "for j in range(1, Data_set.shape[1]) :\n",
    "\n",
    "   for s in s_values(j, Data_set) :\n",
    "\n",
    "     RSS_vector.append( RSS_3(j, s, Data_set) )\n",
    "     j_vector.append( j )\n",
    "     s_vector.append( s )\n",
    "\n",
    "RSS_df = pd.DataFrame({'RSS':RSS_vector, 'j':j_vector, 's':s_vector})\n",
    "\n",
    "RSS_df_sorted = RSS_df.sort_values(by=['RSS'], axis=0, ascending=True, ignore_index=True)\n",
    "\n",
    "s_star_vector.append( RSS_df_sorted.loc[0, 's'] )\n",
    "j_star_vector.append( RSS_df_sorted.loc[0, 'j'] )\n"
   ]
  },
  {
   "cell_type": "code",
   "execution_count": 52,
   "metadata": {},
   "outputs": [
    {
     "data": {
      "text/html": [
       "<div>\n",
       "<style scoped>\n",
       "    .dataframe tbody tr th:only-of-type {\n",
       "        vertical-align: middle;\n",
       "    }\n",
       "\n",
       "    .dataframe tbody tr th {\n",
       "        vertical-align: top;\n",
       "    }\n",
       "\n",
       "    .dataframe thead th {\n",
       "        text-align: right;\n",
       "    }\n",
       "</style>\n",
       "<table border=\"1\" class=\"dataframe\">\n",
       "  <thead>\n",
       "    <tr style=\"text-align: right;\">\n",
       "      <th></th>\n",
       "      <th>RSS</th>\n",
       "      <th>j</th>\n",
       "      <th>s</th>\n",
       "    </tr>\n",
       "  </thead>\n",
       "  <tbody>\n",
       "    <tr>\n",
       "      <th>0</th>\n",
       "      <td>1.447910e+04</td>\n",
       "      <td>3</td>\n",
       "      <td>12.466949</td>\n",
       "    </tr>\n",
       "    <tr>\n",
       "      <th>1</th>\n",
       "      <td>1.495170e+04</td>\n",
       "      <td>1</td>\n",
       "      <td>-50.035400</td>\n",
       "    </tr>\n",
       "    <tr>\n",
       "      <th>2</th>\n",
       "      <td>1.550036e+04</td>\n",
       "      <td>1</td>\n",
       "      <td>-49.687934</td>\n",
       "    </tr>\n",
       "    <tr>\n",
       "      <th>3</th>\n",
       "      <td>1.585216e+04</td>\n",
       "      <td>1</td>\n",
       "      <td>-48.392293</td>\n",
       "    </tr>\n",
       "    <tr>\n",
       "      <th>4</th>\n",
       "      <td>1.602403e+04</td>\n",
       "      <td>4</td>\n",
       "      <td>25.624089</td>\n",
       "    </tr>\n",
       "    <tr>\n",
       "      <th>...</th>\n",
       "      <td>...</td>\n",
       "      <td>...</td>\n",
       "      <td>...</td>\n",
       "    </tr>\n",
       "    <tr>\n",
       "      <th>191</th>\n",
       "      <td>inf</td>\n",
       "      <td>3</td>\n",
       "      <td>-15.220646</td>\n",
       "    </tr>\n",
       "    <tr>\n",
       "      <th>192</th>\n",
       "      <td>inf</td>\n",
       "      <td>3</td>\n",
       "      <td>-15.353203</td>\n",
       "    </tr>\n",
       "    <tr>\n",
       "      <th>193</th>\n",
       "      <td>inf</td>\n",
       "      <td>3</td>\n",
       "      <td>-15.629168</td>\n",
       "    </tr>\n",
       "    <tr>\n",
       "      <th>194</th>\n",
       "      <td>inf</td>\n",
       "      <td>3</td>\n",
       "      <td>-18.094875</td>\n",
       "    </tr>\n",
       "    <tr>\n",
       "      <th>195</th>\n",
       "      <td>inf</td>\n",
       "      <td>4</td>\n",
       "      <td>52.661189</td>\n",
       "    </tr>\n",
       "  </tbody>\n",
       "</table>\n",
       "<p>196 rows × 3 columns</p>\n",
       "</div>"
      ],
      "text/plain": [
       "              RSS  j          s\n",
       "0    1.447910e+04  3  12.466949\n",
       "1    1.495170e+04  1 -50.035400\n",
       "2    1.550036e+04  1 -49.687934\n",
       "3    1.585216e+04  1 -48.392293\n",
       "4    1.602403e+04  4  25.624089\n",
       "..            ... ..        ...\n",
       "191           inf  3 -15.220646\n",
       "192           inf  3 -15.353203\n",
       "193           inf  3 -15.629168\n",
       "194           inf  3 -18.094875\n",
       "195           inf  4  52.661189\n",
       "\n",
       "[196 rows x 3 columns]"
      ]
     },
     "execution_count": 52,
     "metadata": {},
     "output_type": "execute_result"
    }
   ],
   "source": [
    "RSS_df_sorted"
   ]
  },
  {
   "cell_type": "code",
   "execution_count": 53,
   "metadata": {},
   "outputs": [
    {
     "data": {
      "text/plain": [
       "[3, 1, 3, 3]"
      ]
     },
     "execution_count": 53,
     "metadata": {},
     "output_type": "execute_result"
    }
   ],
   "source": [
    "j_star_vector"
   ]
  },
  {
   "cell_type": "code",
   "execution_count": 45,
   "metadata": {},
   "outputs": [
    {
     "data": {
      "text/plain": [
       "[-4.0399734732289145, -58.19656745289842, 12.466948590888492]"
      ]
     },
     "execution_count": 45,
     "metadata": {},
     "output_type": "execute_result"
    }
   ],
   "source": [
    "s_star_vector"
   ]
  },
  {
   "cell_type": "code",
   "execution_count": 54,
   "metadata": {},
   "outputs": [],
   "source": [
    "obs_rama_1 = len( Data_set.loc[ (Data_set.iloc[:, j_star_vector[0] ] < s_star_vector[0])  &  (Data_set.iloc[:, j_star_vector[1] ] < s_star_vector[1]) , : ] )\n",
    "obs_rama_2 = len( Data_set.loc[ (Data_set.iloc[:, j_star_vector[0] ] < s_star_vector[0])  &  (Data_set.iloc[:, j_star_vector[1] ] >= s_star_vector[1]) , :])\n",
    "obs_rama_3 = len( Data_set.loc[ (Data_set.iloc[:, j_star_vector[0] ] >= s_star_vector[0]) &  (Data_set.iloc[:, j_star_vector[2] ] < s_star_vector[2]) , :])\n",
    "obs_rama_4 = len( Data_set.loc[ (Data_set.iloc[:, j_star_vector[0] ] >= s_star_vector[0])  & (Data_set.iloc[:, j_star_vector[2] ] >= s_star_vector[2]) , :] )\n"
   ]
  },
  {
   "cell_type": "code",
   "execution_count": 55,
   "metadata": {},
   "outputs": [
    {
     "data": {
      "text/plain": [
       "4"
      ]
     },
     "execution_count": 55,
     "metadata": {},
     "output_type": "execute_result"
    }
   ],
   "source": [
    "obs_rama_1"
   ]
  },
  {
   "cell_type": "code",
   "execution_count": 56,
   "metadata": {},
   "outputs": [
    {
     "data": {
      "text/plain": [
       "37"
      ]
     },
     "execution_count": 56,
     "metadata": {},
     "output_type": "execute_result"
    }
   ],
   "source": [
    "obs_rama_2"
   ]
  },
  {
   "cell_type": "code",
   "execution_count": 57,
   "metadata": {},
   "outputs": [
    {
     "data": {
      "text/plain": [
       "8"
      ]
     },
     "execution_count": 57,
     "metadata": {},
     "output_type": "execute_result"
    }
   ],
   "source": [
    "obs_rama_3"
   ]
  },
  {
   "cell_type": "code",
   "execution_count": 58,
   "metadata": {},
   "outputs": [
    {
     "data": {
      "text/plain": [
       "1"
      ]
     },
     "execution_count": 58,
     "metadata": {},
     "output_type": "execute_result"
    }
   ],
   "source": [
    "obs_rama_4"
   ]
  }
 ],
 "metadata": {
  "kernelspec": {
   "display_name": "Python 3.10.0 64-bit",
   "language": "python",
   "name": "python3"
  },
  "language_info": {
   "codemirror_mode": {
    "name": "ipython",
    "version": 3
   },
   "file_extension": ".py",
   "mimetype": "text/x-python",
   "name": "python",
   "nbconvert_exporter": "python",
   "pygments_lexer": "ipython3",
   "version": "3.10.0"
  },
  "orig_nbformat": 4,
  "vscode": {
   "interpreter": {
    "hash": "c63d8c7d738c2960218a10995aedf0a7f67a49a231e71037adf0440953cdb45b"
   }
  }
 },
 "nbformat": 4,
 "nbformat_minor": 2
}
