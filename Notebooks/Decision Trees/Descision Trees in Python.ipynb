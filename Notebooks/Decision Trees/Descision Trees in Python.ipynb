{
 "cells": [
  {
   "cell_type": "markdown",
   "metadata": {},
   "source": [
    "Toy example: "
   ]
  },
  {
   "cell_type": "code",
   "execution_count": 1,
   "metadata": {},
   "outputs": [],
   "source": [
    "import pandas as pd"
   ]
  },
  {
   "cell_type": "code",
   "execution_count": 7,
   "metadata": {},
   "outputs": [],
   "source": [
    "Y = pd.Series([1, 2, 2.5, 1.2, 3, 6, 3.5, 2.4, 1.2, 1.5, 1.6, 4])\n",
    "X1 = pd.Series([-2, -2, -5, -3, -3, 7, 5, 4, -2, 1, 1, 2])\n",
    "X2 = pd.Series([41, 26, 32, 27, 31, 17, 30, 25, 20, 5, 8.6, 40])\n",
    "X3 = pd.Series([-1, 22, 22.5, 3.2, 4, 2, 5, 4, 2, 5, 6, 4])"
   ]
  },
  {
   "cell_type": "code",
   "execution_count": 8,
   "metadata": {},
   "outputs": [],
   "source": [
    "Data = pd.DataFrame({'Y':Y , 'X1':X1, 'X2':X2, 'X3':X3})"
   ]
  },
  {
   "cell_type": "code",
   "execution_count": 32,
   "metadata": {},
   "outputs": [
    {
     "data": {
      "text/html": [
       "<div>\n",
       "<style scoped>\n",
       "    .dataframe tbody tr th:only-of-type {\n",
       "        vertical-align: middle;\n",
       "    }\n",
       "\n",
       "    .dataframe tbody tr th {\n",
       "        vertical-align: top;\n",
       "    }\n",
       "\n",
       "    .dataframe thead th {\n",
       "        text-align: right;\n",
       "    }\n",
       "</style>\n",
       "<table border=\"1\" class=\"dataframe\">\n",
       "  <thead>\n",
       "    <tr style=\"text-align: right;\">\n",
       "      <th></th>\n",
       "      <th>Y</th>\n",
       "      <th>X1</th>\n",
       "      <th>X2</th>\n",
       "      <th>X3</th>\n",
       "    </tr>\n",
       "  </thead>\n",
       "  <tbody>\n",
       "    <tr>\n",
       "      <th>0</th>\n",
       "      <td>1.0</td>\n",
       "      <td>-2</td>\n",
       "      <td>41.0</td>\n",
       "      <td>-1.0</td>\n",
       "    </tr>\n",
       "    <tr>\n",
       "      <th>1</th>\n",
       "      <td>2.0</td>\n",
       "      <td>-2</td>\n",
       "      <td>26.0</td>\n",
       "      <td>22.0</td>\n",
       "    </tr>\n",
       "    <tr>\n",
       "      <th>2</th>\n",
       "      <td>2.5</td>\n",
       "      <td>-5</td>\n",
       "      <td>32.0</td>\n",
       "      <td>22.5</td>\n",
       "    </tr>\n",
       "    <tr>\n",
       "      <th>3</th>\n",
       "      <td>1.2</td>\n",
       "      <td>-3</td>\n",
       "      <td>27.0</td>\n",
       "      <td>3.2</td>\n",
       "    </tr>\n",
       "    <tr>\n",
       "      <th>4</th>\n",
       "      <td>3.0</td>\n",
       "      <td>-3</td>\n",
       "      <td>31.0</td>\n",
       "      <td>4.0</td>\n",
       "    </tr>\n",
       "    <tr>\n",
       "      <th>5</th>\n",
       "      <td>6.0</td>\n",
       "      <td>7</td>\n",
       "      <td>17.0</td>\n",
       "      <td>2.0</td>\n",
       "    </tr>\n",
       "    <tr>\n",
       "      <th>6</th>\n",
       "      <td>3.5</td>\n",
       "      <td>5</td>\n",
       "      <td>30.0</td>\n",
       "      <td>5.0</td>\n",
       "    </tr>\n",
       "    <tr>\n",
       "      <th>7</th>\n",
       "      <td>2.4</td>\n",
       "      <td>4</td>\n",
       "      <td>25.0</td>\n",
       "      <td>4.0</td>\n",
       "    </tr>\n",
       "    <tr>\n",
       "      <th>8</th>\n",
       "      <td>1.2</td>\n",
       "      <td>-2</td>\n",
       "      <td>20.0</td>\n",
       "      <td>2.0</td>\n",
       "    </tr>\n",
       "    <tr>\n",
       "      <th>9</th>\n",
       "      <td>1.5</td>\n",
       "      <td>1</td>\n",
       "      <td>5.0</td>\n",
       "      <td>5.0</td>\n",
       "    </tr>\n",
       "    <tr>\n",
       "      <th>10</th>\n",
       "      <td>1.6</td>\n",
       "      <td>1</td>\n",
       "      <td>8.6</td>\n",
       "      <td>6.0</td>\n",
       "    </tr>\n",
       "    <tr>\n",
       "      <th>11</th>\n",
       "      <td>4.0</td>\n",
       "      <td>2</td>\n",
       "      <td>40.0</td>\n",
       "      <td>4.0</td>\n",
       "    </tr>\n",
       "  </tbody>\n",
       "</table>\n",
       "</div>"
      ],
      "text/plain": [
       "      Y  X1    X2    X3\n",
       "0   1.0  -2  41.0  -1.0\n",
       "1   2.0  -2  26.0  22.0\n",
       "2   2.5  -5  32.0  22.5\n",
       "3   1.2  -3  27.0   3.2\n",
       "4   3.0  -3  31.0   4.0\n",
       "5   6.0   7  17.0   2.0\n",
       "6   3.5   5  30.0   5.0\n",
       "7   2.4   4  25.0   4.0\n",
       "8   1.2  -2  20.0   2.0\n",
       "9   1.5   1   5.0   5.0\n",
       "10  1.6   1   8.6   6.0\n",
       "11  4.0   2  40.0   4.0"
      ]
     },
     "execution_count": 32,
     "metadata": {},
     "output_type": "execute_result"
    }
   ],
   "source": [
    "Data"
   ]
  },
  {
   "cell_type": "markdown",
   "metadata": {},
   "source": []
  },
  {
   "cell_type": "markdown",
   "metadata": {},
   "source": []
  },
  {
   "cell_type": "code",
   "execution_count": 94,
   "metadata": {},
   "outputs": [],
   "source": [
    "iterations_vector = range(1, 10)"
   ]
  },
  {
   "cell_type": "code",
   "execution_count": 95,
   "metadata": {},
   "outputs": [
    {
     "data": {
      "text/plain": [
       "range(1, 10)"
      ]
     },
     "execution_count": 95,
     "metadata": {},
     "output_type": "execute_result"
    }
   ],
   "source": [
    "iterations_vector"
   ]
  },
  {
   "cell_type": "code",
   "execution_count": 98,
   "metadata": {},
   "outputs": [
    {
     "data": {
      "text/plain": [
       "9"
      ]
     },
     "execution_count": 98,
     "metadata": {},
     "output_type": "execute_result"
    }
   ],
   "source": [
    "iterations_vector[8]"
   ]
  },
  {
   "cell_type": "code",
   "execution_count": null,
   "metadata": {},
   "outputs": [],
   "source": [
    "def regression_tree(Data_set, iterations_vector):\n",
    "\n",
    "\n",
    "\n",
    "\n",
    "########################################################################\n",
    "    \n",
    "    def s_values(j, Data_set):\n",
    "\n",
    "        s_values = []\n",
    "\n",
    "        Xj_sorted = Data_set.sort_values(by=[Data_set.columns[j]], axis=0, ascending=True, ignore_index=True).iloc[:, j]\n",
    "\n",
    "        for i in range(0, len(Xj_sorted)-1):\n",
    "\n",
    "            s_values.append( (Xj_sorted[i] + Xj_sorted[i+1] ) / 2  )\n",
    "\n",
    "        return s_values\n",
    "\n",
    "\n",
    "########################################################################  \n",
    "\n",
    "   ## ITERACION 1\n",
    "\n",
    "    if iterations_vector[0] == 1 : # nacimiento del arbol\n",
    "\n",
    "        def RSS_1(j,s, Data_set):\n",
    "\n",
    "         # Data_set tiene que ser tal que, su columna 0 sea Y, y la j-esima sea la variable Xj , para j=1,...,p\n",
    "\n",
    "    ######################################\n",
    "\n",
    "            y_i_R1 = Data_set.loc[ Data_set.iloc[:, j] < s , 'Y' ] # y_i tal que x_i1 < 2\n",
    "\n",
    "            if len( Data_set.loc[ Data_set.iloc[:, j] < s , 'Y' ] ) == 0 :\n",
    "\n",
    "                y_R1 = 0\n",
    "\n",
    "            elif len( Data_set.loc[ Data_set.iloc[:, j] < s , 'Y' ] ) != 0 : \n",
    "\n",
    "                y_R1 = ( Data_set.loc[ Data_set.iloc[:, j] < s , 'Y' ]  ).sum() / len( Data_set.loc[ Data_set.iloc[:, j] < s , 'Y' ]  )  \n",
    "   \n",
    "\n",
    "            ###############\n",
    "\n",
    "            y_i_R2 = Data_set.loc[ Data_set.iloc[:, j] >= s , 'Y' ] # y_i tal que x_i1 >= 2\n",
    "\n",
    "\n",
    "            if len( Data_set.loc[ Data_set.iloc[:, j] >= s , 'Y' ] ) == 0 :\n",
    "\n",
    "                  y_R2 = 0\n",
    "\n",
    "            elif len( Data_set.loc[ Data_set.iloc[:, j] >= s , 'Y' ] ) != 0 : \n",
    "\n",
    "                  y_R2 = ( Data_set.loc[ Data_set.iloc[:, j] >= s , 'Y' ]  ).sum() / len( Data_set.loc[ Data_set.iloc[:, j] >= s , 'Y' ]  )  \n",
    "\n",
    "             ##############\n",
    "\n",
    "            RSS_11 = ( (y_i_R1 - y_R1 )**2 ).sum()\n",
    "\n",
    "            RSS_12 = ( (y_i_R2 - y_R2 )**2 ).sum()\n",
    "\n",
    "            RSS_1 = RSS_11 + RSS_12\n",
    "\n",
    "            ############\n",
    "\n",
    "            return(RSS_1)\n",
    "    \n",
    "    ######################################################################################\n",
    "\n",
    "    ## ITERACION 2\n",
    "\n",
    "    if iteration_vector[1] == 2 :  # Desarrollar nodo R1 de la 1ª iteracion\n",
    "\n",
    "\n",
    "        ## Busqueda de j_star y s_star de la iteracion 1\n",
    "\n",
    "        RSS_vector = []\n",
    "        j_vector = []\n",
    "        s_vector = []\n",
    "\n",
    "        s_star_vector = []\n",
    "        j_star_vector = []\n",
    "\n",
    "        for j in range(1, Data.shape[1]) :\n",
    "\n",
    "            for s in s_values(j, Data) :\n",
    "\n",
    "                RSS_vector.append( RSS_1(j, s, Data, 1) )\n",
    "\n",
    "                j_vector.append( j )\n",
    "\n",
    "                s_vector.append( s )\n",
    "\n",
    "                RSS_df = pd.DataFrame({'RSS':RSS_vector, 'j':j_vector, 's':s_vector})\n",
    "\n",
    "                RSS_df.sort_values(by=['RSS'], axis=0, ascending=True, ignore_index=True)\n",
    "\n",
    "                s_star_vector.append( RSS_df.sort_values(by=['RSS'], axis=0, ascending=True, ignore_index=True).loc[0, 's'] )\n",
    "                j_star_vector.append( RSS_df.sort_values(by=['RSS'], axis=0, ascending=True, ignore_index=True).loc[0, 'j'] )\n",
    "\n",
    "                # OJO: s_star_vector[i] sera el s_star de la iteracion i+1 , para i=0,1,...\n",
    "                # OJO: j_star_vector[i] sera el j_star de la iteracion i+1 , para i=0,1,...\n",
    "\n",
    "\n",
    "        ################################################################\n",
    "\n",
    "        def RSS_2(j,s, Data_set):    # Desarrollar nodo R1 de la 1ª iteracion\n",
    "\n",
    "         # Data_set tiene que ser tal que, su columna 0 sea Y, y la j-esima sea la variable Xj , para j=1,...,p\n",
    "\n",
    "           ################\n",
    "\n",
    "            y_i_R1 = Data_set.loc[ (Data_set.iloc[:, j] < s) & (Data_set.iloc[:, j_star_vector[0]] < s_star_vector[0]) , 'Y' ]  \n",
    "\n",
    "            if len( Data_set.loc[ (Data_set.iloc[:, j] < s) & (Data_set.iloc[:, j_star_vector[0]] < s_star_vector[0]) , 'Y' ] ) == 0 :\n",
    "\n",
    "                y_R1 = 0\n",
    "\n",
    "            elif len( Data_set.loc[ (Data_set.iloc[:, j] < s) & (Data_set.iloc[:, j_star_vector[0]] < s_star_vector[0]) , 'Y' ] ) != 0 : \n",
    "\n",
    "                y_R1 = ( Data_set.loc[ (Data_set.iloc[:, j] < s) & (Data_set.iloc[:, j_star_vector[0]] < s_star_vector[0]) , 'Y' ]  ).sum() / len( Data_set.loc[ (Data_set.iloc[:, j] < s) & (Data_set.iloc[:, j_star_vector[0]] < s_star_vector[0]) , 'Y' ]  )  \n",
    "   \n",
    "\n",
    "            ###############\n",
    "\n",
    "            y_i_R2 = Data_set.loc[ (Data_set.iloc[:, j] >= s) & (Data_set.iloc[:, j_star_vector[0]] < s_star_vector[0]) , 'Y' ]  \n",
    "\n",
    "\n",
    "            if len( Data_set.loc[ (Data_set.iloc[:, j] >= s) & (Data_set.iloc[:, j_star_vector[0]] < s_star_vector[0]) , 'Y' ] ) == 0 :\n",
    "\n",
    "                  y_R2 = 0\n",
    "\n",
    "            elif len( Data_set.loc[ (Data_set.iloc[:, j] >= s) & (Data_set.iloc[:, j_star_vector[0]] < s_star_vector[0]) , 'Y' ] ) != 0 : \n",
    "\n",
    "                  y_R2 = ( Data_set.loc[ (Data_set.iloc[:, j] >= s) & (Data_set.iloc[:, j_star_vector[0]] < s_star_vector[0]) , 'Y' ]  )  \n",
    "\n",
    "             ##############\n",
    "\n",
    "            RSS_21 = ( (y_i_R1 - y_R1 )**2 ).sum()\n",
    "\n",
    "            RSS_22 = ( (y_i_R2 - y_R2 )**2 ).sum()\n",
    "\n",
    "            RSS_2 = RSS_21 + RSS_22\n",
    "\n",
    "            ############\n",
    "\n",
    "            return(RSS_2)\n",
    "\n",
    "####################################################################################\n",
    "\n",
    "  ## ITERACION 3\n",
    "\n",
    "    if iteration_vector[1] == 3 :  # Desarrollar nodo R2 de la 1ª iteracion\n",
    "\n",
    "        RSS_vector = []\n",
    "        j_vector = []\n",
    "        s_vector = []\n",
    "\n",
    "        s_star_vector = []\n",
    "        j_star_vector = []\n",
    "\n",
    "        for j in range(1, Data.shape[1]) :\n",
    "\n",
    "            for s in s_values(j, Data) :\n",
    "\n",
    "                RSS_vector.append( RSS_2(j, s, Data, 1) )\n",
    "\n",
    "                j_vector.append( j )\n",
    "\n",
    "                s_vector.append( s )\n",
    "\n",
    "                RSS_df = pd.DataFrame({'RSS':RSS_vector, 'j':j_vector, 's':s_vector})\n",
    "\n",
    "                RSS_df.sort_values(by=['RSS'], axis=0, ascending=True, ignore_index=True)\n",
    "\n",
    "                s_star_vector.append( RSS_df.sort_values(by=['RSS'], axis=0, ascending=True, ignore_index=True).loc[0, 's'] )\n",
    "                j_star_vector.append( RSS_df.sort_values(by=['RSS'], axis=0, ascending=True, ignore_index=True).loc[0, 'j'] )\n",
    "\n",
    "                # OJO: s_star_vector[i] sera el s_star de la iteracion i+1 , para i=0,1,...\n",
    "                # OJO: j_star_vector[i] sera el j_star de la iteracion i+1 , para i=0,1,...\n",
    "\n",
    "\n",
    "        def RSS_3(j,s, Data_set):    # Desarrollar nodo R2 de la 1ª iteracion\n",
    "\n",
    "         # Data_set tiene que ser tal que, su columna 0 sea Y, y la j-esima sea la variable Xj , para j=1,...,p\n",
    "\n",
    "           ################\n",
    "\n",
    "            y_i_R1 = Data_set.loc[ (Data_set.iloc[:, j] < s) & (Data_set.iloc[:, j_star_vector[0]] >= s_star_vector[0]) , 'Y' ]  \n",
    "\n",
    "            if len( Data_set.loc[ (Data_set.iloc[:, j] < s) & (Data_set.iloc[:, j_star_vector[0]] >= s_star_vector[0]) , 'Y' ] ) == 0 :\n",
    "\n",
    "                y_R1 = 0\n",
    "\n",
    "            elif len( Data_set.loc[ (Data_set.iloc[:, j] < s) & (Data_set.iloc[:, j_star_vector[1]] >= s_star_vector[1]) , 'Y' ] ) != 0 : \n",
    "\n",
    "                y_R1 = ( Data_set.loc[ (Data_set.iloc[:, j] < s) & (Data_set.iloc[:, j_star_vector[1]] >= s_star_vector[1]) , 'Y' ]  ).sum() / len( Data_set.loc[ (Data_set.iloc[:, j] < s) & (Data_set.iloc[:, j_star_vector[0]] >= s_star_vector[0]) , 'Y' ]  )  \n",
    "   \n",
    "\n",
    "            ###############\n",
    "\n",
    "            y_i_R2 = Data_set.loc[ (Data_set.iloc[:, j] >= s) & (Data_set.iloc[:, j_star_vector[1]] >= s_star_vector[1]) , 'Y' ]  \n",
    "\n",
    "\n",
    "            if len( Data_set.loc[ (Data_set.iloc[:, j] >= s) & (Data_set.iloc[:, j_star_vector[1]] >= s_star_vector[1]) , 'Y' ] ) == 0 :\n",
    "\n",
    "                  y_R2 = 0\n",
    "\n",
    "            elif len( Data_set.loc[ (Data_set.iloc[:, j] >= s) & (Data_set.iloc[:, j_star_vector[1]] >= s_star_vector[1]) , 'Y' ] ) != 0 : \n",
    "\n",
    "                  y_R2 = ( Data_set.loc[ (Data_set.iloc[:, j] >= s) & (Data_set.iloc[:, j_star_vector[1]] >= s_star_vector[1]) , 'Y' ]  )  \n",
    "\n",
    "             ##############\n",
    "\n",
    "            RSS_31 = ( (y_i_R1 - y_R1 )**2 ).sum()\n",
    "\n",
    "            RSS_32 = ( (y_i_R2 - y_R2 )**2 ).sum()\n",
    "\n",
    "            RSS_3 = RSS_31 + RSS_32\n",
    "\n",
    "            ############\n",
    "\n",
    "            return(RSS_3)\n",
    "\n"
   ]
  },
  {
   "cell_type": "code",
   "execution_count": 105,
   "metadata": {},
   "outputs": [
    {
     "data": {
      "text/html": [
       "<div>\n",
       "<style scoped>\n",
       "    .dataframe tbody tr th:only-of-type {\n",
       "        vertical-align: middle;\n",
       "    }\n",
       "\n",
       "    .dataframe tbody tr th {\n",
       "        vertical-align: top;\n",
       "    }\n",
       "\n",
       "    .dataframe thead th {\n",
       "        text-align: right;\n",
       "    }\n",
       "</style>\n",
       "<table border=\"1\" class=\"dataframe\">\n",
       "  <thead>\n",
       "    <tr style=\"text-align: right;\">\n",
       "      <th></th>\n",
       "      <th>Y</th>\n",
       "      <th>X1</th>\n",
       "      <th>X2</th>\n",
       "      <th>X3</th>\n",
       "    </tr>\n",
       "  </thead>\n",
       "  <tbody>\n",
       "    <tr>\n",
       "      <th>0</th>\n",
       "      <td>1.0</td>\n",
       "      <td>-2</td>\n",
       "      <td>41.0</td>\n",
       "      <td>-1.0</td>\n",
       "    </tr>\n",
       "    <tr>\n",
       "      <th>1</th>\n",
       "      <td>2.0</td>\n",
       "      <td>-2</td>\n",
       "      <td>26.0</td>\n",
       "      <td>22.0</td>\n",
       "    </tr>\n",
       "    <tr>\n",
       "      <th>2</th>\n",
       "      <td>2.5</td>\n",
       "      <td>-5</td>\n",
       "      <td>32.0</td>\n",
       "      <td>22.5</td>\n",
       "    </tr>\n",
       "    <tr>\n",
       "      <th>3</th>\n",
       "      <td>1.2</td>\n",
       "      <td>-3</td>\n",
       "      <td>27.0</td>\n",
       "      <td>3.2</td>\n",
       "    </tr>\n",
       "    <tr>\n",
       "      <th>4</th>\n",
       "      <td>3.0</td>\n",
       "      <td>-3</td>\n",
       "      <td>31.0</td>\n",
       "      <td>4.0</td>\n",
       "    </tr>\n",
       "    <tr>\n",
       "      <th>5</th>\n",
       "      <td>6.0</td>\n",
       "      <td>7</td>\n",
       "      <td>17.0</td>\n",
       "      <td>2.0</td>\n",
       "    </tr>\n",
       "    <tr>\n",
       "      <th>6</th>\n",
       "      <td>3.5</td>\n",
       "      <td>5</td>\n",
       "      <td>30.0</td>\n",
       "      <td>5.0</td>\n",
       "    </tr>\n",
       "    <tr>\n",
       "      <th>7</th>\n",
       "      <td>2.4</td>\n",
       "      <td>4</td>\n",
       "      <td>25.0</td>\n",
       "      <td>4.0</td>\n",
       "    </tr>\n",
       "    <tr>\n",
       "      <th>8</th>\n",
       "      <td>1.2</td>\n",
       "      <td>-2</td>\n",
       "      <td>20.0</td>\n",
       "      <td>2.0</td>\n",
       "    </tr>\n",
       "    <tr>\n",
       "      <th>9</th>\n",
       "      <td>1.5</td>\n",
       "      <td>1</td>\n",
       "      <td>5.0</td>\n",
       "      <td>5.0</td>\n",
       "    </tr>\n",
       "    <tr>\n",
       "      <th>10</th>\n",
       "      <td>1.6</td>\n",
       "      <td>1</td>\n",
       "      <td>8.6</td>\n",
       "      <td>6.0</td>\n",
       "    </tr>\n",
       "    <tr>\n",
       "      <th>11</th>\n",
       "      <td>4.0</td>\n",
       "      <td>2</td>\n",
       "      <td>40.0</td>\n",
       "      <td>4.0</td>\n",
       "    </tr>\n",
       "  </tbody>\n",
       "</table>\n",
       "</div>"
      ],
      "text/plain": [
       "      Y  X1    X2    X3\n",
       "0   1.0  -2  41.0  -1.0\n",
       "1   2.0  -2  26.0  22.0\n",
       "2   2.5  -5  32.0  22.5\n",
       "3   1.2  -3  27.0   3.2\n",
       "4   3.0  -3  31.0   4.0\n",
       "5   6.0   7  17.0   2.0\n",
       "6   3.5   5  30.0   5.0\n",
       "7   2.4   4  25.0   4.0\n",
       "8   1.2  -2  20.0   2.0\n",
       "9   1.5   1   5.0   5.0\n",
       "10  1.6   1   8.6   6.0\n",
       "11  4.0   2  40.0   4.0"
      ]
     },
     "execution_count": 105,
     "metadata": {},
     "output_type": "execute_result"
    }
   ],
   "source": [
    "Data"
   ]
  },
  {
   "cell_type": "code",
   "execution_count": 104,
   "metadata": {},
   "outputs": [
    {
     "data": {
      "text/plain": [
       "0    1.0\n",
       "3    1.2\n",
       "4    3.0\n",
       "8    1.2\n",
       "9    1.5\n",
       "Name: Y, dtype: float64"
      ]
     },
     "execution_count": 104,
     "metadata": {},
     "output_type": "execute_result"
    }
   ],
   "source": [
    "Data.loc[ (Data.iloc[:, 1] < 2) & (Data.iloc[:, 3] < 6) , 'Y' ]"
   ]
  },
  {
   "cell_type": "markdown",
   "metadata": {},
   "source": []
  },
  {
   "cell_type": "markdown",
   "metadata": {},
   "source": []
  },
  {
   "cell_type": "markdown",
   "metadata": {},
   "source": [
    "Calcular RSS_1(j,s) para cualquier j y s"
   ]
  },
  {
   "cell_type": "code",
   "execution_count": 69,
   "metadata": {},
   "outputs": [],
   "source": [
    "def RSS(j,s, Data_set, iteration):\n",
    "\n",
    "    # Data_set tiene que ser tal que, su columna 0 sea Y, y la j-esima sea la variable Xj , para j=1,...,p\n",
    "\n",
    "\n",
    "    if iteration == 1 :\n",
    "\n",
    "        y_i_R1 = Data_set.loc[ Data_set.iloc[:, j] < s , 'Y' ] # y_i tal que x_i1 < 2\n",
    "\n",
    "        if len( Data_set.loc[ Data_set.iloc[:, j] < s , 'Y' ] ) == 0 :\n",
    "\n",
    "            y_R1 = 0\n",
    "\n",
    "        elif len( Data_set.loc[ Data_set.iloc[:, j] < s , 'Y' ] ) != 0 : \n",
    "\n",
    "            y_R1 = ( Data_set.loc[ Data_set.iloc[:, j] < s , 'Y' ]  ).sum() / len( Data_set.loc[ Data_set.iloc[:, j] < s , 'Y' ]  )  \n",
    " \n",
    "\n",
    "    ###############\n",
    "\n",
    "        y_i_R2 = Data_set.loc[ Data_set.iloc[:, j] >= s , 'Y' ] # y_i tal que x_i1 >= 2\n",
    "\n",
    "\n",
    "        if len( Data_set.loc[ Data_set.iloc[:, j] >= s , 'Y' ] ) == 0 :\n",
    "\n",
    "              y_R2 = 0\n",
    "\n",
    "        elif len( Data_set.loc[ Data_set.iloc[:, j] >= s , 'Y' ] ) != 0 : \n",
    "\n",
    "              y_R2 = ( Data_set.loc[ Data_set.iloc[:, j] >= s , 'Y' ]  ).sum() / len( Data_set.loc[ Data_set.iloc[:, j] >= s , 'Y' ]  )  \n",
    "\n",
    "    ##############\n",
    "\n",
    "        RSS_11 = ( (y_i_R1 - y_R1 )**2 ).sum()\n",
    "\n",
    "        RSS_12 = ( (y_i_R2 - y_R2 )**2 ).sum()\n",
    "\n",
    "        RSS_1 = RSS_11 + RSS_12\n",
    "\n",
    "    ############\n",
    "\n",
    "        return(RSS_1)\n",
    "    \n",
    "    ###################\n",
    "\n",
    "    if (iteration==2):\n",
    "\n",
    "        s_star_iter_1 = RSS_df.sort_values(by=['RSS'], axis=0, ascending=True, ignore_index=True).loc[0, 's']\n",
    "        j_star_iter_1 = RSS_df.sort_values(by=['RSS'], axis=0, ascending=True, ignore_index=True).loc[0, 'j']\n",
    "\n",
    "        y_i_R1 = Data_set.loc[ (Data_set.iloc[:, j] < s) & (Data_set.iloc[:, j_star_vector[0] ] < s_star_vector[0]) , 'Y' ]  \n",
    "\n"
   ]
  },
  {
   "cell_type": "code",
   "execution_count": 70,
   "metadata": {},
   "outputs": [
    {
     "data": {
      "text/plain": [
       "21.02181818181818"
      ]
     },
     "execution_count": 70,
     "metadata": {},
     "output_type": "execute_result"
    }
   ],
   "source": [
    "RSS(3 , 2, Data, 1)"
   ]
  },
  {
   "cell_type": "markdown",
   "metadata": {},
   "source": [
    "Calcular valores posibles de s para un j dado"
   ]
  },
  {
   "cell_type": "code",
   "execution_count": 61,
   "metadata": {},
   "outputs": [],
   "source": [
    "def s_values(j, Data_set):\n",
    "\n",
    "    s_values = []\n",
    "\n",
    "    Xj_sorted = Data_set.sort_values(by=[Data_set.columns[j]], axis=0, ascending=True, ignore_index=True).iloc[:, j]\n",
    "\n",
    "    for i in range(0, len(Xj_sorted)-1):\n",
    "\n",
    "        s_values.append( (Xj_sorted[i] + Xj_sorted[i+1] ) / 2  )\n",
    "\n",
    "    return s_values\n"
   ]
  },
  {
   "cell_type": "code",
   "execution_count": 62,
   "metadata": {},
   "outputs": [
    {
     "data": {
      "text/plain": [
       "[-4.0, -3.0, -2.5, -2.0, -2.0, -0.5, 1.0, 1.5, 3.0, 4.5, 6.0]"
      ]
     },
     "execution_count": 62,
     "metadata": {},
     "output_type": "execute_result"
    }
   ],
   "source": [
    "s_values(j=1, Data_set=Data)"
   ]
  },
  {
   "cell_type": "code",
   "execution_count": 80,
   "metadata": {},
   "outputs": [
    {
     "data": {
      "text/plain": [
       "11"
      ]
     },
     "execution_count": 80,
     "metadata": {},
     "output_type": "execute_result"
    }
   ],
   "source": [
    "len(s_values(j=1, Data_set=Data))"
   ]
  },
  {
   "cell_type": "code",
   "execution_count": 73,
   "metadata": {},
   "outputs": [
    {
     "data": {
      "text/plain": [
       "[6.8, 12.8, 18.5, 22.5, 25.5, 26.5, 28.5, 30.5, 31.5, 36.0, 40.5]"
      ]
     },
     "execution_count": 73,
     "metadata": {},
     "output_type": "execute_result"
    }
   ],
   "source": [
    "s_values(j=2, Data_set=Data)"
   ]
  },
  {
   "cell_type": "code",
   "execution_count": 79,
   "metadata": {},
   "outputs": [
    {
     "data": {
      "text/plain": [
       "[0.5, 2.0, 2.6, 3.6, 4.0, 4.0, 4.5, 5.0, 5.5, 14.0, 22.25]"
      ]
     },
     "execution_count": 79,
     "metadata": {},
     "output_type": "execute_result"
    }
   ],
   "source": [
    "s_values(j=3, Data_set=Data)"
   ]
  },
  {
   "cell_type": "markdown",
   "metadata": {},
   "source": []
  },
  {
   "cell_type": "code",
   "execution_count": 88,
   "metadata": {},
   "outputs": [],
   "source": [
    "RSS_vector = []\n",
    "j_vector = []\n",
    "s_vector = []\n",
    "\n",
    "for j in range(1, Data.shape[1]):\n",
    "\n",
    "    for s in s_values(j, Data) :\n",
    "\n",
    "        RSS_vector.append( RSS(j, s, Data, 1) )\n",
    "\n",
    "        j_vector.append( j )\n",
    "\n",
    "        s_vector.append( s )\n",
    "\n",
    "RSS_df = pd.DataFrame({'RSS':RSS_vector, 'j':j_vector, 's':s_vector})\n",
    "\n",
    "RSS_df.sort_values(by=['RSS'], axis=0, ascending=True, ignore_index=True)"
   ]
  },
  {
   "cell_type": "code",
   "execution_count": 102,
   "metadata": {},
   "outputs": [
    {
     "data": {
      "text/plain": [
       "23.44909090909091"
      ]
     },
     "execution_count": 102,
     "metadata": {},
     "output_type": "execute_result"
    }
   ],
   "source": [
    "RSS_vector[0]"
   ]
  },
  {
   "cell_type": "code",
   "execution_count": 93,
   "metadata": {},
   "outputs": [
    {
     "data": {
      "text/plain": [
       "6.0"
      ]
     },
     "execution_count": 93,
     "metadata": {},
     "output_type": "execute_result"
    }
   ],
   "source": []
  },
  {
   "cell_type": "markdown",
   "metadata": {},
   "source": [
    "j^* = 1 , s^* = 6"
   ]
  },
  {
   "cell_type": "markdown",
   "metadata": {},
   "source": []
  },
  {
   "cell_type": "code",
   "execution_count": null,
   "metadata": {},
   "outputs": [],
   "source": []
  }
 ],
 "metadata": {
  "kernelspec": {
   "display_name": "Python 3.10.0 64-bit",
   "language": "python",
   "name": "python3"
  },
  "language_info": {
   "codemirror_mode": {
    "name": "ipython",
    "version": 3
   },
   "file_extension": ".py",
   "mimetype": "text/x-python",
   "name": "python",
   "nbconvert_exporter": "python",
   "pygments_lexer": "ipython3",
   "version": "3.10.0"
  },
  "orig_nbformat": 4,
  "vscode": {
   "interpreter": {
    "hash": "c63d8c7d738c2960218a10995aedf0a7f67a49a231e71037adf0440953cdb45b"
   }
  }
 },
 "nbformat": 4,
 "nbformat_minor": 2
}
