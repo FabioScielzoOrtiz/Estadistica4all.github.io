{
 "cells": [
  {
   "cell_type": "markdown",
   "metadata": {},
   "source": [
    "# Cross Validation in `Python`"
   ]
  },
  {
   "cell_type": "code",
   "execution_count": 24,
   "metadata": {},
   "outputs": [],
   "source": [
    "import pandas as pd\n",
    "import numpy as np\n",
    "import math"
   ]
  },
  {
   "cell_type": "code",
   "execution_count": 46,
   "metadata": {},
   "outputs": [],
   "source": [
    "import sklearn\n",
    "\n",
    "from sklearn.neighbors import NearestNeighbors"
   ]
  },
  {
   "cell_type": "code",
   "execution_count": 25,
   "metadata": {},
   "outputs": [
    {
     "data": {
      "text/html": [
       "<div>\n",
       "<style scoped>\n",
       "    .dataframe tbody tr th:only-of-type {\n",
       "        vertical-align: middle;\n",
       "    }\n",
       "\n",
       "    .dataframe tbody tr th {\n",
       "        vertical-align: top;\n",
       "    }\n",
       "\n",
       "    .dataframe thead th {\n",
       "        text-align: right;\n",
       "    }\n",
       "</style>\n",
       "<table border=\"1\" class=\"dataframe\">\n",
       "  <thead>\n",
       "    <tr style=\"text-align: right;\">\n",
       "      <th></th>\n",
       "      <th>latitude</th>\n",
       "      <th>longitude</th>\n",
       "      <th>price</th>\n",
       "      <th>size_in_m_2</th>\n",
       "      <th>balcony_recode</th>\n",
       "      <th>private_garden_recode</th>\n",
       "      <th>quality_recode</th>\n",
       "    </tr>\n",
       "  </thead>\n",
       "  <tbody>\n",
       "    <tr>\n",
       "      <th>0</th>\n",
       "      <td>25.113208</td>\n",
       "      <td>55.138932</td>\n",
       "      <td>2700000</td>\n",
       "      <td>100.242337</td>\n",
       "      <td>1.0</td>\n",
       "      <td>0.0</td>\n",
       "      <td>2.0</td>\n",
       "    </tr>\n",
       "    <tr>\n",
       "      <th>1</th>\n",
       "      <td>25.106809</td>\n",
       "      <td>55.151201</td>\n",
       "      <td>2850000</td>\n",
       "      <td>146.972546</td>\n",
       "      <td>1.0</td>\n",
       "      <td>0.0</td>\n",
       "      <td>2.0</td>\n",
       "    </tr>\n",
       "    <tr>\n",
       "      <th>2</th>\n",
       "      <td>25.063302</td>\n",
       "      <td>55.137728</td>\n",
       "      <td>1150000</td>\n",
       "      <td>181.253753</td>\n",
       "      <td>1.0</td>\n",
       "      <td>0.0</td>\n",
       "      <td>2.0</td>\n",
       "    </tr>\n",
       "    <tr>\n",
       "      <th>3</th>\n",
       "      <td>25.227295</td>\n",
       "      <td>55.341761</td>\n",
       "      <td>2850000</td>\n",
       "      <td>187.664060</td>\n",
       "      <td>1.0</td>\n",
       "      <td>0.0</td>\n",
       "      <td>1.0</td>\n",
       "    </tr>\n",
       "    <tr>\n",
       "      <th>4</th>\n",
       "      <td>25.114275</td>\n",
       "      <td>55.139764</td>\n",
       "      <td>1729200</td>\n",
       "      <td>47.101821</td>\n",
       "      <td>0.0</td>\n",
       "      <td>0.0</td>\n",
       "      <td>2.0</td>\n",
       "    </tr>\n",
       "  </tbody>\n",
       "</table>\n",
       "</div>"
      ],
      "text/plain": [
       "    latitude  longitude    price  size_in_m_2  balcony_recode  \\\n",
       "0  25.113208  55.138932  2700000   100.242337             1.0   \n",
       "1  25.106809  55.151201  2850000   146.972546             1.0   \n",
       "2  25.063302  55.137728  1150000   181.253753             1.0   \n",
       "3  25.227295  55.341761  2850000   187.664060             1.0   \n",
       "4  25.114275  55.139764  1729200    47.101821             0.0   \n",
       "\n",
       "   private_garden_recode  quality_recode  \n",
       "0                    0.0             2.0  \n",
       "1                    0.0             2.0  \n",
       "2                    0.0             2.0  \n",
       "3                    0.0             1.0  \n",
       "4                    0.0             2.0  "
      ]
     },
     "execution_count": 25,
     "metadata": {},
     "output_type": "execute_result"
    }
   ],
   "source": [
    "Data = pd.read_csv('House_Price_Regression.csv')\n",
    "\n",
    "Data = Data.loc[:, ['latitude', 'longitude', 'price', 'size_in_m_2', 'balcony_recode', 'private_garden_recode', 'quality_recode']]\n",
    "\n",
    "Data.head()"
   ]
  },
  {
   "attachments": {},
   "cell_type": "markdown",
   "metadata": {},
   "source": [
    "## Not random simple validation"
   ]
  },
  {
   "cell_type": "code",
   "execution_count": 68,
   "metadata": {},
   "outputs": [],
   "source": [
    "def simple_validation_not_random(D, k, response):\n",
    "\n",
    "    # D --> have to be a pandas data frame.\n",
    "\n",
    "    # k --> is the proportion of observation of D that define D_train.\n",
    "\n",
    "    # response --> have to be a string with the name of the response variable.\n",
    "\n",
    "    N = len(D)\n",
    "\n",
    "    D_train = D.iloc[0:(math.floor(k*N)+1) , :]\n",
    "\n",
    "    D_test = D.iloc[(math.floor(k*N)+1):N , :]\n",
    "\n",
    "    X_train = D_train.loc[: , D_train.columns != response]\n",
    "    Y_train = D_train.loc[: , response]\n",
    "\n",
    "    X_test = D_test.loc[: , D_test.columns != response]\n",
    "    Y_test = D_test.loc[: , response]\n",
    "\n",
    "############################################################################\n",
    "\n",
    "    knn_regression.fit(X_train, Y_train)\n",
    "\n",
    "    Y_predict_test = knn_regression.predict( X_test ) \n",
    "\n",
    "############################################################################\n",
    "\n",
    "    ECM_test = np.mean( (Y_predict_test - Y_test)**2 )\n",
    "\n",
    "############################################################################\n",
    "\n",
    "    return ECM_test"
   ]
  },
  {
   "cell_type": "code",
   "execution_count": 69,
   "metadata": {},
   "outputs": [
    {
     "data": {
      "text/plain": [
       "2198758842331.1843"
      ]
     },
     "execution_count": 69,
     "metadata": {},
     "output_type": "execute_result"
    }
   ],
   "source": [
    "simple_validation_not_random(D=Data, k=0.75, response='price')"
   ]
  },
  {
   "cell_type": "markdown",
   "metadata": {},
   "source": []
  },
  {
   "cell_type": "markdown",
   "metadata": {},
   "source": [
    "## Random simple validation"
   ]
  },
  {
   "cell_type": "code",
   "execution_count": 75,
   "metadata": {},
   "outputs": [],
   "source": [
    "def simple_validation_random(D, k, response, random_seed):\n",
    "\n",
    "    # D --> have to be a pandas data frame.\n",
    "\n",
    "    # k --> is the proportion of observation of D that define D_train.\n",
    "\n",
    "    # response --> have to be a string with the name of the response variable.\n",
    "\n",
    "    # random_seed --> seed to replicate the random process\n",
    "\n",
    "    N = len(D)\n",
    "\n",
    "    D_train = D.sample(frac=k, replace=False, random_state=random_seed)\n",
    "\n",
    "    D_test = D.drop( D_train.index , )\n",
    "\n",
    "    X_train = D_train.loc[: , D_train.columns != response]\n",
    "    Y_train = D_train.loc[: , response]\n",
    "\n",
    "    X_test = D_test.loc[: , D_test.columns != response]\n",
    "    Y_test = D_test.loc[: , response]\n",
    "\n",
    "############################################################################\n",
    "\n",
    "    knn_regression.fit(X_train, Y_train)\n",
    "\n",
    "    Y_predict_test = knn_regression.predict( X_test ) \n",
    "\n",
    "############################################################################\n",
    "\n",
    "    ECM_test = np.mean( (Y_predict_test - Y_test)**2 )\n",
    "\n",
    "############################################################################\n",
    "\n",
    "    return ECM_test"
   ]
  },
  {
   "cell_type": "code",
   "execution_count": 76,
   "metadata": {},
   "outputs": [
    {
     "data": {
      "text/plain": [
       "2505043526308.227"
      ]
     },
     "execution_count": 76,
     "metadata": {},
     "output_type": "execute_result"
    }
   ],
   "source": [
    "simple_validation_random(D=Data, k=0.75, response='price', random_seed=123)"
   ]
  },
  {
   "cell_type": "markdown",
   "metadata": {},
   "source": []
  },
  {
   "attachments": {},
   "cell_type": "markdown",
   "metadata": {},
   "source": [
    "## Repeted random simple validation"
   ]
  },
  {
   "cell_type": "code",
   "execution_count": 100,
   "metadata": {},
   "outputs": [],
   "source": [
    "def repeted_random_simple_validation(D, k, B, response, random_seed):\n",
    "\n",
    "    # D --> have to be a pandas data frame.\n",
    "\n",
    "    # k --> is the proportion of observation of D that define D_train.\n",
    "\n",
    "    # B --> number of replications of the random simple validation algorithm\n",
    "\n",
    "    # response --> have to be a string with the name of the response variable.\n",
    "\n",
    "    # random_seed --> seed to replicate the random process\n",
    "\n",
    "\n",
    "    np.random.seed(random_seed)\n",
    "\n",
    "    ECM_test_list = [ ]\n",
    "\n",
    "    seed_array = np.random.randint(999999999, size=(1000))\n",
    "\n",
    "    for b in range(0,B) :\n",
    "\n",
    "        ECM_test_list.append( simple_validation_random(D, k, response, random_seed=seed_array[b]) )\n",
    "\n",
    "\n",
    "    ECM_test = np.mean(ECM_test_list)    \n",
    "\n",
    "    return ECM_test , ECM_test_list"
   ]
  },
  {
   "cell_type": "code",
   "execution_count": 101,
   "metadata": {},
   "outputs": [],
   "source": [
    "ECM_test , ECM_test_list = repeted_random_simple_validation(D=Data, k=0.75, B=1000, response='price', random_seed=123)"
   ]
  },
  {
   "cell_type": "code",
   "execution_count": 103,
   "metadata": {},
   "outputs": [
    {
     "data": {
      "text/plain": [
       "2317146868016.2695"
      ]
     },
     "execution_count": 103,
     "metadata": {},
     "output_type": "execute_result"
    }
   ],
   "source": [
    "ECM_test"
   ]
  },
  {
   "cell_type": "markdown",
   "metadata": {},
   "source": []
  },
  {
   "attachments": {},
   "cell_type": "markdown",
   "metadata": {},
   "source": [
    "## K-folds"
   ]
  },
  {
   "cell_type": "code",
   "execution_count": null,
   "metadata": {},
   "outputs": [],
   "source": []
  },
  {
   "cell_type": "markdown",
   "metadata": {},
   "source": [
    "# Repeted K FOLDS CV\n"
   ]
  },
  {
   "cell_type": "code",
   "execution_count": null,
   "metadata": {},
   "outputs": [],
   "source": [
    "import pandas as pd\n",
    "import numpy as np\n"
   ]
  },
  {
   "cell_type": "code",
   "execution_count": null,
   "metadata": {},
   "outputs": [],
   "source": [
    "\n",
    "url = 'https://raw.githubusercontent.com/JWarmenhoven/ISLR-python/master/Notebooks/Data/Boston.csv'\n",
    "\n",
    "Boston = pd.read_csv(url)"
   ]
  },
  {
   "cell_type": "code",
   "execution_count": null,
   "metadata": {},
   "outputs": [],
   "source": [
    "url = 'https://raw.githubusercontent.com/FabioScielzoOrtiz/Estadistica4all-blog/main/Linear%20Regression%20in%20Python%20and%20R/properties_data.csv'\n",
    "\n",
    "House_Price = pd.read_csv(url)"
   ]
  },
  {
   "cell_type": "code",
   "execution_count": null,
   "metadata": {},
   "outputs": [],
   "source": [
    "def varcharProcessing(X, varchar_process = \"dummy_dropfirst\"):\n",
    "    \n",
    "    dtypes = X.dtypes\n",
    "\n",
    "    if varchar_process == \"drop\":   \n",
    "        X = X.drop(columns = dtypes[dtypes == np.object].index.tolist())\n",
    "\n",
    "    elif varchar_process == \"dummy\":\n",
    "        X = pd.get_dummies(X,drop_first=False)\n",
    "\n",
    "    elif varchar_process == \"dummy_dropfirst\":\n",
    "        X = pd.get_dummies(X,drop_first=True)\n",
    "\n",
    "    else: \n",
    "        X = pd.get_dummies(X,drop_first=True)\n",
    "    \n",
    "    X[\"intercept\"] = 1\n",
    "    cols = X.columns.tolist()\n",
    "    cols = cols[-1:] + cols[:-1]\n",
    "    X = X[cols]\n",
    "    \n",
    "    return X"
   ]
  },
  {
   "cell_type": "code",
   "execution_count": null,
   "metadata": {},
   "outputs": [],
   "source": [
    "House_Price = House_Price.loc[: , (House_Price.columns != 'neighborhood') &  (House_Price.columns != 'id') ]"
   ]
  },
  {
   "cell_type": "code",
   "execution_count": null,
   "metadata": {},
   "outputs": [],
   "source": [
    "House_Price = varcharProcessing(House_Price, varchar_process = \"dummy_dropfirst\")"
   ]
  },
  {
   "cell_type": "code",
   "execution_count": null,
   "metadata": {},
   "outputs": [
    {
     "data": {
      "text/plain": [
       "intercept                int64\n",
       "latitude               float64\n",
       "longitude              float64\n",
       "price                    int64\n",
       "size_in_sqft             int64\n",
       "price_per_sqft         float64\n",
       "no_of_bedrooms           int64\n",
       "no_of_bathrooms          int64\n",
       "maid_room                 bool\n",
       "unfurnished               bool\n",
       "balcony                   bool\n",
       "barbecue_area             bool\n",
       "built_in_wardrobes        bool\n",
       "central_ac                bool\n",
       "childrens_play_area       bool\n",
       "childrens_pool            bool\n",
       "concierge                 bool\n",
       "covered_parking           bool\n",
       "kitchen_appliances        bool\n",
       "lobby_in_building         bool\n",
       "maid_service              bool\n",
       "networked                 bool\n",
       "pets_allowed              bool\n",
       "private_garden            bool\n",
       "private_gym               bool\n",
       "private_jacuzzi           bool\n",
       "private_pool              bool\n",
       "security                  bool\n",
       "shared_gym                bool\n",
       "shared_pool               bool\n",
       "shared_spa                bool\n",
       "study                     bool\n",
       "vastu_compliant           bool\n",
       "view_of_landmark          bool\n",
       "view_of_water             bool\n",
       "walk_in_closet            bool\n",
       "quality_Low              uint8\n",
       "quality_Medium           uint8\n",
       "quality_Ultra            uint8\n",
       "dtype: object"
      ]
     },
     "execution_count": 8,
     "metadata": {},
     "output_type": "execute_result"
    }
   ],
   "source": [
    "House_Price.dtypes"
   ]
  },
  {
   "cell_type": "code",
   "execution_count": null,
   "metadata": {},
   "outputs": [],
   "source": [
    "import sklearn\n",
    "\n",
    "from sklearn.linear_model import LinearRegression"
   ]
  },
  {
   "cell_type": "code",
   "execution_count": null,
   "metadata": {},
   "outputs": [],
   "source": [
    "model = LinearRegression().fit(House_Price.loc[: , House_Price.columns != 'price' ], House_Price.loc[: , House_Price.columns == 'price' ])"
   ]
  },
  {
   "cell_type": "markdown",
   "metadata": {},
   "source": []
  },
  {
   "cell_type": "code",
   "execution_count": null,
   "metadata": {},
   "outputs": [],
   "source": [
    "from sklearn.linear_model import LinearRegression\n",
    "\n",
    "import math"
   ]
  },
  {
   "cell_type": "code",
   "execution_count": null,
   "metadata": {},
   "outputs": [],
   "source": [
    "def Repeted_K_Fold_CV( Data, response_name , K , n_iter ):\n",
    "\n",
    "\n",
    "    from sklearn.utils import resample\n",
    "\n",
    "    ECM_Repeted_K_Folds_vector = []\n",
    "\n",
    "    size_particiones_test = []\n",
    "\n",
    "\n",
    "    for iter in range(0, n_iter):\n",
    "\n",
    "        sample = resample(range(0, len(Data)), n_samples=len(Data), replace=False, random_state=iter)\n",
    "\n",
    "        df_sample = pd.DataFrame({'index': range(0,len(Data)) , 'sample':sample})\n",
    "\n",
    "        \n",
    "        Q = []\n",
    "\n",
    "        \n",
    "        for q in np.arange(0 , 1 + 1/K , 1/K):\n",
    "\n",
    "            Q.append( np.quantile( range(0, len(Data)) , q ).round(0) )\n",
    "\n",
    "\n",
    "\n",
    "        ECM_K_FOLDS_vector = []\n",
    "\n",
    "        for j in range(0, len(Q)-1):\n",
    "\n",
    "            X_test = Data.loc[df_sample.loc[Q[j]:(math.floor(Q[j+1])-1), 'sample'] , Data.columns != response_name ] \n",
    "            Y_test = Data.loc[df_sample.loc[Q[j]:(math.floor(Q[j+1])-1), 'sample'] , Data.columns == response_name ]\n",
    "\n",
    "            X_train = Data.loc[ : , Data.columns != response_name ].drop(df_sample.loc[Q[j]:(math.floor(Q[j+1])-1), 'sample'] )\n",
    "            Y_train = Data.loc[ : ,  Data.columns == response_name ].drop(df_sample.loc[Q[j]:(math.floor(Q[j+1])-1), 'sample'])\n",
    "\n",
    "            size_particiones_test.append( len(X_test) )\n",
    "            \n",
    "\n",
    "            Y_test = Y_test.to_numpy()\n",
    "\n",
    "            model = LinearRegression().fit(X_train, Y_train)\n",
    "\n",
    "            ECM_K_FOLDS_vector.append( (( model.predict(X_test) - Y_test )**2 ).sum() / len(Y_test) )\n",
    "\n",
    "    \n",
    "        ECM_Repeted_K_Folds_vector.append( np.array(ECM_K_FOLDS_vector).mean() )\n",
    "    \n",
    "    ECM_Repeted_K_Folds = np.array( ECM_Repeted_K_Folds_vector ).mean()\n",
    "    \n",
    "    return(ECM_Repeted_K_Folds_vector , ECM_Repeted_K_Folds, size_particiones_test)"
   ]
  },
  {
   "cell_type": "code",
   "execution_count": null,
   "metadata": {},
   "outputs": [],
   "source": [
    "ECM_Repeted_K_Folds_vector , ECM_Repeted_K_Folds, size_particiones_test = Repeted_K_Fold_CV( Data=House_Price , response_name='price' , K=10 , n_iter=50 )"
   ]
  },
  {
   "cell_type": "code",
   "execution_count": null,
   "metadata": {},
   "outputs": [
    {
     "data": {
      "text/plain": [
       "872856402907.0691"
      ]
     },
     "execution_count": 83,
     "metadata": {},
     "output_type": "execute_result"
    }
   ],
   "source": [
    "ECM_Repeted_K_Folds"
   ]
  },
  {
   "cell_type": "code",
   "execution_count": null,
   "metadata": {},
   "outputs": [
    {
     "data": {
      "text/plain": [
       "500"
      ]
     },
     "execution_count": 84,
     "metadata": {},
     "output_type": "execute_result"
    }
   ],
   "source": [
    "len(size_particiones_test)"
   ]
  },
  {
   "cell_type": "code",
   "execution_count": null,
   "metadata": {},
   "outputs": [
    {
     "data": {
      "text/plain": [
       "[191, 190, 191, 190, 190, 191, 190, 191, 190]"
      ]
     },
     "execution_count": 81,
     "metadata": {},
     "output_type": "execute_result"
    }
   ],
   "source": [
    "tamaños_particiones"
   ]
  }
 ],
 "metadata": {
  "kernelspec": {
   "display_name": "Python 3.10.0 64-bit",
   "language": "python",
   "name": "python3"
  },
  "language_info": {
   "codemirror_mode": {
    "name": "ipython",
    "version": 3
   },
   "file_extension": ".py",
   "mimetype": "text/x-python",
   "name": "python",
   "nbconvert_exporter": "python",
   "pygments_lexer": "ipython3",
   "version": "3.10.0"
  },
  "orig_nbformat": 4,
  "vscode": {
   "interpreter": {
    "hash": "c63d8c7d738c2960218a10995aedf0a7f67a49a231e71037adf0440953cdb45b"
   }
  }
 },
 "nbformat": 4,
 "nbformat_minor": 2
}
