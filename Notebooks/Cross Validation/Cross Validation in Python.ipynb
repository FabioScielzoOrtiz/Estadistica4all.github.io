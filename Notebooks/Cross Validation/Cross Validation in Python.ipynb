{
 "cells": [
  {
   "cell_type": "markdown",
   "metadata": {},
   "source": [
    "# Cross Validation in `Python`"
   ]
  },
  {
   "cell_type": "code",
   "execution_count": 25,
   "metadata": {},
   "outputs": [],
   "source": [
    "import warnings\n",
    "warnings.filterwarnings(\"ignore\")"
   ]
  },
  {
   "cell_type": "code",
   "execution_count": 26,
   "metadata": {},
   "outputs": [],
   "source": [
    "import pandas as pd\n",
    "import numpy as np\n",
    "import math\n",
    "import sklearn\n",
    "from sklearn.utils import resample\n",
    "from sklearn.neighbors import NearestNeighbors"
   ]
  },
  {
   "cell_type": "code",
   "execution_count": 27,
   "metadata": {},
   "outputs": [
    {
     "data": {
      "text/html": [
       "<div>\n",
       "<style scoped>\n",
       "    .dataframe tbody tr th:only-of-type {\n",
       "        vertical-align: middle;\n",
       "    }\n",
       "\n",
       "    .dataframe tbody tr th {\n",
       "        vertical-align: top;\n",
       "    }\n",
       "\n",
       "    .dataframe thead th {\n",
       "        text-align: right;\n",
       "    }\n",
       "</style>\n",
       "<table border=\"1\" class=\"dataframe\">\n",
       "  <thead>\n",
       "    <tr style=\"text-align: right;\">\n",
       "      <th></th>\n",
       "      <th>no_of_bedrooms</th>\n",
       "      <th>no_of_bathrooms</th>\n",
       "      <th>latitude</th>\n",
       "      <th>longitude</th>\n",
       "      <th>price</th>\n",
       "      <th>size_in_m_2</th>\n",
       "      <th>balcony_recode</th>\n",
       "      <th>private_garden_recode</th>\n",
       "      <th>quality_recode</th>\n",
       "    </tr>\n",
       "  </thead>\n",
       "  <tbody>\n",
       "    <tr>\n",
       "      <th>0</th>\n",
       "      <td>1</td>\n",
       "      <td>2</td>\n",
       "      <td>25.113208</td>\n",
       "      <td>55.138932</td>\n",
       "      <td>2700000</td>\n",
       "      <td>100.242337</td>\n",
       "      <td>1.0</td>\n",
       "      <td>0.0</td>\n",
       "      <td>2.0</td>\n",
       "    </tr>\n",
       "    <tr>\n",
       "      <th>1</th>\n",
       "      <td>2</td>\n",
       "      <td>2</td>\n",
       "      <td>25.106809</td>\n",
       "      <td>55.151201</td>\n",
       "      <td>2850000</td>\n",
       "      <td>146.972546</td>\n",
       "      <td>1.0</td>\n",
       "      <td>0.0</td>\n",
       "      <td>2.0</td>\n",
       "    </tr>\n",
       "    <tr>\n",
       "      <th>2</th>\n",
       "      <td>3</td>\n",
       "      <td>5</td>\n",
       "      <td>25.063302</td>\n",
       "      <td>55.137728</td>\n",
       "      <td>1150000</td>\n",
       "      <td>181.253753</td>\n",
       "      <td>1.0</td>\n",
       "      <td>0.0</td>\n",
       "      <td>2.0</td>\n",
       "    </tr>\n",
       "    <tr>\n",
       "      <th>3</th>\n",
       "      <td>2</td>\n",
       "      <td>3</td>\n",
       "      <td>25.227295</td>\n",
       "      <td>55.341761</td>\n",
       "      <td>2850000</td>\n",
       "      <td>187.664060</td>\n",
       "      <td>1.0</td>\n",
       "      <td>0.0</td>\n",
       "      <td>1.0</td>\n",
       "    </tr>\n",
       "    <tr>\n",
       "      <th>4</th>\n",
       "      <td>0</td>\n",
       "      <td>1</td>\n",
       "      <td>25.114275</td>\n",
       "      <td>55.139764</td>\n",
       "      <td>1729200</td>\n",
       "      <td>47.101821</td>\n",
       "      <td>0.0</td>\n",
       "      <td>0.0</td>\n",
       "      <td>2.0</td>\n",
       "    </tr>\n",
       "  </tbody>\n",
       "</table>\n",
       "</div>"
      ],
      "text/plain": [
       "   no_of_bedrooms  no_of_bathrooms   latitude  longitude    price  \\\n",
       "0               1                2  25.113208  55.138932  2700000   \n",
       "1               2                2  25.106809  55.151201  2850000   \n",
       "2               3                5  25.063302  55.137728  1150000   \n",
       "3               2                3  25.227295  55.341761  2850000   \n",
       "4               0                1  25.114275  55.139764  1729200   \n",
       "\n",
       "   size_in_m_2  balcony_recode  private_garden_recode  quality_recode  \n",
       "0   100.242337             1.0                    0.0             2.0  \n",
       "1   146.972546             1.0                    0.0             2.0  \n",
       "2   181.253753             1.0                    0.0             2.0  \n",
       "3   187.664060             1.0                    0.0             1.0  \n",
       "4    47.101821             0.0                    0.0             2.0  "
      ]
     },
     "execution_count": 27,
     "metadata": {},
     "output_type": "execute_result"
    }
   ],
   "source": [
    "Data = pd.read_csv('House_Price_Regression.csv')\n",
    "\n",
    "Data = Data.loc[:, ['no_of_bedrooms' , 'no_of_bathrooms', 'latitude', 'longitude', 'price', 'size_in_m_2', 'balcony_recode', 'private_garden_recode', 'quality_recode']]\n",
    "\n",
    "Data.head()"
   ]
  },
  {
   "cell_type": "markdown",
   "metadata": {},
   "source": []
  },
  {
   "cell_type": "markdown",
   "metadata": {},
   "source": [
    "## Not random simple validation"
   ]
  },
  {
   "cell_type": "code",
   "execution_count": 28,
   "metadata": {},
   "outputs": [],
   "source": [
    "def simple_validation_not_random(D, k, response, metric, model):\n",
    "\n",
    "    # D --> have to be a pandas data frame.\n",
    "\n",
    "    # k --> is the proportion of observation of D that define D_train.\n",
    "\n",
    "    # response --> have to be a string with the name of the response variable.\n",
    "\n",
    "    N = len(D)\n",
    "\n",
    "    D_train = D.iloc[0:(math.floor(k*N)+1) , :]\n",
    "\n",
    "    D_test = D.iloc[(math.floor(k*N)+1):N , :]\n",
    "\n",
    "    X_train = D_train.loc[: , D_train.columns != response]\n",
    "    Y_train = D_train.loc[: , response]\n",
    "\n",
    "    X_test = D_test.loc[: , D_test.columns != response]\n",
    "    Y_test = D_test.loc[: , response]\n",
    "\n",
    "############################################################################\n",
    "\n",
    "    # Training the model wit train sample\n",
    "\n",
    "    model.fit(X_train, Y_train)\n",
    "\n",
    "    # Making predictions with test sample\n",
    "\n",
    "    Y_predict_test = model.predict( X_test )     \n",
    "\n",
    "############################################################################\n",
    "\n",
    " # Computing the test metric\n",
    "\n",
    "    if metric == 'ECM' :  \n",
    "        \n",
    "        ECM_test = np.mean( (Y_predict_test - Y_test)**2 )\n",
    "\n",
    "        return ECM_test\n",
    "\n",
    "    elif metric == 'TA' :  \n",
    "        \n",
    "        TA_test = np.mean( (Y_predict_test == Y_test) )\n",
    "\n",
    "        return TA_test"
   ]
  },
  {
   "cell_type": "code",
   "execution_count": 29,
   "metadata": {},
   "outputs": [],
   "source": [
    "knn_regression = sklearn.neighbors.KNeighborsRegressor(n_neighbors=10 ,  p=2, metric='minkowski')"
   ]
  },
  {
   "cell_type": "code",
   "execution_count": 30,
   "metadata": {},
   "outputs": [
    {
     "data": {
      "text/plain": [
       "2176125958588.6355"
      ]
     },
     "execution_count": 30,
     "metadata": {},
     "output_type": "execute_result"
    }
   ],
   "source": [
    "ECM_test_Simple_Validation_not_random  = simple_validation_not_random(D=Data, k=0.75, response='price', metric='ECM', model=knn_regression)\n",
    "\n",
    "ECM_test_Simple_Validation_not_random"
   ]
  },
  {
   "cell_type": "code",
   "execution_count": 31,
   "metadata": {},
   "outputs": [],
   "source": [
    "knn_classification = sklearn.neighbors.KNeighborsClassifier(n_neighbors=10 ,  p=2, metric='minkowski')"
   ]
  },
  {
   "cell_type": "code",
   "execution_count": 32,
   "metadata": {},
   "outputs": [
    {
     "data": {
      "text/plain": [
       "0.5609243697478992"
      ]
     },
     "execution_count": 32,
     "metadata": {},
     "output_type": "execute_result"
    }
   ],
   "source": [
    "TAC_test_Simple_Validation_not_random  = simple_validation_not_random(D=Data, k=0.75, response='quality_recode', metric='TA', model=knn_classification)\n",
    "\n",
    "TAC_test_Simple_Validation_not_random"
   ]
  },
  {
   "cell_type": "markdown",
   "metadata": {},
   "source": []
  },
  {
   "cell_type": "markdown",
   "metadata": {},
   "source": [
    "## Random simple validation"
   ]
  },
  {
   "cell_type": "code",
   "execution_count": 33,
   "metadata": {},
   "outputs": [],
   "source": [
    "def simple_validation_random(D, k, response, random_seed, metric, model):\n",
    "\n",
    "    # D --> have to be a pandas data frame.\n",
    "\n",
    "    # k --> is the proportion of observation of D that define D_train.\n",
    "\n",
    "    # response --> have to be a string with the name of the response variable.\n",
    "\n",
    "    # random_seed --> seed to replicate the random process\n",
    "\n",
    "    N = len(D)\n",
    "\n",
    "    D_train = D.sample(frac=k, replace=False, random_state=random_seed)\n",
    "\n",
    "    D_test = D.drop( D_train.index , )\n",
    "\n",
    "    X_train = D_train.loc[: , D_train.columns != response]\n",
    "    Y_train = D_train.loc[: , response]\n",
    "\n",
    "    X_test = D_test.loc[: , D_test.columns != response]\n",
    "    Y_test = D_test.loc[: , response]\n",
    "\n",
    "############################################################################\n",
    "\n",
    "    # Training the model wit train sample\n",
    "\n",
    "    model.fit(X_train, Y_train)\n",
    "\n",
    "    # Making predictions with test sample\n",
    "\n",
    "    Y_predict_test = model.predict( X_test ) \n",
    "\n",
    "####################################################################\n",
    "\n",
    " # Computing the test metric\n",
    "\n",
    "    if metric == 'ECM' :  \n",
    "        \n",
    "        ECM_test = np.mean( (Y_predict_test - Y_test)**2 )\n",
    "\n",
    "        return ECM_test\n",
    "\n",
    "    elif metric == 'TA' :  \n",
    "        \n",
    "        TA_test = np.mean( (Y_predict_test == Y_test) )\n",
    "\n",
    "        return TA_test"
   ]
  },
  {
   "cell_type": "code",
   "execution_count": 34,
   "metadata": {},
   "outputs": [],
   "source": [
    "knn_regression = sklearn.neighbors.KNeighborsRegressor(n_neighbors=10 ,  p=2, metric='minkowski')"
   ]
  },
  {
   "cell_type": "code",
   "execution_count": 35,
   "metadata": {},
   "outputs": [
    {
     "data": {
      "text/plain": [
       "2464363295205.937"
      ]
     },
     "execution_count": 35,
     "metadata": {},
     "output_type": "execute_result"
    }
   ],
   "source": [
    "ECM_test_Simple_Validation_random = simple_validation_random(D=Data, k=0.75, response='price', random_seed=123, metric='ECM', model=knn_regression)\n",
    "\n",
    "ECM_test_Simple_Validation_random"
   ]
  },
  {
   "cell_type": "code",
   "execution_count": 36,
   "metadata": {},
   "outputs": [],
   "source": [
    "knn_classification = sklearn.neighbors.KNeighborsClassifier(n_neighbors=10 ,  p=2, metric='minkowski')"
   ]
  },
  {
   "cell_type": "code",
   "execution_count": 37,
   "metadata": {},
   "outputs": [
    {
     "data": {
      "text/plain": [
       "0.5777310924369747"
      ]
     },
     "execution_count": 37,
     "metadata": {},
     "output_type": "execute_result"
    }
   ],
   "source": [
    "TAC_test_Simple_Validation_random = simple_validation_random(D=Data, k=0.75, response='quality_recode', random_seed=123, metric='TA', model =knn_classification)\n",
    "\n",
    "TAC_test_Simple_Validation_random"
   ]
  },
  {
   "cell_type": "markdown",
   "metadata": {},
   "source": []
  },
  {
   "attachments": {},
   "cell_type": "markdown",
   "metadata": {},
   "source": [
    "## Repeated random simple validation"
   ]
  },
  {
   "cell_type": "code",
   "execution_count": 38,
   "metadata": {},
   "outputs": [],
   "source": [
    "def repeated_random_simple_validation(D, k, B, response, random_seed, metric, model):\n",
    "\n",
    "    # D --> have to be a pandas data frame.\n",
    "\n",
    "    # k --> is the proportion of observation of D that define D_train.\n",
    "\n",
    "    # B --> number of replications of the random simple validation algorithm\n",
    "\n",
    "    # response --> have to be a string with the name of the response variable.\n",
    "\n",
    "    # random_seed --> seed to replicate the random process\n",
    "\n",
    "\n",
    "    np.random.seed(random_seed)\n",
    "\n",
    "    ECM_test_list , TA_test_list = [ ] , [ ]\n",
    "\n",
    "    seed_array = np.random.randint(9999999, size=(B))\n",
    "\n",
    "\n",
    "    if metric == 'ECM':\n",
    "\n",
    "        for b in range(0,B) :\n",
    "\n",
    "            ECM_test_list.append( simple_validation_random(D, k, response, random_seed=seed_array[b], metric=metric, model=model) )\n",
    "\n",
    "\n",
    "        ECM_test = np.mean(ECM_test_list)    \n",
    "\n",
    "        return ECM_test \n",
    "\n",
    "\n",
    "    elif metric == 'TA':\n",
    "\n",
    "        for b in range(0,B) :\n",
    "\n",
    "            TA_test_list.append( simple_validation_random(D, k, response, random_seed=seed_array[b], metric=metric, model=model) )\n",
    "\n",
    "\n",
    "        TA_test = np.mean(TA_test_list)    \n",
    "\n",
    "        return TA_test "
   ]
  },
  {
   "cell_type": "code",
   "execution_count": 39,
   "metadata": {},
   "outputs": [],
   "source": [
    "knn_regression = sklearn.neighbors.KNeighborsRegressor(n_neighbors=10 ,  p=2, metric='minkowski')"
   ]
  },
  {
   "cell_type": "code",
   "execution_count": 40,
   "metadata": {},
   "outputs": [],
   "source": [
    "ECM_test_Simple_Validation_repeated = repeated_random_simple_validation(D=Data, k=0.75, B=1000, response='price', random_seed=123, metric='ECM', model=knn_regression)"
   ]
  },
  {
   "cell_type": "markdown",
   "metadata": {},
   "source": [
    "Time: 14.4seg"
   ]
  },
  {
   "cell_type": "code",
   "execution_count": 41,
   "metadata": {},
   "outputs": [
    {
     "data": {
      "text/plain": [
       "2297076499859.55"
      ]
     },
     "execution_count": 41,
     "metadata": {},
     "output_type": "execute_result"
    }
   ],
   "source": [
    "ECM_test_Simple_Validation_repeated"
   ]
  },
  {
   "cell_type": "code",
   "execution_count": 42,
   "metadata": {},
   "outputs": [],
   "source": [
    "knn_classification = sklearn.neighbors.KNeighborsClassifier(n_neighbors=10 ,  p=2, metric='minkowski')"
   ]
  },
  {
   "cell_type": "code",
   "execution_count": 43,
   "metadata": {},
   "outputs": [],
   "source": [
    "TAC_test_Simple_Validation_repeated = repeated_random_simple_validation(D=Data, k=0.75, B=1000, response='quality_recode', random_seed=123, metric='TA', model=knn_classification)"
   ]
  },
  {
   "cell_type": "markdown",
   "metadata": {},
   "source": [
    "Time: 43 seg"
   ]
  },
  {
   "cell_type": "code",
   "execution_count": 44,
   "metadata": {},
   "outputs": [
    {
     "data": {
      "text/plain": [
       "0.5516638655462184"
      ]
     },
     "execution_count": 44,
     "metadata": {},
     "output_type": "execute_result"
    }
   ],
   "source": [
    "TAC_test_Simple_Validation_repeated"
   ]
  },
  {
   "cell_type": "markdown",
   "metadata": {},
   "source": []
  },
  {
   "cell_type": "markdown",
   "metadata": {},
   "source": [
    "## Leave one out"
   ]
  },
  {
   "cell_type": "code",
   "execution_count": 45,
   "metadata": {},
   "outputs": [],
   "source": [
    "def leave_one_out_validation(D, response, metric, model):\n",
    "\n",
    "    # D --> have to be a pandas data frame.\n",
    "\n",
    "    # k --> is the proportion of observation of D that define D_train.\n",
    "\n",
    "    # response --> have to be a string with the name of the response variable.\n",
    "\n",
    "    ECM_test_list , TA_test_list = [ ] , [ ]\n",
    "\n",
    "    N = len(D)\n",
    "\n",
    "    for r in range(0,N):\n",
    "\n",
    "        D_test = D.iloc[r,:]\n",
    "        D_train = D.drop( r , )\n",
    "\n",
    "        X_train = D_train.loc[: , D_train.columns != response]\n",
    "        Y_train = D_train.loc[: , response]\n",
    "\n",
    "        X_test = D_test.loc[D_test.index != response]\n",
    "        Y_test = D_test.loc[response]\n",
    "\n",
    "############################################################################\n",
    "\n",
    "        # Training the model wit train sample\n",
    "\n",
    "        model.fit(X_train, Y_train)\n",
    "\n",
    "        # Making predictions with test sample\n",
    "\n",
    "        Y_predict_test = model.predict( pd.DataFrame([X_test]) ) \n",
    "        \n",
    "############################################################################\n",
    "\n",
    "        if metric == 'ECM' :  ECM_test_list.append( np.mean( (Y_predict_test - Y_test)**2 ) )\n",
    "    \n",
    "        elif metric == 'TA' :  TA_test_list.append( np.mean( (Y_predict_test == Y_test ) ) )\n",
    "\n",
    "############################################################################\n",
    "        \n",
    "    if metric == 'ECM' : \n",
    "        \n",
    "        ECM_test = np.mean(ECM_test_list)\n",
    "\n",
    "        return ECM_test\n",
    "\n",
    "\n",
    "    elif metric == 'TA' :\n",
    "\n",
    "        TA_test = np.mean(TA_test_list)\n",
    "\n",
    "        return TA_test\n"
   ]
  },
  {
   "cell_type": "code",
   "execution_count": 46,
   "metadata": {},
   "outputs": [],
   "source": [
    "knn_regression = sklearn.neighbors.KNeighborsRegressor(n_neighbors=10 ,  p=2, metric='minkowski')"
   ]
  },
  {
   "cell_type": "code",
   "execution_count": 47,
   "metadata": {},
   "outputs": [],
   "source": [
    "ECM_test_leave_one_out = leave_one_out_validation(D=Data, response='price', metric='ECM', model=knn_regression)"
   ]
  },
  {
   "cell_type": "markdown",
   "metadata": {},
   "source": [
    "Time: 24seg"
   ]
  },
  {
   "cell_type": "code",
   "execution_count": 48,
   "metadata": {},
   "outputs": [
    {
     "data": {
      "text/plain": [
       "2268581861335.2305"
      ]
     },
     "execution_count": 48,
     "metadata": {},
     "output_type": "execute_result"
    }
   ],
   "source": [
    "ECM_test_leave_one_out"
   ]
  },
  {
   "cell_type": "code",
   "execution_count": 49,
   "metadata": {},
   "outputs": [],
   "source": [
    "knn_classification = sklearn.neighbors.KNeighborsClassifier(n_neighbors=10 ,  p=2, metric='minkowski')"
   ]
  },
  {
   "cell_type": "code",
   "execution_count": 50,
   "metadata": {},
   "outputs": [
    {
     "data": {
      "text/plain": [
       "0.5511811023622047"
      ]
     },
     "execution_count": 50,
     "metadata": {},
     "output_type": "execute_result"
    }
   ],
   "source": [
    "TAC_test_leave_one_out = leave_one_out_validation(D=Data, response='quality_recode', metric='TA', model=knn_classification)\n",
    "\n",
    "TAC_test_leave_one_out"
   ]
  },
  {
   "cell_type": "markdown",
   "metadata": {},
   "source": [
    "Time: 26seg"
   ]
  },
  {
   "cell_type": "markdown",
   "metadata": {},
   "source": []
  },
  {
   "cell_type": "markdown",
   "metadata": {},
   "source": [
    "# K Folds"
   ]
  },
  {
   "cell_type": "code",
   "execution_count": 51,
   "metadata": {},
   "outputs": [],
   "source": [
    "def K_Fold_CV(D, K, response, random_seed, metric, model):\n",
    "\n",
    "    ECM_K_FOLDS_vector , TA_K_FOLDS_vector = [] , []\n",
    "\n",
    "    np.random.seed(random_seed)\n",
    "\n",
    "    sample = resample(range(0, len(D)), n_samples=len(D), replace=False)\n",
    "\n",
    "    df_sample = pd.DataFrame({'index': range(0,len(D)) , 'sample':sample})\n",
    "\n",
    "    Q = []\n",
    "\n",
    "    for q in np.arange(0 , 1 + 1/K , 1/K):\n",
    "\n",
    "        Q.append( np.quantile( range(0, len(D)) , q ).round(0) )\n",
    "\n",
    "\n",
    "    for j in range(0, len(Q)-1):\n",
    "\n",
    "            X_test = D.loc[df_sample.loc[Q[j]:(math.floor(Q[j+1])-1), 'sample'] , D.columns != response ] \n",
    "            Y_test = D.loc[df_sample.loc[Q[j]:(math.floor(Q[j+1])-1), 'sample'] , D.columns == response ]\n",
    "\n",
    "            X_train = D.loc[ : , D.columns != response ].drop(df_sample.loc[Q[j]:(math.floor(Q[j+1])-1), 'sample'] )\n",
    "            Y_train = D.loc[ : ,  D.columns == response ].drop(df_sample.loc[Q[j]:(math.floor(Q[j+1])-1), 'sample'])\n",
    "            \n",
    "            Y_test = Y_test.to_numpy()\n",
    "\n",
    "           #########################################################################\n",
    "\n",
    "            if model == 'knn_regression' :\n",
    "\n",
    "              # Training the model wit train sample\n",
    "\n",
    "                knn_regression.fit(X_train, Y_train)\n",
    "\n",
    "\n",
    "               # Making predictions with test sample\n",
    "\n",
    "                Y_predict_test = knn_regression.predict( X_test ) \n",
    "\n",
    "    \n",
    "            elif model == 'knn_classification' :\n",
    "\n",
    "               # Training the model wit train sample\n",
    "\n",
    "                knn_classification.fit(X_train, Y_train)\n",
    "\n",
    "\n",
    "               # Making predictions with test sample\n",
    "\n",
    "                Y_predict_test = knn_classification.predict( X_test )  \n",
    "\n",
    "            #########################################################################\n",
    "\n",
    "            if metric == 'ECM' :  ECM_K_FOLDS_vector.append( np.mean( ( Y_predict_test - Y_test )**2 ) )\n",
    "\n",
    "            elif metric == 'TA' :  TA_K_FOLDS_vector.append( np.mean( ( Y_predict_test == Y_test ) ) )\n",
    "\n",
    "##################################################################################################################################################\n",
    "\n",
    "    if metric == 'ECM' :\n",
    "\n",
    "        ECM_K_Folds = np.mean(ECM_K_FOLDS_vector)\n",
    "    \n",
    "        return  ECM_K_Folds\n",
    "\n",
    "    \n",
    "    elif metric == 'TA' :\n",
    "\n",
    "        TA_K_Folds = np.mean(TA_K_FOLDS_vector)\n",
    "    \n",
    "        return  TA_K_Folds"
   ]
  },
  {
   "cell_type": "code",
   "execution_count": 52,
   "metadata": {},
   "outputs": [],
   "source": [
    "knn_regression = sklearn.neighbors.KNeighborsRegressor(n_neighbors=10 ,  p=2, metric='minkowski')"
   ]
  },
  {
   "cell_type": "code",
   "execution_count": 53,
   "metadata": {},
   "outputs": [],
   "source": [
    "ECM_K_Folds = K_Fold_CV(D=Data, response='price', K=10, random_seed=123, metric='ECM', model='knn_regression')"
   ]
  },
  {
   "cell_type": "markdown",
   "metadata": {},
   "source": [
    "Time: 0.3seg"
   ]
  },
  {
   "cell_type": "code",
   "execution_count": 54,
   "metadata": {},
   "outputs": [
    {
     "data": {
      "text/plain": [
       "2220503635404.005"
      ]
     },
     "execution_count": 54,
     "metadata": {},
     "output_type": "execute_result"
    }
   ],
   "source": [
    "ECM_K_Folds"
   ]
  },
  {
   "cell_type": "code",
   "execution_count": 55,
   "metadata": {},
   "outputs": [],
   "source": [
    "knn_classification = sklearn.neighbors.KNeighborsClassifier(n_neighbors=10 ,  p=2, metric='minkowski')"
   ]
  },
  {
   "cell_type": "code",
   "execution_count": 56,
   "metadata": {},
   "outputs": [
    {
     "data": {
      "text/plain": [
       "0.5363984159477089"
      ]
     },
     "execution_count": 56,
     "metadata": {},
     "output_type": "execute_result"
    }
   ],
   "source": [
    "TAC_K_Folds = K_Fold_CV(D=Data, response='quality_recode', K=10, random_seed=123, metric='TA', model='knn_classification')\n",
    "\n",
    "TAC_K_Folds"
   ]
  },
  {
   "cell_type": "markdown",
   "metadata": {},
   "source": [
    "Time: 0.5 seg"
   ]
  },
  {
   "cell_type": "markdown",
   "metadata": {},
   "source": []
  },
  {
   "attachments": {},
   "cell_type": "markdown",
   "metadata": {},
   "source": [
    "## Repeated k-folds"
   ]
  },
  {
   "cell_type": "code",
   "execution_count": 57,
   "metadata": {},
   "outputs": [],
   "source": [
    "def repeated_K_Fold_CV(D, B, K, response, random_seed, metric, model):\n",
    "\n",
    "\n",
    "    ECM_Repeted_K_Folds_vector , TA_Repeted_K_Folds_vector = [] , []\n",
    "\n",
    "    np.random.seed(random_seed)\n",
    "\n",
    "\n",
    "    for b in range(0, B):\n",
    "\n",
    "        sample = resample(range(0, len(D)), n_samples=len(D), replace=False)\n",
    "\n",
    "        df_sample = pd.DataFrame({'index': range(0,len(D)) , 'sample':sample})\n",
    "\n",
    "        \n",
    "        Q = []\n",
    "\n",
    "        \n",
    "        for q in np.arange(0 , 1 + 1/K , 1/K):\n",
    "\n",
    "            Q.append( np.quantile( range(0, len(D)) , q ).round(0) )\n",
    "\n",
    "\n",
    "\n",
    "        ECM_K_FOLDS_vector , TA_K_FOLDS_vector = [] , []\n",
    "\n",
    "        for j in range(0, len(Q)-1):\n",
    "\n",
    "            X_test = D.loc[df_sample.loc[Q[j]:(math.floor(Q[j+1])-1), 'sample'] , D.columns != response ] \n",
    "            Y_test = D.loc[df_sample.loc[Q[j]:(math.floor(Q[j+1])-1), 'sample'] , D.columns == response ]\n",
    "\n",
    "            X_train = D.loc[ : , D.columns != response ].drop(df_sample.loc[Q[j]:(math.floor(Q[j+1])-1), 'sample'] )\n",
    "            Y_train = D.loc[ : ,  D.columns == response ].drop(df_sample.loc[Q[j]:(math.floor(Q[j+1])-1), 'sample'])      \n",
    "\n",
    "            Y_test = Y_test.to_numpy()\n",
    "\n",
    "        #######################################################################\n",
    "            \n",
    "            if model == 'knn_regression' :\n",
    "\n",
    "              # Training the model wit train sample\n",
    "\n",
    "                knn_regression.fit(X_train, Y_train)\n",
    "\n",
    "\n",
    "               # Making predictions with test sample\n",
    "\n",
    "                Y_predict_test = knn_regression.predict( X_test ) \n",
    "\n",
    "    \n",
    "            elif model == 'knn_classification' :\n",
    "\n",
    "               # Training the model wit train sample\n",
    "\n",
    "                knn_classification.fit(X_train, Y_train)\n",
    "\n",
    "\n",
    "               # Making predictions with test sample\n",
    "\n",
    "                Y_predict_test = knn_classification.predict( X_test )  \n",
    "\n",
    "        #######################################################################\n",
    "\n",
    "            if metric == 'ECM' :  ECM_K_FOLDS_vector.append( np.mean( ( Y_predict_test - Y_test )**2 ) )\n",
    "\n",
    "            elif metric == 'TA' :  TA_K_FOLDS_vector.append( np.mean( ( Y_predict_test == Y_test ) ) )\n",
    "\n",
    "        #######################################################################\n",
    "    \n",
    "        if metric == 'ECM' : ECM_Repeted_K_Folds_vector.append( np.mean(ECM_K_FOLDS_vector) )\n",
    "\n",
    "        elif metric == 'TA' : TA_Repeted_K_Folds_vector.append( np.mean(TA_K_FOLDS_vector) )\n",
    "\n",
    "##########################################################################################################################\n",
    "\n",
    "    if metric == 'ECM' :\n",
    "        \n",
    "        ECM_Repeted_K_Folds = np.mean(ECM_Repeted_K_Folds_vector)\n",
    "\n",
    "        return  ECM_Repeted_K_Folds\n",
    "        \n",
    "\n",
    "    elif metric == 'TA' :\n",
    "        \n",
    "        TA_Repeted_K_Folds = np.mean(TA_Repeted_K_Folds_vector)\n",
    "\n",
    "        return  TA_Repeted_K_Folds\n",
    "    \n",
    "    "
   ]
  },
  {
   "cell_type": "code",
   "execution_count": 58,
   "metadata": {},
   "outputs": [],
   "source": [
    "knn_regression = sklearn.neighbors.KNeighborsRegressor(n_neighbors=10 ,  p=2, metric='minkowski')"
   ]
  },
  {
   "cell_type": "code",
   "execution_count": 59,
   "metadata": {},
   "outputs": [],
   "source": [
    "ECM_repeated_K_Folds = repeated_K_Fold_CV(D=Data, response='price', K=10, B=100, random_seed=123, metric='ECM', model='knn_regression')"
   ]
  },
  {
   "cell_type": "markdown",
   "metadata": {},
   "source": [
    "Time: 19seg"
   ]
  },
  {
   "cell_type": "code",
   "execution_count": 60,
   "metadata": {},
   "outputs": [
    {
     "data": {
      "text/plain": [
       "2268486279605.6816"
      ]
     },
     "execution_count": 60,
     "metadata": {},
     "output_type": "execute_result"
    }
   ],
   "source": [
    "ECM_repeated_K_Folds"
   ]
  },
  {
   "cell_type": "code",
   "execution_count": 61,
   "metadata": {},
   "outputs": [],
   "source": [
    "knn_classification = sklearn.neighbors.KNeighborsClassifier(n_neighbors=10 ,  p=2, metric='minkowski')"
   ]
  },
  {
   "cell_type": "code",
   "execution_count": 62,
   "metadata": {},
   "outputs": [],
   "source": [
    "TAC_repeated_K_Folds = repeated_K_Fold_CV(D=Data, response='quality_recode', K=10, B=100, random_seed=123, metric='TA', model='knn_classification')"
   ]
  },
  {
   "cell_type": "markdown",
   "metadata": {},
   "source": [
    "Time:30seg"
   ]
  },
  {
   "cell_type": "code",
   "execution_count": 63,
   "metadata": {},
   "outputs": [
    {
     "data": {
      "text/plain": [
       "0.5371267212075105"
      ]
     },
     "execution_count": 63,
     "metadata": {},
     "output_type": "execute_result"
    }
   ],
   "source": [
    "TAC_repeated_K_Folds"
   ]
  },
  {
   "cell_type": "markdown",
   "metadata": {},
   "source": []
  },
  {
   "cell_type": "code",
   "execution_count": 64,
   "metadata": {},
   "outputs": [],
   "source": [
    "import seaborn as sns\n",
    "import matplotlib.pyplot as plt\n",
    "\n",
    "fig, ax = plt.subplots()"
   ]
  },
  {
   "cell_type": "code",
   "execution_count": 71,
   "metadata": {},
   "outputs": [],
   "source": [
    "ECM_df = pd.DataFrame({'ECM' : [ECM_test_Simple_Validation_not_random , ECM_test_Simple_Validation_random, ECM_test_Simple_Validation_repeated, ECM_test_leave_one_out, ECM_K_Folds, ECM_repeated_K_Folds],\n",
    " 'names' : ['Simple validation (not random)' , 'Simple validation (random)', 'Simple validation (repeted)', 'Leave one out', 'k-folds', 'repeted-k-folds']})"
   ]
  },
  {
   "cell_type": "code",
   "execution_count": 75,
   "metadata": {},
   "outputs": [],
   "source": [
    "TAC_df = pd.DataFrame({'TAC' : [TAC_test_Simple_Validation_not_random , TAC_test_Simple_Validation_random, TAC_test_Simple_Validation_repeated, TAC_test_leave_one_out, TAC_K_Folds, TAC_repeated_K_Folds],\n",
    " 'names' : ['Simple validation (not random)' , 'Simple validation (random)', 'Simple validation (repeted)', 'Leave one out', 'k-folds', 'repeted-k-folds']})"
   ]
  },
  {
   "cell_type": "code",
   "execution_count": 74,
   "metadata": {},
   "outputs": [
    {
     "data": {
      "text/plain": [
       "<AxesSubplot:xlabel='ECM', ylabel='names'>"
      ]
     },
     "execution_count": 74,
     "metadata": {},
     "output_type": "execute_result"
    },
    {
     "data": {
      "image/png": "[encoded data removed]",
      "text/plain": [
       "<Figure size 432x288 with 1 Axes>"
      ]
     },
     "metadata": {
      "needs_background": "light"
     },
     "output_type": "display_data"
    }
   ],
   "source": [
    "p1 = sns.barplot(x=\"ECM\", y ='names' , data=ECM_df)"
   ]
  },
  {
   "cell_type": "code",
   "execution_count": 76,
   "metadata": {},
   "outputs": [
    {
     "data": {
      "text/plain": [
       "<AxesSubplot:xlabel='TAC', ylabel='names'>"
      ]
     },
     "execution_count": 76,
     "metadata": {},
     "output_type": "execute_result"
    },
    {
     "data": {
      "image/png": "[encoded data removed]",
      "text/plain": [
       "<Figure size 432x288 with 1 Axes>"
      ]
     },
     "metadata": {
      "needs_background": "light"
     },
     "output_type": "display_data"
    }
   ],
   "source": [
    "p2 = sns.barplot(x=\"TAC\", y ='names' , data=TAC_df)"
   ]
  },
  {
   "cell_type": "markdown",
   "metadata": {},
   "source": []
  },
  {
   "cell_type": "markdown",
   "metadata": {},
   "source": []
  },
  {
   "cell_type": "code",
   "execution_count": null,
   "metadata": {},
   "outputs": [],
   "source": [
    "from sklearn.model_selection import cross_val_score\n",
    "\n",
    "from sklearn.model_selection import RepeatedKFold\n",
    "\n",
    "from sklearn.model_selection import KFold"
   ]
  },
  {
   "cell_type": "code",
   "execution_count": 133,
   "metadata": {},
   "outputs": [],
   "source": [
    "cv_k_fold = KFold(n_splits=10, random_state=123, shuffle=True)\n",
    "\n",
    "cv_repeated_k_fold = RepeatedKFold(n_splits=10, n_repeats=100, random_state=123)"
   ]
  },
  {
   "cell_type": "code",
   "execution_count": 125,
   "metadata": {},
   "outputs": [],
   "source": [
    "Y = Data.loc[:,'price']"
   ]
  },
  {
   "cell_type": "code",
   "execution_count": 126,
   "metadata": {},
   "outputs": [],
   "source": [
    "X = Data.loc[:, Data.columns != 'price']"
   ]
  },
  {
   "cell_type": "code",
   "execution_count": 84,
   "metadata": {},
   "outputs": [
    {
     "data": {
      "text/plain": [
       "0    2700000\n",
       "1    2850000\n",
       "2    1150000\n",
       "3    2850000\n",
       "4    1729200\n",
       "Name: price, dtype: int64"
      ]
     },
     "execution_count": 84,
     "metadata": {},
     "output_type": "execute_result"
    }
   ],
   "source": [
    "Y.head()"
   ]
  },
  {
   "cell_type": "code",
   "execution_count": 83,
   "metadata": {},
   "outputs": [
    {
     "data": {
      "text/html": [
       "<div>\n",
       "<style scoped>\n",
       "    .dataframe tbody tr th:only-of-type {\n",
       "        vertical-align: middle;\n",
       "    }\n",
       "\n",
       "    .dataframe tbody tr th {\n",
       "        vertical-align: top;\n",
       "    }\n",
       "\n",
       "    .dataframe thead th {\n",
       "        text-align: right;\n",
       "    }\n",
       "</style>\n",
       "<table border=\"1\" class=\"dataframe\">\n",
       "  <thead>\n",
       "    <tr style=\"text-align: right;\">\n",
       "      <th></th>\n",
       "      <th>no_of_bedrooms</th>\n",
       "      <th>no_of_bathrooms</th>\n",
       "      <th>latitude</th>\n",
       "      <th>longitude</th>\n",
       "      <th>size_in_m_2</th>\n",
       "      <th>balcony_recode</th>\n",
       "      <th>private_garden_recode</th>\n",
       "      <th>quality_recode</th>\n",
       "    </tr>\n",
       "  </thead>\n",
       "  <tbody>\n",
       "    <tr>\n",
       "      <th>0</th>\n",
       "      <td>1</td>\n",
       "      <td>2</td>\n",
       "      <td>25.113208</td>\n",
       "      <td>55.138932</td>\n",
       "      <td>100.242337</td>\n",
       "      <td>1.0</td>\n",
       "      <td>0.0</td>\n",
       "      <td>2.0</td>\n",
       "    </tr>\n",
       "    <tr>\n",
       "      <th>1</th>\n",
       "      <td>2</td>\n",
       "      <td>2</td>\n",
       "      <td>25.106809</td>\n",
       "      <td>55.151201</td>\n",
       "      <td>146.972546</td>\n",
       "      <td>1.0</td>\n",
       "      <td>0.0</td>\n",
       "      <td>2.0</td>\n",
       "    </tr>\n",
       "    <tr>\n",
       "      <th>2</th>\n",
       "      <td>3</td>\n",
       "      <td>5</td>\n",
       "      <td>25.063302</td>\n",
       "      <td>55.137728</td>\n",
       "      <td>181.253753</td>\n",
       "      <td>1.0</td>\n",
       "      <td>0.0</td>\n",
       "      <td>2.0</td>\n",
       "    </tr>\n",
       "    <tr>\n",
       "      <th>3</th>\n",
       "      <td>2</td>\n",
       "      <td>3</td>\n",
       "      <td>25.227295</td>\n",
       "      <td>55.341761</td>\n",
       "      <td>187.664060</td>\n",
       "      <td>1.0</td>\n",
       "      <td>0.0</td>\n",
       "      <td>1.0</td>\n",
       "    </tr>\n",
       "    <tr>\n",
       "      <th>4</th>\n",
       "      <td>0</td>\n",
       "      <td>1</td>\n",
       "      <td>25.114275</td>\n",
       "      <td>55.139764</td>\n",
       "      <td>47.101821</td>\n",
       "      <td>0.0</td>\n",
       "      <td>0.0</td>\n",
       "      <td>2.0</td>\n",
       "    </tr>\n",
       "  </tbody>\n",
       "</table>\n",
       "</div>"
      ],
      "text/plain": [
       "   no_of_bedrooms  no_of_bathrooms   latitude  longitude  size_in_m_2  \\\n",
       "0               1                2  25.113208  55.138932   100.242337   \n",
       "1               2                2  25.106809  55.151201   146.972546   \n",
       "2               3                5  25.063302  55.137728   181.253753   \n",
       "3               2                3  25.227295  55.341761   187.664060   \n",
       "4               0                1  25.114275  55.139764    47.101821   \n",
       "\n",
       "   balcony_recode  private_garden_recode  quality_recode  \n",
       "0             1.0                    0.0             2.0  \n",
       "1             1.0                    0.0             2.0  \n",
       "2             1.0                    0.0             2.0  \n",
       "3             1.0                    0.0             1.0  \n",
       "4             0.0                    0.0             2.0  "
      ]
     },
     "execution_count": 83,
     "metadata": {},
     "output_type": "execute_result"
    }
   ],
   "source": [
    "X.head()"
   ]
  },
  {
   "cell_type": "code",
   "execution_count": 138,
   "metadata": {},
   "outputs": [],
   "source": [
    "ECM_K_Folds_sklearn = cross_val_score(knn_regression, X, Y, cv=cv_k_fold, scoring='neg_mean_squared_error')"
   ]
  },
  {
   "cell_type": "code",
   "execution_count": 141,
   "metadata": {},
   "outputs": [],
   "source": [
    "ECM_K_Folds_sklearn = np.mean( - ECM_K_Folds_sklearn )"
   ]
  },
  {
   "cell_type": "code",
   "execution_count": 142,
   "metadata": {},
   "outputs": [
    {
     "data": {
      "text/plain": [
       "2220103512647.2095"
      ]
     },
     "execution_count": 142,
     "metadata": {},
     "output_type": "execute_result"
    }
   ],
   "source": [
    "ECM_K_Folds_sklearn"
   ]
  },
  {
   "cell_type": "code",
   "execution_count": 143,
   "metadata": {},
   "outputs": [],
   "source": [
    "ECM_repeated_K_Folds_sklearn = cross_val_score(knn_regression, X, Y, cv=cv_repeated_k_fold, scoring='neg_mean_squared_error')"
   ]
  },
  {
   "cell_type": "code",
   "execution_count": 144,
   "metadata": {},
   "outputs": [],
   "source": [
    "ECM_repeated_K_Folds_sklearn = np.mean( - ECM_repeated_K_Folds_sklearn )"
   ]
  },
  {
   "cell_type": "code",
   "execution_count": 145,
   "metadata": {},
   "outputs": [
    {
     "data": {
      "text/plain": [
       "2269036673148.278"
      ]
     },
     "execution_count": 145,
     "metadata": {},
     "output_type": "execute_result"
    }
   ],
   "source": [
    "ECM_repeated_K_Folds_sklearn"
   ]
  },
  {
   "cell_type": "code",
   "execution_count": 147,
   "metadata": {},
   "outputs": [],
   "source": [
    "ECM_df = pd.DataFrame({'ECM' : [ECM_test_Simple_Validation_not_random , ECM_test_Simple_Validation_random, ECM_test_Simple_Validation_repeated, ECM_test_leave_one_out, ECM_K_Folds, ECM_K_Folds_sklearn , ECM_repeated_K_Folds, ECM_repeated_K_Folds_sklearn],\n",
    " 'names' : ['Simple validation (not random)' , 'Simple validation (random)', 'Simple validation (repeted)', 'Leave one out', 'k-folds', 'k-folds (sklearn)', 'repeted-k-folds', 'repeted-k-folds (sklearn)']})"
   ]
  },
  {
   "cell_type": "code",
   "execution_count": 169,
   "metadata": {},
   "outputs": [
    {
     "data": {
      "image/png": "[encoded data removed]",
      "text/plain": [
       "<Figure size 432x288 with 1 Axes>"
      ]
     },
     "metadata": {
      "needs_background": "light"
     },
     "output_type": "display_data"
    }
   ],
   "source": [
    "p3 = sns.barplot(x=\"ECM\", y ='names' , data=ECM_df)\n",
    "\n",
    "fig.savefig('p3.jpg', format='jpg', dpi=1200)"
   ]
  },
  {
   "cell_type": "markdown",
   "metadata": {},
   "source": []
  },
  {
   "cell_type": "markdown",
   "metadata": {},
   "source": []
  },
  {
   "cell_type": "code",
   "execution_count": 150,
   "metadata": {},
   "outputs": [],
   "source": [
    "Y = Data.loc[:,'quality_recode']"
   ]
  },
  {
   "cell_type": "code",
   "execution_count": 151,
   "metadata": {},
   "outputs": [],
   "source": [
    "X = Data.loc[:, Data.columns != 'quality_recode']"
   ]
  },
  {
   "cell_type": "markdown",
   "metadata": {},
   "source": []
  },
  {
   "cell_type": "code",
   "execution_count": 155,
   "metadata": {},
   "outputs": [],
   "source": [
    "TAC_K_Folds_sklearn = cross_val_score(knn_classification, X, Y, cv=cv_k_fold, scoring='accuracy')"
   ]
  },
  {
   "cell_type": "code",
   "execution_count": 156,
   "metadata": {},
   "outputs": [],
   "source": [
    "TAC_K_Folds_sklearn = np.mean( TAC_K_Folds_sklearn )"
   ]
  },
  {
   "cell_type": "code",
   "execution_count": 157,
   "metadata": {},
   "outputs": [
    {
     "data": {
      "text/plain": [
       "0.5606558280518048"
      ]
     },
     "execution_count": 157,
     "metadata": {},
     "output_type": "execute_result"
    }
   ],
   "source": [
    "TAC_K_Folds_sklearn"
   ]
  },
  {
   "cell_type": "markdown",
   "metadata": {},
   "source": []
  },
  {
   "cell_type": "code",
   "execution_count": 158,
   "metadata": {},
   "outputs": [],
   "source": [
    "TAC_repeated_K_Folds_sklearn = cross_val_score(knn_classification, X, Y, cv=cv_repeated_k_fold, scoring='accuracy')"
   ]
  },
  {
   "cell_type": "code",
   "execution_count": 159,
   "metadata": {},
   "outputs": [],
   "source": [
    "TAC_repeated_K_Folds_sklearn = np.mean( TAC_repeated_K_Folds_sklearn )"
   ]
  },
  {
   "cell_type": "code",
   "execution_count": 160,
   "metadata": {},
   "outputs": [
    {
     "data": {
      "text/plain": [
       "0.554644943510609"
      ]
     },
     "execution_count": 160,
     "metadata": {},
     "output_type": "execute_result"
    }
   ],
   "source": [
    "TAC_repeated_K_Folds_sklearn"
   ]
  },
  {
   "cell_type": "markdown",
   "metadata": {},
   "source": []
  },
  {
   "cell_type": "code",
   "execution_count": 161,
   "metadata": {},
   "outputs": [],
   "source": [
    "TAC_df = pd.DataFrame({'TAC' : [TAC_test_Simple_Validation_not_random , TAC_test_Simple_Validation_random, TAC_test_Simple_Validation_repeated, TAC_test_leave_one_out, TAC_K_Folds, TAC_K_Folds_sklearn, TAC_repeated_K_Folds, TAC_repeated_K_Folds_sklearn],\n",
    " 'names' : ['Simple validation (not random)' , 'Simple validation (random)', 'Simple validation (repeted)', 'Leave one out', 'k-folds', 'k-folds (sklearn)', 'repeted-k-folds', 'repeted-k-folds (sklearn)']})"
   ]
  },
  {
   "cell_type": "code",
   "execution_count": 168,
   "metadata": {},
   "outputs": [
    {
     "data": {
      "image/png": "[encoded data removed]",
      "text/plain": [
       "<Figure size 432x288 with 1 Axes>"
      ]
     },
     "metadata": {
      "needs_background": "light"
     },
     "output_type": "display_data"
    }
   ],
   "source": [
    "p4 = sns.barplot(x=\"TAC\", y ='names' , data=TAC_df)\n",
    "\n",
    "fig.savefig('p4.jpg', format='jpg', dpi=1200)"
   ]
  }
 ],
 "metadata": {
  "kernelspec": {
   "display_name": "Python 3",
   "language": "python",
   "name": "python3"
  },
  "language_info": {
   "codemirror_mode": {
    "name": "ipython",
    "version": 3
   },
   "file_extension": ".py",
   "mimetype": "text/x-python",
   "name": "python",
   "nbconvert_exporter": "python",
   "pygments_lexer": "ipython3",
   "version": "3.10.0"
  },
  "vscode": {
   "interpreter": {
    "hash": "c63d8c7d738c2960218a10995aedf0a7f67a49a231e71037adf0440953cdb45b"
   }
  }
 },
 "nbformat": 4,
 "nbformat_minor": 2
}
