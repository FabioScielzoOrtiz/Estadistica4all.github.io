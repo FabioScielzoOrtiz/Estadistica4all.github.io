{
 "cells": [
  {
   "cell_type": "markdown",
   "metadata": {},
   "source": [
    "# Cross Validation in `Python`"
   ]
  },
  {
   "cell_type": "markdown",
   "metadata": {},
   "source": []
  },
  {
   "cell_type": "markdown",
   "metadata": {},
   "source": [
    "One of the main goals of the statistical and machine learning (ML) models is to predict a response variable (in many cases this is the unique goal).\n",
    "\n",
    "In this article we are going to study different algorithms oriented to measure the predictive power of a statistic or ML model."
   ]
  },
  {
   "cell_type": "markdown",
   "metadata": {},
   "source": []
  },
  {
   "cell_type": "markdown",
   "metadata": {},
   "source": [
    "## Train data-set"
   ]
  },
  {
   "cell_type": "markdown",
   "metadata": {},
   "source": []
  },
  {
   "cell_type": "markdown",
   "metadata": {},
   "source": [
    "## Test data-set"
   ]
  },
  {
   "cell_type": "markdown",
   "metadata": {},
   "source": []
  },
  {
   "cell_type": "markdown",
   "metadata": {},
   "source": [
    "## Bibliography"
   ]
  },
  {
   "cell_type": "markdown",
   "metadata": {},
   "source": [
    "https://www.w3schools.com/python/python_ml_cross_validation.asp"
   ]
  },
  {
   "cell_type": "markdown",
   "metadata": {},
   "source": []
  },
  {
   "cell_type": "markdown",
   "metadata": {},
   "source": [
    "# K=10 FOLDS CV\n"
   ]
  },
  {
   "cell_type": "code",
   "execution_count": 1,
   "metadata": {},
   "outputs": [],
   "source": [
    "import pandas as pd\n",
    "import numpy as np\n"
   ]
  },
  {
   "cell_type": "code",
   "execution_count": 2,
   "metadata": {},
   "outputs": [],
   "source": [
    "\n",
    "url = 'https://raw.githubusercontent.com/JWarmenhoven/ISLR-python/master/Notebooks/Data/Boston.csv'\n",
    "\n",
    "Boston = pd.read_csv(url)"
   ]
  },
  {
   "cell_type": "code",
   "execution_count": 15,
   "metadata": {},
   "outputs": [],
   "source": [
    "url = 'https://raw.githubusercontent.com/FabioScielzoOrtiz/Estadistica4all-blog/main/Linear%20Regression%20in%20Python%20and%20R/properties_data.csv'\n",
    "\n",
    "House_Price = pd.read_csv(url)"
   ]
  },
  {
   "cell_type": "code",
   "execution_count": 4,
   "metadata": {},
   "outputs": [],
   "source": [
    "def varcharProcessing(X, varchar_process = \"dummy_dropfirst\"):\n",
    "    \n",
    "    dtypes = X.dtypes\n",
    "\n",
    "    if varchar_process == \"drop\":   \n",
    "        X = X.drop(columns = dtypes[dtypes == np.object].index.tolist())\n",
    "\n",
    "    elif varchar_process == \"dummy\":\n",
    "        X = pd.get_dummies(X,drop_first=False)\n",
    "\n",
    "    elif varchar_process == \"dummy_dropfirst\":\n",
    "        X = pd.get_dummies(X,drop_first=True)\n",
    "\n",
    "    else: \n",
    "        X = pd.get_dummies(X,drop_first=True)\n",
    "    \n",
    "    X[\"intercept\"] = 1\n",
    "    cols = X.columns.tolist()\n",
    "    cols = cols[-1:] + cols[:-1]\n",
    "    X = X[cols]\n",
    "    \n",
    "    return X"
   ]
  },
  {
   "cell_type": "code",
   "execution_count": 19,
   "metadata": {},
   "outputs": [],
   "source": [
    "House_Price = House_Price.loc[: , (House_Price.columns != 'neighborhood') &  (House_Price.columns != 'id') ]"
   ]
  },
  {
   "cell_type": "code",
   "execution_count": 24,
   "metadata": {},
   "outputs": [],
   "source": [
    "House_Price = varcharProcessing(House_Price, varchar_process = \"dummy_dropfirst\")"
   ]
  },
  {
   "cell_type": "code",
   "execution_count": 25,
   "metadata": {},
   "outputs": [
    {
     "data": {
      "text/plain": [
       "intercept                int64\n",
       "latitude               float64\n",
       "longitude              float64\n",
       "price                    int64\n",
       "size_in_sqft             int64\n",
       "price_per_sqft         float64\n",
       "no_of_bedrooms           int64\n",
       "no_of_bathrooms          int64\n",
       "maid_room                 bool\n",
       "unfurnished               bool\n",
       "balcony                   bool\n",
       "barbecue_area             bool\n",
       "built_in_wardrobes        bool\n",
       "central_ac                bool\n",
       "childrens_play_area       bool\n",
       "childrens_pool            bool\n",
       "concierge                 bool\n",
       "covered_parking           bool\n",
       "kitchen_appliances        bool\n",
       "lobby_in_building         bool\n",
       "maid_service              bool\n",
       "networked                 bool\n",
       "pets_allowed              bool\n",
       "private_garden            bool\n",
       "private_gym               bool\n",
       "private_jacuzzi           bool\n",
       "private_pool              bool\n",
       "security                  bool\n",
       "shared_gym                bool\n",
       "shared_pool               bool\n",
       "shared_spa                bool\n",
       "study                     bool\n",
       "vastu_compliant           bool\n",
       "view_of_landmark          bool\n",
       "view_of_water             bool\n",
       "walk_in_closet            bool\n",
       "quality_Low              uint8\n",
       "quality_Medium           uint8\n",
       "quality_Ultra            uint8\n",
       "dtype: object"
      ]
     },
     "execution_count": 25,
     "metadata": {},
     "output_type": "execute_result"
    }
   ],
   "source": [
    "House_Price.dtypes"
   ]
  },
  {
   "cell_type": "code",
   "execution_count": 27,
   "metadata": {},
   "outputs": [],
   "source": [
    "model = LinearRegression().fit(House_Price.loc[: , House_Price.columns != 'price' ], House_Price.loc[: , House_Price.columns == 'price' ])"
   ]
  },
  {
   "cell_type": "markdown",
   "metadata": {},
   "source": []
  },
  {
   "cell_type": "code",
   "execution_count": 49,
   "metadata": {},
   "outputs": [
    {
     "data": {
      "text/plain": [
       "0.16666666666666666"
      ]
     },
     "execution_count": 49,
     "metadata": {},
     "output_type": "execute_result"
    }
   ],
   "source": [
    "1/6"
   ]
  },
  {
   "cell_type": "code",
   "execution_count": 30,
   "metadata": {},
   "outputs": [],
   "source": [
    "from sklearn.linear_model import LinearRegression"
   ]
  },
  {
   "cell_type": "code",
   "execution_count": 71,
   "metadata": {},
   "outputs": [],
   "source": [
    "def Repeted_K_10_Fold_CV( Data, response_name , K , n_iter ):\n",
    "\n",
    "\n",
    "    from sklearn.utils import resample\n",
    "\n",
    "    ECM_Repeted_K_Folds_vector = []\n",
    "\n",
    "\n",
    "    for iter in range(0, n_iter):\n",
    "\n",
    "        sample = resample(range(0, len(Data)), n_samples=len(Data), replace=False, random_state=iter)\n",
    "\n",
    "        df_sample = pd.DataFrame({'index': range(0,len(Data)) , 'sample':sample})\n",
    "\n",
    "        \n",
    "        limites = []\n",
    "\n",
    "        \n",
    "        for q in np.arange(0 , 1 + 1/K , 1/K):\n",
    "\n",
    "            limites.append( np.quantile( range(0, len(Data)) , q ).round(0) )\n",
    "\n",
    "\n",
    "\n",
    "        ECM_K_FOLDS_vector = []\n",
    "\n",
    "        for j in range(1, len(limites)-1):\n",
    "\n",
    "            X_test = Data.loc[df_sample.loc[limites[j]:limites[j+1], 'sample'] , Data.columns != response_name ] \n",
    "            Y_test = Data.loc[df_sample.loc[limites[j]:limites[j+1], 'sample'] , Data.columns == response_name ]\n",
    "\n",
    "            X_train = Data.loc[ : , Data.columns != response_name ].drop(df_sample.loc[limites[j]:limites[j+1], 'sample'] )\n",
    "            Y_train = Data.loc[ : ,  Data.columns == response_name ].drop(df_sample.loc[limites[j]:limites[j+1], 'sample'])\n",
    "\n",
    "            Y_test = Y_test.to_numpy()\n",
    "\n",
    "            model = LinearRegression().fit(X_train, Y_train)\n",
    "\n",
    "            ECM_K_FOLDS_vector.append( (( model.predict(X_test) - Y_test )**2 ).sum() / len(Y_test) )\n",
    "\n",
    "    \n",
    "        ECM_Repeted_K_Folds_vector.append( np.array(ECM_K_FOLDS_vector).mean() )\n",
    "\n",
    "\n",
    "    \n",
    "    ECM_Repeted_K_Folds = np.array( ECM_Repeted_K_Folds_vector ).mean()\n",
    "    \n",
    "    return(ECM_Repeted_K_Folds_vector , ECM_Repeted_K_Folds)"
   ]
  },
  {
   "cell_type": "code",
   "execution_count": 75,
   "metadata": {},
   "outputs": [],
   "source": [
    "ECM_Repeted_K_Folds_vector , ECM_Repeted_K_Folds = Repeted_K_10_Fold_CV( Data=House_Price , response_name='price' , K=10 , n_iter=50 )"
   ]
  },
  {
   "cell_type": "code",
   "execution_count": 76,
   "metadata": {},
   "outputs": [
    {
     "data": {
      "text/plain": [
       "867229286465.9777"
      ]
     },
     "execution_count": 76,
     "metadata": {},
     "output_type": "execute_result"
    }
   ],
   "source": [
    "ECM_Repeted_K_Folds"
   ]
  }
 ],
 "metadata": {
  "kernelspec": {
   "display_name": "Python 3.10.0 64-bit",
   "language": "python",
   "name": "python3"
  },
  "language_info": {
   "codemirror_mode": {
    "name": "ipython",
    "version": 3
   },
   "file_extension": ".py",
   "mimetype": "text/x-python",
   "name": "python",
   "nbconvert_exporter": "python",
   "pygments_lexer": "ipython3",
   "version": "3.10.0"
  },
  "orig_nbformat": 4,
  "vscode": {
   "interpreter": {
    "hash": "c63d8c7d738c2960218a10995aedf0a7f67a49a231e71037adf0440953cdb45b"
   }
  }
 },
 "nbformat": 4,
 "nbformat_minor": 2
}
