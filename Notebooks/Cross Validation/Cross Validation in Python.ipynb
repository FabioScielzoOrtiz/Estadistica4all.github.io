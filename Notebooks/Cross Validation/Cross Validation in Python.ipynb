{
 "cells": [
  {
   "attachments": {},
   "cell_type": "markdown",
   "metadata": {},
   "source": [
    "# Cross Validation in `Python`."
   ]
  },
  {
   "cell_type": "code",
   "execution_count": 1,
   "metadata": {},
   "outputs": [],
   "source": [
    "import warnings\n",
    "warnings.filterwarnings(\"ignore\")"
   ]
  },
  {
   "cell_type": "code",
   "execution_count": 2,
   "metadata": {},
   "outputs": [],
   "source": [
    "import pandas as pd\n",
    "import numpy as np\n",
    "import math\n",
    "import sklearn\n",
    "\n",
    "from sklearn.utils import resample\n",
    "from sklearn.neighbors import NearestNeighbors"
   ]
  },
  {
   "cell_type": "code",
   "execution_count": 3,
   "metadata": {},
   "outputs": [
    {
     "data": {
      "text/html": [
       "<div>\n",
       "<style scoped>\n",
       "    .dataframe tbody tr th:only-of-type {\n",
       "        vertical-align: middle;\n",
       "    }\n",
       "\n",
       "    .dataframe tbody tr th {\n",
       "        vertical-align: top;\n",
       "    }\n",
       "\n",
       "    .dataframe thead th {\n",
       "        text-align: right;\n",
       "    }\n",
       "</style>\n",
       "<table border=\"1\" class=\"dataframe\">\n",
       "  <thead>\n",
       "    <tr style=\"text-align: right;\">\n",
       "      <th></th>\n",
       "      <th>latitude</th>\n",
       "      <th>longitude</th>\n",
       "      <th>price</th>\n",
       "      <th>size_in_m_2</th>\n",
       "      <th>balcony_recode</th>\n",
       "      <th>private_garden_recode</th>\n",
       "      <th>quality_recode</th>\n",
       "    </tr>\n",
       "  </thead>\n",
       "  <tbody>\n",
       "    <tr>\n",
       "      <th>0</th>\n",
       "      <td>25.113208</td>\n",
       "      <td>55.138932</td>\n",
       "      <td>2700000</td>\n",
       "      <td>100.242337</td>\n",
       "      <td>1.0</td>\n",
       "      <td>0.0</td>\n",
       "      <td>2.0</td>\n",
       "    </tr>\n",
       "    <tr>\n",
       "      <th>1</th>\n",
       "      <td>25.106809</td>\n",
       "      <td>55.151201</td>\n",
       "      <td>2850000</td>\n",
       "      <td>146.972546</td>\n",
       "      <td>1.0</td>\n",
       "      <td>0.0</td>\n",
       "      <td>2.0</td>\n",
       "    </tr>\n",
       "    <tr>\n",
       "      <th>2</th>\n",
       "      <td>25.063302</td>\n",
       "      <td>55.137728</td>\n",
       "      <td>1150000</td>\n",
       "      <td>181.253753</td>\n",
       "      <td>1.0</td>\n",
       "      <td>0.0</td>\n",
       "      <td>2.0</td>\n",
       "    </tr>\n",
       "    <tr>\n",
       "      <th>3</th>\n",
       "      <td>25.227295</td>\n",
       "      <td>55.341761</td>\n",
       "      <td>2850000</td>\n",
       "      <td>187.664060</td>\n",
       "      <td>1.0</td>\n",
       "      <td>0.0</td>\n",
       "      <td>1.0</td>\n",
       "    </tr>\n",
       "    <tr>\n",
       "      <th>4</th>\n",
       "      <td>25.114275</td>\n",
       "      <td>55.139764</td>\n",
       "      <td>1729200</td>\n",
       "      <td>47.101821</td>\n",
       "      <td>0.0</td>\n",
       "      <td>0.0</td>\n",
       "      <td>2.0</td>\n",
       "    </tr>\n",
       "  </tbody>\n",
       "</table>\n",
       "</div>"
      ],
      "text/plain": [
       "    latitude  longitude    price  size_in_m_2  balcony_recode  \\\n",
       "0  25.113208  55.138932  2700000   100.242337             1.0   \n",
       "1  25.106809  55.151201  2850000   146.972546             1.0   \n",
       "2  25.063302  55.137728  1150000   181.253753             1.0   \n",
       "3  25.227295  55.341761  2850000   187.664060             1.0   \n",
       "4  25.114275  55.139764  1729200    47.101821             0.0   \n",
       "\n",
       "   private_garden_recode  quality_recode  \n",
       "0                    0.0             2.0  \n",
       "1                    0.0             2.0  \n",
       "2                    0.0             2.0  \n",
       "3                    0.0             1.0  \n",
       "4                    0.0             2.0  "
      ]
     },
     "execution_count": 3,
     "metadata": {},
     "output_type": "execute_result"
    }
   ],
   "source": [
    "Data = pd.read_csv('House_Price_Regression.csv')\n",
    "\n",
    "Data = Data.loc[:, ['latitude', 'longitude', 'price', 'size_in_m_2', 'balcony_recode', 'private_garden_recode', 'quality_recode']]\n",
    "\n",
    "Data.head()"
   ]
  },
  {
   "cell_type": "markdown",
   "metadata": {},
   "source": []
  },
  {
   "cell_type": "markdown",
   "metadata": {},
   "source": [
    "## Not random simple validation"
   ]
  },
  {
   "cell_type": "code",
   "execution_count": 4,
   "metadata": {},
   "outputs": [],
   "source": [
    "def simple_validation_not_random(D, k, response, metric, model):\n",
    "\n",
    "    # D --> have to be a pandas data frame.\n",
    "\n",
    "    # k --> is the proportion of observation of D that define D_train.\n",
    "\n",
    "    # response --> have to be a string with the name of the response variable.\n",
    "\n",
    "    N = len(D)\n",
    "\n",
    "    D_train = D.iloc[0:(math.floor(k*N)+1) , :]\n",
    "\n",
    "    D_test = D.iloc[(math.floor(k*N)+1):N , :]\n",
    "\n",
    "    X_train = D_train.loc[: , D_train.columns != response]\n",
    "    Y_train = D_train.loc[: , response]\n",
    "\n",
    "    X_test = D_test.loc[: , D_test.columns != response]\n",
    "    Y_test = D_test.loc[: , response]\n",
    "\n",
    "############################################################################\n",
    "\n",
    "    # Training the model wit train sample\n",
    "\n",
    "    model.fit(X_train, Y_train)\n",
    "\n",
    "    # Making predictions with test sample\n",
    "\n",
    "    Y_predict_test = model.predict( X_test )     \n",
    "\n",
    "############################################################################\n",
    "\n",
    " # Computing the test metric\n",
    "\n",
    "    if metric == 'ECM' :  \n",
    "        \n",
    "        ECM_test = np.mean( (Y_predict_test - Y_test)**2 )\n",
    "\n",
    "        return ECM_test\n",
    "\n",
    "    elif metric == 'TA' :  \n",
    "        \n",
    "        TA_test = np.mean( (Y_predict_test == Y_test) )\n",
    "\n",
    "        return TA_test"
   ]
  },
  {
   "cell_type": "code",
   "execution_count": 5,
   "metadata": {},
   "outputs": [],
   "source": [
    "knn_regression = sklearn.neighbors.KNeighborsRegressor(n_neighbors=10 ,  p=2, metric='minkowski')"
   ]
  },
  {
   "cell_type": "code",
   "execution_count": 6,
   "metadata": {},
   "outputs": [
    {
     "data": {
      "text/plain": [
       "2198758842331.1843"
      ]
     },
     "execution_count": 6,
     "metadata": {},
     "output_type": "execute_result"
    }
   ],
   "source": [
    "ECM_test  = simple_validation_not_random(D=Data, k=0.75, response='price', metric='ECM', model=knn_regression)\n",
    "\n",
    "ECM_test"
   ]
  },
  {
   "cell_type": "code",
   "execution_count": 7,
   "metadata": {},
   "outputs": [],
   "source": [
    "knn_classification = sklearn.neighbors.KNeighborsClassifier(n_neighbors=10 ,  p=2, metric='minkowski')"
   ]
  },
  {
   "cell_type": "code",
   "execution_count": 8,
   "metadata": {},
   "outputs": [
    {
     "data": {
      "text/plain": [
       "0.5651260504201681"
      ]
     },
     "execution_count": 8,
     "metadata": {},
     "output_type": "execute_result"
    }
   ],
   "source": [
    "TA_test  = simple_validation_not_random(D=Data, k=0.75, response='quality_recode', metric='TA', model=knn_classification)\n",
    "\n",
    "TA_test"
   ]
  },
  {
   "cell_type": "markdown",
   "metadata": {},
   "source": []
  },
  {
   "cell_type": "markdown",
   "metadata": {},
   "source": [
    "## Random simple validation"
   ]
  },
  {
   "cell_type": "code",
   "execution_count": 9,
   "metadata": {},
   "outputs": [],
   "source": [
    "def simple_validation_random(D, k, response, random_seed, metric, model):\n",
    "\n",
    "    # D --> have to be a pandas data frame.\n",
    "\n",
    "    # k --> is the proportion of observation of D that define D_train.\n",
    "\n",
    "    # response --> have to be a string with the name of the response variable.\n",
    "\n",
    "    # random_seed --> seed to replicate the random process\n",
    "\n",
    "    N = len(D)\n",
    "\n",
    "    D_train = D.sample(frac=k, replace=False, random_state=random_seed)\n",
    "\n",
    "    D_test = D.drop( D_train.index , )\n",
    "\n",
    "    X_train = D_train.loc[: , D_train.columns != response]\n",
    "    Y_train = D_train.loc[: , response]\n",
    "\n",
    "    X_test = D_test.loc[: , D_test.columns != response]\n",
    "    Y_test = D_test.loc[: , response]\n",
    "\n",
    "############################################################################\n",
    "\n",
    "    # Training the model wit train sample\n",
    "\n",
    "    model.fit(X_train, Y_train)\n",
    "\n",
    "    # Making predictions with test sample\n",
    "\n",
    "    Y_predict_test = model.predict( X_test ) \n",
    "\n",
    "####################################################################\n",
    "\n",
    " # Computing the test metric\n",
    "\n",
    "    if metric == 'ECM' :  \n",
    "        \n",
    "        ECM_test = np.mean( (Y_predict_test - Y_test)**2 )\n",
    "\n",
    "        return ECM_test\n",
    "\n",
    "    elif metric == 'TA' :  \n",
    "        \n",
    "        TA_test = np.mean( (Y_predict_test == Y_test) )\n",
    "\n",
    "        return TA_test"
   ]
  },
  {
   "cell_type": "code",
   "execution_count": 10,
   "metadata": {},
   "outputs": [],
   "source": [
    "knn_regression = sklearn.neighbors.KNeighborsRegressor(n_neighbors=10 ,  p=2, metric='minkowski')"
   ]
  },
  {
   "cell_type": "code",
   "execution_count": 11,
   "metadata": {},
   "outputs": [
    {
     "data": {
      "text/plain": [
       "2505043526308.227"
      ]
     },
     "execution_count": 11,
     "metadata": {},
     "output_type": "execute_result"
    }
   ],
   "source": [
    "ECM_test = simple_validation_random(D=Data, k=0.75, response='price', random_seed=123, metric='ECM', model=knn_regression)\n",
    "\n",
    "ECM_test"
   ]
  },
  {
   "cell_type": "code",
   "execution_count": 12,
   "metadata": {},
   "outputs": [],
   "source": [
    "knn_classification = sklearn.neighbors.KNeighborsClassifier(n_neighbors=10 ,  p=2, metric='minkowski')"
   ]
  },
  {
   "cell_type": "code",
   "execution_count": 13,
   "metadata": {},
   "outputs": [
    {
     "data": {
      "text/plain": [
       "0.5777310924369747"
      ]
     },
     "execution_count": 13,
     "metadata": {},
     "output_type": "execute_result"
    }
   ],
   "source": [
    "TA_test = simple_validation_random(D=Data, k=0.75, response='quality_recode', random_seed=123, metric='TA', model =knn_classification)\n",
    "\n",
    "TA_test"
   ]
  },
  {
   "cell_type": "markdown",
   "metadata": {},
   "source": []
  },
  {
   "cell_type": "markdown",
   "metadata": {},
   "source": [
    "## Repeted random simple validation"
   ]
  },
  {
   "cell_type": "code",
   "execution_count": 14,
   "metadata": {},
   "outputs": [],
   "source": [
    "def repeated_random_simple_validation(D, k, B, response, random_seed, metric, model):\n",
    "\n",
    "    # D --> have to be a pandas data frame.\n",
    "\n",
    "    # k --> is the proportion of observation of D that define D_train.\n",
    "\n",
    "    # B --> number of replications of the random simple validation algorithm\n",
    "\n",
    "    # response --> have to be a string with the name of the response variable.\n",
    "\n",
    "    # random_seed --> seed to replicate the random process\n",
    "\n",
    "\n",
    "    np.random.seed(random_seed)\n",
    "\n",
    "    ECM_test_list , TA_test_list = [ ] , [ ]\n",
    "\n",
    "    seed_array = np.random.randint(9999999, size=(B))\n",
    "\n",
    "\n",
    "    if metric == 'ECM':\n",
    "\n",
    "        for b in range(0,B) :\n",
    "\n",
    "            ECM_test_list.append( simple_validation_random(D, k, response, random_seed=seed_array[b], metric=metric, model=model) )\n",
    "\n",
    "\n",
    "        ECM_test = np.mean(ECM_test_list)    \n",
    "\n",
    "        return ECM_test \n",
    "\n",
    "\n",
    "    elif metric == 'TA':\n",
    "\n",
    "        for b in range(0,B) :\n",
    "\n",
    "            TA_test_list.append( simple_validation_random(D, k, response, random_seed=seed_array[b], metric=metric, model=model) )\n",
    "\n",
    "\n",
    "        TA_test = np.mean(TA_test_list)    \n",
    "\n",
    "        return TA_test "
   ]
  },
  {
   "cell_type": "code",
   "execution_count": 15,
   "metadata": {},
   "outputs": [],
   "source": [
    "knn_regression = sklearn.neighbors.KNeighborsRegressor(n_neighbors=10 ,  p=2, metric='minkowski')"
   ]
  },
  {
   "cell_type": "code",
   "execution_count": 16,
   "metadata": {},
   "outputs": [],
   "source": [
    "ECM_test = repeated_random_simple_validation(D=Data, k=0.75, B=1000, response='price', random_seed=123, metric='ECM', model=knn_regression)"
   ]
  },
  {
   "cell_type": "markdown",
   "metadata": {},
   "source": [
    "Time: 14.4seg"
   ]
  },
  {
   "cell_type": "code",
   "execution_count": 17,
   "metadata": {},
   "outputs": [
    {
     "data": {
      "text/plain": [
       "2306416584216.64"
      ]
     },
     "execution_count": 17,
     "metadata": {},
     "output_type": "execute_result"
    }
   ],
   "source": [
    "ECM_test"
   ]
  },
  {
   "cell_type": "code",
   "execution_count": 18,
   "metadata": {},
   "outputs": [],
   "source": [
    "knn_classification = sklearn.neighbors.KNeighborsClassifier(n_neighbors=10 ,  p=2, metric='minkowski')"
   ]
  },
  {
   "cell_type": "code",
   "execution_count": 19,
   "metadata": {},
   "outputs": [],
   "source": [
    "TA_test = repeated_random_simple_validation(D=Data, k=0.75, B=1000, response='quality_recode', random_seed=123, metric='TA', model=knn_classification)"
   ]
  },
  {
   "cell_type": "markdown",
   "metadata": {},
   "source": [
    "Time: 43 seg"
   ]
  },
  {
   "cell_type": "code",
   "execution_count": 20,
   "metadata": {},
   "outputs": [
    {
     "data": {
      "text/plain": [
       "0.5519558823529411"
      ]
     },
     "execution_count": 20,
     "metadata": {},
     "output_type": "execute_result"
    }
   ],
   "source": [
    "TA_test"
   ]
  },
  {
   "cell_type": "markdown",
   "metadata": {},
   "source": []
  },
  {
   "cell_type": "markdown",
   "metadata": {},
   "source": [
    "## Leave one out"
   ]
  },
  {
   "cell_type": "code",
   "execution_count": 21,
   "metadata": {},
   "outputs": [],
   "source": [
    "def leave_one_out_validation(D, response, metric, model):\n",
    "\n",
    "    # D --> have to be a pandas data frame.\n",
    "\n",
    "    # k --> is the proportion of observation of D that define D_train.\n",
    "\n",
    "    # response --> have to be a string with the name of the response variable.\n",
    "\n",
    "    ECM_test_list , TA_test_list = [ ] , [ ]\n",
    "\n",
    "    N = len(D)\n",
    "\n",
    "    for r in range(0,N):\n",
    "\n",
    "        D_test = D.iloc[r,:]\n",
    "        D_train = D.drop( r , )\n",
    "\n",
    "        X_train = D_train.loc[: , D_train.columns != response]\n",
    "        Y_train = D_train.loc[: , response]\n",
    "\n",
    "        X_test = D_test.loc[D_test.index != response]\n",
    "        Y_test = D_test.loc[response]\n",
    "\n",
    "############################################################################\n",
    "\n",
    "        # Training the model wit train sample\n",
    "\n",
    "        model.fit(X_train, Y_train)\n",
    "\n",
    "        # Making predictions with test sample\n",
    "\n",
    "        Y_predict_test = model.predict( pd.DataFrame([X_test]) ) \n",
    "        \n",
    "############################################################################\n",
    "\n",
    "        if metric == 'ECM' :  ECM_test_list.append( np.mean( (Y_predict_test - Y_test)**2 ) )\n",
    "    \n",
    "        elif metric == 'TA' :  TA_test_list.append( np.mean( (Y_predict_test == Y_test ) ) )\n",
    "\n",
    "############################################################################\n",
    "        \n",
    "    if metric == 'ECM' : \n",
    "        \n",
    "        ECM_test = np.mean(ECM_test_list)\n",
    "\n",
    "        return ECM_test\n",
    "\n",
    "\n",
    "    elif metric == 'TA' :\n",
    "\n",
    "        TA_test = np.mean(TA_test_list)\n",
    "\n",
    "        return TA_test\n"
   ]
  },
  {
   "cell_type": "code",
   "execution_count": 22,
   "metadata": {},
   "outputs": [],
   "source": [
    "knn_regression = sklearn.neighbors.KNeighborsRegressor(n_neighbors=10 ,  p=2, metric='minkowski')"
   ]
  },
  {
   "cell_type": "code",
   "execution_count": 23,
   "metadata": {},
   "outputs": [],
   "source": [
    "ECM_test = leave_one_out_validation(D=Data, response='price', metric='ECM', model=knn_regression)"
   ]
  },
  {
   "cell_type": "markdown",
   "metadata": {},
   "source": [
    "Time: 24seg"
   ]
  },
  {
   "cell_type": "code",
   "execution_count": 24,
   "metadata": {},
   "outputs": [
    {
     "data": {
      "text/plain": [
       "2284557265816.7"
      ]
     },
     "execution_count": 24,
     "metadata": {},
     "output_type": "execute_result"
    }
   ],
   "source": [
    "ECM_test"
   ]
  },
  {
   "cell_type": "code",
   "execution_count": 25,
   "metadata": {},
   "outputs": [],
   "source": [
    "knn_classification = sklearn.neighbors.KNeighborsClassifier(n_neighbors=10 ,  p=2, metric='minkowski')"
   ]
  },
  {
   "cell_type": "code",
   "execution_count": 26,
   "metadata": {},
   "outputs": [
    {
     "data": {
      "text/plain": [
       "0.5511811023622047"
      ]
     },
     "execution_count": 26,
     "metadata": {},
     "output_type": "execute_result"
    }
   ],
   "source": [
    "TA_test = leave_one_out_validation(D=Data, response='quality_recode', metric='TA', model=knn_classification)\n",
    "\n",
    "TA_test"
   ]
  },
  {
   "cell_type": "markdown",
   "metadata": {},
   "source": [
    "Time: 26seg"
   ]
  },
  {
   "cell_type": "markdown",
   "metadata": {},
   "source": []
  },
  {
   "cell_type": "markdown",
   "metadata": {},
   "source": [
    "# K Folds"
   ]
  },
  {
   "cell_type": "code",
   "execution_count": 27,
   "metadata": {},
   "outputs": [],
   "source": [
    "def K_Fold_CV(D, K, response, random_seed, metric, model):\n",
    "\n",
    "    ECM_K_FOLDS_vector , TA_K_FOLDS_vector = [] , []\n",
    "\n",
    "    np.random.seed(random_seed)\n",
    "\n",
    "    sample = resample(range(0, len(D)), n_samples=len(D), replace=False)\n",
    "\n",
    "    df_sample = pd.DataFrame({'index': range(0,len(D)) , 'sample':sample})\n",
    "\n",
    "    Q = []\n",
    "\n",
    "    for q in np.arange(0 , 1 + 1/K , 1/K):\n",
    "\n",
    "        Q.append( np.quantile( range(0, len(D)) , q ).round(0) )\n",
    "\n",
    "\n",
    "    for j in range(0, len(Q)-1):\n",
    "\n",
    "            X_test = D.loc[df_sample.loc[Q[j]:(math.floor(Q[j+1])-1), 'sample'] , D.columns != response ] \n",
    "            Y_test = D.loc[df_sample.loc[Q[j]:(math.floor(Q[j+1])-1), 'sample'] , D.columns == response ]\n",
    "\n",
    "            X_train = D.loc[ : , D.columns != response ].drop(df_sample.loc[Q[j]:(math.floor(Q[j+1])-1), 'sample'] )\n",
    "            Y_train = D.loc[ : ,  D.columns == response ].drop(df_sample.loc[Q[j]:(math.floor(Q[j+1])-1), 'sample'])\n",
    "            \n",
    "            Y_test = Y_test.to_numpy()\n",
    "\n",
    "           #########################################################################\n",
    "\n",
    "            if model == 'knn_regression' :\n",
    "\n",
    "              # Training the model wit train sample\n",
    "\n",
    "                knn_regression.fit(X_train, Y_train)\n",
    "\n",
    "\n",
    "               # Making predictions with test sample\n",
    "\n",
    "                Y_predict_test = knn_regression.predict( X_test ) \n",
    "\n",
    "    \n",
    "            elif model == 'knn_classification' :\n",
    "\n",
    "               # Training the model wit train sample\n",
    "\n",
    "                knn_classification.fit(X_train, Y_train)\n",
    "\n",
    "\n",
    "               # Making predictions with test sample\n",
    "\n",
    "                Y_predict_test = knn_classification.predict( X_test )  \n",
    "\n",
    "            #########################################################################\n",
    "\n",
    "            if metric == 'ECM' :  ECM_K_FOLDS_vector.append( np.mean( ( Y_predict_test - Y_test )**2 ) )\n",
    "\n",
    "            elif metric == 'TA' :  TA_K_FOLDS_vector.append( np.mean( ( Y_predict_test == Y_test ) ) )\n",
    "\n",
    "##################################################################################################################################################\n",
    "\n",
    "    if metric == 'ECM' :\n",
    "\n",
    "        ECM_K_Folds = np.mean(ECM_K_FOLDS_vector)\n",
    "    \n",
    "        return  ECM_K_Folds\n",
    "\n",
    "    \n",
    "    elif metric == 'TA' :\n",
    "\n",
    "        TA_K_Folds = np.mean(TA_K_FOLDS_vector)\n",
    "    \n",
    "        return  TA_K_Folds"
   ]
  },
  {
   "cell_type": "code",
   "execution_count": 28,
   "metadata": {},
   "outputs": [],
   "source": [
    "knn_regression = sklearn.neighbors.KNeighborsRegressor(n_neighbors=10 ,  p=2, metric='minkowski')"
   ]
  },
  {
   "cell_type": "code",
   "execution_count": 29,
   "metadata": {},
   "outputs": [],
   "source": [
    "ECM_K_Folds = K_Fold_CV(D=Data, response='price', K=10, random_seed=123, metric='ECM', model='knn_regression')"
   ]
  },
  {
   "cell_type": "markdown",
   "metadata": {},
   "source": [
    "Time: 0.3seg"
   ]
  },
  {
   "cell_type": "code",
   "execution_count": 30,
   "metadata": {},
   "outputs": [
    {
     "data": {
      "text/plain": [
       "2234798522449.1147"
      ]
     },
     "execution_count": 30,
     "metadata": {},
     "output_type": "execute_result"
    }
   ],
   "source": [
    "ECM_K_Folds"
   ]
  },
  {
   "cell_type": "code",
   "execution_count": 31,
   "metadata": {},
   "outputs": [],
   "source": [
    "knn_classification = sklearn.neighbors.KNeighborsClassifier(n_neighbors=10 ,  p=2, metric='minkowski')"
   ]
  },
  {
   "cell_type": "code",
   "execution_count": 32,
   "metadata": {},
   "outputs": [
    {
     "data": {
      "text/plain": [
       "0.5366807546993878"
      ]
     },
     "execution_count": 32,
     "metadata": {},
     "output_type": "execute_result"
    }
   ],
   "source": [
    "TA_K_Folds = K_Fold_CV(D=Data, response='quality_recode', K=10, random_seed=123, metric='TA', model='knn_classification')\n",
    "\n",
    "TA_K_Folds"
   ]
  },
  {
   "cell_type": "markdown",
   "metadata": {},
   "source": [
    "Time: 0.5 seg"
   ]
  },
  {
   "cell_type": "markdown",
   "metadata": {},
   "source": []
  },
  {
   "cell_type": "markdown",
   "metadata": {},
   "source": [
    "## Repeted k-folds"
   ]
  },
  {
   "cell_type": "code",
   "execution_count": 33,
   "metadata": {},
   "outputs": [],
   "source": [
    "def repeated_K_Fold_CV(D, B, K, response, random_seed, metric, model):\n",
    "\n",
    "\n",
    "    ECM_Repeted_K_Folds_vector , TA_Repeted_K_Folds_vector = [] , []\n",
    "\n",
    "    np.random.seed(random_seed)\n",
    "\n",
    "\n",
    "    for b in range(0, B):\n",
    "\n",
    "        sample = resample(range(0, len(D)), n_samples=len(D), replace=False)\n",
    "\n",
    "        df_sample = pd.DataFrame({'index': range(0,len(D)) , 'sample':sample})\n",
    "\n",
    "        \n",
    "        Q = []\n",
    "\n",
    "        \n",
    "        for q in np.arange(0 , 1 + 1/K , 1/K):\n",
    "\n",
    "            Q.append( np.quantile( range(0, len(D)) , q ).round(0) )\n",
    "\n",
    "\n",
    "\n",
    "        ECM_K_FOLDS_vector , TA_K_FOLDS_vector = [] , []\n",
    "\n",
    "        for j in range(0, len(Q)-1):\n",
    "\n",
    "            X_test = D.loc[df_sample.loc[Q[j]:(math.floor(Q[j+1])-1), 'sample'] , D.columns != response ] \n",
    "            Y_test = D.loc[df_sample.loc[Q[j]:(math.floor(Q[j+1])-1), 'sample'] , D.columns == response ]\n",
    "\n",
    "            X_train = D.loc[ : , D.columns != response ].drop(df_sample.loc[Q[j]:(math.floor(Q[j+1])-1), 'sample'] )\n",
    "            Y_train = D.loc[ : ,  D.columns == response ].drop(df_sample.loc[Q[j]:(math.floor(Q[j+1])-1), 'sample'])      \n",
    "\n",
    "            Y_test = Y_test.to_numpy()\n",
    "\n",
    "        #######################################################################\n",
    "            \n",
    "            if model == 'knn_regression' :\n",
    "\n",
    "              # Training the model wit train sample\n",
    "\n",
    "                knn_regression.fit(X_train, Y_train)\n",
    "\n",
    "\n",
    "               # Making predictions with test sample\n",
    "\n",
    "                Y_predict_test = knn_regression.predict( X_test ) \n",
    "\n",
    "    \n",
    "            elif model == 'knn_classification' :\n",
    "\n",
    "               # Training the model wit train sample\n",
    "\n",
    "                knn_classification.fit(X_train, Y_train)\n",
    "\n",
    "\n",
    "               # Making predictions with test sample\n",
    "\n",
    "                Y_predict_test = knn_classification.predict( X_test )  \n",
    "\n",
    "        #######################################################################\n",
    "\n",
    "            if metric == 'ECM' :  ECM_K_FOLDS_vector.append( np.mean( ( Y_predict_test - Y_test )**2 ) )\n",
    "\n",
    "            elif metric == 'TA' :  TA_K_FOLDS_vector.append( np.mean( ( Y_predict_test == Y_test ) ) )\n",
    "\n",
    "        #######################################################################\n",
    "    \n",
    "        if metric == 'ECM' : ECM_Repeted_K_Folds_vector.append( np.mean(ECM_K_FOLDS_vector) )\n",
    "\n",
    "        elif metric == 'TA' : TA_Repeted_K_Folds_vector.append( np.mean(TA_K_FOLDS_vector) )\n",
    "\n",
    "##########################################################################################################################\n",
    "\n",
    "    if metric == 'ECM' :\n",
    "        \n",
    "        ECM_Repeted_K_Folds = np.mean(ECM_Repeted_K_Folds_vector)\n",
    "\n",
    "        return  ECM_Repeted_K_Folds\n",
    "        \n",
    "\n",
    "    elif metric == 'TA' :\n",
    "        \n",
    "        TA_Repeted_K_Folds = np.mean(TA_Repeted_K_Folds_vector)\n",
    "\n",
    "        return  TA_Repeted_K_Folds\n",
    "    \n",
    "    "
   ]
  },
  {
   "cell_type": "code",
   "execution_count": 34,
   "metadata": {},
   "outputs": [],
   "source": [
    "knn_regression = sklearn.neighbors.KNeighborsRegressor(n_neighbors=10 ,  p=2, metric='minkowski')"
   ]
  },
  {
   "cell_type": "code",
   "execution_count": 35,
   "metadata": {},
   "outputs": [],
   "source": [
    "ECM_repeated_K_Folds = repeated_K_Fold_CV(D=Data, response='price', K=10, B=100, random_seed=123, metric='ECM', model='knn_regression')"
   ]
  },
  {
   "cell_type": "markdown",
   "metadata": {},
   "source": [
    "Time: 19seg"
   ]
  },
  {
   "cell_type": "code",
   "execution_count": 36,
   "metadata": {},
   "outputs": [
    {
     "data": {
      "text/plain": [
       "2279041727691.3813"
      ]
     },
     "execution_count": 36,
     "metadata": {},
     "output_type": "execute_result"
    }
   ],
   "source": [
    "ECM_repeated_K_Folds"
   ]
  },
  {
   "cell_type": "code",
   "execution_count": 37,
   "metadata": {},
   "outputs": [],
   "source": [
    "knn_classification = sklearn.neighbors.KNeighborsClassifier(n_neighbors=10 ,  p=2, metric='minkowski')"
   ]
  },
  {
   "cell_type": "code",
   "execution_count": 38,
   "metadata": {},
   "outputs": [],
   "source": [
    "TA_repeated_K_Folds = repeated_K_Fold_CV(D=Data, response='quality_recode', K=10, B=100, random_seed=123, metric='TA', model='knn_classification')"
   ]
  },
  {
   "cell_type": "markdown",
   "metadata": {},
   "source": [
    "Time:30seg"
   ]
  },
  {
   "cell_type": "code",
   "execution_count": 39,
   "metadata": {},
   "outputs": [
    {
     "data": {
      "text/plain": [
       "0.5372861131666384"
      ]
     },
     "execution_count": 39,
     "metadata": {},
     "output_type": "execute_result"
    }
   ],
   "source": [
    "TA_repeated_K_Folds"
   ]
  },
  {
   "cell_type": "markdown",
   "metadata": {},
   "source": []
  },
  {
   "cell_type": "markdown",
   "metadata": {},
   "source": []
  }
 ],
 "metadata": {
  "kernelspec": {
   "display_name": "Python 3",
   "language": "python",
   "name": "python3"
  },
  "language_info": {
   "codemirror_mode": {
    "name": "ipython",
    "version": 3
   },
   "file_extension": ".py",
   "mimetype": "text/x-python",
   "name": "python",
   "nbconvert_exporter": "python",
   "pygments_lexer": "ipython3",
   "version": "3.10.0 (tags/v3.10.0:b494f59, Oct  4 2021, 19:00:18) [MSC v.1929 64 bit (AMD64)]"
  },
  "vscode": {
   "interpreter": {
    "hash": "c63d8c7d738c2960218a10995aedf0a7f67a49a231e71037adf0440953cdb45b"
   }
  }
 },
 "nbformat": 4,
 "nbformat_minor": 2
}
