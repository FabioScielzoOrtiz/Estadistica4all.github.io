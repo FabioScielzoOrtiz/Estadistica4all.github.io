{
 "cells": [
  {
   "cell_type": "markdown",
   "metadata": {},
   "source": [
    "# k-medias"
   ]
  },
  {
   "cell_type": "code",
   "execution_count": 1,
   "metadata": {},
   "outputs": [],
   "source": [
    "import pandas as pd"
   ]
  },
  {
   "cell_type": "code",
   "execution_count": 2,
   "metadata": {},
   "outputs": [],
   "source": [
    "Data = pd.read_csv('House_Price_Regression.csv')"
   ]
  },
  {
   "cell_type": "code",
   "execution_count": 3,
   "metadata": {},
   "outputs": [
    {
     "data": {
      "text/html": [
       "<div>\n",
       "<style scoped>\n",
       "    .dataframe tbody tr th:only-of-type {\n",
       "        vertical-align: middle;\n",
       "    }\n",
       "\n",
       "    .dataframe tbody tr th {\n",
       "        vertical-align: top;\n",
       "    }\n",
       "\n",
       "    .dataframe thead th {\n",
       "        text-align: right;\n",
       "    }\n",
       "</style>\n",
       "<table border=\"1\" class=\"dataframe\">\n",
       "  <thead>\n",
       "    <tr style=\"text-align: right;\">\n",
       "      <th></th>\n",
       "      <th>latitude</th>\n",
       "      <th>longitude</th>\n",
       "      <th>price</th>\n",
       "      <th>size_in_m_2</th>\n",
       "    </tr>\n",
       "  </thead>\n",
       "  <tbody>\n",
       "    <tr>\n",
       "      <th>0</th>\n",
       "      <td>25.113208</td>\n",
       "      <td>55.138932</td>\n",
       "      <td>2700000</td>\n",
       "      <td>100.242337</td>\n",
       "    </tr>\n",
       "    <tr>\n",
       "      <th>1</th>\n",
       "      <td>25.106809</td>\n",
       "      <td>55.151201</td>\n",
       "      <td>2850000</td>\n",
       "      <td>146.972546</td>\n",
       "    </tr>\n",
       "    <tr>\n",
       "      <th>2</th>\n",
       "      <td>25.063302</td>\n",
       "      <td>55.137728</td>\n",
       "      <td>1150000</td>\n",
       "      <td>181.253753</td>\n",
       "    </tr>\n",
       "    <tr>\n",
       "      <th>3</th>\n",
       "      <td>25.227295</td>\n",
       "      <td>55.341761</td>\n",
       "      <td>2850000</td>\n",
       "      <td>187.664060</td>\n",
       "    </tr>\n",
       "    <tr>\n",
       "      <th>4</th>\n",
       "      <td>25.114275</td>\n",
       "      <td>55.139764</td>\n",
       "      <td>1729200</td>\n",
       "      <td>47.101821</td>\n",
       "    </tr>\n",
       "  </tbody>\n",
       "</table>\n",
       "</div>"
      ],
      "text/plain": [
       "    latitude  longitude    price  size_in_m_2\n",
       "0  25.113208  55.138932  2700000   100.242337\n",
       "1  25.106809  55.151201  2850000   146.972546\n",
       "2  25.063302  55.137728  1150000   181.253753\n",
       "3  25.227295  55.341761  2850000   187.664060\n",
       "4  25.114275  55.139764  1729200    47.101821"
      ]
     },
     "execution_count": 3,
     "metadata": {},
     "output_type": "execute_result"
    }
   ],
   "source": [
    "Data = Data.loc[:, ['latitude', 'longitude', 'price', 'size_in_m_2']]\n",
    "\n",
    "Data.head()"
   ]
  },
  {
   "cell_type": "code",
   "execution_count": 4,
   "metadata": {},
   "outputs": [],
   "source": [
    "from sklearn.utils import resample\n",
    "\n",
    "import numpy as np\n",
    "\n",
    "import math"
   ]
  },
  {
   "cell_type": "code",
   "execution_count": 5,
   "metadata": {},
   "outputs": [],
   "source": [
    "#Configuracion inicial aleatoria de los clusters:\n",
    "\n",
    "n=len(Data)\n",
    "\n",
    "k=4\n",
    "\n",
    "elementos_clusterizados = []\n",
    "\n",
    "m = resample(range(0, n), n_samples=math.floor(n/k) , replace=False, random_state=123)\n",
    "\n",
    "Cluster_0 = Data.loc[m,:]\n",
    "\n",
    "elementos_clusterizados.append(m)\n",
    "\n",
    "\n",
    "###################################################################################\n",
    "\n",
    "\n",
    "if k >= 2:\n",
    "\n",
    "# Si los elementos que quedan por clusterizar menos el tamaño de los clusters es menor que el propio tamaño de los clusters,\n",
    "#  se meten todos los elementos que quedan por clusterizar en un mimsmo cluster que será ademas el ultimo.\n",
    "\n",
    "\n",
    "    if len(np.delete(range(0,n), elementos_clusterizados)) - n/k  < n/k : \n",
    "\n",
    "        Cluster_1 = Data.loc[np.delete(range(0,n), elementos_clusterizados),:]\n",
    "\n",
    "        elementos_clusterizados.append(m)\n",
    "\n",
    "    else:\n",
    "\n",
    "        m = resample(np.delete(range(0,n), elementos_clusterizados), n_samples=math.floor(n/k) , replace=False, random_state=123)\n",
    "\n",
    "        Cluster_1 = Data.loc[m,:]\n",
    "\n",
    "        elementos_clusterizados.append(m)\n",
    "\n",
    "elif k < 2 :\n",
    "\n",
    "    pass\n",
    "\n",
    "###################################################################################\n",
    "\n",
    "if k >= 3:\n",
    "\n",
    "# Si los elementos que quedan por clusterizar menos el tamaño de los clusters es menor que el propio tamaño de los clusters,\n",
    "#  se meten todos los elementos que quedan por clusterizar en un mimsmo cluster que será ademas el ultimo.\n",
    "\n",
    "\n",
    "    if len(np.delete(range(0,n), elementos_clusterizados)) - n/k  < n/k : \n",
    "\n",
    "        Cluster_2 = Data.loc[np.delete(range(0,n), elementos_clusterizados),:]\n",
    "\n",
    "        elementos_clusterizados.append(m)\n",
    "\n",
    "    else:\n",
    "\n",
    "        m = resample(np.delete(range(0,n), elementos_clusterizados), n_samples=math.floor(n/k) , replace=False, random_state=123)\n",
    "\n",
    "        Cluster_2 = Data.loc[m,:]\n",
    "\n",
    "        elementos_clusterizados.append(m)\n",
    "\n",
    "elif k < 3 :\n",
    "\n",
    "    pass\n",
    "\n",
    "###################################################################################\n",
    "\n",
    "if k >= 4:\n",
    "\n",
    "# Si los elementos que quedan por clusterizar menos el tamaño de los clusters es menor que el propio tamaño de los clusters,\n",
    "#  se meten todos los elementos que quedan por clusterizar en un mimsmo cluster que será ademas el ultimo.\n",
    "\n",
    "\n",
    "    if len(np.delete(range(0,n), elementos_clusterizados)) - n/k  < n/k : \n",
    "\n",
    "        Cluster_3 = Data.loc[np.delete(range(0,n), elementos_clusterizados),:]\n",
    "\n",
    "        elementos_clusterizados.append(m)\n",
    "\n",
    "    else:\n",
    "\n",
    "        m = resample(np.delete(range(0,n), elementos_clusterizados), n_samples=math.floor(n/k) , replace=False, random_state=123)\n",
    "\n",
    "        Cluster_3 = Data.loc[m ,:]\n",
    "\n",
    "        elementos_clusterizados.append(m)\n",
    "\n",
    "elif k < 4 :\n",
    "\n",
    "    pass"
   ]
  },
  {
   "cell_type": "code",
   "execution_count": 6,
   "metadata": {},
   "outputs": [],
   "source": [
    "lista_clusters = [None] * 4\n",
    "\n",
    "lista_clusters[0] = Cluster_0\n",
    "lista_clusters[1] = Cluster_1\n",
    "lista_clusters[2] = Cluster_2\n",
    "lista_clusters[3] = Cluster_3"
   ]
  },
  {
   "cell_type": "code",
   "execution_count": 7,
   "metadata": {},
   "outputs": [],
   "source": [
    "# Calculo de centroides iniciales\n",
    "\n",
    "centroide_0 = lista_clusters[0].mean()\n",
    "centroide_1 = lista_clusters[1].mean()\n",
    "centroide_2 = lista_clusters[2].mean()\n",
    "centroide_3 = lista_clusters[3].mean()\n",
    "\n",
    "# Calculo de distancias Euclideas para la observacion x_1\n",
    "\n",
    "x_1 = Data.iloc[0,:]\n",
    "\n",
    "distancia_0 = sum((x_1 - centroide_0)**2)\n",
    "distancia_1 = sum((x_1 - centroide_1)**2)\n",
    "distancia_2 = sum((x_1 - centroide_2)**2)\n",
    "distancia_3 = sum((x_1 - centroide_3)**2)\n",
    "\n",
    "# Calculo de cluster optimo para x_1\n",
    "\n",
    "df_distancias = pd.DataFrame({'Distancias' : [distancia_0, distancia_1 , distancia_2 , distancia_3], 'Cluster': [0,1,2,3]})\n",
    "\n",
    "df_distancias_sort = df_distancias.sort_values(by='Distancias', ascending=False)\n",
    "\n",
    "j_star = df_distancias_sort.iloc[0]['Cluster']\n",
    "\n",
    "j_star = int(j_star)"
   ]
  },
  {
   "cell_type": "code",
   "execution_count": 8,
   "metadata": {},
   "outputs": [
    {
     "data": {
      "text/plain": [
       "2"
      ]
     },
     "execution_count": 8,
     "metadata": {},
     "output_type": "execute_result"
    }
   ],
   "source": [
    "j_star"
   ]
  },
  {
   "cell_type": "code",
   "execution_count": 9,
   "metadata": {},
   "outputs": [],
   "source": [
    "i_list = []\n",
    "i = 1\n",
    "\n",
    "while i <= n-2 :\n",
    "\n",
    "    for j in range(0, k) :\n",
    "\n",
    "\n",
    "        # Si x_i no esta en el cluster j --> pasamos a analizar otro cluster j\n",
    "\n",
    "        if sum(lista_clusters[j].index == i-1) ==  0 :\n",
    "\n",
    "            pass\n",
    "\n",
    "\n",
    "        # Si x_i esta en el cluster j y es el cluster optimo de x_i --> pasamos a x_i+1\n",
    "\n",
    "        if ( sum(lista_clusters[j].index == i-1) != 0 )  & ( j_star == j ) :\n",
    "\n",
    "            # Actualizamos i a i+1\n",
    "\n",
    "            i = i + 1\n",
    "\n",
    "            i_list.append(i)\n",
    "\n",
    "            # calculamos las distancias entre x_i+1 y los centroides\n",
    "\n",
    "            x_i = Data.iloc[ i ,:] # x_i+1\n",
    "\n",
    "            distancia_0 = sum((x_i - centroide_0)**2)\n",
    "            distancia_1 = sum((x_i - centroide_1)**2)\n",
    "            distancia_2 = sum((x_i - centroide_2)**2)\n",
    "            distancia_3 = sum((x_i - centroide_3)**2)\n",
    "\n",
    "\n",
    "            # Calculo de cluster optimo para x_1\n",
    "\n",
    "            df_distancias = pd.DataFrame({'Distancias' : [distancia_0 , distancia_1 , distancia_2, distancia_3], 'Cluster': [0,1,2,3]})\n",
    "\n",
    "            df_distancias_sort = df_distancias.sort_values(by='Distancias', ascending=False)\n",
    "\n",
    "            j_star = df_distancias_sort.iloc[0]['Cluster']\n",
    "\n",
    "            j_star = int(j_star)\n",
    "\n",
    "\n",
    "\n",
    "        # Si x_i esta en el cluster j pero ese no es el cluster optimo de x_i \n",
    "\n",
    "        if ( sum(lista_clusters[j].index == i-1) != 0 )  & ( j_star != j ) : \n",
    "\n",
    "            ## Actualizamos los clusters:\n",
    "\n",
    "            #Añadimos x_i al cluster j_star :\n",
    "\n",
    "            lista_clusters[j_star] = pd.concat( [ lista_clusters[j_star] , lista_clusters[j].loc[i-1,:].to_frame().T ]  )  \n",
    "\n",
    "            \n",
    "            # Eliminamos x_1 del cluster j :\n",
    "\n",
    "            lista_clusters[j] = lista_clusters[j].drop(i-1)   \n",
    "\n",
    "\n",
    "            # Recalculo de centroides para la nueva configuracion de clusters\n",
    "\n",
    "            centroide_0 = lista_clusters[0].mean()\n",
    "            centroide_1 = lista_clusters[1].mean()\n",
    "            centroide_2 = lista_clusters[2].mean()\n",
    "            centroide_3 = lista_clusters[3].mean()\n",
    "\n",
    "            # Recalculo de distancias de x_i respecto los centroides:\n",
    "\n",
    "            x_i = Data.iloc[i-1,:]\n",
    "\n",
    "            distancia_0 = sum((x_1 - centroide_0)**2)\n",
    "            distancia_1 = sum((x_1 - centroide_1)**2)\n",
    "            distancia_2 = sum((x_1 - centroide_2)**2)\n",
    "            distancia_3 = sum((x_1 - centroide_3)**2)\n"
   ]
  },
  {
   "cell_type": "code",
   "execution_count": 10,
   "metadata": {},
   "outputs": [
    {
     "data": {
      "text/plain": [
       "[       latitude  longitude       price  size_in_m_2\n",
       " 1004  25.087251  55.145574   2990000.0   162.208638\n",
       " 43    25.091487  55.172015   1150000.0   105.259099\n",
       " 1214  25.078367  55.140410   1650000.0   166.575079\n",
       " 351   25.111108  55.137591   1699000.0   124.304214\n",
       " 182   25.064767  55.138814    875000.0   123.282281\n",
       " ...         ...        ...         ...          ...\n",
       " 1871  25.099380  55.141275   1352888.0    69.212735\n",
       " 1877  25.072573  55.131009   1499000.0   175.029252\n",
       " 1879  25.203553  55.345554    890000.0    70.606280\n",
       " 1883  25.072569  55.126527   1970000.0    81.940446\n",
       " 1885  25.103972  55.149621  31440000.0   607.771426\n",
       " \n",
       " [517 rows x 4 columns],\n",
       "        latitude  longitude      price  size_in_m_2\n",
       " 1041  25.026191  55.156948   350000.0    35.117334\n",
       " 1282  25.198796  55.271342  2500000.0   168.804751\n",
       " 1476  25.081955  55.138863   690000.0    66.332742\n",
       " 1251  25.077150  55.135515  1550000.0   127.648722\n",
       " 1091  25.206412  55.275199  3950000.0   243.498763\n",
       " ...         ...        ...        ...          ...\n",
       " 1868  25.207533  55.277978  2300000.0   170.569908\n",
       " 1889  25.106668  55.149275  1400000.0   108.975219\n",
       " 1890  25.072954  55.128089  3800000.0   167.875721\n",
       " 1897  25.153080  55.254242   360000.0    55.741800\n",
       " 1901  25.166145  55.276684  1230000.0    70.606280\n",
       " \n",
       " [378 rows x 4 columns],\n",
       "        latitude  longitude      price  size_in_m_2\n",
       " 539   25.068729  55.139815   820000.0    59.457920\n",
       " 730   25.093469  55.173061  1220000.0   119.008743\n",
       " 1472  25.064191  55.216245   380000.0    63.081137\n",
       " 849   25.180869  55.271015   700000.0    66.239839\n",
       " 631   25.048095  55.206373   600205.0    74.786915\n",
       " ...         ...        ...        ...          ...\n",
       " 1573  25.078870  55.148529  1400000.0   157.006070\n",
       " 1857  25.078148  55.148277   400888.0    37.439909\n",
       " 1861  25.090987  55.385389   590000.0   101.635882\n",
       " 1864  25.081241  55.137946  2400000.0   171.127326\n",
       " 1865  25.209806  55.278974   795000.0    71.442407\n",
       " \n",
       " [499 rows x 4 columns],\n",
       "        latitude  longitude      price  size_in_m_2\n",
       " 393   25.104115  55.148470  3150000.0   152.825435\n",
       " 397   24.999981  55.293818   930888.0    86.399790\n",
       " 404   25.233787  55.294217  1642777.0    92.717194\n",
       " 407   25.233787  55.294217  1550000.0    91.973970\n",
       " 415   25.076944  55.134135  2950000.0   139.633209\n",
       " ...         ...        ...        ...          ...\n",
       " 1891  25.226946  55.343628  7000000.0   377.929404\n",
       " 1893  25.073590  55.126352  2000000.0    79.617871\n",
       " 1894  25.191107  55.269910   980888.0   101.078464\n",
       " 1898  25.104330  55.148769  2700000.0    99.963628\n",
       " 1899  25.037477  55.221942   550000.0    78.688841\n",
       " \n",
       " [511 rows x 4 columns]]"
      ]
     },
     "execution_count": 10,
     "metadata": {},
     "output_type": "execute_result"
    }
   ],
   "source": [
    "# Clusters finales\n",
    "\n",
    "lista_clusters"
   ]
  },
  {
   "cell_type": "code",
   "execution_count": 11,
   "metadata": {},
   "outputs": [
    {
     "data": {
      "text/plain": [
       "latitude       2.511612e+01\n",
       "longitude      5.521077e+01\n",
       "price          2.051995e+06\n",
       "size_in_m_2    1.297637e+02\n",
       "dtype: float64"
      ]
     },
     "execution_count": 11,
     "metadata": {},
     "output_type": "execute_result"
    }
   ],
   "source": [
    "lista_clusters[0].mean()"
   ]
  },
  {
   "cell_type": "code",
   "execution_count": 12,
   "metadata": {},
   "outputs": [
    {
     "data": {
      "text/plain": [
       "latitude       2.511925e+01\n",
       "longitude      5.521314e+01\n",
       "price          1.967974e+06\n",
       "size_in_m_2    1.280963e+02\n",
       "dtype: float64"
      ]
     },
     "execution_count": 12,
     "metadata": {},
     "output_type": "execute_result"
    }
   ],
   "source": [
    "lista_clusters[1].mean()"
   ]
  },
  {
   "cell_type": "code",
   "execution_count": 13,
   "metadata": {},
   "outputs": [
    {
     "data": {
      "text/plain": [
       "latitude       2.511636e+01\n",
       "longitude      5.521152e+01\n",
       "price          2.114565e+06\n",
       "size_in_m_2    1.346380e+02\n",
       "dtype: float64"
      ]
     },
     "execution_count": 13,
     "metadata": {},
     "output_type": "execute_result"
    }
   ],
   "source": [
    "lista_clusters[2].mean()"
   ]
  },
  {
   "cell_type": "code",
   "execution_count": 14,
   "metadata": {},
   "outputs": [
    {
     "data": {
      "text/plain": [
       "latitude       2.511513e+01\n",
       "longitude      5.521413e+01\n",
       "price          2.179182e+06\n",
       "size_in_m_2    1.332627e+02\n",
       "dtype: float64"
      ]
     },
     "execution_count": 14,
     "metadata": {},
     "output_type": "execute_result"
    }
   ],
   "source": [
    "lista_clusters[3].mean()"
   ]
  },
  {
   "cell_type": "markdown",
   "metadata": {},
   "source": []
  },
  {
   "cell_type": "markdown",
   "metadata": {},
   "source": []
  },
  {
   "cell_type": "markdown",
   "metadata": {},
   "source": [
    "# k-medoids"
   ]
  },
  {
   "cell_type": "code",
   "execution_count": 15,
   "metadata": {},
   "outputs": [],
   "source": [
    "#Configuracion inicial aleatoria de los clusters:\n",
    "\n",
    "n=len(Data)\n",
    "\n",
    "k=4\n",
    "\n",
    "elementos_clusterizados = []\n",
    "\n",
    "m = resample(range(0, n), n_samples=math.floor(n/k) , replace=False, random_state=123)\n",
    "\n",
    "Cluster_0 = Data.loc[m,:]\n",
    "\n",
    "elementos_clusterizados.append(m)\n",
    "\n",
    "\n",
    "###################################################################################\n",
    "\n",
    "\n",
    "if k >= 2:\n",
    "\n",
    "# Si los elementos que quedan por clusterizar menos el tamaño de los clusters es menor que el propio tamaño de los clusters,\n",
    "#  se meten todos los elementos que quedan por clusterizar en un mimsmo cluster que será ademas el ultimo.\n",
    "\n",
    "\n",
    "    if len(np.delete(range(0,n), elementos_clusterizados)) - n/k  < n/k : \n",
    "\n",
    "        Cluster_1 = Data.loc[np.delete(range(0,n), elementos_clusterizados),:]\n",
    "\n",
    "        elementos_clusterizados.append(m)\n",
    "\n",
    "    else:\n",
    "\n",
    "        m = resample(np.delete(range(0,n), elementos_clusterizados), n_samples=math.floor(n/k) , replace=False, random_state=123)\n",
    "\n",
    "        Cluster_1 = Data.loc[m,:]\n",
    "\n",
    "        elementos_clusterizados.append(m)\n",
    "\n",
    "elif k < 2 :\n",
    "\n",
    "    pass\n",
    "\n",
    "###################################################################################\n",
    "\n",
    "if k >= 3:\n",
    "\n",
    "# Si los elementos que quedan por clusterizar menos el tamaño de los clusters es menor que el propio tamaño de los clusters,\n",
    "#  se meten todos los elementos que quedan por clusterizar en un mimsmo cluster que será ademas el ultimo.\n",
    "\n",
    "\n",
    "    if len(np.delete(range(0,n), elementos_clusterizados)) - n/k  < n/k : \n",
    "\n",
    "        Cluster_2 = Data.loc[np.delete(range(0,n), elementos_clusterizados),:]\n",
    "\n",
    "        elementos_clusterizados.append(m)\n",
    "\n",
    "    else:\n",
    "\n",
    "        m = resample(np.delete(range(0,n), elementos_clusterizados), n_samples=math.floor(n/k) , replace=False, random_state=123)\n",
    "\n",
    "        Cluster_2 = Data.loc[m,:]\n",
    "\n",
    "        elementos_clusterizados.append(m)\n",
    "\n",
    "elif k < 3 :\n",
    "\n",
    "    pass\n",
    "\n",
    "###################################################################################\n",
    "\n",
    "if k >= 4:\n",
    "\n",
    "# Si los elementos que quedan por clusterizar menos el tamaño de los clusters es menor que el propio tamaño de los clusters,\n",
    "#  se meten todos los elementos que quedan por clusterizar en un mimsmo cluster que será ademas el ultimo.\n",
    "\n",
    "\n",
    "    if len(np.delete(range(0,n), elementos_clusterizados)) - n/k  < n/k : \n",
    "\n",
    "        Cluster_3 = Data.loc[np.delete(range(0,n), elementos_clusterizados),:]\n",
    "\n",
    "        elementos_clusterizados.append(m)\n",
    "\n",
    "    else:\n",
    "\n",
    "        m = resample(np.delete(range(0,n), elementos_clusterizados), n_samples=math.floor(n/k) , replace=False, random_state=123)\n",
    "\n",
    "        Cluster_3 = Data.loc[m ,:]\n",
    "\n",
    "        elementos_clusterizados.append(m)\n",
    "\n",
    "elif k < 4 :\n",
    "\n",
    "    pass"
   ]
  },
  {
   "cell_type": "code",
   "execution_count": 16,
   "metadata": {},
   "outputs": [],
   "source": [
    "lista_clusters = [None] * 4\n",
    "\n",
    "lista_clusters[0] = Cluster_0\n",
    "lista_clusters[1] = Cluster_1\n",
    "lista_clusters[2] = Cluster_2\n",
    "lista_clusters[3] = Cluster_3"
   ]
  },
  {
   "cell_type": "code",
   "execution_count": 17,
   "metadata": {},
   "outputs": [],
   "source": [
    "distancias_clusters_0 =  np.empty((len(lista_clusters[0]), len(lista_clusters[0])))\n",
    "\n",
    "distancias_clusters_0[:] = 0\n",
    "\n",
    "for i in range(0, len(lista_clusters[0])) :\n",
    "\n",
    "    for r in  range(0, len(lista_clusters[0])) :\n",
    "\n",
    "            distancias_clusters_0[i,r] = sum( (lista_clusters[0].iloc[i , :] - lista_clusters[0].iloc[r , :])**2 )\n"
   ]
  },
  {
   "cell_type": "code",
   "execution_count": 18,
   "metadata": {},
   "outputs": [],
   "source": [
    "# Calculamos la suma de la distancia entre x_i y el resto de observaciones, para cada i=1,..,n\n",
    "\n",
    "suma_distancias_cluster_0 = []\n",
    "\n",
    "for i in range(0, distancias_clusters_0.shape[0]):\n",
    "\n",
    "    suma_distancias_cluster_0.append( distancias_clusters_0[i,:].sum() )"
   ]
  },
  {
   "cell_type": "code",
   "execution_count": 19,
   "metadata": {},
   "outputs": [
    {
     "data": {
      "text/plain": [
       "4883106009973739.0"
      ]
     },
     "execution_count": 19,
     "metadata": {},
     "output_type": "execute_result"
    }
   ],
   "source": [
    "min( suma_distancias_cluster_0 )"
   ]
  },
  {
   "cell_type": "code",
   "execution_count": 20,
   "metadata": {},
   "outputs": [
    {
     "data": {
      "text/plain": [
       "(array([409], dtype=int64),)"
      ]
     },
     "execution_count": 20,
     "metadata": {},
     "output_type": "execute_result"
    }
   ],
   "source": [
    "np.where(suma_distancias_cluster_0 == min( suma_distancias_cluster_0 ) )\n",
    "\n",
    "# La observacion medioid del cluster 0 es la que ocupa la fila 409 de la matriz de distancias del cluster, que es la 1002 del cluster 0 (ver mas abajo)"
   ]
  },
  {
   "cell_type": "code",
   "execution_count": 21,
   "metadata": {},
   "outputs": [
    {
     "data": {
      "text/plain": [
       "4883106009973739.0"
      ]
     },
     "execution_count": 21,
     "metadata": {},
     "output_type": "execute_result"
    }
   ],
   "source": [
    "suma_distancias_cluster_0[409]"
   ]
  },
  {
   "cell_type": "code",
   "execution_count": 22,
   "metadata": {},
   "outputs": [
    {
     "data": {
      "text/plain": [
       "1002"
      ]
     },
     "execution_count": 22,
     "metadata": {},
     "output_type": "execute_result"
    }
   ],
   "source": [
    "lista_clusters[0].iloc[409,].name"
   ]
  },
  {
   "cell_type": "markdown",
   "metadata": {},
   "source": [
    "Comprobamos que la observacion 1002 del cluster0 es la de la fila 409 d ela matriz de distancias, y por tanto es el medoid del cluster 0"
   ]
  },
  {
   "cell_type": "code",
   "execution_count": 23,
   "metadata": {},
   "outputs": [],
   "source": [
    "lista=[]\n",
    "\n",
    "for r in lista_clusters[0].index :\n",
    "\n",
    "    lista.append( sum( (lista_clusters[0].loc[1002 , :] - lista_clusters[0].loc[r , :])**2 ))\n"
   ]
  },
  {
   "cell_type": "code",
   "execution_count": 24,
   "metadata": {},
   "outputs": [
    {
     "data": {
      "text/plain": [
       "4883106009973739.0"
      ]
     },
     "execution_count": 24,
     "metadata": {},
     "output_type": "execute_result"
    }
   ],
   "source": [
    "sum(lista) # coincide con suma_distancias_cluster_0[409]"
   ]
  },
  {
   "cell_type": "markdown",
   "metadata": {},
   "source": []
  },
  {
   "cell_type": "code",
   "execution_count": 53,
   "metadata": {},
   "outputs": [],
   "source": [
    "distancias_clusters_0 =  np.empty((len(lista_clusters[0]), len(lista_clusters[0])))\n",
    "\n",
    "distancias_clusters_0[:] = 0\n",
    "\n",
    "for i in range(0, len(lista_clusters[0])) :\n",
    "\n",
    "    for r in  range(0, len(lista_clusters[0])) :\n",
    "\n",
    "            distancias_clusters_0[i,r] = sum( (lista_clusters[0].iloc[i , :] - lista_clusters[0].iloc[r , :])**2 )\n",
    "\n",
    "\n",
    "# Para el cluster 0 : calculamos la suma de la distancia entre x_i y el resto de observaciones, para cada i=1,..,n \n",
    "\n",
    "suma_distancias_cluster_0 = []\n",
    "\n",
    "for i in range(0, distancias_clusters_0.shape[0]):\n",
    "\n",
    "    suma_distancias_cluster_0.append( distancias_clusters_0[i,:].sum() )\n",
    "\n",
    "\n",
    "medoids =[]\n",
    "\n",
    "medoids.append( lista_clusters[0].iloc[ np.where(suma_distancias_cluster_0 == min( suma_distancias_cluster_0 ) )[0] , :].index )\n",
    "\n",
    "\n",
    "##########################################################################################\n",
    "\n",
    "distancias_clusters_1 =  np.empty((len(lista_clusters[1]), len(lista_clusters[1])))\n",
    "\n",
    "distancias_clusters_1[:] = 0\n",
    "\n",
    "for i in range(0, len(lista_clusters[1])) :\n",
    "\n",
    "    for r in  range(0, len(lista_clusters[1])) :\n",
    "\n",
    "            distancias_clusters_1[i,r] = sum( (lista_clusters[1].iloc[i , :] - lista_clusters[1].iloc[r , :])**2 )\n",
    "\n",
    "\n",
    "\n",
    "# Para el cluster 1 : calculamos la suma de la distancia entre x_i y el resto de observaciones, para cada i=1,..,n \n",
    "\n",
    "suma_distancias_cluster_1 = []\n",
    "\n",
    "for i in range(0, distancias_clusters_1.shape[0]):\n",
    "\n",
    "    suma_distancias_cluster_1.append( distancias_clusters_1[i,:].sum() )\n",
    "\n",
    "\n",
    "medoids.append( lista_clusters[1].iloc[ np.where(suma_distancias_cluster_1 == min( suma_distancias_cluster_1 ) )[0] , :].index )\n",
    "\n",
    "##########################################################################################\n",
    "\n",
    "distancias_clusters_2 =  np.empty((len(lista_clusters[2]), len(lista_clusters[2])))\n",
    "\n",
    "distancias_clusters_2[:] = 0\n",
    "\n",
    "for i in range(0, len(lista_clusters[2])) :\n",
    "\n",
    "    for r in  range(0, len(lista_clusters[2])) :\n",
    "\n",
    "            distancias_clusters_2[i,r] = sum( (lista_clusters[2].iloc[i , :] - lista_clusters[2].iloc[r , :])**2 )\n",
    "\n",
    "\n",
    "\n",
    "# Para el cluster 2 : calculamos la suma de la distancia entre x_i y el resto de observaciones, para cada i=1,..,n \n",
    "\n",
    "suma_distancias_cluster_2 = []\n",
    "\n",
    "for i in range(0, distancias_clusters_2.shape[0]):\n",
    "\n",
    "    suma_distancias_cluster_2.append( distancias_clusters_2[i,:].sum() )\n",
    "\n",
    "\n",
    "medoids.append( lista_clusters[2].iloc[ np.where(suma_distancias_cluster_2 == min( suma_distancias_cluster_2 ) )[0] , :].index )\n",
    "\n",
    "##########################################################################################\n",
    "\n",
    "distancias_clusters_3 =  np.empty((len(lista_clusters[3]), len(lista_clusters[3])))\n",
    "\n",
    "distancias_clusters_3[:] = 0\n",
    "\n",
    "for i in range(0, len(lista_clusters[3])) :\n",
    "\n",
    "    for r in  range(0, len(lista_clusters[3])) :\n",
    "\n",
    "            distancias_clusters_3[i,r] = sum( (lista_clusters[3].iloc[i , :] - lista_clusters[3].iloc[r , :])**2 )\n",
    "\n",
    "\n",
    "\n",
    "# Para el cluster 3 : calculamos la suma de la distancia entre x_i y el resto de observaciones, para cada i=1,..,n \n",
    "\n",
    "suma_distancias_cluster_3 = []\n",
    "\n",
    "for i in range(0, distancias_clusters_3.shape[0]):\n",
    "\n",
    "    suma_distancias_cluster_3.append( distancias_clusters_3[i,:].sum() )\n",
    "\n",
    "\n",
    "medoids.append( lista_clusters[3].iloc[ np.where(suma_distancias_cluster_3 == min( suma_distancias_cluster_3 ) )[0] , :].index )\n"
   ]
  },
  {
   "cell_type": "code",
   "execution_count": 54,
   "metadata": {},
   "outputs": [
    {
     "data": {
      "text/plain": [
       "[Int64Index([1002], dtype='int64'),\n",
       " Int64Index([67], dtype='int64'),\n",
       " Int64Index([1775], dtype='int64'),\n",
       " Int64Index([198], dtype='int64')]"
      ]
     },
     "execution_count": 54,
     "metadata": {},
     "output_type": "execute_result"
    }
   ],
   "source": [
    "medoids \n",
    "\n",
    "# Ha tardado 7.38 mins en calcular los medoids, tarda demasiado. \n",
    "#Si tarda esto cada vez que se tengan que actualizar los medoids, esta implementacion del algoritmo no es utilizable en la practica"
   ]
  },
  {
   "cell_type": "markdown",
   "metadata": {},
   "source": []
  },
  {
   "cell_type": "code",
   "execution_count": null,
   "metadata": {},
   "outputs": [],
   "source": [
    "# Calculo de centroides iniciales\n",
    "\n",
    "centroide_0 = lista_clusters[0].mean()\n",
    "centroide_1 = lista_clusters[1].mean()\n",
    "centroide_2 = lista_clusters[2].mean()\n",
    "centroide_3 = lista_clusters[3].mean()\n"
   ]
  },
  {
   "cell_type": "code",
   "execution_count": null,
   "metadata": {},
   "outputs": [],
   "source": [
    "\n",
    "# Calculo de distancias Euclideas para la observacion x_1\n",
    "\n",
    "x_1 = Data.iloc[0,:]\n",
    "\n",
    "distancia_0 = sum((x_1 - centroide_0)**2)\n",
    "distancia_1 = sum((x_1 - centroide_1)**2)\n",
    "distancia_2 = sum((x_1 - centroide_2)**2)\n",
    "distancia_3 = sum((x_1 - centroide_3)**2)\n",
    "\n",
    "# Calculo de cluster optimo para x_1\n",
    "\n",
    "df_distancias = pd.DataFrame({'Distancias' : [distancia_0, distancia_1 , distancia_2 , distancia_3], 'Cluster': [0,1,2,3]})\n",
    "\n",
    "df_distancias_sort = df_distancias.sort_values(by='Distancias', ascending=False)\n",
    "\n",
    "j_star = df_distancias_sort.iloc[0]['Cluster']\n",
    "\n",
    "j_star = int(j_star)"
   ]
  }
 ],
 "metadata": {
  "kernelspec": {
   "display_name": "Python 3.10.0 64-bit",
   "language": "python",
   "name": "python3"
  },
  "language_info": {
   "codemirror_mode": {
    "name": "ipython",
    "version": 3
   },
   "file_extension": ".py",
   "mimetype": "text/x-python",
   "name": "python",
   "nbconvert_exporter": "python",
   "pygments_lexer": "ipython3",
   "version": "3.10.0"
  },
  "orig_nbformat": 4,
  "vscode": {
   "interpreter": {
    "hash": "c63d8c7d738c2960218a10995aedf0a7f67a49a231e71037adf0440953cdb45b"
   }
  }
 },
 "nbformat": 4,
 "nbformat_minor": 2
}
