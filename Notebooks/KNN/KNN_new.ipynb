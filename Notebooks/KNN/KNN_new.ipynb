{
 "cells": [
  {
   "cell_type": "code",
   "execution_count": 1,
   "metadata": {},
   "outputs": [],
   "source": [
    "import warnings\n",
    "warnings.filterwarnings(\"ignore\")"
   ]
  },
  {
   "cell_type": "code",
   "execution_count": 2,
   "metadata": {},
   "outputs": [],
   "source": [
    "import seaborn as sns\n",
    "import pandas as pd\n",
    "import numpy as np\n",
    "from sklearn.utils import resample\n",
    "import math as math\n",
    "import matplotlib as mpl\n",
    "import matplotlib.pyplot as plt"
   ]
  },
  {
   "cell_type": "markdown",
   "metadata": {},
   "source": [
    "## Distancias"
   ]
  },
  {
   "cell_type": "code",
   "execution_count": 3,
   "metadata": {},
   "outputs": [],
   "source": [
    "def Dist_Euclidea(x_i, x_r):\n",
    "\n",
    "        Dist_Euclidea = ( ( x_i - x_r )**2 ).sum()\n",
    "\n",
    "        Dist_Euclidea = np.sqrt(Dist_Euclidea)\n",
    "\n",
    "        return Dist_Euclidea"
   ]
  },
  {
   "cell_type": "code",
   "execution_count": 4,
   "metadata": {},
   "outputs": [],
   "source": [
    "def Matrix_Dist_Euclidea(Data):\n",
    "\n",
    "    # Paso previo necesario si Data es pd.DataFrame  -->  Data = Data.to_numpy()\n",
    "\n",
    "    n = len(Data)\n",
    "\n",
    "    M =  np.empty((n , n))\n",
    "\n",
    "    \n",
    "    for i in range(0, n):\n",
    "\n",
    "         for r in range(0, n):\n",
    "\n",
    "             if i >= r :\n",
    "               \n",
    "                 M[i,r] = 0\n",
    "\n",
    "             else :\n",
    "\n",
    "                 M[i,r] = Dist_Euclidea(Data[i,:] , Data[r,:])   \n",
    "\n",
    "                      \n",
    "    return M "
   ]
  },
  {
   "cell_type": "code",
   "execution_count": 5,
   "metadata": {},
   "outputs": [],
   "source": [
    "def Dist_Minkowski(x_i, x_r, q):\n",
    "\n",
    "    Dist_Minkowski = ( ( ( abs( x_i - x_r) )**q ).sum() )**(1/q)\n",
    "\n",
    "    return Dist_Minkowski"
   ]
  },
  {
   "cell_type": "code",
   "execution_count": 6,
   "metadata": {},
   "outputs": [],
   "source": [
    "def Matrix_Dist_Minkowski(Data, q):\n",
    "\n",
    "    # Paso previo necesario si Data es pd.DataFrame  -->  Data = Data.to_numpy()\n",
    "\n",
    "    n = len(Data)\n",
    "\n",
    "    M =  np.empty((n , n))\n",
    "\n",
    "    \n",
    "    for i in range(0, n):\n",
    "\n",
    "         for r in range(0, n):\n",
    "\n",
    "             if i >= r :\n",
    "               \n",
    "                 M[i,r] = 0\n",
    "\n",
    "             else :\n",
    "\n",
    "                 M[i,r] = Dist_Minkowski(Data[i,:] , Data[r,:], q)   \n",
    "\n",
    "                      \n",
    "    return M "
   ]
  },
  {
   "cell_type": "code",
   "execution_count": 7,
   "metadata": {},
   "outputs": [],
   "source": [
    "def Dist_Canberra(x_i, x_r):\n",
    "\n",
    "    numerator =  abs( x_i - x_r )\n",
    "\n",
    "    denominator =  ( abs(x_i) + abs(x_r) )\n",
    "       \n",
    "    numerator=np.array([numerator], dtype=float)\n",
    "\n",
    "    denominator=np.array([denominator], dtype=float)\n",
    "\n",
    "    # The following code is to eliminate zero division problems\n",
    "\n",
    "    Dist_Canberra = ( np.divide( numerator , denominator , out=np.zeros_like(numerator), where=denominator!=0) ).sum() \n",
    "\n",
    "    return Dist_Canberra"
   ]
  },
  {
   "cell_type": "code",
   "execution_count": 8,
   "metadata": {},
   "outputs": [],
   "source": [
    "def Matrix_Dist_Canberra(Data):\n",
    "\n",
    "    # Paso previo necesario si Data es pd.DataFrame  -->  Data = Data.to_numpy()\n",
    "\n",
    "    n = len(Data)\n",
    "\n",
    "    M =  np.empty((n , n))\n",
    "\n",
    "    \n",
    "    for i in range(0, n):\n",
    "\n",
    "         for r in range(0, n):\n",
    "\n",
    "             if i >= r :\n",
    "               \n",
    "                 M[i,r] = 0\n",
    "\n",
    "             else :\n",
    "\n",
    "                 M[i,r] = Dist_Canberra(Data[i,:] , Data[r,:])   \n",
    "\n",
    "                      \n",
    "    return M "
   ]
  },
  {
   "cell_type": "code",
   "execution_count": 9,
   "metadata": {},
   "outputs": [],
   "source": [
    "def Dist_Mahalanobis_2(x_i, x_r, S_inv):  # Más eficiente que la anterior\n",
    "\n",
    "    # All the columns of Data must be type = 'float' or 'int' (specially not 'object'), in other case we will find \n",
    "    # dimensional problems when Python compute   x @ S_inv @ x.T\n",
    "\n",
    "    x = (x_i - x_r)\n",
    "    \n",
    "    # x = np.array([x]) \n",
    "    \n",
    "    # En este caso este paso no será necesario por el tipo de estructura Python (una lista) que va a ser un medoid en el\n",
    "    # algoritmo que a continuación definiremos. De hecho si este paso no se suprimer salta un error al usar la distancia\n",
    "    # de Mahalanobis, puesto que la operacion x @ S_inv @ x.T no está bien definida.\n",
    "\n",
    "    Dist_Maha = np.sqrt( x @ S_inv @ x.T )  # x @ S_inv @ x.T = np.matmul( np.matmul(x , S_inv) , x.T )\n",
    "\n",
    "    Dist_Maha = float(Dist_Maha)\n",
    "\n",
    "    return Dist_Maha"
   ]
  },
  {
   "cell_type": "code",
   "execution_count": 10,
   "metadata": {},
   "outputs": [],
   "source": [
    "def Dist_Mahalanobis_3(x, S_inv):  # Más eficiente que la anterior\n",
    "\n",
    "    # All the columns of Data must be type = 'float' or 'int' (specially not 'object'), in other case we will find \n",
    "    # dimensional problems when Python compute   x @ S_inv @ x.T\n",
    "\n",
    "    # x = (x_i - x_r)\n",
    "\n",
    "    # x = np.array([x]) # necessary step to transpose a 1D array\n",
    "\n",
    "    Dist_Maha = np.sqrt( x @ S_inv @ x.T )  # x @ S_inv @ x.T = np.matmul( np.matmul(x , S_inv) , x.T )\n",
    "\n",
    "    Dist_Maha = float(Dist_Maha)\n",
    "\n",
    "    return Dist_Maha"
   ]
  },
  {
   "cell_type": "code",
   "execution_count": 11,
   "metadata": {},
   "outputs": [],
   "source": [
    "def Matrix_Dist_Mahalanobis_3(Data):\n",
    "\n",
    "    # Paso previo necesario si Data es pd.DataFrame  -->  Data = Data.to_numpy()\n",
    "\n",
    "    n = len(Data)\n",
    "\n",
    "    M =  np.empty((n , n))\n",
    "\n",
    "    S_inv=np.linalg.inv( np.cov(Data , rowvar=False) )\n",
    "\n",
    "   \n",
    "    for i in range(0, n):\n",
    "\n",
    "         for r in range(0, n):\n",
    "\n",
    "             if i >= r :\n",
    "               \n",
    "                 M[i,r] = 0\n",
    "\n",
    "             else :\n",
    "\n",
    "                 M[i,r] = Dist_Mahalanobis_3(x = np.array([Data[i,:] - Data[r,:]]) , S_inv=S_inv ) \n",
    "\n",
    "                      \n",
    "    return M "
   ]
  },
  {
   "cell_type": "code",
   "execution_count": 12,
   "metadata": {},
   "outputs": [],
   "source": [
    "def a_b_c_d_Matrix(Data):\n",
    "\n",
    "    X = Data\n",
    "\n",
    "    a = X @ X.T\n",
    "\n",
    "    n = X.shape[0]\n",
    "\n",
    "    p = X.shape[1]\n",
    "\n",
    "    ones_matrix = np.ones((n, p)) \n",
    "\n",
    "    b = (ones_matrix - X) @ X.T\n",
    "\n",
    "    c = b.T\n",
    "\n",
    "    d = (ones_matrix - X) @ (ones_matrix - X).T\n",
    "\n",
    "    return a , b , c , d , p"
   ]
  },
  {
   "cell_type": "code",
   "execution_count": 13,
   "metadata": {},
   "outputs": [],
   "source": [
    "def alpha(x_i, x_r):\n",
    "\n",
    "    alpha = sum(x_i == x_r)\n",
    "\n",
    "    return(alpha)"
   ]
  },
  {
   "cell_type": "code",
   "execution_count": 14,
   "metadata": {},
   "outputs": [],
   "source": [
    "def Matrix_Gower_Similarity(Data, p1, p2, p3 ):\n",
    "\n",
    "    # Data tiene que ser un numpy array tal que:\n",
    "    # las primeras p1 tiene que ser variables cuantitativas, \n",
    "    # las siguientes p2 binarias y las restantes p3 multicales\n",
    "\n",
    "    # Si Data no contiene variables cuantitativas --> p1=0\n",
    "    # Si Data no contiene variables binarias --> p2=0\n",
    "    # Si Data no contiene variables multiclase --> p3=0\n",
    "\n",
    "    n = len(Data)\n",
    "\n",
    "    M =  np.empty((n , n))\n",
    "\n",
    "############################################################\n",
    "    \n",
    "    G_vector = np.repeat(0.5, p1)\n",
    "\n",
    "    for k in range(0, p1):\n",
    "\n",
    "        G_vector[k] = Data[:,k].max() - Data[:,k].min()\n",
    "\n",
    "############################################################\n",
    "   \n",
    "    ones = np.repeat(1, p1)\n",
    "\n",
    "    Quant_Data = Data[: , 0:p1]\n",
    "\n",
    "    Binary_Data = Data[: , (p1):(p1+p2)]\n",
    "\n",
    "    Multiple_Data = Data[: , (p1+p2):(p1+p2+p3) ]\n",
    "\n",
    "############################################################\n",
    "\n",
    "    a, b, c, d, p = a_b_c_d_Matrix(Binary_Data)\n",
    "\n",
    "############################################################\n",
    "\n",
    "    for i in range(0, n):\n",
    "\n",
    "         for r in range(0, n):\n",
    "\n",
    "            if i > r :\n",
    "               \n",
    "                 M[i,r] = 0\n",
    "            \n",
    "            elif i == r :\n",
    "               \n",
    "                 M[i,r] = 1\n",
    "            \n",
    "            else :\n",
    "\n",
    "                # Calculo de la distancia de Gower entre las observaciones x_i y x_r\n",
    "\n",
    "                numerator_part_1 = ( ones - ( abs(Quant_Data[i,:] - Quant_Data[r,:]) / G_vector ) ).sum() \n",
    "\n",
    "                numerator_part_2 = a[i,r] + alpha(Multiple_Data[i,:], Multiple_Data[r,:])\n",
    "\n",
    "                numerator = numerator_part_1 + numerator_part_2\n",
    "                \n",
    "\n",
    "                if p1 + (p2 - d[i,r]) + p3 == 0:\n",
    "\n",
    "                    M[i,r] = 0\n",
    "\n",
    "                else:\n",
    "                    \n",
    "                    denominator = p1 + (p2 - d[i,r]) + p3\n",
    "\n",
    "                    M[i,r] = numerator / denominator\n",
    "                      \n",
    "   \n",
    "    return M  "
   ]
  },
  {
   "cell_type": "code",
   "execution_count": 15,
   "metadata": {},
   "outputs": [],
   "source": [
    "def Matrix_Gower_Distance(Data, p1, p2, p3 ):\n",
    "\n",
    "    M = Matrix_Gower_Similarity(Data, p1, p2, p3)\n",
    "\n",
    "    M = M + M.T - np.diag(np.repeat(1 , len(M)), k=0)\n",
    "\n",
    "    M = np.sqrt( 1 - M )\n",
    "\n",
    "    return M"
   ]
  },
  {
   "cell_type": "markdown",
   "metadata": {},
   "source": []
  },
  {
   "cell_type": "markdown",
   "metadata": {},
   "source": [
    "## KNN-clasificacion programado de cero"
   ]
  },
  {
   "cell_type": "code",
   "execution_count": 16,
   "metadata": {},
   "outputs": [
    {
     "data": {
      "text/html": [
       "<div>\n",
       "<style scoped>\n",
       "    .dataframe tbody tr th:only-of-type {\n",
       "        vertical-align: middle;\n",
       "    }\n",
       "\n",
       "    .dataframe tbody tr th {\n",
       "        vertical-align: top;\n",
       "    }\n",
       "\n",
       "    .dataframe thead th {\n",
       "        text-align: right;\n",
       "    }\n",
       "</style>\n",
       "<table border=\"1\" class=\"dataframe\">\n",
       "  <thead>\n",
       "    <tr style=\"text-align: right;\">\n",
       "      <th></th>\n",
       "      <th>latitude</th>\n",
       "      <th>longitude</th>\n",
       "      <th>price</th>\n",
       "      <th>size_in_m_2</th>\n",
       "      <th>balcony_recode</th>\n",
       "      <th>private_garden_recode</th>\n",
       "      <th>quality_recode</th>\n",
       "    </tr>\n",
       "  </thead>\n",
       "  <tbody>\n",
       "    <tr>\n",
       "      <th>0</th>\n",
       "      <td>25.113208</td>\n",
       "      <td>55.138932</td>\n",
       "      <td>2700000</td>\n",
       "      <td>100.242337</td>\n",
       "      <td>1.0</td>\n",
       "      <td>0.0</td>\n",
       "      <td>2.0</td>\n",
       "    </tr>\n",
       "    <tr>\n",
       "      <th>1</th>\n",
       "      <td>25.106809</td>\n",
       "      <td>55.151201</td>\n",
       "      <td>2850000</td>\n",
       "      <td>146.972546</td>\n",
       "      <td>1.0</td>\n",
       "      <td>0.0</td>\n",
       "      <td>2.0</td>\n",
       "    </tr>\n",
       "    <tr>\n",
       "      <th>2</th>\n",
       "      <td>25.063302</td>\n",
       "      <td>55.137728</td>\n",
       "      <td>1150000</td>\n",
       "      <td>181.253753</td>\n",
       "      <td>1.0</td>\n",
       "      <td>0.0</td>\n",
       "      <td>2.0</td>\n",
       "    </tr>\n",
       "    <tr>\n",
       "      <th>3</th>\n",
       "      <td>25.227295</td>\n",
       "      <td>55.341761</td>\n",
       "      <td>2850000</td>\n",
       "      <td>187.664060</td>\n",
       "      <td>1.0</td>\n",
       "      <td>0.0</td>\n",
       "      <td>1.0</td>\n",
       "    </tr>\n",
       "    <tr>\n",
       "      <th>4</th>\n",
       "      <td>25.114275</td>\n",
       "      <td>55.139764</td>\n",
       "      <td>1729200</td>\n",
       "      <td>47.101821</td>\n",
       "      <td>0.0</td>\n",
       "      <td>0.0</td>\n",
       "      <td>2.0</td>\n",
       "    </tr>\n",
       "  </tbody>\n",
       "</table>\n",
       "</div>"
      ],
      "text/plain": [
       "    latitude  longitude    price  size_in_m_2  balcony_recode  \\\n",
       "0  25.113208  55.138932  2700000   100.242337             1.0   \n",
       "1  25.106809  55.151201  2850000   146.972546             1.0   \n",
       "2  25.063302  55.137728  1150000   181.253753             1.0   \n",
       "3  25.227295  55.341761  2850000   187.664060             1.0   \n",
       "4  25.114275  55.139764  1729200    47.101821             0.0   \n",
       "\n",
       "   private_garden_recode  quality_recode  \n",
       "0                    0.0             2.0  \n",
       "1                    0.0             2.0  \n",
       "2                    0.0             2.0  \n",
       "3                    0.0             1.0  \n",
       "4                    0.0             2.0  "
      ]
     },
     "execution_count": 16,
     "metadata": {},
     "output_type": "execute_result"
    }
   ],
   "source": [
    "Data = pd.read_csv('House_Price_Regression.csv')\n",
    "\n",
    "Data_Mixed = Data.loc[:, ['latitude', 'longitude', 'price', 'size_in_m_2', 'balcony_recode', 'private_garden_recode', 'quality_recode']]\n",
    "\n",
    "Data_Mixed.head()"
   ]
  },
  {
   "cell_type": "code",
   "execution_count": 17,
   "metadata": {},
   "outputs": [],
   "source": [
    "Data_Mixed_train = Data_Mixed.sample(frac=0.8, replace=False, weights=None, random_state=123, axis=None, ignore_index=False)\n",
    "\n",
    "Data_Mixed_new =  Data_Mixed.drop( Data_Mixed_train.index , )"
   ]
  },
  {
   "cell_type": "code",
   "execution_count": 18,
   "metadata": {},
   "outputs": [],
   "source": [
    "## TRAIN DATA (Datos dispobles --> se usan para entrenar el modelo)\n",
    "\n",
    "X_train = Data_Mixed_train.loc[: , Data_Mixed_train.columns != 'quality_recode']\n",
    "Y_train = Data_Mixed_train.loc[: , 'quality_recode']\n",
    "\n",
    "## NEW DATA (Nuevos datos de los predictores)\n",
    "\n",
    "X_new = Data_Mixed_new.loc[: , Data_Mixed_new.columns != 'quality_recode']\n",
    "\n",
    "# En la práctica real no se tienen datos sobre la respuesta asociado a las nuevas obsrvaciones de los predictores\n",
    "# Eso es justo lo que se quiere predecir.\n",
    "# Pero en este ejemplo al usar como \"nuevos\" datos una parte del data set original, si que tenemos esa información.\n",
    "\n",
    "Y_new = Data_Mixed_new.loc[: , 'quality_recode'] \n"
   ]
  },
  {
   "cell_type": "code",
   "execution_count": 19,
   "metadata": {},
   "outputs": [
    {
     "data": {
      "text/html": [
       "<div>\n",
       "<style scoped>\n",
       "    .dataframe tbody tr th:only-of-type {\n",
       "        vertical-align: middle;\n",
       "    }\n",
       "\n",
       "    .dataframe tbody tr th {\n",
       "        vertical-align: top;\n",
       "    }\n",
       "\n",
       "    .dataframe thead th {\n",
       "        text-align: right;\n",
       "    }\n",
       "</style>\n",
       "<table border=\"1\" class=\"dataframe\">\n",
       "  <thead>\n",
       "    <tr style=\"text-align: right;\">\n",
       "      <th></th>\n",
       "      <th>latitude</th>\n",
       "      <th>longitude</th>\n",
       "      <th>price</th>\n",
       "      <th>size_in_m_2</th>\n",
       "      <th>balcony_recode</th>\n",
       "      <th>private_garden_recode</th>\n",
       "    </tr>\n",
       "  </thead>\n",
       "  <tbody>\n",
       "    <tr>\n",
       "      <th>382</th>\n",
       "      <td>25.196489</td>\n",
       "      <td>55.272126</td>\n",
       "      <td>15800000</td>\n",
       "      <td>488.019459</td>\n",
       "      <td>0.0</td>\n",
       "      <td>1.0</td>\n",
       "    </tr>\n",
       "    <tr>\n",
       "      <th>732</th>\n",
       "      <td>25.107984</td>\n",
       "      <td>55.244923</td>\n",
       "      <td>1700000</td>\n",
       "      <td>138.704179</td>\n",
       "      <td>0.0</td>\n",
       "      <td>0.0</td>\n",
       "    </tr>\n",
       "    <tr>\n",
       "      <th>1888</th>\n",
       "      <td>25.071504</td>\n",
       "      <td>55.128579</td>\n",
       "      <td>1300000</td>\n",
       "      <td>171.220229</td>\n",
       "      <td>1.0</td>\n",
       "      <td>0.0</td>\n",
       "    </tr>\n",
       "    <tr>\n",
       "      <th>679</th>\n",
       "      <td>25.054336</td>\n",
       "      <td>55.203423</td>\n",
       "      <td>999000</td>\n",
       "      <td>116.035847</td>\n",
       "      <td>1.0</td>\n",
       "      <td>1.0</td>\n",
       "    </tr>\n",
       "    <tr>\n",
       "      <th>1004</th>\n",
       "      <td>25.087251</td>\n",
       "      <td>55.145574</td>\n",
       "      <td>2990000</td>\n",
       "      <td>162.208638</td>\n",
       "      <td>1.0</td>\n",
       "      <td>0.0</td>\n",
       "    </tr>\n",
       "  </tbody>\n",
       "</table>\n",
       "</div>"
      ],
      "text/plain": [
       "       latitude  longitude     price  size_in_m_2  balcony_recode  \\\n",
       "382   25.196489  55.272126  15800000   488.019459             0.0   \n",
       "732   25.107984  55.244923   1700000   138.704179             0.0   \n",
       "1888  25.071504  55.128579   1300000   171.220229             1.0   \n",
       "679   25.054336  55.203423    999000   116.035847             1.0   \n",
       "1004  25.087251  55.145574   2990000   162.208638             1.0   \n",
       "\n",
       "      private_garden_recode  \n",
       "382                     1.0  \n",
       "732                     0.0  \n",
       "1888                    0.0  \n",
       "679                     1.0  \n",
       "1004                    0.0  "
      ]
     },
     "execution_count": 19,
     "metadata": {},
     "output_type": "execute_result"
    }
   ],
   "source": [
    "X_train.head()"
   ]
  },
  {
   "cell_type": "code",
   "execution_count": 20,
   "metadata": {},
   "outputs": [
    {
     "data": {
      "text/html": [
       "<div>\n",
       "<style scoped>\n",
       "    .dataframe tbody tr th:only-of-type {\n",
       "        vertical-align: middle;\n",
       "    }\n",
       "\n",
       "    .dataframe tbody tr th {\n",
       "        vertical-align: top;\n",
       "    }\n",
       "\n",
       "    .dataframe thead th {\n",
       "        text-align: right;\n",
       "    }\n",
       "</style>\n",
       "<table border=\"1\" class=\"dataframe\">\n",
       "  <thead>\n",
       "    <tr style=\"text-align: right;\">\n",
       "      <th></th>\n",
       "      <th>latitude</th>\n",
       "      <th>longitude</th>\n",
       "      <th>price</th>\n",
       "      <th>size_in_m_2</th>\n",
       "      <th>balcony_recode</th>\n",
       "      <th>private_garden_recode</th>\n",
       "    </tr>\n",
       "  </thead>\n",
       "  <tbody>\n",
       "    <tr>\n",
       "      <th>1</th>\n",
       "      <td>25.106809</td>\n",
       "      <td>55.151201</td>\n",
       "      <td>2850000</td>\n",
       "      <td>146.972546</td>\n",
       "      <td>1.0</td>\n",
       "      <td>0.0</td>\n",
       "    </tr>\n",
       "    <tr>\n",
       "      <th>2</th>\n",
       "      <td>25.063302</td>\n",
       "      <td>55.137728</td>\n",
       "      <td>1150000</td>\n",
       "      <td>181.253753</td>\n",
       "      <td>1.0</td>\n",
       "      <td>0.0</td>\n",
       "    </tr>\n",
       "    <tr>\n",
       "      <th>3</th>\n",
       "      <td>25.227295</td>\n",
       "      <td>55.341761</td>\n",
       "      <td>2850000</td>\n",
       "      <td>187.664060</td>\n",
       "      <td>1.0</td>\n",
       "      <td>0.0</td>\n",
       "    </tr>\n",
       "    <tr>\n",
       "      <th>8</th>\n",
       "      <td>25.106668</td>\n",
       "      <td>55.149275</td>\n",
       "      <td>2100000</td>\n",
       "      <td>203.085958</td>\n",
       "      <td>0.0</td>\n",
       "      <td>0.0</td>\n",
       "    </tr>\n",
       "    <tr>\n",
       "      <th>16</th>\n",
       "      <td>25.132021</td>\n",
       "      <td>55.151405</td>\n",
       "      <td>3499000</td>\n",
       "      <td>151.710599</td>\n",
       "      <td>1.0</td>\n",
       "      <td>0.0</td>\n",
       "    </tr>\n",
       "  </tbody>\n",
       "</table>\n",
       "</div>"
      ],
      "text/plain": [
       "     latitude  longitude    price  size_in_m_2  balcony_recode  \\\n",
       "1   25.106809  55.151201  2850000   146.972546             1.0   \n",
       "2   25.063302  55.137728  1150000   181.253753             1.0   \n",
       "3   25.227295  55.341761  2850000   187.664060             1.0   \n",
       "8   25.106668  55.149275  2100000   203.085958             0.0   \n",
       "16  25.132021  55.151405  3499000   151.710599             1.0   \n",
       "\n",
       "    private_garden_recode  \n",
       "1                     0.0  \n",
       "2                     0.0  \n",
       "3                     0.0  \n",
       "8                     0.0  \n",
       "16                    0.0  "
      ]
     },
     "execution_count": 20,
     "metadata": {},
     "output_type": "execute_result"
    }
   ],
   "source": [
    "X_new.head()"
   ]
  },
  {
   "cell_type": "code",
   "execution_count": 21,
   "metadata": {},
   "outputs": [
    {
     "data": {
      "text/html": [
       "<div>\n",
       "<style scoped>\n",
       "    .dataframe tbody tr th:only-of-type {\n",
       "        vertical-align: middle;\n",
       "    }\n",
       "\n",
       "    .dataframe tbody tr th {\n",
       "        vertical-align: top;\n",
       "    }\n",
       "\n",
       "    .dataframe thead th {\n",
       "        text-align: right;\n",
       "    }\n",
       "</style>\n",
       "<table border=\"1\" class=\"dataframe\">\n",
       "  <thead>\n",
       "    <tr style=\"text-align: right;\">\n",
       "      <th></th>\n",
       "      <th>latitude</th>\n",
       "      <th>longitude</th>\n",
       "      <th>price</th>\n",
       "      <th>size_in_m_2</th>\n",
       "      <th>balcony_recode</th>\n",
       "      <th>private_garden_recode</th>\n",
       "    </tr>\n",
       "  </thead>\n",
       "  <tbody>\n",
       "    <tr>\n",
       "      <th>382</th>\n",
       "      <td>25.196489</td>\n",
       "      <td>55.272126</td>\n",
       "      <td>15800000</td>\n",
       "      <td>488.019459</td>\n",
       "      <td>0.0</td>\n",
       "      <td>1.0</td>\n",
       "    </tr>\n",
       "    <tr>\n",
       "      <th>732</th>\n",
       "      <td>25.107984</td>\n",
       "      <td>55.244923</td>\n",
       "      <td>1700000</td>\n",
       "      <td>138.704179</td>\n",
       "      <td>0.0</td>\n",
       "      <td>0.0</td>\n",
       "    </tr>\n",
       "    <tr>\n",
       "      <th>1888</th>\n",
       "      <td>25.071504</td>\n",
       "      <td>55.128579</td>\n",
       "      <td>1300000</td>\n",
       "      <td>171.220229</td>\n",
       "      <td>1.0</td>\n",
       "      <td>0.0</td>\n",
       "    </tr>\n",
       "    <tr>\n",
       "      <th>679</th>\n",
       "      <td>25.054336</td>\n",
       "      <td>55.203423</td>\n",
       "      <td>999000</td>\n",
       "      <td>116.035847</td>\n",
       "      <td>1.0</td>\n",
       "      <td>1.0</td>\n",
       "    </tr>\n",
       "    <tr>\n",
       "      <th>1004</th>\n",
       "      <td>25.087251</td>\n",
       "      <td>55.145574</td>\n",
       "      <td>2990000</td>\n",
       "      <td>162.208638</td>\n",
       "      <td>1.0</td>\n",
       "      <td>0.0</td>\n",
       "    </tr>\n",
       "  </tbody>\n",
       "</table>\n",
       "</div>"
      ],
      "text/plain": [
       "       latitude  longitude     price  size_in_m_2  balcony_recode  \\\n",
       "382   25.196489  55.272126  15800000   488.019459             0.0   \n",
       "732   25.107984  55.244923   1700000   138.704179             0.0   \n",
       "1888  25.071504  55.128579   1300000   171.220229             1.0   \n",
       "679   25.054336  55.203423    999000   116.035847             1.0   \n",
       "1004  25.087251  55.145574   2990000   162.208638             1.0   \n",
       "\n",
       "      private_garden_recode  \n",
       "382                     1.0  \n",
       "732                     0.0  \n",
       "1888                    0.0  \n",
       "679                     1.0  \n",
       "1004                    0.0  "
      ]
     },
     "execution_count": 21,
     "metadata": {},
     "output_type": "execute_result"
    }
   ],
   "source": [
    "X = pd.concat([X_train , X_new])\n",
    "X.head()"
   ]
  },
  {
   "cell_type": "code",
   "execution_count": 22,
   "metadata": {},
   "outputs": [
    {
     "data": {
      "text/plain": [
       "382     2.0\n",
       "732     1.0\n",
       "1888    2.0\n",
       "679     0.0\n",
       "1004    2.0\n",
       "Name: quality_recode, dtype: float64"
      ]
     },
     "execution_count": 22,
     "metadata": {},
     "output_type": "execute_result"
    }
   ],
   "source": [
    "Y_train.head()"
   ]
  },
  {
   "cell_type": "code",
   "execution_count": 23,
   "metadata": {},
   "outputs": [
    {
     "data": {
      "text/plain": [
       "1     2.0\n",
       "2     2.0\n",
       "3     1.0\n",
       "8     1.0\n",
       "16    2.0\n",
       "Name: quality_recode, dtype: float64"
      ]
     },
     "execution_count": 23,
     "metadata": {},
     "output_type": "execute_result"
    }
   ],
   "source": [
    "Y_new.head()"
   ]
  },
  {
   "cell_type": "code",
   "execution_count": 24,
   "metadata": {},
   "outputs": [
    {
     "data": {
      "text/plain": [
       "array([[0.        , 0.64817837, 0.76118906, ..., 0.70588672, 0.62389777,\n",
       "        0.76544317],\n",
       "       [0.64817837, 0.        , 0.5387377 , ..., 0.51390107, 0.61030246,\n",
       "        0.53192923],\n",
       "       [0.76118906, 0.5387377 , 0.        , ..., 0.38695255, 0.48555238,\n",
       "        0.20821652],\n",
       "       ...,\n",
       "       [0.70588672, 0.51390107, 0.38695255, ..., 0.        , 0.477898  ,\n",
       "        0.33432523],\n",
       "       [0.62389777, 0.61030246, 0.48555238, ..., 0.477898  , 0.        ,\n",
       "        0.45160134],\n",
       "       [0.76544317, 0.53192923, 0.20821652, ..., 0.33432523, 0.45160134,\n",
       "        0.        ]])"
      ]
     },
     "execution_count": 24,
     "metadata": {},
     "output_type": "execute_result"
    }
   ],
   "source": [
    "M_Gower = Matrix_Gower_Distance(Data=X.to_numpy(), p1=4, p2=2, p3=0)\n",
    "M_Gower"
   ]
  },
  {
   "cell_type": "code",
   "execution_count": 25,
   "metadata": {},
   "outputs": [],
   "source": [
    "M_Gower_new_data = M_Gower[ len(X_train):len(X) , 0:len(X_train) ]  \n",
    "\n",
    "# Nos quedamos con las filas de la 1524 a la 1904 , que son las correspondientes a las nuevas observaciones de los predictores.\n",
    "# Nos queamos con las columnas de la 0 a la 1524, que son las correspondientes a las observaciones de train de los predictores.\n",
    "\n",
    "# 'M_new_data' contiene las distancias (de Gower) entre las nuevas observaciones de los predictores y las de entrenamiento.\n",
    "\n",
    "# Su fila i-esima contiene las distancias entre la i-esima nueva observacion de los predictores y las observaciones de entrenamiento."
   ]
  },
  {
   "cell_type": "code",
   "execution_count": 26,
   "metadata": {},
   "outputs": [
    {
     "data": {
      "text/plain": [
       "(381, 1524)"
      ]
     },
     "execution_count": 26,
     "metadata": {},
     "output_type": "execute_result"
    }
   ],
   "source": [
    "M_Gower_new_data.shape"
   ]
  },
  {
   "cell_type": "code",
   "execution_count": 71,
   "metadata": {},
   "outputs": [],
   "source": [
    "def KNN_classification(Distance_Matrix_New_Data , k, X_train, Y_train ) :\n",
    "\n",
    "    # k es el hiper-parametro del algoritmo KNN.\n",
    "\n",
    "    # 'Distance_Matrix_New_Data' debe contenere las distancias entre las nuevas observaciones de los predictores y las observaciones de train de los predictores.\n",
    "\n",
    "    # Su fila i-esima debe contener las distancias entre la i-esima nueva observacion de los predictores y las observaciones de train de los predictores.\n",
    "\n",
    "\n",
    "    Y_predict_x_new_i_LIST = []\n",
    "\n",
    "    for i in range(0, len(Distance_Matrix_New_Data)):\n",
    "\n",
    "        distancias_x_new_i = pd.DataFrame({'id_x_train': X_train.index  , 'distancias': Distance_Matrix_New_Data[i,:]})\n",
    "\n",
    "        distancias_x_new_i_sort = distancias_x_new_i.sort_values(by=[\"distancias\"]).reset_index(drop=True)\n",
    "\n",
    "        knn_x_new_i = distancias_x_new_i_sort.iloc[0:k , :]\n",
    "\n",
    "        categorias_knn_x_new_i = []\n",
    "\n",
    "        \n",
    "        for j in knn_x_new_i.iloc[:,0]:\n",
    "\n",
    "            categorias_knn_x_new_i.append(Y_train[j])\n",
    "\n",
    "    \n",
    "        unique, counts = np.unique(categorias_knn_x_new_i , return_counts=True)\n",
    "\n",
    "        unique_Y , counts_Y = np.unique(Y_train , return_counts=True)\n",
    "\n",
    "    \n",
    "        if len(unique) == len(unique_Y) :\n",
    "\n",
    "            proporciones_categorias_knn_x_new_i = pd.DataFrame({'prop_categoria': counts/k, 'categoria': unique_Y })\n",
    "        \n",
    "        elif len(unique) < len(unique_Y) :\n",
    "\n",
    "            proporciones_categorias_knn_x_new_i = pd.DataFrame({'prop_categoria': counts/k, 'categoria': unique })\n",
    "\n",
    "\n",
    "        Y_predict_x_new_i = proporciones_categorias_knn_x_new_i.sort_values(by=[\"prop_categoria\"], ascending=False).iloc[0,:]['categoria']\n",
    "\n",
    "\n",
    "        Y_predict_x_new_i_LIST.append(Y_predict_x_new_i)\n",
    "\n",
    "    \n",
    "    df_predictions = pd.DataFrame({'id_x_new':range(0, len(Distance_Matrix_New_Data)) , 'Y_predict': Y_predict_x_new_i_LIST})\n",
    "\n",
    "    return df_predictions"
   ]
  },
  {
   "cell_type": "code",
   "execution_count": 72,
   "metadata": {},
   "outputs": [],
   "source": [
    "df_predictions = KNN_classification(Distance_Matrix_New_Data = M_Gower_new_data , k=10, X_train=X_train, Y_train=Y_train)"
   ]
  },
  {
   "cell_type": "code",
   "execution_count": 73,
   "metadata": {},
   "outputs": [
    {
     "data": {
      "text/html": [
       "<div>\n",
       "<style scoped>\n",
       "    .dataframe tbody tr th:only-of-type {\n",
       "        vertical-align: middle;\n",
       "    }\n",
       "\n",
       "    .dataframe tbody tr th {\n",
       "        vertical-align: top;\n",
       "    }\n",
       "\n",
       "    .dataframe thead th {\n",
       "        text-align: right;\n",
       "    }\n",
       "</style>\n",
       "<table border=\"1\" class=\"dataframe\">\n",
       "  <thead>\n",
       "    <tr style=\"text-align: right;\">\n",
       "      <th></th>\n",
       "      <th>id_x_new</th>\n",
       "      <th>Y_predict</th>\n",
       "    </tr>\n",
       "  </thead>\n",
       "  <tbody>\n",
       "    <tr>\n",
       "      <th>0</th>\n",
       "      <td>0</td>\n",
       "      <td>2.0</td>\n",
       "    </tr>\n",
       "    <tr>\n",
       "      <th>1</th>\n",
       "      <td>1</td>\n",
       "      <td>2.0</td>\n",
       "    </tr>\n",
       "    <tr>\n",
       "      <th>2</th>\n",
       "      <td>2</td>\n",
       "      <td>2.0</td>\n",
       "    </tr>\n",
       "    <tr>\n",
       "      <th>3</th>\n",
       "      <td>3</td>\n",
       "      <td>1.0</td>\n",
       "    </tr>\n",
       "    <tr>\n",
       "      <th>4</th>\n",
       "      <td>4</td>\n",
       "      <td>2.0</td>\n",
       "    </tr>\n",
       "    <tr>\n",
       "      <th>...</th>\n",
       "      <td>...</td>\n",
       "      <td>...</td>\n",
       "    </tr>\n",
       "    <tr>\n",
       "      <th>376</th>\n",
       "      <td>376</td>\n",
       "      <td>2.0</td>\n",
       "    </tr>\n",
       "    <tr>\n",
       "      <th>377</th>\n",
       "      <td>377</td>\n",
       "      <td>2.0</td>\n",
       "    </tr>\n",
       "    <tr>\n",
       "      <th>378</th>\n",
       "      <td>378</td>\n",
       "      <td>2.0</td>\n",
       "    </tr>\n",
       "    <tr>\n",
       "      <th>379</th>\n",
       "      <td>379</td>\n",
       "      <td>0.0</td>\n",
       "    </tr>\n",
       "    <tr>\n",
       "      <th>380</th>\n",
       "      <td>380</td>\n",
       "      <td>2.0</td>\n",
       "    </tr>\n",
       "  </tbody>\n",
       "</table>\n",
       "<p>381 rows × 2 columns</p>\n",
       "</div>"
      ],
      "text/plain": [
       "     id_x_new  Y_predict\n",
       "0           0        2.0\n",
       "1           1        2.0\n",
       "2           2        2.0\n",
       "3           3        1.0\n",
       "4           4        2.0\n",
       "..        ...        ...\n",
       "376       376        2.0\n",
       "377       377        2.0\n",
       "378       378        2.0\n",
       "379       379        0.0\n",
       "380       380        2.0\n",
       "\n",
       "[381 rows x 2 columns]"
      ]
     },
     "execution_count": 73,
     "metadata": {},
     "output_type": "execute_result"
    }
   ],
   "source": [
    "df_predictions"
   ]
  },
  {
   "cell_type": "code",
   "execution_count": 31,
   "metadata": {},
   "outputs": [
    {
     "data": {
      "text/plain": [
       "0      2.0\n",
       "1      2.0\n",
       "2      1.0\n",
       "3      1.0\n",
       "4      2.0\n",
       "      ... \n",
       "376    0.0\n",
       "377    2.0\n",
       "378    2.0\n",
       "379    2.0\n",
       "380    0.0\n",
       "Name: quality_recode, Length: 381, dtype: float64"
      ]
     },
     "execution_count": 31,
     "metadata": {},
     "output_type": "execute_result"
    }
   ],
   "source": [
    "Y_new.reset_index().quality_recode"
   ]
  },
  {
   "cell_type": "code",
   "execution_count": 32,
   "metadata": {},
   "outputs": [
    {
     "data": {
      "text/plain": [
       "0.7611548556430446"
      ]
     },
     "execution_count": 32,
     "metadata": {},
     "output_type": "execute_result"
    }
   ],
   "source": [
    "TA = sum( df_predictions.Y_predict == Y_new.reset_index().quality_recode ) / len(Y_new)\n",
    "\n",
    "TA"
   ]
  },
  {
   "cell_type": "code",
   "execution_count": 33,
   "metadata": {},
   "outputs": [
    {
     "data": {
      "text/plain": [
       "0.23884514435695536"
      ]
     },
     "execution_count": 33,
     "metadata": {},
     "output_type": "execute_result"
    }
   ],
   "source": [
    "TE = 1 - TA\n",
    "TE"
   ]
  },
  {
   "cell_type": "markdown",
   "metadata": {},
   "source": []
  },
  {
   "attachments": {},
   "cell_type": "markdown",
   "metadata": {},
   "source": [
    "### `KNN_classification` de función a clase"
   ]
  },
  {
   "cell_type": "code",
   "execution_count": 77,
   "metadata": {},
   "outputs": [],
   "source": [
    "class KNN_classification_class():\n",
    "   \n",
    "   \n",
    "    def __init__(self, k):\n",
    "         \n",
    "        self.k = k   \n",
    "\n",
    "            \n",
    "    def fit(self, X_train, Y_train):\n",
    "\n",
    "\n",
    "        self.X_train = X_train\n",
    "        self.Y_train = X_train\n",
    "\n",
    "        return self\n",
    "\n",
    "\n",
    "    def predict(self, Distance_Matrix_New_Data):\n",
    "\n",
    "        self.Distance_Matrix_New_Data = Distance_Matrix_New_Data\n",
    "\n",
    "        Y_predict_x_new_i_LIST = []\n",
    "\n",
    "        for i in range(0, len(Distance_Matrix_New_Data)):\n",
    "\n",
    "            distancias_x_new_i = pd.DataFrame({'id_x_train': self.X_train.index  , 'distancias': Distance_Matrix_New_Data[i,:]})\n",
    "\n",
    "            distancias_x_new_i_sort = distancias_x_new_i.sort_values(by=[\"distancias\"]).reset_index(drop=True)\n",
    "\n",
    "            knn_x_new_i = distancias_x_new_i_sort.iloc[0:self.k , :]\n",
    "\n",
    "            categorias_knn_x_new_i = []\n",
    "\n",
    "        \n",
    "            for j in knn_x_new_i.iloc[:,0]:\n",
    "\n",
    "                categorias_knn_x_new_i.append(self.Y_train[j])\n",
    "\n",
    "    \n",
    "            unique, counts = np.unique(categorias_knn_x_new_i , return_counts=True)\n",
    "\n",
    "            unique_Y , counts_Y = np.unique(self.Y_train , return_counts=True)\n",
    "\n",
    "    \n",
    "            if len(unique) == len(unique_Y) :\n",
    "\n",
    "                proporciones_categorias_knn_x_new_i = pd.DataFrame({'prop_categoria': counts/self.k, 'categoria': unique_Y })\n",
    "        \n",
    "            elif len(unique) < len(unique_Y) :\n",
    "\n",
    "                proporciones_categorias_knn_x_new_i = pd.DataFrame({'prop_categoria': counts/self.k, 'categoria': unique })\n",
    "\n",
    "\n",
    "            Y_predict_x_new_i = proporciones_categorias_knn_x_new_i.sort_values(by=[\"prop_categoria\"], ascending=False).iloc[0,:]['categoria']\n",
    "\n",
    "\n",
    "            Y_predict_x_new_i_LIST.append(Y_predict_x_new_i)\n",
    "\n",
    "    \n",
    "        df_predictions = pd.DataFrame({'id_x_new':range(0, len(Distance_Matrix_New_Data)) , 'Y_predict': Y_predict_x_new_i_LIST})\n",
    "\n",
    "        return df_predictions\n",
    "\n",
    "        "
   ]
  },
  {
   "cell_type": "code",
   "execution_count": 78,
   "metadata": {},
   "outputs": [],
   "source": [
    "KNN = KNN_classification_class(k=10)"
   ]
  },
  {
   "cell_type": "code",
   "execution_count": 79,
   "metadata": {},
   "outputs": [
    {
     "data": {
      "text/plain": [
       "<__main__.KNN_classification_class at 0x282e076fd30>"
      ]
     },
     "execution_count": 79,
     "metadata": {},
     "output_type": "execute_result"
    }
   ],
   "source": [
    "KNN.fit(X_train=X_train , Y_train=Y_train)"
   ]
  },
  {
   "cell_type": "code",
   "execution_count": 80,
   "metadata": {},
   "outputs": [
    {
     "ename": "KeyError",
     "evalue": "393",
     "output_type": "error",
     "traceback": [
      "\u001b[1;31m---------------------------------------------------------------------------\u001b[0m",
      "\u001b[1;31mKeyError\u001b[0m                                  Traceback (most recent call last)",
      "File \u001b[1;32mc:\\Users\\Usuario\\AppData\\Local\\Programs\\Python\\Python310\\lib\\site-packages\\pandas\\core\\indexes\\base.py:3629\u001b[0m, in \u001b[0;36mIndex.get_loc\u001b[1;34m(self, key, method, tolerance)\u001b[0m\n\u001b[0;32m   3628\u001b[0m \u001b[39mtry\u001b[39;00m:\n\u001b[1;32m-> 3629\u001b[0m     \u001b[39mreturn\u001b[39;00m \u001b[39mself\u001b[39;49m\u001b[39m.\u001b[39;49m_engine\u001b[39m.\u001b[39;49mget_loc(casted_key)\n\u001b[0;32m   3630\u001b[0m \u001b[39mexcept\u001b[39;00m \u001b[39mKeyError\u001b[39;00m \u001b[39mas\u001b[39;00m err:\n",
      "File \u001b[1;32mc:\\Users\\Usuario\\AppData\\Local\\Programs\\Python\\Python310\\lib\\site-packages\\pandas\\_libs\\index.pyx:136\u001b[0m, in \u001b[0;36mpandas._libs.index.IndexEngine.get_loc\u001b[1;34m()\u001b[0m\n",
      "File \u001b[1;32mc:\\Users\\Usuario\\AppData\\Local\\Programs\\Python\\Python310\\lib\\site-packages\\pandas\\_libs\\index.pyx:163\u001b[0m, in \u001b[0;36mpandas._libs.index.IndexEngine.get_loc\u001b[1;34m()\u001b[0m\n",
      "File \u001b[1;32mpandas\\_libs\\hashtable_class_helper.pxi:5198\u001b[0m, in \u001b[0;36mpandas._libs.hashtable.PyObjectHashTable.get_item\u001b[1;34m()\u001b[0m\n",
      "File \u001b[1;32mpandas\\_libs\\hashtable_class_helper.pxi:5206\u001b[0m, in \u001b[0;36mpandas._libs.hashtable.PyObjectHashTable.get_item\u001b[1;34m()\u001b[0m\n",
      "\u001b[1;31mKeyError\u001b[0m: 393",
      "\nThe above exception was the direct cause of the following exception:\n",
      "\u001b[1;31mKeyError\u001b[0m                                  Traceback (most recent call last)",
      "\u001b[1;32mc:\\Users\\Usuario\\Documents\\fabio\\Fabio\\Estadistica4all.github.io\\Notebooks\\KNN\\KNN_new.ipynb Cell 41\u001b[0m in \u001b[0;36m<cell line: 1>\u001b[1;34m()\u001b[0m\n\u001b[1;32m----> <a href='vscode-notebook-cell:/c%3A/Users/Usuario/Documents/fabio/Fabio/Estadistica4all.github.io/Notebooks/KNN/KNN_new.ipynb#Y143sZmlsZQ%3D%3D?line=0'>1</a>\u001b[0m KNN\u001b[39m.\u001b[39;49mpredict(Distance_Matrix_New_Data\u001b[39m=\u001b[39;49mM_Gower_new_data)\n",
      "\u001b[1;32mc:\\Users\\Usuario\\Documents\\fabio\\Fabio\\Estadistica4all.github.io\\Notebooks\\KNN\\KNN_new.ipynb Cell 41\u001b[0m in \u001b[0;36mKNN_classification_class.predict\u001b[1;34m(self, Distance_Matrix_New_Data)\u001b[0m\n\u001b[0;32m     <a href='vscode-notebook-cell:/c%3A/Users/Usuario/Documents/fabio/Fabio/Estadistica4all.github.io/Notebooks/KNN/KNN_new.ipynb#Y143sZmlsZQ%3D%3D?line=31'>32</a>\u001b[0m categorias_knn_x_new_i \u001b[39m=\u001b[39m []\n\u001b[0;32m     <a href='vscode-notebook-cell:/c%3A/Users/Usuario/Documents/fabio/Fabio/Estadistica4all.github.io/Notebooks/KNN/KNN_new.ipynb#Y143sZmlsZQ%3D%3D?line=34'>35</a>\u001b[0m \u001b[39mfor\u001b[39;00m j \u001b[39min\u001b[39;00m knn_x_new_i\u001b[39m.\u001b[39miloc[:,\u001b[39m0\u001b[39m]:\n\u001b[1;32m---> <a href='vscode-notebook-cell:/c%3A/Users/Usuario/Documents/fabio/Fabio/Estadistica4all.github.io/Notebooks/KNN/KNN_new.ipynb#Y143sZmlsZQ%3D%3D?line=36'>37</a>\u001b[0m     categorias_knn_x_new_i\u001b[39m.\u001b[39mappend(\u001b[39mself\u001b[39;49m\u001b[39m.\u001b[39;49mY_train[j])\n\u001b[0;32m     <a href='vscode-notebook-cell:/c%3A/Users/Usuario/Documents/fabio/Fabio/Estadistica4all.github.io/Notebooks/KNN/KNN_new.ipynb#Y143sZmlsZQ%3D%3D?line=39'>40</a>\u001b[0m unique, counts \u001b[39m=\u001b[39m np\u001b[39m.\u001b[39munique(categorias_knn_x_new_i , return_counts\u001b[39m=\u001b[39m\u001b[39mTrue\u001b[39;00m)\n\u001b[0;32m     <a href='vscode-notebook-cell:/c%3A/Users/Usuario/Documents/fabio/Fabio/Estadistica4all.github.io/Notebooks/KNN/KNN_new.ipynb#Y143sZmlsZQ%3D%3D?line=41'>42</a>\u001b[0m unique_Y , counts_Y \u001b[39m=\u001b[39m np\u001b[39m.\u001b[39munique(\u001b[39mself\u001b[39m\u001b[39m.\u001b[39mY_train , return_counts\u001b[39m=\u001b[39m\u001b[39mTrue\u001b[39;00m)\n",
      "File \u001b[1;32mc:\\Users\\Usuario\\AppData\\Local\\Programs\\Python\\Python310\\lib\\site-packages\\pandas\\core\\frame.py:3505\u001b[0m, in \u001b[0;36mDataFrame.__getitem__\u001b[1;34m(self, key)\u001b[0m\n\u001b[0;32m   3503\u001b[0m \u001b[39mif\u001b[39;00m \u001b[39mself\u001b[39m\u001b[39m.\u001b[39mcolumns\u001b[39m.\u001b[39mnlevels \u001b[39m>\u001b[39m \u001b[39m1\u001b[39m:\n\u001b[0;32m   3504\u001b[0m     \u001b[39mreturn\u001b[39;00m \u001b[39mself\u001b[39m\u001b[39m.\u001b[39m_getitem_multilevel(key)\n\u001b[1;32m-> 3505\u001b[0m indexer \u001b[39m=\u001b[39m \u001b[39mself\u001b[39;49m\u001b[39m.\u001b[39;49mcolumns\u001b[39m.\u001b[39;49mget_loc(key)\n\u001b[0;32m   3506\u001b[0m \u001b[39mif\u001b[39;00m is_integer(indexer):\n\u001b[0;32m   3507\u001b[0m     indexer \u001b[39m=\u001b[39m [indexer]\n",
      "File \u001b[1;32mc:\\Users\\Usuario\\AppData\\Local\\Programs\\Python\\Python310\\lib\\site-packages\\pandas\\core\\indexes\\base.py:3631\u001b[0m, in \u001b[0;36mIndex.get_loc\u001b[1;34m(self, key, method, tolerance)\u001b[0m\n\u001b[0;32m   3629\u001b[0m     \u001b[39mreturn\u001b[39;00m \u001b[39mself\u001b[39m\u001b[39m.\u001b[39m_engine\u001b[39m.\u001b[39mget_loc(casted_key)\n\u001b[0;32m   3630\u001b[0m \u001b[39mexcept\u001b[39;00m \u001b[39mKeyError\u001b[39;00m \u001b[39mas\u001b[39;00m err:\n\u001b[1;32m-> 3631\u001b[0m     \u001b[39mraise\u001b[39;00m \u001b[39mKeyError\u001b[39;00m(key) \u001b[39mfrom\u001b[39;00m \u001b[39merr\u001b[39;00m\n\u001b[0;32m   3632\u001b[0m \u001b[39mexcept\u001b[39;00m \u001b[39mTypeError\u001b[39;00m:\n\u001b[0;32m   3633\u001b[0m     \u001b[39m# If we have a listlike key, _check_indexing_error will raise\u001b[39;00m\n\u001b[0;32m   3634\u001b[0m     \u001b[39m#  InvalidIndexError. Otherwise we fall through and re-raise\u001b[39;00m\n\u001b[0;32m   3635\u001b[0m     \u001b[39m#  the TypeError.\u001b[39;00m\n\u001b[0;32m   3636\u001b[0m     \u001b[39mself\u001b[39m\u001b[39m.\u001b[39m_check_indexing_error(key)\n",
      "\u001b[1;31mKeyError\u001b[0m: 393"
     ]
    }
   ],
   "source": [
    "KNN.predict(Distance_Matrix_New_Data=M_Gower_new_data)"
   ]
  },
  {
   "cell_type": "code",
   "execution_count": null,
   "metadata": {},
   "outputs": [],
   "source": []
  },
  {
   "cell_type": "markdown",
   "metadata": {},
   "source": []
  },
  {
   "cell_type": "code",
   "execution_count": null,
   "metadata": {},
   "outputs": [],
   "source": [
    "M_Euclidea = Matrix_Dist_Euclidea(Data=X.to_numpy())\n",
    "\n",
    "M_Euclidea  = M_Euclidea + M_Euclidea.T\n",
    "\n",
    "M_Euclidea_new_data = M_Euclidea[ len(X_train):len(X) , 0:len(X_train) ]  "
   ]
  },
  {
   "cell_type": "code",
   "execution_count": null,
   "metadata": {},
   "outputs": [],
   "source": [
    "df_predictions = KNN_classification(Distance_Matrix_New_Data = M_Euclidea_new_data , k=10, X_train=X_train, Y_train=Y_train)"
   ]
  },
  {
   "cell_type": "code",
   "execution_count": null,
   "metadata": {},
   "outputs": [
    {
     "data": {
      "text/html": [
       "<div>\n",
       "<style scoped>\n",
       "    .dataframe tbody tr th:only-of-type {\n",
       "        vertical-align: middle;\n",
       "    }\n",
       "\n",
       "    .dataframe tbody tr th {\n",
       "        vertical-align: top;\n",
       "    }\n",
       "\n",
       "    .dataframe thead th {\n",
       "        text-align: right;\n",
       "    }\n",
       "</style>\n",
       "<table border=\"1\" class=\"dataframe\">\n",
       "  <thead>\n",
       "    <tr style=\"text-align: right;\">\n",
       "      <th></th>\n",
       "      <th>id_x_new</th>\n",
       "      <th>Y_predict</th>\n",
       "    </tr>\n",
       "  </thead>\n",
       "  <tbody>\n",
       "    <tr>\n",
       "      <th>0</th>\n",
       "      <td>0</td>\n",
       "      <td>2.0</td>\n",
       "    </tr>\n",
       "    <tr>\n",
       "      <th>1</th>\n",
       "      <td>1</td>\n",
       "      <td>1.0</td>\n",
       "    </tr>\n",
       "    <tr>\n",
       "      <th>2</th>\n",
       "      <td>2</td>\n",
       "      <td>2.0</td>\n",
       "    </tr>\n",
       "    <tr>\n",
       "      <th>3</th>\n",
       "      <td>3</td>\n",
       "      <td>1.0</td>\n",
       "    </tr>\n",
       "    <tr>\n",
       "      <th>4</th>\n",
       "      <td>4</td>\n",
       "      <td>2.0</td>\n",
       "    </tr>\n",
       "    <tr>\n",
       "      <th>...</th>\n",
       "      <td>...</td>\n",
       "      <td>...</td>\n",
       "    </tr>\n",
       "    <tr>\n",
       "      <th>376</th>\n",
       "      <td>376</td>\n",
       "      <td>2.0</td>\n",
       "    </tr>\n",
       "    <tr>\n",
       "      <th>377</th>\n",
       "      <td>377</td>\n",
       "      <td>2.0</td>\n",
       "    </tr>\n",
       "    <tr>\n",
       "      <th>378</th>\n",
       "      <td>378</td>\n",
       "      <td>1.0</td>\n",
       "    </tr>\n",
       "    <tr>\n",
       "      <th>379</th>\n",
       "      <td>379</td>\n",
       "      <td>2.0</td>\n",
       "    </tr>\n",
       "    <tr>\n",
       "      <th>380</th>\n",
       "      <td>380</td>\n",
       "      <td>2.0</td>\n",
       "    </tr>\n",
       "  </tbody>\n",
       "</table>\n",
       "<p>381 rows × 2 columns</p>\n",
       "</div>"
      ],
      "text/plain": [
       "     id_x_new  Y_predict\n",
       "0           0        2.0\n",
       "1           1        1.0\n",
       "2           2        2.0\n",
       "3           3        1.0\n",
       "4           4        2.0\n",
       "..        ...        ...\n",
       "376       376        2.0\n",
       "377       377        2.0\n",
       "378       378        1.0\n",
       "379       379        2.0\n",
       "380       380        2.0\n",
       "\n",
       "[381 rows x 2 columns]"
      ]
     },
     "execution_count": 35,
     "metadata": {},
     "output_type": "execute_result"
    }
   ],
   "source": [
    "df_predictions"
   ]
  },
  {
   "cell_type": "code",
   "execution_count": null,
   "metadata": {},
   "outputs": [
    {
     "data": {
      "text/plain": [
       "0.5958005249343832"
      ]
     },
     "execution_count": 36,
     "metadata": {},
     "output_type": "execute_result"
    }
   ],
   "source": [
    "TA = sum( df_predictions.Y_predict == Y_new.reset_index().quality_recode ) / len(Y_new)\n",
    "TA"
   ]
  },
  {
   "cell_type": "code",
   "execution_count": null,
   "metadata": {},
   "outputs": [
    {
     "data": {
      "text/plain": [
       "0.4041994750656168"
      ]
     },
     "execution_count": 37,
     "metadata": {},
     "output_type": "execute_result"
    }
   ],
   "source": [
    "TE = 1 - TA\n",
    "TE"
   ]
  },
  {
   "cell_type": "markdown",
   "metadata": {},
   "source": []
  },
  {
   "cell_type": "markdown",
   "metadata": {},
   "source": [
    "## KNN-clasificación con `sklearn`"
   ]
  },
  {
   "cell_type": "code",
   "execution_count": null,
   "metadata": {},
   "outputs": [],
   "source": [
    "import sklearn\n",
    "\n",
    "from sklearn.neighbors import NearestNeighbors"
   ]
  },
  {
   "cell_type": "code",
   "execution_count": null,
   "metadata": {},
   "outputs": [],
   "source": [
    "# sklearn.neighbors.KNeighborsClassifier(n_neighbors=10, *, weights='uniform', algorithm='auto', leaf_size=30, p=2, metric='minkowski', metric_params=None, n_jobs=None) "
   ]
  },
  {
   "cell_type": "code",
   "execution_count": null,
   "metadata": {},
   "outputs": [],
   "source": [
    "knn_classification = sklearn.neighbors.KNeighborsClassifier(n_neighbors=10 ,  p=2, metric='minkowski')"
   ]
  },
  {
   "cell_type": "code",
   "execution_count": null,
   "metadata": {},
   "outputs": [
    {
     "data": {
      "text/plain": [
       "KNeighborsClassifier(n_neighbors=10)"
      ]
     },
     "execution_count": 41,
     "metadata": {},
     "output_type": "execute_result"
    }
   ],
   "source": [
    "knn_classification.fit(X_train, Y_train)"
   ]
  },
  {
   "cell_type": "code",
   "execution_count": null,
   "metadata": {},
   "outputs": [
    {
     "data": {
      "text/plain": [
       "array([2., 1., 2., 1., 2., 2., 2., 2., 2., 2., 2., 2., 2., 2., 2., 2., 1.,\n",
       "       2., 2., 2., 2., 3., 1., 2., 2., 2., 2., 1., 1., 2., 2., 2., 2., 2.,\n",
       "       2., 1., 2., 2., 2., 2., 2., 2., 2., 2., 2., 2., 2., 1., 2., 2., 1.,\n",
       "       1., 2., 2., 2., 2., 2., 2., 2., 2., 1., 2., 2., 2., 2., 2., 1., 2.,\n",
       "       1., 2., 2., 2., 2., 2., 2., 2., 2., 2., 1., 2., 2., 2., 2., 2., 2.,\n",
       "       2., 2., 2., 2., 2., 1., 2., 2., 2., 2., 2., 2., 1., 2., 2., 2., 1.,\n",
       "       2., 2., 2., 2., 2., 2., 2., 2., 2., 2., 2., 2., 2., 2., 2., 2., 2.,\n",
       "       2., 2., 2., 2., 2., 2., 2., 2., 2., 2., 2., 2., 2., 1., 2., 3., 3.,\n",
       "       2., 2., 2., 2., 1., 2., 2., 2., 2., 2., 3., 2., 2., 1., 2., 2., 2.,\n",
       "       2., 2., 2., 2., 2., 1., 2., 1., 2., 2., 1., 1., 2., 2., 2., 2., 2.,\n",
       "       2., 2., 2., 2., 2., 2., 2., 2., 2., 3., 1., 1., 2., 2., 2., 2., 2.,\n",
       "       2., 2., 1., 2., 2., 2., 1., 2., 2., 2., 2., 2., 2., 1., 2., 2., 3.,\n",
       "       2., 2., 2., 2., 2., 2., 2., 3., 2., 1., 2., 1., 1., 2., 2., 2., 1.,\n",
       "       2., 2., 2., 2., 2., 2., 2., 2., 2., 2., 2., 2., 2., 3., 2., 2., 2.,\n",
       "       2., 2., 2., 2., 2., 1., 1., 1., 2., 2., 2., 1., 2., 2., 1., 2., 2.,\n",
       "       2., 2., 2., 2., 2., 2., 2., 2., 2., 2., 2., 2., 2., 2., 2., 2., 1.,\n",
       "       1., 2., 1., 2., 2., 2., 2., 2., 2., 2., 2., 2., 2., 2., 2., 2., 2.,\n",
       "       2., 2., 2., 2., 2., 2., 1., 2., 2., 2., 2., 1., 2., 2., 2., 2., 2.,\n",
       "       2., 2., 2., 1., 2., 1., 2., 1., 2., 2., 2., 2., 2., 2., 2., 2., 2.,\n",
       "       2., 2., 2., 2., 2., 2., 2., 2., 2., 2., 2., 2., 1., 2., 1., 2., 2.,\n",
       "       2., 2., 2., 1., 2., 2., 1., 2., 2., 2., 2., 1., 2., 2., 2., 1., 1.,\n",
       "       2., 1., 2., 1., 2., 2., 3., 2., 2., 2., 2., 2., 2., 2., 2., 1., 2.,\n",
       "       2., 2., 2., 2., 1., 2., 2.])"
      ]
     },
     "execution_count": 42,
     "metadata": {},
     "output_type": "execute_result"
    }
   ],
   "source": [
    "knn_classification.predict( X_new ) "
   ]
  },
  {
   "cell_type": "code",
   "execution_count": null,
   "metadata": {},
   "outputs": [
    {
     "data": {
      "text/plain": [
       "0.5958005249343832"
      ]
     },
     "execution_count": 43,
     "metadata": {},
     "output_type": "execute_result"
    }
   ],
   "source": [
    "TA = sum( knn_classification.predict( X_new ) == Y_new.reset_index().quality_recode ) / len(Y_new)\n",
    "TA"
   ]
  },
  {
   "cell_type": "markdown",
   "metadata": {},
   "source": []
  },
  {
   "cell_type": "code",
   "execution_count": null,
   "metadata": {},
   "outputs": [
    {
     "data": {
      "text/plain": [
       "0.5931758530183727"
      ]
     },
     "execution_count": 44,
     "metadata": {},
     "output_type": "execute_result"
    }
   ],
   "source": [
    "knn_classification = sklearn.neighbors.KNeighborsClassifier(n_neighbors=10 , p=1,  metric='minkowski')\n",
    "\n",
    "knn_classification.fit(X_train, Y_train)\n",
    "\n",
    "TA = sum( knn_classification.predict( X_new )  == Y_new.reset_index().quality_recode ) / len(Y_new)\n",
    "TA"
   ]
  },
  {
   "cell_type": "code",
   "execution_count": null,
   "metadata": {},
   "outputs": [
    {
     "data": {
      "text/plain": [
       "0.6115485564304461"
      ]
     },
     "execution_count": 45,
     "metadata": {},
     "output_type": "execute_result"
    }
   ],
   "source": [
    "knn_classification = sklearn.neighbors.KNeighborsClassifier(n_neighbors=10 ,   metric='cosine')\n",
    "\n",
    "knn_classification.fit(X_train, Y_train)\n",
    "\n",
    "TA = sum( knn_classification.predict( X_new )  == Y_new.reset_index().quality_recode ) / len(Y_new)\n",
    "TA"
   ]
  },
  {
   "cell_type": "markdown",
   "metadata": {},
   "source": []
  },
  {
   "cell_type": "markdown",
   "metadata": {},
   "source": []
  },
  {
   "cell_type": "markdown",
   "metadata": {},
   "source": [
    "## KNN-regresion programado de cero"
   ]
  },
  {
   "cell_type": "code",
   "execution_count": null,
   "metadata": {},
   "outputs": [],
   "source": [
    "def KNN_regresion(Distance_Matrix_New_Data , k , X_train, Y_train) :\n",
    "\n",
    "    # k es el hiper-parametro del algoritmo KNN.\n",
    "\n",
    "    # 'Distance_Matrix_New_Data' debe contenere las distancias entre las nuevas observaciones de los predictores y las de train.\n",
    "\n",
    "    # Su fila i-esima debe contener las distancias entre la i-esima nueva observacion de los predictores y las observaciones de train de los predictores.\n",
    "\n",
    "\n",
    "    Y_predict_x_new_i_LIST = []\n",
    "\n",
    "    for i in range(0, len(Distance_Matrix_New_Data)):\n",
    "\n",
    "        distancias_x_new_i = pd.DataFrame({'id_x_train': X_train.index  , 'distancias': Distance_Matrix_New_Data[i,:]})\n",
    "\n",
    "        distancias_x_new_i_sort = distancias_x_new_i.sort_values(by=[\"distancias\"]).reset_index(drop=True)\n",
    "\n",
    "        knn_x_new_i = distancias_x_new_i_sort.iloc[0:k , :]\n",
    "\n",
    "        Y_values_knn_x_new_i = []\n",
    "\n",
    "        \n",
    "        for j in knn_x_new_i.iloc[:,0]:\n",
    "\n",
    "            Y_values_knn_x_new_i.append(Y_train[j])\n",
    "\n",
    "\n",
    "        Y_predict_x_new_i = sum(Y_values_knn_x_new_i)/k    \n",
    "\n",
    "        Y_predict_x_new_i_LIST.append(Y_predict_x_new_i)\n",
    "\n",
    "    \n",
    "    df_predictions = pd.DataFrame({'id_x_new':range(0, len(Distance_Matrix_New_Data)) , 'Y_predict': Y_predict_x_new_i_LIST})\n",
    "\n",
    "    return df_predictions"
   ]
  },
  {
   "cell_type": "code",
   "execution_count": null,
   "metadata": {},
   "outputs": [],
   "source": [
    "## TRAIN DATA (Datos dispobles --> se usan para entrenar el modelo)\n",
    "\n",
    "X_train = Data_Mixed_train.loc[: , Data_Mixed_train.columns != 'price']\n",
    "Y_train = Data_Mixed_train.loc[: , 'price']\n",
    "\n",
    "## NEW DATA (Nuevos datos de los predictores)\n",
    "\n",
    "X_new = Data_Mixed_new.loc[: , Data_Mixed_new.columns != 'price']\n",
    "\n",
    "# En la práctica real no se tienen datos sobre la respuesta asociado a las nuevas obsrvaciones de los predictores\n",
    "# Eso es justo lo que se quiere predecir.\n",
    "# Pero en este ejemplo al usar como \"nuevos\" datos una parte del data set original, si que tenemos esa información.\n",
    "\n",
    "Y_new = Data_Mixed_new.loc[: , 'price'] "
   ]
  },
  {
   "cell_type": "code",
   "execution_count": null,
   "metadata": {},
   "outputs": [
    {
     "data": {
      "text/html": [
       "<div>\n",
       "<style scoped>\n",
       "    .dataframe tbody tr th:only-of-type {\n",
       "        vertical-align: middle;\n",
       "    }\n",
       "\n",
       "    .dataframe tbody tr th {\n",
       "        vertical-align: top;\n",
       "    }\n",
       "\n",
       "    .dataframe thead th {\n",
       "        text-align: right;\n",
       "    }\n",
       "</style>\n",
       "<table border=\"1\" class=\"dataframe\">\n",
       "  <thead>\n",
       "    <tr style=\"text-align: right;\">\n",
       "      <th></th>\n",
       "      <th>latitude</th>\n",
       "      <th>longitude</th>\n",
       "      <th>price</th>\n",
       "      <th>size_in_m_2</th>\n",
       "      <th>balcony_recode</th>\n",
       "      <th>private_garden_recode</th>\n",
       "    </tr>\n",
       "  </thead>\n",
       "  <tbody>\n",
       "    <tr>\n",
       "      <th>382</th>\n",
       "      <td>25.196489</td>\n",
       "      <td>55.272126</td>\n",
       "      <td>15800000</td>\n",
       "      <td>488.019459</td>\n",
       "      <td>0.0</td>\n",
       "      <td>1.0</td>\n",
       "    </tr>\n",
       "    <tr>\n",
       "      <th>732</th>\n",
       "      <td>25.107984</td>\n",
       "      <td>55.244923</td>\n",
       "      <td>1700000</td>\n",
       "      <td>138.704179</td>\n",
       "      <td>0.0</td>\n",
       "      <td>0.0</td>\n",
       "    </tr>\n",
       "    <tr>\n",
       "      <th>1888</th>\n",
       "      <td>25.071504</td>\n",
       "      <td>55.128579</td>\n",
       "      <td>1300000</td>\n",
       "      <td>171.220229</td>\n",
       "      <td>1.0</td>\n",
       "      <td>0.0</td>\n",
       "    </tr>\n",
       "    <tr>\n",
       "      <th>679</th>\n",
       "      <td>25.054336</td>\n",
       "      <td>55.203423</td>\n",
       "      <td>999000</td>\n",
       "      <td>116.035847</td>\n",
       "      <td>1.0</td>\n",
       "      <td>1.0</td>\n",
       "    </tr>\n",
       "    <tr>\n",
       "      <th>1004</th>\n",
       "      <td>25.087251</td>\n",
       "      <td>55.145574</td>\n",
       "      <td>2990000</td>\n",
       "      <td>162.208638</td>\n",
       "      <td>1.0</td>\n",
       "      <td>0.0</td>\n",
       "    </tr>\n",
       "    <tr>\n",
       "      <th>...</th>\n",
       "      <td>...</td>\n",
       "      <td>...</td>\n",
       "      <td>...</td>\n",
       "      <td>...</td>\n",
       "      <td>...</td>\n",
       "      <td>...</td>\n",
       "    </tr>\n",
       "    <tr>\n",
       "      <th>1892</th>\n",
       "      <td>24.865992</td>\n",
       "      <td>55.137958</td>\n",
       "      <td>1175000</td>\n",
       "      <td>301.656041</td>\n",
       "      <td>1.0</td>\n",
       "      <td>1.0</td>\n",
       "    </tr>\n",
       "    <tr>\n",
       "      <th>1896</th>\n",
       "      <td>25.196489</td>\n",
       "      <td>55.272126</td>\n",
       "      <td>18040888</td>\n",
       "      <td>488.019459</td>\n",
       "      <td>1.0</td>\n",
       "      <td>0.0</td>\n",
       "    </tr>\n",
       "    <tr>\n",
       "      <th>1901</th>\n",
       "      <td>25.166145</td>\n",
       "      <td>55.276684</td>\n",
       "      <td>1230000</td>\n",
       "      <td>70.606280</td>\n",
       "      <td>1.0</td>\n",
       "      <td>0.0</td>\n",
       "    </tr>\n",
       "    <tr>\n",
       "      <th>1903</th>\n",
       "      <td>25.073858</td>\n",
       "      <td>55.229844</td>\n",
       "      <td>675000</td>\n",
       "      <td>68.748220</td>\n",
       "      <td>1.0</td>\n",
       "      <td>1.0</td>\n",
       "    </tr>\n",
       "    <tr>\n",
       "      <th>1904</th>\n",
       "      <td>25.079130</td>\n",
       "      <td>55.154713</td>\n",
       "      <td>760887</td>\n",
       "      <td>74.322400</td>\n",
       "      <td>1.0</td>\n",
       "      <td>0.0</td>\n",
       "    </tr>\n",
       "  </tbody>\n",
       "</table>\n",
       "<p>1905 rows × 6 columns</p>\n",
       "</div>"
      ],
      "text/plain": [
       "       latitude  longitude     price  size_in_m_2  balcony_recode  \\\n",
       "382   25.196489  55.272126  15800000   488.019459             0.0   \n",
       "732   25.107984  55.244923   1700000   138.704179             0.0   \n",
       "1888  25.071504  55.128579   1300000   171.220229             1.0   \n",
       "679   25.054336  55.203423    999000   116.035847             1.0   \n",
       "1004  25.087251  55.145574   2990000   162.208638             1.0   \n",
       "...         ...        ...       ...          ...             ...   \n",
       "1892  24.865992  55.137958   1175000   301.656041             1.0   \n",
       "1896  25.196489  55.272126  18040888   488.019459             1.0   \n",
       "1901  25.166145  55.276684   1230000    70.606280             1.0   \n",
       "1903  25.073858  55.229844    675000    68.748220             1.0   \n",
       "1904  25.079130  55.154713    760887    74.322400             1.0   \n",
       "\n",
       "      private_garden_recode  \n",
       "382                     1.0  \n",
       "732                     0.0  \n",
       "1888                    0.0  \n",
       "679                     1.0  \n",
       "1004                    0.0  \n",
       "...                     ...  \n",
       "1892                    1.0  \n",
       "1896                    0.0  \n",
       "1901                    0.0  \n",
       "1903                    1.0  \n",
       "1904                    0.0  \n",
       "\n",
       "[1905 rows x 6 columns]"
      ]
     },
     "execution_count": 49,
     "metadata": {},
     "output_type": "execute_result"
    }
   ],
   "source": [
    "X"
   ]
  },
  {
   "cell_type": "code",
   "execution_count": null,
   "metadata": {},
   "outputs": [],
   "source": [
    "X = pd.concat([X_train , X_new])\n",
    "\n",
    "M_Gower = Matrix_Gower_Distance(Data=X.to_numpy(), p1=3, p2=2, p3=1)\n",
    "\n",
    "M_Gower_new_data = M_Gower[ len(X_train):len(X) , 0:len(X_train) ]  "
   ]
  },
  {
   "cell_type": "code",
   "execution_count": null,
   "metadata": {},
   "outputs": [
    {
     "data": {
      "text/html": [
       "<div>\n",
       "<style scoped>\n",
       "    .dataframe tbody tr th:only-of-type {\n",
       "        vertical-align: middle;\n",
       "    }\n",
       "\n",
       "    .dataframe tbody tr th {\n",
       "        vertical-align: top;\n",
       "    }\n",
       "\n",
       "    .dataframe thead th {\n",
       "        text-align: right;\n",
       "    }\n",
       "</style>\n",
       "<table border=\"1\" class=\"dataframe\">\n",
       "  <thead>\n",
       "    <tr style=\"text-align: right;\">\n",
       "      <th></th>\n",
       "      <th>id_x_new</th>\n",
       "      <th>Y_predict</th>\n",
       "    </tr>\n",
       "  </thead>\n",
       "  <tbody>\n",
       "    <tr>\n",
       "      <th>0</th>\n",
       "      <td>0</td>\n",
       "      <td>2081499.9</td>\n",
       "    </tr>\n",
       "    <tr>\n",
       "      <th>1</th>\n",
       "      <td>1</td>\n",
       "      <td>1710999.9</td>\n",
       "    </tr>\n",
       "    <tr>\n",
       "      <th>2</th>\n",
       "      <td>2</td>\n",
       "      <td>2639277.7</td>\n",
       "    </tr>\n",
       "    <tr>\n",
       "      <th>3</th>\n",
       "      <td>3</td>\n",
       "      <td>2817500.0</td>\n",
       "    </tr>\n",
       "    <tr>\n",
       "      <th>4</th>\n",
       "      <td>4</td>\n",
       "      <td>2839583.6</td>\n",
       "    </tr>\n",
       "    <tr>\n",
       "      <th>...</th>\n",
       "      <td>...</td>\n",
       "      <td>...</td>\n",
       "    </tr>\n",
       "    <tr>\n",
       "      <th>376</th>\n",
       "      <td>376</td>\n",
       "      <td>4778999.9</td>\n",
       "    </tr>\n",
       "    <tr>\n",
       "      <th>377</th>\n",
       "      <td>377</td>\n",
       "      <td>12093477.6</td>\n",
       "    </tr>\n",
       "    <tr>\n",
       "      <th>378</th>\n",
       "      <td>378</td>\n",
       "      <td>1019720.0</td>\n",
       "    </tr>\n",
       "    <tr>\n",
       "      <th>379</th>\n",
       "      <td>379</td>\n",
       "      <td>1260699.9</td>\n",
       "    </tr>\n",
       "    <tr>\n",
       "      <th>380</th>\n",
       "      <td>380</td>\n",
       "      <td>1088923.8</td>\n",
       "    </tr>\n",
       "  </tbody>\n",
       "</table>\n",
       "<p>381 rows × 2 columns</p>\n",
       "</div>"
      ],
      "text/plain": [
       "     id_x_new   Y_predict\n",
       "0           0   2081499.9\n",
       "1           1   1710999.9\n",
       "2           2   2639277.7\n",
       "3           3   2817500.0\n",
       "4           4   2839583.6\n",
       "..        ...         ...\n",
       "376       376   4778999.9\n",
       "377       377  12093477.6\n",
       "378       378   1019720.0\n",
       "379       379   1260699.9\n",
       "380       380   1088923.8\n",
       "\n",
       "[381 rows x 2 columns]"
      ]
     },
     "execution_count": 61,
     "metadata": {},
     "output_type": "execute_result"
    }
   ],
   "source": [
    "df_predictions = KNN_regresion(Distance_Matrix_New_Data=M_Gower_new_data , k=10 , X_train=X_train, Y_train=Y_train) \n",
    "df_predictions"
   ]
  },
  {
   "cell_type": "code",
   "execution_count": null,
   "metadata": {},
   "outputs": [
    {
     "data": {
      "text/plain": [
       "2694547525120.1924"
      ]
     },
     "execution_count": 52,
     "metadata": {},
     "output_type": "execute_result"
    }
   ],
   "source": [
    "ECM = sum( (df_predictions.Y_predict - Y_new.reset_index().price)**2 ) / len(Y_new)\n",
    "ECM"
   ]
  },
  {
   "cell_type": "code",
   "execution_count": null,
   "metadata": {},
   "outputs": [
    {
     "data": {
      "text/plain": [
       "1641507.6987696989"
      ]
     },
     "execution_count": 53,
     "metadata": {},
     "output_type": "execute_result"
    }
   ],
   "source": [
    "np.sqrt(ECM)"
   ]
  },
  {
   "cell_type": "markdown",
   "metadata": {},
   "source": []
  },
  {
   "cell_type": "code",
   "execution_count": null,
   "metadata": {},
   "outputs": [],
   "source": [
    "M_Euclidea = Matrix_Dist_Euclidea(Data=X.to_numpy())\n",
    "\n",
    "M_Euclidea  = M_Euclidea + M_Euclidea.T\n",
    "\n",
    "M_Euclidea_new_data = M_Euclidea[ len(X_train):len(X) , 0:len(X_train) ]  "
   ]
  },
  {
   "cell_type": "code",
   "execution_count": null,
   "metadata": {},
   "outputs": [],
   "source": [
    "df_predictions = KNN_regresion(Distance_Matrix_New_Data=M_Euclidea_new_data , k=10 , X_train=X_train, Y_train=Y_train) "
   ]
  },
  {
   "cell_type": "code",
   "execution_count": null,
   "metadata": {},
   "outputs": [
    {
     "data": {
      "text/plain": [
       "2406009496239.313"
      ]
     },
     "execution_count": 56,
     "metadata": {},
     "output_type": "execute_result"
    }
   ],
   "source": [
    "ECM = sum( (df_predictions.Y_predict - Y_new.reset_index().price)**2 ) / len(Y_new)\n",
    "ECM"
   ]
  },
  {
   "cell_type": "markdown",
   "metadata": {},
   "source": []
  },
  {
   "cell_type": "markdown",
   "metadata": {},
   "source": []
  },
  {
   "cell_type": "markdown",
   "metadata": {},
   "source": [
    "## KNN-regresion con `sklearn`"
   ]
  },
  {
   "cell_type": "code",
   "execution_count": null,
   "metadata": {},
   "outputs": [
    {
     "data": {
      "text/plain": [
       "KNeighborsRegressor(n_neighbors=10)"
      ]
     },
     "execution_count": 57,
     "metadata": {},
     "output_type": "execute_result"
    }
   ],
   "source": [
    "knn_regression = sklearn.neighbors.KNeighborsRegressor(n_neighbors=10 , p=2,  metric='minkowski')\n",
    "\n",
    "knn_regression.fit(X_train, Y_train)"
   ]
  },
  {
   "cell_type": "code",
   "execution_count": null,
   "metadata": {},
   "outputs": [
    {
     "data": {
      "text/plain": [
       "array([ 1963827.5,  3046500. ,  2523990. ,  2477788.8,  2513966.5,\n",
       "        1732699.8,  2209200. ,  1629939.2,  2014867.5,  1567750.3,\n",
       "         938557.7,  1272000. ,  1739199.8,  5767999. ,  2620300. ,\n",
       "        2699000. ,  2184789.9,  1313399.9,  1606889.9,  1606988.7,\n",
       "        2143900. ,   456800. ,  2475000. ,   923199.9,  1514399.6,\n",
       "        2689500. ,   627404.9,  1807950. ,  2860688.7,   934390.3,\n",
       "       11746999.9,  1370299.9,  1412638.6,   624110. ,  3395900. ,\n",
       "         463982.8,  1092166.4,  1523899.9,   712312.9,  1008838.9,\n",
       "        2053188.6,  1253360.8,   832938. ,  1569545.9,   730918.7,\n",
       "        2728490. ,  2270500. ,  2048800. ,  3383900. ,  1847288.7,\n",
       "        1162499.9,   994277.6,  3398877.8,  1392877.6,  1598200. ,\n",
       "        1731699.8,  1695900. ,  1443087.8,  2424182.7,  3602390. ,\n",
       "        2430588.8,  7251000. ,  1356689.2,   635069. ,  1806400. ,\n",
       "        1465699.9,  2592000. ,  3567400. ,  2359377.6,  1399400. ,\n",
       "        2120779.8,  1227612.6,  2239000. ,  1172078.8,  2170779.8,\n",
       "        2262490. ,  5347499. ,  5502999. ,  1626888.8,  2748877.6,\n",
       "         556904.8,  1380093.3,  3455000. ,   916588.6,   893834.4,\n",
       "         785402.6,  1721288.8,  1900700. ,  4439900. , 15675244. ,\n",
       "        1604676.6,  1416399.9,  1004399.9, 13611999.9,   620450. ,\n",
       "        2070489.9,  2066000. ,  1664843.7,   653822.8,  1671599.9,\n",
       "        5767999. ,  1687399.9,  2356188.8,  3228400. ,  1825599.9,\n",
       "        1223644. ,   599630. ,  1781599.7,  2264280. ,  3247066.3,\n",
       "        1139777.6,  2990688.7,  1489220.3,  1523966. ,  1009100. ,\n",
       "         876888.8,  3582390. ,  1646445.8,   511216.4,  2684899.8,\n",
       "       23276900. ,  1723199.8,  1085766.4,  3153566.4,  3153566.4,\n",
       "        2870077.6,  1694366. ,  2375490. ,  1457078.6,  3383900. ,\n",
       "        1509499.9,  3604800. ,   923788.8,  1739199.8,  1108618.8,\n",
       "         759798.4,  1644599.9,   994055.3,  1323967.6,  1600478.4,\n",
       "         873700. ,  1579500. ,  4622500. ,   888788.8,  3602499.4,\n",
       "        1816988.7,   720980.2,   648950.1,  1992588.8,  1678499.9,\n",
       "        1807840.2,  1212560.8,  2330084.6,  2684899.8,   997867.6,\n",
       "         975277.6,  1616279.3,  1881200. ,  1170000. ,  1895077.5,\n",
       "        1030537.9,  7541000. ,  1363877.6,  2118999.9,  1598899.9,\n",
       "        1138660.8,  7949288.7,  1243228. ,   502651.3,  1036966.4,\n",
       "        4669900. ,  3317499.3,  1272000. ,  1712995. ,  2412994.9,\n",
       "         749812.9,  3067487.8,   927177.5,  4859999. ,   938557.7,\n",
       "        2858566.5,  1908288.7,   615977.6,  1816150.4,  2458688.8,\n",
       "        2893800. ,  2324295. ,  2182066.4,  1464800. ,   990813.2,\n",
       "         662341. ,   936288.8,  2831880. ,  1053266.4,  2433999.9,\n",
       "         595600.2,  1203499.9,  1305488.8,  2322600. ,  2069713.2,\n",
       "        1455966. ,  1712995. ,   978589.9,   994277.6,   508982.8,\n",
       "        4824899.9,  2050988.7,  1094100. ,  1046666.4,  4839999. ,\n",
       "         417811.6,  1006100. ,  2114990. ,   923771.8,  1846988.7,\n",
       "        1422690. ,  2717377.6,  5767999. ,  2589590. , 16459244. ,\n",
       "        1135179.1,   717239.7,   717239.7,   572791.5,  1232336.8,\n",
       "        1868516.1,  1242336.8,  2196889.9,   990537.9,  1036966.4,\n",
       "        1748738.6,  3455000. ,  2545500. ,  1953493.8,   936288.8,\n",
       "        1412638.6,  1305488.8,   945488.4,  2307788.8,   494885. ,\n",
       "        1205939. ,   983588.7,  1984766.4,   494885. ,  1545567.5,\n",
       "         545205.2,  2044588.7,   896000. ,  1509316.6,  1839238.7,\n",
       "        1110888.8,  1751279.3,  2590044.1,  2059244.1,   962783.7,\n",
       "       11746999.9,  1163723.8,  1012000. ,  1307138.6,  1497966.3,\n",
       "         999400. ,  1434700. ,  1712995. ,   611224.1,  1658084.6,\n",
       "         884047.7,  1721542.7,   610902.5,  1002500. ,  3242494.3,\n",
       "        1751279.3,  1088657.4,  1868516.1,  1456367.4,  2077777.6,\n",
       "         595244.8,   859625. ,   945537.9,  1877838.7,  1536750.3,\n",
       "        1938940. ,  1409288.8,  2209428.6,   451400. ,  2532088.7,\n",
       "        2255977.5,  1657695. ,  2341290. ,  2209200. ,  1036966.4,\n",
       "        2209200. ,   995488.8,   518897. ,  2940173.4,  4451900. ,\n",
       "        3604800. ,  1877838.7,  2468990. ,  4621994.9,   669129.9,\n",
       "        2240490. ,  2343584.6,   998788.7,  1723066.6,  1305149.6,\n",
       "        1277828. ,   991699.9,  2170779.8,   942600. ,  3567400. ,\n",
       "        1569935. ,   942861. ,  1192490. ,  2719500. ,  6827988.8,\n",
       "        1933590. ,  1305488.8,  1038588.8,  2524683.8,  1278449.6,\n",
       "       19871255.2,   651977.6,  5767999. ,  1472677.5,  1296977.6,\n",
       "        1088657.4,   893834.4,   624697.1,   635638.5,  1579500. ,\n",
       "         608100. ,  2458688.8,  1330832.9,  3094900. ,  1845988.7,\n",
       "        1044499.9,  1192055.2,  2020488.7,   783602.6,  2799990. ,\n",
       "        1814999.9,  2581178.8,   896000. ,  7977988.8,  2968487.9,\n",
       "         887678.9,  2513966.5,  2468990. ,  2604090. ,  3036389.8,\n",
       "        1809838.7,  1625762.7,   514805.2,  1758590. ,  1833999.7,\n",
       "        1500399.8,  1581399.8,  1792945.1,  7473288.8,  2217783.8,\n",
       "        1956490. ,   595689. ,  1089428. ,   669198.4,  2748877.6,\n",
       "         449866.4,  3317499.3,  1520567.5,  5132388.8,  2490490. ,\n",
       "        2462875. ,  2589590. ,  1479284.2,  1835499.9,  1488677.6,\n",
       "        2015688.7,  7541000. , 15675244. ,  1088657.4,  1165544. ,\n",
       "        1130149.8])"
      ]
     },
     "execution_count": 58,
     "metadata": {},
     "output_type": "execute_result"
    }
   ],
   "source": [
    "knn_regression.predict( X_new ) "
   ]
  },
  {
   "cell_type": "code",
   "execution_count": null,
   "metadata": {},
   "outputs": [
    {
     "data": {
      "text/plain": [
       "2405540681171.826"
      ]
     },
     "execution_count": 59,
     "metadata": {},
     "output_type": "execute_result"
    }
   ],
   "source": [
    "ECM = sum( (knn_regression.predict( X_new )  - Y_new.reset_index().price )**2 ) / len(Y_new)\n",
    "ECM"
   ]
  },
  {
   "cell_type": "code",
   "execution_count": null,
   "metadata": {},
   "outputs": [],
   "source": []
  },
  {
   "cell_type": "code",
   "execution_count": null,
   "metadata": {},
   "outputs": [
    {
     "data": {
      "text/plain": [
       "1550980.5547368499"
      ]
     },
     "execution_count": 60,
     "metadata": {},
     "output_type": "execute_result"
    }
   ],
   "source": [
    "np.sqrt(ECM)"
   ]
  }
 ],
 "metadata": {
  "kernelspec": {
   "display_name": "Python 3",
   "language": "python",
   "name": "python3"
  },
  "language_info": {
   "codemirror_mode": {
    "name": "ipython",
    "version": 3
   },
   "file_extension": ".py",
   "mimetype": "text/x-python",
   "name": "python",
   "nbconvert_exporter": "python",
   "pygments_lexer": "ipython3",
   "version": "3.10.0"
  },
  "vscode": {
   "interpreter": {
    "hash": "c63d8c7d738c2960218a10995aedf0a7f67a49a231e71037adf0440953cdb45b"
   }
  }
 },
 "nbformat": 4,
 "nbformat_minor": 2
}
