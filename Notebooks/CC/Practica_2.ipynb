{
  "cells": [
    {
      "attachments": {},
      "cell_type": "markdown",
      "metadata": {
        "id": "H8Ay-S4hOBsV"
      },
      "source": [
        "# **PREDICCIÓN DE RADIACIÓN SOLAR CON SCIKIT-LEARN**\n",
        "\n",
        "Fabio Scielzo Ortiz, Marcos Álvarez Martín"
      ]
    },
    {
      "cell_type": "markdown",
      "metadata": {
        "id": "0XvLGrThY3B6"
      },
      "source": [
        "Las fuentes de energía renovable, como la solar o la eólica, ofrecen muchas ventajas ambientales sobre los combustibles fósiles para la generación de electricidad, pero la energía que producen fluctúa con las condiciones climáticas cambiantes. Las empresas de servicios eléctricos necesitan pronósticos precisos de la producción de energía para tener disponible el equilibrio adecuado de combustibles fósiles y renovables. Los errores en el pronóstico podrían generar grandes gastos para la empresa de servicios públicos debido al consumo excesivo de combustible o compras de emergencia de electricidad a las empresas vecinas. Los pronósticos de energía generalmente se derivan de modelos numéricos de predicción del clima, pero las técnicas estadísticas y de aprendizaje automático se utilizan cada vez más junto con los modelos numéricos para producir pronósticos más precisos.\n",
        "El objetivo de este concurso es descubrir qué técnicas estadísticas y de machine learning proporcionan las mejores predicciones a corto plazo de la producción de energía solar. Se predicirá el total de energía solar entrante diaria en 98 sitios de Oklahoma Mesonet.\n",
        "\n",
        "Hay 15 variables, predichas para 5 momentos del día siguiente lo que equivale a 75 atributos de entrada. En cuanto a las instancias tenemos que son 4380. En cuanto a las variables:\n",
        "\n",
        "* 1: apcp_sfc. Precipitación acumulada en 3 horas en la superficie. Mide en kg/m^2.\n",
        "* 2: dlwrf_sfc. Promedio del flujo radiativo de onda larga descendente en la superficie. Mide en W/m^2.\n",
        "* 3: dswrf_sfc. Promedio del flujo radiativo de onda corta descendente en la superficie. Mide en W/m^2.\n",
        "* 4: pres_msl. Presión del aire al nivel medio del mar. Mide en Pa.\n",
        "* 5: pwat_eatm. Agua precipitable en toda la profundidad de la atmósfera(representa la cantidad de agua potencial para ser precipitable ya sea lluvia, nieve, granizo,etc…). Mide en Kg/m^2.\n",
        "* 6: spfh_2m. Humedad específica a 2 metros del suelo. Mide en Kg.\n",
        "\n",
        "* 7: tcdc_eatm. Cobertura total de nubes en toda la profundidad de la atmósfera. Mide en %.\n",
        "* 8: tcolc_eatm. Condensado total integrado en la columna en toda la atmósfera. Mide en Kg/m^2.\n",
        "* 9: tmax_2m. Temperatura máxima durante las últimas 3 horas a 2 metros sobre el suelo. Mide en K(kelvin).\n",
        "* 10: tmin_2m. Temperatura mínima durante las últimas 3 horas a 2 metros sobre el suelo. Mide en K(kelvin).\n",
        "* 11: tmp_2m. Temperatura actual a 2 m sobre el suelo. Mide en K(kelvin).\n",
        "* 12: tmp_sfc. Temperatura de la superficie. Mide en K(kelvin).\n",
        "* 13: ulwrf_sfc. Radiación de onda larga ascendente en la superficie. Mide en W/m^2.\n",
        "* 14: ulwrf_tatm. Radiación de onda larga ascendente en la parte superior de la atmósfera. Mide en W/m^2.\n",
        "* 15: uswrf_sfc. Radiación ascendente de onda corta en la superficie. Mide en W/m^2.\n",
        "\n",
        "\n",
        "*** A pesar de que las variables originales representan lo indicado anteriormente, los datos han sido modificados y por ende algunos no corresponden con los valores “esperados”.\n",
        "\n",
        "Fuente: https://www.kaggle.com/c/ams-2014-solar-energy-prediction-contest/data"
      ]
    },
    {
      "cell_type": "markdown",
      "metadata": {
        "id": "Jd-8tD_0LIjk"
      },
      "source": [
        "## **1) y 2) Preparación y tratamiento de datos**"
      ]
    },
    {
      "cell_type": "markdown",
      "metadata": {
        "id": "xyDNVSBXPC9L"
      },
      "source": [
        "###### Tras tratar los datos previamente en R, procedemos a cargar los datos en Python\n"
      ]
    },
    {
      "cell_type": "code",
      "execution_count": 3,
      "metadata": {
        "colab": {
          "base_uri": "https://localhost:8080/"
        },
        "id": "KiwOKjvXNw4Z",
        "outputId": "ebe458db-1563-43a5-c615-b0924905e957"
      },
      "outputs": [],
      "source": [
        "pip install feather"
      ]
    },
    {
      "cell_type": "code",
      "execution_count": null,
      "metadata": {
        "id": "ZgFoj2DJRpEI"
      },
      "outputs": [],
      "source": [
        "# Importamos la librería pandas para leer los datos como data-frame\n",
        "\n",
        "import pandas as pd\n",
        "import numpy as np\n",
        "\n",
        "# Leemos los datos\n",
        "\n",
        "datos = pd.read_feather(\"disp_38.feather\")"
      ]
    },
    {
      "cell_type": "code",
      "execution_count": null,
      "metadata": {
        "colab": {
          "base_uri": "https://localhost:8080/",
          "height": 270
        },
        "id": "TzjsPP5Yd6g5",
        "outputId": "d3ed00f6-91b8-4092-e2a9-499bf0d831a5"
      },
      "outputs": [
        {
          "data": {
            "text/html": [
              "\n",
              "  <div id=\"df-41571c8a-834e-49a3-8c33-0ac673a678ad\">\n",
              "    <div class=\"colab-df-container\">\n",
              "      <div>\n",
              "<style scoped>\n",
              "    .dataframe tbody tr th:only-of-type {\n",
              "        vertical-align: middle;\n",
              "    }\n",
              "\n",
              "    .dataframe tbody tr th {\n",
              "        vertical-align: top;\n",
              "    }\n",
              "\n",
              "    .dataframe thead th {\n",
              "        text-align: right;\n",
              "    }\n",
              "</style>\n",
              "<table border=\"1\" class=\"dataframe\">\n",
              "  <thead>\n",
              "    <tr style=\"text-align: right;\">\n",
              "      <th></th>\n",
              "      <th>salida</th>\n",
              "      <th>apcp_sf2_1</th>\n",
              "      <th>apcp_sf4_1</th>\n",
              "      <th>dlwrf_s1_1</th>\n",
              "      <th>dlwrf_s4_1</th>\n",
              "      <th>dlwrf_s5_1</th>\n",
              "      <th>dswrf_s1_1</th>\n",
              "      <th>dswrf_s2_1</th>\n",
              "      <th>dswrf_s3_1</th>\n",
              "      <th>dswrf_s4_1</th>\n",
              "      <th>dswrf_s5_1</th>\n",
              "      <th>pres_ms1_1</th>\n",
              "      <th>pres_ms3_1</th>\n",
              "      <th>pres_ms4_1</th>\n",
              "      <th>pres_ms5_1</th>\n",
              "      <th>pwat_ea1_1</th>\n",
              "      <th>pwat_ea2_1</th>\n",
              "      <th>pwat_ea3_1</th>\n",
              "      <th>pwat_ea4_1</th>\n",
              "      <th>pwat_ea5_1</th>\n",
              "      <th>spfh_2m1_1</th>\n",
              "      <th>spfh_2m2_1</th>\n",
              "      <th>spfh_2m4_1</th>\n",
              "      <th>spfh_2m5_1</th>\n",
              "      <th>tcdc_ea1_1</th>\n",
              "      <th>tcdc_ea4_1</th>\n",
              "      <th>tcolc_e1_1</th>\n",
              "      <th>tcolc_e2_1</th>\n",
              "      <th>tcolc_e3_1</th>\n",
              "      <th>tcolc_e5_1</th>\n",
              "      <th>tmax_2m1_1</th>\n",
              "      <th>tmax_2m2_1</th>\n",
              "      <th>tmax_2m3_1</th>\n",
              "      <th>tmax_2m4_1</th>\n",
              "      <th>tmax_2m5_1</th>\n",
              "      <th>tmin_2m1_1</th>\n",
              "      <th>tmin_2m3_1</th>\n",
              "      <th>tmin_2m4_1</th>\n",
              "      <th>tmin_2m5_1</th>\n",
              "      <th>tmp_2m_2_1</th>\n",
              "      <th>tmp_2m_3_1</th>\n",
              "      <th>tmp_2m_4_1</th>\n",
              "      <th>tmp_2m_5_1</th>\n",
              "      <th>tmp_sfc1_1</th>\n",
              "      <th>tmp_sfc2_1</th>\n",
              "      <th>tmp_sfc3_1</th>\n",
              "      <th>tmp_sfc4_1</th>\n",
              "      <th>tmp_sfc5_1</th>\n",
              "      <th>ulwrf_s1_1</th>\n",
              "      <th>ulwrf_s4_1</th>\n",
              "      <th>ulwrf_s5_1</th>\n",
              "      <th>ulwrf_t1_1</th>\n",
              "      <th>ulwrf_t3_1</th>\n",
              "      <th>ulwrf_t4_1</th>\n",
              "      <th>uswrf_s1_1</th>\n",
              "      <th>uswrf_s3_1</th>\n",
              "      <th>uswrf_s5_1</th>\n",
              "      <th>apcp_sf3_1</th>\n",
              "      <th>apcp_sf5_1</th>\n",
              "      <th>dlwrf_s2_1</th>\n",
              "      <th>dlwrf_s3_1</th>\n",
              "      <th>pres_ms2_1</th>\n",
              "      <th>spfh_2m3_1</th>\n",
              "      <th>tcdc_ea2_1</th>\n",
              "      <th>tcdc_ea3_1</th>\n",
              "      <th>tcdc_ea5_1</th>\n",
              "      <th>tcolc_e4_1</th>\n",
              "      <th>tmin_2m2_1</th>\n",
              "      <th>tmp_2m_1_1</th>\n",
              "      <th>ulwrf_s2_1</th>\n",
              "      <th>ulwrf_s3_1</th>\n",
              "      <th>ulwrf_t2_1</th>\n",
              "      <th>ulwrf_t5_1</th>\n",
              "      <th>uswrf_s4_1</th>\n",
              "      <th>apcp_sf1_1</th>\n",
              "      <th>uswrf_s2_1</th>\n",
              "    </tr>\n",
              "  </thead>\n",
              "  <tbody>\n",
              "    <tr>\n",
              "      <th>0</th>\n",
              "      <td>11621100.0</td>\n",
              "      <td>1</td>\n",
              "      <td>0.000000</td>\n",
              "      <td>259.492673</td>\n",
              "      <td>265.741308</td>\n",
              "      <td>264.195623</td>\n",
              "      <td>1</td>\n",
              "      <td>1</td>\n",
              "      <td>1</td>\n",
              "      <td>2</td>\n",
              "      <td>2</td>\n",
              "      <td>2</td>\n",
              "      <td>2</td>\n",
              "      <td>101947.338068</td>\n",
              "      <td>102032.089489</td>\n",
              "      <td>1</td>\n",
              "      <td>1</td>\n",
              "      <td>9.178981</td>\n",
              "      <td>1</td>\n",
              "      <td>1</td>\n",
              "      <td>1</td>\n",
              "      <td>1</td>\n",
              "      <td>1</td>\n",
              "      <td>red</td>\n",
              "      <td>1</td>\n",
              "      <td>0.0</td>\n",
              "      <td>1</td>\n",
              "      <td>1</td>\n",
              "      <td>0.0</td>\n",
              "      <td>1</td>\n",
              "      <td>2</td>\n",
              "      <td>2</td>\n",
              "      <td>2</td>\n",
              "      <td>284.918049</td>\n",
              "      <td>2</td>\n",
              "      <td>2</td>\n",
              "      <td>277.778362</td>\n",
              "      <td>2</td>\n",
              "      <td>0.0</td>\n",
              "      <td>0.0</td>\n",
              "      <td>284.188235</td>\n",
              "      <td>2</td>\n",
              "      <td>2</td>\n",
              "      <td>277.051106</td>\n",
              "      <td>2</td>\n",
              "      <td>2</td>\n",
              "      <td>287.014274</td>\n",
              "      <td>277.372808</td>\n",
              "      <td>2</td>\n",
              "      <td>390.046781</td>\n",
              "      <td>375.463043</td>\n",
              "      <td>2</td>\n",
              "      <td>2</td>\n",
              "      <td>3</td>\n",
              "      <td>1</td>\n",
              "      <td>48.000000</td>\n",
              "      <td>69.818182</td>\n",
              "      <td>0.0</td>\n",
              "      <td>0.000000</td>\n",
              "      <td>245.787096</td>\n",
              "      <td>320.256337</td>\n",
              "      <td>0.0</td>\n",
              "      <td>0.003823</td>\n",
              "      <td>0.0</td>\n",
              "      <td>0.000000</td>\n",
              "      <td>0.003636</td>\n",
              "      <td>0.001736</td>\n",
              "      <td>277.777163</td>\n",
              "      <td>278.767431</td>\n",
              "      <td>333.158827</td>\n",
              "      <td>351.262490</td>\n",
              "      <td>0.0</td>\n",
              "      <td>254.976936</td>\n",
              "      <td>103.636364</td>\n",
              "      <td>red</td>\n",
              "      <td>red</td>\n",
              "    </tr>\n",
              "    <tr>\n",
              "      <th>1</th>\n",
              "      <td>6513000.0</td>\n",
              "      <td>1</td>\n",
              "      <td>0.059091</td>\n",
              "      <td>254.725868</td>\n",
              "      <td>305.623560</td>\n",
              "      <td>309.383628</td>\n",
              "      <td>1</td>\n",
              "      <td>1</td>\n",
              "      <td>1</td>\n",
              "      <td>2</td>\n",
              "      <td>1</td>\n",
              "      <td>2</td>\n",
              "      <td>2</td>\n",
              "      <td>101017.495028</td>\n",
              "      <td>101425.340199</td>\n",
              "      <td>1</td>\n",
              "      <td>1</td>\n",
              "      <td>11.832082</td>\n",
              "      <td>1</td>\n",
              "      <td>1</td>\n",
              "      <td>1</td>\n",
              "      <td>1</td>\n",
              "      <td>1</td>\n",
              "      <td>red</td>\n",
              "      <td>1</td>\n",
              "      <td>0.0</td>\n",
              "      <td>1</td>\n",
              "      <td>1</td>\n",
              "      <td>0.0</td>\n",
              "      <td>1</td>\n",
              "      <td>2</td>\n",
              "      <td>2</td>\n",
              "      <td>2</td>\n",
              "      <td>286.106684</td>\n",
              "      <td>2</td>\n",
              "      <td>2</td>\n",
              "      <td>276.845170</td>\n",
              "      <td>2</td>\n",
              "      <td>0.0</td>\n",
              "      <td>0.0</td>\n",
              "      <td>283.222784</td>\n",
              "      <td>2</td>\n",
              "      <td>2</td>\n",
              "      <td>275.920921</td>\n",
              "      <td>2</td>\n",
              "      <td>2</td>\n",
              "      <td>286.443656</td>\n",
              "      <td>280.350711</td>\n",
              "      <td>2</td>\n",
              "      <td>386.654130</td>\n",
              "      <td>374.410167</td>\n",
              "      <td>2</td>\n",
              "      <td>2</td>\n",
              "      <td>2</td>\n",
              "      <td>1</td>\n",
              "      <td>19.545455</td>\n",
              "      <td>40.454545</td>\n",
              "      <td>0.0</td>\n",
              "      <td>0.662727</td>\n",
              "      <td>287.278670</td>\n",
              "      <td>300.254822</td>\n",
              "      <td>0.0</td>\n",
              "      <td>0.003799</td>\n",
              "      <td>0.0</td>\n",
              "      <td>0.159091</td>\n",
              "      <td>0.139091</td>\n",
              "      <td>0.229145</td>\n",
              "      <td>276.845170</td>\n",
              "      <td>276.946253</td>\n",
              "      <td>331.354673</td>\n",
              "      <td>398.454020</td>\n",
              "      <td>0.0</td>\n",
              "      <td>209.780189</td>\n",
              "      <td>66.909091</td>\n",
              "      <td>red</td>\n",
              "      <td>red</td>\n",
              "    </tr>\n",
              "    <tr>\n",
              "      <th>2</th>\n",
              "      <td>9841500.0</td>\n",
              "      <td>1</td>\n",
              "      <td>0.000000</td>\n",
              "      <td>215.280002</td>\n",
              "      <td>239.983668</td>\n",
              "      <td>245.567405</td>\n",
              "      <td>1</td>\n",
              "      <td>1</td>\n",
              "      <td>1</td>\n",
              "      <td>2</td>\n",
              "      <td>2</td>\n",
              "      <td>2</td>\n",
              "      <td>2</td>\n",
              "      <td>101587.113636</td>\n",
              "      <td>101479.088778</td>\n",
              "      <td>1</td>\n",
              "      <td>1</td>\n",
              "      <td>5.972727</td>\n",
              "      <td>1</td>\n",
              "      <td>1</td>\n",
              "      <td>1</td>\n",
              "      <td>1</td>\n",
              "      <td>1</td>\n",
              "      <td>red</td>\n",
              "      <td>1</td>\n",
              "      <td>0.0</td>\n",
              "      <td>1</td>\n",
              "      <td>1</td>\n",
              "      <td>0.0</td>\n",
              "      <td>1</td>\n",
              "      <td>2</td>\n",
              "      <td>1</td>\n",
              "      <td>1</td>\n",
              "      <td>278.050421</td>\n",
              "      <td>2</td>\n",
              "      <td>2</td>\n",
              "      <td>267.942796</td>\n",
              "      <td>1</td>\n",
              "      <td>0.0</td>\n",
              "      <td>0.0</td>\n",
              "      <td>274.539001</td>\n",
              "      <td>2</td>\n",
              "      <td>2</td>\n",
              "      <td>268.251237</td>\n",
              "      <td>1</td>\n",
              "      <td>2</td>\n",
              "      <td>281.568262</td>\n",
              "      <td>273.333688</td>\n",
              "      <td>1</td>\n",
              "      <td>360.066409</td>\n",
              "      <td>347.042120</td>\n",
              "      <td>2</td>\n",
              "      <td>2</td>\n",
              "      <td>2</td>\n",
              "      <td>1</td>\n",
              "      <td>53.727273</td>\n",
              "      <td>74.181818</td>\n",
              "      <td>0.0</td>\n",
              "      <td>0.004545</td>\n",
              "      <td>210.086931</td>\n",
              "      <td>215.133093</td>\n",
              "      <td>0.0</td>\n",
              "      <td>0.001959</td>\n",
              "      <td>0.0</td>\n",
              "      <td>0.040909</td>\n",
              "      <td>0.092727</td>\n",
              "      <td>0.065172</td>\n",
              "      <td>267.944095</td>\n",
              "      <td>268.473239</td>\n",
              "      <td>294.206507</td>\n",
              "      <td>312.068945</td>\n",
              "      <td>0.0</td>\n",
              "      <td>225.074921</td>\n",
              "      <td>127.592047</td>\n",
              "      <td>red</td>\n",
              "      <td>red</td>\n",
              "    </tr>\n",
              "    <tr>\n",
              "      <th>3</th>\n",
              "      <td>7633800.0</td>\n",
              "      <td>1</td>\n",
              "      <td>0.000000</td>\n",
              "      <td>240.408503</td>\n",
              "      <td>239.910919</td>\n",
              "      <td>237.894957</td>\n",
              "      <td>1</td>\n",
              "      <td>1</td>\n",
              "      <td>1</td>\n",
              "      <td>2</td>\n",
              "      <td>2</td>\n",
              "      <td>2</td>\n",
              "      <td>3</td>\n",
              "      <td>102601.849432</td>\n",
              "      <td>102543.911932</td>\n",
              "      <td>1</td>\n",
              "      <td>1</td>\n",
              "      <td>6.199266</td>\n",
              "      <td>1</td>\n",
              "      <td>1</td>\n",
              "      <td>1</td>\n",
              "      <td>1</td>\n",
              "      <td>1</td>\n",
              "      <td>red</td>\n",
              "      <td>1</td>\n",
              "      <td>0.0</td>\n",
              "      <td>1</td>\n",
              "      <td>1</td>\n",
              "      <td>0.0</td>\n",
              "      <td>1</td>\n",
              "      <td>2</td>\n",
              "      <td>2</td>\n",
              "      <td>2</td>\n",
              "      <td>277.704912</td>\n",
              "      <td>1</td>\n",
              "      <td>2</td>\n",
              "      <td>272.365981</td>\n",
              "      <td>2</td>\n",
              "      <td>0.0</td>\n",
              "      <td>0.0</td>\n",
              "      <td>275.859569</td>\n",
              "      <td>2</td>\n",
              "      <td>1</td>\n",
              "      <td>272.942949</td>\n",
              "      <td>2</td>\n",
              "      <td>2</td>\n",
              "      <td>281.053492</td>\n",
              "      <td>270.537212</td>\n",
              "      <td>2</td>\n",
              "      <td>356.752333</td>\n",
              "      <td>343.891047</td>\n",
              "      <td>2</td>\n",
              "      <td>2</td>\n",
              "      <td>2</td>\n",
              "      <td>1</td>\n",
              "      <td>37.545455</td>\n",
              "      <td>69.909091</td>\n",
              "      <td>0.0</td>\n",
              "      <td>0.000000</td>\n",
              "      <td>238.623817</td>\n",
              "      <td>246.948127</td>\n",
              "      <td>0.0</td>\n",
              "      <td>0.002611</td>\n",
              "      <td>0.0</td>\n",
              "      <td>0.008182</td>\n",
              "      <td>0.025455</td>\n",
              "      <td>0.065172</td>\n",
              "      <td>272.365506</td>\n",
              "      <td>274.248793</td>\n",
              "      <td>311.670654</td>\n",
              "      <td>398.454020</td>\n",
              "      <td>0.0</td>\n",
              "      <td>241.321951</td>\n",
              "      <td>103.000000</td>\n",
              "      <td>red</td>\n",
              "      <td>red</td>\n",
              "    </tr>\n",
              "    <tr>\n",
              "      <th>4</th>\n",
              "      <td>10550400.0</td>\n",
              "      <td>1</td>\n",
              "      <td>0.000000</td>\n",
              "      <td>233.435475</td>\n",
              "      <td>270.759064</td>\n",
              "      <td>279.572826</td>\n",
              "      <td>1</td>\n",
              "      <td>1</td>\n",
              "      <td>1</td>\n",
              "      <td>2</td>\n",
              "      <td>2</td>\n",
              "      <td>2</td>\n",
              "      <td>2</td>\n",
              "      <td>100253.016335</td>\n",
              "      <td>100058.936790</td>\n",
              "      <td>1</td>\n",
              "      <td>1</td>\n",
              "      <td>11.016872</td>\n",
              "      <td>1</td>\n",
              "      <td>1</td>\n",
              "      <td>1</td>\n",
              "      <td>1</td>\n",
              "      <td>1</td>\n",
              "      <td>red</td>\n",
              "      <td>1</td>\n",
              "      <td>0.0</td>\n",
              "      <td>1</td>\n",
              "      <td>1</td>\n",
              "      <td>0.0</td>\n",
              "      <td>1</td>\n",
              "      <td>2</td>\n",
              "      <td>2</td>\n",
              "      <td>2</td>\n",
              "      <td>287.089339</td>\n",
              "      <td>2</td>\n",
              "      <td>2</td>\n",
              "      <td>272.964539</td>\n",
              "      <td>2</td>\n",
              "      <td>0.0</td>\n",
              "      <td>0.0</td>\n",
              "      <td>282.935824</td>\n",
              "      <td>2</td>\n",
              "      <td>2</td>\n",
              "      <td>271.833152</td>\n",
              "      <td>2</td>\n",
              "      <td>2</td>\n",
              "      <td>287.636014</td>\n",
              "      <td>282.457758</td>\n",
              "      <td>2</td>\n",
              "      <td>385.192380</td>\n",
              "      <td>379.409776</td>\n",
              "      <td>2</td>\n",
              "      <td>2</td>\n",
              "      <td>2</td>\n",
              "      <td>1</td>\n",
              "      <td>46.363636</td>\n",
              "      <td>66.818182</td>\n",
              "      <td>0.0</td>\n",
              "      <td>0.000000</td>\n",
              "      <td>237.927051</td>\n",
              "      <td>245.669004</td>\n",
              "      <td>0.0</td>\n",
              "      <td>0.002937</td>\n",
              "      <td>0.0</td>\n",
              "      <td>0.065701</td>\n",
              "      <td>0.112727</td>\n",
              "      <td>0.036373</td>\n",
              "      <td>272.979359</td>\n",
              "      <td>272.969385</td>\n",
              "      <td>312.308719</td>\n",
              "      <td>331.860368</td>\n",
              "      <td>0.0</td>\n",
              "      <td>241.200682</td>\n",
              "      <td>102.454545</td>\n",
              "      <td>red</td>\n",
              "      <td>red</td>\n",
              "    </tr>\n",
              "  </tbody>\n",
              "</table>\n",
              "</div>\n",
              "      <button class=\"colab-df-convert\" onclick=\"convertToInteractive('df-41571c8a-834e-49a3-8c33-0ac673a678ad')\"\n",
              "              title=\"Convert this dataframe to an interactive table.\"\n",
              "              style=\"display:none;\">\n",
              "        \n",
              "  <svg xmlns=\"http://www.w3.org/2000/svg\" height=\"24px\"viewBox=\"0 0 24 24\"\n",
              "       width=\"24px\">\n",
              "    <path d=\"M0 0h24v24H0V0z\" fill=\"none\"/>\n",
              "    <path d=\"M18.56 5.44l.94 2.06.94-2.06 2.06-.94-2.06-.94-.94-2.06-.94 2.06-2.06.94zm-11 1L8.5 8.5l.94-2.06 2.06-.94-2.06-.94L8.5 2.5l-.94 2.06-2.06.94zm10 10l.94 2.06.94-2.06 2.06-.94-2.06-.94-.94-2.06-.94 2.06-2.06.94z\"/><path d=\"M17.41 7.96l-1.37-1.37c-.4-.4-.92-.59-1.43-.59-.52 0-1.04.2-1.43.59L10.3 9.45l-7.72 7.72c-.78.78-.78 2.05 0 2.83L4 21.41c.39.39.9.59 1.41.59.51 0 1.02-.2 1.41-.59l7.78-7.78 2.81-2.81c.8-.78.8-2.07 0-2.86zM5.41 20L4 18.59l7.72-7.72 1.47 1.35L5.41 20z\"/>\n",
              "  </svg>\n",
              "      </button>\n",
              "      \n",
              "  <style>\n",
              "    .colab-df-container {\n",
              "      display:flex;\n",
              "      flex-wrap:wrap;\n",
              "      gap: 12px;\n",
              "    }\n",
              "\n",
              "    .colab-df-convert {\n",
              "      background-color: #E8F0FE;\n",
              "      border: none;\n",
              "      border-radius: 50%;\n",
              "      cursor: pointer;\n",
              "      display: none;\n",
              "      fill: #1967D2;\n",
              "      height: 32px;\n",
              "      padding: 0 0 0 0;\n",
              "      width: 32px;\n",
              "    }\n",
              "\n",
              "    .colab-df-convert:hover {\n",
              "      background-color: #E2EBFA;\n",
              "      box-shadow: 0px 1px 2px rgba(60, 64, 67, 0.3), 0px 1px 3px 1px rgba(60, 64, 67, 0.15);\n",
              "      fill: #174EA6;\n",
              "    }\n",
              "\n",
              "    [theme=dark] .colab-df-convert {\n",
              "      background-color: #3B4455;\n",
              "      fill: #D2E3FC;\n",
              "    }\n",
              "\n",
              "    [theme=dark] .colab-df-convert:hover {\n",
              "      background-color: #434B5C;\n",
              "      box-shadow: 0px 1px 3px 1px rgba(0, 0, 0, 0.15);\n",
              "      filter: drop-shadow(0px 1px 2px rgba(0, 0, 0, 0.3));\n",
              "      fill: #FFFFFF;\n",
              "    }\n",
              "  </style>\n",
              "\n",
              "      <script>\n",
              "        const buttonEl =\n",
              "          document.querySelector('#df-41571c8a-834e-49a3-8c33-0ac673a678ad button.colab-df-convert');\n",
              "        buttonEl.style.display =\n",
              "          google.colab.kernel.accessAllowed ? 'block' : 'none';\n",
              "\n",
              "        async function convertToInteractive(key) {\n",
              "          const element = document.querySelector('#df-41571c8a-834e-49a3-8c33-0ac673a678ad');\n",
              "          const dataTable =\n",
              "            await google.colab.kernel.invokeFunction('convertToInteractive',\n",
              "                                                     [key], {});\n",
              "          if (!dataTable) return;\n",
              "\n",
              "          const docLinkHtml = 'Like what you see? Visit the ' +\n",
              "            '<a target=\"_blank\" href=https://colab.research.google.com/notebooks/data_table.ipynb>data table notebook</a>'\n",
              "            + ' to learn more about interactive tables.';\n",
              "          element.innerHTML = '';\n",
              "          dataTable['output_type'] = 'display_data';\n",
              "          await google.colab.output.renderOutput(dataTable, element);\n",
              "          const docLink = document.createElement('div');\n",
              "          docLink.innerHTML = docLinkHtml;\n",
              "          element.appendChild(docLink);\n",
              "        }\n",
              "      </script>\n",
              "    </div>\n",
              "  </div>\n",
              "  "
            ],
            "text/plain": [
              "       salida  apcp_sf2_1  apcp_sf4_1  ...  uswrf_s4_1  apcp_sf1_1  uswrf_s2_1\n",
              "0  11621100.0           1    0.000000  ...  103.636364         red         red\n",
              "1   6513000.0           1    0.059091  ...   66.909091         red         red\n",
              "2   9841500.0           1    0.000000  ...  127.592047         red         red\n",
              "3   7633800.0           1    0.000000  ...  103.000000         red         red\n",
              "4  10550400.0           1    0.000000  ...  102.454545         red         red\n",
              "\n",
              "[5 rows x 76 columns]"
            ]
          },
          "execution_count": 57,
          "metadata": {},
          "output_type": "execute_result"
        }
      ],
      "source": [
        "# Vemos las primeras observaciones de la base de datos\n",
        "\n",
        "datos.head()"
      ]
    },
    {
      "cell_type": "markdown",
      "metadata": {
        "id": "z9SwfVyWq7ed"
      },
      "source": [
        "# **3) Aprendizaje automático con Scikit-learn:**"
      ]
    },
    {
      "cell_type": "markdown",
      "metadata": {
        "id": "99sdpY6RX9gQ"
      },
      "source": [
        "## **3.1) Análisis Exploratorio de datos**"
      ]
    },
    {
      "cell_type": "code",
      "execution_count": null,
      "metadata": {
        "colab": {
          "base_uri": "https://localhost:8080/"
        },
        "id": "kBZ3zGRlZzT0",
        "outputId": "b36b8ab3-a62b-4f8d-eba7-ef48c79333ae"
      },
      "outputs": [
        {
          "name": "stdout",
          "output_type": "stream",
          "text": [
            "La dimensión de la tabla es:\n",
            "===============================\n",
            "(4380, 76)\n",
            "\n",
            "El tipo de atributos que hay son:\n",
            "================================\n",
            "<class 'pandas.core.frame.DataFrame'>\n",
            "RangeIndex: 4380 entries, 0 to 4379\n",
            "Data columns (total 76 columns):\n",
            " #   Column      Non-Null Count  Dtype   \n",
            "---  ------      --------------  -----   \n",
            " 0   salida      4380 non-null   float64 \n",
            " 1   apcp_sf2_1  4380 non-null   int32   \n",
            " 2   apcp_sf4_1  4380 non-null   float64 \n",
            " 3   dlwrf_s1_1  4380 non-null   float64 \n",
            " 4   dlwrf_s4_1  4380 non-null   float64 \n",
            " 5   dlwrf_s5_1  4380 non-null   float64 \n",
            " 6   dswrf_s1_1  4380 non-null   int32   \n",
            " 7   dswrf_s2_1  4380 non-null   int32   \n",
            " 8   dswrf_s3_1  4380 non-null   int32   \n",
            " 9   dswrf_s4_1  4380 non-null   int32   \n",
            " 10  dswrf_s5_1  4380 non-null   int32   \n",
            " 11  pres_ms1_1  4380 non-null   int32   \n",
            " 12  pres_ms3_1  4380 non-null   int32   \n",
            " 13  pres_ms4_1  4380 non-null   float64 \n",
            " 14  pres_ms5_1  4380 non-null   float64 \n",
            " 15  pwat_ea1_1  4380 non-null   int32   \n",
            " 16  pwat_ea2_1  4380 non-null   int32   \n",
            " 17  pwat_ea3_1  4380 non-null   float64 \n",
            " 18  pwat_ea4_1  4380 non-null   int32   \n",
            " 19  pwat_ea5_1  4380 non-null   int32   \n",
            " 20  spfh_2m1_1  4380 non-null   int32   \n",
            " 21  spfh_2m2_1  4380 non-null   int32   \n",
            " 22  spfh_2m4_1  4380 non-null   int32   \n",
            " 23  spfh_2m5_1  4380 non-null   category\n",
            " 24  tcdc_ea1_1  4380 non-null   int32   \n",
            " 25  tcdc_ea4_1  4380 non-null   float64 \n",
            " 26  tcolc_e1_1  4380 non-null   int32   \n",
            " 27  tcolc_e2_1  4380 non-null   int32   \n",
            " 28  tcolc_e3_1  4380 non-null   float64 \n",
            " 29  tcolc_e5_1  4380 non-null   int32   \n",
            " 30  tmax_2m1_1  4380 non-null   int32   \n",
            " 31  tmax_2m2_1  4380 non-null   int32   \n",
            " 32  tmax_2m3_1  4380 non-null   int32   \n",
            " 33  tmax_2m4_1  4380 non-null   float64 \n",
            " 34  tmax_2m5_1  4380 non-null   int32   \n",
            " 35  tmin_2m1_1  4380 non-null   int32   \n",
            " 36  tmin_2m3_1  4380 non-null   float64 \n",
            " 37  tmin_2m4_1  4380 non-null   int32   \n",
            " 38  tmin_2m5_1  4380 non-null   float64 \n",
            " 39  tmp_2m_2_1  4380 non-null   float64 \n",
            " 40  tmp_2m_3_1  4380 non-null   float64 \n",
            " 41  tmp_2m_4_1  4380 non-null   int32   \n",
            " 42  tmp_2m_5_1  4380 non-null   int32   \n",
            " 43  tmp_sfc1_1  4380 non-null   float64 \n",
            " 44  tmp_sfc2_1  4380 non-null   int32   \n",
            " 45  tmp_sfc3_1  4380 non-null   int32   \n",
            " 46  tmp_sfc4_1  4380 non-null   float64 \n",
            " 47  tmp_sfc5_1  4380 non-null   float64 \n",
            " 48  ulwrf_s1_1  4380 non-null   int32   \n",
            " 49  ulwrf_s4_1  4380 non-null   float64 \n",
            " 50  ulwrf_s5_1  4380 non-null   float64 \n",
            " 51  ulwrf_t1_1  4380 non-null   int32   \n",
            " 52  ulwrf_t3_1  4380 non-null   int32   \n",
            " 53  ulwrf_t4_1  4380 non-null   int32   \n",
            " 54  uswrf_s1_1  4380 non-null   int32   \n",
            " 55  uswrf_s3_1  4380 non-null   float64 \n",
            " 56  uswrf_s5_1  4380 non-null   float64 \n",
            " 57  apcp_sf3_1  4380 non-null   float64 \n",
            " 58  apcp_sf5_1  4380 non-null   float64 \n",
            " 59  dlwrf_s2_1  4380 non-null   float64 \n",
            " 60  dlwrf_s3_1  4380 non-null   float64 \n",
            " 61  pres_ms2_1  4380 non-null   float64 \n",
            " 62  spfh_2m3_1  4380 non-null   float64 \n",
            " 63  tcdc_ea2_1  4380 non-null   float64 \n",
            " 64  tcdc_ea3_1  4380 non-null   float64 \n",
            " 65  tcdc_ea5_1  4380 non-null   float64 \n",
            " 66  tcolc_e4_1  4380 non-null   float64 \n",
            " 67  tmin_2m2_1  4380 non-null   float64 \n",
            " 68  tmp_2m_1_1  4380 non-null   float64 \n",
            " 69  ulwrf_s2_1  4380 non-null   float64 \n",
            " 70  ulwrf_s3_1  4380 non-null   float64 \n",
            " 71  ulwrf_t2_1  4380 non-null   float64 \n",
            " 72  ulwrf_t5_1  4380 non-null   float64 \n",
            " 73  uswrf_s4_1  4380 non-null   float64 \n",
            " 74  apcp_sf1_1  4380 non-null   category\n",
            " 75  uswrf_s2_1  4380 non-null   category\n",
            "dtypes: category(3), float64(39), int32(34)\n",
            "memory usage: 1.9 MB\n",
            "\n",
            "Proporción de datos faltantes es:\n",
            "======================================\n",
            "salida        0.0\n",
            "apcp_sf2_1    0.0\n",
            "apcp_sf4_1    0.0\n",
            "dlwrf_s1_1    0.0\n",
            "dlwrf_s4_1    0.0\n",
            "             ... \n",
            "ulwrf_t2_1    0.0\n",
            "ulwrf_t5_1    0.0\n",
            "uswrf_s4_1    0.0\n",
            "apcp_sf1_1    0.0\n",
            "uswrf_s2_1    0.0\n",
            "Length: 76, dtype: float64\n"
          ]
        }
      ],
      "source": [
        "print('La dimensión de la tabla es:')\n",
        "print('===============================')\n",
        "print(datos.shape)\n",
        "print()\n",
        "\n",
        "# Observamos que hay 4380 filas con 76 columnas\n",
        "\n",
        "print('El tipo de atributos que hay son:')\n",
        "print('================================')\n",
        "datos.info()\n",
        "\n",
        "# Como vemos hay 3 variables categóricas nominales, 39 variables numéricas continuas y 34 variables numéricas enteras(discretas)\n",
        "\n",
        "print()\n",
        "\n",
        "print('Proporción de datos faltantes es:')\n",
        "print('======================================')\n",
        "print(datos.isnull().mean())\n",
        "\n",
        "# No hay datos faltantes"
      ]
    },
    {
      "cell_type": "markdown",
      "metadata": {
        "id": "RMgmwOwHBNB9"
      },
      "source": [
        "Por tanto tenemos :\n",
        "\n",
        "· 4380 filas con 76 columnas.\n",
        "\n",
        "\n",
        "· Hay 3 variables categóricas nominales, 39 variables numéricas continuas y 34 variables numéricas enteras(discretas).\n",
        "\n",
        "\n",
        "· No hay datos faltantes."
      ]
    },
    {
      "cell_type": "markdown",
      "metadata": {
        "id": "R8iO0JaHotj3"
      },
      "source": [
        "## **3.2) Matriz de variables predictoras X y vector variable salida y**"
      ]
    },
    {
      "cell_type": "code",
      "execution_count": null,
      "metadata": {
        "colab": {
          "base_uri": "https://localhost:8080/"
        },
        "id": "wmQl5wvFjSY5",
        "outputId": "1d744123-e589-4624-fbb0-dbb79cacc149"
      },
      "outputs": [
        {
          "name": "stdout",
          "output_type": "stream",
          "text": [
            "      apcp_sf2_1  apcp_sf4_1  dlwrf_s1_1  ...  uswrf_s4_1  apcp_sf1_1  uswrf_s2_1\n",
            "0              1    0.000000  259.492673  ...  103.636364         red         red\n",
            "1              1    0.059091  254.725868  ...   66.909091         red         red\n",
            "2              1    0.000000  215.280002  ...  127.592047         red         red\n",
            "3              1    0.000000  240.408503  ...  103.000000         red         red\n",
            "4              1    0.000000  233.435475  ...  102.454545         red         red\n",
            "...          ...         ...         ...  ...         ...         ...         ...\n",
            "4375           1    0.315455  272.168651  ...   27.000000         red         red\n",
            "4376           1    0.000000  248.642001  ...  103.545455         red         red\n",
            "4377           1    0.000000  271.809801  ...  104.363636         red         red\n",
            "4378           1    0.000000  266.952959  ...  105.090909         red         red\n",
            "4379           1    0.000000  268.748985  ...  127.592047         red         red\n",
            "\n",
            "[4380 rows x 75 columns]\n"
          ]
        }
      ],
      "source": [
        "# Vamos a crear una matriz de variables predictoras X y el vector con la variable respuesta y(que contiene la variable salida)\n",
        "# Matriz de predictores X:\n",
        "datos = pd.DataFrame(datos)\n",
        "\n",
        "X=datos.loc[:,\"apcp_sf2_1\":\"uswrf_s2_1\"]\n",
        "print(X)"
      ]
    },
    {
      "cell_type": "code",
      "execution_count": null,
      "metadata": {
        "colab": {
          "base_uri": "https://localhost:8080/"
        },
        "id": "z8ipnMUhrofv",
        "outputId": "8ac21e27-5934-4838-94ab-5e3bba7544d2"
      },
      "outputs": [
        {
          "name": "stdout",
          "output_type": "stream",
          "text": [
            "<bound method DataFrame.info of       apcp_sf2_1  apcp_sf4_1  dlwrf_s1_1  ...  uswrf_s4_1  apcp_sf1_1  uswrf_s2_1\n",
            "0              1    0.000000  259.492673  ...  103.636364         red         red\n",
            "1              1    0.059091  254.725868  ...   66.909091         red         red\n",
            "2              1    0.000000  215.280002  ...  127.592047         red         red\n",
            "3              1    0.000000  240.408503  ...  103.000000         red         red\n",
            "4              1    0.000000  233.435475  ...  102.454545         red         red\n",
            "...          ...         ...         ...  ...         ...         ...         ...\n",
            "4375           1    0.315455  272.168651  ...   27.000000         red         red\n",
            "4376           1    0.000000  248.642001  ...  103.545455         red         red\n",
            "4377           1    0.000000  271.809801  ...  104.363636         red         red\n",
            "4378           1    0.000000  266.952959  ...  105.090909         red         red\n",
            "4379           1    0.000000  268.748985  ...  127.592047         red         red\n",
            "\n",
            "[4380 rows x 75 columns]>\n"
          ]
        }
      ],
      "source": [
        "print(X.info)\n",
        "\n",
        "# Como vemos hay 4380 observaciones con 75 columnas(variables independientes)"
      ]
    },
    {
      "cell_type": "code",
      "execution_count": null,
      "metadata": {
        "colab": {
          "base_uri": "https://localhost:8080/"
        },
        "id": "ssJUdgPcoZV_",
        "outputId": "bc83abc2-3589-435f-8c23-7e301d73ca59"
      },
      "outputs": [
        {
          "name": "stdout",
          "output_type": "stream",
          "text": [
            "          salida\n",
            "0     11621100.0\n",
            "1      6513000.0\n",
            "2      9841500.0\n",
            "3      7633800.0\n",
            "4     10550400.0\n",
            "...          ...\n",
            "4375   8851200.0\n",
            "4376  11423400.0\n",
            "4377  11387400.0\n",
            "4378  11190900.0\n",
            "4379  10721700.0\n",
            "\n",
            "[4380 rows x 1 columns]\n"
          ]
        }
      ],
      "source": [
        "# Vector de variable respuesta y\n",
        "\n",
        "y=datos.iloc[:,[0]]\n",
        "print(y)"
      ]
    },
    {
      "cell_type": "code",
      "execution_count": null,
      "metadata": {
        "colab": {
          "base_uri": "https://localhost:8080/"
        },
        "id": "1ZLlq7dZr1os",
        "outputId": "77f9cb2a-3302-4a27-fbd9-5d55d4d95607"
      },
      "outputs": [
        {
          "name": "stdout",
          "output_type": "stream",
          "text": [
            "          salida\n",
            "0     11621100.0\n",
            "1      6513000.0\n",
            "2      9841500.0\n",
            "3      7633800.0\n",
            "4     10550400.0\n",
            "...          ...\n",
            "4375   8851200.0\n",
            "4376  11423400.0\n",
            "4377  11387400.0\n",
            "4378  11190900.0\n",
            "4379  10721700.0\n",
            "\n",
            "[4380 rows x 1 columns]\n"
          ]
        }
      ],
      "source": [
        "print(y)\n",
        "\n",
        "# Como vemos solo esta la variable salida"
      ]
    },
    {
      "cell_type": "markdown",
      "metadata": {
        "id": "M3k34aH4qh0U"
      },
      "source": [
        "## 3.3) **Convertimos las variables categóricas de X a dummy's**"
      ]
    },
    {
      "cell_type": "code",
      "execution_count": null,
      "metadata": {
        "id": "4WHJXhpiqnLM"
      },
      "outputs": [],
      "source": [
        "# Cargamos las librerías para transformar las variables categóricas a dummy's\n",
        "\n",
        "from sklearn.preprocessing import OneHotEncoder\n",
        "from sklearn.compose import ColumnTransformer\n",
        "from sklearn.compose import make_column_selector as selector"
      ]
    },
    {
      "cell_type": "code",
      "execution_count": null,
      "metadata": {
        "id": "bsQ2t7CQsfvs"
      },
      "outputs": [],
      "source": [
        "# Definimos las variables categóricas\n",
        "\n",
        "categorical_features = ['spfh_2m5_1','apcp_sf1_1','uswrf_s2_1']\n",
        "\n",
        "# Transformamos las variables categóricas en dummy's\n",
        "\n",
        "preprocessor = ColumnTransformer(\n",
        "    transformers = [ \n",
        "                    ('categorical', OneHotEncoder(handle_unknown='ignore'),  selector(dtype_include=[\"category\"]))\n",
        "                    ],\n",
        "                    remainder='passthrough' \n",
        ")\n",
        "\n",
        "# Ajustamos a la matriz de predictores X\n",
        "\n",
        "preprocessor.fit(X)\n",
        "\n",
        "# Aplicamos el preproceso\n",
        "X = preprocessor.transform(X)"
      ]
    },
    {
      "cell_type": "code",
      "execution_count": null,
      "metadata": {
        "colab": {
          "base_uri": "https://localhost:8080/"
        },
        "id": "Re8Le60Bt62L",
        "outputId": "d3ea010e-a233-43c9-f5f6-3c13c1d5876f"
      },
      "outputs": [
        {
          "name": "stdout",
          "output_type": "stream",
          "text": [
            "(4380, 81)\n",
            "[278.76743109 276.946253   268.47323886 ... 280.2320196  283.29503285\n",
            " 280.66207608]\n"
          ]
        }
      ],
      "source": [
        "# Comprobamos que se han cambiado\n",
        "\n",
        "print(X.shape)\n",
        "\n",
        "# Como vemos ahora hay 81 columnas, ya que se han añadido variables dummys para cada variable categórica"
      ]
    },
    {
      "cell_type": "markdown",
      "metadata": {
        "id": "efB8BMyEubW9"
      },
      "source": [
        "## **3.4) Modelo árboles: Decision trees**"
      ]
    },
    {
      "cell_type": "code",
      "execution_count": null,
      "metadata": {
        "colab": {
          "base_uri": "https://localhost:8080/"
        },
        "id": "xBDdjkT0ulp5",
        "outputId": "db8acb0a-3920-4854-bcf6-e53173bf54aa"
      },
      "outputs": [
        {
          "name": "stdout",
          "output_type": "stream",
          "text": [
            "(2136, 81)\n"
          ]
        }
      ],
      "source": [
        "# Dividimos en entrenamiento y test(para validar)\n",
        "\n",
        "# Para entrenar el modelo seleccionamos los primeros 6 años\n",
        "X_train_tree = X[0:(6*356),:]\n",
        "print(X_train_tree.shape)"
      ]
    },
    {
      "cell_type": "code",
      "execution_count": null,
      "metadata": {
        "colab": {
          "base_uri": "https://localhost:8080/"
        },
        "id": "unySmEeFu7Br",
        "outputId": "65152d5b-a8da-49e7-d174-67ccfb69bb53"
      },
      "outputs": [
        {
          "name": "stdout",
          "output_type": "stream",
          "text": [
            "(1067, 81)\n"
          ]
        }
      ],
      "source": [
        "# Validación\n",
        "# Para validar seleccionamos los 3 años del año 6 al año 9\n",
        "\n",
        "X_validation_tree=X[(6*356+1):(9*356),:]\n",
        "print(X_validation_tree.shape)"
      ]
    },
    {
      "cell_type": "code",
      "execution_count": null,
      "metadata": {
        "colab": {
          "base_uri": "https://localhost:8080/"
        },
        "id": "34UVI92wvRv8",
        "outputId": "4ce35d5a-1239-4cc4-d929-c67433ed3608"
      },
      "outputs": [
        {
          "name": "stdout",
          "output_type": "stream",
          "text": [
            "          salida\n",
            "0     11621100.0\n",
            "1      6513000.0\n",
            "2      9841500.0\n",
            "3      7633800.0\n",
            "4     10550400.0\n",
            "...          ...\n",
            "2131  16577100.0\n",
            "2132  15490500.0\n",
            "2133  15665700.0\n",
            "2134  14891400.0\n",
            "2135  13263000.0\n",
            "\n",
            "[2136 rows x 1 columns]\n"
          ]
        }
      ],
      "source": [
        "# Ahora con la variable salida y\n",
        "# Entrenamiento con 6 años\n",
        "\n",
        "y_train_tree = y[0:(6*356)]\n",
        "print(y_train_tree)"
      ]
    },
    {
      "cell_type": "code",
      "execution_count": null,
      "metadata": {
        "colab": {
          "base_uri": "https://localhost:8080/"
        },
        "id": "sh13OWM8viuN",
        "outputId": "154c436b-ba0a-46de-e5a2-1ade927a82d6"
      },
      "outputs": [
        {
          "name": "stdout",
          "output_type": "stream",
          "text": [
            "          salida\n",
            "2137  13234500.0\n",
            "2138  13497600.0\n",
            "2139  14347800.0\n",
            "2140  13682100.0\n",
            "2141  13896600.0\n",
            "2142  13729200.0\n",
            "2143  13800300.0\n",
            "2144  13810800.0\n",
            "2145  13413900.0\n",
            "2146  13225500.0\n"
          ]
        }
      ],
      "source": [
        "# Ahora establecemos el conjunto de validación\n",
        "# Validación con 3 años del año 6 al 9\n",
        "# Conjunto de test\n",
        "\n",
        "y_validation_tree=y[(6*356+1):(9*356)]\n",
        "\n",
        "# Miramos los 10 primeros valores del conjunto de test\n",
        "print(y_validation_tree.head(10))"
      ]
    },
    {
      "cell_type": "code",
      "execution_count": null,
      "metadata": {
        "id": "yLOMVPv6vyar"
      },
      "outputs": [],
      "source": [
        "# Cargamos las librerías\n",
        "\n",
        "from sklearn.metrics import mean_absolute_error as mae\n",
        "from sklearn import tree"
      ]
    },
    {
      "cell_type": "code",
      "execution_count": null,
      "metadata": {
        "colab": {
          "base_uri": "https://localhost:8080/"
        },
        "id": "Wvv1gDpPv11N",
        "outputId": "4d0779a4-9191-4de0-e1ad-350148dd0227"
      },
      "outputs": [
        {
          "data": {
            "text/plain": [
              "DecisionTreeRegressor()"
            ]
          },
          "execution_count": 71,
          "metadata": {},
          "output_type": "execute_result"
        }
      ],
      "source": [
        "# Establecemos el modelo de regresión de árboles\n",
        "\n",
        "tree_regr = tree.DecisionTreeRegressor()\n",
        "\n",
        "# Establecemos la semilla para RNG \n",
        "\n",
        "np.random.seed(100407632)\n",
        "\n",
        "# Entrenamos el modelo\n",
        "tree_regr.fit(X_train_tree, y_train_tree)"
      ]
    },
    {
      "cell_type": "code",
      "execution_count": null,
      "metadata": {
        "colab": {
          "base_uri": "https://localhost:8080/"
        },
        "id": "mpuu5aRDwjhE",
        "outputId": "14dd22c1-2ea6-4b61-8814-2feb1ae92a45"
      },
      "outputs": [
        {
          "name": "stdout",
          "output_type": "stream",
          "text": [
            "[15063600. 14893200. 14891400. 14891400. 15063600. 15063600. 14891400.\n",
            "  9892200. 16331700. 14891400.]\n"
          ]
        }
      ],
      "source": [
        "# Predicción del conjunto de test/validar\n",
        "\n",
        "y_validation_tree_pred = tree_regr.predict(X_validation_tree)\n",
        "\n",
        "# Miramos las 10 primeras predicciones\n",
        "print(y_validation_tree_pred[0:10])"
      ]
    },
    {
      "cell_type": "code",
      "execution_count": null,
      "metadata": {
        "colab": {
          "base_uri": "https://localhost:8080/"
        },
        "id": "HxwKUrqxxNc3",
        "outputId": "5599d3a5-748b-4039-a655-b86a62c32ff1"
      },
      "outputs": [
        {
          "name": "stdout",
          "output_type": "stream",
          "text": [
            "El MAE de regresión del modelo árbol es: 3059457.6382380505\n"
          ]
        }
      ],
      "source": [
        "# Calculamos el error\n",
        "# En este caso como es un problema de regresión usamos el MAE(es la diferencia entre el valor real y el predicho elevado al cuadrado).\n",
        "\n",
        "mae_validation_tree = mae(y_validation_tree, y_validation_tree_pred)\n",
        "print(f\"El MAE de regresión del modelo árbol es: {mae_validation_tree}\")"
      ]
    },
    {
      "cell_type": "markdown",
      "metadata": {
        "id": "P3gwQl7tDwI_"
      },
      "source": [
        "En este caso el MAE de regresión del modelo de árbol/tree es ≈ 3059458. La métrica MAE se mide en las mismas unidades que y que en este caso es la radiación solar. Algunos valores de y que toma valores grandes. Por tanto de momento no es un indicador muy bueno del rendimiento del modelo."
      ]
    },
    {
      "cell_type": "markdown",
      "metadata": {
        "id": "8cSbmuH0zkTC"
      },
      "source": [
        "## **3.5) Modelo KNN**"
      ]
    },
    {
      "cell_type": "code",
      "execution_count": null,
      "metadata": {
        "id": "thl3Uksmzkm_"
      },
      "outputs": [],
      "source": [
        "# Cargamos las librerías\n",
        "\n",
        "# KNN\n",
        "from sklearn import neighbors\n",
        "\n",
        "# Para escalar \n",
        "from sklearn.preprocessing import StandardScaler\n",
        "\n",
        "# Secuencia\n",
        "from sklearn.pipeline import Pipeline"
      ]
    },
    {
      "cell_type": "code",
      "execution_count": null,
      "metadata": {
        "colab": {
          "base_uri": "https://localhost:8080/"
        },
        "id": "CAEiMfWlz_qi",
        "outputId": "8b169339-b6b2-4c06-e6f1-38f9276873e9"
      },
      "outputs": [
        {
          "name": "stdout",
          "output_type": "stream",
          "text": [
            "[[  0.           0.           1.         ...   0.         254.97693565\n",
            "  103.63636364]\n",
            " [  0.           0.           1.         ...   0.         209.78018882\n",
            "   66.90909091]\n",
            " [  0.           0.           1.         ...   0.         225.07492065\n",
            "  127.59204702]\n",
            " ...\n",
            " [  0.           0.           1.         ...   0.         260.23763107\n",
            "  126.54545455]\n",
            " [  1.           0.           0.         ...   0.         290.84068992\n",
            "  117.63636364]\n",
            " [  1.           0.           0.         ...   0.         260.23763107\n",
            "  127.59204702]]\n"
          ]
        }
      ],
      "source": [
        "# Dividimos en entrenamiento y test(para validar)\n",
        "\n",
        "# En entrenamiento metemos los 6 primeros años\n",
        "X_train_knn = X[0:(6*356),:]\n",
        "print(X_train_knn)"
      ]
    },
    {
      "cell_type": "code",
      "execution_count": null,
      "metadata": {
        "colab": {
          "base_uri": "https://localhost:8080/"
        },
        "id": "JYBUmdy40Z1a",
        "outputId": "e924d5db-0a6c-4941-e54c-298daa4a2a1f"
      },
      "outputs": [
        {
          "name": "stdout",
          "output_type": "stream",
          "text": [
            "[[  1.           0.           0.         ...   0.         289.61789495\n",
            "  114.81818182]\n",
            " [  0.           0.           1.         ...   0.         260.23763107\n",
            "  112.54545455]\n",
            " [  0.           0.           1.         ...   0.         293.04694713\n",
            "  117.27272727]\n",
            " ...\n",
            " [  0.           0.           1.         ...   0.         243.0952731\n",
            "  136.90909091]\n",
            " [  1.           0.           0.         ...   0.         131.9424161\n",
            "  127.59204702]\n",
            " [  1.           0.           0.         ...   0.         260.7470287\n",
            "  127.59204702]]\n"
          ]
        }
      ],
      "source": [
        "# Validación\n",
        "# Metemos el conjunto de validación desde el año 6 al 9 para validar\n",
        "# Conjunto de test\n",
        "\n",
        "X_validation_knn=X[(6*356+1):(9*356),:]\n",
        "print(X_validation_knn)"
      ]
    },
    {
      "cell_type": "code",
      "execution_count": null,
      "metadata": {
        "colab": {
          "base_uri": "https://localhost:8080/"
        },
        "id": "0msvLLzW0ezg",
        "outputId": "97253215-b1d9-4e8f-91e1-e652fe8b4094"
      },
      "outputs": [
        {
          "name": "stdout",
          "output_type": "stream",
          "text": [
            "          salida\n",
            "0     11621100.0\n",
            "1      6513000.0\n",
            "2      9841500.0\n",
            "3      7633800.0\n",
            "4     10550400.0\n",
            "...          ...\n",
            "2131  16577100.0\n",
            "2132  15490500.0\n",
            "2133  15665700.0\n",
            "2134  14891400.0\n",
            "2135  13263000.0\n",
            "\n",
            "[2136 rows x 1 columns]\n"
          ]
        }
      ],
      "source": [
        "# Ahora con la variable salida y\n",
        "# Entrenamiento\n",
        "\n",
        "y_train_knn = y[0:(6*356)]\n",
        "print(y_train_knn)"
      ]
    },
    {
      "cell_type": "code",
      "execution_count": null,
      "metadata": {
        "colab": {
          "base_uri": "https://localhost:8080/"
        },
        "id": "8mq3m85-0hpx",
        "outputId": "a6e20192-5de5-488b-b4a0-675f2266e48e"
      },
      "outputs": [
        {
          "name": "stdout",
          "output_type": "stream",
          "text": [
            "          salida\n",
            "2137  13234500.0\n",
            "2138  13497600.0\n",
            "2139  14347800.0\n",
            "2140  13682100.0\n",
            "2141  13896600.0\n",
            "2142  13729200.0\n",
            "2143  13800300.0\n",
            "2144  13810800.0\n",
            "2145  13413900.0\n",
            "2146  13225500.0\n"
          ]
        }
      ],
      "source": [
        "# Ahora establecemos el conjunto de validación\n",
        "\n",
        "y_validation_knn=y[(6*356+1):(9*356)]\n",
        "\n",
        "# Miramos el valor de las primeras 10 observaciones del conjunto de test\n",
        "print(y_validation_knn.head(10))"
      ]
    },
    {
      "cell_type": "code",
      "execution_count": null,
      "metadata": {
        "id": "1Mt6OZx_0qCj"
      },
      "outputs": [],
      "source": [
        "# Creamos el modelo\n",
        "# K=5 vecinos\n",
        "\n",
        "K=5\n",
        "\n",
        "knn= neighbors.KNeighborsRegressor(n_neighbors=K)\n",
        "\n",
        "# Para escalar\n",
        "scaling = StandardScaler()\n",
        "\n",
        "# Definimos la secuencia para escalar\n",
        "regr = Pipeline([('scaler', scaling), \n",
        "                ('knn', knn)])"
      ]
    },
    {
      "cell_type": "code",
      "execution_count": null,
      "metadata": {
        "id": "vYYH0s1c1r_R"
      },
      "outputs": [],
      "source": [
        "# Semilla\n",
        "\n",
        "np.random.seed(100407632) "
      ]
    },
    {
      "cell_type": "code",
      "execution_count": null,
      "metadata": {
        "colab": {
          "base_uri": "https://localhost:8080/"
        },
        "id": "STXXU9Rj1x2n",
        "outputId": "398ac807-cf00-40f5-b395-562de146f755"
      },
      "outputs": [
        {
          "data": {
            "text/plain": [
              "KNeighborsRegressor()"
            ]
          },
          "execution_count": 167,
          "metadata": {},
          "output_type": "execute_result"
        }
      ],
      "source": [
        "# Entrenamos\n",
        "\n",
        "knn.fit(X_train_knn, y_train_knn)"
      ]
    },
    {
      "cell_type": "code",
      "execution_count": null,
      "metadata": {
        "colab": {
          "base_uri": "https://localhost:8080/"
        },
        "id": "CXZS-Inl11G5",
        "outputId": "1dcfa9df-4ab0-4a53-e37e-a9fb83110cfb"
      },
      "outputs": [
        {
          "name": "stdout",
          "output_type": "stream",
          "text": [
            "[[17631420.]\n",
            " [14532240.]\n",
            " [14766540.]\n",
            " [16030620.]\n",
            " [20126520.]\n",
            " [15903060.]\n",
            " [16148700.]\n",
            " [19169520.]\n",
            " [20706780.]\n",
            " [16390620.]]\n"
          ]
        }
      ],
      "source": [
        "# Predicciones\n",
        "\n",
        "y_validation_knn_pred = knn.predict(X_validation_knn)\n",
        "\n",
        "# Miramos las 10 primeras predicciones\n",
        "print(y_validation_knn_pred[0:10])"
      ]
    },
    {
      "cell_type": "code",
      "execution_count": null,
      "metadata": {
        "colab": {
          "base_uri": "https://localhost:8080/"
        },
        "id": "baCKCBx817yD",
        "outputId": "019206c9-7185-4e7f-e26e-fa5350cd57ec"
      },
      "outputs": [
        {
          "name": "stdout",
          "output_type": "stream",
          "text": [
            "El MAE de regresión del modelo KNN es: 3374026.8416119963 \n"
          ]
        }
      ],
      "source": [
        "# MAE\n",
        "\n",
        "mae_validation_knn = mae(y_validation_knn, y_validation_knn_pred)\n",
        "print(f\"El MAE de regresión del modelo KNN es: {mae_validation_knn}\")"
      ]
    },
    {
      "cell_type": "markdown",
      "metadata": {
        "id": "qrpuqNktEND0"
      },
      "source": [
        "En el caso del modelo KNN el MAE es de ≈ 3374027. Como antes no es un indicador muy bueno."
      ]
    },
    {
      "cell_type": "markdown",
      "metadata": {
        "id": "Fk4ZSpBk2Pr_"
      },
      "source": [
        "## **3.6.1) RAE para Modelo Tree**"
      ]
    },
    {
      "cell_type": "code",
      "execution_count": null,
      "metadata": {
        "id": "ugkhsIKn2YmA"
      },
      "outputs": [],
      "source": [
        "# Calculamos el RAE\n",
        "# Definimos el mae para un modelo trivial\n",
        "\n",
        "mae_validation_dummy_tree = np.mean(np.abs(y_validation_tree-y_train_tree.mean()))\n",
        "\n",
        "# Calculamos el RAE para el modelo de árboles\n",
        "\n",
        "rae_validation_tree = mae_validation_tree / mae_validation_dummy_tree"
      ]
    },
    {
      "cell_type": "code",
      "execution_count": null,
      "metadata": {
        "colab": {
          "base_uri": "https://localhost:8080/"
        },
        "id": "xToSb9uj4EIF",
        "outputId": "8ba513e7-3d22-48aa-e365-6d0ff4972ef5"
      },
      "outputs": [
        {
          "name": "stdout",
          "output_type": "stream",
          "text": [
            "El RAE de regresión del modelo tree es: salida    0.446681\n",
            "dtype: float64\n"
          ]
        }
      ],
      "source": [
        "# RAE para el modelo Tree\n",
        "\n",
        "print(f\"El RAE de regresión del modelo tree es: {rae_validation_tree}\")"
      ]
    },
    {
      "cell_type": "markdown",
      "metadata": {
        "id": "TUQGd-AGC0-P"
      },
      "source": [
        "En este caso obtenemos un RAE ≈ 0.44. Por tanto indica que lo hace mejor que un modelo trivial/dummy ya que si fuera cercano a 1 indicaría que no hay diferencia entre este modelo(que es más complejo) y uno muy básico. Si fuera más cercano a 0 indicaría que es un modelo perfecto ya que acierta en todas las predicciones. Y si es mayor que 1 indica que tiene un rendimiento peor que un modelo trivial lo que sería un modelo horrible."
      ]
    },
    {
      "cell_type": "markdown",
      "metadata": {
        "id": "lruLjUF84T6w"
      },
      "source": [
        "## **3.6.2) RAE para Modelo KNN**"
      ]
    },
    {
      "cell_type": "code",
      "execution_count": null,
      "metadata": {
        "id": "yHEodo1X4WWz"
      },
      "outputs": [],
      "source": [
        "# Calculamos el RAE\n",
        "# Definimos el mae para modelo trivial\n",
        "\n",
        "mae_validation_dummy_knn = np.mean(np.abs(y_validation_knn-y_train_knn.mean()))\n",
        "\n",
        "# Calculamos el RAE\n",
        "\n",
        "rae_validation_knn = mae_validation_knn / mae_validation_dummy_knn"
      ]
    },
    {
      "cell_type": "code",
      "execution_count": null,
      "metadata": {
        "colab": {
          "base_uri": "https://localhost:8080/"
        },
        "id": "4UPtw7Dm4iCq",
        "outputId": "723322d7-91fe-4f2d-f231-e915f58a7702"
      },
      "outputs": [
        {
          "name": "stdout",
          "output_type": "stream",
          "text": [
            "El RAE de regresión del modelo KNN es: salida    0.492608\n",
            "dtype: float64\n"
          ]
        }
      ],
      "source": [
        "# RAE para el modelo KNN\n",
        "\n",
        "print(f\"El RAE de regresión del modelo KNN es: {rae_validation_knn}\")"
      ]
    },
    {
      "cell_type": "markdown",
      "metadata": {
        "id": "5ZK5fF1mDQQq"
      },
      "source": [
        "En cuanto al modelo KNN tiene un RAE ≈ 0.49, es decir ≈ 0.50. Esto indica que lo hace mejor al predecir que un modelo trivial pero que no es un modelo muy acertado ya que solo es mejor la \"mitad\" de las veces."
      ]
    },
    {
      "cell_type": "markdown",
      "metadata": {
        "id": "wBvLiCo85GNS"
      },
      "source": [
        "## **3.7) Comparación RAE con modelos de MLR3 vs Scikit-learn**"
      ]
    },
    {
      "cell_type": "code",
      "execution_count": null,
      "metadata": {
        "colab": {
          "base_uri": "https://localhost:8080/"
        },
        "id": "gwLvfuzR5G_E",
        "outputId": "b30d2e1d-cbff-4316-9614-43cd027c329b"
      },
      "outputs": [
        {
          "name": "stdout",
          "output_type": "stream",
          "text": [
            "╒════════════╤════════════════════╕\n",
            "│ RAE:MLR3   │ RAE:SCIKIT-LEARN   │\n",
            "╞════════════╪════════════════════╡\n",
            "│ KNN=0.37   │ KNN=0.49           │\n",
            "├────────────┼────────────────────┤\n",
            "│ TREE=0.41  │ TREE=0.44          │\n",
            "╘════════════╧════════════════════╛\n"
          ]
        }
      ],
      "source": [
        "# Vamos a hacer una tabla donde comparemos los RAE de los modelos tree y knn de R con MLR3 y Python con Scikit-learn\n",
        "# Importamos la librería\n",
        "from tabulate import tabulate as tab\n",
        "\n",
        "# Creamos la tabla\n",
        "tabla=[ ['RAE:MLR3','RAE:SCIKIT-LEARN'],['KNN=0.37','KNN=0.49'],['TREE=0.41','TREE=0.44']                        \n",
        "]\n",
        "\n",
        "# Imprimir la tabla\n",
        "print(tab(tabla, headers='firstrow',tablefmt='fancy_grid'))"
      ]
    },
    {
      "cell_type": "code",
      "execution_count": null,
      "metadata": {
        "colab": {
          "base_uri": "https://localhost:8080/"
        },
        "id": "1wXIiTAK4Lja",
        "outputId": "4aa4b7cf-959c-4405-bc22-c6391f001a7a"
      },
      "outputs": [
        {
          "name": "stdout",
          "output_type": "stream",
          "text": [
            "{'algorithm': 'auto', 'leaf_size': 30, 'metric': 'minkowski', 'metric_params': None, 'n_jobs': None, 'n_neighbors': 5, 'p': 2, 'weights': 'uniform'}\n"
          ]
        }
      ],
      "source": [
        "# Vemos los hiperparámetros del modelo KNN\n",
        "\n",
        "print(knn.get_params())"
      ]
    },
    {
      "cell_type": "code",
      "execution_count": null,
      "metadata": {
        "colab": {
          "base_uri": "https://localhost:8080/"
        },
        "id": "coE1iGYI6F2m",
        "outputId": "0a7a8cf1-0460-4bcd-bc05-ab319ab4da14"
      },
      "outputs": [
        {
          "name": "stdout",
          "output_type": "stream",
          "text": [
            "{'ccp_alpha': 0.0, 'criterion': 'squared_error', 'max_depth': None, 'max_features': None, 'max_leaf_nodes': None, 'min_impurity_decrease': 0.0, 'min_samples_leaf': 1, 'min_samples_split': 2, 'min_weight_fraction_leaf': 0.0, 'random_state': None, 'splitter': 'best'}\n"
          ]
        }
      ],
      "source": [
        "# Vemos los hiperparámetros del modelo Tree\n",
        "\n",
        "print(tree_regr.get_params())"
      ]
    },
    {
      "cell_type": "code",
      "execution_count": null,
      "metadata": {
        "colab": {
          "base_uri": "https://localhost:8080/"
        },
        "id": "Dy4TGPMe7p6u",
        "outputId": "f6b860b4-15f3-4981-970a-8a797a52b52f"
      },
      "outputs": [
        {
          "name": "stdout",
          "output_type": "stream",
          "text": [
            "╒═══════════════╤═══════════════════════╕\n",
            "│ HP:KNN:MLR3   │ HP:KNN:SCIKIT-LEARN   │\n",
            "╞═══════════════╪═══════════════════════╡\n",
            "│ K=7           │ K=5                   │\n",
            "╘═══════════════╧═══════════════════════╛\n"
          ]
        }
      ],
      "source": [
        "# Creamos la tabla de los hiperparámetros por defecto del modelo KNN\n",
        "tabla_knn_hp=[['HP:KNN:MLR3','HP:KNN:SCIKIT-LEARN'],['K=7','K=5']                        \n",
        "]\n",
        "\n",
        "# Imprimir la tabla\n",
        "print(tab(tabla_knn_hp, headers='firstrow',tablefmt='fancy_grid'))"
      ]
    },
    {
      "cell_type": "code",
      "execution_count": null,
      "metadata": {
        "colab": {
          "base_uri": "https://localhost:8080/"
        },
        "id": "c6BVzeRa77MC",
        "outputId": "7913ebbb-fbe3-42d3-c923-4052ca3553f2"
      },
      "outputs": [
        {
          "name": "stdout",
          "output_type": "stream",
          "text": [
            "╒════════════════╤════════════════════════╕\n",
            "│ HP:TREE:MLR3   │ HP:TREE:SCIKIT-LEARN   │\n",
            "╞════════════════╪════════════════════════╡\n",
            "│ min_split=20   │ min_split=2            │\n",
            "├────────────────┼────────────────────────┤\n",
            "│ max_depth=30   │ max_depth=NONE         │\n",
            "╘════════════════╧════════════════════════╛\n"
          ]
        }
      ],
      "source": [
        "# Creamos la tabla de los hiperparámetros por defecto del modelo Tree/Rpart\n",
        "tabla_tree_hp=[['HP:TREE:MLR3','HP:TREE:SCIKIT-LEARN'],['min_split=20','min_split=2'],['max_depth=30','max_depth=NONE']                        \n",
        "]\n",
        "\n",
        "# Imprimir la tabla\n",
        "print(tab(tabla_tree_hp, headers='firstrow',tablefmt='fancy_grid'))"
      ]
    },
    {
      "cell_type": "markdown",
      "metadata": {
        "id": "5TO0Z_nb2seO"
      },
      "source": [
        "·Como se aprecia en la tabla los modelos hechos en Python con la librería scikit-learn obtenemos un RAE mayor en comparación con los modelos hechos en Rstudio con MLR3. \n",
        "\n",
        "·A pesar de que los datos son algo diferentes y de que se han hecho con los hiper-parámetros por omisión que también son desiguales(en KNN vemos que en MLR3 el hiperparámetro k/número de vecinos por defecto es 7 mientras que en scikit-learn es 5 y en el modelo tree en MLR3 min_split es 20 y max_depth=30 mientras que en scikit-learn min_split es 2 y max_depth no tiene valor por defecto y por tanto se crea el árbol entero). \n",
        "\n",
        "· En el modelo KNN en Python no se puede dejar el parámetro k/número de vecinos por defecto ya que hay que introducirlo manualmente y en este caso hemos escogido 5.\n",
        "\n",
        "·El RAE del modelo de árbol/tree en Python no es muy diferente al calculado en R solo es mayor con 0.3 unidades. En cambio en el modelo KNN si que se observa un RAE mayor.\n",
        "\n",
        "· En MLR3 se ha usado un preproceso diferente, por ejemplo a la hora de imputar los datos faltantes se ha usado para knn el método de la mediana y la moda mientras que para el modelo rpart/tree se ha usado el imputador multivariante(rpart) y la moda. También se usaban las variables ordinales mientras que aquí las hemos convertidos a enteros. Los valores faltantes en scikit-learn se han imputado con la media y la moda.\n",
        "\n",
        "· Por tanto vemos que hay diferencias entre los métodos utilizados y la comparación no es del todo realista."
      ]
    }
  ],
  "metadata": {
    "colab": {
      "collapsed_sections": [],
      "name": "Practica 2",
      "provenance": []
    },
    "kernelspec": {
      "display_name": "Python 3.10.0 64-bit",
      "language": "python",
      "name": "python3"
    },
    "language_info": {
      "codemirror_mode": {
        "name": "ipython",
        "version": 3
      },
      "file_extension": ".py",
      "mimetype": "text/x-python",
      "name": "python",
      "nbconvert_exporter": "python",
      "pygments_lexer": "ipython3",
      "version": "3.10.0"
    },
    "vscode": {
      "interpreter": {
        "hash": "c63d8c7d738c2960218a10995aedf0a7f67a49a231e71037adf0440953cdb45b"
      }
    }
  },
  "nbformat": 4,
  "nbformat_minor": 0
}
