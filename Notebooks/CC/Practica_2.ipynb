{
  "cells": [
    {
      "attachments": {},
      "cell_type": "markdown",
      "metadata": {
        "id": "H8Ay-S4hOBsV"
      },
      "source": [
        "# **PREDICCIÓN DE RADIACIÓN SOLAR CON SCIKIT-LEARN**\n",
        "\n",
        "Fabio Scielzo Ortiz, Marcos Álvarez Martín"
      ]
    },
    {
      "cell_type": "markdown",
      "metadata": {
        "id": "0XvLGrThY3B6"
      },
      "source": [
        "Las fuentes de energía renovable, como la solar o la eólica, ofrecen muchas ventajas ambientales sobre los combustibles fósiles para la generación de electricidad, pero la energía que producen fluctúa con las condiciones climáticas cambiantes. Las empresas de servicios eléctricos necesitan pronósticos precisos de la producción de energía para tener disponible el equilibrio adecuado de combustibles fósiles y renovables. Los errores en el pronóstico podrían generar grandes gastos para la empresa de servicios públicos debido al consumo excesivo de combustible o compras de emergencia de electricidad a las empresas vecinas. Los pronósticos de energía generalmente se derivan de modelos numéricos de predicción del clima, pero las técnicas estadísticas y de aprendizaje automático se utilizan cada vez más junto con los modelos numéricos para producir pronósticos más precisos.\n",
        "El objetivo de este concurso es descubrir qué técnicas estadísticas y de machine learning proporcionan las mejores predicciones a corto plazo de la producción de energía solar. Se predicirá el total de energía solar entrante diaria en 98 sitios de Oklahoma Mesonet.\n",
        "\n",
        "Hay 15 variables, predichas para 5 momentos del día siguiente lo que equivale a 75 atributos de entrada. En cuanto a las instancias tenemos que son 4380. En cuanto a las variables:\n",
        "\n",
        "* 1: apcp_sfc. Precipitación acumulada en 3 horas en la superficie. Mide en kg/m^2.\n",
        "* 2: dlwrf_sfc. Promedio del flujo radiativo de onda larga descendente en la superficie. Mide en W/m^2.\n",
        "* 3: dswrf_sfc. Promedio del flujo radiativo de onda corta descendente en la superficie. Mide en W/m^2.\n",
        "* 4: pres_msl. Presión del aire al nivel medio del mar. Mide en Pa.\n",
        "* 5: pwat_eatm. Agua precipitable en toda la profundidad de la atmósfera(representa la cantidad de agua potencial para ser precipitable ya sea lluvia, nieve, granizo,etc…). Mide en Kg/m^2.\n",
        "* 6: spfh_2m. Humedad específica a 2 metros del suelo. Mide en Kg.\n",
        "\n",
        "* 7: tcdc_eatm. Cobertura total de nubes en toda la profundidad de la atmósfera. Mide en %.\n",
        "* 8: tcolc_eatm. Condensado total integrado en la columna en toda la atmósfera. Mide en Kg/m^2.\n",
        "* 9: tmax_2m. Temperatura máxima durante las últimas 3 horas a 2 metros sobre el suelo. Mide en K(kelvin).\n",
        "* 10: tmin_2m. Temperatura mínima durante las últimas 3 horas a 2 metros sobre el suelo. Mide en K(kelvin).\n",
        "* 11: tmp_2m. Temperatura actual a 2 m sobre el suelo. Mide en K(kelvin).\n",
        "* 12: tmp_sfc. Temperatura de la superficie. Mide en K(kelvin).\n",
        "* 13: ulwrf_sfc. Radiación de onda larga ascendente en la superficie. Mide en W/m^2.\n",
        "* 14: ulwrf_tatm. Radiación de onda larga ascendente en la parte superior de la atmósfera. Mide en W/m^2.\n",
        "* 15: uswrf_sfc. Radiación ascendente de onda corta en la superficie. Mide en W/m^2.\n",
        "\n",
        "\n",
        "*** A pesar de que las variables originales representan lo indicado anteriormente, los datos han sido modificados y por ende algunos no corresponden con los valores “esperados”.\n",
        "\n",
        "Fuente: https://www.kaggle.com/c/ams-2014-solar-energy-prediction-contest/data"
      ]
    },
    {
      "cell_type": "markdown",
      "metadata": {},
      "source": []
    },
    {
      "cell_type": "markdown",
      "metadata": {
        "id": "Jd-8tD_0LIjk"
      },
      "source": [
        "## **1) y 2) Preparación y tratamiento de datos**"
      ]
    },
    {
      "attachments": {},
      "cell_type": "markdown",
      "metadata": {
        "id": "xyDNVSBXPC9L"
      },
      "source": [
        "Tras tratar los datos previamente en R, procedemos a cargar los datos en Python\n"
      ]
    },
    {
      "cell_type": "code",
      "execution_count": 40,
      "metadata": {
        "colab": {
          "base_uri": "https://localhost:8080/"
        },
        "id": "KiwOKjvXNw4Z",
        "outputId": "ebe458db-1563-43a5-c615-b0924905e957"
      },
      "outputs": [],
      "source": [
        "# pip install feather\n",
        "\n",
        "# pip install pyarrow"
      ]
    },
    {
      "cell_type": "code",
      "execution_count": 5,
      "metadata": {
        "id": "ZgFoj2DJRpEI"
      },
      "outputs": [],
      "source": [
        "# Importamos la librería pandas para leer los datos como data-frame\n",
        "\n",
        "import pandas as pd\n",
        "import numpy as np"
      ]
    },
    {
      "cell_type": "code",
      "execution_count": 8,
      "metadata": {},
      "outputs": [],
      "source": [
        "# Leemos los datos\n",
        "\n",
        "datos = pd.read_feather(\"disp_2.feather\")"
      ]
    },
    {
      "cell_type": "code",
      "execution_count": 9,
      "metadata": {
        "colab": {
          "base_uri": "https://localhost:8080/",
          "height": 270
        },
        "id": "TzjsPP5Yd6g5",
        "outputId": "d3ed00f6-91b8-4092-e2a9-499bf0d831a5"
      },
      "outputs": [
        {
          "data": {
            "text/html": [
              "<div>\n",
              "<style scoped>\n",
              "    .dataframe tbody tr th:only-of-type {\n",
              "        vertical-align: middle;\n",
              "    }\n",
              "\n",
              "    .dataframe tbody tr th {\n",
              "        vertical-align: top;\n",
              "    }\n",
              "\n",
              "    .dataframe thead th {\n",
              "        text-align: right;\n",
              "    }\n",
              "</style>\n",
              "<table border=\"1\" class=\"dataframe\">\n",
              "  <thead>\n",
              "    <tr style=\"text-align: right;\">\n",
              "      <th></th>\n",
              "      <th>salida</th>\n",
              "      <th>apcp_sf1_1</th>\n",
              "      <th>apcp_sf2_1</th>\n",
              "      <th>apcp_sf3_1</th>\n",
              "      <th>apcp_sf4_1</th>\n",
              "      <th>dlwrf_s1_1</th>\n",
              "      <th>dlwrf_s2_1</th>\n",
              "      <th>dlwrf_s3_1</th>\n",
              "      <th>dlwrf_s4_1</th>\n",
              "      <th>dlwrf_s5_1</th>\n",
              "      <th>...</th>\n",
              "      <th>tmin_2m4_1</th>\n",
              "      <th>tmp_2m_2_1</th>\n",
              "      <th>tmp_sfc2_1</th>\n",
              "      <th>tmp_sfc3_1</th>\n",
              "      <th>ulwrf_s1_1</th>\n",
              "      <th>uswrf_s1_1</th>\n",
              "      <th>uswrf_s3_1</th>\n",
              "      <th>dswrf_s5_1</th>\n",
              "      <th>pwat_ea3_1</th>\n",
              "      <th>ulwrf_s2_1</th>\n",
              "    </tr>\n",
              "  </thead>\n",
              "  <tbody>\n",
              "    <tr>\n",
              "      <th>0</th>\n",
              "      <td>11930700.0</td>\n",
              "      <td>red</td>\n",
              "      <td>1</td>\n",
              "      <td>1</td>\n",
              "      <td>0.000000</td>\n",
              "      <td>2</td>\n",
              "      <td>244.241641</td>\n",
              "      <td>1</td>\n",
              "      <td>1</td>\n",
              "      <td>268.377441</td>\n",
              "      <td>...</td>\n",
              "      <td>285.799685</td>\n",
              "      <td>0.0</td>\n",
              "      <td>289.425320</td>\n",
              "      <td>295.546109</td>\n",
              "      <td>0.0</td>\n",
              "      <td>0.077417</td>\n",
              "      <td>50.000000</td>\n",
              "      <td>blue</td>\n",
              "      <td>red</td>\n",
              "      <td>blue</td>\n",
              "    </tr>\n",
              "    <tr>\n",
              "      <th>1</th>\n",
              "      <td>9778500.0</td>\n",
              "      <td>red</td>\n",
              "      <td>1</td>\n",
              "      <td>1</td>\n",
              "      <td>0.008182</td>\n",
              "      <td>2</td>\n",
              "      <td>255.824126</td>\n",
              "      <td>2</td>\n",
              "      <td>2</td>\n",
              "      <td>307.929083</td>\n",
              "      <td>...</td>\n",
              "      <td>283.687009</td>\n",
              "      <td>0.0</td>\n",
              "      <td>278.269459</td>\n",
              "      <td>287.048970</td>\n",
              "      <td>0.0</td>\n",
              "      <td>0.000000</td>\n",
              "      <td>35.909091</td>\n",
              "      <td>red</td>\n",
              "      <td>red</td>\n",
              "      <td>blue</td>\n",
              "    </tr>\n",
              "    <tr>\n",
              "      <th>2</th>\n",
              "      <td>9771900.0</td>\n",
              "      <td>red</td>\n",
              "      <td>1</td>\n",
              "      <td>1</td>\n",
              "      <td>0.000000</td>\n",
              "      <td>1</td>\n",
              "      <td>211.996022</td>\n",
              "      <td>1</td>\n",
              "      <td>1</td>\n",
              "      <td>239.840132</td>\n",
              "      <td>...</td>\n",
              "      <td>276.041792</td>\n",
              "      <td>0.0</td>\n",
              "      <td>271.690993</td>\n",
              "      <td>281.759993</td>\n",
              "      <td>0.0</td>\n",
              "      <td>0.000000</td>\n",
              "      <td>76.151808</td>\n",
              "      <td>blue</td>\n",
              "      <td>red</td>\n",
              "      <td>green</td>\n",
              "    </tr>\n",
              "    <tr>\n",
              "      <th>3</th>\n",
              "      <td>6466800.0</td>\n",
              "      <td>red</td>\n",
              "      <td>1</td>\n",
              "      <td>1</td>\n",
              "      <td>0.000000</td>\n",
              "      <td>2</td>\n",
              "      <td>230.896544</td>\n",
              "      <td>1</td>\n",
              "      <td>1</td>\n",
              "      <td>237.804048</td>\n",
              "      <td>...</td>\n",
              "      <td>276.942990</td>\n",
              "      <td>0.0</td>\n",
              "      <td>289.425320</td>\n",
              "      <td>281.291418</td>\n",
              "      <td>0.0</td>\n",
              "      <td>0.000000</td>\n",
              "      <td>46.000000</td>\n",
              "      <td>blue</td>\n",
              "      <td>red</td>\n",
              "      <td>blue</td>\n",
              "    </tr>\n",
              "    <tr>\n",
              "      <th>4</th>\n",
              "      <td>11545200.0</td>\n",
              "      <td>red</td>\n",
              "      <td>1</td>\n",
              "      <td>1</td>\n",
              "      <td>0.000000</td>\n",
              "      <td>1</td>\n",
              "      <td>238.927051</td>\n",
              "      <td>1</td>\n",
              "      <td>1</td>\n",
              "      <td>275.572826</td>\n",
              "      <td>...</td>\n",
              "      <td>283.734819</td>\n",
              "      <td>0.0</td>\n",
              "      <td>275.132668</td>\n",
              "      <td>285.698725</td>\n",
              "      <td>0.0</td>\n",
              "      <td>0.077417</td>\n",
              "      <td>48.909091</td>\n",
              "      <td>green</td>\n",
              "      <td>red</td>\n",
              "      <td>blue</td>\n",
              "    </tr>\n",
              "  </tbody>\n",
              "</table>\n",
              "<p>5 rows × 76 columns</p>\n",
              "</div>"
            ],
            "text/plain": [
              "       salida apcp_sf1_1  apcp_sf2_1  apcp_sf3_1  apcp_sf4_1  dlwrf_s1_1  \\\n",
              "0  11930700.0        red           1           1    0.000000           2   \n",
              "1   9778500.0        red           1           1    0.008182           2   \n",
              "2   9771900.0        red           1           1    0.000000           1   \n",
              "3   6466800.0        red           1           1    0.000000           2   \n",
              "4  11545200.0        red           1           1    0.000000           1   \n",
              "\n",
              "   dlwrf_s2_1  dlwrf_s3_1  dlwrf_s4_1  dlwrf_s5_1  ...  tmin_2m4_1  \\\n",
              "0  244.241641           1           1  268.377441  ...  285.799685   \n",
              "1  255.824126           2           2  307.929083  ...  283.687009   \n",
              "2  211.996022           1           1  239.840132  ...  276.041792   \n",
              "3  230.896544           1           1  237.804048  ...  276.942990   \n",
              "4  238.927051           1           1  275.572826  ...  283.734819   \n",
              "\n",
              "   tmp_2m_2_1  tmp_sfc2_1  tmp_sfc3_1  ulwrf_s1_1  uswrf_s1_1  uswrf_s3_1  \\\n",
              "0         0.0  289.425320  295.546109         0.0    0.077417   50.000000   \n",
              "1         0.0  278.269459  287.048970         0.0    0.000000   35.909091   \n",
              "2         0.0  271.690993  281.759993         0.0    0.000000   76.151808   \n",
              "3         0.0  289.425320  281.291418         0.0    0.000000   46.000000   \n",
              "4         0.0  275.132668  285.698725         0.0    0.077417   48.909091   \n",
              "\n",
              "   dswrf_s5_1  pwat_ea3_1  ulwrf_s2_1  \n",
              "0        blue         red        blue  \n",
              "1         red         red        blue  \n",
              "2        blue         red       green  \n",
              "3        blue         red        blue  \n",
              "4       green         red        blue  \n",
              "\n",
              "[5 rows x 76 columns]"
            ]
          },
          "execution_count": 9,
          "metadata": {},
          "output_type": "execute_result"
        }
      ],
      "source": [
        "# Vemos las primeras observaciones de la base de datos\n",
        "\n",
        "datos.head()"
      ]
    },
    {
      "cell_type": "markdown",
      "metadata": {},
      "source": []
    },
    {
      "cell_type": "markdown",
      "metadata": {
        "id": "z9SwfVyWq7ed"
      },
      "source": [
        "# **3) Aprendizaje automático con Scikit-learn:**"
      ]
    },
    {
      "cell_type": "markdown",
      "metadata": {
        "id": "99sdpY6RX9gQ"
      },
      "source": [
        "## **3.1) Análisis Exploratorio de datos**"
      ]
    },
    {
      "cell_type": "code",
      "execution_count": 10,
      "metadata": {
        "colab": {
          "base_uri": "https://localhost:8080/"
        },
        "id": "kBZ3zGRlZzT0",
        "outputId": "b36b8ab3-a62b-4f8d-eba7-ef48c79333ae"
      },
      "outputs": [
        {
          "name": "stdout",
          "output_type": "stream",
          "text": [
            "La dimensión de la tabla es:\n",
            "===============================\n",
            "(4380, 76)\n",
            "\n",
            "El tipo de atributos que hay son:\n",
            "================================\n",
            "<class 'pandas.core.frame.DataFrame'>\n",
            "RangeIndex: 4380 entries, 0 to 4379\n",
            "Data columns (total 76 columns):\n",
            " #   Column      Non-Null Count  Dtype   \n",
            "---  ------      --------------  -----   \n",
            " 0   salida      4380 non-null   float64 \n",
            " 1   apcp_sf1_1  4380 non-null   category\n",
            " 2   apcp_sf2_1  4380 non-null   int32   \n",
            " 3   apcp_sf3_1  4380 non-null   int32   \n",
            " 4   apcp_sf4_1  4380 non-null   float64 \n",
            " 5   dlwrf_s1_1  4380 non-null   int32   \n",
            " 6   dlwrf_s2_1  4380 non-null   float64 \n",
            " 7   dlwrf_s3_1  4380 non-null   int32   \n",
            " 8   dlwrf_s4_1  4380 non-null   int32   \n",
            " 9   dlwrf_s5_1  4380 non-null   float64 \n",
            " 10  dswrf_s2_1  4380 non-null   float64 \n",
            " 11  dswrf_s4_1  4380 non-null   float64 \n",
            " 12  pres_ms1_1  4380 non-null   int32   \n",
            " 13  pres_ms2_1  4380 non-null   int32   \n",
            " 14  pres_ms3_1  4380 non-null   int32   \n",
            " 15  pres_ms4_1  4380 non-null   int32   \n",
            " 16  pres_ms5_1  4380 non-null   float64 \n",
            " 17  pwat_ea1_1  4380 non-null   float64 \n",
            " 18  pwat_ea2_1  4380 non-null   float64 \n",
            " 19  spfh_2m1_1  4380 non-null   float64 \n",
            " 20  spfh_2m2_1  4380 non-null   float64 \n",
            " 21  spfh_2m5_1  4380 non-null   int32   \n",
            " 22  tcdc_ea1_1  4380 non-null   float64 \n",
            " 23  tcdc_ea2_1  4380 non-null   int32   \n",
            " 24  tcdc_ea3_1  4380 non-null   int32   \n",
            " 25  tcdc_ea4_1  4380 non-null   float64 \n",
            " 26  tcdc_ea5_1  4380 non-null   float64 \n",
            " 27  tcolc_e1_1  4380 non-null   int32   \n",
            " 28  tcolc_e3_1  4380 non-null   int32   \n",
            " 29  tcolc_e4_1  4380 non-null   int32   \n",
            " 30  tcolc_e5_1  4380 non-null   int32   \n",
            " 31  tmax_2m1_1  4380 non-null   int32   \n",
            " 32  tmax_2m2_1  4380 non-null   float64 \n",
            " 33  tmax_2m3_1  4380 non-null   int32   \n",
            " 34  tmax_2m4_1  4380 non-null   float64 \n",
            " 35  tmax_2m5_1  4380 non-null   int32   \n",
            " 36  tmin_2m1_1  4380 non-null   int32   \n",
            " 37  tmin_2m2_1  4380 non-null   int32   \n",
            " 38  tmin_2m3_1  4380 non-null   int32   \n",
            " 39  tmin_2m5_1  4380 non-null   int32   \n",
            " 40  tmp_2m_1_1  4380 non-null   int32   \n",
            " 41  tmp_2m_3_1  4380 non-null   int32   \n",
            " 42  tmp_2m_4_1  4380 non-null   int32   \n",
            " 43  tmp_2m_5_1  4380 non-null   int32   \n",
            " 44  tmp_sfc1_1  4380 non-null   float64 \n",
            " 45  tmp_sfc4_1  4380 non-null   int32   \n",
            " 46  tmp_sfc5_1  4380 non-null   float64 \n",
            " 47  ulwrf_s3_1  4380 non-null   int32   \n",
            " 48  ulwrf_s4_1  4380 non-null   int32   \n",
            " 49  ulwrf_s5_1  4380 non-null   int32   \n",
            " 50  ulwrf_t1_1  4380 non-null   float64 \n",
            " 51  ulwrf_t2_1  4380 non-null   int32   \n",
            " 52  ulwrf_t3_1  4380 non-null   float64 \n",
            " 53  ulwrf_t4_1  4380 non-null   int32   \n",
            " 54  ulwrf_t5_1  4380 non-null   int32   \n",
            " 55  uswrf_s2_1  4380 non-null   int32   \n",
            " 56  uswrf_s4_1  4380 non-null   int32   \n",
            " 57  uswrf_s5_1  4380 non-null   int32   \n",
            " 58  apcp_sf5_1  4380 non-null   float64 \n",
            " 59  dswrf_s1_1  4380 non-null   float64 \n",
            " 60  dswrf_s3_1  4380 non-null   float64 \n",
            " 61  pwat_ea4_1  4380 non-null   float64 \n",
            " 62  pwat_ea5_1  4380 non-null   float64 \n",
            " 63  spfh_2m3_1  4380 non-null   float64 \n",
            " 64  spfh_2m4_1  4380 non-null   float64 \n",
            " 65  tcolc_e2_1  4380 non-null   float64 \n",
            " 66  tmin_2m4_1  4380 non-null   float64 \n",
            " 67  tmp_2m_2_1  4380 non-null   float64 \n",
            " 68  tmp_sfc2_1  4380 non-null   float64 \n",
            " 69  tmp_sfc3_1  4380 non-null   float64 \n",
            " 70  ulwrf_s1_1  4380 non-null   float64 \n",
            " 71  uswrf_s1_1  4380 non-null   float64 \n",
            " 72  uswrf_s3_1  4380 non-null   float64 \n",
            " 73  dswrf_s5_1  4380 non-null   category\n",
            " 74  pwat_ea3_1  4380 non-null   category\n",
            " 75  ulwrf_s2_1  4380 non-null   category\n",
            "dtypes: category(4), float64(35), int32(37)\n",
            "memory usage: 1.8 MB\n",
            "\n",
            "Proporción de datos faltantes es:\n",
            "======================================\n",
            "salida        0.0\n",
            "apcp_sf1_1    0.0\n",
            "apcp_sf2_1    0.0\n",
            "apcp_sf3_1    0.0\n",
            "apcp_sf4_1    0.0\n",
            "             ... \n",
            "uswrf_s1_1    0.0\n",
            "uswrf_s3_1    0.0\n",
            "dswrf_s5_1    0.0\n",
            "pwat_ea3_1    0.0\n",
            "ulwrf_s2_1    0.0\n",
            "Length: 76, dtype: float64\n"
          ]
        }
      ],
      "source": [
        "print('La dimensión de la tabla es:')\n",
        "print('===============================')\n",
        "print(datos.shape)\n",
        "print()\n",
        "\n",
        "# Observamos que hay 4380 filas con 76 columnas\n",
        "\n",
        "print('El tipo de atributos que hay son:')\n",
        "print('================================')\n",
        "datos.info()\n",
        "\n",
        "# Como vemos hay 3 variables categóricas nominales, 39 variables numéricas continuas y 34 variables numéricas enteras(discretas)\n",
        "\n",
        "print()\n",
        "\n",
        "print('Proporción de datos faltantes es:')\n",
        "print('======================================')\n",
        "print(datos.isnull().mean())\n",
        "\n",
        "# No hay datos faltantes"
      ]
    },
    {
      "attachments": {},
      "cell_type": "markdown",
      "metadata": {
        "id": "RMgmwOwHBNB9"
      },
      "source": [
        "Por tanto tenemos :\n",
        "\n",
        "- 4380 filas con 76 columnas.\n",
        "\n",
        "\n",
        "- Hay 3 variables categóricas nominales, 39 variables numéricas continuas y 34 variables numéricas enteras(discretas).\n",
        "\n",
        "\n",
        "- No hay datos faltantes."
      ]
    },
    {
      "cell_type": "markdown",
      "metadata": {
        "id": "R8iO0JaHotj3"
      },
      "source": [
        "## **3.2) Matriz de variables predictoras X y vector variable salida y**"
      ]
    },
    {
      "cell_type": "code",
      "execution_count": 11,
      "metadata": {
        "colab": {
          "base_uri": "https://localhost:8080/"
        },
        "id": "wmQl5wvFjSY5",
        "outputId": "1d744123-e589-4624-fbb0-dbb79cacc149"
      },
      "outputs": [
        {
          "name": "stdout",
          "output_type": "stream",
          "text": [
            "      apcp_sf2_1  apcp_sf3_1  apcp_sf4_1  dlwrf_s1_1  dlwrf_s2_1  dlwrf_s3_1  \\\n",
            "0              1           1    0.000000           2  244.241641           1   \n",
            "1              1           1    0.008182           2  255.824126           2   \n",
            "2              1           1    0.000000           1  211.996022           1   \n",
            "3              1           1    0.000000           2  230.896544           1   \n",
            "4              1           1    0.000000           1  238.927051           1   \n",
            "...          ...         ...         ...         ...         ...         ...   \n",
            "4375           1           1    0.070000           2  270.305969           2   \n",
            "4376           1           1    0.000000           2  246.100211           1   \n",
            "4377           1           1    0.000000           2  266.566642           2   \n",
            "4378           1           1    0.000000           2  268.708427           2   \n",
            "4379           1           1    0.000000           2  266.527091           2   \n",
            "\n",
            "      dlwrf_s4_1  dlwrf_s5_1  dswrf_s2_1  dswrf_s4_1  ...  tmp_sfc5_1  \\\n",
            "0              1  268.377441   30.000000  510.000000  ...  278.500078   \n",
            "1              2  307.929083   30.000000  333.636364  ...  281.005252   \n",
            "2              1  239.840132   30.000000  523.636364  ...  273.615503   \n",
            "3              1  237.804048   30.000000  512.727273  ...  272.191753   \n",
            "4              1  275.572826   30.000000  517.272727  ...  283.121391   \n",
            "...          ...         ...         ...         ...  ...         ...   \n",
            "4375           2  324.461592   33.636364  186.363636  ...  281.665031   \n",
            "4376           2  274.432201   40.000000  500.000000  ...  277.317183   \n",
            "4377           2  287.078660   36.363636  510.000000  ...  285.356728   \n",
            "4378           2  293.169539   39.090909  506.363636  ...  286.937297   \n",
            "4379           2  294.359866   30.000000  482.727273  ...  283.785658   \n",
            "\n",
            "      ulwrf_s3_1  ulwrf_s4_1  ulwrf_s5_1  ulwrf_t1_1  ulwrf_t2_1  ulwrf_t3_1  \\\n",
            "0              2           2           2  222.153166           3  254.760271   \n",
            "1              2           2           2  236.836691           2  233.027276   \n",
            "2              1           1           1  238.655654           2  235.480750   \n",
            "3              1           1           1  236.784869           2  243.398572   \n",
            "4              2           2           2  233.641681           2  239.952805   \n",
            "...          ...         ...         ...         ...         ...         ...   \n",
            "4375           2           2           2  243.266821           2  230.507112   \n",
            "4376           2           2           2  245.682028           2  247.880528   \n",
            "4377           2           2           2  246.493783           2  251.735736   \n",
            "4378           2           2           2  271.864219           3  264.799494   \n",
            "4379           2           2           2  253.525729           2  250.610690   \n",
            "\n",
            "      ulwrf_t4_1  ulwrf_t5_1  uswrf_s2_1  \n",
            "0              3           3           1  \n",
            "1              2           2           1  \n",
            "2              2           2           1  \n",
            "3              2           2           1  \n",
            "4              2           2           1  \n",
            "...          ...         ...         ...  \n",
            "4375           2           2           1  \n",
            "4376           3           3           1  \n",
            "4377           3           3           1  \n",
            "4378           3           3           1  \n",
            "4379           2           2           1  \n",
            "\n",
            "[4380 rows x 54 columns]\n"
          ]
        }
      ],
      "source": [
        "# Vamos a crear una matriz de variables predictoras X y el vector con la variable respuesta y(que contiene la variable salida)\n",
        "# Matriz de predictores X:\n",
        "datos = pd.DataFrame(datos)\n",
        "\n",
        "X=datos.loc[:,\"apcp_sf2_1\":\"uswrf_s2_1\"]\n",
        "print(X)"
      ]
    },
    {
      "cell_type": "code",
      "execution_count": 12,
      "metadata": {
        "colab": {
          "base_uri": "https://localhost:8080/"
        },
        "id": "z8ipnMUhrofv",
        "outputId": "8ac21e27-5934-4838-94ab-5e3bba7544d2"
      },
      "outputs": [
        {
          "name": "stdout",
          "output_type": "stream",
          "text": [
            "<bound method DataFrame.info of       apcp_sf2_1  apcp_sf3_1  apcp_sf4_1  dlwrf_s1_1  dlwrf_s2_1  dlwrf_s3_1  \\\n",
            "0              1           1    0.000000           2  244.241641           1   \n",
            "1              1           1    0.008182           2  255.824126           2   \n",
            "2              1           1    0.000000           1  211.996022           1   \n",
            "3              1           1    0.000000           2  230.896544           1   \n",
            "4              1           1    0.000000           1  238.927051           1   \n",
            "...          ...         ...         ...         ...         ...         ...   \n",
            "4375           1           1    0.070000           2  270.305969           2   \n",
            "4376           1           1    0.000000           2  246.100211           1   \n",
            "4377           1           1    0.000000           2  266.566642           2   \n",
            "4378           1           1    0.000000           2  268.708427           2   \n",
            "4379           1           1    0.000000           2  266.527091           2   \n",
            "\n",
            "      dlwrf_s4_1  dlwrf_s5_1  dswrf_s2_1  dswrf_s4_1  ...  tmp_sfc5_1  \\\n",
            "0              1  268.377441   30.000000  510.000000  ...  278.500078   \n",
            "1              2  307.929083   30.000000  333.636364  ...  281.005252   \n",
            "2              1  239.840132   30.000000  523.636364  ...  273.615503   \n",
            "3              1  237.804048   30.000000  512.727273  ...  272.191753   \n",
            "4              1  275.572826   30.000000  517.272727  ...  283.121391   \n",
            "...          ...         ...         ...         ...  ...         ...   \n",
            "4375           2  324.461592   33.636364  186.363636  ...  281.665031   \n",
            "4376           2  274.432201   40.000000  500.000000  ...  277.317183   \n",
            "4377           2  287.078660   36.363636  510.000000  ...  285.356728   \n",
            "4378           2  293.169539   39.090909  506.363636  ...  286.937297   \n",
            "4379           2  294.359866   30.000000  482.727273  ...  283.785658   \n",
            "\n",
            "      ulwrf_s3_1  ulwrf_s4_1  ulwrf_s5_1  ulwrf_t1_1  ulwrf_t2_1  ulwrf_t3_1  \\\n",
            "0              2           2           2  222.153166           3  254.760271   \n",
            "1              2           2           2  236.836691           2  233.027276   \n",
            "2              1           1           1  238.655654           2  235.480750   \n",
            "3              1           1           1  236.784869           2  243.398572   \n",
            "4              2           2           2  233.641681           2  239.952805   \n",
            "...          ...         ...         ...         ...         ...         ...   \n",
            "4375           2           2           2  243.266821           2  230.507112   \n",
            "4376           2           2           2  245.682028           2  247.880528   \n",
            "4377           2           2           2  246.493783           2  251.735736   \n",
            "4378           2           2           2  271.864219           3  264.799494   \n",
            "4379           2           2           2  253.525729           2  250.610690   \n",
            "\n",
            "      ulwrf_t4_1  ulwrf_t5_1  uswrf_s2_1  \n",
            "0              3           3           1  \n",
            "1              2           2           1  \n",
            "2              2           2           1  \n",
            "3              2           2           1  \n",
            "4              2           2           1  \n",
            "...          ...         ...         ...  \n",
            "4375           2           2           1  \n",
            "4376           3           3           1  \n",
            "4377           3           3           1  \n",
            "4378           3           3           1  \n",
            "4379           2           2           1  \n",
            "\n",
            "[4380 rows x 54 columns]>\n"
          ]
        }
      ],
      "source": [
        "print(X.info)\n",
        "\n",
        "# Como vemos hay 4380 observaciones con 75 columnas(variables independientes)"
      ]
    },
    {
      "cell_type": "code",
      "execution_count": 13,
      "metadata": {
        "colab": {
          "base_uri": "https://localhost:8080/"
        },
        "id": "ssJUdgPcoZV_",
        "outputId": "bc83abc2-3589-435f-8c23-7e301d73ca59"
      },
      "outputs": [
        {
          "name": "stdout",
          "output_type": "stream",
          "text": [
            "          salida\n",
            "0     11930700.0\n",
            "1      9778500.0\n",
            "2      9771900.0\n",
            "3      6466800.0\n",
            "4     11545200.0\n",
            "...          ...\n",
            "4375   8781300.0\n",
            "4376  12099000.0\n",
            "4377  11793900.0\n",
            "4378  11154300.0\n",
            "4379  11121300.0\n",
            "\n",
            "[4380 rows x 1 columns]\n"
          ]
        }
      ],
      "source": [
        "# Vector de variable respuesta y\n",
        "\n",
        "y=datos.iloc[:,[0]]\n",
        "print(y)"
      ]
    },
    {
      "cell_type": "code",
      "execution_count": 14,
      "metadata": {
        "colab": {
          "base_uri": "https://localhost:8080/"
        },
        "id": "1ZLlq7dZr1os",
        "outputId": "77f9cb2a-3302-4a27-fbd9-5d55d4d95607"
      },
      "outputs": [
        {
          "name": "stdout",
          "output_type": "stream",
          "text": [
            "          salida\n",
            "0     11930700.0\n",
            "1      9778500.0\n",
            "2      9771900.0\n",
            "3      6466800.0\n",
            "4     11545200.0\n",
            "...          ...\n",
            "4375   8781300.0\n",
            "4376  12099000.0\n",
            "4377  11793900.0\n",
            "4378  11154300.0\n",
            "4379  11121300.0\n",
            "\n",
            "[4380 rows x 1 columns]\n"
          ]
        }
      ],
      "source": [
        "print(y)\n",
        "\n",
        "# Como vemos solo esta la variable salida"
      ]
    },
    {
      "cell_type": "markdown",
      "metadata": {},
      "source": []
    },
    {
      "cell_type": "markdown",
      "metadata": {
        "id": "M3k34aH4qh0U"
      },
      "source": [
        "## 3.3) **Convertimos las variables categóricas de X a dummy's**"
      ]
    },
    {
      "cell_type": "code",
      "execution_count": 15,
      "metadata": {
        "id": "4WHJXhpiqnLM"
      },
      "outputs": [],
      "source": [
        "# Cargamos las librerías para transformar las variables categóricas a dummy's\n",
        "\n",
        "from sklearn.preprocessing import OneHotEncoder\n",
        "from sklearn.compose import ColumnTransformer\n",
        "from sklearn.compose import make_column_selector as selector"
      ]
    },
    {
      "cell_type": "code",
      "execution_count": 16,
      "metadata": {
        "id": "bsQ2t7CQsfvs"
      },
      "outputs": [],
      "source": [
        "# Definimos las variables categóricas\n",
        "\n",
        "categorical_features = ['spfh_2m5_1','apcp_sf1_1','uswrf_s2_1']\n",
        "\n",
        "# Transformamos las variables categóricas en dummy's\n",
        "\n",
        "preprocessor = ColumnTransformer(\n",
        "    transformers = [ \n",
        "                    ('categorical', OneHotEncoder(handle_unknown='ignore'),  selector(dtype_include=[\"category\"]))\n",
        "                    ],\n",
        "                    remainder='passthrough' \n",
        ")\n",
        "\n",
        "# Ajustamos a la matriz de predictores X\n",
        "\n",
        "preprocessor.fit(X)\n",
        "\n",
        "# Aplicamos el preproceso\n",
        "X = preprocessor.transform(X)"
      ]
    },
    {
      "cell_type": "code",
      "execution_count": 17,
      "metadata": {
        "colab": {
          "base_uri": "https://localhost:8080/"
        },
        "id": "Re8Le60Bt62L",
        "outputId": "d3ea010e-a233-43c9-f5f6-3c13c1d5876f"
      },
      "outputs": [
        {
          "name": "stdout",
          "output_type": "stream",
          "text": [
            "(4380, 54)\n"
          ]
        }
      ],
      "source": [
        "# Comprobamos que se han cambiado\n",
        "\n",
        "print(X.shape)\n",
        "\n",
        "# Como vemos ahora hay 81 columnas, ya que se han añadido variables dummys para cada variable categórica"
      ]
    },
    {
      "cell_type": "markdown",
      "metadata": {},
      "source": []
    },
    {
      "cell_type": "markdown",
      "metadata": {
        "id": "efB8BMyEubW9"
      },
      "source": [
        "## **3.4) Modelo árboles: Decision trees**"
      ]
    },
    {
      "cell_type": "code",
      "execution_count": 18,
      "metadata": {
        "colab": {
          "base_uri": "https://localhost:8080/"
        },
        "id": "xBDdjkT0ulp5",
        "outputId": "db8acb0a-3920-4854-bcf6-e53173bf54aa"
      },
      "outputs": [
        {
          "name": "stdout",
          "output_type": "stream",
          "text": [
            "(2136, 54)\n"
          ]
        }
      ],
      "source": [
        "# Dividimos en entrenamiento y test(para validar)\n",
        "\n",
        "# Para entrenar el modelo seleccionamos los primeros 6 años\n",
        "X_train_tree = X[0:(6*356),:]\n",
        "print(X_train_tree.shape)"
      ]
    },
    {
      "cell_type": "code",
      "execution_count": 19,
      "metadata": {
        "colab": {
          "base_uri": "https://localhost:8080/"
        },
        "id": "unySmEeFu7Br",
        "outputId": "65152d5b-a8da-49e7-d174-67ccfb69bb53"
      },
      "outputs": [
        {
          "name": "stdout",
          "output_type": "stream",
          "text": [
            "(1067, 54)\n"
          ]
        }
      ],
      "source": [
        "# Validación\n",
        "# Para validar seleccionamos los 3 años del año 6 al año 9\n",
        "\n",
        "X_validation_tree=X[(6*356+1):(9*356),:]\n",
        "print(X_validation_tree.shape)"
      ]
    },
    {
      "cell_type": "code",
      "execution_count": 20,
      "metadata": {
        "colab": {
          "base_uri": "https://localhost:8080/"
        },
        "id": "34UVI92wvRv8",
        "outputId": "4ce35d5a-1239-4cc4-d929-c67433ed3608"
      },
      "outputs": [
        {
          "name": "stdout",
          "output_type": "stream",
          "text": [
            "          salida\n",
            "0     11930700.0\n",
            "1      9778500.0\n",
            "2      9771900.0\n",
            "3      6466800.0\n",
            "4     11545200.0\n",
            "...          ...\n",
            "2131  17169300.0\n",
            "2132  16436700.0\n",
            "2133  15861300.0\n",
            "2134  14513700.0\n",
            "2135  12300600.0\n",
            "\n",
            "[2136 rows x 1 columns]\n"
          ]
        }
      ],
      "source": [
        "# Ahora con la variable salida y\n",
        "# Entrenamiento con 6 años\n",
        "\n",
        "y_train_tree = y[0:(6*356)]\n",
        "print(y_train_tree)"
      ]
    },
    {
      "cell_type": "code",
      "execution_count": 21,
      "metadata": {
        "colab": {
          "base_uri": "https://localhost:8080/"
        },
        "id": "sh13OWM8viuN",
        "outputId": "154c436b-ba0a-46de-e5a2-1ade927a82d6"
      },
      "outputs": [
        {
          "name": "stdout",
          "output_type": "stream",
          "text": [
            "          salida\n",
            "2137  10599600.0\n",
            "2138  14204700.0\n",
            "2139  14214000.0\n",
            "2140  13899900.0\n",
            "2141  13845000.0\n",
            "2142  13891800.0\n",
            "2143  13743900.0\n",
            "2144  13846200.0\n",
            "2145  13708800.0\n",
            "2146  13370100.0\n"
          ]
        }
      ],
      "source": [
        "# Ahora establecemos el conjunto de validación\n",
        "# Validación con 3 años del año 6 al 9\n",
        "# Conjunto de test\n",
        "\n",
        "y_validation_tree=y[(6*356+1):(9*356)]\n",
        "\n",
        "# Miramos los 10 primeros valores del conjunto de test\n",
        "print(y_validation_tree.head(10))"
      ]
    },
    {
      "cell_type": "code",
      "execution_count": 22,
      "metadata": {
        "id": "yLOMVPv6vyar"
      },
      "outputs": [],
      "source": [
        "# Cargamos las librerías\n",
        "\n",
        "from sklearn.metrics import mean_absolute_error as mae\n",
        "from sklearn import tree"
      ]
    },
    {
      "cell_type": "code",
      "execution_count": 23,
      "metadata": {
        "colab": {
          "base_uri": "https://localhost:8080/"
        },
        "id": "Wvv1gDpPv11N",
        "outputId": "4d0779a4-9191-4de0-e1ad-350148dd0227"
      },
      "outputs": [
        {
          "data": {
            "text/plain": [
              "DecisionTreeRegressor()"
            ]
          },
          "execution_count": 23,
          "metadata": {},
          "output_type": "execute_result"
        }
      ],
      "source": [
        "# Establecemos el modelo de regresión de árboles\n",
        "\n",
        "tree_regr = tree.DecisionTreeRegressor()\n",
        "\n",
        "# Establecemos la semilla para RNG \n",
        "\n",
        "np.random.seed(100407632)\n",
        "\n",
        "# Entrenamos el modelo\n",
        "tree_regr.fit(X_train_tree, y_train_tree)"
      ]
    },
    {
      "cell_type": "code",
      "execution_count": 24,
      "metadata": {
        "colab": {
          "base_uri": "https://localhost:8080/"
        },
        "id": "mpuu5aRDwjhE",
        "outputId": "14dd22c1-2ea6-4b61-8814-2feb1ae92a45"
      },
      "outputs": [
        {
          "name": "stdout",
          "output_type": "stream",
          "text": [
            "[13345200. 13345200.  9414300. 10233300. 10233300. 10233300. 14148600.\n",
            " 11693100. 13249200. 12700500.]\n"
          ]
        }
      ],
      "source": [
        "# Predicción del conjunto de test/validar\n",
        "\n",
        "y_validation_tree_pred = tree_regr.predict(X_validation_tree)\n",
        "\n",
        "# Miramos las 10 primeras predicciones\n",
        "print(y_validation_tree_pred[0:10])"
      ]
    },
    {
      "cell_type": "code",
      "execution_count": 25,
      "metadata": {
        "colab": {
          "base_uri": "https://localhost:8080/"
        },
        "id": "HxwKUrqxxNc3",
        "outputId": "5599d3a5-748b-4039-a655-b86a62c32ff1"
      },
      "outputs": [
        {
          "name": "stdout",
          "output_type": "stream",
          "text": [
            "El MAE de regresión del modelo árbol es: 3266939.550140581\n"
          ]
        }
      ],
      "source": [
        "# Calculamos el error\n",
        "# En este caso como es un problema de regresión usamos el MAE(es la diferencia entre el valor real y el predicho elevado al cuadrado).\n",
        "\n",
        "mae_validation_tree = mae(y_validation_tree, y_validation_tree_pred)\n",
        "print(f\"El MAE de regresión del modelo árbol es: {mae_validation_tree}\")"
      ]
    },
    {
      "attachments": {},
      "cell_type": "markdown",
      "metadata": {
        "id": "P3gwQl7tDwI_"
      },
      "source": [
        "En este caso el MAE de regresión del modelo de árbol/tree es 3266939.55. La métrica MAE se mide en las mismas unidades que la variable respuesta que en este caso es la radiación solar. Algunos valores de la respuesta toma valores grandes. Por tanto de momento no es un indicador muy bueno del rendimiento del modelo."
      ]
    },
    {
      "cell_type": "markdown",
      "metadata": {},
      "source": []
    },
    {
      "cell_type": "markdown",
      "metadata": {
        "id": "8cSbmuH0zkTC"
      },
      "source": [
        "## **3.5) Modelo KNN**"
      ]
    },
    {
      "cell_type": "code",
      "execution_count": 26,
      "metadata": {
        "id": "thl3Uksmzkm_"
      },
      "outputs": [],
      "source": [
        "# Cargamos las librerías\n",
        "\n",
        "# KNN\n",
        "from sklearn import neighbors\n",
        "\n",
        "# Para escalar \n",
        "from sklearn.preprocessing import StandardScaler\n",
        "\n",
        "# Secuencia\n",
        "from sklearn.pipeline import Pipeline"
      ]
    },
    {
      "cell_type": "code",
      "execution_count": 27,
      "metadata": {
        "colab": {
          "base_uri": "https://localhost:8080/"
        },
        "id": "CAEiMfWlz_qi",
        "outputId": "8b169339-b6b2-4c06-e6f1-38f9276873e9"
      },
      "outputs": [
        {
          "name": "stdout",
          "output_type": "stream",
          "text": [
            "[[1.         1.         0.         ... 3.         3.         1.        ]\n",
            " [1.         1.         0.00818182 ... 2.         2.         1.        ]\n",
            " [1.         1.         0.         ... 2.         2.         1.        ]\n",
            " ...\n",
            " [1.         1.         0.         ... 3.         3.         1.        ]\n",
            " [1.         1.         0.         ... 3.         3.         1.        ]\n",
            " [1.         1.         0.00363636 ... 3.         3.         1.        ]]\n"
          ]
        }
      ],
      "source": [
        "# Dividimos en entrenamiento y test(para validar)\n",
        "\n",
        "# En entrenamiento metemos los 6 primeros años\n",
        "X_train_knn = X[0:(6*356),:]\n",
        "print(X_train_knn)"
      ]
    },
    {
      "cell_type": "code",
      "execution_count": 28,
      "metadata": {
        "colab": {
          "base_uri": "https://localhost:8080/"
        },
        "id": "JYBUmdy40Z1a",
        "outputId": "e924d5db-0a6c-4941-e54c-298daa4a2a1f"
      },
      "outputs": [
        {
          "name": "stdout",
          "output_type": "stream",
          "text": [
            "[[ 1.          1.          0.         ...  3.          3.\n",
            "   1.        ]\n",
            " [ 1.          1.          0.         ...  3.          3.\n",
            "   1.        ]\n",
            " [ 1.          1.          0.         ...  3.          3.\n",
            "   1.        ]\n",
            " ...\n",
            " [ 1.          1.          0.         ...  2.          2.\n",
            "   2.        ]\n",
            " [ 1.          1.         20.47181797 ...  1.          1.\n",
            "   1.        ]\n",
            " [ 1.          1.          0.36       ...  2.          3.\n",
            "   1.        ]]\n"
          ]
        }
      ],
      "source": [
        "# Validación\n",
        "# Metemos el conjunto de validación desde el año 6 al 9 para validar\n",
        "# Conjunto de test\n",
        "\n",
        "X_validation_knn=X[(6*356+1):(9*356),:]\n",
        "print(X_validation_knn)"
      ]
    },
    {
      "cell_type": "code",
      "execution_count": 29,
      "metadata": {
        "colab": {
          "base_uri": "https://localhost:8080/"
        },
        "id": "0msvLLzW0ezg",
        "outputId": "97253215-b1d9-4e8f-91e1-e652fe8b4094"
      },
      "outputs": [
        {
          "name": "stdout",
          "output_type": "stream",
          "text": [
            "          salida\n",
            "0     11930700.0\n",
            "1      9778500.0\n",
            "2      9771900.0\n",
            "3      6466800.0\n",
            "4     11545200.0\n",
            "...          ...\n",
            "2131  17169300.0\n",
            "2132  16436700.0\n",
            "2133  15861300.0\n",
            "2134  14513700.0\n",
            "2135  12300600.0\n",
            "\n",
            "[2136 rows x 1 columns]\n"
          ]
        }
      ],
      "source": [
        "# Ahora con la variable salida y\n",
        "# Entrenamiento\n",
        "\n",
        "y_train_knn = y[0:(6*356)]\n",
        "print(y_train_knn)"
      ]
    },
    {
      "cell_type": "code",
      "execution_count": 30,
      "metadata": {
        "colab": {
          "base_uri": "https://localhost:8080/"
        },
        "id": "8mq3m85-0hpx",
        "outputId": "a6e20192-5de5-488b-b4a0-675f2266e48e"
      },
      "outputs": [
        {
          "name": "stdout",
          "output_type": "stream",
          "text": [
            "          salida\n",
            "2137  10599600.0\n",
            "2138  14204700.0\n",
            "2139  14214000.0\n",
            "2140  13899900.0\n",
            "2141  13845000.0\n",
            "2142  13891800.0\n",
            "2143  13743900.0\n",
            "2144  13846200.0\n",
            "2145  13708800.0\n",
            "2146  13370100.0\n"
          ]
        }
      ],
      "source": [
        "# Ahora establecemos el conjunto de validación\n",
        "\n",
        "y_validation_knn=y[(6*356+1):(9*356)]\n",
        "\n",
        "# Miramos el valor de las primeras 10 observaciones del conjunto de test\n",
        "print(y_validation_knn.head(10))"
      ]
    },
    {
      "cell_type": "code",
      "execution_count": 31,
      "metadata": {
        "id": "1Mt6OZx_0qCj"
      },
      "outputs": [],
      "source": [
        "# Creamos el modelo\n",
        "# K=5 vecinos\n",
        "\n",
        "K=5\n",
        "\n",
        "knn= neighbors.KNeighborsRegressor(n_neighbors=K)\n",
        "\n",
        "# Para escalar\n",
        "scaling = StandardScaler()\n",
        "\n",
        "# Definimos la secuencia para escalar\n",
        "regr = Pipeline([('scaler', scaling), \n",
        "                ('knn', knn)])"
      ]
    },
    {
      "cell_type": "code",
      "execution_count": 32,
      "metadata": {
        "id": "vYYH0s1c1r_R"
      },
      "outputs": [],
      "source": [
        "# Semilla\n",
        "\n",
        "np.random.seed(100407632) "
      ]
    },
    {
      "cell_type": "code",
      "execution_count": 33,
      "metadata": {
        "colab": {
          "base_uri": "https://localhost:8080/"
        },
        "id": "STXXU9Rj1x2n",
        "outputId": "398ac807-cf00-40f5-b395-562de146f755"
      },
      "outputs": [
        {
          "data": {
            "text/plain": [
              "KNeighborsRegressor()"
            ]
          },
          "execution_count": 33,
          "metadata": {},
          "output_type": "execute_result"
        }
      ],
      "source": [
        "# Entrenamos\n",
        "\n",
        "knn.fit(X_train_knn, y_train_knn)"
      ]
    },
    {
      "cell_type": "code",
      "execution_count": 34,
      "metadata": {
        "colab": {
          "base_uri": "https://localhost:8080/"
        },
        "id": "CXZS-Inl11G5",
        "outputId": "1dcfa9df-4ab0-4a53-e37e-a9fb83110cfb"
      },
      "outputs": [
        {
          "name": "stdout",
          "output_type": "stream",
          "text": [
            "[[12232980.]\n",
            " [ 9403800.]\n",
            " [ 7719780.]\n",
            " [12433020.]\n",
            " [12137640.]\n",
            " [13346460.]\n",
            " [ 9307560.]\n",
            " [12176940.]\n",
            " [12105540.]\n",
            " [13202760.]]\n"
          ]
        }
      ],
      "source": [
        "# Predicciones\n",
        "\n",
        "y_validation_knn_pred = knn.predict(X_validation_knn)\n",
        "\n",
        "# Miramos las 10 primeras predicciones\n",
        "print(y_validation_knn_pred[0:10])"
      ]
    },
    {
      "cell_type": "code",
      "execution_count": 35,
      "metadata": {
        "colab": {
          "base_uri": "https://localhost:8080/"
        },
        "id": "baCKCBx817yD",
        "outputId": "019206c9-7185-4e7f-e26e-fa5350cd57ec"
      },
      "outputs": [
        {
          "name": "stdout",
          "output_type": "stream",
          "text": [
            "El MAE de regresión del modelo KNN es: 2792825.0046860357\n"
          ]
        }
      ],
      "source": [
        "# MAE\n",
        "\n",
        "mae_validation_knn = mae(y_validation_knn, y_validation_knn_pred)\n",
        "print(f\"El MAE de regresión del modelo KNN es: {mae_validation_knn}\")"
      ]
    },
    {
      "attachments": {},
      "cell_type": "markdown",
      "metadata": {
        "id": "qrpuqNktEND0"
      },
      "source": [
        "En el caso del modelo KNN el MAE es de 2792825.005. Como antes no es un indicador muy bueno."
      ]
    },
    {
      "cell_type": "markdown",
      "metadata": {},
      "source": []
    },
    {
      "cell_type": "markdown",
      "metadata": {
        "id": "Fk4ZSpBk2Pr_"
      },
      "source": [
        "## **3.6.1) RAE para Modelo Tree**"
      ]
    },
    {
      "cell_type": "code",
      "execution_count": 36,
      "metadata": {
        "id": "ugkhsIKn2YmA"
      },
      "outputs": [
        {
          "name": "stderr",
          "output_type": "stream",
          "text": [
            "c:\\Users\\Usuario\\AppData\\Local\\Programs\\Python\\Python310\\lib\\site-packages\\numpy\\core\\fromnumeric.py:3430: FutureWarning: In a future version, DataFrame.mean(axis=None) will return a scalar mean over the entire DataFrame. To retain the old behavior, use 'frame.mean(axis=0)' or just 'frame.mean()'\n",
            "  return mean(axis=axis, dtype=dtype, out=out, **kwargs)\n"
          ]
        }
      ],
      "source": [
        "# Calculamos el RAE\n",
        "# Definimos el mae para un modelo trivial\n",
        "\n",
        "mae_validation_dummy_tree = np.mean(np.abs(y_validation_tree-y_train_tree.mean()))\n",
        "\n",
        "# Calculamos el RAE para el modelo de árboles\n",
        "\n",
        "rae_validation_tree = mae_validation_tree / mae_validation_dummy_tree"
      ]
    },
    {
      "cell_type": "code",
      "execution_count": 37,
      "metadata": {
        "colab": {
          "base_uri": "https://localhost:8080/"
        },
        "id": "xToSb9uj4EIF",
        "outputId": "8ba513e7-3d22-48aa-e365-6d0ff4972ef5"
      },
      "outputs": [
        {
          "name": "stdout",
          "output_type": "stream",
          "text": [
            "El RAE de regresión del modelo tree es: salida    0.475429\n",
            "dtype: float64\n"
          ]
        }
      ],
      "source": [
        "# RAE para el modelo Tree\n",
        "\n",
        "print(f\"El RAE de regresión del modelo tree es: {rae_validation_tree}\")"
      ]
    },
    {
      "attachments": {},
      "cell_type": "markdown",
      "metadata": {
        "id": "TUQGd-AGC0-P"
      },
      "source": [
        "En este caso obtenemos un RAE 0.475. Por tanto indica que lo hace mejor que un modelo trivial/dummy ya que si fuera cercano a 1 indicaría que no hay diferencia entre este modelo(que es más complejo) y uno muy básico. Si fuera más cercano a 0 indicaría que es un modelo perfecto ya que acierta en todas las predicciones. Y si es mayor que 1 indica que tiene un rendimiento peor que un modelo trivial lo que sería un modelo muy malo."
      ]
    },
    {
      "cell_type": "markdown",
      "metadata": {},
      "source": []
    },
    {
      "cell_type": "markdown",
      "metadata": {
        "id": "lruLjUF84T6w"
      },
      "source": [
        "## **3.6.2) RAE para Modelo KNN**"
      ]
    },
    {
      "cell_type": "code",
      "execution_count": 38,
      "metadata": {
        "id": "yHEodo1X4WWz"
      },
      "outputs": [],
      "source": [
        "# Calculamos el RAE\n",
        "# Definimos el mae para modelo trivial\n",
        "\n",
        "mae_validation_dummy_knn = np.mean(np.abs(y_validation_knn-y_train_knn.mean()))\n",
        "\n",
        "# Calculamos el RAE\n",
        "\n",
        "rae_validation_knn = mae_validation_knn / mae_validation_dummy_knn"
      ]
    },
    {
      "cell_type": "code",
      "execution_count": 39,
      "metadata": {
        "colab": {
          "base_uri": "https://localhost:8080/"
        },
        "id": "4UPtw7Dm4iCq",
        "outputId": "723322d7-91fe-4f2d-f231-e915f58a7702"
      },
      "outputs": [
        {
          "name": "stdout",
          "output_type": "stream",
          "text": [
            "El RAE de regresión del modelo KNN es: salida    0.406433\n",
            "dtype: float64\n"
          ]
        }
      ],
      "source": [
        "# RAE para el modelo KNN\n",
        "\n",
        "print(f\"El RAE de regresión del modelo KNN es: {rae_validation_knn}\")"
      ]
    },
    {
      "attachments": {},
      "cell_type": "markdown",
      "metadata": {
        "id": "5ZK5fF1mDQQq"
      },
      "source": [
        "En cuanto al modelo KNN tiene un RAE 0.406. Esto indica que lo hace mejor al predecir que un modelo trivial y que el modelo tree."
      ]
    },
    {
      "cell_type": "markdown",
      "metadata": {},
      "source": []
    },
    {
      "cell_type": "markdown",
      "metadata": {
        "id": "wBvLiCo85GNS"
      },
      "source": [
        "## **3.7) Comparación RAE con modelos de MLR3 vs Scikit-learn**"
      ]
    },
    {
      "cell_type": "code",
      "execution_count": 41,
      "metadata": {
        "colab": {
          "base_uri": "https://localhost:8080/"
        },
        "id": "gwLvfuzR5G_E",
        "outputId": "b30d2e1d-cbff-4316-9614-43cd027c329b"
      },
      "outputs": [
        {
          "name": "stdout",
          "output_type": "stream",
          "text": [
            "╒════════════╤════════════════════╕\n",
            "│ RAE:MLR3   │ RAE:SCIKIT-LEARN   │\n",
            "╞════════════╪════════════════════╡\n",
            "│ KNN=0.40   │ KNN=0.406          │\n",
            "├────────────┼────────────────────┤\n",
            "│ TREE=0.43  │ TREE=0.475         │\n",
            "╘════════════╧════════════════════╛\n"
          ]
        }
      ],
      "source": [
        "# Vamos a hacer una tabla donde comparemos los RAE de los modelos tree y knn de R con MLR3 y Python con Scikit-learn\n",
        "# Importamos la librería\n",
        "from tabulate import tabulate as tab\n",
        "\n",
        "# Creamos la tabla\n",
        "tabla=[ ['RAE:MLR3','RAE:SCIKIT-LEARN'],['KNN=0.40','KNN=0.406'],['TREE=0.43','TREE=0.475']                        \n",
        "]\n",
        "\n",
        "# Imprimir la tabla\n",
        "print(tab(tabla, headers='firstrow',tablefmt='fancy_grid'))"
      ]
    },
    {
      "cell_type": "code",
      "execution_count": null,
      "metadata": {
        "colab": {
          "base_uri": "https://localhost:8080/"
        },
        "id": "1wXIiTAK4Lja",
        "outputId": "4aa4b7cf-959c-4405-bc22-c6391f001a7a"
      },
      "outputs": [
        {
          "name": "stdout",
          "output_type": "stream",
          "text": [
            "{'algorithm': 'auto', 'leaf_size': 30, 'metric': 'minkowski', 'metric_params': None, 'n_jobs': None, 'n_neighbors': 5, 'p': 2, 'weights': 'uniform'}\n"
          ]
        }
      ],
      "source": [
        "# Vemos los hiperparámetros del modelo KNN\n",
        "\n",
        "print(knn.get_params())"
      ]
    },
    {
      "cell_type": "code",
      "execution_count": null,
      "metadata": {
        "colab": {
          "base_uri": "https://localhost:8080/"
        },
        "id": "coE1iGYI6F2m",
        "outputId": "0a7a8cf1-0460-4bcd-bc05-ab319ab4da14"
      },
      "outputs": [
        {
          "name": "stdout",
          "output_type": "stream",
          "text": [
            "{'ccp_alpha': 0.0, 'criterion': 'squared_error', 'max_depth': None, 'max_features': None, 'max_leaf_nodes': None, 'min_impurity_decrease': 0.0, 'min_samples_leaf': 1, 'min_samples_split': 2, 'min_weight_fraction_leaf': 0.0, 'random_state': None, 'splitter': 'best'}\n"
          ]
        }
      ],
      "source": [
        "# Vemos los hiperparámetros del modelo Tree\n",
        "\n",
        "print(tree_regr.get_params())"
      ]
    },
    {
      "cell_type": "code",
      "execution_count": null,
      "metadata": {
        "colab": {
          "base_uri": "https://localhost:8080/"
        },
        "id": "Dy4TGPMe7p6u",
        "outputId": "f6b860b4-15f3-4981-970a-8a797a52b52f"
      },
      "outputs": [
        {
          "name": "stdout",
          "output_type": "stream",
          "text": [
            "╒═══════════════╤═══════════════════════╕\n",
            "│ HP:KNN:MLR3   │ HP:KNN:SCIKIT-LEARN   │\n",
            "╞═══════════════╪═══════════════════════╡\n",
            "│ K=7           │ K=5                   │\n",
            "╘═══════════════╧═══════════════════════╛\n"
          ]
        }
      ],
      "source": [
        "# Creamos la tabla de los hiperparámetros por defecto del modelo KNN\n",
        "tabla_knn_hp=[['HP:KNN:MLR3','HP:KNN:SCIKIT-LEARN'],['K=7','K=5']                        \n",
        "]\n",
        "\n",
        "# Imprimir la tabla\n",
        "print(tab(tabla_knn_hp, headers='firstrow',tablefmt='fancy_grid'))"
      ]
    },
    {
      "cell_type": "code",
      "execution_count": null,
      "metadata": {
        "colab": {
          "base_uri": "https://localhost:8080/"
        },
        "id": "c6BVzeRa77MC",
        "outputId": "7913ebbb-fbe3-42d3-c923-4052ca3553f2"
      },
      "outputs": [
        {
          "name": "stdout",
          "output_type": "stream",
          "text": [
            "╒════════════════╤════════════════════════╕\n",
            "│ HP:TREE:MLR3   │ HP:TREE:SCIKIT-LEARN   │\n",
            "╞════════════════╪════════════════════════╡\n",
            "│ min_split=20   │ min_split=2            │\n",
            "├────────────────┼────────────────────────┤\n",
            "│ max_depth=30   │ max_depth=NONE         │\n",
            "╘════════════════╧════════════════════════╛\n"
          ]
        }
      ],
      "source": [
        "# Creamos la tabla de los hiperparámetros por defecto del modelo Tree/Rpart\n",
        "tabla_tree_hp=[['HP:TREE:MLR3','HP:TREE:SCIKIT-LEARN'],['min_split=20','min_split=2'],['max_depth=30','max_depth=NONE']                        \n",
        "]\n",
        "\n",
        "# Imprimir la tabla\n",
        "print(tab(tabla_tree_hp, headers='firstrow',tablefmt='fancy_grid'))"
      ]
    },
    {
      "attachments": {},
      "cell_type": "markdown",
      "metadata": {
        "id": "5TO0Z_nb2seO"
      },
      "source": [
        "- Como se aprecia en la tabla los modelos hechos en Python con la librería scikit-learn obtenemos un RAE mayor en comparación con los modelos hechos en Rstudio con MLR3. \n",
        "\n",
        "- A pesar de que los datos son algo diferentes y de que se han hecho con los hiper-parámetros por omisión que también son desiguales(en KNN vemos que en MLR3 el hiperparámetro k/número de vecinos por defecto es 7 mientras que en scikit-learn es 5 y en el modelo tree en MLR3 min_split es 20 y max_depth=30 mientras que en scikit-learn min_split es 2 y max_depth no tiene valor por defecto y por tanto se crea el árbol entero). \n",
        "\n",
        "- En el modelo KNN en Python no se puede dejar el parámetro k/número de vecinos por defecto ya que hay que introducirlo manualmente y en este caso hemos escogido 5.\n",
        "\n",
        "- El RAE del modelo de árbol/tree en Python no es muy diferente al calculado en R solo es mayor con 0.3 unidades. En cambio en el modelo KNN si que se observa un RAE mayor.\n",
        "\n",
        "-  En MLR3 se ha usado un preproceso diferente, por ejemplo a la hora de imputar los datos faltantes se ha usado para knn el método de la mediana y la moda mientras que para el modelo rpart/tree se ha usado el imputador multivariante(rpart) y la moda. También se usaban las variables ordinales mientras que aquí las hemos convertidos a enteros. Los valores faltantes en scikit-learn se han imputado con la media y la moda.\n",
        "\n",
        "- Por tanto vemos que hay diferencias entre los métodos utilizados y la comparación no es del todo realista."
      ]
    }
  ],
  "metadata": {
    "colab": {
      "collapsed_sections": [],
      "name": "Practica 2",
      "provenance": []
    },
    "kernelspec": {
      "display_name": "Python 3.10.0 64-bit",
      "language": "python",
      "name": "python3"
    },
    "language_info": {
      "codemirror_mode": {
        "name": "ipython",
        "version": 3
      },
      "file_extension": ".py",
      "mimetype": "text/x-python",
      "name": "python",
      "nbconvert_exporter": "python",
      "pygments_lexer": "ipython3",
      "version": "3.10.0"
    },
    "vscode": {
      "interpreter": {
        "hash": "c63d8c7d738c2960218a10995aedf0a7f67a49a231e71037adf0440953cdb45b"
      }
    }
  },
  "nbformat": 4,
  "nbformat_minor": 0
}
