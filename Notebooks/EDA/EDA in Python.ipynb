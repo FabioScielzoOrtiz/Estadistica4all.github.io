{
 "cells": [
  {
   "cell_type": "code",
   "execution_count": 144,
   "metadata": {},
   "outputs": [],
   "source": [
    "import pandas as pd"
   ]
  },
  {
   "cell_type": "code",
   "execution_count": 145,
   "metadata": {},
   "outputs": [],
   "source": [
    "Netflix_Data = pd.read_csv('titles.csv')"
   ]
  },
  {
   "cell_type": "code",
   "execution_count": 146,
   "metadata": {},
   "outputs": [
    {
     "data": {
      "text/html": [
       "<div>\n",
       "<style scoped>\n",
       "    .dataframe tbody tr th:only-of-type {\n",
       "        vertical-align: middle;\n",
       "    }\n",
       "\n",
       "    .dataframe tbody tr th {\n",
       "        vertical-align: top;\n",
       "    }\n",
       "\n",
       "    .dataframe thead th {\n",
       "        text-align: right;\n",
       "    }\n",
       "</style>\n",
       "<table border=\"1\" class=\"dataframe\">\n",
       "  <thead>\n",
       "    <tr style=\"text-align: right;\">\n",
       "      <th></th>\n",
       "      <th>id</th>\n",
       "      <th>title</th>\n",
       "      <th>type</th>\n",
       "      <th>description</th>\n",
       "      <th>release_year</th>\n",
       "      <th>age_certification</th>\n",
       "      <th>runtime</th>\n",
       "      <th>genres</th>\n",
       "      <th>production_countries</th>\n",
       "      <th>seasons</th>\n",
       "      <th>imdb_id</th>\n",
       "      <th>imdb_score</th>\n",
       "      <th>imdb_votes</th>\n",
       "      <th>tmdb_popularity</th>\n",
       "      <th>tmdb_score</th>\n",
       "    </tr>\n",
       "  </thead>\n",
       "  <tbody>\n",
       "    <tr>\n",
       "      <th>0</th>\n",
       "      <td>ts300399</td>\n",
       "      <td>Five Came Back: The Reference Films</td>\n",
       "      <td>SHOW</td>\n",
       "      <td>This collection includes 12 World War II-era p...</td>\n",
       "      <td>1945</td>\n",
       "      <td>TV-MA</td>\n",
       "      <td>51</td>\n",
       "      <td>['documentation']</td>\n",
       "      <td>['US']</td>\n",
       "      <td>1.0</td>\n",
       "      <td>NaN</td>\n",
       "      <td>NaN</td>\n",
       "      <td>NaN</td>\n",
       "      <td>0.600</td>\n",
       "      <td>NaN</td>\n",
       "    </tr>\n",
       "    <tr>\n",
       "      <th>1</th>\n",
       "      <td>tm84618</td>\n",
       "      <td>Taxi Driver</td>\n",
       "      <td>MOVIE</td>\n",
       "      <td>A mentally unstable Vietnam War veteran works ...</td>\n",
       "      <td>1976</td>\n",
       "      <td>R</td>\n",
       "      <td>114</td>\n",
       "      <td>['drama', 'crime']</td>\n",
       "      <td>['US']</td>\n",
       "      <td>NaN</td>\n",
       "      <td>tt0075314</td>\n",
       "      <td>8.2</td>\n",
       "      <td>808582.0</td>\n",
       "      <td>40.965</td>\n",
       "      <td>8.179</td>\n",
       "    </tr>\n",
       "    <tr>\n",
       "      <th>2</th>\n",
       "      <td>tm154986</td>\n",
       "      <td>Deliverance</td>\n",
       "      <td>MOVIE</td>\n",
       "      <td>Intent on seeing the Cahulawassee River before...</td>\n",
       "      <td>1972</td>\n",
       "      <td>R</td>\n",
       "      <td>109</td>\n",
       "      <td>['drama', 'action', 'thriller', 'european']</td>\n",
       "      <td>['US']</td>\n",
       "      <td>NaN</td>\n",
       "      <td>tt0068473</td>\n",
       "      <td>7.7</td>\n",
       "      <td>107673.0</td>\n",
       "      <td>10.010</td>\n",
       "      <td>7.300</td>\n",
       "    </tr>\n",
       "    <tr>\n",
       "      <th>3</th>\n",
       "      <td>tm127384</td>\n",
       "      <td>Monty Python and the Holy Grail</td>\n",
       "      <td>MOVIE</td>\n",
       "      <td>King Arthur, accompanied by his squire, recrui...</td>\n",
       "      <td>1975</td>\n",
       "      <td>PG</td>\n",
       "      <td>91</td>\n",
       "      <td>['fantasy', 'action', 'comedy']</td>\n",
       "      <td>['GB']</td>\n",
       "      <td>NaN</td>\n",
       "      <td>tt0071853</td>\n",
       "      <td>8.2</td>\n",
       "      <td>534486.0</td>\n",
       "      <td>15.461</td>\n",
       "      <td>7.811</td>\n",
       "    </tr>\n",
       "    <tr>\n",
       "      <th>4</th>\n",
       "      <td>tm120801</td>\n",
       "      <td>The Dirty Dozen</td>\n",
       "      <td>MOVIE</td>\n",
       "      <td>12 American military prisoners in World War II...</td>\n",
       "      <td>1967</td>\n",
       "      <td>NaN</td>\n",
       "      <td>150</td>\n",
       "      <td>['war', 'action']</td>\n",
       "      <td>['GB', 'US']</td>\n",
       "      <td>NaN</td>\n",
       "      <td>tt0061578</td>\n",
       "      <td>7.7</td>\n",
       "      <td>72662.0</td>\n",
       "      <td>20.398</td>\n",
       "      <td>7.600</td>\n",
       "    </tr>\n",
       "  </tbody>\n",
       "</table>\n",
       "</div>"
      ],
      "text/plain": [
       "         id                                title   type  \\\n",
       "0  ts300399  Five Came Back: The Reference Films   SHOW   \n",
       "1   tm84618                          Taxi Driver  MOVIE   \n",
       "2  tm154986                          Deliverance  MOVIE   \n",
       "3  tm127384      Monty Python and the Holy Grail  MOVIE   \n",
       "4  tm120801                      The Dirty Dozen  MOVIE   \n",
       "\n",
       "                                         description  release_year  \\\n",
       "0  This collection includes 12 World War II-era p...          1945   \n",
       "1  A mentally unstable Vietnam War veteran works ...          1976   \n",
       "2  Intent on seeing the Cahulawassee River before...          1972   \n",
       "3  King Arthur, accompanied by his squire, recrui...          1975   \n",
       "4  12 American military prisoners in World War II...          1967   \n",
       "\n",
       "  age_certification  runtime                                       genres  \\\n",
       "0             TV-MA       51                            ['documentation']   \n",
       "1                 R      114                           ['drama', 'crime']   \n",
       "2                 R      109  ['drama', 'action', 'thriller', 'european']   \n",
       "3                PG       91              ['fantasy', 'action', 'comedy']   \n",
       "4               NaN      150                            ['war', 'action']   \n",
       "\n",
       "  production_countries  seasons    imdb_id  imdb_score  imdb_votes  \\\n",
       "0               ['US']      1.0        NaN         NaN         NaN   \n",
       "1               ['US']      NaN  tt0075314         8.2    808582.0   \n",
       "2               ['US']      NaN  tt0068473         7.7    107673.0   \n",
       "3               ['GB']      NaN  tt0071853         8.2    534486.0   \n",
       "4         ['GB', 'US']      NaN  tt0061578         7.7     72662.0   \n",
       "\n",
       "   tmdb_popularity  tmdb_score  \n",
       "0            0.600         NaN  \n",
       "1           40.965       8.179  \n",
       "2           10.010       7.300  \n",
       "3           15.461       7.811  \n",
       "4           20.398       7.600  "
      ]
     },
     "execution_count": 146,
     "metadata": {},
     "output_type": "execute_result"
    }
   ],
   "source": [
    "Netflix_Data.head()"
   ]
  },
  {
   "cell_type": "markdown",
   "metadata": {},
   "source": []
  },
  {
   "cell_type": "markdown",
   "metadata": {},
   "source": [
    "# Estructura del data-set"
   ]
  },
  {
   "cell_type": "markdown",
   "metadata": {},
   "source": [
    "This dataset contains +5k unique titles on Netflix with 15 columns containing their information, including:\n",
    "\n",
    "id: The title ID on JustWatch.\n",
    "title: The name of the title.\n",
    "show_type: TV show or movie.\n",
    "description: A brief description.\n",
    "release_year: The release year.\n",
    "age_certification: The age certification.\n",
    "runtime: The length of the episode (SHOW) or movie.\n",
    "genres: A list of genres.\n",
    "production_countries: A list of countries that produced the title.\n",
    "seasons: Number of seasons if it's a SHOW.\n",
    "imdb_id: The title ID on IMDB.\n",
    "imdb_score: Score on IMDB.\n",
    "imdb_votes: Votes on IMDB.\n",
    "tmdb_popularity: Popularity on TMDB.\n",
    "tmdb_score: Score on TMDB."
   ]
  },
  {
   "cell_type": "code",
   "execution_count": 147,
   "metadata": {},
   "outputs": [
    {
     "data": {
      "text/plain": [
       "(5850, 15)"
      ]
     },
     "execution_count": 147,
     "metadata": {},
     "output_type": "execute_result"
    }
   ],
   "source": [
    "Netflix_Data.shape"
   ]
  },
  {
   "cell_type": "code",
   "execution_count": 148,
   "metadata": {},
   "outputs": [
    {
     "name": "stdout",
     "output_type": "stream",
     "text": [
      "<class 'pandas.core.frame.DataFrame'>\n",
      "RangeIndex: 5850 entries, 0 to 5849\n",
      "Data columns (total 15 columns):\n",
      " #   Column                Non-Null Count  Dtype  \n",
      "---  ------                --------------  -----  \n",
      " 0   id                    5850 non-null   object \n",
      " 1   title                 5849 non-null   object \n",
      " 2   type                  5850 non-null   object \n",
      " 3   description           5832 non-null   object \n",
      " 4   release_year          5850 non-null   int64  \n",
      " 5   age_certification     3231 non-null   object \n",
      " 6   runtime               5850 non-null   int64  \n",
      " 7   genres                5850 non-null   object \n",
      " 8   production_countries  5850 non-null   object \n",
      " 9   seasons               2106 non-null   float64\n",
      " 10  imdb_id               5447 non-null   object \n",
      " 11  imdb_score            5368 non-null   float64\n",
      " 12  imdb_votes            5352 non-null   float64\n",
      " 13  tmdb_popularity       5759 non-null   float64\n",
      " 14  tmdb_score            5539 non-null   float64\n",
      "dtypes: float64(5), int64(2), object(8)\n",
      "memory usage: 685.7+ KB\n"
     ]
    }
   ],
   "source": [
    "Netflix_Data.info()"
   ]
  },
  {
   "cell_type": "code",
   "execution_count": 149,
   "metadata": {},
   "outputs": [
    {
     "data": {
      "text/plain": [
       "array(['SHOW', 'MOVIE'], dtype=object)"
      ]
     },
     "execution_count": 149,
     "metadata": {},
     "output_type": "execute_result"
    }
   ],
   "source": [
    "Netflix_Data['type'].unique()"
   ]
  },
  {
   "cell_type": "code",
   "execution_count": 150,
   "metadata": {},
   "outputs": [
    {
     "data": {
      "text/plain": [
       "array([\"['documentation']\", \"['drama', 'crime']\",\n",
       "       \"['drama', 'action', 'thriller', 'european']\", ...,\n",
       "       \"['drama', 'animation', 'music']\",\n",
       "       \"['animation', 'family', 'scifi']\",\n",
       "       \"['documentation', 'music', 'reality']\"], dtype=object)"
      ]
     },
     "execution_count": 150,
     "metadata": {},
     "output_type": "execute_result"
    }
   ],
   "source": [
    "Netflix_Data['genres'].unique()"
   ]
  },
  {
   "cell_type": "code",
   "execution_count": 151,
   "metadata": {},
   "outputs": [
    {
     "data": {
      "text/plain": [
       "array(['TV-MA', 'R', 'PG', nan, 'TV-14', 'PG-13', 'TV-PG', 'TV-Y', 'TV-G',\n",
       "       'TV-Y7', 'G', 'NC-17'], dtype=object)"
      ]
     },
     "execution_count": 151,
     "metadata": {},
     "output_type": "execute_result"
    }
   ],
   "source": [
    "Netflix_Data['age_certification'].unique()"
   ]
  },
  {
   "cell_type": "code",
   "execution_count": 152,
   "metadata": {},
   "outputs": [
    {
     "data": {
      "text/plain": [
       "array([\"['US']\", \"['GB']\", \"['GB', 'US']\", \"['EG']\", \"['DE']\", \"['IN']\",\n",
       "       \"['SU', 'IN']\", \"['LB', 'CA', 'FR']\", '[]', \"['LB']\",\n",
       "       \"['DZ', 'EG']\", \"['CA', 'FR', 'LB']\", \"['US', 'GB']\",\n",
       "       \"['US', 'IT']\", \"['JP']\", \"['AR']\", \"['FR', 'EG']\", \"['FR', 'LB']\",\n",
       "       \"['CA', 'US']\", \"['US', 'FR']\", \"['JP', 'US']\", \"['US', 'CA']\",\n",
       "       \"['DE', 'US']\", \"['PE', 'US', 'BR']\", \"['IT', 'US', 'FR']\",\n",
       "       \"['IE', 'GB', 'DE', 'FR']\", \"['HK', 'US']\", \"['AU']\", \"['FR']\",\n",
       "       \"['DE', 'GH', 'GB', 'US', 'BF']\", \"['MX']\", \"['ES', 'AR']\",\n",
       "       \"['CO']\", \"['PS', 'US', 'FR', 'DE']\", \"['FR', 'NO', 'LB', 'BE']\",\n",
       "       \"['BE', 'FR', 'IT', 'LB']\", \"['TR']\", \"['IN', 'SU']\", \"['DK']\",\n",
       "       \"['CA']\", \"['DE', 'GB', 'US', 'BS', 'CZ']\", \"['MT', 'GB', 'US']\",\n",
       "       \"['AU', 'DE', 'GB', 'US']\", \"['US', 'JP']\", \"['BE', 'US']\",\n",
       "       \"['HK']\", \"['IT']\", \"['US', 'FR', 'DE', 'GB']\",\n",
       "       \"['GB', 'US', 'FR', 'DE']\", \"['IT', 'US']\", \"['US', 'ZA']\",\n",
       "       \"['GB', 'ES']\", \"['GB', 'US', 'JP']\", \"['HK', 'CN']\",\n",
       "       \"['GB', 'US', 'BG']\", \"['RU']\", \"['KR']\", \"['CA', 'US', 'IN']\",\n",
       "       \"['CN']\", \"['JP', 'HK']\", \"['CA', 'GB', 'US']\",\n",
       "       \"['FR', 'MX', 'ES']\", \"['IN', 'US']\", \"['AR', 'ES']\", \"['CL']\",\n",
       "       \"['FR', 'MA', 'DE', 'PS']\", \"['AR', 'DE', 'UY', 'ES']\",\n",
       "       \"['CL', 'AR']\", \"['CZ', 'GB', 'DK', 'NL', 'SE']\", \"['TW']\",\n",
       "       \"['SG']\", \"['NG']\", \"['MY']\", \"['Lebanon']\",\n",
       "       \"['BE', 'FR', 'ES', 'CH', 'PS']\", \"['ZA']\", \"['NG', 'US']\",\n",
       "       \"['LB', 'FR']\", \"['CN', 'HK']\", \"['PH']\", \"['LB', 'GB', 'FR']\",\n",
       "       \"['FR', 'DE', 'KW', 'PS']\", \"['PS']\",\n",
       "       \"['GB', 'US', 'AT', 'FR', 'DE', 'NG']\", \"['XX']\", \"['AE', 'US']\",\n",
       "       \"['DK', 'US']\", \"['FR', 'US', 'GB']\", \"['HU', 'US', 'CA']\",\n",
       "       \"['NO']\", \"['GB', 'FR', 'DE']\", \"['US', 'HU', 'IT']\",\n",
       "       \"['US', 'ZA', 'DE']\", \"['IN', 'DE']\", \"['SA']\", \"['ID']\",\n",
       "       \"['US', 'LB', 'AE']\", \"['PS', 'NL', 'US', 'AE']\",\n",
       "       \"['US', 'FR', 'GB']\", \"['US', 'DE', 'GB']\", \"['GB', 'ZA']\",\n",
       "       \"['US', 'CA', 'CL']\", \"['US', 'GB', 'CN', 'CA']\",\n",
       "       \"['AU', 'CH', 'GB']\", \"['ES']\", \"['FI']\", \"['IL']\", \"['FR', 'US']\",\n",
       "       \"['AU', 'US']\", \"['CA', 'US', 'GB']\", \"['AT']\", \"['CD', 'GB']\",\n",
       "       \"['US', 'BR']\", \"['CA', 'JP', 'US']\", \"['CA', 'KR']\",\n",
       "       \"['US', 'EG', 'GB']\", \"['BR']\", \"['PL']\", \"['VE', 'AR']\", \"['RO']\",\n",
       "       \"['IL', 'NO', 'ZA', 'AE', 'GB', 'IS', 'IE']\",\n",
       "       \"['US', 'CN', 'DE', 'SG', 'UA']\", \"['DE', 'IT', 'PS', 'FR']\",\n",
       "       \"['AE', 'LB']\", \"['LB', 'AE']\", \"['US', 'ES']\", \"['NZ']\",\n",
       "       \"['GB', 'US', 'FR']\", \"['US', 'FR', 'LU', 'GB']\", \"['FR', 'BE']\",\n",
       "       \"['IT', 'GB']\", \"['US', 'CA', 'GB']\", \"['CA', 'FR']\",\n",
       "       \"['US', 'CN']\", \"['UA']\", \"['MX', 'ZA', 'US']\",\n",
       "       \"['US', 'GB', 'ES']\", \"['BE', 'DK', 'DE', 'GB', 'US']\",\n",
       "       \"['GB', 'IR', 'JO', 'QA']\", \"['CH', 'US']\", \"['CA', 'DE', 'GB']\",\n",
       "       \"['GH', 'US']\", \"['IE', 'GB']\", \"['CN', 'US']\",\n",
       "       \"['UA', 'GB', 'US']\", \"['IE', 'ZA']\", \"['US', 'FR', 'MT']\",\n",
       "       \"['BG']\", \"['GB', 'FR']\", \"['BY']\", \"['IE']\", \"['IS']\",\n",
       "       \"['AU', 'FR', 'DE']\", \"['CN', 'FR', 'CA']\", \"['FR', 'QA']\",\n",
       "       \"['SE']\", \"['FR', 'ES']\", \"['NL']\", \"['HR']\", \"['FR', 'MA']\",\n",
       "       \"['RU', 'US', 'FR']\", \"['SY', 'GB']\", \"['AT', 'US']\", \"['CD']\",\n",
       "       \"['FR', 'CL']\", \"['AU', 'GB']\", \"['TN']\", \"['AE']\", \"['SE', 'NO']\",\n",
       "       \"['GL', 'FR']\", \"['LB', 'DE']\", \"['PT', 'SE', 'DK', 'BR', 'FR']\",\n",
       "       \"['QA', 'LB']\", \"['GB', 'AU', 'US']\", \"['ES', 'DK']\",\n",
       "       \"['AE', 'FR', 'JO', 'LB', 'QA', 'PS']\", \"['US', 'CA', 'JP']\",\n",
       "       \"['PK']\", \"['IN', 'GB']\", \"['PS', 'FR', 'DE']\", \"['CZ']\",\n",
       "       \"['CA', 'NG']\", \"['VN']\", \"['NL', 'GB']\",\n",
       "       \"['CA', 'HU', 'MX', 'ES', 'GB', 'US']\", \"['FR', 'GB', 'US']\",\n",
       "       \"['FR', 'NL', 'GB', 'US']\", \"['CN', 'CA', 'US']\", \"['CA', 'GB']\",\n",
       "       \"['KR', 'US']\", \"['FR', 'RO', 'GB', 'BE', 'DE']\", \"['US', 'MX']\",\n",
       "       \"['HK', 'IS', 'US']\", \"['IN', 'CN', 'US', 'GB']\", \"['BE', 'FR']\",\n",
       "       \"['PR', 'US', 'GB', 'CN']\", \"['GB', 'DE']\", \"['US', 'PR']\",\n",
       "       \"['IT', 'CH', 'FR']\", \"['IT', 'ES', 'FR']\", \"['US', 'IS', 'NO']\",\n",
       "       \"['IQ', 'GB']\", \"['HU']\", \"['US', 'AU', 'GB']\",\n",
       "       \"['CZ', 'GB', 'US']\", \"['US', 'IE', 'CA']\", \"['TH']\",\n",
       "       \"['IR', 'US', 'FR']\", \"['BE']\",\n",
       "       \"['GB', 'ID', 'CA', 'CN', 'SG', 'US']\", \"['ES', 'FR']\",\n",
       "       \"['SG', 'GB', 'US']\", \"['GE', 'DE', 'FR']\", \"['CA', 'US', 'DE']\",\n",
       "       \"['CA', 'IE']\", \"['NL', 'BE']\", \"['US', 'KH']\", \"['FR', 'JP']\",\n",
       "       \"['PR']\", \"['US', 'CA', 'CN']\", \"['CN', 'US', 'ES']\",\n",
       "       \"['CU', 'US']\", \"['BG', 'US']\", \"['US', 'BG']\",\n",
       "       \"['US', 'DK', 'GB']\", \"['ES', 'IT']\", \"['TR', 'US']\",\n",
       "       \"['PE', 'DE', 'NO']\", \"['LU', 'US', 'FR']\",\n",
       "       \"['IL', 'MA', 'US', 'BG', 'GB']\", \"['AR', 'CL']\",\n",
       "       \"['AR', 'ES', 'UY']\", \"['JP', 'CN']\", \"['US', 'AU']\",\n",
       "       \"['QA', 'TN', 'FR']\", \"['ES', 'MX']\", \"['PH', 'SG']\",\n",
       "       \"['US', 'AE']\", \"['DE', 'DK', 'NL', 'GB']\", \"['NL', 'MX']\",\n",
       "       \"['CA', 'CN']\", \"['NO', 'SE', 'DK', 'NL']\", \"['US', 'DE', 'ZA']\",\n",
       "       \"['IS', 'SE', 'BE']\", \"['DE', 'ES']\", \"['CN', 'FR', 'TW', 'US']\",\n",
       "       \"['KH']\", \"['BE', 'FR', 'IT']\", \"['DE', 'CH']\",\n",
       "       \"['JP', 'KR', 'FR']\", \"['DE', 'NZ', 'GB']\", \"['PE']\",\n",
       "       \"['MX', 'US']\", \"['US', 'DK']\", \"['PL', 'US']\", \"['KE']\", \"['GH']\",\n",
       "       \"['IT', 'CH', 'VA', 'FR', 'DE']\", \"['PE', 'GB', 'US', 'IL', 'IT']\",\n",
       "       \"['SA', 'SY', 'AE']\", \"['US', 'KR']\", \"['IN', 'FR']\",\n",
       "       \"['RS', 'PL', 'RU']\", \"['CL', 'NL', 'FR']\", \"['IE', 'CA']\",\n",
       "       \"['US', 'NL']\", \"['TZ']\", \"['IT', 'ES']\", \"['ID', 'MY', 'SG']\",\n",
       "       \"['FR', 'LU', 'CA']\", \"['FR', 'QA', 'TN', 'BE']\",\n",
       "       \"['PL', 'CH', 'AL', 'IT']\", \"['CZ', 'US']\", \"['AR', 'FR']\",\n",
       "       \"['DE', 'IT']\", \"['IT', 'FR']\", \"['MX', 'FI']\", \"['CA', 'BR']\",\n",
       "       \"['IN', 'MX']\", \"['BR', 'DK', 'FR', 'DE', 'PL', 'AR']\",\n",
       "       \"['ZA', 'US', 'CA']\", \"['ES', 'BE']\", \"['PY']\", \"['US', 'NG']\",\n",
       "       \"['US', 'BE', 'GB']\", \"['ZW']\", \"['IT', 'AR']\",\n",
       "       \"['AT', 'IQ', 'US']\", \"['GE']\", \"['AR', 'IT']\", \"['NG', 'NO']\",\n",
       "       \"['IS', 'GB']\", \"['MX', 'CO']\", \"['AR', 'US']\", \"['KW']\",\n",
       "       \"['JP', 'GB']\", \"['TW', 'US']\", \"['NP', 'IN']\",\n",
       "       \"['AU', 'US', 'CN']\", \"['FR', 'IN', 'SG']\", \"['LB', 'PS']\",\n",
       "       \"['JP', 'US', 'CA']\", \"['CM']\", \"['BD', 'IN']\", \"['CA', 'ZA']\",\n",
       "       \"['FR', 'PS', 'CH', 'QA']\", \"['NL', 'JO', 'DE']\",\n",
       "       \"['GB', 'DK', 'GR']\", \"['MX', 'AR']\", \"['US', 'CL', 'MX']\",\n",
       "       \"['KG']\", \"['CH']\", \"['BD']\", \"['LU']\", \"['ZA', 'GB']\",\n",
       "       \"['BT', 'CN']\", \"['CA', 'HU', 'US']\", \"['BE', 'LT', 'NL']\",\n",
       "       \"['IT', 'MC', 'US', 'CA']\", \"['CN', 'US', 'AU', 'CA']\",\n",
       "       \"['BE', 'SE', 'GB']\", \"['GB', 'CZ', 'FR']\", \"['US', 'MW', 'GB']\",\n",
       "       \"['US', 'CY']\", \"['BE', 'FR', 'SN']\", \"['BR', 'FR', 'ES', 'BE']\",\n",
       "       \"['US', 'CH']\", \"['US', 'IL']\", \"['FR', 'LT', 'GB']\",\n",
       "       \"['GB', 'IE']\", \"['GB', 'IT']\", \"['JO', 'TH', 'US', 'AL']\",\n",
       "       \"['PT', 'US']\", \"['IL', 'US', 'FR', 'DE']\", \"['TW', 'MY']\",\n",
       "       \"['US', 'CA', 'FR', 'ES']\", \"['FI', 'NO']\", \"['US', 'FR', 'JP']\",\n",
       "       \"['GB', 'JP']\", \"['US', 'CN', 'GB']\",\n",
       "       \"['US', 'FR', 'SE', 'GB', 'DE', 'DK', 'CA']\", \"['DE', 'AT']\",\n",
       "       \"['US', 'TH']\", \"['PH', 'US']\", \"['BR', 'MX']\", \"['NO', 'CA']\",\n",
       "       \"['CO', 'ES']\", \"['CN', 'DE', 'GB']\", \"['NO', 'DE']\",\n",
       "       \"['ES', 'PT']\", \"['IL', 'US']\", \"['ES', 'BE', 'DE']\",\n",
       "       \"['TH', 'US']\", \"['US', 'FR', 'ES']\", \"['ES', 'FR', 'AR']\",\n",
       "       \"['NL', 'PL', 'UA', 'GB', 'US']\", \"['QA', 'PS']\",\n",
       "       \"['RS', 'UY', 'AR']\", \"['FR', 'IT']\", \"['CA', 'LK']\",\n",
       "       \"['US', 'AR']\", \"['EG', 'US']\", \"['US', 'IN']\",\n",
       "       \"['FR', 'LU', 'BE', 'KH']\", \"['US', 'BE', 'ES']\",\n",
       "       \"['CA', 'FR', 'JP', 'GB', 'US']\", \"['AT', 'DE']\",\n",
       "       \"['US', 'GB', 'DE']\", \"['FR', 'MX', 'CO']\", \"['BR', 'FR']\",\n",
       "       \"['JO']\", \"['FR', 'IN', 'QA']\", \"['AR', 'PE']\", \"['MU']\",\n",
       "       \"['DE', 'DK', 'EG']\", \"['US', 'IE']\", \"['IO']\", \"['TW', 'CN']\",\n",
       "       \"['FR', 'NL', 'SG']\", \"['SN']\", \"['UY']\", \"['DE', 'IN', 'AT']\",\n",
       "       \"['MA', 'FR', 'QA']\", \"['PS', 'PH']\", \"['EG', 'SA']\",\n",
       "       \"['ES', 'CN']\", \"['CL', 'AR', 'CA']\", \"['AR', 'CO']\",\n",
       "       \"['GT', 'UY']\", \"['AF', 'DE', 'PS']\", \"['ZA', 'AO']\",\n",
       "       \"['HK', 'PH']\", \"['SG', 'MY']\", \"['SE', 'US']\",\n",
       "       \"['LB', 'US', 'NL', 'CA']\", \"['NL', 'PS', 'US', 'LB']\",\n",
       "       \"['DK', 'LB', 'GB']\", \"['UY', 'MX', 'ES']\", \"['PH', 'JP']\",\n",
       "       \"['CN', 'JP', 'US']\", \"['NA']\", \"['LB', 'QA', 'SY', 'FR']\",\n",
       "       \"['PS', 'DK', 'LB']\", \"['US', 'CZ']\",\n",
       "       \"['GB', 'AU', 'CA', 'GR', 'NZ']\", \"['GR', 'GB', 'US']\",\n",
       "       \"['DE', 'FR']\", \"['NL', 'US']\", \"['AT', 'GB', 'US']\",\n",
       "       \"['CH', 'DE']\", \"['GB', 'US', 'DE']\", \"['DK', 'IS']\",\n",
       "       \"['FR', 'DE', 'US']\", \"['US', 'JP', 'TH']\", \"['FR', 'DE']\",\n",
       "       \"['RO', 'US']\", \"['ES', 'KN']\", \"['SE', 'GB']\",\n",
       "       \"['SG', 'US', 'IN']\", \"['DE', 'AU']\", \"['GB', 'CA']\",\n",
       "       \"['IE', 'US', 'CA']\", \"['PT']\", \"['US', 'PL', 'KR']\",\n",
       "       \"['LU', 'FR']\", \"['IT', 'BR']\", \"['GB', 'HU', 'NL', 'CH']\",\n",
       "       \"['BR', 'DE', 'QA', 'MX', 'US', 'CH', 'AR']\", \"['ES', 'PE']\",\n",
       "       \"['BE', 'GB', 'DE']\", \"['ZA', 'GB', 'US']\", \"['CL', 'PE']\",\n",
       "       \"['CA', 'CN', 'US']\", \"['SG', 'US']\", \"['BR', 'US']\",\n",
       "       \"['BE', 'NL']\", \"['RU', 'US']\", \"['ES', 'US']\", \"['CZ', 'DE']\",\n",
       "       \"['NZ', 'HK']\", \"['MA', 'SA', 'TN', 'EG', 'LB']\", \"['CN', 'GB']\",\n",
       "       \"['AF']\", \"['BE', 'LU']\", \"['BE', 'DE']\", \"['SE', 'RO']\",\n",
       "       \"['ZA', 'US']\", \"['GB', 'IN']\", \"['HU', 'CA']\", \"['NG', 'CA']\",\n",
       "       \"['TZ', 'GB']\", \"['PH', 'FO']\"], dtype=object)"
      ]
     },
     "execution_count": 152,
     "metadata": {},
     "output_type": "execute_result"
    }
   ],
   "source": [
    "Netflix_Data['production_countries'].unique()"
   ]
  },
  {
   "cell_type": "code",
   "execution_count": 153,
   "metadata": {},
   "outputs": [
    {
     "data": {
      "text/plain": [
       "id                         0\n",
       "title                      1\n",
       "type                       0\n",
       "description               18\n",
       "release_year               0\n",
       "age_certification       2619\n",
       "runtime                    0\n",
       "genres                     0\n",
       "production_countries       0\n",
       "seasons                 3744\n",
       "imdb_id                  403\n",
       "imdb_score               482\n",
       "imdb_votes               498\n",
       "tmdb_popularity           91\n",
       "tmdb_score               311\n",
       "dtype: int64"
      ]
     },
     "execution_count": 153,
     "metadata": {},
     "output_type": "execute_result"
    }
   ],
   "source": [
    "Netflix_Data.isnull().sum()"
   ]
  },
  {
   "cell_type": "code",
   "execution_count": 154,
   "metadata": {},
   "outputs": [],
   "source": [
    "from sklearn.preprocessing import OrdinalEncoder\n",
    "\n",
    "ord_enc = OrdinalEncoder()"
   ]
  },
  {
   "cell_type": "code",
   "execution_count": 155,
   "metadata": {},
   "outputs": [],
   "source": [
    "Netflix_Data['type'] = ord_enc.fit_transform(Netflix_Data[['type']])\n"
   ]
  },
  {
   "cell_type": "markdown",
   "metadata": {},
   "source": [
    "# Resumen Estadístico Descriptivo Básico <a class=\"anchor\" id=\"9\"></a>"
   ]
  },
  {
   "cell_type": "code",
   "execution_count": 156,
   "metadata": {},
   "outputs": [
    {
     "data": {
      "text/html": [
       "<div>\n",
       "<style scoped>\n",
       "    .dataframe tbody tr th:only-of-type {\n",
       "        vertical-align: middle;\n",
       "    }\n",
       "\n",
       "    .dataframe tbody tr th {\n",
       "        vertical-align: top;\n",
       "    }\n",
       "\n",
       "    .dataframe thead th {\n",
       "        text-align: right;\n",
       "    }\n",
       "</style>\n",
       "<table border=\"1\" class=\"dataframe\">\n",
       "  <thead>\n",
       "    <tr style=\"text-align: right;\">\n",
       "      <th></th>\n",
       "      <th>id</th>\n",
       "      <th>title</th>\n",
       "      <th>type</th>\n",
       "      <th>description</th>\n",
       "      <th>release_year</th>\n",
       "      <th>age_certification</th>\n",
       "      <th>runtime</th>\n",
       "      <th>genres</th>\n",
       "      <th>production_countries</th>\n",
       "      <th>seasons</th>\n",
       "      <th>imdb_id</th>\n",
       "      <th>imdb_score</th>\n",
       "      <th>imdb_votes</th>\n",
       "      <th>tmdb_popularity</th>\n",
       "      <th>tmdb_score</th>\n",
       "    </tr>\n",
       "  </thead>\n",
       "  <tbody>\n",
       "    <tr>\n",
       "      <th>count</th>\n",
       "      <td>5850</td>\n",
       "      <td>5849</td>\n",
       "      <td>5850.000000</td>\n",
       "      <td>5832</td>\n",
       "      <td>5850.000000</td>\n",
       "      <td>3231</td>\n",
       "      <td>5850.000000</td>\n",
       "      <td>5850</td>\n",
       "      <td>5850</td>\n",
       "      <td>2106.000000</td>\n",
       "      <td>5447</td>\n",
       "      <td>5368.000000</td>\n",
       "      <td>5.352000e+03</td>\n",
       "      <td>5759.000000</td>\n",
       "      <td>5539.000000</td>\n",
       "    </tr>\n",
       "    <tr>\n",
       "      <th>unique</th>\n",
       "      <td>5850</td>\n",
       "      <td>5798</td>\n",
       "      <td>NaN</td>\n",
       "      <td>5829</td>\n",
       "      <td>NaN</td>\n",
       "      <td>11</td>\n",
       "      <td>NaN</td>\n",
       "      <td>1726</td>\n",
       "      <td>452</td>\n",
       "      <td>NaN</td>\n",
       "      <td>5447</td>\n",
       "      <td>NaN</td>\n",
       "      <td>NaN</td>\n",
       "      <td>NaN</td>\n",
       "      <td>NaN</td>\n",
       "    </tr>\n",
       "    <tr>\n",
       "      <th>top</th>\n",
       "      <td>ts300399</td>\n",
       "      <td>The Gift</td>\n",
       "      <td>NaN</td>\n",
       "      <td>Five families struggle with the ups and downs ...</td>\n",
       "      <td>NaN</td>\n",
       "      <td>TV-MA</td>\n",
       "      <td>NaN</td>\n",
       "      <td>['comedy']</td>\n",
       "      <td>['US']</td>\n",
       "      <td>NaN</td>\n",
       "      <td>tt0075314</td>\n",
       "      <td>NaN</td>\n",
       "      <td>NaN</td>\n",
       "      <td>NaN</td>\n",
       "      <td>NaN</td>\n",
       "    </tr>\n",
       "    <tr>\n",
       "      <th>freq</th>\n",
       "      <td>1</td>\n",
       "      <td>3</td>\n",
       "      <td>NaN</td>\n",
       "      <td>2</td>\n",
       "      <td>NaN</td>\n",
       "      <td>883</td>\n",
       "      <td>NaN</td>\n",
       "      <td>484</td>\n",
       "      <td>1959</td>\n",
       "      <td>NaN</td>\n",
       "      <td>1</td>\n",
       "      <td>NaN</td>\n",
       "      <td>NaN</td>\n",
       "      <td>NaN</td>\n",
       "      <td>NaN</td>\n",
       "    </tr>\n",
       "    <tr>\n",
       "      <th>mean</th>\n",
       "      <td>NaN</td>\n",
       "      <td>NaN</td>\n",
       "      <td>0.360000</td>\n",
       "      <td>NaN</td>\n",
       "      <td>2016.417094</td>\n",
       "      <td>NaN</td>\n",
       "      <td>76.888889</td>\n",
       "      <td>NaN</td>\n",
       "      <td>NaN</td>\n",
       "      <td>2.162868</td>\n",
       "      <td>NaN</td>\n",
       "      <td>6.510861</td>\n",
       "      <td>2.343938e+04</td>\n",
       "      <td>22.637925</td>\n",
       "      <td>6.829175</td>\n",
       "    </tr>\n",
       "    <tr>\n",
       "      <th>std</th>\n",
       "      <td>NaN</td>\n",
       "      <td>NaN</td>\n",
       "      <td>0.480041</td>\n",
       "      <td>NaN</td>\n",
       "      <td>6.937726</td>\n",
       "      <td>NaN</td>\n",
       "      <td>39.002509</td>\n",
       "      <td>NaN</td>\n",
       "      <td>NaN</td>\n",
       "      <td>2.689041</td>\n",
       "      <td>NaN</td>\n",
       "      <td>1.163826</td>\n",
       "      <td>9.582047e+04</td>\n",
       "      <td>81.680263</td>\n",
       "      <td>1.170391</td>\n",
       "    </tr>\n",
       "    <tr>\n",
       "      <th>min</th>\n",
       "      <td>NaN</td>\n",
       "      <td>NaN</td>\n",
       "      <td>0.000000</td>\n",
       "      <td>NaN</td>\n",
       "      <td>1945.000000</td>\n",
       "      <td>NaN</td>\n",
       "      <td>0.000000</td>\n",
       "      <td>NaN</td>\n",
       "      <td>NaN</td>\n",
       "      <td>1.000000</td>\n",
       "      <td>NaN</td>\n",
       "      <td>1.500000</td>\n",
       "      <td>5.000000e+00</td>\n",
       "      <td>0.009442</td>\n",
       "      <td>0.500000</td>\n",
       "    </tr>\n",
       "    <tr>\n",
       "      <th>25%</th>\n",
       "      <td>NaN</td>\n",
       "      <td>NaN</td>\n",
       "      <td>0.000000</td>\n",
       "      <td>NaN</td>\n",
       "      <td>2016.000000</td>\n",
       "      <td>NaN</td>\n",
       "      <td>44.000000</td>\n",
       "      <td>NaN</td>\n",
       "      <td>NaN</td>\n",
       "      <td>1.000000</td>\n",
       "      <td>NaN</td>\n",
       "      <td>5.800000</td>\n",
       "      <td>5.167500e+02</td>\n",
       "      <td>2.728500</td>\n",
       "      <td>6.100000</td>\n",
       "    </tr>\n",
       "    <tr>\n",
       "      <th>50%</th>\n",
       "      <td>NaN</td>\n",
       "      <td>NaN</td>\n",
       "      <td>0.000000</td>\n",
       "      <td>NaN</td>\n",
       "      <td>2018.000000</td>\n",
       "      <td>NaN</td>\n",
       "      <td>83.000000</td>\n",
       "      <td>NaN</td>\n",
       "      <td>NaN</td>\n",
       "      <td>1.000000</td>\n",
       "      <td>NaN</td>\n",
       "      <td>6.600000</td>\n",
       "      <td>2.233500e+03</td>\n",
       "      <td>6.821000</td>\n",
       "      <td>6.900000</td>\n",
       "    </tr>\n",
       "    <tr>\n",
       "      <th>75%</th>\n",
       "      <td>NaN</td>\n",
       "      <td>NaN</td>\n",
       "      <td>1.000000</td>\n",
       "      <td>NaN</td>\n",
       "      <td>2020.000000</td>\n",
       "      <td>NaN</td>\n",
       "      <td>104.000000</td>\n",
       "      <td>NaN</td>\n",
       "      <td>NaN</td>\n",
       "      <td>2.000000</td>\n",
       "      <td>NaN</td>\n",
       "      <td>7.300000</td>\n",
       "      <td>9.494000e+03</td>\n",
       "      <td>16.590000</td>\n",
       "      <td>7.537500</td>\n",
       "    </tr>\n",
       "    <tr>\n",
       "      <th>max</th>\n",
       "      <td>NaN</td>\n",
       "      <td>NaN</td>\n",
       "      <td>1.000000</td>\n",
       "      <td>NaN</td>\n",
       "      <td>2022.000000</td>\n",
       "      <td>NaN</td>\n",
       "      <td>240.000000</td>\n",
       "      <td>NaN</td>\n",
       "      <td>NaN</td>\n",
       "      <td>42.000000</td>\n",
       "      <td>NaN</td>\n",
       "      <td>9.600000</td>\n",
       "      <td>2.294231e+06</td>\n",
       "      <td>2274.044000</td>\n",
       "      <td>10.000000</td>\n",
       "    </tr>\n",
       "  </tbody>\n",
       "</table>\n",
       "</div>"
      ],
      "text/plain": [
       "              id     title         type  \\\n",
       "count       5850      5849  5850.000000   \n",
       "unique      5850      5798          NaN   \n",
       "top     ts300399  The Gift          NaN   \n",
       "freq           1         3          NaN   \n",
       "mean         NaN       NaN     0.360000   \n",
       "std          NaN       NaN     0.480041   \n",
       "min          NaN       NaN     0.000000   \n",
       "25%          NaN       NaN     0.000000   \n",
       "50%          NaN       NaN     0.000000   \n",
       "75%          NaN       NaN     1.000000   \n",
       "max          NaN       NaN     1.000000   \n",
       "\n",
       "                                              description  release_year  \\\n",
       "count                                                5832   5850.000000   \n",
       "unique                                               5829           NaN   \n",
       "top     Five families struggle with the ups and downs ...           NaN   \n",
       "freq                                                    2           NaN   \n",
       "mean                                                  NaN   2016.417094   \n",
       "std                                                   NaN      6.937726   \n",
       "min                                                   NaN   1945.000000   \n",
       "25%                                                   NaN   2016.000000   \n",
       "50%                                                   NaN   2018.000000   \n",
       "75%                                                   NaN   2020.000000   \n",
       "max                                                   NaN   2022.000000   \n",
       "\n",
       "       age_certification      runtime      genres production_countries  \\\n",
       "count               3231  5850.000000        5850                 5850   \n",
       "unique                11          NaN        1726                  452   \n",
       "top                TV-MA          NaN  ['comedy']               ['US']   \n",
       "freq                 883          NaN         484                 1959   \n",
       "mean                 NaN    76.888889         NaN                  NaN   \n",
       "std                  NaN    39.002509         NaN                  NaN   \n",
       "min                  NaN     0.000000         NaN                  NaN   \n",
       "25%                  NaN    44.000000         NaN                  NaN   \n",
       "50%                  NaN    83.000000         NaN                  NaN   \n",
       "75%                  NaN   104.000000         NaN                  NaN   \n",
       "max                  NaN   240.000000         NaN                  NaN   \n",
       "\n",
       "            seasons    imdb_id   imdb_score    imdb_votes  tmdb_popularity  \\\n",
       "count   2106.000000       5447  5368.000000  5.352000e+03      5759.000000   \n",
       "unique          NaN       5447          NaN           NaN              NaN   \n",
       "top             NaN  tt0075314          NaN           NaN              NaN   \n",
       "freq            NaN          1          NaN           NaN              NaN   \n",
       "mean       2.162868        NaN     6.510861  2.343938e+04        22.637925   \n",
       "std        2.689041        NaN     1.163826  9.582047e+04        81.680263   \n",
       "min        1.000000        NaN     1.500000  5.000000e+00         0.009442   \n",
       "25%        1.000000        NaN     5.800000  5.167500e+02         2.728500   \n",
       "50%        1.000000        NaN     6.600000  2.233500e+03         6.821000   \n",
       "75%        2.000000        NaN     7.300000  9.494000e+03        16.590000   \n",
       "max       42.000000        NaN     9.600000  2.294231e+06      2274.044000   \n",
       "\n",
       "         tmdb_score  \n",
       "count   5539.000000  \n",
       "unique          NaN  \n",
       "top             NaN  \n",
       "freq            NaN  \n",
       "mean       6.829175  \n",
       "std        1.170391  \n",
       "min        0.500000  \n",
       "25%        6.100000  \n",
       "50%        6.900000  \n",
       "75%        7.537500  \n",
       "max       10.000000  "
      ]
     },
     "execution_count": 156,
     "metadata": {},
     "output_type": "execute_result"
    }
   ],
   "source": [
    "Netflix_Data.describe(include='all') # include='all' para dar un tratamiento diferente a las categoricas que a las cuantitativas"
   ]
  },
  {
   "cell_type": "markdown",
   "metadata": {},
   "source": [
    "### 4.3.3. Análisis gráfico general <a class=\"anchor\" id=\"10\"></a>"
   ]
  },
  {
   "cell_type": "markdown",
   "metadata": {},
   "source": [
    "#### 4.3.3.1. Histogramas para las variables cuantitativas <a class=\"anchor\" id=\"11\"></a>"
   ]
  },
  {
   "cell_type": "code",
   "execution_count": 157,
   "metadata": {},
   "outputs": [],
   "source": [
    "import numpy as np\n",
    "\n",
    "import seaborn as sns\n",
    "import matplotlib as mpl\n",
    "import matplotlib.pyplot as plt"
   ]
  },
  {
   "cell_type": "code",
   "execution_count": 158,
   "metadata": {},
   "outputs": [
    {
     "data": {
      "image/png": "[encoded data removed]",
      "text/plain": [
       "<Figure size 792x792 with 9 Axes>"
      ]
     },
     "metadata": {
      "needs_background": "light"
     },
     "output_type": "display_data"
    }
   ],
   "source": [
    "fig, axs = plt.subplots(3, 3, figsize=(11, 11))\n",
    "\n",
    "p1 = sns.histplot(data=Netflix_Data, x=\"release_year\", stat=\"proportion\", bins=15, color=\"skyblue\", ax=axs[0, 0])\n",
    "p1.set_xticks( range(int(Netflix_Data['release_year'].min()) , int(Netflix_Data['release_year'].max()+20) , 20) )\n",
    "p1.set_yticks( np.arange(0, 1, 0.1)  )\n",
    "\n",
    "p2 = sns.histplot(data=Netflix_Data, x=\"runtime\", stat=\"proportion\", bins=15, color=\"olive\", ax=axs[0, 1])\n",
    "p2.axes.set(xlabel='runtime', ylabel=' ')\n",
    "p2.set_xticks( range(int(Netflix_Data['runtime'].min()) , int(Netflix_Data['runtime'].max()) , 100) )\n",
    "p2.set_yticks( np.arange(0, 1, 0.1)  )\n",
    "\n",
    "p3 = sns.histplot(data=Netflix_Data, x=\"seasons\", stat=\"proportion\", bins=15, color=\"blue\", ax=axs[0, 2])\n",
    "p3.axes.set(xlabel='seasons', ylabel=' ')\n",
    "p3.set_xticks( range(int(Netflix_Data['seasons'].min()) , int(Netflix_Data['seasons'].max()) , 4) )\n",
    "p3.set_yticks( np.arange(0, 1, 0.1)  )\n",
    "\n",
    "p4 = sns.histplot(data=Netflix_Data, x=\"imdb_score\", stat=\"proportion\", bins=15, color=\"teal\", ax=axs[1, 0])\n",
    "p4.axes.set(xlabel='imdb_score', ylabel=' ')\n",
    "p4.set_xticks( range(int(Netflix_Data['imdb_score'].min()) , int(Netflix_Data['imdb_score'].max()) , 300) )\n",
    "p4.set_yticks( np.arange(0, 1, 0.1)  )\n",
    "\n",
    "p5 = sns.histplot(data=Netflix_Data, x=\"imdb_votes\", stat=\"proportion\", bins=15, color=\"purple\", ax=axs[1, 1])\n",
    "p5.axes.set(xlabel='imdb_votes', ylabel=' ')\n",
    "p5.set_xticks( range(int(Netflix_Data['imdb_votes'].min()) , int(Netflix_Data['imdb_votes'].max()/2) , 500000) )\n",
    "p5.set_yticks( np.arange(0, 1, 0.1)  )\n",
    "\n",
    "p6 = sns.histplot(data=Netflix_Data, x=\"tmdb_popularity\", stat=\"proportion\", bins=15, color=\"pink\", ax=axs[1, 2])\n",
    "p6.axes.set(xlabel='tmdb_popularity', ylabel=' ')\n",
    "p6.set_xticks( range(int(Netflix_Data['tmdb_popularity'].min()) , int(Netflix_Data['tmdb_popularity'].max()+1) , 1000) )\n",
    "p6.set_yticks( np.arange(0, 1, 0.1)  )\n",
    " \n",
    "p7 = sns.histplot(data=Netflix_Data, x=\"tmdb_score\", stat=\"proportion\", bins=15, color=\"red\", ax=axs[2, 0])\n",
    "p7.axes.set(xlabel='tmdb_score', ylabel=' ')\n",
    "p7.set_xticks( range(int(Netflix_Data['tmdb_score'].min()) , int(Netflix_Data['tmdb_score'].max()+1) , 100) )\n",
    "p7.set_yticks( np.arange(0, 1, 0.1)  )\n",
    "\n",
    "plt.show()"
   ]
  },
  {
   "cell_type": "code",
   "execution_count": 159,
   "metadata": {},
   "outputs": [
    {
     "data": {
      "image/png": "[encoded data removed]",
      "text/plain": [
       "<Figure size 792x792 with 9 Axes>"
      ]
     },
     "metadata": {
      "needs_background": "light"
     },
     "output_type": "display_data"
    }
   ],
   "source": [
    "fig, axs = plt.subplots(3, 3, figsize=(11, 11))\n",
    "\n",
    "p1 = sns.boxplot(data=Netflix_Data, x=\"release_year\", color=\"skyblue\", ax=axs[0, 0])\n",
    "p1.set_xticks( range(int(Netflix_Data['release_year'].min()) , int(Netflix_Data['release_year'].max()+20) , 20) )\n",
    "p1.set_yticks( np.arange(0, 1, 0.1)  )\n",
    "\n",
    "p2 = sns.boxplot(data=Netflix_Data, x=\"runtime\",  color=\"olive\", ax=axs[0, 1])\n",
    "p2.axes.set(xlabel='runtime', ylabel=' ')\n",
    "p2.set_xticks( range(int(Netflix_Data['runtime'].min()) , int(Netflix_Data['runtime'].max()) , 100) )\n",
    "p2.set_yticks( np.arange(0, 1, 0.1)  )\n",
    "\n",
    "p3 = sns.boxplot(data=Netflix_Data, x=\"seasons\", color=\"blue\", ax=axs[0, 2])\n",
    "p3.axes.set(xlabel='seasons', ylabel=' ')\n",
    "p3.set_xticks( range(int(Netflix_Data['seasons'].min()) , int(Netflix_Data['seasons'].max()) , 4) )\n",
    "p3.set_yticks( np.arange(0, 1, 0.1)  )\n",
    "\n",
    "p4 = sns.boxplot(data=Netflix_Data, x=\"imdb_score\", color=\"teal\", ax=axs[1, 0])\n",
    "p4.axes.set(xlabel='imdb_score', ylabel=' ')\n",
    "p4.set_xticks( range(int(Netflix_Data['imdb_score'].min()) , int(Netflix_Data['imdb_score'].max()) , 300) )\n",
    "p4.set_yticks( np.arange(0, 1, 0.1)  )\n",
    "\n",
    "p5 = sns.boxplot(data=Netflix_Data, x=\"imdb_votes\", color=\"purple\", ax=axs[1, 1])\n",
    "p5.axes.set(xlabel='imdb_votes', ylabel=' ')\n",
    "p5.set_xticks( range(int(Netflix_Data['imdb_votes'].min()) , int(Netflix_Data['imdb_votes'].max()/2) , 500000) )\n",
    "p5.set_yticks( np.arange(0, 1, 0.1)  )\n",
    "\n",
    "p6 = sns.boxplot(data=Netflix_Data, x=\"tmdb_popularity\", color=\"pink\", ax=axs[1, 2])\n",
    "p6.axes.set(xlabel='tmdb_popularity', ylabel=' ')\n",
    "p6.set_xticks( range(int(Netflix_Data['tmdb_popularity'].min()) , int(Netflix_Data['tmdb_popularity'].max()+1) , 1000) )\n",
    "p6.set_yticks( np.arange(0, 1, 0.1)  )\n",
    " \n",
    "p7 = sns.boxplot(data=Netflix_Data, x=\"tmdb_score\", color=\"red\", ax=axs[2, 0])\n",
    "p7.axes.set(xlabel='tmdb_score', ylabel=' ')\n",
    "p7.set_xticks( range(int(Netflix_Data['tmdb_score'].min()) , int(Netflix_Data['tmdb_score'].max()+1) , 2) )\n",
    "p7.set_yticks( np.arange(0, 1, 0.1)  )\n",
    "\n",
    "plt.show()"
   ]
  },
  {
   "cell_type": "code",
   "execution_count": 160,
   "metadata": {},
   "outputs": [
    {
     "data": {
      "image/png": "[encoded data removed]",
      "text/plain": [
       "<Figure size 792x792 with 9 Axes>"
      ]
     },
     "metadata": {
      "needs_background": "light"
     },
     "output_type": "display_data"
    }
   ],
   "source": [
    "fig, axs = plt.subplots(3, 3, figsize=(11, 11))\n",
    "\n",
    "p1 = sns.ecdfplot(data=Netflix_Data, x=\"release_year\", color=\"skyblue\", ax=axs[0, 0])\n",
    "p1.set_xticks( range(int(Netflix_Data['release_year'].min()) , int(Netflix_Data['release_year'].max()+20) , 20) )\n",
    "p1.set_yticks( np.arange(0, 1, 0.1)  )\n",
    "\n",
    "p2 = sns.ecdfplot(data=Netflix_Data, x=\"runtime\",  color=\"olive\", ax=axs[0, 1])\n",
    "p2.axes.set(xlabel='runtime', ylabel=' ')\n",
    "p2.set_xticks( range(int(Netflix_Data['runtime'].min()) , int(Netflix_Data['runtime'].max()) , 100) )\n",
    "p2.set_yticks( np.arange(0, 1, 0.1)  )\n",
    "\n",
    "p3 = sns.ecdfplot(data=Netflix_Data, x=\"seasons\", color=\"blue\", ax=axs[0, 2])\n",
    "p3.axes.set(xlabel='seasons', ylabel=' ')\n",
    "p3.set_xticks( range(int(Netflix_Data['seasons'].min()) , int(Netflix_Data['seasons'].max()) , 4) )\n",
    "p3.set_yticks( np.arange(0, 1, 0.1)  )\n",
    "\n",
    "p4 = sns.ecdfplot(data=Netflix_Data, x=\"imdb_score\", color=\"teal\", ax=axs[1, 0])\n",
    "p4.axes.set(xlabel='imdb_score', ylabel=' ')\n",
    "p4.set_xticks( range(int(Netflix_Data['imdb_score'].min()) , int(Netflix_Data['imdb_score'].max()) , 300) )\n",
    "p4.set_yticks( np.arange(0, 1, 0.1)  )\n",
    "\n",
    "p5 = sns.ecdfplot(data=Netflix_Data, x=\"imdb_votes\", color=\"purple\", ax=axs[1, 1])\n",
    "p5.axes.set(xlabel='imdb_votes', ylabel=' ')\n",
    "p5.set_xticks( range(int(Netflix_Data['imdb_votes'].min()) , int(Netflix_Data['imdb_votes'].max()/2) , 500000) )\n",
    "p5.set_yticks( np.arange(0, 1, 0.1)  )\n",
    "\n",
    "p6 = sns.ecdfplot(data=Netflix_Data, x=\"tmdb_popularity\", color=\"pink\", ax=axs[1, 2])\n",
    "p6.axes.set(xlabel='tmdb_popularity', ylabel=' ')\n",
    "p6.set_xticks( range(int(Netflix_Data['tmdb_popularity'].min()) , int(Netflix_Data['tmdb_popularity'].max()+1) , 1000) )\n",
    "p6.set_yticks( np.arange(0, 1, 0.1)  )\n",
    " \n",
    "p7 = sns.ecdfplot(data=Netflix_Data, x=\"tmdb_score\", color=\"red\", ax=axs[2, 0])\n",
    "p7.axes.set(xlabel='tmdb_score', ylabel=' ')\n",
    "p7.set_xticks( range(int(Netflix_Data['tmdb_score'].min()) , int(Netflix_Data['tmdb_score'].max()+1) , 50) )\n",
    "p7.set_yticks( np.arange(0, 1, 0.1)  )\n",
    "\n",
    "plt.show()"
   ]
  },
  {
   "cell_type": "markdown",
   "metadata": {},
   "source": []
  },
  {
   "cell_type": "markdown",
   "metadata": {},
   "source": [
    "## Analisis con  variables cuantitativas recortadas (trimmed)"
   ]
  },
  {
   "cell_type": "code",
   "execution_count": 164,
   "metadata": {},
   "outputs": [],
   "source": [
    "def Trimmed_Outliers(df, variable_name):\n",
    "\n",
    "    Q1 = df[variable_name].quantile(q=0.25)\n",
    "    Q3 = df[variable_name].quantile(q=0.75)\n",
    "\n",
    "    IQR = Q3 - Q1\n",
    "\n",
    "    upper_bound = Q3 + 1.5*IQR\n",
    "\n",
    "    lower_bound = Q1 - 1.5*IQR\n",
    "\n",
    "    variable_trimmed = df.loc[ ( df[variable_name] >= Q1 - 1.5*IQR ) &  ( df[variable_name] <= Q3 + 1.5*IQR ) , variable_name ]\n",
    "\n",
    "    return(variable_trimmed)"
   ]
  },
  {
   "cell_type": "markdown",
   "metadata": {},
   "source": [
    "seasons , imdb_votes, tmdb_popularity"
   ]
  },
  {
   "cell_type": "code",
   "execution_count": 168,
   "metadata": {},
   "outputs": [
    {
     "data": {
      "image/png": "[encoded data removed]",
      "text/plain": [
       "<Figure size 792x792 with 9 Axes>"
      ]
     },
     "metadata": {
      "needs_background": "light"
     },
     "output_type": "display_data"
    }
   ],
   "source": [
    "fig, axs = plt.subplots(3, 3, figsize=(11, 11))\n",
    "\n",
    "p1 = sns.boxplot(data=Netflix_Data, x=\"release_year\", color=\"skyblue\", ax=axs[0, 0])\n",
    "p1.set_xticks( range(int(Netflix_Data['release_year'].min()) , int(Netflix_Data['release_year'].max()+20) , 20) )\n",
    "p1.set_yticks( np.arange(0, 1, 0.1)  )\n",
    "\n",
    "p2 = sns.boxplot(data=Netflix_Data, x=\"runtime\",  color=\"olive\", ax=axs[0, 1])\n",
    "p2.axes.set(xlabel='runtime', ylabel=' ')\n",
    "p2.set_xticks( range(int(Netflix_Data['runtime'].min()) , int(Netflix_Data['runtime'].max()) , 100) )\n",
    "p2.set_yticks( np.arange(0, 1, 0.1)  )\n",
    "\n",
    "p3 = sns.boxplot(data=pd.DataFrame(Trimmed_Outliers(Netflix_Data, 'seasons')) , x=\"seasons\", color=\"blue\", ax=axs[0,2])\n",
    "p3.axes.set(xlabel='seasons_trimmed', ylabel=' ')\n",
    "p3.set_xticks( range(int(Trimmed_Outliers(Netflix_Data, 'seasons').min()) , int(Trimmed_Outliers(Netflix_Data, 'seasons').max()+1) , 1) )\n",
    "p3.set_yticks( np.arange(0, 1, 0.1)  )\n",
    "\n",
    "p4 = sns.boxplot(data=Netflix_Data, x=\"imdb_score\", color=\"teal\", ax=axs[1, 0])\n",
    "p4.axes.set(xlabel='imdb_score', ylabel=' ')\n",
    "p4.set_xticks( range(int(Netflix_Data['imdb_score'].min()) , int(Netflix_Data['imdb_score'].max()) , 300) )\n",
    "p4.set_yticks( np.arange(0, 1, 0.1)  )\n",
    "\n",
    "p5 = sns.boxplot(data=pd.DataFrame(Trimmed_Outliers(Netflix_Data, 'imdb_votes')) , x=\"imdb_votes\", color=\"purple\", ax=axs[1,1])\n",
    "p5.axes.set(xlabel='imdb_votes_trimmed', ylabel=' ')\n",
    "p5.set_xticks( range(int(Trimmed_Outliers(Netflix_Data, 'imdb_votes').min()) , int(Trimmed_Outliers(Netflix_Data, 'imdb_votes').max()/2) , 500000) )\n",
    "p5.set_yticks( np.arange(0, 1, 0.1)  )\n",
    "\n",
    "p6 = sns.boxplot(data=pd.DataFrame(Trimmed_Outliers(Netflix_Data, 'tmdb_popularity')) , x=\"tmdb_popularity\", color=\"purple\", ax=axs[1,2])\n",
    "p6.axes.set(xlabel='tmdb_popularity_trimmed', ylabel=' ')\n",
    "p6.set_xticks( range(int(Trimmed_Outliers(Netflix_Data, 'tmdb_popularity').min()) , int(Trimmed_Outliers(Netflix_Data, 'tmdb_popularity').max()) , 1000) )\n",
    "p6.set_yticks( np.arange(0, 1, 0.1)  )\n",
    " \n",
    "p7 = sns.boxplot(data=Netflix_Data, x=\"tmdb_score\", color=\"red\", ax=axs[2, 0])\n",
    "p7.axes.set(xlabel='tmdb_score', ylabel=' ')\n",
    "p7.set_xticks( range(int(Netflix_Data['tmdb_score'].min()) , int(Netflix_Data['tmdb_score'].max()+1) , 2) )\n",
    "p7.set_yticks( np.arange(0, 1, 0.1)  )\n",
    "\n",
    "plt.show()"
   ]
  },
  {
   "cell_type": "code",
   "execution_count": 163,
   "metadata": {},
   "outputs": [
    {
     "data": {
      "image/png": "[encoded data removed]",
      "text/plain": [
       "<Figure size 864x432 with 2 Axes>"
      ]
     },
     "metadata": {
      "needs_background": "light"
     },
     "output_type": "display_data"
    }
   ],
   "source": [
    "fig, axs = plt.subplots(1, 2, figsize=(12, 6))\n",
    "\n",
    "p1 = sns.boxplot(data=Netflix_Data, x=\"seasons\", color=\"blue\", ax=axs[0])\n",
    "p1.axes.set(xlabel='seasons', ylabel=' ')\n",
    "p1.set_xticks( range(int(Netflix_Data['seasons'].min()) , int(Netflix_Data['seasons'].max()) , 4) )\n",
    "p1.set_yticks( np.arange(0, 1, 0.1)  )\n",
    "\n",
    "p2 = sns.boxplot(data=pd.DataFrame(Trimmed_Outliers(Netflix_Data, 'seasons')) , x=\"seasons\", color=\"blue\", ax=axs[1])\n",
    "p2.axes.set(xlabel='seasons_trimmed', ylabel=' ')\n",
    "p2.set_xticks( range(int(Trimmed_Outliers(Netflix_Data, 'seasons').min()) , int(Trimmed_Outliers(Netflix_Data, 'seasons').max()+1) , 1) )\n",
    "p2.set_yticks( np.arange(0, 1, 0.1)  )\n",
    "\n",
    "plt.show()"
   ]
  },
  {
   "cell_type": "markdown",
   "metadata": {},
   "source": []
  }
 ],
 "metadata": {
  "kernelspec": {
   "display_name": "Python 3.10.0 64-bit",
   "language": "python",
   "name": "python3"
  },
  "language_info": {
   "codemirror_mode": {
    "name": "ipython",
    "version": 3
   },
   "file_extension": ".py",
   "mimetype": "text/x-python",
   "name": "python",
   "nbconvert_exporter": "python",
   "pygments_lexer": "ipython3",
   "version": "3.10.0"
  },
  "orig_nbformat": 4,
  "vscode": {
   "interpreter": {
    "hash": "c63d8c7d738c2960218a10995aedf0a7f67a49a231e71037adf0440953cdb45b"
   }
  }
 },
 "nbformat": 4,
 "nbformat_minor": 2
}
