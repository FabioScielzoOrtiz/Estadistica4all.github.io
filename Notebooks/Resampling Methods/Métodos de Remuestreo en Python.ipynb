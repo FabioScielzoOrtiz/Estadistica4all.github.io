{
 "cells": [
  {
   "cell_type": "markdown",
   "metadata": {},
   "source": [
    "## Jacknife"
   ]
  },
  {
   "cell_type": "markdown",
   "metadata": {},
   "source": [
    "El método Jacknife fue propuesto para estimar errores estándar y sesgos."
   ]
  },
  {
   "cell_type": "markdown",
   "metadata": {},
   "source": [
    "Dada una variable muestral $X_j=(x_{j}, x_{2j},..., x_{nj})^t\\hspace{0.2cm}$  y un estidímador $\\hspace{0.2cm}\\widehat{\\theta}= f(X_j)$ del parametro poblacional $\\theta$"
   ]
  },
  {
   "cell_type": "markdown",
   "metadata": {},
   "source": []
  },
  {
   "cell_type": "markdown",
   "metadata": {},
   "source": [
    "El sesgo del estimador $\\widehat{\\theta}$ se define como:\n",
    "\n",
    "$$Sesgo(\\widehat{\\theta}) = E \\left[ \\hspace{0.05cm} \\widehat{\\theta} \\hspace{0.05cm} \\right]- \\theta$$"
   ]
  },
  {
   "cell_type": "markdown",
   "metadata": {},
   "source": [
    "La varianza del estimador $\\widehat{\\theta}$ se define como:\n",
    "\n",
    "$$Var(\\widehat{\\theta}) = E \\left[ \\hspace{0.05cm} \\left( \\widehat{\\theta} - E [ \\hspace{0.05cm} \\widehat{\\theta} \\hspace{0.05cm}  ] \\right)^2 \\hspace{0.05cm} \\right]$$"
   ]
  },
  {
   "cell_type": "markdown",
   "metadata": {},
   "source": [
    "El error estandar (desviación típica) del estimador $\\widehat{\\theta}$ se define como:"
   ]
  },
  {
   "cell_type": "markdown",
   "metadata": {},
   "source": [
    "$$s.e.(\\widehat{\\theta}) = \\sqrt{Var(\\widehat{\\theta})}$$"
   ]
  },
  {
   "cell_type": "markdown",
   "metadata": {},
   "source": []
  },
  {
   "cell_type": "markdown",
   "metadata": {},
   "source": []
  },
  {
   "cell_type": "markdown",
   "metadata": {},
   "source": [
    "Se define la muestra $r$-esima de $X_j$ como:\n",
    "\n",
    "$$X_{(r)j} = (x_{1j}, x_{2j},..,x_{r-1,j},x_{r+1,j} ,.., x_{nj}) \\hspace{0.4cm}$$  \n",
    "\n",
    "para  $\\hspace{0.2cm} r=1,...,n$"
   ]
  },
  {
   "cell_type": "markdown",
   "metadata": {},
   "source": [
    "Se define la replica $r$-esima del estimador $\\widehat{\\theta}$ como:\n",
    "\n",
    "$$\\hat{\\theta}_{(r)} = f(X_{(r)j})$$"
   ]
  },
  {
   "cell_type": "markdown",
   "metadata": {},
   "source": []
  },
  {
   "cell_type": "markdown",
   "metadata": {},
   "source": [
    "El **estimador Jacknife** del **sesgo** del estimador $\\widehat{\\theta}$ se define como:"
   ]
  },
  {
   "cell_type": "markdown",
   "metadata": {},
   "source": [
    "$$\\widehat{Sesgo}(\\widehat{\\theta})_{Jack} =  (n-1) \\cdot \\left(  \\widehat{\\theta}_{(\\cdot)} - \\widehat{\\theta} \\right)$$"
   ]
  },
  {
   "cell_type": "markdown",
   "metadata": {},
   "source": [
    "Donde: \n",
    "\n",
    "$$\\widehat{\\theta}_{(\\cdot)} = \\dfrac{1}{n} \\cdot \\sum_{r=1}^{n} \\widehat{\\theta}_{(r)}$$"
   ]
  },
  {
   "cell_type": "markdown",
   "metadata": {},
   "source": []
  },
  {
   "cell_type": "markdown",
   "metadata": {},
   "source": [
    "El **estimador Jacknife** de la **varianza** del estimador $\\widehat{\\theta}$ se define como:"
   ]
  },
  {
   "cell_type": "markdown",
   "metadata": {},
   "source": [
    "$$\\widehat{ Var}(\\widehat{\\theta})_{Jack} =  \\dfrac{n-1}{n} \\cdot \\sum_{r=1}^{n} \\left( \\widehat{\\theta}_{(r)} - \\dfrac{1}{n} \\sum_{r=1}^{n} \\widehat{\\theta}_{(r)}  \\right)$$"
   ]
  },
  {
   "cell_type": "markdown",
   "metadata": {},
   "source": []
  },
  {
   "cell_type": "markdown",
   "metadata": {},
   "source": [
    "El **estimador Jacknife** del **error estandar** del estimador $\\widehat{\\theta}$ se define como:"
   ]
  },
  {
   "cell_type": "markdown",
   "metadata": {},
   "source": [
    "$$\\widehat{ s.e.}(\\widehat{\\theta})_{Jack} = \\sqrt{ \\dfrac{n-1}{n} \\cdot \\sum_{r=1}^{n} \\left( \\widehat{\\theta}_{(r)} - \\dfrac{1}{n} \\sum_{r=1}^{n} \\widehat{\\theta}_{(r)}  \\right)}$$"
   ]
  },
  {
   "cell_type": "markdown",
   "metadata": {},
   "source": []
  },
  {
   "cell_type": "markdown",
   "metadata": {},
   "source": [
    "**Observación:**\n",
    "\n",
    "El Jacknife funciona bien cuando el estimador es suave (smooth). \n",
    "\n",
    "Un estimador es suave cuando ante pequeños cambios en la muestra de datos genera pequeños cambios en el estimador.\n",
    "\n",
    "Ejemplo de estimador suave es el estimador plug-in de la media poblacional, es decir la media muestral.\n",
    "\n",
    "Ejemplo de estimador no suave es el estimador plug-in de la mediana poblacional, es decir la mediana muestral"
   ]
  },
  {
   "cell_type": "markdown",
   "metadata": {},
   "source": []
  },
  {
   "cell_type": "markdown",
   "metadata": {},
   "source": [
    "### Aplicación del Jacknife en `Python`"
   ]
  }
 ],
 "metadata": {
  "kernelspec": {
   "display_name": "Python 3.10.0 64-bit",
   "language": "python",
   "name": "python3"
  },
  "language_info": {
   "name": "python",
   "version": "3.10.0"
  },
  "orig_nbformat": 4,
  "vscode": {
   "interpreter": {
    "hash": "c63d8c7d738c2960218a10995aedf0a7f67a49a231e71037adf0440953cdb45b"
   }
  }
 },
 "nbformat": 4,
 "nbformat_minor": 2
}
