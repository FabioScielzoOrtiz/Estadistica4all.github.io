{
 "cells": [
  {
   "cell_type": "markdown",
   "metadata": {},
   "source": [
    "## Jacknife"
   ]
  },
  {
   "cell_type": "code",
   "execution_count": 1,
   "metadata": {},
   "outputs": [],
   "source": [
    "import numpy as np"
   ]
  },
  {
   "cell_type": "markdown",
   "metadata": {},
   "source": []
  },
  {
   "cell_type": "code",
   "execution_count": 2,
   "metadata": {},
   "outputs": [],
   "source": [
    "def Jacknife(X , estimador, q=0.75):\n",
    "\n",
    "#######################################################\n",
    "\n",
    "    if estimador == 'median':\n",
    "\n",
    "        def Jacknife_sample(X , r):\n",
    "\n",
    "            X_sample_r = np.delete(X, r)\n",
    "\n",
    "            return(X_sample_r)\n",
    "\n",
    "        \n",
    "        replicas_estimador = []\n",
    "\n",
    "        for r in range(0, len(X)):\n",
    "\n",
    "            replicas_estimador.append( np.median( Jacknife_sample(X , r) ) )\n",
    "\n",
    "    \n",
    "        n = len(X)\n",
    "\n",
    "        sesgo = (n-1) * ( np.mean( replicas_estimador ) - np.median(X) )\n",
    "\n",
    "        estimacion_sesgo_corregido = np.median(X) - sesgo\n",
    "\n",
    "        standard_error = np.sqrt( ((n-1)/n) * sum( (replicas_estimador - np.mean( replicas_estimador ))**2 ) )\n",
    "\n",
    " #######################################################   \n",
    "\n",
    "    if estimador == 'mean':\n",
    "\n",
    "        def Jacknife_sample(X , r):\n",
    "\n",
    "            X_sample_r = np.delete(X, r)\n",
    "\n",
    "            return(X_sample_r)\n",
    "\n",
    "        \n",
    "        replicas_estimador = []\n",
    "\n",
    "        for r in range(0, len(X)):\n",
    "\n",
    "            replicas_estimador.append( np.mean( Jacknife_sample(X , r) ) )\n",
    "\n",
    "    \n",
    "        n = len(X)\n",
    "\n",
    "        sesgo = (n-1) * ( np.mean( replicas_estimador ) - np.mean(X) )\n",
    "\n",
    "        estimacion_sesgo_corregido = np.mean(X) - sesgo\n",
    "\n",
    "        standard_error = np.sqrt( ((n-1)/n) * sum( (replicas_estimador - np.mean( replicas_estimador ))**2 ) )\n",
    "\n",
    "\n",
    "#######################################################\n",
    "\n",
    "    if estimador == 'std':\n",
    "\n",
    "        def Jacknife_sample(Xj , r):\n",
    "\n",
    "            X_sample_r = np.delete(Xj, r)\n",
    "\n",
    "            return(X_sample_r)\n",
    "\n",
    "        \n",
    "        replicas_estimador = []\n",
    "\n",
    "        for r in range(0, len(X)):\n",
    "\n",
    "            replicas_estimador.append( np.std( Jacknife_sample(X , r) ) )\n",
    "\n",
    "    \n",
    "        n = len(X)\n",
    "\n",
    "        sesgo = (n-1) * ( np.mean( replicas_estimador ) - np.std(X) )\n",
    "\n",
    "        estimacion_sesgo_corregido = np.std(X) - sesgo\n",
    "\n",
    "        standard_error = np.sqrt( ((n-1)/n) * sum( (replicas_estimador - np.mean( replicas_estimador ))**2 ) )\n",
    "\n",
    "\n",
    "#######################################################\n",
    "\n",
    "    if estimador == 'quantile':\n",
    "\n",
    "        def Jacknife_sample(X , r):\n",
    "\n",
    "            X_sample_r = np.delete(X, r)\n",
    "\n",
    "            return(X_sample_r)\n",
    "\n",
    "        \n",
    "        replicas_estimador = []\n",
    "\n",
    "        for r in range(0, len(X)):\n",
    "\n",
    "            replicas_estimador.append( np.quantile( Jacknife_sample(X , r) , q) )\n",
    "\n",
    "    \n",
    "        n = len(X)\n",
    "\n",
    "        sesgo = (n-1) * ( np.mean( replicas_estimador ) - np.quantile(X , q) )\n",
    "\n",
    "        estimacion_sesgo_corregido = np.quantile(X , q) - sesgo\n",
    "\n",
    "        standard_error = np.sqrt( ((n-1)/n) * sum( (replicas_estimador - np.mean( replicas_estimador ))**2 ) )\n",
    "\n",
    "#######################################################\n",
    "\n",
    "    if estimador == 'kurtosis':\n",
    "\n",
    "        import scipy\n",
    "\n",
    "        from scipy.stats import  kurtosis\n",
    "\n",
    "        def Jacknife_sample(X , r):\n",
    "\n",
    "            X_sample_r = np.delete(X, r)\n",
    "\n",
    "            return(X_sample_r)\n",
    "\n",
    "        \n",
    "        replicas_estimador = []\n",
    "\n",
    "        for r in range(0, len(X)):\n",
    "\n",
    "            replicas_estimador.append( kurtosis(X) )\n",
    "\n",
    "    \n",
    "        n = len(X)\n",
    "\n",
    "        sesgo = (n-1) * ( np.mean( replicas_estimador ) - kurtosis(X) )\n",
    "\n",
    "        estimacion_sesgo_corregido = kurtosis(X) - sesgo\n",
    "\n",
    "        standard_error = np.sqrt( ((n-1)/n) * sum( (replicas_estimador - np.mean( replicas_estimador ))**2 ) )\n",
    "\n",
    "\n",
    "#######################################################\n",
    "     \n",
    "#######################################################\n",
    "\n",
    "    if estimador == 'skewness':\n",
    "\n",
    "        import scipy\n",
    "\n",
    "        from scipy.stats import  skew\n",
    "\n",
    "        def Jacknife_sample(X , r):\n",
    "\n",
    "            X_sample_r = np.delete(X, r)\n",
    "\n",
    "            return(X_sample_r)\n",
    "\n",
    "        \n",
    "        replicas_estimador = []\n",
    "\n",
    "        for r in range(0, len(X)):\n",
    "\n",
    "            replicas_estimador.append( skew(X) )\n",
    "\n",
    "    \n",
    "        n = len(X)\n",
    "\n",
    "        sesgo = (n-1) * ( np.mean( replicas_estimador ) - skew(X) )\n",
    "\n",
    "        estimacion_sesgo_corregido = skew(X) - sesgo\n",
    "\n",
    "        standard_error = np.sqrt( ((n-1)/n) * sum( (replicas_estimador - np.mean( replicas_estimador ))**2 ) )\n",
    "\n",
    "\n",
    "#######################################################\n",
    "    \n",
    "    return(sesgo, estimacion_sesgo_corregido, standard_error)"
   ]
  },
  {
   "cell_type": "code",
   "execution_count": 3,
   "metadata": {},
   "outputs": [],
   "source": [
    "def Jacknife(Variable , estimator_function, q=0.75):\n",
    "\n",
    "#######################################################\n",
    "\n",
    "    def Jacknife_sample(X , r):\n",
    "\n",
    "            X_sample_r = np.delete(X, r)\n",
    "\n",
    "            return(X_sample_r)\n",
    "\n",
    "\n",
    "    if estimator_function == np.quantile :  estimation = estimator_function(Variable , q=q)\n",
    "\n",
    "    else :  estimation = estimator_function(Variable)\n",
    "\n",
    "        \n",
    "    replicas_estimador = []\n",
    "\n",
    "    for r in range(0, len(Variable)):\n",
    "\n",
    "        if estimator_function == np.quantile :  Jack_estimation = estimator_function( Jacknife_sample(Variable, r) , q=q )\n",
    "\n",
    "        else :  Jack_estimation = estimator_function( Jacknife_sample(Variable, r) )\n",
    "\n",
    "        replicas_estimador.append( Jack_estimation )\n",
    "\n",
    "    \n",
    "    n = len(Variable)\n",
    "\n",
    "    sesgo = (n-1) * ( np.mean( replicas_estimador ) - estimation )\n",
    "\n",
    "    estimacion_sesgo_corregido = estimation - sesgo\n",
    "\n",
    "    standard_error = np.sqrt( ((n-1)/n) * sum( (replicas_estimador - np.mean( replicas_estimador ))**2 ) )\n",
    "\n",
    "\n",
    "#######################################################\n",
    "    \n",
    "    return(sesgo, estimacion_sesgo_corregido, standard_error)"
   ]
  },
  {
   "cell_type": "code",
   "execution_count": 4,
   "metadata": {},
   "outputs": [],
   "source": [
    "np.random.seed(123)\n",
    "\n",
    "X = np.random.normal(loc=10, scale=15, size=50)"
   ]
  },
  {
   "cell_type": "code",
   "execution_count": 5,
   "metadata": {},
   "outputs": [
    {
     "data": {
      "text/plain": [
       "8.23916733155832"
      ]
     },
     "execution_count": 5,
     "metadata": {},
     "output_type": "execute_result"
    }
   ],
   "source": [
    "np.median(X)"
   ]
  },
  {
   "cell_type": "code",
   "execution_count": 6,
   "metadata": {},
   "outputs": [],
   "source": [
    "sesgo, estimacion_sesgo_corregido, standard_error = Jacknife(X , estimator_function=np.median , q=0.75)"
   ]
  },
  {
   "cell_type": "code",
   "execution_count": 7,
   "metadata": {},
   "outputs": [
    {
     "data": {
      "text/plain": [
       "8.704148513061227e-14"
      ]
     },
     "execution_count": 7,
     "metadata": {},
     "output_type": "execute_result"
    }
   ],
   "source": [
    "sesgo"
   ]
  },
  {
   "cell_type": "code",
   "execution_count": 8,
   "metadata": {},
   "outputs": [
    {
     "data": {
      "text/plain": [
       "8.239167331558233"
      ]
     },
     "execution_count": 8,
     "metadata": {},
     "output_type": "execute_result"
    }
   ],
   "source": [
    "estimacion_sesgo_corregido"
   ]
  },
  {
   "cell_type": "code",
   "execution_count": 9,
   "metadata": {},
   "outputs": [
    {
     "data": {
      "text/plain": [
       "2.381386940718188"
      ]
     },
     "execution_count": 9,
     "metadata": {},
     "output_type": "execute_result"
    }
   ],
   "source": [
    "standard_error"
   ]
  },
  {
   "cell_type": "markdown",
   "metadata": {},
   "source": []
  },
  {
   "cell_type": "code",
   "execution_count": 10,
   "metadata": {},
   "outputs": [
    {
     "data": {
      "text/plain": [
       "10.199071616256777"
      ]
     },
     "execution_count": 10,
     "metadata": {},
     "output_type": "execute_result"
    }
   ],
   "source": [
    "np.mean(X)"
   ]
  },
  {
   "cell_type": "code",
   "execution_count": 11,
   "metadata": {},
   "outputs": [],
   "source": [
    "sesgo, estimacion_sesgo_corregido, standard_error = Jacknife(X , estimator_function=np.mean)"
   ]
  },
  {
   "cell_type": "code",
   "execution_count": 12,
   "metadata": {},
   "outputs": [
    {
     "data": {
      "text/plain": [
       "-8.704148513061227e-14"
      ]
     },
     "execution_count": 12,
     "metadata": {},
     "output_type": "execute_result"
    }
   ],
   "source": [
    "sesgo"
   ]
  },
  {
   "cell_type": "code",
   "execution_count": 13,
   "metadata": {},
   "outputs": [
    {
     "data": {
      "text/plain": [
       "10.199071616256864"
      ]
     },
     "execution_count": 13,
     "metadata": {},
     "output_type": "execute_result"
    }
   ],
   "source": [
    "estimacion_sesgo_corregido"
   ]
  },
  {
   "cell_type": "code",
   "execution_count": 14,
   "metadata": {},
   "outputs": [
    {
     "data": {
      "text/plain": [
       "2.5491917443460235"
      ]
     },
     "execution_count": 14,
     "metadata": {},
     "output_type": "execute_result"
    }
   ],
   "source": [
    "standard_error"
   ]
  },
  {
   "cell_type": "markdown",
   "metadata": {},
   "source": []
  },
  {
   "cell_type": "code",
   "execution_count": 15,
   "metadata": {},
   "outputs": [
    {
     "data": {
      "text/plain": [
       "17.844342210422187"
      ]
     },
     "execution_count": 15,
     "metadata": {},
     "output_type": "execute_result"
    }
   ],
   "source": [
    "np.std(X)"
   ]
  },
  {
   "cell_type": "code",
   "execution_count": 16,
   "metadata": {},
   "outputs": [],
   "source": [
    "sesgo, estimacion_sesgo_corregido, standard_error = Jacknife(X , estimator_function=np.std)"
   ]
  },
  {
   "cell_type": "code",
   "execution_count": 17,
   "metadata": {},
   "outputs": [
    {
     "data": {
      "text/plain": [
       "-0.26116994703598806"
      ]
     },
     "execution_count": 17,
     "metadata": {},
     "output_type": "execute_result"
    }
   ],
   "source": [
    "sesgo"
   ]
  },
  {
   "cell_type": "code",
   "execution_count": 18,
   "metadata": {},
   "outputs": [
    {
     "data": {
      "text/plain": [
       "18.105512157458175"
      ]
     },
     "execution_count": 18,
     "metadata": {},
     "output_type": "execute_result"
    }
   ],
   "source": [
    "estimacion_sesgo_corregido"
   ]
  },
  {
   "cell_type": "code",
   "execution_count": 19,
   "metadata": {},
   "outputs": [
    {
     "data": {
      "text/plain": [
       "1.6795955569730596"
      ]
     },
     "execution_count": 19,
     "metadata": {},
     "output_type": "execute_result"
    }
   ],
   "source": [
    "standard_error"
   ]
  },
  {
   "cell_type": "code",
   "execution_count": 20,
   "metadata": {},
   "outputs": [
    {
     "data": {
      "text/plain": [
       "23.835596841535178"
      ]
     },
     "execution_count": 20,
     "metadata": {},
     "output_type": "execute_result"
    }
   ],
   "source": [
    "np.quantile(X , q=0.75)"
   ]
  },
  {
   "cell_type": "code",
   "execution_count": 21,
   "metadata": {},
   "outputs": [],
   "source": [
    "sesgo, estimacion_sesgo_corregido, standard_error = Jacknife(X , np.quantile, q=0.75)"
   ]
  },
  {
   "cell_type": "code",
   "execution_count": 22,
   "metadata": {},
   "outputs": [
    {
     "data": {
      "text/plain": [
       "-0.14962568429344003"
      ]
     },
     "execution_count": 22,
     "metadata": {},
     "output_type": "execute_result"
    }
   ],
   "source": [
    "sesgo"
   ]
  },
  {
   "cell_type": "code",
   "execution_count": 23,
   "metadata": {},
   "outputs": [
    {
     "data": {
      "text/plain": [
       "23.98522252582862"
      ]
     },
     "execution_count": 23,
     "metadata": {},
     "output_type": "execute_result"
    }
   ],
   "source": [
    "estimacion_sesgo_corregido"
   ]
  },
  {
   "cell_type": "code",
   "execution_count": 24,
   "metadata": {},
   "outputs": [
    {
     "data": {
      "text/plain": [
       "0.9375849844484524"
      ]
     },
     "execution_count": 24,
     "metadata": {},
     "output_type": "execute_result"
    }
   ],
   "source": [
    "standard_error"
   ]
  },
  {
   "cell_type": "code",
   "execution_count": 25,
   "metadata": {},
   "outputs": [],
   "source": [
    "import scipy\n",
    "\n",
    "from scipy.stats import  kurtosis"
   ]
  },
  {
   "cell_type": "code",
   "execution_count": 26,
   "metadata": {},
   "outputs": [
    {
     "data": {
      "text/plain": [
       "-0.37420768292897266"
      ]
     },
     "execution_count": 26,
     "metadata": {},
     "output_type": "execute_result"
    }
   ],
   "source": [
    "kurtosis(X)"
   ]
  },
  {
   "cell_type": "code",
   "execution_count": 27,
   "metadata": {},
   "outputs": [],
   "source": [
    "sesgo, estimacion_sesgo_corregido, standard_error = Jacknife(X , estimator_function=kurtosis)"
   ]
  },
  {
   "cell_type": "code",
   "execution_count": 28,
   "metadata": {},
   "outputs": [
    {
     "data": {
      "text/plain": [
       "-0.03624894442748883"
      ]
     },
     "execution_count": 28,
     "metadata": {},
     "output_type": "execute_result"
    }
   ],
   "source": [
    "sesgo"
   ]
  },
  {
   "cell_type": "code",
   "execution_count": 29,
   "metadata": {},
   "outputs": [
    {
     "data": {
      "text/plain": [
       "-0.33795873850148384"
      ]
     },
     "execution_count": 29,
     "metadata": {},
     "output_type": "execute_result"
    }
   ],
   "source": [
    "estimacion_sesgo_corregido"
   ]
  },
  {
   "cell_type": "code",
   "execution_count": 30,
   "metadata": {},
   "outputs": [
    {
     "data": {
      "text/plain": [
       "0.3609496287814513"
      ]
     },
     "execution_count": 30,
     "metadata": {},
     "output_type": "execute_result"
    }
   ],
   "source": [
    "standard_error"
   ]
  },
  {
   "cell_type": "code",
   "execution_count": 31,
   "metadata": {},
   "outputs": [],
   "source": [
    "import scipy\n",
    "\n",
    "from scipy.stats import  skew"
   ]
  },
  {
   "cell_type": "code",
   "execution_count": 32,
   "metadata": {},
   "outputs": [
    {
     "data": {
      "text/plain": [
       "0.025587358812510053"
      ]
     },
     "execution_count": 32,
     "metadata": {},
     "output_type": "execute_result"
    }
   ],
   "source": [
    "skew(X)\n"
   ]
  },
  {
   "cell_type": "code",
   "execution_count": 33,
   "metadata": {},
   "outputs": [],
   "source": [
    "sesgo, estimacion_sesgo_corregido, standard_error = Jacknife(X , estimator_function=skew)"
   ]
  },
  {
   "cell_type": "code",
   "execution_count": 34,
   "metadata": {},
   "outputs": [
    {
     "data": {
      "text/plain": [
       "0.021610720628010085"
      ]
     },
     "execution_count": 34,
     "metadata": {},
     "output_type": "execute_result"
    }
   ],
   "source": [
    "sesgo"
   ]
  },
  {
   "cell_type": "code",
   "execution_count": 35,
   "metadata": {},
   "outputs": [
    {
     "data": {
      "text/plain": [
       "0.0039766381844999685"
      ]
     },
     "execution_count": 35,
     "metadata": {},
     "output_type": "execute_result"
    }
   ],
   "source": [
    "estimacion_sesgo_corregido"
   ]
  },
  {
   "cell_type": "code",
   "execution_count": 36,
   "metadata": {},
   "outputs": [
    {
     "data": {
      "text/plain": [
       "0.27115376266443825"
      ]
     },
     "execution_count": 36,
     "metadata": {},
     "output_type": "execute_result"
    }
   ],
   "source": [
    "standard_error"
   ]
  },
  {
   "cell_type": "markdown",
   "metadata": {},
   "source": []
  },
  {
   "cell_type": "markdown",
   "metadata": {},
   "source": [
    "# Bootstrap"
   ]
  },
  {
   "cell_type": "code",
   "execution_count": 37,
   "metadata": {},
   "outputs": [],
   "source": [
    "def Bootstrap(Variable , B, estimator_function, q=0.75, random_seed=123 ):\n",
    "\n",
    "#######################################################\n",
    "\n",
    "    np.random.seed(random_seed)\n",
    "\n",
    "#######################################################\n",
    "\n",
    "\n",
    "    def Bootstrap_sample(X):\n",
    "\n",
    "            from sklearn.utils import resample\n",
    "\n",
    "            sample = resample( X, n_samples=len(X))\n",
    "\n",
    "            return sample\n",
    "\n",
    "\n",
    "    if estimator_function == np.quantile : estimation = estimator_function(Variable , q)\n",
    "            \n",
    "    else:  estimation = estimator_function(Variable)\n",
    "\n",
    "\n",
    "    replicas_estimador = []\n",
    "\n",
    "    for b in range(0, B):\n",
    "\n",
    "        if estimator_function == np.quantile : estimation_Boot = estimator_function(Bootstrap_sample(Variable) , q=q)\n",
    "            \n",
    "        else:  estimation_Boot = estimator_function(Bootstrap_sample(Variable))\n",
    "\n",
    "        replicas_estimador.append( estimation_Boot )\n",
    "\n",
    "    \n",
    "    sesgo = np.mean( replicas_estimador ) - estimation\n",
    "\n",
    "    estimacion_sesgo_corregido = estimation - sesgo\n",
    "\n",
    "    standard_error = np.std( replicas_estimador ) \n",
    "\n",
    "\n",
    "#######################################################\n",
    "\n",
    "    return sesgo , estimacion_sesgo_corregido , standard_error, replicas_estimador"
   ]
  },
  {
   "cell_type": "code",
   "execution_count": 38,
   "metadata": {},
   "outputs": [
    {
     "data": {
      "text/plain": [
       "8.23916733155832"
      ]
     },
     "execution_count": 38,
     "metadata": {},
     "output_type": "execute_result"
    }
   ],
   "source": [
    "np.median(X)"
   ]
  },
  {
   "cell_type": "code",
   "execution_count": 39,
   "metadata": {},
   "outputs": [],
   "source": [
    "sesgo , estimacion_sesgo_corregido , standard_error, replicas_estimador = Bootstrap(X , B=20000, estimator_function=np.median)"
   ]
  },
  {
   "cell_type": "code",
   "execution_count": 40,
   "metadata": {},
   "outputs": [
    {
     "data": {
      "text/plain": [
       "0.4499295142913571"
      ]
     },
     "execution_count": 40,
     "metadata": {},
     "output_type": "execute_result"
    }
   ],
   "source": [
    "sesgo"
   ]
  },
  {
   "cell_type": "code",
   "execution_count": 41,
   "metadata": {},
   "outputs": [
    {
     "data": {
      "text/plain": [
       "7.789237817266963"
      ]
     },
     "execution_count": 41,
     "metadata": {},
     "output_type": "execute_result"
    }
   ],
   "source": [
    "estimacion_sesgo_corregido"
   ]
  },
  {
   "cell_type": "code",
   "execution_count": 42,
   "metadata": {},
   "outputs": [
    {
     "data": {
      "text/plain": [
       "3.7580290713770914"
      ]
     },
     "execution_count": 42,
     "metadata": {},
     "output_type": "execute_result"
    }
   ],
   "source": [
    "standard_error"
   ]
  },
  {
   "cell_type": "markdown",
   "metadata": {},
   "source": []
  },
  {
   "cell_type": "code",
   "execution_count": 43,
   "metadata": {},
   "outputs": [],
   "source": [
    "sesgo , estimacion_sesgo_corregido , standard_error, replicas_estimador = Bootstrap(X , B=20000, estimator_function=np.mean)"
   ]
  },
  {
   "cell_type": "code",
   "execution_count": 44,
   "metadata": {},
   "outputs": [
    {
     "data": {
      "text/plain": [
       "10.199071616256777"
      ]
     },
     "execution_count": 44,
     "metadata": {},
     "output_type": "execute_result"
    }
   ],
   "source": [
    "np.mean(X)"
   ]
  },
  {
   "cell_type": "code",
   "execution_count": 45,
   "metadata": {},
   "outputs": [
    {
     "data": {
      "text/plain": [
       "0.02044617187141995"
      ]
     },
     "execution_count": 45,
     "metadata": {},
     "output_type": "execute_result"
    }
   ],
   "source": [
    "sesgo"
   ]
  },
  {
   "cell_type": "code",
   "execution_count": 46,
   "metadata": {},
   "outputs": [
    {
     "data": {
      "text/plain": [
       "10.178625444385357"
      ]
     },
     "execution_count": 46,
     "metadata": {},
     "output_type": "execute_result"
    }
   ],
   "source": [
    "estimacion_sesgo_corregido"
   ]
  },
  {
   "cell_type": "code",
   "execution_count": 47,
   "metadata": {},
   "outputs": [
    {
     "data": {
      "text/plain": [
       "2.5121071650105433"
      ]
     },
     "execution_count": 47,
     "metadata": {},
     "output_type": "execute_result"
    }
   ],
   "source": [
    "standard_error"
   ]
  },
  {
   "cell_type": "markdown",
   "metadata": {},
   "source": []
  },
  {
   "cell_type": "code",
   "execution_count": 48,
   "metadata": {},
   "outputs": [],
   "source": [
    "sesgo , estimacion_sesgo_corregido , standard_error, replicas_estimador = Bootstrap(X , B=20000, estimator_function=np.std)"
   ]
  },
  {
   "cell_type": "code",
   "execution_count": 49,
   "metadata": {},
   "outputs": [
    {
     "data": {
      "text/plain": [
       "17.844342210422187"
      ]
     },
     "execution_count": 49,
     "metadata": {},
     "output_type": "execute_result"
    }
   ],
   "source": [
    "np.std(X)"
   ]
  },
  {
   "cell_type": "code",
   "execution_count": 50,
   "metadata": {},
   "outputs": [
    {
     "data": {
      "text/plain": [
       "[17.290069166352062,\n",
       " 17.734700491052042,\n",
       " 18.091905056508867,\n",
       " 19.296946848609828,\n",
       " 16.371718686759674,\n",
       " 17.889036386608268,\n",
       " 16.84496188781967,\n",
       " 18.60024334635148,\n",
       " 20.188328416078278,\n",
       " 19.38523325913237]"
      ]
     },
     "execution_count": 50,
     "metadata": {},
     "output_type": "execute_result"
    }
   ],
   "source": [
    "replicas_estimador[0:10]"
   ]
  },
  {
   "cell_type": "code",
   "execution_count": 51,
   "metadata": {},
   "outputs": [
    {
     "data": {
      "text/plain": [
       "-0.24900263565758252"
      ]
     },
     "execution_count": 51,
     "metadata": {},
     "output_type": "execute_result"
    }
   ],
   "source": [
    "sesgo"
   ]
  },
  {
   "cell_type": "code",
   "execution_count": 52,
   "metadata": {},
   "outputs": [
    {
     "data": {
      "text/plain": [
       "18.09334484607977"
      ]
     },
     "execution_count": 52,
     "metadata": {},
     "output_type": "execute_result"
    }
   ],
   "source": [
    "estimacion_sesgo_corregido"
   ]
  },
  {
   "cell_type": "code",
   "execution_count": 53,
   "metadata": {},
   "outputs": [
    {
     "data": {
      "text/plain": [
       "1.6154115156505968"
      ]
     },
     "execution_count": 53,
     "metadata": {},
     "output_type": "execute_result"
    }
   ],
   "source": [
    "standard_error"
   ]
  },
  {
   "cell_type": "markdown",
   "metadata": {},
   "source": []
  },
  {
   "cell_type": "code",
   "execution_count": 54,
   "metadata": {},
   "outputs": [],
   "source": [
    "sesgo , estimacion_sesgo_corregido , standard_error, replicas_estimador = Bootstrap(X , B=20000, estimator_function=np.quantile, q=0.75)"
   ]
  },
  {
   "cell_type": "code",
   "execution_count": 55,
   "metadata": {},
   "outputs": [
    {
     "data": {
      "text/plain": [
       "23.835596841535178"
      ]
     },
     "execution_count": 55,
     "metadata": {},
     "output_type": "execute_result"
    }
   ],
   "source": [
    "np.quantile(X, q=0.75)"
   ]
  },
  {
   "cell_type": "code",
   "execution_count": 56,
   "metadata": {},
   "outputs": [
    {
     "data": {
      "text/plain": [
       "[19.843817079990643,\n",
       " 23.835596841535178,\n",
       " 16.093460800379468,\n",
       " 25.060808468183154,\n",
       " 26.898336776063715]"
      ]
     },
     "execution_count": 56,
     "metadata": {},
     "output_type": "execute_result"
    }
   ],
   "source": [
    "replicas_estimador[0:5]"
   ]
  },
  {
   "cell_type": "code",
   "execution_count": 57,
   "metadata": {},
   "outputs": [
    {
     "data": {
      "text/plain": [
       "-1.006032620023607"
      ]
     },
     "execution_count": 57,
     "metadata": {},
     "output_type": "execute_result"
    }
   ],
   "source": [
    "sesgo"
   ]
  },
  {
   "cell_type": "code",
   "execution_count": 58,
   "metadata": {},
   "outputs": [
    {
     "data": {
      "text/plain": [
       "24.841629461558785"
      ]
     },
     "execution_count": 58,
     "metadata": {},
     "output_type": "execute_result"
    }
   ],
   "source": [
    "estimacion_sesgo_corregido"
   ]
  },
  {
   "cell_type": "code",
   "execution_count": 59,
   "metadata": {},
   "outputs": [
    {
     "data": {
      "text/plain": [
       "3.4665427821179793"
      ]
     },
     "execution_count": 59,
     "metadata": {},
     "output_type": "execute_result"
    }
   ],
   "source": [
    "standard_error"
   ]
  },
  {
   "cell_type": "markdown",
   "metadata": {},
   "source": []
  },
  {
   "cell_type": "code",
   "execution_count": 144,
   "metadata": {},
   "outputs": [
    {
     "data": {
      "text/plain": [
       "0.025587358812510053"
      ]
     },
     "execution_count": 144,
     "metadata": {},
     "output_type": "execute_result"
    }
   ],
   "source": [
    "skew(X)"
   ]
  },
  {
   "cell_type": "code",
   "execution_count": 133,
   "metadata": {},
   "outputs": [],
   "source": [
    "sesgo , estimacion_sesgo_corregido , standard_error, replicas_estimador = Bootstrap(X , B=20000, estimator_function=skew)"
   ]
  },
  {
   "cell_type": "code",
   "execution_count": 134,
   "metadata": {},
   "outputs": [
    {
     "data": {
      "text/plain": [
       "0.019212954042191917"
      ]
     },
     "execution_count": 134,
     "metadata": {},
     "output_type": "execute_result"
    }
   ],
   "source": [
    "sesgo"
   ]
  },
  {
   "cell_type": "code",
   "execution_count": 135,
   "metadata": {},
   "outputs": [
    {
     "data": {
      "text/plain": [
       "0.006374404770318136"
      ]
     },
     "execution_count": 135,
     "metadata": {},
     "output_type": "execute_result"
    }
   ],
   "source": [
    "estimacion_sesgo_corregido"
   ]
  },
  {
   "cell_type": "code",
   "execution_count": 136,
   "metadata": {},
   "outputs": [
    {
     "data": {
      "text/plain": [
       "0.253427740069774"
      ]
     },
     "execution_count": 136,
     "metadata": {},
     "output_type": "execute_result"
    }
   ],
   "source": [
    "standard_error"
   ]
  },
  {
   "cell_type": "code",
   "execution_count": 145,
   "metadata": {},
   "outputs": [
    {
     "data": {
      "text/plain": [
       "-0.37420768292897266"
      ]
     },
     "execution_count": 145,
     "metadata": {},
     "output_type": "execute_result"
    }
   ],
   "source": [
    "kurtosis(X)"
   ]
  },
  {
   "cell_type": "code",
   "execution_count": 140,
   "metadata": {},
   "outputs": [],
   "source": [
    "sesgo , estimacion_sesgo_corregido , standard_error, replicas_estimador = Bootstrap(X , B=20000, estimator_function=kurtosis)"
   ]
  },
  {
   "cell_type": "code",
   "execution_count": 141,
   "metadata": {},
   "outputs": [
    {
     "data": {
      "text/plain": [
       "-0.022470288214714473"
      ]
     },
     "execution_count": 141,
     "metadata": {},
     "output_type": "execute_result"
    }
   ],
   "source": [
    "sesgo"
   ]
  },
  {
   "cell_type": "code",
   "execution_count": 142,
   "metadata": {},
   "outputs": [
    {
     "data": {
      "text/plain": [
       "-0.3517373947142582"
      ]
     },
     "execution_count": 142,
     "metadata": {},
     "output_type": "execute_result"
    }
   ],
   "source": [
    "estimacion_sesgo_corregido"
   ]
  },
  {
   "cell_type": "code",
   "execution_count": 143,
   "metadata": {},
   "outputs": [
    {
     "data": {
      "text/plain": [
       "0.35103721258189574"
      ]
     },
     "execution_count": 143,
     "metadata": {},
     "output_type": "execute_result"
    }
   ],
   "source": [
    "standard_error"
   ]
  },
  {
   "cell_type": "markdown",
   "metadata": {},
   "source": []
  },
  {
   "cell_type": "markdown",
   "metadata": {},
   "source": []
  },
  {
   "attachments": {},
   "cell_type": "markdown",
   "metadata": {},
   "source": [
    "## Intervalos de confianza cuantil-bootstrap"
   ]
  },
  {
   "attachments": {},
   "cell_type": "markdown",
   "metadata": {},
   "source": [
    "### Intervalo para un parametro (media, varianza, mediana, cuantiles, asimetria, curtosis)"
   ]
  },
  {
   "cell_type": "code",
   "execution_count": 60,
   "metadata": {},
   "outputs": [],
   "source": [
    "def cuantil_boot_interval(Variable1, Variable2, alpha, estimator , B,  q=0.75, random_seed=123):\n",
    "\n",
    "    from itertools import chain \n",
    "\n",
    "######################################################################\n",
    "\n",
    "    np.random.seed(random_seed)\n",
    "\n",
    "######################################################################\n",
    "\n",
    "    def Bootstrap_sample(Variable):\n",
    "\n",
    "        from sklearn.utils import resample\n",
    "\n",
    "        sample = resample( Variable, n_samples=len(Variable))\n",
    "\n",
    "        return sample\n",
    "\n",
    "######################################################################\n",
    "\n",
    "    replicas_estimador = []\n",
    "\n",
    "\n",
    "    if estimator == 'mean':\n",
    "\n",
    "        for b in range(0, B):\n",
    "\n",
    "            replicas_estimador.append( np.mean( Bootstrap_sample(Variable1) ) )\n",
    "\n",
    "        estimation = np.mean(Variable1)\n",
    "\n",
    "######################################################################\n",
    "#     \n",
    "    if estimator == 'median':\n",
    "\n",
    "        for b in range(0, B):\n",
    "\n",
    "            replicas_estimador.append( np.median( Bootstrap_sample(Variable1) ) )\n",
    "\n",
    "        estimation = np.median(Variable1)\n",
    "\n",
    "######################################################################\n",
    "\n",
    "    if estimator == 'std':\n",
    "\n",
    "        for b in range(0, B):\n",
    "\n",
    "            replicas_estimador.append( np.std( Bootstrap_sample(Variable1) ) )\n",
    "\n",
    "        estimation = np.std(Variable1)\n",
    "\n",
    "######################################################################\n",
    "\n",
    "    if estimator == 'skewness':\n",
    "\n",
    "        from scipy.stats import skew\n",
    "\n",
    "        for b in range(0, B):\n",
    "\n",
    "            replicas_estimador.append( skew( Bootstrap_sample(Variable1) ) )\n",
    "\n",
    "        estimation = skew(Variable1)\n",
    "\n",
    "######################################################################\n",
    "\n",
    "    if estimator == 'kurtosis':\n",
    "\n",
    "        from scipy.stats import kurtosis\n",
    "\n",
    "        for b in range(0, B):\n",
    "\n",
    "            replicas_estimador.append( kurtosis( Bootstrap_sample(Variable1) ) )\n",
    "\n",
    "        estimation = kurtosis(Variable1)\n",
    "\n",
    "######################################################################\n",
    "\n",
    "    if estimator == 'quantile':\n",
    "\n",
    "        for b in range(0, B):\n",
    "\n",
    "            replicas_estimador.append( np.quantile( Bootstrap_sample(Variable1) , q=q ) )\n",
    "\n",
    "        estimation = np.quantile(Variable1 , q=q)\n",
    "\n",
    "######################################################################\n",
    "\n",
    "    if estimator == 'proportion': # Variable1 debe ser una variable categorica **binaria**.\n",
    "\n",
    "        for b in range(0, B):\n",
    "\n",
    "            replicas_estimador.append( np.mean( Bootstrap_sample(Variable1) ) )\n",
    "\n",
    "        estimation = np.mean(Variable1)\n",
    "\n",
    "\n",
    "\n",
    "######################################################################\n",
    "\n",
    "######################################################################\n",
    "\n",
    "    replicas_estimador_1 , replicas_estimador_2 = [] , []\n",
    "\n",
    "    \n",
    "    if estimator == 'mean_diff':\n",
    "\n",
    "        for b in range(0, B):\n",
    "\n",
    "            replicas_estimador_1.append( np.mean( Bootstrap_sample(Variable1) ) )\n",
    "\n",
    "            replicas_estimador_2.append( np.mean( Bootstrap_sample(Variable2) ) )\n",
    "        \n",
    "        replicas_estimador_diff = np.array(replicas_estimador_1) - np.array(replicas_estimador_2)\n",
    "\n",
    "        estimation = np.mean(Variable1) - np.mean(Variable2)      \n",
    "\n",
    "######################################################################\n",
    "\n",
    "    if estimator == 'median_diff':\n",
    "\n",
    "        for b in range(0, B):\n",
    "\n",
    "            replicas_estimador_1.append( np.median( Bootstrap_sample(Variable1) ) )\n",
    "\n",
    "            replicas_estimador_2.append( np.median( Bootstrap_sample(Variable2) ) )\n",
    "        \n",
    "        replicas_estimador_diff = np.array(replicas_estimador_1) - np.array(replicas_estimador_2)\n",
    "\n",
    "        estimation = np.median(Variable1) - np.median(Variable2)      \n",
    "\n",
    "######################################################################\n",
    "\n",
    "    if estimator == 'std_diff':\n",
    "\n",
    "        for b in range(0, B):\n",
    "\n",
    "            replicas_estimador_1.append( np.std( Bootstrap_sample(Variable1) ) )\n",
    "\n",
    "            replicas_estimador_2.append( np.std( Bootstrap_sample(Variable2) ) )\n",
    "        \n",
    "        replicas_estimador_diff = np.array(replicas_estimador_1) - np.array(replicas_estimador_2)\n",
    "\n",
    "        estimation = np.std(Variable1) - np.std(Variable2)      \n",
    "\n",
    "######################################################################\n",
    "\n",
    "    if estimator == 'quantile_diff':\n",
    "\n",
    "        for b in range(0, B):\n",
    "\n",
    "            replicas_estimador_1.append( np.quantile( Bootstrap_sample(Variable1), q=q) )\n",
    "\n",
    "            replicas_estimador_2.append( np.quantile( Bootstrap_sample(Variable2), q=q ) )\n",
    "        \n",
    "        replicas_estimador_diff = np.array(replicas_estimador_1) - np.array(replicas_estimador_2)\n",
    "\n",
    "        estimation = np.quantile(Variable1, q=q) - np.quantile(Variable2, q=q)      \n",
    "\n",
    "######################################################################\n",
    "\n",
    "    if estimator == 'skewness_diff':\n",
    "\n",
    "        from scipy.stats import skew\n",
    "\n",
    "        for b in range(0, B):\n",
    "\n",
    "            replicas_estimador_1.append( skew( Bootstrap_sample(Variable1) ) )\n",
    "\n",
    "            replicas_estimador_2.append( skew( Bootstrap_sample(Variable2) ) )\n",
    "        \n",
    "        replicas_estimador_diff = np.array(replicas_estimador_1) - np.array(replicas_estimador_2)\n",
    "\n",
    "        estimation = skew(Variable1) - skew(Variable2)      \n",
    "\n",
    "######################################################################\n",
    "\n",
    "    if estimator == 'kurtosis_diff':\n",
    "\n",
    "        from scipy.stats import kurtosis\n",
    "\n",
    "        for b in range(0, B):\n",
    "\n",
    "            replicas_estimador_1.append( kurtosis( Bootstrap_sample(Variable1) ) )\n",
    "\n",
    "            replicas_estimador_2.append( kurtosis( Bootstrap_sample(Variable2) ) )\n",
    "        \n",
    "        replicas_estimador_diff = np.array(replicas_estimador_1) - np.array(replicas_estimador_2)\n",
    "\n",
    "        estimation = kurtosis(Variable1) - kurtosis(Variable2)   \n",
    "\n",
    "######################################################################\n",
    "\n",
    "    if estimator == 'proportion_diff': # Variable1 y Variable2 deben ser variables categoricas **binarias**.\n",
    "\n",
    "        for b in range(0, B): \n",
    "\n",
    "            replicas_estimador_1.append( np.mean( Bootstrap_sample(Variable1) ) )\n",
    "\n",
    "            replicas_estimador_2.append( np.mean( Bootstrap_sample(Variable2) ) )\n",
    "        \n",
    "        replicas_estimador_diff = np.array(replicas_estimador_1) - np.array(replicas_estimador_2)\n",
    "\n",
    "        estimation = np.mean(Variable1) - np.mean(Variable2)       \n",
    "\n",
    "######################################################################\n",
    "######################################################################\n",
    "\n",
    "    if estimator in ['mean','median','std','quantile','kurtosis','skewness','proportion']:\n",
    "\n",
    "        L1_1 = np.quantile( replicas_estimador  , q=alpha/2)\n",
    "\n",
    "        L2_1 = np.quantile( replicas_estimador  , q=1-alpha/2)\n",
    "\n",
    "        interval = [L1_1 , L2_1]\n",
    "\n",
    "######################################################################\n",
    "\n",
    "    if estimator in ['mean_diff','median_diff','std_diff','quantile_diff','kurtosis_diff','skewness_diff', 'proportion_diff']:\n",
    "   \n",
    "        L1_2 = np.quantile( replicas_estimador_diff  , q=alpha/2)\n",
    "\n",
    "        L2_2 = np.quantile( replicas_estimador_diff  , q=1-alpha/2)\n",
    "\n",
    "        interval = [L1_2 , L2_2]\n",
    "\n",
    "######################################################################\n",
    "######################################################################\n",
    "\n",
    "    return interval , estimation"
   ]
  },
  {
   "cell_type": "markdown",
   "metadata": {},
   "source": []
  },
  {
   "attachments": {},
   "cell_type": "markdown",
   "metadata": {},
   "source": [
    "### Para la media"
   ]
  },
  {
   "cell_type": "code",
   "execution_count": 61,
   "metadata": {},
   "outputs": [],
   "source": [
    "interval , estimation = cuantil_boot_interval(Variable1=X, Variable2='no', alpha=0.05, estimator='mean' , B=20000, random_seed=123)"
   ]
  },
  {
   "cell_type": "code",
   "execution_count": 62,
   "metadata": {},
   "outputs": [
    {
     "data": {
      "text/plain": [
       "[5.274553626813773, 15.146375204290525]"
      ]
     },
     "execution_count": 62,
     "metadata": {},
     "output_type": "execute_result"
    }
   ],
   "source": [
    "interval"
   ]
  },
  {
   "cell_type": "code",
   "execution_count": 63,
   "metadata": {},
   "outputs": [
    {
     "data": {
      "text/plain": [
       "10.199071616256777"
      ]
     },
     "execution_count": 63,
     "metadata": {},
     "output_type": "execute_result"
    }
   ],
   "source": [
    "estimation"
   ]
  },
  {
   "cell_type": "code",
   "execution_count": 64,
   "metadata": {},
   "outputs": [],
   "source": [
    "def CI_Mean(Variable , alpha=0.05):\n",
    "\n",
    "    n = len(Variable)\n",
    "\n",
    "    t_alpha_medios = scipy.stats.t.ppf( 1 - alpha/2 , df=n-1)\n",
    "\n",
    "    X_mean = Variable.mean()\n",
    "\n",
    "    X_cuasi_var = Variable.std()**2 \n",
    "    \n",
    "    # std() esta definida por defecto como la cuasi-desviacion-tipica\n",
    "\n",
    "    L1 = X_mean - t_alpha_medios * np.sqrt(X_cuasi_var/n)\n",
    "\n",
    "    L2 = X_mean + t_alpha_medios * np.sqrt(X_cuasi_var/n)\n",
    "\n",
    "    interval = [L1 , L2]\n",
    "\n",
    "    return interval , X_mean"
   ]
  },
  {
   "cell_type": "code",
   "execution_count": 65,
   "metadata": {},
   "outputs": [],
   "source": [
    "interval , X_mean = CI_Mean(X , alpha=0.05)"
   ]
  },
  {
   "cell_type": "code",
   "execution_count": 66,
   "metadata": {},
   "outputs": [
    {
     "data": {
      "text/plain": [
       "[5.127765678327374, 15.27037755418618]"
      ]
     },
     "execution_count": 66,
     "metadata": {},
     "output_type": "execute_result"
    }
   ],
   "source": [
    "interval"
   ]
  },
  {
   "cell_type": "markdown",
   "metadata": {},
   "source": []
  },
  {
   "attachments": {},
   "cell_type": "markdown",
   "metadata": {},
   "source": [
    "### Para la desviacion tipica"
   ]
  },
  {
   "cell_type": "code",
   "execution_count": 67,
   "metadata": {},
   "outputs": [],
   "source": [
    "interval , estimation = cuantil_boot_interval(Variable1=X, Variable2='no', alpha=0.05, estimator='std' , B=20000, random_seed=123)"
   ]
  },
  {
   "cell_type": "code",
   "execution_count": 68,
   "metadata": {},
   "outputs": [
    {
     "data": {
      "text/plain": [
       "[14.427214668666169, 20.756590926218593]"
      ]
     },
     "execution_count": 68,
     "metadata": {},
     "output_type": "execute_result"
    }
   ],
   "source": [
    "interval"
   ]
  },
  {
   "cell_type": "code",
   "execution_count": 69,
   "metadata": {},
   "outputs": [
    {
     "data": {
      "text/plain": [
       "17.844342210422187"
      ]
     },
     "execution_count": 69,
     "metadata": {},
     "output_type": "execute_result"
    }
   ],
   "source": [
    "estimation"
   ]
  },
  {
   "cell_type": "code",
   "execution_count": 70,
   "metadata": {},
   "outputs": [],
   "source": [
    "def CI_Variance(Variable , alpha=0.05):\n",
    "\n",
    "    n = len(Variable)\n",
    "\n",
    "    chi_alpha_medios = scipy.stats.chi2.ppf( 1 - alpha/2 , df=n-1)\n",
    "\n",
    "    chi_1_alpha_medios = scipy.stats.chi2.ppf(alpha/2 , df=n-1)\n",
    "\n",
    "    X_cuasi_var = Variable.std()**2 \n",
    "\n",
    "    X_var = ( (n-1)/n )*X_cuasi_var\n",
    "    \n",
    "    # std() esta definida por defecto como la cuasi-desviacion-tipica\n",
    "\n",
    "    L1 =  (n*X_var) / chi_alpha_medios\n",
    "\n",
    "    L2 = (n*X_var) / chi_1_alpha_medios\n",
    "\n",
    "    interval = [L1 , L2]\n",
    "\n",
    "    return interval , X_var "
   ]
  },
  {
   "cell_type": "code",
   "execution_count": 71,
   "metadata": {},
   "outputs": [],
   "source": [
    "interval , X_var = CI_Variance(Variable=X , alpha=0.05)"
   ]
  },
  {
   "cell_type": "code",
   "execution_count": 72,
   "metadata": {},
   "outputs": [
    {
     "data": {
      "text/plain": [
       "[222.18841684285198, 494.45882436956106]"
      ]
     },
     "execution_count": 72,
     "metadata": {},
     "output_type": "execute_result"
    }
   ],
   "source": [
    "interval"
   ]
  },
  {
   "cell_type": "code",
   "execution_count": 73,
   "metadata": {},
   "outputs": [
    {
     "data": {
      "text/plain": [
       "312.0521379442019"
      ]
     },
     "execution_count": 73,
     "metadata": {},
     "output_type": "execute_result"
    }
   ],
   "source": [
    "X_var"
   ]
  },
  {
   "cell_type": "code",
   "execution_count": 74,
   "metadata": {},
   "outputs": [
    {
     "data": {
      "text/plain": [
       "array([14.90598594, 22.23643012])"
      ]
     },
     "execution_count": 74,
     "metadata": {},
     "output_type": "execute_result"
    }
   ],
   "source": [
    "np.sqrt(interval)"
   ]
  },
  {
   "cell_type": "code",
   "execution_count": 75,
   "metadata": {},
   "outputs": [
    {
     "data": {
      "text/plain": [
       "312.0521379442019"
      ]
     },
     "execution_count": 75,
     "metadata": {},
     "output_type": "execute_result"
    }
   ],
   "source": [
    "X_var"
   ]
  },
  {
   "cell_type": "markdown",
   "metadata": {},
   "source": []
  },
  {
   "attachments": {},
   "cell_type": "markdown",
   "metadata": {},
   "source": [
    "### Para la mediana"
   ]
  },
  {
   "cell_type": "code",
   "execution_count": 76,
   "metadata": {},
   "outputs": [],
   "source": [
    "interval , estimation = cuantil_boot_interval(Variable1=X, Variable2='no', alpha=0.05, estimator='median' , B=20000, random_seed=123)"
   ]
  },
  {
   "cell_type": "code",
   "execution_count": 77,
   "metadata": {},
   "outputs": [
    {
     "data": {
      "text/plain": [
       "[2.4028635430970975, 15.99323919612726]"
      ]
     },
     "execution_count": 77,
     "metadata": {},
     "output_type": "execute_result"
    }
   ],
   "source": [
    "interval"
   ]
  },
  {
   "cell_type": "code",
   "execution_count": 78,
   "metadata": {},
   "outputs": [
    {
     "data": {
      "text/plain": [
       "8.23916733155832"
      ]
     },
     "execution_count": 78,
     "metadata": {},
     "output_type": "execute_result"
    }
   ],
   "source": [
    "estimation"
   ]
  },
  {
   "cell_type": "markdown",
   "metadata": {},
   "source": []
  },
  {
   "cell_type": "markdown",
   "metadata": {},
   "source": [
    "### Para la asimetria"
   ]
  },
  {
   "cell_type": "code",
   "execution_count": 79,
   "metadata": {},
   "outputs": [],
   "source": [
    "interval , estimation = cuantil_boot_interval(Variable1=X, Variable2='no', alpha=0.05, estimator='skewness' , B=20000, random_seed=123)"
   ]
  },
  {
   "cell_type": "code",
   "execution_count": 80,
   "metadata": {},
   "outputs": [
    {
     "data": {
      "text/plain": [
       "[-0.43998686459545305, 0.5624134382838676]"
      ]
     },
     "execution_count": 80,
     "metadata": {},
     "output_type": "execute_result"
    }
   ],
   "source": [
    "interval"
   ]
  },
  {
   "cell_type": "code",
   "execution_count": 81,
   "metadata": {},
   "outputs": [
    {
     "data": {
      "text/plain": [
       "0.025587358812510053"
      ]
     },
     "execution_count": 81,
     "metadata": {},
     "output_type": "execute_result"
    }
   ],
   "source": [
    "estimation"
   ]
  },
  {
   "cell_type": "markdown",
   "metadata": {},
   "source": []
  },
  {
   "cell_type": "markdown",
   "metadata": {},
   "source": [
    "### Para la curtosis"
   ]
  },
  {
   "cell_type": "code",
   "execution_count": 82,
   "metadata": {},
   "outputs": [],
   "source": [
    "interval , estimation = cuantil_boot_interval(Variable1=X, Variable2='no', alpha=0.05, estimator='kurtosis' , B=20000, random_seed=123)"
   ]
  },
  {
   "cell_type": "code",
   "execution_count": 83,
   "metadata": {},
   "outputs": [
    {
     "data": {
      "text/plain": [
       "[-0.9952663071794702, 0.38601833503542765]"
      ]
     },
     "execution_count": 83,
     "metadata": {},
     "output_type": "execute_result"
    }
   ],
   "source": [
    "interval "
   ]
  },
  {
   "cell_type": "code",
   "execution_count": 84,
   "metadata": {},
   "outputs": [
    {
     "data": {
      "text/plain": [
       "-0.37420768292897266"
      ]
     },
     "execution_count": 84,
     "metadata": {},
     "output_type": "execute_result"
    }
   ],
   "source": [
    "estimation"
   ]
  },
  {
   "cell_type": "markdown",
   "metadata": {},
   "source": []
  },
  {
   "attachments": {},
   "cell_type": "markdown",
   "metadata": {},
   "source": [
    "### Para los cuantiles"
   ]
  },
  {
   "cell_type": "code",
   "execution_count": 85,
   "metadata": {},
   "outputs": [],
   "source": [
    "interval , estimation = cuantil_boot_interval(Variable1=X, Variable2='no', alpha=0.05, estimator='quantile' , B=20000, random_seed=123, q=0.75)"
   ]
  },
  {
   "cell_type": "code",
   "execution_count": 86,
   "metadata": {},
   "outputs": [
    {
     "data": {
      "text/plain": [
       "[15.078835764997024, 28.98904388058301]"
      ]
     },
     "execution_count": 86,
     "metadata": {},
     "output_type": "execute_result"
    }
   ],
   "source": [
    "interval"
   ]
  },
  {
   "cell_type": "code",
   "execution_count": 87,
   "metadata": {},
   "outputs": [
    {
     "data": {
      "text/plain": [
       "23.835596841535178"
      ]
     },
     "execution_count": 87,
     "metadata": {},
     "output_type": "execute_result"
    }
   ],
   "source": [
    "estimation"
   ]
  },
  {
   "attachments": {},
   "cell_type": "markdown",
   "metadata": {},
   "source": [
    "### Para la proporción"
   ]
  },
  {
   "cell_type": "code",
   "execution_count": 148,
   "metadata": {},
   "outputs": [],
   "source": [
    "X_dummy = np.random.uniform(low=0 , high=1, size=50).round()"
   ]
  },
  {
   "cell_type": "code",
   "execution_count": 149,
   "metadata": {},
   "outputs": [],
   "source": [
    "interval , estimation = cuantil_boot_interval(Variable1=X_dummy, Variable2='no', alpha=0.05, estimator='proportion' , B=20000, random_seed=123)"
   ]
  },
  {
   "cell_type": "code",
   "execution_count": 150,
   "metadata": {},
   "outputs": [
    {
     "data": {
      "text/plain": [
       "[0.46, 0.74]"
      ]
     },
     "execution_count": 150,
     "metadata": {},
     "output_type": "execute_result"
    }
   ],
   "source": [
    "interval"
   ]
  },
  {
   "cell_type": "code",
   "execution_count": 151,
   "metadata": {},
   "outputs": [
    {
     "data": {
      "text/plain": [
       "0.6"
      ]
     },
     "execution_count": 151,
     "metadata": {},
     "output_type": "execute_result"
    }
   ],
   "source": [
    "estimation"
   ]
  },
  {
   "cell_type": "markdown",
   "metadata": {},
   "source": []
  },
  {
   "cell_type": "markdown",
   "metadata": {},
   "source": []
  },
  {
   "attachments": {},
   "cell_type": "markdown",
   "metadata": {},
   "source": [
    "## Intervalo para la diferencia de parametros (medias, medianas, varianzas, cuantiles, curtosos, asimetrias)"
   ]
  },
  {
   "cell_type": "code",
   "execution_count": 88,
   "metadata": {},
   "outputs": [],
   "source": [
    "np.random.seed(123)\n",
    "\n",
    "X_1 = np.random.normal(loc=10, scale=15, size=50)\n",
    "\n",
    "X_2 = np.random.normal(loc=13, scale=15, size=100)"
   ]
  },
  {
   "attachments": {},
   "cell_type": "markdown",
   "metadata": {},
   "source": [
    "### Para la diferencia de medias"
   ]
  },
  {
   "cell_type": "code",
   "execution_count": 89,
   "metadata": {},
   "outputs": [],
   "source": [
    "interval , estimation = cuantil_boot_interval(Variable1=X_1, Variable2=X_2, alpha=0.05, estimator='mean_diff' , B=20000,  q=0.75, random_seed=123)"
   ]
  },
  {
   "cell_type": "code",
   "execution_count": 90,
   "metadata": {},
   "outputs": [
    {
     "data": {
      "text/plain": [
       "[-9.788335434742939, 1.810648408844556]"
      ]
     },
     "execution_count": 90,
     "metadata": {},
     "output_type": "execute_result"
    }
   ],
   "source": [
    "interval"
   ]
  },
  {
   "cell_type": "code",
   "execution_count": 91,
   "metadata": {},
   "outputs": [
    {
     "data": {
      "text/plain": [
       "-4.001757444976697"
      ]
     },
     "execution_count": 91,
     "metadata": {},
     "output_type": "execute_result"
    }
   ],
   "source": [
    "estimation"
   ]
  },
  {
   "cell_type": "code",
   "execution_count": 92,
   "metadata": {},
   "outputs": [],
   "source": [
    "def CI_Mean_Diference(Variable1 , Variable2 , alpha=0.05):\n",
    "\n",
    "    X1 = Variable1\n",
    "    X2 = Variable2\n",
    "\n",
    "    n1 = len(X1) \n",
    "    n2 = len(X2)   \n",
    "\n",
    "    X1_mean = X1.mean()\n",
    "    X2_mean = X2.mean()\n",
    "\n",
    "    X1_cuasi_var = X1.std()**2 \n",
    "    X2_cuasi_var = X2.std()**2 \n",
    "\n",
    "    X1_var = ( (n1-1)/n1 )*X1_cuasi_var\n",
    "    X2_var = ( (n2-1)/n2 )*X2_cuasi_var\n",
    "\n",
    "    v = ( X1_var/n1 + X2_var/n2 )**2 / ( (X1_var/n1)**2 / (n1-1)  + (X2_var/n2)**2 / (n2-1)  )\n",
    "\n",
    "    t_alpha_medios = scipy.stats.chi.ppf( 1 - alpha/2 , df=v)\n",
    "  \n",
    "  \n",
    "    L1 =  (X1_mean - X2_mean) - t_alpha_medios * np.sqrt(X1_var/n1 + X2_var/n2)\n",
    "\n",
    "    L2 =  (X1_mean - X2_mean) + t_alpha_medios * np.sqrt(X1_var/n1 + X2_var/n2)\n",
    "\n",
    "    interval = [L1 , L2]\n",
    "\n",
    "    return interval , (X1_mean - X2_mean) "
   ]
  },
  {
   "cell_type": "code",
   "execution_count": 93,
   "metadata": {},
   "outputs": [],
   "source": [
    "interval , estimation = CI_Mean_Diference(Variable1=X_1 , Variable2=X_2 , alpha=0.05)"
   ]
  },
  {
   "cell_type": "code",
   "execution_count": 94,
   "metadata": {},
   "outputs": [
    {
     "data": {
      "text/plain": [
       "[-35.535058586780195, 27.531543696826805]"
      ]
     },
     "execution_count": 94,
     "metadata": {},
     "output_type": "execute_result"
    }
   ],
   "source": [
    "interval"
   ]
  },
  {
   "cell_type": "code",
   "execution_count": 95,
   "metadata": {},
   "outputs": [
    {
     "data": {
      "text/plain": [
       "-4.001757444976697"
      ]
     },
     "execution_count": 95,
     "metadata": {},
     "output_type": "execute_result"
    }
   ],
   "source": [
    "estimation"
   ]
  },
  {
   "cell_type": "markdown",
   "metadata": {},
   "source": []
  },
  {
   "attachments": {},
   "cell_type": "markdown",
   "metadata": {},
   "source": [
    "### Para la diferencia de medianas"
   ]
  },
  {
   "cell_type": "code",
   "execution_count": 96,
   "metadata": {},
   "outputs": [],
   "source": [
    "interval , estimation = cuantil_boot_interval(Variable1=X_1, Variable2=X_2, alpha=0.05, estimator='median_diff' , B=20000,  q=0.75, random_seed=123)"
   ]
  },
  {
   "cell_type": "code",
   "execution_count": 97,
   "metadata": {},
   "outputs": [
    {
     "data": {
      "text/plain": [
       "[-13.881285812364158, 3.1918214145850397]"
      ]
     },
     "execution_count": 97,
     "metadata": {},
     "output_type": "execute_result"
    }
   ],
   "source": [
    "interval"
   ]
  },
  {
   "cell_type": "code",
   "execution_count": 98,
   "metadata": {},
   "outputs": [
    {
     "data": {
      "text/plain": [
       "-6.812252818435496"
      ]
     },
     "execution_count": 98,
     "metadata": {},
     "output_type": "execute_result"
    }
   ],
   "source": [
    "estimation"
   ]
  },
  {
   "attachments": {},
   "cell_type": "markdown",
   "metadata": {},
   "source": [
    "### Para la diferencia de desviaciones tipicas"
   ]
  },
  {
   "cell_type": "code",
   "execution_count": 99,
   "metadata": {},
   "outputs": [],
   "source": [
    "interval , estimation = cuantil_boot_interval(Variable1=X_1, Variable2=X_2, alpha=0.05, estimator='std_diff' , B=20000,  q=0.75, random_seed=123)"
   ]
  },
  {
   "cell_type": "code",
   "execution_count": 100,
   "metadata": {},
   "outputs": [
    {
     "data": {
      "text/plain": [
       "[-1.440066276291272, 5.750492255040537]"
      ]
     },
     "execution_count": 100,
     "metadata": {},
     "output_type": "execute_result"
    }
   ],
   "source": [
    "interval"
   ]
  },
  {
   "cell_type": "code",
   "execution_count": 101,
   "metadata": {},
   "outputs": [
    {
     "data": {
      "text/plain": [
       "2.297921770341434"
      ]
     },
     "execution_count": 101,
     "metadata": {},
     "output_type": "execute_result"
    }
   ],
   "source": [
    "estimation"
   ]
  },
  {
   "attachments": {},
   "cell_type": "markdown",
   "metadata": {},
   "source": [
    "### Para la diferencia de cuantiles"
   ]
  },
  {
   "cell_type": "code",
   "execution_count": 102,
   "metadata": {},
   "outputs": [],
   "source": [
    "interval , estimation = cuantil_boot_interval(Variable1=X_1, Variable2=X_2, alpha=0.05, estimator='quantile_diff' , B=20000,  q=0.75, random_seed=123)"
   ]
  },
  {
   "cell_type": "code",
   "execution_count": 103,
   "metadata": {},
   "outputs": [
    {
     "data": {
      "text/plain": [
       "[-12.249938782339909, 4.819498365231816]"
      ]
     },
     "execution_count": 103,
     "metadata": {},
     "output_type": "execute_result"
    }
   ],
   "source": [
    "interval"
   ]
  },
  {
   "cell_type": "code",
   "execution_count": 104,
   "metadata": {},
   "outputs": [
    {
     "data": {
      "text/plain": [
       "-1.2929002407485939"
      ]
     },
     "execution_count": 104,
     "metadata": {},
     "output_type": "execute_result"
    }
   ],
   "source": [
    "estimation"
   ]
  },
  {
   "attachments": {},
   "cell_type": "markdown",
   "metadata": {},
   "source": [
    "### Para la diferencia de kurtosis"
   ]
  },
  {
   "cell_type": "code",
   "execution_count": 105,
   "metadata": {},
   "outputs": [],
   "source": [
    "interval , estimation = cuantil_boot_interval(Variable1=X_1, Variable2=X_2, alpha=0.05, estimator='kurtosis_diff' , B=20000,  q=0.75, random_seed=123)"
   ]
  },
  {
   "cell_type": "code",
   "execution_count": 106,
   "metadata": {},
   "outputs": [
    {
     "data": {
      "text/plain": [
       "[-0.504742036075702, 1.1320430654741647]"
      ]
     },
     "execution_count": 106,
     "metadata": {},
     "output_type": "execute_result"
    }
   ],
   "source": [
    "interval"
   ]
  },
  {
   "cell_type": "code",
   "execution_count": 107,
   "metadata": {},
   "outputs": [
    {
     "data": {
      "text/plain": [
       "0.2817371126835462"
      ]
     },
     "execution_count": 107,
     "metadata": {},
     "output_type": "execute_result"
    }
   ],
   "source": [
    "estimation"
   ]
  },
  {
   "attachments": {},
   "cell_type": "markdown",
   "metadata": {},
   "source": [
    "### Para la diferencia de skewness"
   ]
  },
  {
   "cell_type": "code",
   "execution_count": 108,
   "metadata": {},
   "outputs": [],
   "source": [
    "interval , estimation = cuantil_boot_interval(Variable1=X_1, Variable2=X_2, alpha=0.05, estimator='skewness_diff' , B=20000,  q=0.75, random_seed=123)"
   ]
  },
  {
   "cell_type": "code",
   "execution_count": 109,
   "metadata": {},
   "outputs": [
    {
     "data": {
      "text/plain": [
       "[-0.5445430937619894, 0.6394836839729549]"
      ]
     },
     "execution_count": 109,
     "metadata": {},
     "output_type": "execute_result"
    }
   ],
   "source": [
    "interval"
   ]
  },
  {
   "cell_type": "code",
   "execution_count": 110,
   "metadata": {},
   "outputs": [
    {
     "data": {
      "text/plain": [
       "0.019079758603481104"
      ]
     },
     "execution_count": 110,
     "metadata": {},
     "output_type": "execute_result"
    }
   ],
   "source": [
    "estimation"
   ]
  },
  {
   "attachments": {},
   "cell_type": "markdown",
   "metadata": {},
   "source": [
    "### Para la diferencia de proporciones"
   ]
  },
  {
   "cell_type": "code",
   "execution_count": 181,
   "metadata": {},
   "outputs": [],
   "source": [
    "np.random.seed(123)\n",
    "\n",
    "X_dummy_1 = np.random.uniform(low=0 , high=1, size=40).round()\n",
    "\n",
    "X_dummy_2 = np.random.uniform(low=0 , high=1, size=300).round()"
   ]
  },
  {
   "cell_type": "code",
   "execution_count": 182,
   "metadata": {},
   "outputs": [],
   "source": [
    "interval , estimation = cuantil_boot_interval(Variable1=X_dummy_1, Variable2=X_dummy_2, alpha=0.05, estimator='proportion_diff' , B=20000,  q=0.75, random_seed=123)"
   ]
  },
  {
   "cell_type": "code",
   "execution_count": 183,
   "metadata": {},
   "outputs": [
    {
     "data": {
      "text/plain": [
       "[-0.22499999999999998, 0.10666666666666663]"
      ]
     },
     "execution_count": 183,
     "metadata": {},
     "output_type": "execute_result"
    }
   ],
   "source": [
    "interval"
   ]
  },
  {
   "cell_type": "code",
   "execution_count": 184,
   "metadata": {},
   "outputs": [
    {
     "data": {
      "text/plain": [
       "-0.06"
      ]
     },
     "execution_count": 184,
     "metadata": {},
     "output_type": "execute_result"
    }
   ],
   "source": [
    "estimation"
   ]
  },
  {
   "cell_type": "markdown",
   "metadata": {},
   "source": []
  },
  {
   "cell_type": "markdown",
   "metadata": {},
   "source": []
  },
  {
   "attachments": {},
   "cell_type": "markdown",
   "metadata": {},
   "source": [
    "## Intervalos BCa"
   ]
  },
  {
   "cell_type": "code",
   "execution_count": 111,
   "metadata": {},
   "outputs": [],
   "source": [
    "def BCa_boot_interval(Variable, estimator_function, B, alpha, random_seed, q=0.75):\n",
    "\n",
    "    np.random.seed(random_seed)\n",
    "\n",
    "\n",
    "    def Bootstrap_sample(Variable):\n",
    "\n",
    "        from sklearn.utils import resample\n",
    "\n",
    "        sample = resample( Variable, n_samples=len(Variable))\n",
    "\n",
    "        return sample\n",
    "\n",
    "\n",
    "    def Jacknife_sample(X , r):\n",
    "\n",
    "            X_sample_r = np.delete(X, r)\n",
    "\n",
    "            return(X_sample_r)\n",
    "\n",
    "\n",
    "\n",
    "    z_1_alpha_medios = scipy.stats.norm.ppf(q=alpha/2, loc=0, scale=1)\n",
    "\n",
    "    z_alpha_medios = scipy.stats.norm.ppf(q=1-alpha/2, loc=0, scale=1)\n",
    "\n",
    "##################################################################################\n",
    "\n",
    "    if estimator_function == np.quantile:  estimation = estimator_function(Variable, q=q)\n",
    "\n",
    "    else :  estimation = estimator_function(Variable)\n",
    "\n",
    "    replicas_boot_estimador = []\n",
    "\n",
    "    for b in range(0, B):\n",
    "\n",
    "        replicas_boot_estimador.append( np.mean( Bootstrap_sample(Variable) ) )\n",
    "\n",
    "\n",
    "    replicas_boot_estimador = np.array(replicas_boot_estimador)\n",
    "\n",
    "\n",
    "    rho = sum( replicas_boot_estimador <= estimation ) / B\n",
    "\n",
    "    z_0 = scipy.stats.norm.ppf(q=rho, loc=0, scale=1)\n",
    "\n",
    "    ###################################\n",
    "\n",
    "    replicas_jack_estimador = []\n",
    "\n",
    "    for r in range(0, len(Variable)):\n",
    "\n",
    "        if estimator_function == np.quantile :  Jack_estimation = estimator_function( Jacknife_sample(Variable, r) , q=q )\n",
    "\n",
    "        else :  Jack_estimation = estimator_function( Jacknife_sample(Variable, r) )\n",
    "\n",
    "        replicas_jack_estimador.append( Jack_estimation )\n",
    "\n",
    "    replicas_jack_estimador = np.array(replicas_jack_estimador)\n",
    "\n",
    "\n",
    "    a_numerator = sum( (np.mean(replicas_jack_estimador) - replicas_jack_estimador )**3 )\n",
    "\n",
    "    a_denominator = sum( (np.mean(replicas_jack_estimador) - replicas_jack_estimador )**2 )\n",
    "\n",
    "    a_denominator = 6*a_denominator**(3/2)\n",
    "\n",
    "    a = a_numerator / a_denominator\n",
    "\n",
    "\n",
    "    x_1 = z_0 + (z_0 + z_1_alpha_medios)/(1-a*(z_0 + z_1_alpha_medios))\n",
    "\n",
    "    x_2 = z_0 + (z_0 + z_alpha_medios)/(1-a*(z_0 + z_alpha_medios))\n",
    "\n",
    "\n",
    "    alpha_1 = scipy.stats.norm.cdf(x=x_1, loc=0, scale=1)\n",
    "\n",
    "    alpha_2 = scipy.stats.norm.cdf(x=x_2, loc=0, scale=1)\n",
    "\n",
    "\n",
    "#########################################################################################################\n",
    "\n",
    "    L1 = np.quantile( replicas_boot_estimador  , q=alpha_1)\n",
    "\n",
    "    L2 = np.quantile( replicas_boot_estimador  , q=alpha_2)\n",
    "\n",
    "    interval = [L1,L2]\n",
    "\n",
    "    return interval , estimation"
   ]
  },
  {
   "cell_type": "code",
   "execution_count": 112,
   "metadata": {},
   "outputs": [],
   "source": [
    "interval , estimation = BCa_boot_interval(Variable=X, estimator_function=np.mean, B=200000, alpha=0.05, random_seed=123)"
   ]
  },
  {
   "cell_type": "code",
   "execution_count": 113,
   "metadata": {},
   "outputs": [
    {
     "data": {
      "text/plain": [
       "[5.262399300501412, 15.148561429340479]"
      ]
     },
     "execution_count": 113,
     "metadata": {},
     "output_type": "execute_result"
    }
   ],
   "source": [
    "interval"
   ]
  },
  {
   "cell_type": "code",
   "execution_count": 114,
   "metadata": {},
   "outputs": [
    {
     "data": {
      "text/plain": [
       "10.199071616256777"
      ]
     },
     "execution_count": 114,
     "metadata": {},
     "output_type": "execute_result"
    }
   ],
   "source": [
    "estimation"
   ]
  },
  {
   "cell_type": "code",
   "execution_count": 115,
   "metadata": {},
   "outputs": [],
   "source": [
    "interval , estimation = BCa_boot_interval(Variable=X, estimator_function=np.median, B=200000, alpha=0.05, random_seed=123)"
   ]
  },
  {
   "cell_type": "code",
   "execution_count": 116,
   "metadata": {},
   "outputs": [
    {
     "data": {
      "text/plain": [
       "[1.1580146455412295, 11.197676226492618]"
      ]
     },
     "execution_count": 116,
     "metadata": {},
     "output_type": "execute_result"
    }
   ],
   "source": [
    "interval"
   ]
  },
  {
   "cell_type": "code",
   "execution_count": 117,
   "metadata": {},
   "outputs": [
    {
     "data": {
      "text/plain": [
       "8.23916733155832"
      ]
     },
     "execution_count": 117,
     "metadata": {},
     "output_type": "execute_result"
    }
   ],
   "source": [
    "estimation"
   ]
  },
  {
   "cell_type": "code",
   "execution_count": 118,
   "metadata": {},
   "outputs": [],
   "source": [
    "interval , estimation = BCa_boot_interval(Variable=X, estimator_function=np.std, B=200000, alpha=0.05, random_seed=123)"
   ]
  },
  {
   "cell_type": "code",
   "execution_count": 119,
   "metadata": {},
   "outputs": [
    {
     "data": {
      "text/plain": [
       "[20.774957571314236, 21.430372642336394]"
      ]
     },
     "execution_count": 119,
     "metadata": {},
     "output_type": "execute_result"
    }
   ],
   "source": [
    "interval"
   ]
  },
  {
   "cell_type": "code",
   "execution_count": 120,
   "metadata": {},
   "outputs": [
    {
     "data": {
      "text/plain": [
       "17.844342210422187"
      ]
     },
     "execution_count": 120,
     "metadata": {},
     "output_type": "execute_result"
    }
   ],
   "source": [
    "estimation"
   ]
  },
  {
   "cell_type": "code",
   "execution_count": 121,
   "metadata": {},
   "outputs": [],
   "source": [
    "from scipy.stats import kurtosis"
   ]
  },
  {
   "cell_type": "code",
   "execution_count": 122,
   "metadata": {},
   "outputs": [],
   "source": [
    "interval , estimation = BCa_boot_interval(Variable=X, estimator_function=kurtosis , B=200000, alpha=0.05, random_seed=123, q=0.5)"
   ]
  },
  {
   "cell_type": "code",
   "execution_count": 123,
   "metadata": {},
   "outputs": [
    {
     "data": {
      "text/plain": [
       "[-0.6003612573539066, -0.6003597491211978]"
      ]
     },
     "execution_count": 123,
     "metadata": {},
     "output_type": "execute_result"
    }
   ],
   "source": [
    "interval"
   ]
  },
  {
   "cell_type": "code",
   "execution_count": 124,
   "metadata": {},
   "outputs": [
    {
     "data": {
      "text/plain": [
       "-0.37420768292897266"
      ]
     },
     "execution_count": 124,
     "metadata": {},
     "output_type": "execute_result"
    }
   ],
   "source": [
    "estimation"
   ]
  },
  {
   "cell_type": "code",
   "execution_count": 125,
   "metadata": {},
   "outputs": [],
   "source": [
    "from scipy.stats import skew"
   ]
  },
  {
   "cell_type": "code",
   "execution_count": 126,
   "metadata": {},
   "outputs": [],
   "source": [
    "interval , estimation = BCa_boot_interval(Variable=X, estimator_function=skew , B=200000, alpha=0.05, random_seed=123, q=0.5)"
   ]
  },
  {
   "cell_type": "code",
   "execution_count": 127,
   "metadata": {},
   "outputs": [
    {
     "data": {
      "text/plain": [
       "[-0.6003612573539066, -0.6003362491509903]"
      ]
     },
     "execution_count": 127,
     "metadata": {},
     "output_type": "execute_result"
    }
   ],
   "source": [
    "interval"
   ]
  },
  {
   "cell_type": "code",
   "execution_count": 128,
   "metadata": {},
   "outputs": [
    {
     "data": {
      "text/plain": [
       "0.025587358812510053"
      ]
     },
     "execution_count": 128,
     "metadata": {},
     "output_type": "execute_result"
    }
   ],
   "source": [
    "estimation"
   ]
  },
  {
   "cell_type": "code",
   "execution_count": 129,
   "metadata": {},
   "outputs": [],
   "source": [
    "interval , estimation = BCa_boot_interval(Variable=X, estimator_function=np.quantile , B=200000, alpha=0.05, random_seed=123, q=0.6)"
   ]
  },
  {
   "cell_type": "code",
   "execution_count": 130,
   "metadata": {},
   "outputs": [
    {
     "data": {
      "text/plain": [
       "[14.014587566665833, 21.42972709983565]"
      ]
     },
     "execution_count": 130,
     "metadata": {},
     "output_type": "execute_result"
    }
   ],
   "source": [
    "interval"
   ]
  },
  {
   "cell_type": "code",
   "execution_count": 131,
   "metadata": {},
   "outputs": [
    {
     "data": {
      "text/plain": [
       "14.584180220264427"
      ]
     },
     "execution_count": 131,
     "metadata": {},
     "output_type": "execute_result"
    }
   ],
   "source": [
    "estimation"
   ]
  },
  {
   "cell_type": "code",
   "execution_count": 132,
   "metadata": {},
   "outputs": [
    {
     "name": "stderr",
     "output_type": "stream",
     "text": [
      "C:\\Users\\Usuario\\AppData\\Local\\Temp\\ipykernel_8672\\801661732.py:71: RuntimeWarning: invalid value encountered in double_scalars\n",
      "  x_1 = z_0 + (z_0 + z_1_alpha_medios)/(1-a*(z_0 + z_1_alpha_medios))\n",
      "C:\\Users\\Usuario\\AppData\\Local\\Temp\\ipykernel_8672\\801661732.py:73: RuntimeWarning: invalid value encountered in double_scalars\n",
      "  x_2 = z_0 + (z_0 + z_alpha_medios)/(1-a*(z_0 + z_alpha_medios))\n"
     ]
    },
    {
     "ename": "ValueError",
     "evalue": "Quantiles must be in the range [0, 1]",
     "output_type": "error",
     "traceback": [
      "\u001b[1;31m---------------------------------------------------------------------------\u001b[0m",
      "\u001b[1;31mValueError\u001b[0m                                Traceback (most recent call last)",
      "\u001b[1;32mc:\\Users\\Usuario\\Documents\\fabio\\Fabio\\Estadistica4all.github.io\\Notebooks\\Resampling Methods\\Métodos de Remuestreo en Python.ipynb Cell 177\u001b[0m in \u001b[0;36m<cell line: 1>\u001b[1;34m()\u001b[0m\n\u001b[1;32m----> <a href='vscode-notebook-cell:/c%3A/Users/Usuario/Documents/fabio/Fabio/Estadistica4all.github.io/Notebooks/Resampling%20Methods/M%C3%A9todos%20de%20Remuestreo%20en%20Python.ipynb#Y335sZmlsZQ%3D%3D?line=0'>1</a>\u001b[0m interval , estimation \u001b[39m=\u001b[39m BCa_boot_interval(Variable\u001b[39m=\u001b[39;49mX, estimator_function\u001b[39m=\u001b[39;49mnp\u001b[39m.\u001b[39;49mquantile , B\u001b[39m=\u001b[39;49m\u001b[39m200000\u001b[39;49m, alpha\u001b[39m=\u001b[39;49m\u001b[39m0.05\u001b[39;49m, random_seed\u001b[39m=\u001b[39;49m\u001b[39m123\u001b[39;49m, q\u001b[39m=\u001b[39;49m\u001b[39m0.75\u001b[39;49m)\n",
      "\u001b[1;32mc:\\Users\\Usuario\\Documents\\fabio\\Fabio\\Estadistica4all.github.io\\Notebooks\\Resampling Methods\\Métodos de Remuestreo en Python.ipynb Cell 177\u001b[0m in \u001b[0;36mBCa_boot_interval\u001b[1;34m(Variable, estimator_function, B, alpha, random_seed, q)\u001b[0m\n\u001b[0;32m     <a href='vscode-notebook-cell:/c%3A/Users/Usuario/Documents/fabio/Fabio/Estadistica4all.github.io/Notebooks/Resampling%20Methods/M%C3%A9todos%20de%20Remuestreo%20en%20Python.ipynb#Y335sZmlsZQ%3D%3D?line=77'>78</a>\u001b[0m     alpha_2 \u001b[39m=\u001b[39m scipy\u001b[39m.\u001b[39mstats\u001b[39m.\u001b[39mnorm\u001b[39m.\u001b[39mcdf(x\u001b[39m=\u001b[39mx_2, loc\u001b[39m=\u001b[39m\u001b[39m0\u001b[39m, scale\u001b[39m=\u001b[39m\u001b[39m1\u001b[39m)\n\u001b[0;32m     <a href='vscode-notebook-cell:/c%3A/Users/Usuario/Documents/fabio/Fabio/Estadistica4all.github.io/Notebooks/Resampling%20Methods/M%C3%A9todos%20de%20Remuestreo%20en%20Python.ipynb#Y335sZmlsZQ%3D%3D?line=80'>81</a>\u001b[0m \u001b[39m#########################################################################################################\u001b[39;00m\n\u001b[1;32m---> <a href='vscode-notebook-cell:/c%3A/Users/Usuario/Documents/fabio/Fabio/Estadistica4all.github.io/Notebooks/Resampling%20Methods/M%C3%A9todos%20de%20Remuestreo%20en%20Python.ipynb#Y335sZmlsZQ%3D%3D?line=82'>83</a>\u001b[0m     L1 \u001b[39m=\u001b[39m np\u001b[39m.\u001b[39;49mquantile( replicas_boot_estimador  , q\u001b[39m=\u001b[39;49malpha_1)\n\u001b[0;32m     <a href='vscode-notebook-cell:/c%3A/Users/Usuario/Documents/fabio/Fabio/Estadistica4all.github.io/Notebooks/Resampling%20Methods/M%C3%A9todos%20de%20Remuestreo%20en%20Python.ipynb#Y335sZmlsZQ%3D%3D?line=84'>85</a>\u001b[0m     L2 \u001b[39m=\u001b[39m np\u001b[39m.\u001b[39mquantile( replicas_boot_estimador  , q\u001b[39m=\u001b[39malpha_2)\n\u001b[0;32m     <a href='vscode-notebook-cell:/c%3A/Users/Usuario/Documents/fabio/Fabio/Estadistica4all.github.io/Notebooks/Resampling%20Methods/M%C3%A9todos%20de%20Remuestreo%20en%20Python.ipynb#Y335sZmlsZQ%3D%3D?line=86'>87</a>\u001b[0m     interval \u001b[39m=\u001b[39m [L1,L2]\n",
      "File \u001b[1;32m<__array_function__ internals>:180\u001b[0m, in \u001b[0;36mquantile\u001b[1;34m(*args, **kwargs)\u001b[0m\n",
      "File \u001b[1;32mc:\\Users\\Usuario\\AppData\\Local\\Programs\\Python\\Python310\\lib\\site-packages\\numpy\\lib\\function_base.py:4411\u001b[0m, in \u001b[0;36mquantile\u001b[1;34m(a, q, axis, out, overwrite_input, method, keepdims, interpolation)\u001b[0m\n\u001b[0;32m   4409\u001b[0m q \u001b[39m=\u001b[39m np\u001b[39m.\u001b[39masanyarray(q)\n\u001b[0;32m   4410\u001b[0m \u001b[39mif\u001b[39;00m \u001b[39mnot\u001b[39;00m _quantile_is_valid(q):\n\u001b[1;32m-> 4411\u001b[0m     \u001b[39mraise\u001b[39;00m \u001b[39mValueError\u001b[39;00m(\u001b[39m\"\u001b[39m\u001b[39mQuantiles must be in the range [0, 1]\u001b[39m\u001b[39m\"\u001b[39m)\n\u001b[0;32m   4412\u001b[0m \u001b[39mreturn\u001b[39;00m _quantile_unchecked(\n\u001b[0;32m   4413\u001b[0m     a, q, axis, out, overwrite_input, method, keepdims)\n",
      "\u001b[1;31mValueError\u001b[0m: Quantiles must be in the range [0, 1]"
     ]
    }
   ],
   "source": [
    "interval , estimation = BCa_boot_interval(Variable=X, estimator_function=np.quantile , B=200000, alpha=0.05, random_seed=123, q=0.75)"
   ]
  },
  {
   "cell_type": "markdown",
   "metadata": {},
   "source": []
  },
  {
   "cell_type": "markdown",
   "metadata": {},
   "source": []
  },
  {
   "attachments": {},
   "cell_type": "markdown",
   "metadata": {},
   "source": [
    "## Contrastes Bootstrap"
   ]
  },
  {
   "cell_type": "code",
   "execution_count": null,
   "metadata": {},
   "outputs": [],
   "source": [
    "def boot_test_mean(Variable, mean_0, H1_type, B, alpha):\n",
    "\n",
    "    n = len(Variable)\n",
    "\n",
    "    from sklearn.utils import resample\n",
    "\n",
    "   \n",
    "    def Bootstrap_sample(X):\n",
    "\n",
    "        sample = resample( X, n_samples=len(X))\n",
    "\n",
    "        return sample\n",
    "\n",
    "    def statistic_test(X):\n",
    "\n",
    "        statistic = (X.mean() - mean_0 )/np.sqrt(np.std(X)**2 / n)\n",
    "\n",
    "        return statistic\n",
    "\n",
    "\n",
    "\n",
    "    replicas_statistic_test = []\n",
    "\n",
    "\n",
    "    for b in range(0, B):\n",
    "\n",
    "        replicas_statistic_test.append( statistic_test( Bootstrap_sample(Variable) ) )\n",
    "\n",
    "\n",
    "\n",
    "    #############################################################\n",
    "\n",
    "    if H1_type == 'greater':  \n",
    "        \n",
    "        ASL = sum(replicas_statistic_test >= statistic_test(Variable)) / B\n",
    "\n",
    "        if ASL <= alpha : \n",
    "            \n",
    "            result = 'Reject H0: mean = mean_0  in favor of  H1: mean > mean_0  -->  Accept H1: mean > mean_0'\n",
    "\n",
    "        else : \n",
    "            \n",
    "            result = 'Not Reject H0: mean = mean_0  in favor of  H1: mean > mean_0  -->  Not Accept H1: mean > mean_0'\n",
    "\n",
    "\n",
    "    if H1_type == 'less':\n",
    "        \n",
    "        ASL = sum(replicas_statistic_test <= statistic_test(Variable)) / B\n",
    "\n",
    "        if ASL <= alpha : \n",
    "            \n",
    "            result = 'Reject H0: mean = mean_0  in favor of  H1: mean < mean_0  -->  Accept H1: mean < mean_0'\n",
    "\n",
    "        else : \n",
    "            \n",
    "            result = 'Not Reject H0: mean = mean_0  in favor of  H1: mean < mean_0  -->  Not Accept H1: mean < mean_0'\n",
    "\n",
    "\n",
    "    if H1_type == 'two.sided':\n",
    "        \n",
    "        ASL = sum(replicas_statistic_test >= abs(statistic_test(Variable))) / B   +   sum(replicas_statistic_test <= -abs(statistic_test(Variable))) / B \n",
    "\n",
    "        if ASL <= alpha : \n",
    "            \n",
    "            result = 'Reject H0: mean = mean_0  in favor of  H1: mean =/= mean_0  -->  Accept H1: mean =/= mean_0'\n",
    "\n",
    "        else : \n",
    "            \n",
    "            result = 'Not Reject H0: mean = mean_0  in favor of  H1: mean =/= mean_0  -->  Not Accept H1: mean =/= mean_0'\n",
    "\n",
    "    #############################################################\n",
    "\n",
    "    return ASL , result"
   ]
  },
  {
   "cell_type": "code",
   "execution_count": null,
   "metadata": {},
   "outputs": [],
   "source": [
    "import pandas as pd"
   ]
  },
  {
   "cell_type": "code",
   "execution_count": null,
   "metadata": {},
   "outputs": [],
   "source": [
    "Data = pd.read_csv('House_Price_Regression.csv')"
   ]
  },
  {
   "cell_type": "code",
   "execution_count": null,
   "metadata": {},
   "outputs": [],
   "source": [
    "Price = Data.price"
   ]
  },
  {
   "cell_type": "code",
   "execution_count": null,
   "metadata": {},
   "outputs": [
    {
     "data": {
      "text/plain": [
       "2085829.8734908137"
      ]
     },
     "execution_count": 145,
     "metadata": {},
     "output_type": "execute_result"
    }
   ],
   "source": [
    "Price.mean()"
   ]
  },
  {
   "cell_type": "code",
   "execution_count": null,
   "metadata": {},
   "outputs": [
    {
     "data": {
      "text/plain": [
       "(0.52615,\n",
       " 'Not Reject H0: mean = mean_0  in favor of  H1: mean > mean_0  -->  Not Accept H1: mean > mean_0')"
      ]
     },
     "execution_count": 155,
     "metadata": {},
     "output_type": "execute_result"
    }
   ],
   "source": [
    "boot_test_mean(Variable=Price, mean_0=1000, H1_type='greater', B=20000 , alpha=0.05)"
   ]
  },
  {
   "cell_type": "code",
   "execution_count": null,
   "metadata": {},
   "outputs": [
    {
     "data": {
      "text/plain": [
       "(0.47545,\n",
       " 'Not Reject H0: mean = mean_0  in favor of  H1: mean < mean_0  -->  Not Accept H1: mean < mean_0')"
      ]
     },
     "execution_count": 156,
     "metadata": {},
     "output_type": "execute_result"
    }
   ],
   "source": [
    "boot_test_mean(Variable=Price, mean_0=1000, H1_type='less', B=20000 , alpha=0.05)"
   ]
  },
  {
   "cell_type": "code",
   "execution_count": null,
   "metadata": {},
   "outputs": [
    {
     "data": {
      "text/plain": [
       "(0.5215,\n",
       " 'Not Reject H0: mean = mean_0  in favor of  H1: mean =/= mean_0  -->  Not Accept H1: mean =/= mean_0')"
      ]
     },
     "execution_count": 154,
     "metadata": {},
     "output_type": "execute_result"
    }
   ],
   "source": [
    "boot_test_mean(Variable=Price, mean_0=1000, H1_type='two.sided', B=20000 , alpha=0.05)"
   ]
  },
  {
   "cell_type": "markdown",
   "metadata": {},
   "source": []
  },
  {
   "cell_type": "markdown",
   "metadata": {},
   "source": [
    "## Contrastes de hipotesis por permutaciones"
   ]
  },
  {
   "cell_type": "markdown",
   "metadata": {},
   "source": [
    "El test de permutaciones es un test de significancia estadística para el estudio de diferencias entre grupos. Fue desarrollado por Ronald Fisher y E.J.G. Pitman en 1930. La distribución del estadístico estudiado (media, mediana...) se obtiene calculando el valor de dicho estadístico para todas las posibles reorganizaciones de las observaciones en los distintos grupos. Dado que implica calcular todas las posibles situaciones, se trata de un test exacto.\n"
   ]
  },
  {
   "cell_type": "markdown",
   "metadata": {},
   "source": [
    "\n",
    "La filosofia de los test de permutaciones es la siguiente:\n"
   ]
  },
  {
   "cell_type": "markdown",
   "metadata": {},
   "source": [
    "\n",
    "Se tiene un conjunto de individuos, los cuales se distribuyen aleatoriamente en dos grupos, $T$ y $C$, de tamaños  $n_t$  y  $n_c$\n"
   ]
  },
  {
   "cell_type": "markdown",
   "metadata": {},
   "source": [
    "\n",
    "Se aplica un experimento, que generalmente consiste en aplicar un tratamiento sobre un grupo (grupo tratamiento $T$) y no aplicarlo sobre el otro grupo (grupo control $C$).\n"
   ]
  },
  {
   "cell_type": "markdown",
   "metadata": {},
   "source": [
    "\n",
    "Se mide una variable de interés $X$ en cada uno de los grupos:\n",
    "\n",
    "$$ X^t = (x^t_{1},...,x^t_{n_t }) $$\n",
    "$$ X^c = (x^c_{1},...,x^c_{n_c }) $$\n",
    "\n",
    "Donde: \n",
    "\n",
    "$x^t_{i}$ es el valor de $X$ para el $i$-esimo individuo del grupo $T$\n",
    "\n",
    "$x^c_{i}$ es el valor de $X$ para el $i$-esimo individuo del grupo $C$\n",
    "\n"
   ]
  },
  {
   "cell_type": "markdown",
   "metadata": {},
   "source": [
    "\n",
    "Se calcula un estadistico $\\widehat{\\theta}$ de $X$ en los grupos $\\Rightarrow \\widehat{\\theta}_t = f(X^t), \\widehat{\\theta}_c = f(X^c)$\n",
    "\n",
    "Estadisticos habituales son la media y la mediana.\n"
   ]
  },
  {
   "cell_type": "markdown",
   "metadata": {},
   "source": [
    "\n",
    "Se desea  determinar si existen diferencias significativas entre el valor del estadistico para cada grupo. \n",
    "\n",
    "Para ello se considera que si la diferencia observada en valor absoluto ($\\mid D_{obs} \\mid = \\mid \\widehat{\\theta}_t - \\widehat{\\theta}_c \\mid$ ) es \n",
    "mayor que la diferencia esperada por la asignación aleatoria de los grupos, en valor absoluto.\n",
    " \n",
    "\n",
    "En términos estadísticos, la hipótesis nula ( $H_0$ ) es que ambas muestras pertenecen a la misma distribución y que, las diferencias observadas, son debidas únicamente a variaciones causadas por el reparto aleatorio en grupos. \n"
   ]
  },
  {
   "cell_type": "markdown",
   "metadata": {},
   "source": [
    "\n",
    "El test de permutación permite identificar si hay evidencias en contra de esta hipótesis. Para ello los pasos a seguir son:"
   ]
  },
  {
   "cell_type": "markdown",
   "metadata": {},
   "source": [
    "1) Calcular la diferencia observada del estadistico para los dos grupos  \n",
    "\n",
    " $$\\mid D_{obs} \\mid = \\mid \\widehat{\\theta}_t - \\widehat{\\theta}_c \\mid$$\n"
   ]
  },
  {
   "cell_type": "markdown",
   "metadata": {},
   "source": [
    "\n",
    "2) Todas las observaciones se unen sin tener en cuenta el grupo al que pertenecen. $(X^t , X^c)$\n"
   ]
  },
  {
   "cell_type": "markdown",
   "metadata": {},
   "source": [
    "\n",
    "3) Se generan $B$ pares de muestras  sin reemplazamiento  de $(X^t , X^c)$ , de tamaño $n_t$ y $n_c$ respectivamente :\n",
    "\n",
    "$$(\\mathcal{X}^t_1 , \\mathcal{X}^c_1), (\\mathcal{X}^t_2 , \\mathcal{X}^c_2),\\dots, (\\mathcal{X}^t_B , \\mathcal{X}^c_B)$$\n",
    "\n",
    "\n",
    "   $\\mathcal{X}^g_i$ es la muestra aleatoria $i$-esima de tamaño n_g extraida de  $(X^t , X^c)$ , para $g=t,c$ , $i=1,...,B$\n",
    "   \n",
    "  \n"
   ]
  },
  {
   "cell_type": "markdown",
   "metadata": {},
   "source": [
    "\n",
    "4) Para cada combinación, calcular la diferencia entre medias  (difcalculada) . El conjunto de valores obtenidos forman la distribución exacta de las posibles diferencias siendo cierta la hipótesis nula de que los dos grupos proceden de la misma población. A esta distribución, se le conoce como permutation distribution of the mean difference.\n",
    "\n",
    "5) Calcular el p-value de dos colas como la proporción de combinaciones en las que, el valor absoluto de la diferencia calculada, es mayor o igual al valor absoluto de la diferencia observada. La idea es que si esta proporcion no es suficientemente pequeña, habrá evidencias de que las diferencias observadas entre los grupos son fruto del azar involucrado al generar los grupos y no del tratamiento.  Si en cambio esta proporcion es suficientemente pequeña, habra evidencias de que las doferencias observadas son causadas por el tratamiento, y no por la configuracion aleatoria de los grupos. Pero hay que delimitar un punto a partir del cual considerar esta proporcion como suficientmiente pequeña o no.\n",
    "\n",
    "6) Si el p-value calculado en 5) es mayor que cierto limite $\\alpha$ , no se podra rechazar H_0 en favor de H_1 puesto que se entiende que no hay suficiente evidencia. En caso de p-value menor que \\alpha se acepta H_1 dada la evidencia dispobible. Normalmente se considera \\alpha = 0.05 , 0.1 0 o 0.01 , en funcion del nivel de evidencia exigido. A mayor alpha, menos evidencia se exige para aceptar H_1 , cuando menor alpha mayor evidencia exigida para aceptar H_1\n",
    "\n",
    "En este ejemplo se emplea como estadístico la media pero podría ser cualquier otro (mediana, varianza...)"
   ]
  },
  {
   "cell_type": "markdown",
   "metadata": {},
   "source": [
    "Para que el test sea exacto deberia tomarse $B= \\dfrac{(n_t+n_c)!}{n_t! \\hspace{0.1cm} n_c!}$ , que es el numero de diferentes combinaciones  para distribuir $n_t + n_c$  observaciones en dos grupos de tamaños $n_t$ y $n_c$ \n",
    "\n",
    "Y ademas las B pares de muestras extraidas deberian de ser distintos (sin que importe el orden de los elementos, es decir dos muestras con los mismos elementos pero en diferente orden son consideradas iguales).\n",
    "\n",
    "El problema de este enfoque exacto es que para tamaños moderados de $n_t + n_c$ se llegan a valores inasumibles de $B= \\dfrac{(n_t+n_c)!}{n_t! \\hspace{0.1cm} n_c!}$\n",
    "\n",
    "Por ejemplo:"
   ]
  },
  {
   "cell_type": "code",
   "execution_count": null,
   "metadata": {},
   "outputs": [],
   "source": [
    "from math import factorial"
   ]
  },
  {
   "cell_type": "code",
   "execution_count": null,
   "metadata": {},
   "outputs": [
    {
     "data": {
      "text/plain": [
       "30045015.0"
      ]
     },
     "execution_count": 5,
     "metadata": {},
     "output_type": "execute_result"
    }
   ],
   "source": [
    "factorial(30) / (factorial(20)*factorial(10))"
   ]
  },
  {
   "cell_type": "code",
   "execution_count": null,
   "metadata": {},
   "outputs": [
    {
     "data": {
      "text/plain": [
       "155117520.0"
      ]
     },
     "execution_count": 7,
     "metadata": {},
     "output_type": "execute_result"
    }
   ],
   "source": [
    "factorial(30) / (factorial(15)*factorial(15))"
   ]
  },
  {
   "cell_type": "markdown",
   "metadata": {},
   "source": [
    "La única condición necesaria para un test de permutaciones se conoce como exchangeability, según la cual, todas las posibles permutaciones tienen la misma probabilidad de ocurrir siendo cierta la hipótesis nula.\n",
    "\n",
    "Los test de permutación son test de significancia y, por lo tanto, se emplean para calcular p-values. Es importante tener en cuenta que, las conclusiones extraídas, solo son aplicables a diseños de tipo experimental. Estudios en los que, tras haber elegido los sujetos, se realiza una asignación aleatoria a los diferentes grupos.\n",
    "\n",
    "Nota: si bien se utiliza el término permutación, se trata realmente de combinaciones, ya que el orden de las observaciones dentro de cada grupo no importa."
   ]
  },
  {
   "cell_type": "markdown",
   "metadata": {},
   "source": [
    "Simulación de Monte Carlo\n",
    "\n",
    "En los test de permutación, el p-value obtenido es exacto ya que se calculan todas las posibles combinaciones de las observaciones. Esto resulta complicado o imposible cuando el tamaño muestral es mediano o grande. Por ejemplo, existen más de 155 millones combinaciones distintas para distribuir 30 observaciones en dos grupos de 15 cada uno.\n"
   ]
  },
  {
   "cell_type": "markdown",
   "metadata": {},
   "source": [
    "\n",
    "(m+n)!m!n!=(15+15)!15!15!=155117520\n",
    " \n"
   ]
  },
  {
   "cell_type": "code",
   "execution_count": null,
   "metadata": {},
   "outputs": [],
   "source": [
    "# Número total de combinaciones\n",
    "# ==============================================================================\n",
    "from math import factorial\n",
    "print(f\"Total combinaciones = {factorial(15 + 15) / (factorial(15)*factorial(15))}\")\n"
   ]
  },
  {
   "cell_type": "markdown",
   "metadata": {},
   "source": [
    "\n",
    "Total combinaciones = 155117520.0\n",
    "La simulación de Monte Carlo o randomization test consiste en emplear únicamente una muestra aleatoria de todas las posibles combinaciones, evitando así tener que calcularlas todas. Al no calcularse todas las posibles combinaciones, no es un test exacto sino aproximado.\n",
    "\n",
    "El método de Monte Carlo no es insesgado. Una de las correcciones más empleadas es la propuesta por Davison and Hinkley):\n",
    "\n",
    "pvalue=r+1k+1\n",
    " \n",
    "siendo r el número de combinaciones igual o más extremas que el estadístico observado y k el número de combinaciones empleadas en la simulación.\n",
    "\n",
    "A pesar de que la corrección es mínima cuando el número de simulaciones es alto, presenta la ventaja de que, si el valor observado es mayor que cualquiera de los calculados, el p-value es muy bajo pero no cero. Por facilidades de cálculo, se suele emplear un número de permutaciones terminado en 9 (4999, 9999)."
   ]
  },
  {
   "cell_type": "markdown",
   "metadata": {},
   "source": [
    "¿Cuántas permutaciones (combinaciones) son necesarias?\n",
    "\n",
    "No hay un número predefinido de combinaciones que asegure buenos resultados. Una forma de guiar la elección es tener en cuenta el valor mínimo capaz de ser detectado. Por ejemplo, con 1000 permutaciones, el menor valor de p-values posible es  pvalue=1+11000+1=0.001998 .\n",
    "\n",
    "A pesar de ello, la estabilidad y el error de la estimación varían mucho en función de los datos disponibles. Suele encontrarse como recomendación empírica emplear al menos 2000 iteraciones."
   ]
  },
  {
   "cell_type": "markdown",
   "metadata": {},
   "source": [
    "¿Cómo interpretar el p-value obtenido?\n",
    "\n",
    "El p-value es la probabilidad de obtener un valor del estadístico igual o más extremo que el valor observado, si la hipótesis nula es cierta  P(datos|H0) . Es importante no confundir esto con la probabilidad de que la hipótesis nula sea cierta  P(H0|datos) . Si el valor es muy pequeño, se puede interpretar como una evidencia en contra de la hipótesis nula, pero no como una confirmación de las hipótesis alternativas."
   ]
  },
  {
   "cell_type": "markdown",
   "metadata": {},
   "source": []
  },
  {
   "cell_type": "markdown",
   "metadata": {},
   "source": []
  },
  {
   "attachments": {},
   "cell_type": "markdown",
   "metadata": {},
   "source": [
    "## Regresión lineal bootstrap"
   ]
  },
  {
   "cell_type": "code",
   "execution_count": 186,
   "metadata": {},
   "outputs": [],
   "source": [
    "import pandas as  pd"
   ]
  },
  {
   "cell_type": "code",
   "execution_count": 190,
   "metadata": {},
   "outputs": [
    {
     "data": {
      "text/html": [
       "<div>\n",
       "<style scoped>\n",
       "    .dataframe tbody tr th:only-of-type {\n",
       "        vertical-align: middle;\n",
       "    }\n",
       "\n",
       "    .dataframe tbody tr th {\n",
       "        vertical-align: top;\n",
       "    }\n",
       "\n",
       "    .dataframe thead th {\n",
       "        text-align: right;\n",
       "    }\n",
       "</style>\n",
       "<table border=\"1\" class=\"dataframe\">\n",
       "  <thead>\n",
       "    <tr style=\"text-align: right;\">\n",
       "      <th></th>\n",
       "      <th>latitude</th>\n",
       "      <th>longitude</th>\n",
       "      <th>price</th>\n",
       "      <th>size_in_m_2</th>\n",
       "      <th>no_of_bedrooms</th>\n",
       "      <th>no_of_bathrooms</th>\n",
       "      <th>quality_recode</th>\n",
       "    </tr>\n",
       "  </thead>\n",
       "  <tbody>\n",
       "    <tr>\n",
       "      <th>0</th>\n",
       "      <td>25.113208</td>\n",
       "      <td>55.138932</td>\n",
       "      <td>2700000</td>\n",
       "      <td>100.242337</td>\n",
       "      <td>1</td>\n",
       "      <td>2</td>\n",
       "      <td>2.0</td>\n",
       "    </tr>\n",
       "    <tr>\n",
       "      <th>1</th>\n",
       "      <td>25.106809</td>\n",
       "      <td>55.151201</td>\n",
       "      <td>2850000</td>\n",
       "      <td>146.972546</td>\n",
       "      <td>2</td>\n",
       "      <td>2</td>\n",
       "      <td>2.0</td>\n",
       "    </tr>\n",
       "    <tr>\n",
       "      <th>2</th>\n",
       "      <td>25.063302</td>\n",
       "      <td>55.137728</td>\n",
       "      <td>1150000</td>\n",
       "      <td>181.253753</td>\n",
       "      <td>3</td>\n",
       "      <td>5</td>\n",
       "      <td>2.0</td>\n",
       "    </tr>\n",
       "    <tr>\n",
       "      <th>3</th>\n",
       "      <td>25.227295</td>\n",
       "      <td>55.341761</td>\n",
       "      <td>2850000</td>\n",
       "      <td>187.664060</td>\n",
       "      <td>2</td>\n",
       "      <td>3</td>\n",
       "      <td>1.0</td>\n",
       "    </tr>\n",
       "    <tr>\n",
       "      <th>4</th>\n",
       "      <td>25.114275</td>\n",
       "      <td>55.139764</td>\n",
       "      <td>1729200</td>\n",
       "      <td>47.101821</td>\n",
       "      <td>0</td>\n",
       "      <td>1</td>\n",
       "      <td>2.0</td>\n",
       "    </tr>\n",
       "  </tbody>\n",
       "</table>\n",
       "</div>"
      ],
      "text/plain": [
       "    latitude  longitude    price  size_in_m_2  no_of_bedrooms  \\\n",
       "0  25.113208  55.138932  2700000   100.242337               1   \n",
       "1  25.106809  55.151201  2850000   146.972546               2   \n",
       "2  25.063302  55.137728  1150000   181.253753               3   \n",
       "3  25.227295  55.341761  2850000   187.664060               2   \n",
       "4  25.114275  55.139764  1729200    47.101821               0   \n",
       "\n",
       "   no_of_bathrooms  quality_recode  \n",
       "0                2             2.0  \n",
       "1                2             2.0  \n",
       "2                5             2.0  \n",
       "3                3             1.0  \n",
       "4                1             2.0  "
      ]
     },
     "execution_count": 190,
     "metadata": {},
     "output_type": "execute_result"
    }
   ],
   "source": [
    "Data = pd.read_csv('House_Price_Regression.csv')\n",
    "\n",
    "Data = Data.loc[:, ['latitude', 'longitude', 'price', 'size_in_m_2','no_of_bedrooms', 'no_of_bathrooms', 'quality_recode']]\n",
    "\n",
    "Data.head()"
   ]
  },
  {
   "cell_type": "code",
   "execution_count": 206,
   "metadata": {},
   "outputs": [],
   "source": [
    "Data['quality_recode'] = Data['quality_recode'].astype('category')"
   ]
  },
  {
   "cell_type": "code",
   "execution_count": 188,
   "metadata": {},
   "outputs": [],
   "source": [
    "import sklearn\n",
    "\n",
    "from sklearn.linear_model import LinearRegression"
   ]
  },
  {
   "cell_type": "code",
   "execution_count": 207,
   "metadata": {},
   "outputs": [],
   "source": [
    "X = Data[['size_in_m_2', 'longitude', 'latitude', 'no_of_bedrooms', 'no_of_bathrooms', 'quality_recode']]\n",
    "Y = Data['price']"
   ]
  },
  {
   "cell_type": "code",
   "execution_count": 202,
   "metadata": {},
   "outputs": [
    {
     "data": {
      "text/html": [
       "<div>\n",
       "<style scoped>\n",
       "    .dataframe tbody tr th:only-of-type {\n",
       "        vertical-align: middle;\n",
       "    }\n",
       "\n",
       "    .dataframe tbody tr th {\n",
       "        vertical-align: top;\n",
       "    }\n",
       "\n",
       "    .dataframe thead th {\n",
       "        text-align: right;\n",
       "    }\n",
       "</style>\n",
       "<table border=\"1\" class=\"dataframe\">\n",
       "  <thead>\n",
       "    <tr style=\"text-align: right;\">\n",
       "      <th></th>\n",
       "      <th>size_in_m_2</th>\n",
       "      <th>longitude</th>\n",
       "      <th>latitude</th>\n",
       "      <th>no_of_bedrooms</th>\n",
       "      <th>no_of_bathrooms</th>\n",
       "      <th>quality_recode</th>\n",
       "    </tr>\n",
       "  </thead>\n",
       "  <tbody>\n",
       "    <tr>\n",
       "      <th>0</th>\n",
       "      <td>100.242337</td>\n",
       "      <td>55.138932</td>\n",
       "      <td>25.113208</td>\n",
       "      <td>1</td>\n",
       "      <td>2</td>\n",
       "      <td>2.0</td>\n",
       "    </tr>\n",
       "    <tr>\n",
       "      <th>1</th>\n",
       "      <td>146.972546</td>\n",
       "      <td>55.151201</td>\n",
       "      <td>25.106809</td>\n",
       "      <td>2</td>\n",
       "      <td>2</td>\n",
       "      <td>2.0</td>\n",
       "    </tr>\n",
       "    <tr>\n",
       "      <th>2</th>\n",
       "      <td>181.253753</td>\n",
       "      <td>55.137728</td>\n",
       "      <td>25.063302</td>\n",
       "      <td>3</td>\n",
       "      <td>5</td>\n",
       "      <td>2.0</td>\n",
       "    </tr>\n",
       "    <tr>\n",
       "      <th>3</th>\n",
       "      <td>187.664060</td>\n",
       "      <td>55.341761</td>\n",
       "      <td>25.227295</td>\n",
       "      <td>2</td>\n",
       "      <td>3</td>\n",
       "      <td>1.0</td>\n",
       "    </tr>\n",
       "    <tr>\n",
       "      <th>4</th>\n",
       "      <td>47.101821</td>\n",
       "      <td>55.139764</td>\n",
       "      <td>25.114275</td>\n",
       "      <td>0</td>\n",
       "      <td>1</td>\n",
       "      <td>2.0</td>\n",
       "    </tr>\n",
       "  </tbody>\n",
       "</table>\n",
       "</div>"
      ],
      "text/plain": [
       "   size_in_m_2  longitude   latitude  no_of_bedrooms  no_of_bathrooms  \\\n",
       "0   100.242337  55.138932  25.113208               1                2   \n",
       "1   146.972546  55.151201  25.106809               2                2   \n",
       "2   181.253753  55.137728  25.063302               3                5   \n",
       "3   187.664060  55.341761  25.227295               2                3   \n",
       "4    47.101821  55.139764  25.114275               0                1   \n",
       "\n",
       "  quality_recode  \n",
       "0            2.0  \n",
       "1            2.0  \n",
       "2            2.0  \n",
       "3            1.0  \n",
       "4            2.0  "
      ]
     },
     "execution_count": 202,
     "metadata": {},
     "output_type": "execute_result"
    }
   ],
   "source": [
    "X.head()"
   ]
  },
  {
   "cell_type": "code",
   "execution_count": 193,
   "metadata": {},
   "outputs": [
    {
     "data": {
      "text/plain": [
       "0    2700000\n",
       "1    2850000\n",
       "2    1150000\n",
       "3    2850000\n",
       "4    1729200\n",
       "Name: price, dtype: int64"
      ]
     },
     "execution_count": 193,
     "metadata": {},
     "output_type": "execute_result"
    }
   ],
   "source": [
    "Y.head()"
   ]
  },
  {
   "cell_type": "code",
   "execution_count": 199,
   "metadata": {},
   "outputs": [],
   "source": [
    "def varcharProcessing(X, varchar_process = \"dummy_dropfirst\"):\n",
    "    \n",
    "    dtypes = X.dtypes\n",
    "\n",
    "    if varchar_process == \"drop\":   \n",
    "        X = X.drop(columns = dtypes[dtypes == np.object].index.tolist())\n",
    "\n",
    "    elif varchar_process == \"dummy\":\n",
    "        X = pd.get_dummies(X,drop_first=False)\n",
    "\n",
    "    elif varchar_process == \"dummy_dropfirst\":\n",
    "        X = pd.get_dummies(X,drop_first=True)\n",
    "\n",
    "    else: \n",
    "        X = pd.get_dummies(X,drop_first=True)\n",
    "    \n",
    "    X[\"intercept\"] = 1\n",
    "    cols = X.columns.tolist()\n",
    "    cols = cols[-1:] + cols[:-1]\n",
    "    X = X[cols]\n",
    "    \n",
    "    return X"
   ]
  },
  {
   "cell_type": "code",
   "execution_count": 208,
   "metadata": {},
   "outputs": [
    {
     "data": {
      "text/html": [
       "<div>\n",
       "<style scoped>\n",
       "    .dataframe tbody tr th:only-of-type {\n",
       "        vertical-align: middle;\n",
       "    }\n",
       "\n",
       "    .dataframe tbody tr th {\n",
       "        vertical-align: top;\n",
       "    }\n",
       "\n",
       "    .dataframe thead th {\n",
       "        text-align: right;\n",
       "    }\n",
       "</style>\n",
       "<table border=\"1\" class=\"dataframe\">\n",
       "  <thead>\n",
       "    <tr style=\"text-align: right;\">\n",
       "      <th></th>\n",
       "      <th>intercept</th>\n",
       "      <th>size_in_m_2</th>\n",
       "      <th>longitude</th>\n",
       "      <th>latitude</th>\n",
       "      <th>no_of_bedrooms</th>\n",
       "      <th>no_of_bathrooms</th>\n",
       "      <th>quality_recode_1.0</th>\n",
       "      <th>quality_recode_2.0</th>\n",
       "      <th>quality_recode_3.0</th>\n",
       "    </tr>\n",
       "  </thead>\n",
       "  <tbody>\n",
       "    <tr>\n",
       "      <th>0</th>\n",
       "      <td>1</td>\n",
       "      <td>100.242337</td>\n",
       "      <td>55.138932</td>\n",
       "      <td>25.113208</td>\n",
       "      <td>1</td>\n",
       "      <td>2</td>\n",
       "      <td>0</td>\n",
       "      <td>1</td>\n",
       "      <td>0</td>\n",
       "    </tr>\n",
       "    <tr>\n",
       "      <th>1</th>\n",
       "      <td>1</td>\n",
       "      <td>146.972546</td>\n",
       "      <td>55.151201</td>\n",
       "      <td>25.106809</td>\n",
       "      <td>2</td>\n",
       "      <td>2</td>\n",
       "      <td>0</td>\n",
       "      <td>1</td>\n",
       "      <td>0</td>\n",
       "    </tr>\n",
       "    <tr>\n",
       "      <th>2</th>\n",
       "      <td>1</td>\n",
       "      <td>181.253753</td>\n",
       "      <td>55.137728</td>\n",
       "      <td>25.063302</td>\n",
       "      <td>3</td>\n",
       "      <td>5</td>\n",
       "      <td>0</td>\n",
       "      <td>1</td>\n",
       "      <td>0</td>\n",
       "    </tr>\n",
       "    <tr>\n",
       "      <th>3</th>\n",
       "      <td>1</td>\n",
       "      <td>187.664060</td>\n",
       "      <td>55.341761</td>\n",
       "      <td>25.227295</td>\n",
       "      <td>2</td>\n",
       "      <td>3</td>\n",
       "      <td>1</td>\n",
       "      <td>0</td>\n",
       "      <td>0</td>\n",
       "    </tr>\n",
       "    <tr>\n",
       "      <th>4</th>\n",
       "      <td>1</td>\n",
       "      <td>47.101821</td>\n",
       "      <td>55.139764</td>\n",
       "      <td>25.114275</td>\n",
       "      <td>0</td>\n",
       "      <td>1</td>\n",
       "      <td>0</td>\n",
       "      <td>1</td>\n",
       "      <td>0</td>\n",
       "    </tr>\n",
       "  </tbody>\n",
       "</table>\n",
       "</div>"
      ],
      "text/plain": [
       "   intercept  size_in_m_2  longitude   latitude  no_of_bedrooms  \\\n",
       "0          1   100.242337  55.138932  25.113208               1   \n",
       "1          1   146.972546  55.151201  25.106809               2   \n",
       "2          1   181.253753  55.137728  25.063302               3   \n",
       "3          1   187.664060  55.341761  25.227295               2   \n",
       "4          1    47.101821  55.139764  25.114275               0   \n",
       "\n",
       "   no_of_bathrooms  quality_recode_1.0  quality_recode_2.0  quality_recode_3.0  \n",
       "0                2                   0                   1                   0  \n",
       "1                2                   0                   1                   0  \n",
       "2                5                   0                   1                   0  \n",
       "3                3                   1                   0                   0  \n",
       "4                1                   0                   1                   0  "
      ]
     },
     "execution_count": 208,
     "metadata": {},
     "output_type": "execute_result"
    }
   ],
   "source": [
    "X = varcharProcessing(X, varchar_process = \"dummy_dropfirst\")\n",
    "\n",
    "X.head()"
   ]
  },
  {
   "cell_type": "code",
   "execution_count": 209,
   "metadata": {},
   "outputs": [],
   "source": [
    "model = LinearRegression().fit(X, Y)"
   ]
  },
  {
   "cell_type": "code",
   "execution_count": 210,
   "metadata": {},
   "outputs": [],
   "source": [
    "residuals = np.sum( Y - model.predict(X) )"
   ]
  },
  {
   "cell_type": "code",
   "execution_count": null,
   "metadata": {},
   "outputs": [],
   "source": [
    "residual"
   ]
  }
 ],
 "metadata": {
  "kernelspec": {
   "display_name": "Python 3.10.0 64-bit",
   "language": "python",
   "name": "python3"
  },
  "language_info": {
   "codemirror_mode": {
    "name": "ipython",
    "version": 3
   },
   "file_extension": ".py",
   "mimetype": "text/x-python",
   "name": "python",
   "nbconvert_exporter": "python",
   "pygments_lexer": "ipython3",
   "version": "3.10.0"
  },
  "orig_nbformat": 4,
  "vscode": {
   "interpreter": {
    "hash": "c63d8c7d738c2960218a10995aedf0a7f67a49a231e71037adf0440953cdb45b"
   }
  }
 },
 "nbformat": 4,
 "nbformat_minor": 2
}
