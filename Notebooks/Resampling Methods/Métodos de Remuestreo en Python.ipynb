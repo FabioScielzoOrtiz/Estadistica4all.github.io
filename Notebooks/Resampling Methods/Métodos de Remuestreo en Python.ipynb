{
 "cells": [
  {
   "cell_type": "markdown",
   "metadata": {},
   "source": [
    "## Jacknife"
   ]
  },
  {
   "cell_type": "code",
   "execution_count": 1,
   "metadata": {},
   "outputs": [],
   "source": [
    "import numpy as np"
   ]
  },
  {
   "cell_type": "markdown",
   "metadata": {},
   "source": []
  },
  {
   "cell_type": "code",
   "execution_count": 2,
   "metadata": {},
   "outputs": [],
   "source": [
    "def Jacknife(X , estimador, q=0.75):\n",
    "\n",
    "#######################################################\n",
    "\n",
    "    if estimador == 'median':\n",
    "\n",
    "        def Jacknife_sample(X , r):\n",
    "\n",
    "            X_sample_r = np.delete(X, r)\n",
    "\n",
    "            return(X_sample_r)\n",
    "\n",
    "        \n",
    "        replicas_estimador = []\n",
    "\n",
    "        for r in range(0, len(X)):\n",
    "\n",
    "            replicas_estimador.append( np.median( Jacknife_sample(X , r) ) )\n",
    "\n",
    "    \n",
    "        n = len(X)\n",
    "\n",
    "        sesgo = (n-1) * ( np.mean( replicas_estimador ) - np.median(X) )\n",
    "\n",
    "        estimacion_sesgo_corregido = np.median(X) - sesgo\n",
    "\n",
    "        standard_error = np.sqrt( ((n-1)/n) * sum( (replicas_estimador - np.mean( replicas_estimador ))**2 ) )\n",
    "\n",
    " #######################################################   \n",
    "\n",
    "    if estimador == 'mean':\n",
    "\n",
    "        def Jacknife_sample(X , r):\n",
    "\n",
    "            X_sample_r = np.delete(X, r)\n",
    "\n",
    "            return(X_sample_r)\n",
    "\n",
    "        \n",
    "        replicas_estimador = []\n",
    "\n",
    "        for r in range(0, len(X)):\n",
    "\n",
    "            replicas_estimador.append( np.mean( Jacknife_sample(X , r) ) )\n",
    "\n",
    "    \n",
    "        n = len(X)\n",
    "\n",
    "        sesgo = (n-1) * ( np.mean( replicas_estimador ) - np.mean(X) )\n",
    "\n",
    "        estimacion_sesgo_corregido = np.mean(X) - sesgo\n",
    "\n",
    "        standard_error = np.sqrt( ((n-1)/n) * sum( (replicas_estimador - np.mean( replicas_estimador ))**2 ) )\n",
    "\n",
    "\n",
    "#######################################################\n",
    "\n",
    "    if estimador == 'std':\n",
    "\n",
    "        def Jacknife_sample(Xj , r):\n",
    "\n",
    "            X_sample_r = np.delete(Xj, r)\n",
    "\n",
    "            return(X_sample_r)\n",
    "\n",
    "        \n",
    "        replicas_estimador = []\n",
    "\n",
    "        for r in range(0, len(X)):\n",
    "\n",
    "            replicas_estimador.append( np.std( Jacknife_sample(X , r) ) )\n",
    "\n",
    "    \n",
    "        n = len(X)\n",
    "\n",
    "        sesgo = (n-1) * ( np.mean( replicas_estimador ) - np.std(X) )\n",
    "\n",
    "        estimacion_sesgo_corregido = np.std(X) - sesgo\n",
    "\n",
    "        standard_error = np.sqrt( ((n-1)/n) * sum( (replicas_estimador - np.mean( replicas_estimador ))**2 ) )\n",
    "\n",
    "\n",
    "#######################################################\n",
    "\n",
    "    if estimador == 'quantile':\n",
    "\n",
    "        def Jacknife_sample(X , r):\n",
    "\n",
    "            X_sample_r = np.delete(X, r)\n",
    "\n",
    "            return(X_sample_r)\n",
    "\n",
    "        \n",
    "        replicas_estimador = []\n",
    "\n",
    "        for r in range(0, len(X)):\n",
    "\n",
    "            replicas_estimador.append( np.quantile( Jacknife_sample(X , r) , q) )\n",
    "\n",
    "    \n",
    "        n = len(X)\n",
    "\n",
    "        sesgo = (n-1) * ( np.mean( replicas_estimador ) - np.quantile(X , q) )\n",
    "\n",
    "        estimacion_sesgo_corregido = np.quantile(X , q) - sesgo\n",
    "\n",
    "        standard_error = np.sqrt( ((n-1)/n) * sum( (replicas_estimador - np.mean( replicas_estimador ))**2 ) )\n",
    "\n",
    "#######################################################\n",
    "\n",
    "    if estimador == 'kurtosis':\n",
    "\n",
    "        import scipy\n",
    "\n",
    "        from scipy.stats import  kurtosis\n",
    "\n",
    "        def Jacknife_sample(X , r):\n",
    "\n",
    "            X_sample_r = np.delete(X, r)\n",
    "\n",
    "            return(X_sample_r)\n",
    "\n",
    "        \n",
    "        replicas_estimador = []\n",
    "\n",
    "        for r in range(0, len(X)):\n",
    "\n",
    "            replicas_estimador.append( kurtosis(X) )\n",
    "\n",
    "    \n",
    "        n = len(X)\n",
    "\n",
    "        sesgo = (n-1) * ( np.mean( replicas_estimador ) - kurtosis(X) )\n",
    "\n",
    "        estimacion_sesgo_corregido = kurtosis(X) - sesgo\n",
    "\n",
    "        standard_error = np.sqrt( ((n-1)/n) * sum( (replicas_estimador - np.mean( replicas_estimador ))**2 ) )\n",
    "\n",
    "\n",
    "#######################################################\n",
    "     \n",
    "#######################################################\n",
    "\n",
    "    if estimador == 'skewness':\n",
    "\n",
    "        import scipy\n",
    "\n",
    "        from scipy.stats import  skew\n",
    "\n",
    "        def Jacknife_sample(X , r):\n",
    "\n",
    "            X_sample_r = np.delete(X, r)\n",
    "\n",
    "            return(X_sample_r)\n",
    "\n",
    "        \n",
    "        replicas_estimador = []\n",
    "\n",
    "        for r in range(0, len(X)):\n",
    "\n",
    "            replicas_estimador.append( skew(X) )\n",
    "\n",
    "    \n",
    "        n = len(X)\n",
    "\n",
    "        sesgo = (n-1) * ( np.mean( replicas_estimador ) - skew(X) )\n",
    "\n",
    "        estimacion_sesgo_corregido = skew(X) - sesgo\n",
    "\n",
    "        standard_error = np.sqrt( ((n-1)/n) * sum( (replicas_estimador - np.mean( replicas_estimador ))**2 ) )\n",
    "\n",
    "\n",
    "#######################################################\n",
    "    \n",
    "    return(sesgo, estimacion_sesgo_corregido, standard_error)"
   ]
  },
  {
   "cell_type": "code",
   "execution_count": 3,
   "metadata": {},
   "outputs": [],
   "source": [
    "np.random.seed(123)\n",
    "\n",
    "X = np.random.normal(loc=10, scale=15, size=50)"
   ]
  },
  {
   "cell_type": "code",
   "execution_count": 4,
   "metadata": {},
   "outputs": [
    {
     "data": {
      "text/plain": [
       "8.23916733155832"
      ]
     },
     "execution_count": 4,
     "metadata": {},
     "output_type": "execute_result"
    }
   ],
   "source": [
    "np.median(X)"
   ]
  },
  {
   "cell_type": "code",
   "execution_count": 5,
   "metadata": {},
   "outputs": [],
   "source": [
    "sesgo, estimacion_sesgo_corregido, standard_error = Jacknife(X , 'median', q=0.75)"
   ]
  },
  {
   "cell_type": "code",
   "execution_count": 6,
   "metadata": {},
   "outputs": [
    {
     "data": {
      "text/plain": [
       "8.704148513061227e-14"
      ]
     },
     "execution_count": 6,
     "metadata": {},
     "output_type": "execute_result"
    }
   ],
   "source": [
    "sesgo"
   ]
  },
  {
   "cell_type": "code",
   "execution_count": 7,
   "metadata": {},
   "outputs": [
    {
     "data": {
      "text/plain": [
       "8.239167331558233"
      ]
     },
     "execution_count": 7,
     "metadata": {},
     "output_type": "execute_result"
    }
   ],
   "source": [
    "estimacion_sesgo_corregido"
   ]
  },
  {
   "cell_type": "code",
   "execution_count": 8,
   "metadata": {},
   "outputs": [
    {
     "data": {
      "text/plain": [
       "2.381386940718188"
      ]
     },
     "execution_count": 8,
     "metadata": {},
     "output_type": "execute_result"
    }
   ],
   "source": [
    "standard_error"
   ]
  },
  {
   "cell_type": "markdown",
   "metadata": {},
   "source": []
  },
  {
   "cell_type": "code",
   "execution_count": 9,
   "metadata": {},
   "outputs": [
    {
     "data": {
      "text/plain": [
       "10.199071616256777"
      ]
     },
     "execution_count": 9,
     "metadata": {},
     "output_type": "execute_result"
    }
   ],
   "source": [
    "np.mean(X)"
   ]
  },
  {
   "cell_type": "code",
   "execution_count": 10,
   "metadata": {},
   "outputs": [],
   "source": [
    "sesgo, estimacion_sesgo_corregido, standard_error = Jacknife(X , 'mean')"
   ]
  },
  {
   "cell_type": "code",
   "execution_count": 11,
   "metadata": {},
   "outputs": [
    {
     "data": {
      "text/plain": [
       "-8.704148513061227e-14"
      ]
     },
     "execution_count": 11,
     "metadata": {},
     "output_type": "execute_result"
    }
   ],
   "source": [
    "sesgo"
   ]
  },
  {
   "cell_type": "code",
   "execution_count": 12,
   "metadata": {},
   "outputs": [
    {
     "data": {
      "text/plain": [
       "10.199071616256864"
      ]
     },
     "execution_count": 12,
     "metadata": {},
     "output_type": "execute_result"
    }
   ],
   "source": [
    "estimacion_sesgo_corregido"
   ]
  },
  {
   "cell_type": "code",
   "execution_count": 13,
   "metadata": {},
   "outputs": [
    {
     "data": {
      "text/plain": [
       "2.5491917443460235"
      ]
     },
     "execution_count": 13,
     "metadata": {},
     "output_type": "execute_result"
    }
   ],
   "source": [
    "standard_error"
   ]
  },
  {
   "cell_type": "markdown",
   "metadata": {},
   "source": []
  },
  {
   "cell_type": "code",
   "execution_count": 14,
   "metadata": {},
   "outputs": [
    {
     "data": {
      "text/plain": [
       "17.844342210422187"
      ]
     },
     "execution_count": 14,
     "metadata": {},
     "output_type": "execute_result"
    }
   ],
   "source": [
    "np.std(X)"
   ]
  },
  {
   "cell_type": "code",
   "execution_count": 15,
   "metadata": {},
   "outputs": [],
   "source": [
    "sesgo, estimacion_sesgo_corregido, standard_error = Jacknife(X , 'std')"
   ]
  },
  {
   "cell_type": "code",
   "execution_count": 16,
   "metadata": {},
   "outputs": [
    {
     "data": {
      "text/plain": [
       "-0.26116994703598806"
      ]
     },
     "execution_count": 16,
     "metadata": {},
     "output_type": "execute_result"
    }
   ],
   "source": [
    "sesgo"
   ]
  },
  {
   "cell_type": "code",
   "execution_count": 17,
   "metadata": {},
   "outputs": [
    {
     "data": {
      "text/plain": [
       "18.105512157458175"
      ]
     },
     "execution_count": 17,
     "metadata": {},
     "output_type": "execute_result"
    }
   ],
   "source": [
    "estimacion_sesgo_corregido"
   ]
  },
  {
   "cell_type": "code",
   "execution_count": 18,
   "metadata": {},
   "outputs": [
    {
     "data": {
      "text/plain": [
       "1.6795955569730596"
      ]
     },
     "execution_count": 18,
     "metadata": {},
     "output_type": "execute_result"
    }
   ],
   "source": [
    "standard_error"
   ]
  },
  {
   "cell_type": "code",
   "execution_count": 20,
   "metadata": {},
   "outputs": [],
   "source": [
    "np.quantile(X , q=0.75)\n",
    "\n",
    "sesgo, estimacion_sesgo_corregido, standard_error = Jacknife(X , 'quantile', q=0.75)"
   ]
  },
  {
   "cell_type": "code",
   "execution_count": 21,
   "metadata": {},
   "outputs": [],
   "source": [
    "import scipy\n",
    "\n",
    "from scipy.stats import  kurtosis"
   ]
  },
  {
   "cell_type": "code",
   "execution_count": 22,
   "metadata": {},
   "outputs": [],
   "source": [
    "kurtosis(X)\n",
    "\n",
    "sesgo, estimacion_sesgo_corregido, standard_error = Jacknife(X , 'kurtosis')"
   ]
  },
  {
   "cell_type": "code",
   "execution_count": 23,
   "metadata": {},
   "outputs": [
    {
     "data": {
      "text/plain": [
       "0.0"
      ]
     },
     "execution_count": 23,
     "metadata": {},
     "output_type": "execute_result"
    }
   ],
   "source": [
    "sesgo"
   ]
  },
  {
   "cell_type": "code",
   "execution_count": 24,
   "metadata": {},
   "outputs": [
    {
     "data": {
      "text/plain": [
       "-0.37420768292897266"
      ]
     },
     "execution_count": 24,
     "metadata": {},
     "output_type": "execute_result"
    }
   ],
   "source": [
    "estimacion_sesgo_corregido"
   ]
  },
  {
   "cell_type": "code",
   "execution_count": 25,
   "metadata": {},
   "outputs": [
    {
     "data": {
      "text/plain": [
       "0.0"
      ]
     },
     "execution_count": 25,
     "metadata": {},
     "output_type": "execute_result"
    }
   ],
   "source": [
    "standard_error"
   ]
  },
  {
   "cell_type": "code",
   "execution_count": 26,
   "metadata": {},
   "outputs": [],
   "source": [
    "import scipy\n",
    "\n",
    "from scipy.stats import  skew"
   ]
  },
  {
   "cell_type": "code",
   "execution_count": 29,
   "metadata": {},
   "outputs": [
    {
     "data": {
      "text/plain": [
       "0.025587358812510053"
      ]
     },
     "execution_count": 29,
     "metadata": {},
     "output_type": "execute_result"
    }
   ],
   "source": [
    "skew(X)\n"
   ]
  },
  {
   "cell_type": "code",
   "execution_count": 30,
   "metadata": {},
   "outputs": [
    {
     "ename": "UnboundLocalError",
     "evalue": "local variable 'sesgo' referenced before assignment",
     "output_type": "error",
     "traceback": [
      "\u001b[1;31m---------------------------------------------------------------------------\u001b[0m",
      "\u001b[1;31mUnboundLocalError\u001b[0m                         Traceback (most recent call last)",
      "\u001b[1;32mc:\\Users\\Usuario\\Documents\\fabio\\Fabio\\Estadistica4all.github.io\\Notebooks\\Resampling Methods\\Métodos de Remuestreo en Python.ipynb Cell 31\u001b[0m in \u001b[0;36m<cell line: 1>\u001b[1;34m()\u001b[0m\n\u001b[1;32m----> <a href='vscode-notebook-cell:/c%3A/Users/Usuario/Documents/fabio/Fabio/Estadistica4all.github.io/Notebooks/Resampling%20Methods/M%C3%A9todos%20de%20Remuestreo%20en%20Python.ipynb#Y161sZmlsZQ%3D%3D?line=0'>1</a>\u001b[0m sesgo, estimacion_sesgo_corregido, standard_error \u001b[39m=\u001b[39m Jacknife(X , \u001b[39m'\u001b[39;49m\u001b[39masimetria\u001b[39;49m\u001b[39m'\u001b[39;49m)\n",
      "\u001b[1;32mc:\\Users\\Usuario\\Documents\\fabio\\Fabio\\Estadistica4all.github.io\\Notebooks\\Resampling Methods\\Métodos de Remuestreo en Python.ipynb Cell 31\u001b[0m in \u001b[0;36mJacknife\u001b[1;34m(X, estimador, q)\u001b[0m\n\u001b[0;32m    <a href='vscode-notebook-cell:/c%3A/Users/Usuario/Documents/fabio/Fabio/Estadistica4all.github.io/Notebooks/Resampling%20Methods/M%C3%A9todos%20de%20Remuestreo%20en%20Python.ipynb#Y161sZmlsZQ%3D%3D?line=169'>170</a>\u001b[0m         standard_error \u001b[39m=\u001b[39m np\u001b[39m.\u001b[39msqrt( ((n\u001b[39m-\u001b[39m\u001b[39m1\u001b[39m)\u001b[39m/\u001b[39mn) \u001b[39m*\u001b[39m \u001b[39msum\u001b[39m( (replicas_estimador \u001b[39m-\u001b[39m np\u001b[39m.\u001b[39mmean( replicas_estimador ))\u001b[39m*\u001b[39m\u001b[39m*\u001b[39m\u001b[39m2\u001b[39m ) )\n\u001b[0;32m    <a href='vscode-notebook-cell:/c%3A/Users/Usuario/Documents/fabio/Fabio/Estadistica4all.github.io/Notebooks/Resampling%20Methods/M%C3%A9todos%20de%20Remuestreo%20en%20Python.ipynb#Y161sZmlsZQ%3D%3D?line=172'>173</a>\u001b[0m \u001b[39m#######################################################\u001b[39;00m\n\u001b[1;32m--> <a href='vscode-notebook-cell:/c%3A/Users/Usuario/Documents/fabio/Fabio/Estadistica4all.github.io/Notebooks/Resampling%20Methods/M%C3%A9todos%20de%20Remuestreo%20en%20Python.ipynb#Y161sZmlsZQ%3D%3D?line=174'>175</a>\u001b[0m     \u001b[39mreturn\u001b[39;00m(sesgo, estimacion_sesgo_corregido, standard_error)\n",
      "\u001b[1;31mUnboundLocalError\u001b[0m: local variable 'sesgo' referenced before assignment"
     ]
    }
   ],
   "source": [
    "\n",
    "sesgo, estimacion_sesgo_corregido, standard_error = Jacknife(X , 'asimetria')"
   ]
  },
  {
   "cell_type": "code",
   "execution_count": null,
   "metadata": {},
   "outputs": [],
   "source": [
    "sesgo"
   ]
  },
  {
   "cell_type": "code",
   "execution_count": null,
   "metadata": {},
   "outputs": [],
   "source": [
    "estimacion_sesgo_corregido"
   ]
  },
  {
   "cell_type": "code",
   "execution_count": null,
   "metadata": {},
   "outputs": [],
   "source": [
    "standard_error"
   ]
  },
  {
   "cell_type": "markdown",
   "metadata": {},
   "source": []
  },
  {
   "cell_type": "markdown",
   "metadata": {},
   "source": [
    "# Bootstrap"
   ]
  },
  {
   "cell_type": "code",
   "execution_count": 31,
   "metadata": {},
   "outputs": [],
   "source": [
    "def Bootstrap_sample(X, random_state):\n",
    "\n",
    "    from sklearn.utils import resample\n",
    "\n",
    "    sample = resample( X, n_samples=len(X) , replace=True, random_state=random_state)\n",
    "\n",
    "    return sample"
   ]
  },
  {
   "cell_type": "code",
   "execution_count": 32,
   "metadata": {},
   "outputs": [
    {
     "data": {
      "text/plain": [
       "array([  9.82254258,  14.24467747,   7.8989692 ,  23.91193648,\n",
       "        -3.19304515,  42.80179133,  15.79279599,   4.13650309,\n",
       "        -4.03750803,  -0.49815852, -16.57299657,  43.57215008,\n",
       "        16.1936824 ,  -3.00110603, -16.57299657,  45.88547899,\n",
       "       -16.57299657,  16.1936824 ,   0.43372746,  15.79279599,\n",
       "         3.34027061,  10.04268874, -16.57299657,  43.08895124,\n",
       "         1.32099622,  43.57215008, -12.59442071,  14.24467747,\n",
       "        21.06052864,  14.25440986,  14.24467747,  21.06052864,\n",
       "        16.1936824 ,  24.68104009,   3.56631057, -15.91504241,\n",
       "         7.39546476,   7.8989692 ,  -3.19304515,  -0.49815852,\n",
       "        32.36098042,   6.16570944, -11.4302105 ,  23.91193648,\n",
       "        -0.49815852,  32.37084439,  -2.08049777, -12.59442071,\n",
       "         4.13650309,  34.77154806])"
      ]
     },
     "execution_count": 32,
     "metadata": {},
     "output_type": "execute_result"
    }
   ],
   "source": [
    "Bootstrap_sample(X, random_state=123)"
   ]
  },
  {
   "cell_type": "code",
   "execution_count": 38,
   "metadata": {},
   "outputs": [],
   "source": [
    "def Bootstrap(X , B, estimador, q=0.75, random_seed=123 ):\n",
    "\n",
    "#######################################################\n",
    "\n",
    "    np.random.seed(random_seed)\n",
    "\n",
    "#######################################################\n",
    "\n",
    "    if estimador == 'median':\n",
    "\n",
    "        def Bootstrap_sample(X):\n",
    "\n",
    "            from sklearn.utils import resample\n",
    "\n",
    "            sample = resample( X, n_samples=len(X))\n",
    "\n",
    "            return sample\n",
    "\n",
    "        \n",
    "        replicas_estimador = []\n",
    "\n",
    "        for b in range(0, B):\n",
    "\n",
    "            replicas_estimador.append( np.median( Bootstrap_sample(X) ) )\n",
    "\n",
    "    \n",
    "        sesgo = np.mean( replicas_estimador ) - np.median(X) \n",
    "\n",
    "        estimacion_sesgo_corregido = np.median(X) - sesgo\n",
    "\n",
    "        standard_error = np.std( replicas_estimador ) \n",
    "\n",
    "#######################################################\n",
    "\n",
    "    if estimador == 'mean':\n",
    "\n",
    "        def Bootstrap_sample(X):\n",
    "\n",
    "            from sklearn.utils import resample\n",
    "\n",
    "            sample = resample( X, n_samples=len(X) , replace=True)\n",
    "\n",
    "            return sample\n",
    "\n",
    "        \n",
    "        replicas_estimador = []\n",
    "\n",
    "        for b in range(0, B):\n",
    "\n",
    "            replicas_estimador.append( np.mean( Bootstrap_sample(X) ) )\n",
    "\n",
    "    \n",
    "        sesgo = np.mean( replicas_estimador ) - np.mean(X) \n",
    "\n",
    "        estimacion_sesgo_corregido = np.mean(X) - sesgo\n",
    "\n",
    "        standard_error = np.std( replicas_estimador ) \n",
    "\n",
    "#######################################################\n",
    "\n",
    "    if estimador == 'std':\n",
    "\n",
    "        def Bootstrap_sample(X):\n",
    "\n",
    "            from sklearn.utils import resample\n",
    "\n",
    "            sample = resample( X, n_samples=len(X) , replace=True)\n",
    "\n",
    "            return sample\n",
    "\n",
    "        \n",
    "        replicas_estimador = []\n",
    "\n",
    "        for b in range(0, B):\n",
    "\n",
    "            replicas_estimador.append( np.std( Bootstrap_sample(X) ) )\n",
    "\n",
    "        \n",
    "        sesgo = np.mean( replicas_estimador ) - np.std(X) \n",
    "\n",
    "        estimacion_sesgo_corregido = np.std(X) - sesgo\n",
    "\n",
    "        standard_error = np.std( replicas_estimador ) \n",
    "\n",
    "#######################################################\n",
    "\n",
    "    if estimador == 'quantile':\n",
    "\n",
    "        def Bootstrap_sample(X):\n",
    "\n",
    "            from sklearn.utils import resample\n",
    "\n",
    "            sample = resample( X, n_samples=len(X) , replace=True)\n",
    "\n",
    "            return sample\n",
    "\n",
    "        \n",
    "        replicas_estimador = []\n",
    "\n",
    "        for b in range(0, B):\n",
    "\n",
    "            replicas_estimador.append( np.quantile( Bootstrap_sample(X) , q ) )\n",
    "\n",
    "    \n",
    "        n = len(X)\n",
    "\n",
    "        sesgo = np.mean( replicas_estimador ) - np.quantile(X , q) \n",
    "\n",
    "        estimacion_sesgo_corregido = np.quantile(X , q) - sesgo\n",
    "\n",
    "        standard_error = np.std( replicas_estimador ) \n",
    "\n",
    "#######################################################\n",
    "\n",
    "    if estimador == 'kurtosis':\n",
    "\n",
    "        import scipy\n",
    "\n",
    "        from scipy.stats import kurtosis\n",
    "\n",
    "        def Bootstrap_sample(X):\n",
    "\n",
    "            from sklearn.utils import resample\n",
    "\n",
    "            sample = resample( X, n_samples=len(X) , replace=True)\n",
    "\n",
    "            return sample\n",
    "\n",
    "        \n",
    "        replicas_estimador = []\n",
    "\n",
    "        for b in range(0, B):\n",
    "\n",
    "            replicas_estimador.append( kurtosis( Bootstrap_sample(X) , q ) )\n",
    "\n",
    "    \n",
    "        n = len(X)\n",
    "\n",
    "        sesgo = np.mean( replicas_estimador ) - kurtosis(X) \n",
    "\n",
    "        estimacion_sesgo_corregido = kurtosis(X) - sesgo\n",
    "\n",
    "        standard_error = np.std( replicas_estimador ) \n",
    "\n",
    "#######################################################\n",
    "\n",
    "    if estimador == 'skewness':\n",
    "\n",
    "        import scipy\n",
    "\n",
    "        from scipy.stats import skew\n",
    "\n",
    "\n",
    "        def Bootstrap_sample(X):\n",
    "\n",
    "            from sklearn.utils import resample\n",
    "\n",
    "            sample = resample( X, n_samples=len(X) , replace=True)\n",
    "\n",
    "            return sample\n",
    "\n",
    "        \n",
    "        replicas_estimador = []\n",
    "\n",
    "        for b in range(0, B):\n",
    "\n",
    "            replicas_estimador.append( skew( Bootstrap_sample(X) ) )\n",
    "\n",
    "    \n",
    "        n = len(X)\n",
    "\n",
    "        sesgo = np.mean( replicas_estimador ) - skew(X) \n",
    "\n",
    "        estimacion_sesgo_corregido = skew(X) - sesgo\n",
    "\n",
    "        standard_error = np.std( replicas_estimador ) \n",
    "\n",
    "\n",
    "#######################################################\n",
    "\n",
    "    return sesgo , estimacion_sesgo_corregido , standard_error, replicas_estimador"
   ]
  },
  {
   "cell_type": "code",
   "execution_count": null,
   "metadata": {},
   "outputs": [
    {
     "data": {
      "text/plain": [
       "8.23916733155832"
      ]
     },
     "execution_count": 62,
     "metadata": {},
     "output_type": "execute_result"
    }
   ],
   "source": [
    "np.median(X)"
   ]
  },
  {
   "cell_type": "code",
   "execution_count": 46,
   "metadata": {},
   "outputs": [],
   "source": [
    "sesgo , estimacion_sesgo_corregido , standard_error, replicas_estimador = Bootstrap(X , B=20000, estimador='median', random_seed=222)"
   ]
  },
  {
   "cell_type": "code",
   "execution_count": 47,
   "metadata": {},
   "outputs": [
    {
     "data": {
      "text/plain": [
       "[8.860755889993856,\n",
       " 7.032339319605527,\n",
       " 10.042688738452165,\n",
       " 6.165709442041046,\n",
       " 8.579365465946633]"
      ]
     },
     "execution_count": 47,
     "metadata": {},
     "output_type": "execute_result"
    }
   ],
   "source": [
    "replicas_estimador[0:5]"
   ]
  },
  {
   "cell_type": "code",
   "execution_count": null,
   "metadata": {},
   "outputs": [
    {
     "data": {
      "text/plain": [
       "0.45027242884926366"
      ]
     },
     "execution_count": 88,
     "metadata": {},
     "output_type": "execute_result"
    }
   ],
   "source": [
    "sesgo"
   ]
  },
  {
   "cell_type": "code",
   "execution_count": null,
   "metadata": {},
   "outputs": [
    {
     "data": {
      "text/plain": [
       "7.788894902709057"
      ]
     },
     "execution_count": 89,
     "metadata": {},
     "output_type": "execute_result"
    }
   ],
   "source": [
    "estimacion_sesgo_corregido"
   ]
  },
  {
   "cell_type": "code",
   "execution_count": null,
   "metadata": {},
   "outputs": [
    {
     "data": {
      "text/plain": [
       "1.943287160277303"
      ]
     },
     "execution_count": 90,
     "metadata": {},
     "output_type": "execute_result"
    }
   ],
   "source": [
    "standard_error"
   ]
  },
  {
   "cell_type": "markdown",
   "metadata": {},
   "source": []
  },
  {
   "cell_type": "code",
   "execution_count": null,
   "metadata": {},
   "outputs": [],
   "source": [
    "sesgo , estimacion_sesgo_corregido , standard_error, replicas_estimador = Bootstrap(X , B=20000, estimador='mean')"
   ]
  },
  {
   "cell_type": "code",
   "execution_count": null,
   "metadata": {},
   "outputs": [
    {
     "data": {
      "text/plain": [
       "10.199071616256777"
      ]
     },
     "execution_count": 96,
     "metadata": {},
     "output_type": "execute_result"
    }
   ],
   "source": [
    "np.mean(X)"
   ]
  },
  {
   "cell_type": "code",
   "execution_count": null,
   "metadata": {},
   "outputs": [
    {
     "data": {
      "text/plain": [
       "0.01870102960420006"
      ]
     },
     "execution_count": 93,
     "metadata": {},
     "output_type": "execute_result"
    }
   ],
   "source": [
    "sesgo"
   ]
  },
  {
   "cell_type": "code",
   "execution_count": null,
   "metadata": {},
   "outputs": [
    {
     "data": {
      "text/plain": [
       "10.180370586652577"
      ]
     },
     "execution_count": 94,
     "metadata": {},
     "output_type": "execute_result"
    }
   ],
   "source": [
    "estimacion_sesgo_corregido"
   ]
  },
  {
   "cell_type": "code",
   "execution_count": null,
   "metadata": {},
   "outputs": [
    {
     "data": {
      "text/plain": [
       "1.5955139969727374"
      ]
     },
     "execution_count": 95,
     "metadata": {},
     "output_type": "execute_result"
    }
   ],
   "source": [
    "standard_error"
   ]
  },
  {
   "cell_type": "markdown",
   "metadata": {},
   "source": []
  },
  {
   "cell_type": "code",
   "execution_count": null,
   "metadata": {},
   "outputs": [],
   "source": [
    "sesgo , estimacion_sesgo_corregido , standard_error, replicas_estimador = Bootstrap(X , B=20000, estimador='std')"
   ]
  },
  {
   "cell_type": "code",
   "execution_count": null,
   "metadata": {},
   "outputs": [
    {
     "data": {
      "text/plain": [
       "17.844342210422187"
      ]
     },
     "execution_count": 101,
     "metadata": {},
     "output_type": "execute_result"
    }
   ],
   "source": [
    "np.std(X)"
   ]
  },
  {
   "cell_type": "code",
   "execution_count": null,
   "metadata": {},
   "outputs": [],
   "source": [
    "replicas_estimador[0:10]"
   ]
  },
  {
   "cell_type": "code",
   "execution_count": null,
   "metadata": {},
   "outputs": [
    {
     "data": {
      "text/plain": [
       "-0.24366444292487444"
      ]
     },
     "execution_count": 102,
     "metadata": {},
     "output_type": "execute_result"
    }
   ],
   "source": [
    "sesgo"
   ]
  },
  {
   "cell_type": "code",
   "execution_count": null,
   "metadata": {},
   "outputs": [
    {
     "data": {
      "text/plain": [
       "18.088006653347062"
      ]
     },
     "execution_count": 103,
     "metadata": {},
     "output_type": "execute_result"
    }
   ],
   "source": [
    "estimacion_sesgo_corregido"
   ]
  },
  {
   "cell_type": "code",
   "execution_count": null,
   "metadata": {},
   "outputs": [
    {
     "data": {
      "text/plain": [
       "1.6137690836872287"
      ]
     },
     "execution_count": 105,
     "metadata": {},
     "output_type": "execute_result"
    }
   ],
   "source": [
    "standard_error"
   ]
  },
  {
   "cell_type": "markdown",
   "metadata": {},
   "source": []
  },
  {
   "cell_type": "code",
   "execution_count": null,
   "metadata": {},
   "outputs": [],
   "source": [
    "sesgo , estimacion_sesgo_corregido , standard_error, replicas_estimador = Bootstrap(X , B=20000, estimador='quantile', q=0.75)"
   ]
  },
  {
   "cell_type": "code",
   "execution_count": null,
   "metadata": {},
   "outputs": [
    {
     "data": {
      "text/plain": [
       "23.835596841535178"
      ]
     },
     "execution_count": 107,
     "metadata": {},
     "output_type": "execute_result"
    }
   ],
   "source": [
    "np.quantile(X, q=0.75)"
   ]
  },
  {
   "cell_type": "code",
   "execution_count": null,
   "metadata": {},
   "outputs": [
    {
     "data": {
      "text/plain": [
       "[23.606577937004516,\n",
       " 24.960181698753786,\n",
       " 28.98904388058301,\n",
       " 23.19908451689496,\n",
       " 24.965866373402413]"
      ]
     },
     "execution_count": 109,
     "metadata": {},
     "output_type": "execute_result"
    }
   ],
   "source": [
    "replicas_estimador[0:5]"
   ]
  },
  {
   "cell_type": "code",
   "execution_count": null,
   "metadata": {},
   "outputs": [
    {
     "data": {
      "text/plain": [
       "-1.0135682894025813"
      ]
     },
     "execution_count": 110,
     "metadata": {},
     "output_type": "execute_result"
    }
   ],
   "source": [
    "sesgo"
   ]
  },
  {
   "cell_type": "code",
   "execution_count": null,
   "metadata": {},
   "outputs": [
    {
     "data": {
      "text/plain": [
       "11.212639905659358"
      ]
     },
     "execution_count": 111,
     "metadata": {},
     "output_type": "execute_result"
    }
   ],
   "source": [
    "estimacion_sesgo_corregido"
   ]
  },
  {
   "cell_type": "code",
   "execution_count": null,
   "metadata": {},
   "outputs": [
    {
     "data": {
      "text/plain": [
       "3.4892420733902"
      ]
     },
     "execution_count": 112,
     "metadata": {},
     "output_type": "execute_result"
    }
   ],
   "source": [
    "standard_error"
   ]
  },
  {
   "cell_type": "markdown",
   "metadata": {},
   "source": []
  },
  {
   "cell_type": "markdown",
   "metadata": {},
   "source": []
  },
  {
   "attachments": {},
   "cell_type": "markdown",
   "metadata": {},
   "source": [
    "## Intervalos de confianza cuantil-bootstrap"
   ]
  },
  {
   "attachments": {},
   "cell_type": "markdown",
   "metadata": {},
   "source": [
    "### Intervalo para un parametro (media, varianza, mediana, cuantiles, asimetria, curtosis)"
   ]
  },
  {
   "cell_type": "code",
   "execution_count": 76,
   "metadata": {},
   "outputs": [],
   "source": [
    "def cuantil_boot_interval(Variable, alpha, estimator , B, random_seed=123 , q=0.75):\n",
    "\n",
    "######################################################################\n",
    "\n",
    "    np.random.seed(random_seed)\n",
    "\n",
    "######################################################################\n",
    "\n",
    "    def Bootstrap_sample(Variable):\n",
    "\n",
    "        from sklearn.utils import resample\n",
    "\n",
    "        sample = resample( Variable, n_samples=len(Variable))\n",
    "\n",
    "        return sample\n",
    "\n",
    "######################################################################\n",
    "\n",
    "    replicas_estimador = []\n",
    "\n",
    "    if estimator == 'mean':\n",
    "\n",
    "        for b in range(0, B):\n",
    "\n",
    "            replicas_estimador.append( np.mean( Bootstrap_sample(Variable) ) )\n",
    "\n",
    "        estimation = np.mean(Variable)\n",
    "\n",
    "    \n",
    "    if estimator == 'median':\n",
    "\n",
    "        for b in range(0, B):\n",
    "\n",
    "            replicas_estimador.append( np.median( Bootstrap_sample(Variable) ) )\n",
    "\n",
    "        estimation = np.median(Variable)\n",
    "\n",
    "\n",
    "    if estimator == 'std':\n",
    "\n",
    "        for b in range(0, B):\n",
    "\n",
    "            replicas_estimador.append( np.std( Bootstrap_sample(Variable) ) )\n",
    "\n",
    "        estimation = np.std(Variable)\n",
    "\n",
    "\n",
    "    if estimator == 'skewness':\n",
    "\n",
    "        from scipy.stats import skew\n",
    "\n",
    "        for b in range(0, B):\n",
    "\n",
    "            replicas_estimador.append( skew( Bootstrap_sample(Variable) ) )\n",
    "\n",
    "        estimation = skew(Variable)\n",
    "\n",
    "\n",
    "    if estimator == 'kurtosis':\n",
    "\n",
    "        from scipy.stats import kurtosis\n",
    "\n",
    "        for b in range(0, B):\n",
    "\n",
    "            replicas_estimador.append( kurtosis( Bootstrap_sample(Variable) ) )\n",
    "\n",
    "        estimation = kurtosis(Variable)\n",
    "\n",
    "\n",
    "    if estimator == 'quantile':\n",
    "\n",
    "        for b in range(0, B):\n",
    "\n",
    "            replicas_estimador.append( np.quatile( Bootstrap_sample(Variable) , q=q ) )\n",
    "\n",
    "        estimation = np.quantile(Variable , q=q)\n",
    "\n",
    "######################################################################\n",
    "\n",
    "    L1 = np.quantile( replicas_estimador  , q=alpha/2)\n",
    "\n",
    "    L2 = np.quantile( replicas_estimador  , q=1-alpha/2)\n",
    "\n",
    "######################################################################\n",
    "\n",
    "    interval = [L1,L2]\n",
    "    \n",
    "######################################################################\n",
    "\n",
    "    return interval , estimation"
   ]
  },
  {
   "cell_type": "markdown",
   "metadata": {},
   "source": []
  },
  {
   "attachments": {},
   "cell_type": "markdown",
   "metadata": {},
   "source": [
    "### Para la media"
   ]
  },
  {
   "cell_type": "code",
   "execution_count": 69,
   "metadata": {},
   "outputs": [],
   "source": [
    "interval , estimation = cuantil_boot_interval(Variable=X, alpha=0.05, estimator='mean' , B=20000, random_seed=123)"
   ]
  },
  {
   "cell_type": "code",
   "execution_count": 70,
   "metadata": {},
   "outputs": [
    {
     "data": {
      "text/plain": [
       "[5.274553626813773, 15.146375204290525]"
      ]
     },
     "execution_count": 70,
     "metadata": {},
     "output_type": "execute_result"
    }
   ],
   "source": [
    "interval"
   ]
  },
  {
   "cell_type": "code",
   "execution_count": 71,
   "metadata": {},
   "outputs": [
    {
     "data": {
      "text/plain": [
       "10.199071616256777"
      ]
     },
     "execution_count": 71,
     "metadata": {},
     "output_type": "execute_result"
    }
   ],
   "source": [
    "estimation"
   ]
  },
  {
   "cell_type": "code",
   "execution_count": 61,
   "metadata": {},
   "outputs": [],
   "source": [
    "def CI_Mean(Variable , alpha=0.05):\n",
    "\n",
    "    n = len(Variable)\n",
    "\n",
    "    t_alpha_medios = scipy.stats.t.ppf( 1 - alpha/2 , df=n-1)\n",
    "\n",
    "    X_mean = Variable.mean()\n",
    "\n",
    "    X_cuasi_var = Variable.std()**2 \n",
    "    \n",
    "    # std() esta definida por defecto como la cuasi-desviacion-tipica\n",
    "\n",
    "    L1 = X_mean - t_alpha_medios * np.sqrt(X_cuasi_var/n)\n",
    "\n",
    "    L2 = X_mean + t_alpha_medios * np.sqrt(X_cuasi_var/n)\n",
    "\n",
    "    interval = [L1 , L2]\n",
    "\n",
    "    return interval , X_mean"
   ]
  },
  {
   "cell_type": "code",
   "execution_count": 62,
   "metadata": {},
   "outputs": [],
   "source": [
    "interval , X_mean = CI_Mean(X , alpha=0.05)"
   ]
  },
  {
   "cell_type": "code",
   "execution_count": 63,
   "metadata": {},
   "outputs": [
    {
     "data": {
      "text/plain": [
       "[5.127765678327374, 15.27037755418618]"
      ]
     },
     "execution_count": 63,
     "metadata": {},
     "output_type": "execute_result"
    }
   ],
   "source": [
    "interval"
   ]
  },
  {
   "cell_type": "markdown",
   "metadata": {},
   "source": []
  },
  {
   "attachments": {},
   "cell_type": "markdown",
   "metadata": {},
   "source": [
    "### Para la desviacion tipica"
   ]
  },
  {
   "cell_type": "code",
   "execution_count": 77,
   "metadata": {},
   "outputs": [],
   "source": [
    "interval , estimation = cuantil_boot_interval(Variable=X, alpha=0.05, estimator='std' , B=20000, random_seed=123)"
   ]
  },
  {
   "cell_type": "code",
   "execution_count": 78,
   "metadata": {},
   "outputs": [
    {
     "data": {
      "text/plain": [
       "[14.427214668666169, 20.756590926218593]"
      ]
     },
     "execution_count": 78,
     "metadata": {},
     "output_type": "execute_result"
    }
   ],
   "source": [
    "interval"
   ]
  },
  {
   "cell_type": "code",
   "execution_count": 79,
   "metadata": {},
   "outputs": [
    {
     "data": {
      "text/plain": [
       "17.844342210422187"
      ]
     },
     "execution_count": 79,
     "metadata": {},
     "output_type": "execute_result"
    }
   ],
   "source": [
    "estimation"
   ]
  },
  {
   "cell_type": "code",
   "execution_count": 92,
   "metadata": {},
   "outputs": [],
   "source": [
    "def CI_Variance(Variable , alpha=0.05):\n",
    "\n",
    "    n = len(Variable)\n",
    "\n",
    "    chi_alpha_medios = scipy.stats.chi2.ppf( 1 - alpha/2 , df=n-1)\n",
    "\n",
    "    chi_1_alpha_medios = scipy.stats.chi2.ppf(alpha/2 , df=n-1)\n",
    "\n",
    "    X_cuasi_var = Variable.std()**2 \n",
    "\n",
    "    X_var = ( (n-1)/n )*X_cuasi_var\n",
    "    \n",
    "    # std() esta definida por defecto como la cuasi-desviacion-tipica\n",
    "\n",
    "    L1 =  (n*X_var) / chi_alpha_medios\n",
    "\n",
    "    L2 = (n*X_var) / chi_1_alpha_medios\n",
    "\n",
    "    interval = [L1 , L2]\n",
    "\n",
    "    return interval , X_var "
   ]
  },
  {
   "cell_type": "code",
   "execution_count": 95,
   "metadata": {},
   "outputs": [],
   "source": [
    "interval , X_var = CI_Variance(Variable=X , alpha=0.05)"
   ]
  },
  {
   "cell_type": "code",
   "execution_count": 96,
   "metadata": {},
   "outputs": [
    {
     "data": {
      "text/plain": [
       "[222.18841684285198, 494.45882436956106]"
      ]
     },
     "execution_count": 96,
     "metadata": {},
     "output_type": "execute_result"
    }
   ],
   "source": [
    "interval"
   ]
  },
  {
   "cell_type": "code",
   "execution_count": 97,
   "metadata": {},
   "outputs": [
    {
     "data": {
      "text/plain": [
       "312.0521379442019"
      ]
     },
     "execution_count": 97,
     "metadata": {},
     "output_type": "execute_result"
    }
   ],
   "source": [
    "X_var"
   ]
  },
  {
   "attachments": {},
   "cell_type": "markdown",
   "metadata": {},
   "source": [
    "### Para la mediana"
   ]
  },
  {
   "cell_type": "code",
   "execution_count": 98,
   "metadata": {},
   "outputs": [],
   "source": [
    "interval , estimation = cuantil_boot_interval(Variable=X, alpha=0.05, estimator='median' , B=20000, random_seed=123)"
   ]
  },
  {
   "cell_type": "code",
   "execution_count": 99,
   "metadata": {},
   "outputs": [
    {
     "data": {
      "text/plain": [
       "[2.4028635430970975, 15.99323919612726]"
      ]
     },
     "execution_count": 99,
     "metadata": {},
     "output_type": "execute_result"
    }
   ],
   "source": [
    "interval"
   ]
  },
  {
   "cell_type": "code",
   "execution_count": 100,
   "metadata": {},
   "outputs": [
    {
     "data": {
      "text/plain": [
       "8.23916733155832"
      ]
     },
     "execution_count": 100,
     "metadata": {},
     "output_type": "execute_result"
    }
   ],
   "source": [
    "estimation"
   ]
  },
  {
   "cell_type": "markdown",
   "metadata": {},
   "source": [
    "### Para la asimetria"
   ]
  },
  {
   "cell_type": "markdown",
   "metadata": {},
   "source": [
    "### Para la curtosis"
   ]
  },
  {
   "attachments": {},
   "cell_type": "markdown",
   "metadata": {},
   "source": [
    "### Para los cuantiles"
   ]
  },
  {
   "cell_type": "markdown",
   "metadata": {},
   "source": []
  },
  {
   "cell_type": "markdown",
   "metadata": {},
   "source": []
  },
  {
   "attachments": {},
   "cell_type": "markdown",
   "metadata": {},
   "source": [
    "## Intervalo para la diferencia de parametros (medias, medianas, varianzas, cuantiles, curtosos, asimetrias)"
   ]
  },
  {
   "cell_type": "markdown",
   "metadata": {},
   "source": []
  },
  {
   "cell_type": "markdown",
   "metadata": {},
   "source": []
  },
  {
   "cell_type": "markdown",
   "metadata": {},
   "source": [
    "## Contrastes de hipotesis por permutaciones"
   ]
  },
  {
   "cell_type": "markdown",
   "metadata": {},
   "source": [
    "El test de permutaciones es un test de significancia estadística para el estudio de diferencias entre grupos. Fue desarrollado por Ronald Fisher y E.J.G. Pitman en 1930. La distribución del estadístico estudiado (media, mediana...) se obtiene calculando el valor de dicho estadístico para todas las posibles reorganizaciones de las observaciones en los distintos grupos. Dado que implica calcular todas las posibles situaciones, se trata de un test exacto.\n"
   ]
  },
  {
   "cell_type": "markdown",
   "metadata": {},
   "source": [
    "\n",
    "La filosofia de los test de permutaciones es la siguiente:\n"
   ]
  },
  {
   "cell_type": "markdown",
   "metadata": {},
   "source": [
    "\n",
    "Se tiene un conjunto de individuos, los cuales se distribuyen aleatoriamente en dos grupos, $T$ y $C$, de tamaños  $n_t$  y  $n_c$\n"
   ]
  },
  {
   "cell_type": "markdown",
   "metadata": {},
   "source": [
    "\n",
    "Se aplica un experimento, que generalmente consiste en aplicar un tratamiento sobre un grupo (grupo tratamiento $T$) y no aplicarlo sobre el otro grupo (grupo control $C$).\n"
   ]
  },
  {
   "cell_type": "markdown",
   "metadata": {},
   "source": [
    "\n",
    "Se mide una variable de interés $X$ en cada uno de los grupos:\n",
    "\n",
    "$$ X^t = (x^t_{1},...,x^t_{n_t }) $$\n",
    "$$ X^c = (x^c_{1},...,x^c_{n_c }) $$\n",
    "\n",
    "Donde: \n",
    "\n",
    "$x^t_{i}$ es el valor de $X$ para el $i$-esimo individuo del grupo $T$\n",
    "\n",
    "$x^c_{i}$ es el valor de $X$ para el $i$-esimo individuo del grupo $C$\n",
    "\n"
   ]
  },
  {
   "cell_type": "markdown",
   "metadata": {},
   "source": [
    "\n",
    "Se calcula un estadistico $\\widehat{\\theta}$ de $X$ en los grupos $\\Rightarrow \\widehat{\\theta}_t = f(X^t), \\widehat{\\theta}_c = f(X^c)$\n",
    "\n",
    "Estadisticos habituales son la media y la mediana.\n"
   ]
  },
  {
   "cell_type": "markdown",
   "metadata": {},
   "source": [
    "\n",
    "Se desea  determinar si existen diferencias significativas entre el valor del estadistico para cada grupo. \n",
    "\n",
    "Para ello se considera que si la diferencia observada en valor absoluto ($\\mid D_{obs} \\mid = \\mid \\widehat{\\theta}_t - \\widehat{\\theta}_c \\mid$ ) es \n",
    "mayor que la diferencia esperada por la asignación aleatoria de los grupos, en valor absoluto.\n",
    " \n",
    "\n",
    "En términos estadísticos, la hipótesis nula ( $H_0$ ) es que ambas muestras pertenecen a la misma distribución y que, las diferencias observadas, son debidas únicamente a variaciones causadas por el reparto aleatorio en grupos. \n"
   ]
  },
  {
   "cell_type": "markdown",
   "metadata": {},
   "source": [
    "\n",
    "El test de permutación permite identificar si hay evidencias en contra de esta hipótesis. Para ello los pasos a seguir son:"
   ]
  },
  {
   "cell_type": "markdown",
   "metadata": {},
   "source": [
    "1) Calcular la diferencia observada del estadistico para los dos grupos  \n",
    "\n",
    " $$\\mid D_{obs} \\mid = \\mid \\widehat{\\theta}_t - \\widehat{\\theta}_c \\mid$$\n"
   ]
  },
  {
   "cell_type": "markdown",
   "metadata": {},
   "source": [
    "\n",
    "2) Todas las observaciones se unen sin tener en cuenta el grupo al que pertenecen. $(X^t , X^c)$\n"
   ]
  },
  {
   "cell_type": "markdown",
   "metadata": {},
   "source": [
    "\n",
    "3) Se generan $B$ pares de muestras  sin reemplazamiento  de $(X^t , X^c)$ , de tamaño $n_t$ y $n_c$ respectivamente :\n",
    "\n",
    "$$(\\mathcal{X}^t_1 , \\mathcal{X}^c_1), (\\mathcal{X}^t_2 , \\mathcal{X}^c_2),\\dots, (\\mathcal{X}^t_B , \\mathcal{X}^c_B)$$\n",
    "\n",
    "\n",
    "   $\\mathcal{X}^g_i$ es la muestra aleatoria $i$-esima de tamaño n_g extraida de  $(X^t , X^c)$ , para $g=t,c$ , $i=1,...,B$\n",
    "   \n",
    "  \n"
   ]
  },
  {
   "cell_type": "markdown",
   "metadata": {},
   "source": [
    "\n",
    "4) Para cada combinación, calcular la diferencia entre medias  (difcalculada) . El conjunto de valores obtenidos forman la distribución exacta de las posibles diferencias siendo cierta la hipótesis nula de que los dos grupos proceden de la misma población. A esta distribución, se le conoce como permutation distribution of the mean difference.\n",
    "\n",
    "5) Calcular el p-value de dos colas como la proporción de combinaciones en las que, el valor absoluto de la diferencia calculada, es mayor o igual al valor absoluto de la diferencia observada. La idea es que si esta proporcion no es suficientemente pequeña, habrá evidencias de que las diferencias observadas entre los grupos son fruto del azar involucrado al generar los grupos y no del tratamiento.  Si en cambio esta proporcion es suficientemente pequeña, habra evidencias de que las doferencias observadas son causadas por el tratamiento, y no por la configuracion aleatoria de los grupos. Pero hay que delimitar un punto a partir del cual considerar esta proporcion como suficientmiente pequeña o no.\n",
    "\n",
    "6) Si el p-value calculado en 5) es mayor que cierto limite $\\alpha$ , no se podra rechazar H_0 en favor de H_1 puesto que se entiende que no hay suficiente evidencia. En caso de p-value menor que \\alpha se acepta H_1 dada la evidencia dispobible. Normalmente se considera \\alpha = 0.05 , 0.1 0 o 0.01 , en funcion del nivel de evidencia exigido. A mayor alpha, menos evidencia se exige para aceptar H_1 , cuando menor alpha mayor evidencia exigida para aceptar H_1\n",
    "\n",
    "En este ejemplo se emplea como estadístico la media pero podría ser cualquier otro (mediana, varianza...)"
   ]
  },
  {
   "cell_type": "markdown",
   "metadata": {},
   "source": [
    "Para que el test sea exacto deberia tomarse $B= \\dfrac{(n_t+n_c)!}{n_t! \\hspace{0.1cm} n_c!}$ , que es el numero de diferentes combinaciones  para distribuir $n_t + n_c$  observaciones en dos grupos de tamaños $n_t$ y $n_c$ \n",
    "\n",
    "Y ademas las B pares de muestras extraidas deberian de ser distintos (sin que importe el orden de los elementos, es decir dos muestras con los mismos elementos pero en diferente orden son consideradas iguales).\n",
    "\n",
    "El problema de este enfoque exacto es que para tamaños moderados de $n_t + n_c$ se llegan a valores inasumibles de $B= \\dfrac{(n_t+n_c)!}{n_t! \\hspace{0.1cm} n_c!}$\n",
    "\n",
    "Por ejemplo:"
   ]
  },
  {
   "cell_type": "code",
   "execution_count": null,
   "metadata": {},
   "outputs": [],
   "source": [
    "from math import factorial"
   ]
  },
  {
   "cell_type": "code",
   "execution_count": null,
   "metadata": {},
   "outputs": [
    {
     "data": {
      "text/plain": [
       "30045015.0"
      ]
     },
     "execution_count": 5,
     "metadata": {},
     "output_type": "execute_result"
    }
   ],
   "source": [
    "factorial(30) / (factorial(20)*factorial(10))"
   ]
  },
  {
   "cell_type": "code",
   "execution_count": null,
   "metadata": {},
   "outputs": [
    {
     "data": {
      "text/plain": [
       "155117520.0"
      ]
     },
     "execution_count": 7,
     "metadata": {},
     "output_type": "execute_result"
    }
   ],
   "source": [
    "factorial(30) / (factorial(15)*factorial(15))"
   ]
  },
  {
   "cell_type": "markdown",
   "metadata": {},
   "source": [
    "La única condición necesaria para un test de permutaciones se conoce como exchangeability, según la cual, todas las posibles permutaciones tienen la misma probabilidad de ocurrir siendo cierta la hipótesis nula.\n",
    "\n",
    "Los test de permutación son test de significancia y, por lo tanto, se emplean para calcular p-values. Es importante tener en cuenta que, las conclusiones extraídas, solo son aplicables a diseños de tipo experimental. Estudios en los que, tras haber elegido los sujetos, se realiza una asignación aleatoria a los diferentes grupos.\n",
    "\n",
    "Nota: si bien se utiliza el término permutación, se trata realmente de combinaciones, ya que el orden de las observaciones dentro de cada grupo no importa."
   ]
  },
  {
   "cell_type": "markdown",
   "metadata": {},
   "source": [
    "Simulación de Monte Carlo\n",
    "\n",
    "En los test de permutación, el p-value obtenido es exacto ya que se calculan todas las posibles combinaciones de las observaciones. Esto resulta complicado o imposible cuando el tamaño muestral es mediano o grande. Por ejemplo, existen más de 155 millones combinaciones distintas para distribuir 30 observaciones en dos grupos de 15 cada uno.\n"
   ]
  },
  {
   "cell_type": "markdown",
   "metadata": {},
   "source": [
    "\n",
    "(m+n)!m!n!=(15+15)!15!15!=155117520\n",
    " \n"
   ]
  },
  {
   "cell_type": "code",
   "execution_count": null,
   "metadata": {},
   "outputs": [],
   "source": [
    "# Número total de combinaciones\n",
    "# ==============================================================================\n",
    "from math import factorial\n",
    "print(f\"Total combinaciones = {factorial(15 + 15) / (factorial(15)*factorial(15))}\")\n"
   ]
  },
  {
   "cell_type": "markdown",
   "metadata": {},
   "source": [
    "\n",
    "Total combinaciones = 155117520.0\n",
    "La simulación de Monte Carlo o randomization test consiste en emplear únicamente una muestra aleatoria de todas las posibles combinaciones, evitando así tener que calcularlas todas. Al no calcularse todas las posibles combinaciones, no es un test exacto sino aproximado.\n",
    "\n",
    "El método de Monte Carlo no es insesgado. Una de las correcciones más empleadas es la propuesta por Davison and Hinkley):\n",
    "\n",
    "pvalue=r+1k+1\n",
    " \n",
    "siendo r el número de combinaciones igual o más extremas que el estadístico observado y k el número de combinaciones empleadas en la simulación.\n",
    "\n",
    "A pesar de que la corrección es mínima cuando el número de simulaciones es alto, presenta la ventaja de que, si el valor observado es mayor que cualquiera de los calculados, el p-value es muy bajo pero no cero. Por facilidades de cálculo, se suele emplear un número de permutaciones terminado en 9 (4999, 9999)."
   ]
  },
  {
   "cell_type": "markdown",
   "metadata": {},
   "source": [
    "¿Cuántas permutaciones (combinaciones) son necesarias?\n",
    "\n",
    "No hay un número predefinido de combinaciones que asegure buenos resultados. Una forma de guiar la elección es tener en cuenta el valor mínimo capaz de ser detectado. Por ejemplo, con 1000 permutaciones, el menor valor de p-values posible es  pvalue=1+11000+1=0.001998 .\n",
    "\n",
    "A pesar de ello, la estabilidad y el error de la estimación varían mucho en función de los datos disponibles. Suele encontrarse como recomendación empírica emplear al menos 2000 iteraciones."
   ]
  },
  {
   "cell_type": "markdown",
   "metadata": {},
   "source": [
    "¿Cómo interpretar el p-value obtenido?\n",
    "\n",
    "El p-value es la probabilidad de obtener un valor del estadístico igual o más extremo que el valor observado, si la hipótesis nula es cierta  P(datos|H0) . Es importante no confundir esto con la probabilidad de que la hipótesis nula sea cierta  P(H0|datos) . Si el valor es muy pequeño, se puede interpretar como una evidencia en contra de la hipótesis nula, pero no como una confirmación de las hipótesis alternativas."
   ]
  },
  {
   "cell_type": "markdown",
   "metadata": {},
   "source": []
  },
  {
   "cell_type": "markdown",
   "metadata": {},
   "source": []
  },
  {
   "cell_type": "markdown",
   "metadata": {},
   "source": [
    "## Bibliografia\n",
    "\n",
    "apuntes Juanmi\n",
    "\n",
    "https://www.cienciadedatos.net/documentos/pystats03-test-permutacion-python.html"
   ]
  }
 ],
 "metadata": {
  "kernelspec": {
   "display_name": "Python 3.10.0 64-bit",
   "language": "python",
   "name": "python3"
  },
  "language_info": {
   "codemirror_mode": {
    "name": "ipython",
    "version": 3
   },
   "file_extension": ".py",
   "mimetype": "text/x-python",
   "name": "python",
   "nbconvert_exporter": "python",
   "pygments_lexer": "ipython3",
   "version": "3.10.0"
  },
  "orig_nbformat": 4,
  "vscode": {
   "interpreter": {
    "hash": "c63d8c7d738c2960218a10995aedf0a7f67a49a231e71037adf0440953cdb45b"
   }
  }
 },
 "nbformat": 4,
 "nbformat_minor": 2
}
