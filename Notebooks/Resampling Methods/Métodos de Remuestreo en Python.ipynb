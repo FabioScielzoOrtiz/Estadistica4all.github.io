{
 "cells": [
  {
   "cell_type": "markdown",
   "metadata": {},
   "source": [
    "## Jacknife"
   ]
  },
  {
   "cell_type": "markdown",
   "metadata": {},
   "source": [
    "El método Jacknife fue propuesto para estimar errores estándar y sesgos."
   ]
  },
  {
   "cell_type": "markdown",
   "metadata": {},
   "source": [
    "Dada una variable muestral $X_j=(x_{j}, x_{2j},..., x_{nj})^t\\hspace{0.2cm}$  y un estidímador $\\hspace{0.2cm}\\widehat{\\theta}= f(X_j)$ del parametro poblacional $\\theta$"
   ]
  },
  {
   "cell_type": "markdown",
   "metadata": {},
   "source": []
  },
  {
   "cell_type": "markdown",
   "metadata": {},
   "source": [
    "El sesgo del estimador $\\widehat{\\theta}$ se define como:\n",
    "\n",
    "$$Sesgo(\\widehat{\\theta}) = E \\left[ \\hspace{0.05cm} \\widehat{\\theta} \\hspace{0.05cm} \\right]- \\theta$$"
   ]
  },
  {
   "cell_type": "markdown",
   "metadata": {},
   "source": [
    "La varianza del estimador $\\widehat{\\theta}$ se define como:\n",
    "\n",
    "$$Var(\\widehat{\\theta}) = E \\left[ \\hspace{0.05cm} \\left( \\widehat{\\theta} - E [ \\hspace{0.05cm} \\widehat{\\theta} \\hspace{0.05cm}  ] \\right)^2 \\hspace{0.05cm} \\right]$$"
   ]
  },
  {
   "cell_type": "markdown",
   "metadata": {},
   "source": [
    "El error estandar (desviación típica) del estimador $\\widehat{\\theta}$ se define como:"
   ]
  },
  {
   "cell_type": "markdown",
   "metadata": {},
   "source": [
    "$$s.e.(\\widehat{\\theta}) = \\sqrt{Var(\\widehat{\\theta})}$$"
   ]
  },
  {
   "cell_type": "markdown",
   "metadata": {},
   "source": []
  },
  {
   "cell_type": "markdown",
   "metadata": {},
   "source": []
  },
  {
   "cell_type": "markdown",
   "metadata": {},
   "source": [
    "Se define la muestra $r$-esima de $X_j$ como:\n",
    "\n",
    "$$X_{(r)j} = (x_{1j}, x_{2j},..,x_{r-1,j},x_{r+1,j} ,.., x_{nj}) \\hspace{0.4cm}$$  \n",
    "\n",
    "para  $\\hspace{0.2cm} r=1,...,n$"
   ]
  },
  {
   "cell_type": "markdown",
   "metadata": {},
   "source": [
    "Se define la replica $r$-esima del estimador $\\widehat{\\theta}$ como:\n",
    "\n",
    "$$\\hat{\\theta}_{(r)} = f(X_{(r)j})$$"
   ]
  },
  {
   "cell_type": "markdown",
   "metadata": {},
   "source": []
  },
  {
   "cell_type": "markdown",
   "metadata": {},
   "source": [
    "El **estimador Jacknife** del **sesgo** del estimador $\\widehat{\\theta}$ se define como:"
   ]
  },
  {
   "cell_type": "markdown",
   "metadata": {},
   "source": [
    "$$\\widehat{Sesgo}(\\widehat{\\theta})_{Jack} =  (n-1) \\cdot \\left(  \\widehat{\\theta}_{(\\cdot)} - \\widehat{\\theta} \\right)$$"
   ]
  },
  {
   "cell_type": "markdown",
   "metadata": {},
   "source": [
    "Donde: \n",
    "\n",
    "$$\\widehat{\\theta}_{(\\cdot)} = \\dfrac{1}{n} \\cdot \\sum_{r=1}^{n} \\widehat{\\theta}_{(r)}$$"
   ]
  },
  {
   "cell_type": "markdown",
   "metadata": {},
   "source": []
  },
  {
   "cell_type": "markdown",
   "metadata": {},
   "source": [
    "El **estimador Jacknife** de la **varianza** del estimador $\\widehat{\\theta}$ se define como:"
   ]
  },
  {
   "cell_type": "markdown",
   "metadata": {},
   "source": [
    "$$\\widehat{ Var}(\\widehat{\\theta})_{Jack} =  \\dfrac{n-1}{n} \\cdot \\sum_{r=1}^{n} \\left( \\widehat{\\theta}_{(r)} - \\dfrac{1}{n} \\sum_{r=1}^{n} \\widehat{\\theta}_{(r)}  \\right)^2$$"
   ]
  },
  {
   "cell_type": "markdown",
   "metadata": {},
   "source": []
  },
  {
   "cell_type": "markdown",
   "metadata": {},
   "source": [
    "El **estimador Jacknife** del **error estandar** del estimador $\\widehat{\\theta}$ se define como:"
   ]
  },
  {
   "cell_type": "markdown",
   "metadata": {},
   "source": [
    "$$\\widehat{ s.e.}(\\widehat{\\theta})_{Jack} = \\sqrt{ \\dfrac{n-1}{n} \\cdot \\sum_{r=1}^{n} \\left( \\widehat{\\theta}_{(r)} - \\dfrac{1}{n} \\sum_{r=1}^{n} \\widehat{\\theta}_{(r)}  \\right)^2}$$"
   ]
  },
  {
   "cell_type": "markdown",
   "metadata": {},
   "source": []
  },
  {
   "cell_type": "markdown",
   "metadata": {},
   "source": [
    "**Observación:**\n",
    "\n",
    "El Jacknife funciona bien cuando el estimador es suave (smooth). \n",
    "\n",
    "Un estimador es suave cuando ante pequeños cambios en la muestra de datos genera pequeños cambios en el estimador.\n",
    "\n",
    "Ejemplo de estimador suave es el estimador plug-in de la media poblacional, es decir la media muestral.\n",
    "\n",
    "Ejemplo de estimador no suave es el estimador plug-in de la mediana poblacional, es decir la mediana muestral"
   ]
  },
  {
   "cell_type": "markdown",
   "metadata": {},
   "source": []
  },
  {
   "cell_type": "markdown",
   "metadata": {},
   "source": [
    "**Estimación Jacknife con corrección de sesgo**"
   ]
  },
  {
   "cell_type": "markdown",
   "metadata": {},
   "source": [
    "\\begin{gather*}\n",
    "\\widehat{\\theta}_{Jack} \\hspace{0.2cm}=\\hspace{0.2cm} \\widehat{\\theta} \\hspace{0.1cm}-\\hspace{0.1cm} \\widehat{Sesgo}(\\widehat{\\theta})_{Jack} \\\\ \\\\ \\hspace{0.5cm}=\\hspace{0.2cm} \\widehat{\\theta} -  (n-1) \\cdot \\left(  \\widehat{\\theta}_{(\\cdot)} - \\widehat{\\theta} \\right) \\\\  \\\\ \\hspace{0.4cm}=\\hspace{0.2cm}   n\\cdot \\widehat{\\theta} - (n-1)\\cdot \\widehat{\\theta}_{(\\cdot)}\n",
    "\\end{gather*}"
   ]
  },
  {
   "cell_type": "markdown",
   "metadata": {},
   "source": []
  },
  {
   "cell_type": "markdown",
   "metadata": {},
   "source": [
    "### Aplicación del Jacknife en `Python`"
   ]
  },
  {
   "cell_type": "code",
   "execution_count": 2,
   "metadata": {},
   "outputs": [],
   "source": [
    "import numpy as np"
   ]
  },
  {
   "cell_type": "code",
   "execution_count": 3,
   "metadata": {},
   "outputs": [],
   "source": [
    "np.random.seed(123)\n",
    "\n",
    "Xj = np.random.normal(loc=10, scale=15, size=50)"
   ]
  },
  {
   "cell_type": "code",
   "execution_count": 4,
   "metadata": {},
   "outputs": [
    {
     "data": {
      "text/plain": [
       "array([ -6.28445905,  24.9601817 ,  14.24467747, -12.59442071,\n",
       "         1.32099622,  34.77154806, -26.40018865,   3.56631057,\n",
       "        28.98904388,  -3.00110603,  -0.18329227,   8.57936547,\n",
       "        32.37084439,   0.41647005,   3.34027061,   3.48473087,\n",
       "        43.08895124,  42.80179133,  25.06080847,  15.79279599,\n",
       "        21.06052864,  32.36098042,  -4.03750803,  27.63743567,\n",
       "        -8.80821002,   0.43372746,  23.60657794, -11.4302105 ,\n",
       "         7.8989692 ,  -2.92632344,   6.16570944, -31.97883658,\n",
       "       -16.57299657,  -0.49815852,  23.91193648,   7.39546476,\n",
       "        10.04268874,  20.32334067,  -3.19304515,  14.25440986,\n",
       "        -2.08049777, -15.91504241,   4.13650309,  18.60708794,\n",
       "        15.07883576,   9.82254258,  45.88547899,  16.1936824 ,\n",
       "        24.68104009,  43.57215008])"
      ]
     },
     "execution_count": 4,
     "metadata": {},
     "output_type": "execute_result"
    }
   ],
   "source": [
    "Xj"
   ]
  },
  {
   "cell_type": "code",
   "execution_count": 5,
   "metadata": {},
   "outputs": [
    {
     "data": {
      "text/plain": [
       "array([ -6.28445905,  14.24467747, -12.59442071,   1.32099622,\n",
       "        34.77154806, -26.40018865,   3.56631057,  28.98904388,\n",
       "        -3.00110603,  -0.18329227,   8.57936547,  32.37084439,\n",
       "         0.41647005,   3.34027061,   3.48473087,  43.08895124,\n",
       "        42.80179133,  25.06080847,  15.79279599,  21.06052864,\n",
       "        32.36098042,  -4.03750803,  27.63743567,  -8.80821002,\n",
       "         0.43372746,  23.60657794, -11.4302105 ,   7.8989692 ,\n",
       "        -2.92632344,   6.16570944, -31.97883658, -16.57299657,\n",
       "        -0.49815852,  23.91193648,   7.39546476,  10.04268874,\n",
       "        20.32334067,  -3.19304515,  14.25440986,  -2.08049777,\n",
       "       -15.91504241,   4.13650309,  18.60708794,  15.07883576,\n",
       "         9.82254258,  45.88547899,  16.1936824 ,  24.68104009,\n",
       "        43.57215008])"
      ]
     },
     "execution_count": 5,
     "metadata": {},
     "output_type": "execute_result"
    }
   ],
   "source": [
    "np.delete(Xj, 1)"
   ]
  },
  {
   "cell_type": "markdown",
   "metadata": {},
   "source": []
  },
  {
   "cell_type": "code",
   "execution_count": 76,
   "metadata": {},
   "outputs": [],
   "source": [
    "def Jacknife(Xj , estimador, q=0.75):\n",
    "\n",
    "#######################################################\n",
    "\n",
    "    if estimador == 'median':\n",
    "\n",
    "        def Jacknife_sample(Xj , r):\n",
    "\n",
    "            Xj_sample_r = np.delete(Xj, r)\n",
    "\n",
    "            return(Xj_sample_r)\n",
    "\n",
    "        \n",
    "        replicas_estimador = []\n",
    "\n",
    "        for r in range(0, len(Xj)):\n",
    "\n",
    "            replicas_estimador.append( np.median( Jacknife_sample(Xj , r) ) )\n",
    "\n",
    "    \n",
    "        n = len(Xj)\n",
    "\n",
    "        sesgo = (n-1) * ( np.mean( replicas_estimador ) - np.median(Xj) )\n",
    "\n",
    "        estimacion_sesgo_corregido = n*np.median(Xj) - (n-1)*np.mean( replicas_estimador )\n",
    "\n",
    "        standard_error = np.sqrt( ((n-1)/n) * sum( (replicas_estimador - np.mean( replicas_estimador ))**2 ) )\n",
    "\n",
    " #######################################################   \n",
    "\n",
    "    if estimador == 'mean':\n",
    "\n",
    "        def Jacknife_sample(Xj , r):\n",
    "\n",
    "            Xj_sample_r = np.delete(Xj, r)\n",
    "\n",
    "            return(Xj_sample_r)\n",
    "\n",
    "        \n",
    "        replicas_estimador = []\n",
    "\n",
    "        for r in range(0, len(Xj)):\n",
    "\n",
    "            replicas_estimador.append( np.mean( Jacknife_sample(Xj , r) ) )\n",
    "\n",
    "    \n",
    "        n = len(Xj)\n",
    "\n",
    "        sesgo = (n-1) * ( np.mean( replicas_estimador ) - np.mean(Xj) )\n",
    "\n",
    "        estimacion_sesgo_corregido = n*np.mean(Xj) - (n-1)*np.mean( replicas_estimador )\n",
    "\n",
    "        standard_error = np.sqrt( ((n-1)/n) * sum( (replicas_estimador - np.mean( replicas_estimador ))**2 ) )\n",
    "\n",
    "\n",
    "#######################################################\n",
    "\n",
    "    if estimador == 'std':\n",
    "\n",
    "        def Jacknife_sample(Xj , r):\n",
    "\n",
    "            Xj_sample_r = np.delete(Xj, r)\n",
    "\n",
    "            return(Xj_sample_r)\n",
    "\n",
    "        \n",
    "        replicas_estimador = []\n",
    "\n",
    "        for r in range(0, len(Xj)):\n",
    "\n",
    "            replicas_estimador.append( np.std( Jacknife_sample(Xj , r) ) )\n",
    "\n",
    "    \n",
    "        n = len(Xj)\n",
    "\n",
    "        sesgo = (n-1) * ( np.mean( replicas_estimador ) - np.std(Xj) )\n",
    "\n",
    "        estimacion_sesgo_corregido = n*np.std(Xj) - (n-1)*np.mean( replicas_estimador )\n",
    "\n",
    "        standard_error = np.sqrt( ((n-1)/n) * sum( (replicas_estimador - np.mean( replicas_estimador ))**2 ) )\n",
    "\n",
    "\n",
    "#######################################################\n",
    "\n",
    "    if estimador == 'quantile':\n",
    "\n",
    "        def Jacknife_sample(Xj , r):\n",
    "\n",
    "            Xj_sample_r = np.delete(Xj, r)\n",
    "\n",
    "            return(Xj_sample_r)\n",
    "\n",
    "        \n",
    "        replicas_estimador = []\n",
    "\n",
    "        for r in range(0, len(Xj)):\n",
    "\n",
    "            replicas_estimador.append( np.quantile( Jacknife_sample(Xj , r) , q) )\n",
    "\n",
    "    \n",
    "        n = len(Xj)\n",
    "\n",
    "        sesgo = (n-1) * ( np.mean( replicas_estimador ) - np.quantile(Xj , q) )\n",
    "\n",
    "        estimacion_sesgo_corregido = n*np.quantile(Xj , q) - (n-1)*np.mean( replicas_estimador )\n",
    "\n",
    "        standard_error = np.sqrt( ((n-1)/n) * sum( (replicas_estimador - np.mean( replicas_estimador ))**2 ) )\n",
    "\n",
    "#######################################################\n",
    "\n",
    "    if estimador == 'kurtosis':\n",
    "\n",
    "        import scipy\n",
    "\n",
    "        from scipy.stats import  kurtosis\n",
    "\n",
    "        def Jacknife_sample(Xj , r):\n",
    "\n",
    "            Xj_sample_r = np.delete(Xj, r)\n",
    "\n",
    "            return(Xj_sample_r)\n",
    "\n",
    "        \n",
    "        replicas_estimador = []\n",
    "\n",
    "        for r in range(0, len(Xj)):\n",
    "\n",
    "            replicas_estimador.append( kurtosis(Xj) )\n",
    "\n",
    "    \n",
    "        n = len(Xj)\n",
    "\n",
    "        sesgo = (n-1) * ( np.mean( replicas_estimador ) - kurtosis(Xj) )\n",
    "\n",
    "        estimacion_sesgo_corregido = n*kurtosis(Xj) - (n-1)*np.mean( replicas_estimador )\n",
    "\n",
    "        standard_error = np.sqrt( ((n-1)/n) * sum( (replicas_estimador - np.mean( replicas_estimador ))**2 ) )\n",
    "\n",
    "\n",
    "#######################################################\n",
    "     \n",
    "#######################################################\n",
    "\n",
    "    if estimador == 'asimetria':\n",
    "\n",
    "        import scipy\n",
    "\n",
    "        from scipy.stats import  skew\n",
    "\n",
    "        def Jacknife_sample(Xj , r):\n",
    "\n",
    "            Xj_sample_r = np.delete(Xj, r)\n",
    "\n",
    "            return(Xj_sample_r)\n",
    "\n",
    "        \n",
    "        replicas_estimador = []\n",
    "\n",
    "        for r in range(0, len(Xj)):\n",
    "\n",
    "            replicas_estimador.append( skew(Xj) )\n",
    "\n",
    "    \n",
    "        n = len(Xj)\n",
    "\n",
    "        sesgo = (n-1) * ( np.mean( replicas_estimador ) - skew(Xj) )\n",
    "\n",
    "        estimacion_sesgo_corregido = n*skew(Xj) - (n-1)*np.mean( replicas_estimador )\n",
    "\n",
    "        standard_error = np.sqrt( ((n-1)/n) * sum( (replicas_estimador - np.mean( replicas_estimador ))**2 ) )\n",
    "\n",
    "\n",
    "#######################################################\n",
    "    \n",
    "    return(sesgo, estimacion_sesgo_corregido, standard_error)\n"
   ]
  },
  {
   "cell_type": "code",
   "execution_count": 71,
   "metadata": {},
   "outputs": [],
   "source": [
    "import scipy\n",
    "\n",
    "from scipy.stats import  kurtosis"
   ]
  },
  {
   "cell_type": "code",
   "execution_count": 73,
   "metadata": {},
   "outputs": [
    {
     "data": {
      "text/plain": [
       "-0.37420768292897266"
      ]
     },
     "execution_count": 73,
     "metadata": {},
     "output_type": "execute_result"
    }
   ],
   "source": [
    "kurtosis(Xj)"
   ]
  },
  {
   "cell_type": "code",
   "execution_count": 7,
   "metadata": {},
   "outputs": [],
   "source": [
    "sesgo, estimacion_sesgo_corregido, standard_error = Jacknife(Xj , 'median', q=0.75)"
   ]
  },
  {
   "cell_type": "code",
   "execution_count": 8,
   "metadata": {},
   "outputs": [
    {
     "data": {
      "text/plain": [
       "8.704148513061227e-14"
      ]
     },
     "execution_count": 8,
     "metadata": {},
     "output_type": "execute_result"
    }
   ],
   "source": [
    "sesgo"
   ]
  },
  {
   "cell_type": "code",
   "execution_count": 9,
   "metadata": {},
   "outputs": [
    {
     "data": {
      "text/plain": [
       "8.239167331558235"
      ]
     },
     "execution_count": 9,
     "metadata": {},
     "output_type": "execute_result"
    }
   ],
   "source": [
    "estimacion_sesgo_corregido"
   ]
  },
  {
   "cell_type": "code",
   "execution_count": 10,
   "metadata": {},
   "outputs": [
    {
     "data": {
      "text/plain": [
       "2.381386940718188"
      ]
     },
     "execution_count": 10,
     "metadata": {},
     "output_type": "execute_result"
    }
   ],
   "source": [
    "standard_error"
   ]
  },
  {
   "cell_type": "markdown",
   "metadata": {},
   "source": []
  },
  {
   "cell_type": "code",
   "execution_count": 53,
   "metadata": {},
   "outputs": [],
   "source": [
    "sesgo, estimacion_sesgo_corregido, standard_error = Jacknife(Xj , 'mean', q=0.75)"
   ]
  },
  {
   "cell_type": "code",
   "execution_count": 54,
   "metadata": {},
   "outputs": [
    {
     "data": {
      "text/plain": [
       "-8.704148513061227e-14"
      ]
     },
     "execution_count": 54,
     "metadata": {},
     "output_type": "execute_result"
    }
   ],
   "source": [
    "sesgo"
   ]
  },
  {
   "cell_type": "code",
   "execution_count": 55,
   "metadata": {},
   "outputs": [
    {
     "data": {
      "text/plain": [
       "10.199071616256902"
      ]
     },
     "execution_count": 55,
     "metadata": {},
     "output_type": "execute_result"
    }
   ],
   "source": [
    "estimacion_sesgo_corregido"
   ]
  },
  {
   "cell_type": "code",
   "execution_count": 56,
   "metadata": {},
   "outputs": [
    {
     "data": {
      "text/plain": [
       "2.5491917443460235"
      ]
     },
     "execution_count": 56,
     "metadata": {},
     "output_type": "execute_result"
    }
   ],
   "source": [
    "standard_error"
   ]
  },
  {
   "cell_type": "markdown",
   "metadata": {},
   "source": []
  },
  {
   "cell_type": "code",
   "execution_count": 63,
   "metadata": {},
   "outputs": [],
   "source": [
    "sesgo, estimacion_sesgo_corregido, standard_error = Jacknife(Xj , 'std')"
   ]
  },
  {
   "cell_type": "code",
   "execution_count": 64,
   "metadata": {},
   "outputs": [
    {
     "data": {
      "text/plain": [
       "17.844342210422187"
      ]
     },
     "execution_count": 64,
     "metadata": {},
     "output_type": "execute_result"
    }
   ],
   "source": [
    "np.std(Xj)"
   ]
  },
  {
   "cell_type": "code",
   "execution_count": 65,
   "metadata": {},
   "outputs": [
    {
     "data": {
      "text/plain": [
       "-0.26116994703598806"
      ]
     },
     "execution_count": 65,
     "metadata": {},
     "output_type": "execute_result"
    }
   ],
   "source": [
    "sesgo"
   ]
  },
  {
   "cell_type": "code",
   "execution_count": 66,
   "metadata": {},
   "outputs": [
    {
     "data": {
      "text/plain": [
       "18.10551215745818"
      ]
     },
     "execution_count": 66,
     "metadata": {},
     "output_type": "execute_result"
    }
   ],
   "source": [
    "estimacion_sesgo_corregido"
   ]
  },
  {
   "cell_type": "code",
   "execution_count": 67,
   "metadata": {},
   "outputs": [
    {
     "data": {
      "text/plain": [
       "1.6795955569730596"
      ]
     },
     "execution_count": 67,
     "metadata": {},
     "output_type": "execute_result"
    }
   ],
   "source": [
    "standard_error"
   ]
  },
  {
   "cell_type": "markdown",
   "metadata": {},
   "source": []
  },
  {
   "cell_type": "code",
   "execution_count": 15,
   "metadata": {},
   "outputs": [],
   "source": [
    "sesgo, estimacion_sesgo_corregido, standard_error = Jacknife(Xj , 'quantile', q=0.75)"
   ]
  },
  {
   "cell_type": "code",
   "execution_count": 19,
   "metadata": {},
   "outputs": [
    {
     "data": {
      "text/plain": [
       "23.835596841535178"
      ]
     },
     "execution_count": 19,
     "metadata": {},
     "output_type": "execute_result"
    }
   ],
   "source": [
    "np.quantile(Xj, 0.75)"
   ]
  },
  {
   "cell_type": "code",
   "execution_count": 16,
   "metadata": {},
   "outputs": [
    {
     "data": {
      "text/plain": [
       "-0.14962568429344003"
      ]
     },
     "execution_count": 16,
     "metadata": {},
     "output_type": "execute_result"
    }
   ],
   "source": [
    "sesgo"
   ]
  },
  {
   "cell_type": "code",
   "execution_count": 17,
   "metadata": {},
   "outputs": [
    {
     "data": {
      "text/plain": [
       "23.985222525828704"
      ]
     },
     "execution_count": 17,
     "metadata": {},
     "output_type": "execute_result"
    }
   ],
   "source": [
    "estimacion_sesgo_corregido"
   ]
  },
  {
   "cell_type": "code",
   "execution_count": 18,
   "metadata": {},
   "outputs": [
    {
     "data": {
      "text/plain": [
       "0.9375849844484524"
      ]
     },
     "execution_count": 18,
     "metadata": {},
     "output_type": "execute_result"
    }
   ],
   "source": [
    "standard_error"
   ]
  },
  {
   "cell_type": "markdown",
   "metadata": {},
   "source": []
  },
  {
   "cell_type": "code",
   "execution_count": 20,
   "metadata": {},
   "outputs": [],
   "source": [
    "sesgo, estimacion_sesgo_corregido, standard_error = Jacknife(Xj , 'quantile', q=0.25)"
   ]
  },
  {
   "cell_type": "code",
   "execution_count": 24,
   "metadata": {},
   "outputs": [
    {
     "data": {
      "text/plain": [
       "-1.6849129579803668"
      ]
     },
     "execution_count": 24,
     "metadata": {},
     "output_type": "execute_result"
    }
   ],
   "source": [
    "np.quantile(Xj, 0.25)"
   ]
  },
  {
   "cell_type": "code",
   "execution_count": 21,
   "metadata": {},
   "outputs": [
    {
     "data": {
      "text/plain": [
       "0.7753462334875716"
      ]
     },
     "execution_count": 21,
     "metadata": {},
     "output_type": "execute_result"
    }
   ],
   "source": [
    "sesgo"
   ]
  },
  {
   "cell_type": "code",
   "execution_count": 22,
   "metadata": {},
   "outputs": [
    {
     "data": {
      "text/plain": [
       "-2.460259191467941"
      ]
     },
     "execution_count": 22,
     "metadata": {},
     "output_type": "execute_result"
    }
   ],
   "source": [
    "estimacion_sesgo_corregido"
   ]
  },
  {
   "cell_type": "code",
   "execution_count": 23,
   "metadata": {},
   "outputs": [
    {
     "data": {
      "text/plain": [
       "4.858477270796004"
      ]
     },
     "execution_count": 23,
     "metadata": {},
     "output_type": "execute_result"
    }
   ],
   "source": [
    "standard_error"
   ]
  },
  {
   "cell_type": "markdown",
   "metadata": {},
   "source": []
  },
  {
   "cell_type": "code",
   "execution_count": 25,
   "metadata": {},
   "outputs": [],
   "source": [
    "sesgo, estimacion_sesgo_corregido, standard_error = Jacknife(Xj , 'quantile', q=0.10)"
   ]
  },
  {
   "cell_type": "code",
   "execution_count": 29,
   "metadata": {},
   "outputs": [
    {
     "data": {
      "text/plain": [
       "-11.546631523927719"
      ]
     },
     "execution_count": 29,
     "metadata": {},
     "output_type": "execute_result"
    }
   ],
   "source": [
    "np.quantile(Xj, 0.10)"
   ]
  },
  {
   "cell_type": "code",
   "execution_count": 26,
   "metadata": {},
   "outputs": [
    {
     "data": {
      "text/plain": [
       "7.770186286477228"
      ]
     },
     "execution_count": 26,
     "metadata": {},
     "output_type": "execute_result"
    }
   ],
   "source": [
    "sesgo"
   ]
  },
  {
   "cell_type": "code",
   "execution_count": 27,
   "metadata": {},
   "outputs": [
    {
     "data": {
      "text/plain": [
       "-19.31681781040504"
      ]
     },
     "execution_count": 27,
     "metadata": {},
     "output_type": "execute_result"
    }
   ],
   "source": [
    "estimacion_sesgo_corregido"
   ]
  },
  {
   "cell_type": "code",
   "execution_count": 28,
   "metadata": {},
   "outputs": [
    {
     "data": {
      "text/plain": [
       "5.217098648611869"
      ]
     },
     "execution_count": 28,
     "metadata": {},
     "output_type": "execute_result"
    }
   ],
   "source": [
    "standard_error"
   ]
  },
  {
   "cell_type": "markdown",
   "metadata": {},
   "source": []
  },
  {
   "cell_type": "code",
   "execution_count": 30,
   "metadata": {},
   "outputs": [],
   "source": [
    "sesgo, estimacion_sesgo_corregido, standard_error = Jacknife(Xj , 'quantile', q=0.90)"
   ]
  },
  {
   "cell_type": "code",
   "execution_count": 34,
   "metadata": {},
   "outputs": [
    {
     "data": {
      "text/plain": [
       "32.61091475832362"
      ]
     },
     "execution_count": 34,
     "metadata": {},
     "output_type": "execute_result"
    }
   ],
   "source": [
    "np.quantile(Xj, 0.90)"
   ]
  },
  {
   "cell_type": "code",
   "execution_count": 31,
   "metadata": {},
   "outputs": [
    {
     "data": {
      "text/plain": [
       "9.364358252194954"
      ]
     },
     "execution_count": 31,
     "metadata": {},
     "output_type": "execute_result"
    }
   ],
   "source": [
    "sesgo"
   ]
  },
  {
   "cell_type": "code",
   "execution_count": 32,
   "metadata": {},
   "outputs": [
    {
     "data": {
      "text/plain": [
       "23.246556506128627"
      ]
     },
     "execution_count": 32,
     "metadata": {},
     "output_type": "execute_result"
    }
   ],
   "source": [
    "estimacion_sesgo_corregido"
   ]
  },
  {
   "cell_type": "code",
   "execution_count": 33,
   "metadata": {},
   "outputs": [
    {
     "data": {
      "text/plain": [
       "1.0245278739126102"
      ]
     },
     "execution_count": 33,
     "metadata": {},
     "output_type": "execute_result"
    }
   ],
   "source": [
    "standard_error"
   ]
  },
  {
   "cell_type": "markdown",
   "metadata": {},
   "source": []
  },
  {
   "cell_type": "code",
   "execution_count": 77,
   "metadata": {},
   "outputs": [],
   "source": [
    "sesgo, estimacion_sesgo_corregido, standard_error = Jacknife(Xj , 'kurtosis')"
   ]
  },
  {
   "cell_type": "code",
   "execution_count": 78,
   "metadata": {},
   "outputs": [
    {
     "data": {
      "text/plain": [
       "0.0"
      ]
     },
     "execution_count": 78,
     "metadata": {},
     "output_type": "execute_result"
    }
   ],
   "source": [
    "sesgo"
   ]
  },
  {
   "cell_type": "code",
   "execution_count": 79,
   "metadata": {},
   "outputs": [
    {
     "data": {
      "text/plain": [
       "-0.3742076829289722"
      ]
     },
     "execution_count": 79,
     "metadata": {},
     "output_type": "execute_result"
    }
   ],
   "source": [
    "estimacion_sesgo_corregido"
   ]
  },
  {
   "cell_type": "code",
   "execution_count": 80,
   "metadata": {},
   "outputs": [
    {
     "data": {
      "text/plain": [
       "0.0"
      ]
     },
     "execution_count": 80,
     "metadata": {},
     "output_type": "execute_result"
    }
   ],
   "source": [
    "standard_error"
   ]
  },
  {
   "cell_type": "markdown",
   "metadata": {},
   "source": []
  },
  {
   "cell_type": "code",
   "execution_count": 81,
   "metadata": {},
   "outputs": [],
   "source": [
    "sesgo, estimacion_sesgo_corregido, standard_error = Jacknife(Xj , 'asimetria')"
   ]
  },
  {
   "cell_type": "code",
   "execution_count": 82,
   "metadata": {},
   "outputs": [
    {
     "data": {
      "text/plain": [
       "-1.700029006457271e-16"
      ]
     },
     "execution_count": 82,
     "metadata": {},
     "output_type": "execute_result"
    }
   ],
   "source": [
    "sesgo"
   ]
  },
  {
   "cell_type": "code",
   "execution_count": 83,
   "metadata": {},
   "outputs": [
    {
     "data": {
      "text/plain": [
       "0.025587358812510397"
      ]
     },
     "execution_count": 83,
     "metadata": {},
     "output_type": "execute_result"
    }
   ],
   "source": [
    "estimacion_sesgo_corregido"
   ]
  },
  {
   "cell_type": "code",
   "execution_count": 84,
   "metadata": {},
   "outputs": [
    {
     "data": {
      "text/plain": [
       "2.42861286636753e-17"
      ]
     },
     "execution_count": 84,
     "metadata": {},
     "output_type": "execute_result"
    }
   ],
   "source": [
    "standard_error"
   ]
  },
  {
   "cell_type": "markdown",
   "metadata": {},
   "source": []
  },
  {
   "cell_type": "markdown",
   "metadata": {},
   "source": []
  }
 ],
 "metadata": {
  "kernelspec": {
   "display_name": "Python 3.10.0 64-bit",
   "language": "python",
   "name": "python3"
  },
  "language_info": {
   "codemirror_mode": {
    "name": "ipython",
    "version": 3
   },
   "file_extension": ".py",
   "mimetype": "text/x-python",
   "name": "python",
   "nbconvert_exporter": "python",
   "pygments_lexer": "ipython3",
   "version": "3.10.0"
  },
  "orig_nbformat": 4,
  "vscode": {
   "interpreter": {
    "hash": "c63d8c7d738c2960218a10995aedf0a7f67a49a231e71037adf0440953cdb45b"
   }
  }
 },
 "nbformat": 4,
 "nbformat_minor": 2
}
