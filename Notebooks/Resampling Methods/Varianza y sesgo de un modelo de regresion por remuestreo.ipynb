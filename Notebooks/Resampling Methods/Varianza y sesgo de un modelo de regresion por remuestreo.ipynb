{
 "cells": [
  {
   "cell_type": "markdown",
   "metadata": {},
   "source": [
    "#### Estimacion de la **varianza de las predicciones de un modelo** por remuestreo\n",
    "\n",
    "Consideraremos que una estimacion de la varianza de las predicciones de un modelo (de regresion, en el sentido de modelo que permite \"resolver\" un problema de regresion) es:\n",
    "\n",
    "$$ \\dfrac{1}{n} \\sum_{i=1}^{n} \\widehat{Var}(\\hat{y}_i) $$ \n"
   ]
  },
  {
   "cell_type": "markdown",
   "metadata": {},
   "source": []
  },
  {
   "cell_type": "markdown",
   "metadata": {},
   "source": [
    "Cálculo de $\\widehat{Var}(\\hat{y}_i)$ por remuestreo (en algunos modelos no habra expresiones cerradas para este estimacion, por eso veo interesante un procedimiento general que no dependa del modelo usado):"
   ]
  },
  {
   "cell_type": "markdown",
   "metadata": {},
   "source": [
    "Tenemos una muestra inicial de predictores y de la respuesta $(X, Y)$ con $n$ filas (observaciones)"
   ]
  },
  {
   "cell_type": "markdown",
   "metadata": {},
   "source": [
    "Tomamos $B$ muestras bootstrap (muestras aleatorias con reemplazamiento) de $(X,Y)$"
   ]
  },
  {
   "cell_type": "markdown",
   "metadata": {},
   "source": [
    "Entrenamos el modelo con cada una de las $B$ muestras boot , asi obtenemos $B$ modelos entrenados diferentes."
   ]
  },
  {
   "cell_type": "markdown",
   "metadata": {},
   "source": [
    "Con cada uno de los $B$ modelos entrenados calculamos $\\hat{y}_i$, asi se obtienen $B$ valores de $\\hat{y}_i$  : $\\hspace{0.2cm} \\hat{y}_i^{boot} = \\lbrace \\hat{y}_i^{1} , \\hat{y}_i^{2},...,\\hat{y}_i^{B} \\rbrace $\n",
    "\n",
    "Donde: $\\hat{y}_i^{k}$ es el valor de $\\hat{y}_i$ obtenido con la $k$-esima muestra boot"
   ]
  },
  {
   "cell_type": "markdown",
   "metadata": {},
   "source": [
    "Estimamos ${Var}(\\hat{y}_i)$ como la varianza de  $\\hat{y}_i^{boot} = \\lbrace \\hat{y}_i^{1} , \\hat{y}_i^{2},...,\\hat{y}_i^{B} \\rbrace $"
   ]
  },
  {
   "cell_type": "markdown",
   "metadata": {},
   "source": [
    "$$ \\widehat{Var}(\\hat{y}_i) = \\dfrac{1}{n} \\sum_{k=1}^{B} \\left( \\hat{y}_i^k - \\overline{\\hat{y}_i^{boot} } \\right)^2   $$"
   ]
  },
  {
   "cell_type": "markdown",
   "metadata": {},
   "source": [
    "Repetimos el proceso con cada $i=1,...,n$"
   ]
  },
  {
   "cell_type": "markdown",
   "metadata": {},
   "source": [
    "Asi obtenderemos: $\\hspace{0.2cm} \\widehat{Var}(\\hat{y}_1),\\widehat{Var}(\\hat{y}_2),..., \\widehat{Var}(\\hat{y}_n)$"
   ]
  },
  {
   "cell_type": "markdown",
   "metadata": {},
   "source": [
    "Promediamos y obtenimos asi una estimacion de la varianza de las predcciones del modelo:\n",
    "\n",
    "$$ \\dfrac{1}{n} \\sum_{i=1}^{n} \\widehat{Var}(\\hat{y}_i) $$  "
   ]
  },
  {
   "cell_type": "markdown",
   "metadata": {},
   "source": []
  },
  {
   "cell_type": "markdown",
   "metadata": {},
   "source": [
    "----"
   ]
  },
  {
   "cell_type": "markdown",
   "metadata": {},
   "source": []
  },
  {
   "cell_type": "markdown",
   "metadata": {},
   "source": [
    "#### Estimacion del **sesgo de las predicciones de un modelo** por remuestreo\n",
    "\n",
    "Consideraremos que una estimacion del sesgo de las predicciones de un modelo (de regresion, en el sentido de modelo que permite \"resolver\" un problema de regresion) es:\n",
    "\n",
    "$$  \\dfrac{1}{n} \\sum_{i=1}^{n} \\widehat{Sesgo}(\\hat{y}_i  )  $$ \n"
   ]
  },
  {
   "cell_type": "markdown",
   "metadata": {},
   "source": []
  },
  {
   "cell_type": "markdown",
   "metadata": {},
   "source": [
    "Cálculo de $\\widehat{Sesgo}(\\hat{y}_i)$ por remuestreo:"
   ]
  },
  {
   "cell_type": "markdown",
   "metadata": {},
   "source": [
    "Tenemos una muestra inicial de predictores y de la respuesta $(X, Y)$ con $n$ filas (observaciones)"
   ]
  },
  {
   "cell_type": "markdown",
   "metadata": {},
   "source": [
    "Tomamos $B$ muestras bootstrap (muestras aleatorias con reemplazamiento) de $(X,Y)$"
   ]
  },
  {
   "cell_type": "markdown",
   "metadata": {},
   "source": [
    "Entrenamos el modelo con cada una de las $B$ muestras boot , asi obtenemos $B$ modelos entrenados diferentes."
   ]
  },
  {
   "cell_type": "markdown",
   "metadata": {},
   "source": [
    "Con cada uno de los $B$ modelos entrenados calculamos $\\hat{y}_i$, asi se obtienen $B$ valores de $\\hat{y}_i$  : $\\hspace{0.2cm} \\hat{y}_i^{boot} = \\lbrace \\hat{y}_i^{1} , \\hat{y}_i^{2},...,\\hat{y}_i^{B} \\rbrace $\n",
    "\n",
    "Donde: $\\hat{y}_i^{k}$ es el valor de $\\hat{y}_i$ obtenido con la $k$-esima muestra boot"
   ]
  },
  {
   "cell_type": "markdown",
   "metadata": {},
   "source": [
    "Estimamos ${Sesgo}(\\hat{y}_i)$ como la media de  $\\hat{y}_i^{boot} = \\lbrace \\hat{y}_i^{1} , \\hat{y}_i^{2},...,\\hat{y}_i^{B} \\rbrace $ menos el verdadero valor $y_i$, el cual es conocido puesto que es el $i$-esimo elemento de la muestra de la respuesta $Y$"
   ]
  },
  {
   "cell_type": "markdown",
   "metadata": {},
   "source": [
    "$$ \\widehat{Sesgo}(\\hat{y}_i) = \\left( \\dfrac{1}{n} \\sum_{k=1}^{B}  \\hat{y}_i^k    \\right)- y_i   $$"
   ]
  },
  {
   "cell_type": "markdown",
   "metadata": {},
   "source": [
    "Repetimos el proceso con cada $i=1,...,n$"
   ]
  },
  {
   "cell_type": "markdown",
   "metadata": {},
   "source": [
    "Asi obtenderemos: $\\hspace{0.2cm} \\widehat{Sesgo}(\\hat{y}_1),\\widehat{Sesgo}(\\hat{y}_2),..., \\widehat{Sesgo}(\\hat{y}_n)$"
   ]
  },
  {
   "cell_type": "markdown",
   "metadata": {},
   "source": [
    "Promediamos y obtenimos asi una estimacion del sesgo de las predcciones del modelo:\n",
    "\n",
    "$$ \\dfrac{1}{n} \\sum_{i=1}^{n} \\widehat{Sesgo}(\\hat{y}_i) $$  "
   ]
  },
  {
   "cell_type": "markdown",
   "metadata": {},
   "source": []
  },
  {
   "cell_type": "markdown",
   "metadata": {},
   "source": [
    "El mejor modelo desde un punto de vista predictivo sería aquel con menor combinacion de sesgo y varianza en sus predicciones"
   ]
  }
 ],
 "metadata": {
  "kernelspec": {
   "display_name": "Python 3.10.0 64-bit",
   "language": "python",
   "name": "python3"
  },
  "language_info": {
   "name": "python",
   "version": "3.10.0"
  },
  "orig_nbformat": 4,
  "vscode": {
   "interpreter": {
    "hash": "c63d8c7d738c2960218a10995aedf0a7f67a49a231e71037adf0440953cdb45b"
   }
  }
 },
 "nbformat": 4,
 "nbformat_minor": 2
}
