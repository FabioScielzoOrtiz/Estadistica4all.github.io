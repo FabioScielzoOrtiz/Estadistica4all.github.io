{
 "cells": [
  {
   "cell_type": "code",
   "execution_count": 3,
   "metadata": {},
   "outputs": [],
   "source": [
    "import pandas as pd"
   ]
  },
  {
   "cell_type": "code",
   "execution_count": 4,
   "metadata": {},
   "outputs": [],
   "source": [
    "pd.set_option('display.max_columns', None)"
   ]
  },
  {
   "cell_type": "code",
   "execution_count": 6,
   "metadata": {},
   "outputs": [],
   "source": [
    "Data = pd.read_csv('Data.csv')"
   ]
  },
  {
   "cell_type": "code",
   "execution_count": 7,
   "metadata": {},
   "outputs": [
    {
     "data": {
      "text/html": [
       "<div>\n",
       "<style scoped>\n",
       "    .dataframe tbody tr th:only-of-type {\n",
       "        vertical-align: middle;\n",
       "    }\n",
       "\n",
       "    .dataframe tbody tr th {\n",
       "        vertical-align: top;\n",
       "    }\n",
       "\n",
       "    .dataframe thead th {\n",
       "        text-align: right;\n",
       "    }\n",
       "</style>\n",
       "<table border=\"1\" class=\"dataframe\">\n",
       "  <thead>\n",
       "    <tr style=\"text-align: right;\">\n",
       "      <th></th>\n",
       "      <th>Referencia</th>\n",
       "      <th>Fecha</th>\n",
       "      <th>Cliente</th>\n",
       "      <th>Importe</th>\n",
       "      <th>Direccion</th>\n",
       "      <th>Localidad</th>\n",
       "      <th>Codigo Postal</th>\n",
       "      <th>Producto</th>\n",
       "      <th>Linea</th>\n",
       "      <th>Ancho</th>\n",
       "      <th>Largo</th>\n",
       "      <th>sexo</th>\n",
       "      <th>Edad</th>\n",
       "    </tr>\n",
       "  </thead>\n",
       "  <tbody>\n",
       "    <tr>\n",
       "      <th>0</th>\n",
       "      <td>DK20220267</td>\n",
       "      <td>2022-11-12</td>\n",
       "      <td>\"CAYETANA  690031741\"</td>\n",
       "      <td>120.0</td>\n",
       "      <td>NaN</td>\n",
       "      <td>NaN</td>\n",
       "      <td>NaN</td>\n",
       "      <td>no sé</td>\n",
       "      <td>no sé</td>\n",
       "      <td>1</td>\n",
       "      <td>1</td>\n",
       "      <td>M</td>\n",
       "      <td>no sé</td>\n",
       "    </tr>\n",
       "    <tr>\n",
       "      <th>1</th>\n",
       "      <td>DK20220265</td>\n",
       "      <td>2022-11-08</td>\n",
       "      <td>\"CONTADO  TIENDA  \"</td>\n",
       "      <td>25.0</td>\n",
       "      <td>.</td>\n",
       "      <td>NaN</td>\n",
       "      <td>.</td>\n",
       "      <td>no sé</td>\n",
       "      <td>no sé</td>\n",
       "      <td>1</td>\n",
       "      <td>1</td>\n",
       "      <td>no sé</td>\n",
       "      <td>no sé</td>\n",
       "    </tr>\n",
       "    <tr>\n",
       "      <th>2</th>\n",
       "      <td>DK20220264</td>\n",
       "      <td>2022-11-08</td>\n",
       "      <td>\"CONTADO  TIENDA  \"</td>\n",
       "      <td>25.0</td>\n",
       "      <td>.</td>\n",
       "      <td>NaN</td>\n",
       "      <td>.</td>\n",
       "      <td>no sé</td>\n",
       "      <td>no sé</td>\n",
       "      <td>1</td>\n",
       "      <td>1</td>\n",
       "      <td>no sé</td>\n",
       "      <td>no sé</td>\n",
       "    </tr>\n",
       "    <tr>\n",
       "      <th>3</th>\n",
       "      <td>DK20220263</td>\n",
       "      <td>2022-11-07</td>\n",
       "      <td>\"ANA  DE  ARMADA  \"</td>\n",
       "      <td>57.0</td>\n",
       "      <td>NaN</td>\n",
       "      <td>NaN</td>\n",
       "      <td>NaN</td>\n",
       "      <td>no sé</td>\n",
       "      <td>no sé</td>\n",
       "      <td>1</td>\n",
       "      <td>1</td>\n",
       "      <td>M</td>\n",
       "      <td>no sé</td>\n",
       "    </tr>\n",
       "    <tr>\n",
       "      <th>4</th>\n",
       "      <td>DK20220262</td>\n",
       "      <td>2022-11-05</td>\n",
       "      <td>\"LAURA  DE  GUZMAN  \"</td>\n",
       "      <td>245.0</td>\n",
       "      <td>NaN</td>\n",
       "      <td>NaN</td>\n",
       "      <td>NaN</td>\n",
       "      <td>no sé</td>\n",
       "      <td>no sé</td>\n",
       "      <td>1</td>\n",
       "      <td>1</td>\n",
       "      <td>M</td>\n",
       "      <td>no sé</td>\n",
       "    </tr>\n",
       "    <tr>\n",
       "      <th>...</th>\n",
       "      <td>...</td>\n",
       "      <td>...</td>\n",
       "      <td>...</td>\n",
       "      <td>...</td>\n",
       "      <td>...</td>\n",
       "      <td>...</td>\n",
       "      <td>...</td>\n",
       "      <td>...</td>\n",
       "      <td>...</td>\n",
       "      <td>...</td>\n",
       "      <td>...</td>\n",
       "      <td>...</td>\n",
       "      <td>...</td>\n",
       "    </tr>\n",
       "    <tr>\n",
       "      <th>1017</th>\n",
       "      <td>DK18103</td>\n",
       "      <td>2018-09-17</td>\n",
       "      <td>\"BELEN  MARTINEZ  (FACCIA  TOSTA)\"</td>\n",
       "      <td>270.0</td>\n",
       "      <td>\"Pasaje  de  Caleruega,  13-2ﾺC\"</td>\n",
       "      <td>Madrid</td>\n",
       "      <td>28033</td>\n",
       "      <td>no sé</td>\n",
       "      <td>no sé</td>\n",
       "      <td>1</td>\n",
       "      <td>1</td>\n",
       "      <td>no sé</td>\n",
       "      <td>no sé</td>\n",
       "    </tr>\n",
       "    <tr>\n",
       "      <th>1018</th>\n",
       "      <td>FAC18082</td>\n",
       "      <td>2018-07-03</td>\n",
       "      <td>\"GUSTAVO  CARASA  ANTON\"</td>\n",
       "      <td>375.0</td>\n",
       "      <td>.</td>\n",
       "      <td>MADRID</td>\n",
       "      <td>28005</td>\n",
       "      <td>no sé</td>\n",
       "      <td>no sé</td>\n",
       "      <td>1</td>\n",
       "      <td>1</td>\n",
       "      <td>no sé</td>\n",
       "      <td>no sé</td>\n",
       "    </tr>\n",
       "    <tr>\n",
       "      <th>1019</th>\n",
       "      <td>FAC18081</td>\n",
       "      <td>2018-06-21</td>\n",
       "      <td>\"PALOMA  SAEZ\"</td>\n",
       "      <td>45.0</td>\n",
       "      <td>\"C/Santa  Hortencia,  22-3ﾺD\"</td>\n",
       "      <td>MADRID</td>\n",
       "      <td>28002</td>\n",
       "      <td>no sé</td>\n",
       "      <td>no sé</td>\n",
       "      <td>1</td>\n",
       "      <td>1</td>\n",
       "      <td>no sé</td>\n",
       "      <td>no sé</td>\n",
       "    </tr>\n",
       "    <tr>\n",
       "      <th>1020</th>\n",
       "      <td>FAC18080</td>\n",
       "      <td>2018-06-20</td>\n",
       "      <td>\"CONTADO  TIENDA  \"</td>\n",
       "      <td>365.0</td>\n",
       "      <td>.</td>\n",
       "      <td>NaN</td>\n",
       "      <td>.</td>\n",
       "      <td>no sé</td>\n",
       "      <td>no sé</td>\n",
       "      <td>1</td>\n",
       "      <td>1</td>\n",
       "      <td>no sé</td>\n",
       "      <td>no sé</td>\n",
       "    </tr>\n",
       "    <tr>\n",
       "      <th>1021</th>\n",
       "      <td>FAC00001</td>\n",
       "      <td>2018-06-12</td>\n",
       "      <td>\"CONTADO  TIENDA  \"</td>\n",
       "      <td>18.0</td>\n",
       "      <td>.</td>\n",
       "      <td>NaN</td>\n",
       "      <td>.</td>\n",
       "      <td>no sé</td>\n",
       "      <td>no sé</td>\n",
       "      <td>1</td>\n",
       "      <td>1</td>\n",
       "      <td>no sé</td>\n",
       "      <td>no sé</td>\n",
       "    </tr>\n",
       "  </tbody>\n",
       "</table>\n",
       "<p>1022 rows × 13 columns</p>\n",
       "</div>"
      ],
      "text/plain": [
       "      Referencia       Fecha                               Cliente  Importe  \\\n",
       "0     DK20220267  2022-11-12                \"CAYETANA  690031741\"     120.0   \n",
       "1     DK20220265  2022-11-08                  \"CONTADO  TIENDA  \"      25.0   \n",
       "2     DK20220264  2022-11-08                  \"CONTADO  TIENDA  \"      25.0   \n",
       "3     DK20220263  2022-11-07                  \"ANA  DE  ARMADA  \"      57.0   \n",
       "4     DK20220262  2022-11-05                \"LAURA  DE  GUZMAN  \"     245.0   \n",
       "...          ...         ...                                   ...      ...   \n",
       "1017     DK18103  2018-09-17   \"BELEN  MARTINEZ  (FACCIA  TOSTA)\"     270.0   \n",
       "1018    FAC18082  2018-07-03             \"GUSTAVO  CARASA  ANTON\"     375.0   \n",
       "1019    FAC18081  2018-06-21                       \"PALOMA  SAEZ\"      45.0   \n",
       "1020    FAC18080  2018-06-20                  \"CONTADO  TIENDA  \"     365.0   \n",
       "1021    FAC00001  2018-06-12                  \"CONTADO  TIENDA  \"      18.0   \n",
       "\n",
       "                               Direccion Localidad Codigo Postal Producto  \\\n",
       "0                                    NaN       NaN           NaN    no sé   \n",
       "1                                      .       NaN             .    no sé   \n",
       "2                                      .       NaN             .    no sé   \n",
       "3                                    NaN       NaN           NaN    no sé   \n",
       "4                                    NaN       NaN           NaN    no sé   \n",
       "...                                  ...       ...           ...      ...   \n",
       "1017   \"Pasaje  de  Caleruega,  13-2ﾺC\"     Madrid         28033    no sé   \n",
       "1018                                   .    MADRID         28005    no sé   \n",
       "1019      \"C/Santa  Hortencia,  22-3ﾺD\"     MADRID         28002    no sé   \n",
       "1020                                   .       NaN             .    no sé   \n",
       "1021                                   .       NaN             .    no sé   \n",
       "\n",
       "      Linea  Ancho  Largo   sexo   Edad  \n",
       "0     no sé      1      1      M  no sé  \n",
       "1     no sé      1      1  no sé  no sé  \n",
       "2     no sé      1      1  no sé  no sé  \n",
       "3     no sé      1      1      M  no sé  \n",
       "4     no sé      1      1      M  no sé  \n",
       "...     ...    ...    ...    ...    ...  \n",
       "1017  no sé      1      1  no sé  no sé  \n",
       "1018  no sé      1      1  no sé  no sé  \n",
       "1019  no sé      1      1  no sé  no sé  \n",
       "1020  no sé      1      1  no sé  no sé  \n",
       "1021  no sé      1      1  no sé  no sé  \n",
       "\n",
       "[1022 rows x 13 columns]"
      ]
     },
     "execution_count": 7,
     "metadata": {},
     "output_type": "execute_result"
    }
   ],
   "source": [
    "Data"
   ]
  },
  {
   "cell_type": "code",
   "execution_count": 20,
   "metadata": {},
   "outputs": [],
   "source": [
    "Serie_Temp = Data.loc[: , ['Fecha' , 'Importe']]"
   ]
  },
  {
   "cell_type": "code",
   "execution_count": 25,
   "metadata": {},
   "outputs": [],
   "source": [
    "Serie_Temp['Fecha'] = pd.to_datetime(Serie_Temp['Fecha'])"
   ]
  },
  {
   "cell_type": "code",
   "execution_count": 26,
   "metadata": {},
   "outputs": [
    {
     "data": {
      "text/html": [
       "<div>\n",
       "<style scoped>\n",
       "    .dataframe tbody tr th:only-of-type {\n",
       "        vertical-align: middle;\n",
       "    }\n",
       "\n",
       "    .dataframe tbody tr th {\n",
       "        vertical-align: top;\n",
       "    }\n",
       "\n",
       "    .dataframe thead th {\n",
       "        text-align: right;\n",
       "    }\n",
       "</style>\n",
       "<table border=\"1\" class=\"dataframe\">\n",
       "  <thead>\n",
       "    <tr style=\"text-align: right;\">\n",
       "      <th></th>\n",
       "      <th>Fecha</th>\n",
       "      <th>Importe</th>\n",
       "    </tr>\n",
       "  </thead>\n",
       "  <tbody>\n",
       "    <tr>\n",
       "      <th>0</th>\n",
       "      <td>2022-11-12</td>\n",
       "      <td>120.0</td>\n",
       "    </tr>\n",
       "    <tr>\n",
       "      <th>1</th>\n",
       "      <td>2022-11-08</td>\n",
       "      <td>25.0</td>\n",
       "    </tr>\n",
       "    <tr>\n",
       "      <th>2</th>\n",
       "      <td>2022-11-08</td>\n",
       "      <td>25.0</td>\n",
       "    </tr>\n",
       "    <tr>\n",
       "      <th>3</th>\n",
       "      <td>2022-11-07</td>\n",
       "      <td>57.0</td>\n",
       "    </tr>\n",
       "    <tr>\n",
       "      <th>4</th>\n",
       "      <td>2022-11-05</td>\n",
       "      <td>245.0</td>\n",
       "    </tr>\n",
       "    <tr>\n",
       "      <th>...</th>\n",
       "      <td>...</td>\n",
       "      <td>...</td>\n",
       "    </tr>\n",
       "    <tr>\n",
       "      <th>1017</th>\n",
       "      <td>2018-09-17</td>\n",
       "      <td>270.0</td>\n",
       "    </tr>\n",
       "    <tr>\n",
       "      <th>1018</th>\n",
       "      <td>2018-07-03</td>\n",
       "      <td>375.0</td>\n",
       "    </tr>\n",
       "    <tr>\n",
       "      <th>1019</th>\n",
       "      <td>2018-06-21</td>\n",
       "      <td>45.0</td>\n",
       "    </tr>\n",
       "    <tr>\n",
       "      <th>1020</th>\n",
       "      <td>2018-06-20</td>\n",
       "      <td>365.0</td>\n",
       "    </tr>\n",
       "    <tr>\n",
       "      <th>1021</th>\n",
       "      <td>2018-06-12</td>\n",
       "      <td>18.0</td>\n",
       "    </tr>\n",
       "  </tbody>\n",
       "</table>\n",
       "<p>1022 rows × 2 columns</p>\n",
       "</div>"
      ],
      "text/plain": [
       "          Fecha  Importe\n",
       "0    2022-11-12    120.0\n",
       "1    2022-11-08     25.0\n",
       "2    2022-11-08     25.0\n",
       "3    2022-11-07     57.0\n",
       "4    2022-11-05    245.0\n",
       "...         ...      ...\n",
       "1017 2018-09-17    270.0\n",
       "1018 2018-07-03    375.0\n",
       "1019 2018-06-21     45.0\n",
       "1020 2018-06-20    365.0\n",
       "1021 2018-06-12     18.0\n",
       "\n",
       "[1022 rows x 2 columns]"
      ]
     },
     "execution_count": 26,
     "metadata": {},
     "output_type": "execute_result"
    }
   ],
   "source": [
    "Serie_Temp"
   ]
  },
  {
   "cell_type": "code",
   "execution_count": 56,
   "metadata": {},
   "outputs": [
    {
     "ename": "AttributeError",
     "evalue": "'Series' object has no attribute 'year'",
     "output_type": "error",
     "traceback": [
      "\u001b[1;31m---------------------------------------------------------------------------\u001b[0m",
      "\u001b[1;31mAttributeError\u001b[0m                            Traceback (most recent call last)",
      "\u001b[1;32mc:\\Users\\Usuario\\Documents\\fabio\\Fabio\\Estadistica4all.github.io\\Notebooks\\Data-sets\\Serie temporal\\Data2.ipynb Celda 8\u001b[0m in \u001b[0;36m<cell line: 1>\u001b[1;34m()\u001b[0m\n\u001b[1;32m----> <a href='vscode-notebook-cell:/c%3A/Users/Usuario/Documents/fabio/Fabio/Estadistica4all.github.io/Notebooks/Data-sets/Serie%20temporal/Data2.ipynb#X43sZmlsZQ%3D%3D?line=0'>1</a>\u001b[0m Serie_Temp[\u001b[39m'\u001b[39m\u001b[39mMes\u001b[39m\u001b[39m'\u001b[39m] \u001b[39m=\u001b[39m Serie_Temp[\u001b[39m'\u001b[39;49m\u001b[39mFecha\u001b[39;49m\u001b[39m'\u001b[39;49m]\u001b[39m.\u001b[39;49mdt\u001b[39m.\u001b[39;49mmonth\u001b[39m.\u001b[39;49myear\n\u001b[0;32m      <a href='vscode-notebook-cell:/c%3A/Users/Usuario/Documents/fabio/Fabio/Estadistica4all.github.io/Notebooks/Data-sets/Serie%20temporal/Data2.ipynb#X43sZmlsZQ%3D%3D?line=1'>2</a>\u001b[0m Serie_Temp[\u001b[39m'\u001b[39m\u001b[39mAño\u001b[39m\u001b[39m'\u001b[39m] \u001b[39m=\u001b[39m Serie_Temp[\u001b[39m'\u001b[39m\u001b[39mFecha\u001b[39m\u001b[39m'\u001b[39m]\u001b[39m.\u001b[39mdt\u001b[39m.\u001b[39myear\n",
      "File \u001b[1;32mc:\\Users\\Usuario\\AppData\\Local\\Programs\\Python\\Python310\\lib\\site-packages\\pandas\\core\\generic.py:5575\u001b[0m, in \u001b[0;36mNDFrame.__getattr__\u001b[1;34m(self, name)\u001b[0m\n\u001b[0;32m   5568\u001b[0m \u001b[39mif\u001b[39;00m (\n\u001b[0;32m   5569\u001b[0m     name \u001b[39mnot\u001b[39;00m \u001b[39min\u001b[39;00m \u001b[39mself\u001b[39m\u001b[39m.\u001b[39m_internal_names_set\n\u001b[0;32m   5570\u001b[0m     \u001b[39mand\u001b[39;00m name \u001b[39mnot\u001b[39;00m \u001b[39min\u001b[39;00m \u001b[39mself\u001b[39m\u001b[39m.\u001b[39m_metadata\n\u001b[0;32m   5571\u001b[0m     \u001b[39mand\u001b[39;00m name \u001b[39mnot\u001b[39;00m \u001b[39min\u001b[39;00m \u001b[39mself\u001b[39m\u001b[39m.\u001b[39m_accessors\n\u001b[0;32m   5572\u001b[0m     \u001b[39mand\u001b[39;00m \u001b[39mself\u001b[39m\u001b[39m.\u001b[39m_info_axis\u001b[39m.\u001b[39m_can_hold_identifiers_and_holds_name(name)\n\u001b[0;32m   5573\u001b[0m ):\n\u001b[0;32m   5574\u001b[0m     \u001b[39mreturn\u001b[39;00m \u001b[39mself\u001b[39m[name]\n\u001b[1;32m-> 5575\u001b[0m \u001b[39mreturn\u001b[39;00m \u001b[39mobject\u001b[39;49m\u001b[39m.\u001b[39;49m\u001b[39m__getattribute__\u001b[39;49m(\u001b[39mself\u001b[39;49m, name)\n",
      "\u001b[1;31mAttributeError\u001b[0m: 'Series' object has no attribute 'year'"
     ]
    }
   ],
   "source": [
    "Serie_Temp['Mes'] = Serie_Temp['Fecha'].dt.month\n",
    "Serie_Temp['Año'] = Serie_Temp['Fecha'].dt.year"
   ]
  },
  {
   "cell_type": "code",
   "execution_count": 60,
   "metadata": {},
   "outputs": [],
   "source": [
    "Serie_Temp_2 = Serie_Temp.groupby(['Año' , 'Mes']).sum().reset_index(drop=False)"
   ]
  },
  {
   "cell_type": "code",
   "execution_count": 62,
   "metadata": {},
   "outputs": [
    {
     "data": {
      "text/html": [
       "<div>\n",
       "<style scoped>\n",
       "    .dataframe tbody tr th:only-of-type {\n",
       "        vertical-align: middle;\n",
       "    }\n",
       "\n",
       "    .dataframe tbody tr th {\n",
       "        vertical-align: top;\n",
       "    }\n",
       "\n",
       "    .dataframe thead th {\n",
       "        text-align: right;\n",
       "    }\n",
       "</style>\n",
       "<table border=\"1\" class=\"dataframe\">\n",
       "  <thead>\n",
       "    <tr style=\"text-align: right;\">\n",
       "      <th></th>\n",
       "      <th>Año</th>\n",
       "      <th>Mes</th>\n",
       "      <th>Importe</th>\n",
       "    </tr>\n",
       "  </thead>\n",
       "  <tbody>\n",
       "    <tr>\n",
       "      <th>0</th>\n",
       "      <td>2018</td>\n",
       "      <td>6</td>\n",
       "      <td>428.0</td>\n",
       "    </tr>\n",
       "    <tr>\n",
       "      <th>1</th>\n",
       "      <td>2018</td>\n",
       "      <td>7</td>\n",
       "      <td>375.0</td>\n",
       "    </tr>\n",
       "    <tr>\n",
       "      <th>2</th>\n",
       "      <td>2018</td>\n",
       "      <td>9</td>\n",
       "      <td>8007.0</td>\n",
       "    </tr>\n",
       "    <tr>\n",
       "      <th>3</th>\n",
       "      <td>2018</td>\n",
       "      <td>10</td>\n",
       "      <td>2717.6</td>\n",
       "    </tr>\n",
       "    <tr>\n",
       "      <th>4</th>\n",
       "      <td>2018</td>\n",
       "      <td>11</td>\n",
       "      <td>5342.0</td>\n",
       "    </tr>\n",
       "  </tbody>\n",
       "</table>\n",
       "</div>"
      ],
      "text/plain": [
       "    Año  Mes  Importe\n",
       "0  2018    6    428.0\n",
       "1  2018    7    375.0\n",
       "2  2018    9   8007.0\n",
       "3  2018   10   2717.6\n",
       "4  2018   11   5342.0"
      ]
     },
     "execution_count": 62,
     "metadata": {},
     "output_type": "execute_result"
    }
   ],
   "source": [
    "Serie_Temp_2.head()"
   ]
  },
  {
   "cell_type": "code",
   "execution_count": 68,
   "metadata": {},
   "outputs": [],
   "source": [
    "Serie_Temp_2['Año'] = Serie_Temp_2['Año'].astype('string')\n",
    "Serie_Temp_2['Mes'] = Serie_Temp_2['Mes'].astype('string')"
   ]
  },
  {
   "cell_type": "code",
   "execution_count": 47,
   "metadata": {},
   "outputs": [],
   "source": [
    "Serie_Temp_2['id'] = range(0, len(Serie_Temp_2))"
   ]
  },
  {
   "cell_type": "code",
   "execution_count": 54,
   "metadata": {},
   "outputs": [],
   "source": [
    "import numpy as np"
   ]
  },
  {
   "cell_type": "code",
   "execution_count": 55,
   "metadata": {},
   "outputs": [
    {
     "data": {
      "text/plain": [
       "array(['Enero', 'Enero', 'Enero', 'Enero', 'Febrero', 'Febrero',\n",
       "       'Febrero', 'Febrero'], dtype='<U7')"
      ]
     },
     "execution_count": 55,
     "metadata": {},
     "output_type": "execute_result"
    }
   ],
   "source": [
    "np.repeat(['Enero', 'Febrero', 'Marzo'], 4)"
   ]
  },
  {
   "cell_type": "code",
   "execution_count": 69,
   "metadata": {},
   "outputs": [],
   "source": [
    "Serie_Temp_2['Mes-Año'] = Serie_Temp_2.Mes.str.cat(Serie_Temp_2.Año, sep='-')"
   ]
  },
  {
   "cell_type": "code",
   "execution_count": 71,
   "metadata": {},
   "outputs": [
    {
     "data": {
      "text/html": [
       "<div>\n",
       "<style scoped>\n",
       "    .dataframe tbody tr th:only-of-type {\n",
       "        vertical-align: middle;\n",
       "    }\n",
       "\n",
       "    .dataframe tbody tr th {\n",
       "        vertical-align: top;\n",
       "    }\n",
       "\n",
       "    .dataframe thead th {\n",
       "        text-align: right;\n",
       "    }\n",
       "</style>\n",
       "<table border=\"1\" class=\"dataframe\">\n",
       "  <thead>\n",
       "    <tr style=\"text-align: right;\">\n",
       "      <th></th>\n",
       "      <th>Año</th>\n",
       "      <th>Mes</th>\n",
       "      <th>Importe</th>\n",
       "      <th>Mes-Año</th>\n",
       "    </tr>\n",
       "  </thead>\n",
       "  <tbody>\n",
       "    <tr>\n",
       "      <th>0</th>\n",
       "      <td>2018</td>\n",
       "      <td>6</td>\n",
       "      <td>428.0</td>\n",
       "      <td>6-2018</td>\n",
       "    </tr>\n",
       "    <tr>\n",
       "      <th>1</th>\n",
       "      <td>2018</td>\n",
       "      <td>7</td>\n",
       "      <td>375.0</td>\n",
       "      <td>7-2018</td>\n",
       "    </tr>\n",
       "    <tr>\n",
       "      <th>2</th>\n",
       "      <td>2018</td>\n",
       "      <td>9</td>\n",
       "      <td>8007.0</td>\n",
       "      <td>9-2018</td>\n",
       "    </tr>\n",
       "    <tr>\n",
       "      <th>3</th>\n",
       "      <td>2018</td>\n",
       "      <td>10</td>\n",
       "      <td>2717.6</td>\n",
       "      <td>10-2018</td>\n",
       "    </tr>\n",
       "    <tr>\n",
       "      <th>4</th>\n",
       "      <td>2018</td>\n",
       "      <td>11</td>\n",
       "      <td>5342.0</td>\n",
       "      <td>11-2018</td>\n",
       "    </tr>\n",
       "  </tbody>\n",
       "</table>\n",
       "</div>"
      ],
      "text/plain": [
       "    Año Mes  Importe  Mes-Año\n",
       "0  2018   6    428.0   6-2018\n",
       "1  2018   7    375.0   7-2018\n",
       "2  2018   9   8007.0   9-2018\n",
       "3  2018  10   2717.6  10-2018\n",
       "4  2018  11   5342.0  11-2018"
      ]
     },
     "execution_count": 71,
     "metadata": {},
     "output_type": "execute_result"
    }
   ],
   "source": [
    "Serie_Temp_2.head()"
   ]
  },
  {
   "cell_type": "code",
   "execution_count": 40,
   "metadata": {},
   "outputs": [],
   "source": [
    "import seaborn as sns"
   ]
  },
  {
   "cell_type": "code",
   "execution_count": 50,
   "metadata": {},
   "outputs": [],
   "source": [
    "sns.set(rc={'figure.figsize':(11.7,8.27)})"
   ]
  },
  {
   "cell_type": "code",
   "execution_count": 77,
   "metadata": {},
   "outputs": [],
   "source": [
    "import matplotlib.pyplot as plt"
   ]
  },
  {
   "cell_type": "code",
   "execution_count": null,
   "metadata": {},
   "outputs": [],
   "source": [
    "import matplotlib.pyplot as plt\n",
    "import seaborn as sns\n",
    "\n",
    "plot=sns.barplot(data=df,  x=\" \", y=\" \")\n",
    "plt.setp(plot.get_xticklabels(), rotation=90)"
   ]
  },
  {
   "cell_type": "code",
   "execution_count": 81,
   "metadata": {},
   "outputs": [
    {
     "ename": "NameError",
     "evalue": "name 'ax' is not defined",
     "output_type": "error",
     "traceback": [
      "\u001b[1;31m---------------------------------------------------------------------------\u001b[0m",
      "\u001b[1;31mNameError\u001b[0m                                 Traceback (most recent call last)",
      "\u001b[1;32mc:\\Users\\Usuario\\Documents\\fabio\\Fabio\\Estadistica4all.github.io\\Notebooks\\Data-sets\\Serie temporal\\Data2.ipynb Celda 20\u001b[0m in \u001b[0;36m<cell line: 3>\u001b[1;34m()\u001b[0m\n\u001b[0;32m      <a href='vscode-notebook-cell:/c%3A/Users/Usuario/Documents/fabio/Fabio/Estadistica4all.github.io/Notebooks/Data-sets/Serie%20temporal/Data2.ipynb#X45sZmlsZQ%3D%3D?line=0'>1</a>\u001b[0m sns\u001b[39m.\u001b[39mlineplot(x\u001b[39m=\u001b[39m\u001b[39m\"\u001b[39m\u001b[39mMes-Año\u001b[39m\u001b[39m\"\u001b[39m, y\u001b[39m=\u001b[39m\u001b[39m\"\u001b[39m\u001b[39mImporte\u001b[39m\u001b[39m\"\u001b[39m, data\u001b[39m=\u001b[39mSerie_Temp_2 , color\u001b[39m=\u001b[39m\u001b[39m'\u001b[39m\u001b[39mred\u001b[39m\u001b[39m'\u001b[39m)\n\u001b[1;32m----> <a href='vscode-notebook-cell:/c%3A/Users/Usuario/Documents/fabio/Fabio/Estadistica4all.github.io/Notebooks/Data-sets/Serie%20temporal/Data2.ipynb#X45sZmlsZQ%3D%3D?line=2'>3</a>\u001b[0m ax\u001b[39m.\u001b[39mtick_params(axis\u001b[39m=\u001b[39m\u001b[39m'\u001b[39m\u001b[39mMes-Año\u001b[39m\u001b[39m'\u001b[39m, rotation\u001b[39m=\u001b[39m\u001b[39m90\u001b[39m)\n",
      "\u001b[1;31mNameError\u001b[0m: name 'ax' is not defined"
     ]
    },
    {
     "data": {
      "image/png": "[encoded data removed]",
      "text/plain": [
       "<Figure size 842.4x595.44 with 1 Axes>"
      ]
     },
     "metadata": {},
     "output_type": "display_data"
    }
   ],
   "source": [
    "sns.lineplot(x=\"Mes-Año\", y=\"Importe\", data=Serie_Temp_2 , color='red')\n",
    "\n",
    "ax.tick_params(axis='Mes-Año', rotation=90)"
   ]
  }
 ],
 "metadata": {
  "kernelspec": {
   "display_name": "Python 3.10.0 64-bit",
   "language": "python",
   "name": "python3"
  },
  "language_info": {
   "codemirror_mode": {
    "name": "ipython",
    "version": 3
   },
   "file_extension": ".py",
   "mimetype": "text/x-python",
   "name": "python",
   "nbconvert_exporter": "python",
   "pygments_lexer": "ipython3",
   "version": "3.10.0"
  },
  "orig_nbformat": 4,
  "vscode": {
   "interpreter": {
    "hash": "c63d8c7d738c2960218a10995aedf0a7f67a49a231e71037adf0440953cdb45b"
   }
  }
 },
 "nbformat": 4,
 "nbformat_minor": 2
}
