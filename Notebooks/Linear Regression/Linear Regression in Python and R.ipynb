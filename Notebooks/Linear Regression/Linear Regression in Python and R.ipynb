{
 "cells": [
  {
   "cell_type": "markdown",
   "metadata": {},
   "source": [
    "# Linear Regression with `Python` and `R`"
   ]
  },
  {
   "cell_type": "markdown",
   "metadata": {},
   "source": []
  },
  {
   "cell_type": "markdown",
   "metadata": {},
   "source": [
    "More articles in my blog:   $\\hspace{0.1cm}$   [Estadistica4all](https://fabioscielzoortiz.github.io/Estadistica4all.github.io/)\n",
    "\n",
    "&nbsp;\n",
    "\n",
    "How to reference this article ? \n",
    "\n",
    "Scielzo Ortiz, F. (2022). Linear Regression with Python and R. *Estadistica4all*.  [Linear Regression with Python and R](https://fabioscielzoortiz.github.io/Estadistica4all.github.io/Articulos/Linear%20Regression%20in%20Python%20and%20R.html )"
   ]
  },
  {
   "cell_type": "markdown",
   "metadata": {},
   "source": []
  },
  {
   "cell_type": "markdown",
   "metadata": {},
   "source": [
    "## Index\n"
   ]
  },
  {
   "cell_type": "markdown",
   "metadata": {},
   "source": [
    "\n",
    "* [Data-set description](#1)\n",
    "* * [Data Manipulation in `R`](#2)\n",
    "* * [Data Manipulation in `Python`](#3)\n",
    "\n"
   ]
  },
  {
   "cell_type": "markdown",
   "metadata": {},
   "source": [
    "\n",
    "  \n",
    "* [Introduction to the Linear Regression Model](#4)\n",
    "* * [Usefulness of the Linear Regression Model](#5)\n",
    "* * [Formal Approach to the Linear Regression Modelo](#6)\n",
    "* * [Basic Assumptions](#7)\n",
    "* * [Assumptions Consequences](#8)\n",
    "* * [Matrix representation of the basic assumption of the model](#9)\n",
    "  \n",
    " <br>"
   ]
  },
  {
   "cell_type": "markdown",
   "metadata": {},
   "source": [
    "  \n",
    "* [Estimation](#10)\n",
    "  \n",
    "  \n",
    "* * [Prediction of Response Variable](#11)\n",
    "* * [Estimation of model coefficients](#12)\n",
    "* * [Estimation of model errors](#13)\n",
    "* * [Residual sum of squares (RSS)](#13.1)\n",
    "* * [Regression Hyperplane ](#14)\n",
    "* * [Hat-Matrix](#15)\n",
    "  "
   ]
  },
  {
   "cell_type": "markdown",
   "metadata": {},
   "source": [
    "* * [Estimation of the Linear Regression Model in `R`](#16)\n",
    "* * [Estimation of Linear Regression Model in `Python` with `statsmodels`](#17)\n",
    "* * [Estimation of Linear Regression Model in `Python` with `scikit-learn`](#18)\n"
   ]
  },
  {
   "cell_type": "markdown",
   "metadata": {},
   "source": [
    "* * [Precision of the estimations of model coefficients](#19)\n",
    "* * * [Estimation of the standard deviation of coefficients estimators in `R`](#20)\n",
    "* * * [Estimation of the standard deviation of coefficients estimators in `Python`](#21)\n"
   ]
  },
  {
   "cell_type": "markdown",
   "metadata": {},
   "source": [
    "* * [Model Predictions in `R`](#22)\n",
    "* * [ Model Predictions in `Python` with `Statsmodels`](#23)\n",
    "* * [Model Predictions in `Python` with `Sk-learn`](#24)"
   ]
  },
  {
   "cell_type": "markdown",
   "metadata": {},
   "source": [
    "\n",
    "* * [Estimation of model errors in `R` ](#25)\n",
    "* * [Estimation of model errors in `Python`](#26)\n",
    "  \n"
   ]
  },
  {
   "cell_type": "markdown",
   "metadata": {},
   "source": [
    "* * [Estimation of the error variance (Residual Variance)](#27)\n",
    "* * * [Estimation of the error variance in `R` ](#28)\n",
    "* * * [Estimation of the error variance in `Python` ](#29)\n",
    "\n",
    "<br>"
   ]
  },
  {
   "cell_type": "markdown",
   "metadata": {},
   "source": [
    " \n",
    "\n",
    "* [Model Training Validation ](#30)\n",
    "* * [Model Training Validation in `R`](#31)\n",
    "* * [Model Training Validation in `Python`](#32)\n",
    "\n",
    "<br>"
   ]
  },
  {
   "cell_type": "markdown",
   "metadata": {},
   "source": [
    "\n",
    "\n",
    "* [Model Coefficients Interpretation](#33)\n",
    "* * [Null Coefficient](#34)\n",
    "* * [Quantitative Predictor Coefficient](#35)\n",
    "* * [Categorical Predictor Coefficient](#36)\n",
    "* * * [Example of coefficients interpretation](#37)\n",
    "* * [Interaction  Coefficient](#38)\n",
    "* * * [Example of interaction coefficient interpretation](#39)\n",
    "  \n",
    "<br>"
   ]
  },
  {
   "cell_type": "markdown",
   "metadata": {},
   "source": [
    "* [Inference](#40)\n",
    "  \n",
    " \n",
    "* * [Confidence Interval for $\\beta_j$](#41)\n",
    "* * [Confidence Interval for $\\sigma^2$](#42)\n",
    "* * * [Confidence Interval for  $\\beta_j$  in `R`](#43)\n",
    "* * * [Confidence Interval for  $\\beta_j$  in `Python`](#44)\n",
    "* * * [Confidence Interval for  $\\sigma^2$  in `R`](#45)\n",
    "* * * [Confidence Interval for  $\\sigma^2$  in `Python`](#46)\n",
    "  \n",
    "  <br>\n",
    "\n",
    "* * [t-test: Test for $\\beta_j$](#47)\n",
    "* * [Test of Significance for $\\beta_j$](#48)\n",
    "* * * [Test of Significance  in `R` ](#49)\n",
    "* * * [Test of Significance  in `Python` ](#50)\n",
    "* * [ANOVA test](#51)\n",
    "* * * [ANOVA test in `R`](#52)\n",
    "* * * [ANOVA test in `Python`](#53)\n",
    "\n"
   ]
  },
  {
   "cell_type": "markdown",
   "metadata": {},
   "source": [
    "\n",
    "\n",
    "* * [Prediction Interval for $y_i$](#53.1)\n",
    "* * * [Prediction Interval for $y_i$ in `Python`](#53.2)\n",
    "\n",
    "<br>"
   ]
  },
  {
   "cell_type": "markdown",
   "metadata": {},
   "source": [
    "\n",
    "* [Goodness of Fit: R-square](#54)\n",
    "* * [Compute $R^2$ in `R`](#55)\n",
    "* * [Compute $R^2$ in `Python`](#56)"
   ]
  },
  {
   "cell_type": "markdown",
   "metadata": {},
   "source": [
    "\n",
    "* [Goodness of Fit: Adjusted R-square ](#57)\n",
    "* * [Compute $\\widehat{R^2}$ in `R`](#58)\n",
    "* * [Compute $\\widehat{R^2}$ in `Python`](#59)\n",
    "  \n",
    "  <br>"
   ]
  },
  {
   "cell_type": "markdown",
   "metadata": {},
   "source": [
    "  \n",
    "* [Model Problems](#60)\n",
    "  \n"
   ]
  },
  {
   "cell_type": "markdown",
   "metadata": {},
   "source": [
    "\n",
    "\n",
    "* * [Multicollinearity](#61)\n",
    "* * * [Types of multicollinearity](#62)\n",
    "* * * [Identification of multicollinearity](#63)\n",
    "* * * * [Identification of multicollinearity with $VIF$](#64)\n",
    "* * * * [Identification of multicollinearity with $R$](#65)\n",
    "* * * * [Identification of multicollinearity with  condition number of $\\hspace{0.05cm} R$](#66)\n",
    "* * * * [Identification of multicollinearity with $GVIF$](#67)\n",
    "  \n"
   ]
  },
  {
   "cell_type": "markdown",
   "metadata": {},
   "source": [
    "\n",
    "  \n",
    "* * [Checking Error Assumptions](#68)\n",
    "* * * [Checking Error Constant Variance](#69)\n",
    "* * * [Checking Null Error Mean](#70)\n",
    "* * * [Checking Error Normality](#71)\n",
    "* * * [Checking Null Error Correlation](#72)\n",
    "\n"
   ]
  },
  {
   "cell_type": "markdown",
   "metadata": {},
   "source": [
    "\n",
    "\n",
    "* * [Checking Linear Assumption](#73)\n",
    "\n",
    "\n"
   ]
  },
  {
   "cell_type": "markdown",
   "metadata": {},
   "source": [
    "\n",
    " \n",
    "\n",
    "* * [Finding Outliers](#74)\n",
    "\n",
    "  "
   ]
  },
  {
   "cell_type": "markdown",
   "metadata": {},
   "source": []
  },
  {
   "cell_type": "markdown",
   "metadata": {},
   "source": []
  },
  {
   "cell_type": "markdown",
   "metadata": {},
   "source": [
    "----------------------------"
   ]
  },
  {
   "cell_type": "markdown",
   "metadata": {},
   "source": []
  },
  {
   "cell_type": "markdown",
   "metadata": {},
   "source": [
    " ##     Data-set description <a class=\"anchor\" id=\"1\"></a>\n",
    " "
   ]
  },
  {
   "cell_type": "markdown",
   "metadata": {},
   "source": []
  },
  {
   "cell_type": "markdown",
   "metadata": {},
   "source": [
    "\n",
    "\n",
    "We are going to describe the data-set we will use in this article.\n",
    "\n",
    "The data are 1905 observation about 38 variables on housing features.\n",
    "\n",
    "Here is the link where the data was loaded:\n",
    "<https://www.kaggle.com/datasets/dataregress/dubai-properties-dataset?resource=download>\n",
    "\n",
    "\n",
    "\n",
    "The variables of our interest are the following:\n",
    "\n",
    "-   id : identificator\n",
    "\n",
    "-   neighborhood: the name of the neighborhood\n",
    "\n",
    "-   latitude: the latitude of the house\n",
    "\n",
    "-   longitude: the longitude of the house\n",
    "\n",
    "-   price: the market price of the house\n",
    "\n",
    "-   size_in_sqft: the size of the house in square foot\n",
    "\n",
    "    -   1 sqft = 0.092903 $m^2$\n",
    "\n",
    "-   price_per_sqft: the market price of the house per square foot\n",
    "\n",
    "-   no_of_bedrooms: number of bedrooms in the house\n",
    "\n",
    "-   no_of_bathrooms: number of bathrooms in the house\n",
    "\n",
    "-   quality: quality of the house. Based on the number of services. Her\n",
    "    categories are Ultra, High, Medium and Low\n",
    "\n",
    "-   maid_room: indicates if the house has maid room (cuarto de servicio)\n",
    "    (true/false)\n",
    "\n",
    "-   unfurnished: indicates if the house is unfurnished (sin amueblar)\n",
    "    (true/false)\n",
    "\n",
    "-   balcony: indicates if the house has balcony (true/false)\n",
    "\n",
    "-   barbecue_area: indicates if the house has barbecue area (true/false)\n",
    "\n",
    "-   central_ac: indicates if the house has central air conditioning\n",
    "    (true/false)\n",
    "\n",
    "-   childrens_play_area: indicatees if the house has childrens game area\n",
    "    (true/false)\n",
    "\n",
    "-   childrens_pool: indicates if the house has childrens pool\n",
    "    (true/false)\n",
    "\n",
    "-   concierge: indicates if the house has concierge (true/false)\n",
    "\n",
    "-   covered_parking: indicates if the house has covered parking\n",
    "    (true/false)\n",
    "\n",
    "-   kitchen_appliances: indicates if the house has kitchen appliances\n",
    "    (electrodomesticos de cocina) (true/false)\n",
    "\n",
    "-   maid_service: indicates if the house has maid service (servicio de\n",
    "    limpieza) (true/false)\n",
    "\n",
    "-   pets_allowed: indicates if pets are allowed(true/false)\n",
    "\n",
    "-   private_garden: indicates if the house has private garden\n",
    "    (true/false)\n",
    "\n",
    "-   private_gym: indicates if the house has private gym (true/false)\n",
    "\n",
    "-   private_jacuzzi: indicates if the house has private jacuzzi\n",
    "    (true/false)\n",
    "\n",
    "-   private_pool: indicates if the house has private pool (true/false)\n",
    "\n",
    "-   security: indicates if the house has private secutity (true/false)\n",
    "\n",
    "-   shared_gym: indicates if the house has shared gym (true/false)\n",
    "\n",
    "-   shared_pool: indicates if the house has shared pool (true/false)\n",
    "\n",
    "-   shared_spa: indicates if the house has shared spa (true/false)\n",
    "\n",
    "-   view_of_water: indicates if the house has view of the water\n",
    "    (true/false)\n",
    "\n"
   ]
  },
  {
   "cell_type": "markdown",
   "metadata": {},
   "source": [
    "\n",
    "\n",
    "Now we are going to do the following:\n",
    "\n",
    "1. We are going to load an manipulate the data-set in R\n",
    "\n",
    "2. We will repeat this task in Python\n",
    "\n"
   ]
  },
  {
   "cell_type": "markdown",
   "metadata": {},
   "source": []
  },
  {
   "cell_type": "markdown",
   "metadata": {},
   "source": [
    "----------------------------"
   ]
  },
  {
   "cell_type": "markdown",
   "metadata": {},
   "source": []
  },
  {
   "cell_type": "markdown",
   "metadata": {},
   "source": [
    "### Data Manipulation in `R` <a class=\"anchor\" id=\"2\"></a>"
   ]
  },
  {
   "cell_type": "code",
   "execution_count": null,
   "metadata": {},
   "outputs": [],
   "source": [
    "import rpy2\n",
    "\n",
    "%load_ext rpy2.ipython\n",
    "\n",
    "import rpy2.robjects as robjects"
   ]
  },
  {
   "cell_type": "markdown",
   "metadata": {},
   "source": []
  },
  {
   "cell_type": "markdown",
   "metadata": {},
   "source": [
    "\n",
    "We load the data-set with which we are going to work:\n"
   ]
  },
  {
   "cell_type": "code",
   "execution_count": null,
   "metadata": {},
   "outputs": [],
   "source": [
    "%%R \n",
    "\n",
    "library(tidyverse)\n",
    "\n",
    "url = 'https://raw.githubusercontent.com/FabioScielzoOrtiz/Estadistica4all-blog/main/Linear%20Regression%20in%20Python%20and%20R/properties_data.csv'\n",
    "\n",
    "properties_data <- read_csv(url)"
   ]
  },
  {
   "cell_type": "markdown",
   "metadata": {},
   "source": []
  },
  {
   "cell_type": "markdown",
   "metadata": {},
   "source": [
    "Now, we are going to tranformate the variables that are measured in square foot (sqft) to square meters $(m^2)$\n"
   ]
  },
  {
   "cell_type": "markdown",
   "metadata": {},
   "source": [
    "\n",
    "size_in_m\\_2 = 0.092903 \\* size_in_sqft\n",
    "\n",
    "price_per_m\\_2 = price_per_sqft / 0.092903\n",
    "\n"
   ]
  },
  {
   "cell_type": "markdown",
   "metadata": {},
   "source": [
    "\n",
    "\n",
    "Now, we are going to tranformate the variables that are measured in square foot (sqft) to square meters $(m^2)$\n",
    "\n",
    "size_in_m\\_2 = 0.092903 \\* size_in_sqft\n",
    "\n",
    "price_per_m\\_2 = price_per_sqft / 0.092903\n",
    "\n"
   ]
  },
  {
   "cell_type": "code",
   "execution_count": null,
   "metadata": {},
   "outputs": [],
   "source": [
    "%%R \n",
    "\n",
    "size_in_m_2 <-  0.092903*properties_data$size_in_sqft\n",
    "\n",
    "properties_data$size_in_m_2 <- size_in_m_2\n",
    "\n",
    "price_per_m_2 <- properties_data$price_per_sqft /  0.092903 \n",
    "\n",
    "properties_data$price_per_m_2 <- price_per_m_2\n"
   ]
  },
  {
   "cell_type": "markdown",
   "metadata": {},
   "source": [
    "\n",
    "\n",
    "The following step will be convert the categorical variables to factor in R and remove in the data-set the variables that we will not take into account:\n"
   ]
  },
  {
   "cell_type": "code",
   "execution_count": null,
   "metadata": {},
   "outputs": [],
   "source": [
    "%%R\n",
    "levels(properties_data$quality)"
   ]
  },
  {
   "cell_type": "code",
   "execution_count": null,
   "metadata": {},
   "outputs": [],
   "source": [
    "%%R \n",
    "\n",
    "properties_data$quality = recode_factor(properties_data$quality , \"Low\" = 0 , \"Medium\" = 1 , \"High\" = 2  , \"Ultra\" = 3)\n"
   ]
  },
  {
   "cell_type": "code",
   "execution_count": null,
   "metadata": {},
   "outputs": [],
   "source": [
    "%%R \n",
    "\n",
    "properties_data$quality = factor(properties_data$quality)"
   ]
  },
  {
   "cell_type": "code",
   "execution_count": null,
   "metadata": {},
   "outputs": [],
   "source": [
    "%%R \n",
    "\n",
    "data_R <- properties_data %>% select(\"price\", \"size_in_m_2\", \"longitude\", \"latitude\", \"no_of_bedrooms\", \"no_of_bathrooms\", \"quality\")\n",
    "\n",
    "head(data_R,15)"
   ]
  },
  {
   "cell_type": "markdown",
   "metadata": {},
   "source": []
  },
  {
   "cell_type": "markdown",
   "metadata": {},
   "source": [
    "----------------------------"
   ]
  },
  {
   "cell_type": "markdown",
   "metadata": {},
   "source": []
  },
  {
   "cell_type": "markdown",
   "metadata": {},
   "source": [
    "### Data Manipulation in `Python` <a class=\"anchor\" id=\"3\"></a>"
   ]
  },
  {
   "cell_type": "code",
   "execution_count": null,
   "metadata": {},
   "outputs": [],
   "source": [
    "import pandas as pd\n",
    "\n",
    "from dfply import *\n",
    "\n",
    "import warnings\n",
    "warnings.filterwarnings('ignore')"
   ]
  },
  {
   "cell_type": "code",
   "execution_count": null,
   "metadata": {},
   "outputs": [],
   "source": [
    "url = 'https://raw.githubusercontent.com/FabioScielzoOrtiz/Estadistica4all-blog/main/Linear%20Regression%20in%20Python%20and%20R/properties_data.csv'\n",
    "\n",
    "data_Python = pd.read_csv(url)\n",
    "\n",
    "data_Python"
   ]
  },
  {
   "cell_type": "code",
   "execution_count": null,
   "metadata": {},
   "outputs": [],
   "source": [
    "data_Python['size_in_m_2'] = 0.092903*data_Python['size_in_sqft']\n",
    "data_Python['price_per_m_2'] = data_Python['price_per_sqft']/0.092903"
   ]
  },
  {
   "cell_type": "code",
   "execution_count": null,
   "metadata": {},
   "outputs": [],
   "source": [
    "data_Python = data_Python >> select(X.price , X.size_in_m_2, X.longitude, X.latitude, X.no_of_bedrooms, X.no_of_bathrooms, X.quality)\n",
    "data_Python"
   ]
  },
  {
   "cell_type": "markdown",
   "metadata": {},
   "source": []
  },
  {
   "cell_type": "markdown",
   "metadata": {},
   "source": [
    "Converting $quality$  to categorical:"
   ]
  },
  {
   "cell_type": "code",
   "execution_count": null,
   "metadata": {},
   "outputs": [],
   "source": [
    "data_Python.dtypes"
   ]
  },
  {
   "cell_type": "markdown",
   "metadata": {},
   "source": []
  },
  {
   "cell_type": "markdown",
   "metadata": {},
   "source": [
    "Recoding the categorical variable $quality$"
   ]
  },
  {
   "cell_type": "code",
   "execution_count": null,
   "metadata": {},
   "outputs": [],
   "source": [
    "data_Python['quality'].unique()"
   ]
  },
  {
   "cell_type": "code",
   "execution_count": null,
   "metadata": {},
   "outputs": [],
   "source": [
    "(data_Python['quality_recode']) = 0\n",
    "\n",
    "for i in range(0 , len(data_Python)) :\n",
    "\n",
    "    if (data_Python['quality'])[i] == 'Low' :\n",
    "\n",
    "        (data_Python['quality_recode'])[i] = 0\n",
    "\n",
    "    if (data_Python['quality'])[i] == 'Medium' :\n",
    "\n",
    "        (data_Python['quality_recode'])[i] = 1\n",
    "\n",
    "    if (data_Python['quality'])[i] == 'High' :\n",
    "\n",
    "        (data_Python['quality_recode'])[i] = 2\n",
    "\n",
    "    if (data_Python['quality'])[i] == 'Ultra' :\n",
    "\n",
    "        (data_Python['quality_recode'])[i] = 3"
   ]
  },
  {
   "cell_type": "code",
   "execution_count": null,
   "metadata": {},
   "outputs": [],
   "source": [
    "data_Python.head()"
   ]
  },
  {
   "cell_type": "code",
   "execution_count": null,
   "metadata": {},
   "outputs": [],
   "source": [
    "data_Python = data_Python >> select( ~X.quality )"
   ]
  },
  {
   "cell_type": "code",
   "execution_count": null,
   "metadata": {},
   "outputs": [],
   "source": [
    "data_Python = data_Python >> rename(quality = X.quality_recode)"
   ]
  },
  {
   "cell_type": "code",
   "execution_count": null,
   "metadata": {},
   "outputs": [],
   "source": [
    "data_Python['quality'] = data_Python['quality'].astype('category')"
   ]
  },
  {
   "cell_type": "code",
   "execution_count": null,
   "metadata": {},
   "outputs": [],
   "source": [
    "data_Python.dtypes"
   ]
  },
  {
   "cell_type": "markdown",
   "metadata": {},
   "source": []
  },
  {
   "cell_type": "markdown",
   "metadata": {},
   "source": [
    "The final  data-set in Python would be:"
   ]
  },
  {
   "cell_type": "code",
   "execution_count": null,
   "metadata": {},
   "outputs": [],
   "source": [
    "data_Python"
   ]
  },
  {
   "cell_type": "markdown",
   "metadata": {},
   "source": []
  },
  {
   "cell_type": "markdown",
   "metadata": {},
   "source": [
    "We can write the last data-frame as csv as follows:"
   ]
  },
  {
   "cell_type": "code",
   "execution_count": null,
   "metadata": {},
   "outputs": [],
   "source": [
    "data_Python.to_csv('data_Python.csv' , index=False)"
   ]
  },
  {
   "cell_type": "markdown",
   "metadata": {},
   "source": [
    "**Important**: to use categorical variables in a linear regression model in Python they must be recoded (their values must be numbers that represents their categories), i.e, we cannot use the variable *quality* , insteaf of it we can use *quality_recode*\n",
    "\n",
    "This is the reason we have recoded *quality* in Python but not in R, because in R is not strictly necessary."
   ]
  },
  {
   "cell_type": "markdown",
   "metadata": {},
   "source": [
    "Note we have obtained the same data-set that was obtained with R.\n",
    "\n",
    "- The R data-set has been called *data_R*\n",
    "\n",
    "- The Python data-set has been called *data_python*\n",
    "\n",
    "\n",
    "We will use both of them throughout this article. "
   ]
  },
  {
   "cell_type": "markdown",
   "metadata": {},
   "source": []
  },
  {
   "cell_type": "markdown",
   "metadata": {},
   "source": []
  },
  {
   "cell_type": "markdown",
   "metadata": {},
   "source": [
    "----------------------------"
   ]
  },
  {
   "cell_type": "markdown",
   "metadata": {},
   "source": []
  },
  {
   "cell_type": "markdown",
   "metadata": {},
   "source": [
    "## Introduction to the Linear Regression Model <a class=\"anchor\" id=\"4\"></a>\n"
   ]
  },
  {
   "cell_type": "markdown",
   "metadata": {},
   "source": [
    "\n",
    "\n",
    "The principal propose of this article is carry out a theoretical and\n",
    "also practical exposition of the linear regression model.\n",
    "\n",
    "Without any doubt the this is the most know statistical model.\n",
    "\n",
    "There is the idea that the linear regression model is outdated compared\n",
    "with other modern statistical models. But I would like to defend his\n",
    "validity nowadays, first of all as a statistical tool, and second as a\n",
    "previous necessary step to learn other most modern and complex methods.\n",
    "\n",
    "The linear regression model is the base of many modern regression\n",
    "techniques, so that is highly recommended study it enough, before to go deeper in other statistical models.\n"
   ]
  },
  {
   "cell_type": "markdown",
   "metadata": {},
   "source": []
  },
  {
   "cell_type": "markdown",
   "metadata": {},
   "source": [
    "\n",
    "\n",
    "### Usefulness of the Linear Regression Model <a class=\"anchor\" id=\"5\"></a>\n",
    "\n",
    "\n",
    "\n",
    "The main usefulness of the linear regression model is to predict the\n",
    "values of a **quantitative** variable, called **response variable**,  depending on the values of other, **quantitative** or **categorical** variables ,\n",
    "called **predictors**.\n",
    "\n",
    "The other important usefulness of the linear regression model is to do inference, in other words, analyze the relation between the response variable and the predictors.\n"
   ]
  },
  {
   "cell_type": "markdown",
   "metadata": {},
   "source": []
  },
  {
   "cell_type": "markdown",
   "metadata": {},
   "source": [
    "----------------------------"
   ]
  },
  {
   "cell_type": "markdown",
   "metadata": {},
   "source": []
  },
  {
   "cell_type": "markdown",
   "metadata": {},
   "source": [
    "### Formal Approach to the Linear Regression Model <a class=\"anchor\" id=\"6\"></a>\n"
   ]
  },
  {
   "cell_type": "markdown",
   "metadata": {},
   "source": [
    "\n",
    "We have the following elements:\n"
   ]
  },
  {
   "cell_type": "markdown",
   "metadata": {},
   "source": [
    "\n",
    "-   ***Response Variable:***  a **quantitative** variable\n",
    "      $Y=(y_{1} , y_2,...,y_n)^t$\n"
   ]
  },
  {
   "cell_type": "markdown",
   "metadata": {},
   "source": [
    "\n",
    "-   ***Predictors:*** a set of **quantitative** or **categorical**\n",
    "    variables:\n",
    "\n"
   ]
  },
  {
   "cell_type": "markdown",
   "metadata": {},
   "source": [
    "\n",
    "\\begin{gather*}\n",
    "X_1 = (x_{11}, x_{21}, ..., x_{n1})^t \\\\\n",
    "X_2 = (x_{12}, x_{22}, ..., x_{n2})^t \\\\\n",
    "... \\\\\n",
    "X_p = (x_{1p}, x_{2p}, ..., x_{np})^t\n",
    "\\end{gather*}\n",
    "\n"
   ]
  },
  {
   "cell_type": "markdown",
   "metadata": {},
   "source": [
    "\n",
    "-   ***Predictors Matrix:***\n",
    "\n",
    "    \n",
    "    \\begin{gather*}\n",
    "    X=(1, X_1, X_2,...,X_p) = \n",
    "    \\begin{pmatrix}\n",
    "    1 & x_{11}&x_{12}&...&x_{1p}\\\\\n",
    "    1 & x_{21}&x_{22}&...&x_{2p}\\\\\n",
    "    &...&\\\\\n",
    "    1& x_{n1}&x_{n2}&...&x_{np}\n",
    "    \\end{pmatrix} = \n",
    "    \\begin{pmatrix}\n",
    "    x_{1}\\\\\n",
    "    x_{2}\\\\\n",
    "    ...\\\\\n",
    "    x_{n}\n",
    "    \\end{pmatrix}\n",
    "    \\end{gather*}\n",
    "    \n"
   ]
  },
  {
   "cell_type": "markdown",
   "metadata": {},
   "source": [
    "\n",
    "-   ***Beta Coefficients vector:***\n",
    "\n",
    "\n",
    "\\begin{gather*}\n",
    "\\beta=(\\beta_{1}, \\beta_{2}, ..., \\beta_{n})^t \n",
    "\\end{gather*}\n"
   ]
  },
  {
   "cell_type": "markdown",
   "metadata": {},
   "source": [
    "\n",
    "-   ***Errors (residuals) vector:***\n",
    "\n",
    "\n",
    "\\begin{gather*}\n",
    "\\varepsilon=(\\varepsilon_{1}, \\varepsilon_{2}, ..., \\varepsilon_{n})^t \n",
    "\\end{gather*}\n",
    "\n"
   ]
  },
  {
   "cell_type": "markdown",
   "metadata": {},
   "source": []
  },
  {
   "cell_type": "markdown",
   "metadata": {},
   "source": [
    "----------------------------"
   ]
  },
  {
   "cell_type": "markdown",
   "metadata": {},
   "source": []
  },
  {
   "cell_type": "markdown",
   "metadata": {},
   "source": [
    "\n",
    "### Basic Assumptions <a class=\"anchor\" id=\"7\"></a>\n",
    "\n"
   ]
  },
  {
   "cell_type": "markdown",
   "metadata": {},
   "source": [
    "The basic assumptions of the model are the following:"
   ]
  },
  {
   "cell_type": "markdown",
   "metadata": {},
   "source": [
    "\n",
    "\n",
    "- $\\hspace{0.3cm} y_i \\hspace{0.1cm} =  \\hspace{0.1cm} x_i^t \\cdot \\beta  +  \\varepsilon_i \\hspace{0.1cm} =  \\hspace{0.1cm}   \\beta_0 + \\sum_{j=1}^{p} \\left( \\beta_j \\cdot x_{ij} \\right) + \\varepsilon_i \\hspace{0.1cm} =  \\hspace{0.1cm}  \\beta_0 + \\beta_1 \\cdot x_{i1} + \\beta_2 \\cdot x_{i2} + \\dots + \\beta_p \\cdot x_{ip} + \\varepsilon_i $\n",
    " \n"
   ]
  },
  {
   "cell_type": "markdown",
   "metadata": {},
   "source": [
    " \n",
    "-  $\\hspace{0.3cm} \\varepsilon_i$ is a random variable such that:\n",
    "\n",
    "\n",
    "   - $\\hspace{0.3cm} E[\\varepsilon_i]=0$\n",
    "   \n",
    "   - $\\hspace{0.3cm} Var(\\varepsilon_i)=\\sigma^2$\n",
    "  \n",
    "   - $\\hspace{0.3cm} \\varepsilon_i \\sim N(0,\\sigma)$ \n",
    "  \n",
    "   - $\\hspace{0.3cm} cov(\\varepsilon_i , \\varepsilon_j)=0  \\hspace{0.15cm} ,\\forall i\\neq j$ \n",
    "\n"
   ]
  },
  {
   "cell_type": "markdown",
   "metadata": {},
   "source": [
    "\n",
    "\n",
    "- $\\hspace{0.3cm}$ Additional assumptions:\n",
    "\n",
    "  -  $\\hspace{0.3cm} n > p+1 \\hspace{0.3cm}$ ( nº observations $>$ nº of beta coefficients  )\n",
    "\n",
    "  -  $\\hspace{0.3cm} Rg(X)=p+1$\n"
   ]
  },
  {
   "cell_type": "markdown",
   "metadata": {},
   "source": [
    "Why are these additional assumptions important ? $\\hspace{0.1cm} \\Rightarrow\\hspace{0.1cm} $ Dimensionality problem (will be seen it in other article of the blog)"
   ]
  },
  {
   "cell_type": "markdown",
   "metadata": {},
   "source": []
  },
  {
   "cell_type": "markdown",
   "metadata": {},
   "source": [
    "------------------------"
   ]
  },
  {
   "cell_type": "markdown",
   "metadata": {},
   "source": []
  },
  {
   "cell_type": "markdown",
   "metadata": {},
   "source": [
    "\n",
    "\n",
    "### Assumptions Consequences <a class=\"anchor\" id=\"8\"></a>\n",
    "\n",
    "\n",
    "   -  $\\hspace{0.15cm} y_i$ is a random variable because  $\\varepsilon_i$ is a random variable\n",
    "\n",
    "   -  $\\hspace{0.15cm} E[y_i]= x_i^t \\cdot \\beta$\n",
    "\n",
    "   -  $\\hspace{0.15cm} Var(y_i) = \\sigma^2$\n",
    "\n",
    "   -  $\\hspace{0.15cm} y_i \\sim N(\\hspace{0.1cm} x_i^t  \\cdot \\beta \\hspace{0.1cm} , \\hspace{0.1cm} \\sigma^2 \\hspace{0.1cm} )$\n",
    "\n",
    "   -  $\\hspace{0.15cm} cov(y_i , y_j)=0  \\hspace{0.15cm}, \\forall i\\neq j$\n",
    "\n"
   ]
  },
  {
   "cell_type": "markdown",
   "metadata": {},
   "source": []
  },
  {
   "cell_type": "markdown",
   "metadata": {},
   "source": [
    "----------------"
   ]
  },
  {
   "cell_type": "markdown",
   "metadata": {},
   "source": []
  },
  {
   "cell_type": "markdown",
   "metadata": {},
   "source": []
  },
  {
   "cell_type": "markdown",
   "metadata": {},
   "source": [
    "\n",
    "### Matrix representation of the basic assumption of the model <a class=\"anchor\" id=\"9\"></a>\n",
    "\n",
    "\n",
    "\n",
    "- $ Y=X\\cdot \\beta + \\varepsilon $\n",
    "\n",
    "- $\\varepsilon_i \\sim N(0,\\sigma) \\hspace{0.4cm} \\forall \\hspace{0.1cm} i=1,...,n $\n",
    "  \n",
    "- $cov(\\varepsilon_i , \\varepsilon_j)=0 \\hspace{0.4cm} \\forall \\hspace{0.1cm} i\\neq j =1,...,n $"
   ]
  },
  {
   "cell_type": "markdown",
   "metadata": {},
   "source": []
  },
  {
   "cell_type": "markdown",
   "metadata": {},
   "source": [
    "-----"
   ]
  },
  {
   "cell_type": "markdown",
   "metadata": {},
   "source": []
  },
  {
   "cell_type": "markdown",
   "metadata": {},
   "source": [
    "## Estimation  <a class=\"anchor\" id=\"10\"></a>\n"
   ]
  },
  {
   "cell_type": "markdown",
   "metadata": {},
   "source": []
  },
  {
   "cell_type": "markdown",
   "metadata": {},
   "source": [
    "\n",
    "###  Prediction of Response Variable <a class=\"anchor\" id=\"11\"></a>\n",
    "\n",
    "\n",
    "The linear regression model predict the response variable value $y_i$  for the combination of predictors values  $x_i = (1,x_{i1}, x_{i2}, ..., x_{ip})^t$  as:\n",
    "\n",
    "\\begin{gather*}\n",
    "\\widehat{y}_i \\hspace{0.1cm}=\\hspace{0.1cm} x_i^t \\cdot \\widehat{\\beta}  \\hspace{0.1cm}=\\hspace{0.1cm} \\widehat{\\beta}_0 + \\sum_{j=1}^{p} \\widehat{\\beta}_j \\cdot x_{ij} \\hspace{0.1cm}=\\hspace{0.1cm} \\widehat{\\beta}_0 + \\widehat{\\beta}_1 \\cdot x_{i1} + \\widehat{\\beta}_2 \\cdot x_{i2} + ... + \\widehat{\\beta}_p \\cdot x_{ip} \n",
    "\\end{gather*}\n",
    "\n"
   ]
  },
  {
   "cell_type": "markdown",
   "metadata": {},
   "source": []
  },
  {
   "cell_type": "markdown",
   "metadata": {},
   "source": [
    "-----"
   ]
  },
  {
   "cell_type": "markdown",
   "metadata": {},
   "source": []
  },
  {
   "cell_type": "markdown",
   "metadata": {},
   "source": [
    "\n",
    "### Estimation of model coefficients <a class=\"anchor\" id=\"12\"></a>\n",
    "\n",
    "\n",
    "The estimation of $\\beta$  in the classic linear regression model is done\n",
    "using the ordinary least square (OLS) method.\n",
    "\n",
    "$\\widehat{\\beta}$  is compute as the solution of the following optimitation\n",
    "problem:\n"
   ]
  },
  {
   "cell_type": "markdown",
   "metadata": {},
   "source": [
    "\n",
    "\\begin{gather*}\n",
    "  \\underset{\\beta}{Min} \\hspace{0.2cm} RSS(\\beta) \\hspace{0.2cm} = \\hspace{0.2cm}  \\underset{\\beta}{Min} \\hspace{0.2cm}  \\sum_{i=1}^{n} \\hspace{0.1cm}(y_i - x_i^t \\cdot \\beta)\\hspace{0.02cm}^2  \\hspace{0.2cm} = \\hspace{0.2cm}  \\underset{\\beta_0,\\beta_1,...,\\beta_p}{Min} \\hspace{0.2cm}  \\sum_{i=1}^{n} \\hspace{0.1cm}(y_i - \\beta_0 - \\beta_1 \\cdot x_{i1} - \\dots - \\beta_p \\cdot x_{ip})\\hspace{0.02cm}^2 \n",
    "\\end{gather*}\n",
    "\n",
    " \n"
   ]
  },
  {
   "cell_type": "markdown",
   "metadata": {},
   "source": [
    "\n",
    "The problem solution is:\n",
    "\n",
    "\\begin{gather*}\n",
    "\\widehat{\\beta}=(X^t \\cdot X)^{-1} \\cdot X^t \\cdot Y\n",
    "\\end{gather*}\n",
    "\n",
    " \n"
   ]
  },
  {
   "cell_type": "markdown",
   "metadata": {},
   "source": [
    "**Interpretation :**\n",
    "\n",
    "$\\hspace{0.2cm} \\widehat{y} = x^t \\cdot \\widehat{\\beta} \\hspace{0.2cm} $ is the hyperplane that **minimize** the **euclidean distance** between the given values of the response variable $(Y)$ and the points of the hyperplane given by $\\hspace{0.1cm} \\hat{y}_i = x_i^t \\cdot \\widehat{\\beta}$"
   ]
  },
  {
   "cell_type": "markdown",
   "metadata": {},
   "source": []
  },
  {
   "cell_type": "code",
   "execution_count": null,
   "metadata": {},
   "outputs": [],
   "source": [
    "from IPython.display import Image\n",
    "Image(filename='hyperplane.png') "
   ]
  },
  {
   "cell_type": "markdown",
   "metadata": {},
   "source": []
  },
  {
   "cell_type": "markdown",
   "metadata": {},
   "source": [
    "\n",
    "**Observation:**\n",
    "\n",
    "We will not view here the mathematical details about the resolution of\n",
    "this optimization problem. But is a classic convex optimization problem,\n",
    "so it´s enough to take first derivatives of the objetive function with\n",
    "respect to the coefficients  $\\beta_0,\\beta_1,...,\\beta_p$ ,  set them equal to zero (0), and solve the resultant equation system with respect\n",
    "to  $\\beta$\n"
   ]
  },
  {
   "cell_type": "markdown",
   "metadata": {},
   "source": []
  },
  {
   "cell_type": "markdown",
   "metadata": {},
   "source": [
    "---------"
   ]
  },
  {
   "cell_type": "markdown",
   "metadata": {},
   "source": []
  },
  {
   "cell_type": "markdown",
   "metadata": {},
   "source": [
    "\n",
    "### Estimation of model errors (residuals) <a class=\"anchor\" id=\"13\"></a>\n"
   ]
  },
  {
   "cell_type": "markdown",
   "metadata": {},
   "source": [
    "\n",
    "\n",
    "The model errors  $\\varepsilon_i$  are estimated as:\n",
    "\n",
    "$$\n",
    "\\widehat{\\varepsilon}_i \\hspace{0.1 cm} = \\hspace{0.1 cm} y_i - \\widehat{y}_i \\hspace{0.1 cm} = \\hspace{0.1 cm} y_i - x_i^t \\cdot \\widehat{\\beta}  \n",
    "$$\n",
    "\n",
    "for $\\hspace{0.1cm}$ $i=1,...,n$\n",
    "\n"
   ]
  },
  {
   "cell_type": "markdown",
   "metadata": {},
   "source": [
    "\n",
    "**Observation:**\n",
    "\n",
    "$\\hat{\\varepsilon}_i$  is the error done by the model when it\n",
    "predicts  $y_i$  as  $\\hat{y}_i=x_i^t \\cdot \\hat{\\beta}$\n",
    "\n"
   ]
  },
  {
   "cell_type": "markdown",
   "metadata": {},
   "source": []
  },
  {
   "cell_type": "markdown",
   "metadata": {},
   "source": [
    "----"
   ]
  },
  {
   "cell_type": "markdown",
   "metadata": {},
   "source": []
  },
  {
   "cell_type": "markdown",
   "metadata": {},
   "source": [
    "### Residual sum of squares (RSS) <a class=\"anchor\" id=\"13.1\"></a>"
   ]
  },
  {
   "cell_type": "markdown",
   "metadata": {},
   "source": [
    "The size of the errors is quantify as the estimated errors sum of squares :\n"
   ]
  },
  {
   "cell_type": "markdown",
   "metadata": {},
   "source": [
    "\n",
    "$$ RSS \\hspace{0.1 cm} = \\hspace{0.1 cm} \\sum_{i=1}^{n} \\hat{\\varepsilon}_i\\hspace{0.02cm}^2 \\hspace{0.1 cm} = \\hspace{0.1 cm} \\sum_{i=1}^{n} (y_i - \\widehat{y}_i)\\hspace{0.02cm}^2 \\hspace{0.1 cm} = \\hspace{0.1 cm} \\sum_{i=1}^{n} (y_i - x_i^t \\cdot \\widehat{\\beta})\\hspace{0.02cm}^2 $$"
   ]
  },
  {
   "cell_type": "markdown",
   "metadata": {},
   "source": []
  },
  {
   "cell_type": "markdown",
   "metadata": {},
   "source": [
    "-----"
   ]
  },
  {
   "cell_type": "markdown",
   "metadata": {},
   "source": []
  },
  {
   "cell_type": "markdown",
   "metadata": {},
   "source": [
    "\n",
    "### Regression Hyperplane <a class=\"anchor\" id=\"14\"></a>\n",
    "\n",
    "The regression hyperplane is the matrix expression of the predictions\n",
    "that the model does of the response variable values: \n",
    "\n",
    "$$ \\hat{Y} = X \\cdot \\hat{\\beta}$$\n",
    "\n",
    "Where:    $\\hat{Y}=(\\hat{y}_1,\\hat{y}_2,...,\\hat{y}_n)^t$\n",
    "\n"
   ]
  },
  {
   "cell_type": "markdown",
   "metadata": {},
   "source": []
  },
  {
   "cell_type": "markdown",
   "metadata": {},
   "source": [
    "-----"
   ]
  },
  {
   "cell_type": "markdown",
   "metadata": {},
   "source": []
  },
  {
   "cell_type": "markdown",
   "metadata": {},
   "source": [
    "\n",
    "### Hat-Matrix <a class=\"anchor\" id=\"15\"></a>\n"
   ]
  },
  {
   "cell_type": "markdown",
   "metadata": {},
   "source": [
    "\n",
    "\n",
    "\\begin{gather*}\n",
    "\\hat{Y} = X \\cdot \\hat{\\beta} = X \\cdot (X^t \\cdot X)^{-1} \\cdot X^t \\cdot Y = H \\cdot Y  \n",
    "\\end{gather*}\n",
    "\n",
    "\n",
    "\n",
    "Where:  \n",
    "\n",
    " $$H= X \\cdot (X^t \\cdot X)^{-1} \\cdot X^t$$\n",
    "\n",
    "  is called **Hat-Matrix**\n"
   ]
  },
  {
   "cell_type": "markdown",
   "metadata": {},
   "source": []
  },
  {
   "cell_type": "markdown",
   "metadata": {},
   "source": [
    "-----"
   ]
  },
  {
   "cell_type": "markdown",
   "metadata": {},
   "source": []
  },
  {
   "cell_type": "markdown",
   "metadata": {},
   "source": [
    "### Estimation of the Linear Regression Model in `R` <a class=\"anchor\" id=\"16\"></a>\n"
   ]
  },
  {
   "cell_type": "markdown",
   "metadata": {},
   "source": []
  },
  {
   "cell_type": "markdown",
   "metadata": {},
   "source": [
    "\n",
    "\n",
    "In this section we are going to show how estimate a linear regression\n",
    "model in R, using for this purpose the data-set that was showed at the begining of the article.\n",
    "\n",
    "The linear regression model that we propose is the following:\n",
    "\n",
    "\\begin{gather*}\n",
    "price_i = \\beta_0 +  \\beta_1 \\cdot size\\_in\\_m\\_2_i + \\beta_2 \\cdot no\\_of\\_bedrooms_i +  \\beta_3 \\cdot no\\_of\\_bathrooms_i + \\\\ + \\beta_4 \\cdot quality_i + \\beta_5\\cdot  latitude_i +  \\beta_6 \\cdot longitude_i + \\varepsilon_i\n",
    "\\end{gather*}\n",
    "\n"
   ]
  },
  {
   "cell_type": "code",
   "execution_count": null,
   "metadata": {},
   "outputs": [],
   "source": [
    "%%R\n",
    "\n",
    "model_R <- lm( price ~ size_in_m_2 + no_of_bedrooms + no_of_bathrooms + quality + latitude + longitude ,\n",
    "data = data_R)\n",
    "\n",
    "summary(model_R)"
   ]
  },
  {
   "cell_type": "markdown",
   "metadata": {},
   "source": []
  },
  {
   "cell_type": "markdown",
   "metadata": {},
   "source": [
    "------"
   ]
  },
  {
   "cell_type": "markdown",
   "metadata": {},
   "source": []
  },
  {
   "cell_type": "markdown",
   "metadata": {},
   "source": [
    "### Estimation of Linear Regression Model in `Python`   "
   ]
  },
  {
   "cell_type": "markdown",
   "metadata": {},
   "source": []
  },
  {
   "cell_type": "markdown",
   "metadata": {},
   "source": [
    "### Estimation of Linear Regression Model in `Python` with `statsmodels` <a class=\"anchor\" id=\"17\"></a>\n"
   ]
  },
  {
   "cell_type": "markdown",
   "metadata": {},
   "source": [
    "\n",
    "We can implement a linear regression model in Python with `statsmodels` in two ways."
   ]
  },
  {
   "cell_type": "markdown",
   "metadata": {},
   "source": []
  },
  {
   "cell_type": "markdown",
   "metadata": {},
   "source": [
    "***First way:*** $\\hspace{0.1cm}$ `statsmodels.formula.api`"
   ]
  },
  {
   "cell_type": "code",
   "execution_count": null,
   "metadata": {},
   "outputs": [],
   "source": [
    "# pip install statmodels"
   ]
  },
  {
   "cell_type": "code",
   "execution_count": null,
   "metadata": {},
   "outputs": [],
   "source": [
    "import statsmodels.formula.api as smf"
   ]
  },
  {
   "cell_type": "code",
   "execution_count": null,
   "metadata": {},
   "outputs": [],
   "source": [
    "model_Py_smf = smf.ols(formula = 'price ~ size_in_m_2 + no_of_bedrooms + no_of_bathrooms + quality + latitude + longitude', \n",
    "                       data =data_Python)\n",
    "\n",
    "model_Py_smf = model_Py_smf.fit()\n",
    " \n",
    "print(model_Py_smf.summary())"
   ]
  },
  {
   "cell_type": "markdown",
   "metadata": {},
   "source": []
  },
  {
   "cell_type": "markdown",
   "metadata": {},
   "source": []
  },
  {
   "cell_type": "markdown",
   "metadata": {},
   "source": [
    "  ***Second way:***  $\\hspace{0.1cm}$  `statsmodels.api`"
   ]
  },
  {
   "cell_type": "markdown",
   "metadata": {},
   "source": [
    "One of the most important differences is that `statsmodels.api` does not fit the intercept, while `statsmodels.formula.api` does.\n",
    "\n",
    "Another important difference is that `statsmodels.api` doesn't deal well with categorical predictors, while `statsmodels.formula.api` does."
   ]
  },
  {
   "cell_type": "markdown",
   "metadata": {},
   "source": [
    "To fit the intercept and properly treat categorical predictors with `statsmodels.api` we need to add the intercept and the dummy (binary) variables associated with the categorical predictors to the data matrix $X$ as new predictors, and this can be done using the function `varcharProcessing `."
   ]
  },
  {
   "cell_type": "code",
   "execution_count": null,
   "metadata": {},
   "outputs": [],
   "source": [
    "def varcharProcessing(X, varchar_process = \"dummy_dropfirst\"):\n",
    "    \n",
    "    dtypes = X.dtypes\n",
    "\n",
    "    if varchar_process == \"drop\":   \n",
    "        X = X.drop(columns = dtypes[dtypes == np.object].index.tolist())\n",
    "\n",
    "    elif varchar_process == \"dummy\":\n",
    "        X = pd.get_dummies(X,drop_first=False)\n",
    "\n",
    "    elif varchar_process == \"dummy_dropfirst\":\n",
    "        X = pd.get_dummies(X,drop_first=True)\n",
    "\n",
    "    else: \n",
    "        X = pd.get_dummies(X,drop_first=True)\n",
    "    \n",
    "    X[\"intercept\"] = 1\n",
    "    cols = X.columns.tolist()\n",
    "    cols = cols[-1:] + cols[:-1]\n",
    "    X = X[cols]\n",
    "    \n",
    "    return X"
   ]
  },
  {
   "cell_type": "markdown",
   "metadata": {},
   "source": []
  },
  {
   "cell_type": "markdown",
   "metadata": {},
   "source": [
    "Let's see how `varcharProcessing ` works:"
   ]
  },
  {
   "cell_type": "code",
   "execution_count": null,
   "metadata": {},
   "outputs": [],
   "source": [
    "X = data_Python[['size_in_m_2', 'longitude', 'latitude', 'no_of_bedrooms', 'no_of_bathrooms', 'quality']]"
   ]
  },
  {
   "cell_type": "code",
   "execution_count": null,
   "metadata": {},
   "outputs": [],
   "source": [
    "X.head()"
   ]
  },
  {
   "cell_type": "code",
   "execution_count": null,
   "metadata": {},
   "outputs": [],
   "source": [
    "varcharProcessing(X, varchar_process = \"dummy_dropfirst\").head()"
   ]
  },
  {
   "cell_type": "markdown",
   "metadata": {},
   "source": []
  },
  {
   "cell_type": "code",
   "execution_count": null,
   "metadata": {},
   "outputs": [],
   "source": [
    "import statsmodels.api as sm"
   ]
  },
  {
   "cell_type": "code",
   "execution_count": null,
   "metadata": {},
   "outputs": [],
   "source": [
    "X = data_Python[['size_in_m_2', 'longitude', 'latitude', 'no_of_bedrooms', 'no_of_bathrooms', 'quality']]\n",
    "\n",
    "X = varcharProcessing(X, varchar_process = \"dummy_dropfirst\")\n",
    "\n",
    "y = data_Python['price']"
   ]
  },
  {
   "cell_type": "code",
   "execution_count": null,
   "metadata": {},
   "outputs": [],
   "source": [
    "model_Py_sm = sm.OLS(y , X).fit()\n",
    "\n",
    "print(model_Py_sm.summary())"
   ]
  },
  {
   "cell_type": "markdown",
   "metadata": {},
   "source": []
  },
  {
   "cell_type": "markdown",
   "metadata": {},
   "source": [
    "The previous output gives us the estimation of the model coefficients\n",
    "(betas), both outputs give similar results (but we will consider the python output):\n",
    "\n",
    "<br>\n",
    "\n",
    "$\n",
    "\\hat{\\beta}_0 =  -6.207e+07  \\\\\n",
    "\\hat{\\beta}_{quality1} =1.4e+05\\\\\n",
    "\\hat{\\beta}_{quality2} = 3.406e+05 \\\\ \n",
    "\\hat{\\beta}_{quality3} = 2.788e+05 \\\\\n",
    "\\hat{\\beta}_{size\\_in\\_m\\_2} =3.566e+04 \\\\\n",
    "\\hat{\\beta}_{no\\_of\\_bedrooms} = -8.367e+05 \\\\\n",
    "\\hat{\\beta}_{no\\_of\\_bathrooms} = -5.712e+04 \\\\\n",
    "\\hat{\\beta}_{latitude}=6.115e+06 \\\\\n",
    "\\hat{\\beta}_{longitude}= -1.677e+06 \\\\\n",
    "$\n",
    "\n",
    "<br>\n",
    "\n",
    "So, the estimated model is:\n",
    "\n",
    "\n",
    "\\begin{gather*}\n",
    "\\widehat{price}_i =  -6.207e+07 +  3.566e+04 \\cdot size\\_in\\_m\\_2_i -8.367e+05 \\cdot no\\_of\\_bedrooms_i -5.712e+04 \\cdot no\\_of\\_bathrooms_i +\\\\ 1.4e+05 \\cdot quality1_i + 3.406e+05\\cdot quality2_i + 2.788e+05  \\cdot quality3_i  +6.115e+06\\cdot  latitude_i -1.677e+06   \\cdot longitude_i \n",
    "\\end{gather*}\n",
    "\n",
    "<br>\n",
    "\n",
    "**Observation:**\n",
    "\n",
    "The  categorical variable, *quality*, that has 4 categories (Low (0), Medium (1),\n",
    "High (2), Ultra (3)), enter in the model with 3 variables (quality1 ,\n",
    "quality2, quality3 ). The category. that is out of the model is Low (0) because is the firs category. \n",
    "\n",
    "This isn´t a particularity of this variable, but rather it´s a property of the categorical variables in the regression models.\n",
    "\n",
    "Later it will be seen how this affects model coefficients interpretation.  \n"
   ]
  },
  {
   "cell_type": "markdown",
   "metadata": {},
   "source": []
  },
  {
   "cell_type": "markdown",
   "metadata": {},
   "source": [
    "-----"
   ]
  },
  {
   "cell_type": "markdown",
   "metadata": {},
   "source": []
  },
  {
   "cell_type": "markdown",
   "metadata": {},
   "source": [
    "### Estimation of Linear Regression Model in `Python` with `scikit-learn` <a class=\"anchor\" id=\"18\"></a>\n"
   ]
  },
  {
   "cell_type": "code",
   "execution_count": null,
   "metadata": {},
   "outputs": [],
   "source": [
    "# pip install sklearn"
   ]
  },
  {
   "cell_type": "code",
   "execution_count": null,
   "metadata": {},
   "outputs": [],
   "source": [
    "import sklearn\n",
    "\n",
    "from sklearn.linear_model import LinearRegression\n",
    "\n",
    "from sklearn.model_selection import train_test_split"
   ]
  },
  {
   "cell_type": "markdown",
   "metadata": {},
   "source": [
    "\n",
    "We can use a training data-set to train the model in Python with the  `scikit-learn` module. \n",
    "\n",
    "This concepts will be seen with much more detail in a specific article about cross validation techniques.\n",
    "\n"
   ]
  },
  {
   "cell_type": "code",
   "execution_count": null,
   "metadata": {},
   "outputs": [],
   "source": [
    "X = data_Python[['size_in_m_2', 'longitude', 'latitude', 'no_of_bedrooms', 'no_of_bathrooms', 'quality']]\n",
    "y = data_Python['price']"
   ]
  },
  {
   "cell_type": "code",
   "execution_count": null,
   "metadata": {},
   "outputs": [],
   "source": [
    "X = varcharProcessing(X, varchar_process = \"dummy_dropfirst\")"
   ]
  },
  {
   "cell_type": "code",
   "execution_count": null,
   "metadata": {},
   "outputs": [],
   "source": [
    "X.head()"
   ]
  },
  {
   "cell_type": "markdown",
   "metadata": {},
   "source": []
  },
  {
   "cell_type": "markdown",
   "metadata": {},
   "source": [
    "We can fit a linear regression model with `sk-learn` :"
   ]
  },
  {
   "cell_type": "code",
   "execution_count": null,
   "metadata": {},
   "outputs": [],
   "source": [
    "from sklearn.linear_model import LinearRegression"
   ]
  },
  {
   "cell_type": "markdown",
   "metadata": {},
   "source": []
  },
  {
   "cell_type": "markdown",
   "metadata": {},
   "source": [
    "We can fit the model with the full data-set:"
   ]
  },
  {
   "cell_type": "code",
   "execution_count": null,
   "metadata": {},
   "outputs": [],
   "source": [
    " Model_Py_sklearn = LinearRegression().fit(X, y)"
   ]
  },
  {
   "cell_type": "markdown",
   "metadata": {},
   "source": []
  },
  {
   "cell_type": "markdown",
   "metadata": {},
   "source": [
    "We can compute the coefficients of the model:"
   ]
  },
  {
   "cell_type": "code",
   "execution_count": null,
   "metadata": {},
   "outputs": [],
   "source": [
    " Model_Py_sklearn.intercept_"
   ]
  },
  {
   "cell_type": "code",
   "execution_count": null,
   "metadata": {},
   "outputs": [],
   "source": [
    "Model_Py_sklearn.coef_"
   ]
  },
  {
   "cell_type": "markdown",
   "metadata": {},
   "source": [
    "Note that the order of the array values follows the order of $X$ columns."
   ]
  },
  {
   "cell_type": "markdown",
   "metadata": {},
   "source": []
  },
  {
   "cell_type": "markdown",
   "metadata": {},
   "source": [
    "-----"
   ]
  },
  {
   "cell_type": "markdown",
   "metadata": {},
   "source": []
  },
  {
   "cell_type": "markdown",
   "metadata": {},
   "source": [
    "### Precision of the estimation of beta coefficients <a class=\"anchor\" id=\"19\"></a>\n"
   ]
  },
  {
   "cell_type": "markdown",
   "metadata": {},
   "source": [
    "\n",
    "The precision of the estimations of model beta coefficients  is given by the\n",
    " variance of the beta coefficient estimators, that is, by $\\hspace{0.02cm}$  $Var(\\widehat{\\beta}_j)$\n"
   ]
  },
  {
   "cell_type": "markdown",
   "metadata": {},
   "source": [
    "\n",
    "It´s true that $\\hspace{0.07cm}$ \n",
    "$\\hat{\\beta_j} \\sim N(\\beta_j , \\sqrt{ \\sigma^2 \\cdot q_{jj} } )$ $\\hspace{0.07cm}$ then we have:\n"
   ]
  },
  {
   "cell_type": "markdown",
   "metadata": {},
   "source": [
    "\n",
    " $$Var(\\hat{\\beta_j})=\\sigma^2 \\cdot q_{jj}$$\n"
   ]
  },
  {
   "cell_type": "markdown",
   "metadata": {},
   "source": []
  },
  {
   "cell_type": "markdown",
   "metadata": {},
   "source": [
    "\n",
    "Therefore, the estimation of the variance of $\\hspace{0.05cm}$  $\\widehat{\\beta}_j$  $\\hspace{0.05cm}$  is : \n"
   ]
  },
  {
   "cell_type": "markdown",
   "metadata": {},
   "source": [
    "\n",
    "   $$\\widehat{Var}(\\widehat{\\beta}_j) = \\widehat{\\sigma}\\hspace{0.02cm}^2 \\cdot q_{jj}$$\n",
    " \n"
   ]
  },
  {
   "cell_type": "markdown",
   "metadata": {},
   "source": []
  },
  {
   "cell_type": "markdown",
   "metadata": {},
   "source": [
    "\n",
    "Where:\n"
   ]
  },
  {
   "cell_type": "markdown",
   "metadata": {},
   "source": [
    "\n",
    "$\\widehat{\\sigma}\\hspace{0.02cm}^2 \\hspace{0.05cm}$  is the estimation of the  error variance  , i.e, $\\hspace{0.06cm}$ $\\widehat{\\sigma}\\hspace{0.02cm}^2 = \\widehat{Var}(\\varepsilon_i)$\n",
    "\n",
    "\n",
    "$q_{jj}$ $\\hspace{0.05cm}$  is the element  $j+1$  of the principal diagonal of the matrix $\\hspace{0.05cm}$ $(X^t \\cdot X)^{-1}$  $\\hspace{0.05cm}$ , $\\forall j=0,1,...,p$\n"
   ]
  },
  {
   "cell_type": "markdown",
   "metadata": {},
   "source": []
  },
  {
   "cell_type": "markdown",
   "metadata": {},
   "source": [
    "\n",
    " ***¿ Why are the variance of the coefficient estimators important ?***\n",
    "\n",
    "\n",
    "The standard deviation of the coefficient estimators indicates how much\n",
    "the estimations of the coefficients deviate/vary, in mean, when the model is re-trained using many different samples.\n"
   ]
  },
  {
   "cell_type": "markdown",
   "metadata": {},
   "source": [
    "\n",
    "Suppose many samples are obtained, and with each of them a linear\n",
    "regression model is trained. Then, we get many estimations of the model\n",
    "coefficients, one with each sample.\n",
    "\n",
    "Then  $\\sqrt{\\widehat{Var}(\\hat{\\beta_j})}$  indicates how much\n",
    "$\\hat{\\beta_j}$ varies, in mean, from one sample to another.\n"
   ]
  },
  {
   "cell_type": "markdown",
   "metadata": {},
   "source": [
    "\n",
    "If the standard deviation is **high**, this indicates that will be obtained\n",
    "big differences when $\\beta_j$ is estimate with $\\hat{\\beta_j}$\n",
    "depending on the sample that is used for estimate it, that means\n",
    "estimator $\\hat{\\beta_j}$ is **imprecise**, because it will be much\n",
    "dispersion of the values of $\\hat{\\beta_j}$ respect to the mean.\n",
    "\n",
    "On the contrary, if the standard deviation is **low**, this indicates that\n",
    "will be obtained small differences when $\\beta_j$ is estimate with\n",
    "$\\hat{\\beta_j}$ depending on the sample that is used for estimate it,\n",
    "that means estimator $\\hat{\\beta_j}$ is **precise**, because it will be little\n",
    "dispersion of the values of $\\hat{\\beta_j}$ respect to the mean.\n",
    "\n"
   ]
  },
  {
   "cell_type": "markdown",
   "metadata": {},
   "source": [
    "Also $\\hspace{0.05cm}\\widehat{Var}(\\widehat{\\beta}_j)\\hspace{0.05cm}$ allow us to create a confidence interval for $\\hspace{0.05cm}\\widehat{\\beta}_j$"
   ]
  },
  {
   "cell_type": "markdown",
   "metadata": {},
   "source": []
  },
  {
   "cell_type": "markdown",
   "metadata": {},
   "source": [
    "---"
   ]
  },
  {
   "cell_type": "markdown",
   "metadata": {},
   "source": []
  },
  {
   "cell_type": "markdown",
   "metadata": {},
   "source": [
    "#### Estimation of the standard deviation of the beta coefficient estimators in `R` <a class=\"anchor\" id=\"20\"></a>\n"
   ]
  },
  {
   "cell_type": "code",
   "execution_count": null,
   "metadata": {},
   "outputs": [],
   "source": [
    "%%R \n",
    "\n",
    "summary(model_R)"
   ]
  },
  {
   "cell_type": "markdown",
   "metadata": {},
   "source": []
  },
  {
   "cell_type": "markdown",
   "metadata": {},
   "source": [
    "---"
   ]
  },
  {
   "cell_type": "markdown",
   "metadata": {},
   "source": []
  },
  {
   "cell_type": "markdown",
   "metadata": {},
   "source": [
    "### Estimation of the standard deviation of the coefficient estimators in `Python` <a class=\"anchor\" id=\"21\"></a>\n"
   ]
  },
  {
   "cell_type": "code",
   "execution_count": null,
   "metadata": {},
   "outputs": [],
   "source": [
    "print(model_Py_sm.summary())"
   ]
  },
  {
   "cell_type": "markdown",
   "metadata": {},
   "source": []
  },
  {
   "cell_type": "markdown",
   "metadata": {},
   "source": [
    "\n",
    "This output give us a lot of information about the model, some of this\n",
    "information has been seen (estimates coefficients), an other information\n",
    "will be seen later.\n",
    "\n",
    "Now we will focus in the part of the output where are the estimation of   coefficients estimators standard error (`std err` in Python , `Std.Error` in R).\n",
    "\n",
    "$\n",
    "\\sqrt{\\widehat{Var}(\\hat{\\beta_0})}=2.995e+07 \\\\\n",
    " \\sqrt{\\widehat{Var}(\\hat{\\beta}_{quality1})}=8.358e+04 \\\\\n",
    "\\sqrt{\\widehat{Var}(\\hat{\\beta}_{quality2})}=1.551e+05\\\\ \n",
    "\\sqrt{\\widehat{Var}(\\hat{\\beta}_{quality3})}= 1.976e+05 \\\\ \n",
    "\\sqrt{\\widehat{Var}(\\hat{\\beta}_{size\\_in\\_m\\_2})}= 7.238e+02 \\\\\n",
    "\\sqrt{\\widehat{Var}(\\hat{\\beta}_{no\\_of\\_bedrooms})}=8.282e+04 \\\\ \n",
    "\\sqrt{\\widehat{Var}(\\hat{\\beta}_{no\\_of\\_bathrooms})}=6.829e+04 \\\\  \n",
    "\\sqrt{\\widehat{Var}(\\hat{\\beta}_{latitude})}=7.809e+05\\\\ \n",
    "\\sqrt{\\widehat{Var}(\\hat{\\beta}_{longitude})}=6.908e+05\n",
    "$\n",
    "\n",
    "The standard deviation estimates of the coefficients estimators are, in\n",
    "general, so high. This implies if we train the model with another\n",
    "samples, we will get estimates of the coefficients quite different than\n",
    "the one obtained with our initial sample.\n",
    "\n",
    "And this is a big problem, because from one sample to another are\n",
    "obtained very different linear regression models, so that, very\n",
    "different results with each sample.\n",
    "\n"
   ]
  },
  {
   "cell_type": "markdown",
   "metadata": {},
   "source": []
  },
  {
   "cell_type": "markdown",
   "metadata": {},
   "source": [
    "----"
   ]
  },
  {
   "cell_type": "markdown",
   "metadata": {},
   "source": []
  },
  {
   "cell_type": "markdown",
   "metadata": {},
   "source": [
    "### Model Predictions in `R` <a class=\"anchor\" id=\"22\"></a>\n"
   ]
  },
  {
   "cell_type": "markdown",
   "metadata": {},
   "source": [
    "With the function `predict` we can get the predictions made by the model\n",
    "for the response variable $(y)$ in R, for the data-set with which the model has been trained and also for a new data-set that the model hasn't seen."
   ]
  },
  {
   "cell_type": "markdown",
   "metadata": {},
   "source": []
  },
  {
   "cell_type": "markdown",
   "metadata": {},
   "source": [
    "**Predictions with the train data:**"
   ]
  },
  {
   "cell_type": "code",
   "execution_count": null,
   "metadata": {},
   "outputs": [],
   "source": [
    "%%R\n",
    "\n",
    "predict(model_R)[1:20]"
   ]
  },
  {
   "cell_type": "markdown",
   "metadata": {},
   "source": []
  },
  {
   "cell_type": "markdown",
   "metadata": {},
   "source": [
    "**Predictions with new data:**"
   ]
  },
  {
   "cell_type": "code",
   "execution_count": null,
   "metadata": {},
   "outputs": [],
   "source": [
    "%%R\n",
    "size_in_m_2  <- c(100, 140,160,180,98,120,200)\n",
    "longitude  <- c(55.1,55.3,55.2,55.1,55.2,55.1,55.1)\n",
    "latitude <- c(25.1,25.2,25.1,25.1,25.3,25.1,25.2)\n",
    "no_of_bedrooms <- c(1,3,0,2,3,1,4)\n",
    "no_of_bathrooms <- c(1,3,2,2,1,2,2)\n",
    "quality <- c(1,0,2,2,3,2,1)\n",
    "\n",
    "new_data = cbind(size_in_m_2,longitude,latitude,no_of_bedrooms,no_of_bathrooms,quality)\n",
    "new_data = as.data.frame(new_data)\n",
    "\n",
    "new_data$quality = factor(new_data$quality)"
   ]
  },
  {
   "cell_type": "code",
   "execution_count": null,
   "metadata": {},
   "outputs": [],
   "source": [
    "%%R\n",
    "\n",
    "new_data"
   ]
  },
  {
   "cell_type": "code",
   "execution_count": null,
   "metadata": {},
   "outputs": [],
   "source": [
    "%%R\n",
    "\n",
    "predict(model_R, new_data)"
   ]
  },
  {
   "cell_type": "markdown",
   "metadata": {},
   "source": []
  },
  {
   "cell_type": "markdown",
   "metadata": {},
   "source": [
    "---"
   ]
  },
  {
   "cell_type": "markdown",
   "metadata": {},
   "source": []
  },
  {
   "cell_type": "markdown",
   "metadata": {},
   "source": [
    "### Model Predictions in `Python` with `Statsmodels` <a class=\"anchor\" id=\"23\"></a>\n"
   ]
  },
  {
   "cell_type": "markdown",
   "metadata": {},
   "source": [
    "With `smf` :"
   ]
  },
  {
   "cell_type": "code",
   "execution_count": null,
   "metadata": {},
   "outputs": [],
   "source": [
    "model_Py_smf = smf.ols(formula = 'price ~ size_in_m_2 + no_of_bedrooms + no_of_bathrooms + quality + latitude + longitude', \n",
    "                 data =data_Python).fit()"
   ]
  },
  {
   "cell_type": "markdown",
   "metadata": {},
   "source": []
  },
  {
   "cell_type": "markdown",
   "metadata": {},
   "source": [
    "Using the training data:"
   ]
  },
  {
   "cell_type": "code",
   "execution_count": null,
   "metadata": {},
   "outputs": [],
   "source": [
    " model_Py_smf.predict(data_Python)"
   ]
  },
  {
   "cell_type": "markdown",
   "metadata": {},
   "source": []
  },
  {
   "cell_type": "markdown",
   "metadata": {},
   "source": [
    "Using new data:"
   ]
  },
  {
   "cell_type": "code",
   "execution_count": null,
   "metadata": {},
   "outputs": [],
   "source": [
    "size_in_m_2  = pd.Series([100, 140,160,180,98,120,200]) \n",
    "longitude  = pd.Series([55.1,55.3,55.2,55.1,55.2,55.1,55.1]) \n",
    "latitude = pd.Series([25.1,25.2,25.1,25.1,25.3,25.1,25.2])\n",
    "no_of_bedrooms = pd.Series([1,3,0,2,3,1,4])\n",
    "no_of_bathrooms = pd.Series([1,3,2,2,1,2,2])\n",
    "quality = pd.Series([1,0,2,2,3,2,1])\n",
    "\n",
    "new_data = pd.DataFrame({'size_in_m_2':size_in_m_2, 'longitude':longitude , 'latitude':latitude, 'no_of_bedrooms':no_of_bedrooms , 'no_of_bathrooms':no_of_bathrooms , 'quality':quality }) \n",
    "\n",
    "new_data['quality'] = new_data['quality'].astype('category')"
   ]
  },
  {
   "cell_type": "code",
   "execution_count": null,
   "metadata": {},
   "outputs": [],
   "source": [
    "new_data.head()"
   ]
  },
  {
   "cell_type": "code",
   "execution_count": null,
   "metadata": {},
   "outputs": [],
   "source": [
    " model_Py_smf.predict(new_data)"
   ]
  },
  {
   "cell_type": "markdown",
   "metadata": {},
   "source": []
  },
  {
   "cell_type": "markdown",
   "metadata": {},
   "source": [
    "With `sm` :"
   ]
  },
  {
   "cell_type": "code",
   "execution_count": null,
   "metadata": {},
   "outputs": [],
   "source": [
    "model_Py_sm = sm.OLS(y , X).fit()"
   ]
  },
  {
   "cell_type": "markdown",
   "metadata": {},
   "source": [
    "Using the training data:"
   ]
  },
  {
   "cell_type": "code",
   "execution_count": null,
   "metadata": {},
   "outputs": [],
   "source": [
    " model_Py_sm.predict(X)"
   ]
  },
  {
   "cell_type": "markdown",
   "metadata": {},
   "source": []
  },
  {
   "cell_type": "markdown",
   "metadata": {},
   "source": [
    "Using new data : "
   ]
  },
  {
   "cell_type": "code",
   "execution_count": null,
   "metadata": {},
   "outputs": [],
   "source": [
    "intercept = 1\n",
    "size_in_m_2  = pd.Series([100, 140,160,180,98,120,200]) \n",
    "longitude  = pd.Series([55.1,55.3,55.2,55.1,55.2,55.1,55.1]) \n",
    "latitude = pd.Series([25.1,25.2,25.1,25.1,25.3,25.1,25.2])\n",
    "no_of_bedrooms = pd.Series([1,3,0,2,3,1,4])\n",
    "no_of_bathrooms = pd.Series([1,3,2,2,1,2,2])\n",
    "quality_1 = pd.Series([1,0,0,0,0,0,1])\n",
    "quality_2 = pd.Series([0,0,1,1,0,1,0])\n",
    "quality_3 = pd.Series([0,0,0,0,1,0,0])\n",
    "\n",
    "new_data = pd.DataFrame({'intercept':intercept , 'size_in_m_2':size_in_m_2, 'longitude':longitude , 'latitude':latitude, 'no_of_bedrooms':no_of_bedrooms , 'no_of_bathrooms':no_of_bathrooms , 'quality_1':quality_1, 'quality_2':quality_2, 'quality_3':quality_3 }) "
   ]
  },
  {
   "cell_type": "code",
   "execution_count": null,
   "metadata": {},
   "outputs": [],
   "source": [
    "new_data.head()"
   ]
  },
  {
   "cell_type": "code",
   "execution_count": null,
   "metadata": {},
   "outputs": [],
   "source": [
    " model_Py_sm.predict(new_data)"
   ]
  },
  {
   "cell_type": "markdown",
   "metadata": {},
   "source": []
  },
  {
   "cell_type": "markdown",
   "metadata": {},
   "source": [
    "---"
   ]
  },
  {
   "cell_type": "markdown",
   "metadata": {},
   "source": []
  },
  {
   "cell_type": "markdown",
   "metadata": {},
   "source": [
    "### Model Predictions in Python with `Sk-learn` <a class=\"anchor\" id=\"24\"></a>\n"
   ]
  },
  {
   "cell_type": "code",
   "execution_count": null,
   "metadata": {},
   "outputs": [],
   "source": [
    " Model_Py_sklearn = LinearRegression().fit(X, y)"
   ]
  },
  {
   "cell_type": "markdown",
   "metadata": {},
   "source": []
  },
  {
   "cell_type": "markdown",
   "metadata": {},
   "source": [
    "Using the training data:\n"
   ]
  },
  {
   "cell_type": "code",
   "execution_count": null,
   "metadata": {},
   "outputs": [],
   "source": [
    "Model_Py_sklearn.predict(X)"
   ]
  },
  {
   "cell_type": "markdown",
   "metadata": {},
   "source": []
  },
  {
   "cell_type": "markdown",
   "metadata": {},
   "source": [
    "Using new data:\n"
   ]
  },
  {
   "cell_type": "code",
   "execution_count": null,
   "metadata": {},
   "outputs": [],
   "source": [
    "intercept = 1\n",
    "size_in_m_2  = pd.Series([100, 140,160,180,98,120,200]) \n",
    "longitude  = pd.Series([55.1,55.3,55.2,55.1,55.2,55.1,55.1]) \n",
    "latitude = pd.Series([25.1,25.2,25.1,25.1,25.3,25.1,25.2])\n",
    "no_of_bedrooms = pd.Series([1,3,0,2,3,1,4])\n",
    "no_of_bathrooms = pd.Series([1,3,2,2,1,2,2])\n",
    "quality_1 = pd.Series([1,0,0,0,0,0,1])\n",
    "quality_2 = pd.Series([0,0,1,1,0,1,0])\n",
    "quality_3 = pd.Series([0,0,0,0,1,0,0])\n",
    "\n",
    "new_data = pd.DataFrame({'intercept':intercept , 'size_in_m_2':size_in_m_2, 'longitude':longitude , 'latitude':latitude, 'no_of_bedrooms':no_of_bedrooms , 'no_of_bathrooms':no_of_bathrooms , 'quality_1':quality_1, 'quality_2':quality_2, 'quality_3':quality_3 }) "
   ]
  },
  {
   "cell_type": "code",
   "execution_count": null,
   "metadata": {},
   "outputs": [],
   "source": [
    "new_data.head()"
   ]
  },
  {
   "cell_type": "code",
   "execution_count": null,
   "metadata": {},
   "outputs": [],
   "source": [
    "Model_Py_sklearn.predict(new_data)"
   ]
  },
  {
   "cell_type": "markdown",
   "metadata": {},
   "source": []
  },
  {
   "cell_type": "markdown",
   "metadata": {},
   "source": [
    "---"
   ]
  },
  {
   "cell_type": "markdown",
   "metadata": {},
   "source": []
  },
  {
   "cell_type": "markdown",
   "metadata": {},
   "source": [
    "### Estimation of model errors in `R` <a class=\"anchor\" id=\"25\"></a>\n"
   ]
  },
  {
   "cell_type": "markdown",
   "metadata": {},
   "source": [
    "\n",
    "We estimate the model errors as $\\hspace{0.1cm}$ $\\hat{\\varepsilon}_i= y_i - \\hat{y}_i$\n"
   ]
  },
  {
   "cell_type": "code",
   "execution_count": null,
   "metadata": {},
   "outputs": [],
   "source": [
    "%%R \n",
    "\n",
    "y = data_R$price\n",
    "\n",
    "( estimated_errors <- y - predict(model_R) )[1:30]"
   ]
  },
  {
   "cell_type": "markdown",
   "metadata": {},
   "source": [
    "\n",
    "We put in a data frame the values of response variable observed in the\n",
    "sample, the model predictions of the response, and the estimates of\n",
    "model errors:\n"
   ]
  },
  {
   "cell_type": "code",
   "execution_count": null,
   "metadata": {},
   "outputs": [],
   "source": [
    "%%R\n",
    "\n",
    "(df_predictions <- tibble(y=y , \n",
    "                         y_predictions=predict(model_R), \n",
    "                         estimated_errors))[1:15, ]"
   ]
  },
  {
   "cell_type": "markdown",
   "metadata": {},
   "source": []
  },
  {
   "cell_type": "markdown",
   "metadata": {},
   "source": [
    "---"
   ]
  },
  {
   "cell_type": "markdown",
   "metadata": {},
   "source": []
  },
  {
   "cell_type": "markdown",
   "metadata": {},
   "source": [
    "### Estimation of model errors in `Python` <a class=\"anchor\" id=\"26\"></a>\n"
   ]
  },
  {
   "cell_type": "code",
   "execution_count": null,
   "metadata": {},
   "outputs": [],
   "source": [
    "predictions = pd.DataFrame( {'predictions':  model_Py_sm.predict(X)} )"
   ]
  },
  {
   "cell_type": "code",
   "execution_count": null,
   "metadata": {},
   "outputs": [],
   "source": [
    "df_predictions_Python = pd.concat([y, predictions], axis=1)\n",
    "df_predictions_Python.head()"
   ]
  },
  {
   "cell_type": "code",
   "execution_count": null,
   "metadata": {},
   "outputs": [],
   "source": [
    "estimated_errors = y - model_Py_sm.predict(X)"
   ]
  },
  {
   "cell_type": "code",
   "execution_count": null,
   "metadata": {},
   "outputs": [],
   "source": [
    "df_predictions_Python['estimated_errors'] = estimated_errors \n",
    "\n",
    "df_predictions_Python.head()"
   ]
  },
  {
   "cell_type": "markdown",
   "metadata": {},
   "source": []
  },
  {
   "cell_type": "markdown",
   "metadata": {},
   "source": [
    "----"
   ]
  },
  {
   "cell_type": "markdown",
   "metadata": {},
   "source": []
  },
  {
   "cell_type": "markdown",
   "metadata": {},
   "source": [
    "### Estimation of the error variance (Residual  Variance) <a class=\"anchor\" id=\"27\"></a>\n"
   ]
  },
  {
   "cell_type": "markdown",
   "metadata": {},
   "source": [
    "\n",
    "\n",
    "The estimator of the error variance $\\hspace{0.1cm} Var(\\varepsilon_i)=\\sigma^2 \\hspace{0.1cm}$ is\n",
    "called **residual variance**, and is defined as:\n"
   ]
  },
  {
   "cell_type": "markdown",
   "metadata": {},
   "source": [
    "\n",
    "$$\n",
    " \\widehat{Var}(\\varepsilon_i) = \\widehat{\\sigma}^2 = S_R^2 \\hspace{0.1cm}=\\hspace{0.1cm} \\dfrac{1}{n-p-1} \\cdot \\sum_{i=1}^{n} \\hat{\\varepsilon}_i\\hspace{0.02cm}^2 \\hspace{0.1cm}=\\hspace{0.1cm}  \\dfrac{1}{n-p-1} \\cdot (Y^t \\cdot Y - \\hat{\\beta}^t \\cdot X^t \\cdot Y)\n",
    "$$\n"
   ]
  },
  {
   "cell_type": "markdown",
   "metadata": {},
   "source": [
    "\n",
    "The following is fulfilled:\n"
   ]
  },
  {
   "cell_type": "markdown",
   "metadata": {},
   "source": [
    "\n",
    "$$\n",
    "\\dfrac{n-p-1}{\\sigma^2} \\cdot \\widehat{\\sigma}^2 \\hspace{0.1cm} \\sim \\hspace{0.1cm} \\chi_{n-p-1}^2\n",
    "$$\n"
   ]
  },
  {
   "cell_type": "markdown",
   "metadata": {},
   "source": [
    "\n",
    "$$\n",
    "E[\\widehat{\\sigma}^2]=\\sigma^2 \n",
    "$$\n"
   ]
  },
  {
   "cell_type": "markdown",
   "metadata": {},
   "source": [
    "\n",
    "$$\n",
    "Var(\\widehat{\\sigma}^2)=\\dfrac{2 \\cdot \\sigma^4}{n-p-1}\n",
    "$$\n"
   ]
  },
  {
   "cell_type": "markdown",
   "metadata": {},
   "source": []
  },
  {
   "cell_type": "markdown",
   "metadata": {},
   "source": [
    "---"
   ]
  },
  {
   "cell_type": "markdown",
   "metadata": {},
   "source": []
  },
  {
   "cell_type": "markdown",
   "metadata": {},
   "source": [
    "\n",
    "### Estimation of the error variance in `R` <a class=\"anchor\" id=\"28\"></a>\n"
   ]
  },
  {
   "cell_type": "code",
   "execution_count": null,
   "metadata": {},
   "outputs": [],
   "source": [
    "%%R\n",
    "\n",
    "n<- length(estimated_errors)\n",
    "p<-6\n",
    "\n",
    "( estimated_variance_error <- sum(estimated_errors^2)/(n-p-1) )"
   ]
  },
  {
   "cell_type": "code",
   "execution_count": null,
   "metadata": {},
   "outputs": [],
   "source": [
    "%%R\n",
    "\n",
    "( estimated_standard_deviation_error <- sqrt(estimated_variance_error) )"
   ]
  },
  {
   "cell_type": "markdown",
   "metadata": {},
   "source": []
  },
  {
   "cell_type": "markdown",
   "metadata": {},
   "source": [
    "---"
   ]
  },
  {
   "cell_type": "markdown",
   "metadata": {},
   "source": []
  },
  {
   "cell_type": "markdown",
   "metadata": {},
   "source": [
    "### Estimation of the error variance in `Python` <a class=\"anchor\" id=\"29\"></a>\n"
   ]
  },
  {
   "cell_type": "code",
   "execution_count": null,
   "metadata": {},
   "outputs": [],
   "source": [
    "n = len(data_Python)\n",
    "p = 6"
   ]
  },
  {
   "cell_type": "code",
   "execution_count": null,
   "metadata": {},
   "outputs": [],
   "source": [
    "estimated_variance_error = sum(df_predictions_Python['estimated_errors']**2)/(n-p-1) \n",
    "\n",
    "estimated_variance_error"
   ]
  },
  {
   "cell_type": "code",
   "execution_count": null,
   "metadata": {},
   "outputs": [],
   "source": [
    "import math\n",
    "\n",
    "estimated_standard_deviation_error = math.sqrt(estimated_variance_error)\n",
    "estimated_standard_deviation_error"
   ]
  },
  {
   "cell_type": "markdown",
   "metadata": {},
   "source": []
  },
  {
   "cell_type": "markdown",
   "metadata": {},
   "source": [
    "---"
   ]
  },
  {
   "cell_type": "markdown",
   "metadata": {},
   "source": []
  },
  {
   "cell_type": "markdown",
   "metadata": {},
   "source": [
    "## Model Train Validation <a class=\"anchor\" id=\"30\"></a>\n",
    "\n",
    "\n",
    "We can compute some metric in order to measure how much distant are the\n",
    "predictions and observations of the response variable.\n",
    "\n",
    "Two of the most common metrics are the mean absolute deviation (MAD) and the mean square error (MSE):\n"
   ]
  },
  {
   "cell_type": "markdown",
   "metadata": {},
   "source": [
    "\n",
    "$$\n",
    "MAD \\hspace{0.1cm} = \\hspace{0.1cm}   \\dfrac{1}{n} \\sum_{i=1}^{n} \\mid \\hat{\\varepsilon}_i \\mid \\hspace{0.1cm} = \\hspace{0.1cm} \\dfrac{1}{n} \\sum_{i=1}^{n} \\hspace{0.1cm} \\mid y_i - \\hat{y}_i \\mid \\hspace{0.1cm} = \\hspace{0.1cm} \\dfrac{1}{n} \\sum_{i=1}^{n} \\hspace{0.1cm}\\mid   y_i - x_i \\cdot \\widehat{\\beta}  \\mid \n",
    "$$\n"
   ]
  },
  {
   "cell_type": "markdown",
   "metadata": {},
   "source": [
    "\n",
    "$$\n",
    "MSE \\hspace{0.1cm} = \\hspace{0.1cm} \\dfrac{1}{n} \\sum_{i=1}^{n} \\hat{\\varepsilon}_i^2 \\hspace{0.1cm} =\\hspace{0.1cm} \\dfrac{1}{n} \\sum_{i=1}^{n} \\hspace{0.1cm}(\\hspace{0.1cm} y_i - \\hat{y}_i \\hspace{0.1cm})^2 = \\dfrac{1}{n} \\sum_{i=1}^{n} \\hspace{0.1cm}(\\hspace{0.1cm} y_i - x_i \\cdot \\widehat{\\beta} \\hspace{0.1cm})^2\n",
    "$$ \n"
   ]
  },
  {
   "cell_type": "markdown",
   "metadata": {},
   "source": [
    "When these metrics are computing using the data for $y_i$ and $x_i$ that were used to train the model it is called  *model train validation*."
   ]
  },
  {
   "cell_type": "markdown",
   "metadata": {},
   "source": []
  },
  {
   "cell_type": "markdown",
   "metadata": {},
   "source": [
    "---"
   ]
  },
  {
   "cell_type": "markdown",
   "metadata": {},
   "source": []
  },
  {
   "cell_type": "markdown",
   "metadata": {},
   "source": [
    "\n",
    "### Model Train Validation in `R` <a class=\"anchor\" id=\"31\"></a>\n"
   ]
  },
  {
   "cell_type": "code",
   "execution_count": null,
   "metadata": {},
   "outputs": [],
   "source": [
    "%%R\n",
    "\n",
    "( MAD <- mean(abs((estimated_errors))) ) "
   ]
  },
  {
   "cell_type": "code",
   "execution_count": null,
   "metadata": {},
   "outputs": [],
   "source": [
    "%%R\n",
    "\n",
    "( MSE <- mean((estimated_errors)^2) ) "
   ]
  },
  {
   "cell_type": "markdown",
   "metadata": {},
   "source": []
  },
  {
   "cell_type": "markdown",
   "metadata": {},
   "source": [
    "---"
   ]
  },
  {
   "cell_type": "markdown",
   "metadata": {},
   "source": []
  },
  {
   "cell_type": "markdown",
   "metadata": {},
   "source": [
    "### Model Train Validation in `Python`  <a class=\"anchor\" id=\"32\"></a>"
   ]
  },
  {
   "cell_type": "code",
   "execution_count": null,
   "metadata": {},
   "outputs": [],
   "source": [
    "MAD_Py = ( (y - model_Py_sm.predict(X)).abs() ).mean()\n",
    "MAD_Py"
   ]
  },
  {
   "cell_type": "code",
   "execution_count": null,
   "metadata": {},
   "outputs": [],
   "source": [
    "MSE_Py = ( (y - model_Py_sm.predict(X))**2 ).mean()\n",
    "MSE_Py"
   ]
  },
  {
   "cell_type": "markdown",
   "metadata": {},
   "source": []
  },
  {
   "cell_type": "markdown",
   "metadata": {},
   "source": [
    "\n",
    "In mean, the predictions that the model made of the response variable\n",
    "deviates from the observations, in absolute value, in 938065 units.\n",
    "\n",
    "This is an estimation of model error, but training error, because we\n",
    "have used the predictions of the response variables made by the model\n",
    "using the observations with which it has been trained.\n",
    "\n",
    "There is a more interesting model error, called test error, that is\n",
    "computed with predictors observations which haven´t been used to train\n",
    "the model.\n",
    "\n",
    "In this article, we will not go deeper unto that, but this concepts will\n",
    "be more developed in another article about validation techniques.\n",
    "\n",
    "\n"
   ]
  },
  {
   "cell_type": "markdown",
   "metadata": {},
   "source": []
  },
  {
   "cell_type": "markdown",
   "metadata": {},
   "source": [
    "---"
   ]
  },
  {
   "cell_type": "markdown",
   "metadata": {},
   "source": []
  },
  {
   "cell_type": "markdown",
   "metadata": {},
   "source": [
    "## Model Coefficients Interpretation <a class=\"anchor\" id=\"33\"></a>"
   ]
  },
  {
   "cell_type": "markdown",
   "metadata": {},
   "source": []
  },
  {
   "cell_type": "markdown",
   "metadata": {},
   "source": [
    "\n",
    "### Null Coefficient <a class=\"anchor\" id=\"34\"></a>\n",
    "\n",
    "\n",
    "We have the following estimated linear regression model \n",
    "\n",
    "  $$\\hat{y}= \\hat{\\beta_0} + \\hat{\\beta_0}\\cdot x_{i1} + ...+ \\hat{\\beta_p}\\cdot x_{ip}$$\n"
   ]
  },
  {
   "cell_type": "markdown",
   "metadata": {},
   "source": [
    "\n",
    "- $\\hat{\\beta}_0$ $\\hspace{0.05cm}$ is the model estimated value for the response variable, i.e $\\hspace{0.05cm}$  $\\hat{y}_i$ $\\hspace{0.05cm}$\n",
    ", when $\\hspace{0.05cm}$ $x_{ij}=0$ $\\hspace{0.05cm}$ , $\\forall j=1,2,...,p$\n",
    "\n"
   ]
  },
  {
   "cell_type": "markdown",
   "metadata": {},
   "source": []
  },
  {
   "cell_type": "markdown",
   "metadata": {},
   "source": []
  },
  {
   "cell_type": "markdown",
   "metadata": {},
   "source": [
    "\n",
    "###  Quantitative Predictor Coefficient <a class=\"anchor\" id=\"35\"></a>\n"
   ]
  },
  {
   "cell_type": "markdown",
   "metadata": {},
   "source": [
    "\n",
    "Let $X_k$ a **quantitative** variable, and $\\hspace{0.05cm}$ $h>0$,\n",
    "\n",
    "We have the following estimated linear regression model  \n",
    "\n",
    "$$\\hat{y}_i= \\hat{\\beta_0} + \\hat{\\beta_0}\\cdot x_{i1} + .. + \\hat{\\beta_k}\\cdot x_{ik} + ..+ \\hat{\\beta_p}\\cdot x_{ip}$$\n",
    "\n"
   ]
  },
  {
   "cell_type": "markdown",
   "metadata": {},
   "source": [
    "\n",
    "-   If $\\hat{\\beta}_k > 0$  , then\n",
    "\n",
    "    -   If  $x_{ik}$  **increases** in $h$ units $\\hspace{0.05cm}$  $\\Rightarrow$  $\\hspace{0.05cm}$ $\\hat{y}_i$\n",
    "        **increases** in $\\hspace{0.05cm}$ $\\hat{\\beta}_k \\cdot h$  $\\hspace{0.05cm}$ units.\n",
    "        \n",
    "        And the opposite if it decreases.\n",
    "        \n",
    "   \n",
    "-   If  $\\hat{\\beta}_k < 0$  , then\n",
    "\n",
    "    -  If $x_{ik}$ **increases** in $h$ units $\\hspace{0.05cm}$ $\\Rightarrow$ $\\hspace{0.05cm}$  $\\hat{y}_i$\n",
    "        **decreases** in $\\hspace{0.05cm}$ $\\hat{\\beta}_k \\cdot h$ $\\hspace{0.05cm}$ units. \n",
    "\n",
    "        And the opposite if it decreases.\n",
    "\n",
    "\n",
    "-   If  $\\hat{\\beta}_k = 0$  , then\n",
    "\n",
    "    -   $\\hat{y}_i$ $\\hspace{0.05cm}$ doesn´t depend on $\\hspace{0.05cm}$  $x_{ik}$\n",
    "\n",
    "\n",
    "**Observation:**\n",
    "\n",
    "\n",
    "The above affirmations are based in the following:\n",
    "\n",
    "- $(\\hat{y}_i \\hspace{0.05cm} | \\hspace{0.05cm} x_{ik}=c+h ) - (\\hat{y}_i  \\hspace{0.05cm} | \\hspace{0.05cm}  x_{ik}=c ) =  \\hat{\\beta_k}\\cdot h$"
   ]
  },
  {
   "cell_type": "markdown",
   "metadata": {},
   "source": []
  },
  {
   "cell_type": "markdown",
   "metadata": {},
   "source": []
  },
  {
   "cell_type": "markdown",
   "metadata": {},
   "source": [
    "\n",
    "### Categorical Predictor Coefficient <a class=\"anchor\" id=\"36\"></a>"
   ]
  },
  {
   "cell_type": "markdown",
   "metadata": {},
   "source": []
  },
  {
   "cell_type": "markdown",
   "metadata": {},
   "source": [
    "\n",
    "#### Categorical Predictors with 2 categories\n"
   ]
  },
  {
   "cell_type": "markdown",
   "metadata": {},
   "source": [
    "\n",
    "Let $X_k$ a categorical variable with 2 categories \n",
    "$\\lbrace 0 , 1 \\rbrace$,\n",
    "\n",
    "If the reference category is  $0$  , then  $X_k$ enter in the model as the binary (0,1) variable $X_{k1}$ defined as:\n",
    "\n",
    "$$\n",
    "x_{i k1}=1  \\hspace{0.05cm} \\Leftrightarrow \\hspace{0.05cm}  x_{i k}=1 \n",
    " $$\n",
    "\n",
    "<br>\n",
    "\n",
    "In addition, we define the variable $X_{k0}$ as:\n",
    "\n",
    "$$\n",
    "x_{i k0}=1  \\hspace{0.05cm} \\Leftrightarrow \\hspace{0.05cm}  x_{i k}=0 \n",
    "$$\n",
    "\n",
    "<br>\n",
    "\n",
    "We have the following estimated linear regression model:\n",
    "\n",
    "$$\\hat{y}_i= \\hat{\\beta_0} + \\hat{\\beta_0}\\cdot x_{i1} + .. + \\hat{\\beta}_{k1} \\cdot x_{ik1} + ..+ \\hat{\\beta_p}\\cdot x_{ip}$$\n",
    "\n",
    "<br>\n",
    "\n",
    "-   If $\\hat{\\beta}_{k1} > 0$ , then\n",
    "\n",
    "\n",
    "\n",
    "    -   $\\hat{y}_i$ $\\hspace{0.05cm}$ is $\\hspace{0.05cm}$ $\\hat{\\beta}_{k1}$ $\\hspace{0.05cm}$ units greater if  $\\hspace{0.05cm}$ $x_{ik}=1$ $\\hspace{0.05cm}$ than if $\\hspace{0.05cm}$ $x_{ik}= 0$\n",
    "\n",
    "<br>\n",
    "\n",
    "-   If $\\hat{\\beta}_{k1} < 0$ , then\n",
    "\n",
    "    -   $\\hat{y}_i$ $\\hspace{0.05cm}$ is $\\hspace{0.05cm}$ $\\hat{\\beta}_{k1}$ $\\hspace{0.05cm}$ units less if $\\hspace{0.05cm}$  $x_{ik}= 1$ $\\hspace{0.05cm}$ than if $\\hspace{0.05cm}$ $x_{ik}=0$\n",
    "\n"
   ]
  },
  {
   "cell_type": "markdown",
   "metadata": {},
   "source": [
    "**Observation:**\n",
    "\n",
    "\n",
    "The above affirmations are based in the following:\n",
    "\n",
    "- $(\\hat{y}_i \\hspace{0.05cm} | \\hspace{0.05cm} x_{ik1}=1 ) - (\\hat{y}_i  \\hspace{0.05cm} | \\hspace{0.05cm}  x_{ik1}=0 ) =  \\hat{\\beta}_{k1}$"
   ]
  },
  {
   "cell_type": "markdown",
   "metadata": {},
   "source": []
  },
  {
   "cell_type": "markdown",
   "metadata": {},
   "source": []
  },
  {
   "cell_type": "markdown",
   "metadata": {},
   "source": [
    "\n",
    "#### Categorical Predictors with 3 categories:\n"
   ]
  },
  {
   "cell_type": "markdown",
   "metadata": {},
   "source": [
    "\n",
    "Let $X_k$ a categorical variable with 3 categories\n",
    "$\\lbrace 0 , 1, 2 \\rbrace$,\n",
    "\n",
    "If the reference category is $0$, then $X_k$ enter in the model with\n",
    "two binary $\\lbrace 0,1\\rbrace$ variables $X_{k1}$ y $X_{k2}$ defined as:\n",
    "\n",
    "\\begin{gather*}\n",
    "x_{i k1}=1   \\Leftrightarrow   x_{i k}=1 \\\\\n",
    "x_{i k2}=1  \\Leftrightarrow     x_{i k}=2 \n",
    "\\end{gather*}\n",
    "\n",
    "<br>\n",
    "\n",
    "In addition, we define the variable $X_{k0}$ as:\n",
    "\n",
    "$$\n",
    "x_{i k0}=1  \\hspace{0.05cm} \\Leftrightarrow \\hspace{0.05cm}  x_{i k}=0 \n",
    "$$\n",
    "\n",
    "<br>\n",
    "\n",
    "We have the following estimated linear regression model:\n",
    "\n",
    "$$\\hat{y}= \\hat{\\beta_0} + \\hat{\\beta_0}\\cdot x_{i1} + .. + \\hat{\\beta}_{k1} \\cdot x_{ik1} + \\hat{\\beta}_{k2} \\cdot x_{ik2} + ..+ \\hat{\\beta_p}\\cdot x_{ip}$$\n",
    "\n",
    "<br>\n",
    "\n",
    "-   If  $\\hat{\\beta}_{k1} > 0$  , then\n",
    "\n",
    "    -  $\\hat{y}_i$ $\\hspace{0.05cm}$  is $\\hspace{0.05cm}$ $\\hat{\\beta}_{k1}$ $\\hspace{0.05cm}$ units **greater** if $\\hspace{0.05cm}$ $x_{ik}= 1$ $\\hspace{0.05cm}$  than if  $\\hspace{0.05cm}$ $x_{ik}= 0$\n",
    "\n",
    "<br>\n",
    "\n",
    "-   If  $\\hat{\\beta}_{k1} < 0$  , then\n",
    "\n",
    "    -   $\\hat{y}_i$ $\\hspace{0.05cm}$ is $\\hspace{0.05cm}$ $\\hat{\\beta}_{k1}$ $\\hspace{0.05cm}$ units **less** if $\\hspace{0.05cm}$  $x_{ik}= 1$ $\\hspace{0.05cm}$ than if $\\hspace{0.05cm}$ $x_{ik}= 0$\n",
    "\n",
    "<br>\n",
    "\n",
    "-   If $\\hat{\\beta}_{k2} > 0$ , then\n",
    "\n",
    "    -   $\\hat{y}_i$ $\\hspace{0.05cm}$  is $\\hspace{0.05cm}$ $\\hat{\\beta}_{k2}$ $\\hspace{0.05cm}$ units **greater** if $\\hspace{0.05cm}$  $x_{ik}= 1$  $\\hspace{0.05cm}$ than if $\\hspace{0.05cm}$ $x_{ik}= 0$\n",
    "\n",
    "<br>\n",
    "\n",
    "-   If $\\hat{\\beta}_{k2} < 0$  , then \n",
    "\n",
    "    -  $\\hat{y}_i$ $\\hspace{0.05cm}$ is $\\hspace{0.05cm}$ $\\hat{\\beta}_{k2}$ $\\hspace{0.05cm}$ units **less** if  $\\hspace{0.05cm}$ $x_{ik}= 1$ $\\hspace{0.05cm}$ than if $\\hspace{0.05cm}$ $x_{ik}= 0$\n",
    "\n",
    "<br>\n",
    "\n",
    "-   If  $\\hat{\\beta}_{k2} - \\hat{\\beta}_{k1} > 0$ , then\n",
    "\n",
    "    -   $\\hat{y}_i$ $\\hspace{0.05cm}$ is $\\hspace{0.05cm}$ $\\hat{\\beta}_{k2} - \\hat{\\beta}_{k1}$  $\\hspace{0.05cm}$ units  **greater** if $\\hspace{0.05cm}$ $x_{ik}= 2$ $\\hspace{0.05cm}$ than if $\\hspace{0.05cm}$ $x_{ik}= 1$\n",
    "\n",
    "<br>\n",
    "\n",
    "-   If  $\\hat{\\beta}_{k2} - \\hat{\\beta}_{k1} < 0$  , then\n",
    "\n",
    "    -   $\\hat{y}_i$ $\\hspace{0.05cm}$ is $\\hspace{0.05cm}$ $\\hat{\\beta}_{k2} - \\hat{\\beta}_{k1}$ $\\hspace{0.05cm}$ units\n",
    "        **less** if $\\hspace{0.05cm}$ $x_{ik}= 2$ $\\hspace{0.05cm}$ than if $\\hspace{0.05cm}$ $x_{ik}= 1$\n",
    "\n",
    "<br>\n",
    "\n",
    "Note that the above is easily extrapolated to the case in which we have a\n",
    "categorical predictor with $r$ categories, for $r>3$.\n"
   ]
  },
  {
   "cell_type": "markdown",
   "metadata": {},
   "source": [
    "**Observation:**\n",
    "\n",
    "\n",
    "The above affirmations are based in the following:\n",
    "\n",
    "- $(\\hat{y}_i \\hspace{0.05cm} | \\hspace{0.05cm} x_{ik1}=1 ) - (\\hat{y}_i  \\hspace{0.05cm} | \\hspace{0.05cm}  x_{ik0}=1 ) =  \\hat{\\beta}_{k1}$\n",
    "\n",
    "- $(\\hat{y}_i \\hspace{0.05cm} | \\hspace{0.05cm} x_{ik2}=1 ) - (\\hat{y}_i  \\hspace{0.05cm} | \\hspace{0.05cm}  x_{ik0}=1 ) =  \\hat{\\beta}_{k2}$\n",
    "  \n",
    "- $(\\hat{y}_i \\hspace{0.05cm} | \\hspace{0.05cm} x_{ik2}=1 ) - (\\hat{y}_i  \\hspace{0.05cm} | \\hspace{0.05cm}  x_{ik1}=1 ) =  \\hat{\\beta}_{k2} - \\hat{\\beta}_{k1} $"
   ]
  },
  {
   "cell_type": "markdown",
   "metadata": {},
   "source": []
  },
  {
   "cell_type": "markdown",
   "metadata": {},
   "source": [
    "Note that this can easily be extrapolated to the case of  an $r$-ary categorical variable  with $r > 3$"
   ]
  },
  {
   "cell_type": "markdown",
   "metadata": {},
   "source": []
  },
  {
   "cell_type": "markdown",
   "metadata": {},
   "source": [
    "----"
   ]
  },
  {
   "cell_type": "markdown",
   "metadata": {},
   "source": []
  },
  {
   "cell_type": "markdown",
   "metadata": {},
   "source": [
    "\n",
    "### Example of coefficient interpretation <a class=\"anchor\" id=\"37\"></a>\n",
    "\n",
    "We had obtained the following estimated model:\n",
    "\n",
    "\n",
    "\\begin{gather*}\n",
    "\\widehat{price}_i =  -6.207e+07 +  3.566e+04 \\cdot size\\_in\\_m\\_2_i -8.367e+05 \\cdot no\\_of\\_bedrooms_i -5.712e+04 \\cdot no\\_of\\_bathrooms_i + \\\\ 1.4e+05 \\cdot quality1_i + 3.406e+05\\cdot quality2_i + 2.788e+05  \\cdot quality3_i  +6.115e+06\\cdot  latitude_i -1.677e+06   \\cdot longitude_i \n",
    "\\end{gather*}\n",
    "\n"
   ]
  },
  {
   "cell_type": "markdown",
   "metadata": {},
   "source": [
    "The interpretation of the estimated model coefficients is the following:\n",
    "\n",
    "<br>\n",
    "\n",
    "-   $\\hat{\\beta}_0 = -6.207e+07$   is the estimated  $price$  by the model for the  houses with $size\\_in\\_m\\_2_i =0$  ,  $no\\_of\\_bedrooms_i =0$  ,  $no\\_of\\_bathrooms_i =0$  ,   $qualityLow_i=0$ ,   $qualityMedium_i=0$  ,  $qualityUltra_i=0$  ,  $latitude_i=longitude_i=0$\n",
    "\n",
    "\n",
    "-   $\\hat{\\beta}_{size\\_in\\_m\\_2} =3.566e+04$   $\\Rightarrow$   if\n",
    "    $size\\_in\\_m\\_2_i$ increases in $h$ units, the estimated housing\n",
    "    $price$ **increases** in  $h\\cdot 3.566e+04$  units.\n",
    "\n",
    "\n",
    "-   $\\hat{\\beta}_{no\\_of\\_bedrooms} = -8.367e+05$   $\\Rightarrow$   if\n",
    "    $no\\_of\\_bedrooms_i$ increases in  $h$  units, the estimated housing\n",
    "    $price$ **decreases** in  $-h\\cdot 8.367e+05$  units.\n",
    "\n",
    "\n",
    "-   $\\hat{\\beta}_{no\\_of\\_bathrooms} = -5.712e+04$   $\\Rightarrow$   if\n",
    "    $no\\_of\\_bathrooms_i$ increases in  $h$  units, the estimated housing\n",
    "    $price$ **decreases** in  $-h\\cdot 5.712e+04$  units.\n",
    "\n",
    "\n",
    "-   $\\hat{\\beta}_{quality1} = 1.4e+05$   $\\Rightarrow$    the estimated\n",
    "    $price$ of houses with medium quality  $(quality1_i=1)$  is  $1.4e+05$   units **greater** than the estimated price of houses with low quality\n",
    "    $(quality0_i=1)$ , because low quality is the reference category  of $quality$ variable.\n",
    "\n",
    "\n",
    "-   $\\hat{\\beta}_{quality2} = 3.406e+05$  $\\Rightarrow$    the\n",
    "    estimated $price$ of houses with medium quality \n",
    "    $(quality2_i=1)$  is  $3.406e+05$ units **greater** than the estimated\n",
    "    price of houses with high quality  $(quality0_i=1)$  \n",
    "\n",
    "\n",
    "-   $\\hat{\\beta}_{quality3} = 2.788e+05$   $\\Rightarrow$     the estimated\n",
    "    $price$ of houses with ultra quality  $(quality1_i=1)$   is\n",
    "  $2.788e+05$  units **greater** than the estimated price of houses with low quality  $(quality0_i=1)$ \n",
    "\n",
    "\n",
    "-   $\\hat{\\beta}_{quality2} - \\hat{\\beta}_{quality1} = 3.406e+05  - 1.4e+05 =2.006e+05$     $\\Rightarrow$   the estimated price of houses  with high quality  $(quality2_i=1)$   is  $2.006e+05$ units **greater**   than the estimated price of houses with medium quality  $(quality1_i=1)$ \n",
    "\n",
    "-  $\\hat{\\beta}_{quality3} - \\hat{\\beta}_{quality2} = 2.788e+05   - 3.406e+05 =-61800$     $\\Rightarrow$  the estimated price of houses  with ultra quality  $(quality3_i=1)$   is  $61800$ units **less**   than the estimated price of houses with high quality  $(quality2_i=1)$ \n",
    "\n",
    "<br>\n",
    "\n",
    "Note that in all these cases it is assumed that the rest of the model variables don´t vary (have the same values) from one scenario to another."
   ]
  },
  {
   "cell_type": "markdown",
   "metadata": {},
   "source": []
  },
  {
   "cell_type": "markdown",
   "metadata": {},
   "source": [
    "----"
   ]
  },
  {
   "cell_type": "markdown",
   "metadata": {},
   "source": []
  },
  {
   "cell_type": "markdown",
   "metadata": {},
   "source": [
    "### Interaction  Coefficient <a class=\"anchor\" id=\"38\"></a>"
   ]
  },
  {
   "cell_type": "markdown",
   "metadata": {},
   "source": []
  },
  {
   "cell_type": "markdown",
   "metadata": {},
   "source": [
    "#### Interaction  between binary and quantitative variables"
   ]
  },
  {
   "cell_type": "markdown",
   "metadata": {},
   "source": [
    "Let $X_k$ a quantitative variable, and $X_r$ a **binary** $\\lbrace 0, 1\\rbrace$ categorical variable."
   ]
  },
  {
   "cell_type": "markdown",
   "metadata": {},
   "source": [
    "If the reference category is  $0$  , then  $X_r$ enter in the model as the binary $\\lbrace 0, 1\\rbrace$ variable $X_{r1}$ defined as:\n",
    "\n",
    "$$\n",
    "x_{i r1}=1  \\hspace{0.05cm} \\Leftrightarrow \\hspace{0.05cm}  x_{i r}=1\n",
    "$$\n"
   ]
  },
  {
   "cell_type": "markdown",
   "metadata": {},
   "source": [
    "\n",
    "In addition, we define the variable $X_{r0}$ as:\n",
    "\n",
    "$$\n",
    "x_{i r0}=1  \\hspace{0.05cm} \\Leftrightarrow \\hspace{0.05cm}  x_{i r}=0 \n",
    "$$"
   ]
  },
  {
   "cell_type": "markdown",
   "metadata": {},
   "source": [
    "We have the following estimated linear regression model  \n",
    "\n",
    "$$\\hat{y}_i= \\hat{\\beta_0} + \\hat{\\beta_0}\\cdot x_{i1} + ... + \\hat{\\beta_p}\\cdot x_{ip} + \\hat{\\beta}_{r}\\cdot x_{ir} + \\hat{\\beta}_{k}\\cdot x_{ik} + \\hat{\\beta}_{rk}\\cdot x_{ir}\\cdot x_{ik}  $$"
   ]
  },
  {
   "cell_type": "markdown",
   "metadata": {},
   "source": [
    "-   If  $\\hspace{0.05cm} \\hat{\\beta}_{r1} + \\hat{\\beta}_{r1}\\cdot x_{ki} \\hspace{0.05cm} > \\hspace{0.05cm} 0$  , then\n",
    "\n",
    "    -  $\\hat{y}_i$ $\\hspace{0.05cm}$  is $\\hspace{0.05cm}$ $\\hspace{0.05cm} \\hat{\\beta}_{r1} + \\hat{\\beta}_{r1}\\cdot x_{ki} \\hspace{0.05cm}$ $\\hspace{0.05cm}$ units **greater** if $\\hspace{0.05cm}$ $x_{ir}= 1$ $\\hspace{0.05cm}$  than if  $\\hspace{0.05cm}$ $x_{ir}= 0$\n",
    "\n",
    "<br>\n",
    "\n",
    "-   If  $\\hspace{0.05cm} \\hat{\\beta}_{r1} + \\hat{\\beta}_{r1}\\cdot x_{ki} \\hspace{0.05cm} < \\hspace{0.05cm} 0$  , then\n",
    "\n",
    "    -  $\\hat{y}_i$ $\\hspace{0.05cm}$  is $\\hspace{0.05cm}$ $\\hspace{0.05cm} \\hat{\\beta}_{r1} + \\hat{\\beta}_{r1}\\cdot x_{ki} \\hspace{0.05cm}$ $\\hspace{0.05cm}$ units **less** if $\\hspace{0.05cm}$ $x_{ir}= 1$ $\\hspace{0.05cm}$  than if  $\\hspace{0.05cm}$ $x_{ir}= 0$"
   ]
  },
  {
   "cell_type": "markdown",
   "metadata": {},
   "source": [
    "Note these magnitudes depend on $x_{ik}$ value, because we have set an interaction between $X_k$ and $X_r$ in the model."
   ]
  },
  {
   "cell_type": "markdown",
   "metadata": {},
   "source": [
    "**Observation:**\n",
    "\n",
    "The above affirmations are based in the following:\n",
    "\n",
    "$(\\hat{y}_i \\hspace{0.05cm} | \\hspace{0.05cm} x_{ir1}=1 ) - (\\hat{y}_i  \\hspace{0.05cm} | \\hspace{0.05cm}  x_{ir0}=1 ) =  \\hat{\\beta}_{r1} + \\hat{\\beta}_{r1k}\\cdot x_{ik}$"
   ]
  },
  {
   "cell_type": "markdown",
   "metadata": {},
   "source": []
  },
  {
   "cell_type": "markdown",
   "metadata": {},
   "source": []
  },
  {
   "cell_type": "markdown",
   "metadata": {},
   "source": [
    "#### Interaction  between ternary and quantitative variables"
   ]
  },
  {
   "cell_type": "markdown",
   "metadata": {},
   "source": [
    "Let $X_k$ a quantitative variable, and $X_r$ a **ternary** $\\lbrace 0, 1, 2 \\rbrace$ categorical variable.\n",
    "\n",
    "<br>\n",
    "\n",
    "If the reference category is  $0$  , then  $X_r$ enter in the model with\n",
    "two binary $\\lbrace 0,1\\rbrace$ variables $X_{r1}$ y $X_{r2}$ defined as:\n",
    "\n",
    "\\begin{gather*}\n",
    "x_{i r1}=1   \\Leftrightarrow   x_{i r}=1 \\\\\n",
    "x_{i r2}=1  \\Leftrightarrow     x_{i r}=2 \n",
    "\\end{gather*}\n",
    "\n",
    "<br>\n",
    "\n",
    "In addition, we define the variable $X_{r0}$ as:\n",
    "\n",
    "$$\n",
    "x_{i r0}=1  \\hspace{0.05cm} \\Leftrightarrow \\hspace{0.05cm}  x_{i r}=0 \n",
    "$$\n",
    "\n",
    "<br>\n",
    " \n",
    "We have the following estimated linear regression model  \n",
    "\n",
    "$$\\hat{y}_i= \\hat{\\beta_0} + \\hat{\\beta_0}\\cdot x_{i1} + ... + \\hat{\\beta_p}\\cdot x_{ip}  + \\hat{\\beta}_{k}\\cdot x_{ik} + \\hat{\\beta}_{r1}\\cdot x_{ir1} + \\hat{\\beta}_{r2}\\cdot x_{ir2} + \\hat{\\beta}_{r1k}\\cdot x_{ir1}\\cdot x_{ik} + \\hat{\\beta}_{r2 k}\\cdot x_{ir2}\\cdot x_{ik} $$\n",
    "\n",
    "<br>\n",
    "\n",
    "-   If  $\\hspace{0.05cm} \\hat{\\beta}_{r1} + \\hat{\\beta}_{r1}\\cdot x_{ki} \\hspace{0.05cm} > \\hspace{0.05cm} 0$  , then\n",
    "\n",
    "    -  $\\hat{y}_i$ $\\hspace{0.05cm}$  is $\\hspace{0.05cm}$ $\\hspace{0.05cm} \\hat{\\beta}_{r1} + \\hat{\\beta}_{r1}\\cdot x_{ki} \\hspace{0.05cm}$ $\\hspace{0.05cm}$ units **greater** if $\\hspace{0.05cm}$ $x_{ir}= 1$ $\\hspace{0.05cm}$  than if  $\\hspace{0.05cm}$ $x_{ir}= 0$\n",
    "\n",
    "<br>\n",
    "\n",
    "-   If  $\\hspace{0.05cm} \\hat{\\beta}_{r1} + \\hat{\\beta}_{r1}\\cdot x_{ki} \\hspace{0.05cm} < \\hspace{0.05cm} 0$  , then\n",
    "\n",
    "    -  $\\hat{y}_i$ $\\hspace{0.05cm}$  is $\\hspace{0.05cm}$ $\\hspace{0.05cm} \\hat{\\beta}_{r1} + \\hat{\\beta}_{r1}\\cdot x_{ki} \\hspace{0.05cm}$ $\\hspace{0.05cm}$ units **less** if $\\hspace{0.05cm}$ $x_{ir}= 1$ $\\hspace{0.05cm}$  than if  $\\hspace{0.05cm}$ $x_{ir}= 0$\n",
    "\n",
    "<br>\n",
    "\n",
    "-   If  $\\hspace{0.05cm} \\hat{\\beta}_{r2} + \\hat{\\beta}_{r2}\\cdot x_{ki} \\hspace{0.05cm} > \\hspace{0.05cm} 0$  , then\n",
    "\n",
    "    -  $\\hat{y}_i$ $\\hspace{0.05cm}$  is $\\hspace{0.05cm}$ $\\hspace{0.05cm} \\hat{\\beta}_{r2} + \\hat{\\beta}_{r2}\\cdot x_{ki} \\hspace{0.05cm}$ $\\hspace{0.05cm}$ units **greater** if $\\hspace{0.05cm}$ $x_{ir}= 2$ $\\hspace{0.05cm}$  than if  $\\hspace{0.05cm}$ $x_{ir}= 0$\n",
    "\n",
    "<br>\n",
    "\n",
    "-   If  $\\hspace{0.05cm} \\hat{\\beta}_{r2} + \\hat{\\beta}_{r2}\\cdot x_{ki} \\hspace{0.05cm} < \\hspace{0.05cm} 0$  , then\n",
    "\n",
    "    -  $\\hat{y}_i$ $\\hspace{0.05cm}$  is $\\hspace{0.05cm}$ $\\hspace{0.05cm} \\hat{\\beta}_{r2} + \\hat{\\beta}_{r2}\\cdot x_{ki} \\hspace{0.05cm}$ $\\hspace{0.05cm}$ units **less** if $\\hspace{0.05cm}$ $x_{ir}= 2$ $\\hspace{0.05cm}$  than if  $\\hspace{0.05cm}$ $x_{ir}= 0$\n",
    "\n",
    "<br>\n",
    "\n",
    "\n",
    "-   If  $\\hspace{0.05cm} (\\hat{\\beta}_{r2} - \\hat{\\beta}_{r1} ) + (\\hat{\\beta}_{r2} - \\hat{\\beta}_{r1})\\cdot x_{ki} \\hspace{0.05cm} > \\hspace{0.05cm} 0$  , then\n",
    "\n",
    "    -  $\\hat{y}_i$ $\\hspace{0.05cm}$  is $\\hspace{0.05cm}$ $\\hspace{0.05cm} (\\hat{\\beta}_{r2} - \\hat{\\beta}_{r1} ) + (\\hat{\\beta}_{r2} - \\hat{\\beta}_{r1})\\cdot x_{ki} \\hspace{0.05cm}$ $\\hspace{0.05cm}$ units **greater** if $\\hspace{0.05cm}$ $x_{ir}= 2$ $\\hspace{0.05cm}$  than if  $\\hspace{0.05cm}$ $x_{ir}= 1$\n",
    "\n",
    "<br>\n",
    "\n",
    "-   If  $\\hspace{0.05cm} (\\hat{\\beta}_{r2} - \\hat{\\beta}_{r1} ) + (\\hat{\\beta}_{r2} - \\hat{\\beta}_{r1})\\cdot x_{ki} \\hspace{0.05cm} < \\hspace{0.05cm} 0$  , then\n",
    "\n",
    "    -  $\\hat{y}_i$ $\\hspace{0.05cm}$  is $\\hspace{0.05cm}$ $\\hspace{0.05cm} (\\hat{\\beta}_{r2} - \\hat{\\beta}_{r1} ) + (\\hat{\\beta}_{r2} - \\hat{\\beta}_{r1})\\cdot x_{ki} \\hspace{0.05cm}$ $\\hspace{0.05cm}$ units **less** if $\\hspace{0.05cm}$ $x_{ir}= 2$ $\\hspace{0.05cm}$  than if  $\\hspace{0.05cm}$ $x_{ir}= 1$\n",
    "\n",
    "<br>\n",
    "\n",
    "Note these magnitudes depend on $x_{ik}$ value, because we have set an interaction between $X_k$ and $X_r$ in the model.\n",
    "\n",
    "\n"
   ]
  },
  {
   "cell_type": "markdown",
   "metadata": {},
   "source": [
    "\n",
    "**Observation:**\n",
    "\n",
    "The above affirmations are based in the following:\n",
    "\n",
    "- $(\\hat{y}_i \\hspace{0.05cm} | \\hspace{0.05cm} x_{ir1}=1 ) - (\\hat{y}_i  \\hspace{0.05cm} | \\hspace{0.05cm}  x_{ir0}=1 ) =  \\hat{\\beta}_{r1} + \\hat{\\beta}_{r1k}\\cdot x_{ik}$\n",
    "\n",
    "- $(\\hat{y}_i \\hspace{0.05cm} | \\hspace{0.05cm} x_{ir2}=1 ) - (\\hat{y}_i  \\hspace{0.05cm} | \\hspace{0.05cm}  x_{ir0}=1 ) =  \\hat{\\beta}_{r2} + \\hat{\\beta}_{r2k}\\cdot x_{ik}$\n",
    "\n",
    "- $(\\hat{y}_i \\hspace{0.05cm} | \\hspace{0.05cm} x_{ir2}=1 ) - (\\hat{y}_i  \\hspace{0.05cm} | \\hspace{0.05cm}  x_{ir1}=1 ) =  (\\hat{\\beta}_{r2} - \\hat{\\beta}_{r1} ) + (\\hat{\\beta}_{r2k} - \\hat{\\beta}_{r1k})\\cdot x_{ki}$\n",
    "\n"
   ]
  },
  {
   "cell_type": "markdown",
   "metadata": {},
   "source": []
  },
  {
   "cell_type": "markdown",
   "metadata": {},
   "source": [
    "Note that this can easily be extrapolated to the case of interaction between an $r$-ary categorical variable and a quantitative variable, for $r>3$."
   ]
  },
  {
   "cell_type": "markdown",
   "metadata": {},
   "source": []
  },
  {
   "cell_type": "markdown",
   "metadata": {},
   "source": [
    "---"
   ]
  },
  {
   "cell_type": "markdown",
   "metadata": {},
   "source": []
  },
  {
   "cell_type": "markdown",
   "metadata": {},
   "source": [
    "### Example of interaction coefficient interpretation <a class=\"anchor\" id=\"39\"></a>\n"
   ]
  },
  {
   "cell_type": "code",
   "execution_count": null,
   "metadata": {},
   "outputs": [],
   "source": [
    "model_Python_2 = smf.ols(formula = 'price ~  quality*size_in_m_2 + no_of_bedrooms + no_of_bathrooms + latitude + longitude', \n",
    "                               data =data_Python)\n",
    "\n",
    "model_Python_2 = model_Python_2.fit()\n",
    " \n",
    "print(model_Python_2.summary())"
   ]
  },
  {
   "cell_type": "markdown",
   "metadata": {},
   "source": [
    "We have got the following:"
   ]
  },
  {
   "cell_type": "markdown",
   "metadata": {},
   "source": [
    " $\\left( \\widehat{price}_i | quality1_i=1 \\right) - \\left(\\widehat{price}_i | quality0_i=1 \\right) = \\hat{\\beta}_{quality1} + \\hat{\\beta}_{quality1:size\\_in\\_m\\_2} \\cdot size\\_in\\_m\\_2_i = -2.353\\cdot 10^5 + 2908.2719  \\cdot size\\_in\\_m\\_2_i$  \n",
    "\n",
    "This magnitude depends on the value of $size\\_in\\_m\\_2_i$\n",
    "\n",
    "For example if $size\\_in\\_m\\_2_i = 100$ , then:\n",
    "\n",
    "$\\left( \\widehat{price}_i | quality1_i=1 \\right) - \\left(\\widehat{price}_i | quality0_i=1 \\right) = 55527.19$\n",
    "\n",
    "So the estimated price of a 100 $m^2$ house is $55527.19$ units greater if $quality1_i=1$ (it has medium quality) than $quality0_i=1$ (it has low quality)"
   ]
  },
  {
   "cell_type": "markdown",
   "metadata": {},
   "source": []
  },
  {
   "cell_type": "markdown",
   "metadata": {},
   "source": [
    "$\\left( \\widehat{price}_i | quality2_i=1 \\right) - \\left(\\widehat{price}_i | quality0_i=1 \\right) = \\hat{\\beta}_{quality2} + \\hat{\\beta}_{quality2:size\\_in\\_m\\_2} \\cdot size\\_in\\_m\\_2_i = -1.373\\cdot 10^6 + 1.208\\cdot 10^4  \\cdot size\\_in\\_m\\_2_i$  \n",
    "\n",
    "This magnitude depends on the value of $size\\_in\\_m\\_2_i$\n",
    "\n",
    "For example if $size\\_in\\_m\\_2_i = 100$ , then:\n",
    "\n",
    "$\\left( \\widehat{price}_i | quality2_i=1 \\right) - \\left(\\widehat{price}_i | quality0_i=1 \\right) = 55527.19$\n",
    "\n",
    "So the estimated price of a 100 $m^2$ house is $165000$ units less if $quality2_i=1$ (it has high quality) than $quality0_i=1$ (it has low quality)"
   ]
  },
  {
   "cell_type": "markdown",
   "metadata": {},
   "source": []
  },
  {
   "cell_type": "markdown",
   "metadata": {},
   "source": [
    "$\\left( \\widehat{price}_i | quality3_i=1 \\right) - \\left(\\widehat{price}_i | quality1_i=1 \\right) = \\left(\\hat{\\beta}_{quality3} - \\hat{\\beta}_{quality1}\\right) + \\left( \\hat{\\beta}_{quality3:size\\_in\\_m\\_2} - \\hat{\\beta}_{quality1:size\\_in\\_m\\_2}\\right)  \\cdot size\\_in\\_m\\_2_i =  (1.318e+06 - (-2.353e+05 )) + (-1.145e+04 + 2908.2719 )\\cdot size\\_in\\_m\\_2_i $  \n",
    "\n",
    "This magnitude depends on the value of $size\\_in\\_m\\_2_i$\n",
    "\n",
    "For example if $size\\_in\\_m\\_2_i = 100$ , then:\n",
    "\n",
    "$\\left( \\widehat{price}_i | quality3_i=1 \\right) - \\left(\\widehat{price}_i | quality1_i=1 \\right) = 699127.19$\n",
    "\n",
    "So the estimated price of a 100 $m^2$ house is $699127.19$ units greater if $quality3_i=1$ (it has ultra quality) than $quality1_i=1$ (it has medium quality)"
   ]
  },
  {
   "cell_type": "markdown",
   "metadata": {},
   "source": []
  },
  {
   "cell_type": "markdown",
   "metadata": {},
   "source": [
    "Note that in all these cases it is assumed that the rest of the model variables don´t vary (have the same values) from one scenario to another."
   ]
  },
  {
   "cell_type": "markdown",
   "metadata": {},
   "source": []
  },
  {
   "cell_type": "markdown",
   "metadata": {},
   "source": [
    "----"
   ]
  },
  {
   "cell_type": "markdown",
   "metadata": {},
   "source": []
  },
  {
   "cell_type": "markdown",
   "metadata": {},
   "source": [
    "## Inference <a class=\"anchor\" id=\"40\"></a>\n"
   ]
  },
  {
   "cell_type": "markdown",
   "metadata": {},
   "source": []
  },
  {
   "cell_type": "markdown",
   "metadata": {},
   "source": [
    "### Confidence Interval for $\\beta_j$ <a class=\"anchor\" id=\"41\"></a>\n"
   ]
  },
  {
   "cell_type": "markdown",
   "metadata": {},
   "source": [
    "$\\hspace{0.05cm}\\widehat{Var}(\\widehat{\\beta}_j)\\hspace{0.05cm}$\n",
    " \n",
    "\\begin{gather*}\n",
    "IC\\left(\\beta_j  \\right)= \\left[ \\hspace{0.05cm} \\hat{\\beta}_j \\ \\hspace{0.1cm} \\pm \\hspace{0.1cm}  \\ t_{\\alpha/2}^{n-p-1} \\cdot \\sqrt{\\widehat{Var}(\\widehat{\\beta}_j)} \\hspace{0.05cm} \\right] = \\left[\\hspace{0.05cm}  \\hat{\\beta}_j \\ \\hspace{0.1cm} \\pm \\hspace{0.1cm}  \\ t_{\\alpha/2}^{n-p-1} \\cdot \\sqrt{S_R^2 \\cdot q_{jj}} \\hspace{0.05cm} \\right]\n",
    "\\end{gather*}\n",
    " \n",
    "Where:\n",
    "\n",
    "$q_{jj} \\hspace{0.1cm}$ is the element $\\hspace{0.1cm} j+1 \\hspace{0.1cm}$ of the principal diagonal of the matrix\n",
    "$\\hspace{0.1cm} (X^t \\cdot X)^{-1} \\hspace{0.1cm}$ for $\\hspace{0.1cm} j=0,1,...,p$\n",
    "\n",
    " \n"
   ]
  },
  {
   "cell_type": "markdown",
   "metadata": {},
   "source": []
  },
  {
   "cell_type": "markdown",
   "metadata": {},
   "source": [
    "**Observation:**\n",
    "\n",
    "The smaller $\\hspace{0.1cm}\\sqrt{\\widehat{Var}(\\widehat{\\beta}_j)}\\hspace{0.1cm}$  is, the smaller the confidence interval of $\\hspace{0.1cm}\\widehat{\\beta}_j\\hspace{0.1cm}$ will be."
   ]
  },
  {
   "cell_type": "markdown",
   "metadata": {},
   "source": []
  },
  {
   "cell_type": "markdown",
   "metadata": {},
   "source": []
  },
  {
   "cell_type": "markdown",
   "metadata": {},
   "source": [
    "### Confidence Interval for $\\sigma^2$ <a class=\"anchor\" id=\"42\"></a>\n"
   ]
  },
  {
   "cell_type": "markdown",
   "metadata": {},
   "source": [
    "\n",
    " \n",
    "\\begin{gather*}\n",
    "IC\\left(\\sigma^2  \\right)= \\left[ 0 \\ , \\ \\dfrac{n-p-1}{\\chi_{1-\\alpha/2}^{n-p-1}}\\cdot S_R^2  \\right]\n",
    "\\end{gather*}\n",
    " \n"
   ]
  },
  {
   "cell_type": "markdown",
   "metadata": {},
   "source": []
  },
  {
   "cell_type": "markdown",
   "metadata": {},
   "source": [
    "---"
   ]
  },
  {
   "cell_type": "markdown",
   "metadata": {},
   "source": []
  },
  {
   "cell_type": "markdown",
   "metadata": {},
   "source": [
    "\n",
    "#### Confidence Interval for  $\\beta_j$  in `R` <a class=\"anchor\" id=\"43\"></a>\n",
    "\n",
    " \n",
    "\n",
    "We can compute de confidence interval of $\\beta_j$ with a confidence\n",
    "level of $95\\%$ for $j=0,1,...,p$\n"
   ]
  },
  {
   "cell_type": "code",
   "execution_count": null,
   "metadata": {},
   "outputs": [],
   "source": [
    "%%R\n",
    "\n",
    "confint(model_R , conf.level=0.95)"
   ]
  },
  {
   "cell_type": "markdown",
   "metadata": {},
   "source": []
  },
  {
   "cell_type": "markdown",
   "metadata": {},
   "source": [
    "---"
   ]
  },
  {
   "cell_type": "markdown",
   "metadata": {},
   "source": []
  },
  {
   "cell_type": "markdown",
   "metadata": {},
   "source": [
    "#### Confidence Interval for  $\\beta_j$  in `Python` <a class=\"anchor\" id=\"44\"></a>\n"
   ]
  },
  {
   "cell_type": "code",
   "execution_count": null,
   "metadata": {},
   "outputs": [],
   "source": [
    "beta_intervals = model_Py_sm.conf_int(alpha=0.05)\n",
    "beta_intervals.columns = ['2.5%', '97.5%']\n",
    "beta_intervals"
   ]
  },
  {
   "cell_type": "markdown",
   "metadata": {},
   "source": []
  },
  {
   "cell_type": "markdown",
   "metadata": {},
   "source": [
    "\n",
    "Then, for example, we have:\n",
    "\n",
    " \n",
    "$$\n",
    "IC(\\beta_0)=\\left[-1.208060e+08 \\ , \\ -3.336873e+06 \\right] \n",
    "$$\n",
    "$$\n",
    "IC(\\beta_{size\\_in\\_m\\_2})=\\left[ 3.424446e+04   \\ , \\ 3.708364e+04 \\right] \n",
    "$$\n",
    " \n"
   ]
  },
  {
   "cell_type": "markdown",
   "metadata": {},
   "source": [
    "We also have this information in the output obtained with `print(model_Python_1.summary())`"
   ]
  },
  {
   "cell_type": "markdown",
   "metadata": {},
   "source": []
  },
  {
   "cell_type": "markdown",
   "metadata": {},
   "source": [
    "---"
   ]
  },
  {
   "cell_type": "markdown",
   "metadata": {},
   "source": []
  },
  {
   "cell_type": "markdown",
   "metadata": {},
   "source": [
    "\n",
    "#### Confidence Interval for  $\\sigma^2$  in `R` <a class=\"anchor\" id=\"45\"></a>\n",
    "\n",
    " \n",
    "\n",
    "We can compute de confidence interval of $\\sigma^2$ with a confidence\n",
    "level of $95\\%$ usingl the package \"model\".\n",
    "\n",
    "We can load this package running the following code:\n"
   ]
  },
  {
   "cell_type": "code",
   "execution_count": null,
   "metadata": {},
   "outputs": [],
   "source": [
    "%%R \n",
    "\n",
    "# install.packages(\"remotes\")\n",
    "# remotes::install_github(\"fhernanb/model\")"
   ]
  },
  {
   "cell_type": "code",
   "execution_count": null,
   "metadata": {},
   "outputs": [],
   "source": [
    "%%R\n",
    " \n",
    "library(model)\n",
    "\n",
    "confint_sigma2(object=model_R , level=0.95)"
   ]
  },
  {
   "cell_type": "markdown",
   "metadata": {},
   "source": [
    "\n",
    "Then, we have:\n",
    "\n",
    " \n",
    "\\begin{gather*}\n",
    "IC(\\sigma^2)=\\left[2.418577e+12   \\ , \\ 2.747045e+12 \\right]\n",
    "\\end{gather*}\n",
    " \n",
    " \n"
   ]
  },
  {
   "cell_type": "markdown",
   "metadata": {},
   "source": []
  },
  {
   "cell_type": "markdown",
   "metadata": {},
   "source": [
    "---"
   ]
  },
  {
   "cell_type": "markdown",
   "metadata": {},
   "source": []
  },
  {
   "cell_type": "markdown",
   "metadata": {},
   "source": [
    "#### Confidence Interval for  $\\sigma^2$  in `Python` <a class=\"anchor\" id=\"46\"></a>\n"
   ]
  },
  {
   "cell_type": "markdown",
   "metadata": {},
   "source": [
    "In this case we will use the interval expression before defined:"
   ]
  },
  {
   "cell_type": "code",
   "execution_count": null,
   "metadata": {},
   "outputs": [],
   "source": [
    "import scipy"
   ]
  },
  {
   "cell_type": "code",
   "execution_count": null,
   "metadata": {},
   "outputs": [],
   "source": [
    "n=len(data_Python)\n",
    "p=6\n",
    "scipy.stats.chi2.ppf(0.95, n-p)"
   ]
  },
  {
   "cell_type": "code",
   "execution_count": null,
   "metadata": {},
   "outputs": [],
   "source": [
    "b = ( n-p-1 / scipy.stats.chi2.ppf(0.95, n-p-1))*estimated_variance_error\n",
    "\n",
    "interval_sigma2 = [0,b]\n",
    "interval_sigma2"
   ]
  },
  {
   "cell_type": "markdown",
   "metadata": {},
   "source": []
  },
  {
   "cell_type": "markdown",
   "metadata": {},
   "source": [
    "---"
   ]
  },
  {
   "cell_type": "markdown",
   "metadata": {},
   "source": []
  },
  {
   "cell_type": "markdown",
   "metadata": {},
   "source": [
    "\n",
    "### Hypothesis Test for $\\beta_j$ <a class=\"anchor\" id=\"47\"></a>\n",
    "\n",
    " \n"
   ]
  },
  {
   "cell_type": "markdown",
   "metadata": {},
   "source": [
    "\n",
    "We can carry out the following three test:\n",
    "\n",
    "|                               |                            |                            |\n",
    "|:------------------------:|:---------------------:|:---------------------:|\n",
    "|  $H_0: \\beta_j = \\beta_j^*$   | $H_0: \\beta_j = \\beta_j^*$ | $H_0: \\beta_j = \\beta_j^*$ |\n",
    "| $H_1: \\beta_j \\neq \\beta_j^*$ | $H_1: \\beta_j > \\beta_j^*$ | $H_1: \\beta_j < \\beta_j^*$ |\n",
    "\n",
    "  \n"
   ]
  },
  {
   "cell_type": "markdown",
   "metadata": {},
   "source": []
  },
  {
   "cell_type": "markdown",
   "metadata": {},
   "source": [
    "\n",
    "#### Test Statistic:\n",
    "\n",
    " \n",
    "\n",
    "The test statistic for any of the previous test is:\n",
    "\n",
    " \n",
    "\\begin{gather*}\n",
    "t_{exp | H_0}=\\dfrac{\\hat{\\beta}_j - \\beta_j^*}{\\sqrt{S_R \\cdot q_{jj}}} \\sim t_{n-p}\n",
    "\\end{gather*}\n",
    " \n"
   ]
  },
  {
   "cell_type": "markdown",
   "metadata": {},
   "source": []
  },
  {
   "cell_type": "markdown",
   "metadata": {},
   "source": [
    " \n",
    "\n",
    "#### Decision Rule\n",
    "\n",
    " \n",
    "\n",
    "For a fixed signification level $\\alpha$\n"
   ]
  },
  {
   "cell_type": "markdown",
   "metadata": {},
   "source": [
    "\n",
    "-   Case   $H_0: \\beta_j = \\beta_j^*$  vs  $H_1: \\beta_j \\neq \\beta_j^*$\n",
    "\n"
   ]
  },
  {
   "cell_type": "markdown",
   "metadata": {},
   "source": [
    "\n",
    "-   - Based in the test statistic:      \n",
    "\n",
    " \n",
    "\\begin{gather*}\n",
    "Reject \\ H_0 \\ \\Leftrightarrow \\ t_{exp|H_0} > t_{\\alpha/2}^{n-p} \\ ó \\ t_{exp|H_0} < t_{1-\\alpha/2}^{n-p}\n",
    "\\end{gather*}\n",
    " \n",
    " \n",
    "-   - Based in p-value: \n",
    "         \n",
    "\n",
    " \n",
    "\\begin{gather*}\n",
    "pvalue=2\\cdot P( t_{n-p} \\geqslant \\mid t_{exp|H_0} \\mid ) \\\\ \\\\\n",
    "Reject \\ H_0  \\ \\Leftrightarrow \\ pvalue < \\alpha\n",
    "\\end{gather*}\n",
    " \n",
    " \n"
   ]
  },
  {
   "cell_type": "markdown",
   "metadata": {},
   "source": []
  },
  {
   "cell_type": "markdown",
   "metadata": {},
   "source": [
    "\n",
    "-   Case   $H_0: \\beta_j = \\beta_j^*$  vs  $H_1: \\beta_j > \\beta_j^*$\n"
   ]
  },
  {
   "cell_type": "markdown",
   "metadata": {},
   "source": [
    "\n",
    "-   - Based in the test statistic: \n",
    "\n",
    "\n",
    " \n",
    "\\begin{gather*}\n",
    "Reject \\ H_0 \\ \\Leftrightarrow \\ t_{exp|H_0} > t_{\\alpha/2}^{n-p}\n",
    "\\end{gather*}\n",
    " \n",
    "\n",
    "-   - Based in p-value: \n",
    "\n",
    "\n",
    " \n",
    "\\begin{gather*}\n",
    "pvalue=2\\cdot P( t_{n-p} \\geqslant t_{exp|H_0} ) \\\\ \\\\\n",
    "Reject \\ H_0  \\ \\Leftrightarrow \\ pvalue < \\alpha\n",
    "\\end{gather*}\n",
    " \n"
   ]
  },
  {
   "cell_type": "markdown",
   "metadata": {},
   "source": []
  },
  {
   "cell_type": "markdown",
   "metadata": {},
   "source": [
    "-   Case   $H_0: \\beta_j = \\beta_j^*$  vs  $H_1: \\beta_j < \\beta_j^*$\n"
   ]
  },
  {
   "cell_type": "markdown",
   "metadata": {},
   "source": [
    "\n",
    "-   - Based in the test statistic: \n",
    "\n",
    " \n",
    "\\begin{gather*}\n",
    "Reject \\ H_0 \\ \\Leftrightarrow \\ t_{exp|H_0} < t_{1-\\alpha/2}^{n-p}\n",
    "\\end{gather*}\n",
    " \n",
    " \n",
    "\n",
    "-   - Based in p-value:\n",
    "\n",
    " \n",
    "\\begin{gather*}\n",
    "pvalue=2\\cdot P( t_{n-p} \\leqslant t_{exp|H_0} ) \\\\ \\\\\n",
    "Reject \\ H_0  \\ \\Leftrightarrow \\ pvalue < \\alpha\n",
    "\\end{gather*}\n",
    " \n",
    "\n",
    " \n"
   ]
  },
  {
   "cell_type": "markdown",
   "metadata": {},
   "source": []
  },
  {
   "cell_type": "markdown",
   "metadata": {},
   "source": [
    "----"
   ]
  },
  {
   "cell_type": "markdown",
   "metadata": {},
   "source": []
  },
  {
   "cell_type": "markdown",
   "metadata": {},
   "source": [
    "\n",
    "### Test of Significance for $\\beta_j$ <a class=\"anchor\" id=\"48\"></a>\n",
    "\n",
    " \n"
   ]
  },
  {
   "cell_type": "markdown",
   "metadata": {},
   "source": [
    "\n",
    "The test of significance for the coefficient $\\beta_j$ is the following\n",
    "test:\n",
    "\n",
    " \n",
    "\\begin{gather*}\n",
    "H_0: \\beta_j=0 \\\\\n",
    "H_1: \\beta_j \\neq 0\n",
    "\\end{gather*}\n",
    " \n",
    " \n"
   ]
  },
  {
   "cell_type": "markdown",
   "metadata": {},
   "source": [
    "\n",
    "The test statistic is the previously exposed, taking into account that\n",
    "now $\\beta_j^*=0$\n",
    "\n",
    " \n",
    "\\begin{gather*}\n",
    "t_{exp | H_0}=\\dfrac{\\hat{\\beta}_j - 0}{\\sqrt{S_R \\cdot q_{jj}}} = \\dfrac{\\hat{\\beta}_j}{\\sqrt{\\widehat{Var}(\\widehat{\\beta}_j) }} \\sim t_{n-p}\n",
    "\\end{gather*}\n",
    " \n"
   ]
  },
  {
   "cell_type": "markdown",
   "metadata": {},
   "source": [
    " \n",
    "\n",
    "The decision rules are the same too\n",
    "\n",
    " \n",
    "\\begin{gather*}\n",
    "Reject \\ H_0  \\ \\Leftrightarrow \\ pvalue < \\alpha\n",
    "\\end{gather*}\n",
    " \n"
   ]
  },
  {
   "cell_type": "markdown",
   "metadata": {},
   "source": []
  },
  {
   "cell_type": "markdown",
   "metadata": {},
   "source": [
    "---"
   ]
  },
  {
   "cell_type": "markdown",
   "metadata": {},
   "source": []
  },
  {
   "cell_type": "markdown",
   "metadata": {},
   "source": [
    "\n",
    "#### Test of Significance  in `R` <a class=\"anchor\" id=\"49\"></a>"
   ]
  },
  {
   "cell_type": "markdown",
   "metadata": {},
   "source": [
    "The value of $\\hspace{0.1cm} t_{exp|H_0} \\hspace{0.1cm}$ and also the p-value of the test of significance for $\\beta_j$ could be found in the output obtained with `summary(model_R_1)`"
   ]
  },
  {
   "cell_type": "code",
   "execution_count": null,
   "metadata": {},
   "outputs": [],
   "source": [
    "%%R\n",
    "summary(model_R)"
   ]
  },
  {
   "cell_type": "markdown",
   "metadata": {},
   "source": []
  },
  {
   "cell_type": "markdown",
   "metadata": {},
   "source": [
    "---"
   ]
  },
  {
   "cell_type": "markdown",
   "metadata": {},
   "source": []
  },
  {
   "cell_type": "markdown",
   "metadata": {},
   "source": [
    "#### Test of Significance  in `Python` <a class=\"anchor\" id=\"50\"></a>\n"
   ]
  },
  {
   "cell_type": "markdown",
   "metadata": {},
   "source": [
    "The value of $\\hspace{0.1cm} t_{exp|H_0} \\hspace{0.1cm}$ and also the p-value of the test of significance for $\\beta_j$ could be found in the output obtained with `print(model_Python_1.summary())`"
   ]
  },
  {
   "cell_type": "code",
   "execution_count": null,
   "metadata": {},
   "outputs": [],
   "source": [
    "print(model_Py_sm.summary())"
   ]
  },
  {
   "cell_type": "markdown",
   "metadata": {},
   "source": []
  },
  {
   "cell_type": "markdown",
   "metadata": {},
   "source": [
    "The p-values we have got are the following:"
   ]
  },
  {
   "cell_type": "markdown",
   "metadata": {},
   "source": [
    "\n",
    "\\begin{gather*}\n",
    "H_0: \\beta_{quality1}=0 \\\\\n",
    "H_1: \\beta_{quality1} \\neq 0 \\\\ \\\\\n",
    "pvalue = 0.094   \n",
    "\\end{gather*}\n",
    "\n",
    "\n",
    "\n",
    "For $\\hspace{0.05cm} \\alpha = 0.05 < 0.094$ $\\hspace{0.1cm} \\Rightarrow \\hspace{0.1cm}$ $Not \\hspace{0.08cm} Reject  \\hspace{0.08cm} H_0 : \\hspace{0.05cm} \\beta_{quality1}=0 \\hspace{0.1cm} \\Rightarrow \\hspace{0.1cm}$ $quality1 \\hspace{0.1cm}$ isn´t a significance variable"
   ]
  },
  {
   "cell_type": "markdown",
   "metadata": {},
   "source": []
  },
  {
   "cell_type": "markdown",
   "metadata": {},
   "source": [
    "\n",
    "\\begin{gather*}\n",
    "H_0: \\beta_{quality2}=0 \\\\\n",
    "H_1: \\beta_{quality2} \\neq 0 \\\\ \\\\\n",
    "pvalue = 0.028    \n",
    "\\end{gather*}\n",
    "\n",
    "\n",
    "For $\\hspace{0.05cm} \\alpha = 0.05 > 0.028$ $\\hspace{0.1cm} \\Rightarrow \\hspace{0.1cm}$ $Reject  \\hspace{0.08cm} H_0 : \\hspace{0.05cm} \\beta_{quality2}=0 \\hspace{0.1cm} \\Rightarrow \\hspace{0.1cm} Accept  \\hspace{0.08cm} H_1 : \\hspace{0.05cm} \\beta_{quality2}\\neq 0$ $\\hspace{0.1cm} \\Rightarrow \\hspace{0.1cm}$  $quality2 \\hspace{0.1cm}$ is a significance variable"
   ]
  },
  {
   "cell_type": "markdown",
   "metadata": {},
   "source": []
  },
  {
   "cell_type": "markdown",
   "metadata": {},
   "source": [
    "\n",
    "\\begin{gather*}\n",
    "H_0: \\beta_{quality3}=0 \\\\\n",
    "H_1: \\beta_{quality3} \\neq 0 \\\\ \\\\\n",
    "pvalue = 0.159 \n",
    "\\end{gather*}\n",
    "\n",
    "For $\\hspace{0.05cm} \\alpha = 0.05 < 0.159$ $\\hspace{0.1cm} \\Rightarrow \\hspace{0.1cm}$ $Not Reject  \\hspace{0.08cm} H_0 : \\hspace{0.05cm} \\beta_{quality3}=0 \\hspace{0.1cm} \\Rightarrow \\hspace{0.1cm}$ $quality3 \\hspace{0.1cm}$ isn´t a significance variable\n",
    "\n"
   ]
  },
  {
   "cell_type": "markdown",
   "metadata": {},
   "source": []
  },
  {
   "cell_type": "markdown",
   "metadata": {},
   "source": [
    "\n",
    "\\begin{gather*}\n",
    "H_0: \\beta_{size\\_in\\_m\\_2}=0 \\\\\n",
    "H_1: \\beta_{size\\_in\\_m\\_2} \\neq 0 \\\\ \\\\\n",
    "pvalue \\simeq 0\n",
    "\\end{gather*}\n",
    "\n",
    "For $\\hspace{0.05cm} \\alpha = 0.05 < 0$ $\\hspace{0.1cm} \\Rightarrow \\hspace{0.1cm}$ $Reject  \\hspace{0.08cm} H_0 : \\hspace{0.05cm} \\beta_{size\\_in\\_m\\_2}=0 \\hspace{0.1cm} \\Rightarrow \\hspace{0.1cm}$ $size\\_in\\_m\\_2  \\hspace{0.1cm}$ is a significance variable\n"
   ]
  },
  {
   "cell_type": "markdown",
   "metadata": {},
   "source": []
  },
  {
   "cell_type": "markdown",
   "metadata": {},
   "source": [
    "\n",
    "\\begin{gather*}\n",
    "H_0: \\beta_{no\\_of\\_bedrooms}=0 \\\\\n",
    "H_1: \\beta_{no\\_of\\_bedrooms} \\neq 0 \\\\ \\\\\n",
    "pvalue \\simeq 0\n",
    "\\end{gather*}\n",
    "\n",
    "For $\\hspace{0.05cm} \\alpha = 0.05 < 0$ $\\hspace{0.1cm} \\Rightarrow \\hspace{0.1cm}$ $Reject  \\hspace{0.08cm} H_0 : \\hspace{0.05cm} \\beta_{no\\_of\\_bedrooms}=0 \\hspace{0.1cm} \\Rightarrow \\hspace{0.1cm}$ $no\\_of\\_bedrooms  \\hspace{0.1cm}$ is a significance variable\n"
   ]
  },
  {
   "cell_type": "markdown",
   "metadata": {},
   "source": []
  },
  {
   "cell_type": "markdown",
   "metadata": {},
   "source": [
    "\n",
    "\n",
    "\\begin{gather*}\n",
    "H_0: \\beta_{no\\_of\\_bathrooms}=0 \\\\\n",
    "H_1: \\beta_{no\\_of\\_bathrooms} \\neq 0 \\\\ \\\\\n",
    "pvalue =  0.403\n",
    "\\end{gather*}\n",
    "\n",
    "For $\\hspace{0.05cm} \\alpha = 0.05 < 0.403$ $\\hspace{0.1cm} \\Rightarrow \\hspace{0.1cm}$ $Not Reject  \\hspace{0.08cm} H_0 : \\hspace{0.05cm} \\beta_{no\\_of\\_bathrooms}=0 \\hspace{0.1cm} \\Rightarrow \\hspace{0.1cm}$ $no\\_of\\_bathrooms  \\hspace{0.1cm}$ isn´t a significance variable\n"
   ]
  },
  {
   "cell_type": "markdown",
   "metadata": {},
   "source": []
  },
  {
   "cell_type": "markdown",
   "metadata": {},
   "source": [
    "\n",
    "\\begin{gather*}\n",
    "H_0: \\beta_{latitude}=0 \\\\\n",
    "H_1: \\beta_{latitude} \\neq 0 \\\\ \\\\\n",
    "pvalue \\simeq 0\n",
    "\\end{gather*}\n",
    "\n",
    "For $\\hspace{0.05cm} \\alpha = 0.05 > 0$ $\\hspace{0.1cm} \\Rightarrow \\hspace{0.1cm}$ $Reject  \\hspace{0.08cm} H_0 : \\hspace{0.05cm} \\beta_{latitude}=0 \\hspace{0.1cm} \\Rightarrow \\hspace{0.1cm}$ $latitude  \\hspace{0.1cm}$ is a significance variable"
   ]
  },
  {
   "cell_type": "markdown",
   "metadata": {},
   "source": []
  },
  {
   "cell_type": "markdown",
   "metadata": {},
   "source": [
    "\\begin{gather*}\n",
    "H_0: \\beta_{longitude}=0 \\\\\n",
    "H_1: \\beta_{longitude} \\neq 0 \\\\ \\\\\n",
    "pvalue = 0.015\n",
    "\\end{gather*}\n",
    "\n",
    "For $\\hspace{0.05cm} \\alpha = 0.05 > 0.015$ $\\hspace{0.1cm} \\Rightarrow \\hspace{0.1cm}$ $Reject  \\hspace{0.08cm} H_0 : \\hspace{0.05cm} \\beta_{longitude}=0 \\hspace{0.1cm} \\Rightarrow \\hspace{0.1cm}$ $longitude  \\hspace{0.1cm}$ is a significance variable"
   ]
  },
  {
   "cell_type": "markdown",
   "metadata": {},
   "source": []
  },
  {
   "cell_type": "markdown",
   "metadata": {},
   "source": [
    "---"
   ]
  },
  {
   "cell_type": "markdown",
   "metadata": {},
   "source": []
  },
  {
   "cell_type": "markdown",
   "metadata": {},
   "source": [
    "\n",
    "### ANOVA Test  <a class=\"anchor\" id=\"51\"></a>\n"
   ]
  },
  {
   "cell_type": "markdown",
   "metadata": {},
   "source": [
    "\n",
    "The ANOVA test is also called **test of model global significance** :\n",
    " \n",
    "\\begin{gather*}\n",
    "\\hspace{-0.7 cm} H_0: \\hspace{0.15cm} \\beta_1=\\dots =\\beta_p=0 \\\\\n",
    "H_1: \\hspace{0.15cm} \\exists \\ j=1,...,p , \\hspace{0.2cm} \\beta_j \\neq 0\n",
    "\\end{gather*}\n",
    " \n",
    " \n"
   ]
  },
  {
   "cell_type": "markdown",
   "metadata": {},
   "source": [
    "\n",
    "#### Statistic test\n",
    "\n",
    " \n",
    "\n",
    "For define the test statistic , firt we have to define some elements:\n"
   ]
  },
  {
   "cell_type": "markdown",
   "metadata": {},
   "source": [
    "\n",
    "-   Total Sum Squares $(TSS)$\n",
    "\n",
    " \\begin{gather*}\n",
    "TSS =  \\sum_{i=1}^n ( y_i - \\overline{y})\\hspace{0.02cm}^2\n",
    "\\end{gather*}\n",
    " \n",
    "-   Residual Sum Squares $(RSS)$\n",
    "\n",
    " \\begin{gather*}\n",
    "RSS=  \\sum_{i=1}^n \\widehat{\\varepsilon}_i\\hspace{0.01cm}^2 =  \\sum_{i=1}^n ( y_i - \\hat{y}_i)\\hspace{0.02cm}^2\n",
    "\\end{gather*}\n",
    " \n",
    "-   Regression Sum Squares $(RegSS)$\n",
    "\n",
    " \n",
    "\\begin{gather*}\n",
    "RegSS =  \\sum_{i=1}^n ( \\hat{y}_i - \\overline{y} )\\hspace{0.02cm}^2\n",
    "\\end{gather*}\n",
    " \n"
   ]
  },
  {
   "cell_type": "markdown",
   "metadata": {},
   "source": [
    "\n",
    "It can be proved that:\n",
    "\n",
    " \n",
    "\\begin{gather*}\n",
    "TSS=RSS+RegSS\n",
    "\\end{gather*}\n",
    " \n",
    "<br>\n",
    "\n",
    "-   $TSS \\hspace{0.1cm}$ is the total variance of the response variable $Y$\n",
    "\n",
    "-   $RegSS \\hspace{0.1cm}$ is the variance of the response variable $Y$ **explained** by the\n",
    "    model using $X$\n",
    "\n",
    "-   $RSS \\hspace{0.1cm}$ is the variance of the response variable $Y$ **not explained** by the\n",
    "    model using $X$\n",
    "\n"
   ]
  },
  {
   "cell_type": "markdown",
   "metadata": {},
   "source": [
    "\n",
    "\n",
    "Now we can define the test statistic as:\n",
    "\n",
    " \n",
    "\\begin{gather*}\n",
    "F_{exp|H_0}= \\dfrac{(TSS-RSS)/p}{RSS/(n-p-1)} = \\dfrac{(TSS-RSS)/p}{ \\hat{\\varepsilon}_i\\hspace{0.02cm}^2  } \\sim F_{\\hspace{0.05cm}p,\\hspace{0.05cm} n-p-1}\n",
    "\\end{gather*}\n",
    " \n",
    " <br>\n",
    "\n",
    "Where:  $\\hspace{0.1cm} p$ is the number of predictor variables $X_1,...,X_p$ of the\n",
    "model\n",
    "\n",
    " \n"
   ]
  },
  {
   "cell_type": "markdown",
   "metadata": {},
   "source": [
    "\n",
    "#### Decision Rule\n",
    "\n",
    " \n",
    "\n",
    "-   Based on statistic test:\n",
    "\n",
    " \n",
    "\\begin{gather*}\n",
    "Reject \\ H_0 \\ \\Leftrightarrow \\ F_{exp|H_0} > F_{\\alpha}^{\\hspace{0.1cm}p,\\hspace{0.05cm} n-p-1}\n",
    "\\end{gather*}\n",
    " \n",
    "-   Based on p-value:\n",
    "\n",
    " \n",
    "\\begin{gather*}\n",
    "Reject \\ H_0  \\ \\Leftrightarrow \\ pvalue < \\alpha\n",
    "\\end{gather*}\n",
    " \n"
   ]
  },
  {
   "cell_type": "markdown",
   "metadata": {},
   "source": []
  },
  {
   "cell_type": "markdown",
   "metadata": {},
   "source": [
    "---"
   ]
  },
  {
   "cell_type": "markdown",
   "metadata": {},
   "source": []
  },
  {
   "cell_type": "markdown",
   "metadata": {},
   "source": [
    "#### ANOVA test in `R` <a class=\"anchor\" id=\"52\"></a>"
   ]
  },
  {
   "cell_type": "markdown",
   "metadata": {},
   "source": [
    "The value of $\\hspace{0.1cm} F_{exp|H_0}$ and also the p-value of the ANOVA test could be found in the output obtained with `summary(model_R_1)`"
   ]
  },
  {
   "cell_type": "code",
   "execution_count": null,
   "metadata": {},
   "outputs": [],
   "source": [
    "%%R\n",
    "summary(model_R)"
   ]
  },
  {
   "cell_type": "markdown",
   "metadata": {},
   "source": []
  },
  {
   "cell_type": "markdown",
   "metadata": {},
   "source": [
    "---"
   ]
  },
  {
   "cell_type": "markdown",
   "metadata": {},
   "source": []
  },
  {
   "cell_type": "markdown",
   "metadata": {},
   "source": [
    "#### ANOVA test in `Python`  <a class=\"anchor\" id=\"53\"></a>"
   ]
  },
  {
   "cell_type": "markdown",
   "metadata": {},
   "source": [
    "The value of $\\hspace{0.1cm} F_{exp|H_0}$ and also the p-value of the ANOVA test could be found in the output obtained with `print(model_Python_1.summary())`"
   ]
  },
  {
   "cell_type": "code",
   "execution_count": null,
   "metadata": {},
   "outputs": [],
   "source": [
    "print(model_Py_sm.summary())"
   ]
  },
  {
   "cell_type": "markdown",
   "metadata": {},
   "source": []
  },
  {
   "cell_type": "markdown",
   "metadata": {},
   "source": [
    "We have got the following:"
   ]
  },
  {
   "cell_type": "markdown",
   "metadata": {},
   "source": [
    "$\\hspace{4cm} F_{exp|H_0} = 547.4$ $\\hspace{0.3cm}$ (F-statistic) \n",
    "\n",
    "$\\hspace{4cm} pvalue \\simeq 0$ $\\hspace{0.3cm}$  (Prob (F-statistic))"
   ]
  },
  {
   "cell_type": "markdown",
   "metadata": {},
   "source": []
  },
  {
   "cell_type": "markdown",
   "metadata": {},
   "source": [
    "So for any $\\alpha$ we can reject $\\hspace{0.1cm}  H_0:   \\hspace{0.05cm} \\beta_1=\\dots =\\beta_p=0  \\hspace{0.15cm}$, so we can affirm the model is globally significant "
   ]
  },
  {
   "cell_type": "markdown",
   "metadata": {},
   "source": []
  },
  {
   "cell_type": "markdown",
   "metadata": {},
   "source": [
    "----"
   ]
  },
  {
   "cell_type": "markdown",
   "metadata": {},
   "source": []
  },
  {
   "cell_type": "markdown",
   "metadata": {},
   "source": [
    "### Prediction Interval for $\\hspace{0.1cm} y_i$  <a class=\"anchor\" id=\"53.1\"></a>\n"
   ]
  },
  {
   "cell_type": "markdown",
   "metadata": {},
   "source": [
    "We have that\n",
    "\n",
    " $$\\hat{y}_i = x_i^t \\cdot \\hat{\\beta} \\hspace{0.1cm} \\sim \\hspace{0.1cm} N \\left( \\hspace{0.1cm} E[\\hat{y}_i] \\hspace{0.15cm},\\hspace{0.15cm} \\sigma^2 \\cdot (1 + x_i^t \\cdot (X^t \\cdot X)^{-1} \\cdot x_i ) \\hspace{0.1cm} \\right)$$"
   ]
  },
  {
   "cell_type": "markdown",
   "metadata": {},
   "source": []
  },
  {
   "cell_type": "markdown",
   "metadata": {},
   "source": [
    "Using that we  can get the following probability interval for $y_i$"
   ]
  },
  {
   "cell_type": "markdown",
   "metadata": {},
   "source": [
    "$$ IP(y_i)_{1-\\alpha} = \\left[\\hspace{0.1cm} \\hat{y}_i  \\hspace{0.1cm}\\pm\\hspace{0.1cm} t_{\\alpha/2}^{n-p-1} \\sqrt{ \\widehat{\\sigma}^2 \\cdot \\left( 1 + x_i^t \\cdot (X^t \\cdot X)^{-1} \\cdot x_i \\right) } \\hspace{0.1cm} \\right] $$"
   ]
  },
  {
   "cell_type": "markdown",
   "metadata": {},
   "source": []
  },
  {
   "cell_type": "markdown",
   "metadata": {},
   "source": [
    "----"
   ]
  },
  {
   "cell_type": "markdown",
   "metadata": {},
   "source": []
  },
  {
   "cell_type": "markdown",
   "metadata": {},
   "source": [
    "### Prediction Interval for $\\hspace{0.1cm} y_i$ in `Python` <a class=\"anchor\" id=\"53.2\"></a>"
   ]
  },
  {
   "cell_type": "code",
   "execution_count": null,
   "metadata": {},
   "outputs": [],
   "source": [
    "Y = data_Python[['price']]\n",
    "\n",
    "X = data_Python[['size_in_m_2', 'longitude', 'latitude', 'no_of_bedrooms', 'no_of_bathrooms', 'quality']]\n",
    "\n",
    "X = varcharProcessing(X, varchar_process = \"dummy_dropfirst\")"
   ]
  },
  {
   "cell_type": "code",
   "execution_count": null,
   "metadata": {},
   "outputs": [],
   "source": [
    "Probability_Intervals_Response = pd.DataFrame({ 'y': 0 , 'y_predict': 0 ,  'Prob_Interval_lower': 0, 'Prob_Interval_upper': 0}, index= range(0,len(data_Python)))"
   ]
  },
  {
   "cell_type": "code",
   "execution_count": null,
   "metadata": {},
   "outputs": [],
   "source": [
    "Probability_Intervals_Response.head()"
   ]
  },
  {
   "cell_type": "code",
   "execution_count": null,
   "metadata": {},
   "outputs": [],
   "source": [
    "n=len(data_Python)\n",
    "\n",
    "p=model_Py_smf.df_model\n",
    "\n",
    "t = scipy.stats.t.ppf(0.95, n-p-1)\n",
    "\n",
    "XtX_inv = np.linalg.inv(X.T @ X)\n",
    "\n",
    "Probability_Intervals_Response.iloc[:, 0] = Y\n",
    "Probability_Intervals_Response.iloc[:, 1] = predictions\n",
    "\n",
    "\n",
    "for i in range(0, len(data_Python)-1):\n",
    "\n",
    "    x_i = X.to_numpy()[i, ]\n",
    "    x_i = np.array([x_i]) # necessary step to transpose a 1D array\n",
    "\n",
    "    hat_y_i = predictions.to_numpy()[i, ]\n",
    "        \n",
    "    a = hat_y_i - np.sqrt( estimated_variance_error * ( 1 + x_i @ XtX_inv @ x_i.T ) )\n",
    "    b = hat_y_i + np.sqrt( estimated_variance_error * ( 1 + x_i @ XtX_inv @ x_i.T ) )\n",
    "\n",
    "    a = float(a)\n",
    "    b = float(b)\n",
    "\n",
    "    Probability_Intervals_Response.iloc[i, 2] = a\n",
    "    Probability_Intervals_Response.iloc[i, 3] = b"
   ]
  },
  {
   "cell_type": "code",
   "execution_count": null,
   "metadata": {},
   "outputs": [],
   "source": [
    " Probability_Intervals_Response"
   ]
  },
  {
   "cell_type": "markdown",
   "metadata": {},
   "source": []
  },
  {
   "cell_type": "markdown",
   "metadata": {},
   "source": [
    "----"
   ]
  },
  {
   "cell_type": "markdown",
   "metadata": {},
   "source": []
  },
  {
   "cell_type": "markdown",
   "metadata": {},
   "source": [
    "## Goodness of Fit: $\\hspace{0.1cm}$ Determination Coefficient $(R^2)$ <a class=\"anchor\" id=\"54\"></a>\n",
    "\n",
    " \n"
   ]
  },
  {
   "cell_type": "markdown",
   "metadata": {},
   "source": []
  },
  {
   "cell_type": "markdown",
   "metadata": {},
   "source": [
    "\n",
    "The determination coefficient, also called R-square, is defined as:\n",
    "\n",
    " \n",
    "\\begin{gather*}\n",
    "R^2 = \\dfrac{RegSS}{TSS} = \\dfrac{TSS-RSS}{TSS} =1 - \\dfrac{RSS}{TSS}\n",
    "\\end{gather*}\n",
    " \n"
   ]
  },
  {
   "cell_type": "markdown",
   "metadata": {},
   "source": [
    "\n",
    "**Properties**\n",
    "\n",
    "-   $ R^2$ is the proportion of total variance of the response\n",
    "    variable $Y$ that is explained by the model using $X$\n",
    "\n",
    "-   $R^2 \\in \\left[ 0 , 1 \\right]$\n",
    "\n",
    "For this reason $R^2$ is used as a measure of how well the model fits the\n",
    "response variable .\n",
    "\n",
    " \n"
   ]
  },
  {
   "cell_type": "markdown",
   "metadata": {},
   "source": [
    "\n",
    "**Interpretation**\n",
    "\n",
    "The interpretation of $R^2$ is the following:\n",
    "\n",
    "-   If $R^2$ is close to 1, indicates good fit of model to the response\n",
    "    variable data\n",
    "\n",
    "-   If $R^2$ is clode to 0, indicates bad fit of model to the response\n",
    "    variable data\n"
   ]
  },
  {
   "cell_type": "markdown",
   "metadata": {},
   "source": []
  },
  {
   "cell_type": "markdown",
   "metadata": {},
   "source": [
    "----"
   ]
  },
  {
   "cell_type": "markdown",
   "metadata": {},
   "source": []
  },
  {
   "cell_type": "markdown",
   "metadata": {},
   "source": [
    "\n",
    "### Compute $R^2$ in `R` <a class=\"anchor\" id=\"55\"></a>"
   ]
  },
  {
   "cell_type": "markdown",
   "metadata": {},
   "source": [
    "The value of $\\hspace{0.1cm} R^2$  could be found in the output obtained with `summary(model_R)`"
   ]
  },
  {
   "cell_type": "code",
   "execution_count": null,
   "metadata": {},
   "outputs": [],
   "source": [
    "%%R\n",
    "\n",
    "summary(model_R)$r.squared "
   ]
  },
  {
   "cell_type": "markdown",
   "metadata": {},
   "source": []
  },
  {
   "cell_type": "markdown",
   "metadata": {},
   "source": [
    "---"
   ]
  },
  {
   "cell_type": "markdown",
   "metadata": {},
   "source": []
  },
  {
   "cell_type": "markdown",
   "metadata": {},
   "source": [
    "### Compute $R^2$ in `Python` <a class=\"anchor\" id=\"56\"></a>\n"
   ]
  },
  {
   "cell_type": "markdown",
   "metadata": {},
   "source": [
    "The value of $\\hspace{0.1cm} R^2$  could be found in the output obtained with `print(model_Py_smf.summary())`"
   ]
  },
  {
   "cell_type": "code",
   "execution_count": null,
   "metadata": {},
   "outputs": [],
   "source": [
    "model_Py_smf.rsquared"
   ]
  },
  {
   "cell_type": "markdown",
   "metadata": {},
   "source": [
    "We can compute $R^2$ with `sk-learn` as follows:"
   ]
  },
  {
   "cell_type": "code",
   "execution_count": null,
   "metadata": {},
   "outputs": [],
   "source": [
    "Model_Py_sklearn.score(X, y)"
   ]
  },
  {
   "cell_type": "markdown",
   "metadata": {},
   "source": []
  },
  {
   "cell_type": "markdown",
   "metadata": {},
   "source": [
    "We have got the following:\n",
    "\n",
    "$$ R^2 = 0.698$$"
   ]
  },
  {
   "cell_type": "markdown",
   "metadata": {},
   "source": []
  },
  {
   "cell_type": "markdown",
   "metadata": {},
   "source": [
    "---"
   ]
  },
  {
   "cell_type": "markdown",
   "metadata": {},
   "source": []
  },
  {
   "cell_type": "markdown",
   "metadata": {},
   "source": [
    "\n",
    "## Goodness of Fit: $\\hspace{0.1cm}$ Adjusted $R^2$ <a class=\"anchor\" id=\"57\"></a>\n",
    "\n",
    "$R^2$ has several problems.\n",
    "\n",
    "1.  $R^2$ always increase when increase the number of predictors,\n",
    "    although they are not significative.\n",
    "\n",
    "2.  It´s possible estimate two models with the same prediction power but\n",
    "    with different $R^2$\n",
    "\n"
   ]
  },
  {
   "cell_type": "markdown",
   "metadata": {},
   "source": [
    "\n",
    "\n",
    "For avoid the disadvantages of $R^2$ was created the adjusted $R^2$ ,\n",
    "denoted as $\\widehat{R^2}$, and defined as:\n"
   ]
  },
  {
   "cell_type": "markdown",
   "metadata": {},
   "source": [
    "\n",
    "\\begin{gather*}\n",
    "\\widehat{R}^2 =  1 - \\dfrac{RSS/(n-p-1)}{TSS/(n-1)} = 1 - \\left( 1- R^2 \\right) \\cdot \\dfrac{n-1}{n-p}\n",
    "\\end{gather*}\n",
    "\n",
    "\n"
   ]
  },
  {
   "cell_type": "markdown",
   "metadata": {},
   "source": [
    "This metric doesn't grow when including irrelevant predictors since if $RSS$ is small as $p$ is large, $1/(n-p-1)$ will be large compensating the $RSS$ value"
   ]
  },
  {
   "cell_type": "markdown",
   "metadata": {},
   "source": []
  },
  {
   "cell_type": "markdown",
   "metadata": {},
   "source": [
    "---"
   ]
  },
  {
   "cell_type": "markdown",
   "metadata": {},
   "source": []
  },
  {
   "cell_type": "markdown",
   "metadata": {},
   "source": [
    "### Compute $\\widehat{R^2}$ in `R` <a class=\"anchor\" id=\"58\"></a> "
   ]
  },
  {
   "cell_type": "markdown",
   "metadata": {},
   "source": [
    "The value of $\\hspace{0.1cm} \\widehat{R^2}$  could be found in the output obtained with `summary(model_R)`"
   ]
  },
  {
   "cell_type": "code",
   "execution_count": null,
   "metadata": {},
   "outputs": [],
   "source": [
    "%%R\n",
    "\n",
    "summary(model_R)$adj.r.squared "
   ]
  },
  {
   "cell_type": "markdown",
   "metadata": {},
   "source": []
  },
  {
   "cell_type": "markdown",
   "metadata": {},
   "source": [
    "----"
   ]
  },
  {
   "cell_type": "markdown",
   "metadata": {},
   "source": []
  },
  {
   "cell_type": "markdown",
   "metadata": {},
   "source": [
    "### Compute $\\widehat{R^2}$ in `Python` <a class=\"anchor\" id=\"59\"></a>\n"
   ]
  },
  {
   "cell_type": "markdown",
   "metadata": {},
   "source": [
    "The value of $\\hspace{0.1cm} \\widehat{R^2}$  could be found in the output obtained with `print(model_Py_smf.summary())`"
   ]
  },
  {
   "cell_type": "code",
   "execution_count": null,
   "metadata": {},
   "outputs": [],
   "source": [
    "model_Py_smf.rsquared_adj"
   ]
  },
  {
   "cell_type": "markdown",
   "metadata": {},
   "source": []
  },
  {
   "cell_type": "markdown",
   "metadata": {},
   "source": [
    "We have got the following:\n",
    "\n",
    "$$ \\widehat{R^2} = 0.697$$"
   ]
  },
  {
   "cell_type": "markdown",
   "metadata": {},
   "source": []
  },
  {
   "cell_type": "markdown",
   "metadata": {},
   "source": [
    "----"
   ]
  },
  {
   "cell_type": "markdown",
   "metadata": {},
   "source": []
  },
  {
   "cell_type": "markdown",
   "metadata": {},
   "source": [
    "## Model Problems <a class=\"anchor\" id=\"60\"></a>"
   ]
  },
  {
   "cell_type": "markdown",
   "metadata": {},
   "source": []
  },
  {
   "cell_type": "markdown",
   "metadata": {},
   "source": [
    "## Multicollinearity <a class=\"anchor\" id=\"61\"></a>"
   ]
  },
  {
   "cell_type": "markdown",
   "metadata": {},
   "source": [
    "Multicollinearity problem happens when some of the predictors are lineary dependients.\n",
    "\n",
    "Why multicollinearity is a problem ?\n",
    "\n",
    "$1.\\hspace{0.1cm}$ In the worst case it makes the estimation of the model impossible.\n",
    "\n",
    "$2.\\hspace{0.1cm}$ At best, it causes the beta estimators to have a lot of variance, which makes the model's predictions and inference very imprecise. And it also causes predictors that are relevant to come out as non-significant in the significance test.\n",
    " "
   ]
  },
  {
   "cell_type": "markdown",
   "metadata": {},
   "source": []
  },
  {
   "cell_type": "markdown",
   "metadata": {},
   "source": [
    "### Types of multicollinearity  <a class=\"anchor\" id=\"62\"></a>"
   ]
  },
  {
   "cell_type": "markdown",
   "metadata": {},
   "source": [
    "#### Perfect Multicollinearity"
   ]
  },
  {
   "cell_type": "markdown",
   "metadata": {},
   "source": [
    "At least one of the predictors is a linear combination of the rest of the predictors, so $\\hspace{0.1cm}Rg(X) < p+1 \\hspace{0.1cm}$ (not full range)\n",
    "\n",
    "By the null rank theorem, $\\hspace{0.1cm}R(X^t \\cdot X) < p+1\\hspace{0.1cm}$ , therefore there is no $\\hspace{0.1cm}(X^t \\cdot X)^{-1}\\hspace{0.1cm}$ , so it cannot be estimate $\\hspace{0.1cm}\\beta\\hspace{0.1cm}$ with the ordinary least squares method ."
   ]
  },
  {
   "cell_type": "markdown",
   "metadata": {},
   "source": []
  },
  {
   "cell_type": "markdown",
   "metadata": {},
   "source": [
    "#### High Multicollinearity"
   ]
  },
  {
   "cell_type": "markdown",
   "metadata": {},
   "source": [
    "There are predictors with high linear correlation between them. \n",
    "\n",
    "In this case is still possible estimate $\\beta$ because the multicolinearity isn´t perfect, but the variance of the $\\beta$ estimators, $Var(\\hat{\\beta}_j)$, will be too high, therefore the model will be very imprecise, so the results will not be good.\n",
    "\n"
   ]
  },
  {
   "cell_type": "markdown",
   "metadata": {},
   "source": []
  },
  {
   "cell_type": "markdown",
   "metadata": {},
   "source": [
    "---"
   ]
  },
  {
   "cell_type": "markdown",
   "metadata": {},
   "source": []
  },
  {
   "cell_type": "markdown",
   "metadata": {},
   "source": [
    "### Identification of multicollinearity <a class=\"anchor\" id=\"63\"></a>"
   ]
  },
  {
   "cell_type": "markdown",
   "metadata": {},
   "source": [
    "Identification of multicollinearity is carry out by several ways:\n"
   ]
  },
  {
   "cell_type": "markdown",
   "metadata": {},
   "source": [
    "\n",
    "If the linear regression model has only **quantitative** predictors:\n",
    "\n",
    "1. With the correlation matrix of the predictors $\\hspace{0.05cm} R$\n",
    "2. With  $VIF$ (variance increase factor )\n",
    "3. With  condition number of $\\hspace{0.05cm} R$\n"
   ]
  },
  {
   "cell_type": "markdown",
   "metadata": {},
   "source": [
    "\n",
    "If the linear model has **quantitative and categorical** predictors:\n",
    "\n",
    "1. With $GVIF$ (generalize variance increase factor) "
   ]
  },
  {
   "cell_type": "markdown",
   "metadata": {},
   "source": []
  },
  {
   "cell_type": "markdown",
   "metadata": {},
   "source": [
    "---"
   ]
  },
  {
   "cell_type": "markdown",
   "metadata": {},
   "source": []
  },
  {
   "cell_type": "markdown",
   "metadata": {},
   "source": [
    "### Identification of multicollinearity with  $R$ <a class=\"anchor\" id=\"64\"></a>"
   ]
  },
  {
   "cell_type": "markdown",
   "metadata": {},
   "source": [
    "The Pearson correlation matrix of a given data matrix $X=[X_1 ,..., X_p]$  is defined as:\n",
    "\n",
    "<br>\n",
    "\n",
    "$$\n",
    "R= \\begin{pmatrix}\n",
    "    r_{11} & r_{12}&...&r_{1p}\\\\\n",
    "    r_{21} & r_{22}&...&r_{2p}\\\\\n",
    "    &...&\\\\\n",
    "    r_{p1}& r_{p2}&...&r_{pp}\n",
    "\\end{pmatrix} = [r_{ij} ]\\hspace{0.05cm}_{i,j=1,..,p}\n",
    "$$ \n"
   ]
  },
  {
   "cell_type": "markdown",
   "metadata": {},
   "source": [
    "\n",
    "Where: $\\hspace{0.2cm} r_{i j} \\hspace{0.1cm}$ is the Pearson linear correlation between $X_i$ and $X_j$"
   ]
  },
  {
   "cell_type": "markdown",
   "metadata": {},
   "source": []
  },
  {
   "cell_type": "markdown",
   "metadata": {},
   "source": [
    "**Criteria :**  Identification of multicollinearity with  $R$"
   ]
  },
  {
   "cell_type": "markdown",
   "metadata": {},
   "source": [
    "If we have the following estimated linear regression model $\\hspace{0.1cm} Y=X\\cdot \\widehat{\\beta}   \\hspace{0.1cm}$  where $\\hspace{0.1cm}X=(1, X_1, ..., X_p)\\hspace{0.1cm}$ are all **quantitative** predictors."
   ]
  },
  {
   "cell_type": "markdown",
   "metadata": {},
   "source": [
    "We compute the Pearson linear correlation matrix of the predictors $\\hspace{0.1cm} [ X_1 ,..., X_p] \\hspace{0.2cm} \\Rightarrow \\hspace{0.2cm} R = [r_{ij} ]\\hspace{0.05cm}_{i,j=1,..,p}$"
   ]
  },
  {
   "cell_type": "markdown",
   "metadata": {},
   "source": []
  },
  {
   "cell_type": "markdown",
   "metadata": {},
   "source": [
    "\n",
    "If there is any **high** $\\hspace{0.1cm} r_{ij}\\hspace{0.1cm} (\\hspace{0.1cm} > 0.75 \\hspace{0.1cm})$  $\\hspace{0.1cm} \\Rightarrow\\hspace{0.1cm}$ possible multicollinearity problem"
   ]
  },
  {
   "cell_type": "markdown",
   "metadata": {},
   "source": []
  },
  {
   "cell_type": "markdown",
   "metadata": {},
   "source": [
    "----"
   ]
  },
  {
   "cell_type": "markdown",
   "metadata": {},
   "source": []
  },
  {
   "cell_type": "markdown",
   "metadata": {},
   "source": [
    "#### Identification of multicollinearity with $R$ in `R`"
   ]
  },
  {
   "cell_type": "markdown",
   "metadata": {},
   "source": [
    "We will suposse our linear regression model only has **quatitative** predictors.\n",
    "\n",
    "We need to compute the Pearson correlation matrix for these quantitative predictors."
   ]
  },
  {
   "cell_type": "code",
   "execution_count": null,
   "metadata": {},
   "outputs": [],
   "source": [
    "%%R\n",
    "\n",
    "R <- cor(data_R %>% select(-price, -quality))\n",
    "R"
   ]
  },
  {
   "cell_type": "markdown",
   "metadata": {},
   "source": []
  },
  {
   "cell_type": "markdown",
   "metadata": {},
   "source": [
    "Now we will compute a heatmap with the correlation matrix:"
   ]
  },
  {
   "cell_type": "code",
   "execution_count": null,
   "metadata": {},
   "outputs": [],
   "source": [
    "%%R\n",
    "\n",
    "library(GGally)\n",
    "\n",
    "ggcorr(data_R %>% select(-price, -quality), label=TRUE, digits=3)"
   ]
  },
  {
   "cell_type": "markdown",
   "metadata": {},
   "source": []
  },
  {
   "cell_type": "markdown",
   "metadata": {},
   "source": [
    "----"
   ]
  },
  {
   "cell_type": "markdown",
   "metadata": {},
   "source": []
  },
  {
   "cell_type": "markdown",
   "metadata": {},
   "source": [
    "#### Identification of multicollinearity with $R$ in `Python`"
   ]
  },
  {
   "cell_type": "code",
   "execution_count": null,
   "metadata": {},
   "outputs": [],
   "source": [
    "X = data_Python.loc[: , ['size_in_m_2',\t'longitude', 'latitude', 'no_of_bedrooms', 'no_of_bathrooms']]"
   ]
  },
  {
   "cell_type": "code",
   "execution_count": null,
   "metadata": {},
   "outputs": [],
   "source": [
    "R = X.corr()\n",
    "\n",
    "R"
   ]
  },
  {
   "cell_type": "markdown",
   "metadata": {},
   "source": []
  },
  {
   "cell_type": "code",
   "execution_count": null,
   "metadata": {},
   "outputs": [],
   "source": [
    "# pip install seaborn"
   ]
  },
  {
   "cell_type": "code",
   "execution_count": null,
   "metadata": {},
   "outputs": [],
   "source": [
    "import seaborn as sb\n",
    "\n",
    "corr = R\n",
    "\n",
    "sb.heatmap(corr, cmap=\"Blues\", annot=True)"
   ]
  },
  {
   "cell_type": "markdown",
   "metadata": {},
   "source": []
  },
  {
   "cell_type": "markdown",
   "metadata": {},
   "source": [
    "We can see there are several pairs of predictor with high correlation, such as  **(no\\_of\\_bathrooms ,  no\\_of\\_bedrooms )** , **(size\\_in\\_m\\_2 , no\\_of\\_bedrooms)**  , **(size\\_in\\_m\\_2 , no\\_of\\_bathrooms)** \n",
    "\n",
    "So following this criteria the linear regression model  **price ~ size\\_in\\_m\\_2  + longitude + latitude + no\\_of\\_bedrooms + no\\_of\\_bathrooms**  could has multicollinearity problems."
   ]
  },
  {
   "cell_type": "markdown",
   "metadata": {},
   "source": []
  },
  {
   "cell_type": "markdown",
   "metadata": {},
   "source": [
    "---"
   ]
  },
  {
   "cell_type": "markdown",
   "metadata": {},
   "source": []
  },
  {
   "cell_type": "markdown",
   "metadata": {},
   "source": [
    "### Identification of multicollinearity with $VIF$ <a class=\"anchor\" id=\"64\"></a>"
   ]
  },
  {
   "cell_type": "markdown",
   "metadata": {},
   "source": [
    "If we have the following estimated linear regression model $\\hspace{0.1cm} Y=X\\cdot \\widehat{\\beta}   \\hspace{0.1cm}$  where $\\hspace{0.1cm}X=(1, X_1, ..., X_p)\\hspace{0.1cm}$ are all **quantitative** predictors."
   ]
  },
  {
   "cell_type": "markdown",
   "metadata": {},
   "source": [
    "We compute the **inverse** of the Pearson correlation matrix of the predictors $\\hspace{0.1cm} [ X_1 ,..., X_p] \\hspace{0.2cm} \\Rightarrow \\hspace{0.2cm} R\\hspace{0.07cm}^{-1} $ \n"
   ]
  },
  {
   "cell_type": "markdown",
   "metadata": {},
   "source": []
  },
  {
   "cell_type": "markdown",
   "metadata": {},
   "source": [
    "The variance increase factor $\\left(VIF\\right)$ of the quantitative predictor $X_j$ is:\n"
   ]
  },
  {
   "cell_type": "markdown",
   "metadata": {},
   "source": [
    "\n",
    "$$VIF(X_j) \\hspace{0.05cm}=\\hspace{0.05cm} Diag(R\\hspace{0.07cm}^{-1})[\\hspace{0.1cm} j \\hspace{0.1cm}] \\hspace{0.05cm}=\\hspace{0.05cm} j \\text{ element of} \\hspace{0.1cm} Diag(R\\hspace{0.07cm}^{-1})$$\n"
   ]
  },
  {
   "cell_type": "markdown",
   "metadata": {},
   "source": [
    "\n",
    "And it´s fullfield that:\n",
    "\n",
    "$$ VIF(X_j) = \\dfrac{1}{1- R^2_{X_j}} $$\n"
   ]
  },
  {
   "cell_type": "markdown",
   "metadata": {},
   "source": [
    "\n",
    "Where:\n",
    "\n",
    "$R^2_{X_j}\\hspace{0.07cm} $ is the determination coefficient  $\\hspace{0.07cm} (R^2)\\hspace{0.07cm}$  of the linear regression model $\\hspace{0.1cm} X_i = \\beta_0 + \\beta_1 \\cdot  X_1 +...+ \\beta_{j-1}\\cdot X_{j-1} + \\beta_{i+1}\\cdot X_{i+1} + ... + \\beta_p \\cdot X_p$\n",
    "\n",
    "So, $\\hspace{0.07cm} R^2_{X_i} \\hspace{0.07cm}$  is the proportion of variability of $\\hspace{0.07cm}X_j\\hspace{0.07cm}$ explained by $\\hspace{0.07cm}X_1,..,X_{j-1},X_{j+1},..,X_p$\n",
    "\n"
   ]
  },
  {
   "cell_type": "markdown",
   "metadata": {},
   "source": []
  },
  {
   "cell_type": "markdown",
   "metadata": {},
   "source": [
    "\n",
    "**Criteria:** Identification of multicollinearity with $VIF$ \n"
   ]
  },
  {
   "cell_type": "markdown",
   "metadata": {},
   "source": [
    "\n",
    "If $\\hspace{0.15cm}VIF(X_j) > 10$ $\\hspace{0.15cm}\\left( R^2_{X_j} > 0.90 \\right)$ $\\hspace{0.15cm}\\Rightarrow\\hspace{0.15cm}$ **High** multicollinearity\n",
    "\n",
    "If $\\hspace{0.15cm}VIF(X_j)  \\in [4, 10]$  $\\hspace{0.15cm}\\left(R^2_{X_j} \\in [0.75 , 0.90]\\right)$ $\\hspace{0.15cm}\\Rightarrow\\hspace{0.15cm}$ **Medium** multicollinearity\n",
    "\n",
    "\n",
    "If  $\\hspace{0.15cm}VIF(X_j) < 4$ $\\hspace{0.15cm}\\left(R^2_{X_j} < 0.75 \\right)$ $\\hspace{0.15cm}\\Rightarrow\\hspace{0.15cm}$ **Low** multicollinearity\n"
   ]
  },
  {
   "cell_type": "markdown",
   "metadata": {},
   "source": []
  },
  {
   "cell_type": "markdown",
   "metadata": {},
   "source": [
    "---"
   ]
  },
  {
   "cell_type": "markdown",
   "metadata": {},
   "source": []
  },
  {
   "cell_type": "markdown",
   "metadata": {},
   "source": [
    "#### Identification of multicollinearity with $VIF$ in `R`"
   ]
  },
  {
   "cell_type": "code",
   "execution_count": null,
   "metadata": {},
   "outputs": [],
   "source": [
    "%%R\n",
    "\n",
    "R_inverse <- solve(R)\n",
    "\n",
    "diag(R_inverse)"
   ]
  },
  {
   "cell_type": "code",
   "execution_count": null,
   "metadata": {},
   "outputs": [],
   "source": [
    "%%R \n",
    "\n",
    "library(car)\n",
    "library(carData)\n",
    "\n",
    "vif(lm(price ~ size_in_m_2  + longitude + latitude + no_of_bedrooms + no_of_bathrooms , data=data_R))"
   ]
  },
  {
   "cell_type": "markdown",
   "metadata": {},
   "source": []
  },
  {
   "cell_type": "markdown",
   "metadata": {},
   "source": [
    "---"
   ]
  },
  {
   "cell_type": "markdown",
   "metadata": {},
   "source": []
  },
  {
   "cell_type": "markdown",
   "metadata": {},
   "source": [
    "#### Identification of multicollinearity with $VIF$ in `Python`"
   ]
  },
  {
   "cell_type": "code",
   "execution_count": null,
   "metadata": {},
   "outputs": [],
   "source": [
    "X = data_Python.loc[: , ['size_in_m_2',\t'longitude', 'latitude', 'no_of_bedrooms', 'no_of_bathrooms']]\n",
    "\n",
    "R = X.corr()"
   ]
  },
  {
   "cell_type": "code",
   "execution_count": null,
   "metadata": {},
   "outputs": [],
   "source": [
    "R_inv_diag = np.diagonal( np.linalg.inv( R ) )"
   ]
  },
  {
   "cell_type": "code",
   "execution_count": null,
   "metadata": {},
   "outputs": [],
   "source": [
    "predictors_names = X.columns"
   ]
  },
  {
   "cell_type": "code",
   "execution_count": null,
   "metadata": {},
   "outputs": [],
   "source": [
    "VIF_Python = pd.DataFrame({'predictor': predictors_names , 'VIF': R_inv_diag })\n",
    "VIF_Python = VIF_Python.set_index('predictor')\n",
    "VIF_Python"
   ]
  },
  {
   "cell_type": "markdown",
   "metadata": {},
   "source": [
    "There is a quantitative predictor with $\\hspace{0.1cm} VIF > 4 \\hspace{0.1cm}$ , but none with $\\hspace{0.1cm} VIF > 10 \\hspace{0.1cm}$ , so following this criteria the linear regression model $\\hspace{0.1cm}$  **price ~ size\\_in\\_m\\_2  + longitude + latitude + no\\_of\\_bedrooms + no\\_of\\_bathrooms** $\\hspace{0.1cm}$ has **medium** multicollinearity ."
   ]
  },
  {
   "cell_type": "markdown",
   "metadata": {},
   "source": []
  },
  {
   "cell_type": "markdown",
   "metadata": {},
   "source": [
    "---"
   ]
  },
  {
   "cell_type": "markdown",
   "metadata": {},
   "source": []
  },
  {
   "cell_type": "markdown",
   "metadata": {},
   "source": [
    "### Identification of multicollinearity with Condition Number of $\\hspace{0.05cm} R$ <a class=\"anchor\" id=\"66\"></a>"
   ]
  },
  {
   "cell_type": "markdown",
   "metadata": {},
   "source": [
    "If we have the following estimated linear regression model $\\hspace{0.1cm} Y=X\\cdot \\widehat{\\beta}   \\hspace{0.1cm}$  where $\\hspace{0.1cm}X=(1, X_1, ..., X_p)\\hspace{0.1cm}$ are all **quantitative** predictors."
   ]
  },
  {
   "cell_type": "markdown",
   "metadata": {},
   "source": [
    "We compute the Pearson linear correlation matrix of the predictors $\\hspace{0.1cm} [ X_1 ,..., X_p] \\hspace{0.2cm} \\Rightarrow \\hspace{0.2cm} R = [r_{ij} ]\\hspace{0.05cm}_{i,j=1,..,p}$"
   ]
  },
  {
   "cell_type": "markdown",
   "metadata": {},
   "source": []
  },
  {
   "cell_type": "markdown",
   "metadata": {},
   "source": [
    "The **condition number** of $R$ is defined as:\n",
    "\n",
    "$$cond(R) = \\sqrt{\\dfrac{max\\lbrace eigenvalues(R)\\rbrace}{min\\lbrace eigenvalues(R)\\rbrace}} $$"
   ]
  },
  {
   "cell_type": "markdown",
   "metadata": {},
   "source": []
  },
  {
   "cell_type": "markdown",
   "metadata": {},
   "source": [
    "**Criteria :**  Identification of multicollinearity with Condition Number of $\\hspace{0.05cm} R$\n"
   ]
  },
  {
   "cell_type": "markdown",
   "metadata": {},
   "source": [
    "\n",
    "If $\\hspace{0.1cm} cond(R) > 30$ $\\hspace{0.1cm} \\Rightarrow\\hspace{0.1cm}$ **High** multicollinearity\n",
    "\n",
    "If $\\hspace{0.1cm}cond(R) \\in (10 , 30)$ $\\hspace{0.1cm} \\Rightarrow\\hspace{0.1cm}$ **Medium** multicollinearity\n",
    "\n",
    "If $\\hspace{0.1cm}cond(R) < 10$ $\\hspace{0.1cm} \\Rightarrow\\hspace{0.1cm}$ **Low** multicollinearity"
   ]
  },
  {
   "cell_type": "markdown",
   "metadata": {},
   "source": []
  },
  {
   "cell_type": "markdown",
   "metadata": {},
   "source": [
    "---"
   ]
  },
  {
   "cell_type": "markdown",
   "metadata": {},
   "source": []
  },
  {
   "cell_type": "markdown",
   "metadata": {},
   "source": [
    "##### Identification of multicollinearity  with condition number of $\\hspace{0.05cm} R$ in `R`"
   ]
  },
  {
   "cell_type": "code",
   "execution_count": null,
   "metadata": {},
   "outputs": [],
   "source": [
    "%%R\n",
    "\n",
    "cond_R = sqrt(max(eigen(R)$values)/min(eigen(R)$values))\n",
    "cond_R"
   ]
  },
  {
   "cell_type": "markdown",
   "metadata": {},
   "source": []
  },
  {
   "cell_type": "markdown",
   "metadata": {},
   "source": [
    "---"
   ]
  },
  {
   "cell_type": "markdown",
   "metadata": {},
   "source": []
  },
  {
   "cell_type": "markdown",
   "metadata": {},
   "source": [
    "##### Identification of multicollinearity  with condition number of $\\hspace{0.05cm} R$ in `Python`"
   ]
  },
  {
   "cell_type": "code",
   "execution_count": null,
   "metadata": {},
   "outputs": [],
   "source": [
    "X = data_Python.loc[: , ['size_in_m_2',\t'longitude', 'latitude', 'no_of_bedrooms', 'no_of_bathrooms']]\n",
    "\n",
    "R = X.corr()"
   ]
  },
  {
   "cell_type": "code",
   "execution_count": null,
   "metadata": {},
   "outputs": [],
   "source": [
    "from numpy import linalg as LA\n",
    "\n",
    "eigenvalues , eigenvectors = LA.eig(R)"
   ]
  },
  {
   "cell_type": "code",
   "execution_count": null,
   "metadata": {},
   "outputs": [],
   "source": [
    "cond_R = math.sqrt(max(eigenvalues)/min(eigenvalues))\n",
    "cond_R"
   ]
  },
  {
   "cell_type": "markdown",
   "metadata": {},
   "source": [
    "We have get $ \\hspace{0.1cm} cond(R) = 4.33 < 10  \\hspace{0.1cm}$ , so following this criterion, the linear regression model $\\hspace{0.1cm}$ **price ~ size\\_in\\_m\\_2  + longitude + latitude + no\\_of\\_bedrooms + no\\_of\\_bathrooms** $\\hspace{0.1cm}$ has **low** multicollinearity"
   ]
  },
  {
   "cell_type": "markdown",
   "metadata": {},
   "source": []
  },
  {
   "cell_type": "markdown",
   "metadata": {},
   "source": [
    "---"
   ]
  },
  {
   "cell_type": "markdown",
   "metadata": {},
   "source": []
  },
  {
   "cell_type": "markdown",
   "metadata": {},
   "source": [
    "### Identification of multicollinearity with $GVIF$ <a class=\"anchor\" id=\"67\"></a>"
   ]
  },
  {
   "cell_type": "markdown",
   "metadata": {},
   "source": [
    "$VIF$ is only a good multicollinearity measure when **all** the **predictors** of the model are **quantitative**.\n"
   ]
  },
  {
   "cell_type": "markdown",
   "metadata": {},
   "source": [
    "\n",
    "$GVIF$ is the measure proposed by Fox and Monette (1992) to deal with linear regression models that have **categorical predictors**.\n"
   ]
  },
  {
   "cell_type": "markdown",
   "metadata": {},
   "source": []
  },
  {
   "cell_type": "markdown",
   "metadata": {},
   "source": [
    "Suppose we have the following estimated linear regression model $\\hspace{0.1cm} Y=X\\cdot \\widehat{\\beta}   \\hspace{0.1cm}$  where $\\hspace{0.1cm}X=(1, X_1, ..., X_p)\\hspace{0.1cm}$ are some **quantitative** and others **categorical** predictors."
   ]
  },
  {
   "cell_type": "markdown",
   "metadata": {},
   "source": []
  },
  {
   "cell_type": "markdown",
   "metadata": {},
   "source": [
    "--- "
   ]
  },
  {
   "cell_type": "markdown",
   "metadata": {},
   "source": []
  },
  {
   "cell_type": "markdown",
   "metadata": {},
   "source": [
    " If $X_j$ is a **quantitative** predictor"
   ]
  },
  {
   "cell_type": "markdown",
   "metadata": {},
   "source": [
    "\n",
    "We have to consider the following matrix:\n",
    "\n",
    "- $\\mathcal{X}_1 = [\\hspace{0.1cm} X_j \\hspace{0.1cm}]$\n",
    "\n",
    "- $\\mathcal{X}_2 = [\\hspace{0.1cm} X_1 , .. , X_{j-1}, X_{j+1},.., X_p \\hspace{0.1cm}]$\n",
    "\n",
    "- $\\mathcal{X}_3 = [\\hspace{0.1cm} X_1,..,X_j,.., X_p \\hspace{0.1cm}] $\n",
    "\n"
   ]
  },
  {
   "cell_type": "markdown",
   "metadata": {},
   "source": [
    " \n",
    "And the following Pearson correlation matrix:\n",
    "\n",
    "- $R_1$ is the Pearson correlation matrix of $\\mathcal{X}_1$ \n",
    "\n",
    "- $R_2$ is the Pearson correlation matrix of $\\mathcal{X}_2$\n",
    "\n",
    "- $R_3$ is the Pearson correlation matrix of $\\mathcal{X}_3$\n",
    "\n",
    " \n"
   ]
  },
  {
   "cell_type": "markdown",
   "metadata": {},
   "source": []
  },
  {
   "cell_type": "markdown",
   "metadata": {},
   "source": [
    "\n",
    "Then,  $\\hspace{0.1cm} GVIF \\hspace{0.1cm}$ of $\\hspace{0.1cm} X_j \\hspace{0.1cm}$ is defined as:\n"
   ]
  },
  {
   "cell_type": "markdown",
   "metadata": {},
   "source": [
    "\n",
    "$$ GVIF(X_j) = det(R_1) \\cdot \\dfrac{det(R_2)}{det(R_3)} $$ \n",
    "\n",
    " "
   ]
  },
  {
   "cell_type": "markdown",
   "metadata": {},
   "source": []
  },
  {
   "cell_type": "markdown",
   "metadata": {},
   "source": [
    "----"
   ]
  },
  {
   "cell_type": "markdown",
   "metadata": {},
   "source": []
  },
  {
   "cell_type": "markdown",
   "metadata": {},
   "source": [
    "If $X_j$ is a **categorical** predictor with $r$ categories, $\\hspace{0.1cm} Range(X_j) = \\lbrace 0,1,..., r-1 \\rbrace \\hspace{0.1cm}$ , that enter in the model with the dummy variables $\\hspace{0.1cm} X_{j1},X_{j2},...,X_{j(r-1)}$\n"
   ]
  },
  {
   "cell_type": "markdown",
   "metadata": {},
   "source": [
    "\n",
    "\n",
    "We have to consider the following matrix:\n",
    "\n",
    "- $\\mathcal{X}_1 = [\\hspace{0.1cm} X_{j1},X_{j2},..,X_{j(r-1)} \\hspace{0.1cm}]$\n",
    "\n",
    "- $\\mathcal{X}_2 = [\\hspace{0.1cm} X_1 , .. , X_{j-1}, X_{j+1},.., X_p \\hspace{0.1cm}]$\n",
    "\n",
    "- $\\mathcal{X}_3 = [\\hspace{0.1cm} X_1,..,X_{j-1},X_{j1},X_{j2},..,X_{j(r-1)}, X_{j+1},.., X_p \\hspace{0.1cm}] $\n",
    "\n"
   ]
  },
  {
   "cell_type": "markdown",
   "metadata": {},
   "source": [
    "\n",
    "\n",
    "And the following Pearson correlation matrix:\n",
    "\n",
    "- $R_1$ is the Pearson correlation matrix of $\\mathcal{X}_1$ \n",
    "\n",
    "- $R_2$ is the Pearson correlation matrix of $\\mathcal{X}_2$\n",
    "\n",
    "- $R_3$ is the Pearson correlation matrix of $\\mathcal{X}_3$\n",
    "\n"
   ]
  },
  {
   "cell_type": "markdown",
   "metadata": {},
   "source": []
  },
  {
   "cell_type": "markdown",
   "metadata": {},
   "source": [
    "Then, $\\hspace{0.05cm} GVIF \\hspace{0.05cm}$ of $\\hspace{0.05cm} X_j \\hspace{0.05cm}$ is defined as:\n"
   ]
  },
  {
   "cell_type": "markdown",
   "metadata": {},
   "source": [
    "\n",
    "$$ GVIF(X_j) = det(R_1) \\cdot \\dfrac{det(R_2)}{det(R_3)} $$ \n",
    "\n",
    " "
   ]
  },
  {
   "cell_type": "markdown",
   "metadata": {},
   "source": []
  },
  {
   "cell_type": "markdown",
   "metadata": {},
   "source": [
    "----"
   ]
  },
  {
   "cell_type": "markdown",
   "metadata": {},
   "source": []
  },
  {
   "cell_type": "markdown",
   "metadata": {},
   "source": [
    "**Criteria:** Identification of multicollinearity with $GVIF$\n"
   ]
  },
  {
   "cell_type": "markdown",
   "metadata": {},
   "source": [
    "In this criteria the key quantity is $\\hspace{0.15cm} GVIF(X_j)^{1/2 df}$\n",
    "\n",
    "Where: $\\hspace{0.15cm}df\\hspace{0.1cm}$ is the number of parameters that enter in the linear regression model when $\\hspace{0.1cm} X_j\\hspace{0.1cm}$ is added as predictor"
   ]
  },
  {
   "cell_type": "markdown",
   "metadata": {},
   "source": []
  },
  {
   "cell_type": "markdown",
   "metadata": {},
   "source": [
    "\n",
    "If $X_j$ is a **quantitative** predictor $\\hspace{0.1cm} ( \\Rightarrow df=1)$  :\n"
   ]
  },
  {
   "cell_type": "markdown",
   "metadata": {},
   "source": [
    "\n",
    "If $\\hspace{0.15cm} GVIF(X_j)^{1/2} > \\sqrt{10} = 3.16$  $\\hspace{0.1cm}\\Rightarrow\\hspace{0.1cm}$ **High** multicollinearity\n",
    "\n",
    "If $\\hspace{0.15cm} GVIF(X_j)^{1/2}  \\in [\\sqrt{4}, \\sqrt{10}]= [2 \\hspace{0.1cm},\\hspace{0.1cm} 3.16]$    $\\hspace{0.1cm}  \\Rightarrow\\hspace{0.1cm}$ **Medium** multicollinearity\n",
    "\n",
    "\n",
    "If  $\\hspace{0.15cm} GVIF(X_j)^{1/2} < \\sqrt{4} = 2$  $\\hspace{0.1cm}\\Rightarrow\\hspace{0.1cm}$ **Low** multicollinearity"
   ]
  },
  {
   "cell_type": "markdown",
   "metadata": {},
   "source": []
  },
  {
   "cell_type": "markdown",
   "metadata": {},
   "source": [
    "If $X_j$ is a **categorical** predictor with $2$ categories $\\hspace{0.1cm} ( \\Rightarrow df=2-1=1)$ :\n"
   ]
  },
  {
   "cell_type": "markdown",
   "metadata": {},
   "source": [
    "\n",
    "If $\\hspace{0.15cm} GVIF(X_j)^{1/2} > 10^{1/2} = 3.16 $  $\\hspace{0.1cm}\\Rightarrow\\hspace{0.1cm}$ **High** multicollinearity\n",
    "\n",
    "If $\\hspace{0.15cm} GVIF(X_j)^{1/2}  \\in [4^{1/2}, 10^{1/2}] = [2 \\hspace{0.1cm} , \\hspace{0.1cm}  3.16]$    $\\hspace{0.1cm}  \\Rightarrow\\hspace{0.1cm}$ **Medium** multicollinearity\n",
    "\n",
    "\n",
    "If  $\\hspace{0.15cm} GVIF(X_j)^{1/2} < 4^{1/2} = 2$  $\\hspace{0.1cm}\\Rightarrow\\hspace{0.1cm}$ **Low** multicollinearity"
   ]
  },
  {
   "cell_type": "markdown",
   "metadata": {},
   "source": []
  },
  {
   "cell_type": "markdown",
   "metadata": {},
   "source": [
    "If $X_j$ is a **categorical** predictor with $3$ categories $\\hspace{0.1cm} ( \\Rightarrow df=3-1=2 )$ :\n"
   ]
  },
  {
   "cell_type": "markdown",
   "metadata": {},
   "source": [
    "\n",
    "If $\\hspace{0.15cm} GVIF(X_j)^{1/4} > 10^{1/4} = 1.78$  $\\hspace{0.1cm}\\Rightarrow\\hspace{0.1cm}$ **High** multicollinearity\n",
    "\n",
    "If $\\hspace{0.15cm} GVIF(X_j)^{1/4}  \\in [4^{1/4}, 10^{1/4}] = [1.41 \\hspace{0.1cm} , \\hspace{0.1cm}  1.78]$    $\\hspace{0.1cm}  \\Rightarrow\\hspace{0.1cm}$ **Medium** multicollinearity\n",
    "\n",
    "\n",
    "If  $\\hspace{0.15cm} GVIF(X_j)^{1/4} < 4^{1/4} = 1.41$  $\\hspace{0.1cm}\\Rightarrow\\hspace{0.1cm}$ **Low** multicollinearity"
   ]
  },
  {
   "cell_type": "markdown",
   "metadata": {},
   "source": []
  },
  {
   "cell_type": "markdown",
   "metadata": {},
   "source": [
    "If $X_j$ is a **categorical** predictor with $4$ categories $(\\hspace{0.1cm} \\Rightarrow df=4-1=3 )$ :\n"
   ]
  },
  {
   "cell_type": "markdown",
   "metadata": {},
   "source": [
    "\n",
    "If $\\hspace{0.15cm} GVIF(X_j)^{1/6} > 10^{1/6} = 1.47$  $\\hspace{0.1cm}\\Rightarrow\\hspace{0.1cm}$ **High** multicollinearity\n",
    "\n",
    "If $\\hspace{0.15cm} GVIF(X_j)^{1/6}  \\in [4^{1/6}, 10^{1/6}] = [1.26 \\hspace{0.1cm} , \\hspace{0.1cm}  1.47]$    $\\hspace{0.1cm}  \\Rightarrow\\hspace{0.1cm}$ **Medium** multicollinearity\n",
    "\n",
    "\n",
    "If  $\\hspace{0.15cm} GVIF(X_j)^{1/6} < 4^{1/6} = 1.26$  $\\hspace{0.1cm}\\Rightarrow\\hspace{0.1cm}$ **Low** multicollinearity"
   ]
  },
  {
   "cell_type": "markdown",
   "metadata": {},
   "source": []
  },
  {
   "cell_type": "markdown",
   "metadata": {},
   "source": [
    "If $X_j$ is a **categorical** predictor with $r$ categories $(\\hspace{0.1cm} \\Rightarrow df=r-1 )$ :\n"
   ]
  },
  {
   "cell_type": "markdown",
   "metadata": {},
   "source": [
    "\n",
    "If $\\hspace{0.15cm} GVIF(X_j)^{1/(2(r-1))} > 10^{1/(2(r-1))} $  $\\hspace{0.1cm}\\Rightarrow\\hspace{0.1cm}$ **High** multicollinearity\n",
    "\n",
    "If $\\hspace{0.15cm} GVIF(X_j)^{1/(2(r-1))}  \\in [4^{1/(2(r-1))}, 10^{1/(2(r-1))}]$    $\\hspace{0.1cm}  \\Rightarrow\\hspace{0.1cm}$ **Medium** multicollinearity\n",
    "\n",
    "\n",
    "If  $\\hspace{0.15cm} GVIF(X_j)^{1/(2(r-1))} < 4^{1/(2(r-1))}$  $\\hspace{0.1cm}\\Rightarrow\\hspace{0.1cm}$ **Low** multicollinearity"
   ]
  },
  {
   "cell_type": "markdown",
   "metadata": {},
   "source": []
  },
  {
   "cell_type": "markdown",
   "metadata": {},
   "source": [
    "---"
   ]
  },
  {
   "cell_type": "markdown",
   "metadata": {},
   "source": []
  },
  {
   "cell_type": "markdown",
   "metadata": {},
   "source": [
    "##### Identification of multicollinearity with $GVIF$ in `R`"
   ]
  },
  {
   "cell_type": "code",
   "execution_count": null,
   "metadata": {},
   "outputs": [],
   "source": [
    "%%R \n",
    "\n",
    "library(car)\n",
    "library(carData)\n",
    "\n",
    "vif(lm(price ~ size_in_m_2  + longitude + latitude + no_of_bedrooms + no_of_bathrooms + quality , data=data_R))"
   ]
  },
  {
   "cell_type": "markdown",
   "metadata": {},
   "source": []
  },
  {
   "cell_type": "markdown",
   "metadata": {},
   "source": [
    "---"
   ]
  },
  {
   "cell_type": "markdown",
   "metadata": {},
   "source": []
  },
  {
   "cell_type": "markdown",
   "metadata": {},
   "source": [
    "##### Identification of multicollinearity with $GVIF$ in `Python`"
   ]
  },
  {
   "cell_type": "markdown",
   "metadata": {},
   "source": []
  },
  {
   "cell_type": "markdown",
   "metadata": {},
   "source": [
    "$GVIF$ for the **categorical** predictor $quality$"
   ]
  },
  {
   "cell_type": "code",
   "execution_count": null,
   "metadata": {},
   "outputs": [],
   "source": [
    "X = data_Python.loc[: , ['size_in_m_2',\t'longitude', 'latitude', 'no_of_bedrooms', 'no_of_bathrooms', 'quality']]"
   ]
  },
  {
   "cell_type": "code",
   "execution_count": null,
   "metadata": {},
   "outputs": [],
   "source": [
    "X1 = varcharProcessing(X).loc[:, ['quality_1', 'quality_2', 'quality_3']]\n",
    "X2 = X.drop({'quality'}, axis=1)\n",
    "X3 = varcharProcessing(X).drop({'intercept'}, axis=1)\n",
    "\n",
    "GVIF_quality = np.linalg.det(X1.corr()) * np.linalg.det(X2.corr()) / np.linalg.det(X3.corr())\n",
    "\n",
    "df_quality = X1.shape[1]\n",
    "\n",
    "GVIF_quality_scaled = GVIF_quality**(1/(2*df_quality))"
   ]
  },
  {
   "cell_type": "markdown",
   "metadata": {},
   "source": []
  },
  {
   "cell_type": "markdown",
   "metadata": {},
   "source": [
    "$GVIF$ for the rest of **quantitative** predictors"
   ]
  },
  {
   "cell_type": "code",
   "execution_count": null,
   "metadata": {},
   "outputs": [],
   "source": [
    "X = data_Python.loc[: , ['size_in_m_2',\t'longitude', 'latitude', 'no_of_bedrooms', 'no_of_bathrooms', 'quality']]"
   ]
  },
  {
   "cell_type": "code",
   "execution_count": null,
   "metadata": {},
   "outputs": [],
   "source": [
    "X1 = X[['size_in_m_2']]  \n",
    "X2 = X.drop(['size_in_m_2'], axis=1) \n",
    "X3 = X\n",
    " \n",
    "GVIF_size_in_m_2 = np.linalg.det(X1.corr()) * np.linalg.det(X2.corr()) / np.linalg.det( X3.corr() )\n",
    "\n",
    "df_size_in_m_2 = X1.shape[1]\n",
    "\n",
    "GVIF_size_in_m_2_scaled = GVIF_size_in_m_2**(1/(2*df_size_in_m_2))"
   ]
  },
  {
   "cell_type": "code",
   "execution_count": null,
   "metadata": {},
   "outputs": [],
   "source": [
    "X1 = X[['longitude']]  \n",
    "X2 = X.drop(['longitude'], axis=1) \n",
    "X3 = X\n",
    "\n",
    " \n",
    "GVIF_longitude = np.linalg.det(X1.corr()) * np.linalg.det(X2.corr()) / np.linalg.det( X3.corr() )\n",
    "\n",
    "df_longitude = X1.shape[1]\n",
    "\n",
    "GVIF_longitude_scaled = GVIF_longitude**(1/(2*df_longitude))"
   ]
  },
  {
   "cell_type": "code",
   "execution_count": null,
   "metadata": {},
   "outputs": [],
   "source": [
    "X1 = X[['latitude']]  \n",
    "X2 = X.drop(['latitude'], axis=1) \n",
    "X3 = X\n",
    " \n",
    "GVIF_latitude = np.linalg.det(X1.corr()) * np.linalg.det(X2.corr()) / np.linalg.det(  X3.corr() )\n",
    "\n",
    "df_latitude = X1.shape[1]\n",
    "\n",
    "GVIF_latitude_scaled = GVIF_latitude**(1/(2*df_latitude))"
   ]
  },
  {
   "cell_type": "code",
   "execution_count": null,
   "metadata": {},
   "outputs": [],
   "source": [
    "X1 = X[['no_of_bedrooms']]  \n",
    "X2 = X.drop(['no_of_bedrooms'], axis=1) \n",
    "X3 = X\n",
    "\n",
    "GVIF_no_of_bedrooms = np.linalg.det(X1.corr()) * np.linalg.det(X2.corr()) / np.linalg.det( X3.corr() )\n",
    "\n",
    "df_no_of_bedrooms = X1.shape[1]\n",
    "\n",
    "GVIF_no_of_bedrooms_scaled = GVIF_no_of_bedrooms**(1/(2*df_no_of_bedrooms))"
   ]
  },
  {
   "cell_type": "code",
   "execution_count": null,
   "metadata": {},
   "outputs": [],
   "source": [
    "X1 = X[['no_of_bathrooms']]  \n",
    "X2 = X.drop(['no_of_bathrooms'], axis=1) \n",
    "X3 = X\n",
    "\n",
    "GVIF_no_of_bathrooms = np.linalg.det(X1.corr()) * np.linalg.det(X2.corr()) / np.linalg.det( X3.corr())\n",
    "\n",
    "df_no_of_bathrooms = X1.shape[1]\n",
    "\n",
    "GVIF_no_of_bathrooms_scaled = GVIF_no_of_bathrooms**(1/(2*df_no_of_bathrooms))"
   ]
  },
  {
   "cell_type": "code",
   "execution_count": null,
   "metadata": {},
   "outputs": [],
   "source": [
    "a = X.columns\n",
    "\n",
    "b = [GVIF_size_in_m_2, GVIF_longitude, GVIF_latitude, GVIF_no_of_bedrooms, GVIF_no_of_bathrooms, GVIF_quality]\n",
    "\n",
    "c = [GVIF_size_in_m_2_scaled, GVIF_longitude_scaled, GVIF_latitude_scaled, GVIF_no_of_bedrooms_scaled, GVIF_no_of_bathrooms_scaled, GVIF_quality_scaled]\n",
    "\n",
    "d = [df_size_in_m_2, df_longitude, df_latitude, df_no_of_bedrooms, df_no_of_bathrooms, df_quality]\n",
    "\n",
    "GVIF_Python_df = pd.DataFrame({'predictor': a , 'GVIF': b , 'GVIF^(1/(2*df))': c , 'df': d})\n",
    "\n",
    "GVIF_Python_df"
   ]
  },
  {
   "cell_type": "markdown",
   "metadata": {},
   "source": [
    "In this case all the quantitative predictors have $\\hspace{0.1cm} GVIF^{1/2df} < 3.16 \\hspace{0.1cm}$, but $\\hspace{0.1cm} GVIF^{1/2df} \\hspace{0.1cm}$ of $\\hspace{0.1cm}$ **no\\_of\\_bathrooms** $\\hspace{0.1cm}$ is $\\hspace{0.1cm} 2.14 > 2$ $\\hspace{0.1cm} \\Rightarrow \\hspace{0.1cm} $  **medium** multicollinearity\n",
    "\n",
    "On the other hand the 4-ary categorical predictor **quality** has $\\hspace{0.1cm} GVIF^{1/2df}\\hspace{0.1cm} = 1.01 < 1.26$ $\\hspace{0.1cm} \\Rightarrow \\hspace{0.1cm} $  **low** multicollinearity\n",
    "\n",
    "So using the GVIF method, we can conclude that there is a **medium** multicollinearity between the predictors of the model  $\\hspace{0.1cm}$ **price ~ size\\_in\\_m\\_2  + longitude + latitude + no\\_of\\_bedrooms + no\\_of\\_bathrooms** $\\hspace{0.1cm}$"
   ]
  },
  {
   "cell_type": "markdown",
   "metadata": {},
   "source": []
  },
  {
   "cell_type": "markdown",
   "metadata": {},
   "source": [
    "---"
   ]
  },
  {
   "cell_type": "markdown",
   "metadata": {},
   "source": []
  },
  {
   "cell_type": "markdown",
   "metadata": {},
   "source": [
    "## Checking Error Assumptions <a class=\"anchor\" id=\"68\"></a>"
   ]
  },
  {
   "cell_type": "markdown",
   "metadata": {},
   "source": [
    "- $\\varepsilon_i \\sim N(0,\\sigma) \\hspace{0.4cm} \\forall \\hspace{0.1cm} i=1,...,n $\n",
    "  \n",
    "- $corr(\\varepsilon_i , \\varepsilon_j)=0 \\hspace{0.4cm} \\forall \\hspace{0.1cm} i\\neq j =1,...,n $"
   ]
  },
  {
   "cell_type": "markdown",
   "metadata": {},
   "source": []
  },
  {
   "cell_type": "markdown",
   "metadata": {},
   "source": [
    "### Checking Error Constant Variance <a class=\"anchor\" id=\"69\"></a>"
   ]
  },
  {
   "cell_type": "markdown",
   "metadata": {},
   "source": [
    "It is not possible to check the assumption of constant variance just by examining\n",
    "the residuals alone, some will be large and some will be small, but this proves nothing. We need to check whether the variance in the residuals is related to some\n",
    "other quantity.\n",
    "\n",
    "The most useful diagnostic is a plot of $\\hat{\\varepsilon}$ vs $\\hat{y}$"
   ]
  },
  {
   "cell_type": "markdown",
   "metadata": {},
   "source": [
    "Interpretation of the graph $\\hat{\\varepsilon}$ vs $\\hat{y}$:\n",
    "\n",
    "- If the dispersion of the points is uniform random $\\Rightarrow$ There is no problem (evidence of constant variance of the error).\n",
    "\n",
    "- If we can see a cone shape at the points $\\Rightarrow$ Problem (evidence of error not constant variance)\n",
    "\n",
    "<br>\n",
    "\n",
    "This plot can also provide evidence of nonlinearity between the response variable and the predictors:\n",
    "\n",
    "- If we can see a non-linear shape at the points $\\Rightarrow$ evidence of non-linearity between the response variable and the predictors"
   ]
  },
  {
   "cell_type": "markdown",
   "metadata": {},
   "source": []
  },
  {
   "cell_type": "markdown",
   "metadata": {},
   "source": [
    "---"
   ]
  },
  {
   "cell_type": "markdown",
   "metadata": {},
   "source": []
  },
  {
   "cell_type": "markdown",
   "metadata": {},
   "source": [
    "##### Checking Error Constant Variance in `R`"
   ]
  },
  {
   "cell_type": "code",
   "execution_count": null,
   "metadata": {},
   "outputs": [],
   "source": [
    "%%R\n",
    "\n",
    "ggplot() +\n",
    "geom_point(mapping = aes(x=model_R$fitted.values , y = estimated_errors ), color=\"blue\")+\n",
    "geom_hline(yintercept =0 , color=\"red\")"
   ]
  },
  {
   "cell_type": "markdown",
   "metadata": {},
   "source": []
  },
  {
   "cell_type": "markdown",
   "metadata": {},
   "source": [
    "---"
   ]
  },
  {
   "cell_type": "markdown",
   "metadata": {},
   "source": []
  },
  {
   "cell_type": "markdown",
   "metadata": {},
   "source": [
    "##### Checking Error Constant Variance in `Python`"
   ]
  },
  {
   "cell_type": "code",
   "execution_count": null,
   "metadata": {},
   "outputs": [],
   "source": [
    "from plotnine import ggplot, aes, geom_line, geom_point, geom_smooth, geom_histogram, geom_bar, geom_boxplot, scale_y_continuous, scale_x_continuous, scale_x_discrete, scale_y_discrete, labs, after_stat,  geom_vline, scale_color_manual, theme_gray, theme_xkcd, scale_color_identity, geom_hline, facet_wrap, scale_fill_discrete, scale_fill_manual,  scale_fill_hue, guides, guide_legend, geom_hline, stat_function "
   ]
  },
  {
   "cell_type": "code",
   "execution_count": null,
   "metadata": {},
   "outputs": [],
   "source": [
    "(\n",
    "ggplot()\n",
    "+ geom_point(mapping = aes(x=predictions , y = df_predictions_Python['estimated_errors'] ), color=\"green\")\n",
    "+ geom_hline(yintercept =0 , color=\"red\")\n",
    "+ labs(x='response predictions' , y='estimated errors')\n",
    ")"
   ]
  },
  {
   "cell_type": "markdown",
   "metadata": {},
   "source": [
    "Since we can see a cone shape at the points, we cannot accept the constant error variance assumption $Var(\\varepsilon)=\\sigma^2$."
   ]
  },
  {
   "cell_type": "markdown",
   "metadata": {},
   "source": []
  },
  {
   "cell_type": "markdown",
   "metadata": {},
   "source": [
    "----"
   ]
  },
  {
   "cell_type": "markdown",
   "metadata": {},
   "source": []
  },
  {
   "cell_type": "markdown",
   "metadata": {},
   "source": [
    "### Checking Null Error Mean <a class=\"anchor\" id=\"70\"></a>"
   ]
  },
  {
   "cell_type": "markdown",
   "metadata": {},
   "source": [
    "We are going to use the typical t-test to verify this assumption."
   ]
  },
  {
   "cell_type": "markdown",
   "metadata": {},
   "source": [
    "First we compute the  estimated errors mean to get first idea:"
   ]
  },
  {
   "cell_type": "code",
   "execution_count": null,
   "metadata": {},
   "outputs": [],
   "source": [
    "df_predictions_Python['estimated_errors'].mean()"
   ]
  },
  {
   "cell_type": "markdown",
   "metadata": {},
   "source": []
  },
  {
   "cell_type": "markdown",
   "metadata": {},
   "source": [
    "---"
   ]
  },
  {
   "cell_type": "markdown",
   "metadata": {},
   "source": []
  },
  {
   "cell_type": "markdown",
   "metadata": {},
   "source": [
    "##### Checking Null Error Mean in `R`"
   ]
  },
  {
   "cell_type": "code",
   "execution_count": null,
   "metadata": {},
   "outputs": [],
   "source": [
    "%%R\n",
    "\n",
    "t.test(x=estimated_errors , mu=0)"
   ]
  },
  {
   "cell_type": "markdown",
   "metadata": {},
   "source": []
  },
  {
   "cell_type": "markdown",
   "metadata": {},
   "source": [
    "---"
   ]
  },
  {
   "cell_type": "markdown",
   "metadata": {},
   "source": []
  },
  {
   "cell_type": "markdown",
   "metadata": {},
   "source": [
    "##### Checking Null Error Mean in `Python`"
   ]
  },
  {
   "cell_type": "code",
   "execution_count": null,
   "metadata": {},
   "outputs": [],
   "source": [
    "# pip install --upgrade pingouin"
   ]
  },
  {
   "cell_type": "code",
   "execution_count": null,
   "metadata": {},
   "outputs": [],
   "source": [
    "import pingouin as pg\n",
    "\n",
    "pg.ttest(x= df_predictions_Python['estimated_errors'] , y=0)"
   ]
  },
  {
   "cell_type": "markdown",
   "metadata": {},
   "source": []
  },
  {
   "cell_type": "markdown",
   "metadata": {},
   "source": [
    "For any significance level we can accept that the errors mean is zero (0)"
   ]
  },
  {
   "cell_type": "markdown",
   "metadata": {},
   "source": []
  },
  {
   "cell_type": "markdown",
   "metadata": {},
   "source": [
    "---"
   ]
  },
  {
   "cell_type": "markdown",
   "metadata": {},
   "source": []
  },
  {
   "cell_type": "markdown",
   "metadata": {},
   "source": [
    "### Checking Error Normality <a class=\"anchor\" id=\"71\"></a>"
   ]
  },
  {
   "cell_type": "markdown",
   "metadata": {},
   "source": [
    "First we are going to check the error normality assumption using the **histogram method**:"
   ]
  },
  {
   "cell_type": "markdown",
   "metadata": {},
   "source": []
  },
  {
   "cell_type": "markdown",
   "metadata": {},
   "source": [
    "#### Checking Error Normality in `R` with histogram method"
   ]
  },
  {
   "cell_type": "code",
   "execution_count": null,
   "metadata": {},
   "outputs": [],
   "source": [
    "%%R\n",
    "\n",
    "ggplot(data = as.data.frame(estimated_errors) ,\n",
    " mapping = aes(x = estimated_errors)) +\n",
    " geom_histogram(aes(y =..density..), color=\"black\", fill=\"orange\",\n",
    " position = 'identity') +\n",
    " stat_function( fun = dnorm , \n",
    " args = list(mean = mean(estimated_errors), sd = sd(estimated_errors)),\n",
    " lwd = 1.2,  col = 'blue'\n",
    " )"
   ]
  },
  {
   "cell_type": "markdown",
   "metadata": {},
   "source": []
  },
  {
   "cell_type": "markdown",
   "metadata": {},
   "source": [
    "---"
   ]
  },
  {
   "cell_type": "markdown",
   "metadata": {},
   "source": []
  },
  {
   "cell_type": "markdown",
   "metadata": {},
   "source": [
    "#### Checking Error Normality in `Python` with histogram method"
   ]
  },
  {
   "cell_type": "code",
   "execution_count": null,
   "metadata": {},
   "outputs": [],
   "source": [
    "import scipy.stats as stats\n",
    "(\n",
    "ggplot(data = df_predictions_Python ,\n",
    " mapping = aes(x = df_predictions_Python['estimated_errors'])) \n",
    "+ geom_histogram(aes(y = after_stat('density')), color=\"black\", fill=\"pink\", position = 'identity', bins=35) \n",
    "+ stat_function( fun = stats.norm.pdf , args = dict( loc=mean(df_predictions_Python['estimated_errors']), scale=sd(df_predictions_Python['estimated_errors'])) , color='blue', size=1 )\n",
    ")"
   ]
  },
  {
   "cell_type": "markdown",
   "metadata": {},
   "source": []
  },
  {
   "cell_type": "markdown",
   "metadata": {},
   "source": [
    "---"
   ]
  },
  {
   "cell_type": "markdown",
   "metadata": {},
   "source": []
  },
  {
   "cell_type": "markdown",
   "metadata": {},
   "source": [
    "Now we are going to check the error normality assumption using the Shapiro statistical test:"
   ]
  },
  {
   "cell_type": "markdown",
   "metadata": {},
   "source": [
    "#### Checking Error Normality in `R` with Shapiro test"
   ]
  },
  {
   "cell_type": "code",
   "execution_count": null,
   "metadata": {},
   "outputs": [],
   "source": [
    "%%R\n",
    "\n",
    "shapiro.test(estimated_errors)"
   ]
  },
  {
   "cell_type": "markdown",
   "metadata": {},
   "source": []
  },
  {
   "cell_type": "markdown",
   "metadata": {},
   "source": [
    "----"
   ]
  },
  {
   "cell_type": "markdown",
   "metadata": {},
   "source": []
  },
  {
   "cell_type": "markdown",
   "metadata": {},
   "source": [
    "#### Checking Error Normality in `Python`  with Shapiro test"
   ]
  },
  {
   "cell_type": "code",
   "execution_count": null,
   "metadata": {},
   "outputs": [],
   "source": [
    "shapiro_test = stats.shapiro(df_predictions_Python['estimated_errors'])\n",
    "shapiro_test"
   ]
  },
  {
   "cell_type": "markdown",
   "metadata": {},
   "source": []
  },
  {
   "cell_type": "markdown",
   "metadata": {},
   "source": [
    "For any significance level we have to reject the errors normality hypothesis."
   ]
  },
  {
   "cell_type": "markdown",
   "metadata": {},
   "source": []
  },
  {
   "cell_type": "markdown",
   "metadata": {},
   "source": [
    "----"
   ]
  },
  {
   "cell_type": "markdown",
   "metadata": {},
   "source": []
  },
  {
   "cell_type": "markdown",
   "metadata": {},
   "source": [
    "### Checking Null Error Correlation <a class=\"anchor\" id=\"72\"></a>"
   ]
  },
  {
   "cell_type": "markdown",
   "metadata": {},
   "source": [
    "We are going to check the null error correlation assumption through  the **Durban-Watson test**."
   ]
  },
  {
   "cell_type": "markdown",
   "metadata": {},
   "source": []
  },
  {
   "cell_type": "markdown",
   "metadata": {},
   "source": [
    "\n",
    "##### Hypothesis:"
   ]
  },
  {
   "cell_type": "markdown",
   "metadata": {},
   "source": [
    "$$H_0: \\hspace{0.1cm} corr\\left(\\hat{\\varepsilon}_{(1)},\\hat{\\varepsilon}_{(2)}\\right) = 0 $$ \n",
    "\n",
    "$$H_1: \\hspace{0.1cm} corr\\left(\\hat{\\varepsilon}_{(1)},\\hat{\\varepsilon}_{(2)}\\right) \\neq 0$$\n"
   ]
  },
  {
   "cell_type": "markdown",
   "metadata": {},
   "source": [
    "Where:\n",
    "\n",
    "$$\\hat{\\varepsilon}_{(1)} = (\\hat{\\varepsilon}_1 , \\hat{\\varepsilon}_2 ,..., \\hat{\\varepsilon}_{n-1})$$\n",
    "\n",
    "$$\\hat{\\varepsilon}_{(2)} = (\\hat{\\varepsilon}_2  ,...,\\hat{\\varepsilon}_{n-1}, \\hat{\\varepsilon}_{n})$$"
   ]
  },
  {
   "cell_type": "markdown",
   "metadata": {},
   "source": []
  },
  {
   "cell_type": "markdown",
   "metadata": {},
   "source": [
    "##### Test Statistic :"
   ]
  },
  {
   "cell_type": "markdown",
   "metadata": {},
   "source": [
    "\\begin{gather*}\n",
    "DW = \\dfrac{\\sum_{i=2}^n (\\hat{\\varepsilon}_i - \\hat{\\varepsilon}_{i-1})^2 }{\\sum_{i=2}^n \\hat{\\varepsilon}_{i}^2 } = \\dfrac{sum\\left( \\hspace{0.1cm}( \\hat{\\varepsilon}_{(2)} - \\hat{\\varepsilon}_{(1)})^2 \\hspace{0.1cm} \\right)}{sum\\left( \\hspace{0.1cm} (\\hat{\\varepsilon}_{(2)})^2 \\hspace{0.1cm} \\right)}\n",
    "\\end{gather*}\n"
   ]
  },
  {
   "cell_type": "markdown",
   "metadata": {},
   "source": [
    "\n",
    "\n",
    "The test statistic is approximately equal to $\\hspace{0.1cm} 2\\cdot (1-r) \\hspace{0.1cm}$ where $r$ is the sample autocorrelation of the residuals. Thus, the test statistic will always be between $0$ and $4$ with the following interpretation:\n",
    "\n",
    "A test statistic of $2$ indicates **no serial correlation**.\n",
    "\n",
    "The closer the test statistics is to $0$, the more evidence of **positive serial correlation**.\n",
    "\n",
    "The closer the test statistics is to $4$, the more evidence of **negative serial correlation**."
   ]
  },
  {
   "cell_type": "markdown",
   "metadata": {},
   "source": []
  },
  {
   "cell_type": "markdown",
   "metadata": {},
   "source": [
    "---"
   ]
  },
  {
   "cell_type": "markdown",
   "metadata": {},
   "source": []
  },
  {
   "cell_type": "markdown",
   "metadata": {},
   "source": [
    "##### Durban-Watson test in `R`"
   ]
  },
  {
   "cell_type": "code",
   "execution_count": null,
   "metadata": {},
   "outputs": [],
   "source": [
    "%%R\n",
    "\n",
    "estimated_errors_1 = estimated_errors[-1]\n",
    "estimated_errors_2 = estimated_errors[-length(estimated_errors)]\n",
    "\n",
    "ggplot() +\n",
    "geom_point(mapping = aes(x=estimated_errors_1 , y = estimated_errors_2 ), color=\"blue\")"
   ]
  },
  {
   "cell_type": "markdown",
   "metadata": {},
   "source": []
  },
  {
   "cell_type": "code",
   "execution_count": null,
   "metadata": {},
   "outputs": [],
   "source": [
    "%%R\n",
    "library(zoo)\n",
    "library(lmtest)\n",
    "\n",
    "dwtest(price ~ size_in_m_2  + longitude + latitude + no_of_bedrooms + no_of_bathrooms + quality , data=data_R, alternative = 'two.sided' )"
   ]
  },
  {
   "cell_type": "markdown",
   "metadata": {},
   "source": []
  },
  {
   "cell_type": "markdown",
   "metadata": {},
   "source": [
    "-----"
   ]
  },
  {
   "cell_type": "markdown",
   "metadata": {},
   "source": []
  },
  {
   "cell_type": "markdown",
   "metadata": {},
   "source": [
    "##### Durban-Watson test in `Python`"
   ]
  },
  {
   "cell_type": "code",
   "execution_count": null,
   "metadata": {},
   "outputs": [],
   "source": [
    "train_errors_1 = pd.DataFrame({ 'train_errors_1': df_predictions_Python.iloc[range(1, len(df_predictions_Python)) , 2 ] } )\n",
    "train_errors_2 = pd.DataFrame({ 'train_errors_1': df_predictions_Python.iloc[range(0, len(df_predictions_Python)-1) , 2 ] } )  \n",
    "\n",
    "train_errors_2['index']=range(1,len(train_errors_2)+1)\n",
    "train_errors_2 = train_errors_2.set_index('index')\n",
    "\n",
    "(\n",
    "ggplot() \n",
    "+ geom_point(mapping = aes(x=train_errors_1 , y = train_errors_2 ), color=\"green\")\n",
    "+ labs(x='estimated errors 1' , y='estimated errors 2')\n",
    ")"
   ]
  },
  {
   "cell_type": "markdown",
   "metadata": {},
   "source": []
  },
  {
   "cell_type": "code",
   "execution_count": null,
   "metadata": {},
   "outputs": [],
   "source": [
    "import statsmodels\n",
    "\n",
    "statsmodels.stats.stattools.durbin_watson(df_predictions_Python['estimated_errors'], axis=0)"
   ]
  },
  {
   "cell_type": "markdown",
   "metadata": {},
   "source": []
  },
  {
   "cell_type": "markdown",
   "metadata": {},
   "source": [
    "Another alternative in Python that gives us the p-value:"
   ]
  },
  {
   "cell_type": "code",
   "execution_count": null,
   "metadata": {},
   "outputs": [],
   "source": [
    "# pip install dwtest"
   ]
  },
  {
   "cell_type": "markdown",
   "metadata": {},
   "source": [
    "More information about this Python package here https://github.com/JackywithaWhiteDog/dwtest"
   ]
  },
  {
   "cell_type": "code",
   "execution_count": null,
   "metadata": {},
   "outputs": [],
   "source": [
    "from dwtest import dwtest"
   ]
  },
  {
   "cell_type": "code",
   "execution_count": null,
   "metadata": {},
   "outputs": [],
   "source": [
    "statistic, pvalue = dwtest( 'price ~ size_in_m_2  + longitude + latitude + no_of_bedrooms + no_of_bathrooms'  , data_Python)"
   ]
  },
  {
   "cell_type": "code",
   "execution_count": null,
   "metadata": {},
   "outputs": [],
   "source": [
    "statistic, pvalue"
   ]
  },
  {
   "cell_type": "markdown",
   "metadata": {},
   "source": []
  },
  {
   "cell_type": "markdown",
   "metadata": {},
   "source": [
    "For any $\\alpha$ we reject the null  error correlation hypothesis."
   ]
  },
  {
   "cell_type": "markdown",
   "metadata": {},
   "source": []
  },
  {
   "cell_type": "markdown",
   "metadata": {},
   "source": [
    "----"
   ]
  },
  {
   "cell_type": "markdown",
   "metadata": {},
   "source": [
    "## Checking Linear Assumption <a class=\"anchor\" id=\"73\"></a>"
   ]
  },
  {
   "cell_type": "markdown",
   "metadata": {},
   "source": [
    "The linear regression model assumes that there is a linear relationship between the response and the predictors.\n",
    "\n",
    "If the actually existing relationship is not linear, then all the conclusions we draw from the linear model are questionable."
   ]
  },
  {
   "cell_type": "markdown",
   "metadata": {},
   "source": [
    "How to identify nonlinearity?\n",
    "\n",
    "Make a plot of the estimated errors (residuals) against the predictions of the response (all with the train data).\n",
    "\n",
    "It is the same plot as the one used to diagnose heteroscedasticity of the residuals (non-constant variance of the residuals). If a non-linear relationship is observed in the graph, it indicates non-linearity between the predictors and the response.\n",
    "\n",
    "They can also help detect nonlinearity in the relationship between response and predictors by plotting the response versus predictors (one-to-one)."
   ]
  },
  {
   "cell_type": "markdown",
   "metadata": {},
   "source": [
    "Solutions:\n",
    "\n",
    "A logarithmic transformation of the response variable could help. But the best option is to use a nonlinear (or nonparametric) regression method."
   ]
  },
  {
   "cell_type": "markdown",
   "metadata": {},
   "source": []
  },
  {
   "cell_type": "markdown",
   "metadata": {},
   "source": [
    "Scatter Plots: response vs predictors (one-to-one)"
   ]
  },
  {
   "cell_type": "code",
   "execution_count": null,
   "metadata": {},
   "outputs": [],
   "source": [
    "(\n",
    "ggplot(aes(x = 'size_in_m_2' , y = 'price') , data_Python) \n",
    "\n",
    " + geom_point(fill=\"white\", color = 'red') \n",
    " + geom_smooth(method='lm', color = 'blue')\n",
    " + labs(x = \"size_in_m_2\", y = \"price\")\n",
    " + scale_x_continuous( breaks = range(int(data_Python['size_in_m_2'].min()) , int(data_Python['size_in_m_2'].max()) , 50) ) \n",
    " + scale_y_continuous( breaks = range(int(data_Python['price'].min()) , int(data_Python['price'].max()) , 2000000) )\n",
    ")"
   ]
  },
  {
   "cell_type": "code",
   "execution_count": null,
   "metadata": {},
   "outputs": [],
   "source": [
    "(\n",
    "ggplot(aes(x = 'longitude' , y = 'price') , data_Python) \n",
    "\n",
    " + geom_point(fill=\"white\", color = 'red') \n",
    " + geom_smooth(method='lm', color = 'blue')\n",
    " + labs(x = \"longitude\", y = \"price\")\n",
    " + scale_x_continuous( breaks = np.arange (data_Python['longitude'].min() , data_Python['longitude'].max() , 0.05) )\n",
    " + scale_y_continuous( breaks = range(int(data_Python['price'].min()) , int(data_Python['price'].max()) , 2000000) )\n",
    ")"
   ]
  },
  {
   "cell_type": "code",
   "execution_count": null,
   "metadata": {},
   "outputs": [],
   "source": [
    "(\n",
    "ggplot(aes(x = 'latitude' , y = 'price') , data_Python) \n",
    "\n",
    " + geom_point(fill=\"white\", color = 'red') \n",
    " + geom_smooth(method='lm', color = 'blue')\n",
    " + labs(x = \"latitude\", y = \"price\")\n",
    " + scale_x_continuous( breaks =  np.arange (data_Python['latitude'].min() , data_Python['latitude'].max() , 0.05)  ) \n",
    " + scale_y_continuous( breaks = range(int(data_Python['price'].min()) , int(data_Python['price'].max()) , 2000000) )\n",
    ")"
   ]
  },
  {
   "cell_type": "code",
   "execution_count": null,
   "metadata": {},
   "outputs": [],
   "source": [
    "(\n",
    "ggplot(aes(x = 'no_of_bedrooms' , y = 'price') , data_Python) \n",
    "\n",
    " + geom_point(fill=\"white\", color = 'red') \n",
    " + geom_smooth(method='lm', color = 'blue')\n",
    " + labs(x = \"no_of_bedrooms\", y = \"price\")\n",
    " + scale_x_continuous( breaks =  np.arange (data_Python['no_of_bedrooms'].min() , data_Python['no_of_bedrooms'].max()+1 , 1)  ) \n",
    " + scale_y_continuous( breaks = range(int(data_Python['price'].min()) , int(data_Python['price'].max()) , 2000000) )\n",
    ")"
   ]
  },
  {
   "cell_type": "code",
   "execution_count": null,
   "metadata": {},
   "outputs": [],
   "source": [
    "(\n",
    "ggplot(aes(x = 'no_of_bathrooms' , y = 'price') , data_Python) \n",
    "\n",
    " + geom_point(fill=\"white\", color = 'red') \n",
    " + geom_smooth(method='lm', color = 'blue')\n",
    " + labs(x = \"no_of_bathrooms\", y = \"price\")\n",
    " + scale_x_continuous( breaks =  np.arange (data_Python['no_of_bathrooms'].min() , data_Python['no_of_bathrooms'].max()+1 , 1)  ) \n",
    " + scale_y_continuous( breaks = range(int(data_Python['price'].min()) , int(data_Python['price'].max()) , 2000000) )\n",
    ")"
   ]
  },
  {
   "cell_type": "code",
   "execution_count": null,
   "metadata": {},
   "outputs": [],
   "source": [
    "data_Python['quality'] = data_Python['quality'].astype('int')"
   ]
  },
  {
   "cell_type": "code",
   "execution_count": null,
   "metadata": {},
   "outputs": [],
   "source": [
    "(\n",
    "ggplot(aes(x = 'quality' , y = 'price') , data_Python) \n",
    "\n",
    " + geom_point(fill=\"white\", color = 'red') \n",
    " + geom_smooth(method='lm', color = 'blue')\n",
    " + labs(x = \"quality\", y = \"price\")\n",
    " + scale_x_continuous( breaks = np.arange (data_Python['quality'].min() , data_Python['quality'].max()+1 , 1) ) \n",
    " + scale_y_continuous( breaks = range(int(data_Python['price'].min()) , int(data_Python['price'].max()) , 2000000) )\n",
    ")"
   ]
  },
  {
   "cell_type": "markdown",
   "metadata": {},
   "source": []
  },
  {
   "cell_type": "markdown",
   "metadata": {},
   "source": []
  },
  {
   "cell_type": "markdown",
   "metadata": {},
   "source": [
    "----"
   ]
  },
  {
   "cell_type": "markdown",
   "metadata": {},
   "source": []
  },
  {
   "cell_type": "markdown",
   "metadata": {},
   "source": [
    "## Finding Outliers <a class=\"anchor\" id=\"74\"></a>"
   ]
  },
  {
   "cell_type": "markdown",
   "metadata": {},
   "source": [
    "An outlier is a point that clearly deviates from the relationship between the response and the predictors.\n",
    "\n",
    "Outliers can greatly affect the estimates of model parameters.\n",
    "\n",
    "How to identify outliers?\n",
    "\n",
    "A simple option is with the standardized  residuals, given by:\n"
   ]
  },
  {
   "cell_type": "markdown",
   "metadata": {},
   "source": [
    "\n",
    "$$ \\tilde{\\varepsilon_i} = \\dfrac{\\hat{\\varepsilon}_i}{\\sqrt{\\widehat{Var}(\\hat{\\varepsilon}_i)}} = \\dfrac{\\hat{\\varepsilon}_i}{ \\sqrt{ \\widehat{\\sigma}^2 \\cdot (1-h_{ii})} }  $$\n",
    "\n"
   ]
  },
  {
   "cell_type": "markdown",
   "metadata": {},
   "source": [
    "Where:\n",
    "\n",
    "$\\hspace{0.1cm} h_{ii} \\hspace{0.1cm}$ is the $i$-th element of the principal diagonal of $\\hspace{0.1cm} H=X \\cdot (X^t \\cdot X)^{-1} \\cdot X^t \\hspace{0.1cm}$"
   ]
  },
  {
   "cell_type": "markdown",
   "metadata": {},
   "source": [
    "Note that:\n",
    "\n",
    "$$\\widehat{Var}(\\hat{\\varepsilon}_i) \\neq \\widehat{Var}(\\varepsilon_i)  $$"
   ]
  },
  {
   "cell_type": "markdown",
   "metadata": {},
   "source": [
    "Because  $\\varepsilon_i$ is a random variable such that $\\hspace{0.1cm}\\varepsilon_i \\sim N (0\\hspace{\n",
    "0.1cm},\\hspace{0.1cm} \\sigma^2) \\hspace{0.1cm}$ (by initial hypothesis of the model)\n",
    "\n",
    "And $\\hspace{0.1cm} \\hat{\\varepsilon}_i = y_i - \\hat{y}_i \\hspace{0.1cm}$ is another random variable such that  $\\hspace{0.1cm} \\hat{\\varepsilon}_i \\sim N(0\\hspace{0.1cm},\\hspace{0.1cm}\\sigma^2 \\cdot (1-h_{ii})) \\hspace{0.1cm}$  (can be proof) "
   ]
  },
  {
   "cell_type": "markdown",
   "metadata": {},
   "source": [
    "\n",
    "Criteria:\n",
    "\n",
    "Observations whose studentized residuals are greater than 3 (in absolute value) will be considered outliers.\n",
    "\n",
    "What to do with outliers:\n",
    "\n",
    "If they are the result of an error in data collection, they can be deleted. If not, it shouldn't, since it is part of the reality reflected by the sample, and is therefore relevant information."
   ]
  },
  {
   "cell_type": "markdown",
   "metadata": {},
   "source": []
  },
  {
   "cell_type": "code",
   "execution_count": null,
   "metadata": {},
   "outputs": [],
   "source": [
    "H = np.dot(X @ np.linalg.inv( X.T @ X ) , X.T) \n",
    "\n",
    "standardized_estimated_errors = estimated_errors / np.sqrt(estimated_variance_error*(1-np.diag(H)) )"
   ]
  },
  {
   "cell_type": "code",
   "execution_count": null,
   "metadata": {},
   "outputs": [],
   "source": [
    "Outliers_df = pd.DataFrame({'standardized_estimated_errors > 3' : standardized_estimated_errors > 3})"
   ]
  },
  {
   "cell_type": "code",
   "execution_count": null,
   "metadata": {},
   "outputs": [],
   "source": [
    "Outliers_df.head()"
   ]
  },
  {
   "cell_type": "code",
   "execution_count": null,
   "metadata": {},
   "outputs": [],
   "source": [
    "Outliers = Outliers_df.loc[ Outliers_df['standardized_estimated_errors > 3'] == True , : ].index"
   ]
  },
  {
   "cell_type": "code",
   "execution_count": null,
   "metadata": {},
   "outputs": [],
   "source": [
    "Outliers"
   ]
  },
  {
   "cell_type": "markdown",
   "metadata": {},
   "source": []
  },
  {
   "cell_type": "markdown",
   "metadata": {},
   "source": []
  },
  {
   "cell_type": "markdown",
   "metadata": {},
   "source": [
    "----"
   ]
  },
  {
   "cell_type": "markdown",
   "metadata": {},
   "source": []
  },
  {
   "cell_type": "markdown",
   "metadata": {},
   "source": [
    "## Bibliography"
   ]
  },
  {
   "cell_type": "markdown",
   "metadata": {},
   "source": [
    "Benitez Peña, S. (2021). *El modelo de regresión lineal múltiple* [Presentación de PowerPoint]. Aula Global UC3M.\n",
    "\n",
    "Benitez Peña, S. (2021). *Inferencia en el modelo de regresión lineal múltiple* [Presentación de PowerPoint]. Aula Global UC3M.\n",
    "\n",
    "Benitez Peña, S. (2021). *Diagnosis y validacion del modelo de regresión lineal múltiple* [Presentación de PowerPoint]. Aula Global UC3M.\n",
    "\n",
    "Galeano, P. (2022). *Regresion Lineal Múltiple* [Presentación de PowerPoint]. Aula Global UC3M.\n",
    "\n",
    "Fox, J. (2022). *Diagnosing Collinearity* [Presentación de PowerPoint]. McMaster University\n",
    "\n",
    "Faraway, J (2015). *Linear Models with R* (second edition). CRC Press."
   ]
  }
 ],
 "metadata": {
  "kernelspec": {
   "display_name": "Python 3.10.0 64-bit",
   "language": "python",
   "name": "python3"
  },
  "language_info": {
   "codemirror_mode": {
    "name": "ipython",
    "version": 3
   },
   "file_extension": ".py",
   "mimetype": "text/x-python",
   "name": "python",
   "nbconvert_exporter": "python",
   "pygments_lexer": "ipython3",
   "version": "3.10.0"
  },
  "orig_nbformat": 4,
  "vscode": {
   "interpreter": {
    "hash": "c63d8c7d738c2960218a10995aedf0a7f67a49a231e71037adf0440953cdb45b"
   }
  }
 },
 "nbformat": 4,
 "nbformat_minor": 2
}
