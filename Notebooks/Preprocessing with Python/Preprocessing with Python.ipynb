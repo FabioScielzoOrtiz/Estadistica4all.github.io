{
 "cells": [
  {
   "cell_type": "markdown",
   "metadata": {},
   "source": [
    "ESTANDARIZACION\n",
    "\n",
    "CODIFICACION ESTANDAR DE VAR CATEGORICAS\n",
    "\n",
    "GENERACION DE DUMMIES ASOCIADAS A CATEGORICAS (varcharprocessing())\n",
    "\n",
    "CATEGORIZAR CUANTITATIVAS (cut(), regla de los cuartiles, regla scott etc)\n",
    "\n",
    "IMPUTACION DE NA'S\n",
    "\n"
   ]
  }
 ],
 "metadata": {
  "language_info": {
   "name": "python"
  },
  "orig_nbformat": 4
 },
 "nbformat": 4,
 "nbformat_minor": 2
}
