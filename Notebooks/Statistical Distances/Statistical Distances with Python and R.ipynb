{
 "cells": [
  {
   "cell_type": "markdown",
   "metadata": {},
   "source": [
    "# Statistical Distances with `Python` and `R`"
   ]
  },
  {
   "cell_type": "markdown",
   "metadata": {},
   "source": [
    "## Index\n",
    "\n",
    "* [Data-set ](#1)\n",
    "* * [Loading the data-set in `Python`](#2)\n",
    "* * [Loading the data-set in `R`](#3)\n",
    "\n",
    "  <br>\n",
    "  \n",
    "* [F-test: test to compare models](#4)\n",
    "* * [F-test in `Python`](#5)\n",
    "* * [F-test in `R`](#6)\n",
    "* * [ANOVA test as an F-test](#7)\n",
    "* * [Significance test as an F-test](#8)\n",
    "\n",
    "  <br>\n"
   ]
  }
 ],
 "metadata": {
  "kernelspec": {
   "display_name": "Python 3.10.0 64-bit",
   "language": "python",
   "name": "python3"
  },
  "language_info": {
   "name": "python",
   "version": "3.10.0"
  },
  "orig_nbformat": 4,
  "vscode": {
   "interpreter": {
    "hash": "c63d8c7d738c2960218a10995aedf0a7f67a49a231e71037adf0440953cdb45b"
   }
  }
 },
 "nbformat": 4,
 "nbformat_minor": 2
}
