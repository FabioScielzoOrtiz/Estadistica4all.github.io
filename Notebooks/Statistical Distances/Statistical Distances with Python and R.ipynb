{
 "cells": [
  {
   "cell_type": "markdown",
   "metadata": {},
   "source": [
    "# Statistical Distances with `Python` and `R`"
   ]
  },
  {
   "cell_type": "markdown",
   "metadata": {},
   "source": [
    "## Index\n",
    "\n",
    "* [Statistical Distances ](#1)\n",
    "* * [Distance Definition](#2)\n",
    "* * [Distance Matrix](#3)"
   ]
  },
  {
   "cell_type": "markdown",
   "metadata": {},
   "source": [
    "* [ Distances with quantitative variables](#1)\n",
    "* * [Euclidean Distance](#2)\n",
    "* * * [Disadvantages](#3)\n",
    "* * * [Euclidean Distance in `R`](#4)\n",
    "* * * [Euclidean Distance in `Python`](#5)"
   ]
  },
  {
   "cell_type": "markdown",
   "metadata": {},
   "source": []
  },
  {
   "cell_type": "markdown",
   "metadata": {},
   "source": []
  },
  {
   "cell_type": "markdown",
   "metadata": {},
   "source": [
    "## Data-set in  `Python` <a class=\"anchor\" id=\"1\"></a>\n"
   ]
  },
  {
   "cell_type": "code",
   "execution_count": null,
   "metadata": {},
   "outputs": [],
   "source": [
    "import numpy as np"
   ]
  },
  {
   "cell_type": "code",
   "execution_count": null,
   "metadata": {},
   "outputs": [],
   "source": [
    "np.random.seed(123)\n",
    "\n",
    "# Quantitative\n",
    "\n",
    "X1 = np.random.normal(loc=10, scale=15, size=50)\n",
    "X2 = np.random.normal(loc=10, scale=15, size=50)\n",
    "X3 = np.random.normal(loc=10, scale=15, size=50)\n",
    "X4 = np.random.normal(loc=10, scale=15, size=50)\n",
    "\n",
    "# Binary Categorical / Dummies ( categories: 0,1)\n",
    "\n",
    "X5 = np.random.uniform(low=0.0, high=1.0, size=50).round()\n",
    "X6 = np.random.uniform(low=0.0, high=1.0, size=50).round() \n",
    "X7 = np.random.uniform(low=0.0, high=1.0, size=50).round() \n",
    "\n",
    "\n",
    "# Multiple categorical\n",
    "\n",
    "X8 = np.random.uniform(low=0, high=4, size=50).round()   # categories: 0,1,2,3,4\n",
    "X9 = np.random.uniform(low=0, high=3, size=50).round()   # categories: 0,1,2,3\n",
    "X10 = np.random.uniform(low=0, high=5, size=50).round()  # categories: 0,1,2,3,4,5"
   ]
  },
  {
   "cell_type": "code",
   "execution_count": null,
   "metadata": {},
   "outputs": [],
   "source": [
    "import pandas as pd"
   ]
  },
  {
   "cell_type": "code",
   "execution_count": 65,
   "metadata": {},
   "outputs": [],
   "source": [
    "Data_set_Python = pd.DataFrame({'X1': X1 , 'X2': X2, 'X3': X3 , 'X4': X4 , 'X5': X5 , \n",
    "                         'X6': X6 , 'X7': X7 , 'X8': X8 , 'X9': X9 , 'X10': X10 })"
   ]
  },
  {
   "cell_type": "markdown",
   "metadata": {},
   "source": []
  },
  {
   "cell_type": "markdown",
   "metadata": {},
   "source": [
    "## Data-set in  `R` <a class=\"anchor\" id=\"1\"></a>\n"
   ]
  },
  {
   "cell_type": "code",
   "execution_count": null,
   "metadata": {},
   "outputs": [],
   "source": [
    "import rpy2\n",
    "\n",
    "%load_ext rpy2.ipython\n",
    "\n",
    "import rpy2.robjects as robjects"
   ]
  },
  {
   "cell_type": "code",
   "execution_count": null,
   "metadata": {},
   "outputs": [],
   "source": [
    "%%R\n",
    "\n",
    "# Quantitative\n",
    "\n",
    "X1 <- c(-6.28445905,  24.9601817 ,  14.24467747, -12.59442071,\n",
    "         1.32099622,  34.77154806, -26.40018865,   3.56631057,\n",
    "        28.98904388,  -3.00110603,  -0.18329227,   8.57936547,\n",
    "        32.37084439,   0.41647005,   3.34027061,   3.48473087,\n",
    "        43.08895124,  42.80179133,  25.06080847,  15.79279599,\n",
    "        21.06052864,  32.36098042,  -4.03750803,  27.63743567,\n",
    "        -8.80821002,   0.43372746,  23.60657794, -11.4302105 ,\n",
    "         7.8989692 ,  -2.92632344,   6.16570944, -31.97883658,\n",
    "       -16.57299657,  -0.49815852,  23.91193648,   7.39546476,\n",
    "        10.04268874,  20.32334067,  -3.19304515,  14.25440986,\n",
    "        -2.08049777, -15.91504241,   4.13650309,  18.60708794,\n",
    "        15.07883576,   9.82254258,  45.88547899,  16.1936824 ,\n",
    "        24.68104009,  43.57215008)\n",
    "\n",
    "X2 <- c(-9.41127985,  -5.58182315,  36.15568338,  -1.97094103,\n",
    "        10.44524845,  26.03973954,  23.36059587,  36.32329273,\n",
    "        32.43466206,  26.04089005,  -1.59063071,  21.92294002,\n",
    "        14.71407992,  -9.8939819 ,  31.2594857 ,  22.10854802,\n",
    "        10.68235121,   6.50361909,  -7.97451717,  12.9928611 ,\n",
    "        17.02658679,  -2.46732476,  27.43306074,  -6.4580457 ,\n",
    "       -21.84650525,  25.59590636,   3.94950943,   8.10955622,\n",
    "        -2.56275084, -14.08944141,  28.82856062,  -0.33303476,\n",
    "        34.91428732,  22.10962279,   5.2786278 ,  -6.28853602,\n",
    "        -0.9869298 ,  -8.18784697,  41.30670039,  12.46661845,\n",
    "        27.25308314,  -9.01028074,  12.71552694,  27.66792908,\n",
    "         4.97483857,  25.46671688,  -6.26851868, -10.45207317,\n",
    "        15.69100918,   4.31235348)\n",
    "\n",
    "X3 <- c(19.63082034, -19.66831897,  20.68396953,  48.97455891,\n",
    "         9.63061028,  10.51213193,  12.69324227, -17.92963566,\n",
    "        16.3921996 , -14.08114616,   3.58480603,  28.64304324,\n",
    "        -1.02825434,  17.51873484,  25.19108581,  14.18111284,\n",
    "       -10.56422705,   5.01287087,  39.39117014, -20.37568644,\n",
    "         5.86320979,   1.71837893,  11.81121045,  21.22323426,\n",
    "        34.13036452,   5.94651412,  22.18511995,  17.49610217,\n",
    "        17.11520947,   1.54114103,  -4.95982203,  -6.50064669,\n",
    "        -1.34655814,  14.82529864,  21.4142409 ,  14.85203272,\n",
    "         1.76567356,  37.08955165,  32.78298435,   4.68999831,\n",
    "        -2.35147109,  11.95322431,  29.00947968,  14.99147466,\n",
    "        18.34823057,   6.81879817,  16.84406343,  33.16816677,\n",
    "         6.40496828,  12.14961599)\n",
    "\n",
    "X4 <- c(13.80724715,  14.25588034, -11.17833314, -18.15302984,\n",
    "        -5.29482606,  12.51913443,  18.30784249,   2.0398816 ,\n",
    "        30.65886224,   7.85236039,  10.30473997,   7.09054194,\n",
    "        12.01040189,  20.56711111,  19.98480157,  -3.47634411,\n",
    "        32.85495665,  -6.42539686,  11.18840521,   5.8840514 ,\n",
    "        -5.73487516,   8.87319118,  -1.1122066 ,  11.09360865,\n",
    "        16.04628942,  32.07894053,  14.61076328,   0.8316199 ,\n",
    "         4.12570284,  12.09967159,  11.40191244,  31.89383902,\n",
    "        30.93029395,   4.61596111,   1.77036808, -28.35581906,\n",
    "         1.7661938 ,  -4.67086559,   4.67763313,  15.87376364,\n",
    "        12.65788494,   9.55047989,  12.99373167,   8.1082334 ,\n",
    "        12.95528399, -38.46582512,   5.96059765,   8.33723918,\n",
    "         4.88107426,   6.73080607)\n",
    "\n",
    "\n",
    "\n",
    "# Binary Categorical / Dummies ( categories: 0,1)\n",
    "\n",
    "X5 <- c(0., 1., 1., 0., 0., 1., 1., 1., 0., 0., 1., 0., 0., 0., 1., 0., 1.,\n",
    "       1., 0., 0., 1., 0., 0., 1., 1., 1., 0., 0., 1., 0., 1., 0., 0., 0.,\n",
    "       0., 0., 0., 1., 0., 0., 0., 0., 1., 0., 1., 0., 1., 0., 1., 0.)\n",
    "\n",
    "X6 <- c(0., 1., 0., 1., 1., 1., 1., 1., 0., 1., 0., 1., 0., 1., 1., 1., 0.,\n",
    "       1., 0., 1., 0., 0., 0., 1., 0., 1., 1., 0., 1., 1., 0., 0., 0., 1.,\n",
    "       1., 1., 1., 1., 0., 0., 1., 0., 0., 0., 0., 1., 0., 1., 1., 1.)    \n",
    "\n",
    "X7 <- c(1., 1., 0., 0., 0., 1., 0., 0., 1., 1., 0., 1., 0., 0., 0., 0., 1.,\n",
    "       1., 1., 1., 0., 0., 0., 0., 0., 0., 1., 0., 1., 0., 1., 0., 0., 1.,\n",
    "       1., 0., 1., 1., 1., 1., 0., 1., 1., 0., 1., 0., 1., 0., 0., 1.) \n",
    "\n",
    "\n",
    "\n",
    "# Multiple categorical\n",
    "\n",
    "X8 <- c(3., 3., 3., 1., 2., 3., 3., 0., 0., 1., 4., 2., 1., 1., 1., 2., 1.,\n",
    "       3., 2., 1., 4., 1., 4., 0., 3., 2., 2., 0., 0., 1., 4., 2., 1., 2.,\n",
    "       1., 1., 1., 3., 2., 1., 4., 3., 1., 4., 4., 2., 3., 2., 1., 0.) \n",
    "\n",
    "X9 <- c(1., 1., 1., 1., 3., 0., 2., 1., 1., 1., 3., 1., 0., 3., 3., 1., 2.,\n",
    "       0., 0., 3., 1., 2., 3., 1., 0., 0., 2., 3., 1., 1., 2., 3., 2., 1.,\n",
    "       2., 0., 0., 2., 1., 2., 1., 1., 3., 0., 2., 0., 2., 1., 0., 2.)       \n",
    "        \n",
    "X10 <- c(4., 3., 0., 1., 2., 1., 4., 1., 3., 5., 5., 1., 0., 5., 4., 5., 2.,\n",
    "       4., 1., 2., 4., 1., 4., 2., 2., 2., 5., 3., 4., 4., 5., 2., 2., 3.,\n",
    "       2., 5., 2., 2., 3., 2., 5., 0., 1., 2., 1., 1., 4., 3., 0., 5.)        "
   ]
  },
  {
   "cell_type": "code",
   "execution_count": 66,
   "metadata": {},
   "outputs": [],
   "source": [
    "%%R\n",
    "\n",
    "Data_set_R <- cbind(X1,X2,X3,X4,X5,X6,X7,X8,X9,X10)"
   ]
  },
  {
   "cell_type": "markdown",
   "metadata": {},
   "source": []
  },
  {
   "cell_type": "markdown",
   "metadata": {},
   "source": [
    "## Statistical Distances <a class=\"anchor\" id=\"1\"></a>\n"
   ]
  },
  {
   "cell_type": "markdown",
   "metadata": {},
   "source": [
    "\n",
    "The concept of distance between elements of a set $\\varepsilon$ allows us to interpret geometrically many classical techniques of multivariate analysis.\n",
    "\n",
    "This interpretation is possible both with quantitative and categorical variables, or even when no variables are available, as long as it makes sense to obtain a measure of proximity between the elements of $\\varepsilon$\n"
   ]
  },
  {
   "cell_type": "markdown",
   "metadata": {},
   "source": []
  },
  {
   "cell_type": "markdown",
   "metadata": {},
   "source": [
    "\n",
    "###  Distance Definition <a class=\"anchor\" id=\"1\"></a>\n"
   ]
  },
  {
   "cell_type": "markdown",
   "metadata": {},
   "source": [
    "\n",
    "Given a set of elements $\\Omega$"
   ]
  },
  {
   "cell_type": "markdown",
   "metadata": {},
   "source": [
    "#### Almost-metric <a class=\"anchor\" id=\"1\"></a>\n",
    "\n",
    "\n",
    "It is called **quasi-metric** or **dissimilarity** to any mapping $\\delta : \\Omega \\hspace{0.05cm}x\\hspace{0.05cm} \\Omega \\rightarrow \\mathbb{R}$ that satisfies the following properties:\n"
   ]
  },
  {
   "cell_type": "markdown",
   "metadata": {},
   "source": [
    "\n",
    "1) $\\hspace{0.15cm}\\delta (i,j) \\geq 0 \\hspace{0.25cm}, \\forall i,j \\in \\Omega$\n",
    "\n",
    "2) $\\hspace{0.15cm}\\delta (i,i) = 0 \\hspace{0.25cm}, \\forall i \\in  \\Omega$\n",
    "\n",
    "3) $\\hspace{0.15cm}\\delta (i,j) = \\delta (j, i) \\hspace{0.25cm}, \\forall i,j \\in \\Omega $\n",
    "\n"
   ]
  },
  {
   "cell_type": "markdown",
   "metadata": {},
   "source": []
  },
  {
   "cell_type": "markdown",
   "metadata": {},
   "source": [
    "#### Semi-metric <a class=\"anchor\" id=\"1\"></a>\n",
    "\n",
    "\n",
    "It is called **semi-metric** to any dissimilarity (quasi-metric)  that satisfies the triangular inequality:\n"
   ]
  },
  {
   "cell_type": "markdown",
   "metadata": {},
   "source": [
    "\n",
    "4) $\\hspace{0.15cm} \\delta (i,j) \\hspace{0.1 cm}\\leq \\hspace{0.1 cm} \\delta (i,k) + \\delta (k,j) \\hspace{0.25cm}, \\forall i,j,k \\in \\Omega$\n",
    "\n"
   ]
  },
  {
   "cell_type": "markdown",
   "metadata": {},
   "source": []
  },
  {
   "cell_type": "markdown",
   "metadata": {},
   "source": [
    "#### Metric <a class=\"anchor\" id=\"1\"></a>\n",
    "\n",
    "\n",
    "It is called a **metric** to any semi-metric that satisfies:\n",
    "\n",
    "5) $\\hspace{0.15cm} \\delta (i,j)=0 \\hspace{0.15cm}\\Leftrightarrow\\hspace{0.15cm} i=j$\n",
    "\n",
    "\n"
   ]
  },
  {
   "cell_type": "markdown",
   "metadata": {},
   "source": []
  },
  {
   "cell_type": "markdown",
   "metadata": {},
   "source": [
    "#### Distance <a class=\"anchor\" id=\"1\"></a>\n",
    "\n",
    "A **distance** is a metric or semi-metric\n",
    " "
   ]
  },
  {
   "cell_type": "markdown",
   "metadata": {},
   "source": []
  },
  {
   "cell_type": "markdown",
   "metadata": {},
   "source": [
    "### Distance Matrix <a class=\"anchor\" id=\"1\"></a>\n"
   ]
  },
  {
   "cell_type": "markdown",
   "metadata": {},
   "source": [
    "\n",
    "When $\\varepsilon$ is a finite set, we will have a distance matrix:\n"
   ]
  },
  {
   "cell_type": "markdown",
   "metadata": {},
   "source": [
    "\n",
    "$$\n",
    "D= \\begin{pmatrix}\n",
    "0 & \\delta_{12}&...&\\delta_{1n}\\\\\n",
    "\\delta_{21} & 0&...&\\delta_{2n}\\\\\n",
    "...&...&...&...\\\\\n",
    "\\delta_{n1}& \\delta_{n2}&...& 0\\\\\n",
    "\\end{pmatrix}\n",
    "$$\n",
    "con $\\delta_{ij}=\\delta_{ji}$\n",
    "\n"
   ]
  },
  {
   "cell_type": "markdown",
   "metadata": {},
   "source": []
  },
  {
   "cell_type": "markdown",
   "metadata": {},
   "source": [
    "We will also use the matrix of squares of distances:\n"
   ]
  },
  {
   "cell_type": "markdown",
   "metadata": {},
   "source": [
    "\n",
    "$$\n",
    "D^{(2)}= \n",
    "\\begin{pmatrix}\n",
    "0 & \\delta^2_{12}&...&\\delta^2_{1n}\\\\\n",
    "\\delta^2_{21} & 0&...&\\delta^2_{2n}\\\\\n",
    "...&...&...&...\\\\\n",
    "\\delta^2_{n1}& \\delta^2_{n2}&...& 0\\\\\n",
    "\\end{pmatrix}\n",
    "$$\n"
   ]
  },
  {
   "cell_type": "markdown",
   "metadata": {},
   "source": [
    "\n",
    "\n",
    "\n",
    "No debe confundirse con  $D^2=D\\cdot D$\n",
    "\n"
   ]
  },
  {
   "cell_type": "markdown",
   "metadata": {},
   "source": []
  },
  {
   "cell_type": "markdown",
   "metadata": {},
   "source": []
  },
  {
   "cell_type": "markdown",
   "metadata": {},
   "source": [
    "## Distances with quantitative variables <a class=\"anchor\" id=\"1\"></a>\n",
    "\n",
    "Let $X_1,...,X_p$ be quantitative variables,\n",
    "\n",
    "Let $\\hspace{0.1cm} x_i=(x_{i1},...,x_{ip})^t \\hspace{0.1cm}$ and $\\hspace{0.1cm} x_j=(x_{j1},...,x_{jp})^t \\hspace{0.1cm}$ the values ​​(observations) of the variables $X_1,...,X_p$ for the elements or individuals $i$ and $j$ of the sample $\\Omega$."
   ]
  },
  {
   "cell_type": "markdown",
   "metadata": {},
   "source": []
  },
  {
   "cell_type": "markdown",
   "metadata": {},
   "source": [
    "\n",
    "## Euclidean Distance <a class=\"anchor\" id=\"1\"></a>\n"
   ]
  },
  {
   "cell_type": "markdown",
   "metadata": {},
   "source": [
    " \n",
    "The Euclidean distance between the elements / individuals $i$ and $j$ of $\\Omega$ with respect to the quantitative variables $X_1,...,X_p$ is defined as:\n"
   ]
  },
  {
   "cell_type": "markdown",
   "metadata": {},
   "source": [
    "\n",
    " $$\n",
    "\\delta^2(i,j)_{Euclidea} = \\sum_{k=1}^{p} (x_{ik} - x_{jk})\\hspace{0.05cm}^2 = (x_i - x_j)\\hspace{0.05cm}^t\\cdot (x_i - x_j) = sum \\left( \\hspace{0.05cm} (x_i - x_j)^2 \\hspace{0.05cm} \\right)\n",
    "$$\n"
   ]
  },
  {
   "cell_type": "markdown",
   "metadata": {},
   "source": [
    "\n",
    "$$\n",
    "\\delta(i,j)_{Euclidea} =\\sqrt{\\sum_{k=1}^{p} (x_{ik} - x_{jk})\\hspace{0.05cm}^2  }  = \\sqrt{(x_i - x_j)\\hspace{0.05cm}^t\\cdot (x_i - x_j)} = \\sqrt{ sum \\left( \\hspace{0.05cm} (x_i - x_j)^2  \\hspace{0.05cm} \\right) }\n",
    " $$\n",
    "\n",
    " \n"
   ]
  },
  {
   "cell_type": "markdown",
   "metadata": {},
   "source": []
  },
  {
   "cell_type": "markdown",
   "metadata": {},
   "source": [
    "Where $\\hspace{0.05cm} sum \\left( \\hspace{0.05cm} (x_i - x_j)^2 \\hspace{0.05cm} \\right) \\hspace{0.05cm}$ is a vectorial operation."
   ]
  },
  {
   "cell_type": "markdown",
   "metadata": {},
   "source": []
  },
  {
   "cell_type": "markdown",
   "metadata": {},
   "source": [
    "### Disadvantages <a class=\"anchor\" id=\"1\"></a>\n",
    "\n",
    "\n",
    " \n",
    "Although it is one of the most popular distances, it is not suitable in many cases for the following reasons:\n",
    "\n",
    "1) It assumes that the variables are uncorrelated and with unit variance (although this last problem can be solved by standardizing the variables to unit variance by dividing them by their respective standard deviations).\n",
    "\n",
    "2) It is not invariant against changes in scale (changes in measurement units) of the variables.\n"
   ]
  },
  {
   "cell_type": "markdown",
   "metadata": {},
   "source": [
    " \n",
    "Let's see what this means in more detail:\n",
    "\n",
    "If a change of scale is applied to the variables $a\\cdot X_j + b$, with $a\\neq 1$ and $b\\neq 0$\n",
    "\n",
    "Now the observations for elements $i$ and $j$ are $a\\cdot x_i + b$ and $a\\cdot x_j + b$\n",
    "\n",
    "Then the Euclidean distance between the elements $i$ and $j$ with respect to the scaled variables $a\\cdot X_j + b$ is:\n",
    "\n",
    "$$\n",
    "\\delta^2(i,j)_{Euclidea} = a^2 \\cdot (x_i - x_j)^t\\cdot (x_i - x_j)\n",
    "$$\n"
   ]
  },
  {
   "cell_type": "markdown",
   "metadata": {},
   "source": []
  },
  {
   "cell_type": "markdown",
   "metadata": {},
   "source": [
    "### Euclidean Distance in `R` <a class=\"anchor\" id=\"1\"></a>"
   ]
  },
  {
   "cell_type": "code",
   "execution_count": 93,
   "metadata": {},
   "outputs": [],
   "source": [
    "%%R \n",
    "\n",
    "Dist_Euclidea_R <- function(i,j, Quantitative_Data_set){\n",
    "\n",
    "Quantitative_Data_set=as.matrix(Quantitative_Data_set)  \n",
    "  \n",
    "Dist_Euclidea = sum( (Quantitative_Data_set[i,] - Quantitative_Data_set[j,])^2 )\n",
    "\n",
    "Dist_Euclidea<-sqrt(Dist_Euclidea)\n",
    "\n",
    "return(Dist_Euclidea)\n",
    "\n",
    "}"
   ]
  },
  {
   "cell_type": "code",
   "execution_count": 94,
   "metadata": {},
   "outputs": [],
   "source": [
    "%%R\n",
    "\n",
    "library(tidyverse)\n",
    "\n",
    "Data_set_R <- as.data.frame(Data_set_R)\n",
    "\n",
    "Quantitative_Data_R <- Data_set_R %>% select(1:4)"
   ]
  },
  {
   "cell_type": "code",
   "execution_count": 95,
   "metadata": {},
   "outputs": [
    {
     "name": "stdout",
     "output_type": "stream",
     "text": [
      "[1] 50.35391\n"
     ]
    }
   ],
   "source": [
    "%%R \n",
    "\n",
    "Dist_Euclidea_R(1,2, Quantitative_Data_R)"
   ]
  },
  {
   "cell_type": "markdown",
   "metadata": {},
   "source": []
  },
  {
   "cell_type": "markdown",
   "metadata": {},
   "source": [
    "### Euclidean Distance in `Python` <a class=\"anchor\" id=\"1\"></a>\n"
   ]
  },
  {
   "cell_type": "code",
   "execution_count": 89,
   "metadata": {},
   "outputs": [],
   "source": [
    "def Dist_Euclidea_Python(i, j, Quantitative_Data_set):\n",
    "\n",
    "    Dist_Euclidea = ( ( Quantitative_Data_set.iloc[i-1, ] - Quantitative_Data_set.iloc[j-1, ] )**2 ).sum()\n",
    "\n",
    "    Dist_Euclidea = np.sqrt(Dist_Euclidea)\n",
    "\n",
    "    return Dist_Euclidea"
   ]
  },
  {
   "cell_type": "code",
   "execution_count": 90,
   "metadata": {},
   "outputs": [],
   "source": [
    "Quantitative_Data_Python = Data_set_Python.iloc[ : , [0,1,2,3] ] "
   ]
  },
  {
   "cell_type": "code",
   "execution_count": 91,
   "metadata": {},
   "outputs": [
    {
     "data": {
      "text/plain": [
       "50.35390686386084"
      ]
     },
     "execution_count": 91,
     "metadata": {},
     "output_type": "execute_result"
    }
   ],
   "source": [
    "Dist_Euclidea_Python(1, 2, Quantitative_Data_Python)"
   ]
  },
  {
   "cell_type": "markdown",
   "metadata": {},
   "source": []
  },
  {
   "cell_type": "markdown",
   "metadata": {},
   "source": [
    "## Bibliography <a class=\"anchor\" id=\"1\"></a>"
   ]
  },
  {
   "cell_type": "markdown",
   "metadata": {},
   "source": [
    "https://numpy.org/doc/stable/reference/random/legacy.html"
   ]
  }
 ],
 "metadata": {
  "kernelspec": {
   "display_name": "Python 3.10.0 64-bit",
   "language": "python",
   "name": "python3"
  },
  "language_info": {
   "codemirror_mode": {
    "name": "ipython",
    "version": 3
   },
   "file_extension": ".py",
   "mimetype": "text/x-python",
   "name": "python",
   "nbconvert_exporter": "python",
   "pygments_lexer": "ipython3",
   "version": "3.10.0"
  },
  "orig_nbformat": 4,
  "vscode": {
   "interpreter": {
    "hash": "c63d8c7d738c2960218a10995aedf0a7f67a49a231e71037adf0440953cdb45b"
   }
  }
 },
 "nbformat": 4,
 "nbformat_minor": 2
}
