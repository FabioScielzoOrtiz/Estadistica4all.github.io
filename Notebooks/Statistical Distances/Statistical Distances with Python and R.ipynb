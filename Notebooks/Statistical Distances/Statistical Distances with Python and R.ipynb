{
 "cells": [
  {
   "cell_type": "markdown",
   "metadata": {},
   "source": [
    "# Statistical Distances with `Python` and `R`"
   ]
  },
  {
   "cell_type": "markdown",
   "metadata": {},
   "source": [
    "## Index\n",
    "\n",
    "* [Statistical Distances ](#1)\n",
    "* * [Distance Definition](#2)\n",
    "* * [Distance Matrix](#3)"
   ]
  },
  {
   "cell_type": "markdown",
   "metadata": {},
   "source": [
    "* [ Distances with quantitative variables](#1)\n",
    "* * [Euclidean Distance](#2)\n",
    "* * * [Disadvantages](#3)\n",
    "* * * [Euclidean Distance in `R`](#4)\n",
    "* * * [Euclidean Distance in `Python`](#5)"
   ]
  },
  {
   "cell_type": "markdown",
   "metadata": {},
   "source": [
    "  \n",
    "* [F-test: test to compare models](#4)\n",
    "* * [F-test in `Python`](#5)\n",
    "* * [F-test in `R`](#6)\n",
    "* * [ANOVA test as an F-test](#7)\n",
    "* * [Significance test as an F-test](#8)\n",
    "\n",
    "  <br>\n"
   ]
  },
  {
   "cell_type": "markdown",
   "metadata": {},
   "source": []
  },
  {
   "cell_type": "markdown",
   "metadata": {},
   "source": [
    "## Statistical Distances <a class=\"anchor\" id=\"1\"></a>\n"
   ]
  },
  {
   "cell_type": "markdown",
   "metadata": {},
   "source": [
    "\n",
    "El concepto de distancia entre elementos de un conjunto $\\varepsilon$ permite interpretar geometricamente muchas técnicas clásicas del análisis multivariante .\n",
    "\n",
    "Esta interpretación es posible tanto con variables cuantitativas como categoricas, o incluso cuando no se dispone de variables, siempre que tenga sentido obtener una medida de proximidad entre los elementos de $\\varepsilon$\n"
   ]
  },
  {
   "cell_type": "markdown",
   "metadata": {},
   "source": [
    "\n",
    "###  Distance Definition <a class=\"anchor\" id=\"1\"></a>\n"
   ]
  },
  {
   "cell_type": "markdown",
   "metadata": {},
   "source": [
    "\n",
    "Dado un conjunto de elementos $\\Omega$\n",
    "\n"
   ]
  },
  {
   "cell_type": "markdown",
   "metadata": {},
   "source": [
    "#### Casi-metrica <a class=\"anchor\" id=\"1\"></a>\n",
    "\n",
    "\n",
    "Se denomina **casi-metrica** o **disimilaridad** a toda aplicación $\\delta : \\Omega \\hspace{0.05cm}x\\hspace{0.05cm} \\Omega \\rightarrow \\mathbb{R}$ que cumpla las siguientes propiedades:\n",
    "\n",
    "1) $\\hspace{0.15cm}\\delta (i,j) \\geq 0 \\hspace{0.25cm}, \\forall i,j \\in \\Omega$\n",
    "\n",
    "2) $\\hspace{0.15cm}\\delta (i,i) = 0 \\hspace{0.25cm}, \\forall i \\in  \\Omega$\n",
    "\n",
    "3) $\\hspace{0.15cm}\\delta (i,j) = \\delta (j, i) \\hspace{0.25cm}, \\forall i,j \\in \\Omega $\n",
    "\n"
   ]
  },
  {
   "cell_type": "markdown",
   "metadata": {},
   "source": [
    "#### Semi-metrica <a class=\"anchor\" id=\"1\"></a>\n",
    "\n",
    "\n",
    "Se denomina **semi-metrica** a toda disimilaridad (casi-metrica) que cumpla la desigualdad triangular:\n",
    "\n",
    "4) $\\hspace{0.15cm} \\delta (i,j) \\hspace{0.1 cm}\\leq \\hspace{0.1 cm} \\delta (i,k) + \\delta (k,i) \\hspace{0.25cm}, \\forall i,j,k \\in \\Omega$\n",
    "\n"
   ]
  },
  {
   "cell_type": "markdown",
   "metadata": {},
   "source": [
    "#### Metrica <a class=\"anchor\" id=\"1\"></a>\n",
    "\n",
    "\\tcbset{colback=white!1!white,colframe=brown!78!black}\n",
    "\\begin{tcolorbox}[toptitle=2mm,title= Métrica:   ]\n",
    "Se denomina \\textbf{metrica} a toda semi-metrica que cumple:\n",
    "\n",
    "5)\\hspace{0.2cm} $\\delta (i,j)=0 \\Leftrightarrow i=j$\n",
    "\\end{tcolorbox}\n",
    "\n",
    "\\tcbset{colback=white!1!white,colframe=brown!78!black}\n",
    "\\begin{tcolorbox}[toptitle=2mm,title= Distancia:   ]\n",
    "Una \\textbf{distancia} es una \\textbf{métrica} o una \\textbf{semi-métrica}\n",
    " \\end{tcolorbox}\n",
    " \n",
    "\\newpage\n"
   ]
  },
  {
   "cell_type": "markdown",
   "metadata": {},
   "source": [
    "\n",
    "\\section{Matriz de distancias:}\n",
    "\n",
    "Cuando $\\varepsilon$ sea un conjunto finito , tendremos una matriz de distancias:\n",
    "\\tcbset{colback=white!1!white,colframe=brown!78!black}\n",
    "\\begin{tcolorbox}[toptitle=2mm,title= Matriz de distancias:   ]\n",
    "\\begin{gather*}\n",
    "D= \\begin{pmatrix}\n",
    "0 & \\delta_{12}&...&\\delta_{1n}\\\\\n",
    "\\delta_{21} & 0&...&\\delta_{2n}\\\\\n",
    "...&...&...&...\\\\\n",
    "\\delta_{n1}& \\delta_{n2}&...& 0\\\\\n",
    "\\end{pmatrix}\n",
    "\\end{gather*}\n",
    "\n",
    "con $\\delta_{ij}=\\delta_{ji}$\n",
    "\n",
    "\\end{tcolorbox}\n",
    "\n",
    "También usaremos la matriz de cuadrados de distancias:\n",
    "\n",
    "\\tcbset{colback=white!1!white,colframe=brown!78!black}\n",
    "\\begin{tcolorbox}[toptitle=2mm,title= Matriz de distancias al cuadrado:   ]\n",
    "\\begin{gather*}\n",
    "D^{(2)}= \\begin{pmatrix}\n",
    "0 & \\delta^2_{12}&...&\\delta^2_{1n}\\\\\n",
    "\\delta^2_{21} & 0&...&\\delta^2_{2n}\\\\\n",
    "...&...&...&...\\\\\n",
    "\\delta^2_{n1}& \\delta^2_{n2}&...& 0\\\\\n",
    "\\end{pmatrix}\n",
    "\\end{gather*}\n",
    "\n",
    "\\end{tcolorbox}\n",
    "\n",
    "\n",
    "No debe confundirse con  $D^2=D\\cdot D$\n",
    "\n"
   ]
  },
  {
   "cell_type": "markdown",
   "metadata": {},
   "source": [
    "\n",
    "\n",
    "\\chapter{Distancias con variables cuantitativas:}\n",
    "\n",
    "Sean $X_1,...,X_p$ variables cuantitativas, \n",
    "\n",
    "Sean $x_i=(x_{i1},...,x_{ip})^t$ \\hspace{0.2cm}y\\hspace{0.2cm}\n",
    "$x_j=(x_{i1},...,x_{ip})^t$ los valores (observaciones) de las variables $X_1,...,X_p$ para los elementos o individuos $i$ y $j$ de la muestra.\n",
    "\n"
   ]
  },
  {
   "cell_type": "markdown",
   "metadata": {},
   "source": [
    "\n",
    "\\section{Distancia Euclidea:"
   ]
  }
 ],
 "metadata": {
  "kernelspec": {
   "display_name": "Python 3.10.0 64-bit",
   "language": "python",
   "name": "python3"
  },
  "language_info": {
   "name": "python",
   "version": "3.10.0"
  },
  "orig_nbformat": 4,
  "vscode": {
   "interpreter": {
    "hash": "c63d8c7d738c2960218a10995aedf0a7f67a49a231e71037adf0440953cdb45b"
   }
  }
 },
 "nbformat": 4,
 "nbformat_minor": 2
}
