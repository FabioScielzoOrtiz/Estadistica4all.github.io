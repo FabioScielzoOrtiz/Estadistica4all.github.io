{
 "cells": [
  {
   "cell_type": "markdown",
   "metadata": {},
   "source": [
    "# Statistical Distances with `Python` and `R`"
   ]
  },
  {
   "cell_type": "markdown",
   "metadata": {},
   "source": [
    "## Index\n",
    "\n",
    "* [Statistical Distances ](#1)\n",
    "* * [Distance Definition](#2)\n",
    "* * [Distance Matrix](#3)"
   ]
  },
  {
   "cell_type": "markdown",
   "metadata": {},
   "source": [
    "* [ Distances with quantitative variables](#1)\n",
    "* * [Euclidean Distance](#2)\n",
    "* * * [Disadvantages](#3)\n",
    "* * * [Euclidean Distance in `R`](#4)\n",
    "* * * [Euclidean Distance in `Python`](#5)"
   ]
  },
  {
   "cell_type": "markdown",
   "metadata": {},
   "source": [
    "  \n",
    "* [F-test: test to compare models](#4)\n",
    "* * [F-test in `Python`](#5)\n",
    "* * [F-test in `R`](#6)\n",
    "* * [ANOVA test as an F-test](#7)\n",
    "* * [Significance test as an F-test](#8)\n",
    "\n",
    "  <br>\n"
   ]
  },
  {
   "cell_type": "markdown",
   "metadata": {},
   "source": []
  },
  {
   "cell_type": "markdown",
   "metadata": {},
   "source": []
  },
  {
   "cell_type": "markdown",
   "metadata": {},
   "source": [
    "## Statistical Distances <a class=\"anchor\" id=\"1\"></a>\n"
   ]
  },
  {
   "cell_type": "markdown",
   "metadata": {},
   "source": [
    "\n",
    "The concept of distance between elements of a set $\\varepsilon$ allows us to interpret geometrically many classical techniques of multivariate analysis.\n",
    "\n",
    "This interpretation is possible both with quantitative and categorical variables, or even when no variables are available, as long as it makes sense to obtain a measure of proximity between the elements of $\\varepsilon$\n"
   ]
  },
  {
   "cell_type": "markdown",
   "metadata": {},
   "source": []
  },
  {
   "cell_type": "markdown",
   "metadata": {},
   "source": [
    "\n",
    "###  Distance Definition <a class=\"anchor\" id=\"1\"></a>\n"
   ]
  },
  {
   "cell_type": "markdown",
   "metadata": {},
   "source": [
    "\n",
    "Given a set of elements $\\Omega$"
   ]
  },
  {
   "cell_type": "markdown",
   "metadata": {},
   "source": [
    "#### Almost-metric <a class=\"anchor\" id=\"1\"></a>\n",
    "\n",
    "\n",
    "It is called **quasi-metric** or **dissimilarity** to any mapping $\\delta : \\Omega \\hspace{0.05cm}x\\hspace{0.05cm} \\Omega \\rightarrow \\mathbb{R}$ that satisfies the following properties:\n"
   ]
  },
  {
   "cell_type": "markdown",
   "metadata": {},
   "source": [
    "\n",
    "1) $\\hspace{0.15cm}\\delta (i,j) \\geq 0 \\hspace{0.25cm}, \\forall i,j \\in \\Omega$\n",
    "\n",
    "2) $\\hspace{0.15cm}\\delta (i,i) = 0 \\hspace{0.25cm}, \\forall i \\in  \\Omega$\n",
    "\n",
    "3) $\\hspace{0.15cm}\\delta (i,j) = \\delta (j, i) \\hspace{0.25cm}, \\forall i,j \\in \\Omega $\n",
    "\n"
   ]
  },
  {
   "cell_type": "markdown",
   "metadata": {},
   "source": []
  },
  {
   "cell_type": "markdown",
   "metadata": {},
   "source": [
    "#### Semi-metric <a class=\"anchor\" id=\"1\"></a>\n",
    "\n",
    "\n",
    "It is called **semi-metric** to any dissimilarity (quasi-metric)  that satisfies the triangular inequality:\n"
   ]
  },
  {
   "cell_type": "markdown",
   "metadata": {},
   "source": [
    "\n",
    "4) $\\hspace{0.15cm} \\delta (i,j) \\hspace{0.1 cm}\\leq \\hspace{0.1 cm} \\delta (i,k) + \\delta (k,j) \\hspace{0.25cm}, \\forall i,j,k \\in \\Omega$\n",
    "\n"
   ]
  },
  {
   "cell_type": "markdown",
   "metadata": {},
   "source": []
  },
  {
   "cell_type": "markdown",
   "metadata": {},
   "source": [
    "#### Metric <a class=\"anchor\" id=\"1\"></a>\n",
    "\n",
    "\n",
    "It is called a **metric** to any semi-metric that satisfies:\n",
    "\n",
    "5) $\\hspace{0.15cm} \\delta (i,j)=0 \\hspace{0.15cm}\\Leftrightarrow\\hspace{0.15cm} i=j$\n",
    "\n",
    "\n"
   ]
  },
  {
   "cell_type": "markdown",
   "metadata": {},
   "source": []
  },
  {
   "cell_type": "markdown",
   "metadata": {},
   "source": [
    "#### Distance <a class=\"anchor\" id=\"1\"></a>\n",
    "\n",
    "A **distance** is a metric or semi-metric\n",
    " "
   ]
  },
  {
   "cell_type": "markdown",
   "metadata": {},
   "source": []
  },
  {
   "cell_type": "markdown",
   "metadata": {},
   "source": [
    "### Distance Matrix <a class=\"anchor\" id=\"1\"></a>\n"
   ]
  },
  {
   "cell_type": "markdown",
   "metadata": {},
   "source": [
    "\n",
    "When $\\varepsilon$ is a finite set, we will have a distance matrix:\n"
   ]
  },
  {
   "cell_type": "markdown",
   "metadata": {},
   "source": [
    "\n",
    "$$\n",
    "D= \\begin{pmatrix}\n",
    "0 & \\delta_{12}&...&\\delta_{1n}\\\\\n",
    "\\delta_{21} & 0&...&\\delta_{2n}\\\\\n",
    "...&...&...&...\\\\\n",
    "\\delta_{n1}& \\delta_{n2}&...& 0\\\\\n",
    "\\end{pmatrix}\n",
    "$$\n",
    "con $\\delta_{ij}=\\delta_{ji}$\n",
    "\n"
   ]
  },
  {
   "cell_type": "markdown",
   "metadata": {},
   "source": []
  },
  {
   "cell_type": "markdown",
   "metadata": {},
   "source": [
    "We will also use the matrix of squares of distances:\n"
   ]
  },
  {
   "cell_type": "markdown",
   "metadata": {},
   "source": [
    "\n",
    "$$\n",
    "D^{(2)}= \n",
    "\\begin{pmatrix}\n",
    "0 & \\delta^2_{12}&...&\\delta^2_{1n}\\\\\n",
    "\\delta^2_{21} & 0&...&\\delta^2_{2n}\\\\\n",
    "...&...&...&...\\\\\n",
    "\\delta^2_{n1}& \\delta^2_{n2}&...& 0\\\\\n",
    "\\end{pmatrix}\n",
    "$$\n"
   ]
  },
  {
   "cell_type": "markdown",
   "metadata": {},
   "source": [
    "\n",
    "\n",
    "\n",
    "No debe confundirse con  $D^2=D\\cdot D$\n",
    "\n"
   ]
  },
  {
   "cell_type": "markdown",
   "metadata": {},
   "source": []
  },
  {
   "cell_type": "markdown",
   "metadata": {},
   "source": []
  },
  {
   "cell_type": "markdown",
   "metadata": {},
   "source": [
    "## Distances with quantitative variables <a class=\"anchor\" id=\"1\"></a>\n",
    "\n",
    "\n",
    "\n",
    "Sean $X_1,...,X_p$ variables cuantitativas, \n",
    "\n",
    "Sean $x_i=(x_{i1},...,x_{ip})^t$ \\hspace{0.2cm}y\\hspace{0.2cm}\n",
    "$x_j=(x_{i1},...,x_{ip})^t$ los valores (observaciones) de las variables $X_1,...,X_p$ para los elementos o individuos $i$ y $j$ de la muestra.\n",
    "\n",
    "Let $X_1,...,X_p$ be quantitative variables,\n",
    "\n",
    "Let $x_i=(x_{i1},...,x_{ip})^t$ \\hspace{0.2cm}and \\hspace{0.2cm}\n",
    "$x_j=(x_{i1},...,x_{ip})^t$ the values ​​(observations) of the variables $X_1,...,X_p$ for the elements or individuals $i$ and $j$ of the sample $\\Omega$."
   ]
  },
  {
   "cell_type": "markdown",
   "metadata": {},
   "source": []
  },
  {
   "cell_type": "markdown",
   "metadata": {},
   "source": [
    "\n",
    "## Euclidean Distance <a class=\"anchor\" id=\"1\"></a>\n"
   ]
  },
  {
   "cell_type": "markdown",
   "metadata": {},
   "source": [
    " \n",
    "The Euclidean distance between the elements / individuals $i$ and $j$ of $\\Omega$ with respect to the quantitative variables $X_1,...,X_p$ is defined as:\n"
   ]
  },
  {
   "cell_type": "markdown",
   "metadata": {},
   "source": [
    "\n",
    " $$\n",
    "\\delta^2(i,j)_{Euclidea} = \\sum_{k=1}^{p} (x_{ik} - x_{jk})\\hspace{0.05cm}^2 = (x_i - x_j)\\hspace{0.05cm}^t\\cdot (x_i - x_j)\n",
    "$$\n"
   ]
  },
  {
   "cell_type": "markdown",
   "metadata": {},
   "source": [
    "\n",
    "$$\n",
    "\\delta(i,j)_{Euclidea} =\\sqrt{\\sum_{k=1}^{p} (x_{ik} - x_{jk})\\hspace{0.05cm}^2  }  = \\sqrt{(x_i - x_j)\\hspace{0.05cm}^t\\cdot (x_i - x_j)}\n",
    " $$\n",
    "\n",
    " \n"
   ]
  },
  {
   "cell_type": "markdown",
   "metadata": {},
   "source": []
  },
  {
   "cell_type": "markdown",
   "metadata": {},
   "source": [
    "### Disadvantages <a class=\"anchor\" id=\"1\"></a>\n",
    "\n",
    "\n",
    " \n",
    "Although it is one of the most popular distances, it is not suitable in many cases for the following reasons:\n",
    "\n",
    "1) It assumes that the variables are uncorrelated and with unit variance (although this last problem can be solved by standardizing the variables to unit variance by dividing them by their respective standard deviations).\n",
    "\n",
    "2) It is not invariant against changes in scale (changes in measurement units) of the variables.\n"
   ]
  },
  {
   "cell_type": "markdown",
   "metadata": {},
   "source": [
    " \n",
    "Let's see what this means in more detail:\n",
    "\n",
    "If a change of scale is applied to the variables $a\\cdot X_j + b$, with $a\\neq 1$ and $b\\neq 0$\n",
    "\n",
    "Now the observations for elements $i$ and $j$ are $a\\cdot x_i + b$ and $a\\cdot x_j + b$\n",
    "\n",
    "Then the Euclidean distance between the elements $i$ and $j$ with respect to the scaled variables $a\\cdot X_j + b$ is:\n",
    "\n",
    "$$\n",
    "\\delta^2(i,j)_{Euclidea} = a^2 \\cdot (x_i - x_j)^t\\cdot (x_i - x_j)\n",
    "$$\n"
   ]
  },
  {
   "cell_type": "markdown",
   "metadata": {},
   "source": []
  },
  {
   "cell_type": "markdown",
   "metadata": {},
   "source": [
    "## Data-set in  `R` <a class=\"anchor\" id=\"1\"></a>\n"
   ]
  },
  {
   "cell_type": "markdown",
   "metadata": {},
   "source": [
    "Data-set de trabajo, tendra 4 variables cuantitativas, 3 binarias y 3 categoricas multiples:\n"
   ]
  },
  {
   "cell_type": "code",
   "execution_count": 15,
   "metadata": {},
   "outputs": [],
   "source": [
    "%%R\n",
    "\n",
    "set.seed(123)\n",
    "\n",
    "#Cuantitativas\n",
    "X1 <- rnorm(50, mean=10 , sd=15)\n",
    "X2 <- rnorm(50, mean=10 , sd=15)\n",
    "X3 <- rnorm(50, mean=10 , sd=15)\n",
    "X4 <- rnorm(50, mean=10 , sd=15)\n",
    "\n",
    "#Binarias \n",
    "X5<- round(runif(50))\n",
    "X6<- round(runif(50))\n",
    "X7<- round(runif(50))\n",
    "\n",
    "#Categoricas multiples \n",
    "X8<-round(runif(50, min=0, max=4)) #categorias: 0,1,2,3,4\n",
    "X9<-round(runif(50, min=0, max=3))  #categorias: 0,1,2,3\n",
    "X10<-round(runif(50, min=0, max=5))  #categorias: 0,1,2,3,4,5"
   ]
  },
  {
   "cell_type": "code",
   "execution_count": 17,
   "metadata": {},
   "outputs": [
    {
     "name": "stdout",
     "output_type": "stream",
     "text": [
      "[1] 10.51605\n"
     ]
    }
   ],
   "source": [
    "%%R\n",
    "\n",
    "mean(X1)"
   ]
  },
  {
   "cell_type": "markdown",
   "metadata": {},
   "source": [
    "## Data-set in  `Python` <a class=\"anchor\" id=\"1\"></a>\n"
   ]
  },
  {
   "cell_type": "code",
   "execution_count": 1,
   "metadata": {},
   "outputs": [],
   "source": [
    "import numpy as np\n"
   ]
  },
  {
   "cell_type": "code",
   "execution_count": 32,
   "metadata": {},
   "outputs": [],
   "source": [
    "np.random.seed(123)\n",
    "\n",
    "# Quantitative\n",
    "\n",
    "X1 = np.random.normal(loc=10, scale=15, size=50)\n",
    "X2 = np.random.normal(loc=10, scale=15, size=50)\n",
    "X3 = np.random.normal(loc=10, scale=15, size=50)\n",
    "X4 = np.random.normal(loc=10, scale=15, size=50)\n",
    "\n",
    "# Binary Categorical / Dummies ( categories: 0,1)\n",
    "\n",
    "\n",
    "X5 = np.random.uniform(low=0.0, high=1.0, size=50).round()\n",
    "X6 = np.random.uniform(low=0.0, high=1.0, size=50).round() \n",
    "X7 = np.random.uniform(low=0.0, high=1.0, size=50).round() \n",
    "\n",
    "\n",
    "# Multiple categorical\n",
    "\n",
    "X8 = np.random.uniform(low=0, high=4, size=50).round()   # categories: 0,1,2,3,4\n",
    "X9 = np.random.uniform(low=0, high=3, size=50).round()   # categories: 0,1,2,3\n",
    "X10 = np.random.uniform(low=0, high=5, size=50).round()  # categories: 0,1,2,3,4,5"
   ]
  },
  {
   "cell_type": "code",
   "execution_count": 30,
   "metadata": {},
   "outputs": [
    {
     "data": {
      "text/plain": [
       "array([1., 1., 0., 0., 0., 1., 0., 0., 1., 1., 0., 1., 0., 0., 0., 0., 1.,\n",
       "       1., 1., 1., 0., 0., 0., 0., 0., 0., 1., 0., 1., 0., 1., 0., 0., 1.,\n",
       "       1., 0., 1., 1., 1., 1., 0., 1., 1., 0., 1., 0., 1., 0., 0., 1.])"
      ]
     },
     "execution_count": 30,
     "metadata": {},
     "output_type": "execute_result"
    }
   ],
   "source": []
  },
  {
   "cell_type": "markdown",
   "metadata": {},
   "source": []
  },
  {
   "cell_type": "markdown",
   "metadata": {},
   "source": []
  },
  {
   "cell_type": "markdown",
   "metadata": {},
   "source": [
    "### Euclidean Distance in `R` <a class=\"anchor\" id=\"1\"></a>"
   ]
  },
  {
   "cell_type": "markdown",
   "metadata": {},
   "source": [
    "### Euclidean Distance in `Python` <a class=\"anchor\" id=\"1\"></a>\n"
   ]
  },
  {
   "cell_type": "markdown",
   "metadata": {},
   "source": []
  },
  {
   "cell_type": "markdown",
   "metadata": {},
   "source": [
    "## Bibliography <a class=\"anchor\" id=\"1\"></a>"
   ]
  },
  {
   "cell_type": "markdown",
   "metadata": {},
   "source": [
    "https://numpy.org/doc/stable/reference/random/legacy.html"
   ]
  }
 ],
 "metadata": {
  "kernelspec": {
   "display_name": "Python 3.10.0 64-bit",
   "language": "python",
   "name": "python3"
  },
  "language_info": {
   "codemirror_mode": {
    "name": "ipython",
    "version": 3
   },
   "file_extension": ".py",
   "mimetype": "text/x-python",
   "name": "python",
   "nbconvert_exporter": "python",
   "pygments_lexer": "ipython3",
   "version": "3.10.0"
  },
  "orig_nbformat": 4,
  "vscode": {
   "interpreter": {
    "hash": "c63d8c7d738c2960218a10995aedf0a7f67a49a231e71037adf0440953cdb45b"
   }
  }
 },
 "nbformat": 4,
 "nbformat_minor": 2
}
