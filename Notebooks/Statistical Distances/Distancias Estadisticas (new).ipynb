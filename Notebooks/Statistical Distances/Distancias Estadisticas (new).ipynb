{
 "cells": [
  {
   "cell_type": "code",
   "execution_count": 76,
   "metadata": {},
   "outputs": [],
   "source": [
    "import pandas as pd\n",
    "import numpy as np"
   ]
  },
  {
   "cell_type": "code",
   "execution_count": 77,
   "metadata": {},
   "outputs": [
    {
     "data": {
      "text/html": [
       "<div>\n",
       "<style scoped>\n",
       "    .dataframe tbody tr th:only-of-type {\n",
       "        vertical-align: middle;\n",
       "    }\n",
       "\n",
       "    .dataframe tbody tr th {\n",
       "        vertical-align: top;\n",
       "    }\n",
       "\n",
       "    .dataframe thead th {\n",
       "        text-align: right;\n",
       "    }\n",
       "</style>\n",
       "<table border=\"1\" class=\"dataframe\">\n",
       "  <thead>\n",
       "    <tr style=\"text-align: right;\">\n",
       "      <th></th>\n",
       "      <th>neighborhood_recode</th>\n",
       "      <th>latitude</th>\n",
       "      <th>longitude</th>\n",
       "      <th>price</th>\n",
       "      <th>no_of_bedrooms</th>\n",
       "      <th>no_of_bathrooms</th>\n",
       "      <th>quality_recode</th>\n",
       "      <th>maid_room_recode</th>\n",
       "      <th>unfurnished_recode</th>\n",
       "      <th>balcony_recode</th>\n",
       "      <th>...</th>\n",
       "      <th>private_jacuzzi_recode</th>\n",
       "      <th>private_pool_recode</th>\n",
       "      <th>security_recode</th>\n",
       "      <th>shared_gym_recode</th>\n",
       "      <th>shared_pool_recode</th>\n",
       "      <th>shared_spa_recode</th>\n",
       "      <th>view_of_water_recode</th>\n",
       "      <th>size_in_m_2</th>\n",
       "      <th>type</th>\n",
       "      <th>rating</th>\n",
       "    </tr>\n",
       "  </thead>\n",
       "  <tbody>\n",
       "    <tr>\n",
       "      <th>0</th>\n",
       "      <td>46.0</td>\n",
       "      <td>25.113208</td>\n",
       "      <td>55.138932</td>\n",
       "      <td>2700000</td>\n",
       "      <td>1</td>\n",
       "      <td>2</td>\n",
       "      <td>2.0</td>\n",
       "      <td>0.0</td>\n",
       "      <td>0.0</td>\n",
       "      <td>1.0</td>\n",
       "      <td>...</td>\n",
       "      <td>0.0</td>\n",
       "      <td>0.0</td>\n",
       "      <td>0.0</td>\n",
       "      <td>1.0</td>\n",
       "      <td>0.0</td>\n",
       "      <td>0.0</td>\n",
       "      <td>1.0</td>\n",
       "      <td>100.242337</td>\n",
       "      <td>2.0</td>\n",
       "      <td>3.0</td>\n",
       "    </tr>\n",
       "    <tr>\n",
       "      <th>1</th>\n",
       "      <td>46.0</td>\n",
       "      <td>25.106809</td>\n",
       "      <td>55.151201</td>\n",
       "      <td>2850000</td>\n",
       "      <td>2</td>\n",
       "      <td>2</td>\n",
       "      <td>2.0</td>\n",
       "      <td>0.0</td>\n",
       "      <td>0.0</td>\n",
       "      <td>1.0</td>\n",
       "      <td>...</td>\n",
       "      <td>0.0</td>\n",
       "      <td>0.0</td>\n",
       "      <td>0.0</td>\n",
       "      <td>1.0</td>\n",
       "      <td>1.0</td>\n",
       "      <td>0.0</td>\n",
       "      <td>1.0</td>\n",
       "      <td>146.972546</td>\n",
       "      <td>1.0</td>\n",
       "      <td>2.0</td>\n",
       "    </tr>\n",
       "    <tr>\n",
       "      <th>2</th>\n",
       "      <td>36.0</td>\n",
       "      <td>25.063302</td>\n",
       "      <td>55.137728</td>\n",
       "      <td>1150000</td>\n",
       "      <td>3</td>\n",
       "      <td>5</td>\n",
       "      <td>2.0</td>\n",
       "      <td>1.0</td>\n",
       "      <td>1.0</td>\n",
       "      <td>1.0</td>\n",
       "      <td>...</td>\n",
       "      <td>1.0</td>\n",
       "      <td>0.0</td>\n",
       "      <td>1.0</td>\n",
       "      <td>1.0</td>\n",
       "      <td>1.0</td>\n",
       "      <td>0.0</td>\n",
       "      <td>1.0</td>\n",
       "      <td>181.253753</td>\n",
       "      <td>1.0</td>\n",
       "      <td>5.0</td>\n",
       "    </tr>\n",
       "    <tr>\n",
       "      <th>3</th>\n",
       "      <td>11.0</td>\n",
       "      <td>25.227295</td>\n",
       "      <td>55.341761</td>\n",
       "      <td>2850000</td>\n",
       "      <td>2</td>\n",
       "      <td>3</td>\n",
       "      <td>1.0</td>\n",
       "      <td>0.0</td>\n",
       "      <td>1.0</td>\n",
       "      <td>1.0</td>\n",
       "      <td>...</td>\n",
       "      <td>0.0</td>\n",
       "      <td>0.0</td>\n",
       "      <td>0.0</td>\n",
       "      <td>0.0</td>\n",
       "      <td>0.0</td>\n",
       "      <td>0.0</td>\n",
       "      <td>0.0</td>\n",
       "      <td>187.664060</td>\n",
       "      <td>2.0</td>\n",
       "      <td>5.0</td>\n",
       "    </tr>\n",
       "    <tr>\n",
       "      <th>4</th>\n",
       "      <td>46.0</td>\n",
       "      <td>25.114275</td>\n",
       "      <td>55.139764</td>\n",
       "      <td>1729200</td>\n",
       "      <td>0</td>\n",
       "      <td>1</td>\n",
       "      <td>2.0</td>\n",
       "      <td>0.0</td>\n",
       "      <td>0.0</td>\n",
       "      <td>0.0</td>\n",
       "      <td>...</td>\n",
       "      <td>0.0</td>\n",
       "      <td>0.0</td>\n",
       "      <td>1.0</td>\n",
       "      <td>1.0</td>\n",
       "      <td>1.0</td>\n",
       "      <td>1.0</td>\n",
       "      <td>1.0</td>\n",
       "      <td>47.101821</td>\n",
       "      <td>2.0</td>\n",
       "      <td>1.0</td>\n",
       "    </tr>\n",
       "  </tbody>\n",
       "</table>\n",
       "<p>5 rows × 31 columns</p>\n",
       "</div>"
      ],
      "text/plain": [
       "   neighborhood_recode   latitude  longitude    price  no_of_bedrooms  \\\n",
       "0                 46.0  25.113208  55.138932  2700000               1   \n",
       "1                 46.0  25.106809  55.151201  2850000               2   \n",
       "2                 36.0  25.063302  55.137728  1150000               3   \n",
       "3                 11.0  25.227295  55.341761  2850000               2   \n",
       "4                 46.0  25.114275  55.139764  1729200               0   \n",
       "\n",
       "   no_of_bathrooms  quality_recode  maid_room_recode  unfurnished_recode  \\\n",
       "0                2             2.0               0.0                 0.0   \n",
       "1                2             2.0               0.0                 0.0   \n",
       "2                5             2.0               1.0                 1.0   \n",
       "3                3             1.0               0.0                 1.0   \n",
       "4                1             2.0               0.0                 0.0   \n",
       "\n",
       "   balcony_recode  ...  private_jacuzzi_recode  private_pool_recode  \\\n",
       "0             1.0  ...                     0.0                  0.0   \n",
       "1             1.0  ...                     0.0                  0.0   \n",
       "2             1.0  ...                     1.0                  0.0   \n",
       "3             1.0  ...                     0.0                  0.0   \n",
       "4             0.0  ...                     0.0                  0.0   \n",
       "\n",
       "   security_recode  shared_gym_recode  shared_pool_recode  shared_spa_recode  \\\n",
       "0              0.0                1.0                 0.0                0.0   \n",
       "1              0.0                1.0                 1.0                0.0   \n",
       "2              1.0                1.0                 1.0                0.0   \n",
       "3              0.0                0.0                 0.0                0.0   \n",
       "4              1.0                1.0                 1.0                1.0   \n",
       "\n",
       "   view_of_water_recode  size_in_m_2  type  rating  \n",
       "0                   1.0   100.242337   2.0     3.0  \n",
       "1                   1.0   146.972546   1.0     2.0  \n",
       "2                   1.0   181.253753   1.0     5.0  \n",
       "3                   0.0   187.664060   2.0     5.0  \n",
       "4                   1.0    47.101821   2.0     1.0  \n",
       "\n",
       "[5 rows x 31 columns]"
      ]
     },
     "execution_count": 77,
     "metadata": {},
     "output_type": "execute_result"
    }
   ],
   "source": [
    "Data = pd.read_csv('House_Price_Regression.csv')\n",
    "\n",
    "np.random.seed(123)\n",
    "\n",
    "Data['type'] = np.random.uniform(low=0, high=3, size=len(Data)).round()\n",
    "\n",
    "Data['rating'] = np.random.uniform(low=0, high=5, size=len(Data)).round()\n",
    "\n",
    "Data.head()"
   ]
  },
  {
   "cell_type": "markdown",
   "metadata": {},
   "source": []
  },
  {
   "cell_type": "code",
   "execution_count": 78,
   "metadata": {},
   "outputs": [],
   "source": [
    "Data_quant = Data.loc[: , ['latitude', 'longitude', 'price', 'size_in_m_2', 'no_of_bedrooms', 'no_of_bathrooms']]"
   ]
  },
  {
   "cell_type": "code",
   "execution_count": 79,
   "metadata": {},
   "outputs": [
    {
     "data": {
      "text/html": [
       "<div>\n",
       "<style scoped>\n",
       "    .dataframe tbody tr th:only-of-type {\n",
       "        vertical-align: middle;\n",
       "    }\n",
       "\n",
       "    .dataframe tbody tr th {\n",
       "        vertical-align: top;\n",
       "    }\n",
       "\n",
       "    .dataframe thead th {\n",
       "        text-align: right;\n",
       "    }\n",
       "</style>\n",
       "<table border=\"1\" class=\"dataframe\">\n",
       "  <thead>\n",
       "    <tr style=\"text-align: right;\">\n",
       "      <th></th>\n",
       "      <th>latitude</th>\n",
       "      <th>longitude</th>\n",
       "      <th>price</th>\n",
       "      <th>size_in_m_2</th>\n",
       "      <th>no_of_bedrooms</th>\n",
       "      <th>no_of_bathrooms</th>\n",
       "    </tr>\n",
       "  </thead>\n",
       "  <tbody>\n",
       "    <tr>\n",
       "      <th>0</th>\n",
       "      <td>25.113208</td>\n",
       "      <td>55.138932</td>\n",
       "      <td>2700000</td>\n",
       "      <td>100.242337</td>\n",
       "      <td>1</td>\n",
       "      <td>2</td>\n",
       "    </tr>\n",
       "    <tr>\n",
       "      <th>1</th>\n",
       "      <td>25.106809</td>\n",
       "      <td>55.151201</td>\n",
       "      <td>2850000</td>\n",
       "      <td>146.972546</td>\n",
       "      <td>2</td>\n",
       "      <td>2</td>\n",
       "    </tr>\n",
       "    <tr>\n",
       "      <th>2</th>\n",
       "      <td>25.063302</td>\n",
       "      <td>55.137728</td>\n",
       "      <td>1150000</td>\n",
       "      <td>181.253753</td>\n",
       "      <td>3</td>\n",
       "      <td>5</td>\n",
       "    </tr>\n",
       "    <tr>\n",
       "      <th>3</th>\n",
       "      <td>25.227295</td>\n",
       "      <td>55.341761</td>\n",
       "      <td>2850000</td>\n",
       "      <td>187.664060</td>\n",
       "      <td>2</td>\n",
       "      <td>3</td>\n",
       "    </tr>\n",
       "    <tr>\n",
       "      <th>4</th>\n",
       "      <td>25.114275</td>\n",
       "      <td>55.139764</td>\n",
       "      <td>1729200</td>\n",
       "      <td>47.101821</td>\n",
       "      <td>0</td>\n",
       "      <td>1</td>\n",
       "    </tr>\n",
       "  </tbody>\n",
       "</table>\n",
       "</div>"
      ],
      "text/plain": [
       "    latitude  longitude    price  size_in_m_2  no_of_bedrooms  no_of_bathrooms\n",
       "0  25.113208  55.138932  2700000   100.242337               1                2\n",
       "1  25.106809  55.151201  2850000   146.972546               2                2\n",
       "2  25.063302  55.137728  1150000   181.253753               3                5\n",
       "3  25.227295  55.341761  2850000   187.664060               2                3\n",
       "4  25.114275  55.139764  1729200    47.101821               0                1"
      ]
     },
     "execution_count": 79,
     "metadata": {},
     "output_type": "execute_result"
    }
   ],
   "source": [
    "Data_quant.head()"
   ]
  },
  {
   "cell_type": "markdown",
   "metadata": {},
   "source": []
  },
  {
   "cell_type": "code",
   "execution_count": 80,
   "metadata": {},
   "outputs": [
    {
     "data": {
      "text/html": [
       "<div>\n",
       "<style scoped>\n",
       "    .dataframe tbody tr th:only-of-type {\n",
       "        vertical-align: middle;\n",
       "    }\n",
       "\n",
       "    .dataframe tbody tr th {\n",
       "        vertical-align: top;\n",
       "    }\n",
       "\n",
       "    .dataframe thead th {\n",
       "        text-align: right;\n",
       "    }\n",
       "</style>\n",
       "<table border=\"1\" class=\"dataframe\">\n",
       "  <thead>\n",
       "    <tr style=\"text-align: right;\">\n",
       "      <th></th>\n",
       "      <th>private_garden_recode</th>\n",
       "      <th>private_gym_recode</th>\n",
       "      <th>private_jacuzzi_recode</th>\n",
       "      <th>balcony_recode</th>\n",
       "    </tr>\n",
       "  </thead>\n",
       "  <tbody>\n",
       "    <tr>\n",
       "      <th>0</th>\n",
       "      <td>0.0</td>\n",
       "      <td>0.0</td>\n",
       "      <td>0.0</td>\n",
       "      <td>1.0</td>\n",
       "    </tr>\n",
       "    <tr>\n",
       "      <th>1</th>\n",
       "      <td>0.0</td>\n",
       "      <td>0.0</td>\n",
       "      <td>0.0</td>\n",
       "      <td>1.0</td>\n",
       "    </tr>\n",
       "    <tr>\n",
       "      <th>2</th>\n",
       "      <td>0.0</td>\n",
       "      <td>0.0</td>\n",
       "      <td>1.0</td>\n",
       "      <td>1.0</td>\n",
       "    </tr>\n",
       "    <tr>\n",
       "      <th>3</th>\n",
       "      <td>0.0</td>\n",
       "      <td>0.0</td>\n",
       "      <td>0.0</td>\n",
       "      <td>1.0</td>\n",
       "    </tr>\n",
       "    <tr>\n",
       "      <th>4</th>\n",
       "      <td>0.0</td>\n",
       "      <td>0.0</td>\n",
       "      <td>0.0</td>\n",
       "      <td>0.0</td>\n",
       "    </tr>\n",
       "  </tbody>\n",
       "</table>\n",
       "</div>"
      ],
      "text/plain": [
       "   private_garden_recode  private_gym_recode  private_jacuzzi_recode  \\\n",
       "0                    0.0                 0.0                     0.0   \n",
       "1                    0.0                 0.0                     0.0   \n",
       "2                    0.0                 0.0                     1.0   \n",
       "3                    0.0                 0.0                     0.0   \n",
       "4                    0.0                 0.0                     0.0   \n",
       "\n",
       "   balcony_recode  \n",
       "0             1.0  \n",
       "1             1.0  \n",
       "2             1.0  \n",
       "3             1.0  \n",
       "4             0.0  "
      ]
     },
     "execution_count": 80,
     "metadata": {},
     "output_type": "execute_result"
    }
   ],
   "source": [
    "Data_binary = Data.loc[: , ['private_garden_recode', 'private_gym_recode', 'private_jacuzzi_recode', 'balcony_recode']]\n",
    "\n",
    "Data_binary.head()"
   ]
  },
  {
   "cell_type": "markdown",
   "metadata": {},
   "source": []
  },
  {
   "cell_type": "code",
   "execution_count": 81,
   "metadata": {},
   "outputs": [
    {
     "data": {
      "text/html": [
       "<div>\n",
       "<style scoped>\n",
       "    .dataframe tbody tr th:only-of-type {\n",
       "        vertical-align: middle;\n",
       "    }\n",
       "\n",
       "    .dataframe tbody tr th {\n",
       "        vertical-align: top;\n",
       "    }\n",
       "\n",
       "    .dataframe thead th {\n",
       "        text-align: right;\n",
       "    }\n",
       "</style>\n",
       "<table border=\"1\" class=\"dataframe\">\n",
       "  <thead>\n",
       "    <tr style=\"text-align: right;\">\n",
       "      <th></th>\n",
       "      <th>quality_recode</th>\n",
       "      <th>rating</th>\n",
       "      <th>type</th>\n",
       "    </tr>\n",
       "  </thead>\n",
       "  <tbody>\n",
       "    <tr>\n",
       "      <th>0</th>\n",
       "      <td>2.0</td>\n",
       "      <td>3.0</td>\n",
       "      <td>2.0</td>\n",
       "    </tr>\n",
       "    <tr>\n",
       "      <th>1</th>\n",
       "      <td>2.0</td>\n",
       "      <td>2.0</td>\n",
       "      <td>1.0</td>\n",
       "    </tr>\n",
       "    <tr>\n",
       "      <th>2</th>\n",
       "      <td>2.0</td>\n",
       "      <td>5.0</td>\n",
       "      <td>1.0</td>\n",
       "    </tr>\n",
       "    <tr>\n",
       "      <th>3</th>\n",
       "      <td>1.0</td>\n",
       "      <td>5.0</td>\n",
       "      <td>2.0</td>\n",
       "    </tr>\n",
       "    <tr>\n",
       "      <th>4</th>\n",
       "      <td>2.0</td>\n",
       "      <td>1.0</td>\n",
       "      <td>2.0</td>\n",
       "    </tr>\n",
       "  </tbody>\n",
       "</table>\n",
       "</div>"
      ],
      "text/plain": [
       "   quality_recode  rating  type\n",
       "0             2.0     3.0   2.0\n",
       "1             2.0     2.0   1.0\n",
       "2             2.0     5.0   1.0\n",
       "3             1.0     5.0   2.0\n",
       "4             2.0     1.0   2.0"
      ]
     },
     "execution_count": 81,
     "metadata": {},
     "output_type": "execute_result"
    }
   ],
   "source": [
    "Data_multiclass = Data.loc[: , ['quality_recode', 'rating', 'type']]\n",
    "\n",
    "Data_multiclass.head()"
   ]
  },
  {
   "cell_type": "markdown",
   "metadata": {},
   "source": []
  },
  {
   "cell_type": "code",
   "execution_count": 82,
   "metadata": {},
   "outputs": [
    {
     "data": {
      "text/html": [
       "<div>\n",
       "<style scoped>\n",
       "    .dataframe tbody tr th:only-of-type {\n",
       "        vertical-align: middle;\n",
       "    }\n",
       "\n",
       "    .dataframe tbody tr th {\n",
       "        vertical-align: top;\n",
       "    }\n",
       "\n",
       "    .dataframe thead th {\n",
       "        text-align: right;\n",
       "    }\n",
       "</style>\n",
       "<table border=\"1\" class=\"dataframe\">\n",
       "  <thead>\n",
       "    <tr style=\"text-align: right;\">\n",
       "      <th></th>\n",
       "      <th>latitude</th>\n",
       "      <th>longitude</th>\n",
       "      <th>price</th>\n",
       "      <th>size_in_m_2</th>\n",
       "      <th>no_of_bedrooms</th>\n",
       "      <th>no_of_bathrooms</th>\n",
       "      <th>private_garden_recode</th>\n",
       "      <th>private_gym_recode</th>\n",
       "      <th>private_jacuzzi_recode</th>\n",
       "      <th>balcony_recode</th>\n",
       "      <th>quality_recode</th>\n",
       "      <th>rating</th>\n",
       "      <th>type</th>\n",
       "    </tr>\n",
       "  </thead>\n",
       "  <tbody>\n",
       "    <tr>\n",
       "      <th>0</th>\n",
       "      <td>25.113208</td>\n",
       "      <td>55.138932</td>\n",
       "      <td>2700000</td>\n",
       "      <td>100.242337</td>\n",
       "      <td>1</td>\n",
       "      <td>2</td>\n",
       "      <td>0.0</td>\n",
       "      <td>0.0</td>\n",
       "      <td>0.0</td>\n",
       "      <td>1.0</td>\n",
       "      <td>2.0</td>\n",
       "      <td>3.0</td>\n",
       "      <td>2.0</td>\n",
       "    </tr>\n",
       "    <tr>\n",
       "      <th>1</th>\n",
       "      <td>25.106809</td>\n",
       "      <td>55.151201</td>\n",
       "      <td>2850000</td>\n",
       "      <td>146.972546</td>\n",
       "      <td>2</td>\n",
       "      <td>2</td>\n",
       "      <td>0.0</td>\n",
       "      <td>0.0</td>\n",
       "      <td>0.0</td>\n",
       "      <td>1.0</td>\n",
       "      <td>2.0</td>\n",
       "      <td>2.0</td>\n",
       "      <td>1.0</td>\n",
       "    </tr>\n",
       "    <tr>\n",
       "      <th>2</th>\n",
       "      <td>25.063302</td>\n",
       "      <td>55.137728</td>\n",
       "      <td>1150000</td>\n",
       "      <td>181.253753</td>\n",
       "      <td>3</td>\n",
       "      <td>5</td>\n",
       "      <td>0.0</td>\n",
       "      <td>0.0</td>\n",
       "      <td>1.0</td>\n",
       "      <td>1.0</td>\n",
       "      <td>2.0</td>\n",
       "      <td>5.0</td>\n",
       "      <td>1.0</td>\n",
       "    </tr>\n",
       "    <tr>\n",
       "      <th>3</th>\n",
       "      <td>25.227295</td>\n",
       "      <td>55.341761</td>\n",
       "      <td>2850000</td>\n",
       "      <td>187.664060</td>\n",
       "      <td>2</td>\n",
       "      <td>3</td>\n",
       "      <td>0.0</td>\n",
       "      <td>0.0</td>\n",
       "      <td>0.0</td>\n",
       "      <td>1.0</td>\n",
       "      <td>1.0</td>\n",
       "      <td>5.0</td>\n",
       "      <td>2.0</td>\n",
       "    </tr>\n",
       "    <tr>\n",
       "      <th>4</th>\n",
       "      <td>25.114275</td>\n",
       "      <td>55.139764</td>\n",
       "      <td>1729200</td>\n",
       "      <td>47.101821</td>\n",
       "      <td>0</td>\n",
       "      <td>1</td>\n",
       "      <td>0.0</td>\n",
       "      <td>0.0</td>\n",
       "      <td>0.0</td>\n",
       "      <td>0.0</td>\n",
       "      <td>2.0</td>\n",
       "      <td>1.0</td>\n",
       "      <td>2.0</td>\n",
       "    </tr>\n",
       "  </tbody>\n",
       "</table>\n",
       "</div>"
      ],
      "text/plain": [
       "    latitude  longitude    price  size_in_m_2  no_of_bedrooms  \\\n",
       "0  25.113208  55.138932  2700000   100.242337               1   \n",
       "1  25.106809  55.151201  2850000   146.972546               2   \n",
       "2  25.063302  55.137728  1150000   181.253753               3   \n",
       "3  25.227295  55.341761  2850000   187.664060               2   \n",
       "4  25.114275  55.139764  1729200    47.101821               0   \n",
       "\n",
       "   no_of_bathrooms  private_garden_recode  private_gym_recode  \\\n",
       "0                2                    0.0                 0.0   \n",
       "1                2                    0.0                 0.0   \n",
       "2                5                    0.0                 0.0   \n",
       "3                3                    0.0                 0.0   \n",
       "4                1                    0.0                 0.0   \n",
       "\n",
       "   private_jacuzzi_recode  balcony_recode  quality_recode  rating  type  \n",
       "0                     0.0             1.0             2.0     3.0   2.0  \n",
       "1                     0.0             1.0             2.0     2.0   1.0  \n",
       "2                     1.0             1.0             2.0     5.0   1.0  \n",
       "3                     0.0             1.0             1.0     5.0   2.0  \n",
       "4                     0.0             0.0             2.0     1.0   2.0  "
      ]
     },
     "execution_count": 82,
     "metadata": {},
     "output_type": "execute_result"
    }
   ],
   "source": [
    "Data_mixed = Data.loc[: , ['latitude', 'longitude', 'price', 'size_in_m_2', 'no_of_bedrooms', 'no_of_bathrooms','private_garden_recode', 'private_gym_recode', 'private_jacuzzi_recode', 'balcony_recode','quality_recode', 'rating', 'type']]\n",
    "\n",
    "Data_mixed.head()"
   ]
  },
  {
   "cell_type": "markdown",
   "metadata": {},
   "source": []
  },
  {
   "cell_type": "markdown",
   "metadata": {},
   "source": []
  },
  {
   "cell_type": "markdown",
   "metadata": {},
   "source": [
    "## Distancia Euclidea"
   ]
  },
  {
   "cell_type": "code",
   "execution_count": 83,
   "metadata": {},
   "outputs": [],
   "source": [
    "def Dist_Euclidea(x_i, x_r):\n",
    "\n",
    "        Dist_Euclidea = ( ( x_i - x_r )**2 ).sum()\n",
    "\n",
    "        Dist_Euclidea = np.sqrt(Dist_Euclidea)\n",
    "\n",
    "        return Dist_Euclidea"
   ]
  },
  {
   "cell_type": "code",
   "execution_count": 84,
   "metadata": {},
   "outputs": [
    {
     "data": {
      "text/plain": [
       "1969900.0019225744"
      ]
     },
     "execution_count": 84,
     "metadata": {},
     "output_type": "execute_result"
    }
   ],
   "source": [
    "Dist_Euclidea(Data_quant.iloc[2,:] , Data_quant.iloc[5,:])"
   ]
  },
  {
   "cell_type": "code",
   "execution_count": 85,
   "metadata": {},
   "outputs": [],
   "source": [
    "def Matrix_Dist_Euclidea(Data):\n",
    "\n",
    "    Data = Data.to_numpy()\n",
    "\n",
    "    n = len(Data)\n",
    "\n",
    "    M =  np.empty((n , n))\n",
    "\n",
    "    \n",
    "    for i in range(0, n):\n",
    "\n",
    "         for r in range(0, n):\n",
    "\n",
    "             if i >= r :\n",
    "               \n",
    "                 M[i,r] = 0\n",
    "\n",
    "             else :\n",
    "\n",
    "                 M[i,r] = Dist_Euclidea(Data[i,:] , Data[r,:])   \n",
    "\n",
    "                      \n",
    "    return M "
   ]
  },
  {
   "cell_type": "code",
   "execution_count": 86,
   "metadata": {},
   "outputs": [],
   "source": [
    "M_Euclidean = Matrix_Dist_Euclidea(Data=Data_quant)"
   ]
  },
  {
   "cell_type": "code",
   "execution_count": 87,
   "metadata": {},
   "outputs": [
    {
     "data": {
      "text/plain": [
       "array([[      0.        ,  150000.00728238, 1550000.00212124, ...,\n",
       "         200000.01565902, 2025000.00024491, 1939113.00017324],\n",
       "       [      0.        ,       0.        , 1700000.00034859, ...,\n",
       "          50000.01055292, 2175000.00140691, 2089113.00126347],\n",
       "       [      0.        ,       0.        ,       0.        , ...,\n",
       "        1750000.00000111,  475000.01333737,  389113.0147095 ],\n",
       "       ...,\n",
       "       [      0.        ,       0.        ,       0.        , ...,\n",
       "              0.        , 2225000.00274952, 2139113.00257909],\n",
       "       [      0.        ,       0.        ,       0.        , ...,\n",
       "              0.        ,       0.        ,   85887.00018092],\n",
       "       [      0.        ,       0.        ,       0.        , ...,\n",
       "              0.        ,       0.        ,       0.        ]])"
      ]
     },
     "execution_count": 87,
     "metadata": {},
     "output_type": "execute_result"
    }
   ],
   "source": [
    "M_Euclidean"
   ]
  },
  {
   "cell_type": "code",
   "execution_count": 88,
   "metadata": {},
   "outputs": [
    {
     "data": {
      "text/plain": [
       "array([[      0.        ,  150000.00728238, 1550000.00212124, ...,\n",
       "         200000.01565902, 2025000.00024491, 1939113.00017324],\n",
       "       [ 150000.00728238,       0.        , 1700000.00034859, ...,\n",
       "          50000.01055292, 2175000.00140691, 2089113.00126347],\n",
       "       [1550000.00212124, 1700000.00034859,       0.        , ...,\n",
       "        1750000.00000111,  475000.01333737,  389113.0147095 ],\n",
       "       ...,\n",
       "       [ 200000.01565902,   50000.01055292, 1750000.00000111, ...,\n",
       "              0.        , 2225000.00274952, 2139113.00257909],\n",
       "       [2025000.00024491, 2175000.00140691,  475000.01333737, ...,\n",
       "        2225000.00274952,       0.        ,   85887.00018092],\n",
       "       [1939113.00017324, 2089113.00126347,  389113.0147095 , ...,\n",
       "        2139113.00257909,   85887.00018092,       0.        ]])"
      ]
     },
     "execution_count": 88,
     "metadata": {},
     "output_type": "execute_result"
    }
   ],
   "source": [
    "M_Euclidean = M_Euclidean + M_Euclidean.T\n",
    "\n",
    "M_Euclidean"
   ]
  },
  {
   "cell_type": "markdown",
   "metadata": {},
   "source": []
  },
  {
   "cell_type": "markdown",
   "metadata": {},
   "source": [
    "## Distancia de Minkowski"
   ]
  },
  {
   "cell_type": "code",
   "execution_count": 89,
   "metadata": {},
   "outputs": [],
   "source": [
    "def Dist_Minkowski(x_i, x_r, q):\n",
    "\n",
    "    Dist_Minkowski = ( ( ( abs( x_i - x_r) )**q ).sum() )**(1/q)\n",
    "\n",
    "    return Dist_Minkowski"
   ]
  },
  {
   "cell_type": "code",
   "execution_count": 90,
   "metadata": {},
   "outputs": [
    {
     "data": {
      "text/plain": [
       "1969992.0102169998"
      ]
     },
     "execution_count": 90,
     "metadata": {},
     "output_type": "execute_result"
    }
   ],
   "source": [
    "Dist_Minkowski(Data_quant.iloc[2,:], Data_quant.iloc[5,:], q=1)"
   ]
  },
  {
   "cell_type": "code",
   "execution_count": 91,
   "metadata": {},
   "outputs": [
    {
     "data": {
      "text/plain": [
       "1969900.0019225744"
      ]
     },
     "execution_count": 91,
     "metadata": {},
     "output_type": "execute_result"
    }
   ],
   "source": [
    "Dist_Minkowski(Data_quant.iloc[2,:], Data_quant.iloc[5,:], q=2)"
   ]
  },
  {
   "cell_type": "code",
   "execution_count": 92,
   "metadata": {},
   "outputs": [
    {
     "data": {
      "text/plain": [
       "1969900.000000055"
      ]
     },
     "execution_count": 92,
     "metadata": {},
     "output_type": "execute_result"
    }
   ],
   "source": [
    "Dist_Minkowski(Data_quant.iloc[2,:], Data_quant.iloc[5,:], q=3)"
   ]
  },
  {
   "cell_type": "code",
   "execution_count": 93,
   "metadata": {},
   "outputs": [
    {
     "data": {
      "text/plain": [
       "1969900.0000000016"
      ]
     },
     "execution_count": 93,
     "metadata": {},
     "output_type": "execute_result"
    }
   ],
   "source": [
    "Dist_Minkowski(Data_quant.iloc[2,:], Data_quant.iloc[5,:], q=10)"
   ]
  },
  {
   "cell_type": "code",
   "execution_count": 94,
   "metadata": {},
   "outputs": [],
   "source": [
    "def Matrix_Dist_Minkowski(Data, q):\n",
    "\n",
    "    Data = Data.to_numpy()\n",
    "\n",
    "    n = len(Data)\n",
    "\n",
    "    M =  np.empty((n , n))\n",
    "\n",
    "    \n",
    "    for i in range(0, n):\n",
    "\n",
    "         for r in range(0, n):\n",
    "\n",
    "             if i >= r :\n",
    "               \n",
    "                 M[i,r] = 0\n",
    "\n",
    "             else :\n",
    "\n",
    "                 M[i,r] = Dist_Minkowski(Data[i,:] , Data[r,:], q)   \n",
    "                      \n",
    "    return M "
   ]
  },
  {
   "cell_type": "code",
   "execution_count": 95,
   "metadata": {},
   "outputs": [
    {
     "data": {
      "text/plain": [
       "array([[      0.      ,  150047.748877, 1550086.062526, ...,\n",
       "         200084.359869, 2025031.624379, 1939138.969796],\n",
       "       [      0.      ,       0.      , 1700038.338187, ...,\n",
       "          50036.62379 , 2175079.33592 , 2089186.681337],\n",
       "       [      0.      ,       0.      ,       0.      , ...,\n",
       "        1750002.301489,  475117.608205,  389224.964166],\n",
       "       ...,\n",
       "       [      0.      ,       0.      ,       0.      , ...,\n",
       "              0.      , 2225115.802424, 2139223.298103],\n",
       "       [      0.      ,       0.      ,       0.      , ...,\n",
       "              0.      ,       0.      ,   85892.654583],\n",
       "       [      0.      ,       0.      ,       0.      , ...,\n",
       "              0.      ,       0.      ,       0.      ]])"
      ]
     },
     "execution_count": 95,
     "metadata": {},
     "output_type": "execute_result"
    }
   ],
   "source": [
    "M_Minkowski = Matrix_Dist_Minkowski(Data=Data_quant, q=1)\n",
    "\n",
    "M_Minkowski"
   ]
  },
  {
   "cell_type": "code",
   "execution_count": 96,
   "metadata": {},
   "outputs": [
    {
     "data": {
      "text/plain": [
       "array([[      0.      ,  150047.748877, 1550086.062526, ...,\n",
       "         200084.359869, 2025031.624379, 1939138.969796],\n",
       "       [ 150047.748877,       0.      , 1700038.338187, ...,\n",
       "          50036.62379 , 2175079.33592 , 2089186.681337],\n",
       "       [1550086.062526, 1700038.338187,       0.      , ...,\n",
       "        1750002.301489,  475117.608205,  389224.964166],\n",
       "       ...,\n",
       "       [ 200084.359869,   50036.62379 , 1750002.301489, ...,\n",
       "              0.      , 2225115.802424, 2139223.298103],\n",
       "       [2025031.624379, 2175079.33592 ,  475117.608205, ...,\n",
       "        2225115.802424,       0.      ,   85892.654583],\n",
       "       [1939138.969796, 2089186.681337,  389224.964166, ...,\n",
       "        2139223.298103,   85892.654583,       0.      ]])"
      ]
     },
     "execution_count": 96,
     "metadata": {},
     "output_type": "execute_result"
    }
   ],
   "source": [
    "M_Minkowski = M_Minkowski + M_Minkowski.T\n",
    "\n",
    "M_Minkowski"
   ]
  },
  {
   "cell_type": "markdown",
   "metadata": {},
   "source": []
  },
  {
   "cell_type": "markdown",
   "metadata": {},
   "source": [
    "## Distancia Canberra"
   ]
  },
  {
   "cell_type": "code",
   "execution_count": 97,
   "metadata": {},
   "outputs": [],
   "source": [
    "def Dist_Canberra(x_i, x_r):\n",
    "\n",
    "    numerator =  abs( x_i - x_r )\n",
    "\n",
    "    denominator =  ( abs(x_i) + abs(x_r) )\n",
    "       \n",
    "    numerator=np.array([numerator], dtype=float)\n",
    "\n",
    "    denominator=np.array([denominator], dtype=float)\n",
    "\n",
    "    # The following code is to eliminate zero division problems\n",
    "\n",
    "    Dist_Canberra = ( np.divide( numerator , denominator , out=np.zeros_like(numerator), where=denominator!=0) ).sum() \n",
    "\n",
    "    return Dist_Canberra"
   ]
  },
  {
   "cell_type": "code",
   "execution_count": 98,
   "metadata": {},
   "outputs": [
    {
     "data": {
      "text/plain": [
       "8.8284791957755"
      ]
     },
     "execution_count": 98,
     "metadata": {},
     "output_type": "execute_result"
    }
   ],
   "source": [
    "Dist_Canberra(Data.iloc[2,:] , Data.iloc[5,:])"
   ]
  },
  {
   "cell_type": "code",
   "execution_count": 99,
   "metadata": {},
   "outputs": [],
   "source": [
    "def Matrix_Dist_Canberra(Data):\n",
    "\n",
    "    Data = Data.to_numpy()\n",
    "\n",
    "    n = len(Data)\n",
    "\n",
    "    M =  np.empty((n , n))\n",
    "\n",
    "    \n",
    "    for i in range(0, n):\n",
    "\n",
    "         for r in range(0, n):\n",
    "\n",
    "             if i >= r :\n",
    "               \n",
    "                 M[i,r] = 0\n",
    "\n",
    "             else :\n",
    "\n",
    "                 M[i,r] = Dist_Canberra(Data[i,:] , Data[r,:])   \n",
    "                     \n",
    "    return M "
   ]
  },
  {
   "cell_type": "code",
   "execution_count": 100,
   "metadata": {},
   "outputs": [
    {
     "data": {
      "text/plain": [
       "array([[0.        , 0.5496257 , 1.61996314, ..., 1.25082356, 0.78797391,\n",
       "        0.70959891],\n",
       "       [0.        , 0.        , 1.15900459, ..., 0.74009173, 1.31434216,\n",
       "        1.24077176],\n",
       "       [0.        , 0.        , 0.        , ..., 0.44223489, 1.63990915,\n",
       "        1.55106392],\n",
       "       ...,\n",
       "       [0.        , 0.        , 0.        , ..., 0.        , 2.00032192,\n",
       "        1.93106183],\n",
       "       [0.        , 0.        , 0.        , ..., 0.        , 0.        ,\n",
       "        0.09956138],\n",
       "       [0.        , 0.        , 0.        , ..., 0.        , 0.        ,\n",
       "        0.        ]])"
      ]
     },
     "execution_count": 100,
     "metadata": {},
     "output_type": "execute_result"
    }
   ],
   "source": [
    "M_Canberra = Matrix_Dist_Canberra(Data=Data_quant)\n",
    "\n",
    "M_Canberra"
   ]
  },
  {
   "cell_type": "code",
   "execution_count": 101,
   "metadata": {},
   "outputs": [
    {
     "data": {
      "text/plain": [
       "array([[0.        , 0.5496257 , 1.61996314, ..., 1.25082356, 0.78797391,\n",
       "        0.70959891],\n",
       "       [0.5496257 , 0.        , 1.15900459, ..., 0.74009173, 1.31434216,\n",
       "        1.24077176],\n",
       "       [1.61996314, 1.15900459, 0.        , ..., 0.44223489, 1.63990915,\n",
       "        1.55106392],\n",
       "       ...,\n",
       "       [1.25082356, 0.74009173, 0.44223489, ..., 0.        , 2.00032192,\n",
       "        1.93106183],\n",
       "       [0.78797391, 1.31434216, 1.63990915, ..., 2.00032192, 0.        ,\n",
       "        0.09956138],\n",
       "       [0.70959891, 1.24077176, 1.55106392, ..., 1.93106183, 0.09956138,\n",
       "        0.        ]])"
      ]
     },
     "execution_count": 101,
     "metadata": {},
     "output_type": "execute_result"
    }
   ],
   "source": [
    "M_Canberra = M_Canberra + M_Canberra.T\n",
    "\n",
    "M_Canberra"
   ]
  },
  {
   "cell_type": "markdown",
   "metadata": {},
   "source": []
  },
  {
   "cell_type": "markdown",
   "metadata": {},
   "source": [
    "## Distancia Pearson"
   ]
  },
  {
   "cell_type": "code",
   "execution_count": 102,
   "metadata": {},
   "outputs": [],
   "source": [
    "def Dist_Pearson(x_i, x_r, variance) :\n",
    "\n",
    "    Dist_Pearson = ( ( x_i - x_r )**2 / variance ).sum()\n",
    "\n",
    "    Dist_Pearson = np.sqrt(Dist_Pearson)\n",
    "\n",
    "    return Dist_Pearson"
   ]
  },
  {
   "cell_type": "code",
   "execution_count": 103,
   "metadata": {},
   "outputs": [
    {
     "data": {
      "text/plain": [
       "3.8239347754243425"
      ]
     },
     "execution_count": 103,
     "metadata": {},
     "output_type": "execute_result"
    }
   ],
   "source": [
    "Dist_Pearson(x_i=Data_quant.iloc[2,:], x_r=Data_quant.iloc[5,:], variance = np.var(Data_quant , axis=0, ddof=1))"
   ]
  },
  {
   "cell_type": "code",
   "execution_count": 104,
   "metadata": {},
   "outputs": [],
   "source": [
    "def Matrix_Dist_Pearson(Data):\n",
    "\n",
    "    Data = Data.to_numpy()\n",
    "\n",
    "    n = len(Data)\n",
    "\n",
    "    M =  np.empty((n , n))\n",
    "\n",
    "    \n",
    "    for i in range(0, n):\n",
    "\n",
    "         for r in range(0, n):\n",
    "\n",
    "             if i >= r :\n",
    "               \n",
    "                 M[i,r] = 0\n",
    "\n",
    "             else :\n",
    "\n",
    "                 M[i,r] = Dist_Pearson(Data[i,:] , Data[r,:], variance=np.var(Data, axis=0, ddof=1))   \n",
    "                     \n",
    "    return M "
   ]
  },
  {
   "cell_type": "code",
   "execution_count": 105,
   "metadata": {},
   "outputs": [
    {
     "data": {
      "text/plain": [
       "array([[0.        , 1.21345279, 3.77819153, ..., 4.95085256, 1.66393723,\n",
       "        0.94314867],\n",
       "       [0.        , 0.        , 3.17880538, ..., 4.43821303, 2.03523139,\n",
       "        1.60958264],\n",
       "       [0.        , 0.        , 0.        , ..., 3.82999056, 4.01162596,\n",
       "        3.76955491],\n",
       "       ...,\n",
       "       [0.        , 0.        , 0.        , ..., 0.        , 4.69603617,\n",
       "        5.13174853],\n",
       "       [0.        , 0.        , 0.        , ..., 0.        , 0.        ,\n",
       "        1.09780835],\n",
       "       [0.        , 0.        , 0.        , ..., 0.        , 0.        ,\n",
       "        0.        ]])"
      ]
     },
     "execution_count": 105,
     "metadata": {},
     "output_type": "execute_result"
    }
   ],
   "source": [
    "M_Pearson = Matrix_Dist_Pearson(Data=Data_quant)\n",
    "\n",
    "M_Pearson"
   ]
  },
  {
   "cell_type": "code",
   "execution_count": 106,
   "metadata": {},
   "outputs": [
    {
     "data": {
      "text/plain": [
       "array([[0.        , 1.21345279, 3.77819153, ..., 4.95085256, 1.66393723,\n",
       "        0.94314867],\n",
       "       [1.21345279, 0.        , 3.17880538, ..., 4.43821303, 2.03523139,\n",
       "        1.60958264],\n",
       "       [3.77819153, 3.17880538, 0.        , ..., 3.82999056, 4.01162596,\n",
       "        3.76955491],\n",
       "       ...,\n",
       "       [4.95085256, 4.43821303, 3.82999056, ..., 0.        , 4.69603617,\n",
       "        5.13174853],\n",
       "       [1.66393723, 2.03523139, 4.01162596, ..., 4.69603617, 0.        ,\n",
       "        1.09780835],\n",
       "       [0.94314867, 1.60958264, 3.76955491, ..., 5.13174853, 1.09780835,\n",
       "        0.        ]])"
      ]
     },
     "execution_count": 106,
     "metadata": {},
     "output_type": "execute_result"
    }
   ],
   "source": [
    "M_Pearson = M_Pearson + M_Pearson.T\n",
    "\n",
    "M_Pearson"
   ]
  },
  {
   "cell_type": "markdown",
   "metadata": {},
   "source": []
  },
  {
   "cell_type": "markdown",
   "metadata": {},
   "source": [
    "## Distancia de Mahalanobis"
   ]
  },
  {
   "cell_type": "code",
   "execution_count": 107,
   "metadata": {},
   "outputs": [],
   "source": [
    "def Dist_Mahalanobis_1(x_i, x_r, Data):\n",
    "\n",
    "    # All the columns of Data must be type = 'float' or 'int' (specially not 'object'), in other case we will find \n",
    "    # dimensional problems when Python compute   x @ S_inv @ x.T\n",
    "\n",
    "    x = (x_i - x_r)\n",
    "\n",
    "    x = np.array([x]) # necessary step to transpose a 1D array\n",
    "\n",
    "    S_inv = np.linalg.inv( np.cov(Data , rowvar=False) ) # inverse of covariance matrix\n",
    "\n",
    "    Dist_Maha = np.sqrt( x @ S_inv @ x.T )  # x @ S_inv @ x.T = np.matmul( np.matmul(x , S_inv) , x.T )\n",
    "\n",
    "    Dist_Maha = float(Dist_Maha)\n",
    "\n",
    "    return Dist_Maha"
   ]
  },
  {
   "cell_type": "code",
   "execution_count": 108,
   "metadata": {},
   "outputs": [
    {
     "data": {
      "text/plain": [
       "3.931396144771864"
      ]
     },
     "execution_count": 108,
     "metadata": {},
     "output_type": "execute_result"
    }
   ],
   "source": [
    "Dist_Mahalanobis_1(Data_quant.iloc[2,:] , Data_quant.iloc[5,:] , Data=Data_quant)"
   ]
  },
  {
   "cell_type": "markdown",
   "metadata": {},
   "source": []
  },
  {
   "cell_type": "code",
   "execution_count": 109,
   "metadata": {},
   "outputs": [],
   "source": [
    "def Dist_Mahalanobis_2(x_i, x_r, S_inv):  # Más eficiente que la anterior\n",
    "\n",
    "    # All the columns of Data must be type = 'float' or 'int' (specially not 'object'), in other case we will find \n",
    "    # dimensional problems when Python compute   x @ S_inv @ x.T\n",
    "\n",
    "    x = x_i - x_r\n",
    "\n",
    "    x = np.array([x]) # necessary step to transpose a 1D array\n",
    "\n",
    "    Dist_Maha = np.sqrt( x @ S_inv @ x.T )  # x @ S_inv @ x.T = np.matmul( np.matmul(x , S_inv) , x.T )\n",
    "\n",
    "    Dist_Maha = float(Dist_Maha)\n",
    "\n",
    "    return Dist_Maha"
   ]
  },
  {
   "cell_type": "code",
   "execution_count": 110,
   "metadata": {},
   "outputs": [
    {
     "data": {
      "text/plain": [
       "3.931396144771864"
      ]
     },
     "execution_count": 110,
     "metadata": {},
     "output_type": "execute_result"
    }
   ],
   "source": [
    "Dist_Mahalanobis_2(x_i = Data_quant.iloc[2,:] , x_r = Data_quant.iloc[5,:] , S_inv = np.linalg.inv( np.cov(Data_quant, rowvar=False) ) )"
   ]
  },
  {
   "cell_type": "code",
   "execution_count": 111,
   "metadata": {},
   "outputs": [],
   "source": [
    "def Dist_Mahalanobis_3(x, S_inv):  # Más eficiente que la anterior\n",
    "\n",
    "    # All the columns of Data must be type = 'float' or 'int' (specially not 'object'), in other case we will find \n",
    "    # dimensional problems when Python compute   x @ S_inv @ x.T\n",
    "\n",
    "    # x = (x_i - x_r)\n",
    "\n",
    "    # x = np.array([x]) # necessary step to transpose a 1D array\n",
    "\n",
    "    Dist_Maha = np.sqrt( x @ S_inv @ x.T )  # x @ S_inv @ x.T = np.matmul( np.matmul(x , S_inv) , x.T )\n",
    "\n",
    "    Dist_Maha = float(Dist_Maha)\n",
    "\n",
    "    return Dist_Maha"
   ]
  },
  {
   "cell_type": "code",
   "execution_count": 112,
   "metadata": {},
   "outputs": [
    {
     "data": {
      "text/plain": [
       "3.931396144771864"
      ]
     },
     "execution_count": 112,
     "metadata": {},
     "output_type": "execute_result"
    }
   ],
   "source": [
    "Dist_Mahalanobis_3(x = Data_quant.iloc[2,:] - Data_quant.iloc[5,:] , S_inv=np.linalg.inv( np.cov(Data_quant, rowvar=False) ))"
   ]
  },
  {
   "cell_type": "markdown",
   "metadata": {},
   "source": []
  },
  {
   "cell_type": "code",
   "execution_count": 113,
   "metadata": {},
   "outputs": [],
   "source": [
    "def Matrix_Dist_Mahalanobis_1(Data):\n",
    "\n",
    "    Data = Data.to_numpy()\n",
    "\n",
    "    n = len(Data)\n",
    "\n",
    "    M =  np.empty((n , n))\n",
    "\n",
    "   \n",
    "    for i in range(0, n):\n",
    "\n",
    "         for r in range(0, n):\n",
    "\n",
    "             if i >= r :\n",
    "               \n",
    "                 M[i,r] = 0\n",
    "\n",
    "             else :\n",
    "\n",
    "                 M[i,r] = Dist_Mahalanobis_1(x_i = Data[i,:] , x_r = Data[r,:] , Data=Data )\n",
    "\n",
    "                      \n",
    "    return M "
   ]
  },
  {
   "cell_type": "code",
   "execution_count": 114,
   "metadata": {},
   "outputs": [
    {
     "ename": "KeyboardInterrupt",
     "evalue": "",
     "output_type": "error",
     "traceback": [
      "\u001b[1;31m---------------------------------------------------------------------------\u001b[0m",
      "\u001b[1;31mKeyboardInterrupt\u001b[0m                         Traceback (most recent call last)",
      "\u001b[1;32mc:\\Users\\Usuario\\Documents\\fabio\\Fabio\\Estadistica4all.github.io-1\\Notebooks\\Statistical Distances\\Distancias Estadisticas (new).ipynb Cell 56\u001b[0m in \u001b[0;36m<cell line: 1>\u001b[1;34m()\u001b[0m\n\u001b[1;32m----> <a href='vscode-notebook-cell:/c%3A/Users/Usuario/Documents/fabio/Fabio/Estadistica4all.github.io-1/Notebooks/Statistical%20Distances/Distancias%20Estadisticas%20%28new%29.ipynb#Y106sZmlsZQ%3D%3D?line=0'>1</a>\u001b[0m Matrix_Dist_Mahalanobis_1(Data\u001b[39m=\u001b[39;49mData_quant\u001b[39m.\u001b[39;49miloc[\u001b[39m0\u001b[39;49m:\u001b[39m1000\u001b[39;49m, :])\n",
      "\u001b[1;32mc:\\Users\\Usuario\\Documents\\fabio\\Fabio\\Estadistica4all.github.io-1\\Notebooks\\Statistical Distances\\Distancias Estadisticas (new).ipynb Cell 56\u001b[0m in \u001b[0;36mMatrix_Dist_Mahalanobis_1\u001b[1;34m(Data)\u001b[0m\n\u001b[0;32m     <a href='vscode-notebook-cell:/c%3A/Users/Usuario/Documents/fabio/Fabio/Estadistica4all.github.io-1/Notebooks/Statistical%20Distances/Distancias%20Estadisticas%20%28new%29.ipynb#Y106sZmlsZQ%3D%3D?line=15'>16</a>\u001b[0m              M[i,r] \u001b[39m=\u001b[39m \u001b[39m0\u001b[39m\n\u001b[0;32m     <a href='vscode-notebook-cell:/c%3A/Users/Usuario/Documents/fabio/Fabio/Estadistica4all.github.io-1/Notebooks/Statistical%20Distances/Distancias%20Estadisticas%20%28new%29.ipynb#Y106sZmlsZQ%3D%3D?line=17'>18</a>\u001b[0m          \u001b[39melse\u001b[39;00m :\n\u001b[1;32m---> <a href='vscode-notebook-cell:/c%3A/Users/Usuario/Documents/fabio/Fabio/Estadistica4all.github.io-1/Notebooks/Statistical%20Distances/Distancias%20Estadisticas%20%28new%29.ipynb#Y106sZmlsZQ%3D%3D?line=19'>20</a>\u001b[0m              M[i,r] \u001b[39m=\u001b[39m Dist_Mahalanobis_1(x_i \u001b[39m=\u001b[39;49m Data[i,:] , x_r \u001b[39m=\u001b[39;49m Data[r,:] , Data\u001b[39m=\u001b[39;49mData )\n\u001b[0;32m     <a href='vscode-notebook-cell:/c%3A/Users/Usuario/Documents/fabio/Fabio/Estadistica4all.github.io-1/Notebooks/Statistical%20Distances/Distancias%20Estadisticas%20%28new%29.ipynb#Y106sZmlsZQ%3D%3D?line=22'>23</a>\u001b[0m \u001b[39mreturn\u001b[39;00m M\n",
      "\u001b[1;32mc:\\Users\\Usuario\\Documents\\fabio\\Fabio\\Estadistica4all.github.io-1\\Notebooks\\Statistical Distances\\Distancias Estadisticas (new).ipynb Cell 56\u001b[0m in \u001b[0;36mDist_Mahalanobis_1\u001b[1;34m(x_i, x_r, Data)\u001b[0m\n\u001b[0;32m      <a href='vscode-notebook-cell:/c%3A/Users/Usuario/Documents/fabio/Fabio/Estadistica4all.github.io-1/Notebooks/Statistical%20Distances/Distancias%20Estadisticas%20%28new%29.ipynb#Y106sZmlsZQ%3D%3D?line=5'>6</a>\u001b[0m x \u001b[39m=\u001b[39m (x_i \u001b[39m-\u001b[39m x_r)\n\u001b[0;32m      <a href='vscode-notebook-cell:/c%3A/Users/Usuario/Documents/fabio/Fabio/Estadistica4all.github.io-1/Notebooks/Statistical%20Distances/Distancias%20Estadisticas%20%28new%29.ipynb#Y106sZmlsZQ%3D%3D?line=7'>8</a>\u001b[0m x \u001b[39m=\u001b[39m np\u001b[39m.\u001b[39marray([x]) \u001b[39m# necessary step to transpose a 1D array\u001b[39;00m\n\u001b[1;32m---> <a href='vscode-notebook-cell:/c%3A/Users/Usuario/Documents/fabio/Fabio/Estadistica4all.github.io-1/Notebooks/Statistical%20Distances/Distancias%20Estadisticas%20%28new%29.ipynb#Y106sZmlsZQ%3D%3D?line=9'>10</a>\u001b[0m S_inv \u001b[39m=\u001b[39m np\u001b[39m.\u001b[39mlinalg\u001b[39m.\u001b[39minv( np\u001b[39m.\u001b[39;49mcov(Data , rowvar\u001b[39m=\u001b[39;49m\u001b[39mFalse\u001b[39;49;00m) ) \u001b[39m# inverse of covariance matrix\u001b[39;00m\n\u001b[0;32m     <a href='vscode-notebook-cell:/c%3A/Users/Usuario/Documents/fabio/Fabio/Estadistica4all.github.io-1/Notebooks/Statistical%20Distances/Distancias%20Estadisticas%20%28new%29.ipynb#Y106sZmlsZQ%3D%3D?line=11'>12</a>\u001b[0m Dist_Maha \u001b[39m=\u001b[39m np\u001b[39m.\u001b[39msqrt( x \u001b[39m@\u001b[39m S_inv \u001b[39m@\u001b[39m x\u001b[39m.\u001b[39mT )  \u001b[39m# x @ S_inv @ x.T = np.matmul( np.matmul(x , S_inv) , x.T )\u001b[39;00m\n\u001b[0;32m     <a href='vscode-notebook-cell:/c%3A/Users/Usuario/Documents/fabio/Fabio/Estadistica4all.github.io-1/Notebooks/Statistical%20Distances/Distancias%20Estadisticas%20%28new%29.ipynb#Y106sZmlsZQ%3D%3D?line=13'>14</a>\u001b[0m Dist_Maha \u001b[39m=\u001b[39m \u001b[39mfloat\u001b[39m(Dist_Maha)\n",
      "File \u001b[1;32m<__array_function__ internals>:180\u001b[0m, in \u001b[0;36mcov\u001b[1;34m(*args, **kwargs)\u001b[0m\n",
      "File \u001b[1;32mc:\\Users\\Usuario\\AppData\\Local\\Programs\\Python\\Python310\\lib\\site-packages\\numpy\\lib\\function_base.py:2630\u001b[0m, in \u001b[0;36mcov\u001b[1;34m(m, y, rowvar, bias, ddof, fweights, aweights, dtype)\u001b[0m\n\u001b[0;32m   2627\u001b[0m     \u001b[39melse\u001b[39;00m:\n\u001b[0;32m   2628\u001b[0m         dtype \u001b[39m=\u001b[39m np\u001b[39m.\u001b[39mresult_type(m, y, np\u001b[39m.\u001b[39mfloat64)\n\u001b[1;32m-> 2630\u001b[0m X \u001b[39m=\u001b[39m array(m, ndmin\u001b[39m=\u001b[39;49m\u001b[39m2\u001b[39;49m, dtype\u001b[39m=\u001b[39;49mdtype)\n\u001b[0;32m   2631\u001b[0m \u001b[39mif\u001b[39;00m \u001b[39mnot\u001b[39;00m rowvar \u001b[39mand\u001b[39;00m X\u001b[39m.\u001b[39mshape[\u001b[39m0\u001b[39m] \u001b[39m!=\u001b[39m \u001b[39m1\u001b[39m:\n\u001b[0;32m   2632\u001b[0m     X \u001b[39m=\u001b[39m X\u001b[39m.\u001b[39mT\n",
      "\u001b[1;31mKeyboardInterrupt\u001b[0m: "
     ]
    }
   ],
   "source": [
    "Matrix_Dist_Mahalanobis_1(Data=Data_quant.iloc[0:1000, :]) # 2.25 mins"
   ]
  },
  {
   "cell_type": "code",
   "execution_count": null,
   "metadata": {},
   "outputs": [
    {
     "data": {
      "text/plain": [
       "array([[0.        , 2.11289055, 3.7975463 , ..., 4.51559865, 2.31688444,\n",
       "        1.10588047],\n",
       "       [0.        , 0.        , 4.35615967, ..., 4.93340427, 2.74011739,\n",
       "        2.12938584],\n",
       "       [0.        , 0.        , 0.        , ..., 3.17779509, 3.49432487,\n",
       "        3.23723317],\n",
       "       ...,\n",
       "       [0.        , 0.        , 0.        , ..., 0.        , 3.58695453,\n",
       "        4.11275247],\n",
       "       [0.        , 0.        , 0.        , ..., 0.        , 0.        ,\n",
       "        1.46894947],\n",
       "       [0.        , 0.        , 0.        , ..., 0.        , 0.        ,\n",
       "        0.        ]])"
      ]
     },
     "execution_count": 71,
     "metadata": {},
     "output_type": "execute_result"
    }
   ],
   "source": [
    "Matrix_Dist_Mahalanobis_1(Data=Data_quant) # 8.52 mins"
   ]
  },
  {
   "cell_type": "code",
   "execution_count": 115,
   "metadata": {},
   "outputs": [],
   "source": [
    "def Matrix_Dist_Mahalanobis_2(Data):\n",
    "\n",
    "    Data = Data.to_numpy()\n",
    "\n",
    "    n = len(Data)\n",
    "\n",
    "    M =  np.empty((n , n))\n",
    "\n",
    "    S_inv = np.linalg.inv( np.cov(Data , rowvar=False) )\n",
    "\n",
    "   \n",
    "    for i in range(0, n):\n",
    "\n",
    "         for r in range(0, n):\n",
    "\n",
    "             if i >= r :\n",
    "               \n",
    "                 M[i,r] = 0\n",
    "\n",
    "             else :\n",
    "\n",
    "                 M[i,r] = Dist_Mahalanobis_2(x_i = Data[i,:] , x_r = Data[r,:] , S_inv = S_inv  )\n",
    "\n",
    "                      \n",
    "    return M "
   ]
  },
  {
   "cell_type": "code",
   "execution_count": null,
   "metadata": {},
   "outputs": [
    {
     "data": {
      "text/plain": [
       "array([[0.        , 2.16321817, 3.81131086, ..., 2.74083537, 3.84799958,\n",
       "        1.06041471],\n",
       "       [0.        , 0.        , 4.29953104, ..., 2.76698155, 2.78100414,\n",
       "        2.20791581],\n",
       "       [0.        , 0.        , 0.        , ..., 2.63546884, 4.34269664,\n",
       "        3.32469143],\n",
       "       ...,\n",
       "       [0.        , 0.        , 0.        , ..., 0.        , 2.18534065,\n",
       "        1.8408748 ],\n",
       "       [0.        , 0.        , 0.        , ..., 0.        , 0.        ,\n",
       "        3.09496075],\n",
       "       [0.        , 0.        , 0.        , ..., 0.        , 0.        ,\n",
       "        0.        ]])"
      ]
     },
     "execution_count": 71,
     "metadata": {},
     "output_type": "execute_result"
    }
   ],
   "source": [
    "Matrix_Dist_Mahalanobis_2(Data=Data_quant.iloc[0:1000, :]) # 6.8 seg"
   ]
  },
  {
   "cell_type": "code",
   "execution_count": null,
   "metadata": {},
   "outputs": [
    {
     "data": {
      "text/plain": [
       "array([[0.        , 2.11289055, 3.7975463 , ..., 4.51559865, 2.31688444,\n",
       "        1.10588047],\n",
       "       [0.        , 0.        , 4.35615967, ..., 4.93340427, 2.74011739,\n",
       "        2.12938584],\n",
       "       [0.        , 0.        , 0.        , ..., 3.17779509, 3.49432487,\n",
       "        3.23723317],\n",
       "       ...,\n",
       "       [0.        , 0.        , 0.        , ..., 0.        , 3.58695453,\n",
       "        4.11275247],\n",
       "       [0.        , 0.        , 0.        , ..., 0.        , 0.        ,\n",
       "        1.46894947],\n",
       "       [0.        , 0.        , 0.        , ..., 0.        , 0.        ,\n",
       "        0.        ]])"
      ]
     },
     "execution_count": 72,
     "metadata": {},
     "output_type": "execute_result"
    }
   ],
   "source": [
    "Matrix_Dist_Mahalanobis_2(Data=Data_quant) # 22.5 seg"
   ]
  },
  {
   "cell_type": "markdown",
   "metadata": {},
   "source": []
  },
  {
   "cell_type": "code",
   "execution_count": 116,
   "metadata": {},
   "outputs": [],
   "source": [
    "def Matrix_Dist_Mahalanobis(Data):\n",
    "\n",
    "    Data = Data.to_numpy()\n",
    "\n",
    "    n = len(Data)\n",
    "\n",
    "    M =  np.empty((n , n))\n",
    "\n",
    "    S_inv=np.linalg.inv( np.cov(Data , rowvar=False) )\n",
    "\n",
    "   \n",
    "    for i in range(0, n):\n",
    "\n",
    "         for r in range(0, n):\n",
    "\n",
    "             if i >= r :\n",
    "               \n",
    "                 M[i,r] = 0\n",
    "\n",
    "             else :\n",
    "\n",
    "                 M[i,r] = Dist_Mahalanobis_3(x = np.array([Data[i,:] - Data[r,:]]) , S_inv=S_inv ) \n",
    "\n",
    "                      \n",
    "    return M "
   ]
  },
  {
   "cell_type": "code",
   "execution_count": 117,
   "metadata": {},
   "outputs": [
    {
     "data": {
      "text/plain": [
       "array([[0.        , 2.16321817, 3.81131086, ..., 2.74083537, 3.84799958,\n",
       "        1.06041471],\n",
       "       [0.        , 0.        , 4.29953104, ..., 2.76698155, 2.78100414,\n",
       "        2.20791581],\n",
       "       [0.        , 0.        , 0.        , ..., 2.63546884, 4.34269664,\n",
       "        3.32469143],\n",
       "       ...,\n",
       "       [0.        , 0.        , 0.        , ..., 0.        , 2.18534065,\n",
       "        1.8408748 ],\n",
       "       [0.        , 0.        , 0.        , ..., 0.        , 0.        ,\n",
       "        3.09496075],\n",
       "       [0.        , 0.        , 0.        , ..., 0.        , 0.        ,\n",
       "        0.        ]])"
      ]
     },
     "execution_count": 117,
     "metadata": {},
     "output_type": "execute_result"
    }
   ],
   "source": [
    "Matrix_Dist_Mahalanobis(Data=Data_quant.iloc[0:1000, :]) # 4.8 seg"
   ]
  },
  {
   "cell_type": "code",
   "execution_count": null,
   "metadata": {},
   "outputs": [
    {
     "data": {
      "text/plain": [
       "array([[0.        , 2.11289055, 3.7975463 , ..., 4.51559865, 2.31688444,\n",
       "        1.10588047],\n",
       "       [0.        , 0.        , 4.35615967, ..., 4.93340427, 2.74011739,\n",
       "        2.12938584],\n",
       "       [0.        , 0.        , 0.        , ..., 3.17779509, 3.49432487,\n",
       "        3.23723317],\n",
       "       ...,\n",
       "       [0.        , 0.        , 0.        , ..., 0.        , 3.58695453,\n",
       "        4.11275247],\n",
       "       [0.        , 0.        , 0.        , ..., 0.        , 0.        ,\n",
       "        1.46894947],\n",
       "       [0.        , 0.        , 0.        , ..., 0.        , 0.        ,\n",
       "        0.        ]])"
      ]
     },
     "execution_count": 75,
     "metadata": {},
     "output_type": "execute_result"
    }
   ],
   "source": [
    "M_Mahalanobis = Matrix_Dist_Mahalanobis(Data=Data_quant) # 19.7 seg\n",
    "\n",
    "M_Mahalanobis"
   ]
  },
  {
   "cell_type": "code",
   "execution_count": null,
   "metadata": {},
   "outputs": [
    {
     "data": {
      "text/plain": [
       "array([[0.        , 2.11289055, 3.7975463 , ..., 4.51559865, 2.31688444,\n",
       "        1.10588047],\n",
       "       [2.11289055, 0.        , 4.35615967, ..., 4.93340427, 2.74011739,\n",
       "        2.12938584],\n",
       "       [3.7975463 , 4.35615967, 0.        , ..., 3.17779509, 3.49432487,\n",
       "        3.23723317],\n",
       "       ...,\n",
       "       [4.51559865, 4.93340427, 3.17779509, ..., 0.        , 3.58695453,\n",
       "        4.11275247],\n",
       "       [2.31688444, 2.74011739, 3.49432487, ..., 3.58695453, 0.        ,\n",
       "        1.46894947],\n",
       "       [1.10588047, 2.12938584, 3.23723317, ..., 4.11275247, 1.46894947,\n",
       "        0.        ]])"
      ]
     },
     "execution_count": 76,
     "metadata": {},
     "output_type": "execute_result"
    }
   ],
   "source": [
    "M_Mahalanobis = M_Mahalanobis + M_Mahalanobis.T\n",
    "\n",
    "M_Mahalanobis"
   ]
  },
  {
   "cell_type": "markdown",
   "metadata": {},
   "source": []
  },
  {
   "cell_type": "code",
   "execution_count": 118,
   "metadata": {},
   "outputs": [],
   "source": [
    "def a_b_c_d_Matrix(Data):\n",
    "\n",
    "    X = Data.to_numpy()\n",
    "\n",
    "    a = X @ X.T\n",
    "\n",
    "    n = X.shape[0]\n",
    "\n",
    "    p = X.shape[1]\n",
    "\n",
    "    ones_matrix = np.ones((n, p)) \n",
    "\n",
    "    b = (ones_matrix - X) @ X.T\n",
    "\n",
    "    c = b.T\n",
    "\n",
    "    d = (ones_matrix - X) @ (ones_matrix - X).T\n",
    "\n",
    "    return a , b , c , d , p"
   ]
  },
  {
   "cell_type": "code",
   "execution_count": null,
   "metadata": {},
   "outputs": [],
   "source": [
    "a, b, c, d, p = a_b_c_d_Matrix(Data_binary)"
   ]
  },
  {
   "cell_type": "code",
   "execution_count": null,
   "metadata": {},
   "outputs": [
    {
     "data": {
      "text/plain": [
       "array([[1., 1., 1., ..., 1., 1., 1.],\n",
       "       [1., 1., 1., ..., 1., 1., 1.],\n",
       "       [1., 1., 2., ..., 1., 1., 1.],\n",
       "       ...,\n",
       "       [1., 1., 1., ..., 1., 1., 1.],\n",
       "       [1., 1., 1., ..., 1., 2., 1.],\n",
       "       [1., 1., 1., ..., 1., 1., 1.]])"
      ]
     },
     "execution_count": 81,
     "metadata": {},
     "output_type": "execute_result"
    }
   ],
   "source": [
    "a"
   ]
  },
  {
   "cell_type": "code",
   "execution_count": null,
   "metadata": {},
   "outputs": [
    {
     "data": {
      "text/html": [
       "<div>\n",
       "<style scoped>\n",
       "    .dataframe tbody tr th:only-of-type {\n",
       "        vertical-align: middle;\n",
       "    }\n",
       "\n",
       "    .dataframe tbody tr th {\n",
       "        vertical-align: top;\n",
       "    }\n",
       "\n",
       "    .dataframe thead th {\n",
       "        text-align: right;\n",
       "    }\n",
       "</style>\n",
       "<table border=\"1\" class=\"dataframe\">\n",
       "  <thead>\n",
       "    <tr style=\"text-align: right;\">\n",
       "      <th></th>\n",
       "      <th>private_garden_recode</th>\n",
       "      <th>private_gym_recode</th>\n",
       "      <th>private_jacuzzi_recode</th>\n",
       "      <th>balcony_recode</th>\n",
       "    </tr>\n",
       "  </thead>\n",
       "  <tbody>\n",
       "    <tr>\n",
       "      <th>30</th>\n",
       "      <td>0.0</td>\n",
       "      <td>1.0</td>\n",
       "      <td>0.0</td>\n",
       "      <td>1.0</td>\n",
       "    </tr>\n",
       "    <tr>\n",
       "      <th>1903</th>\n",
       "      <td>1.0</td>\n",
       "      <td>0.0</td>\n",
       "      <td>0.0</td>\n",
       "      <td>1.0</td>\n",
       "    </tr>\n",
       "  </tbody>\n",
       "</table>\n",
       "</div>"
      ],
      "text/plain": [
       "      private_garden_recode  private_gym_recode  private_jacuzzi_recode  \\\n",
       "30                      0.0                 1.0                     0.0   \n",
       "1903                    1.0                 0.0                     0.0   \n",
       "\n",
       "      balcony_recode  \n",
       "30               1.0  \n",
       "1903             1.0  "
      ]
     },
     "execution_count": 82,
     "metadata": {},
     "output_type": "execute_result"
    }
   ],
   "source": [
    "Data_binary.iloc[[30,1903], :]"
   ]
  },
  {
   "cell_type": "code",
   "execution_count": null,
   "metadata": {},
   "outputs": [
    {
     "data": {
      "text/plain": [
       "1.0"
      ]
     },
     "execution_count": 83,
     "metadata": {},
     "output_type": "execute_result"
    }
   ],
   "source": [
    "a[30 , 1903]"
   ]
  },
  {
   "cell_type": "code",
   "execution_count": null,
   "metadata": {},
   "outputs": [
    {
     "data": {
      "text/html": [
       "<div>\n",
       "<style scoped>\n",
       "    .dataframe tbody tr th:only-of-type {\n",
       "        vertical-align: middle;\n",
       "    }\n",
       "\n",
       "    .dataframe tbody tr th {\n",
       "        vertical-align: top;\n",
       "    }\n",
       "\n",
       "    .dataframe thead th {\n",
       "        text-align: right;\n",
       "    }\n",
       "</style>\n",
       "<table border=\"1\" class=\"dataframe\">\n",
       "  <thead>\n",
       "    <tr style=\"text-align: right;\">\n",
       "      <th></th>\n",
       "      <th>private_garden_recode</th>\n",
       "      <th>private_gym_recode</th>\n",
       "      <th>private_jacuzzi_recode</th>\n",
       "      <th>balcony_recode</th>\n",
       "    </tr>\n",
       "  </thead>\n",
       "  <tbody>\n",
       "    <tr>\n",
       "      <th>40</th>\n",
       "      <td>0.0</td>\n",
       "      <td>0.0</td>\n",
       "      <td>0.0</td>\n",
       "      <td>1.0</td>\n",
       "    </tr>\n",
       "    <tr>\n",
       "      <th>1903</th>\n",
       "      <td>1.0</td>\n",
       "      <td>0.0</td>\n",
       "      <td>0.0</td>\n",
       "      <td>1.0</td>\n",
       "    </tr>\n",
       "  </tbody>\n",
       "</table>\n",
       "</div>"
      ],
      "text/plain": [
       "      private_garden_recode  private_gym_recode  private_jacuzzi_recode  \\\n",
       "40                      0.0                 0.0                     0.0   \n",
       "1903                    1.0                 0.0                     0.0   \n",
       "\n",
       "      balcony_recode  \n",
       "40               1.0  \n",
       "1903             1.0  "
      ]
     },
     "execution_count": 84,
     "metadata": {},
     "output_type": "execute_result"
    }
   ],
   "source": [
    "Data_binary.iloc[[40,1903], :]"
   ]
  },
  {
   "cell_type": "code",
   "execution_count": null,
   "metadata": {},
   "outputs": [
    {
     "data": {
      "text/plain": [
       "1.0"
      ]
     },
     "execution_count": 85,
     "metadata": {},
     "output_type": "execute_result"
    }
   ],
   "source": [
    "a[40 , 1903]"
   ]
  },
  {
   "cell_type": "code",
   "execution_count": null,
   "metadata": {},
   "outputs": [
    {
     "data": {
      "text/plain": [
       "array([[0., 0., 1., ..., 0., 1., 0.],\n",
       "       [0., 0., 1., ..., 0., 1., 0.],\n",
       "       [0., 0., 0., ..., 0., 1., 0.],\n",
       "       ...,\n",
       "       [0., 0., 1., ..., 0., 1., 0.],\n",
       "       [0., 0., 1., ..., 0., 0., 0.],\n",
       "       [0., 0., 1., ..., 0., 1., 0.]])"
      ]
     },
     "execution_count": 86,
     "metadata": {},
     "output_type": "execute_result"
    }
   ],
   "source": [
    "b"
   ]
  },
  {
   "cell_type": "code",
   "execution_count": null,
   "metadata": {},
   "outputs": [
    {
     "data": {
      "text/html": [
       "<div>\n",
       "<style scoped>\n",
       "    .dataframe tbody tr th:only-of-type {\n",
       "        vertical-align: middle;\n",
       "    }\n",
       "\n",
       "    .dataframe tbody tr th {\n",
       "        vertical-align: top;\n",
       "    }\n",
       "\n",
       "    .dataframe thead th {\n",
       "        text-align: right;\n",
       "    }\n",
       "</style>\n",
       "<table border=\"1\" class=\"dataframe\">\n",
       "  <thead>\n",
       "    <tr style=\"text-align: right;\">\n",
       "      <th></th>\n",
       "      <th>private_garden_recode</th>\n",
       "      <th>private_gym_recode</th>\n",
       "      <th>private_jacuzzi_recode</th>\n",
       "      <th>balcony_recode</th>\n",
       "    </tr>\n",
       "  </thead>\n",
       "  <tbody>\n",
       "    <tr>\n",
       "      <th>30</th>\n",
       "      <td>0.0</td>\n",
       "      <td>1.0</td>\n",
       "      <td>0.0</td>\n",
       "      <td>1.0</td>\n",
       "    </tr>\n",
       "    <tr>\n",
       "      <th>1903</th>\n",
       "      <td>1.0</td>\n",
       "      <td>0.0</td>\n",
       "      <td>0.0</td>\n",
       "      <td>1.0</td>\n",
       "    </tr>\n",
       "  </tbody>\n",
       "</table>\n",
       "</div>"
      ],
      "text/plain": [
       "      private_garden_recode  private_gym_recode  private_jacuzzi_recode  \\\n",
       "30                      0.0                 1.0                     0.0   \n",
       "1903                    1.0                 0.0                     0.0   \n",
       "\n",
       "      balcony_recode  \n",
       "30               1.0  \n",
       "1903             1.0  "
      ]
     },
     "execution_count": 87,
     "metadata": {},
     "output_type": "execute_result"
    }
   ],
   "source": [
    "Data_binary.iloc[[30,1903], :]"
   ]
  },
  {
   "cell_type": "code",
   "execution_count": null,
   "metadata": {},
   "outputs": [
    {
     "data": {
      "text/plain": [
       "1.0"
      ]
     },
     "execution_count": 88,
     "metadata": {},
     "output_type": "execute_result"
    }
   ],
   "source": [
    "b[30 , 1903]"
   ]
  },
  {
   "cell_type": "code",
   "execution_count": null,
   "metadata": {},
   "outputs": [
    {
     "data": {
      "text/html": [
       "<div>\n",
       "<style scoped>\n",
       "    .dataframe tbody tr th:only-of-type {\n",
       "        vertical-align: middle;\n",
       "    }\n",
       "\n",
       "    .dataframe tbody tr th {\n",
       "        vertical-align: top;\n",
       "    }\n",
       "\n",
       "    .dataframe thead th {\n",
       "        text-align: right;\n",
       "    }\n",
       "</style>\n",
       "<table border=\"1\" class=\"dataframe\">\n",
       "  <thead>\n",
       "    <tr style=\"text-align: right;\">\n",
       "      <th></th>\n",
       "      <th>private_garden_recode</th>\n",
       "      <th>private_gym_recode</th>\n",
       "      <th>private_jacuzzi_recode</th>\n",
       "      <th>balcony_recode</th>\n",
       "    </tr>\n",
       "  </thead>\n",
       "  <tbody>\n",
       "    <tr>\n",
       "      <th>40</th>\n",
       "      <td>0.0</td>\n",
       "      <td>0.0</td>\n",
       "      <td>0.0</td>\n",
       "      <td>1.0</td>\n",
       "    </tr>\n",
       "    <tr>\n",
       "      <th>1903</th>\n",
       "      <td>1.0</td>\n",
       "      <td>0.0</td>\n",
       "      <td>0.0</td>\n",
       "      <td>1.0</td>\n",
       "    </tr>\n",
       "  </tbody>\n",
       "</table>\n",
       "</div>"
      ],
      "text/plain": [
       "      private_garden_recode  private_gym_recode  private_jacuzzi_recode  \\\n",
       "40                      0.0                 0.0                     0.0   \n",
       "1903                    1.0                 0.0                     0.0   \n",
       "\n",
       "      balcony_recode  \n",
       "40               1.0  \n",
       "1903             1.0  "
      ]
     },
     "execution_count": 89,
     "metadata": {},
     "output_type": "execute_result"
    }
   ],
   "source": [
    "Data_binary.iloc[[40,1903], :]"
   ]
  },
  {
   "cell_type": "code",
   "execution_count": null,
   "metadata": {},
   "outputs": [
    {
     "data": {
      "text/plain": [
       "1.0"
      ]
     },
     "execution_count": 90,
     "metadata": {},
     "output_type": "execute_result"
    }
   ],
   "source": [
    "b[40,1903]"
   ]
  },
  {
   "cell_type": "code",
   "execution_count": null,
   "metadata": {},
   "outputs": [
    {
     "data": {
      "text/plain": [
       "array([[0., 0., 0., ..., 0., 0., 0.],\n",
       "       [0., 0., 0., ..., 0., 0., 0.],\n",
       "       [1., 1., 0., ..., 1., 1., 1.],\n",
       "       ...,\n",
       "       [0., 0., 0., ..., 0., 0., 0.],\n",
       "       [1., 1., 1., ..., 1., 0., 1.],\n",
       "       [0., 0., 0., ..., 0., 0., 0.]])"
      ]
     },
     "execution_count": 91,
     "metadata": {},
     "output_type": "execute_result"
    }
   ],
   "source": [
    "c"
   ]
  },
  {
   "cell_type": "code",
   "execution_count": null,
   "metadata": {},
   "outputs": [
    {
     "data": {
      "text/plain": [
       "1.0"
      ]
     },
     "execution_count": 92,
     "metadata": {},
     "output_type": "execute_result"
    }
   ],
   "source": [
    "c[30, 1903]"
   ]
  },
  {
   "cell_type": "code",
   "execution_count": null,
   "metadata": {},
   "outputs": [
    {
     "data": {
      "text/html": [
       "<div>\n",
       "<style scoped>\n",
       "    .dataframe tbody tr th:only-of-type {\n",
       "        vertical-align: middle;\n",
       "    }\n",
       "\n",
       "    .dataframe tbody tr th {\n",
       "        vertical-align: top;\n",
       "    }\n",
       "\n",
       "    .dataframe thead th {\n",
       "        text-align: right;\n",
       "    }\n",
       "</style>\n",
       "<table border=\"1\" class=\"dataframe\">\n",
       "  <thead>\n",
       "    <tr style=\"text-align: right;\">\n",
       "      <th></th>\n",
       "      <th>private_garden_recode</th>\n",
       "      <th>private_gym_recode</th>\n",
       "      <th>private_jacuzzi_recode</th>\n",
       "      <th>balcony_recode</th>\n",
       "    </tr>\n",
       "  </thead>\n",
       "  <tbody>\n",
       "    <tr>\n",
       "      <th>40</th>\n",
       "      <td>0.0</td>\n",
       "      <td>0.0</td>\n",
       "      <td>0.0</td>\n",
       "      <td>1.0</td>\n",
       "    </tr>\n",
       "    <tr>\n",
       "      <th>1903</th>\n",
       "      <td>1.0</td>\n",
       "      <td>0.0</td>\n",
       "      <td>0.0</td>\n",
       "      <td>1.0</td>\n",
       "    </tr>\n",
       "  </tbody>\n",
       "</table>\n",
       "</div>"
      ],
      "text/plain": [
       "      private_garden_recode  private_gym_recode  private_jacuzzi_recode  \\\n",
       "40                      0.0                 0.0                     0.0   \n",
       "1903                    1.0                 0.0                     0.0   \n",
       "\n",
       "      balcony_recode  \n",
       "40               1.0  \n",
       "1903             1.0  "
      ]
     },
     "execution_count": 94,
     "metadata": {},
     "output_type": "execute_result"
    }
   ],
   "source": [
    "Data_binary.iloc[[40,1903], :]"
   ]
  },
  {
   "cell_type": "code",
   "execution_count": null,
   "metadata": {},
   "outputs": [
    {
     "data": {
      "text/plain": [
       "0.0"
      ]
     },
     "execution_count": 95,
     "metadata": {},
     "output_type": "execute_result"
    }
   ],
   "source": [
    "c[40, 1903]"
   ]
  },
  {
   "cell_type": "code",
   "execution_count": null,
   "metadata": {},
   "outputs": [
    {
     "data": {
      "text/plain": [
       "array([[3., 3., 2., ..., 3., 2., 3.],\n",
       "       [3., 3., 2., ..., 3., 2., 3.],\n",
       "       [2., 2., 2., ..., 2., 1., 2.],\n",
       "       ...,\n",
       "       [3., 3., 2., ..., 3., 2., 3.],\n",
       "       [2., 2., 1., ..., 2., 2., 2.],\n",
       "       [3., 3., 2., ..., 3., 2., 3.]])"
      ]
     },
     "execution_count": 96,
     "metadata": {},
     "output_type": "execute_result"
    }
   ],
   "source": [
    "d"
   ]
  },
  {
   "cell_type": "code",
   "execution_count": null,
   "metadata": {},
   "outputs": [
    {
     "data": {
      "text/plain": [
       "1.0"
      ]
     },
     "execution_count": 97,
     "metadata": {},
     "output_type": "execute_result"
    }
   ],
   "source": [
    "d[30,1903]"
   ]
  },
  {
   "cell_type": "code",
   "execution_count": null,
   "metadata": {},
   "outputs": [
    {
     "data": {
      "text/html": [
       "<div>\n",
       "<style scoped>\n",
       "    .dataframe tbody tr th:only-of-type {\n",
       "        vertical-align: middle;\n",
       "    }\n",
       "\n",
       "    .dataframe tbody tr th {\n",
       "        vertical-align: top;\n",
       "    }\n",
       "\n",
       "    .dataframe thead th {\n",
       "        text-align: right;\n",
       "    }\n",
       "</style>\n",
       "<table border=\"1\" class=\"dataframe\">\n",
       "  <thead>\n",
       "    <tr style=\"text-align: right;\">\n",
       "      <th></th>\n",
       "      <th>private_garden_recode</th>\n",
       "      <th>private_gym_recode</th>\n",
       "      <th>private_jacuzzi_recode</th>\n",
       "      <th>balcony_recode</th>\n",
       "    </tr>\n",
       "  </thead>\n",
       "  <tbody>\n",
       "    <tr>\n",
       "      <th>40</th>\n",
       "      <td>0.0</td>\n",
       "      <td>0.0</td>\n",
       "      <td>0.0</td>\n",
       "      <td>1.0</td>\n",
       "    </tr>\n",
       "    <tr>\n",
       "      <th>1903</th>\n",
       "      <td>1.0</td>\n",
       "      <td>0.0</td>\n",
       "      <td>0.0</td>\n",
       "      <td>1.0</td>\n",
       "    </tr>\n",
       "  </tbody>\n",
       "</table>\n",
       "</div>"
      ],
      "text/plain": [
       "      private_garden_recode  private_gym_recode  private_jacuzzi_recode  \\\n",
       "40                      0.0                 0.0                     0.0   \n",
       "1903                    1.0                 0.0                     0.0   \n",
       "\n",
       "      balcony_recode  \n",
       "40               1.0  \n",
       "1903             1.0  "
      ]
     },
     "execution_count": 98,
     "metadata": {},
     "output_type": "execute_result"
    }
   ],
   "source": [
    "Data_binary.iloc[[40,1903], :]"
   ]
  },
  {
   "cell_type": "code",
   "execution_count": null,
   "metadata": {},
   "outputs": [
    {
     "data": {
      "text/plain": [
       "2.0"
      ]
     },
     "execution_count": 99,
     "metadata": {},
     "output_type": "execute_result"
    }
   ],
   "source": [
    "d[40,1903]"
   ]
  },
  {
   "cell_type": "markdown",
   "metadata": {},
   "source": []
  },
  {
   "cell_type": "markdown",
   "metadata": {},
   "source": [
    "## Similaridad de Sokal"
   ]
  },
  {
   "cell_type": "code",
   "execution_count": 119,
   "metadata": {},
   "outputs": [],
   "source": [
    "def Sokal_Similarity_1(i , r, Data):\n",
    "\n",
    "    a, b, c, d, p = a_b_c_d_Matrix(Data)\n",
    "\n",
    "    if a[i,r] + d[i,r] == 0 :\n",
    "\n",
    "        Sokal_Similarity = 0\n",
    "\n",
    "        \n",
    "    else :\n",
    "\n",
    "        Sokal_Similarity = (a[i,r] + d[i,r]) / p\n",
    "        \n",
    "\n",
    "    return Sokal_Similarity"
   ]
  },
  {
   "cell_type": "code",
   "execution_count": null,
   "metadata": {},
   "outputs": [
    {
     "data": {
      "text/plain": [
       "0.75"
      ]
     },
     "execution_count": 101,
     "metadata": {},
     "output_type": "execute_result"
    }
   ],
   "source": [
    "Sokal_Similarity_1(i=1 , r=2, Data=Data_binary)"
   ]
  },
  {
   "cell_type": "code",
   "execution_count": 120,
   "metadata": {},
   "outputs": [],
   "source": [
    "def Sokal_Similarity_2(i , r, a , d, p):\n",
    "\n",
    "\n",
    "    if a[i,r] + d[i,r] == 0 :\n",
    "\n",
    "        Sokal_Similarity = 0\n",
    "\n",
    "        \n",
    "    else :\n",
    "\n",
    "        Sokal_Similarity = (a[i,r] + d[i,r]) / p\n",
    "        \n",
    "\n",
    "    return Sokal_Similarity"
   ]
  },
  {
   "cell_type": "code",
   "execution_count": null,
   "metadata": {},
   "outputs": [
    {
     "data": {
      "text/plain": [
       "0.75"
      ]
     },
     "execution_count": 103,
     "metadata": {},
     "output_type": "execute_result"
    }
   ],
   "source": [
    "a, b, c, d, p = a_b_c_d_Matrix(Data_binary)\n",
    "\n",
    "Sokal_Similarity_2(i=1, r=2, a=a, d=d, p=p)"
   ]
  },
  {
   "cell_type": "code",
   "execution_count": 121,
   "metadata": {},
   "outputs": [],
   "source": [
    "def Matrix_Sim_Sokal_1(Data):\n",
    "\n",
    "    n = len(Data)\n",
    "\n",
    "    M =  np.empty((n , n))\n",
    "\n",
    "   \n",
    "    for i in range(0, n):\n",
    "\n",
    "         for r in range(0, n):\n",
    "\n",
    "            if i > r :\n",
    "               \n",
    "                 M[i,r] = 0\n",
    "            \n",
    "            elif i == r :\n",
    "               \n",
    "                 M[i,r] = 1\n",
    "            \n",
    "            else :\n",
    "\n",
    "                 M[i,r] = Sokal_Similarity_1(i, r, Data)\n",
    "                      \n",
    "    return M "
   ]
  },
  {
   "cell_type": "code",
   "execution_count": null,
   "metadata": {},
   "outputs": [
    {
     "data": {
      "text/plain": [
       "array([[1.  , 1.  , 0.75, ..., 0.75, 0.75, 1.  ],\n",
       "       [0.  , 1.  , 0.75, ..., 0.75, 0.75, 1.  ],\n",
       "       [0.  , 0.  , 1.  , ..., 0.5 , 0.5 , 0.75],\n",
       "       ...,\n",
       "       [0.  , 0.  , 0.  , ..., 1.  , 1.  , 0.75],\n",
       "       [0.  , 0.  , 0.  , ..., 0.  , 1.  , 0.75],\n",
       "       [0.  , 0.  , 0.  , ..., 0.  , 0.  , 1.  ]])"
      ]
     },
     "execution_count": 107,
     "metadata": {},
     "output_type": "execute_result"
    }
   ],
   "source": [
    "Matrix_Sim_Sokal_1(Data=Data_binary.iloc[0:300 , 0:300]) # 1.29 mins"
   ]
  },
  {
   "cell_type": "markdown",
   "metadata": {},
   "source": []
  },
  {
   "cell_type": "code",
   "execution_count": 122,
   "metadata": {},
   "outputs": [],
   "source": [
    "def Matrix_Sim_Sokal_2(Data):\n",
    "\n",
    "    n = len(Data)\n",
    "\n",
    "    M =  np.empty((n , n))\n",
    "\n",
    "    a, b, c, d, p = a_b_c_d_Matrix(Data)\n",
    "\n",
    "   \n",
    "    for i in range(0, n):\n",
    "\n",
    "         for r in range(0, n):\n",
    "\n",
    "            if i > r :\n",
    "               \n",
    "                 M[i,r] = 0\n",
    "            \n",
    "            elif i == r :\n",
    "               \n",
    "                 M[i,r] = 1\n",
    "\n",
    "            else :\n",
    "\n",
    "                 M[i,r] = Sokal_Similarity_2(i=i, r=r, a=a, d=d, p=p)\n",
    "                      \n",
    "    return M "
   ]
  },
  {
   "cell_type": "code",
   "execution_count": null,
   "metadata": {},
   "outputs": [
    {
     "data": {
      "text/plain": [
       "array([[1.  , 1.  , 0.75, ..., 1.  , 1.  , 0.75],\n",
       "       [0.  , 1.  , 0.75, ..., 1.  , 1.  , 0.75],\n",
       "       [0.  , 0.  , 1.  , ..., 0.75, 0.75, 0.5 ],\n",
       "       ...,\n",
       "       [0.  , 0.  , 0.  , ..., 1.  , 1.  , 0.75],\n",
       "       [0.  , 0.  , 0.  , ..., 0.  , 1.  , 0.75],\n",
       "       [0.  , 0.  , 0.  , ..., 0.  , 0.  , 1.  ]])"
      ]
     },
     "execution_count": 109,
     "metadata": {},
     "output_type": "execute_result"
    }
   ],
   "source": [
    "Matrix_Sim_Sokal_2(Data=Data_binary.iloc[0:500 , 0:500]) # 0.2 seg"
   ]
  },
  {
   "cell_type": "code",
   "execution_count": null,
   "metadata": {},
   "outputs": [
    {
     "data": {
      "text/plain": [
       "array([[1.  , 1.  , 0.75, ..., 1.  , 0.75, 1.  ],\n",
       "       [0.  , 1.  , 0.75, ..., 1.  , 0.75, 1.  ],\n",
       "       [0.  , 0.  , 1.  , ..., 0.75, 0.5 , 0.75],\n",
       "       ...,\n",
       "       [0.  , 0.  , 0.  , ..., 1.  , 0.75, 1.  ],\n",
       "       [0.  , 0.  , 0.  , ..., 0.  , 1.  , 0.75],\n",
       "       [0.  , 0.  , 0.  , ..., 0.  , 0.  , 1.  ]])"
      ]
     },
     "execution_count": 110,
     "metadata": {},
     "output_type": "execute_result"
    }
   ],
   "source": [
    "M_Sim_Sokal = Matrix_Sim_Sokal_2(Data=Data_binary) # 3.4 seg\n",
    "\n",
    "M_Sim_Sokal"
   ]
  },
  {
   "cell_type": "code",
   "execution_count": null,
   "metadata": {},
   "outputs": [
    {
     "data": {
      "text/plain": [
       "array([[1.  , 1.  , 0.75, ..., 1.  , 0.75, 1.  ],\n",
       "       [1.  , 1.  , 0.75, ..., 1.  , 0.75, 1.  ],\n",
       "       [0.75, 0.75, 1.  , ..., 0.75, 0.5 , 0.75],\n",
       "       ...,\n",
       "       [1.  , 1.  , 0.75, ..., 1.  , 0.75, 1.  ],\n",
       "       [0.75, 0.75, 0.5 , ..., 0.75, 1.  , 0.75],\n",
       "       [1.  , 1.  , 0.75, ..., 1.  , 0.75, 1.  ]])"
      ]
     },
     "execution_count": 111,
     "metadata": {},
     "output_type": "execute_result"
    }
   ],
   "source": [
    "M_Sim_Sokal = M_Sim_Sokal + M_Sim_Sokal.T - np.diag(np.repeat(1 , len(M_Sim_Sokal)), k=0)\n",
    "\n",
    "M_Sim_Sokal"
   ]
  },
  {
   "cell_type": "markdown",
   "metadata": {},
   "source": []
  },
  {
   "cell_type": "markdown",
   "metadata": {},
   "source": []
  },
  {
   "cell_type": "code",
   "execution_count": 123,
   "metadata": {},
   "outputs": [],
   "source": [
    "def Dist_Sokal(i, r, a, d, p):\n",
    "\n",
    "    dist_Sokal = np.sqrt( Sokal_Similarity_2(i , i, a , d, p) + Sokal_Similarity_2(r , r, a , d, p) - 2*Sokal_Similarity_2(i , r, a , d, p) )\n",
    "\n",
    "    return dist_Sokal  "
   ]
  },
  {
   "cell_type": "code",
   "execution_count": null,
   "metadata": {},
   "outputs": [
    {
     "data": {
      "text/plain": [
       "0.7071067811865476"
      ]
     },
     "execution_count": 113,
     "metadata": {},
     "output_type": "execute_result"
    }
   ],
   "source": [
    "a, b, c, d, p = a_b_c_d_Matrix(Data_binary)\n",
    "\n",
    "Dist_Sokal(i=1, r=2, a=a, d=d, p=p)"
   ]
  },
  {
   "cell_type": "code",
   "execution_count": 124,
   "metadata": {},
   "outputs": [],
   "source": [
    "def Matrix_Dist_Sokal(Data):\n",
    "\n",
    "    n = len(Data)\n",
    "\n",
    "    M =  np.empty((n , n))\n",
    "\n",
    "    a, b, c, d, p = a_b_c_d_Matrix(Data)\n",
    "\n",
    "   \n",
    "    for i in range(0, n):\n",
    "\n",
    "         for r in range(0, n):\n",
    "\n",
    "             if i >= r :\n",
    "               \n",
    "                 M[i,r] = 0\n",
    "\n",
    "             else :\n",
    "\n",
    "                 M[i,r] = Dist_Sokal(i=i, r=r, a=a, d=d, p=p)\n",
    "                      \n",
    "    return M "
   ]
  },
  {
   "cell_type": "code",
   "execution_count": 125,
   "metadata": {},
   "outputs": [
    {
     "data": {
      "text/plain": [
       "array([[0.        , 0.        , 0.70710678, ..., 0.        , 0.70710678,\n",
       "        0.        ],\n",
       "       [0.        , 0.        , 0.70710678, ..., 0.        , 0.70710678,\n",
       "        0.        ],\n",
       "       [0.        , 0.        , 0.        , ..., 0.70710678, 1.        ,\n",
       "        0.70710678],\n",
       "       ...,\n",
       "       [0.        , 0.        , 0.        , ..., 0.        , 0.70710678,\n",
       "        0.        ],\n",
       "       [0.        , 0.        , 0.        , ..., 0.        , 0.        ,\n",
       "        0.70710678],\n",
       "       [0.        , 0.        , 0.        , ..., 0.        , 0.        ,\n",
       "        0.        ]])"
      ]
     },
     "execution_count": 125,
     "metadata": {},
     "output_type": "execute_result"
    }
   ],
   "source": [
    "M_Dist_Sokal = Matrix_Dist_Sokal(Data=Data_binary)\n",
    "\n",
    "M_Dist_Sokal"
   ]
  },
  {
   "cell_type": "code",
   "execution_count": null,
   "metadata": {},
   "outputs": [
    {
     "data": {
      "text/plain": [
       "array([[0.        , 0.        , 0.70710678, ..., 0.        , 0.70710678,\n",
       "        0.        ],\n",
       "       [0.        , 0.        , 0.70710678, ..., 0.        , 0.70710678,\n",
       "        0.        ],\n",
       "       [0.70710678, 0.70710678, 0.        , ..., 0.70710678, 1.        ,\n",
       "        0.70710678],\n",
       "       ...,\n",
       "       [0.        , 0.        , 0.70710678, ..., 0.        , 0.70710678,\n",
       "        0.        ],\n",
       "       [0.70710678, 0.70710678, 1.        , ..., 0.70710678, 0.        ,\n",
       "        0.70710678],\n",
       "       [0.        , 0.        , 0.70710678, ..., 0.        , 0.70710678,\n",
       "        0.        ]])"
      ]
     },
     "execution_count": 116,
     "metadata": {},
     "output_type": "execute_result"
    }
   ],
   "source": [
    "M_Dist_Sokal = M_Dist_Sokal + M_Dist_Sokal.T\n",
    "\n",
    "M_Dist_Sokal"
   ]
  },
  {
   "cell_type": "markdown",
   "metadata": {},
   "source": []
  },
  {
   "cell_type": "markdown",
   "metadata": {},
   "source": []
  },
  {
   "cell_type": "markdown",
   "metadata": {},
   "source": [
    "## Similaridad de Jaccard"
   ]
  },
  {
   "cell_type": "code",
   "execution_count": 126,
   "metadata": {},
   "outputs": [],
   "source": [
    "def Jaccard_Similarity_1(i, r, Data):\n",
    "\n",
    "    a, b, c, d, p = a_b_c_d_Matrix(Data)\n",
    " \n",
    "\n",
    "    if a[i,r] == 0 and  (p-d[i,r]) == 0 :\n",
    "\n",
    "        Jaccard_Similarity = 1\n",
    "\n",
    "    else :\n",
    "\n",
    "        Jaccard_Similarity = a[i,r] / (p-d[i,r])\n",
    "\n",
    "\n",
    "    return Jaccard_Similarity"
   ]
  },
  {
   "cell_type": "code",
   "execution_count": null,
   "metadata": {},
   "outputs": [
    {
     "data": {
      "text/plain": [
       "0.0"
      ]
     },
     "execution_count": 14,
     "metadata": {},
     "output_type": "execute_result"
    }
   ],
   "source": [
    "Jaccard_Similarity_1(i=2, r=5, Data=Data_binary)"
   ]
  },
  {
   "cell_type": "code",
   "execution_count": 127,
   "metadata": {},
   "outputs": [],
   "source": [
    "def Jaccard_Similarity_2(i , r, a , b, c):\n",
    "\n",
    "\n",
    "    if a[i,r] == 0 and  (p-d[i,r]) == 0 :\n",
    "\n",
    "        Jaccard_Similarity = 1\n",
    "\n",
    "    else :\n",
    "\n",
    "        Jaccard_Similarity = a[i,r] / (p-d[i,r])\n",
    "        \n",
    "\n",
    "    return Jaccard_Similarity"
   ]
  },
  {
   "cell_type": "code",
   "execution_count": null,
   "metadata": {},
   "outputs": [
    {
     "data": {
      "text/plain": [
       "0.0"
      ]
     },
     "execution_count": 17,
     "metadata": {},
     "output_type": "execute_result"
    }
   ],
   "source": [
    "a, b, c, d, p = a_b_c_d_Matrix(Data=Data_binary)\n",
    "\n",
    "Jaccard_Similarity_2(i=2, r=5, a=a , b=b, c=c)"
   ]
  },
  {
   "cell_type": "code",
   "execution_count": 128,
   "metadata": {},
   "outputs": [],
   "source": [
    "def Matrix_Sim_Jaccard_1(Data):\n",
    "\n",
    "    n = len(Data)\n",
    "\n",
    "    M =  np.empty((n , n))\n",
    "\n",
    "   \n",
    "    for i in range(0, n):\n",
    "\n",
    "         for r in range(0, n):\n",
    "\n",
    "            if i > r :\n",
    "               \n",
    "                 M[i,r] = 0\n",
    "            \n",
    "            elif i == r :\n",
    "               \n",
    "                 M[i,r] = 1\n",
    "            \n",
    "            else :\n",
    "\n",
    "                 M[i,r] = Jaccard_Similarity_1(i, r, Data)\n",
    "                      \n",
    "    return M "
   ]
  },
  {
   "cell_type": "code",
   "execution_count": null,
   "metadata": {},
   "outputs": [
    {
     "data": {
      "text/plain": [
       "array([[1. , 1. , 0.5, ..., 0. , 0. , 1. ],\n",
       "       [0. , 1. , 0.5, ..., 0. , 0. , 1. ],\n",
       "       [0. , 0. , 1. , ..., 0. , 0. , 0.5],\n",
       "       ...,\n",
       "       [0. , 0. , 0. , ..., 1. , 1. , 0. ],\n",
       "       [0. , 0. , 0. , ..., 0. , 1. , 0. ],\n",
       "       [0. , 0. , 0. , ..., 0. , 0. , 1. ]])"
      ]
     },
     "execution_count": 19,
     "metadata": {},
     "output_type": "execute_result"
    }
   ],
   "source": [
    "Matrix_Sim_Jaccard_1(Data=Data_binary.iloc[0:300, 0:300])  # 1.52 min"
   ]
  },
  {
   "cell_type": "code",
   "execution_count": 129,
   "metadata": {},
   "outputs": [],
   "source": [
    "def Matrix_Sim_Jaccard_2(Data):\n",
    "\n",
    "    n = len(Data)\n",
    "\n",
    "    M =  np.empty((n , n))\n",
    "\n",
    "    a, b, c, d, p = a_b_c_d_Matrix(Data=Data)\n",
    "\n",
    "   \n",
    "    for i in range(0, n):\n",
    "\n",
    "         for r in range(0, n):\n",
    "\n",
    "            if i > r :\n",
    "               \n",
    "                 M[i,r] = 0\n",
    "            \n",
    "            elif i == r :\n",
    "               \n",
    "                 M[i,r] = 1\n",
    "            \n",
    "            else :\n",
    "\n",
    "                 M[i,r] = Jaccard_Similarity_2(i , r , a , b , c)\n",
    "                      \n",
    "    return M "
   ]
  },
  {
   "cell_type": "code",
   "execution_count": null,
   "metadata": {},
   "outputs": [
    {
     "data": {
      "text/plain": [
       "array([[1. , 1. , 0.5, ..., 0. , 0. , 1. ],\n",
       "       [0. , 1. , 0.5, ..., 0. , 0. , 1. ],\n",
       "       [0. , 0. , 1. , ..., 0. , 0. , 0.5],\n",
       "       ...,\n",
       "       [0. , 0. , 0. , ..., 1. , 1. , 0. ],\n",
       "       [0. , 0. , 0. , ..., 0. , 1. , 0. ],\n",
       "       [0. , 0. , 0. , ..., 0. , 0. , 1. ]])"
      ]
     },
     "execution_count": 21,
     "metadata": {},
     "output_type": "execute_result"
    }
   ],
   "source": [
    "Matrix_Sim_Jaccard_2(Data=Data_binary.iloc[0:300,0:300])"
   ]
  },
  {
   "cell_type": "code",
   "execution_count": null,
   "metadata": {},
   "outputs": [
    {
     "data": {
      "text/plain": [
       "array([[1.        , 1.        , 0.5       , ..., 1.        , 0.5       ,\n",
       "        1.        ],\n",
       "       [0.        , 1.        , 0.5       , ..., 1.        , 0.5       ,\n",
       "        1.        ],\n",
       "       [0.        , 0.        , 1.        , ..., 0.5       , 0.33333333,\n",
       "        0.5       ],\n",
       "       ...,\n",
       "       [0.        , 0.        , 0.        , ..., 1.        , 0.5       ,\n",
       "        1.        ],\n",
       "       [0.        , 0.        , 0.        , ..., 0.        , 1.        ,\n",
       "        0.5       ],\n",
       "       [0.        , 0.        , 0.        , ..., 0.        , 0.        ,\n",
       "        1.        ]])"
      ]
     },
     "execution_count": 32,
     "metadata": {},
     "output_type": "execute_result"
    }
   ],
   "source": [
    "M_Jaccard = Matrix_Sim_Jaccard_2(Data=Data_binary)\n",
    "\n",
    "M_Jaccard "
   ]
  },
  {
   "cell_type": "code",
   "execution_count": null,
   "metadata": {},
   "outputs": [
    {
     "data": {
      "text/plain": [
       "array([[1.        , 1.        , 0.5       , ..., 1.        , 0.5       ,\n",
       "        1.        ],\n",
       "       [1.        , 1.        , 0.5       , ..., 1.        , 0.5       ,\n",
       "        1.        ],\n",
       "       [0.5       , 0.5       , 1.        , ..., 0.5       , 0.33333333,\n",
       "        0.5       ],\n",
       "       ...,\n",
       "       [1.        , 1.        , 0.5       , ..., 1.        , 0.5       ,\n",
       "        1.        ],\n",
       "       [0.5       , 0.5       , 0.33333333, ..., 0.5       , 1.        ,\n",
       "        0.5       ],\n",
       "       [1.        , 1.        , 0.5       , ..., 1.        , 0.5       ,\n",
       "        1.        ]])"
      ]
     },
     "execution_count": 33,
     "metadata": {},
     "output_type": "execute_result"
    }
   ],
   "source": [
    "M_Jaccard = M_Jaccard + M_Jaccard.T - np.diag(np.repeat(1 , len(M_Jaccard)), k=0)\n",
    "\n",
    "M_Jaccard "
   ]
  },
  {
   "cell_type": "markdown",
   "metadata": {},
   "source": []
  },
  {
   "cell_type": "code",
   "execution_count": 130,
   "metadata": {},
   "outputs": [],
   "source": [
    "def Dist_Jaccard(i , r, a , b, c):\n",
    "\n",
    "    Dist_Jaccard = np.sqrt( Jaccard_Similarity_2(i , i, a , b, c) + Jaccard_Similarity_2(r , r, a , b, c) - 2*Jaccard_Similarity_2(i , r, a , b, c) )\n",
    "\n",
    "    return Dist_Jaccard  "
   ]
  },
  {
   "cell_type": "code",
   "execution_count": null,
   "metadata": {},
   "outputs": [
    {
     "data": {
      "text/html": [
       "<div>\n",
       "<style scoped>\n",
       "    .dataframe tbody tr th:only-of-type {\n",
       "        vertical-align: middle;\n",
       "    }\n",
       "\n",
       "    .dataframe tbody tr th {\n",
       "        vertical-align: top;\n",
       "    }\n",
       "\n",
       "    .dataframe thead th {\n",
       "        text-align: right;\n",
       "    }\n",
       "</style>\n",
       "<table border=\"1\" class=\"dataframe\">\n",
       "  <thead>\n",
       "    <tr style=\"text-align: right;\">\n",
       "      <th></th>\n",
       "      <th>private_garden_recode</th>\n",
       "      <th>private_gym_recode</th>\n",
       "      <th>private_jacuzzi_recode</th>\n",
       "      <th>balcony_recode</th>\n",
       "    </tr>\n",
       "  </thead>\n",
       "  <tbody>\n",
       "    <tr>\n",
       "      <th>2</th>\n",
       "      <td>0.0</td>\n",
       "      <td>0.0</td>\n",
       "      <td>1.0</td>\n",
       "      <td>1.0</td>\n",
       "    </tr>\n",
       "    <tr>\n",
       "      <th>5</th>\n",
       "      <td>0.0</td>\n",
       "      <td>0.0</td>\n",
       "      <td>0.0</td>\n",
       "      <td>0.0</td>\n",
       "    </tr>\n",
       "  </tbody>\n",
       "</table>\n",
       "</div>"
      ],
      "text/plain": [
       "   private_garden_recode  private_gym_recode  private_jacuzzi_recode  \\\n",
       "2                    0.0                 0.0                     1.0   \n",
       "5                    0.0                 0.0                     0.0   \n",
       "\n",
       "   balcony_recode  \n",
       "2             1.0  \n",
       "5             0.0  "
      ]
     },
     "execution_count": 36,
     "metadata": {},
     "output_type": "execute_result"
    }
   ],
   "source": [
    "Data_binary.iloc[[2,5],:]"
   ]
  },
  {
   "cell_type": "code",
   "execution_count": null,
   "metadata": {},
   "outputs": [
    {
     "data": {
      "text/plain": [
       "1.4142135623730951"
      ]
     },
     "execution_count": 35,
     "metadata": {},
     "output_type": "execute_result"
    }
   ],
   "source": [
    "a, b, c, d, p = a_b_c_d_Matrix(Data_binary)\n",
    "\n",
    "Dist_Jaccard(i=2 , r=5, a=a , b=b, c=c)"
   ]
  },
  {
   "cell_type": "code",
   "execution_count": null,
   "metadata": {},
   "outputs": [
    {
     "data": {
      "text/plain": [
       "1.0"
      ]
     },
     "execution_count": 37,
     "metadata": {},
     "output_type": "execute_result"
    }
   ],
   "source": [
    "Jaccard_Similarity_2(2 , 2, a , b, c) "
   ]
  },
  {
   "cell_type": "code",
   "execution_count": null,
   "metadata": {},
   "outputs": [
    {
     "data": {
      "text/plain": [
       "1"
      ]
     },
     "execution_count": 38,
     "metadata": {},
     "output_type": "execute_result"
    }
   ],
   "source": [
    "Jaccard_Similarity_2(5 , 5, a , b, c) "
   ]
  },
  {
   "cell_type": "code",
   "execution_count": null,
   "metadata": {},
   "outputs": [
    {
     "data": {
      "text/plain": [
       "0.0"
      ]
     },
     "execution_count": 39,
     "metadata": {},
     "output_type": "execute_result"
    }
   ],
   "source": [
    "2*Jaccard_Similarity_2(2 , 5, a , b, c)"
   ]
  },
  {
   "cell_type": "code",
   "execution_count": null,
   "metadata": {},
   "outputs": [
    {
     "data": {
      "text/plain": [
       "1.4142135623730951"
      ]
     },
     "execution_count": 40,
     "metadata": {},
     "output_type": "execute_result"
    }
   ],
   "source": [
    "np.sqrt(Jaccard_Similarity_2(2 , 2, a , b, c) + Jaccard_Similarity_2(5 , 5, a , b, c)  -2*Jaccard_Similarity_2(2 , 5, a , b, c) )"
   ]
  },
  {
   "cell_type": "markdown",
   "metadata": {},
   "source": []
  },
  {
   "cell_type": "code",
   "execution_count": 131,
   "metadata": {},
   "outputs": [],
   "source": [
    "def Matrix_Dist_Jaccard(Data):\n",
    "\n",
    "    n = len(Data)\n",
    "\n",
    "    M =  np.empty((n , n))\n",
    "\n",
    "    a, b, c, d, p = a_b_c_d_Matrix(Data)\n",
    "\n",
    "   \n",
    "    for i in range(0, n):\n",
    "\n",
    "         for r in range(0, n):\n",
    "\n",
    "             if i >= r :\n",
    "               \n",
    "                 M[i,r] = 0\n",
    "\n",
    "             else :\n",
    "\n",
    "                 M[i,r] = Dist_Jaccard(i=i, r=r, a=a, b=b, c=c)\n",
    "                      \n",
    "    return M "
   ]
  },
  {
   "cell_type": "code",
   "execution_count": null,
   "metadata": {},
   "outputs": [
    {
     "data": {
      "text/plain": [
       "array([[0.        , 0.        , 1.        , ..., 0.        , 1.        ,\n",
       "        0.        ],\n",
       "       [0.        , 0.        , 1.        , ..., 0.        , 1.        ,\n",
       "        0.        ],\n",
       "       [0.        , 0.        , 0.        , ..., 1.        , 1.15470054,\n",
       "        1.        ],\n",
       "       ...,\n",
       "       [0.        , 0.        , 0.        , ..., 0.        , 1.        ,\n",
       "        0.        ],\n",
       "       [0.        , 0.        , 0.        , ..., 0.        , 0.        ,\n",
       "        1.        ],\n",
       "       [0.        , 0.        , 0.        , ..., 0.        , 0.        ,\n",
       "        0.        ]])"
      ]
     },
     "execution_count": 42,
     "metadata": {},
     "output_type": "execute_result"
    }
   ],
   "source": [
    "M_Dist_Jaccard = Matrix_Dist_Jaccard(Data=Data_binary)\n",
    "\n",
    "M_Dist_Jaccard"
   ]
  },
  {
   "cell_type": "code",
   "execution_count": null,
   "metadata": {},
   "outputs": [
    {
     "data": {
      "text/plain": [
       "array([[0.        , 0.        , 1.        , ..., 0.        , 1.        ,\n",
       "        0.        ],\n",
       "       [0.        , 0.        , 1.        , ..., 0.        , 1.        ,\n",
       "        0.        ],\n",
       "       [1.        , 1.        , 0.        , ..., 1.        , 1.15470054,\n",
       "        1.        ],\n",
       "       ...,\n",
       "       [0.        , 0.        , 1.        , ..., 0.        , 1.        ,\n",
       "        0.        ],\n",
       "       [1.        , 1.        , 1.15470054, ..., 1.        , 0.        ,\n",
       "        1.        ],\n",
       "       [0.        , 0.        , 1.        , ..., 0.        , 1.        ,\n",
       "        0.        ]])"
      ]
     },
     "execution_count": 43,
     "metadata": {},
     "output_type": "execute_result"
    }
   ],
   "source": [
    "M_Dist_Jaccard = M_Dist_Jaccard + M_Dist_Jaccard.T \n",
    "\n",
    "M_Dist_Jaccard"
   ]
  },
  {
   "cell_type": "markdown",
   "metadata": {},
   "source": []
  },
  {
   "cell_type": "markdown",
   "metadata": {},
   "source": []
  },
  {
   "cell_type": "markdown",
   "metadata": {},
   "source": [
    "## Similaridad de coincidencias"
   ]
  },
  {
   "cell_type": "code",
   "execution_count": 132,
   "metadata": {},
   "outputs": [],
   "source": [
    "def alpha(x_i, x_r):\n",
    "\n",
    "    alpha = sum(x_i == x_r)\n",
    "\n",
    "    return(alpha)   "
   ]
  },
  {
   "cell_type": "code",
   "execution_count": null,
   "metadata": {},
   "outputs": [
    {
     "data": {
      "text/plain": [
       "quality_recode    2.0\n",
       "rating            5.0\n",
       "type              1.0\n",
       "Name: 2, dtype: float64"
      ]
     },
     "execution_count": 13,
     "metadata": {},
     "output_type": "execute_result"
    }
   ],
   "source": [
    "Data_multiclass.iloc[2,:] "
   ]
  },
  {
   "cell_type": "code",
   "execution_count": null,
   "metadata": {},
   "outputs": [
    {
     "data": {
      "text/plain": [
       "quality_recode    2.0\n",
       "rating            5.0\n",
       "type              1.0\n",
       "Name: 5, dtype: float64"
      ]
     },
     "execution_count": 135,
     "metadata": {},
     "output_type": "execute_result"
    }
   ],
   "source": [
    "Data_multiclass.iloc[5,:] "
   ]
  },
  {
   "cell_type": "code",
   "execution_count": null,
   "metadata": {},
   "outputs": [
    {
     "data": {
      "text/plain": [
       "3"
      ]
     },
     "execution_count": 14,
     "metadata": {},
     "output_type": "execute_result"
    }
   ],
   "source": [
    "alpha(x_i=Data_multiclass.iloc[2,:] , x_r=Data_multiclass.iloc[5,:])"
   ]
  },
  {
   "cell_type": "code",
   "execution_count": null,
   "metadata": {},
   "outputs": [
    {
     "data": {
      "text/plain": [
       "quality_recode    2.0\n",
       "rating            3.0\n",
       "type              2.0\n",
       "Name: 15, dtype: float64"
      ]
     },
     "execution_count": 137,
     "metadata": {},
     "output_type": "execute_result"
    }
   ],
   "source": [
    "Data_multiclass.iloc[15,:] "
   ]
  },
  {
   "cell_type": "code",
   "execution_count": null,
   "metadata": {},
   "outputs": [
    {
     "data": {
      "text/plain": [
       "quality_recode    2.0\n",
       "rating            4.0\n",
       "type              1.0\n",
       "Name: 14, dtype: float64"
      ]
     },
     "execution_count": 138,
     "metadata": {},
     "output_type": "execute_result"
    }
   ],
   "source": [
    "Data_multiclass.iloc[14,:]"
   ]
  },
  {
   "cell_type": "code",
   "execution_count": null,
   "metadata": {},
   "outputs": [
    {
     "data": {
      "text/plain": [
       "1"
      ]
     },
     "execution_count": 15,
     "metadata": {},
     "output_type": "execute_result"
    }
   ],
   "source": [
    "alpha(x_i=Data_multiclass.iloc[14,:] , x_r=Data_multiclass.iloc[15,:])"
   ]
  },
  {
   "cell_type": "code",
   "execution_count": 133,
   "metadata": {},
   "outputs": [],
   "source": [
    "def matching_similarity(x_i, x_r, Data):\n",
    "\n",
    "    p = Data.shape[1]\n",
    "\n",
    "    matches_similarity = alpha(x_i, x_r) / p\n",
    "\n",
    "    return(matches_similarity)"
   ]
  },
  {
   "cell_type": "code",
   "execution_count": null,
   "metadata": {},
   "outputs": [
    {
     "data": {
      "text/plain": [
       "1.0"
      ]
     },
     "execution_count": 17,
     "metadata": {},
     "output_type": "execute_result"
    }
   ],
   "source": [
    "matching_similarity(x_i=Data_multiclass.iloc[2,:] , x_r=Data_multiclass.iloc[5,:], Data=Data_multiclass)"
   ]
  },
  {
   "cell_type": "code",
   "execution_count": null,
   "metadata": {},
   "outputs": [
    {
     "data": {
      "text/plain": [
       "0.3333333333333333"
      ]
     },
     "execution_count": 18,
     "metadata": {},
     "output_type": "execute_result"
    }
   ],
   "source": [
    "matching_similarity(x_i=Data_multiclass.iloc[14,:] , x_r=Data_multiclass.iloc[15,:], Data=Data_multiclass)"
   ]
  },
  {
   "cell_type": "markdown",
   "metadata": {},
   "source": []
  },
  {
   "cell_type": "code",
   "execution_count": null,
   "metadata": {},
   "outputs": [],
   "source": [
    "def Matrix_Sim_Matching(Data):\n",
    "    \n",
    "    Data = Data.to_numpy()\n",
    "\n",
    "    n = len(Data)\n",
    "\n",
    "    M =  np.empty((n , n))\n",
    "\n",
    "   \n",
    "    for i in range(0, n):\n",
    "\n",
    "         for r in range(0, n):\n",
    "\n",
    "            if i > r :\n",
    "               \n",
    "                 M[i,r] = 0\n",
    "            \n",
    "            elif i == r :\n",
    "               \n",
    "                 M[i,r] = 1\n",
    "            \n",
    "            else :\n",
    "\n",
    "                 M[i,r] = matches_similarity(x_i=Data[i,:], x_r=Data[r,:], Data=Data)\n",
    "                      \n",
    "    return M "
   ]
  },
  {
   "cell_type": "code",
   "execution_count": null,
   "metadata": {},
   "outputs": [
    {
     "data": {
      "text/plain": [
       "array([[1.        , 0.33333333, 0.33333333, ..., 0.33333333, 0.33333333,\n",
       "        0.33333333],\n",
       "       [0.        , 1.        , 0.66666667, ..., 1.        , 0.66666667,\n",
       "        0.        ],\n",
       "       [0.        , 0.        , 1.        , ..., 0.66666667, 0.66666667,\n",
       "        0.        ],\n",
       "       ...,\n",
       "       [0.        , 0.        , 0.        , ..., 1.        , 0.66666667,\n",
       "        0.        ],\n",
       "       [0.        , 0.        , 0.        , ..., 0.        , 1.        ,\n",
       "        0.        ],\n",
       "       [0.        , 0.        , 0.        , ..., 0.        , 0.        ,\n",
       "        1.        ]])"
      ]
     },
     "execution_count": 20,
     "metadata": {},
     "output_type": "execute_result"
    }
   ],
   "source": [
    "M_matches = Matrix_Sim_Matching(Data=Data_multiclass)\n",
    "\n",
    "M_matches "
   ]
  },
  {
   "cell_type": "code",
   "execution_count": null,
   "metadata": {},
   "outputs": [
    {
     "data": {
      "text/plain": [
       "array([[1.        , 0.33333333, 0.33333333, ..., 0.33333333, 0.33333333,\n",
       "        0.33333333],\n",
       "       [0.33333333, 1.        , 0.66666667, ..., 1.        , 0.66666667,\n",
       "        0.        ],\n",
       "       [0.33333333, 0.66666667, 1.        , ..., 0.66666667, 0.66666667,\n",
       "        0.        ],\n",
       "       ...,\n",
       "       [0.33333333, 1.        , 0.66666667, ..., 1.        , 0.66666667,\n",
       "        0.        ],\n",
       "       [0.33333333, 0.66666667, 0.66666667, ..., 0.66666667, 1.        ,\n",
       "        0.        ],\n",
       "       [0.33333333, 0.        , 0.        , ..., 0.        , 0.        ,\n",
       "        1.        ]])"
      ]
     },
     "execution_count": 21,
     "metadata": {},
     "output_type": "execute_result"
    }
   ],
   "source": [
    "M_matches = M_matches + M_matches.T - np.diag(np.repeat(1 , len(M_matches)), k=0)\n",
    "\n",
    "M_matches"
   ]
  },
  {
   "cell_type": "markdown",
   "metadata": {},
   "source": []
  },
  {
   "cell_type": "code",
   "execution_count": 145,
   "metadata": {},
   "outputs": [],
   "source": [
    "def Dist_Matching(x_i, x_r, Data):\n",
    "\n",
    "    Dist_Matches = np.sqrt(matches_similarity(x_i, x_i, Data) +  matches_similarity(x_r, x_r, Data) - 2*matches_similarity(x_i, x_r, Data) )\n",
    "\n",
    "    return( Dist_Matches )"
   ]
  },
  {
   "cell_type": "markdown",
   "metadata": {},
   "source": []
  },
  {
   "cell_type": "code",
   "execution_count": 143,
   "metadata": {},
   "outputs": [],
   "source": [
    "def Matrix_Dist_Matching(Data):\n",
    "\n",
    "    Data = Data.to_numpy()\n",
    "\n",
    "    n = len(Data)\n",
    "\n",
    "    M =  np.empty((n , n))\n",
    "   \n",
    "    for i in range(0, n):\n",
    "\n",
    "         for r in range(0, n):\n",
    "\n",
    "             if i >= r :\n",
    "               \n",
    "                M[i,r] = 0\n",
    "\n",
    "             else :\n",
    "\n",
    "                M[i,r] = Dist_Matching(x_i=Data[i,:], x_r=Data[r,:], Data=Data)\n",
    "                      \n",
    "    return M "
   ]
  },
  {
   "cell_type": "code",
   "execution_count": null,
   "metadata": {},
   "outputs": [
    {
     "data": {
      "text/plain": [
       "array([[0.        , 1.15470054, 1.15470054, ..., 1.15470054, 1.15470054,\n",
       "        1.15470054],\n",
       "       [0.        , 0.        , 0.81649658, ..., 0.        , 0.81649658,\n",
       "        1.41421356],\n",
       "       [0.        , 0.        , 0.        , ..., 0.81649658, 0.81649658,\n",
       "        1.41421356],\n",
       "       ...,\n",
       "       [0.        , 0.        , 0.        , ..., 0.        , 0.81649658,\n",
       "        1.41421356],\n",
       "       [0.        , 0.        , 0.        , ..., 0.        , 0.        ,\n",
       "        1.41421356],\n",
       "       [0.        , 0.        , 0.        , ..., 0.        , 0.        ,\n",
       "        0.        ]])"
      ]
     },
     "execution_count": 29,
     "metadata": {},
     "output_type": "execute_result"
    }
   ],
   "source": [
    "M_Dist_Matching = Matrix_Dist_Matching(Data=Data_multiclass)\n",
    "\n",
    "M_Dist_Matching"
   ]
  },
  {
   "cell_type": "code",
   "execution_count": null,
   "metadata": {},
   "outputs": [
    {
     "data": {
      "text/plain": [
       "array([[0.        , 1.15470054, 1.15470054, ..., 1.15470054, 1.15470054,\n",
       "        1.15470054],\n",
       "       [1.15470054, 0.        , 0.81649658, ..., 0.        , 0.81649658,\n",
       "        1.41421356],\n",
       "       [1.15470054, 0.81649658, 0.        , ..., 0.81649658, 0.81649658,\n",
       "        1.41421356],\n",
       "       ...,\n",
       "       [1.15470054, 0.        , 0.81649658, ..., 0.        , 0.81649658,\n",
       "        1.41421356],\n",
       "       [1.15470054, 0.81649658, 0.81649658, ..., 0.81649658, 0.        ,\n",
       "        1.41421356],\n",
       "       [1.15470054, 1.41421356, 1.41421356, ..., 1.41421356, 1.41421356,\n",
       "        0.        ]])"
      ]
     },
     "execution_count": 30,
     "metadata": {},
     "output_type": "execute_result"
    }
   ],
   "source": [
    "M_Dist_Matching = M_Dist_Matching + M_Dist_Matching.T\n",
    "\n",
    "M_Dist_Matching"
   ]
  },
  {
   "cell_type": "markdown",
   "metadata": {},
   "source": []
  },
  {
   "cell_type": "markdown",
   "metadata": {},
   "source": []
  },
  {
   "cell_type": "markdown",
   "metadata": {},
   "source": [
    "## Similaridad de Gower"
   ]
  },
  {
   "cell_type": "code",
   "execution_count": 134,
   "metadata": {},
   "outputs": [],
   "source": [
    "def Matrix_Gower_Similarity(Data, p1, p2, p3 ):\n",
    "\n",
    "    # Data tiene que ser un numpy array tal que:\n",
    "    # las primeras p1 tiene que ser variables cuantitativas, \n",
    "    # las siguientes p2 binarias y las restantes p3 multicales\n",
    "\n",
    "    # Si Data no contiene variables cuantitativas --> p1=0\n",
    "    # Si Data no contiene variables binarias --> p2=0\n",
    "    # Si Data no contiene variables multiclase --> p3=0\n",
    "\n",
    "    Data_pd = Data\n",
    "\n",
    "    Data = Data.to_numpy()\n",
    "\n",
    "    n = len(Data)\n",
    "\n",
    "    M =  np.empty((n , n))\n",
    "\n",
    "############################################################\n",
    "    \n",
    "    G_vector = np.repeat(0.5, p1)\n",
    "\n",
    "    for k in range(0, p1):\n",
    "\n",
    "        G_vector[k] = Data[:,k].max() - Data[:,k].min()\n",
    "\n",
    "############################################################\n",
    "   \n",
    "    ones = np.repeat(1, p1)\n",
    "\n",
    "    Quant_Data = Data[: , 0:p1]\n",
    "\n",
    "    Binary_Data_pd = Data_pd.iloc[: , (p1):(p1+p2)]\n",
    "\n",
    "    Multiple_Data = Data[: , (p1+p2):(p1+p2+p3) ]\n",
    "\n",
    "############################################################\n",
    "\n",
    "    a, b, c, d, p = a_b_c_d_Matrix(Binary_Data_pd)\n",
    "\n",
    "############################################################\n",
    "\n",
    "    for i in range(0, n):\n",
    "\n",
    "         for r in range(0, n):\n",
    "\n",
    "            if i > r :\n",
    "               \n",
    "                 M[i,r] = 0\n",
    "            \n",
    "            elif i == r :\n",
    "               \n",
    "                 M[i,r] = 1\n",
    "            \n",
    "            else :\n",
    "\n",
    "                # Calculo de la distancia de Gower entre las observaciones x_i y x_r\n",
    "\n",
    "                numerator_part_1 = ( ones - ( abs(Quant_Data[i,:] - Quant_Data[r,:]) / G_vector ) ).sum() \n",
    "\n",
    "                numerator_part_2 = a[i,r] \n",
    "                \n",
    "                numerator_part_3 = alpha(Multiple_Data[i,:], Multiple_Data[r,:])\n",
    "\n",
    "                numerator = numerator_part_1 + numerator_part_2 + numerator_part_3\n",
    "\n",
    "                denominator = p1 + (p2 - d[i,r]) + p3\n",
    "                \n",
    "\n",
    "                if denominator == 0:\n",
    "\n",
    "                    M[i,r] = 0\n",
    "\n",
    "                else:    \n",
    "                    \n",
    "                    M[i,r] = numerator / denominator\n",
    "                      \n",
    "   \n",
    "    return M  "
   ]
  },
  {
   "cell_type": "code",
   "execution_count": null,
   "metadata": {},
   "outputs": [
    {
     "data": {
      "text/html": [
       "<div>\n",
       "<style scoped>\n",
       "    .dataframe tbody tr th:only-of-type {\n",
       "        vertical-align: middle;\n",
       "    }\n",
       "\n",
       "    .dataframe tbody tr th {\n",
       "        vertical-align: top;\n",
       "    }\n",
       "\n",
       "    .dataframe thead th {\n",
       "        text-align: right;\n",
       "    }\n",
       "</style>\n",
       "<table border=\"1\" class=\"dataframe\">\n",
       "  <thead>\n",
       "    <tr style=\"text-align: right;\">\n",
       "      <th></th>\n",
       "      <th>latitude</th>\n",
       "      <th>longitude</th>\n",
       "      <th>price</th>\n",
       "      <th>size_in_m_2</th>\n",
       "      <th>no_of_bedrooms</th>\n",
       "      <th>no_of_bathrooms</th>\n",
       "      <th>private_garden_recode</th>\n",
       "      <th>private_gym_recode</th>\n",
       "      <th>private_jacuzzi_recode</th>\n",
       "      <th>balcony_recode</th>\n",
       "      <th>quality_recode</th>\n",
       "      <th>rating</th>\n",
       "      <th>type</th>\n",
       "    </tr>\n",
       "  </thead>\n",
       "  <tbody>\n",
       "    <tr>\n",
       "      <th>0</th>\n",
       "      <td>25.113208</td>\n",
       "      <td>55.138932</td>\n",
       "      <td>2700000</td>\n",
       "      <td>100.242337</td>\n",
       "      <td>1</td>\n",
       "      <td>2</td>\n",
       "      <td>0.0</td>\n",
       "      <td>0.0</td>\n",
       "      <td>0.0</td>\n",
       "      <td>1.0</td>\n",
       "      <td>2.0</td>\n",
       "      <td>3.0</td>\n",
       "      <td>2.0</td>\n",
       "    </tr>\n",
       "    <tr>\n",
       "      <th>1</th>\n",
       "      <td>25.106809</td>\n",
       "      <td>55.151201</td>\n",
       "      <td>2850000</td>\n",
       "      <td>146.972546</td>\n",
       "      <td>2</td>\n",
       "      <td>2</td>\n",
       "      <td>0.0</td>\n",
       "      <td>0.0</td>\n",
       "      <td>0.0</td>\n",
       "      <td>1.0</td>\n",
       "      <td>2.0</td>\n",
       "      <td>2.0</td>\n",
       "      <td>1.0</td>\n",
       "    </tr>\n",
       "    <tr>\n",
       "      <th>2</th>\n",
       "      <td>25.063302</td>\n",
       "      <td>55.137728</td>\n",
       "      <td>1150000</td>\n",
       "      <td>181.253753</td>\n",
       "      <td>3</td>\n",
       "      <td>5</td>\n",
       "      <td>0.0</td>\n",
       "      <td>0.0</td>\n",
       "      <td>1.0</td>\n",
       "      <td>1.0</td>\n",
       "      <td>2.0</td>\n",
       "      <td>5.0</td>\n",
       "      <td>1.0</td>\n",
       "    </tr>\n",
       "    <tr>\n",
       "      <th>3</th>\n",
       "      <td>25.227295</td>\n",
       "      <td>55.341761</td>\n",
       "      <td>2850000</td>\n",
       "      <td>187.664060</td>\n",
       "      <td>2</td>\n",
       "      <td>3</td>\n",
       "      <td>0.0</td>\n",
       "      <td>0.0</td>\n",
       "      <td>0.0</td>\n",
       "      <td>1.0</td>\n",
       "      <td>1.0</td>\n",
       "      <td>5.0</td>\n",
       "      <td>2.0</td>\n",
       "    </tr>\n",
       "    <tr>\n",
       "      <th>4</th>\n",
       "      <td>25.114275</td>\n",
       "      <td>55.139764</td>\n",
       "      <td>1729200</td>\n",
       "      <td>47.101821</td>\n",
       "      <td>0</td>\n",
       "      <td>1</td>\n",
       "      <td>0.0</td>\n",
       "      <td>0.0</td>\n",
       "      <td>0.0</td>\n",
       "      <td>0.0</td>\n",
       "      <td>2.0</td>\n",
       "      <td>1.0</td>\n",
       "      <td>2.0</td>\n",
       "    </tr>\n",
       "  </tbody>\n",
       "</table>\n",
       "</div>"
      ],
      "text/plain": [
       "    latitude  longitude    price  size_in_m_2  no_of_bedrooms  \\\n",
       "0  25.113208  55.138932  2700000   100.242337               1   \n",
       "1  25.106809  55.151201  2850000   146.972546               2   \n",
       "2  25.063302  55.137728  1150000   181.253753               3   \n",
       "3  25.227295  55.341761  2850000   187.664060               2   \n",
       "4  25.114275  55.139764  1729200    47.101821               0   \n",
       "\n",
       "   no_of_bathrooms  private_garden_recode  private_gym_recode  \\\n",
       "0                2                    0.0                 0.0   \n",
       "1                2                    0.0                 0.0   \n",
       "2                5                    0.0                 0.0   \n",
       "3                3                    0.0                 0.0   \n",
       "4                1                    0.0                 0.0   \n",
       "\n",
       "   private_jacuzzi_recode  balcony_recode  quality_recode  rating  type  \n",
       "0                     0.0             1.0             2.0     3.0   2.0  \n",
       "1                     0.0             1.0             2.0     2.0   1.0  \n",
       "2                     1.0             1.0             2.0     5.0   1.0  \n",
       "3                     0.0             1.0             1.0     5.0   2.0  \n",
       "4                     0.0             0.0             2.0     1.0   2.0  "
      ]
     },
     "execution_count": 13,
     "metadata": {},
     "output_type": "execute_result"
    }
   ],
   "source": [
    "Data_mixed.head()"
   ]
  },
  {
   "cell_type": "code",
   "execution_count": 135,
   "metadata": {},
   "outputs": [
    {
     "data": {
      "text/plain": [
       "array([[1.        , 0.76928447, 0.61234779, ..., 0.61200705, 0.68768535,\n",
       "        0.77882015],\n",
       "       [0.        , 1.        , 0.72440439, ..., 0.83958297, 0.75951698,\n",
       "        0.65783494],\n",
       "       [0.        , 0.        , 1.        , ..., 0.73084198, 0.63188025,\n",
       "        0.52548719],\n",
       "       ...,\n",
       "       [0.        , 0.        , 0.        , ..., 1.        , 0.65208854,\n",
       "        0.4993045 ],\n",
       "       [0.        , 0.        , 0.        , ..., 0.        , 1.        ,\n",
       "        0.61603067],\n",
       "       [0.        , 0.        , 0.        , ..., 0.        , 0.        ,\n",
       "        1.        ]])"
      ]
     },
     "execution_count": 135,
     "metadata": {},
     "output_type": "execute_result"
    }
   ],
   "source": [
    "M_Gower = Matrix_Gower_Similarity(Data=Data_mixed, p1=6, p2=4, p3=3)\n",
    "\n",
    "M_Gower"
   ]
  },
  {
   "cell_type": "code",
   "execution_count": null,
   "metadata": {},
   "outputs": [
    {
     "data": {
      "text/plain": [
       "array([[1.        , 0.76928447, 0.61234779, ..., 0.61200705, 0.68768535,\n",
       "        0.77882015],\n",
       "       [0.76928447, 1.        , 0.72440439, ..., 0.83958297, 0.75951698,\n",
       "        0.65783494],\n",
       "       [0.61234779, 0.72440439, 1.        , ..., 0.73084198, 0.63188025,\n",
       "        0.52548719],\n",
       "       ...,\n",
       "       [0.61200705, 0.83958297, 0.73084198, ..., 1.        , 0.65208854,\n",
       "        0.4993045 ],\n",
       "       [0.68768535, 0.75951698, 0.63188025, ..., 0.65208854, 1.        ,\n",
       "        0.61603067],\n",
       "       [0.77882015, 0.65783494, 0.52548719, ..., 0.4993045 , 0.61603067,\n",
       "        1.        ]])"
      ]
     },
     "execution_count": 14,
     "metadata": {},
     "output_type": "execute_result"
    }
   ],
   "source": [
    "M_Gower = M_Gower  + M_Gower.T - np.diag(np.repeat(1 , len(M_Gower)), k=0)\n",
    "\n",
    "M_Gower"
   ]
  },
  {
   "cell_type": "code",
   "execution_count": 137,
   "metadata": {},
   "outputs": [],
   "source": [
    "def Matrix_Dist_Gower(Data, p1, p2, p3 ):\n",
    "\n",
    "    M = Matrix_Gower_Similarity(Data, p1, p2, p3)\n",
    "\n",
    "    M = M + M.T - np.diag(np.repeat(1 , len(M)), k=0)\n",
    "\n",
    "    M = np.sqrt( 1 - M )\n",
    "\n",
    "    return M"
   ]
  },
  {
   "cell_type": "code",
   "execution_count": 138,
   "metadata": {},
   "outputs": [
    {
     "data": {
      "text/plain": [
       "array([[0.        , 0.48032856, 0.62261723, ..., 0.6228908 , 0.55885118,\n",
       "        0.47029762],\n",
       "       [0.48032856, 0.        , 0.52497201, ..., 0.40052095, 0.49039069,\n",
       "        0.58494877],\n",
       "       [0.62261723, 0.52497201, 0.        , ..., 0.51880441, 0.60672873,\n",
       "        0.6888489 ],\n",
       "       ...,\n",
       "       [0.6228908 , 0.40052095, 0.51880441, ..., 0.        , 0.5898402 ,\n",
       "        0.70759841],\n",
       "       [0.55885118, 0.49039069, 0.60672873, ..., 0.5898402 , 0.        ,\n",
       "        0.61965259],\n",
       "       [0.47029762, 0.58494877, 0.6888489 , ..., 0.70759841, 0.61965259,\n",
       "        0.        ]])"
      ]
     },
     "execution_count": 138,
     "metadata": {},
     "output_type": "execute_result"
    }
   ],
   "source": [
    "M_Gower_Dist = Matrix_Dist_Gower(Data=Data_mixed, p1=6, p2=4, p3=3)\n",
    "\n",
    "M_Gower_Dist"
   ]
  },
  {
   "cell_type": "markdown",
   "metadata": {},
   "source": []
  },
  {
   "cell_type": "markdown",
   "metadata": {},
   "source": []
  },
  {
   "cell_type": "markdown",
   "metadata": {},
   "source": [
    "### Probando la similaridad de Gower con conjuntos de datos no necesariamente cuantitativos-binarios-multiclase:"
   ]
  },
  {
   "cell_type": "code",
   "execution_count": null,
   "metadata": {},
   "outputs": [
    {
     "data": {
      "text/plain": [
       "array([[1.        , 0.94880745, 0.78930428, ..., 0.68667841, 0.92742315,\n",
       "        0.96470026],\n",
       "       [0.        , 1.        , 0.82807471, ..., 0.73263828, 0.89244779,\n",
       "        0.92972489],\n",
       "       [0.        , 0.        , 1.        , ..., 0.83987697, 0.76376051,\n",
       "        0.79672652],\n",
       "       ...,\n",
       "       [0.        , 0.        , 0.        , ..., 1.        , 0.69549566,\n",
       "        0.6655075 ],\n",
       "       [0.        , 0.        , 0.        , ..., 0.        , 1.        ,\n",
       "        0.96272289],\n",
       "       [0.        , 0.        , 0.        , ..., 0.        , 0.        ,\n",
       "        1.        ]])"
      ]
     },
     "execution_count": 17,
     "metadata": {},
     "output_type": "execute_result"
    }
   ],
   "source": [
    "Matrix_Gower_Similarity(Data=Data_quant, p1=6, p2=0, p3=0)"
   ]
  },
  {
   "cell_type": "code",
   "execution_count": null,
   "metadata": {},
   "outputs": [
    {
     "data": {
      "text/plain": [
       "array([[1.        , 1.        , 0.5       , ..., 1.        , 0.5       ,\n",
       "        1.        ],\n",
       "       [0.        , 1.        , 0.5       , ..., 1.        , 0.5       ,\n",
       "        1.        ],\n",
       "       [0.        , 0.        , 1.        , ..., 0.5       , 0.33333333,\n",
       "        0.5       ],\n",
       "       ...,\n",
       "       [0.        , 0.        , 0.        , ..., 1.        , 0.5       ,\n",
       "        1.        ],\n",
       "       [0.        , 0.        , 0.        , ..., 0.        , 1.        ,\n",
       "        0.5       ],\n",
       "       [0.        , 0.        , 0.        , ..., 0.        , 0.        ,\n",
       "        1.        ]])"
      ]
     },
     "execution_count": 18,
     "metadata": {},
     "output_type": "execute_result"
    }
   ],
   "source": [
    "Matrix_Gower_Similarity(Data=Data_binary, p1=0, p2=4, p3=0)\n",
    "\n",
    "# Coincide con la matriz de similaridades de Jaccard que se ha obtenido anteriormente."
   ]
  },
  {
   "cell_type": "code",
   "execution_count": null,
   "metadata": {},
   "outputs": [
    {
     "data": {
      "text/plain": [
       "array([[1.        , 0.33333333, 0.33333333, ..., 0.33333333, 0.33333333,\n",
       "        0.33333333],\n",
       "       [0.        , 1.        , 0.66666667, ..., 1.        , 0.66666667,\n",
       "        0.        ],\n",
       "       [0.        , 0.        , 1.        , ..., 0.66666667, 0.66666667,\n",
       "        0.        ],\n",
       "       ...,\n",
       "       [0.        , 0.        , 0.        , ..., 1.        , 0.66666667,\n",
       "        0.        ],\n",
       "       [0.        , 0.        , 0.        , ..., 0.        , 1.        ,\n",
       "        0.        ],\n",
       "       [0.        , 0.        , 0.        , ..., 0.        , 0.        ,\n",
       "        1.        ]])"
      ]
     },
     "execution_count": 19,
     "metadata": {},
     "output_type": "execute_result"
    }
   ],
   "source": [
    "Matrix_Gower_Similarity(Data=Data_multiclass, p1=0, p2=0, p3=3)\n",
    "\n",
    "# Coincide con la matriz de similaridades por coincidencias que se ha obtenido anteriormente."
   ]
  },
  {
   "cell_type": "markdown",
   "metadata": {},
   "source": []
  },
  {
   "cell_type": "code",
   "execution_count": null,
   "metadata": {},
   "outputs": [],
   "source": [
    "Data_binary_multiclass = pd.concat([Data_binary,Data_multiclass], axis=1)"
   ]
  },
  {
   "cell_type": "code",
   "execution_count": null,
   "metadata": {},
   "outputs": [
    {
     "data": {
      "text/plain": [
       "array([[1.  , 0.5 , 0.4 , ..., 0.5 , 0.4 , 0.5 ],\n",
       "       [0.  , 1.  , 0.6 , ..., 1.  , 0.6 , 0.25],\n",
       "       [0.  , 0.  , 1.  , ..., 0.6 , 0.5 , 0.2 ],\n",
       "       ...,\n",
       "       [0.  , 0.  , 0.  , ..., 1.  , 0.6 , 0.25],\n",
       "       [0.  , 0.  , 0.  , ..., 0.  , 1.  , 0.2 ],\n",
       "       [0.  , 0.  , 0.  , ..., 0.  , 0.  , 1.  ]])"
      ]
     },
     "execution_count": 21,
     "metadata": {},
     "output_type": "execute_result"
    }
   ],
   "source": [
    "Matrix_Gower_Similarity(Data=Data_binary_multiclass , p1=0, p2=4, p3=3)"
   ]
  },
  {
   "cell_type": "markdown",
   "metadata": {},
   "source": []
  },
  {
   "cell_type": "code",
   "execution_count": null,
   "metadata": {},
   "outputs": [],
   "source": [
    "Data_quant_multiclass = pd.concat([Data_quant,Data_multiclass], axis=1)"
   ]
  },
  {
   "cell_type": "code",
   "execution_count": null,
   "metadata": {},
   "outputs": [
    {
     "data": {
      "text/plain": [
       "array([[1.        , 0.74364941, 0.63731397, ..., 0.56889672, 0.72939321,\n",
       "        0.75424461],\n",
       "       [0.        , 1.        , 0.77427203, ..., 0.82175886, 0.81718741,\n",
       "        0.6198166 ],\n",
       "       [0.        , 0.        , 1.        , ..., 0.7821402 , 0.73139589,\n",
       "        0.53115102],\n",
       "       ...,\n",
       "       [0.        , 0.        , 0.        , ..., 1.        , 0.68588599,\n",
       "        0.44367166],\n",
       "       [0.        , 0.        , 0.        , ..., 0.        , 1.        ,\n",
       "        0.64181526],\n",
       "       [0.        , 0.        , 0.        , ..., 0.        , 0.        ,\n",
       "        1.        ]])"
      ]
     },
     "execution_count": 23,
     "metadata": {},
     "output_type": "execute_result"
    }
   ],
   "source": [
    "Matrix_Gower_Similarity(Data=Data_quant_multiclass, p1=6, p2=0, p3=3)"
   ]
  },
  {
   "cell_type": "markdown",
   "metadata": {},
   "source": []
  },
  {
   "cell_type": "code",
   "execution_count": null,
   "metadata": {},
   "outputs": [],
   "source": [
    "Data_quant_binary = pd.concat([Data_quant,Data_binary], axis=1)"
   ]
  },
  {
   "cell_type": "code",
   "execution_count": null,
   "metadata": {},
   "outputs": [
    {
     "data": {
      "text/plain": [
       "array([[1.        , 0.95612067, 0.71697821, ..., 0.73143864, 0.82056736,\n",
       "        0.96974308],\n",
       "       [0.        , 1.        , 0.74605603, ..., 0.77083282, 0.79433584,\n",
       "        0.9397642 ],\n",
       "       [0.        , 0.        , 1.        , ..., 0.75490772, 0.62028478,\n",
       "        0.72254489],\n",
       "       ...,\n",
       "       [0.        , 0.        , 0.        , ..., 1.        , 0.64662174,\n",
       "        0.71329214],\n",
       "       [0.        , 0.        , 0.        , ..., 0.        , 1.        ,\n",
       "        0.84704217],\n",
       "       [0.        , 0.        , 0.        , ..., 0.        , 0.        ,\n",
       "        1.        ]])"
      ]
     },
     "execution_count": 25,
     "metadata": {},
     "output_type": "execute_result"
    }
   ],
   "source": [
    "Matrix_Gower_Similarity(Data=Data_quant_binary , p1=6, p2=4, p3=0)"
   ]
  },
  {
   "cell_type": "markdown",
   "metadata": {},
   "source": []
  },
  {
   "cell_type": "markdown",
   "metadata": {},
   "source": [
    "### Comparacion con los resultados obtenidos con la funcion Gower2.m de Aurea  --> se obtienen los mismos resultados !!"
   ]
  },
  {
   "cell_type": "code",
   "execution_count": null,
   "metadata": {},
   "outputs": [],
   "source": [
    "futbol = pd.read_csv('jugadores_futbol.csv')\n",
    "\n",
    "futbol_np = futbol.to_numpy()"
   ]
  },
  {
   "cell_type": "code",
   "execution_count": null,
   "metadata": {},
   "outputs": [],
   "source": [
    "M_Gower_futbol = Matrix_Gower_Similarity(Data=futbol_np, p1=4, p2=1, p3=2)"
   ]
  },
  {
   "cell_type": "code",
   "execution_count": null,
   "metadata": {},
   "outputs": [
    {
     "data": {
      "text/plain": [
       "array([[1.        , 0.63275613, 0.45075758, ..., 0.41684704, 0.61201299,\n",
       "        0.39303752],\n",
       "       [0.63275613, 1.        , 0.43076599, ..., 0.49810606, 0.64920034,\n",
       "        0.47032828],\n",
       "       [0.45075758, 0.43076599, 1.        , ..., 0.63720539, 0.7260101 ,\n",
       "        0.60942761],\n",
       "       ...,\n",
       "       [0.41684704, 0.49810606, 0.63720539, ..., 1.        , 0.67508418,\n",
       "        0.91666667],\n",
       "       [0.61201299, 0.64920034, 0.7260101 , ..., 0.67508418, 1.        ,\n",
       "        0.6473064 ],\n",
       "       [0.39303752, 0.47032828, 0.60942761, ..., 0.91666667, 0.6473064 ,\n",
       "        1.        ]])"
      ]
     },
     "execution_count": 154,
     "metadata": {},
     "output_type": "execute_result"
    }
   ],
   "source": [
    "M_Gower_futbol = M_Gower_futbol  + M_Gower_futbol.T - np.diag(np.repeat(1 , len(M_Gower_futbol)), k=0)\n",
    "\n",
    "M_Gower_futbol"
   ]
  },
  {
   "cell_type": "code",
   "execution_count": null,
   "metadata": {},
   "outputs": [
    {
     "data": {
      "text/plain": [
       "array([[1.        , 0.63275613, 0.45075758, 0.38870851, 0.42676768,\n",
       "        0.61471861, 0.56349206, 0.42839105],\n",
       "       [0.63275613, 1.        , 0.43076599, 0.37689394, 0.46338384,\n",
       "        0.44660895, 0.5256734 , 0.43244949],\n",
       "       [0.45075758, 0.43076599, 1.        , 0.58038721, 0.64877946,\n",
       "        0.58928571, 0.34995791, 0.52946128],\n",
       "       [0.38870851, 0.37689394, 0.58038721, 1.        , 0.5625    ,\n",
       "        0.52723665, 0.27756734, 0.625     ],\n",
       "       [0.42676768, 0.46338384, 0.64877946, 0.5625    , 1.        ,\n",
       "        0.77236652, 0.46506734, 0.6875    ],\n",
       "       [0.61471861, 0.44660895, 0.58928571, 0.52723665, 0.77236652,\n",
       "        1.        , 0.42496392, 0.63834776],\n",
       "       [0.56349206, 0.5256734 , 0.34995791, 0.27756734, 0.46506734,\n",
       "        0.42496392, 1.        , 0.42571549],\n",
       "       [0.42839105, 0.43244949, 0.52946128, 0.625     , 0.6875    ,\n",
       "        0.63834776, 0.42571549, 1.        ]])"
      ]
     },
     "execution_count": 155,
     "metadata": {},
     "output_type": "execute_result"
    }
   ],
   "source": [
    "M_Gower_futbol[0:8, 0:8]"
   ]
  },
  {
   "cell_type": "code",
   "execution_count": null,
   "metadata": {},
   "outputs": [
    {
     "data": {
      "text/plain": [
       "array([[0.        , 0.60600649, 0.74110892, ..., 0.76364452, 0.62288604,\n",
       "        0.77907797],\n",
       "       [0.60600649, 0.        , 0.75447598, ..., 0.70844473, 0.59228343,\n",
       "        0.72778549],\n",
       "       [0.74110892, 0.75447598, 0.        , ..., 0.60232434, 0.52344044,\n",
       "        0.62495791],\n",
       "       ...,\n",
       "       [0.76364452, 0.70844473, 0.60232434, ..., 0.        , 0.57001388,\n",
       "        0.28867513],\n",
       "       [0.62288604, 0.59228343, 0.52344044, ..., 0.57001388, 0.        ,\n",
       "        0.59388012],\n",
       "       [0.77907797, 0.72778549, 0.62495791, ..., 0.28867513, 0.59388012,\n",
       "        0.        ]])"
      ]
     },
     "execution_count": 156,
     "metadata": {},
     "output_type": "execute_result"
    }
   ],
   "source": [
    "M_Gower_Dist_futbol = Matrix_Gower_Distance(Data=futbol_np, p1=4, p2=1, p3=2)\n",
    "\n",
    "M_Gower_Dist_futbol"
   ]
  },
  {
   "cell_type": "code",
   "execution_count": null,
   "metadata": {},
   "outputs": [
    {
     "data": {
      "text/plain": [
       "array([[0.        , 0.36724387, 0.54924242, 0.61129149, 0.57323232,\n",
       "        0.38528139, 0.43650794, 0.57160895],\n",
       "       [0.36724387, 0.        , 0.56923401, 0.62310606, 0.53661616,\n",
       "        0.55339105, 0.4743266 , 0.56755051],\n",
       "       [0.54924242, 0.56923401, 0.        , 0.41961279, 0.35122054,\n",
       "        0.41071429, 0.65004209, 0.47053872],\n",
       "       [0.61129149, 0.62310606, 0.41961279, 0.        , 0.4375    ,\n",
       "        0.47276335, 0.72243266, 0.375     ],\n",
       "       [0.57323232, 0.53661616, 0.35122054, 0.4375    , 0.        ,\n",
       "        0.22763348, 0.53493266, 0.3125    ],\n",
       "       [0.38528139, 0.55339105, 0.41071429, 0.47276335, 0.22763348,\n",
       "        0.        , 0.57503608, 0.36165224],\n",
       "       [0.43650794, 0.4743266 , 0.65004209, 0.72243266, 0.53493266,\n",
       "        0.57503608, 0.        , 0.57428451],\n",
       "       [0.57160895, 0.56755051, 0.47053872, 0.375     , 0.3125    ,\n",
       "        0.36165224, 0.57428451, 0.        ]])"
      ]
     },
     "execution_count": 157,
     "metadata": {},
     "output_type": "execute_result"
    }
   ],
   "source": [
    "M_Gower_Dist_futbol[0:8 , 0:8]**2"
   ]
  },
  {
   "cell_type": "markdown",
   "metadata": {},
   "source": [
    " Primeras 8 filas y 8 columnas obtenidas con la funcion Gower2.m de Aurea para la matriz de cuadrados de distancias de Gower\n",
    "  \n",
    "         0    0.3672    0.5492    0.6113    0.5732    0.3853    0.4365    0.5716\n",
    "    0.3672         0    0.5692    0.6231    0.5366    0.5534    0.4743    0.5676\n",
    "    0.5492    0.5692         0    0.4196    0.3512    0.4107    0.6500    0.4705\n",
    "    0.6113    0.6231    0.4196         0    0.4375    0.4728    0.7224    0.3750\n",
    "    0.5732    0.5366    0.3512    0.4375         0    0.2276    0.5349    0.3125\n",
    "    0.3853    0.5534    0.4107    0.4728    0.2276         0    0.5750    0.3617\n",
    "    0.4365    0.4743    0.6500    0.7224    0.5349    0.5750         0    0.5743\n",
    "    0.5716    0.5676    0.4705    0.3750    0.3125    0.3617    0.5743         0\n",
    "\n"
   ]
  },
  {
   "cell_type": "markdown",
   "metadata": {},
   "source": []
  },
  {
   "cell_type": "markdown",
   "metadata": {},
   "source": [
    "### Comparacion con lo que se obtiene al usar el paquete Gower  --> No se obtienen los mismos resultados."
   ]
  },
  {
   "cell_type": "code",
   "execution_count": null,
   "metadata": {},
   "outputs": [
    {
     "data": {
      "text/plain": [
       "array([[0.        , 0.36724386, 0.54924244, 0.61129147, 0.57323235,\n",
       "        0.38528138, 0.43650794, 0.57160896],\n",
       "       [0.36724386, 0.        , 0.48791486, 0.53409094, 0.4599567 ,\n",
       "        0.55339104, 0.40656567, 0.48647186],\n",
       "       [0.54924244, 0.48791486, 0.        , 0.3596681 , 0.3010462 ,\n",
       "        0.4107143 , 0.5571789 , 0.4033189 ],\n",
       "       [0.61129147, 0.53409094, 0.3596681 , 0.        , 0.375     ,\n",
       "        0.47276336, 0.619228  , 0.32142857],\n",
       "       [0.57323235, 0.4599567 , 0.3010462 , 0.375     , 0.        ,\n",
       "        0.22763348, 0.4585137 , 0.26785713],\n",
       "       [0.38528138, 0.55339104, 0.4107143 , 0.47276336, 0.22763348,\n",
       "        0.        , 0.5750361 , 0.36165223],\n",
       "       [0.43650794, 0.40656567, 0.5571789 , 0.619228  , 0.4585137 ,\n",
       "        0.5750361 , 0.        , 0.4922439 ],\n",
       "       [0.57160896, 0.48647186, 0.4033189 , 0.32142857, 0.26785713,\n",
       "        0.36165223, 0.4922439 , 0.        ]], dtype=float32)"
      ]
     },
     "execution_count": 158,
     "metadata": {},
     "output_type": "execute_result"
    }
   ],
   "source": [
    "import gower\n",
    "\n",
    "M_Dist_cuadrados_Gower_futbol_Paquete = gower.gower_matrix(futbol_np, cat_features=[False,False,False,False,True,True,True])\n",
    "\n",
    "M_Dist_cuadrados_Gower_futbol_Paquete[0:8 , 0:8]"
   ]
  },
  {
   "cell_type": "markdown",
   "metadata": {},
   "source": []
  },
  {
   "cell_type": "markdown",
   "metadata": {},
   "source": [
    " Primeras 8 filas y 8 columnas obtenidas con la funcion Gower2.m de Aurea para la matriz de cuadrados de distancias de Gower\n",
    "  \n",
    "         0    0.3672    0.5492    0.6113    0.5732    0.3853    0.4365    0.5716\n",
    "    0.3672         0    0.5692    0.6231    0.5366    0.5534    0.4743    0.5676\n",
    "    0.5492    0.5692         0    0.4196    0.3512    0.4107    0.6500    0.4705\n",
    "    0.6113    0.6231    0.4196         0    0.4375    0.4728    0.7224    0.3750\n",
    "    0.5732    0.5366    0.3512    0.4375         0    0.2276    0.5349    0.3125\n",
    "    0.3853    0.5534    0.4107    0.4728    0.2276         0    0.5750    0.3617\n",
    "    0.4365    0.4743    0.6500    0.7224    0.5349    0.5750         0    0.5743\n",
    "    0.5716    0.5676    0.4705    0.3750    0.3125    0.3617    0.5743         0\n",
    "\n"
   ]
  },
  {
   "cell_type": "markdown",
   "metadata": {},
   "source": [
    "La primera fila si coincide, pero hay otras como la ultima que no coinciden. Deben usar otra version de l similaridad de Gower u otra transformacion de similaridad a distancia."
   ]
  },
  {
   "cell_type": "markdown",
   "metadata": {},
   "source": []
  },
  {
   "cell_type": "markdown",
   "metadata": {},
   "source": [
    "## Similaridad de Gower-Mahalanobis"
   ]
  },
  {
   "cell_type": "code",
   "execution_count": null,
   "metadata": {},
   "outputs": [],
   "source": [
    "def Matrix_Gower_Maha_Similarity(Data, p1, p2, p3):\n",
    "\n",
    "    Data_pd = Data\n",
    "\n",
    "    Data = Data.to_numpy()\n",
    "\n",
    "    n = len(Data)\n",
    "\n",
    "    M =  np.empty((n , n))\n",
    "\n",
    "############################################################\n",
    "    \n",
    "    G_vector = np.repeat(0.5, p1)\n",
    "\n",
    "    for k in range(0, p1):\n",
    "\n",
    "        G_vector[k] = Data[:,k].max() - Data[:,k].min()\n",
    "\n",
    "############################################################\n",
    "   \n",
    "    Quant_Data = Data[: , 0:p1]\n",
    "\n",
    "    Quant_Data_pd = Data_pd.iloc[: , 0:p1]\n",
    "\n",
    "    Binary_Data_pd = Data_pd.iloc[: , (p1):(p1+p2)]\n",
    "\n",
    "    Multiple_Data = Data[: , (p1+p2):(p1+p2+p3)]\n",
    "\n",
    "############################################################\n",
    "\n",
    "    a, b, c, d, p = a_b_c_d_Matrix(Binary_Data_pd)\n",
    "\n",
    "############################################################\n",
    "\n",
    "    S_inv = np.linalg.inv( np.cov(Quant_Data , rowvar=False) ) \n",
    "\n",
    "    D_maha = Matrix_Dist_Mahalanobis(Data=Quant_Data_pd) \n",
    "\n",
    "    Max_D_maha = D_maha.max()\n",
    "\n",
    "############################################################\n",
    "\n",
    "    for i in range(0, n):\n",
    "\n",
    "         for r in range(0, n):\n",
    "\n",
    "            if i > r :\n",
    "               \n",
    "                 M[i,r] = 0\n",
    "            \n",
    "            elif i == r :\n",
    "               \n",
    "                 M[i,r] = 1\n",
    "            \n",
    "            else :\n",
    "\n",
    "                # Calculo de la distancia de Gower entre las observaciones x_i y x_r\n",
    "\n",
    "                x = (Quant_Data[i,:] - Quant_Data[r,:])\n",
    "\n",
    "                x = np.array([x])\n",
    "\n",
    "                numerator_part_1 = p1 - float( np.sqrt( x @ S_inv @ x.T ) ) / Max_D_maha  \n",
    "\n",
    "                numerator_part_2 = a[i,r] + alpha(Multiple_Data[i,:], Multiple_Data[r,:])\n",
    "\n",
    "                numerator = numerator_part_1 + numerator_part_2\n",
    " \n",
    "                denominator = p1 + (p2 - d[i,r]) + p3\n",
    "\n",
    "                M[i,r] = numerator / denominator\n",
    "                      \n",
    "   \n",
    "    return M  "
   ]
  },
  {
   "cell_type": "code",
   "execution_count": null,
   "metadata": {},
   "outputs": [
    {
     "data": {
      "text/plain": [
       "array([[1.        , 0.78829544, 0.70814829, ..., 0.7749854 , 0.7156049 ,\n",
       "        0.79387387],\n",
       "       [0.        , 1.        , 0.79624421, ..., 0.97267093, 0.80438259,\n",
       "        0.68820406],\n",
       "       [0.        , 0.        , 1.        , ..., 0.80217845, 0.73386904,\n",
       "        0.62006094],\n",
       "       ...,\n",
       "       [0.        , 0.        , 0.        , ..., 1.        , 0.80011792,\n",
       "        0.67721701],\n",
       "       [0.        , 0.        , 0.        , ..., 0.        , 1.        ,\n",
       "        0.62896601],\n",
       "       [0.        , 0.        , 0.        , ..., 0.        , 0.        ,\n",
       "        1.        ]])"
      ]
     },
     "execution_count": 32,
     "metadata": {},
     "output_type": "execute_result"
    }
   ],
   "source": [
    "M_Gower_Maha = Matrix_Gower_Maha_Similarity(Data=Data_mixed, p1=6, p2=4, p3=3)\n",
    "\n",
    "M_Gower_Maha"
   ]
  },
  {
   "cell_type": "markdown",
   "metadata": {},
   "source": []
  },
  {
   "cell_type": "code",
   "execution_count": null,
   "metadata": {},
   "outputs": [
    {
     "data": {
      "text/plain": [
       "array([[1.        , 0.78829544, 0.70814829, ..., 0.7749854 , 0.7156049 ,\n",
       "        0.79387387],\n",
       "       [0.78829544, 1.        , 0.79624421, ..., 0.97267093, 0.80438259,\n",
       "        0.68820406],\n",
       "       [0.70814829, 0.79624421, 1.        , ..., 0.80217845, 0.73386904,\n",
       "        0.62006094],\n",
       "       ...,\n",
       "       [0.7749854 , 0.97267093, 0.80217845, ..., 1.        , 0.80011792,\n",
       "        0.67721701],\n",
       "       [0.7156049 , 0.80438259, 0.73386904, ..., 0.80011792, 1.        ,\n",
       "        0.62896601],\n",
       "       [0.79387387, 0.68820406, 0.62006094, ..., 0.67721701, 0.62896601,\n",
       "        1.        ]])"
      ]
     },
     "execution_count": 53,
     "metadata": {},
     "output_type": "execute_result"
    }
   ],
   "source": [
    "M_Gower_Maha = M_Gower_Maha + M_Gower_Maha.T - np.diag(np.repeat(1 , len(M_Gower_Maha)), k=0)\n",
    "\n",
    "M_Gower_Maha"
   ]
  },
  {
   "cell_type": "markdown",
   "metadata": {},
   "source": []
  },
  {
   "cell_type": "code",
   "execution_count": null,
   "metadata": {},
   "outputs": [],
   "source": [
    "def Matrix_Dist_Gower_Mahalanobis(Data, p1, p2, p3):\n",
    "\n",
    "    M = Matrix_Gower_Maha_Similarity(Data, p1, p2, p3)\n",
    "\n",
    "    M = M + M.T - np.diag(np.repeat(1 , len(M)), k=0)\n",
    "\n",
    "    M = np.sqrt( 1 - M )\n",
    "\n",
    "    return M"
   ]
  },
  {
   "cell_type": "code",
   "execution_count": null,
   "metadata": {},
   "outputs": [
    {
     "data": {
      "text/plain": [
       "array([[0.        , 0.46011364, 0.54023301, ..., 0.47435704, 0.53328707,\n",
       "        0.45401116],\n",
       "       [0.46011364, 0.        , 0.45139317, ..., 0.16531507, 0.44228657,\n",
       "        0.55838691],\n",
       "       [0.54023301, 0.45139317, 0.        , ..., 0.44477135, 0.51587882,\n",
       "        0.61639197],\n",
       "       ...,\n",
       "       [0.47435704, 0.16531507, 0.44477135, ..., 0.        , 0.44708173,\n",
       "        0.56813994],\n",
       "       [0.53328707, 0.44228657, 0.51587882, ..., 0.44708173, 0.        ,\n",
       "        0.60912559],\n",
       "       [0.45401116, 0.55838691, 0.61639197, ..., 0.56813994, 0.60912559,\n",
       "        0.        ]])"
      ]
     },
     "execution_count": 57,
     "metadata": {},
     "output_type": "execute_result"
    }
   ],
   "source": [
    "M_Gower_Maha_Distance = Matrix_Dist_Gower_Mahalanobis(Data=Data_mixed, p1=6, p2=4, p3=3)\n",
    "\n",
    "M_Gower_Maha_Distance"
   ]
  },
  {
   "cell_type": "markdown",
   "metadata": {},
   "source": []
  },
  {
   "cell_type": "markdown",
   "metadata": {},
   "source": []
  },
  {
   "cell_type": "markdown",
   "metadata": {},
   "source": []
  },
  {
   "attachments": {},
   "cell_type": "markdown",
   "metadata": {},
   "source": [
    "# Distancia de Gower generalizada: sin usar matrices de Gram"
   ]
  },
  {
   "attachments": {},
   "cell_type": "markdown",
   "metadata": {},
   "source": [
    "### Variabilidad geométrica"
   ]
  },
  {
   "cell_type": "code",
   "execution_count": 139,
   "metadata": {},
   "outputs": [],
   "source": [
    "def var_geom(M_2_Distance):\n",
    "\n",
    "    n = len(M_2_Distance)\n",
    "\n",
    "    VG = (1/(2*n**2))*np.sum(M_2_Distance)\n",
    "\n",
    "    # np.sum(M_2_Distance) es la suma de todos los elementos de la matriz M_2_Distance\n",
    "\n",
    "    return VG"
   ]
  },
  {
   "cell_type": "code",
   "execution_count": 170,
   "metadata": {},
   "outputs": [],
   "source": [
    "def Generalized_Gower_Distance(Data, p1, p2, p3, d1, d2, d3, Related_Metric_Scaling=False) :\n",
    "\n",
    "\n",
    "    n = len(Data)\n",
    "\n",
    "    M =  np.empty((n , n))\n",
    "\n",
    " \n",
    "    Quant_Data = Data.iloc[: , 0:p1]\n",
    "\n",
    "    Binary_Data = Data.iloc[: , (p1):(p1+p2)]\n",
    "\n",
    "    Multiple_Data = Data.iloc[: , (p1+p2):(p1+p2+p3) ]\n",
    "\n",
    "\n",
    "    # Para que el siguiente paso funciones es necesario que las funciones con las \n",
    "    # que vamos a calcular las matrices de distancias tengan un nombre con el siguiente\n",
    "    # formato: Matrix_Dist_d  donde d = Euclidea, Minkowski, Mahalanobis, Sokal, Jaccard, Simple_Matching etc\n",
    "\n",
    "\n",
    "    Matrix_Dist_d1 = globals()[\"Matrix_Dist_\" + d1]\n",
    "    Matrix_Dist_d2 = globals()[\"Matrix_Dist_\" + d2]\n",
    "    Matrix_Dist_d3 = globals()[\"Matrix_Dist_\" + d3]\n",
    "\n",
    "   \n",
    "    D1 = Matrix_Dist_d1(Quant_Data)\n",
    "    D2 = Matrix_Dist_d2(Binary_Data)\n",
    "    D3 = Matrix_Dist_d3(Multiple_Data)\n",
    "\n",
    "    D1_2 = np.square(D1)\n",
    "    D2_2 = np.square(D2)\n",
    "    D3_2 = np.square(D3)\n",
    "\n",
    "\n",
    "    VG1 = var_geom(D1_2)\n",
    "    VG2 = var_geom(D2_2)\n",
    "    VG3 = var_geom(D3_2)\n",
    "\n",
    "\n",
    "    D1_2_standard = D1_2 / VG1\n",
    "    D2_2_standard = D2_2 / VG2\n",
    "    D3_2_standard = D3_2 / VG3\n",
    "\n",
    "\n",
    "    if Related_Metric_Scaling == False :\n",
    "                \n",
    "        D_2 = D1_2_standard + D2_2_standard + D3_2_standard \n",
    "\n",
    "        D = np.sqrt(D_2)\n",
    "\n",
    "\n",
    "    elif Related_Metric_Scaling == True :\n",
    "\n",
    "        ones = np.ones((n, 1))\n",
    "        ones_T = np.ones((1, n))\n",
    "\n",
    "        H = np.identity(n) - (1/n)*(ones @ ones_T)\n",
    "\n",
    "        G_1 = -(1/2)*(H @ D1_2_standard @ H)\n",
    "        G_2 = -(1/2)*(H @ D2_2_standard @ H)\n",
    "        G_3 = -(1/2)*(H @ D3_2_standard @ H)\n",
    "\n",
    "        G_1_sqrt = np.sqrt(G_1)\n",
    "        G_2_sqrt = np.sqrt(G_2)\n",
    "        G_3_sqrt = np.sqrt(G_3)\n",
    "\n",
    "        G = G_1+G_2+G_3 - (1/3)*( G_1_sqrt @ G_2_sqrt + G_1_sqrt @ G_3_sqrt +\n",
    "                                      G_2_sqrt @ G_1_sqrt + G_2_sqrt @ G_3_sqrt +\n",
    "                                      G_3_sqrt @ G_1_sqrt + G_3_sqrt @ G_2_sqrt )\n",
    "            \n",
    "        g = np.diag(G)                     \n",
    "\n",
    "        D_2 = g @ ones_T + ones @ g - 2*G\n",
    "\n",
    "        D = np.sqrt(D_2)\n",
    "\n",
    "    return D , D_2"
   ]
  },
  {
   "cell_type": "code",
   "execution_count": 171,
   "metadata": {},
   "outputs": [],
   "source": [
    "D, D_2 = Generalized_Gower_Distance(Data=Data, p1=6, p2=4, p3=3, d1='Euclidea', d2='Sokal', d3='Matching', Related_Metric_Scaling=False)"
   ]
  },
  {
   "cell_type": "code",
   "execution_count": 172,
   "metadata": {},
   "outputs": [
    {
     "data": {
      "text/plain": [
       "array([[0.        , 1.89001492, 3.89851824, ..., 2.74001795, 2.54939753,\n",
       "        2.95794239],\n",
       "       [0.        , 0.        , 3.4273224 , ..., 1.98292844, 1.75531238,\n",
       "        3.52969462],\n",
       "       [0.        , 0.        , 0.        , ..., 2.80281931, 3.02532799,\n",
       "        4.74663048],\n",
       "       ...,\n",
       "       [0.        , 0.        , 0.        , ..., 0.        , 1.77002666,\n",
       "        4.05462793],\n",
       "       [0.        , 0.        , 0.        , ..., 0.        , 0.        ,\n",
       "        3.66020899],\n",
       "       [0.        , 0.        , 0.        , ..., 0.        , 0.        ,\n",
       "        0.        ]])"
      ]
     },
     "execution_count": 172,
     "metadata": {},
     "output_type": "execute_result"
    }
   ],
   "source": [
    "D"
   ]
  },
  {
   "cell_type": "code",
   "execution_count": 173,
   "metadata": {},
   "outputs": [
    {
     "data": {
      "text/plain": [
       "array([[ 0.        ,  3.57215639, 15.1984445 , ...,  7.50769838,\n",
       "         6.49942777,  8.74942321],\n",
       "       [ 0.        ,  0.        , 11.74653881, ...,  3.9320052 ,\n",
       "         3.08112154, 12.45874413],\n",
       "       [ 0.        ,  0.        ,  0.        , ...,  7.8557961 ,\n",
       "         9.15260945, 22.53050092],\n",
       "       ...,\n",
       "       [ 0.        ,  0.        ,  0.        , ...,  0.        ,\n",
       "         3.13299439, 16.44000763],\n",
       "       [ 0.        ,  0.        ,  0.        , ...,  0.        ,\n",
       "         0.        , 13.39712985],\n",
       "       [ 0.        ,  0.        ,  0.        , ...,  0.        ,\n",
       "         0.        ,  0.        ]])"
      ]
     },
     "execution_count": 173,
     "metadata": {},
     "output_type": "execute_result"
    }
   ],
   "source": [
    "D_2"
   ]
  },
  {
   "cell_type": "markdown",
   "metadata": {},
   "source": []
  },
  {
   "cell_type": "code",
   "execution_count": 174,
   "metadata": {},
   "outputs": [],
   "source": [
    "D, D_2 = Generalized_Gower_Distance(Data=Data, p1=6, p2=4, p3=3, d1='Euclidea', d2='Sokal', d3='Matching', Related_Metric_Scaling=True)"
   ]
  },
  {
   "cell_type": "code",
   "execution_count": null,
   "metadata": {},
   "outputs": [],
   "source": [
    "D"
   ]
  },
  {
   "cell_type": "code",
   "execution_count": null,
   "metadata": {},
   "outputs": [],
   "source": [
    "D_2"
   ]
  },
  {
   "cell_type": "markdown",
   "metadata": {},
   "source": []
  },
  {
   "cell_type": "markdown",
   "metadata": {},
   "source": []
  },
  {
   "attachments": {},
   "cell_type": "markdown",
   "metadata": {},
   "source": [
    "# Distancia de Gower generalizada: usando matrices de Gram"
   ]
  },
  {
   "cell_type": "code",
   "execution_count": null,
   "metadata": {},
   "outputs": [],
   "source": []
  },
  {
   "cell_type": "markdown",
   "metadata": {},
   "source": []
  },
  {
   "cell_type": "markdown",
   "metadata": {},
   "source": []
  },
  {
   "cell_type": "markdown",
   "metadata": {},
   "source": []
  },
  {
   "attachments": {},
   "cell_type": "markdown",
   "metadata": {},
   "source": [
    "# Distancia de Mahalanobis Robusta"
   ]
  },
  {
   "attachments": {},
   "cell_type": "markdown",
   "metadata": {},
   "source": [
    "## Estimacion Robusta de la varianza"
   ]
  },
  {
   "attachments": {},
   "cell_type": "markdown",
   "metadata": {},
   "source": [
    "### Metodo 1: MAD"
   ]
  },
  {
   "attachments": {},
   "cell_type": "markdown",
   "metadata": {},
   "source": [
    "### Metodo 2: Trimmed variance"
   ]
  },
  {
   "attachments": {},
   "cell_type": "markdown",
   "metadata": {},
   "source": [
    "### Metodo 3: Winsorized variance\n"
   ]
  },
  {
   "cell_type": "markdown",
   "metadata": {},
   "source": []
  },
  {
   "attachments": {},
   "cell_type": "markdown",
   "metadata": {},
   "source": [
    "## Estimacion Robusta de la matriz de covarianzas"
   ]
  },
  {
   "cell_type": "markdown",
   "metadata": {},
   "source": []
  },
  {
   "attachments": {},
   "cell_type": "markdown",
   "metadata": {},
   "source": [
    "### Algoritmo para lograr que la estimacion robusta de la matriz de covarianzas sea definida positiva"
   ]
  }
 ],
 "metadata": {
  "kernelspec": {
   "display_name": "Python 3",
   "language": "python",
   "name": "python3"
  },
  "language_info": {
   "codemirror_mode": {
    "name": "ipython",
    "version": 3
   },
   "file_extension": ".py",
   "mimetype": "text/x-python",
   "name": "python",
   "nbconvert_exporter": "python",
   "pygments_lexer": "ipython3",
   "version": "3.10.0"
  },
  "vscode": {
   "interpreter": {
    "hash": "c63d8c7d738c2960218a10995aedf0a7f67a49a231e71037adf0440953cdb45b"
   }
  }
 },
 "nbformat": 4,
 "nbformat_minor": 2
}
