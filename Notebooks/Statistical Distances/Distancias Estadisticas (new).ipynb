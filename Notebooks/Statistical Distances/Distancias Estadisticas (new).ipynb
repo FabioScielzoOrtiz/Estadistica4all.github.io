{
 "cells": [
  {
   "cell_type": "code",
   "execution_count": 2,
   "metadata": {},
   "outputs": [],
   "source": [
    "import pandas as pd\n",
    "import numpy as np"
   ]
  },
  {
   "cell_type": "code",
   "execution_count": 3,
   "metadata": {},
   "outputs": [
    {
     "data": {
      "text/html": [
       "<div>\n",
       "<style scoped>\n",
       "    .dataframe tbody tr th:only-of-type {\n",
       "        vertical-align: middle;\n",
       "    }\n",
       "\n",
       "    .dataframe tbody tr th {\n",
       "        vertical-align: top;\n",
       "    }\n",
       "\n",
       "    .dataframe thead th {\n",
       "        text-align: right;\n",
       "    }\n",
       "</style>\n",
       "<table border=\"1\" class=\"dataframe\">\n",
       "  <thead>\n",
       "    <tr style=\"text-align: right;\">\n",
       "      <th></th>\n",
       "      <th>neighborhood_recode</th>\n",
       "      <th>latitude</th>\n",
       "      <th>longitude</th>\n",
       "      <th>price</th>\n",
       "      <th>no_of_bedrooms</th>\n",
       "      <th>no_of_bathrooms</th>\n",
       "      <th>quality_recode</th>\n",
       "      <th>maid_room_recode</th>\n",
       "      <th>unfurnished_recode</th>\n",
       "      <th>balcony_recode</th>\n",
       "      <th>...</th>\n",
       "      <th>private_jacuzzi_recode</th>\n",
       "      <th>private_pool_recode</th>\n",
       "      <th>security_recode</th>\n",
       "      <th>shared_gym_recode</th>\n",
       "      <th>shared_pool_recode</th>\n",
       "      <th>shared_spa_recode</th>\n",
       "      <th>view_of_water_recode</th>\n",
       "      <th>size_in_m_2</th>\n",
       "      <th>type</th>\n",
       "      <th>rating</th>\n",
       "    </tr>\n",
       "  </thead>\n",
       "  <tbody>\n",
       "    <tr>\n",
       "      <th>0</th>\n",
       "      <td>46.0</td>\n",
       "      <td>25.113208</td>\n",
       "      <td>55.138932</td>\n",
       "      <td>2700000</td>\n",
       "      <td>1</td>\n",
       "      <td>2</td>\n",
       "      <td>2.0</td>\n",
       "      <td>0.0</td>\n",
       "      <td>0.0</td>\n",
       "      <td>1.0</td>\n",
       "      <td>...</td>\n",
       "      <td>0.0</td>\n",
       "      <td>0.0</td>\n",
       "      <td>0.0</td>\n",
       "      <td>1.0</td>\n",
       "      <td>0.0</td>\n",
       "      <td>0.0</td>\n",
       "      <td>1.0</td>\n",
       "      <td>100.242337</td>\n",
       "      <td>2.0</td>\n",
       "      <td>3.0</td>\n",
       "    </tr>\n",
       "    <tr>\n",
       "      <th>1</th>\n",
       "      <td>46.0</td>\n",
       "      <td>25.106809</td>\n",
       "      <td>55.151201</td>\n",
       "      <td>2850000</td>\n",
       "      <td>2</td>\n",
       "      <td>2</td>\n",
       "      <td>2.0</td>\n",
       "      <td>0.0</td>\n",
       "      <td>0.0</td>\n",
       "      <td>1.0</td>\n",
       "      <td>...</td>\n",
       "      <td>0.0</td>\n",
       "      <td>0.0</td>\n",
       "      <td>0.0</td>\n",
       "      <td>1.0</td>\n",
       "      <td>1.0</td>\n",
       "      <td>0.0</td>\n",
       "      <td>1.0</td>\n",
       "      <td>146.972546</td>\n",
       "      <td>1.0</td>\n",
       "      <td>2.0</td>\n",
       "    </tr>\n",
       "    <tr>\n",
       "      <th>2</th>\n",
       "      <td>36.0</td>\n",
       "      <td>25.063302</td>\n",
       "      <td>55.137728</td>\n",
       "      <td>1150000</td>\n",
       "      <td>3</td>\n",
       "      <td>5</td>\n",
       "      <td>2.0</td>\n",
       "      <td>1.0</td>\n",
       "      <td>1.0</td>\n",
       "      <td>1.0</td>\n",
       "      <td>...</td>\n",
       "      <td>1.0</td>\n",
       "      <td>0.0</td>\n",
       "      <td>1.0</td>\n",
       "      <td>1.0</td>\n",
       "      <td>1.0</td>\n",
       "      <td>0.0</td>\n",
       "      <td>1.0</td>\n",
       "      <td>181.253753</td>\n",
       "      <td>1.0</td>\n",
       "      <td>5.0</td>\n",
       "    </tr>\n",
       "    <tr>\n",
       "      <th>3</th>\n",
       "      <td>11.0</td>\n",
       "      <td>25.227295</td>\n",
       "      <td>55.341761</td>\n",
       "      <td>2850000</td>\n",
       "      <td>2</td>\n",
       "      <td>3</td>\n",
       "      <td>1.0</td>\n",
       "      <td>0.0</td>\n",
       "      <td>1.0</td>\n",
       "      <td>1.0</td>\n",
       "      <td>...</td>\n",
       "      <td>0.0</td>\n",
       "      <td>0.0</td>\n",
       "      <td>0.0</td>\n",
       "      <td>0.0</td>\n",
       "      <td>0.0</td>\n",
       "      <td>0.0</td>\n",
       "      <td>0.0</td>\n",
       "      <td>187.664060</td>\n",
       "      <td>2.0</td>\n",
       "      <td>5.0</td>\n",
       "    </tr>\n",
       "    <tr>\n",
       "      <th>4</th>\n",
       "      <td>46.0</td>\n",
       "      <td>25.114275</td>\n",
       "      <td>55.139764</td>\n",
       "      <td>1729200</td>\n",
       "      <td>0</td>\n",
       "      <td>1</td>\n",
       "      <td>2.0</td>\n",
       "      <td>0.0</td>\n",
       "      <td>0.0</td>\n",
       "      <td>0.0</td>\n",
       "      <td>...</td>\n",
       "      <td>0.0</td>\n",
       "      <td>0.0</td>\n",
       "      <td>1.0</td>\n",
       "      <td>1.0</td>\n",
       "      <td>1.0</td>\n",
       "      <td>1.0</td>\n",
       "      <td>1.0</td>\n",
       "      <td>47.101821</td>\n",
       "      <td>2.0</td>\n",
       "      <td>1.0</td>\n",
       "    </tr>\n",
       "  </tbody>\n",
       "</table>\n",
       "<p>5 rows × 31 columns</p>\n",
       "</div>"
      ],
      "text/plain": [
       "   neighborhood_recode   latitude  longitude    price  no_of_bedrooms  \\\n",
       "0                 46.0  25.113208  55.138932  2700000               1   \n",
       "1                 46.0  25.106809  55.151201  2850000               2   \n",
       "2                 36.0  25.063302  55.137728  1150000               3   \n",
       "3                 11.0  25.227295  55.341761  2850000               2   \n",
       "4                 46.0  25.114275  55.139764  1729200               0   \n",
       "\n",
       "   no_of_bathrooms  quality_recode  maid_room_recode  unfurnished_recode  \\\n",
       "0                2             2.0               0.0                 0.0   \n",
       "1                2             2.0               0.0                 0.0   \n",
       "2                5             2.0               1.0                 1.0   \n",
       "3                3             1.0               0.0                 1.0   \n",
       "4                1             2.0               0.0                 0.0   \n",
       "\n",
       "   balcony_recode  ...  private_jacuzzi_recode  private_pool_recode  \\\n",
       "0             1.0  ...                     0.0                  0.0   \n",
       "1             1.0  ...                     0.0                  0.0   \n",
       "2             1.0  ...                     1.0                  0.0   \n",
       "3             1.0  ...                     0.0                  0.0   \n",
       "4             0.0  ...                     0.0                  0.0   \n",
       "\n",
       "   security_recode  shared_gym_recode  shared_pool_recode  shared_spa_recode  \\\n",
       "0              0.0                1.0                 0.0                0.0   \n",
       "1              0.0                1.0                 1.0                0.0   \n",
       "2              1.0                1.0                 1.0                0.0   \n",
       "3              0.0                0.0                 0.0                0.0   \n",
       "4              1.0                1.0                 1.0                1.0   \n",
       "\n",
       "   view_of_water_recode  size_in_m_2  type  rating  \n",
       "0                   1.0   100.242337   2.0     3.0  \n",
       "1                   1.0   146.972546   1.0     2.0  \n",
       "2                   1.0   181.253753   1.0     5.0  \n",
       "3                   0.0   187.664060   2.0     5.0  \n",
       "4                   1.0    47.101821   2.0     1.0  \n",
       "\n",
       "[5 rows x 31 columns]"
      ]
     },
     "execution_count": 3,
     "metadata": {},
     "output_type": "execute_result"
    }
   ],
   "source": [
    "Data = pd.read_csv('House_Price_Regression.csv')\n",
    "\n",
    "np.random.seed(123)\n",
    "\n",
    "Data['type'] = np.random.uniform(low=0, high=3, size=len(Data)).round()\n",
    "\n",
    "Data['rating'] = np.random.uniform(low=0, high=5, size=len(Data)).round()\n",
    "\n",
    "Data.head()"
   ]
  },
  {
   "cell_type": "markdown",
   "metadata": {},
   "source": []
  },
  {
   "cell_type": "code",
   "execution_count": 4,
   "metadata": {},
   "outputs": [],
   "source": [
    "Data_quant = Data.loc[: , ['latitude', 'longitude', 'price', 'size_in_m_2', 'no_of_bedrooms', 'no_of_bathrooms']]"
   ]
  },
  {
   "cell_type": "code",
   "execution_count": 5,
   "metadata": {},
   "outputs": [
    {
     "data": {
      "text/html": [
       "<div>\n",
       "<style scoped>\n",
       "    .dataframe tbody tr th:only-of-type {\n",
       "        vertical-align: middle;\n",
       "    }\n",
       "\n",
       "    .dataframe tbody tr th {\n",
       "        vertical-align: top;\n",
       "    }\n",
       "\n",
       "    .dataframe thead th {\n",
       "        text-align: right;\n",
       "    }\n",
       "</style>\n",
       "<table border=\"1\" class=\"dataframe\">\n",
       "  <thead>\n",
       "    <tr style=\"text-align: right;\">\n",
       "      <th></th>\n",
       "      <th>latitude</th>\n",
       "      <th>longitude</th>\n",
       "      <th>price</th>\n",
       "      <th>size_in_m_2</th>\n",
       "      <th>no_of_bedrooms</th>\n",
       "      <th>no_of_bathrooms</th>\n",
       "    </tr>\n",
       "  </thead>\n",
       "  <tbody>\n",
       "    <tr>\n",
       "      <th>0</th>\n",
       "      <td>25.113208</td>\n",
       "      <td>55.138932</td>\n",
       "      <td>2700000</td>\n",
       "      <td>100.242337</td>\n",
       "      <td>1</td>\n",
       "      <td>2</td>\n",
       "    </tr>\n",
       "    <tr>\n",
       "      <th>1</th>\n",
       "      <td>25.106809</td>\n",
       "      <td>55.151201</td>\n",
       "      <td>2850000</td>\n",
       "      <td>146.972546</td>\n",
       "      <td>2</td>\n",
       "      <td>2</td>\n",
       "    </tr>\n",
       "    <tr>\n",
       "      <th>2</th>\n",
       "      <td>25.063302</td>\n",
       "      <td>55.137728</td>\n",
       "      <td>1150000</td>\n",
       "      <td>181.253753</td>\n",
       "      <td>3</td>\n",
       "      <td>5</td>\n",
       "    </tr>\n",
       "    <tr>\n",
       "      <th>3</th>\n",
       "      <td>25.227295</td>\n",
       "      <td>55.341761</td>\n",
       "      <td>2850000</td>\n",
       "      <td>187.664060</td>\n",
       "      <td>2</td>\n",
       "      <td>3</td>\n",
       "    </tr>\n",
       "    <tr>\n",
       "      <th>4</th>\n",
       "      <td>25.114275</td>\n",
       "      <td>55.139764</td>\n",
       "      <td>1729200</td>\n",
       "      <td>47.101821</td>\n",
       "      <td>0</td>\n",
       "      <td>1</td>\n",
       "    </tr>\n",
       "  </tbody>\n",
       "</table>\n",
       "</div>"
      ],
      "text/plain": [
       "    latitude  longitude    price  size_in_m_2  no_of_bedrooms  no_of_bathrooms\n",
       "0  25.113208  55.138932  2700000   100.242337               1                2\n",
       "1  25.106809  55.151201  2850000   146.972546               2                2\n",
       "2  25.063302  55.137728  1150000   181.253753               3                5\n",
       "3  25.227295  55.341761  2850000   187.664060               2                3\n",
       "4  25.114275  55.139764  1729200    47.101821               0                1"
      ]
     },
     "execution_count": 5,
     "metadata": {},
     "output_type": "execute_result"
    }
   ],
   "source": [
    "Data_quant.head()"
   ]
  },
  {
   "cell_type": "markdown",
   "metadata": {},
   "source": []
  },
  {
   "cell_type": "code",
   "execution_count": 6,
   "metadata": {},
   "outputs": [
    {
     "data": {
      "text/html": [
       "<div>\n",
       "<style scoped>\n",
       "    .dataframe tbody tr th:only-of-type {\n",
       "        vertical-align: middle;\n",
       "    }\n",
       "\n",
       "    .dataframe tbody tr th {\n",
       "        vertical-align: top;\n",
       "    }\n",
       "\n",
       "    .dataframe thead th {\n",
       "        text-align: right;\n",
       "    }\n",
       "</style>\n",
       "<table border=\"1\" class=\"dataframe\">\n",
       "  <thead>\n",
       "    <tr style=\"text-align: right;\">\n",
       "      <th></th>\n",
       "      <th>private_garden_recode</th>\n",
       "      <th>private_gym_recode</th>\n",
       "      <th>private_jacuzzi_recode</th>\n",
       "      <th>balcony_recode</th>\n",
       "    </tr>\n",
       "  </thead>\n",
       "  <tbody>\n",
       "    <tr>\n",
       "      <th>0</th>\n",
       "      <td>0.0</td>\n",
       "      <td>0.0</td>\n",
       "      <td>0.0</td>\n",
       "      <td>1.0</td>\n",
       "    </tr>\n",
       "    <tr>\n",
       "      <th>1</th>\n",
       "      <td>0.0</td>\n",
       "      <td>0.0</td>\n",
       "      <td>0.0</td>\n",
       "      <td>1.0</td>\n",
       "    </tr>\n",
       "    <tr>\n",
       "      <th>2</th>\n",
       "      <td>0.0</td>\n",
       "      <td>0.0</td>\n",
       "      <td>1.0</td>\n",
       "      <td>1.0</td>\n",
       "    </tr>\n",
       "    <tr>\n",
       "      <th>3</th>\n",
       "      <td>0.0</td>\n",
       "      <td>0.0</td>\n",
       "      <td>0.0</td>\n",
       "      <td>1.0</td>\n",
       "    </tr>\n",
       "    <tr>\n",
       "      <th>4</th>\n",
       "      <td>0.0</td>\n",
       "      <td>0.0</td>\n",
       "      <td>0.0</td>\n",
       "      <td>0.0</td>\n",
       "    </tr>\n",
       "  </tbody>\n",
       "</table>\n",
       "</div>"
      ],
      "text/plain": [
       "   private_garden_recode  private_gym_recode  private_jacuzzi_recode  \\\n",
       "0                    0.0                 0.0                     0.0   \n",
       "1                    0.0                 0.0                     0.0   \n",
       "2                    0.0                 0.0                     1.0   \n",
       "3                    0.0                 0.0                     0.0   \n",
       "4                    0.0                 0.0                     0.0   \n",
       "\n",
       "   balcony_recode  \n",
       "0             1.0  \n",
       "1             1.0  \n",
       "2             1.0  \n",
       "3             1.0  \n",
       "4             0.0  "
      ]
     },
     "execution_count": 6,
     "metadata": {},
     "output_type": "execute_result"
    }
   ],
   "source": [
    "Data_binary = Data.loc[: , ['private_garden_recode', 'private_gym_recode', 'private_jacuzzi_recode', 'balcony_recode']]\n",
    "\n",
    "Data_binary.head()"
   ]
  },
  {
   "cell_type": "markdown",
   "metadata": {},
   "source": []
  },
  {
   "cell_type": "code",
   "execution_count": 7,
   "metadata": {},
   "outputs": [
    {
     "data": {
      "text/html": [
       "<div>\n",
       "<style scoped>\n",
       "    .dataframe tbody tr th:only-of-type {\n",
       "        vertical-align: middle;\n",
       "    }\n",
       "\n",
       "    .dataframe tbody tr th {\n",
       "        vertical-align: top;\n",
       "    }\n",
       "\n",
       "    .dataframe thead th {\n",
       "        text-align: right;\n",
       "    }\n",
       "</style>\n",
       "<table border=\"1\" class=\"dataframe\">\n",
       "  <thead>\n",
       "    <tr style=\"text-align: right;\">\n",
       "      <th></th>\n",
       "      <th>quality_recode</th>\n",
       "      <th>rating</th>\n",
       "      <th>type</th>\n",
       "    </tr>\n",
       "  </thead>\n",
       "  <tbody>\n",
       "    <tr>\n",
       "      <th>0</th>\n",
       "      <td>2.0</td>\n",
       "      <td>3.0</td>\n",
       "      <td>2.0</td>\n",
       "    </tr>\n",
       "    <tr>\n",
       "      <th>1</th>\n",
       "      <td>2.0</td>\n",
       "      <td>2.0</td>\n",
       "      <td>1.0</td>\n",
       "    </tr>\n",
       "    <tr>\n",
       "      <th>2</th>\n",
       "      <td>2.0</td>\n",
       "      <td>5.0</td>\n",
       "      <td>1.0</td>\n",
       "    </tr>\n",
       "    <tr>\n",
       "      <th>3</th>\n",
       "      <td>1.0</td>\n",
       "      <td>5.0</td>\n",
       "      <td>2.0</td>\n",
       "    </tr>\n",
       "    <tr>\n",
       "      <th>4</th>\n",
       "      <td>2.0</td>\n",
       "      <td>1.0</td>\n",
       "      <td>2.0</td>\n",
       "    </tr>\n",
       "  </tbody>\n",
       "</table>\n",
       "</div>"
      ],
      "text/plain": [
       "   quality_recode  rating  type\n",
       "0             2.0     3.0   2.0\n",
       "1             2.0     2.0   1.0\n",
       "2             2.0     5.0   1.0\n",
       "3             1.0     5.0   2.0\n",
       "4             2.0     1.0   2.0"
      ]
     },
     "execution_count": 7,
     "metadata": {},
     "output_type": "execute_result"
    }
   ],
   "source": [
    "Data_multiclass = Data.loc[: , ['quality_recode', 'rating', 'type']]\n",
    "\n",
    "Data_multiclass.head()"
   ]
  },
  {
   "cell_type": "markdown",
   "metadata": {},
   "source": []
  },
  {
   "cell_type": "code",
   "execution_count": 8,
   "metadata": {},
   "outputs": [
    {
     "data": {
      "text/html": [
       "<div>\n",
       "<style scoped>\n",
       "    .dataframe tbody tr th:only-of-type {\n",
       "        vertical-align: middle;\n",
       "    }\n",
       "\n",
       "    .dataframe tbody tr th {\n",
       "        vertical-align: top;\n",
       "    }\n",
       "\n",
       "    .dataframe thead th {\n",
       "        text-align: right;\n",
       "    }\n",
       "</style>\n",
       "<table border=\"1\" class=\"dataframe\">\n",
       "  <thead>\n",
       "    <tr style=\"text-align: right;\">\n",
       "      <th></th>\n",
       "      <th>latitude</th>\n",
       "      <th>longitude</th>\n",
       "      <th>price</th>\n",
       "      <th>size_in_m_2</th>\n",
       "      <th>no_of_bedrooms</th>\n",
       "      <th>no_of_bathrooms</th>\n",
       "      <th>private_garden_recode</th>\n",
       "      <th>private_gym_recode</th>\n",
       "      <th>private_jacuzzi_recode</th>\n",
       "      <th>balcony_recode</th>\n",
       "      <th>quality_recode</th>\n",
       "      <th>rating</th>\n",
       "      <th>type</th>\n",
       "    </tr>\n",
       "  </thead>\n",
       "  <tbody>\n",
       "    <tr>\n",
       "      <th>0</th>\n",
       "      <td>25.113208</td>\n",
       "      <td>55.138932</td>\n",
       "      <td>2700000</td>\n",
       "      <td>100.242337</td>\n",
       "      <td>1</td>\n",
       "      <td>2</td>\n",
       "      <td>0.0</td>\n",
       "      <td>0.0</td>\n",
       "      <td>0.0</td>\n",
       "      <td>1.0</td>\n",
       "      <td>2.0</td>\n",
       "      <td>3.0</td>\n",
       "      <td>2.0</td>\n",
       "    </tr>\n",
       "    <tr>\n",
       "      <th>1</th>\n",
       "      <td>25.106809</td>\n",
       "      <td>55.151201</td>\n",
       "      <td>2850000</td>\n",
       "      <td>146.972546</td>\n",
       "      <td>2</td>\n",
       "      <td>2</td>\n",
       "      <td>0.0</td>\n",
       "      <td>0.0</td>\n",
       "      <td>0.0</td>\n",
       "      <td>1.0</td>\n",
       "      <td>2.0</td>\n",
       "      <td>2.0</td>\n",
       "      <td>1.0</td>\n",
       "    </tr>\n",
       "    <tr>\n",
       "      <th>2</th>\n",
       "      <td>25.063302</td>\n",
       "      <td>55.137728</td>\n",
       "      <td>1150000</td>\n",
       "      <td>181.253753</td>\n",
       "      <td>3</td>\n",
       "      <td>5</td>\n",
       "      <td>0.0</td>\n",
       "      <td>0.0</td>\n",
       "      <td>1.0</td>\n",
       "      <td>1.0</td>\n",
       "      <td>2.0</td>\n",
       "      <td>5.0</td>\n",
       "      <td>1.0</td>\n",
       "    </tr>\n",
       "    <tr>\n",
       "      <th>3</th>\n",
       "      <td>25.227295</td>\n",
       "      <td>55.341761</td>\n",
       "      <td>2850000</td>\n",
       "      <td>187.664060</td>\n",
       "      <td>2</td>\n",
       "      <td>3</td>\n",
       "      <td>0.0</td>\n",
       "      <td>0.0</td>\n",
       "      <td>0.0</td>\n",
       "      <td>1.0</td>\n",
       "      <td>1.0</td>\n",
       "      <td>5.0</td>\n",
       "      <td>2.0</td>\n",
       "    </tr>\n",
       "    <tr>\n",
       "      <th>4</th>\n",
       "      <td>25.114275</td>\n",
       "      <td>55.139764</td>\n",
       "      <td>1729200</td>\n",
       "      <td>47.101821</td>\n",
       "      <td>0</td>\n",
       "      <td>1</td>\n",
       "      <td>0.0</td>\n",
       "      <td>0.0</td>\n",
       "      <td>0.0</td>\n",
       "      <td>0.0</td>\n",
       "      <td>2.0</td>\n",
       "      <td>1.0</td>\n",
       "      <td>2.0</td>\n",
       "    </tr>\n",
       "  </tbody>\n",
       "</table>\n",
       "</div>"
      ],
      "text/plain": [
       "    latitude  longitude    price  size_in_m_2  no_of_bedrooms  \\\n",
       "0  25.113208  55.138932  2700000   100.242337               1   \n",
       "1  25.106809  55.151201  2850000   146.972546               2   \n",
       "2  25.063302  55.137728  1150000   181.253753               3   \n",
       "3  25.227295  55.341761  2850000   187.664060               2   \n",
       "4  25.114275  55.139764  1729200    47.101821               0   \n",
       "\n",
       "   no_of_bathrooms  private_garden_recode  private_gym_recode  \\\n",
       "0                2                    0.0                 0.0   \n",
       "1                2                    0.0                 0.0   \n",
       "2                5                    0.0                 0.0   \n",
       "3                3                    0.0                 0.0   \n",
       "4                1                    0.0                 0.0   \n",
       "\n",
       "   private_jacuzzi_recode  balcony_recode  quality_recode  rating  type  \n",
       "0                     0.0             1.0             2.0     3.0   2.0  \n",
       "1                     0.0             1.0             2.0     2.0   1.0  \n",
       "2                     1.0             1.0             2.0     5.0   1.0  \n",
       "3                     0.0             1.0             1.0     5.0   2.0  \n",
       "4                     0.0             0.0             2.0     1.0   2.0  "
      ]
     },
     "execution_count": 8,
     "metadata": {},
     "output_type": "execute_result"
    }
   ],
   "source": [
    "Data_mixed = Data.loc[: , ['latitude', 'longitude', 'price', 'size_in_m_2', 'no_of_bedrooms', 'no_of_bathrooms','private_garden_recode', 'private_gym_recode', 'private_jacuzzi_recode', 'balcony_recode','quality_recode', 'rating', 'type']]\n",
    "\n",
    "Data_mixed.head()"
   ]
  },
  {
   "cell_type": "markdown",
   "metadata": {},
   "source": []
  },
  {
   "cell_type": "markdown",
   "metadata": {},
   "source": []
  },
  {
   "cell_type": "markdown",
   "metadata": {},
   "source": [
    "## Distancia Euclidea"
   ]
  },
  {
   "cell_type": "code",
   "execution_count": 9,
   "metadata": {},
   "outputs": [],
   "source": [
    "def Dist_Euclidea(x_i, x_r):\n",
    "\n",
    "        Dist_Euclidea = ( ( x_i - x_r )**2 ).sum()\n",
    "\n",
    "        Dist_Euclidea = np.sqrt(Dist_Euclidea)\n",
    "\n",
    "        return Dist_Euclidea"
   ]
  },
  {
   "cell_type": "code",
   "execution_count": 84,
   "metadata": {},
   "outputs": [
    {
     "data": {
      "text/plain": [
       "1969900.0019225744"
      ]
     },
     "execution_count": 84,
     "metadata": {},
     "output_type": "execute_result"
    }
   ],
   "source": [
    "Dist_Euclidea(Data_quant.iloc[2,:] , Data_quant.iloc[5,:])"
   ]
  },
  {
   "cell_type": "code",
   "execution_count": 10,
   "metadata": {},
   "outputs": [],
   "source": [
    "def Matrix_Dist_Euclidea(Data):\n",
    "\n",
    "    Data = Data.to_numpy()\n",
    "\n",
    "    n = len(Data)\n",
    "\n",
    "    M =  np.empty((n , n))\n",
    "\n",
    "    \n",
    "    for i in range(0, n):\n",
    "\n",
    "         for r in range(0, n):\n",
    "\n",
    "             if i >= r :\n",
    "               \n",
    "                 M[i,r] = 0\n",
    "\n",
    "             else :\n",
    "\n",
    "                 M[i,r] = Dist_Euclidea(Data[i,:] , Data[r,:])   \n",
    "\n",
    "                      \n",
    "    return M "
   ]
  },
  {
   "cell_type": "code",
   "execution_count": 86,
   "metadata": {},
   "outputs": [],
   "source": [
    "M_Euclidean = Matrix_Dist_Euclidea(Data=Data_quant)"
   ]
  },
  {
   "cell_type": "code",
   "execution_count": 87,
   "metadata": {},
   "outputs": [
    {
     "data": {
      "text/plain": [
       "array([[      0.        ,  150000.00728238, 1550000.00212124, ...,\n",
       "         200000.01565902, 2025000.00024491, 1939113.00017324],\n",
       "       [      0.        ,       0.        , 1700000.00034859, ...,\n",
       "          50000.01055292, 2175000.00140691, 2089113.00126347],\n",
       "       [      0.        ,       0.        ,       0.        , ...,\n",
       "        1750000.00000111,  475000.01333737,  389113.0147095 ],\n",
       "       ...,\n",
       "       [      0.        ,       0.        ,       0.        , ...,\n",
       "              0.        , 2225000.00274952, 2139113.00257909],\n",
       "       [      0.        ,       0.        ,       0.        , ...,\n",
       "              0.        ,       0.        ,   85887.00018092],\n",
       "       [      0.        ,       0.        ,       0.        , ...,\n",
       "              0.        ,       0.        ,       0.        ]])"
      ]
     },
     "execution_count": 87,
     "metadata": {},
     "output_type": "execute_result"
    }
   ],
   "source": [
    "M_Euclidean"
   ]
  },
  {
   "cell_type": "code",
   "execution_count": 88,
   "metadata": {},
   "outputs": [
    {
     "data": {
      "text/plain": [
       "array([[      0.        ,  150000.00728238, 1550000.00212124, ...,\n",
       "         200000.01565902, 2025000.00024491, 1939113.00017324],\n",
       "       [ 150000.00728238,       0.        , 1700000.00034859, ...,\n",
       "          50000.01055292, 2175000.00140691, 2089113.00126347],\n",
       "       [1550000.00212124, 1700000.00034859,       0.        , ...,\n",
       "        1750000.00000111,  475000.01333737,  389113.0147095 ],\n",
       "       ...,\n",
       "       [ 200000.01565902,   50000.01055292, 1750000.00000111, ...,\n",
       "              0.        , 2225000.00274952, 2139113.00257909],\n",
       "       [2025000.00024491, 2175000.00140691,  475000.01333737, ...,\n",
       "        2225000.00274952,       0.        ,   85887.00018092],\n",
       "       [1939113.00017324, 2089113.00126347,  389113.0147095 , ...,\n",
       "        2139113.00257909,   85887.00018092,       0.        ]])"
      ]
     },
     "execution_count": 88,
     "metadata": {},
     "output_type": "execute_result"
    }
   ],
   "source": [
    "M_Euclidean = M_Euclidean + M_Euclidean.T\n",
    "\n",
    "M_Euclidean"
   ]
  },
  {
   "cell_type": "markdown",
   "metadata": {},
   "source": []
  },
  {
   "cell_type": "markdown",
   "metadata": {},
   "source": [
    "## Distancia de Minkowski"
   ]
  },
  {
   "cell_type": "code",
   "execution_count": 11,
   "metadata": {},
   "outputs": [],
   "source": [
    "def Dist_Minkowski(x_i, x_r, q):\n",
    "\n",
    "    Dist_Minkowski = ( ( ( abs( x_i - x_r) )**q ).sum() )**(1/q)\n",
    "\n",
    "    return Dist_Minkowski"
   ]
  },
  {
   "cell_type": "code",
   "execution_count": 90,
   "metadata": {},
   "outputs": [
    {
     "data": {
      "text/plain": [
       "1969992.0102169998"
      ]
     },
     "execution_count": 90,
     "metadata": {},
     "output_type": "execute_result"
    }
   ],
   "source": [
    "Dist_Minkowski(Data_quant.iloc[2,:], Data_quant.iloc[5,:], q=1)"
   ]
  },
  {
   "cell_type": "code",
   "execution_count": 91,
   "metadata": {},
   "outputs": [
    {
     "data": {
      "text/plain": [
       "1969900.0019225744"
      ]
     },
     "execution_count": 91,
     "metadata": {},
     "output_type": "execute_result"
    }
   ],
   "source": [
    "Dist_Minkowski(Data_quant.iloc[2,:], Data_quant.iloc[5,:], q=2)"
   ]
  },
  {
   "cell_type": "code",
   "execution_count": 92,
   "metadata": {},
   "outputs": [
    {
     "data": {
      "text/plain": [
       "1969900.000000055"
      ]
     },
     "execution_count": 92,
     "metadata": {},
     "output_type": "execute_result"
    }
   ],
   "source": [
    "Dist_Minkowski(Data_quant.iloc[2,:], Data_quant.iloc[5,:], q=3)"
   ]
  },
  {
   "cell_type": "code",
   "execution_count": 93,
   "metadata": {},
   "outputs": [
    {
     "data": {
      "text/plain": [
       "1969900.0000000016"
      ]
     },
     "execution_count": 93,
     "metadata": {},
     "output_type": "execute_result"
    }
   ],
   "source": [
    "Dist_Minkowski(Data_quant.iloc[2,:], Data_quant.iloc[5,:], q=10)"
   ]
  },
  {
   "cell_type": "code",
   "execution_count": 12,
   "metadata": {},
   "outputs": [],
   "source": [
    "def Matrix_Dist_Minkowski(Data, q):\n",
    "\n",
    "    Data = Data.to_numpy()\n",
    "\n",
    "    n = len(Data)\n",
    "\n",
    "    M =  np.empty((n , n))\n",
    "\n",
    "    \n",
    "    for i in range(0, n):\n",
    "\n",
    "         for r in range(0, n):\n",
    "\n",
    "             if i >= r :\n",
    "               \n",
    "                 M[i,r] = 0\n",
    "\n",
    "             else :\n",
    "\n",
    "                 M[i,r] = Dist_Minkowski(Data[i,:] , Data[r,:], q)   \n",
    "                      \n",
    "    return M "
   ]
  },
  {
   "cell_type": "code",
   "execution_count": 95,
   "metadata": {},
   "outputs": [
    {
     "data": {
      "text/plain": [
       "array([[      0.      ,  150047.748877, 1550086.062526, ...,\n",
       "         200084.359869, 2025031.624379, 1939138.969796],\n",
       "       [      0.      ,       0.      , 1700038.338187, ...,\n",
       "          50036.62379 , 2175079.33592 , 2089186.681337],\n",
       "       [      0.      ,       0.      ,       0.      , ...,\n",
       "        1750002.301489,  475117.608205,  389224.964166],\n",
       "       ...,\n",
       "       [      0.      ,       0.      ,       0.      , ...,\n",
       "              0.      , 2225115.802424, 2139223.298103],\n",
       "       [      0.      ,       0.      ,       0.      , ...,\n",
       "              0.      ,       0.      ,   85892.654583],\n",
       "       [      0.      ,       0.      ,       0.      , ...,\n",
       "              0.      ,       0.      ,       0.      ]])"
      ]
     },
     "execution_count": 95,
     "metadata": {},
     "output_type": "execute_result"
    }
   ],
   "source": [
    "M_Minkowski = Matrix_Dist_Minkowski(Data=Data_quant, q=1)\n",
    "\n",
    "M_Minkowski"
   ]
  },
  {
   "cell_type": "code",
   "execution_count": 96,
   "metadata": {},
   "outputs": [
    {
     "data": {
      "text/plain": [
       "array([[      0.      ,  150047.748877, 1550086.062526, ...,\n",
       "         200084.359869, 2025031.624379, 1939138.969796],\n",
       "       [ 150047.748877,       0.      , 1700038.338187, ...,\n",
       "          50036.62379 , 2175079.33592 , 2089186.681337],\n",
       "       [1550086.062526, 1700038.338187,       0.      , ...,\n",
       "        1750002.301489,  475117.608205,  389224.964166],\n",
       "       ...,\n",
       "       [ 200084.359869,   50036.62379 , 1750002.301489, ...,\n",
       "              0.      , 2225115.802424, 2139223.298103],\n",
       "       [2025031.624379, 2175079.33592 ,  475117.608205, ...,\n",
       "        2225115.802424,       0.      ,   85892.654583],\n",
       "       [1939138.969796, 2089186.681337,  389224.964166, ...,\n",
       "        2139223.298103,   85892.654583,       0.      ]])"
      ]
     },
     "execution_count": 96,
     "metadata": {},
     "output_type": "execute_result"
    }
   ],
   "source": [
    "M_Minkowski = M_Minkowski + M_Minkowski.T\n",
    "\n",
    "M_Minkowski"
   ]
  },
  {
   "cell_type": "markdown",
   "metadata": {},
   "source": []
  },
  {
   "cell_type": "markdown",
   "metadata": {},
   "source": [
    "## Distancia Canberra"
   ]
  },
  {
   "cell_type": "code",
   "execution_count": 13,
   "metadata": {},
   "outputs": [],
   "source": [
    "def Dist_Canberra(x_i, x_r):\n",
    "\n",
    "    numerator =  abs( x_i - x_r )\n",
    "\n",
    "    denominator =  ( abs(x_i) + abs(x_r) )\n",
    "       \n",
    "    numerator=np.array([numerator], dtype=float)\n",
    "\n",
    "    denominator=np.array([denominator], dtype=float)\n",
    "\n",
    "    # The following code is to eliminate zero division problems\n",
    "\n",
    "    Dist_Canberra = ( np.divide( numerator , denominator , out=np.zeros_like(numerator), where=denominator!=0) ).sum() \n",
    "\n",
    "    return Dist_Canberra"
   ]
  },
  {
   "cell_type": "code",
   "execution_count": 98,
   "metadata": {},
   "outputs": [
    {
     "data": {
      "text/plain": [
       "8.8284791957755"
      ]
     },
     "execution_count": 98,
     "metadata": {},
     "output_type": "execute_result"
    }
   ],
   "source": [
    "Dist_Canberra(Data.iloc[2,:] , Data.iloc[5,:])"
   ]
  },
  {
   "cell_type": "code",
   "execution_count": 14,
   "metadata": {},
   "outputs": [],
   "source": [
    "def Matrix_Dist_Canberra(Data):\n",
    "\n",
    "    Data = Data.to_numpy()\n",
    "\n",
    "    n = len(Data)\n",
    "\n",
    "    M =  np.empty((n , n))\n",
    "\n",
    "    \n",
    "    for i in range(0, n):\n",
    "\n",
    "         for r in range(0, n):\n",
    "\n",
    "             if i >= r :\n",
    "               \n",
    "                 M[i,r] = 0\n",
    "\n",
    "             else :\n",
    "\n",
    "                 M[i,r] = Dist_Canberra(Data[i,:] , Data[r,:])   \n",
    "                     \n",
    "    return M "
   ]
  },
  {
   "cell_type": "code",
   "execution_count": 100,
   "metadata": {},
   "outputs": [
    {
     "data": {
      "text/plain": [
       "array([[0.        , 0.5496257 , 1.61996314, ..., 1.25082356, 0.78797391,\n",
       "        0.70959891],\n",
       "       [0.        , 0.        , 1.15900459, ..., 0.74009173, 1.31434216,\n",
       "        1.24077176],\n",
       "       [0.        , 0.        , 0.        , ..., 0.44223489, 1.63990915,\n",
       "        1.55106392],\n",
       "       ...,\n",
       "       [0.        , 0.        , 0.        , ..., 0.        , 2.00032192,\n",
       "        1.93106183],\n",
       "       [0.        , 0.        , 0.        , ..., 0.        , 0.        ,\n",
       "        0.09956138],\n",
       "       [0.        , 0.        , 0.        , ..., 0.        , 0.        ,\n",
       "        0.        ]])"
      ]
     },
     "execution_count": 100,
     "metadata": {},
     "output_type": "execute_result"
    }
   ],
   "source": [
    "M_Canberra = Matrix_Dist_Canberra(Data=Data_quant)\n",
    "\n",
    "M_Canberra"
   ]
  },
  {
   "cell_type": "code",
   "execution_count": 101,
   "metadata": {},
   "outputs": [
    {
     "data": {
      "text/plain": [
       "array([[0.        , 0.5496257 , 1.61996314, ..., 1.25082356, 0.78797391,\n",
       "        0.70959891],\n",
       "       [0.5496257 , 0.        , 1.15900459, ..., 0.74009173, 1.31434216,\n",
       "        1.24077176],\n",
       "       [1.61996314, 1.15900459, 0.        , ..., 0.44223489, 1.63990915,\n",
       "        1.55106392],\n",
       "       ...,\n",
       "       [1.25082356, 0.74009173, 0.44223489, ..., 0.        , 2.00032192,\n",
       "        1.93106183],\n",
       "       [0.78797391, 1.31434216, 1.63990915, ..., 2.00032192, 0.        ,\n",
       "        0.09956138],\n",
       "       [0.70959891, 1.24077176, 1.55106392, ..., 1.93106183, 0.09956138,\n",
       "        0.        ]])"
      ]
     },
     "execution_count": 101,
     "metadata": {},
     "output_type": "execute_result"
    }
   ],
   "source": [
    "M_Canberra = M_Canberra + M_Canberra.T\n",
    "\n",
    "M_Canberra"
   ]
  },
  {
   "cell_type": "markdown",
   "metadata": {},
   "source": []
  },
  {
   "cell_type": "markdown",
   "metadata": {},
   "source": [
    "## Distancia Pearson"
   ]
  },
  {
   "cell_type": "code",
   "execution_count": 15,
   "metadata": {},
   "outputs": [],
   "source": [
    "def Dist_Pearson(x_i, x_r, variance) :\n",
    "\n",
    "    Dist_Pearson = ( ( x_i - x_r )**2 / variance ).sum()\n",
    "\n",
    "    Dist_Pearson = np.sqrt(Dist_Pearson)\n",
    "\n",
    "    return Dist_Pearson"
   ]
  },
  {
   "cell_type": "code",
   "execution_count": 103,
   "metadata": {},
   "outputs": [
    {
     "data": {
      "text/plain": [
       "3.8239347754243425"
      ]
     },
     "execution_count": 103,
     "metadata": {},
     "output_type": "execute_result"
    }
   ],
   "source": [
    "Dist_Pearson(x_i=Data_quant.iloc[2,:], x_r=Data_quant.iloc[5,:], variance = np.var(Data_quant , axis=0, ddof=1))"
   ]
  },
  {
   "cell_type": "code",
   "execution_count": 16,
   "metadata": {},
   "outputs": [],
   "source": [
    "def Matrix_Dist_Pearson(Data):\n",
    "\n",
    "    Data = Data.to_numpy()\n",
    "\n",
    "    n = len(Data)\n",
    "\n",
    "    M =  np.empty((n , n))\n",
    "\n",
    "    \n",
    "    for i in range(0, n):\n",
    "\n",
    "         for r in range(0, n):\n",
    "\n",
    "             if i >= r :\n",
    "               \n",
    "                 M[i,r] = 0\n",
    "\n",
    "             else :\n",
    "\n",
    "                 M[i,r] = Dist_Pearson(Data[i,:] , Data[r,:], variance=np.var(Data, axis=0, ddof=1))   \n",
    "                     \n",
    "    return M "
   ]
  },
  {
   "cell_type": "code",
   "execution_count": 105,
   "metadata": {},
   "outputs": [
    {
     "data": {
      "text/plain": [
       "array([[0.        , 1.21345279, 3.77819153, ..., 4.95085256, 1.66393723,\n",
       "        0.94314867],\n",
       "       [0.        , 0.        , 3.17880538, ..., 4.43821303, 2.03523139,\n",
       "        1.60958264],\n",
       "       [0.        , 0.        , 0.        , ..., 3.82999056, 4.01162596,\n",
       "        3.76955491],\n",
       "       ...,\n",
       "       [0.        , 0.        , 0.        , ..., 0.        , 4.69603617,\n",
       "        5.13174853],\n",
       "       [0.        , 0.        , 0.        , ..., 0.        , 0.        ,\n",
       "        1.09780835],\n",
       "       [0.        , 0.        , 0.        , ..., 0.        , 0.        ,\n",
       "        0.        ]])"
      ]
     },
     "execution_count": 105,
     "metadata": {},
     "output_type": "execute_result"
    }
   ],
   "source": [
    "M_Pearson = Matrix_Dist_Pearson(Data=Data_quant)\n",
    "\n",
    "M_Pearson"
   ]
  },
  {
   "cell_type": "code",
   "execution_count": 106,
   "metadata": {},
   "outputs": [
    {
     "data": {
      "text/plain": [
       "array([[0.        , 1.21345279, 3.77819153, ..., 4.95085256, 1.66393723,\n",
       "        0.94314867],\n",
       "       [1.21345279, 0.        , 3.17880538, ..., 4.43821303, 2.03523139,\n",
       "        1.60958264],\n",
       "       [3.77819153, 3.17880538, 0.        , ..., 3.82999056, 4.01162596,\n",
       "        3.76955491],\n",
       "       ...,\n",
       "       [4.95085256, 4.43821303, 3.82999056, ..., 0.        , 4.69603617,\n",
       "        5.13174853],\n",
       "       [1.66393723, 2.03523139, 4.01162596, ..., 4.69603617, 0.        ,\n",
       "        1.09780835],\n",
       "       [0.94314867, 1.60958264, 3.76955491, ..., 5.13174853, 1.09780835,\n",
       "        0.        ]])"
      ]
     },
     "execution_count": 106,
     "metadata": {},
     "output_type": "execute_result"
    }
   ],
   "source": [
    "M_Pearson = M_Pearson + M_Pearson.T\n",
    "\n",
    "M_Pearson"
   ]
  },
  {
   "cell_type": "markdown",
   "metadata": {},
   "source": []
  },
  {
   "cell_type": "markdown",
   "metadata": {},
   "source": [
    "## Distancia de Mahalanobis"
   ]
  },
  {
   "cell_type": "code",
   "execution_count": 17,
   "metadata": {},
   "outputs": [],
   "source": [
    "def Dist_Mahalanobis_1(x_i, x_r, Data):\n",
    "\n",
    "    # All the columns of Data must be type = 'float' or 'int' (specially not 'object'), in other case we will find \n",
    "    # dimensional problems when Python compute   x @ S_inv @ x.T\n",
    "\n",
    "    x = (x_i - x_r)\n",
    "\n",
    "    x = np.array([x]) # necessary step to transpose a 1D array\n",
    "\n",
    "    S_inv = np.linalg.inv( np.cov(Data , rowvar=False) ) # inverse of covariance matrix\n",
    "\n",
    "    Dist_Maha = np.sqrt( x @ S_inv @ x.T )  # x @ S_inv @ x.T = np.matmul( np.matmul(x , S_inv) , x.T )\n",
    "\n",
    "    Dist_Maha = float(Dist_Maha)\n",
    "\n",
    "    return Dist_Maha"
   ]
  },
  {
   "cell_type": "code",
   "execution_count": 108,
   "metadata": {},
   "outputs": [
    {
     "data": {
      "text/plain": [
       "3.931396144771864"
      ]
     },
     "execution_count": 108,
     "metadata": {},
     "output_type": "execute_result"
    }
   ],
   "source": [
    "Dist_Mahalanobis_1(Data_quant.iloc[2,:] , Data_quant.iloc[5,:] , Data=Data_quant)"
   ]
  },
  {
   "cell_type": "markdown",
   "metadata": {},
   "source": []
  },
  {
   "cell_type": "code",
   "execution_count": 18,
   "metadata": {},
   "outputs": [],
   "source": [
    "def Dist_Mahalanobis_2(x_i, x_r, S_inv):  # Más eficiente que la anterior\n",
    "\n",
    "    # All the columns of Data must be type = 'float' or 'int' (specially not 'object'), in other case we will find \n",
    "    # dimensional problems when Python compute   x @ S_inv @ x.T\n",
    "\n",
    "    x = x_i - x_r\n",
    "\n",
    "    x = np.array([x]) # necessary step to transpose a 1D array\n",
    "\n",
    "    Dist_Maha = np.sqrt( x @ S_inv @ x.T )  # x @ S_inv @ x.T = np.matmul( np.matmul(x , S_inv) , x.T )\n",
    "\n",
    "    Dist_Maha = float(Dist_Maha)\n",
    "\n",
    "    return Dist_Maha"
   ]
  },
  {
   "cell_type": "code",
   "execution_count": 110,
   "metadata": {},
   "outputs": [
    {
     "data": {
      "text/plain": [
       "3.931396144771864"
      ]
     },
     "execution_count": 110,
     "metadata": {},
     "output_type": "execute_result"
    }
   ],
   "source": [
    "Dist_Mahalanobis_2(x_i = Data_quant.iloc[2,:] , x_r = Data_quant.iloc[5,:] , S_inv = np.linalg.inv( np.cov(Data_quant, rowvar=False) ) )"
   ]
  },
  {
   "cell_type": "code",
   "execution_count": 19,
   "metadata": {},
   "outputs": [],
   "source": [
    "def Dist_Mahalanobis_3(x, S_inv):  # Más eficiente que la anterior\n",
    "\n",
    "    # All the columns of Data must be type = 'float' or 'int' (specially not 'object'), in other case we will find \n",
    "    # dimensional problems when Python compute   x @ S_inv @ x.T\n",
    "\n",
    "    # x = (x_i - x_r)\n",
    "\n",
    "    # x = np.array([x]) # necessary step to transpose a 1D array\n",
    "\n",
    "    Dist_Maha = np.sqrt( x @ S_inv @ x.T )  # x @ S_inv @ x.T = np.matmul( np.matmul(x , S_inv) , x.T )\n",
    "\n",
    "    Dist_Maha = float(Dist_Maha)\n",
    "\n",
    "    return Dist_Maha"
   ]
  },
  {
   "cell_type": "code",
   "execution_count": 112,
   "metadata": {},
   "outputs": [
    {
     "data": {
      "text/plain": [
       "3.931396144771864"
      ]
     },
     "execution_count": 112,
     "metadata": {},
     "output_type": "execute_result"
    }
   ],
   "source": [
    "Dist_Mahalanobis_3(x = Data_quant.iloc[2,:] - Data_quant.iloc[5,:] , S_inv=np.linalg.inv( np.cov(Data_quant, rowvar=False) ))"
   ]
  },
  {
   "cell_type": "markdown",
   "metadata": {},
   "source": []
  },
  {
   "cell_type": "code",
   "execution_count": 20,
   "metadata": {},
   "outputs": [],
   "source": [
    "def Matrix_Dist_Mahalanobis_1(Data):\n",
    "\n",
    "    Data = Data.to_numpy()\n",
    "\n",
    "    n = len(Data)\n",
    "\n",
    "    M =  np.empty((n , n))\n",
    "\n",
    "   \n",
    "    for i in range(0, n):\n",
    "\n",
    "         for r in range(0, n):\n",
    "\n",
    "             if i >= r :\n",
    "               \n",
    "                 M[i,r] = 0\n",
    "\n",
    "             else :\n",
    "\n",
    "                 M[i,r] = Dist_Mahalanobis_1(x_i = Data[i,:] , x_r = Data[r,:] , Data=Data )\n",
    "\n",
    "                      \n",
    "    return M "
   ]
  },
  {
   "cell_type": "code",
   "execution_count": 114,
   "metadata": {},
   "outputs": [
    {
     "ename": "KeyboardInterrupt",
     "evalue": "",
     "output_type": "error",
     "traceback": [
      "\u001b[1;31m---------------------------------------------------------------------------\u001b[0m",
      "\u001b[1;31mKeyboardInterrupt\u001b[0m                         Traceback (most recent call last)",
      "\u001b[1;32mc:\\Users\\Usuario\\Documents\\fabio\\Fabio\\Estadistica4all.github.io-1\\Notebooks\\Statistical Distances\\Distancias Estadisticas (new).ipynb Cell 56\u001b[0m in \u001b[0;36m<cell line: 1>\u001b[1;34m()\u001b[0m\n\u001b[1;32m----> <a href='vscode-notebook-cell:/c%3A/Users/Usuario/Documents/fabio/Fabio/Estadistica4all.github.io-1/Notebooks/Statistical%20Distances/Distancias%20Estadisticas%20%28new%29.ipynb#Y106sZmlsZQ%3D%3D?line=0'>1</a>\u001b[0m Matrix_Dist_Mahalanobis_1(Data\u001b[39m=\u001b[39;49mData_quant\u001b[39m.\u001b[39;49miloc[\u001b[39m0\u001b[39;49m:\u001b[39m1000\u001b[39;49m, :])\n",
      "\u001b[1;32mc:\\Users\\Usuario\\Documents\\fabio\\Fabio\\Estadistica4all.github.io-1\\Notebooks\\Statistical Distances\\Distancias Estadisticas (new).ipynb Cell 56\u001b[0m in \u001b[0;36mMatrix_Dist_Mahalanobis_1\u001b[1;34m(Data)\u001b[0m\n\u001b[0;32m     <a href='vscode-notebook-cell:/c%3A/Users/Usuario/Documents/fabio/Fabio/Estadistica4all.github.io-1/Notebooks/Statistical%20Distances/Distancias%20Estadisticas%20%28new%29.ipynb#Y106sZmlsZQ%3D%3D?line=15'>16</a>\u001b[0m              M[i,r] \u001b[39m=\u001b[39m \u001b[39m0\u001b[39m\n\u001b[0;32m     <a href='vscode-notebook-cell:/c%3A/Users/Usuario/Documents/fabio/Fabio/Estadistica4all.github.io-1/Notebooks/Statistical%20Distances/Distancias%20Estadisticas%20%28new%29.ipynb#Y106sZmlsZQ%3D%3D?line=17'>18</a>\u001b[0m          \u001b[39melse\u001b[39;00m :\n\u001b[1;32m---> <a href='vscode-notebook-cell:/c%3A/Users/Usuario/Documents/fabio/Fabio/Estadistica4all.github.io-1/Notebooks/Statistical%20Distances/Distancias%20Estadisticas%20%28new%29.ipynb#Y106sZmlsZQ%3D%3D?line=19'>20</a>\u001b[0m              M[i,r] \u001b[39m=\u001b[39m Dist_Mahalanobis_1(x_i \u001b[39m=\u001b[39;49m Data[i,:] , x_r \u001b[39m=\u001b[39;49m Data[r,:] , Data\u001b[39m=\u001b[39;49mData )\n\u001b[0;32m     <a href='vscode-notebook-cell:/c%3A/Users/Usuario/Documents/fabio/Fabio/Estadistica4all.github.io-1/Notebooks/Statistical%20Distances/Distancias%20Estadisticas%20%28new%29.ipynb#Y106sZmlsZQ%3D%3D?line=22'>23</a>\u001b[0m \u001b[39mreturn\u001b[39;00m M\n",
      "\u001b[1;32mc:\\Users\\Usuario\\Documents\\fabio\\Fabio\\Estadistica4all.github.io-1\\Notebooks\\Statistical Distances\\Distancias Estadisticas (new).ipynb Cell 56\u001b[0m in \u001b[0;36mDist_Mahalanobis_1\u001b[1;34m(x_i, x_r, Data)\u001b[0m\n\u001b[0;32m      <a href='vscode-notebook-cell:/c%3A/Users/Usuario/Documents/fabio/Fabio/Estadistica4all.github.io-1/Notebooks/Statistical%20Distances/Distancias%20Estadisticas%20%28new%29.ipynb#Y106sZmlsZQ%3D%3D?line=5'>6</a>\u001b[0m x \u001b[39m=\u001b[39m (x_i \u001b[39m-\u001b[39m x_r)\n\u001b[0;32m      <a href='vscode-notebook-cell:/c%3A/Users/Usuario/Documents/fabio/Fabio/Estadistica4all.github.io-1/Notebooks/Statistical%20Distances/Distancias%20Estadisticas%20%28new%29.ipynb#Y106sZmlsZQ%3D%3D?line=7'>8</a>\u001b[0m x \u001b[39m=\u001b[39m np\u001b[39m.\u001b[39marray([x]) \u001b[39m# necessary step to transpose a 1D array\u001b[39;00m\n\u001b[1;32m---> <a href='vscode-notebook-cell:/c%3A/Users/Usuario/Documents/fabio/Fabio/Estadistica4all.github.io-1/Notebooks/Statistical%20Distances/Distancias%20Estadisticas%20%28new%29.ipynb#Y106sZmlsZQ%3D%3D?line=9'>10</a>\u001b[0m S_inv \u001b[39m=\u001b[39m np\u001b[39m.\u001b[39mlinalg\u001b[39m.\u001b[39minv( np\u001b[39m.\u001b[39;49mcov(Data , rowvar\u001b[39m=\u001b[39;49m\u001b[39mFalse\u001b[39;49;00m) ) \u001b[39m# inverse of covariance matrix\u001b[39;00m\n\u001b[0;32m     <a href='vscode-notebook-cell:/c%3A/Users/Usuario/Documents/fabio/Fabio/Estadistica4all.github.io-1/Notebooks/Statistical%20Distances/Distancias%20Estadisticas%20%28new%29.ipynb#Y106sZmlsZQ%3D%3D?line=11'>12</a>\u001b[0m Dist_Maha \u001b[39m=\u001b[39m np\u001b[39m.\u001b[39msqrt( x \u001b[39m@\u001b[39m S_inv \u001b[39m@\u001b[39m x\u001b[39m.\u001b[39mT )  \u001b[39m# x @ S_inv @ x.T = np.matmul( np.matmul(x , S_inv) , x.T )\u001b[39;00m\n\u001b[0;32m     <a href='vscode-notebook-cell:/c%3A/Users/Usuario/Documents/fabio/Fabio/Estadistica4all.github.io-1/Notebooks/Statistical%20Distances/Distancias%20Estadisticas%20%28new%29.ipynb#Y106sZmlsZQ%3D%3D?line=13'>14</a>\u001b[0m Dist_Maha \u001b[39m=\u001b[39m \u001b[39mfloat\u001b[39m(Dist_Maha)\n",
      "File \u001b[1;32m<__array_function__ internals>:180\u001b[0m, in \u001b[0;36mcov\u001b[1;34m(*args, **kwargs)\u001b[0m\n",
      "File \u001b[1;32mc:\\Users\\Usuario\\AppData\\Local\\Programs\\Python\\Python310\\lib\\site-packages\\numpy\\lib\\function_base.py:2630\u001b[0m, in \u001b[0;36mcov\u001b[1;34m(m, y, rowvar, bias, ddof, fweights, aweights, dtype)\u001b[0m\n\u001b[0;32m   2627\u001b[0m     \u001b[39melse\u001b[39;00m:\n\u001b[0;32m   2628\u001b[0m         dtype \u001b[39m=\u001b[39m np\u001b[39m.\u001b[39mresult_type(m, y, np\u001b[39m.\u001b[39mfloat64)\n\u001b[1;32m-> 2630\u001b[0m X \u001b[39m=\u001b[39m array(m, ndmin\u001b[39m=\u001b[39;49m\u001b[39m2\u001b[39;49m, dtype\u001b[39m=\u001b[39;49mdtype)\n\u001b[0;32m   2631\u001b[0m \u001b[39mif\u001b[39;00m \u001b[39mnot\u001b[39;00m rowvar \u001b[39mand\u001b[39;00m X\u001b[39m.\u001b[39mshape[\u001b[39m0\u001b[39m] \u001b[39m!=\u001b[39m \u001b[39m1\u001b[39m:\n\u001b[0;32m   2632\u001b[0m     X \u001b[39m=\u001b[39m X\u001b[39m.\u001b[39mT\n",
      "\u001b[1;31mKeyboardInterrupt\u001b[0m: "
     ]
    }
   ],
   "source": [
    "Matrix_Dist_Mahalanobis_1(Data=Data_quant.iloc[0:1000, :]) # 2.25 mins"
   ]
  },
  {
   "cell_type": "code",
   "execution_count": null,
   "metadata": {},
   "outputs": [
    {
     "data": {
      "text/plain": [
       "array([[0.        , 2.11289055, 3.7975463 , ..., 4.51559865, 2.31688444,\n",
       "        1.10588047],\n",
       "       [0.        , 0.        , 4.35615967, ..., 4.93340427, 2.74011739,\n",
       "        2.12938584],\n",
       "       [0.        , 0.        , 0.        , ..., 3.17779509, 3.49432487,\n",
       "        3.23723317],\n",
       "       ...,\n",
       "       [0.        , 0.        , 0.        , ..., 0.        , 3.58695453,\n",
       "        4.11275247],\n",
       "       [0.        , 0.        , 0.        , ..., 0.        , 0.        ,\n",
       "        1.46894947],\n",
       "       [0.        , 0.        , 0.        , ..., 0.        , 0.        ,\n",
       "        0.        ]])"
      ]
     },
     "execution_count": 71,
     "metadata": {},
     "output_type": "execute_result"
    }
   ],
   "source": [
    "Matrix_Dist_Mahalanobis_1(Data=Data_quant) # 8.52 mins"
   ]
  },
  {
   "cell_type": "code",
   "execution_count": 21,
   "metadata": {},
   "outputs": [],
   "source": [
    "def Matrix_Dist_Mahalanobis_2(Data):\n",
    "\n",
    "    Data = Data.to_numpy()\n",
    "\n",
    "    n = len(Data)\n",
    "\n",
    "    M =  np.empty((n , n))\n",
    "\n",
    "    S_inv = np.linalg.inv( np.cov(Data , rowvar=False) )\n",
    "\n",
    "   \n",
    "    for i in range(0, n):\n",
    "\n",
    "         for r in range(0, n):\n",
    "\n",
    "             if i >= r :\n",
    "               \n",
    "                 M[i,r] = 0\n",
    "\n",
    "             else :\n",
    "\n",
    "                 M[i,r] = Dist_Mahalanobis_2(x_i = Data[i,:] , x_r = Data[r,:] , S_inv = S_inv  )\n",
    "\n",
    "                      \n",
    "    return M "
   ]
  },
  {
   "cell_type": "code",
   "execution_count": null,
   "metadata": {},
   "outputs": [
    {
     "data": {
      "text/plain": [
       "array([[0.        , 2.16321817, 3.81131086, ..., 2.74083537, 3.84799958,\n",
       "        1.06041471],\n",
       "       [0.        , 0.        , 4.29953104, ..., 2.76698155, 2.78100414,\n",
       "        2.20791581],\n",
       "       [0.        , 0.        , 0.        , ..., 2.63546884, 4.34269664,\n",
       "        3.32469143],\n",
       "       ...,\n",
       "       [0.        , 0.        , 0.        , ..., 0.        , 2.18534065,\n",
       "        1.8408748 ],\n",
       "       [0.        , 0.        , 0.        , ..., 0.        , 0.        ,\n",
       "        3.09496075],\n",
       "       [0.        , 0.        , 0.        , ..., 0.        , 0.        ,\n",
       "        0.        ]])"
      ]
     },
     "execution_count": 71,
     "metadata": {},
     "output_type": "execute_result"
    }
   ],
   "source": [
    "Matrix_Dist_Mahalanobis_2(Data=Data_quant.iloc[0:1000, :]) # 6.8 seg"
   ]
  },
  {
   "cell_type": "code",
   "execution_count": null,
   "metadata": {},
   "outputs": [
    {
     "data": {
      "text/plain": [
       "array([[0.        , 2.11289055, 3.7975463 , ..., 4.51559865, 2.31688444,\n",
       "        1.10588047],\n",
       "       [0.        , 0.        , 4.35615967, ..., 4.93340427, 2.74011739,\n",
       "        2.12938584],\n",
       "       [0.        , 0.        , 0.        , ..., 3.17779509, 3.49432487,\n",
       "        3.23723317],\n",
       "       ...,\n",
       "       [0.        , 0.        , 0.        , ..., 0.        , 3.58695453,\n",
       "        4.11275247],\n",
       "       [0.        , 0.        , 0.        , ..., 0.        , 0.        ,\n",
       "        1.46894947],\n",
       "       [0.        , 0.        , 0.        , ..., 0.        , 0.        ,\n",
       "        0.        ]])"
      ]
     },
     "execution_count": 72,
     "metadata": {},
     "output_type": "execute_result"
    }
   ],
   "source": [
    "Matrix_Dist_Mahalanobis_2(Data=Data_quant) # 22.5 seg"
   ]
  },
  {
   "cell_type": "markdown",
   "metadata": {},
   "source": []
  },
  {
   "cell_type": "code",
   "execution_count": 22,
   "metadata": {},
   "outputs": [],
   "source": [
    "def Matrix_Dist_Mahalanobis(Data):\n",
    "\n",
    "    Data = Data.to_numpy()\n",
    "\n",
    "    n = len(Data)\n",
    "\n",
    "    M =  np.empty((n , n))\n",
    "\n",
    "    S_inv=np.linalg.inv( np.cov(Data , rowvar=False) )\n",
    "\n",
    "   \n",
    "    for i in range(0, n):\n",
    "\n",
    "         for r in range(0, n):\n",
    "\n",
    "             if i >= r :\n",
    "               \n",
    "                 M[i,r] = 0\n",
    "\n",
    "             else :\n",
    "\n",
    "                 M[i,r] = Dist_Mahalanobis_3(x = np.array([Data[i,:] - Data[r,:]]) , S_inv=S_inv ) \n",
    "\n",
    "                      \n",
    "    return M "
   ]
  },
  {
   "cell_type": "code",
   "execution_count": 117,
   "metadata": {},
   "outputs": [
    {
     "data": {
      "text/plain": [
       "array([[0.        , 2.16321817, 3.81131086, ..., 2.74083537, 3.84799958,\n",
       "        1.06041471],\n",
       "       [0.        , 0.        , 4.29953104, ..., 2.76698155, 2.78100414,\n",
       "        2.20791581],\n",
       "       [0.        , 0.        , 0.        , ..., 2.63546884, 4.34269664,\n",
       "        3.32469143],\n",
       "       ...,\n",
       "       [0.        , 0.        , 0.        , ..., 0.        , 2.18534065,\n",
       "        1.8408748 ],\n",
       "       [0.        , 0.        , 0.        , ..., 0.        , 0.        ,\n",
       "        3.09496075],\n",
       "       [0.        , 0.        , 0.        , ..., 0.        , 0.        ,\n",
       "        0.        ]])"
      ]
     },
     "execution_count": 117,
     "metadata": {},
     "output_type": "execute_result"
    }
   ],
   "source": [
    "Matrix_Dist_Mahalanobis(Data=Data_quant.iloc[0:1000, :]) # 4.8 seg"
   ]
  },
  {
   "cell_type": "code",
   "execution_count": null,
   "metadata": {},
   "outputs": [
    {
     "data": {
      "text/plain": [
       "array([[0.        , 2.11289055, 3.7975463 , ..., 4.51559865, 2.31688444,\n",
       "        1.10588047],\n",
       "       [0.        , 0.        , 4.35615967, ..., 4.93340427, 2.74011739,\n",
       "        2.12938584],\n",
       "       [0.        , 0.        , 0.        , ..., 3.17779509, 3.49432487,\n",
       "        3.23723317],\n",
       "       ...,\n",
       "       [0.        , 0.        , 0.        , ..., 0.        , 3.58695453,\n",
       "        4.11275247],\n",
       "       [0.        , 0.        , 0.        , ..., 0.        , 0.        ,\n",
       "        1.46894947],\n",
       "       [0.        , 0.        , 0.        , ..., 0.        , 0.        ,\n",
       "        0.        ]])"
      ]
     },
     "execution_count": 75,
     "metadata": {},
     "output_type": "execute_result"
    }
   ],
   "source": [
    "M_Mahalanobis = Matrix_Dist_Mahalanobis(Data=Data_quant) # 19.7 seg\n",
    "\n",
    "M_Mahalanobis"
   ]
  },
  {
   "cell_type": "code",
   "execution_count": null,
   "metadata": {},
   "outputs": [
    {
     "data": {
      "text/plain": [
       "array([[0.        , 2.11289055, 3.7975463 , ..., 4.51559865, 2.31688444,\n",
       "        1.10588047],\n",
       "       [2.11289055, 0.        , 4.35615967, ..., 4.93340427, 2.74011739,\n",
       "        2.12938584],\n",
       "       [3.7975463 , 4.35615967, 0.        , ..., 3.17779509, 3.49432487,\n",
       "        3.23723317],\n",
       "       ...,\n",
       "       [4.51559865, 4.93340427, 3.17779509, ..., 0.        , 3.58695453,\n",
       "        4.11275247],\n",
       "       [2.31688444, 2.74011739, 3.49432487, ..., 3.58695453, 0.        ,\n",
       "        1.46894947],\n",
       "       [1.10588047, 2.12938584, 3.23723317, ..., 4.11275247, 1.46894947,\n",
       "        0.        ]])"
      ]
     },
     "execution_count": 76,
     "metadata": {},
     "output_type": "execute_result"
    }
   ],
   "source": [
    "M_Mahalanobis = M_Mahalanobis + M_Mahalanobis.T\n",
    "\n",
    "M_Mahalanobis"
   ]
  },
  {
   "cell_type": "markdown",
   "metadata": {},
   "source": []
  },
  {
   "cell_type": "code",
   "execution_count": 186,
   "metadata": {},
   "outputs": [],
   "source": [
    "def a_b_c_d_Matrix(Data):\n",
    "\n",
    "    X = Data.to_numpy()\n",
    "\n",
    "    a = X @ X.T\n",
    "\n",
    "    n = X.shape[0]\n",
    "\n",
    "    p = X.shape[1]\n",
    "\n",
    "    ones_matrix = np.ones((n, p)) \n",
    "\n",
    "    b = (ones_matrix - X) @ X.T\n",
    "\n",
    "    c = b.T\n",
    "\n",
    "    d = (ones_matrix - X) @ (ones_matrix - X).T\n",
    "\n",
    "    return a , b , c , d , p"
   ]
  },
  {
   "cell_type": "code",
   "execution_count": null,
   "metadata": {},
   "outputs": [],
   "source": [
    "a, b, c, d, p = a_b_c_d_Matrix(Data_binary)"
   ]
  },
  {
   "cell_type": "code",
   "execution_count": null,
   "metadata": {},
   "outputs": [
    {
     "data": {
      "text/plain": [
       "array([[1., 1., 1., ..., 1., 1., 1.],\n",
       "       [1., 1., 1., ..., 1., 1., 1.],\n",
       "       [1., 1., 2., ..., 1., 1., 1.],\n",
       "       ...,\n",
       "       [1., 1., 1., ..., 1., 1., 1.],\n",
       "       [1., 1., 1., ..., 1., 2., 1.],\n",
       "       [1., 1., 1., ..., 1., 1., 1.]])"
      ]
     },
     "execution_count": 81,
     "metadata": {},
     "output_type": "execute_result"
    }
   ],
   "source": [
    "a"
   ]
  },
  {
   "cell_type": "code",
   "execution_count": null,
   "metadata": {},
   "outputs": [
    {
     "data": {
      "text/html": [
       "<div>\n",
       "<style scoped>\n",
       "    .dataframe tbody tr th:only-of-type {\n",
       "        vertical-align: middle;\n",
       "    }\n",
       "\n",
       "    .dataframe tbody tr th {\n",
       "        vertical-align: top;\n",
       "    }\n",
       "\n",
       "    .dataframe thead th {\n",
       "        text-align: right;\n",
       "    }\n",
       "</style>\n",
       "<table border=\"1\" class=\"dataframe\">\n",
       "  <thead>\n",
       "    <tr style=\"text-align: right;\">\n",
       "      <th></th>\n",
       "      <th>private_garden_recode</th>\n",
       "      <th>private_gym_recode</th>\n",
       "      <th>private_jacuzzi_recode</th>\n",
       "      <th>balcony_recode</th>\n",
       "    </tr>\n",
       "  </thead>\n",
       "  <tbody>\n",
       "    <tr>\n",
       "      <th>30</th>\n",
       "      <td>0.0</td>\n",
       "      <td>1.0</td>\n",
       "      <td>0.0</td>\n",
       "      <td>1.0</td>\n",
       "    </tr>\n",
       "    <tr>\n",
       "      <th>1903</th>\n",
       "      <td>1.0</td>\n",
       "      <td>0.0</td>\n",
       "      <td>0.0</td>\n",
       "      <td>1.0</td>\n",
       "    </tr>\n",
       "  </tbody>\n",
       "</table>\n",
       "</div>"
      ],
      "text/plain": [
       "      private_garden_recode  private_gym_recode  private_jacuzzi_recode  \\\n",
       "30                      0.0                 1.0                     0.0   \n",
       "1903                    1.0                 0.0                     0.0   \n",
       "\n",
       "      balcony_recode  \n",
       "30               1.0  \n",
       "1903             1.0  "
      ]
     },
     "execution_count": 82,
     "metadata": {},
     "output_type": "execute_result"
    }
   ],
   "source": [
    "Data_binary.iloc[[30,1903], :]"
   ]
  },
  {
   "cell_type": "code",
   "execution_count": null,
   "metadata": {},
   "outputs": [
    {
     "data": {
      "text/plain": [
       "1.0"
      ]
     },
     "execution_count": 83,
     "metadata": {},
     "output_type": "execute_result"
    }
   ],
   "source": [
    "a[30 , 1903]"
   ]
  },
  {
   "cell_type": "code",
   "execution_count": null,
   "metadata": {},
   "outputs": [
    {
     "data": {
      "text/html": [
       "<div>\n",
       "<style scoped>\n",
       "    .dataframe tbody tr th:only-of-type {\n",
       "        vertical-align: middle;\n",
       "    }\n",
       "\n",
       "    .dataframe tbody tr th {\n",
       "        vertical-align: top;\n",
       "    }\n",
       "\n",
       "    .dataframe thead th {\n",
       "        text-align: right;\n",
       "    }\n",
       "</style>\n",
       "<table border=\"1\" class=\"dataframe\">\n",
       "  <thead>\n",
       "    <tr style=\"text-align: right;\">\n",
       "      <th></th>\n",
       "      <th>private_garden_recode</th>\n",
       "      <th>private_gym_recode</th>\n",
       "      <th>private_jacuzzi_recode</th>\n",
       "      <th>balcony_recode</th>\n",
       "    </tr>\n",
       "  </thead>\n",
       "  <tbody>\n",
       "    <tr>\n",
       "      <th>40</th>\n",
       "      <td>0.0</td>\n",
       "      <td>0.0</td>\n",
       "      <td>0.0</td>\n",
       "      <td>1.0</td>\n",
       "    </tr>\n",
       "    <tr>\n",
       "      <th>1903</th>\n",
       "      <td>1.0</td>\n",
       "      <td>0.0</td>\n",
       "      <td>0.0</td>\n",
       "      <td>1.0</td>\n",
       "    </tr>\n",
       "  </tbody>\n",
       "</table>\n",
       "</div>"
      ],
      "text/plain": [
       "      private_garden_recode  private_gym_recode  private_jacuzzi_recode  \\\n",
       "40                      0.0                 0.0                     0.0   \n",
       "1903                    1.0                 0.0                     0.0   \n",
       "\n",
       "      balcony_recode  \n",
       "40               1.0  \n",
       "1903             1.0  "
      ]
     },
     "execution_count": 84,
     "metadata": {},
     "output_type": "execute_result"
    }
   ],
   "source": [
    "Data_binary.iloc[[40,1903], :]"
   ]
  },
  {
   "cell_type": "code",
   "execution_count": null,
   "metadata": {},
   "outputs": [
    {
     "data": {
      "text/plain": [
       "1.0"
      ]
     },
     "execution_count": 85,
     "metadata": {},
     "output_type": "execute_result"
    }
   ],
   "source": [
    "a[40 , 1903]"
   ]
  },
  {
   "cell_type": "code",
   "execution_count": null,
   "metadata": {},
   "outputs": [
    {
     "data": {
      "text/plain": [
       "array([[0., 0., 1., ..., 0., 1., 0.],\n",
       "       [0., 0., 1., ..., 0., 1., 0.],\n",
       "       [0., 0., 0., ..., 0., 1., 0.],\n",
       "       ...,\n",
       "       [0., 0., 1., ..., 0., 1., 0.],\n",
       "       [0., 0., 1., ..., 0., 0., 0.],\n",
       "       [0., 0., 1., ..., 0., 1., 0.]])"
      ]
     },
     "execution_count": 86,
     "metadata": {},
     "output_type": "execute_result"
    }
   ],
   "source": [
    "b"
   ]
  },
  {
   "cell_type": "code",
   "execution_count": null,
   "metadata": {},
   "outputs": [
    {
     "data": {
      "text/html": [
       "<div>\n",
       "<style scoped>\n",
       "    .dataframe tbody tr th:only-of-type {\n",
       "        vertical-align: middle;\n",
       "    }\n",
       "\n",
       "    .dataframe tbody tr th {\n",
       "        vertical-align: top;\n",
       "    }\n",
       "\n",
       "    .dataframe thead th {\n",
       "        text-align: right;\n",
       "    }\n",
       "</style>\n",
       "<table border=\"1\" class=\"dataframe\">\n",
       "  <thead>\n",
       "    <tr style=\"text-align: right;\">\n",
       "      <th></th>\n",
       "      <th>private_garden_recode</th>\n",
       "      <th>private_gym_recode</th>\n",
       "      <th>private_jacuzzi_recode</th>\n",
       "      <th>balcony_recode</th>\n",
       "    </tr>\n",
       "  </thead>\n",
       "  <tbody>\n",
       "    <tr>\n",
       "      <th>30</th>\n",
       "      <td>0.0</td>\n",
       "      <td>1.0</td>\n",
       "      <td>0.0</td>\n",
       "      <td>1.0</td>\n",
       "    </tr>\n",
       "    <tr>\n",
       "      <th>1903</th>\n",
       "      <td>1.0</td>\n",
       "      <td>0.0</td>\n",
       "      <td>0.0</td>\n",
       "      <td>1.0</td>\n",
       "    </tr>\n",
       "  </tbody>\n",
       "</table>\n",
       "</div>"
      ],
      "text/plain": [
       "      private_garden_recode  private_gym_recode  private_jacuzzi_recode  \\\n",
       "30                      0.0                 1.0                     0.0   \n",
       "1903                    1.0                 0.0                     0.0   \n",
       "\n",
       "      balcony_recode  \n",
       "30               1.0  \n",
       "1903             1.0  "
      ]
     },
     "execution_count": 87,
     "metadata": {},
     "output_type": "execute_result"
    }
   ],
   "source": [
    "Data_binary.iloc[[30,1903], :]"
   ]
  },
  {
   "cell_type": "code",
   "execution_count": null,
   "metadata": {},
   "outputs": [
    {
     "data": {
      "text/plain": [
       "1.0"
      ]
     },
     "execution_count": 88,
     "metadata": {},
     "output_type": "execute_result"
    }
   ],
   "source": [
    "b[30 , 1903]"
   ]
  },
  {
   "cell_type": "code",
   "execution_count": null,
   "metadata": {},
   "outputs": [
    {
     "data": {
      "text/html": [
       "<div>\n",
       "<style scoped>\n",
       "    .dataframe tbody tr th:only-of-type {\n",
       "        vertical-align: middle;\n",
       "    }\n",
       "\n",
       "    .dataframe tbody tr th {\n",
       "        vertical-align: top;\n",
       "    }\n",
       "\n",
       "    .dataframe thead th {\n",
       "        text-align: right;\n",
       "    }\n",
       "</style>\n",
       "<table border=\"1\" class=\"dataframe\">\n",
       "  <thead>\n",
       "    <tr style=\"text-align: right;\">\n",
       "      <th></th>\n",
       "      <th>private_garden_recode</th>\n",
       "      <th>private_gym_recode</th>\n",
       "      <th>private_jacuzzi_recode</th>\n",
       "      <th>balcony_recode</th>\n",
       "    </tr>\n",
       "  </thead>\n",
       "  <tbody>\n",
       "    <tr>\n",
       "      <th>40</th>\n",
       "      <td>0.0</td>\n",
       "      <td>0.0</td>\n",
       "      <td>0.0</td>\n",
       "      <td>1.0</td>\n",
       "    </tr>\n",
       "    <tr>\n",
       "      <th>1903</th>\n",
       "      <td>1.0</td>\n",
       "      <td>0.0</td>\n",
       "      <td>0.0</td>\n",
       "      <td>1.0</td>\n",
       "    </tr>\n",
       "  </tbody>\n",
       "</table>\n",
       "</div>"
      ],
      "text/plain": [
       "      private_garden_recode  private_gym_recode  private_jacuzzi_recode  \\\n",
       "40                      0.0                 0.0                     0.0   \n",
       "1903                    1.0                 0.0                     0.0   \n",
       "\n",
       "      balcony_recode  \n",
       "40               1.0  \n",
       "1903             1.0  "
      ]
     },
     "execution_count": 89,
     "metadata": {},
     "output_type": "execute_result"
    }
   ],
   "source": [
    "Data_binary.iloc[[40,1903], :]"
   ]
  },
  {
   "cell_type": "code",
   "execution_count": null,
   "metadata": {},
   "outputs": [
    {
     "data": {
      "text/plain": [
       "1.0"
      ]
     },
     "execution_count": 90,
     "metadata": {},
     "output_type": "execute_result"
    }
   ],
   "source": [
    "b[40,1903]"
   ]
  },
  {
   "cell_type": "code",
   "execution_count": null,
   "metadata": {},
   "outputs": [
    {
     "data": {
      "text/plain": [
       "array([[0., 0., 0., ..., 0., 0., 0.],\n",
       "       [0., 0., 0., ..., 0., 0., 0.],\n",
       "       [1., 1., 0., ..., 1., 1., 1.],\n",
       "       ...,\n",
       "       [0., 0., 0., ..., 0., 0., 0.],\n",
       "       [1., 1., 1., ..., 1., 0., 1.],\n",
       "       [0., 0., 0., ..., 0., 0., 0.]])"
      ]
     },
     "execution_count": 91,
     "metadata": {},
     "output_type": "execute_result"
    }
   ],
   "source": [
    "c"
   ]
  },
  {
   "cell_type": "code",
   "execution_count": null,
   "metadata": {},
   "outputs": [
    {
     "data": {
      "text/plain": [
       "1.0"
      ]
     },
     "execution_count": 92,
     "metadata": {},
     "output_type": "execute_result"
    }
   ],
   "source": [
    "c[30, 1903]"
   ]
  },
  {
   "cell_type": "code",
   "execution_count": null,
   "metadata": {},
   "outputs": [
    {
     "data": {
      "text/html": [
       "<div>\n",
       "<style scoped>\n",
       "    .dataframe tbody tr th:only-of-type {\n",
       "        vertical-align: middle;\n",
       "    }\n",
       "\n",
       "    .dataframe tbody tr th {\n",
       "        vertical-align: top;\n",
       "    }\n",
       "\n",
       "    .dataframe thead th {\n",
       "        text-align: right;\n",
       "    }\n",
       "</style>\n",
       "<table border=\"1\" class=\"dataframe\">\n",
       "  <thead>\n",
       "    <tr style=\"text-align: right;\">\n",
       "      <th></th>\n",
       "      <th>private_garden_recode</th>\n",
       "      <th>private_gym_recode</th>\n",
       "      <th>private_jacuzzi_recode</th>\n",
       "      <th>balcony_recode</th>\n",
       "    </tr>\n",
       "  </thead>\n",
       "  <tbody>\n",
       "    <tr>\n",
       "      <th>40</th>\n",
       "      <td>0.0</td>\n",
       "      <td>0.0</td>\n",
       "      <td>0.0</td>\n",
       "      <td>1.0</td>\n",
       "    </tr>\n",
       "    <tr>\n",
       "      <th>1903</th>\n",
       "      <td>1.0</td>\n",
       "      <td>0.0</td>\n",
       "      <td>0.0</td>\n",
       "      <td>1.0</td>\n",
       "    </tr>\n",
       "  </tbody>\n",
       "</table>\n",
       "</div>"
      ],
      "text/plain": [
       "      private_garden_recode  private_gym_recode  private_jacuzzi_recode  \\\n",
       "40                      0.0                 0.0                     0.0   \n",
       "1903                    1.0                 0.0                     0.0   \n",
       "\n",
       "      balcony_recode  \n",
       "40               1.0  \n",
       "1903             1.0  "
      ]
     },
     "execution_count": 94,
     "metadata": {},
     "output_type": "execute_result"
    }
   ],
   "source": [
    "Data_binary.iloc[[40,1903], :]"
   ]
  },
  {
   "cell_type": "code",
   "execution_count": null,
   "metadata": {},
   "outputs": [
    {
     "data": {
      "text/plain": [
       "0.0"
      ]
     },
     "execution_count": 95,
     "metadata": {},
     "output_type": "execute_result"
    }
   ],
   "source": [
    "c[40, 1903]"
   ]
  },
  {
   "cell_type": "code",
   "execution_count": null,
   "metadata": {},
   "outputs": [
    {
     "data": {
      "text/plain": [
       "array([[3., 3., 2., ..., 3., 2., 3.],\n",
       "       [3., 3., 2., ..., 3., 2., 3.],\n",
       "       [2., 2., 2., ..., 2., 1., 2.],\n",
       "       ...,\n",
       "       [3., 3., 2., ..., 3., 2., 3.],\n",
       "       [2., 2., 1., ..., 2., 2., 2.],\n",
       "       [3., 3., 2., ..., 3., 2., 3.]])"
      ]
     },
     "execution_count": 96,
     "metadata": {},
     "output_type": "execute_result"
    }
   ],
   "source": [
    "d"
   ]
  },
  {
   "cell_type": "code",
   "execution_count": null,
   "metadata": {},
   "outputs": [
    {
     "data": {
      "text/plain": [
       "1.0"
      ]
     },
     "execution_count": 97,
     "metadata": {},
     "output_type": "execute_result"
    }
   ],
   "source": [
    "d[30,1903]"
   ]
  },
  {
   "cell_type": "code",
   "execution_count": null,
   "metadata": {},
   "outputs": [
    {
     "data": {
      "text/html": [
       "<div>\n",
       "<style scoped>\n",
       "    .dataframe tbody tr th:only-of-type {\n",
       "        vertical-align: middle;\n",
       "    }\n",
       "\n",
       "    .dataframe tbody tr th {\n",
       "        vertical-align: top;\n",
       "    }\n",
       "\n",
       "    .dataframe thead th {\n",
       "        text-align: right;\n",
       "    }\n",
       "</style>\n",
       "<table border=\"1\" class=\"dataframe\">\n",
       "  <thead>\n",
       "    <tr style=\"text-align: right;\">\n",
       "      <th></th>\n",
       "      <th>private_garden_recode</th>\n",
       "      <th>private_gym_recode</th>\n",
       "      <th>private_jacuzzi_recode</th>\n",
       "      <th>balcony_recode</th>\n",
       "    </tr>\n",
       "  </thead>\n",
       "  <tbody>\n",
       "    <tr>\n",
       "      <th>40</th>\n",
       "      <td>0.0</td>\n",
       "      <td>0.0</td>\n",
       "      <td>0.0</td>\n",
       "      <td>1.0</td>\n",
       "    </tr>\n",
       "    <tr>\n",
       "      <th>1903</th>\n",
       "      <td>1.0</td>\n",
       "      <td>0.0</td>\n",
       "      <td>0.0</td>\n",
       "      <td>1.0</td>\n",
       "    </tr>\n",
       "  </tbody>\n",
       "</table>\n",
       "</div>"
      ],
      "text/plain": [
       "      private_garden_recode  private_gym_recode  private_jacuzzi_recode  \\\n",
       "40                      0.0                 0.0                     0.0   \n",
       "1903                    1.0                 0.0                     0.0   \n",
       "\n",
       "      balcony_recode  \n",
       "40               1.0  \n",
       "1903             1.0  "
      ]
     },
     "execution_count": 98,
     "metadata": {},
     "output_type": "execute_result"
    }
   ],
   "source": [
    "Data_binary.iloc[[40,1903], :]"
   ]
  },
  {
   "cell_type": "code",
   "execution_count": null,
   "metadata": {},
   "outputs": [
    {
     "data": {
      "text/plain": [
       "2.0"
      ]
     },
     "execution_count": 99,
     "metadata": {},
     "output_type": "execute_result"
    }
   ],
   "source": [
    "d[40,1903]"
   ]
  },
  {
   "cell_type": "markdown",
   "metadata": {},
   "source": []
  },
  {
   "cell_type": "markdown",
   "metadata": {},
   "source": [
    "## Similaridad de Sokal"
   ]
  },
  {
   "cell_type": "code",
   "execution_count": 24,
   "metadata": {},
   "outputs": [],
   "source": [
    "def Sokal_Similarity_1(i , r, Data):\n",
    "\n",
    "    a, b, c, d, p = a_b_c_d_Matrix(Data)\n",
    "\n",
    "    if a[i,r] + d[i,r] == 0 :\n",
    "\n",
    "        Sokal_Similarity = 0\n",
    "\n",
    "        \n",
    "    else :\n",
    "\n",
    "        Sokal_Similarity = (a[i,r] + d[i,r]) / p\n",
    "        \n",
    "\n",
    "    return Sokal_Similarity"
   ]
  },
  {
   "cell_type": "code",
   "execution_count": null,
   "metadata": {},
   "outputs": [
    {
     "data": {
      "text/plain": [
       "0.75"
      ]
     },
     "execution_count": 101,
     "metadata": {},
     "output_type": "execute_result"
    }
   ],
   "source": [
    "Sokal_Similarity_1(i=1 , r=2, Data=Data_binary)"
   ]
  },
  {
   "cell_type": "code",
   "execution_count": 25,
   "metadata": {},
   "outputs": [],
   "source": [
    "def Sokal_Similarity_2(i , r, a , d, p):\n",
    "\n",
    "\n",
    "    if a[i,r] + d[i,r] == 0 :\n",
    "\n",
    "        Sokal_Similarity = 0\n",
    "\n",
    "        \n",
    "    else :\n",
    "\n",
    "        Sokal_Similarity = (a[i,r] + d[i,r]) / p\n",
    "        \n",
    "\n",
    "    return Sokal_Similarity"
   ]
  },
  {
   "cell_type": "code",
   "execution_count": 24,
   "metadata": {},
   "outputs": [
    {
     "data": {
      "text/plain": [
       "0.75"
      ]
     },
     "execution_count": 24,
     "metadata": {},
     "output_type": "execute_result"
    }
   ],
   "source": [
    "a, b, c, d, p = a_b_c_d_Matrix(Data_binary)\n",
    "\n",
    "Sokal_Similarity_2(i=1, r=2, a=a, d=d, p=p)"
   ]
  },
  {
   "cell_type": "code",
   "execution_count": 26,
   "metadata": {},
   "outputs": [],
   "source": [
    "def Matrix_Sim_Sokal_1(Data):\n",
    "\n",
    "    n = len(Data)\n",
    "\n",
    "    M =  np.empty((n , n))\n",
    "\n",
    "   \n",
    "    for i in range(0, n):\n",
    "\n",
    "         for r in range(0, n):\n",
    "\n",
    "            if i > r :\n",
    "               \n",
    "                 M[i,r] = 0\n",
    "            \n",
    "            elif i == r :\n",
    "               \n",
    "                 M[i,r] = 1\n",
    "            \n",
    "            else :\n",
    "\n",
    "                 M[i,r] = Sokal_Similarity_1(i, r, Data)\n",
    "                      \n",
    "    return M "
   ]
  },
  {
   "cell_type": "code",
   "execution_count": null,
   "metadata": {},
   "outputs": [
    {
     "data": {
      "text/plain": [
       "array([[1.  , 1.  , 0.75, ..., 0.75, 0.75, 1.  ],\n",
       "       [0.  , 1.  , 0.75, ..., 0.75, 0.75, 1.  ],\n",
       "       [0.  , 0.  , 1.  , ..., 0.5 , 0.5 , 0.75],\n",
       "       ...,\n",
       "       [0.  , 0.  , 0.  , ..., 1.  , 1.  , 0.75],\n",
       "       [0.  , 0.  , 0.  , ..., 0.  , 1.  , 0.75],\n",
       "       [0.  , 0.  , 0.  , ..., 0.  , 0.  , 1.  ]])"
      ]
     },
     "execution_count": 107,
     "metadata": {},
     "output_type": "execute_result"
    }
   ],
   "source": [
    "Matrix_Sim_Sokal_1(Data=Data_binary.iloc[0:300 , 0:300]) # 1.29 mins"
   ]
  },
  {
   "cell_type": "markdown",
   "metadata": {},
   "source": []
  },
  {
   "cell_type": "code",
   "execution_count": 27,
   "metadata": {},
   "outputs": [],
   "source": [
    "def Matrix_Sim_Sokal_2(Data):\n",
    "\n",
    "    n = len(Data)\n",
    "\n",
    "    M =  np.empty((n , n))\n",
    "\n",
    "    a, b, c, d, p = a_b_c_d_Matrix(Data)\n",
    "\n",
    "   \n",
    "    for i in range(0, n):\n",
    "\n",
    "         for r in range(0, n):\n",
    "\n",
    "            if i > r :\n",
    "               \n",
    "                 M[i,r] = 0\n",
    "            \n",
    "            elif i == r :\n",
    "               \n",
    "                 M[i,r] = 1\n",
    "\n",
    "            else :\n",
    "\n",
    "                 M[i,r] = Sokal_Similarity_2(i=i, r=r, a=a, d=d, p=p)\n",
    "                      \n",
    "    return M "
   ]
  },
  {
   "cell_type": "code",
   "execution_count": null,
   "metadata": {},
   "outputs": [
    {
     "data": {
      "text/plain": [
       "array([[1.  , 1.  , 0.75, ..., 1.  , 1.  , 0.75],\n",
       "       [0.  , 1.  , 0.75, ..., 1.  , 1.  , 0.75],\n",
       "       [0.  , 0.  , 1.  , ..., 0.75, 0.75, 0.5 ],\n",
       "       ...,\n",
       "       [0.  , 0.  , 0.  , ..., 1.  , 1.  , 0.75],\n",
       "       [0.  , 0.  , 0.  , ..., 0.  , 1.  , 0.75],\n",
       "       [0.  , 0.  , 0.  , ..., 0.  , 0.  , 1.  ]])"
      ]
     },
     "execution_count": 109,
     "metadata": {},
     "output_type": "execute_result"
    }
   ],
   "source": [
    "Matrix_Sim_Sokal_2(Data=Data_binary.iloc[0:500 , 0:500]) # 0.2 seg"
   ]
  },
  {
   "cell_type": "code",
   "execution_count": null,
   "metadata": {},
   "outputs": [
    {
     "data": {
      "text/plain": [
       "array([[1.  , 1.  , 0.75, ..., 1.  , 0.75, 1.  ],\n",
       "       [0.  , 1.  , 0.75, ..., 1.  , 0.75, 1.  ],\n",
       "       [0.  , 0.  , 1.  , ..., 0.75, 0.5 , 0.75],\n",
       "       ...,\n",
       "       [0.  , 0.  , 0.  , ..., 1.  , 0.75, 1.  ],\n",
       "       [0.  , 0.  , 0.  , ..., 0.  , 1.  , 0.75],\n",
       "       [0.  , 0.  , 0.  , ..., 0.  , 0.  , 1.  ]])"
      ]
     },
     "execution_count": 110,
     "metadata": {},
     "output_type": "execute_result"
    }
   ],
   "source": [
    "M_Sim_Sokal = Matrix_Sim_Sokal_2(Data=Data_binary) # 3.4 seg\n",
    "\n",
    "M_Sim_Sokal"
   ]
  },
  {
   "cell_type": "code",
   "execution_count": null,
   "metadata": {},
   "outputs": [
    {
     "data": {
      "text/plain": [
       "array([[1.  , 1.  , 0.75, ..., 1.  , 0.75, 1.  ],\n",
       "       [1.  , 1.  , 0.75, ..., 1.  , 0.75, 1.  ],\n",
       "       [0.75, 0.75, 1.  , ..., 0.75, 0.5 , 0.75],\n",
       "       ...,\n",
       "       [1.  , 1.  , 0.75, ..., 1.  , 0.75, 1.  ],\n",
       "       [0.75, 0.75, 0.5 , ..., 0.75, 1.  , 0.75],\n",
       "       [1.  , 1.  , 0.75, ..., 1.  , 0.75, 1.  ]])"
      ]
     },
     "execution_count": 111,
     "metadata": {},
     "output_type": "execute_result"
    }
   ],
   "source": [
    "M_Sim_Sokal = M_Sim_Sokal + M_Sim_Sokal.T - np.diag(np.repeat(1 , len(M_Sim_Sokal)), k=0)\n",
    "\n",
    "M_Sim_Sokal"
   ]
  },
  {
   "cell_type": "markdown",
   "metadata": {},
   "source": []
  },
  {
   "cell_type": "markdown",
   "metadata": {},
   "source": []
  },
  {
   "cell_type": "code",
   "execution_count": 28,
   "metadata": {},
   "outputs": [],
   "source": [
    "def Dist_Sokal(i, r, a, d, p):\n",
    "\n",
    "    dist_Sokal = np.sqrt( Sokal_Similarity_2(i , i, a , d, p) + Sokal_Similarity_2(r , r, a , d, p) - 2*Sokal_Similarity_2(i , r, a , d, p) )\n",
    "\n",
    "    return dist_Sokal  "
   ]
  },
  {
   "cell_type": "code",
   "execution_count": null,
   "metadata": {},
   "outputs": [
    {
     "data": {
      "text/plain": [
       "0.7071067811865476"
      ]
     },
     "execution_count": 113,
     "metadata": {},
     "output_type": "execute_result"
    }
   ],
   "source": [
    "a, b, c, d, p = a_b_c_d_Matrix(Data_binary)\n",
    "\n",
    "Dist_Sokal(i=1, r=2, a=a, d=d, p=p)"
   ]
  },
  {
   "cell_type": "code",
   "execution_count": 29,
   "metadata": {},
   "outputs": [],
   "source": [
    "def Matrix_Dist_Sokal(Data):\n",
    "\n",
    "    n = len(Data)\n",
    "\n",
    "    M =  np.empty((n , n))\n",
    "\n",
    "    a, b, c, d, p = a_b_c_d_Matrix(Data)\n",
    "\n",
    "   \n",
    "    for i in range(0, n):\n",
    "\n",
    "         for r in range(0, n):\n",
    "\n",
    "             if i >= r :\n",
    "               \n",
    "                 M[i,r] = 0\n",
    "\n",
    "             else :\n",
    "\n",
    "                 M[i,r] = Dist_Sokal(i=i, r=r, a=a, d=d, p=p)\n",
    "                      \n",
    "    return M "
   ]
  },
  {
   "cell_type": "code",
   "execution_count": 125,
   "metadata": {},
   "outputs": [
    {
     "data": {
      "text/plain": [
       "array([[0.        , 0.        , 0.70710678, ..., 0.        , 0.70710678,\n",
       "        0.        ],\n",
       "       [0.        , 0.        , 0.70710678, ..., 0.        , 0.70710678,\n",
       "        0.        ],\n",
       "       [0.        , 0.        , 0.        , ..., 0.70710678, 1.        ,\n",
       "        0.70710678],\n",
       "       ...,\n",
       "       [0.        , 0.        , 0.        , ..., 0.        , 0.70710678,\n",
       "        0.        ],\n",
       "       [0.        , 0.        , 0.        , ..., 0.        , 0.        ,\n",
       "        0.70710678],\n",
       "       [0.        , 0.        , 0.        , ..., 0.        , 0.        ,\n",
       "        0.        ]])"
      ]
     },
     "execution_count": 125,
     "metadata": {},
     "output_type": "execute_result"
    }
   ],
   "source": [
    "M_Dist_Sokal = Matrix_Dist_Sokal(Data=Data_binary)\n",
    "\n",
    "M_Dist_Sokal"
   ]
  },
  {
   "cell_type": "code",
   "execution_count": null,
   "metadata": {},
   "outputs": [
    {
     "data": {
      "text/plain": [
       "array([[0.        , 0.        , 0.70710678, ..., 0.        , 0.70710678,\n",
       "        0.        ],\n",
       "       [0.        , 0.        , 0.70710678, ..., 0.        , 0.70710678,\n",
       "        0.        ],\n",
       "       [0.70710678, 0.70710678, 0.        , ..., 0.70710678, 1.        ,\n",
       "        0.70710678],\n",
       "       ...,\n",
       "       [0.        , 0.        , 0.70710678, ..., 0.        , 0.70710678,\n",
       "        0.        ],\n",
       "       [0.70710678, 0.70710678, 1.        , ..., 0.70710678, 0.        ,\n",
       "        0.70710678],\n",
       "       [0.        , 0.        , 0.70710678, ..., 0.        , 0.70710678,\n",
       "        0.        ]])"
      ]
     },
     "execution_count": 116,
     "metadata": {},
     "output_type": "execute_result"
    }
   ],
   "source": [
    "M_Dist_Sokal = M_Dist_Sokal + M_Dist_Sokal.T\n",
    "\n",
    "M_Dist_Sokal"
   ]
  },
  {
   "cell_type": "markdown",
   "metadata": {},
   "source": []
  },
  {
   "cell_type": "markdown",
   "metadata": {},
   "source": []
  },
  {
   "cell_type": "markdown",
   "metadata": {},
   "source": [
    "## Similaridad de Jaccard"
   ]
  },
  {
   "cell_type": "code",
   "execution_count": 30,
   "metadata": {},
   "outputs": [],
   "source": [
    "def Jaccard_Similarity_1(i, r, Data):\n",
    "\n",
    "    a, b, c, d, p = a_b_c_d_Matrix(Data)\n",
    " \n",
    "\n",
    "    if a[i,r] == 0 and  (p-d[i,r]) == 0 :\n",
    "\n",
    "        Jaccard_Similarity = 1\n",
    "\n",
    "    else :\n",
    "\n",
    "        Jaccard_Similarity = a[i,r] / (p-d[i,r])\n",
    "\n",
    "\n",
    "    return Jaccard_Similarity"
   ]
  },
  {
   "cell_type": "code",
   "execution_count": null,
   "metadata": {},
   "outputs": [
    {
     "data": {
      "text/plain": [
       "0.0"
      ]
     },
     "execution_count": 14,
     "metadata": {},
     "output_type": "execute_result"
    }
   ],
   "source": [
    "Jaccard_Similarity_1(i=2, r=5, Data=Data_binary)"
   ]
  },
  {
   "cell_type": "code",
   "execution_count": 31,
   "metadata": {},
   "outputs": [],
   "source": [
    "def Jaccard_Similarity_2(i , r, a , p):\n",
    "\n",
    "\n",
    "    if a[i,r] == 0 and  (p-d[i,r]) == 0 :\n",
    "\n",
    "        Jaccard_Similarity = 1\n",
    "\n",
    "    else :\n",
    "\n",
    "        Jaccard_Similarity = a[i,r] / (p-d[i,r])\n",
    "        \n",
    "\n",
    "    return Jaccard_Similarity"
   ]
  },
  {
   "cell_type": "code",
   "execution_count": 187,
   "metadata": {},
   "outputs": [
    {
     "data": {
      "text/plain": [
       "0.0"
      ]
     },
     "execution_count": 187,
     "metadata": {},
     "output_type": "execute_result"
    }
   ],
   "source": [
    "a, b, c, d, p = a_b_c_d_Matrix(Data=Data_binary)\n",
    "\n",
    "Jaccard_Similarity_2(i=2, r=5, a=a , p=p)"
   ]
  },
  {
   "cell_type": "code",
   "execution_count": 32,
   "metadata": {},
   "outputs": [],
   "source": [
    "def Matrix_Sim_Jaccard_1(Data):\n",
    "\n",
    "    n = len(Data)\n",
    "\n",
    "    M =  np.empty((n , n))\n",
    "\n",
    "   \n",
    "    for i in range(0, n):\n",
    "\n",
    "         for r in range(0, n):\n",
    "\n",
    "            if i > r :\n",
    "               \n",
    "                 M[i,r] = 0\n",
    "            \n",
    "            elif i == r :\n",
    "               \n",
    "                 M[i,r] = 1\n",
    "            \n",
    "            else :\n",
    "\n",
    "                 M[i,r] = Jaccard_Similarity_1(i, r, Data)\n",
    "                      \n",
    "    return M "
   ]
  },
  {
   "cell_type": "code",
   "execution_count": 188,
   "metadata": {},
   "outputs": [
    {
     "data": {
      "text/plain": [
       "array([[1. , 1. , 0.5, ..., 0. , 0. , 1. ],\n",
       "       [0. , 1. , 0.5, ..., 0. , 0. , 1. ],\n",
       "       [0. , 0. , 1. , ..., 0. , 0. , 0.5],\n",
       "       ...,\n",
       "       [0. , 0. , 0. , ..., 1. , 1. , 0. ],\n",
       "       [0. , 0. , 0. , ..., 0. , 1. , 0. ],\n",
       "       [0. , 0. , 0. , ..., 0. , 0. , 1. ]])"
      ]
     },
     "execution_count": 188,
     "metadata": {},
     "output_type": "execute_result"
    }
   ],
   "source": [
    "Matrix_Sim_Jaccard_1(Data=Data_binary.iloc[0:300, 0:300])  # 1.52 min"
   ]
  },
  {
   "cell_type": "code",
   "execution_count": 33,
   "metadata": {},
   "outputs": [],
   "source": [
    "def Matrix_Sim_Jaccard_2(Data):\n",
    "\n",
    "    n = len(Data)\n",
    "\n",
    "    M =  np.empty((n , n))\n",
    "\n",
    "    a, b, c, d, p = a_b_c_d_Matrix(Data=Data)\n",
    "\n",
    "   \n",
    "    for i in range(0, n):\n",
    "\n",
    "         for r in range(0, n):\n",
    "\n",
    "            if i > r :\n",
    "               \n",
    "                 M[i,r] = 0\n",
    "            \n",
    "            elif i == r :\n",
    "               \n",
    "                 M[i,r] = 1\n",
    "            \n",
    "            else :\n",
    "\n",
    "                 M[i,r] = Jaccard_Similarity_2(i , r , a , p)\n",
    "                      \n",
    "    return M "
   ]
  },
  {
   "cell_type": "code",
   "execution_count": 189,
   "metadata": {},
   "outputs": [
    {
     "data": {
      "text/plain": [
       "array([[1. , 1. , 0.5, ..., 0. , 0. , 1. ],\n",
       "       [0. , 1. , 0.5, ..., 0. , 0. , 1. ],\n",
       "       [0. , 0. , 1. , ..., 0. , 0. , 0.5],\n",
       "       ...,\n",
       "       [0. , 0. , 0. , ..., 1. , 1. , 0. ],\n",
       "       [0. , 0. , 0. , ..., 0. , 1. , 0. ],\n",
       "       [0. , 0. , 0. , ..., 0. , 0. , 1. ]])"
      ]
     },
     "execution_count": 189,
     "metadata": {},
     "output_type": "execute_result"
    }
   ],
   "source": [
    "Matrix_Sim_Jaccard_2(Data=Data_binary.iloc[0:300,0:300])"
   ]
  },
  {
   "cell_type": "code",
   "execution_count": 296,
   "metadata": {},
   "outputs": [
    {
     "data": {
      "text/plain": [
       "array([[1.        , 1.        , 0.5       , ..., 1.        , 0.5       ,\n",
       "        1.        ],\n",
       "       [0.        , 1.        , 0.5       , ..., 1.        , 0.5       ,\n",
       "        1.        ],\n",
       "       [0.        , 0.        , 1.        , ..., 0.5       , 0.33333333,\n",
       "        0.5       ],\n",
       "       ...,\n",
       "       [0.        , 0.        , 0.        , ..., 1.        , 0.5       ,\n",
       "        1.        ],\n",
       "       [0.        , 0.        , 0.        , ..., 0.        , 1.        ,\n",
       "        0.5       ],\n",
       "       [0.        , 0.        , 0.        , ..., 0.        , 0.        ,\n",
       "        1.        ]])"
      ]
     },
     "execution_count": 296,
     "metadata": {},
     "output_type": "execute_result"
    }
   ],
   "source": [
    "M_Jaccard = Matrix_Sim_Jaccard_2(Data=Data_binary)\n",
    "\n",
    "M_Jaccard "
   ]
  },
  {
   "cell_type": "code",
   "execution_count": null,
   "metadata": {},
   "outputs": [
    {
     "data": {
      "text/plain": [
       "array([[1.        , 1.        , 0.5       , ..., 1.        , 0.5       ,\n",
       "        1.        ],\n",
       "       [1.        , 1.        , 0.5       , ..., 1.        , 0.5       ,\n",
       "        1.        ],\n",
       "       [0.5       , 0.5       , 1.        , ..., 0.5       , 0.33333333,\n",
       "        0.5       ],\n",
       "       ...,\n",
       "       [1.        , 1.        , 0.5       , ..., 1.        , 0.5       ,\n",
       "        1.        ],\n",
       "       [0.5       , 0.5       , 0.33333333, ..., 0.5       , 1.        ,\n",
       "        0.5       ],\n",
       "       [1.        , 1.        , 0.5       , ..., 1.        , 0.5       ,\n",
       "        1.        ]])"
      ]
     },
     "execution_count": 33,
     "metadata": {},
     "output_type": "execute_result"
    }
   ],
   "source": [
    "M_Jaccard = M_Jaccard + M_Jaccard.T - np.diag(np.repeat(1 , len(M_Jaccard)), k=0)\n",
    "\n",
    "M_Jaccard "
   ]
  },
  {
   "cell_type": "markdown",
   "metadata": {},
   "source": []
  },
  {
   "cell_type": "code",
   "execution_count": 34,
   "metadata": {},
   "outputs": [],
   "source": [
    "def Dist_Jaccard(i , r, a ,p):\n",
    "\n",
    "    Dist_Jaccard = np.sqrt( Jaccard_Similarity_2(i , i, a , p ) + Jaccard_Similarity_2(r , r, a , p) - 2*Jaccard_Similarity_2(i , r, a , p) )\n",
    "\n",
    "    return Dist_Jaccard  "
   ]
  },
  {
   "cell_type": "code",
   "execution_count": null,
   "metadata": {},
   "outputs": [
    {
     "data": {
      "text/html": [
       "<div>\n",
       "<style scoped>\n",
       "    .dataframe tbody tr th:only-of-type {\n",
       "        vertical-align: middle;\n",
       "    }\n",
       "\n",
       "    .dataframe tbody tr th {\n",
       "        vertical-align: top;\n",
       "    }\n",
       "\n",
       "    .dataframe thead th {\n",
       "        text-align: right;\n",
       "    }\n",
       "</style>\n",
       "<table border=\"1\" class=\"dataframe\">\n",
       "  <thead>\n",
       "    <tr style=\"text-align: right;\">\n",
       "      <th></th>\n",
       "      <th>private_garden_recode</th>\n",
       "      <th>private_gym_recode</th>\n",
       "      <th>private_jacuzzi_recode</th>\n",
       "      <th>balcony_recode</th>\n",
       "    </tr>\n",
       "  </thead>\n",
       "  <tbody>\n",
       "    <tr>\n",
       "      <th>2</th>\n",
       "      <td>0.0</td>\n",
       "      <td>0.0</td>\n",
       "      <td>1.0</td>\n",
       "      <td>1.0</td>\n",
       "    </tr>\n",
       "    <tr>\n",
       "      <th>5</th>\n",
       "      <td>0.0</td>\n",
       "      <td>0.0</td>\n",
       "      <td>0.0</td>\n",
       "      <td>0.0</td>\n",
       "    </tr>\n",
       "  </tbody>\n",
       "</table>\n",
       "</div>"
      ],
      "text/plain": [
       "   private_garden_recode  private_gym_recode  private_jacuzzi_recode  \\\n",
       "2                    0.0                 0.0                     1.0   \n",
       "5                    0.0                 0.0                     0.0   \n",
       "\n",
       "   balcony_recode  \n",
       "2             1.0  \n",
       "5             0.0  "
      ]
     },
     "execution_count": 36,
     "metadata": {},
     "output_type": "execute_result"
    }
   ],
   "source": [
    "Data_binary.iloc[[2,5],:]"
   ]
  },
  {
   "cell_type": "code",
   "execution_count": null,
   "metadata": {},
   "outputs": [
    {
     "data": {
      "text/plain": [
       "1.4142135623730951"
      ]
     },
     "execution_count": 35,
     "metadata": {},
     "output_type": "execute_result"
    }
   ],
   "source": [
    "a, b, c, d, p = a_b_c_d_Matrix(Data_binary)\n",
    "\n",
    "Dist_Jaccard(i=2 , r=5, a=a , b=b, c=c)"
   ]
  },
  {
   "cell_type": "code",
   "execution_count": null,
   "metadata": {},
   "outputs": [
    {
     "data": {
      "text/plain": [
       "1.0"
      ]
     },
     "execution_count": 37,
     "metadata": {},
     "output_type": "execute_result"
    }
   ],
   "source": [
    "Jaccard_Similarity_2(2 , 2, a , b, c) "
   ]
  },
  {
   "cell_type": "code",
   "execution_count": null,
   "metadata": {},
   "outputs": [
    {
     "data": {
      "text/plain": [
       "1"
      ]
     },
     "execution_count": 38,
     "metadata": {},
     "output_type": "execute_result"
    }
   ],
   "source": [
    "Jaccard_Similarity_2(5 , 5, a , b, c) "
   ]
  },
  {
   "cell_type": "code",
   "execution_count": null,
   "metadata": {},
   "outputs": [
    {
     "data": {
      "text/plain": [
       "0.0"
      ]
     },
     "execution_count": 39,
     "metadata": {},
     "output_type": "execute_result"
    }
   ],
   "source": [
    "2*Jaccard_Similarity_2(2 , 5, a , b, c)"
   ]
  },
  {
   "cell_type": "code",
   "execution_count": null,
   "metadata": {},
   "outputs": [
    {
     "data": {
      "text/plain": [
       "1.4142135623730951"
      ]
     },
     "execution_count": 40,
     "metadata": {},
     "output_type": "execute_result"
    }
   ],
   "source": [
    "np.sqrt(Jaccard_Similarity_2(2 , 2, a , b, c) + Jaccard_Similarity_2(5 , 5, a , b, c)  -2*Jaccard_Similarity_2(2 , 5, a , b, c) )"
   ]
  },
  {
   "cell_type": "markdown",
   "metadata": {},
   "source": []
  },
  {
   "cell_type": "code",
   "execution_count": 35,
   "metadata": {},
   "outputs": [],
   "source": [
    "def Matrix_Dist_Jaccard(Data):\n",
    "\n",
    "    n = len(Data)\n",
    "\n",
    "    M =  np.empty((n , n))\n",
    "\n",
    "    a, b, c, d, p = a_b_c_d_Matrix(Data)\n",
    "\n",
    "   \n",
    "    for i in range(0, n):\n",
    "\n",
    "         for r in range(0, n):\n",
    "\n",
    "             if i >= r :\n",
    "               \n",
    "                 M[i,r] = 0\n",
    "\n",
    "             else :\n",
    "\n",
    "                 M[i,r] = Dist_Jaccard(i=i, r=r, a=a, p=p)\n",
    "                      \n",
    "    return M "
   ]
  },
  {
   "cell_type": "code",
   "execution_count": 190,
   "metadata": {},
   "outputs": [
    {
     "data": {
      "text/plain": [
       "array([[0.        , 0.        , 1.        , ..., 0.        , 1.        ,\n",
       "        0.        ],\n",
       "       [0.        , 0.        , 1.        , ..., 0.        , 1.        ,\n",
       "        0.        ],\n",
       "       [0.        , 0.        , 0.        , ..., 1.        , 1.15470054,\n",
       "        1.        ],\n",
       "       ...,\n",
       "       [0.        , 0.        , 0.        , ..., 0.        , 1.        ,\n",
       "        0.        ],\n",
       "       [0.        , 0.        , 0.        , ..., 0.        , 0.        ,\n",
       "        1.        ],\n",
       "       [0.        , 0.        , 0.        , ..., 0.        , 0.        ,\n",
       "        0.        ]])"
      ]
     },
     "execution_count": 190,
     "metadata": {},
     "output_type": "execute_result"
    }
   ],
   "source": [
    "M_Dist_Jaccard = Matrix_Dist_Jaccard(Data=Data_binary)\n",
    "\n",
    "M_Dist_Jaccard"
   ]
  },
  {
   "cell_type": "code",
   "execution_count": 301,
   "metadata": {},
   "outputs": [
    {
     "data": {
      "text/plain": [
       "array([[0.        , 0.        , 1.        , ..., 0.        , 1.        ,\n",
       "        0.        ],\n",
       "       [0.        , 0.        , 1.        , ..., 0.        , 1.        ,\n",
       "        0.        ],\n",
       "       [1.        , 1.        , 0.        , ..., 1.        , 1.15470054,\n",
       "        1.        ],\n",
       "       ...,\n",
       "       [0.        , 0.        , 1.        , ..., 0.        , 1.        ,\n",
       "        0.        ],\n",
       "       [1.        , 1.        , 1.15470054, ..., 1.        , 0.        ,\n",
       "        1.        ],\n",
       "       [0.        , 0.        , 1.        , ..., 0.        , 1.        ,\n",
       "        0.        ]])"
      ]
     },
     "execution_count": 301,
     "metadata": {},
     "output_type": "execute_result"
    }
   ],
   "source": [
    "M_Dist_Jaccard = M_Dist_Jaccard + M_Dist_Jaccard.T \n",
    "\n",
    "M_Dist_Jaccard"
   ]
  },
  {
   "cell_type": "markdown",
   "metadata": {},
   "source": []
  },
  {
   "cell_type": "markdown",
   "metadata": {},
   "source": []
  },
  {
   "cell_type": "markdown",
   "metadata": {},
   "source": [
    "## Similaridad de coincidencias"
   ]
  },
  {
   "cell_type": "code",
   "execution_count": 36,
   "metadata": {},
   "outputs": [],
   "source": [
    "def alpha(x_i, x_r):\n",
    "\n",
    "    alpha = sum(x_i == x_r)\n",
    "\n",
    "    return(alpha)   "
   ]
  },
  {
   "cell_type": "code",
   "execution_count": null,
   "metadata": {},
   "outputs": [
    {
     "data": {
      "text/plain": [
       "quality_recode    2.0\n",
       "rating            5.0\n",
       "type              1.0\n",
       "Name: 2, dtype: float64"
      ]
     },
     "execution_count": 13,
     "metadata": {},
     "output_type": "execute_result"
    }
   ],
   "source": [
    "Data_multiclass.iloc[2,:] "
   ]
  },
  {
   "cell_type": "code",
   "execution_count": null,
   "metadata": {},
   "outputs": [
    {
     "data": {
      "text/plain": [
       "quality_recode    2.0\n",
       "rating            5.0\n",
       "type              1.0\n",
       "Name: 5, dtype: float64"
      ]
     },
     "execution_count": 135,
     "metadata": {},
     "output_type": "execute_result"
    }
   ],
   "source": [
    "Data_multiclass.iloc[5,:] "
   ]
  },
  {
   "cell_type": "code",
   "execution_count": null,
   "metadata": {},
   "outputs": [
    {
     "data": {
      "text/plain": [
       "3"
      ]
     },
     "execution_count": 14,
     "metadata": {},
     "output_type": "execute_result"
    }
   ],
   "source": [
    "alpha(x_i=Data_multiclass.iloc[2,:] , x_r=Data_multiclass.iloc[5,:])"
   ]
  },
  {
   "cell_type": "code",
   "execution_count": null,
   "metadata": {},
   "outputs": [
    {
     "data": {
      "text/plain": [
       "quality_recode    2.0\n",
       "rating            3.0\n",
       "type              2.0\n",
       "Name: 15, dtype: float64"
      ]
     },
     "execution_count": 137,
     "metadata": {},
     "output_type": "execute_result"
    }
   ],
   "source": [
    "Data_multiclass.iloc[15,:] "
   ]
  },
  {
   "cell_type": "code",
   "execution_count": null,
   "metadata": {},
   "outputs": [
    {
     "data": {
      "text/plain": [
       "quality_recode    2.0\n",
       "rating            4.0\n",
       "type              1.0\n",
       "Name: 14, dtype: float64"
      ]
     },
     "execution_count": 138,
     "metadata": {},
     "output_type": "execute_result"
    }
   ],
   "source": [
    "Data_multiclass.iloc[14,:]"
   ]
  },
  {
   "cell_type": "code",
   "execution_count": null,
   "metadata": {},
   "outputs": [
    {
     "data": {
      "text/plain": [
       "1"
      ]
     },
     "execution_count": 15,
     "metadata": {},
     "output_type": "execute_result"
    }
   ],
   "source": [
    "alpha(x_i=Data_multiclass.iloc[14,:] , x_r=Data_multiclass.iloc[15,:])"
   ]
  },
  {
   "cell_type": "code",
   "execution_count": 37,
   "metadata": {},
   "outputs": [],
   "source": [
    "def matching_similarity(x_i, x_r, Data):\n",
    "\n",
    "    p = Data.shape[1]\n",
    "\n",
    "    matching_similarity = alpha(x_i, x_r) / p\n",
    "\n",
    "    return(matching_similarity)"
   ]
  },
  {
   "cell_type": "code",
   "execution_count": null,
   "metadata": {},
   "outputs": [
    {
     "data": {
      "text/plain": [
       "1.0"
      ]
     },
     "execution_count": 17,
     "metadata": {},
     "output_type": "execute_result"
    }
   ],
   "source": [
    "matching_similarity(x_i=Data_multiclass.iloc[2,:] , x_r=Data_multiclass.iloc[5,:], Data=Data_multiclass)"
   ]
  },
  {
   "cell_type": "code",
   "execution_count": null,
   "metadata": {},
   "outputs": [
    {
     "data": {
      "text/plain": [
       "0.3333333333333333"
      ]
     },
     "execution_count": 18,
     "metadata": {},
     "output_type": "execute_result"
    }
   ],
   "source": [
    "matching_similarity(x_i=Data_multiclass.iloc[14,:] , x_r=Data_multiclass.iloc[15,:], Data=Data_multiclass)"
   ]
  },
  {
   "cell_type": "markdown",
   "metadata": {},
   "source": []
  },
  {
   "cell_type": "code",
   "execution_count": 38,
   "metadata": {},
   "outputs": [],
   "source": [
    "def Matrix_Sim_Matching(Data):\n",
    "    \n",
    "    Data = Data.to_numpy()\n",
    "\n",
    "    n = len(Data)\n",
    "\n",
    "    M =  np.empty((n , n))\n",
    "\n",
    "   \n",
    "    for i in range(0, n):\n",
    "\n",
    "         for r in range(0, n):\n",
    "\n",
    "            if i > r :\n",
    "               \n",
    "                 M[i,r] = 0\n",
    "            \n",
    "            elif i == r :\n",
    "               \n",
    "                 M[i,r] = 1\n",
    "            \n",
    "            else :\n",
    "\n",
    "                 M[i,r] = matching_similarity(x_i=Data[i,:], x_r=Data[r,:], Data=Data)\n",
    "                      \n",
    "    return M "
   ]
  },
  {
   "cell_type": "code",
   "execution_count": null,
   "metadata": {},
   "outputs": [
    {
     "data": {
      "text/plain": [
       "array([[1.        , 0.33333333, 0.33333333, ..., 0.33333333, 0.33333333,\n",
       "        0.33333333],\n",
       "       [0.        , 1.        , 0.66666667, ..., 1.        , 0.66666667,\n",
       "        0.        ],\n",
       "       [0.        , 0.        , 1.        , ..., 0.66666667, 0.66666667,\n",
       "        0.        ],\n",
       "       ...,\n",
       "       [0.        , 0.        , 0.        , ..., 1.        , 0.66666667,\n",
       "        0.        ],\n",
       "       [0.        , 0.        , 0.        , ..., 0.        , 1.        ,\n",
       "        0.        ],\n",
       "       [0.        , 0.        , 0.        , ..., 0.        , 0.        ,\n",
       "        1.        ]])"
      ]
     },
     "execution_count": 20,
     "metadata": {},
     "output_type": "execute_result"
    }
   ],
   "source": [
    "M_matches = Matrix_Sim_Matching(Data=Data_multiclass)\n",
    "\n",
    "M_matches "
   ]
  },
  {
   "cell_type": "code",
   "execution_count": null,
   "metadata": {},
   "outputs": [
    {
     "data": {
      "text/plain": [
       "array([[1.        , 0.33333333, 0.33333333, ..., 0.33333333, 0.33333333,\n",
       "        0.33333333],\n",
       "       [0.33333333, 1.        , 0.66666667, ..., 1.        , 0.66666667,\n",
       "        0.        ],\n",
       "       [0.33333333, 0.66666667, 1.        , ..., 0.66666667, 0.66666667,\n",
       "        0.        ],\n",
       "       ...,\n",
       "       [0.33333333, 1.        , 0.66666667, ..., 1.        , 0.66666667,\n",
       "        0.        ],\n",
       "       [0.33333333, 0.66666667, 0.66666667, ..., 0.66666667, 1.        ,\n",
       "        0.        ],\n",
       "       [0.33333333, 0.        , 0.        , ..., 0.        , 0.        ,\n",
       "        1.        ]])"
      ]
     },
     "execution_count": 21,
     "metadata": {},
     "output_type": "execute_result"
    }
   ],
   "source": [
    "M_matches = M_matches + M_matches.T - np.diag(np.repeat(1 , len(M_matches)), k=0)\n",
    "\n",
    "M_matches"
   ]
  },
  {
   "cell_type": "markdown",
   "metadata": {},
   "source": []
  },
  {
   "cell_type": "code",
   "execution_count": 39,
   "metadata": {},
   "outputs": [],
   "source": [
    "def Dist_Matching(x_i, x_r, Data):\n",
    "\n",
    "    Dist_Matching = np.sqrt(matching_similarity(x_i, x_i, Data) +  matching_similarity(x_r, x_r, Data) - 2*matching_similarity(x_i, x_r, Data) )\n",
    "\n",
    "    return( Dist_Matching )"
   ]
  },
  {
   "cell_type": "markdown",
   "metadata": {},
   "source": []
  },
  {
   "cell_type": "code",
   "execution_count": 40,
   "metadata": {},
   "outputs": [],
   "source": [
    "def Matrix_Dist_Matching(Data):\n",
    "\n",
    "    Data = Data.to_numpy()\n",
    "\n",
    "    n = len(Data)\n",
    "\n",
    "    M =  np.empty((n , n))\n",
    "   \n",
    "    for i in range(0, n):\n",
    "\n",
    "         for r in range(0, n):\n",
    "\n",
    "             if i >= r :\n",
    "               \n",
    "                M[i,r] = 0\n",
    "\n",
    "             else :\n",
    "\n",
    "                M[i,r] = Dist_Matching(x_i=Data[i,:], x_r=Data[r,:], Data=Data)\n",
    "                      \n",
    "    return M "
   ]
  },
  {
   "cell_type": "code",
   "execution_count": null,
   "metadata": {},
   "outputs": [
    {
     "data": {
      "text/plain": [
       "array([[0.        , 1.15470054, 1.15470054, ..., 1.15470054, 1.15470054,\n",
       "        1.15470054],\n",
       "       [0.        , 0.        , 0.81649658, ..., 0.        , 0.81649658,\n",
       "        1.41421356],\n",
       "       [0.        , 0.        , 0.        , ..., 0.81649658, 0.81649658,\n",
       "        1.41421356],\n",
       "       ...,\n",
       "       [0.        , 0.        , 0.        , ..., 0.        , 0.81649658,\n",
       "        1.41421356],\n",
       "       [0.        , 0.        , 0.        , ..., 0.        , 0.        ,\n",
       "        1.41421356],\n",
       "       [0.        , 0.        , 0.        , ..., 0.        , 0.        ,\n",
       "        0.        ]])"
      ]
     },
     "execution_count": 29,
     "metadata": {},
     "output_type": "execute_result"
    }
   ],
   "source": [
    "M_Dist_Matching = Matrix_Dist_Matching(Data=Data_multiclass)\n",
    "\n",
    "M_Dist_Matching"
   ]
  },
  {
   "cell_type": "code",
   "execution_count": null,
   "metadata": {},
   "outputs": [
    {
     "data": {
      "text/plain": [
       "array([[0.        , 1.15470054, 1.15470054, ..., 1.15470054, 1.15470054,\n",
       "        1.15470054],\n",
       "       [1.15470054, 0.        , 0.81649658, ..., 0.        , 0.81649658,\n",
       "        1.41421356],\n",
       "       [1.15470054, 0.81649658, 0.        , ..., 0.81649658, 0.81649658,\n",
       "        1.41421356],\n",
       "       ...,\n",
       "       [1.15470054, 0.        , 0.81649658, ..., 0.        , 0.81649658,\n",
       "        1.41421356],\n",
       "       [1.15470054, 0.81649658, 0.81649658, ..., 0.81649658, 0.        ,\n",
       "        1.41421356],\n",
       "       [1.15470054, 1.41421356, 1.41421356, ..., 1.41421356, 1.41421356,\n",
       "        0.        ]])"
      ]
     },
     "execution_count": 30,
     "metadata": {},
     "output_type": "execute_result"
    }
   ],
   "source": [
    "M_Dist_Matching = M_Dist_Matching + M_Dist_Matching.T\n",
    "\n",
    "M_Dist_Matching"
   ]
  },
  {
   "cell_type": "markdown",
   "metadata": {},
   "source": []
  },
  {
   "cell_type": "markdown",
   "metadata": {},
   "source": []
  },
  {
   "cell_type": "markdown",
   "metadata": {},
   "source": [
    "## Similaridad de Gower"
   ]
  },
  {
   "cell_type": "code",
   "execution_count": 41,
   "metadata": {},
   "outputs": [],
   "source": [
    "def Matrix_Gower_Similarity(Data, p1, p2, p3):\n",
    "\n",
    "    # Data tiene que ser un numpy array tal que:\n",
    "    # las primeras p1 tiene que ser variables cuantitativas, \n",
    "    # las siguientes p2 binarias y las restantes p3 multicales\n",
    "\n",
    "    # Si Data no contiene variables cuantitativas --> p1=0\n",
    "    # Si Data no contiene variables binarias --> p2=0\n",
    "    # Si Data no contiene variables multiclase --> p3=0\n",
    "\n",
    "    Data_pd = Data\n",
    "\n",
    "    Data = Data.to_numpy()\n",
    "\n",
    "    n = len(Data)\n",
    "\n",
    "    M =  np.empty((n , n))\n",
    "\n",
    "############################################################\n",
    "    \n",
    "    G_vector = np.repeat(0.5, p1)\n",
    "\n",
    "    for k in range(0, p1):\n",
    "\n",
    "        G_vector[k] = Data[:,k].max() - Data[:,k].min()\n",
    "\n",
    "############################################################\n",
    "   \n",
    "    ones = np.repeat(1, p1)\n",
    "\n",
    "    Quant_Data = Data[: , 0:p1]\n",
    "\n",
    "    Binary_Data_pd = Data_pd.iloc[: , (p1):(p1+p2)]\n",
    "\n",
    "    Multiple_Data = Data[: , (p1+p2):(p1+p2+p3) ]\n",
    "\n",
    "############################################################\n",
    "\n",
    "    a, b, c, d, p = a_b_c_d_Matrix(Binary_Data_pd)\n",
    "\n",
    "############################################################\n",
    "\n",
    "    for i in range(0, n):\n",
    "\n",
    "         for r in range(0, n):\n",
    "\n",
    "            if i > r :\n",
    "               \n",
    "                 M[i,r] = 0\n",
    "            \n",
    "            elif i == r :\n",
    "               \n",
    "                 M[i,r] = 1\n",
    "            \n",
    "            else :\n",
    "\n",
    "                # Calculo de la distancia de Gower entre las observaciones x_i y x_r\n",
    "\n",
    "                numerator_part_1 = ( ones - ( abs(Quant_Data[i,:] - Quant_Data[r,:]) / G_vector ) ).sum() \n",
    "\n",
    "                numerator_part_2 = a[i,r] \n",
    "                \n",
    "                numerator_part_3 = alpha(Multiple_Data[i,:], Multiple_Data[r,:])\n",
    "\n",
    "                numerator = numerator_part_1 + numerator_part_2 + numerator_part_3\n",
    "\n",
    "                denominator = p1 + (p2 - d[i,r]) + p3\n",
    "                \n",
    "\n",
    "                if denominator == 0:\n",
    "\n",
    "                    M[i,r] = 0\n",
    "\n",
    "                else:    \n",
    "                    \n",
    "                    M[i,r] = numerator / denominator\n",
    "                      \n",
    "   \n",
    "    return M  "
   ]
  },
  {
   "cell_type": "code",
   "execution_count": null,
   "metadata": {},
   "outputs": [
    {
     "data": {
      "text/html": [
       "<div>\n",
       "<style scoped>\n",
       "    .dataframe tbody tr th:only-of-type {\n",
       "        vertical-align: middle;\n",
       "    }\n",
       "\n",
       "    .dataframe tbody tr th {\n",
       "        vertical-align: top;\n",
       "    }\n",
       "\n",
       "    .dataframe thead th {\n",
       "        text-align: right;\n",
       "    }\n",
       "</style>\n",
       "<table border=\"1\" class=\"dataframe\">\n",
       "  <thead>\n",
       "    <tr style=\"text-align: right;\">\n",
       "      <th></th>\n",
       "      <th>latitude</th>\n",
       "      <th>longitude</th>\n",
       "      <th>price</th>\n",
       "      <th>size_in_m_2</th>\n",
       "      <th>no_of_bedrooms</th>\n",
       "      <th>no_of_bathrooms</th>\n",
       "      <th>private_garden_recode</th>\n",
       "      <th>private_gym_recode</th>\n",
       "      <th>private_jacuzzi_recode</th>\n",
       "      <th>balcony_recode</th>\n",
       "      <th>quality_recode</th>\n",
       "      <th>rating</th>\n",
       "      <th>type</th>\n",
       "    </tr>\n",
       "  </thead>\n",
       "  <tbody>\n",
       "    <tr>\n",
       "      <th>0</th>\n",
       "      <td>25.113208</td>\n",
       "      <td>55.138932</td>\n",
       "      <td>2700000</td>\n",
       "      <td>100.242337</td>\n",
       "      <td>1</td>\n",
       "      <td>2</td>\n",
       "      <td>0.0</td>\n",
       "      <td>0.0</td>\n",
       "      <td>0.0</td>\n",
       "      <td>1.0</td>\n",
       "      <td>2.0</td>\n",
       "      <td>3.0</td>\n",
       "      <td>2.0</td>\n",
       "    </tr>\n",
       "    <tr>\n",
       "      <th>1</th>\n",
       "      <td>25.106809</td>\n",
       "      <td>55.151201</td>\n",
       "      <td>2850000</td>\n",
       "      <td>146.972546</td>\n",
       "      <td>2</td>\n",
       "      <td>2</td>\n",
       "      <td>0.0</td>\n",
       "      <td>0.0</td>\n",
       "      <td>0.0</td>\n",
       "      <td>1.0</td>\n",
       "      <td>2.0</td>\n",
       "      <td>2.0</td>\n",
       "      <td>1.0</td>\n",
       "    </tr>\n",
       "    <tr>\n",
       "      <th>2</th>\n",
       "      <td>25.063302</td>\n",
       "      <td>55.137728</td>\n",
       "      <td>1150000</td>\n",
       "      <td>181.253753</td>\n",
       "      <td>3</td>\n",
       "      <td>5</td>\n",
       "      <td>0.0</td>\n",
       "      <td>0.0</td>\n",
       "      <td>1.0</td>\n",
       "      <td>1.0</td>\n",
       "      <td>2.0</td>\n",
       "      <td>5.0</td>\n",
       "      <td>1.0</td>\n",
       "    </tr>\n",
       "    <tr>\n",
       "      <th>3</th>\n",
       "      <td>25.227295</td>\n",
       "      <td>55.341761</td>\n",
       "      <td>2850000</td>\n",
       "      <td>187.664060</td>\n",
       "      <td>2</td>\n",
       "      <td>3</td>\n",
       "      <td>0.0</td>\n",
       "      <td>0.0</td>\n",
       "      <td>0.0</td>\n",
       "      <td>1.0</td>\n",
       "      <td>1.0</td>\n",
       "      <td>5.0</td>\n",
       "      <td>2.0</td>\n",
       "    </tr>\n",
       "    <tr>\n",
       "      <th>4</th>\n",
       "      <td>25.114275</td>\n",
       "      <td>55.139764</td>\n",
       "      <td>1729200</td>\n",
       "      <td>47.101821</td>\n",
       "      <td>0</td>\n",
       "      <td>1</td>\n",
       "      <td>0.0</td>\n",
       "      <td>0.0</td>\n",
       "      <td>0.0</td>\n",
       "      <td>0.0</td>\n",
       "      <td>2.0</td>\n",
       "      <td>1.0</td>\n",
       "      <td>2.0</td>\n",
       "    </tr>\n",
       "  </tbody>\n",
       "</table>\n",
       "</div>"
      ],
      "text/plain": [
       "    latitude  longitude    price  size_in_m_2  no_of_bedrooms  \\\n",
       "0  25.113208  55.138932  2700000   100.242337               1   \n",
       "1  25.106809  55.151201  2850000   146.972546               2   \n",
       "2  25.063302  55.137728  1150000   181.253753               3   \n",
       "3  25.227295  55.341761  2850000   187.664060               2   \n",
       "4  25.114275  55.139764  1729200    47.101821               0   \n",
       "\n",
       "   no_of_bathrooms  private_garden_recode  private_gym_recode  \\\n",
       "0                2                    0.0                 0.0   \n",
       "1                2                    0.0                 0.0   \n",
       "2                5                    0.0                 0.0   \n",
       "3                3                    0.0                 0.0   \n",
       "4                1                    0.0                 0.0   \n",
       "\n",
       "   private_jacuzzi_recode  balcony_recode  quality_recode  rating  type  \n",
       "0                     0.0             1.0             2.0     3.0   2.0  \n",
       "1                     0.0             1.0             2.0     2.0   1.0  \n",
       "2                     1.0             1.0             2.0     5.0   1.0  \n",
       "3                     0.0             1.0             1.0     5.0   2.0  \n",
       "4                     0.0             0.0             2.0     1.0   2.0  "
      ]
     },
     "execution_count": 13,
     "metadata": {},
     "output_type": "execute_result"
    }
   ],
   "source": [
    "Data_mixed.head()"
   ]
  },
  {
   "cell_type": "code",
   "execution_count": 135,
   "metadata": {},
   "outputs": [
    {
     "data": {
      "text/plain": [
       "array([[1.        , 0.76928447, 0.61234779, ..., 0.61200705, 0.68768535,\n",
       "        0.77882015],\n",
       "       [0.        , 1.        , 0.72440439, ..., 0.83958297, 0.75951698,\n",
       "        0.65783494],\n",
       "       [0.        , 0.        , 1.        , ..., 0.73084198, 0.63188025,\n",
       "        0.52548719],\n",
       "       ...,\n",
       "       [0.        , 0.        , 0.        , ..., 1.        , 0.65208854,\n",
       "        0.4993045 ],\n",
       "       [0.        , 0.        , 0.        , ..., 0.        , 1.        ,\n",
       "        0.61603067],\n",
       "       [0.        , 0.        , 0.        , ..., 0.        , 0.        ,\n",
       "        1.        ]])"
      ]
     },
     "execution_count": 135,
     "metadata": {},
     "output_type": "execute_result"
    }
   ],
   "source": [
    "M_Gower = Matrix_Gower_Similarity(Data=Data_mixed, p1=6, p2=4, p3=3)\n",
    "\n",
    "M_Gower"
   ]
  },
  {
   "cell_type": "code",
   "execution_count": null,
   "metadata": {},
   "outputs": [
    {
     "data": {
      "text/plain": [
       "array([[1.        , 0.76928447, 0.61234779, ..., 0.61200705, 0.68768535,\n",
       "        0.77882015],\n",
       "       [0.76928447, 1.        , 0.72440439, ..., 0.83958297, 0.75951698,\n",
       "        0.65783494],\n",
       "       [0.61234779, 0.72440439, 1.        , ..., 0.73084198, 0.63188025,\n",
       "        0.52548719],\n",
       "       ...,\n",
       "       [0.61200705, 0.83958297, 0.73084198, ..., 1.        , 0.65208854,\n",
       "        0.4993045 ],\n",
       "       [0.68768535, 0.75951698, 0.63188025, ..., 0.65208854, 1.        ,\n",
       "        0.61603067],\n",
       "       [0.77882015, 0.65783494, 0.52548719, ..., 0.4993045 , 0.61603067,\n",
       "        1.        ]])"
      ]
     },
     "execution_count": 14,
     "metadata": {},
     "output_type": "execute_result"
    }
   ],
   "source": [
    "M_Gower = M_Gower  + M_Gower.T - np.diag(np.repeat(1 , len(M_Gower)), k=0)\n",
    "\n",
    "M_Gower"
   ]
  },
  {
   "cell_type": "code",
   "execution_count": 42,
   "metadata": {},
   "outputs": [],
   "source": [
    "def Matrix_Dist_Gower(Data, p1, p2, p3 ):\n",
    "\n",
    "    M = Matrix_Gower_Similarity(Data, p1, p2, p3)\n",
    "\n",
    "    M = M + M.T - np.diag(np.repeat(1 , len(M)), k=0)\n",
    "\n",
    "    M = np.sqrt( 1 - M )\n",
    "\n",
    "    return M"
   ]
  },
  {
   "cell_type": "code",
   "execution_count": 138,
   "metadata": {},
   "outputs": [
    {
     "data": {
      "text/plain": [
       "array([[0.        , 0.48032856, 0.62261723, ..., 0.6228908 , 0.55885118,\n",
       "        0.47029762],\n",
       "       [0.48032856, 0.        , 0.52497201, ..., 0.40052095, 0.49039069,\n",
       "        0.58494877],\n",
       "       [0.62261723, 0.52497201, 0.        , ..., 0.51880441, 0.60672873,\n",
       "        0.6888489 ],\n",
       "       ...,\n",
       "       [0.6228908 , 0.40052095, 0.51880441, ..., 0.        , 0.5898402 ,\n",
       "        0.70759841],\n",
       "       [0.55885118, 0.49039069, 0.60672873, ..., 0.5898402 , 0.        ,\n",
       "        0.61965259],\n",
       "       [0.47029762, 0.58494877, 0.6888489 , ..., 0.70759841, 0.61965259,\n",
       "        0.        ]])"
      ]
     },
     "execution_count": 138,
     "metadata": {},
     "output_type": "execute_result"
    }
   ],
   "source": [
    "M_Gower_Dist = Matrix_Dist_Gower(Data=Data_mixed, p1=6, p2=4, p3=3)\n",
    "\n",
    "M_Gower_Dist"
   ]
  },
  {
   "cell_type": "markdown",
   "metadata": {},
   "source": []
  },
  {
   "cell_type": "markdown",
   "metadata": {},
   "source": []
  },
  {
   "cell_type": "markdown",
   "metadata": {},
   "source": [
    "### Probando la similaridad de Gower con conjuntos de datos no necesariamente cuantitativos-binarios-multiclase:"
   ]
  },
  {
   "cell_type": "code",
   "execution_count": null,
   "metadata": {},
   "outputs": [
    {
     "data": {
      "text/plain": [
       "array([[1.        , 0.94880745, 0.78930428, ..., 0.68667841, 0.92742315,\n",
       "        0.96470026],\n",
       "       [0.        , 1.        , 0.82807471, ..., 0.73263828, 0.89244779,\n",
       "        0.92972489],\n",
       "       [0.        , 0.        , 1.        , ..., 0.83987697, 0.76376051,\n",
       "        0.79672652],\n",
       "       ...,\n",
       "       [0.        , 0.        , 0.        , ..., 1.        , 0.69549566,\n",
       "        0.6655075 ],\n",
       "       [0.        , 0.        , 0.        , ..., 0.        , 1.        ,\n",
       "        0.96272289],\n",
       "       [0.        , 0.        , 0.        , ..., 0.        , 0.        ,\n",
       "        1.        ]])"
      ]
     },
     "execution_count": 17,
     "metadata": {},
     "output_type": "execute_result"
    }
   ],
   "source": [
    "Matrix_Gower_Similarity(Data=Data_quant, p1=6, p2=0, p3=0)"
   ]
  },
  {
   "cell_type": "code",
   "execution_count": null,
   "metadata": {},
   "outputs": [
    {
     "data": {
      "text/plain": [
       "array([[1.        , 1.        , 0.5       , ..., 1.        , 0.5       ,\n",
       "        1.        ],\n",
       "       [0.        , 1.        , 0.5       , ..., 1.        , 0.5       ,\n",
       "        1.        ],\n",
       "       [0.        , 0.        , 1.        , ..., 0.5       , 0.33333333,\n",
       "        0.5       ],\n",
       "       ...,\n",
       "       [0.        , 0.        , 0.        , ..., 1.        , 0.5       ,\n",
       "        1.        ],\n",
       "       [0.        , 0.        , 0.        , ..., 0.        , 1.        ,\n",
       "        0.5       ],\n",
       "       [0.        , 0.        , 0.        , ..., 0.        , 0.        ,\n",
       "        1.        ]])"
      ]
     },
     "execution_count": 18,
     "metadata": {},
     "output_type": "execute_result"
    }
   ],
   "source": [
    "Matrix_Gower_Similarity(Data=Data_binary, p1=0, p2=4, p3=0)\n",
    "\n",
    "# Coincide con la matriz de similaridades de Jaccard que se ha obtenido anteriormente."
   ]
  },
  {
   "cell_type": "code",
   "execution_count": null,
   "metadata": {},
   "outputs": [
    {
     "data": {
      "text/plain": [
       "array([[1.        , 0.33333333, 0.33333333, ..., 0.33333333, 0.33333333,\n",
       "        0.33333333],\n",
       "       [0.        , 1.        , 0.66666667, ..., 1.        , 0.66666667,\n",
       "        0.        ],\n",
       "       [0.        , 0.        , 1.        , ..., 0.66666667, 0.66666667,\n",
       "        0.        ],\n",
       "       ...,\n",
       "       [0.        , 0.        , 0.        , ..., 1.        , 0.66666667,\n",
       "        0.        ],\n",
       "       [0.        , 0.        , 0.        , ..., 0.        , 1.        ,\n",
       "        0.        ],\n",
       "       [0.        , 0.        , 0.        , ..., 0.        , 0.        ,\n",
       "        1.        ]])"
      ]
     },
     "execution_count": 19,
     "metadata": {},
     "output_type": "execute_result"
    }
   ],
   "source": [
    "Matrix_Gower_Similarity(Data=Data_multiclass, p1=0, p2=0, p3=3)\n",
    "\n",
    "# Coincide con la matriz de similaridades por coincidencias que se ha obtenido anteriormente."
   ]
  },
  {
   "cell_type": "markdown",
   "metadata": {},
   "source": []
  },
  {
   "cell_type": "code",
   "execution_count": null,
   "metadata": {},
   "outputs": [],
   "source": [
    "Data_binary_multiclass = pd.concat([Data_binary,Data_multiclass], axis=1)"
   ]
  },
  {
   "cell_type": "code",
   "execution_count": null,
   "metadata": {},
   "outputs": [
    {
     "data": {
      "text/plain": [
       "array([[1.  , 0.5 , 0.4 , ..., 0.5 , 0.4 , 0.5 ],\n",
       "       [0.  , 1.  , 0.6 , ..., 1.  , 0.6 , 0.25],\n",
       "       [0.  , 0.  , 1.  , ..., 0.6 , 0.5 , 0.2 ],\n",
       "       ...,\n",
       "       [0.  , 0.  , 0.  , ..., 1.  , 0.6 , 0.25],\n",
       "       [0.  , 0.  , 0.  , ..., 0.  , 1.  , 0.2 ],\n",
       "       [0.  , 0.  , 0.  , ..., 0.  , 0.  , 1.  ]])"
      ]
     },
     "execution_count": 21,
     "metadata": {},
     "output_type": "execute_result"
    }
   ],
   "source": [
    "Matrix_Gower_Similarity(Data=Data_binary_multiclass , p1=0, p2=4, p3=3)"
   ]
  },
  {
   "cell_type": "markdown",
   "metadata": {},
   "source": []
  },
  {
   "cell_type": "code",
   "execution_count": null,
   "metadata": {},
   "outputs": [],
   "source": [
    "Data_quant_multiclass = pd.concat([Data_quant,Data_multiclass], axis=1)"
   ]
  },
  {
   "cell_type": "code",
   "execution_count": null,
   "metadata": {},
   "outputs": [
    {
     "data": {
      "text/plain": [
       "array([[1.        , 0.74364941, 0.63731397, ..., 0.56889672, 0.72939321,\n",
       "        0.75424461],\n",
       "       [0.        , 1.        , 0.77427203, ..., 0.82175886, 0.81718741,\n",
       "        0.6198166 ],\n",
       "       [0.        , 0.        , 1.        , ..., 0.7821402 , 0.73139589,\n",
       "        0.53115102],\n",
       "       ...,\n",
       "       [0.        , 0.        , 0.        , ..., 1.        , 0.68588599,\n",
       "        0.44367166],\n",
       "       [0.        , 0.        , 0.        , ..., 0.        , 1.        ,\n",
       "        0.64181526],\n",
       "       [0.        , 0.        , 0.        , ..., 0.        , 0.        ,\n",
       "        1.        ]])"
      ]
     },
     "execution_count": 23,
     "metadata": {},
     "output_type": "execute_result"
    }
   ],
   "source": [
    "Matrix_Gower_Similarity(Data=Data_quant_multiclass, p1=6, p2=0, p3=3)"
   ]
  },
  {
   "cell_type": "markdown",
   "metadata": {},
   "source": []
  },
  {
   "cell_type": "code",
   "execution_count": null,
   "metadata": {},
   "outputs": [],
   "source": [
    "Data_quant_binary = pd.concat([Data_quant,Data_binary], axis=1)"
   ]
  },
  {
   "cell_type": "code",
   "execution_count": null,
   "metadata": {},
   "outputs": [
    {
     "data": {
      "text/plain": [
       "array([[1.        , 0.95612067, 0.71697821, ..., 0.73143864, 0.82056736,\n",
       "        0.96974308],\n",
       "       [0.        , 1.        , 0.74605603, ..., 0.77083282, 0.79433584,\n",
       "        0.9397642 ],\n",
       "       [0.        , 0.        , 1.        , ..., 0.75490772, 0.62028478,\n",
       "        0.72254489],\n",
       "       ...,\n",
       "       [0.        , 0.        , 0.        , ..., 1.        , 0.64662174,\n",
       "        0.71329214],\n",
       "       [0.        , 0.        , 0.        , ..., 0.        , 1.        ,\n",
       "        0.84704217],\n",
       "       [0.        , 0.        , 0.        , ..., 0.        , 0.        ,\n",
       "        1.        ]])"
      ]
     },
     "execution_count": 25,
     "metadata": {},
     "output_type": "execute_result"
    }
   ],
   "source": [
    "Matrix_Gower_Similarity(Data=Data_quant_binary , p1=6, p2=4, p3=0)"
   ]
  },
  {
   "cell_type": "markdown",
   "metadata": {},
   "source": []
  },
  {
   "cell_type": "markdown",
   "metadata": {},
   "source": [
    "### Comparacion con los resultados obtenidos con la funcion Gower2.m de Aurea  --> se obtienen los mismos resultados !!"
   ]
  },
  {
   "cell_type": "code",
   "execution_count": null,
   "metadata": {},
   "outputs": [],
   "source": [
    "futbol = pd.read_csv('jugadores_futbol.csv')\n",
    "\n",
    "futbol_np = futbol.to_numpy()"
   ]
  },
  {
   "cell_type": "code",
   "execution_count": null,
   "metadata": {},
   "outputs": [],
   "source": [
    "M_Gower_futbol = Matrix_Gower_Similarity(Data=futbol_np, p1=4, p2=1, p3=2)"
   ]
  },
  {
   "cell_type": "code",
   "execution_count": null,
   "metadata": {},
   "outputs": [
    {
     "data": {
      "text/plain": [
       "array([[1.        , 0.63275613, 0.45075758, ..., 0.41684704, 0.61201299,\n",
       "        0.39303752],\n",
       "       [0.63275613, 1.        , 0.43076599, ..., 0.49810606, 0.64920034,\n",
       "        0.47032828],\n",
       "       [0.45075758, 0.43076599, 1.        , ..., 0.63720539, 0.7260101 ,\n",
       "        0.60942761],\n",
       "       ...,\n",
       "       [0.41684704, 0.49810606, 0.63720539, ..., 1.        , 0.67508418,\n",
       "        0.91666667],\n",
       "       [0.61201299, 0.64920034, 0.7260101 , ..., 0.67508418, 1.        ,\n",
       "        0.6473064 ],\n",
       "       [0.39303752, 0.47032828, 0.60942761, ..., 0.91666667, 0.6473064 ,\n",
       "        1.        ]])"
      ]
     },
     "execution_count": 154,
     "metadata": {},
     "output_type": "execute_result"
    }
   ],
   "source": [
    "M_Gower_futbol = M_Gower_futbol  + M_Gower_futbol.T - np.diag(np.repeat(1 , len(M_Gower_futbol)), k=0)\n",
    "\n",
    "M_Gower_futbol"
   ]
  },
  {
   "cell_type": "code",
   "execution_count": null,
   "metadata": {},
   "outputs": [
    {
     "data": {
      "text/plain": [
       "array([[1.        , 0.63275613, 0.45075758, 0.38870851, 0.42676768,\n",
       "        0.61471861, 0.56349206, 0.42839105],\n",
       "       [0.63275613, 1.        , 0.43076599, 0.37689394, 0.46338384,\n",
       "        0.44660895, 0.5256734 , 0.43244949],\n",
       "       [0.45075758, 0.43076599, 1.        , 0.58038721, 0.64877946,\n",
       "        0.58928571, 0.34995791, 0.52946128],\n",
       "       [0.38870851, 0.37689394, 0.58038721, 1.        , 0.5625    ,\n",
       "        0.52723665, 0.27756734, 0.625     ],\n",
       "       [0.42676768, 0.46338384, 0.64877946, 0.5625    , 1.        ,\n",
       "        0.77236652, 0.46506734, 0.6875    ],\n",
       "       [0.61471861, 0.44660895, 0.58928571, 0.52723665, 0.77236652,\n",
       "        1.        , 0.42496392, 0.63834776],\n",
       "       [0.56349206, 0.5256734 , 0.34995791, 0.27756734, 0.46506734,\n",
       "        0.42496392, 1.        , 0.42571549],\n",
       "       [0.42839105, 0.43244949, 0.52946128, 0.625     , 0.6875    ,\n",
       "        0.63834776, 0.42571549, 1.        ]])"
      ]
     },
     "execution_count": 155,
     "metadata": {},
     "output_type": "execute_result"
    }
   ],
   "source": [
    "M_Gower_futbol[0:8, 0:8]"
   ]
  },
  {
   "cell_type": "code",
   "execution_count": null,
   "metadata": {},
   "outputs": [
    {
     "data": {
      "text/plain": [
       "array([[0.        , 0.60600649, 0.74110892, ..., 0.76364452, 0.62288604,\n",
       "        0.77907797],\n",
       "       [0.60600649, 0.        , 0.75447598, ..., 0.70844473, 0.59228343,\n",
       "        0.72778549],\n",
       "       [0.74110892, 0.75447598, 0.        , ..., 0.60232434, 0.52344044,\n",
       "        0.62495791],\n",
       "       ...,\n",
       "       [0.76364452, 0.70844473, 0.60232434, ..., 0.        , 0.57001388,\n",
       "        0.28867513],\n",
       "       [0.62288604, 0.59228343, 0.52344044, ..., 0.57001388, 0.        ,\n",
       "        0.59388012],\n",
       "       [0.77907797, 0.72778549, 0.62495791, ..., 0.28867513, 0.59388012,\n",
       "        0.        ]])"
      ]
     },
     "execution_count": 156,
     "metadata": {},
     "output_type": "execute_result"
    }
   ],
   "source": [
    "M_Gower_Dist_futbol = Matrix_Gower_Distance(Data=futbol_np, p1=4, p2=1, p3=2)\n",
    "\n",
    "M_Gower_Dist_futbol"
   ]
  },
  {
   "cell_type": "code",
   "execution_count": null,
   "metadata": {},
   "outputs": [
    {
     "data": {
      "text/plain": [
       "array([[0.        , 0.36724387, 0.54924242, 0.61129149, 0.57323232,\n",
       "        0.38528139, 0.43650794, 0.57160895],\n",
       "       [0.36724387, 0.        , 0.56923401, 0.62310606, 0.53661616,\n",
       "        0.55339105, 0.4743266 , 0.56755051],\n",
       "       [0.54924242, 0.56923401, 0.        , 0.41961279, 0.35122054,\n",
       "        0.41071429, 0.65004209, 0.47053872],\n",
       "       [0.61129149, 0.62310606, 0.41961279, 0.        , 0.4375    ,\n",
       "        0.47276335, 0.72243266, 0.375     ],\n",
       "       [0.57323232, 0.53661616, 0.35122054, 0.4375    , 0.        ,\n",
       "        0.22763348, 0.53493266, 0.3125    ],\n",
       "       [0.38528139, 0.55339105, 0.41071429, 0.47276335, 0.22763348,\n",
       "        0.        , 0.57503608, 0.36165224],\n",
       "       [0.43650794, 0.4743266 , 0.65004209, 0.72243266, 0.53493266,\n",
       "        0.57503608, 0.        , 0.57428451],\n",
       "       [0.57160895, 0.56755051, 0.47053872, 0.375     , 0.3125    ,\n",
       "        0.36165224, 0.57428451, 0.        ]])"
      ]
     },
     "execution_count": 157,
     "metadata": {},
     "output_type": "execute_result"
    }
   ],
   "source": [
    "M_Gower_Dist_futbol[0:8 , 0:8]**2"
   ]
  },
  {
   "cell_type": "markdown",
   "metadata": {},
   "source": [
    " Primeras 8 filas y 8 columnas obtenidas con la funcion Gower2.m de Aurea para la matriz de cuadrados de distancias de Gower\n",
    "  \n",
    "         0    0.3672    0.5492    0.6113    0.5732    0.3853    0.4365    0.5716\n",
    "    0.3672         0    0.5692    0.6231    0.5366    0.5534    0.4743    0.5676\n",
    "    0.5492    0.5692         0    0.4196    0.3512    0.4107    0.6500    0.4705\n",
    "    0.6113    0.6231    0.4196         0    0.4375    0.4728    0.7224    0.3750\n",
    "    0.5732    0.5366    0.3512    0.4375         0    0.2276    0.5349    0.3125\n",
    "    0.3853    0.5534    0.4107    0.4728    0.2276         0    0.5750    0.3617\n",
    "    0.4365    0.4743    0.6500    0.7224    0.5349    0.5750         0    0.5743\n",
    "    0.5716    0.5676    0.4705    0.3750    0.3125    0.3617    0.5743         0\n",
    "\n"
   ]
  },
  {
   "cell_type": "markdown",
   "metadata": {},
   "source": []
  },
  {
   "cell_type": "markdown",
   "metadata": {},
   "source": [
    "### Comparacion con lo que se obtiene al usar el paquete Gower  --> No se obtienen los mismos resultados."
   ]
  },
  {
   "cell_type": "code",
   "execution_count": null,
   "metadata": {},
   "outputs": [
    {
     "data": {
      "text/plain": [
       "array([[0.        , 0.36724386, 0.54924244, 0.61129147, 0.57323235,\n",
       "        0.38528138, 0.43650794, 0.57160896],\n",
       "       [0.36724386, 0.        , 0.48791486, 0.53409094, 0.4599567 ,\n",
       "        0.55339104, 0.40656567, 0.48647186],\n",
       "       [0.54924244, 0.48791486, 0.        , 0.3596681 , 0.3010462 ,\n",
       "        0.4107143 , 0.5571789 , 0.4033189 ],\n",
       "       [0.61129147, 0.53409094, 0.3596681 , 0.        , 0.375     ,\n",
       "        0.47276336, 0.619228  , 0.32142857],\n",
       "       [0.57323235, 0.4599567 , 0.3010462 , 0.375     , 0.        ,\n",
       "        0.22763348, 0.4585137 , 0.26785713],\n",
       "       [0.38528138, 0.55339104, 0.4107143 , 0.47276336, 0.22763348,\n",
       "        0.        , 0.5750361 , 0.36165223],\n",
       "       [0.43650794, 0.40656567, 0.5571789 , 0.619228  , 0.4585137 ,\n",
       "        0.5750361 , 0.        , 0.4922439 ],\n",
       "       [0.57160896, 0.48647186, 0.4033189 , 0.32142857, 0.26785713,\n",
       "        0.36165223, 0.4922439 , 0.        ]], dtype=float32)"
      ]
     },
     "execution_count": 158,
     "metadata": {},
     "output_type": "execute_result"
    }
   ],
   "source": [
    "import gower\n",
    "\n",
    "M_Dist_cuadrados_Gower_futbol_Paquete = gower.gower_matrix(futbol_np, cat_features=[False,False,False,False,True,True,True])\n",
    "\n",
    "M_Dist_cuadrados_Gower_futbol_Paquete[0:8 , 0:8]"
   ]
  },
  {
   "cell_type": "markdown",
   "metadata": {},
   "source": []
  },
  {
   "cell_type": "markdown",
   "metadata": {},
   "source": [
    " Primeras 8 filas y 8 columnas obtenidas con la funcion Gower2.m de Aurea para la matriz de cuadrados de distancias de Gower\n",
    "  \n",
    "         0    0.3672    0.5492    0.6113    0.5732    0.3853    0.4365    0.5716\n",
    "    0.3672         0    0.5692    0.6231    0.5366    0.5534    0.4743    0.5676\n",
    "    0.5492    0.5692         0    0.4196    0.3512    0.4107    0.6500    0.4705\n",
    "    0.6113    0.6231    0.4196         0    0.4375    0.4728    0.7224    0.3750\n",
    "    0.5732    0.5366    0.3512    0.4375         0    0.2276    0.5349    0.3125\n",
    "    0.3853    0.5534    0.4107    0.4728    0.2276         0    0.5750    0.3617\n",
    "    0.4365    0.4743    0.6500    0.7224    0.5349    0.5750         0    0.5743\n",
    "    0.5716    0.5676    0.4705    0.3750    0.3125    0.3617    0.5743         0\n",
    "\n"
   ]
  },
  {
   "cell_type": "markdown",
   "metadata": {},
   "source": [
    "La primera fila si coincide, pero hay otras como la ultima que no coinciden. Deben usar otra version de l similaridad de Gower u otra transformacion de similaridad a distancia."
   ]
  },
  {
   "cell_type": "markdown",
   "metadata": {},
   "source": []
  },
  {
   "cell_type": "markdown",
   "metadata": {},
   "source": [
    "## Similaridad de Gower-Mahalanobis"
   ]
  },
  {
   "cell_type": "code",
   "execution_count": 43,
   "metadata": {},
   "outputs": [],
   "source": [
    "def Matrix_Gower_Maha_Similarity(Data, p1, p2, p3):\n",
    "\n",
    "    Data_pd = Data\n",
    "\n",
    "    Data = Data.to_numpy()\n",
    "\n",
    "    n = len(Data)\n",
    "\n",
    "    M =  np.empty((n , n))\n",
    "\n",
    "############################################################\n",
    "    \n",
    "    G_vector = np.repeat(0.5, p1)\n",
    "\n",
    "    for k in range(0, p1):\n",
    "\n",
    "        G_vector[k] = Data[:,k].max() - Data[:,k].min()\n",
    "\n",
    "############################################################\n",
    "   \n",
    "    Quant_Data = Data[: , 0:p1]\n",
    "\n",
    "    Quant_Data_pd = Data_pd.iloc[: , 0:p1]\n",
    "\n",
    "    Binary_Data_pd = Data_pd.iloc[: , (p1):(p1+p2)]\n",
    "\n",
    "    Multiple_Data = Data[: , (p1+p2):(p1+p2+p3)]\n",
    "\n",
    "############################################################\n",
    "\n",
    "    a, b, c, d, p = a_b_c_d_Matrix(Binary_Data_pd)\n",
    "\n",
    "############################################################\n",
    "\n",
    "    S_inv = np.linalg.inv( np.cov(Quant_Data , rowvar=False) ) \n",
    "\n",
    "    D_maha = Matrix_Dist_Mahalanobis(Data=Quant_Data_pd) \n",
    "\n",
    "    Max_D_maha = D_maha.max()\n",
    "\n",
    "############################################################\n",
    "\n",
    "    for i in range(0, n):\n",
    "\n",
    "         for r in range(0, n):\n",
    "\n",
    "            if i > r :\n",
    "               \n",
    "                 M[i,r] = 0\n",
    "            \n",
    "            elif i == r :\n",
    "               \n",
    "                 M[i,r] = 1\n",
    "            \n",
    "            else :\n",
    "\n",
    "                # Calculo de la distancia de Gower entre las observaciones x_i y x_r\n",
    "\n",
    "                x = (Quant_Data[i,:] - Quant_Data[r,:])\n",
    "\n",
    "                x = np.array([x])\n",
    "\n",
    "                numerator_part_1 = p1 - float( np.sqrt( x @ S_inv @ x.T ) ) / Max_D_maha  \n",
    "\n",
    "                numerator_part_2 = a[i,r] + alpha(Multiple_Data[i,:], Multiple_Data[r,:])\n",
    "\n",
    "                numerator = numerator_part_1 + numerator_part_2\n",
    " \n",
    "                denominator = p1 + (p2 - d[i,r]) + p3\n",
    "\n",
    "                M[i,r] = numerator / denominator\n",
    "                      \n",
    "   \n",
    "    return M  "
   ]
  },
  {
   "cell_type": "code",
   "execution_count": null,
   "metadata": {},
   "outputs": [
    {
     "data": {
      "text/plain": [
       "array([[1.        , 0.78829544, 0.70814829, ..., 0.7749854 , 0.7156049 ,\n",
       "        0.79387387],\n",
       "       [0.        , 1.        , 0.79624421, ..., 0.97267093, 0.80438259,\n",
       "        0.68820406],\n",
       "       [0.        , 0.        , 1.        , ..., 0.80217845, 0.73386904,\n",
       "        0.62006094],\n",
       "       ...,\n",
       "       [0.        , 0.        , 0.        , ..., 1.        , 0.80011792,\n",
       "        0.67721701],\n",
       "       [0.        , 0.        , 0.        , ..., 0.        , 1.        ,\n",
       "        0.62896601],\n",
       "       [0.        , 0.        , 0.        , ..., 0.        , 0.        ,\n",
       "        1.        ]])"
      ]
     },
     "execution_count": 32,
     "metadata": {},
     "output_type": "execute_result"
    }
   ],
   "source": [
    "M_Gower_Maha = Matrix_Gower_Maha_Similarity(Data=Data_mixed, p1=6, p2=4, p3=3)\n",
    "\n",
    "M_Gower_Maha"
   ]
  },
  {
   "cell_type": "markdown",
   "metadata": {},
   "source": []
  },
  {
   "cell_type": "code",
   "execution_count": null,
   "metadata": {},
   "outputs": [
    {
     "data": {
      "text/plain": [
       "array([[1.        , 0.78829544, 0.70814829, ..., 0.7749854 , 0.7156049 ,\n",
       "        0.79387387],\n",
       "       [0.78829544, 1.        , 0.79624421, ..., 0.97267093, 0.80438259,\n",
       "        0.68820406],\n",
       "       [0.70814829, 0.79624421, 1.        , ..., 0.80217845, 0.73386904,\n",
       "        0.62006094],\n",
       "       ...,\n",
       "       [0.7749854 , 0.97267093, 0.80217845, ..., 1.        , 0.80011792,\n",
       "        0.67721701],\n",
       "       [0.7156049 , 0.80438259, 0.73386904, ..., 0.80011792, 1.        ,\n",
       "        0.62896601],\n",
       "       [0.79387387, 0.68820406, 0.62006094, ..., 0.67721701, 0.62896601,\n",
       "        1.        ]])"
      ]
     },
     "execution_count": 53,
     "metadata": {},
     "output_type": "execute_result"
    }
   ],
   "source": [
    "M_Gower_Maha = M_Gower_Maha + M_Gower_Maha.T - np.diag(np.repeat(1 , len(M_Gower_Maha)), k=0)\n",
    "\n",
    "M_Gower_Maha"
   ]
  },
  {
   "cell_type": "markdown",
   "metadata": {},
   "source": []
  },
  {
   "cell_type": "code",
   "execution_count": null,
   "metadata": {},
   "outputs": [],
   "source": [
    "def Matrix_Dist_Gower_Mahalanobis(Data, p1, p2, p3):\n",
    "\n",
    "    M = Matrix_Gower_Maha_Similarity(Data, p1, p2, p3)\n",
    "\n",
    "    M = M + M.T - np.diag(np.repeat(1 , len(M)), k=0)\n",
    "\n",
    "    M = np.sqrt( 1 - M )\n",
    "\n",
    "    return M"
   ]
  },
  {
   "cell_type": "code",
   "execution_count": null,
   "metadata": {},
   "outputs": [
    {
     "data": {
      "text/plain": [
       "array([[0.        , 0.46011364, 0.54023301, ..., 0.47435704, 0.53328707,\n",
       "        0.45401116],\n",
       "       [0.46011364, 0.        , 0.45139317, ..., 0.16531507, 0.44228657,\n",
       "        0.55838691],\n",
       "       [0.54023301, 0.45139317, 0.        , ..., 0.44477135, 0.51587882,\n",
       "        0.61639197],\n",
       "       ...,\n",
       "       [0.47435704, 0.16531507, 0.44477135, ..., 0.        , 0.44708173,\n",
       "        0.56813994],\n",
       "       [0.53328707, 0.44228657, 0.51587882, ..., 0.44708173, 0.        ,\n",
       "        0.60912559],\n",
       "       [0.45401116, 0.55838691, 0.61639197, ..., 0.56813994, 0.60912559,\n",
       "        0.        ]])"
      ]
     },
     "execution_count": 57,
     "metadata": {},
     "output_type": "execute_result"
    }
   ],
   "source": [
    "M_Gower_Maha_Distance = Matrix_Dist_Gower_Mahalanobis(Data=Data_mixed, p1=6, p2=4, p3=3)\n",
    "\n",
    "M_Gower_Maha_Distance"
   ]
  },
  {
   "cell_type": "markdown",
   "metadata": {},
   "source": []
  },
  {
   "cell_type": "markdown",
   "metadata": {},
   "source": []
  },
  {
   "cell_type": "markdown",
   "metadata": {},
   "source": []
  },
  {
   "attachments": {},
   "cell_type": "markdown",
   "metadata": {},
   "source": [
    "# Distancia de Gower generalizada: (con y sin usar matrices de Gram)"
   ]
  },
  {
   "cell_type": "code",
   "execution_count": 222,
   "metadata": {},
   "outputs": [],
   "source": [
    "def Generalized_Gower_Distance(Data, p1, p2, p3, d1, d2, d3, Related_Metric_Scaling=False, SVD=True, Spectral_Decomposition=False, q=None, tol=0.001) :\n",
    "\n",
    "\n",
    "    # Data debe ser un pandas data-frame cuyas cuyas p1 primeras columnas sean variables cuantitativas, las siguientes p2 binarias,\n",
    "    # y las siguientes p3 multiclase.\n",
    "    # Si Data no contiene variables cuantitativas, binarias o categoricas hay que usar p1=0, p2=0 o p3=0, respectivamente.\n",
    "\n",
    "    Quant_Data = Data.iloc[: , 0:p1]\n",
    "    Binary_Data = Data.iloc[: , (p1):(p1+p2)]\n",
    "    Multiple_Data = Data.iloc[: , (p1+p2):(p1+p2+p3) ]\n",
    "\n",
    "    n = len(Data)\n",
    "\n",
    "    # Para que el siguiente paso funcione es necesario que las funciones con las \n",
    "    # que vamos a calcular las matrices de distancias tengan un nombre con el siguiente\n",
    "    # formato: Matrix_Dist_d  donde d = Euclidea, Minkowski, Mahalanobis, Sokal, Jaccard, Simple_Matching etc\n",
    "\n",
    "    Matrix_Dist_d1 = globals()[\"Matrix_Dist_\" + d1]\n",
    "    Matrix_Dist_d2 = globals()[\"Matrix_Dist_\" + d2]\n",
    "    Matrix_Dist_d3 = globals()[\"Matrix_Dist_\" + d3]\n",
    "    \n",
    "    \n",
    "    # Cuando pj=0, Dj debe ser una matriz de ceros, para que no influya en el cálculo, para j=1,2,3. \n",
    "    # DOCUMENTAR LO SIGUIENTE:\n",
    "    # Esto hará que G_j sea unna matriz nula, y con ello sqrtGj tambien sera una matriz nula, puesto que los autovalores de una matriz nula son ceros .\n",
    "    # sqrtGj = Uj @ np.diag(np.sqrt(Sj)) @ Vj será nula porque np.diag(np.sqrt(Sj)) será nula, al ser los autovalores de G_j@G_j.T (los elementos del vector Sj) nulos, al ser  G_j@G_j.T  nula, por ser G_j nula.\n",
    "\n",
    "    if p1 == 0 and p2 != 0 and p3 != 0 : \n",
    "        D1 = np.empty((n,n))\n",
    "        D2 = Matrix_Dist_d2(Binary_Data)\n",
    "        D3 = Matrix_Dist_d3(Multiple_Data)\n",
    "    \n",
    "    if p2 == 0 and p1 != 0 and p3 != 0 : \n",
    "        if d1 == 'Minkowski' :  D1 = Matrix_Dist_d1(Quant_Data, q)\n",
    "        else: D1 = Matrix_Dist_d1(Quant_Data)\n",
    "        D2 = np.empty((n,n))\n",
    "        D3 = Matrix_Dist_d3(Multiple_Data)\n",
    "\n",
    "    if p3 == 0 and p1 != 0 and p2 != 0 : \n",
    "        if d1 == 'Minkowski' :  D1 = Matrix_Dist_d1(Quant_Data, q)\n",
    "        else: D1 = Matrix_Dist_d1(Quant_Data)\n",
    "        D2 = Matrix_Dist_d2(Binary_Data)\n",
    "        D3 = np.empty((n,n))\n",
    "\n",
    "    if p1 == 0 and p2 == 0 and p3 != 0 : \n",
    "        D1 = np.empty((n,n))\n",
    "        D2 = np.empty((n,n))\n",
    "        D3 = Matrix_Dist_d3(Multiple_Data)\n",
    "    \n",
    "    if p1 == 0 and p3 == 0 and p2 != 0 : \n",
    "        D1 = np.empty((n,n))\n",
    "        D2 = Matrix_Dist_d2(Binary_Data)\n",
    "        D3 = np.empty((n,n))\n",
    "    \n",
    "    if p2 == 0 and p3 == 0 and p1 != 0 : \n",
    "        if d1 == 'Minkowski' :  D1 = Matrix_Dist_d1(Quant_Data, q)\n",
    "        else: D1 = Matrix_Dist_d1(Quant_Data)\n",
    "        D2 = np.empty((n,n))\n",
    "        D3 = np.empty((n,n))\n",
    "\n",
    "    if p1 != 0 and p2 != 0 and p3 != 0 : \n",
    "        if d1 == 'Minkowski' :  D1 = Matrix_Dist_d1(Quant_Data, q)\n",
    "        else: D1 = Matrix_Dist_d1(Quant_Data)\n",
    "        D2 = Matrix_Dist_d2(Binary_Data)\n",
    "        D3 = Matrix_Dist_d3(Multiple_Data)\n",
    "\n",
    "\n",
    "    D1_2 = np.square(D1)\n",
    "    D2_2 = np.square(D2)\n",
    "    D3_2 = np.square(D3)\n",
    "   \n",
    "   # Completamos las matrices (Dk y Dk_2 son inicialmente matrices cuya triangular inferior es de ceros)\n",
    "   \n",
    "    D1 =  D1 + D1.T\n",
    "    D2 =  D2 + D2.T\n",
    "    D3 =  D3 + D3.T\n",
    "\n",
    "    D1_2 =  D1_2 + D1_2.T\n",
    "    D2_2 =  D2_2 + D2_2.T\n",
    "    D3_2 =  D3_2 + D3_2.T\n",
    "\n",
    "    def var_geom(D_2):\n",
    "        n = len(D_2)\n",
    "        VG = (1/(2*(n**2)))*np.sum(D_2)\n",
    "        # np.sum(D_2) es la suma de todos los elementos de la matriz de distancias al cuadrado D_2\n",
    "        return VG\n",
    "\n",
    "    VG1 = var_geom(D1_2)\n",
    "    VG2 = var_geom(D2_2)\n",
    "    VG3 = var_geom(D3_2)\n",
    "\n",
    "    if VG1 == 0 :  # Si p1=0 --> VG1 = 0\n",
    "        D1_2_standard = D1_2 # = 0\n",
    "    else : \n",
    "        D1_2_standard = D1_2 / VG1\n",
    "    \n",
    "    if VG2 == 0 : # Si p2=0 --> VG2 = 0\n",
    "        D2_2_standard = D2_2 # = 0\n",
    "    else : \n",
    "        D2_2_standard = D2_2 / VG2\n",
    "    \n",
    "    if VG3 == 0 : # Si p3=0 --> VG3 = 0\n",
    "        D3_2_standard = D3_2 # = 0\n",
    "    else : \n",
    "        D3_2_standard = D3_2 / VG3\n",
    "   \n",
    "\n",
    "\n",
    "    if Related_Metric_Scaling == False :\n",
    "                \n",
    "        D_2 = D1_2_standard + D2_2_standard + D3_2_standard \n",
    "        \n",
    "        # Redondeamos a 0 los valores de D_2 que son aprox 0 para evitar problemas numericos al calcular D:\n",
    "        D_2[np.isclose(D_2, 0, atol=0.0001)] = 0\n",
    "\n",
    "        D = np.sqrt(D_2)\n",
    "\n",
    "        return D, D_2\n",
    "\n",
    "\n",
    "    elif Related_Metric_Scaling == True :\n",
    "\n",
    "        ones = np.ones((n, 1))\n",
    "        ones_T = np.ones((1, n))\n",
    "\n",
    "        H = np.identity(n) - (1/n)*(ones @ ones_T)\n",
    "\n",
    "        G_1 = -(1/2)*(H @ D1_2_standard @ H)\n",
    "        G_2 = -(1/2)*(H @ D2_2_standard @ H)\n",
    "        G_3 = -(1/2)*(H @ D3_2_standard @ H)\n",
    "\n",
    "    ###################################################################\n",
    "    \n",
    "        # Calcular la raíz cuadrada de G_k\n",
    "\n",
    "        G_1_symmetric = np.allclose(G_1, G_1.T, atol=tol)\n",
    "        G_2_symmetric = np.allclose(G_2, G_2.T, atol=tol)\n",
    "        G_3_symmetric = np.allclose(G_3, G_3.T, atol=tol)\n",
    "\n",
    "        ## Usando la descomposición en valores singulares de G_k :\n",
    "\n",
    "        if SVD == True : \n",
    "                \n",
    "            # Wk es la matriz con los autovectores de G_k y vk es el vector que contiene los autovalores de G_k.\n",
    "            v1, W1 = np.linalg.eig(G_1.T@G_1) \n",
    "            v2, W2 = np.linalg.eig(G_2.T@G_2)\n",
    "            v3, W3 = np.linalg.eig(G_3.T@G_3)\n",
    "\n",
    "            # Los autovalores y autovectores pueden tener una parte real y otra compleja.\n",
    "            # Solo vamos a quedarnos con la parte real en esos casos.\n",
    "\n",
    "            #################  DUDA ##############################\n",
    "\n",
    "            # TENGO DUDAS CON LA SIGUIENTE FORMA DE PROCEDER. SIN APLICAR ESTE PASO SALIAN AUTOVALORES CON PARTE IMAGINARIA, AUNQUE MUY PEQUEÑA.\n",
    "            # TAMBIEN SALIAN AUTOVALORES CON PARTE REAL NEGATIVA PERO MUY CERCANA A CERO. EL PROBLEMA ES QUE AUNQUE SE REDONDEARAN A CERO LAS PARTES\n",
    "            # IMAGINARIAS QUE ERAN APROX CERO, SI TENIAMOS UN AUTOVALOR COMO 3.45 + 0*j (con parte imaginaria 0, es decir, en teoria sin parte real), \n",
    "            # AL HACER LA RAIZ CUADRADA SALE UN VALOR DIFERENTE QUE LA RAIZ CUADRADA DE 3.45, Y ESTO ES RELEVANTE PUESTO QUE ESTA RAIZ ESTA PRESENTE EN\n",
    "            # LA DESCOMPOSICION ESPECTRAL (¿Y EN LA SVD TAMBIEN?). POR ESTO OPTE POR NO CONSIDERAR LAS PARTES COMPLEJAS, SOLO CONSIDERAR LA PARTE REAL, \n",
    "            # DESDE UN INICIO, TANTO PARA LOS AUTOVALORES COMO PARA LOS AUTOVECTORES DE CADA G_k. PERO NO SE SI DEBERIAMOS PROCEDER DE OTRA FORMA. \n",
    "       \n",
    "            #################  DUDAS ##############################\n",
    "        \n",
    "            v1 = np.real(v1) ; v2 = np.real(v2) ;  v3 = np.real(v3)\n",
    "            W1 = np.real(W1) ; W2 = np.real(W2) ;  W3 = np.real(W3)\n",
    "\n",
    "            # Si un autovalor es aproximadamente cero, nos interesa fijarlo a cero para prevenir problemas numericos.\n",
    "            # Para ello sustituimos por 0 cada autovalor que sea aprox 0 (se en un entorno del 0 con tolerancia)\n",
    "            v1[np.isclose(v1, 0, atol=tol)] = 0 \n",
    "            v2[np.isclose(v2, 0, atol=tol)] = 0\n",
    "            v3[np.isclose(v3, 0, atol=tol)] = 0\n",
    "\n",
    "            G1TG1_SDP = np.all(v1 >= 0)\n",
    "            G2TG2_SDP = np.all(v2 >= 0)\n",
    "            G3TG3_SDP = np.all(v3 >= 0)\n",
    "\n",
    "            if G1TG1_SDP and G2TG2_SDP and G3TG3_SDP and G_1_symmetric and G_2_symmetric and G_3_symmetric :\n",
    "\n",
    "                U1, S1, V1 = np.linalg.svd(G_1)\n",
    "                U2, S2, V2 = np.linalg.svd(G_2)\n",
    "                U3, S3, V3 = np.linalg.svd(G_3)\n",
    "        \n",
    "                sqrtG1 = U1 @ np.diag(np.sqrt(S1)) @ V1\n",
    "                sqrtG2 = U2 @ np.diag(np.sqrt(S2)) @ V2\n",
    "                sqrtG3 = U3 @ np.diag(np.sqrt(S3)) @ V3\n",
    "\n",
    "            else :\n",
    "\n",
    "                if G1TG1_SDP == False :  \n",
    "                    print('G_1.T@G_1 no es semi-definida positiva --> No puede aplicarse SVD para calcular la raiz G_1')  \n",
    "                    return v1 \n",
    "                if G2TG2_SDP == False : \n",
    "                    print('G_2.T@G_2 no es semi-definida positiva --> No puede aplicarse SVD para calcular la raiz G_2')\n",
    "                    return v2\n",
    "                if G3TG3_SDP == False : \n",
    "                    print('G_3.T@G_3 no es semi-definida positiva --> No puede aplicarse SVD para calcular la raiz G_3')\n",
    "                    return v3\n",
    "                if G_1_symmetric == False : \n",
    "                    print('G_1 no es simétrica --> No puede aplicarse SVD para calcular la raiz G_1')\n",
    "                    return G_1\n",
    "                if G_2_symmetric == False :  \n",
    "                    print('G_2 no es simétrica --> No puede aplicarse SVD para calcular la raiz G_2')\n",
    "                    return G_2\n",
    "                if G_3_symmetric == False : \n",
    "                    print('G_3 no es simétrica --> No puede aplicarse SVD para calcular la raiz G_3')\n",
    "                    return G_3\n",
    "\n",
    "        ## Usando la descomposición espectral de G_k :\n",
    "\n",
    "        if Spectral_Decomposition == True : \n",
    "\n",
    "           # Wk es la matriz con los autovectores de G_k y vk es el vector que contiene los autovalores de G_k.\n",
    "            v1, W1 = np.linalg.eig(G_1) \n",
    "            v2, W2 = np.linalg.eig(G_2)\n",
    "            v3, W3 = np.linalg.eig(G_3)\n",
    "\n",
    "            # Los autovalores y autovectores pueden tener una parte real y otra compleja.\n",
    "            # Solo vamos a quedarnos con la parte real en esos casos.\n",
    "            v1 = np.real(v1) ; v2 = np.real(v2) ;  v3 = np.real(v3)\n",
    "            W1 = np.real(W1) ; W2 = np.real(W2) ;  W3 = np.real(W3)\n",
    "\n",
    "            # Si un autovalor es aproximadamente cero, nos interesa fijarlo a cero para prevenir problemas numericos.\n",
    "            # Para ello sustituimos por 0 cada autovalor que sea aprox 0 (se en un entorno del 0 con tolerancia)\n",
    "            v1[np.isclose(v1, 0, atol=tol)] = 0 \n",
    "            v2[np.isclose(v2, 0, atol=tol)] = 0\n",
    "            v3[np.isclose(v3, 0, atol=tol)] = 0\n",
    "\n",
    "            G_1_SDP = np.all(v1 >= 0)\n",
    "            G_2_SDP = np.all(v2 >= 0)\n",
    "            G_3_SDP = np.all(v3 >= 0)\n",
    "\n",
    "            if G_1_SDP and G_2_SDP and G_3_SDP and G_1_symmetric and G_2_symmetric and G_3_symmetric :\n",
    "\n",
    "                sqrtG1 = W1 @ np.diag(np.sqrt(v1)) @ W1.T\n",
    "                sqrtG2 = W2 @ np.diag(np.sqrt(v2)) @ W2.T\n",
    "                sqrtG3 = W3 @ np.diag(np.sqrt(v3)) @ W3.T\n",
    "\n",
    "            else :\n",
    "\n",
    "                if G_1_SDP == False :  \n",
    "                    print('G_1 no es semi-definida positiva --> No puede aplicarse la descomposición espectral para calcular la raiz G_1')  \n",
    "                    return v1\n",
    "                if G_2_SDP == False : \n",
    "                    print('G_2 no es semi-definida positiva --> No puede aplicarse descomposición espectral para calcular la raiz G_2')\n",
    "                    return v2\n",
    "                if G_3_SDP == False : \n",
    "                    print('G_3 no es semi-definida positiva --> No puede aplicarse descomposición espectral para calcular la raiz G_3')\n",
    "                    return v3\n",
    "                if G_1_symmetric == False : \n",
    "                    print('G_1 no es simétrica --> No puede aplicarse descomposición espectral para calcular la raiz G_1')\n",
    "                    return G_1\n",
    "                if G_2_symmetric == False :  \n",
    "                    print('G_2 no es simétrica --> No puede aplicarse descomposición espectral para calcular la raiz G_2')\n",
    "                    return G_2\n",
    "                if G_3_symmetric == False : \n",
    "                    print('G_3 no es simétrica --> No puede aplicarse descomposición espectral para calcular la raiz G_3')\n",
    "                    return G_3\n",
    "\n",
    "    ###################################################################\n",
    "\n",
    "        G = G_1 + G_2 + G_3 - (1/3)*( sqrtG1@sqrtG2 + sqrtG1@sqrtG3 + sqrtG2@sqrtG1 + sqrtG2@sqrtG3 + sqrtG3@sqrtG1 + sqrtG3@sqrtG2 )\n",
    "                                   \n",
    "        g = np.diag(G) \n",
    "        g =  np.reshape(g, (len(g), 1))  \n",
    "        g_T = np.reshape(g, (1, len(g)))                   \n",
    "\n",
    "    ###################################################################\n",
    "\n",
    "        D_2 = g @ ones_T + ones @ g_T - 2*G\n",
    "\n",
    "        # Redondeamos a 0 los valores de D_2 que son aprox 0 para evitar problemas numericos al calcular D:\n",
    "        D_2[np.isclose(D_2, 0, atol=0.0001)] = 0\n",
    "\n",
    "        D = np.sqrt(D_2)\n",
    "\n",
    "        return D, D_2"
   ]
  },
  {
   "cell_type": "markdown",
   "metadata": {},
   "source": []
  },
  {
   "attachments": {},
   "cell_type": "markdown",
   "metadata": {},
   "source": [
    "**Prueba 1: euclidea, sokal, matching**"
   ]
  },
  {
   "cell_type": "code",
   "execution_count": 216,
   "metadata": {},
   "outputs": [],
   "source": [
    "D, D_2 = Generalized_Gower_Distance(Data=Data_mixed, p1=6, p2=4, p3=3, d1='Euclidea', d2='Sokal', d3='Matching', Related_Metric_Scaling=False)"
   ]
  },
  {
   "cell_type": "code",
   "execution_count": 217,
   "metadata": {},
   "outputs": [
    {
     "data": {
      "text/plain": [
       "array([[0.        , 1.38268985, 2.41595431, ..., 1.38343571, 2.45703724,\n",
       "        1.53377786],\n",
       "       [1.38268985, 0.        , 2.22254779, ..., 0.01716777, 2.27084019,\n",
       "        1.83801488],\n",
       "       [2.41595431, 2.22254779, 0.        , ..., 2.22711813, 2.87576545,\n",
       "        2.55461093],\n",
       "       ...,\n",
       "       [1.38343571, 0.01716777, 2.22711813, ..., 0.        , 2.27654379,\n",
       "        1.84478253],\n",
       "       [2.45703724, 2.27084019, 2.87576545, ..., 2.27654379, 0.        ,\n",
       "        2.55128529],\n",
       "       [1.53377786, 1.83801488, 2.55461093, ..., 1.84478253, 2.55128529,\n",
       "        0.        ]])"
      ]
     },
     "execution_count": 217,
     "metadata": {},
     "output_type": "execute_result"
    }
   ],
   "source": [
    "D"
   ]
  },
  {
   "cell_type": "code",
   "execution_count": 218,
   "metadata": {},
   "outputs": [
    {
     "data": {
      "text/plain": [
       "array([[0.00000000e+00, 1.91183124e+00, 5.83683523e+00, ...,\n",
       "        1.91389436e+00, 6.03703202e+00, 2.35247451e+00],\n",
       "       [1.91183124e+00, 0.00000000e+00, 4.93971867e+00, ...,\n",
       "        2.94732234e-04, 5.15671518e+00, 3.37829869e+00],\n",
       "       [5.83683523e+00, 4.93971867e+00, 0.00000000e+00, ...,\n",
       "        4.96005518e+00, 8.27002695e+00, 6.52603703e+00],\n",
       "       ...,\n",
       "       [1.91389436e+00, 2.94732234e-04, 4.96005518e+00, ...,\n",
       "        0.00000000e+00, 5.18265161e+00, 3.40322257e+00],\n",
       "       [6.03703202e+00, 5.15671518e+00, 8.27002695e+00, ...,\n",
       "        5.18265161e+00, 0.00000000e+00, 6.50905664e+00],\n",
       "       [2.35247451e+00, 3.37829869e+00, 6.52603703e+00, ...,\n",
       "        3.40322257e+00, 6.50905664e+00, 0.00000000e+00]])"
      ]
     },
     "execution_count": 218,
     "metadata": {},
     "output_type": "execute_result"
    }
   ],
   "source": [
    "D_2"
   ]
  },
  {
   "cell_type": "markdown",
   "metadata": {},
   "source": []
  },
  {
   "attachments": {},
   "cell_type": "markdown",
   "metadata": {},
   "source": [
    "probamos con conjuntos de datos no necesariamente quantitative-binary-multiclass"
   ]
  },
  {
   "cell_type": "code",
   "execution_count": 143,
   "metadata": {},
   "outputs": [],
   "source": [
    "D, D_2 = Generalized_Gower_Distance(Data=Data_binary, p1=0, p2=4, p3=0, d1='Euclidea', d2='Sokal', d3='Matching', Related_Metric_Scaling=False)"
   ]
  },
  {
   "cell_type": "code",
   "execution_count": 144,
   "metadata": {},
   "outputs": [
    {
     "data": {
      "text/plain": [
       "array([[0.        , 0.        , 1.90903615, ..., 0.        , 1.90903615,\n",
       "        0.        ],\n",
       "       [0.        , 0.        , 1.90903615, ..., 0.        , 1.90903615,\n",
       "        0.        ],\n",
       "       [1.90903615, 1.90903615, 0.        , ..., 1.90903615, 2.69978482,\n",
       "        1.90903615],\n",
       "       ...,\n",
       "       [0.        , 0.        , 1.90903615, ..., 0.        , 1.90903615,\n",
       "        0.        ],\n",
       "       [1.90903615, 1.90903615, 2.69978482, ..., 1.90903615, 0.        ,\n",
       "        1.90903615],\n",
       "       [0.        , 0.        , 1.90903615, ..., 0.        , 1.90903615,\n",
       "        0.        ]])"
      ]
     },
     "execution_count": 144,
     "metadata": {},
     "output_type": "execute_result"
    }
   ],
   "source": [
    "D"
   ]
  },
  {
   "cell_type": "code",
   "execution_count": 145,
   "metadata": {},
   "outputs": [],
   "source": [
    "D, D_2 = Generalized_Gower_Distance(Data=Data_quant, p1=6, p2=0, p3=0, d1='Euclidea', d2='Sokal', d3='Matching', Related_Metric_Scaling=False)"
   ]
  },
  {
   "cell_type": "code",
   "execution_count": 146,
   "metadata": {},
   "outputs": [
    {
     "data": {
      "text/plain": [
       "array([[0.        , 0.05150329, 0.53220067, ..., 0.06867106, 0.69529443,\n",
       "        0.66580467],\n",
       "       [0.05150329, 0.        , 0.58370397, ..., 0.01716777, 0.74679772,\n",
       "        0.71730797],\n",
       "       [0.53220067, 0.58370397, 0.        , ..., 0.60087173, 0.16309376,\n",
       "        0.13360401],\n",
       "       ...,\n",
       "       [0.06867106, 0.01716777, 0.60087173, ..., 0.        , 0.76396548,\n",
       "        0.73447573],\n",
       "       [0.69529443, 0.74679772, 0.16309376, ..., 0.76396548, 0.        ,\n",
       "        0.02948975],\n",
       "       [0.66580467, 0.71730797, 0.13360401, ..., 0.73447573, 0.02948975,\n",
       "        0.        ]])"
      ]
     },
     "execution_count": 146,
     "metadata": {},
     "output_type": "execute_result"
    }
   ],
   "source": [
    "D"
   ]
  },
  {
   "cell_type": "code",
   "execution_count": 147,
   "metadata": {},
   "outputs": [],
   "source": [
    "D, D_2 = Generalized_Gower_Distance(Data=Data_multiclass, p1=0, p2=0, p3=3, d1='Euclidea', d2='Sokal', d3='Matching', Related_Metric_Scaling=False)"
   ]
  },
  {
   "cell_type": "code",
   "execution_count": 148,
   "metadata": {},
   "outputs": [
    {
     "data": {
      "text/plain": [
       "array([[0.        , 1.38173031, 1.38173031, ..., 1.38173031, 1.38173031,\n",
       "        1.38173031],\n",
       "       [1.38173031, 0.        , 0.97703087, ..., 0.        , 0.97703087,\n",
       "        1.69226711],\n",
       "       [1.38173031, 0.97703087, 0.        , ..., 0.97703087, 0.97703087,\n",
       "        1.69226711],\n",
       "       ...,\n",
       "       [1.38173031, 0.        , 0.97703087, ..., 0.        , 0.97703087,\n",
       "        1.69226711],\n",
       "       [1.38173031, 0.97703087, 0.97703087, ..., 0.97703087, 0.        ,\n",
       "        1.69226711],\n",
       "       [1.38173031, 1.69226711, 1.69226711, ..., 1.69226711, 1.69226711,\n",
       "        0.        ]])"
      ]
     },
     "execution_count": 148,
     "metadata": {},
     "output_type": "execute_result"
    }
   ],
   "source": [
    "D"
   ]
  },
  {
   "cell_type": "code",
   "execution_count": 149,
   "metadata": {},
   "outputs": [],
   "source": [
    "Data_binary_multiclass = pd.concat([Data_binary,Data_multiclass], axis=1)"
   ]
  },
  {
   "cell_type": "code",
   "execution_count": 150,
   "metadata": {},
   "outputs": [],
   "source": [
    "D, D_2 = Generalized_Gower_Distance(Data=Data_binary_multiclass, p1=0, p2=4, p3=3, d1='Euclidea', d2='Sokal', d3='Matching', Related_Metric_Scaling=False)"
   ]
  },
  {
   "cell_type": "code",
   "execution_count": 151,
   "metadata": {},
   "outputs": [
    {
     "data": {
      "text/plain": [
       "array([[0.        , 1.38173031, 2.35660724, ..., 1.38173031, 2.35660724,\n",
       "        1.38173031],\n",
       "       [1.38173031, 0.        , 2.14452987, ..., 0.        , 2.14452987,\n",
       "        1.69226711],\n",
       "       [2.35660724, 2.14452987, 0.        , ..., 2.14452987, 2.87113695,\n",
       "        2.55111485],\n",
       "       ...,\n",
       "       [1.38173031, 0.        , 2.14452987, ..., 0.        , 2.14452987,\n",
       "        1.69226711],\n",
       "       [2.35660724, 2.14452987, 2.87113695, ..., 2.14452987, 0.        ,\n",
       "        2.55111485],\n",
       "       [1.38173031, 1.69226711, 2.55111485, ..., 1.69226711, 2.55111485,\n",
       "        0.        ]])"
      ]
     },
     "execution_count": 151,
     "metadata": {},
     "output_type": "execute_result"
    }
   ],
   "source": [
    "D"
   ]
  },
  {
   "cell_type": "code",
   "execution_count": 152,
   "metadata": {},
   "outputs": [],
   "source": [
    "Data_quant_multiclass = pd.concat([Data_quant,Data_multiclass], axis=1)"
   ]
  },
  {
   "cell_type": "code",
   "execution_count": 153,
   "metadata": {},
   "outputs": [],
   "source": [
    "D, D_2 = Generalized_Gower_Distance(Data=Data_quant_multiclass, p1=6, p2=0, p3=3, d1='Euclidea', d2='Sokal', d3='Matching', Related_Metric_Scaling=False)"
   ]
  },
  {
   "cell_type": "code",
   "execution_count": 154,
   "metadata": {},
   "outputs": [
    {
     "data": {
      "text/plain": [
       "array([[0.        , 1.38268985, 1.48068099, ..., 1.38343571, 1.54680735,\n",
       "        1.53377786],\n",
       "       [1.38268985, 0.        , 1.13811232, ..., 0.01716777, 1.22975451,\n",
       "        1.83801488],\n",
       "       [1.48068099, 1.13811232, 0.        , ..., 1.14701184, 0.9905498 ,\n",
       "        1.69753292],\n",
       "       ...,\n",
       "       [1.38343571, 0.01716777, 1.14701184, ..., 0.        , 1.24025505,\n",
       "        1.84478253],\n",
       "       [1.54680735, 1.22975451, 0.9905498 , ..., 1.24025505, 0.        ,\n",
       "        1.69252404],\n",
       "       [1.53377786, 1.83801488, 1.69753292, ..., 1.84478253, 1.69252404,\n",
       "        0.        ]])"
      ]
     },
     "execution_count": 154,
     "metadata": {},
     "output_type": "execute_result"
    }
   ],
   "source": [
    "D"
   ]
  },
  {
   "cell_type": "code",
   "execution_count": 155,
   "metadata": {},
   "outputs": [],
   "source": [
    "Data_quant_binary = pd.concat([Data_quant,Data_binary], axis=1)"
   ]
  },
  {
   "cell_type": "code",
   "execution_count": 156,
   "metadata": {},
   "outputs": [],
   "source": [
    "D, D_2 = Generalized_Gower_Distance(Data=Data_quant_binary, p1=6, p2=4, p3=0, d1='Euclidea', d2='Sokal', d3='Matching', Related_Metric_Scaling=False)"
   ]
  },
  {
   "cell_type": "code",
   "execution_count": 157,
   "metadata": {},
   "outputs": [
    {
     "data": {
      "text/plain": [
       "array([[0.        , 0.05150329, 1.98183162, ..., 0.06867106, 2.03171193,\n",
       "        0.66580467],\n",
       "       [0.05150329, 0.        , 1.99627887, ..., 0.01716777, 2.04990874,\n",
       "        0.71730797],\n",
       "       [1.98183162, 1.99627887, 0.        , ..., 2.001366  , 2.70470657,\n",
       "        1.91370558],\n",
       "       ...,\n",
       "       [0.06867106, 0.01716777, 2.001366  , ..., 0.        , 2.05622525,\n",
       "        0.73447573],\n",
       "       [2.03171193, 2.04990874, 2.70470657, ..., 2.05622525, 0.        ,\n",
       "        1.90926391],\n",
       "       [0.66580467, 0.71730797, 1.91370558, ..., 0.73447573, 1.90926391,\n",
       "        0.        ]])"
      ]
     },
     "execution_count": 157,
     "metadata": {},
     "output_type": "execute_result"
    }
   ],
   "source": [
    "D"
   ]
  },
  {
   "cell_type": "markdown",
   "metadata": {},
   "source": []
  },
  {
   "attachments": {},
   "cell_type": "markdown",
   "metadata": {},
   "source": [
    "**Prueba 1b: euclidea, sokal, matching con related metric scaling**"
   ]
  },
  {
   "cell_type": "code",
   "execution_count": 158,
   "metadata": {},
   "outputs": [],
   "source": [
    "# Usando SVD (tarda 2.13 min)\n",
    "\n",
    "D, D_2 = Generalized_Gower_Distance(Data=Data_mixed, p1=6, p2=4, p3=3, d1='Euclidea', d2='Sokal', d3='Matching', Related_Metric_Scaling=True, SVD=True)"
   ]
  },
  {
   "cell_type": "code",
   "execution_count": 159,
   "metadata": {},
   "outputs": [
    {
     "data": {
      "text/plain": [
       "array([[0.        , 1.38296825, 2.42741314, ..., 1.38380665, 2.45466342,\n",
       "        1.53485409],\n",
       "       [1.38296824, 0.        , 2.23290586, ..., 0.01716809, 2.27682425,\n",
       "        1.8418965 ],\n",
       "       [2.42741314, 2.23290582, 0.        , ..., 2.23780008, 2.86932819,\n",
       "        2.56225013],\n",
       "       ...,\n",
       "       [1.38380665, 0.01716744, 2.23780009, ..., 0.        , 2.28271623,\n",
       "        1.84874236],\n",
       "       [2.45466339, 2.27682425, 2.86932819, ..., 2.28271622, 0.        ,\n",
       "        2.55581634],\n",
       "       [1.5348541 , 1.84189649, 2.56225012, ..., 1.84874236, 2.55581633,\n",
       "        0.        ]])"
      ]
     },
     "execution_count": 159,
     "metadata": {},
     "output_type": "execute_result"
    }
   ],
   "source": [
    "D"
   ]
  },
  {
   "cell_type": "code",
   "execution_count": 160,
   "metadata": {},
   "outputs": [
    {
     "data": {
      "text/plain": [
       "array([[0.00000000e+00, 1.91260119e+00, 5.89233455e+00, ...,\n",
       "        1.91492085e+00, 6.02537249e+00, 2.35577707e+00],\n",
       "       [1.91260114e+00, 0.00000000e+00, 4.98586858e+00, ...,\n",
       "        2.94743232e-04, 5.18392865e+00, 3.39258271e+00],\n",
       "       [5.89233455e+00, 4.98586840e+00, 0.00000000e+00, ...,\n",
       "        5.00774919e+00, 8.23304426e+00, 6.56512571e+00],\n",
       "       ...,\n",
       "       [1.91492085e+00, 2.94721096e-04, 5.00774925e+00, ...,\n",
       "        0.00000000e+00, 5.21079338e+00, 3.41784830e+00],\n",
       "       [6.02537235e+00, 5.18392866e+00, 8.23304426e+00, ...,\n",
       "        5.21079334e+00, 0.00000000e+00, 6.53219716e+00],\n",
       "       [2.35577710e+00, 3.39258269e+00, 6.56512568e+00, ...,\n",
       "        3.41784831e+00, 6.53219712e+00, 0.00000000e+00]])"
      ]
     },
     "execution_count": 160,
     "metadata": {},
     "output_type": "execute_result"
    }
   ],
   "source": [
    "D_2"
   ]
  },
  {
   "attachments": {},
   "cell_type": "markdown",
   "metadata": {},
   "source": [
    "Probando para conjuntos de datos no necesariamente quantitative-binary-multiclass"
   ]
  },
  {
   "cell_type": "code",
   "execution_count": 161,
   "metadata": {},
   "outputs": [],
   "source": [
    "D, D_2 = Generalized_Gower_Distance(Data=Data_binary, p1=0, p2=4, p3=0, d1='Euclidea', d2='Sokal', d3='Matching', Related_Metric_Scaling=True, SVD=True)"
   ]
  },
  {
   "cell_type": "code",
   "execution_count": 162,
   "metadata": {},
   "outputs": [
    {
     "data": {
      "text/plain": [
       "array([[0.        , 0.        , 1.90903615, ..., 0.        , 1.90903615,\n",
       "        0.        ],\n",
       "       [0.        , 0.        , 1.90903615, ..., 0.        , 1.90903615,\n",
       "        0.        ],\n",
       "       [1.90903615, 1.90903615, 0.        , ..., 1.90903615, 2.69978482,\n",
       "        1.90903615],\n",
       "       ...,\n",
       "       [0.        , 0.        , 1.90903615, ..., 0.        , 1.90903615,\n",
       "        0.        ],\n",
       "       [1.90903615, 1.90903615, 2.69978482, ..., 1.90903615, 0.        ,\n",
       "        1.90903615],\n",
       "       [0.        , 0.        , 1.90903615, ..., 0.        , 1.90903615,\n",
       "        0.        ]])"
      ]
     },
     "execution_count": 162,
     "metadata": {},
     "output_type": "execute_result"
    }
   ],
   "source": [
    "D"
   ]
  },
  {
   "cell_type": "code",
   "execution_count": 163,
   "metadata": {},
   "outputs": [],
   "source": [
    "D, D_2 = Generalized_Gower_Distance(Data=Data_quant, p1=6, p2=0, p3=0, d1='Euclidea', d2='Sokal', d3='Matching', Related_Metric_Scaling=True, SVD=True)"
   ]
  },
  {
   "cell_type": "code",
   "execution_count": 164,
   "metadata": {},
   "outputs": [
    {
     "data": {
      "text/plain": [
       "array([[0.        , 0.05150329, 0.53220067, ..., 0.06867106, 0.69529443,\n",
       "        0.66580467],\n",
       "       [0.05150329, 0.        , 0.58370397, ..., 0.01716777, 0.74679772,\n",
       "        0.71730797],\n",
       "       [0.53220067, 0.58370397, 0.        , ..., 0.60087173, 0.16309376,\n",
       "        0.13360401],\n",
       "       ...,\n",
       "       [0.06867106, 0.01716777, 0.60087173, ..., 0.        , 0.76396548,\n",
       "        0.73447573],\n",
       "       [0.69529443, 0.74679772, 0.16309376, ..., 0.76396548, 0.        ,\n",
       "        0.02948975],\n",
       "       [0.66580467, 0.71730797, 0.13360401, ..., 0.73447573, 0.02948975,\n",
       "        0.        ]])"
      ]
     },
     "execution_count": 164,
     "metadata": {},
     "output_type": "execute_result"
    }
   ],
   "source": [
    "D"
   ]
  },
  {
   "cell_type": "code",
   "execution_count": 165,
   "metadata": {},
   "outputs": [],
   "source": [
    "D, D_2 = Generalized_Gower_Distance(Data=Data_multiclass, p1=0, p2=0, p3=3, d1='Euclidea', d2='Sokal', d3='Matching', Related_Metric_Scaling=True, SVD=True)"
   ]
  },
  {
   "cell_type": "code",
   "execution_count": 166,
   "metadata": {},
   "outputs": [
    {
     "data": {
      "text/plain": [
       "array([[0.        , 1.38173031, 1.38173031, ..., 1.38173031, 1.38173031,\n",
       "        1.38173031],\n",
       "       [1.38173031, 0.        , 0.97703087, ..., 0.        , 0.97703087,\n",
       "        1.69226711],\n",
       "       [1.38173031, 0.97703087, 0.        , ..., 0.97703087, 0.97703087,\n",
       "        1.69226711],\n",
       "       ...,\n",
       "       [1.38173031, 0.        , 0.97703087, ..., 0.        , 0.97703087,\n",
       "        1.69226711],\n",
       "       [1.38173031, 0.97703087, 0.97703087, ..., 0.97703087, 0.        ,\n",
       "        1.69226711],\n",
       "       [1.38173031, 1.69226711, 1.69226711, ..., 1.69226711, 1.69226711,\n",
       "        0.        ]])"
      ]
     },
     "execution_count": 166,
     "metadata": {},
     "output_type": "execute_result"
    }
   ],
   "source": [
    "D"
   ]
  },
  {
   "cell_type": "code",
   "execution_count": 167,
   "metadata": {},
   "outputs": [],
   "source": [
    "D, D_2 = Generalized_Gower_Distance(Data=Data_binary_multiclass, p1=0, p2=4, p3=3, d1='Euclidea', d2='Sokal', d3='Matching', Related_Metric_Scaling=True, SVD=True)"
   ]
  },
  {
   "cell_type": "code",
   "execution_count": 168,
   "metadata": {},
   "outputs": [
    {
     "data": {
      "text/plain": [
       "array([[0.        , 1.38173033, 2.35991157, ..., 1.38173032, 2.34835194,\n",
       "        1.38173029],\n",
       "       [1.3817303 , 0.        , 2.14304742, ..., 0.        , 2.14146191,\n",
       "        1.69226709],\n",
       "       [2.35991157, 2.14304738, 0.        , ..., 2.14304738, 2.8657109 ,\n",
       "        2.56059246],\n",
       "       ...,\n",
       "       [1.38173031, 0.        , 2.1430474 , ..., 0.        , 2.14146191,\n",
       "        1.69226711],\n",
       "       [2.34835194, 2.14146191, 2.8657109 , ..., 2.1414619 , 0.        ,\n",
       "        2.55544924],\n",
       "       [1.38173031, 1.6922671 , 2.56059245, ..., 1.69226711, 2.55544924,\n",
       "        0.        ]])"
      ]
     },
     "execution_count": 168,
     "metadata": {},
     "output_type": "execute_result"
    }
   ],
   "source": [
    "D"
   ]
  },
  {
   "cell_type": "code",
   "execution_count": 169,
   "metadata": {},
   "outputs": [],
   "source": [
    "D, D_2 = Generalized_Gower_Distance(Data=Data_quant_multiclass, p1=6, p2=0, p3=3, d1='Euclidea', d2='Sokal', d3='Matching', Related_Metric_Scaling=True, SVD=True)"
   ]
  },
  {
   "cell_type": "code",
   "execution_count": 170,
   "metadata": {},
   "outputs": [
    {
     "data": {
      "text/plain": [
       "array([[0.        , 1.38296824, 1.47814366, ..., 1.38380664, 1.54517811,\n",
       "        1.5348541 ],\n",
       "       [1.38296825, 0.        , 1.13833   , ..., 0.01716751, 1.23209289,\n",
       "        1.84189651],\n",
       "       [1.47814367, 1.13833003, 0.        , ..., 1.14723433, 0.99111392,\n",
       "        1.69828245],\n",
       "       ...,\n",
       "       [1.38380665, 0.01716802, 1.14723432, ..., 0.        , 1.24262696,\n",
       "        1.84874235],\n",
       "       [1.54517811, 1.2320929 , 0.99111393, ..., 1.24262696, 0.        ,\n",
       "        1.69241772],\n",
       "       [1.53485409, 1.8418965 , 1.69828246, ..., 1.84874236, 1.69241771,\n",
       "        0.        ]])"
      ]
     },
     "execution_count": 170,
     "metadata": {},
     "output_type": "execute_result"
    }
   ],
   "source": [
    "D"
   ]
  },
  {
   "cell_type": "code",
   "execution_count": 171,
   "metadata": {},
   "outputs": [],
   "source": [
    "D, D_2 = Generalized_Gower_Distance(Data=Data_quant_binary, p1=6, p2=4, p3=0, d1='Euclidea', d2='Sokal', d3='Matching', Related_Metric_Scaling=True, SVD=True)"
   ]
  },
  {
   "cell_type": "code",
   "execution_count": 172,
   "metadata": {},
   "outputs": [
    {
     "data": {
      "text/plain": [
       "array([[0.        , 0.05150322, 1.99375989, ..., 0.06867103, 2.03962552,\n",
       "        0.66580468],\n",
       "       [0.05150336, 0.        , 2.0092635 , ..., 0.01716787, 2.0583323 ,\n",
       "        0.71730797],\n",
       "       [1.99375987, 2.00926349, 0.        , ..., 2.01469742, 2.70341736,\n",
       "        1.91059303],\n",
       "       ...,\n",
       "       [0.06867109, 0.01716766, 2.01469742, ..., 0.        , 2.06481576,\n",
       "        0.73447574],\n",
       "       [2.03962549, 2.05833229, 2.70341736, ..., 2.06481576, 0.        ,\n",
       "        1.90962175],\n",
       "       [0.66580468, 0.71730797, 1.91059303, ..., 0.73447573, 1.90962175,\n",
       "        0.        ]])"
      ]
     },
     "execution_count": 172,
     "metadata": {},
     "output_type": "execute_result"
    }
   ],
   "source": [
    "D"
   ]
  },
  {
   "cell_type": "markdown",
   "metadata": {},
   "source": []
  },
  {
   "cell_type": "code",
   "execution_count": 173,
   "metadata": {},
   "outputs": [],
   "source": [
    "# Usando Spectral Decomposition (tarda 5.8min, bastante mas que con SVD, y se obtienen practicamente iguales resultados)\n",
    "\n",
    "D, D_2 = Generalized_Gower_Distance(Data=Data_mixed, p1=6, p2=4, p3=3, d1='Euclidea', d2='Sokal', d3='Matching', Related_Metric_Scaling=True, Spectral_Decomposition=True)"
   ]
  },
  {
   "cell_type": "code",
   "execution_count": 174,
   "metadata": {},
   "outputs": [
    {
     "data": {
      "text/plain": [
       "array([[0.        , 1.38296832, 2.42741325, ..., 1.38380679, 2.45466348,\n",
       "        1.53485409],\n",
       "       [1.38296832, 0.        , 2.23290581, ..., 0.01716777, 2.27682414,\n",
       "        1.84189655],\n",
       "       [2.42741325, 2.23290581, 0.        , ..., 2.23780008, 2.86932789,\n",
       "        2.56225023],\n",
       "       ...,\n",
       "       [1.38380679, 0.01716777, 2.23780008, ..., 0.        , 2.28271603,\n",
       "        1.84874246],\n",
       "       [2.45466348, 2.27682414, 2.86932789, ..., 2.28271603, 0.        ,\n",
       "        2.55581632],\n",
       "       [1.53485409, 1.84189655, 2.56225023, ..., 1.84874246, 2.55581632,\n",
       "        0.        ]])"
      ]
     },
     "execution_count": 174,
     "metadata": {},
     "output_type": "execute_result"
    }
   ],
   "source": [
    "D"
   ]
  },
  {
   "cell_type": "code",
   "execution_count": 175,
   "metadata": {},
   "outputs": [
    {
     "data": {
      "text/plain": [
       "array([[0.00000000e+00, 1.91260138e+00, 5.89233508e+00, ...,\n",
       "        1.91492123e+00, 6.02537278e+00, 2.35577708e+00],\n",
       "       [1.91260138e+00, 0.00000000e+00, 4.98586837e+00, ...,\n",
       "        2.94732234e-04, 5.18392816e+00, 3.39258291e+00],\n",
       "       [5.89233508e+00, 4.98586837e+00, 0.00000000e+00, ...,\n",
       "        5.00774918e+00, 8.23304253e+00, 6.56512624e+00],\n",
       "       ...,\n",
       "       [1.91492123e+00, 2.94732234e-04, 5.00774918e+00, ...,\n",
       "        0.00000000e+00, 5.21079246e+00, 3.41784867e+00],\n",
       "       [6.02537278e+00, 5.18392816e+00, 8.23304253e+00, ...,\n",
       "        5.21079246e+00, 0.00000000e+00, 6.53219705e+00],\n",
       "       [2.35577708e+00, 3.39258291e+00, 6.56512624e+00, ...,\n",
       "        3.41784867e+00, 6.53219705e+00, 0.00000000e+00]])"
      ]
     },
     "execution_count": 175,
     "metadata": {},
     "output_type": "execute_result"
    }
   ],
   "source": [
    "D_2"
   ]
  },
  {
   "cell_type": "markdown",
   "metadata": {},
   "source": []
  },
  {
   "attachments": {},
   "cell_type": "markdown",
   "metadata": {},
   "source": [
    "**Prueba 2: manhattan, sokal, matching**"
   ]
  },
  {
   "cell_type": "code",
   "execution_count": 327,
   "metadata": {},
   "outputs": [],
   "source": [
    "D, D_2 = Generalized_Gower_Distance(Data=Data_mixed, p1=6, p2=4, p3=3, d1='Minkowski', q=1, d2='Sokal', d3='Matching', Related_Metric_Scaling=False)"
   ]
  },
  {
   "cell_type": "code",
   "execution_count": 328,
   "metadata": {},
   "outputs": [
    {
     "data": {
      "text/plain": [
       "array([[0.        , 1.38269042, 2.41595802, ..., 1.38343707, 2.45703561,\n",
       "        1.53377482],\n",
       "       [1.38269042, 0.        , 2.22254758, ..., 0.01717993, 2.27084328,\n",
       "        1.83801806],\n",
       "       [2.41595802, 2.22254758, 0.        , ..., 2.22711447, 2.87576752,\n",
       "        2.55461278],\n",
       "       ...,\n",
       "       [1.38343707, 0.01717993, 2.22711447, ..., 0.        , 2.276551  ,\n",
       "        1.84479061],\n",
       "       [2.45703561, 2.27084328, 2.87576752, ..., 2.276551  , 0.        ,\n",
       "        2.55128531],\n",
       "       [1.53377482, 1.83801806, 2.55461278, ..., 1.84479061, 2.55128531,\n",
       "        0.        ]])"
      ]
     },
     "execution_count": 328,
     "metadata": {},
     "output_type": "execute_result"
    }
   ],
   "source": [
    "D"
   ]
  },
  {
   "cell_type": "code",
   "execution_count": 329,
   "metadata": {},
   "outputs": [
    {
     "data": {
      "text/plain": [
       "array([[0.00000000e+00, 1.91183280e+00, 5.83685314e+00, ...,\n",
       "        1.91389811e+00, 6.03702399e+00, 2.35246518e+00],\n",
       "       [1.91183280e+00, 0.00000000e+00, 4.93971774e+00, ...,\n",
       "        2.95149920e-04, 5.15672920e+00, 3.37831037e+00],\n",
       "       [5.83685314e+00, 4.93971774e+00, 0.00000000e+00, ...,\n",
       "        4.96003887e+00, 8.27003885e+00, 6.52604644e+00],\n",
       "       ...,\n",
       "       [1.91389811e+00, 2.95149920e-04, 4.96003887e+00, ...,\n",
       "        0.00000000e+00, 5.18268445e+00, 3.40325240e+00],\n",
       "       [6.03702399e+00, 5.15672920e+00, 8.27003885e+00, ...,\n",
       "        5.18268445e+00, 0.00000000e+00, 6.50905671e+00],\n",
       "       [2.35246518e+00, 3.37831037e+00, 6.52604644e+00, ...,\n",
       "        3.40325240e+00, 6.50905671e+00, 0.00000000e+00]])"
      ]
     },
     "execution_count": 329,
     "metadata": {},
     "output_type": "execute_result"
    }
   ],
   "source": [
    "D_2"
   ]
  },
  {
   "cell_type": "markdown",
   "metadata": {},
   "source": []
  },
  {
   "attachments": {},
   "cell_type": "markdown",
   "metadata": {},
   "source": [
    "**Prueba 2b: manhattan, sokal, matching con related metric scaling**"
   ]
  },
  {
   "attachments": {},
   "cell_type": "markdown",
   "metadata": {},
   "source": [
    "Usando SVD"
   ]
  },
  {
   "cell_type": "code",
   "execution_count": 223,
   "metadata": {},
   "outputs": [],
   "source": [
    "D, D_2 = Generalized_Gower_Distance(Data=Data_mixed, p1=6, p2=4, p3=3, d1='Minkowski', q=1, d2='Sokal', d3='Matching', Related_Metric_Scaling=True, SVD=True, tol=0.001)"
   ]
  },
  {
   "cell_type": "code",
   "execution_count": 224,
   "metadata": {},
   "outputs": [
    {
     "data": {
      "text/plain": [
       "array([[0.        , 1.38300937, 2.42745709, ..., 1.38387038, 2.45454871,\n",
       "        1.53477262],\n",
       "       [1.38300934, 0.        , 2.23286444, ..., 0.01718043, 2.27669292,\n",
       "        1.84190138],\n",
       "       [2.4274571 , 2.2328644 , 0.        , ..., 2.23777827, 2.86938728,\n",
       "        2.56225285],\n",
       "       ...,\n",
       "       [1.38387037, 0.01717945, 2.23777828, ..., 0.        , 2.28266842,\n",
       "        1.84876466],\n",
       "       [2.45454871, 2.27669292, 2.86938728, ..., 2.28266841, 0.        ,\n",
       "        2.55581931],\n",
       "       [1.53477264, 1.84190139, 2.56225285, ..., 1.84876466, 2.55581931,\n",
       "        0.        ]])"
      ]
     },
     "execution_count": 224,
     "metadata": {},
     "output_type": "execute_result"
    }
   ],
   "source": [
    "D"
   ]
  },
  {
   "cell_type": "markdown",
   "metadata": {},
   "source": []
  },
  {
   "attachments": {},
   "cell_type": "markdown",
   "metadata": {},
   "source": [
    "Usando Spectral Decomposition"
   ]
  },
  {
   "cell_type": "code",
   "execution_count": 225,
   "metadata": {},
   "outputs": [
    {
     "name": "stdout",
     "output_type": "stream",
     "text": [
      "G_1 no es semi-definida positiva --> No puede aplicarse la descomposición espectral para calcular la raiz G_1\n"
     ]
    }
   ],
   "source": [
    "v1 = Generalized_Gower_Distance(Data=Data_mixed, p1=6, p2=4, p3=3, d1='Minkowski', q=1, d2='Sokal', d3='Matching', Related_Metric_Scaling=True, Spectral_Decomposition=True, tol=0.001)"
   ]
  },
  {
   "cell_type": "code",
   "execution_count": 228,
   "metadata": {},
   "outputs": [
    {
     "data": {
      "text/plain": [
       "[-0.004042001637253629,\n",
       " -0.0035760979615581836,\n",
       " -0.00207117733672013,\n",
       " -0.0015762162239228508]"
      ]
     },
     "execution_count": 228,
     "metadata": {},
     "output_type": "execute_result"
    }
   ],
   "source": [
    "v1_neg = [x  for x in v1  if x < 0]\n",
    "v1_neg # Los autovalores que son negativos son pocos y aprox cero --> relajando la tolerancia la función los aproximara a cero y no esquivaremos el problema."
   ]
  },
  {
   "cell_type": "code",
   "execution_count": 230,
   "metadata": {},
   "outputs": [],
   "source": [
    " # Los autovalores que son negativos son pocos y aprox cero --> relajando la tolerancia la función los aproximara a cero y no esquivaremos el problema.\n",
    "\n",
    "D, D_2 = Generalized_Gower_Distance(Data=Data_mixed, p1=6, p2=4, p3=3, d1='Minkowski', q=1, d2='Sokal', d3='Matching', Related_Metric_Scaling=True, Spectral_Decomposition=True, tol=0.005)"
   ]
  },
  {
   "cell_type": "code",
   "execution_count": 231,
   "metadata": {},
   "outputs": [
    {
     "data": {
      "text/plain": [
       "array([[0.        , 1.38296896, 2.42741633, ..., 1.38380828, 2.45466194,\n",
       "        1.53485104],\n",
       "       [1.38296896, 0.        , 2.23290507, ..., 0.01717993, 2.27682746,\n",
       "        1.84189973],\n",
       "       [2.42741633, 2.23290507, 0.        , ..., 2.23779613, 2.86932976,\n",
       "        2.56225159],\n",
       "       ...,\n",
       "       [1.38380828, 0.01717993, 2.23779613, ..., 0.        , 2.2827236 ,\n",
       "        1.84875058],\n",
       "       [2.45466194, 2.27682746, 2.86932976, ..., 2.2827236 , 0.        ,\n",
       "        2.55581635],\n",
       "       [1.53485104, 1.84189973, 2.56225159, ..., 1.84875058, 2.55581635,\n",
       "        0.        ]])"
      ]
     },
     "execution_count": 231,
     "metadata": {},
     "output_type": "execute_result"
    }
   ],
   "source": [
    "D"
   ]
  },
  {
   "cell_type": "code",
   "execution_count": 232,
   "metadata": {},
   "outputs": [
    {
     "data": {
      "text/plain": [
       "array([[0.00000000e+00, 1.91260315e+00, 5.89235003e+00, ...,\n",
       "        1.91492535e+00, 6.02536525e+00, 2.35576772e+00],\n",
       "       [1.91260315e+00, 0.00000000e+00, 4.98586506e+00, ...,\n",
       "        2.95149920e-04, 5.18394326e+00, 3.39259460e+00],\n",
       "       [5.89235003e+00, 4.98586506e+00, 0.00000000e+00, ...,\n",
       "        5.00773151e+00, 8.23305328e+00, 6.56513322e+00],\n",
       "       ...,\n",
       "       [1.91492535e+00, 2.95149920e-04, 5.00773151e+00, ...,\n",
       "        0.00000000e+00, 5.21082702e+00, 3.41787872e+00],\n",
       "       [6.02536525e+00, 5.18394326e+00, 8.23305328e+00, ...,\n",
       "        5.21082702e+00, 0.00000000e+00, 6.53219719e+00],\n",
       "       [2.35576772e+00, 3.39259460e+00, 6.56513322e+00, ...,\n",
       "        3.41787872e+00, 6.53219719e+00, 0.00000000e+00]])"
      ]
     },
     "execution_count": 232,
     "metadata": {},
     "output_type": "execute_result"
    }
   ],
   "source": [
    "D_2"
   ]
  },
  {
   "cell_type": "markdown",
   "metadata": {},
   "source": []
  },
  {
   "attachments": {},
   "cell_type": "markdown",
   "metadata": {},
   "source": [
    "**Prueba 3: Manhattan, Jaccard, Matching**"
   ]
  },
  {
   "cell_type": "code",
   "execution_count": 233,
   "metadata": {},
   "outputs": [],
   "source": [
    "D, D_2 = Generalized_Gower_Distance(Data=Data_mixed, p1=6, p2=4, p3=3, d1='Minkowski', q=1, d2='Jaccard', d3='Matching', Related_Metric_Scaling=False)"
   ]
  },
  {
   "cell_type": "code",
   "execution_count": 234,
   "metadata": {},
   "outputs": [
    {
     "data": {
      "text/plain": [
       "array([[0.        , 1.38269042, 2.10254785, ..., 1.38343707, 2.14962283,\n",
       "        1.53377482],\n",
       "       [1.38269042, 0.        , 1.87711802, ..., 0.01717993, 1.93405882,\n",
       "        1.83801806],\n",
       "       [2.10254785, 1.87711802, 0.        , ..., 1.88252309, 1.98802211,\n",
       "        2.26050896],\n",
       "       ...,\n",
       "       [1.38343707, 0.01717993, 1.88252309, ..., 0.        , 1.94075726,\n",
       "        1.84479061],\n",
       "       [2.14962283, 1.93405882, 1.98802211, ..., 1.94075726, 0.        ,\n",
       "        2.25674789],\n",
       "       [1.53377482, 1.83801806, 2.26050896, ..., 1.84479061, 2.25674789,\n",
       "        0.        ]])"
      ]
     },
     "execution_count": 234,
     "metadata": {},
     "output_type": "execute_result"
    }
   ],
   "source": [
    "D"
   ]
  },
  {
   "attachments": {},
   "cell_type": "markdown",
   "metadata": {},
   "source": [
    "**DUDA: ¿¿ Es normal que salga tan diferente la matriz de distancias de Gower original, y la generalizada con Manhattan, Jaccard y Matching ??**"
   ]
  },
  {
   "cell_type": "code",
   "execution_count": 235,
   "metadata": {},
   "outputs": [
    {
     "data": {
      "text/plain": [
       "array([[0.        , 0.48032856, 0.62261723, ..., 0.6228908 , 0.55885118,\n",
       "        0.47029762],\n",
       "       [0.48032856, 0.        , 0.52497201, ..., 0.40052095, 0.49039069,\n",
       "        0.58494877],\n",
       "       [0.62261723, 0.52497201, 0.        , ..., 0.51880441, 0.60672873,\n",
       "        0.6888489 ],\n",
       "       ...,\n",
       "       [0.6228908 , 0.40052095, 0.51880441, ..., 0.        , 0.5898402 ,\n",
       "        0.70759841],\n",
       "       [0.55885118, 0.49039069, 0.60672873, ..., 0.5898402 , 0.        ,\n",
       "        0.61965259],\n",
       "       [0.47029762, 0.58494877, 0.6888489 , ..., 0.70759841, 0.61965259,\n",
       "        0.        ]])"
      ]
     },
     "execution_count": 235,
     "metadata": {},
     "output_type": "execute_result"
    }
   ],
   "source": [
    "Matrix_Dist_Gower(Data=Data_mixed, p1=6, p2=4, p3=3)"
   ]
  },
  {
   "cell_type": "markdown",
   "metadata": {},
   "source": []
  },
  {
   "attachments": {},
   "cell_type": "markdown",
   "metadata": {},
   "source": [
    "**Prueba 3b: Manhattan, Jaccard, Matching con related metric scaling**"
   ]
  },
  {
   "attachments": {},
   "cell_type": "markdown",
   "metadata": {},
   "source": [
    "Usando SVD"
   ]
  },
  {
   "cell_type": "code",
   "execution_count": null,
   "metadata": {},
   "outputs": [],
   "source": [
    "D, D_2 = Generalized_Gower_Distance(Data=Data_mixed, p1=6, p2=4, p3=3, d1='Minkowski', q=1, d2='Jaccard', d3='Matching', Related_Metric_Scaling=True, SVD=True)"
   ]
  },
  {
   "cell_type": "code",
   "execution_count": null,
   "metadata": {},
   "outputs": [],
   "source": [
    "D"
   ]
  },
  {
   "cell_type": "code",
   "execution_count": null,
   "metadata": {},
   "outputs": [],
   "source": [
    "D_2"
   ]
  },
  {
   "attachments": {},
   "cell_type": "markdown",
   "metadata": {},
   "source": [
    "Usando Spectral Decomposition"
   ]
  },
  {
   "cell_type": "code",
   "execution_count": 194,
   "metadata": {},
   "outputs": [
    {
     "name": "stdout",
     "output_type": "stream",
     "text": [
      "G_1 no es semi-definida positiva --> No puede aplicarse SVD para calcular la raiz G_1\n"
     ]
    }
   ],
   "source": [
    "v1 = Generalized_Gower_Distance(Data=Data_mixed, p1=6, p2=4, p3=3, d1='Minkowski', q=1, d2='Jaccard', d3='Matching', Related_Metric_Scaling=True, Spectral_Decomposition=True, tol=0.001)"
   ]
  },
  {
   "cell_type": "code",
   "execution_count": 195,
   "metadata": {},
   "outputs": [
    {
     "data": {
      "text/plain": [
       "array([ 1.90499713e+03,  4.89408971e-03, -4.04200164e-03, ...,\n",
       "        0.00000000e+00,  0.00000000e+00,  0.00000000e+00])"
      ]
     },
     "execution_count": 195,
     "metadata": {},
     "output_type": "execute_result"
    }
   ],
   "source": [
    "v1"
   ]
  },
  {
   "cell_type": "code",
   "execution_count": 196,
   "metadata": {},
   "outputs": [
    {
     "data": {
      "text/plain": [
       "[-0.004042001637253629,\n",
       " -0.0035760979615581836,\n",
       " -0.00207117733672013,\n",
       " -0.0015762162239228508]"
      ]
     },
     "execution_count": 196,
     "metadata": {},
     "output_type": "execute_result"
    }
   ],
   "source": [
    "v1_neg = [x  for x in v1  if x < 0]\n",
    "v1_neg # Los autovalores que son negativos son pocos y aprox cero --> relajando la tolerancia de la función los aproximara a cero y no esquivaremos el problema."
   ]
  },
  {
   "cell_type": "code",
   "execution_count": 197,
   "metadata": {},
   "outputs": [],
   "source": [
    "# Los autovalores que son negativos son pocos y aprox cero --> relajando la tolerancia de la función los aproximara a cero y no esquivaremos el problema.\n",
    "D, D_2 = Generalized_Gower_Distance(Data=Data_mixed, p1=6, p2=4, p3=3, d1='Minkowski', q=1, d2='Jaccard', d3='Matching', Related_Metric_Scaling=True, Spectral_Decomposition=True, tol=0.005)"
   ]
  },
  {
   "cell_type": "code",
   "execution_count": 198,
   "metadata": {},
   "outputs": [
    {
     "data": {
      "text/plain": [
       "array([[0.        , 1.38300942, 2.10742566, ..., 1.38387041, 2.14012593,\n",
       "        1.53477262],\n",
       "       [1.38300936, 0.        , 1.88530539, ..., 0.0171798 , 1.9341132 ,\n",
       "        1.8419014 ],\n",
       "       [2.10742566, 1.88530537, 0.        , ..., 1.89093612, 1.98214197,\n",
       "        2.27457176],\n",
       "       ...,\n",
       "       [1.38387038, 0.01718008, 1.89093612, ..., 0.        , 1.94098351,\n",
       "        1.84876465],\n",
       "       [2.14012593, 1.93411319, 1.98214197, ..., 1.9409835 , 0.        ,\n",
       "        2.26490583],\n",
       "       [1.53477264, 1.8419014 , 2.27457176, ..., 1.84876465, 2.26490583,\n",
       "        0.        ]])"
      ]
     },
     "execution_count": 198,
     "metadata": {},
     "output_type": "execute_result"
    }
   ],
   "source": [
    "D"
   ]
  },
  {
   "cell_type": "code",
   "execution_count": 199,
   "metadata": {},
   "outputs": [
    {
     "data": {
      "text/plain": [
       "array([[0.00000000e+00, 1.91271507e+00, 4.44124292e+00, ...,\n",
       "        1.91509730e+00, 4.58013901e+00, 2.35552699e+00],\n",
       "       [1.91271490e+00, 0.00000000e+00, 3.55437641e+00, ...,\n",
       "        2.95145402e-04, 3.74079386e+00, 3.39260077e+00],\n",
       "       [4.44124291e+00, 3.55437633e+00, 0.00000000e+00, ...,\n",
       "        3.57563940e+00, 3.92888680e+00, 5.17367670e+00],\n",
       "       ...,\n",
       "       [1.91509722e+00, 2.95155311e-04, 3.57563941e+00, ...,\n",
       "        0.00000000e+00, 3.76741697e+00, 3.41793074e+00],\n",
       "       [4.58013898e+00, 3.74079384e+00, 3.92888680e+00, ...,\n",
       "        3.76741696e+00, 0.00000000e+00, 5.12979843e+00],\n",
       "       [2.35552705e+00, 3.39260078e+00, 5.17367669e+00, ...,\n",
       "        3.41793075e+00, 5.12979841e+00, 0.00000000e+00]])"
      ]
     },
     "execution_count": 199,
     "metadata": {},
     "output_type": "execute_result"
    }
   ],
   "source": [
    "D_2"
   ]
  },
  {
   "cell_type": "markdown",
   "metadata": {},
   "source": []
  },
  {
   "attachments": {},
   "cell_type": "markdown",
   "metadata": {},
   "source": [
    "**Prueba 3: canberra, sokal, matching**"
   ]
  },
  {
   "cell_type": "code",
   "execution_count": 236,
   "metadata": {},
   "outputs": [],
   "source": [
    "D, D_2 = Generalized_Gower_Distance(Data=Data_mixed, p1=6, p2=4, p3=3, d1='Canberra', d2='Sokal', d3='Matching', Related_Metric_Scaling=False)"
   ]
  },
  {
   "cell_type": "code",
   "execution_count": 237,
   "metadata": {},
   "outputs": [
    {
     "data": {
      "text/plain": [
       "array([[0.        , 1.49213817, 2.88270757, ..., 1.88481011, 2.49113652,\n",
       "        1.561429  ],\n",
       "       [1.49213817, 0.        , 2.45151601, ..., 0.75849366, 2.53248453,\n",
       "        2.11678825],\n",
       "       [2.88270757, 2.45151601, 0.        , ..., 2.1919002 , 3.32687958,\n",
       "        3.00584616],\n",
       "       ...,\n",
       "       [1.88481011, 0.75849366, 2.1919002 , ..., 0.        , 2.96677419,\n",
       "        2.60394159],\n",
       "       [2.49113652, 2.53248453, 3.32687958, ..., 2.96677419, 0.        ,\n",
       "        2.55315462],\n",
       "       [1.561429  , 2.11678825, 3.00584616, ..., 2.60394159, 2.55315462,\n",
       "        0.        ]])"
      ]
     },
     "execution_count": 237,
     "metadata": {},
     "output_type": "execute_result"
    }
   ],
   "source": [
    "D"
   ]
  },
  {
   "cell_type": "code",
   "execution_count": 238,
   "metadata": {},
   "outputs": [
    {
     "data": {
      "text/plain": [
       "array([[ 0.        ,  2.22647631,  8.31000296, ...,  3.55250914,\n",
       "         6.20576117,  2.43806053],\n",
       "       [ 2.22647631,  0.        ,  6.00993074, ...,  0.57531263,\n",
       "         6.41347791,  4.4807925 ],\n",
       "       [ 8.31000296,  6.00993074,  0.        , ...,  4.8044265 ,\n",
       "        11.06812776,  9.03511111],\n",
       "       ...,\n",
       "       [ 3.55250914,  0.57531263,  4.8044265 , ...,  0.        ,\n",
       "         8.80174907,  6.78051182],\n",
       "       [ 6.20576117,  6.41347791, 11.06812776, ...,  8.80174907,\n",
       "         0.        ,  6.51859853],\n",
       "       [ 2.43806053,  4.4807925 ,  9.03511111, ...,  6.78051182,\n",
       "         6.51859853,  0.        ]])"
      ]
     },
     "execution_count": 238,
     "metadata": {},
     "output_type": "execute_result"
    }
   ],
   "source": [
    "D_2"
   ]
  },
  {
   "cell_type": "markdown",
   "metadata": {},
   "source": []
  },
  {
   "attachments": {},
   "cell_type": "markdown",
   "metadata": {},
   "source": [
    "**Prueba 3b: canberra, sokal, matching con related metric scaling**"
   ]
  },
  {
   "attachments": {},
   "cell_type": "markdown",
   "metadata": {},
   "source": [
    "Usando SVD"
   ]
  },
  {
   "cell_type": "code",
   "execution_count": 239,
   "metadata": {},
   "outputs": [],
   "source": [
    "D, D_2  = Generalized_Gower_Distance(Data=Data_mixed, p1=6, p2=4, p3=3, d1='Canberra', d2='Sokal', d3='Matching', Related_Metric_Scaling=True, SVD=True)"
   ]
  },
  {
   "cell_type": "code",
   "execution_count": 240,
   "metadata": {},
   "outputs": [
    {
     "data": {
      "text/plain": [
       "array([[0.        , 1.49287294, 2.88702518, ..., 1.8945527 , 2.48089834,\n",
       "        1.54706073],\n",
       "       [1.49287287, 0.        , 2.44668358, ..., 0.75849379, 2.52325422,\n",
       "        2.11032565],\n",
       "       [2.88702518, 2.44668364, 0.        , ..., 2.20166305, 3.33466595,\n",
       "        3.01114146],\n",
       "       ...,\n",
       "       [1.8945527 , 0.75849369, 2.20166308, ..., 0.        , 2.97210111,\n",
       "        2.60939166],\n",
       "       [2.48089834, 2.52325423, 3.33466596, ..., 2.97210111, 0.        ,\n",
       "        2.55748073],\n",
       "       [1.54706077, 2.11032566, 3.01114146, ..., 2.60939165, 2.55748073,\n",
       "        0.        ]])"
      ]
     },
     "execution_count": 240,
     "metadata": {},
     "output_type": "execute_result"
    }
   ],
   "source": [
    "D"
   ]
  },
  {
   "attachments": {},
   "cell_type": "markdown",
   "metadata": {},
   "source": [
    "Usando Spectral Decomposition"
   ]
  },
  {
   "cell_type": "code",
   "execution_count": 244,
   "metadata": {},
   "outputs": [
    {
     "name": "stdout",
     "output_type": "stream",
     "text": [
      "G_1 no es semi-definida positiva --> No puede aplicarse la descomposición espectral para calcular la raiz G_1\n"
     ]
    }
   ],
   "source": [
    "v1 = Generalized_Gower_Distance(Data=Data_mixed, p1=6, p2=4, p3=3, d1='Canberra', d2='Sokal', d3='Matching', Related_Metric_Scaling=True, Spectral_Decomposition=True)"
   ]
  },
  {
   "cell_type": "code",
   "execution_count": 245,
   "metadata": {},
   "outputs": [
    {
     "data": {
      "text/plain": [
       "array([1340.52631152,  349.09626453,  112.69879083, ...,    0.        ,\n",
       "          0.        ,    0.        ])"
      ]
     },
     "execution_count": 245,
     "metadata": {},
     "output_type": "execute_result"
    }
   ],
   "source": [
    "v1"
   ]
  },
  {
   "cell_type": "code",
   "execution_count": 247,
   "metadata": {},
   "outputs": [
    {
     "data": {
      "text/plain": [
       "[-48.701957445581634,\n",
       " -34.519294671799116,\n",
       " -26.159901623657728,\n",
       " -18.804394265356535,\n",
       " -17.18619224247488]"
      ]
     },
     "execution_count": 247,
     "metadata": {},
     "output_type": "execute_result"
    }
   ],
   "source": [
    "v1_neg = [x  for x in v1  if x < 0]\n",
    "v1_neg[0:5] # Los autovalores que son negativos son pocos y aprox cero --> relajando la tolerancia de la función los aproximara a cero y no esquivaremos el problema."
   ]
  },
  {
   "cell_type": "markdown",
   "metadata": {},
   "source": []
  },
  {
   "attachments": {},
   "cell_type": "markdown",
   "metadata": {},
   "source": [
    "**Prueba 4: pearson, sokal, matching**"
   ]
  },
  {
   "cell_type": "code",
   "execution_count": 248,
   "metadata": {},
   "outputs": [],
   "source": [
    "D, D_2 = Generalized_Gower_Distance(Data=Data_mixed, p1=6, p2=4, p3=3, d1='Pearson', d2='Sokal', d3='Matching', Related_Metric_Scaling=False)"
   ]
  },
  {
   "cell_type": "code",
   "execution_count": 249,
   "metadata": {},
   "outputs": [
    {
     "data": {
      "text/plain": [
       "array([[0.        , 1.46789605, 2.81673021, ..., 2.44877134, 2.45260838,\n",
       "        1.43440281],\n",
       "       [1.46789605, 0.        , 2.50679613, ..., 1.81236863, 2.29994175,\n",
       "        1.81543038],\n",
       "       [2.81673021, 2.50679613, 0.        , ..., 2.65426016, 3.30560532,\n",
       "        2.97954497],\n",
       "       ...,\n",
       "       [2.44877134, 1.81236863, 2.65426016, ..., 0.        , 2.87687296,\n",
       "        2.69355039],\n",
       "       [2.45260838, 2.29994175, 3.30560532, ..., 2.87687296, 0.        ,\n",
       "        2.59020392],\n",
       "       [1.43440281, 1.81543038, 2.97954497, ..., 2.69355039, 2.59020392,\n",
       "        0.        ]])"
      ]
     },
     "execution_count": 249,
     "metadata": {},
     "output_type": "execute_result"
    }
   ],
   "source": [
    "D"
   ]
  },
  {
   "cell_type": "code",
   "execution_count": 250,
   "metadata": {},
   "outputs": [
    {
     "data": {
      "text/plain": [
       "array([[ 0.        ,  2.15471882,  7.93396908, ...,  5.99648106,\n",
       "         6.01528788,  2.05751141],\n",
       "       [ 2.15471882,  0.        ,  6.28402681, ...,  3.28468005,\n",
       "         5.28973207,  3.29578746],\n",
       "       [ 7.93396908,  6.28402681,  0.        , ...,  7.045097  ,\n",
       "        10.92702656,  8.8776882 ],\n",
       "       ...,\n",
       "       [ 5.99648106,  3.28468005,  7.045097  , ...,  0.        ,\n",
       "         8.27639802,  7.25521369],\n",
       "       [ 6.01528788,  5.28973207, 10.92702656, ...,  8.27639802,\n",
       "         0.        ,  6.70915635],\n",
       "       [ 2.05751141,  3.29578746,  8.8776882 , ...,  7.25521369,\n",
       "         6.70915635,  0.        ]])"
      ]
     },
     "execution_count": 250,
     "metadata": {},
     "output_type": "execute_result"
    }
   ],
   "source": [
    "D_2"
   ]
  },
  {
   "cell_type": "markdown",
   "metadata": {},
   "source": []
  },
  {
   "attachments": {},
   "cell_type": "markdown",
   "metadata": {},
   "source": [
    "**Prueba 4b: pearson, sokal, matching con related metric scaling**"
   ]
  },
  {
   "attachments": {},
   "cell_type": "markdown",
   "metadata": {},
   "source": [
    "Usando SVD"
   ]
  },
  {
   "cell_type": "code",
   "execution_count": 251,
   "metadata": {},
   "outputs": [],
   "source": [
    "D, D_2 = Generalized_Gower_Distance(Data=Data_mixed, p1=6, p2=4, p3=3, d1='Pearson', d2='Sokal', d3='Matching', Related_Metric_Scaling=True, SVD=True)"
   ]
  },
  {
   "cell_type": "code",
   "execution_count": 252,
   "metadata": {},
   "outputs": [
    {
     "data": {
      "text/plain": [
       "array([[0.        , 1.46616714, 2.81571032, ..., 2.4354195 , 2.43809201,\n",
       "        1.4307184 ],\n",
       "       [1.46616711, 0.        , 2.50734836, ..., 1.81236865, 2.30107761,\n",
       "        1.81694308],\n",
       "       [2.81571031, 2.50734828, 0.        , ..., 2.66291304, 3.29089888,\n",
       "        2.98327624],\n",
       "       ...,\n",
       "       [2.4354195 , 1.81236864, 2.66291305, ..., 0.        , 2.87103708,\n",
       "        2.68364527],\n",
       "       [2.438092  , 2.30107762, 3.29089888, ..., 2.87103707, 0.        ,\n",
       "        2.59030597],\n",
       "       [1.43071842, 1.81694308, 2.98327624, ..., 2.68364526, 2.59030597,\n",
       "        0.        ]])"
      ]
     },
     "execution_count": 252,
     "metadata": {},
     "output_type": "execute_result"
    }
   ],
   "source": [
    "D"
   ]
  },
  {
   "attachments": {},
   "cell_type": "markdown",
   "metadata": {},
   "source": [
    "Usando Spectral Decomposition"
   ]
  },
  {
   "cell_type": "code",
   "execution_count": 253,
   "metadata": {},
   "outputs": [],
   "source": [
    "D, D_2 = Generalized_Gower_Distance(Data=Data_mixed, p1=6, p2=4, p3=3, d1='Pearson', d2='Sokal', d3='Matching', Related_Metric_Scaling=True, Spectral_Decomposition=True)"
   ]
  },
  {
   "cell_type": "code",
   "execution_count": 254,
   "metadata": {},
   "outputs": [
    {
     "data": {
      "text/plain": [
       "array([[0.        , 1.46616713, 2.81571033, ..., 2.43541948, 2.438092  ,\n",
       "        1.43071841],\n",
       "       [1.46616713, 0.        , 2.5073483 , ..., 1.81236863, 2.30107761,\n",
       "        1.8169431 ],\n",
       "       [2.81571033, 2.5073483 , 0.        , ..., 2.66291305, 3.29089888,\n",
       "        2.98327625],\n",
       "       ...,\n",
       "       [2.43541948, 1.81236863, 2.66291305, ..., 0.        , 2.87103708,\n",
       "        2.68364526],\n",
       "       [2.438092  , 2.30107761, 3.29089888, ..., 2.87103708, 0.        ,\n",
       "        2.59030597],\n",
       "       [1.43071841, 1.8169431 , 2.98327625, ..., 2.68364526, 2.59030597,\n",
       "        0.        ]])"
      ]
     },
     "execution_count": 254,
     "metadata": {},
     "output_type": "execute_result"
    }
   ],
   "source": [
    "D"
   ]
  },
  {
   "cell_type": "markdown",
   "metadata": {},
   "source": []
  },
  {
   "attachments": {},
   "cell_type": "markdown",
   "metadata": {},
   "source": [
    "**Prueba 5: mahalanobis, sokal, matching**"
   ]
  },
  {
   "cell_type": "code",
   "execution_count": 255,
   "metadata": {},
   "outputs": [],
   "source": [
    "D, D_2 = Generalized_Gower_Distance(Data=Data_mixed, p1=6, p2=4, p3=3, d1='Mahalanobis', d2='Sokal', d3='Matching', Related_Metric_Scaling=False)"
   ]
  },
  {
   "cell_type": "code",
   "execution_count": 256,
   "metadata": {},
   "outputs": [
    {
     "data": {
      "text/plain": [
       "array([[0.        , 1.62899371, 2.82106712, ..., 2.30421398, 2.53943428,\n",
       "        1.4536555 ],\n",
       "       [1.62899371, 0.        , 2.78628019, ..., 2.01458269, 2.4188922 ,\n",
       "        1.90259793],\n",
       "       [2.82106712, 2.78628019, 0.        , ..., 2.50658252, 3.2061733 ,\n",
       "        2.87327643],\n",
       "       ...,\n",
       "       [2.30421398, 2.01458269, 2.50658252, ..., 0.        , 2.59701914,\n",
       "        2.38419184],\n",
       "       [2.53943428, 2.4188922 , 3.2061733 , ..., 2.59701914, 0.        ,\n",
       "        2.62068909],\n",
       "       [1.4536555 , 1.90259793, 2.87327643, ..., 2.38419184, 2.62068909,\n",
       "        0.        ]])"
      ]
     },
     "execution_count": 256,
     "metadata": {},
     "output_type": "execute_result"
    }
   ],
   "source": [
    "D"
   ]
  },
  {
   "cell_type": "code",
   "execution_count": 257,
   "metadata": {},
   "outputs": [
    {
     "data": {
      "text/plain": [
       "array([[ 0.        ,  2.65362051,  7.9584197 , ...,  5.30940207,\n",
       "         6.44872647,  2.1131143 ],\n",
       "       [ 2.65362051,  0.        ,  7.76335727, ...,  4.05854342,\n",
       "         5.85103947,  3.61987889],\n",
       "       [ 7.9584197 ,  7.76335727,  0.        , ...,  6.28295592,\n",
       "        10.27954725,  8.25571743],\n",
       "       ...,\n",
       "       [ 5.30940207,  4.05854342,  6.28295592, ...,  0.        ,\n",
       "         6.74450839,  5.68437075],\n",
       "       [ 6.44872647,  5.85103947, 10.27954725, ...,  6.74450839,\n",
       "         0.        ,  6.8680113 ],\n",
       "       [ 2.1131143 ,  3.61987889,  8.25571743, ...,  5.68437075,\n",
       "         6.8680113 ,  0.        ]])"
      ]
     },
     "execution_count": 257,
     "metadata": {},
     "output_type": "execute_result"
    }
   ],
   "source": [
    "D_2"
   ]
  },
  {
   "cell_type": "markdown",
   "metadata": {},
   "source": []
  },
  {
   "attachments": {},
   "cell_type": "markdown",
   "metadata": {},
   "source": [
    "**Prueba 5b: mahalanobis, sokal, matching con related metric scaling**"
   ]
  },
  {
   "attachments": {},
   "cell_type": "markdown",
   "metadata": {},
   "source": [
    "Usando SVD"
   ]
  },
  {
   "cell_type": "code",
   "execution_count": 261,
   "metadata": {},
   "outputs": [],
   "source": [
    "D, D_2 = Generalized_Gower_Distance(Data=Data_mixed, p1=6, p2=4, p3=3, d1='Mahalanobis', d2='Sokal', d3='Matching', Related_Metric_Scaling=True, SVD=True)"
   ]
  },
  {
   "cell_type": "code",
   "execution_count": 262,
   "metadata": {},
   "outputs": [
    {
     "data": {
      "text/plain": [
       "array([[0.        , 1.62781657, 2.82449507, ..., 2.28816991, 2.51851671,\n",
       "        1.44852485],\n",
       "       [1.62781657, 0.        , 2.78717254, ..., 2.01458271, 2.41854135,\n",
       "        1.90612759],\n",
       "       [2.82449507, 2.78717248, 0.        , ..., 2.51068091, 3.18612467,\n",
       "        2.88034668],\n",
       "       ...,\n",
       "       [2.28816992, 2.01458269, 2.51068091, ..., 0.        , 2.58079265,\n",
       "        2.37446782],\n",
       "       [2.51851672, 2.41854135, 3.18612466, ..., 2.58079265, 0.        ,\n",
       "        2.61963194],\n",
       "       [1.44852487, 1.90612758, 2.88034667, ..., 2.37446781, 2.61963194,\n",
       "        0.        ]])"
      ]
     },
     "execution_count": 262,
     "metadata": {},
     "output_type": "execute_result"
    }
   ],
   "source": [
    "D"
   ]
  },
  {
   "cell_type": "code",
   "execution_count": 263,
   "metadata": {},
   "outputs": [
    {
     "data": {
      "text/plain": [
       "array([[ 0.        ,  2.64978679,  7.97777238, ...,  5.23572155,\n",
       "         6.34292644,  2.09822424],\n",
       "       [ 2.64978679,  0.        ,  7.76833077, ...,  4.05854352,\n",
       "         5.84934226,  3.63332238],\n",
       "       [ 7.97777237,  7.76833044,  0.        , ...,  6.30351865,\n",
       "        10.15139043,  8.29639699],\n",
       "       ...,\n",
       "       [ 5.23572158,  4.05854342,  6.30351865, ...,  0.        ,\n",
       "         6.66049071,  5.63809741],\n",
       "       [ 6.34292645,  5.84934225, 10.15139037, ...,  6.6604907 ,\n",
       "         0.        ,  6.86247151],\n",
       "       [ 2.09822429,  3.63332234,  8.29639697, ...,  5.63809739,\n",
       "         6.86247152,  0.        ]])"
      ]
     },
     "execution_count": 263,
     "metadata": {},
     "output_type": "execute_result"
    }
   ],
   "source": [
    "D_2"
   ]
  },
  {
   "attachments": {},
   "cell_type": "markdown",
   "metadata": {},
   "source": [
    "Usando Spectral Decomposition"
   ]
  },
  {
   "cell_type": "code",
   "execution_count": 264,
   "metadata": {},
   "outputs": [],
   "source": [
    "D, D_2 = Generalized_Gower_Distance(Data=Data_mixed, p1=6, p2=4, p3=3, d1='Mahalanobis', d2='Sokal', d3='Matching', Related_Metric_Scaling=True, Spectral_Decomposition=True)"
   ]
  },
  {
   "cell_type": "code",
   "execution_count": 265,
   "metadata": {},
   "outputs": [
    {
     "data": {
      "text/plain": [
       "array([[0.        , 1.62711384, 2.82381402, ..., 2.28687429, 2.51575315,\n",
       "        1.44887962],\n",
       "       [1.62711384, 0.        , 2.78690991, ..., 2.01458269, 2.41668631,\n",
       "        1.90567537],\n",
       "       [2.82381402, 2.78690991, 0.        , ..., 2.50898865, 3.18589081,\n",
       "        2.8788559 ],\n",
       "       ...,\n",
       "       [2.28687429, 2.01458269, 2.50898865, ..., 0.        , 2.58153217,\n",
       "        2.37369393],\n",
       "       [2.51575315, 2.41668631, 3.18589081, ..., 2.58153217, 0.        ,\n",
       "        2.61842751],\n",
       "       [1.44887962, 1.90567537, 2.8788559 , ..., 2.37369393, 2.61842751,\n",
       "        0.        ]])"
      ]
     },
     "execution_count": 265,
     "metadata": {},
     "output_type": "execute_result"
    }
   ],
   "source": [
    "D"
   ]
  },
  {
   "cell_type": "markdown",
   "metadata": {},
   "source": []
  },
  {
   "attachments": {},
   "cell_type": "markdown",
   "metadata": {},
   "source": [
    "**Prueba 6: mahalanobis, jaccard, matching**"
   ]
  },
  {
   "cell_type": "code",
   "execution_count": 266,
   "metadata": {},
   "outputs": [],
   "source": [
    "D, D_2 = Generalized_Gower_Distance(Data=Data_mixed, p1=6, p2=4, p3=3, d1='Mahalanobis', d2='Jaccard', d3='Matching', Related_Metric_Scaling=False)"
   ]
  },
  {
   "cell_type": "code",
   "execution_count": 267,
   "metadata": {},
   "outputs": [
    {
     "data": {
      "text/plain": [
       "array([[0.        , 1.62899371, 2.55778694, ..., 2.30421398, 2.24334143,\n",
       "        1.4536555 ],\n",
       "       [1.62899371, 0.        , 2.5193673 , ..., 2.01458269, 2.10591875,\n",
       "        1.90259793],\n",
       "       [2.55778694, 2.5193673 , 0.        , ..., 2.20608482, 2.44166753,\n",
       "        2.61525749],\n",
       "       ...,\n",
       "       [2.30421398, 2.01458269, 2.20608482, ..., 0.        , 2.30832465,\n",
       "        2.38419184],\n",
       "       [2.24334143, 2.10591875, 2.44166753, ..., 2.30832465, 0.        ,\n",
       "        2.33492304],\n",
       "       [1.4536555 , 1.90259793, 2.61525749, ..., 2.38419184, 2.33492304,\n",
       "        0.        ]])"
      ]
     },
     "execution_count": 267,
     "metadata": {},
     "output_type": "execute_result"
    }
   ],
   "source": [
    "D"
   ]
  },
  {
   "cell_type": "code",
   "execution_count": 341,
   "metadata": {},
   "outputs": [
    {
     "data": {
      "text/plain": [
       "array([[0.        , 2.65362051, 6.54227401, ..., 5.30940207, 5.03258078,\n",
       "        2.1131143 ],\n",
       "       [2.65362051, 0.        , 6.34721158, ..., 4.05854342, 4.43489378,\n",
       "        3.61987889],\n",
       "       [6.54227401, 6.34721158, 0.        , ..., 4.86681023, 5.96174031,\n",
       "        6.83957174],\n",
       "       ...,\n",
       "       [5.30940207, 4.05854342, 4.86681023, ..., 0.        , 5.3283627 ,\n",
       "        5.68437075],\n",
       "       [5.03258078, 4.43489378, 5.96174031, ..., 5.3283627 , 0.        ,\n",
       "        5.45186561],\n",
       "       [2.1131143 , 3.61987889, 6.83957174, ..., 5.68437075, 5.45186561,\n",
       "        0.        ]])"
      ]
     },
     "execution_count": 341,
     "metadata": {},
     "output_type": "execute_result"
    }
   ],
   "source": [
    "D_2"
   ]
  },
  {
   "cell_type": "markdown",
   "metadata": {},
   "source": []
  },
  {
   "attachments": {},
   "cell_type": "markdown",
   "metadata": {},
   "source": [
    "**Prueba 6: mahalanobis, jaccard, matching con related metric scaling**"
   ]
  },
  {
   "attachments": {},
   "cell_type": "markdown",
   "metadata": {},
   "source": [
    "Usando SVD"
   ]
  },
  {
   "cell_type": "code",
   "execution_count": null,
   "metadata": {},
   "outputs": [],
   "source": [
    "D, D_2 = Generalized_Gower_Distance(Data=Data_mixed, p1=6, p2=4, p3=3, d1='Mahalanobis', d2='Jaccard', d3='Matching', Related_Metric_Scaling=True, SVD=True)"
   ]
  },
  {
   "cell_type": "code",
   "execution_count": null,
   "metadata": {},
   "outputs": [],
   "source": [
    "D"
   ]
  },
  {
   "cell_type": "code",
   "execution_count": null,
   "metadata": {},
   "outputs": [],
   "source": [
    "D_2"
   ]
  },
  {
   "attachments": {},
   "cell_type": "markdown",
   "metadata": {},
   "source": [
    "Usando Spectral Decomposition"
   ]
  },
  {
   "cell_type": "code",
   "execution_count": null,
   "metadata": {},
   "outputs": [],
   "source": [
    "D, D_2 = Generalized_Gower_Distance(Data=Data_mixed, p1=6, p2=4, p3=3, d1='Mahalanobis', d2='Jaccard', d3='Matching', Related_Metric_Scaling=True, Spectral_Decomposition=True)"
   ]
  },
  {
   "cell_type": "markdown",
   "metadata": {},
   "source": []
  },
  {
   "cell_type": "markdown",
   "metadata": {},
   "source": []
  },
  {
   "attachments": {},
   "cell_type": "markdown",
   "metadata": {},
   "source": [
    "# Distancia de Mahalanobis Robusta"
   ]
  },
  {
   "attachments": {},
   "cell_type": "markdown",
   "metadata": {},
   "source": [
    "## Estimacion Robusta de la varianza"
   ]
  },
  {
   "attachments": {},
   "cell_type": "markdown",
   "metadata": {},
   "source": [
    "### Metodo 1: MAD"
   ]
  },
  {
   "attachments": {},
   "cell_type": "markdown",
   "metadata": {},
   "source": [
    "Estimacion robusta de la varianza de X_j es MAD(X_j)^2"
   ]
  },
  {
   "cell_type": "code",
   "execution_count": 61,
   "metadata": {},
   "outputs": [],
   "source": [
    "def MAD(Variable_name, Data) :\n",
    "\n",
    "   MAD = np.median( np.abs( Data[Variable_name] - np.median(Data[Variable_name]) ) )\n",
    "\n",
    "   return MAD"
   ]
  },
  {
   "cell_type": "code",
   "execution_count": 62,
   "metadata": {},
   "outputs": [
    {
     "data": {
      "text/plain": [
       "600000.0"
      ]
     },
     "execution_count": 62,
     "metadata": {},
     "output_type": "execute_result"
    }
   ],
   "source": [
    "MAD(Variable_name='price', Data=Data)"
   ]
  },
  {
   "cell_type": "markdown",
   "metadata": {},
   "source": []
  },
  {
   "attachments": {},
   "cell_type": "markdown",
   "metadata": {},
   "source": [
    "### Metodo 2: Trimmed variance"
   ]
  },
  {
   "cell_type": "code",
   "execution_count": 63,
   "metadata": {},
   "outputs": [],
   "source": [
    "def Variable_alpha_trimmed(Variable_name, Data, alpha) :\n",
    " \n",
    "    lower_bound = Data[Variable_name].quantile(q = alpha/2)\n",
    "    upper_bound = Data[Variable_name].quantile(q = 1 - alpha/2)\n",
    "\n",
    "    result = Data.loc[ ( Data[Variable_name] >= lower_bound ) & ( Data[Variable_name] <= upper_bound ) , Variable_name ]\n",
    "\n",
    "    return result"
   ]
  },
  {
   "cell_type": "code",
   "execution_count": 64,
   "metadata": {},
   "outputs": [
    {
     "data": {
      "text/plain": [
       "0       2700000\n",
       "1       2850000\n",
       "2       1150000\n",
       "3       2850000\n",
       "4       1729200\n",
       "         ...   \n",
       "1900    1500000\n",
       "1901    1230000\n",
       "1902    2900000\n",
       "1903     675000\n",
       "1904     760887\n",
       "Name: price, Length: 1714, dtype: int64"
      ]
     },
     "execution_count": 64,
     "metadata": {},
     "output_type": "execute_result"
    }
   ],
   "source": [
    "Variable_alpha_trimmed(Variable_name='price', Data=Data, alpha=0.1)"
   ]
  },
  {
   "cell_type": "markdown",
   "metadata": {},
   "source": []
  },
  {
   "attachments": {},
   "cell_type": "markdown",
   "metadata": {},
   "source": [
    "### Metodo 3: Winsorized variance\n"
   ]
  },
  {
   "cell_type": "code",
   "execution_count": 65,
   "metadata": {},
   "outputs": [],
   "source": [
    "def Variable_alpha_winsorized(Variable_name, Data, alpha) :\n",
    "\n",
    "    lower_bound = Data[Variable_name].quantile(q=alpha/2)\n",
    "    upper_bound = Data[Variable_name].quantile(q=1-alpha/2)\n",
    "\n",
    "    A = Data.loc[ Data[Variable_name] <= lower_bound, Variable_name ]\n",
    "    B = Data.loc[ Data[Variable_name] >= upper_bound, Variable_name ]\n",
    "\n",
    "    a = np.min( Data.loc[ Data[Variable_name] > Data[Variable_name].quantile(alpha/2) , Variable_name] )\n",
    "    b = np.max( Data.loc[ Data[Variable_name] < Data[Variable_name].quantile(1-alpha/2) , Variable_name] )\n",
    "\n",
    "    def g(x):\n",
    "\n",
    "        # x in A no funciona bien al no ser A una lista sino un array.\n",
    "        # Para solucionarlo usamos A.tolist() que es una lista con los elementos del array A.\n",
    "        # Idem para B.\n",
    "\n",
    "        if x in A.tolist() : result = a \n",
    "        elif x in B.tolist() : result = b\n",
    "        else : result = x\n",
    "\n",
    "        return result\n",
    "    \n",
    "    variable_alpha_winsorized = Data[Variable_name].apply(g)\n",
    "\n",
    "    return variable_alpha_winsorized"
   ]
  },
  {
   "cell_type": "code",
   "execution_count": 66,
   "metadata": {},
   "outputs": [],
   "source": [
    "variable_alpha_winsorized = Variable_alpha_winsorized(Variable_name='price', Data=Data, alpha=0.1)"
   ]
  },
  {
   "cell_type": "code",
   "execution_count": 67,
   "metadata": {},
   "outputs": [
    {
     "data": {
      "text/plain": [
       "0       2700000\n",
       "1       2850000\n",
       "2       1150000\n",
       "3       2850000\n",
       "4       1729200\n",
       "         ...   \n",
       "1900    1500000\n",
       "1901    1230000\n",
       "1902    2900000\n",
       "1903     675000\n",
       "1904     760887\n",
       "Name: price, Length: 1905, dtype: int64"
      ]
     },
     "execution_count": 67,
     "metadata": {},
     "output_type": "execute_result"
    }
   ],
   "source": [
    "variable_alpha_winsorized"
   ]
  },
  {
   "cell_type": "code",
   "execution_count": 68,
   "metadata": {},
   "outputs": [
    {
     "data": {
      "text/plain": [
       "1744555.8761154856"
      ]
     },
     "execution_count": 68,
     "metadata": {},
     "output_type": "execute_result"
    }
   ],
   "source": [
    "variable_alpha_winsorized.mean()"
   ]
  },
  {
   "cell_type": "code",
   "execution_count": 69,
   "metadata": {},
   "outputs": [
    {
     "data": {
      "text/plain": [
       "2085829.8734908137"
      ]
     },
     "execution_count": 69,
     "metadata": {},
     "output_type": "execute_result"
    }
   ],
   "source": [
    "Data['price'].mean()"
   ]
  },
  {
   "cell_type": "code",
   "execution_count": 70,
   "metadata": {},
   "outputs": [
    {
     "data": {
      "text/plain": [
       "1150822.5577375696"
      ]
     },
     "execution_count": 70,
     "metadata": {},
     "output_type": "execute_result"
    }
   ],
   "source": [
    "variable_alpha_winsorized.std()"
   ]
  },
  {
   "cell_type": "code",
   "execution_count": 71,
   "metadata": {},
   "outputs": [
    {
     "data": {
      "text/plain": [
       "2913199.9615041506"
      ]
     },
     "execution_count": 71,
     "metadata": {},
     "output_type": "execute_result"
    }
   ],
   "source": [
    "Data['price'].std()"
   ]
  },
  {
   "cell_type": "markdown",
   "metadata": {},
   "source": []
  },
  {
   "cell_type": "markdown",
   "metadata": {},
   "source": []
  },
  {
   "attachments": {},
   "cell_type": "markdown",
   "metadata": {},
   "source": [
    "### Robust variance estimation"
   ]
  },
  {
   "cell_type": "code",
   "execution_count": 72,
   "metadata": {},
   "outputs": [],
   "source": [
    "def robust_variance(Variable_name, Data, Method, alpha=None) :\n",
    "\n",
    "    if Method == 'MAD' :\n",
    "\n",
    "        result = MAD(Variable_name, Data)**2\n",
    "\n",
    "    if Method == 'trimmed variance' :\n",
    "\n",
    "        result = np.var( Variable_alpha_trimmed(Variable_name, Data, alpha) )\n",
    "\n",
    "    if Method == 'winsorized variance' :\n",
    "\n",
    "        result = np.var( Variable_alpha_winsorized(Variable_name, Data, alpha) )\n",
    "\n",
    "    return result"
   ]
  },
  {
   "cell_type": "code",
   "execution_count": 73,
   "metadata": {},
   "outputs": [
    {
     "data": {
      "text/plain": [
       "360000000000.0"
      ]
     },
     "execution_count": 73,
     "metadata": {},
     "output_type": "execute_result"
    }
   ],
   "source": [
    "robust_variance(Variable_name='price', Data=Data, Method='MAD')"
   ]
  },
  {
   "cell_type": "code",
   "execution_count": 79,
   "metadata": {},
   "outputs": [
    {
     "data": {
      "text/plain": [
       "'3.60e+11'"
      ]
     },
     "execution_count": 79,
     "metadata": {},
     "output_type": "execute_result"
    }
   ],
   "source": [
    "\"{:.2e}\".format(360000000000.0)"
   ]
  },
  {
   "cell_type": "markdown",
   "metadata": {},
   "source": []
  },
  {
   "cell_type": "code",
   "execution_count": 74,
   "metadata": {},
   "outputs": [
    {
     "data": {
      "text/plain": [
       "832490913271.5988"
      ]
     },
     "execution_count": 74,
     "metadata": {},
     "output_type": "execute_result"
    }
   ],
   "source": [
    "robust_variance(Variable_name='price', Data=Data, Method='trimmed variance', alpha=0.1)"
   ]
  },
  {
   "cell_type": "code",
   "execution_count": 82,
   "metadata": {},
   "outputs": [
    {
     "data": {
      "text/plain": [
       "'8.32e+11'"
      ]
     },
     "execution_count": 82,
     "metadata": {},
     "output_type": "execute_result"
    }
   ],
   "source": [
    "\"{:.2e}\".format(832490913271.5988)"
   ]
  },
  {
   "cell_type": "markdown",
   "metadata": {},
   "source": []
  },
  {
   "cell_type": "code",
   "execution_count": 75,
   "metadata": {},
   "outputs": [
    {
     "data": {
      "text/plain": [
       "1323697340206.3564"
      ]
     },
     "execution_count": 75,
     "metadata": {},
     "output_type": "execute_result"
    }
   ],
   "source": [
    "robust_variance(Variable_name='price', Data=Data, Method='winsorized variance', alpha=0.1)"
   ]
  },
  {
   "cell_type": "code",
   "execution_count": 81,
   "metadata": {},
   "outputs": [
    {
     "data": {
      "text/plain": [
       "'1.32e+12'"
      ]
     },
     "execution_count": 81,
     "metadata": {},
     "output_type": "execute_result"
    }
   ],
   "source": [
    "\"{:.2e}\".format(1323697340206.3564)"
   ]
  },
  {
   "cell_type": "markdown",
   "metadata": {},
   "source": []
  },
  {
   "cell_type": "code",
   "execution_count": 78,
   "metadata": {},
   "outputs": [
    {
     "data": {
      "text/plain": [
       "8486734015707.786"
      ]
     },
     "execution_count": 78,
     "metadata": {},
     "output_type": "execute_result"
    }
   ],
   "source": [
    "Data['price'].var()"
   ]
  },
  {
   "cell_type": "code",
   "execution_count": 80,
   "metadata": {},
   "outputs": [
    {
     "data": {
      "text/plain": [
       "'8.49e+12'"
      ]
     },
     "execution_count": 80,
     "metadata": {},
     "output_type": "execute_result"
    }
   ],
   "source": [
    "\"{:.2e}\".format(8486734015707.786)"
   ]
  },
  {
   "cell_type": "markdown",
   "metadata": {},
   "source": []
  },
  {
   "attachments": {},
   "cell_type": "markdown",
   "metadata": {},
   "source": [
    "## Estimacion Robusta de la matriz de covarianzas"
   ]
  },
  {
   "attachments": {},
   "cell_type": "markdown",
   "metadata": {},
   "source": [
    "### Estimacion robusta de la covarianza"
   ]
  },
  {
   "cell_type": "code",
   "execution_count": 83,
   "metadata": {},
   "outputs": [],
   "source": [
    "def robust_correlation(Variable_name_1, Variable_name_2, Data, Method, alpha=None) :\n",
    "\n",
    "    New_Data = pd.DataFrame()\n",
    "\n",
    "    New_Data[Variable_name_1 + '_standard'] = Data[Variable_name_1] / np.sqrt( robust_variance(Variable_name_1, Data, Method, alpha) )\n",
    "    New_Data[Variable_name_2 + '_standard'] = Data[Variable_name_2] / np.sqrt( robust_variance(Variable_name_2, Data, Method, alpha) )\n",
    "\n",
    "\n",
    "    New_Data[Variable_name_1 + '_standard' + '+' + Variable_name_2 + '_standard'] = New_Data[Variable_name_1 + '_standard'] + New_Data[Variable_name_2 + '_standard']\n",
    "    New_Data[Variable_name_1 + '_standard' + '-' + Variable_name_2 + '_standard'] = New_Data[Variable_name_1 + '_standard'] - New_Data[Variable_name_2 + '_standard']\n",
    "\n",
    "    robust_var_3 = robust_variance(Data=New_Data, Method=Method, alpha=alpha, Variable_name=Variable_name_1 + '_standard' + '+' + Variable_name_2 + '_standard')\n",
    "    robust_var_4 = robust_variance(Data=New_Data, Method=Method, alpha=alpha, Variable_name=Variable_name_1 + '_standard' + '-' + Variable_name_2 + '_standard')\n",
    "\n",
    "    robust_corr = (robust_var_3 - robust_var_4) / (robust_var_3 + robust_var_4)\n",
    "\n",
    "    return robust_corr\n"
   ]
  },
  {
   "cell_type": "code",
   "execution_count": 84,
   "metadata": {},
   "outputs": [
    {
     "data": {
      "text/plain": [
       "0.7728974930919974"
      ]
     },
     "execution_count": 84,
     "metadata": {},
     "output_type": "execute_result"
    }
   ],
   "source": [
    "robust_correlation(Variable_name_1='price', Variable_name_2='size_in_m_2', Data=Data, Method='trimmed variance', alpha=0.1)"
   ]
  },
  {
   "cell_type": "code",
   "execution_count": 85,
   "metadata": {},
   "outputs": [],
   "source": [
    "def robust_covariance(Variable_name_1, Variable_name_2, Data, Method, alpha=None) :\n",
    "\n",
    "    robust_var_1 = robust_variance(Variable_name=Variable_name_1, Data=Data, Method='trimmed variance', alpha=0.1)\n",
    "    robust_var_2 = robust_variance(Variable_name=Variable_name_2, Data=Data, Method='trimmed variance', alpha=0.1)\n",
    "\n",
    "    robust_corr = robust_correlation(Variable_name_1, Variable_name_2, Data, Method, alpha)\n",
    "\n",
    "    robust_cov = robust_corr * np.sqrt( robust_var_1 * robust_var_2 )\n",
    "\n",
    "    return robust_cov"
   ]
  },
  {
   "cell_type": "code",
   "execution_count": 86,
   "metadata": {},
   "outputs": [
    {
     "data": {
      "text/plain": [
       "34302445.56492977"
      ]
     },
     "execution_count": 86,
     "metadata": {},
     "output_type": "execute_result"
    }
   ],
   "source": [
    "robust_covariance(Variable_name_1='price', Variable_name_2='size_in_m_2', Data=Data, Method='trimmed variance', alpha=0.1)"
   ]
  },
  {
   "cell_type": "markdown",
   "metadata": {},
   "source": []
  },
  {
   "attachments": {},
   "cell_type": "markdown",
   "metadata": {},
   "source": [
    "### Robust covariance matrix"
   ]
  },
  {
   "cell_type": "code",
   "execution_count": 87,
   "metadata": {},
   "outputs": [],
   "source": [
    "def robust_covariance_matrix(Data, Method, alpha):\n",
    "\n",
    "    p = len(Data.columns)\n",
    "\n",
    "    M =  np.empty((p , p))\n",
    "\n",
    "    for i in zip(Data.columns, range(0,p)) :\n",
    "\n",
    "        for j in zip(Data.columns, range(0,p)) :\n",
    "\n",
    "            M[i[1],j[1]] = robust_covariance(Variable_name_1=i[0], Variable_name_2=j[0], Data=Data, Method=Method, alpha=alpha)\n",
    "\n",
    "    M = pd.DataFrame(M, columns=Data.columns, index=Data.columns)\n",
    "\n",
    "    return M    "
   ]
  },
  {
   "cell_type": "code",
   "execution_count": 88,
   "metadata": {},
   "outputs": [
    {
     "data": {
      "text/html": [
       "<div>\n",
       "<style scoped>\n",
       "    .dataframe tbody tr th:only-of-type {\n",
       "        vertical-align: middle;\n",
       "    }\n",
       "\n",
       "    .dataframe tbody tr th {\n",
       "        vertical-align: top;\n",
       "    }\n",
       "\n",
       "    .dataframe thead th {\n",
       "        text-align: right;\n",
       "    }\n",
       "</style>\n",
       "<table border=\"1\" class=\"dataframe\">\n",
       "  <thead>\n",
       "    <tr style=\"text-align: right;\">\n",
       "      <th></th>\n",
       "      <th>latitude</th>\n",
       "      <th>longitude</th>\n",
       "      <th>price</th>\n",
       "      <th>size_in_m_2</th>\n",
       "      <th>no_of_bedrooms</th>\n",
       "      <th>no_of_bathrooms</th>\n",
       "    </tr>\n",
       "  </thead>\n",
       "  <tbody>\n",
       "    <tr>\n",
       "      <th>latitude</th>\n",
       "      <td>0.003010</td>\n",
       "      <td>0.002331</td>\n",
       "      <td>2.065034e+04</td>\n",
       "      <td>4.304446e-01</td>\n",
       "      <td>0.005276</td>\n",
       "      <td>0.006946</td>\n",
       "    </tr>\n",
       "    <tr>\n",
       "      <th>longitude</th>\n",
       "      <td>0.002331</td>\n",
       "      <td>0.003457</td>\n",
       "      <td>1.741264e+03</td>\n",
       "      <td>-2.035948e-01</td>\n",
       "      <td>-0.002405</td>\n",
       "      <td>-0.001723</td>\n",
       "    </tr>\n",
       "    <tr>\n",
       "      <th>price</th>\n",
       "      <td>20650.339163</td>\n",
       "      <td>1741.263535</td>\n",
       "      <td>8.324909e+11</td>\n",
       "      <td>3.430245e+07</td>\n",
       "      <td>521260.097890</td>\n",
       "      <td>536099.808508</td>\n",
       "    </tr>\n",
       "    <tr>\n",
       "      <th>size_in_m_2</th>\n",
       "      <td>0.430445</td>\n",
       "      <td>-0.203595</td>\n",
       "      <td>3.430245e+07</td>\n",
       "      <td>2.366066e+03</td>\n",
       "      <td>35.655187</td>\n",
       "      <td>35.555629</td>\n",
       "    </tr>\n",
       "    <tr>\n",
       "      <th>no_of_bedrooms</th>\n",
       "      <td>0.005276</td>\n",
       "      <td>-0.002405</td>\n",
       "      <td>5.212601e+05</td>\n",
       "      <td>3.565519e+01</td>\n",
       "      <td>0.714918</td>\n",
       "      <td>0.671781</td>\n",
       "    </tr>\n",
       "    <tr>\n",
       "      <th>no_of_bathrooms</th>\n",
       "      <td>0.006946</td>\n",
       "      <td>-0.001723</td>\n",
       "      <td>5.360998e+05</td>\n",
       "      <td>3.555563e+01</td>\n",
       "      <td>0.671781</td>\n",
       "      <td>0.832571</td>\n",
       "    </tr>\n",
       "  </tbody>\n",
       "</table>\n",
       "</div>"
      ],
      "text/plain": [
       "                     latitude    longitude         price   size_in_m_2  \\\n",
       "latitude             0.003010     0.002331  2.065034e+04  4.304446e-01   \n",
       "longitude            0.002331     0.003457  1.741264e+03 -2.035948e-01   \n",
       "price            20650.339163  1741.263535  8.324909e+11  3.430245e+07   \n",
       "size_in_m_2          0.430445    -0.203595  3.430245e+07  2.366066e+03   \n",
       "no_of_bedrooms       0.005276    -0.002405  5.212601e+05  3.565519e+01   \n",
       "no_of_bathrooms      0.006946    -0.001723  5.360998e+05  3.555563e+01   \n",
       "\n",
       "                 no_of_bedrooms  no_of_bathrooms  \n",
       "latitude               0.005276         0.006946  \n",
       "longitude             -0.002405        -0.001723  \n",
       "price             521260.097890    536099.808508  \n",
       "size_in_m_2           35.655187        35.555629  \n",
       "no_of_bedrooms         0.714918         0.671781  \n",
       "no_of_bathrooms        0.671781         0.832571  "
      ]
     },
     "execution_count": 88,
     "metadata": {},
     "output_type": "execute_result"
    }
   ],
   "source": [
    "robust_cov_matrix = robust_covariance_matrix(Data=Data_quant, Method='trimmed variance', alpha=0.1)\n",
    "\n",
    "robust_cov_matrix"
   ]
  },
  {
   "cell_type": "markdown",
   "metadata": {},
   "source": []
  },
  {
   "cell_type": "code",
   "execution_count": 89,
   "metadata": {},
   "outputs": [
    {
     "data": {
      "text/plain": [
       "array([8.32490915e+11, 9.53049654e+02, 3.85400660e-01, 6.00320283e-04,\n",
       "       5.06854415e-03, 8.90165706e-02])"
      ]
     },
     "execution_count": 89,
     "metadata": {},
     "output_type": "execute_result"
    }
   ],
   "source": [
    "np.linalg.eigvals(robust_cov_matrix)"
   ]
  },
  {
   "cell_type": "code",
   "execution_count": 90,
   "metadata": {},
   "outputs": [
    {
     "data": {
      "text/plain": [
       "array([ True,  True,  True,  True,  True,  True])"
      ]
     },
     "execution_count": 90,
     "metadata": {},
     "output_type": "execute_result"
    }
   ],
   "source": [
    "np.linalg.eigvals(robust_cov_matrix) > 0 \n",
    "\n",
    "# Es definida positiva, en teoria, aunque algun autovalor es bastante cercano a cero --> podria ser semi-definida positiva."
   ]
  },
  {
   "cell_type": "markdown",
   "metadata": {},
   "source": []
  },
  {
   "cell_type": "code",
   "execution_count": 91,
   "metadata": {},
   "outputs": [
    {
     "data": {
      "text/plain": [
       "array([[ 1.10747726e+03, -7.12768503e+02, -3.76930562e-05,\n",
       "         1.21561254e-01,  1.23610815e+01, -1.60925879e+00],\n",
       "       [-7.12768503e+02,  7.55450758e+02,  2.01643913e-05,\n",
       "         2.49969085e-02, -8.27393484e+00,  1.34708082e-01],\n",
       "       [-3.76930562e-05,  2.01643913e-05,  4.33755679e-12,\n",
       "        -4.69911282e-08, -2.85097114e-07, -1.99950401e-07],\n",
       "       [ 1.21561254e-01,  2.49969085e-02, -4.69911282e-08,\n",
       "         2.38565469e-03, -7.16467823e-02, -1.47757963e-02],\n",
       "       [ 1.23610815e+01, -8.27393484e+00, -2.85097114e-07,\n",
       "        -7.16467823e-02,  8.79282927e+00, -3.97165571e+00],\n",
       "       [-1.60925879e+00,  1.34708082e-01, -1.99950401e-07,\n",
       "        -1.47757963e-02, -3.97165571e+00,  5.17919539e+00]])"
      ]
     },
     "execution_count": 91,
     "metadata": {},
     "output_type": "execute_result"
    }
   ],
   "source": [
    "np.linalg.inv(robust_cov_matrix) # inversa"
   ]
  },
  {
   "cell_type": "code",
   "execution_count": 92,
   "metadata": {},
   "outputs": [
    {
     "data": {
      "text/plain": [
       "array([[ 7.49823380e+01,  9.57622419e+01, -4.54063866e-06,\n",
       "         5.88424176e-02,  6.18772468e-01, -5.15011951e-01],\n",
       "       [ 9.57622418e+01,  1.22302884e+02, -5.79675225e-06,\n",
       "         7.41110574e-02,  9.21285031e-01, -7.22179686e-01],\n",
       "       [-4.54063865e-06, -5.79675224e-06,  3.27306459e-12,\n",
       "        -4.49772868e-08,  9.19371199e-08, -2.35085612e-07],\n",
       "       [ 5.88424158e-02,  7.41110553e-02, -4.49772867e-08,\n",
       "         2.38184484e-03, -7.23600681e-02, -1.47093263e-02],\n",
       "       [ 6.18772499e-01,  9.21285074e-01,  9.19371178e-08,\n",
       "        -7.23600681e-02,  8.65928690e+00, -3.95921111e+00],\n",
       "       [-5.15011909e-01, -7.22179635e-01, -2.35085615e-07,\n",
       "        -1.47093263e-02, -3.95921111e+00,  5.17803570e+00]])"
      ]
     },
     "execution_count": 92,
     "metadata": {},
     "output_type": "execute_result"
    }
   ],
   "source": [
    "np.linalg.pinv(robust_cov_matrix) # pseudo-inversa"
   ]
  },
  {
   "cell_type": "markdown",
   "metadata": {},
   "source": []
  },
  {
   "attachments": {},
   "cell_type": "markdown",
   "metadata": {},
   "source": [
    "- Si es definida positiva (autovalores > 0) --> tiene inversa\n",
    "\n",
    "- Si es semidefinida positiva (autovalores > 0 y alguno = 0) --> no tienen inversa , pero se puede calcular la g-inversa o pseudo-inversa\n",
    "\n",
    "- Si es no definida positiva (algun autovalor < 0) --> pueden salir distancias negativas \n",
    "\n",
    "\n",
    "Que sea R definida positiva equivale a que S tambien lo es."
   ]
  },
  {
   "cell_type": "markdown",
   "metadata": {},
   "source": []
  },
  {
   "attachments": {},
   "cell_type": "markdown",
   "metadata": {},
   "source": [
    "### Robust correlation matrix"
   ]
  },
  {
   "cell_type": "code",
   "execution_count": 94,
   "metadata": {},
   "outputs": [],
   "source": [
    "def robust_correlation_matrix(Data, Method, alpha=None):\n",
    "\n",
    "    p = len(Data.columns)\n",
    "\n",
    "    M =  np.empty((p , p))\n",
    "\n",
    "    for i in zip(Data.columns, range(0,p)) :\n",
    "\n",
    "        for j in zip(Data.columns, range(0,p)) :\n",
    "\n",
    "            M[i[1],j[1]] = robust_correlation(Variable_name_1=i[0], Variable_name_2=j[0], Data=Data, Method=Method, alpha=alpha)\n",
    "\n",
    "    M = pd.DataFrame(M, columns=Data.columns, index=Data.columns)\n",
    "\n",
    "    return M    "
   ]
  },
  {
   "cell_type": "code",
   "execution_count": 95,
   "metadata": {},
   "outputs": [],
   "source": [
    "robust_corr_matrix = robust_correlation_matrix(Data=Data_quant, Method='trimmed variance', alpha=0.1)"
   ]
  },
  {
   "cell_type": "code",
   "execution_count": 96,
   "metadata": {},
   "outputs": [
    {
     "data": {
      "text/html": [
       "<div>\n",
       "<style scoped>\n",
       "    .dataframe tbody tr th:only-of-type {\n",
       "        vertical-align: middle;\n",
       "    }\n",
       "\n",
       "    .dataframe tbody tr th {\n",
       "        vertical-align: top;\n",
       "    }\n",
       "\n",
       "    .dataframe thead th {\n",
       "        text-align: right;\n",
       "    }\n",
       "</style>\n",
       "<table border=\"1\" class=\"dataframe\">\n",
       "  <thead>\n",
       "    <tr style=\"text-align: right;\">\n",
       "      <th></th>\n",
       "      <th>latitude</th>\n",
       "      <th>longitude</th>\n",
       "      <th>price</th>\n",
       "      <th>size_in_m_2</th>\n",
       "      <th>no_of_bedrooms</th>\n",
       "      <th>no_of_bathrooms</th>\n",
       "    </tr>\n",
       "  </thead>\n",
       "  <tbody>\n",
       "    <tr>\n",
       "      <th>latitude</th>\n",
       "      <td>1.000000</td>\n",
       "      <td>0.722603</td>\n",
       "      <td>0.412529</td>\n",
       "      <td>0.161295</td>\n",
       "      <td>0.113745</td>\n",
       "      <td>0.138755</td>\n",
       "    </tr>\n",
       "    <tr>\n",
       "      <th>longitude</th>\n",
       "      <td>0.722603</td>\n",
       "      <td>1.000000</td>\n",
       "      <td>0.032457</td>\n",
       "      <td>-0.071185</td>\n",
       "      <td>-0.048367</td>\n",
       "      <td>-0.032119</td>\n",
       "    </tr>\n",
       "    <tr>\n",
       "      <th>price</th>\n",
       "      <td>0.412529</td>\n",
       "      <td>0.032457</td>\n",
       "      <td>1.000000</td>\n",
       "      <td>0.772897</td>\n",
       "      <td>0.675673</td>\n",
       "      <td>0.643940</td>\n",
       "    </tr>\n",
       "    <tr>\n",
       "      <th>size_in_m_2</th>\n",
       "      <td>0.161295</td>\n",
       "      <td>-0.071185</td>\n",
       "      <td>0.772897</td>\n",
       "      <td>1.000000</td>\n",
       "      <td>0.866924</td>\n",
       "      <td>0.801095</td>\n",
       "    </tr>\n",
       "    <tr>\n",
       "      <th>no_of_bedrooms</th>\n",
       "      <td>0.113745</td>\n",
       "      <td>-0.048367</td>\n",
       "      <td>0.675673</td>\n",
       "      <td>0.866924</td>\n",
       "      <td>1.000000</td>\n",
       "      <td>0.870740</td>\n",
       "    </tr>\n",
       "    <tr>\n",
       "      <th>no_of_bathrooms</th>\n",
       "      <td>0.138755</td>\n",
       "      <td>-0.032119</td>\n",
       "      <td>0.643940</td>\n",
       "      <td>0.801095</td>\n",
       "      <td>0.870740</td>\n",
       "      <td>1.000000</td>\n",
       "    </tr>\n",
       "  </tbody>\n",
       "</table>\n",
       "</div>"
      ],
      "text/plain": [
       "                 latitude  longitude     price  size_in_m_2  no_of_bedrooms  \\\n",
       "latitude         1.000000   0.722603  0.412529     0.161295        0.113745   \n",
       "longitude        0.722603   1.000000  0.032457    -0.071185       -0.048367   \n",
       "price            0.412529   0.032457  1.000000     0.772897        0.675673   \n",
       "size_in_m_2      0.161295  -0.071185  0.772897     1.000000        0.866924   \n",
       "no_of_bedrooms   0.113745  -0.048367  0.675673     0.866924        1.000000   \n",
       "no_of_bathrooms  0.138755  -0.032119  0.643940     0.801095        0.870740   \n",
       "\n",
       "                 no_of_bathrooms  \n",
       "latitude                0.138755  \n",
       "longitude              -0.032119  \n",
       "price                   0.643940  \n",
       "size_in_m_2             0.801095  \n",
       "no_of_bedrooms          0.870740  \n",
       "no_of_bathrooms         1.000000  "
      ]
     },
     "execution_count": 96,
     "metadata": {},
     "output_type": "execute_result"
    }
   ],
   "source": [
    "robust_corr_matrix"
   ]
  },
  {
   "cell_type": "markdown",
   "metadata": {},
   "source": []
  },
  {
   "cell_type": "code",
   "execution_count": 97,
   "metadata": {},
   "outputs": [
    {
     "data": {
      "text/plain": [
       "array([3.3919324 , 1.72632868, 0.45997034, 0.1885535 , 0.13179268,\n",
       "       0.10142239])"
      ]
     },
     "execution_count": 97,
     "metadata": {},
     "output_type": "execute_result"
    }
   ],
   "source": [
    "np.linalg.eigvals(robust_corr_matrix)"
   ]
  },
  {
   "cell_type": "code",
   "execution_count": 98,
   "metadata": {},
   "outputs": [
    {
     "data": {
      "text/plain": [
       "array([ True,  True,  True,  True,  True,  True])"
      ]
     },
     "execution_count": 98,
     "metadata": {},
     "output_type": "execute_result"
    }
   ],
   "source": [
    "np.linalg.eigvals(robust_corr_matrix) > 0"
   ]
  },
  {
   "cell_type": "markdown",
   "metadata": {},
   "source": []
  },
  {
   "cell_type": "markdown",
   "metadata": {},
   "source": []
  },
  {
   "attachments": {},
   "cell_type": "markdown",
   "metadata": {},
   "source": [
    "## z-transformation"
   ]
  },
  {
   "cell_type": "code",
   "execution_count": 159,
   "metadata": {},
   "outputs": [],
   "source": [
    "def corr_matrix_z_transformation(corr_matrix) : \n",
    "\n",
    "    def z(x) :  return np.arctanh(x)\n",
    "\n",
    "    def z_inv(x) :  return np.tanh(x) # la arctanh es la inversa de tanh, por tanto, la inversa de arctanh es tanh\n",
    "\n",
    "\n",
    "    # Suponenmos que corr_matrix es un pandas data-frame\n",
    "\n",
    "    def h(i,j, corr_matrix) :\n",
    "\n",
    "        epsilon = 0.05\n",
    "\n",
    "        R = corr_matrix.to_numpy()\n",
    "\n",
    "        if i == j : \n",
    "            \n",
    "            result = 1\n",
    "\n",
    "        else:\n",
    "\n",
    "            if np.abs(R[i,j]) <= z(epsilon) :  result = 0\n",
    "\n",
    "            elif R[i,j] < - z(epsilon) : result = z_inv( R[i,j] + epsilon )\n",
    "\n",
    "            elif R[i,j] > z(epsilon) : result = z_inv( R[i,j] - epsilon )\n",
    "\n",
    "        \n",
    "        return result\n",
    "    \n",
    "\n",
    "\n",
    "    p = corr_matrix.shape[0]\n",
    "\n",
    "    M =  np.empty((p , p))\n",
    "\n",
    "    for i in range(0,p) :\n",
    "\n",
    "        for j in range(0,p) :\n",
    "\n",
    "            M[i,j] = h(i,j, corr_matrix)\n",
    "\n",
    "    M = pd.DataFrame(M, columns=corr_matrix.columns, index=corr_matrix.columns)\n",
    "\n",
    "    return M    "
   ]
  },
  {
   "cell_type": "code",
   "execution_count": 100,
   "metadata": {},
   "outputs": [],
   "source": [
    "robust_corr_matrix = robust_correlation_matrix(Data=Data_quant, Method='trimmed variance', alpha=0.1)"
   ]
  },
  {
   "cell_type": "code",
   "execution_count": 157,
   "metadata": {},
   "outputs": [
    {
     "data": {
      "text/html": [
       "<div>\n",
       "<style scoped>\n",
       "    .dataframe tbody tr th:only-of-type {\n",
       "        vertical-align: middle;\n",
       "    }\n",
       "\n",
       "    .dataframe tbody tr th {\n",
       "        vertical-align: top;\n",
       "    }\n",
       "\n",
       "    .dataframe thead th {\n",
       "        text-align: right;\n",
       "    }\n",
       "</style>\n",
       "<table border=\"1\" class=\"dataframe\">\n",
       "  <thead>\n",
       "    <tr style=\"text-align: right;\">\n",
       "      <th></th>\n",
       "      <th>latitude</th>\n",
       "      <th>longitude</th>\n",
       "      <th>price</th>\n",
       "      <th>size_in_m_2</th>\n",
       "      <th>no_of_bedrooms</th>\n",
       "      <th>no_of_bathrooms</th>\n",
       "    </tr>\n",
       "  </thead>\n",
       "  <tbody>\n",
       "    <tr>\n",
       "      <th>latitude</th>\n",
       "      <td>1.000000</td>\n",
       "      <td>0.722603</td>\n",
       "      <td>0.412529</td>\n",
       "      <td>0.161295</td>\n",
       "      <td>0.113745</td>\n",
       "      <td>0.138755</td>\n",
       "    </tr>\n",
       "    <tr>\n",
       "      <th>longitude</th>\n",
       "      <td>0.722603</td>\n",
       "      <td>1.000000</td>\n",
       "      <td>0.032457</td>\n",
       "      <td>-0.071185</td>\n",
       "      <td>-0.048367</td>\n",
       "      <td>-0.032119</td>\n",
       "    </tr>\n",
       "    <tr>\n",
       "      <th>price</th>\n",
       "      <td>0.412529</td>\n",
       "      <td>0.032457</td>\n",
       "      <td>1.000000</td>\n",
       "      <td>0.772897</td>\n",
       "      <td>0.675673</td>\n",
       "      <td>0.643940</td>\n",
       "    </tr>\n",
       "    <tr>\n",
       "      <th>size_in_m_2</th>\n",
       "      <td>0.161295</td>\n",
       "      <td>-0.071185</td>\n",
       "      <td>0.772897</td>\n",
       "      <td>1.000000</td>\n",
       "      <td>0.866924</td>\n",
       "      <td>0.801095</td>\n",
       "    </tr>\n",
       "    <tr>\n",
       "      <th>no_of_bedrooms</th>\n",
       "      <td>0.113745</td>\n",
       "      <td>-0.048367</td>\n",
       "      <td>0.675673</td>\n",
       "      <td>0.866924</td>\n",
       "      <td>1.000000</td>\n",
       "      <td>0.870740</td>\n",
       "    </tr>\n",
       "    <tr>\n",
       "      <th>no_of_bathrooms</th>\n",
       "      <td>0.138755</td>\n",
       "      <td>-0.032119</td>\n",
       "      <td>0.643940</td>\n",
       "      <td>0.801095</td>\n",
       "      <td>0.870740</td>\n",
       "      <td>1.000000</td>\n",
       "    </tr>\n",
       "  </tbody>\n",
       "</table>\n",
       "</div>"
      ],
      "text/plain": [
       "                 latitude  longitude     price  size_in_m_2  no_of_bedrooms  \\\n",
       "latitude         1.000000   0.722603  0.412529     0.161295        0.113745   \n",
       "longitude        0.722603   1.000000  0.032457    -0.071185       -0.048367   \n",
       "price            0.412529   0.032457  1.000000     0.772897        0.675673   \n",
       "size_in_m_2      0.161295  -0.071185  0.772897     1.000000        0.866924   \n",
       "no_of_bedrooms   0.113745  -0.048367  0.675673     0.866924        1.000000   \n",
       "no_of_bathrooms  0.138755  -0.032119  0.643940     0.801095        0.870740   \n",
       "\n",
       "                 no_of_bathrooms  \n",
       "latitude                0.138755  \n",
       "longitude              -0.032119  \n",
       "price                   0.643940  \n",
       "size_in_m_2             0.801095  \n",
       "no_of_bedrooms          0.870740  \n",
       "no_of_bathrooms         1.000000  "
      ]
     },
     "execution_count": 157,
     "metadata": {},
     "output_type": "execute_result"
    }
   ],
   "source": [
    "robust_corr_matrix"
   ]
  },
  {
   "attachments": {},
   "cell_type": "markdown",
   "metadata": {},
   "source": [
    "La z-transformación lo que hace, a grosso modo, es:\n",
    "\n",
    "- Si $r_{ij} > 0.05$ $\\Rightarrow$ transforma $r_{ij}$ en una correlacion un poco **menor**\n",
    "\n",
    "- Si $r_{ij} < - 0.05$ $\\Rightarrow$ transforma $r_{ij}$ en una correlacion un poco **mayor**\n",
    "\n",
    "- Si $r_{ij} \\in [-0.05 , 0.05] $ $\\Rightarrow$ transforma $r_{ij}$ en  $0$\n"
   ]
  },
  {
   "cell_type": "code",
   "execution_count": 160,
   "metadata": {},
   "outputs": [
    {
     "data": {
      "text/html": [
       "<div>\n",
       "<style scoped>\n",
       "    .dataframe tbody tr th:only-of-type {\n",
       "        vertical-align: middle;\n",
       "    }\n",
       "\n",
       "    .dataframe tbody tr th {\n",
       "        vertical-align: top;\n",
       "    }\n",
       "\n",
       "    .dataframe thead th {\n",
       "        text-align: right;\n",
       "    }\n",
       "</style>\n",
       "<table border=\"1\" class=\"dataframe\">\n",
       "  <thead>\n",
       "    <tr style=\"text-align: right;\">\n",
       "      <th></th>\n",
       "      <th>latitude</th>\n",
       "      <th>longitude</th>\n",
       "      <th>price</th>\n",
       "      <th>size_in_m_2</th>\n",
       "      <th>no_of_bedrooms</th>\n",
       "      <th>no_of_bathrooms</th>\n",
       "    </tr>\n",
       "  </thead>\n",
       "  <tbody>\n",
       "    <tr>\n",
       "      <th>latitude</th>\n",
       "      <td>1.000000</td>\n",
       "      <td>0.586690</td>\n",
       "      <td>0.347440</td>\n",
       "      <td>0.110838</td>\n",
       "      <td>0.063659</td>\n",
       "      <td>0.088523</td>\n",
       "    </tr>\n",
       "    <tr>\n",
       "      <th>longitude</th>\n",
       "      <td>0.586690</td>\n",
       "      <td>1.000000</td>\n",
       "      <td>0.000000</td>\n",
       "      <td>-0.021181</td>\n",
       "      <td>0.000000</td>\n",
       "      <td>0.000000</td>\n",
       "    </tr>\n",
       "    <tr>\n",
       "      <th>price</th>\n",
       "      <td>0.347440</td>\n",
       "      <td>0.000000</td>\n",
       "      <td>1.000000</td>\n",
       "      <td>0.618701</td>\n",
       "      <td>0.555066</td>\n",
       "      <td>0.532723</td>\n",
       "    </tr>\n",
       "    <tr>\n",
       "      <th>size_in_m_2</th>\n",
       "      <td>0.110838</td>\n",
       "      <td>-0.021181</td>\n",
       "      <td>0.618701</td>\n",
       "      <td>1.000000</td>\n",
       "      <td>0.673392</td>\n",
       "      <td>0.635802</td>\n",
       "    </tr>\n",
       "    <tr>\n",
       "      <th>no_of_bedrooms</th>\n",
       "      <td>0.063659</td>\n",
       "      <td>0.000000</td>\n",
       "      <td>0.555066</td>\n",
       "      <td>0.673392</td>\n",
       "      <td>1.000000</td>\n",
       "      <td>0.675473</td>\n",
       "    </tr>\n",
       "    <tr>\n",
       "      <th>no_of_bathrooms</th>\n",
       "      <td>0.088523</td>\n",
       "      <td>0.000000</td>\n",
       "      <td>0.532723</td>\n",
       "      <td>0.635802</td>\n",
       "      <td>0.675473</td>\n",
       "      <td>1.000000</td>\n",
       "    </tr>\n",
       "  </tbody>\n",
       "</table>\n",
       "</div>"
      ],
      "text/plain": [
       "                 latitude  longitude     price  size_in_m_2  no_of_bedrooms  \\\n",
       "latitude         1.000000   0.586690  0.347440     0.110838        0.063659   \n",
       "longitude        0.586690   1.000000  0.000000    -0.021181        0.000000   \n",
       "price            0.347440   0.000000  1.000000     0.618701        0.555066   \n",
       "size_in_m_2      0.110838  -0.021181  0.618701     1.000000        0.673392   \n",
       "no_of_bedrooms   0.063659   0.000000  0.555066     0.673392        1.000000   \n",
       "no_of_bathrooms  0.088523   0.000000  0.532723     0.635802        0.675473   \n",
       "\n",
       "                 no_of_bathrooms  \n",
       "latitude                0.088523  \n",
       "longitude               0.000000  \n",
       "price                   0.532723  \n",
       "size_in_m_2             0.635802  \n",
       "no_of_bedrooms          0.675473  \n",
       "no_of_bathrooms         1.000000  "
      ]
     },
     "execution_count": 160,
     "metadata": {},
     "output_type": "execute_result"
    }
   ],
   "source": [
    "robust_corr_matrix_transformed  =  corr_matrix_z_transformation(corr_matrix=robust_corr_matrix)\n",
    "robust_corr_matrix_transformed"
   ]
  },
  {
   "cell_type": "markdown",
   "metadata": {},
   "source": []
  },
  {
   "attachments": {},
   "cell_type": "markdown",
   "metadata": {},
   "source": [
    "No parece que la transformacion venga bien en este caso, quiza porque robust_corr_matrix ya era definida positiva. \n",
    "Porque robust_corr_matrix_transformed es no definida positba, puesto que tiene un autovalor negativo. Se puede ver que cada uno de los autovalores es algo menor en la version trandformada que en la original. No se si en el caso de que robust_corr_matrix no fuera DP, obtendriamos resultados mas adecuados con la transformacion, habria que mirarlo.  "
   ]
  },
  {
   "cell_type": "code",
   "execution_count": 103,
   "metadata": {},
   "outputs": [
    {
     "data": {
      "text/plain": [
       "array([3.3919324 , 1.72632868, 0.45997034, 0.1885535 , 0.13179268,\n",
       "       0.10142239])"
      ]
     },
     "execution_count": 103,
     "metadata": {},
     "output_type": "execute_result"
    }
   ],
   "source": [
    "np.linalg.eigvals(robust_corr_matrix)"
   ]
  },
  {
   "cell_type": "code",
   "execution_count": 104,
   "metadata": {},
   "outputs": [
    {
     "data": {
      "text/plain": [
       "array([ 2.6395382 ,  1.32068746,  0.34203904, -0.00805234,  0.09654807,\n",
       "        0.04793788])"
      ]
     },
     "execution_count": 104,
     "metadata": {},
     "output_type": "execute_result"
    }
   ],
   "source": [
    "np.linalg.eigvals(robust_corr_matrix_transformed)"
   ]
  },
  {
   "cell_type": "markdown",
   "metadata": {},
   "source": []
  },
  {
   "cell_type": "markdown",
   "metadata": {},
   "source": []
  },
  {
   "cell_type": "code",
   "execution_count": 161,
   "metadata": {},
   "outputs": [],
   "source": [
    "def cov_matrix_z_transformation(corr_matrix_z_transformed) : \n",
    "\n",
    "    M = np.diag(Data_quant.std()) @ corr_matrix_z_transformed @ np.diag(Data_quant.std()) \n",
    "\n",
    "    M.columns = corr_matrix_z_transformed.columns\n",
    "    M.index = corr_matrix_z_transformed.index\n",
    "\n",
    "    return M"
   ]
  },
  {
   "cell_type": "code",
   "execution_count": 162,
   "metadata": {},
   "outputs": [
    {
     "data": {
      "text/html": [
       "<div>\n",
       "<style scoped>\n",
       "    .dataframe tbody tr th:only-of-type {\n",
       "        vertical-align: middle;\n",
       "    }\n",
       "\n",
       "    .dataframe tbody tr th {\n",
       "        vertical-align: top;\n",
       "    }\n",
       "\n",
       "    .dataframe thead th {\n",
       "        text-align: right;\n",
       "    }\n",
       "</style>\n",
       "<table border=\"1\" class=\"dataframe\">\n",
       "  <thead>\n",
       "    <tr style=\"text-align: right;\">\n",
       "      <th></th>\n",
       "      <th>latitude</th>\n",
       "      <th>longitude</th>\n",
       "      <th>price</th>\n",
       "      <th>size_in_m_2</th>\n",
       "      <th>no_of_bedrooms</th>\n",
       "      <th>no_of_bathrooms</th>\n",
       "    </tr>\n",
       "  </thead>\n",
       "  <tbody>\n",
       "    <tr>\n",
       "      <th>latitude</th>\n",
       "      <td>0.003925</td>\n",
       "      <td>0.002528</td>\n",
       "      <td>6.340902e+04</td>\n",
       "      <td>5.750878e-01</td>\n",
       "      <td>3.786605e-03</td>\n",
       "      <td>5.895740e-03</td>\n",
       "    </tr>\n",
       "    <tr>\n",
       "      <th>longitude</th>\n",
       "      <td>0.002528</td>\n",
       "      <td>0.004733</td>\n",
       "      <td>0.000000e+00</td>\n",
       "      <td>-1.206847e-01</td>\n",
       "      <td>0.000000e+00</td>\n",
       "      <td>0.000000e+00</td>\n",
       "    </tr>\n",
       "    <tr>\n",
       "      <th>price</th>\n",
       "      <td>63409.019489</td>\n",
       "      <td>0.000000</td>\n",
       "      <td>8.486734e+12</td>\n",
       "      <td>1.492781e+08</td>\n",
       "      <td>1.535340e+06</td>\n",
       "      <td>1.649883e+06</td>\n",
       "    </tr>\n",
       "    <tr>\n",
       "      <th>size_in_m_2</th>\n",
       "      <td>0.575088</td>\n",
       "      <td>-0.120685</td>\n",
       "      <td>1.492781e+08</td>\n",
       "      <td>6.859463e+03</td>\n",
       "      <td>5.295453e+01</td>\n",
       "      <td>5.598196e+01</td>\n",
       "    </tr>\n",
       "    <tr>\n",
       "      <th>no_of_bedrooms</th>\n",
       "      <td>0.003787</td>\n",
       "      <td>0.000000</td>\n",
       "      <td>1.535340e+06</td>\n",
       "      <td>5.295453e+01</td>\n",
       "      <td>9.015290e-01</td>\n",
       "      <td>6.818342e-01</td>\n",
       "    </tr>\n",
       "    <tr>\n",
       "      <th>no_of_bathrooms</th>\n",
       "      <td>0.005896</td>\n",
       "      <td>0.000000</td>\n",
       "      <td>1.649883e+06</td>\n",
       "      <td>5.598196e+01</td>\n",
       "      <td>6.818342e-01</td>\n",
       "      <td>1.130218e+00</td>\n",
       "    </tr>\n",
       "  </tbody>\n",
       "</table>\n",
       "</div>"
      ],
      "text/plain": [
       "                     latitude  longitude         price   size_in_m_2  \\\n",
       "latitude             0.003925   0.002528  6.340902e+04  5.750878e-01   \n",
       "longitude            0.002528   0.004733  0.000000e+00 -1.206847e-01   \n",
       "price            63409.019489   0.000000  8.486734e+12  1.492781e+08   \n",
       "size_in_m_2          0.575088  -0.120685  1.492781e+08  6.859463e+03   \n",
       "no_of_bedrooms       0.003787   0.000000  1.535340e+06  5.295453e+01   \n",
       "no_of_bathrooms      0.005896   0.000000  1.649883e+06  5.598196e+01   \n",
       "\n",
       "                 no_of_bedrooms  no_of_bathrooms  \n",
       "latitude           3.786605e-03     5.895740e-03  \n",
       "longitude          0.000000e+00     0.000000e+00  \n",
       "price              1.535340e+06     1.649883e+06  \n",
       "size_in_m_2        5.295453e+01     5.598196e+01  \n",
       "no_of_bedrooms     9.015290e-01     6.818342e-01  \n",
       "no_of_bathrooms    6.818342e-01     1.130218e+00  "
      ]
     },
     "execution_count": 162,
     "metadata": {},
     "output_type": "execute_result"
    }
   ],
   "source": [
    "cov_matrix_z_transformation(corr_matrix_z_transformed = robust_corr_matrix_transformed)"
   ]
  },
  {
   "cell_type": "markdown",
   "metadata": {},
   "source": []
  },
  {
   "cell_type": "markdown",
   "metadata": {},
   "source": []
  },
  {
   "attachments": {},
   "cell_type": "markdown",
   "metadata": {},
   "source": [
    "## Algoritmo z-transformation"
   ]
  },
  {
   "cell_type": "code",
   "execution_count": 134,
   "metadata": {},
   "outputs": [],
   "source": [
    "def z_trans_algorithm(robust_corr_matrix, n_iters):\n",
    "    \n",
    "    R = robust_corr_matrix.copy()\n",
    "    \n",
    "    i = 0\n",
    "    \n",
    "    while i < n_iters:\n",
    "    \n",
    "        if np.all(np.linalg.eigvals(R) > 0):\n",
    "    \n",
    "            return R , i\n",
    "    \n",
    "        else:\n",
    "    \n",
    "            R = corr_matrix_z_transformation(corr_matrix=R)\n",
    "    \n",
    "            i = i + 1\n",
    "    \n",
    "    return R , i"
   ]
  },
  {
   "cell_type": "code",
   "execution_count": 135,
   "metadata": {},
   "outputs": [],
   "source": [
    "robust_corr_matriz_z_algorithm , i = z_trans_algorithm(robust_corr_matrix=robust_corr_matrix, n_iters=20)"
   ]
  },
  {
   "cell_type": "code",
   "execution_count": 120,
   "metadata": {},
   "outputs": [
    {
     "data": {
      "text/plain": [
       "0"
      ]
     },
     "execution_count": 120,
     "metadata": {},
     "output_type": "execute_result"
    }
   ],
   "source": [
    "i "
   ]
  },
  {
   "attachments": {},
   "cell_type": "markdown",
   "metadata": {},
   "source": [
    "como i=0, esto significa que directamente robust_corr_matrix ya era definida positiva.\n",
    "Por tanto, la matriz que nos devuelve (R) coincide con robust_corr_matrix"
   ]
  },
  {
   "cell_type": "code",
   "execution_count": 121,
   "metadata": {},
   "outputs": [
    {
     "data": {
      "text/html": [
       "<div>\n",
       "<style scoped>\n",
       "    .dataframe tbody tr th:only-of-type {\n",
       "        vertical-align: middle;\n",
       "    }\n",
       "\n",
       "    .dataframe tbody tr th {\n",
       "        vertical-align: top;\n",
       "    }\n",
       "\n",
       "    .dataframe thead th {\n",
       "        text-align: right;\n",
       "    }\n",
       "</style>\n",
       "<table border=\"1\" class=\"dataframe\">\n",
       "  <thead>\n",
       "    <tr style=\"text-align: right;\">\n",
       "      <th></th>\n",
       "      <th>latitude</th>\n",
       "      <th>longitude</th>\n",
       "      <th>price</th>\n",
       "      <th>size_in_m_2</th>\n",
       "      <th>no_of_bedrooms</th>\n",
       "      <th>no_of_bathrooms</th>\n",
       "    </tr>\n",
       "  </thead>\n",
       "  <tbody>\n",
       "    <tr>\n",
       "      <th>latitude</th>\n",
       "      <td>1.000000</td>\n",
       "      <td>0.722603</td>\n",
       "      <td>0.412529</td>\n",
       "      <td>0.161295</td>\n",
       "      <td>0.113745</td>\n",
       "      <td>0.138755</td>\n",
       "    </tr>\n",
       "    <tr>\n",
       "      <th>longitude</th>\n",
       "      <td>0.722603</td>\n",
       "      <td>1.000000</td>\n",
       "      <td>0.032457</td>\n",
       "      <td>-0.071185</td>\n",
       "      <td>-0.048367</td>\n",
       "      <td>-0.032119</td>\n",
       "    </tr>\n",
       "    <tr>\n",
       "      <th>price</th>\n",
       "      <td>0.412529</td>\n",
       "      <td>0.032457</td>\n",
       "      <td>1.000000</td>\n",
       "      <td>0.772897</td>\n",
       "      <td>0.675673</td>\n",
       "      <td>0.643940</td>\n",
       "    </tr>\n",
       "    <tr>\n",
       "      <th>size_in_m_2</th>\n",
       "      <td>0.161295</td>\n",
       "      <td>-0.071185</td>\n",
       "      <td>0.772897</td>\n",
       "      <td>1.000000</td>\n",
       "      <td>0.866924</td>\n",
       "      <td>0.801095</td>\n",
       "    </tr>\n",
       "    <tr>\n",
       "      <th>no_of_bedrooms</th>\n",
       "      <td>0.113745</td>\n",
       "      <td>-0.048367</td>\n",
       "      <td>0.675673</td>\n",
       "      <td>0.866924</td>\n",
       "      <td>1.000000</td>\n",
       "      <td>0.870740</td>\n",
       "    </tr>\n",
       "    <tr>\n",
       "      <th>no_of_bathrooms</th>\n",
       "      <td>0.138755</td>\n",
       "      <td>-0.032119</td>\n",
       "      <td>0.643940</td>\n",
       "      <td>0.801095</td>\n",
       "      <td>0.870740</td>\n",
       "      <td>1.000000</td>\n",
       "    </tr>\n",
       "  </tbody>\n",
       "</table>\n",
       "</div>"
      ],
      "text/plain": [
       "                 latitude  longitude     price  size_in_m_2  no_of_bedrooms  \\\n",
       "latitude         1.000000   0.722603  0.412529     0.161295        0.113745   \n",
       "longitude        0.722603   1.000000  0.032457    -0.071185       -0.048367   \n",
       "price            0.412529   0.032457  1.000000     0.772897        0.675673   \n",
       "size_in_m_2      0.161295  -0.071185  0.772897     1.000000        0.866924   \n",
       "no_of_bedrooms   0.113745  -0.048367  0.675673     0.866924        1.000000   \n",
       "no_of_bathrooms  0.138755  -0.032119  0.643940     0.801095        0.870740   \n",
       "\n",
       "                 no_of_bathrooms  \n",
       "latitude                0.138755  \n",
       "longitude              -0.032119  \n",
       "price                   0.643940  \n",
       "size_in_m_2             0.801095  \n",
       "no_of_bedrooms          0.870740  \n",
       "no_of_bathrooms         1.000000  "
      ]
     },
     "execution_count": 121,
     "metadata": {},
     "output_type": "execute_result"
    }
   ],
   "source": [
    "robust_corr_matriz_z_algorithm # coincide con robust_corr_matrix"
   ]
  },
  {
   "cell_type": "markdown",
   "metadata": {},
   "source": []
  },
  {
   "cell_type": "code",
   "execution_count": 122,
   "metadata": {},
   "outputs": [],
   "source": [
    "robust_corr_matriz_z_algorithm, i = z_trans_algorithm(robust_corr_matrix=robust_corr_matrix_transformed, n_iters=20)"
   ]
  },
  {
   "cell_type": "code",
   "execution_count": 123,
   "metadata": {},
   "outputs": [
    {
     "data": {
      "text/plain": [
       "5"
      ]
     },
     "execution_count": 123,
     "metadata": {},
     "output_type": "execute_result"
    }
   ],
   "source": [
    "i"
   ]
  },
  {
   "cell_type": "code",
   "execution_count": 124,
   "metadata": {},
   "outputs": [
    {
     "data": {
      "text/html": [
       "<div>\n",
       "<style scoped>\n",
       "    .dataframe tbody tr th:only-of-type {\n",
       "        vertical-align: middle;\n",
       "    }\n",
       "\n",
       "    .dataframe tbody tr th {\n",
       "        vertical-align: top;\n",
       "    }\n",
       "\n",
       "    .dataframe thead th {\n",
       "        text-align: right;\n",
       "    }\n",
       "</style>\n",
       "<table border=\"1\" class=\"dataframe\">\n",
       "  <thead>\n",
       "    <tr style=\"text-align: right;\">\n",
       "      <th></th>\n",
       "      <th>latitude</th>\n",
       "      <th>longitude</th>\n",
       "      <th>price</th>\n",
       "      <th>size_in_m_2</th>\n",
       "      <th>no_of_bedrooms</th>\n",
       "      <th>no_of_bathrooms</th>\n",
       "    </tr>\n",
       "  </thead>\n",
       "  <tbody>\n",
       "    <tr>\n",
       "      <th>latitude</th>\n",
       "      <td>0.295756</td>\n",
       "      <td>0.235670</td>\n",
       "      <td>0.081504</td>\n",
       "      <td>0.000000</td>\n",
       "      <td>0.000000</td>\n",
       "      <td>0.000000</td>\n",
       "    </tr>\n",
       "    <tr>\n",
       "      <th>longitude</th>\n",
       "      <td>0.235670</td>\n",
       "      <td>0.295756</td>\n",
       "      <td>0.000000</td>\n",
       "      <td>0.000000</td>\n",
       "      <td>0.000000</td>\n",
       "      <td>0.000000</td>\n",
       "    </tr>\n",
       "    <tr>\n",
       "      <th>price</th>\n",
       "      <td>0.081504</td>\n",
       "      <td>0.000000</td>\n",
       "      <td>0.295756</td>\n",
       "      <td>0.250348</td>\n",
       "      <td>0.219916</td>\n",
       "      <td>0.207994</td>\n",
       "    </tr>\n",
       "    <tr>\n",
       "      <th>size_in_m_2</th>\n",
       "      <td>0.000000</td>\n",
       "      <td>0.000000</td>\n",
       "      <td>0.250348</td>\n",
       "      <td>0.295756</td>\n",
       "      <td>0.272706</td>\n",
       "      <td>0.257694</td>\n",
       "    </tr>\n",
       "    <tr>\n",
       "      <th>no_of_bedrooms</th>\n",
       "      <td>0.000000</td>\n",
       "      <td>0.000000</td>\n",
       "      <td>0.219916</td>\n",
       "      <td>0.272706</td>\n",
       "      <td>0.295756</td>\n",
       "      <td>0.273493</td>\n",
       "    </tr>\n",
       "    <tr>\n",
       "      <th>no_of_bathrooms</th>\n",
       "      <td>0.000000</td>\n",
       "      <td>0.000000</td>\n",
       "      <td>0.207994</td>\n",
       "      <td>0.257694</td>\n",
       "      <td>0.273493</td>\n",
       "      <td>0.295756</td>\n",
       "    </tr>\n",
       "  </tbody>\n",
       "</table>\n",
       "</div>"
      ],
      "text/plain": [
       "                 latitude  longitude     price  size_in_m_2  no_of_bedrooms  \\\n",
       "latitude         0.295756   0.235670  0.081504     0.000000        0.000000   \n",
       "longitude        0.235670   0.295756  0.000000     0.000000        0.000000   \n",
       "price            0.081504   0.000000  0.295756     0.250348        0.219916   \n",
       "size_in_m_2      0.000000   0.000000  0.250348     0.295756        0.272706   \n",
       "no_of_bedrooms   0.000000   0.000000  0.219916     0.272706        0.295756   \n",
       "no_of_bathrooms  0.000000   0.000000  0.207994     0.257694        0.273493   \n",
       "\n",
       "                 no_of_bathrooms  \n",
       "latitude                0.000000  \n",
       "longitude               0.000000  \n",
       "price                   0.207994  \n",
       "size_in_m_2             0.257694  \n",
       "no_of_bedrooms          0.273493  \n",
       "no_of_bathrooms         0.295756  "
      ]
     },
     "execution_count": 124,
     "metadata": {},
     "output_type": "execute_result"
    }
   ],
   "source": [
    "robust_corr_matriz_z_algorithm"
   ]
  },
  {
   "cell_type": "code",
   "execution_count": 125,
   "metadata": {},
   "outputs": [
    {
     "data": {
      "text/plain": [
       "array([ 2.6395382 ,  1.32068746,  0.34203904, -0.00805234,  0.09654807,\n",
       "        0.04793788])"
      ]
     },
     "execution_count": 125,
     "metadata": {},
     "output_type": "execute_result"
    }
   ],
   "source": [
    "np.linalg.eigvals(robust_corr_matrix_transformed)"
   ]
  },
  {
   "cell_type": "code",
   "execution_count": 126,
   "metadata": {},
   "outputs": [
    {
     "data": {
      "text/plain": [
       "array([1.04059218, 0.53586055, 0.12885677, 0.04408122, 0.00557318,\n",
       "       0.01957181])"
      ]
     },
     "execution_count": 126,
     "metadata": {},
     "output_type": "execute_result"
    }
   ],
   "source": [
    "np.linalg.eigvals(robust_corr_matriz_z_algorithm)"
   ]
  },
  {
   "cell_type": "markdown",
   "metadata": {},
   "source": []
  },
  {
   "cell_type": "code",
   "execution_count": 128,
   "metadata": {},
   "outputs": [],
   "source": [
    "robust_cov_matriz_z_algorithm = np.diag(Data_quant.std()) @ robust_corr_matriz_z_algorithm @ np.diag(Data_quant.std()) "
   ]
  },
  {
   "cell_type": "code",
   "execution_count": 129,
   "metadata": {},
   "outputs": [
    {
     "data": {
      "text/html": [
       "<div>\n",
       "<style scoped>\n",
       "    .dataframe tbody tr th:only-of-type {\n",
       "        vertical-align: middle;\n",
       "    }\n",
       "\n",
       "    .dataframe tbody tr th {\n",
       "        vertical-align: top;\n",
       "    }\n",
       "\n",
       "    .dataframe thead th {\n",
       "        text-align: right;\n",
       "    }\n",
       "</style>\n",
       "<table border=\"1\" class=\"dataframe\">\n",
       "  <thead>\n",
       "    <tr style=\"text-align: right;\">\n",
       "      <th></th>\n",
       "      <th>0</th>\n",
       "      <th>1</th>\n",
       "      <th>2</th>\n",
       "      <th>3</th>\n",
       "      <th>4</th>\n",
       "      <th>5</th>\n",
       "    </tr>\n",
       "  </thead>\n",
       "  <tbody>\n",
       "    <tr>\n",
       "      <th>0</th>\n",
       "      <td>0.001161</td>\n",
       "      <td>0.001016</td>\n",
       "      <td>1.487483e+04</td>\n",
       "      <td>0.000000e+00</td>\n",
       "      <td>0.000000</td>\n",
       "      <td>0.000000</td>\n",
       "    </tr>\n",
       "    <tr>\n",
       "      <th>1</th>\n",
       "      <td>0.001016</td>\n",
       "      <td>0.001400</td>\n",
       "      <td>0.000000e+00</td>\n",
       "      <td>0.000000e+00</td>\n",
       "      <td>0.000000</td>\n",
       "      <td>0.000000</td>\n",
       "    </tr>\n",
       "    <tr>\n",
       "      <th>2</th>\n",
       "      <td>14874.830365</td>\n",
       "      <td>0.000000</td>\n",
       "      <td>2.510002e+12</td>\n",
       "      <td>6.040315e+07</td>\n",
       "      <td>608299.966124</td>\n",
       "      <td>644172.573252</td>\n",
       "    </tr>\n",
       "    <tr>\n",
       "      <th>3</th>\n",
       "      <td>0.000000</td>\n",
       "      <td>0.000000</td>\n",
       "      <td>6.040315e+07</td>\n",
       "      <td>2.028727e+03</td>\n",
       "      <td>21.445139</td>\n",
       "      <td>22.689801</td>\n",
       "    </tr>\n",
       "    <tr>\n",
       "      <th>4</th>\n",
       "      <td>0.000000</td>\n",
       "      <td>0.000000</td>\n",
       "      <td>6.083000e+05</td>\n",
       "      <td>2.144514e+01</td>\n",
       "      <td>0.266633</td>\n",
       "      <td>0.276068</td>\n",
       "    </tr>\n",
       "    <tr>\n",
       "      <th>5</th>\n",
       "      <td>0.000000</td>\n",
       "      <td>0.000000</td>\n",
       "      <td>6.441726e+05</td>\n",
       "      <td>2.268980e+01</td>\n",
       "      <td>0.276068</td>\n",
       "      <td>0.334269</td>\n",
       "    </tr>\n",
       "  </tbody>\n",
       "</table>\n",
       "</div>"
      ],
      "text/plain": [
       "              0         1             2             3              4  \\\n",
       "0      0.001161  0.001016  1.487483e+04  0.000000e+00       0.000000   \n",
       "1      0.001016  0.001400  0.000000e+00  0.000000e+00       0.000000   \n",
       "2  14874.830365  0.000000  2.510002e+12  6.040315e+07  608299.966124   \n",
       "3      0.000000  0.000000  6.040315e+07  2.028727e+03      21.445139   \n",
       "4      0.000000  0.000000  6.083000e+05  2.144514e+01       0.266633   \n",
       "5      0.000000  0.000000  6.441726e+05  2.268980e+01       0.276068   \n",
       "\n",
       "               5  \n",
       "0       0.000000  \n",
       "1       0.000000  \n",
       "2  644172.573252  \n",
       "3      22.689801  \n",
       "4       0.276068  \n",
       "5       0.334269  "
      ]
     },
     "execution_count": 129,
     "metadata": {},
     "output_type": "execute_result"
    }
   ],
   "source": [
    "robust_cov_matriz_z_algorithm"
   ]
  },
  {
   "cell_type": "markdown",
   "metadata": {},
   "source": []
  },
  {
   "cell_type": "markdown",
   "metadata": {},
   "source": []
  },
  {
   "attachments": {},
   "cell_type": "markdown",
   "metadata": {},
   "source": [
    "# Mahalanobis Robusta"
   ]
  },
  {
   "cell_type": "code",
   "execution_count": 136,
   "metadata": {},
   "outputs": [],
   "source": [
    "def Dist_Mahalanobis_3(x, S_inv):  # Más eficiente que la anterior\n",
    "\n",
    "    # All the columns of Data must be type = 'float' or 'int' (specially not 'object'), in other case we will find \n",
    "    # dimensional problems when Python compute   x @ S_inv @ x.T\n",
    "\n",
    "    # x = (x_i - x_r)\n",
    "\n",
    "    # x = np.array([x]) # necessary step to transpose a 1D array\n",
    "\n",
    "    Dist_Maha = np.sqrt( x @ S_inv @ x.T )  # x @ S_inv @ x.T = np.matmul( np.matmul(x , S_inv) , x.T )\n",
    "\n",
    "    Dist_Maha = float(Dist_Maha)\n",
    "\n",
    "    return Dist_Maha"
   ]
  },
  {
   "cell_type": "code",
   "execution_count": 150,
   "metadata": {},
   "outputs": [],
   "source": [
    "def Matrix_Dist_Mahalanobis_Robust(Data, Method, alpha=None, z_algorithm=False):\n",
    "\n",
    "\n",
    "    if z_algorithm == False :\n",
    "    \n",
    "        robust_corr_matrix = robust_correlation_matrix(Data=Data, Method=Method, alpha=alpha)\n",
    "\n",
    "        robust_cov_matrix = np.diag(Data.std()) @ robust_corr_matrix @ np.diag(Data.std()) \n",
    "\n",
    "        S_inv = np.linalg.inv( robust_cov_matrix )\n",
    "\n",
    "\n",
    "    elif z_algorithm == True :\n",
    "\n",
    "        robust_corr_matrix = robust_correlation_matrix(Data=Data, Method=Method, alpha=alpha)\n",
    "\n",
    "        robust_corr_matrix_z_algorithm, i = z_trans_algorithm(robust_corr_matrix=robust_corr_matrix_transformed, n_iters=20)\n",
    "\n",
    "        robust_cov_matrix_z_algorithm = np.diag(Data.std()) @ robust_corr_matrix_z_algorithm @ np.diag(Data.std()) \n",
    "\n",
    "        S_inv = np.linalg.inv( robust_cov_matrix_z_algorithm )\n",
    "\n",
    "\n",
    "\n",
    "    Data = Data.to_numpy()\n",
    "\n",
    "    n = len(Data)\n",
    "\n",
    "    M =  np.empty((n , n))\n",
    "\n",
    "   \n",
    "    for i in range(0, n):\n",
    "\n",
    "         for r in range(0, n):\n",
    "\n",
    "             if i >= r :\n",
    "               \n",
    "                 M[i,r] = 0\n",
    "\n",
    "             else :\n",
    "\n",
    "                 M[i,r] = Dist_Mahalanobis_3(x = np.array([Data[i,:] - Data[r,:]]) , S_inv=S_inv ) \n",
    "\n",
    "                      \n",
    "    return M , robust_cov_matrix"
   ]
  },
  {
   "cell_type": "code",
   "execution_count": 153,
   "metadata": {},
   "outputs": [],
   "source": [
    "M , robust_cov_matrix = Matrix_Dist_Mahalanobis_Robust(Data=Data_quant, Method='trimmed variance', alpha=0.1, z_algorithm=False)"
   ]
  },
  {
   "cell_type": "code",
   "execution_count": 154,
   "metadata": {},
   "outputs": [
    {
     "data": {
      "text/plain": [
       "array([[0.        , 2.25224056, 4.24937543, ..., 4.97384744, 2.75681052,\n",
       "        1.17684001],\n",
       "       [0.        , 0.        , 4.71795556, ..., 5.29444797, 3.23063714,\n",
       "        2.25425624],\n",
       "       [0.        , 0.        , 0.        , ..., 3.08471497, 4.25349323,\n",
       "        3.64781054],\n",
       "       ...,\n",
       "       [0.        , 0.        , 0.        , ..., 0.        , 4.10804538,\n",
       "        4.39134193],\n",
       "       [0.        , 0.        , 0.        , ..., 0.        , 0.        ,\n",
       "        1.86973971],\n",
       "       [0.        , 0.        , 0.        , ..., 0.        , 0.        ,\n",
       "        0.        ]])"
      ]
     },
     "execution_count": 154,
     "metadata": {},
     "output_type": "execute_result"
    }
   ],
   "source": [
    "M"
   ]
  },
  {
   "cell_type": "code",
   "execution_count": 155,
   "metadata": {},
   "outputs": [
    {
     "data": {
      "text/html": [
       "<div>\n",
       "<style scoped>\n",
       "    .dataframe tbody tr th:only-of-type {\n",
       "        vertical-align: middle;\n",
       "    }\n",
       "\n",
       "    .dataframe tbody tr th {\n",
       "        vertical-align: top;\n",
       "    }\n",
       "\n",
       "    .dataframe thead th {\n",
       "        text-align: right;\n",
       "    }\n",
       "</style>\n",
       "<table border=\"1\" class=\"dataframe\">\n",
       "  <thead>\n",
       "    <tr style=\"text-align: right;\">\n",
       "      <th></th>\n",
       "      <th>0</th>\n",
       "      <th>1</th>\n",
       "      <th>2</th>\n",
       "      <th>3</th>\n",
       "      <th>4</th>\n",
       "      <th>5</th>\n",
       "    </tr>\n",
       "  </thead>\n",
       "  <tbody>\n",
       "    <tr>\n",
       "      <th>0</th>\n",
       "      <td>0.003925</td>\n",
       "      <td>0.003114</td>\n",
       "      <td>7.528805e+04</td>\n",
       "      <td>8.368878e-01</td>\n",
       "      <td>6.765869e-03</td>\n",
       "      <td>9.241274e-03</td>\n",
       "    </tr>\n",
       "    <tr>\n",
       "      <th>1</th>\n",
       "      <td>0.003114</td>\n",
       "      <td>0.004733</td>\n",
       "      <td>6.504751e+03</td>\n",
       "      <td>-4.055869e-01</td>\n",
       "      <td>-3.159316e-03</td>\n",
       "      <td>-2.349073e-03</td>\n",
       "    </tr>\n",
       "    <tr>\n",
       "      <th>2</th>\n",
       "      <td>75288.053718</td>\n",
       "      <td>6504.750524</td>\n",
       "      <td>8.486734e+12</td>\n",
       "      <td>1.864821e+08</td>\n",
       "      <td>1.868946e+06</td>\n",
       "      <td>1.994328e+06</td>\n",
       "    </tr>\n",
       "    <tr>\n",
       "      <th>3</th>\n",
       "      <td>0.836888</td>\n",
       "      <td>-0.405587</td>\n",
       "      <td>1.864821e+08</td>\n",
       "      <td>6.859463e+03</td>\n",
       "      <td>6.817358e+01</td>\n",
       "      <td>7.053594e+01</td>\n",
       "    </tr>\n",
       "    <tr>\n",
       "      <th>4</th>\n",
       "      <td>0.006766</td>\n",
       "      <td>-0.003159</td>\n",
       "      <td>1.868946e+06</td>\n",
       "      <td>6.817358e+01</td>\n",
       "      <td>9.015290e-01</td>\n",
       "      <td>8.789409e-01</td>\n",
       "    </tr>\n",
       "    <tr>\n",
       "      <th>5</th>\n",
       "      <td>0.009241</td>\n",
       "      <td>-0.002349</td>\n",
       "      <td>1.994328e+06</td>\n",
       "      <td>7.053594e+01</td>\n",
       "      <td>8.789409e-01</td>\n",
       "      <td>1.130218e+00</td>\n",
       "    </tr>\n",
       "  </tbody>\n",
       "</table>\n",
       "</div>"
      ],
      "text/plain": [
       "              0            1             2             3             4  \\\n",
       "0      0.003925     0.003114  7.528805e+04  8.368878e-01  6.765869e-03   \n",
       "1      0.003114     0.004733  6.504751e+03 -4.055869e-01 -3.159316e-03   \n",
       "2  75288.053718  6504.750524  8.486734e+12  1.864821e+08  1.868946e+06   \n",
       "3      0.836888    -0.405587  1.864821e+08  6.859463e+03  6.817358e+01   \n",
       "4      0.006766    -0.003159  1.868946e+06  6.817358e+01  9.015290e-01   \n",
       "5      0.009241    -0.002349  1.994328e+06  7.053594e+01  8.789409e-01   \n",
       "\n",
       "              5  \n",
       "0  9.241274e-03  \n",
       "1 -2.349073e-03  \n",
       "2  1.994328e+06  \n",
       "3  7.053594e+01  \n",
       "4  8.789409e-01  \n",
       "5  1.130218e+00  "
      ]
     },
     "execution_count": 155,
     "metadata": {},
     "output_type": "execute_result"
    }
   ],
   "source": [
    "robust_cov_matrix"
   ]
  }
 ],
 "metadata": {
  "kernelspec": {
   "display_name": "Python 3",
   "language": "python",
   "name": "python3"
  },
  "language_info": {
   "codemirror_mode": {
    "name": "ipython",
    "version": 3
   },
   "file_extension": ".py",
   "mimetype": "text/x-python",
   "name": "python",
   "nbconvert_exporter": "python",
   "pygments_lexer": "ipython3",
   "version": "3.10.0"
  },
  "vscode": {
   "interpreter": {
    "hash": "c63d8c7d738c2960218a10995aedf0a7f67a49a231e71037adf0440953cdb45b"
   }
  }
 },
 "nbformat": 4,
 "nbformat_minor": 2
}
