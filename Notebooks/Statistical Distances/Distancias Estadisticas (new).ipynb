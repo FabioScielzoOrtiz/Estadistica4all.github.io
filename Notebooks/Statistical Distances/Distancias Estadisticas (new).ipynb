{
 "cells": [
  {
   "cell_type": "code",
   "execution_count": 160,
   "metadata": {},
   "outputs": [],
   "source": [
    "import pandas as pd\n",
    "import numpy as np"
   ]
  },
  {
   "cell_type": "code",
   "execution_count": 161,
   "metadata": {},
   "outputs": [
    {
     "data": {
      "text/html": [
       "<div>\n",
       "<style scoped>\n",
       "    .dataframe tbody tr th:only-of-type {\n",
       "        vertical-align: middle;\n",
       "    }\n",
       "\n",
       "    .dataframe tbody tr th {\n",
       "        vertical-align: top;\n",
       "    }\n",
       "\n",
       "    .dataframe thead th {\n",
       "        text-align: right;\n",
       "    }\n",
       "</style>\n",
       "<table border=\"1\" class=\"dataframe\">\n",
       "  <thead>\n",
       "    <tr style=\"text-align: right;\">\n",
       "      <th></th>\n",
       "      <th>neighborhood_recode</th>\n",
       "      <th>latitude</th>\n",
       "      <th>longitude</th>\n",
       "      <th>price</th>\n",
       "      <th>no_of_bedrooms</th>\n",
       "      <th>no_of_bathrooms</th>\n",
       "      <th>quality_recode</th>\n",
       "      <th>maid_room_recode</th>\n",
       "      <th>unfurnished_recode</th>\n",
       "      <th>balcony_recode</th>\n",
       "      <th>...</th>\n",
       "      <th>private_jacuzzi_recode</th>\n",
       "      <th>private_pool_recode</th>\n",
       "      <th>security_recode</th>\n",
       "      <th>shared_gym_recode</th>\n",
       "      <th>shared_pool_recode</th>\n",
       "      <th>shared_spa_recode</th>\n",
       "      <th>view_of_water_recode</th>\n",
       "      <th>size_in_m_2</th>\n",
       "      <th>type</th>\n",
       "      <th>rating</th>\n",
       "    </tr>\n",
       "  </thead>\n",
       "  <tbody>\n",
       "    <tr>\n",
       "      <th>0</th>\n",
       "      <td>46.0</td>\n",
       "      <td>25.113208</td>\n",
       "      <td>55.138932</td>\n",
       "      <td>2700000</td>\n",
       "      <td>1</td>\n",
       "      <td>2</td>\n",
       "      <td>2.0</td>\n",
       "      <td>0.0</td>\n",
       "      <td>0.0</td>\n",
       "      <td>1.0</td>\n",
       "      <td>...</td>\n",
       "      <td>0.0</td>\n",
       "      <td>0.0</td>\n",
       "      <td>0.0</td>\n",
       "      <td>1.0</td>\n",
       "      <td>0.0</td>\n",
       "      <td>0.0</td>\n",
       "      <td>1.0</td>\n",
       "      <td>100.242337</td>\n",
       "      <td>1.0</td>\n",
       "      <td>2.0</td>\n",
       "    </tr>\n",
       "    <tr>\n",
       "      <th>1</th>\n",
       "      <td>46.0</td>\n",
       "      <td>25.106809</td>\n",
       "      <td>55.151201</td>\n",
       "      <td>2850000</td>\n",
       "      <td>2</td>\n",
       "      <td>2</td>\n",
       "      <td>2.0</td>\n",
       "      <td>0.0</td>\n",
       "      <td>0.0</td>\n",
       "      <td>1.0</td>\n",
       "      <td>...</td>\n",
       "      <td>0.0</td>\n",
       "      <td>0.0</td>\n",
       "      <td>0.0</td>\n",
       "      <td>1.0</td>\n",
       "      <td>1.0</td>\n",
       "      <td>0.0</td>\n",
       "      <td>1.0</td>\n",
       "      <td>146.972546</td>\n",
       "      <td>1.0</td>\n",
       "      <td>1.0</td>\n",
       "    </tr>\n",
       "    <tr>\n",
       "      <th>2</th>\n",
       "      <td>36.0</td>\n",
       "      <td>25.063302</td>\n",
       "      <td>55.137728</td>\n",
       "      <td>1150000</td>\n",
       "      <td>3</td>\n",
       "      <td>5</td>\n",
       "      <td>2.0</td>\n",
       "      <td>1.0</td>\n",
       "      <td>1.0</td>\n",
       "      <td>1.0</td>\n",
       "      <td>...</td>\n",
       "      <td>1.0</td>\n",
       "      <td>0.0</td>\n",
       "      <td>1.0</td>\n",
       "      <td>1.0</td>\n",
       "      <td>1.0</td>\n",
       "      <td>0.0</td>\n",
       "      <td>1.0</td>\n",
       "      <td>181.253753</td>\n",
       "      <td>3.0</td>\n",
       "      <td>1.0</td>\n",
       "    </tr>\n",
       "    <tr>\n",
       "      <th>3</th>\n",
       "      <td>11.0</td>\n",
       "      <td>25.227295</td>\n",
       "      <td>55.341761</td>\n",
       "      <td>2850000</td>\n",
       "      <td>2</td>\n",
       "      <td>3</td>\n",
       "      <td>1.0</td>\n",
       "      <td>0.0</td>\n",
       "      <td>1.0</td>\n",
       "      <td>1.0</td>\n",
       "      <td>...</td>\n",
       "      <td>0.0</td>\n",
       "      <td>0.0</td>\n",
       "      <td>0.0</td>\n",
       "      <td>0.0</td>\n",
       "      <td>0.0</td>\n",
       "      <td>0.0</td>\n",
       "      <td>0.0</td>\n",
       "      <td>187.664060</td>\n",
       "      <td>1.0</td>\n",
       "      <td>0.0</td>\n",
       "    </tr>\n",
       "    <tr>\n",
       "      <th>4</th>\n",
       "      <td>46.0</td>\n",
       "      <td>25.114275</td>\n",
       "      <td>55.139764</td>\n",
       "      <td>1729200</td>\n",
       "      <td>0</td>\n",
       "      <td>1</td>\n",
       "      <td>2.0</td>\n",
       "      <td>0.0</td>\n",
       "      <td>0.0</td>\n",
       "      <td>0.0</td>\n",
       "      <td>...</td>\n",
       "      <td>0.0</td>\n",
       "      <td>0.0</td>\n",
       "      <td>1.0</td>\n",
       "      <td>1.0</td>\n",
       "      <td>1.0</td>\n",
       "      <td>1.0</td>\n",
       "      <td>1.0</td>\n",
       "      <td>47.101821</td>\n",
       "      <td>1.0</td>\n",
       "      <td>1.0</td>\n",
       "    </tr>\n",
       "  </tbody>\n",
       "</table>\n",
       "<p>5 rows × 31 columns</p>\n",
       "</div>"
      ],
      "text/plain": [
       "   neighborhood_recode   latitude  longitude    price  no_of_bedrooms  \\\n",
       "0                 46.0  25.113208  55.138932  2700000               1   \n",
       "1                 46.0  25.106809  55.151201  2850000               2   \n",
       "2                 36.0  25.063302  55.137728  1150000               3   \n",
       "3                 11.0  25.227295  55.341761  2850000               2   \n",
       "4                 46.0  25.114275  55.139764  1729200               0   \n",
       "\n",
       "   no_of_bathrooms  quality_recode  maid_room_recode  unfurnished_recode  \\\n",
       "0                2             2.0               0.0                 0.0   \n",
       "1                2             2.0               0.0                 0.0   \n",
       "2                5             2.0               1.0                 1.0   \n",
       "3                3             1.0               0.0                 1.0   \n",
       "4                1             2.0               0.0                 0.0   \n",
       "\n",
       "   balcony_recode  ...  private_jacuzzi_recode  private_pool_recode  \\\n",
       "0             1.0  ...                     0.0                  0.0   \n",
       "1             1.0  ...                     0.0                  0.0   \n",
       "2             1.0  ...                     1.0                  0.0   \n",
       "3             1.0  ...                     0.0                  0.0   \n",
       "4             0.0  ...                     0.0                  0.0   \n",
       "\n",
       "   security_recode  shared_gym_recode  shared_pool_recode  shared_spa_recode  \\\n",
       "0              0.0                1.0                 0.0                0.0   \n",
       "1              0.0                1.0                 1.0                0.0   \n",
       "2              1.0                1.0                 1.0                0.0   \n",
       "3              0.0                0.0                 0.0                0.0   \n",
       "4              1.0                1.0                 1.0                1.0   \n",
       "\n",
       "   view_of_water_recode  size_in_m_2  type  rating  \n",
       "0                   1.0   100.242337   1.0     2.0  \n",
       "1                   1.0   146.972546   1.0     1.0  \n",
       "2                   1.0   181.253753   3.0     1.0  \n",
       "3                   0.0   187.664060   1.0     0.0  \n",
       "4                   1.0    47.101821   1.0     1.0  \n",
       "\n",
       "[5 rows x 31 columns]"
      ]
     },
     "execution_count": 161,
     "metadata": {},
     "output_type": "execute_result"
    }
   ],
   "source": [
    "Data = pd.read_csv('House_Price_Regression.csv')\n",
    "\n",
    "Data['type'] = np.random.uniform(low=0, high=3, size=len(Data)).round()\n",
    "\n",
    "Data['rating'] = np.random.uniform(low=0, high=5, size=len(Data)).round()\n",
    "\n",
    "Data.head()"
   ]
  },
  {
   "cell_type": "code",
   "execution_count": 162,
   "metadata": {},
   "outputs": [],
   "source": [
    "Data_quant = Data.loc[: , ['latitude', 'longitude', 'price', 'size_in_m_2', 'no_of_bedrooms', 'no_of_bathrooms']]"
   ]
  },
  {
   "cell_type": "code",
   "execution_count": 163,
   "metadata": {},
   "outputs": [
    {
     "data": {
      "text/html": [
       "<div>\n",
       "<style scoped>\n",
       "    .dataframe tbody tr th:only-of-type {\n",
       "        vertical-align: middle;\n",
       "    }\n",
       "\n",
       "    .dataframe tbody tr th {\n",
       "        vertical-align: top;\n",
       "    }\n",
       "\n",
       "    .dataframe thead th {\n",
       "        text-align: right;\n",
       "    }\n",
       "</style>\n",
       "<table border=\"1\" class=\"dataframe\">\n",
       "  <thead>\n",
       "    <tr style=\"text-align: right;\">\n",
       "      <th></th>\n",
       "      <th>latitude</th>\n",
       "      <th>longitude</th>\n",
       "      <th>price</th>\n",
       "      <th>size_in_m_2</th>\n",
       "      <th>no_of_bedrooms</th>\n",
       "      <th>no_of_bathrooms</th>\n",
       "    </tr>\n",
       "  </thead>\n",
       "  <tbody>\n",
       "    <tr>\n",
       "      <th>0</th>\n",
       "      <td>25.113208</td>\n",
       "      <td>55.138932</td>\n",
       "      <td>2700000</td>\n",
       "      <td>100.242337</td>\n",
       "      <td>1</td>\n",
       "      <td>2</td>\n",
       "    </tr>\n",
       "    <tr>\n",
       "      <th>1</th>\n",
       "      <td>25.106809</td>\n",
       "      <td>55.151201</td>\n",
       "      <td>2850000</td>\n",
       "      <td>146.972546</td>\n",
       "      <td>2</td>\n",
       "      <td>2</td>\n",
       "    </tr>\n",
       "    <tr>\n",
       "      <th>2</th>\n",
       "      <td>25.063302</td>\n",
       "      <td>55.137728</td>\n",
       "      <td>1150000</td>\n",
       "      <td>181.253753</td>\n",
       "      <td>3</td>\n",
       "      <td>5</td>\n",
       "    </tr>\n",
       "    <tr>\n",
       "      <th>3</th>\n",
       "      <td>25.227295</td>\n",
       "      <td>55.341761</td>\n",
       "      <td>2850000</td>\n",
       "      <td>187.664060</td>\n",
       "      <td>2</td>\n",
       "      <td>3</td>\n",
       "    </tr>\n",
       "    <tr>\n",
       "      <th>4</th>\n",
       "      <td>25.114275</td>\n",
       "      <td>55.139764</td>\n",
       "      <td>1729200</td>\n",
       "      <td>47.101821</td>\n",
       "      <td>0</td>\n",
       "      <td>1</td>\n",
       "    </tr>\n",
       "  </tbody>\n",
       "</table>\n",
       "</div>"
      ],
      "text/plain": [
       "    latitude  longitude    price  size_in_m_2  no_of_bedrooms  no_of_bathrooms\n",
       "0  25.113208  55.138932  2700000   100.242337               1                2\n",
       "1  25.106809  55.151201  2850000   146.972546               2                2\n",
       "2  25.063302  55.137728  1150000   181.253753               3                5\n",
       "3  25.227295  55.341761  2850000   187.664060               2                3\n",
       "4  25.114275  55.139764  1729200    47.101821               0                1"
      ]
     },
     "execution_count": 163,
     "metadata": {},
     "output_type": "execute_result"
    }
   ],
   "source": [
    "Data_quant.head()"
   ]
  },
  {
   "cell_type": "code",
   "execution_count": 164,
   "metadata": {},
   "outputs": [
    {
     "data": {
      "text/html": [
       "<div>\n",
       "<style scoped>\n",
       "    .dataframe tbody tr th:only-of-type {\n",
       "        vertical-align: middle;\n",
       "    }\n",
       "\n",
       "    .dataframe tbody tr th {\n",
       "        vertical-align: top;\n",
       "    }\n",
       "\n",
       "    .dataframe thead th {\n",
       "        text-align: right;\n",
       "    }\n",
       "</style>\n",
       "<table border=\"1\" class=\"dataframe\">\n",
       "  <thead>\n",
       "    <tr style=\"text-align: right;\">\n",
       "      <th></th>\n",
       "      <th>private_garden_recode</th>\n",
       "      <th>private_gym_recode</th>\n",
       "      <th>private_jacuzzi_recode</th>\n",
       "      <th>balcony_recode</th>\n",
       "    </tr>\n",
       "  </thead>\n",
       "  <tbody>\n",
       "    <tr>\n",
       "      <th>0</th>\n",
       "      <td>0.0</td>\n",
       "      <td>0.0</td>\n",
       "      <td>0.0</td>\n",
       "      <td>1.0</td>\n",
       "    </tr>\n",
       "    <tr>\n",
       "      <th>1</th>\n",
       "      <td>0.0</td>\n",
       "      <td>0.0</td>\n",
       "      <td>0.0</td>\n",
       "      <td>1.0</td>\n",
       "    </tr>\n",
       "    <tr>\n",
       "      <th>2</th>\n",
       "      <td>0.0</td>\n",
       "      <td>0.0</td>\n",
       "      <td>1.0</td>\n",
       "      <td>1.0</td>\n",
       "    </tr>\n",
       "    <tr>\n",
       "      <th>3</th>\n",
       "      <td>0.0</td>\n",
       "      <td>0.0</td>\n",
       "      <td>0.0</td>\n",
       "      <td>1.0</td>\n",
       "    </tr>\n",
       "    <tr>\n",
       "      <th>4</th>\n",
       "      <td>0.0</td>\n",
       "      <td>0.0</td>\n",
       "      <td>0.0</td>\n",
       "      <td>0.0</td>\n",
       "    </tr>\n",
       "  </tbody>\n",
       "</table>\n",
       "</div>"
      ],
      "text/plain": [
       "   private_garden_recode  private_gym_recode  private_jacuzzi_recode  \\\n",
       "0                    0.0                 0.0                     0.0   \n",
       "1                    0.0                 0.0                     0.0   \n",
       "2                    0.0                 0.0                     1.0   \n",
       "3                    0.0                 0.0                     0.0   \n",
       "4                    0.0                 0.0                     0.0   \n",
       "\n",
       "   balcony_recode  \n",
       "0             1.0  \n",
       "1             1.0  \n",
       "2             1.0  \n",
       "3             1.0  \n",
       "4             0.0  "
      ]
     },
     "execution_count": 164,
     "metadata": {},
     "output_type": "execute_result"
    }
   ],
   "source": [
    "Data_binary = Data.loc[: , ['private_garden_recode', 'private_gym_recode', 'private_jacuzzi_recode', 'balcony_recode']]\n",
    "\n",
    "Data_binary.head()"
   ]
  },
  {
   "cell_type": "code",
   "execution_count": 165,
   "metadata": {},
   "outputs": [
    {
     "data": {
      "text/html": [
       "<div>\n",
       "<style scoped>\n",
       "    .dataframe tbody tr th:only-of-type {\n",
       "        vertical-align: middle;\n",
       "    }\n",
       "\n",
       "    .dataframe tbody tr th {\n",
       "        vertical-align: top;\n",
       "    }\n",
       "\n",
       "    .dataframe thead th {\n",
       "        text-align: right;\n",
       "    }\n",
       "</style>\n",
       "<table border=\"1\" class=\"dataframe\">\n",
       "  <thead>\n",
       "    <tr style=\"text-align: right;\">\n",
       "      <th></th>\n",
       "      <th>quality_recode</th>\n",
       "      <th>rating</th>\n",
       "      <th>type</th>\n",
       "    </tr>\n",
       "  </thead>\n",
       "  <tbody>\n",
       "    <tr>\n",
       "      <th>0</th>\n",
       "      <td>2.0</td>\n",
       "      <td>2.0</td>\n",
       "      <td>1.0</td>\n",
       "    </tr>\n",
       "    <tr>\n",
       "      <th>1</th>\n",
       "      <td>2.0</td>\n",
       "      <td>1.0</td>\n",
       "      <td>1.0</td>\n",
       "    </tr>\n",
       "    <tr>\n",
       "      <th>2</th>\n",
       "      <td>2.0</td>\n",
       "      <td>1.0</td>\n",
       "      <td>3.0</td>\n",
       "    </tr>\n",
       "    <tr>\n",
       "      <th>3</th>\n",
       "      <td>1.0</td>\n",
       "      <td>0.0</td>\n",
       "      <td>1.0</td>\n",
       "    </tr>\n",
       "    <tr>\n",
       "      <th>4</th>\n",
       "      <td>2.0</td>\n",
       "      <td>1.0</td>\n",
       "      <td>1.0</td>\n",
       "    </tr>\n",
       "  </tbody>\n",
       "</table>\n",
       "</div>"
      ],
      "text/plain": [
       "   quality_recode  rating  type\n",
       "0             2.0     2.0   1.0\n",
       "1             2.0     1.0   1.0\n",
       "2             2.0     1.0   3.0\n",
       "3             1.0     0.0   1.0\n",
       "4             2.0     1.0   1.0"
      ]
     },
     "execution_count": 165,
     "metadata": {},
     "output_type": "execute_result"
    }
   ],
   "source": [
    "Data_multiclass = Data.loc[: , ['quality_recode', 'rating', 'type']]\n",
    "\n",
    "Data_multiclass.head()"
   ]
  },
  {
   "cell_type": "code",
   "execution_count": 166,
   "metadata": {},
   "outputs": [
    {
     "data": {
      "text/html": [
       "<div>\n",
       "<style scoped>\n",
       "    .dataframe tbody tr th:only-of-type {\n",
       "        vertical-align: middle;\n",
       "    }\n",
       "\n",
       "    .dataframe tbody tr th {\n",
       "        vertical-align: top;\n",
       "    }\n",
       "\n",
       "    .dataframe thead th {\n",
       "        text-align: right;\n",
       "    }\n",
       "</style>\n",
       "<table border=\"1\" class=\"dataframe\">\n",
       "  <thead>\n",
       "    <tr style=\"text-align: right;\">\n",
       "      <th></th>\n",
       "      <th>latitude</th>\n",
       "      <th>longitude</th>\n",
       "      <th>price</th>\n",
       "      <th>size_in_m_2</th>\n",
       "      <th>no_of_bedrooms</th>\n",
       "      <th>no_of_bathrooms</th>\n",
       "      <th>private_garden_recode</th>\n",
       "      <th>private_gym_recode</th>\n",
       "      <th>private_jacuzzi_recode</th>\n",
       "      <th>balcony_recode</th>\n",
       "      <th>quality_recode</th>\n",
       "      <th>rating</th>\n",
       "      <th>type</th>\n",
       "    </tr>\n",
       "  </thead>\n",
       "  <tbody>\n",
       "    <tr>\n",
       "      <th>0</th>\n",
       "      <td>25.113208</td>\n",
       "      <td>55.138932</td>\n",
       "      <td>2700000</td>\n",
       "      <td>100.242337</td>\n",
       "      <td>1</td>\n",
       "      <td>2</td>\n",
       "      <td>0.0</td>\n",
       "      <td>0.0</td>\n",
       "      <td>0.0</td>\n",
       "      <td>1.0</td>\n",
       "      <td>2.0</td>\n",
       "      <td>2.0</td>\n",
       "      <td>1.0</td>\n",
       "    </tr>\n",
       "    <tr>\n",
       "      <th>1</th>\n",
       "      <td>25.106809</td>\n",
       "      <td>55.151201</td>\n",
       "      <td>2850000</td>\n",
       "      <td>146.972546</td>\n",
       "      <td>2</td>\n",
       "      <td>2</td>\n",
       "      <td>0.0</td>\n",
       "      <td>0.0</td>\n",
       "      <td>0.0</td>\n",
       "      <td>1.0</td>\n",
       "      <td>2.0</td>\n",
       "      <td>1.0</td>\n",
       "      <td>1.0</td>\n",
       "    </tr>\n",
       "    <tr>\n",
       "      <th>2</th>\n",
       "      <td>25.063302</td>\n",
       "      <td>55.137728</td>\n",
       "      <td>1150000</td>\n",
       "      <td>181.253753</td>\n",
       "      <td>3</td>\n",
       "      <td>5</td>\n",
       "      <td>0.0</td>\n",
       "      <td>0.0</td>\n",
       "      <td>1.0</td>\n",
       "      <td>1.0</td>\n",
       "      <td>2.0</td>\n",
       "      <td>1.0</td>\n",
       "      <td>3.0</td>\n",
       "    </tr>\n",
       "    <tr>\n",
       "      <th>3</th>\n",
       "      <td>25.227295</td>\n",
       "      <td>55.341761</td>\n",
       "      <td>2850000</td>\n",
       "      <td>187.664060</td>\n",
       "      <td>2</td>\n",
       "      <td>3</td>\n",
       "      <td>0.0</td>\n",
       "      <td>0.0</td>\n",
       "      <td>0.0</td>\n",
       "      <td>1.0</td>\n",
       "      <td>1.0</td>\n",
       "      <td>0.0</td>\n",
       "      <td>1.0</td>\n",
       "    </tr>\n",
       "    <tr>\n",
       "      <th>4</th>\n",
       "      <td>25.114275</td>\n",
       "      <td>55.139764</td>\n",
       "      <td>1729200</td>\n",
       "      <td>47.101821</td>\n",
       "      <td>0</td>\n",
       "      <td>1</td>\n",
       "      <td>0.0</td>\n",
       "      <td>0.0</td>\n",
       "      <td>0.0</td>\n",
       "      <td>0.0</td>\n",
       "      <td>2.0</td>\n",
       "      <td>1.0</td>\n",
       "      <td>1.0</td>\n",
       "    </tr>\n",
       "  </tbody>\n",
       "</table>\n",
       "</div>"
      ],
      "text/plain": [
       "    latitude  longitude    price  size_in_m_2  no_of_bedrooms  \\\n",
       "0  25.113208  55.138932  2700000   100.242337               1   \n",
       "1  25.106809  55.151201  2850000   146.972546               2   \n",
       "2  25.063302  55.137728  1150000   181.253753               3   \n",
       "3  25.227295  55.341761  2850000   187.664060               2   \n",
       "4  25.114275  55.139764  1729200    47.101821               0   \n",
       "\n",
       "   no_of_bathrooms  private_garden_recode  private_gym_recode  \\\n",
       "0                2                    0.0                 0.0   \n",
       "1                2                    0.0                 0.0   \n",
       "2                5                    0.0                 0.0   \n",
       "3                3                    0.0                 0.0   \n",
       "4                1                    0.0                 0.0   \n",
       "\n",
       "   private_jacuzzi_recode  balcony_recode  quality_recode  rating  type  \n",
       "0                     0.0             1.0             2.0     2.0   1.0  \n",
       "1                     0.0             1.0             2.0     1.0   1.0  \n",
       "2                     1.0             1.0             2.0     1.0   3.0  \n",
       "3                     0.0             1.0             1.0     0.0   1.0  \n",
       "4                     0.0             0.0             2.0     1.0   1.0  "
      ]
     },
     "execution_count": 166,
     "metadata": {},
     "output_type": "execute_result"
    }
   ],
   "source": [
    "Data_mixed = Data.loc[: , ['latitude', 'longitude', 'price', 'size_in_m_2', 'no_of_bedrooms', 'no_of_bathrooms','private_garden_recode', 'private_gym_recode', 'private_jacuzzi_recode', 'balcony_recode','quality_recode', 'rating', 'type']]\n",
    "\n",
    "Data_mixed.head()"
   ]
  },
  {
   "cell_type": "code",
   "execution_count": 167,
   "metadata": {},
   "outputs": [],
   "source": [
    "Data_quant_numpy = Data_quant.to_numpy()\n",
    "Data_binary_numpy = Data_binary.to_numpy()\n",
    "Data_multiclass_numpy = Data_multiclass.to_numpy()\n",
    "Data_mixed_numpy = Data_mixed.to_numpy()"
   ]
  },
  {
   "cell_type": "markdown",
   "metadata": {},
   "source": []
  },
  {
   "cell_type": "markdown",
   "metadata": {},
   "source": [
    "## Distancia Euclidea"
   ]
  },
  {
   "cell_type": "code",
   "execution_count": 168,
   "metadata": {},
   "outputs": [],
   "source": [
    "def Dist_Euclidea(x_i, x_r):\n",
    "\n",
    "        Dist_Euclidea = ( ( x_i - x_r )**2 ).sum()\n",
    "\n",
    "        Dist_Euclidea = np.sqrt(Dist_Euclidea)\n",
    "\n",
    "        return Dist_Euclidea"
   ]
  },
  {
   "cell_type": "code",
   "execution_count": 169,
   "metadata": {},
   "outputs": [
    {
     "data": {
      "text/plain": [
       "1969900.0019225744"
      ]
     },
     "execution_count": 169,
     "metadata": {},
     "output_type": "execute_result"
    }
   ],
   "source": [
    "Dist_Euclidea(Data_quant.iloc[2,:] , Data_quant.iloc[5,:])"
   ]
  },
  {
   "cell_type": "code",
   "execution_count": 170,
   "metadata": {},
   "outputs": [],
   "source": [
    "def Matrix_Dist_Euclidea(Data):\n",
    "\n",
    "    # Paso previo necesario si Data es pd.DataFrame  -->  Data = Data.to_numpy()\n",
    "\n",
    "    n = len(Data)\n",
    "\n",
    "    M =  np.empty((n , n))\n",
    "\n",
    "    \n",
    "    for i in range(0, n):\n",
    "\n",
    "         for r in range(0, n):\n",
    "\n",
    "             if i >= r :\n",
    "               \n",
    "                 M[i,r] = 0\n",
    "\n",
    "             else :\n",
    "\n",
    "                 M[i,r] = Dist_Euclidea(Data[i,:] , Data[r,:])   \n",
    "\n",
    "                      \n",
    "    return M "
   ]
  },
  {
   "cell_type": "code",
   "execution_count": 171,
   "metadata": {},
   "outputs": [],
   "source": [
    "M_Euclidean = Matrix_Dist_Euclidea(Data=Data_quant_numpy)"
   ]
  },
  {
   "cell_type": "code",
   "execution_count": 172,
   "metadata": {},
   "outputs": [
    {
     "data": {
      "text/plain": [
       "array([[      0.        ,  150000.00728238, 1550000.00212124, ...,\n",
       "         200000.01565902, 2025000.00024491, 1939113.00017324],\n",
       "       [      0.        ,       0.        , 1700000.00034859, ...,\n",
       "          50000.01055292, 2175000.00140691, 2089113.00126347],\n",
       "       [      0.        ,       0.        ,       0.        , ...,\n",
       "        1750000.00000111,  475000.01333737,  389113.0147095 ],\n",
       "       ...,\n",
       "       [      0.        ,       0.        ,       0.        , ...,\n",
       "              0.        , 2225000.00274952, 2139113.00257909],\n",
       "       [      0.        ,       0.        ,       0.        , ...,\n",
       "              0.        ,       0.        ,   85887.00018092],\n",
       "       [      0.        ,       0.        ,       0.        , ...,\n",
       "              0.        ,       0.        ,       0.        ]])"
      ]
     },
     "execution_count": 172,
     "metadata": {},
     "output_type": "execute_result"
    }
   ],
   "source": [
    "M_Euclidean"
   ]
  },
  {
   "cell_type": "code",
   "execution_count": 173,
   "metadata": {},
   "outputs": [
    {
     "data": {
      "text/plain": [
       "array([[      0.        ,  150000.00728238, 1550000.00212124, ...,\n",
       "         200000.01565902, 2025000.00024491, 1939113.00017324],\n",
       "       [ 150000.00728238,       0.        , 1700000.00034859, ...,\n",
       "          50000.01055292, 2175000.00140691, 2089113.00126347],\n",
       "       [1550000.00212124, 1700000.00034859,       0.        , ...,\n",
       "        1750000.00000111,  475000.01333737,  389113.0147095 ],\n",
       "       ...,\n",
       "       [ 200000.01565902,   50000.01055292, 1750000.00000111, ...,\n",
       "              0.        , 2225000.00274952, 2139113.00257909],\n",
       "       [2025000.00024491, 2175000.00140691,  475000.01333737, ...,\n",
       "        2225000.00274952,       0.        ,   85887.00018092],\n",
       "       [1939113.00017324, 2089113.00126347,  389113.0147095 , ...,\n",
       "        2139113.00257909,   85887.00018092,       0.        ]])"
      ]
     },
     "execution_count": 173,
     "metadata": {},
     "output_type": "execute_result"
    }
   ],
   "source": [
    "M_Euclidean = M_Euclidean + M_Euclidean.T\n",
    "\n",
    "M_Euclidean"
   ]
  },
  {
   "cell_type": "markdown",
   "metadata": {},
   "source": []
  },
  {
   "cell_type": "markdown",
   "metadata": {},
   "source": [
    "## Distancia de Minkowski"
   ]
  },
  {
   "cell_type": "code",
   "execution_count": 174,
   "metadata": {},
   "outputs": [],
   "source": [
    "def Dist_Minkowski(x_i, x_r, q):\n",
    "\n",
    "    Dist_Minkowski = ( ( ( abs( x_i - x_r) )**q ).sum() )**(1/q)\n",
    "\n",
    "    return Dist_Minkowski"
   ]
  },
  {
   "cell_type": "code",
   "execution_count": 175,
   "metadata": {},
   "outputs": [
    {
     "data": {
      "text/plain": [
       "1969992.0102169998"
      ]
     },
     "execution_count": 175,
     "metadata": {},
     "output_type": "execute_result"
    }
   ],
   "source": [
    "Dist_Minkowski(Data_quant.iloc[2,:], Data_quant.iloc[5,:], q=1)"
   ]
  },
  {
   "cell_type": "code",
   "execution_count": 176,
   "metadata": {},
   "outputs": [
    {
     "data": {
      "text/plain": [
       "1969900.0019225744"
      ]
     },
     "execution_count": 176,
     "metadata": {},
     "output_type": "execute_result"
    }
   ],
   "source": [
    "Dist_Minkowski(Data_quant.iloc[2,:], Data_quant.iloc[5,:], q=2)"
   ]
  },
  {
   "cell_type": "code",
   "execution_count": 177,
   "metadata": {},
   "outputs": [
    {
     "data": {
      "text/plain": [
       "1969900.000000055"
      ]
     },
     "execution_count": 177,
     "metadata": {},
     "output_type": "execute_result"
    }
   ],
   "source": [
    "Dist_Minkowski(Data_quant.iloc[2,:], Data_quant.iloc[5,:], q=3)"
   ]
  },
  {
   "cell_type": "code",
   "execution_count": 178,
   "metadata": {},
   "outputs": [
    {
     "data": {
      "text/plain": [
       "1969900.0000000016"
      ]
     },
     "execution_count": 178,
     "metadata": {},
     "output_type": "execute_result"
    }
   ],
   "source": [
    "Dist_Minkowski(Data_quant.iloc[2,:], Data_quant.iloc[5,:], q=10)"
   ]
  },
  {
   "cell_type": "code",
   "execution_count": 179,
   "metadata": {},
   "outputs": [],
   "source": [
    "def Matrix_Dist_Minkowski(Data, q):\n",
    "\n",
    "    # Paso previo necesario si Data es pd.DataFrame  -->  Data = Data.to_numpy()\n",
    "\n",
    "    n = len(Data)\n",
    "\n",
    "    M =  np.empty((n , n))\n",
    "\n",
    "    \n",
    "    for i in range(0, n):\n",
    "\n",
    "         for r in range(0, n):\n",
    "\n",
    "             if i >= r :\n",
    "               \n",
    "                 M[i,r] = 0\n",
    "\n",
    "             else :\n",
    "\n",
    "                 M[i,r] = Dist_Minkowski(Data[i,:] , Data[r,:], q)   \n",
    "\n",
    "                      \n",
    "    return M "
   ]
  },
  {
   "cell_type": "code",
   "execution_count": 180,
   "metadata": {},
   "outputs": [
    {
     "data": {
      "text/plain": [
       "array([[      0.      ,  150047.748877, 1550086.062526, ...,\n",
       "         200084.359869, 2025031.624379, 1939138.969796],\n",
       "       [      0.      ,       0.      , 1700038.338187, ...,\n",
       "          50036.62379 , 2175079.33592 , 2089186.681337],\n",
       "       [      0.      ,       0.      ,       0.      , ...,\n",
       "        1750002.301489,  475117.608205,  389224.964166],\n",
       "       ...,\n",
       "       [      0.      ,       0.      ,       0.      , ...,\n",
       "              0.      , 2225115.802424, 2139223.298103],\n",
       "       [      0.      ,       0.      ,       0.      , ...,\n",
       "              0.      ,       0.      ,   85892.654583],\n",
       "       [      0.      ,       0.      ,       0.      , ...,\n",
       "              0.      ,       0.      ,       0.      ]])"
      ]
     },
     "execution_count": 180,
     "metadata": {},
     "output_type": "execute_result"
    }
   ],
   "source": [
    "M_Minkowski = Matrix_Dist_Minkowski(Data=Data_quant_numpy , q=1)\n",
    "\n",
    "M_Minkowski"
   ]
  },
  {
   "cell_type": "code",
   "execution_count": 181,
   "metadata": {},
   "outputs": [
    {
     "data": {
      "text/plain": [
       "array([[      0.      ,  150047.748877, 1550086.062526, ...,\n",
       "         200084.359869, 2025031.624379, 1939138.969796],\n",
       "       [ 150047.748877,       0.      , 1700038.338187, ...,\n",
       "          50036.62379 , 2175079.33592 , 2089186.681337],\n",
       "       [1550086.062526, 1700038.338187,       0.      , ...,\n",
       "        1750002.301489,  475117.608205,  389224.964166],\n",
       "       ...,\n",
       "       [ 200084.359869,   50036.62379 , 1750002.301489, ...,\n",
       "              0.      , 2225115.802424, 2139223.298103],\n",
       "       [2025031.624379, 2175079.33592 ,  475117.608205, ...,\n",
       "        2225115.802424,       0.      ,   85892.654583],\n",
       "       [1939138.969796, 2089186.681337,  389224.964166, ...,\n",
       "        2139223.298103,   85892.654583,       0.      ]])"
      ]
     },
     "execution_count": 181,
     "metadata": {},
     "output_type": "execute_result"
    }
   ],
   "source": [
    "M_Minkowski = M_Minkowski + M_Minkowski.T\n",
    "\n",
    "M_Minkowski"
   ]
  },
  {
   "cell_type": "markdown",
   "metadata": {},
   "source": []
  },
  {
   "cell_type": "markdown",
   "metadata": {},
   "source": [
    "## Distancia Canberra"
   ]
  },
  {
   "cell_type": "code",
   "execution_count": 182,
   "metadata": {},
   "outputs": [],
   "source": [
    "def Dist_Canberra(x_i, x_r):\n",
    "\n",
    "    numerator =  abs( x_i - x_r )\n",
    "\n",
    "    denominator =  ( abs(x_i) + abs(x_r) )\n",
    "       \n",
    "    numerator=np.array([numerator], dtype=float)\n",
    "\n",
    "    denominator=np.array([denominator], dtype=float)\n",
    "\n",
    "    # The following code is to eliminate zero division problems\n",
    "\n",
    "    Dist_Canberra = ( np.divide( numerator , denominator , out=np.zeros_like(numerator), where=denominator!=0) ).sum() \n",
    "\n",
    "    return Dist_Canberra"
   ]
  },
  {
   "cell_type": "code",
   "execution_count": 183,
   "metadata": {},
   "outputs": [
    {
     "data": {
      "text/plain": [
       "9.3284791957755"
      ]
     },
     "execution_count": 183,
     "metadata": {},
     "output_type": "execute_result"
    }
   ],
   "source": [
    "Dist_Canberra(Data.iloc[2,:] , Data.iloc[5,:])"
   ]
  },
  {
   "cell_type": "code",
   "execution_count": 184,
   "metadata": {},
   "outputs": [],
   "source": [
    "def Matrix_Dist_Canberra(Data):\n",
    "\n",
    "    # Paso previo necesario si Data es pd.DataFrame  -->  Data = Data.to_numpy()\n",
    "\n",
    "    n = len(Data)\n",
    "\n",
    "    M =  np.empty((n , n))\n",
    "\n",
    "    \n",
    "    for i in range(0, n):\n",
    "\n",
    "         for r in range(0, n):\n",
    "\n",
    "             if i >= r :\n",
    "               \n",
    "                 M[i,r] = 0\n",
    "\n",
    "             else :\n",
    "\n",
    "                 M[i,r] = Dist_Canberra(Data[i,:] , Data[r,:])   \n",
    "\n",
    "                      \n",
    "    return M "
   ]
  },
  {
   "cell_type": "code",
   "execution_count": 185,
   "metadata": {},
   "outputs": [
    {
     "data": {
      "text/plain": [
       "array([[0.        , 0.5496257 , 1.61996314, ..., 1.25082356, 0.78797391,\n",
       "        0.70959891],\n",
       "       [0.        , 0.        , 1.15900459, ..., 0.74009173, 1.31434216,\n",
       "        1.24077176],\n",
       "       [0.        , 0.        , 0.        , ..., 0.44223489, 1.63990915,\n",
       "        1.55106392],\n",
       "       ...,\n",
       "       [0.        , 0.        , 0.        , ..., 0.        , 2.00032192,\n",
       "        1.93106183],\n",
       "       [0.        , 0.        , 0.        , ..., 0.        , 0.        ,\n",
       "        0.09956138],\n",
       "       [0.        , 0.        , 0.        , ..., 0.        , 0.        ,\n",
       "        0.        ]])"
      ]
     },
     "execution_count": 185,
     "metadata": {},
     "output_type": "execute_result"
    }
   ],
   "source": [
    "M_Canberra = Matrix_Dist_Canberra(Data=Data_quant_numpy)\n",
    "\n",
    "M_Canberra"
   ]
  },
  {
   "cell_type": "code",
   "execution_count": 186,
   "metadata": {},
   "outputs": [
    {
     "data": {
      "text/plain": [
       "array([[0.        , 0.5496257 , 1.61996314, ..., 1.25082356, 0.78797391,\n",
       "        0.70959891],\n",
       "       [0.5496257 , 0.        , 1.15900459, ..., 0.74009173, 1.31434216,\n",
       "        1.24077176],\n",
       "       [1.61996314, 1.15900459, 0.        , ..., 0.44223489, 1.63990915,\n",
       "        1.55106392],\n",
       "       ...,\n",
       "       [1.25082356, 0.74009173, 0.44223489, ..., 0.        , 2.00032192,\n",
       "        1.93106183],\n",
       "       [0.78797391, 1.31434216, 1.63990915, ..., 2.00032192, 0.        ,\n",
       "        0.09956138],\n",
       "       [0.70959891, 1.24077176, 1.55106392, ..., 1.93106183, 0.09956138,\n",
       "        0.        ]])"
      ]
     },
     "execution_count": 186,
     "metadata": {},
     "output_type": "execute_result"
    }
   ],
   "source": [
    "M_Canberra = M_Canberra + M_Canberra.T\n",
    "\n",
    "M_Canberra"
   ]
  },
  {
   "cell_type": "markdown",
   "metadata": {},
   "source": []
  },
  {
   "cell_type": "markdown",
   "metadata": {},
   "source": [
    "## Distancia Pearson"
   ]
  },
  {
   "cell_type": "code",
   "execution_count": 187,
   "metadata": {},
   "outputs": [],
   "source": [
    "def Dist_Pearson(x_i, x_r, Data) :\n",
    "\n",
    "    # Si Data  es un pd.DataFrame --> hay que convertilos antes a numpy con Data.to_numpy()\n",
    "\n",
    "    Dist_Pearson = ( ( x_i - x_r )**2 / np.var(Data , axis=0, ddof=1) ).sum()\n",
    "\n",
    "    # np.var(Data , axis=0, ddof=1)  calcula la cuasi-varianza (ddof=1) por columnas (axis=0)\n",
    "\n",
    "    Dist_Pearson = np.sqrt(Dist_Pearson)\n",
    "\n",
    "    return Dist_Pearson"
   ]
  },
  {
   "cell_type": "code",
   "execution_count": 188,
   "metadata": {},
   "outputs": [
    {
     "data": {
      "text/plain": [
       "3.8239347754243425"
      ]
     },
     "execution_count": 188,
     "metadata": {},
     "output_type": "execute_result"
    }
   ],
   "source": [
    "Dist_Pearson(x_i=Data_quant_numpy[2,:], x_r=Data_quant_numpy[5,:], Data=Data_quant_numpy)"
   ]
  },
  {
   "cell_type": "code",
   "execution_count": 189,
   "metadata": {},
   "outputs": [],
   "source": [
    "def Matrix_Dist_Pearson(Data):\n",
    "\n",
    "    # Paso previo necesario si Data es pd.DataFrame  -->  Data = Data.to_numpy()\n",
    "\n",
    "    n = len(Data)\n",
    "\n",
    "    M =  np.empty((n , n))\n",
    "\n",
    "    \n",
    "    for i in range(0, n):\n",
    "\n",
    "         for r in range(0, n):\n",
    "\n",
    "             if i >= r :\n",
    "               \n",
    "                 M[i,r] = 0\n",
    "\n",
    "             else :\n",
    "\n",
    "                 M[i,r] = Dist_Pearson(Data[i,:] , Data[r,:], Data=Data)   \n",
    "\n",
    "                      \n",
    "    return M "
   ]
  },
  {
   "cell_type": "code",
   "execution_count": 190,
   "metadata": {},
   "outputs": [
    {
     "data": {
      "text/plain": [
       "array([[0.        , 1.21345279, 3.77819153, ..., 4.95085256, 1.66393723,\n",
       "        0.94314867],\n",
       "       [0.        , 0.        , 3.17880538, ..., 4.43821303, 2.03523139,\n",
       "        1.60958264],\n",
       "       [0.        , 0.        , 0.        , ..., 3.82999056, 4.01162596,\n",
       "        3.76955491],\n",
       "       ...,\n",
       "       [0.        , 0.        , 0.        , ..., 0.        , 4.69603617,\n",
       "        5.13174853],\n",
       "       [0.        , 0.        , 0.        , ..., 0.        , 0.        ,\n",
       "        1.09780835],\n",
       "       [0.        , 0.        , 0.        , ..., 0.        , 0.        ,\n",
       "        0.        ]])"
      ]
     },
     "execution_count": 190,
     "metadata": {},
     "output_type": "execute_result"
    }
   ],
   "source": [
    "M_Pearson = Matrix_Dist_Pearson(Data=Data_quant_numpy)\n",
    "\n",
    "M_Pearson"
   ]
  },
  {
   "cell_type": "code",
   "execution_count": 191,
   "metadata": {},
   "outputs": [
    {
     "data": {
      "text/plain": [
       "array([[0.        , 1.21345279, 3.77819153, ..., 4.95085256, 1.66393723,\n",
       "        0.94314867],\n",
       "       [1.21345279, 0.        , 3.17880538, ..., 4.43821303, 2.03523139,\n",
       "        1.60958264],\n",
       "       [3.77819153, 3.17880538, 0.        , ..., 3.82999056, 4.01162596,\n",
       "        3.76955491],\n",
       "       ...,\n",
       "       [4.95085256, 4.43821303, 3.82999056, ..., 0.        , 4.69603617,\n",
       "        5.13174853],\n",
       "       [1.66393723, 2.03523139, 4.01162596, ..., 4.69603617, 0.        ,\n",
       "        1.09780835],\n",
       "       [0.94314867, 1.60958264, 3.76955491, ..., 5.13174853, 1.09780835,\n",
       "        0.        ]])"
      ]
     },
     "execution_count": 191,
     "metadata": {},
     "output_type": "execute_result"
    }
   ],
   "source": [
    "M_Pearson = M_Pearson + M_Pearson.T\n",
    "\n",
    "M_Pearson"
   ]
  },
  {
   "cell_type": "markdown",
   "metadata": {},
   "source": []
  },
  {
   "cell_type": "markdown",
   "metadata": {},
   "source": [
    "## Distancia de Mahalanobis"
   ]
  },
  {
   "cell_type": "code",
   "execution_count": 192,
   "metadata": {},
   "outputs": [],
   "source": [
    "def Dist_Mahalanobis_1(x_i, x_r, Data):\n",
    "\n",
    "    # All the columns of Data must be type = 'float' or 'int' (specially not 'object'), in other case we will find \n",
    "    # dimensional problems when Python compute   x @ S_inv @ x.T\n",
    "\n",
    "    x = (x_i - x_r)\n",
    "\n",
    "    x = np.array([x]) # necessary step to transpose a 1D array\n",
    "\n",
    "    S_inv = np.linalg.inv( np.cov(Data , rowvar=False) ) # inverse of covariance matrix\n",
    "\n",
    "    Dist_Maha = np.sqrt( x @ S_inv @ x.T )  # x @ S_inv @ x.T = np.matmul( np.matmul(x , S_inv) , x.T )\n",
    "\n",
    "    Dist_Maha = float(Dist_Maha)\n",
    "\n",
    "    return Dist_Maha"
   ]
  },
  {
   "cell_type": "code",
   "execution_count": 193,
   "metadata": {},
   "outputs": [
    {
     "data": {
      "text/plain": [
       "3.931396144771864"
      ]
     },
     "execution_count": 193,
     "metadata": {},
     "output_type": "execute_result"
    }
   ],
   "source": [
    "Dist_Mahalanobis_1(Data_quant_numpy[2,:] , Data_quant_numpy[5,:] , Data=Data_quant_numpy )"
   ]
  },
  {
   "cell_type": "code",
   "execution_count": 194,
   "metadata": {},
   "outputs": [],
   "source": [
    "def Dist_Mahalanobis_2(x_i, x_r, S_inv):  # Más eficiente que la anterior\n",
    "\n",
    "    # All the columns of Data must be type = 'float' or 'int' (specially not 'object'), in other case we will find \n",
    "    # dimensional problems when Python compute   x @ S_inv @ x.T\n",
    "\n",
    "    x = (x_i - x_r)\n",
    "\n",
    "    x = np.array([x]) # necessary step to transpose a 1D array\n",
    "\n",
    "    Dist_Maha = np.sqrt( x @ S_inv @ x.T )  # x @ S_inv @ x.T = np.matmul( np.matmul(x , S_inv) , x.T )\n",
    "\n",
    "    Dist_Maha = float(Dist_Maha)\n",
    "\n",
    "    return Dist_Maha"
   ]
  },
  {
   "cell_type": "code",
   "execution_count": 195,
   "metadata": {},
   "outputs": [
    {
     "data": {
      "text/plain": [
       "3.931396144771864"
      ]
     },
     "execution_count": 195,
     "metadata": {},
     "output_type": "execute_result"
    }
   ],
   "source": [
    "Dist_Mahalanobis_2(x_i = Data_quant_numpy[2,:] , x_r = Data_quant_numpy[5,:] , S_inv = np.linalg.inv( np.cov(Data_quant_numpy , rowvar=False) ) )"
   ]
  },
  {
   "cell_type": "code",
   "execution_count": 196,
   "metadata": {},
   "outputs": [],
   "source": [
    "def Dist_Mahalanobis_3(x, S_inv):  # Más eficiente que la anterior\n",
    "\n",
    "    # All the columns of Data must be type = 'float' or 'int' (specially not 'object'), in other case we will find \n",
    "    # dimensional problems when Python compute   x @ S_inv @ x.T\n",
    "\n",
    "    # x = (x_i - x_r)\n",
    "\n",
    "    # x = np.array([x]) # necessary step to transpose a 1D array\n",
    "\n",
    "    Dist_Maha = np.sqrt( x @ S_inv @ x.T )  # x @ S_inv @ x.T = np.matmul( np.matmul(x , S_inv) , x.T )\n",
    "\n",
    "    Dist_Maha = float(Dist_Maha)\n",
    "\n",
    "    return Dist_Maha"
   ]
  },
  {
   "cell_type": "code",
   "execution_count": 197,
   "metadata": {},
   "outputs": [
    {
     "data": {
      "text/plain": [
       "3.931396144771864"
      ]
     },
     "execution_count": 197,
     "metadata": {},
     "output_type": "execute_result"
    }
   ],
   "source": [
    "Dist_Mahalanobis_3(x = np.array([Data_quant_numpy[2,:] - Data_quant_numpy[5,:]]) , S_inv=np.linalg.inv( np.cov(Data_quant_numpy , rowvar=False) ))"
   ]
  },
  {
   "cell_type": "markdown",
   "metadata": {},
   "source": []
  },
  {
   "cell_type": "code",
   "execution_count": 198,
   "metadata": {},
   "outputs": [],
   "source": [
    "def Matrix_Dist_Mahalanobis_1(Data):\n",
    "\n",
    "    # Paso previo necesario si Data es pd.DataFrame  -->  Data = Data.to_numpy()\n",
    "\n",
    "    n = len(Data)\n",
    "\n",
    "    M =  np.empty((n , n))\n",
    "\n",
    "   \n",
    "    for i in range(0, n):\n",
    "\n",
    "         for r in range(0, n):\n",
    "\n",
    "             if i >= r :\n",
    "               \n",
    "                 M[i,r] = 0\n",
    "\n",
    "             else :\n",
    "\n",
    "                 M[i,r] = Dist_Mahalanobis_1(x_i = Data[i,:] , x_r = Data[r,:] , Data=Data )\n",
    "\n",
    "                      \n",
    "    return M "
   ]
  },
  {
   "cell_type": "code",
   "execution_count": 199,
   "metadata": {},
   "outputs": [
    {
     "data": {
      "text/plain": [
       "array([[0.        , 2.16321817, 3.81131086, ..., 2.74083537, 3.84799958,\n",
       "        1.06041471],\n",
       "       [0.        , 0.        , 4.29953104, ..., 2.76698155, 2.78100414,\n",
       "        2.20791581],\n",
       "       [0.        , 0.        , 0.        , ..., 2.63546884, 4.34269664,\n",
       "        3.32469143],\n",
       "       ...,\n",
       "       [0.        , 0.        , 0.        , ..., 0.        , 2.18534065,\n",
       "        1.8408748 ],\n",
       "       [0.        , 0.        , 0.        , ..., 0.        , 0.        ,\n",
       "        3.09496075],\n",
       "       [0.        , 0.        , 0.        , ..., 0.        , 0.        ,\n",
       "        0.        ]])"
      ]
     },
     "execution_count": 199,
     "metadata": {},
     "output_type": "execute_result"
    }
   ],
   "source": [
    "Matrix_Dist_Mahalanobis_1(Data=Data_quant_numpy[0:1000 , 0:1000]) # 2.25 mins"
   ]
  },
  {
   "cell_type": "code",
   "execution_count": 200,
   "metadata": {},
   "outputs": [
    {
     "data": {
      "text/plain": [
       "array([[0.        , 2.11289055, 3.7975463 , ..., 4.51559865, 2.31688444,\n",
       "        1.10588047],\n",
       "       [0.        , 0.        , 4.35615967, ..., 4.93340427, 2.74011739,\n",
       "        2.12938584],\n",
       "       [0.        , 0.        , 0.        , ..., 3.17779509, 3.49432487,\n",
       "        3.23723317],\n",
       "       ...,\n",
       "       [0.        , 0.        , 0.        , ..., 0.        , 3.58695453,\n",
       "        4.11275247],\n",
       "       [0.        , 0.        , 0.        , ..., 0.        , 0.        ,\n",
       "        1.46894947],\n",
       "       [0.        , 0.        , 0.        , ..., 0.        , 0.        ,\n",
       "        0.        ]])"
      ]
     },
     "execution_count": 200,
     "metadata": {},
     "output_type": "execute_result"
    }
   ],
   "source": [
    "Matrix_Dist_Mahalanobis_1(Data=Data_quant_numpy) # 8.52 mins"
   ]
  },
  {
   "cell_type": "code",
   "execution_count": 201,
   "metadata": {},
   "outputs": [],
   "source": [
    "def Matrix_Dist_Mahalanobis_2(Data):\n",
    "\n",
    "    # Paso previo necesario si Data es pd.DataFrame  -->  Data = Data.to_numpy()\n",
    "\n",
    "    n = len(Data)\n",
    "\n",
    "    M =  np.empty((n , n))\n",
    "\n",
    "    S_inv = np.linalg.inv( np.cov(Data , rowvar=False) )\n",
    "\n",
    "   \n",
    "    for i in range(0, n):\n",
    "\n",
    "         for r in range(0, n):\n",
    "\n",
    "             if i >= r :\n",
    "               \n",
    "                 M[i,r] = 0\n",
    "\n",
    "             else :\n",
    "\n",
    "                 M[i,r] = Dist_Mahalanobis_2(x_i = Data[i,:] , x_r = Data[r,:] , S_inv = S_inv  )\n",
    "\n",
    "                      \n",
    "    return M "
   ]
  },
  {
   "cell_type": "code",
   "execution_count": 202,
   "metadata": {},
   "outputs": [
    {
     "data": {
      "text/plain": [
       "array([[0.        , 2.16321817, 3.81131086, ..., 2.74083537, 3.84799958,\n",
       "        1.06041471],\n",
       "       [0.        , 0.        , 4.29953104, ..., 2.76698155, 2.78100414,\n",
       "        2.20791581],\n",
       "       [0.        , 0.        , 0.        , ..., 2.63546884, 4.34269664,\n",
       "        3.32469143],\n",
       "       ...,\n",
       "       [0.        , 0.        , 0.        , ..., 0.        , 2.18534065,\n",
       "        1.8408748 ],\n",
       "       [0.        , 0.        , 0.        , ..., 0.        , 0.        ,\n",
       "        3.09496075],\n",
       "       [0.        , 0.        , 0.        , ..., 0.        , 0.        ,\n",
       "        0.        ]])"
      ]
     },
     "execution_count": 202,
     "metadata": {},
     "output_type": "execute_result"
    }
   ],
   "source": [
    "Matrix_Dist_Mahalanobis_2(Data=Data_quant_numpy[0:1000 , 0:1000]) # 6.8 seg"
   ]
  },
  {
   "cell_type": "code",
   "execution_count": 203,
   "metadata": {},
   "outputs": [
    {
     "data": {
      "text/plain": [
       "array([[0.        , 2.11289055, 3.7975463 , ..., 4.51559865, 2.31688444,\n",
       "        1.10588047],\n",
       "       [0.        , 0.        , 4.35615967, ..., 4.93340427, 2.74011739,\n",
       "        2.12938584],\n",
       "       [0.        , 0.        , 0.        , ..., 3.17779509, 3.49432487,\n",
       "        3.23723317],\n",
       "       ...,\n",
       "       [0.        , 0.        , 0.        , ..., 0.        , 3.58695453,\n",
       "        4.11275247],\n",
       "       [0.        , 0.        , 0.        , ..., 0.        , 0.        ,\n",
       "        1.46894947],\n",
       "       [0.        , 0.        , 0.        , ..., 0.        , 0.        ,\n",
       "        0.        ]])"
      ]
     },
     "execution_count": 203,
     "metadata": {},
     "output_type": "execute_result"
    }
   ],
   "source": [
    "Matrix_Dist_Mahalanobis_2(Data=Data_quant_numpy) # 22.5 seg"
   ]
  },
  {
   "cell_type": "code",
   "execution_count": 204,
   "metadata": {},
   "outputs": [],
   "source": [
    "def Matrix_Dist_Mahalanobis_3(Data):\n",
    "\n",
    "    # Paso previo necesario si Data es pd.DataFrame  -->  Data = Data.to_numpy()\n",
    "\n",
    "    n = len(Data)\n",
    "\n",
    "    M =  np.empty((n , n))\n",
    "\n",
    "    S_inv=np.linalg.inv( np.cov(Data , rowvar=False) )\n",
    "\n",
    "   \n",
    "    for i in range(0, n):\n",
    "\n",
    "         for r in range(0, n):\n",
    "\n",
    "             if i >= r :\n",
    "               \n",
    "                 M[i,r] = 0\n",
    "\n",
    "             else :\n",
    "\n",
    "                 M[i,r] = Dist_Mahalanobis_3(x = np.array([Data[i,:] - Data[r,:]]) , S_inv=S_inv ) \n",
    "\n",
    "                      \n",
    "    return M "
   ]
  },
  {
   "cell_type": "code",
   "execution_count": 205,
   "metadata": {},
   "outputs": [
    {
     "data": {
      "text/plain": [
       "array([[0.        , 2.16321817, 3.81131086, ..., 2.74083537, 3.84799958,\n",
       "        1.06041471],\n",
       "       [0.        , 0.        , 4.29953104, ..., 2.76698155, 2.78100414,\n",
       "        2.20791581],\n",
       "       [0.        , 0.        , 0.        , ..., 2.63546884, 4.34269664,\n",
       "        3.32469143],\n",
       "       ...,\n",
       "       [0.        , 0.        , 0.        , ..., 0.        , 2.18534065,\n",
       "        1.8408748 ],\n",
       "       [0.        , 0.        , 0.        , ..., 0.        , 0.        ,\n",
       "        3.09496075],\n",
       "       [0.        , 0.        , 0.        , ..., 0.        , 0.        ,\n",
       "        0.        ]])"
      ]
     },
     "execution_count": 205,
     "metadata": {},
     "output_type": "execute_result"
    }
   ],
   "source": [
    "Matrix_Dist_Mahalanobis_3(Data=Data_quant_numpy[0:1000 , 0:1000]) # 4.8 seg"
   ]
  },
  {
   "cell_type": "code",
   "execution_count": 206,
   "metadata": {},
   "outputs": [
    {
     "data": {
      "text/plain": [
       "array([[0.        , 2.11289055, 3.7975463 , ..., 4.51559865, 2.31688444,\n",
       "        1.10588047],\n",
       "       [0.        , 0.        , 4.35615967, ..., 4.93340427, 2.74011739,\n",
       "        2.12938584],\n",
       "       [0.        , 0.        , 0.        , ..., 3.17779509, 3.49432487,\n",
       "        3.23723317],\n",
       "       ...,\n",
       "       [0.        , 0.        , 0.        , ..., 0.        , 3.58695453,\n",
       "        4.11275247],\n",
       "       [0.        , 0.        , 0.        , ..., 0.        , 0.        ,\n",
       "        1.46894947],\n",
       "       [0.        , 0.        , 0.        , ..., 0.        , 0.        ,\n",
       "        0.        ]])"
      ]
     },
     "execution_count": 206,
     "metadata": {},
     "output_type": "execute_result"
    }
   ],
   "source": [
    "M_Mahalanobis = Matrix_Dist_Mahalanobis_3(Data=Data_quant_numpy) # 19.7 seg\n",
    "\n",
    "M_Mahalanobis"
   ]
  },
  {
   "cell_type": "code",
   "execution_count": 207,
   "metadata": {},
   "outputs": [
    {
     "data": {
      "text/plain": [
       "array([[0.        , 2.11289055, 3.7975463 , ..., 4.51559865, 2.31688444,\n",
       "        1.10588047],\n",
       "       [2.11289055, 0.        , 4.35615967, ..., 4.93340427, 2.74011739,\n",
       "        2.12938584],\n",
       "       [3.7975463 , 4.35615967, 0.        , ..., 3.17779509, 3.49432487,\n",
       "        3.23723317],\n",
       "       ...,\n",
       "       [4.51559865, 4.93340427, 3.17779509, ..., 0.        , 3.58695453,\n",
       "        4.11275247],\n",
       "       [2.31688444, 2.74011739, 3.49432487, ..., 3.58695453, 0.        ,\n",
       "        1.46894947],\n",
       "       [1.10588047, 2.12938584, 3.23723317, ..., 4.11275247, 1.46894947,\n",
       "        0.        ]])"
      ]
     },
     "execution_count": 207,
     "metadata": {},
     "output_type": "execute_result"
    }
   ],
   "source": [
    "M_Mahalanobis = M_Mahalanobis + M_Mahalanobis.T\n",
    "\n",
    "M_Mahalanobis"
   ]
  },
  {
   "cell_type": "markdown",
   "metadata": {},
   "source": []
  },
  {
   "cell_type": "code",
   "execution_count": 208,
   "metadata": {},
   "outputs": [],
   "source": [
    "def a_b_c_d_Matrix(Data):\n",
    "\n",
    "    X = Data\n",
    "\n",
    "    a = X @ X.T\n",
    "\n",
    "    n = X.shape[0]\n",
    "\n",
    "    p = X.shape[1]\n",
    "\n",
    "    ones_matrix = np.ones((n, p)) \n",
    "\n",
    "    b = (ones_matrix - X) @ X.T\n",
    "\n",
    "    c = b.T\n",
    "\n",
    "    d = (ones_matrix - X) @ (ones_matrix - X).T\n",
    "\n",
    "    return a , b , c , d , p"
   ]
  },
  {
   "cell_type": "code",
   "execution_count": 209,
   "metadata": {},
   "outputs": [],
   "source": [
    "a, b, c, d, p = a_b_c_d_Matrix(Data_binary_numpy)"
   ]
  },
  {
   "cell_type": "code",
   "execution_count": 210,
   "metadata": {},
   "outputs": [
    {
     "data": {
      "text/plain": [
       "array([[1., 1., 1., ..., 1., 1., 1.],\n",
       "       [1., 1., 1., ..., 1., 1., 1.],\n",
       "       [1., 1., 2., ..., 1., 1., 1.],\n",
       "       ...,\n",
       "       [1., 1., 1., ..., 1., 1., 1.],\n",
       "       [1., 1., 1., ..., 1., 2., 1.],\n",
       "       [1., 1., 1., ..., 1., 1., 1.]])"
      ]
     },
     "execution_count": 210,
     "metadata": {},
     "output_type": "execute_result"
    }
   ],
   "source": [
    "a"
   ]
  },
  {
   "cell_type": "code",
   "execution_count": 211,
   "metadata": {},
   "outputs": [
    {
     "data": {
      "text/plain": [
       "array([[0., 1., 0., 1.],\n",
       "       [1., 0., 0., 1.]])"
      ]
     },
     "execution_count": 211,
     "metadata": {},
     "output_type": "execute_result"
    }
   ],
   "source": [
    "Data_binary_numpy[[30,1903], :]"
   ]
  },
  {
   "cell_type": "code",
   "execution_count": 212,
   "metadata": {},
   "outputs": [
    {
     "data": {
      "text/plain": [
       "1.0"
      ]
     },
     "execution_count": 212,
     "metadata": {},
     "output_type": "execute_result"
    }
   ],
   "source": [
    "a[30 , 1903]"
   ]
  },
  {
   "cell_type": "code",
   "execution_count": 213,
   "metadata": {},
   "outputs": [
    {
     "data": {
      "text/plain": [
       "array([[0., 0., 0., 1.],\n",
       "       [1., 0., 0., 1.]])"
      ]
     },
     "execution_count": 213,
     "metadata": {},
     "output_type": "execute_result"
    }
   ],
   "source": [
    "Data_binary_numpy[[40,1903], :]"
   ]
  },
  {
   "cell_type": "code",
   "execution_count": 214,
   "metadata": {},
   "outputs": [
    {
     "data": {
      "text/plain": [
       "1.0"
      ]
     },
     "execution_count": 214,
     "metadata": {},
     "output_type": "execute_result"
    }
   ],
   "source": [
    "a[40 , 1903]"
   ]
  },
  {
   "cell_type": "code",
   "execution_count": 215,
   "metadata": {},
   "outputs": [
    {
     "data": {
      "text/plain": [
       "array([[0., 0., 1., ..., 0., 1., 0.],\n",
       "       [0., 0., 1., ..., 0., 1., 0.],\n",
       "       [0., 0., 0., ..., 0., 1., 0.],\n",
       "       ...,\n",
       "       [0., 0., 1., ..., 0., 1., 0.],\n",
       "       [0., 0., 1., ..., 0., 0., 0.],\n",
       "       [0., 0., 1., ..., 0., 1., 0.]])"
      ]
     },
     "execution_count": 215,
     "metadata": {},
     "output_type": "execute_result"
    }
   ],
   "source": [
    "b"
   ]
  },
  {
   "cell_type": "code",
   "execution_count": 216,
   "metadata": {},
   "outputs": [
    {
     "data": {
      "text/plain": [
       "array([[0., 1., 0., 1.],\n",
       "       [1., 0., 0., 1.]])"
      ]
     },
     "execution_count": 216,
     "metadata": {},
     "output_type": "execute_result"
    }
   ],
   "source": [
    "Data_binary_numpy[[30,1903], :]"
   ]
  },
  {
   "cell_type": "code",
   "execution_count": 217,
   "metadata": {},
   "outputs": [
    {
     "data": {
      "text/plain": [
       "1.0"
      ]
     },
     "execution_count": 217,
     "metadata": {},
     "output_type": "execute_result"
    }
   ],
   "source": [
    "b[30 , 1903]"
   ]
  },
  {
   "cell_type": "code",
   "execution_count": 218,
   "metadata": {},
   "outputs": [
    {
     "data": {
      "text/plain": [
       "array([[0., 0., 0., 1.],\n",
       "       [1., 0., 0., 1.]])"
      ]
     },
     "execution_count": 218,
     "metadata": {},
     "output_type": "execute_result"
    }
   ],
   "source": [
    "Data_binary_numpy[[40,1903], :]"
   ]
  },
  {
   "cell_type": "code",
   "execution_count": 219,
   "metadata": {},
   "outputs": [
    {
     "data": {
      "text/plain": [
       "1.0"
      ]
     },
     "execution_count": 219,
     "metadata": {},
     "output_type": "execute_result"
    }
   ],
   "source": [
    "b[40,1903]"
   ]
  },
  {
   "cell_type": "code",
   "execution_count": 220,
   "metadata": {},
   "outputs": [
    {
     "data": {
      "text/plain": [
       "array([[0., 0., 0., ..., 0., 0., 0.],\n",
       "       [0., 0., 0., ..., 0., 0., 0.],\n",
       "       [1., 1., 0., ..., 1., 1., 1.],\n",
       "       ...,\n",
       "       [0., 0., 0., ..., 0., 0., 0.],\n",
       "       [1., 1., 1., ..., 1., 0., 1.],\n",
       "       [0., 0., 0., ..., 0., 0., 0.]])"
      ]
     },
     "execution_count": 220,
     "metadata": {},
     "output_type": "execute_result"
    }
   ],
   "source": [
    "c"
   ]
  },
  {
   "cell_type": "code",
   "execution_count": 221,
   "metadata": {},
   "outputs": [
    {
     "data": {
      "text/plain": [
       "1.0"
      ]
     },
     "execution_count": 221,
     "metadata": {},
     "output_type": "execute_result"
    }
   ],
   "source": [
    "c[30, 1903]"
   ]
  },
  {
   "cell_type": "code",
   "execution_count": 222,
   "metadata": {},
   "outputs": [
    {
     "data": {
      "text/plain": [
       "array([[0., 0., 0., 1.],\n",
       "       [1., 0., 0., 1.]])"
      ]
     },
     "execution_count": 222,
     "metadata": {},
     "output_type": "execute_result"
    }
   ],
   "source": [
    "Data_binary_numpy[[40,1903], :]"
   ]
  },
  {
   "cell_type": "code",
   "execution_count": 223,
   "metadata": {},
   "outputs": [
    {
     "data": {
      "text/plain": [
       "0.0"
      ]
     },
     "execution_count": 223,
     "metadata": {},
     "output_type": "execute_result"
    }
   ],
   "source": [
    "c[40, 1903]"
   ]
  },
  {
   "cell_type": "code",
   "execution_count": 224,
   "metadata": {},
   "outputs": [
    {
     "data": {
      "text/plain": [
       "array([[3., 3., 2., ..., 3., 2., 3.],\n",
       "       [3., 3., 2., ..., 3., 2., 3.],\n",
       "       [2., 2., 2., ..., 2., 1., 2.],\n",
       "       ...,\n",
       "       [3., 3., 2., ..., 3., 2., 3.],\n",
       "       [2., 2., 1., ..., 2., 2., 2.],\n",
       "       [3., 3., 2., ..., 3., 2., 3.]])"
      ]
     },
     "execution_count": 224,
     "metadata": {},
     "output_type": "execute_result"
    }
   ],
   "source": [
    "d"
   ]
  },
  {
   "cell_type": "code",
   "execution_count": 225,
   "metadata": {},
   "outputs": [
    {
     "data": {
      "text/plain": [
       "1.0"
      ]
     },
     "execution_count": 225,
     "metadata": {},
     "output_type": "execute_result"
    }
   ],
   "source": [
    "d[30,1903]"
   ]
  },
  {
   "cell_type": "code",
   "execution_count": 226,
   "metadata": {},
   "outputs": [
    {
     "data": {
      "text/plain": [
       "array([[0., 0., 0., 1.],\n",
       "       [1., 0., 0., 1.]])"
      ]
     },
     "execution_count": 226,
     "metadata": {},
     "output_type": "execute_result"
    }
   ],
   "source": [
    "Data_binary_numpy[[40,1903], :]"
   ]
  },
  {
   "cell_type": "code",
   "execution_count": 227,
   "metadata": {},
   "outputs": [
    {
     "data": {
      "text/plain": [
       "2.0"
      ]
     },
     "execution_count": 227,
     "metadata": {},
     "output_type": "execute_result"
    }
   ],
   "source": [
    "d[40,1903]"
   ]
  },
  {
   "cell_type": "markdown",
   "metadata": {},
   "source": []
  },
  {
   "cell_type": "markdown",
   "metadata": {},
   "source": [
    "## Similaridad de Sokal"
   ]
  },
  {
   "cell_type": "code",
   "execution_count": 228,
   "metadata": {},
   "outputs": [],
   "source": [
    "def Sokal_Similarity_1(i , r, Data):\n",
    "\n",
    "    a, b, c, d, p = a_b_c_d_Matrix(Data)\n",
    "\n",
    "    if a[i,r] + d[i,r] == 0 :\n",
    "\n",
    "        Sokal_Similarity = 0\n",
    "\n",
    "        \n",
    "    else :\n",
    "\n",
    "        Sokal_Similarity = (a[i,r] + d[i,r]) / p\n",
    "        \n",
    "\n",
    "    return Sokal_Similarity"
   ]
  },
  {
   "cell_type": "code",
   "execution_count": 229,
   "metadata": {},
   "outputs": [
    {
     "data": {
      "text/plain": [
       "0.75"
      ]
     },
     "execution_count": 229,
     "metadata": {},
     "output_type": "execute_result"
    }
   ],
   "source": [
    "Sokal_Similarity_1(i=1 , r=2, Data=Data_binary_numpy)"
   ]
  },
  {
   "cell_type": "code",
   "execution_count": 230,
   "metadata": {},
   "outputs": [],
   "source": [
    "def Sokal_Similarity_2(i , r, a , d, p):\n",
    "\n",
    "\n",
    "    if a[i,r] + d[i,r] == 0 :\n",
    "\n",
    "        Sokal_Similarity = 0\n",
    "\n",
    "        \n",
    "    else :\n",
    "\n",
    "        Sokal_Similarity = (a[i,r] + d[i,r]) / p\n",
    "        \n",
    "\n",
    "    return Sokal_Similarity"
   ]
  },
  {
   "cell_type": "code",
   "execution_count": 231,
   "metadata": {},
   "outputs": [
    {
     "data": {
      "text/plain": [
       "0.75"
      ]
     },
     "execution_count": 231,
     "metadata": {},
     "output_type": "execute_result"
    }
   ],
   "source": [
    "a, b, c, d, p = a_b_c_d_Matrix(Data_binary_numpy)\n",
    "\n",
    "Sokal_Similarity_2(i=1, r=2, a=a, d=d, p=p)"
   ]
  },
  {
   "cell_type": "code",
   "execution_count": 232,
   "metadata": {},
   "outputs": [],
   "source": [
    "def Matrix_Sim_Sokal_1(Data):\n",
    "\n",
    "    # Paso previo necesario si Data es pd.DataFrame  -->  Data = Data.to_numpy()\n",
    "\n",
    "    n = len(Data)\n",
    "\n",
    "    M =  np.empty((n , n))\n",
    "\n",
    "   \n",
    "    for i in range(0, n):\n",
    "\n",
    "         for r in range(0, n):\n",
    "\n",
    "            if i > r :\n",
    "               \n",
    "                 M[i,r] = 0\n",
    "            \n",
    "            elif i == r :\n",
    "               \n",
    "                 M[i,r] = 1\n",
    "            \n",
    "            else :\n",
    "\n",
    "                 M[i,r] = Sokal_Similarity_1(i, r, Data)\n",
    "                      \n",
    "    return M "
   ]
  },
  {
   "cell_type": "code",
   "execution_count": 233,
   "metadata": {},
   "outputs": [
    {
     "data": {
      "text/plain": [
       "array([[1.  , 1.  , 0.75, ..., 0.75, 0.75, 1.  ],\n",
       "       [0.  , 1.  , 0.75, ..., 0.75, 0.75, 1.  ],\n",
       "       [0.  , 0.  , 1.  , ..., 0.5 , 0.5 , 0.75],\n",
       "       ...,\n",
       "       [0.  , 0.  , 0.  , ..., 1.  , 1.  , 0.75],\n",
       "       [0.  , 0.  , 0.  , ..., 0.  , 1.  , 0.75],\n",
       "       [0.  , 0.  , 0.  , ..., 0.  , 0.  , 1.  ]])"
      ]
     },
     "execution_count": 233,
     "metadata": {},
     "output_type": "execute_result"
    }
   ],
   "source": [
    "Matrix_Sim_Sokal_1(Data=Data_binary_numpy[0:300 , 0:300]) # 1.29 mins"
   ]
  },
  {
   "cell_type": "markdown",
   "metadata": {},
   "source": []
  },
  {
   "cell_type": "code",
   "execution_count": 234,
   "metadata": {},
   "outputs": [],
   "source": [
    "def Matrix_Sim_Sokal_2(Data):\n",
    "\n",
    "    # Paso previo necesario si Data es pd.DataFrame  -->  Data = Data.to_numpy()\n",
    "\n",
    "    n = len(Data)\n",
    "\n",
    "    M =  np.empty((n , n))\n",
    "\n",
    "    a, b, c, d, p = a_b_c_d_Matrix(Data)\n",
    "\n",
    "   \n",
    "    for i in range(0, n):\n",
    "\n",
    "         for r in range(0, n):\n",
    "\n",
    "            if i > r :\n",
    "               \n",
    "                 M[i,r] = 0\n",
    "            \n",
    "            elif i == r :\n",
    "               \n",
    "                 M[i,r] = 1\n",
    "\n",
    "            else :\n",
    "\n",
    "                 M[i,r] = Sokal_Similarity_2(i=i, r=r, a=a, d=d, p=p)\n",
    "                      \n",
    "    return M "
   ]
  },
  {
   "cell_type": "code",
   "execution_count": 235,
   "metadata": {},
   "outputs": [
    {
     "data": {
      "text/plain": [
       "array([[1.  , 1.  , 0.75, ..., 1.  , 1.  , 0.75],\n",
       "       [0.  , 1.  , 0.75, ..., 1.  , 1.  , 0.75],\n",
       "       [0.  , 0.  , 1.  , ..., 0.75, 0.75, 0.5 ],\n",
       "       ...,\n",
       "       [0.  , 0.  , 0.  , ..., 1.  , 1.  , 0.75],\n",
       "       [0.  , 0.  , 0.  , ..., 0.  , 1.  , 0.75],\n",
       "       [0.  , 0.  , 0.  , ..., 0.  , 0.  , 1.  ]])"
      ]
     },
     "execution_count": 235,
     "metadata": {},
     "output_type": "execute_result"
    }
   ],
   "source": [
    "Matrix_Sim_Sokal_2(Data=Data_binary_numpy[0:500 , 0:500]) # 0.2 seg"
   ]
  },
  {
   "cell_type": "code",
   "execution_count": 236,
   "metadata": {},
   "outputs": [
    {
     "data": {
      "text/plain": [
       "array([[1.  , 1.  , 0.75, ..., 1.  , 0.75, 1.  ],\n",
       "       [0.  , 1.  , 0.75, ..., 1.  , 0.75, 1.  ],\n",
       "       [0.  , 0.  , 1.  , ..., 0.75, 0.5 , 0.75],\n",
       "       ...,\n",
       "       [0.  , 0.  , 0.  , ..., 1.  , 0.75, 1.  ],\n",
       "       [0.  , 0.  , 0.  , ..., 0.  , 1.  , 0.75],\n",
       "       [0.  , 0.  , 0.  , ..., 0.  , 0.  , 1.  ]])"
      ]
     },
     "execution_count": 236,
     "metadata": {},
     "output_type": "execute_result"
    }
   ],
   "source": [
    "M_Sim_Sokal = Matrix_Sim_Sokal_2(Data=Data_binary_numpy) # 3.4 seg\n",
    "\n",
    "M_Sim_Sokal"
   ]
  },
  {
   "cell_type": "code",
   "execution_count": 237,
   "metadata": {},
   "outputs": [
    {
     "data": {
      "text/plain": [
       "array([[1.  , 1.  , 0.75, ..., 1.  , 0.75, 1.  ],\n",
       "       [1.  , 1.  , 0.75, ..., 1.  , 0.75, 1.  ],\n",
       "       [0.75, 0.75, 1.  , ..., 0.75, 0.5 , 0.75],\n",
       "       ...,\n",
       "       [1.  , 1.  , 0.75, ..., 1.  , 0.75, 1.  ],\n",
       "       [0.75, 0.75, 0.5 , ..., 0.75, 1.  , 0.75],\n",
       "       [1.  , 1.  , 0.75, ..., 1.  , 0.75, 1.  ]])"
      ]
     },
     "execution_count": 237,
     "metadata": {},
     "output_type": "execute_result"
    }
   ],
   "source": [
    "M_Sim_Sokal = M_Sim_Sokal + M_Sim_Sokal.T - np.diag(np.repeat(1 , len(M_Sim_Sokal)), k=0)\n",
    "\n",
    "M_Sim_Sokal"
   ]
  },
  {
   "cell_type": "markdown",
   "metadata": {},
   "source": []
  },
  {
   "cell_type": "markdown",
   "metadata": {},
   "source": []
  },
  {
   "cell_type": "code",
   "execution_count": 238,
   "metadata": {},
   "outputs": [],
   "source": [
    "def Dist_Sokal(i, r, a, d, p):\n",
    "\n",
    "    dist_Sokal = np.sqrt( Sokal_Similarity_2(i , i, a , d, p) + Sokal_Similarity_2(r , r, a , d, p) - 2*Sokal_Similarity_2(i , r, a , d, p) )\n",
    "\n",
    "    return dist_Sokal  "
   ]
  },
  {
   "cell_type": "code",
   "execution_count": 295,
   "metadata": {},
   "outputs": [
    {
     "data": {
      "text/plain": [
       "0.7071067811865476"
      ]
     },
     "execution_count": 295,
     "metadata": {},
     "output_type": "execute_result"
    }
   ],
   "source": [
    "a, b, c, d, p = a_b_c_d_Matrix(Data_binary_numpy)\n",
    "\n",
    "Dist_Sokal(i=1, r=2, a=a, d=d, p=p)"
   ]
  },
  {
   "cell_type": "code",
   "execution_count": 240,
   "metadata": {},
   "outputs": [],
   "source": [
    "def Matrix_Dist_Sokal(Data):\n",
    "\n",
    "    # Paso previo necesario si Data es pd.DataFrame  -->  Data = Data.to_numpy()\n",
    "\n",
    "    n = len(Data)\n",
    "\n",
    "    M =  np.empty((n , n))\n",
    "\n",
    "    a, b, c, d, p = a_b_c_d_Matrix(Data)\n",
    "\n",
    "   \n",
    "    for i in range(0, n):\n",
    "\n",
    "         for r in range(0, n):\n",
    "\n",
    "             if i >= r :\n",
    "               \n",
    "                 M[i,r] = 0\n",
    "\n",
    "             else :\n",
    "\n",
    "                 M[i,r] = Dist_Sokal(i=i, r=r, a=a, d=d, p=p)\n",
    "                      \n",
    "    return M "
   ]
  },
  {
   "cell_type": "code",
   "execution_count": 241,
   "metadata": {},
   "outputs": [
    {
     "data": {
      "text/plain": [
       "array([[0.        , 0.        , 0.70710678, ..., 0.        , 0.70710678,\n",
       "        0.        ],\n",
       "       [0.        , 0.        , 0.70710678, ..., 0.        , 0.70710678,\n",
       "        0.        ],\n",
       "       [0.        , 0.        , 0.        , ..., 0.70710678, 1.        ,\n",
       "        0.70710678],\n",
       "       ...,\n",
       "       [0.        , 0.        , 0.        , ..., 0.        , 0.70710678,\n",
       "        0.        ],\n",
       "       [0.        , 0.        , 0.        , ..., 0.        , 0.        ,\n",
       "        0.70710678],\n",
       "       [0.        , 0.        , 0.        , ..., 0.        , 0.        ,\n",
       "        0.        ]])"
      ]
     },
     "execution_count": 241,
     "metadata": {},
     "output_type": "execute_result"
    }
   ],
   "source": [
    "M_Dist_Sokal = Matrix_Dist_Sokal(Data=Data_binary_numpy)\n",
    "\n",
    "M_Dist_Sokal"
   ]
  },
  {
   "cell_type": "code",
   "execution_count": 242,
   "metadata": {},
   "outputs": [
    {
     "data": {
      "text/plain": [
       "array([[0.        , 0.        , 0.70710678, ..., 0.        , 0.70710678,\n",
       "        0.        ],\n",
       "       [0.        , 0.        , 0.70710678, ..., 0.        , 0.70710678,\n",
       "        0.        ],\n",
       "       [0.70710678, 0.70710678, 0.        , ..., 0.70710678, 1.        ,\n",
       "        0.70710678],\n",
       "       ...,\n",
       "       [0.        , 0.        , 0.70710678, ..., 0.        , 0.70710678,\n",
       "        0.        ],\n",
       "       [0.70710678, 0.70710678, 1.        , ..., 0.70710678, 0.        ,\n",
       "        0.70710678],\n",
       "       [0.        , 0.        , 0.70710678, ..., 0.        , 0.70710678,\n",
       "        0.        ]])"
      ]
     },
     "execution_count": 242,
     "metadata": {},
     "output_type": "execute_result"
    }
   ],
   "source": [
    "M_Dist_Sokal = M_Dist_Sokal + M_Dist_Sokal.T\n",
    "\n",
    "M_Dist_Sokal"
   ]
  },
  {
   "cell_type": "markdown",
   "metadata": {},
   "source": []
  },
  {
   "cell_type": "markdown",
   "metadata": {},
   "source": []
  },
  {
   "cell_type": "markdown",
   "metadata": {},
   "source": [
    "## Similaridad de Jaccard"
   ]
  },
  {
   "cell_type": "code",
   "execution_count": 243,
   "metadata": {},
   "outputs": [],
   "source": [
    "def Jaccard_Similarity_1(i, r, Data):\n",
    "\n",
    "    a, b, c, d, p = a_b_c_d_Matrix(Data)\n",
    "\n",
    "    if a[i,r] == 0 :\n",
    "\n",
    "        Jaccard_Similarity = 0\n",
    "\n",
    "    else :\n",
    "\n",
    "        Jaccard_Similarity = a[i,r] / (a[i,r] + b[i,r] + c[i,r])\n",
    "\n",
    "\n",
    "    return Jaccard_Similarity"
   ]
  },
  {
   "cell_type": "code",
   "execution_count": 244,
   "metadata": {},
   "outputs": [
    {
     "data": {
      "text/plain": [
       "0"
      ]
     },
     "execution_count": 244,
     "metadata": {},
     "output_type": "execute_result"
    }
   ],
   "source": [
    "Jaccard_Similarity_1(i=2, r=5, Data=Data_binary_numpy)"
   ]
  },
  {
   "cell_type": "code",
   "execution_count": 245,
   "metadata": {},
   "outputs": [],
   "source": [
    "def Jaccard_Similarity_2(i , r, a , b, c):\n",
    "\n",
    "\n",
    "    if a[i,r] == 0 :\n",
    "\n",
    "        Jaccard_Similarity = 0\n",
    "\n",
    "        \n",
    "    else :\n",
    "\n",
    "        Jaccard_Similarity = a[i,r] / (a[i,r] + b[i,r] + c[i,r])\n",
    "        \n",
    "\n",
    "    return Jaccard_Similarity"
   ]
  },
  {
   "cell_type": "code",
   "execution_count": 246,
   "metadata": {},
   "outputs": [
    {
     "data": {
      "text/plain": [
       "0"
      ]
     },
     "execution_count": 246,
     "metadata": {},
     "output_type": "execute_result"
    }
   ],
   "source": [
    "a, b, c, d, p = a_b_c_d_Matrix(Data=Data_binary_numpy)\n",
    "\n",
    "Jaccard_Similarity_2(i=2, r=5, a=a , b=b, c=c)"
   ]
  },
  {
   "cell_type": "code",
   "execution_count": 247,
   "metadata": {},
   "outputs": [],
   "source": [
    "def Matrix_Sim_Jaccard_1(Data):\n",
    "\n",
    "    # Paso previo necesario si Data es pd.DataFrame  -->  Data = Data.to_numpy()\n",
    "\n",
    "    n = len(Data)\n",
    "\n",
    "    M =  np.empty((n , n))\n",
    "\n",
    "   \n",
    "    for i in range(0, n):\n",
    "\n",
    "         for r in range(0, n):\n",
    "\n",
    "            if i > r :\n",
    "               \n",
    "                 M[i,r] = 0\n",
    "            \n",
    "            elif i == r :\n",
    "               \n",
    "                 M[i,r] = 1\n",
    "            \n",
    "            else :\n",
    "\n",
    "                 M[i,r] = Jaccard_Similarity_1(i, r, Data)\n",
    "                      \n",
    "    return M "
   ]
  },
  {
   "cell_type": "code",
   "execution_count": 248,
   "metadata": {},
   "outputs": [
    {
     "data": {
      "text/plain": [
       "array([[1. , 1. , 0.5, ..., 0. , 0. , 1. ],\n",
       "       [0. , 1. , 0.5, ..., 0. , 0. , 1. ],\n",
       "       [0. , 0. , 1. , ..., 0. , 0. , 0.5],\n",
       "       ...,\n",
       "       [0. , 0. , 0. , ..., 1. , 0. , 0. ],\n",
       "       [0. , 0. , 0. , ..., 0. , 1. , 0. ],\n",
       "       [0. , 0. , 0. , ..., 0. , 0. , 1. ]])"
      ]
     },
     "execution_count": 248,
     "metadata": {},
     "output_type": "execute_result"
    }
   ],
   "source": [
    "Matrix_Sim_Jaccard_1(Data=Data_binary_numpy[0:300,0:300])  # 1.52 min"
   ]
  },
  {
   "cell_type": "code",
   "execution_count": 249,
   "metadata": {},
   "outputs": [],
   "source": [
    "def Matrix_Sim_Jaccard_2(Data):\n",
    "\n",
    "    # Paso previo necesario si Data es pd.DataFrame  -->  Data = Data.to_numpy()\n",
    "\n",
    "    n = len(Data)\n",
    "\n",
    "    M =  np.empty((n , n))\n",
    "\n",
    "    a, b, c, d, p = a_b_c_d_Matrix(Data=Data_binary_numpy)\n",
    "\n",
    "   \n",
    "    for i in range(0, n):\n",
    "\n",
    "         for r in range(0, n):\n",
    "\n",
    "            if i > r :\n",
    "               \n",
    "                 M[i,r] = 0\n",
    "            \n",
    "            elif i == r :\n",
    "               \n",
    "                 M[i,r] = 1\n",
    "            \n",
    "            else :\n",
    "\n",
    "                 M[i,r] = Jaccard_Similarity_2(i , r , a , b , c)\n",
    "                      \n",
    "    return M "
   ]
  },
  {
   "cell_type": "code",
   "execution_count": 250,
   "metadata": {},
   "outputs": [
    {
     "data": {
      "text/plain": [
       "array([[1. , 1. , 0.5, ..., 0. , 0. , 1. ],\n",
       "       [0. , 1. , 0.5, ..., 0. , 0. , 1. ],\n",
       "       [0. , 0. , 1. , ..., 0. , 0. , 0.5],\n",
       "       ...,\n",
       "       [0. , 0. , 0. , ..., 1. , 0. , 0. ],\n",
       "       [0. , 0. , 0. , ..., 0. , 1. , 0. ],\n",
       "       [0. , 0. , 0. , ..., 0. , 0. , 1. ]])"
      ]
     },
     "execution_count": 250,
     "metadata": {},
     "output_type": "execute_result"
    }
   ],
   "source": [
    "Matrix_Sim_Jaccard_2(Data=Data_binary_numpy[0:300,0:300])"
   ]
  },
  {
   "cell_type": "code",
   "execution_count": 251,
   "metadata": {},
   "outputs": [
    {
     "data": {
      "text/plain": [
       "array([[1.        , 1.        , 0.5       , ..., 1.        , 0.5       ,\n",
       "        1.        ],\n",
       "       [0.        , 1.        , 0.5       , ..., 1.        , 0.5       ,\n",
       "        1.        ],\n",
       "       [0.        , 0.        , 1.        , ..., 0.5       , 0.33333333,\n",
       "        0.5       ],\n",
       "       ...,\n",
       "       [0.        , 0.        , 0.        , ..., 1.        , 0.5       ,\n",
       "        1.        ],\n",
       "       [0.        , 0.        , 0.        , ..., 0.        , 1.        ,\n",
       "        0.5       ],\n",
       "       [0.        , 0.        , 0.        , ..., 0.        , 0.        ,\n",
       "        1.        ]])"
      ]
     },
     "execution_count": 251,
     "metadata": {},
     "output_type": "execute_result"
    }
   ],
   "source": [
    "M_Jaccard = Matrix_Sim_Jaccard_2(Data=Data_binary_numpy)\n",
    "\n",
    "M_Jaccard "
   ]
  },
  {
   "cell_type": "code",
   "execution_count": 252,
   "metadata": {},
   "outputs": [
    {
     "data": {
      "text/plain": [
       "array([[1.        , 1.        , 0.5       , ..., 1.        , 0.5       ,\n",
       "        1.        ],\n",
       "       [1.        , 1.        , 0.5       , ..., 1.        , 0.5       ,\n",
       "        1.        ],\n",
       "       [0.5       , 0.5       , 1.        , ..., 0.5       , 0.33333333,\n",
       "        0.5       ],\n",
       "       ...,\n",
       "       [1.        , 1.        , 0.5       , ..., 1.        , 0.5       ,\n",
       "        1.        ],\n",
       "       [0.5       , 0.5       , 0.33333333, ..., 0.5       , 1.        ,\n",
       "        0.5       ],\n",
       "       [1.        , 1.        , 0.5       , ..., 1.        , 0.5       ,\n",
       "        1.        ]])"
      ]
     },
     "execution_count": 252,
     "metadata": {},
     "output_type": "execute_result"
    }
   ],
   "source": [
    "M_Jaccard = M_Jaccard + M_Jaccard.T - np.diag(np.repeat(1 , len(M_Jaccard)), k=0)\n",
    "\n",
    "M_Jaccard "
   ]
  },
  {
   "cell_type": "markdown",
   "metadata": {},
   "source": []
  },
  {
   "cell_type": "code",
   "execution_count": 253,
   "metadata": {},
   "outputs": [],
   "source": [
    "def Dist_Jaccard(i , r, a , b, c):\n",
    "\n",
    "    Dist_Jaccard = np.sqrt( Jaccard_Similarity_2(i , i, a , b, c) + Jaccard_Similarity_2(r , r, a , b, c) - 2*Jaccard_Similarity_2(i , r, a , b, c) )\n",
    "\n",
    "    return Dist_Jaccard  "
   ]
  },
  {
   "cell_type": "code",
   "execution_count": 254,
   "metadata": {},
   "outputs": [
    {
     "data": {
      "text/plain": [
       "1.0"
      ]
     },
     "execution_count": 254,
     "metadata": {},
     "output_type": "execute_result"
    }
   ],
   "source": [
    "a, b, c, d, p = a_b_c_d_Matrix(Data_binary_numpy)\n",
    "\n",
    "Dist_Jaccard(i=2 , r=5, a=a , b=b, c=c)"
   ]
  },
  {
   "cell_type": "code",
   "execution_count": 255,
   "metadata": {},
   "outputs": [],
   "source": [
    "def Matrix_Dist_Jaccard(Data):\n",
    "\n",
    "    # Paso previo necesario si Data es pd.DataFrame  -->  Data = Data.to_numpy()\n",
    "\n",
    "    n = len(Data)\n",
    "\n",
    "    M =  np.empty((n , n))\n",
    "\n",
    "    a, b, c, d, p = a_b_c_d_Matrix(Data)\n",
    "\n",
    "   \n",
    "    for i in range(0, n):\n",
    "\n",
    "         for r in range(0, n):\n",
    "\n",
    "             if i >= r :\n",
    "               \n",
    "                 M[i,r] = 0\n",
    "\n",
    "             else :\n",
    "\n",
    "                 M[i,r] = Dist_Jaccard(i=i, r=r, a=a, b=b, c=c)\n",
    "                      \n",
    "    return M "
   ]
  },
  {
   "cell_type": "code",
   "execution_count": 256,
   "metadata": {},
   "outputs": [
    {
     "data": {
      "text/plain": [
       "array([[0.        , 0.        , 1.        , ..., 0.        , 1.        ,\n",
       "        0.        ],\n",
       "       [0.        , 0.        , 1.        , ..., 0.        , 1.        ,\n",
       "        0.        ],\n",
       "       [0.        , 0.        , 0.        , ..., 1.        , 1.15470054,\n",
       "        1.        ],\n",
       "       ...,\n",
       "       [0.        , 0.        , 0.        , ..., 0.        , 1.        ,\n",
       "        0.        ],\n",
       "       [0.        , 0.        , 0.        , ..., 0.        , 0.        ,\n",
       "        1.        ],\n",
       "       [0.        , 0.        , 0.        , ..., 0.        , 0.        ,\n",
       "        0.        ]])"
      ]
     },
     "execution_count": 256,
     "metadata": {},
     "output_type": "execute_result"
    }
   ],
   "source": [
    "M_Dist_Jaccard = Matrix_Dist_Jaccard(Data=Data_binary_numpy)\n",
    "\n",
    "M_Dist_Jaccard"
   ]
  },
  {
   "cell_type": "code",
   "execution_count": 257,
   "metadata": {},
   "outputs": [
    {
     "data": {
      "text/plain": [
       "array([[0.        , 0.        , 1.        , ..., 0.        , 1.        ,\n",
       "        0.        ],\n",
       "       [0.        , 0.        , 1.        , ..., 0.        , 1.        ,\n",
       "        0.        ],\n",
       "       [1.        , 1.        , 0.        , ..., 1.        , 1.15470054,\n",
       "        1.        ],\n",
       "       ...,\n",
       "       [0.        , 0.        , 1.        , ..., 0.        , 1.        ,\n",
       "        0.        ],\n",
       "       [1.        , 1.        , 1.15470054, ..., 1.        , 0.        ,\n",
       "        1.        ],\n",
       "       [0.        , 0.        , 1.        , ..., 0.        , 1.        ,\n",
       "        0.        ]])"
      ]
     },
     "execution_count": 257,
     "metadata": {},
     "output_type": "execute_result"
    }
   ],
   "source": [
    "M_Dist_Jaccard = M_Dist_Jaccard + M_Dist_Jaccard.T \n",
    "\n",
    "M_Dist_Jaccard"
   ]
  },
  {
   "cell_type": "markdown",
   "metadata": {},
   "source": []
  },
  {
   "cell_type": "markdown",
   "metadata": {},
   "source": []
  },
  {
   "cell_type": "markdown",
   "metadata": {},
   "source": [
    "## Similaridad de coincidencias"
   ]
  },
  {
   "cell_type": "code",
   "execution_count": 258,
   "metadata": {},
   "outputs": [],
   "source": [
    "def alpha(x_i, x_r):\n",
    "\n",
    "    alpha = sum(x_i == x_r)\n",
    "\n",
    "    return(alpha)   "
   ]
  },
  {
   "cell_type": "code",
   "execution_count": 259,
   "metadata": {},
   "outputs": [
    {
     "data": {
      "text/plain": [
       "array([2., 1., 3.])"
      ]
     },
     "execution_count": 259,
     "metadata": {},
     "output_type": "execute_result"
    }
   ],
   "source": [
    "Data_multiclass_numpy[2,:] "
   ]
  },
  {
   "cell_type": "code",
   "execution_count": 260,
   "metadata": {},
   "outputs": [
    {
     "data": {
      "text/plain": [
       "array([2., 3., 3.])"
      ]
     },
     "execution_count": 260,
     "metadata": {},
     "output_type": "execute_result"
    }
   ],
   "source": [
    "Data_multiclass_numpy[5,:] "
   ]
  },
  {
   "cell_type": "code",
   "execution_count": 261,
   "metadata": {},
   "outputs": [
    {
     "data": {
      "text/plain": [
       "2"
      ]
     },
     "execution_count": 261,
     "metadata": {},
     "output_type": "execute_result"
    }
   ],
   "source": [
    "alpha(x_i=Data_multiclass_numpy[2,:] , x_r=Data_multiclass_numpy[5,:])"
   ]
  },
  {
   "cell_type": "code",
   "execution_count": 262,
   "metadata": {},
   "outputs": [
    {
     "data": {
      "text/plain": [
       "array([2., 3., 2.])"
      ]
     },
     "execution_count": 262,
     "metadata": {},
     "output_type": "execute_result"
    }
   ],
   "source": [
    "Data_multiclass_numpy[15,:] "
   ]
  },
  {
   "cell_type": "code",
   "execution_count": 263,
   "metadata": {},
   "outputs": [
    {
     "data": {
      "text/plain": [
       "array([2., 4., 3.])"
      ]
     },
     "execution_count": 263,
     "metadata": {},
     "output_type": "execute_result"
    }
   ],
   "source": [
    "Data_multiclass_numpy[14,:]"
   ]
  },
  {
   "cell_type": "code",
   "execution_count": 264,
   "metadata": {},
   "outputs": [
    {
     "data": {
      "text/plain": [
       "1"
      ]
     },
     "execution_count": 264,
     "metadata": {},
     "output_type": "execute_result"
    }
   ],
   "source": [
    "alpha(x_i=Data_multiclass_numpy[14,:] , x_r=Data_multiclass_numpy[15,:])"
   ]
  },
  {
   "cell_type": "code",
   "execution_count": 272,
   "metadata": {},
   "outputs": [],
   "source": [
    "def matches_similarity(x_i, x_r, Data):\n",
    "\n",
    "    p = Data.shape[1]\n",
    "\n",
    "    matches_similarity = alpha(x_i, x_r) / p\n",
    "\n",
    "    return(matches_similarity)"
   ]
  },
  {
   "cell_type": "code",
   "execution_count": 273,
   "metadata": {},
   "outputs": [
    {
     "data": {
      "text/plain": [
       "0.6666666666666666"
      ]
     },
     "execution_count": 273,
     "metadata": {},
     "output_type": "execute_result"
    }
   ],
   "source": [
    "matches_similarity(x_i=Data_multiclass_numpy[2,:] , x_r=Data_multiclass_numpy[5,:], Data=Data_multiclass_numpy)"
   ]
  },
  {
   "cell_type": "code",
   "execution_count": 274,
   "metadata": {},
   "outputs": [
    {
     "data": {
      "text/plain": [
       "0.3333333333333333"
      ]
     },
     "execution_count": 274,
     "metadata": {},
     "output_type": "execute_result"
    }
   ],
   "source": [
    "matches_similarity(x_i=Data_multiclass_numpy[14,:] , x_r=Data_multiclass_numpy[15,:], Data=Data_multiclass_numpy)"
   ]
  },
  {
   "cell_type": "markdown",
   "metadata": {},
   "source": []
  },
  {
   "cell_type": "code",
   "execution_count": 275,
   "metadata": {},
   "outputs": [],
   "source": [
    "def Matrix_Sim_Matches(Data):\n",
    "\n",
    "    # Paso previo necesario si Data es pd.DataFrame  -->  Data = Data.to_numpy()\n",
    "\n",
    "    n = len(Data)\n",
    "\n",
    "    M =  np.empty((n , n))\n",
    "\n",
    "   \n",
    "    for i in range(0, n):\n",
    "\n",
    "         for r in range(0, n):\n",
    "\n",
    "            if i > r :\n",
    "               \n",
    "                 M[i,r] = 0\n",
    "            \n",
    "            elif i == r :\n",
    "               \n",
    "                 M[i,r] = 1\n",
    "            \n",
    "            else :\n",
    "\n",
    "                 M[i,r] = matches_similarity(x_i=Data[i,:], x_r=Data[r,:], Data=Data)\n",
    "                      \n",
    "    return M "
   ]
  },
  {
   "cell_type": "code",
   "execution_count": 276,
   "metadata": {},
   "outputs": [
    {
     "data": {
      "text/plain": [
       "array([[1.        , 0.66666667, 0.33333333, ..., 0.33333333, 0.33333333,\n",
       "        0.        ],\n",
       "       [0.        , 1.        , 0.66666667, ..., 0.33333333, 0.33333333,\n",
       "        0.33333333],\n",
       "       [0.        , 0.        , 1.        , ..., 0.33333333, 0.33333333,\n",
       "        0.33333333],\n",
       "       ...,\n",
       "       [0.        , 0.        , 0.        , ..., 1.        , 0.66666667,\n",
       "        0.33333333],\n",
       "       [0.        , 0.        , 0.        , ..., 0.        , 1.        ,\n",
       "        0.33333333],\n",
       "       [0.        , 0.        , 0.        , ..., 0.        , 0.        ,\n",
       "        1.        ]])"
      ]
     },
     "execution_count": 276,
     "metadata": {},
     "output_type": "execute_result"
    }
   ],
   "source": [
    "M_matches = Matrix_Sim_Matches(Data=Data_multiclass_numpy)\n",
    "\n",
    "M_matches "
   ]
  },
  {
   "cell_type": "code",
   "execution_count": 277,
   "metadata": {},
   "outputs": [
    {
     "data": {
      "text/plain": [
       "array([[1.        , 0.66666667, 0.33333333, ..., 0.33333333, 0.33333333,\n",
       "        0.        ],\n",
       "       [0.66666667, 1.        , 0.66666667, ..., 0.33333333, 0.33333333,\n",
       "        0.33333333],\n",
       "       [0.33333333, 0.66666667, 1.        , ..., 0.33333333, 0.33333333,\n",
       "        0.33333333],\n",
       "       ...,\n",
       "       [0.33333333, 0.33333333, 0.33333333, ..., 1.        , 0.66666667,\n",
       "        0.33333333],\n",
       "       [0.33333333, 0.33333333, 0.33333333, ..., 0.66666667, 1.        ,\n",
       "        0.33333333],\n",
       "       [0.        , 0.33333333, 0.33333333, ..., 0.33333333, 0.33333333,\n",
       "        1.        ]])"
      ]
     },
     "execution_count": 277,
     "metadata": {},
     "output_type": "execute_result"
    }
   ],
   "source": [
    "M_matches = M_matches + M_matches.T - np.diag(np.repeat(1 , len(M_matches)), k=0)\n",
    "\n",
    "M_matches"
   ]
  },
  {
   "cell_type": "markdown",
   "metadata": {},
   "source": []
  },
  {
   "cell_type": "code",
   "execution_count": 278,
   "metadata": {},
   "outputs": [],
   "source": [
    "def Dist_Matches(x_i, x_r, Data):\n",
    "\n",
    "    Dist_Matches = np.sqrt(matches_similarity(x_i, x_i, Data) +  matches_similarity(x_r, x_r, Data) - 2*matches_similarity(x_i, x_r, Data) )\n",
    "\n",
    "    return( Dist_Matches )"
   ]
  },
  {
   "cell_type": "code",
   "execution_count": 279,
   "metadata": {},
   "outputs": [
    {
     "data": {
      "text/plain": [
       "0.6666666666666666"
      ]
     },
     "execution_count": 279,
     "metadata": {},
     "output_type": "execute_result"
    }
   ],
   "source": [
    "matches_similarity(x_i=Data_multiclass_numpy[2,:] , x_r=Data_multiclass_numpy[5,:], Data=Data_multiclass_numpy)"
   ]
  },
  {
   "cell_type": "markdown",
   "metadata": {},
   "source": []
  },
  {
   "cell_type": "code",
   "execution_count": 280,
   "metadata": {},
   "outputs": [],
   "source": [
    "def Matrix_Dist_Matches(Data):\n",
    "\n",
    "    # Paso previo necesario si Data es pd.DataFrame  -->  Data = Data.to_numpy()\n",
    "\n",
    "    n = len(Data)\n",
    "\n",
    "    M =  np.empty((n , n))\n",
    "   \n",
    "    for i in range(0, n):\n",
    "\n",
    "         for r in range(0, n):\n",
    "\n",
    "             if i >= r :\n",
    "               \n",
    "                M[i,r] = 0\n",
    "\n",
    "             else :\n",
    "\n",
    "                M[i,r] = Dist_Matches(x_i=Data[i,:], x_r=Data[r,:], Data=Data)\n",
    "                      \n",
    "    return M "
   ]
  },
  {
   "cell_type": "code",
   "execution_count": 281,
   "metadata": {},
   "outputs": [
    {
     "data": {
      "text/plain": [
       "array([[0.        , 0.81649658, 1.15470054, ..., 1.15470054, 1.15470054,\n",
       "        1.41421356],\n",
       "       [0.        , 0.        , 0.81649658, ..., 1.15470054, 1.15470054,\n",
       "        1.15470054],\n",
       "       [0.        , 0.        , 0.        , ..., 1.15470054, 1.15470054,\n",
       "        1.15470054],\n",
       "       ...,\n",
       "       [0.        , 0.        , 0.        , ..., 0.        , 0.81649658,\n",
       "        1.15470054],\n",
       "       [0.        , 0.        , 0.        , ..., 0.        , 0.        ,\n",
       "        1.15470054],\n",
       "       [0.        , 0.        , 0.        , ..., 0.        , 0.        ,\n",
       "        0.        ]])"
      ]
     },
     "execution_count": 281,
     "metadata": {},
     "output_type": "execute_result"
    }
   ],
   "source": [
    "M_Dist_Matches = Matrix_Dist_Matches(Data=Data_multiclass_numpy)\n",
    "\n",
    "M_Dist_Matches"
   ]
  },
  {
   "cell_type": "code",
   "execution_count": 282,
   "metadata": {},
   "outputs": [
    {
     "data": {
      "text/plain": [
       "array([[0.        , 0.81649658, 1.15470054, ..., 1.15470054, 1.15470054,\n",
       "        1.41421356],\n",
       "       [0.81649658, 0.        , 0.81649658, ..., 1.15470054, 1.15470054,\n",
       "        1.15470054],\n",
       "       [1.15470054, 0.81649658, 0.        , ..., 1.15470054, 1.15470054,\n",
       "        1.15470054],\n",
       "       ...,\n",
       "       [1.15470054, 1.15470054, 1.15470054, ..., 0.        , 0.81649658,\n",
       "        1.15470054],\n",
       "       [1.15470054, 1.15470054, 1.15470054, ..., 0.81649658, 0.        ,\n",
       "        1.15470054],\n",
       "       [1.41421356, 1.15470054, 1.15470054, ..., 1.15470054, 1.15470054,\n",
       "        0.        ]])"
      ]
     },
     "execution_count": 282,
     "metadata": {},
     "output_type": "execute_result"
    }
   ],
   "source": [
    "M_Dist_Matches = M_Dist_Matches + M_Dist_Matches.T\n",
    "\n",
    "M_Dist_Matches"
   ]
  },
  {
   "cell_type": "markdown",
   "metadata": {},
   "source": []
  },
  {
   "cell_type": "markdown",
   "metadata": {},
   "source": []
  },
  {
   "cell_type": "markdown",
   "metadata": {},
   "source": [
    "## Similaridad de Gower"
   ]
  },
  {
   "cell_type": "code",
   "execution_count": 283,
   "metadata": {},
   "outputs": [],
   "source": [
    "def Matrix_Gower_Similarity(Data, p1, p2, p3 ):\n",
    "\n",
    "    n = len(Data)\n",
    "\n",
    "    M =  np.empty((n , n))\n",
    "\n",
    "############################################################\n",
    "    \n",
    "    G_vector = np.repeat(0.5, p1)\n",
    "\n",
    "    for k in range(0, p1):\n",
    "\n",
    "        G_vector[k] = Data[:,k].max() - Data[:,k].min()\n",
    "\n",
    "############################################################\n",
    "   \n",
    "    ones = np.repeat(1, p1)\n",
    "\n",
    "    Quant_Data = Data[: , 0:p1]\n",
    "\n",
    "    Binary_Data = Data[: , (p1):(p1+p2)]\n",
    "\n",
    "    Multiple_Data = Data[: , (p1+p2):(p1+p2+p3) ]\n",
    "\n",
    "############################################################\n",
    "\n",
    "    a, b, c, d, p = a_b_c_d_Matrix(Binary_Data)\n",
    "\n",
    "############################################################\n",
    "\n",
    "    for i in range(0, n):\n",
    "\n",
    "         for r in range(0, n):\n",
    "\n",
    "            if i > r :\n",
    "               \n",
    "                 M[i,r] = 0\n",
    "            \n",
    "            elif i == r :\n",
    "               \n",
    "                 M[i,r] = 1\n",
    "            \n",
    "            else :\n",
    "\n",
    "                # Calculo de la distancia de Gower entre las observaciones x_i y x_r\n",
    "\n",
    "                numerator_part_1 = ( ones - ( abs(Quant_Data[i,:] - Quant_Data[r,:]) / G_vector ) ).sum() \n",
    "\n",
    "                numerator_part_2 = a[i,r] + alpha(Multiple_Data[i,:], Multiple_Data[r,:])\n",
    "\n",
    "                numerator = numerator_part_1 + numerator_part_2\n",
    " \n",
    "                denominator = p1 + (p2 - d[i,r]) + p3\n",
    "\n",
    "                M[i,r] = numerator / denominator\n",
    "                      \n",
    "   \n",
    "    return M  "
   ]
  },
  {
   "cell_type": "code",
   "execution_count": 284,
   "metadata": {},
   "outputs": [
    {
     "data": {
      "text/plain": [
       "array([[1.        , 0.86928447, 0.61234779, ..., 0.61200705, 0.68768535,\n",
       "        0.67882015],\n",
       "       [0.        , 1.        , 0.72440439, ..., 0.63958297, 0.66860788,\n",
       "        0.75783494],\n",
       "       [0.        , 0.        , 1.        , ..., 0.63993289, 0.54854692,\n",
       "        0.61639629],\n",
       "       ...,\n",
       "       [0.        , 0.        , 0.        , ..., 1.        , 0.65208854,\n",
       "        0.5993045 ],\n",
       "       [0.        , 0.        , 0.        , ..., 0.        , 1.        ,\n",
       "        0.70693976],\n",
       "       [0.        , 0.        , 0.        , ..., 0.        , 0.        ,\n",
       "        1.        ]])"
      ]
     },
     "execution_count": 284,
     "metadata": {},
     "output_type": "execute_result"
    }
   ],
   "source": [
    "M_Gower = Matrix_Gower_Similarity(Data=Data_mixed_numpy, p1=6, p2=4, p3=3)\n",
    "\n",
    "M_Gower"
   ]
  },
  {
   "cell_type": "code",
   "execution_count": 285,
   "metadata": {},
   "outputs": [
    {
     "data": {
      "text/plain": [
       "array([[1.        , 0.86928447, 0.61234779, ..., 0.61200705, 0.68768535,\n",
       "        0.67882015],\n",
       "       [0.86928447, 1.        , 0.72440439, ..., 0.63958297, 0.66860788,\n",
       "        0.75783494],\n",
       "       [0.61234779, 0.72440439, 1.        , ..., 0.63993289, 0.54854692,\n",
       "        0.61639629],\n",
       "       ...,\n",
       "       [0.61200705, 0.63958297, 0.63993289, ..., 1.        , 0.65208854,\n",
       "        0.5993045 ],\n",
       "       [0.68768535, 0.66860788, 0.54854692, ..., 0.65208854, 1.        ,\n",
       "        0.70693976],\n",
       "       [0.67882015, 0.75783494, 0.61639629, ..., 0.5993045 , 0.70693976,\n",
       "        1.        ]])"
      ]
     },
     "execution_count": 285,
     "metadata": {},
     "output_type": "execute_result"
    }
   ],
   "source": [
    "M_Gower = M_Gower  + M_Gower.T - np.diag(np.repeat(1 , len(M_Gower)), k=0)\n",
    "\n",
    "M_Gower"
   ]
  },
  {
   "cell_type": "code",
   "execution_count": 286,
   "metadata": {},
   "outputs": [],
   "source": [
    "def Matrix_Gower_Distance(Data, p1, p2, p3 ):\n",
    "\n",
    "    M = Matrix_Gower_Similarity(Data, p1, p2, p3)\n",
    "\n",
    "    M = M + M.T - np.diag(np.repeat(1 , len(M)), k=0)\n",
    "\n",
    "    M = np.sqrt( 1 - M )\n",
    "\n",
    "    return M"
   ]
  },
  {
   "cell_type": "code",
   "execution_count": 287,
   "metadata": {},
   "outputs": [
    {
     "data": {
      "text/plain": [
       "array([[0.        , 0.36154603, 0.62261723, ..., 0.6228908 , 0.55885118,\n",
       "        0.56672731],\n",
       "       [0.36154603, 0.        , 0.52497201, ..., 0.60034742, 0.57566667,\n",
       "        0.4921027 ],\n",
       "       [0.62261723, 0.52497201, 0.        , ..., 0.60005592, 0.67190258,\n",
       "        0.6193575 ],\n",
       "       ...,\n",
       "       [0.6228908 , 0.60034742, 0.60005592, ..., 0.        , 0.5898402 ,\n",
       "        0.63300514],\n",
       "       [0.55885118, 0.57566667, 0.67190258, ..., 0.5898402 , 0.        ,\n",
       "        0.54135038],\n",
       "       [0.56672731, 0.4921027 , 0.6193575 , ..., 0.63300514, 0.54135038,\n",
       "        0.        ]])"
      ]
     },
     "execution_count": 287,
     "metadata": {},
     "output_type": "execute_result"
    }
   ],
   "source": [
    "M_Gower_Dist = Matrix_Gower_Distance(Data=Data_mixed_numpy, p1=6, p2=4, p3=3)\n",
    "\n",
    "M_Gower_Dist"
   ]
  },
  {
   "cell_type": "markdown",
   "metadata": {},
   "source": []
  },
  {
   "cell_type": "markdown",
   "metadata": {},
   "source": []
  },
  {
   "cell_type": "markdown",
   "metadata": {},
   "source": [
    "### Comparacion con los resultados obtenidos con la funcion Gower2.m de Aurea  --> se obtienen los mismos resultados !!"
   ]
  },
  {
   "cell_type": "code",
   "execution_count": 288,
   "metadata": {},
   "outputs": [],
   "source": [
    "futbol = pd.read_csv('jugadores_futbol.csv')\n",
    "\n",
    "futbol_np = futbol.to_numpy()"
   ]
  },
  {
   "cell_type": "code",
   "execution_count": 289,
   "metadata": {},
   "outputs": [],
   "source": [
    "M_Gower_futbol = Matrix_Gower_Similarity(Data=futbol_np, p1=4, p2=1, p3=2)"
   ]
  },
  {
   "cell_type": "code",
   "execution_count": 290,
   "metadata": {},
   "outputs": [
    {
     "data": {
      "text/plain": [
       "array([[1.        , 0.63275613, 0.45075758, ..., 0.41684704, 0.61201299,\n",
       "        0.39303752],\n",
       "       [0.63275613, 1.        , 0.43076599, ..., 0.49810606, 0.64920034,\n",
       "        0.47032828],\n",
       "       [0.45075758, 0.43076599, 1.        , ..., 0.63720539, 0.7260101 ,\n",
       "        0.60942761],\n",
       "       ...,\n",
       "       [0.41684704, 0.49810606, 0.63720539, ..., 1.        , 0.67508418,\n",
       "        0.91666667],\n",
       "       [0.61201299, 0.64920034, 0.7260101 , ..., 0.67508418, 1.        ,\n",
       "        0.6473064 ],\n",
       "       [0.39303752, 0.47032828, 0.60942761, ..., 0.91666667, 0.6473064 ,\n",
       "        1.        ]])"
      ]
     },
     "execution_count": 290,
     "metadata": {},
     "output_type": "execute_result"
    }
   ],
   "source": [
    "M_Gower_futbol = M_Gower_futbol  + M_Gower_futbol.T - np.diag(np.repeat(1 , len(M_Gower_futbol)), k=0)\n",
    "\n",
    "M_Gower_futbol"
   ]
  },
  {
   "cell_type": "code",
   "execution_count": 291,
   "metadata": {},
   "outputs": [
    {
     "data": {
      "text/plain": [
       "array([[1.        , 0.63275613, 0.45075758, 0.38870851, 0.42676768,\n",
       "        0.61471861, 0.56349206, 0.42839105],\n",
       "       [0.63275613, 1.        , 0.43076599, 0.37689394, 0.46338384,\n",
       "        0.44660895, 0.5256734 , 0.43244949],\n",
       "       [0.45075758, 0.43076599, 1.        , 0.58038721, 0.64877946,\n",
       "        0.58928571, 0.34995791, 0.52946128],\n",
       "       [0.38870851, 0.37689394, 0.58038721, 1.        , 0.5625    ,\n",
       "        0.52723665, 0.27756734, 0.625     ],\n",
       "       [0.42676768, 0.46338384, 0.64877946, 0.5625    , 1.        ,\n",
       "        0.77236652, 0.46506734, 0.6875    ],\n",
       "       [0.61471861, 0.44660895, 0.58928571, 0.52723665, 0.77236652,\n",
       "        1.        , 0.42496392, 0.63834776],\n",
       "       [0.56349206, 0.5256734 , 0.34995791, 0.27756734, 0.46506734,\n",
       "        0.42496392, 1.        , 0.42571549],\n",
       "       [0.42839105, 0.43244949, 0.52946128, 0.625     , 0.6875    ,\n",
       "        0.63834776, 0.42571549, 1.        ]])"
      ]
     },
     "execution_count": 291,
     "metadata": {},
     "output_type": "execute_result"
    }
   ],
   "source": [
    "M_Gower_futbol[0:8, 0:8]"
   ]
  },
  {
   "cell_type": "markdown",
   "metadata": {},
   "source": [
    "Primeras 8 filas y 8 columnas obtenidas al aplicar Gower2.m de Aurea para la matriz de similaridades de Gower \n",
    " \n",
    "\n",
    "         0    0.3672    0.5492    0.6113    0.5732    0.3853    0.4365    0.5716\n",
    "    0.3672         0    0.5692    0.6231    0.5366    0.5534    0.4743    0.5676\n",
    "    0.5492    0.5692         0    0.4196    0.3512    0.4107    0.6500    0.4705\n",
    "    0.6113    0.6231    0.4196         0    0.4375    0.4728    0.7224    0.3750\n",
    "    0.5732    0.5366    0.3512    0.4375         0    0.2276    0.5349    0.3125\n",
    "    0.3853    0.5534    0.4107    0.4728    0.2276         0    0.5750    0.3617\n",
    "    0.4365    0.4743    0.6500    0.7224    0.5349    0.5750         0    0.5743\n",
    "    0.5716    0.5676    0.4705    0.3750    0.3125    0.3617    0.5743         0\n",
    "\n"
   ]
  },
  {
   "cell_type": "code",
   "execution_count": 292,
   "metadata": {},
   "outputs": [
    {
     "data": {
      "text/plain": [
       "array([[0.        , 0.60600649, 0.74110892, ..., 0.76364452, 0.62288604,\n",
       "        0.77907797],\n",
       "       [0.60600649, 0.        , 0.75447598, ..., 0.70844473, 0.59228343,\n",
       "        0.72778549],\n",
       "       [0.74110892, 0.75447598, 0.        , ..., 0.60232434, 0.52344044,\n",
       "        0.62495791],\n",
       "       ...,\n",
       "       [0.76364452, 0.70844473, 0.60232434, ..., 0.        , 0.57001388,\n",
       "        0.28867513],\n",
       "       [0.62288604, 0.59228343, 0.52344044, ..., 0.57001388, 0.        ,\n",
       "        0.59388012],\n",
       "       [0.77907797, 0.72778549, 0.62495791, ..., 0.28867513, 0.59388012,\n",
       "        0.        ]])"
      ]
     },
     "execution_count": 292,
     "metadata": {},
     "output_type": "execute_result"
    }
   ],
   "source": [
    "M_Gower_Dist_futbol = Matrix_Gower_Distance(Data=futbol_np, p1=4, p2=1, p3=2)\n",
    "\n",
    "M_Gower_Dist_futbol"
   ]
  },
  {
   "cell_type": "code",
   "execution_count": 293,
   "metadata": {},
   "outputs": [
    {
     "data": {
      "text/plain": [
       "array([[0.        , 0.36724387, 0.54924242, 0.61129149, 0.57323232,\n",
       "        0.38528139, 0.43650794, 0.57160895],\n",
       "       [0.36724387, 0.        , 0.56923401, 0.62310606, 0.53661616,\n",
       "        0.55339105, 0.4743266 , 0.56755051],\n",
       "       [0.54924242, 0.56923401, 0.        , 0.41961279, 0.35122054,\n",
       "        0.41071429, 0.65004209, 0.47053872],\n",
       "       [0.61129149, 0.62310606, 0.41961279, 0.        , 0.4375    ,\n",
       "        0.47276335, 0.72243266, 0.375     ],\n",
       "       [0.57323232, 0.53661616, 0.35122054, 0.4375    , 0.        ,\n",
       "        0.22763348, 0.53493266, 0.3125    ],\n",
       "       [0.38528139, 0.55339105, 0.41071429, 0.47276335, 0.22763348,\n",
       "        0.        , 0.57503608, 0.36165224],\n",
       "       [0.43650794, 0.4743266 , 0.65004209, 0.72243266, 0.53493266,\n",
       "        0.57503608, 0.        , 0.57428451],\n",
       "       [0.57160895, 0.56755051, 0.47053872, 0.375     , 0.3125    ,\n",
       "        0.36165224, 0.57428451, 0.        ]])"
      ]
     },
     "execution_count": 293,
     "metadata": {},
     "output_type": "execute_result"
    }
   ],
   "source": [
    "M_Gower_Dist_futbol[0:8 , 0:8]**2"
   ]
  },
  {
   "cell_type": "markdown",
   "metadata": {},
   "source": [
    " Primeras 8 filas y 8 columnas obtenidas con la funcion Gower2.m de Aurea para la matriz de cuadrados de distancias de Gower\n",
    "  \n",
    "         0    0.3672    0.5492    0.6113    0.5732    0.3853    0.4365    0.5716\n",
    "    0.3672         0    0.5692    0.6231    0.5366    0.5534    0.4743    0.5676\n",
    "    0.5492    0.5692         0    0.4196    0.3512    0.4107    0.6500    0.4705\n",
    "    0.6113    0.6231    0.4196         0    0.4375    0.4728    0.7224    0.3750\n",
    "    0.5732    0.5366    0.3512    0.4375         0    0.2276    0.5349    0.3125\n",
    "    0.3853    0.5534    0.4107    0.4728    0.2276         0    0.5750    0.3617\n",
    "    0.4365    0.4743    0.6500    0.7224    0.5349    0.5750         0    0.5743\n",
    "    0.5716    0.5676    0.4705    0.3750    0.3125    0.3617    0.5743         0\n",
    "\n"
   ]
  },
  {
   "cell_type": "markdown",
   "metadata": {},
   "source": []
  },
  {
   "cell_type": "markdown",
   "metadata": {},
   "source": [
    "### Comparacion con lo que se obtiene al usar el paquete Gower  --> No se obtienen los mismos resultados."
   ]
  },
  {
   "cell_type": "code",
   "execution_count": 294,
   "metadata": {},
   "outputs": [
    {
     "data": {
      "text/plain": [
       "array([[0.        , 0.36724386, 0.54924244, 0.61129147, 0.57323235,\n",
       "        0.38528138, 0.43650794, 0.57160896],\n",
       "       [0.36724386, 0.        , 0.48791486, 0.53409094, 0.4599567 ,\n",
       "        0.55339104, 0.40656567, 0.48647186],\n",
       "       [0.54924244, 0.48791486, 0.        , 0.3596681 , 0.3010462 ,\n",
       "        0.4107143 , 0.5571789 , 0.4033189 ],\n",
       "       [0.61129147, 0.53409094, 0.3596681 , 0.        , 0.375     ,\n",
       "        0.47276336, 0.619228  , 0.32142857],\n",
       "       [0.57323235, 0.4599567 , 0.3010462 , 0.375     , 0.        ,\n",
       "        0.22763348, 0.4585137 , 0.26785713],\n",
       "       [0.38528138, 0.55339104, 0.4107143 , 0.47276336, 0.22763348,\n",
       "        0.        , 0.5750361 , 0.36165223],\n",
       "       [0.43650794, 0.40656567, 0.5571789 , 0.619228  , 0.4585137 ,\n",
       "        0.5750361 , 0.        , 0.4922439 ],\n",
       "       [0.57160896, 0.48647186, 0.4033189 , 0.32142857, 0.26785713,\n",
       "        0.36165223, 0.4922439 , 0.        ]], dtype=float32)"
      ]
     },
     "execution_count": 294,
     "metadata": {},
     "output_type": "execute_result"
    }
   ],
   "source": [
    "import gower\n",
    "\n",
    "M_Dist_cuadrados_Gower_futbol_Paquete = gower.gower_matrix(futbol_np, cat_features=[False,False,False,False,True,True,True])\n",
    "\n",
    "M_Dist_cuadrados_Gower_futbol_Paquete[0:8 , 0:8]"
   ]
  },
  {
   "cell_type": "markdown",
   "metadata": {},
   "source": []
  },
  {
   "cell_type": "markdown",
   "metadata": {},
   "source": [
    " Primeras 8 filas y 8 columnas obtenidas con la funcion Gower2.m de Aurea para la matriz de cuadrados de distancias de Gower\n",
    "  \n",
    "         0    0.3672    0.5492    0.6113    0.5732    0.3853    0.4365    0.5716\n",
    "    0.3672         0    0.5692    0.6231    0.5366    0.5534    0.4743    0.5676\n",
    "    0.5492    0.5692         0    0.4196    0.3512    0.4107    0.6500    0.4705\n",
    "    0.6113    0.6231    0.4196         0    0.4375    0.4728    0.7224    0.3750\n",
    "    0.5732    0.5366    0.3512    0.4375         0    0.2276    0.5349    0.3125\n",
    "    0.3853    0.5534    0.4107    0.4728    0.2276         0    0.5750    0.3617\n",
    "    0.4365    0.4743    0.6500    0.7224    0.5349    0.5750         0    0.5743\n",
    "    0.5716    0.5676    0.4705    0.3750    0.3125    0.3617    0.5743         0\n",
    "\n"
   ]
  },
  {
   "cell_type": "markdown",
   "metadata": {},
   "source": [
    "La primera fila si coincide, pero hay otras como la ultima que no coinciden. Deben usar otra version de l similaridad de Gower u otra transformacion de similaridad a distancia."
   ]
  }
 ],
 "metadata": {
  "kernelspec": {
   "display_name": "Python 3",
   "language": "python",
   "name": "python3"
  },
  "language_info": {
   "codemirror_mode": {
    "name": "ipython",
    "version": 3
   },
   "file_extension": ".py",
   "mimetype": "text/x-python",
   "name": "python",
   "nbconvert_exporter": "python",
   "pygments_lexer": "ipython3",
   "version": "3.10.0 (tags/v3.10.0:b494f59, Oct  4 2021, 19:00:18) [MSC v.1929 64 bit (AMD64)]"
  },
  "vscode": {
   "interpreter": {
    "hash": "c63d8c7d738c2960218a10995aedf0a7f67a49a231e71037adf0440953cdb45b"
   }
  }
 },
 "nbformat": 4,
 "nbformat_minor": 2
}
