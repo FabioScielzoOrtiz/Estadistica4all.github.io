{
 "cells": [
  {
   "cell_type": "code",
   "execution_count": 1,
   "metadata": {},
   "outputs": [],
   "source": [
    "import pandas as pd\n",
    "import numpy as np"
   ]
  },
  {
   "cell_type": "code",
   "execution_count": 2,
   "metadata": {},
   "outputs": [
    {
     "data": {
      "text/html": [
       "<div>\n",
       "<style scoped>\n",
       "    .dataframe tbody tr th:only-of-type {\n",
       "        vertical-align: middle;\n",
       "    }\n",
       "\n",
       "    .dataframe tbody tr th {\n",
       "        vertical-align: top;\n",
       "    }\n",
       "\n",
       "    .dataframe thead th {\n",
       "        text-align: right;\n",
       "    }\n",
       "</style>\n",
       "<table border=\"1\" class=\"dataframe\">\n",
       "  <thead>\n",
       "    <tr style=\"text-align: right;\">\n",
       "      <th></th>\n",
       "      <th>neighborhood_recode</th>\n",
       "      <th>latitude</th>\n",
       "      <th>longitude</th>\n",
       "      <th>price</th>\n",
       "      <th>no_of_bedrooms</th>\n",
       "      <th>no_of_bathrooms</th>\n",
       "      <th>quality_recode</th>\n",
       "      <th>maid_room_recode</th>\n",
       "      <th>unfurnished_recode</th>\n",
       "      <th>balcony_recode</th>\n",
       "      <th>...</th>\n",
       "      <th>private_jacuzzi_recode</th>\n",
       "      <th>private_pool_recode</th>\n",
       "      <th>security_recode</th>\n",
       "      <th>shared_gym_recode</th>\n",
       "      <th>shared_pool_recode</th>\n",
       "      <th>shared_spa_recode</th>\n",
       "      <th>view_of_water_recode</th>\n",
       "      <th>size_in_m_2</th>\n",
       "      <th>type</th>\n",
       "      <th>rating</th>\n",
       "    </tr>\n",
       "  </thead>\n",
       "  <tbody>\n",
       "    <tr>\n",
       "      <th>0</th>\n",
       "      <td>46.0</td>\n",
       "      <td>25.113208</td>\n",
       "      <td>55.138932</td>\n",
       "      <td>2700000</td>\n",
       "      <td>1</td>\n",
       "      <td>2</td>\n",
       "      <td>2.0</td>\n",
       "      <td>0.0</td>\n",
       "      <td>0.0</td>\n",
       "      <td>1.0</td>\n",
       "      <td>...</td>\n",
       "      <td>0.0</td>\n",
       "      <td>0.0</td>\n",
       "      <td>0.0</td>\n",
       "      <td>1.0</td>\n",
       "      <td>0.0</td>\n",
       "      <td>0.0</td>\n",
       "      <td>1.0</td>\n",
       "      <td>100.242337</td>\n",
       "      <td>2.0</td>\n",
       "      <td>3.0</td>\n",
       "    </tr>\n",
       "    <tr>\n",
       "      <th>1</th>\n",
       "      <td>46.0</td>\n",
       "      <td>25.106809</td>\n",
       "      <td>55.151201</td>\n",
       "      <td>2850000</td>\n",
       "      <td>2</td>\n",
       "      <td>2</td>\n",
       "      <td>2.0</td>\n",
       "      <td>0.0</td>\n",
       "      <td>0.0</td>\n",
       "      <td>1.0</td>\n",
       "      <td>...</td>\n",
       "      <td>0.0</td>\n",
       "      <td>0.0</td>\n",
       "      <td>0.0</td>\n",
       "      <td>1.0</td>\n",
       "      <td>1.0</td>\n",
       "      <td>0.0</td>\n",
       "      <td>1.0</td>\n",
       "      <td>146.972546</td>\n",
       "      <td>1.0</td>\n",
       "      <td>2.0</td>\n",
       "    </tr>\n",
       "    <tr>\n",
       "      <th>2</th>\n",
       "      <td>36.0</td>\n",
       "      <td>25.063302</td>\n",
       "      <td>55.137728</td>\n",
       "      <td>1150000</td>\n",
       "      <td>3</td>\n",
       "      <td>5</td>\n",
       "      <td>2.0</td>\n",
       "      <td>1.0</td>\n",
       "      <td>1.0</td>\n",
       "      <td>1.0</td>\n",
       "      <td>...</td>\n",
       "      <td>1.0</td>\n",
       "      <td>0.0</td>\n",
       "      <td>1.0</td>\n",
       "      <td>1.0</td>\n",
       "      <td>1.0</td>\n",
       "      <td>0.0</td>\n",
       "      <td>1.0</td>\n",
       "      <td>181.253753</td>\n",
       "      <td>1.0</td>\n",
       "      <td>5.0</td>\n",
       "    </tr>\n",
       "    <tr>\n",
       "      <th>3</th>\n",
       "      <td>11.0</td>\n",
       "      <td>25.227295</td>\n",
       "      <td>55.341761</td>\n",
       "      <td>2850000</td>\n",
       "      <td>2</td>\n",
       "      <td>3</td>\n",
       "      <td>1.0</td>\n",
       "      <td>0.0</td>\n",
       "      <td>1.0</td>\n",
       "      <td>1.0</td>\n",
       "      <td>...</td>\n",
       "      <td>0.0</td>\n",
       "      <td>0.0</td>\n",
       "      <td>0.0</td>\n",
       "      <td>0.0</td>\n",
       "      <td>0.0</td>\n",
       "      <td>0.0</td>\n",
       "      <td>0.0</td>\n",
       "      <td>187.664060</td>\n",
       "      <td>2.0</td>\n",
       "      <td>5.0</td>\n",
       "    </tr>\n",
       "    <tr>\n",
       "      <th>4</th>\n",
       "      <td>46.0</td>\n",
       "      <td>25.114275</td>\n",
       "      <td>55.139764</td>\n",
       "      <td>1729200</td>\n",
       "      <td>0</td>\n",
       "      <td>1</td>\n",
       "      <td>2.0</td>\n",
       "      <td>0.0</td>\n",
       "      <td>0.0</td>\n",
       "      <td>0.0</td>\n",
       "      <td>...</td>\n",
       "      <td>0.0</td>\n",
       "      <td>0.0</td>\n",
       "      <td>1.0</td>\n",
       "      <td>1.0</td>\n",
       "      <td>1.0</td>\n",
       "      <td>1.0</td>\n",
       "      <td>1.0</td>\n",
       "      <td>47.101821</td>\n",
       "      <td>2.0</td>\n",
       "      <td>1.0</td>\n",
       "    </tr>\n",
       "  </tbody>\n",
       "</table>\n",
       "<p>5 rows × 31 columns</p>\n",
       "</div>"
      ],
      "text/plain": [
       "   neighborhood_recode   latitude  longitude    price  no_of_bedrooms  \\\n",
       "0                 46.0  25.113208  55.138932  2700000               1   \n",
       "1                 46.0  25.106809  55.151201  2850000               2   \n",
       "2                 36.0  25.063302  55.137728  1150000               3   \n",
       "3                 11.0  25.227295  55.341761  2850000               2   \n",
       "4                 46.0  25.114275  55.139764  1729200               0   \n",
       "\n",
       "   no_of_bathrooms  quality_recode  maid_room_recode  unfurnished_recode  \\\n",
       "0                2             2.0               0.0                 0.0   \n",
       "1                2             2.0               0.0                 0.0   \n",
       "2                5             2.0               1.0                 1.0   \n",
       "3                3             1.0               0.0                 1.0   \n",
       "4                1             2.0               0.0                 0.0   \n",
       "\n",
       "   balcony_recode  ...  private_jacuzzi_recode  private_pool_recode  \\\n",
       "0             1.0  ...                     0.0                  0.0   \n",
       "1             1.0  ...                     0.0                  0.0   \n",
       "2             1.0  ...                     1.0                  0.0   \n",
       "3             1.0  ...                     0.0                  0.0   \n",
       "4             0.0  ...                     0.0                  0.0   \n",
       "\n",
       "   security_recode  shared_gym_recode  shared_pool_recode  shared_spa_recode  \\\n",
       "0              0.0                1.0                 0.0                0.0   \n",
       "1              0.0                1.0                 1.0                0.0   \n",
       "2              1.0                1.0                 1.0                0.0   \n",
       "3              0.0                0.0                 0.0                0.0   \n",
       "4              1.0                1.0                 1.0                1.0   \n",
       "\n",
       "   view_of_water_recode  size_in_m_2  type  rating  \n",
       "0                   1.0   100.242337   2.0     3.0  \n",
       "1                   1.0   146.972546   1.0     2.0  \n",
       "2                   1.0   181.253753   1.0     5.0  \n",
       "3                   0.0   187.664060   2.0     5.0  \n",
       "4                   1.0    47.101821   2.0     1.0  \n",
       "\n",
       "[5 rows x 31 columns]"
      ]
     },
     "execution_count": 2,
     "metadata": {},
     "output_type": "execute_result"
    }
   ],
   "source": [
    "Data = pd.read_csv('House_Price_Regression.csv')\n",
    "\n",
    "np.random.seed(123)\n",
    "\n",
    "Data['type'] = np.random.uniform(low=0, high=3, size=len(Data)).round()\n",
    "\n",
    "Data['rating'] = np.random.uniform(low=0, high=5, size=len(Data)).round()\n",
    "\n",
    "Data.head()"
   ]
  },
  {
   "cell_type": "markdown",
   "metadata": {},
   "source": []
  },
  {
   "cell_type": "code",
   "execution_count": 3,
   "metadata": {},
   "outputs": [],
   "source": [
    "Data_quant = Data.loc[: , ['latitude', 'longitude', 'price', 'size_in_m_2', 'no_of_bedrooms', 'no_of_bathrooms']]"
   ]
  },
  {
   "cell_type": "code",
   "execution_count": 79,
   "metadata": {},
   "outputs": [
    {
     "data": {
      "text/html": [
       "<div>\n",
       "<style scoped>\n",
       "    .dataframe tbody tr th:only-of-type {\n",
       "        vertical-align: middle;\n",
       "    }\n",
       "\n",
       "    .dataframe tbody tr th {\n",
       "        vertical-align: top;\n",
       "    }\n",
       "\n",
       "    .dataframe thead th {\n",
       "        text-align: right;\n",
       "    }\n",
       "</style>\n",
       "<table border=\"1\" class=\"dataframe\">\n",
       "  <thead>\n",
       "    <tr style=\"text-align: right;\">\n",
       "      <th></th>\n",
       "      <th>latitude</th>\n",
       "      <th>longitude</th>\n",
       "      <th>price</th>\n",
       "      <th>size_in_m_2</th>\n",
       "      <th>no_of_bedrooms</th>\n",
       "      <th>no_of_bathrooms</th>\n",
       "    </tr>\n",
       "  </thead>\n",
       "  <tbody>\n",
       "    <tr>\n",
       "      <th>0</th>\n",
       "      <td>25.113208</td>\n",
       "      <td>55.138932</td>\n",
       "      <td>2700000</td>\n",
       "      <td>100.242337</td>\n",
       "      <td>1</td>\n",
       "      <td>2</td>\n",
       "    </tr>\n",
       "    <tr>\n",
       "      <th>1</th>\n",
       "      <td>25.106809</td>\n",
       "      <td>55.151201</td>\n",
       "      <td>2850000</td>\n",
       "      <td>146.972546</td>\n",
       "      <td>2</td>\n",
       "      <td>2</td>\n",
       "    </tr>\n",
       "    <tr>\n",
       "      <th>2</th>\n",
       "      <td>25.063302</td>\n",
       "      <td>55.137728</td>\n",
       "      <td>1150000</td>\n",
       "      <td>181.253753</td>\n",
       "      <td>3</td>\n",
       "      <td>5</td>\n",
       "    </tr>\n",
       "    <tr>\n",
       "      <th>3</th>\n",
       "      <td>25.227295</td>\n",
       "      <td>55.341761</td>\n",
       "      <td>2850000</td>\n",
       "      <td>187.664060</td>\n",
       "      <td>2</td>\n",
       "      <td>3</td>\n",
       "    </tr>\n",
       "    <tr>\n",
       "      <th>4</th>\n",
       "      <td>25.114275</td>\n",
       "      <td>55.139764</td>\n",
       "      <td>1729200</td>\n",
       "      <td>47.101821</td>\n",
       "      <td>0</td>\n",
       "      <td>1</td>\n",
       "    </tr>\n",
       "  </tbody>\n",
       "</table>\n",
       "</div>"
      ],
      "text/plain": [
       "    latitude  longitude    price  size_in_m_2  no_of_bedrooms  no_of_bathrooms\n",
       "0  25.113208  55.138932  2700000   100.242337               1                2\n",
       "1  25.106809  55.151201  2850000   146.972546               2                2\n",
       "2  25.063302  55.137728  1150000   181.253753               3                5\n",
       "3  25.227295  55.341761  2850000   187.664060               2                3\n",
       "4  25.114275  55.139764  1729200    47.101821               0                1"
      ]
     },
     "execution_count": 79,
     "metadata": {},
     "output_type": "execute_result"
    }
   ],
   "source": [
    "Data_quant.head()"
   ]
  },
  {
   "cell_type": "markdown",
   "metadata": {},
   "source": []
  },
  {
   "cell_type": "code",
   "execution_count": 4,
   "metadata": {},
   "outputs": [
    {
     "data": {
      "text/html": [
       "<div>\n",
       "<style scoped>\n",
       "    .dataframe tbody tr th:only-of-type {\n",
       "        vertical-align: middle;\n",
       "    }\n",
       "\n",
       "    .dataframe tbody tr th {\n",
       "        vertical-align: top;\n",
       "    }\n",
       "\n",
       "    .dataframe thead th {\n",
       "        text-align: right;\n",
       "    }\n",
       "</style>\n",
       "<table border=\"1\" class=\"dataframe\">\n",
       "  <thead>\n",
       "    <tr style=\"text-align: right;\">\n",
       "      <th></th>\n",
       "      <th>private_garden_recode</th>\n",
       "      <th>private_gym_recode</th>\n",
       "      <th>private_jacuzzi_recode</th>\n",
       "      <th>balcony_recode</th>\n",
       "    </tr>\n",
       "  </thead>\n",
       "  <tbody>\n",
       "    <tr>\n",
       "      <th>0</th>\n",
       "      <td>0.0</td>\n",
       "      <td>0.0</td>\n",
       "      <td>0.0</td>\n",
       "      <td>1.0</td>\n",
       "    </tr>\n",
       "    <tr>\n",
       "      <th>1</th>\n",
       "      <td>0.0</td>\n",
       "      <td>0.0</td>\n",
       "      <td>0.0</td>\n",
       "      <td>1.0</td>\n",
       "    </tr>\n",
       "    <tr>\n",
       "      <th>2</th>\n",
       "      <td>0.0</td>\n",
       "      <td>0.0</td>\n",
       "      <td>1.0</td>\n",
       "      <td>1.0</td>\n",
       "    </tr>\n",
       "    <tr>\n",
       "      <th>3</th>\n",
       "      <td>0.0</td>\n",
       "      <td>0.0</td>\n",
       "      <td>0.0</td>\n",
       "      <td>1.0</td>\n",
       "    </tr>\n",
       "    <tr>\n",
       "      <th>4</th>\n",
       "      <td>0.0</td>\n",
       "      <td>0.0</td>\n",
       "      <td>0.0</td>\n",
       "      <td>0.0</td>\n",
       "    </tr>\n",
       "  </tbody>\n",
       "</table>\n",
       "</div>"
      ],
      "text/plain": [
       "   private_garden_recode  private_gym_recode  private_jacuzzi_recode  \\\n",
       "0                    0.0                 0.0                     0.0   \n",
       "1                    0.0                 0.0                     0.0   \n",
       "2                    0.0                 0.0                     1.0   \n",
       "3                    0.0                 0.0                     0.0   \n",
       "4                    0.0                 0.0                     0.0   \n",
       "\n",
       "   balcony_recode  \n",
       "0             1.0  \n",
       "1             1.0  \n",
       "2             1.0  \n",
       "3             1.0  \n",
       "4             0.0  "
      ]
     },
     "execution_count": 4,
     "metadata": {},
     "output_type": "execute_result"
    }
   ],
   "source": [
    "Data_binary = Data.loc[: , ['private_garden_recode', 'private_gym_recode', 'private_jacuzzi_recode', 'balcony_recode']]\n",
    "\n",
    "Data_binary.head()"
   ]
  },
  {
   "cell_type": "markdown",
   "metadata": {},
   "source": []
  },
  {
   "cell_type": "code",
   "execution_count": 5,
   "metadata": {},
   "outputs": [
    {
     "data": {
      "text/html": [
       "<div>\n",
       "<style scoped>\n",
       "    .dataframe tbody tr th:only-of-type {\n",
       "        vertical-align: middle;\n",
       "    }\n",
       "\n",
       "    .dataframe tbody tr th {\n",
       "        vertical-align: top;\n",
       "    }\n",
       "\n",
       "    .dataframe thead th {\n",
       "        text-align: right;\n",
       "    }\n",
       "</style>\n",
       "<table border=\"1\" class=\"dataframe\">\n",
       "  <thead>\n",
       "    <tr style=\"text-align: right;\">\n",
       "      <th></th>\n",
       "      <th>quality_recode</th>\n",
       "      <th>rating</th>\n",
       "      <th>type</th>\n",
       "    </tr>\n",
       "  </thead>\n",
       "  <tbody>\n",
       "    <tr>\n",
       "      <th>0</th>\n",
       "      <td>2.0</td>\n",
       "      <td>3.0</td>\n",
       "      <td>2.0</td>\n",
       "    </tr>\n",
       "    <tr>\n",
       "      <th>1</th>\n",
       "      <td>2.0</td>\n",
       "      <td>2.0</td>\n",
       "      <td>1.0</td>\n",
       "    </tr>\n",
       "    <tr>\n",
       "      <th>2</th>\n",
       "      <td>2.0</td>\n",
       "      <td>5.0</td>\n",
       "      <td>1.0</td>\n",
       "    </tr>\n",
       "    <tr>\n",
       "      <th>3</th>\n",
       "      <td>1.0</td>\n",
       "      <td>5.0</td>\n",
       "      <td>2.0</td>\n",
       "    </tr>\n",
       "    <tr>\n",
       "      <th>4</th>\n",
       "      <td>2.0</td>\n",
       "      <td>1.0</td>\n",
       "      <td>2.0</td>\n",
       "    </tr>\n",
       "  </tbody>\n",
       "</table>\n",
       "</div>"
      ],
      "text/plain": [
       "   quality_recode  rating  type\n",
       "0             2.0     3.0   2.0\n",
       "1             2.0     2.0   1.0\n",
       "2             2.0     5.0   1.0\n",
       "3             1.0     5.0   2.0\n",
       "4             2.0     1.0   2.0"
      ]
     },
     "execution_count": 5,
     "metadata": {},
     "output_type": "execute_result"
    }
   ],
   "source": [
    "Data_multiclass = Data.loc[: , ['quality_recode', 'rating', 'type']]\n",
    "\n",
    "Data_multiclass.head()"
   ]
  },
  {
   "cell_type": "markdown",
   "metadata": {},
   "source": []
  },
  {
   "cell_type": "code",
   "execution_count": 6,
   "metadata": {},
   "outputs": [
    {
     "data": {
      "text/html": [
       "<div>\n",
       "<style scoped>\n",
       "    .dataframe tbody tr th:only-of-type {\n",
       "        vertical-align: middle;\n",
       "    }\n",
       "\n",
       "    .dataframe tbody tr th {\n",
       "        vertical-align: top;\n",
       "    }\n",
       "\n",
       "    .dataframe thead th {\n",
       "        text-align: right;\n",
       "    }\n",
       "</style>\n",
       "<table border=\"1\" class=\"dataframe\">\n",
       "  <thead>\n",
       "    <tr style=\"text-align: right;\">\n",
       "      <th></th>\n",
       "      <th>latitude</th>\n",
       "      <th>longitude</th>\n",
       "      <th>price</th>\n",
       "      <th>size_in_m_2</th>\n",
       "      <th>no_of_bedrooms</th>\n",
       "      <th>no_of_bathrooms</th>\n",
       "      <th>private_garden_recode</th>\n",
       "      <th>private_gym_recode</th>\n",
       "      <th>private_jacuzzi_recode</th>\n",
       "      <th>balcony_recode</th>\n",
       "      <th>quality_recode</th>\n",
       "      <th>rating</th>\n",
       "      <th>type</th>\n",
       "    </tr>\n",
       "  </thead>\n",
       "  <tbody>\n",
       "    <tr>\n",
       "      <th>0</th>\n",
       "      <td>25.113208</td>\n",
       "      <td>55.138932</td>\n",
       "      <td>2700000</td>\n",
       "      <td>100.242337</td>\n",
       "      <td>1</td>\n",
       "      <td>2</td>\n",
       "      <td>0.0</td>\n",
       "      <td>0.0</td>\n",
       "      <td>0.0</td>\n",
       "      <td>1.0</td>\n",
       "      <td>2.0</td>\n",
       "      <td>3.0</td>\n",
       "      <td>2.0</td>\n",
       "    </tr>\n",
       "    <tr>\n",
       "      <th>1</th>\n",
       "      <td>25.106809</td>\n",
       "      <td>55.151201</td>\n",
       "      <td>2850000</td>\n",
       "      <td>146.972546</td>\n",
       "      <td>2</td>\n",
       "      <td>2</td>\n",
       "      <td>0.0</td>\n",
       "      <td>0.0</td>\n",
       "      <td>0.0</td>\n",
       "      <td>1.0</td>\n",
       "      <td>2.0</td>\n",
       "      <td>2.0</td>\n",
       "      <td>1.0</td>\n",
       "    </tr>\n",
       "    <tr>\n",
       "      <th>2</th>\n",
       "      <td>25.063302</td>\n",
       "      <td>55.137728</td>\n",
       "      <td>1150000</td>\n",
       "      <td>181.253753</td>\n",
       "      <td>3</td>\n",
       "      <td>5</td>\n",
       "      <td>0.0</td>\n",
       "      <td>0.0</td>\n",
       "      <td>1.0</td>\n",
       "      <td>1.0</td>\n",
       "      <td>2.0</td>\n",
       "      <td>5.0</td>\n",
       "      <td>1.0</td>\n",
       "    </tr>\n",
       "    <tr>\n",
       "      <th>3</th>\n",
       "      <td>25.227295</td>\n",
       "      <td>55.341761</td>\n",
       "      <td>2850000</td>\n",
       "      <td>187.664060</td>\n",
       "      <td>2</td>\n",
       "      <td>3</td>\n",
       "      <td>0.0</td>\n",
       "      <td>0.0</td>\n",
       "      <td>0.0</td>\n",
       "      <td>1.0</td>\n",
       "      <td>1.0</td>\n",
       "      <td>5.0</td>\n",
       "      <td>2.0</td>\n",
       "    </tr>\n",
       "    <tr>\n",
       "      <th>4</th>\n",
       "      <td>25.114275</td>\n",
       "      <td>55.139764</td>\n",
       "      <td>1729200</td>\n",
       "      <td>47.101821</td>\n",
       "      <td>0</td>\n",
       "      <td>1</td>\n",
       "      <td>0.0</td>\n",
       "      <td>0.0</td>\n",
       "      <td>0.0</td>\n",
       "      <td>0.0</td>\n",
       "      <td>2.0</td>\n",
       "      <td>1.0</td>\n",
       "      <td>2.0</td>\n",
       "    </tr>\n",
       "  </tbody>\n",
       "</table>\n",
       "</div>"
      ],
      "text/plain": [
       "    latitude  longitude    price  size_in_m_2  no_of_bedrooms  \\\n",
       "0  25.113208  55.138932  2700000   100.242337               1   \n",
       "1  25.106809  55.151201  2850000   146.972546               2   \n",
       "2  25.063302  55.137728  1150000   181.253753               3   \n",
       "3  25.227295  55.341761  2850000   187.664060               2   \n",
       "4  25.114275  55.139764  1729200    47.101821               0   \n",
       "\n",
       "   no_of_bathrooms  private_garden_recode  private_gym_recode  \\\n",
       "0                2                    0.0                 0.0   \n",
       "1                2                    0.0                 0.0   \n",
       "2                5                    0.0                 0.0   \n",
       "3                3                    0.0                 0.0   \n",
       "4                1                    0.0                 0.0   \n",
       "\n",
       "   private_jacuzzi_recode  balcony_recode  quality_recode  rating  type  \n",
       "0                     0.0             1.0             2.0     3.0   2.0  \n",
       "1                     0.0             1.0             2.0     2.0   1.0  \n",
       "2                     1.0             1.0             2.0     5.0   1.0  \n",
       "3                     0.0             1.0             1.0     5.0   2.0  \n",
       "4                     0.0             0.0             2.0     1.0   2.0  "
      ]
     },
     "execution_count": 6,
     "metadata": {},
     "output_type": "execute_result"
    }
   ],
   "source": [
    "Data_mixed = Data.loc[: , ['latitude', 'longitude', 'price', 'size_in_m_2', 'no_of_bedrooms', 'no_of_bathrooms','private_garden_recode', 'private_gym_recode', 'private_jacuzzi_recode', 'balcony_recode','quality_recode', 'rating', 'type']]\n",
    "\n",
    "Data_mixed.head()"
   ]
  },
  {
   "cell_type": "markdown",
   "metadata": {},
   "source": []
  },
  {
   "cell_type": "markdown",
   "metadata": {},
   "source": []
  },
  {
   "cell_type": "markdown",
   "metadata": {},
   "source": [
    "## Distancia Euclidea"
   ]
  },
  {
   "cell_type": "code",
   "execution_count": 7,
   "metadata": {},
   "outputs": [],
   "source": [
    "def Dist_Euclidea(x_i, x_r):\n",
    "\n",
    "        Dist_Euclidea = ( ( x_i - x_r )**2 ).sum()\n",
    "\n",
    "        Dist_Euclidea = np.sqrt(Dist_Euclidea)\n",
    "\n",
    "        return Dist_Euclidea"
   ]
  },
  {
   "cell_type": "code",
   "execution_count": 84,
   "metadata": {},
   "outputs": [
    {
     "data": {
      "text/plain": [
       "1969900.0019225744"
      ]
     },
     "execution_count": 84,
     "metadata": {},
     "output_type": "execute_result"
    }
   ],
   "source": [
    "Dist_Euclidea(Data_quant.iloc[2,:] , Data_quant.iloc[5,:])"
   ]
  },
  {
   "cell_type": "code",
   "execution_count": 8,
   "metadata": {},
   "outputs": [],
   "source": [
    "def Matrix_Dist_Euclidea(Data):\n",
    "\n",
    "    Data = Data.to_numpy()\n",
    "\n",
    "    n = len(Data)\n",
    "\n",
    "    M =  np.empty((n , n))\n",
    "\n",
    "    \n",
    "    for i in range(0, n):\n",
    "\n",
    "         for r in range(0, n):\n",
    "\n",
    "             if i >= r :\n",
    "               \n",
    "                 M[i,r] = 0\n",
    "\n",
    "             else :\n",
    "\n",
    "                 M[i,r] = Dist_Euclidea(Data[i,:] , Data[r,:])   \n",
    "\n",
    "                      \n",
    "    return M "
   ]
  },
  {
   "cell_type": "code",
   "execution_count": 86,
   "metadata": {},
   "outputs": [],
   "source": [
    "M_Euclidean = Matrix_Dist_Euclidea(Data=Data_quant)"
   ]
  },
  {
   "cell_type": "code",
   "execution_count": 87,
   "metadata": {},
   "outputs": [
    {
     "data": {
      "text/plain": [
       "array([[      0.        ,  150000.00728238, 1550000.00212124, ...,\n",
       "         200000.01565902, 2025000.00024491, 1939113.00017324],\n",
       "       [      0.        ,       0.        , 1700000.00034859, ...,\n",
       "          50000.01055292, 2175000.00140691, 2089113.00126347],\n",
       "       [      0.        ,       0.        ,       0.        , ...,\n",
       "        1750000.00000111,  475000.01333737,  389113.0147095 ],\n",
       "       ...,\n",
       "       [      0.        ,       0.        ,       0.        , ...,\n",
       "              0.        , 2225000.00274952, 2139113.00257909],\n",
       "       [      0.        ,       0.        ,       0.        , ...,\n",
       "              0.        ,       0.        ,   85887.00018092],\n",
       "       [      0.        ,       0.        ,       0.        , ...,\n",
       "              0.        ,       0.        ,       0.        ]])"
      ]
     },
     "execution_count": 87,
     "metadata": {},
     "output_type": "execute_result"
    }
   ],
   "source": [
    "M_Euclidean"
   ]
  },
  {
   "cell_type": "code",
   "execution_count": 88,
   "metadata": {},
   "outputs": [
    {
     "data": {
      "text/plain": [
       "array([[      0.        ,  150000.00728238, 1550000.00212124, ...,\n",
       "         200000.01565902, 2025000.00024491, 1939113.00017324],\n",
       "       [ 150000.00728238,       0.        , 1700000.00034859, ...,\n",
       "          50000.01055292, 2175000.00140691, 2089113.00126347],\n",
       "       [1550000.00212124, 1700000.00034859,       0.        , ...,\n",
       "        1750000.00000111,  475000.01333737,  389113.0147095 ],\n",
       "       ...,\n",
       "       [ 200000.01565902,   50000.01055292, 1750000.00000111, ...,\n",
       "              0.        , 2225000.00274952, 2139113.00257909],\n",
       "       [2025000.00024491, 2175000.00140691,  475000.01333737, ...,\n",
       "        2225000.00274952,       0.        ,   85887.00018092],\n",
       "       [1939113.00017324, 2089113.00126347,  389113.0147095 , ...,\n",
       "        2139113.00257909,   85887.00018092,       0.        ]])"
      ]
     },
     "execution_count": 88,
     "metadata": {},
     "output_type": "execute_result"
    }
   ],
   "source": [
    "M_Euclidean = M_Euclidean + M_Euclidean.T\n",
    "\n",
    "M_Euclidean"
   ]
  },
  {
   "cell_type": "markdown",
   "metadata": {},
   "source": []
  },
  {
   "cell_type": "markdown",
   "metadata": {},
   "source": [
    "## Distancia de Minkowski"
   ]
  },
  {
   "cell_type": "code",
   "execution_count": 9,
   "metadata": {},
   "outputs": [],
   "source": [
    "def Dist_Minkowski(x_i, x_r, q):\n",
    "\n",
    "    Dist_Minkowski = ( ( ( abs( x_i - x_r) )**q ).sum() )**(1/q)\n",
    "\n",
    "    return Dist_Minkowski"
   ]
  },
  {
   "cell_type": "code",
   "execution_count": 90,
   "metadata": {},
   "outputs": [
    {
     "data": {
      "text/plain": [
       "1969992.0102169998"
      ]
     },
     "execution_count": 90,
     "metadata": {},
     "output_type": "execute_result"
    }
   ],
   "source": [
    "Dist_Minkowski(Data_quant.iloc[2,:], Data_quant.iloc[5,:], q=1)"
   ]
  },
  {
   "cell_type": "code",
   "execution_count": 91,
   "metadata": {},
   "outputs": [
    {
     "data": {
      "text/plain": [
       "1969900.0019225744"
      ]
     },
     "execution_count": 91,
     "metadata": {},
     "output_type": "execute_result"
    }
   ],
   "source": [
    "Dist_Minkowski(Data_quant.iloc[2,:], Data_quant.iloc[5,:], q=2)"
   ]
  },
  {
   "cell_type": "code",
   "execution_count": 92,
   "metadata": {},
   "outputs": [
    {
     "data": {
      "text/plain": [
       "1969900.000000055"
      ]
     },
     "execution_count": 92,
     "metadata": {},
     "output_type": "execute_result"
    }
   ],
   "source": [
    "Dist_Minkowski(Data_quant.iloc[2,:], Data_quant.iloc[5,:], q=3)"
   ]
  },
  {
   "cell_type": "code",
   "execution_count": 93,
   "metadata": {},
   "outputs": [
    {
     "data": {
      "text/plain": [
       "1969900.0000000016"
      ]
     },
     "execution_count": 93,
     "metadata": {},
     "output_type": "execute_result"
    }
   ],
   "source": [
    "Dist_Minkowski(Data_quant.iloc[2,:], Data_quant.iloc[5,:], q=10)"
   ]
  },
  {
   "cell_type": "code",
   "execution_count": 10,
   "metadata": {},
   "outputs": [],
   "source": [
    "def Matrix_Dist_Minkowski(Data, q):\n",
    "\n",
    "    Data = Data.to_numpy()\n",
    "\n",
    "    n = len(Data)\n",
    "\n",
    "    M =  np.empty((n , n))\n",
    "\n",
    "    \n",
    "    for i in range(0, n):\n",
    "\n",
    "         for r in range(0, n):\n",
    "\n",
    "             if i >= r :\n",
    "               \n",
    "                 M[i,r] = 0\n",
    "\n",
    "             else :\n",
    "\n",
    "                 M[i,r] = Dist_Minkowski(Data[i,:] , Data[r,:], q)   \n",
    "                      \n",
    "    return M "
   ]
  },
  {
   "cell_type": "code",
   "execution_count": 95,
   "metadata": {},
   "outputs": [
    {
     "data": {
      "text/plain": [
       "array([[      0.      ,  150047.748877, 1550086.062526, ...,\n",
       "         200084.359869, 2025031.624379, 1939138.969796],\n",
       "       [      0.      ,       0.      , 1700038.338187, ...,\n",
       "          50036.62379 , 2175079.33592 , 2089186.681337],\n",
       "       [      0.      ,       0.      ,       0.      , ...,\n",
       "        1750002.301489,  475117.608205,  389224.964166],\n",
       "       ...,\n",
       "       [      0.      ,       0.      ,       0.      , ...,\n",
       "              0.      , 2225115.802424, 2139223.298103],\n",
       "       [      0.      ,       0.      ,       0.      , ...,\n",
       "              0.      ,       0.      ,   85892.654583],\n",
       "       [      0.      ,       0.      ,       0.      , ...,\n",
       "              0.      ,       0.      ,       0.      ]])"
      ]
     },
     "execution_count": 95,
     "metadata": {},
     "output_type": "execute_result"
    }
   ],
   "source": [
    "M_Minkowski = Matrix_Dist_Minkowski(Data=Data_quant, q=1)\n",
    "\n",
    "M_Minkowski"
   ]
  },
  {
   "cell_type": "code",
   "execution_count": 96,
   "metadata": {},
   "outputs": [
    {
     "data": {
      "text/plain": [
       "array([[      0.      ,  150047.748877, 1550086.062526, ...,\n",
       "         200084.359869, 2025031.624379, 1939138.969796],\n",
       "       [ 150047.748877,       0.      , 1700038.338187, ...,\n",
       "          50036.62379 , 2175079.33592 , 2089186.681337],\n",
       "       [1550086.062526, 1700038.338187,       0.      , ...,\n",
       "        1750002.301489,  475117.608205,  389224.964166],\n",
       "       ...,\n",
       "       [ 200084.359869,   50036.62379 , 1750002.301489, ...,\n",
       "              0.      , 2225115.802424, 2139223.298103],\n",
       "       [2025031.624379, 2175079.33592 ,  475117.608205, ...,\n",
       "        2225115.802424,       0.      ,   85892.654583],\n",
       "       [1939138.969796, 2089186.681337,  389224.964166, ...,\n",
       "        2139223.298103,   85892.654583,       0.      ]])"
      ]
     },
     "execution_count": 96,
     "metadata": {},
     "output_type": "execute_result"
    }
   ],
   "source": [
    "M_Minkowski = M_Minkowski + M_Minkowski.T\n",
    "\n",
    "M_Minkowski"
   ]
  },
  {
   "cell_type": "markdown",
   "metadata": {},
   "source": []
  },
  {
   "cell_type": "markdown",
   "metadata": {},
   "source": [
    "## Distancia Canberra"
   ]
  },
  {
   "cell_type": "code",
   "execution_count": 11,
   "metadata": {},
   "outputs": [],
   "source": [
    "def Dist_Canberra(x_i, x_r):\n",
    "\n",
    "    numerator =  abs( x_i - x_r )\n",
    "\n",
    "    denominator =  ( abs(x_i) + abs(x_r) )\n",
    "       \n",
    "    numerator=np.array([numerator], dtype=float)\n",
    "\n",
    "    denominator=np.array([denominator], dtype=float)\n",
    "\n",
    "    # The following code is to eliminate zero division problems\n",
    "\n",
    "    Dist_Canberra = ( np.divide( numerator , denominator , out=np.zeros_like(numerator), where=denominator!=0) ).sum() \n",
    "\n",
    "    return Dist_Canberra"
   ]
  },
  {
   "cell_type": "code",
   "execution_count": 98,
   "metadata": {},
   "outputs": [
    {
     "data": {
      "text/plain": [
       "8.8284791957755"
      ]
     },
     "execution_count": 98,
     "metadata": {},
     "output_type": "execute_result"
    }
   ],
   "source": [
    "Dist_Canberra(Data.iloc[2,:] , Data.iloc[5,:])"
   ]
  },
  {
   "cell_type": "code",
   "execution_count": 12,
   "metadata": {},
   "outputs": [],
   "source": [
    "def Matrix_Dist_Canberra(Data):\n",
    "\n",
    "    Data = Data.to_numpy()\n",
    "\n",
    "    n = len(Data)\n",
    "\n",
    "    M =  np.empty((n , n))\n",
    "\n",
    "    \n",
    "    for i in range(0, n):\n",
    "\n",
    "         for r in range(0, n):\n",
    "\n",
    "             if i >= r :\n",
    "               \n",
    "                 M[i,r] = 0\n",
    "\n",
    "             else :\n",
    "\n",
    "                 M[i,r] = Dist_Canberra(Data[i,:] , Data[r,:])   \n",
    "                     \n",
    "    return M "
   ]
  },
  {
   "cell_type": "code",
   "execution_count": 100,
   "metadata": {},
   "outputs": [
    {
     "data": {
      "text/plain": [
       "array([[0.        , 0.5496257 , 1.61996314, ..., 1.25082356, 0.78797391,\n",
       "        0.70959891],\n",
       "       [0.        , 0.        , 1.15900459, ..., 0.74009173, 1.31434216,\n",
       "        1.24077176],\n",
       "       [0.        , 0.        , 0.        , ..., 0.44223489, 1.63990915,\n",
       "        1.55106392],\n",
       "       ...,\n",
       "       [0.        , 0.        , 0.        , ..., 0.        , 2.00032192,\n",
       "        1.93106183],\n",
       "       [0.        , 0.        , 0.        , ..., 0.        , 0.        ,\n",
       "        0.09956138],\n",
       "       [0.        , 0.        , 0.        , ..., 0.        , 0.        ,\n",
       "        0.        ]])"
      ]
     },
     "execution_count": 100,
     "metadata": {},
     "output_type": "execute_result"
    }
   ],
   "source": [
    "M_Canberra = Matrix_Dist_Canberra(Data=Data_quant)\n",
    "\n",
    "M_Canberra"
   ]
  },
  {
   "cell_type": "code",
   "execution_count": 101,
   "metadata": {},
   "outputs": [
    {
     "data": {
      "text/plain": [
       "array([[0.        , 0.5496257 , 1.61996314, ..., 1.25082356, 0.78797391,\n",
       "        0.70959891],\n",
       "       [0.5496257 , 0.        , 1.15900459, ..., 0.74009173, 1.31434216,\n",
       "        1.24077176],\n",
       "       [1.61996314, 1.15900459, 0.        , ..., 0.44223489, 1.63990915,\n",
       "        1.55106392],\n",
       "       ...,\n",
       "       [1.25082356, 0.74009173, 0.44223489, ..., 0.        , 2.00032192,\n",
       "        1.93106183],\n",
       "       [0.78797391, 1.31434216, 1.63990915, ..., 2.00032192, 0.        ,\n",
       "        0.09956138],\n",
       "       [0.70959891, 1.24077176, 1.55106392, ..., 1.93106183, 0.09956138,\n",
       "        0.        ]])"
      ]
     },
     "execution_count": 101,
     "metadata": {},
     "output_type": "execute_result"
    }
   ],
   "source": [
    "M_Canberra = M_Canberra + M_Canberra.T\n",
    "\n",
    "M_Canberra"
   ]
  },
  {
   "cell_type": "markdown",
   "metadata": {},
   "source": []
  },
  {
   "cell_type": "markdown",
   "metadata": {},
   "source": [
    "## Distancia Pearson"
   ]
  },
  {
   "cell_type": "code",
   "execution_count": 13,
   "metadata": {},
   "outputs": [],
   "source": [
    "def Dist_Pearson(x_i, x_r, variance) :\n",
    "\n",
    "    Dist_Pearson = ( ( x_i - x_r )**2 / variance ).sum()\n",
    "\n",
    "    Dist_Pearson = np.sqrt(Dist_Pearson)\n",
    "\n",
    "    return Dist_Pearson"
   ]
  },
  {
   "cell_type": "code",
   "execution_count": 103,
   "metadata": {},
   "outputs": [
    {
     "data": {
      "text/plain": [
       "3.8239347754243425"
      ]
     },
     "execution_count": 103,
     "metadata": {},
     "output_type": "execute_result"
    }
   ],
   "source": [
    "Dist_Pearson(x_i=Data_quant.iloc[2,:], x_r=Data_quant.iloc[5,:], variance = np.var(Data_quant , axis=0, ddof=1))"
   ]
  },
  {
   "cell_type": "code",
   "execution_count": 14,
   "metadata": {},
   "outputs": [],
   "source": [
    "def Matrix_Dist_Pearson(Data):\n",
    "\n",
    "    Data = Data.to_numpy()\n",
    "\n",
    "    n = len(Data)\n",
    "\n",
    "    M =  np.empty((n , n))\n",
    "\n",
    "    \n",
    "    for i in range(0, n):\n",
    "\n",
    "         for r in range(0, n):\n",
    "\n",
    "             if i >= r :\n",
    "               \n",
    "                 M[i,r] = 0\n",
    "\n",
    "             else :\n",
    "\n",
    "                 M[i,r] = Dist_Pearson(Data[i,:] , Data[r,:], variance=np.var(Data, axis=0, ddof=1))   \n",
    "                     \n",
    "    return M "
   ]
  },
  {
   "cell_type": "code",
   "execution_count": 105,
   "metadata": {},
   "outputs": [
    {
     "data": {
      "text/plain": [
       "array([[0.        , 1.21345279, 3.77819153, ..., 4.95085256, 1.66393723,\n",
       "        0.94314867],\n",
       "       [0.        , 0.        , 3.17880538, ..., 4.43821303, 2.03523139,\n",
       "        1.60958264],\n",
       "       [0.        , 0.        , 0.        , ..., 3.82999056, 4.01162596,\n",
       "        3.76955491],\n",
       "       ...,\n",
       "       [0.        , 0.        , 0.        , ..., 0.        , 4.69603617,\n",
       "        5.13174853],\n",
       "       [0.        , 0.        , 0.        , ..., 0.        , 0.        ,\n",
       "        1.09780835],\n",
       "       [0.        , 0.        , 0.        , ..., 0.        , 0.        ,\n",
       "        0.        ]])"
      ]
     },
     "execution_count": 105,
     "metadata": {},
     "output_type": "execute_result"
    }
   ],
   "source": [
    "M_Pearson = Matrix_Dist_Pearson(Data=Data_quant)\n",
    "\n",
    "M_Pearson"
   ]
  },
  {
   "cell_type": "code",
   "execution_count": 106,
   "metadata": {},
   "outputs": [
    {
     "data": {
      "text/plain": [
       "array([[0.        , 1.21345279, 3.77819153, ..., 4.95085256, 1.66393723,\n",
       "        0.94314867],\n",
       "       [1.21345279, 0.        , 3.17880538, ..., 4.43821303, 2.03523139,\n",
       "        1.60958264],\n",
       "       [3.77819153, 3.17880538, 0.        , ..., 3.82999056, 4.01162596,\n",
       "        3.76955491],\n",
       "       ...,\n",
       "       [4.95085256, 4.43821303, 3.82999056, ..., 0.        , 4.69603617,\n",
       "        5.13174853],\n",
       "       [1.66393723, 2.03523139, 4.01162596, ..., 4.69603617, 0.        ,\n",
       "        1.09780835],\n",
       "       [0.94314867, 1.60958264, 3.76955491, ..., 5.13174853, 1.09780835,\n",
       "        0.        ]])"
      ]
     },
     "execution_count": 106,
     "metadata": {},
     "output_type": "execute_result"
    }
   ],
   "source": [
    "M_Pearson = M_Pearson + M_Pearson.T\n",
    "\n",
    "M_Pearson"
   ]
  },
  {
   "cell_type": "markdown",
   "metadata": {},
   "source": []
  },
  {
   "cell_type": "markdown",
   "metadata": {},
   "source": [
    "## Distancia de Mahalanobis"
   ]
  },
  {
   "cell_type": "code",
   "execution_count": 15,
   "metadata": {},
   "outputs": [],
   "source": [
    "def Dist_Mahalanobis_1(x_i, x_r, Data):\n",
    "\n",
    "    # All the columns of Data must be type = 'float' or 'int' (specially not 'object'), in other case we will find \n",
    "    # dimensional problems when Python compute   x @ S_inv @ x.T\n",
    "\n",
    "    x = (x_i - x_r)\n",
    "\n",
    "    x = np.array([x]) # necessary step to transpose a 1D array\n",
    "\n",
    "    S_inv = np.linalg.inv( np.cov(Data , rowvar=False) ) # inverse of covariance matrix\n",
    "\n",
    "    Dist_Maha = np.sqrt( x @ S_inv @ x.T )  # x @ S_inv @ x.T = np.matmul( np.matmul(x , S_inv) , x.T )\n",
    "\n",
    "    Dist_Maha = float(Dist_Maha)\n",
    "\n",
    "    return Dist_Maha"
   ]
  },
  {
   "cell_type": "code",
   "execution_count": 108,
   "metadata": {},
   "outputs": [
    {
     "data": {
      "text/plain": [
       "3.931396144771864"
      ]
     },
     "execution_count": 108,
     "metadata": {},
     "output_type": "execute_result"
    }
   ],
   "source": [
    "Dist_Mahalanobis_1(Data_quant.iloc[2,:] , Data_quant.iloc[5,:] , Data=Data_quant)"
   ]
  },
  {
   "cell_type": "markdown",
   "metadata": {},
   "source": []
  },
  {
   "cell_type": "code",
   "execution_count": 16,
   "metadata": {},
   "outputs": [],
   "source": [
    "def Dist_Mahalanobis_2(x_i, x_r, S_inv):  # Más eficiente que la anterior\n",
    "\n",
    "    # All the columns of Data must be type = 'float' or 'int' (specially not 'object'), in other case we will find \n",
    "    # dimensional problems when Python compute   x @ S_inv @ x.T\n",
    "\n",
    "    x = x_i - x_r\n",
    "\n",
    "    x = np.array([x]) # necessary step to transpose a 1D array\n",
    "\n",
    "    Dist_Maha = np.sqrt( x @ S_inv @ x.T )  # x @ S_inv @ x.T = np.matmul( np.matmul(x , S_inv) , x.T )\n",
    "\n",
    "    Dist_Maha = float(Dist_Maha)\n",
    "\n",
    "    return Dist_Maha"
   ]
  },
  {
   "cell_type": "code",
   "execution_count": 110,
   "metadata": {},
   "outputs": [
    {
     "data": {
      "text/plain": [
       "3.931396144771864"
      ]
     },
     "execution_count": 110,
     "metadata": {},
     "output_type": "execute_result"
    }
   ],
   "source": [
    "Dist_Mahalanobis_2(x_i = Data_quant.iloc[2,:] , x_r = Data_quant.iloc[5,:] , S_inv = np.linalg.inv( np.cov(Data_quant, rowvar=False) ) )"
   ]
  },
  {
   "cell_type": "code",
   "execution_count": 17,
   "metadata": {},
   "outputs": [],
   "source": [
    "def Dist_Mahalanobis_3(x, S_inv):  # Más eficiente que la anterior\n",
    "\n",
    "    # All the columns of Data must be type = 'float' or 'int' (specially not 'object'), in other case we will find \n",
    "    # dimensional problems when Python compute   x @ S_inv @ x.T\n",
    "\n",
    "    # x = (x_i - x_r)\n",
    "\n",
    "    # x = np.array([x]) # necessary step to transpose a 1D array\n",
    "\n",
    "    Dist_Maha = np.sqrt( x @ S_inv @ x.T )  # x @ S_inv @ x.T = np.matmul( np.matmul(x , S_inv) , x.T )\n",
    "\n",
    "    Dist_Maha = float(Dist_Maha)\n",
    "\n",
    "    return Dist_Maha"
   ]
  },
  {
   "cell_type": "code",
   "execution_count": 112,
   "metadata": {},
   "outputs": [
    {
     "data": {
      "text/plain": [
       "3.931396144771864"
      ]
     },
     "execution_count": 112,
     "metadata": {},
     "output_type": "execute_result"
    }
   ],
   "source": [
    "Dist_Mahalanobis_3(x = Data_quant.iloc[2,:] - Data_quant.iloc[5,:] , S_inv=np.linalg.inv( np.cov(Data_quant, rowvar=False) ))"
   ]
  },
  {
   "cell_type": "markdown",
   "metadata": {},
   "source": []
  },
  {
   "cell_type": "code",
   "execution_count": 18,
   "metadata": {},
   "outputs": [],
   "source": [
    "def Matrix_Dist_Mahalanobis_1(Data):\n",
    "\n",
    "    Data = Data.to_numpy()\n",
    "\n",
    "    n = len(Data)\n",
    "\n",
    "    M =  np.empty((n , n))\n",
    "\n",
    "   \n",
    "    for i in range(0, n):\n",
    "\n",
    "         for r in range(0, n):\n",
    "\n",
    "             if i >= r :\n",
    "               \n",
    "                 M[i,r] = 0\n",
    "\n",
    "             else :\n",
    "\n",
    "                 M[i,r] = Dist_Mahalanobis_1(x_i = Data[i,:] , x_r = Data[r,:] , Data=Data )\n",
    "\n",
    "                      \n",
    "    return M "
   ]
  },
  {
   "cell_type": "code",
   "execution_count": 114,
   "metadata": {},
   "outputs": [
    {
     "ename": "KeyboardInterrupt",
     "evalue": "",
     "output_type": "error",
     "traceback": [
      "\u001b[1;31m---------------------------------------------------------------------------\u001b[0m",
      "\u001b[1;31mKeyboardInterrupt\u001b[0m                         Traceback (most recent call last)",
      "\u001b[1;32mc:\\Users\\Usuario\\Documents\\fabio\\Fabio\\Estadistica4all.github.io-1\\Notebooks\\Statistical Distances\\Distancias Estadisticas (new).ipynb Cell 56\u001b[0m in \u001b[0;36m<cell line: 1>\u001b[1;34m()\u001b[0m\n\u001b[1;32m----> <a href='vscode-notebook-cell:/c%3A/Users/Usuario/Documents/fabio/Fabio/Estadistica4all.github.io-1/Notebooks/Statistical%20Distances/Distancias%20Estadisticas%20%28new%29.ipynb#Y106sZmlsZQ%3D%3D?line=0'>1</a>\u001b[0m Matrix_Dist_Mahalanobis_1(Data\u001b[39m=\u001b[39;49mData_quant\u001b[39m.\u001b[39;49miloc[\u001b[39m0\u001b[39;49m:\u001b[39m1000\u001b[39;49m, :])\n",
      "\u001b[1;32mc:\\Users\\Usuario\\Documents\\fabio\\Fabio\\Estadistica4all.github.io-1\\Notebooks\\Statistical Distances\\Distancias Estadisticas (new).ipynb Cell 56\u001b[0m in \u001b[0;36mMatrix_Dist_Mahalanobis_1\u001b[1;34m(Data)\u001b[0m\n\u001b[0;32m     <a href='vscode-notebook-cell:/c%3A/Users/Usuario/Documents/fabio/Fabio/Estadistica4all.github.io-1/Notebooks/Statistical%20Distances/Distancias%20Estadisticas%20%28new%29.ipynb#Y106sZmlsZQ%3D%3D?line=15'>16</a>\u001b[0m              M[i,r] \u001b[39m=\u001b[39m \u001b[39m0\u001b[39m\n\u001b[0;32m     <a href='vscode-notebook-cell:/c%3A/Users/Usuario/Documents/fabio/Fabio/Estadistica4all.github.io-1/Notebooks/Statistical%20Distances/Distancias%20Estadisticas%20%28new%29.ipynb#Y106sZmlsZQ%3D%3D?line=17'>18</a>\u001b[0m          \u001b[39melse\u001b[39;00m :\n\u001b[1;32m---> <a href='vscode-notebook-cell:/c%3A/Users/Usuario/Documents/fabio/Fabio/Estadistica4all.github.io-1/Notebooks/Statistical%20Distances/Distancias%20Estadisticas%20%28new%29.ipynb#Y106sZmlsZQ%3D%3D?line=19'>20</a>\u001b[0m              M[i,r] \u001b[39m=\u001b[39m Dist_Mahalanobis_1(x_i \u001b[39m=\u001b[39;49m Data[i,:] , x_r \u001b[39m=\u001b[39;49m Data[r,:] , Data\u001b[39m=\u001b[39;49mData )\n\u001b[0;32m     <a href='vscode-notebook-cell:/c%3A/Users/Usuario/Documents/fabio/Fabio/Estadistica4all.github.io-1/Notebooks/Statistical%20Distances/Distancias%20Estadisticas%20%28new%29.ipynb#Y106sZmlsZQ%3D%3D?line=22'>23</a>\u001b[0m \u001b[39mreturn\u001b[39;00m M\n",
      "\u001b[1;32mc:\\Users\\Usuario\\Documents\\fabio\\Fabio\\Estadistica4all.github.io-1\\Notebooks\\Statistical Distances\\Distancias Estadisticas (new).ipynb Cell 56\u001b[0m in \u001b[0;36mDist_Mahalanobis_1\u001b[1;34m(x_i, x_r, Data)\u001b[0m\n\u001b[0;32m      <a href='vscode-notebook-cell:/c%3A/Users/Usuario/Documents/fabio/Fabio/Estadistica4all.github.io-1/Notebooks/Statistical%20Distances/Distancias%20Estadisticas%20%28new%29.ipynb#Y106sZmlsZQ%3D%3D?line=5'>6</a>\u001b[0m x \u001b[39m=\u001b[39m (x_i \u001b[39m-\u001b[39m x_r)\n\u001b[0;32m      <a href='vscode-notebook-cell:/c%3A/Users/Usuario/Documents/fabio/Fabio/Estadistica4all.github.io-1/Notebooks/Statistical%20Distances/Distancias%20Estadisticas%20%28new%29.ipynb#Y106sZmlsZQ%3D%3D?line=7'>8</a>\u001b[0m x \u001b[39m=\u001b[39m np\u001b[39m.\u001b[39marray([x]) \u001b[39m# necessary step to transpose a 1D array\u001b[39;00m\n\u001b[1;32m---> <a href='vscode-notebook-cell:/c%3A/Users/Usuario/Documents/fabio/Fabio/Estadistica4all.github.io-1/Notebooks/Statistical%20Distances/Distancias%20Estadisticas%20%28new%29.ipynb#Y106sZmlsZQ%3D%3D?line=9'>10</a>\u001b[0m S_inv \u001b[39m=\u001b[39m np\u001b[39m.\u001b[39mlinalg\u001b[39m.\u001b[39minv( np\u001b[39m.\u001b[39;49mcov(Data , rowvar\u001b[39m=\u001b[39;49m\u001b[39mFalse\u001b[39;49;00m) ) \u001b[39m# inverse of covariance matrix\u001b[39;00m\n\u001b[0;32m     <a href='vscode-notebook-cell:/c%3A/Users/Usuario/Documents/fabio/Fabio/Estadistica4all.github.io-1/Notebooks/Statistical%20Distances/Distancias%20Estadisticas%20%28new%29.ipynb#Y106sZmlsZQ%3D%3D?line=11'>12</a>\u001b[0m Dist_Maha \u001b[39m=\u001b[39m np\u001b[39m.\u001b[39msqrt( x \u001b[39m@\u001b[39m S_inv \u001b[39m@\u001b[39m x\u001b[39m.\u001b[39mT )  \u001b[39m# x @ S_inv @ x.T = np.matmul( np.matmul(x , S_inv) , x.T )\u001b[39;00m\n\u001b[0;32m     <a href='vscode-notebook-cell:/c%3A/Users/Usuario/Documents/fabio/Fabio/Estadistica4all.github.io-1/Notebooks/Statistical%20Distances/Distancias%20Estadisticas%20%28new%29.ipynb#Y106sZmlsZQ%3D%3D?line=13'>14</a>\u001b[0m Dist_Maha \u001b[39m=\u001b[39m \u001b[39mfloat\u001b[39m(Dist_Maha)\n",
      "File \u001b[1;32m<__array_function__ internals>:180\u001b[0m, in \u001b[0;36mcov\u001b[1;34m(*args, **kwargs)\u001b[0m\n",
      "File \u001b[1;32mc:\\Users\\Usuario\\AppData\\Local\\Programs\\Python\\Python310\\lib\\site-packages\\numpy\\lib\\function_base.py:2630\u001b[0m, in \u001b[0;36mcov\u001b[1;34m(m, y, rowvar, bias, ddof, fweights, aweights, dtype)\u001b[0m\n\u001b[0;32m   2627\u001b[0m     \u001b[39melse\u001b[39;00m:\n\u001b[0;32m   2628\u001b[0m         dtype \u001b[39m=\u001b[39m np\u001b[39m.\u001b[39mresult_type(m, y, np\u001b[39m.\u001b[39mfloat64)\n\u001b[1;32m-> 2630\u001b[0m X \u001b[39m=\u001b[39m array(m, ndmin\u001b[39m=\u001b[39;49m\u001b[39m2\u001b[39;49m, dtype\u001b[39m=\u001b[39;49mdtype)\n\u001b[0;32m   2631\u001b[0m \u001b[39mif\u001b[39;00m \u001b[39mnot\u001b[39;00m rowvar \u001b[39mand\u001b[39;00m X\u001b[39m.\u001b[39mshape[\u001b[39m0\u001b[39m] \u001b[39m!=\u001b[39m \u001b[39m1\u001b[39m:\n\u001b[0;32m   2632\u001b[0m     X \u001b[39m=\u001b[39m X\u001b[39m.\u001b[39mT\n",
      "\u001b[1;31mKeyboardInterrupt\u001b[0m: "
     ]
    }
   ],
   "source": [
    "Matrix_Dist_Mahalanobis_1(Data=Data_quant.iloc[0:1000, :]) # 2.25 mins"
   ]
  },
  {
   "cell_type": "code",
   "execution_count": null,
   "metadata": {},
   "outputs": [
    {
     "data": {
      "text/plain": [
       "array([[0.        , 2.11289055, 3.7975463 , ..., 4.51559865, 2.31688444,\n",
       "        1.10588047],\n",
       "       [0.        , 0.        , 4.35615967, ..., 4.93340427, 2.74011739,\n",
       "        2.12938584],\n",
       "       [0.        , 0.        , 0.        , ..., 3.17779509, 3.49432487,\n",
       "        3.23723317],\n",
       "       ...,\n",
       "       [0.        , 0.        , 0.        , ..., 0.        , 3.58695453,\n",
       "        4.11275247],\n",
       "       [0.        , 0.        , 0.        , ..., 0.        , 0.        ,\n",
       "        1.46894947],\n",
       "       [0.        , 0.        , 0.        , ..., 0.        , 0.        ,\n",
       "        0.        ]])"
      ]
     },
     "execution_count": 71,
     "metadata": {},
     "output_type": "execute_result"
    }
   ],
   "source": [
    "Matrix_Dist_Mahalanobis_1(Data=Data_quant) # 8.52 mins"
   ]
  },
  {
   "cell_type": "code",
   "execution_count": 19,
   "metadata": {},
   "outputs": [],
   "source": [
    "def Matrix_Dist_Mahalanobis_2(Data):\n",
    "\n",
    "    Data = Data.to_numpy()\n",
    "\n",
    "    n = len(Data)\n",
    "\n",
    "    M =  np.empty((n , n))\n",
    "\n",
    "    S_inv = np.linalg.inv( np.cov(Data , rowvar=False) )\n",
    "\n",
    "   \n",
    "    for i in range(0, n):\n",
    "\n",
    "         for r in range(0, n):\n",
    "\n",
    "             if i >= r :\n",
    "               \n",
    "                 M[i,r] = 0\n",
    "\n",
    "             else :\n",
    "\n",
    "                 M[i,r] = Dist_Mahalanobis_2(x_i = Data[i,:] , x_r = Data[r,:] , S_inv = S_inv  )\n",
    "\n",
    "                      \n",
    "    return M "
   ]
  },
  {
   "cell_type": "code",
   "execution_count": null,
   "metadata": {},
   "outputs": [
    {
     "data": {
      "text/plain": [
       "array([[0.        , 2.16321817, 3.81131086, ..., 2.74083537, 3.84799958,\n",
       "        1.06041471],\n",
       "       [0.        , 0.        , 4.29953104, ..., 2.76698155, 2.78100414,\n",
       "        2.20791581],\n",
       "       [0.        , 0.        , 0.        , ..., 2.63546884, 4.34269664,\n",
       "        3.32469143],\n",
       "       ...,\n",
       "       [0.        , 0.        , 0.        , ..., 0.        , 2.18534065,\n",
       "        1.8408748 ],\n",
       "       [0.        , 0.        , 0.        , ..., 0.        , 0.        ,\n",
       "        3.09496075],\n",
       "       [0.        , 0.        , 0.        , ..., 0.        , 0.        ,\n",
       "        0.        ]])"
      ]
     },
     "execution_count": 71,
     "metadata": {},
     "output_type": "execute_result"
    }
   ],
   "source": [
    "Matrix_Dist_Mahalanobis_2(Data=Data_quant.iloc[0:1000, :]) # 6.8 seg"
   ]
  },
  {
   "cell_type": "code",
   "execution_count": null,
   "metadata": {},
   "outputs": [
    {
     "data": {
      "text/plain": [
       "array([[0.        , 2.11289055, 3.7975463 , ..., 4.51559865, 2.31688444,\n",
       "        1.10588047],\n",
       "       [0.        , 0.        , 4.35615967, ..., 4.93340427, 2.74011739,\n",
       "        2.12938584],\n",
       "       [0.        , 0.        , 0.        , ..., 3.17779509, 3.49432487,\n",
       "        3.23723317],\n",
       "       ...,\n",
       "       [0.        , 0.        , 0.        , ..., 0.        , 3.58695453,\n",
       "        4.11275247],\n",
       "       [0.        , 0.        , 0.        , ..., 0.        , 0.        ,\n",
       "        1.46894947],\n",
       "       [0.        , 0.        , 0.        , ..., 0.        , 0.        ,\n",
       "        0.        ]])"
      ]
     },
     "execution_count": 72,
     "metadata": {},
     "output_type": "execute_result"
    }
   ],
   "source": [
    "Matrix_Dist_Mahalanobis_2(Data=Data_quant) # 22.5 seg"
   ]
  },
  {
   "cell_type": "markdown",
   "metadata": {},
   "source": []
  },
  {
   "cell_type": "code",
   "execution_count": 20,
   "metadata": {},
   "outputs": [],
   "source": [
    "def Matrix_Dist_Mahalanobis(Data):\n",
    "\n",
    "    Data = Data.to_numpy()\n",
    "\n",
    "    n = len(Data)\n",
    "\n",
    "    M =  np.empty((n , n))\n",
    "\n",
    "    S_inv=np.linalg.inv( np.cov(Data , rowvar=False) )\n",
    "\n",
    "   \n",
    "    for i in range(0, n):\n",
    "\n",
    "         for r in range(0, n):\n",
    "\n",
    "             if i >= r :\n",
    "               \n",
    "                 M[i,r] = 0\n",
    "\n",
    "             else :\n",
    "\n",
    "                 M[i,r] = Dist_Mahalanobis_3(x = np.array([Data[i,:] - Data[r,:]]) , S_inv=S_inv ) \n",
    "\n",
    "                      \n",
    "    return M "
   ]
  },
  {
   "cell_type": "code",
   "execution_count": 117,
   "metadata": {},
   "outputs": [
    {
     "data": {
      "text/plain": [
       "array([[0.        , 2.16321817, 3.81131086, ..., 2.74083537, 3.84799958,\n",
       "        1.06041471],\n",
       "       [0.        , 0.        , 4.29953104, ..., 2.76698155, 2.78100414,\n",
       "        2.20791581],\n",
       "       [0.        , 0.        , 0.        , ..., 2.63546884, 4.34269664,\n",
       "        3.32469143],\n",
       "       ...,\n",
       "       [0.        , 0.        , 0.        , ..., 0.        , 2.18534065,\n",
       "        1.8408748 ],\n",
       "       [0.        , 0.        , 0.        , ..., 0.        , 0.        ,\n",
       "        3.09496075],\n",
       "       [0.        , 0.        , 0.        , ..., 0.        , 0.        ,\n",
       "        0.        ]])"
      ]
     },
     "execution_count": 117,
     "metadata": {},
     "output_type": "execute_result"
    }
   ],
   "source": [
    "Matrix_Dist_Mahalanobis(Data=Data_quant.iloc[0:1000, :]) # 4.8 seg"
   ]
  },
  {
   "cell_type": "code",
   "execution_count": null,
   "metadata": {},
   "outputs": [
    {
     "data": {
      "text/plain": [
       "array([[0.        , 2.11289055, 3.7975463 , ..., 4.51559865, 2.31688444,\n",
       "        1.10588047],\n",
       "       [0.        , 0.        , 4.35615967, ..., 4.93340427, 2.74011739,\n",
       "        2.12938584],\n",
       "       [0.        , 0.        , 0.        , ..., 3.17779509, 3.49432487,\n",
       "        3.23723317],\n",
       "       ...,\n",
       "       [0.        , 0.        , 0.        , ..., 0.        , 3.58695453,\n",
       "        4.11275247],\n",
       "       [0.        , 0.        , 0.        , ..., 0.        , 0.        ,\n",
       "        1.46894947],\n",
       "       [0.        , 0.        , 0.        , ..., 0.        , 0.        ,\n",
       "        0.        ]])"
      ]
     },
     "execution_count": 75,
     "metadata": {},
     "output_type": "execute_result"
    }
   ],
   "source": [
    "M_Mahalanobis = Matrix_Dist_Mahalanobis(Data=Data_quant) # 19.7 seg\n",
    "\n",
    "M_Mahalanobis"
   ]
  },
  {
   "cell_type": "code",
   "execution_count": null,
   "metadata": {},
   "outputs": [
    {
     "data": {
      "text/plain": [
       "array([[0.        , 2.11289055, 3.7975463 , ..., 4.51559865, 2.31688444,\n",
       "        1.10588047],\n",
       "       [2.11289055, 0.        , 4.35615967, ..., 4.93340427, 2.74011739,\n",
       "        2.12938584],\n",
       "       [3.7975463 , 4.35615967, 0.        , ..., 3.17779509, 3.49432487,\n",
       "        3.23723317],\n",
       "       ...,\n",
       "       [4.51559865, 4.93340427, 3.17779509, ..., 0.        , 3.58695453,\n",
       "        4.11275247],\n",
       "       [2.31688444, 2.74011739, 3.49432487, ..., 3.58695453, 0.        ,\n",
       "        1.46894947],\n",
       "       [1.10588047, 2.12938584, 3.23723317, ..., 4.11275247, 1.46894947,\n",
       "        0.        ]])"
      ]
     },
     "execution_count": 76,
     "metadata": {},
     "output_type": "execute_result"
    }
   ],
   "source": [
    "M_Mahalanobis = M_Mahalanobis + M_Mahalanobis.T\n",
    "\n",
    "M_Mahalanobis"
   ]
  },
  {
   "cell_type": "markdown",
   "metadata": {},
   "source": []
  },
  {
   "cell_type": "code",
   "execution_count": 21,
   "metadata": {},
   "outputs": [],
   "source": [
    "def a_b_c_d_Matrix(Data):\n",
    "\n",
    "    X = Data.to_numpy()\n",
    "\n",
    "    a = X @ X.T\n",
    "\n",
    "    n = X.shape[0]\n",
    "\n",
    "    p = X.shape[1]\n",
    "\n",
    "    ones_matrix = np.ones((n, p)) \n",
    "\n",
    "    b = (ones_matrix - X) @ X.T\n",
    "\n",
    "    c = b.T\n",
    "\n",
    "    d = (ones_matrix - X) @ (ones_matrix - X).T\n",
    "\n",
    "    return a , b , c , d , p"
   ]
  },
  {
   "cell_type": "code",
   "execution_count": null,
   "metadata": {},
   "outputs": [],
   "source": [
    "a, b, c, d, p = a_b_c_d_Matrix(Data_binary)"
   ]
  },
  {
   "cell_type": "code",
   "execution_count": null,
   "metadata": {},
   "outputs": [
    {
     "data": {
      "text/plain": [
       "array([[1., 1., 1., ..., 1., 1., 1.],\n",
       "       [1., 1., 1., ..., 1., 1., 1.],\n",
       "       [1., 1., 2., ..., 1., 1., 1.],\n",
       "       ...,\n",
       "       [1., 1., 1., ..., 1., 1., 1.],\n",
       "       [1., 1., 1., ..., 1., 2., 1.],\n",
       "       [1., 1., 1., ..., 1., 1., 1.]])"
      ]
     },
     "execution_count": 81,
     "metadata": {},
     "output_type": "execute_result"
    }
   ],
   "source": [
    "a"
   ]
  },
  {
   "cell_type": "code",
   "execution_count": null,
   "metadata": {},
   "outputs": [
    {
     "data": {
      "text/html": [
       "<div>\n",
       "<style scoped>\n",
       "    .dataframe tbody tr th:only-of-type {\n",
       "        vertical-align: middle;\n",
       "    }\n",
       "\n",
       "    .dataframe tbody tr th {\n",
       "        vertical-align: top;\n",
       "    }\n",
       "\n",
       "    .dataframe thead th {\n",
       "        text-align: right;\n",
       "    }\n",
       "</style>\n",
       "<table border=\"1\" class=\"dataframe\">\n",
       "  <thead>\n",
       "    <tr style=\"text-align: right;\">\n",
       "      <th></th>\n",
       "      <th>private_garden_recode</th>\n",
       "      <th>private_gym_recode</th>\n",
       "      <th>private_jacuzzi_recode</th>\n",
       "      <th>balcony_recode</th>\n",
       "    </tr>\n",
       "  </thead>\n",
       "  <tbody>\n",
       "    <tr>\n",
       "      <th>30</th>\n",
       "      <td>0.0</td>\n",
       "      <td>1.0</td>\n",
       "      <td>0.0</td>\n",
       "      <td>1.0</td>\n",
       "    </tr>\n",
       "    <tr>\n",
       "      <th>1903</th>\n",
       "      <td>1.0</td>\n",
       "      <td>0.0</td>\n",
       "      <td>0.0</td>\n",
       "      <td>1.0</td>\n",
       "    </tr>\n",
       "  </tbody>\n",
       "</table>\n",
       "</div>"
      ],
      "text/plain": [
       "      private_garden_recode  private_gym_recode  private_jacuzzi_recode  \\\n",
       "30                      0.0                 1.0                     0.0   \n",
       "1903                    1.0                 0.0                     0.0   \n",
       "\n",
       "      balcony_recode  \n",
       "30               1.0  \n",
       "1903             1.0  "
      ]
     },
     "execution_count": 82,
     "metadata": {},
     "output_type": "execute_result"
    }
   ],
   "source": [
    "Data_binary.iloc[[30,1903], :]"
   ]
  },
  {
   "cell_type": "code",
   "execution_count": null,
   "metadata": {},
   "outputs": [
    {
     "data": {
      "text/plain": [
       "1.0"
      ]
     },
     "execution_count": 83,
     "metadata": {},
     "output_type": "execute_result"
    }
   ],
   "source": [
    "a[30 , 1903]"
   ]
  },
  {
   "cell_type": "code",
   "execution_count": null,
   "metadata": {},
   "outputs": [
    {
     "data": {
      "text/html": [
       "<div>\n",
       "<style scoped>\n",
       "    .dataframe tbody tr th:only-of-type {\n",
       "        vertical-align: middle;\n",
       "    }\n",
       "\n",
       "    .dataframe tbody tr th {\n",
       "        vertical-align: top;\n",
       "    }\n",
       "\n",
       "    .dataframe thead th {\n",
       "        text-align: right;\n",
       "    }\n",
       "</style>\n",
       "<table border=\"1\" class=\"dataframe\">\n",
       "  <thead>\n",
       "    <tr style=\"text-align: right;\">\n",
       "      <th></th>\n",
       "      <th>private_garden_recode</th>\n",
       "      <th>private_gym_recode</th>\n",
       "      <th>private_jacuzzi_recode</th>\n",
       "      <th>balcony_recode</th>\n",
       "    </tr>\n",
       "  </thead>\n",
       "  <tbody>\n",
       "    <tr>\n",
       "      <th>40</th>\n",
       "      <td>0.0</td>\n",
       "      <td>0.0</td>\n",
       "      <td>0.0</td>\n",
       "      <td>1.0</td>\n",
       "    </tr>\n",
       "    <tr>\n",
       "      <th>1903</th>\n",
       "      <td>1.0</td>\n",
       "      <td>0.0</td>\n",
       "      <td>0.0</td>\n",
       "      <td>1.0</td>\n",
       "    </tr>\n",
       "  </tbody>\n",
       "</table>\n",
       "</div>"
      ],
      "text/plain": [
       "      private_garden_recode  private_gym_recode  private_jacuzzi_recode  \\\n",
       "40                      0.0                 0.0                     0.0   \n",
       "1903                    1.0                 0.0                     0.0   \n",
       "\n",
       "      balcony_recode  \n",
       "40               1.0  \n",
       "1903             1.0  "
      ]
     },
     "execution_count": 84,
     "metadata": {},
     "output_type": "execute_result"
    }
   ],
   "source": [
    "Data_binary.iloc[[40,1903], :]"
   ]
  },
  {
   "cell_type": "code",
   "execution_count": null,
   "metadata": {},
   "outputs": [
    {
     "data": {
      "text/plain": [
       "1.0"
      ]
     },
     "execution_count": 85,
     "metadata": {},
     "output_type": "execute_result"
    }
   ],
   "source": [
    "a[40 , 1903]"
   ]
  },
  {
   "cell_type": "code",
   "execution_count": null,
   "metadata": {},
   "outputs": [
    {
     "data": {
      "text/plain": [
       "array([[0., 0., 1., ..., 0., 1., 0.],\n",
       "       [0., 0., 1., ..., 0., 1., 0.],\n",
       "       [0., 0., 0., ..., 0., 1., 0.],\n",
       "       ...,\n",
       "       [0., 0., 1., ..., 0., 1., 0.],\n",
       "       [0., 0., 1., ..., 0., 0., 0.],\n",
       "       [0., 0., 1., ..., 0., 1., 0.]])"
      ]
     },
     "execution_count": 86,
     "metadata": {},
     "output_type": "execute_result"
    }
   ],
   "source": [
    "b"
   ]
  },
  {
   "cell_type": "code",
   "execution_count": null,
   "metadata": {},
   "outputs": [
    {
     "data": {
      "text/html": [
       "<div>\n",
       "<style scoped>\n",
       "    .dataframe tbody tr th:only-of-type {\n",
       "        vertical-align: middle;\n",
       "    }\n",
       "\n",
       "    .dataframe tbody tr th {\n",
       "        vertical-align: top;\n",
       "    }\n",
       "\n",
       "    .dataframe thead th {\n",
       "        text-align: right;\n",
       "    }\n",
       "</style>\n",
       "<table border=\"1\" class=\"dataframe\">\n",
       "  <thead>\n",
       "    <tr style=\"text-align: right;\">\n",
       "      <th></th>\n",
       "      <th>private_garden_recode</th>\n",
       "      <th>private_gym_recode</th>\n",
       "      <th>private_jacuzzi_recode</th>\n",
       "      <th>balcony_recode</th>\n",
       "    </tr>\n",
       "  </thead>\n",
       "  <tbody>\n",
       "    <tr>\n",
       "      <th>30</th>\n",
       "      <td>0.0</td>\n",
       "      <td>1.0</td>\n",
       "      <td>0.0</td>\n",
       "      <td>1.0</td>\n",
       "    </tr>\n",
       "    <tr>\n",
       "      <th>1903</th>\n",
       "      <td>1.0</td>\n",
       "      <td>0.0</td>\n",
       "      <td>0.0</td>\n",
       "      <td>1.0</td>\n",
       "    </tr>\n",
       "  </tbody>\n",
       "</table>\n",
       "</div>"
      ],
      "text/plain": [
       "      private_garden_recode  private_gym_recode  private_jacuzzi_recode  \\\n",
       "30                      0.0                 1.0                     0.0   \n",
       "1903                    1.0                 0.0                     0.0   \n",
       "\n",
       "      balcony_recode  \n",
       "30               1.0  \n",
       "1903             1.0  "
      ]
     },
     "execution_count": 87,
     "metadata": {},
     "output_type": "execute_result"
    }
   ],
   "source": [
    "Data_binary.iloc[[30,1903], :]"
   ]
  },
  {
   "cell_type": "code",
   "execution_count": null,
   "metadata": {},
   "outputs": [
    {
     "data": {
      "text/plain": [
       "1.0"
      ]
     },
     "execution_count": 88,
     "metadata": {},
     "output_type": "execute_result"
    }
   ],
   "source": [
    "b[30 , 1903]"
   ]
  },
  {
   "cell_type": "code",
   "execution_count": null,
   "metadata": {},
   "outputs": [
    {
     "data": {
      "text/html": [
       "<div>\n",
       "<style scoped>\n",
       "    .dataframe tbody tr th:only-of-type {\n",
       "        vertical-align: middle;\n",
       "    }\n",
       "\n",
       "    .dataframe tbody tr th {\n",
       "        vertical-align: top;\n",
       "    }\n",
       "\n",
       "    .dataframe thead th {\n",
       "        text-align: right;\n",
       "    }\n",
       "</style>\n",
       "<table border=\"1\" class=\"dataframe\">\n",
       "  <thead>\n",
       "    <tr style=\"text-align: right;\">\n",
       "      <th></th>\n",
       "      <th>private_garden_recode</th>\n",
       "      <th>private_gym_recode</th>\n",
       "      <th>private_jacuzzi_recode</th>\n",
       "      <th>balcony_recode</th>\n",
       "    </tr>\n",
       "  </thead>\n",
       "  <tbody>\n",
       "    <tr>\n",
       "      <th>40</th>\n",
       "      <td>0.0</td>\n",
       "      <td>0.0</td>\n",
       "      <td>0.0</td>\n",
       "      <td>1.0</td>\n",
       "    </tr>\n",
       "    <tr>\n",
       "      <th>1903</th>\n",
       "      <td>1.0</td>\n",
       "      <td>0.0</td>\n",
       "      <td>0.0</td>\n",
       "      <td>1.0</td>\n",
       "    </tr>\n",
       "  </tbody>\n",
       "</table>\n",
       "</div>"
      ],
      "text/plain": [
       "      private_garden_recode  private_gym_recode  private_jacuzzi_recode  \\\n",
       "40                      0.0                 0.0                     0.0   \n",
       "1903                    1.0                 0.0                     0.0   \n",
       "\n",
       "      balcony_recode  \n",
       "40               1.0  \n",
       "1903             1.0  "
      ]
     },
     "execution_count": 89,
     "metadata": {},
     "output_type": "execute_result"
    }
   ],
   "source": [
    "Data_binary.iloc[[40,1903], :]"
   ]
  },
  {
   "cell_type": "code",
   "execution_count": null,
   "metadata": {},
   "outputs": [
    {
     "data": {
      "text/plain": [
       "1.0"
      ]
     },
     "execution_count": 90,
     "metadata": {},
     "output_type": "execute_result"
    }
   ],
   "source": [
    "b[40,1903]"
   ]
  },
  {
   "cell_type": "code",
   "execution_count": null,
   "metadata": {},
   "outputs": [
    {
     "data": {
      "text/plain": [
       "array([[0., 0., 0., ..., 0., 0., 0.],\n",
       "       [0., 0., 0., ..., 0., 0., 0.],\n",
       "       [1., 1., 0., ..., 1., 1., 1.],\n",
       "       ...,\n",
       "       [0., 0., 0., ..., 0., 0., 0.],\n",
       "       [1., 1., 1., ..., 1., 0., 1.],\n",
       "       [0., 0., 0., ..., 0., 0., 0.]])"
      ]
     },
     "execution_count": 91,
     "metadata": {},
     "output_type": "execute_result"
    }
   ],
   "source": [
    "c"
   ]
  },
  {
   "cell_type": "code",
   "execution_count": null,
   "metadata": {},
   "outputs": [
    {
     "data": {
      "text/plain": [
       "1.0"
      ]
     },
     "execution_count": 92,
     "metadata": {},
     "output_type": "execute_result"
    }
   ],
   "source": [
    "c[30, 1903]"
   ]
  },
  {
   "cell_type": "code",
   "execution_count": null,
   "metadata": {},
   "outputs": [
    {
     "data": {
      "text/html": [
       "<div>\n",
       "<style scoped>\n",
       "    .dataframe tbody tr th:only-of-type {\n",
       "        vertical-align: middle;\n",
       "    }\n",
       "\n",
       "    .dataframe tbody tr th {\n",
       "        vertical-align: top;\n",
       "    }\n",
       "\n",
       "    .dataframe thead th {\n",
       "        text-align: right;\n",
       "    }\n",
       "</style>\n",
       "<table border=\"1\" class=\"dataframe\">\n",
       "  <thead>\n",
       "    <tr style=\"text-align: right;\">\n",
       "      <th></th>\n",
       "      <th>private_garden_recode</th>\n",
       "      <th>private_gym_recode</th>\n",
       "      <th>private_jacuzzi_recode</th>\n",
       "      <th>balcony_recode</th>\n",
       "    </tr>\n",
       "  </thead>\n",
       "  <tbody>\n",
       "    <tr>\n",
       "      <th>40</th>\n",
       "      <td>0.0</td>\n",
       "      <td>0.0</td>\n",
       "      <td>0.0</td>\n",
       "      <td>1.0</td>\n",
       "    </tr>\n",
       "    <tr>\n",
       "      <th>1903</th>\n",
       "      <td>1.0</td>\n",
       "      <td>0.0</td>\n",
       "      <td>0.0</td>\n",
       "      <td>1.0</td>\n",
       "    </tr>\n",
       "  </tbody>\n",
       "</table>\n",
       "</div>"
      ],
      "text/plain": [
       "      private_garden_recode  private_gym_recode  private_jacuzzi_recode  \\\n",
       "40                      0.0                 0.0                     0.0   \n",
       "1903                    1.0                 0.0                     0.0   \n",
       "\n",
       "      balcony_recode  \n",
       "40               1.0  \n",
       "1903             1.0  "
      ]
     },
     "execution_count": 94,
     "metadata": {},
     "output_type": "execute_result"
    }
   ],
   "source": [
    "Data_binary.iloc[[40,1903], :]"
   ]
  },
  {
   "cell_type": "code",
   "execution_count": null,
   "metadata": {},
   "outputs": [
    {
     "data": {
      "text/plain": [
       "0.0"
      ]
     },
     "execution_count": 95,
     "metadata": {},
     "output_type": "execute_result"
    }
   ],
   "source": [
    "c[40, 1903]"
   ]
  },
  {
   "cell_type": "code",
   "execution_count": null,
   "metadata": {},
   "outputs": [
    {
     "data": {
      "text/plain": [
       "array([[3., 3., 2., ..., 3., 2., 3.],\n",
       "       [3., 3., 2., ..., 3., 2., 3.],\n",
       "       [2., 2., 2., ..., 2., 1., 2.],\n",
       "       ...,\n",
       "       [3., 3., 2., ..., 3., 2., 3.],\n",
       "       [2., 2., 1., ..., 2., 2., 2.],\n",
       "       [3., 3., 2., ..., 3., 2., 3.]])"
      ]
     },
     "execution_count": 96,
     "metadata": {},
     "output_type": "execute_result"
    }
   ],
   "source": [
    "d"
   ]
  },
  {
   "cell_type": "code",
   "execution_count": null,
   "metadata": {},
   "outputs": [
    {
     "data": {
      "text/plain": [
       "1.0"
      ]
     },
     "execution_count": 97,
     "metadata": {},
     "output_type": "execute_result"
    }
   ],
   "source": [
    "d[30,1903]"
   ]
  },
  {
   "cell_type": "code",
   "execution_count": null,
   "metadata": {},
   "outputs": [
    {
     "data": {
      "text/html": [
       "<div>\n",
       "<style scoped>\n",
       "    .dataframe tbody tr th:only-of-type {\n",
       "        vertical-align: middle;\n",
       "    }\n",
       "\n",
       "    .dataframe tbody tr th {\n",
       "        vertical-align: top;\n",
       "    }\n",
       "\n",
       "    .dataframe thead th {\n",
       "        text-align: right;\n",
       "    }\n",
       "</style>\n",
       "<table border=\"1\" class=\"dataframe\">\n",
       "  <thead>\n",
       "    <tr style=\"text-align: right;\">\n",
       "      <th></th>\n",
       "      <th>private_garden_recode</th>\n",
       "      <th>private_gym_recode</th>\n",
       "      <th>private_jacuzzi_recode</th>\n",
       "      <th>balcony_recode</th>\n",
       "    </tr>\n",
       "  </thead>\n",
       "  <tbody>\n",
       "    <tr>\n",
       "      <th>40</th>\n",
       "      <td>0.0</td>\n",
       "      <td>0.0</td>\n",
       "      <td>0.0</td>\n",
       "      <td>1.0</td>\n",
       "    </tr>\n",
       "    <tr>\n",
       "      <th>1903</th>\n",
       "      <td>1.0</td>\n",
       "      <td>0.0</td>\n",
       "      <td>0.0</td>\n",
       "      <td>1.0</td>\n",
       "    </tr>\n",
       "  </tbody>\n",
       "</table>\n",
       "</div>"
      ],
      "text/plain": [
       "      private_garden_recode  private_gym_recode  private_jacuzzi_recode  \\\n",
       "40                      0.0                 0.0                     0.0   \n",
       "1903                    1.0                 0.0                     0.0   \n",
       "\n",
       "      balcony_recode  \n",
       "40               1.0  \n",
       "1903             1.0  "
      ]
     },
     "execution_count": 98,
     "metadata": {},
     "output_type": "execute_result"
    }
   ],
   "source": [
    "Data_binary.iloc[[40,1903], :]"
   ]
  },
  {
   "cell_type": "code",
   "execution_count": null,
   "metadata": {},
   "outputs": [
    {
     "data": {
      "text/plain": [
       "2.0"
      ]
     },
     "execution_count": 99,
     "metadata": {},
     "output_type": "execute_result"
    }
   ],
   "source": [
    "d[40,1903]"
   ]
  },
  {
   "cell_type": "markdown",
   "metadata": {},
   "source": []
  },
  {
   "cell_type": "markdown",
   "metadata": {},
   "source": [
    "## Similaridad de Sokal"
   ]
  },
  {
   "cell_type": "code",
   "execution_count": 22,
   "metadata": {},
   "outputs": [],
   "source": [
    "def Sokal_Similarity_1(i , r, Data):\n",
    "\n",
    "    a, b, c, d, p = a_b_c_d_Matrix(Data)\n",
    "\n",
    "    if a[i,r] + d[i,r] == 0 :\n",
    "\n",
    "        Sokal_Similarity = 0\n",
    "\n",
    "        \n",
    "    else :\n",
    "\n",
    "        Sokal_Similarity = (a[i,r] + d[i,r]) / p\n",
    "        \n",
    "\n",
    "    return Sokal_Similarity"
   ]
  },
  {
   "cell_type": "code",
   "execution_count": null,
   "metadata": {},
   "outputs": [
    {
     "data": {
      "text/plain": [
       "0.75"
      ]
     },
     "execution_count": 101,
     "metadata": {},
     "output_type": "execute_result"
    }
   ],
   "source": [
    "Sokal_Similarity_1(i=1 , r=2, Data=Data_binary)"
   ]
  },
  {
   "cell_type": "code",
   "execution_count": 23,
   "metadata": {},
   "outputs": [],
   "source": [
    "def Sokal_Similarity_2(i , r, a , d, p):\n",
    "\n",
    "\n",
    "    if a[i,r] + d[i,r] == 0 :\n",
    "\n",
    "        Sokal_Similarity = 0\n",
    "\n",
    "        \n",
    "    else :\n",
    "\n",
    "        Sokal_Similarity = (a[i,r] + d[i,r]) / p\n",
    "        \n",
    "\n",
    "    return Sokal_Similarity"
   ]
  },
  {
   "cell_type": "code",
   "execution_count": 24,
   "metadata": {},
   "outputs": [
    {
     "data": {
      "text/plain": [
       "0.75"
      ]
     },
     "execution_count": 24,
     "metadata": {},
     "output_type": "execute_result"
    }
   ],
   "source": [
    "a, b, c, d, p = a_b_c_d_Matrix(Data_binary)\n",
    "\n",
    "Sokal_Similarity_2(i=1, r=2, a=a, d=d, p=p)"
   ]
  },
  {
   "cell_type": "code",
   "execution_count": 26,
   "metadata": {},
   "outputs": [],
   "source": [
    "def Matrix_Sim_Sokal_1(Data):\n",
    "\n",
    "    n = len(Data)\n",
    "\n",
    "    M =  np.empty((n , n))\n",
    "\n",
    "   \n",
    "    for i in range(0, n):\n",
    "\n",
    "         for r in range(0, n):\n",
    "\n",
    "            if i > r :\n",
    "               \n",
    "                 M[i,r] = 0\n",
    "            \n",
    "            elif i == r :\n",
    "               \n",
    "                 M[i,r] = 1\n",
    "            \n",
    "            else :\n",
    "\n",
    "                 M[i,r] = Sokal_Similarity_1(i, r, Data)\n",
    "                      \n",
    "    return M "
   ]
  },
  {
   "cell_type": "code",
   "execution_count": null,
   "metadata": {},
   "outputs": [
    {
     "data": {
      "text/plain": [
       "array([[1.  , 1.  , 0.75, ..., 0.75, 0.75, 1.  ],\n",
       "       [0.  , 1.  , 0.75, ..., 0.75, 0.75, 1.  ],\n",
       "       [0.  , 0.  , 1.  , ..., 0.5 , 0.5 , 0.75],\n",
       "       ...,\n",
       "       [0.  , 0.  , 0.  , ..., 1.  , 1.  , 0.75],\n",
       "       [0.  , 0.  , 0.  , ..., 0.  , 1.  , 0.75],\n",
       "       [0.  , 0.  , 0.  , ..., 0.  , 0.  , 1.  ]])"
      ]
     },
     "execution_count": 107,
     "metadata": {},
     "output_type": "execute_result"
    }
   ],
   "source": [
    "Matrix_Sim_Sokal_1(Data=Data_binary.iloc[0:300 , 0:300]) # 1.29 mins"
   ]
  },
  {
   "cell_type": "markdown",
   "metadata": {},
   "source": []
  },
  {
   "cell_type": "code",
   "execution_count": 27,
   "metadata": {},
   "outputs": [],
   "source": [
    "def Matrix_Sim_Sokal_2(Data):\n",
    "\n",
    "    n = len(Data)\n",
    "\n",
    "    M =  np.empty((n , n))\n",
    "\n",
    "    a, b, c, d, p = a_b_c_d_Matrix(Data)\n",
    "\n",
    "   \n",
    "    for i in range(0, n):\n",
    "\n",
    "         for r in range(0, n):\n",
    "\n",
    "            if i > r :\n",
    "               \n",
    "                 M[i,r] = 0\n",
    "            \n",
    "            elif i == r :\n",
    "               \n",
    "                 M[i,r] = 1\n",
    "\n",
    "            else :\n",
    "\n",
    "                 M[i,r] = Sokal_Similarity_2(i=i, r=r, a=a, d=d, p=p)\n",
    "                      \n",
    "    return M "
   ]
  },
  {
   "cell_type": "code",
   "execution_count": null,
   "metadata": {},
   "outputs": [
    {
     "data": {
      "text/plain": [
       "array([[1.  , 1.  , 0.75, ..., 1.  , 1.  , 0.75],\n",
       "       [0.  , 1.  , 0.75, ..., 1.  , 1.  , 0.75],\n",
       "       [0.  , 0.  , 1.  , ..., 0.75, 0.75, 0.5 ],\n",
       "       ...,\n",
       "       [0.  , 0.  , 0.  , ..., 1.  , 1.  , 0.75],\n",
       "       [0.  , 0.  , 0.  , ..., 0.  , 1.  , 0.75],\n",
       "       [0.  , 0.  , 0.  , ..., 0.  , 0.  , 1.  ]])"
      ]
     },
     "execution_count": 109,
     "metadata": {},
     "output_type": "execute_result"
    }
   ],
   "source": [
    "Matrix_Sim_Sokal_2(Data=Data_binary.iloc[0:500 , 0:500]) # 0.2 seg"
   ]
  },
  {
   "cell_type": "code",
   "execution_count": null,
   "metadata": {},
   "outputs": [
    {
     "data": {
      "text/plain": [
       "array([[1.  , 1.  , 0.75, ..., 1.  , 0.75, 1.  ],\n",
       "       [0.  , 1.  , 0.75, ..., 1.  , 0.75, 1.  ],\n",
       "       [0.  , 0.  , 1.  , ..., 0.75, 0.5 , 0.75],\n",
       "       ...,\n",
       "       [0.  , 0.  , 0.  , ..., 1.  , 0.75, 1.  ],\n",
       "       [0.  , 0.  , 0.  , ..., 0.  , 1.  , 0.75],\n",
       "       [0.  , 0.  , 0.  , ..., 0.  , 0.  , 1.  ]])"
      ]
     },
     "execution_count": 110,
     "metadata": {},
     "output_type": "execute_result"
    }
   ],
   "source": [
    "M_Sim_Sokal = Matrix_Sim_Sokal_2(Data=Data_binary) # 3.4 seg\n",
    "\n",
    "M_Sim_Sokal"
   ]
  },
  {
   "cell_type": "code",
   "execution_count": null,
   "metadata": {},
   "outputs": [
    {
     "data": {
      "text/plain": [
       "array([[1.  , 1.  , 0.75, ..., 1.  , 0.75, 1.  ],\n",
       "       [1.  , 1.  , 0.75, ..., 1.  , 0.75, 1.  ],\n",
       "       [0.75, 0.75, 1.  , ..., 0.75, 0.5 , 0.75],\n",
       "       ...,\n",
       "       [1.  , 1.  , 0.75, ..., 1.  , 0.75, 1.  ],\n",
       "       [0.75, 0.75, 0.5 , ..., 0.75, 1.  , 0.75],\n",
       "       [1.  , 1.  , 0.75, ..., 1.  , 0.75, 1.  ]])"
      ]
     },
     "execution_count": 111,
     "metadata": {},
     "output_type": "execute_result"
    }
   ],
   "source": [
    "M_Sim_Sokal = M_Sim_Sokal + M_Sim_Sokal.T - np.diag(np.repeat(1 , len(M_Sim_Sokal)), k=0)\n",
    "\n",
    "M_Sim_Sokal"
   ]
  },
  {
   "cell_type": "markdown",
   "metadata": {},
   "source": []
  },
  {
   "cell_type": "markdown",
   "metadata": {},
   "source": []
  },
  {
   "cell_type": "code",
   "execution_count": 28,
   "metadata": {},
   "outputs": [],
   "source": [
    "def Dist_Sokal(i, r, a, d, p):\n",
    "\n",
    "    dist_Sokal = np.sqrt( Sokal_Similarity_2(i , i, a , d, p) + Sokal_Similarity_2(r , r, a , d, p) - 2*Sokal_Similarity_2(i , r, a , d, p) )\n",
    "\n",
    "    return dist_Sokal  "
   ]
  },
  {
   "cell_type": "code",
   "execution_count": null,
   "metadata": {},
   "outputs": [
    {
     "data": {
      "text/plain": [
       "0.7071067811865476"
      ]
     },
     "execution_count": 113,
     "metadata": {},
     "output_type": "execute_result"
    }
   ],
   "source": [
    "a, b, c, d, p = a_b_c_d_Matrix(Data_binary)\n",
    "\n",
    "Dist_Sokal(i=1, r=2, a=a, d=d, p=p)"
   ]
  },
  {
   "cell_type": "code",
   "execution_count": 29,
   "metadata": {},
   "outputs": [],
   "source": [
    "def Matrix_Dist_Sokal(Data):\n",
    "\n",
    "    n = len(Data)\n",
    "\n",
    "    M =  np.empty((n , n))\n",
    "\n",
    "    a, b, c, d, p = a_b_c_d_Matrix(Data)\n",
    "\n",
    "   \n",
    "    for i in range(0, n):\n",
    "\n",
    "         for r in range(0, n):\n",
    "\n",
    "             if i >= r :\n",
    "               \n",
    "                 M[i,r] = 0\n",
    "\n",
    "             else :\n",
    "\n",
    "                 M[i,r] = Dist_Sokal(i=i, r=r, a=a, d=d, p=p)\n",
    "                      \n",
    "    return M "
   ]
  },
  {
   "cell_type": "code",
   "execution_count": 125,
   "metadata": {},
   "outputs": [
    {
     "data": {
      "text/plain": [
       "array([[0.        , 0.        , 0.70710678, ..., 0.        , 0.70710678,\n",
       "        0.        ],\n",
       "       [0.        , 0.        , 0.70710678, ..., 0.        , 0.70710678,\n",
       "        0.        ],\n",
       "       [0.        , 0.        , 0.        , ..., 0.70710678, 1.        ,\n",
       "        0.70710678],\n",
       "       ...,\n",
       "       [0.        , 0.        , 0.        , ..., 0.        , 0.70710678,\n",
       "        0.        ],\n",
       "       [0.        , 0.        , 0.        , ..., 0.        , 0.        ,\n",
       "        0.70710678],\n",
       "       [0.        , 0.        , 0.        , ..., 0.        , 0.        ,\n",
       "        0.        ]])"
      ]
     },
     "execution_count": 125,
     "metadata": {},
     "output_type": "execute_result"
    }
   ],
   "source": [
    "M_Dist_Sokal = Matrix_Dist_Sokal(Data=Data_binary)\n",
    "\n",
    "M_Dist_Sokal"
   ]
  },
  {
   "cell_type": "code",
   "execution_count": null,
   "metadata": {},
   "outputs": [
    {
     "data": {
      "text/plain": [
       "array([[0.        , 0.        , 0.70710678, ..., 0.        , 0.70710678,\n",
       "        0.        ],\n",
       "       [0.        , 0.        , 0.70710678, ..., 0.        , 0.70710678,\n",
       "        0.        ],\n",
       "       [0.70710678, 0.70710678, 0.        , ..., 0.70710678, 1.        ,\n",
       "        0.70710678],\n",
       "       ...,\n",
       "       [0.        , 0.        , 0.70710678, ..., 0.        , 0.70710678,\n",
       "        0.        ],\n",
       "       [0.70710678, 0.70710678, 1.        , ..., 0.70710678, 0.        ,\n",
       "        0.70710678],\n",
       "       [0.        , 0.        , 0.70710678, ..., 0.        , 0.70710678,\n",
       "        0.        ]])"
      ]
     },
     "execution_count": 116,
     "metadata": {},
     "output_type": "execute_result"
    }
   ],
   "source": [
    "M_Dist_Sokal = M_Dist_Sokal + M_Dist_Sokal.T\n",
    "\n",
    "M_Dist_Sokal"
   ]
  },
  {
   "cell_type": "markdown",
   "metadata": {},
   "source": []
  },
  {
   "cell_type": "markdown",
   "metadata": {},
   "source": []
  },
  {
   "cell_type": "markdown",
   "metadata": {},
   "source": [
    "## Similaridad de Jaccard"
   ]
  },
  {
   "cell_type": "code",
   "execution_count": 30,
   "metadata": {},
   "outputs": [],
   "source": [
    "def Jaccard_Similarity_1(i, r, Data):\n",
    "\n",
    "    a, b, c, d, p = a_b_c_d_Matrix(Data)\n",
    " \n",
    "\n",
    "    if a[i,r] == 0 and  (p-d[i,r]) == 0 :\n",
    "\n",
    "        Jaccard_Similarity = 1\n",
    "\n",
    "    else :\n",
    "\n",
    "        Jaccard_Similarity = a[i,r] / (p-d[i,r])\n",
    "\n",
    "\n",
    "    return Jaccard_Similarity"
   ]
  },
  {
   "cell_type": "code",
   "execution_count": null,
   "metadata": {},
   "outputs": [
    {
     "data": {
      "text/plain": [
       "0.0"
      ]
     },
     "execution_count": 14,
     "metadata": {},
     "output_type": "execute_result"
    }
   ],
   "source": [
    "Jaccard_Similarity_1(i=2, r=5, Data=Data_binary)"
   ]
  },
  {
   "cell_type": "code",
   "execution_count": 127,
   "metadata": {},
   "outputs": [],
   "source": [
    "def Jaccard_Similarity_2(i , r, a , b, c):\n",
    "\n",
    "\n",
    "    if a[i,r] == 0 and  (p-d[i,r]) == 0 :\n",
    "\n",
    "        Jaccard_Similarity = 1\n",
    "\n",
    "    else :\n",
    "\n",
    "        Jaccard_Similarity = a[i,r] / (p-d[i,r])\n",
    "        \n",
    "\n",
    "    return Jaccard_Similarity"
   ]
  },
  {
   "cell_type": "code",
   "execution_count": null,
   "metadata": {},
   "outputs": [
    {
     "data": {
      "text/plain": [
       "0.0"
      ]
     },
     "execution_count": 17,
     "metadata": {},
     "output_type": "execute_result"
    }
   ],
   "source": [
    "a, b, c, d, p = a_b_c_d_Matrix(Data=Data_binary)\n",
    "\n",
    "Jaccard_Similarity_2(i=2, r=5, a=a , b=b, c=c)"
   ]
  },
  {
   "cell_type": "code",
   "execution_count": 31,
   "metadata": {},
   "outputs": [],
   "source": [
    "def Matrix_Sim_Jaccard_1(Data):\n",
    "\n",
    "    n = len(Data)\n",
    "\n",
    "    M =  np.empty((n , n))\n",
    "\n",
    "   \n",
    "    for i in range(0, n):\n",
    "\n",
    "         for r in range(0, n):\n",
    "\n",
    "            if i > r :\n",
    "               \n",
    "                 M[i,r] = 0\n",
    "            \n",
    "            elif i == r :\n",
    "               \n",
    "                 M[i,r] = 1\n",
    "            \n",
    "            else :\n",
    "\n",
    "                 M[i,r] = Jaccard_Similarity_1(i, r, Data)\n",
    "                      \n",
    "    return M "
   ]
  },
  {
   "cell_type": "code",
   "execution_count": null,
   "metadata": {},
   "outputs": [
    {
     "data": {
      "text/plain": [
       "array([[1. , 1. , 0.5, ..., 0. , 0. , 1. ],\n",
       "       [0. , 1. , 0.5, ..., 0. , 0. , 1. ],\n",
       "       [0. , 0. , 1. , ..., 0. , 0. , 0.5],\n",
       "       ...,\n",
       "       [0. , 0. , 0. , ..., 1. , 1. , 0. ],\n",
       "       [0. , 0. , 0. , ..., 0. , 1. , 0. ],\n",
       "       [0. , 0. , 0. , ..., 0. , 0. , 1. ]])"
      ]
     },
     "execution_count": 19,
     "metadata": {},
     "output_type": "execute_result"
    }
   ],
   "source": [
    "Matrix_Sim_Jaccard_1(Data=Data_binary.iloc[0:300, 0:300])  # 1.52 min"
   ]
  },
  {
   "cell_type": "code",
   "execution_count": 32,
   "metadata": {},
   "outputs": [],
   "source": [
    "def Matrix_Sim_Jaccard_2(Data):\n",
    "\n",
    "    n = len(Data)\n",
    "\n",
    "    M =  np.empty((n , n))\n",
    "\n",
    "    a, b, c, d, p = a_b_c_d_Matrix(Data=Data)\n",
    "\n",
    "   \n",
    "    for i in range(0, n):\n",
    "\n",
    "         for r in range(0, n):\n",
    "\n",
    "            if i > r :\n",
    "               \n",
    "                 M[i,r] = 0\n",
    "            \n",
    "            elif i == r :\n",
    "               \n",
    "                 M[i,r] = 1\n",
    "            \n",
    "            else :\n",
    "\n",
    "                 M[i,r] = Jaccard_Similarity_2(i , r , a , b , c)\n",
    "                      \n",
    "    return M "
   ]
  },
  {
   "cell_type": "code",
   "execution_count": null,
   "metadata": {},
   "outputs": [
    {
     "data": {
      "text/plain": [
       "array([[1. , 1. , 0.5, ..., 0. , 0. , 1. ],\n",
       "       [0. , 1. , 0.5, ..., 0. , 0. , 1. ],\n",
       "       [0. , 0. , 1. , ..., 0. , 0. , 0.5],\n",
       "       ...,\n",
       "       [0. , 0. , 0. , ..., 1. , 1. , 0. ],\n",
       "       [0. , 0. , 0. , ..., 0. , 1. , 0. ],\n",
       "       [0. , 0. , 0. , ..., 0. , 0. , 1. ]])"
      ]
     },
     "execution_count": 21,
     "metadata": {},
     "output_type": "execute_result"
    }
   ],
   "source": [
    "Matrix_Sim_Jaccard_2(Data=Data_binary.iloc[0:300,0:300])"
   ]
  },
  {
   "cell_type": "code",
   "execution_count": null,
   "metadata": {},
   "outputs": [
    {
     "data": {
      "text/plain": [
       "array([[1.        , 1.        , 0.5       , ..., 1.        , 0.5       ,\n",
       "        1.        ],\n",
       "       [0.        , 1.        , 0.5       , ..., 1.        , 0.5       ,\n",
       "        1.        ],\n",
       "       [0.        , 0.        , 1.        , ..., 0.5       , 0.33333333,\n",
       "        0.5       ],\n",
       "       ...,\n",
       "       [0.        , 0.        , 0.        , ..., 1.        , 0.5       ,\n",
       "        1.        ],\n",
       "       [0.        , 0.        , 0.        , ..., 0.        , 1.        ,\n",
       "        0.5       ],\n",
       "       [0.        , 0.        , 0.        , ..., 0.        , 0.        ,\n",
       "        1.        ]])"
      ]
     },
     "execution_count": 32,
     "metadata": {},
     "output_type": "execute_result"
    }
   ],
   "source": [
    "M_Jaccard = Matrix_Sim_Jaccard_2(Data=Data_binary)\n",
    "\n",
    "M_Jaccard "
   ]
  },
  {
   "cell_type": "code",
   "execution_count": null,
   "metadata": {},
   "outputs": [
    {
     "data": {
      "text/plain": [
       "array([[1.        , 1.        , 0.5       , ..., 1.        , 0.5       ,\n",
       "        1.        ],\n",
       "       [1.        , 1.        , 0.5       , ..., 1.        , 0.5       ,\n",
       "        1.        ],\n",
       "       [0.5       , 0.5       , 1.        , ..., 0.5       , 0.33333333,\n",
       "        0.5       ],\n",
       "       ...,\n",
       "       [1.        , 1.        , 0.5       , ..., 1.        , 0.5       ,\n",
       "        1.        ],\n",
       "       [0.5       , 0.5       , 0.33333333, ..., 0.5       , 1.        ,\n",
       "        0.5       ],\n",
       "       [1.        , 1.        , 0.5       , ..., 1.        , 0.5       ,\n",
       "        1.        ]])"
      ]
     },
     "execution_count": 33,
     "metadata": {},
     "output_type": "execute_result"
    }
   ],
   "source": [
    "M_Jaccard = M_Jaccard + M_Jaccard.T - np.diag(np.repeat(1 , len(M_Jaccard)), k=0)\n",
    "\n",
    "M_Jaccard "
   ]
  },
  {
   "cell_type": "markdown",
   "metadata": {},
   "source": []
  },
  {
   "cell_type": "code",
   "execution_count": 130,
   "metadata": {},
   "outputs": [],
   "source": [
    "def Dist_Jaccard(i , r, a , b, c):\n",
    "\n",
    "    Dist_Jaccard = np.sqrt( Jaccard_Similarity_2(i , i, a , b, c) + Jaccard_Similarity_2(r , r, a , b, c) - 2*Jaccard_Similarity_2(i , r, a , b, c) )\n",
    "\n",
    "    return Dist_Jaccard  "
   ]
  },
  {
   "cell_type": "code",
   "execution_count": null,
   "metadata": {},
   "outputs": [
    {
     "data": {
      "text/html": [
       "<div>\n",
       "<style scoped>\n",
       "    .dataframe tbody tr th:only-of-type {\n",
       "        vertical-align: middle;\n",
       "    }\n",
       "\n",
       "    .dataframe tbody tr th {\n",
       "        vertical-align: top;\n",
       "    }\n",
       "\n",
       "    .dataframe thead th {\n",
       "        text-align: right;\n",
       "    }\n",
       "</style>\n",
       "<table border=\"1\" class=\"dataframe\">\n",
       "  <thead>\n",
       "    <tr style=\"text-align: right;\">\n",
       "      <th></th>\n",
       "      <th>private_garden_recode</th>\n",
       "      <th>private_gym_recode</th>\n",
       "      <th>private_jacuzzi_recode</th>\n",
       "      <th>balcony_recode</th>\n",
       "    </tr>\n",
       "  </thead>\n",
       "  <tbody>\n",
       "    <tr>\n",
       "      <th>2</th>\n",
       "      <td>0.0</td>\n",
       "      <td>0.0</td>\n",
       "      <td>1.0</td>\n",
       "      <td>1.0</td>\n",
       "    </tr>\n",
       "    <tr>\n",
       "      <th>5</th>\n",
       "      <td>0.0</td>\n",
       "      <td>0.0</td>\n",
       "      <td>0.0</td>\n",
       "      <td>0.0</td>\n",
       "    </tr>\n",
       "  </tbody>\n",
       "</table>\n",
       "</div>"
      ],
      "text/plain": [
       "   private_garden_recode  private_gym_recode  private_jacuzzi_recode  \\\n",
       "2                    0.0                 0.0                     1.0   \n",
       "5                    0.0                 0.0                     0.0   \n",
       "\n",
       "   balcony_recode  \n",
       "2             1.0  \n",
       "5             0.0  "
      ]
     },
     "execution_count": 36,
     "metadata": {},
     "output_type": "execute_result"
    }
   ],
   "source": [
    "Data_binary.iloc[[2,5],:]"
   ]
  },
  {
   "cell_type": "code",
   "execution_count": null,
   "metadata": {},
   "outputs": [
    {
     "data": {
      "text/plain": [
       "1.4142135623730951"
      ]
     },
     "execution_count": 35,
     "metadata": {},
     "output_type": "execute_result"
    }
   ],
   "source": [
    "a, b, c, d, p = a_b_c_d_Matrix(Data_binary)\n",
    "\n",
    "Dist_Jaccard(i=2 , r=5, a=a , b=b, c=c)"
   ]
  },
  {
   "cell_type": "code",
   "execution_count": null,
   "metadata": {},
   "outputs": [
    {
     "data": {
      "text/plain": [
       "1.0"
      ]
     },
     "execution_count": 37,
     "metadata": {},
     "output_type": "execute_result"
    }
   ],
   "source": [
    "Jaccard_Similarity_2(2 , 2, a , b, c) "
   ]
  },
  {
   "cell_type": "code",
   "execution_count": null,
   "metadata": {},
   "outputs": [
    {
     "data": {
      "text/plain": [
       "1"
      ]
     },
     "execution_count": 38,
     "metadata": {},
     "output_type": "execute_result"
    }
   ],
   "source": [
    "Jaccard_Similarity_2(5 , 5, a , b, c) "
   ]
  },
  {
   "cell_type": "code",
   "execution_count": null,
   "metadata": {},
   "outputs": [
    {
     "data": {
      "text/plain": [
       "0.0"
      ]
     },
     "execution_count": 39,
     "metadata": {},
     "output_type": "execute_result"
    }
   ],
   "source": [
    "2*Jaccard_Similarity_2(2 , 5, a , b, c)"
   ]
  },
  {
   "cell_type": "code",
   "execution_count": null,
   "metadata": {},
   "outputs": [
    {
     "data": {
      "text/plain": [
       "1.4142135623730951"
      ]
     },
     "execution_count": 40,
     "metadata": {},
     "output_type": "execute_result"
    }
   ],
   "source": [
    "np.sqrt(Jaccard_Similarity_2(2 , 2, a , b, c) + Jaccard_Similarity_2(5 , 5, a , b, c)  -2*Jaccard_Similarity_2(2 , 5, a , b, c) )"
   ]
  },
  {
   "cell_type": "markdown",
   "metadata": {},
   "source": []
  },
  {
   "cell_type": "code",
   "execution_count": 33,
   "metadata": {},
   "outputs": [],
   "source": [
    "def Matrix_Dist_Jaccard(Data):\n",
    "\n",
    "    n = len(Data)\n",
    "\n",
    "    M =  np.empty((n , n))\n",
    "\n",
    "    a, b, c, d, p = a_b_c_d_Matrix(Data)\n",
    "\n",
    "   \n",
    "    for i in range(0, n):\n",
    "\n",
    "         for r in range(0, n):\n",
    "\n",
    "             if i >= r :\n",
    "               \n",
    "                 M[i,r] = 0\n",
    "\n",
    "             else :\n",
    "\n",
    "                 M[i,r] = Dist_Jaccard(i=i, r=r, a=a, b=b, c=c)\n",
    "                      \n",
    "    return M "
   ]
  },
  {
   "cell_type": "code",
   "execution_count": null,
   "metadata": {},
   "outputs": [
    {
     "data": {
      "text/plain": [
       "array([[0.        , 0.        , 1.        , ..., 0.        , 1.        ,\n",
       "        0.        ],\n",
       "       [0.        , 0.        , 1.        , ..., 0.        , 1.        ,\n",
       "        0.        ],\n",
       "       [0.        , 0.        , 0.        , ..., 1.        , 1.15470054,\n",
       "        1.        ],\n",
       "       ...,\n",
       "       [0.        , 0.        , 0.        , ..., 0.        , 1.        ,\n",
       "        0.        ],\n",
       "       [0.        , 0.        , 0.        , ..., 0.        , 0.        ,\n",
       "        1.        ],\n",
       "       [0.        , 0.        , 0.        , ..., 0.        , 0.        ,\n",
       "        0.        ]])"
      ]
     },
     "execution_count": 42,
     "metadata": {},
     "output_type": "execute_result"
    }
   ],
   "source": [
    "M_Dist_Jaccard = Matrix_Dist_Jaccard(Data=Data_binary)\n",
    "\n",
    "M_Dist_Jaccard"
   ]
  },
  {
   "cell_type": "code",
   "execution_count": null,
   "metadata": {},
   "outputs": [
    {
     "data": {
      "text/plain": [
       "array([[0.        , 0.        , 1.        , ..., 0.        , 1.        ,\n",
       "        0.        ],\n",
       "       [0.        , 0.        , 1.        , ..., 0.        , 1.        ,\n",
       "        0.        ],\n",
       "       [1.        , 1.        , 0.        , ..., 1.        , 1.15470054,\n",
       "        1.        ],\n",
       "       ...,\n",
       "       [0.        , 0.        , 1.        , ..., 0.        , 1.        ,\n",
       "        0.        ],\n",
       "       [1.        , 1.        , 1.15470054, ..., 1.        , 0.        ,\n",
       "        1.        ],\n",
       "       [0.        , 0.        , 1.        , ..., 0.        , 1.        ,\n",
       "        0.        ]])"
      ]
     },
     "execution_count": 43,
     "metadata": {},
     "output_type": "execute_result"
    }
   ],
   "source": [
    "M_Dist_Jaccard = M_Dist_Jaccard + M_Dist_Jaccard.T \n",
    "\n",
    "M_Dist_Jaccard"
   ]
  },
  {
   "cell_type": "markdown",
   "metadata": {},
   "source": []
  },
  {
   "cell_type": "markdown",
   "metadata": {},
   "source": []
  },
  {
   "cell_type": "markdown",
   "metadata": {},
   "source": [
    "## Similaridad de coincidencias"
   ]
  },
  {
   "cell_type": "code",
   "execution_count": 34,
   "metadata": {},
   "outputs": [],
   "source": [
    "def alpha(x_i, x_r):\n",
    "\n",
    "    alpha = sum(x_i == x_r)\n",
    "\n",
    "    return(alpha)   "
   ]
  },
  {
   "cell_type": "code",
   "execution_count": null,
   "metadata": {},
   "outputs": [
    {
     "data": {
      "text/plain": [
       "quality_recode    2.0\n",
       "rating            5.0\n",
       "type              1.0\n",
       "Name: 2, dtype: float64"
      ]
     },
     "execution_count": 13,
     "metadata": {},
     "output_type": "execute_result"
    }
   ],
   "source": [
    "Data_multiclass.iloc[2,:] "
   ]
  },
  {
   "cell_type": "code",
   "execution_count": null,
   "metadata": {},
   "outputs": [
    {
     "data": {
      "text/plain": [
       "quality_recode    2.0\n",
       "rating            5.0\n",
       "type              1.0\n",
       "Name: 5, dtype: float64"
      ]
     },
     "execution_count": 135,
     "metadata": {},
     "output_type": "execute_result"
    }
   ],
   "source": [
    "Data_multiclass.iloc[5,:] "
   ]
  },
  {
   "cell_type": "code",
   "execution_count": null,
   "metadata": {},
   "outputs": [
    {
     "data": {
      "text/plain": [
       "3"
      ]
     },
     "execution_count": 14,
     "metadata": {},
     "output_type": "execute_result"
    }
   ],
   "source": [
    "alpha(x_i=Data_multiclass.iloc[2,:] , x_r=Data_multiclass.iloc[5,:])"
   ]
  },
  {
   "cell_type": "code",
   "execution_count": null,
   "metadata": {},
   "outputs": [
    {
     "data": {
      "text/plain": [
       "quality_recode    2.0\n",
       "rating            3.0\n",
       "type              2.0\n",
       "Name: 15, dtype: float64"
      ]
     },
     "execution_count": 137,
     "metadata": {},
     "output_type": "execute_result"
    }
   ],
   "source": [
    "Data_multiclass.iloc[15,:] "
   ]
  },
  {
   "cell_type": "code",
   "execution_count": null,
   "metadata": {},
   "outputs": [
    {
     "data": {
      "text/plain": [
       "quality_recode    2.0\n",
       "rating            4.0\n",
       "type              1.0\n",
       "Name: 14, dtype: float64"
      ]
     },
     "execution_count": 138,
     "metadata": {},
     "output_type": "execute_result"
    }
   ],
   "source": [
    "Data_multiclass.iloc[14,:]"
   ]
  },
  {
   "cell_type": "code",
   "execution_count": null,
   "metadata": {},
   "outputs": [
    {
     "data": {
      "text/plain": [
       "1"
      ]
     },
     "execution_count": 15,
     "metadata": {},
     "output_type": "execute_result"
    }
   ],
   "source": [
    "alpha(x_i=Data_multiclass.iloc[14,:] , x_r=Data_multiclass.iloc[15,:])"
   ]
  },
  {
   "cell_type": "code",
   "execution_count": 46,
   "metadata": {},
   "outputs": [],
   "source": [
    "def matching_similarity(x_i, x_r, Data):\n",
    "\n",
    "    p = Data.shape[1]\n",
    "\n",
    "    matching_similarity = alpha(x_i, x_r) / p\n",
    "\n",
    "    return(matching_similarity)"
   ]
  },
  {
   "cell_type": "code",
   "execution_count": null,
   "metadata": {},
   "outputs": [
    {
     "data": {
      "text/plain": [
       "1.0"
      ]
     },
     "execution_count": 17,
     "metadata": {},
     "output_type": "execute_result"
    }
   ],
   "source": [
    "matching_similarity(x_i=Data_multiclass.iloc[2,:] , x_r=Data_multiclass.iloc[5,:], Data=Data_multiclass)"
   ]
  },
  {
   "cell_type": "code",
   "execution_count": null,
   "metadata": {},
   "outputs": [
    {
     "data": {
      "text/plain": [
       "0.3333333333333333"
      ]
     },
     "execution_count": 18,
     "metadata": {},
     "output_type": "execute_result"
    }
   ],
   "source": [
    "matching_similarity(x_i=Data_multiclass.iloc[14,:] , x_r=Data_multiclass.iloc[15,:], Data=Data_multiclass)"
   ]
  },
  {
   "cell_type": "markdown",
   "metadata": {},
   "source": []
  },
  {
   "cell_type": "code",
   "execution_count": 45,
   "metadata": {},
   "outputs": [],
   "source": [
    "def Matrix_Sim_Matching(Data):\n",
    "    \n",
    "    Data = Data.to_numpy()\n",
    "\n",
    "    n = len(Data)\n",
    "\n",
    "    M =  np.empty((n , n))\n",
    "\n",
    "   \n",
    "    for i in range(0, n):\n",
    "\n",
    "         for r in range(0, n):\n",
    "\n",
    "            if i > r :\n",
    "               \n",
    "                 M[i,r] = 0\n",
    "            \n",
    "            elif i == r :\n",
    "               \n",
    "                 M[i,r] = 1\n",
    "            \n",
    "            else :\n",
    "\n",
    "                 M[i,r] = matching_similarity(x_i=Data[i,:], x_r=Data[r,:], Data=Data)\n",
    "                      \n",
    "    return M "
   ]
  },
  {
   "cell_type": "code",
   "execution_count": null,
   "metadata": {},
   "outputs": [
    {
     "data": {
      "text/plain": [
       "array([[1.        , 0.33333333, 0.33333333, ..., 0.33333333, 0.33333333,\n",
       "        0.33333333],\n",
       "       [0.        , 1.        , 0.66666667, ..., 1.        , 0.66666667,\n",
       "        0.        ],\n",
       "       [0.        , 0.        , 1.        , ..., 0.66666667, 0.66666667,\n",
       "        0.        ],\n",
       "       ...,\n",
       "       [0.        , 0.        , 0.        , ..., 1.        , 0.66666667,\n",
       "        0.        ],\n",
       "       [0.        , 0.        , 0.        , ..., 0.        , 1.        ,\n",
       "        0.        ],\n",
       "       [0.        , 0.        , 0.        , ..., 0.        , 0.        ,\n",
       "        1.        ]])"
      ]
     },
     "execution_count": 20,
     "metadata": {},
     "output_type": "execute_result"
    }
   ],
   "source": [
    "M_matches = Matrix_Sim_Matching(Data=Data_multiclass)\n",
    "\n",
    "M_matches "
   ]
  },
  {
   "cell_type": "code",
   "execution_count": null,
   "metadata": {},
   "outputs": [
    {
     "data": {
      "text/plain": [
       "array([[1.        , 0.33333333, 0.33333333, ..., 0.33333333, 0.33333333,\n",
       "        0.33333333],\n",
       "       [0.33333333, 1.        , 0.66666667, ..., 1.        , 0.66666667,\n",
       "        0.        ],\n",
       "       [0.33333333, 0.66666667, 1.        , ..., 0.66666667, 0.66666667,\n",
       "        0.        ],\n",
       "       ...,\n",
       "       [0.33333333, 1.        , 0.66666667, ..., 1.        , 0.66666667,\n",
       "        0.        ],\n",
       "       [0.33333333, 0.66666667, 0.66666667, ..., 0.66666667, 1.        ,\n",
       "        0.        ],\n",
       "       [0.33333333, 0.        , 0.        , ..., 0.        , 0.        ,\n",
       "        1.        ]])"
      ]
     },
     "execution_count": 21,
     "metadata": {},
     "output_type": "execute_result"
    }
   ],
   "source": [
    "M_matches = M_matches + M_matches.T - np.diag(np.repeat(1 , len(M_matches)), k=0)\n",
    "\n",
    "M_matches"
   ]
  },
  {
   "cell_type": "markdown",
   "metadata": {},
   "source": []
  },
  {
   "cell_type": "code",
   "execution_count": 47,
   "metadata": {},
   "outputs": [],
   "source": [
    "def Dist_Matching(x_i, x_r, Data):\n",
    "\n",
    "    Dist_Matching = np.sqrt(matching_similarity(x_i, x_i, Data) +  matching_similarity(x_r, x_r, Data) - 2*matching_similarity(x_i, x_r, Data) )\n",
    "\n",
    "    return( Dist_Matching )"
   ]
  },
  {
   "cell_type": "markdown",
   "metadata": {},
   "source": []
  },
  {
   "cell_type": "code",
   "execution_count": 38,
   "metadata": {},
   "outputs": [],
   "source": [
    "def Matrix_Dist_Matching(Data):\n",
    "\n",
    "    Data = Data.to_numpy()\n",
    "\n",
    "    n = len(Data)\n",
    "\n",
    "    M =  np.empty((n , n))\n",
    "   \n",
    "    for i in range(0, n):\n",
    "\n",
    "         for r in range(0, n):\n",
    "\n",
    "             if i >= r :\n",
    "               \n",
    "                M[i,r] = 0\n",
    "\n",
    "             else :\n",
    "\n",
    "                M[i,r] = Dist_Matching(x_i=Data[i,:], x_r=Data[r,:], Data=Data)\n",
    "                      \n",
    "    return M "
   ]
  },
  {
   "cell_type": "code",
   "execution_count": null,
   "metadata": {},
   "outputs": [
    {
     "data": {
      "text/plain": [
       "array([[0.        , 1.15470054, 1.15470054, ..., 1.15470054, 1.15470054,\n",
       "        1.15470054],\n",
       "       [0.        , 0.        , 0.81649658, ..., 0.        , 0.81649658,\n",
       "        1.41421356],\n",
       "       [0.        , 0.        , 0.        , ..., 0.81649658, 0.81649658,\n",
       "        1.41421356],\n",
       "       ...,\n",
       "       [0.        , 0.        , 0.        , ..., 0.        , 0.81649658,\n",
       "        1.41421356],\n",
       "       [0.        , 0.        , 0.        , ..., 0.        , 0.        ,\n",
       "        1.41421356],\n",
       "       [0.        , 0.        , 0.        , ..., 0.        , 0.        ,\n",
       "        0.        ]])"
      ]
     },
     "execution_count": 29,
     "metadata": {},
     "output_type": "execute_result"
    }
   ],
   "source": [
    "M_Dist_Matching = Matrix_Dist_Matching(Data=Data_multiclass)\n",
    "\n",
    "M_Dist_Matching"
   ]
  },
  {
   "cell_type": "code",
   "execution_count": null,
   "metadata": {},
   "outputs": [
    {
     "data": {
      "text/plain": [
       "array([[0.        , 1.15470054, 1.15470054, ..., 1.15470054, 1.15470054,\n",
       "        1.15470054],\n",
       "       [1.15470054, 0.        , 0.81649658, ..., 0.        , 0.81649658,\n",
       "        1.41421356],\n",
       "       [1.15470054, 0.81649658, 0.        , ..., 0.81649658, 0.81649658,\n",
       "        1.41421356],\n",
       "       ...,\n",
       "       [1.15470054, 0.        , 0.81649658, ..., 0.        , 0.81649658,\n",
       "        1.41421356],\n",
       "       [1.15470054, 0.81649658, 0.81649658, ..., 0.81649658, 0.        ,\n",
       "        1.41421356],\n",
       "       [1.15470054, 1.41421356, 1.41421356, ..., 1.41421356, 1.41421356,\n",
       "        0.        ]])"
      ]
     },
     "execution_count": 30,
     "metadata": {},
     "output_type": "execute_result"
    }
   ],
   "source": [
    "M_Dist_Matching = M_Dist_Matching + M_Dist_Matching.T\n",
    "\n",
    "M_Dist_Matching"
   ]
  },
  {
   "cell_type": "markdown",
   "metadata": {},
   "source": []
  },
  {
   "cell_type": "markdown",
   "metadata": {},
   "source": []
  },
  {
   "cell_type": "markdown",
   "metadata": {},
   "source": [
    "## Similaridad de Gower"
   ]
  },
  {
   "cell_type": "code",
   "execution_count": 39,
   "metadata": {},
   "outputs": [],
   "source": [
    "def Matrix_Gower_Similarity(Data, p1, p2, p3 ):\n",
    "\n",
    "    # Data tiene que ser un numpy array tal que:\n",
    "    # las primeras p1 tiene que ser variables cuantitativas, \n",
    "    # las siguientes p2 binarias y las restantes p3 multicales\n",
    "\n",
    "    # Si Data no contiene variables cuantitativas --> p1=0\n",
    "    # Si Data no contiene variables binarias --> p2=0\n",
    "    # Si Data no contiene variables multiclase --> p3=0\n",
    "\n",
    "    Data_pd = Data\n",
    "\n",
    "    Data = Data.to_numpy()\n",
    "\n",
    "    n = len(Data)\n",
    "\n",
    "    M =  np.empty((n , n))\n",
    "\n",
    "############################################################\n",
    "    \n",
    "    G_vector = np.repeat(0.5, p1)\n",
    "\n",
    "    for k in range(0, p1):\n",
    "\n",
    "        G_vector[k] = Data[:,k].max() - Data[:,k].min()\n",
    "\n",
    "############################################################\n",
    "   \n",
    "    ones = np.repeat(1, p1)\n",
    "\n",
    "    Quant_Data = Data[: , 0:p1]\n",
    "\n",
    "    Binary_Data_pd = Data_pd.iloc[: , (p1):(p1+p2)]\n",
    "\n",
    "    Multiple_Data = Data[: , (p1+p2):(p1+p2+p3) ]\n",
    "\n",
    "############################################################\n",
    "\n",
    "    a, b, c, d, p = a_b_c_d_Matrix(Binary_Data_pd)\n",
    "\n",
    "############################################################\n",
    "\n",
    "    for i in range(0, n):\n",
    "\n",
    "         for r in range(0, n):\n",
    "\n",
    "            if i > r :\n",
    "               \n",
    "                 M[i,r] = 0\n",
    "            \n",
    "            elif i == r :\n",
    "               \n",
    "                 M[i,r] = 1\n",
    "            \n",
    "            else :\n",
    "\n",
    "                # Calculo de la distancia de Gower entre las observaciones x_i y x_r\n",
    "\n",
    "                numerator_part_1 = ( ones - ( abs(Quant_Data[i,:] - Quant_Data[r,:]) / G_vector ) ).sum() \n",
    "\n",
    "                numerator_part_2 = a[i,r] \n",
    "                \n",
    "                numerator_part_3 = alpha(Multiple_Data[i,:], Multiple_Data[r,:])\n",
    "\n",
    "                numerator = numerator_part_1 + numerator_part_2 + numerator_part_3\n",
    "\n",
    "                denominator = p1 + (p2 - d[i,r]) + p3\n",
    "                \n",
    "\n",
    "                if denominator == 0:\n",
    "\n",
    "                    M[i,r] = 0\n",
    "\n",
    "                else:    \n",
    "                    \n",
    "                    M[i,r] = numerator / denominator\n",
    "                      \n",
    "   \n",
    "    return M  "
   ]
  },
  {
   "cell_type": "code",
   "execution_count": null,
   "metadata": {},
   "outputs": [
    {
     "data": {
      "text/html": [
       "<div>\n",
       "<style scoped>\n",
       "    .dataframe tbody tr th:only-of-type {\n",
       "        vertical-align: middle;\n",
       "    }\n",
       "\n",
       "    .dataframe tbody tr th {\n",
       "        vertical-align: top;\n",
       "    }\n",
       "\n",
       "    .dataframe thead th {\n",
       "        text-align: right;\n",
       "    }\n",
       "</style>\n",
       "<table border=\"1\" class=\"dataframe\">\n",
       "  <thead>\n",
       "    <tr style=\"text-align: right;\">\n",
       "      <th></th>\n",
       "      <th>latitude</th>\n",
       "      <th>longitude</th>\n",
       "      <th>price</th>\n",
       "      <th>size_in_m_2</th>\n",
       "      <th>no_of_bedrooms</th>\n",
       "      <th>no_of_bathrooms</th>\n",
       "      <th>private_garden_recode</th>\n",
       "      <th>private_gym_recode</th>\n",
       "      <th>private_jacuzzi_recode</th>\n",
       "      <th>balcony_recode</th>\n",
       "      <th>quality_recode</th>\n",
       "      <th>rating</th>\n",
       "      <th>type</th>\n",
       "    </tr>\n",
       "  </thead>\n",
       "  <tbody>\n",
       "    <tr>\n",
       "      <th>0</th>\n",
       "      <td>25.113208</td>\n",
       "      <td>55.138932</td>\n",
       "      <td>2700000</td>\n",
       "      <td>100.242337</td>\n",
       "      <td>1</td>\n",
       "      <td>2</td>\n",
       "      <td>0.0</td>\n",
       "      <td>0.0</td>\n",
       "      <td>0.0</td>\n",
       "      <td>1.0</td>\n",
       "      <td>2.0</td>\n",
       "      <td>3.0</td>\n",
       "      <td>2.0</td>\n",
       "    </tr>\n",
       "    <tr>\n",
       "      <th>1</th>\n",
       "      <td>25.106809</td>\n",
       "      <td>55.151201</td>\n",
       "      <td>2850000</td>\n",
       "      <td>146.972546</td>\n",
       "      <td>2</td>\n",
       "      <td>2</td>\n",
       "      <td>0.0</td>\n",
       "      <td>0.0</td>\n",
       "      <td>0.0</td>\n",
       "      <td>1.0</td>\n",
       "      <td>2.0</td>\n",
       "      <td>2.0</td>\n",
       "      <td>1.0</td>\n",
       "    </tr>\n",
       "    <tr>\n",
       "      <th>2</th>\n",
       "      <td>25.063302</td>\n",
       "      <td>55.137728</td>\n",
       "      <td>1150000</td>\n",
       "      <td>181.253753</td>\n",
       "      <td>3</td>\n",
       "      <td>5</td>\n",
       "      <td>0.0</td>\n",
       "      <td>0.0</td>\n",
       "      <td>1.0</td>\n",
       "      <td>1.0</td>\n",
       "      <td>2.0</td>\n",
       "      <td>5.0</td>\n",
       "      <td>1.0</td>\n",
       "    </tr>\n",
       "    <tr>\n",
       "      <th>3</th>\n",
       "      <td>25.227295</td>\n",
       "      <td>55.341761</td>\n",
       "      <td>2850000</td>\n",
       "      <td>187.664060</td>\n",
       "      <td>2</td>\n",
       "      <td>3</td>\n",
       "      <td>0.0</td>\n",
       "      <td>0.0</td>\n",
       "      <td>0.0</td>\n",
       "      <td>1.0</td>\n",
       "      <td>1.0</td>\n",
       "      <td>5.0</td>\n",
       "      <td>2.0</td>\n",
       "    </tr>\n",
       "    <tr>\n",
       "      <th>4</th>\n",
       "      <td>25.114275</td>\n",
       "      <td>55.139764</td>\n",
       "      <td>1729200</td>\n",
       "      <td>47.101821</td>\n",
       "      <td>0</td>\n",
       "      <td>1</td>\n",
       "      <td>0.0</td>\n",
       "      <td>0.0</td>\n",
       "      <td>0.0</td>\n",
       "      <td>0.0</td>\n",
       "      <td>2.0</td>\n",
       "      <td>1.0</td>\n",
       "      <td>2.0</td>\n",
       "    </tr>\n",
       "  </tbody>\n",
       "</table>\n",
       "</div>"
      ],
      "text/plain": [
       "    latitude  longitude    price  size_in_m_2  no_of_bedrooms  \\\n",
       "0  25.113208  55.138932  2700000   100.242337               1   \n",
       "1  25.106809  55.151201  2850000   146.972546               2   \n",
       "2  25.063302  55.137728  1150000   181.253753               3   \n",
       "3  25.227295  55.341761  2850000   187.664060               2   \n",
       "4  25.114275  55.139764  1729200    47.101821               0   \n",
       "\n",
       "   no_of_bathrooms  private_garden_recode  private_gym_recode  \\\n",
       "0                2                    0.0                 0.0   \n",
       "1                2                    0.0                 0.0   \n",
       "2                5                    0.0                 0.0   \n",
       "3                3                    0.0                 0.0   \n",
       "4                1                    0.0                 0.0   \n",
       "\n",
       "   private_jacuzzi_recode  balcony_recode  quality_recode  rating  type  \n",
       "0                     0.0             1.0             2.0     3.0   2.0  \n",
       "1                     0.0             1.0             2.0     2.0   1.0  \n",
       "2                     1.0             1.0             2.0     5.0   1.0  \n",
       "3                     0.0             1.0             1.0     5.0   2.0  \n",
       "4                     0.0             0.0             2.0     1.0   2.0  "
      ]
     },
     "execution_count": 13,
     "metadata": {},
     "output_type": "execute_result"
    }
   ],
   "source": [
    "Data_mixed.head()"
   ]
  },
  {
   "cell_type": "code",
   "execution_count": 135,
   "metadata": {},
   "outputs": [
    {
     "data": {
      "text/plain": [
       "array([[1.        , 0.76928447, 0.61234779, ..., 0.61200705, 0.68768535,\n",
       "        0.77882015],\n",
       "       [0.        , 1.        , 0.72440439, ..., 0.83958297, 0.75951698,\n",
       "        0.65783494],\n",
       "       [0.        , 0.        , 1.        , ..., 0.73084198, 0.63188025,\n",
       "        0.52548719],\n",
       "       ...,\n",
       "       [0.        , 0.        , 0.        , ..., 1.        , 0.65208854,\n",
       "        0.4993045 ],\n",
       "       [0.        , 0.        , 0.        , ..., 0.        , 1.        ,\n",
       "        0.61603067],\n",
       "       [0.        , 0.        , 0.        , ..., 0.        , 0.        ,\n",
       "        1.        ]])"
      ]
     },
     "execution_count": 135,
     "metadata": {},
     "output_type": "execute_result"
    }
   ],
   "source": [
    "M_Gower = Matrix_Gower_Similarity(Data=Data_mixed, p1=6, p2=4, p3=3)\n",
    "\n",
    "M_Gower"
   ]
  },
  {
   "cell_type": "code",
   "execution_count": null,
   "metadata": {},
   "outputs": [
    {
     "data": {
      "text/plain": [
       "array([[1.        , 0.76928447, 0.61234779, ..., 0.61200705, 0.68768535,\n",
       "        0.77882015],\n",
       "       [0.76928447, 1.        , 0.72440439, ..., 0.83958297, 0.75951698,\n",
       "        0.65783494],\n",
       "       [0.61234779, 0.72440439, 1.        , ..., 0.73084198, 0.63188025,\n",
       "        0.52548719],\n",
       "       ...,\n",
       "       [0.61200705, 0.83958297, 0.73084198, ..., 1.        , 0.65208854,\n",
       "        0.4993045 ],\n",
       "       [0.68768535, 0.75951698, 0.63188025, ..., 0.65208854, 1.        ,\n",
       "        0.61603067],\n",
       "       [0.77882015, 0.65783494, 0.52548719, ..., 0.4993045 , 0.61603067,\n",
       "        1.        ]])"
      ]
     },
     "execution_count": 14,
     "metadata": {},
     "output_type": "execute_result"
    }
   ],
   "source": [
    "M_Gower = M_Gower  + M_Gower.T - np.diag(np.repeat(1 , len(M_Gower)), k=0)\n",
    "\n",
    "M_Gower"
   ]
  },
  {
   "cell_type": "code",
   "execution_count": 40,
   "metadata": {},
   "outputs": [],
   "source": [
    "def Matrix_Dist_Gower(Data, p1, p2, p3 ):\n",
    "\n",
    "    M = Matrix_Gower_Similarity(Data, p1, p2, p3)\n",
    "\n",
    "    M = M + M.T - np.diag(np.repeat(1 , len(M)), k=0)\n",
    "\n",
    "    M = np.sqrt( 1 - M )\n",
    "\n",
    "    return M"
   ]
  },
  {
   "cell_type": "code",
   "execution_count": 138,
   "metadata": {},
   "outputs": [
    {
     "data": {
      "text/plain": [
       "array([[0.        , 0.48032856, 0.62261723, ..., 0.6228908 , 0.55885118,\n",
       "        0.47029762],\n",
       "       [0.48032856, 0.        , 0.52497201, ..., 0.40052095, 0.49039069,\n",
       "        0.58494877],\n",
       "       [0.62261723, 0.52497201, 0.        , ..., 0.51880441, 0.60672873,\n",
       "        0.6888489 ],\n",
       "       ...,\n",
       "       [0.6228908 , 0.40052095, 0.51880441, ..., 0.        , 0.5898402 ,\n",
       "        0.70759841],\n",
       "       [0.55885118, 0.49039069, 0.60672873, ..., 0.5898402 , 0.        ,\n",
       "        0.61965259],\n",
       "       [0.47029762, 0.58494877, 0.6888489 , ..., 0.70759841, 0.61965259,\n",
       "        0.        ]])"
      ]
     },
     "execution_count": 138,
     "metadata": {},
     "output_type": "execute_result"
    }
   ],
   "source": [
    "M_Gower_Dist = Matrix_Dist_Gower(Data=Data_mixed, p1=6, p2=4, p3=3)\n",
    "\n",
    "M_Gower_Dist"
   ]
  },
  {
   "cell_type": "markdown",
   "metadata": {},
   "source": []
  },
  {
   "cell_type": "markdown",
   "metadata": {},
   "source": []
  },
  {
   "cell_type": "markdown",
   "metadata": {},
   "source": [
    "### Probando la similaridad de Gower con conjuntos de datos no necesariamente cuantitativos-binarios-multiclase:"
   ]
  },
  {
   "cell_type": "code",
   "execution_count": null,
   "metadata": {},
   "outputs": [
    {
     "data": {
      "text/plain": [
       "array([[1.        , 0.94880745, 0.78930428, ..., 0.68667841, 0.92742315,\n",
       "        0.96470026],\n",
       "       [0.        , 1.        , 0.82807471, ..., 0.73263828, 0.89244779,\n",
       "        0.92972489],\n",
       "       [0.        , 0.        , 1.        , ..., 0.83987697, 0.76376051,\n",
       "        0.79672652],\n",
       "       ...,\n",
       "       [0.        , 0.        , 0.        , ..., 1.        , 0.69549566,\n",
       "        0.6655075 ],\n",
       "       [0.        , 0.        , 0.        , ..., 0.        , 1.        ,\n",
       "        0.96272289],\n",
       "       [0.        , 0.        , 0.        , ..., 0.        , 0.        ,\n",
       "        1.        ]])"
      ]
     },
     "execution_count": 17,
     "metadata": {},
     "output_type": "execute_result"
    }
   ],
   "source": [
    "Matrix_Gower_Similarity(Data=Data_quant, p1=6, p2=0, p3=0)"
   ]
  },
  {
   "cell_type": "code",
   "execution_count": null,
   "metadata": {},
   "outputs": [
    {
     "data": {
      "text/plain": [
       "array([[1.        , 1.        , 0.5       , ..., 1.        , 0.5       ,\n",
       "        1.        ],\n",
       "       [0.        , 1.        , 0.5       , ..., 1.        , 0.5       ,\n",
       "        1.        ],\n",
       "       [0.        , 0.        , 1.        , ..., 0.5       , 0.33333333,\n",
       "        0.5       ],\n",
       "       ...,\n",
       "       [0.        , 0.        , 0.        , ..., 1.        , 0.5       ,\n",
       "        1.        ],\n",
       "       [0.        , 0.        , 0.        , ..., 0.        , 1.        ,\n",
       "        0.5       ],\n",
       "       [0.        , 0.        , 0.        , ..., 0.        , 0.        ,\n",
       "        1.        ]])"
      ]
     },
     "execution_count": 18,
     "metadata": {},
     "output_type": "execute_result"
    }
   ],
   "source": [
    "Matrix_Gower_Similarity(Data=Data_binary, p1=0, p2=4, p3=0)\n",
    "\n",
    "# Coincide con la matriz de similaridades de Jaccard que se ha obtenido anteriormente."
   ]
  },
  {
   "cell_type": "code",
   "execution_count": null,
   "metadata": {},
   "outputs": [
    {
     "data": {
      "text/plain": [
       "array([[1.        , 0.33333333, 0.33333333, ..., 0.33333333, 0.33333333,\n",
       "        0.33333333],\n",
       "       [0.        , 1.        , 0.66666667, ..., 1.        , 0.66666667,\n",
       "        0.        ],\n",
       "       [0.        , 0.        , 1.        , ..., 0.66666667, 0.66666667,\n",
       "        0.        ],\n",
       "       ...,\n",
       "       [0.        , 0.        , 0.        , ..., 1.        , 0.66666667,\n",
       "        0.        ],\n",
       "       [0.        , 0.        , 0.        , ..., 0.        , 1.        ,\n",
       "        0.        ],\n",
       "       [0.        , 0.        , 0.        , ..., 0.        , 0.        ,\n",
       "        1.        ]])"
      ]
     },
     "execution_count": 19,
     "metadata": {},
     "output_type": "execute_result"
    }
   ],
   "source": [
    "Matrix_Gower_Similarity(Data=Data_multiclass, p1=0, p2=0, p3=3)\n",
    "\n",
    "# Coincide con la matriz de similaridades por coincidencias que se ha obtenido anteriormente."
   ]
  },
  {
   "cell_type": "markdown",
   "metadata": {},
   "source": []
  },
  {
   "cell_type": "code",
   "execution_count": null,
   "metadata": {},
   "outputs": [],
   "source": [
    "Data_binary_multiclass = pd.concat([Data_binary,Data_multiclass], axis=1)"
   ]
  },
  {
   "cell_type": "code",
   "execution_count": null,
   "metadata": {},
   "outputs": [
    {
     "data": {
      "text/plain": [
       "array([[1.  , 0.5 , 0.4 , ..., 0.5 , 0.4 , 0.5 ],\n",
       "       [0.  , 1.  , 0.6 , ..., 1.  , 0.6 , 0.25],\n",
       "       [0.  , 0.  , 1.  , ..., 0.6 , 0.5 , 0.2 ],\n",
       "       ...,\n",
       "       [0.  , 0.  , 0.  , ..., 1.  , 0.6 , 0.25],\n",
       "       [0.  , 0.  , 0.  , ..., 0.  , 1.  , 0.2 ],\n",
       "       [0.  , 0.  , 0.  , ..., 0.  , 0.  , 1.  ]])"
      ]
     },
     "execution_count": 21,
     "metadata": {},
     "output_type": "execute_result"
    }
   ],
   "source": [
    "Matrix_Gower_Similarity(Data=Data_binary_multiclass , p1=0, p2=4, p3=3)"
   ]
  },
  {
   "cell_type": "markdown",
   "metadata": {},
   "source": []
  },
  {
   "cell_type": "code",
   "execution_count": null,
   "metadata": {},
   "outputs": [],
   "source": [
    "Data_quant_multiclass = pd.concat([Data_quant,Data_multiclass], axis=1)"
   ]
  },
  {
   "cell_type": "code",
   "execution_count": null,
   "metadata": {},
   "outputs": [
    {
     "data": {
      "text/plain": [
       "array([[1.        , 0.74364941, 0.63731397, ..., 0.56889672, 0.72939321,\n",
       "        0.75424461],\n",
       "       [0.        , 1.        , 0.77427203, ..., 0.82175886, 0.81718741,\n",
       "        0.6198166 ],\n",
       "       [0.        , 0.        , 1.        , ..., 0.7821402 , 0.73139589,\n",
       "        0.53115102],\n",
       "       ...,\n",
       "       [0.        , 0.        , 0.        , ..., 1.        , 0.68588599,\n",
       "        0.44367166],\n",
       "       [0.        , 0.        , 0.        , ..., 0.        , 1.        ,\n",
       "        0.64181526],\n",
       "       [0.        , 0.        , 0.        , ..., 0.        , 0.        ,\n",
       "        1.        ]])"
      ]
     },
     "execution_count": 23,
     "metadata": {},
     "output_type": "execute_result"
    }
   ],
   "source": [
    "Matrix_Gower_Similarity(Data=Data_quant_multiclass, p1=6, p2=0, p3=3)"
   ]
  },
  {
   "cell_type": "markdown",
   "metadata": {},
   "source": []
  },
  {
   "cell_type": "code",
   "execution_count": null,
   "metadata": {},
   "outputs": [],
   "source": [
    "Data_quant_binary = pd.concat([Data_quant,Data_binary], axis=1)"
   ]
  },
  {
   "cell_type": "code",
   "execution_count": null,
   "metadata": {},
   "outputs": [
    {
     "data": {
      "text/plain": [
       "array([[1.        , 0.95612067, 0.71697821, ..., 0.73143864, 0.82056736,\n",
       "        0.96974308],\n",
       "       [0.        , 1.        , 0.74605603, ..., 0.77083282, 0.79433584,\n",
       "        0.9397642 ],\n",
       "       [0.        , 0.        , 1.        , ..., 0.75490772, 0.62028478,\n",
       "        0.72254489],\n",
       "       ...,\n",
       "       [0.        , 0.        , 0.        , ..., 1.        , 0.64662174,\n",
       "        0.71329214],\n",
       "       [0.        , 0.        , 0.        , ..., 0.        , 1.        ,\n",
       "        0.84704217],\n",
       "       [0.        , 0.        , 0.        , ..., 0.        , 0.        ,\n",
       "        1.        ]])"
      ]
     },
     "execution_count": 25,
     "metadata": {},
     "output_type": "execute_result"
    }
   ],
   "source": [
    "Matrix_Gower_Similarity(Data=Data_quant_binary , p1=6, p2=4, p3=0)"
   ]
  },
  {
   "cell_type": "markdown",
   "metadata": {},
   "source": []
  },
  {
   "cell_type": "markdown",
   "metadata": {},
   "source": [
    "### Comparacion con los resultados obtenidos con la funcion Gower2.m de Aurea  --> se obtienen los mismos resultados !!"
   ]
  },
  {
   "cell_type": "code",
   "execution_count": null,
   "metadata": {},
   "outputs": [],
   "source": [
    "futbol = pd.read_csv('jugadores_futbol.csv')\n",
    "\n",
    "futbol_np = futbol.to_numpy()"
   ]
  },
  {
   "cell_type": "code",
   "execution_count": null,
   "metadata": {},
   "outputs": [],
   "source": [
    "M_Gower_futbol = Matrix_Gower_Similarity(Data=futbol_np, p1=4, p2=1, p3=2)"
   ]
  },
  {
   "cell_type": "code",
   "execution_count": null,
   "metadata": {},
   "outputs": [
    {
     "data": {
      "text/plain": [
       "array([[1.        , 0.63275613, 0.45075758, ..., 0.41684704, 0.61201299,\n",
       "        0.39303752],\n",
       "       [0.63275613, 1.        , 0.43076599, ..., 0.49810606, 0.64920034,\n",
       "        0.47032828],\n",
       "       [0.45075758, 0.43076599, 1.        , ..., 0.63720539, 0.7260101 ,\n",
       "        0.60942761],\n",
       "       ...,\n",
       "       [0.41684704, 0.49810606, 0.63720539, ..., 1.        , 0.67508418,\n",
       "        0.91666667],\n",
       "       [0.61201299, 0.64920034, 0.7260101 , ..., 0.67508418, 1.        ,\n",
       "        0.6473064 ],\n",
       "       [0.39303752, 0.47032828, 0.60942761, ..., 0.91666667, 0.6473064 ,\n",
       "        1.        ]])"
      ]
     },
     "execution_count": 154,
     "metadata": {},
     "output_type": "execute_result"
    }
   ],
   "source": [
    "M_Gower_futbol = M_Gower_futbol  + M_Gower_futbol.T - np.diag(np.repeat(1 , len(M_Gower_futbol)), k=0)\n",
    "\n",
    "M_Gower_futbol"
   ]
  },
  {
   "cell_type": "code",
   "execution_count": null,
   "metadata": {},
   "outputs": [
    {
     "data": {
      "text/plain": [
       "array([[1.        , 0.63275613, 0.45075758, 0.38870851, 0.42676768,\n",
       "        0.61471861, 0.56349206, 0.42839105],\n",
       "       [0.63275613, 1.        , 0.43076599, 0.37689394, 0.46338384,\n",
       "        0.44660895, 0.5256734 , 0.43244949],\n",
       "       [0.45075758, 0.43076599, 1.        , 0.58038721, 0.64877946,\n",
       "        0.58928571, 0.34995791, 0.52946128],\n",
       "       [0.38870851, 0.37689394, 0.58038721, 1.        , 0.5625    ,\n",
       "        0.52723665, 0.27756734, 0.625     ],\n",
       "       [0.42676768, 0.46338384, 0.64877946, 0.5625    , 1.        ,\n",
       "        0.77236652, 0.46506734, 0.6875    ],\n",
       "       [0.61471861, 0.44660895, 0.58928571, 0.52723665, 0.77236652,\n",
       "        1.        , 0.42496392, 0.63834776],\n",
       "       [0.56349206, 0.5256734 , 0.34995791, 0.27756734, 0.46506734,\n",
       "        0.42496392, 1.        , 0.42571549],\n",
       "       [0.42839105, 0.43244949, 0.52946128, 0.625     , 0.6875    ,\n",
       "        0.63834776, 0.42571549, 1.        ]])"
      ]
     },
     "execution_count": 155,
     "metadata": {},
     "output_type": "execute_result"
    }
   ],
   "source": [
    "M_Gower_futbol[0:8, 0:8]"
   ]
  },
  {
   "cell_type": "code",
   "execution_count": null,
   "metadata": {},
   "outputs": [
    {
     "data": {
      "text/plain": [
       "array([[0.        , 0.60600649, 0.74110892, ..., 0.76364452, 0.62288604,\n",
       "        0.77907797],\n",
       "       [0.60600649, 0.        , 0.75447598, ..., 0.70844473, 0.59228343,\n",
       "        0.72778549],\n",
       "       [0.74110892, 0.75447598, 0.        , ..., 0.60232434, 0.52344044,\n",
       "        0.62495791],\n",
       "       ...,\n",
       "       [0.76364452, 0.70844473, 0.60232434, ..., 0.        , 0.57001388,\n",
       "        0.28867513],\n",
       "       [0.62288604, 0.59228343, 0.52344044, ..., 0.57001388, 0.        ,\n",
       "        0.59388012],\n",
       "       [0.77907797, 0.72778549, 0.62495791, ..., 0.28867513, 0.59388012,\n",
       "        0.        ]])"
      ]
     },
     "execution_count": 156,
     "metadata": {},
     "output_type": "execute_result"
    }
   ],
   "source": [
    "M_Gower_Dist_futbol = Matrix_Gower_Distance(Data=futbol_np, p1=4, p2=1, p3=2)\n",
    "\n",
    "M_Gower_Dist_futbol"
   ]
  },
  {
   "cell_type": "code",
   "execution_count": null,
   "metadata": {},
   "outputs": [
    {
     "data": {
      "text/plain": [
       "array([[0.        , 0.36724387, 0.54924242, 0.61129149, 0.57323232,\n",
       "        0.38528139, 0.43650794, 0.57160895],\n",
       "       [0.36724387, 0.        , 0.56923401, 0.62310606, 0.53661616,\n",
       "        0.55339105, 0.4743266 , 0.56755051],\n",
       "       [0.54924242, 0.56923401, 0.        , 0.41961279, 0.35122054,\n",
       "        0.41071429, 0.65004209, 0.47053872],\n",
       "       [0.61129149, 0.62310606, 0.41961279, 0.        , 0.4375    ,\n",
       "        0.47276335, 0.72243266, 0.375     ],\n",
       "       [0.57323232, 0.53661616, 0.35122054, 0.4375    , 0.        ,\n",
       "        0.22763348, 0.53493266, 0.3125    ],\n",
       "       [0.38528139, 0.55339105, 0.41071429, 0.47276335, 0.22763348,\n",
       "        0.        , 0.57503608, 0.36165224],\n",
       "       [0.43650794, 0.4743266 , 0.65004209, 0.72243266, 0.53493266,\n",
       "        0.57503608, 0.        , 0.57428451],\n",
       "       [0.57160895, 0.56755051, 0.47053872, 0.375     , 0.3125    ,\n",
       "        0.36165224, 0.57428451, 0.        ]])"
      ]
     },
     "execution_count": 157,
     "metadata": {},
     "output_type": "execute_result"
    }
   ],
   "source": [
    "M_Gower_Dist_futbol[0:8 , 0:8]**2"
   ]
  },
  {
   "cell_type": "markdown",
   "metadata": {},
   "source": [
    " Primeras 8 filas y 8 columnas obtenidas con la funcion Gower2.m de Aurea para la matriz de cuadrados de distancias de Gower\n",
    "  \n",
    "         0    0.3672    0.5492    0.6113    0.5732    0.3853    0.4365    0.5716\n",
    "    0.3672         0    0.5692    0.6231    0.5366    0.5534    0.4743    0.5676\n",
    "    0.5492    0.5692         0    0.4196    0.3512    0.4107    0.6500    0.4705\n",
    "    0.6113    0.6231    0.4196         0    0.4375    0.4728    0.7224    0.3750\n",
    "    0.5732    0.5366    0.3512    0.4375         0    0.2276    0.5349    0.3125\n",
    "    0.3853    0.5534    0.4107    0.4728    0.2276         0    0.5750    0.3617\n",
    "    0.4365    0.4743    0.6500    0.7224    0.5349    0.5750         0    0.5743\n",
    "    0.5716    0.5676    0.4705    0.3750    0.3125    0.3617    0.5743         0\n",
    "\n"
   ]
  },
  {
   "cell_type": "markdown",
   "metadata": {},
   "source": []
  },
  {
   "cell_type": "markdown",
   "metadata": {},
   "source": [
    "### Comparacion con lo que se obtiene al usar el paquete Gower  --> No se obtienen los mismos resultados."
   ]
  },
  {
   "cell_type": "code",
   "execution_count": null,
   "metadata": {},
   "outputs": [
    {
     "data": {
      "text/plain": [
       "array([[0.        , 0.36724386, 0.54924244, 0.61129147, 0.57323235,\n",
       "        0.38528138, 0.43650794, 0.57160896],\n",
       "       [0.36724386, 0.        , 0.48791486, 0.53409094, 0.4599567 ,\n",
       "        0.55339104, 0.40656567, 0.48647186],\n",
       "       [0.54924244, 0.48791486, 0.        , 0.3596681 , 0.3010462 ,\n",
       "        0.4107143 , 0.5571789 , 0.4033189 ],\n",
       "       [0.61129147, 0.53409094, 0.3596681 , 0.        , 0.375     ,\n",
       "        0.47276336, 0.619228  , 0.32142857],\n",
       "       [0.57323235, 0.4599567 , 0.3010462 , 0.375     , 0.        ,\n",
       "        0.22763348, 0.4585137 , 0.26785713],\n",
       "       [0.38528138, 0.55339104, 0.4107143 , 0.47276336, 0.22763348,\n",
       "        0.        , 0.5750361 , 0.36165223],\n",
       "       [0.43650794, 0.40656567, 0.5571789 , 0.619228  , 0.4585137 ,\n",
       "        0.5750361 , 0.        , 0.4922439 ],\n",
       "       [0.57160896, 0.48647186, 0.4033189 , 0.32142857, 0.26785713,\n",
       "        0.36165223, 0.4922439 , 0.        ]], dtype=float32)"
      ]
     },
     "execution_count": 158,
     "metadata": {},
     "output_type": "execute_result"
    }
   ],
   "source": [
    "import gower\n",
    "\n",
    "M_Dist_cuadrados_Gower_futbol_Paquete = gower.gower_matrix(futbol_np, cat_features=[False,False,False,False,True,True,True])\n",
    "\n",
    "M_Dist_cuadrados_Gower_futbol_Paquete[0:8 , 0:8]"
   ]
  },
  {
   "cell_type": "markdown",
   "metadata": {},
   "source": []
  },
  {
   "cell_type": "markdown",
   "metadata": {},
   "source": [
    " Primeras 8 filas y 8 columnas obtenidas con la funcion Gower2.m de Aurea para la matriz de cuadrados de distancias de Gower\n",
    "  \n",
    "         0    0.3672    0.5492    0.6113    0.5732    0.3853    0.4365    0.5716\n",
    "    0.3672         0    0.5692    0.6231    0.5366    0.5534    0.4743    0.5676\n",
    "    0.5492    0.5692         0    0.4196    0.3512    0.4107    0.6500    0.4705\n",
    "    0.6113    0.6231    0.4196         0    0.4375    0.4728    0.7224    0.3750\n",
    "    0.5732    0.5366    0.3512    0.4375         0    0.2276    0.5349    0.3125\n",
    "    0.3853    0.5534    0.4107    0.4728    0.2276         0    0.5750    0.3617\n",
    "    0.4365    0.4743    0.6500    0.7224    0.5349    0.5750         0    0.5743\n",
    "    0.5716    0.5676    0.4705    0.3750    0.3125    0.3617    0.5743         0\n",
    "\n"
   ]
  },
  {
   "cell_type": "markdown",
   "metadata": {},
   "source": [
    "La primera fila si coincide, pero hay otras como la ultima que no coinciden. Deben usar otra version de l similaridad de Gower u otra transformacion de similaridad a distancia."
   ]
  },
  {
   "cell_type": "markdown",
   "metadata": {},
   "source": []
  },
  {
   "cell_type": "markdown",
   "metadata": {},
   "source": [
    "## Similaridad de Gower-Mahalanobis"
   ]
  },
  {
   "cell_type": "code",
   "execution_count": 41,
   "metadata": {},
   "outputs": [],
   "source": [
    "def Matrix_Gower_Maha_Similarity(Data, p1, p2, p3):\n",
    "\n",
    "    Data_pd = Data\n",
    "\n",
    "    Data = Data.to_numpy()\n",
    "\n",
    "    n = len(Data)\n",
    "\n",
    "    M =  np.empty((n , n))\n",
    "\n",
    "############################################################\n",
    "    \n",
    "    G_vector = np.repeat(0.5, p1)\n",
    "\n",
    "    for k in range(0, p1):\n",
    "\n",
    "        G_vector[k] = Data[:,k].max() - Data[:,k].min()\n",
    "\n",
    "############################################################\n",
    "   \n",
    "    Quant_Data = Data[: , 0:p1]\n",
    "\n",
    "    Quant_Data_pd = Data_pd.iloc[: , 0:p1]\n",
    "\n",
    "    Binary_Data_pd = Data_pd.iloc[: , (p1):(p1+p2)]\n",
    "\n",
    "    Multiple_Data = Data[: , (p1+p2):(p1+p2+p3)]\n",
    "\n",
    "############################################################\n",
    "\n",
    "    a, b, c, d, p = a_b_c_d_Matrix(Binary_Data_pd)\n",
    "\n",
    "############################################################\n",
    "\n",
    "    S_inv = np.linalg.inv( np.cov(Quant_Data , rowvar=False) ) \n",
    "\n",
    "    D_maha = Matrix_Dist_Mahalanobis(Data=Quant_Data_pd) \n",
    "\n",
    "    Max_D_maha = D_maha.max()\n",
    "\n",
    "############################################################\n",
    "\n",
    "    for i in range(0, n):\n",
    "\n",
    "         for r in range(0, n):\n",
    "\n",
    "            if i > r :\n",
    "               \n",
    "                 M[i,r] = 0\n",
    "            \n",
    "            elif i == r :\n",
    "               \n",
    "                 M[i,r] = 1\n",
    "            \n",
    "            else :\n",
    "\n",
    "                # Calculo de la distancia de Gower entre las observaciones x_i y x_r\n",
    "\n",
    "                x = (Quant_Data[i,:] - Quant_Data[r,:])\n",
    "\n",
    "                x = np.array([x])\n",
    "\n",
    "                numerator_part_1 = p1 - float( np.sqrt( x @ S_inv @ x.T ) ) / Max_D_maha  \n",
    "\n",
    "                numerator_part_2 = a[i,r] + alpha(Multiple_Data[i,:], Multiple_Data[r,:])\n",
    "\n",
    "                numerator = numerator_part_1 + numerator_part_2\n",
    " \n",
    "                denominator = p1 + (p2 - d[i,r]) + p3\n",
    "\n",
    "                M[i,r] = numerator / denominator\n",
    "                      \n",
    "   \n",
    "    return M  "
   ]
  },
  {
   "cell_type": "code",
   "execution_count": null,
   "metadata": {},
   "outputs": [
    {
     "data": {
      "text/plain": [
       "array([[1.        , 0.78829544, 0.70814829, ..., 0.7749854 , 0.7156049 ,\n",
       "        0.79387387],\n",
       "       [0.        , 1.        , 0.79624421, ..., 0.97267093, 0.80438259,\n",
       "        0.68820406],\n",
       "       [0.        , 0.        , 1.        , ..., 0.80217845, 0.73386904,\n",
       "        0.62006094],\n",
       "       ...,\n",
       "       [0.        , 0.        , 0.        , ..., 1.        , 0.80011792,\n",
       "        0.67721701],\n",
       "       [0.        , 0.        , 0.        , ..., 0.        , 1.        ,\n",
       "        0.62896601],\n",
       "       [0.        , 0.        , 0.        , ..., 0.        , 0.        ,\n",
       "        1.        ]])"
      ]
     },
     "execution_count": 32,
     "metadata": {},
     "output_type": "execute_result"
    }
   ],
   "source": [
    "M_Gower_Maha = Matrix_Gower_Maha_Similarity(Data=Data_mixed, p1=6, p2=4, p3=3)\n",
    "\n",
    "M_Gower_Maha"
   ]
  },
  {
   "cell_type": "markdown",
   "metadata": {},
   "source": []
  },
  {
   "cell_type": "code",
   "execution_count": null,
   "metadata": {},
   "outputs": [
    {
     "data": {
      "text/plain": [
       "array([[1.        , 0.78829544, 0.70814829, ..., 0.7749854 , 0.7156049 ,\n",
       "        0.79387387],\n",
       "       [0.78829544, 1.        , 0.79624421, ..., 0.97267093, 0.80438259,\n",
       "        0.68820406],\n",
       "       [0.70814829, 0.79624421, 1.        , ..., 0.80217845, 0.73386904,\n",
       "        0.62006094],\n",
       "       ...,\n",
       "       [0.7749854 , 0.97267093, 0.80217845, ..., 1.        , 0.80011792,\n",
       "        0.67721701],\n",
       "       [0.7156049 , 0.80438259, 0.73386904, ..., 0.80011792, 1.        ,\n",
       "        0.62896601],\n",
       "       [0.79387387, 0.68820406, 0.62006094, ..., 0.67721701, 0.62896601,\n",
       "        1.        ]])"
      ]
     },
     "execution_count": 53,
     "metadata": {},
     "output_type": "execute_result"
    }
   ],
   "source": [
    "M_Gower_Maha = M_Gower_Maha + M_Gower_Maha.T - np.diag(np.repeat(1 , len(M_Gower_Maha)), k=0)\n",
    "\n",
    "M_Gower_Maha"
   ]
  },
  {
   "cell_type": "markdown",
   "metadata": {},
   "source": []
  },
  {
   "cell_type": "code",
   "execution_count": null,
   "metadata": {},
   "outputs": [],
   "source": [
    "def Matrix_Dist_Gower_Mahalanobis(Data, p1, p2, p3):\n",
    "\n",
    "    M = Matrix_Gower_Maha_Similarity(Data, p1, p2, p3)\n",
    "\n",
    "    M = M + M.T - np.diag(np.repeat(1 , len(M)), k=0)\n",
    "\n",
    "    M = np.sqrt( 1 - M )\n",
    "\n",
    "    return M"
   ]
  },
  {
   "cell_type": "code",
   "execution_count": null,
   "metadata": {},
   "outputs": [
    {
     "data": {
      "text/plain": [
       "array([[0.        , 0.46011364, 0.54023301, ..., 0.47435704, 0.53328707,\n",
       "        0.45401116],\n",
       "       [0.46011364, 0.        , 0.45139317, ..., 0.16531507, 0.44228657,\n",
       "        0.55838691],\n",
       "       [0.54023301, 0.45139317, 0.        , ..., 0.44477135, 0.51587882,\n",
       "        0.61639197],\n",
       "       ...,\n",
       "       [0.47435704, 0.16531507, 0.44477135, ..., 0.        , 0.44708173,\n",
       "        0.56813994],\n",
       "       [0.53328707, 0.44228657, 0.51587882, ..., 0.44708173, 0.        ,\n",
       "        0.60912559],\n",
       "       [0.45401116, 0.55838691, 0.61639197, ..., 0.56813994, 0.60912559,\n",
       "        0.        ]])"
      ]
     },
     "execution_count": 57,
     "metadata": {},
     "output_type": "execute_result"
    }
   ],
   "source": [
    "M_Gower_Maha_Distance = Matrix_Dist_Gower_Mahalanobis(Data=Data_mixed, p1=6, p2=4, p3=3)\n",
    "\n",
    "M_Gower_Maha_Distance"
   ]
  },
  {
   "cell_type": "markdown",
   "metadata": {},
   "source": []
  },
  {
   "cell_type": "markdown",
   "metadata": {},
   "source": []
  },
  {
   "cell_type": "markdown",
   "metadata": {},
   "source": []
  },
  {
   "attachments": {},
   "cell_type": "markdown",
   "metadata": {},
   "source": [
    "# Distancia de Gower generalizada: (con y sin usar matrices de Gram)"
   ]
  },
  {
   "attachments": {},
   "cell_type": "markdown",
   "metadata": {},
   "source": [
    "### Variabilidad geométrica"
   ]
  },
  {
   "cell_type": "code",
   "execution_count": 185,
   "metadata": {},
   "outputs": [],
   "source": [
    "def var_geom(D_2):\n",
    "\n",
    "    n = len(D_2)\n",
    "\n",
    "    VG = (1/(2*(n**2)))*np.sum(D_2)\n",
    "\n",
    "    # np.sum(D_2) es la suma de todos los elementos de la matriz de distancias al cuadrado D_2\n",
    "\n",
    "    return VG"
   ]
  },
  {
   "cell_type": "code",
   "execution_count": 194,
   "metadata": {},
   "outputs": [],
   "source": [
    "def Generalized_Gower_Distance(Data, p1, p2, p3, d1, d2, d3, Related_Metric_Scaling=False) :\n",
    "\n",
    "    n = len(Data)\n",
    "\n",
    "    M =  np.empty((n , n))\n",
    "\n",
    " \n",
    "    Quant_Data = Data.iloc[: , 0:p1]\n",
    "\n",
    "    Binary_Data = Data.iloc[: , (p1):(p1+p2)]\n",
    "\n",
    "    Multiple_Data = Data.iloc[: , (p1+p2):(p1+p2+p3) ]\n",
    "\n",
    "\n",
    "    # Para que el siguiente paso funciones es necesario que las funciones con las \n",
    "    # que vamos a calcular las matrices de distancias tengan un nombre con el siguiente\n",
    "    # formato: Matrix_Dist_d  donde d = Euclidea, Minkowski, Mahalanobis, Sokal, Jaccard, Simple_Matching etc\n",
    "\n",
    "\n",
    "    Matrix_Dist_d1 = globals()[\"Matrix_Dist_\" + d1]\n",
    "    Matrix_Dist_d2 = globals()[\"Matrix_Dist_\" + d2]\n",
    "    Matrix_Dist_d3 = globals()[\"Matrix_Dist_\" + d3]\n",
    "\n",
    "   \n",
    "    D1 = Matrix_Dist_d1(Quant_Data)\n",
    "    D2 = Matrix_Dist_d2(Binary_Data)\n",
    "    D3 = Matrix_Dist_d3(Multiple_Data)\n",
    "\n",
    "    D1_2 = np.square(D1)\n",
    "    D2_2 = np.square(D2)\n",
    "    D3_2 = np.square(D3)\n",
    "\n",
    "    D1 =  D1 + D1.T\n",
    "    D2 =  D2 + D2.T\n",
    "    D3 =  D3 + D3.T\n",
    "\n",
    "    D1_2 =  D1_2 + D1_2.T\n",
    "    D2_2 =  D2_2 + D2_2.T\n",
    "    D3_2 =  D3_2 + D3_2.T\n",
    "\n",
    "\n",
    "    VG1 = var_geom(D1_2)\n",
    "    VG2 = var_geom(D2_2)\n",
    "    VG3 = var_geom(D3_2)\n",
    "\n",
    "\n",
    "    D1_2_standard = D1_2 / VG1\n",
    "    D2_2_standard = D2_2 / VG2\n",
    "    D3_2_standard = D3_2 / VG3\n",
    "\n",
    "\n",
    "    if Related_Metric_Scaling == False :\n",
    "                \n",
    "        D_2 = D1_2_standard + D2_2_standard + D3_2_standard \n",
    "\n",
    "        D = np.sqrt(D_2)\n",
    "\n",
    "        return D, D_2\n",
    "\n",
    "\n",
    "    elif Related_Metric_Scaling == True :\n",
    "\n",
    "        ones = np.ones((n, 1))\n",
    "        ones_T = np.ones((1, n))\n",
    "\n",
    "        H = np.identity(n) - (1/n)*(ones @ ones_T)\n",
    "\n",
    "        G_1 = -(1/2)*(H @ D1_2_standard @ H)\n",
    "        G_2 = -(1/2)*(H @ D2_2_standard @ H)\n",
    "        G_3 = -(1/2)*(H @ D3_2_standard @ H)\n",
    "\n",
    "        # Calcular la descomposición en valores singulares de G_k\n",
    "        \n",
    "        U1, S1, V1 = np.linalg.svd(G_1)\n",
    "        U2, S2, V2 = np.linalg.svd(G_2)\n",
    "        U3, S3, V3 = np.linalg.svd(G_3)\n",
    " \n",
    "\n",
    "        # Calcular la raíz cuadrada de G_k\n",
    "        \n",
    "        sqrtG1 = U1 @ np.diag(np.sqrt(S1)) @ V1\n",
    "        sqrtG2 = U2 @ np.diag(np.sqrt(S2)) @ V2\n",
    "        sqrtG3 = U3 @ np.diag(np.sqrt(S3)) @ V3\n",
    " \n",
    "\n",
    "        G = G_1 + G_2 + G_3 - (1/3)*( sqrtG1@sqrtG2 + sqrtG1@sqrtG3 + sqrtG2@sqrtG1 + sqrtG2@sqrtG3 + sqrtG3@sqrtG1 + sqrtG3@sqrtG2 )\n",
    "                                   \n",
    "        g = np.diag(G) \n",
    "        g =  np.reshape(g, (len(g), 1))  \n",
    "        g_T = np.reshape(g, (1, len(g)))                   \n",
    "\n",
    "        D_2 = g @ ones_T + ones @ g_T - 2*G\n",
    "\n",
    "        D = np.sqrt(D_2)\n",
    "\n",
    "        return G, D, D_2"
   ]
  },
  {
   "cell_type": "code",
   "execution_count": 195,
   "metadata": {},
   "outputs": [],
   "source": [
    "D, D_2 = Generalized_Gower_Distance(Data=Data, p1=6, p2=4, p3=3, d1='Euclidea', d2='Sokal', d3='Matching', Related_Metric_Scaling=False)"
   ]
  },
  {
   "cell_type": "code",
   "execution_count": 196,
   "metadata": {},
   "outputs": [
    {
     "data": {
      "text/plain": [
       "array([[0.        , 1.33644237, 2.75666869, ..., 1.93748528, 1.80269628,\n",
       "        2.09158113],\n",
       "       [1.33644237, 0.        , 2.42348291, ..., 1.40214215, 1.24119328,\n",
       "        2.495871  ],\n",
       "       [2.75666869, 2.42348291, 0.        , ..., 1.98189254, 2.13922994,\n",
       "        3.3563746 ],\n",
       "       ...,\n",
       "       [1.93748528, 1.40214215, 1.98189254, ..., 0.        , 1.25159786,\n",
       "        2.8670549 ],\n",
       "       [1.80269628, 1.24119328, 2.13922994, ..., 1.25159786, 0.        ,\n",
       "        2.5881586 ],\n",
       "       [2.09158113, 2.495871  , 3.3563746 , ..., 2.8670549 , 2.5881586 ,\n",
       "        0.        ]])"
      ]
     },
     "execution_count": 196,
     "metadata": {},
     "output_type": "execute_result"
    }
   ],
   "source": [
    "D"
   ]
  },
  {
   "cell_type": "code",
   "execution_count": 197,
   "metadata": {},
   "outputs": [
    {
     "data": {
      "text/plain": [
       "array([[ 0.        ,  1.7860782 ,  7.59922225, ...,  3.75384919,\n",
       "         3.24971389,  4.3747116 ],\n",
       "       [ 1.7860782 ,  0.        ,  5.87326941, ...,  1.9660026 ,\n",
       "         1.54056077,  6.22937207],\n",
       "       [ 7.59922225,  5.87326941,  0.        , ...,  3.92789805,\n",
       "         4.57630472, 11.26525046],\n",
       "       ...,\n",
       "       [ 3.75384919,  1.9660026 ,  3.92789805, ...,  0.        ,\n",
       "         1.5664972 ,  8.22000381],\n",
       "       [ 3.24971389,  1.54056077,  4.57630472, ...,  1.5664972 ,\n",
       "         0.        ,  6.69856493],\n",
       "       [ 4.3747116 ,  6.22937207, 11.26525046, ...,  8.22000381,\n",
       "         6.69856493,  0.        ]])"
      ]
     },
     "execution_count": 197,
     "metadata": {},
     "output_type": "execute_result"
    }
   ],
   "source": [
    "D_2"
   ]
  },
  {
   "cell_type": "markdown",
   "metadata": {},
   "source": []
  },
  {
   "cell_type": "code",
   "execution_count": 198,
   "metadata": {},
   "outputs": [
    {
     "name": "stderr",
     "output_type": "stream",
     "text": [
      "C:\\Users\\Usuario\\AppData\\Local\\Temp\\ipykernel_14544\\1271054139.py:94: RuntimeWarning: invalid value encountered in sqrt\n",
      "  D = np.sqrt(D_2)\n"
     ]
    }
   ],
   "source": [
    "G, D, D_2 = Generalized_Gower_Distance(Data=Data, p1=6, p2=4, p3=3, d1='Euclidea', d2='Sokal', d3='Matching', Related_Metric_Scaling=True)"
   ]
  },
  {
   "cell_type": "code",
   "execution_count": 199,
   "metadata": {},
   "outputs": [
    {
     "data": {
      "text/plain": [
       "array([[ 2.83943291,  1.37562016, -1.34103381, ...,  0.52375811,\n",
       "         0.56441884,  2.07947165],\n",
       "       [ 1.37562012,  1.69502973, -1.03389846, ...,  0.84645537,\n",
       "         0.81020055,  0.49384656],\n",
       "       [-1.34103374, -1.03389845,  2.5324934 , ...,  0.2685363 ,\n",
       "        -0.35859967, -2.02444766],\n",
       "       ...,\n",
       "       [ 0.52375805,  0.8464553 ,  0.26853625, ...,  1.96220637,\n",
       "         0.96796285, -0.33752008],\n",
       "       [ 0.56441882,  0.81020053, -0.35859971, ...,  0.96796287,\n",
       "         1.48291288,  0.21415912],\n",
       "       [ 2.07947165,  0.49384661, -2.02444769, ..., -0.33752007,\n",
       "         0.21415914,  5.74187122]])"
      ]
     },
     "execution_count": 199,
     "metadata": {},
     "output_type": "execute_result"
    }
   ],
   "source": [
    "G"
   ]
  },
  {
   "cell_type": "code",
   "execution_count": 200,
   "metadata": {},
   "outputs": [
    {
     "data": {
      "text/plain": [
       "array([[0.        , 1.33537348, 2.83795594, ..., 1.93755595, 1.78703892,\n",
       "        2.10294099],\n",
       "       [1.33537351, 0.        , 2.50904764, ..., 1.40154392, 1.24801503,\n",
       "        2.53952906],\n",
       "       [2.83795592, 2.50904764, 0.        , ..., 1.98937859, 2.17545527,\n",
       "        3.5104501 ],\n",
       "       ...,\n",
       "       [1.93755598, 1.40154397, 1.98937861, ..., 0.        , 1.22849239,\n",
       "        2.89467058],\n",
       "       [1.78703893, 1.24801504, 2.17545528, ..., 1.22849237, 0.        ,\n",
       "        2.60700323],\n",
       "       [2.10294099, 2.53952904, 3.51045011, ..., 2.89467057, 2.60700323,\n",
       "        0.        ]])"
      ]
     },
     "execution_count": 200,
     "metadata": {},
     "output_type": "execute_result"
    }
   ],
   "source": [
    "D"
   ]
  },
  {
   "attachments": {},
   "cell_type": "markdown",
   "metadata": {},
   "source": [
    "**Problema:** hay nan en D porque hay numeros negativos en D_2"
   ]
  },
  {
   "cell_type": "code",
   "execution_count": 201,
   "metadata": {},
   "outputs": [
    {
     "data": {
      "text/plain": [
       "array([[ 0.        ,  1.78322233,  8.05399392, ...,  3.75412305,\n",
       "         3.19350811,  4.42236083],\n",
       "       [ 1.7832224 ,  0.        ,  6.29532004, ...,  1.96432535,\n",
       "         1.55754151,  6.44920783],\n",
       "       [ 8.05399378,  6.29532004,  0.        , ...,  3.95762717,\n",
       "         4.73260561, 12.32325992],\n",
       "       ...,\n",
       "       [ 3.75412318,  1.9643255 ,  3.95762726, ...,  0.        ,\n",
       "         1.50919355,  8.37911775],\n",
       "       [ 3.19350814,  1.55754155,  4.7326057 , ...,  1.50919351,\n",
       "         0.        ,  6.79646585],\n",
       "       [ 4.42236083,  6.44920773, 12.32325999, ...,  8.37911773,\n",
       "         6.79646582,  0.        ]])"
      ]
     },
     "execution_count": 201,
     "metadata": {},
     "output_type": "execute_result"
    }
   ],
   "source": [
    "D_2"
   ]
  },
  {
   "cell_type": "code",
   "execution_count": 218,
   "metadata": {},
   "outputs": [
    {
     "data": {
      "text/plain": [
       "3629025"
      ]
     },
     "execution_count": 218,
     "metadata": {},
     "output_type": "execute_result"
    }
   ],
   "source": [
    "np.sum( D_2 > -9e-07 )"
   ]
  },
  {
   "cell_type": "code",
   "execution_count": 219,
   "metadata": {},
   "outputs": [
    {
     "data": {
      "text/plain": [
       "0"
      ]
     },
     "execution_count": 219,
     "metadata": {},
     "output_type": "execute_result"
    }
   ],
   "source": [
    "np.sum( D_2 <= -9e-07 )"
   ]
  },
  {
   "attachments": {},
   "cell_type": "markdown",
   "metadata": {},
   "source": [
    "Todos los elementos de D_2 son >  -9e-07 "
   ]
  },
  {
   "cell_type": "code",
   "execution_count": null,
   "metadata": {},
   "outputs": [],
   "source": []
  },
  {
   "cell_type": "code",
   "execution_count": 211,
   "metadata": {},
   "outputs": [
    {
     "data": {
      "text/plain": [
       "(1905, 1905)"
      ]
     },
     "execution_count": 211,
     "metadata": {},
     "output_type": "execute_result"
    }
   ],
   "source": [
    "D_2.shape"
   ]
  },
  {
   "cell_type": "code",
   "execution_count": 212,
   "metadata": {},
   "outputs": [
    {
     "data": {
      "text/plain": [
       "3629025"
      ]
     },
     "execution_count": 212,
     "metadata": {},
     "output_type": "execute_result"
    }
   ],
   "source": [
    "1905*1905"
   ]
  },
  {
   "cell_type": "code",
   "execution_count": 208,
   "metadata": {},
   "outputs": [
    {
     "data": {
      "text/plain": [
       "array([-4.52500215e-09, -4.15318580e-09, -2.62951758e-08, -1.58661511e-08,\n",
       "       -1.78160398e-09, -1.36821887e-10, -9.45691236e-09, -6.22280494e-09,\n",
       "       -1.53761004e-09, -1.24616744e-08, -1.27953488e-08, -2.36104380e-08,\n",
       "       -3.36712747e-09, -1.49043000e-09, -8.39856718e-09, -6.16761131e-09,\n",
       "       -1.55994373e-08, -2.12979270e-08, -5.68964431e-09, -7.28924721e-09,\n",
       "       -5.13473619e-09, -4.85288876e-09, -1.10579601e-08, -9.08703779e-09,\n",
       "       -1.52541095e-08, -1.28797568e-08, -1.88339295e-08, -7.13238357e-10,\n",
       "       -1.04275468e-08, -1.38012846e-09, -1.02819571e-08, -3.90341359e-09,\n",
       "       -9.13112386e-09, -5.21041166e-09, -2.50854582e-09, -1.14918719e-08,\n",
       "       -4.23944879e-09, -8.81126372e-09, -2.63353428e-09, -1.68088432e-09,\n",
       "       -1.00395470e-09, -3.68819029e-08, -1.07984759e-08, -1.17583641e-08,\n",
       "       -4.42850645e-09, -9.88501947e-09, -3.81834115e-08, -1.30015554e-09,\n",
       "       -1.21005108e-08, -1.30611020e-08, -5.73053471e-09, -1.11870357e-08,\n",
       "       -2.61229145e-08, -9.48779721e-10, -5.18001064e-09, -4.45821380e-09,\n",
       "       -2.88010433e-08, -1.85808697e-08, -1.34225657e-08, -3.73399089e-09,\n",
       "       -2.37560727e-09, -3.77693654e-09, -1.80601423e-09, -9.12961151e-09,\n",
       "       -2.40459181e-08, -1.86401827e-09, -2.01672661e-08, -1.59847326e-08,\n",
       "       -7.83334730e-10, -5.93682659e-09, -8.96198982e-09, -4.56466642e-09,\n",
       "       -2.28031980e-08, -2.85170509e-09, -1.16233305e-08, -5.41152034e-09,\n",
       "       -1.22320865e-09, -1.04930966e-08, -6.57258337e-09, -3.89709642e-09,\n",
       "       -1.29588669e-08, -1.74414172e-09, -5.99856032e-09, -2.02003569e-09,\n",
       "       -4.20592761e-09, -7.21218640e-09, -1.29021878e-08, -1.46545704e-08,\n",
       "       -1.60710363e-08, -3.09136716e-09, -2.60247734e-09, -3.59911301e-09,\n",
       "       -2.15609131e-09, -3.16004467e-09, -1.13539191e-08, -7.78739562e-09,\n",
       "       -1.07891744e-08, -2.78434857e-08, -6.46817089e-09, -1.47730841e-08,\n",
       "       -1.44500270e-08, -2.57514401e-08, -1.57854059e-08, -6.39674713e-09,\n",
       "       -5.08875919e-09, -4.92483965e-09, -3.37339667e-09, -1.33005909e-08,\n",
       "       -2.21120908e-08, -2.81516948e-08, -2.46511140e-08, -2.81661392e-08,\n",
       "       -3.77555098e-08, -9.41302147e-10, -2.51225987e-08, -2.71381628e-09,\n",
       "       -9.05366448e-10, -3.23320926e-09, -1.37896281e-08, -4.01835121e-09,\n",
       "       -1.78049091e-08, -3.57229646e-09, -1.67625203e-09, -1.32795464e-09,\n",
       "       -1.38301077e-08, -1.28779432e-08, -5.67051162e-09, -1.90088989e-09,\n",
       "       -3.55044838e-09, -6.88214796e-09, -6.48652843e-09, -3.97966815e-09,\n",
       "       -1.26945769e-08, -1.57766280e-08, -3.02084135e-09, -8.21138224e-09,\n",
       "       -1.36497635e-09, -4.22320046e-09, -1.55005231e-09, -1.28784716e-09,\n",
       "       -1.21790062e-08, -6.41102949e-09, -2.33600694e-09, -1.77712995e-08,\n",
       "       -1.98001748e-09, -1.44058676e-08, -2.13474527e-09, -5.92327609e-09,\n",
       "       -3.95237443e-09, -9.88384663e-09, -3.65937858e-08, -9.29696542e-09,\n",
       "       -1.72712857e-08, -8.03505884e-09, -5.20772403e-09, -3.20871143e-08,\n",
       "       -9.88730076e-09, -2.82084951e-08, -3.02509129e-09, -1.30384521e-08,\n",
       "       -5.02134512e-09, -4.41743708e-09, -9.54732027e-09, -1.89071989e-08,\n",
       "       -8.46073522e-09, -4.76504258e-09, -2.22481500e-09, -9.44477563e-09,\n",
       "       -1.51291299e-08, -5.96839778e-09, -4.79662265e-09, -1.85842515e-08,\n",
       "       -2.57159893e-09, -1.33058879e-08, -2.13092655e-09, -2.43967202e-09,\n",
       "       -2.00666663e-08, -1.25531185e-08, -4.06561762e-09, -9.35947408e-09,\n",
       "       -7.14773973e-09, -5.05251396e-09, -4.77075579e-09, -1.09758744e-08,\n",
       "       -9.00501940e-09, -2.00252659e-09, -2.64141753e-09, -1.43151269e-09,\n",
       "       -1.65234959e-09, -2.08208251e-09, -1.05567484e-08, -2.65424482e-09,\n",
       "       -1.02405144e-08, -6.17417784e-09, -7.65493158e-09, -1.91967122e-08,\n",
       "       -2.68869611e-08, -1.88338189e-08, -6.67989042e-09, -7.47584217e-09,\n",
       "       -9.34875644e-09, -2.11730002e-08, -8.32323543e-09, -7.79179032e-09,\n",
       "       -1.90318010e-08, -9.33553768e-09, -3.24926850e-08, -6.36975717e-09,\n",
       "       -7.31851824e-09, -5.46804557e-09, -1.81913800e-08, -5.92983462e-09,\n",
       "       -1.33590710e-08, -5.18353138e-09, -2.63733657e-09, -2.66527280e-08,\n",
       "       -4.56256721e-09, -2.27740333e-08, -1.07997282e-08, -1.36477576e-08,\n",
       "       -6.18264107e-09, -2.52090215e-08, -8.26147151e-09, -2.27956996e-08,\n",
       "       -2.27800996e-08, -2.32001813e-08, -4.06620981e-09, -1.00654975e-08,\n",
       "       -1.13150489e-09, -1.32409130e-08, -1.82380835e-08, -2.33942172e-08,\n",
       "       -1.32250757e-08, -8.01559219e-09, -1.69306569e-08, -1.45173287e-08,\n",
       "       -1.45259147e-08, -1.49441330e-08, -1.55145674e-09, -3.92050392e-09,\n",
       "       -6.35995345e-09, -5.66405500e-09, -7.21692928e-10, -2.43428295e-08,\n",
       "       -1.41226213e-08, -8.96435326e-09, -2.24656826e-09, -1.28241791e-08,\n",
       "       -1.06772822e-08, -1.01252962e-09, -9.73554304e-09, -8.90158369e-09,\n",
       "       -2.52308974e-09, -1.57022573e-08, -4.97749042e-09, -2.45418796e-10,\n",
       "       -1.51691886e-08, -1.07315987e-08, -6.55259846e-10, -4.67536321e-09,\n",
       "       -1.54934394e-08, -5.53487034e-10, -1.32643274e-09, -1.05779057e-08,\n",
       "       -1.25815942e-08, -2.66001701e-08, -7.38732764e-09, -1.36131906e-09,\n",
       "       -4.42734471e-09, -7.95777755e-09, -2.87186661e-08, -1.09538267e-08,\n",
       "       -1.64633285e-09, -1.30965749e-08, -2.87029822e-09, -2.54447756e-08,\n",
       "       -8.37907965e-10, -1.00781721e-08, -7.78662135e-09, -7.57056817e-09,\n",
       "       -2.35094078e-09, -2.90714821e-08, -2.18416218e-09, -2.10299076e-08,\n",
       "       -8.86412455e-09, -9.70621361e-09, -9.51938972e-10, -5.10079978e-10,\n",
       "       -3.22860636e-08, -2.96567499e-08, -1.03567448e-08, -2.62721223e-09,\n",
       "       -1.33958213e-08, -2.82745383e-10, -1.13130065e-08, -1.29553612e-09,\n",
       "       -2.70722733e-08, -9.29955535e-09, -1.12740852e-08, -1.03338094e-09,\n",
       "       -2.37025608e-08, -3.88528898e-09, -1.55247015e-09, -3.60184904e-09,\n",
       "       -1.10489689e-08, -1.17627073e-08, -6.00546723e-09, -2.53878119e-09,\n",
       "       -5.99437211e-09, -1.56432054e-08, -1.56612119e-08, -1.23663142e-08,\n",
       "       -3.22863620e-08, -2.95484348e-09, -2.67565614e-09, -4.55111504e-10,\n",
       "       -9.91595428e-09, -1.55849538e-08, -1.42792778e-08, -7.54216511e-09,\n",
       "       -1.06991289e-08, -5.81768766e-09, -6.84766688e-09, -5.17518717e-09,\n",
       "       -1.09169083e-08, -5.78355208e-09, -7.16367565e-09, -1.60720859e-08,\n",
       "       -9.67542091e-09, -5.12139131e-08, -1.00564677e-08, -2.20630856e-08,\n",
       "       -8.05288014e-09, -7.31129113e-09, -2.58790092e-08, -8.11302314e-09,\n",
       "       -1.02286570e-08, -2.25897949e-08, -2.57729393e-09, -2.95434326e-08,\n",
       "       -1.86656886e-08, -5.01873965e-09, -7.51934515e-10, -1.87991844e-11,\n",
       "       -6.57824373e-09, -5.10033704e-09, -1.20435382e-08, -7.25749394e-09,\n",
       "       -2.64467386e-08, -3.24103411e-10, -1.27271704e-09, -9.25159327e-09,\n",
       "       -1.37500411e-09, -3.18585514e-09, -8.16222290e-09, -1.47292698e-08,\n",
       "       -2.02070503e-08, -1.21536958e-08, -7.95688848e-10, -6.13544615e-09,\n",
       "       -5.57324320e-09, -2.54595434e-09, -1.30856392e-09, -1.06681695e-08,\n",
       "       -1.08737379e-08, -1.61182845e-09, -1.28052018e-08, -3.32866401e-09,\n",
       "       -1.98554488e-08, -1.79282580e-08, -3.20260085e-09, -1.95077323e-08,\n",
       "       -9.02689479e-10, -5.50718804e-10, -1.47169845e-08, -8.99650199e-09,\n",
       "       -1.34598708e-08, -1.26417321e-09, -2.54302277e-08, -9.65358993e-09,\n",
       "       -4.38335857e-09, -2.13628004e-09, -7.99454281e-10, -3.00498537e-09,\n",
       "       -1.08832898e-08, -2.06368256e-09, -2.60330424e-10, -4.68786254e-09,\n",
       "       -3.09446007e-08, -4.34143193e-08, -1.65271308e-08, -1.37347760e-08,\n",
       "       -3.53609568e-08, -2.32072583e-08, -2.39765727e-08, -1.19255099e-08,\n",
       "       -1.10295817e-08, -1.48468526e-08, -1.05400444e-08, -4.81267115e-09,\n",
       "       -4.16533608e-09, -2.63043032e-09, -1.26524236e-09, -5.48860823e-09,\n",
       "       -2.81542412e-09, -1.68276060e-09, -6.31047503e-09, -2.28789476e-09,\n",
       "       -2.01462924e-08, -5.79012838e-09, -6.97857061e-09, -4.12172740e-09,\n",
       "       -1.91953191e-08, -2.16716489e-09, -2.58416755e-09, -1.15490559e-08,\n",
       "       -2.41334064e-09, -2.51508148e-10, -6.83338275e-10, -1.21454495e-08,\n",
       "       -2.27255326e-09, -1.05923581e-09, -9.17726872e-09, -2.27553532e-09,\n",
       "       -6.00952688e-09, -4.65105998e-09, -8.52578985e-09, -7.18083371e-09,\n",
       "       -8.96513708e-09, -7.29484873e-09, -8.67498318e-09, -1.51127932e-09,\n",
       "       -1.75833612e-08, -3.09115844e-10, -1.11867591e-08, -3.59499452e-09,\n",
       "       -3.90841892e-09, -5.72046921e-09, -4.38769465e-09, -7.46782636e-09,\n",
       "       -1.33238154e-09, -6.90564317e-09, -3.87835897e-09, -2.64107136e-09,\n",
       "       -8.24993363e-09, -1.41357059e-08, -1.02519002e-08, -5.57445512e-09,\n",
       "       -2.21465593e-08, -1.82678868e-08, -1.35702782e-08, -3.18756932e-09,\n",
       "       -1.92262286e-08, -1.11731611e-08, -6.94981694e-09, -8.32994140e-09,\n",
       "       -1.14885301e-09, -1.72211614e-08, -1.08773834e-08, -1.62119473e-09,\n",
       "       -9.93121230e-09, -1.44120627e-09, -1.61727742e-08, -1.60553650e-08,\n",
       "       -1.07599734e-08, -1.68622005e-09, -8.19918355e-10, -1.01948583e-08,\n",
       "       -2.13624762e-09, -9.14800680e-10, -7.30023864e-09, -1.08659837e-09,\n",
       "       -1.04459996e-08, -2.33278508e-09, -2.01566630e-09, -1.06685114e-08,\n",
       "       -4.50690152e-09, -1.02902495e-08, -2.20840328e-08, -5.35405587e-09,\n",
       "       -4.88108198e-09, -9.78129355e-10, -1.47736245e-09, -2.12451123e-09,\n",
       "       -2.35001636e-08, -3.89432984e-08, -5.89863269e-09, -3.79031917e-10,\n",
       "       -1.52140256e-08, -2.41656717e-09, -2.81820123e-10, -6.20507068e-09,\n",
       "       -4.23418522e-09, -3.00926573e-09, -2.28198571e-09, -3.89116050e-09,\n",
       "       -1.41410639e-09, -1.02086850e-08, -3.30458665e-08, -4.43938397e-09,\n",
       "       -5.42716307e-08, -2.67318292e-08, -3.84658332e-08, -5.51937696e-09,\n",
       "       -2.50518095e-08, -4.78229101e-09, -1.41418486e-08, -3.69569486e-09,\n",
       "       -2.44682674e-08, -5.40117107e-08, -1.53784674e-08, -5.15826626e-09,\n",
       "       -2.75400414e-08, -2.93661628e-09, -3.84198451e-09, -6.16983087e-09,\n",
       "       -3.27223422e-08, -2.85029174e-08, -5.48828876e-08, -3.01146379e-08,\n",
       "       -2.18549161e-08, -1.17595897e-08, -3.04838048e-08, -1.44208148e-08,\n",
       "       -6.13426110e-09, -2.51855496e-08, -1.38719214e-08, -2.48192711e-09,\n",
       "       -8.83247564e-09, -3.57800323e-09, -3.02727776e-09, -8.01437583e-10,\n",
       "       -8.01379474e-09, -3.41258977e-09, -9.80694459e-09, -1.04261644e-08,\n",
       "       -1.18114967e-08, -9.66439728e-09, -5.25980592e-09, -9.40147249e-09,\n",
       "       -2.02428505e-08, -5.86954485e-10, -2.71873497e-08, -7.97428923e-09,\n",
       "       -5.29076249e-09, -5.55434765e-09, -6.73245681e-10, -1.65963132e-09,\n",
       "       -1.14082477e-09, -1.92929566e-08, -7.60382335e-09, -7.68669484e-09,\n",
       "       -1.27169946e-08, -7.05025460e-09, -2.29714026e-09, -1.20975443e-08,\n",
       "       -7.88005394e-09, -4.09967704e-09, -2.68363065e-09, -1.88354083e-08,\n",
       "       -5.63033353e-09, -2.43471359e-08, -8.28702884e-09, -1.90498453e-08,\n",
       "       -7.74290143e-09, -6.21495588e-09, -6.87925361e-09, -4.80850915e-09,\n",
       "       -1.32749882e-08, -5.86390403e-09, -4.55371563e-09, -4.04741130e-09,\n",
       "       -1.02015618e-09, -1.80935844e-08, -3.87862187e-09, -1.14704291e-09,\n",
       "       -4.16835411e-09, -2.34935573e-08, -1.71814383e-08, -1.25802229e-08,\n",
       "       -9.16764442e-09, -1.72836701e-09, -7.01533853e-09, -9.15365250e-09,\n",
       "       -6.76189660e-09, -2.18148157e-08, -2.01202024e-08, -1.76577952e-09,\n",
       "       -5.42297407e-09, -2.14669837e-08, -5.95274652e-09, -9.68721725e-09,\n",
       "       -8.32895886e-09, -3.67720565e-09, -4.70422767e-09, -1.37496747e-08,\n",
       "       -1.30172029e-09, -2.12875610e-08, -1.13324434e-08, -2.20524563e-08,\n",
       "       -1.80939486e-09, -7.67508901e-09, -2.32410624e-09, -4.11123580e-10,\n",
       "       -1.76010286e-08, -1.39843692e-11, -9.60309920e-09, -4.60503733e-08,\n",
       "       -9.11624820e-09, -7.81492648e-09, -1.99274832e-08, -2.08762745e-08,\n",
       "       -1.35574876e-08, -1.90139398e-08, -4.46989334e-10, -1.55057389e-09,\n",
       "       -9.48842427e-09, -2.52541676e-09, -9.38711109e-10, -3.46668605e-09,\n",
       "       -3.45534845e-09, -1.31041986e-08, -1.64382441e-09, -9.32009914e-09,\n",
       "       -1.43096153e-08, -9.53516377e-09, -1.92123522e-08, -2.40472398e-09,\n",
       "       -1.99135153e-09, -1.18669967e-08, -1.42313406e-08, -6.01630079e-10,\n",
       "       -1.24928934e-09, -1.49663171e-10, -6.10549389e-10, -3.11722381e-09,\n",
       "       -1.35452556e-08, -4.82895302e-09, -2.39911868e-10, -8.69550432e-10,\n",
       "       -3.95986355e-10, -7.52576579e-09, -5.89221472e-09, -1.58243978e-08,\n",
       "       -2.06248933e-08, -1.13644827e-09, -2.48792675e-09, -1.63536216e-08,\n",
       "       -1.46932306e-08, -1.60055409e-08, -1.17161481e-08, -1.20107080e-08,\n",
       "       -2.69044200e-08, -2.25178685e-08, -1.54511948e-08, -1.08506677e-08,\n",
       "       -7.43810324e-09, -5.28625810e-09, -7.42478856e-09, -3.93172694e-09,\n",
       "       -5.02251574e-10, -5.49455326e-09, -4.94516783e-09, -1.53242801e-08,\n",
       "       -1.23505366e-08, -6.34338337e-09, -8.11799206e-09, -5.39169243e-09,\n",
       "       -1.04174980e-08, -4.76988049e-09, -9.80584236e-09, -2.96343838e-10,\n",
       "       -2.30183872e-09, -1.51094914e-09, -6.10135675e-09, -6.59879706e-09,\n",
       "       -2.67829181e-09, -9.05338160e-09, -5.30109823e-09, -7.96878918e-09,\n",
       "       -4.25036184e-09, -2.28671260e-09, -3.47773366e-10, -1.30040494e-08,\n",
       "       -7.58401120e-10, -8.17506396e-09, -1.26713582e-08, -5.60794522e-10,\n",
       "       -1.16860388e-08, -1.41894763e-09, -7.46787210e-09, -1.04809477e-08,\n",
       "       -2.15488294e-09, -8.12754308e-11, -1.36813560e-08, -4.57582106e-09,\n",
       "       -2.84955259e-09, -7.12204695e-09, -2.50759435e-09, -2.16049845e-10,\n",
       "       -1.97090277e-09, -3.47066376e-10, -1.40674234e-08, -9.99306415e-10,\n",
       "       -6.15914231e-09, -2.40353470e-09, -1.18924115e-09, -1.26342701e-08,\n",
       "       -1.02307305e-08, -3.94709598e-10, -2.83838864e-09, -7.97539812e-10,\n",
       "       -1.62515716e-08, -1.83050299e-08, -5.43877121e-09, -1.53328439e-09,\n",
       "       -3.49788487e-09, -4.13202295e-09, -2.94545766e-09, -3.20708349e-09,\n",
       "       -3.61863806e-09, -5.90913984e-10, -2.79308843e-09, -5.94358252e-09,\n",
       "       -1.57505262e-08, -2.68658162e-09, -2.62767919e-09, -1.64232166e-08,\n",
       "       -4.19285051e-10, -1.11486358e-08, -2.50653187e-09, -1.84551157e-08,\n",
       "       -7.90202503e-09, -8.21639201e-09, -2.36470798e-09, -8.57346638e-10,\n",
       "       -1.42740930e-10, -1.83397624e-08, -6.03965078e-09, -1.34992149e-08,\n",
       "       -5.32416222e-09, -1.27212241e-09, -5.46133361e-10, -1.22644903e-08,\n",
       "       -1.27399264e-08, -4.79068785e-09, -3.46915185e-09, -4.45326709e-09,\n",
       "       -1.31276168e-09, -1.04929665e-09, -2.35086142e-08, -1.28663151e-08,\n",
       "       -1.56683106e-08, -1.27223885e-08, -3.23144160e-08, -4.50368063e-08,\n",
       "       -1.89028775e-08, -5.87420157e-09, -2.41014320e-10, -3.50217455e-09,\n",
       "       -1.62244049e-08, -1.80379796e-08, -1.22134747e-09, -1.00062008e-08,\n",
       "       -5.52785506e-09, -1.99268335e-09, -2.12600515e-09, -1.78717805e-08,\n",
       "       -8.26444690e-09, -9.54478763e-09, -5.62459501e-09, -8.37221403e-11,\n",
       "       -1.04221565e-08, -2.19283720e-08, -1.93004617e-08, -7.54791962e-09,\n",
       "       -3.08250385e-08, -1.79480950e-08, -4.26635083e-09, -7.64877761e-09,\n",
       "       -1.97430028e-09, -3.76188458e-09, -1.22385941e-08, -9.85253257e-09,\n",
       "       -5.51336354e-09, -7.89105714e-09, -3.40350614e-09, -2.91336066e-09,\n",
       "       -1.29729560e-08, -3.95977988e-08, -1.23857751e-08, -2.03602970e-08,\n",
       "       -3.55198360e-09, -7.84299203e-09, -7.93103050e-09, -1.41313476e-08,\n",
       "       -1.93427407e-09, -2.12522924e-08, -1.96192120e-08, -1.37269831e-08,\n",
       "       -2.95523375e-08])"
      ]
     },
     "execution_count": 208,
     "metadata": {},
     "output_type": "execute_result"
    }
   ],
   "source": [
    "D_2[np.where(D_2 < 0)]"
   ]
  },
  {
   "cell_type": "markdown",
   "metadata": {},
   "source": []
  },
  {
   "cell_type": "markdown",
   "metadata": {},
   "source": []
  },
  {
   "attachments": {},
   "cell_type": "markdown",
   "metadata": {},
   "source": [
    "### Depuracion de errores"
   ]
  },
  {
   "cell_type": "code",
   "execution_count": 186,
   "metadata": {},
   "outputs": [],
   "source": [
    "n = len(Data)\n",
    "\n",
    "M =  np.empty((n , n))"
   ]
  },
  {
   "cell_type": "code",
   "execution_count": 188,
   "metadata": {},
   "outputs": [],
   "source": [
    "p1=6 ; p2=4; p3=3\n",
    "\n",
    "Quant_Data = Data.iloc[: , 0:p1]\n",
    "\n",
    "Binary_Data = Data.iloc[: , (p1):(p1+p2)]\n",
    "\n",
    "Multiple_Data = Data.iloc[: , (p1+p2):(p1+p2+p3) ]\n"
   ]
  },
  {
   "cell_type": "code",
   "execution_count": 189,
   "metadata": {},
   "outputs": [],
   "source": [
    "d1='Euclidea' ; d2='Sokal' ; d3='Matching'\n",
    "\n",
    "Matrix_Dist_d1 = globals()[\"Matrix_Dist_\" + d1]\n",
    "Matrix_Dist_d2 = globals()[\"Matrix_Dist_\" + d2]\n",
    "Matrix_Dist_d3 = globals()[\"Matrix_Dist_\" + d3]"
   ]
  },
  {
   "cell_type": "code",
   "execution_count": 190,
   "metadata": {},
   "outputs": [],
   "source": [
    "D1 = Matrix_Dist_d1(Quant_Data)\n",
    "D2 = Matrix_Dist_d2(Binary_Data)\n",
    "D3 = Matrix_Dist_d3(Multiple_Data)"
   ]
  },
  {
   "cell_type": "code",
   "execution_count": 191,
   "metadata": {},
   "outputs": [
    {
     "data": {
      "text/plain": [
       "array([[      0.        ,  150000.00000333, 1550000.00003645, ...,\n",
       "         200000.00228263, 2025000.00002   , 1939113.00002579],\n",
       "       [      0.        ,       0.        , 1700000.00003235, ...,\n",
       "          50000.00910047, 2175000.00001885, 2089113.00002417],\n",
       "       [      0.        ,       0.        ,       0.        , ...,\n",
       "        1750000.0001143 ,  475000.00001475,  389113.00001671],\n",
       "       ...,\n",
       "       [      0.        ,       0.        ,       0.        , ...,\n",
       "              0.        , 2225000.00010203, 2139113.00009655],\n",
       "       [      0.        ,       0.        ,       0.        , ...,\n",
       "              0.        ,       0.        ,   85887.00000585],\n",
       "       [      0.        ,       0.        ,       0.        , ...,\n",
       "              0.        ,       0.        ,       0.        ]])"
      ]
     },
     "execution_count": 191,
     "metadata": {},
     "output_type": "execute_result"
    }
   ],
   "source": [
    "D1"
   ]
  },
  {
   "cell_type": "code",
   "execution_count": 192,
   "metadata": {},
   "outputs": [
    {
     "data": {
      "text/plain": [
       "array([[0.        , 0.        , 1.        , ..., 1.        , 0.70710678,\n",
       "        1.41421356],\n",
       "       [0.        , 0.        , 1.        , ..., 1.        , 0.70710678,\n",
       "        1.41421356],\n",
       "       [0.        , 0.        , 0.        , ..., 0.        , 0.70710678,\n",
       "        1.73205081],\n",
       "       ...,\n",
       "       [0.        , 0.        , 0.        , ..., 0.        , 0.70710678,\n",
       "        1.73205081],\n",
       "       [0.        , 0.        , 0.        , ..., 0.        , 0.        ,\n",
       "        1.58113883],\n",
       "       [0.        , 0.        , 0.        , ..., 0.        , 0.        ,\n",
       "        0.        ]])"
      ]
     },
     "execution_count": 192,
     "metadata": {},
     "output_type": "execute_result"
    }
   ],
   "source": [
    "D2"
   ]
  },
  {
   "cell_type": "code",
   "execution_count": 193,
   "metadata": {},
   "outputs": [
    {
     "data": {
      "text/plain": [
       "array([[0.        , 0.81649658, 1.41421356, ..., 0.81649658, 0.81649658,\n",
       "        0.        ],\n",
       "       [0.        , 0.        , 1.15470054, ..., 0.        , 0.        ,\n",
       "        0.81649658],\n",
       "       [0.        , 0.        , 0.        , ..., 1.15470054, 1.15470054,\n",
       "        1.41421356],\n",
       "       ...,\n",
       "       [0.        , 0.        , 0.        , ..., 0.        , 0.        ,\n",
       "        0.81649658],\n",
       "       [0.        , 0.        , 0.        , ..., 0.        , 0.        ,\n",
       "        0.81649658],\n",
       "       [0.        , 0.        , 0.        , ..., 0.        , 0.        ,\n",
       "        0.        ]])"
      ]
     },
     "execution_count": 193,
     "metadata": {},
     "output_type": "execute_result"
    }
   ],
   "source": [
    "D3"
   ]
  },
  {
   "cell_type": "code",
   "execution_count": null,
   "metadata": {},
   "outputs": [],
   "source": [
    "\n",
    "D1_2 = np.square(D1)\n",
    "D2_2 = np.square(D2)\n",
    "D3_2 = np.square(D3)\n"
   ]
  },
  {
   "cell_type": "code",
   "execution_count": null,
   "metadata": {},
   "outputs": [],
   "source": [
    "\n",
    "VG1 = var_geom(D1_2)\n",
    "VG2 = var_geom(D2_2)\n",
    "VG3 = var_geom(D3_2)\n"
   ]
  },
  {
   "cell_type": "code",
   "execution_count": null,
   "metadata": {},
   "outputs": [],
   "source": [
    "\n",
    "D1_2_standard = D1_2 / VG1\n",
    "D2_2_standard = D2_2 / VG2\n",
    "D3_2_standard = D3_2 / VG3\n"
   ]
  },
  {
   "cell_type": "code",
   "execution_count": null,
   "metadata": {},
   "outputs": [],
   "source": [
    "\n",
    "\n",
    "ones = np.ones((n, 1))\n",
    "ones_T = np.ones((1, n))\n"
   ]
  },
  {
   "cell_type": "code",
   "execution_count": null,
   "metadata": {},
   "outputs": [],
   "source": [
    "\n",
    "H = np.identity(n) - (1/n)*(ones @ ones_T)\n"
   ]
  },
  {
   "cell_type": "code",
   "execution_count": null,
   "metadata": {},
   "outputs": [],
   "source": [
    "\n",
    "G_1 = -(1/2)*(H @ D1_2_standard @ H)\n",
    "G_2 = -(1/2)*(H @ D2_2_standard @ H)\n",
    "G_3 = -(1/2)*(H @ D3_2_standard @ H)\n"
   ]
  },
  {
   "cell_type": "code",
   "execution_count": null,
   "metadata": {},
   "outputs": [],
   "source": [
    "\n",
    "\n",
    "# Calcular la descomposición en valores singulares de G_k\n",
    "        \n",
    "U1, S1, V1 = np.linalg.svd(G_1)\n",
    "U2, S2, V2 = np.linalg.svd(G_2)\n",
    "U3, S3, V3 = np.linalg.svd(G_3)\n",
    " \n"
   ]
  },
  {
   "cell_type": "code",
   "execution_count": null,
   "metadata": {},
   "outputs": [],
   "source": [
    "\n",
    " # Calcular la raíz cuadrada de G_k\n",
    "        \n",
    "sqrtG1 = U1 @ np.diag(np.sqrt(S1)) @ V1\n",
    "sqrtG2 = U2 @ np.diag(np.sqrt(S2)) @ V2\n",
    "sqrtG3 = U3 @ np.diag(np.sqrt(S3)) @ V3\n",
    " \n"
   ]
  },
  {
   "cell_type": "code",
   "execution_count": null,
   "metadata": {},
   "outputs": [],
   "source": [
    "G = G_1 + G_2 + G_3 - (1/3)*( sqrtG1@sqrtG2 + sqrtG1@sqrtG3 + sqrtG2@sqrtG1 + sqrtG2@sqrtG3 + sqrtG3@sqrtG1 + sqrtG3@sqrtG2 )\n",
    "  "
   ]
  },
  {
   "cell_type": "code",
   "execution_count": null,
   "metadata": {},
   "outputs": [],
   "source": [
    "                                 \n",
    "g = np.diag(G) \n",
    "g =  np.reshape(g, (len(g), 1))  \n",
    "g_T = np.reshape(g, (1, len(g)))                   \n"
   ]
  },
  {
   "cell_type": "code",
   "execution_count": null,
   "metadata": {},
   "outputs": [],
   "source": [
    "\n",
    "D_2 = g @ ones_T + ones @ g_T - 2*G\n"
   ]
  },
  {
   "cell_type": "code",
   "execution_count": null,
   "metadata": {},
   "outputs": [],
   "source": [
    "\n",
    "D = np.sqrt(D_2)"
   ]
  },
  {
   "cell_type": "markdown",
   "metadata": {},
   "source": []
  },
  {
   "cell_type": "markdown",
   "metadata": {},
   "source": []
  },
  {
   "cell_type": "markdown",
   "metadata": {},
   "source": []
  },
  {
   "attachments": {},
   "cell_type": "markdown",
   "metadata": {},
   "source": [
    "# Distancia de Mahalanobis Robusta"
   ]
  },
  {
   "attachments": {},
   "cell_type": "markdown",
   "metadata": {},
   "source": [
    "## Estimacion Robusta de la varianza"
   ]
  },
  {
   "attachments": {},
   "cell_type": "markdown",
   "metadata": {},
   "source": [
    "### Metodo 1: MAD"
   ]
  },
  {
   "attachments": {},
   "cell_type": "markdown",
   "metadata": {},
   "source": [
    "Estimacion robusta de la varianza de X_j es MAD(X_j)^2"
   ]
  },
  {
   "cell_type": "code",
   "execution_count": 61,
   "metadata": {},
   "outputs": [],
   "source": [
    "def MAD(Variable_name, Data) :\n",
    "\n",
    "   MAD = np.median( np.abs( Data[Variable_name] - np.median(Data[Variable_name]) ) )\n",
    "\n",
    "   return MAD"
   ]
  },
  {
   "cell_type": "code",
   "execution_count": 62,
   "metadata": {},
   "outputs": [
    {
     "data": {
      "text/plain": [
       "600000.0"
      ]
     },
     "execution_count": 62,
     "metadata": {},
     "output_type": "execute_result"
    }
   ],
   "source": [
    "MAD(Variable_name='price', Data=Data)"
   ]
  },
  {
   "cell_type": "markdown",
   "metadata": {},
   "source": []
  },
  {
   "attachments": {},
   "cell_type": "markdown",
   "metadata": {},
   "source": [
    "### Metodo 2: Trimmed variance"
   ]
  },
  {
   "cell_type": "code",
   "execution_count": 63,
   "metadata": {},
   "outputs": [],
   "source": [
    "def Variable_alpha_trimmed(Variable_name, Data, alpha) :\n",
    " \n",
    "    lower_bound = Data[Variable_name].quantile(q = alpha/2)\n",
    "    upper_bound = Data[Variable_name].quantile(q = 1 - alpha/2)\n",
    "\n",
    "    result = Data.loc[ ( Data[Variable_name] >= lower_bound ) & ( Data[Variable_name] <= upper_bound ) , Variable_name ]\n",
    "\n",
    "    return result"
   ]
  },
  {
   "cell_type": "code",
   "execution_count": 64,
   "metadata": {},
   "outputs": [
    {
     "data": {
      "text/plain": [
       "0       2700000\n",
       "1       2850000\n",
       "2       1150000\n",
       "3       2850000\n",
       "4       1729200\n",
       "         ...   \n",
       "1900    1500000\n",
       "1901    1230000\n",
       "1902    2900000\n",
       "1903     675000\n",
       "1904     760887\n",
       "Name: price, Length: 1714, dtype: int64"
      ]
     },
     "execution_count": 64,
     "metadata": {},
     "output_type": "execute_result"
    }
   ],
   "source": [
    "Variable_alpha_trimmed(Variable_name='price', Data=Data, alpha=0.1)"
   ]
  },
  {
   "cell_type": "markdown",
   "metadata": {},
   "source": []
  },
  {
   "attachments": {},
   "cell_type": "markdown",
   "metadata": {},
   "source": [
    "### Metodo 3: Winsorized variance\n"
   ]
  },
  {
   "cell_type": "code",
   "execution_count": 65,
   "metadata": {},
   "outputs": [],
   "source": [
    "def Variable_alpha_winsorized(Variable_name, Data, alpha) :\n",
    "\n",
    "    lower_bound = Data[Variable_name].quantile(q=alpha/2)\n",
    "    upper_bound = Data[Variable_name].quantile(q=1-alpha/2)\n",
    "\n",
    "    A = Data.loc[ Data[Variable_name] <= lower_bound, Variable_name ]\n",
    "    B = Data.loc[ Data[Variable_name] >= upper_bound, Variable_name ]\n",
    "\n",
    "    a = np.min( Data.loc[ Data[Variable_name] > Data[Variable_name].quantile(alpha/2) , Variable_name] )\n",
    "    b = np.max( Data.loc[ Data[Variable_name] < Data[Variable_name].quantile(1-alpha/2) , Variable_name] )\n",
    "\n",
    "    def g(x):\n",
    "\n",
    "        # x in A no funciona bien al no ser A una lista sino un array.\n",
    "        # Para solucionarlo usamos A.tolist() que es una lista con los elementos del array A.\n",
    "        # Idem para B.\n",
    "\n",
    "        if x in A.tolist() : result = a \n",
    "        elif x in B.tolist() : result = b\n",
    "        else : result = x\n",
    "\n",
    "        return result\n",
    "    \n",
    "    variable_alpha_winsorized = Data[Variable_name].apply(g)\n",
    "\n",
    "    return variable_alpha_winsorized"
   ]
  },
  {
   "cell_type": "code",
   "execution_count": 66,
   "metadata": {},
   "outputs": [],
   "source": [
    "variable_alpha_winsorized = Variable_alpha_winsorized(Variable_name='price', Data=Data, alpha=0.1)"
   ]
  },
  {
   "cell_type": "code",
   "execution_count": 67,
   "metadata": {},
   "outputs": [
    {
     "data": {
      "text/plain": [
       "0       2700000\n",
       "1       2850000\n",
       "2       1150000\n",
       "3       2850000\n",
       "4       1729200\n",
       "         ...   \n",
       "1900    1500000\n",
       "1901    1230000\n",
       "1902    2900000\n",
       "1903     675000\n",
       "1904     760887\n",
       "Name: price, Length: 1905, dtype: int64"
      ]
     },
     "execution_count": 67,
     "metadata": {},
     "output_type": "execute_result"
    }
   ],
   "source": [
    "variable_alpha_winsorized"
   ]
  },
  {
   "cell_type": "code",
   "execution_count": 68,
   "metadata": {},
   "outputs": [
    {
     "data": {
      "text/plain": [
       "1744555.8761154856"
      ]
     },
     "execution_count": 68,
     "metadata": {},
     "output_type": "execute_result"
    }
   ],
   "source": [
    "variable_alpha_winsorized.mean()"
   ]
  },
  {
   "cell_type": "code",
   "execution_count": 69,
   "metadata": {},
   "outputs": [
    {
     "data": {
      "text/plain": [
       "2085829.8734908137"
      ]
     },
     "execution_count": 69,
     "metadata": {},
     "output_type": "execute_result"
    }
   ],
   "source": [
    "Data['price'].mean()"
   ]
  },
  {
   "cell_type": "code",
   "execution_count": 70,
   "metadata": {},
   "outputs": [
    {
     "data": {
      "text/plain": [
       "1150822.5577375696"
      ]
     },
     "execution_count": 70,
     "metadata": {},
     "output_type": "execute_result"
    }
   ],
   "source": [
    "variable_alpha_winsorized.std()"
   ]
  },
  {
   "cell_type": "code",
   "execution_count": 71,
   "metadata": {},
   "outputs": [
    {
     "data": {
      "text/plain": [
       "2913199.9615041506"
      ]
     },
     "execution_count": 71,
     "metadata": {},
     "output_type": "execute_result"
    }
   ],
   "source": [
    "Data['price'].std()"
   ]
  },
  {
   "cell_type": "markdown",
   "metadata": {},
   "source": []
  },
  {
   "cell_type": "markdown",
   "metadata": {},
   "source": []
  },
  {
   "attachments": {},
   "cell_type": "markdown",
   "metadata": {},
   "source": [
    "### Robust variance estimation"
   ]
  },
  {
   "cell_type": "code",
   "execution_count": 72,
   "metadata": {},
   "outputs": [],
   "source": [
    "def robust_variance(Variable_name, Data, Method, alpha=None) :\n",
    "\n",
    "    if Method == 'MAD' :\n",
    "\n",
    "        result = MAD(Variable_name, Data)**2\n",
    "\n",
    "    if Method == 'trimmed variance' :\n",
    "\n",
    "        result = np.var( Variable_alpha_trimmed(Variable_name, Data, alpha) )\n",
    "\n",
    "    if Method == 'winsorized variance' :\n",
    "\n",
    "        result = np.var( Variable_alpha_winsorized(Variable_name, Data, alpha) )\n",
    "\n",
    "    return result"
   ]
  },
  {
   "cell_type": "code",
   "execution_count": 73,
   "metadata": {},
   "outputs": [
    {
     "data": {
      "text/plain": [
       "360000000000.0"
      ]
     },
     "execution_count": 73,
     "metadata": {},
     "output_type": "execute_result"
    }
   ],
   "source": [
    "robust_variance(Variable_name='price', Data=Data, Method='MAD')"
   ]
  },
  {
   "cell_type": "code",
   "execution_count": 79,
   "metadata": {},
   "outputs": [
    {
     "data": {
      "text/plain": [
       "'3.60e+11'"
      ]
     },
     "execution_count": 79,
     "metadata": {},
     "output_type": "execute_result"
    }
   ],
   "source": [
    "\"{:.2e}\".format(360000000000.0)"
   ]
  },
  {
   "cell_type": "markdown",
   "metadata": {},
   "source": []
  },
  {
   "cell_type": "code",
   "execution_count": 74,
   "metadata": {},
   "outputs": [
    {
     "data": {
      "text/plain": [
       "832490913271.5988"
      ]
     },
     "execution_count": 74,
     "metadata": {},
     "output_type": "execute_result"
    }
   ],
   "source": [
    "robust_variance(Variable_name='price', Data=Data, Method='trimmed variance', alpha=0.1)"
   ]
  },
  {
   "cell_type": "code",
   "execution_count": 82,
   "metadata": {},
   "outputs": [
    {
     "data": {
      "text/plain": [
       "'8.32e+11'"
      ]
     },
     "execution_count": 82,
     "metadata": {},
     "output_type": "execute_result"
    }
   ],
   "source": [
    "\"{:.2e}\".format(832490913271.5988)"
   ]
  },
  {
   "cell_type": "markdown",
   "metadata": {},
   "source": []
  },
  {
   "cell_type": "code",
   "execution_count": 75,
   "metadata": {},
   "outputs": [
    {
     "data": {
      "text/plain": [
       "1323697340206.3564"
      ]
     },
     "execution_count": 75,
     "metadata": {},
     "output_type": "execute_result"
    }
   ],
   "source": [
    "robust_variance(Variable_name='price', Data=Data, Method='winsorized variance', alpha=0.1)"
   ]
  },
  {
   "cell_type": "code",
   "execution_count": 81,
   "metadata": {},
   "outputs": [
    {
     "data": {
      "text/plain": [
       "'1.32e+12'"
      ]
     },
     "execution_count": 81,
     "metadata": {},
     "output_type": "execute_result"
    }
   ],
   "source": [
    "\"{:.2e}\".format(1323697340206.3564)"
   ]
  },
  {
   "cell_type": "markdown",
   "metadata": {},
   "source": []
  },
  {
   "cell_type": "code",
   "execution_count": 78,
   "metadata": {},
   "outputs": [
    {
     "data": {
      "text/plain": [
       "8486734015707.786"
      ]
     },
     "execution_count": 78,
     "metadata": {},
     "output_type": "execute_result"
    }
   ],
   "source": [
    "Data['price'].var()"
   ]
  },
  {
   "cell_type": "code",
   "execution_count": 80,
   "metadata": {},
   "outputs": [
    {
     "data": {
      "text/plain": [
       "'8.49e+12'"
      ]
     },
     "execution_count": 80,
     "metadata": {},
     "output_type": "execute_result"
    }
   ],
   "source": [
    "\"{:.2e}\".format(8486734015707.786)"
   ]
  },
  {
   "cell_type": "markdown",
   "metadata": {},
   "source": []
  },
  {
   "attachments": {},
   "cell_type": "markdown",
   "metadata": {},
   "source": [
    "## Estimacion Robusta de la matriz de covarianzas"
   ]
  },
  {
   "attachments": {},
   "cell_type": "markdown",
   "metadata": {},
   "source": [
    "### Estimacion robusta de la covarianza"
   ]
  },
  {
   "cell_type": "code",
   "execution_count": 83,
   "metadata": {},
   "outputs": [],
   "source": [
    "def robust_correlation(Variable_name_1, Variable_name_2, Data, Method, alpha=None) :\n",
    "\n",
    "    New_Data = pd.DataFrame()\n",
    "\n",
    "    New_Data[Variable_name_1 + '_standard'] = Data[Variable_name_1] / np.sqrt( robust_variance(Variable_name_1, Data, Method, alpha) )\n",
    "    New_Data[Variable_name_2 + '_standard'] = Data[Variable_name_2] / np.sqrt( robust_variance(Variable_name_2, Data, Method, alpha) )\n",
    "\n",
    "\n",
    "    New_Data[Variable_name_1 + '_standard' + '+' + Variable_name_2 + '_standard'] = New_Data[Variable_name_1 + '_standard'] + New_Data[Variable_name_2 + '_standard']\n",
    "    New_Data[Variable_name_1 + '_standard' + '-' + Variable_name_2 + '_standard'] = New_Data[Variable_name_1 + '_standard'] - New_Data[Variable_name_2 + '_standard']\n",
    "\n",
    "    robust_var_3 = robust_variance(Data=New_Data, Method=Method, alpha=alpha, Variable_name=Variable_name_1 + '_standard' + '+' + Variable_name_2 + '_standard')\n",
    "    robust_var_4 = robust_variance(Data=New_Data, Method=Method, alpha=alpha, Variable_name=Variable_name_1 + '_standard' + '-' + Variable_name_2 + '_standard')\n",
    "\n",
    "    robust_corr = (robust_var_3 - robust_var_4) / (robust_var_3 + robust_var_4)\n",
    "\n",
    "    return robust_corr\n"
   ]
  },
  {
   "cell_type": "code",
   "execution_count": 84,
   "metadata": {},
   "outputs": [
    {
     "data": {
      "text/plain": [
       "0.7728974930919974"
      ]
     },
     "execution_count": 84,
     "metadata": {},
     "output_type": "execute_result"
    }
   ],
   "source": [
    "robust_correlation(Variable_name_1='price', Variable_name_2='size_in_m_2', Data=Data, Method='trimmed variance', alpha=0.1)"
   ]
  },
  {
   "cell_type": "code",
   "execution_count": 85,
   "metadata": {},
   "outputs": [],
   "source": [
    "def robust_covariance(Variable_name_1, Variable_name_2, Data, Method, alpha=None) :\n",
    "\n",
    "    robust_var_1 = robust_variance(Variable_name=Variable_name_1, Data=Data, Method='trimmed variance', alpha=0.1)\n",
    "    robust_var_2 = robust_variance(Variable_name=Variable_name_2, Data=Data, Method='trimmed variance', alpha=0.1)\n",
    "\n",
    "    robust_corr = robust_correlation(Variable_name_1, Variable_name_2, Data, Method, alpha)\n",
    "\n",
    "    robust_cov = robust_corr * np.sqrt( robust_var_1 * robust_var_2 )\n",
    "\n",
    "    return robust_cov"
   ]
  },
  {
   "cell_type": "code",
   "execution_count": 86,
   "metadata": {},
   "outputs": [
    {
     "data": {
      "text/plain": [
       "34302445.56492977"
      ]
     },
     "execution_count": 86,
     "metadata": {},
     "output_type": "execute_result"
    }
   ],
   "source": [
    "robust_covariance(Variable_name_1='price', Variable_name_2='size_in_m_2', Data=Data, Method='trimmed variance', alpha=0.1)"
   ]
  },
  {
   "cell_type": "markdown",
   "metadata": {},
   "source": []
  },
  {
   "attachments": {},
   "cell_type": "markdown",
   "metadata": {},
   "source": [
    "### Robust covariance matrix"
   ]
  },
  {
   "cell_type": "code",
   "execution_count": 87,
   "metadata": {},
   "outputs": [],
   "source": [
    "def robust_covariance_matrix(Data, Method, alpha):\n",
    "\n",
    "    p = len(Data.columns)\n",
    "\n",
    "    M =  np.empty((p , p))\n",
    "\n",
    "    for i in zip(Data.columns, range(0,p)) :\n",
    "\n",
    "        for j in zip(Data.columns, range(0,p)) :\n",
    "\n",
    "            M[i[1],j[1]] = robust_covariance(Variable_name_1=i[0], Variable_name_2=j[0], Data=Data, Method=Method, alpha=alpha)\n",
    "\n",
    "    M = pd.DataFrame(M, columns=Data.columns, index=Data.columns)\n",
    "\n",
    "    return M    "
   ]
  },
  {
   "cell_type": "code",
   "execution_count": 88,
   "metadata": {},
   "outputs": [
    {
     "data": {
      "text/html": [
       "<div>\n",
       "<style scoped>\n",
       "    .dataframe tbody tr th:only-of-type {\n",
       "        vertical-align: middle;\n",
       "    }\n",
       "\n",
       "    .dataframe tbody tr th {\n",
       "        vertical-align: top;\n",
       "    }\n",
       "\n",
       "    .dataframe thead th {\n",
       "        text-align: right;\n",
       "    }\n",
       "</style>\n",
       "<table border=\"1\" class=\"dataframe\">\n",
       "  <thead>\n",
       "    <tr style=\"text-align: right;\">\n",
       "      <th></th>\n",
       "      <th>latitude</th>\n",
       "      <th>longitude</th>\n",
       "      <th>price</th>\n",
       "      <th>size_in_m_2</th>\n",
       "      <th>no_of_bedrooms</th>\n",
       "      <th>no_of_bathrooms</th>\n",
       "    </tr>\n",
       "  </thead>\n",
       "  <tbody>\n",
       "    <tr>\n",
       "      <th>latitude</th>\n",
       "      <td>0.003010</td>\n",
       "      <td>0.002331</td>\n",
       "      <td>2.065034e+04</td>\n",
       "      <td>4.304446e-01</td>\n",
       "      <td>0.005276</td>\n",
       "      <td>0.006946</td>\n",
       "    </tr>\n",
       "    <tr>\n",
       "      <th>longitude</th>\n",
       "      <td>0.002331</td>\n",
       "      <td>0.003457</td>\n",
       "      <td>1.741264e+03</td>\n",
       "      <td>-2.035948e-01</td>\n",
       "      <td>-0.002405</td>\n",
       "      <td>-0.001723</td>\n",
       "    </tr>\n",
       "    <tr>\n",
       "      <th>price</th>\n",
       "      <td>20650.339163</td>\n",
       "      <td>1741.263535</td>\n",
       "      <td>8.324909e+11</td>\n",
       "      <td>3.430245e+07</td>\n",
       "      <td>521260.097890</td>\n",
       "      <td>536099.808508</td>\n",
       "    </tr>\n",
       "    <tr>\n",
       "      <th>size_in_m_2</th>\n",
       "      <td>0.430445</td>\n",
       "      <td>-0.203595</td>\n",
       "      <td>3.430245e+07</td>\n",
       "      <td>2.366066e+03</td>\n",
       "      <td>35.655187</td>\n",
       "      <td>35.555629</td>\n",
       "    </tr>\n",
       "    <tr>\n",
       "      <th>no_of_bedrooms</th>\n",
       "      <td>0.005276</td>\n",
       "      <td>-0.002405</td>\n",
       "      <td>5.212601e+05</td>\n",
       "      <td>3.565519e+01</td>\n",
       "      <td>0.714918</td>\n",
       "      <td>0.671781</td>\n",
       "    </tr>\n",
       "    <tr>\n",
       "      <th>no_of_bathrooms</th>\n",
       "      <td>0.006946</td>\n",
       "      <td>-0.001723</td>\n",
       "      <td>5.360998e+05</td>\n",
       "      <td>3.555563e+01</td>\n",
       "      <td>0.671781</td>\n",
       "      <td>0.832571</td>\n",
       "    </tr>\n",
       "  </tbody>\n",
       "</table>\n",
       "</div>"
      ],
      "text/plain": [
       "                     latitude    longitude         price   size_in_m_2  \\\n",
       "latitude             0.003010     0.002331  2.065034e+04  4.304446e-01   \n",
       "longitude            0.002331     0.003457  1.741264e+03 -2.035948e-01   \n",
       "price            20650.339163  1741.263535  8.324909e+11  3.430245e+07   \n",
       "size_in_m_2          0.430445    -0.203595  3.430245e+07  2.366066e+03   \n",
       "no_of_bedrooms       0.005276    -0.002405  5.212601e+05  3.565519e+01   \n",
       "no_of_bathrooms      0.006946    -0.001723  5.360998e+05  3.555563e+01   \n",
       "\n",
       "                 no_of_bedrooms  no_of_bathrooms  \n",
       "latitude               0.005276         0.006946  \n",
       "longitude             -0.002405        -0.001723  \n",
       "price             521260.097890    536099.808508  \n",
       "size_in_m_2           35.655187        35.555629  \n",
       "no_of_bedrooms         0.714918         0.671781  \n",
       "no_of_bathrooms        0.671781         0.832571  "
      ]
     },
     "execution_count": 88,
     "metadata": {},
     "output_type": "execute_result"
    }
   ],
   "source": [
    "robust_cov_matrix = robust_covariance_matrix(Data=Data_quant, Method='trimmed variance', alpha=0.1)\n",
    "\n",
    "robust_cov_matrix"
   ]
  },
  {
   "cell_type": "markdown",
   "metadata": {},
   "source": []
  },
  {
   "cell_type": "code",
   "execution_count": 89,
   "metadata": {},
   "outputs": [
    {
     "data": {
      "text/plain": [
       "array([8.32490915e+11, 9.53049654e+02, 3.85400660e-01, 6.00320283e-04,\n",
       "       5.06854415e-03, 8.90165706e-02])"
      ]
     },
     "execution_count": 89,
     "metadata": {},
     "output_type": "execute_result"
    }
   ],
   "source": [
    "np.linalg.eigvals(robust_cov_matrix)"
   ]
  },
  {
   "cell_type": "code",
   "execution_count": 90,
   "metadata": {},
   "outputs": [
    {
     "data": {
      "text/plain": [
       "array([ True,  True,  True,  True,  True,  True])"
      ]
     },
     "execution_count": 90,
     "metadata": {},
     "output_type": "execute_result"
    }
   ],
   "source": [
    "np.linalg.eigvals(robust_cov_matrix) > 0 \n",
    "\n",
    "# Es definida positiva, en teoria, aunque algun autovalor es bastante cercano a cero --> podria ser semi-definida positiva."
   ]
  },
  {
   "cell_type": "markdown",
   "metadata": {},
   "source": []
  },
  {
   "cell_type": "code",
   "execution_count": 91,
   "metadata": {},
   "outputs": [
    {
     "data": {
      "text/plain": [
       "array([[ 1.10747726e+03, -7.12768503e+02, -3.76930562e-05,\n",
       "         1.21561254e-01,  1.23610815e+01, -1.60925879e+00],\n",
       "       [-7.12768503e+02,  7.55450758e+02,  2.01643913e-05,\n",
       "         2.49969085e-02, -8.27393484e+00,  1.34708082e-01],\n",
       "       [-3.76930562e-05,  2.01643913e-05,  4.33755679e-12,\n",
       "        -4.69911282e-08, -2.85097114e-07, -1.99950401e-07],\n",
       "       [ 1.21561254e-01,  2.49969085e-02, -4.69911282e-08,\n",
       "         2.38565469e-03, -7.16467823e-02, -1.47757963e-02],\n",
       "       [ 1.23610815e+01, -8.27393484e+00, -2.85097114e-07,\n",
       "        -7.16467823e-02,  8.79282927e+00, -3.97165571e+00],\n",
       "       [-1.60925879e+00,  1.34708082e-01, -1.99950401e-07,\n",
       "        -1.47757963e-02, -3.97165571e+00,  5.17919539e+00]])"
      ]
     },
     "execution_count": 91,
     "metadata": {},
     "output_type": "execute_result"
    }
   ],
   "source": [
    "np.linalg.inv(robust_cov_matrix) # inversa"
   ]
  },
  {
   "cell_type": "code",
   "execution_count": 92,
   "metadata": {},
   "outputs": [
    {
     "data": {
      "text/plain": [
       "array([[ 7.49823380e+01,  9.57622419e+01, -4.54063866e-06,\n",
       "         5.88424176e-02,  6.18772468e-01, -5.15011951e-01],\n",
       "       [ 9.57622418e+01,  1.22302884e+02, -5.79675225e-06,\n",
       "         7.41110574e-02,  9.21285031e-01, -7.22179686e-01],\n",
       "       [-4.54063865e-06, -5.79675224e-06,  3.27306459e-12,\n",
       "        -4.49772868e-08,  9.19371199e-08, -2.35085612e-07],\n",
       "       [ 5.88424158e-02,  7.41110553e-02, -4.49772867e-08,\n",
       "         2.38184484e-03, -7.23600681e-02, -1.47093263e-02],\n",
       "       [ 6.18772499e-01,  9.21285074e-01,  9.19371178e-08,\n",
       "        -7.23600681e-02,  8.65928690e+00, -3.95921111e+00],\n",
       "       [-5.15011909e-01, -7.22179635e-01, -2.35085615e-07,\n",
       "        -1.47093263e-02, -3.95921111e+00,  5.17803570e+00]])"
      ]
     },
     "execution_count": 92,
     "metadata": {},
     "output_type": "execute_result"
    }
   ],
   "source": [
    "np.linalg.pinv(robust_cov_matrix) # pseudo-inversa"
   ]
  },
  {
   "cell_type": "markdown",
   "metadata": {},
   "source": []
  },
  {
   "attachments": {},
   "cell_type": "markdown",
   "metadata": {},
   "source": [
    "- Si es definida positiva (autovalores > 0) --> tiene inversa\n",
    "\n",
    "- Si es semidefinida positiva (autovalores > 0 y alguno = 0) --> no tienen inversa , pero se puede calcular la g-inversa o pseudo-inversa\n",
    "\n",
    "- Si es no definida positiva (algun autovalor < 0) --> pueden salir distancias negativas \n",
    "\n",
    "\n",
    "Que sea R definida positiva equivale a que S tambien lo es."
   ]
  },
  {
   "cell_type": "markdown",
   "metadata": {},
   "source": []
  },
  {
   "attachments": {},
   "cell_type": "markdown",
   "metadata": {},
   "source": [
    "### Robust correlation matrix"
   ]
  },
  {
   "cell_type": "code",
   "execution_count": 94,
   "metadata": {},
   "outputs": [],
   "source": [
    "def robust_correlation_matrix(Data, Method, alpha=None):\n",
    "\n",
    "    p = len(Data.columns)\n",
    "\n",
    "    M =  np.empty((p , p))\n",
    "\n",
    "    for i in zip(Data.columns, range(0,p)) :\n",
    "\n",
    "        for j in zip(Data.columns, range(0,p)) :\n",
    "\n",
    "            M[i[1],j[1]] = robust_correlation(Variable_name_1=i[0], Variable_name_2=j[0], Data=Data, Method=Method, alpha=alpha)\n",
    "\n",
    "    M = pd.DataFrame(M, columns=Data.columns, index=Data.columns)\n",
    "\n",
    "    return M    "
   ]
  },
  {
   "cell_type": "code",
   "execution_count": 95,
   "metadata": {},
   "outputs": [],
   "source": [
    "robust_corr_matrix = robust_correlation_matrix(Data=Data_quant, Method='trimmed variance', alpha=0.1)"
   ]
  },
  {
   "cell_type": "code",
   "execution_count": 96,
   "metadata": {},
   "outputs": [
    {
     "data": {
      "text/html": [
       "<div>\n",
       "<style scoped>\n",
       "    .dataframe tbody tr th:only-of-type {\n",
       "        vertical-align: middle;\n",
       "    }\n",
       "\n",
       "    .dataframe tbody tr th {\n",
       "        vertical-align: top;\n",
       "    }\n",
       "\n",
       "    .dataframe thead th {\n",
       "        text-align: right;\n",
       "    }\n",
       "</style>\n",
       "<table border=\"1\" class=\"dataframe\">\n",
       "  <thead>\n",
       "    <tr style=\"text-align: right;\">\n",
       "      <th></th>\n",
       "      <th>latitude</th>\n",
       "      <th>longitude</th>\n",
       "      <th>price</th>\n",
       "      <th>size_in_m_2</th>\n",
       "      <th>no_of_bedrooms</th>\n",
       "      <th>no_of_bathrooms</th>\n",
       "    </tr>\n",
       "  </thead>\n",
       "  <tbody>\n",
       "    <tr>\n",
       "      <th>latitude</th>\n",
       "      <td>1.000000</td>\n",
       "      <td>0.722603</td>\n",
       "      <td>0.412529</td>\n",
       "      <td>0.161295</td>\n",
       "      <td>0.113745</td>\n",
       "      <td>0.138755</td>\n",
       "    </tr>\n",
       "    <tr>\n",
       "      <th>longitude</th>\n",
       "      <td>0.722603</td>\n",
       "      <td>1.000000</td>\n",
       "      <td>0.032457</td>\n",
       "      <td>-0.071185</td>\n",
       "      <td>-0.048367</td>\n",
       "      <td>-0.032119</td>\n",
       "    </tr>\n",
       "    <tr>\n",
       "      <th>price</th>\n",
       "      <td>0.412529</td>\n",
       "      <td>0.032457</td>\n",
       "      <td>1.000000</td>\n",
       "      <td>0.772897</td>\n",
       "      <td>0.675673</td>\n",
       "      <td>0.643940</td>\n",
       "    </tr>\n",
       "    <tr>\n",
       "      <th>size_in_m_2</th>\n",
       "      <td>0.161295</td>\n",
       "      <td>-0.071185</td>\n",
       "      <td>0.772897</td>\n",
       "      <td>1.000000</td>\n",
       "      <td>0.866924</td>\n",
       "      <td>0.801095</td>\n",
       "    </tr>\n",
       "    <tr>\n",
       "      <th>no_of_bedrooms</th>\n",
       "      <td>0.113745</td>\n",
       "      <td>-0.048367</td>\n",
       "      <td>0.675673</td>\n",
       "      <td>0.866924</td>\n",
       "      <td>1.000000</td>\n",
       "      <td>0.870740</td>\n",
       "    </tr>\n",
       "    <tr>\n",
       "      <th>no_of_bathrooms</th>\n",
       "      <td>0.138755</td>\n",
       "      <td>-0.032119</td>\n",
       "      <td>0.643940</td>\n",
       "      <td>0.801095</td>\n",
       "      <td>0.870740</td>\n",
       "      <td>1.000000</td>\n",
       "    </tr>\n",
       "  </tbody>\n",
       "</table>\n",
       "</div>"
      ],
      "text/plain": [
       "                 latitude  longitude     price  size_in_m_2  no_of_bedrooms  \\\n",
       "latitude         1.000000   0.722603  0.412529     0.161295        0.113745   \n",
       "longitude        0.722603   1.000000  0.032457    -0.071185       -0.048367   \n",
       "price            0.412529   0.032457  1.000000     0.772897        0.675673   \n",
       "size_in_m_2      0.161295  -0.071185  0.772897     1.000000        0.866924   \n",
       "no_of_bedrooms   0.113745  -0.048367  0.675673     0.866924        1.000000   \n",
       "no_of_bathrooms  0.138755  -0.032119  0.643940     0.801095        0.870740   \n",
       "\n",
       "                 no_of_bathrooms  \n",
       "latitude                0.138755  \n",
       "longitude              -0.032119  \n",
       "price                   0.643940  \n",
       "size_in_m_2             0.801095  \n",
       "no_of_bedrooms          0.870740  \n",
       "no_of_bathrooms         1.000000  "
      ]
     },
     "execution_count": 96,
     "metadata": {},
     "output_type": "execute_result"
    }
   ],
   "source": [
    "robust_corr_matrix"
   ]
  },
  {
   "cell_type": "markdown",
   "metadata": {},
   "source": []
  },
  {
   "cell_type": "code",
   "execution_count": 97,
   "metadata": {},
   "outputs": [
    {
     "data": {
      "text/plain": [
       "array([3.3919324 , 1.72632868, 0.45997034, 0.1885535 , 0.13179268,\n",
       "       0.10142239])"
      ]
     },
     "execution_count": 97,
     "metadata": {},
     "output_type": "execute_result"
    }
   ],
   "source": [
    "np.linalg.eigvals(robust_corr_matrix)"
   ]
  },
  {
   "cell_type": "code",
   "execution_count": 98,
   "metadata": {},
   "outputs": [
    {
     "data": {
      "text/plain": [
       "array([ True,  True,  True,  True,  True,  True])"
      ]
     },
     "execution_count": 98,
     "metadata": {},
     "output_type": "execute_result"
    }
   ],
   "source": [
    "np.linalg.eigvals(robust_corr_matrix) > 0"
   ]
  },
  {
   "cell_type": "markdown",
   "metadata": {},
   "source": []
  },
  {
   "cell_type": "markdown",
   "metadata": {},
   "source": []
  },
  {
   "attachments": {},
   "cell_type": "markdown",
   "metadata": {},
   "source": [
    "## z-transformation"
   ]
  },
  {
   "cell_type": "code",
   "execution_count": 159,
   "metadata": {},
   "outputs": [],
   "source": [
    "def corr_matrix_z_transformation(corr_matrix) : \n",
    "\n",
    "    def z(x) :  return np.arctanh(x)\n",
    "\n",
    "    def z_inv(x) :  return np.tanh(x) # la arctanh es la inversa de tanh, por tanto, la inversa de arctanh es tanh\n",
    "\n",
    "\n",
    "    # Suponenmos que corr_matrix es un pandas data-frame\n",
    "\n",
    "    def h(i,j, corr_matrix) :\n",
    "\n",
    "        epsilon = 0.05\n",
    "\n",
    "        R = corr_matrix.to_numpy()\n",
    "\n",
    "        if i == j : \n",
    "            \n",
    "            result = 1\n",
    "\n",
    "        else:\n",
    "\n",
    "            if np.abs(R[i,j]) <= z(epsilon) :  result = 0\n",
    "\n",
    "            elif R[i,j] < - z(epsilon) : result = z_inv( R[i,j] + epsilon )\n",
    "\n",
    "            elif R[i,j] > z(epsilon) : result = z_inv( R[i,j] - epsilon )\n",
    "\n",
    "        \n",
    "        return result\n",
    "    \n",
    "\n",
    "\n",
    "    p = corr_matrix.shape[0]\n",
    "\n",
    "    M =  np.empty((p , p))\n",
    "\n",
    "    for i in range(0,p) :\n",
    "\n",
    "        for j in range(0,p) :\n",
    "\n",
    "            M[i,j] = h(i,j, corr_matrix)\n",
    "\n",
    "    M = pd.DataFrame(M, columns=corr_matrix.columns, index=corr_matrix.columns)\n",
    "\n",
    "    return M    "
   ]
  },
  {
   "cell_type": "code",
   "execution_count": 100,
   "metadata": {},
   "outputs": [],
   "source": [
    "robust_corr_matrix = robust_correlation_matrix(Data=Data_quant, Method='trimmed variance', alpha=0.1)"
   ]
  },
  {
   "cell_type": "code",
   "execution_count": 157,
   "metadata": {},
   "outputs": [
    {
     "data": {
      "text/html": [
       "<div>\n",
       "<style scoped>\n",
       "    .dataframe tbody tr th:only-of-type {\n",
       "        vertical-align: middle;\n",
       "    }\n",
       "\n",
       "    .dataframe tbody tr th {\n",
       "        vertical-align: top;\n",
       "    }\n",
       "\n",
       "    .dataframe thead th {\n",
       "        text-align: right;\n",
       "    }\n",
       "</style>\n",
       "<table border=\"1\" class=\"dataframe\">\n",
       "  <thead>\n",
       "    <tr style=\"text-align: right;\">\n",
       "      <th></th>\n",
       "      <th>latitude</th>\n",
       "      <th>longitude</th>\n",
       "      <th>price</th>\n",
       "      <th>size_in_m_2</th>\n",
       "      <th>no_of_bedrooms</th>\n",
       "      <th>no_of_bathrooms</th>\n",
       "    </tr>\n",
       "  </thead>\n",
       "  <tbody>\n",
       "    <tr>\n",
       "      <th>latitude</th>\n",
       "      <td>1.000000</td>\n",
       "      <td>0.722603</td>\n",
       "      <td>0.412529</td>\n",
       "      <td>0.161295</td>\n",
       "      <td>0.113745</td>\n",
       "      <td>0.138755</td>\n",
       "    </tr>\n",
       "    <tr>\n",
       "      <th>longitude</th>\n",
       "      <td>0.722603</td>\n",
       "      <td>1.000000</td>\n",
       "      <td>0.032457</td>\n",
       "      <td>-0.071185</td>\n",
       "      <td>-0.048367</td>\n",
       "      <td>-0.032119</td>\n",
       "    </tr>\n",
       "    <tr>\n",
       "      <th>price</th>\n",
       "      <td>0.412529</td>\n",
       "      <td>0.032457</td>\n",
       "      <td>1.000000</td>\n",
       "      <td>0.772897</td>\n",
       "      <td>0.675673</td>\n",
       "      <td>0.643940</td>\n",
       "    </tr>\n",
       "    <tr>\n",
       "      <th>size_in_m_2</th>\n",
       "      <td>0.161295</td>\n",
       "      <td>-0.071185</td>\n",
       "      <td>0.772897</td>\n",
       "      <td>1.000000</td>\n",
       "      <td>0.866924</td>\n",
       "      <td>0.801095</td>\n",
       "    </tr>\n",
       "    <tr>\n",
       "      <th>no_of_bedrooms</th>\n",
       "      <td>0.113745</td>\n",
       "      <td>-0.048367</td>\n",
       "      <td>0.675673</td>\n",
       "      <td>0.866924</td>\n",
       "      <td>1.000000</td>\n",
       "      <td>0.870740</td>\n",
       "    </tr>\n",
       "    <tr>\n",
       "      <th>no_of_bathrooms</th>\n",
       "      <td>0.138755</td>\n",
       "      <td>-0.032119</td>\n",
       "      <td>0.643940</td>\n",
       "      <td>0.801095</td>\n",
       "      <td>0.870740</td>\n",
       "      <td>1.000000</td>\n",
       "    </tr>\n",
       "  </tbody>\n",
       "</table>\n",
       "</div>"
      ],
      "text/plain": [
       "                 latitude  longitude     price  size_in_m_2  no_of_bedrooms  \\\n",
       "latitude         1.000000   0.722603  0.412529     0.161295        0.113745   \n",
       "longitude        0.722603   1.000000  0.032457    -0.071185       -0.048367   \n",
       "price            0.412529   0.032457  1.000000     0.772897        0.675673   \n",
       "size_in_m_2      0.161295  -0.071185  0.772897     1.000000        0.866924   \n",
       "no_of_bedrooms   0.113745  -0.048367  0.675673     0.866924        1.000000   \n",
       "no_of_bathrooms  0.138755  -0.032119  0.643940     0.801095        0.870740   \n",
       "\n",
       "                 no_of_bathrooms  \n",
       "latitude                0.138755  \n",
       "longitude              -0.032119  \n",
       "price                   0.643940  \n",
       "size_in_m_2             0.801095  \n",
       "no_of_bedrooms          0.870740  \n",
       "no_of_bathrooms         1.000000  "
      ]
     },
     "execution_count": 157,
     "metadata": {},
     "output_type": "execute_result"
    }
   ],
   "source": [
    "robust_corr_matrix"
   ]
  },
  {
   "attachments": {},
   "cell_type": "markdown",
   "metadata": {},
   "source": [
    "La z-transformación lo que hace, a grosso modo, es:\n",
    "\n",
    "- Si $r_{ij} > 0.05$ $\\Rightarrow$ transforma $r_{ij}$ en una correlacion un poco **menor**\n",
    "\n",
    "- Si $r_{ij} < - 0.05$ $\\Rightarrow$ transforma $r_{ij}$ en una correlacion un poco **mayor**\n",
    "\n",
    "- Si $r_{ij} \\in [-0.05 , 0.05] $ $\\Rightarrow$ transforma $r_{ij}$ en  $0$\n"
   ]
  },
  {
   "cell_type": "code",
   "execution_count": 160,
   "metadata": {},
   "outputs": [
    {
     "data": {
      "text/html": [
       "<div>\n",
       "<style scoped>\n",
       "    .dataframe tbody tr th:only-of-type {\n",
       "        vertical-align: middle;\n",
       "    }\n",
       "\n",
       "    .dataframe tbody tr th {\n",
       "        vertical-align: top;\n",
       "    }\n",
       "\n",
       "    .dataframe thead th {\n",
       "        text-align: right;\n",
       "    }\n",
       "</style>\n",
       "<table border=\"1\" class=\"dataframe\">\n",
       "  <thead>\n",
       "    <tr style=\"text-align: right;\">\n",
       "      <th></th>\n",
       "      <th>latitude</th>\n",
       "      <th>longitude</th>\n",
       "      <th>price</th>\n",
       "      <th>size_in_m_2</th>\n",
       "      <th>no_of_bedrooms</th>\n",
       "      <th>no_of_bathrooms</th>\n",
       "    </tr>\n",
       "  </thead>\n",
       "  <tbody>\n",
       "    <tr>\n",
       "      <th>latitude</th>\n",
       "      <td>1.000000</td>\n",
       "      <td>0.586690</td>\n",
       "      <td>0.347440</td>\n",
       "      <td>0.110838</td>\n",
       "      <td>0.063659</td>\n",
       "      <td>0.088523</td>\n",
       "    </tr>\n",
       "    <tr>\n",
       "      <th>longitude</th>\n",
       "      <td>0.586690</td>\n",
       "      <td>1.000000</td>\n",
       "      <td>0.000000</td>\n",
       "      <td>-0.021181</td>\n",
       "      <td>0.000000</td>\n",
       "      <td>0.000000</td>\n",
       "    </tr>\n",
       "    <tr>\n",
       "      <th>price</th>\n",
       "      <td>0.347440</td>\n",
       "      <td>0.000000</td>\n",
       "      <td>1.000000</td>\n",
       "      <td>0.618701</td>\n",
       "      <td>0.555066</td>\n",
       "      <td>0.532723</td>\n",
       "    </tr>\n",
       "    <tr>\n",
       "      <th>size_in_m_2</th>\n",
       "      <td>0.110838</td>\n",
       "      <td>-0.021181</td>\n",
       "      <td>0.618701</td>\n",
       "      <td>1.000000</td>\n",
       "      <td>0.673392</td>\n",
       "      <td>0.635802</td>\n",
       "    </tr>\n",
       "    <tr>\n",
       "      <th>no_of_bedrooms</th>\n",
       "      <td>0.063659</td>\n",
       "      <td>0.000000</td>\n",
       "      <td>0.555066</td>\n",
       "      <td>0.673392</td>\n",
       "      <td>1.000000</td>\n",
       "      <td>0.675473</td>\n",
       "    </tr>\n",
       "    <tr>\n",
       "      <th>no_of_bathrooms</th>\n",
       "      <td>0.088523</td>\n",
       "      <td>0.000000</td>\n",
       "      <td>0.532723</td>\n",
       "      <td>0.635802</td>\n",
       "      <td>0.675473</td>\n",
       "      <td>1.000000</td>\n",
       "    </tr>\n",
       "  </tbody>\n",
       "</table>\n",
       "</div>"
      ],
      "text/plain": [
       "                 latitude  longitude     price  size_in_m_2  no_of_bedrooms  \\\n",
       "latitude         1.000000   0.586690  0.347440     0.110838        0.063659   \n",
       "longitude        0.586690   1.000000  0.000000    -0.021181        0.000000   \n",
       "price            0.347440   0.000000  1.000000     0.618701        0.555066   \n",
       "size_in_m_2      0.110838  -0.021181  0.618701     1.000000        0.673392   \n",
       "no_of_bedrooms   0.063659   0.000000  0.555066     0.673392        1.000000   \n",
       "no_of_bathrooms  0.088523   0.000000  0.532723     0.635802        0.675473   \n",
       "\n",
       "                 no_of_bathrooms  \n",
       "latitude                0.088523  \n",
       "longitude               0.000000  \n",
       "price                   0.532723  \n",
       "size_in_m_2             0.635802  \n",
       "no_of_bedrooms          0.675473  \n",
       "no_of_bathrooms         1.000000  "
      ]
     },
     "execution_count": 160,
     "metadata": {},
     "output_type": "execute_result"
    }
   ],
   "source": [
    "robust_corr_matrix_transformed  =  corr_matrix_z_transformation(corr_matrix=robust_corr_matrix)\n",
    "robust_corr_matrix_transformed"
   ]
  },
  {
   "cell_type": "markdown",
   "metadata": {},
   "source": []
  },
  {
   "attachments": {},
   "cell_type": "markdown",
   "metadata": {},
   "source": [
    "No parece que la transformacion venga bien en este caso, quiza porque robust_corr_matrix ya era definida positiva. \n",
    "Porque robust_corr_matrix_transformed es no definida positba, puesto que tiene un autovalor negativo. Se puede ver que cada uno de los autovalores es algo menor en la version trandformada que en la original. No se si en el caso de que robust_corr_matrix no fuera DP, obtendriamos resultados mas adecuados con la transformacion, habria que mirarlo.  "
   ]
  },
  {
   "cell_type": "code",
   "execution_count": 103,
   "metadata": {},
   "outputs": [
    {
     "data": {
      "text/plain": [
       "array([3.3919324 , 1.72632868, 0.45997034, 0.1885535 , 0.13179268,\n",
       "       0.10142239])"
      ]
     },
     "execution_count": 103,
     "metadata": {},
     "output_type": "execute_result"
    }
   ],
   "source": [
    "np.linalg.eigvals(robust_corr_matrix)"
   ]
  },
  {
   "cell_type": "code",
   "execution_count": 104,
   "metadata": {},
   "outputs": [
    {
     "data": {
      "text/plain": [
       "array([ 2.6395382 ,  1.32068746,  0.34203904, -0.00805234,  0.09654807,\n",
       "        0.04793788])"
      ]
     },
     "execution_count": 104,
     "metadata": {},
     "output_type": "execute_result"
    }
   ],
   "source": [
    "np.linalg.eigvals(robust_corr_matrix_transformed)"
   ]
  },
  {
   "cell_type": "markdown",
   "metadata": {},
   "source": []
  },
  {
   "cell_type": "markdown",
   "metadata": {},
   "source": []
  },
  {
   "cell_type": "code",
   "execution_count": 161,
   "metadata": {},
   "outputs": [],
   "source": [
    "def cov_matrix_z_transformation(corr_matrix_z_transformed) : \n",
    "\n",
    "    M = np.diag(Data_quant.std()) @ corr_matrix_z_transformed @ np.diag(Data_quant.std()) \n",
    "\n",
    "    M.columns = corr_matrix_z_transformed.columns\n",
    "    M.index = corr_matrix_z_transformed.index\n",
    "\n",
    "    return M"
   ]
  },
  {
   "cell_type": "code",
   "execution_count": 162,
   "metadata": {},
   "outputs": [
    {
     "data": {
      "text/html": [
       "<div>\n",
       "<style scoped>\n",
       "    .dataframe tbody tr th:only-of-type {\n",
       "        vertical-align: middle;\n",
       "    }\n",
       "\n",
       "    .dataframe tbody tr th {\n",
       "        vertical-align: top;\n",
       "    }\n",
       "\n",
       "    .dataframe thead th {\n",
       "        text-align: right;\n",
       "    }\n",
       "</style>\n",
       "<table border=\"1\" class=\"dataframe\">\n",
       "  <thead>\n",
       "    <tr style=\"text-align: right;\">\n",
       "      <th></th>\n",
       "      <th>latitude</th>\n",
       "      <th>longitude</th>\n",
       "      <th>price</th>\n",
       "      <th>size_in_m_2</th>\n",
       "      <th>no_of_bedrooms</th>\n",
       "      <th>no_of_bathrooms</th>\n",
       "    </tr>\n",
       "  </thead>\n",
       "  <tbody>\n",
       "    <tr>\n",
       "      <th>latitude</th>\n",
       "      <td>0.003925</td>\n",
       "      <td>0.002528</td>\n",
       "      <td>6.340902e+04</td>\n",
       "      <td>5.750878e-01</td>\n",
       "      <td>3.786605e-03</td>\n",
       "      <td>5.895740e-03</td>\n",
       "    </tr>\n",
       "    <tr>\n",
       "      <th>longitude</th>\n",
       "      <td>0.002528</td>\n",
       "      <td>0.004733</td>\n",
       "      <td>0.000000e+00</td>\n",
       "      <td>-1.206847e-01</td>\n",
       "      <td>0.000000e+00</td>\n",
       "      <td>0.000000e+00</td>\n",
       "    </tr>\n",
       "    <tr>\n",
       "      <th>price</th>\n",
       "      <td>63409.019489</td>\n",
       "      <td>0.000000</td>\n",
       "      <td>8.486734e+12</td>\n",
       "      <td>1.492781e+08</td>\n",
       "      <td>1.535340e+06</td>\n",
       "      <td>1.649883e+06</td>\n",
       "    </tr>\n",
       "    <tr>\n",
       "      <th>size_in_m_2</th>\n",
       "      <td>0.575088</td>\n",
       "      <td>-0.120685</td>\n",
       "      <td>1.492781e+08</td>\n",
       "      <td>6.859463e+03</td>\n",
       "      <td>5.295453e+01</td>\n",
       "      <td>5.598196e+01</td>\n",
       "    </tr>\n",
       "    <tr>\n",
       "      <th>no_of_bedrooms</th>\n",
       "      <td>0.003787</td>\n",
       "      <td>0.000000</td>\n",
       "      <td>1.535340e+06</td>\n",
       "      <td>5.295453e+01</td>\n",
       "      <td>9.015290e-01</td>\n",
       "      <td>6.818342e-01</td>\n",
       "    </tr>\n",
       "    <tr>\n",
       "      <th>no_of_bathrooms</th>\n",
       "      <td>0.005896</td>\n",
       "      <td>0.000000</td>\n",
       "      <td>1.649883e+06</td>\n",
       "      <td>5.598196e+01</td>\n",
       "      <td>6.818342e-01</td>\n",
       "      <td>1.130218e+00</td>\n",
       "    </tr>\n",
       "  </tbody>\n",
       "</table>\n",
       "</div>"
      ],
      "text/plain": [
       "                     latitude  longitude         price   size_in_m_2  \\\n",
       "latitude             0.003925   0.002528  6.340902e+04  5.750878e-01   \n",
       "longitude            0.002528   0.004733  0.000000e+00 -1.206847e-01   \n",
       "price            63409.019489   0.000000  8.486734e+12  1.492781e+08   \n",
       "size_in_m_2          0.575088  -0.120685  1.492781e+08  6.859463e+03   \n",
       "no_of_bedrooms       0.003787   0.000000  1.535340e+06  5.295453e+01   \n",
       "no_of_bathrooms      0.005896   0.000000  1.649883e+06  5.598196e+01   \n",
       "\n",
       "                 no_of_bedrooms  no_of_bathrooms  \n",
       "latitude           3.786605e-03     5.895740e-03  \n",
       "longitude          0.000000e+00     0.000000e+00  \n",
       "price              1.535340e+06     1.649883e+06  \n",
       "size_in_m_2        5.295453e+01     5.598196e+01  \n",
       "no_of_bedrooms     9.015290e-01     6.818342e-01  \n",
       "no_of_bathrooms    6.818342e-01     1.130218e+00  "
      ]
     },
     "execution_count": 162,
     "metadata": {},
     "output_type": "execute_result"
    }
   ],
   "source": [
    "cov_matrix_z_transformation(corr_matrix_z_transformed = robust_corr_matrix_transformed)"
   ]
  },
  {
   "cell_type": "markdown",
   "metadata": {},
   "source": []
  },
  {
   "cell_type": "markdown",
   "metadata": {},
   "source": []
  },
  {
   "attachments": {},
   "cell_type": "markdown",
   "metadata": {},
   "source": [
    "## Algoritmo z-transformation"
   ]
  },
  {
   "cell_type": "code",
   "execution_count": 134,
   "metadata": {},
   "outputs": [],
   "source": [
    "def z_trans_algorithm(robust_corr_matrix, n_iters):\n",
    "    \n",
    "    R = robust_corr_matrix.copy()\n",
    "    \n",
    "    i = 0\n",
    "    \n",
    "    while i < n_iters:\n",
    "    \n",
    "        if np.all(np.linalg.eigvals(R) > 0):\n",
    "    \n",
    "            return R , i\n",
    "    \n",
    "        else:\n",
    "    \n",
    "            R = corr_matrix_z_transformation(corr_matrix=R)\n",
    "    \n",
    "            i = i + 1\n",
    "    \n",
    "    return R , i"
   ]
  },
  {
   "cell_type": "code",
   "execution_count": 135,
   "metadata": {},
   "outputs": [],
   "source": [
    "robust_corr_matriz_z_algorithm , i = z_trans_algorithm(robust_corr_matrix=robust_corr_matrix, n_iters=20)"
   ]
  },
  {
   "cell_type": "code",
   "execution_count": 120,
   "metadata": {},
   "outputs": [
    {
     "data": {
      "text/plain": [
       "0"
      ]
     },
     "execution_count": 120,
     "metadata": {},
     "output_type": "execute_result"
    }
   ],
   "source": [
    "i "
   ]
  },
  {
   "attachments": {},
   "cell_type": "markdown",
   "metadata": {},
   "source": [
    "como i=0, esto significa que directamente robust_corr_matrix ya era definida positiva.\n",
    "Por tanto, la matriz que nos devuelve (R) coincide con robust_corr_matrix"
   ]
  },
  {
   "cell_type": "code",
   "execution_count": 121,
   "metadata": {},
   "outputs": [
    {
     "data": {
      "text/html": [
       "<div>\n",
       "<style scoped>\n",
       "    .dataframe tbody tr th:only-of-type {\n",
       "        vertical-align: middle;\n",
       "    }\n",
       "\n",
       "    .dataframe tbody tr th {\n",
       "        vertical-align: top;\n",
       "    }\n",
       "\n",
       "    .dataframe thead th {\n",
       "        text-align: right;\n",
       "    }\n",
       "</style>\n",
       "<table border=\"1\" class=\"dataframe\">\n",
       "  <thead>\n",
       "    <tr style=\"text-align: right;\">\n",
       "      <th></th>\n",
       "      <th>latitude</th>\n",
       "      <th>longitude</th>\n",
       "      <th>price</th>\n",
       "      <th>size_in_m_2</th>\n",
       "      <th>no_of_bedrooms</th>\n",
       "      <th>no_of_bathrooms</th>\n",
       "    </tr>\n",
       "  </thead>\n",
       "  <tbody>\n",
       "    <tr>\n",
       "      <th>latitude</th>\n",
       "      <td>1.000000</td>\n",
       "      <td>0.722603</td>\n",
       "      <td>0.412529</td>\n",
       "      <td>0.161295</td>\n",
       "      <td>0.113745</td>\n",
       "      <td>0.138755</td>\n",
       "    </tr>\n",
       "    <tr>\n",
       "      <th>longitude</th>\n",
       "      <td>0.722603</td>\n",
       "      <td>1.000000</td>\n",
       "      <td>0.032457</td>\n",
       "      <td>-0.071185</td>\n",
       "      <td>-0.048367</td>\n",
       "      <td>-0.032119</td>\n",
       "    </tr>\n",
       "    <tr>\n",
       "      <th>price</th>\n",
       "      <td>0.412529</td>\n",
       "      <td>0.032457</td>\n",
       "      <td>1.000000</td>\n",
       "      <td>0.772897</td>\n",
       "      <td>0.675673</td>\n",
       "      <td>0.643940</td>\n",
       "    </tr>\n",
       "    <tr>\n",
       "      <th>size_in_m_2</th>\n",
       "      <td>0.161295</td>\n",
       "      <td>-0.071185</td>\n",
       "      <td>0.772897</td>\n",
       "      <td>1.000000</td>\n",
       "      <td>0.866924</td>\n",
       "      <td>0.801095</td>\n",
       "    </tr>\n",
       "    <tr>\n",
       "      <th>no_of_bedrooms</th>\n",
       "      <td>0.113745</td>\n",
       "      <td>-0.048367</td>\n",
       "      <td>0.675673</td>\n",
       "      <td>0.866924</td>\n",
       "      <td>1.000000</td>\n",
       "      <td>0.870740</td>\n",
       "    </tr>\n",
       "    <tr>\n",
       "      <th>no_of_bathrooms</th>\n",
       "      <td>0.138755</td>\n",
       "      <td>-0.032119</td>\n",
       "      <td>0.643940</td>\n",
       "      <td>0.801095</td>\n",
       "      <td>0.870740</td>\n",
       "      <td>1.000000</td>\n",
       "    </tr>\n",
       "  </tbody>\n",
       "</table>\n",
       "</div>"
      ],
      "text/plain": [
       "                 latitude  longitude     price  size_in_m_2  no_of_bedrooms  \\\n",
       "latitude         1.000000   0.722603  0.412529     0.161295        0.113745   \n",
       "longitude        0.722603   1.000000  0.032457    -0.071185       -0.048367   \n",
       "price            0.412529   0.032457  1.000000     0.772897        0.675673   \n",
       "size_in_m_2      0.161295  -0.071185  0.772897     1.000000        0.866924   \n",
       "no_of_bedrooms   0.113745  -0.048367  0.675673     0.866924        1.000000   \n",
       "no_of_bathrooms  0.138755  -0.032119  0.643940     0.801095        0.870740   \n",
       "\n",
       "                 no_of_bathrooms  \n",
       "latitude                0.138755  \n",
       "longitude              -0.032119  \n",
       "price                   0.643940  \n",
       "size_in_m_2             0.801095  \n",
       "no_of_bedrooms          0.870740  \n",
       "no_of_bathrooms         1.000000  "
      ]
     },
     "execution_count": 121,
     "metadata": {},
     "output_type": "execute_result"
    }
   ],
   "source": [
    "robust_corr_matriz_z_algorithm # coincide con robust_corr_matrix"
   ]
  },
  {
   "cell_type": "markdown",
   "metadata": {},
   "source": []
  },
  {
   "cell_type": "code",
   "execution_count": 122,
   "metadata": {},
   "outputs": [],
   "source": [
    "robust_corr_matriz_z_algorithm, i = z_trans_algorithm(robust_corr_matrix=robust_corr_matrix_transformed, n_iters=20)"
   ]
  },
  {
   "cell_type": "code",
   "execution_count": 123,
   "metadata": {},
   "outputs": [
    {
     "data": {
      "text/plain": [
       "5"
      ]
     },
     "execution_count": 123,
     "metadata": {},
     "output_type": "execute_result"
    }
   ],
   "source": [
    "i"
   ]
  },
  {
   "cell_type": "code",
   "execution_count": 124,
   "metadata": {},
   "outputs": [
    {
     "data": {
      "text/html": [
       "<div>\n",
       "<style scoped>\n",
       "    .dataframe tbody tr th:only-of-type {\n",
       "        vertical-align: middle;\n",
       "    }\n",
       "\n",
       "    .dataframe tbody tr th {\n",
       "        vertical-align: top;\n",
       "    }\n",
       "\n",
       "    .dataframe thead th {\n",
       "        text-align: right;\n",
       "    }\n",
       "</style>\n",
       "<table border=\"1\" class=\"dataframe\">\n",
       "  <thead>\n",
       "    <tr style=\"text-align: right;\">\n",
       "      <th></th>\n",
       "      <th>latitude</th>\n",
       "      <th>longitude</th>\n",
       "      <th>price</th>\n",
       "      <th>size_in_m_2</th>\n",
       "      <th>no_of_bedrooms</th>\n",
       "      <th>no_of_bathrooms</th>\n",
       "    </tr>\n",
       "  </thead>\n",
       "  <tbody>\n",
       "    <tr>\n",
       "      <th>latitude</th>\n",
       "      <td>0.295756</td>\n",
       "      <td>0.235670</td>\n",
       "      <td>0.081504</td>\n",
       "      <td>0.000000</td>\n",
       "      <td>0.000000</td>\n",
       "      <td>0.000000</td>\n",
       "    </tr>\n",
       "    <tr>\n",
       "      <th>longitude</th>\n",
       "      <td>0.235670</td>\n",
       "      <td>0.295756</td>\n",
       "      <td>0.000000</td>\n",
       "      <td>0.000000</td>\n",
       "      <td>0.000000</td>\n",
       "      <td>0.000000</td>\n",
       "    </tr>\n",
       "    <tr>\n",
       "      <th>price</th>\n",
       "      <td>0.081504</td>\n",
       "      <td>0.000000</td>\n",
       "      <td>0.295756</td>\n",
       "      <td>0.250348</td>\n",
       "      <td>0.219916</td>\n",
       "      <td>0.207994</td>\n",
       "    </tr>\n",
       "    <tr>\n",
       "      <th>size_in_m_2</th>\n",
       "      <td>0.000000</td>\n",
       "      <td>0.000000</td>\n",
       "      <td>0.250348</td>\n",
       "      <td>0.295756</td>\n",
       "      <td>0.272706</td>\n",
       "      <td>0.257694</td>\n",
       "    </tr>\n",
       "    <tr>\n",
       "      <th>no_of_bedrooms</th>\n",
       "      <td>0.000000</td>\n",
       "      <td>0.000000</td>\n",
       "      <td>0.219916</td>\n",
       "      <td>0.272706</td>\n",
       "      <td>0.295756</td>\n",
       "      <td>0.273493</td>\n",
       "    </tr>\n",
       "    <tr>\n",
       "      <th>no_of_bathrooms</th>\n",
       "      <td>0.000000</td>\n",
       "      <td>0.000000</td>\n",
       "      <td>0.207994</td>\n",
       "      <td>0.257694</td>\n",
       "      <td>0.273493</td>\n",
       "      <td>0.295756</td>\n",
       "    </tr>\n",
       "  </tbody>\n",
       "</table>\n",
       "</div>"
      ],
      "text/plain": [
       "                 latitude  longitude     price  size_in_m_2  no_of_bedrooms  \\\n",
       "latitude         0.295756   0.235670  0.081504     0.000000        0.000000   \n",
       "longitude        0.235670   0.295756  0.000000     0.000000        0.000000   \n",
       "price            0.081504   0.000000  0.295756     0.250348        0.219916   \n",
       "size_in_m_2      0.000000   0.000000  0.250348     0.295756        0.272706   \n",
       "no_of_bedrooms   0.000000   0.000000  0.219916     0.272706        0.295756   \n",
       "no_of_bathrooms  0.000000   0.000000  0.207994     0.257694        0.273493   \n",
       "\n",
       "                 no_of_bathrooms  \n",
       "latitude                0.000000  \n",
       "longitude               0.000000  \n",
       "price                   0.207994  \n",
       "size_in_m_2             0.257694  \n",
       "no_of_bedrooms          0.273493  \n",
       "no_of_bathrooms         0.295756  "
      ]
     },
     "execution_count": 124,
     "metadata": {},
     "output_type": "execute_result"
    }
   ],
   "source": [
    "robust_corr_matriz_z_algorithm"
   ]
  },
  {
   "cell_type": "code",
   "execution_count": 125,
   "metadata": {},
   "outputs": [
    {
     "data": {
      "text/plain": [
       "array([ 2.6395382 ,  1.32068746,  0.34203904, -0.00805234,  0.09654807,\n",
       "        0.04793788])"
      ]
     },
     "execution_count": 125,
     "metadata": {},
     "output_type": "execute_result"
    }
   ],
   "source": [
    "np.linalg.eigvals(robust_corr_matrix_transformed)"
   ]
  },
  {
   "cell_type": "code",
   "execution_count": 126,
   "metadata": {},
   "outputs": [
    {
     "data": {
      "text/plain": [
       "array([1.04059218, 0.53586055, 0.12885677, 0.04408122, 0.00557318,\n",
       "       0.01957181])"
      ]
     },
     "execution_count": 126,
     "metadata": {},
     "output_type": "execute_result"
    }
   ],
   "source": [
    "np.linalg.eigvals(robust_corr_matriz_z_algorithm)"
   ]
  },
  {
   "cell_type": "markdown",
   "metadata": {},
   "source": []
  },
  {
   "cell_type": "code",
   "execution_count": 128,
   "metadata": {},
   "outputs": [],
   "source": [
    "robust_cov_matriz_z_algorithm = np.diag(Data_quant.std()) @ robust_corr_matriz_z_algorithm @ np.diag(Data_quant.std()) "
   ]
  },
  {
   "cell_type": "code",
   "execution_count": 129,
   "metadata": {},
   "outputs": [
    {
     "data": {
      "text/html": [
       "<div>\n",
       "<style scoped>\n",
       "    .dataframe tbody tr th:only-of-type {\n",
       "        vertical-align: middle;\n",
       "    }\n",
       "\n",
       "    .dataframe tbody tr th {\n",
       "        vertical-align: top;\n",
       "    }\n",
       "\n",
       "    .dataframe thead th {\n",
       "        text-align: right;\n",
       "    }\n",
       "</style>\n",
       "<table border=\"1\" class=\"dataframe\">\n",
       "  <thead>\n",
       "    <tr style=\"text-align: right;\">\n",
       "      <th></th>\n",
       "      <th>0</th>\n",
       "      <th>1</th>\n",
       "      <th>2</th>\n",
       "      <th>3</th>\n",
       "      <th>4</th>\n",
       "      <th>5</th>\n",
       "    </tr>\n",
       "  </thead>\n",
       "  <tbody>\n",
       "    <tr>\n",
       "      <th>0</th>\n",
       "      <td>0.001161</td>\n",
       "      <td>0.001016</td>\n",
       "      <td>1.487483e+04</td>\n",
       "      <td>0.000000e+00</td>\n",
       "      <td>0.000000</td>\n",
       "      <td>0.000000</td>\n",
       "    </tr>\n",
       "    <tr>\n",
       "      <th>1</th>\n",
       "      <td>0.001016</td>\n",
       "      <td>0.001400</td>\n",
       "      <td>0.000000e+00</td>\n",
       "      <td>0.000000e+00</td>\n",
       "      <td>0.000000</td>\n",
       "      <td>0.000000</td>\n",
       "    </tr>\n",
       "    <tr>\n",
       "      <th>2</th>\n",
       "      <td>14874.830365</td>\n",
       "      <td>0.000000</td>\n",
       "      <td>2.510002e+12</td>\n",
       "      <td>6.040315e+07</td>\n",
       "      <td>608299.966124</td>\n",
       "      <td>644172.573252</td>\n",
       "    </tr>\n",
       "    <tr>\n",
       "      <th>3</th>\n",
       "      <td>0.000000</td>\n",
       "      <td>0.000000</td>\n",
       "      <td>6.040315e+07</td>\n",
       "      <td>2.028727e+03</td>\n",
       "      <td>21.445139</td>\n",
       "      <td>22.689801</td>\n",
       "    </tr>\n",
       "    <tr>\n",
       "      <th>4</th>\n",
       "      <td>0.000000</td>\n",
       "      <td>0.000000</td>\n",
       "      <td>6.083000e+05</td>\n",
       "      <td>2.144514e+01</td>\n",
       "      <td>0.266633</td>\n",
       "      <td>0.276068</td>\n",
       "    </tr>\n",
       "    <tr>\n",
       "      <th>5</th>\n",
       "      <td>0.000000</td>\n",
       "      <td>0.000000</td>\n",
       "      <td>6.441726e+05</td>\n",
       "      <td>2.268980e+01</td>\n",
       "      <td>0.276068</td>\n",
       "      <td>0.334269</td>\n",
       "    </tr>\n",
       "  </tbody>\n",
       "</table>\n",
       "</div>"
      ],
      "text/plain": [
       "              0         1             2             3              4  \\\n",
       "0      0.001161  0.001016  1.487483e+04  0.000000e+00       0.000000   \n",
       "1      0.001016  0.001400  0.000000e+00  0.000000e+00       0.000000   \n",
       "2  14874.830365  0.000000  2.510002e+12  6.040315e+07  608299.966124   \n",
       "3      0.000000  0.000000  6.040315e+07  2.028727e+03      21.445139   \n",
       "4      0.000000  0.000000  6.083000e+05  2.144514e+01       0.266633   \n",
       "5      0.000000  0.000000  6.441726e+05  2.268980e+01       0.276068   \n",
       "\n",
       "               5  \n",
       "0       0.000000  \n",
       "1       0.000000  \n",
       "2  644172.573252  \n",
       "3      22.689801  \n",
       "4       0.276068  \n",
       "5       0.334269  "
      ]
     },
     "execution_count": 129,
     "metadata": {},
     "output_type": "execute_result"
    }
   ],
   "source": [
    "robust_cov_matriz_z_algorithm"
   ]
  },
  {
   "cell_type": "markdown",
   "metadata": {},
   "source": []
  },
  {
   "cell_type": "markdown",
   "metadata": {},
   "source": []
  },
  {
   "attachments": {},
   "cell_type": "markdown",
   "metadata": {},
   "source": [
    "# Mahalanobis Robusta"
   ]
  },
  {
   "cell_type": "code",
   "execution_count": 136,
   "metadata": {},
   "outputs": [],
   "source": [
    "def Dist_Mahalanobis_3(x, S_inv):  # Más eficiente que la anterior\n",
    "\n",
    "    # All the columns of Data must be type = 'float' or 'int' (specially not 'object'), in other case we will find \n",
    "    # dimensional problems when Python compute   x @ S_inv @ x.T\n",
    "\n",
    "    # x = (x_i - x_r)\n",
    "\n",
    "    # x = np.array([x]) # necessary step to transpose a 1D array\n",
    "\n",
    "    Dist_Maha = np.sqrt( x @ S_inv @ x.T )  # x @ S_inv @ x.T = np.matmul( np.matmul(x , S_inv) , x.T )\n",
    "\n",
    "    Dist_Maha = float(Dist_Maha)\n",
    "\n",
    "    return Dist_Maha"
   ]
  },
  {
   "cell_type": "code",
   "execution_count": 150,
   "metadata": {},
   "outputs": [],
   "source": [
    "def Matrix_Dist_Mahalanobis_Robust(Data, Method, alpha=None, z_algorithm=False):\n",
    "\n",
    "\n",
    "    if z_algorithm == False :\n",
    "    \n",
    "        robust_corr_matrix = robust_correlation_matrix(Data=Data, Method=Method, alpha=alpha)\n",
    "\n",
    "        robust_cov_matrix = np.diag(Data.std()) @ robust_corr_matrix @ np.diag(Data.std()) \n",
    "\n",
    "        S_inv = np.linalg.inv( robust_cov_matrix )\n",
    "\n",
    "\n",
    "    elif z_algorithm == True :\n",
    "\n",
    "        robust_corr_matrix = robust_correlation_matrix(Data=Data, Method=Method, alpha=alpha)\n",
    "\n",
    "        robust_corr_matrix_z_algorithm, i = z_trans_algorithm(robust_corr_matrix=robust_corr_matrix_transformed, n_iters=20)\n",
    "\n",
    "        robust_cov_matrix_z_algorithm = np.diag(Data.std()) @ robust_corr_matrix_z_algorithm @ np.diag(Data.std()) \n",
    "\n",
    "        S_inv = np.linalg.inv( robust_cov_matrix_z_algorithm )\n",
    "\n",
    "\n",
    "\n",
    "    Data = Data.to_numpy()\n",
    "\n",
    "    n = len(Data)\n",
    "\n",
    "    M =  np.empty((n , n))\n",
    "\n",
    "   \n",
    "    for i in range(0, n):\n",
    "\n",
    "         for r in range(0, n):\n",
    "\n",
    "             if i >= r :\n",
    "               \n",
    "                 M[i,r] = 0\n",
    "\n",
    "             else :\n",
    "\n",
    "                 M[i,r] = Dist_Mahalanobis_3(x = np.array([Data[i,:] - Data[r,:]]) , S_inv=S_inv ) \n",
    "\n",
    "                      \n",
    "    return M , robust_cov_matrix"
   ]
  },
  {
   "cell_type": "code",
   "execution_count": 153,
   "metadata": {},
   "outputs": [],
   "source": [
    "M , robust_cov_matrix = Matrix_Dist_Mahalanobis_Robust(Data=Data_quant, Method='trimmed variance', alpha=0.1, z_algorithm=False)"
   ]
  },
  {
   "cell_type": "code",
   "execution_count": 154,
   "metadata": {},
   "outputs": [
    {
     "data": {
      "text/plain": [
       "array([[0.        , 2.25224056, 4.24937543, ..., 4.97384744, 2.75681052,\n",
       "        1.17684001],\n",
       "       [0.        , 0.        , 4.71795556, ..., 5.29444797, 3.23063714,\n",
       "        2.25425624],\n",
       "       [0.        , 0.        , 0.        , ..., 3.08471497, 4.25349323,\n",
       "        3.64781054],\n",
       "       ...,\n",
       "       [0.        , 0.        , 0.        , ..., 0.        , 4.10804538,\n",
       "        4.39134193],\n",
       "       [0.        , 0.        , 0.        , ..., 0.        , 0.        ,\n",
       "        1.86973971],\n",
       "       [0.        , 0.        , 0.        , ..., 0.        , 0.        ,\n",
       "        0.        ]])"
      ]
     },
     "execution_count": 154,
     "metadata": {},
     "output_type": "execute_result"
    }
   ],
   "source": [
    "M"
   ]
  },
  {
   "cell_type": "code",
   "execution_count": 155,
   "metadata": {},
   "outputs": [
    {
     "data": {
      "text/html": [
       "<div>\n",
       "<style scoped>\n",
       "    .dataframe tbody tr th:only-of-type {\n",
       "        vertical-align: middle;\n",
       "    }\n",
       "\n",
       "    .dataframe tbody tr th {\n",
       "        vertical-align: top;\n",
       "    }\n",
       "\n",
       "    .dataframe thead th {\n",
       "        text-align: right;\n",
       "    }\n",
       "</style>\n",
       "<table border=\"1\" class=\"dataframe\">\n",
       "  <thead>\n",
       "    <tr style=\"text-align: right;\">\n",
       "      <th></th>\n",
       "      <th>0</th>\n",
       "      <th>1</th>\n",
       "      <th>2</th>\n",
       "      <th>3</th>\n",
       "      <th>4</th>\n",
       "      <th>5</th>\n",
       "    </tr>\n",
       "  </thead>\n",
       "  <tbody>\n",
       "    <tr>\n",
       "      <th>0</th>\n",
       "      <td>0.003925</td>\n",
       "      <td>0.003114</td>\n",
       "      <td>7.528805e+04</td>\n",
       "      <td>8.368878e-01</td>\n",
       "      <td>6.765869e-03</td>\n",
       "      <td>9.241274e-03</td>\n",
       "    </tr>\n",
       "    <tr>\n",
       "      <th>1</th>\n",
       "      <td>0.003114</td>\n",
       "      <td>0.004733</td>\n",
       "      <td>6.504751e+03</td>\n",
       "      <td>-4.055869e-01</td>\n",
       "      <td>-3.159316e-03</td>\n",
       "      <td>-2.349073e-03</td>\n",
       "    </tr>\n",
       "    <tr>\n",
       "      <th>2</th>\n",
       "      <td>75288.053718</td>\n",
       "      <td>6504.750524</td>\n",
       "      <td>8.486734e+12</td>\n",
       "      <td>1.864821e+08</td>\n",
       "      <td>1.868946e+06</td>\n",
       "      <td>1.994328e+06</td>\n",
       "    </tr>\n",
       "    <tr>\n",
       "      <th>3</th>\n",
       "      <td>0.836888</td>\n",
       "      <td>-0.405587</td>\n",
       "      <td>1.864821e+08</td>\n",
       "      <td>6.859463e+03</td>\n",
       "      <td>6.817358e+01</td>\n",
       "      <td>7.053594e+01</td>\n",
       "    </tr>\n",
       "    <tr>\n",
       "      <th>4</th>\n",
       "      <td>0.006766</td>\n",
       "      <td>-0.003159</td>\n",
       "      <td>1.868946e+06</td>\n",
       "      <td>6.817358e+01</td>\n",
       "      <td>9.015290e-01</td>\n",
       "      <td>8.789409e-01</td>\n",
       "    </tr>\n",
       "    <tr>\n",
       "      <th>5</th>\n",
       "      <td>0.009241</td>\n",
       "      <td>-0.002349</td>\n",
       "      <td>1.994328e+06</td>\n",
       "      <td>7.053594e+01</td>\n",
       "      <td>8.789409e-01</td>\n",
       "      <td>1.130218e+00</td>\n",
       "    </tr>\n",
       "  </tbody>\n",
       "</table>\n",
       "</div>"
      ],
      "text/plain": [
       "              0            1             2             3             4  \\\n",
       "0      0.003925     0.003114  7.528805e+04  8.368878e-01  6.765869e-03   \n",
       "1      0.003114     0.004733  6.504751e+03 -4.055869e-01 -3.159316e-03   \n",
       "2  75288.053718  6504.750524  8.486734e+12  1.864821e+08  1.868946e+06   \n",
       "3      0.836888    -0.405587  1.864821e+08  6.859463e+03  6.817358e+01   \n",
       "4      0.006766    -0.003159  1.868946e+06  6.817358e+01  9.015290e-01   \n",
       "5      0.009241    -0.002349  1.994328e+06  7.053594e+01  8.789409e-01   \n",
       "\n",
       "              5  \n",
       "0  9.241274e-03  \n",
       "1 -2.349073e-03  \n",
       "2  1.994328e+06  \n",
       "3  7.053594e+01  \n",
       "4  8.789409e-01  \n",
       "5  1.130218e+00  "
      ]
     },
     "execution_count": 155,
     "metadata": {},
     "output_type": "execute_result"
    }
   ],
   "source": [
    "robust_cov_matrix"
   ]
  }
 ],
 "metadata": {
  "kernelspec": {
   "display_name": "Python 3",
   "language": "python",
   "name": "python3"
  },
  "language_info": {
   "codemirror_mode": {
    "name": "ipython",
    "version": 3
   },
   "file_extension": ".py",
   "mimetype": "text/x-python",
   "name": "python",
   "nbconvert_exporter": "python",
   "pygments_lexer": "ipython3",
   "version": "3.10.0"
  },
  "vscode": {
   "interpreter": {
    "hash": "c63d8c7d738c2960218a10995aedf0a7f67a49a231e71037adf0440953cdb45b"
   }
  }
 },
 "nbformat": 4,
 "nbformat_minor": 2
}
