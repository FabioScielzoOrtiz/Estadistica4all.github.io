{
 "cells": [
  {
   "cell_type": "markdown",
   "metadata": {},
   "source": [
    "# Aplicación del aprendizaje automático en la medicina predictiva.\n",
    "\n",
    "## Práctica 1: Clasificación para el diagnóstico de enfermedades.\n",
    "\n",
    "### Agenda\n",
    "1. Objetivos\n",
    "2. Problema\n",
    "3. Datos\n",
    "4. Desarrollo de la práctica\n",
    "\n"
   ]
  },
  {
   "cell_type": "markdown",
   "metadata": {},
   "source": [
    "\n",
    "#### 1. Objetivos.\n",
    "- Conocer un contexto de aplicación real.\n",
    "\n",
    "- Ejercitarnos en el análisis de datos y la implementación de algoritmos de clasificación, para adquirir criterio en la aplicación de los mismos.\n",
    "\n",
    "- Evaluar las capacidades de R y mlr para la implementación.\n"
   ]
  },
  {
   "cell_type": "markdown",
   "metadata": {},
   "source": [
    "\n",
    "#### 2. Problema. \n",
    "- Resolver un problema de clasificación para el diagnóstico de pacientes hepáticos.\n"
   ]
  },
  {
   "cell_type": "markdown",
   "metadata": {},
   "source": [
    "\n",
    "#### 3. Datos.\n",
    "- Usaremos el conjunto de datos “Indian Liver Patient Dataset”: Los pacientes con enfermedades del hígado han ido aumentando continuamente debido al consumo excesivo de alcohol, inhalación de gases nocivos, ingesta de alimentos contaminados, encurtidos y drogas. \n",
    "\n",
    "- Este conjunto de datos se utilizó para evaluar los algoritmos de predicción en un esfuerzo por reducir la cargapara los médicos. Este conjunto de datos contiene 416 registros de pacientes hepáticos y 167 registros de pacientes no hepáticos recopilados en el noreste de Andhra Pradesh, India.\n",
    "\n",
    "- La variable de respuesta es “diseased” (personas que tienen enfermedad del hígado)\n",
    "\n",
    "- El data set encuentra en la librería “mlr3data”. \n",
    "data(\"ilpd\", package = \"mlr3data\")\n"
   ]
  },
  {
   "cell_type": "markdown",
   "metadata": {},
   "source": [
    "\n",
    "#### 4. Desarrollo de la práctica.\n"
   ]
  },
  {
   "cell_type": "markdown",
   "metadata": {},
   "source": [
    "Vamos a desarrollar esta practica en los lenguajes de programacion `R` y `Python` simultaneamente. \n",
    "\n",
    "Lo haremos usando el lenguaje `Python` utilizando un paquete llamado `rpy2` que permite ejecutar codigo `R` desde `Python` "
   ]
  },
  {
   "cell_type": "markdown",
   "metadata": {},
   "source": []
  },
  {
   "cell_type": "markdown",
   "metadata": {},
   "source": [
    "\n",
    "Empezamos la práctica cargando los datos, tanto en `R` como en `Python` :"
   ]
  },
  {
   "cell_type": "code",
   "execution_count": 62,
   "metadata": {},
   "outputs": [
    {
     "name": "stdout",
     "output_type": "stream",
     "text": [
      "The rpy2.ipython extension is already loaded. To reload it, use:\n",
      "  %reload_ext rpy2.ipython\n"
     ]
    }
   ],
   "source": [
    "import rpy2\n",
    "\n",
    "%load_ext rpy2.ipython\n",
    "\n",
    "import rpy2.robjects as robjects"
   ]
  },
  {
   "cell_type": "code",
   "execution_count": 63,
   "metadata": {},
   "outputs": [
    {
     "name": "stdout",
     "output_type": "stream",
     "text": [
      "NULL\n"
     ]
    }
   ],
   "source": [
    "%%R\n",
    "\n",
    "# install.packages(\"mlr3data\")\n",
    "# install.packages(\"mlr3\")"
   ]
  },
  {
   "cell_type": "markdown",
   "metadata": {},
   "source": [
    "Cargamos los datos en `R`"
   ]
  },
  {
   "cell_type": "code",
   "execution_count": 64,
   "metadata": {},
   "outputs": [
    {
     "name": "stdout",
     "output_type": "stream",
     "text": [
      "  age gender total_bilirubin direct_bilirubin alkaline_phosphatase\n",
      "1  65 Female             0.7              0.1                  187\n",
      "2  62   Male            10.9              5.5                  699\n",
      "3  62   Male             7.3              4.1                  490\n",
      "4  58   Male             1.0              0.4                  182\n",
      "5  72   Male             3.9              2.0                  195\n",
      "  alanine_transaminase aspartate_transaminase total_protein albumin\n",
      "1                   16                     18           6.8     3.3\n",
      "2                   64                    100           7.5     3.2\n",
      "3                   60                     68           7.0     3.3\n",
      "4                   14                     20           6.8     3.4\n",
      "5                   27                     59           7.3     2.4\n",
      "  albumin_globulin_ratio diseased\n",
      "1                   0.90      yes\n",
      "2                   0.74      yes\n",
      "3                   0.89      yes\n",
      "4                   1.00      yes\n",
      "5                   0.40      yes\n"
     ]
    }
   ],
   "source": [
    "%%R\n",
    "\n",
    "data(\"ilpd\", package = \"mlr3data\")\n",
    "\n",
    "head(ilpd,5)"
   ]
  },
  {
   "cell_type": "markdown",
   "metadata": {},
   "source": []
  },
  {
   "cell_type": "markdown",
   "metadata": {},
   "source": [
    "Cargamos los datos en `Python`"
   ]
  },
  {
   "cell_type": "code",
   "execution_count": 65,
   "metadata": {},
   "outputs": [],
   "source": [
    "import pandas as pd"
   ]
  },
  {
   "cell_type": "code",
   "execution_count": 66,
   "metadata": {},
   "outputs": [],
   "source": [
    "Data_Python = pd.read_csv('indian_liver_patient.csv')"
   ]
  },
  {
   "cell_type": "code",
   "execution_count": 67,
   "metadata": {},
   "outputs": [],
   "source": [
    "Data_Python = Data_Python.rename({'Dataset': 'Diseased'}, axis=1)"
   ]
  },
  {
   "cell_type": "code",
   "execution_count": 68,
   "metadata": {},
   "outputs": [
    {
     "data": {
      "text/html": [
       "<div>\n",
       "<style scoped>\n",
       "    .dataframe tbody tr th:only-of-type {\n",
       "        vertical-align: middle;\n",
       "    }\n",
       "\n",
       "    .dataframe tbody tr th {\n",
       "        vertical-align: top;\n",
       "    }\n",
       "\n",
       "    .dataframe thead th {\n",
       "        text-align: right;\n",
       "    }\n",
       "</style>\n",
       "<table border=\"1\" class=\"dataframe\">\n",
       "  <thead>\n",
       "    <tr style=\"text-align: right;\">\n",
       "      <th></th>\n",
       "      <th>Age</th>\n",
       "      <th>Gender</th>\n",
       "      <th>Total_Bilirubin</th>\n",
       "      <th>Direct_Bilirubin</th>\n",
       "      <th>Alkaline_Phosphotase</th>\n",
       "      <th>Alamine_Aminotransferase</th>\n",
       "      <th>Aspartate_Aminotransferase</th>\n",
       "      <th>Total_Protiens</th>\n",
       "      <th>Albumin</th>\n",
       "      <th>Albumin_and_Globulin_Ratio</th>\n",
       "      <th>Diseased</th>\n",
       "    </tr>\n",
       "  </thead>\n",
       "  <tbody>\n",
       "    <tr>\n",
       "      <th>0</th>\n",
       "      <td>65</td>\n",
       "      <td>Female</td>\n",
       "      <td>0.7</td>\n",
       "      <td>0.1</td>\n",
       "      <td>187</td>\n",
       "      <td>16</td>\n",
       "      <td>18</td>\n",
       "      <td>6.8</td>\n",
       "      <td>3.3</td>\n",
       "      <td>0.90</td>\n",
       "      <td>1</td>\n",
       "    </tr>\n",
       "    <tr>\n",
       "      <th>1</th>\n",
       "      <td>62</td>\n",
       "      <td>Male</td>\n",
       "      <td>10.9</td>\n",
       "      <td>5.5</td>\n",
       "      <td>699</td>\n",
       "      <td>64</td>\n",
       "      <td>100</td>\n",
       "      <td>7.5</td>\n",
       "      <td>3.2</td>\n",
       "      <td>0.74</td>\n",
       "      <td>1</td>\n",
       "    </tr>\n",
       "    <tr>\n",
       "      <th>2</th>\n",
       "      <td>62</td>\n",
       "      <td>Male</td>\n",
       "      <td>7.3</td>\n",
       "      <td>4.1</td>\n",
       "      <td>490</td>\n",
       "      <td>60</td>\n",
       "      <td>68</td>\n",
       "      <td>7.0</td>\n",
       "      <td>3.3</td>\n",
       "      <td>0.89</td>\n",
       "      <td>1</td>\n",
       "    </tr>\n",
       "    <tr>\n",
       "      <th>3</th>\n",
       "      <td>58</td>\n",
       "      <td>Male</td>\n",
       "      <td>1.0</td>\n",
       "      <td>0.4</td>\n",
       "      <td>182</td>\n",
       "      <td>14</td>\n",
       "      <td>20</td>\n",
       "      <td>6.8</td>\n",
       "      <td>3.4</td>\n",
       "      <td>1.00</td>\n",
       "      <td>1</td>\n",
       "    </tr>\n",
       "    <tr>\n",
       "      <th>4</th>\n",
       "      <td>72</td>\n",
       "      <td>Male</td>\n",
       "      <td>3.9</td>\n",
       "      <td>2.0</td>\n",
       "      <td>195</td>\n",
       "      <td>27</td>\n",
       "      <td>59</td>\n",
       "      <td>7.3</td>\n",
       "      <td>2.4</td>\n",
       "      <td>0.40</td>\n",
       "      <td>1</td>\n",
       "    </tr>\n",
       "  </tbody>\n",
       "</table>\n",
       "</div>"
      ],
      "text/plain": [
       "   Age  Gender  Total_Bilirubin  Direct_Bilirubin  Alkaline_Phosphotase  \\\n",
       "0   65  Female              0.7               0.1                   187   \n",
       "1   62    Male             10.9               5.5                   699   \n",
       "2   62    Male              7.3               4.1                   490   \n",
       "3   58    Male              1.0               0.4                   182   \n",
       "4   72    Male              3.9               2.0                   195   \n",
       "\n",
       "   Alamine_Aminotransferase  Aspartate_Aminotransferase  Total_Protiens  \\\n",
       "0                        16                          18             6.8   \n",
       "1                        64                         100             7.5   \n",
       "2                        60                          68             7.0   \n",
       "3                        14                          20             6.8   \n",
       "4                        27                          59             7.3   \n",
       "\n",
       "   Albumin  Albumin_and_Globulin_Ratio  Diseased  \n",
       "0      3.3                        0.90         1  \n",
       "1      3.2                        0.74         1  \n",
       "2      3.3                        0.89         1  \n",
       "3      3.4                        1.00         1  \n",
       "4      2.4                        0.40         1  "
      ]
     },
     "execution_count": 68,
     "metadata": {},
     "output_type": "execute_result"
    }
   ],
   "source": [
    "Data_Python.head()"
   ]
  },
  {
   "cell_type": "markdown",
   "metadata": {},
   "source": []
  },
  {
   "cell_type": "markdown",
   "metadata": {},
   "source": [
    "Describiremos cada una de las variables:\n",
    "\n",
    "- age: edad del paciente. A los pacientes que exceden 89 son listados con la edad 90\n",
    "- gender: género del paciente.\n",
    "- total_bilirubin: Total de bilirubina.\n",
    "- direct_bilirubin: Bilirubina directa.\n",
    "- alkaline_phosphatase: Fosfatasa alcalina.\n",
    "- alanine_transaminase: alanina aminotransferasa o transamisana glutámico pirúvica.\n",
    "- aspartate_trasaminase: aspartato aminotransferasa.\n",
    "- total_protein: proteinas totales.\n",
    "- albumin: albúmina.\n",
    "- albumin_globulin_ratio: albúmina y globulina ratio.\n",
    "- diseased: Si tienen (1) o no (2) enfermadad en el hígado.\n"
   ]
  },
  {
   "cell_type": "markdown",
   "metadata": {},
   "source": []
  },
  {
   "cell_type": "markdown",
   "metadata": {},
   "source": [
    "\n",
    "Ahora que los tenenmos cargados y hemos visto la apariencia de los mismo procedemos a hacer el EDA.\n"
   ]
  },
  {
   "cell_type": "markdown",
   "metadata": {},
   "source": [
    "#### 4.1. EDA.\n",
    "\n",
    "Haremmos el EDA con la librería skimr, como se pide en el enunciado de la práctica.\n"
   ]
  },
  {
   "cell_type": "code",
   "execution_count": 69,
   "metadata": {},
   "outputs": [
    {
     "name": "stdout",
     "output_type": "stream",
     "text": [
      "NULL\n"
     ]
    }
   ],
   "source": [
    "%%R\n",
    "\n",
    "# install.packages('skimr')"
   ]
  },
  {
   "cell_type": "code",
   "execution_count": 70,
   "metadata": {},
   "outputs": [
    {
     "name": "stdout",
     "output_type": "stream",
     "text": [
      "-- Data Summary ------------------------\n",
      "                           Values\n",
      "Name                       ilpd  \n",
      "Number of rows             583   \n",
      "Number of columns          11    \n",
      "_______________________          \n",
      "Column type frequency:           \n",
      "  factor                   2     \n",
      "  numeric                  9     \n",
      "________________________         \n",
      "Group variables            None  \n",
      "\n",
      "-- Variable type: factor -------------------------------------------------------\n",
      "  skim_variable n_missing complete_rate ordered n_unique top_counts        \n",
      "1 gender                0             1 FALSE          2 Mal: 441, Fem: 142\n",
      "2 diseased              0             1 FALSE          2 yes: 416, no: 167 \n",
      "\n",
      "-- Variable type: numeric ------------------------------------------------------\n",
      "  skim_variable          n_missing complete_rate    mean      sd   p0   p25\n",
      "1 age                            0             1  44.7    16.2    4    33  \n",
      "2 total_bilirubin                0             1   3.30    6.21   0.4   0.8\n",
      "3 direct_bilirubin               0             1   1.49    2.81   0.1   0.2\n",
      "4 alkaline_phosphatase           0             1 291.    243.    63   176. \n",
      "5 alanine_transaminase           0             1  80.7   183.    10    23  \n",
      "6 aspartate_transaminase         0             1 110.    289.    10    25  \n",
      "7 total_protein                  0             1   6.48    1.09   2.7   5.8\n",
      "8 albumin                        0             1   3.14    0.796  0.9   2.6\n",
      "9 albumin_globulin_ratio         0             1   0.947   0.318  0.3   0.7\n",
      "      p50   p75   p100 hist \n",
      "1  45      58     90   <U+2582><U+2586><U+2587><U+2585><U+2581>\n",
      "2   1       2.6   75   <U+2587><U+2581><U+2581><U+2581><U+2581>\n",
      "3   0.3     1.3   19.7 <U+2587><U+2581><U+2581><U+2581><U+2581>\n",
      "4 208     298   2110   <U+2587><U+2581><U+2581><U+2581><U+2581>\n",
      "5  35      60.5 2000   <U+2587><U+2581><U+2581><U+2581><U+2581>\n",
      "6  42      87   4929   <U+2587><U+2581><U+2581><U+2581><U+2581>\n",
      "7   6.6     7.2    9.6 <U+2581><U+2582><U+2587><U+2587><U+2581>\n",
      "8   3.1     3.8    5.5 <U+2581><U+2585><U+2587><U+2586><U+2581>\n",
      "9   0.947   1.1    2.8 <U+2586><U+2587><U+2582><U+2581><U+2581>\n"
     ]
    }
   ],
   "source": [
    "%%R\n",
    "\n",
    "library(skimr) # Cargamos librería\n",
    "\n",
    "skim(ilpd) # EDA con librería"
   ]
  },
  {
   "cell_type": "markdown",
   "metadata": {},
   "source": [
    "\n",
    "También haremos uso de la función str que nos da la estructura de nuestro dataset.\n"
   ]
  },
  {
   "cell_type": "code",
   "execution_count": 71,
   "metadata": {},
   "outputs": [
    {
     "name": "stdout",
     "output_type": "stream",
     "text": [
      "'data.frame':\t583 obs. of  11 variables:\n",
      " $ age                   : int  65 62 62 58 72 46 26 29 17 55 ...\n",
      " $ gender                : Factor w/ 2 levels \"Female\",\"Male\": 1 2 2 2 2 2 1 1 2 2 ...\n",
      " $ total_bilirubin       : num  0.7 10.9 7.3 1 3.9 1.8 0.9 0.9 0.9 0.7 ...\n",
      " $ direct_bilirubin      : num  0.1 5.5 4.1 0.4 2 0.7 0.2 0.3 0.3 0.2 ...\n",
      " $ alkaline_phosphatase  : int  187 699 490 182 195 208 154 202 202 290 ...\n",
      " $ alanine_transaminase  : int  16 64 60 14 27 19 16 14 22 53 ...\n",
      " $ aspartate_transaminase: int  18 100 68 20 59 14 12 11 19 58 ...\n",
      " $ total_protein         : num  6.8 7.5 7 6.8 7.3 7.6 7 6.7 7.4 6.8 ...\n",
      " $ albumin               : num  3.3 3.2 3.3 3.4 2.4 4.4 3.5 3.6 4.1 3.4 ...\n",
      " $ albumin_globulin_ratio: num  0.9 0.74 0.89 1 0.4 1.3 1 1.1 1.2 1 ...\n",
      " $ diseased              : Factor w/ 2 levels \"yes\",\"no\": 1 1 1 1 1 1 1 1 2 1 ...\n"
     ]
    }
   ],
   "source": [
    "%%R\n",
    "\n",
    "str(ilpd) # Analizamos la estructura de los datos"
   ]
  },
  {
   "cell_type": "markdown",
   "metadata": {},
   "source": [
    "\n",
    "Claramente podemos ver como con skimr, las variables que son numéricas las considera todas numéricas, mientras que la función str nos especifica las variables numéricas en si son variables que toman valores reales o enteros.\n",
    "\n",
    "Por último sacaremos un reporte con la librería \"DataExplorer\"\n"
   ]
  },
  {
   "cell_type": "code",
   "execution_count": 72,
   "metadata": {},
   "outputs": [
    {
     "name": "stdout",
     "output_type": "stream",
     "text": [
      "NULL\n"
     ]
    }
   ],
   "source": [
    "%%R\n",
    "\n",
    "# install.packages('DataExplorer')"
   ]
  },
  {
   "cell_type": "code",
   "execution_count": 73,
   "metadata": {},
   "outputs": [
    {
     "name": "stdout",
     "output_type": "stream",
     "text": [
      "NULL\n"
     ]
    }
   ],
   "source": [
    "%%R\n",
    "\n",
    "# DataExplorer::create_report(ilpd,y=\"diseased\") # Reporte EDA en html, no se pide como tal."
   ]
  },
  {
   "cell_type": "markdown",
   "metadata": {},
   "source": [
    "Se genera un reporte en HTML que puede ser abierto en el navegador. \n",
    "\n",
    "Aqui esta la version en PDF de dicho reporte:"
   ]
  },
  {
   "cell_type": "markdown",
   "metadata": {},
   "source": [
    "https://github.com/FabioScielzoOrtiz/Estadistica4all.github.io/blob/main/Notebooks/Aprendizaje%20Automatico/Data%20Profiling%20Report.pdf"
   ]
  },
  {
   "cell_type": "markdown",
   "metadata": {},
   "source": []
  },
  {
   "cell_type": "markdown",
   "metadata": {},
   "source": [
    "\n",
    "Aunque hemos visto el número de valores ausentes en la salida que nos da skimr, esto se puede hacer a mano como sigue:\n"
   ]
  },
  {
   "cell_type": "code",
   "execution_count": 74,
   "metadata": {},
   "outputs": [],
   "source": [
    "%%R\n",
    "\n",
    "library(tidyverse)"
   ]
  },
  {
   "cell_type": "markdown",
   "metadata": {},
   "source": []
  },
  {
   "cell_type": "code",
   "execution_count": 75,
   "metadata": {},
   "outputs": [
    {
     "name": "stdout",
     "output_type": "stream",
     "text": [
      "                   age                 gender        total_bilirubin \n",
      "                     0                      0                      0 \n",
      "      direct_bilirubin   alkaline_phosphatase   alanine_transaminase \n",
      "                     0                      0                      0 \n",
      "aspartate_transaminase          total_protein                albumin \n",
      "                     0                      0                      0 \n",
      "albumin_globulin_ratio               diseased \n",
      "                     0                      0 \n"
     ]
    }
   ],
   "source": [
    "%%R \n",
    "\n",
    "ilpd %>% map_dbl(.f = function(x){sum(is.na(x))}) # Número de missing values"
   ]
  },
  {
   "cell_type": "markdown",
   "metadata": {},
   "source": []
  },
  {
   "cell_type": "markdown",
   "metadata": {},
   "source": [
    "\n",
    "Podemos sacar las siguientes conclusiones del EDA anterior:\n",
    "- Se dispone de 583 instancias y 11 variables (2 de tipo factor biclase, 5 de tipo numérico y 4 enteras)\n",
    "- No hay ausencia de valores por lo que no habrá que eliminar instancias o al menos los modelos no se verán dificultados por los mismos.\n",
    "- La variable respuesta es diseased que es una de las variables tipo factor biclase que puede tomar valores \"yes\" o \"no\". Se puede ver como esta variable está un poco desbalanceada ya que tenemos muchas más observaciones con valor \"yes\"(416 observaciones) que con valor \"no\"(167 observaciones).\n",
    "- En cuanto a las correlaciones se puede ver que son relativamente altas entre los pares que tienen que ver con sustancias similares, como bilirubina directa y bilirubina total. Con respecto a la variable respuesta podemos ver como hay relaciones directas con el resto de variables y una correlacion similar en torno a 0.7.\n",
    "\n",
    "\n"
   ]
  },
  {
   "cell_type": "markdown",
   "metadata": {},
   "source": []
  },
  {
   "cell_type": "markdown",
   "metadata": {},
   "source": []
  },
  {
   "cell_type": "markdown",
   "metadata": {},
   "source": [
    "Ahora vamos a realizar un EDA del data-set pero usando `Python`"
   ]
  },
  {
   "cell_type": "markdown",
   "metadata": {},
   "source": [
    "El EDA (Exploratory Data Analysis) en lineas generales va a consistir en:\n",
    "\n",
    "- Analizar estructura del data-set que tenemoss (dimensiones, tipo de variables, valores faltantes etc)\n",
    "- Calculo de estadisticos básicos para cada variable\n",
    "-  Calculo de graficos que aporten informacion relevante (histogramas, diagramas de barras, scatter plots, box plots)\n",
    "- Analisis de relaciones entre los predictores y la respuesta.\n"
   ]
  },
  {
   "cell_type": "markdown",
   "metadata": {},
   "source": []
  },
  {
   "cell_type": "markdown",
   "metadata": {},
   "source": [
    "### Estructura del data-set:"
   ]
  },
  {
   "cell_type": "code",
   "execution_count": 76,
   "metadata": {},
   "outputs": [
    {
     "data": {
      "text/plain": [
       "(583, 11)"
      ]
     },
     "execution_count": 76,
     "metadata": {},
     "output_type": "execute_result"
    }
   ],
   "source": [
    "Data_Python.shape"
   ]
  },
  {
   "cell_type": "markdown",
   "metadata": {},
   "source": [
    "Tenemos un data-set con 11 variables y 583 observaciones\n",
    "\n",
    "Las variables son:\n",
    "\n",
    "- 10 predictores (age , gender , Total_Bilirubin , Direct_Bilirubin , Alkaline_Phosphotase , Alamine_Aminotransferase , Aspartate_Aminotransferase ,Total_Protiens , Albumin , Albumin_and_Globulin_Ratio ) \n",
    "- 1 respuesta ( Diseased )"
   ]
  },
  {
   "cell_type": "markdown",
   "metadata": {},
   "source": [
    "La variables **categoricas** del data-set son: \n",
    "\n",
    "- Diseased y Gender (*binarias*)\n",
    "\n",
    "Las variables **cuantitativas** del data-set son: \n",
    "\n",
    "- age , Alkaline_Phosphotase, Alamine_Aminotransferase  , Aspartate_Aminotransferase (*discretas*) y   Total_Bilirubin , Direct_Bilirubin, Total_Protiens, Albumin, Albumin_and_Globulin_Ratio (*continuas*)"
   ]
  },
  {
   "cell_type": "markdown",
   "metadata": {},
   "source": []
  },
  {
   "cell_type": "markdown",
   "metadata": {},
   "source": [
    "Con el siguiente codigo podemos ver el tipo de cada una de las variables en Python (que podria no coincidir con el descrito anteriormente, en su caso habria que modificarlo.)"
   ]
  },
  {
   "cell_type": "code",
   "execution_count": 77,
   "metadata": {},
   "outputs": [
    {
     "name": "stdout",
     "output_type": "stream",
     "text": [
      "<class 'pandas.core.frame.DataFrame'>\n",
      "RangeIndex: 583 entries, 0 to 582\n",
      "Data columns (total 11 columns):\n",
      " #   Column                      Non-Null Count  Dtype  \n",
      "---  ------                      --------------  -----  \n",
      " 0   Age                         583 non-null    int64  \n",
      " 1   Gender                      583 non-null    object \n",
      " 2   Total_Bilirubin             583 non-null    float64\n",
      " 3   Direct_Bilirubin            583 non-null    float64\n",
      " 4   Alkaline_Phosphotase        583 non-null    int64  \n",
      " 5   Alamine_Aminotransferase    583 non-null    int64  \n",
      " 6   Aspartate_Aminotransferase  583 non-null    int64  \n",
      " 7   Total_Protiens              583 non-null    float64\n",
      " 8   Albumin                     583 non-null    float64\n",
      " 9   Albumin_and_Globulin_Ratio  583 non-null    float64\n",
      " 10  Diseased                    583 non-null    int64  \n",
      "dtypes: float64(5), int64(5), object(1)\n",
      "memory usage: 50.2+ KB\n"
     ]
    }
   ],
   "source": [
    "Data_Python.info()"
   ]
  },
  {
   "cell_type": "markdown",
   "metadata": {},
   "source": []
  },
  {
   "cell_type": "markdown",
   "metadata": {},
   "source": [
    "En este caso el tipo en Python es correcto para todas las variables salvo para la respuesta (Diseased) ya que Python la considera entera (cuantitativa discreta: int64) cuando realmente es categorica binaria, por ello tranformamos su tipo de int64 a object (el tipo clasico de las variables categoricas en Python)."
   ]
  },
  {
   "cell_type": "code",
   "execution_count": 78,
   "metadata": {},
   "outputs": [],
   "source": [
    "Data_Python['Diseased'] = Data_Python['Diseased'].astype('object')"
   ]
  },
  {
   "cell_type": "markdown",
   "metadata": {},
   "source": []
  },
  {
   "cell_type": "markdown",
   "metadata": {},
   "source": [
    "Comprobamos que los cambios se han producido correctamente:"
   ]
  },
  {
   "cell_type": "code",
   "execution_count": 79,
   "metadata": {},
   "outputs": [
    {
     "name": "stdout",
     "output_type": "stream",
     "text": [
      "<class 'pandas.core.frame.DataFrame'>\n",
      "RangeIndex: 583 entries, 0 to 582\n",
      "Data columns (total 11 columns):\n",
      " #   Column                      Non-Null Count  Dtype  \n",
      "---  ------                      --------------  -----  \n",
      " 0   Age                         583 non-null    int64  \n",
      " 1   Gender                      583 non-null    object \n",
      " 2   Total_Bilirubin             583 non-null    float64\n",
      " 3   Direct_Bilirubin            583 non-null    float64\n",
      " 4   Alkaline_Phosphotase        583 non-null    int64  \n",
      " 5   Alamine_Aminotransferase    583 non-null    int64  \n",
      " 6   Aspartate_Aminotransferase  583 non-null    int64  \n",
      " 7   Total_Protiens              583 non-null    float64\n",
      " 8   Albumin                     583 non-null    float64\n",
      " 9   Albumin_and_Globulin_Ratio  583 non-null    float64\n",
      " 10  Diseased                    583 non-null    object \n",
      "dtypes: float64(5), int64(4), object(2)\n",
      "memory usage: 50.2+ KB\n"
     ]
    }
   ],
   "source": [
    "Data_Python.info()"
   ]
  },
  {
   "cell_type": "markdown",
   "metadata": {},
   "source": []
  },
  {
   "cell_type": "markdown",
   "metadata": {},
   "source": [
    "Ahora vamos a ver si existe algun valor nulo en el data-set:"
   ]
  },
  {
   "cell_type": "code",
   "execution_count": 80,
   "metadata": {},
   "outputs": [
    {
     "data": {
      "text/plain": [
       "Age                           0\n",
       "Gender                        0\n",
       "Total_Bilirubin               0\n",
       "Direct_Bilirubin              0\n",
       "Alkaline_Phosphotase          0\n",
       "Alamine_Aminotransferase      0\n",
       "Aspartate_Aminotransferase    0\n",
       "Total_Protiens                0\n",
       "Albumin                       0\n",
       "Albumin_and_Globulin_Ratio    0\n",
       "Diseased                      0\n",
       "dtype: int64"
      ]
     },
     "execution_count": 80,
     "metadata": {},
     "output_type": "execute_result"
    }
   ],
   "source": [
    "Data_Python.isnull().sum()"
   ]
  },
  {
   "cell_type": "markdown",
   "metadata": {},
   "source": [
    "Ninguna de las variables tiene valores faltantes (nulos)."
   ]
  },
  {
   "cell_type": "markdown",
   "metadata": {},
   "source": []
  },
  {
   "cell_type": "markdown",
   "metadata": {},
   "source": [
    "Ahora vamos a ver cual es el rango de las variables categoricas, y posteriormete lo codificaremos en formato estandar $\\lbrace 0,1,2,...\\rbrace$ , si es que no lo están ya."
   ]
  },
  {
   "cell_type": "code",
   "execution_count": 85,
   "metadata": {},
   "outputs": [
    {
     "data": {
      "text/plain": [
       "array(['Female', 'Male'], dtype=object)"
      ]
     },
     "execution_count": 85,
     "metadata": {},
     "output_type": "execute_result"
    }
   ],
   "source": [
    "Data_Python['Gender'].unique()"
   ]
  },
  {
   "cell_type": "code",
   "execution_count": 86,
   "metadata": {},
   "outputs": [
    {
     "data": {
      "text/plain": [
       "array([1, 2], dtype=object)"
      ]
     },
     "execution_count": 86,
     "metadata": {},
     "output_type": "execute_result"
    }
   ],
   "source": [
    "Data_Python['Diseased'].unique()"
   ]
  },
  {
   "cell_type": "markdown",
   "metadata": {},
   "source": []
  },
  {
   "cell_type": "markdown",
   "metadata": {},
   "source": [
    "Vamos a codificar en formato estandar la variable **Gender** tal que: **Female=0** , **Male=1** , y la variable **Diseased** tal que: **1=0** , **2=1**"
   ]
  },
  {
   "cell_type": "markdown",
   "metadata": {},
   "source": [
    "Para ello vamos a apoyarnos en la libreria `sklearn`, que posteriormente volverá a ser usada. Podria hacer esto de otras formas, como con un bucle for, pero en casos en los que el numero de categorias es alto, la opcion aportada por `sklearn` es bastante mas eficiente que un bucle."
   ]
  },
  {
   "cell_type": "code",
   "execution_count": 87,
   "metadata": {},
   "outputs": [],
   "source": [
    "from sklearn.preprocessing import OrdinalEncoder\n",
    "\n",
    "ord_enc = OrdinalEncoder()"
   ]
  },
  {
   "cell_type": "code",
   "execution_count": 88,
   "metadata": {},
   "outputs": [],
   "source": [
    "Data_Python['Gender'] = ord_enc.fit_transform(Data_Python[['Gender']])\n",
    "\n",
    "Data_Python['Diseased'] = ord_enc.fit_transform(Data_Python[['Diseased']])"
   ]
  },
  {
   "cell_type": "markdown",
   "metadata": {},
   "source": []
  },
  {
   "cell_type": "markdown",
   "metadata": {},
   "source": [
    "Comprobamos que los cambios se han realizado correctamente:"
   ]
  },
  {
   "cell_type": "code",
   "execution_count": 89,
   "metadata": {},
   "outputs": [
    {
     "data": {
      "text/plain": [
       "array([0., 1.])"
      ]
     },
     "execution_count": 89,
     "metadata": {},
     "output_type": "execute_result"
    }
   ],
   "source": [
    "Data_Python['Gender'].unique()"
   ]
  },
  {
   "cell_type": "code",
   "execution_count": 90,
   "metadata": {},
   "outputs": [
    {
     "data": {
      "text/plain": [
       "array([0., 1.])"
      ]
     },
     "execution_count": 90,
     "metadata": {},
     "output_type": "execute_result"
    }
   ],
   "source": [
    "Data_Python['Diseased'].unique()"
   ]
  },
  {
   "cell_type": "markdown",
   "metadata": {},
   "source": []
  },
  {
   "cell_type": "markdown",
   "metadata": {},
   "source": [
    "Pero cuidado, tras realizar estos cambios tambien se cambia en Python el tipo de las variables codificadas a 'float64' , que es un tipo cuantitativo (continuo), por lo que debemos volver a fijar su tipo como 'object' (ya que son categoricas)."
   ]
  },
  {
   "cell_type": "code",
   "execution_count": 96,
   "metadata": {},
   "outputs": [
    {
     "data": {
      "text/plain": [
       "Age                             int64\n",
       "Gender                        float64\n",
       "Total_Bilirubin               float64\n",
       "Direct_Bilirubin              float64\n",
       "Alkaline_Phosphotase            int64\n",
       "Alamine_Aminotransferase        int64\n",
       "Aspartate_Aminotransferase      int64\n",
       "Total_Protiens                float64\n",
       "Albumin                       float64\n",
       "Albumin_and_Globulin_Ratio    float64\n",
       "Diseased                      float64\n",
       "dtype: object"
      ]
     },
     "execution_count": 96,
     "metadata": {},
     "output_type": "execute_result"
    }
   ],
   "source": [
    "Data_Python.dtypes"
   ]
  },
  {
   "cell_type": "code",
   "execution_count": 97,
   "metadata": {},
   "outputs": [],
   "source": [
    "Data_Python['Diseased'] = Data_Python['Diseased'].astype('object')\n",
    "Data_Python['Gender'] = Data_Python['Gender'].astype('object')"
   ]
  },
  {
   "cell_type": "markdown",
   "metadata": {},
   "source": [
    "Verificamos que se han realizado correctamente los cambios:"
   ]
  },
  {
   "cell_type": "code",
   "execution_count": 98,
   "metadata": {},
   "outputs": [
    {
     "data": {
      "text/plain": [
       "Age                             int64\n",
       "Gender                         object\n",
       "Total_Bilirubin               float64\n",
       "Direct_Bilirubin              float64\n",
       "Alkaline_Phosphotase            int64\n",
       "Alamine_Aminotransferase        int64\n",
       "Aspartate_Aminotransferase      int64\n",
       "Total_Protiens                float64\n",
       "Albumin                       float64\n",
       "Albumin_and_Globulin_Ratio    float64\n",
       "Diseased                       object\n",
       "dtype: object"
      ]
     },
     "execution_count": 98,
     "metadata": {},
     "output_type": "execute_result"
    }
   ],
   "source": [
    "Data_Python.dtypes"
   ]
  },
  {
   "cell_type": "markdown",
   "metadata": {},
   "source": []
  },
  {
   "cell_type": "markdown",
   "metadata": {},
   "source": [
    "#### Resumen de estadisticos descriptivos básico:"
   ]
  },
  {
   "cell_type": "markdown",
   "metadata": {},
   "source": [
    "Ahora vamos a hacer una descripcion estadistica básica de las variables del data-set:"
   ]
  },
  {
   "cell_type": "code",
   "execution_count": 99,
   "metadata": {},
   "outputs": [
    {
     "data": {
      "text/html": [
       "<div>\n",
       "<style scoped>\n",
       "    .dataframe tbody tr th:only-of-type {\n",
       "        vertical-align: middle;\n",
       "    }\n",
       "\n",
       "    .dataframe tbody tr th {\n",
       "        vertical-align: top;\n",
       "    }\n",
       "\n",
       "    .dataframe thead th {\n",
       "        text-align: right;\n",
       "    }\n",
       "</style>\n",
       "<table border=\"1\" class=\"dataframe\">\n",
       "  <thead>\n",
       "    <tr style=\"text-align: right;\">\n",
       "      <th></th>\n",
       "      <th>Age</th>\n",
       "      <th>Gender</th>\n",
       "      <th>Total_Bilirubin</th>\n",
       "      <th>Direct_Bilirubin</th>\n",
       "      <th>Alkaline_Phosphotase</th>\n",
       "      <th>Alamine_Aminotransferase</th>\n",
       "      <th>Aspartate_Aminotransferase</th>\n",
       "      <th>Total_Protiens</th>\n",
       "      <th>Albumin</th>\n",
       "      <th>Albumin_and_Globulin_Ratio</th>\n",
       "      <th>Diseased</th>\n",
       "    </tr>\n",
       "  </thead>\n",
       "  <tbody>\n",
       "    <tr>\n",
       "      <th>count</th>\n",
       "      <td>583.000000</td>\n",
       "      <td>583.0</td>\n",
       "      <td>583.000000</td>\n",
       "      <td>583.000000</td>\n",
       "      <td>583.000000</td>\n",
       "      <td>583.000000</td>\n",
       "      <td>583.000000</td>\n",
       "      <td>583.000000</td>\n",
       "      <td>583.000000</td>\n",
       "      <td>583.000000</td>\n",
       "      <td>583.0</td>\n",
       "    </tr>\n",
       "    <tr>\n",
       "      <th>unique</th>\n",
       "      <td>NaN</td>\n",
       "      <td>2.0</td>\n",
       "      <td>NaN</td>\n",
       "      <td>NaN</td>\n",
       "      <td>NaN</td>\n",
       "      <td>NaN</td>\n",
       "      <td>NaN</td>\n",
       "      <td>NaN</td>\n",
       "      <td>NaN</td>\n",
       "      <td>NaN</td>\n",
       "      <td>2.0</td>\n",
       "    </tr>\n",
       "    <tr>\n",
       "      <th>top</th>\n",
       "      <td>NaN</td>\n",
       "      <td>1.0</td>\n",
       "      <td>NaN</td>\n",
       "      <td>NaN</td>\n",
       "      <td>NaN</td>\n",
       "      <td>NaN</td>\n",
       "      <td>NaN</td>\n",
       "      <td>NaN</td>\n",
       "      <td>NaN</td>\n",
       "      <td>NaN</td>\n",
       "      <td>0.0</td>\n",
       "    </tr>\n",
       "    <tr>\n",
       "      <th>freq</th>\n",
       "      <td>NaN</td>\n",
       "      <td>441.0</td>\n",
       "      <td>NaN</td>\n",
       "      <td>NaN</td>\n",
       "      <td>NaN</td>\n",
       "      <td>NaN</td>\n",
       "      <td>NaN</td>\n",
       "      <td>NaN</td>\n",
       "      <td>NaN</td>\n",
       "      <td>NaN</td>\n",
       "      <td>416.0</td>\n",
       "    </tr>\n",
       "    <tr>\n",
       "      <th>mean</th>\n",
       "      <td>44.746141</td>\n",
       "      <td>NaN</td>\n",
       "      <td>3.298799</td>\n",
       "      <td>1.486106</td>\n",
       "      <td>290.576329</td>\n",
       "      <td>80.713551</td>\n",
       "      <td>109.910806</td>\n",
       "      <td>6.483190</td>\n",
       "      <td>3.141852</td>\n",
       "      <td>0.947064</td>\n",
       "      <td>NaN</td>\n",
       "    </tr>\n",
       "    <tr>\n",
       "      <th>std</th>\n",
       "      <td>16.189833</td>\n",
       "      <td>NaN</td>\n",
       "      <td>6.209522</td>\n",
       "      <td>2.808498</td>\n",
       "      <td>242.937989</td>\n",
       "      <td>182.620356</td>\n",
       "      <td>288.918529</td>\n",
       "      <td>1.085451</td>\n",
       "      <td>0.795519</td>\n",
       "      <td>0.318492</td>\n",
       "      <td>NaN</td>\n",
       "    </tr>\n",
       "    <tr>\n",
       "      <th>min</th>\n",
       "      <td>4.000000</td>\n",
       "      <td>NaN</td>\n",
       "      <td>0.400000</td>\n",
       "      <td>0.100000</td>\n",
       "      <td>63.000000</td>\n",
       "      <td>10.000000</td>\n",
       "      <td>10.000000</td>\n",
       "      <td>2.700000</td>\n",
       "      <td>0.900000</td>\n",
       "      <td>0.300000</td>\n",
       "      <td>NaN</td>\n",
       "    </tr>\n",
       "    <tr>\n",
       "      <th>25%</th>\n",
       "      <td>33.000000</td>\n",
       "      <td>NaN</td>\n",
       "      <td>0.800000</td>\n",
       "      <td>0.200000</td>\n",
       "      <td>175.500000</td>\n",
       "      <td>23.000000</td>\n",
       "      <td>25.000000</td>\n",
       "      <td>5.800000</td>\n",
       "      <td>2.600000</td>\n",
       "      <td>0.700000</td>\n",
       "      <td>NaN</td>\n",
       "    </tr>\n",
       "    <tr>\n",
       "      <th>50%</th>\n",
       "      <td>45.000000</td>\n",
       "      <td>NaN</td>\n",
       "      <td>1.000000</td>\n",
       "      <td>0.300000</td>\n",
       "      <td>208.000000</td>\n",
       "      <td>35.000000</td>\n",
       "      <td>42.000000</td>\n",
       "      <td>6.600000</td>\n",
       "      <td>3.100000</td>\n",
       "      <td>0.947064</td>\n",
       "      <td>NaN</td>\n",
       "    </tr>\n",
       "    <tr>\n",
       "      <th>75%</th>\n",
       "      <td>58.000000</td>\n",
       "      <td>NaN</td>\n",
       "      <td>2.600000</td>\n",
       "      <td>1.300000</td>\n",
       "      <td>298.000000</td>\n",
       "      <td>60.500000</td>\n",
       "      <td>87.000000</td>\n",
       "      <td>7.200000</td>\n",
       "      <td>3.800000</td>\n",
       "      <td>1.100000</td>\n",
       "      <td>NaN</td>\n",
       "    </tr>\n",
       "    <tr>\n",
       "      <th>max</th>\n",
       "      <td>90.000000</td>\n",
       "      <td>NaN</td>\n",
       "      <td>75.000000</td>\n",
       "      <td>19.700000</td>\n",
       "      <td>2110.000000</td>\n",
       "      <td>2000.000000</td>\n",
       "      <td>4929.000000</td>\n",
       "      <td>9.600000</td>\n",
       "      <td>5.500000</td>\n",
       "      <td>2.800000</td>\n",
       "      <td>NaN</td>\n",
       "    </tr>\n",
       "  </tbody>\n",
       "</table>\n",
       "</div>"
      ],
      "text/plain": [
       "               Age  Gender  Total_Bilirubin  Direct_Bilirubin  \\\n",
       "count   583.000000   583.0       583.000000        583.000000   \n",
       "unique         NaN     2.0              NaN               NaN   \n",
       "top            NaN     1.0              NaN               NaN   \n",
       "freq           NaN   441.0              NaN               NaN   \n",
       "mean     44.746141     NaN         3.298799          1.486106   \n",
       "std      16.189833     NaN         6.209522          2.808498   \n",
       "min       4.000000     NaN         0.400000          0.100000   \n",
       "25%      33.000000     NaN         0.800000          0.200000   \n",
       "50%      45.000000     NaN         1.000000          0.300000   \n",
       "75%      58.000000     NaN         2.600000          1.300000   \n",
       "max      90.000000     NaN        75.000000         19.700000   \n",
       "\n",
       "        Alkaline_Phosphotase  Alamine_Aminotransferase  \\\n",
       "count             583.000000                583.000000   \n",
       "unique                   NaN                       NaN   \n",
       "top                      NaN                       NaN   \n",
       "freq                     NaN                       NaN   \n",
       "mean              290.576329                 80.713551   \n",
       "std               242.937989                182.620356   \n",
       "min                63.000000                 10.000000   \n",
       "25%               175.500000                 23.000000   \n",
       "50%               208.000000                 35.000000   \n",
       "75%               298.000000                 60.500000   \n",
       "max              2110.000000               2000.000000   \n",
       "\n",
       "        Aspartate_Aminotransferase  Total_Protiens     Albumin  \\\n",
       "count                   583.000000      583.000000  583.000000   \n",
       "unique                         NaN             NaN         NaN   \n",
       "top                            NaN             NaN         NaN   \n",
       "freq                           NaN             NaN         NaN   \n",
       "mean                    109.910806        6.483190    3.141852   \n",
       "std                     288.918529        1.085451    0.795519   \n",
       "min                      10.000000        2.700000    0.900000   \n",
       "25%                      25.000000        5.800000    2.600000   \n",
       "50%                      42.000000        6.600000    3.100000   \n",
       "75%                      87.000000        7.200000    3.800000   \n",
       "max                    4929.000000        9.600000    5.500000   \n",
       "\n",
       "        Albumin_and_Globulin_Ratio  Diseased  \n",
       "count                   583.000000     583.0  \n",
       "unique                         NaN       2.0  \n",
       "top                            NaN       0.0  \n",
       "freq                           NaN     416.0  \n",
       "mean                      0.947064       NaN  \n",
       "std                       0.318492       NaN  \n",
       "min                       0.300000       NaN  \n",
       "25%                       0.700000       NaN  \n",
       "50%                       0.947064       NaN  \n",
       "75%                       1.100000       NaN  \n",
       "max                       2.800000       NaN  "
      ]
     },
     "execution_count": 99,
     "metadata": {},
     "output_type": "execute_result"
    }
   ],
   "source": [
    "Data_Python.describe(include='all') # include='all' para dar un tratamiento diferente a las categoricas que a las cuantitativas"
   ]
  },
  {
   "cell_type": "markdown",
   "metadata": {},
   "source": []
  },
  {
   "cell_type": "markdown",
   "metadata": {},
   "source": [
    "### Análisis gráfico"
   ]
  },
  {
   "cell_type": "markdown",
   "metadata": {},
   "source": [
    "#### Histogramas para las variables cuantitativas"
   ]
  },
  {
   "cell_type": "code",
   "execution_count": 174,
   "metadata": {},
   "outputs": [],
   "source": [
    "import numpy as np\n",
    "\n",
    "import seaborn as sns\n",
    "import matplotlib as mpl\n",
    "import matplotlib.pyplot as plt"
   ]
  },
  {
   "cell_type": "code",
   "execution_count": 238,
   "metadata": {},
   "outputs": [
    {
     "data": {
      "text/plain": [
       "[Text(0, 0, 'Female'), Text(1, 0, 'Male')]"
      ]
     },
     "execution_count": 238,
     "metadata": {},
     "output_type": "execute_result"
    },
    {
     "data": {
      "image/png": "[encoded data removed]",
      "text/plain": [
       "<Figure size 640x480 with 1 Axes>"
      ]
     },
     "metadata": {},
     "output_type": "display_data"
    }
   ],
   "source": [
    "p1 = sns.histplot(data=Data_Python, x=\"Gender\", stat=\"proportion\", bins=10, color=\"skyblue\" )\n",
    "p1.set_xticks([0,1])\n",
    "p1.set_xticklabels(['Female', 'Male'])"
   ]
  },
  {
   "cell_type": "code",
   "execution_count": 243,
   "metadata": {},
   "outputs": [],
   "source": [
    "from  matplotlib.ticker import PercentFormatter"
   ]
  },
  {
   "cell_type": "code",
   "execution_count": 250,
   "metadata": {},
   "outputs": [
    {
     "name": "stdout",
     "output_type": "stream",
     "text": [
      "Collecting dexplot\n",
      "  Downloading dexplot-0.1.4-py3-none-any.whl (173 kB)\n",
      "     -------------------------------------- 173.4/173.4 kB 3.5 MB/s eta 0:00:00\n",
      "Requirement already satisfied: pandas>=0.24 in c:\\users\\usuario\\appdata\\local\\programs\\python\\python310\\lib\\site-packages (from dexplot) (1.4.4)\n",
      "Requirement already satisfied: numpy>=1.15 in c:\\users\\usuario\\appdata\\local\\programs\\python\\python310\\lib\\site-packages (from dexplot) (1.23.2)\n",
      "Requirement already satisfied: scipy>=1.0matplotlib>=3.1 in c:\\users\\usuario\\appdata\\local\\programs\\python\\python310\\lib\\site-packages (from dexplot) (1.9.1)\n",
      "Requirement already satisfied: pytz>=2020.1 in c:\\users\\usuario\\appdata\\local\\programs\\python\\python310\\lib\\site-packages (from pandas>=0.24->dexplot) (2022.2.1)\n",
      "Requirement already satisfied: python-dateutil>=2.8.1 in c:\\users\\usuario\\appdata\\local\\programs\\python\\python310\\lib\\site-packages (from pandas>=0.24->dexplot) (2.8.2)\n",
      "Requirement already satisfied: six>=1.5 in c:\\users\\usuario\\appdata\\local\\programs\\python\\python310\\lib\\site-packages (from python-dateutil>=2.8.1->pandas>=0.24->dexplot) (1.16.0)\n",
      "Installing collected packages: dexplot\n",
      "Successfully installed dexplot-0.1.4\n",
      "Note: you may need to restart the kernel to use updated packages.\n"
     ]
    }
   ],
   "source": [
    "pip install dexplot"
   ]
  },
  {
   "cell_type": "code",
   "execution_count": 261,
   "metadata": {},
   "outputs": [
    {
     "name": "stderr",
     "output_type": "stream",
     "text": [
      "C:\\Users\\Usuario\\AppData\\Local\\Temp\\ipykernel_4928\\226374513.py:6: FutureWarning: \n",
      "\n",
      "The `ci` parameter is deprecated. Use `errorbar=None` for the same effect.\n",
      "\n"
     ]
    },
    {
     "data": {
      "image/png": "[encoded data removed]",
      "text/plain": [
       "<Figure size 300x500 with 1 Axes>"
      ]
     },
     "metadata": {},
     "output_type": "display_data"
    }
   ],
   "source": [
    "import seaborn as sns\n",
    "import matplotlib.pyplot as plt\n",
    "from  matplotlib.ticker import PercentFormatter\n",
    "\n",
    "\n",
    "g = sns.catplot(x=\"Gender\",  y=\"Gender\",\n",
    "                 data=Data_Python, saturation=.5,\n",
    "                 kind=\"bar\", ci=None, aspect=.6)\n",
    "\n",
    "for ax in g.axes.flat:\n",
    "    ax.yaxis.set_major_formatter(PercentFormatter(1))\n",
    "    \n",
    "plt.show()"
   ]
  },
  {
   "cell_type": "code",
   "execution_count": null,
   "metadata": {},
   "outputs": [],
   "source": [
    "Data_Python['proportion'] = "
   ]
  },
  {
   "cell_type": "code",
   "execution_count": 268,
   "metadata": {},
   "outputs": [],
   "source": [
    "proportion_Female = len( Data_Python.loc[ Data_Python['Gender']==0 , :] ) / len(Data_Python)\n",
    "proportion_Male = len( Data_Python.loc[ Data_Python['Gender']==1 , :] ) / len(Data_Python)"
   ]
  },
  {
   "cell_type": "code",
   "execution_count": 272,
   "metadata": {},
   "outputs": [],
   "source": []
  },
  {
   "cell_type": "code",
   "execution_count": 274,
   "metadata": {},
   "outputs": [
    {
     "name": "stderr",
     "output_type": "stream",
     "text": [
      "C:\\Users\\Usuario\\AppData\\Local\\Temp\\ipykernel_4928\\1309751954.py:8: SettingWithCopyWarning: \n",
      "A value is trying to be set on a copy of a slice from a DataFrame\n",
      "\n",
      "See the caveats in the documentation: https://pandas.pydata.org/pandas-docs/stable/user_guide/indexing.html#returning-a-view-versus-a-copy\n"
     ]
    }
   ],
   "source": [
    "Data_Python['proportion_Gender'] = 0\n",
    "\n",
    "\n",
    "for i in range(0, len(Data_Python)):\n",
    "\n",
    "    if Data_Python['Gender'][i] == 0 :\n",
    "\n",
    "        Data_Python['proportion_Gender'][i] = proportion_Female\n",
    "\n",
    "    else :\n",
    "\n",
    "        Data_Python['proportion_Gender'][i] = proportion_Male"
   ]
  },
  {
   "cell_type": "code",
   "execution_count": 283,
   "metadata": {},
   "outputs": [
    {
     "data": {
      "text/plain": [
       "<AxesSubplot:xlabel='Gender', ylabel='proportion_Gender'>"
      ]
     },
     "execution_count": 283,
     "metadata": {},
     "output_type": "execute_result"
    },
    {
     "data": {
      "image/png": "[encoded data removed]",
      "text/plain": [
       "<Figure size 640x480 with 1 Axes>"
      ]
     },
     "metadata": {},
     "output_type": "display_data"
    }
   ],
   "source": [
    "p1 = sns.barplot(x='Gender', y='proportion_Gender', data=Data_Python) \n",
    "p1.set_yticks( np.arange(0, 1, 0.1)  )\n",
    "p1.set_xticklabels(['Female', 'Male'])\n",
    "\n",
    "p1"
   ]
  },
  {
   "cell_type": "code",
   "execution_count": 234,
   "metadata": {},
   "outputs": [
    {
     "data": {
      "image/png": "[encoded data removed]",
      "text/plain": [
       "<Figure size 1300x1300 with 9 Axes>"
      ]
     },
     "metadata": {},
     "output_type": "display_data"
    }
   ],
   "source": [
    "fig, axs = plt.subplots(3, 3, figsize=(13, 13))\n",
    "\n",
    "p1 = sns.histplot(data=Data_Python, x=\"Total_Bilirubin\", stat=\"proportion\", bins=10, color=\"skyblue\", ax=axs[0, 0])\n",
    "p1.set_xticks( range(int(Data_Python['Total_Bilirubin'].min()) , int(Data_Python['Total_Bilirubin'].max()) , 10) )\n",
    "p1.set_yticks( np.arange(0, 1, 0.1)  )\n",
    "\n",
    "p2 = sns.histplot(data=Data_Python, x=\"Direct_Bilirubin\", stat=\"proportion\", bins=10, color=\"olive\", ax=axs[0, 1])\n",
    "p2.axes.set(xlabel='Direct_Bilirubin', ylabel=' ')\n",
    "p2.set_xticks( range(int(Data_Python['Direct_Bilirubin'].min()) , int(Data_Python['Direct_Bilirubin'].max()) , 3) )\n",
    "p2.set_yticks( np.arange(0, 1, 0.1)  )\n",
    "\n",
    "p3 = sns.histplot(data=Data_Python, x=\"Alkaline_Phosphotase\", stat=\"proportion\", bins=10, color=\"blue\", ax=axs[0, 2])\n",
    "p3.axes.set(xlabel='Alkaline_Phosphotase', ylabel=' ')\n",
    "p3.set_xticks( range(int(Data_Python['Alkaline_Phosphotase'].min()) , int(Data_Python['Alkaline_Phosphotase'].max()) , 320) )\n",
    "p3.set_yticks( np.arange(0, 1, 0.1)  )\n",
    "\n",
    "p4 = sns.histplot(data=Data_Python, x=\"Alamine_Aminotransferase\", stat=\"proportion\", bins=10, color=\"teal\", ax=axs[1, 0])\n",
    "p4.axes.set(xlabel='Alamine_Aminotransferase', ylabel=' ')\n",
    "p2.set_xticks( range(int(Data_Python['Direct_Bilirubin'].min()) , int(Data_Python['Direct_Bilirubin'].max()) , 3) )\n",
    "p2.set_yticks( np.arange(0, 1, 0.1)  )\n",
    "\n",
    "p5 = sns.histplot(data=Data_Python, x=\"Aspartate_Aminotransferase\", stat=\"proportion\", bins=10, color=\"purple\", ax=axs[1, 1])\n",
    "p5.axes.set(xlabel='Aspartate_Aminotransferase', ylabel=' ')\n",
    "p2.set_xticks( range(int(Data_Python['Direct_Bilirubin'].min()) , int(Data_Python['Direct_Bilirubin'].max()) , 3) )\n",
    "p2.set_yticks( np.arange(0, 1, 0.1)  )\n",
    "\n",
    "p6 = sns.histplot(data=Data_Python, x=\"Total_Protiens\", stat=\"proportion\", bins=10, color=\"pink\", ax=axs[1, 2])\n",
    "p6.axes.set(xlabel='Total_Protiens', ylabel=' ')\n",
    "p2.set_xticks( range(int(Data_Python['Direct_Bilirubin'].min()) , int(Data_Python['Direct_Bilirubin'].max()) , 3) )\n",
    "p2.set_yticks( np.arange(0, 1, 0.1)  )\n",
    "\n",
    "p7 = sns.histplot(data=Data_Python, x=\"Albumin\", stat=\"proportion\", bins=10, color=\"orange\", ax=axs[2, 0])\n",
    "p7.axes.set(xlabel='Albumin', ylabel=' ')\n",
    "p2.set_xticks( range(int(Data_Python['Direct_Bilirubin'].min()) , int(Data_Python['Direct_Bilirubin'].max()) , 3) )\n",
    "p2.set_yticks( np.arange(0, 1, 0.1)  )\n",
    "\n",
    "p8 = sns.histplot(data=Data_Python, x=\"Albumin_and_Globulin_Ratio\", stat=\"proportion\", bins=10, color=\"red\", ax=axs[2, 1])\n",
    "p8.axes.set(xlabel='Albumin_and_Globulin_Ratio', ylabel=' ')\n",
    "p2.set_xticks( range(int(Data_Python['Direct_Bilirubin'].min()) , int(Data_Python['Direct_Bilirubin'].max()) , 3) )\n",
    "p2.set_yticks( np.arange(0, 1, 0.1)  )\n",
    "\n",
    "plt.show()"
   ]
  },
  {
   "cell_type": "markdown",
   "metadata": {},
   "source": []
  },
  {
   "cell_type": "markdown",
   "metadata": {},
   "source": [
    "#### Diagramas de barras para las variables categoricas"
   ]
  },
  {
   "cell_type": "code",
   "execution_count": null,
   "metadata": {},
   "outputs": [],
   "source": []
  },
  {
   "cell_type": "markdown",
   "metadata": {},
   "source": []
  },
  {
   "cell_type": "markdown",
   "metadata": {},
   "source": [
    "#### Box-plots para las variables cuantitativas"
   ]
  },
  {
   "cell_type": "markdown",
   "metadata": {},
   "source": []
  },
  {
   "cell_type": "markdown",
   "metadata": {},
   "source": [
    "### Análisis de la relación entre los predictores y la respuesta"
   ]
  },
  {
   "cell_type": "markdown",
   "metadata": {},
   "source": [
    "#### Diagrama de barras de la respuesta en función de predictores categóricos"
   ]
  },
  {
   "cell_type": "markdown",
   "metadata": {},
   "source": [
    "##### Tabla de frecuencias relativas condicionadas y conjuntas"
   ]
  },
  {
   "cell_type": "markdown",
   "metadata": {},
   "source": [
    "enfermedad por generos"
   ]
  },
  {
   "cell_type": "markdown",
   "metadata": {},
   "source": [
    "genero en funcion de enfermedad"
   ]
  },
  {
   "cell_type": "markdown",
   "metadata": {},
   "source": [
    "#### Diagrama de punto de la respuesta en función de predictores cuantitativos"
   ]
  },
  {
   "cell_type": "markdown",
   "metadata": {},
   "source": [
    "medias de los predicrtores cuantis en funcion de los valores de la respuesta"
   ]
  },
  {
   "cell_type": "markdown",
   "metadata": {},
   "source": [
    "Boxplot de cuantis en funcion de la respuesta"
   ]
  },
  {
   "cell_type": "markdown",
   "metadata": {},
   "source": [
    "####   Tabla de frecuencias relativas condicionadas y conjuntasen función de predictores cuantitativos categorizados (y tambien de predicotres categoricos)"
   ]
  },
  {
   "cell_type": "markdown",
   "metadata": {},
   "source": [
    "frecuencias relativas: enfermedad dentro de grupos de edad (cuanti categorizada), enfermedad dentro de grupos de edad y genero "
   ]
  },
  {
   "cell_type": "markdown",
   "metadata": {},
   "source": []
  },
  {
   "cell_type": "markdown",
   "metadata": {},
   "source": []
  },
  {
   "cell_type": "markdown",
   "metadata": {},
   "source": [
    "\n",
    "#### 4.2. Algoritmo rpart con R\n",
    "```{r}\n",
    "library(dplyr)\n",
    "library(rpart)\n",
    "library(rpart.plot)\n",
    "library(caret)\n",
    "\n",
    "# Visualización de un arbol muy grande\n",
    "\n",
    "set.seed(0)\n",
    "datos_entreno<-sample_frac(ilpd,0.75) # fraccionamos la muestra en entrenamiento y test\n",
    "datos_test<-setdiff(ilpd,datos_entreno)\n",
    "\n",
    "arbol_0<-rpart(diseased~.,data = datos_entreno, method = \"class\",cp=0.01)\n",
    "rpart.plot(arbol_0, \n",
    "           extra = 104,          # show fitted class, probs, percentages\n",
    "           box.palette = \"GnBu\", # color scheme\n",
    "           branch.lty = 3,       # dotted branch lines\n",
    "           shadow.col = \"gray\",  # shadows under the node boxes\n",
    "           nn = TRUE)\n",
    "\n",
    "(prediccion1<-predict(arbol_0,newdata=datos_test,type=\"class\")) # Predicciones y matriz de confusión\n",
    "(matriz_confusion1<-confusionMatrix(prediccion1,datos_test[[\"diseased\"]]))\n",
    "\n",
    "\n",
    "# Debido a la alta complejidad de estos arboles le vamos a hacer un proceso de prepoda, para ello podemos hacer uso tanto del parámetro cp o directamente manipulando los hiperparametros de los modelos.\n",
    "\n",
    "\n",
    "# Arbol un poco podado (no se pide en la práctica)\n",
    "\n",
    "set.seed(1)\n",
    "datos_entreno2<-sample_frac(ilpd,0.75)  # Separamos los datos de entrenamiento\n",
    "datos_test2<-setdiff(ilpd, datos_entreno2) # Separamos los datos de test\n",
    "\n",
    "arbol_1<-rpart(diseased~.,data=datos_entreno2,maxdepth=4,method = \"class\") # Cambiamos la profundidad\n",
    "rpart.plot(arbol_1, \n",
    "           extra = 104,          # show fitted class, probs, percentages\n",
    "           box.palette = \"GnBu\", # color scheme\n",
    "           branch.lty = 3,       # dotted branch lines\n",
    "           shadow.col = \"gray\",  # shadows under the node boxes\n",
    "           nn = TRUE)\n",
    "\n",
    "# Con esto hemos conseguido un modelo mucho más simple que el anterior sin prepoda.\n",
    "\n",
    "(prediccion2<-predict(arbol_1,newdata=datos_test2,type=\"class\")) # predicción y matriz de confusión\n",
    "(matriz_confusion2<-confusionMatrix(prediccion2,datos_test2[[\"diseased\"]]))\n",
    "\n",
    "```\n",
    "\n",
    "Se puede ver como hemos mejorado un poco la precisión de la predicción simplemente cambiando el coeficiente de partición. Cabe remarcar que el algoritmo de los CART utilizan Gini como criterio de división.\n",
    "\n",
    "\n",
    "#### 4.3. Algoritmo C50 con R\n",
    "```{r}\n",
    "## Cargado de paquete específico del Arbol de clasificación C5.0\n",
    "##install.packages(\"C50\",dependencies=TRUE)\n",
    "library(C50)\n",
    "\n",
    "# Partición en datos de entrenaminento y test\n",
    "set.seed(666)\n",
    "tamano_total<-nrow(ilpd)\n",
    "tamano_entreno<-round(tamano_total*0.75)\n",
    "datos_indices<-sample(1:tamano_total,size = tamano_entreno)\n",
    "datos_entreno<-ilpd[datos_indices,]\n",
    "datos_test<-ilpd[-datos_indices,]\n",
    "\n",
    "\n",
    "round(table(datos_entreno$diseased)/nrow(datos_entreno), 3)\n",
    "## Tienen que ser relativamente similares\n",
    "round(table(datos_test$diseased)/nrow(datos_test), 3)\n",
    "\n",
    "## Ejecución del modelo de clasificación C5.0\n",
    "modeloC50<-C5.0(diseased~.,data=datos_entreno,trials=1,rules=FALSE)\n",
    "## Información del modelo creado\n",
    "summary(modeloC50)\n",
    "\n",
    "## Gráfico del modelo\n",
    "plot(modeloC50)\n",
    "\n",
    "## Predicción\n",
    "(prediccion<-predict(modeloC50, newdata = datos_test,type=\"class\"))\n",
    "\n",
    "## Matriz de confusión\n",
    "(matriz_confusion<-table(predicho=prediccion, real=datos_test$diseased))\n",
    "\n",
    "## Porcentaje de clasificados correctamente\n",
    "100*sum(diag(matriz_confusion))/sum(matriz_confusion)\n",
    "\n",
    "## Error de clasificación\n",
    "error_clas<-round(mean(prediccion != datos_test$diseased),3)\n",
    "paste(\n",
    "  \"El error de clasificación es del:\",100*error_clas,\"%.\",sum(prediccion==datos_test$diseased),\"clasificaciones correctas de un total de\",length(prediccion)\n",
    ")\n",
    "\n",
    "\n",
    "## Arbol podado (no se pide)\n",
    "## Seleccionamos la submuestra del 75% de los datos\n",
    "set.seed(25)\n",
    "tamano_total<-nrow(ilpd)\n",
    "tamano_entreno<-round(tamano_total*0.75)\n",
    "datos_indices<-sample(1:tamano_total,size = tamano_entreno)\n",
    "datos_entreno<-ilpd[datos_indices,]\n",
    "datos_test<-ilpd[-datos_indices,]\n",
    "\n",
    "round(table(datos_entreno$diseased)/nrow(datos_entreno), 3)\n",
    "## Tienen que ser relativamente similares\n",
    "round(table(datos_test$diseased)/nrow(datos_test), 3)\n",
    "\n",
    "## Ejecución del modelo de clasificación C5.0\n",
    "modeloC50<-C5.0(diseased~.,data=datos_entreno,trials=1,rules=FALSE,control = C5.0Control(minCases = 10,earlyStopping = TRUE\n",
    "))\n",
    "## Información del modelo creado\n",
    "summary(modeloC50)\n",
    "\n",
    "## Gráfico del modelo\n",
    "plot(modeloC50)\n",
    "\n",
    "## Predicción\n",
    "(prediccion<-predict(modeloC50, newdata = datos_test,type=\"class\"))\n",
    "\n",
    "## Matriz de confusión\n",
    "(matriz_confusion<-table(predicho=prediccion, real=datos_test$diseased))\n",
    "\n",
    "## Porcentaje de clasificados correctamente\n",
    "100*sum(diag(matriz_confusion))/sum(matriz_confusion)\n",
    "\n",
    "## Error de clasificación\n",
    "error_clas<-round(mean(prediccion != datos_test$diseased),3)\n",
    "paste(\n",
    "  \"El error de clasificación es del:\",100*error_clas,\"%.\",sum(prediccion==datos_test$diseased),\"clasificaciones correctas de un total de\",length(prediccion)\n",
    ")\n",
    "\n",
    "```\n",
    "\n",
    "#### 4.4. Algoritmo CART con mlr3\n",
    "\n",
    "```{r}\n",
    "## No es necesario preprocesar los datos para árboles (dummy y normalización)\n",
    "library(mlr3)\n",
    "library(mlr3learners)\n",
    "library(mlr3extralearners)\n",
    "\n",
    "# Creamos la tarea de clasificación\n",
    "ILPD_task<-as_task_classif(ilpd,target = \"diseased\")\n",
    "\n",
    "# Método de evaluación\n",
    "res_desc<-rsmp(\"holdout\",ratio=0.75)\n",
    "set.seed(0)\n",
    "res_desc$instantiate(ILPD_task)\n",
    "\n",
    "# Definimos el método de aprendizaje\n",
    "tree_learner<-lrn(\"classif.rpart\",maxdepth=4)\n",
    "\n",
    "# Entrenamos y evaluamos el modelo\n",
    "tree_resample<-resample(task = ILPD_task, learner = tree_learner,resampling = res_desc,store_models = TRUE)\n",
    "\n",
    "# Predicciones\n",
    "tree_test<-tree_resample$predictions()\n",
    "tree_test[[1]]\n",
    "\n",
    "# Calculamos la accuracy\n",
    "tree_acc<-tree_resample$aggregate(msr(\"classif.acc\"))\n",
    "\n",
    "# Visualizamos el modelo\n",
    "tree_learner<-tree_resample$learners[[1]]\n",
    "tree_learner$model\n",
    "\n",
    "# Ploteamos el arbol\n",
    "rpart.plot(tree_learner$model)\n",
    "\n",
    "```\n",
    "\n",
    "#### 4.5. Algoritmo C5.0 con mlr3\n",
    "```{r}\n",
    "library(mlr3)\n",
    "library(mlr3learners)\n",
    "library(mlr3extralearners)\n",
    "\n",
    "# Cambiamos a numericos porque el algoritmo si no no funciona.\n",
    "ilpd$age<-as.numeric(ilpd$age)\n",
    "ilpd$alkaline_phosphatase<-as.numeric(ilpd$alkaline_phosphatase)\n",
    "ilpd$alanine_transaminase<-as.numeric(ilpd$alanine_transaminase)\n",
    "ilpd$aspartate_transaminase<-as.numeric(ilpd$aspartate_transaminase)\n",
    "\n",
    "# Creamos la tarea de clasificación\n",
    "ILPD_task<-as_task_classif(ilpd,target = \"diseased\")\n",
    "\n",
    "# Definimos el método de evaluación\n",
    "res_desc<-rsmp(\"holdout\",ratio=0.75)\n",
    "set.seed(0)\n",
    "res_desc$instantiate(ILPD_task)\n",
    "\n",
    "# Definimos el método de aprendizaje\n",
    "tree_learner<-lrn(\"classif.C50\")\n",
    "\n",
    "# Entrenamos y evaluamos el modelo\n",
    "tree_resample<-resample(task = ILPD_task, learner = tree_learner, resampling = res_desc, store_models = TRUE)\n",
    "\n",
    "# Predicciones del modelo\n",
    "tree_test<-tree_resample$predictions()\n",
    "tree_test[[1]]\n",
    "\n",
    "# Calculamos la accuracy del modelo\n",
    "tree_acc<-tree_resample$aggregate(msr(\"classif.acc\"))\n",
    "\n",
    "# Visualizamos el modelo\n",
    "tree_learner<-tree_resample$learners[[1]]\n",
    "tree_learner$model\n",
    "\n",
    "# No funciona (seguir buscando)\n",
    "plot(tree_learner$model)\n",
    "```\n",
    "\n"
   ]
  }
 ],
 "metadata": {
  "kernelspec": {
   "display_name": "Python 3.10.0 64-bit",
   "language": "python",
   "name": "python3"
  },
  "language_info": {
   "codemirror_mode": {
    "name": "ipython",
    "version": 3
   },
   "file_extension": ".py",
   "mimetype": "text/x-python",
   "name": "python",
   "nbconvert_exporter": "python",
   "pygments_lexer": "ipython3",
   "version": "3.10.0"
  },
  "orig_nbformat": 4,
  "vscode": {
   "interpreter": {
    "hash": "c63d8c7d738c2960218a10995aedf0a7f67a49a231e71037adf0440953cdb45b"
   }
  }
 },
 "nbformat": 4,
 "nbformat_minor": 2
}
