{
 "cells": [
  {
   "cell_type": "markdown",
   "metadata": {},
   "source": [
    "# Aplicación del aprendizaje automático en la medicina predictiva.\n",
    "\n",
    "## Práctica 1: Clasificación para el diagnóstico de enfermedades.\n"
   ]
  },
  {
   "cell_type": "markdown",
   "metadata": {},
   "source": [
    "\n",
    "### Indice\n",
    "\n",
    "\n",
    "* [1. Objetivos](#1)\n",
    "  \n",
    "* [2. Problema](#2)\n",
    "  \n",
    "* [3. Datos](#3)\n",
    "  \n",
    "\n",
    "* [4. Desarrollo de la práctica](#4)\n",
    "  \n",
    "* * [4.1. Carga de los datos en `R` y `Python`](#5)\n",
    "  \n"
   ]
  },
  {
   "cell_type": "markdown",
   "metadata": {},
   "source": [
    "* * [4.2. EDA en `R`](#6)\n",
    "* * * [4.2.1 EDA con `skimr`](#6.1)\n",
    "* * * [4.2.2 EDA con `DataExplorer`](#6.2)"
   ]
  },
  {
   "cell_type": "markdown",
   "metadata": {},
   "source": [
    "* * [4.3. EDA en `Python`](#7)\n",
    "  \n",
    "\n",
    "* * * [4.3.1. Estructura del data-set](#8)\n",
    "* * * [4.3.2. Resumen Estadístico Descriptivo Básico](#9)\n",
    "* * * [4.3.3. Analisis gráfico general](#10)\n",
    "* * * * [4.3.3.1. Histogramas de las variables cuantitativas](#11)\n",
    "* * * * [4.3.3.2. Diagramas de barras de las variables categoricas](#12)\n",
    "* * * * [4.3.3.3. Box-plots de las variables cuantitativas](#13)\n",
    "* * * [4.3.4. Analisis de la relación entre los predictores categoricos y la respuesta](#14)\n",
    "* * * * [4.3.4.1. Analisis relación entre respuesta (Diseased) y Gender](#15)\n",
    "* * * * [4.3.4.2. Analisis relación entre respuesta (Diseased) y Grupo de Edad](#16)\n",
    "* * * [4.3.5. Analisis de la relación entre los predictores cuantitativos y la respuesta](#17)\n",
    "* * * * [4.3.5.1. Resumen Estadisticos Descriptivos Cuantitativos en funcion de la respuesta (Diseased)](#18)\n",
    "* * * * [4.3.5.2. Diagrama de puntos de los predictores cuantitativos en función de la respuesta (Diseased) ](#19)\n",
    "* * * * [4.3.5.3. Box-plots de los predictores cuantitativos en función de la respuesta (Diseased)](#20)"
   ]
  },
  {
   "cell_type": "markdown",
   "metadata": {},
   "source": [
    "\n",
    "* * [4.4. Arboles de clasificación en `R`](#21)\n",
    "* * * [4.4.1. Algoritmo rpart en `R`](#22)\n",
    "* * * [4.4.2.  Algoritmo C50 en `R`](#23)\n",
    "* * * [4.4.3. Algoritmo CART en `R` con `mlr3`](#24)\n",
    "* * * [4.4.4. Algoritmo C5.0 en `R` con `mlr3`](#25)\n"
   ]
  },
  {
   "cell_type": "markdown",
   "metadata": {},
   "source": [
    "\n",
    "* * [4.5. Arboles de clasificación en `Python`](#26)\n",
    "* * * [4.5.1. Arboles de clasificación: teoria](#27)\n",
    "* * * [4.5.2. Algoritmo de creación propia en `Python`](#28)\n",
    "* * * [4.5.3. Arboles de clasificación en `Python` con `sklearn`](#29)\n",
    "* * * [4.5.4. Validacion Simple en `Python`](#29)\n"
   ]
  },
  {
   "cell_type": "markdown",
   "metadata": {},
   "source": [
    "\n",
    "* * [4.6. KNN para clasificación en `Python`](#30)\n",
    "* * * [4.6.1. KNN para clasificación: teoria](#31)\n",
    "* * * [4.6.2. Algoritmo de creación propia en `Python`](#32)\n",
    "* * * [4.6.3. KNN para clasificación en `Python` con `sklearn`](#33)\n",
    "* * * [4.6.4. Validacion Simple en `Python`](#34)"
   ]
  },
  {
   "cell_type": "markdown",
   "metadata": {},
   "source": [
    "* * [4.7. Comparación entre árboles y KNN para clasificación](#35)"
   ]
  },
  {
   "cell_type": "markdown",
   "metadata": {},
   "source": []
  },
  {
   "cell_type": "markdown",
   "metadata": {},
   "source": [
    "----"
   ]
  },
  {
   "cell_type": "markdown",
   "metadata": {},
   "source": []
  },
  {
   "cell_type": "markdown",
   "metadata": {},
   "source": [
    "\n",
    "## 1. Objetivos <a class=\"anchor\" id=\"1\"></a>\n",
    "\n",
    "- Conocer un contexto de aplicación real.\n",
    "\n",
    "- Ejercitarnos en el análisis de datos y la implementación de algoritmos de clasificación, para adquirir criterio en la aplicación de los mismos.\n",
    "\n",
    "- Evaluar las capacidades de R y mlr para la implementación.\n"
   ]
  },
  {
   "cell_type": "markdown",
   "metadata": {},
   "source": []
  },
  {
   "cell_type": "markdown",
   "metadata": {},
   "source": [
    "\n",
    "## 2. Problema <a class=\"anchor\" id=\"2\"></a>\n",
    "\n",
    "- Resolver un problema de clasificación para el diagnóstico de pacientes hepáticos.\n"
   ]
  },
  {
   "cell_type": "markdown",
   "metadata": {},
   "source": []
  },
  {
   "cell_type": "markdown",
   "metadata": {},
   "source": [
    "\n",
    "## 3. Datos <a class=\"anchor\" id=\"3\"></a>\n",
    "\n",
    "- Usaremos el conjunto de datos “Indian Liver Patient Dataset”: Los pacientes con enfermedades del hígado han ido aumentando continuamente debido al consumo excesivo de alcohol, inhalación de gases nocivos, ingesta de alimentos contaminados, encurtidos y drogas. \n",
    "\n",
    "- Este conjunto de datos se utilizó para evaluar los algoritmos de predicción en un esfuerzo por reducir la cargapara los médicos. Este conjunto de datos contiene 416 registros de pacientes hepáticos y 167 registros de pacientes no hepáticos recopilados en el noreste de Andhra Pradesh, India.\n",
    "\n",
    "- La variable de respuesta es “diseased” (personas que tienen enfermedad del hígado)\n",
    "\n",
    "- El data set encuentra en la librería “mlr3data”. \n",
    "data(\"ilpd\", package = \"mlr3data\")\n"
   ]
  },
  {
   "cell_type": "markdown",
   "metadata": {},
   "source": []
  },
  {
   "cell_type": "markdown",
   "metadata": {},
   "source": [
    "\n",
    "## 4. Desarrollo de la práctica <a class=\"anchor\" id=\"4\"></a>\n"
   ]
  },
  {
   "cell_type": "markdown",
   "metadata": {},
   "source": [
    "Vamos a desarrollar esta practica en los lenguajes de programacion `R` y `Python` simultaneamente. \n",
    "\n",
    "Lo haremos usando el lenguaje `Python` utilizando un paquete llamado `rpy2` que permite ejecutar codigo `R` desde `Python` "
   ]
  },
  {
   "cell_type": "markdown",
   "metadata": {},
   "source": []
  },
  {
   "cell_type": "markdown",
   "metadata": {},
   "source": [
    "### 4.1. Carga de los datos <a class=\"anchor\" id=\"5\"></a>"
   ]
  },
  {
   "cell_type": "markdown",
   "metadata": {},
   "source": [
    "\n",
    "Empezamos la práctica cargando los datos, tanto en `R` como en `Python` :"
   ]
  },
  {
   "cell_type": "code",
   "execution_count": 2,
   "metadata": {},
   "outputs": [
    {
     "name": "stderr",
     "output_type": "stream",
     "text": [
      "c:\\Users\\Usuario\\AppData\\Local\\Programs\\Python\\Python310\\lib\\site-packages\\rpy2\\robjects\\packages.py:366: UserWarning: The symbol 'quartz' is not in this R namespace/package.\n",
      "  warnings.warn(\n"
     ]
    }
   ],
   "source": [
    "import rpy2\n",
    "\n",
    "%load_ext rpy2.ipython"
   ]
  },
  {
   "cell_type": "code",
   "execution_count": 3,
   "metadata": {},
   "outputs": [
    {
     "name": "stdout",
     "output_type": "stream",
     "text": [
      "NULL\n"
     ]
    }
   ],
   "source": [
    "%%R\n",
    "\n",
    "# install.packages(\"mlr3data\")\n",
    "# install.packages(\"mlr3\")"
   ]
  },
  {
   "cell_type": "markdown",
   "metadata": {},
   "source": [
    "Cargamos los datos en `R`"
   ]
  },
  {
   "cell_type": "code",
   "execution_count": 6,
   "metadata": {},
   "outputs": [
    {
     "name": "stdout",
     "output_type": "stream",
     "text": [
      "  age gender total_bilirubin direct_bilirubin alkaline_phosphatase\n",
      "1  65 Female             0.7              0.1                  187\n",
      "2  62   Male            10.9              5.5                  699\n",
      "3  62   Male             7.3              4.1                  490\n",
      "4  58   Male             1.0              0.4                  182\n",
      "5  72   Male             3.9              2.0                  195\n",
      "  alanine_transaminase aspartate_transaminase total_protein albumin\n",
      "1                   16                     18           6.8     3.3\n",
      "2                   64                    100           7.5     3.2\n",
      "3                   60                     68           7.0     3.3\n",
      "4                   14                     20           6.8     3.4\n",
      "5                   27                     59           7.3     2.4\n",
      "  albumin_globulin_ratio diseased\n",
      "1                   0.90      yes\n",
      "2                   0.74      yes\n",
      "3                   0.89      yes\n",
      "4                   1.00      yes\n",
      "5                   0.40      yes\n"
     ]
    }
   ],
   "source": [
    "%%R\n",
    "\n",
    "data(\"ilpd\", package = \"mlr3data\")\n",
    "\n",
    "head(ilpd,5)"
   ]
  },
  {
   "cell_type": "markdown",
   "metadata": {},
   "source": []
  },
  {
   "cell_type": "markdown",
   "metadata": {},
   "source": [
    "Cargamos los datos en `Python`"
   ]
  },
  {
   "cell_type": "code",
   "execution_count": 302,
   "metadata": {},
   "outputs": [],
   "source": [
    "import warnings\n",
    "warnings.filterwarnings(\"ignore\")"
   ]
  },
  {
   "cell_type": "code",
   "execution_count": 5,
   "metadata": {},
   "outputs": [],
   "source": [
    "import pandas as pd"
   ]
  },
  {
   "cell_type": "code",
   "execution_count": 6,
   "metadata": {},
   "outputs": [],
   "source": [
    "Data_Python = pd.read_csv('indian_liver_patient.csv')"
   ]
  },
  {
   "cell_type": "code",
   "execution_count": 7,
   "metadata": {},
   "outputs": [],
   "source": [
    "Data_Python = Data_Python.rename({'Dataset': 'Diseased'}, axis=1)"
   ]
  },
  {
   "cell_type": "code",
   "execution_count": 8,
   "metadata": {},
   "outputs": [
    {
     "data": {
      "text/html": [
       "<div>\n",
       "<style scoped>\n",
       "    .dataframe tbody tr th:only-of-type {\n",
       "        vertical-align: middle;\n",
       "    }\n",
       "\n",
       "    .dataframe tbody tr th {\n",
       "        vertical-align: top;\n",
       "    }\n",
       "\n",
       "    .dataframe thead th {\n",
       "        text-align: right;\n",
       "    }\n",
       "</style>\n",
       "<table border=\"1\" class=\"dataframe\">\n",
       "  <thead>\n",
       "    <tr style=\"text-align: right;\">\n",
       "      <th></th>\n",
       "      <th>Age</th>\n",
       "      <th>Gender</th>\n",
       "      <th>Total_Bilirubin</th>\n",
       "      <th>Direct_Bilirubin</th>\n",
       "      <th>Alkaline_Phosphotase</th>\n",
       "      <th>Alamine_Aminotransferase</th>\n",
       "      <th>Aspartate_Aminotransferase</th>\n",
       "      <th>Total_Protiens</th>\n",
       "      <th>Albumin</th>\n",
       "      <th>Albumin_and_Globulin_Ratio</th>\n",
       "      <th>Diseased</th>\n",
       "    </tr>\n",
       "  </thead>\n",
       "  <tbody>\n",
       "    <tr>\n",
       "      <th>0</th>\n",
       "      <td>65</td>\n",
       "      <td>Female</td>\n",
       "      <td>0.7</td>\n",
       "      <td>0.1</td>\n",
       "      <td>187</td>\n",
       "      <td>16</td>\n",
       "      <td>18</td>\n",
       "      <td>6.8</td>\n",
       "      <td>3.3</td>\n",
       "      <td>0.90</td>\n",
       "      <td>1</td>\n",
       "    </tr>\n",
       "    <tr>\n",
       "      <th>1</th>\n",
       "      <td>62</td>\n",
       "      <td>Male</td>\n",
       "      <td>10.9</td>\n",
       "      <td>5.5</td>\n",
       "      <td>699</td>\n",
       "      <td>64</td>\n",
       "      <td>100</td>\n",
       "      <td>7.5</td>\n",
       "      <td>3.2</td>\n",
       "      <td>0.74</td>\n",
       "      <td>1</td>\n",
       "    </tr>\n",
       "    <tr>\n",
       "      <th>2</th>\n",
       "      <td>62</td>\n",
       "      <td>Male</td>\n",
       "      <td>7.3</td>\n",
       "      <td>4.1</td>\n",
       "      <td>490</td>\n",
       "      <td>60</td>\n",
       "      <td>68</td>\n",
       "      <td>7.0</td>\n",
       "      <td>3.3</td>\n",
       "      <td>0.89</td>\n",
       "      <td>1</td>\n",
       "    </tr>\n",
       "    <tr>\n",
       "      <th>3</th>\n",
       "      <td>58</td>\n",
       "      <td>Male</td>\n",
       "      <td>1.0</td>\n",
       "      <td>0.4</td>\n",
       "      <td>182</td>\n",
       "      <td>14</td>\n",
       "      <td>20</td>\n",
       "      <td>6.8</td>\n",
       "      <td>3.4</td>\n",
       "      <td>1.00</td>\n",
       "      <td>1</td>\n",
       "    </tr>\n",
       "    <tr>\n",
       "      <th>4</th>\n",
       "      <td>72</td>\n",
       "      <td>Male</td>\n",
       "      <td>3.9</td>\n",
       "      <td>2.0</td>\n",
       "      <td>195</td>\n",
       "      <td>27</td>\n",
       "      <td>59</td>\n",
       "      <td>7.3</td>\n",
       "      <td>2.4</td>\n",
       "      <td>0.40</td>\n",
       "      <td>1</td>\n",
       "    </tr>\n",
       "  </tbody>\n",
       "</table>\n",
       "</div>"
      ],
      "text/plain": [
       "   Age  Gender  Total_Bilirubin  Direct_Bilirubin  Alkaline_Phosphotase  \\\n",
       "0   65  Female              0.7               0.1                   187   \n",
       "1   62    Male             10.9               5.5                   699   \n",
       "2   62    Male              7.3               4.1                   490   \n",
       "3   58    Male              1.0               0.4                   182   \n",
       "4   72    Male              3.9               2.0                   195   \n",
       "\n",
       "   Alamine_Aminotransferase  Aspartate_Aminotransferase  Total_Protiens  \\\n",
       "0                        16                          18             6.8   \n",
       "1                        64                         100             7.5   \n",
       "2                        60                          68             7.0   \n",
       "3                        14                          20             6.8   \n",
       "4                        27                          59             7.3   \n",
       "\n",
       "   Albumin  Albumin_and_Globulin_Ratio  Diseased  \n",
       "0      3.3                        0.90         1  \n",
       "1      3.2                        0.74         1  \n",
       "2      3.3                        0.89         1  \n",
       "3      3.4                        1.00         1  \n",
       "4      2.4                        0.40         1  "
      ]
     },
     "execution_count": 8,
     "metadata": {},
     "output_type": "execute_result"
    }
   ],
   "source": [
    "Data_Python.head()"
   ]
  },
  {
   "cell_type": "markdown",
   "metadata": {},
   "source": []
  },
  {
   "cell_type": "markdown",
   "metadata": {},
   "source": [
    "**Describiremos cada una de las variables:**\n",
    "\n",
    "- age: edad del paciente. A los pacientes que exceden 89 son listados con la edad 90\n",
    "- gender: género del paciente.\n",
    "- total_bilirubin: Total de bilirubina.\n",
    "- direct_bilirubin: Bilirubina directa.\n",
    "- alkaline_phosphatase: Fosfatasa alcalina.\n",
    "- alanine_transaminase: alanina aminotransferasa o transamisana glutámico pirúvica.\n",
    "- aspartate_trasaminase: aspartato aminotransferasa.\n",
    "- total_protein: proteinas totales.\n",
    "- albumin: albúmina.\n",
    "- albumin_globulin_ratio: albúmina y globulina ratio.\n",
    "- diseased: Si tienen (1) o no (2) enfermadad en el hígado.\n"
   ]
  },
  {
   "cell_type": "markdown",
   "metadata": {},
   "source": []
  },
  {
   "cell_type": "markdown",
   "metadata": {},
   "source": [
    "\n",
    "Ahora que los tenenmos cargados y hemos visto la apariencia de los mismo procedemos a hacer el EDA.\n"
   ]
  },
  {
   "cell_type": "markdown",
   "metadata": {},
   "source": [
    "## 4.2. EDA en `R` <a class=\"anchor\" id=\"6\"></a>\n",
    "\n",
    "Haremmos el EDA con la librería skimr, como se pide en el enunciado de la práctica.\n"
   ]
  },
  {
   "cell_type": "code",
   "execution_count": 9,
   "metadata": {},
   "outputs": [
    {
     "name": "stdout",
     "output_type": "stream",
     "text": [
      "NULL\n"
     ]
    }
   ],
   "source": [
    "%%R\n",
    "\n",
    "# install.packages('skimr')"
   ]
  },
  {
   "cell_type": "code",
   "execution_count": 10,
   "metadata": {},
   "outputs": [
    {
     "name": "stdout",
     "output_type": "stream",
     "text": [
      "-- Data Summary ------------------------\n",
      "                           Values\n",
      "Name                       ilpd  \n",
      "Number of rows             583   \n",
      "Number of columns          11    \n",
      "_______________________          \n",
      "Column type frequency:           \n",
      "  factor                   2     \n",
      "  numeric                  9     \n",
      "________________________         \n",
      "Group variables            None  \n",
      "\n",
      "-- Variable type: factor -------------------------------------------------------\n",
      "  skim_variable n_missing complete_rate ordered n_unique top_counts        \n",
      "1 gender                0             1 FALSE          2 Mal: 441, Fem: 142\n",
      "2 diseased              0             1 FALSE          2 yes: 416, no: 167 \n",
      "\n",
      "-- Variable type: numeric ------------------------------------------------------\n",
      "  skim_variable          n_missing complete_rate    mean      sd   p0   p25\n",
      "1 age                            0             1  44.7    16.2    4    33  \n",
      "2 total_bilirubin                0             1   3.30    6.21   0.4   0.8\n",
      "3 direct_bilirubin               0             1   1.49    2.81   0.1   0.2\n",
      "4 alkaline_phosphatase           0             1 291.    243.    63   176. \n",
      "5 alanine_transaminase           0             1  80.7   183.    10    23  \n",
      "6 aspartate_transaminase         0             1 110.    289.    10    25  \n",
      "7 total_protein                  0             1   6.48    1.09   2.7   5.8\n",
      "8 albumin                        0             1   3.14    0.796  0.9   2.6\n",
      "9 albumin_globulin_ratio         0             1   0.947   0.318  0.3   0.7\n",
      "      p50   p75   p100 hist \n",
      "1  45      58     90   <U+2582><U+2586><U+2587><U+2585><U+2581>\n",
      "2   1       2.6   75   <U+2587><U+2581><U+2581><U+2581><U+2581>\n",
      "3   0.3     1.3   19.7 <U+2587><U+2581><U+2581><U+2581><U+2581>\n",
      "4 208     298   2110   <U+2587><U+2581><U+2581><U+2581><U+2581>\n",
      "5  35      60.5 2000   <U+2587><U+2581><U+2581><U+2581><U+2581>\n",
      "6  42      87   4929   <U+2587><U+2581><U+2581><U+2581><U+2581>\n",
      "7   6.6     7.2    9.6 <U+2581><U+2582><U+2587><U+2587><U+2581>\n",
      "8   3.1     3.8    5.5 <U+2581><U+2585><U+2587><U+2586><U+2581>\n",
      "9   0.947   1.1    2.8 <U+2586><U+2587><U+2582><U+2581><U+2581>\n"
     ]
    }
   ],
   "source": [
    "%%R\n",
    "\n",
    "library(skimr) # Cargamos librería\n",
    "\n",
    "skim(ilpd) # EDA con librería"
   ]
  },
  {
   "cell_type": "markdown",
   "metadata": {},
   "source": []
  },
  {
   "cell_type": "markdown",
   "metadata": {},
   "source": [
    "\n",
    "También haremos uso de la función str que nos da la estructura de nuestro dataset.\n"
   ]
  },
  {
   "cell_type": "code",
   "execution_count": 11,
   "metadata": {},
   "outputs": [
    {
     "name": "stdout",
     "output_type": "stream",
     "text": [
      "'data.frame':\t583 obs. of  11 variables:\n",
      " $ age                   : int  65 62 62 58 72 46 26 29 17 55 ...\n",
      " $ gender                : Factor w/ 2 levels \"Female\",\"Male\": 1 2 2 2 2 2 1 1 2 2 ...\n",
      " $ total_bilirubin       : num  0.7 10.9 7.3 1 3.9 1.8 0.9 0.9 0.9 0.7 ...\n",
      " $ direct_bilirubin      : num  0.1 5.5 4.1 0.4 2 0.7 0.2 0.3 0.3 0.2 ...\n",
      " $ alkaline_phosphatase  : int  187 699 490 182 195 208 154 202 202 290 ...\n",
      " $ alanine_transaminase  : int  16 64 60 14 27 19 16 14 22 53 ...\n",
      " $ aspartate_transaminase: int  18 100 68 20 59 14 12 11 19 58 ...\n",
      " $ total_protein         : num  6.8 7.5 7 6.8 7.3 7.6 7 6.7 7.4 6.8 ...\n",
      " $ albumin               : num  3.3 3.2 3.3 3.4 2.4 4.4 3.5 3.6 4.1 3.4 ...\n",
      " $ albumin_globulin_ratio: num  0.9 0.74 0.89 1 0.4 1.3 1 1.1 1.2 1 ...\n",
      " $ diseased              : Factor w/ 2 levels \"yes\",\"no\": 1 1 1 1 1 1 1 1 2 1 ...\n"
     ]
    }
   ],
   "source": [
    "%%R\n",
    "\n",
    "str(ilpd) # Analizamos la estructura de los datos"
   ]
  },
  {
   "cell_type": "markdown",
   "metadata": {},
   "source": [
    "\n",
    "Claramente podemos ver como con skimr, las variables que son numéricas las considera todas numéricas, mientras que la función str nos especifica las variables numéricas en si son variables que toman valores reales o enteros.\n",
    "\n",
    "Por último sacaremos un reporte con la librería \"DataExplorer\"\n"
   ]
  },
  {
   "cell_type": "code",
   "execution_count": 12,
   "metadata": {},
   "outputs": [
    {
     "name": "stdout",
     "output_type": "stream",
     "text": [
      "NULL\n"
     ]
    }
   ],
   "source": [
    "%%R\n",
    "\n",
    "# install.packages('DataExplorer')"
   ]
  },
  {
   "cell_type": "code",
   "execution_count": 13,
   "metadata": {},
   "outputs": [
    {
     "name": "stdout",
     "output_type": "stream",
     "text": [
      "NULL\n"
     ]
    }
   ],
   "source": [
    "%%R\n",
    "\n",
    "# DataExplorer::create_report(ilpd,y=\"diseased\") # Reporte EDA en html, no se pide como tal."
   ]
  },
  {
   "cell_type": "markdown",
   "metadata": {},
   "source": [
    "Se genera un reporte en HTML que puede ser abierto en el navegador. \n",
    "\n",
    "Aqui esta la version en PDF de dicho reporte:"
   ]
  },
  {
   "cell_type": "markdown",
   "metadata": {},
   "source": [
    "https://github.com/FabioScielzoOrtiz/Estadistica4all.github.io/blob/main/Notebooks/Aprendizaje%20Automatico/Data%20Profiling%20Report.pdf"
   ]
  },
  {
   "cell_type": "markdown",
   "metadata": {},
   "source": []
  },
  {
   "cell_type": "markdown",
   "metadata": {},
   "source": [
    "\n",
    "Aunque hemos visto el número de valores ausentes en la salida que nos da skimr, esto se puede hacer a mano como sigue:\n"
   ]
  },
  {
   "cell_type": "code",
   "execution_count": 14,
   "metadata": {},
   "outputs": [
    {
     "name": "stderr",
     "output_type": "stream",
     "text": [
      "R[write to console]: -- Attaching packages --------------------------------------- tidyverse 1.3.1 --\n",
      "\n",
      "R[write to console]: v ggplot2 3.3.6     v purrr   0.3.4\n",
      "v tibble  3.1.7     v dplyr   1.0.9\n",
      "v tidyr   1.2.0     v stringr 1.4.0\n",
      "v readr   2.1.2     v forcats 0.5.1\n",
      "\n",
      "R[write to console]: -- Conflicts ------------------------------------------ tidyverse_conflicts() --\n",
      "x dplyr::filter() masks stats::filter()\n",
      "x dplyr::lag()    masks stats::lag()\n",
      "\n"
     ]
    }
   ],
   "source": [
    "%%R\n",
    "\n",
    "library(tidyverse)"
   ]
  },
  {
   "cell_type": "markdown",
   "metadata": {},
   "source": []
  },
  {
   "cell_type": "code",
   "execution_count": 15,
   "metadata": {},
   "outputs": [
    {
     "name": "stdout",
     "output_type": "stream",
     "text": [
      "                   age                 gender        total_bilirubin \n",
      "                     0                      0                      0 \n",
      "      direct_bilirubin   alkaline_phosphatase   alanine_transaminase \n",
      "                     0                      0                      0 \n",
      "aspartate_transaminase          total_protein                albumin \n",
      "                     0                      0                      0 \n",
      "albumin_globulin_ratio               diseased \n",
      "                     0                      0 \n"
     ]
    }
   ],
   "source": [
    "%%R \n",
    "\n",
    "ilpd %>% map_dbl(.f = function(x){sum(is.na(x))}) # Número de missing values"
   ]
  },
  {
   "cell_type": "markdown",
   "metadata": {},
   "source": []
  },
  {
   "cell_type": "markdown",
   "metadata": {},
   "source": [
    "\n",
    "Podemos sacar las siguientes conclusiones del EDA anterior:\n",
    "- Se dispone de 583 instancias y 11 variables (2 de tipo factor biclase, 5 de tipo numérico y 4 enteras)\n",
    "- No hay ausencia de valores por lo que no habrá que eliminar instancias o al menos los modelos no se verán dificultados por los mismos.\n",
    "- La variable respuesta es diseased que es una de las variables tipo factor biclase que puede tomar valores \"yes\" o \"no\". Se puede ver como esta variable está un poco desbalanceada ya que tenemos muchas más observaciones con valor \"yes\"(416 observaciones) que con valor \"no\"(167 observaciones).\n",
    "- En cuanto a las correlaciones se puede ver que son relativamente altas entre los pares que tienen que ver con sustancias similares, como bilirubina directa y bilirubina total. Con respecto a la variable respuesta podemos ver como hay relaciones directas con el resto de variables y una correlacion similar en torno a 0.7.\n",
    "\n",
    "\n"
   ]
  },
  {
   "cell_type": "markdown",
   "metadata": {},
   "source": []
  },
  {
   "cell_type": "markdown",
   "metadata": {},
   "source": []
  },
  {
   "cell_type": "markdown",
   "metadata": {},
   "source": [
    "## 4.3. EDA en `Python` <a class=\"anchor\" id=\"7\"></a>\n"
   ]
  },
  {
   "cell_type": "markdown",
   "metadata": {},
   "source": [
    "Ahora vamos a realizar un EDA del data-set pero usando `Python`"
   ]
  },
  {
   "cell_type": "markdown",
   "metadata": {},
   "source": [
    "El EDA (Exploratory Data Analysis) en lineas generales va a consistir en:\n",
    "\n",
    "- Analizar estructura del data-set que tenemoss (dimensiones, tipo de variables, valores faltantes etc)\n",
    "- Calculo de estadisticos básicos para cada variable\n",
    "-  Calculo de graficos que aporten informacion relevante (histogramas, diagramas de barras, scatter plots, box plots)\n",
    "- Analisis de relaciones entre los predictores y la respuesta.\n"
   ]
  },
  {
   "cell_type": "markdown",
   "metadata": {},
   "source": []
  },
  {
   "cell_type": "markdown",
   "metadata": {},
   "source": [
    "### 4.3.1. Estructura del data-set <a class=\"anchor\" id=\"8\"></a>"
   ]
  },
  {
   "cell_type": "code",
   "execution_count": null,
   "metadata": {},
   "outputs": [],
   "source": [
    "import warnings\n",
    "warnings.filterwarnings(\"ignore\")"
   ]
  },
  {
   "cell_type": "code",
   "execution_count": 16,
   "metadata": {},
   "outputs": [
    {
     "data": {
      "text/plain": [
       "(583, 11)"
      ]
     },
     "execution_count": 16,
     "metadata": {},
     "output_type": "execute_result"
    }
   ],
   "source": [
    "Data_Python.shape"
   ]
  },
  {
   "cell_type": "markdown",
   "metadata": {},
   "source": [
    "Tenemos un data-set con 11 variables y 583 observaciones\n",
    "\n",
    "Las variables son:\n",
    "\n",
    "- 10 predictores (age , gender , Total_Bilirubin , Direct_Bilirubin , Alkaline_Phosphotase , Alamine_Aminotransferase , Aspartate_Aminotransferase ,Total_Protiens , Albumin , Albumin_and_Globulin_Ratio ) \n",
    "- 1 respuesta ( Diseased )"
   ]
  },
  {
   "cell_type": "markdown",
   "metadata": {},
   "source": [
    "La variables **categoricas** del data-set son: \n",
    "\n",
    "- Diseased y Gender (*binarias*)\n",
    "\n",
    "Las variables **cuantitativas** del data-set son: \n",
    "\n",
    "- age , Alkaline_Phosphotase, Alamine_Aminotransferase  , Aspartate_Aminotransferase (*discretas*) y   Total_Bilirubin , Direct_Bilirubin, Total_Protiens, Albumin, Albumin_and_Globulin_Ratio (*continuas*)"
   ]
  },
  {
   "cell_type": "markdown",
   "metadata": {},
   "source": []
  },
  {
   "cell_type": "markdown",
   "metadata": {},
   "source": [
    "Con el siguiente codigo podemos ver el tipo de cada una de las variables en Python (que podria no coincidir con el descrito anteriormente, en su caso habria que modificarlo.)"
   ]
  },
  {
   "cell_type": "code",
   "execution_count": 17,
   "metadata": {},
   "outputs": [
    {
     "name": "stdout",
     "output_type": "stream",
     "text": [
      "<class 'pandas.core.frame.DataFrame'>\n",
      "RangeIndex: 583 entries, 0 to 582\n",
      "Data columns (total 11 columns):\n",
      " #   Column                      Non-Null Count  Dtype  \n",
      "---  ------                      --------------  -----  \n",
      " 0   Age                         583 non-null    int64  \n",
      " 1   Gender                      583 non-null    object \n",
      " 2   Total_Bilirubin             583 non-null    float64\n",
      " 3   Direct_Bilirubin            583 non-null    float64\n",
      " 4   Alkaline_Phosphotase        583 non-null    int64  \n",
      " 5   Alamine_Aminotransferase    583 non-null    int64  \n",
      " 6   Aspartate_Aminotransferase  583 non-null    int64  \n",
      " 7   Total_Protiens              583 non-null    float64\n",
      " 8   Albumin                     583 non-null    float64\n",
      " 9   Albumin_and_Globulin_Ratio  583 non-null    float64\n",
      " 10  Diseased                    583 non-null    int64  \n",
      "dtypes: float64(5), int64(5), object(1)\n",
      "memory usage: 50.2+ KB\n"
     ]
    }
   ],
   "source": [
    "Data_Python.info()"
   ]
  },
  {
   "cell_type": "markdown",
   "metadata": {},
   "source": []
  },
  {
   "cell_type": "markdown",
   "metadata": {},
   "source": [
    "En este caso el tipo en Python es correcto para todas las variables salvo para la respuesta (Diseased) ya que Python la considera entera (cuantitativa discreta: int64) cuando realmente es categorica binaria, por ello tranformamos su tipo de int64 a object (el tipo clasico de las variables categoricas en Python)."
   ]
  },
  {
   "cell_type": "code",
   "execution_count": 18,
   "metadata": {},
   "outputs": [],
   "source": [
    "Data_Python['Diseased'] = Data_Python['Diseased'].astype('object')"
   ]
  },
  {
   "cell_type": "markdown",
   "metadata": {},
   "source": []
  },
  {
   "cell_type": "markdown",
   "metadata": {},
   "source": [
    "Comprobamos que los cambios se han producido correctamente:"
   ]
  },
  {
   "cell_type": "code",
   "execution_count": 19,
   "metadata": {},
   "outputs": [
    {
     "name": "stdout",
     "output_type": "stream",
     "text": [
      "<class 'pandas.core.frame.DataFrame'>\n",
      "RangeIndex: 583 entries, 0 to 582\n",
      "Data columns (total 11 columns):\n",
      " #   Column                      Non-Null Count  Dtype  \n",
      "---  ------                      --------------  -----  \n",
      " 0   Age                         583 non-null    int64  \n",
      " 1   Gender                      583 non-null    object \n",
      " 2   Total_Bilirubin             583 non-null    float64\n",
      " 3   Direct_Bilirubin            583 non-null    float64\n",
      " 4   Alkaline_Phosphotase        583 non-null    int64  \n",
      " 5   Alamine_Aminotransferase    583 non-null    int64  \n",
      " 6   Aspartate_Aminotransferase  583 non-null    int64  \n",
      " 7   Total_Protiens              583 non-null    float64\n",
      " 8   Albumin                     583 non-null    float64\n",
      " 9   Albumin_and_Globulin_Ratio  583 non-null    float64\n",
      " 10  Diseased                    583 non-null    object \n",
      "dtypes: float64(5), int64(4), object(2)\n",
      "memory usage: 50.2+ KB\n"
     ]
    }
   ],
   "source": [
    "Data_Python.info()"
   ]
  },
  {
   "cell_type": "markdown",
   "metadata": {},
   "source": []
  },
  {
   "cell_type": "markdown",
   "metadata": {},
   "source": [
    "Ahora vamos a ver si existe algun valor nulo en el data-set:"
   ]
  },
  {
   "cell_type": "code",
   "execution_count": 20,
   "metadata": {},
   "outputs": [
    {
     "data": {
      "text/plain": [
       "Age                           0\n",
       "Gender                        0\n",
       "Total_Bilirubin               0\n",
       "Direct_Bilirubin              0\n",
       "Alkaline_Phosphotase          0\n",
       "Alamine_Aminotransferase      0\n",
       "Aspartate_Aminotransferase    0\n",
       "Total_Protiens                0\n",
       "Albumin                       0\n",
       "Albumin_and_Globulin_Ratio    0\n",
       "Diseased                      0\n",
       "dtype: int64"
      ]
     },
     "execution_count": 20,
     "metadata": {},
     "output_type": "execute_result"
    }
   ],
   "source": [
    "Data_Python.isnull().sum()"
   ]
  },
  {
   "cell_type": "markdown",
   "metadata": {},
   "source": [
    "Ninguna de las variables tiene valores faltantes (nulos)."
   ]
  },
  {
   "cell_type": "markdown",
   "metadata": {},
   "source": []
  },
  {
   "cell_type": "markdown",
   "metadata": {},
   "source": [
    "Ahora vamos a ver cual es el rango de las variables categoricas, y posteriormete lo codificaremos en formato estandar $\\lbrace 0,1,2,...\\rbrace$ , si es que no lo están ya."
   ]
  },
  {
   "cell_type": "code",
   "execution_count": 21,
   "metadata": {},
   "outputs": [
    {
     "data": {
      "text/plain": [
       "array(['Female', 'Male'], dtype=object)"
      ]
     },
     "execution_count": 21,
     "metadata": {},
     "output_type": "execute_result"
    }
   ],
   "source": [
    "Data_Python['Gender'].unique()"
   ]
  },
  {
   "cell_type": "code",
   "execution_count": 22,
   "metadata": {},
   "outputs": [
    {
     "data": {
      "text/plain": [
       "array([1, 2], dtype=object)"
      ]
     },
     "execution_count": 22,
     "metadata": {},
     "output_type": "execute_result"
    }
   ],
   "source": [
    "Data_Python['Diseased'].unique()"
   ]
  },
  {
   "cell_type": "markdown",
   "metadata": {},
   "source": []
  },
  {
   "cell_type": "markdown",
   "metadata": {},
   "source": [
    "Vamos a codificar en formato estandar la variable **Gender** tal que: **Female=0** , **Male=1** , y la variable **Diseased** tal que: **1=0** , **2=1**"
   ]
  },
  {
   "cell_type": "markdown",
   "metadata": {},
   "source": [
    "Para ello vamos a apoyarnos en la libreria `sklearn`, que posteriormente volverá a ser usada. Podria hacer esto de otras formas, como con un bucle for, pero en casos en los que el numero de categorias es alto, la opcion aportada por `sklearn` es bastante mas eficiente que un bucle."
   ]
  },
  {
   "cell_type": "code",
   "execution_count": 23,
   "metadata": {},
   "outputs": [],
   "source": [
    "from sklearn.preprocessing import OrdinalEncoder\n",
    "\n",
    "ord_enc = OrdinalEncoder()"
   ]
  },
  {
   "cell_type": "code",
   "execution_count": 24,
   "metadata": {},
   "outputs": [],
   "source": [
    "Data_Python['Gender'] = ord_enc.fit_transform(Data_Python[['Gender']])\n",
    "\n",
    "Data_Python['Diseased'] = ord_enc.fit_transform(Data_Python[['Diseased']])"
   ]
  },
  {
   "cell_type": "markdown",
   "metadata": {},
   "source": []
  },
  {
   "cell_type": "markdown",
   "metadata": {},
   "source": [
    "Comprobamos que los cambios se han realizado correctamente:"
   ]
  },
  {
   "cell_type": "code",
   "execution_count": 25,
   "metadata": {},
   "outputs": [
    {
     "data": {
      "text/plain": [
       "array([0., 1.])"
      ]
     },
     "execution_count": 25,
     "metadata": {},
     "output_type": "execute_result"
    }
   ],
   "source": [
    "Data_Python['Gender'].unique()"
   ]
  },
  {
   "cell_type": "code",
   "execution_count": 26,
   "metadata": {},
   "outputs": [
    {
     "data": {
      "text/plain": [
       "array([0., 1.])"
      ]
     },
     "execution_count": 26,
     "metadata": {},
     "output_type": "execute_result"
    }
   ],
   "source": [
    "Data_Python['Diseased'].unique()"
   ]
  },
  {
   "cell_type": "markdown",
   "metadata": {},
   "source": []
  },
  {
   "cell_type": "markdown",
   "metadata": {},
   "source": [
    "Pero cuidado, tras realizar estos cambios tambien se cambia en Python el tipo de las variables codificadas a 'float64' , que es un tipo cuantitativo (continuo), por lo que debemos volver a fijar su tipo como 'object' (ya que son categoricas)."
   ]
  },
  {
   "cell_type": "code",
   "execution_count": 27,
   "metadata": {},
   "outputs": [
    {
     "data": {
      "text/plain": [
       "Age                             int64\n",
       "Gender                        float64\n",
       "Total_Bilirubin               float64\n",
       "Direct_Bilirubin              float64\n",
       "Alkaline_Phosphotase            int64\n",
       "Alamine_Aminotransferase        int64\n",
       "Aspartate_Aminotransferase      int64\n",
       "Total_Protiens                float64\n",
       "Albumin                       float64\n",
       "Albumin_and_Globulin_Ratio    float64\n",
       "Diseased                      float64\n",
       "dtype: object"
      ]
     },
     "execution_count": 27,
     "metadata": {},
     "output_type": "execute_result"
    }
   ],
   "source": [
    "Data_Python.dtypes"
   ]
  },
  {
   "cell_type": "code",
   "execution_count": 28,
   "metadata": {},
   "outputs": [],
   "source": [
    "Data_Python['Diseased'] = Data_Python['Diseased'].astype('object')\n",
    "Data_Python['Gender'] = Data_Python['Gender'].astype('object')"
   ]
  },
  {
   "cell_type": "markdown",
   "metadata": {},
   "source": [
    "Verificamos que se han realizado correctamente los cambios:"
   ]
  },
  {
   "cell_type": "code",
   "execution_count": 29,
   "metadata": {},
   "outputs": [
    {
     "data": {
      "text/plain": [
       "Age                             int64\n",
       "Gender                         object\n",
       "Total_Bilirubin               float64\n",
       "Direct_Bilirubin              float64\n",
       "Alkaline_Phosphotase            int64\n",
       "Alamine_Aminotransferase        int64\n",
       "Aspartate_Aminotransferase      int64\n",
       "Total_Protiens                float64\n",
       "Albumin                       float64\n",
       "Albumin_and_Globulin_Ratio    float64\n",
       "Diseased                       object\n",
       "dtype: object"
      ]
     },
     "execution_count": 29,
     "metadata": {},
     "output_type": "execute_result"
    }
   ],
   "source": [
    "Data_Python.dtypes"
   ]
  },
  {
   "cell_type": "markdown",
   "metadata": {},
   "source": []
  },
  {
   "cell_type": "markdown",
   "metadata": {},
   "source": [
    "### 4.3.2. Resumen Estadístico Descriptivo Básico <a class=\"anchor\" id=\"9\"></a>"
   ]
  },
  {
   "cell_type": "markdown",
   "metadata": {},
   "source": [
    "Ahora vamos a hacer una descripcion estadistica básica de las variables del data-set:"
   ]
  },
  {
   "cell_type": "code",
   "execution_count": 30,
   "metadata": {},
   "outputs": [
    {
     "data": {
      "text/html": [
       "<div>\n",
       "<style scoped>\n",
       "    .dataframe tbody tr th:only-of-type {\n",
       "        vertical-align: middle;\n",
       "    }\n",
       "\n",
       "    .dataframe tbody tr th {\n",
       "        vertical-align: top;\n",
       "    }\n",
       "\n",
       "    .dataframe thead th {\n",
       "        text-align: right;\n",
       "    }\n",
       "</style>\n",
       "<table border=\"1\" class=\"dataframe\">\n",
       "  <thead>\n",
       "    <tr style=\"text-align: right;\">\n",
       "      <th></th>\n",
       "      <th>Age</th>\n",
       "      <th>Gender</th>\n",
       "      <th>Total_Bilirubin</th>\n",
       "      <th>Direct_Bilirubin</th>\n",
       "      <th>Alkaline_Phosphotase</th>\n",
       "      <th>Alamine_Aminotransferase</th>\n",
       "      <th>Aspartate_Aminotransferase</th>\n",
       "      <th>Total_Protiens</th>\n",
       "      <th>Albumin</th>\n",
       "      <th>Albumin_and_Globulin_Ratio</th>\n",
       "      <th>Diseased</th>\n",
       "    </tr>\n",
       "  </thead>\n",
       "  <tbody>\n",
       "    <tr>\n",
       "      <th>count</th>\n",
       "      <td>583.000000</td>\n",
       "      <td>583.0</td>\n",
       "      <td>583.000000</td>\n",
       "      <td>583.000000</td>\n",
       "      <td>583.000000</td>\n",
       "      <td>583.000000</td>\n",
       "      <td>583.000000</td>\n",
       "      <td>583.000000</td>\n",
       "      <td>583.000000</td>\n",
       "      <td>583.000000</td>\n",
       "      <td>583.0</td>\n",
       "    </tr>\n",
       "    <tr>\n",
       "      <th>unique</th>\n",
       "      <td>NaN</td>\n",
       "      <td>2.0</td>\n",
       "      <td>NaN</td>\n",
       "      <td>NaN</td>\n",
       "      <td>NaN</td>\n",
       "      <td>NaN</td>\n",
       "      <td>NaN</td>\n",
       "      <td>NaN</td>\n",
       "      <td>NaN</td>\n",
       "      <td>NaN</td>\n",
       "      <td>2.0</td>\n",
       "    </tr>\n",
       "    <tr>\n",
       "      <th>top</th>\n",
       "      <td>NaN</td>\n",
       "      <td>1.0</td>\n",
       "      <td>NaN</td>\n",
       "      <td>NaN</td>\n",
       "      <td>NaN</td>\n",
       "      <td>NaN</td>\n",
       "      <td>NaN</td>\n",
       "      <td>NaN</td>\n",
       "      <td>NaN</td>\n",
       "      <td>NaN</td>\n",
       "      <td>0.0</td>\n",
       "    </tr>\n",
       "    <tr>\n",
       "      <th>freq</th>\n",
       "      <td>NaN</td>\n",
       "      <td>441.0</td>\n",
       "      <td>NaN</td>\n",
       "      <td>NaN</td>\n",
       "      <td>NaN</td>\n",
       "      <td>NaN</td>\n",
       "      <td>NaN</td>\n",
       "      <td>NaN</td>\n",
       "      <td>NaN</td>\n",
       "      <td>NaN</td>\n",
       "      <td>416.0</td>\n",
       "    </tr>\n",
       "    <tr>\n",
       "      <th>mean</th>\n",
       "      <td>44.746141</td>\n",
       "      <td>NaN</td>\n",
       "      <td>3.298799</td>\n",
       "      <td>1.486106</td>\n",
       "      <td>290.576329</td>\n",
       "      <td>80.713551</td>\n",
       "      <td>109.910806</td>\n",
       "      <td>6.483190</td>\n",
       "      <td>3.141852</td>\n",
       "      <td>0.947064</td>\n",
       "      <td>NaN</td>\n",
       "    </tr>\n",
       "    <tr>\n",
       "      <th>std</th>\n",
       "      <td>16.189833</td>\n",
       "      <td>NaN</td>\n",
       "      <td>6.209522</td>\n",
       "      <td>2.808498</td>\n",
       "      <td>242.937989</td>\n",
       "      <td>182.620356</td>\n",
       "      <td>288.918529</td>\n",
       "      <td>1.085451</td>\n",
       "      <td>0.795519</td>\n",
       "      <td>0.318492</td>\n",
       "      <td>NaN</td>\n",
       "    </tr>\n",
       "    <tr>\n",
       "      <th>min</th>\n",
       "      <td>4.000000</td>\n",
       "      <td>NaN</td>\n",
       "      <td>0.400000</td>\n",
       "      <td>0.100000</td>\n",
       "      <td>63.000000</td>\n",
       "      <td>10.000000</td>\n",
       "      <td>10.000000</td>\n",
       "      <td>2.700000</td>\n",
       "      <td>0.900000</td>\n",
       "      <td>0.300000</td>\n",
       "      <td>NaN</td>\n",
       "    </tr>\n",
       "    <tr>\n",
       "      <th>25%</th>\n",
       "      <td>33.000000</td>\n",
       "      <td>NaN</td>\n",
       "      <td>0.800000</td>\n",
       "      <td>0.200000</td>\n",
       "      <td>175.500000</td>\n",
       "      <td>23.000000</td>\n",
       "      <td>25.000000</td>\n",
       "      <td>5.800000</td>\n",
       "      <td>2.600000</td>\n",
       "      <td>0.700000</td>\n",
       "      <td>NaN</td>\n",
       "    </tr>\n",
       "    <tr>\n",
       "      <th>50%</th>\n",
       "      <td>45.000000</td>\n",
       "      <td>NaN</td>\n",
       "      <td>1.000000</td>\n",
       "      <td>0.300000</td>\n",
       "      <td>208.000000</td>\n",
       "      <td>35.000000</td>\n",
       "      <td>42.000000</td>\n",
       "      <td>6.600000</td>\n",
       "      <td>3.100000</td>\n",
       "      <td>0.947064</td>\n",
       "      <td>NaN</td>\n",
       "    </tr>\n",
       "    <tr>\n",
       "      <th>75%</th>\n",
       "      <td>58.000000</td>\n",
       "      <td>NaN</td>\n",
       "      <td>2.600000</td>\n",
       "      <td>1.300000</td>\n",
       "      <td>298.000000</td>\n",
       "      <td>60.500000</td>\n",
       "      <td>87.000000</td>\n",
       "      <td>7.200000</td>\n",
       "      <td>3.800000</td>\n",
       "      <td>1.100000</td>\n",
       "      <td>NaN</td>\n",
       "    </tr>\n",
       "    <tr>\n",
       "      <th>max</th>\n",
       "      <td>90.000000</td>\n",
       "      <td>NaN</td>\n",
       "      <td>75.000000</td>\n",
       "      <td>19.700000</td>\n",
       "      <td>2110.000000</td>\n",
       "      <td>2000.000000</td>\n",
       "      <td>4929.000000</td>\n",
       "      <td>9.600000</td>\n",
       "      <td>5.500000</td>\n",
       "      <td>2.800000</td>\n",
       "      <td>NaN</td>\n",
       "    </tr>\n",
       "  </tbody>\n",
       "</table>\n",
       "</div>"
      ],
      "text/plain": [
       "               Age  Gender  Total_Bilirubin  Direct_Bilirubin  \\\n",
       "count   583.000000   583.0       583.000000        583.000000   \n",
       "unique         NaN     2.0              NaN               NaN   \n",
       "top            NaN     1.0              NaN               NaN   \n",
       "freq           NaN   441.0              NaN               NaN   \n",
       "mean     44.746141     NaN         3.298799          1.486106   \n",
       "std      16.189833     NaN         6.209522          2.808498   \n",
       "min       4.000000     NaN         0.400000          0.100000   \n",
       "25%      33.000000     NaN         0.800000          0.200000   \n",
       "50%      45.000000     NaN         1.000000          0.300000   \n",
       "75%      58.000000     NaN         2.600000          1.300000   \n",
       "max      90.000000     NaN        75.000000         19.700000   \n",
       "\n",
       "        Alkaline_Phosphotase  Alamine_Aminotransferase  \\\n",
       "count             583.000000                583.000000   \n",
       "unique                   NaN                       NaN   \n",
       "top                      NaN                       NaN   \n",
       "freq                     NaN                       NaN   \n",
       "mean              290.576329                 80.713551   \n",
       "std               242.937989                182.620356   \n",
       "min                63.000000                 10.000000   \n",
       "25%               175.500000                 23.000000   \n",
       "50%               208.000000                 35.000000   \n",
       "75%               298.000000                 60.500000   \n",
       "max              2110.000000               2000.000000   \n",
       "\n",
       "        Aspartate_Aminotransferase  Total_Protiens     Albumin  \\\n",
       "count                   583.000000      583.000000  583.000000   \n",
       "unique                         NaN             NaN         NaN   \n",
       "top                            NaN             NaN         NaN   \n",
       "freq                           NaN             NaN         NaN   \n",
       "mean                    109.910806        6.483190    3.141852   \n",
       "std                     288.918529        1.085451    0.795519   \n",
       "min                      10.000000        2.700000    0.900000   \n",
       "25%                      25.000000        5.800000    2.600000   \n",
       "50%                      42.000000        6.600000    3.100000   \n",
       "75%                      87.000000        7.200000    3.800000   \n",
       "max                    4929.000000        9.600000    5.500000   \n",
       "\n",
       "        Albumin_and_Globulin_Ratio  Diseased  \n",
       "count                   583.000000     583.0  \n",
       "unique                         NaN       2.0  \n",
       "top                            NaN       0.0  \n",
       "freq                           NaN     416.0  \n",
       "mean                      0.947064       NaN  \n",
       "std                       0.318492       NaN  \n",
       "min                       0.300000       NaN  \n",
       "25%                       0.700000       NaN  \n",
       "50%                       0.947064       NaN  \n",
       "75%                       1.100000       NaN  \n",
       "max                       2.800000       NaN  "
      ]
     },
     "execution_count": 30,
     "metadata": {},
     "output_type": "execute_result"
    }
   ],
   "source": [
    "Data_Python.describe(include='all') # include='all' para dar un tratamiento diferente a las categoricas que a las cuantitativas"
   ]
  },
  {
   "cell_type": "markdown",
   "metadata": {},
   "source": []
  },
  {
   "cell_type": "markdown",
   "metadata": {},
   "source": []
  },
  {
   "cell_type": "markdown",
   "metadata": {},
   "source": [
    "### 4.3.3. Análisis gráfico general <a class=\"anchor\" id=\"10\"></a>"
   ]
  },
  {
   "cell_type": "markdown",
   "metadata": {},
   "source": [
    "#### 4.3.3.1. Histogramas para las variables cuantitativas <a class=\"anchor\" id=\"11\"></a>"
   ]
  },
  {
   "cell_type": "code",
   "execution_count": 31,
   "metadata": {},
   "outputs": [],
   "source": [
    "import numpy as np\n",
    "\n",
    "import seaborn as sns\n",
    "import matplotlib as mpl\n",
    "import matplotlib.pyplot as plt"
   ]
  },
  {
   "cell_type": "markdown",
   "metadata": {},
   "source": []
  },
  {
   "cell_type": "code",
   "execution_count": 32,
   "metadata": {},
   "outputs": [
    {
     "data": {
      "image/png": "[encoded data removed]",
      "text/plain": [
       "<Figure size 936x936 with 9 Axes>"
      ]
     },
     "metadata": {
      "needs_background": "light"
     },
     "output_type": "display_data"
    }
   ],
   "source": [
    "fig, axs = plt.subplots(3, 3, figsize=(13, 13))\n",
    "\n",
    "p1 = sns.histplot(data=Data_Python, x=\"Total_Bilirubin\", stat=\"proportion\", bins=15, color=\"skyblue\", ax=axs[0, 0])\n",
    "p1.set_xticks( range(int(Data_Python['Total_Bilirubin'].min()) , int(Data_Python['Total_Bilirubin'].max()) , 10) )\n",
    "p1.set_yticks( np.arange(0, 1, 0.1)  )\n",
    "\n",
    "p2 = sns.histplot(data=Data_Python, x=\"Direct_Bilirubin\", stat=\"proportion\", bins=15, color=\"olive\", ax=axs[0, 1])\n",
    "p2.axes.set(xlabel='Direct_Bilirubin', ylabel=' ')\n",
    "p2.set_xticks( range(int(Data_Python['Direct_Bilirubin'].min()) , int(Data_Python['Direct_Bilirubin'].max()) , 3) )\n",
    "p2.set_yticks( np.arange(0, 1, 0.1)  )\n",
    "\n",
    "p3 = sns.histplot(data=Data_Python, x=\"Alkaline_Phosphotase\", stat=\"proportion\", bins=15, color=\"blue\", ax=axs[0, 2])\n",
    "p3.axes.set(xlabel='Alkaline_Phosphotase', ylabel=' ')\n",
    "p3.set_xticks( range(int(Data_Python['Alkaline_Phosphotase'].min()) , int(Data_Python['Alkaline_Phosphotase'].max()) , 320) )\n",
    "p3.set_yticks( np.arange(0, 1, 0.1)  )\n",
    "\n",
    "p4 = sns.histplot(data=Data_Python, x=\"Alamine_Aminotransferase\", stat=\"proportion\", bins=15, color=\"teal\", ax=axs[1, 0])\n",
    "p4.axes.set(xlabel='Alamine_Aminotransferase', ylabel=' ')\n",
    "p4.set_xticks( range(int(Data_Python['Alamine_Aminotransferase'].min()) , int(Data_Python['Alamine_Aminotransferase'].max()) , 300) )\n",
    "p4.set_yticks( np.arange(0, 1, 0.1)  )\n",
    "\n",
    "p5 = sns.histplot(data=Data_Python, x=\"Aspartate_Aminotransferase\", stat=\"proportion\", bins=15, color=\"purple\", ax=axs[1, 1])\n",
    "p5.axes.set(xlabel='Aspartate_Aminotransferase', ylabel=' ')\n",
    "p5.set_xticks( range(int(Data_Python['Aspartate_Aminotransferase'].min()) , int(Data_Python['Aspartate_Aminotransferase'].max()) , 850) )\n",
    "p5.set_yticks( np.arange(0, 1, 0.1)  )\n",
    "\n",
    "p6 = sns.histplot(data=Data_Python, x=\"Total_Protiens\", stat=\"proportion\", bins=15, color=\"pink\", ax=axs[1, 2])\n",
    "p6.axes.set(xlabel='Total_Protiens', ylabel=' ')\n",
    "p6.set_xticks( range(int(Data_Python['Total_Protiens'].min()) , int(Data_Python['Total_Protiens'].max()+1) , 1) )\n",
    "p6.set_yticks( np.arange(0, 1, 0.1)  )\n",
    "\n",
    "p7 = sns.histplot(data=Data_Python, x=\"Albumin\", stat=\"proportion\", bins=15, color=\"orange\", ax=axs[2, 0])\n",
    "p7.axes.set(xlabel='Albumin', ylabel=' ')\n",
    "p7.set_xticks( range(int(Data_Python['Albumin'].min()) , int(Data_Python['Albumin'].max()+1) , 1) )\n",
    "p7.set_yticks( np.arange(0, 1, 0.1)  )\n",
    "\n",
    "p8 = sns.histplot(data=Data_Python, x=\"Albumin_and_Globulin_Ratio\", stat=\"proportion\", bins=15, color=\"red\", ax=axs[2, 1])\n",
    "p8.axes.set(xlabel='Albumin_and_Globulin_Ratio', ylabel=' ')\n",
    "p8.set_xticks( np.arange(0, 2, 0.5)  )\n",
    "p8.set_yticks( np.arange(0, 1, 0.1)  )\n",
    "\n",
    "p9 = sns.histplot(data=Data_Python, x=\"Age\", stat=\"proportion\", bins=15, color=\"green\", ax=axs[2, 2])\n",
    "p9.axes.set(xlabel='Age', ylabel=' ')\n",
    "p9.set_xticks( range(int(Data_Python['Age'].min()) , int(Data_Python['Age'].max()) , 10) )\n",
    "p9.set_yticks( np.arange(0, 1, 0.1)  )\n",
    "\n",
    "plt.show()"
   ]
  },
  {
   "cell_type": "markdown",
   "metadata": {},
   "source": []
  },
  {
   "cell_type": "markdown",
   "metadata": {},
   "source": []
  },
  {
   "cell_type": "markdown",
   "metadata": {},
   "source": [
    "#### 4.3.3.2. Diagramas de barras para las variables categóricas <a class=\"anchor\" id=\"12\"></a>"
   ]
  },
  {
   "cell_type": "code",
   "execution_count": 33,
   "metadata": {},
   "outputs": [],
   "source": [
    "proportion_Female = len( Data_Python.loc[ Data_Python['Gender']==0 , :] ) / len(Data_Python)\n",
    "proportion_Male = len( Data_Python.loc[ Data_Python['Gender']==1 , :] ) / len(Data_Python)\n",
    "\n",
    "proportion_Diseased_yes = len( Data_Python.loc[ Data_Python['Diseased']==0 , :] ) / len(Data_Python)\n",
    "proportion_Diseased_no = len( Data_Python.loc[ Data_Python['Diseased']==1 , :] ) / len(Data_Python)"
   ]
  },
  {
   "cell_type": "code",
   "execution_count": 34,
   "metadata": {},
   "outputs": [
    {
     "name": "stderr",
     "output_type": "stream",
     "text": [
      "C:\\Users\\Usuario\\AppData\\Local\\Temp\\ipykernel_2164\\1309751954.py:8: SettingWithCopyWarning: \n",
      "A value is trying to be set on a copy of a slice from a DataFrame\n",
      "\n",
      "See the caveats in the documentation: https://pandas.pydata.org/pandas-docs/stable/user_guide/indexing.html#returning-a-view-versus-a-copy\n",
      "  Data_Python['proportion_Gender'][i] = proportion_Female\n"
     ]
    }
   ],
   "source": [
    "Data_Python['proportion_Gender'] = 0\n",
    "\n",
    "\n",
    "for i in range(0, len(Data_Python)):\n",
    "\n",
    "    if Data_Python['Gender'][i] == 0 :\n",
    "\n",
    "        Data_Python['proportion_Gender'][i] = proportion_Female\n",
    "\n",
    "    else :\n",
    "\n",
    "        Data_Python['proportion_Gender'][i] = proportion_Male"
   ]
  },
  {
   "cell_type": "code",
   "execution_count": 35,
   "metadata": {},
   "outputs": [
    {
     "name": "stderr",
     "output_type": "stream",
     "text": [
      "C:\\Users\\Usuario\\AppData\\Local\\Temp\\ipykernel_2164\\1902639056.py:8: SettingWithCopyWarning: \n",
      "A value is trying to be set on a copy of a slice from a DataFrame\n",
      "\n",
      "See the caveats in the documentation: https://pandas.pydata.org/pandas-docs/stable/user_guide/indexing.html#returning-a-view-versus-a-copy\n",
      "  Data_Python['proportion_Diseased'][i] = proportion_Diseased_yes\n"
     ]
    }
   ],
   "source": [
    "Data_Python['proportion_Diseased'] = 0\n",
    "\n",
    "\n",
    "for i in range(0, len(Data_Python)):\n",
    "\n",
    "    if Data_Python['Diseased'][i] == 0 :\n",
    "\n",
    "        Data_Python['proportion_Diseased'][i] = proportion_Diseased_yes\n",
    "\n",
    "    else :\n",
    "\n",
    "        Data_Python['proportion_Diseased'][i] = proportion_Diseased_no"
   ]
  },
  {
   "cell_type": "code",
   "execution_count": 36,
   "metadata": {},
   "outputs": [
    {
     "data": {
      "image/png": "[encoded data removed]",
      "text/plain": [
       "<Figure size 576x576 with 2 Axes>"
      ]
     },
     "metadata": {
      "needs_background": "light"
     },
     "output_type": "display_data"
    }
   ],
   "source": [
    "fig, axs = plt.subplots(1, 2, figsize=(8, 8))\n",
    "\n",
    "p1 = sns.barplot(x='Gender', y='proportion_Gender', data=Data_Python, ax=axs[0]) \n",
    "p1.set_yticks( np.arange(0, 0.85, 0.1)  )\n",
    "p1.set_xticklabels(['Female', 'Male'])\n",
    "p1.axes.set(xlabel='Gender', ylabel='proportion')\n",
    "\n",
    "p2 = sns.barplot(x='Diseased', y='proportion_Diseased', data=Data_Python, ax=axs[1]) \n",
    "p2.set_yticks( np.arange(0, 0.85, 0.1)  )\n",
    "p2.set_xticklabels(['Yes', 'No'])\n",
    "p2.axes.set(xlabel='Diseased', ylabel=' ')\n",
    "\n",
    "plt.show()"
   ]
  },
  {
   "cell_type": "code",
   "execution_count": 37,
   "metadata": {},
   "outputs": [
    {
     "data": {
      "text/plain": [
       "[0.24356775300171526, 0.7564322469982847]"
      ]
     },
     "execution_count": 37,
     "metadata": {},
     "output_type": "execute_result"
    }
   ],
   "source": [
    "[ proportion_Female , proportion_Male ]"
   ]
  },
  {
   "cell_type": "code",
   "execution_count": 38,
   "metadata": {},
   "outputs": [
    {
     "data": {
      "text/plain": [
       "[0.7135506003430532, 0.2864493996569468]"
      ]
     },
     "execution_count": 38,
     "metadata": {},
     "output_type": "execute_result"
    }
   ],
   "source": [
    "[ proportion_Diseased_yes , proportion_Diseased_no ]"
   ]
  },
  {
   "cell_type": "markdown",
   "metadata": {},
   "source": []
  },
  {
   "cell_type": "markdown",
   "metadata": {},
   "source": []
  },
  {
   "cell_type": "markdown",
   "metadata": {},
   "source": [
    "#### 4.3.3.3. Box-plots para las variables cuantitativas  <a class=\"anchor\" id=\"13\"></a>"
   ]
  },
  {
   "cell_type": "code",
   "execution_count": 39,
   "metadata": {},
   "outputs": [
    {
     "data": {
      "image/png": "[encoded data removed]",
      "text/plain": [
       "<Figure size 936x936 with 9 Axes>"
      ]
     },
     "metadata": {
      "needs_background": "light"
     },
     "output_type": "display_data"
    }
   ],
   "source": [
    "fig, axs = plt.subplots(3, 3, figsize=(13, 13))\n",
    "\n",
    "p1 = sns.boxplot(x=Data_Python['Age'], color=\"palegreen\", ax=axs[0, 0])\n",
    "p1.set_xticks( range(int(Data_Python['Age'].min()) , int(Data_Python['Age'].max()+10) , 10) )\n",
    "\n",
    "p2 = sns.boxplot(x=Data_Python['Direct_Bilirubin'], color=\"olive\", ax=axs[0, 1])\n",
    "p2.set_xticks( range(int(Data_Python['Direct_Bilirubin'].min()) , int(Data_Python['Direct_Bilirubin'].max()) , 10) )\n",
    "\n",
    "p3 = sns.boxplot(x=Data_Python['Alkaline_Phosphotase'], color=\"blue\", ax=axs[1, 0])\n",
    "p3.set_xticks( range(int(Data_Python['Alkaline_Phosphotase'].min()) , int(Data_Python['Alkaline_Phosphotase'].max() ) , 300) )\n",
    "\n",
    "p4 = sns.boxplot(x=Data_Python['Alamine_Aminotransferase'], color=\"teal\", ax=axs[1, 1])\n",
    "p4.set_xticks( range(int(Data_Python['Alamine_Aminotransferase'].min()) , int(Data_Python['Alamine_Aminotransferase'].max()) , 500) )\n",
    "\n",
    "p5 = sns.boxplot(x=Data_Python['Aspartate_Aminotransferase'], color=\"purple\", ax=axs[0, 2])\n",
    "p5.set_xticks( range(int(Data_Python['Aspartate_Aminotransferase'].min()) , int(Data_Python['Aspartate_Aminotransferase'].max()) , 850) )\n",
    "\n",
    "p6 = sns.boxplot(x=Data_Python['Total_Protiens'], color=\"pink\", ax=axs[1, 2])\n",
    "p6.set_xticks( range(int(Data_Python['Total_Protiens'].min()) , int(Data_Python['Total_Protiens'].max()) , 10) )\n",
    "\n",
    "p7 = sns.boxplot(x=Data_Python['Albumin'], color=\"orange\", ax=axs[2, 2])\n",
    "p7.set_xticks( range(int(Data_Python['Albumin'].min()) , int(Data_Python['Albumin'].max()) , 10) )\n",
    "\n",
    "p8 = sns.boxplot(x=Data_Python['Albumin_and_Globulin_Ratio'], color=\"red\", ax=axs[2, 1])\n",
    "p8.set_xticks( range(int(Data_Python['Albumin_and_Globulin_Ratio'].min()) , int(Data_Python['Albumin_and_Globulin_Ratio'].max()) , 10) )\n",
    "\n",
    "p9 = sns.boxplot(x=Data_Python['Total_Bilirubin'], color=\"skyblue\", ax=axs[2, 0])\n",
    "p9.set_xticks( range(int(Data_Python['Total_Bilirubin'].min()) , int(Data_Python['Total_Bilirubin'].max()) , 10) )\n",
    "\n",
    "\n",
    "plt.show()"
   ]
  },
  {
   "cell_type": "markdown",
   "metadata": {},
   "source": []
  },
  {
   "cell_type": "markdown",
   "metadata": {},
   "source": []
  },
  {
   "cell_type": "markdown",
   "metadata": {},
   "source": [
    "### 4.3.4. Análisis de la relación entre los predictores categoricos y la respuesta <a class=\"anchor\" id=\"14\"></a>"
   ]
  },
  {
   "cell_type": "markdown",
   "metadata": {},
   "source": [
    "#### 4.3.4.1. Analisis relación entre respuesta (Diseased) y Gender <a class=\"anchor\" id=\"15\"></a>"
   ]
  },
  {
   "cell_type": "markdown",
   "metadata": {},
   "source": [
    "**Frecuencia relativa de genero condicionada a enfermedad**"
   ]
  },
  {
   "cell_type": "code",
   "execution_count": null,
   "metadata": {},
   "outputs": [],
   "source": [
    "Df_Diseased_Yes = Data_Python.loc[ Data_Python['Diseased']==0 , :] \n",
    "\n",
    "proportion_Female_in_Diseased_Yes = len( Df_Diseased_Yes.loc[Df_Diseased_Yes['Gender']==0 , :] ) / len(Df_Diseased_Yes)\n",
    "\n",
    "####################\n",
    "\n",
    "Df_Diseased_Yes = Data_Python.loc[ Data_Python['Diseased']==0 , :] \n",
    "\n",
    "proportion_Male_in_Diseased_Yes = len( Df_Diseased_Yes.loc[Df_Diseased_Yes['Gender']==1 , :] ) / len(Df_Diseased_Yes)\n",
    "\n",
    "####################\n",
    "\n",
    "Df_Diseased_No = Data_Python.loc[ Data_Python['Diseased']==1 , :] \n",
    "\n",
    "proportion_Female_in_Diseased_No = len( Df_Diseased_No.loc[Df_Diseased_No['Gender']==0 , :] ) / len(Df_Diseased_No)\n",
    "\n",
    "####################\n",
    "\n",
    "Df_Diseased_No = Data_Python.loc[ Data_Python['Diseased']==1 , :] \n",
    "\n",
    "proportion_Male_in_Diseased_No = len( Df_Diseased_No.loc[Df_Diseased_No['Gender']==1 , :] ) / len(Df_Diseased_No)\n"
   ]
  },
  {
   "cell_type": "code",
   "execution_count": null,
   "metadata": {},
   "outputs": [],
   "source": [
    "def Table_Con_Rel_Freq_2_Var_Py (df, var1, p1, p2, var1_name='var1' , var2_name='var2') :\n",
    "\n",
    "    table = np.zeros(( p2+1 , p1+1 ))\n",
    "    table[:] = np.nan\n",
    "\n",
    "##########################################################\n",
    "\n",
    "    for i in range(0, p2+1):\n",
    "        for j in range(0, p1+1):\n",
    "\n",
    "            df_new = df.loc[ var1 == j   , : ]\n",
    "\n",
    "            table[i,j] = len( df_new.loc[ df_new[var2_name] == i , :] ) / len(df_new)\n",
    "    \n",
    "    table = pd.DataFrame(table)\n",
    "\n",
    "    return table"
   ]
  },
  {
   "cell_type": "code",
   "execution_count": null,
   "metadata": {},
   "outputs": [],
   "source": [
    "Frec_Relativas_Condicionadas_Gender_in_Diseased = Table_Con_Rel_Freq_2_Var_Py (Data_Python, Data_Python['Diseased'], 1, 1, var1_name='Diseased' , var2_name='Gender')\n",
    "\n",
    "Frec_Relativas_Condicionadas_Gender_in_Diseased.index = ['Female' , 'Male']\n",
    "Frec_Relativas_Condicionadas_Gender_in_Diseased.columns = ['Yes' , 'No']\n",
    "Frec_Relativas_Condicionadas_Gender_in_Diseased = Frec_Relativas_Condicionadas_Gender_in_Diseased.style.set_caption(\"Gender  |  Diseased \")"
   ]
  },
  {
   "cell_type": "code",
   "execution_count": 67,
   "metadata": {},
   "outputs": [
    {
     "data": {
      "text/plain": [
       "<matplotlib.legend.Legend at 0x2210a597c10>"
      ]
     },
     "execution_count": 67,
     "metadata": {},
     "output_type": "execute_result"
    },
    {
     "data": {
      "image/png": "[encoded data removed]",
      "text/plain": [
       "<Figure size 432x288 with 1 Axes>"
      ]
     },
     "metadata": {
      "needs_background": "light"
     },
     "output_type": "display_data"
    }
   ],
   "source": [
    "p1 = sns.countplot(data=Data_Python, x=\"Diseased\", hue=\"Gender\", palette=\"husl\")\n",
    "p1.set_xticklabels(['Yes', 'No'])\n",
    "p1.legend(title='Gender', loc='upper right', labels=['Female', 'Male'])"
   ]
  },
  {
   "cell_type": "code",
   "execution_count": null,
   "metadata": {},
   "outputs": [],
   "source": [
    "Frec_Relativas_Condicionadas_Gender_in_Diseased"
   ]
  },
  {
   "cell_type": "code",
   "execution_count": 62,
   "metadata": {},
   "outputs": [
    {
     "data": {
      "text/plain": [
       "[0.22115384615384615, 0.7788461538461539]"
      ]
     },
     "execution_count": 62,
     "metadata": {},
     "output_type": "execute_result"
    }
   ],
   "source": [
    "[proportion_Female_in_Diseased_Yes , proportion_Male_in_Diseased_Yes]"
   ]
  },
  {
   "cell_type": "code",
   "execution_count": 63,
   "metadata": {},
   "outputs": [
    {
     "data": {
      "text/plain": [
       "[0.2994011976047904, 0.7005988023952096]"
      ]
     },
     "execution_count": 63,
     "metadata": {},
     "output_type": "execute_result"
    }
   ],
   "source": [
    "[proportion_Female_in_Diseased_No , proportion_Male_in_Diseased_No]"
   ]
  },
  {
   "cell_type": "markdown",
   "metadata": {},
   "source": []
  },
  {
   "cell_type": "markdown",
   "metadata": {},
   "source": []
  },
  {
   "cell_type": "markdown",
   "metadata": {},
   "source": [
    "**Frecuencia relativa de enfermedad condicionada al genero**"
   ]
  },
  {
   "cell_type": "code",
   "execution_count": null,
   "metadata": {},
   "outputs": [],
   "source": [
    "Frec_Relativas_Condicionadas_Diseased_in_Gender = Table_Con_Rel_Freq_2_Var_Py (Data_Python, Data_Python['Gender'], 1, 1, var1_name='Gender' , var2_name='Diseased')\n",
    "Frec_Relativas_Condicionadas_Diseased_in_Gender.index = ['Yes' , 'No']\n",
    "Frec_Relativas_Condicionadas_Diseased_in_Gender.columns = ['Female' , 'Male']\n",
    "Frec_Relativas_Condicionadas_Diseased_in_Gender = Frec_Relativas_Condicionadas_Diseased_in_Gender.style.set_caption(\"Diseased | Gender\")"
   ]
  },
  {
   "cell_type": "code",
   "execution_count": 121,
   "metadata": {},
   "outputs": [
    {
     "data": {
      "text/plain": [
       "<matplotlib.legend.Legend at 0x2210a576890>"
      ]
     },
     "execution_count": 121,
     "metadata": {},
     "output_type": "execute_result"
    },
    {
     "data": {
      "image/png": "[encoded data removed]",
      "text/plain": [
       "<Figure size 432x288 with 1 Axes>"
      ]
     },
     "metadata": {
      "needs_background": "light"
     },
     "output_type": "display_data"
    }
   ],
   "source": [
    "p = sns.countplot(data=Data_Python, x=\"Gender\", hue=\"Diseased\", palette=\"husl\")\n",
    "p.set_xticklabels(['Female', 'Male'])\n",
    "p.legend(title='Diseased', loc='upper right', labels=['Yes', 'No'])"
   ]
  },
  {
   "cell_type": "code",
   "execution_count": 116,
   "metadata": {},
   "outputs": [
    {
     "data": {
      "text/html": [
       "<style type=\"text/css\">\n",
       "</style>\n",
       "<table id=\"T_86453\">\n",
       "  <caption>Diseased | Gender</caption>\n",
       "  <thead>\n",
       "    <tr>\n",
       "      <th class=\"blank level0\" >&nbsp;</th>\n",
       "      <th id=\"T_86453_level0_col0\" class=\"col_heading level0 col0\" >Female</th>\n",
       "      <th id=\"T_86453_level0_col1\" class=\"col_heading level0 col1\" >Male</th>\n",
       "    </tr>\n",
       "  </thead>\n",
       "  <tbody>\n",
       "    <tr>\n",
       "      <th id=\"T_86453_level0_row0\" class=\"row_heading level0 row0\" >Yes</th>\n",
       "      <td id=\"T_86453_row0_col0\" class=\"data row0 col0\" >0.647887</td>\n",
       "      <td id=\"T_86453_row0_col1\" class=\"data row0 col1\" >0.734694</td>\n",
       "    </tr>\n",
       "    <tr>\n",
       "      <th id=\"T_86453_level0_row1\" class=\"row_heading level0 row1\" >No</th>\n",
       "      <td id=\"T_86453_row1_col0\" class=\"data row1 col0\" >0.352113</td>\n",
       "      <td id=\"T_86453_row1_col1\" class=\"data row1 col1\" >0.265306</td>\n",
       "    </tr>\n",
       "  </tbody>\n",
       "</table>\n"
      ],
      "text/plain": [
       "<pandas.io.formats.style.Styler at 0x2210f75aa40>"
      ]
     },
     "execution_count": 116,
     "metadata": {},
     "output_type": "execute_result"
    }
   ],
   "source": [
    "Frec_Relativas_Condicionadas_Diseased_in_Gender"
   ]
  },
  {
   "cell_type": "markdown",
   "metadata": {},
   "source": []
  },
  {
   "cell_type": "markdown",
   "metadata": {},
   "source": []
  },
  {
   "cell_type": "markdown",
   "metadata": {},
   "source": [
    "#### 4.3.4.2. Analisis relación entre respuesta (Diseased) y Grupo de Edad <a class=\"anchor\" id=\"16\"></a>"
   ]
  },
  {
   "cell_type": "markdown",
   "metadata": {},
   "source": [
    "**Frecuecnia relativa de enfermedad en funcion del grupo de edad**"
   ]
  },
  {
   "cell_type": "markdown",
   "metadata": {},
   "source": [
    "Tenemos que categorizar la variable cuantitativa Age (edad) , para ello debemos emplear una regla de categorizacion (mediana, media, cuartiles, Scott ...)"
   ]
  },
  {
   "cell_type": "markdown",
   "metadata": {},
   "source": [
    "Usaremos la regla de los cuartiles por simplicidad:"
   ]
  },
  {
   "cell_type": "code",
   "execution_count": 143,
   "metadata": {},
   "outputs": [
    {
     "data": {
      "text/plain": [
       "array([ 4., 33., 45., 58., 90.])"
      ]
     },
     "execution_count": 143,
     "metadata": {},
     "output_type": "execute_result"
    }
   ],
   "source": [
    "intervals = np.quantile( Data_Python['Age'] , [0, 0.25, 0.5, 0.75 , 1])\n",
    "intervals"
   ]
  },
  {
   "cell_type": "markdown",
   "metadata": {},
   "source": [
    "Nos apoyaremos en la funcion `cut()` de la libreria `Pandas` para categorizar la variable Age usando la regla de los cuartiles.\n",
    "\n",
    "A esta funcion le das un vector (bins) y construye unos intervalos con los elementos del vector, en este caso (3, 33], (33, 45], (45, 58], (58, 90]. Luego te devuelve a qué intervalo pertenece cada observacion de una variable dada (en nuestro caso Age), y tambien nos permite codificar estos intervalos con la codificacion estandar (0,1,2,...), y asi obtener una nueva variable que es una version categorizada de la variable pasada (Age en nuestro caso)."
   ]
  },
  {
   "cell_type": "markdown",
   "metadata": {},
   "source": [
    "Vamos a restar una cantidad positiva (por ejemplo 1) al minimo de Age, puesto que ese valor sera el extremo inferior del primer intervalo, y dicho intervalo será abierto en ese extremo (por configuración de la funcion `cut`), por tanto si no restasemos una cantidad positiva, el valor minimo Age no estaria en ninguno de los intervalos generados por `cut()`"
   ]
  },
  {
   "cell_type": "code",
   "execution_count": 144,
   "metadata": {},
   "outputs": [
    {
     "data": {
      "text/plain": [
       "array([ 3., 33., 45., 58., 90.])"
      ]
     },
     "execution_count": 144,
     "metadata": {},
     "output_type": "execute_result"
    }
   ],
   "source": [
    "intervals[0] =  intervals[0] - 1\n",
    "\n",
    "intervals"
   ]
  },
  {
   "cell_type": "code",
   "execution_count": 146,
   "metadata": {},
   "outputs": [
    {
     "data": {
      "text/plain": [
       "0      (58.0, 90.0]\n",
       "1      (58.0, 90.0]\n",
       "2      (58.0, 90.0]\n",
       "3      (45.0, 58.0]\n",
       "4      (58.0, 90.0]\n",
       "           ...     \n",
       "578    (58.0, 90.0]\n",
       "579    (33.0, 45.0]\n",
       "580    (45.0, 58.0]\n",
       "581     (3.0, 33.0]\n",
       "582    (33.0, 45.0]\n",
       "Name: Age, Length: 583, dtype: category\n",
       "Categories (4, interval[float64, right]): [(3.0, 33.0] < (33.0, 45.0] < (45.0, 58.0] < (58.0, 90.0]]"
      ]
     },
     "execution_count": 146,
     "metadata": {},
     "output_type": "execute_result"
    }
   ],
   "source": [
    "pd.cut(x=Data_Python['Age'] , bins=intervals , right=True)"
   ]
  },
  {
   "cell_type": "code",
   "execution_count": 147,
   "metadata": {},
   "outputs": [
    {
     "data": {
      "text/plain": [
       "0      3\n",
       "1      3\n",
       "2      3\n",
       "3      2\n",
       "4      3\n",
       "      ..\n",
       "578    3\n",
       "579    1\n",
       "580    2\n",
       "581    0\n",
       "582    1\n",
       "Name: Age, Length: 583, dtype: int64"
      ]
     },
     "execution_count": 147,
     "metadata": {},
     "output_type": "execute_result"
    }
   ],
   "source": [
    "pd.cut(x=Data_Python['Age'] , bins=intervals , labels=False)"
   ]
  },
  {
   "cell_type": "code",
   "execution_count": 130,
   "metadata": {},
   "outputs": [],
   "source": [
    "Data_Python['Age_cat'] = pd.cut(x=Data_Python['Age'] , bins=intervals , labels=False)"
   ]
  },
  {
   "cell_type": "markdown",
   "metadata": {},
   "source": [
    "La nueva variable $Age\\_cat$ es tal que:\n",
    "\n",
    "$$\n",
    "Age\\_cat_{i} = \\left\\lbrace\\begin{array}{l} 0, \\hspace{0.25cm} \\text{ if $Age\\_cat_{i} \\in \\left[ Min(Age\\_cat) \\hspace{0.03cm} ,\\hspace{0.03cm} Q(0.25, Age\\_cat) \\right] $} \\\\ \\\\ 1, \\hspace{0.25cm}\\text{ if $Age\\_cat_{i} \\in ( Q(0.25 , Age\\_cat) , Q(0.50 , Age\\_cat)] $}   \n",
    "\\\\ \\\\ 2, \\hspace{0.25cm} \\text{ if $Age\\_cat_{i} \\in (Q(0.50 , Age\\_cat) , Q(0.75 , Age\\_cat)] $}   \\\\ \\\\ 3,  \\hspace{0.25cm} \\text{ if $Age\\_cat_{i} \\in \\left(Q(0.75 ,  Age\\_cat) \\hspace{0.02cm},\\hspace{0.02cm} Max(Age\\_cat)\\right] $} \\end{array}\\right.\n",
    "$$\n",
    "\n",
    "para $\\hspace{0.1cm} i=1,...,n$"
   ]
  },
  {
   "cell_type": "markdown",
   "metadata": {},
   "source": []
  },
  {
   "cell_type": "markdown",
   "metadata": {},
   "source": [
    "Ahora tenemos una variable que nos indica el grupo de edad de cada individuo. Tenemos tes grupos de edad. \n",
    "\n",
    "Grupo 0:  $\\hspace{0.2cm} \\leqslant 33 $ años \n",
    "\n",
    "Grupo 1: $\\hspace{0.2cm}$ entre $33$ y $45$ años\n",
    "\n",
    "Grupo 2: $\\hspace{0.2cm}$ entre $45$ y $58$ años\n",
    "\n",
    "grupo 3: $\\hspace{0.2cm}$ $> 58$"
   ]
  },
  {
   "cell_type": "markdown",
   "metadata": {},
   "source": []
  },
  {
   "cell_type": "code",
   "execution_count": 152,
   "metadata": {},
   "outputs": [],
   "source": [
    "Frec_Relativas_Condicionadas_Diseased_in_Aged = Table_Con_Rel_Freq_2_Var_Py (Data_Python, Data_Python['Age_cat'], 3, 1, var1_name='Age_cat' , var2_name='Diseased')\n",
    "Frec_Relativas_Condicionadas_Diseased_in_Aged.index = ['Yes' , 'No']\n",
    "Frec_Relativas_Condicionadas_Diseased_in_Aged.columns = ['(3, 33]', '(33, 45]' , '(45, 58]' , '(58, 90]']\n",
    "Frec_Relativas_Condicionadas_Diseased_in_Aged = Frec_Relativas_Condicionadas_Diseased_in_Aged.style.set_caption(\"Diseased | Age Group\")"
   ]
  },
  {
   "cell_type": "code",
   "execution_count": 160,
   "metadata": {},
   "outputs": [
    {
     "data": {
      "text/plain": [
       "<matplotlib.legend.Legend at 0x2210fca5e70>"
      ]
     },
     "execution_count": 160,
     "metadata": {},
     "output_type": "execute_result"
    },
    {
     "data": {
      "image/png": "[encoded data removed]",
      "text/plain": [
       "<Figure size 432x288 with 1 Axes>"
      ]
     },
     "metadata": {
      "needs_background": "light"
     },
     "output_type": "display_data"
    }
   ],
   "source": [
    "p = sns.countplot(data=Data_Python, x=\"Age_cat\", hue=\"Diseased\", palette=\"husl\")\n",
    "p.set_xticklabels(['(3, 33]', '(33, 45]' , '(45, 58]' , '(58, 90]'])\n",
    "p.legend(title='Diseased', loc='upper right', labels=['Yes', 'No'] )"
   ]
  },
  {
   "cell_type": "code",
   "execution_count": 153,
   "metadata": {},
   "outputs": [
    {
     "data": {
      "text/html": [
       "<style type=\"text/css\">\n",
       "</style>\n",
       "<table id=\"T_be93d\">\n",
       "  <caption>Diseased | Age Group</caption>\n",
       "  <thead>\n",
       "    <tr>\n",
       "      <th class=\"blank level0\" >&nbsp;</th>\n",
       "      <th id=\"T_be93d_level0_col0\" class=\"col_heading level0 col0\" >(3, 33]</th>\n",
       "      <th id=\"T_be93d_level0_col1\" class=\"col_heading level0 col1\" >(33, 45]</th>\n",
       "      <th id=\"T_be93d_level0_col2\" class=\"col_heading level0 col2\" >(45, 58]</th>\n",
       "      <th id=\"T_be93d_level0_col3\" class=\"col_heading level0 col3\" >(58, 90]</th>\n",
       "    </tr>\n",
       "  </thead>\n",
       "  <tbody>\n",
       "    <tr>\n",
       "      <th id=\"T_be93d_level0_row0\" class=\"row_heading level0 row0\" >Yes</th>\n",
       "      <td id=\"T_be93d_row0_col0\" class=\"data row0 col0\" >0.653846</td>\n",
       "      <td id=\"T_be93d_row0_col1\" class=\"data row0 col1\" >0.676056</td>\n",
       "      <td id=\"T_be93d_row0_col2\" class=\"data row0 col2\" >0.800000</td>\n",
       "      <td id=\"T_be93d_row0_col3\" class=\"data row0 col3\" >0.736842</td>\n",
       "    </tr>\n",
       "    <tr>\n",
       "      <th id=\"T_be93d_level0_row1\" class=\"row_heading level0 row1\" >No</th>\n",
       "      <td id=\"T_be93d_row1_col0\" class=\"data row1 col0\" >0.346154</td>\n",
       "      <td id=\"T_be93d_row1_col1\" class=\"data row1 col1\" >0.323944</td>\n",
       "      <td id=\"T_be93d_row1_col2\" class=\"data row1 col2\" >0.200000</td>\n",
       "      <td id=\"T_be93d_row1_col3\" class=\"data row1 col3\" >0.263158</td>\n",
       "    </tr>\n",
       "  </tbody>\n",
       "</table>\n"
      ],
      "text/plain": [
       "<pandas.io.formats.style.Styler at 0x2210a596530>"
      ]
     },
     "execution_count": 153,
     "metadata": {},
     "output_type": "execute_result"
    }
   ],
   "source": [
    "Frec_Relativas_Condicionadas_Diseased_in_Aged  "
   ]
  },
  {
   "cell_type": "markdown",
   "metadata": {},
   "source": []
  },
  {
   "cell_type": "markdown",
   "metadata": {},
   "source": [
    "**Frecuecnia relativa de grupo de edad en funcion de enfermedad**"
   ]
  },
  {
   "cell_type": "code",
   "execution_count": 154,
   "metadata": {},
   "outputs": [],
   "source": [
    "Frec_Relativas_Condicionadas_Age_in_Diseased = Table_Con_Rel_Freq_2_Var_Py (Data_Python, Data_Python['Diseased'], 1, 3, var1_name='Diseased' , var2_name='Age_cat')\n",
    "Frec_Relativas_Condicionadas_Age_in_Diseased.index = ['(3, 33]', '(33, 45]' , '(45, 58]' , '(58, 90]']\n",
    "Frec_Relativas_Condicionadas_Age_in_Diseased.columns = ['Yes' , 'No']\n",
    "Frec_Relativas_Condicionadas_Age_in_Diseased = Frec_Relativas_Condicionadas_Age_in_Diseased.style.set_caption(\"Age Group | Diseased\")"
   ]
  },
  {
   "cell_type": "code",
   "execution_count": 161,
   "metadata": {},
   "outputs": [
    {
     "data": {
      "text/plain": [
       "<matplotlib.legend.Legend at 0x2210fbe4b50>"
      ]
     },
     "execution_count": 161,
     "metadata": {},
     "output_type": "execute_result"
    },
    {
     "data": {
      "image/png": "[encoded data removed]",
      "text/plain": [
       "<Figure size 432x288 with 1 Axes>"
      ]
     },
     "metadata": {
      "needs_background": "light"
     },
     "output_type": "display_data"
    }
   ],
   "source": [
    "p = sns.countplot(data=Data_Python, x=\"Diseased\", hue=\"Age_cat\", palette=\"husl\")\n",
    "p.set_xticklabels(['Yes', 'No'])\n",
    "p.legend(title='Group Age', loc='upper right', labels= ['(3, 33]', '(33, 45]' , '(45, 58]' , '(58, 90]'])"
   ]
  },
  {
   "cell_type": "code",
   "execution_count": 155,
   "metadata": {},
   "outputs": [
    {
     "data": {
      "text/html": [
       "<style type=\"text/css\">\n",
       "</style>\n",
       "<table id=\"T_dcbcc\">\n",
       "  <caption>Age Group | Diseased</caption>\n",
       "  <thead>\n",
       "    <tr>\n",
       "      <th class=\"blank level0\" >&nbsp;</th>\n",
       "      <th id=\"T_dcbcc_level0_col0\" class=\"col_heading level0 col0\" >Yes</th>\n",
       "      <th id=\"T_dcbcc_level0_col1\" class=\"col_heading level0 col1\" >No</th>\n",
       "    </tr>\n",
       "  </thead>\n",
       "  <tbody>\n",
       "    <tr>\n",
       "      <th id=\"T_dcbcc_level0_row0\" class=\"row_heading level0 row0\" >(3, 33]</th>\n",
       "      <td id=\"T_dcbcc_row0_col0\" class=\"data row0 col0\" >0.245192</td>\n",
       "      <td id=\"T_dcbcc_row0_col1\" class=\"data row0 col1\" >0.323353</td>\n",
       "    </tr>\n",
       "    <tr>\n",
       "      <th id=\"T_dcbcc_level0_row1\" class=\"row_heading level0 row1\" >(33, 45]</th>\n",
       "      <td id=\"T_dcbcc_row1_col0\" class=\"data row1 col0\" >0.230769</td>\n",
       "      <td id=\"T_dcbcc_row1_col1\" class=\"data row1 col1\" >0.275449</td>\n",
       "    </tr>\n",
       "    <tr>\n",
       "      <th id=\"T_dcbcc_level0_row2\" class=\"row_heading level0 row2\" >(45, 58]</th>\n",
       "      <td id=\"T_dcbcc_row2_col0\" class=\"data row2 col0\" >0.288462</td>\n",
       "      <td id=\"T_dcbcc_row2_col1\" class=\"data row2 col1\" >0.179641</td>\n",
       "    </tr>\n",
       "    <tr>\n",
       "      <th id=\"T_dcbcc_level0_row3\" class=\"row_heading level0 row3\" >(58, 90]</th>\n",
       "      <td id=\"T_dcbcc_row3_col0\" class=\"data row3 col0\" >0.235577</td>\n",
       "      <td id=\"T_dcbcc_row3_col1\" class=\"data row3 col1\" >0.209581</td>\n",
       "    </tr>\n",
       "  </tbody>\n",
       "</table>\n"
      ],
      "text/plain": [
       "<pandas.io.formats.style.Styler at 0x2210f9d47f0>"
      ]
     },
     "execution_count": 155,
     "metadata": {},
     "output_type": "execute_result"
    }
   ],
   "source": [
    "Frec_Relativas_Condicionadas_Age_in_Diseased"
   ]
  },
  {
   "cell_type": "markdown",
   "metadata": {},
   "source": []
  },
  {
   "cell_type": "markdown",
   "metadata": {},
   "source": []
  },
  {
   "cell_type": "markdown",
   "metadata": {},
   "source": [
    "### 4.3.5. Análisis de la relación entre los predictores cuantitativos y la respuesta  <a class=\"anchor\" id=\"17\"></a>"
   ]
  },
  {
   "cell_type": "markdown",
   "metadata": {},
   "source": [
    "#### 4.3.5.1. Resumen Estadisticos Descriptivos Cuantitativos en funcion de Diseased  <a class=\"anchor\" id=\"18\"></a>"
   ]
  },
  {
   "cell_type": "code",
   "execution_count": 269,
   "metadata": {},
   "outputs": [],
   "source": [
    "Data_Python_Quantitative_Diseased_yes = Data_Python.loc[ Data_Python['Diseased'] == 0 , (Data_Python.columns != 'Gender') & (Data_Python.columns != 'Diseased') & (Data_Python.columns != 'proportion_Gender')  & (Data_Python.columns != 'proportion_Diseased') & (Data_Python.columns != 'Age_cat') ]\n",
    "Data_Python_Quantitative_Diseased_no = Data_Python.loc[ Data_Python['Diseased'] == 1 , (Data_Python.columns != 'Gender') & (Data_Python.columns != 'Diseased') & (Data_Python.columns != 'proportion_Gender')  & (Data_Python.columns != 'proportion_Diseased') & (Data_Python.columns != 'Age_cat') ]"
   ]
  },
  {
   "cell_type": "code",
   "execution_count": 270,
   "metadata": {},
   "outputs": [],
   "source": [
    "std_yes = Data_Python_Quantitative_Diseased_yes.std()\n",
    "std_no = Data_Python_Quantitative_Diseased_no.std()\n",
    "\n",
    "mean_yes = Data_Python_Quantitative_Diseased_yes.mean()\n",
    "mean_no = Data_Python_Quantitative_Diseased_no.mean()\n",
    "\n",
    "Q25_yes = Data_Python_Quantitative_Diseased_yes.quantile(q=0.25)\n",
    "Q25_no = Data_Python_Quantitative_Diseased_no.quantile(q=0.25)\n",
    "\n",
    "Q50_yes = Data_Python_Quantitative_Diseased_yes.quantile(q=0.5)\n",
    "Q50_no = Data_Python_Quantitative_Diseased_no.quantile(q=0.5)\n",
    "\n",
    "Q75_yes = Data_Python_Quantitative_Diseased_yes.quantile(q=0.75)\n",
    "Q75_no = Data_Python_Quantitative_Diseased_no.quantile(q=0.75)\n",
    "\n",
    "min_yes = Data_Python_Quantitative_Diseased_yes.min()\n",
    "min_no = Data_Python_Quantitative_Diseased_no.min()\n",
    "\n",
    "max_yes = Data_Python_Quantitative_Diseased_yes.max()\n",
    "max_no = Data_Python_Quantitative_Diseased_no.max()"
   ]
  },
  {
   "cell_type": "code",
   "execution_count": 286,
   "metadata": {},
   "outputs": [],
   "source": [
    "df_yes = pd.DataFrame({'mean':mean_yes , 'min':min_yes , 'Q25':Q25_yes  , 'median':Q50_yes  , 'Q75':Q75_yes  , 'max':max_yes  , 'std':std_yes})\n",
    "\n",
    "df_no = pd.DataFrame({'mean':mean_no , 'min':min_no , 'Q25':Q25_no  , 'median':Q50_no  , 'Q75':Q75_no  , 'max':max_no  , 'std':std_no})"
   ]
  },
  {
   "cell_type": "code",
   "execution_count": 290,
   "metadata": {},
   "outputs": [
    {
     "data": {
      "text/html": [
       "<div>\n",
       "<style scoped>\n",
       "    .dataframe tbody tr th:only-of-type {\n",
       "        vertical-align: middle;\n",
       "    }\n",
       "\n",
       "    .dataframe tbody tr th {\n",
       "        vertical-align: top;\n",
       "    }\n",
       "\n",
       "    .dataframe thead th {\n",
       "        text-align: right;\n",
       "    }\n",
       "</style>\n",
       "<table border=\"1\" class=\"dataframe\">\n",
       "  <thead>\n",
       "    <tr style=\"text-align: right;\">\n",
       "      <th></th>\n",
       "      <th>Age_yes</th>\n",
       "      <th>Age_no</th>\n",
       "      <th>Total_Bilirubin_yes</th>\n",
       "      <th>Total_Bilirubin_no</th>\n",
       "      <th>Direct_Bilirubin_yes</th>\n",
       "      <th>Direct_Bilirubin_no</th>\n",
       "      <th>Alkaline_Phosphotase_yes</th>\n",
       "      <th>Alkaline_Phosphotase_no</th>\n",
       "      <th>Alamine_Aminotransferase_yes</th>\n",
       "      <th>Alamine_Aminotransferase_no</th>\n",
       "      <th>Aspartate_Aminotransferase_yes</th>\n",
       "      <th>Aspartate_Aminotransferase_no</th>\n",
       "      <th>Total_Protiens_yes</th>\n",
       "      <th>Total_Protiens_no</th>\n",
       "      <th>Albumin_yes</th>\n",
       "      <th>Albumin_no</th>\n",
       "      <th>Albumin_and_Globulin_Ratio_yes</th>\n",
       "      <th>Albumin_and_Globulin_Ratio_no</th>\n",
       "    </tr>\n",
       "  </thead>\n",
       "  <tbody>\n",
       "    <tr>\n",
       "      <th>mean</th>\n",
       "      <td>46.153846</td>\n",
       "      <td>41.239521</td>\n",
       "      <td>4.164423</td>\n",
       "      <td>1.142515</td>\n",
       "      <td>1.923558</td>\n",
       "      <td>0.396407</td>\n",
       "      <td>319.007212</td>\n",
       "      <td>219.754491</td>\n",
       "      <td>99.605769</td>\n",
       "      <td>33.652695</td>\n",
       "      <td>137.699519</td>\n",
       "      <td>40.688623</td>\n",
       "      <td>6.459135</td>\n",
       "      <td>6.543114</td>\n",
       "      <td>3.060577</td>\n",
       "      <td>3.344311</td>\n",
       "      <td>0.914337</td>\n",
       "      <td>1.028588</td>\n",
       "    </tr>\n",
       "    <tr>\n",
       "      <th>min</th>\n",
       "      <td>7.000000</td>\n",
       "      <td>4.000000</td>\n",
       "      <td>0.400000</td>\n",
       "      <td>0.500000</td>\n",
       "      <td>0.100000</td>\n",
       "      <td>0.100000</td>\n",
       "      <td>63.000000</td>\n",
       "      <td>90.000000</td>\n",
       "      <td>12.000000</td>\n",
       "      <td>10.000000</td>\n",
       "      <td>11.000000</td>\n",
       "      <td>10.000000</td>\n",
       "      <td>2.700000</td>\n",
       "      <td>3.700000</td>\n",
       "      <td>0.900000</td>\n",
       "      <td>1.400000</td>\n",
       "      <td>0.300000</td>\n",
       "      <td>0.370000</td>\n",
       "    </tr>\n",
       "    <tr>\n",
       "      <th>Q25</th>\n",
       "      <td>34.000000</td>\n",
       "      <td>28.000000</td>\n",
       "      <td>0.800000</td>\n",
       "      <td>0.700000</td>\n",
       "      <td>0.200000</td>\n",
       "      <td>0.200000</td>\n",
       "      <td>186.000000</td>\n",
       "      <td>161.500000</td>\n",
       "      <td>25.000000</td>\n",
       "      <td>20.000000</td>\n",
       "      <td>29.750000</td>\n",
       "      <td>21.000000</td>\n",
       "      <td>5.700000</td>\n",
       "      <td>5.900000</td>\n",
       "      <td>2.500000</td>\n",
       "      <td>2.900000</td>\n",
       "      <td>0.700000</td>\n",
       "      <td>0.900000</td>\n",
       "    </tr>\n",
       "    <tr>\n",
       "      <th>median</th>\n",
       "      <td>46.000000</td>\n",
       "      <td>40.000000</td>\n",
       "      <td>1.400000</td>\n",
       "      <td>0.800000</td>\n",
       "      <td>0.500000</td>\n",
       "      <td>0.200000</td>\n",
       "      <td>229.000000</td>\n",
       "      <td>186.000000</td>\n",
       "      <td>41.000000</td>\n",
       "      <td>27.000000</td>\n",
       "      <td>52.500000</td>\n",
       "      <td>29.000000</td>\n",
       "      <td>6.550000</td>\n",
       "      <td>6.600000</td>\n",
       "      <td>3.000000</td>\n",
       "      <td>3.400000</td>\n",
       "      <td>0.900000</td>\n",
       "      <td>1.000000</td>\n",
       "    </tr>\n",
       "    <tr>\n",
       "      <th>Q75</th>\n",
       "      <td>58.000000</td>\n",
       "      <td>55.000000</td>\n",
       "      <td>3.625000</td>\n",
       "      <td>1.100000</td>\n",
       "      <td>1.800000</td>\n",
       "      <td>0.350000</td>\n",
       "      <td>315.250000</td>\n",
       "      <td>213.000000</td>\n",
       "      <td>76.500000</td>\n",
       "      <td>37.500000</td>\n",
       "      <td>108.750000</td>\n",
       "      <td>43.500000</td>\n",
       "      <td>7.200000</td>\n",
       "      <td>7.300000</td>\n",
       "      <td>3.625000</td>\n",
       "      <td>4.000000</td>\n",
       "      <td>1.100000</td>\n",
       "      <td>1.200000</td>\n",
       "    </tr>\n",
       "    <tr>\n",
       "      <th>max</th>\n",
       "      <td>90.000000</td>\n",
       "      <td>85.000000</td>\n",
       "      <td>75.000000</td>\n",
       "      <td>7.300000</td>\n",
       "      <td>19.700000</td>\n",
       "      <td>3.600000</td>\n",
       "      <td>2110.000000</td>\n",
       "      <td>1580.000000</td>\n",
       "      <td>2000.000000</td>\n",
       "      <td>181.000000</td>\n",
       "      <td>4929.000000</td>\n",
       "      <td>285.000000</td>\n",
       "      <td>9.600000</td>\n",
       "      <td>9.200000</td>\n",
       "      <td>5.500000</td>\n",
       "      <td>5.000000</td>\n",
       "      <td>2.800000</td>\n",
       "      <td>1.900000</td>\n",
       "    </tr>\n",
       "    <tr>\n",
       "      <th>std</th>\n",
       "      <td>15.654412</td>\n",
       "      <td>16.999366</td>\n",
       "      <td>7.144831</td>\n",
       "      <td>1.004472</td>\n",
       "      <td>3.206901</td>\n",
       "      <td>0.519255</td>\n",
       "      <td>268.307911</td>\n",
       "      <td>140.986262</td>\n",
       "      <td>212.768472</td>\n",
       "      <td>25.060392</td>\n",
       "      <td>337.389980</td>\n",
       "      <td>36.411620</td>\n",
       "      <td>1.094659</td>\n",
       "      <td>1.063042</td>\n",
       "      <td>0.786595</td>\n",
       "      <td>0.783690</td>\n",
       "      <td>0.325374</td>\n",
       "      <td>0.285658</td>\n",
       "    </tr>\n",
       "  </tbody>\n",
       "</table>\n",
       "</div>"
      ],
      "text/plain": [
       "          Age_yes     Age_no  Total_Bilirubin_yes  Total_Bilirubin_no  \\\n",
       "mean    46.153846  41.239521             4.164423            1.142515   \n",
       "min      7.000000   4.000000             0.400000            0.500000   \n",
       "Q25     34.000000  28.000000             0.800000            0.700000   \n",
       "median  46.000000  40.000000             1.400000            0.800000   \n",
       "Q75     58.000000  55.000000             3.625000            1.100000   \n",
       "max     90.000000  85.000000            75.000000            7.300000   \n",
       "std     15.654412  16.999366             7.144831            1.004472   \n",
       "\n",
       "        Direct_Bilirubin_yes  Direct_Bilirubin_no  Alkaline_Phosphotase_yes  \\\n",
       "mean                1.923558             0.396407                319.007212   \n",
       "min                 0.100000             0.100000                 63.000000   \n",
       "Q25                 0.200000             0.200000                186.000000   \n",
       "median              0.500000             0.200000                229.000000   \n",
       "Q75                 1.800000             0.350000                315.250000   \n",
       "max                19.700000             3.600000               2110.000000   \n",
       "std                 3.206901             0.519255                268.307911   \n",
       "\n",
       "        Alkaline_Phosphotase_no  Alamine_Aminotransferase_yes  \\\n",
       "mean                 219.754491                     99.605769   \n",
       "min                   90.000000                     12.000000   \n",
       "Q25                  161.500000                     25.000000   \n",
       "median               186.000000                     41.000000   \n",
       "Q75                  213.000000                     76.500000   \n",
       "max                 1580.000000                   2000.000000   \n",
       "std                  140.986262                    212.768472   \n",
       "\n",
       "        Alamine_Aminotransferase_no  Aspartate_Aminotransferase_yes  \\\n",
       "mean                      33.652695                      137.699519   \n",
       "min                       10.000000                       11.000000   \n",
       "Q25                       20.000000                       29.750000   \n",
       "median                    27.000000                       52.500000   \n",
       "Q75                       37.500000                      108.750000   \n",
       "max                      181.000000                     4929.000000   \n",
       "std                       25.060392                      337.389980   \n",
       "\n",
       "        Aspartate_Aminotransferase_no  Total_Protiens_yes  Total_Protiens_no  \\\n",
       "mean                        40.688623            6.459135           6.543114   \n",
       "min                         10.000000            2.700000           3.700000   \n",
       "Q25                         21.000000            5.700000           5.900000   \n",
       "median                      29.000000            6.550000           6.600000   \n",
       "Q75                         43.500000            7.200000           7.300000   \n",
       "max                        285.000000            9.600000           9.200000   \n",
       "std                         36.411620            1.094659           1.063042   \n",
       "\n",
       "        Albumin_yes  Albumin_no  Albumin_and_Globulin_Ratio_yes  \\\n",
       "mean       3.060577    3.344311                        0.914337   \n",
       "min        0.900000    1.400000                        0.300000   \n",
       "Q25        2.500000    2.900000                        0.700000   \n",
       "median     3.000000    3.400000                        0.900000   \n",
       "Q75        3.625000    4.000000                        1.100000   \n",
       "max        5.500000    5.000000                        2.800000   \n",
       "std        0.786595    0.783690                        0.325374   \n",
       "\n",
       "        Albumin_and_Globulin_Ratio_no  \n",
       "mean                         1.028588  \n",
       "min                          0.370000  \n",
       "Q25                          0.900000  \n",
       "median                       1.000000  \n",
       "Q75                          1.200000  \n",
       "max                          1.900000  \n",
       "std                          0.285658  "
      ]
     },
     "execution_count": 290,
     "metadata": {},
     "output_type": "execute_result"
    }
   ],
   "source": [
    "Statistics_Quantitatives_Diseased = pd.DataFrame({\n",
    "    \n",
    "              'Age_yes':df_yes.iloc[0,:]   ,              \n",
    "              'Age_no':df_no.iloc[0,:],\n",
    "              'Total_Bilirubin_yes':df_yes.iloc[1,:]   , \n",
    "              'Total_Bilirubin_no':df_no.iloc[1,:],\n",
    "              'Direct_Bilirubin_yes':df_yes.iloc[2,:]   , \n",
    "              'Direct_Bilirubin_no':df_no.iloc[2,:],\n",
    "              'Alkaline_Phosphotase_yes':df_yes.iloc[3,:]   , \n",
    "              'Alkaline_Phosphotase_no':df_no.iloc[3,:],\n",
    "              'Alamine_Aminotransferase_yes':df_yes.iloc[4,:]   , \n",
    "              'Alamine_Aminotransferase_no':df_no.iloc[4,:],\n",
    "              'Aspartate_Aminotransferase_yes':df_yes.iloc[5,:]   , \n",
    "              'Aspartate_Aminotransferase_no':df_no.iloc[5,:],\n",
    "              'Total_Protiens_yes':df_yes.iloc[6,:]   , \n",
    "              'Total_Protiens_no':df_no.iloc[6,:],\n",
    "              'Albumin_yes':df_yes.iloc[7,:]   , \n",
    "              'Albumin_no':df_no.iloc[7,:],\n",
    "              'Albumin_and_Globulin_Ratio_yes':df_yes.iloc[8,:]   , \n",
    "              'Albumin_and_Globulin_Ratio_no':df_no.iloc[8,:],\n",
    "              \n",
    "               })"
   ]
  },
  {
   "cell_type": "markdown",
   "metadata": {},
   "source": []
  },
  {
   "cell_type": "markdown",
   "metadata": {},
   "source": [
    "#### 4.3.5.2. Diagrama de puntos de la respuesta (Diseased) en función de predictores cuantitativos  <a class=\"anchor\" id=\"19\"></a>"
   ]
  },
  {
   "cell_type": "code",
   "execution_count": 217,
   "metadata": {},
   "outputs": [
    {
     "data": {
      "text/plain": [
       "<seaborn.axisgrid.FacetGrid at 0x22115a27eb0>"
      ]
     },
     "execution_count": 217,
     "metadata": {},
     "output_type": "execute_result"
    },
    {
     "data": {
      "image/png": "[encoded data removed]",
      "text/plain": [
       "<Figure size 432x216 with 2 Axes>"
      ]
     },
     "metadata": {
      "needs_background": "light"
     },
     "output_type": "display_data"
    }
   ],
   "source": [
    "g = sns.FacetGrid(Data_Python, col=\"Diseased\")\n",
    "g.map_dataframe(sns.histplot, x=\"Age\", stat=\"proportion\", bins=10, color=\"red\")"
   ]
  },
  {
   "cell_type": "code",
   "execution_count": 3,
   "metadata": {},
   "outputs": [
    {
     "ename": "NameError",
     "evalue": "name 'sns' is not defined",
     "output_type": "error",
     "traceback": [
      "\u001b[1;31m---------------------------------------------------------------------------\u001b[0m",
      "\u001b[1;31mNameError\u001b[0m                                 Traceback (most recent call last)",
      "\u001b[1;32mc:\\Users\\Usuario\\Documents\\fabio\\Fabio\\Estadistica4all.github.io\\Notebooks\\Aprendizaje Automatico\\Practica1.ipynb Celda 154\u001b[0m in \u001b[0;36m<cell line: 1>\u001b[1;34m()\u001b[0m\n\u001b[1;32m----> <a href='vscode-notebook-cell:/c%3A/Users/Usuario/Documents/fabio/Fabio/Estadistica4all.github.io/Notebooks/Aprendizaje%20Automatico/Practica1.ipynb#Y311sZmlsZQ%3D%3D?line=0'>1</a>\u001b[0m g \u001b[39m=\u001b[39m sns\u001b[39m.\u001b[39mFacetGrid(Data_Python, col\u001b[39m=\u001b[39m\u001b[39m\"\u001b[39m\u001b[39mDiseased\u001b[39m\u001b[39m\"\u001b[39m)\n\u001b[0;32m      <a href='vscode-notebook-cell:/c%3A/Users/Usuario/Documents/fabio/Fabio/Estadistica4all.github.io/Notebooks/Aprendizaje%20Automatico/Practica1.ipynb#Y311sZmlsZQ%3D%3D?line=1'>2</a>\u001b[0m g\u001b[39m.\u001b[39mmap_dataframe(sns\u001b[39m.\u001b[39mhistplot, x\u001b[39m=\u001b[39m\u001b[39m\"\u001b[39m\u001b[39mDirect_Bilirubin\u001b[39m\u001b[39m\"\u001b[39m, stat\u001b[39m=\u001b[39m\u001b[39m\"\u001b[39m\u001b[39mproportion\u001b[39m\u001b[39m\"\u001b[39m, bins\u001b[39m=\u001b[39m\u001b[39m3\u001b[39m, color\u001b[39m=\u001b[39m\u001b[39m\"\u001b[39m\u001b[39mgreen\u001b[39m\u001b[39m\"\u001b[39m)\n",
      "\u001b[1;31mNameError\u001b[0m: name 'sns' is not defined"
     ]
    }
   ],
   "source": [
    "g = sns.FacetGrid(Data_Python, col=\"Diseased\")\n",
    "g.map_dataframe(sns.histplot, x=\"Direct_Bilirubin\", stat=\"proportion\", bins=3, color=\"green\")"
   ]
  },
  {
   "cell_type": "code",
   "execution_count": 303,
   "metadata": {},
   "outputs": [
    {
     "data": {
      "image/png": "[encoded data removed]",
      "text/plain": [
       "<Figure size 1080x1080 with 9 Axes>"
      ]
     },
     "metadata": {
      "needs_background": "light"
     },
     "output_type": "display_data"
    }
   ],
   "source": [
    "fig, axs = plt.subplots(3, 3, figsize=(15, 15))\n",
    "\n",
    "p1 = sns.stripplot(data=Data_Python, x=\"Diseased\", y=\"Age\", jitter=0.3, size=4, color='red', ax=axs[0, 0])\n",
    "p1.set_xticklabels(['Yes', 'No'])\n",
    "p1.set_yticks( range(int(Data_Python['Age'].min()) , int(Data_Python['Age'].max()) , 7) )\n",
    "\n",
    "p2 = sns.stripplot(data=Data_Python, x=\"Diseased\", y=\"Direct_Bilirubin\", jitter=0.3, size=4, color='red', ax=axs[0, 1])\n",
    "p2.set_xticklabels(['Yes', 'No'])\n",
    "\n",
    "p3 = sns.stripplot(data=Data_Python, x=\"Diseased\", y=\"Alkaline_Phosphotase\", jitter=0.3, size=4, color='red', ax=axs[1, 0])\n",
    "p3.set_xticklabels(['Yes', 'No'])\n",
    "\n",
    "p4 = sns.stripplot(data=Data_Python, x=\"Diseased\", y=\"Alamine_Aminotransferase\", jitter=0.3, size=4, color='red', ax=axs[1, 1])\n",
    "p4.set_xticklabels(['Yes', 'No'])\n",
    "\n",
    "p5 = sns.stripplot(data=Data_Python, x=\"Diseased\", y=\"Aspartate_Aminotransferase\", jitter=0.3, size=4, color='red', ax=axs[0, 2])\n",
    "p5.set_xticklabels(['Yes', 'No'])\n",
    "\n",
    "p6 = sns.stripplot(data=Data_Python, x=\"Diseased\", y=\"Total_Protiens\", jitter=0.3, size=4, color='red', ax=axs[1, 2])\n",
    "p6.set_xticklabels(['Yes', 'No'])\n",
    "\n",
    "p7 = sns.stripplot(data=Data_Python, x=\"Diseased\", y=\"Albumin\", jitter=0.3, size=4, color='red', ax=axs[2, 2])\n",
    "p7.set_xticklabels(['Yes', 'No'])\n",
    "\n",
    "p8 = sns.stripplot(data=Data_Python, x=\"Diseased\", y=\"Albumin_and_Globulin_Ratio\", jitter=0.3, size=4, color='red', ax=axs[2, 1])\n",
    "p8.set_xticklabels(['Yes', 'No'])\n",
    "\n",
    "p9 = sns.stripplot(data=Data_Python, x=\"Diseased\", y=\"Total_Bilirubin\", jitter=0.3, size=4, color='red', ax=axs[2, 0])\n",
    "p9.set_xticklabels(['Yes', 'No'])\n",
    "\n",
    "\n",
    "plt.show()\n"
   ]
  },
  {
   "cell_type": "markdown",
   "metadata": {},
   "source": []
  },
  {
   "cell_type": "markdown",
   "metadata": {},
   "source": []
  },
  {
   "cell_type": "markdown",
   "metadata": {},
   "source": [
    "#### 4.3.5.3. Box-plots de los predictores cuantitativos en función de la respuesta (Diseased)  <a class=\"anchor\" id=\"20\"></a>"
   ]
  },
  {
   "cell_type": "markdown",
   "metadata": {},
   "source": []
  },
  {
   "cell_type": "markdown",
   "metadata": {},
   "source": []
  },
  {
   "cell_type": "markdown",
   "metadata": {},
   "source": [
    "\n",
    "## 4.4. Arboles de clasificación en `R`  <a class=\"anchor\" id=\"21\"></a>\n",
    "\n"
   ]
  },
  {
   "cell_type": "markdown",
   "metadata": {},
   "source": [
    "\n",
    "### 4.4.1. Algoritmo rpart con `R`  <a class=\"anchor\" id=\"22\"></a>\n",
    "\n"
   ]
  },
  {
   "cell_type": "code",
   "execution_count": 42,
   "metadata": {},
   "outputs": [
    {
     "name": "stderr",
     "output_type": "stream",
     "text": [
      "R[write to console]: Loading required package: ggplot2\n",
      "\n",
      "R[write to console]: Loading required package: lattice\n",
      "\n"
     ]
    },
    {
     "name": "stdout",
     "output_type": "stream",
     "text": [
      "-- Attaching packages --------------------------------------- tidyverse 1.3.2 --\n",
      "v tibble  3.1.7     v dplyr   1.0.9\n",
      "v tidyr   1.2.0     v stringr 1.4.1\n",
      "v readr   2.1.2     v forcats 0.5.2\n",
      "v purrr   0.3.4     \n",
      "-- Conflicts ------------------------------------------ tidyverse_conflicts() --\n",
      "x dplyr::filter() masks stats::filter()\n",
      "x dplyr::lag()    masks stats::lag()\n",
      "x purrr::lift()   masks caret::lift()\n"
     ]
    }
   ],
   "source": [
    "%%R\n",
    "library(rpart)\n",
    "library(rpart.plot)\n",
    "library(caret)\n",
    "library(tidyverse)"
   ]
  },
  {
   "cell_type": "markdown",
   "metadata": {},
   "source": []
  },
  {
   "cell_type": "markdown",
   "metadata": {},
   "source": [
    "\n",
    "Visualización de un arbol muy grande\n"
   ]
  },
  {
   "cell_type": "code",
   "execution_count": 7,
   "metadata": {},
   "outputs": [
    {
     "data": {
      "image/png": "[encoded data removed]"
     },
     "metadata": {},
     "output_type": "display_data"
    }
   ],
   "source": [
    "%%R\n",
    "\n",
    "set.seed(0)\n",
    "datos_entreno<-sample_frac(ilpd,0.75) # fraccionamos la muestra en entrenamiento y test\n",
    "datos_test<-setdiff(ilpd,datos_entreno)\n",
    "\n",
    "arbol_0<-rpart(diseased~.,data = datos_entreno, method = \"class\",cp=0.01)\n",
    "rpart.plot(arbol_0, \n",
    "           extra = 104,          # show fitted class, probs, percentages\n",
    "           box.palette = \"GnBu\", # color scheme\n",
    "           branch.lty = 3,       # dotted branch lines\n",
    "           shadow.col = \"gray\",  # shadows under the node boxes\n",
    "           nn = TRUE)\n"
   ]
  },
  {
   "cell_type": "markdown",
   "metadata": {},
   "source": []
  },
  {
   "cell_type": "markdown",
   "metadata": {},
   "source": [
    "Predicciones y matriz de confusión"
   ]
  },
  {
   "cell_type": "code",
   "execution_count": 59,
   "metadata": {},
   "outputs": [
    {
     "name": "stderr",
     "output_type": "stream",
     "text": [
      "R[write to console]: Error in predict(arbol_0, newdata = datos_test, type = \"class\") : \n",
      "  object 'arbol_0' not found\n",
      "\n"
     ]
    },
    {
     "name": "stdout",
     "output_type": "stream",
     "text": [
      "\n",
      "Error in predict(arbol_0, newdata = datos_test, type = \"class\") : \n",
      "  object 'arbol_0' not found\n"
     ]
    },
    {
     "ename": "RInterpreterError",
     "evalue": "Failed to parse and evaluate line '\\nprediccion1<-predict(arbol_0,newdata=datos_test,type=\"class\")\\nmatriz_confusion1<-confusionMatrix(prediccion1,datos_test[[\"diseased\"]])\\n'.\nR error message: 'Error in predict(arbol_0, newdata = datos_test, type = \"class\") : \\n  object \\'arbol_0\\' not found'",
     "output_type": "error",
     "traceback": [
      "\u001b[1;31m---------------------------------------------------------------------------\u001b[0m",
      "\u001b[1;31mRRuntimeError\u001b[0m                             Traceback (most recent call last)",
      "File \u001b[1;32mc:\\Users\\Usuario\\AppData\\Local\\Programs\\Python\\Python310\\lib\\site-packages\\rpy2\\ipython\\rmagic.py:268\u001b[0m, in \u001b[0;36mRMagics.eval\u001b[1;34m(self, code)\u001b[0m\n\u001b[0;32m    266\u001b[0m \u001b[39mtry\u001b[39;00m:\n\u001b[0;32m    267\u001b[0m     \u001b[39m# Need the newline in case the last line in code is a comment.\u001b[39;00m\n\u001b[1;32m--> 268\u001b[0m     value, visible \u001b[39m=\u001b[39m ro\u001b[39m.\u001b[39;49mr(\u001b[39m\"\u001b[39;49m\u001b[39mwithVisible(\u001b[39;49m\u001b[39m{\u001b[39;49m\u001b[39m%s\u001b[39;49;00m\u001b[39m\\n\u001b[39;49;00m\u001b[39m})\u001b[39;49m\u001b[39m\"\u001b[39;49m \u001b[39m%\u001b[39;49m code)\n\u001b[0;32m    269\u001b[0m \u001b[39mexcept\u001b[39;00m (ri\u001b[39m.\u001b[39membedded\u001b[39m.\u001b[39mRRuntimeError, \u001b[39mValueError\u001b[39;00m) \u001b[39mas\u001b[39;00m exception:\n\u001b[0;32m    270\u001b[0m     \u001b[39m# Otherwise next return seems to have copy of error.\u001b[39;00m\n",
      "File \u001b[1;32mc:\\Users\\Usuario\\AppData\\Local\\Programs\\Python\\Python310\\lib\\site-packages\\rpy2\\robjects\\__init__.py:438\u001b[0m, in \u001b[0;36mR.__call__\u001b[1;34m(self, string)\u001b[0m\n\u001b[0;32m    437\u001b[0m p \u001b[39m=\u001b[39m rinterface\u001b[39m.\u001b[39mparse(string)\n\u001b[1;32m--> 438\u001b[0m res \u001b[39m=\u001b[39m \u001b[39mself\u001b[39;49m\u001b[39m.\u001b[39;49meval(p)\n\u001b[0;32m    439\u001b[0m \u001b[39mreturn\u001b[39;00m conversion\u001b[39m.\u001b[39mrpy2py(res)\n",
      "File \u001b[1;32mc:\\Users\\Usuario\\AppData\\Local\\Programs\\Python\\Python310\\lib\\site-packages\\rpy2\\robjects\\functions.py:198\u001b[0m, in \u001b[0;36mSignatureTranslatedFunction.__call__\u001b[1;34m(self, *args, **kwargs)\u001b[0m\n\u001b[0;32m    197\u001b[0m         kwargs[r_k] \u001b[39m=\u001b[39m v\n\u001b[1;32m--> 198\u001b[0m \u001b[39mreturn\u001b[39;00m (\u001b[39msuper\u001b[39m(SignatureTranslatedFunction, \u001b[39mself\u001b[39m)\n\u001b[0;32m    199\u001b[0m         \u001b[39m.\u001b[39m\u001b[39m__call__\u001b[39m(\u001b[39m*\u001b[39margs, \u001b[39m*\u001b[39m\u001b[39m*\u001b[39mkwargs))\n",
      "File \u001b[1;32mc:\\Users\\Usuario\\AppData\\Local\\Programs\\Python\\Python310\\lib\\site-packages\\rpy2\\robjects\\functions.py:125\u001b[0m, in \u001b[0;36mFunction.__call__\u001b[1;34m(self, *args, **kwargs)\u001b[0m\n\u001b[0;32m    124\u001b[0m         new_kwargs[k] \u001b[39m=\u001b[39m conversion\u001b[39m.\u001b[39mpy2rpy(v)\n\u001b[1;32m--> 125\u001b[0m res \u001b[39m=\u001b[39m \u001b[39msuper\u001b[39m(Function, \u001b[39mself\u001b[39m)\u001b[39m.\u001b[39m\u001b[39m__call__\u001b[39m(\u001b[39m*\u001b[39mnew_args, \u001b[39m*\u001b[39m\u001b[39m*\u001b[39mnew_kwargs)\n\u001b[0;32m    126\u001b[0m res \u001b[39m=\u001b[39m conversion\u001b[39m.\u001b[39mrpy2py(res)\n",
      "File \u001b[1;32mc:\\Users\\Usuario\\AppData\\Local\\Programs\\Python\\Python310\\lib\\site-packages\\rpy2\\rinterface_lib\\conversion.py:45\u001b[0m, in \u001b[0;36m_cdata_res_to_rinterface.<locals>._\u001b[1;34m(*args, **kwargs)\u001b[0m\n\u001b[0;32m     44\u001b[0m \u001b[39mdef\u001b[39;00m \u001b[39m_\u001b[39m(\u001b[39m*\u001b[39margs, \u001b[39m*\u001b[39m\u001b[39m*\u001b[39mkwargs):\n\u001b[1;32m---> 45\u001b[0m     cdata \u001b[39m=\u001b[39m function(\u001b[39m*\u001b[39margs, \u001b[39m*\u001b[39m\u001b[39m*\u001b[39mkwargs)\n\u001b[0;32m     46\u001b[0m     \u001b[39m# TODO: test cdata is of the expected CType\u001b[39;00m\n",
      "File \u001b[1;32mc:\\Users\\Usuario\\AppData\\Local\\Programs\\Python\\Python310\\lib\\site-packages\\rpy2\\rinterface.py:680\u001b[0m, in \u001b[0;36mSexpClosure.__call__\u001b[1;34m(self, *args, **kwargs)\u001b[0m\n\u001b[0;32m    679\u001b[0m     \u001b[39mif\u001b[39;00m error_occured[\u001b[39m0\u001b[39m]:\n\u001b[1;32m--> 680\u001b[0m         \u001b[39mraise\u001b[39;00m embedded\u001b[39m.\u001b[39mRRuntimeError(_rinterface\u001b[39m.\u001b[39m_geterrmessage())\n\u001b[0;32m    681\u001b[0m \u001b[39mreturn\u001b[39;00m res\n",
      "\u001b[1;31mRRuntimeError\u001b[0m: Error in predict(arbol_0, newdata = datos_test, type = \"class\") : \n  object 'arbol_0' not found\n",
      "\nDuring handling of the above exception, another exception occurred:\n",
      "\u001b[1;31mRInterpreterError\u001b[0m                         Traceback (most recent call last)",
      "\u001b[1;32mc:\\Users\\Usuario\\Documents\\fabio\\Fabio\\Estadistica4all.github.io\\Notebooks\\Aprendizaje Automatico\\Practica1.ipynb Celda 179\u001b[0m in \u001b[0;36m<cell line: 1>\u001b[1;34m()\u001b[0m\n\u001b[1;32m----> <a href='vscode-notebook-cell:/c%3A/Users/Usuario/Documents/fabio/Fabio/Estadistica4all.github.io/Notebooks/Aprendizaje%20Automatico/Practica1.ipynb#Y324sZmlsZQ%3D%3D?line=0'>1</a>\u001b[0m get_ipython()\u001b[39m.\u001b[39;49mrun_cell_magic(\u001b[39m'\u001b[39;49m\u001b[39mR\u001b[39;49m\u001b[39m'\u001b[39;49m, \u001b[39m'\u001b[39;49m\u001b[39m'\u001b[39;49m, \u001b[39m'\u001b[39;49m\u001b[39m\\n\u001b[39;49;00m\u001b[39mprediccion1<-predict(arbol_0,newdata=datos_test,type=\u001b[39;49m\u001b[39m\"\u001b[39;49m\u001b[39mclass\u001b[39;49m\u001b[39m\"\u001b[39;49m\u001b[39m)\u001b[39;49m\u001b[39m\\n\u001b[39;49;00m\u001b[39mmatriz_confusion1<-confusionMatrix(prediccion1,datos_test[[\u001b[39;49m\u001b[39m\"\u001b[39;49m\u001b[39mdiseased\u001b[39;49m\u001b[39m\"\u001b[39;49m\u001b[39m]])\u001b[39;49m\u001b[39m\\n\u001b[39;49;00m\u001b[39m'\u001b[39;49m)\n",
      "File \u001b[1;32mc:\\Users\\Usuario\\AppData\\Local\\Programs\\Python\\Python310\\lib\\site-packages\\IPython\\core\\interactiveshell.py:2358\u001b[0m, in \u001b[0;36mInteractiveShell.run_cell_magic\u001b[1;34m(self, magic_name, line, cell)\u001b[0m\n\u001b[0;32m   2356\u001b[0m \u001b[39mwith\u001b[39;00m \u001b[39mself\u001b[39m\u001b[39m.\u001b[39mbuiltin_trap:\n\u001b[0;32m   2357\u001b[0m     args \u001b[39m=\u001b[39m (magic_arg_s, cell)\n\u001b[1;32m-> 2358\u001b[0m     result \u001b[39m=\u001b[39m fn(\u001b[39m*\u001b[39margs, \u001b[39m*\u001b[39m\u001b[39m*\u001b[39mkwargs)\n\u001b[0;32m   2359\u001b[0m \u001b[39mreturn\u001b[39;00m result\n",
      "File \u001b[1;32mc:\\Users\\Usuario\\AppData\\Local\\Programs\\Python\\Python310\\lib\\site-packages\\rpy2\\ipython\\rmagic.py:783\u001b[0m, in \u001b[0;36mRMagics.R\u001b[1;34m(self, line, cell, local_ns)\u001b[0m\n\u001b[0;32m    781\u001b[0m     \u001b[39mif\u001b[39;00m \u001b[39mnot\u001b[39;00m e\u001b[39m.\u001b[39mstdout\u001b[39m.\u001b[39mendswith(e\u001b[39m.\u001b[39merr):\n\u001b[0;32m    782\u001b[0m         \u001b[39mprint\u001b[39m(e\u001b[39m.\u001b[39merr)\n\u001b[1;32m--> 783\u001b[0m     \u001b[39mraise\u001b[39;00m e\n\u001b[0;32m    784\u001b[0m \u001b[39mfinally\u001b[39;00m:\n\u001b[0;32m    785\u001b[0m     \u001b[39mif\u001b[39;00m \u001b[39mself\u001b[39m\u001b[39m.\u001b[39mdevice \u001b[39min\u001b[39;00m [\u001b[39m'\u001b[39m\u001b[39mpng\u001b[39m\u001b[39m'\u001b[39m, \u001b[39m'\u001b[39m\u001b[39msvg\u001b[39m\u001b[39m'\u001b[39m]:\n",
      "File \u001b[1;32mc:\\Users\\Usuario\\AppData\\Local\\Programs\\Python\\Python310\\lib\\site-packages\\rpy2\\ipython\\rmagic.py:763\u001b[0m, in \u001b[0;36mRMagics.R\u001b[1;34m(self, line, cell, local_ns)\u001b[0m\n\u001b[0;32m    761\u001b[0m         return_output \u001b[39m=\u001b[39m \u001b[39mFalse\u001b[39;00m\n\u001b[0;32m    762\u001b[0m \u001b[39melse\u001b[39;00m:\n\u001b[1;32m--> 763\u001b[0m     text_result, result, visible \u001b[39m=\u001b[39m \u001b[39mself\u001b[39;49m\u001b[39m.\u001b[39;49meval(code)\n\u001b[0;32m    764\u001b[0m     text_output \u001b[39m+\u001b[39m\u001b[39m=\u001b[39m text_result\n\u001b[0;32m    765\u001b[0m     \u001b[39mif\u001b[39;00m visible:\n",
      "File \u001b[1;32mc:\\Users\\Usuario\\AppData\\Local\\Programs\\Python\\Python310\\lib\\site-packages\\rpy2\\ipython\\rmagic.py:272\u001b[0m, in \u001b[0;36mRMagics.eval\u001b[1;34m(self, code)\u001b[0m\n\u001b[0;32m    269\u001b[0m \u001b[39mexcept\u001b[39;00m (ri\u001b[39m.\u001b[39membedded\u001b[39m.\u001b[39mRRuntimeError, \u001b[39mValueError\u001b[39;00m) \u001b[39mas\u001b[39;00m exception:\n\u001b[0;32m    270\u001b[0m     \u001b[39m# Otherwise next return seems to have copy of error.\u001b[39;00m\n\u001b[0;32m    271\u001b[0m     warning_or_other_msg \u001b[39m=\u001b[39m \u001b[39mself\u001b[39m\u001b[39m.\u001b[39mflush()\n\u001b[1;32m--> 272\u001b[0m     \u001b[39mraise\u001b[39;00m RInterpreterError(code, \u001b[39mstr\u001b[39m(exception),\n\u001b[0;32m    273\u001b[0m                             warning_or_other_msg)\n\u001b[0;32m    274\u001b[0m text_output \u001b[39m=\u001b[39m \u001b[39mself\u001b[39m\u001b[39m.\u001b[39mflush()\n\u001b[0;32m    275\u001b[0m \u001b[39mreturn\u001b[39;00m text_output, value, visible[\u001b[39m0\u001b[39m]\n",
      "\u001b[1;31mRInterpreterError\u001b[0m: Failed to parse and evaluate line '\\nprediccion1<-predict(arbol_0,newdata=datos_test,type=\"class\")\\nmatriz_confusion1<-confusionMatrix(prediccion1,datos_test[[\"diseased\"]])\\n'.\nR error message: 'Error in predict(arbol_0, newdata = datos_test, type = \"class\") : \\n  object \\'arbol_0\\' not found'"
     ]
    }
   ],
   "source": [
    "%%R\n",
    "\n",
    "prediccion1<-predict(arbol_0,newdata=datos_test,type=\"class\")\n",
    "matriz_confusion1<-confusionMatrix(prediccion1,datos_test[[\"diseased\"]])"
   ]
  },
  {
   "cell_type": "code",
   "execution_count": 11,
   "metadata": {},
   "outputs": [
    {
     "name": "stdout",
     "output_type": "stream",
     "text": [
      "  1   2   3   4   5   6   7   8   9  10  11  12  13  14  15  16  17  18  19  20 \n",
      " no  no yes yes yes yes  no yes  no yes yes yes yes  no  no yes yes yes yes yes \n",
      " 21  22  23  24  25  26  27  28  29  30  31  32  33  34  35  36  37  38  39  40 \n",
      "yes yes yes yes  no yes yes yes yes yes yes yes yes yes yes yes yes yes yes yes \n",
      " 41  42  43  44  45  46  47  48  49  50  51  52  53  54  55  56  57  58  59  60 \n",
      " no yes  no  no yes yes yes  no yes yes yes  no yes yes yes  no yes yes yes yes \n",
      " 61  62  63  64  65  66  67  68  69  70  71  72  73  74  75  76  77  78  79  80 \n",
      "yes yes yes  no  no yes yes  no yes yes yes  no yes yes  no  no yes yes yes yes \n",
      " 81  82  83  84  85  86  87  88  89  90  91  92  93  94  95  96  97  98  99 100 \n",
      "yes yes  no yes  no yes yes yes yes yes  no yes  no  no  no yes yes  no yes yes \n",
      "101 102 103 104 105 106 107 108 109 110 111 112 113 114 115 116 117 118 119 120 \n",
      "yes yes yes yes yes  no  no yes yes yes  no  no  no yes  no yes yes yes  no yes \n",
      "121 122 123 124 125 126 127 128 129 130 131 132 133 134 135 136 137 138 139 140 \n",
      "yes yes yes yes  no yes yes yes  no yes yes  no yes yes yes yes yes yes yes yes \n",
      "141 \n",
      "yes \n",
      "Levels: yes no\n"
     ]
    }
   ],
   "source": [
    "%%R\n",
    "\n",
    "prediccion1"
   ]
  },
  {
   "cell_type": "code",
   "execution_count": 10,
   "metadata": {},
   "outputs": [
    {
     "name": "stdout",
     "output_type": "stream",
     "text": [
      "Confusion Matrix and Statistics\n",
      "\n",
      "          Reference\n",
      "Prediction yes no\n",
      "       yes  80 25\n",
      "       no   22 14\n",
      "                                          \n",
      "               Accuracy : 0.6667          \n",
      "                 95% CI : (0.5824, 0.7437)\n",
      "    No Information Rate : 0.7234          \n",
      "    P-Value [Acc > NIR] : 0.9431          \n",
      "                                          \n",
      "                  Kappa : 0.1468          \n",
      "                                          \n",
      " Mcnemar's Test P-Value : 0.7705          \n",
      "                                          \n",
      "            Sensitivity : 0.7843          \n",
      "            Specificity : 0.3590          \n",
      "         Pos Pred Value : 0.7619          \n",
      "         Neg Pred Value : 0.3889          \n",
      "             Prevalence : 0.7234          \n",
      "         Detection Rate : 0.5674          \n",
      "   Detection Prevalence : 0.7447          \n",
      "      Balanced Accuracy : 0.5716          \n",
      "                                          \n",
      "       'Positive' Class : yes             \n",
      "                                          \n"
     ]
    }
   ],
   "source": [
    "%%R\n",
    "\n",
    "matriz_confusion1"
   ]
  },
  {
   "cell_type": "markdown",
   "metadata": {},
   "source": []
  },
  {
   "cell_type": "markdown",
   "metadata": {},
   "source": [
    "\n",
    "Debido a la alta complejidad de estos arboles le vamos a hacer un proceso de prepoda, para ello podemos hacer uso tanto del parámetro cp o directamente manipulando los hiperparametros de los modelos.\n",
    "\n",
    "\n",
    " Arbol un poco podado (no se pide en la práctica)\n"
   ]
  },
  {
   "cell_type": "code",
   "execution_count": 12,
   "metadata": {},
   "outputs": [
    {
     "data": {
      "image/png": "[encoded data removed]"
     },
     "metadata": {},
     "output_type": "display_data"
    }
   ],
   "source": [
    "%%R\n",
    "\n",
    "set.seed(1)\n",
    "datos_entreno2<-sample_frac(ilpd,0.75)  # Separamos los datos de entrenamiento\n",
    "datos_test2<-setdiff(ilpd, datos_entreno2) # Separamos los datos de test\n",
    "\n",
    "arbol_1<-rpart(diseased~.,data=datos_entreno2, maxdepth=4, method = \"class\") # Cambiamos la profundidad\n",
    "rpart.plot(arbol_1, \n",
    "           extra = 104,          # show fitted class, probs, percentages\n",
    "           box.palette = \"GnBu\", # color scheme\n",
    "           branch.lty = 3,       # dotted branch lines\n",
    "           shadow.col = \"gray\",  # shadows under the node boxes\n",
    "           nn = TRUE)\n"
   ]
  },
  {
   "cell_type": "markdown",
   "metadata": {},
   "source": [
    "\n",
    "Con esto hemos conseguido un modelo mucho más simple que el anterior sin prepoda.\n"
   ]
  },
  {
   "cell_type": "markdown",
   "metadata": {},
   "source": [
    "Predicción y matriz de confusión"
   ]
  },
  {
   "cell_type": "code",
   "execution_count": 14,
   "metadata": {},
   "outputs": [],
   "source": [
    "%%R\n",
    "\n",
    "prediccion2 <-predict(arbol_1,newdata=datos_test2,type=\"class\")\n",
    "matriz_confusion2<-confusionMatrix(prediccion2,datos_test2[[\"diseased\"]])"
   ]
  },
  {
   "cell_type": "code",
   "execution_count": 15,
   "metadata": {},
   "outputs": [
    {
     "name": "stdout",
     "output_type": "stream",
     "text": [
      "  1   2   3   4   5   6   7   8   9  10  11  12  13  14  15  16  17  18  19  20 \n",
      "yes  no yes yes yes yes yes yes yes yes yes yes yes yes yes yes yes yes yes yes \n",
      " 21  22  23  24  25  26  27  28  29  30  31  32  33  34  35  36  37  38  39  40 \n",
      "yes yes yes yes yes yes yes yes yes yes yes yes yes yes yes yes yes yes yes yes \n",
      " 41  42  43  44  45  46  47  48  49  50  51  52  53  54  55  56  57  58  59  60 \n",
      "yes yes yes yes yes yes  no yes yes yes yes yes yes yes yes yes yes  no yes yes \n",
      " 61  62  63  64  65  66  67  68  69  70  71  72  73  74  75  76  77  78  79  80 \n",
      "yes yes yes  no yes yes  no yes yes yes yes yes yes yes yes yes yes yes yes  no \n",
      " 81  82  83  84  85  86  87  88  89  90  91  92  93  94  95  96  97  98  99 100 \n",
      "yes yes yes yes yes yes yes yes yes yes yes  no yes yes yes yes yes yes yes yes \n",
      "101 102 103 104 105 106 107 108 109 110 111 112 113 114 115 116 117 118 119 120 \n",
      "yes yes yes yes yes yes yes yes yes yes yes yes yes yes yes yes yes yes yes yes \n",
      "121 122 123 124 125 126 127 128 129 130 131 132 133 134 135 136 137 138 139 140 \n",
      "yes yes yes yes yes yes yes yes yes yes yes yes yes yes yes yes yes yes yes  no \n",
      "Levels: yes no\n"
     ]
    }
   ],
   "source": [
    "%%R\n",
    "\n",
    "prediccion2"
   ]
  },
  {
   "cell_type": "code",
   "execution_count": 16,
   "metadata": {},
   "outputs": [
    {
     "name": "stdout",
     "output_type": "stream",
     "text": [
      "Confusion Matrix and Statistics\n",
      "\n",
      "          Reference\n",
      "Prediction yes  no\n",
      "       yes 100  32\n",
      "       no    4   4\n",
      "                                          \n",
      "               Accuracy : 0.7429          \n",
      "                 95% CI : (0.6622, 0.8129)\n",
      "    No Information Rate : 0.7429          \n",
      "    P-Value [Acc > NIR] : 0.5447          \n",
      "                                          \n",
      "                  Kappa : 0.0974          \n",
      "                                          \n",
      " Mcnemar's Test P-Value : 6.795e-06       \n",
      "                                          \n",
      "            Sensitivity : 0.9615          \n",
      "            Specificity : 0.1111          \n",
      "         Pos Pred Value : 0.7576          \n",
      "         Neg Pred Value : 0.5000          \n",
      "             Prevalence : 0.7429          \n",
      "         Detection Rate : 0.7143          \n",
      "   Detection Prevalence : 0.9429          \n",
      "      Balanced Accuracy : 0.5363          \n",
      "                                          \n",
      "       'Positive' Class : yes             \n",
      "                                          \n"
     ]
    }
   ],
   "source": [
    "%%R\n",
    "\n",
    "matriz_confusion2"
   ]
  },
  {
   "cell_type": "markdown",
   "metadata": {},
   "source": [
    "\n",
    "Se puede ver como hemos mejorado un poco la precisión de la predicción simplemente cambiando el coeficiente de partición. Cabe remarcar que el algoritmo de los CART utilizan Gini como criterio de división.\n",
    "\n"
   ]
  },
  {
   "cell_type": "markdown",
   "metadata": {},
   "source": []
  },
  {
   "cell_type": "markdown",
   "metadata": {},
   "source": []
  },
  {
   "cell_type": "markdown",
   "metadata": {},
   "source": [
    "\n",
    "### 4.4.2. Algoritmo C50 con  `R`  <a class=\"anchor\" id=\"23\"></a>\n",
    "\n",
    "\n",
    " "
   ]
  },
  {
   "cell_type": "markdown",
   "metadata": {},
   "source": [
    "\n",
    " Cargado de paquete específico del Arbol de clasificación C5.0\n"
   ]
  },
  {
   "cell_type": "code",
   "execution_count": 4,
   "metadata": {},
   "outputs": [
    {
     "name": "stderr",
     "output_type": "stream",
     "text": [
      "R[write to console]: Installing package into 'C:/Users/Usuario/AppData/Local/R/win-library/4.2'\n",
      "(as 'lib' is unspecified)\n",
      "\n"
     ]
    },
    {
     "name": "stdout",
     "output_type": "stream",
     "text": [
      "--- Please select a CRAN mirror for use in this session ---\n"
     ]
    },
    {
     "name": "stderr",
     "output_type": "stream",
     "text": [
      "R[write to console]: also installing the dependencies 'covr', 'modeldata'\n",
      "\n",
      "\n",
      "R[write to console]: trying URL 'https://cran.rediris.es/bin/windows/contrib/4.2/covr_3.6.1.zip'\n",
      "\n",
      "R[write to console]: Content type 'application/zip'\n",
      "R[write to console]:  length 334154 bytes (326 KB)\n",
      "\n",
      "R[write to console]: downloaded 326 KB\n",
      "\n",
      "\n",
      "R[write to console]: trying URL 'https://cran.rediris.es/bin/windows/contrib/4.2/modeldata_1.0.1.zip'\n",
      "\n",
      "R[write to console]: Content type 'application/zip'\n",
      "R[write to console]:  length 4242012 bytes (4.0 MB)\n",
      "\n",
      "R[write to console]: downloaded 4.0 MB\n",
      "\n",
      "\n",
      "R[write to console]: trying URL 'https://cran.rediris.es/bin/windows/contrib/4.2/C50_0.1.6.zip'\n",
      "\n",
      "R[write to console]: Content type 'application/zip'\n",
      "R[write to console]:  length 344433 bytes (336 KB)\n",
      "\n",
      "R[write to console]: downloaded 336 KB\n",
      "\n",
      "\n"
     ]
    },
    {
     "name": "stdout",
     "output_type": "stream",
     "text": [
      "package 'covr' successfully unpacked and MD5 sums checked\n",
      "package 'modeldata' successfully unpacked and MD5 sums checked\n",
      "package 'C50' successfully unpacked and MD5 sums checked\n",
      "\n",
      "The downloaded binary packages are in\n",
      "\tC:\\Users\\Usuario\\AppData\\Local\\Temp\\RtmpUpCnrW\\downloaded_packages\n"
     ]
    }
   ],
   "source": [
    "%%R\n",
    "\n",
    "# install.packages(\"C50\",dependencies=TRUE)\n",
    "library(C50)"
   ]
  },
  {
   "cell_type": "markdown",
   "metadata": {},
   "source": []
  },
  {
   "cell_type": "markdown",
   "metadata": {},
   "source": [
    "\n",
    "Partición en datos de entrenaminento y test\n"
   ]
  },
  {
   "cell_type": "code",
   "execution_count": 7,
   "metadata": {},
   "outputs": [],
   "source": [
    "%%R\n",
    "\n",
    "set.seed(666)\n",
    "tamano_total<-nrow(ilpd)\n",
    "tamano_entreno<-round(tamano_total*0.75)\n",
    "datos_indices<-sample(1:tamano_total,size = tamano_entreno)\n",
    "datos_entreno<-ilpd[datos_indices,]\n",
    "datos_test<-ilpd[-datos_indices,]\n"
   ]
  },
  {
   "cell_type": "code",
   "execution_count": 8,
   "metadata": {},
   "outputs": [
    {
     "name": "stdout",
     "output_type": "stream",
     "text": [
      "\n",
      "  yes    no \n",
      "0.719 0.281 \n"
     ]
    }
   ],
   "source": [
    "%%R\n",
    "\n",
    "round(table(datos_entreno$diseased)/nrow(datos_entreno), 3)"
   ]
  },
  {
   "cell_type": "markdown",
   "metadata": {},
   "source": [
    "\n",
    "Tienen que ser relativamente similares\n"
   ]
  },
  {
   "cell_type": "code",
   "execution_count": 9,
   "metadata": {},
   "outputs": [
    {
     "name": "stdout",
     "output_type": "stream",
     "text": [
      "\n",
      "  yes    no \n",
      "0.699 0.301 \n"
     ]
    }
   ],
   "source": [
    "%%R\n",
    "\n",
    "round(table(datos_test$diseased)/nrow(datos_test), 3)"
   ]
  },
  {
   "cell_type": "markdown",
   "metadata": {},
   "source": []
  },
  {
   "cell_type": "markdown",
   "metadata": {},
   "source": [
    "\n",
    "Ejecución del modelo de clasificación C5.0\n"
   ]
  },
  {
   "cell_type": "code",
   "execution_count": 10,
   "metadata": {},
   "outputs": [],
   "source": [
    "%%R\n",
    "\n",
    "modeloC50<-C5.0(diseased~.,data=datos_entreno,trials=1,rules=FALSE)"
   ]
  },
  {
   "cell_type": "markdown",
   "metadata": {},
   "source": []
  },
  {
   "cell_type": "markdown",
   "metadata": {},
   "source": [
    "\n",
    "Información del modelo creado\n",
    "\n"
   ]
  },
  {
   "cell_type": "code",
   "execution_count": 11,
   "metadata": {},
   "outputs": [
    {
     "name": "stdout",
     "output_type": "stream",
     "text": [
      "\n",
      "Call:\n",
      "C5.0.formula(formula = diseased ~ ., data = datos_entreno, trials = 1, rules\n",
      " = FALSE)\n",
      "\n",
      "\n",
      "C5.0 [Release 2.07 GPL Edition]  \tMon Oct 10 09:47:13 2022\n",
      "-------------------------------\n",
      "\n",
      "Class specified by attribute `outcome'\n",
      "\n",
      "Read 437 cases (11 attributes) from undefined.data\n",
      "\n",
      "Decision tree:\n",
      "\n",
      "direct_bilirubin > 1.2: yes (113/5)\n",
      "direct_bilirubin <= 1.2:\n",
      ":...alanine_transaminase > 61: yes (50/6)\n",
      "    alanine_transaminase <= 61:\n",
      "    :...age <= 27:\n",
      "        :...gender = Female:\n",
      "        :   :...age <= 15: yes (2)\n",
      "        :   :   age > 15: no (9/1)\n",
      "        :   gender = Male:\n",
      "        :   :...alanine_transaminase <= 28:\n",
      "        :       :...albumin_globulin_ratio <= 1.25: no (12)\n",
      "        :       :   albumin_globulin_ratio > 1.25:\n",
      "        :       :   :...total_protein <= 6.9: yes (3)\n",
      "        :       :       total_protein > 6.9: no (3)\n",
      "        :       alanine_transaminase > 28:\n",
      "        :       :...total_bilirubin > 1.2: yes (5)\n",
      "        :           total_bilirubin <= 1.2:\n",
      "        :           :...age <= 14: no (3)\n",
      "        :               age > 14:\n",
      "        :               :...total_bilirubin <= 0.7: yes (3)\n",
      "        :                   total_bilirubin > 0.7:\n",
      "        :                   :...alkaline_phosphatase <= 186: no (3)\n",
      "        :                       alkaline_phosphatase > 186: yes (6/2)\n",
      "        age > 27:\n",
      "        :...gender = Female: yes (69/26)\n",
      "            gender = Male:\n",
      "            :...aspartate_transaminase > 26:\n",
      "                :...age > 66: yes (13)\n",
      "                :   age <= 66:\n",
      "                :   :...aspartate_transaminase > 100: no (6/1)\n",
      "                :       aspartate_transaminase <= 100:\n",
      "                :       :...albumin_globulin_ratio <= 1.11:\n",
      "                :           :...albumin_globulin_ratio > 0.58: yes (46/5)\n",
      "                :           :   albumin_globulin_ratio <= 0.58:\n",
      "                :           :   :...alanine_transaminase <= 18: yes (3)\n",
      "                :           :       alanine_transaminase > 18:\n",
      "                :           :       :...aspartate_transaminase <= 63: no (5)\n",
      "                :           :           aspartate_transaminase > 63: yes (2)\n",
      "                :           albumin_globulin_ratio > 1.11:\n",
      "                :           :...total_bilirubin > 1.7: yes (4)\n",
      "                :               total_bilirubin <= 1.7:\n",
      "                :               :...total_bilirubin <= 0.6: yes (3)\n",
      "                :                   total_bilirubin > 0.6:\n",
      "                :                   :...total_protein <= 5.4: yes (2)\n",
      "                :                       total_protein > 5.4: no (15/4)\n",
      "                aspartate_transaminase <= 26:\n",
      "                :...alkaline_phosphatase > 260: yes (8)\n",
      "                    alkaline_phosphatase <= 260:\n",
      "                    :...direct_bilirubin > 0.6: yes (3)\n",
      "                        direct_bilirubin <= 0.6:\n",
      "                        :...direct_bilirubin > 0.4: no (6)\n",
      "                            direct_bilirubin <= 0.4:\n",
      "                            :...albumin <= 2.7: yes (5)\n",
      "                                albumin > 2.7:\n",
      "                                :...age <= 43: no (9)\n",
      "                                    age > 43:\n",
      "                                    :...total_protein <= 6.4: no (10/1)\n",
      "                                        total_protein > 6.4:\n",
      "                                        :...total_protein <= 6.9: yes (8)\n",
      "                                            total_protein > 6.9: [S1]\n",
      "\n",
      "SubTree [S1]\n",
      "\n",
      "alkaline_phosphatase <= 186: no (5)\n",
      "alkaline_phosphatase > 186: yes (3)\n",
      "\n",
      "\n",
      "Evaluation on training data (437 cases):\n",
      "\n",
      "\t    Decision Tree   \n",
      "\t  ----------------  \n",
      "\t  Size      Errors  \n",
      "\n",
      "\t    32   51(11.7%)   <<\n",
      "\n",
      "\n",
      "\t   (a)   (b)    <-classified as\n",
      "\t  ----  ----\n",
      "\t   307     7    (a): class yes\n",
      "\t    44    79    (b): class no\n",
      "\n",
      "\n",
      "\tAttribute usage:\n",
      "\n",
      "\t100.00%\tdirect_bilirubin\n",
      "\t 74.14%\talanine_transaminase\n",
      "\t 62.70%\tage\n",
      "\t 62.70%\tgender\n",
      "\t 35.70%\taspartate_transaminase\n",
      "\t 22.43%\talbumin_globulin_ratio\n",
      "\t 15.10%\talkaline_phosphatase\n",
      "\t 11.21%\ttotal_protein\n",
      "\t 10.07%\ttotal_bilirubin\n",
      "\t  9.15%\talbumin\n",
      "\n",
      "\n",
      "Time: 0.0 secs\n",
      "\n"
     ]
    }
   ],
   "source": [
    "%%R\n",
    "\n",
    "summary(modeloC50)"
   ]
  },
  {
   "cell_type": "markdown",
   "metadata": {},
   "source": []
  },
  {
   "cell_type": "markdown",
   "metadata": {},
   "source": [
    " Gráfico del modelo\n"
   ]
  },
  {
   "cell_type": "code",
   "execution_count": 12,
   "metadata": {},
   "outputs": [
    {
     "data": {
      "image/png": "[encoded data removed]"
     },
     "metadata": {},
     "output_type": "display_data"
    }
   ],
   "source": [
    "%%R\n",
    "\n",
    "plot(modeloC50)"
   ]
  },
  {
   "cell_type": "markdown",
   "metadata": {},
   "source": []
  },
  {
   "cell_type": "markdown",
   "metadata": {},
   "source": [
    "\n",
    "Predicción\n"
   ]
  },
  {
   "cell_type": "code",
   "execution_count": 13,
   "metadata": {},
   "outputs": [
    {
     "name": "stdout",
     "output_type": "stream",
     "text": [
      "  [1] yes yes yes yes yes no  yes yes no  yes yes no  yes yes yes yes yes yes\n",
      " [19] yes yes no  yes yes yes yes yes yes yes no  yes yes yes yes yes yes yes\n",
      " [37] yes yes yes no  no  no  no  no  yes no  yes yes yes no  yes no  yes yes\n",
      " [55] yes yes yes yes yes yes yes yes yes yes yes yes yes no  yes yes yes yes\n",
      " [73] no  no  no  yes no  yes yes no  yes yes no  yes yes no  yes yes yes no \n",
      " [91] yes yes no  yes yes yes yes yes yes yes yes no  yes yes yes yes yes yes\n",
      "[109] yes yes yes yes yes no  yes no  yes yes no  yes no  no  yes yes yes yes\n",
      "[127] no  yes yes yes yes yes yes yes yes yes yes yes yes yes yes yes yes yes\n",
      "[145] yes yes\n",
      "Levels: yes no\n"
     ]
    }
   ],
   "source": [
    "%%R\n",
    "\n",
    "(prediccion<-predict(modeloC50, newdata = datos_test,type=\"class\"))"
   ]
  },
  {
   "cell_type": "markdown",
   "metadata": {},
   "source": []
  },
  {
   "cell_type": "markdown",
   "metadata": {},
   "source": [
    "\n",
    "Matriz de confusión\n"
   ]
  },
  {
   "cell_type": "code",
   "execution_count": 14,
   "metadata": {},
   "outputs": [
    {
     "name": "stdout",
     "output_type": "stream",
     "text": [
      "        real\n",
      "predicho yes no\n",
      "     yes  86 30\n",
      "     no   16 14\n"
     ]
    }
   ],
   "source": [
    "%%R\n",
    "\n",
    "(matriz_confusion<-table(predicho=prediccion, real=datos_test$diseased))"
   ]
  },
  {
   "cell_type": "markdown",
   "metadata": {},
   "source": []
  },
  {
   "cell_type": "markdown",
   "metadata": {},
   "source": [
    "\n",
    "Porcentaje de clasificados correctamente\n"
   ]
  },
  {
   "cell_type": "code",
   "execution_count": 15,
   "metadata": {},
   "outputs": [
    {
     "name": "stdout",
     "output_type": "stream",
     "text": [
      "[1] 68.49315\n"
     ]
    }
   ],
   "source": [
    "%%R\n",
    "\n",
    "100*sum(diag(matriz_confusion))/sum(matriz_confusion)"
   ]
  },
  {
   "cell_type": "markdown",
   "metadata": {},
   "source": []
  },
  {
   "cell_type": "markdown",
   "metadata": {},
   "source": [
    "\n",
    "Error de clasificación\n"
   ]
  },
  {
   "cell_type": "code",
   "execution_count": 17,
   "metadata": {},
   "outputs": [
    {
     "name": "stdout",
     "output_type": "stream",
     "text": [
      "[1] \"El error de clasificacion es del: 31.5 %. 100 clasificaciones correctas de un total de 146\"\n"
     ]
    }
   ],
   "source": [
    "%%R\n",
    "\n",
    "error_clas<-round(mean(prediccion != datos_test$diseased),3)\n",
    "paste(\n",
    "  \"El error de clasificacion es del:\",100*error_clas,\"%.\",sum(prediccion==datos_test$diseased),\"clasificaciones correctas de un total de\",length(prediccion)\n",
    ")"
   ]
  },
  {
   "cell_type": "markdown",
   "metadata": {},
   "source": []
  },
  {
   "cell_type": "markdown",
   "metadata": {},
   "source": [
    "\n",
    "Arbol podado (no se pide)\n",
    "\n",
    " Seleccionamos la submuestra del 75% de los datos\n"
   ]
  },
  {
   "cell_type": "code",
   "execution_count": 18,
   "metadata": {},
   "outputs": [
    {
     "name": "stdout",
     "output_type": "stream",
     "text": [
      "\n",
      "  yes    no \n",
      "0.703 0.297 \n"
     ]
    }
   ],
   "source": [
    "%%R\n",
    "\n",
    "set.seed(25)\n",
    "tamano_total<-nrow(ilpd)\n",
    "tamano_entreno<-round(tamano_total*0.75)\n",
    "datos_indices<-sample(1:tamano_total,size = tamano_entreno)\n",
    "datos_entreno<-ilpd[datos_indices,]\n",
    "datos_test<-ilpd[-datos_indices,]\n"
   ]
  },
  {
   "cell_type": "code",
   "execution_count": 19,
   "metadata": {},
   "outputs": [
    {
     "name": "stdout",
     "output_type": "stream",
     "text": [
      "\n",
      "  yes    no \n",
      "0.703 0.297 \n"
     ]
    }
   ],
   "source": [
    "%%R\n",
    "\n",
    "round(table(datos_entreno$diseased)/nrow(datos_entreno), 3)"
   ]
  },
  {
   "cell_type": "markdown",
   "metadata": {},
   "source": [
    "Tienen que ser relativamente similares\n"
   ]
  },
  {
   "cell_type": "code",
   "execution_count": 20,
   "metadata": {},
   "outputs": [
    {
     "name": "stdout",
     "output_type": "stream",
     "text": [
      "\n",
      "  yes    no \n",
      "0.747 0.253 \n"
     ]
    }
   ],
   "source": [
    "%%R\n",
    "\n",
    "round(table(datos_test$diseased)/nrow(datos_test), 3)"
   ]
  },
  {
   "cell_type": "markdown",
   "metadata": {},
   "source": []
  },
  {
   "cell_type": "markdown",
   "metadata": {},
   "source": [
    "\n",
    "Ejecución del modelo de clasificación C5.0\n"
   ]
  },
  {
   "cell_type": "code",
   "execution_count": 21,
   "metadata": {},
   "outputs": [],
   "source": [
    "%%R\n",
    "\n",
    "\n",
    "modeloC50<-C5.0(diseased~.,data=datos_entreno,trials=1,rules=FALSE,control = C5.0Control(minCases = 10,earlyStopping = TRUE\n",
    "))"
   ]
  },
  {
   "cell_type": "markdown",
   "metadata": {},
   "source": [
    "\n",
    "Información del modelo creado\n",
    "\n"
   ]
  },
  {
   "cell_type": "code",
   "execution_count": 22,
   "metadata": {},
   "outputs": [
    {
     "name": "stdout",
     "output_type": "stream",
     "text": [
      "\n",
      "Call:\n",
      "C5.0.formula(formula = diseased ~ ., data = datos_entreno, trials = 1, rules\n",
      " = FALSE, control = C5.0Control(minCases = 10, earlyStopping = TRUE))\n",
      "\n",
      "\n",
      "C5.0 [Release 2.07 GPL Edition]  \tMon Oct 10 09:49:01 2022\n",
      "-------------------------------\n",
      "\n",
      "Class specified by attribute `outcome'\n",
      "\n",
      "Read 437 cases (11 attributes) from undefined.data\n",
      "\n",
      "Decision tree:\n",
      "\n",
      "direct_bilirubin > 1.1: yes (106/5)\n",
      "direct_bilirubin <= 1.1:\n",
      ":...alkaline_phosphatase > 211: yes (125/29)\n",
      "    alkaline_phosphatase <= 211:\n",
      "    :...gender = Male:\n",
      "        :...aspartate_transaminase > 30: yes (74/22)\n",
      "        :   aspartate_transaminase <= 30:\n",
      "        :   :...direct_bilirubin <= 0.1: yes (13/5)\n",
      "        :       direct_bilirubin > 0.1: no (56/19)\n",
      "        gender = Female:\n",
      "        :...total_bilirubin > 0.8: no (18/6)\n",
      "            total_bilirubin <= 0.8:\n",
      "            :...total_bilirubin > 0.7: yes (19/5)\n",
      "                total_bilirubin <= 0.7:\n",
      "                :...albumin_globulin_ratio <= 0.97: no (13/3)\n",
      "                    albumin_globulin_ratio > 0.97: yes (13/5)\n",
      "\n",
      "\n",
      "Evaluation on training data (437 cases):\n",
      "\n",
      "\t    Decision Tree   \n",
      "\t  ----------------  \n",
      "\t  Size      Errors  \n",
      "\n",
      "\t     9   99(22.7%)   <<\n",
      "\n",
      "\n",
      "\t   (a)   (b)    <-classified as\n",
      "\t  ----  ----\n",
      "\t   279    28    (a): class yes\n",
      "\t    71    59    (b): class no\n",
      "\n",
      "\n",
      "\tAttribute usage:\n",
      "\n",
      "\t100.00%\tdirect_bilirubin\n",
      "\t 75.74%\talkaline_phosphatase\n",
      "\t 47.14%\tgender\n",
      "\t 32.72%\taspartate_transaminase\n",
      "\t 14.42%\ttotal_bilirubin\n",
      "\t  5.95%\talbumin_globulin_ratio\n",
      "\n",
      "\n",
      "Time: 0.0 secs\n",
      "\n"
     ]
    }
   ],
   "source": [
    "%%R\n",
    "\n",
    "summary(modeloC50)"
   ]
  },
  {
   "cell_type": "markdown",
   "metadata": {},
   "source": [
    "\n",
    " Gráfico del modelo\n"
   ]
  },
  {
   "cell_type": "code",
   "execution_count": 23,
   "metadata": {},
   "outputs": [
    {
     "data": {
      "image/png": "[encoded data removed]"
     },
     "metadata": {},
     "output_type": "display_data"
    }
   ],
   "source": [
    "%%R\n",
    "\n",
    "plot(modeloC50)"
   ]
  },
  {
   "cell_type": "markdown",
   "metadata": {},
   "source": []
  },
  {
   "cell_type": "markdown",
   "metadata": {},
   "source": [
    "\n",
    "Predicción\n",
    "\n"
   ]
  },
  {
   "cell_type": "code",
   "execution_count": 24,
   "metadata": {},
   "outputs": [
    {
     "name": "stdout",
     "output_type": "stream",
     "text": [
      "  [1] yes yes no  yes yes yes yes yes yes yes yes yes yes yes yes yes yes yes\n",
      " [19] yes yes no  yes yes yes yes yes yes yes yes yes yes no  yes yes yes yes\n",
      " [37] yes yes yes no  yes yes yes yes yes yes yes yes no  yes yes yes yes no \n",
      " [55] yes no  yes yes yes yes yes yes yes yes yes yes yes yes yes yes yes no \n",
      " [73] yes yes no  no  yes yes no  no  yes yes no  yes yes yes yes yes yes yes\n",
      " [91] yes yes yes yes yes yes yes yes yes no  yes no  no  yes yes yes yes yes\n",
      "[109] no  yes no  yes yes yes yes yes yes no  yes yes yes yes yes yes no  yes\n",
      "[127] yes no  yes yes no  yes yes yes no  yes yes yes yes yes yes yes yes yes\n",
      "[145] yes yes\n",
      "Levels: yes no\n"
     ]
    }
   ],
   "source": [
    "%%R\n",
    "\n",
    "(prediccion<-predict(modeloC50, newdata = datos_test,type=\"class\"))"
   ]
  },
  {
   "cell_type": "markdown",
   "metadata": {},
   "source": []
  },
  {
   "cell_type": "markdown",
   "metadata": {},
   "source": [
    "\n",
    "Matriz de confusión\n"
   ]
  },
  {
   "cell_type": "code",
   "execution_count": 25,
   "metadata": {},
   "outputs": [
    {
     "name": "stdout",
     "output_type": "stream",
     "text": [
      "        real\n",
      "predicho yes no\n",
      "     yes  98 25\n",
      "     no   11 12\n"
     ]
    }
   ],
   "source": [
    "%%R\n",
    "\n",
    "(matriz_confusion<-table(predicho=prediccion, real=datos_test$diseased))"
   ]
  },
  {
   "cell_type": "markdown",
   "metadata": {},
   "source": []
  },
  {
   "cell_type": "markdown",
   "metadata": {},
   "source": [
    "\n",
    "Porcentaje de clasificados correctamente\n"
   ]
  },
  {
   "cell_type": "code",
   "execution_count": 26,
   "metadata": {},
   "outputs": [
    {
     "name": "stdout",
     "output_type": "stream",
     "text": [
      "[1] 75.34247\n"
     ]
    }
   ],
   "source": [
    "%%R\n",
    "\n",
    "100*sum(diag(matriz_confusion))/sum(matriz_confusion)"
   ]
  },
  {
   "cell_type": "markdown",
   "metadata": {},
   "source": []
  },
  {
   "cell_type": "markdown",
   "metadata": {},
   "source": [
    "\n",
    " Error de clasificación\n",
    "\n",
    " \n"
   ]
  },
  {
   "cell_type": "code",
   "execution_count": 28,
   "metadata": {},
   "outputs": [
    {
     "name": "stdout",
     "output_type": "stream",
     "text": [
      "[1] \"El error de clasificacion es del: 24.7 %. 110 clasificaciones correctas de un total de 146\"\n"
     ]
    }
   ],
   "source": [
    "%%R\n",
    "\n",
    "error_clas<-round(mean(prediccion != datos_test$diseased),3)\n",
    "paste(\n",
    "  \"El error de clasificacion es del:\",100*error_clas,\"%.\",sum(prediccion==datos_test$diseased),\"clasificaciones correctas de un total de\",length(prediccion)\n",
    ")"
   ]
  },
  {
   "cell_type": "markdown",
   "metadata": {},
   "source": []
  },
  {
   "cell_type": "markdown",
   "metadata": {},
   "source": []
  },
  {
   "cell_type": "markdown",
   "metadata": {},
   "source": [
    "\n",
    "### 4.4.3.  Algoritmo CART en `R` con mlr3  <a class=\"anchor\" id=\"24\"></a>"
   ]
  },
  {
   "cell_type": "markdown",
   "metadata": {},
   "source": [
    "\n",
    "No es necesario preprocesar los datos para árboles (dummy y normalización)\n"
   ]
  },
  {
   "cell_type": "code",
   "execution_count": 31,
   "metadata": {},
   "outputs": [
    {
     "name": "stderr",
     "output_type": "stream",
     "text": [
      "R[write to console]: Installing package into 'C:/Users/Usuario/AppData/Local/R/win-library/4.2'\n",
      "(as 'lib' is unspecified)\n",
      "\n"
     ]
    }
   ],
   "source": [
    "%%R\n",
    "\n",
    "install.packages('mlr3extralearners')"
   ]
  },
  {
   "cell_type": "code",
   "execution_count": 33,
   "metadata": {},
   "outputs": [],
   "source": [
    "%%R\n",
    "\n",
    "library(mlr3)\n",
    "library(mlr3learners)"
   ]
  },
  {
   "cell_type": "markdown",
   "metadata": {},
   "source": []
  },
  {
   "cell_type": "markdown",
   "metadata": {},
   "source": [
    "\n",
    "Creamos la tarea de clasificación\n"
   ]
  },
  {
   "cell_type": "code",
   "execution_count": 34,
   "metadata": {},
   "outputs": [],
   "source": [
    "%%R\n",
    "\n",
    "ILPD_task<-as_task_classif(ilpd,target = \"diseased\")"
   ]
  },
  {
   "cell_type": "markdown",
   "metadata": {},
   "source": []
  },
  {
   "cell_type": "markdown",
   "metadata": {},
   "source": [
    "\n",
    " Método de evaluación\n"
   ]
  },
  {
   "cell_type": "code",
   "execution_count": 35,
   "metadata": {},
   "outputs": [],
   "source": [
    "%%R\n",
    "\n",
    "res_desc<-rsmp(\"holdout\",ratio=0.75)\n",
    "set.seed(0)\n",
    "res_desc$instantiate(ILPD_task)"
   ]
  },
  {
   "cell_type": "markdown",
   "metadata": {},
   "source": []
  },
  {
   "cell_type": "markdown",
   "metadata": {},
   "source": [
    "\n",
    "Definimos el método de aprendizaje\n"
   ]
  },
  {
   "cell_type": "code",
   "execution_count": 36,
   "metadata": {},
   "outputs": [],
   "source": [
    "%%R\n",
    "\n",
    "tree_learner<-lrn(\"classif.rpart\",maxdepth=4)"
   ]
  },
  {
   "cell_type": "markdown",
   "metadata": {},
   "source": []
  },
  {
   "cell_type": "markdown",
   "metadata": {},
   "source": [
    "\n",
    "Entrenamos y evaluamos el modelo\n"
   ]
  },
  {
   "cell_type": "code",
   "execution_count": 37,
   "metadata": {},
   "outputs": [
    {
     "name": "stdout",
     "output_type": "stream",
     "text": [
      "INFO  [10:04:18.316] [mlr3] Applying learner 'classif.rpart' on task 'ilpd' (iter 1/1)\n"
     ]
    }
   ],
   "source": [
    "%%R\n",
    "\n",
    "tree_resample<-resample(task = ILPD_task, learner = tree_learner,resampling = res_desc,store_models = TRUE)"
   ]
  },
  {
   "cell_type": "markdown",
   "metadata": {},
   "source": []
  },
  {
   "cell_type": "markdown",
   "metadata": {},
   "source": [
    "\n",
    " Predicciones\n"
   ]
  },
  {
   "cell_type": "code",
   "execution_count": 38,
   "metadata": {},
   "outputs": [
    {
     "name": "stdout",
     "output_type": "stream",
     "text": [
      "<PredictionClassif> for 146 observations:\n",
      "    row_ids truth response\n",
      "          4   yes       no\n",
      "          9    no       no\n",
      "         11   yes      yes\n",
      "---                       \n",
      "        575   yes      yes\n",
      "        577   yes      yes\n",
      "        583    no      yes\n"
     ]
    }
   ],
   "source": [
    "%%R\n",
    "\n",
    "tree_test<-tree_resample$predictions()\n",
    "tree_test[[1]]"
   ]
  },
  {
   "cell_type": "markdown",
   "metadata": {},
   "source": []
  },
  {
   "cell_type": "markdown",
   "metadata": {},
   "source": [
    "\n",
    " Calculamos la accuracy\n"
   ]
  },
  {
   "cell_type": "code",
   "execution_count": 39,
   "metadata": {},
   "outputs": [],
   "source": [
    "%%R\n",
    "\n",
    "tree_acc<-tree_resample$aggregate(msr(\"classif.acc\"))"
   ]
  },
  {
   "cell_type": "markdown",
   "metadata": {},
   "source": []
  },
  {
   "cell_type": "markdown",
   "metadata": {},
   "source": [
    "\n",
    " Visualizamos el modelo\n"
   ]
  },
  {
   "cell_type": "code",
   "execution_count": 40,
   "metadata": {},
   "outputs": [
    {
     "name": "stdout",
     "output_type": "stream",
     "text": [
      "n= 437 \n",
      "\n",
      "node), split, n, loss, yval, (yprob)\n",
      "      * denotes terminal node\n",
      "\n",
      " 1) root 437 127 yes (0.70938215 0.29061785)  \n",
      "   2) alkaline_phosphatase>=211.5 216  28 yes (0.87037037 0.12962963)  \n",
      "     4) total_bilirubin>=0.85 169  14 yes (0.91715976 0.08284024) *\n",
      "     5) total_bilirubin< 0.85 47  14 yes (0.70212766 0.29787234)  \n",
      "      10) aspartate_transaminase>=45.5 20   2 yes (0.90000000 0.10000000) *\n",
      "      11) aspartate_transaminase< 45.5 27  12 yes (0.55555556 0.44444444)  \n",
      "        22) aspartate_transaminase< 27.5 14   3 yes (0.78571429 0.21428571) *\n",
      "        23) aspartate_transaminase>=27.5 13   4 no (0.30769231 0.69230769) *\n",
      "   3) alkaline_phosphatase< 211.5 221  99 yes (0.55203620 0.44796380)  \n",
      "     6) total_bilirubin>=1.75 36   5 yes (0.86111111 0.13888889) *\n",
      "     7) total_bilirubin< 1.75 185  91 no (0.49189189 0.50810811)  \n",
      "      14) aspartate_transaminase>=26.5 99  42 yes (0.57575758 0.42424242) *\n",
      "      15) aspartate_transaminase< 26.5 86  34 no (0.39534884 0.60465116) *\n"
     ]
    }
   ],
   "source": [
    "%%R\n",
    "\n",
    "tree_learner<-tree_resample$learners[[1]]\n",
    "tree_learner$model"
   ]
  },
  {
   "cell_type": "markdown",
   "metadata": {},
   "source": []
  },
  {
   "cell_type": "markdown",
   "metadata": {},
   "source": [
    "\n",
    " Ploteamos el arbol\n",
    "\n"
   ]
  },
  {
   "cell_type": "code",
   "execution_count": 43,
   "metadata": {},
   "outputs": [
    {
     "data": {
      "image/png": "[encoded data removed]"
     },
     "metadata": {},
     "output_type": "display_data"
    }
   ],
   "source": [
    "%%R\n",
    "\n",
    "rpart.plot(tree_learner$model)"
   ]
  },
  {
   "cell_type": "markdown",
   "metadata": {},
   "source": []
  },
  {
   "cell_type": "markdown",
   "metadata": {},
   "source": []
  },
  {
   "cell_type": "markdown",
   "metadata": {},
   "source": [
    "\n",
    "### 4.4.4.  Algoritmo C5.0 en `R` con mlr3  <a class=\"anchor\" id=\"25\"></a>"
   ]
  },
  {
   "cell_type": "code",
   "execution_count": 48,
   "metadata": {},
   "outputs": [],
   "source": [
    "%%R\n",
    "library(mlr3)\n",
    "library(mlr3learners)\n",
    "library(mlr3extralearners)\n"
   ]
  },
  {
   "cell_type": "markdown",
   "metadata": {},
   "source": []
  },
  {
   "cell_type": "markdown",
   "metadata": {},
   "source": [
    "\n",
    " Cambiamos a numericos porque el algoritmo si no no funciona.\n"
   ]
  },
  {
   "cell_type": "code",
   "execution_count": 49,
   "metadata": {},
   "outputs": [],
   "source": [
    "%%R\n",
    "\n",
    "ilpd$age<-as.numeric(ilpd$age)\n",
    "ilpd$alkaline_phosphatase<-as.numeric(ilpd$alkaline_phosphatase)\n",
    "ilpd$alanine_transaminase<-as.numeric(ilpd$alanine_transaminase)\n",
    "ilpd$aspartate_transaminase<-as.numeric(ilpd$aspartate_transaminase)\n"
   ]
  },
  {
   "cell_type": "markdown",
   "metadata": {},
   "source": []
  },
  {
   "cell_type": "markdown",
   "metadata": {},
   "source": [
    "\n",
    " Creamos la tarea de clasificación\n"
   ]
  },
  {
   "cell_type": "code",
   "execution_count": 50,
   "metadata": {},
   "outputs": [],
   "source": [
    "%%R\n",
    "\n",
    "ILPD_task<-as_task_classif(ilpd,target = \"diseased\")\n"
   ]
  },
  {
   "cell_type": "markdown",
   "metadata": {},
   "source": []
  },
  {
   "cell_type": "markdown",
   "metadata": {},
   "source": [
    "\n",
    " Definimos el método de evaluación\n"
   ]
  },
  {
   "cell_type": "code",
   "execution_count": 51,
   "metadata": {},
   "outputs": [],
   "source": [
    "%%R\n",
    "\n",
    "res_desc<-rsmp(\"holdout\",ratio=0.75)\n",
    "set.seed(0)\n",
    "res_desc$instantiate(ILPD_task)\n"
   ]
  },
  {
   "cell_type": "markdown",
   "metadata": {},
   "source": []
  },
  {
   "cell_type": "markdown",
   "metadata": {},
   "source": [
    "\n",
    " Definimos el método de aprendizaje\n"
   ]
  },
  {
   "cell_type": "code",
   "execution_count": 52,
   "metadata": {},
   "outputs": [],
   "source": [
    "%%R\n",
    "\n",
    "tree_learner<-lrn(\"classif.C50\")\n"
   ]
  },
  {
   "cell_type": "markdown",
   "metadata": {},
   "source": []
  },
  {
   "cell_type": "markdown",
   "metadata": {},
   "source": [
    "\n",
    "Entrenamos y evaluamos el modelo\n"
   ]
  },
  {
   "cell_type": "code",
   "execution_count": 54,
   "metadata": {},
   "outputs": [
    {
     "name": "stdout",
     "output_type": "stream",
     "text": [
      "INFO  [10:21:00.364] [mlr3] Applying learner 'classif.C50' on task 'ilpd' (iter 1/1)\n"
     ]
    }
   ],
   "source": [
    "%%R\n",
    "\n",
    "tree_resample<-resample(task = ILPD_task, learner = tree_learner, resampling = res_desc, store_models = TRUE)\n"
   ]
  },
  {
   "cell_type": "markdown",
   "metadata": {},
   "source": []
  },
  {
   "cell_type": "markdown",
   "metadata": {},
   "source": [
    "\n",
    " Predicciones del modelo\n"
   ]
  },
  {
   "cell_type": "code",
   "execution_count": 55,
   "metadata": {},
   "outputs": [
    {
     "name": "stdout",
     "output_type": "stream",
     "text": [
      "<PredictionClassif> for 146 observations:\n",
      "    row_ids truth response\n",
      "          4   yes       no\n",
      "          9    no      yes\n",
      "         11   yes      yes\n",
      "---                       \n",
      "        575   yes      yes\n",
      "        577   yes      yes\n",
      "        583    no      yes\n"
     ]
    }
   ],
   "source": [
    "%%R\n",
    "\n",
    "tree_test<-tree_resample$predictions()\n",
    "tree_test[[1]]\n"
   ]
  },
  {
   "cell_type": "markdown",
   "metadata": {},
   "source": []
  },
  {
   "cell_type": "markdown",
   "metadata": {},
   "source": [
    "\n",
    " Calculamos la accuracy del modelo\n"
   ]
  },
  {
   "cell_type": "code",
   "execution_count": 56,
   "metadata": {},
   "outputs": [],
   "source": [
    "%%R\n",
    "\n",
    "tree_acc<-tree_resample$aggregate(msr(\"classif.acc\"))\n"
   ]
  },
  {
   "cell_type": "markdown",
   "metadata": {},
   "source": []
  },
  {
   "cell_type": "markdown",
   "metadata": {},
   "source": [
    "\n",
    " Visualizamos el modelo\n"
   ]
  },
  {
   "cell_type": "code",
   "execution_count": 57,
   "metadata": {},
   "outputs": [
    {
     "name": "stdout",
     "output_type": "stream",
     "text": [
      "\n",
      "Call:\n",
      "C50::C5.0.formula(formula = f, data = data, control = ctrl)\n",
      "\n",
      "Classification Tree\n",
      "Number of samples: 437 \n",
      "Number of predictors: 10 \n",
      "\n",
      "Tree size: 35 \n",
      "\n",
      "Non-standard options: attempt to group attributes\n",
      "\n"
     ]
    }
   ],
   "source": [
    "%%R\n",
    "\n",
    "tree_learner<-tree_resample$learners[[1]]\n",
    "tree_learner$model\n"
   ]
  },
  {
   "cell_type": "markdown",
   "metadata": {},
   "source": []
  },
  {
   "cell_type": "markdown",
   "metadata": {},
   "source": [
    "\n",
    "El siguiente plot no funciona.\n"
   ]
  },
  {
   "cell_type": "code",
   "execution_count": 58,
   "metadata": {},
   "outputs": [
    {
     "name": "stderr",
     "output_type": "stream",
     "text": [
      "R[write to console]: Error in model.frame(formula = f, data = data, na.action = function (object,  : \n",
      "  object 'f' not found\n",
      "\n"
     ]
    },
    {
     "name": "stdout",
     "output_type": "stream",
     "text": [
      "\n",
      "Error in model.frame(formula = f, data = data, na.action = function (object,  : \n",
      "  object 'f' not found\n"
     ]
    },
    {
     "ename": "RInterpreterError",
     "evalue": "Failed to parse and evaluate line '\\nplot(tree_learner$model)\\n'.\nR error message: \"Error in model.frame(formula = f, data = data, na.action = function (object,  : \\n  object 'f' not found\"",
     "output_type": "error",
     "traceback": [
      "\u001b[1;31m---------------------------------------------------------------------------\u001b[0m",
      "\u001b[1;31mRRuntimeError\u001b[0m                             Traceback (most recent call last)",
      "File \u001b[1;32mc:\\Users\\Usuario\\AppData\\Local\\Programs\\Python\\Python310\\lib\\site-packages\\rpy2\\ipython\\rmagic.py:268\u001b[0m, in \u001b[0;36mRMagics.eval\u001b[1;34m(self, code)\u001b[0m\n\u001b[0;32m    266\u001b[0m \u001b[39mtry\u001b[39;00m:\n\u001b[0;32m    267\u001b[0m     \u001b[39m# Need the newline in case the last line in code is a comment.\u001b[39;00m\n\u001b[1;32m--> 268\u001b[0m     value, visible \u001b[39m=\u001b[39m ro\u001b[39m.\u001b[39;49mr(\u001b[39m\"\u001b[39;49m\u001b[39mwithVisible(\u001b[39;49m\u001b[39m{\u001b[39;49m\u001b[39m%s\u001b[39;49;00m\u001b[39m\\n\u001b[39;49;00m\u001b[39m})\u001b[39;49m\u001b[39m\"\u001b[39;49m \u001b[39m%\u001b[39;49m code)\n\u001b[0;32m    269\u001b[0m \u001b[39mexcept\u001b[39;00m (ri\u001b[39m.\u001b[39membedded\u001b[39m.\u001b[39mRRuntimeError, \u001b[39mValueError\u001b[39;00m) \u001b[39mas\u001b[39;00m exception:\n\u001b[0;32m    270\u001b[0m     \u001b[39m# Otherwise next return seems to have copy of error.\u001b[39;00m\n",
      "File \u001b[1;32mc:\\Users\\Usuario\\AppData\\Local\\Programs\\Python\\Python310\\lib\\site-packages\\rpy2\\robjects\\__init__.py:438\u001b[0m, in \u001b[0;36mR.__call__\u001b[1;34m(self, string)\u001b[0m\n\u001b[0;32m    437\u001b[0m p \u001b[39m=\u001b[39m rinterface\u001b[39m.\u001b[39mparse(string)\n\u001b[1;32m--> 438\u001b[0m res \u001b[39m=\u001b[39m \u001b[39mself\u001b[39;49m\u001b[39m.\u001b[39;49meval(p)\n\u001b[0;32m    439\u001b[0m \u001b[39mreturn\u001b[39;00m conversion\u001b[39m.\u001b[39mrpy2py(res)\n",
      "File \u001b[1;32mc:\\Users\\Usuario\\AppData\\Local\\Programs\\Python\\Python310\\lib\\site-packages\\rpy2\\robjects\\functions.py:198\u001b[0m, in \u001b[0;36mSignatureTranslatedFunction.__call__\u001b[1;34m(self, *args, **kwargs)\u001b[0m\n\u001b[0;32m    197\u001b[0m         kwargs[r_k] \u001b[39m=\u001b[39m v\n\u001b[1;32m--> 198\u001b[0m \u001b[39mreturn\u001b[39;00m (\u001b[39msuper\u001b[39m(SignatureTranslatedFunction, \u001b[39mself\u001b[39m)\n\u001b[0;32m    199\u001b[0m         \u001b[39m.\u001b[39m\u001b[39m__call__\u001b[39m(\u001b[39m*\u001b[39margs, \u001b[39m*\u001b[39m\u001b[39m*\u001b[39mkwargs))\n",
      "File \u001b[1;32mc:\\Users\\Usuario\\AppData\\Local\\Programs\\Python\\Python310\\lib\\site-packages\\rpy2\\robjects\\functions.py:125\u001b[0m, in \u001b[0;36mFunction.__call__\u001b[1;34m(self, *args, **kwargs)\u001b[0m\n\u001b[0;32m    124\u001b[0m         new_kwargs[k] \u001b[39m=\u001b[39m conversion\u001b[39m.\u001b[39mpy2rpy(v)\n\u001b[1;32m--> 125\u001b[0m res \u001b[39m=\u001b[39m \u001b[39msuper\u001b[39m(Function, \u001b[39mself\u001b[39m)\u001b[39m.\u001b[39m\u001b[39m__call__\u001b[39m(\u001b[39m*\u001b[39mnew_args, \u001b[39m*\u001b[39m\u001b[39m*\u001b[39mnew_kwargs)\n\u001b[0;32m    126\u001b[0m res \u001b[39m=\u001b[39m conversion\u001b[39m.\u001b[39mrpy2py(res)\n",
      "File \u001b[1;32mc:\\Users\\Usuario\\AppData\\Local\\Programs\\Python\\Python310\\lib\\site-packages\\rpy2\\rinterface_lib\\conversion.py:45\u001b[0m, in \u001b[0;36m_cdata_res_to_rinterface.<locals>._\u001b[1;34m(*args, **kwargs)\u001b[0m\n\u001b[0;32m     44\u001b[0m \u001b[39mdef\u001b[39;00m \u001b[39m_\u001b[39m(\u001b[39m*\u001b[39margs, \u001b[39m*\u001b[39m\u001b[39m*\u001b[39mkwargs):\n\u001b[1;32m---> 45\u001b[0m     cdata \u001b[39m=\u001b[39m function(\u001b[39m*\u001b[39margs, \u001b[39m*\u001b[39m\u001b[39m*\u001b[39mkwargs)\n\u001b[0;32m     46\u001b[0m     \u001b[39m# TODO: test cdata is of the expected CType\u001b[39;00m\n",
      "File \u001b[1;32mc:\\Users\\Usuario\\AppData\\Local\\Programs\\Python\\Python310\\lib\\site-packages\\rpy2\\rinterface.py:680\u001b[0m, in \u001b[0;36mSexpClosure.__call__\u001b[1;34m(self, *args, **kwargs)\u001b[0m\n\u001b[0;32m    679\u001b[0m     \u001b[39mif\u001b[39;00m error_occured[\u001b[39m0\u001b[39m]:\n\u001b[1;32m--> 680\u001b[0m         \u001b[39mraise\u001b[39;00m embedded\u001b[39m.\u001b[39mRRuntimeError(_rinterface\u001b[39m.\u001b[39m_geterrmessage())\n\u001b[0;32m    681\u001b[0m \u001b[39mreturn\u001b[39;00m res\n",
      "\u001b[1;31mRRuntimeError\u001b[0m: Error in model.frame(formula = f, data = data, na.action = function (object,  : \n  object 'f' not found\n",
      "\nDuring handling of the above exception, another exception occurred:\n",
      "\u001b[1;31mRInterpreterError\u001b[0m                         Traceback (most recent call last)",
      "\u001b[1;32mc:\\Users\\Usuario\\Documents\\fabio\\Fabio\\Estadistica4all.github.io\\Notebooks\\Aprendizaje Automatico\\Practica1.ipynb Celda 260\u001b[0m in \u001b[0;36m<cell line: 1>\u001b[1;34m()\u001b[0m\n\u001b[1;32m----> <a href='vscode-notebook-cell:/c%3A/Users/Usuario/Documents/fabio/Fabio/Estadistica4all.github.io/Notebooks/Aprendizaje%20Automatico/Practica1.ipynb#Y605sZmlsZQ%3D%3D?line=0'>1</a>\u001b[0m get_ipython()\u001b[39m.\u001b[39;49mrun_cell_magic(\u001b[39m'\u001b[39;49m\u001b[39mR\u001b[39;49m\u001b[39m'\u001b[39;49m, \u001b[39m'\u001b[39;49m\u001b[39m'\u001b[39;49m, \u001b[39m'\u001b[39;49m\u001b[39m\\n\u001b[39;49;00m\u001b[39mplot(tree_learner$model)\u001b[39;49m\u001b[39m\\n\u001b[39;49;00m\u001b[39m'\u001b[39;49m)\n",
      "File \u001b[1;32mc:\\Users\\Usuario\\AppData\\Local\\Programs\\Python\\Python310\\lib\\site-packages\\IPython\\core\\interactiveshell.py:2358\u001b[0m, in \u001b[0;36mInteractiveShell.run_cell_magic\u001b[1;34m(self, magic_name, line, cell)\u001b[0m\n\u001b[0;32m   2356\u001b[0m \u001b[39mwith\u001b[39;00m \u001b[39mself\u001b[39m\u001b[39m.\u001b[39mbuiltin_trap:\n\u001b[0;32m   2357\u001b[0m     args \u001b[39m=\u001b[39m (magic_arg_s, cell)\n\u001b[1;32m-> 2358\u001b[0m     result \u001b[39m=\u001b[39m fn(\u001b[39m*\u001b[39margs, \u001b[39m*\u001b[39m\u001b[39m*\u001b[39mkwargs)\n\u001b[0;32m   2359\u001b[0m \u001b[39mreturn\u001b[39;00m result\n",
      "File \u001b[1;32mc:\\Users\\Usuario\\AppData\\Local\\Programs\\Python\\Python310\\lib\\site-packages\\rpy2\\ipython\\rmagic.py:783\u001b[0m, in \u001b[0;36mRMagics.R\u001b[1;34m(self, line, cell, local_ns)\u001b[0m\n\u001b[0;32m    781\u001b[0m     \u001b[39mif\u001b[39;00m \u001b[39mnot\u001b[39;00m e\u001b[39m.\u001b[39mstdout\u001b[39m.\u001b[39mendswith(e\u001b[39m.\u001b[39merr):\n\u001b[0;32m    782\u001b[0m         \u001b[39mprint\u001b[39m(e\u001b[39m.\u001b[39merr)\n\u001b[1;32m--> 783\u001b[0m     \u001b[39mraise\u001b[39;00m e\n\u001b[0;32m    784\u001b[0m \u001b[39mfinally\u001b[39;00m:\n\u001b[0;32m    785\u001b[0m     \u001b[39mif\u001b[39;00m \u001b[39mself\u001b[39m\u001b[39m.\u001b[39mdevice \u001b[39min\u001b[39;00m [\u001b[39m'\u001b[39m\u001b[39mpng\u001b[39m\u001b[39m'\u001b[39m, \u001b[39m'\u001b[39m\u001b[39msvg\u001b[39m\u001b[39m'\u001b[39m]:\n",
      "File \u001b[1;32mc:\\Users\\Usuario\\AppData\\Local\\Programs\\Python\\Python310\\lib\\site-packages\\rpy2\\ipython\\rmagic.py:763\u001b[0m, in \u001b[0;36mRMagics.R\u001b[1;34m(self, line, cell, local_ns)\u001b[0m\n\u001b[0;32m    761\u001b[0m         return_output \u001b[39m=\u001b[39m \u001b[39mFalse\u001b[39;00m\n\u001b[0;32m    762\u001b[0m \u001b[39melse\u001b[39;00m:\n\u001b[1;32m--> 763\u001b[0m     text_result, result, visible \u001b[39m=\u001b[39m \u001b[39mself\u001b[39;49m\u001b[39m.\u001b[39;49meval(code)\n\u001b[0;32m    764\u001b[0m     text_output \u001b[39m+\u001b[39m\u001b[39m=\u001b[39m text_result\n\u001b[0;32m    765\u001b[0m     \u001b[39mif\u001b[39;00m visible:\n",
      "File \u001b[1;32mc:\\Users\\Usuario\\AppData\\Local\\Programs\\Python\\Python310\\lib\\site-packages\\rpy2\\ipython\\rmagic.py:272\u001b[0m, in \u001b[0;36mRMagics.eval\u001b[1;34m(self, code)\u001b[0m\n\u001b[0;32m    269\u001b[0m \u001b[39mexcept\u001b[39;00m (ri\u001b[39m.\u001b[39membedded\u001b[39m.\u001b[39mRRuntimeError, \u001b[39mValueError\u001b[39;00m) \u001b[39mas\u001b[39;00m exception:\n\u001b[0;32m    270\u001b[0m     \u001b[39m# Otherwise next return seems to have copy of error.\u001b[39;00m\n\u001b[0;32m    271\u001b[0m     warning_or_other_msg \u001b[39m=\u001b[39m \u001b[39mself\u001b[39m\u001b[39m.\u001b[39mflush()\n\u001b[1;32m--> 272\u001b[0m     \u001b[39mraise\u001b[39;00m RInterpreterError(code, \u001b[39mstr\u001b[39m(exception),\n\u001b[0;32m    273\u001b[0m                             warning_or_other_msg)\n\u001b[0;32m    274\u001b[0m text_output \u001b[39m=\u001b[39m \u001b[39mself\u001b[39m\u001b[39m.\u001b[39mflush()\n\u001b[0;32m    275\u001b[0m \u001b[39mreturn\u001b[39;00m text_output, value, visible[\u001b[39m0\u001b[39m]\n",
      "\u001b[1;31mRInterpreterError\u001b[0m: Failed to parse and evaluate line '\\nplot(tree_learner$model)\\n'.\nR error message: \"Error in model.frame(formula = f, data = data, na.action = function (object,  : \\n  object 'f' not found\""
     ]
    }
   ],
   "source": [
    "%%R\n",
    "\n",
    "# plot(tree_learner$model)"
   ]
  },
  {
   "cell_type": "markdown",
   "metadata": {},
   "source": []
  },
  {
   "cell_type": "markdown",
   "metadata": {},
   "source": []
  },
  {
   "cell_type": "markdown",
   "metadata": {},
   "source": [
    "## Arboles de clasificación en `Python` <a class=\"anchor\" id=\"26\"></a>"
   ]
  },
  {
   "cell_type": "markdown",
   "metadata": {},
   "source": [
    "###  Arboles de clasificación: *teoría*  <a class=\"anchor\" id=\"27\"></a>"
   ]
  },
  {
   "cell_type": "markdown",
   "metadata": {},
   "source": [
    "Vamos a considerar el siguiente tipo de arboles (matematicos):"
   ]
  },
  {
   "cell_type": "code",
   "execution_count": 2,
   "metadata": {},
   "outputs": [
    {
     "data": {
      "image/jpeg": "[encoded data removed]",
      "text/plain": [
       "<IPython.core.display.Image object>"
      ]
     },
     "execution_count": 2,
     "metadata": {
      "image/jpeg": {
       "height": 400,
       "width": 1000
      }
     },
     "output_type": "execute_result"
    }
   ],
   "source": [
    "from IPython.display import Image\n",
    "Image(filename='arbol.jpg', width = 1000, height = 400) "
   ]
  },
  {
   "cell_type": "markdown",
   "metadata": {},
   "source": [
    "Es importante tener en cuenta los elementos que estan reflejados, pues los usaremos posteriormente.\n",
    "\n",
    "Los arboles estan compuestos de iteraciones, que a su vez cada una de ellas se dividen en dos tallos. La union de tallos de distintas iteraciones da lugar a las ramas del arbol."
   ]
  },
  {
   "cell_type": "markdown",
   "metadata": {},
   "source": []
  },
  {
   "cell_type": "markdown",
   "metadata": {},
   "source": [
    "#### **Arboles de clasificación**"
   ]
  },
  {
   "cell_type": "markdown",
   "metadata": {},
   "source": [
    "La idea de los algoritmos de arboles de clasificacion es segmentar las observaciones de los predictores $X_1,...,X_p$ para predecir el valor de la respuesta $Y$ en base a esa informacion segmentada. Es algo asi como predecir Y por grupos/segmentos.\n",
    "\n"
   ]
  },
  {
   "cell_type": "markdown",
   "metadata": {},
   "source": []
  },
  {
   "cell_type": "markdown",
   "metadata": {},
   "source": [
    "### Definicion formal de los arboles de clasificación:"
   ]
  },
  {
   "cell_type": "markdown",
   "metadata": {},
   "source": [
    "  ##### **Elementos Básicos**"
   ]
  },
  {
   "cell_type": "markdown",
   "metadata": {},
   "source": [
    "- Tenemos unos predictores $\\hspace{0.1cm} X_1,...,X_p \\hspace{0.1cm}$ y una variable respuesta **categorica** $\\hspace{0.1cm} Y$\n",
    "\n",
    "- Tenemos un arbol $\\hspace{0.1cm} T \\hspace{0.1cm}$  de la forma del expuesto en la imagen con $\\hspace{0.1cm} m-1 \\hspace{0.1cm}$ iteraciones y $\\hspace{0.1cm} m \\hspace{0.1cm}$ ramas.\n",
    "\n",
    "- $r_{ht}$ es la rama $h$ del arbol con $t$ iteraciones.\n",
    "  \n",
    "-  Cada iteracion del arbol tiene asociado uno de los predictores $\\hspace{0.07cm} X_1,...,X_n$\n",
    "  \n",
    "- Cada iteracion del arbol tiene dos tallos (tallo 1 (izquierdo) y tallo 2 (derecho)).\n",
    "\n",
    "\n",
    "- En cada tallo de una iteracion se define un intervalo. \n",
    "\n",
    "- $\\hspace{0.1cm} I_{lt} \\hspace{0.1cm}$ es el intervalo asociado al tallo $l$ de la iteracion $\\hspace{0.1cm} t$\n",
    "\n",
    "\n",
    "- Para simplificar el problema consideraremos $\\hspace{0.1cm} I_{1t} = (-\\infty \\hspace{0.03cm},\\hspace{0.03cm} s_t)\\hspace{0.1cm}$  y $\\hspace{0.1cm} I_{2t} = [s_t \\hspace{0.03cm},\\hspace{0.03cm} \\infty]\\hspace{0.1cm}$ donde $\\hspace{0.1cm} s_t \\hspace{0.1cm}$ es llamado punto de corte de la iteracion $\\hspace{0.1cm} t \\hspace{0.1cm}$ del arbol\n",
    "\n",
    "- $R_{ht} \\hspace{0.1cm}$ es la region (rectangulo $n$-dimensional) definida por la rama $\\hspace{0.1cm} h \\hspace{0.1cm}$    de un arbol con $t$ iteraciones\n",
    "\n"
   ]
  },
  {
   "cell_type": "markdown",
   "metadata": {},
   "source": []
  },
  {
   "cell_type": "markdown",
   "metadata": {},
   "source": [
    "##### **Criterio de prediccion de la variable respuesta**"
   ]
  },
  {
   "cell_type": "markdown",
   "metadata": {},
   "source": [
    "\n",
    "Dada una nueva observacion $\\hspace{0.1cm} x_{new}= (x_{new,1},x_{new,2},...,x_{new,p} ) \\hspace{0.1cm}$ la idea es predecir $\\hspace{0.1cm} y_{new} \\hspace{0.1cm}$ como sigue:\n"
   ]
  },
  {
   "cell_type": "markdown",
   "metadata": {},
   "source": [
    "Sea $ \\hspace{0.1 cm} f_{r, R_{ht}} \\hspace{0.1 cm}$ la frecuencia relativa de la clase/grupo r en la rama $h$ de un arbol con $t$ iteraciones. \n",
    "\n",
    "Es decir, es la proporcion  de individuos de la muestra de entrenamiento que caen en la rama $h$ de un arbol  con $t$ iteraciones  que pertenecen a la clase $r$ (es decir, para los que $Y=r$ ) : "
   ]
  },
  {
   "cell_type": "markdown",
   "metadata": {},
   "source": [
    "$$ \\hspace{0.1 cm} f_{r , R_{ht}} \\hspace{0.1 cm} = \\hspace{0.1 cm} \\dfrac{\\# \\hspace{0.1 cm}\\lbrace i \\hspace{0.1 cm}/\\hspace{0.1 cm} x_i \\in R_{ht} \\hspace{0.15 cm}\\text{y}\\hspace{0.15 cm} y_i = r \\rbrace}{\\# \\hspace{0.1 cm}\\lbrace i \\hspace{0.1 cm}/\\hspace{0.1 cm} x_i \\in R_{ht}  \\rbrace} $$"
   ]
  },
  {
   "cell_type": "markdown",
   "metadata": {},
   "source": [
    "Donde: $\\hspace{0.25cm} r \\in Rango(Y) = \\lbrace 0,1,..,c-1 \\rbrace $"
   ]
  },
  {
   "cell_type": "markdown",
   "metadata": {},
   "source": []
  },
  {
   "cell_type": "markdown",
   "metadata": {},
   "source": [
    "  $Si \\hspace{0.3cm} x_{new} \\in R_{ht} \\hspace{0.12cm}  \\Rightarrow  \\hspace{0.12cm}$ $x_{new}$ es clasificado en la clase/grupo mayoritaria (mas frecuente) en la rama $h$ $(r_h)$"
   ]
  },
  {
   "cell_type": "markdown",
   "metadata": {},
   "source": []
  },
  {
   "cell_type": "markdown",
   "metadata": {},
   "source": [
    "Por tanto:\n",
    "\n",
    " $\\hspace{0.4 cm} Si \\hspace{0.22 cm} r_{R_{ht}}^*  \\hspace{0.05 cm}= \\hspace{0.05 cm} \\underset{\\hspace{0.7 cm} r}{arg \\hspace{0.1 cm} Max} \\hspace{0.05 cm} \\left(\\hspace{0.1 cm} f_{r, R_{ht}} \\hspace{0.1 cm}\\right) \\hspace{0.2 cm} ,\\hspace{0.05 cm} entonces:$  \n"
   ]
  },
  {
   "cell_type": "markdown",
   "metadata": {},
   "source": [
    "\n",
    "\n",
    "\n",
    " $$Si \\hspace{0.3cm} x_{new} \\in R_h \\hspace{0.22cm}  \\Rightarrow  \\hspace{0.22cm}  \\widehat{y}_{new} = r_{R_{ht}}^*$$"
   ]
  },
  {
   "cell_type": "markdown",
   "metadata": {},
   "source": []
  },
  {
   "cell_type": "markdown",
   "metadata": {},
   "source": [
    "*Observacion:*\n",
    "\n",
    "Definida la region $\\hspace{0.05 cm} R_{ht} \\hspace{0.05 cm}$ , es relativamente sencillo resolver el problema $ \\hspace{0.05 cm} \\underset{  r}{    Max} \\hspace{0.05 cm} \\left(\\hspace{0.1 cm} f_{r, R_{ht}} \\hspace{0.1 cm}\\right)  \\hspace{0.05 cm}$  y asi obtener $\\hspace{0.05 cm}  r_{R_{ht}}^*$"
   ]
  },
  {
   "cell_type": "markdown",
   "metadata": {},
   "source": []
  },
  {
   "cell_type": "markdown",
   "metadata": {},
   "source": [
    "##### **Objetivo** : Usando la **tasa de error de clasificacion** como métrica a optimizar\n",
    "\n"
   ]
  },
  {
   "cell_type": "markdown",
   "metadata": {},
   "source": [
    "\n",
    "\n",
    "Definimos el **error de entrenamiento de la rama $h$ de un arbol de clasificacion con $t$ iteraciones** como la tasa de error de clasificacion para las observaciones de entrenamiento que caen en la rama $h$ de dicho arbol, es decir, como:\n",
    "\n",
    "$$TEC(R_{ht}) = 1 - f_{r^*_{R_{ht}} , R_{ht}}$$\n",
    "\n"
   ]
  },
  {
   "cell_type": "markdown",
   "metadata": {},
   "source": [
    "*Observación:*\n",
    "\n",
    "$f_{r^*_{R_{ht}} , R_{ht}}$ es la proporcion de individuos de la muestra de entrenamiento que caen en la rama $h$ de un arbol con $t$ iteraciones que son de la clase/grupo $r^*_{R_{ht}}$ (el valor de la variable respuesta para ellos es $r^*_{R_{ht}}$)\n",
    "\n",
    "Como  el modelo clasifica a los que caen en esa rama como de la clase $r^*_{R_{ht}}$ , es decir, como la predicion de la respuesta para todo individuo que pertenezaca a esa rama es $r^*_{R_{ht}}$ , por parte del modelo, entonces se tiene lo siguiente:\n",
    "\n",
    "$f_{r^*_{R_{ht}} , R_{ht}}$ es la proporcion de individuos de la muestra de entrenamiento que caen en la rama $h$ de un arbol con $t$ iteraciones que son correctamente clasificados por el modelo (proporcion de individuos de la region $R_{ht}$ a los que se les ha predicho bien la respuesta).\n",
    "\n",
    "$TEC(R_{ht})$ es la proporcion de individuos de la muestra de entrenamiento que caen en la rama $h$ de un arbol con $t$ iteraciones $($ sus observaciones de los predictores pertenecen a $R_{ht}$ $)$ y que han sido clasificados erroneamente. Se les ha clasificado en la clase $r^*_{R_{ht}}$ y su clase era otra diferente, es decir, tenian un valor distinto a $r^*_{R_{ht}}$ para la variable respeusta, que es el valor que el modelo les predice para la respuesta."
   ]
  },
  {
   "cell_type": "markdown",
   "metadata": {},
   "source": []
  },
  {
   "cell_type": "markdown",
   "metadata": {},
   "source": [
    "\n",
    "Definimos el **error global de entrenamiento de un arbol de clasificación** como la suma de los errores de entrenamiento de las ramas del arbol de clasificación: \n",
    "\n"
   ]
  },
  {
   "cell_type": "markdown",
   "metadata": {},
   "source": [
    "\n",
    "\n",
    "$$\\sum_{h=1}^{m} \\hspace{0.1cm} TEC(R_h) $$"
   ]
  },
  {
   "cell_type": "markdown",
   "metadata": {},
   "source": []
  },
  {
   "cell_type": "markdown",
   "metadata": {},
   "source": [
    "\n",
    "El **objetivo** es construir un arbol de regresion con $m$ ramas tal que **minimice** el **error global de entrenamiento**. \n",
    "\n",
    "Es decir, formalmente el objetivo es:\n",
    "\n",
    "$$ \\underset{R_1,..,R_m}{Min}  \\hspace{0.12cm}  \\sum_{h=1}^{m} \\hspace{0.1cm} TEC(R_h)  $$\n"
   ]
  },
  {
   "cell_type": "markdown",
   "metadata": {},
   "source": []
  },
  {
   "cell_type": "markdown",
   "metadata": {},
   "source": [
    "Pero para escoger las regiones $\\hspace{0.1cm} R_1,...,R_m \\hspace{0.1cm}$ que definen las ramas del arbol  hay que determinar dos elementos que definen a su vez a las regiones:\n",
    "\n",
    "$1.\\hspace{0.1cm}$ Qué predictores estan asociados a cada iteracion del arbol $\\hspace{0.1cm} \\Rightarrow \\hspace{0.1cm}$ Para cada iteracion $i$ escoger $X_j \\hspace{0.01cm}$ $(\\hspace{0.01cm} $ es decir, escoger $j \\hspace{0.01cm})$\n",
    "   \n",
    "$2.\\hspace{0.1cm}$ Qué intervalos estan asociados a cada uno de los dos tallos de cada interaccion $\\hspace{0.1cm} \\Rightarrow \\hspace{0.1cm}$ Para cada iteracion $i$ escoger $I_{1i}$ y $I_{2i}\\hspace{0.1cm}$ $(\\hspace{0.01cm}$ es decir, escoger el punto de corte $\\hspace{0.07cm}s_i \\hspace{0.04cm} )$\n",
    "   "
   ]
  },
  {
   "cell_type": "markdown",
   "metadata": {},
   "source": []
  },
  {
   "cell_type": "markdown",
   "metadata": {},
   "source": [
    "Por tanto el porblema a resolver se puede reformular como:\n",
    "\n",
    "Para cada iteracion $\\hspace{0.1cm} i \\hspace{0.1cm}$ escoger $\\hspace{0.1cm} X_j\\hspace{0.01cm}$ $(\\hspace{0.05cm}$ es decir $\\hspace{0.01cm}j \\hspace{0.05cm})\\hspace{0.05cm}$ y $\\hspace{0.05cm}( I_{1i}\\hspace{0.1cm},\\hspace{0.1cm}I_{2i} )\\hspace{0.1cm}$ $\\hspace{0.1cm}($ es decir $\\hspace{0.1cm} s_i)\\hspace{0.1cm}$ tal que se acaben formando un arbol cuyas ramas definan unas regiones $\\hspace{0.1cm}R_1,...,R_m\\hspace{0.1cm}$ que **minimicen** $\\hspace{0.1cm}\\sum_{h=1}^{m} \\hspace{0.1cm} TEC(R_h)$"
   ]
  },
  {
   "cell_type": "markdown",
   "metadata": {},
   "source": []
  },
  {
   "cell_type": "markdown",
   "metadata": {},
   "source": [
    "##### **Objetivo** : Usando el **índice de Gini** como métrica a optimizar\n",
    "\n"
   ]
  },
  {
   "cell_type": "markdown",
   "metadata": {},
   "source": [
    "\n",
    "\n",
    "Definimos el **error de entrenamiento de la rama $h$ de un arbol de clasificacion con $t$ iteraciones** como el índice de Gini de la respuesta en la rama $h$ del arbol con $t$ iteraciones (indice de gini de la respuesta en la region $R_{ht}$)  , es decir, como:\n"
   ]
  },
  {
   "cell_type": "markdown",
   "metadata": {},
   "source": [
    "\n",
    "$$ G_{R_{ht}} = \\sum_{r=0,1,..,c-1}^{} f_{r , R_{ht}}\\cdot(1 - f_{r , R_{ht}}) $$\n"
   ]
  },
  {
   "cell_type": "markdown",
   "metadata": {},
   "source": [
    "Donde: $\\hspace{0.15cm} Rango(Y) = \\lbrace 0,1,...,c-1 \\rbrace$"
   ]
  },
  {
   "cell_type": "markdown",
   "metadata": {},
   "source": []
  },
  {
   "cell_type": "markdown",
   "metadata": {},
   "source": [
    "$G_{R_{ht}}$  toma valores pequeños cuando la frecuencia de una clase $r=0,1,...$ en la region $R_{ht}$ es alta , y por tanto la del resto baja.\n",
    "\n",
    "$G_{R_{ht}}$ toma valores altos cuando las frecuencias de las clases se reparten de manera \"igualitaria\" en la region $R_{ht}$. Y cuanto mas igualitaria es la reparticion de las classes, mas alto es $G_{R_{ht}}$ . Hasta el punto que cuando la reparticion es totalmente igualitaria, esto es, cada clase tiene la misma frecuencia , si hay $c$ clases, cada una tiene una frecuencia relativa de $1/c$ en la region, entonces en indicide de Gini alcanza su maximo valor."
   ]
  },
  {
   "cell_type": "markdown",
   "metadata": {},
   "source": []
  },
  {
   "cell_type": "markdown",
   "metadata": {},
   "source": [
    "Ejemplo: \n",
    "\n",
    "Para $\\hspace{0.1 cm} c=3$  $\\hspace{0.15cm} ( Rango(Y)=\\lbrace 0,1,2 \\rbrace )$ \n",
    "\n",
    "Si tenemos: $\\hspace{0.15cm} f_{0 , R_{ht}} = 0.40 \\hspace{0.15cm}$ , $\\hspace{0.15cm} f_{1 , R_{ht}}=0.30 \\hspace{0.15cm}$ y $\\hspace{0.15cm} f_{2 , R_{ht}}=0.30$ $\\hspace{0.15cm} \\Rightarrow \\hspace{0.15cm}$  $G_{R_{ht}} = 0.66 $\n",
    "\n",
    "Si tenemos: $\\hspace{0.15cm} f_{0 , R_{ht}} = 0.80 \\hspace{0.15cm}$ , $\\hspace{0.15cm} f_{1 , R_{ht}}=0.10 \\hspace{0.15cm}$ y $\\hspace{0.15cm} f_{2 , R_{ht}}=0.10$ $\\hspace{0.15cm} \\Rightarrow \\hspace{0.15cm}$  $G_{R_{ht}} = 0.34 $\n",
    "\n",
    "Si tenemos: $\\hspace{0.15cm} f_{0 , R_{ht}} = 0.9 \\hspace{0.15cm}$ , $\\hspace{0.15cm} f_{1 , R_{ht}}=0.05 \\hspace{0.15cm}$ y $\\hspace{0.15cm} f_{2 , R_{ht}}=0.05$ $\\hspace{0.15cm} \\Rightarrow \\hspace{0.15cm}$  $G_{R_{ht}} = 0.185 $"
   ]
  },
  {
   "cell_type": "markdown",
   "metadata": {},
   "source": []
  },
  {
   "cell_type": "markdown",
   "metadata": {},
   "source": [
    "Teniendo esto en cuenta nos interesan que en cada rama (region $R_{ht}$) la frecuencia de la clase mayoritaria sea lo mayor posible, y eso equivale a que el indice de Gini sea lo menos posible dentro de cada rama, siguiendo la filosofia empleada con la $TEC$, donde nos interesaba que  $f_{r^*_{R_{ht}} , R_{ht}}$ fuese lo mayor posible en cada rama."
   ]
  },
  {
   "cell_type": "markdown",
   "metadata": {},
   "source": []
  },
  {
   "cell_type": "markdown",
   "metadata": {},
   "source": [
    "\n",
    "Definimos el **error global de entrenamiento de un arbol de clasificación** como la suma de los errores de entrenamiento de las ramas del arbol de clasificación:  \n"
   ]
  },
  {
   "cell_type": "markdown",
   "metadata": {},
   "source": [
    "\n",
    "$$\\sum_{h=1}^{m} \\hspace{0.1cm} G_{R_{ht}} $$"
   ]
  },
  {
   "cell_type": "markdown",
   "metadata": {},
   "source": []
  },
  {
   "cell_type": "markdown",
   "metadata": {},
   "source": [
    "\n",
    "El **objetivo** es construir un arbol de regresion con $m$ ramas tal que **minimice** el **error global de entrenamiento**. \n",
    "\n",
    "Es decir, formalmente el objetivo es:\n"
   ]
  },
  {
   "cell_type": "markdown",
   "metadata": {},
   "source": [
    "\n",
    "$$ \\underset{R_1,..,R_m}{Min}  \\hspace{0.12cm}  \\sum_{h=1}^{m} \\hspace{0.1cm} G_{R_{ht}}  $$\n"
   ]
  },
  {
   "cell_type": "markdown",
   "metadata": {},
   "source": [
    "En el fondo minimizar el error de clasificacion de un arbol de clasificacion equivale a minimizar el indice de Gini en las ramas del arbol conjuntamente (a nivel global)."
   ]
  },
  {
   "cell_type": "markdown",
   "metadata": {},
   "source": []
  },
  {
   "cell_type": "markdown",
   "metadata": {},
   "source": [
    "Pero para escoger las regiones $\\hspace{0.1cm} R_1,...,R_m \\hspace{0.1cm}$ que definen las ramas del arbol  hay que determinar dos elementos que definen a su vez a las regiones:\n",
    "\n",
    "$1.\\hspace{0.1cm}$ Qué predictores estan asociados a cada iteracion del arbol $\\hspace{0.1cm} \\Rightarrow \\hspace{0.1cm}$ Para cada iteracion $i$ escoger $X_j \\hspace{0.01cm}$ $(\\hspace{0.01cm} $ es decir, escoger $j \\hspace{0.01cm})$\n",
    "   \n",
    "$2.\\hspace{0.1cm}$ Qué intervalos estan asociados a cada uno de los dos tallos de cada interaccion $\\hspace{0.1cm} \\Rightarrow \\hspace{0.1cm}$ Para cada iteracion $i$ escoger $I_{1i}$ y $I_{2i}\\hspace{0.1cm}$ $(\\hspace{0.01cm}$ es decir, escoger el punto de corte $\\hspace{0.07cm}s_i \\hspace{0.04cm} )$\n",
    "   "
   ]
  },
  {
   "cell_type": "markdown",
   "metadata": {},
   "source": []
  },
  {
   "cell_type": "markdown",
   "metadata": {},
   "source": [
    "Por tanto el porblema a resolver se puede reformular como:\n",
    "\n",
    "Para cada iteracion $\\hspace{0.1cm} i \\hspace{0.1cm}$ escoger $\\hspace{0.1cm} X_j\\hspace{0.01cm}$ $(\\hspace{0.05cm}$ es decir $\\hspace{0.01cm}j \\hspace{0.05cm})\\hspace{0.05cm}$ y $\\hspace{0.05cm}( I_{1i}\\hspace{0.1cm},\\hspace{0.1cm}I_{2i} )\\hspace{0.1cm}$ $\\hspace{0.1cm}($ es decir $\\hspace{0.1cm} s_i)\\hspace{0.1cm}$ tal que se acaben formando un arbol cuyas ramas definan unas regiones $\\hspace{0.1cm}R_1,...,R_m\\hspace{0.1cm}$ que **minimicen** $\\hspace{0.1cm}\\sum_{h=1}^{m} \\hspace{0.1cm} G_{R_{ht}}$"
   ]
  },
  {
   "cell_type": "markdown",
   "metadata": {},
   "source": []
  },
  {
   "cell_type": "markdown",
   "metadata": {},
   "source": [
    "#### Algoritmo para la resolucion del problema $\\hspace{0.1cm}\\Rightarrow\\hspace{0.1cm}$ **Algoritmo de particion binaria** <a class=\"anchor\" id=\"8\"></a>\n"
   ]
  },
  {
   "cell_type": "markdown",
   "metadata": {},
   "source": [
    "\n",
    "El siguiente algoritmo es una forma de resolver el problema planteado anteriormente. Consiste en ir generando el arbol de manera secuencial, iteracion a iteracion, minimizando en cada paso el error de clasificacion para las observaciones de train que caen en las ramas asociadas a la iteracion en cuestion que esta siendo optimizada.\n",
    "\n",
    "El algoritmo se basa en la resolucion secuencial de problemas de minimizacion, uno por cada iteracion tenga el arbol que se acabará generando.\n"
   ]
  },
  {
   "cell_type": "markdown",
   "metadata": {},
   "source": [
    "\n",
    "**Importante:**\n",
    "\n",
    "Para esta exposicion teorica del algoritmo se va a usar como metrica principal la TEC , pero es facilmente extrapolable al caso en el que se usase el índice de Gini como metrica a optimizar.\n"
   ]
  },
  {
   "cell_type": "markdown",
   "metadata": {},
   "source": []
  },
  {
   "cell_type": "markdown",
   "metadata": {},
   "source": []
  },
  {
   "cell_type": "markdown",
   "metadata": {},
   "source": [
    "\n",
    "##### **Problema de la Iteracion 1**\n"
   ]
  },
  {
   "cell_type": "markdown",
   "metadata": {},
   "source": [
    "Arbol con 1 iteracion:"
   ]
  },
  {
   "cell_type": "code",
   "execution_count": null,
   "metadata": {},
   "outputs": [],
   "source": [
    "from IPython.display import Image\n",
    "Image(filename='arbol 1iter.jpg', width = 600, height = 300) "
   ]
  },
  {
   "cell_type": "markdown",
   "metadata": {},
   "source": [
    "La idea es, determinar las regiones $R_{11}$ y $R_{21}\\hspace{0.1cm}$ $($ es decir, $j$ y $s_1 \\hspace{0.05cm}) \\hspace{0.1cm}$  del arbol con 1 iteracion   tal que minimizan el error de entrenamiento global de dicho arbol con 1 iteracion."
   ]
  },
  {
   "cell_type": "markdown",
   "metadata": {},
   "source": []
  },
  {
   "cell_type": "markdown",
   "metadata": {},
   "source": [
    "Mas formalmente el problema planteado es:\n",
    "\n"
   ]
  },
  {
   "cell_type": "markdown",
   "metadata": {},
   "source": [
    "$$\n",
    "\n",
    "\\underset{R_{11}  ,  R_{21}}  {Min} \\hspace{0.15cm} \\left(\\hspace{0.1cm} TEC_1 = TEC(R_{11}) + TEC(R_{21})  \\hspace{0.1cm}\\right)   \\hspace{0.1cm} =   \\\\[15pt] \n",
    "\n",
    "=\\hspace{0.2cm} \\underset{R_{11}  ,  R_{21}}  {Min} \\hspace{0.1cm} \\left( \\hspace{0.2cm}  \\left( 1 - f_{r^*_{R_{11}} , R_{11}} \\right)  \\hspace{0.3cm} +  \\hspace{0.1cm}    \\left( 1 - f_{r^*_{R_{21}} , R_{21}} \\right)  \\hspace{0.2cm} \\right)     \\\\[25pt] \n",
    "\n",
    "=\\hspace{0.2cm}   \\underset{R_{11}  ,  R_{21}}  {Min} \\hspace{0.1cm} \\left( \\hspace{0.2cm}    1 - \\dfrac{\\# \\hspace{0.1 cm}\\lbrace i \\hspace{0.1 cm}/\\hspace{0.1 cm} x_i \\in R_{11} \\hspace{0.15 cm}\\text{y}\\hspace{0.15 cm} y_i = r^*_{R_{11}} \\rbrace}{\\# \\hspace{0.1 cm}\\lbrace i \\hspace{0.1 cm}/\\hspace{0.1 cm} x_i \\in R_{11}  \\rbrace}  \\hspace{0.3cm} +  \\hspace{0.3cm}      1 - \\dfrac{\\# \\hspace{0.1 cm}\\lbrace i \\hspace{0.1 cm}/\\hspace{0.1 cm} x_i \\in R_{21} \\hspace{0.15 cm}\\text{y}\\hspace{0.15 cm} y_i = r^*_{R_{21}} \\rbrace}{\\# \\hspace{0.1 cm}\\lbrace i \\hspace{0.1 cm}/\\hspace{0.1 cm} x_i \\in R_{21}  \\rbrace}   \\hspace{0.2cm} \\right)     \\\\[25pt]\n",
    "\n",
    "\n",
    "=\\hspace{0.2cm}   \\underset{j  ,  s_1}  {Min} \\hspace{0.1cm} \\left( \\hspace{0.2cm}    1 - \\dfrac{\\# \\hspace{0.1 cm}\\lbrace i \\hspace{0.1 cm}/\\hspace{0.1 cm} x_i < s_1 \\hspace{0.15 cm}\\text{y}\\hspace{0.15 cm} y_i = r^*_{R_{11}} \\rbrace}{\\# \\hspace{0.1 cm}\\lbrace i \\hspace{0.1 cm}/\\hspace{0.1 cm} x_i < s_1  \\rbrace} \\hspace{0.3cm} +  \\hspace{0.3cm}      1 - \\dfrac{\\# \\hspace{0.1 cm}\\lbrace i \\hspace{0.1 cm}/\\hspace{0.1 cm} x_i \\geqslant s_1 \\hspace{0.15 cm}\\text{y}\\hspace{0.15 cm} y_i = r^*_{R_{21}} \\rbrace}{\\# \\hspace{0.1 cm}\\lbrace i \\hspace{0.1 cm}/\\hspace{0.1 cm} x_i \\geqslant s_1 \\rbrace}    \\hspace{0.2cm} \\right)    \n",
    "\n",
    "$$\n"
   ]
  },
  {
   "cell_type": "markdown",
   "metadata": {},
   "source": []
  },
  {
   "cell_type": "markdown",
   "metadata": {},
   "source": [
    "- Si utilizamos el **índice de Gini** como metrica de error a minimizar:"
   ]
  },
  {
   "cell_type": "markdown",
   "metadata": {},
   "source": [
    "$$\n",
    "\n",
    "\\underset{R_{11}  ,  R_{21}}  {Min} \\hspace{0.15cm} \\left(\\hspace{0.1cm} G_1 = G_{R_{11}} + G_{R_{21}}  \\hspace{0.1cm}\\right)   \\hspace{0.1cm} =   \\\\[15pt] \n",
    "\n",
    "=\\hspace{0.2cm} \\underset{R_{11}  ,  R_{21}}  {Min} \\hspace{0.1cm} \\Biggl\\{ \\hspace{0.2cm}  \\sum_{r=0,1,..,c-1}^{} f_{r , R_{11}}\\cdot(1 - f_{r , R_{11}})  \\hspace{0.1cm} + \\hspace{0.1cm}  \\sum_{r=0,1,..,c-1}^{} f_{r , R_{21}}\\cdot(1 - f_{r , R_{21}})   \\hspace{0.2cm} \\Biggl\\}     \\\\[25pt] \n",
    "\n",
    "=\\hspace{0.2cm}   \\underset{R_{11}  ,  R_{21}}  {Min} \\hspace{0.1cm} \\Biggl\\{\\hspace{0.2cm}   \\sum_{r=0,1,..,c-1}^{}  \\dfrac{\\# \\hspace{0.1 cm}\\lbrace i \\hspace{0.1 cm}/\\hspace{0.1 cm} x_i \\in R_{11} \\hspace{0.15 cm}\\text{y}\\hspace{0.15 cm} y_i = r  \\rbrace}{\\# \\hspace{0.1 cm}\\lbrace i \\hspace{0.1 cm}/\\hspace{0.1 cm} x_i \\in R_{11}  \\rbrace}  \\cdot \\left(   1 - \\dfrac{\\# \\hspace{0.1 cm}\\lbrace i \\hspace{0.1 cm}/\\hspace{0.1 cm} x_i \\in R_{11} \\hspace{0.15 cm}\\text{y}\\hspace{0.15 cm} y_i = r  \\rbrace}{\\# \\hspace{0.1 cm}\\lbrace i \\hspace{0.1 cm}/\\hspace{0.1 cm} x_i \\in R_{11}  \\rbrace}  \\right)\n",
    "\n",
    "\n",
    "\n",
    "\\hspace{0.3cm} +  \\hspace{0.3cm}         \\sum_{r=0,1,..,c-1}^{}  \\dfrac{\\# \\hspace{0.1 cm}\\lbrace i \\hspace{0.1 cm}/\\hspace{0.1 cm} x_i \\in R_{21} \\hspace{0.15 cm}\\text{y}\\hspace{0.15 cm} y_i = r  \\rbrace}{\\# \\hspace{0.1 cm}\\lbrace i \\hspace{0.1 cm}/\\hspace{0.1 cm} x_i \\in R_{21}  \\rbrace}  \\cdot \\left(   1 - \\dfrac{\\# \\hspace{0.1 cm}\\lbrace i \\hspace{0.1 cm}/\\hspace{0.1 cm} x_i \\in R_{21} \\hspace{0.15 cm}\\text{y}\\hspace{0.15 cm} y_i = r  \\rbrace}{\\# \\hspace{0.1 cm}\\lbrace i \\hspace{0.1 cm}/\\hspace{0.1 cm} x_i \\in R_{21}  \\rbrace}  \\right)            \\hspace{0.2cm} \\Biggl\\}     \\\\[25pt]\n",
    "\n",
    "=\\hspace{0.2cm}   \\underset{j  ,  s_1}  {Min} \\hspace{0.1cm} \\Biggl\\{     \\sum_{r=0,1,..,c-1}^{}  \\dfrac{\\# \\hspace{0.1 cm}\\lbrace i \\hspace{0.1 cm}/\\hspace{0.1 cm} x_{ij} < s_1 \\hspace{0.15 cm}\\text{y}\\hspace{0.15 cm} y_i = r  \\rbrace}{\\# \\hspace{0.1 cm}\\lbrace i \\hspace{0.1 cm}/\\hspace{0.1 cm} x_{ij} < s_1  \\rbrace}  \\cdot \\left(   1 - \\dfrac{\\# \\hspace{0.1 cm}\\lbrace i \\hspace{0.1 cm}/\\hspace{0.1 cm} x_{ij} < s_1 \\hspace{0.15 cm}\\text{y}\\hspace{0.15 cm} y_i = r  \\rbrace}{\\# \\hspace{0.1 cm}\\lbrace i \\hspace{0.1 cm}/\\hspace{0.1 cm} x_{ij} < s_1  \\rbrace}  \\right)\n",
    "\n",
    "\n",
    "\n",
    "\\hspace{0.3cm} +  \\hspace{0.3cm}         \\sum_{r=0,1,..,c-1}^{}  \\dfrac{\\# \\hspace{0.1 cm}\\lbrace i \\hspace{0.1 cm}/\\hspace{0.1 cm} x_{ij} \\geqslant s_1 \\hspace{0.15 cm}\\text{y}\\hspace{0.15 cm} y_i = r \\rbrace}{\\# \\hspace{0.1 cm}\\lbrace i \\hspace{0.1 cm}/\\hspace{0.1 cm} x_{ij} \\geqslant s_1 \\rbrace}  \\cdot \\left(   1 - \\dfrac{\\# \\hspace{0.1 cm}\\lbrace i \\hspace{0.1 cm}/\\hspace{0.1 cm} x_{ij} \\geqslant s_1 \\hspace{0.15 cm}\\text{y}\\hspace{0.15 cm} y_i = r \\rbrace}{\\# \\hspace{0.1 cm}\\lbrace i \\hspace{0.1 cm}/\\hspace{0.1 cm} x_{ij} \\geqslant s_1 \\rbrace}  \\right)           \\Biggl\\} \n",
    "\n",
    " \n",
    "$$\n"
   ]
  },
  {
   "cell_type": "markdown",
   "metadata": {},
   "source": []
  },
  {
   "cell_type": "markdown",
   "metadata": {},
   "source": [
    "Notar que:\n",
    "\n",
    "$R_{11} = \\lbrace  (v_1 ,..., v_n) / v_j < s_1 \\rbrace   \\hspace{0.3cm}\\Rightarrow\\hspace{0.3cm}  [\\hspace{0.1cm}  x_i \\in R_{11}  \\hspace{0.1cm} \\Leftrightarrow \\hspace{0.1cm} x_{ij} < s_1 \\hspace{0.1cm}] \\hspace{0.3cm}\\Rightarrow\\hspace{0.3cm} \\lbrace i/x_i \\in R_{11} \\rbrace  = \\lbrace i / x_{ij} < s_1 \\rbrace$  \n",
    "\n",
    "$ R_{12} = \\lbrace  (v_1 ,..., v_n) / v_j \\geqslant s_1 \\rbrace   \\hspace{0.3cm}\\Rightarrow\\hspace{0.3cm} [\\hspace{0.1cm} x_i \\in R_{21} \\hspace{0.1cm} \\Leftrightarrow \\hspace{0.1cm} x_{ij} \\geqslant s_1 \\hspace{0.1cm}] \\hspace{0.2cm}\\Rightarrow\\hspace{0.2cm} \\lbrace i/x_i \\in R_{11} \\rbrace  = \\lbrace i / x_{ij} \\geqslant s_1 \\rbrace$  "
   ]
  },
  {
   "cell_type": "markdown",
   "metadata": {},
   "source": []
  },
  {
   "cell_type": "markdown",
   "metadata": {},
   "source": [
    "Notese que determinar $R_{11}$ y $R_{21}$  es equivalente a determinar el predictor $X_j$ $($ es decir $j)$  y el punto de corte $s_1$ asociados a la Iteracion 1, ya que $R_{11}$ y $R_{21}$ quedan determinadas al fijar $X_j$ y $s_1$"
   ]
  },
  {
   "cell_type": "markdown",
   "metadata": {},
   "source": []
  },
  {
   "cell_type": "markdown",
   "metadata": {},
   "source": [
    "Notar también que:\n"
   ]
  },
  {
   "cell_type": "markdown",
   "metadata": {},
   "source": [
    "\n",
    "Fijado $(j, s_1)$ puede calcularse $r_{R_{11}}^*$ como solucion al problema de maximizacion:\n"
   ]
  },
  {
   "cell_type": "markdown",
   "metadata": {},
   "source": [
    "\n",
    "$$\\underset{  r}{ Max} \\hspace{0.05 cm} \\left(\\hspace{0.1 cm} f_{r, R_{11}} \\hspace{0.1 cm}\\right) = \\underset{ r}{ Max} \\hspace{0.05 cm} \\left(\\hspace{0.1 cm}   \\dfrac{\\# \\hspace{0.1 cm}\\lbrace i \\hspace{0.1 cm}/\\hspace{0.1 cm} x_i \\in R_{11} \\hspace{0.15 cm}\\text{y}\\hspace{0.15 cm} y_i = r \\rbrace}{\\# \\hspace{0.1 cm}\\lbrace i \\hspace{0.1 cm}/\\hspace{0.1 cm} x_i \\in R_{11}  \\rbrace}  \\hspace{0.1 cm}\\right) = \\underset{  r}{ Max} \\hspace{0.05 cm} \\left(\\hspace{0.1 cm}   \\dfrac{\\# \\hspace{0.1 cm}\\lbrace i \\hspace{0.1 cm}/\\hspace{0.1 cm} x_{ij} < s_1 \\hspace{0.15 cm}\\text{y}\\hspace{0.15 cm} y_i = r \\rbrace}{\\# \\hspace{0.1 cm}\\lbrace i \\hspace{0.1 cm}/\\hspace{0.1 cm} x_{ij} < s_1 \\rbrace}  \\hspace{0.1 cm}\\right) $$"
   ]
  },
  {
   "cell_type": "markdown",
   "metadata": {},
   "source": []
  },
  {
   "cell_type": "markdown",
   "metadata": {},
   "source": [
    "\n",
    "Fijado $(j, s_2)$ puede calcularse $r_{R_{21}}^*$ como solucion al problema de maximizacion:\n"
   ]
  },
  {
   "cell_type": "markdown",
   "metadata": {},
   "source": [
    "\n",
    "$$\\underset{  r}{ Max} \\hspace{0.05 cm} \\left(\\hspace{0.1 cm} f_{r, R_{21}} \\hspace{0.1 cm}\\right) = \\underset{ r}{ Max} \\hspace{0.05 cm} \\left(\\hspace{0.1 cm}   \\dfrac{\\# \\hspace{0.1 cm}\\lbrace i \\hspace{0.1 cm}/\\hspace{0.1 cm} x_i \\in R_{21} \\hspace{0.15 cm}\\text{y}\\hspace{0.15 cm} y_i = r \\rbrace}{\\# \\hspace{0.1 cm}\\lbrace i \\hspace{0.1 cm}/\\hspace{0.1 cm} x_i \\in R_{21}  \\rbrace}  \\hspace{0.1 cm}\\right) = \\underset{  r}{ Max} \\hspace{0.05 cm} \\left(\\hspace{0.1 cm}   \\dfrac{\\# \\hspace{0.1 cm}\\lbrace i \\hspace{0.1 cm}/\\hspace{0.1 cm} x_{ij} \\geqslant s_1 \\hspace{0.15 cm}\\text{y}\\hspace{0.15 cm} y_i = r \\rbrace}{\\# \\hspace{0.1 cm}\\lbrace i \\hspace{0.1 cm}/\\hspace{0.1 cm} x_{ij} \\geqslant s_1 \\rbrace}  \\hspace{0.1 cm}\\right) $$"
   ]
  },
  {
   "cell_type": "markdown",
   "metadata": {},
   "source": []
  },
  {
   "cell_type": "markdown",
   "metadata": {},
   "source": [
    "Donde : \n",
    "\n",
    "- $\\hspace{0.2cm} j \\in \\lbrace  1,2,...,p \\rbrace $\n",
    "\n",
    "- Si $X_j$ es cuantitativa:\n",
    "\n",
    " $\\hspace{0.7cm}$  Ordenamos las observaciones de $X_j$ y quitamos repeticiones, obtenemos $X_j^{order}$, entonces:\n",
    "\n",
    "\n",
    "$$  s_1 \\in \\Biggl\\{ \\dfrac{ x_{(1)j} + x_{(2)j} }{2} \\hspace{0.1cm}, \\hspace{0.1cm} \\dfrac{x_{(2)j} + x_{(3)j} }{2} \\hspace{0.1cm} ,...,\\hspace{0.1cm} \\dfrac{x_{(n-1)j} + x_{(n)j} }{2}   \\Biggl\\}$$\n",
    "\n",
    "\n",
    "Donde $\\hspace{0.1cm} x_{(i)j} \\hspace{0.1cm} $ es la observacion que ocupa la posicion $i$-esima en $\\hspace{0.1cm}  X_j^{order}$\n",
    "\n",
    "\n",
    "- Si $X_j$ es categorica con $c$ categorias:\n",
    "\n",
    "$$ s_1 \\in Rango(X_j) = \\lbrace 0,1,..., c-1 \\rbrace $$ \n",
    "\n",
    "\n",
    "Notese que la eleccion de $X_j$ determina el campo de variacion de $s_1$\n",
    "\n",
    "\n",
    "\n",
    "- $TEC(R_{11})$ es el error de entrenamiento de la rama $1$ de un arbol de clasificación con 1 iteracion  \n",
    "\n",
    "- $TEC(R_{21})$ es el error de entrenamiento de la rama $2$ de un arbol de clasificación con 1 iteracion  \n"
   ]
  },
  {
   "cell_type": "markdown",
   "metadata": {},
   "source": []
  },
  {
   "cell_type": "markdown",
   "metadata": {},
   "source": [
    "Estos elementos no volveran a ser definidos en los sucesivos problemas de iteracion para no pecar de ser repetitivo, puesto que pueden ser facilmente extrapolados a cualquier problema de iteracion. Ademas las definiciones generales de estos elementos han sido expuestas ya anteriormente."
   ]
  },
  {
   "cell_type": "markdown",
   "metadata": {},
   "source": []
  },
  {
   "cell_type": "markdown",
   "metadata": {},
   "source": [
    "- Denotaremos por $\\hspace{0.1cm} \\left(\\hspace{0.1cm} j^{*(i)} \\hspace{0.05cm},\\hspace{0.05cm} s^{*(i)} \\hspace{0.1cm}\\right) \\hspace{0.1cm}$ a una solucion del problema de la Iteracion $i$ , para $i=1,...,m-1$"
   ]
  },
  {
   "cell_type": "markdown",
   "metadata": {},
   "source": []
  },
  {
   "cell_type": "markdown",
   "metadata": {},
   "source": [
    "Arbol obtenido tras resolver el problema de la Iteracion 1:"
   ]
  },
  {
   "cell_type": "code",
   "execution_count": null,
   "metadata": {},
   "outputs": [],
   "source": [
    "from IPython.display import Image\n",
    "Image(filename='iter1.jpg', width = 600, height = 300) "
   ]
  },
  {
   "cell_type": "markdown",
   "metadata": {},
   "source": [
    "- Si alguna de las ramas del arbol resultante de resolver el problema la iteracion 1 tiene menos de $\\hspace{0.05cm}k\\hspace{0.05cm}$ observaciones de train $\\hspace{0.1cm} \\Rightarrow \\hspace{0.1cm}$ se para el algoritmo\n",
    "\n",
    "- Si todas las ramas tienen $\\hspace{0.05cm}k\\hspace{0.05cm}$ o mas observaciones de train $\\hspace{0.1cm} \\Rightarrow \\hspace{0.1cm}$ el algoritmo continua, se pasa a resolver el problema de la iteracion siguiente, en este caso el de la iteracion 2\n",
    "\n",
    "Notese que $k$ será un ***hiperparametro*** del algoritmo."
   ]
  },
  {
   "cell_type": "markdown",
   "metadata": {},
   "source": []
  },
  {
   "cell_type": "markdown",
   "metadata": {},
   "source": []
  },
  {
   "cell_type": "markdown",
   "metadata": {},
   "source": [
    "##### **Problema de la Iteracion 2**\n"
   ]
  },
  {
   "cell_type": "markdown",
   "metadata": {},
   "source": [
    "Arbol con 2 iteraciones tras resolver el problema anterior:"
   ]
  },
  {
   "cell_type": "code",
   "execution_count": null,
   "metadata": {},
   "outputs": [],
   "source": [
    "from IPython.display import Image\n",
    "Image(filename='arbol 2iter.jpg', width = 600, height = 300) "
   ]
  },
  {
   "cell_type": "markdown",
   "metadata": {},
   "source": [
    "Si estamos en este problema es porque ninguna rama del arbol resultante del problema de la Iteracion 1 tiene menos de $k$ observaciones"
   ]
  },
  {
   "cell_type": "markdown",
   "metadata": {},
   "source": [
    "La idea es, determinar las regiones $R_{12}$ , $R_{22}$ y $R_{32}$ del arbol con 2 iteraciones (es decir, $j$ y $s_2$), considerando la solucion del problema de la iteracion 1 (arbol de arriba) , que minimizan el error de entrenamiento global de dicho arbol."
   ]
  },
  {
   "cell_type": "markdown",
   "metadata": {},
   "source": [
    "Notese que $R_{32}$ ya esta determinada tras la resolucion del problema anterior, por ello realmente solo hay que determinar las regiones $R_{12}$ y $R_{22}$ óptimas (a saber, $j$ y $s_2$ óptimos)"
   ]
  },
  {
   "cell_type": "markdown",
   "metadata": {},
   "source": []
  },
  {
   "cell_type": "markdown",
   "metadata": {},
   "source": [
    "Mas formalmente el problema planteado es:"
   ]
  },
  {
   "cell_type": "markdown",
   "metadata": {},
   "source": [
    "\n",
    "- Si utilizamos la **TEC** como metrica de error a minimizar:"
   ]
  },
  {
   "cell_type": "markdown",
   "metadata": {},
   "source": [
    "$$\n",
    "\n",
    "\\underset{R_{12}  ,  R_{22},  R_{32}}  {Min} \\hspace{0.15cm}  \\Biggl\\{ \\hspace{0.1cm} TEC_2 = TEC(R_{12})  +  TEC(R_{22}) +  TEC(R_{32}) \\hspace{0.1cm} \\Biggl\\}   \\hspace{0.1cm} =   \\\\[25pt]\n",
    "\n",
    "=\\hspace{0.2cm} \\underset{R_{12}  ,  R_{22}, R_{32}}  {Min} \\hspace{0.1cm} \\Biggl\\{  \\hspace{0.2cm}  \\left( 1 - f_{r^*_{R_{12}} , R_{12}} \\right)  \\hspace{0.3cm} +  \\hspace{0.1cm}       \\left( 1 - f_{r^*_{R_{22}} , R_{22}} \\right) \\hspace{0.3cm} +  \\hspace{0.1cm}    \\left( 1 - f_{r^*_{R_{32}} , R_{32}} \\right)  \\hspace{0.2cm}  \\Biggl\\}  \\\\[25pt]\n",
    "\n",
    "\n",
    "=\\hspace{0.2cm}   \\underset{j \\hspace{0.02cm},\\hspace{0.02cm} s_2}  {Min} \\hspace{0.1cm} \\Biggl\\{ \\hspace{0.2cm}     1 - \\dfrac{\\# \\hspace{0.1 cm}\\lbrace i \\hspace{0.1 cm}/\\hspace{0.1 cm} x_i \\in R_{12} \\hspace{0.15 cm}\\text{y}\\hspace{0.15 cm} y_i = r^*_{R_{12}} \\rbrace}{\\# \\hspace{0.1 cm}\\lbrace i \\hspace{0.1 cm}/\\hspace{0.1 cm} x_i \\in R_{12}  \\rbrace}      \\hspace{0.4cm} +  \\hspace{0.4cm}   1 - \\dfrac{\\# \\hspace{0.1 cm}\\lbrace i \\hspace{0.1 cm}/\\hspace{0.1 cm} x_i \\in R_{22} \\hspace{0.15 cm}\\text{y}\\hspace{0.15 cm} y_i = r^*_{R_{22}} \\rbrace}{\\# \\hspace{0.1 cm}\\lbrace i \\hspace{0.1 cm}/\\hspace{0.1 cm} x_i \\in R_{22}  \\rbrace} \\hspace{0.4cm} +    \\hspace{0.4cm}       1 - \\dfrac{\\# \\hspace{0.1 cm}\\lbrace i \\hspace{0.1 cm}/\\hspace{0.1 cm} x_i \\in R_{32} \\hspace{0.15 cm}\\text{y}\\hspace{0.15 cm} y_i = r^*_{R_{32}} \\rbrace}{\\# \\hspace{0.1 cm}\\lbrace i \\hspace{0.1 cm}/\\hspace{0.1 cm} x_i \\in R_{32}  \\rbrace}  \\hspace{0.2cm}  \\Biggl\\}   \\\\[25pt]\n",
    "\n",
    "=\\hspace{0.2cm}   \\underset{j \\hspace{0.02cm},\\hspace{0.02cm} s_2}  {Min} \\hspace{0.1cm} \\Biggl\\{ \\hspace{0.2cm}     1 - \\dfrac{\\# \\hspace{0.1 cm}\\lbrace i \\hspace{0.1 cm}/\\hspace{0.1 cm}  x_{ij^{*(1)}} \\hspace{0.05cm}   < \\hspace{0.05cm} s^{*(1)} \\hspace{0.25 cm}\\text{y}\\hspace{0.25 cm} x_{ij} \\hspace{0.05cm}   < \\hspace{0.05cm} s_2 \\hspace{0.25 cm}\\text{y}\\hspace{0.25 cm} y_i = r^*_{R_{12}} \\rbrace}{\\# \\hspace{0.1 cm}\\lbrace i \\hspace{0.1 cm} / \\hspace{0.1 cm}  x_{ij^{*(1)}} \\hspace{0.05cm}   < \\hspace{0.05cm} s^{*(1)} \\hspace{0.25 cm}\\text{y}\\hspace{0.25 cm} x_{ij} \\hspace{0.05cm}   < \\hspace{0.05cm} s_2  \\hspace{0.1 cm} \\rbrace }      \\hspace{0.4cm} +  \\hspace{0.4cm}      1 -  \\dfrac{\\# \\hspace{0.1 cm}\\lbrace i \\hspace{0.1 cm}/\\hspace{0.1 cm}  x_{ij^{*(1)}} \\hspace{0.05cm}   < \\hspace{0.05cm} s^{*(1)} \\hspace{0.25 cm}\\text{y}\\hspace{0.25 cm} x_{ij} \\hspace{0.05cm}   \\geqslant \\hspace{0.05cm} s_2 \\hspace{0.25 cm}\\text{y}\\hspace{0.25 cm} y_i = r^*_{R_{22}} \\rbrace}{\\# \\hspace{0.1 cm}\\lbrace i \\hspace{0.1 cm} / \\hspace{0.1 cm}  x_{ij^{*(1)}} \\hspace{0.05cm}   < \\hspace{0.05cm} s^{*(1)} \\hspace{0.25 cm}\\text{y}\\hspace{0.25 cm} x_{ij} \\hspace{0.05cm}   \\geqslant \\hspace{0.05cm} s_2  \\hspace{0.1 cm} \\rbrace } \\hspace{0.3cm} +    \\hspace{0.1cm}       1 - \\dfrac{\\# \\hspace{0.1 cm}\\lbrace i \\hspace{0.1 cm}/\\hspace{0.1 cm} x_{ij^{*(1)}} \\geqslant s^{*(1)} \\hspace{0.15 cm}\\text{y}\\hspace{0.15 cm} y_i = r^*_{R_{32}} \\rbrace}{\\# \\hspace{0.1 cm}\\lbrace i \\hspace{0.1 cm}/\\hspace{0.1 cm} x_{ij^{*(1)}} \\geqslant s^{*(1)} \\rbrace}  \\hspace{0.2cm}  \\Biggl\\}\n",
    "\n",
    "\\\\[25pt]  =\\hspace{0.2cm}   \\underset{j \\hspace{0.02cm},\\hspace{0.02cm} s_2}  {Min} \\hspace{0.1cm} \\Biggl\\{   \\hspace{0.2cm}    1 - \\dfrac{\\# \\hspace{0.1 cm}\\lbrace i \\hspace{0.1 cm}/\\hspace{0.1 cm}  x_{ij^{*(1)}} \\hspace{0.05cm}   < \\hspace{0.05cm} s^{*(1)} \\hspace{0.25 cm}\\text{y}\\hspace{0.25 cm} x_{ij} \\hspace{0.05cm}   < \\hspace{0.05cm} s_2 \\hspace{0.25 cm}\\text{y}\\hspace{0.25 cm} y_i = r^*_{R_{12}} \\rbrace}{\\# \\hspace{0.1 cm}\\lbrace i \\hspace{0.1 cm} / \\hspace{0.1 cm}  x_{ij^{*(1)}} \\hspace{0.05cm}   < \\hspace{0.05cm} s^{*(1)} \\hspace{0.25 cm}\\text{y}\\hspace{0.25 cm} x_{ij} \\hspace{0.05cm}   < \\hspace{0.05cm} s_2  \\hspace{0.1 cm} \\rbrace }      \\hspace{0.4cm} +  \\hspace{0.4cm}   1 -  \\dfrac{\\# \\hspace{0.1 cm}\\lbrace i \\hspace{0.1 cm}/\\hspace{0.1 cm}  x_{ij^{*(1)}} \\hspace{0.05cm}   < \\hspace{0.05cm} s^{*(1)} \\hspace{0.25 cm}\\text{y}\\hspace{0.25 cm} x_{ij} \\hspace{0.05cm}   \\geqslant \\hspace{0.05cm} s_2 \\hspace{0.25 cm}\\text{y}\\hspace{0.25 cm} y_i = r^*_{R_{22}} \\rbrace}{\\# \\hspace{0.1 cm}\\lbrace i \\hspace{0.1 cm} / \\hspace{0.1 cm}  x_{ij^{*(1)}} \\hspace{0.05cm}   < \\hspace{0.05cm} s^{*(1)} \\hspace{0.25 cm}\\text{y}\\hspace{0.25 cm} x_{ij} \\hspace{0.05cm}   \\geqslant \\hspace{0.05cm} s_2  \\hspace{0.1 cm} \\rbrace }    \\hspace{0.2cm}  \\Biggl\\} \\\\[35pt]\n",
    "\n",
    "\n",
    "=\\hspace{0.2cm} \\underset{R_{12}  ,  R_{22} }  {Min} \\hspace{0.1cm} \\Biggl\\{  \\hspace{0.2cm}  \\left( 1 - f_{r^*_{R_{12}} , R_{12}} \\right)  \\hspace{0.3cm} +  \\hspace{0.1cm}       \\left( 1 - f_{r^*_{R_{22}} , R_{22}} \\right)   \\hspace{0.2cm}  \\Biggl\\}\n",
    "\n",
    "$$\n"
   ]
  },
  {
   "cell_type": "markdown",
   "metadata": {},
   "source": []
  },
  {
   "cell_type": "markdown",
   "metadata": {},
   "source": [
    "- Si utilizamos el **índice de Gini** como metrica de error a minimizar:"
   ]
  },
  {
   "cell_type": "markdown",
   "metadata": {},
   "source": [
    "$$\n",
    "\n",
    "\\underset{R_{12}  ,  R_{22}, R_{32}}  {Min} \\hspace{0.15cm} \\Biggl\\{  \\hspace{0.1cm} G_1 = G_{R_{12}} + G_{R_{22}} +  G_{R_{32}}  \\hspace{0.1cm} \\Biggl\\}    \\hspace{0.1cm} =   \\\\[15pt] \n",
    "\n",
    "=\\hspace{0.2cm} \\underset{R_{12}  ,  R_{22}, R_{32}}  {Min} \\hspace{0.1cm} \\Biggl\\{ \\hspace{0.3cm}  \\sum_{r=0,1,..,c-1}^{} f_{r , R_{12}}\\cdot(1 - f_{r , R_{12}})  \\hspace{0.1cm} + \\hspace{0.1cm}  \\sum_{r=0,1,..,c-1}^{} f_{r , R_{22}}\\cdot(1 - f_{r , R_{22}}) \\hspace{0.1cm} + \\hspace{0.1cm}  \\sum_{r=0,1,..,c-1}^{} f_{r , R_{32}}\\cdot(1 - f_{r , R_{32}})  \\hspace{0.3cm} \\Biggl\\}     \\\\[35pt] \n",
    "\n",
    "=\\hspace{0.2cm}   \\underset{R_{12}  ,  R_{22}  ,  R_{32}}  {Min} \\hspace{0.1cm} \\Biggl\\{ \\hspace{0.3cm}   \\sum_{r=0,1,..,c-1}^{}  \\dfrac{\\# \\hspace{0.1 cm}\\lbrace i \\hspace{0.1 cm}/\\hspace{0.1 cm} x_i \\in R_{12} \\hspace{0.15 cm}\\text{y}\\hspace{0.15 cm} y_i = r  \\rbrace}{\\# \\hspace{0.1 cm}\\lbrace i \\hspace{0.1 cm}/\\hspace{0.1 cm} x_i \\in R_{12}  \\rbrace}  \\cdot \\left(   1 - \\dfrac{\\# \\hspace{0.1 cm}\\lbrace i \\hspace{0.1 cm}/\\hspace{0.1 cm} x_i \\in R_{12} \\hspace{0.15 cm}\\text{y}\\hspace{0.15 cm} y_i = r  \\rbrace}{\\# \\hspace{0.1 cm}\\lbrace i \\hspace{0.1 cm}/\\hspace{0.1 cm} x_i \\in R_{12}  \\rbrace}  \\right)  \\\\[25pt]\n",
    "\n",
    "\n",
    "\n",
    "\\hspace{0.3cm} +  \\hspace{0.3cm}         \\sum_{r=0,1,..,c-1}^{}  \\dfrac{\\# \\hspace{0.1 cm}\\lbrace i \\hspace{0.1 cm}/\\hspace{0.1 cm} x_i \\in R_{22} \\hspace{0.15 cm}\\text{y}\\hspace{0.15 cm} y_i = r  \\rbrace}{\\# \\hspace{0.1 cm}\\lbrace i \\hspace{0.1 cm}/\\hspace{0.1 cm} x_i \\in R_{22}  \\rbrace}  \\cdot \\left(   1 - \\dfrac{\\# \\hspace{0.1 cm}\\lbrace i \\hspace{0.1 cm}/\\hspace{0.1 cm} x_i \\in R_{22} \\hspace{0.15 cm}\\text{y}\\hspace{0.15 cm} y_i = r  \\rbrace}{\\# \\hspace{0.1 cm}\\lbrace i \\hspace{0.1 cm}/\\hspace{0.1 cm} x_i \\in R_{22}  \\rbrace}  \\right)    \\\\[20pt]  \n",
    "\n",
    "\\hspace{0.3cm} +  \\hspace{0.3cm}  \\sum_{r=0,1,..,c-1}^{}  \\dfrac{\\# \\hspace{0.1 cm}\\lbrace i \\hspace{0.1 cm}/\\hspace{0.1 cm} x_i \\in R_{32} \\hspace{0.15 cm}\\text{y}\\hspace{0.15 cm} y_i = r  \\rbrace}{\\# \\hspace{0.1 cm}\\lbrace i \\hspace{0.1 cm}/\\hspace{0.1 cm} x_i \\in R_{32}  \\rbrace}  \\cdot \\left(   1 - \\dfrac{\\# \\hspace{0.1 cm}\\lbrace i \\hspace{0.1 cm}/\\hspace{0.1 cm} x_i \\in R_{32} \\hspace{0.15 cm}\\text{y}\\hspace{0.15 cm} y_i = r  \\rbrace}{\\# \\hspace{0.1 cm}\\lbrace i \\hspace{0.1 cm}/\\hspace{0.1 cm} x_i \\in R_{32}  \\rbrace}  \\right)    \\hspace{0.3cm} \\Biggl\\}     \\\\[35pt]\n",
    "\n",
    "=  \\hspace{0.2cm}   \\underset{j  ,  s_2}  {Min} \\hspace{0.1cm} \\Biggl\\{     \\hspace{0.3cm}  \\sum_{r=0,1,..,c-1}^{}   \\dfrac{\\# \\hspace{0.1 cm}\\lbrace i \\hspace{0.1 cm}/\\hspace{0.1 cm}  x_{ij^{*(1)}} \\hspace{0.05cm}   < \\hspace{0.05cm} s^{*(1)} \\hspace{0.25 cm}\\text{y}\\hspace{0.25 cm} x_{ij} \\hspace{0.05cm}   < \\hspace{0.05cm} s_2 \\hspace{0.25 cm}\\text{y}\\hspace{0.25 cm} y_i = r \\rbrace}{\\# \\hspace{0.1 cm}\\lbrace i \\hspace{0.1 cm} / \\hspace{0.1 cm}  x_{ij^{*(1)}} \\hspace{0.05cm}   < \\hspace{0.05cm} s^{*(1)} \\hspace{0.25 cm}\\text{y}\\hspace{0.25 cm} x_{ij} \\hspace{0.05cm}   < \\hspace{0.05cm} s_2  \\hspace{0.1 cm} \\rbrace } \\cdot \\left(   1 -  \\dfrac{\\# \\hspace{0.1 cm}\\lbrace i \\hspace{0.1 cm}/\\hspace{0.1 cm}  x_{ij^{*(1)}} \\hspace{0.05cm}   < \\hspace{0.05cm} s^{*(1)} \\hspace{0.25 cm}\\text{y}\\hspace{0.25 cm} x_{ij} \\hspace{0.05cm}   < \\hspace{0.05cm} s_2 \\hspace{0.25 cm}\\text{y}\\hspace{0.25 cm} y_i = r \\rbrace}{\\# \\hspace{0.1 cm}\\lbrace i \\hspace{0.1 cm} / \\hspace{0.1 cm}  x_{ij^{*(1)}} \\hspace{0.05cm}   < \\hspace{0.05cm} s^{*(1)} \\hspace{0.25 cm}\\text{y}\\hspace{0.25 cm} x_{ij} \\hspace{0.05cm}   < \\hspace{0.05cm} s_2  \\hspace{0.1 cm} \\rbrace } \\right) \\\\[25pt]\n",
    "\n",
    "\\hspace{0.3cm} +  \\hspace{0.3cm}         \\sum_{r=0,1,..,c-1}^{}  \\dfrac{\\# \\hspace{0.1 cm}\\lbrace i \\hspace{0.1 cm}/\\hspace{0.1 cm}  x_{ij^{*(1)}} \\hspace{0.05cm}   < \\hspace{0.05cm} s^{*(1)} \\hspace{0.25 cm}\\text{y}\\hspace{0.25 cm} x_{ij} \\hspace{0.05cm}   \\geqslant \\hspace{0.05cm} s_2 \\hspace{0.25 cm}\\text{y}\\hspace{0.25 cm} y_i = r \\rbrace}{\\# \\hspace{0.1 cm}\\lbrace i \\hspace{0.1 cm} / \\hspace{0.1 cm}  x_{ij^{*(1)}} \\hspace{0.05cm}   < \\hspace{0.05cm} s^{*(1)} \\hspace{0.25 cm}\\text{y}\\hspace{0.25 cm} x_{ij} \\hspace{0.05cm}   \\geqslant \\hspace{0.05cm} s_2  \\hspace{0.1 cm} \\rbrace }  \\cdot \\left(   1 - \\dfrac{\\# \\hspace{0.1 cm}\\lbrace i \\hspace{0.1 cm}/\\hspace{0.1 cm}  x_{ij^{*(1)}} \\hspace{0.05cm}   < \\hspace{0.05cm} s^{*(1)} \\hspace{0.25 cm}\\text{y}\\hspace{0.25 cm} x_{ij} \\hspace{0.05cm}   \\geqslant \\hspace{0.05cm} s_2 \\hspace{0.25 cm}\\text{y}\\hspace{0.25 cm} y_i = r \\rbrace}{\\# \\hspace{0.1 cm}\\lbrace i \\hspace{0.1 cm} / \\hspace{0.1 cm}  x_{ij^{*(1)}} \\hspace{0.05cm}   < \\hspace{0.05cm} s^{*(1)} \\hspace{0.25 cm}\\text{y}\\hspace{0.25 cm} x_{ij} \\hspace{0.05cm}   \\geqslant \\hspace{0.05cm} s_2  \\hspace{0.1 cm} \\rbrace }  \\right)  \\\\[25pt]\n",
    "\n",
    "\\hspace{0.3cm} +  \\hspace{0.3cm}         \\sum_{r=0,1,..,c-1}^{}  \\dfrac{\\# \\hspace{0.1 cm}\\lbrace i \\hspace{0.1 cm}/\\hspace{0.1 cm} x_{ij^{*(1)}} \\geqslant s^{*(1)} \\hspace{0.15 cm}\\text{y}\\hspace{0.15 cm} y_i = r \\rbrace}{\\# \\hspace{0.1 cm}\\lbrace i \\hspace{0.1 cm}/\\hspace{0.1 cm} x_{ij^{*(1)}} \\geqslant s^{*(1)} \\rbrace}  \\cdot \\left(   1 - \\dfrac{\\# \\hspace{0.1 cm}\\lbrace i \\hspace{0.1 cm}/\\hspace{0.1 cm} x_{ij^{*(1)}} \\geqslant s^{*(1)} \\hspace{0.15 cm}\\text{y}\\hspace{0.15 cm} y_i = r \\rbrace}{\\# \\hspace{0.1 cm}\\lbrace i \\hspace{0.1 cm}/\\hspace{0.1 cm} x_{ij^{*(1)}} \\geqslant s^{*(1)} \\rbrace}  \\right)      \\hspace{0.3cm}       \\Biggl\\}  \\\\[35pt]\n",
    "$$\n",
    "\n",
    "$$\n",
    "=  \\hspace{0.2cm}   \\underset{j  ,  s_2}  {Min} \\hspace{0.1cm} \\Biggl\\{     \\hspace{0.3cm}  \\sum_{r=0,1,..,c-1}^{}   \\dfrac{\\# \\hspace{0.1 cm}\\lbrace i \\hspace{0.1 cm}/\\hspace{0.1 cm}  x_{ij^{*(1)}} \\hspace{0.05cm}   < \\hspace{0.05cm} s^{*(1)} \\hspace{0.25 cm}\\text{y}\\hspace{0.25 cm} x_{ij} \\hspace{0.05cm}   < \\hspace{0.05cm} s_2 \\hspace{0.25 cm}\\text{y}\\hspace{0.25 cm} y_i = r \\rbrace}{\\# \\hspace{0.1 cm}\\lbrace i \\hspace{0.1 cm} / \\hspace{0.1 cm}  x_{ij^{*(1)}} \\hspace{0.05cm}   < \\hspace{0.05cm} s^{*(1)} \\hspace{0.25 cm}\\text{y}\\hspace{0.25 cm} x_{ij} \\hspace{0.05cm}   < \\hspace{0.05cm} s_2  \\hspace{0.1 cm} \\rbrace } \\cdot \\left(   1 -  \\dfrac{\\# \\hspace{0.1 cm}\\lbrace i \\hspace{0.1 cm}/\\hspace{0.1 cm}  x_{ij^{*(1)}} \\hspace{0.05cm}   < \\hspace{0.05cm} s^{*(1)} \\hspace{0.25 cm}\\text{y}\\hspace{0.25 cm} x_{ij} \\hspace{0.05cm}   < \\hspace{0.05cm} s_2 \\hspace{0.25 cm}\\text{y}\\hspace{0.25 cm} y_i = r \\rbrace}{\\# \\hspace{0.1 cm}\\lbrace i \\hspace{0.1 cm} / \\hspace{0.1 cm}  x_{ij^{*(1)}} \\hspace{0.05cm}   < \\hspace{0.05cm} s^{*(1)} \\hspace{0.25 cm}\\text{y}\\hspace{0.25 cm} x_{ij} \\hspace{0.05cm}   < \\hspace{0.05cm} s_2  \\hspace{0.1 cm} \\rbrace } \\right) \\\\[25pt]\n",
    "\n",
    "\\hspace{0.3cm} +  \\hspace{0.3cm}         \\sum_{r=0,1,..,c-1}^{}  \\dfrac{\\# \\hspace{0.1 cm}\\lbrace i \\hspace{0.1 cm}/\\hspace{0.1 cm}  x_{ij^{*(1)}} \\hspace{0.05cm}   < \\hspace{0.05cm} s^{*(1)} \\hspace{0.25 cm}\\text{y}\\hspace{0.25 cm} x_{ij} \\hspace{0.05cm}   \\geqslant \\hspace{0.05cm} s_2 \\hspace{0.25 cm}\\text{y}\\hspace{0.25 cm} y_i = r \\rbrace}{\\# \\hspace{0.1 cm}\\lbrace i \\hspace{0.1 cm} / \\hspace{0.1 cm}  x_{ij^{*(1)}} \\hspace{0.05cm}   < \\hspace{0.05cm} s^{*(1)} \\hspace{0.25 cm}\\text{y}\\hspace{0.25 cm} x_{ij} \\hspace{0.05cm}   \\geqslant \\hspace{0.05cm} s_2  \\hspace{0.1 cm} \\rbrace }  \\cdot \\left(   1 - \\dfrac{\\# \\hspace{0.1 cm}\\lbrace i \\hspace{0.1 cm}/\\hspace{0.1 cm}  x_{ij^{*(1)}} \\hspace{0.05cm}   < \\hspace{0.05cm} s^{*(1)} \\hspace{0.25 cm}\\text{y}\\hspace{0.25 cm} x_{ij} \\hspace{0.05cm}   \\geqslant \\hspace{0.05cm} s_2 \\hspace{0.25 cm}\\text{y}\\hspace{0.25 cm} y_i = r \\rbrace}{\\# \\hspace{0.1 cm}\\lbrace i \\hspace{0.1 cm} / \\hspace{0.1 cm}  x_{ij^{*(1)}} \\hspace{0.05cm}   < \\hspace{0.05cm} s^{*(1)} \\hspace{0.25 cm}\\text{y}\\hspace{0.25 cm} x_{ij} \\hspace{0.05cm}   \\geqslant \\hspace{0.05cm} s_2  \\hspace{0.1 cm} \\rbrace }  \\right)    \\Biggl\\} \\\\[25pt]\n",
    "\n",
    "= \\hspace{0.2cm}  \\underset{R_{12}  ,  R_{22} }  {Min} \\hspace{0.1cm} \\Biggl\\{ \\hspace{0.3cm}  \\sum_{r=0,1,..,c-1}^{} f_{r , R_{12}}\\cdot(1 - f_{r , R_{12}})  \\hspace{0.1cm} + \\hspace{0.1cm}  \\sum_{r=0,1,..,c-1}^{} f_{r , R_{22}}\\cdot(1 - f_{r , R_{22}})  \\hspace{0.3cm} \\Biggl\\}  \n",
    " \n",
    "$$\n"
   ]
  },
  {
   "cell_type": "markdown",
   "metadata": {},
   "source": []
  },
  {
   "cell_type": "markdown",
   "metadata": {},
   "source": [
    "Notar  que:\n",
    "\n",
    "\n",
    "Fijado $(j, s_2)$ puede calcularse $r_{R_{12}}^*$ como solucion al problema de maximizacion:\n",
    "\n"
   ]
  },
  {
   "cell_type": "markdown",
   "metadata": {},
   "source": [
    "\n",
    "$$\\underset{  r}{ Max} \\hspace{0.05 cm} \\left(\\hspace{0.1 cm} f_{r, R_{12}} \\hspace{0.1 cm}\\right) = \\underset{ r}{ Max} \\hspace{0.05 cm} \\left(\\hspace{0.1 cm}   \\dfrac{\\# \\hspace{0.1 cm}\\lbrace i \\hspace{0.1 cm}/\\hspace{0.1 cm} x_i \\in R_{12} \\hspace{0.15 cm}\\text{y}\\hspace{0.15 cm} y_i = r \\rbrace}{\\# \\hspace{0.1 cm}\\lbrace i \\hspace{0.1 cm}/\\hspace{0.1 cm} x_i \\in R_{12}  \\rbrace}  \\hspace{0.1 cm}\\right) = \\underset{  r}{ Max} \\hspace{0.05 cm} \\left(\\hspace{0.1 cm}   \\dfrac{\\# \\hspace{0.1 cm}\\lbrace i \\hspace{0.1 cm}/\\hspace{0.1 cm}  x_{ij^{*(1)}} \\hspace{0.05cm}   < \\hspace{0.05cm} s^{*(1)} \\hspace{0.25 cm}\\text{y}\\hspace{0.25 cm} x_{ij} \\hspace{0.05cm}   < \\hspace{0.05cm} s_2 \\hspace{0.25 cm}\\text{y}\\hspace{0.25 cm} y_i = r \\rbrace}{\\# \\hspace{0.1 cm}\\lbrace i \\hspace{0.1 cm} / \\hspace{0.1 cm}  x_{ij^{*(1)}} \\hspace{0.05cm}   < \\hspace{0.05cm} s^{*(1)} \\hspace{0.25 cm}\\text{y}\\hspace{0.25 cm} x_{ij} \\hspace{0.05cm}   < \\hspace{0.05cm} s_2  \\hspace{0.1 cm} \\rbrace }\\right)  $$\n",
    "\n"
   ]
  },
  {
   "cell_type": "markdown",
   "metadata": {},
   "source": []
  },
  {
   "cell_type": "markdown",
   "metadata": {},
   "source": [
    "\n",
    "Fijado $(j, s_2)$ puede calcularse $r_{R_{22}}^*$ como solucion al problema de maximizacion:\n",
    "\n"
   ]
  },
  {
   "cell_type": "markdown",
   "metadata": {},
   "source": [
    "\n",
    "$$\\underset{  r}{ Max} \\hspace{0.05 cm} \\left(\\hspace{0.1 cm} f_{r, R_{22}} \\hspace{0.1 cm}\\right) = \\underset{ r}{ Max} \\hspace{0.05 cm} \\left(\\hspace{0.1 cm}   \\dfrac{\\# \\hspace{0.1 cm}\\lbrace i \\hspace{0.1 cm}/\\hspace{0.1 cm} x_i \\in R_{22} \\hspace{0.15 cm}\\text{y}\\hspace{0.15 cm} y_i = r \\rbrace}{\\# \\hspace{0.1 cm}\\lbrace i \\hspace{0.1 cm}/\\hspace{0.1 cm} x_i \\in R_{22}  \\rbrace}  \\hspace{0.1 cm}\\right) = \\underset{  r}{ Max} \\hspace{0.05 cm} \\left(\\hspace{0.1 cm}   \\dfrac{\\# \\hspace{0.1 cm}\\lbrace i \\hspace{0.1 cm}/\\hspace{0.1 cm}  x_{ij^{*(1)}} \\hspace{0.05cm}   < \\hspace{0.05cm} s^{*(1)} \\hspace{0.25 cm}\\text{y}\\hspace{0.25 cm} x_{ij} \\hspace{0.05cm}   \\geqslant \\hspace{0.05cm} s_2 \\hspace{0.25 cm}\\text{y}\\hspace{0.25 cm} y_i = r \\rbrace}{\\# \\hspace{0.1 cm}\\lbrace i \\hspace{0.1 cm} / \\hspace{0.1 cm}  x_{ij^{*(1)}} \\hspace{0.05cm}   < \\hspace{0.05cm} s^{*(1)} \\hspace{0.25 cm}\\text{y}\\hspace{0.25 cm} x_{ij} \\hspace{0.05cm}   \\geqslant \\hspace{0.05cm} s_2  \\hspace{0.1 cm} \\rbrace } \\right)  $$\n",
    " \n"
   ]
  },
  {
   "cell_type": "markdown",
   "metadata": {},
   "source": []
  },
  {
   "cell_type": "markdown",
   "metadata": {},
   "source": [
    "Notese que ninguna de las siguientes expresiones:\n",
    "\n",
    " $$ \\left( 1 - f_{r^*_{R_{32}} , R_{32}} \\right) $$ \n",
    " \n",
    " $$  \\sum_{r=0,1,..,c-1}^{} f_{r , R_{32}}\\cdot(1 - f_{r , R_{32}})$$\n",
    " \n",
    " dependen de $(j, s_2)$ , por lo que puede sacarse de la funcion objetivo de sus respectivos problemas de minimizacion sin que esto altere la solucion del problema."
   ]
  },
  {
   "cell_type": "markdown",
   "metadata": {},
   "source": []
  },
  {
   "cell_type": "markdown",
   "metadata": {},
   "source": [
    "Arbol tras resolver el problema de la Iteracion 2:\n"
   ]
  },
  {
   "cell_type": "code",
   "execution_count": null,
   "metadata": {},
   "outputs": [],
   "source": [
    "from IPython.display import Image\n",
    "Image(filename='iter2.jpg', width = 940, height = 320)"
   ]
  },
  {
   "cell_type": "markdown",
   "metadata": {},
   "source": [
    "- Si alguna de las ramas tiene menos de $\\hspace{0.05cm}k\\hspace{0.05cm}$ observaciones de train $\\hspace{0.1cm} \\Rightarrow \\hspace{0.1cm}$ se para el algoritmo\n",
    "\n",
    "- Si todas las ramas tienen $\\hspace{0.05cm}k\\hspace{0.05cm}$ o mas observaciones de train $\\hspace{0.1cm} \\Rightarrow \\hspace{0.1cm}$ el algoritmo continua, se pasa a resolver el problema de la iteracion siguiente, en este caso el de la iteracion 2"
   ]
  },
  {
   "cell_type": "markdown",
   "metadata": {},
   "source": []
  },
  {
   "cell_type": "markdown",
   "metadata": {},
   "source": [
    "##### **Problema de la Iteracion 3:**"
   ]
  },
  {
   "cell_type": "markdown",
   "metadata": {},
   "source": [
    "Arbol con 3 iteraciones tras resolver el problema anterior:"
   ]
  },
  {
   "cell_type": "code",
   "execution_count": null,
   "metadata": {},
   "outputs": [],
   "source": [
    "from IPython.display import Image\n",
    "Image(filename='arbol 3iter.jpg', width = 940, height = 320)"
   ]
  },
  {
   "cell_type": "markdown",
   "metadata": {},
   "source": [
    "Si estamos en este problema es porque ninguna rama del arbol resultante del problema de la Iteracion 2 tiene menos de $k$ observaciones"
   ]
  },
  {
   "cell_type": "markdown",
   "metadata": {},
   "source": [
    "La idea es, determinar las regiones $R_{13}$ , $R_{23}$, $R_{33}$ y $R_{43}$ del arbol con 3 iteraciones $($ es decir, $j$ y $s_3 \\hspace{0.05cm})$, considerando la solucion del problema de la iteracion 2 (arbol de arriba),  que minimizan el error de entrenamiento global de dicho arbol."
   ]
  },
  {
   "cell_type": "markdown",
   "metadata": {},
   "source": [
    "Notese que $R_{13}$ y $R_{23}$ ya están determinadas tras la resolucion del problema anterior, por ello realmente solo hay que determinar las regiones $R_{33}$ y $R_{43}$ óptimas (a saber, $j$ y $s_3$ óptimos)"
   ]
  },
  {
   "cell_type": "markdown",
   "metadata": {},
   "source": []
  },
  {
   "cell_type": "markdown",
   "metadata": {},
   "source": [
    "Mas formalmente el problema se plantea como sigue:"
   ]
  },
  {
   "cell_type": "markdown",
   "metadata": {},
   "source": [
    "$$\n",
    "\n",
    "\\underset{R_{13}  ,  R_{23},  R_{33},  R_{43}}  {Min} \\hspace{0.15cm}  \\Biggl\\{\\hspace{0.1cm} TEC_3 = TEC(R_{13})  +  TEC(R_{23}) +  TEC(R_{33}) +  TEC(R_{43}) \\hspace{0.1cm} \\Biggl\\}   \\hspace{0.1cm} =   \\\\[25pt] \n",
    "\n",
    "=\\hspace{0.2cm} \\underset{R_{13}  ,  R_{23},  R_{33},  R_{43}}  {Min} \\hspace{0.1cm}  \\Biggl\\{ \\hspace{0.2cm}   \\left( 1 - f_{r^*_{R_{13}} , R_{13}} \\right)   \\hspace{0.3cm} +  \\hspace{0.1cm}    \\left( 1 - f_{r^*_{R_{23}} , R_{23}} \\right) \\hspace{0.3cm} +  \\hspace{0.1cm}    \\left( 1 - f_{r^*_{R_{33}} , R_{33}} \\right)  \\hspace{0.3cm} +  \\hspace{0.1cm}    \\left( 1 - f_{r^*_{R_{43}} , R_{43}} \\right)  \\hspace{0.2cm}   \\Biggl\\}     \\\\[25pt] \n",
    "\n",
    "\n",
    "=\\hspace{0.2cm}   \\underset{j \\hspace{0.02cm},\\hspace{0.02cm} s_3}  {Min} \\hspace{0.1cm}  \\Biggl\\{ \\hspace{0.2cm}     1 - \\dfrac{\\# \\hspace{0.1 cm}\\lbrace i \\hspace{0.1 cm}/\\hspace{0.1 cm} x_i \\in R_{13} \\hspace{0.15 cm}\\text{y}\\hspace{0.15 cm} y_i = r^*_{R_{13}} \\rbrace}{\\# \\hspace{0.1 cm}\\lbrace i \\hspace{0.1 cm}/\\hspace{0.1 cm} x_i \\in R_{12}  \\rbrace}      \\hspace{0.4cm} +  \\hspace{0.4cm}   1 - \\dfrac{\\# \\hspace{0.1 cm}\\lbrace i \\hspace{0.1 cm}/\\hspace{0.1 cm} x_i \\in R_{23} \\hspace{0.15 cm}\\text{y}\\hspace{0.15 cm} y_i = r^*_{R_{23}} \\rbrace}{\\# \\hspace{0.1 cm}\\lbrace i \\hspace{0.1 cm}/\\hspace{0.1 cm} x_i \\in R_{23}  \\rbrace} \\hspace{0.4cm} +    \\hspace{0.4cm}   \\\\[35pt]     1 - \\dfrac{\\# \\hspace{0.1 cm}\\lbrace i \\hspace{0.1 cm}/\\hspace{0.1 cm} x_i \\in R_{33} \\hspace{0.15 cm}\\text{y}\\hspace{0.15 cm} y_i = r^*_{R_{33}} \\rbrace}{\\# \\hspace{0.1 cm}\\lbrace i \\hspace{0.1 cm}/\\hspace{0.1 cm} x_i \\in R_{33}  \\rbrace}   \\hspace{0.4cm} +    \\hspace{0.4cm}       1 - \\dfrac{\\# \\hspace{0.1 cm}\\lbrace i \\hspace{0.1 cm}/\\hspace{0.1 cm} x_i \\in R_{43} \\hspace{0.15 cm}\\text{y}\\hspace{0.15 cm} y_i = r^*_{R_{43}} \\rbrace}{\\# \\hspace{0.1 cm}\\lbrace i \\hspace{0.1 cm}/\\hspace{0.1 cm} x_i \\in R_{43}  \\rbrace} \\hspace{0.2cm}    \\Biggl\\}  \\\\[35pt]  \n",
    "\n",
    "=\\hspace{0.2cm}   \\underset{j \\hspace{0.02cm},\\hspace{0.02cm} s_3}  {Min} \\hspace{0.1cm} \\Biggl\\{ \\hspace{0.2cm}     1 - \\dfrac{\\# \\hspace{0.1 cm}\\lbrace i \\hspace{0.1 cm}/\\hspace{0.1 cm}  x_{ij^{*(1)}} \\hspace{0.05cm}   < \\hspace{0.05cm} s^{*(1)} \\hspace{0.25 cm}\\text{y}\\hspace{0.25 cm} x_{ij^{*(2)}} \\hspace{0.05cm}   < \\hspace{0.05cm} s^{*(2)} \\hspace{0.25 cm}\\text{y}\\hspace{0.25 cm} y_i = r^*_{R_{13}} \\rbrace}{\\# \\hspace{0.1 cm}\\lbrace i \\hspace{0.1 cm} / \\hspace{0.1 cm}  x_{ij^{*(1)}} \\hspace{0.05cm}   < \\hspace{0.05cm} s^{*(1)} \\hspace{0.25 cm}\\text{y}\\hspace{0.25 cm} x_{ij} \\hspace{0.05cm}   < \\hspace{0.05cm} s^{*(2)}  \\hspace{0.1 cm} \\rbrace }      \\hspace{0.4cm} +  \\hspace{0.4cm}     1 -  \\dfrac{\\# \\hspace{0.1 cm}\\lbrace i \\hspace{0.1 cm}/\\hspace{0.1 cm}  x_{ij^{*(1)}} \\hspace{0.05cm}   < \\hspace{0.05cm} s^{*(1)} \\hspace{0.25 cm}\\text{y}\\hspace{0.25 cm} x_{ij} \\hspace{0.05cm}   \\geqslant \\hspace{0.05cm} s^{*(2)} \\hspace{0.25 cm}\\text{y}\\hspace{0.25 cm} y_i = r^*_{R_{23}} \\rbrace}{\\# \\hspace{0.1 cm}\\lbrace i \\hspace{0.1 cm} / \\hspace{0.1 cm}  x_{ij^{*(1)}} \\hspace{0.05cm}   < \\hspace{0.05cm} s^{*(1)} \\hspace{0.25 cm}\\text{y}\\hspace{0.25 cm} x_{ij} \\hspace{0.05cm}   \\geqslant \\hspace{0.05cm} s^{*(2)}  \\hspace{0.1 cm} \\rbrace } \\hspace{0.3cm} +    \\hspace{0.1cm}  \\\\[35pt]\n",
    "\n",
    " \\hspace{1cm}  1 -  \\dfrac{\\# \\hspace{0.1 cm}\\lbrace i \\hspace{0.1 cm}/\\hspace{0.1 cm}  x_{ij^{*(1)}} \\hspace{0.05cm}   \\geqslant \\hspace{0.05cm} s^{*(1)} \\hspace{0.25 cm}\\text{y}\\hspace{0.25 cm} x_{ij} \\hspace{0.05cm}  < \\hspace{0.05cm} s_3 \\hspace{0.25 cm}\\text{y}\\hspace{0.25 cm} y_i = r^*_{R_{33}} \\rbrace}{\\# \\hspace{0.1 cm}\\lbrace i \\hspace{0.1 cm} / \\hspace{0.1 cm}  x_{ij^{*(1)}} \\hspace{0.05cm}   < \\hspace{0.05cm} s^{*(1)} \\hspace{0.25 cm}\\text{y}\\hspace{0.25 cm} x_{ij} \\hspace{0.05cm}   < \\hspace{0.05cm} s_3  \\hspace{0.1 cm} \\rbrace }  \\hspace{0.2cm}   \\hspace{0.3cm} +    \\hspace{0.3cm} \n",
    "\n",
    "1 -  \\dfrac{\\# \\hspace{0.1 cm}\\lbrace i \\hspace{0.1 cm}/\\hspace{0.1 cm}  x_{ij^{*(1)}} \\hspace{0.05cm}   \\geqslant \\hspace{0.05cm} s^{*(1)} \\hspace{0.25 cm}\\text{y}\\hspace{0.25 cm} x_{ij} \\hspace{0.05cm}  \\geqslant \\hspace{0.05cm} s_3 \\hspace{0.25 cm}\\text{y}\\hspace{0.25 cm} y_i = r^*_{R_{43}} \\rbrace}{\\# \\hspace{0.1 cm}\\lbrace i \\hspace{0.1 cm} / \\hspace{0.1 cm}  x_{ij^{*(1)}} \\hspace{0.05cm}   < \\hspace{0.05cm} s^{*(1)} \\hspace{0.25 cm}\\text{y}\\hspace{0.25 cm} x_{ij} \\hspace{0.05cm}   \\geqslant \\hspace{0.05cm} s_3  \\hspace{0.1 cm} \\rbrace }  \\hspace{0.2cm} \\Biggl\\}\n",
    "\n",
    "\\\\[25pt]  =\\hspace{0.2cm}   \\underset{j \\hspace{0.02cm},\\hspace{0.02cm} s_3}  {Min} \\hspace{0.1cm} \\Biggl\\{   \\hspace{0.2cm}    1 -   \\dfrac{\\# \\hspace{0.1 cm}\\lbrace i \\hspace{0.1 cm}/\\hspace{0.1 cm}  x_{ij^{*(1)}} \\hspace{0.05cm}   \\geqslant \\hspace{0.05cm} s^{*(1)} \\hspace{0.25 cm}\\text{y}\\hspace{0.25 cm} x_{ij} \\hspace{0.05cm}  < \\hspace{0.05cm} s_3 \\hspace{0.25 cm}\\text{y}\\hspace{0.25 cm} y_i = r^*_{R_{33}} \\rbrace}{\\# \\hspace{0.1 cm}\\lbrace i \\hspace{0.1 cm} / \\hspace{0.1 cm}  x_{ij^{*(1)}} \\hspace{0.05cm}   < \\hspace{0.05cm} s^{*(1)} \\hspace{0.25 cm}\\text{y}\\hspace{0.25 cm} x_{ij} \\hspace{0.05cm}   < \\hspace{0.05cm} s_3  \\hspace{0.1 cm} \\rbrace }    \\hspace{0.3cm} +    \\hspace{0.3cm}        1 -  \\dfrac{\\# \\hspace{0.1 cm}\\lbrace i \\hspace{0.1 cm}/\\hspace{0.1 cm}  x_{ij^{*(1)}} \\hspace{0.05cm}   \\geqslant \\hspace{0.05cm} s^{*(1)} \\hspace{0.25 cm}\\text{y}\\hspace{0.25 cm} x_{ij} \\hspace{0.05cm}  \\geqslant \\hspace{0.05cm} s_3 \\hspace{0.25 cm}\\text{y}\\hspace{0.25 cm} y_i = r^*_{R_{43}} \\rbrace}{\\# \\hspace{0.1 cm}\\lbrace i \\hspace{0.1 cm} / \\hspace{0.1 cm}  x_{ij^{*(1)}} \\hspace{0.05cm}   < \\hspace{0.05cm} s^{*(1)} \\hspace{0.25 cm}\\text{y}\\hspace{0.25 cm} x_{ij} \\hspace{0.05cm}   \\geqslant \\hspace{0.05cm} s_3  \\hspace{0.1 cm} \\rbrace }  \\hspace{0.2cm}      \\Biggl\\} \\\\[35pt]\n",
    "\n",
    "=\\hspace{0.2cm}   \\underset{j \\hspace{0.02cm},\\hspace{0.02cm} s_3}  {Min} \\hspace{0.1cm}  \\Biggl\\{ \\hspace{0.2cm}    \\left( 1 - f_{r^*_{R_{33}} , R_{33}} \\right)  \\hspace{0.3cm} +  \\hspace{0.1cm}     \\left( 1 - f_{r^*_{R_{43}} , R_{43}} \\right)   \\hspace{0.2cm}  \\Biggl\\} \\\\[25pt]\n",
    "\n",
    "=\\hspace{0.2cm} \\underset{  R_{33},  R_{43}}  {Min} \\hspace{0.15cm}  \\Biggl\\{\\hspace{0.1cm} TEC(R_{33}) +  TEC(R_{43}) \\hspace{0.1cm} \\Biggl\\}   \\hspace{0.1cm} \n",
    "$$\n"
   ]
  },
  {
   "cell_type": "markdown",
   "metadata": {},
   "source": []
  },
  {
   "cell_type": "markdown",
   "metadata": {},
   "source": [
    "Notar  que:\n",
    "\n",
    "\n",
    "Fijado $(j, s_3)$ puede calcularse $r_{R_{33}}^*$ como solucion al problema de maximizacion:\n",
    "\n"
   ]
  },
  {
   "cell_type": "markdown",
   "metadata": {},
   "source": []
  },
  {
   "cell_type": "markdown",
   "metadata": {},
   "source": [
    "Arbol tras resolver el problema de la Iteracion 3"
   ]
  },
  {
   "cell_type": "code",
   "execution_count": null,
   "metadata": {},
   "outputs": [],
   "source": [
    "from IPython.display import Image\n",
    "Image(filename='iter3.jpg', width = 900, height = 300)"
   ]
  },
  {
   "cell_type": "markdown",
   "metadata": {},
   "source": [
    "- Si alguna de las ramas tiene menos de $\\hspace{0.05cm}k\\hspace{0.05cm}$ observaciones de train $\\hspace{0.1cm} \\Rightarrow \\hspace{0.1cm}$ se para el algoritmo\n",
    "\n",
    "- Si todas las ramas tienen $\\hspace{0.05cm}k\\hspace{0.05cm}$ o mas observaciones de train $\\hspace{0.1cm} \\Rightarrow \\hspace{0.1cm}$ el algoritmo continua, se pasa a resolver el problema de la iteracion siguiente, en este caso el de la iteracion 2"
   ]
  },
  {
   "cell_type": "markdown",
   "metadata": {},
   "source": []
  },
  {
   "cell_type": "markdown",
   "metadata": {},
   "source": [
    "Siempre que no se cumpla la condicion de parada se seguiria haciendo crecer el arbol generando nuevas iteraciones.\n",
    "\n",
    "No seguiremos exponiendo mas iteraciones del algoritmo, puesto que es facilmente extrapolable lo expuesto a cualquier iteracion superior."
   ]
  },
  {
   "cell_type": "markdown",
   "metadata": {},
   "source": []
  },
  {
   "cell_type": "markdown",
   "metadata": {},
   "source": []
  },
  {
   "cell_type": "markdown",
   "metadata": {},
   "source": [
    "### Arboles de Clasificación Penalizados  <a class=\"anchor\" id=\"2.4\"></a>"
   ]
  },
  {
   "cell_type": "markdown",
   "metadata": {},
   "source": [
    "La idea es esencialmente la misma la ya comentada en la sección de arboles de regresion penalizados.\n",
    "\n",
    "Los arboles de clasificación penalizados son esencialemte iguales que los arboles de clasificacion ordinarios pero tienen una modificacion en el problema de optimizacion tal que permiten penalizar los arboles con muchas ramas. \n",
    "\n",
    "El problema de optimizacion a resolver en los arboles de regresion ordinarios (usando Gini como métrica, sin perdida de generalidad) era:\n",
    "\n",
    "\n",
    "$$ \\underset{R_1,..,R_m}{Min}  \\hspace{0.12cm}  \\sum_{h=1}^{m} \\hspace{0.1cm} G_{R_{ht}}  $$\n"
   ]
  },
  {
   "cell_type": "markdown",
   "metadata": {},
   "source": [
    "En los arboles de regresion penalizados el problema a resolver es:\n",
    "\n",
    "$$ \\underset{R_1,..,R_m}{Min}  \\hspace{0.12cm}  \\sum_{h=1}^{m} \\hspace{0.1cm} G_{R_{ht}} + \\alpha \\cdot m $$"
   ]
  },
  {
   "cell_type": "markdown",
   "metadata": {},
   "source": [
    "Donde $m$ es el numero de ramas del arbol "
   ]
  },
  {
   "cell_type": "markdown",
   "metadata": {},
   "source": [
    "De este modo, si \\alpha = 0 estamos en el caso de arboles de clasificacion ordinarios.\n",
    "\n",
    "Si $\\alpha > 0$ , entonces se penalizara el numero de ramas del arbil (m).\n",
    "\n",
    "Dado un $\\alpha >0$ , cuanto mayor sea el tamaño del arbol (m) mas dificil sera que sea optimo en el sentido de que resuelva el probema deminimizacion. Y viceversa.\n",
    "\n",
    "Cuanto mayor sea \\alpha mas se estará penalizando a los arboles de tamaño grande.\n",
    "\n",
    "Con $\\alpha >0$ ( y especialmente $\\alpha >> 0$ ( relativamente grandes)) tienden a salir como optimos arboles que son mas pequeños que los que salen pusando elalgoritmo ordinario (sin penalizacion).\n",
    "\n",
    "En el algoritmo ordinario se prioriza que el arbol se ajuste a los datos de entrenamiento, lo que psuele provocar overfiting (sobreajuse). Esto es un problema porque hace que el arbol funcione muy bien (prediga bien) en la muestra de entrenamiento (cuando usa los datos que ya ha \"visto\"), pero bastante peor en la muestra de test. Estos modelos tendran poco sesgo pero mucha varianza a nivel predictivo, lo cual es negativo.\n",
    "\n",
    "El algoritmo penalizado permite obtener un equilibrio entre sesgo y varianza a traves del parametro de penalizacion $\\alpha$\n",
    "\n",
    "La idea es seleccionar un alpha que nos genere un modelo con quiza un poco mas de sesgo pero con considerable menos varianza que el ordinario, lo cualq conduzca a un erro de prediccion menor que en el caso ordinario.\n"
   ]
  },
  {
   "cell_type": "markdown",
   "metadata": {},
   "source": []
  },
  {
   "cell_type": "markdown",
   "metadata": {},
   "source": [
    "**¿ Cómo escoger $\\alpha$ en la practica ?**"
   ]
  },
  {
   "cell_type": "markdown",
   "metadata": {},
   "source": [
    "Una idea razonable es entrenar un arbol con los mismos datos de entrenamiento pero con $B$ distintos $\\alpha$\n",
    "\n",
    "Calcular con una muestra de test el error de cada uno de los $B$ modelos.\n",
    "\n",
    "Quedarse con el  $\\alpha$ asociado al modelo con menor error de test."
   ]
  },
  {
   "cell_type": "markdown",
   "metadata": {},
   "source": [
    "Una cuestion relevante aqui es como definir el conjunto de $B$ valores de $\\alpha$ que se van a tener en consideracion. \n",
    "\n",
    "No entraremos aqui en esta cuestión."
   ]
  },
  {
   "cell_type": "markdown",
   "metadata": {},
   "source": []
  },
  {
   "cell_type": "markdown",
   "metadata": {},
   "source": []
  },
  {
   "cell_type": "markdown",
   "metadata": {},
   "source": [
    "### Arboles de clasificación: Algoritmo de creación propia en `Python` <a class=\"anchor\" id=\"28\"></a>"
   ]
  },
  {
   "cell_type": "markdown",
   "metadata": {},
   "source": [
    "#### Algoritmo de creacion propia con TEC <a class=\"anchor\" id=\"10\"></a>"
   ]
  },
  {
   "cell_type": "code",
   "execution_count": null,
   "metadata": {},
   "outputs": [],
   "source": [
    "def classification_tree(Data_set, iterations_vector, k, Y_categories) :\n",
    "\n",
    "# POR AHORA SOLO GENERA 4 ITERACIONES EN EL ARBOL --> iterations_vector = range(1,5) como mucho (=[1,2,3,4])\n",
    "\n",
    "# Data_set tiene que ser tal que, su columna 0 sea Y, y la j-esima sea la variable Xj , para j=1,...,p\n",
    "\n",
    "# Si se quiere que el arbol tenga como mucho 3 iteraciones --> iterations_vector = range(1,4) = [1,2,3]\n",
    "\n",
    "# Si Y tiene como categorias 0,1,2 --> Y_categories = range(0,3)\n",
    "\n",
    "# k = numero de obsrevaciones minimas por rama del arbol --> criterio de parada\n",
    "\n",
    "########################################################################\n",
    "    \n",
    "    def s_values(j, Data_set):\n",
    "\n",
    "        s_values = []\n",
    "\n",
    "        if  (Data_set.dtypes[j] != 'float64') & (Data_set.dtypes[j] != 'int64') : # Para las variables categoricas s_value sera simplemente su rango.\n",
    "\n",
    "            s_values = Data_set.sort_values(by=[Data_set.columns[j]], axis=0, ascending=True, ignore_index=True).iloc[:, j].unique()\n",
    "\n",
    "\n",
    "        elif (Data_set.dtypes[j] == 'float64') | (Data_set.dtypes[j] == 'int64') :\n",
    "\n",
    "            Xj_sorted = Data_set.sort_values(by=[Data_set.columns[j]], axis=0, ascending=True, ignore_index=True).iloc[:, j].unique()\n",
    "\n",
    "        \n",
    "            for i in range(0, len(Xj_sorted)-1):\n",
    "\n",
    "                s_values.append( (Xj_sorted[i] + Xj_sorted[i+1] ) / 2  )\n",
    "\n",
    "    \n",
    "        return s_values\n",
    "\n",
    "\n",
    "########################################################################  \n",
    "\n",
    "   ## ITERACION 1\n",
    "\n",
    "    if iterations_vector[0] == 1 : # nacimiento del arbol\n",
    "\n",
    "        \n",
    "        ###################################\n",
    "        \n",
    "        def f_R11(j, s, r, Data_set):\n",
    "\n",
    "           # Verificando si se cumplen las siguientes dos condiciones conjuntamente nos garantizamos que todas las ramas tienes observaciones de train. \n",
    "           # Es decir, no habra ninguna rama sin observaciones de train que caigan en ella.\n",
    "\n",
    "            cond_R11 = len(Data_set.loc[ (Data_set.iloc[:, j] < s) , : ] )\n",
    "\n",
    "            if  cond_R11 != 0 :\n",
    "\n",
    "                f_R11 = len( Data_set.loc[ (Data_set.iloc[:, j] < s) & (Data_set.loc[:, 'Y'] == r) , : ] ) / len( Data_set.loc[ (Data_set.iloc[:, j] < s) , : ] )\n",
    "\n",
    "            \n",
    "            elif cond_R11 == 0 :\n",
    "\n",
    "                f_R11 = 0\n",
    "\n",
    "            \n",
    "            return f_R11 \n",
    "\n",
    "        ######################################\n",
    "\n",
    "        def f_R21(j, s, r, Data_set):\n",
    "\n",
    "            cond_R21 = len(Data_set.loc[ (Data_set.iloc[:, j] >= s) , : ] )\n",
    "\n",
    "            if cond_R21 != 0 :\n",
    "\n",
    "                f_R21 = len( Data_set.loc[ (Data_set.iloc[:, j] >= s) & (Data_set.loc[:, 'Y'] == r) , : ] ) / len( Data_set.loc[ (Data_set.iloc[:, j] >= s) , : ] )\n",
    "            \n",
    "            elif cond_R21 == 0 :\n",
    "\n",
    "                f_R21 = 0\n",
    "\n",
    "            \n",
    "            return f_R21 \n",
    "\n",
    "\n",
    "        ###################################\n",
    "\n",
    "        TEC_vector = []\n",
    "        j_vector = []\n",
    "        s_vector = []\n",
    "\n",
    "        j_star_vector = []\n",
    "        s_star_vector = []\n",
    "        TEC_star_vector = []\n",
    "\n",
    "        for j in range(1, Data_set.shape[1]) :\n",
    "\n",
    "            for s in s_values(j, Data_set) :\n",
    "\n",
    "                # Busqueda de r_star_R11 :\n",
    "\n",
    "                f_R11_r_vector = []\n",
    "\n",
    "                for r in Y_categories:  # Si Y tiene como categorias 0,1,2 --> Y_categories = range(0,3)\n",
    "\n",
    "                    f_R11_r_vector.append( f_R11(j, s, r , Data_set) )\n",
    "\n",
    "                f_R11_df = pd.DataFrame({'r':Y_categories  , 'f_R11':f_R11_r_vector })\n",
    "        \n",
    "                f_R11_df_sorted = f_R11_df.sort_values(by=['f_R11'], axis=0, ascending=False, ignore_index=True)\n",
    "\n",
    "                r_star_R11 = f_R11_df_sorted.loc[0, 'r']\n",
    "\n",
    "\n",
    "                # Busqueda de r_star_R21 :\n",
    "\n",
    "                f_R21_r_vector = []\n",
    "\n",
    "                for r in Y_categories:  # Si Y tiene como categorias 0,1,2 --> Y_categories = range(0,3)\n",
    "\n",
    "                    f_R21_r_vector.append( f_R21(j, s, r , Data_set) )\n",
    "\n",
    "                f_R21_df = pd.DataFrame({'r':Y_categories  , 'f_R21':f_R21_r_vector })\n",
    "        \n",
    "                f_R21_df_sorted = f_R21_df.sort_values(by=['f_R21'], axis=0, ascending=False, ignore_index=True)\n",
    "\n",
    "                r_star_R21 = f_R21_df_sorted.loc[0, 'r']\n",
    "\n",
    "\n",
    "                # Calculo de TEC_1 para la combinacion (j, s) dada:\n",
    "\n",
    "                TEC_1 = 1- f_R11(j, s, r_star_R11, Data_set) + 1- f_R21(j, s, r_star_R21, Data_set)\n",
    "\n",
    "                TEC_vector.append(TEC_1)\n",
    "                j_vector.append(j)\n",
    "                s_vector.append(s)\n",
    "\n",
    "\n",
    "        # Busqueda de j_star y s_star de la itracion 1:\n",
    "\n",
    "        TEC_df = pd.DataFrame({'TEC':TEC_vector, 'j':j_vector, 's':s_vector})\n",
    "\n",
    "        TEC_df_sorted = TEC_df.sort_values(by=['TEC'], axis=0, ascending=True, ignore_index=True)\n",
    "\n",
    "        s_star_vector.append( TEC_df_sorted.loc[0, 's'] )\n",
    "        j_star_vector.append( TEC_df_sorted.loc[0, 'j'] )\n",
    "        TEC_star_vector.append(TEC_df_sorted.loc[0, 'TEC'])\n",
    "\n",
    "        # OJO: s_star_vector[i] sera el s_star de la iteracion i+1 , para i=0,1,...\n",
    "        # OJO: j_star_vector[i] sera el j_star de la iteracion i+1 , para i=0,1,...    \n",
    "        \n",
    "      ###################################\n",
    "\n",
    "        # Condicion de parada:\n",
    "\n",
    "        obs_r11 = len( Data_set.loc[ Data_set.iloc[:, j_star_vector[0] ] < s_star_vector[0] , : ] )\n",
    "        obs_r21 = len( Data_set.loc[ Data_set.iloc[:, j_star_vector[0] ] >= s_star_vector[0] , : ] )\n",
    "\n",
    "        if(obs_r11 < k) | (obs_r21 < k) : # Si se cumple el criterio de parada\n",
    "\n",
    "\n",
    "            print('El arbol final es el arbol con 1 Iteracion. Se ha cumplido el criterio de parada basado en numero minimo', k ,'de observaciones por rama')\n",
    "\n",
    "            number_iterations=1\n",
    "\n",
    "            obs_ramas = [obs_r11 , obs_r21]\n",
    "\n",
    "       \n",
    "            ###################\n",
    "            \n",
    "            return(number_iterations, j_star_vector, s_star_vector, TEC_star_vector, obs_ramas ) \n",
    "\n",
    "            ###################\n",
    "\n",
    "        elif (obs_r11 >= k) & (obs_r21 >= k) : # No se cumple el criterio de parada\n",
    "\n",
    "            pass\n",
    "\n",
    "\n",
    "######################################################################################\n",
    "\n",
    "    ## ITERACION 2   ·········· POR MODIFICAR !! ·············\n",
    "\n",
    "    if iterations_vector[1] == 2 :  # Desarrollar nodo R1 de la 1ª iteracion\n",
    "\n",
    "        ################################################################\n",
    "\n",
    "\n",
    "        def f_R12(j, s, r, Data_set):\n",
    "\n",
    "           # Verificando si se cumplen las siguientes dos condiciones conjuntamente nos garantizamos que todas las ramas tienes observaciones de train. \n",
    "           # Es decir, no habra ninguna rama sin observaciones de train que caigan en ella.\n",
    "\n",
    "            cond_R12 = len( Data_set.loc[ (Data_set.iloc[:, j_star_vector[0]] < s_star_vector[0]) & (Data_set.iloc[:, j] < s) , : ] ) \n",
    "\n",
    "            if  cond_R12 != 0 :\n",
    "\n",
    "                f_R12 = len( Data_set.loc[ (Data_set.iloc[:, j_star_vector[0]] < s_star_vector[0]) & (Data_set.iloc[:, j] < s) & (Data_set.loc[:, 'Y'] == r) , : ] ) / cond_R12\n",
    "\n",
    "            \n",
    "            elif cond_R12 == 0 :\n",
    "\n",
    "                f_R12 = 0\n",
    "\n",
    "            \n",
    "            return f_R12 \n",
    "\n",
    "        #########\n",
    "\n",
    "        def f_R22(j, s, r, Data_set):\n",
    "\n",
    "           # Verificando si se cumplen las siguientes dos condiciones conjuntamente nos garantizamos que todas las ramas tienes observaciones de train. \n",
    "           # Es decir, no habra ninguna rama sin observaciones de train que caigan en ella.\n",
    "\n",
    "            cond_R22 = len( Data_set.loc[ (Data_set.iloc[:, j_star_vector[0]] < s_star_vector[0]) & (Data_set.iloc[:, j] >= s) , : ] ) \n",
    "\n",
    "            if  cond_R22 != 0 :\n",
    "\n",
    "                f_R22 = len( Data_set.loc[ (Data_set.iloc[:, j_star_vector[0]] < s_star_vector[0]) & (Data_set.iloc[:, j] >= s) & (Data_set.loc[:, 'Y'] == r) , : ] ) / cond_R22\n",
    "\n",
    "            \n",
    "            elif cond_R22 == 0 :\n",
    "\n",
    "                f_R22 = 0\n",
    "\n",
    "            \n",
    "            return f_R22 \n",
    "\n",
    "\n",
    "        ###################################\n",
    "\n",
    "        TEC_vector = []\n",
    "        j_vector = []\n",
    "        s_vector = []\n",
    "\n",
    "\n",
    "        for j in range(1, Data_set.shape[1]) :\n",
    "\n",
    "            for s in s_values(j, Data_set) :\n",
    "\n",
    "                # Busqueda de r_star_R12 :\n",
    "\n",
    "                f_R12_r_vector = []\n",
    "\n",
    "                for r in Y_categories :  # Si Y tiene como categorias 0,1,2 --> Y_categories = range(0,3)\n",
    "\n",
    "                    f_R12_r_vector.append( f_R12(j, s, r , Data_set) )\n",
    "\n",
    "                f_R12_df = pd.DataFrame({'r':Y_categories  , 'f_R12':f_R11_r_vector })\n",
    "        \n",
    "                f_R12_df_sorted = f_R12_df.sort_values(by=['f_R12'], axis=0, ascending=False, ignore_index=True)\n",
    "\n",
    "                r_star_R12 = f_R11_df_sorted.loc[0, 'r']\n",
    "\n",
    "\n",
    "                # Busqueda de r_star_R22 :\n",
    "\n",
    "                f_R22_r_vector = []\n",
    "\n",
    "                for r in Y_categories:  # Si Y tiene como categorias 0,1,2 --> Y_categories = range(0,3)\n",
    "\n",
    "                    f_R22_r_vector.append( f_R22(j, s, r , Data_set) )\n",
    "\n",
    "                f_R22_df = pd.DataFrame({'r':Y_categories , 'f_R22':f_R21_r_vector })\n",
    "        \n",
    "                f_R22_df_sorted = f_R22_df.sort_values(by=['f_R22'], axis=0, ascending=False, ignore_index=True)\n",
    "\n",
    "                r_star_R22 = f_R22_df_sorted.loc[0, 'r']\n",
    "\n",
    "\n",
    "                # Calculo de TEC_1 para la combinacion (j, s) dada:\n",
    "\n",
    "                TEC_1 = 1- f_R22(j, s, r_star_R12, Data_set) + 1- f_R22(j, s, r_star_R22, Data_set)\n",
    "\n",
    "                TEC_vector.append(TEC_1)\n",
    "                j_vector.append(j)\n",
    "                s_vector.append(s)\n",
    "\n",
    "\n",
    "        # Busqueda de j_star y s_star de la itracion 1:\n",
    "\n",
    "        TEC_df = pd.DataFrame({'TEC':TEC_vector, 'j':j_vector, 's':s_vector})\n",
    "\n",
    "        TEC_df_sorted = TEC_df.sort_values(by=['TEC'], axis=0, ascending=True, ignore_index=True)\n",
    "\n",
    "        s_star_vector.append( TEC_df_sorted.loc[0, 's'] )\n",
    "        j_star_vector.append( TEC_df_sorted.loc[0, 'j'] )\n",
    "        TEC_star_vector.append(TEC_df_sorted.loc[0, 'TEC'])\n",
    "\n",
    "        # OJO: s_star_vector[i] sera el s_star de la iteracion i+1 , para i=0,1,...\n",
    "        # OJO: j_star_vector[i] sera el j_star de la iteracion i+1 , para i=0,1,... \n",
    "\n",
    "\n",
    "      ###################################\n",
    "\n",
    "        # Condicion de parada:\n",
    "\n",
    "        obs_r12 = len( Data_set.loc[ (Data_set.iloc[:, j_star_vector[0] ] < s_star_vector[0]) & (Data_set.iloc[:, j_star_vector[1]] < s_star_vector[1]) , : ] )\n",
    "        obs_r22 = len( Data_set.loc[ (Data_set.iloc[:, j_star_vector[0] ] < s_star_vector[0]) & (Data_set.iloc[:, j_star_vector[1]] >= s_star_vector[1]) , : ] )\n",
    "        obs_r32 = len( Data_set.loc[ (Data_set.iloc[:, j_star_vector[0] ] >= s_star_vector[0]) , : ] )\n",
    "\n",
    "        if(obs_r12 < k) | (obs_r22 < k) : # Si se cumple el criterio de parada\n",
    "\n",
    "\n",
    "            print('El arbol final es el arbol con 2 Iteracion. Se ha cumplido el criterio de parada basado en numero minimo', k ,'de observaciones por rama')\n",
    "\n",
    "            number_iterations=2\n",
    "            \n",
    "            obs_ramas = [obs_r12 , obs_r22, obs_r32]\n",
    "\n",
    "        \n",
    "            ###################\n",
    "            \n",
    "            return(number_iterations, j_star_vector, s_star_vector, TEC_star_vector, obs_ramas ) \n",
    "\n",
    "            ###################\n",
    "\n",
    "\n",
    "        elif (obs_r12 >= k) & (obs_r22 >= k) : # No se cumple el criterio de parada\n",
    "\n",
    "            pass\n",
    "\n",
    "\n",
    "\n",
    "####################################################################################\n",
    "\n",
    "## ITERACION 3\n",
    "\n",
    "    if iterations_vector[2] == 3 :  # Desarrollar nodo R2 de la 1ª iteracion -->  considerar j_star_vector[0] y s_star_vector[0] (1ª iteracion) y >= (R2)\n",
    "\n",
    "       #########################################\n",
    "\n",
    "        def f_R33(j, s, r, Data_set):\n",
    "\n",
    "           # Verificando si se cumplen las siguientes dos condiciones conjuntamente nos garantizamos que todas las ramas tienes observaciones de train. \n",
    "           # Es decir, no habra ninguna rama sin observaciones de train que caigan en ella.\n",
    "\n",
    "            cond_R33 = len( Data_set.loc[ (Data_set.iloc[:, j_star_vector[0]] >= s_star_vector[0]) & (Data_set.iloc[:, j] < s) , : ] ) \n",
    "\n",
    "            if  cond_R33 != 0 :\n",
    "\n",
    "                f_R33 = len( Data_set.loc[ (Data_set.iloc[:, j_star_vector[0]] >= s_star_vector[0]) & (Data_set.iloc[:, j] < s) & (Data_set.loc[:, 'Y'] == r) , : ] ) / cond_R33\n",
    "\n",
    "            \n",
    "            elif cond_R33 == 0 :\n",
    "\n",
    "                f_R33 = 0\n",
    "            \n",
    "            return f_R33\n",
    "\n",
    "        #########\n",
    "\n",
    "        def f_R43(j, s, r, Data_set):\n",
    "\n",
    "           # Verificando si se cumplen las siguientes dos condiciones conjuntamente nos garantizamos que todas las ramas tienes observaciones de train. \n",
    "           # Es decir, no habra ninguna rama sin observaciones de train que caigan en ella.\n",
    "\n",
    "            cond_R43 = len( Data_set.loc[ (Data_set.iloc[:, j_star_vector[0]] >= s_star_vector[0]) & (Data_set.iloc[:, j] >= s) , : ] ) \n",
    "\n",
    "            if  cond_R43 != 0 :\n",
    "\n",
    "                f_R43 = len( Data_set.loc[ (Data_set.iloc[:, j_star_vector[0]] >= s_star_vector[0]) & (Data_set.iloc[:, j] >= s) & (Data_set.loc[:, 'Y'] == r) , : ] ) / cond_R43\n",
    "\n",
    "            \n",
    "            elif cond_R43 == 0 :\n",
    "\n",
    "                f_R43 = 0\n",
    "\n",
    "            \n",
    "            return f_R43 \n",
    "\n",
    "        \n",
    "        ###################################\n",
    "\n",
    "        TEC_vector = []\n",
    "        j_vector = []\n",
    "        s_vector = []\n",
    "\n",
    "\n",
    "        for j in range(1, Data_set.shape[1]) :\n",
    "\n",
    "            for s in s_values(j, Data_set) :\n",
    "\n",
    "                # Busqueda de r_star_R11 :\n",
    "\n",
    "                f_R33_r_vector = []\n",
    "\n",
    "                for r in Y_categories :  # Si Y tiene como categorias 0,1,2 --> Y_categories = range(0,3)\n",
    "\n",
    "                    f_R33_r_vector.append( f_R33(j, s, r , Data_set) )\n",
    "\n",
    "                f_R33_df = pd.DataFrame({'r':Y_categories  , 'f_R33':f_R11_r_vector })\n",
    "        \n",
    "                f_R33_df_sorted = f_R33_df.sort_values(by=['f_R33'], axis=0, ascending=False, ignore_index=True)\n",
    "\n",
    "                r_star_R33 = f_R11_df_sorted.loc[0, 'r']\n",
    "\n",
    "\n",
    "                # Busqueda de r_star_R21 :\n",
    "\n",
    "                f_R43_r_vector = []\n",
    "\n",
    "                for r in Y_categories:  # Si Y tiene como categorias 0,1,2 --> Y_categories = range(0,3)\n",
    "\n",
    "                    f_R43_r_vector.append( f_R43(j, s, r , Data_set) )\n",
    "\n",
    "                f_R43_df = pd.DataFrame({'r':Y_categories  , 'f_R43':f_R21_r_vector })\n",
    "        \n",
    "                f_R43_df_sorted = f_R43_df.sort_values(by=['f_R43'], axis=0, ascending=False, ignore_index=True)\n",
    "\n",
    "                r_star_R43 = f_R43_df_sorted.loc[0, 'r']\n",
    "\n",
    "\n",
    "                # Calculo de TEC_1 para la combinacion (j, s) dada:\n",
    "\n",
    "                TEC_1 = 1- f_R33(j, s, r_star_R33, Data_set) + 1- f_R43(j, s, r_star_R43, Data_set)\n",
    "\n",
    "                TEC_vector.append(TEC_1)\n",
    "                j_vector.append(j)\n",
    "                s_vector.append(s)\n",
    "\n",
    "\n",
    "        # Busqueda de j_star y s_star de la itracion 1:\n",
    "\n",
    "        TEC_df = pd.DataFrame({'TEC':TEC_vector, 'j':j_vector, 's':s_vector})\n",
    "\n",
    "        TEC_df_sorted = TEC_df.sort_values(by=['TEC'], axis=0, ascending=True, ignore_index=True)\n",
    "\n",
    "        s_star_vector.append( TEC_df_sorted.loc[0, 's'] )\n",
    "        j_star_vector.append( TEC_df_sorted.loc[0, 'j'] )\n",
    "        TEC_star_vector.append(TEC_df_sorted.loc[0, 'TEC'])\n",
    "\n",
    "        # OJO: s_star_vector[i] sera el s_star de la iteracion i+1 , para i=0,1,...\n",
    "        # OJO: j_star_vector[i] sera el j_star de la iteracion i+1 , para i=0,1,... \n",
    "\n",
    "\n",
    "      ###################################\n",
    "\n",
    "        # Condicion de parada:\n",
    "\n",
    "        obs_r13 = len( Data_set.loc[ (Data_set.iloc[:, j_star_vector[0] ] < s_star_vector[0]) & (Data_set.iloc[:, j_star_vector[1]] < s_star_vector[1]) , : ] )\n",
    "        obs_r23 = len( Data_set.loc[ (Data_set.iloc[:, j_star_vector[0] ] < s_star_vector[0]) & (Data_set.iloc[:, j_star_vector[1]] >= s_star_vector[1]) , : ] )\n",
    "\n",
    "        obs_r33 = len( Data_set.loc[ (Data_set.iloc[:, j_star_vector[0] ] >= s_star_vector[0]) & (Data_set.iloc[:, j_star_vector[2]] < s_star_vector[2]) , : ] )\n",
    "        obs_r43 = len( Data_set.loc[ (Data_set.iloc[:, j_star_vector[0] ] >= s_star_vector[0]) & (Data_set.iloc[:, j_star_vector[2]] >= s_star_vector[2]) , : ] )\n",
    "\n",
    "\n",
    "        if(obs_r33 < k) | (obs_r43 < k) : # Si se cumple el criterio de parada\n",
    "\n",
    "\n",
    "            print('El arbol final es el arbol con 3 Iteracion. Se ha cumplido el criterio de parada basado en numero minimo', k ,'de observaciones por rama')\n",
    "\n",
    "            number_iterations = 3\n",
    "            \n",
    "            obs_ramas = [obs_r13, obs_r23, obs_r33 , obs_r43]\n",
    "\n",
    "            \n",
    "            ###################\n",
    "            \n",
    "            return(number_iterations, j_star_vector, s_star_vector, TEC_star_vector, obs_ramas ) \n",
    "\n",
    "            ###################\n",
    "\n",
    "\n",
    "        elif (obs_r33 >= k) & (obs_r43 >= k) : # No se cumple el criterio de parada\n",
    "\n",
    "            pass\n",
    "\n",
    "    #######################\n",
    "\n",
    "\n",
    "    ## ITERACION 4\n",
    "\n",
    "    if iterations_vector[3] == 4 :  \n",
    "\n",
    "       #########################################\n",
    "\n",
    "       #########################################\n",
    "\n",
    "        def f_R14(j, s, r, Data_set):\n",
    "\n",
    "           # Verificando si se cumplen las siguientes dos condiciones conjuntamente nos garantizamos que todas las ramas tienes observaciones de train. \n",
    "           # Es decir, no habra ninguna rama sin observaciones de train que caigan en ella.\n",
    "\n",
    "            cond_R14 = len( Data_set.loc[ (Data_set.iloc[:, j_star_vector[0]] < s_star_vector[0]) & (Data_set.iloc[:, j_star_vector[1]] < s_star_vector[1]) & (Data_set.iloc[:, j] < s) , : ] ) \n",
    "\n",
    "            if  cond_R14 != 0 :\n",
    "\n",
    "                f_R14 = len( Data_set.loc[ (Data_set.iloc[:, j_star_vector[0]] < s_star_vector[0]) & (Data_set.iloc[:, j_star_vector[1]] < s_star_vector[1]) & (Data_set.iloc[:, j] < s) & (Data_set.loc[:, 'Y'] == r) , : ] ) / cond_R14\n",
    "\n",
    "            \n",
    "            elif cond_R14 == 0 :\n",
    "\n",
    "                f_R14 = 0\n",
    "\n",
    "            \n",
    "            return f_R14 \n",
    "\n",
    "        #########\n",
    "\n",
    "        def f_R24(j, s, r, Data_set):\n",
    "\n",
    "           # Verificando si se cumplen las siguientes dos condiciones conjuntamente nos garantizamos que todas las ramas tienes observaciones de train. \n",
    "           # Es decir, no habra ninguna rama sin observaciones de train que caigan en ella.\n",
    "\n",
    "            cond_R24 = len( Data_set.loc[ (Data_set.iloc[:, j_star_vector[0]] < s_star_vector[0]) & (Data_set.iloc[:, j_star_vector[1]] < s_star_vector[1]) & (Data_set.iloc[:, j] >= s) , : ] ) \n",
    "\n",
    "            if  cond_R24 != 0 :\n",
    "\n",
    "                f_R24 = len( Data_set.loc[ (Data_set.iloc[:, j_star_vector[0]] < s_star_vector[0]) & (Data_set.iloc[:, j_star_vector[1]] < s_star_vector[1]) & (Data_set.iloc[:, j] >= s) & (Data_set.loc[:, 'Y'] == r) , : ] ) / cond_R24\n",
    "\n",
    "            \n",
    "            elif cond_R24 == 0 :\n",
    "\n",
    "                f_R24 = 0\n",
    "\n",
    "            \n",
    "            return f_R24 \n",
    "\n",
    "\n",
    " ###################################\n",
    "\n",
    "        TEC_vector = []\n",
    "        j_vector = []\n",
    "        s_vector = []\n",
    "\n",
    "\n",
    "        for j in range(1, Data_set.shape[1]) :\n",
    "\n",
    "            for s in s_values(j, Data_set) :\n",
    "\n",
    "                # Busqueda de r_star_R11 :\n",
    "\n",
    "                f_R14_r_vector = []\n",
    "\n",
    "                for r in Y_categories :  # Si Y tiene como categorias 0,1,2 --> Y_categories = range(0,3)\n",
    "\n",
    "                    f_R14_r_vector.append( f_R14(j, s, r , Data_set) )\n",
    "\n",
    "                f_R14_df = pd.DataFrame({'r':Y_categories  , 'f_R14':f_R11_r_vector })\n",
    "        \n",
    "                f_R14_df_sorted = f_R14_df.sort_values(by=['f_R14'], axis=0, ascending=False, ignore_index=True)\n",
    "\n",
    "                r_star_R14 = f_R11_df_sorted.loc[0, 'r']\n",
    "\n",
    "\n",
    "                # Busqueda de r_star_R21 :\n",
    "\n",
    "                f_R24_r_vector = []\n",
    "\n",
    "                for r in Y_categories:  # Si Y tiene como categorias 0,1,2 --> Y_categories = range(0,3)\n",
    "\n",
    "                    f_R24_r_vector.append( f_R24(j, s, r , Data_set) )\n",
    "\n",
    "                f_R24_df = pd.DataFrame({'r':Y_categories  , 'f_R24':f_R21_r_vector })\n",
    "        \n",
    "                f_R24_df_sorted = f_R24_df.sort_values(by=['f_R24'], axis=0, ascending=False, ignore_index=True)\n",
    "\n",
    "                r_star_R24 = f_R24_df_sorted.loc[0, 'r']\n",
    "\n",
    "\n",
    "                # Calculo de TEC_1 para la combinacion (j, s) dada:\n",
    "\n",
    "                TEC_1 = 1- f_R14(j, s, r_star_R14, Data_set) + 1- f_R24(j, s, r_star_R24, Data_set)\n",
    "\n",
    "                TEC_vector.append(TEC_1)\n",
    "                j_vector.append(j)\n",
    "                s_vector.append(s)\n",
    "\n",
    "\n",
    "        # Busqueda de j_star y s_star de la itracion 1:\n",
    "\n",
    "        TEC_df = pd.DataFrame({'TEC':TEC_vector, 'j':j_vector, 's':s_vector})\n",
    "\n",
    "        TEC_df_sorted = TEC_df.sort_values(by=['TEC'], axis=0, ascending=True, ignore_index=True)\n",
    "\n",
    "        s_star_vector.append( TEC_df_sorted.loc[0, 's'] )\n",
    "        j_star_vector.append( TEC_df_sorted.loc[0, 'j'] )\n",
    "        TEC_star_vector.append(TEC_df_sorted.loc[0, 'TEC'])\n",
    "\n",
    "        # OJO: s_star_vector[i] sera el s_star de la iteracion i+1 , para i=0,1,...\n",
    "        # OJO: j_star_vector[i] sera el j_star de la iteracion i+1 , para i=0,1,...        \n",
    "\n",
    "\n",
    "      ###################################\n",
    "\n",
    "        # Condicion de parada:\n",
    "\n",
    "        obs_r14 = len( Data_set.loc[ (Data_set.iloc[:, j_star_vector[0] ] < s_star_vector[0]) & (Data_set.iloc[:, j_star_vector[1]] < s_star_vector[1]) & (Data_set.iloc[:, j_star_vector[3]] < s_star_vector[3]) , : ] )\n",
    "        obs_r24 = len( Data_set.loc[ (Data_set.iloc[:, j_star_vector[0] ] < s_star_vector[0]) & (Data_set.iloc[:, j_star_vector[1]] < s_star_vector[1]) & (Data_set.iloc[:, j_star_vector[3]] >= s_star_vector[3]) , : ] )\n",
    "\n",
    "        obs_r34 = len( Data_set.loc[ (Data_set.iloc[:, j_star_vector[0] ] < s_star_vector[0]) & (Data_set.iloc[:, j_star_vector[1]] >= s_star_vector[1]) , : ] )\n",
    "        obs_r44 = len( Data_set.loc[ (Data_set.iloc[:, j_star_vector[0] ] >= s_star_vector[0]) & (Data_set.iloc[:, j_star_vector[2]] < s_star_vector[2]) , : ] )\n",
    "        obs_r54 = len( Data_set.loc[ (Data_set.iloc[:, j_star_vector[0] ] >= s_star_vector[0]) & (Data_set.iloc[:, j_star_vector[2]] >= s_star_vector[2]) , : ] )\n",
    "\n",
    "\n",
    "        if(obs_r14 < k) | (obs_r24 < k) : # Si se cumple el criterio de parada\n",
    "\n",
    "\n",
    "            print('El arbol final es el arbol con 3 Iteracion. Se ha cumplido el criterio de parada basado en numero minimo', k ,'de observaciones por rama')\n",
    "\n",
    "            number_iterations = 4\n",
    "            \n",
    "            obs_ramas = [obs_r14, obs_r24, obs_r34 , obs_r44, obs_r54]\n",
    "\n",
    "            \n",
    "            ###################\n",
    "            \n",
    "            return(number_iterations, j_star_vector, s_star_vector, TEC_star_vector, obs_ramas ) \n",
    "\n",
    "            ###################\n",
    "\n",
    "\n",
    "        elif (obs_r14 >= k) & (obs_r24 >= k) : # No se cumple el criterio de parada\n",
    "\n",
    "            print('Se ha generado el arbol mas grande permitido por el algoritmo (arbol con 4 Iteraciones)')\n",
    "\n",
    "        # Aunque no se haya cummplido el criterio de parada como esta es la ultima Iteracion contemplada por el algoritmo, \n",
    "        # debemos calcular las metricas finales para que sean escupidas por el algoritmo. \n",
    "            \n",
    "            number_iterations=4\n",
    "            \n",
    "            obs_ramas = [obs_r14, obs_r24, obs_r34, obs_r44, obs_r54]\n",
    "\n",
    "            \n",
    "              \n",
    "            pass\n",
    "\n",
    "    #######################\n",
    "        \n",
    "   \n",
    "    return( number_iterations, j_star_vector, s_star_vector, TEC_star_vector, obs_ramas ) \n"
   ]
  },
  {
   "cell_type": "markdown",
   "metadata": {},
   "source": []
  },
  {
   "cell_type": "markdown",
   "metadata": {},
   "source": [
    "Definimos una funcion para obtener predicciones de la respuesta:"
   ]
  },
  {
   "cell_type": "code",
   "execution_count": null,
   "metadata": {},
   "outputs": [],
   "source": [
    "def classification_tree_PREDICTIONS(Data_set, Y_categories, number_iterations, j_star_vector, s_star_vector, obs_ramas, x_new):\n",
    "\n",
    "    if number_iterations == 1 :\n",
    "\n",
    "            obs_r11 = obs_ramas[0]\n",
    "            obs_r21 = obs_ramas[1]\n",
    "\n",
    "\n",
    "        ### Prediccion:\n",
    "\n",
    "            # Si x_new cae en R11 \n",
    "\n",
    "            if x_new[j_star_vector[0] - 1] < s_star_vector[0] :  # Ojo: el elemento j-1 de x_new es el valor de X_{j} , con j=1,2,...\n",
    "\n",
    "                \n",
    "                def f_R11(r, Data_set):\n",
    "\n",
    "                    cond_R11 = len(Data_set.loc[ (Data_set.iloc[:, j_star_vector[0]] < s_star_vector[0]) , : ] )\n",
    "\n",
    "                    if  cond_R11 != 0 :\n",
    "\n",
    "                        f_R11 = len( Data_set.loc[  (Data_set.iloc[:, j_star_vector[0]] < s_star_vector[0]) & (Data_set.loc[:, 'Y'] == r) , : ] ) / cond_R11\n",
    "\n",
    "            \n",
    "                    elif cond_R11 == 0 :\n",
    "\n",
    "                        f_R11 = 0\n",
    " \n",
    "            \n",
    "                    return f_R11\n",
    "                \n",
    "\n",
    "\n",
    "                # Busqueda de r_star_R11 :\n",
    "\n",
    "                f_R11_r_vector = []\n",
    "\n",
    "                for r in Y_categories :  # Si Y tiene como categorias 0,1,2 --> Y_categories = range(0,3)\n",
    "\n",
    "                    f_R11_r_vector.append( f_R11(r , Data_set) )\n",
    "\n",
    "                f_R11_df = pd.DataFrame({'r':Y_categories  , 'f_R11':f_R11_r_vector })\n",
    "        \n",
    "                f_R11_df_sorted = f_R11_df.sort_values(by=['f_R11'], axis=0, ascending=False, ignore_index=True)\n",
    "\n",
    "                r_star_R11 = f_R11_df_sorted.loc[0, 'r']\n",
    "\n",
    "                y_new_predict = r_star_R11 \n",
    "\n",
    "                \n",
    "                \n",
    "            # Si x_new cae en r21\n",
    "\n",
    "            elif x_new[j_star_vector[0] - 1] >= s_star_vector[0] :  \n",
    "                \n",
    "                \n",
    "                def f_R21(r, Data_set):\n",
    "\n",
    "                    cond_R21 = len(Data_set.loc[ (Data_set.iloc[:, j_star_vector[0]] >= s_star_vector[0]) , : ] )\n",
    "\n",
    "                    if cond_R21 != 0 :\n",
    "\n",
    "                        f_R21 = len( Data_set.loc[ (Data_set.iloc[:, j_star_vector[0]] >= s_star_vector[0]) & (Data_set.loc[:, 'Y'] == r) , : ] ) / cond_R21\n",
    "            \n",
    "                    elif cond_R21 == 0 :\n",
    "\n",
    "                        f_R21 = 0\n",
    "\n",
    "                    return f_R21\n",
    "\n",
    "            \n",
    "            # Busqueda de r_star_R21 :\n",
    "\n",
    "                f_R21_r_vector = []\n",
    "\n",
    "                for r in Y_categories :  # Si Y tiene como categorias 0,1,2 --> Y_categories = range(0,3)\n",
    "\n",
    "                    f_R21_r_vector.append( f_R21(r , Data_set) )\n",
    "\n",
    "                f_R21_df = pd.DataFrame({'r':Y_categories  , 'f_R21':f_R21_r_vector })\n",
    "        \n",
    "                f_R21_df_sorted = f_R21_df.sort_values(by=['f_R21'], axis=0, ascending=False, ignore_index=True)\n",
    "\n",
    "                r_star_R21 = f_R21_df_sorted.loc[0, 'r']\n",
    "\n",
    "                y_new_predict = r_star_R21 \n",
    "\n",
    "    ###################################       \n",
    "\n",
    "        \n",
    "    if number_iterations == 2 :\n",
    "\n",
    "            obs_r12 = obs_ramas[0]\n",
    "            obs_r22 = obs_ramas[1]\n",
    "            obs_r32 = obs_ramas[2]\n",
    "\n",
    "\n",
    "        ### Prediccion:\n",
    "\n",
    "            # Si x_new cae en R12\n",
    "           \n",
    "            if (x_new[j_star_vector[0] - 1] < s_star_vector[0]) & (x_new[j_star_vector[1] - 1] < s_star_vector[1]) :  # Ojo: el elemento j-1 de x_new es el valor de X_{j} , con j=1,2,...\n",
    "\n",
    "\n",
    "                def f_R12(r, Data_set):\n",
    "\n",
    " \n",
    "                    cond_R12 = len( Data_set.loc[ (Data_set.iloc[:, j_star_vector[0]] < s_star_vector[0]) & (Data_set.iloc[:, j_star_vector[1]] < s_star_vector[1]) , : ] ) \n",
    "\n",
    "                    if  cond_R12 != 0 :\n",
    "\n",
    "                        f_R12 = len( Data_set.loc[ (Data_set.iloc[:, j_star_vector[0]] < s_star_vector[0]) & (Data_set.iloc[:, j_star_vector[1]] < s_star_vector[1]) & (Data_set.loc[:, 'Y'] == r) , : ] ) / cond_R12\n",
    "\n",
    "            \n",
    "                    elif cond_R12 == 0 :\n",
    "\n",
    "                        f_R12 = 0\n",
    "\n",
    "                \n",
    "            # Busqueda de r_star_R12 :\n",
    "\n",
    "                f_R12_r_vector = []\n",
    "\n",
    "                for r in Y_categories :  # Si Y tiene como categorias 0,1,2 --> Y_categories = range(0,3)\n",
    "\n",
    "                    f_R12_r_vector.append( f_R12(r , Data_set) )\n",
    "\n",
    "                f_R12_df = pd.DataFrame({'r':Y_categories  , 'f_R12':f_R12_r_vector })\n",
    "        \n",
    "                f_R12_df_sorted = f_R12_df.sort_values(by=['f_R12'], axis=0, ascending=False, ignore_index=True)\n",
    "\n",
    "                r_star_R12 = f_R12_df_sorted.loc[0, 'r']\n",
    "\n",
    "\n",
    "                y_new_predict = r_star_R12\n",
    "\n",
    "\n",
    "\n",
    "            \n",
    "            # Si x_new cae en R22\n",
    "\n",
    "            elif (x_new[j_star_vector[0] - 1] < s_star_vector[0]) & (x_new[j_star_vector[1] - 1] >= s_star_vector[1])  :\n",
    "\n",
    "                \n",
    "                def f_R22(r, Data_set):\n",
    "\n",
    "                    cond_R22 = len( Data_set.loc[ (Data_set.iloc[:, j_star_vector[0]] < s_star_vector[0]) & (Data_set.iloc[:, j_star_vector[1]] >= s_star_vector[1]) , : ] ) \n",
    "\n",
    "                    if  cond_R22 != 0 :\n",
    "\n",
    "                        f_R22 = len( Data_set.loc[ (Data_set.iloc[:, j_star_vector[0]] < s_star_vector[0]) & (Data_set.iloc[:, j_star_vector[1]] >= s_star_vector[1]) & (Data_set.loc[:, 'Y'] == r) , : ] ) / cond_R22\n",
    "\n",
    "            \n",
    "                    elif cond_R22 == 0 :\n",
    "\n",
    "                        f_R22 = 0\n",
    "\n",
    "            \n",
    "                    return f_R22 \n",
    "\n",
    "                \n",
    "            # Busqueda de r_star_R22 :\n",
    "\n",
    "                f_R22_r_vector = []\n",
    "\n",
    "                for r in Y_categories :  # Si Y tiene como categorias 0,1,2 --> Y_categories = range(0,3)\n",
    "\n",
    "                    f_R22_r_vector.append( f_R22(r , Data_set) )\n",
    "\n",
    "                f_R22_df = pd.DataFrame({'r':Y_categories  , 'f_R22':f_R22_r_vector })\n",
    "        \n",
    "                f_R22_df_sorted = f_R22_df.sort_values(by=['f_R22'], axis=0, ascending=False, ignore_index=True)\n",
    "\n",
    "                r_star_R22 = f_R22_df_sorted.loc[0, 'r']\n",
    "\n",
    "\n",
    "                y_new_predict = r_star_R22\n",
    "\n",
    "\n",
    " \n",
    "\n",
    "            # Si x_new cae en R32\n",
    "\n",
    "            elif (x_new[j_star_vector[0] - 1] >= s_star_vector[0]) :\n",
    "\n",
    "                def f_R32(r, Data_set):\n",
    "\n",
    "                        cond_R32 = len( Data_set.loc[ (Data_set.iloc[:, j_star_vector[0]] >= s_star_vector[0]) , : ] ) \n",
    "\n",
    "                        if  cond_R32 != 0 :\n",
    "\n",
    "                            f_R32 = len( Data_set.loc[ (Data_set.iloc[:, j_star_vector[0]] >= s_star_vector[0]) & (Data_set.loc[:, 'Y'] == r) , : ] ) / cond_R32\n",
    "\n",
    "            \n",
    "                        elif cond_R32 == 0 :\n",
    "\n",
    "                            f_R32 = 0\n",
    "           \n",
    "                        return f_R32 \n",
    "\n",
    "                \n",
    "            # Busqueda de r_star_R32 :\n",
    "\n",
    "                f_R32_r_vector = []\n",
    "\n",
    "                for r in Y_categories :  # Si Y tiene como categorias 0,1,2 --> Y_categories = range(0,3)\n",
    "\n",
    "                    f_R32_r_vector.append( f_R32(r , Data_set) )\n",
    "\n",
    "                f_R32_df = pd.DataFrame({'r':Y_categories  , 'f_R32':f_R32_r_vector })\n",
    "        \n",
    "                f_R32_df_sorted = f_R22_df.sort_values(by=['f_R32'], axis=0, ascending=False, ignore_index=True)\n",
    "\n",
    "                r_star_R32 = f_R32_df_sorted.loc[0, 'r']\n",
    "\n",
    "\n",
    "                y_new_predict = r_star_R32\n",
    "\n",
    "\n",
    "        \n",
    "    if number_iterations == 3:\n",
    "\n",
    "            obs_r13 = obs_ramas[0]\n",
    "            obs_r23 = obs_ramas[1]\n",
    "            obs_r33 = obs_ramas[2]\n",
    "            obs_r43 = obs_ramas[3]\n",
    "\n",
    "        ### Prediccion:\n",
    "\n",
    "            # Si x_new cae en R13\n",
    "\n",
    "            if (x_new[j_star_vector[0] - 1] < s_star_vector[0]) & (x_new[j_star_vector[1] - 1] < s_star_vector[1]) :  # Ojo: el elemento j-1 de x_new es el valor de X_{j} , con j=1,2,...\n",
    "\n",
    "                def f_R13(r, Data_set):\n",
    "\n",
    "                    cond_R13 = len( Data_set.loc[ (Data_set.iloc[:, j_star_vector[0]] < s_star_vector[0]) & (Data_set.iloc[:, j_star_vector[1]] < s_star_vector[1]) , : ] ) \n",
    "\n",
    "                    if  cond_R13 != 0 :\n",
    "\n",
    "                        f_R13 = len( Data_set.loc[ (Data_set.iloc[:, j_star_vector[0]] >= s_star_vector[0]) & (Data_set.iloc[:, j_star_vector[1]] < s_star_vector[1]) & (Data_set.loc[:, 'Y'] == r) , : ] ) / cond_R13\n",
    "\n",
    "                    elif cond_R13 == 0 :\n",
    "\n",
    "                        f_R13 = 0\n",
    "\n",
    "                    return f_R13\n",
    "\n",
    "                \n",
    "            # Busqueda de r_star_R13\n",
    "\n",
    "                f_R13_r_vector = []\n",
    "\n",
    "                for r in Y_categories :  # Si Y tiene como categorias 0,1,2 --> Y_categories = range(0,3)\n",
    "\n",
    "                    f_R13_r_vector.append( f_R13(r , Data_set) )\n",
    "\n",
    "                f_R13_df = pd.DataFrame({'r':Y_categories  , 'f_R13':f_R13_r_vector })\n",
    "        \n",
    "                f_R13_df_sorted = f_R13_df.sort_values(by=['f_R13'], axis=0, ascending=False, ignore_index=True)\n",
    "\n",
    "                r_star_R13 = f_R13_df_sorted.loc[0, 'r']\n",
    "\n",
    "\n",
    "                y_new_predict = r_star_R13\n",
    "\n",
    "\n",
    "\n",
    "        # Si x_new cae en R23\n",
    "\n",
    "\n",
    "            if (x_new[j_star_vector[0] - 1] < s_star_vector[0]) & (x_new[j_star_vector[1] - 1] >= s_star_vector[1]) :  # Ojo: el elemento j-1 de x_new es el valor de X_{j} , con j=1,2,...\n",
    "\n",
    "                \n",
    "                def f_R23(r, Data_set):\n",
    "\n",
    "                    cond_R23 = len( Data_set.loc[ (Data_set.iloc[:, j_star_vector[0]] < s_star_vector[0]) & (Data_set.iloc[:, j_star_vector[1]] >= s_star_vector[1]) , : ] ) \n",
    "\n",
    "                    if  cond_R23 != 0 :\n",
    "\n",
    "                        f_R23 = len( Data_set.loc[ (Data_set.iloc[:, j_star_vector[0]] < s_star_vector[0]) & (Data_set.iloc[:, j_star_vector[1]] >= s_star_vector[1]) & (Data_set.loc[:, 'Y'] == r) , : ] ) / cond_R23\n",
    "\n",
    "                    elif cond_R23 == 0 :\n",
    "\n",
    "                        f_R23 = 0\n",
    "\n",
    "                    return f_R23\n",
    "\n",
    "                \n",
    "            # Busqueda de r_star_R23\n",
    "\n",
    "                f_R23_r_vector = []\n",
    "\n",
    "                for r in Y_categories :  # Si Y tiene como categorias 0,1,2 --> Y_categories = range(0,3)\n",
    "\n",
    "                    f_R23_r_vector.append( f_R23( r , Data_set) )\n",
    "\n",
    "                f_R23_df = pd.DataFrame({'r':Y_categories  , 'f_R23':f_R23_r_vector })\n",
    "        \n",
    "                f_R23_df_sorted = f_R23_df.sort_values(by=['f_R23'], axis=0, ascending=False, ignore_index=True)\n",
    "\n",
    "                r_star_R23 = f_R23_df_sorted.loc[0, 'r']\n",
    "\n",
    "\n",
    "                y_new_predict = r_star_R23\n",
    "\n",
    "\n",
    "\n",
    "        # Si x_new cae en R33\n",
    "\n",
    "            if (x_new[j_star_vector[0] - 1] >= s_star_vector[0]) & (x_new[j_star_vector[2] - 1] < s_star_vector[2]) :  # Ojo: el elemento j-1 de x_new es el valor de X_{j} , con j=1,2,...\n",
    "\n",
    "                def f_R33(r, Data_set):\n",
    "\n",
    "                        cond_R33 = len( Data_set.loc[ (Data_set.iloc[:, j_star_vector[0]] >= s_star_vector[0]) & (Data_set.iloc[:, j_star_vector[2]] < s_star_vector[2]) , : ] ) \n",
    "\n",
    "                        if  cond_R33 != 0 :\n",
    "\n",
    "                            f_R33 = len( Data_set.loc[ (Data_set.iloc[:, j_star_vector[0]] >= s_star_vector[0]) & (Data_set.iloc[:, j_star_vector[2]] < s_star_vector[2]) & (Data_set.loc[:, 'Y'] == r) , : ] ) / cond_R33\n",
    "\n",
    "                        elif cond_R33 == 0 :\n",
    "\n",
    "                            f_R33 = 0\n",
    "\n",
    "                        return f_R33\n",
    "\n",
    "                \n",
    "            # Busqueda de r_star_R33\n",
    "\n",
    "                f_R33_r_vector = []\n",
    "\n",
    "                for r in Y_categories :  # Si Y tiene como categorias 0,1,2 --> Y_categories = range(0,3)\n",
    "\n",
    "                    f_R33_r_vector.append( f_R33( r , Data_set) )\n",
    "\n",
    "                f_R33_df = pd.DataFrame({'r':Y_categories  , 'f_R33':f_R33_r_vector })\n",
    "        \n",
    "                f_R33_df_sorted = f_R33_df.sort_values(by=['f_R33'], axis=0, ascending=False, ignore_index=True)\n",
    "\n",
    "                r_star_R33 = f_R33_df_sorted.loc[0, 'r']\n",
    "\n",
    "\n",
    "                y_new_predict = r_star_R33         \n",
    "\n",
    "            \n",
    "\n",
    "        # Si x_new cae en R43\n",
    "\n",
    "            elif (x_new[j_star_vector[0] - 1] >= s_star_vector[0]) & (x_new[j_star_vector[2] - 1] >= s_star_vector[2])  :\n",
    "\n",
    "\n",
    "                def f_R43(r, Data_set):\n",
    "\n",
    "                        cond_R43 = len( Data_set.loc[ (Data_set.iloc[:, j_star_vector[0]] >= s_star_vector[0]) & (Data_set.iloc[:, j_star_vector[2]] >= s_star_vector[2]) , : ] ) \n",
    "\n",
    "                        if  cond_R43 != 0 :\n",
    "\n",
    "                            f_R43 = len( Data_set.loc[ (Data_set.iloc[:, j_star_vector[0]] >= s_star_vector[0]) & (Data_set.iloc[:, j_star_vector[2]] >= s_star_vector[2]) & (Data_set.loc[:, 'Y'] == r) , : ] ) / cond_R43\n",
    "\n",
    "                        elif cond_R43 == 0 :\n",
    "\n",
    "                            f_R43 = 0\n",
    "\n",
    "                        return f_R43\n",
    "\n",
    "                \n",
    "            # Busqueda de r_star_R33\n",
    "\n",
    "                f_R43_r_vector = []\n",
    "\n",
    "                for r in Y_categories :  # Si Y tiene como categorias 0,1,2 --> Y_categories = range(0,3)\n",
    "\n",
    "                    f_R43_r_vector.append( f_R43( r , Data_set) )\n",
    "\n",
    "                f_R43_df = pd.DataFrame({'r':Y_categories  , 'f_R43':f_R43_r_vector })\n",
    "        \n",
    "                f_R43_df_sorted = f_R43_df.sort_values(by=['f_R43'], axis=0, ascending=False, ignore_index=True)\n",
    "\n",
    "                r_star_R43 = f_R43_df_sorted.loc[0, 'r']\n",
    "\n",
    "\n",
    "                y_new_predict = r_star_R43\n",
    "\n",
    "\n",
    "    \n",
    "    if number_iterations == 4 :\n",
    "\n",
    "            obs_r14 = obs_ramas[0]\n",
    "            obs_r24 = obs_ramas[1]\n",
    "            obs_r34 = obs_ramas[2]\n",
    "            obs_r44 = obs_ramas[3]\n",
    "            obs_r54 = obs_ramas[4]\n",
    "\n",
    "\n",
    "         ### Prediccion:\n",
    "\n",
    "            # Si x_new cae en R14\n",
    "\n",
    "            if (x_new[j_star_vector[0] - 1] < s_star_vector[0]) & (x_new[j_star_vector[1] - 1] < s_star_vector[1]) & (x_new[j_star_vector[3] - 1] < s_star_vector[3]) :  # Ojo: el elemento j-1 de x_new es el valor de X_{j} , con j=1,2,...\n",
    "\n",
    "\n",
    "                def f_R14(r, Data_set):\n",
    "\n",
    "                        cond_R14 = len( Data_set.loc[ (Data_set.iloc[:, j_star_vector[0]] < s_star_vector[0]) & (Data_set.iloc[:, j_star_vector[1]] < s_star_vector[1]) & (Data_set.iloc[:, j_star_vector[3]] < s_star_vector[3]) , : ] ) \n",
    "\n",
    "                        if  cond_R14 != 0 :\n",
    "\n",
    "                            f_R14 = len( Data_set.loc[ (Data_set.iloc[:, j_star_vector[0]] < s_star_vector[0]) & (Data_set.iloc[:, j_star_vector[1]] < s_star_vector[1])  & (Data_set.iloc[:, j_star_vector[3]] < s_star_vector[3]) & (Data_set.loc[:, 'Y'] == r) , : ] ) / cond_R14\n",
    "\n",
    "                        elif cond_R14 == 0 :\n",
    "\n",
    "                            f_R14 = 0\n",
    "\n",
    "                        return f_R14\n",
    "\n",
    "                \n",
    "            # Busqueda de r_star_R14\n",
    "\n",
    "                f_R14_r_vector = []\n",
    "\n",
    "                for r in Y_categories :  # Si Y tiene como categorias 0,1,2 --> Y_categories = range(0,3)\n",
    "\n",
    "                    f_R14_r_vector.append( f_R14(r , Data_set) )\n",
    "\n",
    "                f_R14_df = pd.DataFrame({'r':Y_categories  , 'f_R14':f_R14_r_vector })\n",
    "        \n",
    "                f_R14_df_sorted = f_R14_df.sort_values(by=['f_R14'], axis=0, ascending=False, ignore_index=True)\n",
    "\n",
    "                r_star_R14 = f_R14_df_sorted.loc[0, 'r']\n",
    "\n",
    "\n",
    "                y_new_predict = r_star_R14\n",
    "\n",
    "\n",
    "\n",
    "\n",
    "            # Si x_new cae en R24\n",
    "\n",
    "\n",
    "            if (x_new[j_star_vector[0] - 1] < s_star_vector[0]) & (x_new[j_star_vector[1] - 1] < s_star_vector[1]) & (x_new[j_star_vector[3] - 1] >= s_star_vector[3]) :  # Ojo: el elemento j-1 de x_new es el valor de X_{j} , con j=1,2,...\n",
    "\n",
    "                def f_R24(r, Data_set):\n",
    "\n",
    "                        cond_R24 = len( Data_set.loc[ (Data_set.iloc[:, j_star_vector[0]] < s_star_vector[0]) & (Data_set.iloc[:, j_star_vector[1]] < s_star_vector[1]) & (Data_set.iloc[:, j_star_vector[3]] >= s_star_vector[3]) , : ] ) \n",
    "\n",
    "                        if  cond_R24 != 0 :\n",
    "\n",
    "                            f_R24 = len( Data_set.loc[ (Data_set.iloc[:, j_star_vector[0]] < s_star_vector[0]) & (Data_set.iloc[:, j_star_vector[1]] < s_star_vector[1])  & (Data_set.iloc[:, j_star_vector[3]] >= s_star_vector[3]) & (Data_set.loc[:, 'Y'] == r) , : ] ) / cond_R24\n",
    "\n",
    "                        elif cond_R24 == 0 :\n",
    "\n",
    "                            f_R24 = 0\n",
    "\n",
    "                        return f_R24\n",
    "\n",
    "                \n",
    "            # Busqueda de r_star_R24\n",
    "\n",
    "                f_R24_r_vector = []\n",
    "\n",
    "                for r in Y_categories :  # Si Y tiene como categorias 0,1,2 --> Y_categories = range(0,3)\n",
    "\n",
    "                    f_R24_r_vector.append( f_R24(r , Data_set) )\n",
    "\n",
    "                f_R24_df = pd.DataFrame({'r':Y_categories  , 'f_R24':f_R24_r_vector })\n",
    "        \n",
    "                f_R24_df_sorted = f_R24_df.sort_values(by=['f_R24'], axis=0, ascending=False, ignore_index=True)\n",
    "\n",
    "                r_star_R24 = f_R24_df_sorted.loc[0, 'r']\n",
    "\n",
    "\n",
    "                y_new_predict = r_star_R24\n",
    "\n",
    "\n",
    "\n",
    "            # Si x_new cae en R34\n",
    "\n",
    "            if (x_new[j_star_vector[0] - 1] < s_star_vector[0]) & (x_new[j_star_vector[1] - 1] >= s_star_vector[1]) :  # Ojo: el elemento j-1 de x_new es el valor de X_{j} , con j=1,2,...\n",
    "\n",
    "                def f_R34(r, Data_set):\n",
    "\n",
    "                        cond_R34 = len( Data_set.loc[ (Data_set.iloc[:, j_star_vector[0]] < s_star_vector[0]) & (Data_set.iloc[:, j_star_vector[1]] >= s_star_vector[1]) , : ] ) \n",
    "\n",
    "                        if  cond_R34 != 0 :\n",
    "\n",
    "                            f_R34 = len( Data_set.loc[ (Data_set.iloc[:, j_star_vector[0]] < s_star_vector[0]) & (Data_set.iloc[:, j_star_vector[1]] >= s_star_vector[1]) & (Data_set.loc[:, 'Y'] == r) , : ] ) / cond_R34\n",
    "\n",
    "                        elif cond_R34 == 0 :\n",
    "\n",
    "                            f_R34 = 0\n",
    "\n",
    "                        return f_R34\n",
    "\n",
    "                \n",
    "            # Busqueda de r_star_R34\n",
    "\n",
    "                f_R34_r_vector = []\n",
    "\n",
    "                for r in Y_categories :  # Si Y tiene como categorias 0,1,2 --> Y_categories = range(0,3)\n",
    "\n",
    "                    f_R34_r_vector.append( f_R34(r , Data_set) )\n",
    "\n",
    "                f_R34_df = pd.DataFrame({'r':Y_categories  , 'f_R34':f_R34_r_vector })\n",
    "        \n",
    "                f_R34_df_sorted = f_R34_df.sort_values(by=['f_R34'], axis=0, ascending=False, ignore_index=True)\n",
    "\n",
    "                r_star_R34 = f_R34_df_sorted.loc[0, 'r']\n",
    "\n",
    "\n",
    "                y_new_predict = r_star_R34\n",
    "\n",
    "\n",
    "            \n",
    "            # Si x_new cae en R44\n",
    "\n",
    "            elif (x_new[j_star_vector[0] - 1] >= s_star_vector[0]) & (x_new[j_star_vector[2] - 1] < s_star_vector[2])  :\n",
    "\n",
    "                def f_R44(r, Data_set):\n",
    "\n",
    "                        cond_R44 = len( Data_set.loc[ (Data_set.iloc[:, j_star_vector[0]] >= s_star_vector[0]) & (Data_set.iloc[:, j_star_vector[2]] < s_star_vector[2]) , : ] ) \n",
    "\n",
    "                        if  cond_R44 != 0 :\n",
    "\n",
    "                            f_R44 = len( Data_set.loc[ (Data_set.iloc[:, j_star_vector[0]] >= s_star_vector[0]) & (Data_set.iloc[:, j_star_vector[2]] < s_star_vector[2]) & (Data_set.loc[:, 'Y'] == r) , : ] ) / cond_R44\n",
    "\n",
    "                        elif cond_R44 == 0 :\n",
    "\n",
    "                            f_R44 = 0\n",
    "\n",
    "                        return f_R44\n",
    "\n",
    "                \n",
    "            # Busqueda de r_star_R44\n",
    "\n",
    "                f_R44_r_vector = []\n",
    "\n",
    "                for r in Y_categories :  # Si Y tiene como categorias 0,1,2 --> Y_categories = range(0,3)\n",
    "\n",
    "                    f_R44_r_vector.append( f_R44(r , Data_set) )\n",
    "\n",
    "                f_R44_df = pd.DataFrame({'r':Y_categories  , 'f_R44':f_R44_r_vector })\n",
    "        \n",
    "                f_R44_df_sorted = f_R44_df.sort_values(by=['f_R44'], axis=0, ascending=False, ignore_index=True)\n",
    "\n",
    "                r_star_R44 = f_R44_df_sorted.loc[0, 'r']\n",
    "\n",
    "\n",
    "                y_new_predict = r_star_R44\n",
    "\n",
    "\n",
    "            \n",
    "            # Si x_new cae en R54\n",
    "\n",
    "            elif (x_new[j_star_vector[0] - 1] >= s_star_vector[0]) & (x_new[j_star_vector[2] - 1] >= s_star_vector[2])  :\n",
    "\n",
    " \n",
    "                def f_R54(r, Data_set):\n",
    "\n",
    "                        cond_R54 = len( Data_set.loc[ (Data_set.iloc[:, j_star_vector[0]] >= s_star_vector[0]) & (Data_set.iloc[:, j_star_vector[2]] >= s_star_vector[2]) , : ] ) \n",
    "\n",
    "                        if  cond_R54 != 0 :\n",
    "\n",
    "                            f_R54 = len( Data_set.loc[ (Data_set.iloc[:, j_star_vector[0]] >= s_star_vector[0]) & (Data_set.iloc[:, j_star_vector[2]] >= s_star_vector[2]) & (Data_set.loc[:, 'Y'] == r) , : ] ) / cond_R44\n",
    "\n",
    "                        elif cond_R54 == 0 :\n",
    "\n",
    "                            f_R54 = 0\n",
    "\n",
    "                        return f_R54\n",
    "\n",
    "                \n",
    "            # Busqueda de r_star_R54\n",
    "\n",
    "                f_R54_r_vector = []\n",
    "\n",
    "                for r in Y_categories :  # Si Y tiene como categorias 0,1,2 --> Y_categories = range(0,3)\n",
    "\n",
    "                    f_R54_r_vector.append( f_R54(r , Data_set) )\n",
    "\n",
    "                f_R54_df = pd.DataFrame({'r':Y_categories  , 'f_R54':f_R54_r_vector })\n",
    "        \n",
    "                f_R54_df_sorted = f_R54_df.sort_values(by=['f_R54'], axis=0, ascending=False, ignore_index=True)\n",
    "\n",
    "                r_star_R54 = f_R54_df_sorted.loc[0, 'r']\n",
    "\n",
    "\n",
    "                y_new_predict = r_star_R54\n",
    "\n",
    "        \n",
    "\n",
    "\n",
    "        \n",
    "    return(y_new_predict)"
   ]
  },
  {
   "cell_type": "markdown",
   "metadata": {},
   "source": []
  },
  {
   "cell_type": "markdown",
   "metadata": {},
   "source": [
    "### Testeo del algoritmo de arbol de clasificacion creado en `Python` "
   ]
  },
  {
   "cell_type": "code",
   "execution_count": null,
   "metadata": {},
   "outputs": [],
   "source": [
    "import numpy as np\n",
    "import pandas as pd"
   ]
  }
 ],
 "metadata": {
  "kernelspec": {
   "display_name": "Python 3.10.0 64-bit",
   "language": "python",
   "name": "python3"
  },
  "language_info": {
   "codemirror_mode": {
    "name": "ipython",
    "version": 3
   },
   "file_extension": ".py",
   "mimetype": "text/x-python",
   "name": "python",
   "nbconvert_exporter": "python",
   "pygments_lexer": "ipython3",
   "version": "3.10.0"
  },
  "orig_nbformat": 4,
  "vscode": {
   "interpreter": {
    "hash": "c63d8c7d738c2960218a10995aedf0a7f67a49a231e71037adf0440953cdb45b"
   }
  }
 },
 "nbformat": 4,
 "nbformat_minor": 2
}
