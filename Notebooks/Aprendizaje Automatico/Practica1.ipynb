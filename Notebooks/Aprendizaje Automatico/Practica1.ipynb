{
 "cells": [
  {
   "cell_type": "markdown",
   "metadata": {},
   "source": [
    "# Aplicación del aprendizaje automático en la medicina predictiva.\n",
    "\n",
    "## Práctica 1: Clasificación para el diagnóstico de enfermedades.\n",
    "\n",
    "### Agenda\n",
    "1. Objetivos\n",
    "2. Problema\n",
    "3. Datos\n",
    "4. Desarrollo de la práctica\n",
    "\n"
   ]
  },
  {
   "cell_type": "markdown",
   "metadata": {},
   "source": [
    "\n",
    "#### 1. Objetivos.\n",
    "- Conocer un contexto de aplicación real.\n",
    "\n",
    "- Ejercitarnos en el análisis de datos y la implementación de algoritmos de clasificación, para adquirir criterio en la aplicación de los mismos.\n",
    "\n",
    "- Evaluar las capacidades de R y mlr para la implementación.\n"
   ]
  },
  {
   "cell_type": "markdown",
   "metadata": {},
   "source": [
    "\n",
    "#### 2. Problema. \n",
    "- Resolver un problema de clasificación para el diagnóstico de pacientes hepáticos.\n"
   ]
  },
  {
   "cell_type": "markdown",
   "metadata": {},
   "source": [
    "\n",
    "#### 3. Datos.\n",
    "- Usaremos el conjunto de datos “Indian Liver Patient Dataset”: Los pacientes con enfermedades del hígado han ido aumentando continuamente debido al consumo excesivo de alcohol, inhalación de gases nocivos, ingesta de alimentos contaminados, encurtidos y drogas. \n",
    "\n",
    "- Este conjunto de datos se utilizó para evaluar los algoritmos de predicción en un esfuerzo por reducir la cargapara los médicos. Este conjunto de datos contiene 416 registros de pacientes hepáticos y 167 registros de pacientes no hepáticos recopilados en el noreste de Andhra Pradesh, India.\n",
    "\n",
    "- La variable de respuesta es “diseased” (personas que tienen enfermedad del hígado)\n",
    "\n",
    "- El data set encuentra en la librería “mlr3data”. \n",
    "data(\"ilpd\", package = \"mlr3data\")\n"
   ]
  },
  {
   "cell_type": "markdown",
   "metadata": {},
   "source": [
    "\n",
    "#### 4. Desarrollo de la práctica.\n"
   ]
  },
  {
   "cell_type": "markdown",
   "metadata": {},
   "source": [
    "Vamos a desarrollar esta practica en los lenguajes de programacion `R` y `Python` simultaneamente. \n",
    "\n",
    "Lo haremos usando el lenguaje `Python` utilizando un paquete llamado `rpy2` que permite ejecutar codigo `R` desde `Python` "
   ]
  },
  {
   "cell_type": "markdown",
   "metadata": {},
   "source": []
  },
  {
   "cell_type": "markdown",
   "metadata": {},
   "source": [
    "\n",
    "Empezamos la práctica cargando los datos, tanto en `R` como en `Python` :"
   ]
  },
  {
   "cell_type": "code",
   "execution_count": 2,
   "metadata": {},
   "outputs": [
    {
     "name": "stderr",
     "output_type": "stream",
     "text": [
      "c:\\Users\\Usuario\\AppData\\Local\\Programs\\Python\\Python310\\lib\\site-packages\\rpy2\\robjects\\packages.py:366: UserWarning: The symbol 'quartz' is not in this R namespace/package.\n",
      "  warnings.warn(\n"
     ]
    }
   ],
   "source": [
    "import rpy2\n",
    "\n",
    "%load_ext rpy2.ipython\n",
    "\n",
    "import rpy2.robjects as robjects"
   ]
  },
  {
   "cell_type": "code",
   "execution_count": 3,
   "metadata": {},
   "outputs": [
    {
     "name": "stdout",
     "output_type": "stream",
     "text": [
      "NULL\n"
     ]
    }
   ],
   "source": [
    "%%R\n",
    "\n",
    "# install.packages(\"mlr3data\")\n",
    "# install.packages(\"mlr3\")"
   ]
  },
  {
   "cell_type": "markdown",
   "metadata": {},
   "source": [
    "Cargamos los datos en `R`"
   ]
  },
  {
   "cell_type": "code",
   "execution_count": 4,
   "metadata": {},
   "outputs": [
    {
     "name": "stdout",
     "output_type": "stream",
     "text": [
      "  age gender total_bilirubin direct_bilirubin alkaline_phosphatase\n",
      "1  65 Female             0.7              0.1                  187\n",
      "2  62   Male            10.9              5.5                  699\n",
      "3  62   Male             7.3              4.1                  490\n",
      "4  58   Male             1.0              0.4                  182\n",
      "5  72   Male             3.9              2.0                  195\n",
      "  alanine_transaminase aspartate_transaminase total_protein albumin\n",
      "1                   16                     18           6.8     3.3\n",
      "2                   64                    100           7.5     3.2\n",
      "3                   60                     68           7.0     3.3\n",
      "4                   14                     20           6.8     3.4\n",
      "5                   27                     59           7.3     2.4\n",
      "  albumin_globulin_ratio diseased\n",
      "1                   0.90      yes\n",
      "2                   0.74      yes\n",
      "3                   0.89      yes\n",
      "4                   1.00      yes\n",
      "5                   0.40      yes\n"
     ]
    }
   ],
   "source": [
    "%%R\n",
    "\n",
    "data(\"ilpd\", package = \"mlr3data\")\n",
    "\n",
    "head(ilpd,5)"
   ]
  },
  {
   "cell_type": "markdown",
   "metadata": {},
   "source": []
  },
  {
   "cell_type": "markdown",
   "metadata": {},
   "source": [
    "Cargamos los datos en `Python`"
   ]
  },
  {
   "cell_type": "code",
   "execution_count": 302,
   "metadata": {},
   "outputs": [],
   "source": [
    "import warnings\n",
    "warnings.filterwarnings(\"ignore\")"
   ]
  },
  {
   "cell_type": "code",
   "execution_count": 5,
   "metadata": {},
   "outputs": [],
   "source": [
    "import pandas as pd"
   ]
  },
  {
   "cell_type": "code",
   "execution_count": 6,
   "metadata": {},
   "outputs": [],
   "source": [
    "Data_Python = pd.read_csv('indian_liver_patient.csv')"
   ]
  },
  {
   "cell_type": "code",
   "execution_count": 7,
   "metadata": {},
   "outputs": [],
   "source": [
    "Data_Python = Data_Python.rename({'Dataset': 'Diseased'}, axis=1)"
   ]
  },
  {
   "cell_type": "code",
   "execution_count": 8,
   "metadata": {},
   "outputs": [
    {
     "data": {
      "text/html": [
       "<div>\n",
       "<style scoped>\n",
       "    .dataframe tbody tr th:only-of-type {\n",
       "        vertical-align: middle;\n",
       "    }\n",
       "\n",
       "    .dataframe tbody tr th {\n",
       "        vertical-align: top;\n",
       "    }\n",
       "\n",
       "    .dataframe thead th {\n",
       "        text-align: right;\n",
       "    }\n",
       "</style>\n",
       "<table border=\"1\" class=\"dataframe\">\n",
       "  <thead>\n",
       "    <tr style=\"text-align: right;\">\n",
       "      <th></th>\n",
       "      <th>Age</th>\n",
       "      <th>Gender</th>\n",
       "      <th>Total_Bilirubin</th>\n",
       "      <th>Direct_Bilirubin</th>\n",
       "      <th>Alkaline_Phosphotase</th>\n",
       "      <th>Alamine_Aminotransferase</th>\n",
       "      <th>Aspartate_Aminotransferase</th>\n",
       "      <th>Total_Protiens</th>\n",
       "      <th>Albumin</th>\n",
       "      <th>Albumin_and_Globulin_Ratio</th>\n",
       "      <th>Diseased</th>\n",
       "    </tr>\n",
       "  </thead>\n",
       "  <tbody>\n",
       "    <tr>\n",
       "      <th>0</th>\n",
       "      <td>65</td>\n",
       "      <td>Female</td>\n",
       "      <td>0.7</td>\n",
       "      <td>0.1</td>\n",
       "      <td>187</td>\n",
       "      <td>16</td>\n",
       "      <td>18</td>\n",
       "      <td>6.8</td>\n",
       "      <td>3.3</td>\n",
       "      <td>0.90</td>\n",
       "      <td>1</td>\n",
       "    </tr>\n",
       "    <tr>\n",
       "      <th>1</th>\n",
       "      <td>62</td>\n",
       "      <td>Male</td>\n",
       "      <td>10.9</td>\n",
       "      <td>5.5</td>\n",
       "      <td>699</td>\n",
       "      <td>64</td>\n",
       "      <td>100</td>\n",
       "      <td>7.5</td>\n",
       "      <td>3.2</td>\n",
       "      <td>0.74</td>\n",
       "      <td>1</td>\n",
       "    </tr>\n",
       "    <tr>\n",
       "      <th>2</th>\n",
       "      <td>62</td>\n",
       "      <td>Male</td>\n",
       "      <td>7.3</td>\n",
       "      <td>4.1</td>\n",
       "      <td>490</td>\n",
       "      <td>60</td>\n",
       "      <td>68</td>\n",
       "      <td>7.0</td>\n",
       "      <td>3.3</td>\n",
       "      <td>0.89</td>\n",
       "      <td>1</td>\n",
       "    </tr>\n",
       "    <tr>\n",
       "      <th>3</th>\n",
       "      <td>58</td>\n",
       "      <td>Male</td>\n",
       "      <td>1.0</td>\n",
       "      <td>0.4</td>\n",
       "      <td>182</td>\n",
       "      <td>14</td>\n",
       "      <td>20</td>\n",
       "      <td>6.8</td>\n",
       "      <td>3.4</td>\n",
       "      <td>1.00</td>\n",
       "      <td>1</td>\n",
       "    </tr>\n",
       "    <tr>\n",
       "      <th>4</th>\n",
       "      <td>72</td>\n",
       "      <td>Male</td>\n",
       "      <td>3.9</td>\n",
       "      <td>2.0</td>\n",
       "      <td>195</td>\n",
       "      <td>27</td>\n",
       "      <td>59</td>\n",
       "      <td>7.3</td>\n",
       "      <td>2.4</td>\n",
       "      <td>0.40</td>\n",
       "      <td>1</td>\n",
       "    </tr>\n",
       "  </tbody>\n",
       "</table>\n",
       "</div>"
      ],
      "text/plain": [
       "   Age  Gender  Total_Bilirubin  Direct_Bilirubin  Alkaline_Phosphotase  \\\n",
       "0   65  Female              0.7               0.1                   187   \n",
       "1   62    Male             10.9               5.5                   699   \n",
       "2   62    Male              7.3               4.1                   490   \n",
       "3   58    Male              1.0               0.4                   182   \n",
       "4   72    Male              3.9               2.0                   195   \n",
       "\n",
       "   Alamine_Aminotransferase  Aspartate_Aminotransferase  Total_Protiens  \\\n",
       "0                        16                          18             6.8   \n",
       "1                        64                         100             7.5   \n",
       "2                        60                          68             7.0   \n",
       "3                        14                          20             6.8   \n",
       "4                        27                          59             7.3   \n",
       "\n",
       "   Albumin  Albumin_and_Globulin_Ratio  Diseased  \n",
       "0      3.3                        0.90         1  \n",
       "1      3.2                        0.74         1  \n",
       "2      3.3                        0.89         1  \n",
       "3      3.4                        1.00         1  \n",
       "4      2.4                        0.40         1  "
      ]
     },
     "execution_count": 8,
     "metadata": {},
     "output_type": "execute_result"
    }
   ],
   "source": [
    "Data_Python.head()"
   ]
  },
  {
   "cell_type": "markdown",
   "metadata": {},
   "source": []
  },
  {
   "cell_type": "markdown",
   "metadata": {},
   "source": [
    "Describiremos cada una de las variables:\n",
    "\n",
    "- age: edad del paciente. A los pacientes que exceden 89 son listados con la edad 90\n",
    "- gender: género del paciente.\n",
    "- total_bilirubin: Total de bilirubina.\n",
    "- direct_bilirubin: Bilirubina directa.\n",
    "- alkaline_phosphatase: Fosfatasa alcalina.\n",
    "- alanine_transaminase: alanina aminotransferasa o transamisana glutámico pirúvica.\n",
    "- aspartate_trasaminase: aspartato aminotransferasa.\n",
    "- total_protein: proteinas totales.\n",
    "- albumin: albúmina.\n",
    "- albumin_globulin_ratio: albúmina y globulina ratio.\n",
    "- diseased: Si tienen (1) o no (2) enfermadad en el hígado.\n"
   ]
  },
  {
   "cell_type": "markdown",
   "metadata": {},
   "source": []
  },
  {
   "cell_type": "markdown",
   "metadata": {},
   "source": [
    "\n",
    "Ahora que los tenenmos cargados y hemos visto la apariencia de los mismo procedemos a hacer el EDA.\n"
   ]
  },
  {
   "cell_type": "markdown",
   "metadata": {},
   "source": [
    "#### 4.1. EDA.\n",
    "\n",
    "Haremmos el EDA con la librería skimr, como se pide en el enunciado de la práctica.\n"
   ]
  },
  {
   "cell_type": "code",
   "execution_count": 9,
   "metadata": {},
   "outputs": [
    {
     "name": "stdout",
     "output_type": "stream",
     "text": [
      "NULL\n"
     ]
    }
   ],
   "source": [
    "%%R\n",
    "\n",
    "# install.packages('skimr')"
   ]
  },
  {
   "cell_type": "code",
   "execution_count": 10,
   "metadata": {},
   "outputs": [
    {
     "name": "stdout",
     "output_type": "stream",
     "text": [
      "-- Data Summary ------------------------\n",
      "                           Values\n",
      "Name                       ilpd  \n",
      "Number of rows             583   \n",
      "Number of columns          11    \n",
      "_______________________          \n",
      "Column type frequency:           \n",
      "  factor                   2     \n",
      "  numeric                  9     \n",
      "________________________         \n",
      "Group variables            None  \n",
      "\n",
      "-- Variable type: factor -------------------------------------------------------\n",
      "  skim_variable n_missing complete_rate ordered n_unique top_counts        \n",
      "1 gender                0             1 FALSE          2 Mal: 441, Fem: 142\n",
      "2 diseased              0             1 FALSE          2 yes: 416, no: 167 \n",
      "\n",
      "-- Variable type: numeric ------------------------------------------------------\n",
      "  skim_variable          n_missing complete_rate    mean      sd   p0   p25\n",
      "1 age                            0             1  44.7    16.2    4    33  \n",
      "2 total_bilirubin                0             1   3.30    6.21   0.4   0.8\n",
      "3 direct_bilirubin               0             1   1.49    2.81   0.1   0.2\n",
      "4 alkaline_phosphatase           0             1 291.    243.    63   176. \n",
      "5 alanine_transaminase           0             1  80.7   183.    10    23  \n",
      "6 aspartate_transaminase         0             1 110.    289.    10    25  \n",
      "7 total_protein                  0             1   6.48    1.09   2.7   5.8\n",
      "8 albumin                        0             1   3.14    0.796  0.9   2.6\n",
      "9 albumin_globulin_ratio         0             1   0.947   0.318  0.3   0.7\n",
      "      p50   p75   p100 hist \n",
      "1  45      58     90   <U+2582><U+2586><U+2587><U+2585><U+2581>\n",
      "2   1       2.6   75   <U+2587><U+2581><U+2581><U+2581><U+2581>\n",
      "3   0.3     1.3   19.7 <U+2587><U+2581><U+2581><U+2581><U+2581>\n",
      "4 208     298   2110   <U+2587><U+2581><U+2581><U+2581><U+2581>\n",
      "5  35      60.5 2000   <U+2587><U+2581><U+2581><U+2581><U+2581>\n",
      "6  42      87   4929   <U+2587><U+2581><U+2581><U+2581><U+2581>\n",
      "7   6.6     7.2    9.6 <U+2581><U+2582><U+2587><U+2587><U+2581>\n",
      "8   3.1     3.8    5.5 <U+2581><U+2585><U+2587><U+2586><U+2581>\n",
      "9   0.947   1.1    2.8 <U+2586><U+2587><U+2582><U+2581><U+2581>\n"
     ]
    }
   ],
   "source": [
    "%%R\n",
    "\n",
    "library(skimr) # Cargamos librería\n",
    "\n",
    "skim(ilpd) # EDA con librería"
   ]
  },
  {
   "cell_type": "markdown",
   "metadata": {},
   "source": [
    "\n",
    "También haremos uso de la función str que nos da la estructura de nuestro dataset.\n"
   ]
  },
  {
   "cell_type": "code",
   "execution_count": 11,
   "metadata": {},
   "outputs": [
    {
     "name": "stdout",
     "output_type": "stream",
     "text": [
      "'data.frame':\t583 obs. of  11 variables:\n",
      " $ age                   : int  65 62 62 58 72 46 26 29 17 55 ...\n",
      " $ gender                : Factor w/ 2 levels \"Female\",\"Male\": 1 2 2 2 2 2 1 1 2 2 ...\n",
      " $ total_bilirubin       : num  0.7 10.9 7.3 1 3.9 1.8 0.9 0.9 0.9 0.7 ...\n",
      " $ direct_bilirubin      : num  0.1 5.5 4.1 0.4 2 0.7 0.2 0.3 0.3 0.2 ...\n",
      " $ alkaline_phosphatase  : int  187 699 490 182 195 208 154 202 202 290 ...\n",
      " $ alanine_transaminase  : int  16 64 60 14 27 19 16 14 22 53 ...\n",
      " $ aspartate_transaminase: int  18 100 68 20 59 14 12 11 19 58 ...\n",
      " $ total_protein         : num  6.8 7.5 7 6.8 7.3 7.6 7 6.7 7.4 6.8 ...\n",
      " $ albumin               : num  3.3 3.2 3.3 3.4 2.4 4.4 3.5 3.6 4.1 3.4 ...\n",
      " $ albumin_globulin_ratio: num  0.9 0.74 0.89 1 0.4 1.3 1 1.1 1.2 1 ...\n",
      " $ diseased              : Factor w/ 2 levels \"yes\",\"no\": 1 1 1 1 1 1 1 1 2 1 ...\n"
     ]
    }
   ],
   "source": [
    "%%R\n",
    "\n",
    "str(ilpd) # Analizamos la estructura de los datos"
   ]
  },
  {
   "cell_type": "markdown",
   "metadata": {},
   "source": [
    "\n",
    "Claramente podemos ver como con skimr, las variables que son numéricas las considera todas numéricas, mientras que la función str nos especifica las variables numéricas en si son variables que toman valores reales o enteros.\n",
    "\n",
    "Por último sacaremos un reporte con la librería \"DataExplorer\"\n"
   ]
  },
  {
   "cell_type": "code",
   "execution_count": 12,
   "metadata": {},
   "outputs": [
    {
     "name": "stdout",
     "output_type": "stream",
     "text": [
      "NULL\n"
     ]
    }
   ],
   "source": [
    "%%R\n",
    "\n",
    "# install.packages('DataExplorer')"
   ]
  },
  {
   "cell_type": "code",
   "execution_count": 13,
   "metadata": {},
   "outputs": [
    {
     "name": "stdout",
     "output_type": "stream",
     "text": [
      "NULL\n"
     ]
    }
   ],
   "source": [
    "%%R\n",
    "\n",
    "# DataExplorer::create_report(ilpd,y=\"diseased\") # Reporte EDA en html, no se pide como tal."
   ]
  },
  {
   "cell_type": "markdown",
   "metadata": {},
   "source": [
    "Se genera un reporte en HTML que puede ser abierto en el navegador. \n",
    "\n",
    "Aqui esta la version en PDF de dicho reporte:"
   ]
  },
  {
   "cell_type": "markdown",
   "metadata": {},
   "source": [
    "https://github.com/FabioScielzoOrtiz/Estadistica4all.github.io/blob/main/Notebooks/Aprendizaje%20Automatico/Data%20Profiling%20Report.pdf"
   ]
  },
  {
   "cell_type": "markdown",
   "metadata": {},
   "source": []
  },
  {
   "cell_type": "markdown",
   "metadata": {},
   "source": [
    "\n",
    "Aunque hemos visto el número de valores ausentes en la salida que nos da skimr, esto se puede hacer a mano como sigue:\n"
   ]
  },
  {
   "cell_type": "code",
   "execution_count": 14,
   "metadata": {},
   "outputs": [
    {
     "name": "stderr",
     "output_type": "stream",
     "text": [
      "R[write to console]: -- Attaching packages --------------------------------------- tidyverse 1.3.1 --\n",
      "\n",
      "R[write to console]: v ggplot2 3.3.6     v purrr   0.3.4\n",
      "v tibble  3.1.7     v dplyr   1.0.9\n",
      "v tidyr   1.2.0     v stringr 1.4.0\n",
      "v readr   2.1.2     v forcats 0.5.1\n",
      "\n",
      "R[write to console]: -- Conflicts ------------------------------------------ tidyverse_conflicts() --\n",
      "x dplyr::filter() masks stats::filter()\n",
      "x dplyr::lag()    masks stats::lag()\n",
      "\n"
     ]
    }
   ],
   "source": [
    "%%R\n",
    "\n",
    "library(tidyverse)"
   ]
  },
  {
   "cell_type": "markdown",
   "metadata": {},
   "source": []
  },
  {
   "cell_type": "code",
   "execution_count": 15,
   "metadata": {},
   "outputs": [
    {
     "name": "stdout",
     "output_type": "stream",
     "text": [
      "                   age                 gender        total_bilirubin \n",
      "                     0                      0                      0 \n",
      "      direct_bilirubin   alkaline_phosphatase   alanine_transaminase \n",
      "                     0                      0                      0 \n",
      "aspartate_transaminase          total_protein                albumin \n",
      "                     0                      0                      0 \n",
      "albumin_globulin_ratio               diseased \n",
      "                     0                      0 \n"
     ]
    }
   ],
   "source": [
    "%%R \n",
    "\n",
    "ilpd %>% map_dbl(.f = function(x){sum(is.na(x))}) # Número de missing values"
   ]
  },
  {
   "cell_type": "markdown",
   "metadata": {},
   "source": []
  },
  {
   "cell_type": "markdown",
   "metadata": {},
   "source": [
    "\n",
    "Podemos sacar las siguientes conclusiones del EDA anterior:\n",
    "- Se dispone de 583 instancias y 11 variables (2 de tipo factor biclase, 5 de tipo numérico y 4 enteras)\n",
    "- No hay ausencia de valores por lo que no habrá que eliminar instancias o al menos los modelos no se verán dificultados por los mismos.\n",
    "- La variable respuesta es diseased que es una de las variables tipo factor biclase que puede tomar valores \"yes\" o \"no\". Se puede ver como esta variable está un poco desbalanceada ya que tenemos muchas más observaciones con valor \"yes\"(416 observaciones) que con valor \"no\"(167 observaciones).\n",
    "- En cuanto a las correlaciones se puede ver que son relativamente altas entre los pares que tienen que ver con sustancias similares, como bilirubina directa y bilirubina total. Con respecto a la variable respuesta podemos ver como hay relaciones directas con el resto de variables y una correlacion similar en torno a 0.7.\n",
    "\n",
    "\n"
   ]
  },
  {
   "cell_type": "markdown",
   "metadata": {},
   "source": []
  },
  {
   "cell_type": "markdown",
   "metadata": {},
   "source": []
  },
  {
   "cell_type": "markdown",
   "metadata": {},
   "source": [
    "Ahora vamos a realizar un EDA del data-set pero usando `Python`"
   ]
  },
  {
   "cell_type": "markdown",
   "metadata": {},
   "source": [
    "El EDA (Exploratory Data Analysis) en lineas generales va a consistir en:\n",
    "\n",
    "- Analizar estructura del data-set que tenemoss (dimensiones, tipo de variables, valores faltantes etc)\n",
    "- Calculo de estadisticos básicos para cada variable\n",
    "-  Calculo de graficos que aporten informacion relevante (histogramas, diagramas de barras, scatter plots, box plots)\n",
    "- Analisis de relaciones entre los predictores y la respuesta.\n"
   ]
  },
  {
   "cell_type": "markdown",
   "metadata": {},
   "source": []
  },
  {
   "cell_type": "markdown",
   "metadata": {},
   "source": [
    "### Estructura del data-set:"
   ]
  },
  {
   "cell_type": "code",
   "execution_count": 16,
   "metadata": {},
   "outputs": [
    {
     "data": {
      "text/plain": [
       "(583, 11)"
      ]
     },
     "execution_count": 16,
     "metadata": {},
     "output_type": "execute_result"
    }
   ],
   "source": [
    "Data_Python.shape"
   ]
  },
  {
   "cell_type": "markdown",
   "metadata": {},
   "source": [
    "Tenemos un data-set con 11 variables y 583 observaciones\n",
    "\n",
    "Las variables son:\n",
    "\n",
    "- 10 predictores (age , gender , Total_Bilirubin , Direct_Bilirubin , Alkaline_Phosphotase , Alamine_Aminotransferase , Aspartate_Aminotransferase ,Total_Protiens , Albumin , Albumin_and_Globulin_Ratio ) \n",
    "- 1 respuesta ( Diseased )"
   ]
  },
  {
   "cell_type": "markdown",
   "metadata": {},
   "source": [
    "La variables **categoricas** del data-set son: \n",
    "\n",
    "- Diseased y Gender (*binarias*)\n",
    "\n",
    "Las variables **cuantitativas** del data-set son: \n",
    "\n",
    "- age , Alkaline_Phosphotase, Alamine_Aminotransferase  , Aspartate_Aminotransferase (*discretas*) y   Total_Bilirubin , Direct_Bilirubin, Total_Protiens, Albumin, Albumin_and_Globulin_Ratio (*continuas*)"
   ]
  },
  {
   "cell_type": "markdown",
   "metadata": {},
   "source": []
  },
  {
   "cell_type": "markdown",
   "metadata": {},
   "source": [
    "Con el siguiente codigo podemos ver el tipo de cada una de las variables en Python (que podria no coincidir con el descrito anteriormente, en su caso habria que modificarlo.)"
   ]
  },
  {
   "cell_type": "code",
   "execution_count": 17,
   "metadata": {},
   "outputs": [
    {
     "name": "stdout",
     "output_type": "stream",
     "text": [
      "<class 'pandas.core.frame.DataFrame'>\n",
      "RangeIndex: 583 entries, 0 to 582\n",
      "Data columns (total 11 columns):\n",
      " #   Column                      Non-Null Count  Dtype  \n",
      "---  ------                      --------------  -----  \n",
      " 0   Age                         583 non-null    int64  \n",
      " 1   Gender                      583 non-null    object \n",
      " 2   Total_Bilirubin             583 non-null    float64\n",
      " 3   Direct_Bilirubin            583 non-null    float64\n",
      " 4   Alkaline_Phosphotase        583 non-null    int64  \n",
      " 5   Alamine_Aminotransferase    583 non-null    int64  \n",
      " 6   Aspartate_Aminotransferase  583 non-null    int64  \n",
      " 7   Total_Protiens              583 non-null    float64\n",
      " 8   Albumin                     583 non-null    float64\n",
      " 9   Albumin_and_Globulin_Ratio  583 non-null    float64\n",
      " 10  Diseased                    583 non-null    int64  \n",
      "dtypes: float64(5), int64(5), object(1)\n",
      "memory usage: 50.2+ KB\n"
     ]
    }
   ],
   "source": [
    "Data_Python.info()"
   ]
  },
  {
   "cell_type": "markdown",
   "metadata": {},
   "source": []
  },
  {
   "cell_type": "markdown",
   "metadata": {},
   "source": [
    "En este caso el tipo en Python es correcto para todas las variables salvo para la respuesta (Diseased) ya que Python la considera entera (cuantitativa discreta: int64) cuando realmente es categorica binaria, por ello tranformamos su tipo de int64 a object (el tipo clasico de las variables categoricas en Python)."
   ]
  },
  {
   "cell_type": "code",
   "execution_count": 18,
   "metadata": {},
   "outputs": [],
   "source": [
    "Data_Python['Diseased'] = Data_Python['Diseased'].astype('object')"
   ]
  },
  {
   "cell_type": "markdown",
   "metadata": {},
   "source": []
  },
  {
   "cell_type": "markdown",
   "metadata": {},
   "source": [
    "Comprobamos que los cambios se han producido correctamente:"
   ]
  },
  {
   "cell_type": "code",
   "execution_count": 19,
   "metadata": {},
   "outputs": [
    {
     "name": "stdout",
     "output_type": "stream",
     "text": [
      "<class 'pandas.core.frame.DataFrame'>\n",
      "RangeIndex: 583 entries, 0 to 582\n",
      "Data columns (total 11 columns):\n",
      " #   Column                      Non-Null Count  Dtype  \n",
      "---  ------                      --------------  -----  \n",
      " 0   Age                         583 non-null    int64  \n",
      " 1   Gender                      583 non-null    object \n",
      " 2   Total_Bilirubin             583 non-null    float64\n",
      " 3   Direct_Bilirubin            583 non-null    float64\n",
      " 4   Alkaline_Phosphotase        583 non-null    int64  \n",
      " 5   Alamine_Aminotransferase    583 non-null    int64  \n",
      " 6   Aspartate_Aminotransferase  583 non-null    int64  \n",
      " 7   Total_Protiens              583 non-null    float64\n",
      " 8   Albumin                     583 non-null    float64\n",
      " 9   Albumin_and_Globulin_Ratio  583 non-null    float64\n",
      " 10  Diseased                    583 non-null    object \n",
      "dtypes: float64(5), int64(4), object(2)\n",
      "memory usage: 50.2+ KB\n"
     ]
    }
   ],
   "source": [
    "Data_Python.info()"
   ]
  },
  {
   "cell_type": "markdown",
   "metadata": {},
   "source": []
  },
  {
   "cell_type": "markdown",
   "metadata": {},
   "source": [
    "Ahora vamos a ver si existe algun valor nulo en el data-set:"
   ]
  },
  {
   "cell_type": "code",
   "execution_count": 20,
   "metadata": {},
   "outputs": [
    {
     "data": {
      "text/plain": [
       "Age                           0\n",
       "Gender                        0\n",
       "Total_Bilirubin               0\n",
       "Direct_Bilirubin              0\n",
       "Alkaline_Phosphotase          0\n",
       "Alamine_Aminotransferase      0\n",
       "Aspartate_Aminotransferase    0\n",
       "Total_Protiens                0\n",
       "Albumin                       0\n",
       "Albumin_and_Globulin_Ratio    0\n",
       "Diseased                      0\n",
       "dtype: int64"
      ]
     },
     "execution_count": 20,
     "metadata": {},
     "output_type": "execute_result"
    }
   ],
   "source": [
    "Data_Python.isnull().sum()"
   ]
  },
  {
   "cell_type": "markdown",
   "metadata": {},
   "source": [
    "Ninguna de las variables tiene valores faltantes (nulos)."
   ]
  },
  {
   "cell_type": "markdown",
   "metadata": {},
   "source": []
  },
  {
   "cell_type": "markdown",
   "metadata": {},
   "source": [
    "Ahora vamos a ver cual es el rango de las variables categoricas, y posteriormete lo codificaremos en formato estandar $\\lbrace 0,1,2,...\\rbrace$ , si es que no lo están ya."
   ]
  },
  {
   "cell_type": "code",
   "execution_count": 21,
   "metadata": {},
   "outputs": [
    {
     "data": {
      "text/plain": [
       "array(['Female', 'Male'], dtype=object)"
      ]
     },
     "execution_count": 21,
     "metadata": {},
     "output_type": "execute_result"
    }
   ],
   "source": [
    "Data_Python['Gender'].unique()"
   ]
  },
  {
   "cell_type": "code",
   "execution_count": 22,
   "metadata": {},
   "outputs": [
    {
     "data": {
      "text/plain": [
       "array([1, 2], dtype=object)"
      ]
     },
     "execution_count": 22,
     "metadata": {},
     "output_type": "execute_result"
    }
   ],
   "source": [
    "Data_Python['Diseased'].unique()"
   ]
  },
  {
   "cell_type": "markdown",
   "metadata": {},
   "source": []
  },
  {
   "cell_type": "markdown",
   "metadata": {},
   "source": [
    "Vamos a codificar en formato estandar la variable **Gender** tal que: **Female=0** , **Male=1** , y la variable **Diseased** tal que: **1=0** , **2=1**"
   ]
  },
  {
   "cell_type": "markdown",
   "metadata": {},
   "source": [
    "Para ello vamos a apoyarnos en la libreria `sklearn`, que posteriormente volverá a ser usada. Podria hacer esto de otras formas, como con un bucle for, pero en casos en los que el numero de categorias es alto, la opcion aportada por `sklearn` es bastante mas eficiente que un bucle."
   ]
  },
  {
   "cell_type": "code",
   "execution_count": 23,
   "metadata": {},
   "outputs": [],
   "source": [
    "from sklearn.preprocessing import OrdinalEncoder\n",
    "\n",
    "ord_enc = OrdinalEncoder()"
   ]
  },
  {
   "cell_type": "code",
   "execution_count": 24,
   "metadata": {},
   "outputs": [],
   "source": [
    "Data_Python['Gender'] = ord_enc.fit_transform(Data_Python[['Gender']])\n",
    "\n",
    "Data_Python['Diseased'] = ord_enc.fit_transform(Data_Python[['Diseased']])"
   ]
  },
  {
   "cell_type": "markdown",
   "metadata": {},
   "source": []
  },
  {
   "cell_type": "markdown",
   "metadata": {},
   "source": [
    "Comprobamos que los cambios se han realizado correctamente:"
   ]
  },
  {
   "cell_type": "code",
   "execution_count": 25,
   "metadata": {},
   "outputs": [
    {
     "data": {
      "text/plain": [
       "array([0., 1.])"
      ]
     },
     "execution_count": 25,
     "metadata": {},
     "output_type": "execute_result"
    }
   ],
   "source": [
    "Data_Python['Gender'].unique()"
   ]
  },
  {
   "cell_type": "code",
   "execution_count": 26,
   "metadata": {},
   "outputs": [
    {
     "data": {
      "text/plain": [
       "array([0., 1.])"
      ]
     },
     "execution_count": 26,
     "metadata": {},
     "output_type": "execute_result"
    }
   ],
   "source": [
    "Data_Python['Diseased'].unique()"
   ]
  },
  {
   "cell_type": "markdown",
   "metadata": {},
   "source": []
  },
  {
   "cell_type": "markdown",
   "metadata": {},
   "source": [
    "Pero cuidado, tras realizar estos cambios tambien se cambia en Python el tipo de las variables codificadas a 'float64' , que es un tipo cuantitativo (continuo), por lo que debemos volver a fijar su tipo como 'object' (ya que son categoricas)."
   ]
  },
  {
   "cell_type": "code",
   "execution_count": 27,
   "metadata": {},
   "outputs": [
    {
     "data": {
      "text/plain": [
       "Age                             int64\n",
       "Gender                        float64\n",
       "Total_Bilirubin               float64\n",
       "Direct_Bilirubin              float64\n",
       "Alkaline_Phosphotase            int64\n",
       "Alamine_Aminotransferase        int64\n",
       "Aspartate_Aminotransferase      int64\n",
       "Total_Protiens                float64\n",
       "Albumin                       float64\n",
       "Albumin_and_Globulin_Ratio    float64\n",
       "Diseased                      float64\n",
       "dtype: object"
      ]
     },
     "execution_count": 27,
     "metadata": {},
     "output_type": "execute_result"
    }
   ],
   "source": [
    "Data_Python.dtypes"
   ]
  },
  {
   "cell_type": "code",
   "execution_count": 28,
   "metadata": {},
   "outputs": [],
   "source": [
    "Data_Python['Diseased'] = Data_Python['Diseased'].astype('object')\n",
    "Data_Python['Gender'] = Data_Python['Gender'].astype('object')"
   ]
  },
  {
   "cell_type": "markdown",
   "metadata": {},
   "source": [
    "Verificamos que se han realizado correctamente los cambios:"
   ]
  },
  {
   "cell_type": "code",
   "execution_count": 29,
   "metadata": {},
   "outputs": [
    {
     "data": {
      "text/plain": [
       "Age                             int64\n",
       "Gender                         object\n",
       "Total_Bilirubin               float64\n",
       "Direct_Bilirubin              float64\n",
       "Alkaline_Phosphotase            int64\n",
       "Alamine_Aminotransferase        int64\n",
       "Aspartate_Aminotransferase      int64\n",
       "Total_Protiens                float64\n",
       "Albumin                       float64\n",
       "Albumin_and_Globulin_Ratio    float64\n",
       "Diseased                       object\n",
       "dtype: object"
      ]
     },
     "execution_count": 29,
     "metadata": {},
     "output_type": "execute_result"
    }
   ],
   "source": [
    "Data_Python.dtypes"
   ]
  },
  {
   "cell_type": "markdown",
   "metadata": {},
   "source": []
  },
  {
   "cell_type": "markdown",
   "metadata": {},
   "source": [
    "#### Resumen de estadisticos descriptivos básico:"
   ]
  },
  {
   "cell_type": "markdown",
   "metadata": {},
   "source": [
    "Ahora vamos a hacer una descripcion estadistica básica de las variables del data-set:"
   ]
  },
  {
   "cell_type": "code",
   "execution_count": 30,
   "metadata": {},
   "outputs": [
    {
     "data": {
      "text/html": [
       "<div>\n",
       "<style scoped>\n",
       "    .dataframe tbody tr th:only-of-type {\n",
       "        vertical-align: middle;\n",
       "    }\n",
       "\n",
       "    .dataframe tbody tr th {\n",
       "        vertical-align: top;\n",
       "    }\n",
       "\n",
       "    .dataframe thead th {\n",
       "        text-align: right;\n",
       "    }\n",
       "</style>\n",
       "<table border=\"1\" class=\"dataframe\">\n",
       "  <thead>\n",
       "    <tr style=\"text-align: right;\">\n",
       "      <th></th>\n",
       "      <th>Age</th>\n",
       "      <th>Gender</th>\n",
       "      <th>Total_Bilirubin</th>\n",
       "      <th>Direct_Bilirubin</th>\n",
       "      <th>Alkaline_Phosphotase</th>\n",
       "      <th>Alamine_Aminotransferase</th>\n",
       "      <th>Aspartate_Aminotransferase</th>\n",
       "      <th>Total_Protiens</th>\n",
       "      <th>Albumin</th>\n",
       "      <th>Albumin_and_Globulin_Ratio</th>\n",
       "      <th>Diseased</th>\n",
       "    </tr>\n",
       "  </thead>\n",
       "  <tbody>\n",
       "    <tr>\n",
       "      <th>count</th>\n",
       "      <td>583.000000</td>\n",
       "      <td>583.0</td>\n",
       "      <td>583.000000</td>\n",
       "      <td>583.000000</td>\n",
       "      <td>583.000000</td>\n",
       "      <td>583.000000</td>\n",
       "      <td>583.000000</td>\n",
       "      <td>583.000000</td>\n",
       "      <td>583.000000</td>\n",
       "      <td>583.000000</td>\n",
       "      <td>583.0</td>\n",
       "    </tr>\n",
       "    <tr>\n",
       "      <th>unique</th>\n",
       "      <td>NaN</td>\n",
       "      <td>2.0</td>\n",
       "      <td>NaN</td>\n",
       "      <td>NaN</td>\n",
       "      <td>NaN</td>\n",
       "      <td>NaN</td>\n",
       "      <td>NaN</td>\n",
       "      <td>NaN</td>\n",
       "      <td>NaN</td>\n",
       "      <td>NaN</td>\n",
       "      <td>2.0</td>\n",
       "    </tr>\n",
       "    <tr>\n",
       "      <th>top</th>\n",
       "      <td>NaN</td>\n",
       "      <td>1.0</td>\n",
       "      <td>NaN</td>\n",
       "      <td>NaN</td>\n",
       "      <td>NaN</td>\n",
       "      <td>NaN</td>\n",
       "      <td>NaN</td>\n",
       "      <td>NaN</td>\n",
       "      <td>NaN</td>\n",
       "      <td>NaN</td>\n",
       "      <td>0.0</td>\n",
       "    </tr>\n",
       "    <tr>\n",
       "      <th>freq</th>\n",
       "      <td>NaN</td>\n",
       "      <td>441.0</td>\n",
       "      <td>NaN</td>\n",
       "      <td>NaN</td>\n",
       "      <td>NaN</td>\n",
       "      <td>NaN</td>\n",
       "      <td>NaN</td>\n",
       "      <td>NaN</td>\n",
       "      <td>NaN</td>\n",
       "      <td>NaN</td>\n",
       "      <td>416.0</td>\n",
       "    </tr>\n",
       "    <tr>\n",
       "      <th>mean</th>\n",
       "      <td>44.746141</td>\n",
       "      <td>NaN</td>\n",
       "      <td>3.298799</td>\n",
       "      <td>1.486106</td>\n",
       "      <td>290.576329</td>\n",
       "      <td>80.713551</td>\n",
       "      <td>109.910806</td>\n",
       "      <td>6.483190</td>\n",
       "      <td>3.141852</td>\n",
       "      <td>0.947064</td>\n",
       "      <td>NaN</td>\n",
       "    </tr>\n",
       "    <tr>\n",
       "      <th>std</th>\n",
       "      <td>16.189833</td>\n",
       "      <td>NaN</td>\n",
       "      <td>6.209522</td>\n",
       "      <td>2.808498</td>\n",
       "      <td>242.937989</td>\n",
       "      <td>182.620356</td>\n",
       "      <td>288.918529</td>\n",
       "      <td>1.085451</td>\n",
       "      <td>0.795519</td>\n",
       "      <td>0.318492</td>\n",
       "      <td>NaN</td>\n",
       "    </tr>\n",
       "    <tr>\n",
       "      <th>min</th>\n",
       "      <td>4.000000</td>\n",
       "      <td>NaN</td>\n",
       "      <td>0.400000</td>\n",
       "      <td>0.100000</td>\n",
       "      <td>63.000000</td>\n",
       "      <td>10.000000</td>\n",
       "      <td>10.000000</td>\n",
       "      <td>2.700000</td>\n",
       "      <td>0.900000</td>\n",
       "      <td>0.300000</td>\n",
       "      <td>NaN</td>\n",
       "    </tr>\n",
       "    <tr>\n",
       "      <th>25%</th>\n",
       "      <td>33.000000</td>\n",
       "      <td>NaN</td>\n",
       "      <td>0.800000</td>\n",
       "      <td>0.200000</td>\n",
       "      <td>175.500000</td>\n",
       "      <td>23.000000</td>\n",
       "      <td>25.000000</td>\n",
       "      <td>5.800000</td>\n",
       "      <td>2.600000</td>\n",
       "      <td>0.700000</td>\n",
       "      <td>NaN</td>\n",
       "    </tr>\n",
       "    <tr>\n",
       "      <th>50%</th>\n",
       "      <td>45.000000</td>\n",
       "      <td>NaN</td>\n",
       "      <td>1.000000</td>\n",
       "      <td>0.300000</td>\n",
       "      <td>208.000000</td>\n",
       "      <td>35.000000</td>\n",
       "      <td>42.000000</td>\n",
       "      <td>6.600000</td>\n",
       "      <td>3.100000</td>\n",
       "      <td>0.947064</td>\n",
       "      <td>NaN</td>\n",
       "    </tr>\n",
       "    <tr>\n",
       "      <th>75%</th>\n",
       "      <td>58.000000</td>\n",
       "      <td>NaN</td>\n",
       "      <td>2.600000</td>\n",
       "      <td>1.300000</td>\n",
       "      <td>298.000000</td>\n",
       "      <td>60.500000</td>\n",
       "      <td>87.000000</td>\n",
       "      <td>7.200000</td>\n",
       "      <td>3.800000</td>\n",
       "      <td>1.100000</td>\n",
       "      <td>NaN</td>\n",
       "    </tr>\n",
       "    <tr>\n",
       "      <th>max</th>\n",
       "      <td>90.000000</td>\n",
       "      <td>NaN</td>\n",
       "      <td>75.000000</td>\n",
       "      <td>19.700000</td>\n",
       "      <td>2110.000000</td>\n",
       "      <td>2000.000000</td>\n",
       "      <td>4929.000000</td>\n",
       "      <td>9.600000</td>\n",
       "      <td>5.500000</td>\n",
       "      <td>2.800000</td>\n",
       "      <td>NaN</td>\n",
       "    </tr>\n",
       "  </tbody>\n",
       "</table>\n",
       "</div>"
      ],
      "text/plain": [
       "               Age  Gender  Total_Bilirubin  Direct_Bilirubin  \\\n",
       "count   583.000000   583.0       583.000000        583.000000   \n",
       "unique         NaN     2.0              NaN               NaN   \n",
       "top            NaN     1.0              NaN               NaN   \n",
       "freq           NaN   441.0              NaN               NaN   \n",
       "mean     44.746141     NaN         3.298799          1.486106   \n",
       "std      16.189833     NaN         6.209522          2.808498   \n",
       "min       4.000000     NaN         0.400000          0.100000   \n",
       "25%      33.000000     NaN         0.800000          0.200000   \n",
       "50%      45.000000     NaN         1.000000          0.300000   \n",
       "75%      58.000000     NaN         2.600000          1.300000   \n",
       "max      90.000000     NaN        75.000000         19.700000   \n",
       "\n",
       "        Alkaline_Phosphotase  Alamine_Aminotransferase  \\\n",
       "count             583.000000                583.000000   \n",
       "unique                   NaN                       NaN   \n",
       "top                      NaN                       NaN   \n",
       "freq                     NaN                       NaN   \n",
       "mean              290.576329                 80.713551   \n",
       "std               242.937989                182.620356   \n",
       "min                63.000000                 10.000000   \n",
       "25%               175.500000                 23.000000   \n",
       "50%               208.000000                 35.000000   \n",
       "75%               298.000000                 60.500000   \n",
       "max              2110.000000               2000.000000   \n",
       "\n",
       "        Aspartate_Aminotransferase  Total_Protiens     Albumin  \\\n",
       "count                   583.000000      583.000000  583.000000   \n",
       "unique                         NaN             NaN         NaN   \n",
       "top                            NaN             NaN         NaN   \n",
       "freq                           NaN             NaN         NaN   \n",
       "mean                    109.910806        6.483190    3.141852   \n",
       "std                     288.918529        1.085451    0.795519   \n",
       "min                      10.000000        2.700000    0.900000   \n",
       "25%                      25.000000        5.800000    2.600000   \n",
       "50%                      42.000000        6.600000    3.100000   \n",
       "75%                      87.000000        7.200000    3.800000   \n",
       "max                    4929.000000        9.600000    5.500000   \n",
       "\n",
       "        Albumin_and_Globulin_Ratio  Diseased  \n",
       "count                   583.000000     583.0  \n",
       "unique                         NaN       2.0  \n",
       "top                            NaN       0.0  \n",
       "freq                           NaN     416.0  \n",
       "mean                      0.947064       NaN  \n",
       "std                       0.318492       NaN  \n",
       "min                       0.300000       NaN  \n",
       "25%                       0.700000       NaN  \n",
       "50%                       0.947064       NaN  \n",
       "75%                       1.100000       NaN  \n",
       "max                       2.800000       NaN  "
      ]
     },
     "execution_count": 30,
     "metadata": {},
     "output_type": "execute_result"
    }
   ],
   "source": [
    "Data_Python.describe(include='all') # include='all' para dar un tratamiento diferente a las categoricas que a las cuantitativas"
   ]
  },
  {
   "cell_type": "markdown",
   "metadata": {},
   "source": []
  },
  {
   "cell_type": "markdown",
   "metadata": {},
   "source": [
    "### Análisis gráfico"
   ]
  },
  {
   "cell_type": "markdown",
   "metadata": {},
   "source": [
    "#### Histogramas para las variables cuantitativas"
   ]
  },
  {
   "cell_type": "code",
   "execution_count": 31,
   "metadata": {},
   "outputs": [],
   "source": [
    "import numpy as np\n",
    "\n",
    "import seaborn as sns\n",
    "import matplotlib as mpl\n",
    "import matplotlib.pyplot as plt"
   ]
  },
  {
   "cell_type": "markdown",
   "metadata": {},
   "source": []
  },
  {
   "cell_type": "code",
   "execution_count": 32,
   "metadata": {},
   "outputs": [
    {
     "data": {
      "image/png": "[encoded data removed]",
      "text/plain": [
       "<Figure size 936x936 with 9 Axes>"
      ]
     },
     "metadata": {
      "needs_background": "light"
     },
     "output_type": "display_data"
    }
   ],
   "source": [
    "fig, axs = plt.subplots(3, 3, figsize=(13, 13))\n",
    "\n",
    "p1 = sns.histplot(data=Data_Python, x=\"Total_Bilirubin\", stat=\"proportion\", bins=15, color=\"skyblue\", ax=axs[0, 0])\n",
    "p1.set_xticks( range(int(Data_Python['Total_Bilirubin'].min()) , int(Data_Python['Total_Bilirubin'].max()) , 10) )\n",
    "p1.set_yticks( np.arange(0, 1, 0.1)  )\n",
    "\n",
    "p2 = sns.histplot(data=Data_Python, x=\"Direct_Bilirubin\", stat=\"proportion\", bins=15, color=\"olive\", ax=axs[0, 1])\n",
    "p2.axes.set(xlabel='Direct_Bilirubin', ylabel=' ')\n",
    "p2.set_xticks( range(int(Data_Python['Direct_Bilirubin'].min()) , int(Data_Python['Direct_Bilirubin'].max()) , 3) )\n",
    "p2.set_yticks( np.arange(0, 1, 0.1)  )\n",
    "\n",
    "p3 = sns.histplot(data=Data_Python, x=\"Alkaline_Phosphotase\", stat=\"proportion\", bins=15, color=\"blue\", ax=axs[0, 2])\n",
    "p3.axes.set(xlabel='Alkaline_Phosphotase', ylabel=' ')\n",
    "p3.set_xticks( range(int(Data_Python['Alkaline_Phosphotase'].min()) , int(Data_Python['Alkaline_Phosphotase'].max()) , 320) )\n",
    "p3.set_yticks( np.arange(0, 1, 0.1)  )\n",
    "\n",
    "p4 = sns.histplot(data=Data_Python, x=\"Alamine_Aminotransferase\", stat=\"proportion\", bins=15, color=\"teal\", ax=axs[1, 0])\n",
    "p4.axes.set(xlabel='Alamine_Aminotransferase', ylabel=' ')\n",
    "p4.set_xticks( range(int(Data_Python['Alamine_Aminotransferase'].min()) , int(Data_Python['Alamine_Aminotransferase'].max()) , 300) )\n",
    "p4.set_yticks( np.arange(0, 1, 0.1)  )\n",
    "\n",
    "p5 = sns.histplot(data=Data_Python, x=\"Aspartate_Aminotransferase\", stat=\"proportion\", bins=15, color=\"purple\", ax=axs[1, 1])\n",
    "p5.axes.set(xlabel='Aspartate_Aminotransferase', ylabel=' ')\n",
    "p5.set_xticks( range(int(Data_Python['Aspartate_Aminotransferase'].min()) , int(Data_Python['Aspartate_Aminotransferase'].max()) , 850) )\n",
    "p5.set_yticks( np.arange(0, 1, 0.1)  )\n",
    "\n",
    "p6 = sns.histplot(data=Data_Python, x=\"Total_Protiens\", stat=\"proportion\", bins=15, color=\"pink\", ax=axs[1, 2])\n",
    "p6.axes.set(xlabel='Total_Protiens', ylabel=' ')\n",
    "p6.set_xticks( range(int(Data_Python['Total_Protiens'].min()) , int(Data_Python['Total_Protiens'].max()+1) , 1) )\n",
    "p6.set_yticks( np.arange(0, 1, 0.1)  )\n",
    "\n",
    "p7 = sns.histplot(data=Data_Python, x=\"Albumin\", stat=\"proportion\", bins=15, color=\"orange\", ax=axs[2, 0])\n",
    "p7.axes.set(xlabel='Albumin', ylabel=' ')\n",
    "p7.set_xticks( range(int(Data_Python['Albumin'].min()) , int(Data_Python['Albumin'].max()+1) , 1) )\n",
    "p7.set_yticks( np.arange(0, 1, 0.1)  )\n",
    "\n",
    "p8 = sns.histplot(data=Data_Python, x=\"Albumin_and_Globulin_Ratio\", stat=\"proportion\", bins=15, color=\"red\", ax=axs[2, 1])\n",
    "p8.axes.set(xlabel='Albumin_and_Globulin_Ratio', ylabel=' ')\n",
    "p8.set_xticks( np.arange(0, 2, 0.5)  )\n",
    "p8.set_yticks( np.arange(0, 1, 0.1)  )\n",
    "\n",
    "p9 = sns.histplot(data=Data_Python, x=\"Age\", stat=\"proportion\", bins=15, color=\"green\", ax=axs[2, 2])\n",
    "p9.axes.set(xlabel='Age', ylabel=' ')\n",
    "p9.set_xticks( range(int(Data_Python['Age'].min()) , int(Data_Python['Age'].max()) , 10) )\n",
    "p9.set_yticks( np.arange(0, 1, 0.1)  )\n",
    "\n",
    "plt.show()"
   ]
  },
  {
   "cell_type": "markdown",
   "metadata": {},
   "source": []
  },
  {
   "cell_type": "markdown",
   "metadata": {},
   "source": [
    "#### Diagramas de barras para las variables categoricas"
   ]
  },
  {
   "cell_type": "code",
   "execution_count": 33,
   "metadata": {},
   "outputs": [],
   "source": [
    "proportion_Female = len( Data_Python.loc[ Data_Python['Gender']==0 , :] ) / len(Data_Python)\n",
    "proportion_Male = len( Data_Python.loc[ Data_Python['Gender']==1 , :] ) / len(Data_Python)\n",
    "\n",
    "proportion_Diseased_yes = len( Data_Python.loc[ Data_Python['Diseased']==0 , :] ) / len(Data_Python)\n",
    "proportion_Diseased_no = len( Data_Python.loc[ Data_Python['Diseased']==1 , :] ) / len(Data_Python)"
   ]
  },
  {
   "cell_type": "code",
   "execution_count": 34,
   "metadata": {},
   "outputs": [
    {
     "name": "stderr",
     "output_type": "stream",
     "text": [
      "C:\\Users\\Usuario\\AppData\\Local\\Temp\\ipykernel_2164\\1309751954.py:8: SettingWithCopyWarning: \n",
      "A value is trying to be set on a copy of a slice from a DataFrame\n",
      "\n",
      "See the caveats in the documentation: https://pandas.pydata.org/pandas-docs/stable/user_guide/indexing.html#returning-a-view-versus-a-copy\n",
      "  Data_Python['proportion_Gender'][i] = proportion_Female\n"
     ]
    }
   ],
   "source": [
    "Data_Python['proportion_Gender'] = 0\n",
    "\n",
    "\n",
    "for i in range(0, len(Data_Python)):\n",
    "\n",
    "    if Data_Python['Gender'][i] == 0 :\n",
    "\n",
    "        Data_Python['proportion_Gender'][i] = proportion_Female\n",
    "\n",
    "    else :\n",
    "\n",
    "        Data_Python['proportion_Gender'][i] = proportion_Male"
   ]
  },
  {
   "cell_type": "code",
   "execution_count": 35,
   "metadata": {},
   "outputs": [
    {
     "name": "stderr",
     "output_type": "stream",
     "text": [
      "C:\\Users\\Usuario\\AppData\\Local\\Temp\\ipykernel_2164\\1902639056.py:8: SettingWithCopyWarning: \n",
      "A value is trying to be set on a copy of a slice from a DataFrame\n",
      "\n",
      "See the caveats in the documentation: https://pandas.pydata.org/pandas-docs/stable/user_guide/indexing.html#returning-a-view-versus-a-copy\n",
      "  Data_Python['proportion_Diseased'][i] = proportion_Diseased_yes\n"
     ]
    }
   ],
   "source": [
    "Data_Python['proportion_Diseased'] = 0\n",
    "\n",
    "\n",
    "for i in range(0, len(Data_Python)):\n",
    "\n",
    "    if Data_Python['Diseased'][i] == 0 :\n",
    "\n",
    "        Data_Python['proportion_Diseased'][i] = proportion_Diseased_yes\n",
    "\n",
    "    else :\n",
    "\n",
    "        Data_Python['proportion_Diseased'][i] = proportion_Diseased_no"
   ]
  },
  {
   "cell_type": "code",
   "execution_count": 36,
   "metadata": {},
   "outputs": [
    {
     "data": {
      "image/png": "[encoded data removed]",
      "text/plain": [
       "<Figure size 576x576 with 2 Axes>"
      ]
     },
     "metadata": {
      "needs_background": "light"
     },
     "output_type": "display_data"
    }
   ],
   "source": [
    "fig, axs = plt.subplots(1, 2, figsize=(8, 8))\n",
    "\n",
    "p1 = sns.barplot(x='Gender', y='proportion_Gender', data=Data_Python, ax=axs[0]) \n",
    "p1.set_yticks( np.arange(0, 0.85, 0.1)  )\n",
    "p1.set_xticklabels(['Female', 'Male'])\n",
    "p1.axes.set(xlabel='Gender', ylabel='proportion')\n",
    "\n",
    "p2 = sns.barplot(x='Diseased', y='proportion_Diseased', data=Data_Python, ax=axs[1]) \n",
    "p2.set_yticks( np.arange(0, 0.85, 0.1)  )\n",
    "p2.set_xticklabels(['Yes', 'No'])\n",
    "p2.axes.set(xlabel='Diseased', ylabel=' ')\n",
    "\n",
    "plt.show()"
   ]
  },
  {
   "cell_type": "code",
   "execution_count": 37,
   "metadata": {},
   "outputs": [
    {
     "data": {
      "text/plain": [
       "[0.24356775300171526, 0.7564322469982847]"
      ]
     },
     "execution_count": 37,
     "metadata": {},
     "output_type": "execute_result"
    }
   ],
   "source": [
    "[ proportion_Female , proportion_Male ]"
   ]
  },
  {
   "cell_type": "code",
   "execution_count": 38,
   "metadata": {},
   "outputs": [
    {
     "data": {
      "text/plain": [
       "[0.7135506003430532, 0.2864493996569468]"
      ]
     },
     "execution_count": 38,
     "metadata": {},
     "output_type": "execute_result"
    }
   ],
   "source": [
    "[ proportion_Diseased_yes , proportion_Diseased_no ]"
   ]
  },
  {
   "cell_type": "markdown",
   "metadata": {},
   "source": []
  },
  {
   "cell_type": "markdown",
   "metadata": {},
   "source": [
    "#### Box-plots para las variables cuantitativas"
   ]
  },
  {
   "cell_type": "code",
   "execution_count": 39,
   "metadata": {},
   "outputs": [
    {
     "data": {
      "image/png": "[encoded data removed]",
      "text/plain": [
       "<Figure size 936x936 with 9 Axes>"
      ]
     },
     "metadata": {
      "needs_background": "light"
     },
     "output_type": "display_data"
    }
   ],
   "source": [
    "fig, axs = plt.subplots(3, 3, figsize=(13, 13))\n",
    "\n",
    "p1 = sns.boxplot(x=Data_Python['Age'], color=\"palegreen\", ax=axs[0, 0])\n",
    "p1.set_xticks( range(int(Data_Python['Age'].min()) , int(Data_Python['Age'].max()+10) , 10) )\n",
    "\n",
    "p2 = sns.boxplot(x=Data_Python['Direct_Bilirubin'], color=\"olive\", ax=axs[0, 1])\n",
    "p2.set_xticks( range(int(Data_Python['Direct_Bilirubin'].min()) , int(Data_Python['Direct_Bilirubin'].max()) , 10) )\n",
    "\n",
    "p3 = sns.boxplot(x=Data_Python['Alkaline_Phosphotase'], color=\"blue\", ax=axs[1, 0])\n",
    "p3.set_xticks( range(int(Data_Python['Alkaline_Phosphotase'].min()) , int(Data_Python['Alkaline_Phosphotase'].max() ) , 300) )\n",
    "\n",
    "p4 = sns.boxplot(x=Data_Python['Alamine_Aminotransferase'], color=\"teal\", ax=axs[1, 1])\n",
    "p4.set_xticks( range(int(Data_Python['Alamine_Aminotransferase'].min()) , int(Data_Python['Alamine_Aminotransferase'].max()) , 500) )\n",
    "\n",
    "p5 = sns.boxplot(x=Data_Python['Aspartate_Aminotransferase'], color=\"purple\", ax=axs[0, 2])\n",
    "p5.set_xticks( range(int(Data_Python['Aspartate_Aminotransferase'].min()) , int(Data_Python['Aspartate_Aminotransferase'].max()) , 850) )\n",
    "\n",
    "p6 = sns.boxplot(x=Data_Python['Total_Protiens'], color=\"pink\", ax=axs[1, 2])\n",
    "p6.set_xticks( range(int(Data_Python['Total_Protiens'].min()) , int(Data_Python['Total_Protiens'].max()) , 10) )\n",
    "\n",
    "p7 = sns.boxplot(x=Data_Python['Albumin'], color=\"orange\", ax=axs[2, 2])\n",
    "p7.set_xticks( range(int(Data_Python['Albumin'].min()) , int(Data_Python['Albumin'].max()) , 10) )\n",
    "\n",
    "p8 = sns.boxplot(x=Data_Python['Albumin_and_Globulin_Ratio'], color=\"red\", ax=axs[2, 1])\n",
    "p8.set_xticks( range(int(Data_Python['Albumin_and_Globulin_Ratio'].min()) , int(Data_Python['Albumin_and_Globulin_Ratio'].max()) , 10) )\n",
    "\n",
    "p9 = sns.boxplot(x=Data_Python['Total_Bilirubin'], color=\"skyblue\", ax=axs[2, 0])\n",
    "p9.set_xticks( range(int(Data_Python['Total_Bilirubin'].min()) , int(Data_Python['Total_Bilirubin'].max()) , 10) )\n",
    "\n",
    "\n",
    "plt.show()"
   ]
  },
  {
   "cell_type": "markdown",
   "metadata": {},
   "source": []
  },
  {
   "cell_type": "markdown",
   "metadata": {},
   "source": [
    "### Análisis de la relación entre los predictores categoricos y la respuesta"
   ]
  },
  {
   "cell_type": "markdown",
   "metadata": {},
   "source": [
    "#### Diagrama de barras de la respuesta en función de predictores categóricos"
   ]
  },
  {
   "cell_type": "markdown",
   "metadata": {},
   "source": [
    "**Frecuencia relativa de genero condicionada a enfermedad**"
   ]
  },
  {
   "cell_type": "code",
   "execution_count": null,
   "metadata": {},
   "outputs": [],
   "source": [
    "Df_Diseased_Yes = Data_Python.loc[ Data_Python['Diseased']==0 , :] \n",
    "\n",
    "proportion_Female_in_Diseased_Yes = len( Df_Diseased_Yes.loc[Df_Diseased_Yes['Gender']==0 , :] ) / len(Df_Diseased_Yes)\n",
    "\n",
    "####################\n",
    "\n",
    "Df_Diseased_Yes = Data_Python.loc[ Data_Python['Diseased']==0 , :] \n",
    "\n",
    "proportion_Male_in_Diseased_Yes = len( Df_Diseased_Yes.loc[Df_Diseased_Yes['Gender']==1 , :] ) / len(Df_Diseased_Yes)\n",
    "\n",
    "####################\n",
    "\n",
    "Df_Diseased_No = Data_Python.loc[ Data_Python['Diseased']==1 , :] \n",
    "\n",
    "proportion_Female_in_Diseased_No = len( Df_Diseased_No.loc[Df_Diseased_No['Gender']==0 , :] ) / len(Df_Diseased_No)\n",
    "\n",
    "####################\n",
    "\n",
    "Df_Diseased_No = Data_Python.loc[ Data_Python['Diseased']==1 , :] \n",
    "\n",
    "proportion_Male_in_Diseased_No = len( Df_Diseased_No.loc[Df_Diseased_No['Gender']==1 , :] ) / len(Df_Diseased_No)\n"
   ]
  },
  {
   "cell_type": "code",
   "execution_count": null,
   "metadata": {},
   "outputs": [],
   "source": [
    "def Table_Con_Rel_Freq_2_Var_Py (df, var1, p1, p2, var1_name='var1' , var2_name='var2') :\n",
    "\n",
    "    table = np.zeros(( p2+1 , p1+1 ))\n",
    "    table[:] = np.nan\n",
    "\n",
    "##########################################################\n",
    "\n",
    "    for i in range(0, p2+1):\n",
    "        for j in range(0, p1+1):\n",
    "\n",
    "            df_new = df.loc[ var1 == j   , : ]\n",
    "\n",
    "            table[i,j] = len( df_new.loc[ df_new[var2_name] == i , :] ) / len(df_new)\n",
    "    \n",
    "    table = pd.DataFrame(table)\n",
    "\n",
    "    return table"
   ]
  },
  {
   "cell_type": "code",
   "execution_count": null,
   "metadata": {},
   "outputs": [],
   "source": [
    "Frec_Relativas_Condicionadas_Gender_in_Diseased = Table_Con_Rel_Freq_2_Var_Py (Data_Python, Data_Python['Diseased'], 1, 1, var1_name='Diseased' , var2_name='Gender')\n",
    "\n",
    "Frec_Relativas_Condicionadas_Gender_in_Diseased.index = ['Female' , 'Male']\n",
    "Frec_Relativas_Condicionadas_Gender_in_Diseased.columns = ['Yes' , 'No']\n",
    "Frec_Relativas_Condicionadas_Gender_in_Diseased = Frec_Relativas_Condicionadas_Gender_in_Diseased.style.set_caption(\"Gender  |  Diseased \")"
   ]
  },
  {
   "cell_type": "code",
   "execution_count": 67,
   "metadata": {},
   "outputs": [
    {
     "data": {
      "text/plain": [
       "<matplotlib.legend.Legend at 0x2210a597c10>"
      ]
     },
     "execution_count": 67,
     "metadata": {},
     "output_type": "execute_result"
    },
    {
     "data": {
      "image/png": "[encoded data removed]",
      "text/plain": [
       "<Figure size 432x288 with 1 Axes>"
      ]
     },
     "metadata": {
      "needs_background": "light"
     },
     "output_type": "display_data"
    }
   ],
   "source": [
    "p1 = sns.countplot(data=Data_Python, x=\"Diseased\", hue=\"Gender\", palette=\"husl\")\n",
    "p1.set_xticklabels(['Yes', 'No'])\n",
    "p1.legend(title='Gender', loc='upper right', labels=['Female', 'Male'])"
   ]
  },
  {
   "cell_type": "code",
   "execution_count": null,
   "metadata": {},
   "outputs": [],
   "source": [
    "Frec_Relativas_Condicionadas_Gender_in_Diseased"
   ]
  },
  {
   "cell_type": "code",
   "execution_count": 62,
   "metadata": {},
   "outputs": [
    {
     "data": {
      "text/plain": [
       "[0.22115384615384615, 0.7788461538461539]"
      ]
     },
     "execution_count": 62,
     "metadata": {},
     "output_type": "execute_result"
    }
   ],
   "source": [
    "[proportion_Female_in_Diseased_Yes , proportion_Male_in_Diseased_Yes]"
   ]
  },
  {
   "cell_type": "code",
   "execution_count": 63,
   "metadata": {},
   "outputs": [
    {
     "data": {
      "text/plain": [
       "[0.2994011976047904, 0.7005988023952096]"
      ]
     },
     "execution_count": 63,
     "metadata": {},
     "output_type": "execute_result"
    }
   ],
   "source": [
    "[proportion_Female_in_Diseased_No , proportion_Male_in_Diseased_No]"
   ]
  },
  {
   "cell_type": "markdown",
   "metadata": {},
   "source": []
  },
  {
   "cell_type": "markdown",
   "metadata": {},
   "source": []
  },
  {
   "cell_type": "markdown",
   "metadata": {},
   "source": [
    "**Frecuencia relativa de enfermedad condicionada al genero**"
   ]
  },
  {
   "cell_type": "code",
   "execution_count": null,
   "metadata": {},
   "outputs": [],
   "source": [
    "Frec_Relativas_Condicionadas_Diseased_in_Gender = Table_Con_Rel_Freq_2_Var_Py (Data_Python, Data_Python['Gender'], 1, 1, var1_name='Gender' , var2_name='Diseased')\n",
    "Frec_Relativas_Condicionadas_Diseased_in_Gender.index = ['Yes' , 'No']\n",
    "Frec_Relativas_Condicionadas_Diseased_in_Gender.columns = ['Female' , 'Male']\n",
    "Frec_Relativas_Condicionadas_Diseased_in_Gender = Frec_Relativas_Condicionadas_Diseased_in_Gender.style.set_caption(\"Diseased | Gender\")"
   ]
  },
  {
   "cell_type": "code",
   "execution_count": 121,
   "metadata": {},
   "outputs": [
    {
     "data": {
      "text/plain": [
       "<matplotlib.legend.Legend at 0x2210a576890>"
      ]
     },
     "execution_count": 121,
     "metadata": {},
     "output_type": "execute_result"
    },
    {
     "data": {
      "image/png": "[encoded data removed]",
      "text/plain": [
       "<Figure size 432x288 with 1 Axes>"
      ]
     },
     "metadata": {
      "needs_background": "light"
     },
     "output_type": "display_data"
    }
   ],
   "source": [
    "p = sns.countplot(data=Data_Python, x=\"Gender\", hue=\"Diseased\", palette=\"husl\")\n",
    "p.set_xticklabels(['Female', 'Male'])\n",
    "p.legend(title='Diseased', loc='upper right', labels=['Yes', 'No'])"
   ]
  },
  {
   "cell_type": "code",
   "execution_count": 116,
   "metadata": {},
   "outputs": [
    {
     "data": {
      "text/html": [
       "<style type=\"text/css\">\n",
       "</style>\n",
       "<table id=\"T_86453\">\n",
       "  <caption>Diseased | Gender</caption>\n",
       "  <thead>\n",
       "    <tr>\n",
       "      <th class=\"blank level0\" >&nbsp;</th>\n",
       "      <th id=\"T_86453_level0_col0\" class=\"col_heading level0 col0\" >Female</th>\n",
       "      <th id=\"T_86453_level0_col1\" class=\"col_heading level0 col1\" >Male</th>\n",
       "    </tr>\n",
       "  </thead>\n",
       "  <tbody>\n",
       "    <tr>\n",
       "      <th id=\"T_86453_level0_row0\" class=\"row_heading level0 row0\" >Yes</th>\n",
       "      <td id=\"T_86453_row0_col0\" class=\"data row0 col0\" >0.647887</td>\n",
       "      <td id=\"T_86453_row0_col1\" class=\"data row0 col1\" >0.734694</td>\n",
       "    </tr>\n",
       "    <tr>\n",
       "      <th id=\"T_86453_level0_row1\" class=\"row_heading level0 row1\" >No</th>\n",
       "      <td id=\"T_86453_row1_col0\" class=\"data row1 col0\" >0.352113</td>\n",
       "      <td id=\"T_86453_row1_col1\" class=\"data row1 col1\" >0.265306</td>\n",
       "    </tr>\n",
       "  </tbody>\n",
       "</table>\n"
      ],
      "text/plain": [
       "<pandas.io.formats.style.Styler at 0x2210f75aa40>"
      ]
     },
     "execution_count": 116,
     "metadata": {},
     "output_type": "execute_result"
    }
   ],
   "source": [
    "Frec_Relativas_Condicionadas_Diseased_in_Gender"
   ]
  },
  {
   "cell_type": "markdown",
   "metadata": {},
   "source": []
  },
  {
   "cell_type": "markdown",
   "metadata": {},
   "source": []
  },
  {
   "cell_type": "markdown",
   "metadata": {},
   "source": [
    "**Frecuecnia relativa de enfermedad en funcion del grupo de edad**"
   ]
  },
  {
   "cell_type": "markdown",
   "metadata": {},
   "source": [
    "Tenemos que categorizar la variable cuantitativa Age (edad) , para ello debemos emplear una regla de categorizacion (mediana, media, cuartiles, Scott ...)"
   ]
  },
  {
   "cell_type": "markdown",
   "metadata": {},
   "source": [
    "Usaremos la regla de los cuartiles por simplicidad:"
   ]
  },
  {
   "cell_type": "code",
   "execution_count": 143,
   "metadata": {},
   "outputs": [
    {
     "data": {
      "text/plain": [
       "array([ 4., 33., 45., 58., 90.])"
      ]
     },
     "execution_count": 143,
     "metadata": {},
     "output_type": "execute_result"
    }
   ],
   "source": [
    "intervals = np.quantile( Data_Python['Age'] , [0, 0.25, 0.5, 0.75 , 1])\n",
    "intervals"
   ]
  },
  {
   "cell_type": "markdown",
   "metadata": {},
   "source": [
    "Nos apoyaremos en la funcion `cut()` de la libreria `Pandas` para categorizar la variable Age usando la regla de los cuartiles.\n",
    "\n",
    "A esta funcion le das un vector (bins) y construye unos intervalos con los elementos del vector, en este caso (3, 33], (33, 45], (45, 58], (58, 90]. Luego te devuelve a qué intervalo pertenece cada observacion de una variable dada (en nuestro caso Age), y tambien nos permite codificar estos intervalos con la codificacion estandar (0,1,2,...), y asi obtener una nueva variable que es una version categorizada de la variable pasada (Age en nuestro caso)."
   ]
  },
  {
   "cell_type": "markdown",
   "metadata": {},
   "source": [
    "Vamos a restar una cantidad positiva (por ejemplo 1) al minimo de Age, puesto que ese valor sera el extremo inferior del primer intervalo, y dicho intervalo será abierto en ese extremo (por configuración de la funcion `cut`), por tanto si no restasemos una cantidad positiva, el valor minimo Age no estaria en ninguno de los intervalos generados por `cut()`"
   ]
  },
  {
   "cell_type": "code",
   "execution_count": 144,
   "metadata": {},
   "outputs": [
    {
     "data": {
      "text/plain": [
       "array([ 3., 33., 45., 58., 90.])"
      ]
     },
     "execution_count": 144,
     "metadata": {},
     "output_type": "execute_result"
    }
   ],
   "source": [
    "intervals[0] =  intervals[0] - 1\n",
    "\n",
    "intervals"
   ]
  },
  {
   "cell_type": "code",
   "execution_count": 146,
   "metadata": {},
   "outputs": [
    {
     "data": {
      "text/plain": [
       "0      (58.0, 90.0]\n",
       "1      (58.0, 90.0]\n",
       "2      (58.0, 90.0]\n",
       "3      (45.0, 58.0]\n",
       "4      (58.0, 90.0]\n",
       "           ...     \n",
       "578    (58.0, 90.0]\n",
       "579    (33.0, 45.0]\n",
       "580    (45.0, 58.0]\n",
       "581     (3.0, 33.0]\n",
       "582    (33.0, 45.0]\n",
       "Name: Age, Length: 583, dtype: category\n",
       "Categories (4, interval[float64, right]): [(3.0, 33.0] < (33.0, 45.0] < (45.0, 58.0] < (58.0, 90.0]]"
      ]
     },
     "execution_count": 146,
     "metadata": {},
     "output_type": "execute_result"
    }
   ],
   "source": [
    "pd.cut(x=Data_Python['Age'] , bins=intervals , right=True)"
   ]
  },
  {
   "cell_type": "code",
   "execution_count": 147,
   "metadata": {},
   "outputs": [
    {
     "data": {
      "text/plain": [
       "0      3\n",
       "1      3\n",
       "2      3\n",
       "3      2\n",
       "4      3\n",
       "      ..\n",
       "578    3\n",
       "579    1\n",
       "580    2\n",
       "581    0\n",
       "582    1\n",
       "Name: Age, Length: 583, dtype: int64"
      ]
     },
     "execution_count": 147,
     "metadata": {},
     "output_type": "execute_result"
    }
   ],
   "source": [
    "pd.cut(x=Data_Python['Age'] , bins=intervals , labels=False)"
   ]
  },
  {
   "cell_type": "code",
   "execution_count": 130,
   "metadata": {},
   "outputs": [],
   "source": [
    "Data_Python['Age_cat'] = pd.cut(x=Data_Python['Age'] , bins=intervals , labels=False)"
   ]
  },
  {
   "cell_type": "markdown",
   "metadata": {},
   "source": [
    "La nueva variable $Age\\_cat$ es tal que:\n",
    "\n",
    "$$\n",
    "Age\\_cat_{i} = \\left\\lbrace\\begin{array}{l} 0, \\hspace{0.25cm} \\text{ if $Age\\_cat_{i} \\in \\left[ Min(Age\\_cat) \\hspace{0.03cm} ,\\hspace{0.03cm} Q(0.25, Age\\_cat) \\right] $} \\\\ \\\\ 1, \\hspace{0.25cm}\\text{ if $Age\\_cat_{i} \\in ( Q(0.25 , Age\\_cat) , Q(0.50 , Age\\_cat)] $}   \n",
    "\\\\ \\\\ 2, \\hspace{0.25cm} \\text{ if $Age\\_cat_{i} \\in (Q(0.50 , Age\\_cat) , Q(0.75 , Age\\_cat)] $}   \\\\ \\\\ 3,  \\hspace{0.25cm} \\text{ if $Age\\_cat_{i} \\in \\left(Q(0.75 ,  Age\\_cat) \\hspace{0.02cm},\\hspace{0.02cm} Max(Age\\_cat)\\right] $} \\end{array}\\right.\n",
    "$$\n",
    "\n",
    "para $\\hspace{0.1cm} i=1,...,n$"
   ]
  },
  {
   "cell_type": "markdown",
   "metadata": {},
   "source": []
  },
  {
   "cell_type": "markdown",
   "metadata": {},
   "source": [
    "Ahora tenemos una variable que nos indica el grupo de edad de cada individuo. Tenemos tes grupos de edad. \n",
    "\n",
    "Grupo 0:  $\\hspace{0.2cm} \\leqslant 33 $ años \n",
    "\n",
    "Grupo 1: $\\hspace{0.2cm}$ entre $33$ y $45$ años\n",
    "\n",
    "Grupo 2: $\\hspace{0.2cm}$ entre $45$ y $58$ años\n",
    "\n",
    "grupo 3: $\\hspace{0.2cm}$ $> 58$"
   ]
  },
  {
   "cell_type": "markdown",
   "metadata": {},
   "source": []
  },
  {
   "cell_type": "code",
   "execution_count": 152,
   "metadata": {},
   "outputs": [],
   "source": [
    "Frec_Relativas_Condicionadas_Diseased_in_Aged = Table_Con_Rel_Freq_2_Var_Py (Data_Python, Data_Python['Age_cat'], 3, 1, var1_name='Age_cat' , var2_name='Diseased')\n",
    "Frec_Relativas_Condicionadas_Diseased_in_Aged.index = ['Yes' , 'No']\n",
    "Frec_Relativas_Condicionadas_Diseased_in_Aged.columns = ['(3, 33]', '(33, 45]' , '(45, 58]' , '(58, 90]']\n",
    "Frec_Relativas_Condicionadas_Diseased_in_Aged = Frec_Relativas_Condicionadas_Diseased_in_Aged.style.set_caption(\"Diseased | Age Group\")"
   ]
  },
  {
   "cell_type": "code",
   "execution_count": 160,
   "metadata": {},
   "outputs": [
    {
     "data": {
      "text/plain": [
       "<matplotlib.legend.Legend at 0x2210fca5e70>"
      ]
     },
     "execution_count": 160,
     "metadata": {},
     "output_type": "execute_result"
    },
    {
     "data": {
      "image/png": "[encoded data removed]",
      "text/plain": [
       "<Figure size 432x288 with 1 Axes>"
      ]
     },
     "metadata": {
      "needs_background": "light"
     },
     "output_type": "display_data"
    }
   ],
   "source": [
    "p = sns.countplot(data=Data_Python, x=\"Age_cat\", hue=\"Diseased\", palette=\"husl\")\n",
    "p.set_xticklabels(['(3, 33]', '(33, 45]' , '(45, 58]' , '(58, 90]'])\n",
    "p.legend(title='Diseased', loc='upper right', labels=['Yes', 'No'] )"
   ]
  },
  {
   "cell_type": "code",
   "execution_count": 153,
   "metadata": {},
   "outputs": [
    {
     "data": {
      "text/html": [
       "<style type=\"text/css\">\n",
       "</style>\n",
       "<table id=\"T_be93d\">\n",
       "  <caption>Diseased | Age Group</caption>\n",
       "  <thead>\n",
       "    <tr>\n",
       "      <th class=\"blank level0\" >&nbsp;</th>\n",
       "      <th id=\"T_be93d_level0_col0\" class=\"col_heading level0 col0\" >(3, 33]</th>\n",
       "      <th id=\"T_be93d_level0_col1\" class=\"col_heading level0 col1\" >(33, 45]</th>\n",
       "      <th id=\"T_be93d_level0_col2\" class=\"col_heading level0 col2\" >(45, 58]</th>\n",
       "      <th id=\"T_be93d_level0_col3\" class=\"col_heading level0 col3\" >(58, 90]</th>\n",
       "    </tr>\n",
       "  </thead>\n",
       "  <tbody>\n",
       "    <tr>\n",
       "      <th id=\"T_be93d_level0_row0\" class=\"row_heading level0 row0\" >Yes</th>\n",
       "      <td id=\"T_be93d_row0_col0\" class=\"data row0 col0\" >0.653846</td>\n",
       "      <td id=\"T_be93d_row0_col1\" class=\"data row0 col1\" >0.676056</td>\n",
       "      <td id=\"T_be93d_row0_col2\" class=\"data row0 col2\" >0.800000</td>\n",
       "      <td id=\"T_be93d_row0_col3\" class=\"data row0 col3\" >0.736842</td>\n",
       "    </tr>\n",
       "    <tr>\n",
       "      <th id=\"T_be93d_level0_row1\" class=\"row_heading level0 row1\" >No</th>\n",
       "      <td id=\"T_be93d_row1_col0\" class=\"data row1 col0\" >0.346154</td>\n",
       "      <td id=\"T_be93d_row1_col1\" class=\"data row1 col1\" >0.323944</td>\n",
       "      <td id=\"T_be93d_row1_col2\" class=\"data row1 col2\" >0.200000</td>\n",
       "      <td id=\"T_be93d_row1_col3\" class=\"data row1 col3\" >0.263158</td>\n",
       "    </tr>\n",
       "  </tbody>\n",
       "</table>\n"
      ],
      "text/plain": [
       "<pandas.io.formats.style.Styler at 0x2210a596530>"
      ]
     },
     "execution_count": 153,
     "metadata": {},
     "output_type": "execute_result"
    }
   ],
   "source": [
    "Frec_Relativas_Condicionadas_Diseased_in_Aged  "
   ]
  },
  {
   "cell_type": "markdown",
   "metadata": {},
   "source": []
  },
  {
   "cell_type": "markdown",
   "metadata": {},
   "source": [
    "**Frecuecnia relativa de grupo de edad en funcion de enfermedad**"
   ]
  },
  {
   "cell_type": "code",
   "execution_count": 154,
   "metadata": {},
   "outputs": [],
   "source": [
    "Frec_Relativas_Condicionadas_Age_in_Diseased = Table_Con_Rel_Freq_2_Var_Py (Data_Python, Data_Python['Diseased'], 1, 3, var1_name='Diseased' , var2_name='Age_cat')\n",
    "Frec_Relativas_Condicionadas_Age_in_Diseased.index = ['(3, 33]', '(33, 45]' , '(45, 58]' , '(58, 90]']\n",
    "Frec_Relativas_Condicionadas_Age_in_Diseased.columns = ['Yes' , 'No']\n",
    "Frec_Relativas_Condicionadas_Age_in_Diseased = Frec_Relativas_Condicionadas_Age_in_Diseased.style.set_caption(\"Age Group | Diseased\")"
   ]
  },
  {
   "cell_type": "code",
   "execution_count": 161,
   "metadata": {},
   "outputs": [
    {
     "data": {
      "text/plain": [
       "<matplotlib.legend.Legend at 0x2210fbe4b50>"
      ]
     },
     "execution_count": 161,
     "metadata": {},
     "output_type": "execute_result"
    },
    {
     "data": {
      "image/png": "[encoded data removed]",
      "text/plain": [
       "<Figure size 432x288 with 1 Axes>"
      ]
     },
     "metadata": {
      "needs_background": "light"
     },
     "output_type": "display_data"
    }
   ],
   "source": [
    "p = sns.countplot(data=Data_Python, x=\"Diseased\", hue=\"Age_cat\", palette=\"husl\")\n",
    "p.set_xticklabels(['Yes', 'No'])\n",
    "p.legend(title='Group Age', loc='upper right', labels= ['(3, 33]', '(33, 45]' , '(45, 58]' , '(58, 90]'])"
   ]
  },
  {
   "cell_type": "code",
   "execution_count": 155,
   "metadata": {},
   "outputs": [
    {
     "data": {
      "text/html": [
       "<style type=\"text/css\">\n",
       "</style>\n",
       "<table id=\"T_dcbcc\">\n",
       "  <caption>Age Group | Diseased</caption>\n",
       "  <thead>\n",
       "    <tr>\n",
       "      <th class=\"blank level0\" >&nbsp;</th>\n",
       "      <th id=\"T_dcbcc_level0_col0\" class=\"col_heading level0 col0\" >Yes</th>\n",
       "      <th id=\"T_dcbcc_level0_col1\" class=\"col_heading level0 col1\" >No</th>\n",
       "    </tr>\n",
       "  </thead>\n",
       "  <tbody>\n",
       "    <tr>\n",
       "      <th id=\"T_dcbcc_level0_row0\" class=\"row_heading level0 row0\" >(3, 33]</th>\n",
       "      <td id=\"T_dcbcc_row0_col0\" class=\"data row0 col0\" >0.245192</td>\n",
       "      <td id=\"T_dcbcc_row0_col1\" class=\"data row0 col1\" >0.323353</td>\n",
       "    </tr>\n",
       "    <tr>\n",
       "      <th id=\"T_dcbcc_level0_row1\" class=\"row_heading level0 row1\" >(33, 45]</th>\n",
       "      <td id=\"T_dcbcc_row1_col0\" class=\"data row1 col0\" >0.230769</td>\n",
       "      <td id=\"T_dcbcc_row1_col1\" class=\"data row1 col1\" >0.275449</td>\n",
       "    </tr>\n",
       "    <tr>\n",
       "      <th id=\"T_dcbcc_level0_row2\" class=\"row_heading level0 row2\" >(45, 58]</th>\n",
       "      <td id=\"T_dcbcc_row2_col0\" class=\"data row2 col0\" >0.288462</td>\n",
       "      <td id=\"T_dcbcc_row2_col1\" class=\"data row2 col1\" >0.179641</td>\n",
       "    </tr>\n",
       "    <tr>\n",
       "      <th id=\"T_dcbcc_level0_row3\" class=\"row_heading level0 row3\" >(58, 90]</th>\n",
       "      <td id=\"T_dcbcc_row3_col0\" class=\"data row3 col0\" >0.235577</td>\n",
       "      <td id=\"T_dcbcc_row3_col1\" class=\"data row3 col1\" >0.209581</td>\n",
       "    </tr>\n",
       "  </tbody>\n",
       "</table>\n"
      ],
      "text/plain": [
       "<pandas.io.formats.style.Styler at 0x2210f9d47f0>"
      ]
     },
     "execution_count": 155,
     "metadata": {},
     "output_type": "execute_result"
    }
   ],
   "source": [
    "Frec_Relativas_Condicionadas_Age_in_Diseased"
   ]
  },
  {
   "cell_type": "markdown",
   "metadata": {},
   "source": []
  },
  {
   "cell_type": "markdown",
   "metadata": {},
   "source": [
    "### Análisis de la relación entre los predictores cuantitativos y la respuesta"
   ]
  },
  {
   "cell_type": "code",
   "execution_count": 269,
   "metadata": {},
   "outputs": [],
   "source": [
    "Data_Python_Quantitative_Diseased_yes = Data_Python.loc[ Data_Python['Diseased'] == 0 , (Data_Python.columns != 'Gender') & (Data_Python.columns != 'Diseased') & (Data_Python.columns != 'proportion_Gender')  & (Data_Python.columns != 'proportion_Diseased') & (Data_Python.columns != 'Age_cat') ]\n",
    "Data_Python_Quantitative_Diseased_no = Data_Python.loc[ Data_Python['Diseased'] == 1 , (Data_Python.columns != 'Gender') & (Data_Python.columns != 'Diseased') & (Data_Python.columns != 'proportion_Gender')  & (Data_Python.columns != 'proportion_Diseased') & (Data_Python.columns != 'Age_cat') ]"
   ]
  },
  {
   "cell_type": "code",
   "execution_count": 270,
   "metadata": {},
   "outputs": [],
   "source": [
    "std_yes = Data_Python_Quantitative_Diseased_yes.std()\n",
    "std_no = Data_Python_Quantitative_Diseased_no.std()\n",
    "\n",
    "mean_yes = Data_Python_Quantitative_Diseased_yes.mean()\n",
    "mean_no = Data_Python_Quantitative_Diseased_no.mean()\n",
    "\n",
    "Q25_yes = Data_Python_Quantitative_Diseased_yes.quantile(q=0.25)\n",
    "Q25_no = Data_Python_Quantitative_Diseased_no.quantile(q=0.25)\n",
    "\n",
    "Q50_yes = Data_Python_Quantitative_Diseased_yes.quantile(q=0.5)\n",
    "Q50_no = Data_Python_Quantitative_Diseased_no.quantile(q=0.5)\n",
    "\n",
    "Q75_yes = Data_Python_Quantitative_Diseased_yes.quantile(q=0.75)\n",
    "Q75_no = Data_Python_Quantitative_Diseased_no.quantile(q=0.75)\n",
    "\n",
    "min_yes = Data_Python_Quantitative_Diseased_yes.min()\n",
    "min_no = Data_Python_Quantitative_Diseased_no.min()\n",
    "\n",
    "max_yes = Data_Python_Quantitative_Diseased_yes.max()\n",
    "max_no = Data_Python_Quantitative_Diseased_no.max()"
   ]
  },
  {
   "cell_type": "code",
   "execution_count": 286,
   "metadata": {},
   "outputs": [],
   "source": [
    "df_yes = pd.DataFrame({'mean':mean_yes , 'min':min_yes , 'Q25':Q25_yes  , 'median':Q50_yes  , 'Q75':Q75_yes  , 'max':max_yes  , 'std':std_yes})\n",
    "\n",
    "df_no = pd.DataFrame({'mean':mean_no , 'min':min_no , 'Q25':Q25_no  , 'median':Q50_no  , 'Q75':Q75_no  , 'max':max_no  , 'std':std_no})"
   ]
  },
  {
   "cell_type": "code",
   "execution_count": 290,
   "metadata": {},
   "outputs": [
    {
     "data": {
      "text/html": [
       "<div>\n",
       "<style scoped>\n",
       "    .dataframe tbody tr th:only-of-type {\n",
       "        vertical-align: middle;\n",
       "    }\n",
       "\n",
       "    .dataframe tbody tr th {\n",
       "        vertical-align: top;\n",
       "    }\n",
       "\n",
       "    .dataframe thead th {\n",
       "        text-align: right;\n",
       "    }\n",
       "</style>\n",
       "<table border=\"1\" class=\"dataframe\">\n",
       "  <thead>\n",
       "    <tr style=\"text-align: right;\">\n",
       "      <th></th>\n",
       "      <th>Age_yes</th>\n",
       "      <th>Age_no</th>\n",
       "      <th>Total_Bilirubin_yes</th>\n",
       "      <th>Total_Bilirubin_no</th>\n",
       "      <th>Direct_Bilirubin_yes</th>\n",
       "      <th>Direct_Bilirubin_no</th>\n",
       "      <th>Alkaline_Phosphotase_yes</th>\n",
       "      <th>Alkaline_Phosphotase_no</th>\n",
       "      <th>Alamine_Aminotransferase_yes</th>\n",
       "      <th>Alamine_Aminotransferase_no</th>\n",
       "      <th>Aspartate_Aminotransferase_yes</th>\n",
       "      <th>Aspartate_Aminotransferase_no</th>\n",
       "      <th>Total_Protiens_yes</th>\n",
       "      <th>Total_Protiens_no</th>\n",
       "      <th>Albumin_yes</th>\n",
       "      <th>Albumin_no</th>\n",
       "      <th>Albumin_and_Globulin_Ratio_yes</th>\n",
       "      <th>Albumin_and_Globulin_Ratio_no</th>\n",
       "    </tr>\n",
       "  </thead>\n",
       "  <tbody>\n",
       "    <tr>\n",
       "      <th>mean</th>\n",
       "      <td>46.153846</td>\n",
       "      <td>41.239521</td>\n",
       "      <td>4.164423</td>\n",
       "      <td>1.142515</td>\n",
       "      <td>1.923558</td>\n",
       "      <td>0.396407</td>\n",
       "      <td>319.007212</td>\n",
       "      <td>219.754491</td>\n",
       "      <td>99.605769</td>\n",
       "      <td>33.652695</td>\n",
       "      <td>137.699519</td>\n",
       "      <td>40.688623</td>\n",
       "      <td>6.459135</td>\n",
       "      <td>6.543114</td>\n",
       "      <td>3.060577</td>\n",
       "      <td>3.344311</td>\n",
       "      <td>0.914337</td>\n",
       "      <td>1.028588</td>\n",
       "    </tr>\n",
       "    <tr>\n",
       "      <th>min</th>\n",
       "      <td>7.000000</td>\n",
       "      <td>4.000000</td>\n",
       "      <td>0.400000</td>\n",
       "      <td>0.500000</td>\n",
       "      <td>0.100000</td>\n",
       "      <td>0.100000</td>\n",
       "      <td>63.000000</td>\n",
       "      <td>90.000000</td>\n",
       "      <td>12.000000</td>\n",
       "      <td>10.000000</td>\n",
       "      <td>11.000000</td>\n",
       "      <td>10.000000</td>\n",
       "      <td>2.700000</td>\n",
       "      <td>3.700000</td>\n",
       "      <td>0.900000</td>\n",
       "      <td>1.400000</td>\n",
       "      <td>0.300000</td>\n",
       "      <td>0.370000</td>\n",
       "    </tr>\n",
       "    <tr>\n",
       "      <th>Q25</th>\n",
       "      <td>34.000000</td>\n",
       "      <td>28.000000</td>\n",
       "      <td>0.800000</td>\n",
       "      <td>0.700000</td>\n",
       "      <td>0.200000</td>\n",
       "      <td>0.200000</td>\n",
       "      <td>186.000000</td>\n",
       "      <td>161.500000</td>\n",
       "      <td>25.000000</td>\n",
       "      <td>20.000000</td>\n",
       "      <td>29.750000</td>\n",
       "      <td>21.000000</td>\n",
       "      <td>5.700000</td>\n",
       "      <td>5.900000</td>\n",
       "      <td>2.500000</td>\n",
       "      <td>2.900000</td>\n",
       "      <td>0.700000</td>\n",
       "      <td>0.900000</td>\n",
       "    </tr>\n",
       "    <tr>\n",
       "      <th>median</th>\n",
       "      <td>46.000000</td>\n",
       "      <td>40.000000</td>\n",
       "      <td>1.400000</td>\n",
       "      <td>0.800000</td>\n",
       "      <td>0.500000</td>\n",
       "      <td>0.200000</td>\n",
       "      <td>229.000000</td>\n",
       "      <td>186.000000</td>\n",
       "      <td>41.000000</td>\n",
       "      <td>27.000000</td>\n",
       "      <td>52.500000</td>\n",
       "      <td>29.000000</td>\n",
       "      <td>6.550000</td>\n",
       "      <td>6.600000</td>\n",
       "      <td>3.000000</td>\n",
       "      <td>3.400000</td>\n",
       "      <td>0.900000</td>\n",
       "      <td>1.000000</td>\n",
       "    </tr>\n",
       "    <tr>\n",
       "      <th>Q75</th>\n",
       "      <td>58.000000</td>\n",
       "      <td>55.000000</td>\n",
       "      <td>3.625000</td>\n",
       "      <td>1.100000</td>\n",
       "      <td>1.800000</td>\n",
       "      <td>0.350000</td>\n",
       "      <td>315.250000</td>\n",
       "      <td>213.000000</td>\n",
       "      <td>76.500000</td>\n",
       "      <td>37.500000</td>\n",
       "      <td>108.750000</td>\n",
       "      <td>43.500000</td>\n",
       "      <td>7.200000</td>\n",
       "      <td>7.300000</td>\n",
       "      <td>3.625000</td>\n",
       "      <td>4.000000</td>\n",
       "      <td>1.100000</td>\n",
       "      <td>1.200000</td>\n",
       "    </tr>\n",
       "    <tr>\n",
       "      <th>max</th>\n",
       "      <td>90.000000</td>\n",
       "      <td>85.000000</td>\n",
       "      <td>75.000000</td>\n",
       "      <td>7.300000</td>\n",
       "      <td>19.700000</td>\n",
       "      <td>3.600000</td>\n",
       "      <td>2110.000000</td>\n",
       "      <td>1580.000000</td>\n",
       "      <td>2000.000000</td>\n",
       "      <td>181.000000</td>\n",
       "      <td>4929.000000</td>\n",
       "      <td>285.000000</td>\n",
       "      <td>9.600000</td>\n",
       "      <td>9.200000</td>\n",
       "      <td>5.500000</td>\n",
       "      <td>5.000000</td>\n",
       "      <td>2.800000</td>\n",
       "      <td>1.900000</td>\n",
       "    </tr>\n",
       "    <tr>\n",
       "      <th>std</th>\n",
       "      <td>15.654412</td>\n",
       "      <td>16.999366</td>\n",
       "      <td>7.144831</td>\n",
       "      <td>1.004472</td>\n",
       "      <td>3.206901</td>\n",
       "      <td>0.519255</td>\n",
       "      <td>268.307911</td>\n",
       "      <td>140.986262</td>\n",
       "      <td>212.768472</td>\n",
       "      <td>25.060392</td>\n",
       "      <td>337.389980</td>\n",
       "      <td>36.411620</td>\n",
       "      <td>1.094659</td>\n",
       "      <td>1.063042</td>\n",
       "      <td>0.786595</td>\n",
       "      <td>0.783690</td>\n",
       "      <td>0.325374</td>\n",
       "      <td>0.285658</td>\n",
       "    </tr>\n",
       "  </tbody>\n",
       "</table>\n",
       "</div>"
      ],
      "text/plain": [
       "          Age_yes     Age_no  Total_Bilirubin_yes  Total_Bilirubin_no  \\\n",
       "mean    46.153846  41.239521             4.164423            1.142515   \n",
       "min      7.000000   4.000000             0.400000            0.500000   \n",
       "Q25     34.000000  28.000000             0.800000            0.700000   \n",
       "median  46.000000  40.000000             1.400000            0.800000   \n",
       "Q75     58.000000  55.000000             3.625000            1.100000   \n",
       "max     90.000000  85.000000            75.000000            7.300000   \n",
       "std     15.654412  16.999366             7.144831            1.004472   \n",
       "\n",
       "        Direct_Bilirubin_yes  Direct_Bilirubin_no  Alkaline_Phosphotase_yes  \\\n",
       "mean                1.923558             0.396407                319.007212   \n",
       "min                 0.100000             0.100000                 63.000000   \n",
       "Q25                 0.200000             0.200000                186.000000   \n",
       "median              0.500000             0.200000                229.000000   \n",
       "Q75                 1.800000             0.350000                315.250000   \n",
       "max                19.700000             3.600000               2110.000000   \n",
       "std                 3.206901             0.519255                268.307911   \n",
       "\n",
       "        Alkaline_Phosphotase_no  Alamine_Aminotransferase_yes  \\\n",
       "mean                 219.754491                     99.605769   \n",
       "min                   90.000000                     12.000000   \n",
       "Q25                  161.500000                     25.000000   \n",
       "median               186.000000                     41.000000   \n",
       "Q75                  213.000000                     76.500000   \n",
       "max                 1580.000000                   2000.000000   \n",
       "std                  140.986262                    212.768472   \n",
       "\n",
       "        Alamine_Aminotransferase_no  Aspartate_Aminotransferase_yes  \\\n",
       "mean                      33.652695                      137.699519   \n",
       "min                       10.000000                       11.000000   \n",
       "Q25                       20.000000                       29.750000   \n",
       "median                    27.000000                       52.500000   \n",
       "Q75                       37.500000                      108.750000   \n",
       "max                      181.000000                     4929.000000   \n",
       "std                       25.060392                      337.389980   \n",
       "\n",
       "        Aspartate_Aminotransferase_no  Total_Protiens_yes  Total_Protiens_no  \\\n",
       "mean                        40.688623            6.459135           6.543114   \n",
       "min                         10.000000            2.700000           3.700000   \n",
       "Q25                         21.000000            5.700000           5.900000   \n",
       "median                      29.000000            6.550000           6.600000   \n",
       "Q75                         43.500000            7.200000           7.300000   \n",
       "max                        285.000000            9.600000           9.200000   \n",
       "std                         36.411620            1.094659           1.063042   \n",
       "\n",
       "        Albumin_yes  Albumin_no  Albumin_and_Globulin_Ratio_yes  \\\n",
       "mean       3.060577    3.344311                        0.914337   \n",
       "min        0.900000    1.400000                        0.300000   \n",
       "Q25        2.500000    2.900000                        0.700000   \n",
       "median     3.000000    3.400000                        0.900000   \n",
       "Q75        3.625000    4.000000                        1.100000   \n",
       "max        5.500000    5.000000                        2.800000   \n",
       "std        0.786595    0.783690                        0.325374   \n",
       "\n",
       "        Albumin_and_Globulin_Ratio_no  \n",
       "mean                         1.028588  \n",
       "min                          0.370000  \n",
       "Q25                          0.900000  \n",
       "median                       1.000000  \n",
       "Q75                          1.200000  \n",
       "max                          1.900000  \n",
       "std                          0.285658  "
      ]
     },
     "execution_count": 290,
     "metadata": {},
     "output_type": "execute_result"
    }
   ],
   "source": [
    "Statistics_Quantitatives_Diseased = pd.DataFrame({\n",
    "    \n",
    "              'Age_yes':df_yes.iloc[0,:]   ,              \n",
    "              'Age_no':df_no.iloc[0,:],\n",
    "              'Total_Bilirubin_yes':df_yes.iloc[1,:]   , \n",
    "              'Total_Bilirubin_no':df_no.iloc[1,:],\n",
    "              'Direct_Bilirubin_yes':df_yes.iloc[2,:]   , \n",
    "              'Direct_Bilirubin_no':df_no.iloc[2,:],\n",
    "              'Alkaline_Phosphotase_yes':df_yes.iloc[3,:]   , \n",
    "              'Alkaline_Phosphotase_no':df_no.iloc[3,:],\n",
    "              'Alamine_Aminotransferase_yes':df_yes.iloc[4,:]   , \n",
    "              'Alamine_Aminotransferase_no':df_no.iloc[4,:],\n",
    "              'Aspartate_Aminotransferase_yes':df_yes.iloc[5,:]   , \n",
    "              'Aspartate_Aminotransferase_no':df_no.iloc[5,:],\n",
    "              'Total_Protiens_yes':df_yes.iloc[6,:]   , \n",
    "              'Total_Protiens_no':df_no.iloc[6,:],\n",
    "              'Albumin_yes':df_yes.iloc[7,:]   , \n",
    "              'Albumin_no':df_no.iloc[7,:],\n",
    "              'Albumin_and_Globulin_Ratio_yes':df_yes.iloc[8,:]   , \n",
    "              'Albumin_and_Globulin_Ratio_no':df_no.iloc[8,:],\n",
    "              \n",
    "               })"
   ]
  },
  {
   "cell_type": "markdown",
   "metadata": {},
   "source": []
  },
  {
   "cell_type": "markdown",
   "metadata": {},
   "source": [
    "#### Diagrama de punto de la respuesta en función de predictores cuantitativos"
   ]
  },
  {
   "cell_type": "code",
   "execution_count": 217,
   "metadata": {},
   "outputs": [
    {
     "data": {
      "text/plain": [
       "<seaborn.axisgrid.FacetGrid at 0x22115a27eb0>"
      ]
     },
     "execution_count": 217,
     "metadata": {},
     "output_type": "execute_result"
    },
    {
     "data": {
      "image/png": "[encoded data removed]",
      "text/plain": [
       "<Figure size 432x216 with 2 Axes>"
      ]
     },
     "metadata": {
      "needs_background": "light"
     },
     "output_type": "display_data"
    }
   ],
   "source": [
    "g = sns.FacetGrid(Data_Python, col=\"Diseased\")\n",
    "g.map_dataframe(sns.histplot, x=\"Age\", stat=\"proportion\", bins=10, color=\"red\")"
   ]
  },
  {
   "cell_type": "code",
   "execution_count": 228,
   "metadata": {},
   "outputs": [
    {
     "name": "stderr",
     "output_type": "stream",
     "text": [
      "C:\\Users\\Usuario\\AppData\\Local\\Temp\\ipykernel_2164\\2087014075.py:2: UserWarning: FixedFormatter should only be used together with FixedLocator\n",
      "  p.set_xticklabels(['Yes', 'No'])\n"
     ]
    },
    {
     "data": {
      "image/png": "[encoded data removed]",
      "text/plain": [
       "<Figure size 432x288 with 1 Axes>"
      ]
     },
     "metadata": {
      "needs_background": "light"
     },
     "output_type": "display_data"
    }
   ],
   "source": [
    "p = sns.swarmplot(data=Data_Python, x=\"Diseased\", y=\"Age\", size=4.5, color = 'red')\n",
    "p.set_xticklabels(['Yes', 'No'])\n",
    "p.set_yticks( range(int(Data_Python['Age'].min()) , int(Data_Python['Age'].max()) , 7) )\n",
    "\n",
    "plt.show()"
   ]
  },
  {
   "cell_type": "code",
   "execution_count": 227,
   "metadata": {},
   "outputs": [
    {
     "name": "stderr",
     "output_type": "stream",
     "text": [
      "C:\\Users\\Usuario\\AppData\\Local\\Temp\\ipykernel_2164\\471636033.py:2: UserWarning: FixedFormatter should only be used together with FixedLocator\n",
      "  p.set_xticklabels(['Yes', 'No'])\n"
     ]
    },
    {
     "data": {
      "image/png": "[encoded data removed]",
      "text/plain": [
       "<Figure size 432x288 with 1 Axes>"
      ]
     },
     "metadata": {
      "needs_background": "light"
     },
     "output_type": "display_data"
    }
   ],
   "source": [
    "p = sns.stripplot(data=Data_Python, x=\"Diseased\", y=\"Age\", jitter=0.3, size=4, color='red')\n",
    "p.set_xticklabels(['Yes', 'No'])\n",
    "p.set_yticks( range(int(Data_Python['Age'].min()) , int(Data_Python['Age'].max()) , 7) )\n",
    "\n",
    "plt.show()"
   ]
  },
  {
   "cell_type": "markdown",
   "metadata": {},
   "source": [
    " Alkaline_Phosphotase Alamine_Aminotransferase Aspartate_Aminotransferase Total_Protiens Albumin_and_Globulin_Ratio Total_Bilirubin"
   ]
  },
  {
   "cell_type": "code",
   "execution_count": 239,
   "metadata": {},
   "outputs": [
    {
     "data": {
      "text/plain": [
       "<seaborn.axisgrid.FacetGrid at 0x221184d35e0>"
      ]
     },
     "execution_count": 239,
     "metadata": {},
     "output_type": "execute_result"
    },
    {
     "data": {
      "image/png": "[encoded data removed]",
      "text/plain": [
       "<Figure size 432x216 with 2 Axes>"
      ]
     },
     "metadata": {
      "needs_background": "light"
     },
     "output_type": "display_data"
    }
   ],
   "source": [
    "g = sns.FacetGrid(Data_Python, col=\"Diseased\")\n",
    "g.map_dataframe(sns.histplot, x=\"Direct_Bilirubin\", stat=\"proportion\", bins=4, color=\"green\")"
   ]
  },
  {
   "cell_type": "code",
   "execution_count": 240,
   "metadata": {},
   "outputs": [
    {
     "name": "stderr",
     "output_type": "stream",
     "text": [
      "C:\\Users\\Usuario\\AppData\\Local\\Temp\\ipykernel_2164\\3656294978.py:2: UserWarning: FixedFormatter should only be used together with FixedLocator\n",
      "  p.set_xticklabels(['Yes', 'No'])\n"
     ]
    },
    {
     "data": {
      "image/png": "[encoded data removed]",
      "text/plain": [
       "<Figure size 432x288 with 1 Axes>"
      ]
     },
     "metadata": {
      "needs_background": "light"
     },
     "output_type": "display_data"
    }
   ],
   "source": [
    "p = sns.stripplot(data=Data_Python, x=\"Diseased\", y=\"Direct_Bilirubin\", jitter=0.3, size=4, color='green')\n",
    "p.set_xticklabels(['Yes', 'No'])\n",
    "plt.show()"
   ]
  },
  {
   "cell_type": "code",
   "execution_count": 303,
   "metadata": {},
   "outputs": [
    {
     "data": {
      "image/png": "[encoded data removed]",
      "text/plain": [
       "<Figure size 1080x1080 with 9 Axes>"
      ]
     },
     "metadata": {
      "needs_background": "light"
     },
     "output_type": "display_data"
    }
   ],
   "source": [
    "fig, axs = plt.subplots(3, 3, figsize=(15, 15))\n",
    "\n",
    "p1 = sns.stripplot(data=Data_Python, x=\"Diseased\", y=\"Age\", jitter=0.3, size=4, color='red', ax=axs[0, 0])\n",
    "p1.set_xticklabels(['Yes', 'No'])\n",
    "p1.set_yticks( range(int(Data_Python['Age'].min()) , int(Data_Python['Age'].max()) , 7) )\n",
    "\n",
    "p2 = sns.stripplot(data=Data_Python, x=\"Diseased\", y=\"Direct_Bilirubin\", jitter=0.3, size=4, color='red', ax=axs[0, 1])\n",
    "p2.set_xticklabels(['Yes', 'No'])\n",
    "\n",
    "p3 = sns.stripplot(data=Data_Python, x=\"Diseased\", y=\"Alkaline_Phosphotase\", jitter=0.3, size=4, color='red', ax=axs[1, 0])\n",
    "p3.set_xticklabels(['Yes', 'No'])\n",
    "\n",
    "p4 = sns.stripplot(data=Data_Python, x=\"Diseased\", y=\"Alamine_Aminotransferase\", jitter=0.3, size=4, color='red', ax=axs[1, 1])\n",
    "p4.set_xticklabels(['Yes', 'No'])\n",
    "\n",
    "p5 = sns.stripplot(data=Data_Python, x=\"Diseased\", y=\"Aspartate_Aminotransferase\", jitter=0.3, size=4, color='red', ax=axs[0, 2])\n",
    "p5.set_xticklabels(['Yes', 'No'])\n",
    "\n",
    "p6 = sns.stripplot(data=Data_Python, x=\"Diseased\", y=\"Total_Protiens\", jitter=0.3, size=4, color='red', ax=axs[1, 2])\n",
    "p6.set_xticklabels(['Yes', 'No'])\n",
    "\n",
    "p7 = sns.stripplot(data=Data_Python, x=\"Diseased\", y=\"Albumin\", jitter=0.3, size=4, color='red', ax=axs[2, 2])\n",
    "p7.set_xticklabels(['Yes', 'No'])\n",
    "\n",
    "p8 = sns.stripplot(data=Data_Python, x=\"Diseased\", y=\"Albumin_and_Globulin_Ratio\", jitter=0.3, size=4, color='red', ax=axs[2, 1])\n",
    "p8.set_xticklabels(['Yes', 'No'])\n",
    "\n",
    "p9 = sns.stripplot(data=Data_Python, x=\"Diseased\", y=\"Total_Bilirubin\", jitter=0.3, size=4, color='red', ax=axs[2, 0])\n",
    "p9.set_xticklabels(['Yes', 'No'])\n",
    "\n",
    "\n",
    "plt.show()\n"
   ]
  },
  {
   "cell_type": "markdown",
   "metadata": {},
   "source": [
    " ### POR HACER Boxplot de cuantis en funcion de la respuesta"
   ]
  },
  {
   "cell_type": "markdown",
   "metadata": {},
   "source": []
  },
  {
   "cell_type": "markdown",
   "metadata": {},
   "source": []
  },
  {
   "cell_type": "markdown",
   "metadata": {},
   "source": [
    "\n",
    "#### 4.2. Algoritmo rpart con R\n",
    "\n"
   ]
  },
  {
   "cell_type": "code",
   "execution_count": 316,
   "metadata": {},
   "outputs": [
    {
     "name": "stderr",
     "output_type": "stream",
     "text": [
      "R[write to console]: Removing package from 'C:/Users/Usuario/AppData/Local/R/win-library/4.2'\n",
      "(as 'lib' is unspecified)\n",
      "\n"
     ]
    }
   ],
   "source": [
    "%%R\n",
    "\n",
    "# install.packages('rpart.plot')\n",
    "# install.packages('caret')\n",
    "remove.packages('rlang') \n"
   ]
  },
  {
   "cell_type": "code",
   "execution_count": 317,
   "metadata": {},
   "outputs": [
    {
     "name": "stderr",
     "output_type": "stream",
     "text": [
      "R[write to console]: Installing package into 'C:/Users/Usuario/AppData/Local/R/win-library/4.2'\n",
      "(as 'lib' is unspecified)\n",
      "\n",
      "R[write to console]: trying URL 'https://cran.rediris.es/bin/windows/contrib/4.2/rlang_1.0.6.zip'\n",
      "\n",
      "R[write to console]: Content type 'application/zip'\n",
      "R[write to console]:  length 1574836 bytes (1.5 MB)\n",
      "\n",
      "R[write to console]: downloaded 1.5 MB\n",
      "\n",
      "\n"
     ]
    },
    {
     "name": "stdout",
     "output_type": "stream",
     "text": [
      "package 'rlang' successfully unpacked and MD5 sums checked\n"
     ]
    },
    {
     "name": "stderr",
     "output_type": "stream",
     "text": [
      "R[write to console]: Warning:\n",
      "R[write to console]:  cannot remove prior installation of package 'rlang'\n",
      "\n",
      "R[write to console]: Warning:\n",
      "R[write to console]:  restored 'rlang'\n",
      "\n"
     ]
    },
    {
     "name": "stdout",
     "output_type": "stream",
     "text": [
      "\n",
      "The downloaded binary packages are in\n",
      "\tC:\\Users\\Usuario\\AppData\\Local\\Temp\\RtmpQT9KLG\\downloaded_packages\n"
     ]
    }
   ],
   "source": [
    "%%R\n",
    "\n",
    "install.packages('rlang')\n"
   ]
  },
  {
   "cell_type": "code",
   "execution_count": 322,
   "metadata": {},
   "outputs": [
    {
     "name": "stderr",
     "output_type": "stream",
     "text": [
      "R[write to console]: Installing package into 'C:/Users/Usuario/AppData/Local/R/win-library/4.2'\n",
      "(as 'lib' is unspecified)\n",
      "\n",
      "R[write to console]: trying URL 'https://cran.rediris.es/bin/windows/contrib/4.2/rlang_1.0.6.zip'\n",
      "\n",
      "R[write to console]: Content type 'application/zip'\n",
      "R[write to console]:  length 1574867 bytes (1.5 MB)\n",
      "\n",
      "R[write to console]: downloaded 1.5 MB\n",
      "\n",
      "\n"
     ]
    },
    {
     "name": "stdout",
     "output_type": "stream",
     "text": [
      "package 'rlang' successfully unpacked and MD5 sums checked\n"
     ]
    },
    {
     "name": "stderr",
     "output_type": "stream",
     "text": [
      "R[write to console]: Warning:\n",
      "R[write to console]:  cannot remove prior installation of package 'rlang'\n",
      "\n",
      "R[write to console]: Warning:\n",
      "R[write to console]:  restored 'rlang'\n",
      "\n"
     ]
    },
    {
     "name": "stdout",
     "output_type": "stream",
     "text": [
      "\n",
      "The downloaded binary packages are in\n",
      "\tC:\\Users\\Usuario\\AppData\\Local\\Temp\\RtmpQT9KLG\\downloaded_packages\n"
     ]
    }
   ],
   "source": [
    "%%R\n",
    "\n",
    "install.packages(\"rlang\")\n"
   ]
  },
  {
   "cell_type": "code",
   "execution_count": 323,
   "metadata": {},
   "outputs": [
    {
     "name": "stderr",
     "output_type": "stream",
     "text": [
      "R[write to console]: Error: package or namespace load failed for 'caret' in loadNamespace(i, c(lib.loc, .libPaths()), versionCheck = vI[[i]]):\n",
      " namespace 'rlang' 1.0.2 is already loaded, but >= 1.0.3 is required\n",
      "\n",
      "R[write to console]: In addition: \n",
      "R[write to console]: Warning messages:\n",
      "\n",
      "R[write to console]: 1: \n",
      "R[write to console]: In file.copy(savedcopy, lib, recursive = TRUE) :\n",
      "R[write to console]: \n",
      " \n",
      "R[write to console]:  problem copying C:\\Users\\Usuario\\AppData\\Local\\R\\win-library\\4.2\\00LOCK\\rlang\\libs\\x64\\rlang.dll to C:\\Users\\Usuario\\AppData\\Local\\R\\win-library\\4.2\\rlang\\libs\\x64\\rlang.dll: Permission denied\n",
      "\n",
      "R[write to console]: 2: package 'caret' was built under R version 4.2.1 \n",
      "\n"
     ]
    },
    {
     "name": "stdout",
     "output_type": "stream",
     "text": [
      "\n",
      "Error: package or namespace load failed for 'caret' in loadNamespace(i, c(lib.loc, .libPaths()), versionCheck = vI[[i]]):\n",
      " namespace 'rlang' 1.0.2 is already loaded, but >= 1.0.3 is required\n"
     ]
    },
    {
     "ename": "RInterpreterError",
     "evalue": "Failed to parse and evaluate line 'library(rpart)\\nlibrary(rpart.plot)\\nlibrary(caret)\\n'.\nR error message: \"Error: package or namespace load failed for 'caret' in loadNamespace(i, c(lib.loc, .libPaths()), versionCheck = vI[[i]]):\\n namespace 'rlang' 1.0.2 is already loaded, but >= 1.0.3 is required\"",
     "output_type": "error",
     "traceback": [
      "\u001b[1;31m---------------------------------------------------------------------------\u001b[0m",
      "\u001b[1;31mRRuntimeError\u001b[0m                             Traceback (most recent call last)",
      "File \u001b[1;32mc:\\Users\\Usuario\\AppData\\Local\\Programs\\Python\\Python310\\lib\\site-packages\\rpy2\\ipython\\rmagic.py:268\u001b[0m, in \u001b[0;36mRMagics.eval\u001b[1;34m(self, code)\u001b[0m\n\u001b[0;32m    266\u001b[0m \u001b[39mtry\u001b[39;00m:\n\u001b[0;32m    267\u001b[0m     \u001b[39m# Need the newline in case the last line in code is a comment.\u001b[39;00m\n\u001b[1;32m--> 268\u001b[0m     value, visible \u001b[39m=\u001b[39m ro\u001b[39m.\u001b[39;49mr(\u001b[39m\"\u001b[39;49m\u001b[39mwithVisible(\u001b[39;49m\u001b[39m{\u001b[39;49m\u001b[39m%s\u001b[39;49;00m\u001b[39m\\n\u001b[39;49;00m\u001b[39m})\u001b[39;49m\u001b[39m\"\u001b[39;49m \u001b[39m%\u001b[39;49m code)\n\u001b[0;32m    269\u001b[0m \u001b[39mexcept\u001b[39;00m (ri\u001b[39m.\u001b[39membedded\u001b[39m.\u001b[39mRRuntimeError, \u001b[39mValueError\u001b[39;00m) \u001b[39mas\u001b[39;00m exception:\n\u001b[0;32m    270\u001b[0m     \u001b[39m# Otherwise next return seems to have copy of error.\u001b[39;00m\n",
      "File \u001b[1;32mc:\\Users\\Usuario\\AppData\\Local\\Programs\\Python\\Python310\\lib\\site-packages\\rpy2\\robjects\\__init__.py:438\u001b[0m, in \u001b[0;36mR.__call__\u001b[1;34m(self, string)\u001b[0m\n\u001b[0;32m    437\u001b[0m p \u001b[39m=\u001b[39m rinterface\u001b[39m.\u001b[39mparse(string)\n\u001b[1;32m--> 438\u001b[0m res \u001b[39m=\u001b[39m \u001b[39mself\u001b[39;49m\u001b[39m.\u001b[39;49meval(p)\n\u001b[0;32m    439\u001b[0m \u001b[39mreturn\u001b[39;00m conversion\u001b[39m.\u001b[39mrpy2py(res)\n",
      "File \u001b[1;32mc:\\Users\\Usuario\\AppData\\Local\\Programs\\Python\\Python310\\lib\\site-packages\\rpy2\\robjects\\functions.py:198\u001b[0m, in \u001b[0;36mSignatureTranslatedFunction.__call__\u001b[1;34m(self, *args, **kwargs)\u001b[0m\n\u001b[0;32m    197\u001b[0m         kwargs[r_k] \u001b[39m=\u001b[39m v\n\u001b[1;32m--> 198\u001b[0m \u001b[39mreturn\u001b[39;00m (\u001b[39msuper\u001b[39m(SignatureTranslatedFunction, \u001b[39mself\u001b[39m)\n\u001b[0;32m    199\u001b[0m         \u001b[39m.\u001b[39m\u001b[39m__call__\u001b[39m(\u001b[39m*\u001b[39margs, \u001b[39m*\u001b[39m\u001b[39m*\u001b[39mkwargs))\n",
      "File \u001b[1;32mc:\\Users\\Usuario\\AppData\\Local\\Programs\\Python\\Python310\\lib\\site-packages\\rpy2\\robjects\\functions.py:125\u001b[0m, in \u001b[0;36mFunction.__call__\u001b[1;34m(self, *args, **kwargs)\u001b[0m\n\u001b[0;32m    124\u001b[0m         new_kwargs[k] \u001b[39m=\u001b[39m conversion\u001b[39m.\u001b[39mpy2rpy(v)\n\u001b[1;32m--> 125\u001b[0m res \u001b[39m=\u001b[39m \u001b[39msuper\u001b[39m(Function, \u001b[39mself\u001b[39m)\u001b[39m.\u001b[39m\u001b[39m__call__\u001b[39m(\u001b[39m*\u001b[39mnew_args, \u001b[39m*\u001b[39m\u001b[39m*\u001b[39mnew_kwargs)\n\u001b[0;32m    126\u001b[0m res \u001b[39m=\u001b[39m conversion\u001b[39m.\u001b[39mrpy2py(res)\n",
      "File \u001b[1;32mc:\\Users\\Usuario\\AppData\\Local\\Programs\\Python\\Python310\\lib\\site-packages\\rpy2\\rinterface_lib\\conversion.py:45\u001b[0m, in \u001b[0;36m_cdata_res_to_rinterface.<locals>._\u001b[1;34m(*args, **kwargs)\u001b[0m\n\u001b[0;32m     44\u001b[0m \u001b[39mdef\u001b[39;00m \u001b[39m_\u001b[39m(\u001b[39m*\u001b[39margs, \u001b[39m*\u001b[39m\u001b[39m*\u001b[39mkwargs):\n\u001b[1;32m---> 45\u001b[0m     cdata \u001b[39m=\u001b[39m function(\u001b[39m*\u001b[39margs, \u001b[39m*\u001b[39m\u001b[39m*\u001b[39mkwargs)\n\u001b[0;32m     46\u001b[0m     \u001b[39m# TODO: test cdata is of the expected CType\u001b[39;00m\n",
      "File \u001b[1;32mc:\\Users\\Usuario\\AppData\\Local\\Programs\\Python\\Python310\\lib\\site-packages\\rpy2\\rinterface.py:680\u001b[0m, in \u001b[0;36mSexpClosure.__call__\u001b[1;34m(self, *args, **kwargs)\u001b[0m\n\u001b[0;32m    679\u001b[0m     \u001b[39mif\u001b[39;00m error_occured[\u001b[39m0\u001b[39m]:\n\u001b[1;32m--> 680\u001b[0m         \u001b[39mraise\u001b[39;00m embedded\u001b[39m.\u001b[39mRRuntimeError(_rinterface\u001b[39m.\u001b[39m_geterrmessage())\n\u001b[0;32m    681\u001b[0m \u001b[39mreturn\u001b[39;00m res\n",
      "\u001b[1;31mRRuntimeError\u001b[0m: Error: package or namespace load failed for 'caret' in loadNamespace(i, c(lib.loc, .libPaths()), versionCheck = vI[[i]]):\n namespace 'rlang' 1.0.2 is already loaded, but >= 1.0.3 is required\n",
      "\nDuring handling of the above exception, another exception occurred:\n",
      "\u001b[1;31mRInterpreterError\u001b[0m                         Traceback (most recent call last)",
      "\u001b[1;32mc:\\Users\\Usuario\\Documents\\fabio\\Fabio\\Estadistica4all.github.io\\Notebooks\\Aprendizaje Automatico\\Practica1.ipynb Celda 166\u001b[0m in \u001b[0;36m<cell line: 1>\u001b[1;34m()\u001b[0m\n\u001b[1;32m----> <a href='vscode-notebook-cell:/c%3A/Users/Usuario/Documents/fabio/Fabio/Estadistica4all.github.io/Notebooks/Aprendizaje%20Automatico/Practica1.ipynb#Y450sZmlsZQ%3D%3D?line=0'>1</a>\u001b[0m get_ipython()\u001b[39m.\u001b[39;49mrun_cell_magic(\u001b[39m'\u001b[39;49m\u001b[39mR\u001b[39;49m\u001b[39m'\u001b[39;49m, \u001b[39m'\u001b[39;49m\u001b[39m'\u001b[39;49m, \u001b[39m'\u001b[39;49m\u001b[39mlibrary(rpart)\u001b[39;49m\u001b[39m\\n\u001b[39;49;00m\u001b[39mlibrary(rpart.plot)\u001b[39;49m\u001b[39m\\n\u001b[39;49;00m\u001b[39mlibrary(caret)\u001b[39;49m\u001b[39m\\n\u001b[39;49;00m\u001b[39m'\u001b[39;49m)\n",
      "File \u001b[1;32mc:\\Users\\Usuario\\AppData\\Local\\Programs\\Python\\Python310\\lib\\site-packages\\IPython\\core\\interactiveshell.py:2358\u001b[0m, in \u001b[0;36mInteractiveShell.run_cell_magic\u001b[1;34m(self, magic_name, line, cell)\u001b[0m\n\u001b[0;32m   2356\u001b[0m \u001b[39mwith\u001b[39;00m \u001b[39mself\u001b[39m\u001b[39m.\u001b[39mbuiltin_trap:\n\u001b[0;32m   2357\u001b[0m     args \u001b[39m=\u001b[39m (magic_arg_s, cell)\n\u001b[1;32m-> 2358\u001b[0m     result \u001b[39m=\u001b[39m fn(\u001b[39m*\u001b[39margs, \u001b[39m*\u001b[39m\u001b[39m*\u001b[39mkwargs)\n\u001b[0;32m   2359\u001b[0m \u001b[39mreturn\u001b[39;00m result\n",
      "File \u001b[1;32mc:\\Users\\Usuario\\AppData\\Local\\Programs\\Python\\Python310\\lib\\site-packages\\rpy2\\ipython\\rmagic.py:783\u001b[0m, in \u001b[0;36mRMagics.R\u001b[1;34m(self, line, cell, local_ns)\u001b[0m\n\u001b[0;32m    781\u001b[0m     \u001b[39mif\u001b[39;00m \u001b[39mnot\u001b[39;00m e\u001b[39m.\u001b[39mstdout\u001b[39m.\u001b[39mendswith(e\u001b[39m.\u001b[39merr):\n\u001b[0;32m    782\u001b[0m         \u001b[39mprint\u001b[39m(e\u001b[39m.\u001b[39merr)\n\u001b[1;32m--> 783\u001b[0m     \u001b[39mraise\u001b[39;00m e\n\u001b[0;32m    784\u001b[0m \u001b[39mfinally\u001b[39;00m:\n\u001b[0;32m    785\u001b[0m     \u001b[39mif\u001b[39;00m \u001b[39mself\u001b[39m\u001b[39m.\u001b[39mdevice \u001b[39min\u001b[39;00m [\u001b[39m'\u001b[39m\u001b[39mpng\u001b[39m\u001b[39m'\u001b[39m, \u001b[39m'\u001b[39m\u001b[39msvg\u001b[39m\u001b[39m'\u001b[39m]:\n",
      "File \u001b[1;32mc:\\Users\\Usuario\\AppData\\Local\\Programs\\Python\\Python310\\lib\\site-packages\\rpy2\\ipython\\rmagic.py:763\u001b[0m, in \u001b[0;36mRMagics.R\u001b[1;34m(self, line, cell, local_ns)\u001b[0m\n\u001b[0;32m    761\u001b[0m         return_output \u001b[39m=\u001b[39m \u001b[39mFalse\u001b[39;00m\n\u001b[0;32m    762\u001b[0m \u001b[39melse\u001b[39;00m:\n\u001b[1;32m--> 763\u001b[0m     text_result, result, visible \u001b[39m=\u001b[39m \u001b[39mself\u001b[39;49m\u001b[39m.\u001b[39;49meval(code)\n\u001b[0;32m    764\u001b[0m     text_output \u001b[39m+\u001b[39m\u001b[39m=\u001b[39m text_result\n\u001b[0;32m    765\u001b[0m     \u001b[39mif\u001b[39;00m visible:\n",
      "File \u001b[1;32mc:\\Users\\Usuario\\AppData\\Local\\Programs\\Python\\Python310\\lib\\site-packages\\rpy2\\ipython\\rmagic.py:272\u001b[0m, in \u001b[0;36mRMagics.eval\u001b[1;34m(self, code)\u001b[0m\n\u001b[0;32m    269\u001b[0m \u001b[39mexcept\u001b[39;00m (ri\u001b[39m.\u001b[39membedded\u001b[39m.\u001b[39mRRuntimeError, \u001b[39mValueError\u001b[39;00m) \u001b[39mas\u001b[39;00m exception:\n\u001b[0;32m    270\u001b[0m     \u001b[39m# Otherwise next return seems to have copy of error.\u001b[39;00m\n\u001b[0;32m    271\u001b[0m     warning_or_other_msg \u001b[39m=\u001b[39m \u001b[39mself\u001b[39m\u001b[39m.\u001b[39mflush()\n\u001b[1;32m--> 272\u001b[0m     \u001b[39mraise\u001b[39;00m RInterpreterError(code, \u001b[39mstr\u001b[39m(exception),\n\u001b[0;32m    273\u001b[0m                             warning_or_other_msg)\n\u001b[0;32m    274\u001b[0m text_output \u001b[39m=\u001b[39m \u001b[39mself\u001b[39m\u001b[39m.\u001b[39mflush()\n\u001b[0;32m    275\u001b[0m \u001b[39mreturn\u001b[39;00m text_output, value, visible[\u001b[39m0\u001b[39m]\n",
      "\u001b[1;31mRInterpreterError\u001b[0m: Failed to parse and evaluate line 'library(rpart)\\nlibrary(rpart.plot)\\nlibrary(caret)\\n'.\nR error message: \"Error: package or namespace load failed for 'caret' in loadNamespace(i, c(lib.loc, .libPaths()), versionCheck = vI[[i]]):\\n namespace 'rlang' 1.0.2 is already loaded, but >= 1.0.3 is required\""
     ]
    }
   ],
   "source": [
    "%%R\n",
    "library(rpart)\n",
    "library(rpart.plot)\n",
    "library(caret)"
   ]
  },
  {
   "cell_type": "markdown",
   "metadata": {},
   "source": [
    "\n",
    "Visualización de un arbol muy grande\n"
   ]
  },
  {
   "cell_type": "code",
   "execution_count": 312,
   "metadata": {},
   "outputs": [
    {
     "name": "stderr",
     "output_type": "stream",
     "text": [
      "R[write to console]: Error in confusionMatrix(prediccion1, datos_test[[\"diseased\"]]) : \n",
      "  could not find function \"confusionMatrix\"\n",
      "\n"
     ]
    },
    {
     "name": "stdout",
     "output_type": "stream",
     "text": [
      "\n",
      "Error in confusionMatrix(prediccion1, datos_test[[\"diseased\"]]) : \n",
      "  could not find function \"confusionMatrix\"\n"
     ]
    },
    {
     "data": {
      "image/png": "[encoded data removed]"
     },
     "metadata": {},
     "output_type": "display_data"
    },
    {
     "ename": "RInterpreterError",
     "evalue": "Failed to parse and evaluate line '\\nset.seed(0)\\ndatos_entreno<-sample_frac(ilpd,0.75) # fraccionamos la muestra en entrenamiento y test\\ndatos_test<-setdiff(ilpd,datos_entreno)\\n\\narbol_0<-rpart(diseased~.,data = datos_entreno, method = \"class\",cp=0.01)\\nrpart.plot(arbol_0, \\n           extra = 104,          # show fitted class, probs, percentages\\n           box.palette = \"GnBu\", # color scheme\\n           branch.lty = 3,       # dotted branch lines\\n           shadow.col = \"gray\",  # shadows under the node boxes\\n           nn = TRUE)\\n\\n(prediccion1<-predict(arbol_0,newdata=datos_test,type=\"class\")) # Predicciones y matriz de confusión\\n(matriz_confusion1<-confusionMatrix(prediccion1,datos_test[[\"diseased\"]]))\\n\\n'.\nR error message: 'Error in confusionMatrix(prediccion1, datos_test[[\"diseased\"]]) : \\n  could not find function \"confusionMatrix\"'",
     "output_type": "error",
     "traceback": [
      "\u001b[1;31m---------------------------------------------------------------------------\u001b[0m",
      "\u001b[1;31mRRuntimeError\u001b[0m                             Traceback (most recent call last)",
      "File \u001b[1;32mc:\\Users\\Usuario\\AppData\\Local\\Programs\\Python\\Python310\\lib\\site-packages\\rpy2\\ipython\\rmagic.py:268\u001b[0m, in \u001b[0;36mRMagics.eval\u001b[1;34m(self, code)\u001b[0m\n\u001b[0;32m    266\u001b[0m \u001b[39mtry\u001b[39;00m:\n\u001b[0;32m    267\u001b[0m     \u001b[39m# Need the newline in case the last line in code is a comment.\u001b[39;00m\n\u001b[1;32m--> 268\u001b[0m     value, visible \u001b[39m=\u001b[39m ro\u001b[39m.\u001b[39;49mr(\u001b[39m\"\u001b[39;49m\u001b[39mwithVisible(\u001b[39;49m\u001b[39m{\u001b[39;49m\u001b[39m%s\u001b[39;49;00m\u001b[39m\\n\u001b[39;49;00m\u001b[39m})\u001b[39;49m\u001b[39m\"\u001b[39;49m \u001b[39m%\u001b[39;49m code)\n\u001b[0;32m    269\u001b[0m \u001b[39mexcept\u001b[39;00m (ri\u001b[39m.\u001b[39membedded\u001b[39m.\u001b[39mRRuntimeError, \u001b[39mValueError\u001b[39;00m) \u001b[39mas\u001b[39;00m exception:\n\u001b[0;32m    270\u001b[0m     \u001b[39m# Otherwise next return seems to have copy of error.\u001b[39;00m\n",
      "File \u001b[1;32mc:\\Users\\Usuario\\AppData\\Local\\Programs\\Python\\Python310\\lib\\site-packages\\rpy2\\robjects\\__init__.py:438\u001b[0m, in \u001b[0;36mR.__call__\u001b[1;34m(self, string)\u001b[0m\n\u001b[0;32m    437\u001b[0m p \u001b[39m=\u001b[39m rinterface\u001b[39m.\u001b[39mparse(string)\n\u001b[1;32m--> 438\u001b[0m res \u001b[39m=\u001b[39m \u001b[39mself\u001b[39;49m\u001b[39m.\u001b[39;49meval(p)\n\u001b[0;32m    439\u001b[0m \u001b[39mreturn\u001b[39;00m conversion\u001b[39m.\u001b[39mrpy2py(res)\n",
      "File \u001b[1;32mc:\\Users\\Usuario\\AppData\\Local\\Programs\\Python\\Python310\\lib\\site-packages\\rpy2\\robjects\\functions.py:198\u001b[0m, in \u001b[0;36mSignatureTranslatedFunction.__call__\u001b[1;34m(self, *args, **kwargs)\u001b[0m\n\u001b[0;32m    197\u001b[0m         kwargs[r_k] \u001b[39m=\u001b[39m v\n\u001b[1;32m--> 198\u001b[0m \u001b[39mreturn\u001b[39;00m (\u001b[39msuper\u001b[39m(SignatureTranslatedFunction, \u001b[39mself\u001b[39m)\n\u001b[0;32m    199\u001b[0m         \u001b[39m.\u001b[39m\u001b[39m__call__\u001b[39m(\u001b[39m*\u001b[39margs, \u001b[39m*\u001b[39m\u001b[39m*\u001b[39mkwargs))\n",
      "File \u001b[1;32mc:\\Users\\Usuario\\AppData\\Local\\Programs\\Python\\Python310\\lib\\site-packages\\rpy2\\robjects\\functions.py:125\u001b[0m, in \u001b[0;36mFunction.__call__\u001b[1;34m(self, *args, **kwargs)\u001b[0m\n\u001b[0;32m    124\u001b[0m         new_kwargs[k] \u001b[39m=\u001b[39m conversion\u001b[39m.\u001b[39mpy2rpy(v)\n\u001b[1;32m--> 125\u001b[0m res \u001b[39m=\u001b[39m \u001b[39msuper\u001b[39m(Function, \u001b[39mself\u001b[39m)\u001b[39m.\u001b[39m\u001b[39m__call__\u001b[39m(\u001b[39m*\u001b[39mnew_args, \u001b[39m*\u001b[39m\u001b[39m*\u001b[39mnew_kwargs)\n\u001b[0;32m    126\u001b[0m res \u001b[39m=\u001b[39m conversion\u001b[39m.\u001b[39mrpy2py(res)\n",
      "File \u001b[1;32mc:\\Users\\Usuario\\AppData\\Local\\Programs\\Python\\Python310\\lib\\site-packages\\rpy2\\rinterface_lib\\conversion.py:45\u001b[0m, in \u001b[0;36m_cdata_res_to_rinterface.<locals>._\u001b[1;34m(*args, **kwargs)\u001b[0m\n\u001b[0;32m     44\u001b[0m \u001b[39mdef\u001b[39;00m \u001b[39m_\u001b[39m(\u001b[39m*\u001b[39margs, \u001b[39m*\u001b[39m\u001b[39m*\u001b[39mkwargs):\n\u001b[1;32m---> 45\u001b[0m     cdata \u001b[39m=\u001b[39m function(\u001b[39m*\u001b[39margs, \u001b[39m*\u001b[39m\u001b[39m*\u001b[39mkwargs)\n\u001b[0;32m     46\u001b[0m     \u001b[39m# TODO: test cdata is of the expected CType\u001b[39;00m\n",
      "File \u001b[1;32mc:\\Users\\Usuario\\AppData\\Local\\Programs\\Python\\Python310\\lib\\site-packages\\rpy2\\rinterface.py:680\u001b[0m, in \u001b[0;36mSexpClosure.__call__\u001b[1;34m(self, *args, **kwargs)\u001b[0m\n\u001b[0;32m    679\u001b[0m     \u001b[39mif\u001b[39;00m error_occured[\u001b[39m0\u001b[39m]:\n\u001b[1;32m--> 680\u001b[0m         \u001b[39mraise\u001b[39;00m embedded\u001b[39m.\u001b[39mRRuntimeError(_rinterface\u001b[39m.\u001b[39m_geterrmessage())\n\u001b[0;32m    681\u001b[0m \u001b[39mreturn\u001b[39;00m res\n",
      "\u001b[1;31mRRuntimeError\u001b[0m: Error in confusionMatrix(prediccion1, datos_test[[\"diseased\"]]) : \n  could not find function \"confusionMatrix\"\n",
      "\nDuring handling of the above exception, another exception occurred:\n",
      "\u001b[1;31mRInterpreterError\u001b[0m                         Traceback (most recent call last)",
      "\u001b[1;32mc:\\Users\\Usuario\\Documents\\fabio\\Fabio\\Estadistica4all.github.io\\Notebooks\\Aprendizaje Automatico\\Practica1.ipynb Celda 166\u001b[0m in \u001b[0;36m<cell line: 1>\u001b[1;34m()\u001b[0m\n\u001b[1;32m----> <a href='vscode-notebook-cell:/c%3A/Users/Usuario/Documents/fabio/Fabio/Estadistica4all.github.io/Notebooks/Aprendizaje%20Automatico/Practica1.ipynb#Y444sZmlsZQ%3D%3D?line=0'>1</a>\u001b[0m get_ipython()\u001b[39m.\u001b[39;49mrun_cell_magic(\u001b[39m'\u001b[39;49m\u001b[39mR\u001b[39;49m\u001b[39m'\u001b[39;49m, \u001b[39m'\u001b[39;49m\u001b[39m'\u001b[39;49m, \u001b[39m'\u001b[39;49m\u001b[39m\\n\u001b[39;49;00m\u001b[39mset.seed(0)\u001b[39;49m\u001b[39m\\n\u001b[39;49;00m\u001b[39mdatos_entreno<-sample_frac(ilpd,0.75) # fraccionamos la muestra en entrenamiento y test\u001b[39;49m\u001b[39m\\n\u001b[39;49;00m\u001b[39mdatos_test<-setdiff(ilpd,datos_entreno)\u001b[39;49m\u001b[39m\\n\u001b[39;49;00m\u001b[39m\\n\u001b[39;49;00m\u001b[39marbol_0<-rpart(diseased~.,data = datos_entreno, method = \u001b[39;49m\u001b[39m\"\u001b[39;49m\u001b[39mclass\u001b[39;49m\u001b[39m\"\u001b[39;49m\u001b[39m,cp=0.01)\u001b[39;49m\u001b[39m\\n\u001b[39;49;00m\u001b[39mrpart.plot(arbol_0, \u001b[39;49m\u001b[39m\\n\u001b[39;49;00m\u001b[39m           extra = 104,          # show fitted class, probs, percentages\u001b[39;49m\u001b[39m\\n\u001b[39;49;00m\u001b[39m           box.palette = \u001b[39;49m\u001b[39m\"\u001b[39;49m\u001b[39mGnBu\u001b[39;49m\u001b[39m\"\u001b[39;49m\u001b[39m, # color scheme\u001b[39;49m\u001b[39m\\n\u001b[39;49;00m\u001b[39m           branch.lty = 3,       # dotted branch lines\u001b[39;49m\u001b[39m\\n\u001b[39;49;00m\u001b[39m           shadow.col = \u001b[39;49m\u001b[39m\"\u001b[39;49m\u001b[39mgray\u001b[39;49m\u001b[39m\"\u001b[39;49m\u001b[39m,  # shadows under the node boxes\u001b[39;49m\u001b[39m\\n\u001b[39;49;00m\u001b[39m           nn = TRUE)\u001b[39;49m\u001b[39m\\n\u001b[39;49;00m\u001b[39m\\n\u001b[39;49;00m\u001b[39m(prediccion1<-predict(arbol_0,newdata=datos_test,type=\u001b[39;49m\u001b[39m\"\u001b[39;49m\u001b[39mclass\u001b[39;49m\u001b[39m\"\u001b[39;49m\u001b[39m)) # Predicciones y matriz de confusión\u001b[39;49m\u001b[39m\\n\u001b[39;49;00m\u001b[39m(matriz_confusion1<-confusionMatrix(prediccion1,datos_test[[\u001b[39;49m\u001b[39m\"\u001b[39;49m\u001b[39mdiseased\u001b[39;49m\u001b[39m\"\u001b[39;49m\u001b[39m]]))\u001b[39;49m\u001b[39m\\n\u001b[39;49;00m\u001b[39m\\n\u001b[39;49;00m\u001b[39m'\u001b[39;49m)\n",
      "File \u001b[1;32mc:\\Users\\Usuario\\AppData\\Local\\Programs\\Python\\Python310\\lib\\site-packages\\IPython\\core\\interactiveshell.py:2358\u001b[0m, in \u001b[0;36mInteractiveShell.run_cell_magic\u001b[1;34m(self, magic_name, line, cell)\u001b[0m\n\u001b[0;32m   2356\u001b[0m \u001b[39mwith\u001b[39;00m \u001b[39mself\u001b[39m\u001b[39m.\u001b[39mbuiltin_trap:\n\u001b[0;32m   2357\u001b[0m     args \u001b[39m=\u001b[39m (magic_arg_s, cell)\n\u001b[1;32m-> 2358\u001b[0m     result \u001b[39m=\u001b[39m fn(\u001b[39m*\u001b[39margs, \u001b[39m*\u001b[39m\u001b[39m*\u001b[39mkwargs)\n\u001b[0;32m   2359\u001b[0m \u001b[39mreturn\u001b[39;00m result\n",
      "File \u001b[1;32mc:\\Users\\Usuario\\AppData\\Local\\Programs\\Python\\Python310\\lib\\site-packages\\rpy2\\ipython\\rmagic.py:783\u001b[0m, in \u001b[0;36mRMagics.R\u001b[1;34m(self, line, cell, local_ns)\u001b[0m\n\u001b[0;32m    781\u001b[0m     \u001b[39mif\u001b[39;00m \u001b[39mnot\u001b[39;00m e\u001b[39m.\u001b[39mstdout\u001b[39m.\u001b[39mendswith(e\u001b[39m.\u001b[39merr):\n\u001b[0;32m    782\u001b[0m         \u001b[39mprint\u001b[39m(e\u001b[39m.\u001b[39merr)\n\u001b[1;32m--> 783\u001b[0m     \u001b[39mraise\u001b[39;00m e\n\u001b[0;32m    784\u001b[0m \u001b[39mfinally\u001b[39;00m:\n\u001b[0;32m    785\u001b[0m     \u001b[39mif\u001b[39;00m \u001b[39mself\u001b[39m\u001b[39m.\u001b[39mdevice \u001b[39min\u001b[39;00m [\u001b[39m'\u001b[39m\u001b[39mpng\u001b[39m\u001b[39m'\u001b[39m, \u001b[39m'\u001b[39m\u001b[39msvg\u001b[39m\u001b[39m'\u001b[39m]:\n",
      "File \u001b[1;32mc:\\Users\\Usuario\\AppData\\Local\\Programs\\Python\\Python310\\lib\\site-packages\\rpy2\\ipython\\rmagic.py:763\u001b[0m, in \u001b[0;36mRMagics.R\u001b[1;34m(self, line, cell, local_ns)\u001b[0m\n\u001b[0;32m    761\u001b[0m         return_output \u001b[39m=\u001b[39m \u001b[39mFalse\u001b[39;00m\n\u001b[0;32m    762\u001b[0m \u001b[39melse\u001b[39;00m:\n\u001b[1;32m--> 763\u001b[0m     text_result, result, visible \u001b[39m=\u001b[39m \u001b[39mself\u001b[39;49m\u001b[39m.\u001b[39;49meval(code)\n\u001b[0;32m    764\u001b[0m     text_output \u001b[39m+\u001b[39m\u001b[39m=\u001b[39m text_result\n\u001b[0;32m    765\u001b[0m     \u001b[39mif\u001b[39;00m visible:\n",
      "File \u001b[1;32mc:\\Users\\Usuario\\AppData\\Local\\Programs\\Python\\Python310\\lib\\site-packages\\rpy2\\ipython\\rmagic.py:272\u001b[0m, in \u001b[0;36mRMagics.eval\u001b[1;34m(self, code)\u001b[0m\n\u001b[0;32m    269\u001b[0m \u001b[39mexcept\u001b[39;00m (ri\u001b[39m.\u001b[39membedded\u001b[39m.\u001b[39mRRuntimeError, \u001b[39mValueError\u001b[39;00m) \u001b[39mas\u001b[39;00m exception:\n\u001b[0;32m    270\u001b[0m     \u001b[39m# Otherwise next return seems to have copy of error.\u001b[39;00m\n\u001b[0;32m    271\u001b[0m     warning_or_other_msg \u001b[39m=\u001b[39m \u001b[39mself\u001b[39m\u001b[39m.\u001b[39mflush()\n\u001b[1;32m--> 272\u001b[0m     \u001b[39mraise\u001b[39;00m RInterpreterError(code, \u001b[39mstr\u001b[39m(exception),\n\u001b[0;32m    273\u001b[0m                             warning_or_other_msg)\n\u001b[0;32m    274\u001b[0m text_output \u001b[39m=\u001b[39m \u001b[39mself\u001b[39m\u001b[39m.\u001b[39mflush()\n\u001b[0;32m    275\u001b[0m \u001b[39mreturn\u001b[39;00m text_output, value, visible[\u001b[39m0\u001b[39m]\n",
      "\u001b[1;31mRInterpreterError\u001b[0m: Failed to parse and evaluate line '\\nset.seed(0)\\ndatos_entreno<-sample_frac(ilpd,0.75) # fraccionamos la muestra en entrenamiento y test\\ndatos_test<-setdiff(ilpd,datos_entreno)\\n\\narbol_0<-rpart(diseased~.,data = datos_entreno, method = \"class\",cp=0.01)\\nrpart.plot(arbol_0, \\n           extra = 104,          # show fitted class, probs, percentages\\n           box.palette = \"GnBu\", # color scheme\\n           branch.lty = 3,       # dotted branch lines\\n           shadow.col = \"gray\",  # shadows under the node boxes\\n           nn = TRUE)\\n\\n(prediccion1<-predict(arbol_0,newdata=datos_test,type=\"class\")) # Predicciones y matriz de confusión\\n(matriz_confusion1<-confusionMatrix(prediccion1,datos_test[[\"diseased\"]]))\\n\\n'.\nR error message: 'Error in confusionMatrix(prediccion1, datos_test[[\"diseased\"]]) : \\n  could not find function \"confusionMatrix\"'"
     ]
    }
   ],
   "source": [
    "%%R\n",
    "\n",
    "set.seed(0)\n",
    "datos_entreno<-sample_frac(ilpd,0.75) # fraccionamos la muestra en entrenamiento y test\n",
    "datos_test<-setdiff(ilpd,datos_entreno)\n",
    "\n",
    "arbol_0<-rpart(diseased~.,data = datos_entreno, method = \"class\",cp=0.01)\n",
    "rpart.plot(arbol_0, \n",
    "           extra = 104,          # show fitted class, probs, percentages\n",
    "           box.palette = \"GnBu\", # color scheme\n",
    "           branch.lty = 3,       # dotted branch lines\n",
    "           shadow.col = \"gray\",  # shadows under the node boxes\n",
    "           nn = TRUE)\n"
   ]
  },
  {
   "cell_type": "code",
   "execution_count": null,
   "metadata": {},
   "outputs": [],
   "source": [
    "%%R\n",
    "\n",
    "(prediccion1<-predict(arbol_0,newdata=datos_test,type=\"class\")) # Predicciones y matriz de confusión\n",
    "(matriz_confusion1<-confusionMatrix(prediccion1,datos_test[[\"diseased\"]]))"
   ]
  },
  {
   "cell_type": "markdown",
   "metadata": {},
   "source": [
    "\n",
    "Debido a la alta complejidad de estos arboles le vamos a hacer un proceso de prepoda, para ello podemos hacer uso tanto del parámetro cp o directamente manipulando los hiperparametros de los modelos.\n",
    "\n",
    "\n",
    " Arbol un poco podado (no se pide en la práctica)\n"
   ]
  },
  {
   "cell_type": "code",
   "execution_count": null,
   "metadata": {},
   "outputs": [],
   "source": [
    "\n",
    "set.seed(1)\n",
    "datos_entreno2<-sample_frac(ilpd,0.75)  # Separamos los datos de entrenamiento\n",
    "datos_test2<-setdiff(ilpd, datos_entreno2) # Separamos los datos de test\n",
    "\n",
    "arbol_1<-rpart(diseased~.,data=datos_entreno2,maxdepth=4,method = \"class\") # Cambiamos la profundidad\n",
    "rpart.plot(arbol_1, \n",
    "           extra = 104,          # show fitted class, probs, percentages\n",
    "           box.palette = \"GnBu\", # color scheme\n",
    "           branch.lty = 3,       # dotted branch lines\n",
    "           shadow.col = \"gray\",  # shadows under the node boxes\n",
    "           nn = TRUE)\n"
   ]
  },
  {
   "cell_type": "markdown",
   "metadata": {},
   "source": [
    "\n",
    "Con esto hemos conseguido un modelo mucho más simple que el anterior sin prepoda.\n"
   ]
  },
  {
   "cell_type": "code",
   "execution_count": null,
   "metadata": {},
   "outputs": [],
   "source": [
    "\n",
    "(prediccion2<-predict(arbol_1,newdata=datos_test2,type=\"class\")) # predicción y matriz de confusión\n",
    "(matriz_confusion2<-confusionMatrix(prediccion2,datos_test2[[\"diseased\"]]))\n",
    "\n",
    "\n"
   ]
  },
  {
   "cell_type": "markdown",
   "metadata": {},
   "source": [
    "\n",
    "Se puede ver como hemos mejorado un poco la precisión de la predicción simplemente cambiando el coeficiente de partición. Cabe remarcar que el algoritmo de los CART utilizan Gini como criterio de división.\n",
    "\n"
   ]
  },
  {
   "cell_type": "markdown",
   "metadata": {},
   "source": []
  },
  {
   "cell_type": "markdown",
   "metadata": {},
   "source": [
    "\n",
    "#### 4.3. Algoritmo C50 con R\n",
    "```{r}\n",
    "## Cargado de paquete específico del Arbol de clasificación C5.0\n",
    "##install.packages(\"C50\",dependencies=TRUE)\n",
    "library(C50)\n",
    "\n",
    "# Partición en datos de entrenaminento y test\n",
    "set.seed(666)\n",
    "tamano_total<-nrow(ilpd)\n",
    "tamano_entreno<-round(tamano_total*0.75)\n",
    "datos_indices<-sample(1:tamano_total,size = tamano_entreno)\n",
    "datos_entreno<-ilpd[datos_indices,]\n",
    "datos_test<-ilpd[-datos_indices,]\n",
    "\n",
    "\n",
    "round(table(datos_entreno$diseased)/nrow(datos_entreno), 3)\n",
    "## Tienen que ser relativamente similares\n",
    "round(table(datos_test$diseased)/nrow(datos_test), 3)\n",
    "\n",
    "## Ejecución del modelo de clasificación C5.0\n",
    "modeloC50<-C5.0(diseased~.,data=datos_entreno,trials=1,rules=FALSE)\n",
    "## Información del modelo creado\n",
    "summary(modeloC50)\n",
    "\n",
    "## Gráfico del modelo\n",
    "plot(modeloC50)\n",
    "\n",
    "## Predicción\n",
    "(prediccion<-predict(modeloC50, newdata = datos_test,type=\"class\"))\n",
    "\n",
    "## Matriz de confusión\n",
    "(matriz_confusion<-table(predicho=prediccion, real=datos_test$diseased))\n",
    "\n",
    "## Porcentaje de clasificados correctamente\n",
    "100*sum(diag(matriz_confusion))/sum(matriz_confusion)\n",
    "\n",
    "## Error de clasificación\n",
    "error_clas<-round(mean(prediccion != datos_test$diseased),3)\n",
    "paste(\n",
    "  \"El error de clasificación es del:\",100*error_clas,\"%.\",sum(prediccion==datos_test$diseased),\"clasificaciones correctas de un total de\",length(prediccion)\n",
    ")\n",
    "\n",
    "\n",
    "## Arbol podado (no se pide)\n",
    "## Seleccionamos la submuestra del 75% de los datos\n",
    "set.seed(25)\n",
    "tamano_total<-nrow(ilpd)\n",
    "tamano_entreno<-round(tamano_total*0.75)\n",
    "datos_indices<-sample(1:tamano_total,size = tamano_entreno)\n",
    "datos_entreno<-ilpd[datos_indices,]\n",
    "datos_test<-ilpd[-datos_indices,]\n",
    "\n",
    "round(table(datos_entreno$diseased)/nrow(datos_entreno), 3)\n",
    "## Tienen que ser relativamente similares\n",
    "round(table(datos_test$diseased)/nrow(datos_test), 3)\n",
    "\n",
    "## Ejecución del modelo de clasificación C5.0\n",
    "modeloC50<-C5.0(diseased~.,data=datos_entreno,trials=1,rules=FALSE,control = C5.0Control(minCases = 10,earlyStopping = TRUE\n",
    "))\n",
    "## Información del modelo creado\n",
    "summary(modeloC50)\n",
    "\n",
    "## Gráfico del modelo\n",
    "plot(modeloC50)\n",
    "\n",
    "## Predicción\n",
    "(prediccion<-predict(modeloC50, newdata = datos_test,type=\"class\"))\n",
    "\n",
    "## Matriz de confusión\n",
    "(matriz_confusion<-table(predicho=prediccion, real=datos_test$diseased))\n",
    "\n",
    "## Porcentaje de clasificados correctamente\n",
    "100*sum(diag(matriz_confusion))/sum(matriz_confusion)\n",
    "\n",
    "## Error de clasificación\n",
    "error_clas<-round(mean(prediccion != datos_test$diseased),3)\n",
    "paste(\n",
    "  \"El error de clasificación es del:\",100*error_clas,\"%.\",sum(prediccion==datos_test$diseased),\"clasificaciones correctas de un total de\",length(prediccion)\n",
    ")\n",
    "\n",
    "```\n",
    "\n",
    "#### 4.4. Algoritmo CART con mlr3\n",
    "\n",
    "```{r}\n",
    "## No es necesario preprocesar los datos para árboles (dummy y normalización)\n",
    "library(mlr3)\n",
    "library(mlr3learners)\n",
    "library(mlr3extralearners)\n",
    "\n",
    "# Creamos la tarea de clasificación\n",
    "ILPD_task<-as_task_classif(ilpd,target = \"diseased\")\n",
    "\n",
    "# Método de evaluación\n",
    "res_desc<-rsmp(\"holdout\",ratio=0.75)\n",
    "set.seed(0)\n",
    "res_desc$instantiate(ILPD_task)\n",
    "\n",
    "# Definimos el método de aprendizaje\n",
    "tree_learner<-lrn(\"classif.rpart\",maxdepth=4)\n",
    "\n",
    "# Entrenamos y evaluamos el modelo\n",
    "tree_resample<-resample(task = ILPD_task, learner = tree_learner,resampling = res_desc,store_models = TRUE)\n",
    "\n",
    "# Predicciones\n",
    "tree_test<-tree_resample$predictions()\n",
    "tree_test[[1]]\n",
    "\n",
    "# Calculamos la accuracy\n",
    "tree_acc<-tree_resample$aggregate(msr(\"classif.acc\"))\n",
    "\n",
    "# Visualizamos el modelo\n",
    "tree_learner<-tree_resample$learners[[1]]\n",
    "tree_learner$model\n",
    "\n",
    "# Ploteamos el arbol\n",
    "rpart.plot(tree_learner$model)\n",
    "\n",
    "```\n",
    "\n",
    "#### 4.5. Algoritmo C5.0 con mlr3\n",
    "```{r}\n",
    "library(mlr3)\n",
    "library(mlr3learners)\n",
    "library(mlr3extralearners)\n",
    "\n",
    "# Cambiamos a numericos porque el algoritmo si no no funciona.\n",
    "ilpd$age<-as.numeric(ilpd$age)\n",
    "ilpd$alkaline_phosphatase<-as.numeric(ilpd$alkaline_phosphatase)\n",
    "ilpd$alanine_transaminase<-as.numeric(ilpd$alanine_transaminase)\n",
    "ilpd$aspartate_transaminase<-as.numeric(ilpd$aspartate_transaminase)\n",
    "\n",
    "# Creamos la tarea de clasificación\n",
    "ILPD_task<-as_task_classif(ilpd,target = \"diseased\")\n",
    "\n",
    "# Definimos el método de evaluación\n",
    "res_desc<-rsmp(\"holdout\",ratio=0.75)\n",
    "set.seed(0)\n",
    "res_desc$instantiate(ILPD_task)\n",
    "\n",
    "# Definimos el método de aprendizaje\n",
    "tree_learner<-lrn(\"classif.C50\")\n",
    "\n",
    "# Entrenamos y evaluamos el modelo\n",
    "tree_resample<-resample(task = ILPD_task, learner = tree_learner, resampling = res_desc, store_models = TRUE)\n",
    "\n",
    "# Predicciones del modelo\n",
    "tree_test<-tree_resample$predictions()\n",
    "tree_test[[1]]\n",
    "\n",
    "# Calculamos la accuracy del modelo\n",
    "tree_acc<-tree_resample$aggregate(msr(\"classif.acc\"))\n",
    "\n",
    "# Visualizamos el modelo\n",
    "tree_learner<-tree_resample$learners[[1]]\n",
    "tree_learner$model\n",
    "\n",
    "# No funciona (seguir buscando)\n",
    "plot(tree_learner$model)\n",
    "```\n",
    "\n"
   ]
  }
 ],
 "metadata": {
  "kernelspec": {
   "display_name": "Python 3.10.0 64-bit",
   "language": "python",
   "name": "python3"
  },
  "language_info": {
   "codemirror_mode": {
    "name": "ipython",
    "version": 3
   },
   "file_extension": ".py",
   "mimetype": "text/x-python",
   "name": "python",
   "nbconvert_exporter": "python",
   "pygments_lexer": "ipython3",
   "version": "3.10.0"
  },
  "orig_nbformat": 4,
  "vscode": {
   "interpreter": {
    "hash": "c63d8c7d738c2960218a10995aedf0a7f67a49a231e71037adf0440953cdb45b"
   }
  }
 },
 "nbformat": 4,
 "nbformat_minor": 2
}
