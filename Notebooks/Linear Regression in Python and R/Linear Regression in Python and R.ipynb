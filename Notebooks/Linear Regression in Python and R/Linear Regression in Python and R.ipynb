{
 "cells": [
  {
   "cell_type": "markdown",
   "metadata": {},
   "source": [
    "## Index\n",
    "\n",
    "* [Data-set description](#1)\n",
    "* * [Data Manipulation in R](#2)\n",
    "* * [Data Manipulation in Python](#3)\n",
    "  \n",
    "\n",
    "  <br>\n",
    "  \n",
    "* [Introduction to the Linear Regression Model](#4)\n",
    "* * [Usefulness of the Linear Regression Model](#5)\n",
    "* * [Formal Approach to the Linear Regression Modelo](#6)\n",
    "* * [Basic Assumptions](#7)\n",
    "* * [Assumptions Consequences](#8)\n",
    "* * [Matrix representation of the basic assumption of the model](#9)\n",
    "  \n",
    "  <br>\n",
    "  \n",
    "* [Estimation](#10)\n",
    "* * [Prediction of Response Variable](#11)\n",
    "* * [Estimation of model coefficients](#12)\n",
    "* * [Estimation of model errors](#13)\n",
    "* * [Regression Hyperplane ](#14)\n",
    "* * [Hat-Matrix](#15)\n",
    "* * [Estimation of the Linear Regression Model in R](#16)\n",
    "* * [Estimation of Linear Regression Model in Python with `statsmodels`](#17)\n",
    "* * [Estimation of Linear Regression Model in Python with `scikit-learn`](#18)\n",
    "* * [Precision of the estimations of model coefficients](#19)\n",
    "* * * [Estimation of the standard deviation of coefficients estimators in R](#20)\n",
    "* * * [Estimation of the standard deviation of coefficients estimators in Python](#21)\n",
    "* * [Estimation of model errors in R ](#22)\n",
    "* * [Estimation of model errors in Python](#23)\n",
    "* * [Estimation of the error variance](#24)\n",
    "* * * [Estimation of the error variance in R ](#25)\n",
    "* * * [Estimation of the error variance in Python ](#26)\n",
    "  \n",
    "  <br>\n",
    "\n",
    "* [Model Train Validation ](#27)\n",
    "* * [Model Train Validation in R](#28)\n",
    "* * [Model Train Validation in Python](#29)\n",
    "\n",
    "  <br>\n",
    "\n",
    "* [Model Coefficients Interpretation](#30)\n",
    "* * [Null Coefficient](#31)\n",
    "* * [Cuantitative Predictor Coefficient](#32)\n",
    "* * [Categorical Predictor Coefficient](#33)\n",
    "* * * [Example of coefficients interpretation](#34)\n",
    "* * [Interaction  Coefficient](#35)\n",
    "* * * [Example of interaction coefficient interpretation](#36)\n",
    "  \n",
    "  <br>\n",
    "\n",
    "* [Inference](#37)\n",
    "* * [Confidence Interval for $\\beta_j$](#38)\n",
    "* * [Confidence Interval for $\\sigma^2$](#39)\n",
    "* * * [Confidence Interval for  $\\beta_j$  in R](#40)\n",
    "* * * [Confidence Interval for  $\\beta_j$  in Python](#41)\n",
    "* * * [Confidence Interval for  $\\sigma^2$  in R](#42)\n",
    "* * * [Confidence Interval for  $\\sigma^2$  in Python](#43)\n",
    "* * [t-test: Test for $\\beta_j$](#44)\n",
    "* * [Test of Significance for $\\beta_j$](#45)\n",
    "* * * [Test of Significance  in R ](#46)\n",
    "* * * [Test of Significance  in Python ](#47)\n",
    "* * [ANOVA test](#48)\n",
    "* * * [ ANOVA test in R](#49)\n",
    "* * * [ANOVA test in Python](#50)\n",
    "\n",
    "  <br>\n",
    "\n",
    "* [Goodness of Fit: R-square](#51)\n",
    "* * [Compute $R^2$ in R](#52)\n",
    "* * [Compute $R^2$ in Python](#53)\n",
    "  \n",
    "  <br>\n",
    "\n",
    "* [Goodness of Fit: Adjusted R-square ](#54)\n",
    "* * [Compute $\\widehat{R^2}$ in R](#55)\n",
    "* * [Compute $\\widehat{R^2}$ in Python](#56)\n",
    "  \n",
    "  <br>\n",
    "  \n",
    "* [Model Problems](#57)\n",
    "* * [Multicollinearity](#58)\n",
    "* * * [Identification of multicollinearity](#59)\n",
    "* * [Checking Error Assumptions](#60)\n",
    "* * * [Checking Error Constant Variance](#61)\n",
    "* * * [Checking Null Error Mean](#62)\n",
    "* * * [Checking Error Normality](#63)\n",
    "* * * [Checking Null Error Correlation](#64)\n",
    "\n",
    "  "
   ]
  },
  {
   "cell_type": "markdown",
   "metadata": {},
   "source": []
  },
  {
   "cell_type": "markdown",
   "metadata": {},
   "source": [
    "## Data-set description <a class=\"anchor\" id=\"1\"></a>"
   ]
  },
  {
   "cell_type": "markdown",
   "metadata": {},
   "source": [
    "\n",
    "\n",
    "We are going to describe the data-set we will use in this article.\n",
    "\n",
    "The data are 1905 observation about 38 variables on housing features.\n",
    "\n",
    "Here is the link where the data was loaded:\n",
    "<https://www.kaggle.com/datasets/dataregress/dubai-properties-dataset?resource=download>\n",
    "\n",
    "\n",
    "\n",
    "The variables of our interest are the following:\n",
    "\n",
    "-   id : identificator\n",
    "\n",
    "-   neighborhood: the name of the neighborhood\n",
    "\n",
    "-   latitude: the latitude of the house\n",
    "\n",
    "-   longitude: the longitude of the house\n",
    "\n",
    "-   price: the market price of the house\n",
    "\n",
    "-   size_in_sqft: the size of the house in square foot\n",
    "\n",
    "    -   1 sqft = 0.092903 $m^2$\n",
    "\n",
    "-   price_per_sqft: the market price of the house per square foot\n",
    "\n",
    "-   no_of_bedrooms: number of bedrooms in the house\n",
    "\n",
    "-   no_of_bathrooms: number of bathrooms in the house\n",
    "\n",
    "-   quality: quality of the house. Based on the number of services. Her\n",
    "    categories are Ultra, High, Medium and Low\n",
    "\n",
    "-   maid_room: indicates if the house has maid room (cuarto de servicio)\n",
    "    (true/false)\n",
    "\n",
    "-   unfurnished: indicates if the house is unfurnished (sin amueblar)\n",
    "    (true/false)\n",
    "\n",
    "-   balcony: indicates if the house has balcony (true/false)\n",
    "\n",
    "-   barbecue_area: indicates if the house has barbecue area (true/false)\n",
    "\n",
    "-   central_ac: indicates if the house has central air conditioning\n",
    "    (true/false)\n",
    "\n",
    "-   childrens_play_area: indicatees if the house has childrens game area\n",
    "    (true/false)\n",
    "\n",
    "-   childrens_pool: indicates if the house has childrens pool\n",
    "    (true/false)\n",
    "\n",
    "-   concierge: indicates if the house has concierge (true/false)\n",
    "\n",
    "-   covered_parking: indicates if the house has covered parking\n",
    "    (true/false)\n",
    "\n",
    "-   kitchen_appliances: indicates if the house has kitchen appliances\n",
    "    (electrodomesticos de cocina) (true/false)\n",
    "\n",
    "-   maid_service: indicates if the house has maid service (servicio de\n",
    "    limpieza) (true/false)\n",
    "\n",
    "-   pets_allowed: indicates if pets are allowed(true/false)\n",
    "\n",
    "-   private_garden: indicates if the house has private garden\n",
    "    (true/false)\n",
    "\n",
    "-   private_gym: indicates if the house has private gym (true/false)\n",
    "\n",
    "-   private_jacuzzi: indicates if the house has private jacuzzi\n",
    "    (true/false)\n",
    "\n",
    "-   private_pool: indicates if the house has private pool (true/false)\n",
    "\n",
    "-   security: indicates if the house has private secutity (true/false)\n",
    "\n",
    "-   shared_gym: indicates if the house has shared gym (true/false)\n",
    "\n",
    "-   shared_pool: indicates if the house has shared pool (true/false)\n",
    "\n",
    "-   shared_spa: indicates if the house has shared spa (true/false)\n",
    "\n",
    "-   view_of_water: indicates if the house has view of the water\n",
    "    (true/false)\n",
    "\n"
   ]
  },
  {
   "cell_type": "markdown",
   "metadata": {},
   "source": [
    "\n",
    "\n",
    "Now we are going to do the following:\n",
    "\n",
    "1. We are going to load an manipulate the data-set in R\n",
    "\n",
    "2. We will repeat this task in Python\n",
    "\n"
   ]
  },
  {
   "cell_type": "markdown",
   "metadata": {},
   "source": [
    "### Data Manipulation in R <a class=\"anchor\" id=\"2\"></a>"
   ]
  },
  {
   "cell_type": "code",
   "execution_count": 1,
   "metadata": {},
   "outputs": [
    {
     "name": "stderr",
     "output_type": "stream",
     "text": [
      "Unable to determine R home: [WinError 2] El sistema no puede encontrar el archivo especificado\n",
      "c:\\Users\\Usuario\\AppData\\Local\\R-MINI~1\\lib\\site-packages\\rpy2\\robjects\\packages.py:367: UserWarning: The symbol 'quartz' is not in this R namespace/package.\n",
      "  warnings.warn(\n"
     ]
    }
   ],
   "source": [
    "import rpy2\n",
    "\n",
    "%load_ext rpy2.ipython\n",
    "\n",
    "import rpy2.robjects as robjects"
   ]
  },
  {
   "cell_type": "markdown",
   "metadata": {},
   "source": [
    "\n",
    "We load the data-set with which we are going to work:\n"
   ]
  },
  {
   "cell_type": "code",
   "execution_count": 2,
   "metadata": {},
   "outputs": [
    {
     "name": "stderr",
     "output_type": "stream",
     "text": [
      "R[write to console]: -- Attaching packages --------------------------------------- tidyverse 1.3.1 --\n",
      "\n",
      "R[write to console]: v ggplot2 3.3.6     v purrr   0.3.4\n",
      "v tibble  3.1.7     v dplyr   1.0.9\n",
      "v tidyr   1.2.0     v stringr 1.4.0\n",
      "v readr   2.1.2     v forcats 0.5.1\n",
      "\n",
      "R[write to console]: -- Conflicts ------------------------------------------ tidyverse_conflicts() --\n",
      "x dplyr::filter() masks stats::filter()\n",
      "x dplyr::lag()    masks stats::lag()\n",
      "\n"
     ]
    },
    {
     "name": "stdout",
     "output_type": "stream",
     "text": [
      "Rows: 1905 Columns: 38\n",
      "-- Column specification --------------------------------------------------------\n",
      "Delimiter: \",\"\n",
      "chr  (2): neighborhood, quality\n",
      "dbl  (8): id, latitude, longitude, price, size_in_sqft, price_per_sqft, no_o...\n",
      "lgl (28): maid_room, unfurnished, balcony, barbecue_area, built_in_wardrobes...\n",
      "\n",
      "i Use `spec()` to retrieve the full column specification for this data.\n",
      "i Specify the column types or set `show_col_types = FALSE` to quiet this message.\n"
     ]
    }
   ],
   "source": [
    "%%R \n",
    "\n",
    "library(tidyverse)\n",
    "\n",
    "url = 'https://raw.githubusercontent.com/FabioScielzoOrtiz/Estadistica4all-blog/main/Linear%20Regression%20in%20Python%20and%20R/properties_data.csv'\n",
    "\n",
    "properties_data <- read_csv(url)"
   ]
  },
  {
   "cell_type": "markdown",
   "metadata": {},
   "source": [
    "Now, we are going to tranformate the variables that are measured in square foot (sqft) to square meters $(m^2)$\n"
   ]
  },
  {
   "cell_type": "markdown",
   "metadata": {},
   "source": [
    "\n",
    "size_in_m\\_2 = 0.092903 \\* size_in_sqft\n",
    "\n",
    "price_per_m\\_2 = price_per_sqft / 0.092903\n",
    "\n"
   ]
  },
  {
   "cell_type": "markdown",
   "metadata": {},
   "source": [
    "\n",
    "\n",
    "Now, we are going to tranformate the variables that are measured in square foot (sqft) to square meters $(m^2)$\n",
    "\n",
    "size_in_m\\_2 = 0.092903 \\* size_in_sqft\n",
    "\n",
    "price_per_m\\_2 = price_per_sqft / 0.092903\n",
    "\n"
   ]
  },
  {
   "cell_type": "code",
   "execution_count": 3,
   "metadata": {},
   "outputs": [],
   "source": [
    "%%R \n",
    "\n",
    "size_in_m_2 <-  0.092903*properties_data$size_in_sqft\n",
    "\n",
    "properties_data$size_in_m_2 <- size_in_m_2\n",
    "\n",
    "price_per_m_2 <- properties_data$price_per_sqft /  0.092903 \n",
    "\n",
    "properties_data$price_per_m_2 <- price_per_m_2\n"
   ]
  },
  {
   "cell_type": "markdown",
   "metadata": {},
   "source": [
    "\n",
    "\n",
    "The following step will be remove in the data-set the variables that we will not take into account:\n"
   ]
  },
  {
   "cell_type": "code",
   "execution_count": 4,
   "metadata": {},
   "outputs": [],
   "source": [
    "%%R \n",
    "\n",
    " properties_data$quality = recode(properties_data$quality , \"Low\"=0, \"Medium\"=1, \"High\"=2 , \"Ultra\"=3)\n",
    "\n",
    "properties_data$quality = factor(properties_data$quality)"
   ]
  },
  {
   "cell_type": "code",
   "execution_count": 5,
   "metadata": {},
   "outputs": [
    {
     "name": "stdout",
     "output_type": "stream",
     "text": [
      "# A tibble: 6 x 7\n",
      "    price size_in_m_2 longitude latitude no_of_bedrooms no_of_bathrooms quality\n",
      "    <dbl>       <dbl>     <dbl>    <dbl>          <dbl>           <dbl> <fct>  \n",
      "1 2700000       100.       55.1     25.1              1               2 1      \n",
      "2 2850000       147.       55.2     25.1              2               2 1      \n",
      "3 1150000       181.       55.1     25.1              3               5 1      \n",
      "4 2850000       188.       55.3     25.2              2               3 0      \n",
      "5 1729200        47.1      55.1     25.1              0               1 1      \n",
      "6 3119900        94.3      55.1     25.1              1               2 1      \n"
     ]
    }
   ],
   "source": [
    "%%R \n",
    "\n",
    "data_R <- properties_data %>% select(\"price\", \"size_in_m_2\", \"longitude\", \"latitude\", \"no_of_bedrooms\", \"no_of_bathrooms\", \"quality\")\n",
    "\n",
    "head(data_R)"
   ]
  },
  {
   "cell_type": "markdown",
   "metadata": {},
   "source": []
  },
  {
   "cell_type": "markdown",
   "metadata": {},
   "source": [
    "### Data Manipulation in Python <a class=\"anchor\" id=\"3\"></a>"
   ]
  },
  {
   "cell_type": "code",
   "execution_count": 6,
   "metadata": {},
   "outputs": [],
   "source": [
    "import pandas as pd\n",
    "\n",
    "from dfply import *\n",
    "\n",
    "import warnings\n",
    "warnings.filterwarnings('ignore')"
   ]
  },
  {
   "cell_type": "code",
   "execution_count": 7,
   "metadata": {},
   "outputs": [
    {
     "data": {
      "text/html": [
       "<div>\n",
       "<style scoped>\n",
       "    .dataframe tbody tr th:only-of-type {\n",
       "        vertical-align: middle;\n",
       "    }\n",
       "\n",
       "    .dataframe tbody tr th {\n",
       "        vertical-align: top;\n",
       "    }\n",
       "\n",
       "    .dataframe thead th {\n",
       "        text-align: right;\n",
       "    }\n",
       "</style>\n",
       "<table border=\"1\" class=\"dataframe\">\n",
       "  <thead>\n",
       "    <tr style=\"text-align: right;\">\n",
       "      <th></th>\n",
       "      <th>id</th>\n",
       "      <th>neighborhood</th>\n",
       "      <th>latitude</th>\n",
       "      <th>longitude</th>\n",
       "      <th>price</th>\n",
       "      <th>size_in_sqft</th>\n",
       "      <th>price_per_sqft</th>\n",
       "      <th>no_of_bedrooms</th>\n",
       "      <th>no_of_bathrooms</th>\n",
       "      <th>quality</th>\n",
       "      <th>...</th>\n",
       "      <th>private_pool</th>\n",
       "      <th>security</th>\n",
       "      <th>shared_gym</th>\n",
       "      <th>shared_pool</th>\n",
       "      <th>shared_spa</th>\n",
       "      <th>study</th>\n",
       "      <th>vastu_compliant</th>\n",
       "      <th>view_of_landmark</th>\n",
       "      <th>view_of_water</th>\n",
       "      <th>walk_in_closet</th>\n",
       "    </tr>\n",
       "  </thead>\n",
       "  <tbody>\n",
       "    <tr>\n",
       "      <th>0</th>\n",
       "      <td>5528049</td>\n",
       "      <td>Palm Jumeirah</td>\n",
       "      <td>25.113208</td>\n",
       "      <td>55.138932</td>\n",
       "      <td>2700000</td>\n",
       "      <td>1079</td>\n",
       "      <td>2502.32</td>\n",
       "      <td>1</td>\n",
       "      <td>2</td>\n",
       "      <td>Medium</td>\n",
       "      <td>...</td>\n",
       "      <td>False</td>\n",
       "      <td>False</td>\n",
       "      <td>True</td>\n",
       "      <td>False</td>\n",
       "      <td>False</td>\n",
       "      <td>False</td>\n",
       "      <td>False</td>\n",
       "      <td>False</td>\n",
       "      <td>True</td>\n",
       "      <td>False</td>\n",
       "    </tr>\n",
       "    <tr>\n",
       "      <th>1</th>\n",
       "      <td>6008529</td>\n",
       "      <td>Palm Jumeirah</td>\n",
       "      <td>25.106809</td>\n",
       "      <td>55.151201</td>\n",
       "      <td>2850000</td>\n",
       "      <td>1582</td>\n",
       "      <td>1801.52</td>\n",
       "      <td>2</td>\n",
       "      <td>2</td>\n",
       "      <td>Medium</td>\n",
       "      <td>...</td>\n",
       "      <td>False</td>\n",
       "      <td>False</td>\n",
       "      <td>True</td>\n",
       "      <td>True</td>\n",
       "      <td>False</td>\n",
       "      <td>False</td>\n",
       "      <td>False</td>\n",
       "      <td>False</td>\n",
       "      <td>True</td>\n",
       "      <td>False</td>\n",
       "    </tr>\n",
       "    <tr>\n",
       "      <th>2</th>\n",
       "      <td>6034542</td>\n",
       "      <td>Jumeirah Lake Towers</td>\n",
       "      <td>25.063302</td>\n",
       "      <td>55.137728</td>\n",
       "      <td>1150000</td>\n",
       "      <td>1951</td>\n",
       "      <td>589.44</td>\n",
       "      <td>3</td>\n",
       "      <td>5</td>\n",
       "      <td>Medium</td>\n",
       "      <td>...</td>\n",
       "      <td>False</td>\n",
       "      <td>True</td>\n",
       "      <td>True</td>\n",
       "      <td>True</td>\n",
       "      <td>False</td>\n",
       "      <td>False</td>\n",
       "      <td>False</td>\n",
       "      <td>True</td>\n",
       "      <td>True</td>\n",
       "      <td>True</td>\n",
       "    </tr>\n",
       "    <tr>\n",
       "      <th>3</th>\n",
       "      <td>6326063</td>\n",
       "      <td>Culture Village</td>\n",
       "      <td>25.227295</td>\n",
       "      <td>55.341761</td>\n",
       "      <td>2850000</td>\n",
       "      <td>2020</td>\n",
       "      <td>1410.89</td>\n",
       "      <td>2</td>\n",
       "      <td>3</td>\n",
       "      <td>Low</td>\n",
       "      <td>...</td>\n",
       "      <td>False</td>\n",
       "      <td>False</td>\n",
       "      <td>False</td>\n",
       "      <td>False</td>\n",
       "      <td>False</td>\n",
       "      <td>False</td>\n",
       "      <td>False</td>\n",
       "      <td>False</td>\n",
       "      <td>False</td>\n",
       "      <td>False</td>\n",
       "    </tr>\n",
       "    <tr>\n",
       "      <th>4</th>\n",
       "      <td>6356778</td>\n",
       "      <td>Palm Jumeirah</td>\n",
       "      <td>25.114275</td>\n",
       "      <td>55.139764</td>\n",
       "      <td>1729200</td>\n",
       "      <td>507</td>\n",
       "      <td>3410.65</td>\n",
       "      <td>0</td>\n",
       "      <td>1</td>\n",
       "      <td>Medium</td>\n",
       "      <td>...</td>\n",
       "      <td>False</td>\n",
       "      <td>True</td>\n",
       "      <td>True</td>\n",
       "      <td>True</td>\n",
       "      <td>True</td>\n",
       "      <td>False</td>\n",
       "      <td>False</td>\n",
       "      <td>True</td>\n",
       "      <td>True</td>\n",
       "      <td>False</td>\n",
       "    </tr>\n",
       "    <tr>\n",
       "      <th>...</th>\n",
       "      <td>...</td>\n",
       "      <td>...</td>\n",
       "      <td>...</td>\n",
       "      <td>...</td>\n",
       "      <td>...</td>\n",
       "      <td>...</td>\n",
       "      <td>...</td>\n",
       "      <td>...</td>\n",
       "      <td>...</td>\n",
       "      <td>...</td>\n",
       "      <td>...</td>\n",
       "      <td>...</td>\n",
       "      <td>...</td>\n",
       "      <td>...</td>\n",
       "      <td>...</td>\n",
       "      <td>...</td>\n",
       "      <td>...</td>\n",
       "      <td>...</td>\n",
       "      <td>...</td>\n",
       "      <td>...</td>\n",
       "      <td>...</td>\n",
       "    </tr>\n",
       "    <tr>\n",
       "      <th>1900</th>\n",
       "      <td>7705450</td>\n",
       "      <td>Mohammed Bin Rashid City</td>\n",
       "      <td>25.176892</td>\n",
       "      <td>55.310712</td>\n",
       "      <td>1500000</td>\n",
       "      <td>1087</td>\n",
       "      <td>1379.94</td>\n",
       "      <td>2</td>\n",
       "      <td>2</td>\n",
       "      <td>Ultra</td>\n",
       "      <td>...</td>\n",
       "      <td>False</td>\n",
       "      <td>True</td>\n",
       "      <td>True</td>\n",
       "      <td>True</td>\n",
       "      <td>True</td>\n",
       "      <td>True</td>\n",
       "      <td>True</td>\n",
       "      <td>True</td>\n",
       "      <td>True</td>\n",
       "      <td>True</td>\n",
       "    </tr>\n",
       "    <tr>\n",
       "      <th>1901</th>\n",
       "      <td>7706287</td>\n",
       "      <td>Mohammed Bin Rashid City</td>\n",
       "      <td>25.166145</td>\n",
       "      <td>55.276684</td>\n",
       "      <td>1230000</td>\n",
       "      <td>760</td>\n",
       "      <td>1618.42</td>\n",
       "      <td>1</td>\n",
       "      <td>2</td>\n",
       "      <td>Medium</td>\n",
       "      <td>...</td>\n",
       "      <td>False</td>\n",
       "      <td>False</td>\n",
       "      <td>True</td>\n",
       "      <td>True</td>\n",
       "      <td>False</td>\n",
       "      <td>False</td>\n",
       "      <td>False</td>\n",
       "      <td>False</td>\n",
       "      <td>True</td>\n",
       "      <td>True</td>\n",
       "    </tr>\n",
       "    <tr>\n",
       "      <th>1902</th>\n",
       "      <td>7706389</td>\n",
       "      <td>Dubai Creek Harbour (The Lagoons)</td>\n",
       "      <td>25.206500</td>\n",
       "      <td>55.345056</td>\n",
       "      <td>2900000</td>\n",
       "      <td>1930</td>\n",
       "      <td>1502.59</td>\n",
       "      <td>3</td>\n",
       "      <td>5</td>\n",
       "      <td>Medium</td>\n",
       "      <td>...</td>\n",
       "      <td>False</td>\n",
       "      <td>False</td>\n",
       "      <td>False</td>\n",
       "      <td>True</td>\n",
       "      <td>False</td>\n",
       "      <td>False</td>\n",
       "      <td>False</td>\n",
       "      <td>False</td>\n",
       "      <td>False</td>\n",
       "      <td>False</td>\n",
       "    </tr>\n",
       "    <tr>\n",
       "      <th>1903</th>\n",
       "      <td>7706591</td>\n",
       "      <td>Jumeirah Village Circle</td>\n",
       "      <td>25.073858</td>\n",
       "      <td>55.229844</td>\n",
       "      <td>675000</td>\n",
       "      <td>740</td>\n",
       "      <td>912.16</td>\n",
       "      <td>1</td>\n",
       "      <td>2</td>\n",
       "      <td>Medium</td>\n",
       "      <td>...</td>\n",
       "      <td>False</td>\n",
       "      <td>True</td>\n",
       "      <td>True</td>\n",
       "      <td>True</td>\n",
       "      <td>False</td>\n",
       "      <td>False</td>\n",
       "      <td>False</td>\n",
       "      <td>False</td>\n",
       "      <td>True</td>\n",
       "      <td>True</td>\n",
       "    </tr>\n",
       "    <tr>\n",
       "      <th>1904</th>\n",
       "      <td>7706643</td>\n",
       "      <td>Jumeirah Lake Towers</td>\n",
       "      <td>25.079130</td>\n",
       "      <td>55.154713</td>\n",
       "      <td>760887</td>\n",
       "      <td>800</td>\n",
       "      <td>951.11</td>\n",
       "      <td>1</td>\n",
       "      <td>2</td>\n",
       "      <td>High</td>\n",
       "      <td>...</td>\n",
       "      <td>False</td>\n",
       "      <td>True</td>\n",
       "      <td>True</td>\n",
       "      <td>True</td>\n",
       "      <td>True</td>\n",
       "      <td>False</td>\n",
       "      <td>False</td>\n",
       "      <td>False</td>\n",
       "      <td>True</td>\n",
       "      <td>False</td>\n",
       "    </tr>\n",
       "  </tbody>\n",
       "</table>\n",
       "<p>1905 rows × 38 columns</p>\n",
       "</div>"
      ],
      "text/plain": [
       "           id                       neighborhood   latitude  longitude  \\\n",
       "0     5528049                      Palm Jumeirah  25.113208  55.138932   \n",
       "1     6008529                      Palm Jumeirah  25.106809  55.151201   \n",
       "2     6034542               Jumeirah Lake Towers  25.063302  55.137728   \n",
       "3     6326063                    Culture Village  25.227295  55.341761   \n",
       "4     6356778                      Palm Jumeirah  25.114275  55.139764   \n",
       "...       ...                                ...        ...        ...   \n",
       "1900  7705450           Mohammed Bin Rashid City  25.176892  55.310712   \n",
       "1901  7706287           Mohammed Bin Rashid City  25.166145  55.276684   \n",
       "1902  7706389  Dubai Creek Harbour (The Lagoons)  25.206500  55.345056   \n",
       "1903  7706591            Jumeirah Village Circle  25.073858  55.229844   \n",
       "1904  7706643               Jumeirah Lake Towers  25.079130  55.154713   \n",
       "\n",
       "        price  size_in_sqft  price_per_sqft  no_of_bedrooms  no_of_bathrooms  \\\n",
       "0     2700000          1079         2502.32               1                2   \n",
       "1     2850000          1582         1801.52               2                2   \n",
       "2     1150000          1951          589.44               3                5   \n",
       "3     2850000          2020         1410.89               2                3   \n",
       "4     1729200           507         3410.65               0                1   \n",
       "...       ...           ...             ...             ...              ...   \n",
       "1900  1500000          1087         1379.94               2                2   \n",
       "1901  1230000           760         1618.42               1                2   \n",
       "1902  2900000          1930         1502.59               3                5   \n",
       "1903   675000           740          912.16               1                2   \n",
       "1904   760887           800          951.11               1                2   \n",
       "\n",
       "     quality  ...  private_pool  security  shared_gym  shared_pool  \\\n",
       "0     Medium  ...         False     False        True        False   \n",
       "1     Medium  ...         False     False        True         True   \n",
       "2     Medium  ...         False      True        True         True   \n",
       "3        Low  ...         False     False       False        False   \n",
       "4     Medium  ...         False      True        True         True   \n",
       "...      ...  ...           ...       ...         ...          ...   \n",
       "1900   Ultra  ...         False      True        True         True   \n",
       "1901  Medium  ...         False     False        True         True   \n",
       "1902  Medium  ...         False     False       False         True   \n",
       "1903  Medium  ...         False      True        True         True   \n",
       "1904    High  ...         False      True        True         True   \n",
       "\n",
       "      shared_spa  study  vastu_compliant  view_of_landmark  view_of_water  \\\n",
       "0          False  False            False             False           True   \n",
       "1          False  False            False             False           True   \n",
       "2          False  False            False              True           True   \n",
       "3          False  False            False             False          False   \n",
       "4           True  False            False              True           True   \n",
       "...          ...    ...              ...               ...            ...   \n",
       "1900        True   True             True              True           True   \n",
       "1901       False  False            False             False           True   \n",
       "1902       False  False            False             False          False   \n",
       "1903       False  False            False             False           True   \n",
       "1904        True  False            False             False           True   \n",
       "\n",
       "      walk_in_closet  \n",
       "0              False  \n",
       "1              False  \n",
       "2               True  \n",
       "3              False  \n",
       "4              False  \n",
       "...              ...  \n",
       "1900            True  \n",
       "1901            True  \n",
       "1902           False  \n",
       "1903            True  \n",
       "1904           False  \n",
       "\n",
       "[1905 rows x 38 columns]"
      ]
     },
     "execution_count": 7,
     "metadata": {},
     "output_type": "execute_result"
    }
   ],
   "source": [
    "url = 'https://raw.githubusercontent.com/FabioScielzoOrtiz/Estadistica4all-blog/main/Linear%20Regression%20in%20Python%20and%20R/properties_data.csv'\n",
    "\n",
    "data_Python = pd.read_csv(url)\n",
    "\n",
    "data_Python"
   ]
  },
  {
   "cell_type": "code",
   "execution_count": 8,
   "metadata": {},
   "outputs": [],
   "source": [
    "data_Python['size_in_m_2'] = 0.092903*data_Python['size_in_sqft']\n",
    "data_Python['price_per_m_2'] = data_Python['price_per_sqft']/0.092903"
   ]
  },
  {
   "cell_type": "code",
   "execution_count": 9,
   "metadata": {},
   "outputs": [
    {
     "data": {
      "text/html": [
       "<div>\n",
       "<style scoped>\n",
       "    .dataframe tbody tr th:only-of-type {\n",
       "        vertical-align: middle;\n",
       "    }\n",
       "\n",
       "    .dataframe tbody tr th {\n",
       "        vertical-align: top;\n",
       "    }\n",
       "\n",
       "    .dataframe thead th {\n",
       "        text-align: right;\n",
       "    }\n",
       "</style>\n",
       "<table border=\"1\" class=\"dataframe\">\n",
       "  <thead>\n",
       "    <tr style=\"text-align: right;\">\n",
       "      <th></th>\n",
       "      <th>price</th>\n",
       "      <th>size_in_m_2</th>\n",
       "      <th>longitude</th>\n",
       "      <th>latitude</th>\n",
       "      <th>no_of_bedrooms</th>\n",
       "      <th>no_of_bathrooms</th>\n",
       "      <th>quality</th>\n",
       "    </tr>\n",
       "  </thead>\n",
       "  <tbody>\n",
       "    <tr>\n",
       "      <th>0</th>\n",
       "      <td>2700000</td>\n",
       "      <td>100.242337</td>\n",
       "      <td>55.138932</td>\n",
       "      <td>25.113208</td>\n",
       "      <td>1</td>\n",
       "      <td>2</td>\n",
       "      <td>Medium</td>\n",
       "    </tr>\n",
       "    <tr>\n",
       "      <th>1</th>\n",
       "      <td>2850000</td>\n",
       "      <td>146.972546</td>\n",
       "      <td>55.151201</td>\n",
       "      <td>25.106809</td>\n",
       "      <td>2</td>\n",
       "      <td>2</td>\n",
       "      <td>Medium</td>\n",
       "    </tr>\n",
       "    <tr>\n",
       "      <th>2</th>\n",
       "      <td>1150000</td>\n",
       "      <td>181.253753</td>\n",
       "      <td>55.137728</td>\n",
       "      <td>25.063302</td>\n",
       "      <td>3</td>\n",
       "      <td>5</td>\n",
       "      <td>Medium</td>\n",
       "    </tr>\n",
       "    <tr>\n",
       "      <th>3</th>\n",
       "      <td>2850000</td>\n",
       "      <td>187.664060</td>\n",
       "      <td>55.341761</td>\n",
       "      <td>25.227295</td>\n",
       "      <td>2</td>\n",
       "      <td>3</td>\n",
       "      <td>Low</td>\n",
       "    </tr>\n",
       "    <tr>\n",
       "      <th>4</th>\n",
       "      <td>1729200</td>\n",
       "      <td>47.101821</td>\n",
       "      <td>55.139764</td>\n",
       "      <td>25.114275</td>\n",
       "      <td>0</td>\n",
       "      <td>1</td>\n",
       "      <td>Medium</td>\n",
       "    </tr>\n",
       "    <tr>\n",
       "      <th>...</th>\n",
       "      <td>...</td>\n",
       "      <td>...</td>\n",
       "      <td>...</td>\n",
       "      <td>...</td>\n",
       "      <td>...</td>\n",
       "      <td>...</td>\n",
       "      <td>...</td>\n",
       "    </tr>\n",
       "    <tr>\n",
       "      <th>1900</th>\n",
       "      <td>1500000</td>\n",
       "      <td>100.985561</td>\n",
       "      <td>55.310712</td>\n",
       "      <td>25.176892</td>\n",
       "      <td>2</td>\n",
       "      <td>2</td>\n",
       "      <td>Ultra</td>\n",
       "    </tr>\n",
       "    <tr>\n",
       "      <th>1901</th>\n",
       "      <td>1230000</td>\n",
       "      <td>70.606280</td>\n",
       "      <td>55.276684</td>\n",
       "      <td>25.166145</td>\n",
       "      <td>1</td>\n",
       "      <td>2</td>\n",
       "      <td>Medium</td>\n",
       "    </tr>\n",
       "    <tr>\n",
       "      <th>1902</th>\n",
       "      <td>2900000</td>\n",
       "      <td>179.302790</td>\n",
       "      <td>55.345056</td>\n",
       "      <td>25.206500</td>\n",
       "      <td>3</td>\n",
       "      <td>5</td>\n",
       "      <td>Medium</td>\n",
       "    </tr>\n",
       "    <tr>\n",
       "      <th>1903</th>\n",
       "      <td>675000</td>\n",
       "      <td>68.748220</td>\n",
       "      <td>55.229844</td>\n",
       "      <td>25.073858</td>\n",
       "      <td>1</td>\n",
       "      <td>2</td>\n",
       "      <td>Medium</td>\n",
       "    </tr>\n",
       "    <tr>\n",
       "      <th>1904</th>\n",
       "      <td>760887</td>\n",
       "      <td>74.322400</td>\n",
       "      <td>55.154713</td>\n",
       "      <td>25.079130</td>\n",
       "      <td>1</td>\n",
       "      <td>2</td>\n",
       "      <td>High</td>\n",
       "    </tr>\n",
       "  </tbody>\n",
       "</table>\n",
       "<p>1905 rows × 7 columns</p>\n",
       "</div>"
      ],
      "text/plain": [
       "        price  size_in_m_2  longitude   latitude  no_of_bedrooms  \\\n",
       "0     2700000   100.242337  55.138932  25.113208               1   \n",
       "1     2850000   146.972546  55.151201  25.106809               2   \n",
       "2     1150000   181.253753  55.137728  25.063302               3   \n",
       "3     2850000   187.664060  55.341761  25.227295               2   \n",
       "4     1729200    47.101821  55.139764  25.114275               0   \n",
       "...       ...          ...        ...        ...             ...   \n",
       "1900  1500000   100.985561  55.310712  25.176892               2   \n",
       "1901  1230000    70.606280  55.276684  25.166145               1   \n",
       "1902  2900000   179.302790  55.345056  25.206500               3   \n",
       "1903   675000    68.748220  55.229844  25.073858               1   \n",
       "1904   760887    74.322400  55.154713  25.079130               1   \n",
       "\n",
       "      no_of_bathrooms quality  \n",
       "0                   2  Medium  \n",
       "1                   2  Medium  \n",
       "2                   5  Medium  \n",
       "3                   3     Low  \n",
       "4                   1  Medium  \n",
       "...               ...     ...  \n",
       "1900                2   Ultra  \n",
       "1901                2  Medium  \n",
       "1902                5  Medium  \n",
       "1903                2  Medium  \n",
       "1904                2    High  \n",
       "\n",
       "[1905 rows x 7 columns]"
      ]
     },
     "execution_count": 9,
     "metadata": {},
     "output_type": "execute_result"
    }
   ],
   "source": [
    "data_Python = data_Python >> select(X.price , X.size_in_m_2, X.longitude, X.latitude, X.no_of_bedrooms, X.no_of_bathrooms, X.quality)\n",
    "data_Python"
   ]
  },
  {
   "cell_type": "code",
   "execution_count": 10,
   "metadata": {},
   "outputs": [
    {
     "data": {
      "text/plain": [
       "price                int64\n",
       "size_in_m_2        float64\n",
       "longitude          float64\n",
       "latitude           float64\n",
       "no_of_bedrooms       int64\n",
       "no_of_bathrooms      int64\n",
       "quality             object\n",
       "dtype: object"
      ]
     },
     "execution_count": 10,
     "metadata": {},
     "output_type": "execute_result"
    }
   ],
   "source": [
    "data_Python.dtypes"
   ]
  },
  {
   "cell_type": "markdown",
   "metadata": {},
   "source": []
  },
  {
   "cell_type": "markdown",
   "metadata": {},
   "source": [
    "Converting $quality$  to categorical:"
   ]
  },
  {
   "cell_type": "code",
   "execution_count": 11,
   "metadata": {},
   "outputs": [],
   "source": [
    "data_Python['quality'] = data_Python['quality'].astype('category')"
   ]
  },
  {
   "cell_type": "code",
   "execution_count": 12,
   "metadata": {},
   "outputs": [
    {
     "data": {
      "text/plain": [
       "price                 int64\n",
       "size_in_m_2         float64\n",
       "longitude           float64\n",
       "latitude            float64\n",
       "no_of_bedrooms        int64\n",
       "no_of_bathrooms       int64\n",
       "quality            category\n",
       "dtype: object"
      ]
     },
     "execution_count": 12,
     "metadata": {},
     "output_type": "execute_result"
    }
   ],
   "source": [
    "data_Python.dtypes"
   ]
  },
  {
   "cell_type": "markdown",
   "metadata": {},
   "source": []
  },
  {
   "cell_type": "markdown",
   "metadata": {},
   "source": [
    "Recoding the categorical variable $quality$"
   ]
  },
  {
   "cell_type": "code",
   "execution_count": 13,
   "metadata": {},
   "outputs": [
    {
     "data": {
      "text/plain": [
       "['Medium', 'Low', 'High', 'Ultra']\n",
       "Categories (4, object): ['High', 'Low', 'Medium', 'Ultra']"
      ]
     },
     "execution_count": 13,
     "metadata": {},
     "output_type": "execute_result"
    }
   ],
   "source": [
    "data_Python['quality'].unique()"
   ]
  },
  {
   "cell_type": "code",
   "execution_count": 14,
   "metadata": {},
   "outputs": [],
   "source": [
    "(data_Python['quality_recode']) = 0\n",
    "\n",
    "for i in range(0 , len(data_Python)) :\n",
    "\n",
    "    if (data_Python['quality'])[i] == 'Low' :\n",
    "\n",
    "        (data_Python['quality_recode'])[i] = 0\n",
    "\n",
    "    if (data_Python['quality'])[i] == 'Medium' :\n",
    "\n",
    "        (data_Python['quality_recode'])[i] = 1\n",
    "\n",
    "    if (data_Python['quality'])[i] == 'High' :\n",
    "\n",
    "        (data_Python['quality_recode'])[i] = 2\n",
    "\n",
    "    if (data_Python['quality'])[i] == 'Ultra' :\n",
    "\n",
    "        (data_Python['quality_recode'])[i] = 3"
   ]
  },
  {
   "cell_type": "code",
   "execution_count": 15,
   "metadata": {},
   "outputs": [
    {
     "data": {
      "text/html": [
       "<div>\n",
       "<style scoped>\n",
       "    .dataframe tbody tr th:only-of-type {\n",
       "        vertical-align: middle;\n",
       "    }\n",
       "\n",
       "    .dataframe tbody tr th {\n",
       "        vertical-align: top;\n",
       "    }\n",
       "\n",
       "    .dataframe thead th {\n",
       "        text-align: right;\n",
       "    }\n",
       "</style>\n",
       "<table border=\"1\" class=\"dataframe\">\n",
       "  <thead>\n",
       "    <tr style=\"text-align: right;\">\n",
       "      <th></th>\n",
       "      <th>price</th>\n",
       "      <th>size_in_m_2</th>\n",
       "      <th>longitude</th>\n",
       "      <th>latitude</th>\n",
       "      <th>no_of_bedrooms</th>\n",
       "      <th>no_of_bathrooms</th>\n",
       "      <th>quality</th>\n",
       "      <th>quality_recode</th>\n",
       "    </tr>\n",
       "  </thead>\n",
       "  <tbody>\n",
       "    <tr>\n",
       "      <th>0</th>\n",
       "      <td>2700000</td>\n",
       "      <td>100.242337</td>\n",
       "      <td>55.138932</td>\n",
       "      <td>25.113208</td>\n",
       "      <td>1</td>\n",
       "      <td>2</td>\n",
       "      <td>Medium</td>\n",
       "      <td>1</td>\n",
       "    </tr>\n",
       "    <tr>\n",
       "      <th>1</th>\n",
       "      <td>2850000</td>\n",
       "      <td>146.972546</td>\n",
       "      <td>55.151201</td>\n",
       "      <td>25.106809</td>\n",
       "      <td>2</td>\n",
       "      <td>2</td>\n",
       "      <td>Medium</td>\n",
       "      <td>1</td>\n",
       "    </tr>\n",
       "    <tr>\n",
       "      <th>2</th>\n",
       "      <td>1150000</td>\n",
       "      <td>181.253753</td>\n",
       "      <td>55.137728</td>\n",
       "      <td>25.063302</td>\n",
       "      <td>3</td>\n",
       "      <td>5</td>\n",
       "      <td>Medium</td>\n",
       "      <td>1</td>\n",
       "    </tr>\n",
       "    <tr>\n",
       "      <th>3</th>\n",
       "      <td>2850000</td>\n",
       "      <td>187.664060</td>\n",
       "      <td>55.341761</td>\n",
       "      <td>25.227295</td>\n",
       "      <td>2</td>\n",
       "      <td>3</td>\n",
       "      <td>Low</td>\n",
       "      <td>0</td>\n",
       "    </tr>\n",
       "    <tr>\n",
       "      <th>4</th>\n",
       "      <td>1729200</td>\n",
       "      <td>47.101821</td>\n",
       "      <td>55.139764</td>\n",
       "      <td>25.114275</td>\n",
       "      <td>0</td>\n",
       "      <td>1</td>\n",
       "      <td>Medium</td>\n",
       "      <td>1</td>\n",
       "    </tr>\n",
       "  </tbody>\n",
       "</table>\n",
       "</div>"
      ],
      "text/plain": [
       "     price  size_in_m_2  longitude   latitude  no_of_bedrooms  \\\n",
       "0  2700000   100.242337  55.138932  25.113208               1   \n",
       "1  2850000   146.972546  55.151201  25.106809               2   \n",
       "2  1150000   181.253753  55.137728  25.063302               3   \n",
       "3  2850000   187.664060  55.341761  25.227295               2   \n",
       "4  1729200    47.101821  55.139764  25.114275               0   \n",
       "\n",
       "   no_of_bathrooms quality  quality_recode  \n",
       "0                2  Medium               1  \n",
       "1                2  Medium               1  \n",
       "2                5  Medium               1  \n",
       "3                3     Low               0  \n",
       "4                1  Medium               1  "
      ]
     },
     "execution_count": 15,
     "metadata": {},
     "output_type": "execute_result"
    }
   ],
   "source": [
    "data_Python.head()"
   ]
  },
  {
   "cell_type": "code",
   "execution_count": 16,
   "metadata": {},
   "outputs": [],
   "source": [
    "data_Python = data_Python >> select( ~X.quality )"
   ]
  },
  {
   "cell_type": "code",
   "execution_count": 17,
   "metadata": {},
   "outputs": [],
   "source": [
    "data_Python = data_Python >> rename(quality = X.quality_recode)"
   ]
  },
  {
   "cell_type": "code",
   "execution_count": 18,
   "metadata": {},
   "outputs": [],
   "source": [
    "data_Python['quality'] = data_Python['quality'].astype('category')"
   ]
  },
  {
   "cell_type": "markdown",
   "metadata": {},
   "source": []
  },
  {
   "cell_type": "markdown",
   "metadata": {},
   "source": [
    "The final  data-set in Python would be:"
   ]
  },
  {
   "cell_type": "code",
   "execution_count": 19,
   "metadata": {},
   "outputs": [
    {
     "data": {
      "text/html": [
       "<div>\n",
       "<style scoped>\n",
       "    .dataframe tbody tr th:only-of-type {\n",
       "        vertical-align: middle;\n",
       "    }\n",
       "\n",
       "    .dataframe tbody tr th {\n",
       "        vertical-align: top;\n",
       "    }\n",
       "\n",
       "    .dataframe thead th {\n",
       "        text-align: right;\n",
       "    }\n",
       "</style>\n",
       "<table border=\"1\" class=\"dataframe\">\n",
       "  <thead>\n",
       "    <tr style=\"text-align: right;\">\n",
       "      <th></th>\n",
       "      <th>price</th>\n",
       "      <th>size_in_m_2</th>\n",
       "      <th>longitude</th>\n",
       "      <th>latitude</th>\n",
       "      <th>no_of_bedrooms</th>\n",
       "      <th>no_of_bathrooms</th>\n",
       "      <th>quality</th>\n",
       "    </tr>\n",
       "  </thead>\n",
       "  <tbody>\n",
       "    <tr>\n",
       "      <th>0</th>\n",
       "      <td>2700000</td>\n",
       "      <td>100.242337</td>\n",
       "      <td>55.138932</td>\n",
       "      <td>25.113208</td>\n",
       "      <td>1</td>\n",
       "      <td>2</td>\n",
       "      <td>1</td>\n",
       "    </tr>\n",
       "    <tr>\n",
       "      <th>1</th>\n",
       "      <td>2850000</td>\n",
       "      <td>146.972546</td>\n",
       "      <td>55.151201</td>\n",
       "      <td>25.106809</td>\n",
       "      <td>2</td>\n",
       "      <td>2</td>\n",
       "      <td>1</td>\n",
       "    </tr>\n",
       "    <tr>\n",
       "      <th>2</th>\n",
       "      <td>1150000</td>\n",
       "      <td>181.253753</td>\n",
       "      <td>55.137728</td>\n",
       "      <td>25.063302</td>\n",
       "      <td>3</td>\n",
       "      <td>5</td>\n",
       "      <td>1</td>\n",
       "    </tr>\n",
       "    <tr>\n",
       "      <th>3</th>\n",
       "      <td>2850000</td>\n",
       "      <td>187.664060</td>\n",
       "      <td>55.341761</td>\n",
       "      <td>25.227295</td>\n",
       "      <td>2</td>\n",
       "      <td>3</td>\n",
       "      <td>0</td>\n",
       "    </tr>\n",
       "    <tr>\n",
       "      <th>4</th>\n",
       "      <td>1729200</td>\n",
       "      <td>47.101821</td>\n",
       "      <td>55.139764</td>\n",
       "      <td>25.114275</td>\n",
       "      <td>0</td>\n",
       "      <td>1</td>\n",
       "      <td>1</td>\n",
       "    </tr>\n",
       "    <tr>\n",
       "      <th>...</th>\n",
       "      <td>...</td>\n",
       "      <td>...</td>\n",
       "      <td>...</td>\n",
       "      <td>...</td>\n",
       "      <td>...</td>\n",
       "      <td>...</td>\n",
       "      <td>...</td>\n",
       "    </tr>\n",
       "    <tr>\n",
       "      <th>1900</th>\n",
       "      <td>1500000</td>\n",
       "      <td>100.985561</td>\n",
       "      <td>55.310712</td>\n",
       "      <td>25.176892</td>\n",
       "      <td>2</td>\n",
       "      <td>2</td>\n",
       "      <td>3</td>\n",
       "    </tr>\n",
       "    <tr>\n",
       "      <th>1901</th>\n",
       "      <td>1230000</td>\n",
       "      <td>70.606280</td>\n",
       "      <td>55.276684</td>\n",
       "      <td>25.166145</td>\n",
       "      <td>1</td>\n",
       "      <td>2</td>\n",
       "      <td>1</td>\n",
       "    </tr>\n",
       "    <tr>\n",
       "      <th>1902</th>\n",
       "      <td>2900000</td>\n",
       "      <td>179.302790</td>\n",
       "      <td>55.345056</td>\n",
       "      <td>25.206500</td>\n",
       "      <td>3</td>\n",
       "      <td>5</td>\n",
       "      <td>1</td>\n",
       "    </tr>\n",
       "    <tr>\n",
       "      <th>1903</th>\n",
       "      <td>675000</td>\n",
       "      <td>68.748220</td>\n",
       "      <td>55.229844</td>\n",
       "      <td>25.073858</td>\n",
       "      <td>1</td>\n",
       "      <td>2</td>\n",
       "      <td>1</td>\n",
       "    </tr>\n",
       "    <tr>\n",
       "      <th>1904</th>\n",
       "      <td>760887</td>\n",
       "      <td>74.322400</td>\n",
       "      <td>55.154713</td>\n",
       "      <td>25.079130</td>\n",
       "      <td>1</td>\n",
       "      <td>2</td>\n",
       "      <td>2</td>\n",
       "    </tr>\n",
       "  </tbody>\n",
       "</table>\n",
       "<p>1905 rows × 7 columns</p>\n",
       "</div>"
      ],
      "text/plain": [
       "        price  size_in_m_2  longitude   latitude  no_of_bedrooms  \\\n",
       "0     2700000   100.242337  55.138932  25.113208               1   \n",
       "1     2850000   146.972546  55.151201  25.106809               2   \n",
       "2     1150000   181.253753  55.137728  25.063302               3   \n",
       "3     2850000   187.664060  55.341761  25.227295               2   \n",
       "4     1729200    47.101821  55.139764  25.114275               0   \n",
       "...       ...          ...        ...        ...             ...   \n",
       "1900  1500000   100.985561  55.310712  25.176892               2   \n",
       "1901  1230000    70.606280  55.276684  25.166145               1   \n",
       "1902  2900000   179.302790  55.345056  25.206500               3   \n",
       "1903   675000    68.748220  55.229844  25.073858               1   \n",
       "1904   760887    74.322400  55.154713  25.079130               1   \n",
       "\n",
       "      no_of_bathrooms quality  \n",
       "0                   2       1  \n",
       "1                   2       1  \n",
       "2                   5       1  \n",
       "3                   3       0  \n",
       "4                   1       1  \n",
       "...               ...     ...  \n",
       "1900                2       3  \n",
       "1901                2       1  \n",
       "1902                5       1  \n",
       "1903                2       1  \n",
       "1904                2       2  \n",
       "\n",
       "[1905 rows x 7 columns]"
      ]
     },
     "execution_count": 19,
     "metadata": {},
     "output_type": "execute_result"
    }
   ],
   "source": [
    "data_Python"
   ]
  },
  {
   "cell_type": "code",
   "execution_count": 20,
   "metadata": {},
   "outputs": [
    {
     "data": {
      "text/plain": [
       "'price,size_in_m_2,longitude,latitude,no_of_bedrooms,no_of_bathrooms,quality\\r\\n2700000,100.242337,55.138932,25.113208,1,2,1\\r\\n2850000,146.972546,55.151201,25.106809,2,2,1\\r\\n1150000,181.253753,55.137728,25.063302,3,5,1\\r\\n2850000,187.66406,55.341761,25.227295,2,3,0\\r\\n1729200,47.101821,55.139764,25.114275,0,1,1\\r\\n3119900,94.296545,55.139764,25.114275,1,2,1\\r\\n8503600,191.565986,55.139764,25.114275,2,3,2\\r\\n3119900,94.296545,55.139764,25.114275,1,2,1\\r\\n2100000,203.085958,55.149275,25.106668,3,3,0\\r\\n2690000,141.305463,55.282665,25.194935,2,3,1\\r\\n3550000,178.187954,55.271342,25.198796,3,4,0\\r\\n2094999,98.291374,55.137997,25.075017000000003,2,3,0\\r\\n1049999,56.577927,55.137997,25.075017000000003,1,2,0\\r\\n1849000,99.499113,55.151574,25.132519,1,1,1\\r\\n2089999,97.641053,55.152216,25.132445,1,1,1\\r\\n2349990,103.029427,55.151405,25.132021,1,1,1\\r\\n3499000,151.710599,55.151405,25.132021,2,2,1\\r\\n2700000,125.233244,55.270758,25.198316,2,3,1\\r\\n1490000,108.417801,55.271023,25.19702,2,2,1\\r\\n950000,83.055282,55.263892000000006,25.180301,1,2,1\\r\\n1100000,91.509455,55.132386,25.072396,2,2,1\\r\\n1390000,121.424221,55.13904599999999,25.079783,2,4,0\\r\\n3999900,215.813669,55.274196,25.197316,3,4,1\\r\\n3349000,365.10879,55.145075,25.08377,3,4,0\\r\\n8470000,486.068496,55.151405,25.132021,3,3,1\\r\\n2499000,231.32847,55.141679,25.084331,3,4,1\\r\\n2800000,159.049936,55.271884,25.194282,2,3,1\\r\\n8500000,471.854337,55.138542,25.074958,4,4,1\\r\\n1875000,143.349329,55.270677,25.191719,2,3,0\\r\\n1275000,87.143014,55.277388,25.190044,1,2,0\\r\\n1465777,92.810097,55.294217,25.233787,1,2,1\\r\\n1260000,152.918338,55.151201,25.106809,2,3,0\\r\\n1386795,100.706852,55.296535,25.158305,2,3,1\\r\\n4500000,283.168344,55.341761,25.227295,2,3,1\\r\\n750000,73.950788,55.241403000000005,25.06031,1,1,2\\r\\n991000,107.953286,55.241403000000005,25.06031,2,2,2\\r\\n3599999,182.647298,55.126352,25.07359,3,3,0\\r\\n2625000,165.924758,55.137997,25.075017000000003,3,4,0\\r\\n1270000,83.6127,55.343457,25.204631,1,2,1\\r\\n1398000,108.510704,55.345142,25.206345,1,2,0\\r\\n1795000,93.088806,55.133386,25.074439,1,2,1\\r\\n1600000,113.434563,55.278378,25.190275,2,3,0\\r\\n1050000,51.003747,55.13750600000001,25.114333,0,1,0\\r\\n1150000,105.259099,55.172015,25.091487,2,2,0\\r\\n1800000,110.647473,55.264588,25.200221,1,2,1\\r\\n1349999,172.892483,55.15156,25.02985,3,4,1\\r\\n1800000,146.972546,55.34511,25.20573,2,3,0\\r\\n2353146,108.510704,55.2763,25.185337,2,3,1\\r\\n2800000,294.688316,55.147796,25.089393,4,5,0\\r\\n365000,41.899253,55.25101,25.016736,0,1,1\\r\\n1980000,86.864305,55.151574,25.132519,1,1,1\\r\\n2300000,71.999825,55.14736,25.086376,1,2,1\\r\\n2200000,118.637131,55.147768000000006,25.086575,2,3,1\\r\\n1270000,91.137843,55.343457,25.204631,1,2,0\\r\\n2650000,158.213809,55.128089,25.072954,2,2,0\\r\\n375000,41.80635,55.137452,25.065736,0,1,1\\r\\n1150000,126.998401,55.206417,25.029767,2,3,0\\r\\n2400000,182.554395,55.25658000000001,25.183133,3,4,1\\r\\n1700000,126.162274,55.25658000000001,25.183133,2,3,1\\r\\n1709847,126.998401,55.25658000000001,25.183133,2,3,1\\r\\n12000000,244.427793,55.235827,25.215192,3,5,1\\r\\n1850000,185.155679,55.247980000000005,25.109367,3,4,1\\r\\n2090000,126.812595,55.188957,25.137409,2,3,0\\r\\n1425000,142.60610499999999,55.288017,25.145181,2,3,0\\r\\n1595000,125.41905,55.133230000000005,25.070605,2,2,0\\r\\n975000,58.250181,55.14736,25.086376,1,1,1\\r\\n3400000,155.333816,55.128089,25.072954,2,3,1\\r\\n2050000,204.107891,55.26418,25.189124,3,4,0\\r\\n995000,155.14801,55.249375,25.046147,2,1,0\\r\\n1300000,109.811346,55.247980000000005,25.109367,2,3,1\\r\\n1100000,155.14801,55.249375,25.046147,2,3,1\\r\\n750000,79.060453,55.252762,25.019361,1,2,0\\r\\n1999999,163.044765,55.278772,25.212018,2,2,1\\r\\n2990000,176.794409,55.280919,25.19331,3,4,0\\r\\n2400000,159.514451,55.142382,25.108728,2,3,1\\r\\n2600000,126.34808,55.282665,25.194935,2,3,0\\r\\n2000000,137.217731,55.141064,25.083121,2,3,1\\r\\n1800000,150.688666,55.277512,25.186457,2,3,0\\r\\n930000,71.906922,55.269631,25.196593,1,2,0\\r\\n3200000,146.043516,55.152216,25.132445,2,3,1\\r\\n714000,68.004996,55.203684,25.066791,1,1,2\\r\\n1075000,120.7739,55.132386,25.072396,3,3,1\\r\\n2299900,105.259099,55.274196,25.197316,1,2,1\\r\\n1200000,109.62554,55.146759,25.088431,2,2,1\\r\\n1525000,133.78032,55.145075,25.08377,2,3,0\\r\\n2700000,156.541555,55.262161,25.204462,2,2,1\\r\\n815000,72.371437,55.136283,25.07851,1,1,0\\r\\n860000,90.208813,55.152381000000005,25.080143,1,2,1\\r\\n1200000,134.70935,55.178291,25.100994,2,1,1\\r\\n1300000,70.884989,55.126352,25.07359,1,1,0\\r\\n2100000,105.444905,55.274196,25.197316,1,1,2\\r\\n2100000,183.390522,55.278947,25.187622,3,5,0\\r\\n2100000,97.641053,55.152216,25.132445,1,1,1\\r\\n2100000,76.737878,55.274196,25.197316,1,2,0\\r\\n3499000,151.710599,55.151405,25.132021,2,2,1\\r\\n5500000,242.383927,55.145205,25.086726,4,5,0\\r\\n2100000,146.693837,55.14512,25.081243,2,3,0\\r\\n1845000,141.769978,55.28205,25.211032,2,2,0\\r\\n1800000,182.461492,55.313162,25.100921,1,2,2\\r\\n600000,116.686168,55.20175,25.034774,2,3,1\\r\\n1155000,69.955959,55.280912,25.200926000000003,1,2,1\\r\\n2095000,133.408708,55.15786899999999,25.07868,2,3,1\\r\\n1900000,133.594514,55.269463,25.195461,2,3,1\\r\\n1800000,138.42547,55.136798,25.111433,1,2,0\\r\\n1800000,138.42547,55.136449,25.111229,1,2,0\\r\\n890000,130.0642,55.205381,25.049282,1,2,0\\r\\n3600000,160.164772,55.151405,25.132021,2,3,1\\r\\n1845000,125.047438,55.141977,25.081622,2,2,1\\r\\n1850000,150.781569,55.278772,25.212018,2,3,0\\r\\n4995000,277.77997,55.148473,25.104117,3,4,1\\r\\n3000000,204.479503,55.143347,25.112604,3,4,1\\r\\n610000,42.549574,55.271595,25.176728,0,1,0\\r\\n2850000,161.093802,55.262688,25.205218,2,4,1\\r\\n3315000,181.16085,55.262688,25.205218,2,4,0\\r\\n1800000,112.319727,55.271002,25.196398,2,3,1\\r\\n2100000,125.790662,55.271002,25.196398,2,3,1\\r\\n1400000,79.89658,55.27281800000001,25.191753,1,2,0\\r\\n2300000,124.304214,55.273783,25.189554,2,3,0\\r\\n2300000,133.966126,55.291922,25.185823000000003,2,3,1\\r\\n1335000,124.118408,55.16954200000001,25.090953,2,2,0\\r\\n2200000,175.679573,55.278912,25.187093,3,4,0\\r\\n1100000,100.985561,55.248755,25.11576,2,2,0\\r\\n700000,60.015338,55.248755,25.11576,1,1,0\\r\\n700000,82.033349,55.223079000000006,25.031902,2,2,1\\r\\n3680000,239.132322,55.264588,25.200221,3,5,0\\r\\n10000000,315.777297,55.28318,25.195926,4,5,1\\r\\n2200000,134.430641,55.282665,25.194935,2,2,0\\r\\n1820000,110.09005499999999,55.277061,25.193542,1,2,1\\r\\n655888,35.30314,55.138103,25.111902,0,1,2\\r\\n2300000,181.439559,55.247980000000005,25.109367,3,5,2\\r\\n3200000,170.01248999999999,55.262161,25.204462,2,4,0\\r\\n2175000,128.670655,55.137516000000005,25.073593,2,3,0\\r\\n700000,78.595938,55.207423,25.068608,1,1,1\\r\\n850000,70.513377,55.132386,25.072396,2,2,0\\r\\n1066888,66.704354,55.246977,25.106147,1,1,1\\r\\n2500000,125.976468,55.111349,25.106964,2,3,1\\r\\n1502000,135.63838,55.20458000000001,25.056225,3,3,2\\r\\n860000,167.2254,55.398644,25.123141,2,3,1\\r\\n1000000,85.00624499999999,55.276951,25.186836,1,1,0\\r\\n850000,50.632135,55.140317,25.077327,0,2,1\\r\\n3400000,145.486098,55.282429,25.194547,2,3,1\\r\\n5500000,214.60593,55.282665,25.194935,3,4,1\\r\\n813000,86.864305,55.212972,25.051528,2,2,0\\r\\n3399000,193.609852,55.264588,25.200221,3,4,1\\r\\n1589950,120.959706,55.136982,25.073151,2,3,1\\r\\n10560000,337.981114,55.126352,25.07359,4,3,1\\r\\n390000,78.874647,55.218948,25.044572,1,2,1\\r\\n1650000,135.452574,55.170481,25.089719,2,2,1\\r\\n1200000,117.243586,55.129829,25.072791,2,2,1\\r\\n5400000,420.478978,55.109525,25.112725,4,5,1\\r\\n14800000,466.187254,55.126352,25.07359,5,5,2\\r\\n1700000,140.190627,55.143347,25.112604,1,1,0\\r\\n810000,72.371437,55.136283,25.07851,1,2,1\\r\\n2350000,129.228073,55.271342,25.198796,2,3,0\\r\\n3000000,73.950788,55.27886899999999,25.194282,1,2,1\\r\\n920000,122.167445,55.14530799999999,25.075364,3,2,1\\r\\n2000000,96.61912,55.151574,25.132519,1,2,1\\r\\n1325000,106.281032,55.151201,25.106809,1,1,0\\r\\n2850000,115.571332,55.269439,25.194186,2,2,1\\r\\n1650000,73.579176,55.269439,25.194186,1,2,1\\r\\n410000,90.02300699999999,55.21736,25.042264000000003,1,2,1\\r\\n3700000,172.79958,55.188957,25.137409,3,4,1\\r\\n670000,67.447578,55.203071,25.060247,1,2,0\\r\\n1100000,109.811346,55.272402,25.19045,1,2,1\\r\\n620000,71.256601,55.174751,25.091871,1,1,1\\r\\n2000000,131.364842,55.282056,25.186477,3,3,1\\r\\n662000,58.900502,55.200525,25.04675,1,2,1\\r\\n1992888,79.710774,55.284162,25.196558,1,1,1\\r\\n525000,52.861807,55.140806000000005,25.071246,1,1,1\\r\\n1990000,144.557068,55.137997,25.075017000000003,2,2,0\\r\\n767000,75.344333,55.139751,25.067137,1,2,1\\r\\n1096888,60.38695,55.247341000000006,25.111798,1,1,1\\r\\n749888,44.779246,55.245773,25.097805,1,1,1\\r\\n900000,133.687417,55.212988,25.066013,2,3,1\\r\\n575000,71.628213,55.209389,25.058746,1,2,1\\r\\n1650000,183.390522,55.149275,25.106668,2,4,1\\r\\n1600000,90.766231,55.145574,25.087251,1,2,0\\r\\n1900000,133.408708,55.15864200000001,25.078492,2,3,1\\r\\n1700000,157.377682,55.141977,25.081622,2,3,1\\r\\n1150000,119.751967,55.130280000000006,25.072291,2,2,0\\r\\n1200000,136.381604,55.128579,25.071504,2,3,2\\r\\n1400000,80.268192,55.25658000000001,25.183133,1,2,1\\r\\n875000,123.282281,55.138814,25.064767,2,3,1\\r\\n640000,83.333991,55.14530799999999,25.075364,1,2,1\\r\\n1150000,156.448652,55.132798,25.073156,2,2,1\\r\\n1275000,75.437236,55.271449,25.195237,1,1,1\\r\\n3000000,106.83845,55.269439,25.194186,2,2,0\\r\\n2500000,176.5157,55.271342,25.198796,3,4,1\\r\\n1450000,94.76106,55.277662,25.199782,1,1,1\\r\\n949000,85.099148,55.276951,25.186836,1,1,1\\r\\n880000,78.688841,55.270028,25.197262,1,2,0\\r\\n1850000,151.803502,55.278772,25.212018,2,3,0\\r\\n2700000,278.709,55.133627,25.076319,4,5,1\\r\\n2950000,208.845944,55.136449,25.111229,3,2,0\\r\\n310000,39.483775,55.19351,25.043352,0,1,0\\r\\n3600000,211.725937,55.137511,25.110165,3,4,1\\r\\n3999900,186.549224,55.274196,25.197316,3,4,1\\r\\n410000,68.562414,55.21513100000001,25.063265,1,1,1\\r\\n2100000,135.359671,55.312595,25.178369,2,3,1\\r\\n1464888,80.546901,55.141699,25.100553,1,1,1\\r\\n1199999,99.592016,55.132694,25.074307,1,2,1\\r\\n3150000,134.523544,55.122612,25.077576,2,3,1\\r\\n1150000,71.349504,55.140317,25.077327,1,1,1\\r\\n925000,129.599685,55.28915799999999,25.189282,1,2,1\\r\\n4500000,162.67315299999999,55.276331000000006,25.200879,2,3,1\\r\\n800000,113.248757,55.148208,25.088606,2,3,1\\r\\n625000,93.553321,55.216245,25.064191,2,2,1\\r\\n2650000,126.812595,55.274545,25.191527,2,2,1\\r\\n2400000,188.59309,55.278772,25.212018,2,3,0\\r\\n2050000,160.164772,55.278772,25.212018,2,3,0\\r\\n5800000,309.36699,55.278772,25.212018,3,4,1\\r\\n1450000,183.01891,55.141933,25.079385,3,4,1\\r\\n758500,54.81277,55.301002,25.156237,1,1,1\\r\\n1051938,110.647473,55.140434,25.02462,2,3,2\\r\\n7500000,682.279632,55.264953000000006,25.181115,3,5,1\\r\\n600000,62.24501,55.202948,25.066484,1,2,0\\r\\n14000000,294.316704,55.235827,25.215192,3,5,0\\r\\n1699999,152.546726,55.170014,25.09003,2,2,2\\r\\n305000,69.026929,55.40066,25.16774,1,2,0\\r\\n1300000,125.976468,55.247980000000005,25.109367,2,3,0\\r\\n1250000,88.629462,55.274261,25.189039,1,1,1\\r\\n1250000,125.233244,55.14874,25.090418,2,3,0\\r\\n2350000,234.487172,55.136701,25.11257,3,4,0\\r\\n1400000,76.366266,55.14736,25.086376,1,2,1\\r\\n2750000,155.519622,55.136286,25.072375,3,4,2\\r\\n683001,52.118583,55.24355,25.06211,1,1,1\\r\\n1690000,174.378931,55.13821899999999,25.080327,3,4,1\\r\\n1450000,129.13517,55.281666,25.190874,2,2,1\\r\\n2606000,121.052609,55.111349,25.106964,2,3,2\\r\\n1375000,125.326147,55.171838,25.088533,2,2,0\\r\\n2600000,137.031925,55.153066,25.125472,2,3,1\\r\\n7649000,273.320626,55.151405,25.132021,3,4,1\\r\\n480000,77.016587,55.214303,25.057252,1,2,0\\r\\n2400000,140.097724,55.14925,25.084336,2,3,0\\r\\n800000,48.495366,55.138542,25.074958,0,1,1\\r\\n10820000,263.84452,55.276331000000006,25.200879,4,5,1\\r\\n629000,97.641053,55.246714,25.046706,1,1,0\\r\\n430000,73.672079,55.205661,25.042351,1,2,0\\r\\n410000,73.950788,55.202774,25.058632,1,2,1\\r\\n1690000,121.238415,55.170481,25.089719,2,2,0\\r\\n400888,38.554745,55.154713,25.07913,0,1,1\\r\\n2100000,121.888736,55.274609,25.192471,2,2,0\\r\\n650000,76.644975,55.253831000000005,25.015253,1,2,1\\r\\n1290000,201.878219,55.146294,25.090009,3,3,1\\r\\n420000,71.349504,55.22176999999999,25.042779,1,1,1\\r\\n1950000,130.99323,55.132694,25.074307,2,3,0\\r\\n1600000,134.70935,55.278912,25.187093,2,3,1\\r\\n685000,78.410132,55.149224,25.087926,1,1,1\\r\\n1399900,71.256601,55.273056,25.190267,1,2,1\\r\\n3400000,158.213809,55.280473,25.201842000000003,3,4,1\\r\\n1389900,83.6127,55.26942,25.195039,1,2,0\\r\\n850000,65.775324,55.128579,25.071504,1,2,0\\r\\n1425000,88.25785,55.145574,25.087251,1,2,1\\r\\n462888,37.347006,55.189927,25.047255,1,2,0\\r\\n825828,50.074717,55.311623,25.178495,0,1,2\\r\\n850000,100.613949,55.181316,25.027415,2,2,1\\r\\n3050000,297.382503,55.146759,25.088431,4,5,1\\r\\n808520,45.708276,55.308533,25.177819,1,1,2\\r\\n1760000,180.510529,55.112014,25.123294,2,3,0\\r\\n850000,54.998576,55.12905799999999,25.068586,1,1,1\\r\\n1690000,109.253928,55.124993,25.071365,2,2,1\\r\\n617000,78.96755,55.209442,25.048461,1,2,2\\r\\n3850000,188.035672,55.270983,25.201718,3,3,0\\r\\n1355000,163.50928,55.149224,25.087926,2,3,1\\r\\n1375000,79.524968,55.26942,25.195039,1,2,0\\r\\n1599999,201.785316,55.146294,25.090009,3,3,1\\r\\n863400,51.003747,55.339287,25.103784,1,2,1\\r\\n641700,37.625715,55.339287,25.103784,0,1,1\\r\\n1250000,125.883565,55.139576,25.110724,1,1,0\\r\\n3200000,211.81884,55.133230000000005,25.070605,3,4,0\\r\\n1700000,154.497689,55.277919,25.186913,2,3,0\\r\\n2050000,139.3545,55.145574,25.087251,2,3,0\\r\\n1441498,131.643551,55.271356,25.18219,2,3,1\\r\\n2299880,220.18010999999998,55.2861,25.185772,3,4,1\\r\\n1789000,91.602358,55.273284,25.193039,1,2,1\\r\\n3450000,162.208638,55.145574,25.087251,3,3,2\\r\\n3094900,119.380355,55.276331000000006,25.200879,2,3,0\\r\\n1890000,147.437061,55.142615,25.115747,1,1,1\\r\\n1500000,86.028178,55.132888,25.073778,1,2,0\\r\\n1800000,98.105568,55.124993,25.071365,2,2,1\\r\\n5790000,320.236641,55.151405,25.132021,3,4,1\\r\\n2800000,179.30279,55.345142,25.206345,3,3,1\\r\\n2800000,209.03175,55.137575,25.110559,3,4,1\\r\\n2399999,226.590417,55.137591,25.111108,3,4,1\\r\\n864000,64.10307,55.34911,25.201227,1,1,1\\r\\n1540000,59.45792,55.126527,25.072569,1,2,1\\r\\n1600000,59.365017,55.126527,25.072569,1,2,0\\r\\n2320000,107.76748,55.126527,25.072569,2,3,0\\r\\n2320000,184.040843,55.126527,25.072569,2,3,1\\r\\n2450000,109.718443,55.126527,25.072569,2,3,0\\r\\n2450000,109.718443,55.126527,25.072569,2,3,0\\r\\n2700000,120.7739,55.271223,25.193703,2,3,0\\r\\n2167888,74.3224,55.28314399999999,25.194877,1,2,0\\r\\n1700000,90.766231,55.270189,25.201204,1,2,1\\r\\n1667888,108.69651,55.365799,25.195295,2,3,0\\r\\n1399888,76.18046,55.345967,25.20863,1,2,1\\r\\n1051888,67.540481,55.243982,25.099132,2,3,0\\r\\n1050888,67.168869,55.243982,25.099132,2,3,0\\r\\n1021888,68.934026,55.243982,25.099132,2,3,0\\r\\n1040000,59.736629,55.349638,25.195854,1,2,0\\r\\n1964888,92.159776,55.14034300000001,25.080542,1,2,1\\r\\n1370888,69.305638,55.139276,25.0967,1,2,1\\r\\n1722888,73.300467,55.141746,25.099793,1,2,1\\r\\n1949888,105.816517,55.14145500000001,25.099744,2,3,1\\r\\n4000000,194.817591,55.141746,25.099793,3,4,0\\r\\n1500000,69.212735,55.141275,25.09938,1,2,0\\r\\n1150000,67.726287,55.14145500000001,25.099744,1,2,1\\r\\n2500000,139.447403,55.345908,25.209767000000003,2,3,1\\r\\n1739999,106.188129,55.34419499999999,25.203844,2,3,1\\r\\n5460661,130.0642,55.267099,25.18868,2,3,0\\r\\n1471888,92.53138799999999,55.24734,25.111805,2,3,0\\r\\n1165000,92.717194,55.24734,25.111805,2,3,1\\r\\n1900000,218.507856,55.131088,25.071448,2,3,1\\r\\n3621888,171.591841,55.343101,25.202808,3,4,0\\r\\n1780888,92.717194,55.269318000000005,25.194031,2,3,0\\r\\n1780888,92.345582,55.269318000000005,25.194031,2,3,0\\r\\n2042888,129.413879,55.34911,25.201227,3,4,0\\r\\n1710000,120.866803,55.25277,25.240419,2,3,0\\r\\n6400000,272.391596,55.25277,25.240419,4,5,0\\r\\n1234000,75.901751,55.25277,25.240419,1,2,0\\r\\n1737000,119.84487,55.25277,25.240419,2,3,0\\r\\n1459000,73.764982,55.25277,25.240419,1,2,0\\r\\n1868000,112.970048,55.25277,25.240419,2,3,1\\r\\n2008000,125.233244,55.189006000000006,25.137198,2,3,1\\r\\n1592892,122.910669,55.264968,25.193359,2,3,0\\r\\n1650000,120.7739,55.264968,25.193359,2,3,1\\r\\n649888,29.171542,55.138635,25.112193,0,1,1\\r\\n876888,32.794759,55.138635,25.112193,0,1,0\\r\\n1600000,90.580425,55.14668100000001,25.087147,1,2,1\\r\\n1750000,103.029427,55.139276,25.0967,2,3,0\\r\\n1950000,104.05136,55.271797,25.195483,2,2,1\\r\\n1550000,112.970048,55.280662,25.202977,2,3,1\\r\\n850000,153.28995,55.398644,25.123141,2,3,1\\r\\n1500000,126.069371,55.33868,25.225739,2,3,2\\r\\n657903,79.060453,55.20955,25.04866,1,2,1\\r\\n1367000,75.994654,55.25277,25.240419,1,1,0\\r\\n18614888,500.096849,55.272126,25.196489,4,6,2\\r\\n1500888,192.30921,55.283576,25.273623,2,2,1\\r\\n520000,99.499113,55.217965,25.039514,2,3,0\\r\\n1900000,214.977542,55.132888,25.073778,2,2,1\\r\\n1750000,162.58025,55.109525,25.112725,2,3,1\\r\\n4500000,357.212035,55.313162,25.100921,3,4,1\\r\\n3000000,295.43154,55.146759,25.088431,4,4,2\\r\\n12930000,283.261247,55.271884,25.194282,4,6,0\\r\\n1750000,149.202218,55.246280000000006,25.114553,3,3,1\\r\\n1375000,128.20614,55.171838,25.088533,2,3,1\\r\\n3100000,138.239664,55.12067,25.079276,2,3,0\\r\\n1690000,106.83845,55.271797,25.195483,2,2,2\\r\\n799900,91.881067,55.266317,25.192522,1,1,1\\r\\n580000,58.621793,55.281229,25.010599,1,1,1\\r\\n1700000,124.025505,55.275682,25.188743,2,3,0\\r\\n1699000,124.304214,55.137591,25.111108,1,2,1\\r\\n1400000,120.680997,55.281004,25.18984,2,3,0\\r\\n2450000,204.758212,55.135687,25.075974,3,4,0\\r\\n2298999,172.985386,55.262829,25.208262,2,3,1\\r\\n605000,47.659239,55.26667,25.183515,0,1,1\\r\\n599000,82.219155,55.376107,25.112525,1,2,1\\r\\n4681888,159.79316,55.271884,25.194282,2,3,0\\r\\n2500000,168.804751,55.134763,25.078122,2,3,1\\r\\n1800000,119.008743,55.136286,25.072375,2,3,1\\r\\n1890000,116.593265,55.14736,25.086376,2,3,0\\r\\n1750000,168.340236,55.109525,25.112725,2,3,0\\r\\n1100000,67.81919,55.280662,25.202977,1,1,0\\r\\n900000,91.881067,55.247980000000005,25.109367,1,1,0\\r\\n1295000,237.274262,55.16360400000001,25.007528,3,2,0\\r\\n1640000,120.959706,55.141977,25.081622,2,3,1\\r\\n1200000,68.097899,55.25277,25.240419,1,2,0\\r\\n350000,49.703105,55.376107,25.112525,0,1,1\\r\\n1150000,112.41263,55.139742000000005,25.07907,2,4,1\\r\\n589000,78.410132,55.210235,25.063841,1,2,1\\r\\n1670000,126.905498,55.132888,25.073778,2,3,1\\r\\n1550000,272.298693,55.241586,25.045661,3,3,0\\r\\n1650000,81.011416,55.270983,25.201718,1,2,0\\r\\n2650000,138.704179,55.153066,25.125472,2,2,0\\r\\n1930000,190.07953799999999,55.136122,25.114513,2,3,1\\r\\n368000,35.767655,55.20792900000001,25.066252,0,1,1\\r\\n5500000,212.283355,55.270189,25.201204,4,4,0\\r\\n3900000,183.762134,55.271342,25.198796,3,4,0\\r\\n1500000,160.443481,55.133324,25.069944,2,3,1\\r\\n1650000,102.56491199999999,55.27875600000001,25.195235,2,3,2\\r\\n1150000,149.295121,55.199369,25.052714,3,4,0\\r\\n1890000,95.03976899999999,55.25277,25.240419,2,3,1\\r\\n15800000,488.019459,55.272126,25.196489,4,5,1\\r\\n3000000,122.353251,55.271449,25.195237,2,3,1\\r\\n4000000,177.258924,55.27875600000001,25.195235,3,3,1\\r\\n1625000,81.290125,55.147768000000006,25.086575,1,2,0\\r\\n2243000,120.12357899999999,55.275166000000006,25.187556,2,2,1\\r\\n800000,95.504284,55.143825,25.074521,1,2,1\\r\\n2650000,150.131248,55.280662,25.202977,3,4,1\\r\\n1239000,69.398541,55.277662,25.199782,1,1,1\\r\\n4100000,164.809922,55.276331000000006,25.200879,2,3,0\\r\\n2600888,147.065449,55.247341000000006,25.111798,3,3,1\\r\\n1200000,68.097899,55.25277,25.240419,1,1,0\\r\\n3150000,152.825435,55.14847,25.104115,2,2,2\\r\\n1100000,102.286203,55.138863,25.081955,1,2,1\\r\\n2499000,135.917089,55.128089,25.072954,2,3,1\\r\\n1061888,67.81919,55.25912,25.121564000000003,2,2,1\\r\\n930888,86.39979,55.293818,24.999981,2,2,1\\r\\n453888,31.494117,55.291873,24.998576,0,1,1\\r\\n2040888,149.295121,55.248755,25.11576,3,3,1\\r\\n1100000,77.016587,55.129145,25.069266,2,2,1\\r\\n1261142,68.934026,55.2758,25.171461,1,2,1\\r\\n1170000,91.04494,55.145574,25.087251,1,2,1\\r\\n2499000,126.998401,55.111349,25.106964,2,5,0\\r\\n1642777,92.717194,55.294217,25.233787,1,2,0\\r\\n1450000,138.146761,55.244923,25.107984,2,3,0\\r\\n1276686,70.60628,55.2758,25.171461,1,2,1\\r\\n1550000,91.97397,55.294217,25.233787,1,2,1\\r\\n2046777,151.803502,55.294217,25.233787,2,3,1\\r\\n3700000,210.88981,55.261734,25.20179,3,4,0\\r\\n2800000,200.298868,55.140778000000005,25.11309,3,4,0\\r\\n2999900,165.181534,55.274196,25.197316,2,3,0\\r\\n2650000,165.924758,55.137997,25.075017000000003,3,4,0\\r\\n3500000,164.066698,55.152727,25.131393,2,3,1\\r\\n1300000,105.259099,55.277978,25.207533,1,2,0\\r\\n2950000,139.633209,55.134135,25.076944,2,3,0\\r\\n1780000,95.504284,55.128089,25.072954,1,2,1\\r\\n675000,76.737878,55.294028,25.15899,1,1,0\\r\\n1450000,118.358422,55.275199,25.206412,1,2,1\\r\\n1010000,79.89658,55.27389599999999,25.191404,1,2,1\\r\\n5750000,239.132322,55.13862099999999,25.084102,3,5,1\\r\\n1250000,105.259099,55.277978,25.207533,1,2,0\\r\\n4649900,247.400689,55.274196,25.197316,3,4,1\\r\\n1250000,112.41263,55.139082,25.079966,2,3,1\\r\\n2049999,96.526217,55.28019499999999,25.191642,2,3,1\\r\\n888000,82.49786399999999,55.283132,25.015608,2,2,1\\r\\n16950000,455.875021,55.288975,25.188299,3,3,1\\r\\n30950000,735.977566,55.288975,25.188299,4,4,1\\r\\n1225000,68.283705,55.14145500000001,25.099744,1,2,1\\r\\n2577888,125.604856,55.269318000000005,25.194031,3,4,0\\r\\n1025888,66.89016,55.138103,25.111902,1,2,1\\r\\n913548,49.145687,55.142624,25.082217,0,1,0\\r\\n2250000,157.9351,55.269309,25.191634,2,3,1\\r\\n1275000,82.962379,55.28205,25.211032,1,1,1\\r\\n350000,48.959881,55.254155,25.020958,0,1,1\\r\\n780000,65.682421,55.344345,25.204135,1,1,0\\r\\n1650000,97.455247,55.284124,25.196592000000003,2,3,0\\r\\n424340,35.767655,55.203684,25.066791,0,1,1\\r\\n1800000,102.1933,55.153066,25.125472,1,2,1\\r\\n3175000,211.911743,55.142615,25.115747,3,4,1\\r\\n1500000,141.677075,55.145205,25.086726,2,3,1\\r\\n1850000,86.864305,55.151574,25.132519,1,2,1\\r\\n990000,67.075966,55.244923,25.107984,1,1,1\\r\\n750000,60.201144,55.248755,25.11576,1,1,1\\r\\n900000,96.247508,55.26250699999999,25.181311,1,1,2\\r\\n1700000,108.139092,55.25277,25.240419,2,3,1\\r\\n1271000,68.004996,55.25277,25.240419,1,2,1\\r\\n485000,56.020509,55.291467,25.010196,1,1,1\\r\\n1125000,120.7739,55.140521,25.111822,1,1,0\\r\\n1000000,63.266943,55.280662,25.202977,1,2,0\\r\\n700000,52.304389,55.281516,25.18543,0,1,0\\r\\n725000,64.288876,55.281116,25.185156,0,1,0\\r\\n1300000,167.132497,55.145552,25.10813,2,3,0\\r\\n778000,67.81919,55.245729,25.07001,1,2,2\\r\\n2099999,128.391946,55.147768000000006,25.086575,2,3,0\\r\\n17910000,580.272138,55.168509,25.10355,4,5,1\\r\\n15460000,402.362893,55.168509,25.10355,3,4,1\\r\\n700000,92.903,55.14935,25.022618,2,3,1\\r\\n450000,46.4515,55.139480000000006,25.065355,0,1,0\\r\\n1275000,119.101646,55.269631,25.196593,2,3,1\\r\\n15490000,366.409432,55.168509,25.10355,3,4,1\\r\\n15830000,330.177262,55.168509,25.10355,3,4,1\\r\\n15910000,324.417276,55.168509,25.10355,4,5,1\\r\\n21990000,580.829556,55.168509,25.10355,4,5,1\\r\\n21870000,481.980764,55.168509,25.10355,4,5,1\\r\\n22640000,511.431015,55.168509,25.10355,4,5,1\\r\\n1246305,72.46433999999999,55.2758,25.171461,1,2,2\\r\\n2085804,103.029427,55.2758,25.171461,2,3,2\\r\\n1246305,72.46433999999999,55.2758,25.171461,1,2,2\\r\\n1400000,126.162274,55.247980000000005,25.109367,2,2,1\\r\\n2850000,125.41905,55.151405,25.132021,2,2,0\\r\\n1100000,106.281032,55.14165799999999,25.11241,1,1,0\\r\\n3800000,376.535859,55.13609,25.113366,3,3,0\\r\\n1100000,88.443656,55.28915799999999,25.189282,1,2,1\\r\\n650000,71.256601,55.174064,25.091283,1,1,1\\r\\n17130000,426.889285,55.168509,25.10355,3,4,1\\r\\n22260000,457.361469,55.168509,25.10355,4,5,1\\r\\n490000,52.304389,55.272389,25.17667,0,1,0\\r\\n2800000,185.155679,55.244923,25.107984,3,4,1\\r\\n450000,102.657815,55.206605,25.047032,1,2,1\\r\\n1400000,134.70935,55.293914,25.005442,3,3,1\\r\\n1700000,185.06277599999999,55.138246,25.065886,2,2,1\\r\\n3000000,211.725937,55.136449,25.111229,3,4,1\\r\\n1125888,171.87055,55.294912,25.005559,3,4,0\\r\\n1150000,129.692588,55.14066,25.082397,2,3,1\\r\\n1499000,159.886063,55.148385,25.087042,3,3,1\\r\\n990000,67.075966,55.177657,25.108984,1,2,1\\r\\n1400000,156.07704,55.14866899999999,25.078262,2,4,0\\r\\n590888,50.725038,55.295312,25.005753,1,2,0\\r\\n749888,44.779246,55.243982,25.099132,1,2,1\\r\\n796195,45.801179,55.308533,25.177819,1,1,0\\r\\n700000,77.574005,55.288017,25.145181,1,2,1\\r\\n1055000,108.975219,55.148401,25.107353,1,1,0\\r\\n1100000,135.824186,55.289787,25.01057,3,3,0\\r\\n3600000,239.968449,55.268641,25.195236,3,4,1\\r\\n1575000,106.83845,55.144753,25.08333,2,3,0\\r\\n2000000,157.284779,55.168784,25.096545000000003,2,3,0\\r\\n900000,92.903,55.247980000000005,25.109367,1,2,1\\r\\n2099999,128.299043,55.147768000000006,25.086575,2,3,1\\r\\n420000,41.063126,55.155419,25.021571,0,1,1\\r\\n849999,63.638555,55.26624,25.178582,1,2,1\\r\\n4900000,200.391771,55.283223,25.195751,3,4,1\\r\\n750000,70.420474,55.17514499999999,25.0902,1,1,0\\r\\n1900000,206.523369,55.148401,25.107353,3,4,1\\r\\n1400000,142.513202,55.288017,25.145181,2,3,0\\r\\n1780000,111.4836,55.25277,25.240419,2,2,2\\r\\n1754888,105.07329299999999,55.138103,25.111902,2,3,1\\r\\n2350000,172.613774,55.280919,25.19331,2,3,0\\r\\n2350000,234.487172,55.136701,25.11257,3,4,1\\r\\n1100000,93.367515,55.13586,25.072696,1,2,1\\r\\n1095000,72.557243,55.280033,25.19236,1,1,0\\r\\n525000,64.753391,55.291467,25.010196,1,1,1\\r\\n1290000,77.202393,55.25277,25.240419,1,2,0\\r\\n500000,54.719867,55.291467,25.010196,1,1,1\\r\\n990000,139.3545,55.133324,25.069944,2,3,1\\r\\n1025000,68.74822,55.271002,25.196398,1,2,1\\r\\n761888,45.150858,55.243982,25.099132,1,2,0\\r\\n18614888,500.096849,55.272126,25.196489,4,5,0\\r\\n1430000,67.168869,55.280662,25.202977,1,2,0\\r\\n1550000,131.736454,55.17331,25.088728,2,2,0\\r\\n2750000,114.828108,55.280662,25.202977,2,3,0\\r\\n1150000,66.239839,55.271002,25.196398,1,1,1\\r\\n1150000,109.997152,55.149275,25.106668,1,1,0\\r\\n2000000,201.042092,55.142382,25.108728,2,3,1\\r\\n1290000,126.533886,55.247980000000005,25.109367,2,3,1\\r\\n1700000,86.771402,55.280175,25.19168,2,3,0\\r\\n2349000,276.758037,55.150625,25.089833,3,4,1\\r\\n1976504,108.231995,55.292277,25.184873,1,2,1\\r\\n1900000,142.884814,55.270677,25.191719,2,3,1\\r\\n610000,44.314731,55.282071,25.186573000000003,0,1,1\\r\\n1900000,175.58667,55.137511,25.110165,2,2,0\\r\\n1100000,102.286203,55.121042,25.098745,1,2,1\\r\\n429000,42.73538,55.20541600000001,25.037035,0,2,0\\r\\n1300000,124.675826,55.168887,25.093319,2,2,0\\r\\n1460000,80.639804,55.147768000000006,25.086575,1,2,1\\r\\n3450000,209.96078,55.141387,25.116492,3,3,0\\r\\n1999999,154.21898,55.173227,25.086886,3,4,2\\r\\n1650000,172.79958,55.149287,25.085305,1,2,1\\r\\n7000000,179.674402,55.235827,25.215192,2,2,1\\r\\n820000,59.45792,55.139815000000006,25.068729,1,1,0\\r\\n1525000,161.65122,55.271002,25.196398,2,2,0\\r\\n1299999,126.440983,55.247980000000005,25.109367,2,3,1\\r\\n950000,80.175289,55.168657,25.091259,1,1,0\\r\\n1850000,99.40621,55.151574,25.132519,1,2,1\\r\\n7600000,194.445979,55.235827,25.215192,2,4,0\\r\\n1500000,89.930104,55.277978,25.207533,1,2,0\\r\\n1850000,190.915665,55.142546,25.111681,2,4,1\\r\\n3250000,193.888561,55.277978,25.207533,2,3,0\\r\\n670000,84.54173,55.202774,25.058632,1,2,0\\r\\n850000,70.60628,55.132386,25.072396,2,2,1\\r\\n3250000,378.208113,55.361808,25.221028,3,4,1\\r\\n1500000,121.981639,55.274878,25.189195,2,3,1\\r\\n1950000,96.61912,55.151574,25.132519,1,2,1\\r\\n2300000,158.306712,55.128089,25.072954,2,3,1\\r\\n2500000,202.249831,55.139576,25.110724,3,3,0\\r\\n1400000,112.041018,55.142415,25.085047,2,3,1\\r\\n1150000,165.181534,55.198896,25.049301,2,2,0\\r\\n1300000,88.25785,55.145574,25.087251,1,2,1\\r\\n545000,63.17404,55.207037,25.048292,1,2,2\\r\\n1400000,120.959706,55.142441000000005,25.082004,2,3,0\\r\\n2200000,162.394444,55.14874,25.090418,3,3,1\\r\\n1300000,87.143014,55.28205,25.211032,1,2,1\\r\\n800000,84.355924,55.149224,25.087926,1,2,1\\r\\n850000,68.097899,55.170481,25.089719,1,1,1\\r\\n1540000,71.721116,55.14736,25.086376,1,2,1\\r\\n550000,90.11591,55.069311,24.948068,2,3,1\\r\\n2600000,196.861457,55.28205,25.211032,3,4,0\\r\\n700000,85.00624499999999,55.148929,25.089463,1,2,1\\r\\n1100000,79.432065,55.28246800000001,25.200159,1,2,1\\r\\n699999,86.306887,55.146035,25.077009,1,2,1\\r\\n1900000,90.580425,55.14668100000001,25.087147,1,2,1\\r\\n900000,101.542979,55.172975,25.09243,2,2,1\\r\\n2949999,214.513027,55.34511,25.20573,3,5,1\\r\\n980000,100.33524,55.138863,25.081955,1,2,1\\r\\n350000,40.598611,55.198896,25.049301,0,1,1\\r\\n2500000,226.590417,55.136122,25.114513,3,3,1\\r\\n34314000,889.639128,55.168509,25.10355,4,5,1\\r\\n3050000,171.963453,55.270983,25.201718,3,3,1\\r\\n1650000,102.657815,55.280662,25.203035,2,2,1\\r\\n850000,69.491444,55.17331,25.088728,1,2,1\\r\\n3350000,280.288351,55.31296700000001,25.099422,2,3,0\\r\\n1749510,148.830606,55.254015,25.116799,3,4,1\\r\\n1100000,89.651395,55.281666,25.190874,1,2,0\\r\\n1950000,125.14034099999999,55.141711,25.081421,2,3,1\\r\\n815000,72.371437,55.136283,25.07851,1,2,1\\r\\n849000,70.048862,55.171838,25.088533,1,1,1\\r\\n2120000,136.102895,55.143556,25.108522,2,3,1\\r\\n1750000,130.0642,55.27216899999999,25.192132,2,2,0\\r\\n808255,60.201144,55.250357,25.113521,1,1,1\\r\\n2300000,158.213809,55.128089,25.072954,2,2,0\\r\\n1675000,216.092378,55.146775,25.07696,4,4,2\\r\\n1373000,177.351827,55.146775,25.07696,3,3,2\\r\\n1980000,158.213809,55.25277,25.240419,2,3,0\\r\\n2200000,158.771227,55.137575,25.110559,2,3,1\\r\\n1850000,125.14034099999999,55.142441000000005,25.082004,2,3,1\\r\\n1500000,176.794409,55.139147,25.08058,3,3,2\\r\\n1055093,110.647473,55.140434,25.02462,2,3,1\\r\\n568801,69.67725,55.140434,25.02462,1,2,1\\r\\n2650000,197.604681,55.244923,25.107984,3,5,1\\r\\n540000,33.073468,55.339287,25.103784,0,1,1\\r\\n1253686,69.398541,55.308533,25.177819,2,2,1\\r\\n4400000,186.270515,55.111349,25.106964,3,2,0\\r\\n1000000,77.388199,55.27389599999999,25.191404,1,2,1\\r\\n550000,58.993405,55.25475600000001,25.022371,0,1,0\\r\\n675000,97.826859,55.243608,25.044961,1,2,0\\r\\n1050000,70.699183,55.136283,25.07851,1,2,1\\r\\n380000,86.306887,55.367882,25.113747,1,2,1\\r\\n1225000,81.475931,55.277978,25.207533,1,2,0\\r\\n1720000,179.209887,55.133627,25.076319,3,4,1\\r\\n1700000,117.522295,55.273333,25.191544,2,2,0\\r\\n1230000,103.679748,55.12171800000001,25.09858,1,2,1\\r\\n739000,86.213984,55.14935,25.022618,2,2,1\\r\\n2800000,272.949014,55.285118,25.223728,3,3,1\\r\\n1350000,161.744123,55.149224,25.087926,2,3,1\\r\\n850000,109.997152,55.138246,25.065886,1,2,0\\r\\n2300000,149.57383,55.128089,25.072954,2,3,0\\r\\n1445888,61.873398,55.271797,25.195483,1,2,1\\r\\n1286000,91.602358,55.267193000000006,25.01936,2,2,1\\r\\n999950,85.656566,55.142183,25.082591,1,2,0\\r\\n320000,50.910844,55.150016,25.03335,0,1,0\\r\\n1849000,278.987709,55.133627,25.076319,3,3,1\\r\\n1450000,78.781744,55.136286,25.072375,1,1,0\\r\\n790000,126.162274,55.246714,25.046706,2,3,1\\r\\n500000,87.607529,55.392352,25.11848,2,2,1\\r\\n830000,80.918513,55.209391,25.060106,1,2,1\\r\\n1640000,157.284779,55.142039,25.084397,2,3,1\\r\\n475000,107.488771,55.253035,25.007476,1,1,1\\r\\n3200000,169.269266,55.147768000000006,25.086575,3,5,0\\r\\n699000,72.650146,55.203423,25.054336,1,2,1\\r\\n610000,69.305638,55.206373,25.048095,1,2,1\\r\\n610500,79.060453,55.206373,25.048095,1,2,3\\r\\n600205,74.786915,55.206373,25.048095,1,2,3\\r\\n610500,75.623042,55.206373,25.048095,1,2,3\\r\\n1700000,185.527291,55.143412,25.111088,2,2,1\\r\\n610503,75.715945,55.206373,25.048095,1,2,3\\r\\n1275000,128.299043,55.13154,25.073146,2,2,1\\r\\n1295000,68.469511,55.143557,25.108523,1,2,1\\r\\n3300000,256.040668,55.149287,25.085305,3,5,0\\r\\n1300000,101.450076,55.274545,25.191527,1,2,0\\r\\n900502,105.630711,55.206373,25.048095,2,3,3\\r\\n901345,106.559741,55.206373,25.048095,2,3,3\\r\\n525000,89.930104,55.137291000000005,25.044519,1,1,0\\r\\n3489900,175.400864,55.274196,25.197316,2,3,1\\r\\n760000,65.868227,55.142183,25.082591,1,1,1\\r\\n700000,68.376608,55.147796,25.089393,1,2,1\\r\\n1675000,162.208638,55.138654,25.116329,2,2,1\\r\\n625000,85.099148,55.148929,25.089463,1,2,1\\r\\n1390000,181.532462,55.13609,25.113366,2,3,1\\r\\n1700000,106.095226,55.152689,25.107005,1,1,0\\r\\n1400000,82.312058,55.280912,25.200926000000003,1,1,1\\r\\n3600000,294.688316,55.147796,25.089393,4,5,1\\r\\n1434000,70.420474,55.25277,25.240419,1,2,0\\r\\n1200000,69.212735,55.139276,25.0967,1,2,0\\r\\n1795000,113.34166,55.25277,25.240419,2,3,1\\r\\n2444888,98.848792,55.271797,25.195483,2,3,1\\r\\n2650000,111.297794,55.134135,25.076944,2,3,0\\r\\n3750000,182.833104,55.135003000000005,25.082647,3,5,0\\r\\n2399999,109.62554,55.135003000000005,25.082647,2,3,0\\r\\n1700000,120.959706,55.142441000000005,25.082004,2,3,0\\r\\n1550000,110.368764,55.146759,25.088431,2,3,1\\r\\n1775000,131.92226,55.27389599999999,25.191404,2,2,1\\r\\n2450000,237.088456,55.14925,25.084336,3,5,1\\r\\n12000000,291.901226,55.235827,25.215192,3,5,1\\r\\n624888,33.44508,55.138630000000006,25.112237,0,1,1\\r\\n560000,64.195973,55.144318000000005,25.080444,1,2,1\\r\\n992888,66.239839,55.138630000000006,25.112237,1,2,1\\r\\n1234000,70.048862,55.25277,25.240419,1,2,0\\r\\n1300000,101.171367,55.34555400000001,25.203553,2,3,1\\r\\n1150000,89.651395,55.265094,25.023506,2,3,0\\r\\n1400000,134.70935,55.17331,25.088728,2,2,2\\r\\n1690000,121.238415,55.170481,25.089719,2,3,1\\r\\n1050000,150.50286,55.207168,25.053988,1,1,1\\r\\n1500000,154.683495,55.166634,25.093596,3,2,1\\r\\n2892000,251.209712,55.441623,25.227337,4,5,1\\r\\n1688000,146.879643,55.441623,25.227337,3,4,1\\r\\n1399000,122.724863,55.441623,25.227337,2,3,1\\r\\n3750000,126.533886,55.282343,25.194761,2,3,1\\r\\n1574950,70.141765,55.14736,25.086376,1,2,1\\r\\n412000,34.838625,55.203423,25.054336,0,1,2\\r\\n999000,116.035847,55.203423,25.054336,2,3,2\\r\\n2445000,143.99965,55.143347,25.112604,2,3,1\\r\\n1700000,111.4836,55.25277,25.240419,2,3,0\\r\\n4294888,151.989308,55.271797,25.195483,3,4,1\\r\\n2975000,157.377682,55.149287,25.085305,2,2,2\\r\\n2600000,185.248582,55.144174,25.111943,2,4,0\\r\\n1450000,102.1933,55.15370600000001,25.126034,1,2,1\\r\\n1400206,112.877145,55.201813,25.046403,2,3,2\\r\\n3299950,262.45097499999997,55.172519,25.087547,3,3,2\\r\\n1395000,181.439559,55.13609,25.113366,2,2,0\\r\\n1380888,69.212735,55.141275,25.09938,1,1,1\\r\\n1275000,175.215058,55.14684499999999,25.107086,2,2,0\\r\\n1300000,85.192051,55.280919,25.19331,1,2,1\\r\\n1350000,189.986635,55.206373,25.048095,3,4,3\\r\\n3000000,179.488596,55.345142,25.206345,3,4,1\\r\\n1490000,77.852714,55.14736,25.086376,1,2,1\\r\\n612870,64.567585,55.207733,25.051513,1,2,3\\r\\n2250000,202.714346,55.144174,25.111943,3,3,1\\r\\n1350000,171.87055,55.13786999999999,25.080162,3,4,1\\r\\n1575000,71.999825,55.14736,25.086376,1,2,0\\r\\n639777,75.901751,55.206373,25.048095,1,2,3\\r\\n627777,69.67725,55.206373,25.048095,1,2,3\\r\\n620000,69.119832,55.206373,25.048095,1,2,3\\r\\n706000,71.256601,55.207733,25.051513,1,2,3\\r\\n993999,108.046189,55.207733,25.051513,2,3,3\\r\\n670000,81.75464,55.212972,25.051528,1,2,3\\r\\n914000,111.111988,55.212972,25.051528,2,3,3\\r\\n1113000,136.102895,55.212972,25.051528,2,3,3\\r\\n1131000,144.742874,55.212972,25.051528,2,3,3\\r\\n635000,64.288876,55.200783,25.046296,1,2,3\\r\\n941000,122.260348,55.200783,25.046296,2,3,3\\r\\n1080000,132.015163,55.200783,25.046296,2,3,3\\r\\n4222888,182.833104,55.141275,25.09938,3,4,0\\r\\n1737000,112.691339,55.25277,25.240419,2,3,1\\r\\n1200000,120.309385,55.135515000000005,25.07715,2,3,0\\r\\n1450000,123.468087,55.147796,25.089393,2,3,1\\r\\n3400000,179.395693,55.34505600000001,25.2065,3,4,0\\r\\n525000,62.709525,55.14416800000001,25.069779,1,1,1\\r\\n1259999,147.065449,55.147521,25.10798,2,4,1\\r\\n425000,51.932777,55.255442,25.021049,0,1,1\\r\\n1550000,112.133921,55.150381,25.090136,2,3,1\\r\\n790000,113.248757,55.148208,25.088606,2,2,0\\r\\n1020000,121.424221,55.175161,25.10004,2,2,1\\r\\n954505,121.888736,55.200783,25.046296,2,3,3\\r\\n999999,77.852714,55.27389599999999,25.191404,1,2,0\\r\\n1750000,192.30921,55.170078,25.095179,3,3,0\\r\\n1475000,72.650146,55.271797,25.195483,1,2,1\\r\\n3380000,176.608603,55.135003000000005,25.082647,3,4,0\\r\\n1801000,74.3224,55.14668100000001,25.087147,1,2,2\\r\\n1270000,142.884814,55.20955,25.04866,3,4,3\\r\\n635356,58.435987,55.200783,25.046296,1,2,3\\r\\n1220000,119.008743,55.173061,25.093469,2,2,0\\r\\n999905,118.079713,55.136879,25.071356,2,3,1\\r\\n1700000,138.704179,55.244923,25.107984,2,2,0\\r\\n550000,79.89658,55.220697,25.039066,1,2,1\\r\\n1550000,178.559566,55.139802,25.081265,3,4,1\\r\\n3600000,235.509105,55.109525,25.112725,3,4,1\\r\\n620000,61.873398,55.203684,25.066791,1,2,1\\r\\n1110000,130.807424,55.169499,25.095723,2,2,0\\r\\n1399999,121.238415,55.129829,25.072791,2,2,1\\r\\n799999,117.801004,55.212972,25.051528,1,2,1\\r\\n275000,68.004996,55.418,25.161532,1,2,0\\r\\n850000,83.6127,55.2121,25.051384,1,2,1\\r\\n1850000,182.08988,55.247980000000005,25.109367,3,4,1\\r\\n626999,75.530139,55.20955,25.04866,1,2,3\\r\\n1269999,139.3545,55.20955,25.04866,3,4,3\\r\\n1625000,143.99965,55.14480699999999,25.085322,2,3,1\\r\\n8000000,240.340061,55.138714,25.083858,3,4,1\\r\\n1450000,156.07704,55.148529,25.07887,2,3,0\\r\\n950000,86.957208,55.277512,25.186457,1,2,1\\r\\n245000,28.428318,55.390236,25.115934,0,1,0\\r\\n699000,74.3224,55.243343,25.0633,1,1,1\\r\\n1650000,161.093802,55.137581,25.116067,2,4,1\\r\\n2150000,226.590417,55.136122,25.114513,3,4,1\\r\\n850000,64.567585,55.35916700000001,25.194722,1,1,1\\r\\n1490000,57.228248,55.14668100000001,25.087147,0,1,2\\r\\n1492000,57.228248,55.14668100000001,25.087147,0,1,2\\r\\n2599950,190.915665,55.144174,25.111943,2,3,1\\r\\n1250000,60.665659,55.271797,25.195483,1,1,1\\r\\n1300000,57.506957,55.271797,25.195483,1,1,1\\r\\n600000,81.847543,55.37796,25.119354,1,1,1\\r\\n626999,75.530139,55.20955,25.04866,1,2,3\\r\\n2235000,182.647298,55.274427,25.189423,3,4,0\\r\\n925000,133.687417,55.247353,25.046818,2,3,1\\r\\n1400000,119.101646,55.159380000000006,25.077955,2,2,1\\r\\n2099950,130.528715,55.133386,25.074439,2,3,0\\r\\n2485000,156.820264,55.148688,25.083483,2,2,1\\r\\n880000,80.361095,55.26991,25.191107,1,1,0\\r\\n699000,71.999825,55.20598,25.037236,1,2,1\\r\\n1280000,120.402288,55.247980000000005,25.109367,2,2,0\\r\\n1680000,153.568659,55.146840000000005,25.083145,2,3,0\\r\\n1750000,149.295121,55.248755,25.11576,3,4,0\\r\\n2950000,209.03175,55.136449,25.111229,3,4,0\\r\\n1350000,148.923509,55.144174,25.111943,2,1,0\\r\\n870000,106.373935,55.198917,25.057022,1,2,1\\r\\n1200000,76.830781,55.271023,25.19702,0,1,1\\r\\n1900000,127.927431,55.136057,25.11087,1,2,1\\r\\n2000000,88.25785,55.151574,25.132519,1,2,0\\r\\n1000000,85.00624499999999,55.276951,25.186836,1,1,0\\r\\n1690000,165.088631,55.13609,25.113366,2,2,1\\r\\n789999,70.234668,55.136283,25.07851,1,1,0\\r\\n4100000,226.68332,55.277978,25.207533,2,3,1\\r\\n999999,77.666908,55.271959,25.19079,1,2,1\\r\\n1275000,119.101646,55.270168000000005,25.19752,2,3,0\\r\\n2900000,241.826509,55.112014,25.123294,3,4,1\\r\\n8950000,261.336139,55.273465,25.190443,4,5,1\\r\\n1600000,228.076865,55.146464,25.087979,2,4,0\\r\\n2587000,112.505533,55.14736,25.086376,2,2,2\\r\\n914888,85.099148,55.289787,25.01057,2,3,0\\r\\n610577,71.628213,55.206373,25.048095,1,1,1\\r\\n500000,79.98948299999999,55.137291000000005,25.044519,1,2,0\\r\\n14570000,300.634108,55.168509,25.10355,3,4,1\\r\\n948307,73.579176,55.311826,25.176965,1,2,1\\r\\n1890000,118.637131,55.147768000000006,25.086575,2,2,1\\r\\n1250000,195.09629999999999,55.16421999999999,25.006838,2,2,1\\r\\n3750000,211.725937,55.135714,25.110525,3,3,1\\r\\n3200000,183.576328,55.270677,25.191719,3,3,1\\r\\n650000,99.034598,55.247959,25.046667000000003,1,2,0\\r\\n1398000,88.815268,55.260502,25.20532,1,2,1\\r\\n1300000,191.658889,55.143825,25.074521,2,4,1\\r\\n3950000,360.649446,55.146464,25.087979,3,6,0\\r\\n1299999,134.70935,55.134763,25.078122,2,3,1\\r\\n906888,103.12233,55.206373,25.048095,2,3,1\\r\\n395000,40.598611,55.143728,25.071616,0,1,1\\r\\n2500000,140.469336,55.14847,25.104115,1,2,2\\r\\n5796888,172.892483,55.271449,25.195237,3,4,0\\r\\n2900000,186.456321,55.25277,25.240419,3,4,0\\r\\n1700000,111.4836,55.25277,25.240419,2,3,0\\r\\n1250000,166.946691,55.149141,25.030322,3,4,0\\r\\n745000,118.172616,55.200053,25.060394,1,1,0\\r\\n3500000,167.2254,55.148449,25.104582,2,2,0\\r\\n890000,70.048862,55.171838,25.088533,1,1,0\\r\\n1000000,64.939197,55.138949,25.074286,1,2,1\\r\\n1200000,223.710424,55.297034,25.00373,3,3,1\\r\\n1700000,108.139092,55.344345,25.204135,2,3,1\\r\\n2800000,149.295121,55.280912,25.200926000000003,3,3,1\\r\\n770000,74.97272099999999,55.142415,25.085047,1,2,0\\r\\n1900000,165.553146,55.177657,25.108984,3,4,1\\r\\n540000,35.024431,55.243556000000005,25.062083,0,1,1\\r\\n4500000,330.177262,55.149869,25.090214000000003,3,5,0\\r\\n1250000,89.837201,55.281314,25.192975,1,2,0\\r\\n2400000,160.071869,55.142382,25.108728,2,3,0\\r\\n1350000,82.776573,55.260565,25.184884,2,3,1\\r\\n3800000,226.404611,55.28205,25.211032,3,3,1\\r\\n2650000,134.616447,55.276331000000006,25.200879,2,3,1\\r\\n4700000,202.900152,55.276331000000006,25.200879,3,5,2\\r\\n325000,51.468262,55.205122,25.048001,0,1,1\\r\\n820845,45.801179,55.308533,25.177819,1,1,0\\r\\n1785000,222.781394,55.170272,25.096219,4,3,0\\r\\n1399000,114.921011,55.171022,25.089515,2,2,0\\r\\n390000,73.39337,55.37796,25.119354,1,1,1\\r\\n1540000,59.45792,55.126527,25.072569,1,2,1\\r\\n1483350,83.519797,55.308533,25.177819,2,2,0\\r\\n1550000,102.657815,55.139802,25.081265,1,2,1\\r\\n689999,98.848792,55.297034,25.00373,2,2,1\\r\\n425000,47.38053,55.200832,25.049808,0,1,0\\r\\n2450000,109.718443,55.126527,25.072569,2,3,0\\r\\n16200000,371.612,55.26667,25.183515,2,2,0\\r\\n2700000,255.018735,55.31296700000001,25.099422,2,3,0\\r\\n740000,67.354675,55.365799,25.195295,1,1,1\\r\\n675000,82.033349,55.283111,25.01551,2,2,1\\r\\n1650000,126.719692,55.171838,25.088533,2,2,0\\r\\n1900000,81.75464,55.271342,25.198796,1,1,0\\r\\n550000,116.686168,55.201959,25.03439,2,2,0\\r\\n950000,91.04494,55.148529,25.07887,1,2,0\\r\\n1100000,133.873223,55.171237,25.094713,2,2,1\\r\\n2100000,155.891234,55.277512,25.186457,2,3,0\\r\\n2290000,133.966126,55.280919,25.19331,2,3,0\\r\\n1110200,65.0321,55.309922,25.176686,1,2,1\\r\\n1699000,175.58667,55.136449,25.111229,1,2,1\\r\\n700000,66.239839,55.271015000000006,25.180869,0,1,1\\r\\n490000,63.17404,55.291467,25.010196,1,1,0\\r\\n808000,124.49002,55.290055,25.010066,3,3,2\\r\\n4996000,150.595763,55.151574,25.132519,2,3,1\\r\\n16500000,453.08793099999997,55.152216,25.132445,3,4,1\\r\\n650000,84.263021,55.245835,25.045763,1,2,0\\r\\n4000000,189.057605,55.15864200000001,25.078492,3,4,1\\r\\n590000,61.873398,55.134775,25.069473,1,1,0\\r\\n4500000,118.079713,55.276331000000006,25.200879,2,3,1\\r\\n2100000,115.385526,55.279641000000005,25.187855,2,3,1\\r\\n1950000,130.0642,55.27216899999999,25.192132,2,3,1\\r\\n650000,73.857885,55.154686,25.027786,1,2,2\\r\\n2300000,136.56741,55.280919,25.19331,2,3,1\\r\\n1110888,62.152107,55.292343,25.184483,0,1,1\\r\\n2000000,147.901576,55.344345,25.204135,3,4,1\\r\\n1300000,126.905498,55.178082,25.110967,2,2,0\\r\\n675000,84.263021,55.245835,25.045763,1,1,0\\r\\n1125000,78.410132,55.244923,25.107984,1,1,0\\r\\n3499900,221.016237,55.275202,25.191285,3,3,1\\r\\n3378000,140.840948,55.14668100000001,25.087147,2,3,2\\r\\n4202898,163.880892,55.341761,25.227295,2,3,0\\r\\n1000000,65.682421,55.343628,25.226946,1,1,0\\r\\n749000,52.118583,55.343628,25.226946,0,1,0\\r\\n4300000,212.654967,55.341761,25.227295,3,4,0\\r\\n3650000,176.422797,55.126352,25.07359,3,4,1\\r\\n677250,37.811521,55.246463,25.018888,0,1,1\\r\\n982800,54.905673,55.246463,25.018888,1,1,1\\r\\n950000,129.042267,55.138246,25.065886,1,1,1\\r\\n936000,72.46433999999999,55.441623,25.22724,1,2,1\\r\\n825888,69.212735,55.207712,25.051448,1,2,0\\r\\n835000,82.68367,55.204243000000005,25.049772,1,2,1\\r\\n1500000,145.021583,55.141025,25.069929,3,3,0\\r\\n425000,56.577927,55.199936,25.051302,0,1,1\\r\\n1349000,178.466663,55.218272,25.038978,3,4,1\\r\\n980000,101.171367,55.2121,25.051384,2,3,1\\r\\n4600000,248.794234,55.263127,25.204058,3,4,1\\r\\n615000,72.092728,55.206417,25.029767,1,2,1\\r\\n1770000,150.967375,55.277512,25.186457,2,3,1\\r\\n1512888,56.392121,55.271797,25.195483,1,2,1\\r\\n1195000,85.377857,55.276396,25.188671,1,2,0\\r\\n1600000,111.669406,55.280662,25.203035,2,3,0\\r\\n1399999,191.658889,55.143825,25.074521,2,3,1\\r\\n400000,40.598611,55.212062,25.065988,0,1,1\\r\\n649888,29.171542,55.138635,25.112193,0,1,1\\r\\n2750000,140.28353,55.12067,25.079276,2,3,1\\r\\n1300000,117.893907,55.16822,25.092075,2,2,1\\r\\n1200000,139.633209,55.148929,25.089463,3,3,0\\r\\n475000,44.872149,55.212062,25.065988,1,2,1\\r\\n1825000,202.714346,55.367945,25.218977,3,3,1\\r\\n1550000,59.365017,55.126527,25.072569,1,2,0\\r\\n2320000,107.76748,55.135003000000005,25.082647,1,2,1\\r\\n1425000,157.00607,55.151252,25.080238,2,2,1\\r\\n4500000,235.04459,55.269309,25.191634,3,4,1\\r\\n3200000,348.943668,55.140209,25.069852,4,4,0\\r\\n3050000,181.904074,55.147768000000006,25.086575,3,5,0\\r\\n850000,138.611276,55.212062,25.065988,2,3,1\\r\\n16950000,455.875021,55.289173,25.188556,3,2,2\\r\\n1300000,88.25785,55.145574,25.087251,1,2,1\\r\\n1650000,115.292623,55.273196,25.189617,2,3,1\\r\\n1650000,123.096475,55.273196,25.189617,2,3,1\\r\\n2300000,163.044765,55.273196,25.189617,3,4,1\\r\\n850000,70.60628,55.134233,25.077072,0,1,1\\r\\n4949999,224.82526,55.260897,25.202965,3,4,0\\r\\n1000000,85.00624499999999,55.276951,25.186836,1,1,1\\r\\n2800000,140.004821,55.270983,25.201718,2,3,0\\r\\n1200000,111.576503,55.177657,25.108984,2,3,0\\r\\n1350000,202.900152,55.198917,25.057022,2,2,1\\r\\n690000,79.153356,55.140241,25.065571,1,2,1\\r\\n1423000,71.721116,55.188957,25.137409,1,1,0\\r\\n1590000,110.740376,55.150381,25.090136,2,2,1\\r\\n750000,82.68367,55.14874,25.090418,1,2,1\\r\\n1400000,138.146761,55.281004,25.18984,2,3,0\\r\\n7900000,221.573655,55.271884,25.194282,3,4,1\\r\\n425000,61.780495,55.228215000000006,24.942372,1,1,1\\r\\n2325000,124.304214,55.281487,25.192871,2,3,1\\r\\n2700000,153.197047,55.27305500000001,25.190262,2,3,0\\r\\n3195000,233.558142,55.148688,25.083483,3,4,1\\r\\n1100000,120.216482,55.169499,25.095723,2,2,1\\r\\n1300000,175.215058,55.14684499999999,25.107086,2,3,1\\r\\n3199999,182.926007,55.270677,25.191719,3,3,1\\r\\n530000,65.0321,55.156274,25.026312,1,1,1\\r\\n3600000,161.558317,55.148162,25.105166,2,3,1\\r\\n330000,58.900502,55.370649,25.101565,1,1,1\\r\\n3600000,190.45115,55.13684,25.076576,3,4,0\\r\\n500000,49.424396,55.146035,25.077009,0,2,1\\r\\n2000000,122.074542,55.145574,25.087251,2,3,1\\r\\n3110000,143.99965,55.26884,25.195542,3,3,0\\r\\n1240000,73.39337,55.153066,25.125477,1,1,0\\r\\n888000,66.239839,55.138949,25.074286,1,2,0\\r\\n1300000,90.487522,55.27839399999999,25.187129,1,2,1\\r\\n3615000,140.748045,55.13193100000001,25.0799,2,2,0\\r\\n970000,63.638555,55.26667,25.183515,1,2,1\\r\\n2175000,121.888736,55.14736,25.086376,2,3,1\\r\\n350000,66.425645,55.365680000000005,25.111535,1,1,1\\r\\n500000,115.10681699999999,55.365680000000005,25.111535,2,3,1\\r\\n1300000,138.797082,55.295714,25.150828,2,2,1\\r\\n750000,93.553321,55.271015000000006,25.180869,1,2,2\\r\\n4499000,150.50286,55.235827,25.215192,1,2,1\\r\\n1483888,56.763733,55.271797,25.195483,1,2,1\\r\\n570000,83.6127,55.137728,25.063302,1,2,0\\r\\n1390000,107.953286,55.280473,25.201842000000003,2,3,1\\r\\n1650000,176.5157,55.148385,25.087042,3,4,1\\r\\n2900000,287.07027,55.135006,25.07662,3,5,1\\r\\n1595000,127.834528,55.145205,25.086726,2,3,0\\r\\n1100000,87.32882,55.269696,25.19719,1,2,0\\r\\n900000,91.881067,55.247980000000005,25.109367,1,2,1\\r\\n325000,59.829532,55.389588,25.117158,0,1,1\\r\\n1700000,150.131248,55.294217,25.233787,2,2,1\\r\\n580000,105.630711,55.220697,25.039066,1,2,1\\r\\n3450000,167.2254,55.148162,25.105166,2,3,0\\r\\n1700000,182.647298,55.151503000000005,25.079501,2,2,1\\r\\n1855000,133.873223,55.345967,25.20863,3,3,1\\r\\n999999,77.852714,55.27389599999999,25.191404,1,1,1\\r\\n6474000,318.192775,55.25277,25.240419,4,5,0\\r\\n1266000,66.146936,55.138635,25.112193,1,2,1\\r\\n1999995,260.1284,55.150625,25.089833,3,4,1\\r\\n650000,98.848792,55.291467,25.010196,2,2,1\\r\\n1100000,133.873223,55.171259,25.09516,2,2,0\\r\\n1825000,124.118408,55.271342,25.198796,2,3,1\\r\\n750000,167.782818,55.365680000000005,25.111535,3,3,2\\r\\n1950000,112.877145,55.2758,25.171461,2,3,2\\r\\n18614888,500.096849,55.272126,25.196489,4,6,1\\r\\n2063888,100.149434,55.28019499999999,25.191642,2,2,0\\r\\n2060888,100.05653099999999,55.28019499999999,25.191642,2,2,0\\r\\n1926888,94.389448,55.28019499999999,25.191642,2,2,0\\r\\n1979888,97.269441,55.28019499999999,25.191642,2,2,0\\r\\n2079888,94.389448,55.28019499999999,25.191642,2,2,0\\r\\n1300000,82.776573,55.134432,25.075284,1,2,1\\r\\n399950,39.112163,55.285212,25.145146,0,1,1\\r\\n1245888,90.859134,55.34911,25.201227,2,2,1\\r\\n2547000,130.157103,55.134126,25.079895,2,3,1\\r\\n1400000,123.932602,55.137779,25.074167000000003,2,2,2\\r\\n414000,41.80635,55.200783,25.046296,0,1,2\\r\\n935000,125.41905,55.200783,25.046296,2,3,2\\r\\n1286000,139.3545,55.20458000000001,25.056225,3,4,2\\r\\n940000,102.1933,55.20458000000001,25.056225,2,3,2\\r\\n1398000,148.6448,55.207733,25.051513,3,4,2\\r\\n625000,69.67725,55.207733,25.051513,1,2,2\\r\\n679000,38.09023,55.283141,25.188065,1,1,1\\r\\n2930000,140.469336,55.12067,25.079276,2,3,0\\r\\n35000000,682.465438,55.168509,25.10355,4,5,0\\r\\n425000,49.424396,55.152381000000005,25.080143,0,1,0\\r\\n620000,74.3224,55.20955,25.04866,1,2,2\\r\\n1175000,148.6448,55.20955,25.04866,3,4,2\\r\\n759000,83.6127,55.20955,25.04866,2,3,2\\r\\n2585000,190.915665,55.144174,25.111943,2,1,1\\r\\n1325000,117.42939199999999,55.244923,25.107984,2,2,1\\r\\n510000,86.957208,55.39684499999999,25.119491,2,3,0\\r\\n1220000,111.762309,55.209391,25.060106,2,3,1\\r\\n850000,133.966126,55.246714,25.046706,2,2,0\\r\\n1250000,76.923684,55.158801,25.078353,1,2,0\\r\\n3000000,171.034423,55.270758,25.198316,3,5,1\\r\\n1390000,66.611451,55.273056,25.190267,1,1,1\\r\\n2200000,166.110564,55.137997,25.075017000000003,3,4,0\\r\\n656000,67.540481,55.200762,25.046383,1,2,0\\r\\n2990000,162.208638,55.145574,25.087251,3,4,1\\r\\n1000000,174.65764,55.242224,25.045763,2,2,0\\r\\n443000,39.297969,55.200697,25.046296,0,1,0\\r\\n2600000,137.49644,55.344741000000006,25.207227,3,4,2\\r\\n2110000,71.163698,55.135003000000005,25.082647,1,2,1\\r\\n1880000,74.97272099999999,55.135003000000005,25.082647,1,2,1\\r\\n1600000,137.217731,55.16954200000001,25.090953,2,2,1\\r\\n2300000,125.41905,55.270677,25.191719,2,2,1\\r\\n1123000,87.32882,55.291718,25.186023,1,1,0\\r\\n5700000,375.51392599999997,55.278772,25.212018,4,5,1\\r\\n600000,92.903,55.246264,25.046409,1,2,0\\r\\n1650000,172.892483,55.149287,25.085305,2,2,1\\r\\n1095000,113.806175,55.144318000000005,25.080444,2,2,2\\r\\n950000,129.042267,55.138246,25.065886,1,2,0\\r\\n1120000,121.238415,55.174096,25.090455,2,2,1\\r\\n1300000,70.699183,55.168784,25.096545000000003,1,1,1\\r\\n2250000,207.45239899999999,55.16822,25.092075,3,4,1\\r\\n1200000,81.475931,55.277978,25.207533,1,2,1\\r\\n1350000,126.440983,55.247980000000005,25.109367,2,2,0\\r\\n615000,76.366266,55.20598,25.037236,1,2,1\\r\\n1900000,142.884814,55.270677,25.191719,2,3,1\\r\\n1695000,124.304214,55.136798,25.111433,1,2,1\\r\\n500000,70.699183,55.148208,25.088606,1,2,0\\r\\n1200000,83.148185,55.132694,25.074307,1,2,1\\r\\n1650000,103.029427,55.128758,25.06873,2,3,1\\r\\n3799900,146.78674,55.282429,25.194547,2,2,0\\r\\n2250000,206.151757,55.2727,25.193656,2,3,0\\r\\n1200000,78.96755,55.280919,25.19331,1,2,0\\r\\n3990000,218.507856,55.147768000000006,25.086575,4,4,0\\r\\n1895000,182.833104,55.247980000000005,25.109367,3,4,1\\r\\n950000,86.957208,55.141261,25.081634,1,2,0\\r\\n1288888,68.934026,55.2758,25.171461,1,2,0\\r\\n1288888,68.934026,55.2758,25.171461,1,2,0\\r\\n1288888,68.934026,55.2758,25.171461,1,2,1\\r\\n4900000,248.794234,55.277061,25.193542,3,5,0\\r\\n5045846,161.65122,55.15451,25.126233,2,2,1\\r\\n1780000,76.366266,55.276331000000006,25.200879,1,2,1\\r\\n350000,35.117334,55.156948,25.026191,0,1,1\\r\\n2100000,182.926007,55.247980000000005,25.109367,3,3,1\\r\\n615000,76.366266,55.20598,25.037236,1,2,1\\r\\n2395000,174.193125,55.136939,25.077213,3,3,1\\r\\n654000,57.971472,55.146948,25.081576,1,1,0\\r\\n1599999,109.62554,55.146759,25.088431,2,2,1\\r\\n600000,49.23859,55.28406,25.187662,0,1,2\\r\\n3000000,162.208638,55.145574,25.087251,3,4,0\\r\\n1250000,87.51462599999999,55.28205,25.211032,1,2,1\\r\\n624888,29.821863,55.138103,25.111902,0,1,2\\r\\n1950000,209.589168,55.367945,25.218977,3,4,1\\r\\n2702000,96.061702,55.151405,25.132021,1,2,1\\r\\n4610000,166.203467,55.126352,25.07359,2,3,1\\r\\n1980000,65.496615,55.126352,25.07359,1,2,1\\r\\n5800000,240.61877,55.126352,25.07359,4,5,1\\r\\n3650000,182.74020099999998,55.126352,25.07359,2,3,1\\r\\n1300000,124.768729,55.168887,25.093319,2,2,2\\r\\n1600000,160.815093,55.136014,25.079453,2,3,1\\r\\n2140000,71.163698,55.126352,25.07359,1,2,1\\r\\n3300000,209.03175,55.137575,25.110559,3,3,0\\r\\n1550000,96.61912,55.284974,25.193806,1,2,1\\r\\n2250000,128.020334,55.274196,25.197316,1,2,2\\r\\n888888,75.25143,55.27969,25.192054,1,1,1\\r\\n399000,35.30314,55.15669499999999,25.027786,0,1,2\\r\\n815000,79.617871,55.171744,25.090661,1,1,1\\r\\n5750000,239.132322,55.138714,25.083858,3,4,1\\r\\n1175000,101.078464,55.277512,25.186457,1,2,1\\r\\n1049950,116.871974,55.147627,25.087751,2,2,1\\r\\n1650000,147.62286699999999,55.142546,25.111681,2,2,1\\r\\n1359000,91.97397,55.294217,25.233787,1,2,1\\r\\n1600000,102.657815,55.280473,25.201842000000003,2,3,0\\r\\n1650000,160.257675,55.26991,25.191107,2,3,0\\r\\n2950000,240.61877,55.14925,25.084336,4,5,1\\r\\n1700000,144.92867999999999,55.277919,25.186913,2,3,1\\r\\n1500000,234.85878399999999,55.166634,25.093596,3,3,1\\r\\n595000,56.949539,55.137461,25.072316,1,2,1\\r\\n1075000,158.213809,55.295016,25.158106,2,2,0\\r\\n695000,136.939022,55.214303,25.057252,2,3,0\\r\\n1200000,119.473258,55.135515000000005,25.07715,2,2,0\\r\\n1120000,119.473258,55.174096,25.090455,2,2,0\\r\\n950000,71.906922,55.270168000000005,25.19752,1,2,0\\r\\n1761627,94.575254,55.2758,25.171461,1,1,1\\r\\n828241,62.24501,55.311826,25.176965,1,2,1\\r\\n1439112,104.887487,55.311826,25.176965,2,3,1\\r\\n1650000,114.084884,55.311826,25.176965,2,3,1\\r\\n3499000,534.842571,55.141933,25.079385,4,5,1\\r\\n1350000,130.0642,55.13154,25.073146,2,3,1\\r\\n1999950,174.193125,55.146735,25.082518,2,3,1\\r\\n1225000,157.9351,55.15463199999999,25.027686,3,4,1\\r\\n750000,122.724863,55.201659,25.059555,2,3,1\\r\\n3950000,243.498763,55.275199,25.206412,3,3,1\\r\\n3700000,141.026754,55.282343,25.194761,2,3,1\\r\\n15873000,500.096849,55.272126,25.196489,4,5,2\\r\\n1050000,79.89658,55.271002,25.196398,1,2,1\\r\\n1450000,111.297794,55.271023,25.19702,2,3,1\\r\\n603000,92.624291,55.20790699999999,25.056706,1,2,1\\r\\n5399990,240.61877,55.135003000000005,25.082647,4,4,1\\r\\n2300000,109.62554,55.135003000000005,25.082647,2,3,1\\r\\n1599999,137.310634,55.16954200000001,25.090953,2,2,0\\r\\n1235251,79.246259,55.305441,25.17299,2,2,1\\r\\n590000,70.420474,55.174064,25.091283,1,1,2\\r\\n1599900,134.70935,55.278912,25.187093,2,3,1\\r\\n460000,75.158527,55.247508,25.045243,0,1,1\\r\\n700000,70.513377,55.139829000000006,25.067019,1,2,1\\r\\n699503,79.153356,55.21335,25.050227,1,2,3\\r\\n1199789,129.320976,55.21335,25.050227,3,4,3\\r\\n620502,79.060453,55.20955,25.04866,1,2,3\\r\\n759502,78.781744,55.20955,25.04866,2,3,3\\r\\n1204504,169.08346,55.20955,25.04866,3,4,3\\r\\n661300,62.988234,55.200783,25.046296,1,2,3\\r\\n954206,121.888736,55.200783,25.046296,2,3,3\\r\\n995786,147.901576,55.212972,25.051528,2,3,3\\r\\n1045734,147.901576,55.212972,25.051528,2,3,2\\r\\n670728,67.633384,55.202273,25.060439,1,2,1\\r\\n1800000,71.999825,55.14736,25.086376,1,2,1\\r\\n2050000,137.49644,55.141977,25.081622,2,3,1\\r\\n439205,37.254103,55.200783,25.046296,0,1,1\\r\\n660606,62.988234,55.200783,25.046296,1,2,3\\r\\n619490,79.060453,55.20955,25.04866,1,2,3\\r\\n692503,69.770153,55.21335,25.050227,1,2,3\\r\\n660600,62.709525,55.200783,25.046296,1,2,3\\r\\n954502,121.795833,55.200783,25.046296,2,3,3\\r\\n630205,80.82561,55.212972,25.051528,1,2,3\\r\\n990876,147.901576,55.212972,25.051528,2,3,3\\r\\n670728,67.633384,55.202273,25.060439,1,2,1\\r\\n620720,74.601109,55.20955,25.04866,1,2,1\\r\\n759081,92.717194,55.20955,25.04866,2,3,3\\r\\n2200000,183.297619,55.144879,25.084418,3,2,1\\r\\n1019000,85.00624499999999,55.276951,25.186836,1,1,1\\r\\n1050000,77.852714,55.272402,25.19045,1,2,1\\r\\n1199000,78.781744,55.145574,25.087251,1,2,1\\r\\n2000000,135.545477,55.15794,25.078859,2,3,1\\r\\n1450000,77.852714,55.14736,25.086376,1,2,1\\r\\n1800000,145.579001,55.34505600000001,25.2065,2,3,1\\r\\n848950,69.67725,55.171838,25.088533,1,1,1\\r\\n992888,59.179211,55.138103,25.111902,1,1,1\\r\\n525000,30.657989999999998,55.306951,25.172418,0,1,1\\r\\n750000,56.392121,55.343628,25.226946,0,1,0\\r\\n280000,35.953461,55.20663,25.053111,0,1,0\\r\\n1650000,185.806,55.145799,25.109267000000003,3,4,1\\r\\n1975000,128.763558,55.147768000000006,25.086575,2,3,1\\r\\n1900000,128.763558,55.147768000000006,25.086575,2,3,1\\r\\n759502,88.815268,55.20955,25.04866,2,3,3\\r\\n661205,62.337913,55.200783,25.046296,1,2,3\\r\\n965789,121.981639,55.200783,25.046296,2,3,3\\r\\n630503,69.770153,55.212972,25.051528,1,2,3\\r\\n990598,132.386775,55.212972,25.051528,2,3,3\\r\\n4365888,158.771227,55.268641,25.195236,3,3,1\\r\\n1250000,142.60610499999999,55.288017,25.145181,2,2,1\\r\\n3499999,211.911743,55.141387,25.116492,3,4,1\\r\\n1750000,95.132672,55.277077,25.195098,1,2,0\\r\\n1900000,133.966126,55.277061,25.193542,1,2,0\\r\\n1800000,201.042092,55.142559,25.078967,3,2,1\\r\\n3000000,191.008568,55.274196,25.197316,2,4,1\\r\\n2199950,140.28353,55.282665,25.194935,2,3,1\\r\\n620504,76.18046,55.20955,25.04866,1,2,3\\r\\n759503,90.859134,55.20955,25.04866,2,3,3\\r\\n954503,122.074542,55.200783,25.046296,2,3,3\\r\\n630504,66.704354,55.212972,25.051528,1,2,3\\r\\n950504,131.457745,55.212972,25.051528,2,3,3\\r\\n1650000,135.173865,55.278912,25.187093,2,3,0\\r\\n610000,69.305638,55.206373,25.048095,1,2,3\\r\\n929999,101.542979,55.20955,25.04866,2,3,3\\r\\n626999,88.25785,55.20955,25.04866,1,2,3\\r\\n1900000,130.0642,55.271342,25.198796,2,3,1\\r\\n1250000,231.32847,55.206373,25.048095,3,4,3\\r\\n440500,48.30956,55.21335,25.050227,0,1,3\\r\\n620503,77.574005,55.20955,25.04866,1,2,3\\r\\n1190502,138.611276,55.20955,25.04866,3,4,3\\r\\n850000,54.998576,55.12856899999999,25.069259,1,1,0\\r\\n661615,64.288876,55.200783,25.046296,1,2,1\\r\\n954366,122.260348,55.200783,25.046296,2,3,3\\r\\n895000,91.230746,55.138325,25.073185,2,2,0\\r\\n766000,43.478604,55.283015,25.187004,1,2,3\\r\\n619502,79.060453,55.20955,25.04866,1,2,3\\r\\n2750000,203.922085,55.244923,25.107984,3,2,1\\r\\n1200000,100.799755,55.244958,25.020437,2,3,0\\r\\n440000,40.87732,55.173463,25.091939,0,1,1\\r\\n2050906,342.626264,55.214103,25.064662,4,5,1\\r\\n1400000,69.67725,55.139276,25.0967,1,2,1\\r\\n2450000,111.4836,55.139276,25.0967,2,3,1\\r\\n1175000,69.212735,55.141275,25.09938,1,2,1\\r\\n1500000,119.101646,55.159380000000006,25.077955,2,2,1\\r\\n731000,86.678499,55.398989,25.167982,2,2,1\\r\\n1500000,89.930104,55.145574,25.087251,1,2,0\\r\\n2500000,113.620369,55.14847,25.104115,1,2,1\\r\\n700000,77.016587,55.138353,25.067476,1,1,0\\r\\n1200000,59.272114,55.135003000000005,25.082647,1,1,0\\r\\n14560000,300.448302,55.138932,25.113208,3,4,1\\r\\n2150000,93.460418,55.144753,25.08333,2,2,1\\r\\n3100000,185.341485,55.270677,25.191719,3,5,1\\r\\n1390000,164.902825,55.141064,25.083121,3,3,1\\r\\n1350000,174.843446,55.14066,25.082397,3,4,2\\r\\n1900000,99.127501,55.138542,25.074958,2,2,1\\r\\n1130000,113.899078,55.138122,25.078613,2,2,1\\r\\n468999,111.948115,55.246629000000006,25.003373,1,1,0\\r\\n503000,70.420474,55.250658,25.004319,1,2,0\\r\\n308999,45.894082,55.249599,25.005973,0,1,0\\r\\n599900,77.016587,55.2121,25.051384,1,2,0\\r\\n2100000,154.497689,55.150381,25.090136,2,3,1\\r\\n1300000,179.488596,55.243608,25.044961,3,4,1\\r\\n2249888,102.472009,55.274196,25.197316,1,2,2\\r\\n3999888,152.268017,55.274196,25.197316,2,3,2\\r\\n290000,40.598611,55.223732,24.934402,0,1,1\\r\\n1000000,67.354675,55.128814,25.068933,1,2,1\\r\\n550000,81.940446,55.223732,24.934402,1,2,1\\r\\n400000,47.937948,55.211718000000005,24.946417,0,1,1\\r\\n700000,129.13517,55.362565,25.115211,2,3,0\\r\\n5500000,141.305463,55.235827,25.215192,1,2,1\\r\\n2400000,97.455247,55.270189,25.201204,1,2,2\\r\\n748888,39.669581,55.2699,25.187683,0,1,1\\r\\n1400000,87.607529,55.260897,25.202965,1,2,1\\r\\n2200000,214.977542,55.14512,25.081243,3,4,2\\r\\n1650000,166.575079,55.14041,25.078367,2,3,1\\r\\n725000,88.25785,55.14935,25.022618,2,3,1\\r\\n900000,171.406035,55.246843000000005,25.045501,2,2,0\\r\\n950000,111.297794,55.147627,25.087751,2,2,0\\r\\n2000000,156.07704,55.173227,25.086886,3,4,0\\r\\n1600000,107.953286,55.345908,25.209767000000003,2,3,2\\r\\n1971905,133.873223,55.345967,25.20863,3,3,1\\r\\n1600000,233.372336,55.209389,25.058746,2,3,1\\r\\n1299999,83.241088,55.285778,25.185311,1,2,1\\r\\n1525000,86.771402,55.277388,25.190044,1,2,1\\r\\n2800000,220.18010999999998,55.2861,25.185772,3,4,1\\r\\n1095000,120.309385,55.169499,25.095723,2,2,1\\r\\n720000,54.255352,55.26667,25.183515,0,1,1\\r\\n1300000,78.96755,55.171065000000006,25.088903,1,1,0\\r\\n2700000,191.008568,55.274196,25.197316,2,4,0\\r\\n3500000,330.920486,55.140297,25.078491,3,5,0\\r\\n1280000,111.4836,55.247980000000005,25.109367,2,2,1\\r\\n1600000,130.807424,55.16954200000001,25.090953,2,1,0\\r\\n725000,75.623042,55.198896,25.049301,1,2,0\\r\\n1305000,124.304214,55.139829000000006,25.067019,2,3,1\\r\\n1675000,127.834528,55.145205,25.086726,2,3,0\\r\\n1400000,130.250006,55.13821899999999,25.080327,2,3,1\\r\\n1550000,78.410132,55.270758,25.198316,1,2,1\\r\\n493314,38.833454,55.245729,25.07001,0,1,1\\r\\n2100000,133.129999,55.277061,25.193542,2,3,1\\r\\n1750000,151.896405,55.278947,25.187622,2,3,0\\r\\n1875000,93.646224,55.151574,25.132519,1,2,1\\r\\n400000,27.499288,55.175364,25.096869,0,1,0\\r\\n1350000,153.28995,55.151503000000005,25.079501,2,3,1\\r\\n795000,54.998576,55.128758,25.06873,1,1,1\\r\\n1450000,126.533886,55.247980000000005,25.109367,2,3,1\\r\\n1150000,120.7739,55.14874,25.090418,2,3,1\\r\\n849000,70.141765,55.171838,25.088533,1,1,1\\r\\n555000,63.17404,55.207037,25.048292,1,2,1\\r\\n2400000,134.988059,55.270758,25.198316,2,3,1\\r\\n8924888,421.315105,55.26942,25.195039,4,5,1\\r\\n4100000,166.29637,55.271342,25.198796,3,4,1\\r\\n1550000,127.64872199999999,55.135515000000005,25.07715,2,3,1\\r\\n2000000,134.059029,55.270677,25.191719,2,3,1\\r\\n1750000,162.022832,55.289442,25.226577,2,3,1\\r\\n2750000,273.041917,55.289442,25.226577,3,4,1\\r\\n1300000,134.988059,55.289442,25.226577,1,2,0\\r\\n4150000,322.001798,55.289442,25.226577,4,5,1\\r\\n1250000,116.035847,55.289442,25.226577,2,2,1\\r\\n3650000,133.315805,55.270758,25.198316,2,2,1\\r\\n9900000,238.017486,55.27079200000001,25.201424,4,5,1\\r\\n2425000,182.647298,55.276133,25.189236,3,4,1\\r\\n1299000,120.7739,55.281666,25.190874,2,2,1\\r\\n5499999,386.011965,55.289442,25.226577,4,5,0\\r\\n1390000,123.468087,55.16954200000001,25.090953,2,2,0\\r\\n620000,70.977892,55.245051,25.069327,1,2,0\\r\\n1290000,185.155679,55.211204,25.06727,3,4,1\\r\\n880000,69.770153,55.171838,25.088533,1,1,0\\r\\n780000,37.254103,55.275543000000006,25.184351,0,1,1\\r\\n1410888,69.305638,55.139276,25.0967,1,2,1\\r\\n3500000,137.960955,55.268641,25.195236,3,3,1\\r\\n1150000,74.415303,55.342824,25.208511,1,2,1\\r\\n1550000,123.932602,55.16954200000001,25.090953,2,2,0\\r\\n1350000,145.764807,55.255571,25.020894,2,3,1\\r\\n680000,39.94829,55.170186,25.09072,0,1,1\\r\\n697790,57.59986,55.245729,25.07001,1,2,0\\r\\n950000,71.349504,55.135687,25.075974,1,1,1\\r\\n1300000,99.963628,55.132694,25.074307,1,2,1\\r\\n1850000,130.621618,55.270677,25.191719,2,3,1\\r\\n860000,126.162274,55.246714,25.046706,2,3,0\\r\\n2150000,158.957033,55.270983,25.201718,2,3,1\\r\\n2000000,218.507856,55.131088,25.071448,2,2,0\\r\\n1500000,106.002323,55.345908,25.209767000000003,2,3,1\\r\\n2500000,168.804751,55.271342,25.198796,3,4,2\\r\\n730000,87.886238,55.144174,25.073851,1,2,1\\r\\n2800000,272.856111,55.289442,25.226577,3,4,1\\r\\n1500000,176.701506,55.139147,25.08058,3,4,1\\r\\n1471888,92.717194,55.24734,25.111805,2,2,0\\r\\n1199999,126.440983,55.204243000000005,25.049772,2,3,1\\r\\n1602000,125.326147,55.279295,25.180861,3,3,2\\r\\n1200000,95.225575,55.278974,25.209806,1,2,0\\r\\n2300000,173.635707,55.142615,25.115747,2,2,1\\r\\n2225000,128.020334,55.274196,25.197316,1,2,1\\r\\n2100000,178.095051,55.31296700000001,25.099422,1,1,0\\r\\n2300000,177.909245,55.31296700000001,25.099422,2,2,0\\r\\n2350000,171.684744,55.280919,25.19331,2,2,0\\r\\n2000000,119.84487,55.145574,25.087251,2,3,1\\r\\n2200000,138.146761,55.145574,25.087251,2,3,1\\r\\n2499950,144.278359,55.133788,25.075454,2,3,1\\r\\n1700000,164.43831,55.138654,25.116329,2,3,1\\r\\n1949888,105.816517,55.14145500000001,25.099744,2,2,1\\r\\n5796888,172.892483,55.271449,25.195237,3,4,1\\r\\n1100000,121.052609,55.148293,25.105959,1,2,2\\r\\n2450000,224.267842,55.140521,25.111822,3,4,1\\r\\n999998,125.511953,55.167857,25.093562,2,2,1\\r\\n3100000,289.485748,55.367945,25.218977,3,5,1\\r\\n1650000,134.70935,55.278912,25.187093,2,3,0\\r\\n1100000,86.678499,55.278912,25.187093,1,2,0\\r\\n575000,76.366266,55.239772,25.060523,1,2,1\\r\\n720000,97.733956,55.245559,25.06705,2,2,1\\r\\n1700000,102.657815,55.268641,25.195236,2,3,1\\r\\n1056711,62.616622,55.268641,25.195236,1,1,0\\r\\n2500000,134.802253,55.276331000000006,25.200879,2,3,1\\r\\n4500000,206.24466,55.276331000000006,25.200879,3,4,1\\r\\n1898000,231.421373,55.247980000000005,25.109367,3,4,3\\r\\n650000,91.04494,55.137728,25.063302,1,2,1\\r\\n2900000,144.464165,55.271884,25.194282,2,3,0\\r\\n590000,71.070795,55.142039,25.084397,1,2,0\\r\\n1650000,127.834528,55.145205,25.086726,2,3,1\\r\\n1800000,182.647298,55.139147,25.08058,2,3,1\\r\\n1483888,69.212735,55.139276,25.0967,1,2,1\\r\\n1390000,125.976468,55.128579,25.071504,2,3,1\\r\\n2000000,271.369663,55.13738000000001,25.080787,4,5,1\\r\\n1250000,98.662986,55.284662,25.193641,2,3,1\\r\\n965000,93.088806,55.284662,25.193641,1,2,1\\r\\n2300000,127.27711,55.131009,25.072573,2,3,2\\r\\n350000,71.53531,55.36901999999999,25.107743,1,1,1\\r\\n1050000,71.349504,55.135687,25.075974,1,2,1\\r\\n530000,52.861807,55.140806000000005,25.071246,1,1,1\\r\\n799000,94.389448,55.2121,25.051384,2,3,1\\r\\n400000,63.452749,55.205661,25.042351,1,2,1\\r\\n440000,73.39337,55.207506,25.064018,1,1,1\\r\\n799000,124.768729,55.205119,25.041304,2,3,0\\r\\n600000,71.163698,55.142462,25.034563,1,2,1\\r\\n1250000,197.976293,55.25028199999999,25.045775,3,3,0\\r\\n650000,57.506957,55.277238,25.18195,1,1,1\\r\\n670000,82.219155,55.293914,25.005442,2,2,1\\r\\n999000,81.75464,55.26991,25.191107,1,1,0\\r\\n1650000,140.933851,55.27095500000001,25.19049,2,3,2\\r\\n700000,79.060453,55.253595,25.012842000000003,1,2,1\\r\\n2975000,259.663885,55.288017,25.145181,4,5,1\\r\\n3600000,272.298693,55.141068,25.116077,3,4,1\\r\\n3250000,376.535859,55.136122,25.114513,3,3,1\\r\\n650000,93.460418,55.256553,25.00292,2,2,1\\r\\n870000,132.944193,55.289975,25.008885,3,3,1\\r\\n4300000,374.027478,55.31296700000001,25.099422,3,4,0\\r\\n1230000,70.60628,55.2758,25.171461,1,2,1\\r\\n1250000,147.71577,55.143347,25.112604,2,4,1\\r\\n4200000,376.535859,55.13609,25.113366,3,4,0\\r\\n930000,99.40621,55.183351,25.024387,2,2,0\\r\\n1600000,164.159601,55.171817,25.094635,3,2,0\\r\\n2700000,170.755714,55.274545,25.191527,3,4,1\\r\\n1399999,114.921011,55.171022,25.089515,2,2,0\\r\\n2400000,107.210062,55.12154,25.079537,1,1,1\\r\\n1180000,120.216482,55.135515000000005,25.07715,2,3,1\\r\\n1050000,138.42547,55.129647,25.068151,2,3,0\\r\\n2495000,107.302965,55.12324,25.077424,1,2,1\\r\\n370000,39.112163,55.214533,25.066475,0,1,2\\r\\n1600000,102.56491199999999,55.280662,25.202977,2,2,0\\r\\n2400000,171.87055,55.14874,25.090418,3,4,0\\r\\n2100000,225.75429,55.13684,25.076576,2,3,0\\r\\n1200000,182.74020099999998,55.271015000000006,25.180869,2,4,2\\r\\n620190,78.03852,55.20955,25.04866,1,2,1\\r\\n759000,83.148185,55.20955,25.04866,2,3,1\\r\\n919000,49.145687,55.142624,25.082217,0,1,1\\r\\n2399998,124.304214,55.280919,25.19331,2,3,1\\r\\n759000,83.148185,55.20955,25.04866,2,2,2\\r\\n1190500,146.322225,55.20955,25.04866,3,4,2\\r\\n620190,78.03852,55.20955,25.04866,1,2,2\\r\\n1190000,146.322225,55.20955,25.04866,3,4,2\\r\\n620190,78.03852,55.20955,25.04866,1,2,1\\r\\n759000,83.148185,55.20955,25.04866,2,3,1\\r\\n1190500,146.322225,55.20955,25.04866,3,4,1\\r\\n1750000,137.49644,55.141711,25.081421,2,2,1\\r\\n1430000,80.639804,55.147768000000006,25.086575,1,2,1\\r\\n2500000,260.1284,55.288017,25.145181,3,4,1\\r\\n2500000,134.244835,55.282665,25.194935,2,2,1\\r\\n3119900,98.198471,55.138932,25.113208,1,1,0\\r\\n2649999,260.964527,55.313162,25.100921,2,3,1\\r\\n620190,78.03852,55.20955,25.04866,1,2,1\\r\\n759000,83.148185,55.20955,25.04866,2,2,1\\r\\n2000000,119.101646,55.145574,25.087251,2,2,1\\r\\n1190500,146.322225,55.20955,25.04866,3,3,1\\r\\n1800000,108.417801,55.271023,25.19702,2,2,1\\r\\n620190,78.03852,55.20955,25.04866,1,2,1\\r\\n759000,83.148185,55.20955,25.04866,2,3,1\\r\\n900000,96.990732,55.178082,25.110967,1,2,0\\r\\n629999,70.048862,55.173061,25.093469,1,1,1\\r\\n849000,71.814019,55.177657,25.108984,1,2,0\\r\\n1190500,146.136419,55.20955,25.04866,3,4,1\\r\\n1991888,96.712023,55.268641,25.195236,1,2,0\\r\\n2850000,117.243586,55.269439,25.194186,2,2,1\\r\\n1396000,78.874647,55.134126,25.079895,1,2,1\\r\\n1525000,68.655317,55.269439,25.194186,1,1,1\\r\\n3500000,118.079713,55.276331000000006,25.200879,2,3,0\\r\\n3100000,269.697409,55.140806000000005,25.071246,3,4,1\\r\\n1600000,106.83845,55.268641,25.195236,2,3,0\\r\\n1926888,69.398541,55.141275,25.09938,1,2,0\\r\\n1254888,89.093977,55.247629,25.114013,2,3,1\\r\\n2900000,137.868052,55.271342,25.198796,2,3,1\\r\\n1550000,183.483425,55.139716,25.115834,2,3,1\\r\\n2900000,279.359321,55.265426,25.19003,3,4,2\\r\\n1276000,149.109315,55.267193000000006,25.01936,2,3,1\\r\\n1790000,137.960955,55.267193000000006,25.01936,3,4,1\\r\\n1700000,126.905498,55.132888,25.073778,2,3,1\\r\\n949999,57.506957,55.14736,25.086376,1,1,1\\r\\n1099000,134.151932,55.128579,25.071504,2,2,1\\r\\n400000,41.527641,55.221523,25.035109,0,1,1\\r\\n2400000,168.433139,55.132511,25.075624,3,3,0\\r\\n500000,79.060453,55.207423,25.068608,1,2,1\\r\\n2700000,163.230571,55.28205,25.211032,2,3,1\\r\\n1284888,59.179211,55.269308,25.194328,1,2,1\\r\\n574000,94.017836,55.20499,25.038808,2,3,1\\r\\n1270888,59.179211,55.269308,25.194328,1,2,1\\r\\n2200000,166.017661,55.145205,25.086726,3,3,1\\r\\n1850000,182.74020099999998,55.291922,25.185823000000003,3,3,0\\r\\n570000,65.310809,55.245559,25.06705,1,2,1\\r\\n2800000,149.295121,55.274378000000006,25.197198,3,4,0\\r\\n795000,152.546726,55.248748,25.0476,2,2,0\\r\\n1599888,134.059029,55.278912,25.187093,2,3,2\\r\\n1425000,167.2254,55.142538,25.110345,2,2,1\\r\\n899000,119.380355,55.138519,25.081251,2,2,1\\r\\n1599950,123.003572,55.137779,25.074167000000003,2,2,2\\r\\n1399000,106.373935,55.145767000000006,25.110632,1,2,0\\r\\n1750000,110.182958,55.27281800000001,25.191753,1,2,0\\r\\n3500000,139.911918,55.282343,25.194761,2,3,0\\r\\n2999999,232.2575,55.13738000000001,25.080787,3,2,2\\r\\n2399950,140.190627,55.14925,25.084336,2,2,1\\r\\n4500000,195.282106,55.123037,25.077982,3,4,1\\r\\n2999999,155.519622,55.136286,25.072375,3,4,2\\r\\n1500000,59.45792,55.126527,25.072569,1,2,1\\r\\n3399999,109.718443,55.126527,25.072569,3,4,1\\r\\n9999999,338.259823,55.126527,25.072569,4,5,1\\r\\n1400000,57.228248,55.14736,25.086376,1,1,1\\r\\n2490000,231.32847,55.146735,25.082518,3,4,1\\r\\n410000,76.923684,55.150016,25.03335,1,2,1\\r\\n799000,45.801179,55.308533,25.177819,1,1,1\\r\\n395000,41.80635,55.137452,25.065736,0,1,2\\r\\n1510000,161.744123,55.282216000000005,25.189020000000003,2,3,1\\r\\n1500000,161.744123,55.282216000000005,25.189020000000003,2,3,1\\r\\n1350000,102.657815,55.132798,25.073156,2,2,0\\r\\n349000,37.1612,55.217377,25.060989000000003,1,1,0\\r\\n426000,36.232169999999996,55.209389,25.058746,0,1,1\\r\\n5650000,269.232894,55.140306,25.081974,5,4,1\\r\\n3100000,271.090954,55.14066,25.082397,4,3,1\\r\\n5500000,304.443131,55.14925,25.084336,5,4,1\\r\\n620190,78.03852,55.20955,25.04866,1,2,1\\r\\n759000,83.148185,55.20955,25.04866,2,3,1\\r\\n1190500,146.322225,55.20955,25.04866,3,4,1\\r\\n1600000,137.49644,55.142441000000005,25.082004,2,3,1\\r\\n450000,67.540481,55.217965,25.039514,1,2,1\\r\\n1395000,167.875721,55.14066,25.082397,3,4,1\\r\\n3090000,159.235742,55.280662,25.202977,3,4,0\\r\\n4100000,185.806,55.270189,25.201204,3,5,1\\r\\n800000,161.558317,55.12918199999999,25.068292,2,3,2\\r\\n720000,87.421723,55.135145,25.071718,1,2,1\\r\\n494999,53.976643,55.291467,25.010196,1,1,1\\r\\n780000,50.353426,55.138542,25.074958,0,1,1\\r\\n4800000,266.910319,55.153599,25.123736,3,4,1\\r\\n1250000,159.97896599999999,55.171427,25.091001,2,3,0\\r\\n1499998,218.507856,55.131088,25.071448,2,2,0\\r\\n349999,54.255352,55.201659,25.059555,1,2,1\\r\\n1420888,133.594514,55.290055,25.010066,3,3,1\\r\\n725888,65.0321,55.289786,25.010572,1,2,1\\r\\n1010888,153.754465,55.289786,25.010572,2,2,1\\r\\n2400000,165.36734,55.159461,25.077948000000003,3,3,1\\r\\n1650000,172.892483,55.149287,25.085305,1,1,1\\r\\n1698000,140.469336,55.25658000000001,25.183133,2,3,0\\r\\n1800000,103.772651,55.119736,25.079247,1,2,1\\r\\n1737000,108.046189,55.25277,25.240419,2,3,1\\r\\n1271000,68.004996,55.25277,25.240419,1,2,1\\r\\n4127000,182.647298,55.25277,25.240419,3,4,1\\r\\n1230000,120.216482,55.135515000000005,25.07715,2,3,1\\r\\n380000,63.081137,55.216245,25.064191,1,1,1\\r\\n940000,85.00624499999999,55.276951,25.186836,1,1,1\\r\\n2600000,259.292273,55.26250699999999,25.181311,4,6,1\\r\\n1789999,190.45115,55.267035,25.191772,3,5,1\\r\\n690000,66.332742,55.138863,25.081955,0,1,1\\r\\n2100000,150.874472,55.270677,25.191719,2,2,1\\r\\n2100000,142.977717,55.270677,25.191719,2,2,1\\r\\n1600000,106.281032,55.14773,25.109306,1,2,2\\r\\n625000,76.459169,55.14935,25.022618,1,2,1\\r\\n658000,68.097899,55.20458000000001,25.056225,1,2,1\\r\\n845000,79.803677,55.24055,25.064808,1,2,1\\r\\n399990,46.823112,55.20955,25.04866,0,1,0\\r\\n1550000,79.89658,55.14736,25.086376,1,2,0\\r\\n2299000,216.278184,55.14512,25.081243,3,4,1\\r\\n4100000,167.2254,55.126527,25.072569,2,2,1\\r\\n12949888,283.911568,55.271884,25.194282,4,4,1\\r\\n890000,107.302965,55.26418,25.189124,1,2,1\\r\\n2140000,161.279608,55.145205,25.086726,3,3,1\\r\\n701150,70.420474,55.139751,25.067137,1,2,2\\r\\n1100000,104.05136,55.13691,25.073851,2,2,1\\r\\n2999900,175.400864,55.274196,25.197316,2,2,1\\r\\n1724900,101.821688,55.274196,25.197316,1,2,1\\r\\n419000,91.97397,55.150016,25.03335,1,2,1\\r\\n1250000,105.90942,55.133788,25.075454,1,2,1\\r\\n415000,73.950788,55.40896600000001,25.167489,1,2,1\\r\\n340000,76.923684,55.201444,25.035639,1,2,1\\r\\n1254462,128.020334,55.148277,25.078148,2,3,2\\r\\n250000,32.794759,55.390236,25.115934,0,1,0\\r\\n750000,137.310634,55.206605,25.047032,2,4,1\\r\\n1318000,116.593265,55.145205,25.086726,2,2,1\\r\\n430000,43.478604,55.232983,25.065872,0,1,1\\r\\n2100000,97.455247,55.27451800000001,25.197059,1,2,1\\r\\n2949900,165.181534,55.274196,25.197316,2,3,1\\r\\n1300000,133.873223,55.17514499999999,25.0902,2,2,1\\r\\n1300000,123.56099,55.137779,25.074167000000003,2,2,1\\r\\n950000,131.271939,55.244499,25.044286,2,3,1\\r\\n1075000,61.501786,55.144753,25.08333,1,2,1\\r\\n730000,70.699183,55.142559,25.078967,1,2,1\\r\\n870000,91.137843,55.262255,25.186039,2,3,0\\r\\n7500000,251.209712,55.282665,25.194935,4,5,2\\r\\n1900000,105.816517,55.14145500000001,25.099744,2,2,2\\r\\n875000,89.558492,55.142559,25.078967,2,2,1\\r\\n1550000,165.088631,55.13609,25.113366,2,3,0\\r\\n27500000,625.701705,55.235827,25.215192,4,5,1\\r\\n1200000,201.413704,55.402921,25.125436,3,5,0\\r\\n3600000,81.75464,55.27886899999999,25.194282,1,2,1\\r\\n875000,128.20614,55.151898,25.0781,2,2,1\\r\\n2100000,170.569908,55.277978,25.207533,2,2,1\\r\\n475000,97.919762,55.386419,25.090365,2,2,1\\r\\n3400000,271.090954,55.14066,25.082397,4,4,0\\r\\n5500000,253.439384,55.274196,25.197316,3,4,2\\r\\n2360000,159.049936,55.271884,25.194282,2,2,1\\r\\n989888,130.0642,55.154654,25.027747,2,3,1\\r\\n1253980,128.020334,55.148277,25.078148,2,3,2\\r\\n712250,71.53531,55.148277,25.078148,1,2,2\\r\\n6800000,378.11521,55.343628,25.226946,4,4,1\\r\\n1200000,119.93777299999999,55.148385,25.087042,2,3,1\\r\\n4500000,219.25108,55.280919,25.19331,3,4,1\\r\\n1850000,91.230746,55.280919,25.19331,1,2,1\\r\\n3100000,167.782818,55.124993,25.071365,3,4,1\\r\\n1100000,60.851465,55.139276,25.0967,1,2,1\\r\\n1275000,133.315805,55.14866899999999,25.078262,2,4,1\\r\\n8500000,285.862531,55.270189,25.201204,5,5,1\\r\\n1050000,125.41905,55.137946,25.081241,1,2,1\\r\\n700000,90.580425,55.148929,25.089463,1,2,1\\r\\n900000,139.726112,55.149141,25.030322,2,2,1\\r\\n1200000,123.746796,55.28915799999999,25.189282,2,3,0\\r\\n1210000,145.579001,55.271015000000006,25.180869,1,2,0\\r\\n950000,101.635882,55.17514499999999,25.0902,2,2,1\\r\\n1250000,128.949364,55.135006,25.07662,2,3,1\\r\\n2350000,134.430641,55.282665,25.194935,2,3,1\\r\\n2700000,192.30921,55.28205,25.211032,3,3,1\\r\\n1900000,120.7739,55.270758,25.198316,2,3,1\\r\\n1050000,130.807424,55.171259,25.09516,2,2,0\\r\\n1500000,147.065449,55.145799,25.109267000000003,2,3,0\\r\\n1900000,134.059029,55.134432,25.075284,2,2,0\\r\\n2789900,143.628038,55.274196,25.197316,2,3,1\\r\\n3600000,193.331143,55.280919,25.19331,3,4,1\\r\\n865000,116.035847,55.146035,25.077009,2,2,2\\r\\n520000,96.526217,55.36883,25.104249,2,3,0\\r\\n425000,63.359846,55.205661,25.042351,1,1,1\\r\\n3159888,147.62286699999999,55.34555400000001,25.203553,3,3,1\\r\\n2000000,130.0642,55.271342,25.198796,2,3,1\\r\\n1250000,161.093802,55.131058,25.067539,3,3,0\\r\\n1275000,188.685993,55.143825,25.074521,2,4,1\\r\\n1548000,122.44615399999999,55.168657,25.091259,2,2,2\\r\\n625000,85.377857,55.246714,25.046706,1,2,0\\r\\n520000,85.656566,55.221942000000006,25.037477,1,2,0\\r\\n465000,75.530139,55.221577,25.038181,1,2,1\\r\\n1400000,127.834528,55.145205,25.086726,2,3,1\\r\\n949000,89.001074,55.145075,25.08377,1,2,1\\r\\n1200000,105.259099,55.344612,25.207208,2,2,1\\r\\n1599999,143.720941,55.14874,25.090418,3,3,2\\r\\n2800000,145.950613,55.270983,25.201718,2,3,1\\r\\n2099950,134.059029,55.134432,25.075284,2,3,0\\r\\n2100000,150.317054,55.270028,25.197262,1,2,1\\r\\n1248975,73.672079,55.308533,25.177819,2,2,1\\r\\n757809,45.801179,55.308533,25.177819,1,1,2\\r\\n1190000,161.093802,55.131058,25.067539,3,3,0\\r\\n1100000,172.520871,55.23268100000001,25.062191,3,3,1\\r\\n950000,129.785491,55.178291,25.100994,2,3,1\\r\\n1400000,157.00607,55.148529,25.07887,2,3,2\\r\\n2650000,280.752866,55.133627,25.076319,4,5,2\\r\\n700000,60.758562,55.249159,25.115696,1,1,1\\r\\n1000000,121.238415,55.146759,25.088431,2,2,0\\r\\n720000,68.469511,55.147796,25.089393,1,2,0\\r\\n1800000,184.969873,55.146673,25.10864,2,2,0\\r\\n420000,85.935275,55.150016,25.03335,1,2,1\\r\\n474000,44.407634,55.21335,25.050227,0,1,1\\r\\n925000,78.131423,55.137779,25.074167000000003,1,1,1\\r\\n370000,66.146936,55.193467000000005,25.039445,1,2,1\\r\\n17798550,572.28248,55.110888,25.110129,3,5,1\\r\\n1490000,200.763383,55.150625,25.089833,3,4,1\\r\\n7800000,240.24715799999998,55.13862099999999,25.084102,3,4,0\\r\\n2027888,99.40621,55.34522,25.20997,2,2,1\\r\\n840477,44.036022,55.131535,25.071897,0,1,1\\r\\n2700000,219.529789,55.139178,25.08022,3,4,1\\r\\n1349888,98.012665,55.29175,25.186038,2,3,2\\r\\n1349888,128.949364,55.29175,25.186038,2,3,2\\r\\n949999,90.208813,55.14874,25.090418,1,3,1\\r\\n220000,44.965052,55.402315,25.173301,0,1,0\\r\\n6500000,244.241987,55.151574,25.132519,3,5,1\\r\\n1025000,98.662986,55.284662,25.193641,2,3,1\\r\\n645000,70.048862,55.173061,25.093469,1,1,1\\r\\n2899999,109.718443,55.126352,25.07359,2,3,1\\r\\n900000,57.228248,55.2763,25.185337,0,1,1\\r\\n599999,105.90942,55.246714,25.046706,1,2,0\\r\\n1550000,120.7739,55.264968,25.193359,2,3,1\\r\\n2974999,259.663885,55.295714,25.150828,4,6,1\\r\\n1601000,141.677075,55.254337,25.013504,2,2,0\\r\\n2142888,105.259099,55.139276,25.0967,2,3,3\\r\\n1715000,73.300467,55.141746,25.099793,1,2,3\\r\\n2551888,116.314556,55.141746,25.099793,2,2,3\\r\\n3800000,199.74145,55.136283,25.07851,2,2,1\\r\\n1050000,70.60628,55.34522,25.20997,1,2,1\\r\\n2300943,101.728785,55.138630000000006,25.112237,2,3,1\\r\\n1265000,115.292623,55.269631,25.196593,2,3,1\\r\\n230000,33.630886,55.200909,25.036803,0,1,1\\r\\n230000,35.30314,55.200909,25.036803,0,1,1\\r\\n300000,45.801179,55.137291000000005,25.044519,0,1,0\\r\\n500000,44.036022,55.320758,25.213527,0,1,2\\r\\n17888888,488.019459,55.272126,25.196489,4,4,1\\r\\n1350000,123.56099,55.147796,25.089393,2,3,1\\r\\n3125000,168.526042,55.14736,25.086376,3,4,1\\r\\n1340000,125.14034099999999,55.171838,25.088533,2,2,1\\r\\n810000,67.540481,55.281546,25.190265,1,1,1\\r\\n1000000,61.315979999999996,55.144753,25.08333,1,2,1\\r\\n930000,67.168869,55.128814,25.068933,1,2,1\\r\\n1800000,123.375184,55.147796,25.089393,2,3,1\\r\\n850000,129.878394,55.149141,25.030322,2,2,1\\r\\n550000,122.817766,55.20485600000001,25.038332,2,3,1\\r\\n1600000,68.934026,55.280473,25.201842000000003,1,1,1\\r\\n600000,45.057955,55.2699,25.187683,0,1,1\\r\\n675000,81.475931,55.13875,25.025999,1,1,0\\r\\n1170000,84.913342,55.29175,25.186038,1,1,1\\r\\n2000000,189.800829,55.29175,25.186038,3,3,1\\r\\n1698000,140.469336,55.25658000000001,25.183133,2,3,1\\r\\n4335888,157.9351,55.139276,25.0967,3,3,1\\r\\n3029888,154.404786,55.359464,25.194898,3,3,1\\r\\n2166888,100.985561,55.280662,25.203035,2,2,1\\r\\n4507888,149.016412,55.268641,25.195236,3,3,1\\r\\n718000,71.442407,55.24290799999999,25.024108,1,2,0\\r\\n718000,71.442407,55.24290799999999,25.024108,1,2,0\\r\\n546000,47.287627,55.24290799999999,25.024108,0,1,0\\r\\n718000,71.442407,55.24290799999999,25.024108,1,2,0\\r\\n546000,47.287627,55.24290799999999,25.024108,0,1,0\\r\\n1870000,114.921011,55.26667,25.183515,2,2,1\\r\\n1442977,120.959706,55.254337,25.013504,1,1,0\\r\\n1645000,150.409957,55.254337,25.013504,2,2,0\\r\\n3690888,162.301541,55.125561,25.071077,3,3,1\\r\\n709000,43.571507,55.26667,25.183515,1,1,1\\r\\n710000,43.199895,55.26667,25.183515,1,1,1\\r\\n713000,43.66441,55.26667,25.183515,1,1,1\\r\\n786000,43.292798,55.282766,25.18813,1,1,1\\r\\n794000,43.757312999999996,55.26667,25.183515,1,1,1\\r\\n1288000,84.820439,55.282766,25.18813,2,2,1\\r\\n690000,39.762484,55.26667,25.183515,0,1,1\\r\\n999000,64.660488,55.26667,25.183515,1,1,1\\r\\n2437000,157.563488,55.26667,25.183515,3,3,1\\r\\n2439000,156.634458,55.26667,25.183515,3,3,1\\r\\n2448000,157.563488,55.26667,25.183515,3,3,1\\r\\n2312000,97.176538,55.26667,25.183515,1,2,0\\r\\n1644000,92.066873,55.26667,25.183515,2,2,0\\r\\n3863000,178.652469,55.145517000000005,25.08726,3,4,1\\r\\n3890000,180.138917,55.145517000000005,25.08726,3,4,1\\r\\n1915000,185.806,55.291922,25.185823000000003,3,4,2\\r\\n1340000,130.0642,55.171838,25.088533,2,2,1\\r\\n560000,45.615373,55.26749,25.187446,0,1,1\\r\\n999000,146.229322,55.20799399999999,25.052742,2,3,1\\r\\n1300000,137.58934299999999,55.211000000000006,25.047618,2,4,0\\r\\n2750000,153.940271,55.13586,25.072696,3,4,0\\r\\n2160888,108.789413,55.141275,25.09938,2,3,0\\r\\n4278888,335.101121,55.15786899999999,25.07868,3,3,1\\r\\n950000,144.557068,55.146640000000005,25.033564,3,4,1\\r\\n3900000,201.59951,55.139394,25.082485,3,3,1\\r\\n620000,70.977892,55.173619,25.092881,1,1,1\\r\\n700000,62.802428,55.284458,25.175689,1,2,1\\r\\n1200000,77.202393,55.271342,25.198796,1,2,1\\r\\n810000,82.590767,55.141291,25.066988,2,2,0\\r\\n1100000,69.119832,55.270168000000005,25.19752,1,2,0\\r\\n3762888,203.550473,55.15786899999999,25.07868,3,3,1\\r\\n2299000,134.244835,55.282343,25.194761,2,3,1\\r\\n1800000,107.58167399999999,55.152902000000005,25.12913,1,2,1\\r\\n1000000,152.546726,55.248748,25.0476,2,3,0\\r\\n489100,52.02568,55.20955,25.04866,0,1,1\\r\\n480000,47.752142,55.211000000000006,25.047618,0,1,0\\r\\n850000,38.09023,55.252577,25.181304,0,1,1\\r\\n330000,27.313482,55.379105,24.98987,0,1,1\\r\\n650000,64.381779,55.137487,25.078241,1,2,0\\r\\n680000,71.53531,55.19973,25.050516,1,2,1\\r\\n5170000,181.996977,55.13193100000001,25.0799,4,4,1\\r\\n595000,69.026929,55.206373,25.048095,1,2,1\\r\\n1500000,91.509455,55.277919,25.186913,1,2,1\\r\\n3950000,186.73503,55.270983,25.201718,3,3,1\\r\\n1780000,190.45115,55.169437,25.094173,3,3,0\\r\\n1550000,145.486098,55.17307099999999,25.033519,2,2,0\\r\\n935000,56.577927,55.138542,25.074958,1,2,1\\r\\n4362888,110.740376,55.271449,25.195237,2,3,0\\r\\n19498888,488.019459,55.272126,25.196489,4,5,0\\r\\n420000,82.404961,55.21530500000001,25.051846,1,2,0\\r\\n1790000,197.697584,55.170207,25.094276,3,4,1\\r\\n1586888,56.392121,55.271797,25.195483,1,2,0\\r\\n2000000,271.369663,55.13738000000001,25.080787,3,3,1\\r\\n1175000,206.058854,55.24704200000001,25.048067,2,3,0\\r\\n900000,143.99965,55.246784,25.043586,2,3,0\\r\\n11000000,291.158002,55.270189,25.201204,5,6,1\\r\\n850000,42.270865,55.283374,25.191189,0,1,1\\r\\n1088888,130.99323,55.295312,25.005753,3,3,0\\r\\n1088888,126.812595,55.296535,25.004936,3,3,1\\r\\n650000,83.241088,55.14530799999999,25.075364,1,2,1\\r\\n920000,109.997152,55.139396,25.069288,2,3,1\\r\\n3000000,333.800479,55.145389,25.076309,3,4,1\\r\\n3350000,289.114136,55.13821899999999,25.080327,4,4,1\\r\\n4400000,222.781394,55.140737,25.11594,3,4,1\\r\\n480000,47.659239,55.26749,25.187446,0,1,1\\r\\n2100000,210.611101,55.367945,25.218977,3,4,2\\r\\n695000,66.239839,55.138863,25.081955,0,1,0\\r\\n2100000,149.759636,55.294217,25.233787,2,2,2\\r\\n2749000,228.076865,55.13786999999999,25.080162,4,5,1\\r\\n839000,84.170118,55.178031,25.108627,1,2,0\\r\\n5900000,178.652469,55.138714,25.083858,2,3,1\\r\\n3000000,173.449901,55.140317,25.077327,3,3,1\\r\\n711000,69.398541,55.207733,25.051513,1,2,1\\r\\n1444000,81.290125,55.189006000000006,25.137198,1,1,1\\r\\n1750000,152.546726,55.170014,25.09003,2,2,0\\r\\n3511888,154.776398,55.138635,25.112193,3,3,0\\r\\n624888,29.821863,55.138635,25.112193,0,1,0\\r\\n2270000,112.970048,55.25277,25.240419,2,3,1\\r\\n1200000,113.155854,55.198611,25.047662,2,3,0\\r\\n1750000,256.505183,55.127361,25.069516,3,4,1\\r\\n2150000,126.998401,55.274545,25.191527,2,2,1\\r\\n395000,98.198471,55.365680000000005,25.111535,1,2,1\\r\\n699999,66.239839,55.138863,25.081955,0,1,0\\r\\n896000,85.00624499999999,55.247980000000005,25.109367,1,2,1\\r\\n777950,65.868227,55.142183,25.082591,1,1,1\\r\\n600000,96.990732,55.246543,25.044699,1,2,1\\r\\n1000000,121.238415,55.146759,25.088431,2,3,2\\r\\n6800000,378.11521,55.343628,25.226946,4,4,2\\r\\n450000,58.064375,55.248316,25.045454,0,1,0\\r\\n1307392,89.744298,55.31365400000001,25.100474,1,2,0\\r\\n690777,67.81919,55.105457,25.023846,2,2,1\\r\\n330000,42.177962,55.223079000000006,25.031902,0,1,0\\r\\n400000,65.868227,55.20485600000001,25.038332,1,2,0\\r\\n1850000,120.402288,55.141387,25.116492,1,1,1\\r\\n650000,47.752142,55.211000000000006,25.047618,0,1,0\\r\\n1249999,142.513202,55.295714,25.150828,2,3,1\\r\\n2500000,163.230571,55.28205,25.211032,2,3,1\\r\\n500000,57.59986,55.146011,25.076447,1,1,2\\r\\n2000000,165.646049,55.177657,25.108984,3,4,0\\r\\n1200000,151.710599,55.148401,25.107353,2,3,1\\r\\n1250000,73.486273,55.153066,25.125472,1,2,1\\r\\n4600000,187.571157,55.270983,25.201718,3,4,1\\r\\n674000,87.32882,55.144174,25.073851,1,2,1\\r\\n1490000,111.297794,55.271002,25.196398,2,3,0\\r\\n1300000,76.366266,55.14736,25.086376,1,2,1\\r\\n1750000,152.546726,55.170014,25.09003,2,2,1\\r\\n559999,99.499113,55.211803,25.051021,1,2,1\\r\\n850000,123.375184,55.136879,25.071356,2,3,0\\r\\n1419000,123.56099,55.441623,25.227337,2,3,1\\r\\n1696000,148.6448,55.441623,25.227337,3,3,1\\r\\n2500000,123.468087,55.270983,25.201718,2,3,1\\r\\n1590000,123.096475,55.265446,25.179868,2,3,2\\r\\n1400000,125.976468,55.270168000000005,25.19752,2,3,1\\r\\n385000,36.975394,55.152381000000005,25.080143,0,1,1\\r\\n1700000,143.163523,55.244923,25.107984,2,3,1\\r\\n1500000,122.167445,55.244923,25.107984,2,3,1\\r\\n1150000,87.607529,55.272707,25.177373,1,2,1\\r\\n1500000,79.524968,55.26942,25.195039,1,2,1\\r\\n799999,86.306887,55.28915799999999,25.189282,1,2,1\\r\\n2425000,185.806,55.25658000000001,25.183133,3,5,1\\r\\n1698000,140.469336,55.25658000000001,25.183133,2,3,1\\r\\n2300000,150.781569,55.188892,25.136864000000003,2,2,1\\r\\n4950888,216.835602,55.135862,25.072697,4,4,1\\r\\n1366000,75.808848,55.25277,25.240419,1,1,1\\r\\n4905000,146.229322,55.235827,25.215192,1,1,1\\r\\n9209000,208.938847,55.235827,25.215192,2,2,1\\r\\n730000,72.185631,55.252492,25.01802,1,1,0\\r\\n1200000,95.318478,55.27839399999999,25.187129,1,2,1\\r\\n3499888,152.268017,55.274196,25.197316,2,3,2\\r\\n2099888,105.259099,55.274196,25.197316,1,2,1\\r\\n1375000,117.98681,55.26250699999999,25.181311,2,2,1\\r\\n1400000,127.370013,55.14480699999999,25.085322,2,3,1\\r\\n1000000,84.448827,55.281004,25.18984,1,2,0\\r\\n1980000,172.149259,55.145075,25.08377,3,3,1\\r\\n1113661,110.926182,55.212972,25.051528,2,3,1\\r\\n649411,64.10307,55.212972,25.051528,1,1,1\\r\\n1850000,152.175114,55.247980000000005,25.109367,3,4,1\\r\\n420000,87.979141,55.150016,25.03335,1,2,0\\r\\n2600000,137.960955,55.282665,25.194935,2,3,1\\r\\n550000,76.552072,55.404096,25.16729,1,2,1\\r\\n770000,84.170118,55.13875,25.025262,2,2,1\\r\\n558000,30.193475,55.31558199999999,25.208435,1,1,3\\r\\n260000,37.254103,55.245986,25.004258,0,1,1\\r\\n5796888,172.892483,55.271449,25.195237,3,4,1\\r\\n420000,39.94829,55.09212,24.978409,0,1,1\\r\\n940000,70.420474,55.296535,25.158305,1,2,1\\r\\n1800000,114.456496,55.27154399999999,25.19084,2,2,1\\r\\n2512000,139.726112,55.189006000000006,25.137198,2,2,1\\r\\n4943888,112.784242,55.271892,25.195745,2,2,0\\r\\n5876888,144.649971,55.271892,25.195745,3,3,0\\r\\n995000,64.660488,55.26667,25.183515,1,1,1\\r\\n1045000,110.09005499999999,55.149287,25.085305,1,2,1\\r\\n1600000,162.67315299999999,55.265962,25.190578,2,3,1\\r\\n2500000,277.965776,55.150625,25.089833,3,5,0\\r\\n360000,40.134096,55.216712,25.053643,0,1,2\\r\\n1540000,70.884989,55.126352,25.07359,1,2,1\\r\\n1350000,126.162274,55.201813,25.046403,2,2,3\\r\\n1350000,126.069371,55.201813,25.046403,2,2,3\\r\\n899999,123.375184,55.138814,25.064767,2,3,1\\r\\n1350000,125.790662,55.201813,25.046403,2,2,3\\r\\n3800000,176.236991,55.126352,25.07359,3,2,1\\r\\n1350205,124.675826,55.201813,25.046403,2,2,3\\r\\n2000000,105.259099,55.274196,25.197316,1,2,1\\r\\n3300000,321.072768,55.131088,25.071448,3,5,0\\r\\n1650000,144.742874,55.159380000000006,25.077955,2,2,1\\r\\n661504,62.709525,55.200783,25.046296,1,2,3\\r\\n958205,121.795833,55.200783,25.046296,2,3,3\\r\\n840000,107.024256,55.139396,25.069288,2,2,0\\r\\n1600000,166.946691,55.171817,25.094635,3,3,1\\r\\n1650000,121.052609,55.13684,25.076576,2,3,1\\r\\n619500,79.060453,55.20955,25.04866,1,2,3\\r\\n750204,97.083635,55.20955,25.04866,2,3,3\\r\\n2400000,165.553146,55.275199,25.206412,2,3,0\\r\\n900000,89.837201,55.204233,25.049763,1,2,1\\r\\n365000,38.926357,55.214533,25.066475,0,1,1\\r\\n650503,69.770153,55.212972,25.051528,1,2,3\\r\\n999505,111.297794,55.212972,25.051528,2,3,3\\r\\n2250000,124.582923,55.25277,25.240419,2,3,1\\r\\n1550000,89.18688,55.277978,25.207533,1,2,1\\r\\n610502,75.437236,55.206373,25.048095,1,2,3\\r\\n580000,44.965052,55.13213,25.067918,1,1,1\\r\\n3400000,271.090954,55.14066,25.082397,4,4,0\\r\\n2192000,125.511953,55.188957,25.137409,2,2,1\\r\\n2448000,158.120906,55.188957,25.137409,2,2,1\\r\\n2112000,126.255177,55.188957,25.137409,2,2,1\\r\\n699505,78.03852,55.21335,25.050227,1,2,3\\r\\n2121000,128.020334,55.188957,25.137409,2,2,1\\r\\n370000,34.559916,55.20792900000001,25.066252,0,1,2\\r\\n1525000,120.7739,55.265446,25.179868,2,3,1\\r\\n950000,78.131423,55.136982,25.073151,1,1,1\\r\\n2245888,106.188129,55.141275,25.09938,2,2,1\\r\\n1550000,122.910669,55.137779,25.074167000000003,2,2,1\\r\\n1212000,120.959706,55.17238199999999,25.090018,2,3,1\\r\\n1550000,114.549399,55.144753,25.08333,2,2,0\\r\\n1100000,82.126252,55.142624,25.082217,1,2,1\\r\\n2800000,255.018735,55.313162,25.100921,2,3,1\\r\\n400888,38.554745,55.154713,25.07913,0,1,2\\r\\n400888,38.554745,55.154713,25.07913,0,1,2\\r\\n2100000,120.7739,55.189435,25.137673,2,2,1\\r\\n1500000,98.291374,55.133627,25.076319,1,2,2\\r\\n1250000,127.927431,55.136065,25.071436,2,2,0\\r\\n1750000,152.546726,55.170014,25.09003,2,3,1\\r\\n1100000,83.519797,55.34360699999999,25.206125,1,1,1\\r\\n443850,39.205066,55.200783,25.046296,0,1,1\\r\\n3200000,158.771227,55.268641,25.195236,3,4,0\\r\\n2950000,282.332217,55.264937,25.190137,3,4,1\\r\\n270000,42.73538,55.378277,25.091311,0,1,0\\r\\n499000,62.430816,55.140806000000005,25.071246,1,1,1\\r\\n2112000,126.255177,55.188957,25.137409,2,3,3\\r\\n4000000,187.942769,55.270983,25.201718,3,3,1\\r\\n700000,54.905673,55.12856800000001,25.069265,1,1,0\\r\\n920000,72.278534,55.282704,25.182869,1,2,1\\r\\n1650000,175.58667,55.136449,25.111229,1,2,1\\r\\n1599990,191.287277,55.17069,25.094684,3,3,1\\r\\n1500000,224.082036,55.136065,25.071436,3,4,1\\r\\n400888,37.439909,55.148277,25.078148,0,1,1\\r\\n760888,83.984312,55.148277,25.078148,1,2,1\\r\\n1005888,99.684919,55.148277,25.078148,2,2,1\\r\\n1550888,140.933851,55.148277,25.078148,3,3,1\\r\\n590000,101.635882,55.385389,25.090987,2,2,1\\r\\n1750000,123.003572,55.136939,25.077213,2,2,0\\r\\n2600000,204.851115,55.135687,25.075974,3,4,0\\r\\n2400000,171.127326,55.137946,25.081241,2,2,0\\r\\n795000,71.442407,55.278974,25.209806,1,2,1\\r\\n1975000,276.758037,55.150625,25.089833,3,3,0\\r\\n838000,86.213984,55.13875,25.025262,2,3,1\\r\\n2300000,170.569908,55.277978,25.207533,2,3,1\\r\\n34340000,810.299966,55.149621,25.103972,4,6,2\\r\\n1781920,109.997152,55.309922,25.176686,2,3,0\\r\\n1352888,69.212735,55.141275,25.09938,1,1,1\\r\\n2800000,186.920836,55.2758,25.171461,3,3,1\\r\\n15950000,469.067247,55.149621,25.103972,4,6,2\\r\\n488888,64.846294,55.297034,25.00373,1,2,1\\r\\n1459888,70.420474,55.141699,25.100553,1,1,1\\r\\n1350000,146.693837,55.14512,25.081243,2,4,0\\r\\n1499000,175.02925199999999,55.131009,25.072573,3,3,0\\r\\n2130888,73.486273,55.28566800000001,25.195503,1,2,1\\r\\n890000,70.60628,55.34555400000001,25.203553,1,1,1\\r\\n2400000,259.942594,55.150723,25.079569,3,5,1\\r\\n1850000,130.0642,55.171065000000006,25.088903,2,2,1\\r\\n2090000,98.570083,55.14034300000001,25.080542,2,2,1\\r\\n1970000,81.940446,55.126527,25.072569,1,2,1\\r\\n3300000,109.62554,55.126527,25.072569,2,3,0\\r\\n31440000,607.771426,55.149621,25.103972,4,6,2\\r\\n4856888,193.981464,55.141275,25.09938,3,3,1\\r\\n1396000,155.333816,55.262829,25.208262,1,2,0\\r\\n1300000,171.220229,55.128579,25.071504,3,3,1\\r\\n1400000,108.975219,55.149275,25.106668,1,1,0\\r\\n3800000,167.875721,55.128089,25.072954,3,3,1\\r\\n7000000,377.929404,55.343628,25.226946,4,6,0\\r\\n1175000,301.656041,55.137958,24.865992,3,2,2\\r\\n2000000,79.617871,55.126352,25.07359,1,2,1\\r\\n980888,101.078464,55.26991,25.191107,1,1,1\\r\\n1350000,146.600934,55.14512,25.081243,2,4,0\\r\\n18040888,488.019459,55.272126,25.196489,4,4,1\\r\\n360000,55.7418,55.254242000000005,25.15308,0,1,1\\r\\n2700000,99.963628,55.148769,25.10433,1,2,1\\r\\n550000,78.688841,55.221942000000006,25.037477,1,2,1\\r\\n1500000,100.985561,55.310712,25.176892,2,2,3\\r\\n1230000,70.60628,55.276684,25.166145,1,2,1\\r\\n2900000,179.30279,55.34505600000001,25.2065,3,5,1\\r\\n675000,68.74822,55.22984399999999,25.073858,1,2,1\\r\\n760887,74.3224,55.154713,25.07913,1,2,2\\r\\n'"
      ]
     },
     "execution_count": 20,
     "metadata": {},
     "output_type": "execute_result"
    }
   ],
   "source": [
    "data_Python.to_csv(index=False)"
   ]
  },
  {
   "cell_type": "markdown",
   "metadata": {},
   "source": [
    "**Important**: to use categorical variables in a linear regression model in Python they must be recoded (their values must be numbers that represents their categories), i.e, we cannot use the variable *quality* , insteaf of it we can use *quality_recode*\n",
    "\n",
    "This is the reason we have recoded *quality* in Python but not in R, because in R is not strictly necessary."
   ]
  },
  {
   "cell_type": "markdown",
   "metadata": {},
   "source": [
    "Note we have obtained the same data-set that was obtained with R.\n",
    "\n",
    "- The R data-set has been called *data_R*\n",
    "\n",
    "- The Python data-set has been called *data_python*\n",
    "\n",
    "\n",
    "We will use both of them throughout this article. "
   ]
  },
  {
   "cell_type": "markdown",
   "metadata": {},
   "source": []
  },
  {
   "cell_type": "markdown",
   "metadata": {},
   "source": [
    "## Introduction to the Linear Regression Model <a class=\"anchor\" id=\"4\"></a>\n",
    "\n",
    "\n",
    "The principal propose of this article is carry out a theoretical and\n",
    "also practical exposition of the linear regression model.\n",
    "\n",
    "Without any doubt the this is the most know statistical model.\n",
    "\n",
    "There is the idea that the linear regression model is outdated compared\n",
    "with other modern statistical models. But I would like to defend his\n",
    "validity nowadays, first of all as a statistical tool, and second as a\n",
    "previous necessary step to learn other most modern and complex methods.\n",
    "\n",
    "The linear regression model is the base of many modern regression\n",
    "techniques, so that is highly recommended study it enough, before to go deeper in other statistical models.\n",
    "\n",
    "The most important references on which this article is based are \"Linear Models with\n",
    "R\" by Julian Faraway (second edition), and \"An introduction to\n",
    "statisticcal learning\" by Gareth James (second edition), the blog [cienciadedatos.net](https://www.cienciadedatos.net/index.html) by Joaquin Amat Rodrigo, and the web page [realpython](https://realpython.com/)\n",
    "\n"
   ]
  },
  {
   "cell_type": "markdown",
   "metadata": {},
   "source": []
  },
  {
   "cell_type": "markdown",
   "metadata": {},
   "source": [
    "\n",
    "\n",
    "### Usefulness of the Linear Regression Model <a class=\"anchor\" id=\"5\"></a>\n",
    "\n",
    "\n",
    "\n",
    "The main usefulness of the linear regression model is to predict the\n",
    "values of a **quantitative** variable  depending on the values of other variables (**quantitative or categorical**),\n",
    "called predictors.\n",
    "\n",
    "There are other usefulness of the model besides the commented. We will\n",
    "see them later.\n",
    "\n"
   ]
  },
  {
   "cell_type": "markdown",
   "metadata": {},
   "source": []
  },
  {
   "cell_type": "markdown",
   "metadata": {},
   "source": [
    "\n",
    "\n",
    "### Formal Approach to the Linear Regression Modelo <a class=\"anchor\" id=\"6\"></a>\n",
    "\n",
    "We have the following elements:\n",
    "\n",
    "-   Response Variable:  a **quantitative** variable\n",
    "      $Y=(y_{1} , y_2,...,y_n)^t$\n",
    "\n",
    "-   Predictors: a set of **quantitative** or **categorical**\n",
    "    variables:\n",
    "\n",
    "\n",
    "\\begin{gather*}\n",
    "X_1 = (x_{11}, x_{21}, ..., x_{n1})^t \\\\\n",
    "X_2 = (x_{12}, x_{22}, ..., x_{n2})^t \\\\\n",
    "... \\\\\n",
    "X_p = (x_{1p}, x_{2p}, ..., x_{np})^t\n",
    "\\end{gather*}\n",
    "\n",
    "\n",
    "-   Predictors Matrix:\n",
    "\n",
    "    \n",
    "    \\begin{gather*}\n",
    "    X=(1, X_1, X_2,...,X_p) = \n",
    "    \\begin{pmatrix}\n",
    "    1 & x_{11}&x_{12}&...&x_{1p}\\\\\n",
    "    1 & x_{21}&x_{22}&...&x_{2p}\\\\\n",
    "    &...&\\\\\n",
    "    1& x_{n1}&x_{n2}&...&x_{np}\n",
    "    \\end{pmatrix} = \n",
    "    \\begin{pmatrix}\n",
    "    x_{1}\\\\\n",
    "    x_{2}\\\\\n",
    "    ...\\\\\n",
    "    x_{n}\n",
    "    \\end{pmatrix}\n",
    "    \\end{gather*}\n",
    "    \n",
    "\n",
    "-   Coefficients vector:\n",
    "\n",
    "\n",
    "\\begin{gather*}\n",
    "\\beta=(\\beta_{1}, \\beta_{2}, ..., \\beta_{n})^t \n",
    "\\end{gather*}\n",
    "\n",
    "-   Errors vector:\n",
    "\n",
    "\n",
    "\\begin{gather*}\n",
    "\\varepsilon=(\\varepsilon_{1}, \\varepsilon_{2}, ..., \\varepsilon_{n})^t \n",
    "\\end{gather*}\n",
    "\n"
   ]
  },
  {
   "cell_type": "markdown",
   "metadata": {},
   "source": []
  },
  {
   "cell_type": "markdown",
   "metadata": {},
   "source": [
    "\n",
    "### Basic Assumptions <a class=\"anchor\" id=\"7\"></a>\n",
    "\n",
    "\n",
    "The basic assumptions of the model are the following:\n",
    "\n",
    "<br>\n",
    "\n",
    "- $ y_i \\hspace{0.1cm} =  \\hspace{0.1cm} x_i^t \\cdot \\beta  +  \\varepsilon_i \\hspace{0.1cm} =  \\hspace{0.1cm}   \\beta_0 + \\sum_{j=1}^{p} \\left( \\beta_j \\cdot x_{ij} \\right) + \\varepsilon_i \\hspace{0.1cm} =  \\hspace{0.1cm}  \\beta_0 + \\beta_1 \\cdot x_{i1} + \\beta_2 \\cdot x_{i2} + ... + \\beta_p \\cdot x_{ip} + \\varepsilon_i $\n",
    " \n",
    " <br>\n",
    " \n",
    "-  $\\varepsilon_i$ is a random variable such that:\n",
    "\n",
    "\n",
    "   - $E[\\varepsilon_i]=0$ \n",
    "   - $Var(\\varepsilon_i)=\\sigma^2$\n",
    "   - $\\varepsilon_i \\sim N(0,\\sigma)$ \n",
    "   - $cov(\\varepsilon_i , \\varepsilon_j)=0$\n",
    "\n",
    "<br>\n",
    "\n",
    "- Additional assumptions:\n",
    "\n",
    "  -  $n > p+1$ ( nº observations \\> nº of coefficients to estimate )\n",
    "\n",
    "  -  $Rg(X)=p+1$\n"
   ]
  },
  {
   "cell_type": "markdown",
   "metadata": {},
   "source": []
  },
  {
   "cell_type": "markdown",
   "metadata": {},
   "source": [
    "\n",
    "\n",
    "### Assumptions Consequences <a class=\"anchor\" id=\"8\"></a>\n",
    "\n",
    "\n",
    "   -  $y_i$ is a random variable because  $\\varepsilon_i$ is a random variable\n",
    "\n",
    "   -  $E[y_i]= x_i^t \\cdot \\beta$\n",
    "\n",
    "   -  $Var(y_i) = \\sigma^2$\n",
    "\n",
    "   -  $y_i \\sim N(x_i^t \\cdot \\beta , \\sigma)$\n",
    "\n",
    "   -  $cov(y_i , y_j)=0$\n",
    "\n"
   ]
  },
  {
   "cell_type": "markdown",
   "metadata": {},
   "source": []
  },
  {
   "cell_type": "markdown",
   "metadata": {},
   "source": [
    "\n",
    "### Matrix representation of the basic assumption of the model <a class=\"anchor\" id=\"9\"></a>\n",
    "\n",
    "<br>\n",
    "\n",
    "- $ Y=X\\cdot \\beta + \\varepsilon $\n",
    "\n",
    "- $\\varepsilon_i \\sim N(0,\\sigma) \\hspace{0.4cm} \\forall \\hspace{0.1cm} i=1,...,n $\n",
    "  \n",
    "- $cov(\\varepsilon_i , \\varepsilon_j)=0 \\hspace{0.4cm} \\forall \\hspace{0.1cm} i\\neq j =1,...,n $"
   ]
  },
  {
   "cell_type": "markdown",
   "metadata": {},
   "source": []
  },
  {
   "cell_type": "markdown",
   "metadata": {},
   "source": [
    "## Estimation  <a class=\"anchor\" id=\"10\"></a>\n"
   ]
  },
  {
   "cell_type": "markdown",
   "metadata": {},
   "source": [
    "\n",
    "###  Prediction of Response Variable <a class=\"anchor\" id=\"11\"></a>\n",
    "\n",
    "\n",
    "The linear regression model predict the response variable value $y_i$  for the combination of predictors values  $x_i = (x_{i1}, x_{i2}, ..., x_{ip})^t$  as:\n",
    "\n",
    "\\begin{gather*}\n",
    "\\hat{y}_i = x_i^t \\cdot \\hat{\\beta}  = \\hat{\\beta}_0 + \\sum_{j=1}^{p} \\hat{\\beta}_j \\cdot x_{ij} = \\hat{\\beta}_0 + \\hat{\\beta}_1 \\cdot x_{i1} + \\hat{\\beta}_2 \\cdot x_{i2} + ... + \\hat{\\beta}_p \\cdot x_{ip} \n",
    "\\end{gather*}\n",
    "\n"
   ]
  },
  {
   "cell_type": "markdown",
   "metadata": {},
   "source": []
  },
  {
   "cell_type": "markdown",
   "metadata": {},
   "source": [
    "\n",
    "### Estimation of model coefficients <a class=\"anchor\" id=\"12\"></a>\n",
    "\n",
    "\n",
    "The estimation of $\\beta$  in the classic linear regression model is done\n",
    "using the ordinary least square (OLS) method.\n",
    "\n",
    "$\\hat{\\beta}$  is compute as the solution of the following optimitation\n",
    "problem:\n",
    "\n",
    "\\begin{gather*}\n",
    "Min  \\sum_{i=1}^{n} (y_i - \\widehat{y}_i)^2 = \\sum_{i=1}^{n} (y_i - x_i^t \\cdot \\beta)^2 \n",
    "\\end{gather*}\n",
    "\n",
    "<br>\n",
    "\n",
    "The problem solution is:\n",
    "\n",
    "\\begin{gather*}\n",
    "\\hat{\\beta}=(X^t \\cdot X)^{-1} \\cdot X^t \\cdot Y\n",
    "\\end{gather*}\n",
    "\n",
    "<br>\n",
    "\n",
    "**Observation:**\n",
    "\n",
    "We will not view here the mathematical details about the resolution of\n",
    "this optimization problem. But is a classic convex optimization problem,\n",
    "so it´s enough to take first derivatives of the objetive function with\n",
    "respect to the coefficients  $\\beta_0,\\beta_1,...,\\beta_p$ ,  set them equal to zero (0), and solve the resultant equation system with respect\n",
    "to  $\\beta$\n"
   ]
  },
  {
   "cell_type": "markdown",
   "metadata": {},
   "source": []
  },
  {
   "cell_type": "markdown",
   "metadata": {},
   "source": [
    "\n",
    "### Estimation of model errors <a class=\"anchor\" id=\"13\"></a>\n",
    "\n",
    "\n",
    "The model errors  $\\varepsilon_i$  are estimated as:\n",
    "\n",
    "$$\n",
    "\\hat{\\varepsilon}_i \\hspace{0.1 cm} = \\hspace{0.1 cm} y_i - \\hat{y}_i \\hspace{0.1 cm} = \\hspace{0.1 cm} y_i - x_i^t \\cdot \\hat{\\beta}  \n",
    "$$\n",
    "\n",
    "for $\\hspace{0.1cm}$ $i=1,...,n$\n",
    "\n",
    "\n",
    "**Observation:**\n",
    "\n",
    "$\\hat{\\varepsilon}_i$  is the error done by the model when it\n",
    "estimates/predicts  $y_i$  as  $\\hat{y}_i=x_i^t \\cdot \\hat{\\beta}$\n",
    "\n"
   ]
  },
  {
   "cell_type": "markdown",
   "metadata": {},
   "source": []
  },
  {
   "cell_type": "markdown",
   "metadata": {},
   "source": [
    "\n",
    "### Regression Hyperplane <a class=\"anchor\" id=\"14\"></a>\n",
    "\n",
    "The regression hyperplane is the matrix expression of the predictions\n",
    "that the model does of the response variable values:\n",
    "\n",
    "\n",
    "\\begin{gather*}\n",
    "\\hat{Y} = X \\cdot \\hat{\\beta}  \n",
    "\\end{gather*}\n",
    "\n",
    "Where:    $\\hat{Y}=(\\hat{y}_1,\\hat{y}_2,...,\\hat{y}_n)^t$\n",
    "\n"
   ]
  },
  {
   "cell_type": "markdown",
   "metadata": {},
   "source": []
  },
  {
   "cell_type": "markdown",
   "metadata": {},
   "source": [
    "\n",
    "### Hat-Matrix <a class=\"anchor\" id=\"15\"></a>\n",
    "\n",
    "\n",
    "\n",
    "\\begin{gather*}\n",
    "\\hat{Y} = X \\cdot \\hat{\\beta} = X \\cdot (X^t \\cdot X)^{-1} \\cdot X^t \\cdot Y = H \\cdot Y  \n",
    "\\end{gather*}\n",
    "\n",
    "\n",
    "\n",
    "Where:   $H= X \\cdot (X^t \\cdot X)^{-1} \\cdot X^t$  is called Hat-Matrix\n"
   ]
  },
  {
   "cell_type": "markdown",
   "metadata": {},
   "source": []
  },
  {
   "cell_type": "markdown",
   "metadata": {},
   "source": [
    "## Estimation of the Linear Regression Model in R <a class=\"anchor\" id=\"16\"></a>\n"
   ]
  },
  {
   "cell_type": "markdown",
   "metadata": {},
   "source": [
    "\n",
    "\n",
    "In this section we are going to show how estimate a linear regression\n",
    "model in R, using for this purpose the data-set that was showed at the begining of the article.\n",
    "\n",
    "The linear regression model that we propose is the following:\n",
    "\n",
    "\\begin{gather*}\n",
    "price_i = \\beta_0 +  \\beta_1 \\cdot size\\_in\\_m\\_2_i + \\beta_2 \\cdot no\\_of\\_bedrooms_i +  \\beta_3 \\cdot no\\_of\\_bathrooms_i + \\\\ + \\beta_4 \\cdot quality_i + \\beta_5\\cdot  latitude_i +  \\beta_6 \\cdot longitude_i + \\varepsilon_i\n",
    "\\end{gather*}\n",
    "\n"
   ]
  },
  {
   "cell_type": "code",
   "execution_count": 21,
   "metadata": {},
   "outputs": [
    {
     "name": "stdout",
     "output_type": "stream",
     "text": [
      "\n",
      "Call:\n",
      "lm(formula = price ~ size_in_m_2 + no_of_bedrooms + no_of_bathrooms + \n",
      "    quality + latitude + longitude, data = data_R)\n",
      "\n",
      "Residuals:\n",
      "      Min        1Q    Median        3Q       Max \n",
      "-13398393   -562302     68143    562733  15384235 \n",
      "\n",
      "Coefficients:\n",
      "                  Estimate Std. Error t value Pr(>|t|)    \n",
      "(Intercept)     -6.207e+07  2.995e+07  -2.073   0.0383 *  \n",
      "size_in_m_2      3.566e+04  7.238e+02  49.271  < 2e-16 ***\n",
      "no_of_bedrooms  -8.367e+05  8.282e+04 -10.102  < 2e-16 ***\n",
      "no_of_bathrooms -5.712e+04  6.829e+04  -0.836   0.4030    \n",
      "quality1         1.400e+05  8.358e+04   1.675   0.0940 .  \n",
      "quality2         3.406e+05  1.551e+05   2.196   0.0282 *  \n",
      "quality3         2.788e+05  1.976e+05   1.410   0.1586    \n",
      "latitude         6.115e+06  7.809e+05   7.830 8.03e-15 ***\n",
      "longitude       -1.677e+06  6.908e+05  -2.428   0.0153 *  \n",
      "---\n",
      "Signif. codes:  0 '***' 0.001 '**' 0.01 '*' 0.05 '.' 0.1 ' ' 1\n",
      "\n",
      "Residual standard error: 1605000 on 1896 degrees of freedom\n",
      "Multiple R-squared:  0.6979,\tAdjusted R-squared:  0.6966 \n",
      "F-statistic: 547.4 on 8 and 1896 DF,  p-value: < 2.2e-16\n",
      "\n"
     ]
    }
   ],
   "source": [
    "%%R\n",
    "\n",
    "model_R_1 <- lm( price ~ size_in_m_2 + no_of_bedrooms + no_of_bathrooms + quality + latitude + longitude ,\n",
    "data = data_R)\n",
    "\n",
    "summary(model_R_1)"
   ]
  },
  {
   "cell_type": "markdown",
   "metadata": {},
   "source": []
  },
  {
   "cell_type": "markdown",
   "metadata": {},
   "source": [
    "### Estimation of Linear Regression Model in Python with `statsmodels` <a class=\"anchor\" id=\"17\"></a>\n"
   ]
  },
  {
   "cell_type": "markdown",
   "metadata": {},
   "source": [
    "\n",
    "We can implement a linear regression model in Python with the following code:"
   ]
  },
  {
   "cell_type": "code",
   "execution_count": 22,
   "metadata": {},
   "outputs": [],
   "source": [
    "import statsmodels.formula.api as smf\n",
    "import statsmodels.api as sm\n"
   ]
  },
  {
   "cell_type": "code",
   "execution_count": 23,
   "metadata": {},
   "outputs": [
    {
     "name": "stdout",
     "output_type": "stream",
     "text": [
      "                            OLS Regression Results                            \n",
      "==============================================================================\n",
      "Dep. Variable:                  price   R-squared:                       0.698\n",
      "Model:                            OLS   Adj. R-squared:                  0.697\n",
      "Method:                 Least Squares   F-statistic:                     547.4\n",
      "Date:               mi., 20 jul. 2022   Prob (F-statistic):               0.00\n",
      "Time:                        18:45:15   Log-Likelihood:                -29918.\n",
      "No. Observations:                1905   AIC:                         5.985e+04\n",
      "Df Residuals:                    1896   BIC:                         5.990e+04\n",
      "Df Model:                           8                                         \n",
      "Covariance Type:            nonrobust                                         \n",
      "===================================================================================\n",
      "                      coef    std err          t      P>|t|      [0.025      0.975]\n",
      "-----------------------------------------------------------------------------------\n",
      "Intercept       -6.207e+07   2.99e+07     -2.073      0.038   -1.21e+08   -3.34e+06\n",
      "quality[T.1]       1.4e+05   8.36e+04      1.675      0.094   -2.39e+04    3.04e+05\n",
      "quality[T.2]     3.406e+05   1.55e+05      2.196      0.028    3.63e+04    6.45e+05\n",
      "quality[T.3]     2.788e+05   1.98e+05      1.410      0.159   -1.09e+05    6.66e+05\n",
      "size_in_m_2      3.566e+04    723.831     49.271      0.000    3.42e+04    3.71e+04\n",
      "no_of_bedrooms  -8.367e+05   8.28e+04    -10.102      0.000   -9.99e+05   -6.74e+05\n",
      "no_of_bathrooms -5.712e+04   6.83e+04     -0.836      0.403   -1.91e+05    7.68e+04\n",
      "latitude         6.115e+06   7.81e+05      7.830      0.000    4.58e+06    7.65e+06\n",
      "longitude       -1.677e+06   6.91e+05     -2.428      0.015   -3.03e+06   -3.22e+05\n",
      "==============================================================================\n",
      "Omnibus:                      779.851   Durbin-Watson:                   1.716\n",
      "Prob(Omnibus):                  0.000   Jarque-Bera (JB):            25742.187\n",
      "Skew:                           1.273   Prob(JB):                         0.00\n",
      "Kurtosis:                      20.828   Cond. No.                     1.34e+05\n",
      "==============================================================================\n",
      "\n",
      "Notes:\n",
      "[1] Standard Errors assume that the covariance matrix of the errors is correctly specified.\n",
      "[2] The condition number is large, 1.34e+05. This might indicate that there are\n",
      "strong multicollinearity or other numerical problems.\n"
     ]
    }
   ],
   "source": [
    "model_Python_1 = smf.ols(formula = 'price ~ size_in_m_2 + no_of_bedrooms + no_of_bathrooms + quality + latitude + longitude', \n",
    "                 data =data_Python)\n",
    "\n",
    "model_Python_1 = model_Python_1.fit()\n",
    " \n",
    "print(model_Python_1.summary())"
   ]
  },
  {
   "cell_type": "markdown",
   "metadata": {},
   "source": [
    "The previous output gives us the estimation of the model coefficients\n",
    "(betas), both outputs give similar results (but we will consider the python output):\n",
    "\n",
    "<br>\n",
    "\n",
    "$\n",
    "\\hat{\\beta}_0 =  -6.207e+07  \\\\\n",
    "\\hat{\\beta}_{quality1} =1.4e+05\\\\\n",
    "\\hat{\\beta}_{quality2} = 3.406e+05 \\\\ \n",
    "\\hat{\\beta}_{quality3} = 2.788e+05 \\\\\n",
    "\\hat{\\beta}_{size\\_in\\_m\\_2} =3.566e+04 \\\\\n",
    "\\hat{\\beta}_{no\\_of\\_bedrooms} = -8.367e+05 \\\\\n",
    "\\hat{\\beta}_{no\\_of\\_bathrooms} = -5.712e+04 \\\\\n",
    "\\hat{\\beta}_{latitude}=6.115e+06 \\\\\n",
    "\\hat{\\beta}_{longitude}= -1.677e+06 \\\\\n",
    "$\n",
    "\n",
    "<br>\n",
    "\n",
    "So, the estimated model is:\n",
    "\n",
    "\n",
    "\\begin{gather*}\n",
    "\\widehat{price}_i =  -6.207e+07 +  3.566e+04 \\cdot size\\_in\\_m\\_2_i -8.367e+05 \\cdot no\\_of\\_bedrooms_i -5.712e+04 \\cdot no\\_of\\_bathrooms_i +\\\\ 1.4e+05 \\cdot quality1_i + 3.406e+05\\cdot quality2_i + 2.788e+05  \\cdot quality3_i  +6.115e+06\\cdot  latitude_i -1.677e+06   \\cdot longitude_i \n",
    "\\end{gather*}\n",
    "\n",
    "<br>\n",
    "\n",
    "**Observation:**\n",
    "\n",
    "The  categorical variable, *quality*, that has 4 categories (Low (0), Medium (1),\n",
    "High (2), Ultra (3)), enter in the model with 3 variables (quality1 ,\n",
    "quality2, quality3 ). The category. that is out of the model is Low (0) because is the firs category. \n",
    "\n",
    "This isn´t a particularity of this variable, but rather it´s a property of the categorical variables in the regression models.\n",
    "\n",
    "Later it will be seen how this affects model coefficients interpretation.  \n"
   ]
  },
  {
   "cell_type": "markdown",
   "metadata": {},
   "source": []
  },
  {
   "cell_type": "markdown",
   "metadata": {},
   "source": [
    "### Estimation of Linear Regression Model in Python with `scikit-learn` <a class=\"anchor\" id=\"18\"></a>\n"
   ]
  },
  {
   "cell_type": "code",
   "execution_count": 24,
   "metadata": {},
   "outputs": [],
   "source": [
    "# pip install sklearn\n",
    "\n",
    "import sklearn\n",
    "\n",
    "from sklearn.linear_model import LinearRegression\n",
    "from sklearn.model_selection import train_test_split\n"
   ]
  },
  {
   "cell_type": "markdown",
   "metadata": {},
   "source": [
    "\n",
    "We can use a training data-set to train the model in Python with the  `scikit-learn` module. \n",
    "\n",
    "This concepts will be seen with much more detail in a specific article about validation techniques.\n",
    "\n"
   ]
  },
  {
   "cell_type": "code",
   "execution_count": 25,
   "metadata": {},
   "outputs": [],
   "source": [
    "X = data_Python[['size_in_m_2', 'no_of_bedrooms', 'no_of_bathrooms' , 'quality' , 'latitude' , 'longitude' ]]\n",
    "y = data_Python[['price']]"
   ]
  },
  {
   "cell_type": "code",
   "execution_count": 26,
   "metadata": {},
   "outputs": [],
   "source": [
    "X_train, X_test, y_train, y_test = train_test_split( \n",
    "                                           X , \n",
    "                                           y.values.reshape(-1,1) ,\n",
    "                                           train_size = 0.8,\n",
    "                                           random_state = 1234, \n",
    "                                           shuffle = True )"
   ]
  },
  {
   "cell_type": "code",
   "execution_count": 27,
   "metadata": {},
   "outputs": [
    {
     "data": {
      "text/html": [
       "<div>\n",
       "<style scoped>\n",
       "    .dataframe tbody tr th:only-of-type {\n",
       "        vertical-align: middle;\n",
       "    }\n",
       "\n",
       "    .dataframe tbody tr th {\n",
       "        vertical-align: top;\n",
       "    }\n",
       "\n",
       "    .dataframe thead th {\n",
       "        text-align: right;\n",
       "    }\n",
       "</style>\n",
       "<table border=\"1\" class=\"dataframe\">\n",
       "  <thead>\n",
       "    <tr style=\"text-align: right;\">\n",
       "      <th></th>\n",
       "      <th>size_in_m_2</th>\n",
       "      <th>no_of_bedrooms</th>\n",
       "      <th>no_of_bathrooms</th>\n",
       "      <th>quality</th>\n",
       "      <th>latitude</th>\n",
       "      <th>longitude</th>\n",
       "    </tr>\n",
       "  </thead>\n",
       "  <tbody>\n",
       "    <tr>\n",
       "      <th>0</th>\n",
       "      <td>100.242337</td>\n",
       "      <td>1</td>\n",
       "      <td>2</td>\n",
       "      <td>1</td>\n",
       "      <td>25.113208</td>\n",
       "      <td>55.138932</td>\n",
       "    </tr>\n",
       "    <tr>\n",
       "      <th>1</th>\n",
       "      <td>146.972546</td>\n",
       "      <td>2</td>\n",
       "      <td>2</td>\n",
       "      <td>1</td>\n",
       "      <td>25.106809</td>\n",
       "      <td>55.151201</td>\n",
       "    </tr>\n",
       "    <tr>\n",
       "      <th>2</th>\n",
       "      <td>181.253753</td>\n",
       "      <td>3</td>\n",
       "      <td>5</td>\n",
       "      <td>1</td>\n",
       "      <td>25.063302</td>\n",
       "      <td>55.137728</td>\n",
       "    </tr>\n",
       "    <tr>\n",
       "      <th>3</th>\n",
       "      <td>187.664060</td>\n",
       "      <td>2</td>\n",
       "      <td>3</td>\n",
       "      <td>0</td>\n",
       "      <td>25.227295</td>\n",
       "      <td>55.341761</td>\n",
       "    </tr>\n",
       "    <tr>\n",
       "      <th>4</th>\n",
       "      <td>47.101821</td>\n",
       "      <td>0</td>\n",
       "      <td>1</td>\n",
       "      <td>1</td>\n",
       "      <td>25.114275</td>\n",
       "      <td>55.139764</td>\n",
       "    </tr>\n",
       "  </tbody>\n",
       "</table>\n",
       "</div>"
      ],
      "text/plain": [
       "   size_in_m_2  no_of_bedrooms  no_of_bathrooms quality   latitude  longitude\n",
       "0   100.242337               1                2       1  25.113208  55.138932\n",
       "1   146.972546               2                2       1  25.106809  55.151201\n",
       "2   181.253753               3                5       1  25.063302  55.137728\n",
       "3   187.664060               2                3       0  25.227295  55.341761\n",
       "4    47.101821               0                1       1  25.114275  55.139764"
      ]
     },
     "execution_count": 27,
     "metadata": {},
     "output_type": "execute_result"
    }
   ],
   "source": [
    "X.head()"
   ]
  },
  {
   "cell_type": "code",
   "execution_count": 28,
   "metadata": {},
   "outputs": [
    {
     "data": {
      "text/html": [
       "<div>\n",
       "<style scoped>\n",
       "    .dataframe tbody tr th:only-of-type {\n",
       "        vertical-align: middle;\n",
       "    }\n",
       "\n",
       "    .dataframe tbody tr th {\n",
       "        vertical-align: top;\n",
       "    }\n",
       "\n",
       "    .dataframe thead th {\n",
       "        text-align: right;\n",
       "    }\n",
       "</style>\n",
       "<table border=\"1\" class=\"dataframe\">\n",
       "  <thead>\n",
       "    <tr style=\"text-align: right;\">\n",
       "      <th></th>\n",
       "      <th>price</th>\n",
       "    </tr>\n",
       "  </thead>\n",
       "  <tbody>\n",
       "    <tr>\n",
       "      <th>0</th>\n",
       "      <td>2700000</td>\n",
       "    </tr>\n",
       "    <tr>\n",
       "      <th>1</th>\n",
       "      <td>2850000</td>\n",
       "    </tr>\n",
       "    <tr>\n",
       "      <th>2</th>\n",
       "      <td>1150000</td>\n",
       "    </tr>\n",
       "    <tr>\n",
       "      <th>3</th>\n",
       "      <td>2850000</td>\n",
       "    </tr>\n",
       "    <tr>\n",
       "      <th>4</th>\n",
       "      <td>1729200</td>\n",
       "    </tr>\n",
       "  </tbody>\n",
       "</table>\n",
       "</div>"
      ],
      "text/plain": [
       "     price\n",
       "0  2700000\n",
       "1  2850000\n",
       "2  1150000\n",
       "3  2850000\n",
       "4  1729200"
      ]
     },
     "execution_count": 28,
     "metadata": {},
     "output_type": "execute_result"
    }
   ],
   "source": [
    "y.head()"
   ]
  },
  {
   "cell_type": "code",
   "execution_count": 29,
   "metadata": {},
   "outputs": [],
   "source": [
    "X_train, X_test, y_train, y_test = train_test_split( \n",
    "                                           X , \n",
    "                                           y.values.reshape(-1,1) ,\n",
    "                                           train_size = 0.8,\n",
    "                                           random_state = 1234, \n",
    "                                           shuffle = True )\n"
   ]
  },
  {
   "cell_type": "markdown",
   "metadata": {},
   "source": [
    "`y.values.reshape(-1,1)`  transformate y in a colum array\n"
   ]
  },
  {
   "cell_type": "code",
   "execution_count": 30,
   "metadata": {},
   "outputs": [
    {
     "data": {
      "text/plain": [
       "array([[2700000],\n",
       "       [2850000],\n",
       "       [1150000],\n",
       "       ...,\n",
       "       [2900000],\n",
       "       [ 675000],\n",
       "       [ 760887]], dtype=int64)"
      ]
     },
     "execution_count": 30,
     "metadata": {},
     "output_type": "execute_result"
    }
   ],
   "source": [
    "y.values.reshape(-1,1)"
   ]
  },
  {
   "cell_type": "markdown",
   "metadata": {},
   "source": [
    "`train_size = 0.8` $\\Rightarrow$ the size of the training data-set is the 80% of the original data-set\n",
    "\n",
    "`random_state = 1234` $\\Rightarrow$  a seed (semilla) to replicate the random process that select the observations that will be consider as training data \n",
    "\n",
    "`shuffle` $\\Rightarrow$   whether or not to shuffle (permutar/barajar aleatoriamente) the data before splitting (antes de dividirlos en training set y test set)\n",
    "      "
   ]
  },
  {
   "cell_type": "code",
   "execution_count": 31,
   "metadata": {},
   "outputs": [],
   "source": [
    "data_train = pd.DataFrame( \n",
    "\n",
    "              np.hstack((X_train, y_train)) , \n",
    "            \n",
    "              columns=['size_in_m_2', 'no_of_bedrooms', 'no_of_bathrooms' , \n",
    "                       'quality' , 'latitude' , 'longitude', 'price'] \n",
    "                       \n",
    "                       )"
   ]
  },
  {
   "cell_type": "code",
   "execution_count": 32,
   "metadata": {},
   "outputs": [
    {
     "data": {
      "text/html": [
       "<div>\n",
       "<style scoped>\n",
       "    .dataframe tbody tr th:only-of-type {\n",
       "        vertical-align: middle;\n",
       "    }\n",
       "\n",
       "    .dataframe tbody tr th {\n",
       "        vertical-align: top;\n",
       "    }\n",
       "\n",
       "    .dataframe thead th {\n",
       "        text-align: right;\n",
       "    }\n",
       "</style>\n",
       "<table border=\"1\" class=\"dataframe\">\n",
       "  <thead>\n",
       "    <tr style=\"text-align: right;\">\n",
       "      <th></th>\n",
       "      <th>size_in_m_2</th>\n",
       "      <th>no_of_bedrooms</th>\n",
       "      <th>no_of_bathrooms</th>\n",
       "      <th>quality</th>\n",
       "      <th>latitude</th>\n",
       "      <th>longitude</th>\n",
       "    </tr>\n",
       "  </thead>\n",
       "  <tbody>\n",
       "    <tr>\n",
       "      <th>92</th>\n",
       "      <td>97.641053</td>\n",
       "      <td>1</td>\n",
       "      <td>1</td>\n",
       "      <td>1</td>\n",
       "      <td>25.132445</td>\n",
       "      <td>55.152216</td>\n",
       "    </tr>\n",
       "    <tr>\n",
       "      <th>95</th>\n",
       "      <td>242.383927</td>\n",
       "      <td>4</td>\n",
       "      <td>5</td>\n",
       "      <td>0</td>\n",
       "      <td>25.086726</td>\n",
       "      <td>55.145205</td>\n",
       "    </tr>\n",
       "    <tr>\n",
       "      <th>1838</th>\n",
       "      <td>38.554745</td>\n",
       "      <td>0</td>\n",
       "      <td>1</td>\n",
       "      <td>2</td>\n",
       "      <td>25.079130</td>\n",
       "      <td>55.154713</td>\n",
       "    </tr>\n",
       "    <tr>\n",
       "      <th>411</th>\n",
       "      <td>165.181534</td>\n",
       "      <td>2</td>\n",
       "      <td>3</td>\n",
       "      <td>0</td>\n",
       "      <td>25.197316</td>\n",
       "      <td>55.274196</td>\n",
       "    </tr>\n",
       "    <tr>\n",
       "      <th>192</th>\n",
       "      <td>278.709000</td>\n",
       "      <td>4</td>\n",
       "      <td>5</td>\n",
       "      <td>1</td>\n",
       "      <td>25.076319</td>\n",
       "      <td>55.133627</td>\n",
       "    </tr>\n",
       "  </tbody>\n",
       "</table>\n",
       "</div>"
      ],
      "text/plain": [
       "      size_in_m_2  no_of_bedrooms  no_of_bathrooms quality   latitude  \\\n",
       "92      97.641053               1                1       1  25.132445   \n",
       "95     242.383927               4                5       0  25.086726   \n",
       "1838    38.554745               0                1       2  25.079130   \n",
       "411    165.181534               2                3       0  25.197316   \n",
       "192    278.709000               4                5       1  25.076319   \n",
       "\n",
       "      longitude  \n",
       "92    55.152216  \n",
       "95    55.145205  \n",
       "1838  55.154713  \n",
       "411   55.274196  \n",
       "192   55.133627  "
      ]
     },
     "execution_count": 32,
     "metadata": {},
     "output_type": "execute_result"
    }
   ],
   "source": [
    "X_train.head()"
   ]
  },
  {
   "cell_type": "code",
   "execution_count": 33,
   "metadata": {},
   "outputs": [
    {
     "data": {
      "text/plain": [
       "array([[2100000],\n",
       "       [5500000],\n",
       "       [ 400888],\n",
       "       ...,\n",
       "       [1800000],\n",
       "       [ 999999],\n",
       "       [ 770000]], dtype=int64)"
      ]
     },
     "execution_count": 33,
     "metadata": {},
     "output_type": "execute_result"
    }
   ],
   "source": [
    "y_train"
   ]
  },
  {
   "cell_type": "code",
   "execution_count": 34,
   "metadata": {},
   "outputs": [
    {
     "data": {
      "text/plain": [
       "array([[9.76410530e+01, 1.00000000e+00, 1.00000000e+00, ...,\n",
       "        2.51324450e+01, 5.51522160e+01, 2.10000000e+06],\n",
       "       [2.42383927e+02, 4.00000000e+00, 5.00000000e+00, ...,\n",
       "        2.50867260e+01, 5.51452050e+01, 5.50000000e+06],\n",
       "       [3.85547450e+01, 0.00000000e+00, 1.00000000e+00, ...,\n",
       "        2.50791300e+01, 5.51547130e+01, 4.00888000e+05],\n",
       "       ...,\n",
       "       [1.82647298e+02, 2.00000000e+00, 3.00000000e+00, ...,\n",
       "        2.50805800e+01, 5.51391470e+01, 1.80000000e+06],\n",
       "       [7.78527140e+01, 1.00000000e+00, 2.00000000e+00, ...,\n",
       "        2.51914040e+01, 5.52738960e+01, 9.99999000e+05],\n",
       "       [7.49727210e+01, 1.00000000e+00, 2.00000000e+00, ...,\n",
       "        2.50850470e+01, 5.51424150e+01, 7.70000000e+05]])"
      ]
     },
     "execution_count": 34,
     "metadata": {},
     "output_type": "execute_result"
    }
   ],
   "source": [
    "np.hstack((X_train, y_train))"
   ]
  },
  {
   "cell_type": "markdown",
   "metadata": {},
   "source": [
    "Let´s see how `hstack` (and `vstack`) works:\n"
   ]
  },
  {
   "cell_type": "code",
   "execution_count": 35,
   "metadata": {},
   "outputs": [],
   "source": [
    "a = np.array([1,2,3,4,99])\n",
    "b = np.array([5,6,7,8])"
   ]
  },
  {
   "cell_type": "code",
   "execution_count": 36,
   "metadata": {},
   "outputs": [
    {
     "data": {
      "text/plain": [
       "array([ 1,  2,  3,  4, 99,  5,  6,  7,  8])"
      ]
     },
     "execution_count": 36,
     "metadata": {},
     "output_type": "execute_result"
    }
   ],
   "source": [
    "np.hstack((a,b)) # similar to cbind in R"
   ]
  },
  {
   "cell_type": "code",
   "execution_count": 37,
   "metadata": {},
   "outputs": [],
   "source": [
    "a = np.array([1,2,3,4])\n",
    "b = np.array([[5,6,7,8],[9,10,11,12]])"
   ]
  },
  {
   "cell_type": "code",
   "execution_count": 38,
   "metadata": {},
   "outputs": [
    {
     "data": {
      "text/plain": [
       "array([[ 1,  2,  3,  4],\n",
       "       [ 5,  6,  7,  8],\n",
       "       [ 9, 10, 11, 12]])"
      ]
     },
     "execution_count": 38,
     "metadata": {},
     "output_type": "execute_result"
    }
   ],
   "source": [
    "np.vstack((a,b)) # similar to rbind in R"
   ]
  },
  {
   "cell_type": "markdown",
   "metadata": {},
   "source": []
  },
  {
   "cell_type": "markdown",
   "metadata": {},
   "source": [
    "Finally we can combine `sk-learn` with `statsmodels`"
   ]
  },
  {
   "cell_type": "code",
   "execution_count": 39,
   "metadata": {},
   "outputs": [
    {
     "name": "stdout",
     "output_type": "stream",
     "text": [
      "                            OLS Regression Results                            \n",
      "==============================================================================\n",
      "Dep. Variable:                  price   R-squared:                       0.710\n",
      "Model:                            OLS   Adj. R-squared:                  0.709\n",
      "Method:                 Least Squares   F-statistic:                     619.0\n",
      "Date:               mi., 20 jul. 2022   Prob (F-statistic):               0.00\n",
      "Time:                        18:45:33   Log-Likelihood:                -24008.\n",
      "No. Observations:                1524   AIC:                         4.803e+04\n",
      "Df Residuals:                    1517   BIC:                         4.807e+04\n",
      "Df Model:                           6                                         \n",
      "Covariance Type:            nonrobust                                         \n",
      "===================================================================================\n",
      "                      coef    std err          t      P>|t|      [0.025      0.975]\n",
      "-----------------------------------------------------------------------------------\n",
      "Intercept       -5.064e+07   3.48e+07     -1.457      0.145   -1.19e+08    1.76e+07\n",
      "size_in_m_2      3.735e+04    812.549     45.966      0.000    3.58e+04    3.89e+04\n",
      "no_of_bedrooms  -9.007e+05   9.61e+04     -9.371      0.000   -1.09e+06   -7.12e+05\n",
      "no_of_bathrooms -7.921e+04   7.97e+04     -0.994      0.321   -2.36e+05    7.72e+04\n",
      "quality          1.228e+05   6.22e+04      1.975      0.048     827.233    2.45e+05\n",
      "latitude         6.245e+06   9.04e+05      6.906      0.000    4.47e+06    8.02e+06\n",
      "longitude       -1.943e+06      8e+05     -2.430      0.015   -3.51e+06   -3.74e+05\n",
      "==============================================================================\n",
      "Omnibus:                      496.275   Durbin-Watson:                   2.007\n",
      "Prob(Omnibus):                  0.000   Jarque-Bera (JB):            17300.381\n",
      "Skew:                           0.842   Prob(JB):                         0.00\n",
      "Kurtosis:                      19.420   Cond. No.                     1.35e+05\n",
      "==============================================================================\n",
      "\n",
      "Notes:\n",
      "[1] Standard Errors assume that the covariance matrix of the errors is correctly specified.\n",
      "[2] The condition number is large, 1.35e+05. This might indicate that there are\n",
      "strong multicollinearity or other numerical problems.\n"
     ]
    }
   ],
   "source": [
    "model_train_Python_1 = smf.ols(formula = 'price ~ size_in_m_2 + no_of_bedrooms + no_of_bathrooms + quality + latitude + longitude', \n",
    "                 data =data_train)\n",
    "\n",
    "model_train_Python_1 = model_train_Python_1.fit()\n",
    " \n",
    "print(model_train_Python_1.summary())"
   ]
  },
  {
   "cell_type": "markdown",
   "metadata": {},
   "source": []
  },
  {
   "cell_type": "markdown",
   "metadata": {},
   "source": [
    "### Precision of the estimations of model coefficients <a class=\"anchor\" id=\"19\"></a>\n",
    "\n",
    "The precision of model coefficients estimates is given by the\n",
    "coefficients estimator variance, that is, by $\\hspace{0.05cm}$  $Var(\\hat{\\beta_j})$\n",
    "\n",
    "It´s true that $\\hspace{0.05cm}$ \n",
    "$\\hat{\\beta_j} \\sim N(\\beta_j , \\sqrt{ \\sigma^2 \\cdot q_{jj} } )$ $\\hspace{0.05cm}$ $\\Rightarrow$ $\\hspace{0.05cm}$ $Var(\\hat{\\beta_j})=\\sigma^2 \\cdot q_{jj}$\n",
    "\n",
    "Therefore, the estimation of the variance of $\\hspace{0.05cm}$  $\\hat{\\beta_j}$  $\\hspace{0.05cm}$  is $\\hspace{0.05cm}$  $\\widehat{Var}(\\hat{\\beta_j})= \\hat{\\sigma}^2 \\cdot q_{jj}$ \n",
    " \n",
    "\n",
    "Where:\n",
    "\n",
    "$\\hat{\\sigma}^2$  is the estimation of the variance of the error  $\\varepsilon_i$ $\\hspace{0.05cm}$ , i.e, $\\hspace{0.05cm}$ $\\hat{\\sigma}^2 = \\widehat{Var}(\\varepsilon_i)$\n",
    "\n",
    "\n",
    "$q_{jj}$ $\\hspace{0.05cm}$  is the element  $j+1$  of the principal diagonal of the matrix $\\hspace{0.05cm}$ $(X^t \\cdot X)^{-1}$  $\\hspace{0.05cm}$ , for  $j=0,1,...,p$\n",
    "\n",
    "<br>\n",
    "\n",
    "- ***¿ Why are the variance of the coefficient estimators important ?***\n",
    "\n",
    "\n",
    "The standard deviation of the coefficient estimators indicates how much\n",
    "the estimates of the coefficients deviate, in mean, when the estimates\n",
    "are recalculated using many different samples.\n",
    "\n",
    "Suppose many samples are obtained, and with each of them a linear\n",
    "regression model is trained. Then, we obtein many estimates of the model\n",
    "coefficients, one with each sample.\n",
    "\n",
    "Then  $\\sqrt{\\widehat{Var}(\\hat{\\beta_j})}$  indicates how much\n",
    "$\\hat{\\beta_j}$ varies, in mean, from one sample to another.\n",
    "\n",
    "If the standard deviation is high, this indicates that will be obtained\n",
    "big differences when $\\beta_j$ is estimate with $\\hat{\\beta_j}$\n",
    "depending on the sample that is used for estimate it, that means\n",
    "estimator $\\hat{\\beta_j}$ is imprecise, because it will be more\n",
    "dispersion of the values of $\\hat{\\beta_j}$ respect to the mean.\n",
    "\n",
    "On the contrary, if the standard deviation is low, this indicates that\n",
    "will be obtained small differences when $\\beta_j$ is estimate with\n",
    "$\\hat{\\beta_j}$ depending on the sample that is used for estimate it,\n",
    "that means estimator $\\hat{\\beta_j}$ is precise, because it will be less\n",
    "dispersion of the values of $\\hat{\\beta_j}$ respect to the mean.\n",
    "\n"
   ]
  },
  {
   "cell_type": "markdown",
   "metadata": {},
   "source": []
  },
  {
   "cell_type": "markdown",
   "metadata": {},
   "source": [
    "#### Estimation of the standard deviation of  coefficients estimators in R <a class=\"anchor\" id=\"20\"></a>\n"
   ]
  },
  {
   "cell_type": "code",
   "execution_count": 40,
   "metadata": {},
   "outputs": [
    {
     "name": "stdout",
     "output_type": "stream",
     "text": [
      "\n",
      "Call:\n",
      "lm(formula = price ~ size_in_m_2 + no_of_bedrooms + no_of_bathrooms + \n",
      "    quality + latitude + longitude, data = data_R)\n",
      "\n",
      "Residuals:\n",
      "      Min        1Q    Median        3Q       Max \n",
      "-13398393   -562302     68143    562733  15384235 \n",
      "\n",
      "Coefficients:\n",
      "                  Estimate Std. Error t value Pr(>|t|)    \n",
      "(Intercept)     -6.207e+07  2.995e+07  -2.073   0.0383 *  \n",
      "size_in_m_2      3.566e+04  7.238e+02  49.271  < 2e-16 ***\n",
      "no_of_bedrooms  -8.367e+05  8.282e+04 -10.102  < 2e-16 ***\n",
      "no_of_bathrooms -5.712e+04  6.829e+04  -0.836   0.4030    \n",
      "quality1         1.400e+05  8.358e+04   1.675   0.0940 .  \n",
      "quality2         3.406e+05  1.551e+05   2.196   0.0282 *  \n",
      "quality3         2.788e+05  1.976e+05   1.410   0.1586    \n",
      "latitude         6.115e+06  7.809e+05   7.830 8.03e-15 ***\n",
      "longitude       -1.677e+06  6.908e+05  -2.428   0.0153 *  \n",
      "---\n",
      "Signif. codes:  0 '***' 0.001 '**' 0.01 '*' 0.05 '.' 0.1 ' ' 1\n",
      "\n",
      "Residual standard error: 1605000 on 1896 degrees of freedom\n",
      "Multiple R-squared:  0.6979,\tAdjusted R-squared:  0.6966 \n",
      "F-statistic: 547.4 on 8 and 1896 DF,  p-value: < 2.2e-16\n",
      "\n"
     ]
    }
   ],
   "source": [
    "%%R \n",
    "\n",
    "summary(model_R_1)"
   ]
  },
  {
   "cell_type": "markdown",
   "metadata": {},
   "source": []
  },
  {
   "cell_type": "markdown",
   "metadata": {},
   "source": [
    "### Estimate  coefficients estimators standard deviation in Python <a class=\"anchor\" id=\"21\"></a>\n"
   ]
  },
  {
   "cell_type": "code",
   "execution_count": 41,
   "metadata": {},
   "outputs": [
    {
     "name": "stdout",
     "output_type": "stream",
     "text": [
      "                            OLS Regression Results                            \n",
      "==============================================================================\n",
      "Dep. Variable:                  price   R-squared:                       0.698\n",
      "Model:                            OLS   Adj. R-squared:                  0.697\n",
      "Method:                 Least Squares   F-statistic:                     547.4\n",
      "Date:               mi., 20 jul. 2022   Prob (F-statistic):               0.00\n",
      "Time:                        18:45:35   Log-Likelihood:                -29918.\n",
      "No. Observations:                1905   AIC:                         5.985e+04\n",
      "Df Residuals:                    1896   BIC:                         5.990e+04\n",
      "Df Model:                           8                                         \n",
      "Covariance Type:            nonrobust                                         \n",
      "===================================================================================\n",
      "                      coef    std err          t      P>|t|      [0.025      0.975]\n",
      "-----------------------------------------------------------------------------------\n",
      "Intercept       -6.207e+07   2.99e+07     -2.073      0.038   -1.21e+08   -3.34e+06\n",
      "quality[T.1]       1.4e+05   8.36e+04      1.675      0.094   -2.39e+04    3.04e+05\n",
      "quality[T.2]     3.406e+05   1.55e+05      2.196      0.028    3.63e+04    6.45e+05\n",
      "quality[T.3]     2.788e+05   1.98e+05      1.410      0.159   -1.09e+05    6.66e+05\n",
      "size_in_m_2      3.566e+04    723.831     49.271      0.000    3.42e+04    3.71e+04\n",
      "no_of_bedrooms  -8.367e+05   8.28e+04    -10.102      0.000   -9.99e+05   -6.74e+05\n",
      "no_of_bathrooms -5.712e+04   6.83e+04     -0.836      0.403   -1.91e+05    7.68e+04\n",
      "latitude         6.115e+06   7.81e+05      7.830      0.000    4.58e+06    7.65e+06\n",
      "longitude       -1.677e+06   6.91e+05     -2.428      0.015   -3.03e+06   -3.22e+05\n",
      "==============================================================================\n",
      "Omnibus:                      779.851   Durbin-Watson:                   1.716\n",
      "Prob(Omnibus):                  0.000   Jarque-Bera (JB):            25742.187\n",
      "Skew:                           1.273   Prob(JB):                         0.00\n",
      "Kurtosis:                      20.828   Cond. No.                     1.34e+05\n",
      "==============================================================================\n",
      "\n",
      "Notes:\n",
      "[1] Standard Errors assume that the covariance matrix of the errors is correctly specified.\n",
      "[2] The condition number is large, 1.34e+05. This might indicate that there are\n",
      "strong multicollinearity or other numerical problems.\n"
     ]
    }
   ],
   "source": [
    "print(model_Python_1.summary())"
   ]
  },
  {
   "cell_type": "markdown",
   "metadata": {},
   "source": [
    "\n",
    "These outputs give us a lot of information about the model, some of this\n",
    "information has been seen (estimates coefficients), an other information\n",
    "will be seen later.\n",
    "\n",
    "Now we will focus in the part of the output where are the estimation of   coefficients estimators standard error (`std err` in Python , `Std.Error` in R).\n",
    "\n",
    "$\n",
    "\\sqrt{\\widehat{Var}(\\hat{\\beta_0})}=2.995e+07 \\\\\n",
    " \\sqrt{\\widehat{Var}(\\hat{\\beta}_{quality1})}=8.358e+04 \\\\\n",
    "\\sqrt{\\widehat{Var}(\\hat{\\beta}_{quality2})}=1.551e+05\\\\ \n",
    "\\sqrt{\\widehat{Var}(\\hat{\\beta}_{quality3})}= 1.976e+05 \\\\ \n",
    "\\sqrt{\\widehat{Var}(\\hat{\\beta}_{size\\_in\\_m\\_2})}= 7.238e+02 \\\\\n",
    "\\sqrt{\\widehat{Var}(\\hat{\\beta}_{no\\_of\\_bedrooms})}=8.282e+04 \\\\ \n",
    "\\sqrt{\\widehat{Var}(\\hat{\\beta}_{no\\_of\\_bathrooms})}=6.829e+04 \\\\  \n",
    "\\sqrt{\\widehat{Var}(\\hat{\\beta}_{latitude})}=7.809e+05\\\\ \n",
    "\\sqrt{\\widehat{Var}(\\hat{\\beta}_{longitude})}=6.908e+05\n",
    "$\n",
    "\n",
    "The standard deviation estimates of the coefficients estimators are, in\n",
    "general, so high. This implies if we train the model with another\n",
    "samples, we will get estimates of the coefficients quite different than\n",
    "the one obtained with our initial sample.\n",
    "\n",
    "And this is a big problem, because from one sample to another are\n",
    "obtained very different linear regression models, so that, very\n",
    "different results with each sample.\n",
    "\n"
   ]
  },
  {
   "cell_type": "markdown",
   "metadata": {},
   "source": []
  },
  {
   "cell_type": "markdown",
   "metadata": {},
   "source": [
    "### Estimation of model errors in R <a class=\"anchor\" id=\"22\"></a>\n"
   ]
  },
  {
   "cell_type": "markdown",
   "metadata": {},
   "source": [
    "\n",
    "\n",
    "With the function `predict` we can get the predictions made by the model\n",
    "for the response variable in R:\n",
    "\n"
   ]
  },
  {
   "cell_type": "code",
   "execution_count": 42,
   "metadata": {},
   "outputs": [
    {
     "name": "stdout",
     "output_type": "stream",
     "text": [
      "         1          2          3          4          5          6          7 \n",
      " 1781425.9  2551624.8  2522740.0  4222873.3   785153.0  1574504.1  4350316.8 \n",
      "         8          9         10         11         12         13         14 \n",
      " 1574504.1  3521401.8  2610791.1  2934947.8   446056.9  -147809.7  1908923.1 \n",
      "        15         16         17         18         19         20         21 \n",
      " 1841127.9  2032066.6  2874430.5  2078235.2  1527279.8  1369157.0   394709.0 \n",
      "        22         23         24         25         26         27         28 \n",
      " 1241331.5  4403015.1  9109695.4 13905182.9  4487692.4  3257719.2 12177081.6 \n",
      "        29         30 \n",
      " 2544105.1  1411866.2 \n"
     ]
    }
   ],
   "source": [
    "%%R\n",
    "\n",
    "predict(model_R_1)[1:30]"
   ]
  },
  {
   "cell_type": "markdown",
   "metadata": {},
   "source": [
    "\n",
    "We estimate the model errors as $\\hspace{0.1cm}$ $\\hat{\\varepsilon}_i= y_i - \\hat{y}_i$\n"
   ]
  },
  {
   "cell_type": "code",
   "execution_count": 43,
   "metadata": {},
   "outputs": [
    {
     "name": "stdout",
     "output_type": "stream",
     "text": [
      "          1           2           3           4           5           6 \n",
      "  918574.13   298375.22 -1372740.03 -1372873.34   944047.04  1545395.91 \n",
      "          7           8           9          10          11          12 \n",
      " 4153283.22  1545395.91 -1421401.76    79208.94   615052.21  1648942.06 \n",
      "         13          14          15          16          17          18 \n",
      " 1197808.65   -59923.08   248871.10   317923.42   624569.55   621764.80 \n",
      "         19          20          21          22          23          24 \n",
      "  -37279.84  -419157.01   705290.95   148668.47  -403115.06 -5760695.43 \n",
      "         25          26          27          28          29          30 \n",
      "-5435182.86 -1988692.41  -457719.22 -3677081.56  -669105.11  -136866.23 \n"
     ]
    }
   ],
   "source": [
    "%%R \n",
    "\n",
    "(estimated_errors <- data_R$price - predict(model_R_1))[1:30]"
   ]
  },
  {
   "cell_type": "markdown",
   "metadata": {},
   "source": [
    "\n",
    "We put in a data frame the values of response variable observed in the\n",
    "sample, the model predictions of the response, and the estimates of\n",
    "model errors:\n"
   ]
  },
  {
   "cell_type": "code",
   "execution_count": 44,
   "metadata": {},
   "outputs": [
    {
     "name": "stdout",
     "output_type": "stream",
     "text": [
      "# A tibble: 15 x 3\n",
      "     price price_predictions estimated_errors\n",
      "     <dbl>             <dbl>            <dbl>\n",
      " 1 2700000          1781426.          918574.\n",
      " 2 2850000          2551625.          298375.\n",
      " 3 1150000          2522740.        -1372740.\n",
      " 4 2850000          4222873.        -1372873.\n",
      " 5 1729200           785153.          944047.\n",
      " 6 3119900          1574504.         1545396.\n",
      " 7 8503600          4350317.         4153283.\n",
      " 8 3119900          1574504.         1545396.\n",
      " 9 2100000          3521402.        -1421402.\n",
      "10 2690000          2610791.           79209.\n",
      "11 3550000          2934948.          615052.\n",
      "12 2094999           446057.         1648942.\n",
      "13 1049999          -147810.         1197809.\n",
      "14 1849000          1908923.          -59923.\n",
      "15 2089999          1841128.          248871.\n"
     ]
    }
   ],
   "source": [
    "%%R\n",
    "\n",
    "(df_predictions <- tibble(price=data_R$price , \n",
    "                         price_predictions=predict(model_R_1), \n",
    "                         estimated_errors))[1:15, ]"
   ]
  },
  {
   "cell_type": "markdown",
   "metadata": {},
   "source": []
  },
  {
   "cell_type": "markdown",
   "metadata": {},
   "source": [
    "### Estimation of model errors in Python <a class=\"anchor\" id=\"23\"></a>\n"
   ]
  },
  {
   "cell_type": "code",
   "execution_count": 45,
   "metadata": {},
   "outputs": [
    {
     "data": {
      "text/html": [
       "<div>\n",
       "<style scoped>\n",
       "    .dataframe tbody tr th:only-of-type {\n",
       "        vertical-align: middle;\n",
       "    }\n",
       "\n",
       "    .dataframe tbody tr th {\n",
       "        vertical-align: top;\n",
       "    }\n",
       "\n",
       "    .dataframe thead th {\n",
       "        text-align: right;\n",
       "    }\n",
       "</style>\n",
       "<table border=\"1\" class=\"dataframe\">\n",
       "  <thead>\n",
       "    <tr style=\"text-align: right;\">\n",
       "      <th></th>\n",
       "      <th>predictions</th>\n",
       "    </tr>\n",
       "  </thead>\n",
       "  <tbody>\n",
       "    <tr>\n",
       "      <th>0</th>\n",
       "      <td>1.781426e+06</td>\n",
       "    </tr>\n",
       "    <tr>\n",
       "      <th>1</th>\n",
       "      <td>2.551625e+06</td>\n",
       "    </tr>\n",
       "    <tr>\n",
       "      <th>2</th>\n",
       "      <td>2.522740e+06</td>\n",
       "    </tr>\n",
       "    <tr>\n",
       "      <th>3</th>\n",
       "      <td>4.222873e+06</td>\n",
       "    </tr>\n",
       "    <tr>\n",
       "      <th>4</th>\n",
       "      <td>7.851530e+05</td>\n",
       "    </tr>\n",
       "    <tr>\n",
       "      <th>...</th>\n",
       "      <td>...</td>\n",
       "    </tr>\n",
       "    <tr>\n",
       "      <th>1900</th>\n",
       "      <td>1.211313e+06</td>\n",
       "    </tr>\n",
       "    <tr>\n",
       "      <th>1901</th>\n",
       "      <td>8.171580e+05</td>\n",
       "    </tr>\n",
       "    <tr>\n",
       "      <th>1902</th>\n",
       "      <td>2.981084e+06</td>\n",
       "    </tr>\n",
       "    <tr>\n",
       "      <th>1903</th>\n",
       "      <td>2.651215e+05</td>\n",
       "    </tr>\n",
       "    <tr>\n",
       "      <th>1904</th>\n",
       "      <td>8.227585e+05</td>\n",
       "    </tr>\n",
       "  </tbody>\n",
       "</table>\n",
       "<p>1905 rows × 1 columns</p>\n",
       "</div>"
      ],
      "text/plain": [
       "       predictions\n",
       "0     1.781426e+06\n",
       "1     2.551625e+06\n",
       "2     2.522740e+06\n",
       "3     4.222873e+06\n",
       "4     7.851530e+05\n",
       "...            ...\n",
       "1900  1.211313e+06\n",
       "1901  8.171580e+05\n",
       "1902  2.981084e+06\n",
       "1903  2.651215e+05\n",
       "1904  8.227585e+05\n",
       "\n",
       "[1905 rows x 1 columns]"
      ]
     },
     "execution_count": 45,
     "metadata": {},
     "output_type": "execute_result"
    }
   ],
   "source": [
    "predictions = pd.DataFrame( {'predictions': model_Python_1.predict(X)} )\n",
    "predictions"
   ]
  },
  {
   "cell_type": "code",
   "execution_count": 46,
   "metadata": {},
   "outputs": [
    {
     "data": {
      "text/html": [
       "<div>\n",
       "<style scoped>\n",
       "    .dataframe tbody tr th:only-of-type {\n",
       "        vertical-align: middle;\n",
       "    }\n",
       "\n",
       "    .dataframe tbody tr th {\n",
       "        vertical-align: top;\n",
       "    }\n",
       "\n",
       "    .dataframe thead th {\n",
       "        text-align: right;\n",
       "    }\n",
       "</style>\n",
       "<table border=\"1\" class=\"dataframe\">\n",
       "  <thead>\n",
       "    <tr style=\"text-align: right;\">\n",
       "      <th></th>\n",
       "      <th>price</th>\n",
       "      <th>size_in_m_2</th>\n",
       "      <th>longitude</th>\n",
       "      <th>latitude</th>\n",
       "      <th>no_of_bedrooms</th>\n",
       "      <th>no_of_bathrooms</th>\n",
       "      <th>quality</th>\n",
       "    </tr>\n",
       "  </thead>\n",
       "  <tbody>\n",
       "    <tr>\n",
       "      <th>0</th>\n",
       "      <td>2700000</td>\n",
       "      <td>100.242337</td>\n",
       "      <td>55.138932</td>\n",
       "      <td>25.113208</td>\n",
       "      <td>1</td>\n",
       "      <td>2</td>\n",
       "      <td>1</td>\n",
       "    </tr>\n",
       "    <tr>\n",
       "      <th>1</th>\n",
       "      <td>2850000</td>\n",
       "      <td>146.972546</td>\n",
       "      <td>55.151201</td>\n",
       "      <td>25.106809</td>\n",
       "      <td>2</td>\n",
       "      <td>2</td>\n",
       "      <td>1</td>\n",
       "    </tr>\n",
       "    <tr>\n",
       "      <th>2</th>\n",
       "      <td>1150000</td>\n",
       "      <td>181.253753</td>\n",
       "      <td>55.137728</td>\n",
       "      <td>25.063302</td>\n",
       "      <td>3</td>\n",
       "      <td>5</td>\n",
       "      <td>1</td>\n",
       "    </tr>\n",
       "    <tr>\n",
       "      <th>3</th>\n",
       "      <td>2850000</td>\n",
       "      <td>187.664060</td>\n",
       "      <td>55.341761</td>\n",
       "      <td>25.227295</td>\n",
       "      <td>2</td>\n",
       "      <td>3</td>\n",
       "      <td>0</td>\n",
       "    </tr>\n",
       "    <tr>\n",
       "      <th>4</th>\n",
       "      <td>1729200</td>\n",
       "      <td>47.101821</td>\n",
       "      <td>55.139764</td>\n",
       "      <td>25.114275</td>\n",
       "      <td>0</td>\n",
       "      <td>1</td>\n",
       "      <td>1</td>\n",
       "    </tr>\n",
       "    <tr>\n",
       "      <th>...</th>\n",
       "      <td>...</td>\n",
       "      <td>...</td>\n",
       "      <td>...</td>\n",
       "      <td>...</td>\n",
       "      <td>...</td>\n",
       "      <td>...</td>\n",
       "      <td>...</td>\n",
       "    </tr>\n",
       "    <tr>\n",
       "      <th>1900</th>\n",
       "      <td>1500000</td>\n",
       "      <td>100.985561</td>\n",
       "      <td>55.310712</td>\n",
       "      <td>25.176892</td>\n",
       "      <td>2</td>\n",
       "      <td>2</td>\n",
       "      <td>3</td>\n",
       "    </tr>\n",
       "    <tr>\n",
       "      <th>1901</th>\n",
       "      <td>1230000</td>\n",
       "      <td>70.606280</td>\n",
       "      <td>55.276684</td>\n",
       "      <td>25.166145</td>\n",
       "      <td>1</td>\n",
       "      <td>2</td>\n",
       "      <td>1</td>\n",
       "    </tr>\n",
       "    <tr>\n",
       "      <th>1902</th>\n",
       "      <td>2900000</td>\n",
       "      <td>179.302790</td>\n",
       "      <td>55.345056</td>\n",
       "      <td>25.206500</td>\n",
       "      <td>3</td>\n",
       "      <td>5</td>\n",
       "      <td>1</td>\n",
       "    </tr>\n",
       "    <tr>\n",
       "      <th>1903</th>\n",
       "      <td>675000</td>\n",
       "      <td>68.748220</td>\n",
       "      <td>55.229844</td>\n",
       "      <td>25.073858</td>\n",
       "      <td>1</td>\n",
       "      <td>2</td>\n",
       "      <td>1</td>\n",
       "    </tr>\n",
       "    <tr>\n",
       "      <th>1904</th>\n",
       "      <td>760887</td>\n",
       "      <td>74.322400</td>\n",
       "      <td>55.154713</td>\n",
       "      <td>25.079130</td>\n",
       "      <td>1</td>\n",
       "      <td>2</td>\n",
       "      <td>2</td>\n",
       "    </tr>\n",
       "  </tbody>\n",
       "</table>\n",
       "<p>1905 rows × 7 columns</p>\n",
       "</div>"
      ],
      "text/plain": [
       "        price  size_in_m_2  longitude   latitude  no_of_bedrooms  \\\n",
       "0     2700000   100.242337  55.138932  25.113208               1   \n",
       "1     2850000   146.972546  55.151201  25.106809               2   \n",
       "2     1150000   181.253753  55.137728  25.063302               3   \n",
       "3     2850000   187.664060  55.341761  25.227295               2   \n",
       "4     1729200    47.101821  55.139764  25.114275               0   \n",
       "...       ...          ...        ...        ...             ...   \n",
       "1900  1500000   100.985561  55.310712  25.176892               2   \n",
       "1901  1230000    70.606280  55.276684  25.166145               1   \n",
       "1902  2900000   179.302790  55.345056  25.206500               3   \n",
       "1903   675000    68.748220  55.229844  25.073858               1   \n",
       "1904   760887    74.322400  55.154713  25.079130               1   \n",
       "\n",
       "      no_of_bathrooms quality  \n",
       "0                   2       1  \n",
       "1                   2       1  \n",
       "2                   5       1  \n",
       "3                   3       0  \n",
       "4                   1       1  \n",
       "...               ...     ...  \n",
       "1900                2       3  \n",
       "1901                2       1  \n",
       "1902                5       1  \n",
       "1903                2       1  \n",
       "1904                2       2  \n",
       "\n",
       "[1905 rows x 7 columns]"
      ]
     },
     "execution_count": 46,
     "metadata": {},
     "output_type": "execute_result"
    }
   ],
   "source": [
    "data_Python"
   ]
  },
  {
   "cell_type": "code",
   "execution_count": 47,
   "metadata": {},
   "outputs": [
    {
     "data": {
      "text/html": [
       "<div>\n",
       "<style scoped>\n",
       "    .dataframe tbody tr th:only-of-type {\n",
       "        vertical-align: middle;\n",
       "    }\n",
       "\n",
       "    .dataframe tbody tr th {\n",
       "        vertical-align: top;\n",
       "    }\n",
       "\n",
       "    .dataframe thead th {\n",
       "        text-align: right;\n",
       "    }\n",
       "</style>\n",
       "<table border=\"1\" class=\"dataframe\">\n",
       "  <thead>\n",
       "    <tr style=\"text-align: right;\">\n",
       "      <th></th>\n",
       "      <th>price</th>\n",
       "    </tr>\n",
       "  </thead>\n",
       "  <tbody>\n",
       "    <tr>\n",
       "      <th>0</th>\n",
       "      <td>2700000</td>\n",
       "    </tr>\n",
       "    <tr>\n",
       "      <th>1</th>\n",
       "      <td>2850000</td>\n",
       "    </tr>\n",
       "    <tr>\n",
       "      <th>2</th>\n",
       "      <td>1150000</td>\n",
       "    </tr>\n",
       "    <tr>\n",
       "      <th>3</th>\n",
       "      <td>2850000</td>\n",
       "    </tr>\n",
       "    <tr>\n",
       "      <th>4</th>\n",
       "      <td>1729200</td>\n",
       "    </tr>\n",
       "    <tr>\n",
       "      <th>...</th>\n",
       "      <td>...</td>\n",
       "    </tr>\n",
       "    <tr>\n",
       "      <th>1900</th>\n",
       "      <td>1500000</td>\n",
       "    </tr>\n",
       "    <tr>\n",
       "      <th>1901</th>\n",
       "      <td>1230000</td>\n",
       "    </tr>\n",
       "    <tr>\n",
       "      <th>1902</th>\n",
       "      <td>2900000</td>\n",
       "    </tr>\n",
       "    <tr>\n",
       "      <th>1903</th>\n",
       "      <td>675000</td>\n",
       "    </tr>\n",
       "    <tr>\n",
       "      <th>1904</th>\n",
       "      <td>760887</td>\n",
       "    </tr>\n",
       "  </tbody>\n",
       "</table>\n",
       "<p>1905 rows × 1 columns</p>\n",
       "</div>"
      ],
      "text/plain": [
       "        price\n",
       "0     2700000\n",
       "1     2850000\n",
       "2     1150000\n",
       "3     2850000\n",
       "4     1729200\n",
       "...       ...\n",
       "1900  1500000\n",
       "1901  1230000\n",
       "1902  2900000\n",
       "1903   675000\n",
       "1904   760887\n",
       "\n",
       "[1905 rows x 1 columns]"
      ]
     },
     "execution_count": 47,
     "metadata": {},
     "output_type": "execute_result"
    }
   ],
   "source": [
    "price = pd.DataFrame( {'price': data_Python['price'] } )\n",
    "price"
   ]
  },
  {
   "cell_type": "code",
   "execution_count": 48,
   "metadata": {},
   "outputs": [
    {
     "data": {
      "text/html": [
       "<div>\n",
       "<style scoped>\n",
       "    .dataframe tbody tr th:only-of-type {\n",
       "        vertical-align: middle;\n",
       "    }\n",
       "\n",
       "    .dataframe tbody tr th {\n",
       "        vertical-align: top;\n",
       "    }\n",
       "\n",
       "    .dataframe thead th {\n",
       "        text-align: right;\n",
       "    }\n",
       "</style>\n",
       "<table border=\"1\" class=\"dataframe\">\n",
       "  <thead>\n",
       "    <tr style=\"text-align: right;\">\n",
       "      <th></th>\n",
       "      <th>predictions</th>\n",
       "      <th>price</th>\n",
       "    </tr>\n",
       "  </thead>\n",
       "  <tbody>\n",
       "    <tr>\n",
       "      <th>0</th>\n",
       "      <td>NaN</td>\n",
       "      <td>NaN</td>\n",
       "    </tr>\n",
       "    <tr>\n",
       "      <th>1</th>\n",
       "      <td>NaN</td>\n",
       "      <td>NaN</td>\n",
       "    </tr>\n",
       "    <tr>\n",
       "      <th>2</th>\n",
       "      <td>NaN</td>\n",
       "      <td>NaN</td>\n",
       "    </tr>\n",
       "    <tr>\n",
       "      <th>3</th>\n",
       "      <td>NaN</td>\n",
       "      <td>NaN</td>\n",
       "    </tr>\n",
       "    <tr>\n",
       "      <th>4</th>\n",
       "      <td>NaN</td>\n",
       "      <td>NaN</td>\n",
       "    </tr>\n",
       "    <tr>\n",
       "      <th>...</th>\n",
       "      <td>...</td>\n",
       "      <td>...</td>\n",
       "    </tr>\n",
       "    <tr>\n",
       "      <th>1900</th>\n",
       "      <td>NaN</td>\n",
       "      <td>NaN</td>\n",
       "    </tr>\n",
       "    <tr>\n",
       "      <th>1901</th>\n",
       "      <td>NaN</td>\n",
       "      <td>NaN</td>\n",
       "    </tr>\n",
       "    <tr>\n",
       "      <th>1902</th>\n",
       "      <td>NaN</td>\n",
       "      <td>NaN</td>\n",
       "    </tr>\n",
       "    <tr>\n",
       "      <th>1903</th>\n",
       "      <td>NaN</td>\n",
       "      <td>NaN</td>\n",
       "    </tr>\n",
       "    <tr>\n",
       "      <th>1904</th>\n",
       "      <td>NaN</td>\n",
       "      <td>NaN</td>\n",
       "    </tr>\n",
       "  </tbody>\n",
       "</table>\n",
       "<p>1905 rows × 2 columns</p>\n",
       "</div>"
      ],
      "text/plain": [
       "      predictions  price\n",
       "0             NaN    NaN\n",
       "1             NaN    NaN\n",
       "2             NaN    NaN\n",
       "3             NaN    NaN\n",
       "4             NaN    NaN\n",
       "...           ...    ...\n",
       "1900          NaN    NaN\n",
       "1901          NaN    NaN\n",
       "1902          NaN    NaN\n",
       "1903          NaN    NaN\n",
       "1904          NaN    NaN\n",
       "\n",
       "[1905 rows x 2 columns]"
      ]
     },
     "execution_count": 48,
     "metadata": {},
     "output_type": "execute_result"
    }
   ],
   "source": [
    "price - predictions"
   ]
  },
  {
   "cell_type": "code",
   "execution_count": 49,
   "metadata": {},
   "outputs": [
    {
     "data": {
      "text/html": [
       "<div>\n",
       "<style scoped>\n",
       "    .dataframe tbody tr th:only-of-type {\n",
       "        vertical-align: middle;\n",
       "    }\n",
       "\n",
       "    .dataframe tbody tr th {\n",
       "        vertical-align: top;\n",
       "    }\n",
       "\n",
       "    .dataframe thead th {\n",
       "        text-align: right;\n",
       "    }\n",
       "</style>\n",
       "<table border=\"1\" class=\"dataframe\">\n",
       "  <thead>\n",
       "    <tr style=\"text-align: right;\">\n",
       "      <th></th>\n",
       "      <th>price</th>\n",
       "      <th>predictions</th>\n",
       "    </tr>\n",
       "  </thead>\n",
       "  <tbody>\n",
       "    <tr>\n",
       "      <th>0</th>\n",
       "      <td>2700000</td>\n",
       "      <td>1.781426e+06</td>\n",
       "    </tr>\n",
       "    <tr>\n",
       "      <th>1</th>\n",
       "      <td>2850000</td>\n",
       "      <td>2.551625e+06</td>\n",
       "    </tr>\n",
       "    <tr>\n",
       "      <th>2</th>\n",
       "      <td>1150000</td>\n",
       "      <td>2.522740e+06</td>\n",
       "    </tr>\n",
       "    <tr>\n",
       "      <th>3</th>\n",
       "      <td>2850000</td>\n",
       "      <td>4.222873e+06</td>\n",
       "    </tr>\n",
       "    <tr>\n",
       "      <th>4</th>\n",
       "      <td>1729200</td>\n",
       "      <td>7.851530e+05</td>\n",
       "    </tr>\n",
       "    <tr>\n",
       "      <th>...</th>\n",
       "      <td>...</td>\n",
       "      <td>...</td>\n",
       "    </tr>\n",
       "    <tr>\n",
       "      <th>1900</th>\n",
       "      <td>1500000</td>\n",
       "      <td>1.211313e+06</td>\n",
       "    </tr>\n",
       "    <tr>\n",
       "      <th>1901</th>\n",
       "      <td>1230000</td>\n",
       "      <td>8.171580e+05</td>\n",
       "    </tr>\n",
       "    <tr>\n",
       "      <th>1902</th>\n",
       "      <td>2900000</td>\n",
       "      <td>2.981084e+06</td>\n",
       "    </tr>\n",
       "    <tr>\n",
       "      <th>1903</th>\n",
       "      <td>675000</td>\n",
       "      <td>2.651215e+05</td>\n",
       "    </tr>\n",
       "    <tr>\n",
       "      <th>1904</th>\n",
       "      <td>760887</td>\n",
       "      <td>8.227585e+05</td>\n",
       "    </tr>\n",
       "  </tbody>\n",
       "</table>\n",
       "<p>1905 rows × 2 columns</p>\n",
       "</div>"
      ],
      "text/plain": [
       "        price   predictions\n",
       "0     2700000  1.781426e+06\n",
       "1     2850000  2.551625e+06\n",
       "2     1150000  2.522740e+06\n",
       "3     2850000  4.222873e+06\n",
       "4     1729200  7.851530e+05\n",
       "...       ...           ...\n",
       "1900  1500000  1.211313e+06\n",
       "1901  1230000  8.171580e+05\n",
       "1902  2900000  2.981084e+06\n",
       "1903   675000  2.651215e+05\n",
       "1904   760887  8.227585e+05\n",
       "\n",
       "[1905 rows x 2 columns]"
      ]
     },
     "execution_count": 49,
     "metadata": {},
     "output_type": "execute_result"
    }
   ],
   "source": [
    "df_predictions_Python = pd.concat([price, predictions], axis=1)\n",
    "df_predictions_Python"
   ]
  },
  {
   "cell_type": "code",
   "execution_count": 50,
   "metadata": {},
   "outputs": [
    {
     "ename": "AttributeError",
     "evalue": "'DataFrame' object has no attribute 'price'",
     "output_type": "error",
     "traceback": [
      "\u001b[1;31m---------------------------------------------------------------------------\u001b[0m",
      "\u001b[1;31mAttributeError\u001b[0m                            Traceback (most recent call last)",
      "\u001b[1;32mc:\\Users\\Usuario\\Documents\\fabio\\Fabio\\BLOG\\Estadistica4all - WEB\\Notebooks\\Linear Regression in Python and R\\Linear Regression in Python and R.ipynb Celda 123\u001b[0m in \u001b[0;36m<cell line: 1>\u001b[1;34m()\u001b[0m\n\u001b[1;32m----> <a href='vscode-notebook-cell:/c%3A/Users/Usuario/Documents/fabio/Fabio/BLOG/Estadistica4all%20-%20WEB/Notebooks/Linear%20Regression%20in%20Python%20and%20R/Linear%20Regression%20in%20Python%20and%20R.ipynb#ch0000121?line=0'>1</a>\u001b[0m df_predictions_Python \u001b[39m=\u001b[39m df_predictions_Python \u001b[39m>>\u001b[39m mutate(train_errors \u001b[39m=\u001b[39m X\u001b[39m.\u001b[39;49mprice \u001b[39m-\u001b[39m X\u001b[39m.\u001b[39mpredictions) \n\u001b[0;32m      <a href='vscode-notebook-cell:/c%3A/Users/Usuario/Documents/fabio/Fabio/BLOG/Estadistica4all%20-%20WEB/Notebooks/Linear%20Regression%20in%20Python%20and%20R/Linear%20Regression%20in%20Python%20and%20R.ipynb#ch0000121?line=2'>3</a>\u001b[0m df_predictions_Python\n",
      "File \u001b[1;32mc:\\Users\\Usuario\\AppData\\Local\\R-MINI~1\\lib\\site-packages\\pandas\\core\\generic.py:5575\u001b[0m, in \u001b[0;36mNDFrame.__getattr__\u001b[1;34m(self, name)\u001b[0m\n\u001b[0;32m   5568\u001b[0m \u001b[39mif\u001b[39;00m (\n\u001b[0;32m   5569\u001b[0m     name \u001b[39mnot\u001b[39;00m \u001b[39min\u001b[39;00m \u001b[39mself\u001b[39m\u001b[39m.\u001b[39m_internal_names_set\n\u001b[0;32m   5570\u001b[0m     \u001b[39mand\u001b[39;00m name \u001b[39mnot\u001b[39;00m \u001b[39min\u001b[39;00m \u001b[39mself\u001b[39m\u001b[39m.\u001b[39m_metadata\n\u001b[0;32m   5571\u001b[0m     \u001b[39mand\u001b[39;00m name \u001b[39mnot\u001b[39;00m \u001b[39min\u001b[39;00m \u001b[39mself\u001b[39m\u001b[39m.\u001b[39m_accessors\n\u001b[0;32m   5572\u001b[0m     \u001b[39mand\u001b[39;00m \u001b[39mself\u001b[39m\u001b[39m.\u001b[39m_info_axis\u001b[39m.\u001b[39m_can_hold_identifiers_and_holds_name(name)\n\u001b[0;32m   5573\u001b[0m ):\n\u001b[0;32m   5574\u001b[0m     \u001b[39mreturn\u001b[39;00m \u001b[39mself\u001b[39m[name]\n\u001b[1;32m-> 5575\u001b[0m \u001b[39mreturn\u001b[39;00m \u001b[39mobject\u001b[39;49m\u001b[39m.\u001b[39;49m\u001b[39m__getattribute__\u001b[39;49m(\u001b[39mself\u001b[39;49m, name)\n",
      "\u001b[1;31mAttributeError\u001b[0m: 'DataFrame' object has no attribute 'price'"
     ]
    }
   ],
   "source": [
    "df_predictions_Python = df_predictions_Python >> mutate(train_errors = X.price - X.predictions) \n",
    "\n",
    "df_predictions_Python"
   ]
  },
  {
   "cell_type": "markdown",
   "metadata": {},
   "source": []
  },
  {
   "cell_type": "markdown",
   "metadata": {},
   "source": [
    "## Estimation of the error variance <a class=\"anchor\" id=\"24\"></a>\n",
    "\n",
    "\n",
    "The estimator of the error variance $Var(\\varepsilon_i)=\\sigma^2$ is\n",
    "called residual variance, and is defined as:\n",
    "\n",
    "$$\n",
    "S_R^2 = \\dfrac{1}{n-p-1} \\cdot \\sum_{i=1}^{n} \\hat{\\varepsilon}_i =  \\dfrac{1}{n-p-1} \\cdot (Y^t \\cdot Y - \\hat{\\beta}^t \\cdot X^t \\cdot Y)\n",
    "$$\n",
    "\n",
    "The following is fulfilled:\n",
    "\n",
    "$$\n",
    "\\dfrac{n-p-1}{\\sigma^2} \\cdot S_R^2 \\sim \\chi_{n-p-1}^2 \\\\\n",
    "E[S_R^2]=\\sigma^2 \\\\\n",
    "Var(S_R^2)=\\dfrac{2 \\cdot \\sigma^4}{n-p-1}\n",
    "$$\n"
   ]
  },
  {
   "cell_type": "markdown",
   "metadata": {},
   "source": [
    "\n",
    "### Estimation of the error variance in R <a class=\"anchor\" id=\"25\"></a>\n"
   ]
  },
  {
   "cell_type": "code",
   "execution_count": null,
   "metadata": {},
   "outputs": [
    {
     "name": "stdout",
     "output_type": "stream",
     "text": [
      "[1] 2.572224e+12\n"
     ]
    }
   ],
   "source": [
    "%%R\n",
    "n<- length(estimated_errors)\n",
    "p<-6\n",
    "( estimated_variance_error <- sum(estimated_errors^2)/(n-p-1) )"
   ]
  },
  {
   "cell_type": "code",
   "execution_count": null,
   "metadata": {},
   "outputs": [
    {
     "name": "stdout",
     "output_type": "stream",
     "text": [
      "[1] 1603816\n"
     ]
    }
   ],
   "source": [
    "%%R\n",
    "\n",
    "( estimated_standard_deviation_error <- sqrt(estimated_variance_error) )"
   ]
  },
  {
   "cell_type": "markdown",
   "metadata": {},
   "source": []
  },
  {
   "cell_type": "markdown",
   "metadata": {},
   "source": [
    "### Estimation of the error variance in Python <a class=\"anchor\" id=\"26\"></a>\n"
   ]
  },
  {
   "cell_type": "code",
   "execution_count": null,
   "metadata": {},
   "outputs": [],
   "source": [
    "n = len(data_Python)\n",
    "p = 6"
   ]
  },
  {
   "cell_type": "code",
   "execution_count": null,
   "metadata": {},
   "outputs": [
    {
     "data": {
      "text/plain": [
       "2572224474734.9785"
      ]
     },
     "execution_count": 55,
     "metadata": {},
     "output_type": "execute_result"
    }
   ],
   "source": [
    "estimated_variance_train_error = sum(df_predictions_Python['train_errors']**2)/(n-p-1) \n",
    "estimated_variance_train_error"
   ]
  },
  {
   "cell_type": "code",
   "execution_count": null,
   "metadata": {},
   "outputs": [
    {
     "data": {
      "text/plain": [
       "1603815.5987316554"
      ]
     },
     "execution_count": 56,
     "metadata": {},
     "output_type": "execute_result"
    }
   ],
   "source": [
    "import math\n",
    "\n",
    "estimated_standard_deviation_train_error = math.sqrt(estimated_variance_train_error)\n",
    "estimated_standard_deviation_train_error"
   ]
  },
  {
   "cell_type": "markdown",
   "metadata": {},
   "source": []
  },
  {
   "cell_type": "markdown",
   "metadata": {},
   "source": [
    "## Model Train Validation <a class=\"anchor\" id=\"27\"></a>\n",
    "\n",
    "\n",
    "We can compute some metric in order to measure how much distant are the\n",
    "predictions and observations of the response variable.\n",
    "\n",
    "One of the most common metrics is the median absolute deviation (MAD)\n",
    "\n",
    "\\begin{gather*}\n",
    "MAD=  \\dfrac{1}{n} \\sum_{i=1}^{n} \\mid y_i - \\hat{y}_i \\mid = \\dfrac{1}{n} \\sum_{i=1}^{n} \\mid \\hat{\\varepsilon}_i \\mid\n",
    "\\end{gather*}\n"
   ]
  },
  {
   "cell_type": "markdown",
   "metadata": {},
   "source": []
  },
  {
   "cell_type": "markdown",
   "metadata": {},
   "source": [
    "\n",
    "### Model Training Validation in R <a class=\"anchor\" id=\"28\"></a>\n"
   ]
  },
  {
   "cell_type": "code",
   "execution_count": null,
   "metadata": {},
   "outputs": [
    {
     "name": "stdout",
     "output_type": "stream",
     "text": [
      "[1] 938065.2\n"
     ]
    }
   ],
   "source": [
    "%%R\n",
    "\n",
    "( MAD <- mean(abs((estimated_errors))) ) "
   ]
  },
  {
   "cell_type": "markdown",
   "metadata": {},
   "source": [
    "### Model Training Validation in Python  <a class=\"anchor\" id=\"29\"></a>"
   ]
  },
  {
   "cell_type": "code",
   "execution_count": null,
   "metadata": {},
   "outputs": [
    {
     "data": {
      "text/plain": [
       "938065.2280944842"
      ]
     },
     "execution_count": 58,
     "metadata": {},
     "output_type": "execute_result"
    }
   ],
   "source": [
    "MAD_Py = (df_predictions_Python['train_errors'].abs()).mean()\n",
    "MAD_Py"
   ]
  },
  {
   "cell_type": "markdown",
   "metadata": {},
   "source": [
    "\n",
    "In mean, the predictions that the model made of the response variable\n",
    "deviates from the observations, in absolute value, in 938065 units.\n",
    "\n",
    "This is an estimation of model error, but training error, because we\n",
    "have used the predictions of the response variables made by the model\n",
    "using the observations with which it has been trained.\n",
    "\n",
    "There is a more interesting model error, called test error, that is\n",
    "computed with predictors observations which haven´t been used to train\n",
    "the model.\n",
    "\n",
    "In this article, we will not go deeper unto that, but this concepts will\n",
    "be more developed in another article about validation techniques.\n",
    "\n",
    "\n"
   ]
  },
  {
   "cell_type": "markdown",
   "metadata": {},
   "source": []
  },
  {
   "cell_type": "markdown",
   "metadata": {},
   "source": [
    "## Model Coefficients Interpretation <a class=\"anchor\" id=\"30\"></a>"
   ]
  },
  {
   "cell_type": "markdown",
   "metadata": {},
   "source": []
  },
  {
   "cell_type": "markdown",
   "metadata": {},
   "source": [
    "\n",
    "### Null Coefficient <a class=\"anchor\" id=\"31\"></a>\n",
    "\n",
    "\n",
    "We have the following estimated linear regression model \n",
    "\n",
    "  $$\\hat{y}= \\hat{\\beta_0} + \\hat{\\beta_0}\\cdot x_{i1} + ...+ \\hat{\\beta_p}\\cdot x_{ip}$$\n",
    "\n",
    "- $\\hat{\\beta}_0$ $\\hspace{0.05cm}$ is the model estimated value for the response variable, i.e $\\hspace{0.05cm}$  $\\hat{y}_i$ $\\hspace{0.05cm}$\n",
    ", when $\\hspace{0.05cm}$ $x_{ij}=0$ $\\hspace{0.05cm}$ , $\\forall j=1,2,...,p$\n",
    "\n"
   ]
  },
  {
   "cell_type": "markdown",
   "metadata": {},
   "source": []
  },
  {
   "cell_type": "markdown",
   "metadata": {},
   "source": [
    "\n",
    "###  Cuantitative Predictor Coefficient <a class=\"anchor\" id=\"32\"></a>\n",
    "\n",
    "Let $X_k$ a **quantitative** variable, and $\\hspace{0.05cm}$ $h>0$,\n",
    "\n",
    "We have the following estimated linear regression model  \n",
    "\n",
    "$$\\hat{y}_i= \\hat{\\beta_0} + \\hat{\\beta_0}\\cdot x_{i1} + .. + \\hat{\\beta_k}\\cdot x_{ik} + ..+ \\hat{\\beta_p}\\cdot x_{ip}$$\n",
    "\n",
    "\n",
    "-   If $\\hat{\\beta}_k > 0$  , then\n",
    "\n",
    "    -   If  $x_{ik}$  **increases** in $h$ units $\\hspace{0.05cm}$  $\\Rightarrow$  $\\hspace{0.05cm}$ $\\hat{y}_i$\n",
    "        **increases** in $\\hspace{0.05cm}$ $\\hat{\\beta}_k \\cdot h$  $\\hspace{0.05cm}$ units.\n",
    "        \n",
    "        And the opposite if it decreases.\n",
    "        \n",
    "   \n",
    "-   If  $\\hat{\\beta}_k < 0$  , then\n",
    "\n",
    "    -  If $x_{ik}$ **increases** in $h$ units $\\hspace{0.05cm}$ $\\Rightarrow$ $\\hspace{0.05cm}$  $\\hat{y}_i$\n",
    "        **decreases** in $\\hspace{0.05cm}$ $\\hat{\\beta}_k \\cdot h$ $\\hspace{0.05cm}$ units. \n",
    "\n",
    "        And the opposite if it decreases.\n",
    "\n",
    "\n",
    "-   If  $\\hat{\\beta}_k = 0$  , then\n",
    "\n",
    "    -   $\\hat{y}_i$ $\\hspace{0.05cm}$ doesn´t depend on $\\hspace{0.05cm}$  $x_{ik}$\n",
    "\n",
    "\n",
    "**Observation:**\n",
    "\n",
    "\n",
    "The above affirmations are based in the following:\n",
    "\n",
    "- $(\\hat{y}_i \\hspace{0.05cm} | \\hspace{0.05cm} x_{ik}=c+h ) - (\\hat{y}_i  \\hspace{0.05cm} | \\hspace{0.05cm}  x_{ik}=c ) =  \\hat{\\beta_k}\\cdot h$"
   ]
  },
  {
   "cell_type": "markdown",
   "metadata": {},
   "source": []
  },
  {
   "cell_type": "markdown",
   "metadata": {},
   "source": [
    "\n",
    "### Categorical Predictor Coefficient <a class=\"anchor\" id=\"33\"></a>"
   ]
  },
  {
   "cell_type": "markdown",
   "metadata": {},
   "source": [
    "\n",
    "#### Categorical Predictors with 2 categories\n",
    "\n",
    "Let $X_k$ a categorical variable with 2 categories \n",
    "$\\lbrace 0 , 1 \\rbrace$,\n",
    "\n",
    "If the reference category is  $0$  , then  $X_k$ enter in the model as the binary (0,1) variable $X_{k1}$ defined as:\n",
    "\n",
    "$$\n",
    "x_{i k1}=1  \\hspace{0.05cm} \\Leftrightarrow \\hspace{0.05cm}  x_{i k}=1 \n",
    " $$\n",
    "\n",
    "<br>\n",
    "\n",
    "In addition, we define the variable $X_{k0}$ as:\n",
    "\n",
    "$$\n",
    "x_{i k0}=1  \\hspace{0.05cm} \\Leftrightarrow \\hspace{0.05cm}  x_{i k}=0 \n",
    "$$\n",
    "\n",
    "<br>\n",
    "\n",
    "We have the following estimated linear regression model:\n",
    "\n",
    "$$\\hat{y}_i= \\hat{\\beta_0} + \\hat{\\beta_0}\\cdot x_{i1} + .. + \\hat{\\beta}_{k1} \\cdot x_{ik1} + ..+ \\hat{\\beta_p}\\cdot x_{ip}$$\n",
    "\n",
    "<br>\n",
    "\n",
    "-   If $\\hat{\\beta}_{k1} > 0$ , then\n",
    "\n",
    "\n",
    "\n",
    "    -   $\\hat{y}_i$ $\\hspace{0.05cm}$ is $\\hspace{0.05cm}$ $\\hat{\\beta}_{k1}$ $\\hspace{0.05cm}$ units greater if  $\\hspace{0.05cm}$ $x_{ik}=1$ $\\hspace{0.05cm}$ than if $\\hspace{0.05cm}$ $x_{ik}= 0$\n",
    "\n",
    "<br>\n",
    "\n",
    "-   If $\\hat{\\beta}_{k1} < 0$ , then\n",
    "\n",
    "    -   $\\hat{y}_i$ $\\hspace{0.05cm}$ is $\\hspace{0.05cm}$ $\\hat{\\beta}_{k1}$ $\\hspace{0.05cm}$ units less if $\\hspace{0.05cm}$  $x_{ik}= 1$ $\\hspace{0.05cm}$ than if $\\hspace{0.05cm}$ $x_{ik}=0$\n",
    "\n"
   ]
  },
  {
   "cell_type": "markdown",
   "metadata": {},
   "source": [
    "**Observation:**\n",
    "\n",
    "\n",
    "The above affirmations are based in the following:\n",
    "\n",
    "- $(\\hat{y}_i \\hspace{0.05cm} | \\hspace{0.05cm} x_{ik1}=1 ) - (\\hat{y}_i  \\hspace{0.05cm} | \\hspace{0.05cm}  x_{ik1}=0 ) =  \\hat{\\beta}_{k1}$"
   ]
  },
  {
   "cell_type": "markdown",
   "metadata": {},
   "source": []
  },
  {
   "cell_type": "markdown",
   "metadata": {},
   "source": [
    "\n",
    "#### Categorical Predictors with 3 categories:\n",
    "\n",
    "Let $X_k$ a categorical variable with 3 categories\n",
    "$\\lbrace 0 , 1, 2 \\rbrace$,\n",
    "\n",
    "If the reference category is $0$, then $X_k$ enter in the model with\n",
    "two binary $\\lbrace 0,1\\rbrace$ variables $X_{k1}$ y $X_{k2}$ defined as:\n",
    "\n",
    "\\begin{gather*}\n",
    "x_{i k1}=1   \\Leftrightarrow   x_{i k}=1 \\\\\n",
    "x_{i k2}=1  \\Leftrightarrow     x_{i k}=2 \n",
    "\\end{gather*}\n",
    "\n",
    "<br>\n",
    "\n",
    "In addition, we define the variable $X_{k0}$ as:\n",
    "\n",
    "$$\n",
    "x_{i k0}=1  \\hspace{0.05cm} \\Leftrightarrow \\hspace{0.05cm}  x_{i k}=0 \n",
    "$$\n",
    "\n",
    "<br>\n",
    "\n",
    "We have the following estimated linear regression model:\n",
    "\n",
    "$$\\hat{y}= \\hat{\\beta_0} + \\hat{\\beta_0}\\cdot x_{i1} + .. + \\hat{\\beta}_{k1} \\cdot x_{ik1} + \\hat{\\beta}_{k2} \\cdot x_{ik2} + ..+ \\hat{\\beta_p}\\cdot x_{ip}$$\n",
    "\n",
    "<br>\n",
    "\n",
    "-   If  $\\hat{\\beta}_{k1} > 0$  , then\n",
    "\n",
    "    -  $\\hat{y}_i$ $\\hspace{0.05cm}$  is $\\hspace{0.05cm}$ $\\hat{\\beta}_{k1}$ $\\hspace{0.05cm}$ units **greater** if $\\hspace{0.05cm}$ $x_{ik}= 1$ $\\hspace{0.05cm}$  than if  $\\hspace{0.05cm}$ $x_{ik}= 0$\n",
    "\n",
    "<br>\n",
    "\n",
    "-   If  $\\hat{\\beta}_{k1} < 0$  , then\n",
    "\n",
    "    -   $\\hat{y}_i$ $\\hspace{0.05cm}$ is $\\hspace{0.05cm}$ $\\hat{\\beta}_{k1}$ $\\hspace{0.05cm}$ units **less** if $\\hspace{0.05cm}$  $x_{ik}= 1$ $\\hspace{0.05cm}$ than if $\\hspace{0.05cm}$ $x_{ik}= 0$\n",
    "\n",
    "<br>\n",
    "\n",
    "-   If $\\hat{\\beta}_{k2} > 0$ , then\n",
    "\n",
    "    -   $\\hat{y}_i$ $\\hspace{0.05cm}$  is $\\hspace{0.05cm}$ $\\hat{\\beta}_{k2}$ $\\hspace{0.05cm}$ units **greater** if $\\hspace{0.05cm}$  $x_{ik}= 1$  $\\hspace{0.05cm}$ than if $\\hspace{0.05cm}$ $x_{ik}= 0$\n",
    "\n",
    "<br>\n",
    "\n",
    "-   If $\\hat{\\beta}_{k2} < 0$  , then \n",
    "\n",
    "    -  $\\hat{y}_i$ $\\hspace{0.05cm}$ is $\\hspace{0.05cm}$ $\\hat{\\beta}_{k2}$ $\\hspace{0.05cm}$ units **less** if  $\\hspace{0.05cm}$ $x_{ik}= 1$ $\\hspace{0.05cm}$ than if $\\hspace{0.05cm}$ $x_{ik}= 0$\n",
    "\n",
    "<br>\n",
    "\n",
    "-   If  $\\hat{\\beta}_{k2} - \\hat{\\beta}_{k1} > 0$ , then\n",
    "\n",
    "    -   $\\hat{y}_i$ $\\hspace{0.05cm}$ is $\\hspace{0.05cm}$ $\\hat{\\beta}_{k2} - \\hat{\\beta}_{k1}$  $\\hspace{0.05cm}$ units  **greater** if $\\hspace{0.05cm}$ $x_{ik}= 2$ $\\hspace{0.05cm}$ than if $\\hspace{0.05cm}$ $x_{ik}= 1$\n",
    "\n",
    "<br>\n",
    "\n",
    "-   If  $\\hat{\\beta}_{k2} - \\hat{\\beta}_{k1} < 0$  , then\n",
    "\n",
    "    -   $\\hat{y}_i$ $\\hspace{0.05cm}$ is $\\hspace{0.05cm}$ $\\hat{\\beta}_{k2} - \\hat{\\beta}_{k1}$ $\\hspace{0.05cm}$ units\n",
    "        **less** if $\\hspace{0.05cm}$ $x_{ik}= 2$ $\\hspace{0.05cm}$ than if $\\hspace{0.05cm}$ $x_{ik}= 1$\n",
    "\n",
    "<br>\n",
    "\n",
    "Note that the above is easily extrapolated to the case in which we have a\n",
    "categorical predictor with $r$ categories, for $r>3$.\n"
   ]
  },
  {
   "cell_type": "markdown",
   "metadata": {},
   "source": [
    "**Observation:**\n",
    "\n",
    "\n",
    "The above affirmations are based in the following:\n",
    "\n",
    "- $(\\hat{y}_i \\hspace{0.05cm} | \\hspace{0.05cm} x_{ik1}=1 ) - (\\hat{y}_i  \\hspace{0.05cm} | \\hspace{0.05cm}  x_{ik0}=1 ) =  \\hat{\\beta}_{k1}$\n",
    "\n",
    "- $(\\hat{y}_i \\hspace{0.05cm} | \\hspace{0.05cm} x_{ik2}=1 ) - (\\hat{y}_i  \\hspace{0.05cm} | \\hspace{0.05cm}  x_{ik0}=1 ) =  \\hat{\\beta}_{k2}$\n",
    "  \n",
    "- $(\\hat{y}_i \\hspace{0.05cm} | \\hspace{0.05cm} x_{ik2}=1 ) - (\\hat{y}_i  \\hspace{0.05cm} | \\hspace{0.05cm}  x_{ik1}=1 ) =  \\hat{\\beta}_{k2} - \\hat{\\beta}_{k1} $"
   ]
  },
  {
   "cell_type": "markdown",
   "metadata": {},
   "source": []
  },
  {
   "cell_type": "markdown",
   "metadata": {},
   "source": [
    "Note that this can easily be extrapolated to the case of  an $r$-ary categorical variable  with $r > 3$"
   ]
  },
  {
   "cell_type": "markdown",
   "metadata": {},
   "source": []
  },
  {
   "cell_type": "markdown",
   "metadata": {},
   "source": [
    "\n",
    "### Example of coefficient interpretation <a class=\"anchor\" id=\"34\"></a>\n",
    "\n",
    "We had obtained the following estimated model:\n",
    "\n",
    "\n",
    "\\begin{gather*}\n",
    "\\widehat{price}_i =  -6.207e+07 +  3.566e+04 \\cdot size\\_in\\_m\\_2_i -8.367e+05 \\cdot no\\_of\\_bedrooms_i -5.712e+04 \\cdot no\\_of\\_bathrooms_i + \\\\ 1.4e+05 \\cdot quality1_i + 3.406e+05\\cdot quality2_i + 2.788e+05  \\cdot quality3_i  +6.115e+06\\cdot  latitude_i -1.677e+06   \\cdot longitude_i \n",
    "\\end{gather*}\n",
    "\n"
   ]
  },
  {
   "cell_type": "markdown",
   "metadata": {},
   "source": [
    "The interpretation of the estimated model coefficients is the following:\n",
    "\n",
    "<br>\n",
    "\n",
    "-   $\\hat{\\beta}_0 = -6.207e+07$   is the estimated  $price$  by the model for the  houses with $size\\_in\\_m\\_2_i =0$  ,  $no\\_of\\_bedrooms_i =0$  ,  $no\\_of\\_bathrooms_i =0$  ,   $qualityLow_i=0$ ,   $qualityMedium_i=0$  ,  $qualityUltra_i=0$  ,  $latitude_i=longitude_i=0$\n",
    "\n",
    "\n",
    "-   $\\hat{\\beta}_{size\\_in\\_m\\_2} =3.566e+04$   $\\Rightarrow$   if\n",
    "    $size\\_in\\_m\\_2_i$ increases in $h$ units, the estimated housing\n",
    "    $price$ **increases** in  $h\\cdot 3.566e+04$  units.\n",
    "\n",
    "\n",
    "-   $\\hat{\\beta}_{no\\_of\\_bedrooms} = -8.367e+05$   $\\Rightarrow$   if\n",
    "    $no\\_of\\_bedrooms_i$ increases in  $h$  units, the estimated housing\n",
    "    $price$ **decreases** in  $-h\\cdot 8.367e+05$  units.\n",
    "\n",
    "\n",
    "-   $\\hat{\\beta}_{no\\_of\\_bathrooms} = -5.712e+04$   $\\Rightarrow$   if\n",
    "    $no\\_of\\_bathrooms_i$ increases in  $h$  units, the estimated housing\n",
    "    $price$ **decreases** in  $-h\\cdot 5.712e+04$  units.\n",
    "\n",
    "\n",
    "-   $\\hat{\\beta}_{quality1} = 1.4e+05$   $\\Rightarrow$    the estimated\n",
    "    $price$ of houses with medium quality  $(quality1_i=1)$  is  $1.4e+05$   units **greater** than the estimated price of houses with low quality\n",
    "    $(quality0_i=1)$ , because low quality is the reference category  of $quality$ variable.\n",
    "\n",
    "\n",
    "-   $\\hat{\\beta}_{quality2} = 3.406e+05$  $\\Rightarrow$    the\n",
    "    estimated $price$ of houses with medium quality \n",
    "    $(quality2_i=1)$  is  $3.406e+05$ units **greater** than the estimated\n",
    "    price of houses with high quality  $(quality0_i=1)$  \n",
    "\n",
    "\n",
    "-   $\\hat{\\beta}_{quality3} = 2.788e+05$   $\\Rightarrow$     the estimated\n",
    "    $price$ of houses with ultra quality  $(quality1_i=1)$   is\n",
    "  $2.788e+05$  units **greater** than the estimated price of houses with low quality  $(quality0_i=1)$ \n",
    "\n",
    "\n",
    "-   $\\hat{\\beta}_{quality2} - \\hat{\\beta}_{quality1} = 3.406e+05  - 1.4e+05 =2.006e+05$     $\\Rightarrow$   the estimated price of houses  with high quality  $(quality2_i=1)$   is  $2.006e+05$ units **greater**   than the estimated price of houses with medium quality  $(quality1_i=1)$ \n",
    "\n",
    "-  $\\hat{\\beta}_{quality3} - \\hat{\\beta}_{quality2} = 2.788e+05   - 3.406e+05 =-61800$     $\\Rightarrow$  the estimated price of houses  with ultra quality  $(quality3_i=1)$   is  $61800$ units **less**   than the estimated price of houses with high quality  $(quality2_i=1)$ \n",
    "\n",
    "<br>\n",
    "\n",
    "Note that in all these cases it is assumed that the rest of the model variables don´t vary (have the same values) from one scenario to another."
   ]
  },
  {
   "cell_type": "markdown",
   "metadata": {},
   "source": []
  },
  {
   "cell_type": "markdown",
   "metadata": {},
   "source": [
    "### Interaction  Coefficient <a class=\"anchor\" id=\"35\"></a>"
   ]
  },
  {
   "cell_type": "markdown",
   "metadata": {},
   "source": [
    "#### Interaction  between binary and quantitative variables"
   ]
  },
  {
   "cell_type": "markdown",
   "metadata": {},
   "source": [
    "Let $X_k$ a quantitative variable, and $X_r$ a **binary** $\\lbrace 0, 1\\rbrace$ categorical variable."
   ]
  },
  {
   "cell_type": "markdown",
   "metadata": {},
   "source": [
    "If the reference category is  $0$  , then  $X_r$ enter in the model as the binary $\\lbrace 0, 1\\rbrace$ variable $X_{r1}$ defined as:\n",
    "\n",
    "$$\n",
    "x_{i r1}=1  \\hspace{0.05cm} \\Leftrightarrow \\hspace{0.05cm}  x_{i r}=1\n",
    "$$\n"
   ]
  },
  {
   "cell_type": "markdown",
   "metadata": {},
   "source": [
    "\n",
    "In addition, we define the variable $X_{r0}$ as:\n",
    "\n",
    "$$\n",
    "x_{i r0}=1  \\hspace{0.05cm} \\Leftrightarrow \\hspace{0.05cm}  x_{i r}=0 \n",
    "$$"
   ]
  },
  {
   "cell_type": "markdown",
   "metadata": {},
   "source": [
    "We have the following estimated linear regression model  \n",
    "\n",
    "$$\\hat{y}_i= \\hat{\\beta_0} + \\hat{\\beta_0}\\cdot x_{i1} + ... + \\hat{\\beta_p}\\cdot x_{ip} + \\hat{\\beta}_{r}\\cdot x_{ir} + \\hat{\\beta}_{k}\\cdot x_{ik} + \\hat{\\beta}_{rk}\\cdot x_{ir}\\cdot x_{ik}  $$"
   ]
  },
  {
   "cell_type": "markdown",
   "metadata": {},
   "source": [
    "-   If  $\\hspace{0.05cm} \\hat{\\beta}_{r1} + \\hat{\\beta}_{r1}\\cdot x_{ki} \\hspace{0.05cm} > \\hspace{0.05cm} 0$  , then\n",
    "\n",
    "    -  $\\hat{y}_i$ $\\hspace{0.05cm}$  is $\\hspace{0.05cm}$ $\\hspace{0.05cm} \\hat{\\beta}_{r1} + \\hat{\\beta}_{r1}\\cdot x_{ki} \\hspace{0.05cm}$ $\\hspace{0.05cm}$ units **greater** if $\\hspace{0.05cm}$ $x_{ir}= 1$ $\\hspace{0.05cm}$  than if  $\\hspace{0.05cm}$ $x_{ir}= 0$\n",
    "\n",
    "<br>\n",
    "\n",
    "-   If  $\\hspace{0.05cm} \\hat{\\beta}_{r1} + \\hat{\\beta}_{r1}\\cdot x_{ki} \\hspace{0.05cm} < \\hspace{0.05cm} 0$  , then\n",
    "\n",
    "    -  $\\hat{y}_i$ $\\hspace{0.05cm}$  is $\\hspace{0.05cm}$ $\\hspace{0.05cm} \\hat{\\beta}_{r1} + \\hat{\\beta}_{r1}\\cdot x_{ki} \\hspace{0.05cm}$ $\\hspace{0.05cm}$ units **less** if $\\hspace{0.05cm}$ $x_{ir}= 1$ $\\hspace{0.05cm}$  than if  $\\hspace{0.05cm}$ $x_{ir}= 0$"
   ]
  },
  {
   "cell_type": "markdown",
   "metadata": {},
   "source": [
    "Note these magnitudes depend on $x_{ik}$ value, because we have set an interaction between $X_k$ and $X_r$ in the model."
   ]
  },
  {
   "cell_type": "markdown",
   "metadata": {},
   "source": [
    "**Observation:**\n",
    "\n",
    "The above affirmations are based in the following:\n",
    "\n",
    "$(\\hat{y}_i \\hspace{0.05cm} | \\hspace{0.05cm} x_{ir1}=1 ) - (\\hat{y}_i  \\hspace{0.05cm} | \\hspace{0.05cm}  x_{ir0}=1 ) =  \\hat{\\beta}_{r1} + \\hat{\\beta}_{r1k}\\cdot x_{ik}$"
   ]
  },
  {
   "cell_type": "markdown",
   "metadata": {},
   "source": []
  },
  {
   "cell_type": "markdown",
   "metadata": {},
   "source": [
    "#### Interaction  between ternary and quantitative variables"
   ]
  },
  {
   "cell_type": "markdown",
   "metadata": {},
   "source": [
    "Let $X_k$ a quantitative variable, and $X_r$ a **ternary** $\\lbrace 0, 1, 2 \\rbrace$ categorical variable.\n",
    "\n",
    "<br>\n",
    "\n",
    "If the reference category is  $0$  , then  $X_r$ enter in the model with\n",
    "two binary $\\lbrace 0,1\\rbrace$ variables $X_{r1}$ y $X_{r2}$ defined as:\n",
    "\n",
    "\\begin{gather*}\n",
    "x_{i r1}=1   \\Leftrightarrow   x_{i r}=1 \\\\\n",
    "x_{i r2}=1  \\Leftrightarrow     x_{i r}=2 \n",
    "\\end{gather*}\n",
    "\n",
    "<br>\n",
    "\n",
    "In addition, we define the variable $X_{r0}$ as:\n",
    "\n",
    "$$\n",
    "x_{i r0}=1  \\hspace{0.05cm} \\Leftrightarrow \\hspace{0.05cm}  x_{i r}=0 \n",
    "$$\n",
    "\n",
    "<br>\n",
    " \n",
    "We have the following estimated linear regression model  \n",
    "\n",
    "$$\\hat{y}_i= \\hat{\\beta_0} + \\hat{\\beta_0}\\cdot x_{i1} + ... + \\hat{\\beta_p}\\cdot x_{ip}  + \\hat{\\beta}_{k}\\cdot x_{ik} + \\hat{\\beta}_{r1}\\cdot x_{ir1} + \\hat{\\beta}_{r2}\\cdot x_{ir2} + \\hat{\\beta}_{r1k}\\cdot x_{ir1}\\cdot x_{ik} + \\hat{\\beta}_{r2 k}\\cdot x_{ir2}\\cdot x_{ik} $$\n",
    "\n",
    "<br>\n",
    "\n",
    "-   If  $\\hspace{0.05cm} \\hat{\\beta}_{r1} + \\hat{\\beta}_{r1}\\cdot x_{ki} \\hspace{0.05cm} > \\hspace{0.05cm} 0$  , then\n",
    "\n",
    "    -  $\\hat{y}_i$ $\\hspace{0.05cm}$  is $\\hspace{0.05cm}$ $\\hspace{0.05cm} \\hat{\\beta}_{r1} + \\hat{\\beta}_{r1}\\cdot x_{ki} \\hspace{0.05cm}$ $\\hspace{0.05cm}$ units **greater** if $\\hspace{0.05cm}$ $x_{ir}= 1$ $\\hspace{0.05cm}$  than if  $\\hspace{0.05cm}$ $x_{ir}= 0$\n",
    "\n",
    "<br>\n",
    "\n",
    "-   If  $\\hspace{0.05cm} \\hat{\\beta}_{r1} + \\hat{\\beta}_{r1}\\cdot x_{ki} \\hspace{0.05cm} < \\hspace{0.05cm} 0$  , then\n",
    "\n",
    "    -  $\\hat{y}_i$ $\\hspace{0.05cm}$  is $\\hspace{0.05cm}$ $\\hspace{0.05cm} \\hat{\\beta}_{r1} + \\hat{\\beta}_{r1}\\cdot x_{ki} \\hspace{0.05cm}$ $\\hspace{0.05cm}$ units **less** if $\\hspace{0.05cm}$ $x_{ir}= 1$ $\\hspace{0.05cm}$  than if  $\\hspace{0.05cm}$ $x_{ir}= 0$\n",
    "\n",
    "<br>\n",
    "\n",
    "-   If  $\\hspace{0.05cm} \\hat{\\beta}_{r2} + \\hat{\\beta}_{r2}\\cdot x_{ki} \\hspace{0.05cm} > \\hspace{0.05cm} 0$  , then\n",
    "\n",
    "    -  $\\hat{y}_i$ $\\hspace{0.05cm}$  is $\\hspace{0.05cm}$ $\\hspace{0.05cm} \\hat{\\beta}_{r2} + \\hat{\\beta}_{r2}\\cdot x_{ki} \\hspace{0.05cm}$ $\\hspace{0.05cm}$ units **greater** if $\\hspace{0.05cm}$ $x_{ir}= 2$ $\\hspace{0.05cm}$  than if  $\\hspace{0.05cm}$ $x_{ir}= 0$\n",
    "\n",
    "<br>\n",
    "\n",
    "-   If  $\\hspace{0.05cm} \\hat{\\beta}_{r2} + \\hat{\\beta}_{r2}\\cdot x_{ki} \\hspace{0.05cm} < \\hspace{0.05cm} 0$  , then\n",
    "\n",
    "    -  $\\hat{y}_i$ $\\hspace{0.05cm}$  is $\\hspace{0.05cm}$ $\\hspace{0.05cm} \\hat{\\beta}_{r2} + \\hat{\\beta}_{r2}\\cdot x_{ki} \\hspace{0.05cm}$ $\\hspace{0.05cm}$ units **less** if $\\hspace{0.05cm}$ $x_{ir}= 2$ $\\hspace{0.05cm}$  than if  $\\hspace{0.05cm}$ $x_{ir}= 0$\n",
    "\n",
    "<br>\n",
    "\n",
    "\n",
    "-   If  $\\hspace{0.05cm} (\\hat{\\beta}_{r2} - \\hat{\\beta}_{r1} ) + (\\hat{\\beta}_{r2} - \\hat{\\beta}_{r1})\\cdot x_{ki} \\hspace{0.05cm} > \\hspace{0.05cm} 0$  , then\n",
    "\n",
    "    -  $\\hat{y}_i$ $\\hspace{0.05cm}$  is $\\hspace{0.05cm}$ $\\hspace{0.05cm} (\\hat{\\beta}_{r2} - \\hat{\\beta}_{r1} ) + (\\hat{\\beta}_{r2} - \\hat{\\beta}_{r1})\\cdot x_{ki} \\hspace{0.05cm}$ $\\hspace{0.05cm}$ units **greater** if $\\hspace{0.05cm}$ $x_{ir}= 2$ $\\hspace{0.05cm}$  than if  $\\hspace{0.05cm}$ $x_{ir}= 1$\n",
    "\n",
    "<br>\n",
    "\n",
    "-   If  $\\hspace{0.05cm} (\\hat{\\beta}_{r2} - \\hat{\\beta}_{r1} ) + (\\hat{\\beta}_{r2} - \\hat{\\beta}_{r1})\\cdot x_{ki} \\hspace{0.05cm} < \\hspace{0.05cm} 0$  , then\n",
    "\n",
    "    -  $\\hat{y}_i$ $\\hspace{0.05cm}$  is $\\hspace{0.05cm}$ $\\hspace{0.05cm} (\\hat{\\beta}_{r2} - \\hat{\\beta}_{r1} ) + (\\hat{\\beta}_{r2} - \\hat{\\beta}_{r1})\\cdot x_{ki} \\hspace{0.05cm}$ $\\hspace{0.05cm}$ units **less** if $\\hspace{0.05cm}$ $x_{ir}= 2$ $\\hspace{0.05cm}$  than if  $\\hspace{0.05cm}$ $x_{ir}= 1$\n",
    "\n",
    "<br>\n",
    "\n",
    "Note these magnitudes depend on $x_{ik}$ value, because we have set an interaction between $X_k$ and $X_r$ in the model.\n",
    "\n",
    "\n"
   ]
  },
  {
   "cell_type": "markdown",
   "metadata": {},
   "source": [
    "\n",
    "**Observation:**\n",
    "\n",
    "The above affirmations are based in the following:\n",
    "\n",
    "- $(\\hat{y}_i \\hspace{0.05cm} | \\hspace{0.05cm} x_{ir1}=1 ) - (\\hat{y}_i  \\hspace{0.05cm} | \\hspace{0.05cm}  x_{ir0}=1 ) =  \\hat{\\beta}_{r1} + \\hat{\\beta}_{r1k}\\cdot x_{ik}$\n",
    "\n",
    "- $(\\hat{y}_i \\hspace{0.05cm} | \\hspace{0.05cm} x_{ir2}=1 ) - (\\hat{y}_i  \\hspace{0.05cm} | \\hspace{0.05cm}  x_{ir0}=1 ) =  \\hat{\\beta}_{r2} + \\hat{\\beta}_{r2k}\\cdot x_{ik}$\n",
    "\n",
    "- $(\\hat{y}_i \\hspace{0.05cm} | \\hspace{0.05cm} x_{ir2}=1 ) - (\\hat{y}_i  \\hspace{0.05cm} | \\hspace{0.05cm}  x_{ir1}=1 ) =  (\\hat{\\beta}_{r2} - \\hat{\\beta}_{r1} ) + (\\hat{\\beta}_{r2k} - \\hat{\\beta}_{r1k})\\cdot x_{ki}$\n",
    "\n"
   ]
  },
  {
   "cell_type": "markdown",
   "metadata": {},
   "source": []
  },
  {
   "cell_type": "markdown",
   "metadata": {},
   "source": [
    "Note that this can easily be extrapolated to the case of interaction between an $r$-ary categorical variable and a quantitative variable, for $r>3$."
   ]
  },
  {
   "cell_type": "markdown",
   "metadata": {},
   "source": []
  },
  {
   "cell_type": "markdown",
   "metadata": {},
   "source": [
    "### Example of interaction coefficient interpretation <a class=\"anchor\" id=\"36\"></a>\n"
   ]
  },
  {
   "cell_type": "code",
   "execution_count": null,
   "metadata": {},
   "outputs": [
    {
     "name": "stdout",
     "output_type": "stream",
     "text": [
      "                            OLS Regression Results                            \n",
      "==============================================================================\n",
      "Dep. Variable:                  price   R-squared:                       0.709\n",
      "Model:                            OLS   Adj. R-squared:                  0.708\n",
      "Method:                 Least Squares   F-statistic:                     420.2\n",
      "Date:               ju., 14 jul. 2022   Prob (F-statistic):               0.00\n",
      "Time:                        23:16:26   Log-Likelihood:                -29881.\n",
      "No. Observations:                1905   AIC:                         5.979e+04\n",
      "Df Residuals:                    1893   BIC:                         5.985e+04\n",
      "Df Model:                          11                                         \n",
      "Covariance Type:            nonrobust                                         \n",
      "============================================================================================\n",
      "                               coef    std err          t      P>|t|      [0.025      0.975]\n",
      "--------------------------------------------------------------------------------------------\n",
      "Intercept                -5.446e+07   2.94e+07     -1.852      0.064   -1.12e+08    3.21e+06\n",
      "quality[T.1]             -2.353e+05   1.66e+05     -1.418      0.156   -5.61e+05    9.02e+04\n",
      "quality[T.2]             -1.373e+06   2.64e+05     -5.211      0.000   -1.89e+06   -8.56e+05\n",
      "quality[T.3]              1.318e+06   5.24e+05      2.518      0.012    2.91e+05    2.34e+06\n",
      "size_in_m_2               3.163e+04   1150.872     27.479      0.000    2.94e+04    3.39e+04\n",
      "quality[T.1]:size_in_m_2  2908.2719   1105.752      2.630      0.009     739.652    5076.892\n",
      "quality[T.2]:size_in_m_2  1.208e+04   1534.808      7.868      0.000    9065.709    1.51e+04\n",
      "quality[T.3]:size_in_m_2 -1.145e+04   4817.305     -2.377      0.018   -2.09e+04   -2004.309\n",
      "no_of_bedrooms           -7.859e+05   8.16e+04     -9.636      0.000   -9.46e+05   -6.26e+05\n",
      "no_of_bathrooms          -4.202e+04   6.71e+04     -0.626      0.531   -1.74e+05    8.96e+04\n",
      "latitude                  6.219e+06   7.67e+05      8.105      0.000    4.71e+06    7.72e+06\n",
      "longitude                -1.855e+06   6.79e+05     -2.734      0.006   -3.19e+06   -5.24e+05\n",
      "==============================================================================\n",
      "Omnibus:                      880.561   Durbin-Watson:                   1.694\n",
      "Prob(Omnibus):                  0.000   Jarque-Bera (JB):            31738.629\n",
      "Skew:                           1.504   Prob(JB):                         0.00\n",
      "Kurtosis:                      22.769   Cond. No.                     1.59e+05\n",
      "==============================================================================\n",
      "\n",
      "Notes:\n",
      "[1] Standard Errors assume that the covariance matrix of the errors is correctly specified.\n",
      "[2] The condition number is large, 1.59e+05. This might indicate that there are\n",
      "strong multicollinearity or other numerical problems.\n"
     ]
    }
   ],
   "source": [
    "model_Python_2 = smf.ols(formula = 'price ~ size_in_m_2 + no_of_bedrooms + no_of_bathrooms + quality*size_in_m_2 + latitude + longitude', \n",
    "                               data =data_Python)\n",
    "\n",
    "model_Python_2 = model_Python_2.fit()\n",
    " \n",
    "print(model_Python_2.summary())"
   ]
  },
  {
   "cell_type": "markdown",
   "metadata": {},
   "source": [
    "We have got the following:"
   ]
  },
  {
   "cell_type": "markdown",
   "metadata": {},
   "source": [
    " $\\left( \\widehat{price}_i | quality1_i=1 \\right) - \\left(\\widehat{price}_i | quality0_i=1 \\right) = \\hat{\\beta}_{quality1} + \\hat{\\beta}_{quality1:size\\_in\\_m\\_2} \\cdot size\\_in\\_m\\_2_i = -2.353\\cdot 10^5 + 2908.2719  \\cdot size\\_in\\_m\\_2_i$  \n",
    "\n",
    "This magnitude depends on the value of $size\\_in\\_m\\_2_i$\n",
    "\n",
    "For example if $size\\_in\\_m\\_2_i = 100$ , then:\n",
    "\n",
    "$\\left( \\widehat{price}_i | quality1_i=1 \\right) - \\left(\\widehat{price}_i | quality0_i=1 \\right) = 55527.19$\n",
    "\n",
    "So the estimated price of a 100 $m^2$ house is $55527.19$ units greater if $quality1_i=1$ (it has medium quality) than $quality0_i=1$ (it has low quality)"
   ]
  },
  {
   "cell_type": "markdown",
   "metadata": {},
   "source": []
  },
  {
   "cell_type": "markdown",
   "metadata": {},
   "source": [
    "$\\left( \\widehat{price}_i | quality2_i=1 \\right) - \\left(\\widehat{price}_i | quality0_i=1 \\right) = \\hat{\\beta}_{quality2} + \\hat{\\beta}_{quality2:size\\_in\\_m\\_2} \\cdot size\\_in\\_m\\_2_i = -1.373\\cdot 10^6 + 1.208\\cdot 10^4  \\cdot size\\_in\\_m\\_2_i$  \n",
    "\n",
    "This magnitude depends on the value of $size\\_in\\_m\\_2_i$\n",
    "\n",
    "For example if $size\\_in\\_m\\_2_i = 100$ , then:\n",
    "\n",
    "$\\left( \\widehat{price}_i | quality2_i=1 \\right) - \\left(\\widehat{price}_i | quality0_i=1 \\right) = 55527.19$\n",
    "\n",
    "So the estimated price of a 100 $m^2$ house is $165000$ units less if $quality2_i=1$ (it has high quality) than $quality0_i=1$ (it has low quality)"
   ]
  },
  {
   "cell_type": "markdown",
   "metadata": {},
   "source": []
  },
  {
   "cell_type": "markdown",
   "metadata": {},
   "source": [
    "$\\left( \\widehat{price}_i | quality3_i=1 \\right) - \\left(\\widehat{price}_i | quality1_i=1 \\right) = \\left(\\hat{\\beta}_{quality3} - \\hat{\\beta}_{quality1}\\right) + \\left( \\hat{\\beta}_{quality3:size\\_in\\_m\\_2} - \\hat{\\beta}_{quality1:size\\_in\\_m\\_2}\\right)  \\cdot size\\_in\\_m\\_2_i =  (1.318e+06 - (-2.353e+05 )) + (-1.145e+04 + 2908.2719 )\\cdot size\\_in\\_m\\_2_i $  \n",
    "\n",
    "This magnitude depends on the value of $size\\_in\\_m\\_2_i$\n",
    "\n",
    "For example if $size\\_in\\_m\\_2_i = 100$ , then:\n",
    "\n",
    "$\\left( \\widehat{price}_i | quality3_i=1 \\right) - \\left(\\widehat{price}_i | quality1_i=1 \\right) = 699127.19$\n",
    "\n",
    "So the estimated price of a 100 $m^2$ house is $699127.19$ units greater if $quality3_i=1$ (it has ultra quality) than $quality1_i=1$ (it has medium quality)"
   ]
  },
  {
   "cell_type": "markdown",
   "metadata": {},
   "source": []
  },
  {
   "cell_type": "markdown",
   "metadata": {},
   "source": [
    "Note that in all these cases it is assumed that the rest of the model variables don´t vary (have the same values) from one scenario to another."
   ]
  },
  {
   "cell_type": "markdown",
   "metadata": {},
   "source": []
  },
  {
   "cell_type": "markdown",
   "metadata": {},
   "source": [
    "## Inference <a class=\"anchor\" id=\"37\"></a>\n"
   ]
  },
  {
   "cell_type": "markdown",
   "metadata": {},
   "source": [
    "\n",
    "\n",
    "### Confidence Interval for $\\beta_j$ <a class=\"anchor\" id=\"38\"></a>\n",
    "\n",
    " \n",
    "\\begin{gather*}\n",
    "IC\\left(\\beta_j  \\right)= \\left[  \\hat{\\beta}_j \\ \\pm \\ t_{\\alpha/2}^{n-k-1} \\cdot \\sqrt{S_R^2 \\cdot q_{jj}} \\right]\n",
    "\\end{gather*}\n",
    " \n",
    "Where:\n",
    "\n",
    "$q_{jj}$ is the element $j+1$ of the principal diagonal of the matrix\n",
    "$(X^t \\cdot X)^{-1}$ for $j=0,1,...,p$\n",
    "\n",
    " \n",
    "### Confidence Interval for $\\sigma^2$ <a class=\"anchor\" id=\"39\"></a>\n",
    "\n",
    " \n",
    "\n",
    " \n",
    "\\begin{gather*}\n",
    "IC\\left(\\sigma^2  \\right)= \\left[ 0 \\ , \\ \\dfrac{n-k-1}{\\chi_{1-\\alpha/2}^{n-k-1}}\\cdot S_R^2  \\right]\n",
    "\\end{gather*}\n",
    " \n"
   ]
  },
  {
   "cell_type": "markdown",
   "metadata": {},
   "source": [
    "\n",
    "#### Confidence Interval for  $\\beta_j$  in R <a class=\"anchor\" id=\"40\"></a>\n",
    "\n",
    " \n",
    "\n",
    "We can compute de confidence interval of $\\beta_j$ with a confidence\n",
    "level of $95\\%$ for $j=0,1,...,p$\n"
   ]
  },
  {
   "cell_type": "code",
   "execution_count": null,
   "metadata": {},
   "outputs": [
    {
     "name": "stdout",
     "output_type": "stream",
     "text": [
      "                        2.5 %      97.5 %\n",
      "(Intercept)     -120805952.33 -3336872.73\n",
      "size_in_m_2          34244.46    37083.64\n",
      "no_of_bedrooms     -999112.03  -674253.93\n",
      "no_of_bathrooms    -191058.99    76817.37\n",
      "quality1            -23890.75   303928.08\n",
      "quality2             36349.81   644876.40\n",
      "quality3           -108848.86   666371.75\n",
      "latitude           4583358.38  7646505.71\n",
      "longitude         -3031977.51  -322344.39\n"
     ]
    }
   ],
   "source": [
    "%%R\n",
    "\n",
    "confint(model_R_1 , conf.level=0.95)"
   ]
  },
  {
   "cell_type": "markdown",
   "metadata": {},
   "source": [
    "#### Confidence Interval for  $\\beta_j$  in Python <a class=\"anchor\" id=\"41\"></a>\n"
   ]
  },
  {
   "cell_type": "code",
   "execution_count": null,
   "metadata": {},
   "outputs": [
    {
     "data": {
      "text/html": [
       "<div>\n",
       "<style scoped>\n",
       "    .dataframe tbody tr th:only-of-type {\n",
       "        vertical-align: middle;\n",
       "    }\n",
       "\n",
       "    .dataframe tbody tr th {\n",
       "        vertical-align: top;\n",
       "    }\n",
       "\n",
       "    .dataframe thead th {\n",
       "        text-align: right;\n",
       "    }\n",
       "</style>\n",
       "<table border=\"1\" class=\"dataframe\">\n",
       "  <thead>\n",
       "    <tr style=\"text-align: right;\">\n",
       "      <th></th>\n",
       "      <th>2.5%</th>\n",
       "      <th>97.5%</th>\n",
       "    </tr>\n",
       "  </thead>\n",
       "  <tbody>\n",
       "    <tr>\n",
       "      <th>Intercept</th>\n",
       "      <td>-1.208060e+08</td>\n",
       "      <td>-3.336873e+06</td>\n",
       "    </tr>\n",
       "    <tr>\n",
       "      <th>quality[T.1]</th>\n",
       "      <td>-2.389075e+04</td>\n",
       "      <td>3.039281e+05</td>\n",
       "    </tr>\n",
       "    <tr>\n",
       "      <th>quality[T.2]</th>\n",
       "      <td>3.634981e+04</td>\n",
       "      <td>6.448764e+05</td>\n",
       "    </tr>\n",
       "    <tr>\n",
       "      <th>quality[T.3]</th>\n",
       "      <td>-1.088489e+05</td>\n",
       "      <td>6.663718e+05</td>\n",
       "    </tr>\n",
       "    <tr>\n",
       "      <th>size_in_m_2</th>\n",
       "      <td>3.424446e+04</td>\n",
       "      <td>3.708364e+04</td>\n",
       "    </tr>\n",
       "    <tr>\n",
       "      <th>no_of_bedrooms</th>\n",
       "      <td>-9.991120e+05</td>\n",
       "      <td>-6.742539e+05</td>\n",
       "    </tr>\n",
       "    <tr>\n",
       "      <th>no_of_bathrooms</th>\n",
       "      <td>-1.910590e+05</td>\n",
       "      <td>7.681737e+04</td>\n",
       "    </tr>\n",
       "    <tr>\n",
       "      <th>latitude</th>\n",
       "      <td>4.583358e+06</td>\n",
       "      <td>7.646506e+06</td>\n",
       "    </tr>\n",
       "    <tr>\n",
       "      <th>longitude</th>\n",
       "      <td>-3.031978e+06</td>\n",
       "      <td>-3.223444e+05</td>\n",
       "    </tr>\n",
       "  </tbody>\n",
       "</table>\n",
       "</div>"
      ],
      "text/plain": [
       "                         2.5%         97.5%\n",
       "Intercept       -1.208060e+08 -3.336873e+06\n",
       "quality[T.1]    -2.389075e+04  3.039281e+05\n",
       "quality[T.2]     3.634981e+04  6.448764e+05\n",
       "quality[T.3]    -1.088489e+05  6.663718e+05\n",
       "size_in_m_2      3.424446e+04  3.708364e+04\n",
       "no_of_bedrooms  -9.991120e+05 -6.742539e+05\n",
       "no_of_bathrooms -1.910590e+05  7.681737e+04\n",
       "latitude         4.583358e+06  7.646506e+06\n",
       "longitude       -3.031978e+06 -3.223444e+05"
      ]
     },
     "execution_count": 61,
     "metadata": {},
     "output_type": "execute_result"
    }
   ],
   "source": [
    "beta_intervals = model_Python_1.conf_int(alpha=0.05)\n",
    "beta_intervals.columns = ['2.5%', '97.5%']\n",
    "beta_intervals"
   ]
  },
  {
   "cell_type": "markdown",
   "metadata": {},
   "source": [
    "\n",
    "Then, for example, we have:\n",
    "\n",
    " \n",
    "$$\n",
    "IC(\\beta_0)=\\left[-1.208060e+08 \\ , \\ -3.336873e+06 \\right] \\\\\n",
    "IC(\\beta_{size\\_in\\_m\\_2})=\\left[ 3.424446e+04   \\ , \\ 3.708364e+04 \\right] \n",
    "$$\n",
    " \n"
   ]
  },
  {
   "cell_type": "markdown",
   "metadata": {},
   "source": [
    "We also have this information in the output obtained with `print(model_Python_1.summary())`"
   ]
  },
  {
   "cell_type": "markdown",
   "metadata": {},
   "source": []
  },
  {
   "cell_type": "markdown",
   "metadata": {},
   "source": [
    "\n",
    "#### Confidence Interval for  $\\sigma^2$  in R <a class=\"anchor\" id=\"42\"></a>\n",
    "\n",
    " \n",
    "\n",
    "We can compute de confidence interval of $\\sigma^2$ with a confidence\n",
    "level of $95\\%$ usingl the package \"model\".\n",
    "\n",
    "We can load this package running the following code:\n"
   ]
  },
  {
   "cell_type": "code",
   "execution_count": null,
   "metadata": {},
   "outputs": [
    {
     "name": "stdout",
     "output_type": "stream",
     "text": [
      "NULL\n"
     ]
    }
   ],
   "source": [
    "%%R \n",
    "\n",
    "# install.packages(\"remotes\")\n",
    "# remotes::install_github(\"fhernanb/model\")"
   ]
  },
  {
   "cell_type": "code",
   "execution_count": null,
   "metadata": {},
   "outputs": [
    {
     "name": "stderr",
     "output_type": "stream",
     "text": [
      "R[write to console]: Registered S3 method overwritten by 'gamlss':\n",
      "  method   from\n",
      "  print.ri bit \n",
      "\n"
     ]
    },
    {
     "name": "stdout",
     "output_type": "stream",
     "text": [
      "              2.5 %       97.5 %\n",
      "Sigma2 2.418577e+12 2.747045e+12\n"
     ]
    }
   ],
   "source": [
    "%%R\n",
    " \n",
    "library(model)\n",
    "\n",
    "confint_sigma2(object=model_R_1 , level=0.95)"
   ]
  },
  {
   "cell_type": "markdown",
   "metadata": {},
   "source": [
    "\n",
    "Then, we have:\n",
    "\n",
    " \n",
    "\\begin{gather*}\n",
    "IC(\\sigma^2)=\\left[2.418577e+12   \\ , \\ 2.747045e+12 \\right]\n",
    "\\end{gather*}\n",
    " \n",
    " \n"
   ]
  },
  {
   "cell_type": "markdown",
   "metadata": {},
   "source": [
    "#### Confidence Interval for  $\\sigma^2$  in Python <a class=\"anchor\" id=\"43\"></a>\n"
   ]
  },
  {
   "cell_type": "markdown",
   "metadata": {},
   "source": [
    "In this case we will use the interval expression before defined:"
   ]
  },
  {
   "cell_type": "code",
   "execution_count": null,
   "metadata": {},
   "outputs": [],
   "source": [
    "import scipy"
   ]
  },
  {
   "cell_type": "code",
   "execution_count": null,
   "metadata": {},
   "outputs": [
    {
     "data": {
      "text/plain": [
       "2020.6396883733012"
      ]
     },
     "execution_count": 65,
     "metadata": {},
     "output_type": "execute_result"
    }
   ],
   "source": [
    "n=len(data_Python)\n",
    "p=6\n",
    "scipy.stats.chi2.ppf(0.975, n-p-1)"
   ]
  },
  {
   "cell_type": "code",
   "execution_count": null,
   "metadata": {},
   "outputs": [
    {
     "data": {
      "text/plain": [
       "[0, 4884653004546394.0]"
      ]
     },
     "execution_count": 66,
     "metadata": {},
     "output_type": "execute_result"
    }
   ],
   "source": [
    "b = ( n-p-1 / scipy.stats.chi2.ppf(0.975, n-p-1))*estimated_variance_train_error\n",
    "\n",
    "interval_sigma2 = [0,b]\n",
    "interval_sigma2"
   ]
  },
  {
   "cell_type": "markdown",
   "metadata": {},
   "source": []
  },
  {
   "cell_type": "markdown",
   "metadata": {},
   "source": [
    "\n",
    "### t-test: Test for $\\beta_j$ <a class=\"anchor\" id=\"44\"></a>\n",
    "\n",
    " \n",
    "\n",
    "We can carry out the following three test:\n",
    "\n",
    "|                               |                            |                            |\n",
    "|:------------------------:|:---------------------:|:---------------------:|\n",
    "|  $H_0: \\beta_j = \\beta_j^*$   | $H_0: \\beta_j = \\beta_j^*$ | $H_0: \\beta_j = \\beta_j^*$ |\n",
    "| $H_1: \\beta_j \\neq \\beta_j^*$ | $H_1: \\beta_j > \\beta_j^*$ | $H_1: \\beta_j < \\beta_j^*$ |\n",
    "\n",
    "  \n",
    "\n",
    "#### Test Statistic:\n",
    "\n",
    " \n",
    "\n",
    "The test statistic for any of the previous test is:\n",
    "\n",
    " \n",
    "\\begin{gather*}\n",
    "t_{exp | H_0}=\\dfrac{\\hat{\\beta}_j - \\beta_j^*}{\\sqrt{S_R \\cdot q_{jj}}} \\sim t_{n-p}\n",
    "\\end{gather*}\n",
    " \n",
    " \n",
    "\n",
    "#### Decision Rule\n",
    "\n",
    " \n",
    "\n",
    "For a fixed signification level $\\alpha$\n",
    "\n",
    "-   Caso   $H_0: \\beta_j = \\beta_j^*$  vs  $H_1: \\beta_j \\neq \\beta_j^*$\n",
    "\n",
    "          Based in test statistic\n",
    "\n",
    " \n",
    "\\begin{gather*}\n",
    "Reject \\ H_0 \\ \\Leftrightarrow \\ t_{exp|H_0} > t_{\\alpha/2}^{n-p} \\ ó \\ t_{exp|H_0} < t_{1-\\alpha/2}^{n-p}\n",
    "\\end{gather*}\n",
    " \n",
    " \n",
    "\n",
    "         Based in p-value\n",
    "\n",
    " \n",
    "\\begin{gather*}\n",
    "pvalue=2\\cdot P( t_{n-p} \\geqslant \\mid t_{exp|H_0} \\mid ) \\\\ \\\\\n",
    "Reject \\ H_0  \\ \\Leftrightarrow \\ pvalue < \\alpha\n",
    "\\end{gather*}\n",
    " \n",
    " \n",
    "\n",
    "-   Caso   $H_0: \\beta_j = \\beta_j^*$  vs  $H_1: \\beta_j > \\beta_j^*$\n",
    "\n",
    "         Based in test statistic\n",
    "\n",
    " \n",
    "\\begin{gather*}\n",
    "Reject \\ H_0 \\ \\Leftrightarrow \\ t_{exp|H_0} > t_{\\alpha/2}^{n-p}\n",
    "\\end{gather*}\n",
    " \n",
    "\n",
    "         Based in p-value\n",
    "\n",
    " \n",
    "\\begin{gather*}\n",
    "pvalue=2\\cdot P( t_{n-p} \\geqslant t_{exp|H_0} ) \\\\ \\\\\n",
    "Reject \\ H_0  \\ \\Leftrightarrow \\ pvalue < \\alpha\n",
    "\\end{gather*}\n",
    " \n",
    "-   Caso   $H_0: \\beta_j = \\beta_j^*$  vs  $H_1: \\beta_j < \\beta_j^*$\n",
    "\n",
    "         Based in test statistic\n",
    "\n",
    " \n",
    "\\begin{gather*}\n",
    "Reject \\ H_0 \\ \\Leftrightarrow \\ t_{exp|H_0} < t_{1-\\alpha/2}^{n-p}\n",
    "\\end{gather*}\n",
    " \n",
    " \n",
    "\n",
    "         Based in p-value\n",
    "\n",
    " \n",
    "\\begin{gather*}\n",
    "pvalue=2\\cdot P( t_{n-p} \\leqslant t_{exp|H_0} ) \\\\ \\\\\n",
    "Reject \\ H_0  \\ \\Leftrightarrow \\ pvalue < \\alpha\n",
    "\\end{gather*}\n",
    " \n",
    "\n",
    " \n"
   ]
  },
  {
   "cell_type": "markdown",
   "metadata": {},
   "source": [
    "\n",
    "### Test of Significance for $\\beta_j$ <a class=\"anchor\" id=\"45\"></a>\n",
    "\n",
    " \n",
    "\n",
    "The test of significance for the coefficient $\\beta_j$ is the following\n",
    "test:\n",
    "\n",
    " \n",
    "\\begin{gather*}\n",
    "H_0: \\beta_j=0 \\\\\n",
    "H_1: \\beta_j \\neq 0\n",
    "\\end{gather*}\n",
    " \n",
    " \n",
    "\n",
    "The test statistic is the previously exposed, taking into account that\n",
    "now $\\beta_j^*=0$\n",
    "\n",
    " \n",
    "\\begin{gather*}\n",
    "t_{exp | H_0}=\\dfrac{\\hat{\\beta}_j - 0}{\\sqrt{S_R \\cdot q_{jj}}} \\sim t_{n-p}\n",
    "\\end{gather*}\n",
    " \n",
    " \n",
    "\n",
    "The decision rules are the same too\n",
    "\n",
    " \n",
    "\\begin{gather*}\n",
    "Reject \\ H_0  \\ \\Leftrightarrow \\ pvalue < \\alpha\n",
    "\\end{gather*}\n",
    " \n"
   ]
  },
  {
   "cell_type": "markdown",
   "metadata": {},
   "source": []
  },
  {
   "cell_type": "markdown",
   "metadata": {},
   "source": [
    "\n",
    "#### Test of Significance  in R <a class=\"anchor\" id=\"46\"></a>"
   ]
  },
  {
   "cell_type": "markdown",
   "metadata": {},
   "source": [
    "The value of $\\hspace{0.1cm} t_{exp|H_0} \\hspace{0.1cm}$ and also the p-value of the test of significance for $\\beta_j$ could be found in the output obtained with `summary(model_R_1)`"
   ]
  },
  {
   "cell_type": "code",
   "execution_count": null,
   "metadata": {},
   "outputs": [
    {
     "name": "stdout",
     "output_type": "stream",
     "text": [
      "\n",
      "Call:\n",
      "lm(formula = price ~ size_in_m_2 + no_of_bedrooms + no_of_bathrooms + \n",
      "    quality + latitude + longitude, data = data_R)\n",
      "\n",
      "Residuals:\n",
      "      Min        1Q    Median        3Q       Max \n",
      "-13398393   -562302     68143    562733  15384235 \n",
      "\n",
      "Coefficients:\n",
      "                  Estimate Std. Error t value Pr(>|t|)    \n",
      "(Intercept)     -6.207e+07  2.995e+07  -2.073   0.0383 *  \n",
      "size_in_m_2      3.566e+04  7.238e+02  49.271  < 2e-16 ***\n",
      "no_of_bedrooms  -8.367e+05  8.282e+04 -10.102  < 2e-16 ***\n",
      "no_of_bathrooms -5.712e+04  6.829e+04  -0.836   0.4030    \n",
      "quality1         1.400e+05  8.358e+04   1.675   0.0940 .  \n",
      "quality2         3.406e+05  1.551e+05   2.196   0.0282 *  \n",
      "quality3         2.788e+05  1.976e+05   1.410   0.1586    \n",
      "latitude         6.115e+06  7.809e+05   7.830 8.03e-15 ***\n",
      "longitude       -1.677e+06  6.908e+05  -2.428   0.0153 *  \n",
      "---\n",
      "Signif. codes:  0 '***' 0.001 '**' 0.01 '*' 0.05 '.' 0.1 ' ' 1\n",
      "\n",
      "Residual standard error: 1605000 on 1896 degrees of freedom\n",
      "Multiple R-squared:  0.6979,\tAdjusted R-squared:  0.6966 \n",
      "F-statistic: 547.4 on 8 and 1896 DF,  p-value: < 2.2e-16\n",
      "\n"
     ]
    }
   ],
   "source": [
    "%%R\n",
    "summary(model_R_1)"
   ]
  },
  {
   "cell_type": "markdown",
   "metadata": {},
   "source": [
    "#### Test of Significance  in Python <a class=\"anchor\" id=\"47\"></a>\n"
   ]
  },
  {
   "cell_type": "markdown",
   "metadata": {},
   "source": [
    "The value of $\\hspace{0.1cm} t_{exp|H_0} \\hspace{0.1cm}$ and also the p-value of the test of significance for $\\beta_j$ could be found in the output obtained with `print(model_Python_1.summary())`"
   ]
  },
  {
   "cell_type": "code",
   "execution_count": null,
   "metadata": {},
   "outputs": [
    {
     "name": "stdout",
     "output_type": "stream",
     "text": [
      "                            OLS Regression Results                            \n",
      "==============================================================================\n",
      "Dep. Variable:                  price   R-squared:                       0.698\n",
      "Model:                            OLS   Adj. R-squared:                  0.697\n",
      "Method:                 Least Squares   F-statistic:                     547.4\n",
      "Date:               ju., 14 jul. 2022   Prob (F-statistic):               0.00\n",
      "Time:                        23:16:34   Log-Likelihood:                -29918.\n",
      "No. Observations:                1905   AIC:                         5.985e+04\n",
      "Df Residuals:                    1896   BIC:                         5.990e+04\n",
      "Df Model:                           8                                         \n",
      "Covariance Type:            nonrobust                                         \n",
      "===================================================================================\n",
      "                      coef    std err          t      P>|t|      [0.025      0.975]\n",
      "-----------------------------------------------------------------------------------\n",
      "Intercept       -6.207e+07   2.99e+07     -2.073      0.038   -1.21e+08   -3.34e+06\n",
      "quality[T.1]       1.4e+05   8.36e+04      1.675      0.094   -2.39e+04    3.04e+05\n",
      "quality[T.2]     3.406e+05   1.55e+05      2.196      0.028    3.63e+04    6.45e+05\n",
      "quality[T.3]     2.788e+05   1.98e+05      1.410      0.159   -1.09e+05    6.66e+05\n",
      "size_in_m_2      3.566e+04    723.831     49.271      0.000    3.42e+04    3.71e+04\n",
      "no_of_bedrooms  -8.367e+05   8.28e+04    -10.102      0.000   -9.99e+05   -6.74e+05\n",
      "no_of_bathrooms -5.712e+04   6.83e+04     -0.836      0.403   -1.91e+05    7.68e+04\n",
      "latitude         6.115e+06   7.81e+05      7.830      0.000    4.58e+06    7.65e+06\n",
      "longitude       -1.677e+06   6.91e+05     -2.428      0.015   -3.03e+06   -3.22e+05\n",
      "==============================================================================\n",
      "Omnibus:                      779.851   Durbin-Watson:                   1.716\n",
      "Prob(Omnibus):                  0.000   Jarque-Bera (JB):            25742.187\n",
      "Skew:                           1.273   Prob(JB):                         0.00\n",
      "Kurtosis:                      20.828   Cond. No.                     1.34e+05\n",
      "==============================================================================\n",
      "\n",
      "Notes:\n",
      "[1] Standard Errors assume that the covariance matrix of the errors is correctly specified.\n",
      "[2] The condition number is large, 1.34e+05. This might indicate that there are\n",
      "strong multicollinearity or other numerical problems.\n"
     ]
    }
   ],
   "source": [
    "print(model_Python_1.summary())"
   ]
  },
  {
   "cell_type": "markdown",
   "metadata": {},
   "source": [
    "The p-values we have got are the following:"
   ]
  },
  {
   "cell_type": "markdown",
   "metadata": {},
   "source": [
    "\n",
    "\\begin{gather*}\n",
    "H_0: \\beta_{quality1}=0 \\\\\n",
    "H_1: \\beta_{quality1} \\neq 0 \\\\ \\\\\n",
    "pvalue = 0.094   \n",
    "\\end{gather*}\n",
    "\n",
    "\n",
    "\n",
    "For $\\hspace{0.05cm} \\alpha = 0.05 < 0.094$ $\\hspace{0.1cm} \\Rightarrow \\hspace{0.1cm}$ $Not \\hspace{0.08cm} Reject  \\hspace{0.08cm} H_0 : \\hspace{0.05cm} \\beta_{quality1}=0 \\hspace{0.1cm} \\Rightarrow \\hspace{0.1cm}$ $quality1$ isn´t a significance variable"
   ]
  },
  {
   "cell_type": "markdown",
   "metadata": {},
   "source": []
  },
  {
   "cell_type": "markdown",
   "metadata": {},
   "source": [
    "\n",
    "\\begin{gather*}\n",
    "H_0: \\beta_{quality2}=0 \\\\\n",
    "H_1: \\beta_{quality2} \\neq 0 \\\\ \\\\\n",
    "pvalue = 0.028    \n",
    "\\end{gather*}\n",
    "\n",
    "\n",
    "For $\\hspace{0.05cm} \\alpha = 0.05 > 0.028$ $\\hspace{0.1cm} \\Rightarrow \\hspace{0.1cm}$ $Reject  \\hspace{0.08cm} H_0 : \\hspace{0.05cm} \\beta_{quality2}=0 \\hspace{0.1cm} \\Rightarrow \\hspace{0.1cm} Accept  \\hspace{0.08cm} H_1 : \\hspace{0.05cm} \\beta_{quality2}\\neq 0$ $quality2$ is a significance variable"
   ]
  },
  {
   "cell_type": "markdown",
   "metadata": {},
   "source": []
  },
  {
   "cell_type": "markdown",
   "metadata": {},
   "source": [
    "\n",
    "\\begin{gather*}\n",
    "H_0: \\beta_{quality3}=0 \\\\\n",
    "H_1: \\beta_{quality3} \\neq 0 \\\\ \\\\\n",
    "pvalue = 0.159 \n",
    "\\end{gather*}\n",
    "\n",
    "For $\\hspace{0.05cm} \\alpha = 0.05 < 0.159$ $\\hspace{0.1cm} \\Rightarrow \\hspace{0.1cm}$ $Not Reject  \\hspace{0.08cm} H_0 : \\hspace{0.05cm} \\beta_{quality3}=0 \\hspace{0.1cm} \\Rightarrow \\hspace{0.1cm}$ $quality3$ isn´t a significance variable\n",
    "\n"
   ]
  },
  {
   "cell_type": "markdown",
   "metadata": {},
   "source": []
  },
  {
   "cell_type": "markdown",
   "metadata": {},
   "source": [
    "\n",
    "\\begin{gather*}\n",
    "H_0: \\beta_{size\\_in\\_m\\_2}=0 \\\\\n",
    "H_1: \\beta_{size\\_in\\_m\\_2} \\neq 0 \\\\ \\\\\n",
    "pvalue \\simeq 0\n",
    "\\end{gather*}\n",
    "\n",
    "For $\\hspace{0.05cm} \\alpha = 0.05 < 0$ $\\hspace{0.1cm} \\Rightarrow \\hspace{0.1cm}$ $Reject  \\hspace{0.08cm} H_0 : \\hspace{0.05cm} \\beta_{size\\_in\\_m\\_2}=0 \\hspace{0.1cm} \\Rightarrow \\hspace{0.1cm}$ $size\\_in\\_m\\_2$ is a significance variable\n"
   ]
  },
  {
   "cell_type": "markdown",
   "metadata": {},
   "source": []
  },
  {
   "cell_type": "markdown",
   "metadata": {},
   "source": [
    "\n",
    "\\begin{gather*}\n",
    "H_0: \\beta_{no\\_of\\_bedrooms}=0 \\\\\n",
    "H_1: \\beta_{no\\_of\\_bedrooms} \\neq 0 \\\\ \\\\\n",
    "pvalue \\simeq 0\n",
    "\\end{gather*}\n",
    "\n",
    "For $\\hspace{0.05cm} \\alpha = 0.05 < 0$ $\\hspace{0.1cm} \\Rightarrow \\hspace{0.1cm}$ $Reject  \\hspace{0.08cm} H_0 : \\hspace{0.05cm} \\beta_{no\\_of\\_bedrooms}=0 \\hspace{0.1cm} \\Rightarrow \\hspace{0.1cm}$ $no\\_of\\_bedrooms$ is a significance variable\n"
   ]
  },
  {
   "cell_type": "markdown",
   "metadata": {},
   "source": []
  },
  {
   "cell_type": "markdown",
   "metadata": {},
   "source": [
    "\n",
    "\n",
    "\\begin{gather*}\n",
    "H_0: \\beta_{no\\_of\\_bathrooms}=0 \\\\\n",
    "H_1: \\beta_{no\\_of\\_bathrooms} \\neq 0 \\\\ \\\\\n",
    "pvalue =  0.403\n",
    "\\end{gather*}\n",
    "\n",
    "For $\\hspace{0.05cm} \\alpha = 0.05 < 0.403$ $\\hspace{0.1cm} \\Rightarrow \\hspace{0.1cm}$ $Not Reject  \\hspace{0.08cm} H_0 : \\hspace{0.05cm} \\beta_{no\\_of\\_bathrooms}=0 \\hspace{0.1cm} \\Rightarrow \\hspace{0.1cm}$ $no\\_of\\_bathrooms$ isn´t a significance variable\n"
   ]
  },
  {
   "cell_type": "markdown",
   "metadata": {},
   "source": []
  },
  {
   "cell_type": "markdown",
   "metadata": {},
   "source": [
    "\n",
    "\\begin{gather*}\n",
    "H_0: \\beta_{latitude}=0 \\\\\n",
    "H_1: \\beta_{latitude} \\neq 0 \\\\ \\\\\n",
    "pvalue \\simeq 0\n",
    "\\end{gather*}\n",
    "\n",
    "For $\\hspace{0.05cm} \\alpha = 0.05 > 0$ $\\hspace{0.1cm} \\Rightarrow \\hspace{0.1cm}$ $Reject  \\hspace{0.08cm} H_0 : \\hspace{0.05cm} \\beta_{latitude}=0 \\hspace{0.1cm} \\Rightarrow \\hspace{0.1cm}$ $latitude$ is a significance variable"
   ]
  },
  {
   "cell_type": "markdown",
   "metadata": {},
   "source": []
  },
  {
   "cell_type": "markdown",
   "metadata": {},
   "source": [
    "\\begin{gather*}\n",
    "H_0: \\beta_{longitude}=0 \\\\\n",
    "H_1: \\beta_{longitude} \\neq 0 \\\\ \\\\\n",
    "pvalue = 0.015\n",
    "\\end{gather*}\n",
    "\n",
    "For $\\hspace{0.05cm} \\alpha = 0.05 > 0.015$ $\\hspace{0.1cm} \\Rightarrow \\hspace{0.1cm}$ $Reject  \\hspace{0.08cm} H_0 : \\hspace{0.05cm} \\beta_{longitude}=0 \\hspace{0.1cm} \\Rightarrow \\hspace{0.1cm}$ $longitude$ is a significance variable"
   ]
  },
  {
   "cell_type": "markdown",
   "metadata": {},
   "source": []
  },
  {
   "cell_type": "markdown",
   "metadata": {},
   "source": [
    "\n",
    "### ANOVA Test  <a class=\"anchor\" id=\"48\"></a>\n",
    "\n",
    "The ANOVA test is also called test of Model Global Significance :\n",
    " \n",
    "\\begin{gather*}\n",
    "H_0: \\beta_0=\\beta_1=...=\\beta_p=0 \\\\\n",
    "H_1: \\exists \\ j=0,1,...,p , \\ \\beta_j \\neq 0\n",
    "\\end{gather*}\n",
    " \n",
    " \n"
   ]
  },
  {
   "cell_type": "markdown",
   "metadata": {},
   "source": [
    "\n",
    "#### Statistic test\n",
    "\n",
    " \n",
    "\n",
    "For define the test statistic , firt we have to define some elements:\n",
    "\n",
    "-   Total Sum Squares (TSS)\n",
    "\n",
    " \\begin{gather*}\n",
    "TSS=  \\sum_{i=1}^n \\hat{\\varepsilon}_i^2 =  \\sum_{i=1}^n ( y_i - \\overline{y})^2\n",
    "\\end{gather*}\n",
    " \n",
    "-   Residual Sum Squares (RSS)\n",
    "\n",
    " \\begin{gather*}\n",
    "RSS=  \\sum_{i=1}^n \\hat{\\varepsilon}_i^2 =  \\sum_{i=1}^n ( y_i - \\hat{y}_i)^2\n",
    "\\end{gather*}\n",
    " \n",
    "-   Regression Sum Squares (RegSS)\n",
    "\n",
    " \n",
    "\\begin{gather*}\n",
    "RegSS=  \\sum_{i=1}^n \\hat{\\varepsilon}_i^2 =  \\sum_{i=1}^n ( \\hat{y}_i - \\overline{y} )^2\n",
    "\\end{gather*}\n",
    " \n",
    "\n",
    "It can be proved that:\n",
    "\n",
    " \n",
    "\\begin{gather*}\n",
    "TSS=RSS+RegSS\n",
    "\\end{gather*}\n",
    " \n",
    "\n",
    "-   TSS is the total variance of the response variable Y\n",
    "\n",
    "-   RegSS is the variance of the response variable explained by the\n",
    "    model\n",
    "\n",
    "-   RSS is the variance of the response variable not explained by the\n",
    "    model\n",
    "\n",
    " \n",
    "\n",
    "Now we can define the test statistic as:\n",
    "\n",
    " \n",
    "\\begin{gather*}\n",
    "F_{exp|H_0}= \\dfrac{(TSS-RSS)/(p)}{RSS/(n-p-1)} \\sim F_{\\hspace{0.05cm}p,\\hspace{0.05cm} n-p-1}\n",
    "\\end{gather*}\n",
    " \n",
    "Where:  $p$ is the number of predictor variables $X_1,...,X_p$ of the\n",
    "model\n",
    "\n",
    " \n"
   ]
  },
  {
   "cell_type": "markdown",
   "metadata": {},
   "source": [
    "\n",
    "#### Decision Rule\n",
    "\n",
    " \n",
    "\n",
    "-   Based on statistic test:\n",
    "\n",
    " \n",
    "\\begin{gather*}\n",
    "Reject \\ H_0 \\ \\Leftrightarrow \\ F_{exp|H_0} > F_{\\alpha}^{\\hspace{0.1cm}p,\\hspace{0.05cm} n-p-1}\n",
    "\\end{gather*}\n",
    " \n",
    "-   Based on p-value:\n",
    "\n",
    " \n",
    "\\begin{gather*}\n",
    "Reject \\ H_0  \\ \\Leftrightarrow \\ pvalue < \\alpha\n",
    "\\end{gather*}\n",
    " \n"
   ]
  },
  {
   "cell_type": "markdown",
   "metadata": {},
   "source": []
  },
  {
   "cell_type": "markdown",
   "metadata": {},
   "source": [
    "#### ANOVA test in R <a class=\"anchor\" id=\"49\"></a>"
   ]
  },
  {
   "cell_type": "markdown",
   "metadata": {},
   "source": []
  },
  {
   "cell_type": "code",
   "execution_count": null,
   "metadata": {},
   "outputs": [
    {
     "name": "stdout",
     "output_type": "stream",
     "text": [
      "\n",
      "Call:\n",
      "lm(formula = price ~ size_in_m_2 + no_of_bedrooms + no_of_bathrooms + \n",
      "    quality + latitude + longitude, data = data_R)\n",
      "\n",
      "Residuals:\n",
      "      Min        1Q    Median        3Q       Max \n",
      "-13398393   -562302     68143    562733  15384235 \n",
      "\n",
      "Coefficients:\n",
      "                  Estimate Std. Error t value Pr(>|t|)    \n",
      "(Intercept)     -6.207e+07  2.995e+07  -2.073   0.0383 *  \n",
      "size_in_m_2      3.566e+04  7.238e+02  49.271  < 2e-16 ***\n",
      "no_of_bedrooms  -8.367e+05  8.282e+04 -10.102  < 2e-16 ***\n",
      "no_of_bathrooms -5.712e+04  6.829e+04  -0.836   0.4030    \n",
      "quality1         1.400e+05  8.358e+04   1.675   0.0940 .  \n",
      "quality2         3.406e+05  1.551e+05   2.196   0.0282 *  \n",
      "quality3         2.788e+05  1.976e+05   1.410   0.1586    \n",
      "latitude         6.115e+06  7.809e+05   7.830 8.03e-15 ***\n",
      "longitude       -1.677e+06  6.908e+05  -2.428   0.0153 *  \n",
      "---\n",
      "Signif. codes:  0 '***' 0.001 '**' 0.01 '*' 0.05 '.' 0.1 ' ' 1\n",
      "\n",
      "Residual standard error: 1605000 on 1896 degrees of freedom\n",
      "Multiple R-squared:  0.6979,\tAdjusted R-squared:  0.6966 \n",
      "F-statistic: 547.4 on 8 and 1896 DF,  p-value: < 2.2e-16\n",
      "\n"
     ]
    }
   ],
   "source": [
    "%%R\n",
    "summary(model_R_1)"
   ]
  },
  {
   "cell_type": "markdown",
   "metadata": {},
   "source": []
  },
  {
   "cell_type": "markdown",
   "metadata": {},
   "source": [
    "#### ANOVA test in Python  <a class=\"anchor\" id=\"50\"></a>"
   ]
  },
  {
   "cell_type": "markdown",
   "metadata": {},
   "source": [
    "The value of $\\hspace{0.1cm} F_{exp|H_0}$ and also the p-value of the ANOVA test could be found in the output obtained with `print(model_Python_1.summary())`"
   ]
  },
  {
   "cell_type": "code",
   "execution_count": null,
   "metadata": {},
   "outputs": [
    {
     "name": "stdout",
     "output_type": "stream",
     "text": [
      "                            OLS Regression Results                            \n",
      "==============================================================================\n",
      "Dep. Variable:                  price   R-squared:                       0.698\n",
      "Model:                            OLS   Adj. R-squared:                  0.697\n",
      "Method:                 Least Squares   F-statistic:                     547.4\n",
      "Date:               ju., 14 jul. 2022   Prob (F-statistic):               0.00\n",
      "Time:                        23:16:37   Log-Likelihood:                -29918.\n",
      "No. Observations:                1905   AIC:                         5.985e+04\n",
      "Df Residuals:                    1896   BIC:                         5.990e+04\n",
      "Df Model:                           8                                         \n",
      "Covariance Type:            nonrobust                                         \n",
      "===================================================================================\n",
      "                      coef    std err          t      P>|t|      [0.025      0.975]\n",
      "-----------------------------------------------------------------------------------\n",
      "Intercept       -6.207e+07   2.99e+07     -2.073      0.038   -1.21e+08   -3.34e+06\n",
      "quality[T.1]       1.4e+05   8.36e+04      1.675      0.094   -2.39e+04    3.04e+05\n",
      "quality[T.2]     3.406e+05   1.55e+05      2.196      0.028    3.63e+04    6.45e+05\n",
      "quality[T.3]     2.788e+05   1.98e+05      1.410      0.159   -1.09e+05    6.66e+05\n",
      "size_in_m_2      3.566e+04    723.831     49.271      0.000    3.42e+04    3.71e+04\n",
      "no_of_bedrooms  -8.367e+05   8.28e+04    -10.102      0.000   -9.99e+05   -6.74e+05\n",
      "no_of_bathrooms -5.712e+04   6.83e+04     -0.836      0.403   -1.91e+05    7.68e+04\n",
      "latitude         6.115e+06   7.81e+05      7.830      0.000    4.58e+06    7.65e+06\n",
      "longitude       -1.677e+06   6.91e+05     -2.428      0.015   -3.03e+06   -3.22e+05\n",
      "==============================================================================\n",
      "Omnibus:                      779.851   Durbin-Watson:                   1.716\n",
      "Prob(Omnibus):                  0.000   Jarque-Bera (JB):            25742.187\n",
      "Skew:                           1.273   Prob(JB):                         0.00\n",
      "Kurtosis:                      20.828   Cond. No.                     1.34e+05\n",
      "==============================================================================\n",
      "\n",
      "Notes:\n",
      "[1] Standard Errors assume that the covariance matrix of the errors is correctly specified.\n",
      "[2] The condition number is large, 1.34e+05. This might indicate that there are\n",
      "strong multicollinearity or other numerical problems.\n"
     ]
    }
   ],
   "source": [
    "print(model_Python_1.summary())"
   ]
  },
  {
   "cell_type": "markdown",
   "metadata": {},
   "source": []
  },
  {
   "cell_type": "markdown",
   "metadata": {},
   "source": [
    "We have got the following:"
   ]
  },
  {
   "cell_type": "markdown",
   "metadata": {},
   "source": [
    "$\\hspace{4cm} F_{exp|H_0} = 547.4$ $\\hspace{0.3cm}$ (F-statistic) \n",
    "\n",
    "$\\hspace{4cm} pvalue \\simeq 0$ $\\hspace{0.3cm}$  (Prob (F-statistic))"
   ]
  },
  {
   "cell_type": "markdown",
   "metadata": {},
   "source": []
  },
  {
   "cell_type": "markdown",
   "metadata": {},
   "source": [
    "## Goodness of Fit: Determination Coefficient (R-square) <a class=\"anchor\" id=\"51\"></a>\n",
    "\n",
    " \n",
    "\n",
    "The determination coefficient, also called R-square, is defined as:\n",
    "\n",
    " \n",
    "\\begin{gather*}\n",
    "R^2 = \\dfrac{RegSS}{TSS}\n",
    "\\end{gather*}\n",
    " \n",
    "\n",
    "**Properties**\n",
    "\n",
    "-   \\$ R\\^2\\$ is the propotion of total variance of the response\n",
    "    variable data that is explained by the model.\n",
    "\n",
    "-   $R^2 \\in \\left[ 0 , 1 \\right]$\n",
    "\n",
    "For this reason R\\^2 is used as a measure of how well the model fits the\n",
    "response variable data.\n",
    "\n",
    " \n",
    "\n",
    "**Interpretation**\n",
    "\n",
    "The interpretation of R\\^2 is the following:\n",
    "\n",
    "-   If $R^2$ is close to 1, indicates good fit of model to response\n",
    "    variable data\n",
    "\n",
    "-   If $R^2$ is clode to 0, indicates bad fit of model to response\n",
    "    variable data\n"
   ]
  },
  {
   "cell_type": "markdown",
   "metadata": {},
   "source": []
  },
  {
   "cell_type": "markdown",
   "metadata": {},
   "source": [
    "\n",
    "### Compute $R^2$ in R <a class=\"anchor\" id=\"52\"></a>"
   ]
  },
  {
   "cell_type": "markdown",
   "metadata": {},
   "source": [
    "The value of $\\hspace{0.1cm} R^2$  could be found in the output obtained with `summary(model_R_1)`"
   ]
  },
  {
   "cell_type": "code",
   "execution_count": null,
   "metadata": {},
   "outputs": [
    {
     "name": "stdout",
     "output_type": "stream",
     "text": [
      "\n",
      "Call:\n",
      "lm(formula = price ~ size_in_m_2 + no_of_bedrooms + no_of_bathrooms + \n",
      "    quality + latitude + longitude, data = data_R)\n",
      "\n",
      "Residuals:\n",
      "      Min        1Q    Median        3Q       Max \n",
      "-13398393   -562302     68143    562733  15384235 \n",
      "\n",
      "Coefficients:\n",
      "                  Estimate Std. Error t value Pr(>|t|)    \n",
      "(Intercept)     -6.207e+07  2.995e+07  -2.073   0.0383 *  \n",
      "size_in_m_2      3.566e+04  7.238e+02  49.271  < 2e-16 ***\n",
      "no_of_bedrooms  -8.367e+05  8.282e+04 -10.102  < 2e-16 ***\n",
      "no_of_bathrooms -5.712e+04  6.829e+04  -0.836   0.4030    \n",
      "quality1         1.400e+05  8.358e+04   1.675   0.0940 .  \n",
      "quality2         3.406e+05  1.551e+05   2.196   0.0282 *  \n",
      "quality3         2.788e+05  1.976e+05   1.410   0.1586    \n",
      "latitude         6.115e+06  7.809e+05   7.830 8.03e-15 ***\n",
      "longitude       -1.677e+06  6.908e+05  -2.428   0.0153 *  \n",
      "---\n",
      "Signif. codes:  0 '***' 0.001 '**' 0.01 '*' 0.05 '.' 0.1 ' ' 1\n",
      "\n",
      "Residual standard error: 1605000 on 1896 degrees of freedom\n",
      "Multiple R-squared:  0.6979,\tAdjusted R-squared:  0.6966 \n",
      "F-statistic: 547.4 on 8 and 1896 DF,  p-value: < 2.2e-16\n",
      "\n"
     ]
    }
   ],
   "source": [
    "%%R\n",
    "summary(model_R_1)"
   ]
  },
  {
   "cell_type": "markdown",
   "metadata": {},
   "source": []
  },
  {
   "cell_type": "markdown",
   "metadata": {},
   "source": [
    "### Compute $R^2$ in Python <a class=\"anchor\" id=\"53\"></a>\n"
   ]
  },
  {
   "cell_type": "markdown",
   "metadata": {},
   "source": [
    "The value of $\\hspace{0.1cm} R^2$  could be found in the output obtained with `print(model_Python_1.summary())`"
   ]
  },
  {
   "cell_type": "code",
   "execution_count": null,
   "metadata": {},
   "outputs": [
    {
     "name": "stdout",
     "output_type": "stream",
     "text": [
      "                            OLS Regression Results                            \n",
      "==============================================================================\n",
      "Dep. Variable:                  price   R-squared:                       0.698\n",
      "Model:                            OLS   Adj. R-squared:                  0.697\n",
      "Method:                 Least Squares   F-statistic:                     547.4\n",
      "Date:               ju., 14 jul. 2022   Prob (F-statistic):               0.00\n",
      "Time:                        23:16:39   Log-Likelihood:                -29918.\n",
      "No. Observations:                1905   AIC:                         5.985e+04\n",
      "Df Residuals:                    1896   BIC:                         5.990e+04\n",
      "Df Model:                           8                                         \n",
      "Covariance Type:            nonrobust                                         \n",
      "===================================================================================\n",
      "                      coef    std err          t      P>|t|      [0.025      0.975]\n",
      "-----------------------------------------------------------------------------------\n",
      "Intercept       -6.207e+07   2.99e+07     -2.073      0.038   -1.21e+08   -3.34e+06\n",
      "quality[T.1]       1.4e+05   8.36e+04      1.675      0.094   -2.39e+04    3.04e+05\n",
      "quality[T.2]     3.406e+05   1.55e+05      2.196      0.028    3.63e+04    6.45e+05\n",
      "quality[T.3]     2.788e+05   1.98e+05      1.410      0.159   -1.09e+05    6.66e+05\n",
      "size_in_m_2      3.566e+04    723.831     49.271      0.000    3.42e+04    3.71e+04\n",
      "no_of_bedrooms  -8.367e+05   8.28e+04    -10.102      0.000   -9.99e+05   -6.74e+05\n",
      "no_of_bathrooms -5.712e+04   6.83e+04     -0.836      0.403   -1.91e+05    7.68e+04\n",
      "latitude         6.115e+06   7.81e+05      7.830      0.000    4.58e+06    7.65e+06\n",
      "longitude       -1.677e+06   6.91e+05     -2.428      0.015   -3.03e+06   -3.22e+05\n",
      "==============================================================================\n",
      "Omnibus:                      779.851   Durbin-Watson:                   1.716\n",
      "Prob(Omnibus):                  0.000   Jarque-Bera (JB):            25742.187\n",
      "Skew:                           1.273   Prob(JB):                         0.00\n",
      "Kurtosis:                      20.828   Cond. No.                     1.34e+05\n",
      "==============================================================================\n",
      "\n",
      "Notes:\n",
      "[1] Standard Errors assume that the covariance matrix of the errors is correctly specified.\n",
      "[2] The condition number is large, 1.34e+05. This might indicate that there are\n",
      "strong multicollinearity or other numerical problems.\n"
     ]
    }
   ],
   "source": [
    "print(model_Python_1.summary())"
   ]
  },
  {
   "cell_type": "markdown",
   "metadata": {},
   "source": []
  },
  {
   "cell_type": "markdown",
   "metadata": {},
   "source": [
    "We have got the following:\n",
    "\n",
    "$$ R^2 = 0.698$$"
   ]
  },
  {
   "cell_type": "markdown",
   "metadata": {},
   "source": []
  },
  {
   "cell_type": "markdown",
   "metadata": {},
   "source": [
    "\n",
    "## Goodness of Fit: Adjusted R-square <a class=\"anchor\" id=\"54\"></a>\n",
    "\n",
    "\n",
    "\n",
    "$R^2$ has several problems.\n",
    "\n",
    "1.  $R^2$ always increase when increase the number of predictors,\n",
    "    although they are not significative.\n",
    "\n",
    "2.  It´s possible estimate two models qith the same prediction power but\n",
    "    with different $R^2$\n",
    "\n",
    "\n",
    "\n",
    "For avoid the disadvantages of $R^2$ was created the adjusted $R^2$ ,\n",
    "denoted as $\\widehat{R^2}$, and defined as:\n",
    "\n",
    "\\begin{gather*}\n",
    "\\widehat{R^2} = 1 - (1- R^2)\\cdot \\dfrac{n-1}{n-p}\n",
    "\\end{gather*}\n",
    "\n",
    "\n"
   ]
  },
  {
   "cell_type": "markdown",
   "metadata": {},
   "source": []
  },
  {
   "cell_type": "markdown",
   "metadata": {},
   "source": [
    "### Compute $\\widehat{R^2}$ in R <a class=\"anchor\" id=\"55\"></a> "
   ]
  },
  {
   "cell_type": "markdown",
   "metadata": {},
   "source": [
    "The value of $\\hspace{0.1cm} \\widehat{R^2}$  could be found in the output obtained with `summary(model_R_1)`"
   ]
  },
  {
   "cell_type": "code",
   "execution_count": null,
   "metadata": {},
   "outputs": [
    {
     "name": "stdout",
     "output_type": "stream",
     "text": [
      "\n",
      "Call:\n",
      "lm(formula = price ~ size_in_m_2 + no_of_bedrooms + no_of_bathrooms + \n",
      "    quality + latitude + longitude, data = data_R)\n",
      "\n",
      "Residuals:\n",
      "      Min        1Q    Median        3Q       Max \n",
      "-13398393   -562302     68143    562733  15384235 \n",
      "\n",
      "Coefficients:\n",
      "                  Estimate Std. Error t value Pr(>|t|)    \n",
      "(Intercept)     -6.207e+07  2.995e+07  -2.073   0.0383 *  \n",
      "size_in_m_2      3.566e+04  7.238e+02  49.271  < 2e-16 ***\n",
      "no_of_bedrooms  -8.367e+05  8.282e+04 -10.102  < 2e-16 ***\n",
      "no_of_bathrooms -5.712e+04  6.829e+04  -0.836   0.4030    \n",
      "quality1         1.400e+05  8.358e+04   1.675   0.0940 .  \n",
      "quality2         3.406e+05  1.551e+05   2.196   0.0282 *  \n",
      "quality3         2.788e+05  1.976e+05   1.410   0.1586    \n",
      "latitude         6.115e+06  7.809e+05   7.830 8.03e-15 ***\n",
      "longitude       -1.677e+06  6.908e+05  -2.428   0.0153 *  \n",
      "---\n",
      "Signif. codes:  0 '***' 0.001 '**' 0.01 '*' 0.05 '.' 0.1 ' ' 1\n",
      "\n",
      "Residual standard error: 1605000 on 1896 degrees of freedom\n",
      "Multiple R-squared:  0.6979,\tAdjusted R-squared:  0.6966 \n",
      "F-statistic: 547.4 on 8 and 1896 DF,  p-value: < 2.2e-16\n",
      "\n"
     ]
    }
   ],
   "source": [
    "%%R\n",
    "summary(model_R_1)"
   ]
  },
  {
   "cell_type": "markdown",
   "metadata": {},
   "source": []
  },
  {
   "cell_type": "markdown",
   "metadata": {},
   "source": [
    "### Compute $\\widehat{R^2}$ in Python <a class=\"anchor\" id=\"56\"></a>\n"
   ]
  },
  {
   "cell_type": "markdown",
   "metadata": {},
   "source": [
    "The value of $\\hspace{0.1cm} \\widehat{R^2}$  could be found in the output obtained with `print(model_Python_1.summary())`"
   ]
  },
  {
   "cell_type": "code",
   "execution_count": null,
   "metadata": {},
   "outputs": [
    {
     "name": "stdout",
     "output_type": "stream",
     "text": [
      "                            OLS Regression Results                            \n",
      "==============================================================================\n",
      "Dep. Variable:                  price   R-squared:                       0.698\n",
      "Model:                            OLS   Adj. R-squared:                  0.697\n",
      "Method:                 Least Squares   F-statistic:                     547.4\n",
      "Date:               ju., 14 jul. 2022   Prob (F-statistic):               0.00\n",
      "Time:                        23:16:41   Log-Likelihood:                -29918.\n",
      "No. Observations:                1905   AIC:                         5.985e+04\n",
      "Df Residuals:                    1896   BIC:                         5.990e+04\n",
      "Df Model:                           8                                         \n",
      "Covariance Type:            nonrobust                                         \n",
      "===================================================================================\n",
      "                      coef    std err          t      P>|t|      [0.025      0.975]\n",
      "-----------------------------------------------------------------------------------\n",
      "Intercept       -6.207e+07   2.99e+07     -2.073      0.038   -1.21e+08   -3.34e+06\n",
      "quality[T.1]       1.4e+05   8.36e+04      1.675      0.094   -2.39e+04    3.04e+05\n",
      "quality[T.2]     3.406e+05   1.55e+05      2.196      0.028    3.63e+04    6.45e+05\n",
      "quality[T.3]     2.788e+05   1.98e+05      1.410      0.159   -1.09e+05    6.66e+05\n",
      "size_in_m_2      3.566e+04    723.831     49.271      0.000    3.42e+04    3.71e+04\n",
      "no_of_bedrooms  -8.367e+05   8.28e+04    -10.102      0.000   -9.99e+05   -6.74e+05\n",
      "no_of_bathrooms -5.712e+04   6.83e+04     -0.836      0.403   -1.91e+05    7.68e+04\n",
      "latitude         6.115e+06   7.81e+05      7.830      0.000    4.58e+06    7.65e+06\n",
      "longitude       -1.677e+06   6.91e+05     -2.428      0.015   -3.03e+06   -3.22e+05\n",
      "==============================================================================\n",
      "Omnibus:                      779.851   Durbin-Watson:                   1.716\n",
      "Prob(Omnibus):                  0.000   Jarque-Bera (JB):            25742.187\n",
      "Skew:                           1.273   Prob(JB):                         0.00\n",
      "Kurtosis:                      20.828   Cond. No.                     1.34e+05\n",
      "==============================================================================\n",
      "\n",
      "Notes:\n",
      "[1] Standard Errors assume that the covariance matrix of the errors is correctly specified.\n",
      "[2] The condition number is large, 1.34e+05. This might indicate that there are\n",
      "strong multicollinearity or other numerical problems.\n"
     ]
    }
   ],
   "source": [
    "print(model_Python_1.summary())"
   ]
  },
  {
   "cell_type": "markdown",
   "metadata": {},
   "source": []
  },
  {
   "cell_type": "markdown",
   "metadata": {},
   "source": [
    "We have got the following:\n",
    "\n",
    "$$ \\widehat{R^2} = 0.697$$"
   ]
  },
  {
   "cell_type": "markdown",
   "metadata": {},
   "source": []
  },
  {
   "cell_type": "markdown",
   "metadata": {},
   "source": [
    "## Model Problems <a class=\"anchor\" id=\"57\"></a>"
   ]
  },
  {
   "cell_type": "markdown",
   "metadata": {},
   "source": [
    "### Multicollinearity <a class=\"anchor\" id=\"58\"></a>"
   ]
  },
  {
   "cell_type": "markdown",
   "metadata": {},
   "source": [
    "Multicollinearity problem happens when some of the predictors are lineary dependients."
   ]
  },
  {
   "cell_type": "markdown",
   "metadata": {},
   "source": [
    "#### Types of multicollinearity"
   ]
  },
  {
   "cell_type": "markdown",
   "metadata": {},
   "source": [
    "##### Perfect Multicollinearity"
   ]
  },
  {
   "cell_type": "markdown",
   "metadata": {},
   "source": [
    "At least one of the predictors is a linear combination of the rest of the predictors, so $Rg(X) < p+1$ (not full range)\n",
    "\n",
    "By the null rank theorem, $R(X^t \\cdot X) < p+1$ , therefore there is no $(X^t \\cdot X)^{-1}$ , so it cannot be estimate $\\beta$ with the method of least squares."
   ]
  },
  {
   "cell_type": "markdown",
   "metadata": {},
   "source": [
    "##### High Multicollinearity"
   ]
  },
  {
   "cell_type": "markdown",
   "metadata": {},
   "source": [
    "There are predictors with high linear correlation between them. \n",
    "\n",
    "In this case is still possible estimate $\\beta$ because the multicolinearity isn´t perfect, but the variance of the $\\beta$ estimators, $Var(\\hat{\\beta}_j)$, will be too high, therefore the model will be very imprecise, so the results will not be good.\n",
    "\n"
   ]
  },
  {
   "cell_type": "markdown",
   "metadata": {},
   "source": []
  },
  {
   "cell_type": "markdown",
   "metadata": {},
   "source": [
    "#### Identification of multicollinearity <a class=\"anchor\" id=\"59\"></a>"
   ]
  },
  {
   "cell_type": "markdown",
   "metadata": {},
   "source": [
    "Identification of multicollinearity is carry out by several ways:\n",
    "\n",
    "If the linear regression model has only **quantitative** predictors:\n",
    "\n",
    "1. With the correlation matrix of the predictors $\\hspace{0.05cm} R$\n",
    "2. With  $VIF$ (variance increase factor )\n",
    "3. With  condition number of $\\hspace{0.05cm} R$\n",
    "\n",
    "If the linear model has **quantitative and categorical** predictors:\n",
    "\n",
    "1. With $GVIF$ (generalize variance increase factor) "
   ]
  },
  {
   "cell_type": "markdown",
   "metadata": {},
   "source": []
  },
  {
   "cell_type": "markdown",
   "metadata": {},
   "source": [
    "#### Identification of multicollinearity with $R$"
   ]
  },
  {
   "cell_type": "markdown",
   "metadata": {},
   "source": [
    "The Pearson correlation matrix of a given data matrix $X=[X_1 ,..., X_p]$  is defined as:\n",
    "\n",
    "<br>\n",
    "\n",
    "$$\n",
    "R= \\begin{pmatrix}\n",
    "    r_{11} & r_{12}&...&r_{1p}\\\\\n",
    "    r_{21} & r_{22}&...&r_{2p}\\\\\n",
    "    &...&\\\\\n",
    "    r_{p1}& r_{p2}&...&r_{pp}\n",
    "\\end{pmatrix}\n",
    "$$ \n"
   ]
  },
  {
   "cell_type": "markdown",
   "metadata": {},
   "source": [
    "\n",
    "Where: $\\hspace{0.2cm} r_{i j} \\hspace{0.1cm}$ is the Pearson linear correlation between $X_i$ and $X_j$"
   ]
  },
  {
   "cell_type": "markdown",
   "metadata": {},
   "source": [
    "**Criteria :**\n",
    "\n",
    "If there is any high $r_{ij}$  $\\hspace{0.1cm} \\Rightarrow\\hspace{0.1cm}$ possible multicollinearity"
   ]
  },
  {
   "cell_type": "markdown",
   "metadata": {},
   "source": []
  },
  {
   "cell_type": "markdown",
   "metadata": {},
   "source": [
    "##### Identification of multicollinearity with $R$ in R"
   ]
  },
  {
   "cell_type": "markdown",
   "metadata": {},
   "source": [
    "We will suposse our linear regression model only has **quatitative** predictors.\n",
    "\n",
    "We need to compute the Pearson correlation matrix for these quantitative predictors."
   ]
  },
  {
   "cell_type": "code",
   "execution_count": null,
   "metadata": {},
   "outputs": [
    {
     "name": "stdout",
     "output_type": "stream",
     "text": [
      "                size_in_m_2   longitude  latitude no_of_bedrooms\n",
      "size_in_m_2      1.00000000 -0.06665722 0.1375185     0.77511298\n",
      "longitude       -0.06665722  1.00000000 0.6058747    -0.04566789\n",
      "latitude         0.13751849  0.60587468 1.0000000     0.12416175\n",
      "no_of_bedrooms   0.77511298 -0.04566789 0.1241617     1.00000000\n",
      "no_of_bathrooms  0.72539720 -0.02499958 0.1411599     0.85438384\n",
      "                no_of_bathrooms\n",
      "size_in_m_2          0.72539720\n",
      "longitude           -0.02499958\n",
      "latitude             0.14115992\n",
      "no_of_bedrooms       0.85438384\n",
      "no_of_bathrooms      1.00000000\n"
     ]
    }
   ],
   "source": [
    "%%R\n",
    "\n",
    "R <- cor(data_R %>% select(-price, -quality))\n",
    "R"
   ]
  },
  {
   "cell_type": "markdown",
   "metadata": {},
   "source": [
    "Now we will compute a heatmap with the correlation matrix:"
   ]
  },
  {
   "cell_type": "code",
   "execution_count": null,
   "metadata": {},
   "outputs": [
    {
     "name": "stderr",
     "output_type": "stream",
     "text": [
      "R[write to console]: Registered S3 method overwritten by 'GGally':\n",
      "  method from   \n",
      "  +.gg   ggplot2\n",
      "\n"
     ]
    },
    {
     "data": {
      "image/png": "[encoded data removed]"
     },
     "metadata": {},
     "output_type": "display_data"
    }
   ],
   "source": [
    "%%R\n",
    "\n",
    "library(GGally)\n",
    "\n",
    "ggcorr(data_R %>% select(-price, -quality), label=TRUE, digits=3)"
   ]
  },
  {
   "cell_type": "markdown",
   "metadata": {},
   "source": []
  },
  {
   "cell_type": "markdown",
   "metadata": {},
   "source": [
    "##### Identification of multicollinearity with $R$ in Python"
   ]
  },
  {
   "cell_type": "code",
   "execution_count": null,
   "metadata": {},
   "outputs": [
    {
     "data": {
      "text/html": [
       "<div>\n",
       "<style scoped>\n",
       "    .dataframe tbody tr th:only-of-type {\n",
       "        vertical-align: middle;\n",
       "    }\n",
       "\n",
       "    .dataframe tbody tr th {\n",
       "        vertical-align: top;\n",
       "    }\n",
       "\n",
       "    .dataframe thead th {\n",
       "        text-align: right;\n",
       "    }\n",
       "</style>\n",
       "<table border=\"1\" class=\"dataframe\">\n",
       "  <thead>\n",
       "    <tr style=\"text-align: right;\">\n",
       "      <th></th>\n",
       "      <th>size_in_m_2</th>\n",
       "      <th>longitude</th>\n",
       "      <th>latitude</th>\n",
       "      <th>no_of_bedrooms</th>\n",
       "      <th>no_of_bathrooms</th>\n",
       "    </tr>\n",
       "  </thead>\n",
       "  <tbody>\n",
       "    <tr>\n",
       "      <th>size_in_m_2</th>\n",
       "      <td>1.000000</td>\n",
       "      <td>-0.066657</td>\n",
       "      <td>0.137518</td>\n",
       "      <td>0.775113</td>\n",
       "      <td>0.725397</td>\n",
       "    </tr>\n",
       "    <tr>\n",
       "      <th>longitude</th>\n",
       "      <td>-0.066657</td>\n",
       "      <td>1.000000</td>\n",
       "      <td>0.605875</td>\n",
       "      <td>-0.045668</td>\n",
       "      <td>-0.025000</td>\n",
       "    </tr>\n",
       "    <tr>\n",
       "      <th>latitude</th>\n",
       "      <td>0.137518</td>\n",
       "      <td>0.605875</td>\n",
       "      <td>1.000000</td>\n",
       "      <td>0.124162</td>\n",
       "      <td>0.141160</td>\n",
       "    </tr>\n",
       "    <tr>\n",
       "      <th>no_of_bedrooms</th>\n",
       "      <td>0.775113</td>\n",
       "      <td>-0.045668</td>\n",
       "      <td>0.124162</td>\n",
       "      <td>1.000000</td>\n",
       "      <td>0.854384</td>\n",
       "    </tr>\n",
       "    <tr>\n",
       "      <th>no_of_bathrooms</th>\n",
       "      <td>0.725397</td>\n",
       "      <td>-0.025000</td>\n",
       "      <td>0.141160</td>\n",
       "      <td>0.854384</td>\n",
       "      <td>1.000000</td>\n",
       "    </tr>\n",
       "  </tbody>\n",
       "</table>\n",
       "</div>"
      ],
      "text/plain": [
       "                 size_in_m_2  longitude  latitude  no_of_bedrooms  \\\n",
       "size_in_m_2         1.000000  -0.066657  0.137518        0.775113   \n",
       "longitude          -0.066657   1.000000  0.605875       -0.045668   \n",
       "latitude            0.137518   0.605875  1.000000        0.124162   \n",
       "no_of_bedrooms      0.775113  -0.045668  0.124162        1.000000   \n",
       "no_of_bathrooms     0.725397  -0.025000  0.141160        0.854384   \n",
       "\n",
       "                 no_of_bathrooms  \n",
       "size_in_m_2             0.725397  \n",
       "longitude              -0.025000  \n",
       "latitude                0.141160  \n",
       "no_of_bedrooms          0.854384  \n",
       "no_of_bathrooms         1.000000  "
      ]
     },
     "execution_count": 77,
     "metadata": {},
     "output_type": "execute_result"
    }
   ],
   "source": [
    "R = (data_Python >> select( ~ X.price )).corr()\n",
    "R"
   ]
  },
  {
   "cell_type": "code",
   "execution_count": null,
   "metadata": {},
   "outputs": [
    {
     "data": {
      "text/plain": [
       "<AxesSubplot:>"
      ]
     },
     "execution_count": 78,
     "metadata": {},
     "output_type": "execute_result"
    },
    {
     "data": {
      "image/png": "[encoded data removed]",
      "text/plain": [
       "<Figure size 432x288 with 2 Axes>"
      ]
     },
     "metadata": {
      "needs_background": "light"
     },
     "output_type": "display_data"
    }
   ],
   "source": [
    "# pip install seaborn\n",
    "\n",
    "import seaborn as sb\n",
    "corr = R\n",
    "sb.heatmap(corr, cmap=\"Blues\", annot=True)"
   ]
  },
  {
   "cell_type": "markdown",
   "metadata": {},
   "source": []
  },
  {
   "cell_type": "markdown",
   "metadata": {},
   "source": [
    "We can see there are several pairs of predictor with high correlation, such as $( no\\_of\\_bathrooms \\hspace{0.1cm},\\hspace{0.1cm} no\\_of\\_bedrooms )$, $( size\\_in\\_m\\_2 \\hspace{0.1cm},\\hspace{0.1cm} no\\_of\\_bedrooms )$ , $(size\\_in\\_m\\_2 \\hspace{0.1cm},\\hspace{0.1cm} no\\_of\\_bathrooms )$\n",
    "\n",
    "So following this criterion the linear regression model $\\hspace{0.1cm} price ~ size\\_in\\_m\\_2  + longitude + latitude + no\\_of\\_bedrooms + no\\_of\\_bathrooms \\hspace{0.1cm}$ could has multicollinearity problems."
   ]
  },
  {
   "cell_type": "markdown",
   "metadata": {},
   "source": []
  },
  {
   "cell_type": "markdown",
   "metadata": {},
   "source": [
    "##### Identification of multicollinearity with $VIF$"
   ]
  },
  {
   "cell_type": "markdown",
   "metadata": {},
   "source": [
    "We must have a linear regression model that only has **quantitative** predictors.\n",
    "\n",
    "We need to compute the inverse Pearson correlation matrix for these quantitative predictors.\n"
   ]
  },
  {
   "cell_type": "markdown",
   "metadata": {},
   "source": [
    "The variance increase factor $\\left(VIF\\right)$ of $X_i$ as:\n",
    "\n",
    "$$VIF(i) = Diag(R^{-1})[\\hspace{0.1cm} i\\hspace{0.1cm}] = \\text{i element of} \\hspace{0.1cm} Diag(R^{-1})$$\n",
    "\n",
    "And it´s fullfield that:\n",
    "\n",
    "$$ VIF(i) = \\dfrac{1}{1- R^2_{X_i}} $$\n",
    "\n",
    "Where:\n",
    "\n",
    "$R^2_{X_i}$ is the $R^2$ of the linear regression model $X_i = \\beta_0 + \\beta_1 \\cdot  X_1 +...+ \\beta_{i-1}\\cdot X_{i-1} + \\beta_{i+1}\\cdot X_{i+1} + ... + \\beta_p \\cdot X_p$\n",
    "\n",
    "So, $R^2_{X_i}$  is the proporcion of variability of $X_i$ explained by $X_1,..,X_{i-1},X_{i+1},..,X_p$\n",
    "\n"
   ]
  },
  {
   "cell_type": "markdown",
   "metadata": {},
   "source": [
    "\n",
    "**Criterion:**\n",
    "\n",
    "If $\\hspace{0.15cm}VIF(i) > 10$ $\\hspace{0.15cm}\\left( R^2_{X_i} > 0.90 \\right)$ $\\hspace{0.1cm}\\Rightarrow\\hspace{0.1cm}$ **High** multicollinearity\n",
    "\n",
    "If $\\hspace{0.15cm}VIF(i)  \\in [4, 10]$  $\\hspace{0.15cm}\\left(R^2_{X_i} \\in [0.75 , 0.90]\\right)$ $\\hspace{0.1cm}\\Rightarrow\\hspace{0.1cm}$ Medium multicollinearity\n",
    "\n",
    "\n",
    "If  $\\hspace{0.15cm}VIF(i) < 4$ $\\hspace{0.15cm}\\left(R^2_{X_i} < 0.75 \\right)$ $\\hspace{0.1cm}\\Rightarrow\\hspace{0.1cm}$ Low multicollinearity\n"
   ]
  },
  {
   "cell_type": "markdown",
   "metadata": {},
   "source": []
  },
  {
   "cell_type": "markdown",
   "metadata": {},
   "source": [
    "##### Identification of multicollinearity with $VIF$ in R"
   ]
  },
  {
   "cell_type": "code",
   "execution_count": null,
   "metadata": {},
   "outputs": [
    {
     "name": "stdout",
     "output_type": "stream",
     "text": [
      "    size_in_m_2       longitude        latitude  no_of_bedrooms no_of_bathrooms \n",
      "       2.642728        1.639554        1.667913        4.565980        3.857961 \n"
     ]
    }
   ],
   "source": [
    "%%R\n",
    "\n",
    "R_inverse <- solve(R)\n",
    "\n",
    "diag(R_inverse)"
   ]
  },
  {
   "cell_type": "code",
   "execution_count": null,
   "metadata": {},
   "outputs": [
    {
     "name": "stderr",
     "output_type": "stream",
     "text": [
      "R[write to console]: Loading required package: carData\n",
      "\n",
      "R[write to console]: \n",
      "Attaching package: 'car'\n",
      "\n",
      "\n",
      "R[write to console]: The following object is masked from 'package:dplyr':\n",
      "\n",
      "    recode\n",
      "\n",
      "\n",
      "R[write to console]: The following object is masked from 'package:purrr':\n",
      "\n",
      "    some\n",
      "\n",
      "\n"
     ]
    },
    {
     "name": "stdout",
     "output_type": "stream",
     "text": [
      "    size_in_m_2       longitude        latitude  no_of_bedrooms no_of_bathrooms \n",
      "       2.642728        1.639554        1.667913        4.565980        3.857961 \n"
     ]
    }
   ],
   "source": [
    "%%R \n",
    "\n",
    "library(car)\n",
    "library(carData)\n",
    "\n",
    "vif(lm(price ~ size_in_m_2  + longitude + latitude + no_of_bedrooms + no_of_bathrooms , data=data_R))"
   ]
  },
  {
   "cell_type": "markdown",
   "metadata": {},
   "source": [
    "##### Identification of multicollinearity with $VIF$ in Python"
   ]
  },
  {
   "cell_type": "code",
   "execution_count": null,
   "metadata": {},
   "outputs": [],
   "source": [
    "a = np.diagonal( np.linalg.inv(R) )"
   ]
  },
  {
   "cell_type": "code",
   "execution_count": null,
   "metadata": {},
   "outputs": [],
   "source": [
    "b = (data_Python >> select( ~ X.price , ~ X.quality )).columns"
   ]
  },
  {
   "cell_type": "code",
   "execution_count": null,
   "metadata": {},
   "outputs": [
    {
     "data": {
      "text/html": [
       "<div>\n",
       "<style scoped>\n",
       "    .dataframe tbody tr th:only-of-type {\n",
       "        vertical-align: middle;\n",
       "    }\n",
       "\n",
       "    .dataframe tbody tr th {\n",
       "        vertical-align: top;\n",
       "    }\n",
       "\n",
       "    .dataframe thead th {\n",
       "        text-align: right;\n",
       "    }\n",
       "</style>\n",
       "<table border=\"1\" class=\"dataframe\">\n",
       "  <thead>\n",
       "    <tr style=\"text-align: right;\">\n",
       "      <th></th>\n",
       "      <th>VIF</th>\n",
       "    </tr>\n",
       "    <tr>\n",
       "      <th>predictor</th>\n",
       "      <th></th>\n",
       "    </tr>\n",
       "  </thead>\n",
       "  <tbody>\n",
       "    <tr>\n",
       "      <th>size_in_m_2</th>\n",
       "      <td>2.642728</td>\n",
       "    </tr>\n",
       "    <tr>\n",
       "      <th>longitude</th>\n",
       "      <td>1.639554</td>\n",
       "    </tr>\n",
       "    <tr>\n",
       "      <th>latitude</th>\n",
       "      <td>1.667913</td>\n",
       "    </tr>\n",
       "    <tr>\n",
       "      <th>no_of_bedrooms</th>\n",
       "      <td>4.565980</td>\n",
       "    </tr>\n",
       "    <tr>\n",
       "      <th>no_of_bathrooms</th>\n",
       "      <td>3.857961</td>\n",
       "    </tr>\n",
       "  </tbody>\n",
       "</table>\n",
       "</div>"
      ],
      "text/plain": [
       "                      VIF\n",
       "predictor                \n",
       "size_in_m_2      2.642728\n",
       "longitude        1.639554\n",
       "latitude         1.667913\n",
       "no_of_bedrooms   4.565980\n",
       "no_of_bathrooms  3.857961"
      ]
     },
     "execution_count": 83,
     "metadata": {},
     "output_type": "execute_result"
    }
   ],
   "source": [
    "VIF_Python = pd.DataFrame({'predictor': b , 'VIF': a })\n",
    "VIF_Python = VIF_Python.set_index('predictor')\n",
    "VIF_Python"
   ]
  },
  {
   "cell_type": "markdown",
   "metadata": {},
   "source": [
    "There is a quantitative predictor with $VIF > 4$ , but none with $VIF > 10$ , so following this criterion the linear regression model $\\hspace{0.1cm} price ~ size\\_in\\_m\\_2  + longitude + latitude + no\\_of\\_bedrooms + no\\_of\\_bathrooms \\hspace{0.1cm}$ has **medium** multicollinearity ."
   ]
  },
  {
   "cell_type": "markdown",
   "metadata": {},
   "source": []
  },
  {
   "cell_type": "markdown",
   "metadata": {},
   "source": [
    "##### Identification of multicollinearity  with condition number of $\\hspace{0.05cm} R$"
   ]
  },
  {
   "cell_type": "markdown",
   "metadata": {},
   "source": [
    "We must have a linear regression model that only has **quantitative** predictors.\n",
    "\n",
    "We need to compute the eigenvalues of the Pearson correlation matrix for these quantitative predictors."
   ]
  },
  {
   "cell_type": "markdown",
   "metadata": {},
   "source": [
    "The condition number of $R$ is defined as:\n",
    "\n",
    "$$cond(R) = \\sqrt{\\dfrac{max\\lbrace eigenvalues(R)\\rbrace}{min\\lbrace eigenvalues(R)\\rbrace}} $$"
   ]
  },
  {
   "cell_type": "markdown",
   "metadata": {},
   "source": [
    "**Criterion :**\n",
    "\n",
    "If $\\hspace{0.1cm} cond(R) > 30$ $\\hspace{0.1cm} \\Rightarrow\\hspace{0.1cm}$ **High** multicollinearity\n",
    "\n",
    "If $\\hspace{0.1cm}cond(R) \\in (10 , 30)$ $\\hspace{0.1cm} \\Rightarrow\\hspace{0.1cm}$ Medium multicollinearity\n",
    "\n",
    "If $\\hspace{0.1cm}cond(R) < 10$ $\\hspace{0.1cm} \\Rightarrow\\hspace{0.1cm}$ Low multicollinearity"
   ]
  },
  {
   "cell_type": "markdown",
   "metadata": {},
   "source": []
  },
  {
   "cell_type": "markdown",
   "metadata": {},
   "source": [
    "##### Identification of multicollinearity  with condition number of $\\hspace{0.05cm} R$ in R"
   ]
  },
  {
   "cell_type": "code",
   "execution_count": null,
   "metadata": {},
   "outputs": [
    {
     "name": "stdout",
     "output_type": "stream",
     "text": [
      "[1] 4.325045\n"
     ]
    }
   ],
   "source": [
    "%%R\n",
    "\n",
    "cond_R = sqrt(max(eigen(R)$values)/min(eigen(R)$values))\n",
    "cond_R"
   ]
  },
  {
   "cell_type": "markdown",
   "metadata": {},
   "source": []
  },
  {
   "cell_type": "markdown",
   "metadata": {},
   "source": [
    "##### Identification of multicollinearity  with condition number of $\\hspace{0.05cm} R$ in Python"
   ]
  },
  {
   "cell_type": "code",
   "execution_count": null,
   "metadata": {},
   "outputs": [],
   "source": [
    "from numpy import linalg as LA\n",
    "\n",
    "eigenvalues , eigenvectors = LA.eig(R)"
   ]
  },
  {
   "cell_type": "code",
   "execution_count": null,
   "metadata": {},
   "outputs": [
    {
     "data": {
      "text/plain": [
       "4.325045221905223"
      ]
     },
     "execution_count": 86,
     "metadata": {},
     "output_type": "execute_result"
    }
   ],
   "source": [
    "cond_R = math.sqrt(max(eigenvalues)/min(eigenvalues))\n",
    "cond_R"
   ]
  },
  {
   "cell_type": "markdown",
   "metadata": {},
   "source": [
    "We have obtained $cond(R) = 4.33 < 10$ , so following this criterion, the linear regression model $\\hspace{0.1cm} price ~ size\\_in\\_m\\_2  + longitude + latitude + no\\_of\\_bedrooms + no\\_of\\_bathrooms \\hspace{0.1cm}$ has **low** multicollinearity"
   ]
  },
  {
   "cell_type": "markdown",
   "metadata": {},
   "source": []
  },
  {
   "cell_type": "markdown",
   "metadata": {},
   "source": [
    "#### Identification of multicollinearity with $GVIF$"
   ]
  },
  {
   "cell_type": "markdown",
   "metadata": {},
   "source": [
    "$VIF$ is only a good multicollinearity measure when all the predictors of the model are quantitative.\n",
    "\n",
    "$GVIF$ is the measure proposed by Fox and Monette (1992) to deal with linear regression models that have categorical predictors.\n"
   ]
  },
  {
   "cell_type": "markdown",
   "metadata": {},
   "source": []
  },
  {
   "cell_type": "markdown",
   "metadata": {},
   "source": [
    "If $X_i$ is a **quantitative** predictor\n",
    "\n",
    "<br>\n",
    "\n",
    "We have to consider the following matrix:\n",
    "\n",
    "$\\hspace{8cm}\\mathcal{X}_1 = [\\hspace{0.1cm} X_i \\hspace{0.1cm}]$\n",
    "\n",
    "$\\hspace{8cm}\\mathcal{X}_2 = [\\hspace{0.1cm} X_1 , .. , X_{i-1}, X_{i+1},.., X_p \\hspace{0.1cm}]$\n",
    "\n",
    "$\\hspace{8cm}\\mathcal{X}_3 = [\\hspace{0.1cm} X_1,..,X_i,.., X_p \\hspace{0.1cm}] $\n",
    "\n",
    "<br>\n",
    "\n",
    "And the following Pearson correlation matrix:\n",
    "\n",
    " $\\hspace{8cm}R_1$ is the Pearson correlation matrix of $\\mathcal{X}_1$ \n",
    "\n",
    "$\\hspace{8cm}R_2$ is the Pearson correlation matrix of $\\mathcal{X}_2$\n",
    "\n",
    "$\\hspace{8cm}R_3$ is the Pearson correlation matrix of $\\mathcal{X}_3$\n",
    "\n",
    "<br>\n",
    "\n",
    "Then $GVIF$ is defined as:\n",
    "\n",
    "$$ GVIF(i) = det(R_1) \\cdot \\dfrac{det(R_2)}{det(R_3)} $$ \n",
    "\n",
    " "
   ]
  },
  {
   "cell_type": "markdown",
   "metadata": {},
   "source": []
  },
  {
   "cell_type": "markdown",
   "metadata": {},
   "source": [
    "If $X_i$ is a **categorical** predictor with $r$ categories $\\lbrace 0,1,..., r-1 \\rbrace$ that enter in the model with the binary variables $X_{i1},X_{i2},...,X_{i(r-1)}$\n",
    "\n",
    "<br>\n",
    "\n",
    "We have to consider the following matrix:\n",
    "\n",
    "$\\hspace{8cm}\\mathcal{X}_1 = [\\hspace{0.1cm} X_{i1},X_{i2},...,X_{i(r-1)} \\hspace{0.1cm}]$\n",
    "\n",
    "$\\hspace{8cm}\\mathcal{X}_2 = [\\hspace{0.1cm} X_1 , .. , X_{i-1}, X_{i+1},.., X_p \\hspace{0.1cm}]$\n",
    "\n",
    "$\\hspace{8cm}\\mathcal{X}_3 = [\\hspace{0.1cm} X_1,..,X_i,.., X_p \\hspace{0.1cm}] $\n",
    "\n",
    "<br>\n",
    "\n",
    "And the following Pearson correlation matrix:\n",
    "\n",
    " $\\hspace{8cm}R_1$ is the Pearson correlation matrix of $\\mathcal{X}_1$ \n",
    "\n",
    "$\\hspace{8cm}R_2$ is the Pearson correlation matrix of $\\mathcal{X}_2$\n",
    "\n",
    "$\\hspace{8cm}R_3$ is the Pearson correlation matrix of $\\mathcal{X}_3$\n",
    "\n",
    "<br>\n",
    "\n",
    "Then $GVIF$ is defined as:\n",
    "\n",
    "$$ GVIF(i) = det(R_1) \\cdot \\dfrac{det(R_2)}{det(R_3)} $$ \n",
    "\n",
    " "
   ]
  },
  {
   "cell_type": "markdown",
   "metadata": {},
   "source": []
  },
  {
   "cell_type": "markdown",
   "metadata": {},
   "source": [
    "**Criteria:**\n",
    "\n",
    "If $X_i$ is a **quantitative** predictor ( $\\Rightarrow df=1$):\n",
    "\n",
    "If $\\hspace{0.15cm} GVIF(i)^{1/2} > \\sqrt{10} = 3.16$  $\\hspace{0.1cm}\\Rightarrow\\hspace{0.1cm}$ **High** multicollinearity\n",
    "\n",
    "If $\\hspace{0.15cm} GVIF(i)^{1/2}  \\in [\\sqrt{4}, \\sqrt{10}]= [2 \\hspace{0.1cm},\\hspace{0.1cm} 3.16]$    $\\hspace{0.1cm}  \\Rightarrow\\hspace{0.1cm}$ Medium multicollinearity\n",
    "\n",
    "\n",
    "If  $\\hspace{0.15cm} GVIF(i)^{1/2} < \\sqrt{4} = 2$  $\\hspace{0.1cm}\\Rightarrow\\hspace{0.1cm}$ Low multicollinearity"
   ]
  },
  {
   "cell_type": "markdown",
   "metadata": {},
   "source": []
  },
  {
   "cell_type": "markdown",
   "metadata": {},
   "source": [
    "If $X_i$ is a **categorical** predictor with $2$ categories ( $\\Rightarrow df=2-1=1$):\n",
    "\n",
    "If $\\hspace{0.15cm} GVIF(i)^{1/2} > 10^{1/2} = 3.16 $  $\\hspace{0.1cm}\\Rightarrow\\hspace{0.1cm}$ **High** multicollinearity\n",
    "\n",
    "If $\\hspace{0.15cm} GVIF(i)^{1/2}  \\in [4^{1/2}, 10^{1/2}] = [2 \\hspace{0.1cm} , \\hspace{0.1cm}  3.16]$    $\\hspace{0.1cm}  \\Rightarrow\\hspace{0.1cm}$ Medium multicollinearity\n",
    "\n",
    "\n",
    "If  $\\hspace{0.15cm} GVIF(i)^{1/2} < 4^{1/2} = 2$  $\\hspace{0.1cm}\\Rightarrow\\hspace{0.1cm}$ Low multicollinearity"
   ]
  },
  {
   "cell_type": "markdown",
   "metadata": {},
   "source": []
  },
  {
   "cell_type": "markdown",
   "metadata": {},
   "source": [
    "If $X_i$ is a **categorical** predictor with $3$ categories ( $\\Rightarrow df=3-1=2$):\n",
    "\n",
    "If $\\hspace{0.15cm} GVIF(i)^{1/4} > 10^{1/4} = 1.78$  $\\hspace{0.1cm}\\Rightarrow\\hspace{0.1cm}$ **High** multicollinearity\n",
    "\n",
    "If $\\hspace{0.15cm} GVIF(i)^{1/4}  \\in [4^{1/4}, 10^{1/4}] = [1.41 \\hspace{0.1cm} , \\hspace{0.1cm}  1.78]$    $\\hspace{0.1cm}  \\Rightarrow\\hspace{0.1cm}$ Medium multicollinearity\n",
    "\n",
    "\n",
    "If  $\\hspace{0.15cm} GVIF(i)^{1/4} < 4^{1/4} = 1.41$  $\\hspace{0.1cm}\\Rightarrow\\hspace{0.1cm}$ Low multicollinearity"
   ]
  },
  {
   "cell_type": "markdown",
   "metadata": {},
   "source": []
  },
  {
   "cell_type": "markdown",
   "metadata": {},
   "source": [
    "If $X_i$ is a **categorical** predictor with $4$ categories ( $\\Rightarrow df=4-1=3$):\n",
    "\n",
    "If $\\hspace{0.15cm} GVIF(i)^{1/6} > 10^{1/6} = 1.47$  $\\hspace{0.1cm}\\Rightarrow\\hspace{0.1cm}$ **High** multicollinearity\n",
    "\n",
    "If $\\hspace{0.15cm} GVIF(i)^{1/6}  \\in [4^{1/6}, 10^{1/6}] = [1.26 \\hspace{0.1cm} , \\hspace{0.1cm}  1.47]$    $\\hspace{0.1cm}  \\Rightarrow\\hspace{0.1cm}$ Medium multicollinearity\n",
    "\n",
    "\n",
    "If  $\\hspace{0.15cm} GVIF(i)^{1/6} < 4^{1/6} = 1.26$  $\\hspace{0.1cm}\\Rightarrow\\hspace{0.1cm}$ Low multicollinearity"
   ]
  },
  {
   "cell_type": "markdown",
   "metadata": {},
   "source": []
  },
  {
   "cell_type": "markdown",
   "metadata": {},
   "source": [
    "If $X_i$ is a **categorical** predictor with $r$ categories ( $\\Rightarrow df=r-1$):\n",
    "\n",
    "If $\\hspace{0.15cm} GVIF(i)^{1/(2(r-1))} > 10^{1/(2(r-1))} $  $\\hspace{0.1cm}\\Rightarrow\\hspace{0.1cm}$ **High** multicollinearity\n",
    "\n",
    "If $\\hspace{0.15cm} GVIF(i)^{1/(2(r-1))}  \\in [4^{1/(2(r-1))}, 10^{1/(2(r-1))}]$    $\\hspace{0.1cm}  \\Rightarrow\\hspace{0.1cm}$ Medium multicollinearity\n",
    "\n",
    "\n",
    "If  $\\hspace{0.15cm} GVIF(i)^{1/(2(r-1))} < 4^{1/(2(r-1))}$  $\\hspace{0.1cm}\\Rightarrow\\hspace{0.1cm}$ Low multicollinearity"
   ]
  },
  {
   "cell_type": "markdown",
   "metadata": {},
   "source": []
  },
  {
   "cell_type": "markdown",
   "metadata": {},
   "source": [
    "##### Identification of multicollinearity with $GVIF$ in R"
   ]
  },
  {
   "cell_type": "code",
   "execution_count": null,
   "metadata": {},
   "outputs": [
    {
     "name": "stdout",
     "output_type": "stream",
     "text": [
      "                    GVIF Df GVIF^(1/(2*Df))\n",
      "size_in_m_2     2.657446  1        1.630168\n",
      "longitude       1.670001  1        1.292285\n",
      "latitude        1.769812  1        1.330343\n",
      "no_of_bedrooms  4.572529  1        2.138347\n",
      "no_of_bathrooms 3.897807  1        1.974286\n",
      "quality         1.080988  3        1.013064\n"
     ]
    }
   ],
   "source": [
    "%%R \n",
    "\n",
    "library(car)\n",
    "library(carData)\n",
    "\n",
    "vif(lm(price ~ size_in_m_2  + longitude + latitude + no_of_bedrooms + no_of_bathrooms + quality , data=data_R))"
   ]
  },
  {
   "cell_type": "markdown",
   "metadata": {},
   "source": []
  },
  {
   "cell_type": "markdown",
   "metadata": {},
   "source": [
    "##### Identification of multicollinearity with $GVIF$ in Python"
   ]
  },
  {
   "cell_type": "markdown",
   "metadata": {},
   "source": [
    "$GVIF$ for the categorical predictor $quality$"
   ]
  },
  {
   "cell_type": "code",
   "execution_count": null,
   "metadata": {},
   "outputs": [],
   "source": [
    "import patsy as patsy\n",
    "\n",
    "quality = pd.DataFrame(data_Python[\"quality\"], columns= [\"quality\"])\n",
    "X1 = patsy.dmatrix(\"0 + C(quality)\", quality, return_type = \"dataframe\")\n",
    "\n",
    "X1 = X1 >> select( ~ X['C(quality)[0]'] )\n",
    "X2 = data_Python >> select( ~ X['quality'] , ~ X['price'])\n",
    "X3 = pd.concat([X1,X2], axis = 1)\n",
    "\n",
    "GVIF_quality = np.linalg.det(X1.corr()) * np.linalg.det(X2.corr()) / np.linalg.det(X3.corr())\n",
    "\n",
    "df_quality = X1.shape[1]\n",
    "GVIF_quality_scaled = GVIF_quality**(1/(2*df_quality))"
   ]
  },
  {
   "cell_type": "markdown",
   "metadata": {},
   "source": [
    "$GVIF$ for the rest of quantitative predictors"
   ]
  },
  {
   "cell_type": "code",
   "execution_count": null,
   "metadata": {},
   "outputs": [],
   "source": [
    "X1 = data_Python >> select( X['size_in_m_2'] )\n",
    "X2 = data_Python >> select( ~ X['size_in_m_2'] , ~ X['price'])\n",
    "GVIF_size_in_m_2 = np.linalg.det(X1.corr()) * np.linalg.det(X2.corr()) / np.linalg.det((data_Python >> select( ~ X['price'] )).corr())\n",
    "\n",
    "df_size_in_m_2 = X1.shape[1]\n",
    "GVIF_size_in_m_2_scaled = GVIF_size_in_m_2**(1/(2*df_size_in_m_2))"
   ]
  },
  {
   "cell_type": "code",
   "execution_count": null,
   "metadata": {},
   "outputs": [],
   "source": [
    "X1 = data_Python >> select( X['longitude'] )\n",
    "X2 = data_Python >> select( ~ X['longitude'] , ~ X['price'])\n",
    "GVIF_longitude = np.linalg.det(X1.corr()) * np.linalg.det(X2.corr()) / np.linalg.det((data_Python >> select( ~ X['price'] )).corr())\n",
    "\n",
    "df_longitude = X1.shape[1]\n",
    "GVIF_longitude_scaled = GVIF_longitude**(1/(2*df_longitude))"
   ]
  },
  {
   "cell_type": "code",
   "execution_count": null,
   "metadata": {},
   "outputs": [],
   "source": [
    "X1 = data_Python >> select( X['latitude'] )\n",
    "X2 = data_Python >> select( ~ X['latitude'] , ~ X['price'])\n",
    "GVIF_latitude = np.linalg.det(X1.corr()) * np.linalg.det(X2.corr()) / np.linalg.det((data_Python >> select( ~ X['price'] )).corr())\n",
    "\n",
    "df_latitude = X1.shape[1]\n",
    "GVIF_latitude_scaled = GVIF_latitude**(1/(2*df_latitude))"
   ]
  },
  {
   "cell_type": "code",
   "execution_count": null,
   "metadata": {},
   "outputs": [],
   "source": [
    "X1 = data_Python >> select( X['no_of_bedrooms'] )\n",
    "X2 = data_Python >> select( ~ X['no_of_bedrooms'] , ~ X['price'])\n",
    "GVIF_no_of_bedrooms = np.linalg.det(X1.corr()) * np.linalg.det(X2.corr()) / np.linalg.det((data_Python >> select( ~ X['price'] )).corr())\n",
    "\n",
    "df_no_of_bedrooms = X1.shape[1]\n",
    "GVIF_no_of_bedrooms_scaled = GVIF_no_of_bedrooms**(1/(2*df_no_of_bedrooms))"
   ]
  },
  {
   "cell_type": "code",
   "execution_count": null,
   "metadata": {},
   "outputs": [],
   "source": [
    "X1 = data_Python >> select( X['no_of_bathrooms'] )\n",
    "X2 = data_Python >> select( ~ X['no_of_bathrooms'] , ~ X['price'])\n",
    "GVIF_no_of_bathrooms = np.linalg.det(X1.corr()) * np.linalg.det(X2.corr()) / np.linalg.det((data_Python >> select( ~ X['price'] )).corr())\n",
    "\n",
    "df_no_of_bathrooms = X1.shape[1]\n",
    "GVIF_no_of_bathrooms_scaled = GVIF_no_of_bathrooms**(1/(2*df_no_of_bathrooms))"
   ]
  },
  {
   "cell_type": "code",
   "execution_count": null,
   "metadata": {},
   "outputs": [
    {
     "data": {
      "text/html": [
       "<div>\n",
       "<style scoped>\n",
       "    .dataframe tbody tr th:only-of-type {\n",
       "        vertical-align: middle;\n",
       "    }\n",
       "\n",
       "    .dataframe tbody tr th {\n",
       "        vertical-align: top;\n",
       "    }\n",
       "\n",
       "    .dataframe thead th {\n",
       "        text-align: right;\n",
       "    }\n",
       "</style>\n",
       "<table border=\"1\" class=\"dataframe\">\n",
       "  <thead>\n",
       "    <tr style=\"text-align: right;\">\n",
       "      <th></th>\n",
       "      <th>predictor</th>\n",
       "      <th>GVIF</th>\n",
       "      <th>GVIF^(1/(2*df))</th>\n",
       "      <th>df</th>\n",
       "    </tr>\n",
       "  </thead>\n",
       "  <tbody>\n",
       "    <tr>\n",
       "      <th>0</th>\n",
       "      <td>size_in_m_2</td>\n",
       "      <td>1.080988</td>\n",
       "      <td>1.013064</td>\n",
       "      <td>3</td>\n",
       "    </tr>\n",
       "    <tr>\n",
       "      <th>1</th>\n",
       "      <td>longitude</td>\n",
       "      <td>2.642728</td>\n",
       "      <td>1.625647</td>\n",
       "      <td>1</td>\n",
       "    </tr>\n",
       "    <tr>\n",
       "      <th>2</th>\n",
       "      <td>latitude</td>\n",
       "      <td>1.639554</td>\n",
       "      <td>1.280451</td>\n",
       "      <td>1</td>\n",
       "    </tr>\n",
       "    <tr>\n",
       "      <th>3</th>\n",
       "      <td>no_of_bedrooms</td>\n",
       "      <td>1.667913</td>\n",
       "      <td>1.291477</td>\n",
       "      <td>1</td>\n",
       "    </tr>\n",
       "    <tr>\n",
       "      <th>4</th>\n",
       "      <td>no_of_bathrooms</td>\n",
       "      <td>4.565980</td>\n",
       "      <td>2.136815</td>\n",
       "      <td>1</td>\n",
       "    </tr>\n",
       "    <tr>\n",
       "      <th>5</th>\n",
       "      <td>quality</td>\n",
       "      <td>3.857961</td>\n",
       "      <td>1.964169</td>\n",
       "      <td>1</td>\n",
       "    </tr>\n",
       "  </tbody>\n",
       "</table>\n",
       "</div>"
      ],
      "text/plain": [
       "         predictor      GVIF  GVIF^(1/(2*df))  df\n",
       "0      size_in_m_2  1.080988         1.013064   3\n",
       "1        longitude  2.642728         1.625647   1\n",
       "2         latitude  1.639554         1.280451   1\n",
       "3   no_of_bedrooms  1.667913         1.291477   1\n",
       "4  no_of_bathrooms  4.565980         2.136815   1\n",
       "5          quality  3.857961         1.964169   1"
      ]
     },
     "execution_count": 94,
     "metadata": {},
     "output_type": "execute_result"
    }
   ],
   "source": [
    "a = (data_Python >> select( ~ X.price )).columns\n",
    "b = [GVIF_quality, GVIF_size_in_m_2, GVIF_longitude, GVIF_latitude, GVIF_no_of_bedrooms, GVIF_no_of_bathrooms]\n",
    "c = [GVIF_quality_scaled, GVIF_size_in_m_2_scaled, GVIF_longitude_scaled, GVIF_latitude_scaled, GVIF_no_of_bedrooms_scaled, GVIF_no_of_bathrooms_scaled]\n",
    "d = [df_quality, df_size_in_m_2, df_longitude, df_latitude, df_no_of_bedrooms, df_no_of_bathrooms]\n",
    "GVIF_Python_df = pd.DataFrame({'predictor': a , 'GVIF': b , 'GVIF^(1/(2*df))': c , 'df': d})\n",
    "GVIF_Python_df"
   ]
  },
  {
   "cell_type": "markdown",
   "metadata": {},
   "source": [
    "In this case all the quantitative predictors have GVIF^(1/(2*df)) $< 3.16 $, but GVIF^(1/(2*df)) of $no\\_of\\_bathrooms$ is $2.14 > 2$\n",
    "\n",
    "On the other hand the 4-ary categorical predictor $quality$ has GVIF^(1/(2*df)) $= 1.96 > 1.47$.\n",
    "\n",
    "So using the GVIF method, we can conclude that there is a **high** multicollinearity in the data."
   ]
  },
  {
   "cell_type": "markdown",
   "metadata": {},
   "source": []
  },
  {
   "cell_type": "markdown",
   "metadata": {},
   "source": [
    "### Checking Error Assumptions <a class=\"anchor\" id=\"60\"></a>"
   ]
  },
  {
   "cell_type": "markdown",
   "metadata": {},
   "source": [
    "- $\\varepsilon_i \\sim N(0,\\sigma) \\hspace{0.4cm} \\forall \\hspace{0.1cm} i=1,...,n $\n",
    "  \n",
    "- $corr(\\varepsilon_i , \\varepsilon_j)=0 \\hspace{0.4cm} \\forall \\hspace{0.1cm} i\\neq j =1,...,n $"
   ]
  },
  {
   "cell_type": "markdown",
   "metadata": {},
   "source": []
  },
  {
   "cell_type": "markdown",
   "metadata": {},
   "source": [
    "#### Checking Error Constant Variance <a class=\"anchor\" id=\"54\"></a>"
   ]
  },
  {
   "cell_type": "markdown",
   "metadata": {},
   "source": [
    "It is not possible to check the assumption of constant variance just by examining\n",
    "the residuals alone, some will be large and some will be small, but this proves nothing. We need to check whether the variance in the residuals is related to some\n",
    "other quantity.\n",
    "\n",
    "The most useful diagnostic is a plot of $\\hat{\\varepsilon}$ vs $\\hat{y}$"
   ]
  },
  {
   "cell_type": "markdown",
   "metadata": {},
   "source": [
    "Interpretation of the graph $\\hat{\\varepsilon}$ vs $\\hat{y}$:\n",
    "\n",
    "- If the dispersion of the points is uniform random $\\Rightarrow$ There is no problem (evidence of constant variance of the error).\n",
    "\n",
    "- If we can see a cone shape at the points $\\Rightarrow$ Problem (evidence of error not constant variance)\n",
    "\n",
    "<br>\n",
    "\n",
    "This plot can also provide evidence of nonlinearity between the response variable and the predictors:\n",
    "\n",
    "- If we can see a non-linear shape at the points $\\Rightarrow$ evidence of non-linearity between the response variable and the predictors"
   ]
  },
  {
   "cell_type": "markdown",
   "metadata": {},
   "source": []
  },
  {
   "cell_type": "markdown",
   "metadata": {},
   "source": [
    "##### Checking Error Constant Variance in R"
   ]
  },
  {
   "cell_type": "code",
   "execution_count": null,
   "metadata": {},
   "outputs": [
    {
     "data": {
      "image/png": "[encoded data removed]"
     },
     "metadata": {},
     "output_type": "display_data"
    }
   ],
   "source": [
    "%%R\n",
    "\n",
    "ggplot() +\n",
    "geom_point(mapping = aes(x=model_R_1$fitted.values , y = estimated_errors ), color=\"blue\")+\n",
    "geom_hline(yintercept =0 , color=\"red\")"
   ]
  },
  {
   "cell_type": "markdown",
   "metadata": {},
   "source": [
    "##### Checking Error Constant Variance in Python"
   ]
  },
  {
   "cell_type": "code",
   "execution_count": null,
   "metadata": {},
   "outputs": [],
   "source": [
    "from plotnine import ggplot, aes, geom_line, geom_point, geom_histogram, geom_bar, geom_boxplot, scale_y_continuous, scale_x_continuous, labs, after_stat,  geom_vline, scale_color_manual, theme_gray, theme_xkcd, scale_color_identity, geom_hline, facet_wrap, scale_fill_discrete, scale_fill_manual,  scale_fill_hue, guides, guide_legend, geom_hline, stat_function "
   ]
  },
  {
   "cell_type": "code",
   "execution_count": null,
   "metadata": {},
   "outputs": [
    {
     "data": {
      "image/png": "[encoded data removed]",
      "text/plain": [
       "<Figure size 640x480 with 1 Axes>"
      ]
     },
     "metadata": {},
     "output_type": "display_data"
    },
    {
     "data": {
      "text/plain": [
       "<ggplot: (87074734924)>"
      ]
     },
     "execution_count": 97,
     "metadata": {},
     "output_type": "execute_result"
    }
   ],
   "source": [
    "(\n",
    "ggplot()\n",
    "+ geom_point(mapping = aes(x=predictions , y = df_predictions_Python['train_errors'] ), color=\"green\")\n",
    "+ geom_hline(yintercept =0 , color=\"red\")\n",
    "+ labs(x='predictions' , y='estimated errors')\n",
    ")"
   ]
  },
  {
   "cell_type": "markdown",
   "metadata": {},
   "source": [
    "Since we can see a cone shape at the points, we cannot accept the constant error variance assumption $Var(\\varepsilon)=\\sigma^2$."
   ]
  },
  {
   "cell_type": "markdown",
   "metadata": {},
   "source": []
  },
  {
   "cell_type": "markdown",
   "metadata": {},
   "source": [
    "#### Checking Null Error Mean <a class=\"anchor\" id=\"62\"></a>"
   ]
  },
  {
   "cell_type": "markdown",
   "metadata": {},
   "source": [
    "We are going to use the typical t-test to verify this assumption."
   ]
  },
  {
   "cell_type": "code",
   "execution_count": null,
   "metadata": {},
   "outputs": [
    {
     "data": {
      "text/plain": [
       "-1.0688943187082846e-07"
      ]
     },
     "execution_count": 98,
     "metadata": {},
     "output_type": "execute_result"
    }
   ],
   "source": [
    "df_predictions_Python['train_errors'].mean()"
   ]
  },
  {
   "cell_type": "code",
   "execution_count": null,
   "metadata": {},
   "outputs": [
    {
     "name": "stdout",
     "output_type": "stream",
     "text": [
      "\n",
      "\tOne Sample t-test\n",
      "\n",
      "data:  estimated_errors\n",
      "t = -5.1697e-12, df = 1904, p-value = 1\n",
      "alternative hypothesis: true mean is not equal to 0\n",
      "95 percent confidence interval:\n",
      " -71952.49  71952.49\n",
      "sample estimates:\n",
      "    mean of x \n",
      "-1.896638e-07 \n",
      "\n"
     ]
    }
   ],
   "source": [
    "%%R\n",
    "\n",
    "t.test(x=estimated_errors , mu=0)"
   ]
  },
  {
   "cell_type": "code",
   "execution_count": null,
   "metadata": {},
   "outputs": [
    {
     "data": {
      "text/html": [
       "<div>\n",
       "<style scoped>\n",
       "    .dataframe tbody tr th:only-of-type {\n",
       "        vertical-align: middle;\n",
       "    }\n",
       "\n",
       "    .dataframe tbody tr th {\n",
       "        vertical-align: top;\n",
       "    }\n",
       "\n",
       "    .dataframe thead th {\n",
       "        text-align: right;\n",
       "    }\n",
       "</style>\n",
       "<table border=\"1\" class=\"dataframe\">\n",
       "  <thead>\n",
       "    <tr style=\"text-align: right;\">\n",
       "      <th></th>\n",
       "      <th>T</th>\n",
       "      <th>dof</th>\n",
       "      <th>alternative</th>\n",
       "      <th>p-val</th>\n",
       "      <th>CI95%</th>\n",
       "      <th>cohen-d</th>\n",
       "      <th>BF10</th>\n",
       "      <th>power</th>\n",
       "    </tr>\n",
       "  </thead>\n",
       "  <tbody>\n",
       "    <tr>\n",
       "      <th>T-test</th>\n",
       "      <td>-2.913488e-12</td>\n",
       "      <td>1904</td>\n",
       "      <td>two-sided</td>\n",
       "      <td>1.0</td>\n",
       "      <td>[-71952.49, 71952.49]</td>\n",
       "      <td>6.675222e-14</td>\n",
       "      <td>0.026</td>\n",
       "      <td>0.05</td>\n",
       "    </tr>\n",
       "  </tbody>\n",
       "</table>\n",
       "</div>"
      ],
      "text/plain": [
       "                   T   dof alternative  p-val                  CI95%  \\\n",
       "T-test -2.913488e-12  1904   two-sided    1.0  [-71952.49, 71952.49]   \n",
       "\n",
       "             cohen-d   BF10  power  \n",
       "T-test  6.675222e-14  0.026   0.05  "
      ]
     },
     "execution_count": 100,
     "metadata": {},
     "output_type": "execute_result"
    }
   ],
   "source": [
    "import pingouin as pg\n",
    "\n",
    "pg.ttest(x= df_predictions_Python['train_errors'] , y=0)"
   ]
  },
  {
   "cell_type": "markdown",
   "metadata": {},
   "source": []
  },
  {
   "cell_type": "markdown",
   "metadata": {},
   "source": [
    "#### Checking Error Normality <a class=\"anchor\" id=\"63\"></a>"
   ]
  },
  {
   "cell_type": "code",
   "execution_count": null,
   "metadata": {},
   "outputs": [
    {
     "name": "stdout",
     "output_type": "stream",
     "text": [
      " [1]   918574.13   298375.22 -1372740.03 -1372873.34   944047.04  1545395.91\n",
      " [7]  4153283.22  1545395.91 -1421401.76    79208.94\n"
     ]
    }
   ],
   "source": [
    "%%R\n",
    "as.data.frame(x=estimated_errors)[1:10,]"
   ]
  },
  {
   "cell_type": "code",
   "execution_count": null,
   "metadata": {},
   "outputs": [
    {
     "name": "stderr",
     "output_type": "stream",
     "text": [
      "R[write to console]: `stat_bin()` using `bins = 30`. Pick better value with `binwidth`.\n",
      "\n"
     ]
    },
    {
     "data": {
      "image/png": "[encoded data removed]"
     },
     "metadata": {},
     "output_type": "display_data"
    }
   ],
   "source": [
    "%%R\n",
    "\n",
    "\n",
    "ggplot(data = as.data.frame(estimated_errors) ,\n",
    " mapping = aes(x = estimated_errors)) +\n",
    " geom_histogram(aes(y =..density..), color=\"black\", fill=\"orange\",\n",
    " position = 'identity') +\n",
    " stat_function( fun = dnorm , \n",
    " args = list(mean = mean(estimated_errors), sd = sd(estimated_errors)),\n",
    " lwd = 1.2,  col = 'blue'\n",
    " )"
   ]
  },
  {
   "cell_type": "code",
   "execution_count": null,
   "metadata": {},
   "outputs": [
    {
     "data": {
      "image/png": "[encoded data removed]",
      "text/plain": [
       "<Figure size 640x480 with 1 Axes>"
      ]
     },
     "metadata": {},
     "output_type": "display_data"
    },
    {
     "data": {
      "text/plain": [
       "<ggplot: (87074739170)>"
      ]
     },
     "execution_count": 103,
     "metadata": {},
     "output_type": "execute_result"
    }
   ],
   "source": [
    "import scipy.stats as stats\n",
    "(\n",
    "ggplot(data = df_predictions_Python ,\n",
    " mapping = aes(x = df_predictions_Python['train_errors'])) \n",
    "+ geom_histogram(aes(y = after_stat('density')), color=\"black\", fill=\"pink\", position = 'identity', bins=35) \n",
    "+ stat_function( fun = stats.norm.pdf , args = dict( loc=mean(df_predictions_Python['train_errors']), scale=sd(df_predictions_Python['train_errors'])) , color='blue', size=1 )\n",
    ")"
   ]
  },
  {
   "cell_type": "code",
   "execution_count": null,
   "metadata": {},
   "outputs": [
    {
     "name": "stdout",
     "output_type": "stream",
     "text": [
      "\n",
      "\tShapiro-Wilk normality test\n",
      "\n",
      "data:  estimated_errors\n",
      "W = 0.79149, p-value < 2.2e-16\n",
      "\n"
     ]
    }
   ],
   "source": [
    "%%R\n",
    "\n",
    "shapiro.test(estimated_errors)"
   ]
  },
  {
   "cell_type": "code",
   "execution_count": null,
   "metadata": {},
   "outputs": [
    {
     "data": {
      "text/plain": [
       "ShapiroResult(statistic=0.7914911508560181, pvalue=4.203895392974451e-44)"
      ]
     },
     "execution_count": 105,
     "metadata": {},
     "output_type": "execute_result"
    }
   ],
   "source": [
    "shapiro_test = stats.shapiro(df_predictions_Python['train_errors'])\n",
    "shapiro_test"
   ]
  },
  {
   "cell_type": "markdown",
   "metadata": {},
   "source": []
  },
  {
   "cell_type": "markdown",
   "metadata": {},
   "source": [
    "#### Checking Null Error Correlation <a class=\"anchor\" id=\"64\"></a>"
   ]
  },
  {
   "cell_type": "markdown",
   "metadata": {},
   "source": [
    "We are going to check the null error correlation assumption through  the Durban-Watson test."
   ]
  },
  {
   "cell_type": "markdown",
   "metadata": {},
   "source": []
  },
  {
   "cell_type": "markdown",
   "metadata": {},
   "source": [
    "\n",
    "##### Hypothesis:"
   ]
  },
  {
   "cell_type": "markdown",
   "metadata": {},
   "source": [
    "$$H_0: \\hspace{0.1cm} corr\\left(\\hat{\\varepsilon}_{(1)},\\hat{\\varepsilon}_{(2)}\\right) = 0 $$ \n",
    "\n",
    "$$H_1: \\hspace{0.1cm} corr\\left(\\hat{\\varepsilon}_{(1)},\\hat{\\varepsilon}_{(2)}\\right) \\neq 0$$\n"
   ]
  },
  {
   "cell_type": "markdown",
   "metadata": {},
   "source": [
    "Where:\n",
    "\n",
    "$$\\hat{\\varepsilon}_{(1)} = (\\hat{\\varepsilon}_1 , \\hat{\\varepsilon}_2 ,..., \\hat{\\varepsilon}_{n-1})$$\n",
    "\n",
    "$$\\hat{\\varepsilon}_{(2)} = (\\hat{\\varepsilon}_2  ,...,\\hat{\\varepsilon}_{n-1}, \\hat{\\varepsilon}_{n})$$"
   ]
  },
  {
   "cell_type": "markdown",
   "metadata": {},
   "source": []
  },
  {
   "cell_type": "markdown",
   "metadata": {},
   "source": [
    "##### Test Statistic :"
   ]
  },
  {
   "cell_type": "markdown",
   "metadata": {},
   "source": [
    "\\begin{gather*}\n",
    "DW = \\dfrac{\\sum_{i=2}^n (\\hat{\\varepsilon}_i - \\hat{\\varepsilon}_{i-1})^2 }{\\sum_{i=2}^n \\hat{\\varepsilon}_{i}^2 } = \\dfrac{sum\\left( \\hspace{0.1cm}( \\hat{\\varepsilon}_{(2)} - \\hat{\\varepsilon}_{(1)})^2 \\hspace{0.1cm} \\right)}{sum\\left( \\hspace{0.1cm} (\\hat{\\varepsilon}_{(2)})^2 \\hspace{0.1cm} \\right)}\n",
    "\\end{gather*}\n"
   ]
  },
  {
   "cell_type": "markdown",
   "metadata": {},
   "source": [
    "\n",
    "\n",
    "The test statistic is approximately equal to $\\hspace{0.1cm} 2\\cdot (1-r) \\hspace{0.1cm}$ where $r$ is the sample autocorrelation of the residuals. Thus, the test statistic will always be between $0$ and $4$ with the following interpretation:\n",
    "\n",
    "A test statistic of $2$ indicates $no serial correlation$.\n",
    "\n",
    "The closer the test statistics is to $0$, the more evidence of *positive serial correlation*.\n",
    "\n",
    "The closer the test statistics is to $4$, the more evidence of *negative serial correlation*."
   ]
  },
  {
   "cell_type": "markdown",
   "metadata": {},
   "source": []
  },
  {
   "cell_type": "markdown",
   "metadata": {},
   "source": [
    "##### Durban-Watson test in R"
   ]
  },
  {
   "cell_type": "code",
   "execution_count": null,
   "metadata": {},
   "outputs": [
    {
     "data": {
      "image/png": "[encoded data removed]"
     },
     "metadata": {},
     "output_type": "display_data"
    }
   ],
   "source": [
    "%%R\n",
    "\n",
    "estimated_errors_1 = estimated_errors[-length(estimated_errors)]\n",
    "estimated_errors_2 = estimated_errors[-1]\n",
    "\n",
    "ggplot() +\n",
    "geom_point(mapping = aes(x=estimated_errors_1 , y = estimated_errors_2 ), color=\"blue\")"
   ]
  },
  {
   "cell_type": "markdown",
   "metadata": {},
   "source": []
  },
  {
   "cell_type": "code",
   "execution_count": null,
   "metadata": {},
   "outputs": [
    {
     "name": "stderr",
     "output_type": "stream",
     "text": [
      "R[write to console]: \n",
      "Attaching package: 'zoo'\n",
      "\n",
      "\n",
      "R[write to console]: The following objects are masked from 'package:base':\n",
      "\n",
      "    as.Date, as.Date.numeric\n",
      "\n",
      "\n"
     ]
    },
    {
     "name": "stdout",
     "output_type": "stream",
     "text": [
      "\n",
      "\tDurbin-Watson test\n",
      "\n",
      "data:  price ~ size_in_m_2 + longitude + latitude + no_of_bedrooms +     no_of_bathrooms + quality\n",
      "DW = 1.7158, p-value = 4.52e-10\n",
      "alternative hypothesis: true autocorrelation is not 0\n",
      "\n"
     ]
    }
   ],
   "source": [
    "%%R\n",
    "library(zoo)\n",
    "library(lmtest)\n",
    "\n",
    "dwtest(price ~ size_in_m_2  + longitude + latitude + no_of_bedrooms + no_of_bathrooms + quality , data=data_R, alternative = 'two.sided' )"
   ]
  },
  {
   "cell_type": "markdown",
   "metadata": {},
   "source": [
    "##### Durban-Watson test in Python"
   ]
  },
  {
   "cell_type": "code",
   "execution_count": null,
   "metadata": {},
   "outputs": [],
   "source": [
    "train_errors_1 = df_predictions_Python >> row_slice(list(range(1,len(df_predictions_Python)))) >> select(X['train_errors'])\n",
    "\n",
    "train_errors_2 = df_predictions_Python >> row_slice(list(range(0,len(df_predictions_Python)-1))) >> select(X['train_errors'])\n",
    "train_errors_2['index']=range(1,len(train_errors_2)+1)\n",
    "train_errors_2 = train_errors_2.set_index('index')\n",
    "\n",
    "(\n",
    "ggplot() \n",
    "+ geom_point(mapping = aes(x=train_errors_1 , y = train_errors_2 ), color=\"green\")\n",
    ")"
   ]
  },
  {
   "cell_type": "code",
   "execution_count": null,
   "metadata": {},
   "outputs": [
    {
     "data": {
      "text/plain": [
       "1.7158064595327662"
      ]
     },
     "execution_count": 111,
     "metadata": {},
     "output_type": "execute_result"
    }
   ],
   "source": [
    "import statsmodels\n",
    "\n",
    "statsmodels.stats.stattools.durbin_watson(df_predictions_Python['train_errors'], axis=0)"
   ]
  },
  {
   "cell_type": "markdown",
   "metadata": {},
   "source": [
    "Another alternative in Python that gives us the p-value:"
   ]
  },
  {
   "cell_type": "code",
   "execution_count": null,
   "metadata": {},
   "outputs": [
    {
     "name": "stdout",
     "output_type": "stream",
     "text": [
      "Collecting dwtest\n",
      "  Downloading dwtest-0.0.4-py3-none-any.whl (4.2 kB)\n",
      "Installing collected packages: dwtest\n",
      "Successfully installed dwtest-0.0.4\n",
      "Note: you may need to restart the kernel to use updated packages.\n"
     ]
    }
   ],
   "source": [
    "#pip install dwtest"
   ]
  },
  {
   "cell_type": "markdown",
   "metadata": {},
   "source": [
    "More information about this Python package here https://github.com/JackywithaWhiteDog/dwtest"
   ]
  },
  {
   "cell_type": "code",
   "execution_count": null,
   "metadata": {},
   "outputs": [],
   "source": [
    "from dwtest import dwtest"
   ]
  },
  {
   "cell_type": "code",
   "execution_count": null,
   "metadata": {},
   "outputs": [],
   "source": [
    "statistic, pvalue = dwtest( 'price ~ size_in_m_2  + longitude + latitude + no_of_bedrooms + no_of_bathrooms'  , data_Python)"
   ]
  },
  {
   "cell_type": "code",
   "execution_count": null,
   "metadata": {},
   "outputs": [
    {
     "data": {
      "text/plain": [
       "(1.720186802122348, 5.373510268400102e-10)"
      ]
     },
     "execution_count": 123,
     "metadata": {},
     "output_type": "execute_result"
    }
   ],
   "source": [
    "statistic, pvalue"
   ]
  },
  {
   "cell_type": "markdown",
   "metadata": {},
   "source": []
  }
 ],
 "metadata": {
  "kernelspec": {
   "display_name": "Python 3.9.12",
   "language": "python",
   "name": "python3"
  },
  "language_info": {
   "codemirror_mode": {
    "name": "ipython",
    "version": 3
   },
   "file_extension": ".py",
   "mimetype": "text/x-python",
   "name": "python",
   "nbconvert_exporter": "python",
   "pygments_lexer": "ipython3",
   "version": "3.9.12"
  },
  "orig_nbformat": 4,
  "vscode": {
   "interpreter": {
    "hash": "7631d2f67dc5c0d81c934cd816f64da3a3e19087cae08f194906cf70954a9de3"
   }
  }
 },
 "nbformat": 4,
 "nbformat_minor": 2
}
