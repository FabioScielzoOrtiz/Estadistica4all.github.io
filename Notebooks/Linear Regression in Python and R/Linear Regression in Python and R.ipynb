{
 "cells": [
  {
   "cell_type": "markdown",
   "metadata": {},
   "source": [
    "## Index\n",
    "\n",
    "* [Data-set description](#1)\n",
    "* * [Data Manipulation in R](#2)\n",
    "* * [Data Manipulation in Python](#3)\n",
    "  \n",
    "\n",
    "  <br>\n",
    "  \n",
    "* [Introduction to the Linear Regression Model](#4)\n",
    "* * [Usefulness of the Linear Regression Model](#5)\n",
    "* * [Formal Approach to the Linear Regression Modelo](#6)\n",
    "* * [Basic Assumptions](#7)\n",
    "* * [Assumptions Consequences](#8)\n",
    "* * [Matrix representation of the basic assumption of the model](#9)\n",
    "  \n",
    "  <br>\n",
    "  \n",
    "* [Estimation](#10)\n",
    "* * [Prediction of Response Variable](#11)\n",
    "* * [Estimation of model coefficients](#12)\n",
    "* * [Estimation of model errors](#13)\n",
    "* * [Regression Hyperplane ](#14)\n",
    "* * [Hat-Matrix](#15)\n",
    "* * [Estimation of the Linear Regression Model in R](#16)\n",
    "* * [Estimation of Linear Regression Model in Python with `statsmodels`](#17)\n",
    "* * [Estimation of Linear Regression Model in Python with `scikit-learn`](#18)\n",
    "* * [Precision of the estimations of model coefficients](#19)\n",
    "* * * [Estimation of the standard deviation of coefficients estimators in R](#20)\n",
    "* * * [Estimation of the standard deviation of coefficients estimators in Python](#21)\n",
    "* * [Estimation of model errors in R ](#22)\n",
    "* * [Estimation of model errors in Python](#23)\n",
    "* * [Estimation of the error variance](#24)\n",
    "* * * [Estimation of the error variance in R ](#25)\n",
    "* * * [Estimation of the error variance in Python ](#26)\n",
    "  \n",
    "  <br>\n",
    "\n",
    "* [Model Train Validation ](#27)\n",
    "* * [Model Train Validation in R](#28)\n",
    "* * [Model Train Validation in Python](#29)\n",
    "\n",
    "  <br>\n",
    "\n",
    "* [Model Coefficients Interpretation](#30)\n",
    "* * [Null Coefficient](#31)\n",
    "* * [Cuantitative Predictor Coefficient](#32)\n",
    "* * [Categorical Predictor Coefficient](#33)\n",
    "* * * [Example of coefficients interpretation](#34)\n",
    "* * [Interaction  Coefficient](#35)\n",
    "* * * [Example of interaction coefficient interpretation](#36)\n",
    "  \n",
    "  <br>\n",
    "\n",
    "* [Inference](#37)\n",
    "* * [Confidence Interval for $\\beta_j$](#38)\n",
    "* * [Confidence Interval for $\\sigma^2$](#39)\n",
    "* * * [Confidence Interval for  $\\beta_j$  in R](#40)\n",
    "* * * [Confidence Interval for  $\\beta_j$  in Python](#41)\n",
    "* * * [Confidence Interval for  $\\sigma^2$  in R](#42)\n",
    "* * * [Confidence Interval for  $\\sigma^2$  in Python](#43)\n",
    "* * [t-test: Test for $\\beta_j$](#44)\n",
    "* * [Test of Significance for $\\beta_j$](#45)\n",
    "* * * [Test of Significance  in R ](#46)\n",
    "* * * [Test of Significance  in Python ](#47)\n",
    "* * [ANOVA test](#48)\n",
    "* * * [ ANOVA test in R](#49)\n",
    "* * * [ANOVA test in Python](#50)\n",
    "\n",
    "  <br>\n",
    "\n",
    "* [Goodness of Fit: R-square](#51)\n",
    "* * [Compute $R^2$ in R](#52)\n",
    "* * [Compute $R^2$ in Python](#53)\n",
    "  \n",
    "  <br>\n",
    "\n",
    "* [Goodness of Fit: Adjusted R-square ](#54)\n",
    "* * [Compute $\\widehat{R^2}$ in R](#55)\n",
    "* * [Compute $\\widehat{R^2}$ in Python](#56)\n",
    "  \n",
    "  <br>\n",
    "  \n",
    "* [Model Problems](#57)\n",
    "* * [Multicollinearity](#58)\n",
    "* * * [Identification of multicollinearity](#59)\n",
    "* * [Checking Error Assumptions](#60)\n",
    "* * * [Checking Error Constant Variance](#61)\n",
    "* * * [Checking Null Error Mean](#62)\n",
    "* * * [Checking Error Normality](#63)\n",
    "* * * [Checking Null Error Correlation](#64)\n",
    "\n",
    "  "
   ]
  },
  {
   "cell_type": "markdown",
   "metadata": {},
   "source": []
  },
  {
   "cell_type": "markdown",
   "metadata": {},
   "source": [
    "## Data-set description <a class=\"anchor\" id=\"1\"></a>"
   ]
  },
  {
   "cell_type": "markdown",
   "metadata": {},
   "source": [
    "\n",
    "\n",
    "We are going to describe the data-set we will use in this article.\n",
    "\n",
    "The data are 1905 observation about 38 variables on housing features.\n",
    "\n",
    "Here is the link where the data was loaded:\n",
    "<https://www.kaggle.com/datasets/dataregress/dubai-properties-dataset?resource=download>\n",
    "\n",
    "\n",
    "\n",
    "The variables of our interest are the following:\n",
    "\n",
    "-   id : identificator\n",
    "\n",
    "-   neighborhood: the name of the neighborhood\n",
    "\n",
    "-   latitude: the latitude of the house\n",
    "\n",
    "-   longitude: the longitude of the house\n",
    "\n",
    "-   price: the market price of the house\n",
    "\n",
    "-   size_in_sqft: the size of the house in square foot\n",
    "\n",
    "    -   1 sqft = 0.092903 $m^2$\n",
    "\n",
    "-   price_per_sqft: the market price of the house per square foot\n",
    "\n",
    "-   no_of_bedrooms: number of bedrooms in the house\n",
    "\n",
    "-   no_of_bathrooms: number of bathrooms in the house\n",
    "\n",
    "-   quality: quality of the house. Based on the number of services. Her\n",
    "    categories are Ultra, High, Medium and Low\n",
    "\n",
    "-   maid_room: indicates if the house has maid room (cuarto de servicio)\n",
    "    (true/false)\n",
    "\n",
    "-   unfurnished: indicates if the house is unfurnished (sin amueblar)\n",
    "    (true/false)\n",
    "\n",
    "-   balcony: indicates if the house has balcony (true/false)\n",
    "\n",
    "-   barbecue_area: indicates if the house has barbecue area (true/false)\n",
    "\n",
    "-   central_ac: indicates if the house has central air conditioning\n",
    "    (true/false)\n",
    "\n",
    "-   childrens_play_area: indicatees if the house has childrens game area\n",
    "    (true/false)\n",
    "\n",
    "-   childrens_pool: indicates if the house has childrens pool\n",
    "    (true/false)\n",
    "\n",
    "-   concierge: indicates if the house has concierge (true/false)\n",
    "\n",
    "-   covered_parking: indicates if the house has covered parking\n",
    "    (true/false)\n",
    "\n",
    "-   kitchen_appliances: indicates if the house has kitchen appliances\n",
    "    (electrodomesticos de cocina) (true/false)\n",
    "\n",
    "-   maid_service: indicates if the house has maid service (servicio de\n",
    "    limpieza) (true/false)\n",
    "\n",
    "-   pets_allowed: indicates if pets are allowed(true/false)\n",
    "\n",
    "-   private_garden: indicates if the house has private garden\n",
    "    (true/false)\n",
    "\n",
    "-   private_gym: indicates if the house has private gym (true/false)\n",
    "\n",
    "-   private_jacuzzi: indicates if the house has private jacuzzi\n",
    "    (true/false)\n",
    "\n",
    "-   private_pool: indicates if the house has private pool (true/false)\n",
    "\n",
    "-   security: indicates if the house has private secutity (true/false)\n",
    "\n",
    "-   shared_gym: indicates if the house has shared gym (true/false)\n",
    "\n",
    "-   shared_pool: indicates if the house has shared pool (true/false)\n",
    "\n",
    "-   shared_spa: indicates if the house has shared spa (true/false)\n",
    "\n",
    "-   view_of_water: indicates if the house has view of the water\n",
    "    (true/false)\n",
    "\n"
   ]
  },
  {
   "cell_type": "markdown",
   "metadata": {},
   "source": [
    "\n",
    "\n",
    "Now we are going to do the following:\n",
    "\n",
    "1. We are going to load an manipulate the data-set in R\n",
    "\n",
    "2. We will repeat this task in Python\n",
    "\n"
   ]
  },
  {
   "cell_type": "markdown",
   "metadata": {},
   "source": []
  },
  {
   "cell_type": "markdown",
   "metadata": {},
   "source": [
    "### Data Manipulation in R <a class=\"anchor\" id=\"2\"></a>"
   ]
  },
  {
   "cell_type": "code",
   "execution_count": 336,
   "metadata": {},
   "outputs": [
    {
     "name": "stdout",
     "output_type": "stream",
     "text": [
      "The rpy2.ipython extension is already loaded. To reload it, use:\n",
      "  %reload_ext rpy2.ipython\n"
     ]
    }
   ],
   "source": [
    "import rpy2\n",
    "\n",
    "%load_ext rpy2.ipython\n",
    "\n",
    "import rpy2.robjects as robjects"
   ]
  },
  {
   "cell_type": "markdown",
   "metadata": {},
   "source": [
    "\n",
    "We load the data-set with which we are going to work:\n"
   ]
  },
  {
   "cell_type": "code",
   "execution_count": 337,
   "metadata": {},
   "outputs": [
    {
     "name": "stdout",
     "output_type": "stream",
     "text": [
      "Rows: 1905 Columns: 38\n",
      "-- Column specification --------------------------------------------------------\n",
      "Delimiter: \",\"\n",
      "chr  (2): neighborhood, quality\n",
      "dbl  (8): id, latitude, longitude, price, size_in_sqft, price_per_sqft, no_o...\n",
      "lgl (28): maid_room, unfurnished, balcony, barbecue_area, built_in_wardrobes...\n",
      "\n",
      "i Use `spec()` to retrieve the full column specification for this data.\n",
      "i Specify the column types or set `show_col_types = FALSE` to quiet this message.\n"
     ]
    }
   ],
   "source": [
    "%%R \n",
    "\n",
    "library(tidyverse)\n",
    "\n",
    "url = 'https://raw.githubusercontent.com/FabioScielzoOrtiz/Estadistica4all-blog/main/Linear%20Regression%20in%20Python%20and%20R/properties_data.csv'\n",
    "\n",
    "properties_data <- read_csv(url)"
   ]
  },
  {
   "cell_type": "markdown",
   "metadata": {},
   "source": [
    "Now, we are going to tranformate the variables that are measured in square foot (sqft) to square meters $(m^2)$\n"
   ]
  },
  {
   "cell_type": "markdown",
   "metadata": {},
   "source": [
    "\n",
    "size_in_m\\_2 = 0.092903 \\* size_in_sqft\n",
    "\n",
    "price_per_m\\_2 = price_per_sqft / 0.092903\n",
    "\n"
   ]
  },
  {
   "cell_type": "markdown",
   "metadata": {},
   "source": [
    "\n",
    "\n",
    "Now, we are going to tranformate the variables that are measured in square foot (sqft) to square meters $(m^2)$\n",
    "\n",
    "size_in_m\\_2 = 0.092903 \\* size_in_sqft\n",
    "\n",
    "price_per_m\\_2 = price_per_sqft / 0.092903\n",
    "\n"
   ]
  },
  {
   "cell_type": "code",
   "execution_count": 338,
   "metadata": {},
   "outputs": [],
   "source": [
    "%%R \n",
    "\n",
    "size_in_m_2 <-  0.092903*properties_data$size_in_sqft\n",
    "\n",
    "properties_data$size_in_m_2 <- size_in_m_2\n",
    "\n",
    "price_per_m_2 <- properties_data$price_per_sqft /  0.092903 \n",
    "\n",
    "properties_data$price_per_m_2 <- price_per_m_2\n"
   ]
  },
  {
   "cell_type": "markdown",
   "metadata": {},
   "source": [
    "\n",
    "\n",
    "The following step will be remove in the data-set the variables that we will not take into account:\n"
   ]
  },
  {
   "cell_type": "code",
   "execution_count": 339,
   "metadata": {},
   "outputs": [
    {
     "name": "stdout",
     "output_type": "stream",
     "text": [
      " [1] \"Medium\" \"Medium\" \"Medium\" \"Low\"    \"Medium\" \"Medium\" \"High\"   \"Medium\"\n",
      " [9] \"Low\"    \"Medium\"\n"
     ]
    }
   ],
   "source": [
    "%%R\n",
    "properties_data$quality[1:10]"
   ]
  },
  {
   "cell_type": "code",
   "execution_count": 340,
   "metadata": {},
   "outputs": [],
   "source": [
    "%%R \n",
    "\n",
    "properties_data$quality = recode_factor(properties_data$quality , \"Low\" = 0 , \"Medium\" = 1 , \"High\" = 2  , \"Ultra\" = 3)\n"
   ]
  },
  {
   "cell_type": "code",
   "execution_count": 341,
   "metadata": {},
   "outputs": [],
   "source": [
    "%%R \n",
    "\n",
    "properties_data$quality = factor(properties_data$quality)"
   ]
  },
  {
   "cell_type": "code",
   "execution_count": 342,
   "metadata": {},
   "outputs": [
    {
     "name": "stdout",
     "output_type": "stream",
     "text": [
      "# A tibble: 6 x 7\n",
      "    price size_in_m_2 longitude latitude no_of_bedrooms no_of_bathrooms quality\n",
      "    <dbl>       <dbl>     <dbl>    <dbl>          <dbl>           <dbl> <fct>  \n",
      "1 2700000       100.       55.1     25.1              1               2 1      \n",
      "2 2850000       147.       55.2     25.1              2               2 1      \n",
      "3 1150000       181.       55.1     25.1              3               5 1      \n",
      "4 2850000       188.       55.3     25.2              2               3 0      \n",
      "5 1729200        47.1      55.1     25.1              0               1 1      \n",
      "6 3119900        94.3      55.1     25.1              1               2 1      \n"
     ]
    }
   ],
   "source": [
    "%%R \n",
    "\n",
    "data_R <- properties_data %>% select(\"price\", \"size_in_m_2\", \"longitude\", \"latitude\", \"no_of_bedrooms\", \"no_of_bathrooms\", \"quality\")\n",
    "\n",
    "head(data_R)"
   ]
  },
  {
   "cell_type": "markdown",
   "metadata": {},
   "source": []
  },
  {
   "cell_type": "markdown",
   "metadata": {},
   "source": [
    "### Data Manipulation in Python <a class=\"anchor\" id=\"3\"></a>"
   ]
  },
  {
   "cell_type": "code",
   "execution_count": 343,
   "metadata": {},
   "outputs": [],
   "source": [
    "import pandas as pd\n",
    "\n",
    "from dfply import *\n",
    "\n",
    "import warnings\n",
    "warnings.filterwarnings('ignore')"
   ]
  },
  {
   "cell_type": "code",
   "execution_count": 344,
   "metadata": {},
   "outputs": [
    {
     "data": {
      "text/html": [
       "<div>\n",
       "<style scoped>\n",
       "    .dataframe tbody tr th:only-of-type {\n",
       "        vertical-align: middle;\n",
       "    }\n",
       "\n",
       "    .dataframe tbody tr th {\n",
       "        vertical-align: top;\n",
       "    }\n",
       "\n",
       "    .dataframe thead th {\n",
       "        text-align: right;\n",
       "    }\n",
       "</style>\n",
       "<table border=\"1\" class=\"dataframe\">\n",
       "  <thead>\n",
       "    <tr style=\"text-align: right;\">\n",
       "      <th></th>\n",
       "      <th>id</th>\n",
       "      <th>neighborhood</th>\n",
       "      <th>latitude</th>\n",
       "      <th>longitude</th>\n",
       "      <th>price</th>\n",
       "      <th>size_in_sqft</th>\n",
       "      <th>price_per_sqft</th>\n",
       "      <th>no_of_bedrooms</th>\n",
       "      <th>no_of_bathrooms</th>\n",
       "      <th>quality</th>\n",
       "      <th>...</th>\n",
       "      <th>private_pool</th>\n",
       "      <th>security</th>\n",
       "      <th>shared_gym</th>\n",
       "      <th>shared_pool</th>\n",
       "      <th>shared_spa</th>\n",
       "      <th>study</th>\n",
       "      <th>vastu_compliant</th>\n",
       "      <th>view_of_landmark</th>\n",
       "      <th>view_of_water</th>\n",
       "      <th>walk_in_closet</th>\n",
       "    </tr>\n",
       "  </thead>\n",
       "  <tbody>\n",
       "    <tr>\n",
       "      <th>0</th>\n",
       "      <td>5528049</td>\n",
       "      <td>Palm Jumeirah</td>\n",
       "      <td>25.113208</td>\n",
       "      <td>55.138932</td>\n",
       "      <td>2700000</td>\n",
       "      <td>1079</td>\n",
       "      <td>2502.32</td>\n",
       "      <td>1</td>\n",
       "      <td>2</td>\n",
       "      <td>Medium</td>\n",
       "      <td>...</td>\n",
       "      <td>False</td>\n",
       "      <td>False</td>\n",
       "      <td>True</td>\n",
       "      <td>False</td>\n",
       "      <td>False</td>\n",
       "      <td>False</td>\n",
       "      <td>False</td>\n",
       "      <td>False</td>\n",
       "      <td>True</td>\n",
       "      <td>False</td>\n",
       "    </tr>\n",
       "    <tr>\n",
       "      <th>1</th>\n",
       "      <td>6008529</td>\n",
       "      <td>Palm Jumeirah</td>\n",
       "      <td>25.106809</td>\n",
       "      <td>55.151201</td>\n",
       "      <td>2850000</td>\n",
       "      <td>1582</td>\n",
       "      <td>1801.52</td>\n",
       "      <td>2</td>\n",
       "      <td>2</td>\n",
       "      <td>Medium</td>\n",
       "      <td>...</td>\n",
       "      <td>False</td>\n",
       "      <td>False</td>\n",
       "      <td>True</td>\n",
       "      <td>True</td>\n",
       "      <td>False</td>\n",
       "      <td>False</td>\n",
       "      <td>False</td>\n",
       "      <td>False</td>\n",
       "      <td>True</td>\n",
       "      <td>False</td>\n",
       "    </tr>\n",
       "    <tr>\n",
       "      <th>2</th>\n",
       "      <td>6034542</td>\n",
       "      <td>Jumeirah Lake Towers</td>\n",
       "      <td>25.063302</td>\n",
       "      <td>55.137728</td>\n",
       "      <td>1150000</td>\n",
       "      <td>1951</td>\n",
       "      <td>589.44</td>\n",
       "      <td>3</td>\n",
       "      <td>5</td>\n",
       "      <td>Medium</td>\n",
       "      <td>...</td>\n",
       "      <td>False</td>\n",
       "      <td>True</td>\n",
       "      <td>True</td>\n",
       "      <td>True</td>\n",
       "      <td>False</td>\n",
       "      <td>False</td>\n",
       "      <td>False</td>\n",
       "      <td>True</td>\n",
       "      <td>True</td>\n",
       "      <td>True</td>\n",
       "    </tr>\n",
       "    <tr>\n",
       "      <th>3</th>\n",
       "      <td>6326063</td>\n",
       "      <td>Culture Village</td>\n",
       "      <td>25.227295</td>\n",
       "      <td>55.341761</td>\n",
       "      <td>2850000</td>\n",
       "      <td>2020</td>\n",
       "      <td>1410.89</td>\n",
       "      <td>2</td>\n",
       "      <td>3</td>\n",
       "      <td>Low</td>\n",
       "      <td>...</td>\n",
       "      <td>False</td>\n",
       "      <td>False</td>\n",
       "      <td>False</td>\n",
       "      <td>False</td>\n",
       "      <td>False</td>\n",
       "      <td>False</td>\n",
       "      <td>False</td>\n",
       "      <td>False</td>\n",
       "      <td>False</td>\n",
       "      <td>False</td>\n",
       "    </tr>\n",
       "    <tr>\n",
       "      <th>4</th>\n",
       "      <td>6356778</td>\n",
       "      <td>Palm Jumeirah</td>\n",
       "      <td>25.114275</td>\n",
       "      <td>55.139764</td>\n",
       "      <td>1729200</td>\n",
       "      <td>507</td>\n",
       "      <td>3410.65</td>\n",
       "      <td>0</td>\n",
       "      <td>1</td>\n",
       "      <td>Medium</td>\n",
       "      <td>...</td>\n",
       "      <td>False</td>\n",
       "      <td>True</td>\n",
       "      <td>True</td>\n",
       "      <td>True</td>\n",
       "      <td>True</td>\n",
       "      <td>False</td>\n",
       "      <td>False</td>\n",
       "      <td>True</td>\n",
       "      <td>True</td>\n",
       "      <td>False</td>\n",
       "    </tr>\n",
       "    <tr>\n",
       "      <th>...</th>\n",
       "      <td>...</td>\n",
       "      <td>...</td>\n",
       "      <td>...</td>\n",
       "      <td>...</td>\n",
       "      <td>...</td>\n",
       "      <td>...</td>\n",
       "      <td>...</td>\n",
       "      <td>...</td>\n",
       "      <td>...</td>\n",
       "      <td>...</td>\n",
       "      <td>...</td>\n",
       "      <td>...</td>\n",
       "      <td>...</td>\n",
       "      <td>...</td>\n",
       "      <td>...</td>\n",
       "      <td>...</td>\n",
       "      <td>...</td>\n",
       "      <td>...</td>\n",
       "      <td>...</td>\n",
       "      <td>...</td>\n",
       "      <td>...</td>\n",
       "    </tr>\n",
       "    <tr>\n",
       "      <th>1900</th>\n",
       "      <td>7705450</td>\n",
       "      <td>Mohammed Bin Rashid City</td>\n",
       "      <td>25.176892</td>\n",
       "      <td>55.310712</td>\n",
       "      <td>1500000</td>\n",
       "      <td>1087</td>\n",
       "      <td>1379.94</td>\n",
       "      <td>2</td>\n",
       "      <td>2</td>\n",
       "      <td>Ultra</td>\n",
       "      <td>...</td>\n",
       "      <td>False</td>\n",
       "      <td>True</td>\n",
       "      <td>True</td>\n",
       "      <td>True</td>\n",
       "      <td>True</td>\n",
       "      <td>True</td>\n",
       "      <td>True</td>\n",
       "      <td>True</td>\n",
       "      <td>True</td>\n",
       "      <td>True</td>\n",
       "    </tr>\n",
       "    <tr>\n",
       "      <th>1901</th>\n",
       "      <td>7706287</td>\n",
       "      <td>Mohammed Bin Rashid City</td>\n",
       "      <td>25.166145</td>\n",
       "      <td>55.276684</td>\n",
       "      <td>1230000</td>\n",
       "      <td>760</td>\n",
       "      <td>1618.42</td>\n",
       "      <td>1</td>\n",
       "      <td>2</td>\n",
       "      <td>Medium</td>\n",
       "      <td>...</td>\n",
       "      <td>False</td>\n",
       "      <td>False</td>\n",
       "      <td>True</td>\n",
       "      <td>True</td>\n",
       "      <td>False</td>\n",
       "      <td>False</td>\n",
       "      <td>False</td>\n",
       "      <td>False</td>\n",
       "      <td>True</td>\n",
       "      <td>True</td>\n",
       "    </tr>\n",
       "    <tr>\n",
       "      <th>1902</th>\n",
       "      <td>7706389</td>\n",
       "      <td>Dubai Creek Harbour (The Lagoons)</td>\n",
       "      <td>25.206500</td>\n",
       "      <td>55.345056</td>\n",
       "      <td>2900000</td>\n",
       "      <td>1930</td>\n",
       "      <td>1502.59</td>\n",
       "      <td>3</td>\n",
       "      <td>5</td>\n",
       "      <td>Medium</td>\n",
       "      <td>...</td>\n",
       "      <td>False</td>\n",
       "      <td>False</td>\n",
       "      <td>False</td>\n",
       "      <td>True</td>\n",
       "      <td>False</td>\n",
       "      <td>False</td>\n",
       "      <td>False</td>\n",
       "      <td>False</td>\n",
       "      <td>False</td>\n",
       "      <td>False</td>\n",
       "    </tr>\n",
       "    <tr>\n",
       "      <th>1903</th>\n",
       "      <td>7706591</td>\n",
       "      <td>Jumeirah Village Circle</td>\n",
       "      <td>25.073858</td>\n",
       "      <td>55.229844</td>\n",
       "      <td>675000</td>\n",
       "      <td>740</td>\n",
       "      <td>912.16</td>\n",
       "      <td>1</td>\n",
       "      <td>2</td>\n",
       "      <td>Medium</td>\n",
       "      <td>...</td>\n",
       "      <td>False</td>\n",
       "      <td>True</td>\n",
       "      <td>True</td>\n",
       "      <td>True</td>\n",
       "      <td>False</td>\n",
       "      <td>False</td>\n",
       "      <td>False</td>\n",
       "      <td>False</td>\n",
       "      <td>True</td>\n",
       "      <td>True</td>\n",
       "    </tr>\n",
       "    <tr>\n",
       "      <th>1904</th>\n",
       "      <td>7706643</td>\n",
       "      <td>Jumeirah Lake Towers</td>\n",
       "      <td>25.079130</td>\n",
       "      <td>55.154713</td>\n",
       "      <td>760887</td>\n",
       "      <td>800</td>\n",
       "      <td>951.11</td>\n",
       "      <td>1</td>\n",
       "      <td>2</td>\n",
       "      <td>High</td>\n",
       "      <td>...</td>\n",
       "      <td>False</td>\n",
       "      <td>True</td>\n",
       "      <td>True</td>\n",
       "      <td>True</td>\n",
       "      <td>True</td>\n",
       "      <td>False</td>\n",
       "      <td>False</td>\n",
       "      <td>False</td>\n",
       "      <td>True</td>\n",
       "      <td>False</td>\n",
       "    </tr>\n",
       "  </tbody>\n",
       "</table>\n",
       "<p>1905 rows × 38 columns</p>\n",
       "</div>"
      ],
      "text/plain": [
       "           id                       neighborhood   latitude  longitude  \\\n",
       "0     5528049                      Palm Jumeirah  25.113208  55.138932   \n",
       "1     6008529                      Palm Jumeirah  25.106809  55.151201   \n",
       "2     6034542               Jumeirah Lake Towers  25.063302  55.137728   \n",
       "3     6326063                    Culture Village  25.227295  55.341761   \n",
       "4     6356778                      Palm Jumeirah  25.114275  55.139764   \n",
       "...       ...                                ...        ...        ...   \n",
       "1900  7705450           Mohammed Bin Rashid City  25.176892  55.310712   \n",
       "1901  7706287           Mohammed Bin Rashid City  25.166145  55.276684   \n",
       "1902  7706389  Dubai Creek Harbour (The Lagoons)  25.206500  55.345056   \n",
       "1903  7706591            Jumeirah Village Circle  25.073858  55.229844   \n",
       "1904  7706643               Jumeirah Lake Towers  25.079130  55.154713   \n",
       "\n",
       "        price  size_in_sqft  price_per_sqft  no_of_bedrooms  no_of_bathrooms  \\\n",
       "0     2700000          1079         2502.32               1                2   \n",
       "1     2850000          1582         1801.52               2                2   \n",
       "2     1150000          1951          589.44               3                5   \n",
       "3     2850000          2020         1410.89               2                3   \n",
       "4     1729200           507         3410.65               0                1   \n",
       "...       ...           ...             ...             ...              ...   \n",
       "1900  1500000          1087         1379.94               2                2   \n",
       "1901  1230000           760         1618.42               1                2   \n",
       "1902  2900000          1930         1502.59               3                5   \n",
       "1903   675000           740          912.16               1                2   \n",
       "1904   760887           800          951.11               1                2   \n",
       "\n",
       "     quality  ...  private_pool  security  shared_gym  shared_pool  \\\n",
       "0     Medium  ...         False     False        True        False   \n",
       "1     Medium  ...         False     False        True         True   \n",
       "2     Medium  ...         False      True        True         True   \n",
       "3        Low  ...         False     False       False        False   \n",
       "4     Medium  ...         False      True        True         True   \n",
       "...      ...  ...           ...       ...         ...          ...   \n",
       "1900   Ultra  ...         False      True        True         True   \n",
       "1901  Medium  ...         False     False        True         True   \n",
       "1902  Medium  ...         False     False       False         True   \n",
       "1903  Medium  ...         False      True        True         True   \n",
       "1904    High  ...         False      True        True         True   \n",
       "\n",
       "      shared_spa  study  vastu_compliant  view_of_landmark  view_of_water  \\\n",
       "0          False  False            False             False           True   \n",
       "1          False  False            False             False           True   \n",
       "2          False  False            False              True           True   \n",
       "3          False  False            False             False          False   \n",
       "4           True  False            False              True           True   \n",
       "...          ...    ...              ...               ...            ...   \n",
       "1900        True   True             True              True           True   \n",
       "1901       False  False            False             False           True   \n",
       "1902       False  False            False             False          False   \n",
       "1903       False  False            False             False           True   \n",
       "1904        True  False            False             False           True   \n",
       "\n",
       "      walk_in_closet  \n",
       "0              False  \n",
       "1              False  \n",
       "2               True  \n",
       "3              False  \n",
       "4              False  \n",
       "...              ...  \n",
       "1900            True  \n",
       "1901            True  \n",
       "1902           False  \n",
       "1903            True  \n",
       "1904           False  \n",
       "\n",
       "[1905 rows x 38 columns]"
      ]
     },
     "execution_count": 344,
     "metadata": {},
     "output_type": "execute_result"
    }
   ],
   "source": [
    "url = 'https://raw.githubusercontent.com/FabioScielzoOrtiz/Estadistica4all-blog/main/Linear%20Regression%20in%20Python%20and%20R/properties_data.csv'\n",
    "\n",
    "data_Python = pd.read_csv(url)\n",
    "\n",
    "data_Python"
   ]
  },
  {
   "cell_type": "code",
   "execution_count": 345,
   "metadata": {},
   "outputs": [],
   "source": [
    "data_Python['size_in_m_2'] = 0.092903*data_Python['size_in_sqft']\n",
    "data_Python['price_per_m_2'] = data_Python['price_per_sqft']/0.092903"
   ]
  },
  {
   "cell_type": "code",
   "execution_count": 346,
   "metadata": {},
   "outputs": [
    {
     "data": {
      "text/html": [
       "<div>\n",
       "<style scoped>\n",
       "    .dataframe tbody tr th:only-of-type {\n",
       "        vertical-align: middle;\n",
       "    }\n",
       "\n",
       "    .dataframe tbody tr th {\n",
       "        vertical-align: top;\n",
       "    }\n",
       "\n",
       "    .dataframe thead th {\n",
       "        text-align: right;\n",
       "    }\n",
       "</style>\n",
       "<table border=\"1\" class=\"dataframe\">\n",
       "  <thead>\n",
       "    <tr style=\"text-align: right;\">\n",
       "      <th></th>\n",
       "      <th>price</th>\n",
       "      <th>size_in_m_2</th>\n",
       "      <th>longitude</th>\n",
       "      <th>latitude</th>\n",
       "      <th>no_of_bedrooms</th>\n",
       "      <th>no_of_bathrooms</th>\n",
       "      <th>quality</th>\n",
       "    </tr>\n",
       "  </thead>\n",
       "  <tbody>\n",
       "    <tr>\n",
       "      <th>0</th>\n",
       "      <td>2700000</td>\n",
       "      <td>100.242337</td>\n",
       "      <td>55.138932</td>\n",
       "      <td>25.113208</td>\n",
       "      <td>1</td>\n",
       "      <td>2</td>\n",
       "      <td>Medium</td>\n",
       "    </tr>\n",
       "    <tr>\n",
       "      <th>1</th>\n",
       "      <td>2850000</td>\n",
       "      <td>146.972546</td>\n",
       "      <td>55.151201</td>\n",
       "      <td>25.106809</td>\n",
       "      <td>2</td>\n",
       "      <td>2</td>\n",
       "      <td>Medium</td>\n",
       "    </tr>\n",
       "    <tr>\n",
       "      <th>2</th>\n",
       "      <td>1150000</td>\n",
       "      <td>181.253753</td>\n",
       "      <td>55.137728</td>\n",
       "      <td>25.063302</td>\n",
       "      <td>3</td>\n",
       "      <td>5</td>\n",
       "      <td>Medium</td>\n",
       "    </tr>\n",
       "    <tr>\n",
       "      <th>3</th>\n",
       "      <td>2850000</td>\n",
       "      <td>187.664060</td>\n",
       "      <td>55.341761</td>\n",
       "      <td>25.227295</td>\n",
       "      <td>2</td>\n",
       "      <td>3</td>\n",
       "      <td>Low</td>\n",
       "    </tr>\n",
       "    <tr>\n",
       "      <th>4</th>\n",
       "      <td>1729200</td>\n",
       "      <td>47.101821</td>\n",
       "      <td>55.139764</td>\n",
       "      <td>25.114275</td>\n",
       "      <td>0</td>\n",
       "      <td>1</td>\n",
       "      <td>Medium</td>\n",
       "    </tr>\n",
       "    <tr>\n",
       "      <th>...</th>\n",
       "      <td>...</td>\n",
       "      <td>...</td>\n",
       "      <td>...</td>\n",
       "      <td>...</td>\n",
       "      <td>...</td>\n",
       "      <td>...</td>\n",
       "      <td>...</td>\n",
       "    </tr>\n",
       "    <tr>\n",
       "      <th>1900</th>\n",
       "      <td>1500000</td>\n",
       "      <td>100.985561</td>\n",
       "      <td>55.310712</td>\n",
       "      <td>25.176892</td>\n",
       "      <td>2</td>\n",
       "      <td>2</td>\n",
       "      <td>Ultra</td>\n",
       "    </tr>\n",
       "    <tr>\n",
       "      <th>1901</th>\n",
       "      <td>1230000</td>\n",
       "      <td>70.606280</td>\n",
       "      <td>55.276684</td>\n",
       "      <td>25.166145</td>\n",
       "      <td>1</td>\n",
       "      <td>2</td>\n",
       "      <td>Medium</td>\n",
       "    </tr>\n",
       "    <tr>\n",
       "      <th>1902</th>\n",
       "      <td>2900000</td>\n",
       "      <td>179.302790</td>\n",
       "      <td>55.345056</td>\n",
       "      <td>25.206500</td>\n",
       "      <td>3</td>\n",
       "      <td>5</td>\n",
       "      <td>Medium</td>\n",
       "    </tr>\n",
       "    <tr>\n",
       "      <th>1903</th>\n",
       "      <td>675000</td>\n",
       "      <td>68.748220</td>\n",
       "      <td>55.229844</td>\n",
       "      <td>25.073858</td>\n",
       "      <td>1</td>\n",
       "      <td>2</td>\n",
       "      <td>Medium</td>\n",
       "    </tr>\n",
       "    <tr>\n",
       "      <th>1904</th>\n",
       "      <td>760887</td>\n",
       "      <td>74.322400</td>\n",
       "      <td>55.154713</td>\n",
       "      <td>25.079130</td>\n",
       "      <td>1</td>\n",
       "      <td>2</td>\n",
       "      <td>High</td>\n",
       "    </tr>\n",
       "  </tbody>\n",
       "</table>\n",
       "<p>1905 rows × 7 columns</p>\n",
       "</div>"
      ],
      "text/plain": [
       "        price  size_in_m_2  longitude   latitude  no_of_bedrooms  \\\n",
       "0     2700000   100.242337  55.138932  25.113208               1   \n",
       "1     2850000   146.972546  55.151201  25.106809               2   \n",
       "2     1150000   181.253753  55.137728  25.063302               3   \n",
       "3     2850000   187.664060  55.341761  25.227295               2   \n",
       "4     1729200    47.101821  55.139764  25.114275               0   \n",
       "...       ...          ...        ...        ...             ...   \n",
       "1900  1500000   100.985561  55.310712  25.176892               2   \n",
       "1901  1230000    70.606280  55.276684  25.166145               1   \n",
       "1902  2900000   179.302790  55.345056  25.206500               3   \n",
       "1903   675000    68.748220  55.229844  25.073858               1   \n",
       "1904   760887    74.322400  55.154713  25.079130               1   \n",
       "\n",
       "      no_of_bathrooms quality  \n",
       "0                   2  Medium  \n",
       "1                   2  Medium  \n",
       "2                   5  Medium  \n",
       "3                   3     Low  \n",
       "4                   1  Medium  \n",
       "...               ...     ...  \n",
       "1900                2   Ultra  \n",
       "1901                2  Medium  \n",
       "1902                5  Medium  \n",
       "1903                2  Medium  \n",
       "1904                2    High  \n",
       "\n",
       "[1905 rows x 7 columns]"
      ]
     },
     "execution_count": 346,
     "metadata": {},
     "output_type": "execute_result"
    }
   ],
   "source": [
    "data_Python = data_Python >> select(X.price , X.size_in_m_2, X.longitude, X.latitude, X.no_of_bedrooms, X.no_of_bathrooms, X.quality)\n",
    "data_Python"
   ]
  },
  {
   "cell_type": "code",
   "execution_count": 347,
   "metadata": {},
   "outputs": [
    {
     "data": {
      "text/plain": [
       "price                int64\n",
       "size_in_m_2        float64\n",
       "longitude          float64\n",
       "latitude           float64\n",
       "no_of_bedrooms       int64\n",
       "no_of_bathrooms      int64\n",
       "quality             object\n",
       "dtype: object"
      ]
     },
     "execution_count": 347,
     "metadata": {},
     "output_type": "execute_result"
    }
   ],
   "source": [
    "data_Python.dtypes"
   ]
  },
  {
   "cell_type": "markdown",
   "metadata": {},
   "source": []
  },
  {
   "cell_type": "markdown",
   "metadata": {},
   "source": [
    "Converting $quality$  to categorical:"
   ]
  },
  {
   "cell_type": "code",
   "execution_count": 348,
   "metadata": {},
   "outputs": [
    {
     "data": {
      "text/plain": [
       "price                int64\n",
       "size_in_m_2        float64\n",
       "longitude          float64\n",
       "latitude           float64\n",
       "no_of_bedrooms       int64\n",
       "no_of_bathrooms      int64\n",
       "quality             object\n",
       "dtype: object"
      ]
     },
     "execution_count": 348,
     "metadata": {},
     "output_type": "execute_result"
    }
   ],
   "source": [
    "data_Python.dtypes"
   ]
  },
  {
   "cell_type": "markdown",
   "metadata": {},
   "source": []
  },
  {
   "cell_type": "markdown",
   "metadata": {},
   "source": [
    "Recoding the categorical variable $quality$"
   ]
  },
  {
   "cell_type": "code",
   "execution_count": 349,
   "metadata": {},
   "outputs": [
    {
     "data": {
      "text/plain": [
       "array(['Medium', 'Low', 'High', 'Ultra'], dtype=object)"
      ]
     },
     "execution_count": 349,
     "metadata": {},
     "output_type": "execute_result"
    }
   ],
   "source": [
    "data_Python['quality'].unique()"
   ]
  },
  {
   "cell_type": "code",
   "execution_count": 350,
   "metadata": {},
   "outputs": [],
   "source": [
    "(data_Python['quality_recode']) = 0\n",
    "\n",
    "for i in range(0 , len(data_Python)) :\n",
    "\n",
    "    if (data_Python['quality'])[i] == 'Low' :\n",
    "\n",
    "        (data_Python['quality_recode'])[i] = 0\n",
    "\n",
    "    if (data_Python['quality'])[i] == 'Medium' :\n",
    "\n",
    "        (data_Python['quality_recode'])[i] = 1\n",
    "\n",
    "    if (data_Python['quality'])[i] == 'High' :\n",
    "\n",
    "        (data_Python['quality_recode'])[i] = 2\n",
    "\n",
    "    if (data_Python['quality'])[i] == 'Ultra' :\n",
    "\n",
    "        (data_Python['quality_recode'])[i] = 3"
   ]
  },
  {
   "cell_type": "code",
   "execution_count": 351,
   "metadata": {},
   "outputs": [
    {
     "data": {
      "text/html": [
       "<div>\n",
       "<style scoped>\n",
       "    .dataframe tbody tr th:only-of-type {\n",
       "        vertical-align: middle;\n",
       "    }\n",
       "\n",
       "    .dataframe tbody tr th {\n",
       "        vertical-align: top;\n",
       "    }\n",
       "\n",
       "    .dataframe thead th {\n",
       "        text-align: right;\n",
       "    }\n",
       "</style>\n",
       "<table border=\"1\" class=\"dataframe\">\n",
       "  <thead>\n",
       "    <tr style=\"text-align: right;\">\n",
       "      <th></th>\n",
       "      <th>price</th>\n",
       "      <th>size_in_m_2</th>\n",
       "      <th>longitude</th>\n",
       "      <th>latitude</th>\n",
       "      <th>no_of_bedrooms</th>\n",
       "      <th>no_of_bathrooms</th>\n",
       "      <th>quality</th>\n",
       "      <th>quality_recode</th>\n",
       "    </tr>\n",
       "  </thead>\n",
       "  <tbody>\n",
       "    <tr>\n",
       "      <th>0</th>\n",
       "      <td>2700000</td>\n",
       "      <td>100.242337</td>\n",
       "      <td>55.138932</td>\n",
       "      <td>25.113208</td>\n",
       "      <td>1</td>\n",
       "      <td>2</td>\n",
       "      <td>Medium</td>\n",
       "      <td>1</td>\n",
       "    </tr>\n",
       "    <tr>\n",
       "      <th>1</th>\n",
       "      <td>2850000</td>\n",
       "      <td>146.972546</td>\n",
       "      <td>55.151201</td>\n",
       "      <td>25.106809</td>\n",
       "      <td>2</td>\n",
       "      <td>2</td>\n",
       "      <td>Medium</td>\n",
       "      <td>1</td>\n",
       "    </tr>\n",
       "    <tr>\n",
       "      <th>2</th>\n",
       "      <td>1150000</td>\n",
       "      <td>181.253753</td>\n",
       "      <td>55.137728</td>\n",
       "      <td>25.063302</td>\n",
       "      <td>3</td>\n",
       "      <td>5</td>\n",
       "      <td>Medium</td>\n",
       "      <td>1</td>\n",
       "    </tr>\n",
       "    <tr>\n",
       "      <th>3</th>\n",
       "      <td>2850000</td>\n",
       "      <td>187.664060</td>\n",
       "      <td>55.341761</td>\n",
       "      <td>25.227295</td>\n",
       "      <td>2</td>\n",
       "      <td>3</td>\n",
       "      <td>Low</td>\n",
       "      <td>0</td>\n",
       "    </tr>\n",
       "    <tr>\n",
       "      <th>4</th>\n",
       "      <td>1729200</td>\n",
       "      <td>47.101821</td>\n",
       "      <td>55.139764</td>\n",
       "      <td>25.114275</td>\n",
       "      <td>0</td>\n",
       "      <td>1</td>\n",
       "      <td>Medium</td>\n",
       "      <td>1</td>\n",
       "    </tr>\n",
       "  </tbody>\n",
       "</table>\n",
       "</div>"
      ],
      "text/plain": [
       "     price  size_in_m_2  longitude   latitude  no_of_bedrooms  \\\n",
       "0  2700000   100.242337  55.138932  25.113208               1   \n",
       "1  2850000   146.972546  55.151201  25.106809               2   \n",
       "2  1150000   181.253753  55.137728  25.063302               3   \n",
       "3  2850000   187.664060  55.341761  25.227295               2   \n",
       "4  1729200    47.101821  55.139764  25.114275               0   \n",
       "\n",
       "   no_of_bathrooms quality  quality_recode  \n",
       "0                2  Medium               1  \n",
       "1                2  Medium               1  \n",
       "2                5  Medium               1  \n",
       "3                3     Low               0  \n",
       "4                1  Medium               1  "
      ]
     },
     "execution_count": 351,
     "metadata": {},
     "output_type": "execute_result"
    }
   ],
   "source": [
    "data_Python.head()"
   ]
  },
  {
   "cell_type": "code",
   "execution_count": 352,
   "metadata": {},
   "outputs": [],
   "source": [
    "data_Python = data_Python >> select( ~X.quality )"
   ]
  },
  {
   "cell_type": "code",
   "execution_count": 353,
   "metadata": {},
   "outputs": [],
   "source": [
    "data_Python = data_Python >> rename(quality = X.quality_recode)"
   ]
  },
  {
   "cell_type": "code",
   "execution_count": 354,
   "metadata": {},
   "outputs": [],
   "source": [
    "data_Python['quality'] = data_Python['quality'].astype('category')"
   ]
  },
  {
   "cell_type": "code",
   "execution_count": 355,
   "metadata": {},
   "outputs": [
    {
     "data": {
      "text/plain": [
       "price                 int64\n",
       "size_in_m_2         float64\n",
       "longitude           float64\n",
       "latitude            float64\n",
       "no_of_bedrooms        int64\n",
       "no_of_bathrooms       int64\n",
       "quality            category\n",
       "dtype: object"
      ]
     },
     "execution_count": 355,
     "metadata": {},
     "output_type": "execute_result"
    }
   ],
   "source": [
    "data_Python.dtypes"
   ]
  },
  {
   "cell_type": "markdown",
   "metadata": {},
   "source": []
  },
  {
   "cell_type": "markdown",
   "metadata": {},
   "source": [
    "The final  data-set in Python would be:"
   ]
  },
  {
   "cell_type": "code",
   "execution_count": 356,
   "metadata": {},
   "outputs": [
    {
     "data": {
      "text/html": [
       "<div>\n",
       "<style scoped>\n",
       "    .dataframe tbody tr th:only-of-type {\n",
       "        vertical-align: middle;\n",
       "    }\n",
       "\n",
       "    .dataframe tbody tr th {\n",
       "        vertical-align: top;\n",
       "    }\n",
       "\n",
       "    .dataframe thead th {\n",
       "        text-align: right;\n",
       "    }\n",
       "</style>\n",
       "<table border=\"1\" class=\"dataframe\">\n",
       "  <thead>\n",
       "    <tr style=\"text-align: right;\">\n",
       "      <th></th>\n",
       "      <th>price</th>\n",
       "      <th>size_in_m_2</th>\n",
       "      <th>longitude</th>\n",
       "      <th>latitude</th>\n",
       "      <th>no_of_bedrooms</th>\n",
       "      <th>no_of_bathrooms</th>\n",
       "      <th>quality</th>\n",
       "    </tr>\n",
       "  </thead>\n",
       "  <tbody>\n",
       "    <tr>\n",
       "      <th>0</th>\n",
       "      <td>2700000</td>\n",
       "      <td>100.242337</td>\n",
       "      <td>55.138932</td>\n",
       "      <td>25.113208</td>\n",
       "      <td>1</td>\n",
       "      <td>2</td>\n",
       "      <td>1</td>\n",
       "    </tr>\n",
       "    <tr>\n",
       "      <th>1</th>\n",
       "      <td>2850000</td>\n",
       "      <td>146.972546</td>\n",
       "      <td>55.151201</td>\n",
       "      <td>25.106809</td>\n",
       "      <td>2</td>\n",
       "      <td>2</td>\n",
       "      <td>1</td>\n",
       "    </tr>\n",
       "    <tr>\n",
       "      <th>2</th>\n",
       "      <td>1150000</td>\n",
       "      <td>181.253753</td>\n",
       "      <td>55.137728</td>\n",
       "      <td>25.063302</td>\n",
       "      <td>3</td>\n",
       "      <td>5</td>\n",
       "      <td>1</td>\n",
       "    </tr>\n",
       "    <tr>\n",
       "      <th>3</th>\n",
       "      <td>2850000</td>\n",
       "      <td>187.664060</td>\n",
       "      <td>55.341761</td>\n",
       "      <td>25.227295</td>\n",
       "      <td>2</td>\n",
       "      <td>3</td>\n",
       "      <td>0</td>\n",
       "    </tr>\n",
       "    <tr>\n",
       "      <th>4</th>\n",
       "      <td>1729200</td>\n",
       "      <td>47.101821</td>\n",
       "      <td>55.139764</td>\n",
       "      <td>25.114275</td>\n",
       "      <td>0</td>\n",
       "      <td>1</td>\n",
       "      <td>1</td>\n",
       "    </tr>\n",
       "    <tr>\n",
       "      <th>...</th>\n",
       "      <td>...</td>\n",
       "      <td>...</td>\n",
       "      <td>...</td>\n",
       "      <td>...</td>\n",
       "      <td>...</td>\n",
       "      <td>...</td>\n",
       "      <td>...</td>\n",
       "    </tr>\n",
       "    <tr>\n",
       "      <th>1900</th>\n",
       "      <td>1500000</td>\n",
       "      <td>100.985561</td>\n",
       "      <td>55.310712</td>\n",
       "      <td>25.176892</td>\n",
       "      <td>2</td>\n",
       "      <td>2</td>\n",
       "      <td>3</td>\n",
       "    </tr>\n",
       "    <tr>\n",
       "      <th>1901</th>\n",
       "      <td>1230000</td>\n",
       "      <td>70.606280</td>\n",
       "      <td>55.276684</td>\n",
       "      <td>25.166145</td>\n",
       "      <td>1</td>\n",
       "      <td>2</td>\n",
       "      <td>1</td>\n",
       "    </tr>\n",
       "    <tr>\n",
       "      <th>1902</th>\n",
       "      <td>2900000</td>\n",
       "      <td>179.302790</td>\n",
       "      <td>55.345056</td>\n",
       "      <td>25.206500</td>\n",
       "      <td>3</td>\n",
       "      <td>5</td>\n",
       "      <td>1</td>\n",
       "    </tr>\n",
       "    <tr>\n",
       "      <th>1903</th>\n",
       "      <td>675000</td>\n",
       "      <td>68.748220</td>\n",
       "      <td>55.229844</td>\n",
       "      <td>25.073858</td>\n",
       "      <td>1</td>\n",
       "      <td>2</td>\n",
       "      <td>1</td>\n",
       "    </tr>\n",
       "    <tr>\n",
       "      <th>1904</th>\n",
       "      <td>760887</td>\n",
       "      <td>74.322400</td>\n",
       "      <td>55.154713</td>\n",
       "      <td>25.079130</td>\n",
       "      <td>1</td>\n",
       "      <td>2</td>\n",
       "      <td>2</td>\n",
       "    </tr>\n",
       "  </tbody>\n",
       "</table>\n",
       "<p>1905 rows × 7 columns</p>\n",
       "</div>"
      ],
      "text/plain": [
       "        price  size_in_m_2  longitude   latitude  no_of_bedrooms  \\\n",
       "0     2700000   100.242337  55.138932  25.113208               1   \n",
       "1     2850000   146.972546  55.151201  25.106809               2   \n",
       "2     1150000   181.253753  55.137728  25.063302               3   \n",
       "3     2850000   187.664060  55.341761  25.227295               2   \n",
       "4     1729200    47.101821  55.139764  25.114275               0   \n",
       "...       ...          ...        ...        ...             ...   \n",
       "1900  1500000   100.985561  55.310712  25.176892               2   \n",
       "1901  1230000    70.606280  55.276684  25.166145               1   \n",
       "1902  2900000   179.302790  55.345056  25.206500               3   \n",
       "1903   675000    68.748220  55.229844  25.073858               1   \n",
       "1904   760887    74.322400  55.154713  25.079130               1   \n",
       "\n",
       "      no_of_bathrooms quality  \n",
       "0                   2       1  \n",
       "1                   2       1  \n",
       "2                   5       1  \n",
       "3                   3       0  \n",
       "4                   1       1  \n",
       "...               ...     ...  \n",
       "1900                2       3  \n",
       "1901                2       1  \n",
       "1902                5       1  \n",
       "1903                2       1  \n",
       "1904                2       2  \n",
       "\n",
       "[1905 rows x 7 columns]"
      ]
     },
     "execution_count": 356,
     "metadata": {},
     "output_type": "execute_result"
    }
   ],
   "source": [
    "data_Python"
   ]
  },
  {
   "cell_type": "markdown",
   "metadata": {},
   "source": []
  },
  {
   "cell_type": "markdown",
   "metadata": {},
   "source": [
    "We can write the last data-frame as csv as follows:"
   ]
  },
  {
   "cell_type": "code",
   "execution_count": 357,
   "metadata": {},
   "outputs": [],
   "source": [
    "data_Python.to_csv('data_Python.csv' , index=False)"
   ]
  },
  {
   "cell_type": "markdown",
   "metadata": {},
   "source": [
    "**Important**: to use categorical variables in a linear regression model in Python they must be recoded (their values must be numbers that represents their categories), i.e, we cannot use the variable *quality* , insteaf of it we can use *quality_recode*\n",
    "\n",
    "This is the reason we have recoded *quality* in Python but not in R, because in R is not strictly necessary."
   ]
  },
  {
   "cell_type": "markdown",
   "metadata": {},
   "source": [
    "Note we have obtained the same data-set that was obtained with R.\n",
    "\n",
    "- The R data-set has been called *data_R*\n",
    "\n",
    "- The Python data-set has been called *data_python*\n",
    "\n",
    "\n",
    "We will use both of them throughout this article. "
   ]
  },
  {
   "cell_type": "markdown",
   "metadata": {},
   "source": []
  },
  {
   "cell_type": "markdown",
   "metadata": {},
   "source": [
    "## Introduction to the Linear Regression Model <a class=\"anchor\" id=\"4\"></a>\n",
    "\n",
    "\n",
    "The principal propose of this article is carry out a theoretical and\n",
    "also practical exposition of the linear regression model.\n",
    "\n",
    "Without any doubt the this is the most know statistical model.\n",
    "\n",
    "There is the idea that the linear regression model is outdated compared\n",
    "with other modern statistical models. But I would like to defend his\n",
    "validity nowadays, first of all as a statistical tool, and second as a\n",
    "previous necessary step to learn other most modern and complex methods.\n",
    "\n",
    "The linear regression model is the base of many modern regression\n",
    "techniques, so that is highly recommended study it enough, before to go deeper in other statistical models.\n",
    "\n",
    "The most important references on which this article is based are \"Linear Models with\n",
    "R\" by Julian Faraway (second edition), and \"An introduction to\n",
    "statisticcal learning\" by Gareth James (second edition), the blog [cienciadedatos.net](https://www.cienciadedatos.net/index.html) by Joaquin Amat Rodrigo, and the web page [realpython](https://realpython.com/)\n",
    "\n"
   ]
  },
  {
   "cell_type": "markdown",
   "metadata": {},
   "source": []
  },
  {
   "cell_type": "markdown",
   "metadata": {},
   "source": [
    "\n",
    "\n",
    "### Usefulness of the Linear Regression Model <a class=\"anchor\" id=\"5\"></a>\n",
    "\n",
    "\n",
    "\n",
    "The main usefulness of the linear regression model is to predict the\n",
    "values of a **quantitative** variable  depending on the values of other variables (**quantitative or categorical**),\n",
    "called predictors.\n",
    "\n",
    "There are other usefulness of the model besides the commented. We will\n",
    "see them later.\n",
    "\n"
   ]
  },
  {
   "cell_type": "markdown",
   "metadata": {},
   "source": []
  },
  {
   "cell_type": "markdown",
   "metadata": {},
   "source": [
    "\n",
    "\n",
    "### Formal Approach to the Linear Regression Modelo <a class=\"anchor\" id=\"6\"></a>\n",
    "\n",
    "We have the following elements:\n",
    "\n",
    "-   Response Variable:  a **quantitative** variable\n",
    "      $Y=(y_{1} , y_2,...,y_n)^t$\n",
    "\n",
    "-   Predictors: a set of **quantitative** or **categorical**\n",
    "    variables:\n",
    "\n",
    "\n",
    "\\begin{gather*}\n",
    "X_1 = (x_{11}, x_{21}, ..., x_{n1})^t \\\\\n",
    "X_2 = (x_{12}, x_{22}, ..., x_{n2})^t \\\\\n",
    "... \\\\\n",
    "X_p = (x_{1p}, x_{2p}, ..., x_{np})^t\n",
    "\\end{gather*}\n",
    "\n",
    "\n",
    "-   Predictors Matrix:\n",
    "\n",
    "    \n",
    "    \\begin{gather*}\n",
    "    X=(1, X_1, X_2,...,X_p) = \n",
    "    \\begin{pmatrix}\n",
    "    1 & x_{11}&x_{12}&...&x_{1p}\\\\\n",
    "    1 & x_{21}&x_{22}&...&x_{2p}\\\\\n",
    "    &...&\\\\\n",
    "    1& x_{n1}&x_{n2}&...&x_{np}\n",
    "    \\end{pmatrix} = \n",
    "    \\begin{pmatrix}\n",
    "    x_{1}\\\\\n",
    "    x_{2}\\\\\n",
    "    ...\\\\\n",
    "    x_{n}\n",
    "    \\end{pmatrix}\n",
    "    \\end{gather*}\n",
    "    \n",
    "\n",
    "-   Coefficients vector:\n",
    "\n",
    "\n",
    "\\begin{gather*}\n",
    "\\beta=(\\beta_{1}, \\beta_{2}, ..., \\beta_{n})^t \n",
    "\\end{gather*}\n",
    "\n",
    "-   Errors vector:\n",
    "\n",
    "\n",
    "\\begin{gather*}\n",
    "\\varepsilon=(\\varepsilon_{1}, \\varepsilon_{2}, ..., \\varepsilon_{n})^t \n",
    "\\end{gather*}\n",
    "\n"
   ]
  },
  {
   "cell_type": "markdown",
   "metadata": {},
   "source": []
  },
  {
   "cell_type": "markdown",
   "metadata": {},
   "source": [
    "\n",
    "### Basic Assumptions <a class=\"anchor\" id=\"7\"></a>\n",
    "\n",
    "\n",
    "The basic assumptions of the model are the following:\n",
    "\n",
    "<br>\n",
    "\n",
    "- $ y_i \\hspace{0.1cm} =  \\hspace{0.1cm} x_i^t \\cdot \\beta  +  \\varepsilon_i \\hspace{0.1cm} =  \\hspace{0.1cm}   \\beta_0 + \\sum_{j=1}^{p} \\left( \\beta_j \\cdot x_{ij} \\right) + \\varepsilon_i \\hspace{0.1cm} =  \\hspace{0.1cm}  \\beta_0 + \\beta_1 \\cdot x_{i1} + \\beta_2 \\cdot x_{i2} + ... + \\beta_p \\cdot x_{ip} + \\varepsilon_i $\n",
    " \n",
    " <br>\n",
    " \n",
    "-  $\\varepsilon_i$ is a random variable such that:\n",
    "\n",
    "\n",
    "   - $E[\\varepsilon_i]=0$ \n",
    "   - $Var(\\varepsilon_i)=\\sigma^2$\n",
    "   - $\\varepsilon_i \\sim N(0,\\sigma)$ \n",
    "   - $cov(\\varepsilon_i , \\varepsilon_j)=0$\n",
    "\n",
    "<br>\n",
    "\n",
    "- Additional assumptions:\n",
    "\n",
    "  -  $n > p+1$ ( nº observations \\> nº of coefficients to estimate )\n",
    "\n",
    "  -  $Rg(X)=p+1$\n"
   ]
  },
  {
   "cell_type": "markdown",
   "metadata": {},
   "source": []
  },
  {
   "cell_type": "markdown",
   "metadata": {},
   "source": [
    "\n",
    "\n",
    "### Assumptions Consequences <a class=\"anchor\" id=\"8\"></a>\n",
    "\n",
    "\n",
    "   -  $y_i$ is a random variable because  $\\varepsilon_i$ is a random variable\n",
    "\n",
    "   -  $E[y_i]= x_i^t \\cdot \\beta$\n",
    "\n",
    "   -  $Var(y_i) = \\sigma^2$\n",
    "\n",
    "   -  $y_i \\sim N(x_i^t \\cdot \\beta , \\sigma)$\n",
    "\n",
    "   -  $cov(y_i , y_j)=0$\n",
    "\n"
   ]
  },
  {
   "cell_type": "markdown",
   "metadata": {},
   "source": []
  },
  {
   "cell_type": "markdown",
   "metadata": {},
   "source": [
    "\n",
    "### Matrix representation of the basic assumption of the model <a class=\"anchor\" id=\"9\"></a>\n",
    "\n",
    "<br>\n",
    "\n",
    "- $ Y=X\\cdot \\beta + \\varepsilon $\n",
    "\n",
    "- $\\varepsilon_i \\sim N(0,\\sigma) \\hspace{0.4cm} \\forall \\hspace{0.1cm} i=1,...,n $\n",
    "  \n",
    "- $cov(\\varepsilon_i , \\varepsilon_j)=0 \\hspace{0.4cm} \\forall \\hspace{0.1cm} i\\neq j =1,...,n $"
   ]
  },
  {
   "cell_type": "markdown",
   "metadata": {},
   "source": []
  },
  {
   "cell_type": "markdown",
   "metadata": {},
   "source": [
    "## Estimation  <a class=\"anchor\" id=\"10\"></a>\n"
   ]
  },
  {
   "cell_type": "markdown",
   "metadata": {},
   "source": [
    "\n",
    "###  Prediction of Response Variable <a class=\"anchor\" id=\"11\"></a>\n",
    "\n",
    "\n",
    "The linear regression model predict the response variable value $y_i$  for the combination of predictors values  $x_i = (x_{i1}, x_{i2}, ..., x_{ip})^t$  as:\n",
    "\n",
    "\\begin{gather*}\n",
    "\\hat{y}_i = x_i^t \\cdot \\hat{\\beta}  = \\hat{\\beta}_0 + \\sum_{j=1}^{p} \\hat{\\beta}_j \\cdot x_{ij} = \\hat{\\beta}_0 + \\hat{\\beta}_1 \\cdot x_{i1} + \\hat{\\beta}_2 \\cdot x_{i2} + ... + \\hat{\\beta}_p \\cdot x_{ip} \n",
    "\\end{gather*}\n",
    "\n"
   ]
  },
  {
   "cell_type": "markdown",
   "metadata": {},
   "source": []
  },
  {
   "cell_type": "markdown",
   "metadata": {},
   "source": [
    "\n",
    "### Estimation of model coefficients <a class=\"anchor\" id=\"12\"></a>\n",
    "\n",
    "\n",
    "The estimation of $\\beta$  in the classic linear regression model is done\n",
    "using the ordinary least square (OLS) method.\n",
    "\n",
    "$\\hat{\\beta}$  is compute as the solution of the following optimitation\n",
    "problem:\n",
    "\n",
    "\\begin{gather*}\n",
    "Min  \\sum_{i=1}^{n} (y_i - \\widehat{y}_i)^2 = \\sum_{i=1}^{n} (y_i - x_i^t \\cdot \\beta)^2 \n",
    "\\end{gather*}\n",
    "\n",
    "<br>\n",
    "\n",
    "The problem solution is:\n",
    "\n",
    "\\begin{gather*}\n",
    "\\hat{\\beta}=(X^t \\cdot X)^{-1} \\cdot X^t \\cdot Y\n",
    "\\end{gather*}\n",
    "\n",
    "<br>\n",
    "\n",
    "**Observation:**\n",
    "\n",
    "We will not view here the mathematical details about the resolution of\n",
    "this optimization problem. But is a classic convex optimization problem,\n",
    "so it´s enough to take first derivatives of the objetive function with\n",
    "respect to the coefficients  $\\beta_0,\\beta_1,...,\\beta_p$ ,  set them equal to zero (0), and solve the resultant equation system with respect\n",
    "to  $\\beta$\n"
   ]
  },
  {
   "cell_type": "markdown",
   "metadata": {},
   "source": []
  },
  {
   "cell_type": "markdown",
   "metadata": {},
   "source": [
    "\n",
    "### Estimation of model errors <a class=\"anchor\" id=\"13\"></a>\n",
    "\n",
    "\n",
    "The model errors  $\\varepsilon_i$  are estimated as:\n",
    "\n",
    "$$\n",
    "\\hat{\\varepsilon}_i \\hspace{0.1 cm} = \\hspace{0.1 cm} y_i - \\hat{y}_i \\hspace{0.1 cm} = \\hspace{0.1 cm} y_i - x_i^t \\cdot \\hat{\\beta}  \n",
    "$$\n",
    "\n",
    "for $\\hspace{0.1cm}$ $i=1,...,n$\n",
    "\n",
    "\n",
    "**Observation:**\n",
    "\n",
    "$\\hat{\\varepsilon}_i$  is the error done by the model when it\n",
    "estimates/predicts  $y_i$  as  $\\hat{y}_i=x_i^t \\cdot \\hat{\\beta}$\n",
    "\n"
   ]
  },
  {
   "cell_type": "markdown",
   "metadata": {},
   "source": []
  },
  {
   "cell_type": "markdown",
   "metadata": {},
   "source": [
    "\n",
    "### Regression Hyperplane <a class=\"anchor\" id=\"14\"></a>\n",
    "\n",
    "The regression hyperplane is the matrix expression of the predictions\n",
    "that the model does of the response variable values: $\\hspace{0.2cm} \\hat{Y} = X \\cdot \\hat{\\beta}$\n",
    "\n",
    "Where:    $\\hat{Y}=(\\hat{y}_1,\\hat{y}_2,...,\\hat{y}_n)^t$\n",
    "\n"
   ]
  },
  {
   "cell_type": "markdown",
   "metadata": {},
   "source": []
  },
  {
   "cell_type": "markdown",
   "metadata": {},
   "source": [
    "\n",
    "### Hat-Matrix <a class=\"anchor\" id=\"15\"></a>\n",
    "\n",
    "\n",
    "\n",
    "\\begin{gather*}\n",
    "\\hat{Y} = X \\cdot \\hat{\\beta} = X \\cdot (X^t \\cdot X)^{-1} \\cdot X^t \\cdot Y = H \\cdot Y  \n",
    "\\end{gather*}\n",
    "\n",
    "\n",
    "\n",
    "Where:   $H= X \\cdot (X^t \\cdot X)^{-1} \\cdot X^t$  is called Hat-Matrix\n"
   ]
  },
  {
   "cell_type": "markdown",
   "metadata": {},
   "source": []
  },
  {
   "cell_type": "markdown",
   "metadata": {},
   "source": [
    "## Estimation of the Linear Regression Model in R <a class=\"anchor\" id=\"16\"></a>\n"
   ]
  },
  {
   "cell_type": "markdown",
   "metadata": {},
   "source": [
    "\n",
    "\n",
    "In this section we are going to show how estimate a linear regression\n",
    "model in R, using for this purpose the data-set that was showed at the begining of the article.\n",
    "\n",
    "The linear regression model that we propose is the following:\n",
    "\n",
    "\\begin{gather*}\n",
    "price_i = \\beta_0 +  \\beta_1 \\cdot size\\_in\\_m\\_2_i + \\beta_2 \\cdot no\\_of\\_bedrooms_i +  \\beta_3 \\cdot no\\_of\\_bathrooms_i + \\\\ + \\beta_4 \\cdot quality_i + \\beta_5\\cdot  latitude_i +  \\beta_6 \\cdot longitude_i + \\varepsilon_i\n",
    "\\end{gather*}\n",
    "\n"
   ]
  },
  {
   "cell_type": "code",
   "execution_count": 358,
   "metadata": {},
   "outputs": [
    {
     "name": "stdout",
     "output_type": "stream",
     "text": [
      "\n",
      "Call:\n",
      "lm(formula = price ~ size_in_m_2 + no_of_bedrooms + no_of_bathrooms + \n",
      "    quality + latitude + longitude, data = data_R)\n",
      "\n",
      "Residuals:\n",
      "      Min        1Q    Median        3Q       Max \n",
      "-13398393   -562302     68143    562733  15384235 \n",
      "\n",
      "Coefficients:\n",
      "                  Estimate Std. Error t value Pr(>|t|)    \n",
      "(Intercept)     -6.207e+07  2.995e+07  -2.073   0.0383 *  \n",
      "size_in_m_2      3.566e+04  7.238e+02  49.271  < 2e-16 ***\n",
      "no_of_bedrooms  -8.367e+05  8.282e+04 -10.102  < 2e-16 ***\n",
      "no_of_bathrooms -5.712e+04  6.829e+04  -0.836   0.4030    \n",
      "quality1         1.400e+05  8.358e+04   1.675   0.0940 .  \n",
      "quality2         3.406e+05  1.551e+05   2.196   0.0282 *  \n",
      "quality3         2.788e+05  1.976e+05   1.410   0.1586    \n",
      "latitude         6.115e+06  7.809e+05   7.830 8.03e-15 ***\n",
      "longitude       -1.677e+06  6.908e+05  -2.428   0.0153 *  \n",
      "---\n",
      "Signif. codes:  0 '***' 0.001 '**' 0.01 '*' 0.05 '.' 0.1 ' ' 1\n",
      "\n",
      "Residual standard error: 1605000 on 1896 degrees of freedom\n",
      "Multiple R-squared:  0.6979,\tAdjusted R-squared:  0.6966 \n",
      "F-statistic: 547.4 on 8 and 1896 DF,  p-value: < 2.2e-16\n",
      "\n"
     ]
    }
   ],
   "source": [
    "%%R\n",
    "\n",
    "model_R_1 <- lm( price ~ size_in_m_2 + no_of_bedrooms + no_of_bathrooms + quality + latitude + longitude ,\n",
    "data = data_R)\n",
    "\n",
    "summary(model_R_1)"
   ]
  },
  {
   "cell_type": "markdown",
   "metadata": {},
   "source": []
  },
  {
   "cell_type": "markdown",
   "metadata": {},
   "source": [
    "### Estimation of Linear Regression Model in Python with `statsmodels` <a class=\"anchor\" id=\"17\"></a>\n"
   ]
  },
  {
   "cell_type": "markdown",
   "metadata": {},
   "source": [
    "\n",
    "We can implement a linear regression model in Python with the following code:"
   ]
  },
  {
   "cell_type": "code",
   "execution_count": 359,
   "metadata": {},
   "outputs": [],
   "source": [
    "import statsmodels.formula.api as smf\n",
    "import statsmodels.api as sm\n"
   ]
  },
  {
   "cell_type": "code",
   "execution_count": 360,
   "metadata": {},
   "outputs": [
    {
     "name": "stdout",
     "output_type": "stream",
     "text": [
      "                            OLS Regression Results                            \n",
      "==============================================================================\n",
      "Dep. Variable:                  price   R-squared:                       0.698\n",
      "Model:                            OLS   Adj. R-squared:                  0.697\n",
      "Method:                 Least Squares   F-statistic:                     547.4\n",
      "Date:               ju., 21 jul. 2022   Prob (F-statistic):               0.00\n",
      "Time:                        19:51:19   Log-Likelihood:                -29918.\n",
      "No. Observations:                1905   AIC:                         5.985e+04\n",
      "Df Residuals:                    1896   BIC:                         5.990e+04\n",
      "Df Model:                           8                                         \n",
      "Covariance Type:            nonrobust                                         \n",
      "===================================================================================\n",
      "                      coef    std err          t      P>|t|      [0.025      0.975]\n",
      "-----------------------------------------------------------------------------------\n",
      "Intercept       -6.207e+07   2.99e+07     -2.073      0.038   -1.21e+08   -3.34e+06\n",
      "quality[T.1]       1.4e+05   8.36e+04      1.675      0.094   -2.39e+04    3.04e+05\n",
      "quality[T.2]     3.406e+05   1.55e+05      2.196      0.028    3.63e+04    6.45e+05\n",
      "quality[T.3]     2.788e+05   1.98e+05      1.410      0.159   -1.09e+05    6.66e+05\n",
      "size_in_m_2      3.566e+04    723.831     49.271      0.000    3.42e+04    3.71e+04\n",
      "no_of_bedrooms  -8.367e+05   8.28e+04    -10.102      0.000   -9.99e+05   -6.74e+05\n",
      "no_of_bathrooms -5.712e+04   6.83e+04     -0.836      0.403   -1.91e+05    7.68e+04\n",
      "latitude         6.115e+06   7.81e+05      7.830      0.000    4.58e+06    7.65e+06\n",
      "longitude       -1.677e+06   6.91e+05     -2.428      0.015   -3.03e+06   -3.22e+05\n",
      "==============================================================================\n",
      "Omnibus:                      779.851   Durbin-Watson:                   1.716\n",
      "Prob(Omnibus):                  0.000   Jarque-Bera (JB):            25742.187\n",
      "Skew:                           1.273   Prob(JB):                         0.00\n",
      "Kurtosis:                      20.828   Cond. No.                     1.34e+05\n",
      "==============================================================================\n",
      "\n",
      "Notes:\n",
      "[1] Standard Errors assume that the covariance matrix of the errors is correctly specified.\n",
      "[2] The condition number is large, 1.34e+05. This might indicate that there are\n",
      "strong multicollinearity or other numerical problems.\n"
     ]
    }
   ],
   "source": [
    "model_Python_1 = smf.ols(formula = 'price ~ size_in_m_2 + no_of_bedrooms + no_of_bathrooms + quality + latitude + longitude', \n",
    "                 data =data_Python)\n",
    "\n",
    "model_Python_1 = model_Python_1.fit()\n",
    " \n",
    "print(model_Python_1.summary())"
   ]
  },
  {
   "cell_type": "markdown",
   "metadata": {},
   "source": [
    "The previous output gives us the estimation of the model coefficients\n",
    "(betas), both outputs give similar results (but we will consider the python output):\n",
    "\n",
    "<br>\n",
    "\n",
    "$\n",
    "\\hat{\\beta}_0 =  -6.207e+07  \\\\\n",
    "\\hat{\\beta}_{quality1} =1.4e+05\\\\\n",
    "\\hat{\\beta}_{quality2} = 3.406e+05 \\\\ \n",
    "\\hat{\\beta}_{quality3} = 2.788e+05 \\\\\n",
    "\\hat{\\beta}_{size\\_in\\_m\\_2} =3.566e+04 \\\\\n",
    "\\hat{\\beta}_{no\\_of\\_bedrooms} = -8.367e+05 \\\\\n",
    "\\hat{\\beta}_{no\\_of\\_bathrooms} = -5.712e+04 \\\\\n",
    "\\hat{\\beta}_{latitude}=6.115e+06 \\\\\n",
    "\\hat{\\beta}_{longitude}= -1.677e+06 \\\\\n",
    "$\n",
    "\n",
    "<br>\n",
    "\n",
    "So, the estimated model is:\n",
    "\n",
    "\n",
    "\\begin{gather*}\n",
    "\\widehat{price}_i =  -6.207e+07 +  3.566e+04 \\cdot size\\_in\\_m\\_2_i -8.367e+05 \\cdot no\\_of\\_bedrooms_i -5.712e+04 \\cdot no\\_of\\_bathrooms_i +\\\\ 1.4e+05 \\cdot quality1_i + 3.406e+05\\cdot quality2_i + 2.788e+05  \\cdot quality3_i  +6.115e+06\\cdot  latitude_i -1.677e+06   \\cdot longitude_i \n",
    "\\end{gather*}\n",
    "\n",
    "<br>\n",
    "\n",
    "**Observation:**\n",
    "\n",
    "The  categorical variable, *quality*, that has 4 categories (Low (0), Medium (1),\n",
    "High (2), Ultra (3)), enter in the model with 3 variables (quality1 ,\n",
    "quality2, quality3 ). The category. that is out of the model is Low (0) because is the firs category. \n",
    "\n",
    "This isn´t a particularity of this variable, but rather it´s a property of the categorical variables in the regression models.\n",
    "\n",
    "Later it will be seen how this affects model coefficients interpretation.  \n"
   ]
  },
  {
   "cell_type": "markdown",
   "metadata": {},
   "source": []
  },
  {
   "cell_type": "markdown",
   "metadata": {},
   "source": [
    "### Estimation of Linear Regression Model in Python with `scikit-learn` <a class=\"anchor\" id=\"18\"></a>\n"
   ]
  },
  {
   "cell_type": "code",
   "execution_count": 361,
   "metadata": {},
   "outputs": [],
   "source": [
    "# pip install sklearn\n",
    "\n",
    "import sklearn\n",
    "\n",
    "from sklearn.linear_model import LinearRegression\n",
    "from sklearn.model_selection import train_test_split\n"
   ]
  },
  {
   "cell_type": "markdown",
   "metadata": {},
   "source": [
    "\n",
    "We can use a training data-set to train the model in Python with the  `scikit-learn` module. \n",
    "\n",
    "This concepts will be seen with much more detail in a specific article about validation techniques.\n",
    "\n"
   ]
  },
  {
   "cell_type": "code",
   "execution_count": 362,
   "metadata": {},
   "outputs": [],
   "source": [
    "X_predictors = data_Python[['size_in_m_2', 'no_of_bedrooms', 'no_of_bathrooms' , 'quality' , 'latitude' , 'longitude' ]]\n",
    "y = data_Python[['price']]"
   ]
  },
  {
   "cell_type": "code",
   "execution_count": 363,
   "metadata": {},
   "outputs": [],
   "source": [
    "X_train, X_test, y_train, y_test = train_test_split( \n",
    "                                           X_predictors , \n",
    "                                           y.values.reshape(-1,1) ,\n",
    "                                           train_size = 0.8,\n",
    "                                           random_state = 1234, \n",
    "                                           shuffle = True )"
   ]
  },
  {
   "cell_type": "code",
   "execution_count": 364,
   "metadata": {},
   "outputs": [
    {
     "data": {
      "text/html": [
       "<div>\n",
       "<style scoped>\n",
       "    .dataframe tbody tr th:only-of-type {\n",
       "        vertical-align: middle;\n",
       "    }\n",
       "\n",
       "    .dataframe tbody tr th {\n",
       "        vertical-align: top;\n",
       "    }\n",
       "\n",
       "    .dataframe thead th {\n",
       "        text-align: right;\n",
       "    }\n",
       "</style>\n",
       "<table border=\"1\" class=\"dataframe\">\n",
       "  <thead>\n",
       "    <tr style=\"text-align: right;\">\n",
       "      <th></th>\n",
       "      <th>size_in_m_2</th>\n",
       "      <th>no_of_bedrooms</th>\n",
       "      <th>no_of_bathrooms</th>\n",
       "      <th>quality</th>\n",
       "      <th>latitude</th>\n",
       "      <th>longitude</th>\n",
       "    </tr>\n",
       "  </thead>\n",
       "  <tbody>\n",
       "    <tr>\n",
       "      <th>0</th>\n",
       "      <td>100.242337</td>\n",
       "      <td>1</td>\n",
       "      <td>2</td>\n",
       "      <td>1</td>\n",
       "      <td>25.113208</td>\n",
       "      <td>55.138932</td>\n",
       "    </tr>\n",
       "    <tr>\n",
       "      <th>1</th>\n",
       "      <td>146.972546</td>\n",
       "      <td>2</td>\n",
       "      <td>2</td>\n",
       "      <td>1</td>\n",
       "      <td>25.106809</td>\n",
       "      <td>55.151201</td>\n",
       "    </tr>\n",
       "    <tr>\n",
       "      <th>2</th>\n",
       "      <td>181.253753</td>\n",
       "      <td>3</td>\n",
       "      <td>5</td>\n",
       "      <td>1</td>\n",
       "      <td>25.063302</td>\n",
       "      <td>55.137728</td>\n",
       "    </tr>\n",
       "    <tr>\n",
       "      <th>3</th>\n",
       "      <td>187.664060</td>\n",
       "      <td>2</td>\n",
       "      <td>3</td>\n",
       "      <td>0</td>\n",
       "      <td>25.227295</td>\n",
       "      <td>55.341761</td>\n",
       "    </tr>\n",
       "    <tr>\n",
       "      <th>4</th>\n",
       "      <td>47.101821</td>\n",
       "      <td>0</td>\n",
       "      <td>1</td>\n",
       "      <td>1</td>\n",
       "      <td>25.114275</td>\n",
       "      <td>55.139764</td>\n",
       "    </tr>\n",
       "  </tbody>\n",
       "</table>\n",
       "</div>"
      ],
      "text/plain": [
       "   size_in_m_2  no_of_bedrooms  no_of_bathrooms quality   latitude  longitude\n",
       "0   100.242337               1                2       1  25.113208  55.138932\n",
       "1   146.972546               2                2       1  25.106809  55.151201\n",
       "2   181.253753               3                5       1  25.063302  55.137728\n",
       "3   187.664060               2                3       0  25.227295  55.341761\n",
       "4    47.101821               0                1       1  25.114275  55.139764"
      ]
     },
     "execution_count": 364,
     "metadata": {},
     "output_type": "execute_result"
    }
   ],
   "source": [
    "X_predictors.head()"
   ]
  },
  {
   "cell_type": "code",
   "execution_count": 365,
   "metadata": {},
   "outputs": [
    {
     "data": {
      "text/html": [
       "<div>\n",
       "<style scoped>\n",
       "    .dataframe tbody tr th:only-of-type {\n",
       "        vertical-align: middle;\n",
       "    }\n",
       "\n",
       "    .dataframe tbody tr th {\n",
       "        vertical-align: top;\n",
       "    }\n",
       "\n",
       "    .dataframe thead th {\n",
       "        text-align: right;\n",
       "    }\n",
       "</style>\n",
       "<table border=\"1\" class=\"dataframe\">\n",
       "  <thead>\n",
       "    <tr style=\"text-align: right;\">\n",
       "      <th></th>\n",
       "      <th>price</th>\n",
       "    </tr>\n",
       "  </thead>\n",
       "  <tbody>\n",
       "    <tr>\n",
       "      <th>0</th>\n",
       "      <td>2700000</td>\n",
       "    </tr>\n",
       "    <tr>\n",
       "      <th>1</th>\n",
       "      <td>2850000</td>\n",
       "    </tr>\n",
       "    <tr>\n",
       "      <th>2</th>\n",
       "      <td>1150000</td>\n",
       "    </tr>\n",
       "    <tr>\n",
       "      <th>3</th>\n",
       "      <td>2850000</td>\n",
       "    </tr>\n",
       "    <tr>\n",
       "      <th>4</th>\n",
       "      <td>1729200</td>\n",
       "    </tr>\n",
       "  </tbody>\n",
       "</table>\n",
       "</div>"
      ],
      "text/plain": [
       "     price\n",
       "0  2700000\n",
       "1  2850000\n",
       "2  1150000\n",
       "3  2850000\n",
       "4  1729200"
      ]
     },
     "execution_count": 365,
     "metadata": {},
     "output_type": "execute_result"
    }
   ],
   "source": [
    "y.head()"
   ]
  },
  {
   "cell_type": "code",
   "execution_count": 366,
   "metadata": {},
   "outputs": [],
   "source": [
    "X_train, X_test, y_train, y_test = train_test_split( \n",
    "                                           X_predictors , \n",
    "                                           y.values.reshape(-1,1) ,\n",
    "                                           train_size = 0.8,\n",
    "                                           random_state = 1234, \n",
    "                                           shuffle = True )\n"
   ]
  },
  {
   "cell_type": "markdown",
   "metadata": {},
   "source": [
    "`y.values.reshape(-1,1)`  transformate y in a colum array\n"
   ]
  },
  {
   "cell_type": "code",
   "execution_count": 367,
   "metadata": {},
   "outputs": [
    {
     "data": {
      "text/plain": [
       "array([[2700000],\n",
       "       [2850000],\n",
       "       [1150000],\n",
       "       ...,\n",
       "       [2900000],\n",
       "       [ 675000],\n",
       "       [ 760887]], dtype=int64)"
      ]
     },
     "execution_count": 367,
     "metadata": {},
     "output_type": "execute_result"
    }
   ],
   "source": [
    "y.values.reshape(-1,1)"
   ]
  },
  {
   "cell_type": "markdown",
   "metadata": {},
   "source": [
    "`train_size = 0.8` $\\Rightarrow$ the size of the training data-set is the 80% of the original data-set\n",
    "\n",
    "`random_state = 1234` $\\Rightarrow$  a seed (semilla) to replicate the random process that select the observations that will be consider as training data \n",
    "\n",
    "`shuffle` $\\Rightarrow$   whether or not to shuffle (permutar/barajar aleatoriamente) the data before splitting (antes de dividirlos en training set y test set)\n",
    "      "
   ]
  },
  {
   "cell_type": "code",
   "execution_count": 368,
   "metadata": {},
   "outputs": [],
   "source": [
    "data_train = pd.DataFrame( \n",
    "\n",
    "              np.hstack((X_train, y_train)) , \n",
    "            \n",
    "              columns=['size_in_m_2', 'no_of_bedrooms', 'no_of_bathrooms' , \n",
    "                       'quality' , 'latitude' , 'longitude', 'price'] \n",
    "                       \n",
    "                       )"
   ]
  },
  {
   "cell_type": "code",
   "execution_count": 369,
   "metadata": {},
   "outputs": [
    {
     "data": {
      "text/html": [
       "<div>\n",
       "<style scoped>\n",
       "    .dataframe tbody tr th:only-of-type {\n",
       "        vertical-align: middle;\n",
       "    }\n",
       "\n",
       "    .dataframe tbody tr th {\n",
       "        vertical-align: top;\n",
       "    }\n",
       "\n",
       "    .dataframe thead th {\n",
       "        text-align: right;\n",
       "    }\n",
       "</style>\n",
       "<table border=\"1\" class=\"dataframe\">\n",
       "  <thead>\n",
       "    <tr style=\"text-align: right;\">\n",
       "      <th></th>\n",
       "      <th>size_in_m_2</th>\n",
       "      <th>no_of_bedrooms</th>\n",
       "      <th>no_of_bathrooms</th>\n",
       "      <th>quality</th>\n",
       "      <th>latitude</th>\n",
       "      <th>longitude</th>\n",
       "    </tr>\n",
       "  </thead>\n",
       "  <tbody>\n",
       "    <tr>\n",
       "      <th>92</th>\n",
       "      <td>97.641053</td>\n",
       "      <td>1</td>\n",
       "      <td>1</td>\n",
       "      <td>1</td>\n",
       "      <td>25.132445</td>\n",
       "      <td>55.152216</td>\n",
       "    </tr>\n",
       "    <tr>\n",
       "      <th>95</th>\n",
       "      <td>242.383927</td>\n",
       "      <td>4</td>\n",
       "      <td>5</td>\n",
       "      <td>0</td>\n",
       "      <td>25.086726</td>\n",
       "      <td>55.145205</td>\n",
       "    </tr>\n",
       "    <tr>\n",
       "      <th>1838</th>\n",
       "      <td>38.554745</td>\n",
       "      <td>0</td>\n",
       "      <td>1</td>\n",
       "      <td>2</td>\n",
       "      <td>25.079130</td>\n",
       "      <td>55.154713</td>\n",
       "    </tr>\n",
       "    <tr>\n",
       "      <th>411</th>\n",
       "      <td>165.181534</td>\n",
       "      <td>2</td>\n",
       "      <td>3</td>\n",
       "      <td>0</td>\n",
       "      <td>25.197316</td>\n",
       "      <td>55.274196</td>\n",
       "    </tr>\n",
       "    <tr>\n",
       "      <th>192</th>\n",
       "      <td>278.709000</td>\n",
       "      <td>4</td>\n",
       "      <td>5</td>\n",
       "      <td>1</td>\n",
       "      <td>25.076319</td>\n",
       "      <td>55.133627</td>\n",
       "    </tr>\n",
       "  </tbody>\n",
       "</table>\n",
       "</div>"
      ],
      "text/plain": [
       "      size_in_m_2  no_of_bedrooms  no_of_bathrooms quality   latitude  \\\n",
       "92      97.641053               1                1       1  25.132445   \n",
       "95     242.383927               4                5       0  25.086726   \n",
       "1838    38.554745               0                1       2  25.079130   \n",
       "411    165.181534               2                3       0  25.197316   \n",
       "192    278.709000               4                5       1  25.076319   \n",
       "\n",
       "      longitude  \n",
       "92    55.152216  \n",
       "95    55.145205  \n",
       "1838  55.154713  \n",
       "411   55.274196  \n",
       "192   55.133627  "
      ]
     },
     "execution_count": 369,
     "metadata": {},
     "output_type": "execute_result"
    }
   ],
   "source": [
    "X_train.head()"
   ]
  },
  {
   "cell_type": "code",
   "execution_count": 370,
   "metadata": {},
   "outputs": [
    {
     "data": {
      "text/plain": [
       "array([[2100000],\n",
       "       [5500000],\n",
       "       [ 400888],\n",
       "       ...,\n",
       "       [1800000],\n",
       "       [ 999999],\n",
       "       [ 770000]], dtype=int64)"
      ]
     },
     "execution_count": 370,
     "metadata": {},
     "output_type": "execute_result"
    }
   ],
   "source": [
    "y_train"
   ]
  },
  {
   "cell_type": "code",
   "execution_count": 371,
   "metadata": {},
   "outputs": [
    {
     "data": {
      "text/plain": [
       "array([[9.76410530e+01, 1.00000000e+00, 1.00000000e+00, ...,\n",
       "        2.51324450e+01, 5.51522160e+01, 2.10000000e+06],\n",
       "       [2.42383927e+02, 4.00000000e+00, 5.00000000e+00, ...,\n",
       "        2.50867260e+01, 5.51452050e+01, 5.50000000e+06],\n",
       "       [3.85547450e+01, 0.00000000e+00, 1.00000000e+00, ...,\n",
       "        2.50791300e+01, 5.51547130e+01, 4.00888000e+05],\n",
       "       ...,\n",
       "       [1.82647298e+02, 2.00000000e+00, 3.00000000e+00, ...,\n",
       "        2.50805800e+01, 5.51391470e+01, 1.80000000e+06],\n",
       "       [7.78527140e+01, 1.00000000e+00, 2.00000000e+00, ...,\n",
       "        2.51914040e+01, 5.52738960e+01, 9.99999000e+05],\n",
       "       [7.49727210e+01, 1.00000000e+00, 2.00000000e+00, ...,\n",
       "        2.50850470e+01, 5.51424150e+01, 7.70000000e+05]])"
      ]
     },
     "execution_count": 371,
     "metadata": {},
     "output_type": "execute_result"
    }
   ],
   "source": [
    "np.hstack((X_train, y_train))"
   ]
  },
  {
   "cell_type": "markdown",
   "metadata": {},
   "source": [
    "Let´s see how `hstack` (and `vstack`) works:\n"
   ]
  },
  {
   "cell_type": "code",
   "execution_count": 372,
   "metadata": {},
   "outputs": [],
   "source": [
    "a = np.array([1,2,3,4,99])\n",
    "b = np.array([5,6,7,8])"
   ]
  },
  {
   "cell_type": "code",
   "execution_count": 373,
   "metadata": {},
   "outputs": [
    {
     "data": {
      "text/plain": [
       "array([ 1,  2,  3,  4, 99,  5,  6,  7,  8])"
      ]
     },
     "execution_count": 373,
     "metadata": {},
     "output_type": "execute_result"
    }
   ],
   "source": [
    "np.hstack((a,b)) # similar to cbind in R"
   ]
  },
  {
   "cell_type": "code",
   "execution_count": 374,
   "metadata": {},
   "outputs": [],
   "source": [
    "a = np.array([1,2,3,4])\n",
    "b = np.array([[5,6,7,8],[9,10,11,12]])"
   ]
  },
  {
   "cell_type": "code",
   "execution_count": 375,
   "metadata": {},
   "outputs": [
    {
     "data": {
      "text/plain": [
       "array([[ 1,  2,  3,  4],\n",
       "       [ 5,  6,  7,  8],\n",
       "       [ 9, 10, 11, 12]])"
      ]
     },
     "execution_count": 375,
     "metadata": {},
     "output_type": "execute_result"
    }
   ],
   "source": [
    "np.vstack((a,b)) # similar to rbind in R"
   ]
  },
  {
   "cell_type": "markdown",
   "metadata": {},
   "source": []
  },
  {
   "cell_type": "markdown",
   "metadata": {},
   "source": [
    "Finally we can combine `sk-learn` with `statsmodels`"
   ]
  },
  {
   "cell_type": "code",
   "execution_count": 376,
   "metadata": {},
   "outputs": [
    {
     "name": "stdout",
     "output_type": "stream",
     "text": [
      "                            OLS Regression Results                            \n",
      "==============================================================================\n",
      "Dep. Variable:                  price   R-squared:                       0.710\n",
      "Model:                            OLS   Adj. R-squared:                  0.709\n",
      "Method:                 Least Squares   F-statistic:                     619.0\n",
      "Date:               ju., 21 jul. 2022   Prob (F-statistic):               0.00\n",
      "Time:                        19:51:33   Log-Likelihood:                -24008.\n",
      "No. Observations:                1524   AIC:                         4.803e+04\n",
      "Df Residuals:                    1517   BIC:                         4.807e+04\n",
      "Df Model:                           6                                         \n",
      "Covariance Type:            nonrobust                                         \n",
      "===================================================================================\n",
      "                      coef    std err          t      P>|t|      [0.025      0.975]\n",
      "-----------------------------------------------------------------------------------\n",
      "Intercept       -5.064e+07   3.48e+07     -1.457      0.145   -1.19e+08    1.76e+07\n",
      "size_in_m_2      3.735e+04    812.549     45.966      0.000    3.58e+04    3.89e+04\n",
      "no_of_bedrooms  -9.007e+05   9.61e+04     -9.371      0.000   -1.09e+06   -7.12e+05\n",
      "no_of_bathrooms -7.921e+04   7.97e+04     -0.994      0.321   -2.36e+05    7.72e+04\n",
      "quality          1.228e+05   6.22e+04      1.975      0.048     827.233    2.45e+05\n",
      "latitude         6.245e+06   9.04e+05      6.906      0.000    4.47e+06    8.02e+06\n",
      "longitude       -1.943e+06      8e+05     -2.430      0.015   -3.51e+06   -3.74e+05\n",
      "==============================================================================\n",
      "Omnibus:                      496.275   Durbin-Watson:                   2.007\n",
      "Prob(Omnibus):                  0.000   Jarque-Bera (JB):            17300.381\n",
      "Skew:                           0.842   Prob(JB):                         0.00\n",
      "Kurtosis:                      19.420   Cond. No.                     1.35e+05\n",
      "==============================================================================\n",
      "\n",
      "Notes:\n",
      "[1] Standard Errors assume that the covariance matrix of the errors is correctly specified.\n",
      "[2] The condition number is large, 1.35e+05. This might indicate that there are\n",
      "strong multicollinearity or other numerical problems.\n"
     ]
    }
   ],
   "source": [
    "model_train_Python_1 = smf.ols(formula = 'price ~ size_in_m_2 + no_of_bedrooms + no_of_bathrooms + quality + latitude + longitude', \n",
    "                 data =data_train)\n",
    "\n",
    "model_train_Python_1 = model_train_Python_1.fit()\n",
    " \n",
    "print(model_train_Python_1.summary())"
   ]
  },
  {
   "cell_type": "markdown",
   "metadata": {},
   "source": []
  },
  {
   "cell_type": "markdown",
   "metadata": {},
   "source": []
  },
  {
   "cell_type": "markdown",
   "metadata": {},
   "source": [
    "### Precision of the estimations of model coefficients <a class=\"anchor\" id=\"19\"></a>\n",
    "\n",
    "The precision of model coefficients estimates is given by the\n",
    "coefficients estimator variance, that is, by $\\hspace{0.05cm}$  $Var(\\hat{\\beta_j})$\n",
    "\n",
    "It´s true that $\\hspace{0.05cm}$ \n",
    "$\\hat{\\beta_j} \\sim N(\\beta_j , \\sqrt{ \\sigma^2 \\cdot q_{jj} } )$ $\\hspace{0.05cm}$ $\\Rightarrow$ $\\hspace{0.05cm}$ $Var(\\hat{\\beta_j})=\\sigma^2 \\cdot q_{jj}$\n",
    "\n",
    "Therefore, the estimation of the variance of $\\hspace{0.05cm}$  $\\hat{\\beta_j}$  $\\hspace{0.05cm}$  is $\\hspace{0.05cm}$  $\\widehat{Var}(\\hat{\\beta_j})= \\hat{\\sigma}^2 \\cdot q_{jj}$ \n",
    " \n",
    "\n",
    "Where:\n",
    "\n",
    "$\\hat{\\sigma}^2$  is the estimation of the variance of the error  $\\varepsilon_i$ $\\hspace{0.05cm}$ , i.e, $\\hspace{0.05cm}$ $\\hat{\\sigma}^2 = \\widehat{Var}(\\varepsilon_i)$\n",
    "\n",
    "\n",
    "$q_{jj}$ $\\hspace{0.05cm}$  is the element  $j+1$  of the principal diagonal of the matrix $\\hspace{0.05cm}$ $(X^t \\cdot X)^{-1}$  $\\hspace{0.05cm}$ , for  $j=0,1,...,p$\n",
    "\n",
    "<br>\n",
    "\n",
    "- ***¿ Why are the variance of the coefficient estimators important ?***\n",
    "\n",
    "\n",
    "The standard deviation of the coefficient estimators indicates how much\n",
    "the estimates of the coefficients deviate, in mean, when the estimates\n",
    "are recalculated using many different samples.\n",
    "\n",
    "Suppose many samples are obtained, and with each of them a linear\n",
    "regression model is trained. Then, we obtein many estimates of the model\n",
    "coefficients, one with each sample.\n",
    "\n",
    "Then  $\\sqrt{\\widehat{Var}(\\hat{\\beta_j})}$  indicates how much\n",
    "$\\hat{\\beta_j}$ varies, in mean, from one sample to another.\n",
    "\n",
    "If the standard deviation is high, this indicates that will be obtained\n",
    "big differences when $\\beta_j$ is estimate with $\\hat{\\beta_j}$\n",
    "depending on the sample that is used for estimate it, that means\n",
    "estimator $\\hat{\\beta_j}$ is imprecise, because it will be more\n",
    "dispersion of the values of $\\hat{\\beta_j}$ respect to the mean.\n",
    "\n",
    "On the contrary, if the standard deviation is low, this indicates that\n",
    "will be obtained small differences when $\\beta_j$ is estimate with\n",
    "$\\hat{\\beta_j}$ depending on the sample that is used for estimate it,\n",
    "that means estimator $\\hat{\\beta_j}$ is precise, because it will be less\n",
    "dispersion of the values of $\\hat{\\beta_j}$ respect to the mean.\n",
    "\n"
   ]
  },
  {
   "cell_type": "markdown",
   "metadata": {},
   "source": []
  },
  {
   "cell_type": "markdown",
   "metadata": {},
   "source": [
    "#### Estimation of the standard deviation of  coefficients estimators in R <a class=\"anchor\" id=\"20\"></a>\n"
   ]
  },
  {
   "cell_type": "code",
   "execution_count": 377,
   "metadata": {},
   "outputs": [
    {
     "name": "stdout",
     "output_type": "stream",
     "text": [
      "\n",
      "Call:\n",
      "lm(formula = price ~ size_in_m_2 + no_of_bedrooms + no_of_bathrooms + \n",
      "    quality + latitude + longitude, data = data_R)\n",
      "\n",
      "Residuals:\n",
      "      Min        1Q    Median        3Q       Max \n",
      "-13398393   -562302     68143    562733  15384235 \n",
      "\n",
      "Coefficients:\n",
      "                  Estimate Std. Error t value Pr(>|t|)    \n",
      "(Intercept)     -6.207e+07  2.995e+07  -2.073   0.0383 *  \n",
      "size_in_m_2      3.566e+04  7.238e+02  49.271  < 2e-16 ***\n",
      "no_of_bedrooms  -8.367e+05  8.282e+04 -10.102  < 2e-16 ***\n",
      "no_of_bathrooms -5.712e+04  6.829e+04  -0.836   0.4030    \n",
      "quality1         1.400e+05  8.358e+04   1.675   0.0940 .  \n",
      "quality2         3.406e+05  1.551e+05   2.196   0.0282 *  \n",
      "quality3         2.788e+05  1.976e+05   1.410   0.1586    \n",
      "latitude         6.115e+06  7.809e+05   7.830 8.03e-15 ***\n",
      "longitude       -1.677e+06  6.908e+05  -2.428   0.0153 *  \n",
      "---\n",
      "Signif. codes:  0 '***' 0.001 '**' 0.01 '*' 0.05 '.' 0.1 ' ' 1\n",
      "\n",
      "Residual standard error: 1605000 on 1896 degrees of freedom\n",
      "Multiple R-squared:  0.6979,\tAdjusted R-squared:  0.6966 \n",
      "F-statistic: 547.4 on 8 and 1896 DF,  p-value: < 2.2e-16\n",
      "\n"
     ]
    }
   ],
   "source": [
    "%%R \n",
    "\n",
    "summary(model_R_1)"
   ]
  },
  {
   "cell_type": "markdown",
   "metadata": {},
   "source": []
  },
  {
   "cell_type": "markdown",
   "metadata": {},
   "source": [
    "### Estimate  coefficients estimators standard deviation in Python <a class=\"anchor\" id=\"21\"></a>\n"
   ]
  },
  {
   "cell_type": "code",
   "execution_count": 378,
   "metadata": {},
   "outputs": [
    {
     "name": "stdout",
     "output_type": "stream",
     "text": [
      "                            OLS Regression Results                            \n",
      "==============================================================================\n",
      "Dep. Variable:                  price   R-squared:                       0.698\n",
      "Model:                            OLS   Adj. R-squared:                  0.697\n",
      "Method:                 Least Squares   F-statistic:                     547.4\n",
      "Date:               ju., 21 jul. 2022   Prob (F-statistic):               0.00\n",
      "Time:                        19:51:38   Log-Likelihood:                -29918.\n",
      "No. Observations:                1905   AIC:                         5.985e+04\n",
      "Df Residuals:                    1896   BIC:                         5.990e+04\n",
      "Df Model:                           8                                         \n",
      "Covariance Type:            nonrobust                                         \n",
      "===================================================================================\n",
      "                      coef    std err          t      P>|t|      [0.025      0.975]\n",
      "-----------------------------------------------------------------------------------\n",
      "Intercept       -6.207e+07   2.99e+07     -2.073      0.038   -1.21e+08   -3.34e+06\n",
      "quality[T.1]       1.4e+05   8.36e+04      1.675      0.094   -2.39e+04    3.04e+05\n",
      "quality[T.2]     3.406e+05   1.55e+05      2.196      0.028    3.63e+04    6.45e+05\n",
      "quality[T.3]     2.788e+05   1.98e+05      1.410      0.159   -1.09e+05    6.66e+05\n",
      "size_in_m_2      3.566e+04    723.831     49.271      0.000    3.42e+04    3.71e+04\n",
      "no_of_bedrooms  -8.367e+05   8.28e+04    -10.102      0.000   -9.99e+05   -6.74e+05\n",
      "no_of_bathrooms -5.712e+04   6.83e+04     -0.836      0.403   -1.91e+05    7.68e+04\n",
      "latitude         6.115e+06   7.81e+05      7.830      0.000    4.58e+06    7.65e+06\n",
      "longitude       -1.677e+06   6.91e+05     -2.428      0.015   -3.03e+06   -3.22e+05\n",
      "==============================================================================\n",
      "Omnibus:                      779.851   Durbin-Watson:                   1.716\n",
      "Prob(Omnibus):                  0.000   Jarque-Bera (JB):            25742.187\n",
      "Skew:                           1.273   Prob(JB):                         0.00\n",
      "Kurtosis:                      20.828   Cond. No.                     1.34e+05\n",
      "==============================================================================\n",
      "\n",
      "Notes:\n",
      "[1] Standard Errors assume that the covariance matrix of the errors is correctly specified.\n",
      "[2] The condition number is large, 1.34e+05. This might indicate that there are\n",
      "strong multicollinearity or other numerical problems.\n"
     ]
    }
   ],
   "source": [
    "print(model_Python_1.summary())"
   ]
  },
  {
   "cell_type": "markdown",
   "metadata": {},
   "source": [
    "\n",
    "These outputs give us a lot of information about the model, some of this\n",
    "information has been seen (estimates coefficients), an other information\n",
    "will be seen later.\n",
    "\n",
    "Now we will focus in the part of the output where are the estimation of   coefficients estimators standard error (`std err` in Python , `Std.Error` in R).\n",
    "\n",
    "$\n",
    "\\sqrt{\\widehat{Var}(\\hat{\\beta_0})}=2.995e+07 \\\\\n",
    " \\sqrt{\\widehat{Var}(\\hat{\\beta}_{quality1})}=8.358e+04 \\\\\n",
    "\\sqrt{\\widehat{Var}(\\hat{\\beta}_{quality2})}=1.551e+05\\\\ \n",
    "\\sqrt{\\widehat{Var}(\\hat{\\beta}_{quality3})}= 1.976e+05 \\\\ \n",
    "\\sqrt{\\widehat{Var}(\\hat{\\beta}_{size\\_in\\_m\\_2})}= 7.238e+02 \\\\\n",
    "\\sqrt{\\widehat{Var}(\\hat{\\beta}_{no\\_of\\_bedrooms})}=8.282e+04 \\\\ \n",
    "\\sqrt{\\widehat{Var}(\\hat{\\beta}_{no\\_of\\_bathrooms})}=6.829e+04 \\\\  \n",
    "\\sqrt{\\widehat{Var}(\\hat{\\beta}_{latitude})}=7.809e+05\\\\ \n",
    "\\sqrt{\\widehat{Var}(\\hat{\\beta}_{longitude})}=6.908e+05\n",
    "$\n",
    "\n",
    "The standard deviation estimates of the coefficients estimators are, in\n",
    "general, so high. This implies if we train the model with another\n",
    "samples, we will get estimates of the coefficients quite different than\n",
    "the one obtained with our initial sample.\n",
    "\n",
    "And this is a big problem, because from one sample to another are\n",
    "obtained very different linear regression models, so that, very\n",
    "different results with each sample.\n",
    "\n"
   ]
  },
  {
   "cell_type": "markdown",
   "metadata": {},
   "source": []
  },
  {
   "cell_type": "markdown",
   "metadata": {},
   "source": []
  },
  {
   "cell_type": "markdown",
   "metadata": {},
   "source": [
    "### Estimation of model errors in R <a class=\"anchor\" id=\"22\"></a>\n"
   ]
  },
  {
   "cell_type": "markdown",
   "metadata": {},
   "source": [
    "\n",
    "\n",
    "With the function `predict` we can get the predictions made by the model\n",
    "for the response variable in R:\n",
    "\n"
   ]
  },
  {
   "cell_type": "code",
   "execution_count": 379,
   "metadata": {},
   "outputs": [
    {
     "name": "stdout",
     "output_type": "stream",
     "text": [
      "         1          2          3          4          5          6          7 \n",
      " 1781425.9  2551624.8  2522740.0  4222873.3   785153.0  1574504.1  4350316.8 \n",
      "         8          9         10         11         12         13         14 \n",
      " 1574504.1  3521401.8  2610791.1  2934947.8   446056.9  -147809.7  1908923.1 \n",
      "        15         16         17         18         19         20         21 \n",
      " 1841127.9  2032066.6  2874430.5  2078235.2  1527279.8  1369157.0   394709.0 \n",
      "        22         23         24         25         26         27         28 \n",
      " 1241331.5  4403015.1  9109695.4 13905182.9  4487692.4  3257719.2 12177081.6 \n",
      "        29         30 \n",
      " 2544105.1  1411866.2 \n"
     ]
    }
   ],
   "source": [
    "%%R\n",
    "\n",
    "predict(model_R_1)[1:30]"
   ]
  },
  {
   "cell_type": "markdown",
   "metadata": {},
   "source": [
    "\n",
    "We estimate the model errors as $\\hspace{0.1cm}$ $\\hat{\\varepsilon}_i= y_i - \\hat{y}_i$\n"
   ]
  },
  {
   "cell_type": "code",
   "execution_count": 380,
   "metadata": {},
   "outputs": [
    {
     "name": "stdout",
     "output_type": "stream",
     "text": [
      "          1           2           3           4           5           6 \n",
      "  918574.13   298375.22 -1372740.03 -1372873.34   944047.04  1545395.91 \n",
      "          7           8           9          10          11          12 \n",
      " 4153283.22  1545395.91 -1421401.76    79208.94   615052.21  1648942.06 \n",
      "         13          14          15          16          17          18 \n",
      " 1197808.65   -59923.08   248871.10   317923.42   624569.55   621764.80 \n",
      "         19          20          21          22          23          24 \n",
      "  -37279.84  -419157.01   705290.95   148668.47  -403115.06 -5760695.43 \n",
      "         25          26          27          28          29          30 \n",
      "-5435182.86 -1988692.41  -457719.22 -3677081.56  -669105.11  -136866.23 \n"
     ]
    }
   ],
   "source": [
    "%%R \n",
    "\n",
    "(estimated_errors <- data_R$price - predict(model_R_1))[1:30]"
   ]
  },
  {
   "cell_type": "markdown",
   "metadata": {},
   "source": [
    "\n",
    "We put in a data frame the values of response variable observed in the\n",
    "sample, the model predictions of the response, and the estimates of\n",
    "model errors:\n"
   ]
  },
  {
   "cell_type": "code",
   "execution_count": 381,
   "metadata": {},
   "outputs": [
    {
     "name": "stdout",
     "output_type": "stream",
     "text": [
      "# A tibble: 15 x 3\n",
      "     price price_predictions estimated_errors\n",
      "     <dbl>             <dbl>            <dbl>\n",
      " 1 2700000          1781426.          918574.\n",
      " 2 2850000          2551625.          298375.\n",
      " 3 1150000          2522740.        -1372740.\n",
      " 4 2850000          4222873.        -1372873.\n",
      " 5 1729200           785153.          944047.\n",
      " 6 3119900          1574504.         1545396.\n",
      " 7 8503600          4350317.         4153283.\n",
      " 8 3119900          1574504.         1545396.\n",
      " 9 2100000          3521402.        -1421402.\n",
      "10 2690000          2610791.           79209.\n",
      "11 3550000          2934948.          615052.\n",
      "12 2094999           446057.         1648942.\n",
      "13 1049999          -147810.         1197809.\n",
      "14 1849000          1908923.          -59923.\n",
      "15 2089999          1841128.          248871.\n"
     ]
    }
   ],
   "source": [
    "%%R\n",
    "\n",
    "(df_predictions <- tibble(price=data_R$price , \n",
    "                         price_predictions=predict(model_R_1), \n",
    "                         estimated_errors))[1:15, ]"
   ]
  },
  {
   "cell_type": "markdown",
   "metadata": {},
   "source": []
  },
  {
   "cell_type": "markdown",
   "metadata": {},
   "source": []
  },
  {
   "cell_type": "markdown",
   "metadata": {},
   "source": [
    "### Estimation of model errors in Python <a class=\"anchor\" id=\"23\"></a>\n"
   ]
  },
  {
   "cell_type": "code",
   "execution_count": 382,
   "metadata": {},
   "outputs": [
    {
     "data": {
      "text/html": [
       "<div>\n",
       "<style scoped>\n",
       "    .dataframe tbody tr th:only-of-type {\n",
       "        vertical-align: middle;\n",
       "    }\n",
       "\n",
       "    .dataframe tbody tr th {\n",
       "        vertical-align: top;\n",
       "    }\n",
       "\n",
       "    .dataframe thead th {\n",
       "        text-align: right;\n",
       "    }\n",
       "</style>\n",
       "<table border=\"1\" class=\"dataframe\">\n",
       "  <thead>\n",
       "    <tr style=\"text-align: right;\">\n",
       "      <th></th>\n",
       "      <th>predictions</th>\n",
       "    </tr>\n",
       "  </thead>\n",
       "  <tbody>\n",
       "    <tr>\n",
       "      <th>0</th>\n",
       "      <td>1.781426e+06</td>\n",
       "    </tr>\n",
       "    <tr>\n",
       "      <th>1</th>\n",
       "      <td>2.551625e+06</td>\n",
       "    </tr>\n",
       "    <tr>\n",
       "      <th>2</th>\n",
       "      <td>2.522740e+06</td>\n",
       "    </tr>\n",
       "    <tr>\n",
       "      <th>3</th>\n",
       "      <td>4.222873e+06</td>\n",
       "    </tr>\n",
       "    <tr>\n",
       "      <th>4</th>\n",
       "      <td>7.851530e+05</td>\n",
       "    </tr>\n",
       "    <tr>\n",
       "      <th>...</th>\n",
       "      <td>...</td>\n",
       "    </tr>\n",
       "    <tr>\n",
       "      <th>1900</th>\n",
       "      <td>1.211313e+06</td>\n",
       "    </tr>\n",
       "    <tr>\n",
       "      <th>1901</th>\n",
       "      <td>8.171580e+05</td>\n",
       "    </tr>\n",
       "    <tr>\n",
       "      <th>1902</th>\n",
       "      <td>2.981084e+06</td>\n",
       "    </tr>\n",
       "    <tr>\n",
       "      <th>1903</th>\n",
       "      <td>2.651215e+05</td>\n",
       "    </tr>\n",
       "    <tr>\n",
       "      <th>1904</th>\n",
       "      <td>8.227585e+05</td>\n",
       "    </tr>\n",
       "  </tbody>\n",
       "</table>\n",
       "<p>1905 rows × 1 columns</p>\n",
       "</div>"
      ],
      "text/plain": [
       "       predictions\n",
       "0     1.781426e+06\n",
       "1     2.551625e+06\n",
       "2     2.522740e+06\n",
       "3     4.222873e+06\n",
       "4     7.851530e+05\n",
       "...            ...\n",
       "1900  1.211313e+06\n",
       "1901  8.171580e+05\n",
       "1902  2.981084e+06\n",
       "1903  2.651215e+05\n",
       "1904  8.227585e+05\n",
       "\n",
       "[1905 rows x 1 columns]"
      ]
     },
     "execution_count": 382,
     "metadata": {},
     "output_type": "execute_result"
    }
   ],
   "source": [
    "predictions = pd.DataFrame( {'predictions': model_Python_1.predict(X_predictors)} )\n",
    "predictions"
   ]
  },
  {
   "cell_type": "code",
   "execution_count": 383,
   "metadata": {},
   "outputs": [
    {
     "data": {
      "text/html": [
       "<div>\n",
       "<style scoped>\n",
       "    .dataframe tbody tr th:only-of-type {\n",
       "        vertical-align: middle;\n",
       "    }\n",
       "\n",
       "    .dataframe tbody tr th {\n",
       "        vertical-align: top;\n",
       "    }\n",
       "\n",
       "    .dataframe thead th {\n",
       "        text-align: right;\n",
       "    }\n",
       "</style>\n",
       "<table border=\"1\" class=\"dataframe\">\n",
       "  <thead>\n",
       "    <tr style=\"text-align: right;\">\n",
       "      <th></th>\n",
       "      <th>price</th>\n",
       "    </tr>\n",
       "  </thead>\n",
       "  <tbody>\n",
       "    <tr>\n",
       "      <th>0</th>\n",
       "      <td>2700000</td>\n",
       "    </tr>\n",
       "    <tr>\n",
       "      <th>1</th>\n",
       "      <td>2850000</td>\n",
       "    </tr>\n",
       "    <tr>\n",
       "      <th>2</th>\n",
       "      <td>1150000</td>\n",
       "    </tr>\n",
       "    <tr>\n",
       "      <th>3</th>\n",
       "      <td>2850000</td>\n",
       "    </tr>\n",
       "    <tr>\n",
       "      <th>4</th>\n",
       "      <td>1729200</td>\n",
       "    </tr>\n",
       "    <tr>\n",
       "      <th>...</th>\n",
       "      <td>...</td>\n",
       "    </tr>\n",
       "    <tr>\n",
       "      <th>1900</th>\n",
       "      <td>1500000</td>\n",
       "    </tr>\n",
       "    <tr>\n",
       "      <th>1901</th>\n",
       "      <td>1230000</td>\n",
       "    </tr>\n",
       "    <tr>\n",
       "      <th>1902</th>\n",
       "      <td>2900000</td>\n",
       "    </tr>\n",
       "    <tr>\n",
       "      <th>1903</th>\n",
       "      <td>675000</td>\n",
       "    </tr>\n",
       "    <tr>\n",
       "      <th>1904</th>\n",
       "      <td>760887</td>\n",
       "    </tr>\n",
       "  </tbody>\n",
       "</table>\n",
       "<p>1905 rows × 1 columns</p>\n",
       "</div>"
      ],
      "text/plain": [
       "        price\n",
       "0     2700000\n",
       "1     2850000\n",
       "2     1150000\n",
       "3     2850000\n",
       "4     1729200\n",
       "...       ...\n",
       "1900  1500000\n",
       "1901  1230000\n",
       "1902  2900000\n",
       "1903   675000\n",
       "1904   760887\n",
       "\n",
       "[1905 rows x 1 columns]"
      ]
     },
     "execution_count": 383,
     "metadata": {},
     "output_type": "execute_result"
    }
   ],
   "source": [
    "price = pd.DataFrame( {'price': data_Python['price'] } )\n",
    "price"
   ]
  },
  {
   "cell_type": "code",
   "execution_count": 384,
   "metadata": {},
   "outputs": [
    {
     "data": {
      "text/html": [
       "<div>\n",
       "<style scoped>\n",
       "    .dataframe tbody tr th:only-of-type {\n",
       "        vertical-align: middle;\n",
       "    }\n",
       "\n",
       "    .dataframe tbody tr th {\n",
       "        vertical-align: top;\n",
       "    }\n",
       "\n",
       "    .dataframe thead th {\n",
       "        text-align: right;\n",
       "    }\n",
       "</style>\n",
       "<table border=\"1\" class=\"dataframe\">\n",
       "  <thead>\n",
       "    <tr style=\"text-align: right;\">\n",
       "      <th></th>\n",
       "      <th>price</th>\n",
       "      <th>predictions</th>\n",
       "    </tr>\n",
       "  </thead>\n",
       "  <tbody>\n",
       "    <tr>\n",
       "      <th>0</th>\n",
       "      <td>2700000</td>\n",
       "      <td>1.781426e+06</td>\n",
       "    </tr>\n",
       "    <tr>\n",
       "      <th>1</th>\n",
       "      <td>2850000</td>\n",
       "      <td>2.551625e+06</td>\n",
       "    </tr>\n",
       "    <tr>\n",
       "      <th>2</th>\n",
       "      <td>1150000</td>\n",
       "      <td>2.522740e+06</td>\n",
       "    </tr>\n",
       "    <tr>\n",
       "      <th>3</th>\n",
       "      <td>2850000</td>\n",
       "      <td>4.222873e+06</td>\n",
       "    </tr>\n",
       "    <tr>\n",
       "      <th>4</th>\n",
       "      <td>1729200</td>\n",
       "      <td>7.851530e+05</td>\n",
       "    </tr>\n",
       "    <tr>\n",
       "      <th>...</th>\n",
       "      <td>...</td>\n",
       "      <td>...</td>\n",
       "    </tr>\n",
       "    <tr>\n",
       "      <th>1900</th>\n",
       "      <td>1500000</td>\n",
       "      <td>1.211313e+06</td>\n",
       "    </tr>\n",
       "    <tr>\n",
       "      <th>1901</th>\n",
       "      <td>1230000</td>\n",
       "      <td>8.171580e+05</td>\n",
       "    </tr>\n",
       "    <tr>\n",
       "      <th>1902</th>\n",
       "      <td>2900000</td>\n",
       "      <td>2.981084e+06</td>\n",
       "    </tr>\n",
       "    <tr>\n",
       "      <th>1903</th>\n",
       "      <td>675000</td>\n",
       "      <td>2.651215e+05</td>\n",
       "    </tr>\n",
       "    <tr>\n",
       "      <th>1904</th>\n",
       "      <td>760887</td>\n",
       "      <td>8.227585e+05</td>\n",
       "    </tr>\n",
       "  </tbody>\n",
       "</table>\n",
       "<p>1905 rows × 2 columns</p>\n",
       "</div>"
      ],
      "text/plain": [
       "        price   predictions\n",
       "0     2700000  1.781426e+06\n",
       "1     2850000  2.551625e+06\n",
       "2     1150000  2.522740e+06\n",
       "3     2850000  4.222873e+06\n",
       "4     1729200  7.851530e+05\n",
       "...       ...           ...\n",
       "1900  1500000  1.211313e+06\n",
       "1901  1230000  8.171580e+05\n",
       "1902  2900000  2.981084e+06\n",
       "1903   675000  2.651215e+05\n",
       "1904   760887  8.227585e+05\n",
       "\n",
       "[1905 rows x 2 columns]"
      ]
     },
     "execution_count": 384,
     "metadata": {},
     "output_type": "execute_result"
    }
   ],
   "source": [
    "df_predictions_Python = pd.concat([price, predictions], axis=1)\n",
    "df_predictions_Python"
   ]
  },
  {
   "cell_type": "code",
   "execution_count": 385,
   "metadata": {},
   "outputs": [
    {
     "data": {
      "text/html": [
       "<div>\n",
       "<style scoped>\n",
       "    .dataframe tbody tr th:only-of-type {\n",
       "        vertical-align: middle;\n",
       "    }\n",
       "\n",
       "    .dataframe tbody tr th {\n",
       "        vertical-align: top;\n",
       "    }\n",
       "\n",
       "    .dataframe thead th {\n",
       "        text-align: right;\n",
       "    }\n",
       "</style>\n",
       "<table border=\"1\" class=\"dataframe\">\n",
       "  <thead>\n",
       "    <tr style=\"text-align: right;\">\n",
       "      <th></th>\n",
       "      <th>price</th>\n",
       "      <th>predictions</th>\n",
       "      <th>train_errors</th>\n",
       "    </tr>\n",
       "  </thead>\n",
       "  <tbody>\n",
       "    <tr>\n",
       "      <th>0</th>\n",
       "      <td>2700000</td>\n",
       "      <td>1.781426e+06</td>\n",
       "      <td>9.185741e+05</td>\n",
       "    </tr>\n",
       "    <tr>\n",
       "      <th>1</th>\n",
       "      <td>2850000</td>\n",
       "      <td>2.551625e+06</td>\n",
       "      <td>2.983752e+05</td>\n",
       "    </tr>\n",
       "    <tr>\n",
       "      <th>2</th>\n",
       "      <td>1150000</td>\n",
       "      <td>2.522740e+06</td>\n",
       "      <td>-1.372740e+06</td>\n",
       "    </tr>\n",
       "    <tr>\n",
       "      <th>3</th>\n",
       "      <td>2850000</td>\n",
       "      <td>4.222873e+06</td>\n",
       "      <td>-1.372873e+06</td>\n",
       "    </tr>\n",
       "    <tr>\n",
       "      <th>4</th>\n",
       "      <td>1729200</td>\n",
       "      <td>7.851530e+05</td>\n",
       "      <td>9.440470e+05</td>\n",
       "    </tr>\n",
       "    <tr>\n",
       "      <th>...</th>\n",
       "      <td>...</td>\n",
       "      <td>...</td>\n",
       "      <td>...</td>\n",
       "    </tr>\n",
       "    <tr>\n",
       "      <th>1900</th>\n",
       "      <td>1500000</td>\n",
       "      <td>1.211313e+06</td>\n",
       "      <td>2.886873e+05</td>\n",
       "    </tr>\n",
       "    <tr>\n",
       "      <th>1901</th>\n",
       "      <td>1230000</td>\n",
       "      <td>8.171580e+05</td>\n",
       "      <td>4.128420e+05</td>\n",
       "    </tr>\n",
       "    <tr>\n",
       "      <th>1902</th>\n",
       "      <td>2900000</td>\n",
       "      <td>2.981084e+06</td>\n",
       "      <td>-8.108440e+04</td>\n",
       "    </tr>\n",
       "    <tr>\n",
       "      <th>1903</th>\n",
       "      <td>675000</td>\n",
       "      <td>2.651215e+05</td>\n",
       "      <td>4.098785e+05</td>\n",
       "    </tr>\n",
       "    <tr>\n",
       "      <th>1904</th>\n",
       "      <td>760887</td>\n",
       "      <td>8.227585e+05</td>\n",
       "      <td>-6.187149e+04</td>\n",
       "    </tr>\n",
       "  </tbody>\n",
       "</table>\n",
       "<p>1905 rows × 3 columns</p>\n",
       "</div>"
      ],
      "text/plain": [
       "        price   predictions  train_errors\n",
       "0     2700000  1.781426e+06  9.185741e+05\n",
       "1     2850000  2.551625e+06  2.983752e+05\n",
       "2     1150000  2.522740e+06 -1.372740e+06\n",
       "3     2850000  4.222873e+06 -1.372873e+06\n",
       "4     1729200  7.851530e+05  9.440470e+05\n",
       "...       ...           ...           ...\n",
       "1900  1500000  1.211313e+06  2.886873e+05\n",
       "1901  1230000  8.171580e+05  4.128420e+05\n",
       "1902  2900000  2.981084e+06 -8.108440e+04\n",
       "1903   675000  2.651215e+05  4.098785e+05\n",
       "1904   760887  8.227585e+05 -6.187149e+04\n",
       "\n",
       "[1905 rows x 3 columns]"
      ]
     },
     "execution_count": 385,
     "metadata": {},
     "output_type": "execute_result"
    }
   ],
   "source": [
    "df_predictions_Python = df_predictions_Python >> mutate(train_errors = X['price'] - X['predictions']) \n",
    "\n",
    "df_predictions_Python"
   ]
  },
  {
   "cell_type": "markdown",
   "metadata": {},
   "source": []
  },
  {
   "cell_type": "markdown",
   "metadata": {},
   "source": []
  },
  {
   "cell_type": "markdown",
   "metadata": {},
   "source": [
    "## Estimation of the error variance <a class=\"anchor\" id=\"24\"></a>\n",
    "\n",
    "\n",
    "The estimator of the error variance $Var(\\varepsilon_i)=\\sigma^2$ is\n",
    "called residual variance, and is defined as:\n",
    "\n",
    "$$\n",
    "S_R^2 = \\dfrac{1}{n-p-1} \\cdot \\sum_{i=1}^{n} \\hat{\\varepsilon}_i =  \\dfrac{1}{n-p-1} \\cdot (Y^t \\cdot Y - \\hat{\\beta}^t \\cdot X^t \\cdot Y)\n",
    "$$\n",
    "\n",
    "The following is fulfilled:\n",
    "\n",
    "$$\n",
    "\\dfrac{n-p-1}{\\sigma^2} \\cdot S_R^2 \\sim \\chi_{n-p-1}^2 \\\\\n",
    "E[S_R^2]=\\sigma^2 \\\\\n",
    "Var(S_R^2)=\\dfrac{2 \\cdot \\sigma^4}{n-p-1}\n",
    "$$\n"
   ]
  },
  {
   "cell_type": "markdown",
   "metadata": {},
   "source": []
  },
  {
   "cell_type": "markdown",
   "metadata": {},
   "source": [
    "\n",
    "### Estimation of the error variance in R <a class=\"anchor\" id=\"25\"></a>\n"
   ]
  },
  {
   "cell_type": "code",
   "execution_count": 386,
   "metadata": {},
   "outputs": [
    {
     "name": "stdout",
     "output_type": "stream",
     "text": [
      "[1] 2.572224e+12\n"
     ]
    }
   ],
   "source": [
    "%%R\n",
    "n<- length(estimated_errors)\n",
    "p<-6\n",
    "( estimated_variance_error <- sum(estimated_errors^2)/(n-p-1) )"
   ]
  },
  {
   "cell_type": "code",
   "execution_count": 387,
   "metadata": {},
   "outputs": [
    {
     "name": "stdout",
     "output_type": "stream",
     "text": [
      "[1] 1603816\n"
     ]
    }
   ],
   "source": [
    "%%R\n",
    "\n",
    "( estimated_standard_deviation_error <- sqrt(estimated_variance_error) )"
   ]
  },
  {
   "cell_type": "markdown",
   "metadata": {},
   "source": []
  },
  {
   "cell_type": "markdown",
   "metadata": {},
   "source": [
    "### Estimation of the error variance in Python <a class=\"anchor\" id=\"26\"></a>\n"
   ]
  },
  {
   "cell_type": "code",
   "execution_count": 388,
   "metadata": {},
   "outputs": [],
   "source": [
    "n = len(data_Python)\n",
    "p = 6"
   ]
  },
  {
   "cell_type": "code",
   "execution_count": 389,
   "metadata": {},
   "outputs": [
    {
     "data": {
      "text/plain": [
       "2572224474734.9785"
      ]
     },
     "execution_count": 389,
     "metadata": {},
     "output_type": "execute_result"
    }
   ],
   "source": [
    "estimated_variance_train_error = sum(df_predictions_Python['train_errors']**2)/(n-p-1) \n",
    "estimated_variance_train_error"
   ]
  },
  {
   "cell_type": "code",
   "execution_count": 390,
   "metadata": {},
   "outputs": [
    {
     "data": {
      "text/plain": [
       "1603815.5987316554"
      ]
     },
     "execution_count": 390,
     "metadata": {},
     "output_type": "execute_result"
    }
   ],
   "source": [
    "import math\n",
    "\n",
    "estimated_standard_deviation_train_error = math.sqrt(estimated_variance_train_error)\n",
    "estimated_standard_deviation_train_error"
   ]
  },
  {
   "cell_type": "markdown",
   "metadata": {},
   "source": []
  },
  {
   "cell_type": "markdown",
   "metadata": {},
   "source": []
  },
  {
   "cell_type": "markdown",
   "metadata": {},
   "source": [
    "## Model Train Validation <a class=\"anchor\" id=\"27\"></a>\n",
    "\n",
    "\n",
    "We can compute some metric in order to measure how much distant are the\n",
    "predictions and observations of the response variable.\n",
    "\n",
    "Two of the most common metrics are the mean absolute deviation (MAD) and the mean square error (MSE):\n",
    "\n",
    "$$\n",
    "MAD=  \\dfrac{1}{n} \\sum_{i=1}^{n} \\mid y_i - \\hat{y}_i \\mid = \\dfrac{1}{n} \\sum_{i=1}^{n} \\mid \\hat{\\varepsilon}_i \\mid\n",
    "$$\n",
    "\n",
    "$$\n",
    "MSE = \\dfrac{1}{n} \\sum_{i=1}^{n} ( y_i - \\hat{y}_i )^2 = \\dfrac{1}{n} \\sum_{i=1}^{n} \\hat{\\varepsilon}_i^2\n",
    "$$\n"
   ]
  },
  {
   "cell_type": "markdown",
   "metadata": {},
   "source": []
  },
  {
   "cell_type": "markdown",
   "metadata": {},
   "source": [
    "\n",
    "### Model Training Validation in R <a class=\"anchor\" id=\"28\"></a>\n"
   ]
  },
  {
   "cell_type": "code",
   "execution_count": 391,
   "metadata": {},
   "outputs": [
    {
     "name": "stdout",
     "output_type": "stream",
     "text": [
      "[1] 938065.2\n"
     ]
    }
   ],
   "source": [
    "%%R\n",
    "\n",
    "( MAD <- mean(abs((estimated_errors))) ) "
   ]
  },
  {
   "cell_type": "code",
   "execution_count": 392,
   "metadata": {},
   "outputs": [
    {
     "name": "stdout",
     "output_type": "stream",
     "text": [
      "[1] 2.562773e+12\n"
     ]
    }
   ],
   "source": [
    "%%R\n",
    "\n",
    "( MSE <- mean((estimated_errors)^2) ) "
   ]
  },
  {
   "cell_type": "markdown",
   "metadata": {},
   "source": [
    "### Model Training Validation in Python  <a class=\"anchor\" id=\"29\"></a>"
   ]
  },
  {
   "cell_type": "code",
   "execution_count": 393,
   "metadata": {},
   "outputs": [
    {
     "data": {
      "text/plain": [
       "938065.2280944842"
      ]
     },
     "execution_count": 393,
     "metadata": {},
     "output_type": "execute_result"
    }
   ],
   "source": [
    "MAD_Py = (df_predictions_Python['train_errors'].abs()).mean()\n",
    "MAD_Py"
   ]
  },
  {
   "cell_type": "code",
   "execution_count": 394,
   "metadata": {},
   "outputs": [
    {
     "data": {
      "text/plain": [
       "2562772731258.2637"
      ]
     },
     "execution_count": 394,
     "metadata": {},
     "output_type": "execute_result"
    }
   ],
   "source": [
    "MSE_Py = (df_predictions_Python['train_errors']**2).mean()\n",
    "MSE_Py"
   ]
  },
  {
   "cell_type": "markdown",
   "metadata": {},
   "source": [
    "\n",
    "In mean, the predictions that the model made of the response variable\n",
    "deviates from the observations, in absolute value, in 938065 units.\n",
    "\n",
    "This is an estimation of model error, but training error, because we\n",
    "have used the predictions of the response variables made by the model\n",
    "using the observations with which it has been trained.\n",
    "\n",
    "There is a more interesting model error, called test error, that is\n",
    "computed with predictors observations which haven´t been used to train\n",
    "the model.\n",
    "\n",
    "In this article, we will not go deeper unto that, but this concepts will\n",
    "be more developed in another article about validation techniques.\n",
    "\n",
    "\n"
   ]
  },
  {
   "cell_type": "markdown",
   "metadata": {},
   "source": []
  },
  {
   "cell_type": "markdown",
   "metadata": {},
   "source": []
  },
  {
   "cell_type": "markdown",
   "metadata": {},
   "source": [
    "## Model Coefficients Interpretation <a class=\"anchor\" id=\"30\"></a>"
   ]
  },
  {
   "cell_type": "markdown",
   "metadata": {},
   "source": []
  },
  {
   "cell_type": "markdown",
   "metadata": {},
   "source": [
    "\n",
    "### Null Coefficient <a class=\"anchor\" id=\"31\"></a>\n",
    "\n",
    "\n",
    "We have the following estimated linear regression model \n",
    "\n",
    "  $$\\hat{y}= \\hat{\\beta_0} + \\hat{\\beta_0}\\cdot x_{i1} + ...+ \\hat{\\beta_p}\\cdot x_{ip}$$\n",
    "\n",
    "- $\\hat{\\beta}_0$ $\\hspace{0.05cm}$ is the model estimated value for the response variable, i.e $\\hspace{0.05cm}$  $\\hat{y}_i$ $\\hspace{0.05cm}$\n",
    ", when $\\hspace{0.05cm}$ $x_{ij}=0$ $\\hspace{0.05cm}$ , $\\forall j=1,2,...,p$\n",
    "\n"
   ]
  },
  {
   "cell_type": "markdown",
   "metadata": {},
   "source": []
  },
  {
   "cell_type": "markdown",
   "metadata": {},
   "source": [
    "\n",
    "###  Cuantitative Predictor Coefficient <a class=\"anchor\" id=\"32\"></a>\n",
    "\n",
    "Let $X_k$ a **quantitative** variable, and $\\hspace{0.05cm}$ $h>0$,\n",
    "\n",
    "We have the following estimated linear regression model  \n",
    "\n",
    "$$\\hat{y}_i= \\hat{\\beta_0} + \\hat{\\beta_0}\\cdot x_{i1} + .. + \\hat{\\beta_k}\\cdot x_{ik} + ..+ \\hat{\\beta_p}\\cdot x_{ip}$$\n",
    "\n",
    "\n",
    "-   If $\\hat{\\beta}_k > 0$  , then\n",
    "\n",
    "    -   If  $x_{ik}$  **increases** in $h$ units $\\hspace{0.05cm}$  $\\Rightarrow$  $\\hspace{0.05cm}$ $\\hat{y}_i$\n",
    "        **increases** in $\\hspace{0.05cm}$ $\\hat{\\beta}_k \\cdot h$  $\\hspace{0.05cm}$ units.\n",
    "        \n",
    "        And the opposite if it decreases.\n",
    "        \n",
    "   \n",
    "-   If  $\\hat{\\beta}_k < 0$  , then\n",
    "\n",
    "    -  If $x_{ik}$ **increases** in $h$ units $\\hspace{0.05cm}$ $\\Rightarrow$ $\\hspace{0.05cm}$  $\\hat{y}_i$\n",
    "        **decreases** in $\\hspace{0.05cm}$ $\\hat{\\beta}_k \\cdot h$ $\\hspace{0.05cm}$ units. \n",
    "\n",
    "        And the opposite if it decreases.\n",
    "\n",
    "\n",
    "-   If  $\\hat{\\beta}_k = 0$  , then\n",
    "\n",
    "    -   $\\hat{y}_i$ $\\hspace{0.05cm}$ doesn´t depend on $\\hspace{0.05cm}$  $x_{ik}$\n",
    "\n",
    "\n",
    "**Observation:**\n",
    "\n",
    "\n",
    "The above affirmations are based in the following:\n",
    "\n",
    "- $(\\hat{y}_i \\hspace{0.05cm} | \\hspace{0.05cm} x_{ik}=c+h ) - (\\hat{y}_i  \\hspace{0.05cm} | \\hspace{0.05cm}  x_{ik}=c ) =  \\hat{\\beta_k}\\cdot h$"
   ]
  },
  {
   "cell_type": "markdown",
   "metadata": {},
   "source": []
  },
  {
   "cell_type": "markdown",
   "metadata": {},
   "source": [
    "\n",
    "### Categorical Predictor Coefficient <a class=\"anchor\" id=\"33\"></a>"
   ]
  },
  {
   "cell_type": "markdown",
   "metadata": {},
   "source": [
    "\n",
    "#### Categorical Predictors with 2 categories\n",
    "\n",
    "Let $X_k$ a categorical variable with 2 categories \n",
    "$\\lbrace 0 , 1 \\rbrace$,\n",
    "\n",
    "If the reference category is  $0$  , then  $X_k$ enter in the model as the binary (0,1) variable $X_{k1}$ defined as:\n",
    "\n",
    "$$\n",
    "x_{i k1}=1  \\hspace{0.05cm} \\Leftrightarrow \\hspace{0.05cm}  x_{i k}=1 \n",
    " $$\n",
    "\n",
    "<br>\n",
    "\n",
    "In addition, we define the variable $X_{k0}$ as:\n",
    "\n",
    "$$\n",
    "x_{i k0}=1  \\hspace{0.05cm} \\Leftrightarrow \\hspace{0.05cm}  x_{i k}=0 \n",
    "$$\n",
    "\n",
    "<br>\n",
    "\n",
    "We have the following estimated linear regression model:\n",
    "\n",
    "$$\\hat{y}_i= \\hat{\\beta_0} + \\hat{\\beta_0}\\cdot x_{i1} + .. + \\hat{\\beta}_{k1} \\cdot x_{ik1} + ..+ \\hat{\\beta_p}\\cdot x_{ip}$$\n",
    "\n",
    "<br>\n",
    "\n",
    "-   If $\\hat{\\beta}_{k1} > 0$ , then\n",
    "\n",
    "\n",
    "\n",
    "    -   $\\hat{y}_i$ $\\hspace{0.05cm}$ is $\\hspace{0.05cm}$ $\\hat{\\beta}_{k1}$ $\\hspace{0.05cm}$ units greater if  $\\hspace{0.05cm}$ $x_{ik}=1$ $\\hspace{0.05cm}$ than if $\\hspace{0.05cm}$ $x_{ik}= 0$\n",
    "\n",
    "<br>\n",
    "\n",
    "-   If $\\hat{\\beta}_{k1} < 0$ , then\n",
    "\n",
    "    -   $\\hat{y}_i$ $\\hspace{0.05cm}$ is $\\hspace{0.05cm}$ $\\hat{\\beta}_{k1}$ $\\hspace{0.05cm}$ units less if $\\hspace{0.05cm}$  $x_{ik}= 1$ $\\hspace{0.05cm}$ than if $\\hspace{0.05cm}$ $x_{ik}=0$\n",
    "\n"
   ]
  },
  {
   "cell_type": "markdown",
   "metadata": {},
   "source": [
    "**Observation:**\n",
    "\n",
    "\n",
    "The above affirmations are based in the following:\n",
    "\n",
    "- $(\\hat{y}_i \\hspace{0.05cm} | \\hspace{0.05cm} x_{ik1}=1 ) - (\\hat{y}_i  \\hspace{0.05cm} | \\hspace{0.05cm}  x_{ik1}=0 ) =  \\hat{\\beta}_{k1}$"
   ]
  },
  {
   "cell_type": "markdown",
   "metadata": {},
   "source": []
  },
  {
   "cell_type": "markdown",
   "metadata": {},
   "source": [
    "\n",
    "#### Categorical Predictors with 3 categories:\n",
    "\n",
    "Let $X_k$ a categorical variable with 3 categories\n",
    "$\\lbrace 0 , 1, 2 \\rbrace$,\n",
    "\n",
    "If the reference category is $0$, then $X_k$ enter in the model with\n",
    "two binary $\\lbrace 0,1\\rbrace$ variables $X_{k1}$ y $X_{k2}$ defined as:\n",
    "\n",
    "\\begin{gather*}\n",
    "x_{i k1}=1   \\Leftrightarrow   x_{i k}=1 \\\\\n",
    "x_{i k2}=1  \\Leftrightarrow     x_{i k}=2 \n",
    "\\end{gather*}\n",
    "\n",
    "<br>\n",
    "\n",
    "In addition, we define the variable $X_{k0}$ as:\n",
    "\n",
    "$$\n",
    "x_{i k0}=1  \\hspace{0.05cm} \\Leftrightarrow \\hspace{0.05cm}  x_{i k}=0 \n",
    "$$\n",
    "\n",
    "<br>\n",
    "\n",
    "We have the following estimated linear regression model:\n",
    "\n",
    "$$\\hat{y}= \\hat{\\beta_0} + \\hat{\\beta_0}\\cdot x_{i1} + .. + \\hat{\\beta}_{k1} \\cdot x_{ik1} + \\hat{\\beta}_{k2} \\cdot x_{ik2} + ..+ \\hat{\\beta_p}\\cdot x_{ip}$$\n",
    "\n",
    "<br>\n",
    "\n",
    "-   If  $\\hat{\\beta}_{k1} > 0$  , then\n",
    "\n",
    "    -  $\\hat{y}_i$ $\\hspace{0.05cm}$  is $\\hspace{0.05cm}$ $\\hat{\\beta}_{k1}$ $\\hspace{0.05cm}$ units **greater** if $\\hspace{0.05cm}$ $x_{ik}= 1$ $\\hspace{0.05cm}$  than if  $\\hspace{0.05cm}$ $x_{ik}= 0$\n",
    "\n",
    "<br>\n",
    "\n",
    "-   If  $\\hat{\\beta}_{k1} < 0$  , then\n",
    "\n",
    "    -   $\\hat{y}_i$ $\\hspace{0.05cm}$ is $\\hspace{0.05cm}$ $\\hat{\\beta}_{k1}$ $\\hspace{0.05cm}$ units **less** if $\\hspace{0.05cm}$  $x_{ik}= 1$ $\\hspace{0.05cm}$ than if $\\hspace{0.05cm}$ $x_{ik}= 0$\n",
    "\n",
    "<br>\n",
    "\n",
    "-   If $\\hat{\\beta}_{k2} > 0$ , then\n",
    "\n",
    "    -   $\\hat{y}_i$ $\\hspace{0.05cm}$  is $\\hspace{0.05cm}$ $\\hat{\\beta}_{k2}$ $\\hspace{0.05cm}$ units **greater** if $\\hspace{0.05cm}$  $x_{ik}= 1$  $\\hspace{0.05cm}$ than if $\\hspace{0.05cm}$ $x_{ik}= 0$\n",
    "\n",
    "<br>\n",
    "\n",
    "-   If $\\hat{\\beta}_{k2} < 0$  , then \n",
    "\n",
    "    -  $\\hat{y}_i$ $\\hspace{0.05cm}$ is $\\hspace{0.05cm}$ $\\hat{\\beta}_{k2}$ $\\hspace{0.05cm}$ units **less** if  $\\hspace{0.05cm}$ $x_{ik}= 1$ $\\hspace{0.05cm}$ than if $\\hspace{0.05cm}$ $x_{ik}= 0$\n",
    "\n",
    "<br>\n",
    "\n",
    "-   If  $\\hat{\\beta}_{k2} - \\hat{\\beta}_{k1} > 0$ , then\n",
    "\n",
    "    -   $\\hat{y}_i$ $\\hspace{0.05cm}$ is $\\hspace{0.05cm}$ $\\hat{\\beta}_{k2} - \\hat{\\beta}_{k1}$  $\\hspace{0.05cm}$ units  **greater** if $\\hspace{0.05cm}$ $x_{ik}= 2$ $\\hspace{0.05cm}$ than if $\\hspace{0.05cm}$ $x_{ik}= 1$\n",
    "\n",
    "<br>\n",
    "\n",
    "-   If  $\\hat{\\beta}_{k2} - \\hat{\\beta}_{k1} < 0$  , then\n",
    "\n",
    "    -   $\\hat{y}_i$ $\\hspace{0.05cm}$ is $\\hspace{0.05cm}$ $\\hat{\\beta}_{k2} - \\hat{\\beta}_{k1}$ $\\hspace{0.05cm}$ units\n",
    "        **less** if $\\hspace{0.05cm}$ $x_{ik}= 2$ $\\hspace{0.05cm}$ than if $\\hspace{0.05cm}$ $x_{ik}= 1$\n",
    "\n",
    "<br>\n",
    "\n",
    "Note that the above is easily extrapolated to the case in which we have a\n",
    "categorical predictor with $r$ categories, for $r>3$.\n"
   ]
  },
  {
   "cell_type": "markdown",
   "metadata": {},
   "source": [
    "**Observation:**\n",
    "\n",
    "\n",
    "The above affirmations are based in the following:\n",
    "\n",
    "- $(\\hat{y}_i \\hspace{0.05cm} | \\hspace{0.05cm} x_{ik1}=1 ) - (\\hat{y}_i  \\hspace{0.05cm} | \\hspace{0.05cm}  x_{ik0}=1 ) =  \\hat{\\beta}_{k1}$\n",
    "\n",
    "- $(\\hat{y}_i \\hspace{0.05cm} | \\hspace{0.05cm} x_{ik2}=1 ) - (\\hat{y}_i  \\hspace{0.05cm} | \\hspace{0.05cm}  x_{ik0}=1 ) =  \\hat{\\beta}_{k2}$\n",
    "  \n",
    "- $(\\hat{y}_i \\hspace{0.05cm} | \\hspace{0.05cm} x_{ik2}=1 ) - (\\hat{y}_i  \\hspace{0.05cm} | \\hspace{0.05cm}  x_{ik1}=1 ) =  \\hat{\\beta}_{k2} - \\hat{\\beta}_{k1} $"
   ]
  },
  {
   "cell_type": "markdown",
   "metadata": {},
   "source": []
  },
  {
   "cell_type": "markdown",
   "metadata": {},
   "source": [
    "Note that this can easily be extrapolated to the case of  an $r$-ary categorical variable  with $r > 3$"
   ]
  },
  {
   "cell_type": "markdown",
   "metadata": {},
   "source": []
  },
  {
   "cell_type": "markdown",
   "metadata": {},
   "source": [
    "\n",
    "### Example of coefficient interpretation <a class=\"anchor\" id=\"34\"></a>\n",
    "\n",
    "We had obtained the following estimated model:\n",
    "\n",
    "\n",
    "\\begin{gather*}\n",
    "\\widehat{price}_i =  -6.207e+07 +  3.566e+04 \\cdot size\\_in\\_m\\_2_i -8.367e+05 \\cdot no\\_of\\_bedrooms_i -5.712e+04 \\cdot no\\_of\\_bathrooms_i + \\\\ 1.4e+05 \\cdot quality1_i + 3.406e+05\\cdot quality2_i + 2.788e+05  \\cdot quality3_i  +6.115e+06\\cdot  latitude_i -1.677e+06   \\cdot longitude_i \n",
    "\\end{gather*}\n",
    "\n"
   ]
  },
  {
   "cell_type": "markdown",
   "metadata": {},
   "source": [
    "The interpretation of the estimated model coefficients is the following:\n",
    "\n",
    "<br>\n",
    "\n",
    "-   $\\hat{\\beta}_0 = -6.207e+07$   is the estimated  $price$  by the model for the  houses with $size\\_in\\_m\\_2_i =0$  ,  $no\\_of\\_bedrooms_i =0$  ,  $no\\_of\\_bathrooms_i =0$  ,   $qualityLow_i=0$ ,   $qualityMedium_i=0$  ,  $qualityUltra_i=0$  ,  $latitude_i=longitude_i=0$\n",
    "\n",
    "\n",
    "-   $\\hat{\\beta}_{size\\_in\\_m\\_2} =3.566e+04$   $\\Rightarrow$   if\n",
    "    $size\\_in\\_m\\_2_i$ increases in $h$ units, the estimated housing\n",
    "    $price$ **increases** in  $h\\cdot 3.566e+04$  units.\n",
    "\n",
    "\n",
    "-   $\\hat{\\beta}_{no\\_of\\_bedrooms} = -8.367e+05$   $\\Rightarrow$   if\n",
    "    $no\\_of\\_bedrooms_i$ increases in  $h$  units, the estimated housing\n",
    "    $price$ **decreases** in  $-h\\cdot 8.367e+05$  units.\n",
    "\n",
    "\n",
    "-   $\\hat{\\beta}_{no\\_of\\_bathrooms} = -5.712e+04$   $\\Rightarrow$   if\n",
    "    $no\\_of\\_bathrooms_i$ increases in  $h$  units, the estimated housing\n",
    "    $price$ **decreases** in  $-h\\cdot 5.712e+04$  units.\n",
    "\n",
    "\n",
    "-   $\\hat{\\beta}_{quality1} = 1.4e+05$   $\\Rightarrow$    the estimated\n",
    "    $price$ of houses with medium quality  $(quality1_i=1)$  is  $1.4e+05$   units **greater** than the estimated price of houses with low quality\n",
    "    $(quality0_i=1)$ , because low quality is the reference category  of $quality$ variable.\n",
    "\n",
    "\n",
    "-   $\\hat{\\beta}_{quality2} = 3.406e+05$  $\\Rightarrow$    the\n",
    "    estimated $price$ of houses with medium quality \n",
    "    $(quality2_i=1)$  is  $3.406e+05$ units **greater** than the estimated\n",
    "    price of houses with high quality  $(quality0_i=1)$  \n",
    "\n",
    "\n",
    "-   $\\hat{\\beta}_{quality3} = 2.788e+05$   $\\Rightarrow$     the estimated\n",
    "    $price$ of houses with ultra quality  $(quality1_i=1)$   is\n",
    "  $2.788e+05$  units **greater** than the estimated price of houses with low quality  $(quality0_i=1)$ \n",
    "\n",
    "\n",
    "-   $\\hat{\\beta}_{quality2} - \\hat{\\beta}_{quality1} = 3.406e+05  - 1.4e+05 =2.006e+05$     $\\Rightarrow$   the estimated price of houses  with high quality  $(quality2_i=1)$   is  $2.006e+05$ units **greater**   than the estimated price of houses with medium quality  $(quality1_i=1)$ \n",
    "\n",
    "-  $\\hat{\\beta}_{quality3} - \\hat{\\beta}_{quality2} = 2.788e+05   - 3.406e+05 =-61800$     $\\Rightarrow$  the estimated price of houses  with ultra quality  $(quality3_i=1)$   is  $61800$ units **less**   than the estimated price of houses with high quality  $(quality2_i=1)$ \n",
    "\n",
    "<br>\n",
    "\n",
    "Note that in all these cases it is assumed that the rest of the model variables don´t vary (have the same values) from one scenario to another."
   ]
  },
  {
   "cell_type": "markdown",
   "metadata": {},
   "source": []
  },
  {
   "cell_type": "markdown",
   "metadata": {},
   "source": [
    "### Interaction  Coefficient <a class=\"anchor\" id=\"35\"></a>"
   ]
  },
  {
   "cell_type": "markdown",
   "metadata": {},
   "source": [
    "#### Interaction  between binary and quantitative variables"
   ]
  },
  {
   "cell_type": "markdown",
   "metadata": {},
   "source": [
    "Let $X_k$ a quantitative variable, and $X_r$ a **binary** $\\lbrace 0, 1\\rbrace$ categorical variable."
   ]
  },
  {
   "cell_type": "markdown",
   "metadata": {},
   "source": [
    "If the reference category is  $0$  , then  $X_r$ enter in the model as the binary $\\lbrace 0, 1\\rbrace$ variable $X_{r1}$ defined as:\n",
    "\n",
    "$$\n",
    "x_{i r1}=1  \\hspace{0.05cm} \\Leftrightarrow \\hspace{0.05cm}  x_{i r}=1\n",
    "$$\n"
   ]
  },
  {
   "cell_type": "markdown",
   "metadata": {},
   "source": [
    "\n",
    "In addition, we define the variable $X_{r0}$ as:\n",
    "\n",
    "$$\n",
    "x_{i r0}=1  \\hspace{0.05cm} \\Leftrightarrow \\hspace{0.05cm}  x_{i r}=0 \n",
    "$$"
   ]
  },
  {
   "cell_type": "markdown",
   "metadata": {},
   "source": [
    "We have the following estimated linear regression model  \n",
    "\n",
    "$$\\hat{y}_i= \\hat{\\beta_0} + \\hat{\\beta_0}\\cdot x_{i1} + ... + \\hat{\\beta_p}\\cdot x_{ip} + \\hat{\\beta}_{r}\\cdot x_{ir} + \\hat{\\beta}_{k}\\cdot x_{ik} + \\hat{\\beta}_{rk}\\cdot x_{ir}\\cdot x_{ik}  $$"
   ]
  },
  {
   "cell_type": "markdown",
   "metadata": {},
   "source": [
    "-   If  $\\hspace{0.05cm} \\hat{\\beta}_{r1} + \\hat{\\beta}_{r1}\\cdot x_{ki} \\hspace{0.05cm} > \\hspace{0.05cm} 0$  , then\n",
    "\n",
    "    -  $\\hat{y}_i$ $\\hspace{0.05cm}$  is $\\hspace{0.05cm}$ $\\hspace{0.05cm} \\hat{\\beta}_{r1} + \\hat{\\beta}_{r1}\\cdot x_{ki} \\hspace{0.05cm}$ $\\hspace{0.05cm}$ units **greater** if $\\hspace{0.05cm}$ $x_{ir}= 1$ $\\hspace{0.05cm}$  than if  $\\hspace{0.05cm}$ $x_{ir}= 0$\n",
    "\n",
    "<br>\n",
    "\n",
    "-   If  $\\hspace{0.05cm} \\hat{\\beta}_{r1} + \\hat{\\beta}_{r1}\\cdot x_{ki} \\hspace{0.05cm} < \\hspace{0.05cm} 0$  , then\n",
    "\n",
    "    -  $\\hat{y}_i$ $\\hspace{0.05cm}$  is $\\hspace{0.05cm}$ $\\hspace{0.05cm} \\hat{\\beta}_{r1} + \\hat{\\beta}_{r1}\\cdot x_{ki} \\hspace{0.05cm}$ $\\hspace{0.05cm}$ units **less** if $\\hspace{0.05cm}$ $x_{ir}= 1$ $\\hspace{0.05cm}$  than if  $\\hspace{0.05cm}$ $x_{ir}= 0$"
   ]
  },
  {
   "cell_type": "markdown",
   "metadata": {},
   "source": [
    "Note these magnitudes depend on $x_{ik}$ value, because we have set an interaction between $X_k$ and $X_r$ in the model."
   ]
  },
  {
   "cell_type": "markdown",
   "metadata": {},
   "source": [
    "**Observation:**\n",
    "\n",
    "The above affirmations are based in the following:\n",
    "\n",
    "$(\\hat{y}_i \\hspace{0.05cm} | \\hspace{0.05cm} x_{ir1}=1 ) - (\\hat{y}_i  \\hspace{0.05cm} | \\hspace{0.05cm}  x_{ir0}=1 ) =  \\hat{\\beta}_{r1} + \\hat{\\beta}_{r1k}\\cdot x_{ik}$"
   ]
  },
  {
   "cell_type": "markdown",
   "metadata": {},
   "source": []
  },
  {
   "cell_type": "markdown",
   "metadata": {},
   "source": [
    "#### Interaction  between ternary and quantitative variables"
   ]
  },
  {
   "cell_type": "markdown",
   "metadata": {},
   "source": [
    "Let $X_k$ a quantitative variable, and $X_r$ a **ternary** $\\lbrace 0, 1, 2 \\rbrace$ categorical variable.\n",
    "\n",
    "<br>\n",
    "\n",
    "If the reference category is  $0$  , then  $X_r$ enter in the model with\n",
    "two binary $\\lbrace 0,1\\rbrace$ variables $X_{r1}$ y $X_{r2}$ defined as:\n",
    "\n",
    "\\begin{gather*}\n",
    "x_{i r1}=1   \\Leftrightarrow   x_{i r}=1 \\\\\n",
    "x_{i r2}=1  \\Leftrightarrow     x_{i r}=2 \n",
    "\\end{gather*}\n",
    "\n",
    "<br>\n",
    "\n",
    "In addition, we define the variable $X_{r0}$ as:\n",
    "\n",
    "$$\n",
    "x_{i r0}=1  \\hspace{0.05cm} \\Leftrightarrow \\hspace{0.05cm}  x_{i r}=0 \n",
    "$$\n",
    "\n",
    "<br>\n",
    " \n",
    "We have the following estimated linear regression model  \n",
    "\n",
    "$$\\hat{y}_i= \\hat{\\beta_0} + \\hat{\\beta_0}\\cdot x_{i1} + ... + \\hat{\\beta_p}\\cdot x_{ip}  + \\hat{\\beta}_{k}\\cdot x_{ik} + \\hat{\\beta}_{r1}\\cdot x_{ir1} + \\hat{\\beta}_{r2}\\cdot x_{ir2} + \\hat{\\beta}_{r1k}\\cdot x_{ir1}\\cdot x_{ik} + \\hat{\\beta}_{r2 k}\\cdot x_{ir2}\\cdot x_{ik} $$\n",
    "\n",
    "<br>\n",
    "\n",
    "-   If  $\\hspace{0.05cm} \\hat{\\beta}_{r1} + \\hat{\\beta}_{r1}\\cdot x_{ki} \\hspace{0.05cm} > \\hspace{0.05cm} 0$  , then\n",
    "\n",
    "    -  $\\hat{y}_i$ $\\hspace{0.05cm}$  is $\\hspace{0.05cm}$ $\\hspace{0.05cm} \\hat{\\beta}_{r1} + \\hat{\\beta}_{r1}\\cdot x_{ki} \\hspace{0.05cm}$ $\\hspace{0.05cm}$ units **greater** if $\\hspace{0.05cm}$ $x_{ir}= 1$ $\\hspace{0.05cm}$  than if  $\\hspace{0.05cm}$ $x_{ir}= 0$\n",
    "\n",
    "<br>\n",
    "\n",
    "-   If  $\\hspace{0.05cm} \\hat{\\beta}_{r1} + \\hat{\\beta}_{r1}\\cdot x_{ki} \\hspace{0.05cm} < \\hspace{0.05cm} 0$  , then\n",
    "\n",
    "    -  $\\hat{y}_i$ $\\hspace{0.05cm}$  is $\\hspace{0.05cm}$ $\\hspace{0.05cm} \\hat{\\beta}_{r1} + \\hat{\\beta}_{r1}\\cdot x_{ki} \\hspace{0.05cm}$ $\\hspace{0.05cm}$ units **less** if $\\hspace{0.05cm}$ $x_{ir}= 1$ $\\hspace{0.05cm}$  than if  $\\hspace{0.05cm}$ $x_{ir}= 0$\n",
    "\n",
    "<br>\n",
    "\n",
    "-   If  $\\hspace{0.05cm} \\hat{\\beta}_{r2} + \\hat{\\beta}_{r2}\\cdot x_{ki} \\hspace{0.05cm} > \\hspace{0.05cm} 0$  , then\n",
    "\n",
    "    -  $\\hat{y}_i$ $\\hspace{0.05cm}$  is $\\hspace{0.05cm}$ $\\hspace{0.05cm} \\hat{\\beta}_{r2} + \\hat{\\beta}_{r2}\\cdot x_{ki} \\hspace{0.05cm}$ $\\hspace{0.05cm}$ units **greater** if $\\hspace{0.05cm}$ $x_{ir}= 2$ $\\hspace{0.05cm}$  than if  $\\hspace{0.05cm}$ $x_{ir}= 0$\n",
    "\n",
    "<br>\n",
    "\n",
    "-   If  $\\hspace{0.05cm} \\hat{\\beta}_{r2} + \\hat{\\beta}_{r2}\\cdot x_{ki} \\hspace{0.05cm} < \\hspace{0.05cm} 0$  , then\n",
    "\n",
    "    -  $\\hat{y}_i$ $\\hspace{0.05cm}$  is $\\hspace{0.05cm}$ $\\hspace{0.05cm} \\hat{\\beta}_{r2} + \\hat{\\beta}_{r2}\\cdot x_{ki} \\hspace{0.05cm}$ $\\hspace{0.05cm}$ units **less** if $\\hspace{0.05cm}$ $x_{ir}= 2$ $\\hspace{0.05cm}$  than if  $\\hspace{0.05cm}$ $x_{ir}= 0$\n",
    "\n",
    "<br>\n",
    "\n",
    "\n",
    "-   If  $\\hspace{0.05cm} (\\hat{\\beta}_{r2} - \\hat{\\beta}_{r1} ) + (\\hat{\\beta}_{r2} - \\hat{\\beta}_{r1})\\cdot x_{ki} \\hspace{0.05cm} > \\hspace{0.05cm} 0$  , then\n",
    "\n",
    "    -  $\\hat{y}_i$ $\\hspace{0.05cm}$  is $\\hspace{0.05cm}$ $\\hspace{0.05cm} (\\hat{\\beta}_{r2} - \\hat{\\beta}_{r1} ) + (\\hat{\\beta}_{r2} - \\hat{\\beta}_{r1})\\cdot x_{ki} \\hspace{0.05cm}$ $\\hspace{0.05cm}$ units **greater** if $\\hspace{0.05cm}$ $x_{ir}= 2$ $\\hspace{0.05cm}$  than if  $\\hspace{0.05cm}$ $x_{ir}= 1$\n",
    "\n",
    "<br>\n",
    "\n",
    "-   If  $\\hspace{0.05cm} (\\hat{\\beta}_{r2} - \\hat{\\beta}_{r1} ) + (\\hat{\\beta}_{r2} - \\hat{\\beta}_{r1})\\cdot x_{ki} \\hspace{0.05cm} < \\hspace{0.05cm} 0$  , then\n",
    "\n",
    "    -  $\\hat{y}_i$ $\\hspace{0.05cm}$  is $\\hspace{0.05cm}$ $\\hspace{0.05cm} (\\hat{\\beta}_{r2} - \\hat{\\beta}_{r1} ) + (\\hat{\\beta}_{r2} - \\hat{\\beta}_{r1})\\cdot x_{ki} \\hspace{0.05cm}$ $\\hspace{0.05cm}$ units **less** if $\\hspace{0.05cm}$ $x_{ir}= 2$ $\\hspace{0.05cm}$  than if  $\\hspace{0.05cm}$ $x_{ir}= 1$\n",
    "\n",
    "<br>\n",
    "\n",
    "Note these magnitudes depend on $x_{ik}$ value, because we have set an interaction between $X_k$ and $X_r$ in the model.\n",
    "\n",
    "\n"
   ]
  },
  {
   "cell_type": "markdown",
   "metadata": {},
   "source": [
    "\n",
    "**Observation:**\n",
    "\n",
    "The above affirmations are based in the following:\n",
    "\n",
    "- $(\\hat{y}_i \\hspace{0.05cm} | \\hspace{0.05cm} x_{ir1}=1 ) - (\\hat{y}_i  \\hspace{0.05cm} | \\hspace{0.05cm}  x_{ir0}=1 ) =  \\hat{\\beta}_{r1} + \\hat{\\beta}_{r1k}\\cdot x_{ik}$\n",
    "\n",
    "- $(\\hat{y}_i \\hspace{0.05cm} | \\hspace{0.05cm} x_{ir2}=1 ) - (\\hat{y}_i  \\hspace{0.05cm} | \\hspace{0.05cm}  x_{ir0}=1 ) =  \\hat{\\beta}_{r2} + \\hat{\\beta}_{r2k}\\cdot x_{ik}$\n",
    "\n",
    "- $(\\hat{y}_i \\hspace{0.05cm} | \\hspace{0.05cm} x_{ir2}=1 ) - (\\hat{y}_i  \\hspace{0.05cm} | \\hspace{0.05cm}  x_{ir1}=1 ) =  (\\hat{\\beta}_{r2} - \\hat{\\beta}_{r1} ) + (\\hat{\\beta}_{r2k} - \\hat{\\beta}_{r1k})\\cdot x_{ki}$\n",
    "\n"
   ]
  },
  {
   "cell_type": "markdown",
   "metadata": {},
   "source": []
  },
  {
   "cell_type": "markdown",
   "metadata": {},
   "source": [
    "Note that this can easily be extrapolated to the case of interaction between an $r$-ary categorical variable and a quantitative variable, for $r>3$."
   ]
  },
  {
   "cell_type": "markdown",
   "metadata": {},
   "source": []
  },
  {
   "cell_type": "markdown",
   "metadata": {},
   "source": [
    "### Example of interaction coefficient interpretation <a class=\"anchor\" id=\"36\"></a>\n"
   ]
  },
  {
   "cell_type": "code",
   "execution_count": 395,
   "metadata": {},
   "outputs": [
    {
     "name": "stdout",
     "output_type": "stream",
     "text": [
      "                            OLS Regression Results                            \n",
      "==============================================================================\n",
      "Dep. Variable:                  price   R-squared:                       0.709\n",
      "Model:                            OLS   Adj. R-squared:                  0.708\n",
      "Method:                 Least Squares   F-statistic:                     420.2\n",
      "Date:               ju., 21 jul. 2022   Prob (F-statistic):               0.00\n",
      "Time:                        19:51:58   Log-Likelihood:                -29881.\n",
      "No. Observations:                1905   AIC:                         5.979e+04\n",
      "Df Residuals:                    1893   BIC:                         5.985e+04\n",
      "Df Model:                          11                                         \n",
      "Covariance Type:            nonrobust                                         \n",
      "============================================================================================\n",
      "                               coef    std err          t      P>|t|      [0.025      0.975]\n",
      "--------------------------------------------------------------------------------------------\n",
      "Intercept                -5.446e+07   2.94e+07     -1.852      0.064   -1.12e+08    3.21e+06\n",
      "quality[T.1]             -2.353e+05   1.66e+05     -1.418      0.156   -5.61e+05    9.02e+04\n",
      "quality[T.2]             -1.373e+06   2.64e+05     -5.211      0.000   -1.89e+06   -8.56e+05\n",
      "quality[T.3]              1.318e+06   5.24e+05      2.518      0.012    2.91e+05    2.34e+06\n",
      "size_in_m_2               3.163e+04   1150.872     27.479      0.000    2.94e+04    3.39e+04\n",
      "quality[T.1]:size_in_m_2  2908.2719   1105.752      2.630      0.009     739.652    5076.892\n",
      "quality[T.2]:size_in_m_2  1.208e+04   1534.808      7.868      0.000    9065.709    1.51e+04\n",
      "quality[T.3]:size_in_m_2 -1.145e+04   4817.305     -2.377      0.018   -2.09e+04   -2004.309\n",
      "no_of_bedrooms           -7.859e+05   8.16e+04     -9.636      0.000   -9.46e+05   -6.26e+05\n",
      "no_of_bathrooms          -4.202e+04   6.71e+04     -0.626      0.531   -1.74e+05    8.96e+04\n",
      "latitude                  6.219e+06   7.67e+05      8.105      0.000    4.71e+06    7.72e+06\n",
      "longitude                -1.855e+06   6.79e+05     -2.734      0.006   -3.19e+06   -5.24e+05\n",
      "==============================================================================\n",
      "Omnibus:                      880.561   Durbin-Watson:                   1.694\n",
      "Prob(Omnibus):                  0.000   Jarque-Bera (JB):            31738.629\n",
      "Skew:                           1.504   Prob(JB):                         0.00\n",
      "Kurtosis:                      22.769   Cond. No.                     1.59e+05\n",
      "==============================================================================\n",
      "\n",
      "Notes:\n",
      "[1] Standard Errors assume that the covariance matrix of the errors is correctly specified.\n",
      "[2] The condition number is large, 1.59e+05. This might indicate that there are\n",
      "strong multicollinearity or other numerical problems.\n"
     ]
    }
   ],
   "source": [
    "model_Python_2 = smf.ols(formula = 'price ~ size_in_m_2 + no_of_bedrooms + no_of_bathrooms + quality*size_in_m_2 + latitude + longitude', \n",
    "                               data =data_Python)\n",
    "\n",
    "model_Python_2 = model_Python_2.fit()\n",
    " \n",
    "print(model_Python_2.summary())"
   ]
  },
  {
   "cell_type": "markdown",
   "metadata": {},
   "source": [
    "We have got the following:"
   ]
  },
  {
   "cell_type": "markdown",
   "metadata": {},
   "source": [
    " $\\left( \\widehat{price}_i | quality1_i=1 \\right) - \\left(\\widehat{price}_i | quality0_i=1 \\right) = \\hat{\\beta}_{quality1} + \\hat{\\beta}_{quality1:size\\_in\\_m\\_2} \\cdot size\\_in\\_m\\_2_i = -2.353\\cdot 10^5 + 2908.2719  \\cdot size\\_in\\_m\\_2_i$  \n",
    "\n",
    "This magnitude depends on the value of $size\\_in\\_m\\_2_i$\n",
    "\n",
    "For example if $size\\_in\\_m\\_2_i = 100$ , then:\n",
    "\n",
    "$\\left( \\widehat{price}_i | quality1_i=1 \\right) - \\left(\\widehat{price}_i | quality0_i=1 \\right) = 55527.19$\n",
    "\n",
    "So the estimated price of a 100 $m^2$ house is $55527.19$ units greater if $quality1_i=1$ (it has medium quality) than $quality0_i=1$ (it has low quality)"
   ]
  },
  {
   "cell_type": "markdown",
   "metadata": {},
   "source": []
  },
  {
   "cell_type": "markdown",
   "metadata": {},
   "source": [
    "$\\left( \\widehat{price}_i | quality2_i=1 \\right) - \\left(\\widehat{price}_i | quality0_i=1 \\right) = \\hat{\\beta}_{quality2} + \\hat{\\beta}_{quality2:size\\_in\\_m\\_2} \\cdot size\\_in\\_m\\_2_i = -1.373\\cdot 10^6 + 1.208\\cdot 10^4  \\cdot size\\_in\\_m\\_2_i$  \n",
    "\n",
    "This magnitude depends on the value of $size\\_in\\_m\\_2_i$\n",
    "\n",
    "For example if $size\\_in\\_m\\_2_i = 100$ , then:\n",
    "\n",
    "$\\left( \\widehat{price}_i | quality2_i=1 \\right) - \\left(\\widehat{price}_i | quality0_i=1 \\right) = 55527.19$\n",
    "\n",
    "So the estimated price of a 100 $m^2$ house is $165000$ units less if $quality2_i=1$ (it has high quality) than $quality0_i=1$ (it has low quality)"
   ]
  },
  {
   "cell_type": "markdown",
   "metadata": {},
   "source": []
  },
  {
   "cell_type": "markdown",
   "metadata": {},
   "source": [
    "$\\left( \\widehat{price}_i | quality3_i=1 \\right) - \\left(\\widehat{price}_i | quality1_i=1 \\right) = \\left(\\hat{\\beta}_{quality3} - \\hat{\\beta}_{quality1}\\right) + \\left( \\hat{\\beta}_{quality3:size\\_in\\_m\\_2} - \\hat{\\beta}_{quality1:size\\_in\\_m\\_2}\\right)  \\cdot size\\_in\\_m\\_2_i =  (1.318e+06 - (-2.353e+05 )) + (-1.145e+04 + 2908.2719 )\\cdot size\\_in\\_m\\_2_i $  \n",
    "\n",
    "This magnitude depends on the value of $size\\_in\\_m\\_2_i$\n",
    "\n",
    "For example if $size\\_in\\_m\\_2_i = 100$ , then:\n",
    "\n",
    "$\\left( \\widehat{price}_i | quality3_i=1 \\right) - \\left(\\widehat{price}_i | quality1_i=1 \\right) = 699127.19$\n",
    "\n",
    "So the estimated price of a 100 $m^2$ house is $699127.19$ units greater if $quality3_i=1$ (it has ultra quality) than $quality1_i=1$ (it has medium quality)"
   ]
  },
  {
   "cell_type": "markdown",
   "metadata": {},
   "source": []
  },
  {
   "cell_type": "markdown",
   "metadata": {},
   "source": [
    "Note that in all these cases it is assumed that the rest of the model variables don´t vary (have the same values) from one scenario to another."
   ]
  },
  {
   "cell_type": "markdown",
   "metadata": {},
   "source": []
  },
  {
   "cell_type": "markdown",
   "metadata": {},
   "source": []
  },
  {
   "cell_type": "markdown",
   "metadata": {},
   "source": [
    "## Inference <a class=\"anchor\" id=\"37\"></a>\n"
   ]
  },
  {
   "cell_type": "markdown",
   "metadata": {},
   "source": [
    "\n",
    "\n",
    "### Confidence Interval for $\\beta_j$ <a class=\"anchor\" id=\"38\"></a>\n",
    "\n",
    " \n",
    "\\begin{gather*}\n",
    "IC\\left(\\beta_j  \\right)= \\left[  \\hat{\\beta}_j \\ \\pm \\ t_{\\alpha/2}^{n-k-1} \\cdot \\sqrt{S_R^2 \\cdot q_{jj}} \\right]\n",
    "\\end{gather*}\n",
    " \n",
    "Where:\n",
    "\n",
    "$q_{jj}$ is the element $j+1$ of the principal diagonal of the matrix\n",
    "$(X^t \\cdot X)^{-1}$ for $j=0,1,...,p$\n",
    "\n",
    " \n",
    "### Confidence Interval for $\\sigma^2$ <a class=\"anchor\" id=\"39\"></a>\n",
    "\n",
    " \n",
    "\n",
    " \n",
    "\\begin{gather*}\n",
    "IC\\left(\\sigma^2  \\right)= \\left[ 0 \\ , \\ \\dfrac{n-k-1}{\\chi_{1-\\alpha/2}^{n-k-1}}\\cdot S_R^2  \\right]\n",
    "\\end{gather*}\n",
    " \n"
   ]
  },
  {
   "cell_type": "markdown",
   "metadata": {},
   "source": []
  },
  {
   "cell_type": "markdown",
   "metadata": {},
   "source": [
    "\n",
    "#### Confidence Interval for  $\\beta_j$  in R <a class=\"anchor\" id=\"40\"></a>\n",
    "\n",
    " \n",
    "\n",
    "We can compute de confidence interval of $\\beta_j$ with a confidence\n",
    "level of $95\\%$ for $j=0,1,...,p$\n"
   ]
  },
  {
   "cell_type": "code",
   "execution_count": 396,
   "metadata": {},
   "outputs": [
    {
     "name": "stdout",
     "output_type": "stream",
     "text": [
      "                        2.5 %      97.5 %\n",
      "(Intercept)     -120805952.33 -3336872.73\n",
      "size_in_m_2          34244.46    37083.64\n",
      "no_of_bedrooms     -999112.03  -674253.93\n",
      "no_of_bathrooms    -191058.99    76817.37\n",
      "quality1            -23890.75   303928.08\n",
      "quality2             36349.81   644876.40\n",
      "quality3           -108848.86   666371.75\n",
      "latitude           4583358.38  7646505.71\n",
      "longitude         -3031977.51  -322344.39\n"
     ]
    }
   ],
   "source": [
    "%%R\n",
    "\n",
    "confint(model_R_1 , conf.level=0.95)"
   ]
  },
  {
   "cell_type": "markdown",
   "metadata": {},
   "source": []
  },
  {
   "cell_type": "markdown",
   "metadata": {},
   "source": [
    "#### Confidence Interval for  $\\beta_j$  in Python <a class=\"anchor\" id=\"41\"></a>\n"
   ]
  },
  {
   "cell_type": "code",
   "execution_count": 397,
   "metadata": {},
   "outputs": [
    {
     "data": {
      "text/html": [
       "<div>\n",
       "<style scoped>\n",
       "    .dataframe tbody tr th:only-of-type {\n",
       "        vertical-align: middle;\n",
       "    }\n",
       "\n",
       "    .dataframe tbody tr th {\n",
       "        vertical-align: top;\n",
       "    }\n",
       "\n",
       "    .dataframe thead th {\n",
       "        text-align: right;\n",
       "    }\n",
       "</style>\n",
       "<table border=\"1\" class=\"dataframe\">\n",
       "  <thead>\n",
       "    <tr style=\"text-align: right;\">\n",
       "      <th></th>\n",
       "      <th>2.5%</th>\n",
       "      <th>97.5%</th>\n",
       "    </tr>\n",
       "  </thead>\n",
       "  <tbody>\n",
       "    <tr>\n",
       "      <th>Intercept</th>\n",
       "      <td>-1.208060e+08</td>\n",
       "      <td>-3.336873e+06</td>\n",
       "    </tr>\n",
       "    <tr>\n",
       "      <th>quality[T.1]</th>\n",
       "      <td>-2.389075e+04</td>\n",
       "      <td>3.039281e+05</td>\n",
       "    </tr>\n",
       "    <tr>\n",
       "      <th>quality[T.2]</th>\n",
       "      <td>3.634981e+04</td>\n",
       "      <td>6.448764e+05</td>\n",
       "    </tr>\n",
       "    <tr>\n",
       "      <th>quality[T.3]</th>\n",
       "      <td>-1.088489e+05</td>\n",
       "      <td>6.663718e+05</td>\n",
       "    </tr>\n",
       "    <tr>\n",
       "      <th>size_in_m_2</th>\n",
       "      <td>3.424446e+04</td>\n",
       "      <td>3.708364e+04</td>\n",
       "    </tr>\n",
       "    <tr>\n",
       "      <th>no_of_bedrooms</th>\n",
       "      <td>-9.991120e+05</td>\n",
       "      <td>-6.742539e+05</td>\n",
       "    </tr>\n",
       "    <tr>\n",
       "      <th>no_of_bathrooms</th>\n",
       "      <td>-1.910590e+05</td>\n",
       "      <td>7.681737e+04</td>\n",
       "    </tr>\n",
       "    <tr>\n",
       "      <th>latitude</th>\n",
       "      <td>4.583358e+06</td>\n",
       "      <td>7.646506e+06</td>\n",
       "    </tr>\n",
       "    <tr>\n",
       "      <th>longitude</th>\n",
       "      <td>-3.031978e+06</td>\n",
       "      <td>-3.223444e+05</td>\n",
       "    </tr>\n",
       "  </tbody>\n",
       "</table>\n",
       "</div>"
      ],
      "text/plain": [
       "                         2.5%         97.5%\n",
       "Intercept       -1.208060e+08 -3.336873e+06\n",
       "quality[T.1]    -2.389075e+04  3.039281e+05\n",
       "quality[T.2]     3.634981e+04  6.448764e+05\n",
       "quality[T.3]    -1.088489e+05  6.663718e+05\n",
       "size_in_m_2      3.424446e+04  3.708364e+04\n",
       "no_of_bedrooms  -9.991120e+05 -6.742539e+05\n",
       "no_of_bathrooms -1.910590e+05  7.681737e+04\n",
       "latitude         4.583358e+06  7.646506e+06\n",
       "longitude       -3.031978e+06 -3.223444e+05"
      ]
     },
     "execution_count": 397,
     "metadata": {},
     "output_type": "execute_result"
    }
   ],
   "source": [
    "beta_intervals = model_Python_1.conf_int(alpha=0.05)\n",
    "beta_intervals.columns = ['2.5%', '97.5%']\n",
    "beta_intervals"
   ]
  },
  {
   "cell_type": "markdown",
   "metadata": {},
   "source": [
    "\n",
    "Then, for example, we have:\n",
    "\n",
    " \n",
    "$$\n",
    "IC(\\beta_0)=\\left[-1.208060e+08 \\ , \\ -3.336873e+06 \\right] \\\\\n",
    "IC(\\beta_{size\\_in\\_m\\_2})=\\left[ 3.424446e+04   \\ , \\ 3.708364e+04 \\right] \n",
    "$$\n",
    " \n"
   ]
  },
  {
   "cell_type": "markdown",
   "metadata": {},
   "source": [
    "We also have this information in the output obtained with `print(model_Python_1.summary())`"
   ]
  },
  {
   "cell_type": "markdown",
   "metadata": {},
   "source": []
  },
  {
   "cell_type": "markdown",
   "metadata": {},
   "source": [
    "\n",
    "#### Confidence Interval for  $\\sigma^2$  in R <a class=\"anchor\" id=\"42\"></a>\n",
    "\n",
    " \n",
    "\n",
    "We can compute de confidence interval of $\\sigma^2$ with a confidence\n",
    "level of $95\\%$ usingl the package \"model\".\n",
    "\n",
    "We can load this package running the following code:\n"
   ]
  },
  {
   "cell_type": "code",
   "execution_count": 398,
   "metadata": {},
   "outputs": [
    {
     "name": "stdout",
     "output_type": "stream",
     "text": [
      "NULL\n"
     ]
    }
   ],
   "source": [
    "%%R \n",
    "\n",
    "# install.packages(\"remotes\")\n",
    "# remotes::install_github(\"fhernanb/model\")"
   ]
  },
  {
   "cell_type": "code",
   "execution_count": 399,
   "metadata": {},
   "outputs": [
    {
     "name": "stdout",
     "output_type": "stream",
     "text": [
      "              2.5 %       97.5 %\n",
      "Sigma2 2.418577e+12 2.747045e+12\n"
     ]
    }
   ],
   "source": [
    "%%R\n",
    " \n",
    "library(model)\n",
    "\n",
    "confint_sigma2(object=model_R_1 , level=0.95)"
   ]
  },
  {
   "cell_type": "markdown",
   "metadata": {},
   "source": [
    "\n",
    "Then, we have:\n",
    "\n",
    " \n",
    "\\begin{gather*}\n",
    "IC(\\sigma^2)=\\left[2.418577e+12   \\ , \\ 2.747045e+12 \\right]\n",
    "\\end{gather*}\n",
    " \n",
    " \n"
   ]
  },
  {
   "cell_type": "markdown",
   "metadata": {},
   "source": []
  },
  {
   "cell_type": "markdown",
   "metadata": {},
   "source": [
    "#### Confidence Interval for  $\\sigma^2$  in Python <a class=\"anchor\" id=\"43\"></a>\n"
   ]
  },
  {
   "cell_type": "markdown",
   "metadata": {},
   "source": [
    "In this case we will use the interval expression before defined:"
   ]
  },
  {
   "cell_type": "code",
   "execution_count": 400,
   "metadata": {},
   "outputs": [],
   "source": [
    "import scipy"
   ]
  },
  {
   "cell_type": "code",
   "execution_count": 401,
   "metadata": {},
   "outputs": [
    {
     "data": {
      "text/plain": [
       "2020.6396883733012"
      ]
     },
     "execution_count": 401,
     "metadata": {},
     "output_type": "execute_result"
    }
   ],
   "source": [
    "n=len(data_Python)\n",
    "p=6\n",
    "scipy.stats.chi2.ppf(0.975, n-p-1)"
   ]
  },
  {
   "cell_type": "code",
   "execution_count": 402,
   "metadata": {},
   "outputs": [
    {
     "data": {
      "text/plain": [
       "[0, 4884653004546394.0]"
      ]
     },
     "execution_count": 402,
     "metadata": {},
     "output_type": "execute_result"
    }
   ],
   "source": [
    "b = ( n-p-1 / scipy.stats.chi2.ppf(0.975, n-p-1))*estimated_variance_train_error\n",
    "\n",
    "interval_sigma2 = [0,b]\n",
    "interval_sigma2"
   ]
  },
  {
   "cell_type": "markdown",
   "metadata": {},
   "source": []
  },
  {
   "cell_type": "markdown",
   "metadata": {},
   "source": []
  },
  {
   "cell_type": "markdown",
   "metadata": {},
   "source": [
    "\n",
    "### t-test: Test for $\\beta_j$ <a class=\"anchor\" id=\"44\"></a>\n",
    "\n",
    " \n",
    "\n",
    "We can carry out the following three test:\n",
    "\n",
    "|                               |                            |                            |\n",
    "|:------------------------:|:---------------------:|:---------------------:|\n",
    "|  $H_0: \\beta_j = \\beta_j^*$   | $H_0: \\beta_j = \\beta_j^*$ | $H_0: \\beta_j = \\beta_j^*$ |\n",
    "| $H_1: \\beta_j \\neq \\beta_j^*$ | $H_1: \\beta_j > \\beta_j^*$ | $H_1: \\beta_j < \\beta_j^*$ |\n",
    "\n",
    "  \n",
    "\n",
    "#### Test Statistic:\n",
    "\n",
    " \n",
    "\n",
    "The test statistic for any of the previous test is:\n",
    "\n",
    " \n",
    "\\begin{gather*}\n",
    "t_{exp | H_0}=\\dfrac{\\hat{\\beta}_j - \\beta_j^*}{\\sqrt{S_R \\cdot q_{jj}}} \\sim t_{n-p}\n",
    "\\end{gather*}\n",
    " \n",
    " \n",
    "\n",
    "#### Decision Rule\n",
    "\n",
    " \n",
    "\n",
    "For a fixed signification level $\\alpha$\n",
    "\n",
    "-   Caso   $H_0: \\beta_j = \\beta_j^*$  vs  $H_1: \\beta_j \\neq \\beta_j^*$\n",
    "\n",
    "          Based in test statistic\n",
    "\n",
    " \n",
    "\\begin{gather*}\n",
    "Reject \\ H_0 \\ \\Leftrightarrow \\ t_{exp|H_0} > t_{\\alpha/2}^{n-p} \\ ó \\ t_{exp|H_0} < t_{1-\\alpha/2}^{n-p}\n",
    "\\end{gather*}\n",
    " \n",
    " \n",
    "\n",
    "         Based in p-value\n",
    "\n",
    " \n",
    "\\begin{gather*}\n",
    "pvalue=2\\cdot P( t_{n-p} \\geqslant \\mid t_{exp|H_0} \\mid ) \\\\ \\\\\n",
    "Reject \\ H_0  \\ \\Leftrightarrow \\ pvalue < \\alpha\n",
    "\\end{gather*}\n",
    " \n",
    " \n",
    "\n",
    "-   Caso   $H_0: \\beta_j = \\beta_j^*$  vs  $H_1: \\beta_j > \\beta_j^*$\n",
    "\n",
    "         Based in test statistic\n",
    "\n",
    " \n",
    "\\begin{gather*}\n",
    "Reject \\ H_0 \\ \\Leftrightarrow \\ t_{exp|H_0} > t_{\\alpha/2}^{n-p}\n",
    "\\end{gather*}\n",
    " \n",
    "\n",
    "         Based in p-value\n",
    "\n",
    " \n",
    "\\begin{gather*}\n",
    "pvalue=2\\cdot P( t_{n-p} \\geqslant t_{exp|H_0} ) \\\\ \\\\\n",
    "Reject \\ H_0  \\ \\Leftrightarrow \\ pvalue < \\alpha\n",
    "\\end{gather*}\n",
    " \n",
    "-   Caso   $H_0: \\beta_j = \\beta_j^*$  vs  $H_1: \\beta_j < \\beta_j^*$\n",
    "\n",
    "         Based in test statistic\n",
    "\n",
    " \n",
    "\\begin{gather*}\n",
    "Reject \\ H_0 \\ \\Leftrightarrow \\ t_{exp|H_0} < t_{1-\\alpha/2}^{n-p}\n",
    "\\end{gather*}\n",
    " \n",
    " \n",
    "\n",
    "         Based in p-value\n",
    "\n",
    " \n",
    "\\begin{gather*}\n",
    "pvalue=2\\cdot P( t_{n-p} \\leqslant t_{exp|H_0} ) \\\\ \\\\\n",
    "Reject \\ H_0  \\ \\Leftrightarrow \\ pvalue < \\alpha\n",
    "\\end{gather*}\n",
    " \n",
    "\n",
    " \n"
   ]
  },
  {
   "cell_type": "markdown",
   "metadata": {},
   "source": []
  },
  {
   "cell_type": "markdown",
   "metadata": {},
   "source": [
    "\n",
    "### Test of Significance for $\\beta_j$ <a class=\"anchor\" id=\"45\"></a>\n",
    "\n",
    " \n",
    "\n",
    "The test of significance for the coefficient $\\beta_j$ is the following\n",
    "test:\n",
    "\n",
    " \n",
    "\\begin{gather*}\n",
    "H_0: \\beta_j=0 \\\\\n",
    "H_1: \\beta_j \\neq 0\n",
    "\\end{gather*}\n",
    " \n",
    " \n",
    "\n",
    "The test statistic is the previously exposed, taking into account that\n",
    "now $\\beta_j^*=0$\n",
    "\n",
    " \n",
    "\\begin{gather*}\n",
    "t_{exp | H_0}=\\dfrac{\\hat{\\beta}_j - 0}{\\sqrt{S_R \\cdot q_{jj}}} \\sim t_{n-p}\n",
    "\\end{gather*}\n",
    " \n",
    " \n",
    "\n",
    "The decision rules are the same too\n",
    "\n",
    " \n",
    "\\begin{gather*}\n",
    "Reject \\ H_0  \\ \\Leftrightarrow \\ pvalue < \\alpha\n",
    "\\end{gather*}\n",
    " \n"
   ]
  },
  {
   "cell_type": "markdown",
   "metadata": {},
   "source": []
  },
  {
   "cell_type": "markdown",
   "metadata": {},
   "source": [
    "\n",
    "#### Test of Significance  in R <a class=\"anchor\" id=\"46\"></a>"
   ]
  },
  {
   "cell_type": "markdown",
   "metadata": {},
   "source": [
    "The value of $\\hspace{0.1cm} t_{exp|H_0} \\hspace{0.1cm}$ and also the p-value of the test of significance for $\\beta_j$ could be found in the output obtained with `summary(model_R_1)`"
   ]
  },
  {
   "cell_type": "code",
   "execution_count": 403,
   "metadata": {},
   "outputs": [
    {
     "name": "stdout",
     "output_type": "stream",
     "text": [
      "\n",
      "Call:\n",
      "lm(formula = price ~ size_in_m_2 + no_of_bedrooms + no_of_bathrooms + \n",
      "    quality + latitude + longitude, data = data_R)\n",
      "\n",
      "Residuals:\n",
      "      Min        1Q    Median        3Q       Max \n",
      "-13398393   -562302     68143    562733  15384235 \n",
      "\n",
      "Coefficients:\n",
      "                  Estimate Std. Error t value Pr(>|t|)    \n",
      "(Intercept)     -6.207e+07  2.995e+07  -2.073   0.0383 *  \n",
      "size_in_m_2      3.566e+04  7.238e+02  49.271  < 2e-16 ***\n",
      "no_of_bedrooms  -8.367e+05  8.282e+04 -10.102  < 2e-16 ***\n",
      "no_of_bathrooms -5.712e+04  6.829e+04  -0.836   0.4030    \n",
      "quality1         1.400e+05  8.358e+04   1.675   0.0940 .  \n",
      "quality2         3.406e+05  1.551e+05   2.196   0.0282 *  \n",
      "quality3         2.788e+05  1.976e+05   1.410   0.1586    \n",
      "latitude         6.115e+06  7.809e+05   7.830 8.03e-15 ***\n",
      "longitude       -1.677e+06  6.908e+05  -2.428   0.0153 *  \n",
      "---\n",
      "Signif. codes:  0 '***' 0.001 '**' 0.01 '*' 0.05 '.' 0.1 ' ' 1\n",
      "\n",
      "Residual standard error: 1605000 on 1896 degrees of freedom\n",
      "Multiple R-squared:  0.6979,\tAdjusted R-squared:  0.6966 \n",
      "F-statistic: 547.4 on 8 and 1896 DF,  p-value: < 2.2e-16\n",
      "\n"
     ]
    }
   ],
   "source": [
    "%%R\n",
    "summary(model_R_1)"
   ]
  },
  {
   "cell_type": "markdown",
   "metadata": {},
   "source": []
  },
  {
   "cell_type": "markdown",
   "metadata": {},
   "source": [
    "#### Test of Significance  in Python <a class=\"anchor\" id=\"47\"></a>\n"
   ]
  },
  {
   "cell_type": "markdown",
   "metadata": {},
   "source": [
    "The value of $\\hspace{0.1cm} t_{exp|H_0} \\hspace{0.1cm}$ and also the p-value of the test of significance for $\\beta_j$ could be found in the output obtained with `print(model_Python_1.summary())`"
   ]
  },
  {
   "cell_type": "code",
   "execution_count": 404,
   "metadata": {},
   "outputs": [
    {
     "name": "stdout",
     "output_type": "stream",
     "text": [
      "                            OLS Regression Results                            \n",
      "==============================================================================\n",
      "Dep. Variable:                  price   R-squared:                       0.698\n",
      "Model:                            OLS   Adj. R-squared:                  0.697\n",
      "Method:                 Least Squares   F-statistic:                     547.4\n",
      "Date:               ju., 21 jul. 2022   Prob (F-statistic):               0.00\n",
      "Time:                        19:52:05   Log-Likelihood:                -29918.\n",
      "No. Observations:                1905   AIC:                         5.985e+04\n",
      "Df Residuals:                    1896   BIC:                         5.990e+04\n",
      "Df Model:                           8                                         \n",
      "Covariance Type:            nonrobust                                         \n",
      "===================================================================================\n",
      "                      coef    std err          t      P>|t|      [0.025      0.975]\n",
      "-----------------------------------------------------------------------------------\n",
      "Intercept       -6.207e+07   2.99e+07     -2.073      0.038   -1.21e+08   -3.34e+06\n",
      "quality[T.1]       1.4e+05   8.36e+04      1.675      0.094   -2.39e+04    3.04e+05\n",
      "quality[T.2]     3.406e+05   1.55e+05      2.196      0.028    3.63e+04    6.45e+05\n",
      "quality[T.3]     2.788e+05   1.98e+05      1.410      0.159   -1.09e+05    6.66e+05\n",
      "size_in_m_2      3.566e+04    723.831     49.271      0.000    3.42e+04    3.71e+04\n",
      "no_of_bedrooms  -8.367e+05   8.28e+04    -10.102      0.000   -9.99e+05   -6.74e+05\n",
      "no_of_bathrooms -5.712e+04   6.83e+04     -0.836      0.403   -1.91e+05    7.68e+04\n",
      "latitude         6.115e+06   7.81e+05      7.830      0.000    4.58e+06    7.65e+06\n",
      "longitude       -1.677e+06   6.91e+05     -2.428      0.015   -3.03e+06   -3.22e+05\n",
      "==============================================================================\n",
      "Omnibus:                      779.851   Durbin-Watson:                   1.716\n",
      "Prob(Omnibus):                  0.000   Jarque-Bera (JB):            25742.187\n",
      "Skew:                           1.273   Prob(JB):                         0.00\n",
      "Kurtosis:                      20.828   Cond. No.                     1.34e+05\n",
      "==============================================================================\n",
      "\n",
      "Notes:\n",
      "[1] Standard Errors assume that the covariance matrix of the errors is correctly specified.\n",
      "[2] The condition number is large, 1.34e+05. This might indicate that there are\n",
      "strong multicollinearity or other numerical problems.\n"
     ]
    }
   ],
   "source": [
    "print(model_Python_1.summary())"
   ]
  },
  {
   "cell_type": "markdown",
   "metadata": {},
   "source": [
    "The p-values we have got are the following:"
   ]
  },
  {
   "cell_type": "markdown",
   "metadata": {},
   "source": [
    "\n",
    "\\begin{gather*}\n",
    "H_0: \\beta_{quality1}=0 \\\\\n",
    "H_1: \\beta_{quality1} \\neq 0 \\\\ \\\\\n",
    "pvalue = 0.094   \n",
    "\\end{gather*}\n",
    "\n",
    "\n",
    "\n",
    "For $\\hspace{0.05cm} \\alpha = 0.05 < 0.094$ $\\hspace{0.1cm} \\Rightarrow \\hspace{0.1cm}$ $Not \\hspace{0.08cm} Reject  \\hspace{0.08cm} H_0 : \\hspace{0.05cm} \\beta_{quality1}=0 \\hspace{0.1cm} \\Rightarrow \\hspace{0.1cm}$ $quality1$ isn´t a significance variable"
   ]
  },
  {
   "cell_type": "markdown",
   "metadata": {},
   "source": []
  },
  {
   "cell_type": "markdown",
   "metadata": {},
   "source": [
    "\n",
    "\\begin{gather*}\n",
    "H_0: \\beta_{quality2}=0 \\\\\n",
    "H_1: \\beta_{quality2} \\neq 0 \\\\ \\\\\n",
    "pvalue = 0.028    \n",
    "\\end{gather*}\n",
    "\n",
    "\n",
    "For $\\hspace{0.05cm} \\alpha = 0.05 > 0.028$ $\\hspace{0.1cm} \\Rightarrow \\hspace{0.1cm}$ $Reject  \\hspace{0.08cm} H_0 : \\hspace{0.05cm} \\beta_{quality2}=0 \\hspace{0.1cm} \\Rightarrow \\hspace{0.1cm} Accept  \\hspace{0.08cm} H_1 : \\hspace{0.05cm} \\beta_{quality2}\\neq 0$ $quality2$ is a significance variable"
   ]
  },
  {
   "cell_type": "markdown",
   "metadata": {},
   "source": []
  },
  {
   "cell_type": "markdown",
   "metadata": {},
   "source": [
    "\n",
    "\\begin{gather*}\n",
    "H_0: \\beta_{quality3}=0 \\\\\n",
    "H_1: \\beta_{quality3} \\neq 0 \\\\ \\\\\n",
    "pvalue = 0.159 \n",
    "\\end{gather*}\n",
    "\n",
    "For $\\hspace{0.05cm} \\alpha = 0.05 < 0.159$ $\\hspace{0.1cm} \\Rightarrow \\hspace{0.1cm}$ $Not Reject  \\hspace{0.08cm} H_0 : \\hspace{0.05cm} \\beta_{quality3}=0 \\hspace{0.1cm} \\Rightarrow \\hspace{0.1cm}$ $quality3$ isn´t a significance variable\n",
    "\n"
   ]
  },
  {
   "cell_type": "markdown",
   "metadata": {},
   "source": []
  },
  {
   "cell_type": "markdown",
   "metadata": {},
   "source": [
    "\n",
    "\\begin{gather*}\n",
    "H_0: \\beta_{size\\_in\\_m\\_2}=0 \\\\\n",
    "H_1: \\beta_{size\\_in\\_m\\_2} \\neq 0 \\\\ \\\\\n",
    "pvalue \\simeq 0\n",
    "\\end{gather*}\n",
    "\n",
    "For $\\hspace{0.05cm} \\alpha = 0.05 < 0$ $\\hspace{0.1cm} \\Rightarrow \\hspace{0.1cm}$ $Reject  \\hspace{0.08cm} H_0 : \\hspace{0.05cm} \\beta_{size\\_in\\_m\\_2}=0 \\hspace{0.1cm} \\Rightarrow \\hspace{0.1cm}$ $size\\_in\\_m\\_2$ is a significance variable\n"
   ]
  },
  {
   "cell_type": "markdown",
   "metadata": {},
   "source": []
  },
  {
   "cell_type": "markdown",
   "metadata": {},
   "source": [
    "\n",
    "\\begin{gather*}\n",
    "H_0: \\beta_{no\\_of\\_bedrooms}=0 \\\\\n",
    "H_1: \\beta_{no\\_of\\_bedrooms} \\neq 0 \\\\ \\\\\n",
    "pvalue \\simeq 0\n",
    "\\end{gather*}\n",
    "\n",
    "For $\\hspace{0.05cm} \\alpha = 0.05 < 0$ $\\hspace{0.1cm} \\Rightarrow \\hspace{0.1cm}$ $Reject  \\hspace{0.08cm} H_0 : \\hspace{0.05cm} \\beta_{no\\_of\\_bedrooms}=0 \\hspace{0.1cm} \\Rightarrow \\hspace{0.1cm}$ $no\\_of\\_bedrooms$ is a significance variable\n"
   ]
  },
  {
   "cell_type": "markdown",
   "metadata": {},
   "source": []
  },
  {
   "cell_type": "markdown",
   "metadata": {},
   "source": [
    "\n",
    "\n",
    "\\begin{gather*}\n",
    "H_0: \\beta_{no\\_of\\_bathrooms}=0 \\\\\n",
    "H_1: \\beta_{no\\_of\\_bathrooms} \\neq 0 \\\\ \\\\\n",
    "pvalue =  0.403\n",
    "\\end{gather*}\n",
    "\n",
    "For $\\hspace{0.05cm} \\alpha = 0.05 < 0.403$ $\\hspace{0.1cm} \\Rightarrow \\hspace{0.1cm}$ $Not Reject  \\hspace{0.08cm} H_0 : \\hspace{0.05cm} \\beta_{no\\_of\\_bathrooms}=0 \\hspace{0.1cm} \\Rightarrow \\hspace{0.1cm}$ $no\\_of\\_bathrooms$ isn´t a significance variable\n"
   ]
  },
  {
   "cell_type": "markdown",
   "metadata": {},
   "source": []
  },
  {
   "cell_type": "markdown",
   "metadata": {},
   "source": [
    "\n",
    "\\begin{gather*}\n",
    "H_0: \\beta_{latitude}=0 \\\\\n",
    "H_1: \\beta_{latitude} \\neq 0 \\\\ \\\\\n",
    "pvalue \\simeq 0\n",
    "\\end{gather*}\n",
    "\n",
    "For $\\hspace{0.05cm} \\alpha = 0.05 > 0$ $\\hspace{0.1cm} \\Rightarrow \\hspace{0.1cm}$ $Reject  \\hspace{0.08cm} H_0 : \\hspace{0.05cm} \\beta_{latitude}=0 \\hspace{0.1cm} \\Rightarrow \\hspace{0.1cm}$ $latitude$ is a significance variable"
   ]
  },
  {
   "cell_type": "markdown",
   "metadata": {},
   "source": []
  },
  {
   "cell_type": "markdown",
   "metadata": {},
   "source": [
    "\\begin{gather*}\n",
    "H_0: \\beta_{longitude}=0 \\\\\n",
    "H_1: \\beta_{longitude} \\neq 0 \\\\ \\\\\n",
    "pvalue = 0.015\n",
    "\\end{gather*}\n",
    "\n",
    "For $\\hspace{0.05cm} \\alpha = 0.05 > 0.015$ $\\hspace{0.1cm} \\Rightarrow \\hspace{0.1cm}$ $Reject  \\hspace{0.08cm} H_0 : \\hspace{0.05cm} \\beta_{longitude}=0 \\hspace{0.1cm} \\Rightarrow \\hspace{0.1cm}$ $longitude$ is a significance variable"
   ]
  },
  {
   "cell_type": "markdown",
   "metadata": {},
   "source": []
  },
  {
   "cell_type": "markdown",
   "metadata": {},
   "source": []
  },
  {
   "cell_type": "markdown",
   "metadata": {},
   "source": [
    "\n",
    "### ANOVA Test  <a class=\"anchor\" id=\"48\"></a>\n",
    "\n",
    "The ANOVA test is also called test of Model Global Significance :\n",
    " \n",
    "\\begin{gather*}\n",
    "H_0: \\beta_0=\\beta_1=...=\\beta_p=0 \\\\\n",
    "H_1: \\exists \\ j=0,1,...,p , \\ \\beta_j \\neq 0\n",
    "\\end{gather*}\n",
    " \n",
    " \n"
   ]
  },
  {
   "cell_type": "markdown",
   "metadata": {},
   "source": [
    "\n",
    "#### Statistic test\n",
    "\n",
    " \n",
    "\n",
    "For define the test statistic , firt we have to define some elements:\n",
    "\n",
    "-   Total Sum Squares (TSS)\n",
    "\n",
    " \\begin{gather*}\n",
    "TSS=  \\sum_{i=1}^n \\hat{\\varepsilon}_i^2 =  \\sum_{i=1}^n ( y_i - \\overline{y})^2\n",
    "\\end{gather*}\n",
    " \n",
    "-   Residual Sum Squares (RSS)\n",
    "\n",
    " \\begin{gather*}\n",
    "RSS=  \\sum_{i=1}^n \\hat{\\varepsilon}_i^2 =  \\sum_{i=1}^n ( y_i - \\hat{y}_i)^2\n",
    "\\end{gather*}\n",
    " \n",
    "-   Regression Sum Squares (RegSS)\n",
    "\n",
    " \n",
    "\\begin{gather*}\n",
    "RegSS=  \\sum_{i=1}^n \\hat{\\varepsilon}_i^2 =  \\sum_{i=1}^n ( \\hat{y}_i - \\overline{y} )^2\n",
    "\\end{gather*}\n",
    " \n",
    "\n",
    "It can be proved that:\n",
    "\n",
    " \n",
    "\\begin{gather*}\n",
    "TSS=RSS+RegSS\n",
    "\\end{gather*}\n",
    " \n",
    "<br>\n",
    "\n",
    "-   TSS is the total variance of the response variable Y\n",
    "\n",
    "-   RegSS is the variance of the response variable explained by the\n",
    "    model\n",
    "\n",
    "-   RSS is the variance of the response variable not explained by the\n",
    "    model\n",
    "\n",
    " <br>\n",
    "\n",
    "Now we can define the test statistic as:\n",
    "\n",
    " \n",
    "\\begin{gather*}\n",
    "F_{exp|H_0}= \\dfrac{(TSS-RSS)/(p)}{RSS/(n-p-1)} \\sim F_{\\hspace{0.05cm}p,\\hspace{0.05cm} n-p-1}\n",
    "\\end{gather*}\n",
    " \n",
    " <br>\n",
    "\n",
    "Where:  $\\hspace{0.1cm} p$ is the number of predictor variables $X_1,...,X_p$ of the\n",
    "model\n",
    "\n",
    " \n"
   ]
  },
  {
   "cell_type": "markdown",
   "metadata": {},
   "source": [
    "\n",
    "#### Decision Rule\n",
    "\n",
    " \n",
    "\n",
    "-   Based on statistic test:\n",
    "\n",
    " \n",
    "\\begin{gather*}\n",
    "Reject \\ H_0 \\ \\Leftrightarrow \\ F_{exp|H_0} > F_{\\alpha}^{\\hspace{0.1cm}p,\\hspace{0.05cm} n-p-1}\n",
    "\\end{gather*}\n",
    " \n",
    "-   Based on p-value:\n",
    "\n",
    " \n",
    "\\begin{gather*}\n",
    "Reject \\ H_0  \\ \\Leftrightarrow \\ pvalue < \\alpha\n",
    "\\end{gather*}\n",
    " \n"
   ]
  },
  {
   "cell_type": "markdown",
   "metadata": {},
   "source": []
  },
  {
   "cell_type": "markdown",
   "metadata": {},
   "source": [
    "#### ANOVA test in R <a class=\"anchor\" id=\"49\"></a>"
   ]
  },
  {
   "cell_type": "code",
   "execution_count": 405,
   "metadata": {},
   "outputs": [
    {
     "name": "stdout",
     "output_type": "stream",
     "text": [
      "\n",
      "Call:\n",
      "lm(formula = price ~ size_in_m_2 + no_of_bedrooms + no_of_bathrooms + \n",
      "    quality + latitude + longitude, data = data_R)\n",
      "\n",
      "Residuals:\n",
      "      Min        1Q    Median        3Q       Max \n",
      "-13398393   -562302     68143    562733  15384235 \n",
      "\n",
      "Coefficients:\n",
      "                  Estimate Std. Error t value Pr(>|t|)    \n",
      "(Intercept)     -6.207e+07  2.995e+07  -2.073   0.0383 *  \n",
      "size_in_m_2      3.566e+04  7.238e+02  49.271  < 2e-16 ***\n",
      "no_of_bedrooms  -8.367e+05  8.282e+04 -10.102  < 2e-16 ***\n",
      "no_of_bathrooms -5.712e+04  6.829e+04  -0.836   0.4030    \n",
      "quality1         1.400e+05  8.358e+04   1.675   0.0940 .  \n",
      "quality2         3.406e+05  1.551e+05   2.196   0.0282 *  \n",
      "quality3         2.788e+05  1.976e+05   1.410   0.1586    \n",
      "latitude         6.115e+06  7.809e+05   7.830 8.03e-15 ***\n",
      "longitude       -1.677e+06  6.908e+05  -2.428   0.0153 *  \n",
      "---\n",
      "Signif. codes:  0 '***' 0.001 '**' 0.01 '*' 0.05 '.' 0.1 ' ' 1\n",
      "\n",
      "Residual standard error: 1605000 on 1896 degrees of freedom\n",
      "Multiple R-squared:  0.6979,\tAdjusted R-squared:  0.6966 \n",
      "F-statistic: 547.4 on 8 and 1896 DF,  p-value: < 2.2e-16\n",
      "\n"
     ]
    }
   ],
   "source": [
    "%%R\n",
    "summary(model_R_1)"
   ]
  },
  {
   "cell_type": "markdown",
   "metadata": {},
   "source": []
  },
  {
   "cell_type": "markdown",
   "metadata": {},
   "source": [
    "#### ANOVA test in Python  <a class=\"anchor\" id=\"50\"></a>"
   ]
  },
  {
   "cell_type": "markdown",
   "metadata": {},
   "source": [
    "The value of $\\hspace{0.1cm} F_{exp|H_0}$ and also the p-value of the ANOVA test could be found in the output obtained with `print(model_Python_1.summary())`"
   ]
  },
  {
   "cell_type": "code",
   "execution_count": 406,
   "metadata": {},
   "outputs": [
    {
     "name": "stdout",
     "output_type": "stream",
     "text": [
      "                            OLS Regression Results                            \n",
      "==============================================================================\n",
      "Dep. Variable:                  price   R-squared:                       0.698\n",
      "Model:                            OLS   Adj. R-squared:                  0.697\n",
      "Method:                 Least Squares   F-statistic:                     547.4\n",
      "Date:               ju., 21 jul. 2022   Prob (F-statistic):               0.00\n",
      "Time:                        19:52:07   Log-Likelihood:                -29918.\n",
      "No. Observations:                1905   AIC:                         5.985e+04\n",
      "Df Residuals:                    1896   BIC:                         5.990e+04\n",
      "Df Model:                           8                                         \n",
      "Covariance Type:            nonrobust                                         \n",
      "===================================================================================\n",
      "                      coef    std err          t      P>|t|      [0.025      0.975]\n",
      "-----------------------------------------------------------------------------------\n",
      "Intercept       -6.207e+07   2.99e+07     -2.073      0.038   -1.21e+08   -3.34e+06\n",
      "quality[T.1]       1.4e+05   8.36e+04      1.675      0.094   -2.39e+04    3.04e+05\n",
      "quality[T.2]     3.406e+05   1.55e+05      2.196      0.028    3.63e+04    6.45e+05\n",
      "quality[T.3]     2.788e+05   1.98e+05      1.410      0.159   -1.09e+05    6.66e+05\n",
      "size_in_m_2      3.566e+04    723.831     49.271      0.000    3.42e+04    3.71e+04\n",
      "no_of_bedrooms  -8.367e+05   8.28e+04    -10.102      0.000   -9.99e+05   -6.74e+05\n",
      "no_of_bathrooms -5.712e+04   6.83e+04     -0.836      0.403   -1.91e+05    7.68e+04\n",
      "latitude         6.115e+06   7.81e+05      7.830      0.000    4.58e+06    7.65e+06\n",
      "longitude       -1.677e+06   6.91e+05     -2.428      0.015   -3.03e+06   -3.22e+05\n",
      "==============================================================================\n",
      "Omnibus:                      779.851   Durbin-Watson:                   1.716\n",
      "Prob(Omnibus):                  0.000   Jarque-Bera (JB):            25742.187\n",
      "Skew:                           1.273   Prob(JB):                         0.00\n",
      "Kurtosis:                      20.828   Cond. No.                     1.34e+05\n",
      "==============================================================================\n",
      "\n",
      "Notes:\n",
      "[1] Standard Errors assume that the covariance matrix of the errors is correctly specified.\n",
      "[2] The condition number is large, 1.34e+05. This might indicate that there are\n",
      "strong multicollinearity or other numerical problems.\n"
     ]
    }
   ],
   "source": [
    "print(model_Python_1.summary())"
   ]
  },
  {
   "cell_type": "markdown",
   "metadata": {},
   "source": []
  },
  {
   "cell_type": "markdown",
   "metadata": {},
   "source": [
    "We have got the following:"
   ]
  },
  {
   "cell_type": "markdown",
   "metadata": {},
   "source": [
    "$\\hspace{4cm} F_{exp|H_0} = 547.4$ $\\hspace{0.3cm}$ (F-statistic) \n",
    "\n",
    "$\\hspace{4cm} pvalue \\simeq 0$ $\\hspace{0.3cm}$  (Prob (F-statistic))"
   ]
  },
  {
   "cell_type": "markdown",
   "metadata": {},
   "source": []
  },
  {
   "cell_type": "markdown",
   "metadata": {},
   "source": []
  },
  {
   "cell_type": "markdown",
   "metadata": {},
   "source": [
    "## Goodness of Fit: Determination Coefficient (R-square) <a class=\"anchor\" id=\"51\"></a>\n",
    "\n",
    " \n",
    "\n",
    "The determination coefficient, also called R-square, is defined as:\n",
    "\n",
    " \n",
    "\\begin{gather*}\n",
    "R^2 = \\dfrac{RegSS}{TSS}\n",
    "\\end{gather*}\n",
    " \n",
    "\n",
    "**Properties**\n",
    "\n",
    "-   \\$ R\\^2\\$ is the propotion of total variance of the response\n",
    "    variable data that is explained by the model.\n",
    "\n",
    "-   $R^2 \\in \\left[ 0 , 1 \\right]$\n",
    "\n",
    "For this reason R\\^2 is used as a measure of how well the model fits the\n",
    "response variable data.\n",
    "\n",
    " \n",
    "\n",
    "**Interpretation**\n",
    "\n",
    "The interpretation of R\\^2 is the following:\n",
    "\n",
    "-   If $R^2$ is close to 1, indicates good fit of model to response\n",
    "    variable data\n",
    "\n",
    "-   If $R^2$ is clode to 0, indicates bad fit of model to response\n",
    "    variable data\n"
   ]
  },
  {
   "cell_type": "markdown",
   "metadata": {},
   "source": []
  },
  {
   "cell_type": "markdown",
   "metadata": {},
   "source": [
    "\n",
    "### Compute $R^2$ in R <a class=\"anchor\" id=\"52\"></a>"
   ]
  },
  {
   "cell_type": "markdown",
   "metadata": {},
   "source": [
    "The value of $\\hspace{0.1cm} R^2$  could be found in the output obtained with `summary(model_R_1)`"
   ]
  },
  {
   "cell_type": "code",
   "execution_count": 407,
   "metadata": {},
   "outputs": [
    {
     "name": "stdout",
     "output_type": "stream",
     "text": [
      "\n",
      "Call:\n",
      "lm(formula = price ~ size_in_m_2 + no_of_bedrooms + no_of_bathrooms + \n",
      "    quality + latitude + longitude, data = data_R)\n",
      "\n",
      "Residuals:\n",
      "      Min        1Q    Median        3Q       Max \n",
      "-13398393   -562302     68143    562733  15384235 \n",
      "\n",
      "Coefficients:\n",
      "                  Estimate Std. Error t value Pr(>|t|)    \n",
      "(Intercept)     -6.207e+07  2.995e+07  -2.073   0.0383 *  \n",
      "size_in_m_2      3.566e+04  7.238e+02  49.271  < 2e-16 ***\n",
      "no_of_bedrooms  -8.367e+05  8.282e+04 -10.102  < 2e-16 ***\n",
      "no_of_bathrooms -5.712e+04  6.829e+04  -0.836   0.4030    \n",
      "quality1         1.400e+05  8.358e+04   1.675   0.0940 .  \n",
      "quality2         3.406e+05  1.551e+05   2.196   0.0282 *  \n",
      "quality3         2.788e+05  1.976e+05   1.410   0.1586    \n",
      "latitude         6.115e+06  7.809e+05   7.830 8.03e-15 ***\n",
      "longitude       -1.677e+06  6.908e+05  -2.428   0.0153 *  \n",
      "---\n",
      "Signif. codes:  0 '***' 0.001 '**' 0.01 '*' 0.05 '.' 0.1 ' ' 1\n",
      "\n",
      "Residual standard error: 1605000 on 1896 degrees of freedom\n",
      "Multiple R-squared:  0.6979,\tAdjusted R-squared:  0.6966 \n",
      "F-statistic: 547.4 on 8 and 1896 DF,  p-value: < 2.2e-16\n",
      "\n"
     ]
    }
   ],
   "source": [
    "%%R\n",
    "summary(model_R_1)"
   ]
  },
  {
   "cell_type": "markdown",
   "metadata": {},
   "source": []
  },
  {
   "cell_type": "markdown",
   "metadata": {},
   "source": [
    "### Compute $R^2$ in Python <a class=\"anchor\" id=\"53\"></a>\n"
   ]
  },
  {
   "cell_type": "markdown",
   "metadata": {},
   "source": [
    "The value of $\\hspace{0.1cm} R^2$  could be found in the output obtained with `print(model_Python_1.summary())`"
   ]
  },
  {
   "cell_type": "code",
   "execution_count": 408,
   "metadata": {},
   "outputs": [
    {
     "name": "stdout",
     "output_type": "stream",
     "text": [
      "                            OLS Regression Results                            \n",
      "==============================================================================\n",
      "Dep. Variable:                  price   R-squared:                       0.698\n",
      "Model:                            OLS   Adj. R-squared:                  0.697\n",
      "Method:                 Least Squares   F-statistic:                     547.4\n",
      "Date:               ju., 21 jul. 2022   Prob (F-statistic):               0.00\n",
      "Time:                        19:52:09   Log-Likelihood:                -29918.\n",
      "No. Observations:                1905   AIC:                         5.985e+04\n",
      "Df Residuals:                    1896   BIC:                         5.990e+04\n",
      "Df Model:                           8                                         \n",
      "Covariance Type:            nonrobust                                         \n",
      "===================================================================================\n",
      "                      coef    std err          t      P>|t|      [0.025      0.975]\n",
      "-----------------------------------------------------------------------------------\n",
      "Intercept       -6.207e+07   2.99e+07     -2.073      0.038   -1.21e+08   -3.34e+06\n",
      "quality[T.1]       1.4e+05   8.36e+04      1.675      0.094   -2.39e+04    3.04e+05\n",
      "quality[T.2]     3.406e+05   1.55e+05      2.196      0.028    3.63e+04    6.45e+05\n",
      "quality[T.3]     2.788e+05   1.98e+05      1.410      0.159   -1.09e+05    6.66e+05\n",
      "size_in_m_2      3.566e+04    723.831     49.271      0.000    3.42e+04    3.71e+04\n",
      "no_of_bedrooms  -8.367e+05   8.28e+04    -10.102      0.000   -9.99e+05   -6.74e+05\n",
      "no_of_bathrooms -5.712e+04   6.83e+04     -0.836      0.403   -1.91e+05    7.68e+04\n",
      "latitude         6.115e+06   7.81e+05      7.830      0.000    4.58e+06    7.65e+06\n",
      "longitude       -1.677e+06   6.91e+05     -2.428      0.015   -3.03e+06   -3.22e+05\n",
      "==============================================================================\n",
      "Omnibus:                      779.851   Durbin-Watson:                   1.716\n",
      "Prob(Omnibus):                  0.000   Jarque-Bera (JB):            25742.187\n",
      "Skew:                           1.273   Prob(JB):                         0.00\n",
      "Kurtosis:                      20.828   Cond. No.                     1.34e+05\n",
      "==============================================================================\n",
      "\n",
      "Notes:\n",
      "[1] Standard Errors assume that the covariance matrix of the errors is correctly specified.\n",
      "[2] The condition number is large, 1.34e+05. This might indicate that there are\n",
      "strong multicollinearity or other numerical problems.\n"
     ]
    }
   ],
   "source": [
    "print(model_Python_1.summary())"
   ]
  },
  {
   "cell_type": "markdown",
   "metadata": {},
   "source": []
  },
  {
   "cell_type": "markdown",
   "metadata": {},
   "source": [
    "We have got the following:\n",
    "\n",
    "$$ R^2 = 0.698$$"
   ]
  },
  {
   "cell_type": "markdown",
   "metadata": {},
   "source": []
  },
  {
   "cell_type": "markdown",
   "metadata": {},
   "source": []
  },
  {
   "cell_type": "markdown",
   "metadata": {},
   "source": [
    "\n",
    "## Goodness of Fit: Adjusted R-square <a class=\"anchor\" id=\"54\"></a>\n",
    "\n",
    "\n",
    "\n",
    "$R^2$ has several problems.\n",
    "\n",
    "1.  $R^2$ always increase when increase the number of predictors,\n",
    "    although they are not significative.\n",
    "\n",
    "2.  It´s possible estimate two models qith the same prediction power but\n",
    "    with different $R^2$\n",
    "\n",
    "\n",
    "\n",
    "For avoid the disadvantages of $R^2$ was created the adjusted $R^2$ ,\n",
    "denoted as $\\widehat{R^2}$, and defined as:\n",
    "\n",
    "\\begin{gather*}\n",
    "\\widehat{R^2} = 1 - (1- R^2)\\cdot \\dfrac{n-1}{n-p}\n",
    "\\end{gather*}\n",
    "\n",
    "\n"
   ]
  },
  {
   "cell_type": "markdown",
   "metadata": {},
   "source": []
  },
  {
   "cell_type": "markdown",
   "metadata": {},
   "source": [
    "### Compute $\\widehat{R^2}$ in R <a class=\"anchor\" id=\"55\"></a> "
   ]
  },
  {
   "cell_type": "markdown",
   "metadata": {},
   "source": [
    "The value of $\\hspace{0.1cm} \\widehat{R^2}$  could be found in the output obtained with `summary(model_R_1)`"
   ]
  },
  {
   "cell_type": "code",
   "execution_count": 409,
   "metadata": {},
   "outputs": [
    {
     "name": "stdout",
     "output_type": "stream",
     "text": [
      "\n",
      "Call:\n",
      "lm(formula = price ~ size_in_m_2 + no_of_bedrooms + no_of_bathrooms + \n",
      "    quality + latitude + longitude, data = data_R)\n",
      "\n",
      "Residuals:\n",
      "      Min        1Q    Median        3Q       Max \n",
      "-13398393   -562302     68143    562733  15384235 \n",
      "\n",
      "Coefficients:\n",
      "                  Estimate Std. Error t value Pr(>|t|)    \n",
      "(Intercept)     -6.207e+07  2.995e+07  -2.073   0.0383 *  \n",
      "size_in_m_2      3.566e+04  7.238e+02  49.271  < 2e-16 ***\n",
      "no_of_bedrooms  -8.367e+05  8.282e+04 -10.102  < 2e-16 ***\n",
      "no_of_bathrooms -5.712e+04  6.829e+04  -0.836   0.4030    \n",
      "quality1         1.400e+05  8.358e+04   1.675   0.0940 .  \n",
      "quality2         3.406e+05  1.551e+05   2.196   0.0282 *  \n",
      "quality3         2.788e+05  1.976e+05   1.410   0.1586    \n",
      "latitude         6.115e+06  7.809e+05   7.830 8.03e-15 ***\n",
      "longitude       -1.677e+06  6.908e+05  -2.428   0.0153 *  \n",
      "---\n",
      "Signif. codes:  0 '***' 0.001 '**' 0.01 '*' 0.05 '.' 0.1 ' ' 1\n",
      "\n",
      "Residual standard error: 1605000 on 1896 degrees of freedom\n",
      "Multiple R-squared:  0.6979,\tAdjusted R-squared:  0.6966 \n",
      "F-statistic: 547.4 on 8 and 1896 DF,  p-value: < 2.2e-16\n",
      "\n"
     ]
    }
   ],
   "source": [
    "%%R\n",
    "summary(model_R_1)"
   ]
  },
  {
   "cell_type": "markdown",
   "metadata": {},
   "source": []
  },
  {
   "cell_type": "markdown",
   "metadata": {},
   "source": [
    "### Compute $\\widehat{R^2}$ in Python <a class=\"anchor\" id=\"56\"></a>\n"
   ]
  },
  {
   "cell_type": "markdown",
   "metadata": {},
   "source": [
    "The value of $\\hspace{0.1cm} \\widehat{R^2}$  could be found in the output obtained with `print(model_Python_1.summary())`"
   ]
  },
  {
   "cell_type": "code",
   "execution_count": 410,
   "metadata": {},
   "outputs": [
    {
     "name": "stdout",
     "output_type": "stream",
     "text": [
      "                            OLS Regression Results                            \n",
      "==============================================================================\n",
      "Dep. Variable:                  price   R-squared:                       0.698\n",
      "Model:                            OLS   Adj. R-squared:                  0.697\n",
      "Method:                 Least Squares   F-statistic:                     547.4\n",
      "Date:               ju., 21 jul. 2022   Prob (F-statistic):               0.00\n",
      "Time:                        19:52:12   Log-Likelihood:                -29918.\n",
      "No. Observations:                1905   AIC:                         5.985e+04\n",
      "Df Residuals:                    1896   BIC:                         5.990e+04\n",
      "Df Model:                           8                                         \n",
      "Covariance Type:            nonrobust                                         \n",
      "===================================================================================\n",
      "                      coef    std err          t      P>|t|      [0.025      0.975]\n",
      "-----------------------------------------------------------------------------------\n",
      "Intercept       -6.207e+07   2.99e+07     -2.073      0.038   -1.21e+08   -3.34e+06\n",
      "quality[T.1]       1.4e+05   8.36e+04      1.675      0.094   -2.39e+04    3.04e+05\n",
      "quality[T.2]     3.406e+05   1.55e+05      2.196      0.028    3.63e+04    6.45e+05\n",
      "quality[T.3]     2.788e+05   1.98e+05      1.410      0.159   -1.09e+05    6.66e+05\n",
      "size_in_m_2      3.566e+04    723.831     49.271      0.000    3.42e+04    3.71e+04\n",
      "no_of_bedrooms  -8.367e+05   8.28e+04    -10.102      0.000   -9.99e+05   -6.74e+05\n",
      "no_of_bathrooms -5.712e+04   6.83e+04     -0.836      0.403   -1.91e+05    7.68e+04\n",
      "latitude         6.115e+06   7.81e+05      7.830      0.000    4.58e+06    7.65e+06\n",
      "longitude       -1.677e+06   6.91e+05     -2.428      0.015   -3.03e+06   -3.22e+05\n",
      "==============================================================================\n",
      "Omnibus:                      779.851   Durbin-Watson:                   1.716\n",
      "Prob(Omnibus):                  0.000   Jarque-Bera (JB):            25742.187\n",
      "Skew:                           1.273   Prob(JB):                         0.00\n",
      "Kurtosis:                      20.828   Cond. No.                     1.34e+05\n",
      "==============================================================================\n",
      "\n",
      "Notes:\n",
      "[1] Standard Errors assume that the covariance matrix of the errors is correctly specified.\n",
      "[2] The condition number is large, 1.34e+05. This might indicate that there are\n",
      "strong multicollinearity or other numerical problems.\n"
     ]
    }
   ],
   "source": [
    "print(model_Python_1.summary())"
   ]
  },
  {
   "cell_type": "markdown",
   "metadata": {},
   "source": []
  },
  {
   "cell_type": "markdown",
   "metadata": {},
   "source": [
    "We have got the following:\n",
    "\n",
    "$$ \\widehat{R^2} = 0.697$$"
   ]
  },
  {
   "cell_type": "markdown",
   "metadata": {},
   "source": []
  },
  {
   "cell_type": "markdown",
   "metadata": {},
   "source": []
  },
  {
   "cell_type": "markdown",
   "metadata": {},
   "source": [
    "## Model Problems <a class=\"anchor\" id=\"57\"></a>"
   ]
  },
  {
   "cell_type": "markdown",
   "metadata": {},
   "source": []
  },
  {
   "cell_type": "markdown",
   "metadata": {},
   "source": [
    "### Multicollinearity <a class=\"anchor\" id=\"58\"></a>"
   ]
  },
  {
   "cell_type": "markdown",
   "metadata": {},
   "source": [
    "Multicollinearity problem happens when some of the predictors are lineary dependients."
   ]
  },
  {
   "cell_type": "markdown",
   "metadata": {},
   "source": [
    "#### Types of multicollinearity"
   ]
  },
  {
   "cell_type": "markdown",
   "metadata": {},
   "source": [
    "##### Perfect Multicollinearity"
   ]
  },
  {
   "cell_type": "markdown",
   "metadata": {},
   "source": [
    "At least one of the predictors is a linear combination of the rest of the predictors, so $Rg(X) < p+1$ (not full range)\n",
    "\n",
    "By the null rank theorem, $R(X^t \\cdot X) < p+1$ , therefore there is no $(X^t \\cdot X)^{-1}$ , so it cannot be estimate $\\beta$ with the method of least squares."
   ]
  },
  {
   "cell_type": "markdown",
   "metadata": {},
   "source": [
    "##### High Multicollinearity"
   ]
  },
  {
   "cell_type": "markdown",
   "metadata": {},
   "source": [
    "There are predictors with high linear correlation between them. \n",
    "\n",
    "In this case is still possible estimate $\\beta$ because the multicolinearity isn´t perfect, but the variance of the $\\beta$ estimators, $Var(\\hat{\\beta}_j)$, will be too high, therefore the model will be very imprecise, so the results will not be good.\n",
    "\n"
   ]
  },
  {
   "cell_type": "markdown",
   "metadata": {},
   "source": []
  },
  {
   "cell_type": "markdown",
   "metadata": {},
   "source": [
    "#### Identification of multicollinearity <a class=\"anchor\" id=\"59\"></a>"
   ]
  },
  {
   "cell_type": "markdown",
   "metadata": {},
   "source": [
    "Identification of multicollinearity is carry out by several ways:\n",
    "\n",
    "If the linear regression model has only **quantitative** predictors:\n",
    "\n",
    "1. With the correlation matrix of the predictors $\\hspace{0.05cm} R$\n",
    "2. With  $VIF$ (variance increase factor )\n",
    "3. With  condition number of $\\hspace{0.05cm} R$\n",
    "\n",
    "If the linear model has **quantitative and categorical** predictors:\n",
    "\n",
    "1. With $GVIF$ (generalize variance increase factor) "
   ]
  },
  {
   "cell_type": "markdown",
   "metadata": {},
   "source": []
  },
  {
   "cell_type": "markdown",
   "metadata": {},
   "source": [
    "#### Identification of multicollinearity with $R$"
   ]
  },
  {
   "cell_type": "markdown",
   "metadata": {},
   "source": [
    "The Pearson correlation matrix of a given data matrix $X=[X_1 ,..., X_p]$  is defined as:\n",
    "\n",
    "<br>\n",
    "\n",
    "$$\n",
    "R= \\begin{pmatrix}\n",
    "    r_{11} & r_{12}&...&r_{1p}\\\\\n",
    "    r_{21} & r_{22}&...&r_{2p}\\\\\n",
    "    &...&\\\\\n",
    "    r_{p1}& r_{p2}&...&r_{pp}\n",
    "\\end{pmatrix}\n",
    "$$ \n"
   ]
  },
  {
   "cell_type": "markdown",
   "metadata": {},
   "source": [
    "\n",
    "Where: $\\hspace{0.2cm} r_{i j} \\hspace{0.1cm}$ is the Pearson linear correlation between $X_i$ and $X_j$"
   ]
  },
  {
   "cell_type": "markdown",
   "metadata": {},
   "source": [
    "**Criteria :**\n",
    "\n",
    "If there is any high $r_{ij}$  $\\hspace{0.1cm} \\Rightarrow\\hspace{0.1cm}$ possible multicollinearity"
   ]
  },
  {
   "cell_type": "markdown",
   "metadata": {},
   "source": []
  },
  {
   "cell_type": "markdown",
   "metadata": {},
   "source": [
    "##### Identification of multicollinearity with $R$ in R"
   ]
  },
  {
   "cell_type": "markdown",
   "metadata": {},
   "source": [
    "We will suposse our linear regression model only has **quatitative** predictors.\n",
    "\n",
    "We need to compute the Pearson correlation matrix for these quantitative predictors."
   ]
  },
  {
   "cell_type": "code",
   "execution_count": 411,
   "metadata": {},
   "outputs": [
    {
     "name": "stdout",
     "output_type": "stream",
     "text": [
      "                size_in_m_2   longitude  latitude no_of_bedrooms\n",
      "size_in_m_2      1.00000000 -0.06665722 0.1375185     0.77511298\n",
      "longitude       -0.06665722  1.00000000 0.6058747    -0.04566789\n",
      "latitude         0.13751849  0.60587468 1.0000000     0.12416175\n",
      "no_of_bedrooms   0.77511298 -0.04566789 0.1241617     1.00000000\n",
      "no_of_bathrooms  0.72539720 -0.02499958 0.1411599     0.85438384\n",
      "                no_of_bathrooms\n",
      "size_in_m_2          0.72539720\n",
      "longitude           -0.02499958\n",
      "latitude             0.14115992\n",
      "no_of_bedrooms       0.85438384\n",
      "no_of_bathrooms      1.00000000\n"
     ]
    }
   ],
   "source": [
    "%%R\n",
    "\n",
    "R <- cor(data_R %>% select(-price, -quality))\n",
    "R"
   ]
  },
  {
   "cell_type": "markdown",
   "metadata": {},
   "source": [
    "Now we will compute a heatmap with the correlation matrix:"
   ]
  },
  {
   "cell_type": "code",
   "execution_count": 412,
   "metadata": {},
   "outputs": [
    {
     "data": {
      "image/png": "[encoded data removed]"
     },
     "metadata": {},
     "output_type": "display_data"
    }
   ],
   "source": [
    "%%R\n",
    "\n",
    "library(GGally)\n",
    "\n",
    "ggcorr(data_R %>% select(-price, -quality), label=TRUE, digits=3)"
   ]
  },
  {
   "cell_type": "markdown",
   "metadata": {},
   "source": []
  },
  {
   "cell_type": "markdown",
   "metadata": {},
   "source": [
    "##### Identification of multicollinearity with $R$ in Python"
   ]
  },
  {
   "cell_type": "code",
   "execution_count": 413,
   "metadata": {},
   "outputs": [
    {
     "data": {
      "text/html": [
       "<div>\n",
       "<style scoped>\n",
       "    .dataframe tbody tr th:only-of-type {\n",
       "        vertical-align: middle;\n",
       "    }\n",
       "\n",
       "    .dataframe tbody tr th {\n",
       "        vertical-align: top;\n",
       "    }\n",
       "\n",
       "    .dataframe thead th {\n",
       "        text-align: right;\n",
       "    }\n",
       "</style>\n",
       "<table border=\"1\" class=\"dataframe\">\n",
       "  <thead>\n",
       "    <tr style=\"text-align: right;\">\n",
       "      <th></th>\n",
       "      <th>size_in_m_2</th>\n",
       "      <th>longitude</th>\n",
       "      <th>latitude</th>\n",
       "      <th>no_of_bedrooms</th>\n",
       "      <th>no_of_bathrooms</th>\n",
       "    </tr>\n",
       "  </thead>\n",
       "  <tbody>\n",
       "    <tr>\n",
       "      <th>size_in_m_2</th>\n",
       "      <td>1.000000</td>\n",
       "      <td>-0.066657</td>\n",
       "      <td>0.137518</td>\n",
       "      <td>0.775113</td>\n",
       "      <td>0.725397</td>\n",
       "    </tr>\n",
       "    <tr>\n",
       "      <th>longitude</th>\n",
       "      <td>-0.066657</td>\n",
       "      <td>1.000000</td>\n",
       "      <td>0.605875</td>\n",
       "      <td>-0.045668</td>\n",
       "      <td>-0.025000</td>\n",
       "    </tr>\n",
       "    <tr>\n",
       "      <th>latitude</th>\n",
       "      <td>0.137518</td>\n",
       "      <td>0.605875</td>\n",
       "      <td>1.000000</td>\n",
       "      <td>0.124162</td>\n",
       "      <td>0.141160</td>\n",
       "    </tr>\n",
       "    <tr>\n",
       "      <th>no_of_bedrooms</th>\n",
       "      <td>0.775113</td>\n",
       "      <td>-0.045668</td>\n",
       "      <td>0.124162</td>\n",
       "      <td>1.000000</td>\n",
       "      <td>0.854384</td>\n",
       "    </tr>\n",
       "    <tr>\n",
       "      <th>no_of_bathrooms</th>\n",
       "      <td>0.725397</td>\n",
       "      <td>-0.025000</td>\n",
       "      <td>0.141160</td>\n",
       "      <td>0.854384</td>\n",
       "      <td>1.000000</td>\n",
       "    </tr>\n",
       "  </tbody>\n",
       "</table>\n",
       "</div>"
      ],
      "text/plain": [
       "                 size_in_m_2  longitude  latitude  no_of_bedrooms  \\\n",
       "size_in_m_2         1.000000  -0.066657  0.137518        0.775113   \n",
       "longitude          -0.066657   1.000000  0.605875       -0.045668   \n",
       "latitude            0.137518   0.605875  1.000000        0.124162   \n",
       "no_of_bedrooms      0.775113  -0.045668  0.124162        1.000000   \n",
       "no_of_bathrooms     0.725397  -0.025000  0.141160        0.854384   \n",
       "\n",
       "                 no_of_bathrooms  \n",
       "size_in_m_2             0.725397  \n",
       "longitude              -0.025000  \n",
       "latitude                0.141160  \n",
       "no_of_bedrooms          0.854384  \n",
       "no_of_bathrooms         1.000000  "
      ]
     },
     "execution_count": 413,
     "metadata": {},
     "output_type": "execute_result"
    }
   ],
   "source": [
    "R = (data_Python >> select( ~ X.price )).corr()\n",
    "R"
   ]
  },
  {
   "cell_type": "code",
   "execution_count": 414,
   "metadata": {},
   "outputs": [
    {
     "data": {
      "text/plain": [
       "<AxesSubplot:>"
      ]
     },
     "execution_count": 414,
     "metadata": {},
     "output_type": "execute_result"
    },
    {
     "data": {
      "image/png": "[encoded data removed]",
      "text/plain": [
       "<Figure size 432x288 with 2 Axes>"
      ]
     },
     "metadata": {
      "needs_background": "light"
     },
     "output_type": "display_data"
    }
   ],
   "source": [
    "# pip install seaborn\n",
    "\n",
    "import seaborn as sb\n",
    "corr = R\n",
    "sb.heatmap(corr, cmap=\"Blues\", annot=True)"
   ]
  },
  {
   "cell_type": "markdown",
   "metadata": {},
   "source": []
  },
  {
   "cell_type": "markdown",
   "metadata": {},
   "source": [
    "We can see there are several pairs of predictor with high correlation, such as $( no\\_of\\_bathrooms \\hspace{0.1cm},\\hspace{0.1cm} no\\_of\\_bedrooms )$, $( size\\_in\\_m\\_2 \\hspace{0.1cm},\\hspace{0.1cm} no\\_of\\_bedrooms )$ , $(size\\_in\\_m\\_2 \\hspace{0.1cm},\\hspace{0.1cm} no\\_of\\_bathrooms )$\n",
    "\n",
    "So following this criterion the linear regression model $\\hspace{0.1cm} price ~ size\\_in\\_m\\_2  + longitude + latitude + no\\_of\\_bedrooms + no\\_of\\_bathrooms \\hspace{0.1cm}$ could has multicollinearity problems."
   ]
  },
  {
   "cell_type": "markdown",
   "metadata": {},
   "source": []
  },
  {
   "cell_type": "markdown",
   "metadata": {},
   "source": [
    "##### Identification of multicollinearity with $VIF$"
   ]
  },
  {
   "cell_type": "markdown",
   "metadata": {},
   "source": [
    "We must have a linear regression model that only has **quantitative** predictors.\n",
    "\n",
    "We need to compute the inverse Pearson correlation matrix for these quantitative predictors.\n"
   ]
  },
  {
   "cell_type": "markdown",
   "metadata": {},
   "source": [
    "The variance increase factor $\\left(VIF\\right)$ of $X_i$ as:\n",
    "\n",
    "$$VIF(i) = Diag(R^{-1})[\\hspace{0.1cm} i\\hspace{0.1cm}] = \\text{i element of} \\hspace{0.1cm} Diag(R^{-1})$$\n",
    "\n",
    "And it´s fullfield that:\n",
    "\n",
    "$$ VIF(i) = \\dfrac{1}{1- R^2_{X_i}} $$\n",
    "\n",
    "Where:\n",
    "\n",
    "$R^2_{X_i}$ is the $R^2$ of the linear regression model $X_i = \\beta_0 + \\beta_1 \\cdot  X_1 +...+ \\beta_{i-1}\\cdot X_{i-1} + \\beta_{i+1}\\cdot X_{i+1} + ... + \\beta_p \\cdot X_p$\n",
    "\n",
    "So, $R^2_{X_i}$  is the proporcion of variability of $X_i$ explained by $X_1,..,X_{i-1},X_{i+1},..,X_p$\n",
    "\n"
   ]
  },
  {
   "cell_type": "markdown",
   "metadata": {},
   "source": [
    "\n",
    "**Criterion:**\n",
    "\n",
    "If $\\hspace{0.15cm}VIF(i) > 10$ $\\hspace{0.15cm}\\left( R^2_{X_i} > 0.90 \\right)$ $\\hspace{0.1cm}\\Rightarrow\\hspace{0.1cm}$ **High** multicollinearity\n",
    "\n",
    "If $\\hspace{0.15cm}VIF(i)  \\in [4, 10]$  $\\hspace{0.15cm}\\left(R^2_{X_i} \\in [0.75 , 0.90]\\right)$ $\\hspace{0.1cm}\\Rightarrow\\hspace{0.1cm}$ Medium multicollinearity\n",
    "\n",
    "\n",
    "If  $\\hspace{0.15cm}VIF(i) < 4$ $\\hspace{0.15cm}\\left(R^2_{X_i} < 0.75 \\right)$ $\\hspace{0.1cm}\\Rightarrow\\hspace{0.1cm}$ Low multicollinearity\n"
   ]
  },
  {
   "cell_type": "markdown",
   "metadata": {},
   "source": []
  },
  {
   "cell_type": "markdown",
   "metadata": {},
   "source": [
    "##### Identification of multicollinearity with $VIF$ in R"
   ]
  },
  {
   "cell_type": "code",
   "execution_count": 415,
   "metadata": {},
   "outputs": [
    {
     "name": "stdout",
     "output_type": "stream",
     "text": [
      "    size_in_m_2       longitude        latitude  no_of_bedrooms no_of_bathrooms \n",
      "       2.642728        1.639554        1.667913        4.565980        3.857961 \n"
     ]
    }
   ],
   "source": [
    "%%R\n",
    "\n",
    "R_inverse <- solve(R)\n",
    "\n",
    "diag(R_inverse)"
   ]
  },
  {
   "cell_type": "code",
   "execution_count": 416,
   "metadata": {},
   "outputs": [
    {
     "name": "stdout",
     "output_type": "stream",
     "text": [
      "    size_in_m_2       longitude        latitude  no_of_bedrooms no_of_bathrooms \n",
      "       2.642728        1.639554        1.667913        4.565980        3.857961 \n"
     ]
    }
   ],
   "source": [
    "%%R \n",
    "\n",
    "library(car)\n",
    "library(carData)\n",
    "\n",
    "vif(lm(price ~ size_in_m_2  + longitude + latitude + no_of_bedrooms + no_of_bathrooms , data=data_R))"
   ]
  },
  {
   "cell_type": "markdown",
   "metadata": {},
   "source": []
  },
  {
   "cell_type": "markdown",
   "metadata": {},
   "source": [
    "##### Identification of multicollinearity with $VIF$ in Python"
   ]
  },
  {
   "cell_type": "code",
   "execution_count": 417,
   "metadata": {},
   "outputs": [],
   "source": [
    "a = np.diagonal( np.linalg.inv(R) )"
   ]
  },
  {
   "cell_type": "code",
   "execution_count": 418,
   "metadata": {},
   "outputs": [],
   "source": [
    "b = (data_Python >> select( ~ X.price , ~ X.quality )).columns"
   ]
  },
  {
   "cell_type": "code",
   "execution_count": 419,
   "metadata": {},
   "outputs": [
    {
     "data": {
      "text/html": [
       "<div>\n",
       "<style scoped>\n",
       "    .dataframe tbody tr th:only-of-type {\n",
       "        vertical-align: middle;\n",
       "    }\n",
       "\n",
       "    .dataframe tbody tr th {\n",
       "        vertical-align: top;\n",
       "    }\n",
       "\n",
       "    .dataframe thead th {\n",
       "        text-align: right;\n",
       "    }\n",
       "</style>\n",
       "<table border=\"1\" class=\"dataframe\">\n",
       "  <thead>\n",
       "    <tr style=\"text-align: right;\">\n",
       "      <th></th>\n",
       "      <th>VIF</th>\n",
       "    </tr>\n",
       "    <tr>\n",
       "      <th>predictor</th>\n",
       "      <th></th>\n",
       "    </tr>\n",
       "  </thead>\n",
       "  <tbody>\n",
       "    <tr>\n",
       "      <th>size_in_m_2</th>\n",
       "      <td>2.642728</td>\n",
       "    </tr>\n",
       "    <tr>\n",
       "      <th>longitude</th>\n",
       "      <td>1.639554</td>\n",
       "    </tr>\n",
       "    <tr>\n",
       "      <th>latitude</th>\n",
       "      <td>1.667913</td>\n",
       "    </tr>\n",
       "    <tr>\n",
       "      <th>no_of_bedrooms</th>\n",
       "      <td>4.565980</td>\n",
       "    </tr>\n",
       "    <tr>\n",
       "      <th>no_of_bathrooms</th>\n",
       "      <td>3.857961</td>\n",
       "    </tr>\n",
       "  </tbody>\n",
       "</table>\n",
       "</div>"
      ],
      "text/plain": [
       "                      VIF\n",
       "predictor                \n",
       "size_in_m_2      2.642728\n",
       "longitude        1.639554\n",
       "latitude         1.667913\n",
       "no_of_bedrooms   4.565980\n",
       "no_of_bathrooms  3.857961"
      ]
     },
     "execution_count": 419,
     "metadata": {},
     "output_type": "execute_result"
    }
   ],
   "source": [
    "VIF_Python = pd.DataFrame({'predictor': b , 'VIF': a })\n",
    "VIF_Python = VIF_Python.set_index('predictor')\n",
    "VIF_Python"
   ]
  },
  {
   "cell_type": "markdown",
   "metadata": {},
   "source": [
    "There is a quantitative predictor with $VIF > 4$ , but none with $VIF > 10$ , so following this criterion the linear regression model $\\hspace{0.1cm} price ~ size\\_in\\_m\\_2  + longitude + latitude + no\\_of\\_bedrooms + no\\_of\\_bathrooms \\hspace{0.1cm}$ has **medium** multicollinearity ."
   ]
  },
  {
   "cell_type": "markdown",
   "metadata": {},
   "source": []
  },
  {
   "cell_type": "markdown",
   "metadata": {},
   "source": [
    "##### Identification of multicollinearity  with condition number of $\\hspace{0.05cm} R$"
   ]
  },
  {
   "cell_type": "markdown",
   "metadata": {},
   "source": [
    "We must have a linear regression model that only has **quantitative** predictors.\n",
    "\n",
    "We need to compute the eigenvalues of the Pearson correlation matrix for these quantitative predictors."
   ]
  },
  {
   "cell_type": "markdown",
   "metadata": {},
   "source": [
    "The condition number of $R$ is defined as:\n",
    "\n",
    "$$cond(R) = \\sqrt{\\dfrac{max\\lbrace eigenvalues(R)\\rbrace}{min\\lbrace eigenvalues(R)\\rbrace}} $$"
   ]
  },
  {
   "cell_type": "markdown",
   "metadata": {},
   "source": [
    "**Criterion :**\n",
    "\n",
    "If $\\hspace{0.1cm} cond(R) > 30$ $\\hspace{0.1cm} \\Rightarrow\\hspace{0.1cm}$ **High** multicollinearity\n",
    "\n",
    "If $\\hspace{0.1cm}cond(R) \\in (10 , 30)$ $\\hspace{0.1cm} \\Rightarrow\\hspace{0.1cm}$ Medium multicollinearity\n",
    "\n",
    "If $\\hspace{0.1cm}cond(R) < 10$ $\\hspace{0.1cm} \\Rightarrow\\hspace{0.1cm}$ Low multicollinearity"
   ]
  },
  {
   "cell_type": "markdown",
   "metadata": {},
   "source": []
  },
  {
   "cell_type": "markdown",
   "metadata": {},
   "source": [
    "##### Identification of multicollinearity  with condition number of $\\hspace{0.05cm} R$ in R"
   ]
  },
  {
   "cell_type": "code",
   "execution_count": 420,
   "metadata": {},
   "outputs": [
    {
     "name": "stdout",
     "output_type": "stream",
     "text": [
      "[1] 4.325045\n"
     ]
    }
   ],
   "source": [
    "%%R\n",
    "\n",
    "cond_R = sqrt(max(eigen(R)$values)/min(eigen(R)$values))\n",
    "cond_R"
   ]
  },
  {
   "cell_type": "markdown",
   "metadata": {},
   "source": []
  },
  {
   "cell_type": "markdown",
   "metadata": {},
   "source": [
    "##### Identification of multicollinearity  with condition number of $\\hspace{0.05cm} R$ in Python"
   ]
  },
  {
   "cell_type": "code",
   "execution_count": 421,
   "metadata": {},
   "outputs": [],
   "source": [
    "from numpy import linalg as LA\n",
    "\n",
    "eigenvalues , eigenvectors = LA.eig(R)"
   ]
  },
  {
   "cell_type": "code",
   "execution_count": 422,
   "metadata": {},
   "outputs": [
    {
     "data": {
      "text/plain": [
       "4.325045221905223"
      ]
     },
     "execution_count": 422,
     "metadata": {},
     "output_type": "execute_result"
    }
   ],
   "source": [
    "cond_R = math.sqrt(max(eigenvalues)/min(eigenvalues))\n",
    "cond_R"
   ]
  },
  {
   "cell_type": "markdown",
   "metadata": {},
   "source": [
    "We have obtained $cond(R) = 4.33 < 10$ , so following this criterion, the linear regression model $\\hspace{0.1cm} price ~ size\\_in\\_m\\_2  + longitude + latitude + no\\_of\\_bedrooms + no\\_of\\_bathrooms \\hspace{0.1cm}$ has **low** multicollinearity"
   ]
  },
  {
   "cell_type": "markdown",
   "metadata": {},
   "source": []
  },
  {
   "cell_type": "markdown",
   "metadata": {},
   "source": [
    "#### Identification of multicollinearity with $GVIF$"
   ]
  },
  {
   "cell_type": "markdown",
   "metadata": {},
   "source": [
    "$VIF$ is only a good multicollinearity measure when all the predictors of the model are quantitative.\n",
    "\n",
    "$GVIF$ is the measure proposed by Fox and Monette (1992) to deal with linear regression models that have categorical predictors.\n"
   ]
  },
  {
   "cell_type": "markdown",
   "metadata": {},
   "source": []
  },
  {
   "cell_type": "markdown",
   "metadata": {},
   "source": [
    "If $X_i$ is a **quantitative** predictor\n",
    "\n",
    "<br>\n",
    "\n",
    "We have to consider the following matrix:\n",
    "\n",
    "$\\hspace{8cm}\\mathcal{X}_1 = [\\hspace{0.1cm} X_i \\hspace{0.1cm}]$\n",
    "\n",
    "$\\hspace{8cm}\\mathcal{X}_2 = [\\hspace{0.1cm} X_1 , .. , X_{i-1}, X_{i+1},.., X_p \\hspace{0.1cm}]$\n",
    "\n",
    "$\\hspace{8cm}\\mathcal{X}_3 = [\\hspace{0.1cm} X_1,..,X_i,.., X_p \\hspace{0.1cm}] $\n",
    "\n",
    "<br>\n",
    "\n",
    "And the following Pearson correlation matrix:\n",
    "\n",
    " $\\hspace{8cm}R_1$ is the Pearson correlation matrix of $\\mathcal{X}_1$ \n",
    "\n",
    "$\\hspace{8cm}R_2$ is the Pearson correlation matrix of $\\mathcal{X}_2$\n",
    "\n",
    "$\\hspace{8cm}R_3$ is the Pearson correlation matrix of $\\mathcal{X}_3$\n",
    "\n",
    "<br>\n",
    "\n",
    "Then $GVIF$ is defined as:\n",
    "\n",
    "$$ GVIF(i) = det(R_1) \\cdot \\dfrac{det(R_2)}{det(R_3)} $$ \n",
    "\n",
    " "
   ]
  },
  {
   "cell_type": "markdown",
   "metadata": {},
   "source": []
  },
  {
   "cell_type": "markdown",
   "metadata": {},
   "source": [
    "If $X_i$ is a **categorical** predictor with $r$ categories $\\lbrace 0,1,..., r-1 \\rbrace$ that enter in the model with the binary variables $X_{i1},X_{i2},...,X_{i(r-1)}$\n",
    "\n",
    "<br>\n",
    "\n",
    "We have to consider the following matrix:\n",
    "\n",
    "$\\hspace{8cm}\\mathcal{X}_1 = [\\hspace{0.1cm} X_{i1},X_{i2},...,X_{i(r-1)} \\hspace{0.1cm}]$\n",
    "\n",
    "$\\hspace{8cm}\\mathcal{X}_2 = [\\hspace{0.1cm} X_1 , .. , X_{i-1}, X_{i+1},.., X_p \\hspace{0.1cm}]$\n",
    "\n",
    "$\\hspace{8cm}\\mathcal{X}_3 = [\\hspace{0.1cm} X_1,..,X_i,.., X_p \\hspace{0.1cm}] $\n",
    "\n",
    "<br>\n",
    "\n",
    "And the following Pearson correlation matrix:\n",
    "\n",
    " $\\hspace{8cm}R_1$ is the Pearson correlation matrix of $\\mathcal{X}_1$ \n",
    "\n",
    "$\\hspace{8cm}R_2$ is the Pearson correlation matrix of $\\mathcal{X}_2$\n",
    "\n",
    "$\\hspace{8cm}R_3$ is the Pearson correlation matrix of $\\mathcal{X}_3$\n",
    "\n",
    "<br>\n",
    "\n",
    "Then $GVIF$ is defined as:\n",
    "\n",
    "$$ GVIF(i) = det(R_1) \\cdot \\dfrac{det(R_2)}{det(R_3)} $$ \n",
    "\n",
    " "
   ]
  },
  {
   "cell_type": "markdown",
   "metadata": {},
   "source": []
  },
  {
   "cell_type": "markdown",
   "metadata": {},
   "source": [
    "**Criteria:**\n",
    "\n",
    "If $X_i$ is a **quantitative** predictor ( $\\Rightarrow df=1$):\n",
    "\n",
    "If $\\hspace{0.15cm} GVIF(i)^{1/2} > \\sqrt{10} = 3.16$  $\\hspace{0.1cm}\\Rightarrow\\hspace{0.1cm}$ **High** multicollinearity\n",
    "\n",
    "If $\\hspace{0.15cm} GVIF(i)^{1/2}  \\in [\\sqrt{4}, \\sqrt{10}]= [2 \\hspace{0.1cm},\\hspace{0.1cm} 3.16]$    $\\hspace{0.1cm}  \\Rightarrow\\hspace{0.1cm}$ Medium multicollinearity\n",
    "\n",
    "\n",
    "If  $\\hspace{0.15cm} GVIF(i)^{1/2} < \\sqrt{4} = 2$  $\\hspace{0.1cm}\\Rightarrow\\hspace{0.1cm}$ Low multicollinearity"
   ]
  },
  {
   "cell_type": "markdown",
   "metadata": {},
   "source": []
  },
  {
   "cell_type": "markdown",
   "metadata": {},
   "source": [
    "If $X_i$ is a **categorical** predictor with $2$ categories ( $\\Rightarrow df=2-1=1$):\n",
    "\n",
    "If $\\hspace{0.15cm} GVIF(i)^{1/2} > 10^{1/2} = 3.16 $  $\\hspace{0.1cm}\\Rightarrow\\hspace{0.1cm}$ **High** multicollinearity\n",
    "\n",
    "If $\\hspace{0.15cm} GVIF(i)^{1/2}  \\in [4^{1/2}, 10^{1/2}] = [2 \\hspace{0.1cm} , \\hspace{0.1cm}  3.16]$    $\\hspace{0.1cm}  \\Rightarrow\\hspace{0.1cm}$ Medium multicollinearity\n",
    "\n",
    "\n",
    "If  $\\hspace{0.15cm} GVIF(i)^{1/2} < 4^{1/2} = 2$  $\\hspace{0.1cm}\\Rightarrow\\hspace{0.1cm}$ Low multicollinearity"
   ]
  },
  {
   "cell_type": "markdown",
   "metadata": {},
   "source": []
  },
  {
   "cell_type": "markdown",
   "metadata": {},
   "source": [
    "If $X_i$ is a **categorical** predictor with $3$ categories ( $\\Rightarrow df=3-1=2$):\n",
    "\n",
    "If $\\hspace{0.15cm} GVIF(i)^{1/4} > 10^{1/4} = 1.78$  $\\hspace{0.1cm}\\Rightarrow\\hspace{0.1cm}$ **High** multicollinearity\n",
    "\n",
    "If $\\hspace{0.15cm} GVIF(i)^{1/4}  \\in [4^{1/4}, 10^{1/4}] = [1.41 \\hspace{0.1cm} , \\hspace{0.1cm}  1.78]$    $\\hspace{0.1cm}  \\Rightarrow\\hspace{0.1cm}$ Medium multicollinearity\n",
    "\n",
    "\n",
    "If  $\\hspace{0.15cm} GVIF(i)^{1/4} < 4^{1/4} = 1.41$  $\\hspace{0.1cm}\\Rightarrow\\hspace{0.1cm}$ Low multicollinearity"
   ]
  },
  {
   "cell_type": "markdown",
   "metadata": {},
   "source": []
  },
  {
   "cell_type": "markdown",
   "metadata": {},
   "source": [
    "If $X_i$ is a **categorical** predictor with $4$ categories ( $\\Rightarrow df=4-1=3$):\n",
    "\n",
    "If $\\hspace{0.15cm} GVIF(i)^{1/6} > 10^{1/6} = 1.47$  $\\hspace{0.1cm}\\Rightarrow\\hspace{0.1cm}$ **High** multicollinearity\n",
    "\n",
    "If $\\hspace{0.15cm} GVIF(i)^{1/6}  \\in [4^{1/6}, 10^{1/6}] = [1.26 \\hspace{0.1cm} , \\hspace{0.1cm}  1.47]$    $\\hspace{0.1cm}  \\Rightarrow\\hspace{0.1cm}$ Medium multicollinearity\n",
    "\n",
    "\n",
    "If  $\\hspace{0.15cm} GVIF(i)^{1/6} < 4^{1/6} = 1.26$  $\\hspace{0.1cm}\\Rightarrow\\hspace{0.1cm}$ Low multicollinearity"
   ]
  },
  {
   "cell_type": "markdown",
   "metadata": {},
   "source": []
  },
  {
   "cell_type": "markdown",
   "metadata": {},
   "source": [
    "If $X_i$ is a **categorical** predictor with $r$ categories ( $\\Rightarrow df=r-1$):\n",
    "\n",
    "If $\\hspace{0.15cm} GVIF(i)^{1/(2(r-1))} > 10^{1/(2(r-1))} $  $\\hspace{0.1cm}\\Rightarrow\\hspace{0.1cm}$ **High** multicollinearity\n",
    "\n",
    "If $\\hspace{0.15cm} GVIF(i)^{1/(2(r-1))}  \\in [4^{1/(2(r-1))}, 10^{1/(2(r-1))}]$    $\\hspace{0.1cm}  \\Rightarrow\\hspace{0.1cm}$ Medium multicollinearity\n",
    "\n",
    "\n",
    "If  $\\hspace{0.15cm} GVIF(i)^{1/(2(r-1))} < 4^{1/(2(r-1))}$  $\\hspace{0.1cm}\\Rightarrow\\hspace{0.1cm}$ Low multicollinearity"
   ]
  },
  {
   "cell_type": "markdown",
   "metadata": {},
   "source": []
  },
  {
   "cell_type": "markdown",
   "metadata": {},
   "source": [
    "##### Identification of multicollinearity with $GVIF$ in R"
   ]
  },
  {
   "cell_type": "code",
   "execution_count": 423,
   "metadata": {},
   "outputs": [
    {
     "name": "stdout",
     "output_type": "stream",
     "text": [
      "                    GVIF Df GVIF^(1/(2*Df))\n",
      "size_in_m_2     2.657446  1        1.630168\n",
      "longitude       1.670001  1        1.292285\n",
      "latitude        1.769812  1        1.330343\n",
      "no_of_bedrooms  4.572529  1        2.138347\n",
      "no_of_bathrooms 3.897807  1        1.974286\n",
      "quality         1.080988  3        1.013064\n"
     ]
    }
   ],
   "source": [
    "%%R \n",
    "\n",
    "library(car)\n",
    "library(carData)\n",
    "\n",
    "vif(lm(price ~ size_in_m_2  + longitude + latitude + no_of_bedrooms + no_of_bathrooms + quality , data=data_R))"
   ]
  },
  {
   "cell_type": "markdown",
   "metadata": {},
   "source": []
  },
  {
   "cell_type": "markdown",
   "metadata": {},
   "source": [
    "##### Identification of multicollinearity with $GVIF$ in Python"
   ]
  },
  {
   "cell_type": "markdown",
   "metadata": {},
   "source": [
    "$GVIF$ for the categorical predictor $quality$"
   ]
  },
  {
   "cell_type": "code",
   "execution_count": 424,
   "metadata": {},
   "outputs": [],
   "source": [
    "import patsy as patsy\n",
    "\n",
    "quality = pd.DataFrame(data_Python[\"quality\"], columns= [\"quality\"])\n",
    "X1 = patsy.dmatrix(\"0 + C(quality)\", quality, return_type = \"dataframe\")\n",
    "\n",
    "X1 = X1 >> select( ~ X['C(quality)[0]'] )\n",
    "X2 = data_Python >> select( ~ X['quality'] , ~ X['price'])\n",
    "X3 = pd.concat([X1,X2], axis = 1)\n",
    "\n",
    "GVIF_quality = np.linalg.det(X1.corr()) * np.linalg.det(X2.corr()) / np.linalg.det(X3.corr())\n",
    "\n",
    "df_quality = X1.shape[1]\n",
    "GVIF_quality_scaled = GVIF_quality**(1/(2*df_quality))"
   ]
  },
  {
   "cell_type": "markdown",
   "metadata": {},
   "source": [
    "$GVIF$ for the rest of quantitative predictors"
   ]
  },
  {
   "cell_type": "code",
   "execution_count": 425,
   "metadata": {},
   "outputs": [],
   "source": [
    "X1 = data_Python >> select( X['size_in_m_2'] )\n",
    "X2 = data_Python >> select( ~ X['size_in_m_2'] , ~ X['price'])\n",
    "GVIF_size_in_m_2 = np.linalg.det(X1.corr()) * np.linalg.det(X2.corr()) / np.linalg.det((data_Python >> select( ~ X['price'] )).corr())\n",
    "\n",
    "df_size_in_m_2 = X1.shape[1]\n",
    "GVIF_size_in_m_2_scaled = GVIF_size_in_m_2**(1/(2*df_size_in_m_2))"
   ]
  },
  {
   "cell_type": "code",
   "execution_count": 426,
   "metadata": {},
   "outputs": [],
   "source": [
    "X1 = data_Python >> select( X['longitude'] )\n",
    "X2 = data_Python >> select( ~ X['longitude'] , ~ X['price'])\n",
    "GVIF_longitude = np.linalg.det(X1.corr()) * np.linalg.det(X2.corr()) / np.linalg.det((data_Python >> select( ~ X['price'] )).corr())\n",
    "\n",
    "df_longitude = X1.shape[1]\n",
    "GVIF_longitude_scaled = GVIF_longitude**(1/(2*df_longitude))"
   ]
  },
  {
   "cell_type": "code",
   "execution_count": 427,
   "metadata": {},
   "outputs": [],
   "source": [
    "X1 = data_Python >> select( X['latitude'] )\n",
    "X2 = data_Python >> select( ~ X['latitude'] , ~ X['price'])\n",
    "GVIF_latitude = np.linalg.det(X1.corr()) * np.linalg.det(X2.corr()) / np.linalg.det((data_Python >> select( ~ X['price'] )).corr())\n",
    "\n",
    "df_latitude = X1.shape[1]\n",
    "GVIF_latitude_scaled = GVIF_latitude**(1/(2*df_latitude))"
   ]
  },
  {
   "cell_type": "code",
   "execution_count": 428,
   "metadata": {},
   "outputs": [],
   "source": [
    "X1 = data_Python >> select( X['no_of_bedrooms'] )\n",
    "X2 = data_Python >> select( ~ X['no_of_bedrooms'] , ~ X['price'])\n",
    "GVIF_no_of_bedrooms = np.linalg.det(X1.corr()) * np.linalg.det(X2.corr()) / np.linalg.det((data_Python >> select( ~ X['price'] )).corr())\n",
    "\n",
    "df_no_of_bedrooms = X1.shape[1]\n",
    "GVIF_no_of_bedrooms_scaled = GVIF_no_of_bedrooms**(1/(2*df_no_of_bedrooms))"
   ]
  },
  {
   "cell_type": "code",
   "execution_count": 429,
   "metadata": {},
   "outputs": [],
   "source": [
    "X1 = data_Python >> select( X['no_of_bathrooms'] )\n",
    "X2 = data_Python >> select( ~ X['no_of_bathrooms'] , ~ X['price'])\n",
    "GVIF_no_of_bathrooms = np.linalg.det(X1.corr()) * np.linalg.det(X2.corr()) / np.linalg.det((data_Python >> select( ~ X['price'] )).corr())\n",
    "\n",
    "df_no_of_bathrooms = X1.shape[1]\n",
    "GVIF_no_of_bathrooms_scaled = GVIF_no_of_bathrooms**(1/(2*df_no_of_bathrooms))"
   ]
  },
  {
   "cell_type": "code",
   "execution_count": 430,
   "metadata": {},
   "outputs": [
    {
     "data": {
      "text/html": [
       "<div>\n",
       "<style scoped>\n",
       "    .dataframe tbody tr th:only-of-type {\n",
       "        vertical-align: middle;\n",
       "    }\n",
       "\n",
       "    .dataframe tbody tr th {\n",
       "        vertical-align: top;\n",
       "    }\n",
       "\n",
       "    .dataframe thead th {\n",
       "        text-align: right;\n",
       "    }\n",
       "</style>\n",
       "<table border=\"1\" class=\"dataframe\">\n",
       "  <thead>\n",
       "    <tr style=\"text-align: right;\">\n",
       "      <th></th>\n",
       "      <th>predictor</th>\n",
       "      <th>GVIF</th>\n",
       "      <th>GVIF^(1/(2*df))</th>\n",
       "      <th>df</th>\n",
       "    </tr>\n",
       "  </thead>\n",
       "  <tbody>\n",
       "    <tr>\n",
       "      <th>0</th>\n",
       "      <td>size_in_m_2</td>\n",
       "      <td>1.080988</td>\n",
       "      <td>1.013064</td>\n",
       "      <td>3</td>\n",
       "    </tr>\n",
       "    <tr>\n",
       "      <th>1</th>\n",
       "      <td>longitude</td>\n",
       "      <td>2.642728</td>\n",
       "      <td>1.625647</td>\n",
       "      <td>1</td>\n",
       "    </tr>\n",
       "    <tr>\n",
       "      <th>2</th>\n",
       "      <td>latitude</td>\n",
       "      <td>1.639554</td>\n",
       "      <td>1.280451</td>\n",
       "      <td>1</td>\n",
       "    </tr>\n",
       "    <tr>\n",
       "      <th>3</th>\n",
       "      <td>no_of_bedrooms</td>\n",
       "      <td>1.667913</td>\n",
       "      <td>1.291477</td>\n",
       "      <td>1</td>\n",
       "    </tr>\n",
       "    <tr>\n",
       "      <th>4</th>\n",
       "      <td>no_of_bathrooms</td>\n",
       "      <td>4.565980</td>\n",
       "      <td>2.136815</td>\n",
       "      <td>1</td>\n",
       "    </tr>\n",
       "    <tr>\n",
       "      <th>5</th>\n",
       "      <td>quality</td>\n",
       "      <td>3.857961</td>\n",
       "      <td>1.964169</td>\n",
       "      <td>1</td>\n",
       "    </tr>\n",
       "  </tbody>\n",
       "</table>\n",
       "</div>"
      ],
      "text/plain": [
       "         predictor      GVIF  GVIF^(1/(2*df))  df\n",
       "0      size_in_m_2  1.080988         1.013064   3\n",
       "1        longitude  2.642728         1.625647   1\n",
       "2         latitude  1.639554         1.280451   1\n",
       "3   no_of_bedrooms  1.667913         1.291477   1\n",
       "4  no_of_bathrooms  4.565980         2.136815   1\n",
       "5          quality  3.857961         1.964169   1"
      ]
     },
     "execution_count": 430,
     "metadata": {},
     "output_type": "execute_result"
    }
   ],
   "source": [
    "a = (data_Python >> select( ~ X.price )).columns\n",
    "b = [GVIF_quality, GVIF_size_in_m_2, GVIF_longitude, GVIF_latitude, GVIF_no_of_bedrooms, GVIF_no_of_bathrooms]\n",
    "c = [GVIF_quality_scaled, GVIF_size_in_m_2_scaled, GVIF_longitude_scaled, GVIF_latitude_scaled, GVIF_no_of_bedrooms_scaled, GVIF_no_of_bathrooms_scaled]\n",
    "d = [df_quality, df_size_in_m_2, df_longitude, df_latitude, df_no_of_bedrooms, df_no_of_bathrooms]\n",
    "GVIF_Python_df = pd.DataFrame({'predictor': a , 'GVIF': b , 'GVIF^(1/(2*df))': c , 'df': d})\n",
    "GVIF_Python_df"
   ]
  },
  {
   "cell_type": "markdown",
   "metadata": {},
   "source": [
    "In this case all the quantitative predictors have GVIF^(1/(2*df)) $< 3.16 $, but GVIF^(1/(2*df)) of $no\\_of\\_bathrooms$ is $2.14 > 2$\n",
    "\n",
    "On the other hand the 4-ary categorical predictor $quality$ has GVIF^(1/(2*df)) $= 1.96 > 1.47$.\n",
    "\n",
    "So using the GVIF method, we can conclude that there is a **high** multicollinearity in the data."
   ]
  },
  {
   "cell_type": "markdown",
   "metadata": {},
   "source": []
  },
  {
   "cell_type": "markdown",
   "metadata": {},
   "source": []
  },
  {
   "cell_type": "markdown",
   "metadata": {},
   "source": [
    "### Checking Error Assumptions <a class=\"anchor\" id=\"60\"></a>"
   ]
  },
  {
   "cell_type": "markdown",
   "metadata": {},
   "source": [
    "- $\\varepsilon_i \\sim N(0,\\sigma) \\hspace{0.4cm} \\forall \\hspace{0.1cm} i=1,...,n $\n",
    "  \n",
    "- $corr(\\varepsilon_i , \\varepsilon_j)=0 \\hspace{0.4cm} \\forall \\hspace{0.1cm} i\\neq j =1,...,n $"
   ]
  },
  {
   "cell_type": "markdown",
   "metadata": {},
   "source": []
  },
  {
   "cell_type": "markdown",
   "metadata": {},
   "source": [
    "#### Checking Error Constant Variance <a class=\"anchor\" id=\"54\"></a>"
   ]
  },
  {
   "cell_type": "markdown",
   "metadata": {},
   "source": [
    "It is not possible to check the assumption of constant variance just by examining\n",
    "the residuals alone, some will be large and some will be small, but this proves nothing. We need to check whether the variance in the residuals is related to some\n",
    "other quantity.\n",
    "\n",
    "The most useful diagnostic is a plot of $\\hat{\\varepsilon}$ vs $\\hat{y}$"
   ]
  },
  {
   "cell_type": "markdown",
   "metadata": {},
   "source": [
    "Interpretation of the graph $\\hat{\\varepsilon}$ vs $\\hat{y}$:\n",
    "\n",
    "- If the dispersion of the points is uniform random $\\Rightarrow$ There is no problem (evidence of constant variance of the error).\n",
    "\n",
    "- If we can see a cone shape at the points $\\Rightarrow$ Problem (evidence of error not constant variance)\n",
    "\n",
    "<br>\n",
    "\n",
    "This plot can also provide evidence of nonlinearity between the response variable and the predictors:\n",
    "\n",
    "- If we can see a non-linear shape at the points $\\Rightarrow$ evidence of non-linearity between the response variable and the predictors"
   ]
  },
  {
   "cell_type": "markdown",
   "metadata": {},
   "source": []
  },
  {
   "cell_type": "markdown",
   "metadata": {},
   "source": [
    "##### Checking Error Constant Variance in R"
   ]
  },
  {
   "cell_type": "code",
   "execution_count": 431,
   "metadata": {},
   "outputs": [
    {
     "data": {
      "image/png": "[encoded data removed]"
     },
     "metadata": {},
     "output_type": "display_data"
    }
   ],
   "source": [
    "%%R\n",
    "\n",
    "ggplot() +\n",
    "geom_point(mapping = aes(x=model_R_1$fitted.values , y = estimated_errors ), color=\"blue\")+\n",
    "geom_hline(yintercept =0 , color=\"red\")"
   ]
  },
  {
   "cell_type": "markdown",
   "metadata": {},
   "source": []
  },
  {
   "cell_type": "markdown",
   "metadata": {},
   "source": [
    "##### Checking Error Constant Variance in Python"
   ]
  },
  {
   "cell_type": "code",
   "execution_count": 432,
   "metadata": {},
   "outputs": [],
   "source": [
    "from plotnine import ggplot, aes, geom_line, geom_point, geom_histogram, geom_bar, geom_boxplot, scale_y_continuous, scale_x_continuous, labs, after_stat,  geom_vline, scale_color_manual, theme_gray, theme_xkcd, scale_color_identity, geom_hline, facet_wrap, scale_fill_discrete, scale_fill_manual,  scale_fill_hue, guides, guide_legend, geom_hline, stat_function "
   ]
  },
  {
   "cell_type": "code",
   "execution_count": 433,
   "metadata": {},
   "outputs": [
    {
     "data": {
      "image/png": "[encoded data removed]",
      "text/plain": [
       "<Figure size 640x480 with 1 Axes>"
      ]
     },
     "metadata": {},
     "output_type": "display_data"
    },
    {
     "data": {
      "text/plain": [
       "<ggplot: (81922571274)>"
      ]
     },
     "execution_count": 433,
     "metadata": {},
     "output_type": "execute_result"
    }
   ],
   "source": [
    "(\n",
    "ggplot()\n",
    "+ geom_point(mapping = aes(x=predictions , y = df_predictions_Python['train_errors'] ), color=\"green\")\n",
    "+ geom_hline(yintercept =0 , color=\"red\")\n",
    "+ labs(x='predictions' , y='estimated errors')\n",
    ")"
   ]
  },
  {
   "cell_type": "markdown",
   "metadata": {},
   "source": [
    "Since we can see a cone shape at the points, we cannot accept the constant error variance assumption $Var(\\varepsilon)=\\sigma^2$."
   ]
  },
  {
   "cell_type": "markdown",
   "metadata": {},
   "source": []
  },
  {
   "cell_type": "markdown",
   "metadata": {},
   "source": [
    "#### Checking Null Error Mean <a class=\"anchor\" id=\"62\"></a>"
   ]
  },
  {
   "cell_type": "markdown",
   "metadata": {},
   "source": [
    "We are going to use the typical t-test to verify this assumption."
   ]
  },
  {
   "cell_type": "markdown",
   "metadata": {},
   "source": [
    "First we compute the  estimated errors mean to get first idea:"
   ]
  },
  {
   "cell_type": "code",
   "execution_count": 434,
   "metadata": {},
   "outputs": [
    {
     "data": {
      "text/plain": [
       "-1.0688943187082846e-07"
      ]
     },
     "execution_count": 434,
     "metadata": {},
     "output_type": "execute_result"
    }
   ],
   "source": [
    "df_predictions_Python['train_errors'].mean()"
   ]
  },
  {
   "cell_type": "markdown",
   "metadata": {},
   "source": []
  },
  {
   "cell_type": "markdown",
   "metadata": {},
   "source": [
    "##### Checking Null Error Mean in R"
   ]
  },
  {
   "cell_type": "code",
   "execution_count": 435,
   "metadata": {},
   "outputs": [
    {
     "name": "stdout",
     "output_type": "stream",
     "text": [
      "\n",
      "\tOne Sample t-test\n",
      "\n",
      "data:  estimated_errors\n",
      "t = -5.1697e-12, df = 1904, p-value = 1\n",
      "alternative hypothesis: true mean is not equal to 0\n",
      "95 percent confidence interval:\n",
      " -71952.49  71952.49\n",
      "sample estimates:\n",
      "    mean of x \n",
      "-1.896638e-07 \n",
      "\n"
     ]
    }
   ],
   "source": [
    "%%R\n",
    "\n",
    "t.test(x=estimated_errors , mu=0)"
   ]
  },
  {
   "cell_type": "markdown",
   "metadata": {},
   "source": []
  },
  {
   "cell_type": "markdown",
   "metadata": {},
   "source": [
    "##### Checking Null Error Mean in Python"
   ]
  },
  {
   "cell_type": "code",
   "execution_count": 436,
   "metadata": {},
   "outputs": [
    {
     "data": {
      "text/html": [
       "<div>\n",
       "<style scoped>\n",
       "    .dataframe tbody tr th:only-of-type {\n",
       "        vertical-align: middle;\n",
       "    }\n",
       "\n",
       "    .dataframe tbody tr th {\n",
       "        vertical-align: top;\n",
       "    }\n",
       "\n",
       "    .dataframe thead th {\n",
       "        text-align: right;\n",
       "    }\n",
       "</style>\n",
       "<table border=\"1\" class=\"dataframe\">\n",
       "  <thead>\n",
       "    <tr style=\"text-align: right;\">\n",
       "      <th></th>\n",
       "      <th>T</th>\n",
       "      <th>dof</th>\n",
       "      <th>alternative</th>\n",
       "      <th>p-val</th>\n",
       "      <th>CI95%</th>\n",
       "      <th>cohen-d</th>\n",
       "      <th>BF10</th>\n",
       "      <th>power</th>\n",
       "    </tr>\n",
       "  </thead>\n",
       "  <tbody>\n",
       "    <tr>\n",
       "      <th>T-test</th>\n",
       "      <td>-2.913488e-12</td>\n",
       "      <td>1904</td>\n",
       "      <td>two-sided</td>\n",
       "      <td>1.0</td>\n",
       "      <td>[-71952.49, 71952.49]</td>\n",
       "      <td>6.675222e-14</td>\n",
       "      <td>0.026</td>\n",
       "      <td>0.05</td>\n",
       "    </tr>\n",
       "  </tbody>\n",
       "</table>\n",
       "</div>"
      ],
      "text/plain": [
       "                   T   dof alternative  p-val                  CI95%  \\\n",
       "T-test -2.913488e-12  1904   two-sided    1.0  [-71952.49, 71952.49]   \n",
       "\n",
       "             cohen-d   BF10  power  \n",
       "T-test  6.675222e-14  0.026   0.05  "
      ]
     },
     "execution_count": 436,
     "metadata": {},
     "output_type": "execute_result"
    }
   ],
   "source": [
    "import pingouin as pg\n",
    "\n",
    "pg.ttest(x= df_predictions_Python['train_errors'] , y=0)"
   ]
  },
  {
   "cell_type": "markdown",
   "metadata": {},
   "source": []
  },
  {
   "cell_type": "markdown",
   "metadata": {},
   "source": []
  },
  {
   "cell_type": "markdown",
   "metadata": {},
   "source": [
    "#### Checking Error Normality <a class=\"anchor\" id=\"63\"></a>"
   ]
  },
  {
   "cell_type": "markdown",
   "metadata": {},
   "source": [
    "First we are going to check the error normality assumption using the histogram method:"
   ]
  },
  {
   "cell_type": "markdown",
   "metadata": {},
   "source": []
  },
  {
   "cell_type": "markdown",
   "metadata": {},
   "source": [
    "##### Checking Error Normality in R"
   ]
  },
  {
   "cell_type": "code",
   "execution_count": 437,
   "metadata": {},
   "outputs": [
    {
     "name": "stderr",
     "output_type": "stream",
     "text": [
      "R[write to console]: `stat_bin()` using `bins = 30`. Pick better value with `binwidth`.\n",
      "\n"
     ]
    },
    {
     "data": {
      "image/png": "[encoded data removed]"
     },
     "metadata": {},
     "output_type": "display_data"
    }
   ],
   "source": [
    "%%R\n",
    "\n",
    "ggplot(data = as.data.frame(estimated_errors) ,\n",
    " mapping = aes(x = estimated_errors)) +\n",
    " geom_histogram(aes(y =..density..), color=\"black\", fill=\"orange\",\n",
    " position = 'identity') +\n",
    " stat_function( fun = dnorm , \n",
    " args = list(mean = mean(estimated_errors), sd = sd(estimated_errors)),\n",
    " lwd = 1.2,  col = 'blue'\n",
    " )"
   ]
  },
  {
   "cell_type": "markdown",
   "metadata": {},
   "source": []
  },
  {
   "cell_type": "markdown",
   "metadata": {},
   "source": [
    "##### Checking Error Normality in Python"
   ]
  },
  {
   "cell_type": "code",
   "execution_count": 438,
   "metadata": {},
   "outputs": [
    {
     "data": {
      "image/png": "[encoded data removed]",
      "text/plain": [
       "<Figure size 640x480 with 1 Axes>"
      ]
     },
     "metadata": {},
     "output_type": "display_data"
    },
    {
     "data": {
      "text/plain": [
       "<ggplot: (81922614441)>"
      ]
     },
     "execution_count": 438,
     "metadata": {},
     "output_type": "execute_result"
    }
   ],
   "source": [
    "import scipy.stats as stats\n",
    "(\n",
    "ggplot(data = df_predictions_Python ,\n",
    " mapping = aes(x = df_predictions_Python['train_errors'])) \n",
    "+ geom_histogram(aes(y = after_stat('density')), color=\"black\", fill=\"pink\", position = 'identity', bins=35) \n",
    "+ stat_function( fun = stats.norm.pdf , args = dict( loc=mean(df_predictions_Python['train_errors']), scale=sd(df_predictions_Python['train_errors'])) , color='blue', size=1 )\n",
    ")"
   ]
  },
  {
   "cell_type": "markdown",
   "metadata": {},
   "source": []
  },
  {
   "cell_type": "markdown",
   "metadata": {},
   "source": [
    "Now we are going to check the error normality assumption using the Shapiro statistical test:"
   ]
  },
  {
   "cell_type": "markdown",
   "metadata": {},
   "source": [
    "##### Checking Error Normality in R"
   ]
  },
  {
   "cell_type": "code",
   "execution_count": 439,
   "metadata": {},
   "outputs": [
    {
     "name": "stdout",
     "output_type": "stream",
     "text": [
      "\n",
      "\tShapiro-Wilk normality test\n",
      "\n",
      "data:  estimated_errors\n",
      "W = 0.79149, p-value < 2.2e-16\n",
      "\n"
     ]
    }
   ],
   "source": [
    "%%R\n",
    "\n",
    "shapiro.test(estimated_errors)"
   ]
  },
  {
   "cell_type": "markdown",
   "metadata": {},
   "source": []
  },
  {
   "cell_type": "markdown",
   "metadata": {},
   "source": [
    "##### Checking Error Normality in Python"
   ]
  },
  {
   "cell_type": "code",
   "execution_count": 440,
   "metadata": {},
   "outputs": [
    {
     "data": {
      "text/plain": [
       "ShapiroResult(statistic=0.7914911508560181, pvalue=4.203895392974451e-44)"
      ]
     },
     "execution_count": 440,
     "metadata": {},
     "output_type": "execute_result"
    }
   ],
   "source": [
    "shapiro_test = stats.shapiro(df_predictions_Python['train_errors'])\n",
    "shapiro_test"
   ]
  },
  {
   "cell_type": "markdown",
   "metadata": {},
   "source": []
  },
  {
   "cell_type": "markdown",
   "metadata": {},
   "source": []
  },
  {
   "cell_type": "markdown",
   "metadata": {},
   "source": [
    "#### Checking Null Error Correlation <a class=\"anchor\" id=\"64\"></a>"
   ]
  },
  {
   "cell_type": "markdown",
   "metadata": {},
   "source": [
    "We are going to check the null error correlation assumption through  the Durban-Watson test."
   ]
  },
  {
   "cell_type": "markdown",
   "metadata": {},
   "source": []
  },
  {
   "cell_type": "markdown",
   "metadata": {},
   "source": [
    "\n",
    "##### Hypothesis:"
   ]
  },
  {
   "cell_type": "markdown",
   "metadata": {},
   "source": [
    "$$H_0: \\hspace{0.1cm} corr\\left(\\hat{\\varepsilon}_{(1)},\\hat{\\varepsilon}_{(2)}\\right) = 0 $$ \n",
    "\n",
    "$$H_1: \\hspace{0.1cm} corr\\left(\\hat{\\varepsilon}_{(1)},\\hat{\\varepsilon}_{(2)}\\right) \\neq 0$$\n"
   ]
  },
  {
   "cell_type": "markdown",
   "metadata": {},
   "source": [
    "Where:\n",
    "\n",
    "$$\\hat{\\varepsilon}_{(1)} = (\\hat{\\varepsilon}_1 , \\hat{\\varepsilon}_2 ,..., \\hat{\\varepsilon}_{n-1})$$\n",
    "\n",
    "$$\\hat{\\varepsilon}_{(2)} = (\\hat{\\varepsilon}_2  ,...,\\hat{\\varepsilon}_{n-1}, \\hat{\\varepsilon}_{n})$$"
   ]
  },
  {
   "cell_type": "markdown",
   "metadata": {},
   "source": []
  },
  {
   "cell_type": "markdown",
   "metadata": {},
   "source": [
    "##### Test Statistic :"
   ]
  },
  {
   "cell_type": "markdown",
   "metadata": {},
   "source": [
    "\\begin{gather*}\n",
    "DW = \\dfrac{\\sum_{i=2}^n (\\hat{\\varepsilon}_i - \\hat{\\varepsilon}_{i-1})^2 }{\\sum_{i=2}^n \\hat{\\varepsilon}_{i}^2 } = \\dfrac{sum\\left( \\hspace{0.1cm}( \\hat{\\varepsilon}_{(2)} - \\hat{\\varepsilon}_{(1)})^2 \\hspace{0.1cm} \\right)}{sum\\left( \\hspace{0.1cm} (\\hat{\\varepsilon}_{(2)})^2 \\hspace{0.1cm} \\right)}\n",
    "\\end{gather*}\n"
   ]
  },
  {
   "cell_type": "markdown",
   "metadata": {},
   "source": [
    "\n",
    "\n",
    "The test statistic is approximately equal to $\\hspace{0.1cm} 2\\cdot (1-r) \\hspace{0.1cm}$ where $r$ is the sample autocorrelation of the residuals. Thus, the test statistic will always be between $0$ and $4$ with the following interpretation:\n",
    "\n",
    "A test statistic of $2$ indicates $no serial correlation$.\n",
    "\n",
    "The closer the test statistics is to $0$, the more evidence of *positive serial correlation*.\n",
    "\n",
    "The closer the test statistics is to $4$, the more evidence of *negative serial correlation*."
   ]
  },
  {
   "cell_type": "markdown",
   "metadata": {},
   "source": []
  },
  {
   "cell_type": "markdown",
   "metadata": {},
   "source": [
    "##### Durban-Watson test in R"
   ]
  },
  {
   "cell_type": "code",
   "execution_count": 441,
   "metadata": {},
   "outputs": [
    {
     "data": {
      "image/png": "[encoded data removed]"
     },
     "metadata": {},
     "output_type": "display_data"
    }
   ],
   "source": [
    "%%R\n",
    "\n",
    "estimated_errors_1 = estimated_errors[-1]\n",
    "estimated_errors_2 = estimated_errors[-length(estimated_errors)]\n",
    "\n",
    "ggplot() +\n",
    "geom_point(mapping = aes(x=estimated_errors_1 , y = estimated_errors_2 ), color=\"blue\")"
   ]
  },
  {
   "cell_type": "markdown",
   "metadata": {},
   "source": []
  },
  {
   "cell_type": "code",
   "execution_count": 442,
   "metadata": {},
   "outputs": [
    {
     "name": "stdout",
     "output_type": "stream",
     "text": [
      "\n",
      "\tDurbin-Watson test\n",
      "\n",
      "data:  price ~ size_in_m_2 + longitude + latitude + no_of_bedrooms +     no_of_bathrooms + quality\n",
      "DW = 1.7158, p-value = 4.52e-10\n",
      "alternative hypothesis: true autocorrelation is not 0\n",
      "\n"
     ]
    }
   ],
   "source": [
    "%%R\n",
    "library(zoo)\n",
    "library(lmtest)\n",
    "\n",
    "dwtest(price ~ size_in_m_2  + longitude + latitude + no_of_bedrooms + no_of_bathrooms + quality , data=data_R, alternative = 'two.sided' )"
   ]
  },
  {
   "cell_type": "markdown",
   "metadata": {},
   "source": []
  },
  {
   "cell_type": "markdown",
   "metadata": {},
   "source": [
    "##### Durban-Watson test in Python"
   ]
  },
  {
   "cell_type": "code",
   "execution_count": 443,
   "metadata": {},
   "outputs": [
    {
     "data": {
      "image/png": "[encoded data removed]",
      "text/plain": [
       "<Figure size 640x480 with 1 Axes>"
      ]
     },
     "metadata": {},
     "output_type": "display_data"
    },
    {
     "data": {
      "text/plain": [
       "<ggplot: (81907408532)>"
      ]
     },
     "execution_count": 443,
     "metadata": {},
     "output_type": "execute_result"
    }
   ],
   "source": [
    "train_errors_1 = df_predictions_Python >> row_slice(list(range(1,len(df_predictions_Python)))) >> select(X['train_errors'])\n",
    "\n",
    "train_errors_2 = df_predictions_Python >> row_slice(list(range(0,len(df_predictions_Python)-1))) >> select(X['train_errors'])\n",
    "train_errors_2['index']=range(1,len(train_errors_2)+1)\n",
    "train_errors_2 = train_errors_2.set_index('index')\n",
    "\n",
    "(\n",
    "ggplot() \n",
    "+ geom_point(mapping = aes(x=train_errors_1 , y = train_errors_2 ), color=\"green\")\n",
    ")"
   ]
  },
  {
   "cell_type": "markdown",
   "metadata": {},
   "source": []
  },
  {
   "cell_type": "code",
   "execution_count": 444,
   "metadata": {},
   "outputs": [
    {
     "data": {
      "text/plain": [
       "1.7158064595327662"
      ]
     },
     "execution_count": 444,
     "metadata": {},
     "output_type": "execute_result"
    }
   ],
   "source": [
    "import statsmodels\n",
    "\n",
    "statsmodels.stats.stattools.durbin_watson(df_predictions_Python['train_errors'], axis=0)"
   ]
  },
  {
   "cell_type": "markdown",
   "metadata": {},
   "source": []
  },
  {
   "cell_type": "markdown",
   "metadata": {},
   "source": [
    "Another alternative in Python that gives us the p-value:"
   ]
  },
  {
   "cell_type": "code",
   "execution_count": 445,
   "metadata": {},
   "outputs": [],
   "source": [
    "# pip install dwtest"
   ]
  },
  {
   "cell_type": "markdown",
   "metadata": {},
   "source": [
    "More information about this Python package here https://github.com/JackywithaWhiteDog/dwtest"
   ]
  },
  {
   "cell_type": "code",
   "execution_count": 446,
   "metadata": {},
   "outputs": [],
   "source": [
    "from dwtest import dwtest"
   ]
  },
  {
   "cell_type": "code",
   "execution_count": 447,
   "metadata": {},
   "outputs": [],
   "source": [
    "statistic, pvalue = dwtest( 'price ~ size_in_m_2  + longitude + latitude + no_of_bedrooms + no_of_bathrooms'  , data_Python)"
   ]
  },
  {
   "cell_type": "code",
   "execution_count": 448,
   "metadata": {},
   "outputs": [
    {
     "data": {
      "text/plain": [
       "(1.720186802122348, 5.373510268400102e-10)"
      ]
     },
     "execution_count": 448,
     "metadata": {},
     "output_type": "execute_result"
    }
   ],
   "source": [
    "statistic, pvalue"
   ]
  },
  {
   "cell_type": "markdown",
   "metadata": {},
   "source": [
    "For any $\\alpha$ we reject the null  error correlation assumption."
   ]
  },
  {
   "cell_type": "markdown",
   "metadata": {},
   "source": []
  }
 ],
 "metadata": {
  "kernelspec": {
   "display_name": "Python 3.9.12",
   "language": "python",
   "name": "python3"
  },
  "language_info": {
   "codemirror_mode": {
    "name": "ipython",
    "version": 3
   },
   "file_extension": ".py",
   "mimetype": "text/x-python",
   "name": "python",
   "nbconvert_exporter": "python",
   "pygments_lexer": "ipython3",
   "version": "3.9.12"
  },
  "orig_nbformat": 4,
  "vscode": {
   "interpreter": {
    "hash": "7631d2f67dc5c0d81c934cd816f64da3a3e19087cae08f194906cf70954a9de3"
   }
  }
 },
 "nbformat": 4,
 "nbformat_minor": 2
}
