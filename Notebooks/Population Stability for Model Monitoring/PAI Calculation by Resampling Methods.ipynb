{
 "cells": [
  {
   "cell_type": "markdown",
   "metadata": {},
   "source": [
    "### Computing PAI with resampling methods:"
   ]
  },
  {
   "cell_type": "markdown",
   "metadata": {},
   "source": [
    "#### In Linear Regression:"
   ]
  },
  {
   "cell_type": "code",
   "execution_count": 1,
   "metadata": {},
   "outputs": [],
   "source": [
    "import numpy as np\n",
    "import pandas as pd"
   ]
  },
  {
   "cell_type": "markdown",
   "metadata": {},
   "source": []
  },
  {
   "cell_type": "markdown",
   "metadata": {},
   "source": [
    "Old Data "
   ]
  },
  {
   "cell_type": "code",
   "execution_count": 2,
   "metadata": {},
   "outputs": [],
   "source": [
    "np.random.seed(123)\n",
    "\n",
    "# Quantitative Response\n",
    "\n",
    "Y_old = np.random.normal(loc=50, scale=10, size=500)\n",
    "\n",
    "# Quantitative variables \n",
    "\n",
    "X1_old = np.random.normal(loc=30, scale=25, size=500)\n",
    " \n",
    "# Binary variables \n",
    "\n",
    "X2_old = np.random.uniform(low=0.0, high=1.0, size=500).round()\n",
    " \n",
    "# Multiclass categorical variables\n",
    "\n",
    "X3_old = np.random.uniform(low=0, high=4, size=500).round()   # categories: 0,1,2,3,4\n",
    " "
   ]
  },
  {
   "cell_type": "markdown",
   "metadata": {},
   "source": []
  },
  {
   "cell_type": "markdown",
   "metadata": {},
   "source": [
    "New Data (with a big change in X1 distribution)"
   ]
  },
  {
   "cell_type": "code",
   "execution_count": 3,
   "metadata": {},
   "outputs": [],
   "source": [
    "np.random.seed(666)\n",
    "\n",
    "# Quantitative Response\n",
    "\n",
    "Y_new = np.random.normal(loc=50, scale=10, size=500)\n",
    "\n",
    "# Quantitative variables \n",
    "\n",
    "X1_new = np.random.normal(loc=15, scale=60, size=500)\n",
    " \n",
    "# Binary variables \n",
    "\n",
    "X2_new = np.random.uniform(low=0.0, high=1.0, size=500).round()\n",
    " \n",
    "# Multiclass categorical variables\n",
    "\n",
    "X3_new = np.random.uniform(low=0, high=4, size=500).round()   # categories: 0,1,2,3,4"
   ]
  },
  {
   "cell_type": "markdown",
   "metadata": {},
   "source": []
  },
  {
   "cell_type": "code",
   "execution_count": 4,
   "metadata": {},
   "outputs": [],
   "source": [
    "df_Old = pd.DataFrame( {\"Y\":Y_old , \"X1\": X1_old , \"X2\": X2_old , \"X3\": X3_old} ) \n",
    "\n",
    "df_New = pd.DataFrame( {\"Y\":Y_new , \"X1\": X1_new , \"X2\": X2_new , \"X3\": X3_new} ) "
   ]
  },
  {
   "cell_type": "markdown",
   "metadata": {},
   "source": []
  },
  {
   "cell_type": "code",
   "execution_count": 7,
   "metadata": {},
   "outputs": [],
   "source": [
    "from plotnine import ggplot, aes, geom_line, geom_point, geom_histogram, geom_bar, geom_boxplot, scale_y_continuous, scale_x_continuous, labs, after_stat,  geom_vline, scale_color_manual, theme_gray, theme_xkcd, scale_color_identity, geom_hline, facet_wrap, scale_fill_discrete, scale_fill_manual,  scale_fill_hue, guides, guide_legend, ggtitle\n",
    "from mizani.formatters import percent_format "
   ]
  },
  {
   "cell_type": "code",
   "execution_count": 5,
   "metadata": {},
   "outputs": [
    {
     "data": {
      "text/html": [
       "<div>\n",
       "<style scoped>\n",
       "    .dataframe tbody tr th:only-of-type {\n",
       "        vertical-align: middle;\n",
       "    }\n",
       "\n",
       "    .dataframe tbody tr th {\n",
       "        vertical-align: top;\n",
       "    }\n",
       "\n",
       "    .dataframe thead th {\n",
       "        text-align: right;\n",
       "    }\n",
       "</style>\n",
       "<table border=\"1\" class=\"dataframe\">\n",
       "  <thead>\n",
       "    <tr style=\"text-align: right;\">\n",
       "      <th></th>\n",
       "      <th>Y</th>\n",
       "      <th>X1</th>\n",
       "      <th>X2</th>\n",
       "      <th>X3</th>\n",
       "      <th>group</th>\n",
       "    </tr>\n",
       "  </thead>\n",
       "  <tbody>\n",
       "    <tr>\n",
       "      <th>0</th>\n",
       "      <td>39.143694</td>\n",
       "      <td>48.800842</td>\n",
       "      <td>1.0</td>\n",
       "      <td>1.0</td>\n",
       "      <td>Old Data</td>\n",
       "    </tr>\n",
       "    <tr>\n",
       "      <th>1</th>\n",
       "      <td>59.973454</td>\n",
       "      <td>31.741019</td>\n",
       "      <td>0.0</td>\n",
       "      <td>3.0</td>\n",
       "      <td>Old Data</td>\n",
       "    </tr>\n",
       "    <tr>\n",
       "      <th>2</th>\n",
       "      <td>52.829785</td>\n",
       "      <td>23.363859</td>\n",
       "      <td>0.0</td>\n",
       "      <td>4.0</td>\n",
       "      <td>Old Data</td>\n",
       "    </tr>\n",
       "    <tr>\n",
       "      <th>3</th>\n",
       "      <td>34.937053</td>\n",
       "      <td>53.239612</td>\n",
       "      <td>1.0</td>\n",
       "      <td>1.0</td>\n",
       "      <td>Old Data</td>\n",
       "    </tr>\n",
       "    <tr>\n",
       "      <th>4</th>\n",
       "      <td>44.213997</td>\n",
       "      <td>61.520532</td>\n",
       "      <td>1.0</td>\n",
       "      <td>3.0</td>\n",
       "      <td>Old Data</td>\n",
       "    </tr>\n",
       "    <tr>\n",
       "      <th>...</th>\n",
       "      <td>...</td>\n",
       "      <td>...</td>\n",
       "      <td>...</td>\n",
       "      <td>...</td>\n",
       "      <td>...</td>\n",
       "    </tr>\n",
       "    <tr>\n",
       "      <th>495</th>\n",
       "      <td>56.756956</td>\n",
       "      <td>12.495333</td>\n",
       "      <td>0.0</td>\n",
       "      <td>3.0</td>\n",
       "      <td>New Dta</td>\n",
       "    </tr>\n",
       "    <tr>\n",
       "      <th>496</th>\n",
       "      <td>36.846327</td>\n",
       "      <td>75.862895</td>\n",
       "      <td>1.0</td>\n",
       "      <td>1.0</td>\n",
       "      <td>New Dta</td>\n",
       "    </tr>\n",
       "    <tr>\n",
       "      <th>497</th>\n",
       "      <td>36.528625</td>\n",
       "      <td>-21.430239</td>\n",
       "      <td>0.0</td>\n",
       "      <td>0.0</td>\n",
       "      <td>New Dta</td>\n",
       "    </tr>\n",
       "    <tr>\n",
       "      <th>498</th>\n",
       "      <td>62.143112</td>\n",
       "      <td>-56.088634</td>\n",
       "      <td>0.0</td>\n",
       "      <td>2.0</td>\n",
       "      <td>New Dta</td>\n",
       "    </tr>\n",
       "    <tr>\n",
       "      <th>499</th>\n",
       "      <td>53.433602</td>\n",
       "      <td>10.075296</td>\n",
       "      <td>0.0</td>\n",
       "      <td>3.0</td>\n",
       "      <td>New Dta</td>\n",
       "    </tr>\n",
       "  </tbody>\n",
       "</table>\n",
       "<p>1000 rows × 5 columns</p>\n",
       "</div>"
      ],
      "text/plain": [
       "             Y         X1   X2   X3     group\n",
       "0    39.143694  48.800842  1.0  1.0  Old Data\n",
       "1    59.973454  31.741019  0.0  3.0  Old Data\n",
       "2    52.829785  23.363859  0.0  4.0  Old Data\n",
       "3    34.937053  53.239612  1.0  1.0  Old Data\n",
       "4    44.213997  61.520532  1.0  3.0  Old Data\n",
       "..         ...        ...  ...  ...       ...\n",
       "495  56.756956  12.495333  0.0  3.0   New Dta\n",
       "496  36.846327  75.862895  1.0  1.0   New Dta\n",
       "497  36.528625 -21.430239  0.0  0.0   New Dta\n",
       "498  62.143112 -56.088634  0.0  2.0   New Dta\n",
       "499  53.433602  10.075296  0.0  3.0   New Dta\n",
       "\n",
       "[1000 rows x 5 columns]"
      ]
     },
     "execution_count": 5,
     "metadata": {},
     "output_type": "execute_result"
    }
   ],
   "source": [
    "import array as arr\n",
    "\n",
    "df_Old_New = pd.concat([df_Old , df_New])\n",
    "\n",
    "repeat_Old = ['Old Data']*len(df_Old)\n",
    "\n",
    "repeat_New = ['New Dta']*len(df_New)\n",
    "\n",
    "df_repeat_New = pd.DataFrame( {\"group\": repeat_New} ) \n",
    "\n",
    "df_repeat_Old = pd.DataFrame( {\"group\": repeat_Old} ) \n",
    "\n",
    "groups = pd.concat([df_repeat_Old , df_repeat_New])\n",
    "\n",
    "df_Old_New_groups = pd.concat([df_Old_New , groups], axis=1 ) \n",
    "\n",
    "df_Old_New_groups"
   ]
  },
  {
   "cell_type": "code",
   "execution_count": 15,
   "metadata": {},
   "outputs": [
    {
     "data": {
      "image/png": "[encoded data removed]",
      "text/plain": [
       "<Figure size 640x480 with 2 Axes>"
      ]
     },
     "metadata": {},
     "output_type": "display_data"
    },
    {
     "data": {
      "text/plain": [
       "<ggplot: (144229958650)>"
      ]
     },
     "execution_count": 15,
     "metadata": {},
     "output_type": "execute_result"
    }
   ],
   "source": [
    "(\n",
    "ggplot( df_Old_New_groups )\n",
    "+  aes(x='X1' , y =  after_stat('width*density'))\n",
    "+ geom_histogram(fill=\"red\", color=\"black\", bins = 25)\n",
    "+  labs(x = \"X1\", y = \"Relative Frequency\")\n",
    "+ scale_x_continuous( breaks = range(int(df_Old_New_groups['X1'].min()) , int(df_Old_New_groups['X1'].max()) , 50) ) \n",
    "+ scale_y_continuous( breaks = np.arange(0, 0.5, 0.02) )\n",
    "+ facet_wrap('group')\n",
    ")"
   ]
  },
  {
   "cell_type": "markdown",
   "metadata": {},
   "source": []
  },
  {
   "cell_type": "markdown",
   "metadata": {},
   "source": [
    "We are going to consider the following definition of PAI (instead of use the variance, we will use the standard deviation. if we would consider the PAI definition with the variance, the process to compute it would have been very similar)"
   ]
  },
  {
   "cell_type": "markdown",
   "metadata": {},
   "source": [
    "Where:\n",
    "\n",
    "The numerator is computing by resampling methods using the model trained with the Old Data (for the response and the predictors) but predicting the response variable using the New Data for the predictors.\n",
    "\n",
    "The denominator is computing by resampling methods using the model trained Old Data (for the response and the predictors) and also predicting the response variable using the Old Data for the predictors."
   ]
  },
  {
   "cell_type": "markdown",
   "metadata": {},
   "source": []
  },
  {
   "cell_type": "markdown",
   "metadata": {},
   "source": [
    "$$ \n",
    "\n",
    "PAI = \\dfrac{\\dfrac{1}{N} \\sum_{i \\in NewData} \\widehat{Var}(\\hat{y}_i)}{\\dfrac{1}{n} \\sum_{i \\in OldData} \\widehat{Var}(\\hat{y}_i)}  \n",
    "\n",
    "$$"
   ]
  },
  {
   "cell_type": "markdown",
   "metadata": {},
   "source": [
    "So, PAI is the quotient between the mean variance of the response predictions, using the model trained with the Old data but using the New data for the predictors to get the response predictions and the mean variance of the response predictions, using the model trained with the Old data and also using the Old data for the predictors to get the response predictions"
   ]
  },
  {
   "cell_type": "markdown",
   "metadata": {},
   "source": []
  },
  {
   "cell_type": "code",
   "execution_count": 16,
   "metadata": {},
   "outputs": [],
   "source": [
    "def varcharProcessing(X, varchar_process = \"dummy_dropfirst\"):\n",
    "    \n",
    "    dtypes = X.dtypes\n",
    "\n",
    "    if varchar_process == \"drop\":   \n",
    "        X = X.drop(columns = dtypes[dtypes == np.object].index.tolist())\n",
    "\n",
    "    elif varchar_process == \"dummy\":\n",
    "        X = pd.get_dummies(X,drop_first=False)\n",
    "\n",
    "    elif varchar_process == \"dummy_dropfirst\":\n",
    "        X = pd.get_dummies(X,drop_first=True)\n",
    "\n",
    "    else: \n",
    "        X = pd.get_dummies(X,drop_first=True)\n",
    "    \n",
    "    X[\"intercept\"] = 1\n",
    "    cols = X.columns.tolist()\n",
    "    cols = cols[-1:] + cols[:-1]\n",
    "    X = X[cols]\n",
    "    \n",
    "    return X"
   ]
  },
  {
   "cell_type": "code",
   "execution_count": 17,
   "metadata": {},
   "outputs": [],
   "source": [
    "df_Old['X2'] = df_Old['X2'].astype('category')\n",
    "df_Old['X3'] = df_Old['X3'].astype('category')"
   ]
  },
  {
   "cell_type": "code",
   "execution_count": 20,
   "metadata": {},
   "outputs": [
    {
     "data": {
      "text/html": [
       "<div>\n",
       "<style scoped>\n",
       "    .dataframe tbody tr th:only-of-type {\n",
       "        vertical-align: middle;\n",
       "    }\n",
       "\n",
       "    .dataframe tbody tr th {\n",
       "        vertical-align: top;\n",
       "    }\n",
       "\n",
       "    .dataframe thead th {\n",
       "        text-align: right;\n",
       "    }\n",
       "</style>\n",
       "<table border=\"1\" class=\"dataframe\">\n",
       "  <thead>\n",
       "    <tr style=\"text-align: right;\">\n",
       "      <th></th>\n",
       "      <th>Y</th>\n",
       "      <th>X1</th>\n",
       "      <th>X2</th>\n",
       "      <th>X3</th>\n",
       "    </tr>\n",
       "  </thead>\n",
       "  <tbody>\n",
       "    <tr>\n",
       "      <th>0</th>\n",
       "      <td>39.143694</td>\n",
       "      <td>48.800842</td>\n",
       "      <td>1.0</td>\n",
       "      <td>1.0</td>\n",
       "    </tr>\n",
       "    <tr>\n",
       "      <th>1</th>\n",
       "      <td>59.973454</td>\n",
       "      <td>31.741019</td>\n",
       "      <td>0.0</td>\n",
       "      <td>3.0</td>\n",
       "    </tr>\n",
       "    <tr>\n",
       "      <th>2</th>\n",
       "      <td>52.829785</td>\n",
       "      <td>23.363859</td>\n",
       "      <td>0.0</td>\n",
       "      <td>4.0</td>\n",
       "    </tr>\n",
       "    <tr>\n",
       "      <th>3</th>\n",
       "      <td>34.937053</td>\n",
       "      <td>53.239612</td>\n",
       "      <td>1.0</td>\n",
       "      <td>1.0</td>\n",
       "    </tr>\n",
       "    <tr>\n",
       "      <th>4</th>\n",
       "      <td>44.213997</td>\n",
       "      <td>61.520532</td>\n",
       "      <td>1.0</td>\n",
       "      <td>3.0</td>\n",
       "    </tr>\n",
       "    <tr>\n",
       "      <th>...</th>\n",
       "      <td>...</td>\n",
       "      <td>...</td>\n",
       "      <td>...</td>\n",
       "      <td>...</td>\n",
       "    </tr>\n",
       "    <tr>\n",
       "      <th>495</th>\n",
       "      <td>55.678801</td>\n",
       "      <td>45.869078</td>\n",
       "      <td>1.0</td>\n",
       "      <td>2.0</td>\n",
       "    </tr>\n",
       "    <tr>\n",
       "      <th>496</th>\n",
       "      <td>55.129828</td>\n",
       "      <td>56.747965</td>\n",
       "      <td>1.0</td>\n",
       "      <td>2.0</td>\n",
       "    </tr>\n",
       "    <tr>\n",
       "      <th>497</th>\n",
       "      <td>49.730774</td>\n",
       "      <td>7.266825</td>\n",
       "      <td>1.0</td>\n",
       "      <td>0.0</td>\n",
       "    </tr>\n",
       "    <tr>\n",
       "      <th>498</th>\n",
       "      <td>53.115815</td>\n",
       "      <td>41.756594</td>\n",
       "      <td>0.0</td>\n",
       "      <td>1.0</td>\n",
       "    </tr>\n",
       "    <tr>\n",
       "      <th>499</th>\n",
       "      <td>48.579493</td>\n",
       "      <td>2.214239</td>\n",
       "      <td>1.0</td>\n",
       "      <td>3.0</td>\n",
       "    </tr>\n",
       "  </tbody>\n",
       "</table>\n",
       "<p>500 rows × 4 columns</p>\n",
       "</div>"
      ],
      "text/plain": [
       "             Y         X1   X2   X3\n",
       "0    39.143694  48.800842  1.0  1.0\n",
       "1    59.973454  31.741019  0.0  3.0\n",
       "2    52.829785  23.363859  0.0  4.0\n",
       "3    34.937053  53.239612  1.0  1.0\n",
       "4    44.213997  61.520532  1.0  3.0\n",
       "..         ...        ...  ...  ...\n",
       "495  55.678801  45.869078  1.0  2.0\n",
       "496  55.129828  56.747965  1.0  2.0\n",
       "497  49.730774   7.266825  1.0  0.0\n",
       "498  53.115815  41.756594  0.0  1.0\n",
       "499  48.579493   2.214239  1.0  3.0\n",
       "\n",
       "[500 rows x 4 columns]"
      ]
     },
     "execution_count": 20,
     "metadata": {},
     "output_type": "execute_result"
    }
   ],
   "source": [
    "df_Old"
   ]
  },
  {
   "cell_type": "markdown",
   "metadata": {},
   "source": []
  },
  {
   "cell_type": "code",
   "execution_count": 18,
   "metadata": {},
   "outputs": [],
   "source": [
    "from sklearn.linear_model import LinearRegression"
   ]
  },
  {
   "cell_type": "code",
   "execution_count": 22,
   "metadata": {},
   "outputs": [],
   "source": [
    "B=100\n",
    "\n",
    "y_predictions_Old_Data = np.zeros((B , len(df_Old)))\n",
    "\n",
    "for i in range(0, B):\n",
    "\n",
    "    df_Old_BOOT_SAMPLE = df_Old.sample( n=len(df_Old) , random_state=i , replace=True )    # i-th boot sample\n",
    "\n",
    "    X_old_Boot_Sample = df_Old_BOOT_SAMPLE[['X1', 'X2', 'X3']]\n",
    "\n",
    "    y_old_Boot_Sample = df_Old_BOOT_SAMPLE['Y']\n",
    "\n",
    "    X_old_Boot_Sample = varcharProcessing(X_old_Boot_Sample, varchar_process = \"dummy_dropfirst\")\n",
    "\n",
    "    # We train the model with i-th boot sample of the Old Data:\n",
    "\n",
    "    Model_train_Old_data = LinearRegression().fit(X_old_Boot_Sample, y_old_Boot_Sample)\n",
    "\n",
    "    # y predictions using Model_train_Old_data with the original Old Data for the predictors \n",
    "\n",
    "    X_old = df_Old[['X1', 'X2', 'X3']] \n",
    "\n",
    "    X_old = varcharProcessing(X_old, varchar_process = \"dummy_dropfirst\")\n",
    "    \n",
    "    # La idea es que con cada iteracion el modelo cambia (los parametros) ya que ha sido entrenado con diferentes data set (las muestras bootstrap)\n",
    "    # Pero las predicciones se hacen usando siempre el mismo data set (Old Data), para asi asegurar que \\hat{y}_i es siempre la prediccion de la respuesta\n",
    "    # para el i-esimo individuo (cambiará porque al re-entrenar el modelo con las distintas muestras boot cambian los parametros de este, pero no cambia\n",
    "    # el vector x_i de valores de los predictores del individuo i, con los que tambien se genera la prediccion)\n",
    "    \n",
    "    # Por tanto si hubiese mucha variabilidad entre los valores obtenidos de \\hat{y}_i = \\hat{\\beta} x_i esto se deberia no a cambios en x_i (puesto que \n",
    "    # en este programa no cambia), si no a cambios en \\hat{\\beta} debidos a las diferentes muestras boot usadas para entrenar el modelo.\n",
    "    # Si en lugar del modelo de regresion lineal multiple usasemos otro de la misma indole (basicamente un modelo que pueda ser entrenado con unos datos\n",
    "    # y pueda realizar predicciones sobre una respuesta usando otros datos), la idea seria la misma. \n",
    "    \n",
    "\n",
    "    y_predictions_Old_Data[i, :] = Model_train_Old_data.predict(X_old)    "
   ]
  },
  {
   "cell_type": "markdown",
   "metadata": {},
   "source": []
  },
  {
   "cell_type": "markdown",
   "metadata": {},
   "source": [
    "The $(k , r)$ element of the $nxB$ matrix `y_predictions_Old_Data` is $\\widehat{y_k}$ (the $Y$ estimation for the $k$-th individual of the sample) when the model is trained with the $r$-th boot sample of  `Old_Data_Set` \n",
    "\n",
    "Where: \n",
    "\n",
    "$n =$ len(Old\\_Data\\_Set)\n",
    "\n",
    "$B=$ nº of boot samples"
   ]
  },
  {
   "cell_type": "markdown",
   "metadata": {},
   "source": []
  },
  {
   "cell_type": "code",
   "execution_count": 23,
   "metadata": {},
   "outputs": [
    {
     "data": {
      "text/plain": [
       "array([[49.42508598, 50.11472721, 48.97935105, ..., 50.27502977,\n",
       "        51.17601889, 47.40202062],\n",
       "       [48.87265439, 50.14696569, 49.86794534, ..., 49.2737149 ,\n",
       "        49.40472179, 49.47626932],\n",
       "       [48.66018825, 50.95861995, 48.82043962, ..., 50.59214347,\n",
       "        48.66699903, 49.84584848],\n",
       "       ...,\n",
       "       [49.19061918, 51.17108553, 50.27997571, ..., 49.4269939 ,\n",
       "        49.36788126, 51.11558309],\n",
       "       [48.43534486, 50.99945593, 50.51160695, ..., 50.99576546,\n",
       "        47.97549545, 51.38434772],\n",
       "       [49.00485734, 50.35848299, 50.47602223, ..., 49.57213947,\n",
       "        50.16560803, 49.00704667]])"
      ]
     },
     "execution_count": 23,
     "metadata": {},
     "output_type": "execute_result"
    }
   ],
   "source": [
    "y_predictions_Old_Data "
   ]
  },
  {
   "cell_type": "markdown",
   "metadata": {},
   "source": []
  },
  {
   "cell_type": "markdown",
   "metadata": {},
   "source": [
    "We compute the standard deviation of each column of the matrix , and we get an estimation of $Var(\\hat{y_i})$ for $i=1,...,n$:"
   ]
  },
  {
   "cell_type": "markdown",
   "metadata": {},
   "source": [
    "So, the i-th value of the following vector is $$\\widehat{Var}(\\hat{y_i})$$"
   ]
  },
  {
   "cell_type": "code",
   "execution_count": 17,
   "metadata": {},
   "outputs": [
    {
     "data": {
      "text/plain": [
       "array([2.3736694 , 1.83531851, 1.49999452, 2.02032802, 2.03471412,\n",
       "       2.59662433, 2.32653866, 2.10161238, 2.51028022, 2.48036944,\n",
       "       1.62799249, 1.81614304, 2.08080234, 2.46520527, 1.90376617,\n",
       "       1.39392336, 2.15432888, 2.81813501, 1.87711112, 1.85249005,\n",
       "       1.52218726, 2.01087683, 2.40951067, 2.01183162, 1.66672321,\n",
       "       1.94795425, 1.9963901 , 2.14494738, 2.13831145, 2.2681182 ,\n",
       "       1.93516707, 2.03019929, 1.86845261, 1.88852273, 1.72905494,\n",
       "       2.29470579, 2.23117035, 2.21600616, 2.52484136, 2.00556638,\n",
       "       2.22137462, 1.90636041, 1.95191852, 2.20370171, 1.99852729,\n",
       "       2.45884646, 1.65150188, 1.86239492, 2.05955444, 2.08133178,\n",
       "       2.09107018, 2.09175392, 2.06124553, 2.37485167, 1.88766883,\n",
       "       2.49074997, 2.03945508, 2.0099999 , 2.41058172, 2.5622215 ,\n",
       "       2.13638402, 1.41088064, 1.94105678, 2.08061339, 2.22737029,\n",
       "       1.7952498 , 2.36554675, 1.88416718, 2.11025968, 2.34593621,\n",
       "       2.43984327, 2.30048053, 1.673033  , 2.0588727 , 1.88850036,\n",
       "       1.84127261, 1.79411597, 2.04758911, 1.44696274, 2.19625116,\n",
       "       2.15356721, 2.43663391, 1.84033922, 2.06567795, 1.90737313,\n",
       "       2.16427552, 2.0374608 , 2.13522344, 2.32175074, 1.57980151,\n",
       "       1.72416516, 2.01295333, 2.30454453, 2.15839882, 2.03820604,\n",
       "       2.28739972, 1.59712926, 2.37949883, 2.34071099, 1.86147695,\n",
       "       2.12172721, 2.14539257, 1.94091567, 1.78402293, 2.46771354,\n",
       "       1.99270509, 1.53240014, 2.33558246, 2.07521755, 2.55004932,\n",
       "       1.65392279, 2.12119825, 2.28159141, 1.65037548, 2.31523818,\n",
       "       2.13680489, 1.87511976, 1.75703361, 2.0454583 , 1.53014661,\n",
       "       2.13877468, 2.54344998, 1.58554634, 2.33854072, 1.67445219,\n",
       "       2.02464584, 2.3964662 , 2.05904698, 2.08089888, 2.44399203,\n",
       "       2.61004032, 1.50477361, 2.53486839, 2.53077422, 2.13594314,\n",
       "       2.23053751, 1.92258065, 1.65479316, 2.43723677, 1.76171786,\n",
       "       1.87181612, 2.85410433, 1.80040757, 1.9774813 , 2.50829495,\n",
       "       1.82073469, 1.35377844, 1.64070325, 1.9955039 , 2.14942544,\n",
       "       1.9044506 , 2.33536142, 1.99318704, 2.0761117 , 1.76030416,\n",
       "       2.22150564, 1.70504076, 2.62562896, 1.50452379, 1.75079702,\n",
       "       2.19909294, 2.03393218, 2.23558377, 2.44166098, 2.21683168,\n",
       "       2.11363514, 2.25179509, 2.10235741, 1.82524657, 2.14479637,\n",
       "       2.06238252, 1.99094124, 2.27144346, 1.93958067, 2.04749002,\n",
       "       1.92035156, 2.04206279, 2.41948644, 1.92003609, 2.12542531,\n",
       "       2.04362215, 2.13274738, 1.94066355, 2.28056378, 2.20246062,\n",
       "       2.09574509, 2.14728063, 1.79952586, 1.90968647, 2.30099991,\n",
       "       2.08461461, 2.06745162, 1.70799634, 1.58290215, 2.16830128,\n",
       "       2.71768198, 1.88706053, 1.97205293, 1.54657729, 1.99446846,\n",
       "       2.26345717, 1.82202836, 1.89404385, 1.87438696, 2.09730691,\n",
       "       2.34628035, 2.47698091, 2.0823044 , 2.27619031, 2.36119729,\n",
       "       2.13013124, 1.81366296, 1.57515908, 2.38465154, 1.99567066,\n",
       "       1.89722962, 1.99436165, 1.98936705, 1.75289221, 1.69596951,\n",
       "       1.92087342, 1.44895286, 2.29045143, 1.4558231 , 2.22876575,\n",
       "       2.2043377 , 1.91871643, 1.84483136, 2.54140936, 1.70117437,\n",
       "       2.05965361, 1.51705794, 1.81781142, 2.0291577 , 1.80783854,\n",
       "       2.0138298 , 1.980037  , 1.85588429, 1.93060558, 1.34773886,\n",
       "       1.91447034, 1.75978513, 1.82873048, 2.08978356, 1.26643026,\n",
       "       2.48213802, 1.7683624 , 2.40895928, 2.62557341, 1.81964648,\n",
       "       1.84348552, 2.43502039, 1.997738  , 1.98100989, 1.91718359,\n",
       "       1.79334553, 1.93679284, 1.80742317, 1.74573569, 1.99522728,\n",
       "       1.9001478 , 2.27293834, 1.98647476, 1.8150405 , 1.90720433,\n",
       "       2.94119796, 2.17876897, 1.78138715, 1.67709711, 2.02725868,\n",
       "       2.44678822, 2.03694414, 2.45989757, 1.74778493, 2.2518794 ,\n",
       "       1.4898767 , 2.01469702, 2.38008713, 2.07756995, 2.26563375,\n",
       "       2.12764036, 1.8845882 , 1.97192778, 2.30337725, 2.10122967,\n",
       "       2.03942583, 2.14544503, 1.73591251, 2.20886238, 1.9728476 ,\n",
       "       1.7450414 , 1.56217245, 2.14676333, 1.79893176, 2.19542478,\n",
       "       2.6825844 , 1.79935841, 2.17114618, 1.46349292, 1.65724671,\n",
       "       2.16626081, 2.09234108, 1.93827301, 1.96406104, 2.37485225,\n",
       "       1.9537505 , 2.00596074, 2.16019626, 2.38724097, 2.22956641,\n",
       "       2.26797791, 2.50453138, 1.91770088, 1.78979546, 1.50465685,\n",
       "       1.87395415, 1.97592566, 2.48935403, 2.26473888, 1.63286279,\n",
       "       2.21744957, 2.13937929, 2.06175399, 2.01967067, 2.06383905,\n",
       "       2.25066181, 2.14990025, 2.19456881, 2.46169743, 2.41642957,\n",
       "       2.20500691, 2.32417108, 2.23428504, 1.95356526, 1.70782296,\n",
       "       2.67923403, 2.14299365, 2.00925918, 1.73751139, 2.13069998,\n",
       "       2.64781339, 2.06361869, 1.72032094, 1.74286309, 1.69799942,\n",
       "       1.95868322, 2.53519862, 2.13479637, 1.95793641, 2.12800488,\n",
       "       2.01263571, 2.10727252, 1.91302864, 1.83486435, 2.16943251,\n",
       "       2.14040675, 2.3763879 , 2.48511886, 1.89110727, 2.40598257,\n",
       "       1.91144116, 2.47957096, 1.7461907 , 1.8994968 , 2.03663375,\n",
       "       2.06548666, 2.39147523, 2.13028001, 1.9895038 , 2.11336714,\n",
       "       2.06628776, 1.67736474, 1.6982976 , 2.23559273, 1.45225013,\n",
       "       2.05293631, 2.09933561, 2.00132161, 2.02721961, 1.98032174,\n",
       "       1.7617149 , 2.26029724, 2.00410287, 1.99882748, 1.82394422,\n",
       "       1.87950783, 2.55704616, 2.07020351, 1.76886125, 1.74954093,\n",
       "       2.69517098, 2.03615693, 2.60928485, 2.28406125, 2.17860311,\n",
       "       2.11681652, 1.90374738, 1.90010615, 2.28947187, 1.67149551,\n",
       "       1.86005984, 1.69373367, 2.15954387, 1.66653857, 2.0549499 ,\n",
       "       2.0648361 , 2.6528081 , 1.62746167, 2.04650615, 1.76701236,\n",
       "       1.95427137, 1.83815072, 1.29638993, 1.67176704, 2.18433503,\n",
       "       3.07357893, 2.02822515, 2.10611903, 2.28984108, 1.97791392,\n",
       "       1.87486014, 1.69433803, 2.56305081, 2.08959835, 1.87512355,\n",
       "       1.93869501, 2.15874497, 2.09769598, 1.80132271, 2.51913779,\n",
       "       1.92941412, 1.73694928, 2.0107068 , 2.29794933, 1.93119752,\n",
       "       1.45788239, 2.20500358, 1.89032568, 2.29115143, 2.23884199,\n",
       "       1.74264001, 2.73923327, 2.68588831, 1.74000188, 1.78868645,\n",
       "       2.37355951, 2.20379106, 2.02378358, 2.40677578, 1.98724561,\n",
       "       2.236324  , 2.34800342, 1.89604148, 1.97626666, 2.30193197,\n",
       "       2.36817312, 2.19185091, 2.10060257, 2.19113991, 1.93710022,\n",
       "       2.01165533, 1.94384554, 2.80405332, 2.24648819, 2.01963755,\n",
       "       1.88669824, 1.92848419, 2.22336388, 2.01584707, 1.92979416,\n",
       "       1.52671847, 2.59624977, 1.98359465, 1.94686938, 1.74162761,\n",
       "       2.44356091, 2.19694542, 1.94772047, 2.2195643 , 2.04941136,\n",
       "       2.17055792, 1.99614261, 1.94694232, 2.23885179, 2.14774963,\n",
       "       2.06236136, 1.78791691, 1.59434478, 2.37666278, 2.64634448,\n",
       "       2.05839346, 2.10317574, 1.97646033, 2.19247227, 1.92437924,\n",
       "       2.06393185, 2.07380102, 2.57959118, 1.93219581, 2.48894233])"
      ]
     },
     "execution_count": 17,
     "metadata": {},
     "output_type": "execute_result"
    }
   ],
   "source": [
    " # compute the variance by cols in an array\n",
    " \n",
    "y_predictions_Old_Data.var(axis=0) "
   ]
  },
  {
   "cell_type": "code",
   "execution_count": 18,
   "metadata": {},
   "outputs": [
    {
     "data": {
      "text/plain": [
       "500"
      ]
     },
     "execution_count": 18,
     "metadata": {},
     "output_type": "execute_result"
    }
   ],
   "source": [
    "len(y_predictions_Old_Data.var(axis=0))\n"
   ]
  },
  {
   "cell_type": "markdown",
   "metadata": {},
   "source": []
  },
  {
   "cell_type": "markdown",
   "metadata": {},
   "source": [
    "Now, we compute the mean of the previous vector:\n"
   ]
  },
  {
   "cell_type": "markdown",
   "metadata": {},
   "source": [
    "$$ \\dfrac{1}{n} \\cdot \\sum_{i=1,...,n} \\widehat{Var}(\\hat{y_i})$$\n"
   ]
  },
  {
   "cell_type": "code",
   "execution_count": 24,
   "metadata": {},
   "outputs": [
    {
     "data": {
      "text/plain": [
       "1.3526733933331723"
      ]
     },
     "execution_count": 24,
     "metadata": {},
     "output_type": "execute_result"
    }
   ],
   "source": [
    "y_predictions_Old_Data.var(axis=0).mean()  \n"
   ]
  },
  {
   "cell_type": "code",
   "execution_count": 25,
   "metadata": {},
   "outputs": [],
   "source": [
    "PAI_denominator = y_predictions_Old_Data.var(axis=0).mean()  \n"
   ]
  },
  {
   "cell_type": "code",
   "execution_count": 26,
   "metadata": {},
   "outputs": [
    {
     "data": {
      "text/plain": [
       "1.3526733933331723"
      ]
     },
     "execution_count": 26,
     "metadata": {},
     "output_type": "execute_result"
    }
   ],
   "source": [
    "PAI_denominator"
   ]
  },
  {
   "cell_type": "markdown",
   "metadata": {},
   "source": []
  },
  {
   "cell_type": "markdown",
   "metadata": {},
   "source": [
    "We repeat the previous process but now we get the response predictions for de predictors of the New_Data_Set (this is so important, taking into a count the PAI definitions)."
   ]
  },
  {
   "cell_type": "code",
   "execution_count": 27,
   "metadata": {},
   "outputs": [],
   "source": [
    "df_New['X2'] = df_New['X2'].astype('category')\n",
    "df_New['X3'] = df_New['X3'].astype('category')"
   ]
  },
  {
   "cell_type": "code",
   "execution_count": 28,
   "metadata": {},
   "outputs": [],
   "source": [
    "B=100\n",
    "\n",
    "y_predictions_New_Data = np.zeros((B , len(df_New)))\n",
    "\n",
    "for i in range(0, B):\n",
    "\n",
    "    # i-th boot sample of the Old Data\n",
    "\n",
    "    df_Old_BOOT_SAMPLE = df_Old.sample( n=len(df_Old) , random_state=i , replace=True ) \n",
    " \n",
    "\n",
    "    \n",
    "    X_old_Boot_Sample = df_Old_BOOT_SAMPLE[['X1', 'X2', 'X3']]  \n",
    "\n",
    "    y_old_Boot_Sample =  df_Old_BOOT_SAMPLE['Y']\n",
    "\n",
    "    X_old_Boot_Sample = varcharProcessing(X_old_Boot_Sample, varchar_process = \"dummy_dropfirst\")\n",
    "\n",
    "    \n",
    "\n",
    "    X_new = df_New[['X1', 'X2', 'X3']]\n",
    "\n",
    "    y_new = df_New['Y']\n",
    "\n",
    "    X_new = varcharProcessing(X_new, varchar_process = \"dummy_dropfirst\") \n",
    "\n",
    "\n",
    "    Model_Old_Boot_Sample = LinearRegression().fit(X_old_Boot_Sample, y_old_Boot_Sample)\n",
    "\n",
    "    \n",
    "    # y predictions for the New Data using the model trained with the Old Data Boot Sample\n",
    "    # For this step with sk-learn is necessary X_new (test_set) columns have the same name as X_old (train set) columns\n",
    "\n",
    "    y_predictions_New_Data[i, :] = Model_Old_Boot_Sample.predict(X_new)    "
   ]
  },
  {
   "cell_type": "code",
   "execution_count": 29,
   "metadata": {},
   "outputs": [],
   "source": [
    "PAI_numerator = y_predictions_New_Data.var(axis=0).mean()  "
   ]
  },
  {
   "cell_type": "markdown",
   "metadata": {},
   "source": []
  },
  {
   "cell_type": "code",
   "execution_count": 30,
   "metadata": {},
   "outputs": [
    {
     "data": {
      "text/plain": [
       "2.406479599837219"
      ]
     },
     "execution_count": 30,
     "metadata": {},
     "output_type": "execute_result"
    }
   ],
   "source": [
    "PAI_numerator"
   ]
  },
  {
   "cell_type": "code",
   "execution_count": 31,
   "metadata": {},
   "outputs": [
    {
     "data": {
      "text/plain": [
       "1.3526733933331723"
      ]
     },
     "execution_count": 31,
     "metadata": {},
     "output_type": "execute_result"
    }
   ],
   "source": [
    "PAI_denominator"
   ]
  },
  {
   "cell_type": "code",
   "execution_count": 32,
   "metadata": {},
   "outputs": [
    {
     "data": {
      "text/plain": [
       "1.7790544352375588"
      ]
     },
     "execution_count": 32,
     "metadata": {},
     "output_type": "execute_result"
    }
   ],
   "source": [
    "PAI = PAI_numerator / PAI_denominator\n",
    "\n",
    "PAI"
   ]
  },
  {
   "cell_type": "markdown",
   "metadata": {},
   "source": [
    "Remember:\n",
    "\n",
    "$$\n",
    "\n",
    "PAI = \\dfrac{\\dfrac{1}{N} \\sum_{i \\in NewData} \\widehat{Var}(\\hat{y}_i)}{\\dfrac{1}{n} \\sum_{i \\in OldData} \\widehat{Var}(\\hat{y}_i)}  \n",
    "\n",
    "$$ \n"
   ]
  },
  {
   "cell_type": "markdown",
   "metadata": {},
   "source": [
    "Then, in mean, the variance of the response predictions using the New Data Set is 1.78 times greater than the variance of the response predictions using the Old Data Set.\n",
    "\n",
    "Following the interpretation \"values less than 1.1 indicate no significant deterioration; values from 1.1 to 1.5 indicate a deterioration requiring further investigation, values exceeding 1.5 indicate the predictive\n",
    "accuracy of the model has deteriorated significantly\" exposed in the paper `The Population Accuracy Index: A New Measure of\n",
    "Population Stability for Model Monitoring` , so, the PAI value that we have got (1.78) indicates that the predictive\n",
    "accuracy of the model has deteriorated significantly, so the model should be trained again using the New Data Set instead the Old."
   ]
  }
 ],
 "metadata": {
  "kernelspec": {
   "display_name": "Python 3.10.0 64-bit",
   "language": "python",
   "name": "python3"
  },
  "language_info": {
   "codemirror_mode": {
    "name": "ipython",
    "version": 3
   },
   "file_extension": ".py",
   "mimetype": "text/x-python",
   "name": "python",
   "nbconvert_exporter": "python",
   "pygments_lexer": "ipython3",
   "version": "3.10.0"
  },
  "orig_nbformat": 4,
  "vscode": {
   "interpreter": {
    "hash": "c63d8c7d738c2960218a10995aedf0a7f67a49a231e71037adf0440953cdb45b"
   }
  }
 },
 "nbformat": 4,
 "nbformat_minor": 2
}
