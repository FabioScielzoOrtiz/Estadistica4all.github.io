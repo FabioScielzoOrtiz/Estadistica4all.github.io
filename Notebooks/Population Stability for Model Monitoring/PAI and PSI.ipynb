{
 "cells": [
  {
   "cell_type": "markdown",
   "metadata": {},
   "source": [
    "### Review of the paper `The Population Accuracy Index: A New Measure of Population Stability for Model Monitoring`"
   ]
  },
  {
   "cell_type": "markdown",
   "metadata": {},
   "source": []
  },
  {
   "cell_type": "markdown",
   "metadata": {},
   "source": [
    "Resumen: Los modelos de riesgo desarrollados en un conjunto de datos a menudo se aplican a nuevos datos y, en tales casos,\n",
    "es prudente comprobar que el modelo es adecuado para los nuevos datos. \n",
    "Una aplicación importante está en\n",
    "la industria bancaria, donde se aplican modelos estadísticos a los préstamos para determinar provisiones y\n",
    "requisitos de capital. Estos modelos se desarrollan sobre datos históricos, y la normativa exige su\n",
    "monitoreo para garantizar que sigan siendo válidos en las carteras actuales, a menudo años desde que los modelos fueron\n",
    "desarrollado. \n",
    "\n",
    "El Índice de Estabilidad de la Población (PSI) es un estándar de la industria para medir si la\n",
    "distribución de los datos actuales ha cambiado significativamente de la distribución de datos utilizados para desarrollar\n",
    "el modelo. Este artículo explora varias desventajas del PSI y propone la Precisión de Predicción\n",
    "Índice (PAI) como alternativa. Las propiedades superiores y la interpretación del PAI se discuten y\n",
    "se concluye que el PAI puede resumir con mayor precisión el nivel de estabilidad de la población, ayudando\n",
    "los analistas y administradores de riesgos a determinar si el modelo sigue siendo adecuado para su propósito.\n",
    "\n"
   ]
  },
  {
   "cell_type": "markdown",
   "metadata": {},
   "source": [
    "1. Introducción\n",
    "\n",
    "Para los bancos, sus préstamos no son solo activos, ya que producen ingresos, sino también pasivos cuando\n",
    "los clientes incumplen y no pagan su deuda. En muchas jurisdicciones, estos pasivos se miden por\n",
    "procedimientos en regulaciones como el Acuerdo de Basilea (Comité de Supervisión Bancaria de Basilea 2006) para\n",
    "capital y las Normas Internacionales de Información Financiera (NIIF 9) para provisiones (International\n",
    "Consejo de Normas de Contabilidad 2014). Se requiere capital en caso de una grave recesión económica, mientras que\n",
    "las provisiones reflejan las pérdidas esperadas en las condiciones económicas actuales. Como estas valoraciones forman parte del\n",
    "valor de la empresa, su precisión es importante para muchas partes interesadas. Estas partes interesadas incluyen la\n",
    "el propio banco (por ejemplo, para tomar decisiones de adquisición rentables para nuevos préstamos); auditores externos (que\n",
    "evaluar la exactitud y confiabilidad de los estados financieros); reguladores (que evalúan la sostenibilidad de\n",
    "el Banco); e inversores (que confían en esta información para tomar decisiones de inversión).\n",
    "Tanto el Acuerdo de Basilea como la NIIF 9 adoptan un enfoque estándar de evaluación del riesgo de préstamos con\n",
    "tres componentes: probabilidad de incumplimiento (PD), exposición en caso de incumplimiento (EAD) y pérdida en caso de incumplimiento (LGD).\n",
    "\n",
    "El desarrollo de modelos en la industria bancaria está bien cubierto en la literatura (Siddiqi 2005), pero un\n",
    "actividad regulada igualmente importante es el control continuo de si el modelo sigue siendo adecuado\n",
    "(adecuado para el propósito). "
   ]
  },
  {
   "cell_type": "markdown",
   "metadata": {},
   "source": [
    "\n",
    "La estabilidad y el rendimiento (es decir, la precisión de la predicción) son extremadamente importantes ya que proporcionan\n",
    "información sobre la calidad de los modelos de puntuación. Como tales, deben ser rastreados y\n",
    "analizada al menos mensualmente por los bancos, independientemente del ejercicio de validación. \n",
    "\n",
    "Este aspecto generalmente lo realizan interna y externamente banqueros, auditores y reguladores.\n",
    "\n",
    "El monitoreo es importante porque un modelo desarrollado años antes puede que ya no sea adecuado para\n",
    "la cartera actual. Una razón de esto es que el tipo de clientes dentro de la cartera puede diferir de\n",
    "los tipos de clientes disponibles para desarrollar el modelo.\n",
    "\n",
    "La estabilidad de la población se refiere a si las características de la cartera (especialmente la distribución\n",
    "de variables explicativas) está cambiando con el tiempo. Cuando esta distribución cambia (baja población\n",
    "estabilidad) existe más preocupación sobre si el modelo es actualmente adecuado para su propósito ya que los datos utilizados\n",
    "para desarrollar el modelo difiere de los datos a los que se aplica el modelo. Aplicando el modelo a estos\n",
    "los nuevos tipos de clientes pueden implicar la extrapolación y, por lo tanto, una menor confianza en los resultados del modelo.\n",
    "\n",
    "Hay otras características de un modelo que requieren monitoreo para asegurar que el modelo sea\n",
    "adecuado para el propósito. Estos incluyen calibración (si el modelo es imparcial) y discriminación (si\n",
    "el modelo clasifica correctamente los préstamos de mejor a peor). Si bien estas medidas son importantes,\n",
    "requieren resultados conocidos. \n",
    "\n",
    "Por ejemplo, un modelo de PD que predice incumplimientos en una ventana de un año\n",
    "debe evaluar los préstamos de al menos un año de antigüedad para determinar la calibración y la discriminación. \n",
    "\n",
    "Por lo tanto,\n",
    "las conclusiones de estas medidas tienen al menos un año de atraso en comparación con la cartera actual.\n",
    "\n",
    "La estabilidad de la población es importante ya que no requiere retrasos; se puede medir con la corriente\n",
    "cartera ya que no se requiere el resultado. Por lo tanto, es importante monitorear la estabilidad de la población.\n",
    "para obtener información sobre si la cartera actual (en lugar de la cartera de hace un año)\n",
    "es apto para el propósito.\n",
    "\n",
    "Este trabajo se enfoca en la medición de la estabilidad de la población, especialmente la Estabilidad de la Población\n",
    "(PSI) que se ha convertido en un estándar de la industria. Se exploran las deficiencias en el PSI y se\n",
    "Se introduce una alternativa que tiene propiedades superiores y cuyos valores son más directamente interpretables.\n",
    "\n",
    "También existen pruebas estadísticas para probar la hipótesis nula de que la distribución de los datos de desarrollo y\n",
    "la distribución de los datos de revisión son iguales. Los ejemplos incluyen la prueba de Kolmogorov-Smirnov para\n",
    "datos numéricos o una prueba de chi-cuadrado para datos categóricos. No los consideramos apropiados porque\n",
    "resumen la cantidad de evidencia contra la hipótesis nula y dependen demasiado del tamaño de la muestra.\n",
    "En muestras grandes, las diferencias pequeñas y sin importancia en las distribuciones pueden ser estadísticamente significativas,\n",
    "mientras que en muestras pequeñas, las diferencias grandes e importantes pueden ser estadísticamente insignificantes. Nosotros por lo tanto\n",
    "no los considere más en este documento.\n"
   ]
  },
  {
   "cell_type": "markdown",
   "metadata": {},
   "source": [
    "1.1. Modelos y Notación\n",
    "\n",
    "Las tareas de desarrollo de modelos son extensas y están bien cubiertas en la literatura, de la cual Siddiqi (2005) es particularmente relevante para la industria bancaria. Brevemente, se utilizan datos históricos empíricos para estimar relaciones entre la respuesta/output (como el incumplimiento en el caso de un modelo PD) y las variables explicativas\n",
    "(como la situación laboral del cliente).\n",
    "\n",
    "Los modelos de PD típicamente estiman las probabilidades de incumplimiento\n",
    "dentro de un año, por lo que para el desarrollo del modelo, las variables explicativas deben tener al menos un año de antigüedad (por lo que el\n",
    "se conoce el resultado). El desarrollo del modelo luego busca y captura en forma matemática,\n",
    "relaciones en los datos entre las variables explicativas y el resultado. Por ejemplo, esto puede\n",
    "tomar la forma de un modelo de regresión logística  que predice el incumplimiento. \n"
   ]
  },
  {
   "cell_type": "markdown",
   "metadata": {},
   "source": [
    "\n",
    "Esta forma matemática a menudo toma la forma de una regresión donde alguna medida (posiblemente transformada) de la respuesta es igual a\n",
    "\n",
    "$$\n",
    " \\beta_0 \\cdot x_{i0} + \\beta_1\\cdot x_{i1} + ... + \\beta_k \\cdot x_{ik} \\hspace{0.5cm} (1)\n",
    "$$\n",
    "\n",
    " \n",
    "donde $\\beta_0 , \\beta_1,...,\\beta_k$ son coeficientes estimados y $x_{i0},x_{i1},...,x_{ik}$ son los valores de las variables explicativas (predictores)\n",
    " para la i-ésima observación (típicamente $x_{i0}$ se define como siempre igual a 1). \n"
   ]
  },
  {
   "cell_type": "markdown",
   "metadata": {},
   "source": [
    "\n",
    "Por ejemplo, una regresión logística utilizada para predecir el incumplimiento utiliza la Ecuación (1) para predecir el\n",
    "log-odds of default (definido como el logaritmo neperiano de la relación entre la probabilidad de incumplimiento y la\n",
    "probabilidad de no incumplimiento).\n",
    "\n",
    "Las variables explicativas tienen varios tipos básicos cuyos tratamientos se resumen aquí porque estos afectan los detalles presentados más adelante (ver Pyle (1999) para más detalles de estos temas y tratamientos).\n",
    "En particular, las variables pueden ser categóricas o numéricas. Variables categóricas (como el tipo de empleo) toman valores de una lista (como comerciante, profesional, jubilado, estudiante, etc.). Este tipo de variables deben introducirse en el modelo a traves de variables dummies asociadas a sus categorias, pero sin meter la asociada a una de las categorias (la cual se tomaría como categoria de referencia), asi que si tiene $h$ categorias en el modelo se meten dummies asociadas a $h-1$ de esas $h$ categorias."
   ]
  },
  {
   "cell_type": "markdown",
   "metadata": {},
   "source": [
    "\n",
    "Las variables numéricas se definen en términos numéricos. Por ejemplo, la relación préstamo-valor (LVR)\n",
    "se define como el valor del préstamo dividido por el valor del activo que garantiza el préstamo.  Este tipo de variables se introducen directamente en el modelo, si acaso después de una transformación numérica simple (como logaritmos o\n",
    "Winsorizing). O tambien pueden ser transformadas en variables categoricas  y darles el tratamiento respectivo antes mencionado.  \n",
    "\n",
    "Este es un tema clave no solo porque el depósito es una práctica común en la banca, sino porque el PSI solo se define para variables categóricas (o variables cuantitativas categorizadas).\n",
    "\n"
   ]
  },
  {
   "cell_type": "markdown",
   "metadata": {},
   "source": [
    "\n",
    "1.2. El Índice de Estabilidad de la Población (PSI)\n",
    "\n",
    "El PSI está estrechamente relacionado con medidas de entropía bien establecidas y, esencialmente, es una medida simétrica de la diferencia entre dos distribuciones estadisticas.\n",
    "\n",
    "El índice llamado específicamente ‘Población\n",
    "índice de estabilidad” (PSI) se encuentra en Karakoulas (2004), como una “técnica de diagnóstico para monitorear cambios\n",
    "en distribuciones\". También se describe en Siddiqi (2005). La misma formulación ha aparecido en la literatura estadística.\n",
    "como la \"divergencia J\" (Lin 1991, quien a su vez hace referencia a Je reys 1946), y está estrechamente relacionado con la\n",
    "Divergencia de Jensen-Shannon.\n"
   ]
  },
  {
   "cell_type": "markdown",
   "metadata": {},
   "source": [
    "Supongamos que tenemos una variable categorica $X_j$ con $h$ categorias $( \\hspace{0.1cm} Range(X_j)=\\lbrace c_1 , c_2,...,c_h\\rbrace \\hspace{0.1cm} )$\n",
    "\n",
    "Se define el population stability index $(PSI)$ de la variable categorica $X_j$ como :\n",
    "\n",
    "$$ PSI(X_j) = \\sum_{i=1}^{h} (O_i - E_i) \\cdot ln\\left(\\dfrac{O_i}{E_i} \\right)"
   ]
  },
  {
   "cell_type": "markdown",
   "metadata": {},
   "source": [
    "Donde:\n",
    "\n",
    "$O_i$ es la frecuencia relativa de la categoria $c_i$ de $X_j$ en el **nuevo** data-set\n",
    "\n",
    "$E_i$ es la frecuencia relativa de la categoria $c_i$ de $X_j$ en el data-set **inicial**"
   ]
  },
  {
   "cell_type": "markdown",
   "metadata": {},
   "source": []
  },
  {
   "cell_type": "markdown",
   "metadata": {},
   "source": [
    "**Propiedades :**\n"
   ]
  },
  {
   "cell_type": "markdown",
   "metadata": {},
   "source": [
    "\n",
    "- $PSI \\geqslant 0$\n"
   ]
  },
  {
   "cell_type": "markdown",
   "metadata": {},
   "source": [
    "\n",
    "Justificaacion:\n",
    "\n",
    "Si $ (O_i - E_i) \\geqslant 0 \\Rightarrow ln\\left(\\dfrac{O_i}{E_i} \\right) \\geqslant 0  \\Rightarrow (O_i - E_i) \\cdot ln\\left(\\dfrac{O_i}{E_i} \\right) \\geqslant 0 $ \n",
    "\n",
    "Si $ (O_i - E_i) \\leqslant 0 \\Rightarrow ln\\left(\\dfrac{O_i}{E_i} \\right) \\leqslant 0  \\Rightarrow (O_i - E_i) \\cdot ln\\left(\\dfrac{O_i}{E_i} \\right) \\geqslant 0 $ \n"
   ]
  },
  {
   "cell_type": "markdown",
   "metadata": {},
   "source": []
  },
  {
   "cell_type": "markdown",
   "metadata": {},
   "source": [
    "- Si hay muchas diferencias entre los $O_i$ y $E_i$ (positivas y/o negativas), el $PSI$ sera alto.\n"
   ]
  },
  {
   "cell_type": "markdown",
   "metadata": {},
   "source": [
    "\n",
    " Justificación:\n",
    "\n",
    "Si $(O_i - E_i)  \\rightarrow \\infty \\Rightarrow ln\\left(\\dfrac{O_i}{E_i} \\right)  \\rightarrow \\infty \\Rightarrow (O_i - E_i) \\cdot ln\\left(\\dfrac{O_i}{E_i} \\right) \\rightarrow \\infty $   \n",
    "\n",
    "Si $(O_i - E_i)  \\rightarrow - \\infty \\Rightarrow ln\\left(\\dfrac{O_i}{E_i} \\right)  \\rightarrow - \\infty \\Rightarrow (O_i - E_i) \\cdot ln\\left(\\dfrac{O_i}{E_i} \\right) \\rightarrow \\infty $ \n",
    "\n",
    "Si $(O_i - E_i)  \\rightarrow 0 \\Rightarrow ln\\left(\\dfrac{O_i}{E_i} \\right)  \\rightarrow 0 \\Rightarrow (O_i - E_i) \\cdot ln\\left(\\dfrac{O_i}{E_i} \\right) \\rightarrow 0 $\n",
    "\n",
    " "
   ]
  },
  {
   "cell_type": "markdown",
   "metadata": {},
   "source": []
  },
  {
   "cell_type": "markdown",
   "metadata": {},
   "source": [
    "Un valor PSI de 0 implica que las distribuciones observadas y esperadas son idénticas\n",
    "\n",
    "El valor del PSI aumenta a medida que las dos distribuciones divergen de los datos (iniciales vs nuevos). \n"
   ]
  },
  {
   "cell_type": "markdown",
   "metadata": {},
   "source": [
    "\n",
    "Siddiqi (2005) interpretó los valores de PSI de la siguiente manera:\n",
    "\n",
    "- $PSI < 10\\% (0.1) \\Rightarrow $ no muestran cambios significativos; \n",
    "\n",
    "- $PSI \\in [10\\% , 25\\% ] [0.1,0.25] \\Rightarrow $  pequeño cambio que requiere\n",
    "investigación\n",
    "\n",
    "- $PSI > 25\\% (0.25) \\Rightarrow $  muestran un cambio significativo. \n"
   ]
  },
  {
   "cell_type": "markdown",
   "metadata": {},
   "source": [
    "\n",
    "Tenga en cuenta que el PSI es grande cuando un\n",
    "categoría tiene la frecuencia relativa observada o esperada cercana a cero y no está definida si\n",
    "o la frecuencia relativa es igual a 0. Por lo tanto, un argumento de límite sugiere que el PSI podría interpretarse como\n",
    "que tiene un valor infinito cuando una de las frecuencias relativas es igual a cero.\n"
   ]
  },
  {
   "cell_type": "markdown",
   "metadata": {},
   "source": [
    "El cálculo del PSI se ilustra con un ejemplo hipotético en la Tabla 1. En el ejemplo se ha obtenido un PSI de 0.25 , debido\n",
    "principalmente de las altas frecuencias observadas del 21% en las categorías 1 y 10. \n",
    "Por lo tanto, la interpretación siguiendo a Siddiqi (2005) se puede interpretar que la distribución de los datos ha cambiado significativamente."
   ]
  },
  {
   "cell_type": "markdown",
   "metadata": {},
   "source": [
    "<img src=\"tabla 1.jpg\"  width=1000 height=180>\n"
   ]
  },
  {
   "cell_type": "markdown",
   "metadata": {},
   "source": []
  },
  {
   "cell_type": "markdown",
   "metadata": {},
   "source": [
    "La tabla 2 muestra el calculo de PSI para un segundo ejemplo hipotetico en el que tambien se obtiene un PSI = 0.25. \n",
    "\n",
    "Los valores somilares de PSI en los dos ejemplos son interpretados como que en media las desviaciones entre los data-sets son similares en magnitud."
   ]
  },
  {
   "cell_type": "markdown",
   "metadata": {},
   "source": [
    "<img src=\"tabla 2.jpg\"  width=1000 height=180>\n"
   ]
  },
  {
   "cell_type": "markdown",
   "metadata": {},
   "source": []
  },
  {
   "cell_type": "markdown",
   "metadata": {},
   "source": [
    "The si"
   ]
  }
 ],
 "metadata": {
  "kernelspec": {
   "display_name": "Python 3.10.0 64-bit",
   "language": "python",
   "name": "python3"
  },
  "language_info": {
   "codemirror_mode": {
    "name": "ipython",
    "version": 3
   },
   "file_extension": ".py",
   "mimetype": "text/x-python",
   "name": "python",
   "nbconvert_exporter": "python",
   "pygments_lexer": "ipython3",
   "version": "3.10.0"
  },
  "orig_nbformat": 4,
  "vscode": {
   "interpreter": {
    "hash": "c63d8c7d738c2960218a10995aedf0a7f67a49a231e71037adf0440953cdb45b"
   }
  }
 },
 "nbformat": 4,
 "nbformat_minor": 2
}
